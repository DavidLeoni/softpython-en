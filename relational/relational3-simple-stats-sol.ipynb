{
 "cells": [
  {
   "cell_type": "code",
   "execution_count": 1,
   "metadata": {
    "nbsphinx": "hidden"
   },
   "outputs": [],
   "source": [
    "#Please execute this cell\n",
    "import jupman\n",
    "from soft import draw_mat, draw_adj, draw_nx\n",
    "%matplotlib inline"
   ]
  },
  {
   "cell_type": "markdown",
   "metadata": {},
   "source": [
    "# Relational data 3 - simple statistics\n",
    "\n",
    "## [Download exercises zip](../_static/generated/relational.zip)\n",
    "\n",
    "[Browse files online](https://github.com/DavidLeoni/softpython-en/tree/master/relational)"
   ]
  },
  {
   "cell_type": "markdown",
   "metadata": {},
   "source": [
    "We will now compute simple statistics about graphs (they don't require node discovery algorithms)."
   ]
  },
  {
   "cell_type": "markdown",
   "metadata": {},
   "source": [
    "## What to do\n",
    "\n",
    "- unzip exercises in a folder, you should get something like this: \n",
    "\n",
    "```\n",
    "relational\n",
    "    relational1-intro.ipynb\n",
    "    relational1-intro-sol.ipynb\n",
    "    relational2-binrel.ipynb \n",
    "    relational2-binrel-sol.ipynb\n",
    "    relational3-simple-stats.ipynb\n",
    "    relational3-simple-stats-sol.ipynb    \n",
    "    relational4-chal.ipynb\n",
    "    jupman.py\n",
    "    soft.py      \n",
    "```\n",
    "\n",
    "<div class=\"alert alert-warning\">\n",
    "\n",
    "**WARNING**: to correctly visualize the notebook, it MUST be in an unzipped folder !\n",
    "</div>\n",
    "\n",
    "\n",
    "- open Jupyter Notebook from that folder. Two things should open, first a console and then browser. The browser should show a file list: navigate the list and open the notebook `relational/relational3-simple-stats.ipynb`\n",
    "\n",
    "<div class=\"alert alert-warning\">\n",
    "\n",
    "**WARNING 2**: DO NOT use the _Upload_ button in Jupyter, instead navigate in Jupyter browser to the unzipped folder !\n",
    "</div>\n",
    "\n",
    "\n",
    "- Go on reading that notebook, and follow instuctions inside.\n",
    "\n",
    "\n",
    "Shortcut keys:\n",
    "\n",
    "- to execute Python code inside a Jupyter cell, press `Control + Enter`\n",
    "- to execute Python code inside a Jupyter cell AND select next cell, press `Shift + Enter`\n",
    "- to execute Python code inside a Jupyter cell AND a create a new cell aftwerwards, press `Alt + Enter`\n",
    "- If the notebooks look stuck, try to select `Kernel -> Restart`\n"
   ]
  },
  {
   "cell_type": "markdown",
   "metadata": {},
   "source": [
    "\n",
    "## Outdegrees and indegrees\n",
    "\n",
    "The _out-degree_ $\\deg^+(v)$ of a node $v$ is the number of edges going out from it, while the _in-degree_ $\\deg^-(v)$ is the number of edges going into it. \n",
    "\n",
    "_NOTE:_ the out-degree and in-degree are _not_ the sum of weights ! They just count presence or absence of edges.\n",
    "\n",
    "For example, consider this graph:\n"
   ]
  },
  {
   "cell_type": "code",
   "execution_count": 2,
   "metadata": {},
   "outputs": [
    {
     "data": {
      "image/png": "[encoded data removed]",
      "text/plain": [
       "<IPython.core.display.Image object>"
      ]
     },
     "metadata": {},
     "output_type": "display_data"
    }
   ],
   "source": [
    "from soft import draw_adj\n",
    "\n",
    "d = {\n",
    "    'a' : ['b','c'],  \n",
    "    'b' : ['b','d'],  \n",
    "    'c' : ['a','b','c','d'],  \n",
    "    'd' : ['b','d']   \n",
    "}\n",
    "\n",
    "\n",
    "draw_adj(d)"
   ]
  },
  {
   "cell_type": "markdown",
   "metadata": {},
   "source": [
    "The out-degree of `d` is 2, because it has one outgoing edge to `b` but also an outgoing edge to itself. The indegree of `d` is 3, because it has an edge coming from `b`, one from `c` and one self-loop from `d` itself."
   ]
  },
  {
   "cell_type": "markdown",
   "metadata": {},
   "source": [
    "### Exercise - outdegree_adj\n",
    "\n",
    "✪ RETURN the outdegree of a node from graph `d` represented as a dictionary of adjacency lists\n",
    "    \n",
    "- If `v` is not a vertex of `d`, raise `ValueError`"
   ]
  },
  {
   "cell_type": "raw",
   "id": "15586641",
   "metadata": {
    "format": "text/html"
   },
   "source": [
    "<a  class=\"jupman-sol jupman-sol-toggler\" \n",
    " onclick=\"jupman.toggleSolution(this);\" \n",
    " data-jupman-show=\"Show solution\" data-jupman-hide=\"Hide\">Show solution</a><div class=\"jupman-sol jupman-sol-code\" style=\"display:none\">  "
   ]
  },
  {
   "cell_type": "code",
   "execution_count": 3,
   "metadata": {},
   "outputs": [],
   "source": [
    "def outdegree_adj(d, v):    \n",
    "    \n",
    "    if v not in d:\n",
    "        raise ValueError(\"Vertex %s is not in %s\" % (v, d))\n",
    "    \n",
    "    return len(d[v])\n",
    "    \n",
    "\n",
    "try: \n",
    "    outdegree_adj({'a':[]},'b')\n",
    "    raise Exception(\"SHOULD HAVE FAILED !\")  \n",
    "except ValueError: \n",
    "    \"passed test\"\n",
    "    \n",
    "d1 = { 'a':[] }    \n",
    "assert outdegree_adj(d1,'a') == 0\n",
    "\n",
    "d2 = { 'a':['a'] }\n",
    "assert outdegree_adj(d2,'a') == 1\n",
    "\n",
    "d3 = { 'a':['a','b'],\n",
    "       'b':[] }\n",
    "assert outdegree_adj(d3,'a') == 2\n",
    "\n",
    "d4 = { 'a':['a','b'],\n",
    "       'b':['a','b','c'],\n",
    "       'c':[] }\n",
    "assert outdegree_adj(d4,'b') == 3"
   ]
  },
  {
   "cell_type": "raw",
   "id": "44012366",
   "metadata": {
    "format": "text/html"
   },
   "source": [
    "</div>"
   ]
  },
  {
   "cell_type": "code",
   "execution_count": 3,
   "metadata": {},
   "outputs": [],
   "source": [
    "def outdegree_adj(d, v):    \n",
    "    raise Exception('TODO IMPLEMENT ME !')\n",
    "\n",
    "try: \n",
    "    outdegree_adj({'a':[]},'b')\n",
    "    raise Exception(\"SHOULD HAVE FAILED !\")  \n",
    "except ValueError: \n",
    "    \"passed test\"\n",
    "    \n",
    "d1 = { 'a':[] }    \n",
    "assert outdegree_adj(d1,'a') == 0\n",
    "\n",
    "d2 = { 'a':['a'] }\n",
    "assert outdegree_adj(d2,'a') == 1\n",
    "\n",
    "d3 = { 'a':['a','b'],\n",
    "       'b':[] }\n",
    "assert outdegree_adj(d3,'a') == 2\n",
    "\n",
    "d4 = { 'a':['a','b'],\n",
    "       'b':['a','b','c'],\n",
    "       'c':[] }\n",
    "assert outdegree_adj(d4,'b') == 3"
   ]
  },
  {
   "cell_type": "markdown",
   "metadata": {},
   "source": [
    "### Exercise - outdegree_mat\n",
    "\n",
    "✪✪ RETURN the outdegree of a node `i` from a graph boolean matrix $n$ x $n$ represented as a list of lists\n",
    "    \n",
    "- If `i` is not a node of the graph, raise `ValueError`\n",
    "\n"
   ]
  },
  {
   "cell_type": "raw",
   "id": "1e966940",
   "metadata": {
    "format": "text/html"
   },
   "source": [
    "<a  class=\"jupman-sol jupman-sol-toggler\" \n",
    " onclick=\"jupman.toggleSolution(this);\" \n",
    " data-jupman-show=\"Show solution\" data-jupman-hide=\"Hide\">Show solution</a><div class=\"jupman-sol jupman-sol-code\" style=\"display:none\">  "
   ]
  },
  {
   "cell_type": "code",
   "execution_count": 4,
   "metadata": {},
   "outputs": [],
   "source": [
    "def outdegree_mat(mat, i):\n",
    "    \n",
    "    n = len(mat)\n",
    "    if i < 0 or i > n: \n",
    "        raise ValueError(\"i %s is not a row of matrix %s\" % (i, mat))\n",
    "    ret = 0    \n",
    "    for j in range(n):\n",
    "        if mat[i][j]:\n",
    "            ret += 1\n",
    "    return ret\n",
    "    \n",
    "\n",
    "try: \n",
    "    outdegree_mat([[False]],7)\n",
    "    raise Exception(\"SHOULD HAVE FAILED !\")  \n",
    "except ValueError: \n",
    "    \"passed test\"\n",
    "\n",
    "try: \n",
    "    outdegree_mat([[False]],-1)\n",
    "    raise Exception(\"SHOULD HAVE FAILED !\")  \n",
    "except ValueError: \n",
    "    \"passed test\"\n",
    "\n",
    "m1 = [ [False] ]    \n",
    "assert outdegree_mat( m1, 0) == 0\n",
    "\n",
    "m2 = [ [True] ]\n",
    "assert outdegree_mat( m2, 0) == 1\n",
    "\n",
    "m3 = [ [True, True],\n",
    "       [False, False] ]\n",
    "assert outdegree_mat( m3, 0) == 2\n",
    "\n",
    "m4 = [ [True, True, False],\n",
    "       [True, True, True],\n",
    "       [False, False, False] ]\n",
    "assert outdegree_mat(m4,1) == 3"
   ]
  },
  {
   "cell_type": "raw",
   "id": "2d2edece",
   "metadata": {
    "format": "text/html"
   },
   "source": [
    "</div>"
   ]
  },
  {
   "cell_type": "code",
   "execution_count": 4,
   "metadata": {},
   "outputs": [],
   "source": [
    "def outdegree_mat(mat, i):\n",
    "    raise Exception('TODO IMPLEMENT ME !')\n",
    "\n",
    "try: \n",
    "    outdegree_mat([[False]],7)\n",
    "    raise Exception(\"SHOULD HAVE FAILED !\")  \n",
    "except ValueError: \n",
    "    \"passed test\"\n",
    "\n",
    "try: \n",
    "    outdegree_mat([[False]],-1)\n",
    "    raise Exception(\"SHOULD HAVE FAILED !\")  \n",
    "except ValueError: \n",
    "    \"passed test\"\n",
    "\n",
    "m1 = [ [False] ]    \n",
    "assert outdegree_mat( m1, 0) == 0\n",
    "\n",
    "m2 = [ [True] ]\n",
    "assert outdegree_mat( m2, 0) == 1\n",
    "\n",
    "m3 = [ [True, True],\n",
    "       [False, False] ]\n",
    "assert outdegree_mat( m3, 0) == 2\n",
    "\n",
    "m4 = [ [True, True, False],\n",
    "       [True, True, True],\n",
    "       [False, False, False] ]\n",
    "assert outdegree_mat(m4,1) == 3"
   ]
  },
  {
   "cell_type": "markdown",
   "metadata": {},
   "source": [
    "### Exercise - outdegree_avg\n",
    "\n",
    "✪✪ RETURN the average outdegree of nodes in graph `d`, represented as dictionary of adjacency lists. \n",
    "    \n",
    "- Assume all nodes are in the keys.\n",
    "\n"
   ]
  },
  {
   "cell_type": "raw",
   "id": "ddc5fab6",
   "metadata": {
    "format": "text/html"
   },
   "source": [
    "<a  class=\"jupman-sol jupman-sol-toggler\" \n",
    " onclick=\"jupman.toggleSolution(this);\" \n",
    " data-jupman-show=\"Show solution\" data-jupman-hide=\"Hide\">Show solution</a><div class=\"jupman-sol jupman-sol-code\" style=\"display:none\">  "
   ]
  },
  {
   "cell_type": "code",
   "execution_count": 5,
   "metadata": {},
   "outputs": [],
   "source": [
    "def outdegree_avg(d):\n",
    "    \n",
    "    s = 0\n",
    "    for k in d: \n",
    "        s += len(d[k])\n",
    "    return s / len(d)\n",
    "    \n",
    "    \n",
    "d1 = { 'a':[] }    \n",
    "assert outdegree_avg(d1) == 0\n",
    "\n",
    "d2 = { 'a':['a'] }\n",
    "assert round( outdegree_avg(d2), 2) == 1.00 / 1.00\n",
    "\n",
    "d3 = { 'a':['a','b'],\n",
    "       'b':[] }\n",
    "assert round( outdegree_avg(d3), 2) == (2 + 0) / 2\n",
    "\n",
    "d4 = { 'a':['a','b'],\n",
    "       'b':['a','b','c'],\n",
    "       'c':[] }\n",
    "assert round( outdegree_avg(d4), 2) == round( (2 + 3) / 3 , 2)"
   ]
  },
  {
   "cell_type": "raw",
   "id": "0c223908",
   "metadata": {
    "format": "text/html"
   },
   "source": [
    "</div>"
   ]
  },
  {
   "cell_type": "code",
   "execution_count": 5,
   "metadata": {},
   "outputs": [],
   "source": [
    "def outdegree_avg(d):\n",
    "    raise Exception('TODO IMPLEMENT ME !')\n",
    "    \n",
    "d1 = { 'a':[] }    \n",
    "assert outdegree_avg(d1) == 0\n",
    "\n",
    "d2 = { 'a':['a'] }\n",
    "assert round( outdegree_avg(d2), 2) == 1.00 / 1.00\n",
    "\n",
    "d3 = { 'a':['a','b'],\n",
    "       'b':[] }\n",
    "assert round( outdegree_avg(d3), 2) == (2 + 0) / 2\n",
    "\n",
    "d4 = { 'a':['a','b'],\n",
    "       'b':['a','b','c'],\n",
    "       'c':[] }\n",
    "assert round( outdegree_avg(d4), 2) == round( (2 + 3) / 3 , 2)"
   ]
  },
  {
   "cell_type": "markdown",
   "metadata": {},
   "source": [
    "### Exercise - indegree_adj\n",
    "\n",
    "The indegree of a node `v` is the number of edges going into it. \n",
    "\n",
    "✪✪  RETURN the indegree of node `v` in graph `d`, represented as a dictionary of adjacency lists\n",
    "    \n",
    "- If `v` is not a node of the graph, raise `ValueError`"
   ]
  },
  {
   "cell_type": "raw",
   "id": "5d257074",
   "metadata": {
    "format": "text/html"
   },
   "source": [
    "<a  class=\"jupman-sol jupman-sol-toggler\" \n",
    " onclick=\"jupman.toggleSolution(this);\" \n",
    " data-jupman-show=\"Show solution\" data-jupman-hide=\"Hide\">Show solution</a><div class=\"jupman-sol jupman-sol-code\" style=\"display:none\">  "
   ]
  },
  {
   "cell_type": "code",
   "execution_count": 6,
   "metadata": {},
   "outputs": [],
   "source": [
    "def indegree_adj(d, v):\n",
    "    \n",
    "    if v not in d:\n",
    "        raise ValueError(\"Vertex %s is not in %s\" % (v, d))\n",
    "    ret = 0\n",
    "    for k in d:\n",
    "        if v in d[k]:\n",
    "            ret += 1\n",
    "    return ret\n",
    "    \n",
    "    \n",
    "try: \n",
    "    indegree_adj({'a':[]},'b')\n",
    "    raise Exception(\"SHOULD HAVE FAILED !\")  \n",
    "except ValueError: \n",
    "    \"passed test\"\n",
    "\n",
    "d1 = { 'a':[] }\n",
    "assert indegree_adj(d1,'a') == 0\n",
    "\n",
    "d2 = {'a':['a']}\n",
    "assert indegree_adj(d2,'a') == 1\n",
    "\n",
    "d3 = { 'a':['a','b'],\n",
    "       'b':[]}\n",
    "assert indegree_adj(d3, 'a') == 1\n",
    "\n",
    "d4 = { 'a':['a','b'],\n",
    "       'b':['a','b','c'],\n",
    "       'c':[]}\n",
    "assert indegree_adj(d4, 'b') == 2"
   ]
  },
  {
   "cell_type": "raw",
   "id": "3276452b",
   "metadata": {
    "format": "text/html"
   },
   "source": [
    "</div>"
   ]
  },
  {
   "cell_type": "code",
   "execution_count": 6,
   "metadata": {},
   "outputs": [],
   "source": [
    "def indegree_adj(d, v):\n",
    "    raise Exception('TODO IMPLEMENT ME !')\n",
    "    \n",
    "try: \n",
    "    indegree_adj({'a':[]},'b')\n",
    "    raise Exception(\"SHOULD HAVE FAILED !\")  \n",
    "except ValueError: \n",
    "    \"passed test\"\n",
    "\n",
    "d1 = { 'a':[] }\n",
    "assert indegree_adj(d1,'a') == 0\n",
    "\n",
    "d2 = {'a':['a']}\n",
    "assert indegree_adj(d2,'a') == 1\n",
    "\n",
    "d3 = { 'a':['a','b'],\n",
    "       'b':[]}\n",
    "assert indegree_adj(d3, 'a') == 1\n",
    "\n",
    "d4 = { 'a':['a','b'],\n",
    "       'b':['a','b','c'],\n",
    "       'c':[]}\n",
    "assert indegree_adj(d4, 'b') == 2"
   ]
  },
  {
   "cell_type": "markdown",
   "metadata": {},
   "source": [
    "### Exercise - indegree_mat\n",
    "\n",
    "✪✪ RETURN the indegree of a node `i` from a graph boolean matrix nxn represented as a list of lists\n",
    "    \n",
    "- If `i` is not a node of the graph, raise `ValueError`"
   ]
  },
  {
   "cell_type": "raw",
   "id": "7d5dce49",
   "metadata": {
    "format": "text/html"
   },
   "source": [
    "<a  class=\"jupman-sol jupman-sol-toggler\" \n",
    " onclick=\"jupman.toggleSolution(this);\" \n",
    " data-jupman-show=\"Show solution\" data-jupman-hide=\"Hide\">Show solution</a><div class=\"jupman-sol jupman-sol-code\" style=\"display:none\">  "
   ]
  },
  {
   "cell_type": "code",
   "execution_count": 7,
   "metadata": {},
   "outputs": [],
   "source": [
    "def indegree_mat(mat, i):\n",
    "    \n",
    "    n = len(mat)\n",
    "    if i < 0 or i > n: \n",
    "        raise ValueError(\"i %s is not a row of matrix %s\" % (i, mat))\n",
    "    ret = 0    \n",
    "    for k in range(n):\n",
    "        if mat[k][i]:\n",
    "            ret += 1\n",
    "    return ret\n",
    "    \n",
    "\n",
    "try: \n",
    "    indegree_mat([[False]],7)\n",
    "    raise Exception(\"SHOULD HAVE FAILED !\")  \n",
    "except ValueError: \n",
    "    \"passed test\"\n",
    "    \n",
    "assert indegree_mat(\n",
    "        [\n",
    "            [False]\n",
    "        ]\n",
    ",0) == 0\n",
    "\n",
    "m1 = [ [True] ]\n",
    "assert indegree_mat(m1, 0) == 1\n",
    "\n",
    "m2 = [ [True, True],\n",
    "       [False, False] ]\n",
    "assert indegree_mat(m2, 0) == 1\n",
    "\n",
    "m3 = [ [True, True, False],\n",
    "       [True, True, True],\n",
    "       [False, False, False] ]\n",
    "assert indegree_mat( m3, 1) == 2"
   ]
  },
  {
   "cell_type": "raw",
   "id": "3aa98c18",
   "metadata": {
    "format": "text/html"
   },
   "source": [
    "</div>"
   ]
  },
  {
   "cell_type": "code",
   "execution_count": 7,
   "metadata": {},
   "outputs": [],
   "source": [
    "def indegree_mat(mat, i):\n",
    "    raise Exception('TODO IMPLEMENT ME !')\n",
    "\n",
    "try: \n",
    "    indegree_mat([[False]],7)\n",
    "    raise Exception(\"SHOULD HAVE FAILED !\")  \n",
    "except ValueError: \n",
    "    \"passed test\"\n",
    "    \n",
    "assert indegree_mat(\n",
    "        [\n",
    "            [False]\n",
    "        ]\n",
    ",0) == 0\n",
    "\n",
    "m1 = [ [True] ]\n",
    "assert indegree_mat(m1, 0) == 1\n",
    "\n",
    "m2 = [ [True, True],\n",
    "       [False, False] ]\n",
    "assert indegree_mat(m2, 0) == 1\n",
    "\n",
    "m3 = [ [True, True, False],\n",
    "       [True, True, True],\n",
    "       [False, False, False] ]\n",
    "assert indegree_mat( m3, 1) == 2"
   ]
  },
  {
   "cell_type": "markdown",
   "metadata": {},
   "source": [
    "### Exercise -  indegree_avg\n",
    "\n",
    "✪✪ RETURN the average indegree of nodes in graph `d`, represented as dictionary of adjacency lists. \n",
    "    \n",
    "- Assume all nodes are in the keys\n"
   ]
  },
  {
   "cell_type": "raw",
   "id": "21b9c5b5",
   "metadata": {
    "format": "text/html"
   },
   "source": [
    "<a  class=\"jupman-sol jupman-sol-toggler\" \n",
    " onclick=\"jupman.toggleSolution(this);\" \n",
    " data-jupman-show=\"Show solution\" data-jupman-hide=\"Hide\">Show solution</a><div class=\"jupman-sol jupman-sol-code\" style=\"display:none\">  "
   ]
  },
  {
   "cell_type": "code",
   "execution_count": 8,
   "metadata": {},
   "outputs": [],
   "source": [
    "def indegree_avg(d):\n",
    "    \n",
    "    s = 0\n",
    "    for k in d: \n",
    "        s += len(d[k])\n",
    "    return s / len(d)\n",
    "    \n",
    "    \n",
    "d1 = { 'a':[] }    \n",
    "assert indegree_avg(d1) == 0\n",
    "\n",
    "d2 = { 'a':['a'] }\n",
    "assert round( indegree_avg(d2), 2) == 1.00 / 1.00\n",
    "\n",
    "d3 = { 'a':['a','b'],\n",
    "       'b':[]}\n",
    "assert round( indegree_avg(d3), 2) == (1 + 1) / 2\n",
    "\n",
    "d4 = { 'a':['a','b'],\n",
    "       'b':['a','b','c'],\n",
    "       'c':[]}\n",
    "assert round( indegree_avg(d4), 2) == round( (2 + 2 + 1) / 3 , 2)"
   ]
  },
  {
   "cell_type": "raw",
   "id": "fe8455af",
   "metadata": {
    "format": "text/html"
   },
   "source": [
    "</div>"
   ]
  },
  {
   "cell_type": "code",
   "execution_count": 8,
   "metadata": {},
   "outputs": [],
   "source": [
    "def indegree_avg(d):\n",
    "    raise Exception('TODO IMPLEMENT ME !')\n",
    "    \n",
    "d1 = { 'a':[] }    \n",
    "assert indegree_avg(d1) == 0\n",
    "\n",
    "d2 = { 'a':['a'] }\n",
    "assert round( indegree_avg(d2), 2) == 1.00 / 1.00\n",
    "\n",
    "d3 = { 'a':['a','b'],\n",
    "       'b':[]}\n",
    "assert round( indegree_avg(d3), 2) == (1 + 1) / 2\n",
    "\n",
    "d4 = { 'a':['a','b'],\n",
    "       'b':['a','b','c'],\n",
    "       'c':[]}\n",
    "assert round( indegree_avg(d4), 2) == round( (2 + 2 + 1) / 3 , 2)"
   ]
  },
  {
   "cell_type": "markdown",
   "metadata": {},
   "source": [
    "### Was it worth it?\n",
    "\n",
    "**QUESTION**: Is there any difference between the results of `indegree_avg` and `outdegree_avg` ?"
   ]
  },
  {
   "cell_type": "raw",
   "id": "cbdc7e10",
   "metadata": {
    "format": "text/html"
   },
   "source": [
    "<a  class=\"jupman-sol jupman-sol-toggler\" \n",
    " onclick=\"jupman.toggleSolution(this);\" \n",
    " data-jupman-show=\"Show answer\" data-jupman-hide=\"Hide\">Show answer</a><div class=\"jupman-sol jupman-sol-question\" style=\"display:none\">  "
   ]
  },
  {
   "cell_type": "markdown",
   "metadata": {},
   "source": [
    "**ANSWER**: They give the same result. Think about what you did: for `outdegree_avg` you summed over all rows and then divided by `n`. For `indegree_avg` you summed over all columns, and then divided by `n`. \n",
    "\n",
    "\n",
    "More formally, we have that the so-called _degree sum formula_ holds (see [Wikipedia](https://en.wikipedia.org/wiki/Directed_graph#Indegree_and_outdegree) for more info):\n",
    "\n",
    "\n",
    "$\\sum_{v \\in V} \\deg^-(v) = \\sum_{v \\in V} \\deg^+(v) = |A|$"
   ]
  },
  {
   "cell_type": "raw",
   "id": "d4db4a7d",
   "metadata": {
    "format": "text/html"
   },
   "source": [
    "</div>"
   ]
  },
  {
   "cell_type": "markdown",
   "metadata": {},
   "source": [
    "### networkx Indegrees and outdegrees \n",
    "\n",
    "With Networkx we can easily calculate indegrees and outdegrees of a node:\n"
   ]
  },
  {
   "cell_type": "code",
   "execution_count": 9,
   "metadata": {},
   "outputs": [
    {
     "data": {
      "image/png": "[encoded data removed]",
      "text/plain": [
       "<IPython.core.display.Image object>"
      ]
     },
     "metadata": {},
     "output_type": "display_data"
    }
   ],
   "source": [
    "\n",
    "import networkx as nx\n",
    "\n",
    "# notice with networkx if nodes are already referenced to in an adjacency list \n",
    "# you do not need to put them as keys:\n",
    "\n",
    "G=nx.DiGraph({\n",
    "    'a':['b','c'],        # node a links to b and c\n",
    "    'b':['b','c', 'd']    # node b links to b itself, c and d\n",
    "})\n",
    "\n",
    "draw_nx(G)"
   ]
  },
  {
   "cell_type": "code",
   "execution_count": 10,
   "metadata": {},
   "outputs": [
    {
     "data": {
      "text/plain": [
       "2"
      ]
     },
     "execution_count": 10,
     "metadata": {},
     "output_type": "execute_result"
    }
   ],
   "source": [
    "G.out_degree('a')"
   ]
  },
  {
   "cell_type": "markdown",
   "metadata": {},
   "source": [
    "**QUESTION**: What is the outdegree of `'b'` ? Try to think about it and then confirm your thoughts with networkx:"
   ]
  },
  {
   "cell_type": "raw",
   "id": "4b2fc042",
   "metadata": {
    "format": "text/html"
   },
   "source": [
    "<a  class=\"jupman-sol jupman-sol-toggler\" \n",
    " onclick=\"jupman.toggleSolution(this);\" \n",
    " data-jupman-show=\"Show solution\" data-jupman-hide=\"Hide\">Show solution</a><div class=\"jupman-sol jupman-sol-code\" style=\"display:none\">  "
   ]
  },
  {
   "cell_type": "code",
   "execution_count": 11,
   "metadata": {},
   "outputs": [],
   "source": [
    "# write here\n",
    "#print(\"indegree  b:  %s\" % G.in_degree('b'))\n",
    "#print(\"outdegree b:  %s\" % G.out_degree('b'))"
   ]
  },
  {
   "cell_type": "raw",
   "id": "4e6fdc97",
   "metadata": {
    "format": "text/html"
   },
   "source": [
    "</div>"
   ]
  },
  {
   "cell_type": "code",
   "execution_count": 11,
   "metadata": {},
   "outputs": [],
   "source": [
    "# write here\n",
    "\n"
   ]
  },
  {
   "cell_type": "markdown",
   "metadata": {},
   "source": [
    "**QUESTION**: We defined _indegree_ and _outdegree_. Can you guess what the _degree_ might be ? In particular, for a self pointing node like `'b'`, what could it be? Try to use `G.degree('b')` methods to validate your thoughts."
   ]
  },
  {
   "cell_type": "raw",
   "id": "bb99a7bd",
   "metadata": {
    "format": "text/html"
   },
   "source": [
    "<a  class=\"jupman-sol jupman-sol-toggler\" \n",
    " onclick=\"jupman.toggleSolution(this);\" \n",
    " data-jupman-show=\"Show solution\" data-jupman-hide=\"Hide\">Show solution</a><div class=\"jupman-sol jupman-sol-code\" style=\"display:none\">  "
   ]
  },
  {
   "cell_type": "code",
   "execution_count": 12,
   "metadata": {},
   "outputs": [],
   "source": [
    "# write here\n",
    "#print(\"degree  b:  %s\" % G.degree('b'))"
   ]
  },
  {
   "cell_type": "raw",
   "id": "317ae785",
   "metadata": {
    "format": "text/html"
   },
   "source": [
    "</div>"
   ]
  },
  {
   "cell_type": "code",
   "execution_count": 12,
   "metadata": {},
   "outputs": [],
   "source": [
    "# write here\n",
    "\n"
   ]
  },
  {
   "cell_type": "raw",
   "id": "1b2b8161",
   "metadata": {
    "format": "text/html"
   },
   "source": [
    "<a  class=\"jupman-sol jupman-sol-toggler\" \n",
    " onclick=\"jupman.toggleSolution(this);\" \n",
    " data-jupman-show=\"Show answer\" data-jupman-hide=\"Hide\">Show answer</a><div class=\"jupman-sol jupman-sol-question\" style=\"display:none\">  "
   ]
  },
  {
   "cell_type": "markdown",
   "metadata": {},
   "source": [
    "**ANSWER**: it is the sum of indegree and outdegree. In presence of a self-loop like for `'b'`, we count the self-loop twice, once as outgoing edge and one as incident edge"
   ]
  },
  {
   "cell_type": "raw",
   "id": "c22e37aa",
   "metadata": {
    "format": "text/html"
   },
   "source": [
    "</div>"
   ]
  },
  {
   "cell_type": "raw",
   "id": "6f2e9c19",
   "metadata": {
    "format": "text/html"
   },
   "source": [
    "<a  class=\"jupman-sol jupman-sol-toggler\" \n",
    " onclick=\"jupman.toggleSolution(this);\" \n",
    " data-jupman-show=\"Show solution\" data-jupman-hide=\"Hide\">Show solution</a><div class=\"jupman-sol jupman-sol-code\" style=\"display:none\">  "
   ]
  },
  {
   "cell_type": "code",
   "execution_count": 13,
   "metadata": {},
   "outputs": [],
   "source": [
    "# write here\n",
    "#G.degree('b')"
   ]
  },
  {
   "cell_type": "raw",
   "id": "aa02f3d9",
   "metadata": {
    "format": "text/html"
   },
   "source": [
    "</div>"
   ]
  },
  {
   "cell_type": "code",
   "execution_count": 13,
   "metadata": {},
   "outputs": [],
   "source": [
    "# write here\n",
    "\n"
   ]
  },
  {
   "cell_type": "markdown",
   "metadata": {},
   "source": [
    "## Visualizing distributions\n",
    "\n",
    "We will try to study the distributions visually. Let's take an example networkx DiGraph: "
   ]
  },
  {
   "cell_type": "code",
   "execution_count": 14,
   "metadata": {},
   "outputs": [
    {
     "data": {
      "image/png": "[encoded data removed]",
      "text/plain": [
       "<IPython.core.display.Image object>"
      ]
     },
     "metadata": {},
     "output_type": "display_data"
    }
   ],
   "source": [
    "import networkx as nx\n",
    "\n",
    "G1=nx.DiGraph({\n",
    "    'a':['b','c'],        \n",
    "    'b':['b','c', 'd'],\n",
    "    'c':['a','b','d'], \n",
    "    'd':['b', 'd']\n",
    "})\n",
    "\n",
    "draw_nx(G1)"
   ]
  },
  {
   "cell_type": "markdown",
   "metadata": {},
   "source": [
    "## indegree per node\n",
    "\n",
    "✪✪ Display a plot for graph `G` where the xtick labels are the nodes, and the y is the indegree of those nodes.\n",
    "\n",
    "**Note:** instead of `xticks` you might directly use [categorical variables](https://matplotlib.org/gallery/lines_bars_and_markers/categorical_variables.html) IF you have matplotlib >= 2.1.0\n",
    "\n",
    "Here we use `xticks` as sometimes you might need to fiddle with them anyway\n",
    "\n",
    "Expected result:\n",
    "\n",
    "![expected-indegree-per-node-dots.png](img/expected-indegree-per-node-dots.png)\n",
    "\n",
    "\n",
    "To get the nodes, you can use the `G1.nodes()` function:"
   ]
  },
  {
   "cell_type": "code",
   "execution_count": 15,
   "metadata": {},
   "outputs": [
    {
     "data": {
      "text/plain": [
       "NodeView(('a', 'b', 'c', 'd'))"
      ]
     },
     "execution_count": 15,
     "metadata": {},
     "output_type": "execute_result"
    }
   ],
   "source": [
    "G1.nodes()"
   ]
  },
  {
   "cell_type": "markdown",
   "metadata": {},
   "source": [
    "It gives back a `NodeView` which is not a list, but still you can iterate through it with a `for in` cycle:"
   ]
  },
  {
   "cell_type": "code",
   "execution_count": 16,
   "metadata": {},
   "outputs": [
    {
     "name": "stdout",
     "output_type": "stream",
     "text": [
      "a\n",
      "b\n",
      "c\n",
      "d\n"
     ]
    }
   ],
   "source": [
    "for n in G1.nodes():\n",
    "    print(n)"
   ]
  },
  {
   "cell_type": "markdown",
   "metadata": {},
   "source": [
    "Also, you can get the indegree of a node with "
   ]
  },
  {
   "cell_type": "code",
   "execution_count": 17,
   "metadata": {},
   "outputs": [
    {
     "data": {
      "text/plain": [
       "4"
      ]
     },
     "execution_count": 17,
     "metadata": {},
     "output_type": "execute_result"
    }
   ],
   "source": [
    "G1.in_degree('b')"
   ]
  },
  {
   "cell_type": "raw",
   "id": "6ba088e2",
   "metadata": {
    "format": "text/html"
   },
   "source": [
    "<a  class=\"jupman-sol jupman-sol-toggler\" \n",
    " onclick=\"jupman.toggleSolution(this);\" \n",
    " data-jupman-show=\"Show solution\" data-jupman-hide=\"Hide\">Show solution</a><div class=\"jupman-sol jupman-sol-code\" style=\"display:none\">  "
   ]
  },
  {
   "cell_type": "code",
   "execution_count": 18,
   "metadata": {},
   "outputs": [
    {
     "data": {
      "image/png": "[encoded data removed]",
      "text/plain": [
       "<Figure size 432x288 with 1 Axes>"
      ]
     },
     "metadata": {
      "needs_background": "light"
     },
     "output_type": "display_data"
    }
   ],
   "source": [
    "\n",
    "# write here\n",
    "\n",
    "import numpy as np\n",
    "import matplotlib.pyplot as plt\n",
    "\n",
    "xs = np.arange(G1.number_of_nodes())\n",
    "ys_in = [G1.in_degree(n) for n in G1.nodes() ]\n",
    "\n",
    "plt.plot(xs, ys_in,  'bo')\n",
    "\n",
    "plt.ylim(0,max(ys_in) + 1)\n",
    "plt.xlim(0,max(xs) + 1)\n",
    "\n",
    "plt.title(\"G1 Indegrees per node solution\")\n",
    "\n",
    "plt.xticks(xs, G1.nodes())\n",
    "\n",
    "plt.xlabel('node')\n",
    "plt.ylabel('indegree')\n",
    "\n",
    "\n",
    "\n",
    "plt.show()"
   ]
  },
  {
   "cell_type": "raw",
   "id": "aa2a1d09",
   "metadata": {
    "format": "text/html"
   },
   "source": [
    "</div>"
   ]
  },
  {
   "cell_type": "code",
   "execution_count": 18,
   "metadata": {},
   "outputs": [],
   "source": [
    "\n",
    "# write here\n",
    "\n"
   ]
  },
  {
   "cell_type": "markdown",
   "metadata": {},
   "source": [
    "### indegree per node bar plot\n",
    "\n",
    "The previous plot with dots doesn't look so good - we might try to use instead a bar plot. First look at [this example](https://en.softpython.org/visualization/visualization1-sol.html#Bar-plots), then proceed with the exercise \n",
    "\n",
    "✪✪ Display a [bar plot](https://matplotlib.org/api/_as_gen/matplotlib.pyplot.bar.html) for graph `G1` where the xtick labels are the nodes, and the y is the indegree of those nodes.\n",
    "\n",
    "Expected result:\n",
    "\n",
    "![expected-indegree-per-node.png](img/expected-indegree-per-node.png)"
   ]
  },
  {
   "cell_type": "raw",
   "id": "98b78468",
   "metadata": {
    "format": "text/html"
   },
   "source": [
    "<a  class=\"jupman-sol jupman-sol-toggler\" \n",
    " onclick=\"jupman.toggleSolution(this);\" \n",
    " data-jupman-show=\"Show solution\" data-jupman-hide=\"Hide\">Show solution</a><div class=\"jupman-sol jupman-sol-code\" style=\"display:none\">  "
   ]
  },
  {
   "cell_type": "code",
   "execution_count": 19,
   "metadata": {},
   "outputs": [
    {
     "data": {
      "image/png": "[encoded data removed]",
      "text/plain": [
       "<Figure size 432x288 with 1 Axes>"
      ]
     },
     "metadata": {
      "needs_background": "light"
     },
     "output_type": "display_data"
    }
   ],
   "source": [
    "\n",
    "# write here\n",
    "\n",
    "import numpy as np\n",
    "import matplotlib.pyplot as plt\n",
    "\n",
    "xs = np.arange(G1.number_of_nodes())\n",
    "ys_in = [G1.in_degree(n) for n in G1.nodes() ]\n",
    "\n",
    "plt.bar(xs, ys_in, 0.5, align='center')\n",
    "\n",
    "plt.title(\"G1 Indegrees per node solution\")\n",
    "plt.xticks(xs, G1.nodes())\n",
    "\n",
    "plt.xlabel('node')\n",
    "plt.ylabel('indegree')\n",
    "\n",
    "\n",
    "plt.show()"
   ]
  },
  {
   "cell_type": "raw",
   "id": "350677b0",
   "metadata": {
    "format": "text/html"
   },
   "source": [
    "</div>"
   ]
  },
  {
   "cell_type": "code",
   "execution_count": 19,
   "metadata": {},
   "outputs": [],
   "source": [
    "\n",
    "# write here\n",
    "\n"
   ]
  },
  {
   "cell_type": "code",
   "execution_count": null,
   "metadata": {},
   "outputs": [],
   "source": []
  },
  {
   "cell_type": "markdown",
   "metadata": {},
   "source": [
    "### indegree per node sorted alphabetically\n",
    "\n",
    "✪✪ Display the same bar plot as before, but now sort nodes alphabetically. \n",
    "\n",
    "**NOTE**: you cannot  run `.sort()` method on the result given by  `G1.nodes()`, because nodes in network by default have no inherent order. To use `.sort()` you need first to convert the result to a `list` object.\n",
    "\n",
    "You should get something like this:\n",
    "\n",
    "![expected-indegree-per-node-sorted-labels.png](img/expected-indegree-per-node-sorted-labels.png)"
   ]
  },
  {
   "cell_type": "raw",
   "id": "0fc96180",
   "metadata": {
    "format": "text/html"
   },
   "source": [
    "<a  class=\"jupman-sol jupman-sol-toggler\" \n",
    " onclick=\"jupman.toggleSolution(this);\" \n",
    " data-jupman-show=\"Show solution\" data-jupman-hide=\"Hide\">Show solution</a><div class=\"jupman-sol jupman-sol-code\" style=\"display:none\">  "
   ]
  },
  {
   "cell_type": "code",
   "execution_count": 20,
   "metadata": {},
   "outputs": [
    {
     "data": {
      "image/png": "[encoded data removed]",
      "text/plain": [
       "<Figure size 432x288 with 1 Axes>"
      ]
     },
     "metadata": {
      "needs_background": "light"
     },
     "output_type": "display_data"
    }
   ],
   "source": [
    "\n",
    "# write here\n",
    "\n",
    "import numpy as np\n",
    "import matplotlib.pyplot as plt\n",
    "\n",
    "xs = np.arange(G1.number_of_nodes())\n",
    "\n",
    "xs_labels = list(G1.nodes())\n",
    "\n",
    "xs_labels.sort()\n",
    "\n",
    "ys_in = [G1.in_degree(n) for n in xs_labels ]\n",
    "\n",
    "plt.bar(xs, ys_in, 0.5, align='center')\n",
    "\n",
    "plt.title(\"G1 Indegrees per node, sorted labels solution\")\n",
    "plt.xticks(xs, xs_labels)\n",
    "\n",
    "plt.xlabel('node')\n",
    "plt.ylabel('indegree')\n",
    "\n",
    "\n",
    "plt.show()"
   ]
  },
  {
   "cell_type": "raw",
   "id": "f5fa5721",
   "metadata": {
    "format": "text/html"
   },
   "source": [
    "</div>"
   ]
  },
  {
   "cell_type": "code",
   "execution_count": 20,
   "metadata": {},
   "outputs": [],
   "source": [
    "\n",
    "# write here\n",
    "\n"
   ]
  },
  {
   "cell_type": "code",
   "execution_count": 21,
   "metadata": {},
   "outputs": [],
   "source": [
    "# write here\n"
   ]
  },
  {
   "cell_type": "markdown",
   "metadata": {},
   "source": [
    "### indegree per node sorted\n",
    "\n",
    "✪✪✪ Display the same bar plot as before, but now sort nodes according to their indegree. This is more challenging, to  do it you need to use some sort trick. \n",
    "\n",
    "* **HINT**: first read the [Python documentation](https://docs.python.org/3/howto/sorting.html#key-functions)\n",
    "\n",
    "Expected result:\n",
    "\n",
    "![expected-indegree-per-node-sorted-indegree.png](img/expected-indegree-per-node-sorted-indegree.png)"
   ]
  },
  {
   "cell_type": "raw",
   "id": "9ce54833",
   "metadata": {
    "format": "text/html"
   },
   "source": [
    "<a  class=\"jupman-sol jupman-sol-toggler\" \n",
    " onclick=\"jupman.toggleSolution(this);\" \n",
    " data-jupman-show=\"Show solution\" data-jupman-hide=\"Hide\">Show solution</a><div class=\"jupman-sol jupman-sol-code\" style=\"display:none\">  "
   ]
  },
  {
   "cell_type": "code",
   "execution_count": 22,
   "metadata": {},
   "outputs": [
    {
     "data": {
      "image/png": "[encoded data removed]",
      "text/plain": [
       "<Figure size 432x288 with 1 Axes>"
      ]
     },
     "metadata": {
      "needs_background": "light"
     },
     "output_type": "display_data"
    }
   ],
   "source": [
    "\n",
    "# write here\n",
    "\n",
    "import numpy as np\n",
    "import matplotlib.pyplot as plt\n",
    "\n",
    "xs = np.arange(G1.number_of_nodes())\n",
    "\n",
    "coords = [(v, G1.in_degree(v)) for v in G1.nodes() ]\n",
    "\n",
    "coords.sort(key=lambda c: c[1])\n",
    "\n",
    "ys_in = [c[1] for c in coords]\n",
    "\n",
    "plt.bar(xs, ys_in, 0.5, align='center')\n",
    "\n",
    "plt.title(\"G1 Indegrees per node, sorted by indegree solution\")\n",
    "plt.xticks(xs, [c[0] for c in coords])\n",
    "\n",
    "plt.xlabel('node')\n",
    "plt.ylabel('indegree')\n",
    "\n",
    "\n",
    "plt.show()"
   ]
  },
  {
   "cell_type": "raw",
   "id": "7969e1cc",
   "metadata": {
    "format": "text/html"
   },
   "source": [
    "</div>"
   ]
  },
  {
   "cell_type": "code",
   "execution_count": 22,
   "metadata": {},
   "outputs": [],
   "source": [
    "\n",
    "# write here\n",
    "\n"
   ]
  },
  {
   "cell_type": "markdown",
   "metadata": {},
   "source": [
    "\n",
    "### out degrees per node sorted\n",
    "\n",
    "✪✪✪ Do the same graph as before for the outdegrees.\n",
    "\n",
    "Expected result:\n",
    "\n",
    "![expected-outdegrees-per-node-sorted.png](img/expected-outdegrees-per-node-sorted.png)"
   ]
  },
  {
   "cell_type": "markdown",
   "metadata": {},
   "source": [
    "You can get the outdegree of a node with:"
   ]
  },
  {
   "cell_type": "code",
   "execution_count": 23,
   "metadata": {},
   "outputs": [
    {
     "data": {
      "text/plain": [
       "3"
      ]
     },
     "execution_count": 23,
     "metadata": {},
     "output_type": "execute_result"
    }
   ],
   "source": [
    "G1.out_degree('b')"
   ]
  },
  {
   "cell_type": "raw",
   "id": "0ac4c2f2",
   "metadata": {
    "format": "text/html"
   },
   "source": [
    "<a  class=\"jupman-sol jupman-sol-toggler\" \n",
    " onclick=\"jupman.toggleSolution(this);\" \n",
    " data-jupman-show=\"Show solution\" data-jupman-hide=\"Hide\">Show solution</a><div class=\"jupman-sol jupman-sol-code\" style=\"display:none\">  "
   ]
  },
  {
   "cell_type": "code",
   "execution_count": 24,
   "metadata": {},
   "outputs": [
    {
     "data": {
      "image/png": "[encoded data removed]",
      "text/plain": [
       "<Figure size 432x288 with 1 Axes>"
      ]
     },
     "metadata": {
      "needs_background": "light"
     },
     "output_type": "display_data"
    }
   ],
   "source": [
    "\n",
    "# write here\n",
    "import numpy as np\n",
    "import matplotlib.pyplot as plt\n",
    "\n",
    "xs = np.arange(G1.number_of_nodes())\n",
    "\n",
    "coords = [(v, G1.out_degree(v)) for v in G1.nodes() ]\n",
    "\n",
    "coords.sort(key=lambda c: c[1])\n",
    "\n",
    "ys_out = [c[1] for c in coords]\n",
    "\n",
    "plt.bar(xs, ys_out, 0.5, align='center')\n",
    "\n",
    "plt.title(\"G1 Outdegrees per node sorted solution\")\n",
    "plt.xticks(xs, [c[0] for c in coords])\n",
    "\n",
    "plt.xlabel('node')\n",
    "plt.ylabel('outdegree')\n",
    "\n",
    "\n",
    "\n",
    "plt.show()"
   ]
  },
  {
   "cell_type": "raw",
   "id": "74901618",
   "metadata": {
    "format": "text/html"
   },
   "source": [
    "</div>"
   ]
  },
  {
   "cell_type": "code",
   "execution_count": 24,
   "metadata": {},
   "outputs": [],
   "source": [
    "\n",
    "# write here\n",
    "\n"
   ]
  },
  {
   "cell_type": "markdown",
   "metadata": {},
   "source": [
    "### degrees per node\n",
    "\n",
    "✪✪✪ We might check as well the sorted degrees per node, intended as the sum of in_degree and out_degree. To get the sum, use `G1.degree(node)` function.\n",
    "\n",
    "Expected result:\n",
    "\n",
    "![expected-degrees-per-node.png](img/expected-degrees-per-node.png)"
   ]
  },
  {
   "cell_type": "raw",
   "id": "098aed7c",
   "metadata": {
    "format": "text/html"
   },
   "source": [
    "<a  class=\"jupman-sol jupman-sol-toggler\" \n",
    " onclick=\"jupman.toggleSolution(this);\" \n",
    " data-jupman-show=\"Show solution\" data-jupman-hide=\"Hide\">Show solution</a><div class=\"jupman-sol jupman-sol-code\" style=\"display:none\">  "
   ]
  },
  {
   "cell_type": "code",
   "execution_count": 25,
   "metadata": {},
   "outputs": [
    {
     "data": {
      "image/png": "[encoded data removed]",
      "text/plain": [
       "<Figure size 432x288 with 1 Axes>"
      ]
     },
     "metadata": {
      "needs_background": "light"
     },
     "output_type": "display_data"
    }
   ],
   "source": [
    "\n",
    "# write here\n",
    "\n",
    "import numpy as np\n",
    "import matplotlib.pyplot as plt\n",
    "\n",
    "xs = np.arange(G1.number_of_nodes())\n",
    "\n",
    "coords = [(v, G1.degree(v)) for v in G1.nodes() ]\n",
    "\n",
    "coords.sort(key=lambda c: c[1])\n",
    "\n",
    "ys_deg = [c[1] for c in coords]\n",
    "\n",
    "plt.bar(xs, ys_deg, 0.5, align='center')\n",
    "\n",
    "plt.title(\"G1 degrees per node sorted SOLUTION\")\n",
    "plt.xticks(xs, [c[0] for c in coords])\n",
    "\n",
    "plt.xlabel('node')\n",
    "plt.ylabel('degree')\n",
    "\n",
    "\n",
    "plt.show()"
   ]
  },
  {
   "cell_type": "raw",
   "id": "26e896cc",
   "metadata": {
    "format": "text/html"
   },
   "source": [
    "</div>"
   ]
  },
  {
   "cell_type": "code",
   "execution_count": 25,
   "metadata": {},
   "outputs": [],
   "source": [
    "\n",
    "# write here\n",
    "\n"
   ]
  },
  {
   "cell_type": "markdown",
   "metadata": {},
   "source": [
    "### In out degrees per node\n",
    "\n",
    "✪✪✪✪ Look at [this example](https://matplotlib.org/gallery/lines_bars_and_markers/barchart.html#sphx-glr-gallery-lines-bars-and-markers-barchart-py), and make a double bar chart sorting nodes by their _total_ degree. To do so, in the tuples you will need `vertex`, `in_degree`, `out_degree` and also `degree`.\n",
    "\n",
    "![expected-inout-per-node.png](img/expected-inout-per-node.png)"
   ]
  },
  {
   "cell_type": "raw",
   "id": "fe7e3b1c",
   "metadata": {
    "format": "text/html"
   },
   "source": [
    "<a  class=\"jupman-sol jupman-sol-toggler\" \n",
    " onclick=\"jupman.toggleSolution(this);\" \n",
    " data-jupman-show=\"Show solution\" data-jupman-hide=\"Hide\">Show solution</a><div class=\"jupman-sol jupman-sol-code\" style=\"display:none\">  "
   ]
  },
  {
   "cell_type": "code",
   "execution_count": 26,
   "metadata": {},
   "outputs": [
    {
     "data": {
      "image/png": "[encoded data removed]",
      "text/plain": [
       "<Figure size 432x288 with 1 Axes>"
      ]
     },
     "metadata": {
      "needs_background": "light"
     },
     "output_type": "display_data"
    }
   ],
   "source": [
    "\n",
    "# write here\n",
    "\n",
    "import numpy as np\n",
    "import matplotlib.pyplot as plt\n",
    "\n",
    "xs = np.arange(G1.number_of_nodes())\n",
    "\n",
    "coords = [(v, G1.degree(v), G1.in_degree(v), G1.out_degree(v) ) for v in G1.nodes() ]\n",
    "\n",
    "coords.sort(key=lambda c: c[1])\n",
    "\n",
    "ys_deg = [c[1] for c in coords]\n",
    "ys_in = [c[2] for c in coords]\n",
    "ys_out = [c[3] for c in coords]\n",
    "\n",
    "\n",
    "width = 0.35\n",
    "fig, ax = plt.subplots()\n",
    "rects1 = ax.bar(xs - width/2, ys_in, width, \n",
    "                color='SkyBlue', label='indegrees')\n",
    "rects2 = ax.bar(xs + width/2, ys_out, width,\n",
    "                color='IndianRed', label='outdegrees')\n",
    "\n",
    "# Add some text for labels, title and custom x-axis tick labels, etc.\n",
    "ax.set_title('G1 in and out degrees per node SOLUTION')\n",
    "ax.set_xticks(xs)\n",
    "ax.set_xticklabels([c[0] for c in coords])\n",
    "ax.legend()\n",
    "\n",
    "\n",
    "\n",
    "plt.show()"
   ]
  },
  {
   "cell_type": "raw",
   "id": "972fab4d",
   "metadata": {
    "format": "text/html"
   },
   "source": [
    "</div>"
   ]
  },
  {
   "cell_type": "code",
   "execution_count": 26,
   "metadata": {},
   "outputs": [],
   "source": [
    "\n",
    "# write here\n",
    "\n"
   ]
  },
  {
   "cell_type": "markdown",
   "metadata": {},
   "source": [
    "## Frequency histogram"
   ]
  },
  {
   "cell_type": "markdown",
   "metadata": {},
   "source": [
    "Now let's try to draw degree frequencies, that is, for each degree present in the graph we want to display a bar as high as the number of times that particular degree appears.\n",
    "\n",
    "For doing so, we will need a matplot histogram, see [documentation](https://matplotlib.org/api/_as_gen/matplotlib.pyplot.hist.html)\n",
    "\n",
    "We will need to tell matplotlib how many columns we want, which in histogram terms are called _bins_. We also need to give the histogram a series of numbers so it can count how many times each number occurs. Let's consider this graph `G2`:"
   ]
  },
  {
   "cell_type": "code",
   "execution_count": 27,
   "metadata": {},
   "outputs": [
    {
     "data": {
      "image/png": "[encoded data removed]",
      "text/plain": [
       "<IPython.core.display.Image object>"
      ]
     },
     "metadata": {},
     "output_type": "display_data"
    }
   ],
   "source": [
    "import networkx as nx\n",
    "\n",
    "G2=nx.DiGraph({\n",
    "    'a':['b','c'],        \n",
    "    'b':['b','c', 'd'],\n",
    "    'c':['a','b','d'], \n",
    "    'd':['b', 'd','e'],\n",
    "    'e':[],\n",
    "    'f':['c','d','e'],\n",
    "    'g':['e','g']\n",
    "})\n",
    "\n",
    "\n",
    "draw_nx(G2)\n"
   ]
  },
  {
   "cell_type": "markdown",
   "metadata": {},
   "source": [
    "If we take the the degree sequence of `G2` we get this:"
   ]
  },
  {
   "cell_type": "code",
   "execution_count": 28,
   "metadata": {},
   "outputs": [
    {
     "data": {
      "text/plain": [
       "[3, 7, 6, 7, 3, 3, 3]"
      ]
     },
     "execution_count": 28,
     "metadata": {},
     "output_type": "execute_result"
    }
   ],
   "source": [
    "degrees_G2 = [G2.degree(n) for n in G2.nodes()]\n",
    "\n",
    "degrees_G2"
   ]
  },
  {
   "cell_type": "markdown",
   "metadata": {},
   "source": [
    "We see 3 appears four times, 6 once, and seven twice. \n",
    "\n",
    "Let's try to determine a good number for the bins. First we can check the boundaries our x axis should have:"
   ]
  },
  {
   "cell_type": "code",
   "execution_count": 29,
   "metadata": {},
   "outputs": [
    {
     "data": {
      "text/plain": [
       "3"
      ]
     },
     "execution_count": 29,
     "metadata": {},
     "output_type": "execute_result"
    }
   ],
   "source": [
    "min(degrees_G2)"
   ]
  },
  {
   "cell_type": "code",
   "execution_count": 30,
   "metadata": {},
   "outputs": [
    {
     "data": {
      "text/plain": [
       "7"
      ]
     },
     "execution_count": 30,
     "metadata": {},
     "output_type": "execute_result"
    }
   ],
   "source": [
    "max(degrees_G2)"
   ]
  },
  {
   "cell_type": "markdown",
   "metadata": {},
   "source": [
    "So our histogram on the x axis must go at least from 3 and at least to 7. If we want integer columns (bins), we will need at least ticks for going from 3 included to 7 included, so at least ticks for  3,4,5,6,7. For getting precise display, wen we have integer x it is best to also manually provide the sequence of bin edges, remembering it should start at least from the minimum _included_ (in our case, 3) and arrive to the maximum + 1 _included_ (in our case, 7 + 1 = 8)\n",
    "\n",
    "**NOTE**: precise histogram drawing can be quite tricky, please do read [this StackOverflow post](https://stackoverflow.com/a/27084005) for more details about it."
   ]
  },
  {
   "cell_type": "code",
   "execution_count": 31,
   "metadata": {},
   "outputs": [
    {
     "data": {
      "image/png": "[encoded data removed]",
      "text/plain": [
       "<Figure size 432x288 with 1 Axes>"
      ]
     },
     "metadata": {
      "needs_background": "light"
     },
     "output_type": "display_data"
    }
   ],
   "source": [
    "\n",
    "import matplotlib.pyplot as plt\n",
    "import numpy as np\n",
    "\n",
    "degrees = [G2.degree(n) for n in G2.nodes()]\n",
    "\n",
    "# add histogram\n",
    "\n",
    "# in this case hist returns a tuple of three values\n",
    "# we put in three variables\n",
    "n, bins, columns = plt.hist(degrees_G2, \n",
    "                            bins=range(3,9),  #  3 *included* , 4, 5, 6, 7, 8 *included* \n",
    "                            width=1.0)        #  graphical width of the bars\n",
    "\n",
    "plt.xlabel('Degrees')\n",
    "plt.ylabel('Frequency counts')\n",
    "plt.title('G2 Degree distribution')\n",
    "plt.xlim(0, max(degrees) + 2)\n",
    "plt.show()"
   ]
  },
  {
   "cell_type": "markdown",
   "metadata": {},
   "source": [
    "As expected we see 3 is counted four times, 6 once, and seven twice. \n",
    "\n"
   ]
  },
  {
   "cell_type": "markdown",
   "metadata": {},
   "source": [
    "### Exercise - better histogram display\n",
    "\n",
    "✪✪✪  Still, it would be visually better to align the x ticks to the  middle of the bars with `xticks`, and also to make the graph more tight by setting the `xlim` appropriately. This is not always easy to do. \n",
    "\n",
    "Read carefully [this StackOverflow post](https://stackoverflow.com/a/27084005) and try do it by yourself.\n",
    "\n",
    "**NOTE**: set _one thing at a time_  and try if it works(i.e. first `xticks` and then `xlim`), doing everything at once might get quite confusing\n",
    "\n",
    "Expected result:\n",
    "\n",
    "![freq-hist.png](img/expected-freq-hist.png)"
   ]
  },
  {
   "cell_type": "raw",
   "id": "caa21f77",
   "metadata": {
    "format": "text/html"
   },
   "source": [
    "<a  class=\"jupman-sol jupman-sol-toggler\" \n",
    " onclick=\"jupman.toggleSolution(this);\" \n",
    " data-jupman-show=\"Show solution\" data-jupman-hide=\"Hide\">Show solution</a><div class=\"jupman-sol jupman-sol-code\" style=\"display:none\">  "
   ]
  },
  {
   "cell_type": "code",
   "execution_count": 32,
   "metadata": {},
   "outputs": [
    {
     "data": {
      "image/png": "[encoded data removed]",
      "text/plain": [
       "<Figure size 432x288 with 1 Axes>"
      ]
     },
     "metadata": {
      "needs_background": "light"
     },
     "output_type": "display_data"
    }
   ],
   "source": [
    "# write here\n",
    "\n",
    "import matplotlib.pyplot as plt\n",
    "import numpy as np\n",
    "\n",
    "degrees = [G2.degree(n) for n in G2.nodes()]\n",
    "\n",
    "# add histogram\n",
    "\n",
    "min_x = min(degrees)      # 3\n",
    "max_x = max(degrees)      # 7\n",
    "bar_width = 1.0\n",
    "\n",
    "# in this case hist returns a tuple of three values\n",
    "# we put in three variables\n",
    "n, bins, columns = plt.hist(degrees_G2, \n",
    "                            bins= range(3,9),  # 3 *included* to  9 *excluded*\n",
    "                                               # it is like the xs, but with one number more !!                                                                \n",
    "                                               # to understand why read this\n",
    "                                               # https://stackoverflow.com/questions/27083051/matplotlib-xticks-not-lining-up-with-histogram/27084005#27084005\n",
    "                            width=bar_width)        #  graphical width of the bars\n",
    "\n",
    "plt.xlabel('Degrees')\n",
    "plt.ylabel('Frequency counts')\n",
    "plt.title('G2 Degree distribution, tight graph SOLUTION')\n",
    "\n",
    "\n",
    "xs = np.arange(min_x,max_x + 1)  # 3 *included* to 8 *excluded* \n",
    "                                 # used numpy so we can later reuse it for float vector operations \n",
    "\n",
    "plt.xticks(xs + bar_width / 2,  # position of ticks\n",
    "           xs )                 # labels of ticks\n",
    "plt.xlim(min_x, max_x + 1)  #  3 *included* to 8 *excluded* \n",
    "\n",
    "\n",
    "\n",
    "plt.show()\n"
   ]
  },
  {
   "cell_type": "raw",
   "id": "4caa74fe",
   "metadata": {
    "format": "text/html"
   },
   "source": [
    "</div>"
   ]
  },
  {
   "cell_type": "code",
   "execution_count": 32,
   "metadata": {},
   "outputs": [
    {
     "data": {
      "image/png": "[encoded data removed]",
      "text/plain": [
       "<Figure size 432x288 with 1 Axes>"
      ]
     },
     "metadata": {
      "needs_background": "light"
     },
     "output_type": "display_data"
    }
   ],
   "source": [
    "# write here\n",
    "\n"
   ]
  },
  {
   "cell_type": "markdown",
   "metadata": {},
   "source": [
    "## Graph models"
   ]
  },
  {
   "cell_type": "markdown",
   "metadata": {},
   "source": [
    "Let's study frequencies of some known network types."
   ]
  },
  {
   "cell_type": "markdown",
   "metadata": {},
   "source": [
    "### Exercise - Erdős–Rényi model\n",
    "\n",
    "✪✪ A simple graph model we can think of is the so-called [Erdős–Rényi model](https://en.wikipedia.org/wiki/Erd%C5%91s%E2%80%93R%C3%A9nyi_model): is is an _undirected_ graph where have `n` nodes, and each node is connected to each other with probability `p`. In networkx, we can generate a random one by issuing this command:"
   ]
  },
  {
   "cell_type": "code",
   "execution_count": 33,
   "metadata": {},
   "outputs": [],
   "source": [
    "G = nx.erdos_renyi_graph(10, 0.5)"
   ]
  },
  {
   "cell_type": "markdown",
   "metadata": {},
   "source": [
    "In the drawing, by looking the absence of arrows confirms it is undirected:"
   ]
  },
  {
   "cell_type": "code",
   "execution_count": 34,
   "metadata": {},
   "outputs": [
    {
     "data": {
      "image/png": "[encoded data removed]",
      "text/plain": [
       "<IPython.core.display.Image object>"
      ]
     },
     "metadata": {},
     "output_type": "display_data"
    }
   ],
   "source": [
    "draw_nx(G)"
   ]
  },
  {
   "cell_type": "markdown",
   "metadata": {},
   "source": [
    "Try plotting degree distribution for different values of `p` (0.1, 0.5, 0.9) with a fixed `n=1000`, putting them side by side on the same row. What does their distribution look like ? Where are they centered ? \n",
    "\n",
    "* to put them side by side, look [at this example](https://en.softpython.org/visualization/visualization1-sol.html#Showing-plots-side-by-side)\n",
    "* to avoid rewriting the same code again and again, define a `plot_erdos(n,p,j)` function to be called three times.\n",
    "\n",
    "Expected result:\n",
    "\n",
    "![expected-erdos-renyi.png](img/expected-erdos-renyi.png)"
   ]
  },
  {
   "cell_type": "raw",
   "id": "d20c5660",
   "metadata": {
    "format": "text/html"
   },
   "source": [
    "<a  class=\"jupman-sol jupman-sol-toggler\" \n",
    " onclick=\"jupman.toggleSolution(this);\" \n",
    " data-jupman-show=\"Show solution\" data-jupman-hide=\"Hide\">Show solution</a><div class=\"jupman-sol jupman-sol-code\" style=\"display:none\">  "
   ]
  },
  {
   "cell_type": "code",
   "execution_count": 35,
   "metadata": {
    "scrolled": false
   },
   "outputs": [
    {
     "name": "stdout",
     "output_type": "stream",
     "text": [
      "\n",
      "                                           Erdős–Rényi degree distribution SOLUTION\n"
     ]
    },
    {
     "data": {
      "image/png": "[encoded data removed]",
      "text/plain": [
       "<Figure size 1080x432 with 3 Axes>"
      ]
     },
     "metadata": {
      "needs_background": "light"
     },
     "output_type": "display_data"
    }
   ],
   "source": [
    "\n",
    "# write here\n",
    "\n",
    "import matplotlib.pyplot as plt\n",
    "import numpy as np\n",
    "\n",
    "def plot_erdos(n, p, j):\n",
    "    G = nx.erdos_renyi_graph(n, p)\n",
    "    \n",
    "    plt.subplot(1,   # 1 row\n",
    "                3,   # 3 columns\n",
    "                j)   # plotting in jth cell\n",
    "    \n",
    "    degrees = [G.degree(n) for n in G.nodes()]\n",
    "    num_bins = 20   \n",
    "        \n",
    "    n, bins, columns = plt.hist(degrees, num_bins,  width=1.0)\n",
    "\n",
    "    plt.xlabel('Degrees')\n",
    "    plt.ylabel('Frequency counts')\n",
    "    plt.title('p = %s' % p)\n",
    "\n",
    "n = 1000\n",
    "\n",
    "fig = plt.figure(figsize=(15,6))  # width: 10 inches, height 3 inches\n",
    "\n",
    "plot_erdos(n, 0.1, 1)\n",
    "plot_erdos(n, 0.5, 2)\n",
    "plot_erdos(n, 0.9, 3)\n",
    "\n",
    "print()\n",
    "print(\"                                           Erdős–Rényi degree distribution SOLUTION\")\n",
    "\n",
    "\n",
    "\n",
    "plt.show()"
   ]
  },
  {
   "cell_type": "raw",
   "id": "41c23bae",
   "metadata": {
    "format": "text/html"
   },
   "source": [
    "</div>"
   ]
  },
  {
   "cell_type": "code",
   "execution_count": 35,
   "metadata": {
    "scrolled": false
   },
   "outputs": [],
   "source": [
    "\n",
    "# write here\n",
    "\n"
   ]
  },
  {
   "cell_type": "markdown",
   "metadata": {},
   "source": [
    "## Continue\n",
    "\n",
    "Go on with the [challenges](https://en.softpython.org/relational/relational4-chal.html)"
   ]
  }
 ],
 "metadata": {
  "celltoolbar": "Edit Metadata",
  "kernelspec": {
   "display_name": "Python 3 (ipykernel)",
   "language": "python",
   "name": "python3"
  },
  "language_info": {
   "codemirror_mode": {
    "name": "ipython",
    "version": 3
   },
   "file_extension": ".py",
   "mimetype": "text/x-python",
   "name": "python",
   "nbconvert_exporter": "python",
   "pygments_lexer": "ipython3",
   "version": "3.7.10"
  },
  "toc": {
   "base_numbering": 1,
   "nav_menu": {},
   "number_sections": false,
   "sideBar": true,
   "skip_h1_title": false,
   "title_cell": "Table of Contents",
   "title_sidebar": "Contents",
   "toc_cell": false,
   "toc_position": {
    "height": "calc(100% - 180px)",
    "left": "10px",
    "top": "150px",
    "width": "312px"
   },
   "toc_section_display": true,
   "toc_window_display": true
  }
 },
 "nbformat": 4,
 "nbformat_minor": 2
}
