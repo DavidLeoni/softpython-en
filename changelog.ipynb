{
 "cells": [
  {
   "cell_type": "markdown",
   "metadata": {},
   "source": [
    "# Revisions\n",
    "\n",
    "SoftPython English\n",
    "\n",
    "https://en.softpython.org\n",
    "\n",
    "<div class=\"alert alert-warning\">\n",
    "\n",
    "**NOTE**: Latest news are published [at the top of book home](index.ipynb#news) <br/>\n",
    "</div>\n",
    "\n",
    "**August 11, 2022**: added [Applications: Database tutorial](database/database-sol.ipynb), fixed some visualization bug in Python Tutor\n",
    "\n",
    "**April 16, 2022**: added a lot of [worked projects](#worked-projects) (ported from sciprog course exams)\n",
    "\n",
    "<div class=\"alert alert-info\">\n",
    "\n",
    "**January 2022: English version is mostly complete and usable as introductory course material**\n",
    "   \n",
    "</div>    \n",
    "\n",
    "See [Github issues](https://github.com/DavidLeoni/softpython-en/issues) for missing parts.\n",
    "\n",
    "**November 4, 2021**: restructured [relational data](#relational-data), added challenges\n",
    "\n",
    "**October 29, 2021**: restructured [pandas intro page](pandas/pandas1-intro-sol.ipynb) \n",
    "\n",
    "**October 28, 2021**: substituted graph stuff in [visualization intro](visualization/visualization1-sol.ipynb) with other exercises\n",
    "\n",
    "**October 15, 2021**: added [formats challenges](formats/formats4-chal.ipynb), moved graph formats and binary relations to [relational data](#relational-data) section\n",
    "\n",
    "**October 14, 2021** added [functions](#functions), [matrix lists challenges](matrices-lists/matrices-lists3-chal.ipynb) and [mixed structures challenges ](mixed-structures/mixed-structures2-chal.ipynb)\n",
    "\n",
    "**October 8, 2021** added [for](for/for8-chal.ipynb), [while](while/while2-chal.ipynb), [sequences](sequences/sequences2-chal.ipynb) challenges\n",
    "\n",
    "**October 7, 2021**: added [sets](sets/sets2-chal.ipynb), [dictionary](dictionaries/dictionaries5-chal.ipynb),  [if](if/if2-chal.ipynb) challenges\n",
    "\n",
    "**October 1, 2021**: added [lists](lists/lists5-chal.ipynb) and [tuples](tuples/tuples2-chal.ipynb)  challenges\n",
    "\n",
    "**September 30, 2021**: added [string challenges](strings/strings5-chal.ipynb)\n",
    "\n",
    "**September 22, 2021**:\n",
    "\n",
    "- major update, added new exercises and pages\n",
    "- added [worked projects](#C---Worked-projects) section\n",
    "\n",
    "**October 3, 2020**: updated [References](references.ipynb) page\n"
   ]
  },
  {
   "cell_type": "markdown",
   "metadata": {},
   "source": [
    "## July 2020\n",
    "\n",
    "Site is online"
   ]
  }
 ],
 "metadata": {
  "kernelspec": {
   "display_name": "Python 3 (ipykernel)",
   "language": "python",
   "name": "python3"
  },
  "language_info": {
   "codemirror_mode": {
    "name": "ipython",
    "version": 3
   },
   "file_extension": ".py",
   "mimetype": "text/x-python",
   "name": "python",
   "nbconvert_exporter": "python",
   "pygments_lexer": "ipython3",
   "version": "3.7.17"
  },
  "toc": {
   "base_numbering": 1,
   "nav_menu": {},
   "number_sections": false,
   "sideBar": true,
   "skip_h1_title": false,
   "title_cell": "Table of Contents",
   "title_sidebar": "Contents",
   "toc_cell": false,
   "toc_position": {},
   "toc_section_display": true,
   "toc_window_display": false
  }
 },
 "nbformat": 4,
 "nbformat_minor": 2
}
