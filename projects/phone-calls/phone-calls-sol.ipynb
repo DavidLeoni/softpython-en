{
 "cells": [
  {
   "cell_type": "markdown",
   "metadata": {},
   "source": [
    "# Phone calls\n",
    "\n",
    "## [Download worked project](../../_static/generated/phone-calls-prj.zip)\n",
    "\n",
    "[Browse files online](https://github.com/DavidLeoni/softpython-en/tree/master/projects/phone-calls)\n",
    "\n",
    "A radio station gathered calls from listeners, recording just the name of the caller and the phone number, as seen on the phone display. For marketing purposes, the station owner now wants to better understand the locations from where listeners where calling. He then hires you as Algorithmic Market Strategist and asks you to show statistics about the provinces of the calling sites. There is a problem, though. Numbers where written down by hand and sometimes they are not uniform, so it would be better to find a canonical representation.\n",
    "\n",
    "**NOTE**: Phone prefixes can be a very tricky subject, if you are ever to deal with them seriously please use proper [phone number parsing libraries](https://github.com/daviddrysdale/python-phonenumbers) and do read [Falsehoods Programmers Believe About Phone Numbers](https://github.com/googlei18n/libphonenumber/blob/master/FALSEHOODS.md)\n"
   ]
  },
  {
   "cell_type": "markdown",
   "metadata": {},
   "source": [
    "## What to do\n",
    "\n",
    "1. Unzip exercises zip in a folder, you should obtain something like this:\n",
    "\n",
    "```\n",
    "phone-calls-prj\n",
    "    phone-calls.ipynb\n",
    "    phone-calls-sol.ipynb\n",
    "    jupman.py \n",
    "```\n",
    "\n",
    "<div class=\"alert alert-warning\">\n",
    "\n",
    "**WARNING: to correctly visualize the notebook, it MUST be in an unzipped folder !**\n",
    "</div>"
   ]
  },
  {
   "cell_type": "markdown",
   "metadata": {},
   "source": [
    "2. open Jupyter Notebook from that folder. Two things should open, first a console and then a browser. The browser should show a file list: navigate the list and open the notebook `phone-calls.ipynb`\n",
    "\n",
    "3. Go on reading the notebook, and write in the appropriate cells when asked."
   ]
  },
  {
   "cell_type": "markdown",
   "metadata": {},
   "source": [
    "Shortcut keys:\n",
    "\n",
    "- to execute Python code inside a Jupyter cell, press `Control + Enter`\n",
    "\n",
    "- to execute Python code inside a Jupyter cell AND select next cell, press `Shift + Enter`\n",
    "\n",
    "- to execute Python code inside a Jupyter cell AND a create a new cell aftwerwards, press `Alt + Enter`\n",
    "\n",
    "- If the notebooks look stuck, try to select `Kernel -> Restart`"
   ]
  },
  {
   "cell_type": "markdown",
   "metadata": {},
   "source": [
    "## 1. canonical\n",
    "\n",
    "✪ We first want to canonicalize a phone number as a string. \n",
    "\n",
    "For us, a canonical phone number:\n",
    "\n",
    "- contains no spaces\n",
    "- contains no international prefix, so no `+39` nor `0039`: we assume all calls where placed from Italy (even if they have international prefix)\n",
    "\n",
    "\n",
    "For example, all of these are canonicalized to \"0461123456\":\n",
    "\n",
    "```\n",
    "+39 0461 123456\n",
    "+390461123456\n",
    "0039 0461 123456\n",
    "00390461123456\n",
    "```\n",
    "\n",
    "These are canonicalized as the following:\n",
    "\n",
    "```\n",
    "328 123 4567        ->  3281234567\n",
    "0039 328 123 4567   ->  3281234567\n",
    "0039 3771 1234567   ->  37711234567\n",
    "```\n",
    "\n",
    "\n",
    "**REMEMBER: strings are immutable !!!!!**"
   ]
  },
  {
   "cell_type": "raw",
   "id": "c7782df3",
   "metadata": {
    "format": "text/html"
   },
   "source": [
    "<a  class=\"jupman-sol jupman-sol-toggler\" \n",
    " onclick=\"jupman.toggleSolution(this);\" \n",
    " data-jupman-show=\"Show solution\" data-jupman-hide=\"Hide\">Show solution</a><div class=\"jupman-sol jupman-sol-code\" style=\"display:none\">  "
   ]
  },
  {
   "cell_type": "code",
   "execution_count": 1,
   "metadata": {},
   "outputs": [],
   "source": [
    "def canonical(phone):\n",
    "    \"\"\" RETURN the canonical version of phone as a string. See above for an explanation.\n",
    "    \"\"\"\n",
    "    \n",
    "    p = phone.replace(' ', '')\n",
    "    if p.startswith('0039'):\n",
    "        p = p[4:]\n",
    "    if p.startswith('+39'):\n",
    "        p = p[3:]\n",
    "    return p\n",
    "    \n",
    "\n",
    "assert canonical('+39 0461 123456') == '0461123456'\n",
    "assert canonical('+390461123456') == '0461123456'\n",
    "assert canonical('0039 0461 123456') == '0461123456'\n",
    "assert canonical('00390461123456') == '0461123456'\n",
    "assert canonical('003902123456') == '02123456'\n",
    "assert canonical('003902120039') == '02120039'\n",
    "assert canonical('0039021239') == '021239'\n"
   ]
  },
  {
   "cell_type": "raw",
   "id": "e747994a",
   "metadata": {
    "format": "text/html"
   },
   "source": [
    "</div>"
   ]
  },
  {
   "cell_type": "code",
   "execution_count": 1,
   "metadata": {},
   "outputs": [],
   "source": [
    "def canonical(phone):\n",
    "    \"\"\" RETURN the canonical version of phone as a string. See above for an explanation.\n",
    "    \"\"\"\n",
    "    raise Exception('TODO IMPLEMENT ME !')\n",
    "\n",
    "assert canonical('+39 0461 123456') == '0461123456'\n",
    "assert canonical('+390461123456') == '0461123456'\n",
    "assert canonical('0039 0461 123456') == '0461123456'\n",
    "assert canonical('00390461123456') == '0461123456'\n",
    "assert canonical('003902123456') == '02123456'\n",
    "assert canonical('003902120039') == '02120039'\n",
    "assert canonical('0039021239') == '021239'\n"
   ]
  },
  {
   "cell_type": "markdown",
   "metadata": {},
   "source": [
    "## 2. prefix\n",
    "\n",
    "✪✪ We now want to extract the province prefix - the ones we consider as valid are in `province_prefixes` list.\n",
    "\n",
    "Note some numbers are from mobile operators and you can distinguish them by prefixes like `328` - the ones we consider are in an `mobile_prefixes` list.\n"
   ]
  },
  {
   "cell_type": "raw",
   "id": "fd7f26e2",
   "metadata": {
    "format": "text/html"
   },
   "source": [
    "<a  class=\"jupman-sol jupman-sol-toggler\" \n",
    " onclick=\"jupman.toggleSolution(this);\" \n",
    " data-jupman-show=\"Show solution\" data-jupman-hide=\"Hide\">Show solution</a><div class=\"jupman-sol jupman-sol-code\" style=\"display:none\">  "
   ]
  },
  {
   "cell_type": "code",
   "execution_count": 2,
   "metadata": {},
   "outputs": [],
   "source": [
    "province_prefixes = ['0461', '02', '011']\n",
    "mobile_prefixes = ['330', '340', '328', '390', '3771']\n",
    "\n",
    "\n",
    "def prefix(phone):\n",
    "    \"\"\" RETURN the prefix of the phone as a string. Remeber first to make it canonical !!        \n",
    "        \n",
    "        If phone is mobile, RETURN string 'mobile'. If it is not a phone nor a mobile, RETURN \n",
    "        the string 'unrecognized'\n",
    "        \n",
    "        To determine if the phone is mobile or from province, use above province_prefixes and mobile_prefixes lists.\n",
    "        \n",
    "        DO USE THE ALREADY DEFINED FUCTION canonical(phone)\n",
    "    \"\"\"\n",
    "    \n",
    "    c = canonical(phone)\n",
    "    for m in mobile_prefixes:\n",
    "        if c.startswith(m):\n",
    "            return 'mobile'\n",
    "    for p in province_prefixes:\n",
    "        if c.startswith(p):\n",
    "            return p\n",
    "    return 'unrecognized'\n",
    "    \n",
    "\n",
    "assert prefix('0461123') == '0461'\n",
    "assert prefix('+39 0461  4321') == '0461'\n",
    "assert prefix('0039011 432434') == '011'\n",
    "assert prefix('328 432434') == 'mobile'\n",
    "assert prefix('+39340 432434') == 'mobile'\n",
    "assert prefix('00666011 432434') == 'unrecognized'\n",
    "assert prefix('12345') == 'unrecognized'\n",
    "assert prefix('+39 123 12345') == 'unrecognized'\n"
   ]
  },
  {
   "cell_type": "raw",
   "id": "5e9d2ad0",
   "metadata": {
    "format": "text/html"
   },
   "source": [
    "</div>"
   ]
  },
  {
   "cell_type": "code",
   "execution_count": 2,
   "metadata": {},
   "outputs": [],
   "source": [
    "province_prefixes = ['0461', '02', '011']\n",
    "mobile_prefixes = ['330', '340', '328', '390', '3771']\n",
    "\n",
    "\n",
    "def prefix(phone):\n",
    "    \"\"\" RETURN the prefix of the phone as a string. Remeber first to make it canonical !!        \n",
    "        \n",
    "        If phone is mobile, RETURN string 'mobile'. If it is not a phone nor a mobile, RETURN \n",
    "        the string 'unrecognized'\n",
    "        \n",
    "        To determine if the phone is mobile or from province, use above province_prefixes and mobile_prefixes lists.\n",
    "        \n",
    "        DO USE THE ALREADY DEFINED FUCTION canonical(phone)\n",
    "    \"\"\"\n",
    "    raise Exception('TODO IMPLEMENT ME !')\n",
    "\n",
    "assert prefix('0461123') == '0461'\n",
    "assert prefix('+39 0461  4321') == '0461'\n",
    "assert prefix('0039011 432434') == '011'\n",
    "assert prefix('328 432434') == 'mobile'\n",
    "assert prefix('+39340 432434') == 'mobile'\n",
    "assert prefix('00666011 432434') == 'unrecognized'\n",
    "assert prefix('12345') == 'unrecognized'\n",
    "assert prefix('+39 123 12345') == 'unrecognized'\n"
   ]
  },
  {
   "cell_type": "markdown",
   "metadata": {},
   "source": [
    "## 3. hist\n",
    "\n",
    "Difficulty: ✪✪✪"
   ]
  },
  {
   "cell_type": "raw",
   "id": "4b7486a5",
   "metadata": {
    "format": "text/html"
   },
   "source": [
    "<a  class=\"jupman-sol jupman-sol-toggler\" \n",
    " onclick=\"jupman.toggleSolution(this);\" \n",
    " data-jupman-show=\"Show solution\" data-jupman-hide=\"Hide\">Show solution</a><div class=\"jupman-sol jupman-sol-code\" style=\"display:none\">  "
   ]
  },
  {
   "cell_type": "code",
   "execution_count": 3,
   "metadata": {},
   "outputs": [],
   "source": [
    "province_prefixes = ['0461', '02', '011']\n",
    "mobile_prefixes = ['330', '340', '328', '390', '3771']\n",
    "\n",
    "\n",
    "def hist(phones):\n",
    "    \"\"\" Given a list of non-canonical phones, RETURN a dictionary where the keys\n",
    "        are the prefixes of the canonical phones and the values are the frequencies \n",
    "        of the prefixes (keys may also be `unrecognized' or `mobile`)\n",
    "        \n",
    "        NOTE: Numbers corresponding to the same phone (so which have the same canonical\n",
    "              representation) must be counted ONLY ONCE!\n",
    "        \n",
    "        DO USE THE ALREADY DEFINED FUCTIONS canonical(phone) AND prefix(phone)\n",
    "    \"\"\"\n",
    "    \n",
    "    d = {}\n",
    "    s = set()\n",
    "    \n",
    "    for phone in phones:\n",
    "        c = canonical(phone)\n",
    "        if c not in s:\n",
    "            s.add(c)\n",
    "            p = prefix(phone)\n",
    "            if p in d :\n",
    "                d[p] += 1\n",
    "            else:\n",
    "                d[p] = 1\n",
    "    return d\n",
    "    \n",
    "\n",
    "assert hist(['0461123']) == {'0461':1}\n",
    "assert hist(['123']) == {'unrecognized':1}\n",
    "assert hist(['328 123']) == {'mobile':1}\n",
    "assert hist(['0461123','+390461123']) == {'0461':1}  # same canonicals, should be counted only once\n",
    "assert hist(['0461123', '+39 0461  4321']) == {'0461':2}\n",
    "assert hist(['0461123', '+39 0461  4321', '0039011 432434']) == {'0461':2, '011':1}\n",
    "assert hist(['+39   02 423', '0461123', '02 426', '+39 0461  4321', '0039328 1234567', '02 423', '02 424']) == {'0461':2, 'mobile':1,  '02':3}"
   ]
  },
  {
   "cell_type": "raw",
   "id": "0ea300ec",
   "metadata": {
    "format": "text/html"
   },
   "source": [
    "</div>"
   ]
  },
  {
   "cell_type": "code",
   "execution_count": 3,
   "metadata": {},
   "outputs": [],
   "source": [
    "province_prefixes = ['0461', '02', '011']\n",
    "mobile_prefixes = ['330', '340', '328', '390', '3771']\n",
    "\n",
    "\n",
    "def hist(phones):\n",
    "    \"\"\" Given a list of non-canonical phones, RETURN a dictionary where the keys\n",
    "        are the prefixes of the canonical phones and the values are the frequencies \n",
    "        of the prefixes (keys may also be `unrecognized' or `mobile`)\n",
    "        \n",
    "        NOTE: Numbers corresponding to the same phone (so which have the same canonical\n",
    "              representation) must be counted ONLY ONCE!\n",
    "        \n",
    "        DO USE THE ALREADY DEFINED FUCTIONS canonical(phone) AND prefix(phone)\n",
    "    \"\"\"\n",
    "    raise Exception('TODO IMPLEMENT ME !')\n",
    "\n",
    "assert hist(['0461123']) == {'0461':1}\n",
    "assert hist(['123']) == {'unrecognized':1}\n",
    "assert hist(['328 123']) == {'mobile':1}\n",
    "assert hist(['0461123','+390461123']) == {'0461':1}  # same canonicals, should be counted only once\n",
    "assert hist(['0461123', '+39 0461  4321']) == {'0461':2}\n",
    "assert hist(['0461123', '+39 0461  4321', '0039011 432434']) == {'0461':2, '011':1}\n",
    "assert hist(['+39   02 423', '0461123', '02 426', '+39 0461  4321', '0039328 1234567', '02 423', '02 424']) == {'0461':2, 'mobile':1,  '02':3}"
   ]
  },
  {
   "cell_type": "markdown",
   "metadata": {},
   "source": [
    "\n",
    "\n",
    "## 4. display calls\n",
    "\n",
    "✪✪ Using matplotlib, display a bar plot of the frequency of calls by prefixes (including mobile and unrecognized), sorting them in reverse order so you first see the province with the higher number of calls. \n",
    "Also, save the plot on disk with `plt.savefig('prefixes-count.png')` (call it before `plt.show()`)\n",
    "\n",
    "If you're in trouble you can find plenty of examples in the [visualization chapter](https://en.softpython.org/visualization/visualization-sol.html)\n",
    "\n",
    "You should obtain something like this: \n",
    "\n",
    "![prefixes count solution 3984jj](img/prefixes-count-solution.png)\n",
    "\n"
   ]
  },
  {
   "cell_type": "code",
   "execution_count": 4,
   "metadata": {},
   "outputs": [],
   "source": [
    "\n",
    "%matplotlib inline\n",
    "import numpy as np\n",
    "import matplotlib.pyplot as plt\n",
    "province_prefixes = ['0461', '02', '011']\n",
    "mobile_prefixes = ['330', '340', '328', '390', '3771']\n",
    "phones = ['+39   02 423', '0461123', '02 426', '+39 0461  4321', '0039328 1234567', '02 423', '02 424']\n",
    "\n",
    "\n",
    "# write here\n",
    "\n",
    "\n",
    "\n"
   ]
  },
  {
   "cell_type": "raw",
   "id": "665f09fd",
   "metadata": {
    "format": "text/html"
   },
   "source": [
    "<a  class=\"jupman-sol jupman-sol-toggler\" \n",
    " onclick=\"jupman.toggleSolution(this);\" \n",
    " data-jupman-show=\"Show solution\" data-jupman-hide=\"Hide\">Show solution</a><div class=\"jupman-sol jupman-sol-code\" style=\"display:none\">  "
   ]
  },
  {
   "cell_type": "code",
   "execution_count": 5,
   "metadata": {},
   "outputs": [
    {
     "data": {
      "image/png": "[encoded data removed]",
      "text/plain": [
       "<Figure size 432x288 with 1 Axes>"
      ]
     },
     "metadata": {},
     "output_type": "display_data"
    }
   ],
   "source": [
    "# SOLUTION\n",
    "\n",
    "%matplotlib inline\n",
    "import numpy as np\n",
    "import matplotlib.pyplot as plt\n",
    "\n",
    "province_prefixes = ['0461', '02', '011']\n",
    "province_names = ['Trento', 'Milano', 'Torino']\n",
    "mobile_prefixes = ['330', '340', '328', '390', '3771']\n",
    "phones = ['+39   02 423', '0461123', '02 426', '+39 0461  4321', '0039328 1234567', '02 423', '02 424']\n",
    "\n",
    "coords = list(hist(phones).items())\n",
    "\n",
    "coords.sort(key=lambda x:x[1], reverse=True)\n",
    "\n",
    "xs = np.arange(len(coords))\n",
    "ys = [c[1] for c in coords]\n",
    "\n",
    "plt.bar(xs, ys, 0.5, align='center')\n",
    "\n",
    "plt.title(\"province calls by prefixes sorted solution\")\n",
    "plt.xticks(xs, [c[0] for c in coords])\n",
    "\n",
    "plt.xlabel('prefixes')\n",
    "plt.ylabel('calls')\n",
    "\n",
    "plt.savefig('prefixes-count-solution.png')\n",
    "\n",
    "plt.show()\n",
    "\n"
   ]
  },
  {
   "cell_type": "raw",
   "id": "44c1b76e",
   "metadata": {
    "format": "text/html"
   },
   "source": [
    "</div>"
   ]
  },
  {
   "cell_type": "code",
   "execution_count": 5,
   "metadata": {},
   "outputs": [
    {
     "data": {
      "image/png": "[encoded data removed]",
      "text/plain": [
       "<Figure size 432x288 with 1 Axes>"
      ]
     },
     "metadata": {},
     "output_type": "display_data"
    }
   ],
   "source": []
  }
 ],
 "metadata": {
  "celltoolbar": "Edit Metadata",
  "kernelspec": {
   "display_name": "Python 3 (ipykernel)",
   "language": "python",
   "name": "python3"
  },
  "language_info": {
   "codemirror_mode": {
    "name": "ipython",
    "version": 3
   },
   "file_extension": ".py",
   "mimetype": "text/x-python",
   "name": "python",
   "nbconvert_exporter": "python",
   "pygments_lexer": "ipython3",
   "version": "3.7.10"
  },
  "toc": {
   "base_numbering": 1,
   "nav_menu": {},
   "number_sections": false,
   "sideBar": true,
   "skip_h1_title": false,
   "title_cell": "Table of Contents",
   "title_sidebar": "Contents",
   "toc_cell": false,
   "toc_position": {},
   "toc_section_display": true,
   "toc_window_display": true
  }
 },
 "nbformat": 4,
 "nbformat_minor": 1
}
