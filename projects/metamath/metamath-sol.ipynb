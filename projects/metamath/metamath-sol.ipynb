{
 "cells": [
  {
   "cell_type": "code",
   "execution_count": 1,
   "metadata": {
    "nbsphinx": "hidden"
   },
   "outputs": [],
   "source": [
    "# Please execute this cell\n",
    "import soft"
   ]
  },
  {
   "cell_type": "markdown",
   "metadata": {},
   "source": [
    "# Metamath\n",
    "\n",
    "## [Download worked project](../../_static/generated/metamath-prj.zip) \n",
    "\n",
    "[Browse files online](https://github.com/DavidLeoni/softpython-en/tree/master/projects/metamath)\n",
    "\n",
    "\n",
    "[Metamath](http://us.metamath.org) is a language that can express theorems, accompanied by proofs that can be verified by a computer program.  Its website lets you browse from [complex theorems](http://us.metamath.org/mm_100.html) up to the most [basic axioms](http://us.metamath.org/mpeuni/mmtheorems1.html#mm5s) they rely on to be proven.\n",
    "\n",
    "The purpose of this project is to visualize the steps of the proof as a graph, and visualize statement frequencies.\n",
    "\n",
    "<div class=\"alert alert-warning\">\n",
    "\n",
    "**DISCLAIMER: No panic** !\n",
    "\n",
    "You **DO NOT** need to understand _any_ of the mathematics which follows. Here we are _only_ interested in parsing the data and visualize it\n",
    "\n",
    "</div>\n",
    "\n",
    "<div class=\"alert alert-warning\"> \n",
    "     \n",
    "**REQUIREMENTS: Having read** [Relational data tutorial](https://en.softpython.org/relational/relational1-intro-sol.html#) **, which contains also instructions for installing required libraries.**\n",
    "    \n",
    "</div>    "
   ]
  },
  {
   "cell_type": "markdown",
   "metadata": {},
   "source": [
    "## What to do\n",
    "\n",
    "1. Unzip exercises zip in a folder, you should obtain something like this:\n",
    "\n",
    "```\n",
    "metamath-prj\n",
    "    metamath.ipynb\n",
    "    metamath-sol.ipynb\n",
    "    db.mm\n",
    "    proof.txt\n",
    "    soft.py\n",
    "    jupman.py\n",
    "```\n",
    "\n",
    "<div class=\"alert alert-warning\">\n",
    "\n",
    "**WARNING: to correctly visualize the notebook, it MUST be in an unzipped folder !**\n",
    "</div>"
   ]
  },
  {
   "cell_type": "markdown",
   "metadata": {},
   "source": [
    "2. open Jupyter Notebook from that folder. Two things should open, first a console and then a browser. The browser should show a file list: navigate the list and open the notebook `metamath.ipynb`\n",
    "\n",
    "3. Go on reading the notebook, and write in the appropriate cells when asked"
   ]
  },
  {
   "cell_type": "markdown",
   "metadata": {},
   "source": [
    "Shortcut keys:\n",
    "\n",
    "- to execute Python code inside a Jupyter cell, press `Control + Enter`\n",
    "\n",
    "- to execute Python code inside a Jupyter cell AND select next cell, press `Shift + Enter`\n",
    "\n",
    "- to execute Python code inside a Jupyter cell AND a create a new cell aftwerwards, press `Alt + Enter`\n",
    "\n",
    "- If the notebooks look stuck, try to select `Kernel -> Restart`"
   ]
  },
  {
   "cell_type": "markdown",
   "metadata": {},
   "source": [
    "## Metamath db\n",
    "\n",
    "For this exercise, we have two files to consider:\n",
    "\n",
    "- [db.mm](db.mm) contains the description of a simple algebra where you can only add zero to variables\n",
    "- [proof.txt](proof.txt) contains the awesome proof that... any variable is equal to itself"
   ]
  },
  {
   "cell_type": "markdown",
   "metadata": {},
   "source": [
    "First you will load [db.mm](db.mm) and parse text file into Python, here is the full content:"
   ]
  },
  {
   "cell_type": "code",
   "execution_count": 2,
   "metadata": {},
   "outputs": [
    {
     "name": "stdout",
     "output_type": "stream",
     "text": [
      "$( Declare the constant symbols we will use $)\n",
      "    $c 0 + = -> ( ) term wff |- $.\n",
      "$( Declare the metavariables we will use $)\n",
      "    $v t r s P Q $.\n",
      "$( Specify properties of the metavariables $)\n",
      "    tt $f term t $.\n",
      "    tr $f term r $.\n",
      "    ts $f term s $.\n",
      "    wp $f wff P $.\n",
      "    wq $f wff Q $.\n",
      "$( Define \"term\" and \"wff\" $)\n",
      "    tze $a term 0 $.\n",
      "    tpl $a term ( t + r ) $.\n",
      "    weq $a wff t = r $.\n",
      "    wim $a wff ( P -> Q ) $.\n",
      "$( State the axioms $)\n",
      "    a1 $a |- ( t = r -> ( t = s -> r = s ) ) $.\n",
      "    a2 $a |- ( t + 0 ) = t $.\n",
      "$( Define the modus ponens inference rule $)\n",
      "    ${\n",
      "       min $e |- P $.\n",
      "       maj $e |- ( P -> Q ) $.\n",
      "       mp  $a |- Q $.\n",
      "    $}\n",
      "\n"
     ]
    }
   ],
   "source": [],
   "transient": {
    "remove_source": true
   }
  },
  {
   "cell_type": "markdown",
   "metadata": {},
   "source": [
    "Format description:\n",
    "\n",
    "- Each row is a _statement_\n",
    "- Words are separated by spaces. Each word that appears in a _statement_ is called a _token_\n",
    "- Tokens starting with dollar `$` are called _keywords_, you may have `$(`, `$)`, `$c`, `$v`, `$a`,`$f`,`${`,`$}`, `$.`\n",
    "- Statements _may_ be identified with a unique arbitrary _label_, which is placed at the beginning of the row. For example, `tt`, `weq`, `maj` are all labels (in the file there are more):\n",
    "    - `tt $f term t $.`\n",
    "    - `weq $a wff t = r $.`\n",
    "    - `maj $e |- ( P -> Q ) $.`\n",
    "- Some rows have no label, examples:\n",
    "    - `$c 0 + = -> ( ) term wff |- $.`\n",
    "    - `$v t r s P Q $.`\n",
    "    - `$( State the axioms $)`\n",
    "    - `${`\n",
    "    - `$}`\n",
    "- in each row, after the first dollar _keyword_, you _may_ have an arbitratry _sequence_ of characters terminated by a dollar followed by a dot `$.`.  **You don't need to care about the sequence meaning!** Examples:\n",
    "    - `tt $f term t $.` has sequence `term t`\n",
    "    - `weq $a wff t = r $.` has sequence `wff t = r`\n",
    "    - `$v t r s P Q $.` has sequence `t r s P Q`\n",
    "    \n",
    "Now implement function `parse_db` which scans the file line by line (it is a text file, so you can use [line files examples](https://sciprog.davidleoni.it/formats/formats-sol.html#1.-line-files)), parses ONLY rows with labels, and RETURN a dictionary mapping labels to remaining data in the row represented as a dictionary, formatted like this (showing here only first three labels): \n",
    "\n",
    "```python\n",
    "{'a1': {'keyword': '$a',\n",
    "        'sequence': '|- ( t = r -> ( t = s -> r = s ) )'},\n",
    " 'a2': {'keyword': '$a', \n",
    "        'sequence': '|- ( t + 0 ) = t'},\n",
    " 'maj': {'keyword': '$e', \n",
    "         'sequence': '|- ( P -> Q )'},\n",
    " 'min': {'keyword': '$e', 'sequence': '|- P'},\n",
    " 'mp':  {'keyword': '$a', 'sequence': '|- Q'},\n",
    " 'tpl': {'keyword': '$a', 'sequence': 'term ( t + r )'},\n",
    " 'tr':  {'keyword': '$f', 'sequence': 'term r'},\n",
    " 'ts':  {'keyword': '$f', 'sequence': 'term s'},\n",
    " 'tt':  {'keyword': '$f', 'sequence': 'term t'},\n",
    " 'tze': {'keyword': '$a', 'sequence': 'term 0'},\n",
    " 'weq': {'keyword': '$a', 'sequence': 'wff t = r'},\n",
    " 'wim': {'keyword': '$a', 'sequence': 'wff ( P -> Q )'},\n",
    " 'wp':  {'keyword': '$f', 'sequence': 'wff P'},\n",
    " 'wq':  {'keyword': '$f', 'sequence': 'wff Q'}\n",
    "}\n",
    "```"
   ]
  },
  {
   "cell_type": "markdown",
   "metadata": {},
   "source": [
    "## 1. Metamath db"
   ]
  },
  {
   "cell_type": "raw",
   "id": "50d547f7",
   "metadata": {
    "format": "text/html"
   },
   "source": [
    "<a  class=\"jupman-sol jupman-sol-toggler\" \n",
    " onclick=\"jupman.toggleSolution(this);\" \n",
    " data-jupman-show=\"Show solution\" data-jupman-hide=\"Hide\">Show solution</a><div class=\"jupman-sol jupman-sol-code\" style=\"display:none\">  "
   ]
  },
  {
   "cell_type": "code",
   "execution_count": 3,
   "metadata": {},
   "outputs": [
    {
     "name": "stdout",
     "output_type": "stream",
     "text": [
      "{'a1': {'keyword': '$a', 'sequence': '|- ( t = r -> ( t = s -> r = s ) )'},\n",
      " 'a2': {'keyword': '$a', 'sequence': '|- ( t + 0 ) = t'},\n",
      " 'maj': {'keyword': '$e', 'sequence': '|- ( P -> Q )'},\n",
      " 'min': {'keyword': '$e', 'sequence': '|- P'},\n",
      " 'mp': {'keyword': '$a', 'sequence': '|- Q'},\n",
      " 'tpl': {'keyword': '$a', 'sequence': 'term ( t + r )'},\n",
      " 'tr': {'keyword': '$f', 'sequence': 'term r'},\n",
      " 'ts': {'keyword': '$f', 'sequence': 'term s'},\n",
      " 'tt': {'keyword': '$f', 'sequence': 'term t'},\n",
      " 'tze': {'keyword': '$a', 'sequence': 'term 0'},\n",
      " 'weq': {'keyword': '$a', 'sequence': 'wff t = r'},\n",
      " 'wim': {'keyword': '$a', 'sequence': 'wff ( P -> Q )'},\n",
      " 'wp': {'keyword': '$f', 'sequence': 'wff P'},\n",
      " 'wq': {'keyword': '$f', 'sequence': 'wff Q'}}\n"
     ]
    }
   ],
   "source": [
    "\n",
    "def parse_db(filepath):\n",
    "    \n",
    "    ret = {}\n",
    "    with open(filepath, encoding='utf-8') as f:\n",
    "        line=f.readline().strip()\n",
    "        while line != \"\":\n",
    "            #print(line)                \n",
    "\n",
    "            if line.startswith('$('):\n",
    "                label = ''\n",
    "                keyword = '$('\n",
    "                sequence = ''\n",
    "            elif line.split()[0].startswith('${'):\n",
    "                label = ''\n",
    "                keyword = '${'\n",
    "                sequence = ''\n",
    "            elif line.split()[0].startswith('$}'):\n",
    "                label = ''\n",
    "                keyword = '$}'\n",
    "                sequence = ''\n",
    "            elif line.split()[0].startswith('$'):\n",
    "                label = ''\n",
    "                keyword = line.split()[0]\n",
    "                sequence = line.split()[1][:-2].strip()\n",
    "            else:\n",
    "                label = line.split(' $')[0].strip()\n",
    "                keyword = line.split()[1]\n",
    "                if line.endswith('$.'):\n",
    "                    sequence = line.split(keyword)[1][1:-2].strip()                \n",
    "            \n",
    "            if label:\n",
    "                ret[label] = {\n",
    "                    'keyword' : keyword,\n",
    "                    'sequence' : sequence\n",
    "                }\n",
    "                #print('   DEBUG: FOUND', label, ':', ret[label])\n",
    "            #else:\n",
    "                #print('   DEBUG: DISCARDED')\n",
    "            line=f.readline().strip()\n",
    "    return ret\n",
    "    \n",
    "\n",
    "db_mm = parse_db('db.mm')\n",
    "\n",
    "assert db_mm['tt'] == {'keyword': '$f', 'sequence': 'term t'}\n",
    "assert db_mm['maj'] == {'keyword': '$e', 'sequence': '|- ( P -> Q )'}\n",
    "# careful 'mp' label shouldn't have spaces inside !\n",
    "assert 'mp' in db_mm\n",
    "assert db_mm['mp'] == {'keyword': '$a', 'sequence': '|- Q'}\n",
    "\n",
    "\n",
    "from pprint import pprint\n",
    "pprint(db_mm)"
   ]
  },
  {
   "cell_type": "raw",
   "id": "7bae7865",
   "metadata": {
    "format": "text/html"
   },
   "source": [
    "</div>"
   ]
  },
  {
   "cell_type": "code",
   "execution_count": 3,
   "metadata": {},
   "outputs": [],
   "source": [
    "\n",
    "def parse_db(filepath):\n",
    "    raise Exception('TODO IMPLEMENT ME !')\n",
    "\n",
    "db_mm = parse_db('db.mm')\n",
    "\n",
    "assert db_mm['tt'] == {'keyword': '$f', 'sequence': 'term t'}\n",
    "assert db_mm['maj'] == {'keyword': '$e', 'sequence': '|- ( P -> Q )'}\n",
    "# careful 'mp' label shouldn't have spaces inside !\n",
    "assert 'mp' in db_mm\n",
    "assert db_mm['mp'] == {'keyword': '$a', 'sequence': '|- Q'}\n",
    "\n",
    "\n",
    "from pprint import pprint\n",
    "pprint(db_mm)"
   ]
  },
  {
   "cell_type": "markdown",
   "metadata": {},
   "source": [
    "## 2.1 Metamath proof\n",
    "\n",
    "A proof file is made of steps, one per row. Each statement, in order to be proven, needs other steps to be proven until very basic facts called axioms are reached, which need no further proof (typically proofs in Metamath are shown in much shorter format, but here we use a more explicit way)\n",
    "\n",
    "So a proof can be nicely displayed as a tree of the steps it is made of, where the top node is the step to be proven and the axioms are the leaves of the tree.\n",
    "\n",
    "Complete content of [proof.txt](proof.txt):"
   ]
  },
  {
   "cell_type": "code",
   "execution_count": 4,
   "metadata": {},
   "outputs": [
    {
     "name": "stdout",
     "output_type": "stream",
     "text": [
      " 1 tt            $f term t\n",
      " 2 tze           $a term 0\n",
      " 3 1,2 tpl       $a term ( t + 0 )\n",
      " 4 tt            $f term t\n",
      " 5 3,4 weq       $a wff ( t + 0 ) = t\n",
      " 6 tt            $f term t\n",
      " 7 tt            $f term t\n",
      " 8 6,7 weq       $a wff t = t\n",
      " 9 tt            $f term t\n",
      "10 9 a2          $a |- ( t + 0 ) = t\n",
      "11 tt            $f term t\n",
      "12 tze           $a term 0\n",
      "13 11,12 tpl     $a term ( t + 0 )\n",
      "14 tt            $f term t\n",
      "15 13,14 weq     $a wff ( t + 0 ) = t\n",
      "16 tt            $f term t\n",
      "17 tze           $a term 0\n",
      "18 16,17 tpl     $a term ( t + 0 )\n",
      "19 tt            $f term t\n",
      "20 18,19 weq     $a wff ( t + 0 ) = t\n",
      "21 tt            $f term t\n",
      "22 tt            $f term t\n",
      "23 21,22 weq     $a wff t = t\n",
      "24 20,23 wim     $a wff ( ( t + 0 ) = t -> t = t )\n",
      "25 tt            $f term t\n",
      "26 25 a2         $a |- ( t + 0 ) = t\n",
      "27 tt            $f term t\n",
      "28 tze           $a term 0\n",
      "29 27,28 tpl     $a term ( t + 0 )\n",
      "30 tt            $f term t\n",
      "31 tt            $f term t\n",
      "32 29,30,31 a1   $a |- ( ( t + 0 ) = t -> ( ( t + 0 ) = t -> t = t ) )\n",
      "33 15,24,26,32 mp  $a |- ( ( t + 0 ) = t -> t = t )\n",
      "34 5,8,10,33 mp  $a |- t = t\n"
     ]
    }
   ],
   "source": [],
   "transient": {
    "remove_source": true
   }
  },
  {
   "cell_type": "markdown",
   "metadata": {},
   "source": [
    "Each line represents a step of the proof. Last line is the final goal of the proof.\n",
    "\n",
    "Each line contains, in order:\n",
    "\n",
    "- a step number at the beginning, starting from 1 (`step_id`) \n",
    "- _possibly_ a list of other step_ids, separated by commas, like `29,30,31` - they are references to previous rows\n",
    "- label of the `db_mm` statement referenced by the step, like `tt`, `tze`, `weq` - that label must have been defined somewhere in `db.mm` file \n",
    "- statement type: a token starting with a dollar, like `$a`, `$f`\n",
    "- a sequence of characters, like (for you they are just characters, **don't care about the meaning** !):\n",
    "    - `term ( t + 0 )`\n",
    "    - `|- ( ( t + 0 ) = t -> ( ( t + 0 ) = t -> t = t ) )`"
   ]
  },
  {
   "cell_type": "markdown",
   "metadata": {},
   "source": [
    "Implement function `parse_proof`, which takes a `filepath` to the proof and RETURN a list of steps expressed as a dictionary, in this format (showing here only first 5 items): \n",
    "\n",
    "**NOTE**: referenced `step_ids` are **integer** numbers and they are the original ones from the file, meaning they start **from one**."
   ]
  },
  {
   "cell_type": "markdown",
   "metadata": {},
   "source": [
    "```python\n",
    "[\n",
    "    {'keyword': '$f', \n",
    "     'label': 'tt', \n",
    "     'sequence': 'term t', \n",
    "     'step_ids': []},\n",
    "    {'keyword': '$a', \n",
    "     'label': 'tze', \n",
    "     'sequence': 'term 0', \n",
    "     'step_ids': []},\n",
    "    {'keyword': '$a',\n",
    "     'label': 'tpl',\n",
    "     'sequence': 'term ( t + 0 )',\n",
    "     'step_ids': [1,2]},\n",
    "    {'keyword': '$f', \n",
    "     'label': 'tt', \n",
    "     'sequence': 'term t', \n",
    "     'step_ids': []},\n",
    "    {'keyword': '$a',\n",
    "     'label': 'weq',\n",
    "     'sequence': 'wff ( t + 0 ) = t',\n",
    "     'step_ids': [3,4]},\n",
    "     .\n",
    "     .\n",
    "     .\n",
    "]\n",
    "```"
   ]
  },
  {
   "cell_type": "raw",
   "id": "7f628e2e",
   "metadata": {
    "format": "text/html"
   },
   "source": [
    "<a  class=\"jupman-sol jupman-sol-toggler\" \n",
    " onclick=\"jupman.toggleSolution(this);\" \n",
    " data-jupman-show=\"Show solution\" data-jupman-hide=\"Hide\">Show solution</a><div class=\"jupman-sol jupman-sol-code\" style=\"display:none\">  "
   ]
  },
  {
   "cell_type": "code",
   "execution_count": 5,
   "metadata": {},
   "outputs": [
    {
     "name": "stdout",
     "output_type": "stream",
     "text": [
      "[{'keyword': '$f', 'label': 'tt', 'sequence': 'term t', 'step_ids': []},\n",
      " {'keyword': '$a', 'label': 'tze', 'sequence': 'term 0', 'step_ids': []},\n",
      " {'keyword': '$a',\n",
      "  'label': 'tpl',\n",
      "  'sequence': 'term ( t + 0 )',\n",
      "  'step_ids': [1, 2]},\n",
      " {'keyword': '$f', 'label': 'tt', 'sequence': 'term t', 'step_ids': []},\n",
      " {'keyword': '$a',\n",
      "  'label': 'weq',\n",
      "  'sequence': 'wff ( t + 0 ) = t',\n",
      "  'step_ids': [3, 4]},\n",
      " {'keyword': '$f', 'label': 'tt', 'sequence': 'term t', 'step_ids': []},\n",
      " {'keyword': '$f', 'label': 'tt', 'sequence': 'term t', 'step_ids': []},\n",
      " {'keyword': '$a', 'label': 'weq', 'sequence': 'wff t = t', 'step_ids': [6, 7]},\n",
      " {'keyword': '$f', 'label': 'tt', 'sequence': 'term t', 'step_ids': []},\n",
      " {'keyword': '$a',\n",
      "  'label': 'a2',\n",
      "  'sequence': '|- ( t + 0 ) = t',\n",
      "  'step_ids': [9]},\n",
      " {'keyword': '$f', 'label': 'tt', 'sequence': 'term t', 'step_ids': []},\n",
      " {'keyword': '$a', 'label': 'tze', 'sequence': 'term 0', 'step_ids': []},\n",
      " {'keyword': '$a',\n",
      "  'label': 'tpl',\n",
      "  'sequence': 'term ( t + 0 )',\n",
      "  'step_ids': [11, 12]},\n",
      " {'keyword': '$f', 'label': 'tt', 'sequence': 'term t', 'step_ids': []},\n",
      " {'keyword': '$a',\n",
      "  'label': 'weq',\n",
      "  'sequence': 'wff ( t + 0 ) = t',\n",
      "  'step_ids': [13, 14]},\n",
      " {'keyword': '$f', 'label': 'tt', 'sequence': 'term t', 'step_ids': []},\n",
      " {'keyword': '$a', 'label': 'tze', 'sequence': 'term 0', 'step_ids': []},\n",
      " {'keyword': '$a',\n",
      "  'label': 'tpl',\n",
      "  'sequence': 'term ( t + 0 )',\n",
      "  'step_ids': [16, 17]},\n",
      " {'keyword': '$f', 'label': 'tt', 'sequence': 'term t', 'step_ids': []},\n",
      " {'keyword': '$a',\n",
      "  'label': 'weq',\n",
      "  'sequence': 'wff ( t + 0 ) = t',\n",
      "  'step_ids': [18, 19]},\n",
      " {'keyword': '$f', 'label': 'tt', 'sequence': 'term t', 'step_ids': []},\n",
      " {'keyword': '$f', 'label': 'tt', 'sequence': 'term t', 'step_ids': []},\n",
      " {'keyword': '$a',\n",
      "  'label': 'weq',\n",
      "  'sequence': 'wff t = t',\n",
      "  'step_ids': [21, 22]},\n",
      " {'keyword': '$a',\n",
      "  'label': 'wim',\n",
      "  'sequence': 'wff ( ( t + 0 ) = t -> t = t )',\n",
      "  'step_ids': [20, 23]},\n",
      " {'keyword': '$f', 'label': 'tt', 'sequence': 'term t', 'step_ids': []},\n",
      " {'keyword': '$a',\n",
      "  'label': 'a2',\n",
      "  'sequence': '|- ( t + 0 ) = t',\n",
      "  'step_ids': [25]},\n",
      " {'keyword': '$f', 'label': 'tt', 'sequence': 'term t', 'step_ids': []},\n",
      " {'keyword': '$a', 'label': 'tze', 'sequence': 'term 0', 'step_ids': []},\n",
      " {'keyword': '$a',\n",
      "  'label': 'tpl',\n",
      "  'sequence': 'term ( t + 0 )',\n",
      "  'step_ids': [27, 28]},\n",
      " {'keyword': '$f', 'label': 'tt', 'sequence': 'term t', 'step_ids': []},\n",
      " {'keyword': '$f', 'label': 'tt', 'sequence': 'term t', 'step_ids': []},\n",
      " {'keyword': '$a',\n",
      "  'label': 'a1',\n",
      "  'sequence': '|- ( ( t + 0 ) = t -> ( ( t + 0 ) = t -> t = t ) )',\n",
      "  'step_ids': [29, 30, 31]},\n",
      " {'keyword': '$a',\n",
      "  'label': 'mp',\n",
      "  'sequence': '|- ( ( t + 0 ) = t -> t = t )',\n",
      "  'step_ids': [15, 24, 26, 32]},\n",
      " {'keyword': '$a',\n",
      "  'label': 'mp',\n",
      "  'sequence': '|- t = t',\n",
      "  'step_ids': [5, 8, 10, 33]}]\n"
     ]
    }
   ],
   "source": [
    "def parse_proof(filepath):\n",
    "    \n",
    "    ret = []\n",
    "\n",
    "    with open(filepath, encoding='utf-8') as f:\n",
    "        line=f.readline().strip()\n",
    "\n",
    "        while line != \"\":\n",
    "            \n",
    "            step_id = int(line.split(' ')[0])            \n",
    "            label = line.split('$')[0].strip().split(' ')[-1]            \n",
    "            keyword = '$' + line.split('$')[1][:1]            \n",
    "            sequence = line.split('$')[1][2:]            \n",
    "            candidate_step_ids = line.split(' ')[1]        \n",
    "\n",
    "            if candidate_step_ids != label:\n",
    "                step_ids = [int(x) for x in line.split(' ')[1].split(',')]\n",
    "            else:\n",
    "                step_ids = []\n",
    "            #print('deps =', deps)\n",
    "        \n",
    "            ret.append( {\n",
    "                'step_ids': step_ids,\n",
    "                'sequence': sequence,\n",
    "                'label': label, \n",
    "                'keyword': keyword\n",
    "            })\n",
    "\n",
    "            line=f.readline().strip()\n",
    "        return ret\n",
    "    \n",
    "\n",
    "proof = parse_proof('proof.txt')\n",
    "\n",
    "assert proof[0] == {'keyword': '$f', 'label': 'tt', 'sequence': 'term t', 'step_ids': []}\n",
    "assert proof[1] == {'keyword': '$a', 'label': 'tze', 'sequence': 'term 0', 'step_ids': []}\n",
    "assert proof[2] == {'keyword': '$a', \n",
    "                    'label': 'tpl',\n",
    "                    'sequence': 'term ( t + 0 )',\n",
    "                    'step_ids': [1, 2]}\n",
    "assert proof[4] == {'keyword': '$a',\n",
    "                    'label': 'weq',\n",
    "                    'sequence': 'wff ( t + 0 ) = t',\n",
    "                    'step_ids': [3,4]}\n",
    "assert proof[33] == { 'keyword': '$a',\n",
    "                      'label': 'mp',\n",
    "                      'sequence': '|- t = t',\n",
    "                      'step_ids': [5, 8, 10, 33]}\n",
    "\n",
    "pprint(proof)"
   ]
  },
  {
   "cell_type": "raw",
   "id": "c23dbdb7",
   "metadata": {
    "format": "text/html"
   },
   "source": [
    "</div>"
   ]
  },
  {
   "cell_type": "code",
   "execution_count": 5,
   "metadata": {},
   "outputs": [
    {
     "name": "stdout",
     "output_type": "stream",
     "text": [
      "[{'keyword': '$f', 'label': 'tt', 'sequence': 'term t', 'step_ids': []},\n",
      " {'keyword': '$a', 'label': 'tze', 'sequence': 'term 0', 'step_ids': []},\n",
      " {'keyword': '$a',\n",
      "  'label': 'tpl',\n",
      "  'sequence': 'term ( t + 0 )',\n",
      "  'step_ids': [1, 2]},\n",
      " {'keyword': '$f', 'label': 'tt', 'sequence': 'term t', 'step_ids': []},\n",
      " {'keyword': '$a',\n",
      "  'label': 'weq',\n",
      "  'sequence': 'wff ( t + 0 ) = t',\n",
      "  'step_ids': [3, 4]},\n",
      " {'keyword': '$f', 'label': 'tt', 'sequence': 'term t', 'step_ids': []},\n",
      " {'keyword': '$f', 'label': 'tt', 'sequence': 'term t', 'step_ids': []},\n",
      " {'keyword': '$a', 'label': 'weq', 'sequence': 'wff t = t', 'step_ids': [6, 7]},\n",
      " {'keyword': '$f', 'label': 'tt', 'sequence': 'term t', 'step_ids': []},\n",
      " {'keyword': '$a',\n",
      "  'label': 'a2',\n",
      "  'sequence': '|- ( t + 0 ) = t',\n",
      "  'step_ids': [9]},\n",
      " {'keyword': '$f', 'label': 'tt', 'sequence': 'term t', 'step_ids': []},\n",
      " {'keyword': '$a', 'label': 'tze', 'sequence': 'term 0', 'step_ids': []},\n",
      " {'keyword': '$a',\n",
      "  'label': 'tpl',\n",
      "  'sequence': 'term ( t + 0 )',\n",
      "  'step_ids': [11, 12]},\n",
      " {'keyword': '$f', 'label': 'tt', 'sequence': 'term t', 'step_ids': []},\n",
      " {'keyword': '$a',\n",
      "  'label': 'weq',\n",
      "  'sequence': 'wff ( t + 0 ) = t',\n",
      "  'step_ids': [13, 14]},\n",
      " {'keyword': '$f', 'label': 'tt', 'sequence': 'term t', 'step_ids': []},\n",
      " {'keyword': '$a', 'label': 'tze', 'sequence': 'term 0', 'step_ids': []},\n",
      " {'keyword': '$a',\n",
      "  'label': 'tpl',\n",
      "  'sequence': 'term ( t + 0 )',\n",
      "  'step_ids': [16, 17]},\n",
      " {'keyword': '$f', 'label': 'tt', 'sequence': 'term t', 'step_ids': []},\n",
      " {'keyword': '$a',\n",
      "  'label': 'weq',\n",
      "  'sequence': 'wff ( t + 0 ) = t',\n",
      "  'step_ids': [18, 19]},\n",
      " {'keyword': '$f', 'label': 'tt', 'sequence': 'term t', 'step_ids': []},\n",
      " {'keyword': '$f', 'label': 'tt', 'sequence': 'term t', 'step_ids': []},\n",
      " {'keyword': '$a',\n",
      "  'label': 'weq',\n",
      "  'sequence': 'wff t = t',\n",
      "  'step_ids': [21, 22]},\n",
      " {'keyword': '$a',\n",
      "  'label': 'wim',\n",
      "  'sequence': 'wff ( ( t + 0 ) = t -> t = t )',\n",
      "  'step_ids': [20, 23]},\n",
      " {'keyword': '$f', 'label': 'tt', 'sequence': 'term t', 'step_ids': []},\n",
      " {'keyword': '$a',\n",
      "  'label': 'a2',\n",
      "  'sequence': '|- ( t + 0 ) = t',\n",
      "  'step_ids': [25]},\n",
      " {'keyword': '$f', 'label': 'tt', 'sequence': 'term t', 'step_ids': []},\n",
      " {'keyword': '$a', 'label': 'tze', 'sequence': 'term 0', 'step_ids': []},\n",
      " {'keyword': '$a',\n",
      "  'label': 'tpl',\n",
      "  'sequence': 'term ( t + 0 )',\n",
      "  'step_ids': [27, 28]},\n",
      " {'keyword': '$f', 'label': 'tt', 'sequence': 'term t', 'step_ids': []},\n",
      " {'keyword': '$f', 'label': 'tt', 'sequence': 'term t', 'step_ids': []},\n",
      " {'keyword': '$a',\n",
      "  'label': 'a1',\n",
      "  'sequence': '|- ( ( t + 0 ) = t -> ( ( t + 0 ) = t -> t = t ) )',\n",
      "  'step_ids': [29, 30, 31]},\n",
      " {'keyword': '$a',\n",
      "  'label': 'mp',\n",
      "  'sequence': '|- ( ( t + 0 ) = t -> t = t )',\n",
      "  'step_ids': [15, 24, 26, 32]},\n",
      " {'keyword': '$a',\n",
      "  'label': 'mp',\n",
      "  'sequence': '|- t = t',\n",
      "  'step_ids': [5, 8, 10, 33]}]\n"
     ]
    }
   ],
   "source": [
    "def parse_proof(filepath):\n",
    "    raise Exception('TODO IMPLEMENT ME !')\n",
    "\n",
    "proof = parse_proof('proof.txt')\n",
    "\n",
    "assert proof[0] == {'keyword': '$f', 'label': 'tt', 'sequence': 'term t', 'step_ids': []}\n",
    "assert proof[1] == {'keyword': '$a', 'label': 'tze', 'sequence': 'term 0', 'step_ids': []}\n",
    "assert proof[2] == {'keyword': '$a', \n",
    "                    'label': 'tpl',\n",
    "                    'sequence': 'term ( t + 0 )',\n",
    "                    'step_ids': [1, 2]}\n",
    "assert proof[4] == {'keyword': '$a',\n",
    "                    'label': 'weq',\n",
    "                    'sequence': 'wff ( t + 0 ) = t',\n",
    "                    'step_ids': [3,4]}\n",
    "assert proof[33] == { 'keyword': '$a',\n",
    "                      'label': 'mp',\n",
    "                      'sequence': '|- t = t',\n",
    "                      'step_ids': [5, 8, 10, 33]}\n",
    "\n",
    "pprint(proof)"
   ]
  },
  {
   "cell_type": "markdown",
   "metadata": {},
   "source": [
    "## 2. Checking proof\n",
    "\n",
    "If you've done everything properly, by executing following cells you should be be able to see nice graphs.\n",
    "\n",
    "<div class=\"alert alert-warning\">\n",
    "\n",
    "**IMPORTANT: You do not need to implement anything!**\n",
    "\n",
    "Just look if results match expected graphs\n",
    "\n",
    "</div>"
   ]
  },
  {
   "cell_type": "markdown",
   "metadata": {},
   "source": [
    "#### Overview plot\n",
    "\n",
    "Here we only show step numbers using function `draw_proof` defined in `sciprog` library"
   ]
  },
  {
   "cell_type": "code",
   "execution_count": 6,
   "metadata": {},
   "outputs": [],
   "source": [
    "from soft import draw_proof\n",
    "# uncomment and check\n",
    "#draw_proof(proof, db_mm, only_ids=True)  # all graph, only numbers"
   ]
  },
  {
   "cell_type": "code",
   "execution_count": 7,
   "metadata": {},
   "outputs": [
    {
     "name": "stdout",
     "output_type": "stream",
     "text": [
      "\n",
      "************************ EXPECTED COMPLETE GRAPH  **********************************\n"
     ]
    },
    {
     "data": {
      "image/png": "[encoded data removed]",
      "text/plain": [
       "<IPython.core.display.Image object>"
      ]
     },
     "metadata": {},
     "output_type": "display_data"
    }
   ],
   "source": [
    "print()    \n",
    "print('************************ EXPECTED COMPLETE GRAPH  **********************************')\n",
    "draw_proof(proof, db_mm, only_ids=True)"
   ]
  },
  {
   "cell_type": "markdown",
   "metadata": {},
   "source": [
    "#### Detail plot\n",
    "\n",
    "Here we show data from both the `proof` and the `db_mm` we calculated earlier. To avoid having a huge graph we only focus on subtree starting from `step_id` 24.\n",
    "\n",
    "To understand what is shown, look at node `20`:\n",
    "- first line contains statement `wff ( t + 0 ) = t` taken from line 20 of `proof` file\n",
    "- second line `weq: wff t = r` is taken from `db_mm`, and means rule labeled `weq` was used to derive the statement in the first line."
   ]
  },
  {
   "cell_type": "code",
   "execution_count": 8,
   "metadata": {},
   "outputs": [],
   "source": [
    "# uncomment and check\n",
    "#draw_proof(proof, db_mm, step_id=24)      "
   ]
  },
  {
   "cell_type": "code",
   "execution_count": 9,
   "metadata": {
    "scrolled": false
   },
   "outputs": [
    {
     "name": "stdout",
     "output_type": "stream",
     "text": [
      "\n",
      "************************* EXPECTED DETAIL GRAPH  *******************************\n"
     ]
    },
    {
     "data": {
      "image/png": "[encoded data removed]",
      "text/plain": [
       "<IPython.core.display.Image object>"
      ]
     },
     "metadata": {},
     "output_type": "display_data"
    }
   ],
   "source": [
    "print()\n",
    "print('************************* EXPECTED DETAIL GRAPH  *******************************')\n",
    "draw_proof(proof, db_mm, step_id=24)\n"
   ]
  },
  {
   "cell_type": "markdown",
   "metadata": {},
   "source": [
    "## 3. Top statements\n",
    "\n",
    "We can measure the importance of theorems and definitions (in general, _statements_) by counting how many times they are referenced in proofs. "
   ]
  },
  {
   "cell_type": "markdown",
   "metadata": {},
   "source": [
    "**3.1 plot**: Write some code to plot the histogram of _statement_ labels referenced by steps in `proof`, from most  to least frequently referenced. \n",
    "\n",
    "A label gets a count each time a step references another step with that label.\n",
    "\n",
    "For example, in the subgraph above:\n",
    "\n",
    "- `tt` is referenced 4 times, that is,  there are 4 steps referencing other steps which contain the label `tt`\n",
    "- `weq` is referenced 2 times\n",
    "- `tpl` and `tze` are referenced 1 time each\n",
    "- `wim` is referenced 0 times (it is only present in the last node, which being the root node cannot be referenced by any step)\n",
    "\n",
    "<div class=\"alert alert-warning\">\n",
    "\n",
    "**NOTE: the previous counts are just for the subgraph example.**\n",
    "\n",
    "In your exercise, you will need to consider all the steps\n",
    "\n",
    "</div>"
   ]
  },
  {
   "cell_type": "markdown",
   "metadata": {},
   "source": [
    "**3.2 print list:**  Below the graph, print the list of labels from most to least frequent, associating them to corresponding statement sequence taken from `db_mm`\n",
    "\n",
    "**Expected output**:\n",
    "\n",
    "![expected-top-statements.png](expected-top-statements.png)\n",
    "\n",
    "```\n",
    "tt : \t term t\n",
    "weq : \t wff t = r\n",
    "tze : \t term 0\n",
    "tpl : \t term ( t + r )\n",
    "a2 : \t |- ( t + 0 ) = t\n",
    "wim : \t wff ( P -> Q )\n",
    "a1 : \t |- ( t = r -> ( t = s -> r = s ) )\n",
    "mp : \t |- Q\n",
    "```"
   ]
  },
  {
   "cell_type": "raw",
   "id": "dfbc67dc",
   "metadata": {
    "format": "text/html"
   },
   "source": [
    "<a  class=\"jupman-sol jupman-sol-toggler\" \n",
    " onclick=\"jupman.toggleSolution(this);\" \n",
    " data-jupman-show=\"Show solution\" data-jupman-hide=\"Hide\">Show solution</a><div class=\"jupman-sol jupman-sol-code\" style=\"display:none\">  "
   ]
  },
  {
   "cell_type": "code",
   "execution_count": 10,
   "metadata": {},
   "outputs": [
    {
     "data": {
      "image/png": "[encoded data removed]",
      "text/plain": [
       "<Figure size 432x288 with 1 Axes>"
      ]
     },
     "metadata": {
      "needs_background": "light"
     },
     "output_type": "display_data"
    },
    {
     "name": "stdout",
     "output_type": "stream",
     "text": [
      "tt : \t term t\n",
      "weq : \t wff t = r\n",
      "tze : \t term 0\n",
      "tpl : \t term ( t + r )\n",
      "a2 : \t |- ( t + 0 ) = t\n",
      "wim : \t wff ( P -> Q )\n",
      "a1 : \t |- ( t = r -> ( t = s -> r = s ) )\n",
      "mp : \t |- Q\n"
     ]
    }
   ],
   "source": [
    "\n",
    "import numpy as np\n",
    "import matplotlib.pyplot as plt\n",
    "\n",
    "\n",
    "# write here\n",
    "\n",
    "freqs = {}\n",
    "for step in proof:\n",
    "    for step_id in step['step_ids']:\n",
    "        label = proof[step_id-1]['label']\n",
    "        if label not in freqs:\n",
    "            freqs[label] = 1\n",
    "        else:\n",
    "            freqs[label] += 1\n",
    "            \n",
    "            \n",
    "xs = np.arange(len(freqs.keys()))\n",
    "\n",
    "coords = [(k, freqs[k]) for k in freqs ]\n",
    "\n",
    "coords.sort(key=lambda c: c[1], reverse=True)\n",
    "\n",
    "ys_in = [c[1] for c in coords]\n",
    "\n",
    "\n",
    "plt.bar(xs, ys_in, 0.5, align='center')\n",
    "\n",
    "plt.title(\"Statement references SOLUTION\")\n",
    "plt.xticks(xs, [c[0] for c in coords])\n",
    "\n",
    "plt.xlabel('Statement labels')\n",
    "plt.ylabel('frequency')\n",
    "\n",
    "\n",
    "\n",
    "plt.show()\n",
    "\n",
    "for c in coords:\n",
    "    print(c[0], ':', '\\t', db_mm[c[0]]['sequence'])\n"
   ]
  },
  {
   "cell_type": "raw",
   "id": "48b89b83",
   "metadata": {
    "format": "text/html"
   },
   "source": [
    "</div>"
   ]
  },
  {
   "cell_type": "code",
   "execution_count": 10,
   "metadata": {},
   "outputs": [],
   "source": [
    "\n",
    "import numpy as np\n",
    "import matplotlib.pyplot as plt\n",
    "\n",
    "\n",
    "# write here\n",
    "\n"
   ]
  },
  {
   "cell_type": "code",
   "execution_count": null,
   "metadata": {},
   "outputs": [],
   "source": []
  }
 ],
 "metadata": {
  "celltoolbar": "Edit Metadata",
  "kernelspec": {
   "display_name": "Python 3 (ipykernel)",
   "language": "python",
   "name": "python3"
  },
  "language_info": {
   "codemirror_mode": {
    "name": "ipython",
    "version": 3
   },
   "file_extension": ".py",
   "mimetype": "text/x-python",
   "name": "python",
   "nbconvert_exporter": "python",
   "pygments_lexer": "ipython3",
   "version": "3.7.10"
  },
  "toc": {
   "base_numbering": 1,
   "nav_menu": {},
   "number_sections": false,
   "sideBar": true,
   "skip_h1_title": false,
   "title_cell": "Table of Contents",
   "title_sidebar": "Contents",
   "toc_cell": false,
   "toc_position": {},
   "toc_section_display": true,
   "toc_window_display": true
  }
 },
 "nbformat": 4,
 "nbformat_minor": 1
}
