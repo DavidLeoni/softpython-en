{
 "cells": [
  {
   "cell_type": "markdown",
   "metadata": {},
   "source": [
    "# Galactic love\n",
    "\n",
    "## [Download worked project](../../_static/generated/galactic-love-prj.zip) \n",
    "\n",
    "[Browse files online](https://github.com/DavidLeoni/softpython-en/tree/master/projects/galactic-love)\n",
    "\n",
    "![galactic-love-preview](img/galactic-love-preview.png)\n",
    "\n",
    "\n",
    "The company Astro Logic provides horoscopes to thousands of loyal customers, who each day require a number of divinitions. The most requested is whether or not they should engage in love affairs with a potential partner, who is chosen according to rigourous criteria like his/her astrological sign. You are then hired to devise a fancy visualization which given two astrological signs and their love compatibility, displays the constellations of their signs close when the the compatibility is high and far away when compatibility is low.\n",
    "\n",
    "Astrology has been dated to at least the 2nd millennium BCE, and has its roots in calendrical systems used to predict seasonal shifts and to interpret celestial cycles as signs of divine communications. Even if considered a pseudo-science by today standards, it can still provide us with some light-hearted fun while we develop fancy visualizations and matrix manipulations."
   ]
  },
  {
   "cell_type": "markdown",
   "metadata": {},
   "source": [
    "## What to do\n",
    "\n",
    "1. Unzip exercises zip in a folder, you should obtain something like this:\n",
    "\n",
    "```\n",
    "galactic-love-prj\n",
    "    galactic-love.ipynb\n",
    "    galactic-love-sol.ipynb\n",
    "    stars.csv\n",
    "    zodiac.csv\n",
    "    jupman.py\n",
    "```\n",
    "\n",
    "<div class=\"alert alert-warning\">\n",
    "\n",
    "**WARNING: to correctly visualize the notebook, it MUST be in an unzipped folder !**\n",
    "</div>"
   ]
  },
  {
   "cell_type": "markdown",
   "metadata": {},
   "source": [
    "2. open Jupyter Notebook from that folder. Two things should open, first a console and then a browser. The browser should show a file list: navigate the list and open the notebook `galactic-love.ipynb`\n",
    "\n",
    "3. Go on reading the notebook, and write in the appropriate cells when asked"
   ]
  },
  {
   "cell_type": "markdown",
   "metadata": {},
   "source": [
    "Shortcut keys:\n",
    "\n",
    "- to execute Python code inside a Jupyter cell, press `Control + Enter`\n",
    "\n",
    "- to execute Python code inside a Jupyter cell AND select next cell, press `Shift + Enter`\n",
    "\n",
    "- to execute Python code inside a Jupyter cell AND a create a new cell aftwerwards, press `Alt + Enter`\n",
    "\n",
    "- If the notebooks look stuck, try to select `Kernel -> Restart`"
   ]
  },
  {
   "cell_type": "markdown",
   "metadata": {},
   "source": [
    "\n",
    "## parse_stars\n",
    "\n",
    "Let's start with real astronomical data. You are given a database of constellations called `stars.csv` (we slightly tweaked it for this occasion - original data source: [Space Telescope Science Institute](https://github.com/mperrin/misc_astro))"
   ]
  },
  {
   "cell_type": "code",
   "execution_count": 1,
   "metadata": {},
   "outputs": [
    {
     "data": {
      "text/html": [
       "<div>\n",
       "<style scoped>\n",
       "    .dataframe tbody tr th:only-of-type {\n",
       "        vertical-align: middle;\n",
       "    }\n",
       "\n",
       "    .dataframe tbody tr th {\n",
       "        vertical-align: top;\n",
       "    }\n",
       "\n",
       "    .dataframe thead th {\n",
       "        text-align: right;\n",
       "    }\n",
       "</style>\n",
       "<table border=\"1\" class=\"dataframe\">\n",
       "  <thead>\n",
       "    <tr style=\"text-align: right;\">\n",
       "      <th></th>\n",
       "      <th>constellation</th>\n",
       "      <th>type</th>\n",
       "      <th>ra</th>\n",
       "      <th>dec</th>\n",
       "      <th>description</th>\n",
       "    </tr>\n",
       "  </thead>\n",
       "  <tbody>\n",
       "    <tr>\n",
       "      <th>0</th>\n",
       "      <td>Andromeda</td>\n",
       "      <td>0</td>\n",
       "      <td>3717</td>\n",
       "      <td>2539</td>\n",
       "      <td>move gamma 1</td>\n",
       "    </tr>\n",
       "    <tr>\n",
       "      <th>1</th>\n",
       "      <td>Andromeda</td>\n",
       "      <td>1</td>\n",
       "      <td>2091</td>\n",
       "      <td>2137</td>\n",
       "      <td>draw beta</td>\n",
       "    </tr>\n",
       "    <tr>\n",
       "      <th>2</th>\n",
       "      <td>Andromeda</td>\n",
       "      <td>1</td>\n",
       "      <td>1179</td>\n",
       "      <td>1851</td>\n",
       "      <td>draw delta</td>\n",
       "    </tr>\n",
       "    <tr>\n",
       "      <th>3</th>\n",
       "      <td>Andromeda</td>\n",
       "      <td>1</td>\n",
       "      <td>251</td>\n",
       "      <td>1745</td>\n",
       "      <td>draw alpha</td>\n",
       "    </tr>\n",
       "    <tr>\n",
       "      <th>4</th>\n",
       "      <td>Andromeda</td>\n",
       "      <td>0</td>\n",
       "      <td>1716</td>\n",
       "      <td>1405</td>\n",
       "      <td>move eta</td>\n",
       "    </tr>\n",
       "    <tr>\n",
       "      <th>5</th>\n",
       "      <td>Andromeda</td>\n",
       "      <td>1</td>\n",
       "      <td>1420</td>\n",
       "      <td>1456</td>\n",
       "      <td>draw zeta</td>\n",
       "    </tr>\n",
       "    <tr>\n",
       "      <th>6</th>\n",
       "      <td>Andromeda</td>\n",
       "      <td>1</td>\n",
       "      <td>1156</td>\n",
       "      <td>1758</td>\n",
       "      <td>draw epsilon</td>\n",
       "    </tr>\n",
       "    <tr>\n",
       "      <th>7</th>\n",
       "      <td>Andromeda</td>\n",
       "      <td>1</td>\n",
       "      <td>1179</td>\n",
       "      <td>1851</td>\n",
       "      <td>draw delta</td>\n",
       "    </tr>\n",
       "    <tr>\n",
       "      <th>8</th>\n",
       "      <td>Andromeda</td>\n",
       "      <td>1</td>\n",
       "      <td>1106</td>\n",
       "      <td>2023</td>\n",
       "      <td>draw pi</td>\n",
       "    </tr>\n",
       "    <tr>\n",
       "      <th>9</th>\n",
       "      <td>Andromeda</td>\n",
       "      <td>1</td>\n",
       "      <td>512</td>\n",
       "      <td>2320</td>\n",
       "      <td>draw theta</td>\n",
       "    </tr>\n",
       "    <tr>\n",
       "      <th>10</th>\n",
       "      <td>Andromeda</td>\n",
       "      <td>1</td>\n",
       "      <td>42544</td>\n",
       "      <td>2596</td>\n",
       "      <td>draw iota</td>\n",
       "    </tr>\n",
       "    <tr>\n",
       "      <th>11</th>\n",
       "      <td>Andromeda</td>\n",
       "      <td>1</td>\n",
       "      <td>42612</td>\n",
       "      <td>2660</td>\n",
       "      <td>draw kappa</td>\n",
       "    </tr>\n",
       "    <tr>\n",
       "      <th>12</th>\n",
       "      <td>Andromeda</td>\n",
       "      <td>1</td>\n",
       "      <td>42526</td>\n",
       "      <td>2787</td>\n",
       "      <td>draw lambda</td>\n",
       "    </tr>\n",
       "    <tr>\n",
       "      <th>13</th>\n",
       "      <td>Andromeda</td>\n",
       "      <td>0</td>\n",
       "      <td>42544</td>\n",
       "      <td>2596</td>\n",
       "      <td>move iota</td>\n",
       "    </tr>\n",
       "    <tr>\n",
       "      <th>14</th>\n",
       "      <td>Andromeda</td>\n",
       "      <td>1</td>\n",
       "      <td>41457</td>\n",
       "      <td>2539</td>\n",
       "      <td>draw omicron</td>\n",
       "    </tr>\n",
       "    <tr>\n",
       "      <th>15</th>\n",
       "      <td>Andromeda</td>\n",
       "      <td>0</td>\n",
       "      <td>1106</td>\n",
       "      <td>2023</td>\n",
       "      <td>move pi</td>\n",
       "    </tr>\n",
       "    <tr>\n",
       "      <th>16</th>\n",
       "      <td>Andromeda</td>\n",
       "      <td>1</td>\n",
       "      <td>2091</td>\n",
       "      <td>2137</td>\n",
       "      <td>draw beta</td>\n",
       "    </tr>\n",
       "    <tr>\n",
       "      <th>17</th>\n",
       "      <td>Andromeda</td>\n",
       "      <td>1</td>\n",
       "      <td>1702</td>\n",
       "      <td>2309</td>\n",
       "      <td>draw mu</td>\n",
       "    </tr>\n",
       "    <tr>\n",
       "      <th>18</th>\n",
       "      <td>Andromeda</td>\n",
       "      <td>1</td>\n",
       "      <td>1494</td>\n",
       "      <td>2464</td>\n",
       "      <td>draw nu</td>\n",
       "    </tr>\n",
       "    <tr>\n",
       "      <th>19</th>\n",
       "      <td>Andromeda</td>\n",
       "      <td>1</td>\n",
       "      <td>2085</td>\n",
       "      <td>2834</td>\n",
       "      <td>draw phi</td>\n",
       "    </tr>\n",
       "    <tr>\n",
       "      <th>20</th>\n",
       "      <td>Andromeda</td>\n",
       "      <td>1</td>\n",
       "      <td>2939</td>\n",
       "      <td>2917</td>\n",
       "      <td>draw 51</td>\n",
       "    </tr>\n",
       "    <tr>\n",
       "      <th>21</th>\n",
       "      <td>Andromeda</td>\n",
       "      <td>-1</td>\n",
       "      <td>0</td>\n",
       "      <td>0</td>\n",
       "      <td>NaN</td>\n",
       "    </tr>\n",
       "    <tr>\n",
       "      <th>22</th>\n",
       "      <td>Antlia</td>\n",
       "      <td>0</td>\n",
       "      <td>17077</td>\n",
       "      <td>-2157</td>\n",
       "      <td>move epsilon</td>\n",
       "    </tr>\n",
       "    <tr>\n",
       "      <th>23</th>\n",
       "      <td>Antlia</td>\n",
       "      <td>2</td>\n",
       "      <td>18814</td>\n",
       "      <td>-1864</td>\n",
       "      <td>dotted alpha</td>\n",
       "    </tr>\n",
       "    <tr>\n",
       "      <th>24</th>\n",
       "      <td>Antlia</td>\n",
       "      <td>2</td>\n",
       "      <td>19701</td>\n",
       "      <td>-2228</td>\n",
       "      <td>dotted iota</td>\n",
       "    </tr>\n",
       "    <tr>\n",
       "      <th>25</th>\n",
       "      <td>Antlia</td>\n",
       "      <td>-1</td>\n",
       "      <td>0</td>\n",
       "      <td>0</td>\n",
       "      <td>NaN</td>\n",
       "    </tr>\n",
       "    <tr>\n",
       "      <th>26</th>\n",
       "      <td>Apus</td>\n",
       "      <td>0</td>\n",
       "      <td>26635</td>\n",
       "      <td>-4742</td>\n",
       "      <td>move alpha</td>\n",
       "    </tr>\n",
       "    <tr>\n",
       "      <th>27</th>\n",
       "      <td>Apus</td>\n",
       "      <td>2</td>\n",
       "      <td>29803</td>\n",
       "      <td>-4733</td>\n",
       "      <td>dotted gamma</td>\n",
       "    </tr>\n",
       "    <tr>\n",
       "      <th>28</th>\n",
       "      <td>Apus</td>\n",
       "      <td>2</td>\n",
       "      <td>30092</td>\n",
       "      <td>-4651</td>\n",
       "      <td>dotted beta</td>\n",
       "    </tr>\n",
       "    <tr>\n",
       "      <th>29</th>\n",
       "      <td>Apus</td>\n",
       "      <td>2</td>\n",
       "      <td>29410</td>\n",
       "      <td>-4721</td>\n",
       "      <td>dotted delta 1</td>\n",
       "    </tr>\n",
       "    <tr>\n",
       "      <th>30</th>\n",
       "      <td>Apus</td>\n",
       "      <td>2</td>\n",
       "      <td>29803</td>\n",
       "      <td>-4733</td>\n",
       "      <td>dotted gamma</td>\n",
       "    </tr>\n",
       "    <tr>\n",
       "      <th>31</th>\n",
       "      <td>Apus</td>\n",
       "      <td>-1</td>\n",
       "      <td>0</td>\n",
       "      <td>0</td>\n",
       "      <td>NaN</td>\n",
       "    </tr>\n",
       "  </tbody>\n",
       "</table>\n",
       "</div>"
      ],
      "text/plain": [
       "   constellation  type     ra   dec     description\n",
       "0      Andromeda     0   3717  2539    move gamma 1\n",
       "1      Andromeda     1   2091  2137       draw beta\n",
       "2      Andromeda     1   1179  1851      draw delta\n",
       "3      Andromeda     1    251  1745      draw alpha\n",
       "4      Andromeda     0   1716  1405        move eta\n",
       "5      Andromeda     1   1420  1456       draw zeta\n",
       "6      Andromeda     1   1156  1758    draw epsilon\n",
       "7      Andromeda     1   1179  1851      draw delta\n",
       "8      Andromeda     1   1106  2023         draw pi\n",
       "9      Andromeda     1    512  2320      draw theta\n",
       "10     Andromeda     1  42544  2596       draw iota\n",
       "11     Andromeda     1  42612  2660      draw kappa\n",
       "12     Andromeda     1  42526  2787     draw lambda\n",
       "13     Andromeda     0  42544  2596       move iota\n",
       "14     Andromeda     1  41457  2539    draw omicron\n",
       "15     Andromeda     0   1106  2023         move pi\n",
       "16     Andromeda     1   2091  2137       draw beta\n",
       "17     Andromeda     1   1702  2309         draw mu\n",
       "18     Andromeda     1   1494  2464         draw nu\n",
       "19     Andromeda     1   2085  2834        draw phi\n",
       "20     Andromeda     1   2939  2917         draw 51\n",
       "21     Andromeda    -1      0     0             NaN\n",
       "22        Antlia     0  17077 -2157    move epsilon\n",
       "23        Antlia     2  18814 -1864    dotted alpha\n",
       "24        Antlia     2  19701 -2228     dotted iota\n",
       "25        Antlia    -1      0     0             NaN\n",
       "26          Apus     0  26635 -4742      move alpha\n",
       "27          Apus     2  29803 -4733    dotted gamma\n",
       "28          Apus     2  30092 -4651     dotted beta\n",
       "29          Apus     2  29410 -4721  dotted delta 1\n",
       "30          Apus     2  29803 -4733    dotted gamma\n",
       "31          Apus    -1      0     0             NaN"
      ]
     },
     "execution_count": 1,
     "metadata": {},
     "output_type": "execute_result"
    }
   ],
   "source": [
    "import pandas as pd\n",
    "\n",
    "stars_df = pd.read_csv('stars.csv', encoding='UTF-8')\n",
    "stars_df[0:32]"
   ]
  },
  {
   "cell_type": "markdown",
   "metadata": {},
   "source": [
    "You will have to parse it so to obtain a dictionary which maps each constellation to its stars, expressed as a list of lists of points type and coordinates.\n",
    "\n",
    "Since later we will need to show points in a 2d chart, you will have to transform the coordinates obtained from the data (right ascension and declination in degrees) as follows:\n",
    "\n",
    "$\\large x = \\frac{15}{1800}ra$  \n",
    "\n",
    "$\\large y = \\frac{dec}{60}$\n"
   ]
  },
  {
   "cell_type": "markdown",
   "metadata": {},
   "source": [
    "<div class=\"alert alert-warning\">\n",
    "    \n",
    "**You can find the complete output in** [expected_stars_db.py](expected_stars_db.py)\n",
    "    \n",
    "</div>    \n",
    "\n",
    "Excerpt:\n",
    "\n",
    "```python\n",
    "{'Andromeda': [   \n",
    "                  [0, 30.974999999999998, 42.31666666666666],\n",
    "                  [1, 17.425, 35.61666666666667],\n",
    "                  [1, 9.825000000000001, 30.849999999999998],\n",
    "                  [1, 2.091666666666667, 29.083333333333332],\n",
    "                  [0, 14.3, 23.416666666666668],\n",
    "                  [1, 11.833333333333332, 24.266666666666666],\n",
    "                  [1, 9.633333333333333, 29.3],\n",
    "                  [1, 9.825000000000001, 30.849999999999998],\n",
    "                  [1, 9.216666666666667, 33.71666666666667],\n",
    "                  [1, 4.266666666666667, 38.666666666666664],\n",
    "                  [1, 354.5333333333333, 43.266666666666666],\n",
    "                  [1, 355.09999999999997, 44.333333333333336],\n",
    "                  [1, 354.3833333333333, 46.45],\n",
    "                  [0, 354.5333333333333, 43.266666666666666],\n",
    "                  [1, 345.475, 42.31666666666666],\n",
    "                  [0, 9.216666666666667, 33.71666666666667],\n",
    "                  [1, 17.425, 35.61666666666667],\n",
    "                  [1, 14.183333333333334, 38.483333333333334],\n",
    "                  [1, 12.45, 41.06666666666666],\n",
    "                  [1, 17.375, 47.233333333333334],\n",
    "                  [1, 24.491666666666667, 48.61666666666667],\n",
    "                  [-1, 0.0, 0.0]\n",
    "               ],\n",
    " 'Antlia':   [\n",
    "                  [0, 142.30833333333334, -35.95],\n",
    "                  [2, 156.78333333333333, -31.066666666666666],\n",
    "                  [2, 164.175, -37.13333333333333],\n",
    "                  [-1, 0.0, 0.0]\n",
    "             ],\n",
    "  .\n",
    "  .\n",
    "  .\n",
    "}\n",
    "```"
   ]
  },
  {
   "cell_type": "raw",
   "id": "077e617f",
   "metadata": {
    "format": "text/html"
   },
   "source": [
    "<a  class=\"jupman-sol jupman-sol-toggler\" \n",
    " onclick=\"jupman.toggleSolution(this);\" \n",
    " data-jupman-show=\"Show solution\" data-jupman-hide=\"Hide\">Show solution</a><div class=\"jupman-sol jupman-sol-code\" style=\"display:none\">  "
   ]
  },
  {
   "cell_type": "code",
   "execution_count": 2,
   "metadata": {},
   "outputs": [
    {
     "data": {
      "text/plain": [
       "[[0, 142.30833333333334, -35.95],\n",
       " [2, 156.78333333333333, -31.066666666666666],\n",
       " [2, 164.175, -37.13333333333333],\n",
       " [-1, 0.0, 0.0]]"
      ]
     },
     "execution_count": 2,
     "metadata": {},
     "output_type": "execute_result"
    }
   ],
   "source": [
    "\n",
    "import csv\n",
    "\n",
    "def parse_stars(filename):\n",
    "    \n",
    "    \n",
    "    ret = {}\n",
    "    with open(filename, encoding='utf-8', newline='') as f:    \n",
    "        my_reader = csv.reader(f, delimiter=',')\n",
    "        next(my_reader) # skips header\n",
    "        constellation = ''\n",
    "        d = None\n",
    "        for row in my_reader:\n",
    "            if row[0] != constellation:\n",
    "                constellation = row[0]\n",
    "                stars = []\n",
    "                ret[constellation] = stars\n",
    "            coords = [0]* 3\n",
    "            coords[0] = int(row[1])\n",
    "            coords[1] = int(row[2]) * (1.0 / 1800) * 15 \n",
    "            coords[2] = int(row[3]) * (1.0 / 60)\n",
    "            stars.append(coords)\n",
    "            \n",
    "    return ret\n",
    "    \n",
    "\n",
    "stars_db = parse_stars('stars.csv')\n",
    "\n",
    "stars_db['Antlia']\n",
    "#stars_db['Andromeda']"
   ]
  },
  {
   "cell_type": "raw",
   "id": "44b5eb34",
   "metadata": {
    "format": "text/html"
   },
   "source": [
    "</div>"
   ]
  },
  {
   "cell_type": "code",
   "execution_count": 2,
   "metadata": {},
   "outputs": [],
   "source": [
    "\n",
    "import csv\n",
    "\n",
    "def parse_stars(filename):\n",
    "    raise Exception('TODO IMPLEMENT ME !')\n",
    "\n",
    "stars_db = parse_stars('stars.csv')\n",
    "\n",
    "stars_db['Antlia']\n",
    "#stars_db['Andromeda']"
   ]
  },
  {
   "cell_type": "markdown",
   "metadata": {},
   "source": [
    "## plot_stars 1\n",
    "\n",
    "\n",
    "Write a function `plot_stars` to plot constellations.\n",
    "\n",
    "<div class=\"alert alert-warning\">\n",
    "    \n",
    "**WARNING: DO NOT use GraphViz!**\n",
    "    \n",
    "Even if we are making plots which look like networks, for these visualizations you just need basic matplotlib (and some creativity ;-)\n",
    "\n",
    "</div>\n",
    "\n",
    "<div class=\"alert alert-warning\">\n",
    "    \n",
    "**WARNING: for now, ignore the** `new_center` **parameter**   \n",
    "</div>\n",
    "\n",
    "A point type can either be:\n",
    "\n",
    "* `0`: start a new line not connected with the previous one\n",
    "* `1`: connect previous point with a straight segment\n",
    "* `2`: connect previous point with a dotted segment (draw it with `linestyle=':'` parameter)\n",
    "* `-1`: last point, ignore\n",
    "\n",
    "Available colorschemes are `'M'`, `'F'`, or `'R'` (red)\n",
    "\n",
    "* to set a black background, set `plt.rcParams['axes.facecolor'] = 'black'`\n",
    "* draw stars as white dots, setting `markersize=6`\n",
    "* **to get a nice glowing effect for the lines, draw twice**: once with a thick line and dark color, and once with a thin line with a bright color. You can find the colors in `color_schemes`. To set them in `plt.plot` call, use `linewidth` (sets width in pixels) and `color` parameter, note `color` takes a **single** parameter\n"
   ]
  },
  {
   "cell_type": "markdown",
   "metadata": {},
   "source": [
    "**Examples**: \n",
    "\n",
    "```python\n",
    ">>> stars_db['Libra']\n",
    "[[0, 226.01666666666665, -25.266666666666666],\n",
    " [1, 222.71666666666667, -16.03333333333333],\n",
    " [1, 229.25, -9.366666666666667],\n",
    " [1, 233.875, -14.783333333333333],\n",
    " [1, 222.71666666666667, -16.03333333333333],\n",
    " [0, 233.875, -14.783333333333333],\n",
    " [1, 234.25, -28.133333333333333],\n",
    " [1, 234.65833333333333, -29.766666666666666],\n",
    " [-1, 0.0, 0.0]]\n",
    "\n",
    ">>> plot_stars('Libra', 'M', stars_db)  \n",
    "```\n",
    "\n",
    "![img/expected-Libra-M-None.png](img/expected-Libra-M-None.png)"
   ]
  },
  {
   "cell_type": "markdown",
   "metadata": {},
   "source": [
    "```python\n",
    ">>> stars_db['Cancer']   # has type-2  dotted points\n",
    "[[0, 131.66666666666669, 28.75],\n",
    " [2, 130.8166666666667, 21.466666666666665],\n",
    " [2, 131.16666666666666, 18.15],\n",
    " [2, 134.61666666666667, 11.85],\n",
    " [0, 131.16666666666666, 18.15],\n",
    " [2, 124.125, 9.183333333333334],\n",
    " [-1, 0.0, 0.0]]\n",
    "\n",
    ">>> plot_stars(\"Cancer\", 'F', stars_db) \n",
    "```\n",
    "![img/expected-Cancer-F-None.png](img/expected-Cancer-F-None.png)"
   ]
  },
  {
   "cell_type": "markdown",
   "metadata": {},
   "source": [
    "```python\n",
    "\n",
    ">>> plot_stars(\"Cygnus\", 'M', stars_db)  # mixed segment types\n",
    "```\n",
    "![img/expected-Cygnus-M-None.png](img/expected-Cygnus-M-None.png)"
   ]
  },
  {
   "cell_type": "raw",
   "id": "ab88b842",
   "metadata": {
    "format": "text/html"
   },
   "source": [
    "<a  class=\"jupman-sol jupman-sol-toggler\" \n",
    " onclick=\"jupman.toggleSolution(this);\" \n",
    " data-jupman-show=\"Show solution\" data-jupman-hide=\"Hide\">Show solution</a><div class=\"jupman-sol jupman-sol-code\" style=\"display:none\">  "
   ]
  },
  {
   "cell_type": "code",
   "execution_count": 3,
   "metadata": {
    "scrolled": false
   },
   "outputs": [
    {
     "name": "stdout",
     "output_type": "stream",
     "text": [
      "[[0, 226.01666666666665, -25.266666666666666],\n",
      " [1, 222.71666666666667, -16.03333333333333],\n",
      " [1, 229.25, -9.366666666666667],\n",
      " [1, 233.875, -14.783333333333333],\n",
      " [1, 222.71666666666667, -16.03333333333333],\n",
      " [0, 233.875, -14.783333333333333],\n",
      " [1, 234.25, -28.133333333333333],\n",
      " [1, 234.65833333333333, -29.766666666666666],\n",
      " [-1, 0.0, 0.0]]\n"
     ]
    },
    {
     "data": {
      "image/png": "[encoded data removed]",
      "text/plain": [
       "<Figure size 432x288 with 1 Axes>"
      ]
     },
     "metadata": {
      "needs_background": "light"
     },
     "output_type": "display_data"
    }
   ],
   "source": [
    "\n",
    "%matplotlib inline\n",
    "\n",
    "import numpy as np\n",
    "import matplotlib.pyplot as plt\n",
    "\n",
    "color_schemes = {\n",
    "    'M': ('blue', '#039dfc'),        \n",
    "    'F': ('purple', 'pink'),    \n",
    "    'R': ('darkred', 'red')\n",
    "}\n",
    "    \n",
    "def plot_stars(constellation_name, color_scheme, stars, new_center=None):\n",
    "    \n",
    "\n",
    "    plt.rcParams['axes.facecolor'] = 'black'    \n",
    "\n",
    "    color1, color2 = color_schemes[color_scheme]\n",
    "                \n",
    "    point_list = stars[constellation_name]\n",
    "    points = np.asarray(point_list)        \n",
    "    drawtype = points[:,0]\n",
    "    ra_degrees = points[:-1,1] \n",
    "    dec_degrees = points[:-1,2]\n",
    "    \n",
    "    if new_center:\n",
    "        xbounds = (np.min(ra_degrees), np.max(ra_degrees))\n",
    "        ybounds = (np.min(dec_degrees), np.max(dec_degrees))\n",
    "        halfx = (xbounds[1]-xbounds[0])/2\n",
    "        halfy = (ybounds[1]-ybounds[0])/2\n",
    "\n",
    "        ra_degrees -= xbounds[0] + halfx - new_center[0]\n",
    "        dec_degrees -= ybounds[1] - halfy - new_center[1]\n",
    "    \n",
    "    for i in range(0, len(drawtype)-1):            \n",
    "        if drawtype[i] == 0 or drawtype[i] == -1:    \n",
    "            continue\n",
    "\n",
    "        xs = ra_degrees[i - 1:(i)+1]\n",
    "        ys = dec_degrees[i - 1:(i)+1]\n",
    "        plt.plot(xs,ys, linewidth=8, linestyle=':' if drawtype[i] ==2 else \"-\", color=color1)\n",
    "        plt.plot(xs,ys, linewidth=3, linestyle=':' if drawtype[i] ==2 else \"-\", color=color2)        \n",
    "        plt.plot(xs, ys, 'o', markersize=6, color='white')\n",
    "    \n",
    "    \n",
    "\n",
    "from pprint import pprint\n",
    "pprint(stars_db['Libra'])\n",
    "plot_stars('Libra', 'M', stars_db)  "
   ]
  },
  {
   "cell_type": "raw",
   "id": "ddba7744",
   "metadata": {
    "format": "text/html"
   },
   "source": [
    "</div>"
   ]
  },
  {
   "cell_type": "code",
   "execution_count": 3,
   "metadata": {
    "scrolled": false
   },
   "outputs": [],
   "source": [
    "\n",
    "%matplotlib inline\n",
    "\n",
    "import numpy as np\n",
    "import matplotlib.pyplot as plt\n",
    "\n",
    "color_schemes = {\n",
    "    'M': ('blue', '#039dfc'),        \n",
    "    'F': ('purple', 'pink'),    \n",
    "    'R': ('darkred', 'red')\n",
    "}\n",
    "    \n",
    "def plot_stars(constellation_name, color_scheme, stars, new_center=None):\n",
    "    raise Exception('TODO IMPLEMENT ME !')\n",
    "\n",
    "from pprint import pprint\n",
    "pprint(stars_db['Libra'])\n",
    "plot_stars('Libra', 'M', stars_db)  "
   ]
  },
  {
   "cell_type": "code",
   "execution_count": 4,
   "metadata": {
    "scrolled": false
   },
   "outputs": [],
   "source": [
    "\n",
    "pprint(stars_db['Cancer'])   # has type-2  dotted points\n",
    "plot_stars(\"Cancer\", 'F', stars_db)"
   ]
  },
  {
   "cell_type": "code",
   "execution_count": 5,
   "metadata": {},
   "outputs": [],
   "source": [
    "\n",
    "plot_stars(\"Cygnus\", 'M', stars_db)  # mixed segment types"
   ]
  },
  {
   "cell_type": "markdown",
   "metadata": {},
   "source": [
    "## plot_stars 2 - new_center\n",
    "\n",
    "Change the previous function `plot_stars` so it accepts a new argument `new_center`, which is either `None` or a tuple of coordinates where the constellation should be centered: \n",
    "\n",
    "* be precise in determining the boundaries of the constellation\n",
    "* **DO NOT** assume the constallation has a fixed width nor height (so no constants in code!)\n",
    "\n",
    "**Example 1**: \n",
    "\n",
    "```python\n",
    "fig = plt.figure(figsize=(30,7))\n",
    "plt.xlim(0,360)\n",
    "plt.ylim(-40,40)\n",
    "plot_stars('Gemini', 'F',stars_db, new_center=None)  # no translation\n",
    "```\n",
    "![img/expected-Gemini-F-None.png](img/expected-Gemini-F-None.png)"
   ]
  },
  {
   "cell_type": "markdown",
   "metadata": {},
   "source": [
    "**Example 2**: \n",
    "\n",
    "```python\n",
    "fig = plt.figure(figsize=(30,7))\n",
    "plt.xlim(0,360)\n",
    "plt.ylim(-40,40)\n",
    "plot_stars('Gemini', 'F',stars_db, new_center=(300, -20))  # centered in 300, -20\n",
    "```\n",
    "![img/expected-Gemini-F-300--20.png](img/expected-Gemini-F-300--20.png)"
   ]
  },
  {
   "cell_type": "code",
   "execution_count": 6,
   "metadata": {
    "nbsphinx": "hidden"
   },
   "outputs": [],
   "source": [],
   "transient": {
    "remove_source": true
   }
  },
  {
   "cell_type": "code",
   "execution_count": 7,
   "metadata": {
    "nbsphinx": "hidden"
   },
   "outputs": [],
   "source": [],
   "transient": {
    "remove_source": true
   }
  },
  {
   "cell_type": "markdown",
   "metadata": {},
   "source": [
    "## parse_zodiac\n",
    "\n",
    "You are given a file `zodiac.csv`. For each sign, the table contains astrological information and affinity with other signs, expressed as a relation matrix:"
   ]
  },
  {
   "cell_type": "code",
   "execution_count": 8,
   "metadata": {},
   "outputs": [
    {
     "data": {
      "text/html": [
       "<div>\n",
       "<style scoped>\n",
       "    .dataframe tbody tr th:only-of-type {\n",
       "        vertical-align: middle;\n",
       "    }\n",
       "\n",
       "    .dataframe tbody tr th {\n",
       "        vertical-align: top;\n",
       "    }\n",
       "\n",
       "    .dataframe thead th {\n",
       "        text-align: right;\n",
       "    }\n",
       "</style>\n",
       "<table border=\"1\" class=\"dataframe\">\n",
       "  <thead>\n",
       "    <tr style=\"text-align: right;\">\n",
       "      <th></th>\n",
       "      <th>Constellation</th>\n",
       "      <th>House</th>\n",
       "      <th>Glyph</th>\n",
       "      <th>Symbol</th>\n",
       "      <th>Dates</th>\n",
       "      <th>Element</th>\n",
       "      <th>Quality</th>\n",
       "      <th>Ruling Planet</th>\n",
       "      <th>Day/Night</th>\n",
       "      <th>Aries</th>\n",
       "      <th>...</th>\n",
       "      <th>Gemini</th>\n",
       "      <th>Cancer</th>\n",
       "      <th>Leo</th>\n",
       "      <th>Virgo</th>\n",
       "      <th>Libra</th>\n",
       "      <th>Scorpius</th>\n",
       "      <th>Sagittarius</th>\n",
       "      <th>Capricornus</th>\n",
       "      <th>Aquarius</th>\n",
       "      <th>Pisces</th>\n",
       "    </tr>\n",
       "  </thead>\n",
       "  <tbody>\n",
       "    <tr>\n",
       "      <th>0</th>\n",
       "      <td>Aries</td>\n",
       "      <td>1</td>\n",
       "      <td>♈︎</td>\n",
       "      <td>Ram</td>\n",
       "      <td>21 March\\n-\\n20 April</td>\n",
       "      <td>Fire</td>\n",
       "      <td>Cardinal</td>\n",
       "      <td>Mars</td>\n",
       "      <td>Day</td>\n",
       "      <td>NaN</td>\n",
       "      <td>...</td>\n",
       "      <td>4.0</td>\n",
       "      <td>NaN</td>\n",
       "      <td>5.0</td>\n",
       "      <td>NaN</td>\n",
       "      <td>NaN</td>\n",
       "      <td>NaN</td>\n",
       "      <td>5.0</td>\n",
       "      <td>NaN</td>\n",
       "      <td>4.0</td>\n",
       "      <td>NaN</td>\n",
       "    </tr>\n",
       "    <tr>\n",
       "      <th>1</th>\n",
       "      <td>Taurus</td>\n",
       "      <td>2</td>\n",
       "      <td>♉︎</td>\n",
       "      <td>Bull</td>\n",
       "      <td>21 April\\n-\\n21 May</td>\n",
       "      <td>Earth</td>\n",
       "      <td>Fixed</td>\n",
       "      <td>Venus</td>\n",
       "      <td>Night</td>\n",
       "      <td>NaN</td>\n",
       "      <td>...</td>\n",
       "      <td>NaN</td>\n",
       "      <td>4.0</td>\n",
       "      <td>NaN</td>\n",
       "      <td>5.0</td>\n",
       "      <td>NaN</td>\n",
       "      <td>NaN</td>\n",
       "      <td>NaN</td>\n",
       "      <td>5.0</td>\n",
       "      <td>NaN</td>\n",
       "      <td>4.0</td>\n",
       "    </tr>\n",
       "    <tr>\n",
       "      <th>2</th>\n",
       "      <td>Gemini</td>\n",
       "      <td>3</td>\n",
       "      <td>♊︎</td>\n",
       "      <td>Twins</td>\n",
       "      <td>22 May\\n-\\n21 June</td>\n",
       "      <td>Air</td>\n",
       "      <td>Mutable</td>\n",
       "      <td>Mercury</td>\n",
       "      <td>Day</td>\n",
       "      <td>4.0</td>\n",
       "      <td>...</td>\n",
       "      <td>NaN</td>\n",
       "      <td>NaN</td>\n",
       "      <td>4.0</td>\n",
       "      <td>NaN</td>\n",
       "      <td>5.0</td>\n",
       "      <td>NaN</td>\n",
       "      <td>NaN</td>\n",
       "      <td>NaN</td>\n",
       "      <td>5.0</td>\n",
       "      <td>NaN</td>\n",
       "    </tr>\n",
       "    <tr>\n",
       "      <th>3</th>\n",
       "      <td>Cancer</td>\n",
       "      <td>4</td>\n",
       "      <td>♋︎</td>\n",
       "      <td>Crab</td>\n",
       "      <td>22 June\\n-\\n21 July</td>\n",
       "      <td>Water</td>\n",
       "      <td>Cardinal</td>\n",
       "      <td>Moon</td>\n",
       "      <td>Night</td>\n",
       "      <td>NaN</td>\n",
       "      <td>...</td>\n",
       "      <td>NaN</td>\n",
       "      <td>NaN</td>\n",
       "      <td>NaN</td>\n",
       "      <td>4.0</td>\n",
       "      <td>NaN</td>\n",
       "      <td>5.0</td>\n",
       "      <td>NaN</td>\n",
       "      <td>NaN</td>\n",
       "      <td>NaN</td>\n",
       "      <td>5.0</td>\n",
       "    </tr>\n",
       "  </tbody>\n",
       "</table>\n",
       "<p>4 rows × 21 columns</p>\n",
       "</div>"
      ],
      "text/plain": [
       "  Constellation  House Glyph Symbol                  Dates Element  \\\n",
       "0         Aries      1    ♈︎    Ram  21 March\\n-\\n20 April    Fire   \n",
       "1        Taurus      2    ♉︎   Bull    21 April\\n-\\n21 May   Earth   \n",
       "2        Gemini      3    ♊︎  Twins     22 May\\n-\\n21 June     Air   \n",
       "3        Cancer      4    ♋︎   Crab    22 June\\n-\\n21 July   Water   \n",
       "\n",
       "      Quality Ruling Planet Day/Night  Aries  ...  Gemini  Cancer  Leo  Virgo  \\\n",
       "0    Cardinal          Mars       Day    NaN  ...     4.0     NaN  5.0    NaN   \n",
       "1       Fixed         Venus     Night    NaN  ...     NaN     4.0  NaN    5.0   \n",
       "2     Mutable       Mercury       Day    4.0  ...     NaN     NaN  4.0    NaN   \n",
       "3   Cardinal           Moon     Night    NaN  ...     NaN     NaN  NaN    4.0   \n",
       "\n",
       "   Libra  Scorpius  Sagittarius  Capricornus  Aquarius  Pisces  \n",
       "0    NaN       NaN          5.0          NaN       4.0     NaN  \n",
       "1    NaN       NaN          NaN          5.0       NaN     4.0  \n",
       "2    5.0       NaN          NaN          NaN       5.0     NaN  \n",
       "3    NaN       5.0          NaN          NaN       NaN     5.0  \n",
       "\n",
       "[4 rows x 21 columns]"
      ]
     },
     "execution_count": 8,
     "metadata": {},
     "output_type": "execute_result"
    }
   ],
   "source": [
    "import pandas as pd\n",
    "df = pd.read_csv('zodiac.csv', encoding='UTF-8')\n",
    "df[:4]"
   ]
  },
  {
   "cell_type": "markdown",
   "metadata": {},
   "source": [
    "Parse the table so to get a a dictionary of dictionaries, with some selected data:\n",
    "\n",
    "* affinities are in the scale 1-5, normalize them to floats 0.0-1.0\n",
    "* dates contain `\\n` , normalize them so to have dates separated by a dash as in `21 March-20 April`\n",
    "\n",
    "**NOTE**: To parse the file, a `csv.reader` is sufficient,  it's not necessary to use pandas - even if data seem to span multiple lines because of the `\\n` in dates, note they are bounded by `\"` so rows will be correctly parsed by `csv.reader`\n",
    "\n",
    "<div class=\"alert alert-warning\">\n",
    "    \n",
    "**You can find the complete output in** [expected_zodiac_db.py](expected_zodiac_db.py)\n",
    "    \n",
    "</div>    \n",
    "\n",
    "```python\n",
    "{\n",
    " 'Aquarius': {\n",
    "              'affinities': {\n",
    "                              'Aries': 0.8, \n",
    "                              'Gemini': 1.0, \n",
    "                              'Libra': 1.0, \n",
    "                              'Sagittarius': 0.8\n",
    "                             },\n",
    "              'dates': '21 January-18 February',\n",
    "              'glyph': '♒︎',\n",
    "              'house': 11\n",
    "             },\n",
    " 'Aries':    {\n",
    "              'affinities': {\n",
    "                              'Aquarius': 0.8, \n",
    "                              'Gemini': 0.8, \n",
    "                              'Leo': 1.0, \n",
    "                              'Sagittarius': 1.0\n",
    "                            },\n",
    "              'dates': '21 March-20 April',\n",
    "              'glyph': '♈︎',\n",
    "              'house': 1\n",
    "             },\n",
    "  .\n",
    "  .\n",
    "  .\n",
    "}\n",
    "```"
   ]
  },
  {
   "cell_type": "raw",
   "id": "c9032457",
   "metadata": {
    "format": "text/html"
   },
   "source": [
    "<a  class=\"jupman-sol jupman-sol-toggler\" \n",
    " onclick=\"jupman.toggleSolution(this);\" \n",
    " data-jupman-show=\"Show solution\" data-jupman-hide=\"Hide\">Show solution</a><div class=\"jupman-sol jupman-sol-code\" style=\"display:none\">  "
   ]
  },
  {
   "cell_type": "code",
   "execution_count": 9,
   "metadata": {},
   "outputs": [],
   "source": [
    "import csv\n",
    "\n",
    "def parse_zodiac(filename):\n",
    "    \n",
    "    with open(filename, encoding='utf-8', newline='') as f:    \n",
    "        my_reader = csv.reader(f, delimiter=',')\n",
    "        header = next(my_reader)\n",
    "\n",
    "        ret = {}\n",
    "        for row in my_reader:\n",
    "            workd = {}            \n",
    "            workd['glyph'] = row[2]\n",
    "            workd['house'] = int(row[1])\n",
    "            workd['dates'] = row[4].replace('\\n','')\n",
    "            ret[row[0]] = workd\n",
    "            workd['affinities'] = {}\n",
    "            for j in range(9,len(row)):                \n",
    "                if row[j] != '':\n",
    "                    workd['affinities'][header[j]] = int(row[j])/5        \n",
    "        return ret\n",
    "    \n",
    "    \n",
    "zodiac_db = parse_zodiac('zodiac.csv')\n",
    "\n",
    "\n",
    "from pprint import pprint\n",
    "#pprint(zodiac_db, width=100)\n",
    "assert zodiac_db['Aries']['dates'] == '21 March-20 April'\n",
    "assert zodiac_db['Aries']['affinities'] == {'Aquarius': 0.8, 'Gemini': 0.8, 'Leo': 1.0, 'Sagittarius': 1.0}\n",
    "assert zodiac_db['Aries']['glyph'] == '♈︎'\n",
    "assert zodiac_db['Aries']['house'] == 1\n",
    "assert zodiac_db['Gemini']['dates'] == '22 May-21 June'\n",
    "assert zodiac_db['Gemini']['affinities'] == {'Aquarius': 1.0, 'Aries': 0.8, 'Leo': 0.8, 'Libra': 1.0}\n",
    "assert zodiac_db['Gemini']['glyph'] == '♊︎'\n",
    "assert zodiac_db['Gemini']['house'] == 3\n",
    "from expected_zodiac_db import expected_zodiac_db\n",
    "assert zodiac_db == expected_zodiac_db"
   ]
  },
  {
   "cell_type": "raw",
   "id": "253b514e",
   "metadata": {
    "format": "text/html"
   },
   "source": [
    "</div>"
   ]
  },
  {
   "cell_type": "code",
   "execution_count": 9,
   "metadata": {},
   "outputs": [],
   "source": [
    "import csv\n",
    "\n",
    "def parse_zodiac(filename):\n",
    "    raise Exception('TODO IMPLEMENT ME !')\n",
    "    \n",
    "zodiac_db = parse_zodiac('zodiac.csv')\n",
    "\n",
    "\n",
    "from pprint import pprint\n",
    "#pprint(zodiac_db, width=100)\n",
    "assert zodiac_db['Aries']['dates'] == '21 March-20 April'\n",
    "assert zodiac_db['Aries']['affinities'] == {'Aquarius': 0.8, 'Gemini': 0.8, 'Leo': 1.0, 'Sagittarius': 1.0}\n",
    "assert zodiac_db['Aries']['glyph'] == '♈︎'\n",
    "assert zodiac_db['Aries']['house'] == 1\n",
    "assert zodiac_db['Gemini']['dates'] == '22 May-21 June'\n",
    "assert zodiac_db['Gemini']['affinities'] == {'Aquarius': 1.0, 'Aries': 0.8, 'Leo': 0.8, 'Libra': 1.0}\n",
    "assert zodiac_db['Gemini']['glyph'] == '♊︎'\n",
    "assert zodiac_db['Gemini']['house'] == 3\n",
    "from expected_zodiac_db import expected_zodiac_db\n",
    "assert zodiac_db == expected_zodiac_db"
   ]
  },
  {
   "cell_type": "markdown",
   "metadata": {},
   "source": [
    "## plot_love\n",
    "\n",
    "In  `stars.csv` we inserted the special (fake!) constellation of `'Love'`: given the importance, we placed it at the center of the galaxy, positioned at `x=180` degrees and `y=0`. If you try to plot it now, you should get something like this:"
   ]
  },
  {
   "cell_type": "code",
   "execution_count": 10,
   "metadata": {},
   "outputs": [
    {
     "data": {
      "image/png": "[encoded data removed]",
      "text/plain": [
       "<Figure size 2160x504 with 1 Axes>"
      ]
     },
     "metadata": {
      "needs_background": "light"
     },
     "output_type": "display_data"
    }
   ],
   "source": [
    "# 'Aries',   'Taurus',   'Gemini',      'Cancer',      'Leo',      'Virgo',\n",
    "# 'Libra',  'Scorpius',  'Sagittarius', 'Capricornus', 'Aquarius', 'Pisces'\n",
    "\n",
    "fig = plt.figure(figsize=(30,7))\n",
    "plt.xlim(0,360)\n",
    "plot_stars('Gemini','F', stars_db)\n",
    "plot_stars('Aquarius','M', stars_db)\n",
    "plot_stars('Love','R', stars_db)    # fake!"
   ]
  },
  {
   "cell_type": "markdown",
   "metadata": {},
   "source": [
    "Given two astrological signs, place them on the same y=0 axis as the heart and make them symmetrically closer or farther from it according to their astrological affinity, also displaying their name and astrological glyph:\n",
    "\n",
    "* **REMEMBER** title and xlabels !\n",
    "* you can reuse previosly defined `plot_stars` function\n",
    "* constellations x centers should go from 50 to 150 degrees (and symmetrically, from -50 to -150)\n",
    "* **BUT you will have to display reversed ticks**: 100 50 0 for positive (and symmetrically 0 50 100 for negative)\n",
    "\n",
    "\n",
    "For drawing text:\n",
    "\n",
    "* For increasing text size in  `title`, `xticks`, `xlabel`, `text` calls, you can use `fontsize=20` parameter  (for glyphs you will need a bigger number)\n",
    "* for text inside the chart use use `plt.text(x,y,\"some text\")`\n",
    "* the glyph must be drawn bigger than the sign name, so you will need a separate call to `plt.text`"
   ]
  },
  {
   "cell_type": "markdown",
   "metadata": {},
   "source": [
    "**Examples**:\n",
    "\n",
    "```python\n",
    ">>> plot_love('Gemini','Aquarius', stars_db, zodiac_db)  # 1.0 affinity\n",
    "```\n",
    "\n",
    "![expected-love-Gemini-Aquarius.png](img/expected-love-Gemini-Aquarius.png)"
   ]
  },
  {
   "cell_type": "markdown",
   "metadata": {},
   "source": [
    "```python\n",
    ">>> plot_love('Gemini','Leo', stars_db, zodiac_db)  # 0.8 affinity\n",
    "```\n",
    "![expected-love-Gemini-Leo.png](img/expected-love-Gemini-Leo.png)"
   ]
  },
  {
   "cell_type": "markdown",
   "metadata": {},
   "source": [
    "```python\n",
    ">>> plot_love('Gemini','Taurus', stars_db, zodiac_db) # 0.0 affinity\n",
    "```\n",
    "![expected-love-Gemini-Taurus.png](img/expected-love-Gemini-Taurus.png)"
   ]
  },
  {
   "cell_type": "markdown",
   "metadata": {},
   "source": [
    "```python\n",
    ">>> plot_love('Taurus','Capricornus', stars_db, zodiac_db)  # 1.0 affinity\n",
    "```\n",
    "![expected-love-Taurus-Capricornus.png](img/expected-love-Taurus-Capricornus.png)"
   ]
  },
  {
   "cell_type": "markdown",
   "metadata": {},
   "source": [
    "```python\n",
    ">>> plot_love('Leo','Libra', stars_db, zodiac_db)  # 0.8 affinity\n",
    "```\n",
    "\n",
    "![expected-love-Leo-Libra.png](img/expected-love-Leo-Libra.png)"
   ]
  },
  {
   "cell_type": "markdown",
   "metadata": {},
   "source": [
    "```python\n",
    ">>> plot_love('Taurus','Scorpius', stars_db, zodiac_db)  # 0.0 affinity\n",
    "```\n",
    "![expected-love-Taurus-Scorpius.png](img/expected-love-Taurus-Scorpius.png)"
   ]
  },
  {
   "cell_type": "raw",
   "id": "48f50619",
   "metadata": {
    "format": "text/html"
   },
   "source": [
    "<a  class=\"jupman-sol jupman-sol-toggler\" \n",
    " onclick=\"jupman.toggleSolution(this);\" \n",
    " data-jupman-show=\"Show solution\" data-jupman-hide=\"Hide\">Show solution</a><div class=\"jupman-sol jupman-sol-code\" style=\"display:none\">  "
   ]
  },
  {
   "cell_type": "code",
   "execution_count": 11,
   "metadata": {},
   "outputs": [
    {
     "data": {
      "image/png": "[encoded data removed]",
      "text/plain": [
       "<Figure size 2160x504 with 1 Axes>"
      ]
     },
     "metadata": {
      "needs_background": "light"
     },
     "output_type": "display_data"
    }
   ],
   "source": [
    "\n",
    "\n",
    "def plot_love(f_sign, m_sign, stars, zodiac):\n",
    "    \n",
    "    fig = plt.figure(figsize=(30,7))  # 30 inches large by 7 high\n",
    "    plt.xlim(-175,175)\n",
    "    \n",
    "    \n",
    "                       \n",
    "    \n",
    "    if m_sign in zodiac[f_sign]['affinities']:\n",
    "        coeff = zodiac[f_sign]['affinities'][m_sign]\n",
    "    else:\n",
    "        coeff = 0.0        \n",
    "    \n",
    "    plt.title('GALACTIC LOVE', fontsize=22)\n",
    "    xs = np.array([50,100,150])\n",
    "    plt.xlabel('AFFINITY', fontsize=19)\n",
    "    plt.xticks(np.hstack((-xs,xs)), np.hstack((150-np.abs(xs), 150-np.abs(xs))), fontsize=18)    \n",
    "    plt.ylim(-19,19)\n",
    "    plot_stars('Love', 'R',stars, new_center=(0,0))\n",
    "    prox = (1.0 - coeff)*100+25+25\n",
    "    plot_stars(m_sign, 'M',stars, new_center=(prox,0))\n",
    "    plot_stars(f_sign, 'F', stars, new_center=(-prox,0))\n",
    "        \n",
    "    plt.text(+prox,-16, m_sign,  fontsize=19,  fontweight='bold', color='white')\n",
    "    plt.text(+prox-11,-16.5, zodiac[m_sign]['glyph'], fontsize=45,  fontweight='bold', color='white')    \n",
    "    \n",
    "    plt.text(-prox,-16, f_sign, fontsize=19,  fontweight='bold', color='white')\n",
    "    plt.text(-prox-11,-16.5, zodiac[f_sign]['glyph'], fontsize=45,  fontweight='bold', color='white')\n",
    "    \n",
    "    \n",
    "\n",
    "plot_love('Gemini','Aquarius', stars_db, zodiac_db)  # 1.0 affinity"
   ]
  },
  {
   "cell_type": "raw",
   "id": "5acc8a57",
   "metadata": {
    "format": "text/html"
   },
   "source": [
    "</div>"
   ]
  },
  {
   "cell_type": "code",
   "execution_count": 11,
   "metadata": {},
   "outputs": [],
   "source": [
    "\n",
    "\n",
    "def plot_love(f_sign, m_sign, stars, zodiac):\n",
    "    \n",
    "    fig = plt.figure(figsize=(30,7))  # 30 inches large by 7 high\n",
    "    plt.xlim(-175,175)\n",
    "    \n",
    "    raise Exception('TODO IMPLEMENT ME !')\n",
    "\n",
    "plot_love('Gemini','Aquarius', stars_db, zodiac_db)  # 1.0 affinity"
   ]
  },
  {
   "cell_type": "code",
   "execution_count": 12,
   "metadata": {},
   "outputs": [],
   "source": [
    "\n",
    "plot_love('Gemini','Leo', stars_db, zodiac_db)  # 0.8 affinity"
   ]
  },
  {
   "cell_type": "code",
   "execution_count": 13,
   "metadata": {
    "scrolled": true
   },
   "outputs": [],
   "source": [
    "\n",
    "plot_love('Gemini','Taurus', stars_db, zodiac_db) # 0.0 affinity"
   ]
  },
  {
   "cell_type": "code",
   "execution_count": 14,
   "metadata": {},
   "outputs": [],
   "source": [
    "\n",
    "plot_love('Taurus','Capricornus', stars_db, zodiac_db)  # 1.0 affinity"
   ]
  },
  {
   "cell_type": "code",
   "execution_count": 15,
   "metadata": {
    "scrolled": true
   },
   "outputs": [],
   "source": [
    "\n",
    "plot_love('Leo','Libra', stars_db, zodiac_db)  # 0.8 affinity"
   ]
  },
  {
   "cell_type": "code",
   "execution_count": 16,
   "metadata": {},
   "outputs": [],
   "source": [
    "\n",
    "plot_love('Taurus','Scorpius', stars_db, zodiac_db)  # 0.0 affinity"
   ]
  },
  {
   "cell_type": "code",
   "execution_count": null,
   "metadata": {},
   "outputs": [],
   "source": []
  }
 ],
 "metadata": {
  "celltoolbar": "Edit Metadata",
  "kernelspec": {
   "display_name": "Python 3 (ipykernel)",
   "language": "python",
   "name": "python3"
  },
  "language_info": {
   "codemirror_mode": {
    "name": "ipython",
    "version": 3
   },
   "file_extension": ".py",
   "mimetype": "text/x-python",
   "name": "python",
   "nbconvert_exporter": "python",
   "pygments_lexer": "ipython3",
   "version": "3.7.10"
  },
  "toc": {
   "base_numbering": 1,
   "nav_menu": {},
   "number_sections": false,
   "sideBar": true,
   "skip_h1_title": false,
   "title_cell": "Table of Contents",
   "title_sidebar": "Contents",
   "toc_cell": false,
   "toc_position": {},
   "toc_section_display": true,
   "toc_window_display": true
  }
 },
 "nbformat": 4,
 "nbformat_minor": 1
}
