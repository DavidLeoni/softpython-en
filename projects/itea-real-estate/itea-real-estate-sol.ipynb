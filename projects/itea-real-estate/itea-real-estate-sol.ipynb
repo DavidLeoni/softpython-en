{
 "cells": [
  {
   "cell_type": "markdown",
   "metadata": {},
   "source": [
    "# ITEA Real Estate\n",
    "\n",
    "## [Download worked project](../../_static/generated/itea-real-estate-prj.zip) \n",
    "\n",
    "[Browse files online](https://github.com/DavidLeoni/softpython-en/tree/master/projects/itea-real-estate)\n",
    "\n",
    "You will now analyze public real estates which are managed by ITEA agency in Trentino region, Italy. Every real estate has a type, and we will find the type distribution.\n",
    "\n",
    "Data provider: [ITEA - dati.trentino.it](https://dati.trentino.it/dataset/patrimonio-immobiliare)"
   ]
  },
  {
   "cell_type": "markdown",
   "metadata": {},
   "source": [
    "## What to do\n",
    "\n",
    "1. Unzip exercises zip in a folder, you should obtain something like this:\n",
    "\n",
    "```\n",
    "itea-real-estate-prj\n",
    "    itea-real-estate.ipynb\n",
    "    itea-real-estate-sol.ipynb\n",
    "    itea.csv\n",
    "    jupman.py\n",
    "```\n",
    "\n",
    "<div class=\"alert alert-warning\">\n",
    "\n",
    "**WARNING: to correctly visualize the notebook, it MUST be in an unzipped folder !**\n",
    "</div>"
   ]
  },
  {
   "cell_type": "markdown",
   "metadata": {},
   "source": [
    "2. open Jupyter Notebook from that folder. Two things should open, first a console and then a browser. The browser should show a file list: navigate the list and open the notebook `itea-real-estate.ipynb`\n",
    "\n",
    "3. Go on reading the notebook, and write in the appropriate cells when asked"
   ]
  },
  {
   "cell_type": "markdown",
   "metadata": {},
   "source": [
    "Shortcut keys:\n",
    "\n",
    "- to execute Python code inside a Jupyter cell, press `Control + Enter`\n",
    "\n",
    "- to execute Python code inside a Jupyter cell AND select next cell, press `Shift + Enter`\n",
    "\n",
    "- to execute Python code inside a Jupyter cell AND a create a new cell aftwerwards, press `Alt + Enter`\n",
    "\n",
    "- If the notebooks look stuck, try to select `Kernel -> Restart`"
   ]
  },
  {
   "cell_type": "markdown",
   "metadata": {},
   "source": [
    "## load_itea\n",
    "\n",
    "A function `load_itea` is given to load the dataset [itea.csv](itea.csv) (you don't need to implement it):"
   ]
  },
  {
   "cell_type": "code",
   "execution_count": 1,
   "metadata": {},
   "outputs": [],
   "source": [
    "import csv\n",
    "\n",
    "def load_itea():\n",
    "    \"\"\"Loads file data and RETURN a list of dictionaries with the stop times\n",
    "    \"\"\"        \n",
    "    with open('itea.csv', newline='',  encoding='latin-1',) as csvfile:\n",
    "        reader = csv.DictReader(csvfile,  delimiter=';')\n",
    "        lst = []\n",
    "        for d in reader:\n",
    "            lst.append(d)\n",
    "    return lst\n",
    "\n",
    "itea = load_itea()"
   ]
  },
  {
   "cell_type": "markdown",
   "metadata": {},
   "source": [
    "<div class=\"alert alert-warning\">\n",
    "\n",
    "**IMPORTANT**: look at the dataset by yourself !\n",
    "\n",
    "Here we show only first 5 rows, but to get a clear picture of the dataset you need to study it a bit by yourself\n",
    "\n",
    "</div>\n"
   ]
  },
  {
   "cell_type": "code",
   "execution_count": 2,
   "metadata": {},
   "outputs": [
    {
     "data": {
      "text/plain": [
       "[OrderedDict([('Tipologia', 'ALTRO'),\n",
       "              ('Proprietà', 'ITEA'),\n",
       "              ('Indirizzo', \"Codice unita': 30100049\"),\n",
       "              ('Frazione', ''),\n",
       "              ('Comune', \"BASELGA DI PINE'\")]),\n",
       " OrderedDict([('Tipologia', 'ALLOGGIO'),\n",
       "              ('Proprietà', 'ITEA'),\n",
       "              ('Indirizzo', \"Codice unita': 43100011\"),\n",
       "              ('Frazione', ''),\n",
       "              ('Comune', 'TRENTO')]),\n",
       " OrderedDict([('Tipologia', 'ALLOGGIO'),\n",
       "              ('Proprietà', 'ITEA'),\n",
       "              ('Indirizzo', \"Codice unita': 43100002\"),\n",
       "              ('Frazione', ''),\n",
       "              ('Comune', 'TRENTO')]),\n",
       " OrderedDict([('Tipologia', 'ALLOGGIO'),\n",
       "              ('Proprietà', 'ITEA'),\n",
       "              ('Indirizzo', 'VIALE DELLE ROBINIE 26'),\n",
       "              ('Frazione', ''),\n",
       "              ('Comune', 'TRENTO')]),\n",
       " OrderedDict([('Tipologia', 'ALLOGGIO'),\n",
       "              ('Proprietà', 'ITEA'),\n",
       "              ('Indirizzo', 'VIALE DELLE ROBINIE 26'),\n",
       "              ('Frazione', ''),\n",
       "              ('Comune', 'TRENTO')])]"
      ]
     },
     "execution_count": 2,
     "metadata": {},
     "output_type": "execute_result"
    }
   ],
   "source": [
    "itea[:5]"
   ]
  },
  {
   "cell_type": "markdown",
   "metadata": {},
   "source": [
    "## calc_types_hist\n",
    "\n",
    "Implement function `calc_types_hist` to extract the types (`'Tipologia'`) of ITEA real estate and RETURN a histogram which associates to each type its frequency.\n",
    "\n",
    "- You will discover there are three types of apartments: `'ALLOGGIO'`, `'ALLOGGIO  DUPLEX'` and `'ALLOGGIO MONOLOCALE'`. In the resulting histogram you must place only the key `'ALLOGGIO'` which will be the sum of all of them.\n",
    "- Same goes for `'POSTO MACCHINA'` (parking lot): there are many of them ( `'POSTO MACCHINA COMUNE ESTERNO'`,\n",
    " `'POSTO MACCHINA COMUNE INTERNO'`, `'POSTO MACCHINA ESTERNO'`, `'POSTO MACCHINA INTERNO'`, `'POSTO MACCHINA SOTTO TETTOIA'`) but we only want to see `'POSTO MACCHINA'` as key with the sum of all of them.\n",
    "\n",
    "* **DO NOT** use 5 ifs, try to come up with some generic code to catch all these cases ..\n",
    "\n",
    "Expected output:\n",
    "\n",
    "```python\n",
    ">>> calc_types_hist(itea)\n",
    "{'ALTRO': 64,\n",
    " 'ALLOGGIO': 10778,\n",
    " 'POSTO MACCHINA': 3147,\n",
    " 'MAGAZZINO': 143,\n",
    " 'CABINA ELETTRICA': 41,\n",
    " 'LOCALE COMUNE': 28,\n",
    " 'NEGOZIO': 139,\n",
    " 'CANTINA': 40,\n",
    " 'GARAGE': 2221,\n",
    " 'CENTRALE TERMICA': 4,\n",
    " 'UFFICIO': 29,\n",
    " 'TETTOIA': 2,\n",
    " 'ARCHIVIO ITEA': 10,\n",
    " 'SALA / ATTIVITA SOCIALI': 45,\n",
    " 'AREA URBANA': 6,\n",
    " 'ASILO': 1,\n",
    " 'CASERMA': 2,\n",
    " 'LABORATORIO PER ARTI E MESTIERI': 3,\n",
    " 'MUSEO': 1,\n",
    " 'SOFFITTA': 3,\n",
    " 'AMBULATORIO': 1,\n",
    " 'LEGNAIA': 3,\n",
    " 'RUDERE': 1}\n",
    "```"
   ]
  },
  {
   "cell_type": "code",
   "execution_count": 3,
   "metadata": {},
   "outputs": [
    {
     "data": {
      "text/plain": [
       "{'ALTRO': 64,\n",
       " 'ALLOGGIO': 10778,\n",
       " 'POSTO MACCHINA': 3147,\n",
       " 'MAGAZZINO': 143,\n",
       " 'CABINA ELETTRICA': 41,\n",
       " 'LOCALE COMUNE': 28,\n",
       " 'NEGOZIO': 139,\n",
       " 'CANTINA': 40,\n",
       " 'GARAGE': 2221,\n",
       " 'CENTRALE TERMICA': 4,\n",
       " 'UFFICIO': 29,\n",
       " 'TETTOIA': 2,\n",
       " 'ARCHIVIO ITEA': 10,\n",
       " 'SALA / ATTIVITA SOCIALI': 45,\n",
       " 'AREA URBANA': 6,\n",
       " 'ASILO': 1,\n",
       " 'CASERMA': 2,\n",
       " 'LABORATORIO PER ARTI E MESTIERI': 3,\n",
       " 'MUSEO': 1,\n",
       " 'SOFFITTA': 3,\n",
       " 'AMBULATORIO': 1,\n",
       " 'LEGNAIA': 3,\n",
       " 'RUDERE': 1}"
      ]
     },
     "execution_count": 3,
     "metadata": {},
     "output_type": "execute_result"
    }
   ],
   "source": [
    "#jupman-purge-output\n",
    "\n",
    "def calc_types_hist(db):\n",
    "    #jupman-raise\n",
    "    \n",
    "    tipologie = {}\n",
    "    for diz in db:\n",
    "        if diz['Tipologia'].startswith('ALLOGGIO'):\n",
    "            chiave = 'ALLOGGIO'\n",
    "        elif diz['Tipologia'].startswith('POSTO MACCHINA'):\n",
    "            chiave = 'POSTO MACCHINA'\n",
    "        else: \n",
    "            chiave = diz['Tipologia']\n",
    "            \n",
    "        if chiave in tipologie:            \n",
    "            tipologie[chiave] += 1\n",
    "        else:\n",
    "            tipologie[chiave] = 1\n",
    "        \n",
    "    return tipologie\n",
    "    #/jupman-raise\n",
    "    \n",
    "calc_types_hist(itea)"
   ]
  },
  {
   "cell_type": "markdown",
   "metadata": {},
   "source": [
    "\n",
    "    \n",
    "## calc_types_series\n",
    "\n",
    "Implement a function to take a dictionary histogram and RETURN a list of tuples containing key/value pairs, sorted from most frequent to least frequent items.\n",
    "\n",
    "**HINT**: if you don't remember how to sort by an element of a tuple, look at [this example](https://docs.python.org/3/howto/sorting.html#key-functions) in python documentation.\n",
    "\n",
    "Expected output:\n",
    "\n",
    "```python\n",
    ">>> calc_types_series(calc_types_hist(itea))\n",
    "[('ALLOGGIO', 10778),\n",
    " ('POSTO MACCHINA', 3147),\n",
    " ('GARAGE', 2221),\n",
    " ('MAGAZZINO', 143),\n",
    " ('NEGOZIO', 139),\n",
    " ('ALTRO', 64),\n",
    " ('SALA / ATTIVITA SOCIALI', 45),\n",
    " ('CABINA ELETTRICA', 41),\n",
    " ('CANTINA', 40),\n",
    " ('UFFICIO', 29)]\n",
    "```"
   ]
  },
  {
   "cell_type": "code",
   "execution_count": 4,
   "metadata": {},
   "outputs": [
    {
     "data": {
      "text/plain": [
       "[('ALLOGGIO', 10778),\n",
       " ('POSTO MACCHINA', 3147),\n",
       " ('GARAGE', 2221),\n",
       " ('MAGAZZINO', 143),\n",
       " ('NEGOZIO', 139),\n",
       " ('ALTRO', 64),\n",
       " ('SALA / ATTIVITA SOCIALI', 45),\n",
       " ('CABINA ELETTRICA', 41),\n",
       " ('CANTINA', 40),\n",
       " ('UFFICIO', 29)]"
      ]
     },
     "execution_count": 4,
     "metadata": {},
     "output_type": "execute_result"
    }
   ],
   "source": [
    "#jupman-purge-output\n",
    "def calc_types_series(hist):\n",
    "    #jupman-raise\n",
    "    ret = []\n",
    "    \n",
    "    for key in hist:\n",
    "        ret.append((key, hist[key]))\n",
    "    \n",
    "    ret.sort(key=lambda c: c[1],reverse=True)\n",
    "    return ret[:10]\n",
    "    #/jupman-raise\n",
    "\n",
    "types = calc_types_series(calc_types_hist(itea))\n",
    "\n",
    "types"
   ]
  },
  {
   "cell_type": "markdown",
   "metadata": {},
   "source": [
    "## Real estates plot\n",
    "\n",
    "Once you obtained the series as above, plot the first 10 most frequent items, in decreasing order.\n",
    "\n",
    "- pay attention to plot title, width and height, axis labels. Everything MUST display in a readable way.\n",
    "\n",
    "- try also to print nice the labels, if they are too long / overlap like for `'SALA / ATTIVITA SOCIALI'` put carriage returns in a generic way.\n",
    "\n",
    "![expected-itea-plot.png](expected-itea-plot.png)"
   ]
  },
  {
   "cell_type": "code",
   "execution_count": null,
   "metadata": {},
   "outputs": [],
   "source": []
  }
 ],
 "metadata": {
  "celltoolbar": "Edit Metadata",
  "kernelspec": {
   "display_name": "Python 3 (ipykernel)",
   "language": "python",
   "name": "python3"
  },
  "language_info": {
   "codemirror_mode": {
    "name": "ipython",
    "version": 3
   },
   "file_extension": ".py",
   "mimetype": "text/x-python",
   "name": "python",
   "nbconvert_exporter": "python",
   "pygments_lexer": "ipython3",
   "version": "3.7.10"
  },
  "toc": {
   "base_numbering": 1,
   "nav_menu": {},
   "number_sections": false,
   "sideBar": true,
   "skip_h1_title": false,
   "title_cell": "Table of Contents",
   "title_sidebar": "Contents",
   "toc_cell": false,
   "toc_position": {
    "height": "calc(100% - 180px)",
    "left": "10px",
    "top": "150px",
    "width": "284px"
   },
   "toc_section_display": true,
   "toc_window_display": true
  }
 },
 "nbformat": 4,
 "nbformat_minor": 1
}
