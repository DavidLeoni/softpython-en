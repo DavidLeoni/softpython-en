{
 "cells": [
  {
   "cell_type": "markdown",
   "metadata": {},
   "source": [
    "# What's your business?\n",
    "\n",
    "## [Download worked project](../../_static/generated/nace-prj.zip) \n",
    "\n",
    "[Browse files online](https://github.com/DavidLeoni/softpython-en/tree/master/projects/nace)\n",
    "\n",
    "So you want to be a data scientist. Good, plenty of opportunities ahead!\n",
    "\n",
    "After graduating, you might discover though that many companies require you to actually work as a freelancer: you will just need to declare to the state which type of economic activity you are going to perform, they say. Seems easy, but you will soon encounter a pretty burocratic problem: do public institutions even _know_ what a data scientist is? If not, what is the closest category they recognize? Is there any specific _exclusion_ that would bar you from entering that category?\n",
    "\n",
    "If you are in Europe, you will be presented with a catalog of economic activites you can choose from called [NACE](https://ec.europa.eu/eurostat/ramon/nomenclatures/index.cfm?TargetUrl=LST_NOM_DTL&StrNom=NACE_REV2&StrLanguageCode=EN&IntPcKey=&StrLayoutCode=HIERARCHIC), which is then further specialized by various states (for example Italy's catalog is called [ATECO](https://www.istat.it/it/archivio/17888))"
   ]
  },
  {
   "cell_type": "markdown",
   "metadata": {},
   "source": [
    "## What to do\n",
    "\n",
    "1. Unzip exercises zip in a folder, you should obtain something like this:\n",
    "\n",
    "```\n",
    "nace-prj\n",
    "    nace.ipynb\n",
    "    nace-sol.ipynb\n",
    "    NACE_REV2_20200628_213139.csv\n",
    "    jupman.py\n",
    "```\n",
    "\n",
    "<div class=\"alert alert-warning\">\n",
    "\n",
    "**WARNING: to correctly visualize the notebook, it MUST be in an unzipped folder !**\n",
    "</div>"
   ]
  },
  {
   "cell_type": "markdown",
   "metadata": {},
   "source": [
    "2. open Jupyter Notebook from that folder. Two things should open, first a console and then a browser. The browser should show a file list: navigate the list and open the notebook `nace.ipynb`\n",
    "\n",
    "3. Go on reading the notebook, and write in the appropriate cells when asked"
   ]
  },
  {
   "cell_type": "markdown",
   "metadata": {},
   "source": [
    "Shortcut keys:\n",
    "\n",
    "- to execute Python code inside a Jupyter cell, press `Control + Enter`\n",
    "\n",
    "- to execute Python code inside a Jupyter cell AND select next cell, press `Shift + Enter`\n",
    "\n",
    "- to execute Python code inside a Jupyter cell AND a create a new cell aftwerwards, press `Alt + Enter`\n",
    "\n",
    "- If the notebooks look stuck, try to select `Kernel -> Restart`"
   ]
  },
  {
   "cell_type": "markdown",
   "metadata": {},
   "source": [
    "\n",
    "## NACE Sections\n",
    "\n",
    "A NACE code is subdivided in a hierarchical, four-level structure. The categories at the highest level are called _sections_, here they are:\n",
    "\n",
    "![nace-sections](img/nace-sections.jpg)"
   ]
  },
  {
   "cell_type": "markdown",
   "metadata": {},
   "source": [
    "### Section detail\n",
    "\n",
    "If you drill down in say, section `M`, you will find something like this:\n",
    "\n",
    "The first two digits of the code identify the _division_, the third digit identifies the _group_, and the fourth digit identifies the _class_:\n",
    "\n",
    "\n",
    "![example-nace](img/example-nace.jpg)"
   ]
  },
  {
   "cell_type": "markdown",
   "metadata": {},
   "source": [
    "\n",
    "Let's pick for example _Advertising agencies_ , which has code `73.11`:  \n",
    "\n",
    "|Level|        |Code  |Spec | Description|\n",
    "|--------|----|-|-|-|\n",
    "|1|**Section** |**M**|a single alphabetic char| PROFESSIONAL, SCIENTIFIC AND TECHNICAL ACTIVITIES|\n",
    "|2|**Division**|**73**|two-digits|Advertising and market research|\n",
    "|3|**Group**| **73.1** |three-digits, with dot after first two|Advertising|\n",
    "|4|**Class**| **73.12**|four-digits, with dot after first two|Advertising agencies|\n"
   ]
  },
  {
   "cell_type": "markdown",
   "metadata": {},
   "source": [
    "### Specifications\n",
    "\n",
    "<div class=\"alert alert-warning\">\n",
    "            \n",
    "**WARNING: CODES MAY CONTAIN ZEROES!**\n",
    "\n",
    "\n",
    "**IF YOU LOAD THE CSV IN LIBREOFFICE CALC OR EXCEL, MAKE SURE IT IMPORTS EVERYTHING AS STRING!**\n",
    "\n",
    "**WATCH OUT FOR CHOPPED ZEROES !**\n",
    "\n",
    "</div>\n",
    "\n",
    "**Zero examples**:\n",
    "\n",
    "* _Veterinary activities_ contains a double zero _at the end_ : `75.00`  </li>\n",
    "*  group _Manufacture of beverages_ contains a single zero at the end:  `11.0` </li>\n",
    "*  _Manufacture of beer_ contains zero _inside_ : `11.05` </li>\n",
    "*  _Support services to forestry_ contains a zero _at the beginning_ : `02.4` which is different from  `02.40` even if they have the same description ! \n",
    "\n",
    "**The section level code is not integrated in the NACE code**: For example, the activity _Manufacture of glues_ is identified by the code `20.52`, where `20` is the code for the division, `20.5` is the code for the group and `20.52` is the code of the class; section `C`, to which this class belongs, does not appear in the code itself.\n",
    "\n",
    "\n",
    "**There may be gaps** (not very important for us): The divisions are coded consecutively. However, some \"gaps\" have been provided to allow the introduction of additional divisions without a complete change of the NACE coding. "
   ]
  },
  {
   "cell_type": "markdown",
   "metadata": {},
   "source": [
    "### NACE CSV\n",
    "\n",
    "We provide you with a CSV  [NACE_REV2_20200628_213139.csv](NACE_REV2_20200628_213139.csv) that contains all the codes. Try to explore it with LibreOffice Calc or pandas\n",
    "\n",
    "Here we show some relevant parts (**NOTE**: you  **DON'T** need to use pandas)"
   ]
  },
  {
   "cell_type": "code",
   "execution_count": 1,
   "metadata": {},
   "outputs": [
    {
     "name": "stdout",
     "output_type": "stream",
     "text": [
      "<class 'pandas.core.frame.DataFrame'>\n",
      "RangeIndex: 996 entries, 0 to 995\n",
      "Data columns (total 10 columns):\n",
      " #   Column                    Non-Null Count  Dtype \n",
      "---  ------                    --------------  ----- \n",
      " 0   Order                     996 non-null    int64 \n",
      " 1   Level                     996 non-null    int64 \n",
      " 2   Code                      996 non-null    object\n",
      " 3   Parent                    975 non-null    object\n",
      " 4   Description               996 non-null    object\n",
      " 5   This item includes        778 non-null    object\n",
      " 6   This item also includes   202 non-null    object\n",
      " 7   Rulings                   134 non-null    object\n",
      " 8   This item excludes        507 non-null    object\n",
      " 9   Reference to ISIC Rev. 4  996 non-null    object\n",
      "dtypes: int64(2), object(8)\n",
      "memory usage: 77.9+ KB\n"
     ]
    }
   ],
   "source": [
    "import pandas as pd   # we import pandas and for ease we rename it to 'pd'\n",
    "import numpy as np    # we import numpy and for ease we rename it to 'np'\n",
    "\n",
    "pd.set_option('display.max_colwidth', None)           \n",
    "df = pd.read_csv('NACE_REV2_20200628_213139.csv', encoding='UTF-8')\n",
    "df.info()"
   ]
  },
  {
   "cell_type": "code",
   "execution_count": 2,
   "metadata": {
    "scrolled": false
   },
   "outputs": [
    {
     "data": {
      "text/html": [
       "<div>\n",
       "<style scoped>\n",
       "    .dataframe tbody tr th:only-of-type {\n",
       "        vertical-align: middle;\n",
       "    }\n",
       "\n",
       "    .dataframe tbody tr th {\n",
       "        vertical-align: top;\n",
       "    }\n",
       "\n",
       "    .dataframe thead th {\n",
       "        text-align: right;\n",
       "    }\n",
       "</style>\n",
       "<table border=\"1\" class=\"dataframe\">\n",
       "  <thead>\n",
       "    <tr style=\"text-align: right;\">\n",
       "      <th></th>\n",
       "      <th>Order</th>\n",
       "      <th>Level</th>\n",
       "      <th>Code</th>\n",
       "      <th>Parent</th>\n",
       "      <th>Description</th>\n",
       "      <th>This item includes</th>\n",
       "      <th>This item also includes</th>\n",
       "      <th>Rulings</th>\n",
       "      <th>This item excludes</th>\n",
       "      <th>Reference to ISIC Rev. 4</th>\n",
       "    </tr>\n",
       "  </thead>\n",
       "  <tbody>\n",
       "    <tr>\n",
       "      <th>0</th>\n",
       "      <td>398481</td>\n",
       "      <td>1</td>\n",
       "      <td>A</td>\n",
       "      <td>NaN</td>\n",
       "      <td>AGRICULTURE, FORESTRY AND FISHING</td>\n",
       "      <td>This section includes the exploitation of vegetal and animal natural resources, comprising the activities of growing of crops, raising and breeding of animals, harvesting of timber and other plants, animals or animal products from a farm or their natural habitats.</td>\n",
       "      <td>NaN</td>\n",
       "      <td>NaN</td>\n",
       "      <td>NaN</td>\n",
       "      <td>A</td>\n",
       "    </tr>\n",
       "    <tr>\n",
       "      <th>1</th>\n",
       "      <td>398482</td>\n",
       "      <td>2</td>\n",
       "      <td>01</td>\n",
       "      <td>A</td>\n",
       "      <td>Crop and animal production, hunting and related service activities</td>\n",
       "      <td>This division includes two basic activities, namely the production of crop products and production of animal products, covering also the forms of organic agriculture, the growing of genetically modified crops and the raising of genetically modified animals. This division includes growing of crops in open fields as well in greenhouses.\\n \\nGroup 01.5 (Mixed farming) breaks with the usual principles for identifying main activity. It accepts that many agricultural holdings have reasonably balanced crop and animal production, and that it would be arbitrary to classify them in one category or the other.</td>\n",
       "      <td>This division also includes service activities incidental to agriculture, as well as hunting, trapping and related activities.</td>\n",
       "      <td>NaN</td>\n",
       "      <td>Agricultural activities exclude any subsequent processing of the agricultural products (classified under divisions 10 and 11 (Manufacture of food products and beverages) and division 12 (Manufacture of tobacco products)), beyond that needed to prepare them for the primary markets. The preparation of products for the primary markets is included here.\\n\\nThe division excludes field construction (e.g. agricultural land terracing, drainage, preparing rice paddies etc.) classified in section F (Construction) and buyers and cooperative associations engaged in the marketing of farm products classified in section G. Also excluded is the landscape care and maintenance, which is classified in class 81.30.</td>\n",
       "      <td>01</td>\n",
       "    </tr>\n",
       "    <tr>\n",
       "      <th>2</th>\n",
       "      <td>398483</td>\n",
       "      <td>3</td>\n",
       "      <td>01.1</td>\n",
       "      <td>01</td>\n",
       "      <td>Growing of non-perennial crops</td>\n",
       "      <td>This group includes the growing of non-perennial crops, i.e. plants that do not last for more than two growing seasons. Included is the growing of these plants for the purpose of seed production.</td>\n",
       "      <td>NaN</td>\n",
       "      <td>NaN</td>\n",
       "      <td>NaN</td>\n",
       "      <td>011</td>\n",
       "    </tr>\n",
       "    <tr>\n",
       "      <th>3</th>\n",
       "      <td>398484</td>\n",
       "      <td>4</td>\n",
       "      <td>01.11</td>\n",
       "      <td>01.1</td>\n",
       "      <td>Growing of cereals (except rice), leguminous crops and oil seeds</td>\n",
       "      <td>This class includes all forms of growing of cereals, leguminous crops and oil seeds in open fields. The growing of these crops is often combined within agricultural units.\\n\\nThis class includes:\\n- growing of cereals such as:\\n  . wheat\\n  . grain maize\\n  . sorghum\\n  . barley\\n  . rye\\n  . oats\\n  . millets\\n  . other cereals n.e.c.\\n- growing of leguminous crops such as:\\n  . beans\\n  . broad beans\\n  . chick peas\\n  . cow peas\\n  . lentils\\n  . lupines\\n  . peas\\n  . pigeon peas\\n  . other leguminous crops\\n- growing of oil seeds such as:\\n  . soya beans\\n  . groundnuts\\n  . castor bean\\n  . linseed\\n  . mustard seed\\n  . niger seed\\n  . rapeseed\\n  . safflower seed\\n  . sesame seed\\n  . sunflower seed\\n  . other oil seeds</td>\n",
       "      <td>NaN</td>\n",
       "      <td>NaN</td>\n",
       "      <td>This class excludes:\\n- growing of rice, see 01.12\\n- growing of sweet corn, see 01.13\\n- growing of maize for fodder, see 01.19\\n- growing of oleaginous fruits, see 01.26</td>\n",
       "      <td>0111</td>\n",
       "    </tr>\n",
       "    <tr>\n",
       "      <th>4</th>\n",
       "      <td>398485</td>\n",
       "      <td>4</td>\n",
       "      <td>01.12</td>\n",
       "      <td>01.1</td>\n",
       "      <td>Growing of rice</td>\n",
       "      <td>This class includes:\\n- growing of rice (including organic farming and the growing of genetically modified rice)</td>\n",
       "      <td>NaN</td>\n",
       "      <td>NaN</td>\n",
       "      <td>NaN</td>\n",
       "      <td>0112</td>\n",
       "    </tr>\n",
       "  </tbody>\n",
       "</table>\n",
       "</div>"
      ],
      "text/plain": [
       "    Order  Level   Code Parent  \\\n",
       "0  398481      1      A    NaN   \n",
       "1  398482      2     01      A   \n",
       "2  398483      3   01.1     01   \n",
       "3  398484      4  01.11   01.1   \n",
       "4  398485      4  01.12   01.1   \n",
       "\n",
       "                                                          Description  \\\n",
       "0                                   AGRICULTURE, FORESTRY AND FISHING   \n",
       "1  Crop and animal production, hunting and related service activities   \n",
       "2                                      Growing of non-perennial crops   \n",
       "3    Growing of cereals (except rice), leguminous crops and oil seeds   \n",
       "4                                                     Growing of rice   \n",
       "\n",
       "                                                                                                                                                                                                                                                                                                                                                                                                                                                                                                                                                                                                                                                                                                                                                  This item includes  \\\n",
       "0                                                                                                                                                                                                                                                                                                                                                                                                                                                                                           This section includes the exploitation of vegetal and animal natural resources, comprising the activities of growing of crops, raising and breeding of animals, harvesting of timber and other plants, animals or animal products from a farm or their natural habitats.   \n",
       "1                                                                                                                                      This division includes two basic activities, namely the production of crop products and production of animal products, covering also the forms of organic agriculture, the growing of genetically modified crops and the raising of genetically modified animals. This division includes growing of crops in open fields as well in greenhouses.\\n \\nGroup 01.5 (Mixed farming) breaks with the usual principles for identifying main activity. It accepts that many agricultural holdings have reasonably balanced crop and animal production, and that it would be arbitrary to classify them in one category or the other.   \n",
       "2                                                                                                                                                                                                                                                                                                                                                                                                                                                                                                                                                                This group includes the growing of non-perennial crops, i.e. plants that do not last for more than two growing seasons. Included is the growing of these plants for the purpose of seed production.   \n",
       "3  This class includes all forms of growing of cereals, leguminous crops and oil seeds in open fields. The growing of these crops is often combined within agricultural units.\\n\\nThis class includes:\\n- growing of cereals such as:\\n  . wheat\\n  . grain maize\\n  . sorghum\\n  . barley\\n  . rye\\n  . oats\\n  . millets\\n  . other cereals n.e.c.\\n- growing of leguminous crops such as:\\n  . beans\\n  . broad beans\\n  . chick peas\\n  . cow peas\\n  . lentils\\n  . lupines\\n  . peas\\n  . pigeon peas\\n  . other leguminous crops\\n- growing of oil seeds such as:\\n  . soya beans\\n  . groundnuts\\n  . castor bean\\n  . linseed\\n  . mustard seed\\n  . niger seed\\n  . rapeseed\\n  . safflower seed\\n  . sesame seed\\n  . sunflower seed\\n  . other oil seeds   \n",
       "4                                                                                                                                                                                                                                                                                                                                                                                                                                                                                                                                                                                                                                                   This class includes:\\n- growing of rice (including organic farming and the growing of genetically modified rice)   \n",
       "\n",
       "                                                                                                          This item also includes  \\\n",
       "0                                                                                                                             NaN   \n",
       "1  This division also includes service activities incidental to agriculture, as well as hunting, trapping and related activities.   \n",
       "2                                                                                                                             NaN   \n",
       "3                                                                                                                             NaN   \n",
       "4                                                                                                                             NaN   \n",
       "\n",
       "  Rulings  \\\n",
       "0     NaN   \n",
       "1     NaN   \n",
       "2     NaN   \n",
       "3     NaN   \n",
       "4     NaN   \n",
       "\n",
       "                                                                                                                                                                                                                                                                                                                                                                                                                                                                                                                                                                                                                                                                                                                 This item excludes  \\\n",
       "0                                                                                                                                                                                                                                                                                                                                                                                                                                                                                                                                                                                                                                                                                                                               NaN   \n",
       "1  Agricultural activities exclude any subsequent processing of the agricultural products (classified under divisions 10 and 11 (Manufacture of food products and beverages) and division 12 (Manufacture of tobacco products)), beyond that needed to prepare them for the primary markets. The preparation of products for the primary markets is included here.\\n\\nThe division excludes field construction (e.g. agricultural land terracing, drainage, preparing rice paddies etc.) classified in section F (Construction) and buyers and cooperative associations engaged in the marketing of farm products classified in section G. Also excluded is the landscape care and maintenance, which is classified in class 81.30.   \n",
       "2                                                                                                                                                                                                                                                                                                                                                                                                                                                                                                                                                                                                                                                                                                                               NaN   \n",
       "3                                                                                                                                                                                                                                                                                                                                                                                                                                                                                                                                                       This class excludes:\\n- growing of rice, see 01.12\\n- growing of sweet corn, see 01.13\\n- growing of maize for fodder, see 01.19\\n- growing of oleaginous fruits, see 01.26   \n",
       "4                                                                                                                                                                                                                                                                                                                                                                                                                                                                                                                                                                                                                                                                                                                               NaN   \n",
       "\n",
       "  Reference to ISIC Rev. 4  \n",
       "0                        A  \n",
       "1                       01  \n",
       "2                      011  \n",
       "3                     0111  \n",
       "4                     0112  "
      ]
     },
     "execution_count": 2,
     "metadata": {},
     "output_type": "execute_result"
    }
   ],
   "source": [
    "df.head(5)"
   ]
  },
  {
   "cell_type": "markdown",
   "metadata": {},
   "source": [
    "We can focus on just these columns:"
   ]
  },
  {
   "cell_type": "code",
   "execution_count": 3,
   "metadata": {
    "scrolled": false
   },
   "outputs": [
    {
     "data": {
      "text/html": [
       "<style type=\"text/css\">\n",
       "#T_a63f5_row0_col0, #T_a63f5_row0_col1, #T_a63f5_row0_col2, #T_a63f5_row0_col3, #T_a63f5_row0_col4, #T_a63f5_row0_col5, #T_a63f5_row1_col0, #T_a63f5_row1_col1, #T_a63f5_row1_col2, #T_a63f5_row1_col3, #T_a63f5_row1_col4, #T_a63f5_row1_col5, #T_a63f5_row2_col0, #T_a63f5_row2_col1, #T_a63f5_row2_col2, #T_a63f5_row2_col3, #T_a63f5_row2_col4, #T_a63f5_row2_col5, #T_a63f5_row3_col0, #T_a63f5_row3_col1, #T_a63f5_row3_col2, #T_a63f5_row3_col3, #T_a63f5_row3_col4, #T_a63f5_row3_col5, #T_a63f5_row4_col0, #T_a63f5_row4_col1, #T_a63f5_row4_col2, #T_a63f5_row4_col3, #T_a63f5_row4_col4, #T_a63f5_row4_col5, #T_a63f5_row5_col0, #T_a63f5_row5_col1, #T_a63f5_row5_col2, #T_a63f5_row5_col3, #T_a63f5_row5_col4, #T_a63f5_row5_col5, #T_a63f5_row6_col0, #T_a63f5_row6_col1, #T_a63f5_row6_col2, #T_a63f5_row6_col3, #T_a63f5_row6_col4, #T_a63f5_row6_col5 {\n",
       "  white-space: pre-wrap;\n",
       "}\n",
       "</style>\n",
       "<table id=\"T_a63f5_\">\n",
       "  <thead>\n",
       "    <tr>\n",
       "      <th class=\"blank level0\" >&nbsp;</th>\n",
       "      <th class=\"col_heading level0 col0\" >Order</th>\n",
       "      <th class=\"col_heading level0 col1\" >Level</th>\n",
       "      <th class=\"col_heading level0 col2\" >Code</th>\n",
       "      <th class=\"col_heading level0 col3\" >Parent</th>\n",
       "      <th class=\"col_heading level0 col4\" >Description</th>\n",
       "      <th class=\"col_heading level0 col5\" >This item excludes</th>\n",
       "    </tr>\n",
       "  </thead>\n",
       "  <tbody>\n",
       "    <tr>\n",
       "      <th id=\"T_a63f5_level0_row0\" class=\"row_heading level0 row0\" >1</th>\n",
       "      <td id=\"T_a63f5_row0_col0\" class=\"data row0 col0\" >398482</td>\n",
       "      <td id=\"T_a63f5_row0_col1\" class=\"data row0 col1\" >2</td>\n",
       "      <td id=\"T_a63f5_row0_col2\" class=\"data row0 col2\" >01</td>\n",
       "      <td id=\"T_a63f5_row0_col3\" class=\"data row0 col3\" >A</td>\n",
       "      <td id=\"T_a63f5_row0_col4\" class=\"data row0 col4\" >Crop and animal production, hunting and related service activities</td>\n",
       "      <td id=\"T_a63f5_row0_col5\" class=\"data row0 col5\" >Agricultural activities exclude any subsequent processing of the agricultural products (classified under divisions 10 and 11 (Manufacture of food products and beverages) and division 12 (Manufacture of tobacco products)), beyond that needed to prepare them for the primary markets. The preparation of products for the primary markets is included here.\n",
       "\n",
       "The division excludes field construction (e.g. agricultural land terracing, drainage, preparing rice paddies etc.) classified in section F (Construction) and buyers and cooperative associations engaged in the marketing of farm products classified in section G. Also excluded is the landscape care and maintenance, which is classified in class 81.30.</td>\n",
       "    </tr>\n",
       "    <tr>\n",
       "      <th id=\"T_a63f5_level0_row1\" class=\"row_heading level0 row1\" >7</th>\n",
       "      <td id=\"T_a63f5_row1_col0\" class=\"data row1 col0\" >398488</td>\n",
       "      <td id=\"T_a63f5_row1_col1\" class=\"data row1 col1\" >4</td>\n",
       "      <td id=\"T_a63f5_row1_col2\" class=\"data row1 col2\" >01.15</td>\n",
       "      <td id=\"T_a63f5_row1_col3\" class=\"data row1 col3\" >01.1</td>\n",
       "      <td id=\"T_a63f5_row1_col4\" class=\"data row1 col4\" >Growing of tobacco</td>\n",
       "      <td id=\"T_a63f5_row1_col5\" class=\"data row1 col5\" >This class excludes:\n",
       "- manufacture of tobacco products, see 12.00</td>\n",
       "    </tr>\n",
       "    <tr>\n",
       "      <th id=\"T_a63f5_level0_row2\" class=\"row_heading level0 row2\" >37</th>\n",
       "      <td id=\"T_a63f5_row2_col0\" class=\"data row2 col0\" >398518</td>\n",
       "      <td id=\"T_a63f5_row2_col1\" class=\"data row2 col1\" >4</td>\n",
       "      <td id=\"T_a63f5_row2_col2\" class=\"data row2 col2\" >01.64</td>\n",
       "      <td id=\"T_a63f5_row2_col3\" class=\"data row2 col3\" >01.6</td>\n",
       "      <td id=\"T_a63f5_row2_col4\" class=\"data row2 col4\" >Seed processing for propagation</td>\n",
       "      <td id=\"T_a63f5_row2_col5\" class=\"data row2 col5\" >This class excludes:\n",
       "- growing of seeds, see groups 01.1 and 01.2\n",
       "- processing of seeds to obtain oil, see 10.41\n",
       "- research to develop or modify new forms of seeds, see 72.11</td>\n",
       "    </tr>\n",
       "    <tr>\n",
       "      <th id=\"T_a63f5_level0_row3\" class=\"row_heading level0 row3\" >40</th>\n",
       "      <td id=\"T_a63f5_row3_col0\" class=\"data row3 col0\" >398521</td>\n",
       "      <td id=\"T_a63f5_row3_col1\" class=\"data row3 col1\" >2</td>\n",
       "      <td id=\"T_a63f5_row3_col2\" class=\"data row3 col2\" >02</td>\n",
       "      <td id=\"T_a63f5_row3_col3\" class=\"data row3 col3\" >A</td>\n",
       "      <td id=\"T_a63f5_row3_col4\" class=\"data row3 col4\" >Forestry and logging</td>\n",
       "      <td id=\"T_a63f5_row3_col5\" class=\"data row3 col5\" >Excluded is further processing of wood beginning with sawmilling and planing of wood, see division 16.</td>\n",
       "    </tr>\n",
       "    <tr>\n",
       "      <th id=\"T_a63f5_level0_row4\" class=\"row_heading level0 row4\" >49</th>\n",
       "      <td id=\"T_a63f5_row4_col0\" class=\"data row4 col0\" >398530</td>\n",
       "      <td id=\"T_a63f5_row4_col1\" class=\"data row4 col1\" >2</td>\n",
       "      <td id=\"T_a63f5_row4_col2\" class=\"data row4 col2\" >03</td>\n",
       "      <td id=\"T_a63f5_row4_col3\" class=\"data row4 col3\" >A</td>\n",
       "      <td id=\"T_a63f5_row4_col4\" class=\"data row4 col4\" >Fishing and aquaculture</td>\n",
       "      <td id=\"T_a63f5_row4_col5\" class=\"data row4 col5\" >This division does not include building and repairing of ships and boats (30.1, 33.15) and sport or recreational fishing activities (93.19). Processing of fish, crustaceans or molluscs is excluded, whether at land-based plants or on factory ships (10.20).</td>\n",
       "    </tr>\n",
       "    <tr>\n",
       "      <th id=\"T_a63f5_level0_row5\" class=\"row_heading level0 row5\" >86</th>\n",
       "      <td id=\"T_a63f5_row5_col0\" class=\"data row5 col0\" >398567</td>\n",
       "      <td id=\"T_a63f5_row5_col1\" class=\"data row5 col1\" >4</td>\n",
       "      <td id=\"T_a63f5_row5_col2\" class=\"data row5 col2\" >09.90</td>\n",
       "      <td id=\"T_a63f5_row5_col3\" class=\"data row5 col3\" >09.9</td>\n",
       "      <td id=\"T_a63f5_row5_col4\" class=\"data row5 col4\" >Support activities for other mining and quarrying</td>\n",
       "      <td id=\"T_a63f5_row5_col5\" class=\"data row5 col5\" >This class excludes:\n",
       "- operating mines or quarries on a contract or fee basis, see division 05, 07 or 08\n",
       "- specialised repair of mining machinery, see 33.12\n",
       "- geophysical surveying services, on a contract or fee basis, see 71.12</td>\n",
       "    </tr>\n",
       "    <tr>\n",
       "      <th id=\"T_a63f5_level0_row6\" class=\"row_heading level0 row6\" >127</th>\n",
       "      <td id=\"T_a63f5_row6_col0\" class=\"data row6 col0\" >398608</td>\n",
       "      <td id=\"T_a63f5_row6_col1\" class=\"data row6 col1\" >4</td>\n",
       "      <td id=\"T_a63f5_row6_col2\" class=\"data row6 col2\" >11.03</td>\n",
       "      <td id=\"T_a63f5_row6_col3\" class=\"data row6 col3\" >11.0</td>\n",
       "      <td id=\"T_a63f5_row6_col4\" class=\"data row6 col4\" >Manufacture of cider and other fruit wines</td>\n",
       "      <td id=\"T_a63f5_row6_col5\" class=\"data row6 col5\" >This class excludes:\n",
       "- merely bottling and labelling, see 46.34 (if performed as part of wholesale) and 82.92 (if performed on a fee or contract basis)</td>\n",
       "    </tr>\n",
       "  </tbody>\n",
       "</table>\n"
      ],
      "text/plain": [
       "<pandas.io.formats.style.Styler at 0x7f607570b810>"
      ]
     },
     "metadata": {},
     "output_type": "display_data"
    }
   ],
   "source": [
    "selection = [398482,398488,398530,398608,398482,398518,398521,398567]\n",
    "\n",
    "from IPython.display import display\n",
    "\n",
    "example_df = df[['Order', 'Level','Code','Parent','Description','This item excludes']]\n",
    "# Assuming the variable df contains the relevant DataFrame\n",
    "example_df = example_df[example_df['Order'].isin(selection)]\n",
    "display(example_df.style.set_properties(**{'white-space': 'pre-wrap',}))"
   ]
  },
  {
   "cell_type": "markdown",
   "metadata": {},
   "source": [
    "## 1. Extracting codes\n",
    "\n",
    "Let's say European Commission wants to review the catalog to simplify it. One way to do it, could be to look for codes that have lots of exclusions, the reasoning being that trying to explain somebody something by stating what it is _not_ often results in confusion."
   ]
  },
  {
   "cell_type": "markdown",
   "metadata": {},
   "source": [
    "## 1.1 is_nace\n",
    "\n",
    "Implement following function. NOTE: it was not explicitly required in the original exam but could help detecting words. "
   ]
  },
  {
   "cell_type": "raw",
   "id": "1801c9eb",
   "metadata": {
    "format": "text/html"
   },
   "source": [
    "<a  class=\"jupman-sol jupman-sol-toggler\" \n",
    " onclick=\"jupman.toggleSolution(this);\" \n",
    " data-jupman-show=\"Show solution\" data-jupman-hide=\"Hide\">Show solution</a><div class=\"jupman-sol jupman-sol-code\" style=\"display:none\">  "
   ]
  },
  {
   "cell_type": "code",
   "execution_count": 4,
   "metadata": {},
   "outputs": [],
   "source": [
    "\n",
    "def is_nace(word):\n",
    "    \"\"\"Given a word, RETURN True if the word is a NACE code, else otherwise\"\"\"\n",
    "    \n",
    "    # we could implement it also with regexes, here we use explicit methods:\n",
    "    if len(word) == 1:\n",
    "        return word.isalpha() and word.isupper()\n",
    "    elif len(word) == 2:\n",
    "        return word.isdigit()\n",
    "    elif len(word) == 4:\n",
    "        return word[:2].isdigit() and word[2] == '.' and word[3].isdigit()\n",
    "    elif len(word) == 5:\n",
    "        return word[:2].isdigit() and word[2] == '.' and word[3:].isdigit()\n",
    "    else:\n",
    "        return False\n",
    "    \n",
    "    \n",
    "assert is_nace('0') == False\n",
    "assert is_nace('01') == True\n",
    "assert is_nace('A') == True   # this is a Section\n",
    "assert is_nace('AA') == False\n",
    "assert is_nace('a') == False\n",
    "assert is_nace('01.2') == True\n",
    "assert is_nace('01.20') == True\n",
    "assert is_nace('03.25') == True\n",
    "assert is_nace('02.753') == False\n",
    "assert is_nace('300') == False\n",
    "assert is_nace('5012') == False"
   ]
  },
  {
   "cell_type": "raw",
   "id": "574c9fc7",
   "metadata": {
    "format": "text/html"
   },
   "source": [
    "</div>"
   ]
  },
  {
   "cell_type": "code",
   "execution_count": 4,
   "metadata": {},
   "outputs": [],
   "source": [
    "\n",
    "def is_nace(word):\n",
    "    \"\"\"Given a word, RETURN True if the word is a NACE code, else otherwise\"\"\"\n",
    "    raise Exception('TODO IMPLEMENT ME !')\n",
    "    \n",
    "assert is_nace('0') == False\n",
    "assert is_nace('01') == True\n",
    "assert is_nace('A') == True   # this is a Section\n",
    "assert is_nace('AA') == False\n",
    "assert is_nace('a') == False\n",
    "assert is_nace('01.2') == True\n",
    "assert is_nace('01.20') == True\n",
    "assert is_nace('03.25') == True\n",
    "assert is_nace('02.753') == False\n",
    "assert is_nace('300') == False\n",
    "assert is_nace('5012') == False"
   ]
  },
  {
   "cell_type": "markdown",
   "metadata": {},
   "source": [
    "## 1.2 extract_codes\n",
    "\n",
    "Implement following function which extracts codes from `This item excludes` column cells. For examples, see asserts."
   ]
  },
  {
   "cell_type": "raw",
   "id": "85499f2b",
   "metadata": {
    "format": "text/html"
   },
   "source": [
    "<a  class=\"jupman-sol jupman-sol-toggler\" \n",
    " onclick=\"jupman.toggleSolution(this);\" \n",
    " data-jupman-show=\"Show solution\" data-jupman-hide=\"Hide\">Show solution</a><div class=\"jupman-sol jupman-sol-code\" style=\"display:none\">  "
   ]
  },
  {
   "cell_type": "code",
   "execution_count": 5,
   "metadata": {},
   "outputs": [],
   "source": [
    "def extract_codes(text):\n",
    "    \"\"\"Extracts all the NACE codes from given text (a single string), \n",
    "       and RETURN a list of the codes\n",
    "              \n",
    "       - also extracts section letters\n",
    "       - list must have *no* duplicates\n",
    "    \"\"\"\n",
    "    \n",
    "    ret = []\n",
    "    \n",
    "    words = [word.strip(';,.:()\"\\'') for word in text.replace('-',' ').split()]\n",
    "    for i in range(len(words)):         \n",
    "        \n",
    "        if i < len(words) - 1 \\\n",
    "            and words[i].lower() == 'section' \\\n",
    "            and len(words[i+1]) == 1 \\\n",
    "            and words[i+1][0].isalpha():\n",
    "            \n",
    "            if words[i+1] not in ret:\n",
    "                ret.append(words[i+1])\n",
    "        else:            \n",
    "            if is_nace(words[i]) and words[i] not in ret:\n",
    "                ret.append(words[i])\n",
    "            \n",
    "    return ret\n",
    "    \n",
    "\n",
    "assert extract_codes('group 02.4') == ['02.4']\n",
    "assert extract_codes('class 02.40') == ['02.40']\n",
    "assert extract_codes('.') == []\n",
    "assert extract_codes('exceeding 300 litres') == []\n",
    "assert extract_codes('see 46.34') == ['46.34']\n",
    "assert extract_codes('divisions 10 and 11') == ['10','11']\n",
    "assert extract_codes('(10.20)') == ['10.20']\n",
    "assert extract_codes('(30.1, 33.15)') == ['30.1', '33.15']\n",
    "assert extract_codes('as outlined in groups 85.1-85.4, i.e.') == ['85.1','85.4']\n",
    "assert extract_codes('see 25.99 see 25.99') == ['25.99']  # no duplicates\n",
    "assert extract_codes('section A') == ['A']\n",
    "assert extract_codes('in section G. Also') == ['G']\n",
    "assert extract_codes('section F (Construction)') == ['F']\n",
    "assert extract_codes('section A, section A') == ['A']"
   ]
  },
  {
   "cell_type": "raw",
   "id": "2e55d9b9",
   "metadata": {
    "format": "text/html"
   },
   "source": [
    "</div>"
   ]
  },
  {
   "cell_type": "code",
   "execution_count": 5,
   "metadata": {},
   "outputs": [],
   "source": [
    "def extract_codes(text):\n",
    "    \"\"\"Extracts all the NACE codes from given text (a single string), \n",
    "       and RETURN a list of the codes\n",
    "              \n",
    "       - also extracts section letters\n",
    "       - list must have *no* duplicates\n",
    "    \"\"\"\n",
    "    raise Exception('TODO IMPLEMENT ME !')\n",
    "\n",
    "assert extract_codes('group 02.4') == ['02.4']\n",
    "assert extract_codes('class 02.40') == ['02.40']\n",
    "assert extract_codes('.') == []\n",
    "assert extract_codes('exceeding 300 litres') == []\n",
    "assert extract_codes('see 46.34') == ['46.34']\n",
    "assert extract_codes('divisions 10 and 11') == ['10','11']\n",
    "assert extract_codes('(10.20)') == ['10.20']\n",
    "assert extract_codes('(30.1, 33.15)') == ['30.1', '33.15']\n",
    "assert extract_codes('as outlined in groups 85.1-85.4, i.e.') == ['85.1','85.4']\n",
    "assert extract_codes('see 25.99 see 25.99') == ['25.99']  # no duplicates\n",
    "assert extract_codes('section A') == ['A']\n",
    "assert extract_codes('in section G. Also') == ['G']\n",
    "assert extract_codes('section F (Construction)') == ['F']\n",
    "assert extract_codes('section A, section A') == ['A']"
   ]
  },
  {
   "cell_type": "code",
   "execution_count": 6,
   "metadata": {},
   "outputs": [],
   "source": [
    "# MORE REALISTIC asserts: \n",
    "\n",
    "t01 = \"\"\"Agricultural activities exclude any subsequent processing of the \n",
    "agricultural products (classified under divisions 10 and 11 (Manufacture of food \n",
    "products and beverages) and division 12 (Manufacture of tobacco products)), beyond \n",
    "that needed to prepare them for the primary markets. The preparation of products for\n",
    "the primary markets is included here.\n",
    "\n",
    "The division excludes field construction (e.g. agricultural land terracing, \n",
    "drainage, preparing rice paddies etc.) classified in section F (Construction) and buyers \n",
    "and cooperative associations engaged in the marketing of farm products classified \n",
    "in section G. Also excluded is the landscape care and maintenance,\n",
    "which is classified in class 81.30.\n",
    "\"\"\"\n",
    "assert extract_codes(t01) == ['10','11','12','F','G','81.30']\n",
    "\n",
    "t01_15 = \"\"\"This class excludes:\n",
    "- manufacture of tobacco products, see 12.00\n",
    "\"\"\"\n",
    "assert extract_codes(t01_15) == ['12.00']\n",
    "\n",
    "t03 = \"\"\"This division does not include building and repairing of ships and \n",
    "boats (30.1, 33.15) and sport or recreational fishing activities (93.19).\n",
    "Processing of fish, crustaceans or molluscs is excluded, whether at land-based\n",
    "plants or on factory ships (10.20).\n",
    "\"\"\"\n",
    "\n",
    "assert extract_codes(t03) == ['30.1', '33.15','93.19','10.20']\n",
    "\n",
    "t11_03 = \"\"\"This class excludes:\n",
    "- merely bottling and labelling, see 46.34 (if performed as part of wholesale) \n",
    "and 82.92 (if performed on a fee or contract basis)\n",
    "\"\"\"\n",
    "assert extract_codes(t11_03) == ['46.34', '82.92']\n",
    "\n",
    "\n",
    "t01_64 = \"\"\"This class excludes:\n",
    "- growing of seeds, see groups 01.1 and 01.2\n",
    "- processing of seeds to obtain oil, see 10.41\n",
    "- research to develop or modify new forms of seeds, see 72.11\n",
    "\"\"\"\n",
    "assert extract_codes(t01_64) == ['01.1','01.2','10.41','72.11']\n",
    "\n",
    "t02 = \"\"\"Excluded is further processing of wood beginning with sawmilling and planing of wood, \n",
    "see division 16.\n",
    "\"\"\"\n",
    "assert extract_codes(t02) == ['16']\n",
    "\n",
    "t09_90 = \"\"\"This class excludes:\n",
    "- operating mines or quarries on a contract or fee basis, see division 05, 07 or 08\n",
    "- specialised repair of mining machinery, see 33.12\n",
    "- geophysical surveying services, on a contract or fee basis, see 71.12\n",
    "\"\"\"\n",
    "assert extract_codes(t09_90) == ['05','07','08','33.12','71.12']"
   ]
  },
  {
   "cell_type": "markdown",
   "metadata": {},
   "source": [
    "## 2. build_db\n",
    "\n",
    "Given a filepath pointing to a NACE CSV, reads the CSV and RETURN a dictionary mapping codes to dictionaries which hold the code descriptionn and a field with the list of excluded codes, for example:\n",
    "\n",
    "```python\n",
    "{'01': {'description': 'Crop and animal production, hunting and related service activities',\n",
    "  'exclusions': ['10', '11', '12', 'F', 'G', '81.30']},\n",
    " '01.1': {'description': 'Growing of non-perennial crops', 'exclusions': []},\n",
    " '01.11': {'description': 'Growing of cereals (except rice), leguminous crops and oil seeds',\n",
    "  'exclusions': ['01.12', '01.13', '01.19', '01.26']},\n",
    " '01.12': {'description': 'Growing of rice', 'exclusions': []},\n",
    " '01.13': {'description': 'Growing of vegetables and melons, roots and tubers',\n",
    "  'exclusions': ['01.28', '01.30']},\n",
    " ...\n",
    " ...\n",
    "}\n",
    "```\n",
    "\n",
    "The complete desired output is in file [expected_db.py](expected_db.py)"
   ]
  },
  {
   "cell_type": "raw",
   "id": "ac338d75",
   "metadata": {
    "format": "text/html"
   },
   "source": [
    "<a  class=\"jupman-sol jupman-sol-toggler\" \n",
    " onclick=\"jupman.toggleSolution(this);\" \n",
    " data-jupman-show=\"Show solution\" data-jupman-hide=\"Hide\">Show solution</a><div class=\"jupman-sol jupman-sol-code\" style=\"display:none\">  "
   ]
  },
  {
   "cell_type": "code",
   "execution_count": 7,
   "metadata": {
    "scrolled": false
   },
   "outputs": [],
   "source": [
    "def build_db(filepath):\n",
    "    \n",
    "    ret = {}\n",
    "    import csv\n",
    "    with open(filepath, encoding='utf-8', newline='') as f:    \n",
    "        my_reader = csv.DictReader(f, delimiter=',')\n",
    "        for d in my_reader:\n",
    "            diz = {'description' : d['Description'],\n",
    "                   'exclusions' : extract_codes(d['This item excludes'])}\n",
    "            ret[d['Code']] = diz\n",
    "    return ret\n",
    "    \n",
    "    \n",
    "activities_db = build_db('NACE_REV2_20200628_213139.csv')  \n",
    "#activities_db"
   ]
  },
  {
   "cell_type": "raw",
   "id": "72876df8",
   "metadata": {
    "format": "text/html"
   },
   "source": [
    "</div>"
   ]
  },
  {
   "cell_type": "code",
   "execution_count": 7,
   "metadata": {
    "scrolled": false
   },
   "outputs": [],
   "source": [
    "def build_db(filepath):\n",
    "    raise Exception('TODO IMPLEMENT ME !')\n",
    "    \n",
    "activities_db = build_db('NACE_REV2_20200628_213139.csv')  \n",
    "#activities_db"
   ]
  },
  {
   "cell_type": "markdown",
   "metadata": {},
   "source": [
    "## 3. plot\n",
    "\n",
    "Implement function `plot` which given a `db` as created at previous point and a code `level` among 1,2,3,4, plots the number of exclusions for all codes of that **exact** level (so do not include sublevels in the sum), sorted in reversed order. \n",
    "\n",
    "- remember to plot title, notice it should shows the type of level (could be Section, Division, Group, or Class)\n",
    "- try to display labels nicely as in the example output\n",
    "\n",
    "(if you look at the graph, apparently European Union has a hard time defining what an artist is :-)\n",
    "\n",
    "<div class=\"alert alert-warning\">\n",
    "\n",
    "**IMPORTANT: IF you couldn't implement the function** `build_db` **,  you will still find the complete desired output** in  [expected_db.py](expected_db.py), to import it write: `from expected_db import activities_db`\n",
    "</div>\n",
    "\n",
    "![expected-division-exclusions.png](expected-division-exclusions.png)"
   ]
  },
  {
   "cell_type": "raw",
   "id": "bfc8727d",
   "metadata": {
    "format": "text/html"
   },
   "source": [
    "<a  class=\"jupman-sol jupman-sol-toggler\" \n",
    " onclick=\"jupman.toggleSolution(this);\" \n",
    " data-jupman-show=\"Show solution\" data-jupman-hide=\"Hide\">Show solution</a><div class=\"jupman-sol jupman-sol-code\" style=\"display:none\">  "
   ]
  },
  {
   "cell_type": "code",
   "execution_count": 8,
   "metadata": {},
   "outputs": [
    {
     "data": {
      "image/png": "[encoded data removed]",
      "text/plain": [
       "<Figure size 936x432 with 1 Axes>"
      ]
     },
     "metadata": {
      "needs_background": "light"
     },
     "output_type": "display_data"
    }
   ],
   "source": [
    "\n",
    "%matplotlib inline\n",
    "def plot(db, level):    \n",
    "    \n",
    "    import matplotlib.pyplot as plt\n",
    "    \n",
    "    \n",
    "    coords = [(code, len(db[code]['exclusions'])) for code in db if len(code.replace('.','')) == level]\n",
    "    coords.sort(key=lambda c: c[1], reverse=True)\n",
    "    \n",
    "    coords = coords[:10]\n",
    "            \n",
    "    xs = [c[0] for c in coords]\n",
    "    ys = [c[1] for c in coords]\n",
    "\n",
    "    fig = plt.figure(figsize=(13,6))  # width: 10 inches, height 3 inches\n",
    "\n",
    "\n",
    "    plt.bar(xs, ys, 0.5, align='center')\n",
    "    \n",
    "    def fix_label(label):\n",
    "        # coding horror, sorry\n",
    "        return label.replace(' ','\\n').replace('\\nand\\n',' and\\n').replace('\\nof\\n',' of\\n')\n",
    "    \n",
    "    plt.xticks(xs, ['NACE ' + c[0] + '\\n' + fix_label(db[c[0]]['description']) for c in coords])   \n",
    "    \n",
    "    level_names = {\n",
    "        1:'Section',\n",
    "        2:'division',\n",
    "        3:'Group',\n",
    "        4:'Class'\n",
    "    }\n",
    "    plt.title(\"# of exclusions by %ss (level %s) - SOLUTION\" % (level_names[level], level))\n",
    "    #plt.xlabel('level_names[level]')\n",
    "    #plt.ylabel('y')\n",
    "    fig.tight_layout()\n",
    "    \n",
    "    plt.show()\n",
    "    \n",
    "    \n",
    "\n",
    "#Uncomment *only* if you had problems with build_db\n",
    "#from expected_db import activities_db  \n",
    "\n",
    "#1 Section \n",
    "#2 Division\n",
    "#3 Group\n",
    "#4 Class\n",
    "plot(activities_db, 2)"
   ]
  },
  {
   "cell_type": "raw",
   "id": "f533e343",
   "metadata": {
    "format": "text/html"
   },
   "source": [
    "</div>"
   ]
  },
  {
   "cell_type": "code",
   "execution_count": 8,
   "metadata": {},
   "outputs": [],
   "source": [
    "\n",
    "%matplotlib inline\n",
    "def plot(db, level):    \n",
    "    \n",
    "    import matplotlib.pyplot as plt\n",
    "    raise Exception('TODO IMPLEMENT ME !')\n",
    "\n",
    "#Uncomment *only* if you had problems with build_db\n",
    "#from expected_db import activities_db  \n",
    "\n",
    "#1 Section \n",
    "#2 Division\n",
    "#3 Group\n",
    "#4 Class\n",
    "plot(activities_db, 2)"
   ]
  },
  {
   "cell_type": "code",
   "execution_count": null,
   "metadata": {},
   "outputs": [],
   "source": []
  }
 ],
 "metadata": {
  "celltoolbar": "Edit Metadata",
  "kernelspec": {
   "display_name": "Python 3 (ipykernel)",
   "language": "python",
   "name": "python3"
  },
  "language_info": {
   "codemirror_mode": {
    "name": "ipython",
    "version": 3
   },
   "file_extension": ".py",
   "mimetype": "text/x-python",
   "name": "python",
   "nbconvert_exporter": "python",
   "pygments_lexer": "ipython3",
   "version": "3.7.10"
  },
  "toc": {
   "base_numbering": 1,
   "nav_menu": {},
   "number_sections": false,
   "sideBar": true,
   "skip_h1_title": false,
   "title_cell": "Table of Contents",
   "title_sidebar": "Contents",
   "toc_cell": false,
   "toc_position": {},
   "toc_section_display": true,
   "toc_window_display": true
  }
 },
 "nbformat": 4,
 "nbformat_minor": 1
}
