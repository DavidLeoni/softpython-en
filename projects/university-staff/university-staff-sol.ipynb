{
 "cells": [
  {
   "cell_type": "markdown",
   "metadata": {},
   "source": [
    "# University staff\n",
    "\n",
    "## [Download worked project](../../_static/generated/university-staff-prj.zip) \n",
    "\n",
    "[Browse files online](https://github.com/DavidLeoni/softpython-en/tree/master/projects/university-staff)\n",
    "\n",
    "You will work on the dataset of _University of Trento staff_, modified so not to contain names or surnames.\n",
    "\n",
    "Data provider: [University of Trento](https://dati.trentino.it/dataset/personale-accademico-e-tecnico-amministrativo-dell-universita-di-trento)\n"
   ]
  },
  {
   "cell_type": "markdown",
   "metadata": {},
   "source": [
    "## What to do\n",
    "\n",
    "1. Unzip exercises zip in a folder, you should obtain something like this:\n",
    "\n",
    "```\n",
    "university-staff-prj\n",
    "    university-staff.ipynb\n",
    "    university-staff-sol.ipynb\n",
    "    2019-06-30-persone-en-stripped.json\n",
    "    jupman.py\n",
    "```\n",
    "\n",
    "<div class=\"alert alert-warning\">\n",
    "\n",
    "**WARNING: to correctly visualize the notebook, it MUST be in an unzipped folder !**\n",
    "</div>"
   ]
  },
  {
   "cell_type": "markdown",
   "metadata": {},
   "source": [
    "2. open Jupyter Notebook from that folder. Two things should open, first a console and then a browser. The browser should show a file list: navigate the list and open the notebook `university-staff.ipynb`\n",
    "\n",
    "3. Go on reading the notebook, and write in the appropriate cells when asked"
   ]
  },
  {
   "cell_type": "markdown",
   "metadata": {},
   "source": [
    "Shortcut keys:\n",
    "\n",
    "- to execute Python code inside a Jupyter cell, press `Control + Enter`\n",
    "\n",
    "- to execute Python code inside a Jupyter cell AND select next cell, press `Shift + Enter`\n",
    "\n",
    "- to execute Python code inside a Jupyter cell AND a create a new cell aftwerwards, press `Alt + Enter`\n",
    "\n",
    "- If the notebooks look stuck, try to select `Kernel -> Restart`"
   ]
  },
  {
   "cell_type": "markdown",
   "metadata": {},
   "source": [
    "## load_data\n",
    "\n",
    "A function `load_data` is given to load the dataset [2019-06-30-persone-en-stripped.json](2019-06-30-persone-en-stripped.json) (you don’t need to implement it):"
   ]
  },
  {
   "cell_type": "code",
   "execution_count": 1,
   "metadata": {},
   "outputs": [],
   "source": [
    "import json\n",
    "\n",
    "def load_data():\n",
    "    with open('2019-06-30-persone-en-stripped.json', encoding='utf-8') as json_file:\n",
    "        data = json.load(json_file)\n",
    "        return data\n",
    "\n",
    "unitn = load_data()"
   ]
  },
  {
   "cell_type": "markdown",
   "metadata": {},
   "source": [
    "<div class=\"alert alert-warning\">\n",
    "\n",
    "**IMPORTANT**: look at the dataset !\n",
    "\n",
    "Here we show only first 2 rows, but to get a clear picture of the dataset you should explore it further.\n",
    "\n",
    "</div>\n"
   ]
  },
  {
   "cell_type": "markdown",
   "metadata": {},
   "source": [
    "The dataset contains a list of employees, each of whom may have one or more positions, in one or more university units. Each unit is identified by a code like ``STO0000435``:"
   ]
  },
  {
   "cell_type": "code",
   "execution_count": 2,
   "metadata": {},
   "outputs": [
    {
     "data": {
      "text/plain": [
       "[{'givenName': 'NAME-1',\n",
       "  'phone': ['0461 283752'],\n",
       "  'identifier': 'eb9139509dc40d199b6864399b7e805c',\n",
       "  'familyName': 'SURNAME-1',\n",
       "  'positions': [{'unitIdentifier': 'STO0008929',\n",
       "    'role': 'Staff',\n",
       "    'unitName': 'Student Support Service: Economics, Law and International Studies'}]},\n",
       " {'givenName': 'NAME-2',\n",
       "  'phone': ['0461 281521'],\n",
       "  'identifier': 'b6292ffe77167b31e856d2984544e45b',\n",
       "  'familyName': 'SURNAME-2',\n",
       "  'positions': [{'unitIdentifier': 'STO0000435',\n",
       "    'role': 'Associate professor',\n",
       "    'unitName': 'Doctoral programme – Physics'},\n",
       "   {'unitIdentifier': 'STO0000435',\n",
       "    'role': 'Deputy coordinator',\n",
       "    'unitName': 'Doctoral programme – Physics'},\n",
       "   {'unitIdentifier': 'STO0008627',\n",
       "    'role': 'Associate professor',\n",
       "    'unitName': 'Department of Physics'}]}]"
      ]
     },
     "execution_count": 2,
     "metadata": {},
     "output_type": "execute_result"
    }
   ],
   "source": [
    "unitn[:2]"
   ]
  },
  {
   "cell_type": "markdown",
   "metadata": {},
   "source": [
    "Department names can be very long, so when you need to display them you can use the function this `abbreviate`. \n",
    "\n",
    "**NOTE**: function is already fully implemented, **do not** modify it."
   ]
  },
  {
   "cell_type": "code",
   "execution_count": 3,
   "metadata": {},
   "outputs": [],
   "source": [
    "def abbreviate(unitName):\n",
    "    \n",
    "    abbreviations = {\n",
    "         \n",
    "        \"Department of Psychology and Cognitive Science\": \"COGSCI\",    \n",
    "        \"Center for Mind/Brain Sciences - CIMeC\":\"CIMeC\",\n",
    "        \"Department of Civil, Environmental and Mechanical Engineering\":\"DICAM\",    \n",
    "        \"Centre Agriculture Food Environment - C3A\":\"C3A\",\n",
    "        \"School of International Studies - SIS\":\"SIS\",\n",
    "        \"Department of Sociology and social research\": \"Sociology\",\n",
    "        \"Faculty of Law\": \"Law\",\n",
    "        \"Department of Economics and Management\": \"Economics\",\n",
    "        \"Department of Information Engineering and Computer Science\":\"DISI\",\n",
    "        \"Department of Cellular, Computational and Integrative Biology - CIBIO\":\"CIBIO\",\n",
    "        \"Department of Industrial Engineering\":\"DII\"\n",
    "    }\n",
    "    if unitName in abbreviations:\n",
    "        return abbreviations[unitName]\n",
    "    else:\n",
    "        return unitName.replace(\"Department of \", \"\")\n"
   ]
  },
  {
   "cell_type": "markdown",
   "metadata": {},
   "source": [
    "**Example:**"
   ]
  },
  {
   "cell_type": "code",
   "execution_count": 4,
   "metadata": {},
   "outputs": [
    {
     "data": {
      "text/plain": [
       "'DISI'"
      ]
     },
     "execution_count": 4,
     "metadata": {},
     "output_type": "execute_result"
    }
   ],
   "source": [
    "abbreviate(\"Department of Information Engineering and Computer Science\")"
   ]
  },
  {
   "cell_type": "markdown",
   "metadata": {},
   "source": [
    "## 1. calc_uid_to_abbr\n",
    "\n",
    "✪ It will be useful having a map from department ids to their abbreviations, if they are actually present, otherwise to their original name. To implement this, you can use the previously defined function `abbreviate`.\n",
    "\n",
    "```python\n",
    "{\n",
    " .\n",
    " .\n",
    " 'STO0008629': 'DISI',\n",
    " 'STO0008630': 'Sociology',\n",
    " 'STO0008631': 'COGSCI',\n",
    " .\n",
    " .\n",
    " 'STO0012897': 'Institutional Relations and Strategic Documents',\n",
    " .\n",
    " .\n",
    "}\n",
    "```\n",
    "\n"
   ]
  },
  {
   "cell_type": "code",
   "execution_count": 5,
   "metadata": {},
   "outputs": [
    {
     "name": "stdout",
     "output_type": "stream",
     "text": [
      "DISI\n",
      "Institutional Relations and Strategic Documents\n"
     ]
    }
   ],
   "source": [
    "def calc_uid_to_abbr(db):\n",
    "    #jupman-raise\n",
    "    ret = {}\n",
    "    for person in db:\n",
    "        for position in person['positions']:\n",
    "            uid = position['unitIdentifier']        \n",
    "            ret[uid] = abbreviate(position['unitName'])\n",
    "    return ret\n",
    "    #/jupman-raise\n",
    "\n",
    "#calc_uid_to_abbr(unitn)\n",
    "print(calc_uid_to_abbr(unitn)['STO0008629'])\n",
    "print(calc_uid_to_abbr(unitn)['STO0012897'])"
   ]
  },
  {
   "cell_type": "markdown",
   "metadata": {},
   "source": [
    "## 2.1 calc_prof_roles\n",
    "\n",
    "✪✪ For each department, we want to see how many professor roles are covered, sorting them from greatest to lowest. In returned list we will only put the 10 department with most roles.\n",
    "\n",
    "* **NOTE 1**: we are interested in _roles_ covered. Don't care if actual people might be less (one person can cover more professor roles within the same unit)\n",
    "* **NOTE 2**: there are several professor roles. Please avoid listing all roles in the code (\"Senior Professor', \"Visiting Professor\", ....), and prefer using some smarter way to match them. \n"
   ]
  },
  {
   "cell_type": "code",
   "execution_count": 6,
   "metadata": {},
   "outputs": [],
   "source": [
    "def calc_prof_roles(db):\n",
    "    #jupman-raise\n",
    "    hist = {}\n",
    "    uid_to_abbr = calc_uid_to_abbr(db)\n",
    "    \n",
    "    for person in db:\n",
    "        for position in person['positions']:\n",
    "            \n",
    "            role = position['role']\n",
    "            uid = position['unitIdentifier']\n",
    "            if 'professor'.lower() in role.lower():                            \n",
    "                if uid in hist:\n",
    "                    hist[uid] += 1\n",
    "                else:\n",
    "                    hist[uid] = 1\n",
    "    \n",
    "    ret = [(uid_to_abbr[x[0]],x[1]) for x in hist.items()]\n",
    "    ret.sort(key=lambda c: c[1], reverse=True)    \n",
    "    return ret[:10]\n",
    "    #/jupman-raise\n",
    "    \n",
    "#calc_prof_roles(unitn)"
   ]
  },
  {
   "cell_type": "code",
   "execution_count": 7,
   "metadata": {},
   "outputs": [
    {
     "data": {
      "text/plain": [
       "[('Humanities', 92),\n",
       " ('DICAM', 85),\n",
       " ('Law', 84),\n",
       " ('Economics', 83),\n",
       " ('Sociology', 66),\n",
       " ('COGSCI', 61),\n",
       " ('Physics', 60),\n",
       " ('DISI', 55),\n",
       " ('DII', 49),\n",
       " ('Mathematics', 47)]"
      ]
     },
     "execution_count": 7,
     "metadata": {},
     "output_type": "execute_result"
    }
   ],
   "source": [
    "# EXPECTED RESULT\n",
    "calc_prof_roles(unitn)"
   ]
  },
  {
   "cell_type": "markdown",
   "metadata": {},
   "source": [
    "## 2.2 plot_profs\n",
    "\n",
    "✪ Write a funciton to plot a bar chart of data calculated above"
   ]
  },
  {
   "cell_type": "code",
   "execution_count": 8,
   "metadata": {},
   "outputs": [
    {
     "data": {
      "image/png": "[encoded data removed]",
      "text/plain": [
       "<Figure size 1440x216 with 1 Axes>"
      ]
     },
     "metadata": {
      "needs_background": "light"
     },
     "output_type": "display_data"
    }
   ],
   "source": [
    "#jupman-purge-output\n",
    "%matplotlib inline\n",
    "import matplotlib.pyplot as plt\n",
    "\n",
    "\n",
    "def plot_profs(db):\n",
    "    #jupman-raise\n",
    "        \n",
    "    prof_roles = calc_prof_roles(db)\n",
    "        \n",
    "    xs = list(range(len(prof_roles)))\n",
    "    xticks = [p[0] for p in prof_roles]\n",
    "    ys = [p[1] for p in prof_roles]\n",
    "    \n",
    "    fig = plt.figure(figsize=(20,3))\n",
    "\n",
    "    plt.bar(xs, ys, 0.5, align='center')\n",
    "\n",
    "    plt.title(\"Professor roles per department SOLUTION\")\n",
    "    plt.xticks(xs, xticks)\n",
    "\n",
    "    plt.xlabel('departments')\n",
    "    plt.ylabel('professor roles')\n",
    "\n",
    "    #jupman-purge\n",
    "    plt.savefig('expected-profs.png')\n",
    "    #/jupman-purge\n",
    "    \n",
    "    plt.show()    \n",
    "    #/jupman-raise\n",
    "\n",
    "plot_profs(unitn)"
   ]
  },
  {
   "cell_type": "markdown",
   "metadata": {},
   "source": [
    "## 3.1 calc_roles\n",
    "\n",
    "✪✪ We want to calculate how many roles are covered for each department.\n",
    "\n",
    "You will group roles by these macro groups (some already exist, some are new):\n",
    "\n",
    "- Professor : \"Senior Professor', \"Visiting Professor\", ...\n",
    "- Research : \"Senior researcher\", \"Research collaborator\", ...\n",
    "- Teaching : \"Teaching assistant\", \"Teaching fellow\", ...\n",
    "- Guest : \"Guest\", ...\n",
    "\n",
    "and discard all the others (there are many, like \"Rector\", \"Head\", etc ..)\n",
    "\n",
    "**NOTE**: Please avoid listing all roles in the code (\"Senior researcher\", \"Research collaborator\", ...), and prefer using some smarter way to match them. \n"
   ]
  },
  {
   "cell_type": "code",
   "execution_count": 9,
   "metadata": {
    "scrolled": true
   },
   "outputs": [],
   "source": [
    "\n",
    "def calc_roles(db):\n",
    "    #jupman-raise\n",
    "    ret = {}\n",
    "    for person in db:\n",
    "        for position in person['positions']:\n",
    "            uid = position['unitIdentifier']\n",
    "            role = position['role']\n",
    "            grouped_role = None\n",
    "            if \"professor\" in role.lower():\n",
    "                grouped_role = 'Professor'\n",
    "            elif \"research\" in role.lower():\n",
    "                grouped_role = 'Research'\n",
    "            elif \"teaching\" in role.lower():\n",
    "                grouped_role = 'Teaching'\n",
    "            elif \"guest\" in role.lower():\n",
    "                grouped_role = 'Guest'\n",
    "\n",
    "            if grouped_role:\n",
    "                if uid in ret:\n",
    "                    if grouped_role in ret[uid]:\n",
    "                        ret[uid][grouped_role] += 1\n",
    "                    else:\n",
    "                        ret[uid][grouped_role] = 1\n",
    "                else:\n",
    "                    diz = {}\n",
    "                    diz[grouped_role] = 1                    \n",
    "                    ret[uid] = diz\n",
    "        \n",
    "    return ret\n",
    "    #/jupman-raise\n",
    "\n",
    "#print(calc_roles(unitn)['STO0000001'])\n",
    "#print(calc_roles(unitn)['STO0000006'])\n",
    "#print(calc_roles(unitn)['STO0000012'])\n",
    "#print(calc_roles(unitn)['STO0008629'])"
   ]
  },
  {
   "cell_type": "markdown",
   "metadata": {},
   "source": [
    "EXPECTED RESULT - Showing just first ones ...\n",
    "\n",
    "```python\n",
    ">>> calc_roles(unitn)\n",
    "\n",
    "{\n",
    " 'STO0000001': {'Teaching': 9, 'Research': 3, 'Professor': 12},\n",
    " 'STO0000006': {'Professor': 1},\n",
    " 'STO0000012': {'Guest': 3},\n",
    " 'STO0008629': {'Teaching': 94, 'Research': 71, 'Professor': 55, 'Guest': 38}\n",
    " .\n",
    " .\n",
    " .\n",
    "}\n",
    "```"
   ]
  },
  {
   "cell_type": "markdown",
   "metadata": {},
   "source": [
    "## 3.2 plot_roles\n",
    "\n",
    "✪✪ Implement a function `plot_roles` that given, the abbreviations (or long names) of some departments, plots pie charts of their grouped role distribution, all in one row.\n",
    "\n",
    "* **NOTE 1**: different plots MUST show equal groups with equal colors\n",
    "* **NOTE 2**: always show all the 4 macro groups defined before, even if they have zero frequency\n",
    "\n",
    "\n",
    "* For on example on how to plot the pie charts, [see this](https://sciprog.davidleoni.it/visualization/visualization-sol.html#Pie-chart)\n",
    "* For on example on plotting side by side, [see this](https://sciprog.davidleoni.it/visualization/visualization-sol.html#Showing-plots-side-by-side)\n",
    "\n",
    "![expected-roles.png](expected-roles.png)"
   ]
  },
  {
   "cell_type": "code",
   "execution_count": 10,
   "metadata": {},
   "outputs": [
    {
     "data": {
      "image/png": "[encoded data removed]",
      "text/plain": [
       "<Figure size 1080x288 with 3 Axes>"
      ]
     },
     "metadata": {},
     "output_type": "display_data"
    }
   ],
   "source": [
    "#jupman-purge-output\n",
    "%matplotlib inline\n",
    "import matplotlib.pyplot as plt\n",
    "\n",
    "def plot_roles(db, abbrs):\n",
    "    #jupman-raise    \n",
    "    fig = plt.figure(figsize=(15,4))\n",
    "    uid_to_abbr = calc_uid_to_abbr(db)\n",
    "    \n",
    "    for i in range(len(abbrs)):\n",
    "            \n",
    "            abbr = abbrs[i]\n",
    "            roles = calc_roles(db)\n",
    "            \n",
    "            uid = None\n",
    "\n",
    "            for key in uid_to_abbr:\n",
    "                if uid_to_abbr[key] == abbr:\n",
    "                    uid = key\n",
    "\n",
    "            labels = ['Professor', 'Guest', 'Teaching', 'Research']\n",
    "            fracs = []\n",
    "            for role in labels:\n",
    "                if role in roles[uid]:\n",
    "                    fracs.append(roles[uid][role])\n",
    "                else:\n",
    "                    fracs.append(0)\n",
    "\n",
    "            plt.subplot(1,            # rows\n",
    "                        len(abbrs),   # columns\n",
    "                        i+1)          # plotting in first cell                \n",
    "            plt.pie(fracs, labels=labels, autopct='%1.1f%%', shadow=True)\n",
    "            plt.title(abbr )\n",
    "            #jupman-purge\n",
    "            plt.savefig('expected-roles.png')\n",
    "            #/jupman-purge\n",
    "    #/jupman-raise\n",
    "    \n",
    "    \n",
    "plot_roles(unitn, ['DISI','Sociology', 'COGSCI'])"
   ]
  },
  {
   "cell_type": "markdown",
   "metadata": {},
   "source": [
    "## 4.1 calc_shared\n",
    "\n",
    "✪✪✪ We want to calculate the 10 _department pairs_ that have the greatest number of people working in _both_ departments (regardless of role), sorted in decreasing order.\n",
    "\n",
    "For example,  'CIMeC' and 'COGSCI' have 23 people working in both departments, meaning each of these 23 people has at least a position at CIMeC and at least a position at COGSCI.\n",
    "\n",
    "**NOTE**: in this case we are looking at number of actual people,  _not_ number of roles covered\n",
    "\n",
    "* we do not want to consider Doctoral programmes\n",
    "* we do not want to consider 'University of Trento' department (STO0000001)\n",
    "* if  your calculations display with swapped names  (  ('COGSCI', 'CIMeC', 23) instead of ('CIMeC', 'COGSCI', 23) ) it is not important, as long as they display just once per pair.\n",
    "\n",
    "\n",
    "To implement this, we provide a sketch:\n",
    "\n",
    "* build a dict which assigns unit codes to a `set` of _identifiers_ of people that work for that unit\n",
    "* to add elements to a set, use `.add` method\n",
    "* to find common employees between two units, use set `.intersection` method (NOTE: it generates a _new_ set)\n",
    "* to check for all possibile unit couples, you will need a double `for` on a list of departments. To avoid double checking pairs ( so not have both ('CIMeC', 'COGSCI', 23) and ('COGSCI', 'CIMeC', 23) in output), you can think like you are visiting the lower of a matrix (for the sake of the example here we put only 4 departments with random numbers). \n",
    "\n",
    "```\n",
    "           0      1      2      3\n",
    "         DISI, COGSCI, CIMeC, DICAM\n",
    "0 DISI    --     --     --    --\n",
    "1 COGSCI  313    --     --    -- \n",
    "2 CIMeC   231    23     --    --\n",
    "3 DICAM   12     13     123   --\n",
    "```\n"
   ]
  },
  {
   "cell_type": "code",
   "execution_count": 11,
   "metadata": {},
   "outputs": [],
   "source": [
    "\n",
    "def calc_shared(db):\n",
    "    #jupman-raise\n",
    "    ret = {}\n",
    "    uid_to_people = {}\n",
    "            \n",
    "    uid_to_abbr = calc_uid_to_abbr(db)\n",
    "\n",
    "    for person in db:\n",
    "\n",
    "        for position in person['positions']:\n",
    "            uid = position['unitIdentifier']        \n",
    "            if not uid in uid_to_people:\n",
    "                uid_to_people[uid] = set()            \n",
    "            uid_to_people[uid].add(person['identifier'])\n",
    "\n",
    "    uids = list(uid_to_people)\n",
    "\n",
    "    ret = []\n",
    "    for x in range(len(uids)):\n",
    "        uidx = uids[x]\n",
    "        for y in range(x):\n",
    "            uidy = uids[y]\n",
    "            num = len(uid_to_people[uidx].intersection(uid_to_people[uidy]))\n",
    "            if (num > 0) \\\n",
    "              and (\"Doctoral programme\" not in uid_to_abbr[uidx]) \\\n",
    "              and (\"Doctoral programme\" not in uid_to_abbr[uidy]) \\\n",
    "              and (uidx != 'STO0000001') \\\n",
    "              and (uidy != 'STO0000001'):\n",
    "                ret.append( (uid_to_abbr[uidx], uid_to_abbr[uidy],num) )\n",
    "\n",
    "    ret.sort(key=lambda c: c[2], reverse=True)\n",
    "    ret = ret[:10]\n",
    "    return ret\n",
    "    #/jupman-raise\n",
    "    \n",
    "#calc_shared(unitn)\n"
   ]
  },
  {
   "cell_type": "code",
   "execution_count": 12,
   "metadata": {},
   "outputs": [
    {
     "data": {
      "text/plain": [
       "[('COGSCI', 'CIMeC', 23),\n",
       " ('DICAM', 'C3A', 14),\n",
       " ('DISI', 'Economics', 7),\n",
       " ('SIS', 'Sociology', 7),\n",
       " ('SIS', 'Law', 6),\n",
       " ('Economics', 'Sociology', 5),\n",
       " ('SIS', 'Humanities', 5),\n",
       " ('Economics', 'Law', 4),\n",
       " ('DII', 'DISI', 4),\n",
       " ('CIBIO', 'C3A', 4)]"
      ]
     },
     "execution_count": 12,
     "metadata": {},
     "output_type": "execute_result"
    }
   ],
   "source": [
    "# EXPECTED RESULT\n",
    "calc_shared(unitn)"
   ]
  },
  {
   "cell_type": "markdown",
   "metadata": {},
   "source": [
    "## 4.2 plot_shared\n",
    "\n",
    "✪ Plot the above in a bar chart, where on the x axis there are the department pairs and on the y the number of people in common.\n",
    "\n",
    "![expected-unitn-shared.png](expected-shared.png)"
   ]
  },
  {
   "cell_type": "code",
   "execution_count": 13,
   "metadata": {},
   "outputs": [
    {
     "data": {
      "image/png": "[encoded data removed]",
      "text/plain": [
       "<Figure size 1440x216 with 1 Axes>"
      ]
     },
     "metadata": {
      "needs_background": "light"
     },
     "output_type": "display_data"
    }
   ],
   "source": [
    "import matplotlib.pyplot as plt\n",
    "\n",
    "%matplotlib inline\n",
    "\n",
    "def plot_shared(db):\n",
    "    #jupman-raise\n",
    "\n",
    "    uid_to_abbr = calc_uid_to_abbr(db)       \n",
    "\n",
    "    shared = calc_shared(db)\n",
    "    xs = range(len(shared))\n",
    "    \n",
    "    xticks = [x[0] + \"\\n\" + x[1] for x in shared]\n",
    "\n",
    "    ys = [x[2] for x in shared]\n",
    "    \n",
    "    fig = plt.figure(figsize=(20,3))\n",
    "\n",
    "    plt.bar(xs, ys, 0.5, align='center')\n",
    "\n",
    "    plt.title(\"SOLUTION\")\n",
    "    plt.xticks(xs, xticks)\n",
    "\n",
    "    plt.xlabel('Department pairs')\n",
    "    plt.ylabel('common employees')\n",
    "\n",
    "    #jupman-purge\n",
    "    plt.savefig('expected-shared.png')\n",
    "    #/jupman-purge\n",
    "    \n",
    "    plt.show()\n",
    "    #/jupman-raise\n",
    "\n",
    "plot_shared(unitn)"
   ]
  }
 ],
 "metadata": {
  "celltoolbar": "Edit Metadata",
  "kernelspec": {
   "display_name": "Python 3 (ipykernel)",
   "language": "python",
   "name": "python3"
  },
  "language_info": {
   "codemirror_mode": {
    "name": "ipython",
    "version": 3
   },
   "file_extension": ".py",
   "mimetype": "text/x-python",
   "name": "python",
   "nbconvert_exporter": "python",
   "pygments_lexer": "ipython3",
   "version": "3.7.10"
  },
  "toc": {
   "base_numbering": 1,
   "nav_menu": {},
   "number_sections": false,
   "sideBar": true,
   "skip_h1_title": false,
   "title_cell": "Table of Contents",
   "title_sidebar": "Contents",
   "toc_cell": false,
   "toc_position": {},
   "toc_section_display": true,
   "toc_window_display": true
  }
 },
 "nbformat": 4,
 "nbformat_minor": 1
}
