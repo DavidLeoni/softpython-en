{
 "cells": [
  {
   "cell_type": "markdown",
   "metadata": {},
   "source": [
    "# Wikispeedia\n",
    "\n",
    "## [Download worked project](../../_static/generated/wikispeedia-prj.zip) \n",
    "\n",
    "[Browse files online](https://github.com/DavidLeoni/softpython-en/tree/master/projects/wikispeedia)\n",
    "\n",
    "What is the semantic distance between Batman and the Bible? [Wikispeedia](https://dlab.epfl.ch/wikispeedia/play/) is a fun game where you are given (or can choose) apparently unrelated source and a target Wikipedia pages, and you are asked to reach target page by only clicking links you find along the pages you visit. These click paths provide valuable information regarding human behaviour and the semantic connection between different topics, for example search engines might use such information to better understand user queries. You will analyze a dataset of such paths.\n",
    "\n",
    "Data source: https://snap.stanford.edu/data/wikispeedia.html\n",
    "\n",
    "- Robert West and Jure Leskovec: Human Wayfinding in Information Networks. 21st International World Wide Web Conference (WWW), 2012.\n",
    "- Robert West, Joelle Pineau, and Doina Precup: Wikispeedia: An Online Game for Inferring Semantic Distances between Concepts. 21st International Joint Conference on Artificial Intelligence (IJCAI), 2009.\n",
    "\n",
    "![expected-Batman-Bible-preview](expected-Batman-Bible-1.png)\n",
    "\n",
    "<div class=\"alert alert-warning\"> \n",
    "     \n",
    "**REQUIREMENTS: Having read** [Relational data tutorial](https://en.softpython.org/relational/relational1-intro-sol.html#) **, which contains also instructions for installing required libraries.**\n",
    "    \n",
    "</div>    "
   ]
  },
  {
   "cell_type": "markdown",
   "metadata": {},
   "source": [
    "## What to do\n",
    "\n",
    "1. Unzip exercises zip in a folder, you should obtain something like this:\n",
    "\n",
    "```\n",
    "wikispeedia-prj\n",
    "    wikispeedia.ipynb\n",
    "    wikispeedia-sol.ipynb\n",
    "    paths_finished.tsv\n",
    "    soft.py\n",
    "    jupman.py\n",
    "```\n",
    "\n",
    "<div class=\"alert alert-warning\">\n",
    "\n",
    "**WARNING: to correctly visualize the notebook, it MUST be in an unzipped folder !**\n",
    "</div>"
   ]
  },
  {
   "cell_type": "markdown",
   "metadata": {},
   "source": [
    "2. open Jupyter Notebook from that folder. Two things should open, first a console and then a browser. The browser should show a file list: navigate the list and open the notebook `wikispeedia.ipynb`\n",
    "\n",
    "3. Go on reading the notebook, and write in the appropriate cells when asked"
   ]
  },
  {
   "cell_type": "markdown",
   "metadata": {},
   "source": [
    "Shortcut keys:\n",
    "\n",
    "- to execute Python code inside a Jupyter cell, press `Control + Enter`\n",
    "\n",
    "- to execute Python code inside a Jupyter cell AND select next cell, press `Shift + Enter`\n",
    "\n",
    "- to execute Python code inside a Jupyter cell AND a create a new cell aftwerwards, press `Alt + Enter`\n",
    "\n",
    "- If the notebooks look stuck, try to select `Kernel -> Restart`"
   ]
  },
  {
   "cell_type": "markdown",
   "metadata": {},
   "source": [
    "## The dataset\n",
    "\n",
    "Each row of the dataset [paths_finished.tsv](paths_finished.tsv) is a user _session_, where user navigates from start page to end page. Columns are `hashedIpAddress`, `timestamp`, `durationInSec`, `path` and `rating`.\n",
    "\n",
    "We define a **session group** as all sessions which have same start page and same end page, for example all these paths start with `Linguistics` and end in `Rome`:"
   ]
  },
  {
   "cell_type": "code",
   "execution_count": 1,
   "metadata": {},
   "outputs": [
    {
     "data": {
      "text/html": [
       "<div>\n",
       "<style scoped>\n",
       "    .dataframe tbody tr th:only-of-type {\n",
       "        vertical-align: middle;\n",
       "    }\n",
       "\n",
       "    .dataframe tbody tr th {\n",
       "        vertical-align: top;\n",
       "    }\n",
       "\n",
       "    .dataframe thead th {\n",
       "        text-align: right;\n",
       "    }\n",
       "</style>\n",
       "<table border=\"1\" class=\"dataframe\">\n",
       "  <thead>\n",
       "    <tr style=\"text-align: right;\">\n",
       "      <th></th>\n",
       "      <th>0</th>\n",
       "      <th>1</th>\n",
       "      <th>2</th>\n",
       "      <th>3</th>\n",
       "      <th>4</th>\n",
       "    </tr>\n",
       "  </thead>\n",
       "  <tbody>\n",
       "    <tr>\n",
       "      <th>5890</th>\n",
       "      <td>2f8c281d5e0b0e93</td>\n",
       "      <td>1248913182</td>\n",
       "      <td>106</td>\n",
       "      <td>Linguistics;Philosophy;Aristotle;Ancient_Greece;Italy;Rome</td>\n",
       "      <td>3.0</td>\n",
       "    </tr>\n",
       "    <tr>\n",
       "      <th>5891</th>\n",
       "      <td>389b67fa365b727a</td>\n",
       "      <td>1249604227</td>\n",
       "      <td>89</td>\n",
       "      <td>Linguistics;Language;English_language;Latin;Rome</td>\n",
       "      <td>2.0</td>\n",
       "    </tr>\n",
       "    <tr>\n",
       "      <th>5892</th>\n",
       "      <td>0299542414c3f20a</td>\n",
       "      <td>1257970576</td>\n",
       "      <td>94</td>\n",
       "      <td>Linguistics;Philosophy;Plato;Latin;Rome</td>\n",
       "      <td>NaN</td>\n",
       "    </tr>\n",
       "    <tr>\n",
       "      <th>5893</th>\n",
       "      <td>2b6e83d366a7514d</td>\n",
       "      <td>1260188882</td>\n",
       "      <td>113</td>\n",
       "      <td>Linguistics;Philosophy;Thomas_Aquinas;Italy;Rome</td>\n",
       "      <td>2.0</td>\n",
       "    </tr>\n",
       "    <tr>\n",
       "      <th>5894</th>\n",
       "      <td>0d57c8c57d75e2f5</td>\n",
       "      <td>1282028286</td>\n",
       "      <td>153</td>\n",
       "      <td>Linguistics;Language;Spanish_language;Vulgar_Latin;Roman_Empire;Rome</td>\n",
       "      <td>NaN</td>\n",
       "    </tr>\n",
       "    <tr>\n",
       "      <th>5895</th>\n",
       "      <td>0d57c8c57d75e2f5</td>\n",
       "      <td>1295244051</td>\n",
       "      <td>62</td>\n",
       "      <td>Linguistics;Philosophy;Socrates;Ancient_Greece;Ancient_Rome;Rome</td>\n",
       "      <td>1.0</td>\n",
       "    </tr>\n",
       "    <tr>\n",
       "      <th>5896</th>\n",
       "      <td>772843f73d9cf93d</td>\n",
       "      <td>1307880434</td>\n",
       "      <td>177</td>\n",
       "      <td>Linguistics;Language;German_language;Latin_alphabet;&lt;;Italy;Rome</td>\n",
       "      <td>NaN</td>\n",
       "    </tr>\n",
       "    <tr>\n",
       "      <th>5897</th>\n",
       "      <td>654430d34a08a0f5</td>\n",
       "      <td>1339755238</td>\n",
       "      <td>81</td>\n",
       "      <td>Linguistics;Philosophy;Augustine_of_Hippo;Italy;Rome</td>\n",
       "      <td>2.0</td>\n",
       "    </tr>\n",
       "    <tr>\n",
       "      <th>5898</th>\n",
       "      <td>12470aee3d5ad152</td>\n",
       "      <td>1344167616</td>\n",
       "      <td>40</td>\n",
       "      <td>Linguistics;Philosophy;Plato;Italy;Rome</td>\n",
       "      <td>NaN</td>\n",
       "    </tr>\n",
       "    <tr>\n",
       "      <th>5899</th>\n",
       "      <td>6365b049395c53ce</td>\n",
       "      <td>1345421532</td>\n",
       "      <td>67</td>\n",
       "      <td>Linguistics;Culture;Ancient_Rome;Rome</td>\n",
       "      <td>1.0</td>\n",
       "    </tr>\n",
       "    <tr>\n",
       "      <th>5900</th>\n",
       "      <td>05786cb24102850d</td>\n",
       "      <td>1347671980</td>\n",
       "      <td>65</td>\n",
       "      <td>Linguistics;Language;English_language;Latin;Rome</td>\n",
       "      <td>2.0</td>\n",
       "    </tr>\n",
       "    <tr>\n",
       "      <th>5901</th>\n",
       "      <td>369a3f7e77700217</td>\n",
       "      <td>1349302559</td>\n",
       "      <td>56</td>\n",
       "      <td>Linguistics;Language;English_language;Latin;Rome</td>\n",
       "      <td>NaN</td>\n",
       "    </tr>\n",
       "  </tbody>\n",
       "</table>\n",
       "</div>"
      ],
      "text/plain": [
       "                     0           1    2  \\\n",
       "5890  2f8c281d5e0b0e93  1248913182  106   \n",
       "5891  389b67fa365b727a  1249604227   89   \n",
       "5892  0299542414c3f20a  1257970576   94   \n",
       "5893  2b6e83d366a7514d  1260188882  113   \n",
       "5894  0d57c8c57d75e2f5  1282028286  153   \n",
       "5895  0d57c8c57d75e2f5  1295244051   62   \n",
       "5896  772843f73d9cf93d  1307880434  177   \n",
       "5897  654430d34a08a0f5  1339755238   81   \n",
       "5898  12470aee3d5ad152  1344167616   40   \n",
       "5899  6365b049395c53ce  1345421532   67   \n",
       "5900  05786cb24102850d  1347671980   65   \n",
       "5901  369a3f7e77700217  1349302559   56   \n",
       "\n",
       "                                                                         3  \\\n",
       "5890            Linguistics;Philosophy;Aristotle;Ancient_Greece;Italy;Rome   \n",
       "5891                      Linguistics;Language;English_language;Latin;Rome   \n",
       "5892                               Linguistics;Philosophy;Plato;Latin;Rome   \n",
       "5893                      Linguistics;Philosophy;Thomas_Aquinas;Italy;Rome   \n",
       "5894  Linguistics;Language;Spanish_language;Vulgar_Latin;Roman_Empire;Rome   \n",
       "5895      Linguistics;Philosophy;Socrates;Ancient_Greece;Ancient_Rome;Rome   \n",
       "5896      Linguistics;Language;German_language;Latin_alphabet;<;Italy;Rome   \n",
       "5897                  Linguistics;Philosophy;Augustine_of_Hippo;Italy;Rome   \n",
       "5898                               Linguistics;Philosophy;Plato;Italy;Rome   \n",
       "5899                                 Linguistics;Culture;Ancient_Rome;Rome   \n",
       "5900                      Linguistics;Language;English_language;Latin;Rome   \n",
       "5901                      Linguistics;Language;English_language;Latin;Rome   \n",
       "\n",
       "        4  \n",
       "5890  3.0  \n",
       "5891  2.0  \n",
       "5892  NaN  \n",
       "5893  2.0  \n",
       "5894  NaN  \n",
       "5895  1.0  \n",
       "5896  NaN  \n",
       "5897  2.0  \n",
       "5898  NaN  \n",
       "5899  1.0  \n",
       "5900  2.0  \n",
       "5901  NaN  "
      ]
     },
     "execution_count": 1,
     "metadata": {},
     "output_type": "execute_result"
    }
   ],
   "source": [
    "import pandas as pd   \n",
    "import numpy as np    \n",
    "pd.options.display.max_colwidth = None\n",
    "df = pd.read_csv('paths_finished.tsv', encoding='UTF-8', skiprows=16, header=None, sep='\\t')\n",
    "df[5890:5902]  "
   ]
  },
  {
   "cell_type": "markdown",
   "metadata": {},
   "source": [
    "In this other session group, all sessions start with `Pikachu` and end with `Sun`:"
   ]
  },
  {
   "cell_type": "code",
   "execution_count": 2,
   "metadata": {},
   "outputs": [
    {
     "data": {
      "text/html": [
       "<div>\n",
       "<style scoped>\n",
       "    .dataframe tbody tr th:only-of-type {\n",
       "        vertical-align: middle;\n",
       "    }\n",
       "\n",
       "    .dataframe tbody tr th {\n",
       "        vertical-align: top;\n",
       "    }\n",
       "\n",
       "    .dataframe thead th {\n",
       "        text-align: right;\n",
       "    }\n",
       "</style>\n",
       "<table border=\"1\" class=\"dataframe\">\n",
       "  <thead>\n",
       "    <tr style=\"text-align: right;\">\n",
       "      <th></th>\n",
       "      <th>0</th>\n",
       "      <th>1</th>\n",
       "      <th>2</th>\n",
       "      <th>3</th>\n",
       "      <th>4</th>\n",
       "    </tr>\n",
       "  </thead>\n",
       "  <tbody>\n",
       "    <tr>\n",
       "      <th>45121</th>\n",
       "      <td>0d57c8c57d75e2f5</td>\n",
       "      <td>1278403914</td>\n",
       "      <td>17</td>\n",
       "      <td>Pikachu;North_America;Earth;Planet;Sun</td>\n",
       "      <td>1.0</td>\n",
       "    </tr>\n",
       "    <tr>\n",
       "      <th>45122</th>\n",
       "      <td>0d57c8c57d75e2f5</td>\n",
       "      <td>1278403938</td>\n",
       "      <td>42</td>\n",
       "      <td>Pikachu;Tree;Sunlight;Sun</td>\n",
       "      <td>NaN</td>\n",
       "    </tr>\n",
       "    <tr>\n",
       "      <th>45123</th>\n",
       "      <td>0d57c8c57d75e2f5</td>\n",
       "      <td>1278403972</td>\n",
       "      <td>17</td>\n",
       "      <td>Pikachu;Tree;Plant;&lt;;Sunlight;Sun</td>\n",
       "      <td>1.0</td>\n",
       "    </tr>\n",
       "    <tr>\n",
       "      <th>45124</th>\n",
       "      <td>0d57c8c57d75e2f5</td>\n",
       "      <td>1278403991</td>\n",
       "      <td>8</td>\n",
       "      <td>Pikachu;Tree;Sunlight;Sun</td>\n",
       "      <td>NaN</td>\n",
       "    </tr>\n",
       "    <tr>\n",
       "      <th>45125</th>\n",
       "      <td>0d57c8c57d75e2f5</td>\n",
       "      <td>1278404007</td>\n",
       "      <td>9</td>\n",
       "      <td>Pikachu;Tree;Sunlight;Sun</td>\n",
       "      <td>1.0</td>\n",
       "    </tr>\n",
       "    <tr>\n",
       "      <th>45126</th>\n",
       "      <td>0d57c8c57d75e2f5</td>\n",
       "      <td>1278404048</td>\n",
       "      <td>8</td>\n",
       "      <td>Pikachu;Tree;Sunlight;Sun</td>\n",
       "      <td>NaN</td>\n",
       "    </tr>\n",
       "    <tr>\n",
       "      <th>45127</th>\n",
       "      <td>0d57c8c57d75e2f5</td>\n",
       "      <td>1278404061</td>\n",
       "      <td>16</td>\n",
       "      <td>Pikachu;Tree;Sunlight;Sun</td>\n",
       "      <td>NaN</td>\n",
       "    </tr>\n",
       "    <tr>\n",
       "      <th>45128</th>\n",
       "      <td>0d57c8c57d75e2f5</td>\n",
       "      <td>1278404065</td>\n",
       "      <td>8</td>\n",
       "      <td>Pikachu;Tree;Sunlight;Sun</td>\n",
       "      <td>NaN</td>\n",
       "    </tr>\n",
       "    <tr>\n",
       "      <th>45129</th>\n",
       "      <td>0d57c8c57d75e2f5</td>\n",
       "      <td>1278404070</td>\n",
       "      <td>8</td>\n",
       "      <td>Pikachu;Tree;Sunlight;Sun</td>\n",
       "      <td>NaN</td>\n",
       "    </tr>\n",
       "    <tr>\n",
       "      <th>45130</th>\n",
       "      <td>0d57c8c57d75e2f5</td>\n",
       "      <td>1278404089</td>\n",
       "      <td>8</td>\n",
       "      <td>Pikachu;Tree;Sunlight;Sun</td>\n",
       "      <td>NaN</td>\n",
       "    </tr>\n",
       "    <tr>\n",
       "      <th>45131</th>\n",
       "      <td>0d57c8c57d75e2f5</td>\n",
       "      <td>1278404095</td>\n",
       "      <td>7</td>\n",
       "      <td>Pikachu;Tree;Sunlight;Sun</td>\n",
       "      <td>NaN</td>\n",
       "    </tr>\n",
       "    <tr>\n",
       "      <th>45132</th>\n",
       "      <td>0d57c8c57d75e2f5</td>\n",
       "      <td>1278404101</td>\n",
       "      <td>9</td>\n",
       "      <td>Pikachu;Tree;Sunlight;Sun</td>\n",
       "      <td>NaN</td>\n",
       "    </tr>\n",
       "    <tr>\n",
       "      <th>45133</th>\n",
       "      <td>0d57c8c57d75e2f5</td>\n",
       "      <td>1278404117</td>\n",
       "      <td>6</td>\n",
       "      <td>Pikachu;Tree;Sunlight;Sun</td>\n",
       "      <td>NaN</td>\n",
       "    </tr>\n",
       "    <tr>\n",
       "      <th>45134</th>\n",
       "      <td>0d57c8c57d75e2f5</td>\n",
       "      <td>1278404124</td>\n",
       "      <td>10</td>\n",
       "      <td>Pikachu;Tree;Sunlight;Sun</td>\n",
       "      <td>NaN</td>\n",
       "    </tr>\n",
       "    <tr>\n",
       "      <th>45135</th>\n",
       "      <td>0d57c8c57d75e2f5</td>\n",
       "      <td>1278404129</td>\n",
       "      <td>9</td>\n",
       "      <td>Pikachu;Tree;Sunlight;Sun</td>\n",
       "      <td>NaN</td>\n",
       "    </tr>\n",
       "    <tr>\n",
       "      <th>45136</th>\n",
       "      <td>0d57c8c57d75e2f5</td>\n",
       "      <td>1278404142</td>\n",
       "      <td>7</td>\n",
       "      <td>Pikachu;Tree;Sunlight;Sun</td>\n",
       "      <td>NaN</td>\n",
       "    </tr>\n",
       "    <tr>\n",
       "      <th>45137</th>\n",
       "      <td>0d57c8c57d75e2f5</td>\n",
       "      <td>1278404145</td>\n",
       "      <td>6</td>\n",
       "      <td>Pikachu;Tree;Sunlight;Sun</td>\n",
       "      <td>NaN</td>\n",
       "    </tr>\n",
       "  </tbody>\n",
       "</table>\n",
       "</div>"
      ],
      "text/plain": [
       "                      0           1   2  \\\n",
       "45121  0d57c8c57d75e2f5  1278403914  17   \n",
       "45122  0d57c8c57d75e2f5  1278403938  42   \n",
       "45123  0d57c8c57d75e2f5  1278403972  17   \n",
       "45124  0d57c8c57d75e2f5  1278403991   8   \n",
       "45125  0d57c8c57d75e2f5  1278404007   9   \n",
       "45126  0d57c8c57d75e2f5  1278404048   8   \n",
       "45127  0d57c8c57d75e2f5  1278404061  16   \n",
       "45128  0d57c8c57d75e2f5  1278404065   8   \n",
       "45129  0d57c8c57d75e2f5  1278404070   8   \n",
       "45130  0d57c8c57d75e2f5  1278404089   8   \n",
       "45131  0d57c8c57d75e2f5  1278404095   7   \n",
       "45132  0d57c8c57d75e2f5  1278404101   9   \n",
       "45133  0d57c8c57d75e2f5  1278404117   6   \n",
       "45134  0d57c8c57d75e2f5  1278404124  10   \n",
       "45135  0d57c8c57d75e2f5  1278404129   9   \n",
       "45136  0d57c8c57d75e2f5  1278404142   7   \n",
       "45137  0d57c8c57d75e2f5  1278404145   6   \n",
       "\n",
       "                                            3    4  \n",
       "45121  Pikachu;North_America;Earth;Planet;Sun  1.0  \n",
       "45122               Pikachu;Tree;Sunlight;Sun  NaN  \n",
       "45123       Pikachu;Tree;Plant;<;Sunlight;Sun  1.0  \n",
       "45124               Pikachu;Tree;Sunlight;Sun  NaN  \n",
       "45125               Pikachu;Tree;Sunlight;Sun  1.0  \n",
       "45126               Pikachu;Tree;Sunlight;Sun  NaN  \n",
       "45127               Pikachu;Tree;Sunlight;Sun  NaN  \n",
       "45128               Pikachu;Tree;Sunlight;Sun  NaN  \n",
       "45129               Pikachu;Tree;Sunlight;Sun  NaN  \n",
       "45130               Pikachu;Tree;Sunlight;Sun  NaN  \n",
       "45131               Pikachu;Tree;Sunlight;Sun  NaN  \n",
       "45132               Pikachu;Tree;Sunlight;Sun  NaN  \n",
       "45133               Pikachu;Tree;Sunlight;Sun  NaN  \n",
       "45134               Pikachu;Tree;Sunlight;Sun  NaN  \n",
       "45135               Pikachu;Tree;Sunlight;Sun  NaN  \n",
       "45136               Pikachu;Tree;Sunlight;Sun  NaN  \n",
       "45137               Pikachu;Tree;Sunlight;Sun  NaN  "
      ]
     },
     "execution_count": 2,
     "metadata": {},
     "output_type": "execute_result"
    }
   ],
   "source": [
    "df[45121:45138]  "
   ]
  },
  {
   "cell_type": "markdown",
   "metadata": {},
   "source": [
    "## 1. filter_back\n",
    "\n",
    "Whenever a user clicks the _Back_ button, she navigates back one page. This fact is tracked in the data by the presence of a `'<'` symbol. Write a function which RETURN a NEW path without pages which were navigated back. \n",
    "\n",
    "**NOTE:** **you can have duplicates** even without presence of `<`, because a user might end up to a previous page just by following circular links. \n",
    "\n",
    "**DO NOT** misuse search methods, I'm watching you   }:-["
   ]
  },
  {
   "cell_type": "raw",
   "id": "8da23bc9",
   "metadata": {
    "format": "text/html"
   },
   "source": [
    "<a  class=\"jupman-sol jupman-sol-toggler\" \n",
    " onclick=\"jupman.toggleSolution(this);\" \n",
    " data-jupman-show=\"Show solution\" data-jupman-hide=\"Hide\">Show solution</a><div class=\"jupman-sol jupman-sol-code\" style=\"display:none\">  "
   ]
  },
  {
   "cell_type": "code",
   "execution_count": 3,
   "metadata": {},
   "outputs": [],
   "source": [
    "def filter_back(path):\n",
    "    \n",
    "    ret = []    \n",
    "    \n",
    "    for page in path:        \n",
    "        if page == '<':\n",
    "            if len(ret) > 0:\n",
    "                ret.pop()            \n",
    "        else:    \n",
    "            ret.append(page)    \n",
    "    return ret\n",
    "    \n",
    "\n",
    "assert filter_back([]) == []\n",
    "assert filter_back(['alfa']) == ['alfa']\n",
    "assert filter_back(['beta','alfa','charlie']) == ['beta','alfa','charlie']\n",
    "\n",
    "assert filter_back(['charlie', 'tango','<']) == ['charlie']\n",
    "inp = ['charlie', 'tango','<']\n",
    "assert filter_back(inp) == ['charlie']  # new\n",
    "assert inp == ['charlie', 'tango','<']  \n",
    "assert filter_back(['alfa', 'beta', 'charlie','<','<','delta']) == ['alfa','delta']\n",
    "assert filter_back(['alfa', 'beta', 'charlie','delta','eagle','<','<','golf','<','<','hotel']) \\\n",
    "       == ['alfa','beta','hotel']\n",
    "\n",
    "# circular paths\n",
    "assert filter_back(['alfa','beta','alfa','alfa','beta']) ==  ['alfa','beta','alfa','alfa','beta']\n",
    "assert filter_back(['alfa','beta','alfa','<','charlie','charlie','delta','charlie','<','charlie','delta']) \\\n",
    "       == ['alfa','beta','charlie','charlie','delta','charlie','delta']"
   ]
  },
  {
   "cell_type": "raw",
   "id": "30af1da6",
   "metadata": {
    "format": "text/html"
   },
   "source": [
    "</div>"
   ]
  },
  {
   "cell_type": "code",
   "execution_count": 3,
   "metadata": {},
   "outputs": [],
   "source": [
    "def filter_back(path):\n",
    "    raise Exception('TODO IMPLEMENT ME !')\n",
    "\n",
    "assert filter_back([]) == []\n",
    "assert filter_back(['alfa']) == ['alfa']\n",
    "assert filter_back(['beta','alfa','charlie']) == ['beta','alfa','charlie']\n",
    "\n",
    "assert filter_back(['charlie', 'tango','<']) == ['charlie']\n",
    "inp = ['charlie', 'tango','<']\n",
    "assert filter_back(inp) == ['charlie']  # new\n",
    "assert inp == ['charlie', 'tango','<']  \n",
    "assert filter_back(['alfa', 'beta', 'charlie','<','<','delta']) == ['alfa','delta']\n",
    "assert filter_back(['alfa', 'beta', 'charlie','delta','eagle','<','<','golf','<','<','hotel']) \\\n",
    "       == ['alfa','beta','hotel']\n",
    "\n",
    "# circular paths\n",
    "assert filter_back(['alfa','beta','alfa','alfa','beta']) ==  ['alfa','beta','alfa','alfa','beta']\n",
    "assert filter_back(['alfa','beta','alfa','<','charlie','charlie','delta','charlie','<','charlie','delta']) \\\n",
    "       == ['alfa','beta','charlie','charlie','delta','charlie','delta']"
   ]
  },
  {
   "cell_type": "markdown",
   "metadata": {},
   "source": [
    "## 2. load_db\n",
    "\n",
    "Load the **tab**-separated file [paths_finished.tsv](paths_finished.tsv) with a CSV Reader. The file has some rows to skip and no column names:  parse it and RETURN a list of dictionaries, with `hashedIpAddress`, `timestamp`, `durationInSec`, `path` and `rating` as fields:\n",
    "\n",
    "- `path`: convert it with `filter_back` function\n",
    "- `timestamp` and `durationInSec`: convert to integer\n",
    "- `rating`: convert to integer, if `NULL`, set it to `None`"
   ]
  },
  {
   "cell_type": "markdown",
   "metadata": {},
   "source": [
    "**Example**:\n",
    "\n",
    "```python\n",
    ">>> sessions_db = load_db('paths_finished.tsv')\n",
    "\n",
    "Parsed 51318 sessions\n",
    "\n",
    ">>> sessions_db[:2]\n",
    "\n",
    "[{'hashedIpAddress': '6a3701d319fc3754',\n",
    "  'timestamp': 1297740409,\n",
    "  'durationInSec': 166,\n",
    "  'path': ['14th_century',\n",
    "   '15th_century',\n",
    "   '16th_century',\n",
    "   'Pacific_Ocean',\n",
    "   'Atlantic_Ocean',\n",
    "   'Accra',\n",
    "   'Africa',\n",
    "   'Atlantic_slave_trade',\n",
    "   'African_slave_trade'],\n",
    "  'rating': None},\n",
    " {'hashedIpAddress': '3824310e536af032',\n",
    "  'timestamp': 1344753412,\n",
    "  'durationInSec': 88,\n",
    "  'path': ['14th_century',\n",
    "   'Europe',\n",
    "   'Africa',\n",
    "   'Atlantic_slave_trade',\n",
    "   'African_slave_trade'],\n",
    "  'rating': 3}]\n",
    "```"
   ]
  },
  {
   "cell_type": "raw",
   "id": "929e5e2e",
   "metadata": {
    "format": "text/html"
   },
   "source": [
    "<a  class=\"jupman-sol jupman-sol-toggler\" \n",
    " onclick=\"jupman.toggleSolution(this);\" \n",
    " data-jupman-show=\"Show solution\" data-jupman-hide=\"Hide\">Show solution</a><div class=\"jupman-sol jupman-sol-code\" style=\"display:none\">  "
   ]
  },
  {
   "cell_type": "code",
   "execution_count": 4,
   "metadata": {
    "scrolled": false
   },
   "outputs": [
    {
     "name": "stdout",
     "output_type": "stream",
     "text": [
      "Parsed 51318 sessions\n"
     ]
    },
    {
     "data": {
      "text/plain": [
       "[{'hashedIpAddress': '6a3701d319fc3754',\n",
       "  'timestamp': 1297740409,\n",
       "  'durationInSec': 166,\n",
       "  'path': ['14th_century',\n",
       "   '15th_century',\n",
       "   '16th_century',\n",
       "   'Pacific_Ocean',\n",
       "   'Atlantic_Ocean',\n",
       "   'Accra',\n",
       "   'Africa',\n",
       "   'Atlantic_slave_trade',\n",
       "   'African_slave_trade'],\n",
       "  'rating': None},\n",
       " {'hashedIpAddress': '3824310e536af032',\n",
       "  'timestamp': 1344753412,\n",
       "  'durationInSec': 88,\n",
       "  'path': ['14th_century',\n",
       "   'Europe',\n",
       "   'Africa',\n",
       "   'Atlantic_slave_trade',\n",
       "   'African_slave_trade'],\n",
       "  'rating': 3}]"
      ]
     },
     "execution_count": 4,
     "metadata": {},
     "output_type": "execute_result"
    }
   ],
   "source": [
    "\n",
    "import csv\n",
    "\n",
    "def load_db(filename):\n",
    "    \n",
    "   \n",
    "    \n",
    "    with open(filename, encoding='utf-8', newline='') as f:        \n",
    "        my_reader = csv.reader(f, delimiter='\\t')                \n",
    "        \n",
    "        ret = []                        \n",
    "        \n",
    "        for row in my_reader:\n",
    "            if len(row) < 2:\n",
    "                continue\n",
    "\n",
    "            ses = { \"hashedIpAddress\": row[0],\n",
    "                    \"timestamp\" : int(row[1]),\n",
    "                    \"durationInSec\" : int(row[2]),\n",
    "                    \"path\" : filter_back(row[3].split(';')),\n",
    "                    \"rating\": int(row[4]) if row[4] != 'NULL' else None\n",
    "            }\n",
    "            \n",
    "            ret.append(ses)\n",
    "\n",
    "        print('Parsed', len(ret), 'sessions')\n",
    "        \n",
    "        return ret\n",
    "    \n",
    "    \n",
    "sessions_db = load_db('paths_finished.tsv')\n",
    "\n",
    "sessions_db[:2]"
   ]
  },
  {
   "cell_type": "raw",
   "id": "b4205877",
   "metadata": {
    "format": "text/html"
   },
   "source": [
    "</div>"
   ]
  },
  {
   "cell_type": "code",
   "execution_count": 4,
   "metadata": {
    "scrolled": false
   },
   "outputs": [],
   "source": [
    "\n",
    "import csv\n",
    "\n",
    "def load_db(filename):\n",
    "    raise Exception('TODO IMPLEMENT ME !')\n",
    "    \n",
    "sessions_db = load_db('paths_finished.tsv')\n",
    "\n",
    "sessions_db[:2]"
   ]
  },
  {
   "cell_type": "code",
   "execution_count": 5,
   "metadata": {},
   "outputs": [],
   "source": [
    "# TESTING\n",
    "from pprint import pprint\n",
    "from expected_db import expected_db\n",
    "for i in range(len(expected_db)):\n",
    "    if expected_db[i] != sessions_db[i]:\n",
    "        print('\\nERROR at index', i, ':')\n",
    "        print('  ACTUAL:')\n",
    "        pprint(sessions_db[i])\n",
    "        print('  EXPECTED:')\n",
    "        pprint(expected_db[i])\n",
    "        break        \n",
    "if len(sessions_db) != len(expected_db):\n",
    "    print(\"ERROR: different lengths! sessions_db:\", len(sessions_db), \"expected_db\", len(expected_db))"
   ]
  },
  {
   "cell_type": "markdown",
   "metadata": {},
   "source": [
    "## 3. calc_stats\n",
    "\n",
    "Write a function which takes the sessions db and RETURN a NEW dictionary which maps sessions groups expressed as tuples (start, end) to a dictionary of statistics about them\n",
    "\n",
    "- dictionary key: tuple with start,end page\n",
    "- `sessions`: the number of sessions in that group\n",
    "- `avg_len`: the average length (as number of edges) of all paths in the group \n",
    "- `pages`: the total number of **DISTINCT** pages found among all sessions in that group\n",
    "- `freqs`: a dictionary which maps edges found in all sessions of that group to their count\n",
    "- `max_freq`: the highest count among all freqs"
   ]
  },
  {
   "cell_type": "markdown",
   "metadata": {},
   "source": [
    "**Output example** (for complete output see [expected_stats_db.py](expected_stats_db.py)):\n",
    "\n",
    "```python\n",
    ">>> calc_stats(sessions_db)\n",
    "{\n",
    "    ('Linguistics', 'Rome'): {'avg_len': 4.166666666666667,\n",
    "                              'freqs': { ('Ancient_Greece', 'Ancient_Rome'): 1,\n",
    "                                         ('Ancient_Greece', 'Italy'): 1,\n",
    "                                         ('Ancient_Rome', 'Rome'): 2,\n",
    "                                         ('Aristotle', 'Ancient_Greece'): 1,\n",
    "                                         ('Augustine_of_Hippo', 'Italy'): 1,\n",
    "                                         ('Culture', 'Ancient_Rome'): 1,\n",
    "                                         ('English_language', 'Latin'): 3,\n",
    "                                         ('German_language', 'Italy'): 1,\n",
    "                                         ('Italy', 'Rome'): 5,\n",
    "                                         ('Language', 'English_language'): 3,\n",
    "                                         ('Language', 'German_language'): 1,\n",
    "                                         ('Language', 'Spanish_language'): 1,\n",
    "                                         ('Latin', 'Rome'): 4,\n",
    "                                         ('Linguistics', 'Culture'): 1,\n",
    "                                         ('Linguistics', 'Language'): 5,\n",
    "                                         ('Linguistics', 'Philosophy'): 6,\n",
    "                                         ('Philosophy', 'Aristotle'): 1,\n",
    "                                         ('Philosophy', 'Augustine_of_Hippo'): 1,\n",
    "                                         ('Philosophy', 'Plato'): 2,\n",
    "                                         ('Philosophy', 'Socrates'): 1,\n",
    "                                         ('Philosophy', 'Thomas_Aquinas'): 1,\n",
    "                                         ('Plato', 'Italy'): 1,\n",
    "                                         ('Plato', 'Latin'): 1,\n",
    "                                         ('Roman_Empire', 'Rome'): 1,\n",
    "                                         ('Socrates', 'Ancient_Greece'): 1,\n",
    "                                         ('Spanish_language', 'Vulgar_Latin'): 1,\n",
    "                                         ('Thomas_Aquinas', 'Italy'): 1,\n",
    "                                         ('Vulgar_Latin', 'Roman_Empire'): 1},\n",
    "                           'max_freq': 6,\n",
    "                           'pages': 19,\n",
    "                           'sessions': 12},\n",
    "     ('Pikachu', 'Sun'):   {'avg_len': 3.0588235294117645,\n",
    "                            'freqs': {('Earth', 'Planet'): 1,\n",
    "                                      ('North_America', 'Earth'): 1,\n",
    "                                      ('Pikachu', 'North_America'): 1,\n",
    "                                      ('Pikachu', 'Tree'): 16,\n",
    "                                      ('Planet', 'Sun'): 1,\n",
    "                                      ('Sunlight', 'Sun'): 16,\n",
    "                                      ('Tree', 'Sunlight'): 16},\n",
    "                            'max_freq': 16,\n",
    "                            'pages': 7,\n",
    "                            'sessions': 17},\n",
    "    .\n",
    "    .\n",
    "    .\n",
    "}\n",
    "```"
   ]
  },
  {
   "cell_type": "raw",
   "id": "a21a74f1",
   "metadata": {
    "format": "text/html"
   },
   "source": [
    "<a  class=\"jupman-sol jupman-sol-toggler\" \n",
    " onclick=\"jupman.toggleSolution(this);\" \n",
    " data-jupman-show=\"Show solution\" data-jupman-hide=\"Hide\">Show solution</a><div class=\"jupman-sol jupman-sol-code\" style=\"display:none\">  "
   ]
  },
  {
   "cell_type": "code",
   "execution_count": 6,
   "metadata": {
    "scrolled": false
   },
   "outputs": [],
   "source": [
    "def calc_stats(sessions):\n",
    "    \n",
    "    ret = {}\n",
    "    \n",
    "    for session in sessions:\n",
    "        path = session['path']\n",
    "                                                                            \n",
    "        t = (path[0], path[-1])\n",
    "        if t in ret:\n",
    "            ret[t]['avg_len'] += len(path) - 1\n",
    "            ret[t]['sessions'] += 1\n",
    "            \n",
    "            ret[t]['pages_set'].update(path)            \n",
    "            \n",
    "        else:    \n",
    "            ret[t] = { 'avg_len' : len(path) - 1,\n",
    "                       'sessions' : 1,\n",
    "                       'pages_set' : set(path),                       \n",
    "                       'freqs' : {}}\n",
    "        \n",
    "        freqs = ret[t]['freqs']\n",
    "        \n",
    "        for i in range(1, len(path)):            \n",
    "            seg = tuple([path[i-1], path[i]])\n",
    "            if seg in freqs:\n",
    "                freqs[seg] += 1\n",
    "            else:\n",
    "                freqs[seg] = 1\n",
    "        \n",
    "    for t in ret:\n",
    "        ret[t]['avg_len'] = ret[t]['avg_len'] / ret[t]['sessions']\n",
    "        ret[t]['pages'] = len(ret[t]['pages_set'])        \n",
    "        freq_vs = ret[t]['freqs'].values()\n",
    "        ret[t]['max_freq'] = max(freq_vs) if len(freq_vs) > 0 else 0\n",
    "        del ret[t]['pages_set']\n",
    "        \n",
    "    return ret\n",
    "    \n",
    "    \n",
    "stats_db = calc_stats(sessions_db)\n",
    "\n"
   ]
  },
  {
   "cell_type": "raw",
   "id": "ce0230fa",
   "metadata": {
    "format": "text/html"
   },
   "source": [
    "</div>"
   ]
  },
  {
   "cell_type": "code",
   "execution_count": 6,
   "metadata": {
    "scrolled": false
   },
   "outputs": [],
   "source": [
    "def calc_stats(sessions):\n",
    "    raise Exception('TODO IMPLEMENT ME !')\n",
    "    \n",
    "stats_db = calc_stats(sessions_db)\n",
    "\n"
   ]
  },
  {
   "cell_type": "code",
   "execution_count": 7,
   "metadata": {},
   "outputs": [],
   "source": [
    "# TESTING\n",
    "from pprint import pprint\n",
    "from expected_stats_db import expected_stats_db\n",
    "for t in expected_stats_db:\n",
    "    if not t in stats_db:\n",
    "        print('\\nERROR: missing key for session group', t)\n",
    "        break\n",
    "    elif expected_stats_db[t] != stats_db[t]:\n",
    "        print('\\nERROR at key for session group', t, ':')\n",
    "        print('  ACTUAL:')\n",
    "        pprint(stats_db[t])\n",
    "        print('  EXPECTED:')\n",
    "        pprint(expected_stats_db[t])\n",
    "        break\n",
    "\n",
    "diff = stats_db.keys() - expected_stats_db.keys()\n",
    "if len(diff) > 0:\n",
    "    print('ERROR! Found these extra keys in stats_db:', diff)"
   ]
  },
  {
   "cell_type": "code",
   "execution_count": 8,
   "metadata": {
    "nbsphinx": "hidden"
   },
   "outputs": [],
   "source": [],
   "transient": {
    "remove_source": true
   }
  },
  {
   "cell_type": "markdown",
   "metadata": {},
   "source": [
    "## 4. plot_network\n",
    "\n",
    "Given a sessions group (start_page, target_page), we want to display the pages clicked by users for all its sessions. Since some sessions share edges, we will show their click frequency.\n",
    "\n",
    "- Set edges attributes `'weight'`, `'label'` as $freq$, `'penwidth'` as $5 \\large \\frac{freq}{max\\_freq}$ and `'color'` as `'#45daed'`\n",
    "- Only display edges (and pages connected by such edges) for which the click count is _strictly greater_ than the given `threshold` \n",
    "- **NOTE:** when applying a threshold, it's fine if some nodes don't appear linked to either source or target"
   ]
  },
  {
   "cell_type": "markdown",
   "metadata": {},
   "source": [
    "**Example 1**:\n",
    "\n",
    "```python\n",
    ">>> plot_network(stats_db,'Linguistics', 'Rome')\n",
    "```\n",
    "\n",
    "![expected-Linguistics-Rome-0.png](expected-Linguistics-Rome-0.png)"
   ]
  },
  {
   "cell_type": "markdown",
   "metadata": {},
   "source": [
    "**Example 2**:\n",
    "    \n",
    "```python\n",
    ">>> plot_network(stats_db, 'Batman', 'Bible', 0)  # default threshold zero, big graph\n",
    "```\n",
    "\n",
    "![expected-Batman-Bible-1.png](expected-Batman-Bible-1.png)"
   ]
  },
  {
   "cell_type": "raw",
   "id": "3c3c219b",
   "metadata": {
    "format": "text/html"
   },
   "source": [
    "<a  class=\"jupman-sol jupman-sol-toggler\" \n",
    " onclick=\"jupman.toggleSolution(this);\" \n",
    " data-jupman-show=\"Show solution\" data-jupman-hide=\"Hide\">Show solution</a><div class=\"jupman-sol jupman-sol-code\" style=\"display:none\">  "
   ]
  },
  {
   "cell_type": "code",
   "execution_count": 9,
   "metadata": {},
   "outputs": [
    {
     "name": "stdout",
     "output_type": "stream",
     "text": [
      "Image saved to file:  expected-Linguistics-Rome-0.png\n"
     ]
    },
    {
     "data": {
      "image/png": "[encoded data removed]",
      "text/plain": [
       "<IPython.core.display.Image object>"
      ]
     },
     "metadata": {},
     "output_type": "display_data"
    }
   ],
   "source": [
    "\n",
    "from soft import draw_nx\n",
    "import networkx as nx\n",
    "\n",
    "def plot_network(stats, source_page, target_page, threshold=0):\n",
    "    \n",
    "    \n",
    "    G = nx.DiGraph()    \n",
    "                        \n",
    "    st = stats[(source_page, target_page)]    \n",
    "\n",
    "    for p1,p2 in st['freqs']:\n",
    "        \n",
    "        d = st['freqs'][(p1,p2)]\n",
    "\n",
    "        if d > threshold:\n",
    "\n",
    "            G.add_node(p2)                \n",
    "            G.add_edge(p1, p2)                    \n",
    "\n",
    "            G[p1][p2]['weight'] = d\n",
    "            G[p1][p2]['label'] = d\n",
    "            G[p1][p2]['penwidth']= 5*d/st['max_freq']\n",
    "            G[p1][p2]['color']= '#45daed'\n",
    "            \n",
    "    \n",
    "    draw_nx(G\n",
    "            \n",
    "              )        \n",
    "    \n",
    "    \n",
    "plot_network(stats_db,'Linguistics', 'Rome')"
   ]
  },
  {
   "cell_type": "raw",
   "id": "6942a18a",
   "metadata": {
    "format": "text/html"
   },
   "source": [
    "</div>"
   ]
  },
  {
   "cell_type": "code",
   "execution_count": 9,
   "metadata": {},
   "outputs": [],
   "source": [
    "\n",
    "from soft import draw_nx\n",
    "import networkx as nx\n",
    "\n",
    "def plot_network(stats, source_page, target_page, threshold=0):\n",
    "    raise Exception('TODO IMPLEMENT ME !')\n",
    "    \n",
    "plot_network(stats_db,'Linguistics', 'Rome')"
   ]
  },
  {
   "cell_type": "code",
   "execution_count": 10,
   "metadata": {
    "scrolled": false
   },
   "outputs": [],
   "source": [
    "\n",
    "plot_network(stats_db, 'Batman', 'Bible', 0)  # default threshold zero, big graph"
   ]
  },
  {
   "cell_type": "code",
   "execution_count": 11,
   "metadata": {},
   "outputs": [],
   "source": [
    "\n",
    "plot_network(stats_db, 'Batman', 'Bible', 1)   # we take only edges > 1"
   ]
  },
  {
   "cell_type": "code",
   "execution_count": 12,
   "metadata": {
    "nbsphinx": "hidden"
   },
   "outputs": [],
   "source": [],
   "transient": {
    "remove_source": true
   }
  }
 ],
 "metadata": {
  "celltoolbar": "Edit Metadata",
  "kernelspec": {
   "display_name": "Python 3 (ipykernel)",
   "language": "python",
   "name": "python3"
  },
  "language_info": {
   "codemirror_mode": {
    "name": "ipython",
    "version": 3
   },
   "file_extension": ".py",
   "mimetype": "text/x-python",
   "name": "python",
   "nbconvert_exporter": "python",
   "pygments_lexer": "ipython3",
   "version": "3.7.10"
  },
  "toc": {
   "base_numbering": 1,
   "nav_menu": {},
   "number_sections": false,
   "sideBar": true,
   "skip_h1_title": false,
   "title_cell": "Table of Contents",
   "title_sidebar": "Contents",
   "toc_cell": false,
   "toc_position": {},
   "toc_section_display": true,
   "toc_window_display": true
  }
 },
 "nbformat": 4,
 "nbformat_minor": 1
}
