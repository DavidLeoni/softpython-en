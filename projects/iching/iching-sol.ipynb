{
 "cells": [
  {
   "cell_type": "markdown",
   "metadata": {},
   "source": [
    "# I CHING Divination\n",
    "\n",
    "## [Download worked project](../../_static/generated/iching-prj.zip) \n",
    "\n",
    "[Browse files online](https://github.com/DavidLeoni/softpython-en/tree/master/projects/iching)\n",
    "\n",
    "![expected-plot-Will-I-pass-programming-exam-101100-preview](expected-plot-Will-I-pass-programming-exam-101100.png)\n",
    "\n",
    "The I Ching, or Book of Changes, is a chinese divination manual and philosophical text  which is believed to be one of the world's oldest books, dating from over 3,000 years ago. \n",
    "\n",
    "The great mathematician Gottfried Wilhelm Leibniz (1646 - 1716) is considered the first information theorist, and extensively documented the binary numeral system. Leibniz was also interested in Chinese culture, and [saw in the I Ching](https://en.wikipedia.org/wiki/Gottfried_Wilhelm_Leibniz#Sinophile) diagrams showing solid and broken lines called yin and yang, which progressed in a sequence: that was unmistakably a binary encoding. \n",
    "\n",
    "You will parse a dataset of hexagrams and develop a divinator software which will predict the outcome of your exams.\n",
    "\n",
    "Data source: [Wikipedia, July 2021, Bagua page](https://en.wikipedia.org/wiki/Bagua)"
   ]
  },
  {
   "cell_type": "markdown",
   "metadata": {},
   "source": [
    "\n",
    "## What to do\n",
    "\n",
    "1. Unzip exercises zip in a folder, you should obtain something like this:\n",
    "\n",
    "```\n",
    "iching-prj\n",
    "    iching.ipynb\n",
    "    iching-sol.ipynb\n",
    "    iching.csv\n",
    "    jupman.py\n",
    "```\n",
    "\n",
    "<div class=\"alert alert-warning\">\n",
    "\n",
    "**WARNING: to correctly visualize the notebook, it MUST be in an unzipped folder !**\n",
    "</div>"
   ]
  },
  {
   "cell_type": "markdown",
   "metadata": {},
   "source": [
    "2. open Jupyter Notebook from that folder. Two things should open, first a console and then a browser. The browser should show a file list: navigate the list and open the notebook `iching.ipynb`\n",
    "\n",
    "3. Go on reading the notebook, and write in the appropriate cells when asked"
   ]
  },
  {
   "cell_type": "markdown",
   "metadata": {},
   "source": [
    "Shortcut keys:\n",
    "\n",
    "- to execute Python code inside a Jupyter cell, press `Control + Enter`\n",
    "\n",
    "- to execute Python code inside a Jupyter cell AND select next cell, press `Shift + Enter`\n",
    "\n",
    "- to execute Python code inside a Jupyter cell AND a create a new cell aftwerwards, press `Alt + Enter`\n",
    "\n",
    "- If the notebooks look stuck, try to select `Kernel -> Restart`"
   ]
  },
  {
   "cell_type": "markdown",
   "metadata": {},
   "source": [
    "## The dataset"
   ]
  },
  {
   "cell_type": "markdown",
   "metadata": {},
   "source": [
    "**Yin and yang**: Yin and yang are represented by lines: \n",
    "\n",
    "|name|line|bit|\n",
    "|----|-----|---|\n",
    "|yin |`- -`| 0 |\n",
    "|yang|`---`| 1 |"
   ]
  },
  {
   "cell_type": "markdown",
   "metadata": {},
   "source": [
    "**Trigrams**: Different constructions of three yin and yang lines lead to 8 trigrams. We can express a trigram as a sequence of bits, reading lines from bottom to top. For example _Fire_ is `101`, _Thunder_ is `100`.\n",
    "\n",
    "![iching-lookup-table-header.png](img/iching-lookup-table-header.png)"
   ]
  },
  {
   "cell_type": "markdown",
   "metadata": {},
   "source": [
    "**Hexagrams**: Combining a lower trigram with an upper trigram leads to 64 hexagrams. Each hexagram can be represented as a sequence of bits and the outcome of a divination. For example trigrams _Fire_ (lower) and _Thunder_ (upper) gives outcome hexagram _Abounding_: `101100`"
   ]
  },
  {
   "cell_type": "markdown",
   "metadata": {},
   "source": [
    "![iching-lookup-table.png](img/iching-lookup-table.png)"
   ]
  },
  {
   "cell_type": "markdown",
   "metadata": {},
   "source": [
    "## 1. load_db\n",
    "\n",
    "Parse [iching.csv](iching.csv) and output a dictionary mapping each sequence to a dictionary with all the information you can extract. Use CSV reader.\n",
    "\n",
    "- in headers and first column you will find a bit sequence like `011`\n",
    "- in body cells, you will **not** find a bit sequence: you will have to determine it according to the corresponding tri-sequences from the header and first column\n",
    "- note for hexagrams you must extract **only** `name-en`, ignore the decimal numbers\n",
    "\n",
    "**Example** (complete output is in file [expected_iching_db.py](expected_iching_db.py)):\n",
    "\n",
    "```python\n",
    ">>> load_db('iching.csv')\n",
    "{\n",
    "    '111': {'name-en': 'Heaven', 'name-ch': '乾', 'spelling': 'Qián'}\n",
    "    '000': {'name-en': 'Earth', 'name-ch': '坤', 'spelling': 'Kūn'}\n",
    "    '100': {'name-en': 'Thunder', 'name-ch': '震', 'spelling': 'Zhèn'}\n",
    "    '010': {'name-en': 'Water', 'name-ch': '坎', 'spelling': 'Kǎn'}\n",
    "    '001': {'name-en': 'Mountain', 'name-ch': '艮', 'spelling': 'Gèn'}\n",
    "    '011': {'name-en': 'Air', 'name-ch': '巽', 'spelling': 'Xùn'}\n",
    "    '101': {'name-en': 'Fire', 'name-ch': '離', 'spelling': 'Lí'}\n",
    "    '110': {'name-en': 'Lake', 'name-ch': '兌', 'spelling': 'Duì'}\n",
    " '111111': {'name-en': 'Force'}\n",
    " '111000': {'name-en': 'Pervading'}\n",
    " '111100': {'name-en': 'Great Invigorating'}\n",
    " '111010': {'name-en': 'Attending'}\n",
    " '111001': {'name-en': 'Great Accumulating'}\n",
    " '111011': {'name-en': 'Small Harvest'}\n",
    " '111101': {'name-en': 'Great Possessing'}\n",
    "     .\n",
    "     .\n",
    "}\n",
    "```"
   ]
  },
  {
   "cell_type": "raw",
   "id": "7e98f36a",
   "metadata": {
    "format": "text/html"
   },
   "source": [
    "<a  class=\"jupman-sol jupman-sol-toggler\" \n",
    " onclick=\"jupman.toggleSolution(this);\" \n",
    " data-jupman-show=\"Show solution\" data-jupman-hide=\"Hide\">Show solution</a><div class=\"jupman-sol jupman-sol-code\" style=\"display:none\">  "
   ]
  },
  {
   "cell_type": "code",
   "execution_count": 1,
   "metadata": {
    "scrolled": false
   },
   "outputs": [],
   "source": [
    "import csv\n",
    "\n",
    "def load_db(filepath):\n",
    "    \n",
    "    with open(filepath, encoding='utf-8', newline='') as f:        \n",
    "        my_reader = csv.reader(f, delimiter=',')\n",
    "        header = next(my_reader)    \n",
    "        ret = {}\n",
    "        \n",
    "        linear = []\n",
    "        \n",
    "        for s in header[1:]:\n",
    "            diz = {}\n",
    "            tokens = s.split('\\n')\n",
    "            tks = tokens[0].split('\\xa0')\n",
    "            diz['name-en'] = tokens[2] \n",
    "            diz['name-ch'] = tks[0]\n",
    "            diz['spelling'] = tks[1]\n",
    "            code = tokens[1]\n",
    "            ret[code] = diz\n",
    "            linear.append(code)\n",
    "            \n",
    "        i = 1\n",
    "        for row in my_reader:                                \n",
    "            for j in range(1,len(row)):                \n",
    "                tokens = row[j].replace('\\n','').split()\n",
    "                num = int(tokens[0])\n",
    "                bottom = linear[i-1]\n",
    "                upper = linear[j-1]\n",
    "                ret[bottom + upper] = {\n",
    "                    'name-en':' '.join(tokens[1:])\n",
    "                }\n",
    "            i += 1            \n",
    "        return ret\n",
    "    \n",
    "\n",
    "iching_db = load_db('iching.csv')   \n",
    "iching_db\n"
   ]
  },
  {
   "cell_type": "raw",
   "id": "6305ac61",
   "metadata": {
    "format": "text/html"
   },
   "source": [
    "</div>"
   ]
  },
  {
   "cell_type": "code",
   "execution_count": 1,
   "metadata": {
    "scrolled": false
   },
   "outputs": [],
   "source": [
    "import csv\n",
    "\n",
    "def load_db(filepath):\n",
    "    raise Exception('TODO IMPLEMENT ME !')\n",
    "\n",
    "iching_db = load_db('iching.csv')   \n",
    "iching_db\n"
   ]
  },
  {
   "cell_type": "code",
   "execution_count": 2,
   "metadata": {
    "nbsphinx": "hidden"
   },
   "outputs": [],
   "source": [],
   "transient": {
    "remove_source": true
   }
  },
  {
   "cell_type": "code",
   "execution_count": 3,
   "metadata": {},
   "outputs": [],
   "source": [
    "# EXECUTE FOR TESTING\n",
    "from pprint import pformat; from expected_iching_db import expected_iching_db\n",
    "for seq in expected_iching_db.keys():\n",
    "    if seq not in iching_db: print('\\nERROR: MISSING sequence', seq); break    \n",
    "    for k in expected_iching_db[seq]:\n",
    "        if k not in iching_db[seq]:\n",
    "            print('\\nERROR at sequence', seq,'\\n\\n   MISSING key:', k); break    \n",
    "        if expected_iching_db[seq][k] != iching_db[seq][k]:\n",
    "            print('\\nERROR at sequence', seq, 'key:',k)\n",
    "            print('  ACTUAL:\\n', pformat(iching_db[seq][k]))\n",
    "            print('  EXPECTED:\\n', pformat(expected_iching_db[seq][k]))\n",
    "            break"
   ]
  },
  {
   "cell_type": "markdown",
   "metadata": {},
   "source": [
    "## 2. divine\n",
    "\n",
    "A divination is done by flipping 3 coins to determine the bottom trigram (**bottom up order**), flipping other three coins for the upper trigram (again **bottom up order**), and then the union gives the resulting hexagram. Write a function that PRINTS the process as in the example and RETURNS a string of bits representing the resulting hexagram\n",
    "\n",
    "**HINT**: to flip coins use `random.randint(0,1)`\n",
    "\n",
    "\n",
    "<div class=\"alert alert-warning\">\n",
    "    \n",
    "**WARNING: DOUBLE CHECK THE ORDER IN WHICH LINES ARE VISUALIZED!**    \n",
    "    \n",
    "</div>    "
   ]
  },
  {
   "cell_type": "markdown",
   "metadata": {},
   "source": [
    "**Example**: \n",
    "\n",
    "\n",
    "\n",
    "```python\n",
    ">>> divination = divine(iching_db, \"Will I pass the exam?\")\n",
    ">>> print(\"\\nRETURNED:\", divination)\n",
    "```\n",
    "```\n",
    "Dear stranger, welcome to SOFTPYTHON I CHING 易經 DIVINATOR\n",
    "\n",
    "Tell me your question...\n",
    "\n",
    "        Will I pass the exam?\n",
    "\n",
    "The coin says 'heads' : we get a yang ---\n",
    "The coin says 'tails' : we get a  yin - -\n",
    "The coin says 'heads' : we get a yang ---\n",
    "\n",
    "The sacred bottom trigram is:\n",
    "\n",
    "Fire\n",
    "\n",
    "   ---\n",
    "   - -\n",
    "   ---\n",
    "\n",
    "The coin says 'heads' : we get a yang ---\n",
    "The coin says 'tails' : we get a  yin - -\n",
    "The coin says 'tails' : we get a  yin - -\n",
    "\n",
    "The sacred upper trigram is:\n",
    "\n",
    "Thunder\n",
    "\n",
    "   - -\n",
    "   - -\n",
    "   ---\n",
    "\n",
    "The final response hexagram is...\n",
    "\n",
    "Abounding\n",
    "\n",
    "   - -\n",
    "   - -\n",
    "   ---\n",
    "   ---\n",
    "   - -\n",
    "   ---\n",
    "\n",
    "RETURNED: 101100\n",
    "```"
   ]
  },
  {
   "cell_type": "raw",
   "id": "89ce4b96",
   "metadata": {
    "format": "text/html"
   },
   "source": [
    "<a  class=\"jupman-sol jupman-sol-toggler\" \n",
    " onclick=\"jupman.toggleSolution(this);\" \n",
    " data-jupman-show=\"Show solution\" data-jupman-hide=\"Hide\">Show solution</a><div class=\"jupman-sol jupman-sol-code\" style=\"display:none\">  "
   ]
  },
  {
   "cell_type": "code",
   "execution_count": 4,
   "metadata": {},
   "outputs": [
    {
     "name": "stdout",
     "output_type": "stream",
     "text": [
      "\n",
      "Dear stranger, welcome to SOFTPYTHON I CHING 易經 DIVINATOR\n",
      "\n",
      "Tell me your question...\n",
      "\n",
      "        Will I pass the exam?\n",
      "\n",
      "The coin says 'heads' : we get a yang ---\n",
      "The coin says 'tails' : we get a  yin - -\n",
      "The coin says 'heads' : we get a yang ---\n",
      "\n",
      "The sacred bottom trigram is:\n",
      "\n",
      "Fire\n",
      "\n",
      "   ---\n",
      "   - -\n",
      "   ---\n",
      "\n",
      "The coin says 'heads' : we get a yang ---\n",
      "The coin says 'tails' : we get a  yin - -\n",
      "The coin says 'tails' : we get a  yin - -\n",
      "\n",
      "The sacred upper trigram is:\n",
      "\n",
      "Thunder\n",
      "\n",
      "   - -\n",
      "   - -\n",
      "   ---\n",
      "\n",
      "The final response hexagram is...\n",
      "\n",
      "Abounding\n",
      "\n",
      "   - -\n",
      "   - -\n",
      "   ---\n",
      "   ---\n",
      "   - -\n",
      "   ---\n",
      "\n",
      "RETURNED: 101100\n"
     ]
    }
   ],
   "source": [
    "\n",
    "import random\n",
    "\n",
    "def divine(iching, question):\n",
    "    \n",
    "    #THE SEED DETERMINES FOLLOWING randint RESULTS\n",
    "    random.seed(109)      # Abounding\n",
    "                          # Thunder  \n",
    "                          # Fire\n",
    "        \n",
    "    #IMPORTANT: try also this seed to check lines visualization order\n",
    "    #random.seed(1)                                  \n",
    "    #\n",
    "    # Infiltrating 001011\n",
    "    # Mountain ---\n",
    "    #          ---\n",
    "    #          - -\n",
    "    # Air      ---\n",
    "    #          - -\n",
    "    #          - -            \n",
    "    \n",
    "    \n",
    "    print()\n",
    "    print(\"Dear stranger, welcome to SOFTPYTHON I CHING 易經 DIVINATOR\")\n",
    "    print()\n",
    "    print(\"Tell me your question...\")\n",
    "    print()    \n",
    "    print('       ', question)\n",
    "    print()\n",
    "    \n",
    "    def get_trigram(part):\n",
    "        lst = []\n",
    "        stack = []\n",
    "        for i in range(3):\n",
    "            r = random.randint(0,1)\n",
    "            kind = 'yang' if r else ' yin'\n",
    "            line = '---' if r else '- -'\n",
    "            coin = \"'heads'\" if r else \"'tails'\"\n",
    "            print('The coin says', coin, ': we get a', kind, line)\n",
    "            stack.append(line)\n",
    "            lst.append(str(r))\n",
    "        stack.reverse()\n",
    "        digits = ''.join(lst)\n",
    "        print()    \n",
    "        print(\"The sacred\", part, \"trigram is:\",)\n",
    "        print()    \n",
    "\n",
    "        print(iching[digits]['name-en'])\n",
    "        print()\n",
    "        print('   ' + '\\n   '.join(stack))\n",
    "            \n",
    "        return (stack, ''.join(lst))\n",
    "    \n",
    "    bottom = get_trigram('bottom')\n",
    "    print()\n",
    "    upper = get_trigram('upper')        \n",
    "            \n",
    "    print()\n",
    "    print('The final response hexagram is...')\n",
    "    print()\n",
    "    print(iching[bottom[1] + upper[1]]['name-en'])\n",
    "    print()\n",
    "    print('   ' + '\\n   '.join(upper[0] + bottom[0]))\n",
    "        \n",
    "    return bottom[1] + upper[1]\n",
    "    \n",
    "\n",
    "divination = divine(iching_db, \"Will I pass the exam?\")\n",
    "print(\"\\nRETURNED:\", divination)"
   ]
  },
  {
   "cell_type": "raw",
   "id": "b0aa681e",
   "metadata": {
    "format": "text/html"
   },
   "source": [
    "</div>"
   ]
  },
  {
   "cell_type": "code",
   "execution_count": 4,
   "metadata": {},
   "outputs": [],
   "source": [
    "\n",
    "import random\n",
    "\n",
    "def divine(iching, question):\n",
    "    \n",
    "    #THE SEED DETERMINES FOLLOWING randint RESULTS\n",
    "    random.seed(109)      # Abounding\n",
    "                          # Thunder  \n",
    "                          # Fire\n",
    "        \n",
    "    #IMPORTANT: try also this seed to check lines visualization order\n",
    "    #random.seed(1)                                  \n",
    "    #\n",
    "    # Infiltrating 001011\n",
    "    # Mountain ---\n",
    "    #          ---\n",
    "    #          - -\n",
    "    # Air      ---\n",
    "    #          - -\n",
    "    #          - -            \n",
    "    \n",
    "    raise Exception('TODO IMPLEMENT ME !')\n",
    "\n",
    "divination = divine(iching_db, \"Will I pass the exam?\")\n",
    "print(\"\\nRETURNED:\", divination)"
   ]
  },
  {
   "cell_type": "markdown",
   "metadata": {},
   "source": [
    "## 3. plot_divination\n",
    "\n",
    "Given a divination as a string of bits, plot the divination. \n",
    "\n",
    "* first draw the lines, then the rest if you have time. \n",
    "* make it fancy with these [examples](https://en.softpython.org/visualization/visualization-sol.html#Fancy-plots)\n",
    "* to center text you can use these parameters: `ha='center', va='center'`\n",
    "\n",
    "![expected-plot-Will-I-pass-programming-exam-101100.png](expected-plot-Will-I-pass-programming-exam-101100.png)"
   ]
  },
  {
   "cell_type": "raw",
   "id": "701ed208",
   "metadata": {
    "format": "text/html"
   },
   "source": [
    "<a  class=\"jupman-sol jupman-sol-toggler\" \n",
    " onclick=\"jupman.toggleSolution(this);\" \n",
    " data-jupman-show=\"Show solution\" data-jupman-hide=\"Hide\">Show solution</a><div class=\"jupman-sol jupman-sol-code\" style=\"display:none\">  "
   ]
  },
  {
   "cell_type": "code",
   "execution_count": 5,
   "metadata": {
    "scrolled": false
   },
   "outputs": [
    {
     "data": {
      "image/png": "[encoded data removed]",
      "text/plain": [
       "<Figure size 720x360 with 1 Axes>"
      ]
     },
     "metadata": {
      "needs_background": "light"
     },
     "output_type": "display_data"
    }
   ],
   "source": [
    "\n",
    "%matplotlib inline\n",
    "import matplotlib.pyplot as plt\n",
    "\n",
    "def plot_divination(iching, question, divination):\n",
    "    \n",
    "    \n",
    "    fig = plt.figure(figsize=(10,5))\n",
    "    \n",
    "    plt.xlim(0,750)\n",
    "    plt.ylim(0,700)\n",
    "    \n",
    "    xl = 150\n",
    "    yd = 50\n",
    "    segw = 100\n",
    "    midx = 400\n",
    "\n",
    "    def plot_trigram(seq, yl):\n",
    "        plt.text(xl-35,\n",
    "                 yl + yd*2,\n",
    "                 iching[seq]['name-en'],\n",
    "                 fontsize=25,\n",
    "                 fontweight='bold',\n",
    "                 color=\"darkgray\",\n",
    "                 ha='center',\n",
    "                 va='center')\n",
    "\n",
    "        lw = 15\n",
    "        for i in range(3):\n",
    "            h = yl + yd*(i+1)\n",
    "            if seq[i] == '0':\n",
    "                plt.plot([xl + segw,xl + segw*2], [h,h],\n",
    "                         color='black',\n",
    "                         linewidth=lw)                \n",
    "                \n",
    "                plt.plot([xl + segw*3, xl + segw*4], [h,h],\n",
    "                         color='black',\n",
    "                         linewidth=lw)\n",
    "            else:\n",
    "                plt.plot([xl + segw,xl + segw*4], [h,h],\n",
    "                         color='black',\n",
    "                         linewidth=lw)\n",
    "\n",
    "    plt.text(midx,\n",
    "             570,\n",
    "             question,\n",
    "             fontsize=26,\n",
    "             fontweight='bold',\n",
    "             color=\"CornflowerBlue\", \n",
    "             ha='center')\n",
    "                \n",
    "    plot_trigram(divination[:3], 0)\n",
    "    plot_trigram(divination[3:], 170)\n",
    "        \n",
    "    plt.text(midx,\n",
    "             420,\n",
    "             iching[divination]['name-en'],\n",
    "             fontsize=32,\n",
    "             fontweight='bold',\n",
    "             color=\"orange\",\n",
    "             ha='center')\n",
    "                    \n",
    "    \n",
    "    plt.show()\n",
    "    \n",
    "    \n",
    "plot_divination(iching_db, \"Will I pass programming exam?\", '101100')  # Abounding\n",
    "#plot_divination(iching_db, \"Will I pass programming exam?\", '111011') # Small Harvest\n",
    "#plot_divination(iching_db, \"Will I pass programming exam?\",'001011')  # Infiltrating"
   ]
  },
  {
   "cell_type": "raw",
   "id": "7d47db8e",
   "metadata": {
    "format": "text/html"
   },
   "source": [
    "</div>"
   ]
  },
  {
   "cell_type": "code",
   "execution_count": 5,
   "metadata": {
    "scrolled": false
   },
   "outputs": [],
   "source": [
    "\n",
    "%matplotlib inline\n",
    "import matplotlib.pyplot as plt\n",
    "\n",
    "def plot_divination(iching, question, divination):\n",
    "    raise Exception('TODO IMPLEMENT ME !')\n",
    "    \n",
    "plot_divination(iching_db, \"Will I pass programming exam?\", '101100')  # Abounding\n",
    "#plot_divination(iching_db, \"Will I pass programming exam?\", '111011') # Small Harvest\n",
    "#plot_divination(iching_db, \"Will I pass programming exam?\",'001011')  # Infiltrating"
   ]
  }
 ],
 "metadata": {
  "celltoolbar": "Edit Metadata",
  "kernelspec": {
   "display_name": "Python 3 (ipykernel)",
   "language": "python",
   "name": "python3"
  },
  "language_info": {
   "codemirror_mode": {
    "name": "ipython",
    "version": 3
   },
   "file_extension": ".py",
   "mimetype": "text/x-python",
   "name": "python",
   "nbconvert_exporter": "python",
   "pygments_lexer": "ipython3",
   "version": "3.7.10"
  },
  "toc": {
   "base_numbering": 1,
   "nav_menu": {},
   "number_sections": false,
   "sideBar": true,
   "skip_h1_title": false,
   "title_cell": "Table of Contents",
   "title_sidebar": "Contents",
   "toc_cell": false,
   "toc_position": {},
   "toc_section_display": true,
   "toc_window_display": true
  }
 },
 "nbformat": 4,
 "nbformat_minor": 1
}
