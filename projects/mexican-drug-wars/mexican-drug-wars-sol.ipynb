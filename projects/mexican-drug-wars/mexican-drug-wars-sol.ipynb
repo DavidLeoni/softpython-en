{
 "cells": [
  {
   "cell_type": "markdown",
   "metadata": {},
   "source": [
    "# Mexican Drug Wars\n",
    "\n",
    "## [Download worked project](../../_static/generated/mexican-drug-wars-prj.zip) \n",
    "\n",
    "[Browse files online](https://github.com/DavidLeoni/softpython-en/tree/master/projects/mexican-drug-wars)\n",
    "\n",
    "Drug cartels carried out a shocking wave of lethal attacks against hundreds of local elected officials and party candidates in Mexico during years 2007-2012, attempting to establish criminal governance regimes and conquer local governments, populations, and territories. This quickly forced Mexican authorities to deploy armored vehicles with heavy weapons to perform military operations within their own borders. You will analyze cartels attacks frequency and where they occurred.\n",
    "\n",
    "![expected-plot-preview.png](expected-plot-16.png)\n",
    "\n",
    "Data sources:\n",
    "\n",
    "- Trejo, Guillermo; Ley, Sandra, 2019, \"Replication Data for: High-Profile Criminal Violence. Why Drug Cartels Murder Government Officials and Party Candidates in Mexico\", https://doi.org/10.7910/DVN/VIXNNE, Harvard Dataverse, V1, UNF:6:BcqInKD9NBX3NkI48CdqpQ== [fileUNF]  License: CC0 - \"Public Domain Dedication\" \n",
    "\n",
    "- Coscia, Michele and Viridiana Rios (2012). Knowing Where and How Criminal Organizations Operate Using Web Content. CIKM, 12 (October – November). https://www.michelecoscia.com/?page_id=1032"
   ]
  },
  {
   "cell_type": "markdown",
   "metadata": {},
   "source": [
    "## What to do\n",
    "\n",
    "1. Unzip exercises zip in a folder, you should obtain something like this:\n",
    "\n",
    "```\n",
    "bus-speed-prj\n",
    "    mexican-drug-wars.ipynb\n",
    "    mexican-drug-wars-sol.ipynb\n",
    "    \n",
    "    jupman.py\n",
    "```\n",
    "\n",
    "<div class=\"alert alert-warning\">\n",
    "\n",
    "**WARNING: to correctly visualize the notebook, it MUST be in an unzipped folder !**\n",
    "</div>"
   ]
  },
  {
   "cell_type": "markdown",
   "metadata": {},
   "source": [
    "2. open Jupyter Notebook from that folder. Two things should open, first a console and then a browser. The browser should show a file list: navigate the list and open the notebook `mexican-drug-wars.ipynb`\n",
    "\n",
    "3. Go on reading the notebook, and write in the appropriate cells when asked"
   ]
  },
  {
   "cell_type": "markdown",
   "metadata": {},
   "source": [
    "Shortcut keys:\n",
    "\n",
    "- to execute Python code inside a Jupyter cell, press `Control + Enter`\n",
    "\n",
    "- to execute Python code inside a Jupyter cell AND select next cell, press `Shift + Enter`\n",
    "\n",
    "- to execute Python code inside a Jupyter cell AND a create a new cell aftwerwards, press `Alt + Enter`\n",
    "\n",
    "- If the notebooks look stuck, try to select `Kernel -> Restart`"
   ]
  },
  {
   "cell_type": "markdown",
   "metadata": {},
   "source": [
    "## Election attacks dataset\n",
    "\n",
    "In the file [Dataset_HighProfileCriminalViolence.tab](Dataset_HighProfileCriminalViolence.tab)\n",
    "are listed the number of attacks occurred to elected officials in Mexico from years 2007 to 2012. Focus only on columns `cve_inegi`, `state`, `year`,  `aggr_sum`, `elect_local`:"
   ]
  },
  {
   "cell_type": "code",
   "execution_count": 1,
   "metadata": {
    "scrolled": false
   },
   "outputs": [
    {
     "data": {
      "text/html": [
       "<div>\n",
       "<style scoped>\n",
       "    .dataframe tbody tr th:only-of-type {\n",
       "        vertical-align: middle;\n",
       "    }\n",
       "\n",
       "    .dataframe tbody tr th {\n",
       "        vertical-align: top;\n",
       "    }\n",
       "\n",
       "    .dataframe thead th {\n",
       "        text-align: right;\n",
       "    }\n",
       "</style>\n",
       "<table border=\"1\" class=\"dataframe\">\n",
       "  <thead>\n",
       "    <tr style=\"text-align: right;\">\n",
       "      <th></th>\n",
       "      <th>cve_inegi</th>\n",
       "      <th>state</th>\n",
       "      <th>year</th>\n",
       "      <th>aggr_sum</th>\n",
       "      <th>elect_local</th>\n",
       "    </tr>\n",
       "  </thead>\n",
       "  <tbody>\n",
       "    <tr>\n",
       "      <th>2278</th>\n",
       "      <td>12031</td>\n",
       "      <td>Guerrero</td>\n",
       "      <td>2012</td>\n",
       "      <td>2</td>\n",
       "      <td>1.0</td>\n",
       "    </tr>\n",
       "    <tr>\n",
       "      <th>2279</th>\n",
       "      <td>12032</td>\n",
       "      <td>Guerrero</td>\n",
       "      <td>2007</td>\n",
       "      <td>0</td>\n",
       "      <td>0.0</td>\n",
       "    </tr>\n",
       "    <tr>\n",
       "      <th>2280</th>\n",
       "      <td>12032</td>\n",
       "      <td>Guerrero</td>\n",
       "      <td>2008</td>\n",
       "      <td>0</td>\n",
       "      <td>1.0</td>\n",
       "    </tr>\n",
       "    <tr>\n",
       "      <th>2281</th>\n",
       "      <td>12032</td>\n",
       "      <td>Guerrero</td>\n",
       "      <td>2009</td>\n",
       "      <td>1</td>\n",
       "      <td>0.0</td>\n",
       "    </tr>\n",
       "  </tbody>\n",
       "</table>\n",
       "</div>"
      ],
      "text/plain": [
       "      cve_inegi     state  year  aggr_sum  elect_local\n",
       "2278      12031  Guerrero  2012         2          1.0\n",
       "2279      12032  Guerrero  2007         0          0.0\n",
       "2280      12032  Guerrero  2008         0          1.0\n",
       "2281      12032  Guerrero  2009         1          0.0"
      ]
     },
     "execution_count": 1,
     "metadata": {},
     "output_type": "execute_result"
    }
   ],
   "source": [],
   "transient": {
    "remove_source": true
   }
  },
  {
   "cell_type": "markdown",
   "metadata": {},
   "source": [
    "* Municipalities where the attack occurred are identified by a 5 digits `cve_inegi` code: first two digits indicate the state, 3 last ones the town. **NOTE**: first file entries only have 4 digits as the leading zero is implied, take care of this case\n",
    "* `aggr_sum`: number of attacks occurred in a particular municipality / year.\n",
    "* `elect_local`: `1.0` if a **local** election occurred in the year of the attack (ignore other `elect_*`)"
   ]
  },
  {
   "cell_type": "markdown",
   "metadata": {},
   "source": [
    "## 1. load_mexico\n",
    "\n",
    "Extract Mexican state codes, names, the counts of attacks, and the years when **local** elections occurred, and RETURN a dictionary of dictionaries mapping **two digit** state codes **as strings** to the extracted info.\n",
    "\n",
    "* use `csv.DictReader` with `delimiter='\\t'` and `utf8` encoding (municipalities will look weird but we don't use them)\n",
    "* use exactly 6 cells for `attacks` lists: assume all were carried out between `2007`and `2012` included\n",
    "* **DO NOT** assume the years in rows repeat with a pattern, for example municipality `21132` has two successive 2012 years!"
   ]
  },
  {
   "cell_type": "markdown",
   "metadata": {},
   "source": [
    "**Example EXERPT** (note keys order doesn't matter, complete expected output can be found in [expected_mexico_db.py](expected_mexico_db.py))\n",
    "\n",
    "```python\n",
    ">>> load('Dataset_HighProfileCriminalViolence.tab')\n",
    "\n",
    "{\n",
    "  '08': {\n",
    "              'attacks': [0, 5, 7, 12, 7, 2],\n",
    "              'local_election_years': [2007, 2010],\n",
    "              'state_code': '08',\n",
    "              'state_name': 'Chihuahua'\n",
    "             }\n",
    "  '12': {\n",
    "              'attacks': [4, 11, 11, 9, 3, 10],\n",
    "              'local_election_years': [2008, 2011, 2012],\n",
    "              'state_code': '12',\n",
    "              'state_name': 'Guerrero'\n",
    "             }\n",
    "  .\n",
    "  .\n",
    "  .\n",
    "}\n",
    "```"
   ]
  },
  {
   "cell_type": "raw",
   "id": "831dce36",
   "metadata": {
    "format": "text/html"
   },
   "source": [
    "<a  class=\"jupman-sol jupman-sol-toggler\" \n",
    " onclick=\"jupman.toggleSolution(this);\" \n",
    " data-jupman-show=\"Show solution\" data-jupman-hide=\"Hide\">Show solution</a><div class=\"jupman-sol jupman-sol-code\" style=\"display:none\">  "
   ]
  },
  {
   "cell_type": "code",
   "execution_count": 2,
   "metadata": {
    "scrolled": false
   },
   "outputs": [],
   "source": [
    "\n",
    "import csv\n",
    "\n",
    "def load(filename):\n",
    "    \n",
    "    \n",
    "    with open(filename, encoding='utf8', newline='') as csvfile_in:\n",
    "        my_reader = csv.DictReader(csvfile_in, delimiter='\\t')\n",
    "\n",
    "        ret = {}\n",
    "\n",
    "        for d in my_reader:\n",
    "            if len(d['cve_inegi']) == 4:\n",
    "                inegi = '0' + d['cve_inegi']\n",
    "            else:\n",
    "                inegi = d['cve_inegi']\n",
    "                \n",
    "            state_code = inegi[:2]\n",
    "            \n",
    "            if not state_code in ret:\n",
    "                ret[state_code] = {'attacks':[0]*6,\n",
    "                                   'local_election_years' : [],\n",
    "                                   'state_name': '',\n",
    "                                   'state_code': state_code}\n",
    "            rd = ret[state_code]            \n",
    "            year = int(d['year'])                         \n",
    "            rd['state_code'] = state_code\n",
    "            rd['state_name'] = d['state']            \n",
    "            rd['attacks'][year - 2007] += int(d['aggr_sum'])\n",
    "            \n",
    "            if d['elect_local'] == '1.0':  \n",
    "                if year not in rd['local_election_years']:\n",
    "                    rd['local_election_years'].append(year)\n",
    "    \n",
    "    for rd in ret:        \n",
    "        ret[rd]['local_election_years'].sort()\n",
    "                    \n",
    "    return ret\n",
    "    \n",
    "\n",
    "mexico_db = load('Dataset_HighProfileCriminalViolence.tab')\n",
    "mexico_db\n"
   ]
  },
  {
   "cell_type": "raw",
   "id": "9cecdecb",
   "metadata": {
    "format": "text/html"
   },
   "source": [
    "</div>"
   ]
  },
  {
   "cell_type": "code",
   "execution_count": 2,
   "metadata": {
    "scrolled": false
   },
   "outputs": [],
   "source": [
    "\n",
    "import csv\n",
    "\n",
    "def load(filename):\n",
    "    raise Exception('TODO IMPLEMENT ME !')\n",
    "\n",
    "mexico_db = load('Dataset_HighProfileCriminalViolence.tab')\n",
    "mexico_db\n"
   ]
  },
  {
   "cell_type": "code",
   "execution_count": 3,
   "metadata": {
    "nbsphinx": "hidden"
   },
   "outputs": [],
   "source": [],
   "transient": {
    "remove_source": true
   }
  },
  {
   "cell_type": "code",
   "execution_count": 4,
   "metadata": {},
   "outputs": [],
   "source": [
    "# TESTING\n",
    "from pprint import pformat; from expected_mexico_db import expected_mexico_db\n",
    "for sid in expected_mexico_db.keys():\n",
    "    if sid not in mexico_db: print('\\nERROR: MISSING state', sid); break    \n",
    "    for k in expected_mexico_db[sid]:\n",
    "        if k not in mexico_db[sid]:\n",
    "            print('\\nERROR at state', sid,'\\n\\n   MISSING key:', k); break    \n",
    "        if expected_mexico_db[sid][k] != mexico_db[sid][k]:\n",
    "            print('\\nERROR at state', sid, 'key:',k)\n",
    "            print('  ACTUAL:\\n', pformat(mexico_db[sid][k]))\n",
    "            print('  EXPECTED:\\n', pformat(expected_mexico_db[sid][k]))\n",
    "            break\n",
    "if len(mexico_db) > len(expected_mexico_db):\n",
    "    print('ERROR! There are more states than expected!')\n",
    "    print('  ACTUAL:\\n', len(mexico_db))\n",
    "    print('  EXPECTED:\\n', len(expected_mexico_db))"
   ]
  },
  {
   "cell_type": "markdown",
   "metadata": {},
   "source": [
    "## 2. show_attacks\n",
    "\n",
    "Given a `state_code` and , display a chart of the attack counts over the years. \n",
    "\n",
    "- normalize the height so to have all charts as high as the maximum possible attack count in the db\n",
    "- show vertical dashed lines in proximity of election years (use `linestyle='dashed'`), using the same color\n",
    "- you are allowed to use constants for years\n",
    "- **make sure vertical lines on borders are clearly visible** and separated from borders by setting proper limits\n",
    "- **remember** to also print the maximum possible attack count in the db\n",
    "\n",
    "**Examples**:\n",
    "\n",
    "```\n",
    ">>> show_attacks('12', mexico_db)  \n",
    "max attacks happened in any state: 39\n",
    "```\n",
    "![expected-plot-12.png](expected-plot-12.png)\n",
    "\n",
    "```\n",
    ">>> show_attacks('16', mexico_db)  \n",
    "max attacks happened in any state: 39\n",
    "```\n",
    "![expected-plot-16.png](expected-plot-16.png)"
   ]
  },
  {
   "cell_type": "raw",
   "id": "dc8252ac",
   "metadata": {
    "format": "text/html"
   },
   "source": [
    "<a  class=\"jupman-sol jupman-sol-toggler\" \n",
    " onclick=\"jupman.toggleSolution(this);\" \n",
    " data-jupman-show=\"Show solution\" data-jupman-hide=\"Hide\">Show solution</a><div class=\"jupman-sol jupman-sol-code\" style=\"display:none\">  "
   ]
  },
  {
   "cell_type": "code",
   "execution_count": 5,
   "metadata": {},
   "outputs": [
    {
     "name": "stdout",
     "output_type": "stream",
     "text": [
      "max attacks happened in any state: 39\n"
     ]
    },
    {
     "data": {
      "image/png": "[encoded data removed]",
      "text/plain": [
       "<Figure size 252x144 with 1 Axes>"
      ]
     },
     "metadata": {
      "needs_background": "light"
     },
     "output_type": "display_data"
    }
   ],
   "source": [
    "\n",
    "%matplotlib inline\n",
    "import matplotlib.pyplot as plt\n",
    "\n",
    "def show_attacks(state_code, mexdb):\n",
    "    \n",
    "   \n",
    "    attacks = mexdb[state_code]['attacks']        \n",
    "    \n",
    "    plt.figure(figsize=(3.5,2))\n",
    "    maxy = 0\n",
    "    for s in mexdb:\n",
    "        maxy = max(maxy, max(mexdb[s]['attacks']))\n",
    "            \n",
    "    print(\"max attacks happened in any state:\", maxy)  \n",
    "        \n",
    "    xs = range(2007, 2013)\n",
    "    ys = mexdb[state_code]['attacks']\n",
    "    \n",
    "    plt.plot(xs, ys, color='orange')\n",
    "\n",
    "    plt.title(\"Attacks per year in %s state\" % mexdb[state_code]['state_name'])\n",
    "    plt.xlabel('Year')\n",
    "    plt.ylabel('Number of attacks')\n",
    "    \n",
    "    for year in mexdb[state_code]['local_election_years']:\n",
    "        plt.plot([year, year], [0, maxy], color='lightgreen', linestyle='dashed')\n",
    "    \n",
    "    plt.savefig('expected-plot-%s.png' % state_code)\n",
    "    plt.show()\n",
    "    \n",
    "\n",
    "show_attacks('12', mexico_db)  # Guerrero"
   ]
  },
  {
   "cell_type": "raw",
   "id": "a1a65807",
   "metadata": {
    "format": "text/html"
   },
   "source": [
    "</div>"
   ]
  },
  {
   "cell_type": "code",
   "execution_count": 5,
   "metadata": {},
   "outputs": [],
   "source": [
    "\n",
    "%matplotlib inline\n",
    "import matplotlib.pyplot as plt\n",
    "\n",
    "def show_attacks(state_code, mexdb):\n",
    "    raise Exception('TODO IMPLEMENT ME !')\n",
    "\n",
    "show_attacks('12', mexico_db)  # Guerrero"
   ]
  },
  {
   "cell_type": "code",
   "execution_count": 6,
   "metadata": {},
   "outputs": [
    {
     "name": "stdout",
     "output_type": "stream",
     "text": [
      "max attacks happened in any state: 39\n"
     ]
    },
    {
     "data": {
      "image/png": "[encoded data removed]",
      "text/plain": [
       "<Figure size 252x144 with 1 Axes>"
      ]
     },
     "metadata": {
      "needs_background": "light"
     },
     "output_type": "display_data"
    }
   ],
   "source": [
    "show_attacks('16', mexico_db)   # Michoacan"
   ]
  },
  {
   "cell_type": "markdown",
   "metadata": {},
   "source": [
    "## 3. Cartels\n",
    "\n",
    "The file [CosciaRios2012_DataBase.csv](CosciaRios2012_DataBase.csv) lists attacks performed by criminal organizations (cartels) in various years. For each row, the columns from 3-12 have a `1` if the corresponding cartel named in the header was involved in the attack, and `0` otherwise. Example:"
   ]
  },
  {
   "cell_type": "code",
   "execution_count": 7,
   "metadata": {},
   "outputs": [
    {
     "data": {
      "text/html": [
       "<div>\n",
       "<style scoped>\n",
       "    .dataframe tbody tr th:only-of-type {\n",
       "        vertical-align: middle;\n",
       "    }\n",
       "\n",
       "    .dataframe tbody tr th {\n",
       "        vertical-align: top;\n",
       "    }\n",
       "\n",
       "    .dataframe thead th {\n",
       "        text-align: right;\n",
       "    }\n",
       "</style>\n",
       "<table border=\"1\" class=\"dataframe\">\n",
       "  <thead>\n",
       "    <tr style=\"text-align: right;\">\n",
       "      <th></th>\n",
       "      <th>Code</th>\n",
       "      <th>State</th>\n",
       "      <th>Year</th>\n",
       "      <th>Beltran_Leyva</th>\n",
       "      <th>Beltran_Leyva_Family</th>\n",
       "      <th>Familia</th>\n",
       "      <th>Golfo</th>\n",
       "      <th>Juarez</th>\n",
       "      <th>Sinaloa</th>\n",
       "      <th>Sinaloa_Family</th>\n",
       "      <th>Tijuana</th>\n",
       "      <th>Zetas</th>\n",
       "      <th>Otros</th>\n",
       "    </tr>\n",
       "  </thead>\n",
       "  <tbody>\n",
       "    <tr>\n",
       "      <th>17</th>\n",
       "      <td>1001</td>\n",
       "      <td>1</td>\n",
       "      <td>2007</td>\n",
       "      <td>0</td>\n",
       "      <td>0</td>\n",
       "      <td>1</td>\n",
       "      <td>0</td>\n",
       "      <td>0</td>\n",
       "      <td>0</td>\n",
       "      <td>0</td>\n",
       "      <td>0</td>\n",
       "      <td>1</td>\n",
       "      <td>0</td>\n",
       "    </tr>\n",
       "    <tr>\n",
       "      <th>18</th>\n",
       "      <td>1001</td>\n",
       "      <td>1</td>\n",
       "      <td>2008</td>\n",
       "      <td>0</td>\n",
       "      <td>0</td>\n",
       "      <td>1</td>\n",
       "      <td>0</td>\n",
       "      <td>1</td>\n",
       "      <td>0</td>\n",
       "      <td>0</td>\n",
       "      <td>0</td>\n",
       "      <td>0</td>\n",
       "      <td>0</td>\n",
       "    </tr>\n",
       "    <tr>\n",
       "      <th>19</th>\n",
       "      <td>1001</td>\n",
       "      <td>1</td>\n",
       "      <td>2009</td>\n",
       "      <td>0</td>\n",
       "      <td>0</td>\n",
       "      <td>1</td>\n",
       "      <td>1</td>\n",
       "      <td>0</td>\n",
       "      <td>1</td>\n",
       "      <td>0</td>\n",
       "      <td>0</td>\n",
       "      <td>1</td>\n",
       "      <td>0</td>\n",
       "    </tr>\n",
       "  </tbody>\n",
       "</table>\n",
       "</div>"
      ],
      "text/plain": [
       "    Code  State  Year  Beltran_Leyva  Beltran_Leyva_Family  Familia  Golfo  \\\n",
       "17  1001      1  2007              0                     0        1      0   \n",
       "18  1001      1  2008              0                     0        1      0   \n",
       "19  1001      1  2009              0                     0        1      1   \n",
       "\n",
       "    Juarez  Sinaloa  Sinaloa_Family  Tijuana  Zetas  Otros  \n",
       "17       0        0               0        0      1      0  \n",
       "18       1        0               0        0      0      0  \n",
       "19       0        1               0        0      1      0  "
      ]
     },
     "execution_count": 7,
     "metadata": {},
     "output_type": "execute_result"
    }
   ],
   "source": [],
   "transient": {
    "remove_source": true
   }
  },
  {
   "cell_type": "markdown",
   "metadata": {},
   "source": [
    "Write a function which given a `filename` and a `year`, processes the dataset and RETURN a dictionary mapping cartel names to a list of **sorted** states (no duplicates) where the cartel performed attacks in the given `year`. \n",
    "\n",
    "- use a `csv.reader` with `utf8` encoding\n",
    "- pick state code from `State` column and state names from previous `mexico_db` (you only need names) - if missing put state code (i.e. `09`)\n",
    "- **NOTE**: `Sinaloa` is a special case, since it is both a state and a cartel."
   ]
  },
  {
   "cell_type": "markdown",
   "metadata": {},
   "source": [
    "**Example**:\n",
    "    \n",
    "```python\n",
    ">>> cartels('CosciaRios2012_DataBase.csv', mexico_db, 2003)\n",
    "\n",
    "{\n",
    " 'Beltran_Leyva': ['Colima', 'Morelos', 'Sinaloa'],\n",
    " 'Beltran_Leyva_Family': [],\n",
    " 'Familia': [],\n",
    " 'Golfo': ['Campeche',   'Chihuahua',       'Coahuila',   'Durango',  'Mexico', \n",
    "           'Nuevo Leon', 'San Luis Potosi', 'Tamaulipas', 'Veracruz', 'Yucatan'],\n",
    " 'Juarez': ['Baja California', 'Chihuahua', 'Coahuila', 'Colima', \n",
    "            'Durango', 'Guerrero', 'Jalisco', 'Sinaloa', 'Tamaulipas'],\n",
    " 'Otros': ['Veracruz'],\n",
    " 'Sinaloa': ['Chiapas', 'Colima',     'Jalisco', 'Mexico', \n",
    "             'Nayarit', 'Nuevo Leon', 'Sinaloa', 'Sonora', 'Tamaulipas'],\n",
    " 'Sinaloa_Family': ['Guerrero'],\n",
    " 'Tijuana': ['Aguascalientes', 'Baja California', 'Chiapas',   'Chihuahua', 'Coahuila', 'Guerrero',\n",
    "             'Jalisco',         'Mexico',         'Michoacan', 'Nuevo Leon', 'Puebla',  'Sinaloa',\n",
    "             'Sonora'],\n",
    " 'Zetas': ['Campeche',   'Guanajuato', 'Jalisco',    'Mexico', \n",
    "           'Nuevo Leon', 'Sinaloa',    'Tamaulipas', 'Veracruz', 'Yucatan']\n",
    "}\n",
    "```"
   ]
  },
  {
   "cell_type": "raw",
   "id": "140b62de",
   "metadata": {
    "format": "text/html"
   },
   "source": [
    "<a  class=\"jupman-sol jupman-sol-toggler\" \n",
    " onclick=\"jupman.toggleSolution(this);\" \n",
    " data-jupman-show=\"Show solution\" data-jupman-hide=\"Hide\">Show solution</a><div class=\"jupman-sol jupman-sol-code\" style=\"display:none\">  "
   ]
  },
  {
   "cell_type": "code",
   "execution_count": 8,
   "metadata": {
    "scrolled": false
   },
   "outputs": [
    {
     "name": "stdout",
     "output_type": "stream",
     "text": [
      "{'Beltran_Leyva': ['Colima', 'Morelos', 'Sinaloa'],\n",
      " 'Beltran_Leyva_Family': [],\n",
      " 'Familia': [],\n",
      " 'Golfo': ['Campeche', 'Chihuahua', 'Coahuila', 'Durango', 'Mexico', 'Nuevo Leon', 'San Luis Potosi', 'Tamaulipas', 'Veracruz', 'Yucatan'],\n",
      " 'Juarez': ['Baja California', 'Chihuahua', 'Coahuila', 'Colima', 'Durango', 'Guerrero', 'Jalisco', 'Sinaloa', 'Tamaulipas'],\n",
      " 'Otros': ['Veracruz'],\n",
      " 'Sinaloa': ['Chiapas', 'Colima', 'Jalisco', 'Mexico', 'Nayarit', 'Nuevo Leon', 'Sinaloa', 'Sonora', 'Tamaulipas'],\n",
      " 'Sinaloa_Family': ['Guerrero'],\n",
      " 'Tijuana': ['Aguascalientes', 'Baja California', 'Chiapas', 'Chihuahua', 'Coahuila', 'Guerrero', 'Jalisco', 'Mexico', 'Michoacan', 'Nuevo Leon', 'Puebla', 'Sinaloa', 'Sonora'],\n",
      " 'Zetas': ['Campeche', 'Guanajuato', 'Jalisco', 'Mexico', 'Nuevo Leon', 'Sinaloa', 'Tamaulipas', 'Veracruz', 'Yucatan']}\n"
     ]
    }
   ],
   "source": [
    "\n",
    "import csv\n",
    "def cartels(filename, mexdb, year):\n",
    "    \n",
    "               \n",
    "    \n",
    "    work = {}\n",
    "        \n",
    "    with open(filename, encoding='utf8', newline='') as csvfile_in:\n",
    "        my_reader = csv.reader(csvfile_in, delimiter=',')\n",
    "        \n",
    "        header = next(my_reader)\n",
    "        \n",
    "        for cartel_name in header[3:]:\n",
    "            work[cartel_name] = set()\n",
    "                         \n",
    "        for row in my_reader:            \n",
    "            row_year = int(row[2])\n",
    "            if row_year == year:\n",
    "                inegi = row[0]            \n",
    "                if len(row[1]) == 1:\n",
    "                    state_code = '0' + row[1]\n",
    "                else:\n",
    "                    state_code = row[1]                                                                        \n",
    "                if state_code in mexdb:\n",
    "                    state_name = mexdb[state_code]['state_name']\n",
    "                else:\n",
    "                    state_name = state_code\n",
    "\n",
    "                for j in range(3,len(row)):\n",
    "                    if row[j] == '1':\n",
    "                        org_name = header[j]                            \n",
    "                        work[org_name].add(state_name)\n",
    "                                        \n",
    "        ret = {}\n",
    "        for k,v in work.items():\n",
    "            ret[k] = sorted(v)\n",
    "        return ret\n",
    "    \n",
    "       \n",
    "cartels2003 = cartels('CosciaRios2012_DataBase.csv', mexico_db, 2003)\n",
    "from pprint import pprint\n",
    "pprint(cartels2003, width=190)\n",
    "\n",
    "assert cartels2003['Beltran_Leyva'] == ['Colima', 'Morelos', 'Sinaloa']\n",
    "assert cartels2003['Otros'] ==  ['Veracruz']\n",
    "assert cartels2003['Zetas'] ==  ['Campeche', 'Guanajuato', 'Jalisco', 'Mexico', 'Nuevo Leon', 'Sinaloa', 'Tamaulipas', 'Veracruz', 'Yucatan']"
   ]
  },
  {
   "cell_type": "raw",
   "id": "11a0075b",
   "metadata": {
    "format": "text/html"
   },
   "source": [
    "</div>"
   ]
  },
  {
   "cell_type": "code",
   "execution_count": 8,
   "metadata": {
    "scrolled": false
   },
   "outputs": [],
   "source": [
    "\n",
    "import csv\n",
    "def cartels(filename, mexdb, year):\n",
    "    raise Exception('TODO IMPLEMENT ME !')\n",
    "       \n",
    "cartels2003 = cartels('CosciaRios2012_DataBase.csv', mexico_db, 2003)\n",
    "from pprint import pprint\n",
    "pprint(cartels2003, width=190)\n",
    "\n",
    "assert cartels2003['Beltran_Leyva'] == ['Colima', 'Morelos', 'Sinaloa']\n",
    "assert cartels2003['Otros'] ==  ['Veracruz']\n",
    "assert cartels2003['Zetas'] ==  ['Campeche', 'Guanajuato', 'Jalisco', 'Mexico', 'Nuevo Leon', 'Sinaloa', 'Tamaulipas', 'Veracruz', 'Yucatan']"
   ]
  },
  {
   "cell_type": "code",
   "execution_count": 9,
   "metadata": {},
   "outputs": [],
   "source": [
    "# further tests\n",
    "expected2003 = {\n",
    " 'Beltran_Leyva': ['Colima', 'Morelos', 'Sinaloa'],\n",
    " 'Beltran_Leyva_Family':[],\n",
    " 'Familia': [],\n",
    " 'Golfo':   ['Campeche', 'Chihuahua', 'Coahuila', 'Durango', 'Mexico', 'Nuevo Leon', 'San Luis Potosi', 'Tamaulipas', 'Veracruz', 'Yucatan'],\n",
    " 'Juarez':  ['Baja California', 'Chihuahua', 'Coahuila', 'Colima', 'Durango', 'Guerrero', 'Jalisco', 'Sinaloa', 'Tamaulipas'],\n",
    " 'Otros':   ['Veracruz'],\n",
    " 'Sinaloa': ['Chiapas', 'Colima', 'Jalisco', 'Mexico', 'Nayarit', 'Nuevo Leon', 'Sinaloa', 'Sonora', 'Tamaulipas'],\n",
    " 'Sinaloa_Family': ['Guerrero'],\n",
    " 'Tijuana': ['Aguascalientes', 'Baja California', 'Chiapas', 'Chihuahua', 'Coahuila', 'Guerrero', 'Jalisco', 'Mexico', 'Michoacan', 'Nuevo Leon', 'Puebla', 'Sinaloa', 'Sonora'],\n",
    " 'Zetas':   ['Campeche', 'Guanajuato', 'Jalisco', 'Mexico', 'Nuevo Leon', 'Sinaloa', 'Tamaulipas', 'Veracruz', 'Yucatan']\n",
    "}\n",
    "\n",
    "assert cartels2003 == expected2003\n",
    "\n",
    "expected1999 = {\n",
    "    'Beltran_Leyva': [],\n",
    "    'Beltran_Leyva_Family': [],\n",
    "    'Familia': [],\n",
    "    'Golfo':   ['Baja California', 'Guanajuato', 'Nuevo Leon', 'Puebla'],\n",
    "    'Juarez':  ['Baja California', 'Chihuahua', 'Durango', 'Tamaulipas', 'Veracruz'],\n",
    "    'Sinaloa': ['Jalisco', 'Veracruz'],\n",
    "    'Sinaloa_Family': [],\n",
    "    'Tijuana': ['Baja California', 'Campeche', 'Coahuila', 'Nuevo Leon', 'Sonora', 'Tamaulipas', 'Yucatan'],\n",
    "    'Zetas':   ['Baja California', 'Mexico', 'Morelos', 'Sinaloa', 'Sonora'],\n",
    "    'Otros':   []\n",
    "}\n",
    "\n",
    "cartels1999 = cartels('CosciaRios2012_DataBase.csv', mexico_db, 1999)  \n",
    "assert cartels1999 == expected1999"
   ]
  },
  {
   "cell_type": "code",
   "execution_count": 10,
   "metadata": {
    "nbsphinx": "hidden"
   },
   "outputs": [],
   "source": [],
   "transient": {
    "remove_source": true
   }
  }
 ],
 "metadata": {
  "celltoolbar": "Edit Metadata",
  "kernelspec": {
   "display_name": "Python 3 (ipykernel)",
   "language": "python",
   "name": "python3"
  },
  "language_info": {
   "codemirror_mode": {
    "name": "ipython",
    "version": 3
   },
   "file_extension": ".py",
   "mimetype": "text/x-python",
   "name": "python",
   "nbconvert_exporter": "python",
   "pygments_lexer": "ipython3",
   "version": "3.7.10"
  },
  "toc": {
   "base_numbering": 1,
   "nav_menu": {},
   "number_sections": false,
   "sideBar": true,
   "skip_h1_title": false,
   "title_cell": "Table of Contents",
   "title_sidebar": "Contents",
   "toc_cell": false,
   "toc_position": {
    "height": "calc(100% - 180px)",
    "left": "10px",
    "top": "150px",
    "width": "288px"
   },
   "toc_section_display": true,
   "toc_window_display": true
  }
 },
 "nbformat": 4,
 "nbformat_minor": 1
}
