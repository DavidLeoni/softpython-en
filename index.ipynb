{
 "cells": [
  {
   "cell_type": "raw",
   "metadata": {
    "raw_mimetype": "text/restructuredtext"
   },
   "source": [
    ".. meta::\n",
    "\n",
    "   :description: Introductive guide to coding, data cleaning and analysis for Python 3, with many worked exercises."
   ]
  },
  {
   "cell_type": "markdown",
   "metadata": {
    "collapsed": true
   },
   "source": [
    "# SoftPython"
   ]
  },
  {
   "cell_type": "raw",
   "metadata": {
    "raw_mimetype": "text/latex"
   },
   "source": [
    "% Latex fixes, DO NOT DELETE THIS !!!!\n",
    "\n",
    "% need to demote chapters to sections because sphinx promotes them *just in the home* :-/\n",
    "% https://tex.stackexchange.com/questions/161259/macro-for-promoting-sections-to-chapters\n",
    "% for alternatives, see https://texfaq.org/FAQ-patch\n",
    "\n",
    "\\let\\truechapter\\chapter\n",
    "\\let\\truesection\\section\n",
    "\\let\\truesubsection\\subsection\n",
    "\\let\\truesubsubsection\\subsubsection\n",
    "\\let\\truethesection\\thesection\n",
    "\n",
    "\\let\\chapter\\truesection\n",
    "\\let\\section\\truesubsection\n",
    "% suspend number printing , according to   https://tex.stackexchange.com/a/80114\n",
    "\\renewcommand\\thesection{}\n",
    "\n",
    "\\truesection{Preface}"
   ]
  },
  {
   "cell_type": "markdown",
   "metadata": {},
   "source": [
    "**Introductive guide to coding, data cleaning and analysis for Python 3, with many worked exercises.**\n",
    "\n",
    "<div class=\"alert alert-warning\">\n",
    "    \n",
    "**WARNING: THIS ENGLISH VERSION IS IN-PROGRESS**\n",
    "    \n",
    "Completion is due by end of 2020\n",
    "    \n",
    "Complete Italian version is here:  [it.softpython.org](https://it.softpython.org)\n",
    "</div>"
   ]
  },
  {
   "cell_type": "markdown",
   "metadata": {},
   "source": [
    "Nowadays, more and more decisions are taken upon factual and objective data. All disciplines, from engineering to social sciences, require to elaborate data and extract actionable information by analysing heterogenous sources. This book of practical exercises gives an introduction to coding and data processing using [Python](https://www.python.org), a programming language popular both in the industry and in research environments."
   ]
  },
  {
   "cell_type": "raw",
   "metadata": {
    "raw_mimetype": "text/html"
   },
   "source": [
    "Download: &nbsp;&nbsp;<a href=\"https://en.softpython.org/softpython-en.pdf\" target=\"_blank\">PDF</a>\n",
    "&nbsp;&nbsp;<a href=\"http://en.softpython.org/softpython-en.epub\" target=\"_blank\"> EPUB </a>\n",
    "&nbsp;&nbsp;<a href=\"https://github.com/DavidLeoni/softpython-en/archive/en.softpython.org.zip\" target=\"_blank\"> HTML </a>\n",
    "&nbsp;&nbsp; <a href=\"https://github.com/DavidLeoni/softpython-en\" target=\"_blank\"> Github </a>\n",
    "<br/>\n",
    "<br/>\n"
   ]
  },
  {
   "cell_type": "markdown",
   "metadata": {},
   "source": [
    "## News\n",
    "\n",
    "**October 3, 2020**: updated [References](references.ipynb) page\n",
    "\n",
    "Old news: [link](changelog.ipynb)"
   ]
  },
  {
   "cell_type": "raw",
   "metadata": {
    "raw_mimetype": "text/latex"
   },
   "source": [
    "% Latex: fix for book structure\n",
    "\n",
    "\\let\\thesection\\truethesection\n",
    "\\truechapter{Overview}"
   ]
  },
  {
   "cell_type": "markdown",
   "metadata": {},
   "source": [
    "## Intended audience\n",
    "\n",
    "This book can be useful for both novices who never really programmed before, and for students with more techical background, who a desire to know about about data extraction, cleaning, analysis and visualization (among used frameworks there are Pandas, Numpy and Jupyter editor). We will try to process data in a practical way, without delving into more advanced considerations about algorithmic complexity and data structures. To overcome issues and guarantee concrete didactical results, we will present step-by-step tutorials. "
   ]
  },
  {
   "cell_type": "markdown",
   "metadata": {},
   "source": [
    "## Contents\n",
    "\n",
    "* [Overview](overview.ipynb): Approach and goals\n",
    "* [References](references.ipynb)\n",
    "    \n",
    "### A - Foundations\n",
    "\n",
    "1.  [Installation](installation.ipynb)\n",
    "1.  [Tools and scripts](tools/tools-sol.ipynb)\n",
    "1.  [Basics](basics/basics-sol.ipynb)\n",
    "\n",
    "1.  <p id=\"strings\">Strings</p>\n",
    "\n",
    "    1. [introduction](strings/strings1-sol.ipynb)\n",
    "    2. [operators](strings/strings2-sol.ipynb)\n",
    "    3. [methods](strings/strings3-sol.ipynb)    \n",
    "    \n",
    "1.  <p id=\"lists\">Lists</p>\n",
    "\n",
    "    1. [introduction](lists/lists1-sol.ipynb)\n",
    "    2. [operators](lists/lists2-sol.ipynb)\n",
    "    3. [methods](lists/lists3-sol.ipynb)    \n",
    "    \n",
    "1. [Tuples](tuples/tuples-sol.ipynb)\n",
    "1. [Sets](sets/sets-sol.ipynb)\n",
    "\n",
    "1. <p id=\"dictionaries\">Dictionaries</p>\n",
    "\n",
    "    1. [introduction](dictionaries/dictionaries1-sol.ipynb)\n",
    "    2. [operators](dictionaries/dictionaries2-sol.ipynb)\n",
    "    3. [methods](dictionaries/dictionaries3-sol.ipynb)    \n",
    "\n",
    "1. <p id=\"control-flow\">Control flow</p>\n",
    "\n",
    "    1. [if conditionals](control-flow/flow1-if-sol.ipynb)\n",
    "    2. [for loops](control-flow/flow2-for-sol.ipynb)\n",
    "    3. [while loops](control-flow/flow3-while-sol.ipynb)    \n",
    "\n",
    "1. [Sequences and comprehensions](sequences/sequences-sol.ipynb)\n",
    "1. [Matrices: lists of lists](matrices-lists/matrices-lists-sol.ipynb)\n",
    "1. [Matrices: Numpy](matrices-numpy/matrices-numpy-sol.ipynb)\n",
    "1. [Error handling and testing](errors-and-testing/errors-and-testing-sol.ipynb)\n",
    "\n",
    "### B - Data analysis\n",
    "\n",
    "1. [Data formats (CSV, JSON)](formats/formats-sol.ipynb)\n",
    "\n",
    "    * common data formats presentation (CSV, JSON, binary files)\n",
    "    * Data conversion, errors and ill-formatted data\n",
    "1. [Graph formats](graph-formats/graph-formats-sol.ipynb)\n",
    "\n",
    "    * graph matrices, adjacency lists, networkx\n",
    "1. [Binary relations](binary-relations/binary-relations-sol.ipynb)\n",
    "1. [Visualization](visualization/visualization-sol.ipynb)\n",
    "    \n",
    "    * [The AlgoRythm Opera Challenge](visualization/algorythm-opera-chal.ipynb)"
   ]
  },
  {
   "cell_type": "markdown",
   "metadata": {},
   "source": [
    "## Authors\n",
    " \n",
    "**David Leoni** (main author): Software engineer specialized in data integration and semantic web, has made applications in open data and medical in Italy and abroad. He frequently collaborates with University of Trento for teaching activities in various departments. Since 2019 is president of CoderDolomiti Association, where along with Marco Caresia manages volunteering movement CoderDojo Trento to teach creative coding to kids. <br/>\n",
    "Email: [david.leoni@unitn.it](mailto:david.leoni@unitn.it) &ensp; Website: [davidleoni.it](https://davidleoni.it)\n",
    "\n",
    "**Marco Caresia** (2017 Autumn Edition assistent @DISI, University of Trento): He has been informatics teacher at Scuola Professionale Einaudi of Bolzano. He is president of the Trentino Alto Adige Südtirol delegatioon of the Associazione Italiana Formatori and vicepresident of CoderDolomiti Association.\n",
    "\n",
    "**Alessio Zamboni** (2018 March Edition assistent @Sociology Department, University of Trento): Data scientist and software engineer with experience in NLP, GIS and knowledge management. Has collaborated to numerous research projects, collecting experinces in Europe and Asia. He strongly believes that _'Programming is a work of art'_.\n",
    "\n",
    "**Massimiliano Luca** (2019 summer edition teacher @Sociology Department, University of Trento): Loves learning new technilogies each day. Particularly interested in knowledge representation, data integration, data modeling and computational social science. Firmly believes it is vital to introduce youngsters to computer science, and has been mentoring at Coder Dojo DISI Master."
   ]
  },
  {
   "cell_type": "markdown",
   "metadata": {},
   "source": [
    "## License\n",
    "\n",
    "The making of this website and related courses was funded mainly by [Department of Information Engineering and Computer Science (DISI)](https://www.disi.unitn.it), University of Trento, and also [Sociology](https://www.sociologia.unitn.it/en) and [Mathematics](https://www.maths.unitn.it/en) departments.\n",
    "\n",
    "![unitn-843724](_static/img/third-parties/disi-unitn-en-logo-468-153.png)\n",
    "\n",
    "\n",
    "![cc-by-7172829](_static/img/cc-by.png)\n",
    "\n",
    "All the material in this website is distributed with license CC-BY 4.0 International Attribution [https://creativecommons.org/licenses/by/4.0/deed.en](https://creativecommons.org/licenses/by/4.0/deed.en) \n",
    "\n",
    "Basically, you can freely redistribute and modify the content, just remember to cite University of Trento and [the authors](https://en.softpython.org/index.html#Authors) \n",
    "\n",
    "Technical notes: all website pages are easily modifiable Jupyter notebooks, that were  converted to web pages using [NBSphinx](https://nbsphinx.readthedocs.io) using template [Jupman](https://github.com/DavidLeoni/jupman). Text sources are on Github at address  [https://github.com/DavidLeoni/softpython-en](https://github.com/DavidLeoni/softpython-en)"
   ]
  },
  {
   "cell_type": "markdown",
   "metadata": {},
   "source": [
    "\n",
    "## Acknowledgments\n",
    "\n",
    "We thank in particular professor Alberto Montresor of Department of Information Engineering and Computer Science, University of Trento to have allowed the making of first courses from which this material was born from, and the project Trentino Open Data ([dati.trentino.it](https://dati.trentino.it)) for the numerous datasets provided.\n",
    "\n",
    "![dati-trentino-9327234823487](_static/img/third-parties/dati-trentino-small.png)\n",
    "\n",
    "Other numerous intitutions and companies that over time contributed material and ideas are cited [in this page](thanks.ipynb)"
   ]
  },
  {
   "cell_type": "raw",
   "metadata": {
    "raw_mimetype": "text/latex"
   },
   "source": [
    "% Latex: Restores all the previous substitutions \n",
    "% DO NOT DELETE THIS !!!!\n",
    " \n",
    "\\let\\chapter\\truechapter\n",
    "\\let\\section\\truesection\n",
    "\\let\\subsection\\truesubsection\n",
    "\\let\\subsubsection\\truesubsubsection"
   ]
  }
 ],
 "metadata": {
  "celltoolbar": "Raw Cell Format",
  "kernelspec": {
   "display_name": "Python 3",
   "language": "python",
   "name": "python3"
  },
  "language_info": {
   "codemirror_mode": {
    "name": "ipython",
    "version": 3
   },
   "file_extension": ".py",
   "mimetype": "text/x-python",
   "name": "python",
   "nbconvert_exporter": "python",
   "pygments_lexer": "ipython3",
   "version": "3.5.2"
  },
  "toc": {
   "base_numbering": 1,
   "nav_menu": {},
   "number_sections": false,
   "sideBar": true,
   "skip_h1_title": false,
   "title_cell": "Table of Contents",
   "title_sidebar": "Contents",
   "toc_cell": false,
   "toc_position": {},
   "toc_section_display": true,
   "toc_window_display": true
  }
 },
 "nbformat": 4,
 "nbformat_minor": 2
}
