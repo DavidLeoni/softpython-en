{
 "cells": [
  {
   "cell_type": "markdown",
   "id": "worst-going",
   "metadata": {},
   "source": [
    "# Tuples 2 - First challenges\n",
    "\n",
    "## [Download exercises zip](../_static/generated/tuples.zip)\n",
    "\n",
    "[Browse file online](https://github.com/DavidLeoni/softpython-en/tuples)"
   ]
  },
  {
   "cell_type": "markdown",
   "id": "impossible-cambodia",
   "metadata": {},
   "source": [
    "We now propose some exercises without solution, do you accept the challenge?"
   ]
  },
  {
   "cell_type": "markdown",
   "id": "169f4341",
   "metadata": {},
   "source": [
    "## Challenge - The Temple Of Rounded Doom\n",
    "\n",
    "You are exploring an uncharted tropical region, and among the vegetation you discover the entrance of a temple devoted to the ancient God Tuplaranda. Cautiously, you enter. You see a massive door: on a side lies a long series of tablets, some rounded and some squared. They contain tokens with mystical symbols. In order to open the door, you must build a single long round tablet in front of the door, with all the tokens in the same order you find them. Write some code to produce such rounded tablet.\n",
    "\n",
    "Example - given:"
   ]
  },
  {
   "cell_type": "code",
   "execution_count": 1,
   "id": "1c1df9ce",
   "metadata": {},
   "outputs": [],
   "source": [
    "t = ('wara', 'zuna', ('nabu', 'zebi'), [('vi','la')], ('gur',), ('gar'), 'zat', ['ben', 'elz','ub'])"
   ]
  },
  {
   "cell_type": "markdown",
   "id": "736936e8",
   "metadata": {},
   "source": [
    "The tokens are `'wara'`, `'zuna'`, `'vila'`, `'nabu'` etc\n",
    "\n",
    "Your code must produce:"
   ]
  },
  {
   "cell_type": "markdown",
   "id": "8a4c2c57",
   "metadata": {},
   "source": [
    "```python\n",
    "('wara', 'zuna', 'nabu', 'zebi', 'vi', 'la', 'gur', 'gar', 'z', 'a', 't', 'ben', 'elz', 'ub')\n",
    "```"
   ]
  },
  {
   "cell_type": "markdown",
   "id": "0dccbdcb",
   "metadata": {},
   "source": [
    "**IMPORTANT: DO NOT** upset Tuplaranda! Pay attention to the warning signs on the door:\n",
    "\n",
    "* **DO NOT** write strings (so don't manually write string constants like `'zuna'` in your code)\n",
    "* **DO NOT** type more than **8** opening square brackets `[`\n",
    "\n",
    "**WARNING 1**: there are traps - be very careful about commas !\n",
    "\n",
    "**WARNING 2**: `'zat'` must become `'z','a','t'`"
   ]
  },
  {
   "cell_type": "code",
   "execution_count": 2,
   "id": "1fdaddad-stripped",
   "metadata": {},
   "outputs": [],
   "source": [
    "\n",
    "\n",
    "t = ('wara', 'zuna', ('nabu', 'zebi'), [('vi','la')], ('gur',), ('gar'), 'zat', ['ben', 'elz','ub'])\n",
    "\n",
    "# write here\n",
    "\n"
   ]
  },
  {
   "cell_type": "code",
   "execution_count": 4,
   "id": "2bc39b36-stripped",
   "metadata": {
    "nbsphinx": "hidden"
   },
   "outputs": [],
   "source": []
  },
  {
   "cell_type": "code",
   "execution_count": null,
   "id": "ca9a8248",
   "metadata": {},
   "outputs": [],
   "source": []
  }
 ],
 "metadata": {
  "kernelspec": {
   "display_name": "Python 3 (ipykernel)",
   "language": "python",
   "name": "python3"
  },
  "language_info": {
   "codemirror_mode": {
    "name": "ipython",
    "version": 3
   },
   "file_extension": ".py",
   "mimetype": "text/x-python",
   "name": "python",
   "nbconvert_exporter": "python",
   "pygments_lexer": "ipython3",
   "version": "3.7.10"
  },
  "toc": {
   "base_numbering": 1,
   "nav_menu": {},
   "number_sections": false,
   "sideBar": true,
   "skip_h1_title": false,
   "title_cell": "Table of Contents",
   "title_sidebar": "Contents",
   "toc_cell": false,
   "toc_position": {},
   "toc_section_display": true,
   "toc_window_display": false
  }
 },
 "nbformat": 4,
 "nbformat_minor": 5
}
