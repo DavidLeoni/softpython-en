{
 "cells": [
  {
   "cell_type": "code",
   "execution_count": 1,
   "id": "8f426ad0",
   "metadata": {
    "nbsphinx": "hidden"
   },
   "outputs": [],
   "source": [
    "# Remember to execute this cell with Shift+Enter\n",
    "\n",
    "import jupman"
   ]
  },
  {
   "cell_type": "markdown",
   "id": "320ef29d",
   "metadata": {},
   "source": [
    "# Tuples\n",
    "\n",
    "## [Download exercise zip](../_static/generated/tuples.zip)\n",
    "\n",
    "[Browse files online](https://github.com/DavidLeoni/softpython-en/tree/master/tuples)\n",
    "\n",
    "A tuple in Python is an _immutable_ sequence of heterogenous elements which allows duplicates, so we can put inside the objects we want, of different types, and with repetitions."
   ]
  },
  {
   "cell_type": "markdown",
   "id": "2abb0857",
   "metadata": {},
   "source": [
    "## What to do\n",
    "\n",
    "1. Unzip [exercises zip](../_static/generated/tuples.zip) in a folder, you should obtain something like this:\n",
    "\n",
    "```\n",
    "tuples\n",
    "    tuples1.ipynb\n",
    "    tuples1-sol.ipynb\n",
    "    tuples2-chal.ipynb    \n",
    "    jupman.py         \n",
    "```\n",
    "\n",
    "<div class=\"alert alert-warning\">\n",
    "\n",
    "**WARNING: to correctly visualize the notebook, it MUST be in an unzipped folder !**\n",
    "</div>"
   ]
  },
  {
   "cell_type": "markdown",
   "id": "dbcd2510",
   "metadata": {},
   "source": [
    "2. open Jupyter Notebook from that folder. Two things should open, first a console and then a browser. The browser should show a file list: navigate the list and open the notebook `tuples.ipynb`\n",
    "\n",
    "3. Go on reading the exercises file, sometimes you will find paragraphs marked **Exercises** which will ask to write Python commands in the following cells. "
   ]
  },
  {
   "cell_type": "markdown",
   "id": "81c9855b",
   "metadata": {},
   "source": [
    "Shortcut keys:\n",
    "\n",
    "- to execute Python code inside a Jupyter cell, press `Control + Enter`\n",
    "\n",
    "- to execute Python code inside a Jupyter cell AND select next cell, press `Shift + Enter`\n",
    "\n",
    "- to execute Python code inside a Jupyter cell AND a create a new cell aftwerwards, press `Alt + Enter`\n",
    "\n",
    "- If the notebooks look stuck, try to select `Kernel -> Restart`"
   ]
  },
  {
   "cell_type": "markdown",
   "id": "93eb5528",
   "metadata": {},
   "source": [
    "\n",
    "## Creating tuples\n",
    "\n",
    "Tuples are created with round parenthesis `()` and by separating the elements with commas `,`\n",
    "\n",
    "Some example:"
   ]
  },
  {
   "cell_type": "code",
   "execution_count": 2,
   "id": "b7eff07d",
   "metadata": {},
   "outputs": [],
   "source": [
    "numbers = (6,7,5,7,7,9)"
   ]
  },
  {
   "cell_type": "code",
   "execution_count": 3,
   "id": "18e75c2f",
   "metadata": {},
   "outputs": [
    {
     "name": "stdout",
     "output_type": "stream",
     "text": [
      "(6, 7, 5, 7, 7, 9)\n"
     ]
    }
   ],
   "source": [
    "print(numbers)"
   ]
  },
  {
   "cell_type": "markdown",
   "id": "e7f08aae",
   "metadata": {},
   "source": [
    "**Tuples of one element:** You can create a tuple of a single element **by adding a comma after the element**:"
   ]
  },
  {
   "cell_type": "code",
   "execution_count": 4,
   "id": "f363c085",
   "metadata": {},
   "outputs": [],
   "source": [
    "little_tup = (4,)  # notice the comma !!!"
   ]
  },
  {
   "cell_type": "markdown",
   "id": "77f06cb6",
   "metadata": {},
   "source": [
    "Let's verify the type is the expected one:"
   ]
  },
  {
   "cell_type": "code",
   "execution_count": 5,
   "id": "b07076bf",
   "metadata": {},
   "outputs": [
    {
     "data": {
      "text/plain": [
       "tuple"
      ]
     },
     "execution_count": 5,
     "metadata": {},
     "output_type": "execute_result"
    }
   ],
   "source": [
    "type(little_tup)"
   ]
  },
  {
   "cell_type": "markdown",
   "id": "eeb6d0a9",
   "metadata": {},
   "source": [
    "To see the difference, we write down here `(4)` without comma and we verify the type of the obtained object:"
   ]
  },
  {
   "cell_type": "code",
   "execution_count": 6,
   "id": "a36ed63b",
   "metadata": {},
   "outputs": [],
   "source": [
    "fake = (4)"
   ]
  },
  {
   "cell_type": "code",
   "execution_count": 7,
   "id": "727e151c",
   "metadata": {},
   "outputs": [
    {
     "data": {
      "text/plain": [
       "int"
      ]
     },
     "execution_count": 7,
     "metadata": {},
     "output_type": "execute_result"
    }
   ],
   "source": [
    "type(fake)"
   ]
  },
  {
   "cell_type": "markdown",
   "id": "a812ecf8",
   "metadata": {},
   "source": [
    "We see that `fake` is an `int`, because `4` has been evaluated as an expression inside round brackets so the result is the content inside the parenthesis."
   ]
  },
  {
   "cell_type": "markdown",
   "id": "541c28ab",
   "metadata": {},
   "source": [
    "### Empty tuple\n",
    "\n",
    "We can also create an empty tuple:"
   ]
  },
  {
   "cell_type": "code",
   "execution_count": 8,
   "id": "786aa800",
   "metadata": {},
   "outputs": [],
   "source": [
    "empty = ()"
   ]
  },
  {
   "cell_type": "code",
   "execution_count": 9,
   "id": "2b19f772",
   "metadata": {},
   "outputs": [
    {
     "name": "stdout",
     "output_type": "stream",
     "text": [
      "()\n"
     ]
    }
   ],
   "source": [
    "print(empty)"
   ]
  },
  {
   "cell_type": "code",
   "execution_count": 10,
   "id": "ef652f2e",
   "metadata": {},
   "outputs": [
    {
     "data": {
      "text/plain": [
       "tuple"
      ]
     },
     "execution_count": 10,
     "metadata": {},
     "output_type": "execute_result"
    }
   ],
   "source": [
    "type(empty)"
   ]
  },
  {
   "cell_type": "markdown",
   "id": "2ec8132f",
   "metadata": {},
   "source": [
    "### Tuples without brackets\n",
    "\n",
    "When we assign values to some variable, (and _only_ when we assign values to variables) it is possible to use a notation like the following, in which on the left of `=` we put names of variables and on the right we place a sequence of values:"
   ]
  },
  {
   "cell_type": "code",
   "execution_count": 11,
   "id": "f0df96d8",
   "metadata": {},
   "outputs": [],
   "source": [
    "a,b,c = 1, 2, 3"
   ]
  },
  {
   "cell_type": "code",
   "execution_count": 12,
   "id": "b53a3a30",
   "metadata": {},
   "outputs": [
    {
     "data": {
      "text/plain": [
       "1"
      ]
     },
     "execution_count": 12,
     "metadata": {},
     "output_type": "execute_result"
    }
   ],
   "source": [
    "a"
   ]
  },
  {
   "cell_type": "code",
   "execution_count": 13,
   "id": "455423fa",
   "metadata": {},
   "outputs": [
    {
     "data": {
      "text/plain": [
       "2"
      ]
     },
     "execution_count": 13,
     "metadata": {},
     "output_type": "execute_result"
    }
   ],
   "source": [
    "b"
   ]
  },
  {
   "cell_type": "code",
   "execution_count": 14,
   "id": "c3d3d38b",
   "metadata": {},
   "outputs": [
    {
     "data": {
      "text/plain": [
       "3"
      ]
     },
     "execution_count": 14,
     "metadata": {},
     "output_type": "execute_result"
    }
   ],
   "source": [
    "c"
   ]
  },
  {
   "cell_type": "markdown",
   "id": "1c8a3e3e",
   "metadata": {},
   "source": [
    "If we ask ourselves what that `1,2,3` is, we can try putting on the left a single variable:"
   ]
  },
  {
   "cell_type": "code",
   "execution_count": 15,
   "id": "173ee37f",
   "metadata": {},
   "outputs": [],
   "source": [
    "# WARNING: BETTER AVOID THIS!\n",
    "x = 1,2,3"
   ]
  },
  {
   "cell_type": "code",
   "execution_count": 16,
   "id": "96d1a66c",
   "metadata": {},
   "outputs": [
    {
     "data": {
      "text/plain": [
       "tuple"
      ]
     },
     "execution_count": 16,
     "metadata": {},
     "output_type": "execute_result"
    }
   ],
   "source": [
    "type(x)"
   ]
  },
  {
   "cell_type": "markdown",
   "id": "035e6ebe",
   "metadata": {},
   "source": [
    "We see that Python considered that `1,2,3` as a tuple. Typically, you would never write assignments with less variables than values to put, but if it happens, probably you will find yourself with some undesired tuple !"
   ]
  },
  {
   "cell_type": "markdown",
   "id": "49886298",
   "metadata": {},
   "source": [
    "**QUESTION**: Have a look at the following code snippets, and for each try guessing which result it produces (or if it gives an error)\n",
    "\n",
    "1.  ```python\n",
    "    z,w = 5,6\n",
    "    print(type(z))\n",
    "    print(type(w))\n",
    "    ```\n",
    "1.  ```python\n",
    "    a,b = 5,6\n",
    "    a,b = b,a\n",
    "    print('a=',a)\n",
    "    print('b=',b)\n",
    "    ```\n",
    "1.  ```python\n",
    "    z = 5,\n",
    "    print(type(z))\n",
    "    ```\n",
    "1.  ```python\n",
    "    z = ,\n",
    "    print(type(z))\n",
    "    ```"
   ]
  },
  {
   "cell_type": "markdown",
   "id": "6f6c67cf",
   "metadata": {},
   "source": [
    "### Heterogenous elements\n",
    "\n",
    "In a tuple we can put elements of different types, like numbers and strings:"
   ]
  },
  {
   "cell_type": "code",
   "execution_count": 17,
   "id": "f79d9483",
   "metadata": {},
   "outputs": [],
   "source": [
    "stuff = (4, \"paper\", 5, 2,\"scissors\", 7)"
   ]
  },
  {
   "cell_type": "code",
   "execution_count": 18,
   "id": "feec7a57",
   "metadata": {},
   "outputs": [
    {
     "data": {
      "text/plain": [
       "(4, 'paper', 5, 2, 'scissors', 7)"
      ]
     },
     "execution_count": 18,
     "metadata": {},
     "output_type": "execute_result"
    }
   ],
   "source": [
    "stuff"
   ]
  },
  {
   "cell_type": "code",
   "execution_count": 19,
   "id": "44da6ae1",
   "metadata": {},
   "outputs": [
    {
     "data": {
      "text/plain": [
       "tuple"
      ]
     },
     "execution_count": 19,
     "metadata": {},
     "output_type": "execute_result"
    }
   ],
   "source": [
    "type(stuff)"
   ]
  },
  {
   "cell_type": "markdown",
   "id": "93bf2640",
   "metadata": {},
   "source": [
    "We can also insert other tuples:"
   ]
  },
  {
   "cell_type": "code",
   "execution_count": 20,
   "id": "15749907",
   "metadata": {},
   "outputs": [],
   "source": [
    "salad = ( (\"lettuce\", 3), (\"tomatoes\",9), (\"carrots\",4) )"
   ]
  },
  {
   "cell_type": "code",
   "execution_count": 21,
   "id": "23453995",
   "metadata": {},
   "outputs": [
    {
     "data": {
      "text/plain": [
       "(('lettuce', 3), ('tomatoes', 9), ('carrots', 4))"
      ]
     },
     "execution_count": 21,
     "metadata": {},
     "output_type": "execute_result"
    }
   ],
   "source": [
    "salad"
   ]
  },
  {
   "cell_type": "code",
   "execution_count": 22,
   "id": "a74cd066",
   "metadata": {},
   "outputs": [
    {
     "data": {
      "text/plain": [
       "tuple"
      ]
     },
     "execution_count": 22,
     "metadata": {},
     "output_type": "execute_result"
    }
   ],
   "source": [
    "type(salad)"
   ]
  },
  {
   "cell_type": "markdown",
   "id": "63b9563f",
   "metadata": {},
   "source": [
    "And also lists:"
   ]
  },
  {
   "cell_type": "code",
   "execution_count": 23,
   "id": "670918e1",
   "metadata": {},
   "outputs": [],
   "source": [
    "mix = ( [\"when\", \"it\", \"rains\"], [\"I\", \"program\"], [7,3,9] )"
   ]
  },
  {
   "cell_type": "markdown",
   "id": "e3e9ae19",
   "metadata": {},
   "source": [
    "<div class=\"alert alert-warning\">\n",
    "\n",
    "**WARNING: avoid mutable objects inside tuples!**\n",
    "\n",
    "Inserting _mutable_ objects like lists inside tuples may cause problems in some situations like when you later want to use the tuple as element of a set or a key in a dictionary (we will see the details in the respective tutorials)    \n",
    "</div>"
   ]
  },
  {
   "cell_type": "markdown",
   "id": "c47a04ac",
   "metadata": {},
   "source": [
    "Let's see how the previous examples are represented in Python Tutor:"
   ]
  },
  {
   "cell_type": "code",
   "execution_count": 24,
   "id": "eddcdb61",
   "metadata": {},
   "outputs": [],
   "source": [
    "# WARNING: before using the function jupman.pytut() which follows, \n",
    "#          it is necessary to first execute this cell with Shift+Enter (once is enough)\n",
    "\n",
    "import jupman"
   ]
  },
  {
   "cell_type": "code",
   "execution_count": 25,
   "id": "152dabc5",
   "metadata": {},
   "outputs": [
    {
     "data": {
      "text/html": [
       "        \n",
       "        <script src=\"../_static/js/pytutor-embed.bundle.min.js\" type=\"application/javascript\"></script>\n",
       "    \n",
       "        <style>\n",
       "        @import \"../_static/css/jupman.css\";\n",
       "        </style>\n",
       "     \n",
       "        <script id=\"json-jm-33386d4da5207570d1aebfa6f118bd99-27\" type=\"application/json\" >\n",
       "            {\"code\": \" \\nstuff = (4, \\\"paper\\\", 5, 2,\\\"scissors\\\", 7)\\nsalad = ( (\\\"lettuce\\\", 3), (\\\"tomatoes\\\",9), (\\\"carrots\\\",4) )\\nmix = ( [\\\"when\\\", \\\"it\\\", \\\"rains\\\"], [\\\"I\\\", \\\"program\\\"], [7,3,9] )\", \"trace\": [{\"line\": 2, \"event\": \"step_line\", \"func_name\": \"<module>\", \"globals\": {}, \"ordered_globals\": [], \"stack_to_render\": [], \"heap\": {}, \"stdout\": \"\"}, {\"line\": 3, \"event\": \"step_line\", \"func_name\": \"<module>\", \"globals\": {\"stuff\": [\"REF\", 1]}, \"ordered_globals\": [\"stuff\"], \"stack_to_render\": [], \"heap\": {\"1\": [\"TUPLE\", 4, \"paper\", 5, 2, \"scissors\", 7]}, \"stdout\": \"\"}, {\"line\": 4, \"event\": \"step_line\", \"func_name\": \"<module>\", \"globals\": {\"stuff\": [\"REF\", 1], \"salad\": [\"REF\", 2]}, \"ordered_globals\": [\"stuff\", \"salad\"], \"stack_to_render\": [], \"heap\": {\"1\": [\"TUPLE\", 4, \"paper\", 5, 2, \"scissors\", 7], \"2\": [\"TUPLE\", [\"REF\", 3], [\"REF\", 4], [\"REF\", 5]], \"3\": [\"TUPLE\", \"lettuce\", 3], \"4\": [\"TUPLE\", \"tomatoes\", 9], \"5\": [\"TUPLE\", \"carrots\", 4]}, \"stdout\": \"\"}, {\"line\": 4, \"event\": \"return\", \"func_name\": \"<module>\", \"globals\": {\"stuff\": [\"REF\", 1], \"salad\": [\"REF\", 2], \"mix\": [\"REF\", 6]}, \"ordered_globals\": [\"stuff\", \"salad\", \"mix\"], \"stack_to_render\": [], \"heap\": {\"1\": [\"TUPLE\", 4, \"paper\", 5, 2, \"scissors\", 7], \"2\": [\"TUPLE\", [\"REF\", 3], [\"REF\", 4], [\"REF\", 5]], \"3\": [\"TUPLE\", \"lettuce\", 3], \"4\": [\"TUPLE\", \"tomatoes\", 9], \"5\": [\"TUPLE\", \"carrots\", 4], \"6\": [\"TUPLE\", [\"REF\", 7], [\"REF\", 8], [\"REF\", 9]], \"7\": [\"LIST\", \"when\", \"it\", \"rains\"], \"8\": [\"LIST\", \"I\", \"program\"], \"9\": [\"LIST\", 7, 3, 9]}, \"stdout\": \"\"}]}\n",
       "        </script>\n",
       "        <div id=\"jm-33386d4da5207570d1aebfa6f118bd99-27\" class=\"pytutorVisualizer\"> </div>\n",
       "                        \n",
       "        <script>\n",
       "        \n",
       "        (function(){\n",
       "            console.log(\"jupman.py embedded javascript: adding Python tutor visualizer...\")\n",
       "            \n",
       "            var trace = JSON.parse(document.getElementById('json-jm-33386d4da5207570d1aebfa6f118bd99-27').innerHTML);                                        \n",
       "            // NOTE: id without #\n",
       "                    \n",
       "            addVisualizerToPage(trace, 'jm-33386d4da5207570d1aebfa6f118bd99-27',{'embeddedMode' : false,\n",
       "                                             'disableHeapNesting': true,\n",
       "                                             'visualizerIdOverride':'viz-jm-33386d4da5207570d1aebfa6f118bd99-27'})  \n",
       "            \n",
       "            \n",
       "            // set overflow for pytuts - need to do in python as css \n",
       "            // does not allow parent selection\n",
       "            var pytuts = $('.pytutorVisualizer')\n",
       "            pytuts.closest('div.output_html.rendered_html.output_result')\n",
       "                    .css('overflow-x', 'visible')\n",
       "        \n",
       "            //pytuts.closest('div.output_html.rendered_html.output_result')\n",
       "            //      .css('background-color','red')                \n",
       "            \n",
       "        })()\n",
       "        </script>\n",
       "                \n",
       "    \n",
       "    <div style=\"text-align:center; font-size:0.9em\"> <a href=\"https://pythontutor.com/visualize.html#mode=edit\" target=\"_blank\">Python Tutor</a> visualization</div> \n",
       "    "
      ],
      "text/plain": [
       "<IPython.core.display.HTML object>"
      ]
     },
     "execution_count": 25,
     "metadata": {},
     "output_type": "execute_result"
    }
   ],
   "source": [
    "stuff = (4, \"paper\", 5, 2,\"scissors\", 7)\n",
    "salad = ( (\"lettuce\", 3), (\"tomatoes\",9), (\"carrots\",4) )\n",
    "mix = ( [\"when\", \"it\", \"rains\"], [\"I\", \"program\"], [7,3,9] )\n",
    "\n",
    "jupman.pytut()"
   ]
  },
  {
   "cell_type": "markdown",
   "id": "1d1d51b4",
   "metadata": {},
   "source": [
    "### Creating tuples from sequences\n",
    "\n",
    "You can create a tuple from any sequence, like for example a list:"
   ]
  },
  {
   "cell_type": "code",
   "execution_count": 26,
   "id": "5d04d4b6",
   "metadata": {},
   "outputs": [
    {
     "data": {
      "text/plain": [
       "(8, 2, 5)"
      ]
     },
     "execution_count": 26,
     "metadata": {},
     "output_type": "execute_result"
    }
   ],
   "source": [
    "tuple( [8,2,5] )"
   ]
  },
  {
   "cell_type": "markdown",
   "id": "72be6805",
   "metadata": {},
   "source": [
    "Or a string (which is a character sequence):"
   ]
  },
  {
   "cell_type": "code",
   "execution_count": 27,
   "id": "438df490",
   "metadata": {},
   "outputs": [
    {
     "data": {
      "text/plain": [
       "('a', 'b', 'c')"
      ]
     },
     "execution_count": 27,
     "metadata": {},
     "output_type": "execute_result"
    }
   ],
   "source": [
    "tuple(\"abc\")"
   ]
  },
  {
   "cell_type": "markdown",
   "id": "5b2d8b57",
   "metadata": {},
   "source": [
    "### Creating sequences from tuples"
   ]
  },
  {
   "cell_type": "markdown",
   "id": "62b4cbda",
   "metadata": {},
   "source": [
    "Since the tuple is a sequence, it is also possible to generate lists from tuples:"
   ]
  },
  {
   "cell_type": "code",
   "execution_count": 28,
   "id": "b10b93be",
   "metadata": {},
   "outputs": [
    {
     "data": {
      "text/plain": [
       "[3, 4, 2, 3]"
      ]
     },
     "execution_count": 28,
     "metadata": {},
     "output_type": "execute_result"
    }
   ],
   "source": [
    "list( (3,4,2,3)  )"
   ]
  },
  {
   "cell_type": "markdown",
   "id": "7acc95cf",
   "metadata": {},
   "source": [
    "**QUESTION**: Does is it make sense creating a tuple from another tuple like this? Can we rewrite the code in a more concise way?"
   ]
  },
  {
   "cell_type": "code",
   "execution_count": 29,
   "id": "617610e0",
   "metadata": {},
   "outputs": [],
   "source": [
    "x = (4,2,5)\n",
    "y = tuple(x)"
   ]
  },
  {
   "cell_type": "raw",
   "id": "173f5158",
   "metadata": {
    "format": "text/html"
   },
   "source": [
    "<a  class=\"jupman-sol jupman-sol-toggler\" \n",
    " onclick=\"jupman.toggleSolution(this);\" \n",
    " data-jupman-show=\"Show answer\" data-jupman-hide=\"Hide\">Show answer</a><div class=\"jupman-sol jupman-sol-question\" style=\"display:none\">  "
   ]
  },
  {
   "cell_type": "markdown",
   "id": "e2b0f2fd",
   "metadata": {},
   "source": [
    "**ANSWER**: since a tuple is IMMUTABLE, once we create in memory the object `(4,2,5)` \n",
    "we are sure nobody will modify it, so it's not necessary to create a new tuple and we can directly write:\n",
    "\n",
    "```python\n",
    "x = (4,2,5)\n",
    "y = x\n",
    "```"
   ]
  },
  {
   "cell_type": "raw",
   "id": "ec696917",
   "metadata": {
    "format": "text/html"
   },
   "source": [
    "</div>"
   ]
  },
  {
   "cell_type": "markdown",
   "id": "5cef458d",
   "metadata": {},
   "source": [
    "**QUESTION**:  Have a look at the following expressions, and for each try to guess which result produces (or if it gives an error):\n",
    "\n",
    "1.  ```python\n",
    "    (1.2,3.4)\n",
    "    ```\n",
    "1.  ```python    \n",
    "    (1;2;3;4)\n",
    "    ```\n",
    "1.  ```python    \n",
    "    (1,2;3,4)\n",
    "    ```\n",
    "1.  ```python    \n",
    "    (1,2,3,4)\n",
    "    ```\n",
    "1.  ```python    \n",
    "    (())\n",
    "    ```\n",
    "1.  ```python    \n",
    "    type(())\n",
    "    ```\n",
    "1.  ```python    \n",
    "    ((),)\n",
    "    ```\n",
    "1.  ```python    \n",
    "    tuple([('a'),('b'),('c')])\n",
    "    ```\n",
    "1.  ```python    \n",
    "    tuple(tuple(('z','u','m')))\n",
    "    ```\n",
    "1.  ```python    \n",
    "    str(('a','b','c'))\n",
    "    ```\n",
    "1.  ```python    \n",
    "    \"\".join(('a','b','c'))\n",
    "    ```"
   ]
  },
  {
   "cell_type": "markdown",
   "id": "76cb51e1",
   "metadata": {},
   "source": [
    "## Operators\n",
    "\n",
    "The following operators work on tuples and behave exactly as in lists:\n",
    "\n",
    "|Operator|Syntax|Result|Meaning|\n",
    "|--------|------|------|-------|\n",
    "|[length](#len)|`len`(tuple)|`int`|Return the length of a tuple|\n",
    "|[indexing](#Reading-an-element)|tuple`[`int`]`|`object`|Reads an element at specified index|\n",
    "|[slice](#Slices)|tuple`[`int1`:`int2`]`|`tuple`| Extracts a sub-tuple - return a NEW tuple|\n",
    "|[concatenation](#Concatenation)|tuple1 `+` tuple2|`tuple`|Concatenates two tuples - return a NEW tuple|\n",
    "|[membership](#Membership)|obj `in` tuple|`bool`|Checks whether an element is present in a tuple|\n",
    "|[replication](#Replication)|tuple `*` int|`tuple`| Replicates the tuple - return a NEW tuple|\n",
    "|equality|`==`,`!=`|`bool`| Checks if two tuples are equal or different|"
   ]
  },
  {
   "cell_type": "markdown",
   "id": "ccc0f4c4",
   "metadata": {},
   "source": [
    "### len\n",
    "\n",
    "`len` function returns the tuple length:"
   ]
  },
  {
   "cell_type": "code",
   "execution_count": 30,
   "id": "2436a951",
   "metadata": {},
   "outputs": [
    {
     "data": {
      "text/plain": [
       "3"
      ]
     },
     "execution_count": 30,
     "metadata": {},
     "output_type": "execute_result"
    }
   ],
   "source": [
    "len( (4,2,3) )"
   ]
  },
  {
   "cell_type": "code",
   "execution_count": 31,
   "id": "4555b8c1",
   "metadata": {},
   "outputs": [
    {
     "data": {
      "text/plain": [
       "1"
      ]
     },
     "execution_count": 31,
     "metadata": {},
     "output_type": "execute_result"
    }
   ],
   "source": [
    "len( (7,) )"
   ]
  },
  {
   "cell_type": "code",
   "execution_count": 32,
   "id": "debe7eb5",
   "metadata": {},
   "outputs": [
    {
     "data": {
      "text/plain": [
       "0"
      ]
     },
     "execution_count": 32,
     "metadata": {},
     "output_type": "execute_result"
    }
   ],
   "source": [
    "len( () )"
   ]
  },
  {
   "cell_type": "markdown",
   "id": "baecc902",
   "metadata": {},
   "source": [
    "**QUESTION**: Have a look at following expressions, and for each try to guess the result (or if it gives an error)\n",
    "\n",
    "    \n",
    "1.  ```python\n",
    "    len(3,2,4)\n",
    "    ```\n",
    "1.  ```python    \n",
    "    len((3,2,4))\n",
    "    ```\n",
    "1.  ```python    \n",
    "    len(('a',))\n",
    "    ```\n",
    "1.  ```python    \n",
    "    len(('a,'))\n",
    "    ```\n",
    "1.  ```python    \n",
    "    len(((),(),()))\n",
    "    ```\n",
    "1.  ```python    \n",
    "    len(len((1,2,3,4)))\n",
    "    ```\n",
    "1.  ```python    \n",
    "    len([('d','a','c','d'),(('ab')),[('a','b','c')]])\n",
    "    ```"
   ]
  },
  {
   "cell_type": "code",
   "execution_count": null,
   "id": "c5679d40",
   "metadata": {},
   "outputs": [],
   "source": []
  },
  {
   "cell_type": "markdown",
   "id": "1eeb8869",
   "metadata": {},
   "source": [
    "### Reading an element\n",
    "\n",
    "Like in strings and lists by using brackets we can read an element at a certain position:"
   ]
  },
  {
   "cell_type": "code",
   "execution_count": 33,
   "id": "25ed6c4e",
   "metadata": {},
   "outputs": [],
   "source": [
    "#      0  1  2  3\n",
    "tup = (10,11,12,13)"
   ]
  },
  {
   "cell_type": "code",
   "execution_count": 34,
   "id": "a2c27fc7",
   "metadata": {},
   "outputs": [
    {
     "data": {
      "text/plain": [
       "10"
      ]
     },
     "execution_count": 34,
     "metadata": {},
     "output_type": "execute_result"
    }
   ],
   "source": [
    "tup[0]"
   ]
  },
  {
   "cell_type": "code",
   "execution_count": 35,
   "id": "6859c630",
   "metadata": {},
   "outputs": [
    {
     "data": {
      "text/plain": [
       "11"
      ]
     },
     "execution_count": 35,
     "metadata": {},
     "output_type": "execute_result"
    }
   ],
   "source": [
    "tup[1]"
   ]
  },
  {
   "cell_type": "code",
   "execution_count": 36,
   "id": "5b006728",
   "metadata": {},
   "outputs": [
    {
     "data": {
      "text/plain": [
       "12"
      ]
     },
     "execution_count": 36,
     "metadata": {},
     "output_type": "execute_result"
    }
   ],
   "source": [
    "tup[2]"
   ]
  },
  {
   "cell_type": "code",
   "execution_count": 37,
   "id": "2e53ded5",
   "metadata": {},
   "outputs": [
    {
     "data": {
      "text/plain": [
       "13"
      ]
     },
     "execution_count": 37,
     "metadata": {},
     "output_type": "execute_result"
    }
   ],
   "source": [
    "tup[3]"
   ]
  },
  {
   "cell_type": "markdown",
   "id": "07b47b6a",
   "metadata": {},
   "source": [
    "We can also use negative indexes:"
   ]
  },
  {
   "cell_type": "code",
   "execution_count": 38,
   "id": "fc08935f",
   "metadata": {},
   "outputs": [
    {
     "data": {
      "text/plain": [
       "13"
      ]
     },
     "execution_count": 38,
     "metadata": {},
     "output_type": "execute_result"
    }
   ],
   "source": [
    "tup[-1]"
   ]
  },
  {
   "cell_type": "markdown",
   "id": "4cd74e99",
   "metadata": {},
   "source": [
    "**QUESTION**: Have a look at the following expressions and for each of them try to guess the result or if it produces an error:"
   ]
  },
  {
   "cell_type": "markdown",
   "id": "63f5e54f",
   "metadata": {},
   "source": [
    "    \n",
    "1.  ```python\n",
    "    (1,2,3)[0]\n",
    "    ```\n",
    "1.  ```python    \n",
    "    (1,2,3)[3]\n",
    "    ```\n",
    "1.  ```python    \n",
    "    (1,2,3)0\n",
    "    ```\n",
    "1.  ```python    \n",
    "    ('a,')[0]\n",
    "    ```\n",
    "1.  ```python    \n",
    "    ('a',)[0]\n",
    "    ```\n",
    "1.  ```python    \n",
    "    (1,2,3)[-0]\n",
    "    ```\n",
    "1.  ```python    \n",
    "    (1,2,3)[-1]\n",
    "    ```\n",
    "1.  ```python    \n",
    "    (1,2,3)[-3]\n",
    "    ```\n",
    "1.  ```python    \n",
    "    ()[0]\n",
    "    ```\n",
    "1.  ```python    \n",
    "    (())[0]\n",
    "    ```\n",
    "1.  ```python    \n",
    "    type((())[0])\n",
    "    ```    "
   ]
  },
  {
   "cell_type": "code",
   "execution_count": null,
   "id": "6da21a04",
   "metadata": {},
   "outputs": [],
   "source": []
  },
  {
   "cell_type": "markdown",
   "id": "511597b4",
   "metadata": {},
   "source": [
    "### Exercise - animals\n",
    "\n",
    "Given the string `animals = \"Siamese cat,dog,canary,piglet,rabbit,hamster\"`\n",
    "\n",
    "1. convert it to a list\n",
    "2. create a tuple of tuples where each tuple has two elements: the animal name and the name length, i.e.  ((\"dog\",3), ( \"hamster\",7))\n",
    "3. print the tuple\n",
    "\n",
    "You should obtain:\n",
    "\n",
    "```\n",
    "Siamese cat,dog,canary,piglet,rabbit,hamster\n",
    "\n",
    "(('Siamese cat', 11), ('dog', 3), ('canary', 6), ('piglet', 6), ('rabbit', 6), ('hamster', 7))\n",
    "\n",
    "```\n",
    "\n",
    "* you can assume `animals` always contains exactly 6 animals"
   ]
  },
  {
   "cell_type": "raw",
   "id": "2c0a3958",
   "metadata": {
    "format": "text/html"
   },
   "source": [
    "<a  class=\"jupman-sol jupman-sol-toggler\" \n",
    " onclick=\"jupman.toggleSolution(this);\" \n",
    " data-jupman-show=\"Show solution\" data-jupman-hide=\"Hide\">Show solution</a><div class=\"jupman-sol jupman-sol-code\" style=\"display:none\">  "
   ]
  },
  {
   "cell_type": "code",
   "execution_count": 39,
   "id": "3d973ec1",
   "metadata": {},
   "outputs": [
    {
     "name": "stdout",
     "output_type": "stream",
     "text": [
      "\n",
      "(('Siamese cat', 11), ('dog', 3), ('canary', 6), ('piglet', 6), ('rabbit', 6), ('hamster', 7))\n"
     ]
    }
   ],
   "source": [
    "\n",
    "animals = \"Siamese cat,dog,canary,piglet,rabbit,hamster\"\n",
    "\n",
    "# write here\n",
    "my_list = animals.split(',')\n",
    "\n",
    "#print(animals)\n",
    "print()\n",
    "\n",
    "animals_tuple = ( (my_list[0], len(my_list[0])), \n",
    "                  (my_list[1], len(my_list[1])), \n",
    "                  (my_list[2], len(my_list[2])), \n",
    "                  (my_list[3], len(my_list[3])),\n",
    "                  (my_list[4], len(my_list[4])),\n",
    "                  (my_list[5], len(my_list[5])))\n",
    "\n",
    "print(animals_tuple)"
   ]
  },
  {
   "cell_type": "raw",
   "id": "5b6adc9f",
   "metadata": {
    "format": "text/html"
   },
   "source": [
    "</div>"
   ]
  },
  {
   "cell_type": "code",
   "execution_count": 39,
   "id": "3d973ec1-stripped",
   "metadata": {},
   "outputs": [],
   "source": [
    "\n",
    "animals = \"Siamese cat,dog,canary,piglet,rabbit,hamster\"\n",
    "\n",
    "# write here\n",
    "\n"
   ]
  },
  {
   "cell_type": "markdown",
   "id": "bba805e4",
   "metadata": {},
   "source": [
    "### Slices\n",
    "\n",
    "As with strings and lists, by using _slices_ we can also extract subsequences from a tuple, that is, on the right of the tuple we can write square brackets with inside a start index INCLUDED, a colon `:` and an end index EXCLUDED:"
   ]
  },
  {
   "cell_type": "code",
   "execution_count": 40,
   "id": "9c83ff6a",
   "metadata": {},
   "outputs": [],
   "source": [
    "tup = (10,11,12,13,14,15,16,17,18,19)"
   ]
  },
  {
   "cell_type": "code",
   "execution_count": 41,
   "id": "041169df",
   "metadata": {},
   "outputs": [
    {
     "data": {
      "text/plain": [
       "(12, 13, 14, 15)"
      ]
     },
     "execution_count": 41,
     "metadata": {},
     "output_type": "execute_result"
    }
   ],
   "source": [
    "tup[2:6]  # from index 2 INCLUDED to 6 EXCLUDED"
   ]
  },
  {
   "cell_type": "markdown",
   "id": "1bdb3b7a",
   "metadata": {},
   "source": [
    "It is possible to alternate the gathering of elements by adding the number of elements to skip as a third numerical parameter in the square brackets, for example:"
   ]
  },
  {
   "cell_type": "code",
   "execution_count": 42,
   "id": "c60b0abd",
   "metadata": {},
   "outputs": [],
   "source": [
    "tup = (10,11,12,13,14,15,16,17)"
   ]
  },
  {
   "cell_type": "code",
   "execution_count": 43,
   "id": "13e06683",
   "metadata": {},
   "outputs": [
    {
     "data": {
      "text/plain": [
       "(10, 15)"
      ]
     },
     "execution_count": 43,
     "metadata": {},
     "output_type": "execute_result"
    }
   ],
   "source": [
    "tup[0:8:5]"
   ]
  },
  {
   "cell_type": "code",
   "execution_count": 44,
   "id": "aad043e5",
   "metadata": {},
   "outputs": [
    {
     "data": {
      "text/plain": [
       "(10, 12, 14, 16)"
      ]
     },
     "execution_count": 44,
     "metadata": {},
     "output_type": "execute_result"
    }
   ],
   "source": [
    "tup[0:8:2]"
   ]
  },
  {
   "cell_type": "code",
   "execution_count": 45,
   "id": "7ca7bcbf",
   "metadata": {},
   "outputs": [
    {
     "data": {
      "text/plain": [
       "(11, 12, 13, 14, 15, 16, 17)"
      ]
     },
     "execution_count": 45,
     "metadata": {},
     "output_type": "execute_result"
    }
   ],
   "source": [
    "tup[1:8:1]"
   ]
  },
  {
   "cell_type": "markdown",
   "id": "169235a6",
   "metadata": {},
   "source": [
    "<div class=\"alert alert-warning\">\n",
    "    \n",
    "**WARNING: remeber that slices produce a NEW tuple !**\n",
    "\n",
    "</div>"
   ]
  },
  {
   "cell_type": "markdown",
   "id": "9223ceca",
   "metadata": {},
   "source": [
    "**QUESTION**: Have a look at the following code snippets, and for each try to guess which result it produces (or if it gives an error)\n",
    "\n",
    "    \n",
    "1.  ```python\n",
    "    (7,6,8,9,5)(1:3)\n",
    "    ```\n",
    "1.  ```python    \n",
    "    (7,6,8,9,5)[1:3]\n",
    "    ```\n",
    "1.  ```python    \n",
    "    (10,11,12,13,14,15,16)[3:100]\n",
    "    ```\n",
    "1.  ```python    \n",
    "    (10,11,12,13,14,15,16)[-3:5]\n",
    "    ```\n",
    "1.  ```python    \n",
    "    (1,0,1,0,1,0)[::2]\n",
    "    ```\n",
    "1.  ```python    \n",
    "    (1,2,3)[::1]\n",
    "    ```\n",
    "1.  ```python    \n",
    "    (1,0,1,0,1,0)[1::2]\n",
    "    ```\n",
    "1.  ```python    \n",
    "    tuple(\"postcards\")[0::2]\n",
    "    ```\n",
    "1.  ```python    \n",
    "    (4,5,6,3,4,7)[0:::2]\n",
    "    ```"
   ]
  },
  {
   "cell_type": "markdown",
   "id": "f12956bc",
   "metadata": {},
   "source": [
    "### Concatenation\n",
    "\n",
    "It is possible to concatenate two tuples by using the operator `+`, which creates a NEW tuple:"
   ]
  },
  {
   "cell_type": "code",
   "execution_count": 46,
   "id": "26415204",
   "metadata": {},
   "outputs": [],
   "source": [
    "t = (1,2,3) + (4,5,6,7,8)"
   ]
  },
  {
   "cell_type": "code",
   "execution_count": 47,
   "id": "42ce440a",
   "metadata": {},
   "outputs": [
    {
     "data": {
      "text/plain": [
       "(1, 2, 3, 4, 5, 6, 7, 8)"
      ]
     },
     "execution_count": 47,
     "metadata": {},
     "output_type": "execute_result"
    }
   ],
   "source": [
    "t"
   ]
  },
  {
   "cell_type": "code",
   "execution_count": 48,
   "id": "252d6421",
   "metadata": {},
   "outputs": [
    {
     "data": {
      "text/plain": [
       "tuple"
      ]
     },
     "execution_count": 48,
     "metadata": {},
     "output_type": "execute_result"
    }
   ],
   "source": [
    "type(t)"
   ]
  },
  {
   "cell_type": "markdown",
   "id": "23637b8f",
   "metadata": {},
   "source": [
    "Let's verify that original tuples are not modified:"
   ]
  },
  {
   "cell_type": "code",
   "execution_count": 49,
   "id": "3cd25ffe",
   "metadata": {},
   "outputs": [],
   "source": [
    "x = (1,2,3)\n",
    "y = (4,5,6,7,8)"
   ]
  },
  {
   "cell_type": "code",
   "execution_count": 50,
   "id": "22a72c92",
   "metadata": {},
   "outputs": [],
   "source": [
    "t = x + y"
   ]
  },
  {
   "cell_type": "code",
   "execution_count": 51,
   "id": "4a000345",
   "metadata": {},
   "outputs": [
    {
     "data": {
      "text/plain": [
       "(1, 2, 3, 4, 5, 6, 7, 8)"
      ]
     },
     "execution_count": 51,
     "metadata": {},
     "output_type": "execute_result"
    }
   ],
   "source": [
    "t"
   ]
  },
  {
   "cell_type": "code",
   "execution_count": 52,
   "id": "5601071f",
   "metadata": {},
   "outputs": [
    {
     "data": {
      "text/plain": [
       "(1, 2, 3)"
      ]
     },
     "execution_count": 52,
     "metadata": {},
     "output_type": "execute_result"
    }
   ],
   "source": [
    "x"
   ]
  },
  {
   "cell_type": "code",
   "execution_count": 53,
   "id": "e95ad415",
   "metadata": {},
   "outputs": [
    {
     "data": {
      "text/plain": [
       "(4, 5, 6, 7, 8)"
      ]
     },
     "execution_count": 53,
     "metadata": {},
     "output_type": "execute_result"
    }
   ],
   "source": [
    "y"
   ]
  },
  {
   "cell_type": "markdown",
   "id": "675ab064",
   "metadata": {},
   "source": [
    "Let's see how they are represented in Python Tutor:"
   ]
  },
  {
   "cell_type": "code",
   "execution_count": 54,
   "id": "368a31e7",
   "metadata": {},
   "outputs": [],
   "source": [
    "# FOR PYTHON TUTOR TO WORK, REMEMBER TO EXECUTE HERE THIS CELL with Shift+Enter\n",
    "#   (it's sufficient to execute it only once, it's also at the beginning of this notebook)\n",
    "import jupman"
   ]
  },
  {
   "cell_type": "code",
   "execution_count": 55,
   "id": "6f1c09cd",
   "metadata": {},
   "outputs": [
    {
     "name": "stdout",
     "output_type": "stream",
     "text": [
      "(1, 2, 3, 4, 5, 6, 7, 8)\n",
      "(1, 2, 3)\n",
      "(4, 5, 6, 7, 8)\n"
     ]
    },
    {
     "data": {
      "text/html": [
       "        \n",
       "        <script src=\"../_static/js/pytutor-embed.bundle.min.js\" type=\"application/javascript\"></script>\n",
       "    \n",
       "        <style>\n",
       "        @import \"../_static/css/jupman.css\";\n",
       "        </style>\n",
       "     \n",
       "        <script id=\"json-jm-4b1132c0c1f0bb1673a3e5ae5a33e02f-57\" type=\"application/json\" >\n",
       "            {\"code\": \" \\nx = (1,2,3)\\ny = (4,5,6,7,8)\\nt = x + y\\nprint(t)\\nprint(x)\\nprint(y)\", \"trace\": [{\"line\": 2, \"event\": \"step_line\", \"func_name\": \"<module>\", \"globals\": {}, \"ordered_globals\": [], \"stack_to_render\": [], \"heap\": {}, \"stdout\": \"\"}, {\"line\": 3, \"event\": \"step_line\", \"func_name\": \"<module>\", \"globals\": {\"x\": [\"REF\", 1]}, \"ordered_globals\": [\"x\"], \"stack_to_render\": [], \"heap\": {\"1\": [\"TUPLE\", 1, 2, 3]}, \"stdout\": \"\"}, {\"line\": 4, \"event\": \"step_line\", \"func_name\": \"<module>\", \"globals\": {\"x\": [\"REF\", 1], \"y\": [\"REF\", 2]}, \"ordered_globals\": [\"x\", \"y\"], \"stack_to_render\": [], \"heap\": {\"1\": [\"TUPLE\", 1, 2, 3], \"2\": [\"TUPLE\", 4, 5, 6, 7, 8]}, \"stdout\": \"\"}, {\"line\": 5, \"event\": \"step_line\", \"func_name\": \"<module>\", \"globals\": {\"x\": [\"REF\", 1], \"y\": [\"REF\", 2], \"t\": [\"REF\", 3]}, \"ordered_globals\": [\"x\", \"y\", \"t\"], \"stack_to_render\": [], \"heap\": {\"1\": [\"TUPLE\", 1, 2, 3], \"2\": [\"TUPLE\", 4, 5, 6, 7, 8], \"3\": [\"TUPLE\", 1, 2, 3, 4, 5, 6, 7, 8]}, \"stdout\": \"\"}, {\"line\": 6, \"event\": \"step_line\", \"func_name\": \"<module>\", \"globals\": {\"x\": [\"REF\", 1], \"y\": [\"REF\", 2], \"t\": [\"REF\", 3]}, \"ordered_globals\": [\"x\", \"y\", \"t\"], \"stack_to_render\": [], \"heap\": {\"1\": [\"TUPLE\", 1, 2, 3], \"2\": [\"TUPLE\", 4, 5, 6, 7, 8], \"3\": [\"TUPLE\", 1, 2, 3, 4, 5, 6, 7, 8]}, \"stdout\": \"(1, 2, 3, 4, 5, 6, 7, 8)\\n\"}, {\"line\": 7, \"event\": \"step_line\", \"func_name\": \"<module>\", \"globals\": {\"x\": [\"REF\", 1], \"y\": [\"REF\", 2], \"t\": [\"REF\", 3]}, \"ordered_globals\": [\"x\", \"y\", \"t\"], \"stack_to_render\": [], \"heap\": {\"1\": [\"TUPLE\", 1, 2, 3], \"2\": [\"TUPLE\", 4, 5, 6, 7, 8], \"3\": [\"TUPLE\", 1, 2, 3, 4, 5, 6, 7, 8]}, \"stdout\": \"(1, 2, 3, 4, 5, 6, 7, 8)\\n(1, 2, 3)\\n\"}, {\"line\": 7, \"event\": \"return\", \"func_name\": \"<module>\", \"globals\": {\"x\": [\"REF\", 1], \"y\": [\"REF\", 2], \"t\": [\"REF\", 3]}, \"ordered_globals\": [\"x\", \"y\", \"t\"], \"stack_to_render\": [], \"heap\": {\"1\": [\"TUPLE\", 1, 2, 3], \"2\": [\"TUPLE\", 4, 5, 6, 7, 8], \"3\": [\"TUPLE\", 1, 2, 3, 4, 5, 6, 7, 8]}, \"stdout\": \"(1, 2, 3, 4, 5, 6, 7, 8)\\n(1, 2, 3)\\n(4, 5, 6, 7, 8)\\n\"}]}\n",
       "        </script>\n",
       "        <div id=\"jm-4b1132c0c1f0bb1673a3e5ae5a33e02f-57\" class=\"pytutorVisualizer\"> </div>\n",
       "                        \n",
       "        <script>\n",
       "        \n",
       "        (function(){\n",
       "            console.log(\"jupman.py embedded javascript: adding Python tutor visualizer...\")\n",
       "            \n",
       "            var trace = JSON.parse(document.getElementById('json-jm-4b1132c0c1f0bb1673a3e5ae5a33e02f-57').innerHTML);                                        \n",
       "            // NOTE: id without #\n",
       "                    \n",
       "            addVisualizerToPage(trace, 'jm-4b1132c0c1f0bb1673a3e5ae5a33e02f-57',{'embeddedMode' : false,\n",
       "                                             'disableHeapNesting': true,\n",
       "                                             'visualizerIdOverride':'viz-jm-4b1132c0c1f0bb1673a3e5ae5a33e02f-57'})  \n",
       "            \n",
       "            \n",
       "            // set overflow for pytuts - need to do in python as css \n",
       "            // does not allow parent selection\n",
       "            var pytuts = $('.pytutorVisualizer')\n",
       "            pytuts.closest('div.output_html.rendered_html.output_result')\n",
       "                    .css('overflow-x', 'visible')\n",
       "        \n",
       "            //pytuts.closest('div.output_html.rendered_html.output_result')\n",
       "            //      .css('background-color','red')                \n",
       "            \n",
       "        })()\n",
       "        </script>\n",
       "                \n",
       "    \n",
       "    <div style=\"text-align:center; font-size:0.9em\"> <a href=\"https://pythontutor.com/visualize.html#mode=edit\" target=\"_blank\">Python Tutor</a> visualization</div> \n",
       "    "
      ],
      "text/plain": [
       "<IPython.core.display.HTML object>"
      ]
     },
     "execution_count": 55,
     "metadata": {},
     "output_type": "execute_result"
    }
   ],
   "source": [
    "x = (1,2,3)\n",
    "y = (4,5,6,7,8)\n",
    "t = x + y\n",
    "print(t)\n",
    "print(x)\n",
    "print(y)\n",
    "\n",
    "jupman.pytut()"
   ]
  },
  {
   "cell_type": "markdown",
   "id": "2bc4ff07",
   "metadata": {},
   "source": [
    "**QUESTION**: Have a look at the following code snippets, and for each try guessing which result  it produces (or if it gives an error)\n",
    "\n",
    "1.  ```python    \n",
    "    (2,3,4) + tuple([5,6,7])\n",
    "    ```    \n",
    "1.  ```python    \n",
    "    \"crazy\"+('r','o','c','k','e','t')\n",
    "    ```\n",
    "1.  ```python\n",
    "    ()+()\n",
    "    ```\n",
    "1.  ```python    \n",
    "    type(()+())\n",
    "    ```\n",
    "1.  ```python    \n",
    "    len(()+())\n",
    "    ```\n",
    "1.  ```python    \n",
    "    ()+[]\n",
    "    ```\n",
    "1.  ```python    \n",
    "    []+()\n",
    "    ```    "
   ]
  },
  {
   "cell_type": "markdown",
   "id": "2b7a850b",
   "metadata": {},
   "source": [
    "### Membership"
   ]
  },
  {
   "cell_type": "markdown",
   "id": "14eb0902",
   "metadata": {},
   "source": [
    "As in all sequences, if we want to verify whether an element is contained in a tuple we can use the operator `in` which returns a boolean value:"
   ]
  },
  {
   "cell_type": "code",
   "execution_count": 56,
   "id": "7f07f1e6",
   "metadata": {},
   "outputs": [
    {
     "data": {
      "text/plain": [
       "True"
      ]
     },
     "execution_count": 56,
     "metadata": {},
     "output_type": "execute_result"
    }
   ],
   "source": [
    "'e' in ('h','e','l','m','e','t')"
   ]
  },
  {
   "cell_type": "code",
   "execution_count": 57,
   "id": "c5f93a79",
   "metadata": {},
   "outputs": [
    {
     "data": {
      "text/plain": [
       "False"
      ]
     },
     "execution_count": 57,
     "metadata": {},
     "output_type": "execute_result"
    }
   ],
   "source": [
    "'z' in ('h','e','l','m','e','t')"
   ]
  },
  {
   "cell_type": "markdown",
   "id": "e91fda4a",
   "metadata": {},
   "source": [
    "#### not in\n",
    "\n",
    "To check whether something is **not** belonging to a tuple, we can use two forms:\n",
    "\n",
    "**not in - form 1**:"
   ]
  },
  {
   "cell_type": "code",
   "execution_count": 58,
   "id": "7cd09dd4",
   "metadata": {},
   "outputs": [
    {
     "data": {
      "text/plain": [
       "True"
      ]
     },
     "execution_count": 58,
     "metadata": {},
     "output_type": "execute_result"
    }
   ],
   "source": [
    "\"carrot\" not in (\"watermelon\",\"banana\",\"apple\")"
   ]
  },
  {
   "cell_type": "code",
   "execution_count": 59,
   "id": "4ca5124a",
   "metadata": {},
   "outputs": [
    {
     "data": {
      "text/plain": [
       "False"
      ]
     },
     "execution_count": 59,
     "metadata": {},
     "output_type": "execute_result"
    }
   ],
   "source": [
    "\"watermelon\" not in (\"watermelon\",\"banana\",\"apple\")"
   ]
  },
  {
   "cell_type": "markdown",
   "id": "ea29e9fb",
   "metadata": {},
   "source": [
    "**not in - form 2**"
   ]
  },
  {
   "cell_type": "code",
   "execution_count": 60,
   "id": "b74145b1",
   "metadata": {},
   "outputs": [
    {
     "data": {
      "text/plain": [
       "True"
      ]
     },
     "execution_count": 60,
     "metadata": {},
     "output_type": "execute_result"
    }
   ],
   "source": [
    "not \"carrot\" in (\"watermelon\",\"banana\",\"apple\")"
   ]
  },
  {
   "cell_type": "code",
   "execution_count": 61,
   "id": "2499353c",
   "metadata": {},
   "outputs": [
    {
     "data": {
      "text/plain": [
       "False"
      ]
     },
     "execution_count": 61,
     "metadata": {},
     "output_type": "execute_result"
    }
   ],
   "source": [
    "not \"watermelon\" in (\"watermelon\",\"banana\",\"apple\")"
   ]
  },
  {
   "cell_type": "markdown",
   "id": "d7f42ce9",
   "metadata": {},
   "source": [
    "**QUESTION**: Have a look at the following code snippets, and for each try to guess which result it produces (or if it gives an error)\n",
    "\n",
    "    \n",
    "1.  ```python    \n",
    "    3 in (1.0, 2.0,3.0)\n",
    "    ```\n",
    "1.  ```python    \n",
    "    3.0 in (1,2,3)\n",
    "    ```\n",
    "1.  ```python    \n",
    "    3 not in (3)\n",
    "    ```\n",
    "1.  ```python    \n",
    "    3 not in (3,)\n",
    "    ```\n",
    "1.  ```python    \n",
    "    6 not in ()\n",
    "    ```\n",
    "1.  ```python\n",
    "    0 in (0)[0]\n",
    "    ```\n",
    "1.  ```python    \n",
    "    [] in ()\n",
    "    ```\n",
    "1.  ```python    \n",
    "    () in []\n",
    "    ```\n",
    "1.  ```python    \n",
    "    not [] in ()\n",
    "    ```\n",
    "1.  ```python    \n",
    "    () in ()\n",
    "    ```\n",
    "1.  ```python    \n",
    "    () in (())\n",
    "    ```\n",
    "1.  ```python    \n",
    "    () in ((),)\n",
    "    ```\n",
    "1.  ```python    \n",
    "    'ciao' in ('c','i','a','o')\n",
    "    ```\n"
   ]
  },
  {
   "cell_type": "markdown",
   "id": "3cba35f8",
   "metadata": {},
   "source": [
    "\n",
    "### Replication\n",
    "\n",
    "To replicate the elements in a tuple, it is possible to use the operator `*` which produces a NEW tuple:"
   ]
  },
  {
   "cell_type": "code",
   "execution_count": 62,
   "id": "82c6ecc8",
   "metadata": {},
   "outputs": [
    {
     "data": {
      "text/plain": [
       "(7, 8, 5, 7, 8, 5, 7, 8, 5)"
      ]
     },
     "execution_count": 62,
     "metadata": {},
     "output_type": "execute_result"
    }
   ],
   "source": [
    "(7,8,5) * 3"
   ]
  },
  {
   "cell_type": "code",
   "execution_count": 63,
   "id": "2948e0f6",
   "metadata": {},
   "outputs": [
    {
     "data": {
      "text/plain": [
       "(7, 8, 5)"
      ]
     },
     "execution_count": 63,
     "metadata": {},
     "output_type": "execute_result"
    }
   ],
   "source": [
    "(7,8,5) * 1"
   ]
  },
  {
   "cell_type": "code",
   "execution_count": 64,
   "id": "b587721d",
   "metadata": {},
   "outputs": [
    {
     "data": {
      "text/plain": [
       "()"
      ]
     },
     "execution_count": 64,
     "metadata": {},
     "output_type": "execute_result"
    }
   ],
   "source": [
    "(7,8,5) * 0"
   ]
  },
  {
   "cell_type": "markdown",
   "id": "52a48572",
   "metadata": {},
   "source": [
    "**QUESTION**: What is the following code going to print?\n",
    "\n",
    "```python\n",
    "x = (5,6,7)\n",
    "y = x * 3\n",
    "print('x=',x)\n",
    "print('y=',y)\n",
    "```"
   ]
  },
  {
   "cell_type": "markdown",
   "id": "b854a807",
   "metadata": {},
   "source": [
    "**ANWSER**: It will print:\n",
    "\n",
    "```\n",
    "x = (5, 6, 7)\n",
    "y = (5, 6, 7, 5, 6, 7, 5, 6, 7)\n",
    "```\n",
    "\n",
    "because the multiplication generates a NEW tuple which is associated to `y`. The tuple associated to `x` remains unchanged."
   ]
  },
  {
   "cell_type": "markdown",
   "id": "6f69fb67",
   "metadata": {},
   "source": [
    "**QUESTION**: Have a look at the following expressions, and for each try to guess which result it produces (or if it gives an error)\n",
    "\n",
    "    \n",
    "1.  ```python\n",
    "    (5,6,7)*(3.0)\n",
    "    ```\n",
    "1.  ```python    \n",
    "    (5,6,7)*(3,0)\n",
    "    ```\n",
    "1.  ```python    \n",
    "    (5,6,7)*(3)\n",
    "    ```\n",
    "1.  ```python    \n",
    "    (5,6,7)*3\n",
    "    ```\n",
    "1.  ```python    \n",
    "    (4,2,3)*int(3.0)\n",
    "    ```\n",
    "1.  ```python    \n",
    "    (1,2)*[3][0]\n",
    "    ```\n",
    "1.  ```python    \n",
    "    (1,2)*(3,4)[-1]\n",
    "    ```\n",
    "1.  ```python    \n",
    "    [(9,8)]*4\n",
    "    ```\n",
    "1.  ```python\n",
    "    (1+2,3+4)*5\n",
    "    ```    \n",
    "1.  ```python\n",
    "    (1+2,)*4\n",
    "    ```\n",
    "1.  ```python\n",
    "    (1+2)*4\n",
    "    ```        \n",
    "1.  ```python\n",
    "    (1,2,3)*0\n",
    "    ```\n",
    "1.  ```python\n",
    "    (7)*0\n",
    "    ```\n",
    "1.  ```python\n",
    "    (7,)*0\n",
    "    ```"
   ]
  },
  {
   "cell_type": "code",
   "execution_count": null,
   "id": "5115c94f",
   "metadata": {},
   "outputs": [],
   "source": []
  },
  {
   "cell_type": "markdown",
   "id": "d9ab6ec2",
   "metadata": {},
   "source": [
    "### Exercise - welcome\n",
    "\n",
    "Given a tuple `x` containing exactly 3 integers, and a tuple `y` containing exactly 3 tuples of characters, write some code to create a tuple `z` containing each tuple of `y` replicated by the corresponding integer in `x`.\n",
    "\n",
    "\n",
    "Example - given:\n",
    "\n",
    "```python\n",
    "x = (2,4,3)\n",
    "y = (('w','e','l','c'),('o',),('m','e'))\n",
    "```\n",
    "\n",
    "after your code it should print:\n",
    "\n",
    "```python\n",
    ">>> print(z)\n",
    "('w', 'e', 'l', 'c', 'w', 'e', 'l', 'c', 'o', 'o', 'o', 'o', 'm', 'e', 'm', 'e', 'm', 'e')\n",
    "```\n"
   ]
  },
  {
   "cell_type": "raw",
   "id": "08772791",
   "metadata": {
    "format": "text/html"
   },
   "source": [
    "<a  class=\"jupman-sol jupman-sol-toggler\" \n",
    " onclick=\"jupman.toggleSolution(this);\" \n",
    " data-jupman-show=\"Show solution\" data-jupman-hide=\"Hide\">Show solution</a><div class=\"jupman-sol jupman-sol-code\" style=\"display:none\">  "
   ]
  },
  {
   "cell_type": "code",
   "execution_count": 65,
   "id": "abdcc93c",
   "metadata": {},
   "outputs": [
    {
     "name": "stdout",
     "output_type": "stream",
     "text": [
      "('w', 'e', 'l', 'c', 'w', 'e', 'l', 'c', 'o', 'o', 'o', 'o', 'm', 'e', 'm', 'e', 'm', 'e')\n"
     ]
    }
   ],
   "source": [
    "\n",
    "x = (2,4,3)\n",
    "y = (('w','e','l','c'),('o',),('m','e'))\n",
    "\n",
    "# write here\n",
    "z = y[0]*x[0] + y[1]*x[1] + y[2]*x[2] \n",
    "\n",
    "print(z)"
   ]
  },
  {
   "cell_type": "raw",
   "id": "b1939ded",
   "metadata": {
    "format": "text/html"
   },
   "source": [
    "</div>"
   ]
  },
  {
   "cell_type": "code",
   "execution_count": 65,
   "id": "abdcc93c-stripped",
   "metadata": {},
   "outputs": [],
   "source": [
    "\n",
    "x = (2,4,3)\n",
    "y = (('w','e','l','c'),('o',),('m','e'))\n",
    "\n",
    "# write here\n",
    "\n"
   ]
  },
  {
   "cell_type": "markdown",
   "id": "08a0caa4",
   "metadata": {},
   "source": [
    "## Write an element"
   ]
  },
  {
   "cell_type": "markdown",
   "id": "3c57629d",
   "metadata": {},
   "source": [
    "Tuples are _immutable,_ so trying to i.e. write an assignment for placing the number `12` into the cell at index `3` provokes an error:"
   ]
  },
  {
   "cell_type": "markdown",
   "id": "e83caef5",
   "metadata": {},
   "source": [
    "```python\n",
    "#      0 1 2 3 4\n",
    "tup = (5,8,7,9,11)\n",
    "tup[3] = 666\n",
    "\n",
    "---------------------------------------------------------------------------\n",
    "TypeError                                 Traceback (most recent call last)\n",
    "<ipython-input-118-83949b0c81e2> in <module>\n",
    "      1 tup = (5,8,7,9,11)\n",
    "----> 2 tup[3] = 666\n",
    "\n",
    "TypeError: 'tuple' object does not support item assignment\n",
    "\n",
    "```"
   ]
  },
  {
   "cell_type": "markdown",
   "id": "bdb7ad26",
   "metadata": {},
   "source": [
    "What we can do is to create a NEW tuple by composing it from sequences takes from the original one:"
   ]
  },
  {
   "cell_type": "code",
   "execution_count": 66,
   "id": "f117b146",
   "metadata": {},
   "outputs": [],
   "source": [
    "#      0  1  2  3  4  5  6\n",
    "tup = (17,54,34,87,26,95,34)"
   ]
  },
  {
   "cell_type": "code",
   "execution_count": 67,
   "id": "8e316925",
   "metadata": {},
   "outputs": [],
   "source": [
    "tup =  tup[0:3] + (12,) + tup[4:]"
   ]
  },
  {
   "cell_type": "code",
   "execution_count": 68,
   "id": "b272663d",
   "metadata": {},
   "outputs": [
    {
     "data": {
      "text/plain": [
       "(17, 54, 34, 12, 26, 95, 34)"
      ]
     },
     "execution_count": 68,
     "metadata": {},
     "output_type": "execute_result"
    }
   ],
   "source": [
    "tup"
   ]
  },
  {
   "cell_type": "markdown",
   "id": "0343a098",
   "metadata": {},
   "source": [
    "<div class=\"alert alert-warning\">\n",
    "\n",
    "**WARNING:** `append`, `extend`, `insert`, `sort` **DO NOT WORK WITH TUPLES !**\n",
    "\n",
    "All the methods you used to modify lists will _not_ work with tuples.\n",
    "\n",
    "</div>"
   ]
  },
  {
   "cell_type": "markdown",
   "id": "40f17530",
   "metadata": {},
   "source": [
    "###  Exercise - badmod\n",
    "\n",
    "Try writing down here  `(1,2,3).append(4)` and see which error appears:"
   ]
  },
  {
   "cell_type": "code",
   "execution_count": 69,
   "id": "d53ebc47",
   "metadata": {},
   "outputs": [],
   "source": [
    "# write here\n"
   ]
  },
  {
   "cell_type": "markdown",
   "id": "61c63a8d",
   "metadata": {},
   "source": [
    "### Exercise -  abde\n",
    "\n",
    "Given a tuple `x`, save in a variable `y` another tuple containing:\n",
    "\n",
    "* at the beginning, the same elements of `x` _except_ the last one\n",
    "* at the end, the elements `'d'` and `'e'` . \n",
    "\n",
    "* Your code should work with _any_ tuple `x`\n",
    "\n",
    "Example - given:\n",
    "\n",
    "```python\n",
    "x = ('a','b','c')\n",
    "```\n",
    "after your code, you should see printed:\n",
    "\n",
    "```bash\n",
    "x = ('a', 'b', 'c')\n",
    "y = ('a', 'b', 'd', 'e')\n",
    "```"
   ]
  },
  {
   "cell_type": "raw",
   "id": "8c4a2aea",
   "metadata": {
    "format": "text/html"
   },
   "source": [
    "<a  class=\"jupman-sol jupman-sol-toggler\" \n",
    " onclick=\"jupman.toggleSolution(this);\" \n",
    " data-jupman-show=\"Show solution\" data-jupman-hide=\"Hide\">Show solution</a><div class=\"jupman-sol jupman-sol-code\" style=\"display:none\">  "
   ]
  },
  {
   "cell_type": "code",
   "execution_count": 70,
   "id": "85cc582d",
   "metadata": {},
   "outputs": [
    {
     "name": "stdout",
     "output_type": "stream",
     "text": [
      "x= ('a', 'b', 'c')\n",
      "y= ('a', 'b', 'd', 'e')\n"
     ]
    }
   ],
   "source": [
    "\n",
    "x = ('a','b','c')\n",
    "\n",
    "# write here\n",
    "y = x[:-1] + ('d','e')\n",
    "\n",
    "print('x=',x)\n",
    "print('y=',y)"
   ]
  },
  {
   "cell_type": "raw",
   "id": "1ad74e2b",
   "metadata": {
    "format": "text/html"
   },
   "source": [
    "</div>"
   ]
  },
  {
   "cell_type": "code",
   "execution_count": 70,
   "id": "85cc582d-stripped",
   "metadata": {},
   "outputs": [],
   "source": [
    "\n",
    "x = ('a','b','c')\n",
    "\n",
    "# write here\n",
    "\n"
   ]
  },
  {
   "cell_type": "markdown",
   "id": "da22f586",
   "metadata": {},
   "source": [
    "### Exercise - charismatic\n",
    "\n",
    "Given a tuple `t` having alternating uppercase / lowercase characters, write some code which modifies the assignment of `t` so that `t` becomes equal to a tuple having all characters lowercase as first ones and all uppercase characters as last ones.\n",
    "\n",
    "Example - given:\n",
    "\n",
    "```python\n",
    "t = ('C', 'h','A', 'r', 'I', 's', 'M', 'a', 'T', 'i', 'C')\n",
    "```\n",
    "\n",
    "after your code it must result:\n",
    "\n",
    "```python\n",
    ">>> print(t)\n",
    "('C', 'A', 'I', 'M', 'T', 'C', 'h', 'r', 's', 'a', 'i')\n",
    "\n",
    "```"
   ]
  },
  {
   "cell_type": "raw",
   "id": "1866c0e0",
   "metadata": {
    "format": "text/html"
   },
   "source": [
    "<a  class=\"jupman-sol jupman-sol-toggler\" \n",
    " onclick=\"jupman.toggleSolution(this);\" \n",
    " data-jupman-show=\"Show solution\" data-jupman-hide=\"Hide\">Show solution</a><div class=\"jupman-sol jupman-sol-code\" style=\"display:none\">  "
   ]
  },
  {
   "cell_type": "code",
   "execution_count": 71,
   "id": "d6908956",
   "metadata": {},
   "outputs": [
    {
     "name": "stdout",
     "output_type": "stream",
     "text": [
      "('C', 'A', 'I', 'M', 'T', 'C', 'h', 'r', 's', 'a', 'i')\n"
     ]
    }
   ],
   "source": [
    "\n",
    "t = ('C', 'h','A', 'r', 'I', 's', 'M', 'a', 'T', 'i', 'C')\n",
    "\n",
    "# write here\n",
    "t = t[::2] + t[1::2]\n",
    "print(t)"
   ]
  },
  {
   "cell_type": "raw",
   "id": "213240b2",
   "metadata": {
    "format": "text/html"
   },
   "source": [
    "</div>"
   ]
  },
  {
   "cell_type": "code",
   "execution_count": 71,
   "id": "d6908956-stripped",
   "metadata": {},
   "outputs": [],
   "source": [
    "\n",
    "t = ('C', 'h','A', 'r', 'I', 's', 'M', 'a', 'T', 'i', 'C')\n",
    "\n",
    "# write here\n",
    "\n"
   ]
  },
  {
   "cell_type": "markdown",
   "id": "1625c8d5",
   "metadata": {},
   "source": [
    "### Exercise - sorting\n",
    "\n",
    "Given a tuple `x` of unordered numbers, write some code which changes the assignment of `x` so that `x` results assigned to a sorted tuple\n",
    "\n",
    "* your code must work for _any_ tuple `x`\n",
    "* **HINT**: as we've already written, tuples DO NOT have `sort` method (because it would mutate them), but lists have it ...\n",
    "\n",
    "Example - given:\n",
    "```python\n",
    "x = (3,4,2,5,5,5,2,3)\n",
    "```\n",
    "after your code it must result:\n",
    " \n",
    "```python\n",
    ">>> print(x)\n",
    "(2, 2, 3, 3, 4, 5, 5, 5)\n",
    "```"
   ]
  },
  {
   "cell_type": "raw",
   "id": "01f8a4fb",
   "metadata": {
    "format": "text/html"
   },
   "source": [
    "<a  class=\"jupman-sol jupman-sol-toggler\" \n",
    " onclick=\"jupman.toggleSolution(this);\" \n",
    " data-jupman-show=\"Show solution\" data-jupman-hide=\"Hide\">Show solution</a><div class=\"jupman-sol jupman-sol-code\" style=\"display:none\">  "
   ]
  },
  {
   "cell_type": "code",
   "execution_count": 72,
   "id": "fe03e1c0",
   "metadata": {},
   "outputs": [
    {
     "name": "stdout",
     "output_type": "stream",
     "text": [
      "(2, 2, 3, 3, 4, 5, 5, 5)\n"
     ]
    }
   ],
   "source": [
    "\n",
    "x = (3,4,2,5,5,5,2,3)\n",
    "\n",
    "# write here\n",
    "y = list(x)\n",
    "y.sort()\n",
    "x = tuple(y)\n",
    "print(x)"
   ]
  },
  {
   "cell_type": "raw",
   "id": "db1114e3",
   "metadata": {
    "format": "text/html"
   },
   "source": [
    "</div>"
   ]
  },
  {
   "cell_type": "code",
   "execution_count": 72,
   "id": "fe03e1c0-stripped",
   "metadata": {},
   "outputs": [],
   "source": [
    "\n",
    "x = (3,4,2,5,5,5,2,3)\n",
    "\n",
    "# write here\n",
    "\n"
   ]
  },
  {
   "cell_type": "markdown",
   "id": "fd285996",
   "metadata": {},
   "source": [
    "## Methods\n",
    "\n",
    "Tuples are objects of type `typle` and have methods which allows to operate on them:\n",
    "\n",
    "|Method|Returns|Description|\n",
    "|-------|------|-----------|\n",
    "|[tuple.index(obj)](#index-method)|`int`|Searches for the first occurence of an element and returns its position|\n",
    "|[tuple.count(obj)](#count-method)|`int`|Count the occurrences of an element|"
   ]
  },
  {
   "cell_type": "markdown",
   "id": "6fb1556c",
   "metadata": {},
   "source": [
    "### `index` method"
   ]
  },
  {
   "cell_type": "markdown",
   "id": "858bc942",
   "metadata": {},
   "source": [
    "`index` method allows to find the index of the FIRST occurrence of an element."
   ]
  },
  {
   "cell_type": "code",
   "execution_count": 73,
   "id": "a9dc8d1e",
   "metadata": {},
   "outputs": [],
   "source": [
    "tup = ('b','a','r','a','t','t','o')"
   ]
  },
  {
   "cell_type": "code",
   "execution_count": 74,
   "id": "c46640ab",
   "metadata": {},
   "outputs": [
    {
     "data": {
      "text/plain": [
       "0"
      ]
     },
     "execution_count": 74,
     "metadata": {},
     "output_type": "execute_result"
    }
   ],
   "source": [
    "tup.index('b')"
   ]
  },
  {
   "cell_type": "code",
   "execution_count": 75,
   "id": "c1134e2e",
   "metadata": {},
   "outputs": [
    {
     "data": {
      "text/plain": [
       "1"
      ]
     },
     "execution_count": 75,
     "metadata": {},
     "output_type": "execute_result"
    }
   ],
   "source": [
    "tup.index('a')"
   ]
  },
  {
   "cell_type": "code",
   "execution_count": 76,
   "id": "7bb4e863",
   "metadata": {},
   "outputs": [
    {
     "data": {
      "text/plain": [
       "4"
      ]
     },
     "execution_count": 76,
     "metadata": {},
     "output_type": "execute_result"
    }
   ],
   "source": [
    "tup.index('t')"
   ]
  },
  {
   "cell_type": "markdown",
   "id": "0a988c2a",
   "metadata": {},
   "source": [
    "If the element we're looking for is not present, we will get an error:"
   ]
  },
  {
   "cell_type": "markdown",
   "id": "6724a138",
   "metadata": {},
   "source": [
    "```python\n",
    ">>> tup.index('z')\n",
    "\n",
    "---------------------------------------------------------------------------\n",
    "ValueError                                Traceback (most recent call last)\n",
    "<ipython-input-318-96cf33478b69> in <module>\n",
    "----> 1 tup.index('z')\n",
    "\n",
    "ValueError: tuple.index(x): x not in tuple\n",
    "\n",
    "```"
   ]
  },
  {
   "cell_type": "markdown",
   "id": "61424741",
   "metadata": {},
   "source": [
    "Optionally, you can specify an index to start searching from (**included**):"
   ]
  },
  {
   "cell_type": "code",
   "execution_count": 77,
   "id": "62bc4987",
   "metadata": {},
   "outputs": [
    {
     "data": {
      "text/plain": [
       "7"
      ]
     },
     "execution_count": 77,
     "metadata": {},
     "output_type": "execute_result"
    }
   ],
   "source": [
    "# 0   1   2   3   4   5   6   7   8\n",
    "('b','a','r','a','t','t','a','r','e').index('r',3)"
   ]
  },
  {
   "cell_type": "markdown",
   "id": "8f66a3ac",
   "metadata": {},
   "source": [
    "and also where to end (**excluded**):"
   ]
  },
  {
   "cell_type": "markdown",
   "id": "d108cf8d",
   "metadata": {},
   "source": [
    "```python\n",
    "# 0   1   2   3   4   5   6   7   8\n",
    "('b','a','r','a','t','t','a','r','e').index('r',3,7)\n",
    "---------------------------------------------------------------------------\n",
    "ValueError                                Traceback (most recent call last)\n",
    "<ipython-input-12-e91a1f6569d7> in <module>\n",
    "      1 # 0   1   2   3   4   5   6   7   8\n",
    "----> 2 ('b','a','r','a','t','t','a','r','e').index('r',3,7)\n",
    "\n",
    "ValueError: tuple.index(x): x not in tuple\n",
    "```"
   ]
  },
  {
   "cell_type": "markdown",
   "id": "7a7cd313",
   "metadata": {},
   "source": [
    "### Do not abuse index\n",
    "\n",
    "<div class=\"alert alert-warning\">\n",
    "    \n",
    "**WARNING**: `index` **is often used in a wrong / inefficient ways**\n",
    "\n",
    "Always ask yourself:\n",
    "    \n",
    "1. Could the tuple contain duplicates? Remember only the _first_ will be found!\n",
    "2. Could the tuple _not_ contain  the searched element?  Remember to also handle this case!\n",
    "3. `index` performs a search on all the tuple, which could be inefficient: is it really needed, or do we already know the interval where to search?\n",
    "4. If we want to know if an `element` is in a position we already know (i.e. `3`), `index` is useless, it's enough to write `my_tuple[3] == element`. If you used `index`, it could discover duplicate characters which are _before_ or _after_ the one we are interested in!\n",
    "</div>"
   ]
  },
  {
   "cell_type": "markdown",
   "id": "50cbf4d7",
   "metadata": {},
   "source": [
    "**QUESTION**: Have a look at the following expressions, and for each try to guess which result (or if it gives an error)\n",
    "\n",
    "    \n",
    "1.  ```python\n",
    "    (3,4,2).index(4)\n",
    "    ```\n",
    "1.  ```python    \n",
    "    (3,4,---1).index(-1)\n",
    "    ```\n",
    "1.  ```python    \n",
    "    (2.2,.2,2,).index(2)\n",
    "    ```\n",
    "1.  ```python    \n",
    "    (3,4,2).index(len([3,8,2,9]))\n",
    "    ```\n",
    "1.  ```python    \n",
    "    (6,6,6).index(666)\n",
    "    ```\n",
    "1.  ```python    \n",
    "    (4,2,3).index(3).index(3)\n",
    "    ```\n",
    "1.  ```python    \n",
    "    tuple(\"GUG\").index(\"g\")\n",
    "    ```\n",
    "1.  ```python    \n",
    "    (tuple(\"ci\") + (\"a\",\"o\")).index('a')\n",
    "    ```    \n",
    "1.  ```python    \n",
    "    (()).index(())\n",
    "    ```\n",
    "1.  ```python    \n",
    "    ((),).index(())\n",
    "    ```"
   ]
  },
  {
   "cell_type": "markdown",
   "id": "1431b93c",
   "metadata": {},
   "source": [
    "### Exercise - The chinese boxes\n",
    "\n",
    "Write some code which searches the word `\"Chinese\"` in each of 3 tuples nested into each other, printing the actual position relative to the tuple which contains the occurrance.\n",
    "\n",
    "- the tuples always start with 4 strings\n",
    "\n",
    "Example - given:\n",
    "\n",
    "```python\n",
    "tup = ('Open','The','Chinese','Boxes', ('Boxes','Open','The','Chinese', ('Chinese', 'Open','The','Boxes')))\n",
    "\n",
    "```\n",
    "\n",
    "after your code, it must print:\n",
    "\n",
    "```\n",
    "('Open', 'The', 'Chinese', 'Boxes') contains Chinese at position 2\n",
    "('Boxes', 'Open', 'The', 'Chinese') contains Chinese at position 3\n",
    "('Chinese', 'Open', 'The', 'Boxes') contains Chinese at position 0\n",
    "```"
   ]
  },
  {
   "cell_type": "raw",
   "id": "bf69225b",
   "metadata": {
    "format": "text/html"
   },
   "source": [
    "<a  class=\"jupman-sol jupman-sol-toggler\" \n",
    " onclick=\"jupman.toggleSolution(this);\" \n",
    " data-jupman-show=\"Show solution\" data-jupman-hide=\"Hide\">Show solution</a><div class=\"jupman-sol jupman-sol-code\" style=\"display:none\">  "
   ]
  },
  {
   "cell_type": "code",
   "execution_count": 78,
   "id": "63c5b2a2",
   "metadata": {},
   "outputs": [
    {
     "name": "stdout",
     "output_type": "stream",
     "text": [
      "('Open', 'The', 'Chinese', 'Boxes') contains Chinese at position 2\n",
      "('Boxes', 'Open', 'The', 'Chinese') contains Chinese at position 3\n",
      "('Chinese', 'Open', 'The', 'Boxes') contains Chinese at position 0\n"
     ]
    }
   ],
   "source": [
    "\n",
    "word = 'Chinese'\n",
    "tup = ('Open','The','Chinese','Boxes', ('Boxes','Open','The','Chinese', ('Chinese', 'Open','The','Boxes')))\n",
    "#                    2                                        3           0        \n",
    "\n",
    "#word = 'c'\n",
    "#tup = ('a','b','c','d',('e','c','g','h',('a','b','d','c')))\n",
    "#                2            1                        3\n",
    "\n",
    "# write here\n",
    "\n",
    "t1 = tup[:4]\n",
    "t2 = tup[4][:4]\n",
    "t3 = tup[4][4] \n",
    "i1 = t1.index(word)\n",
    "i2 = t2.index(word)\n",
    "i3 = t3.index(word)\n",
    "\n",
    "print(t1,\"contains\", word, \"at position\", i1)\n",
    "print(t2,\"contains\", word, \"at position\", i2)\n",
    "print(t3,\"contains\", word, \"at position\", i3)      "
   ]
  },
  {
   "cell_type": "raw",
   "id": "94cf8d4e",
   "metadata": {
    "format": "text/html"
   },
   "source": [
    "</div>"
   ]
  },
  {
   "cell_type": "code",
   "execution_count": 78,
   "id": "63c5b2a2-stripped",
   "metadata": {},
   "outputs": [],
   "source": [
    "\n",
    "word = 'Chinese'\n",
    "tup = ('Open','The','Chinese','Boxes', ('Boxes','Open','The','Chinese', ('Chinese', 'Open','The','Boxes')))\n",
    "#                    2                                        3           0        \n",
    "\n",
    "#word = 'c'\n",
    "#tup = ('a','b','c','d',('e','c','g','h',('a','b','d','c')))\n",
    "#                2            1                        3\n",
    "\n",
    "# write here\n",
    "\n"
   ]
  },
  {
   "cell_type": "markdown",
   "id": "88fd132d",
   "metadata": {},
   "source": [
    "### `count` method\n",
    "\n",
    "We can obtain the number of occurrences of a certain element in a list by using the method `count`:"
   ]
  },
  {
   "cell_type": "code",
   "execution_count": 79,
   "id": "f2bec699",
   "metadata": {},
   "outputs": [],
   "source": [
    "t = ('a', 'c', 'a', 'd', 'e', 'm', 'i', 'a')"
   ]
  },
  {
   "cell_type": "code",
   "execution_count": 80,
   "id": "9132cff7",
   "metadata": {},
   "outputs": [
    {
     "data": {
      "text/plain": [
       "3"
      ]
     },
     "execution_count": 80,
     "metadata": {},
     "output_type": "execute_result"
    }
   ],
   "source": [
    "t.count('a')"
   ]
  },
  {
   "cell_type": "code",
   "execution_count": 81,
   "id": "18d6795a",
   "metadata": {},
   "outputs": [
    {
     "data": {
      "text/plain": [
       "1"
      ]
     },
     "execution_count": 81,
     "metadata": {},
     "output_type": "execute_result"
    }
   ],
   "source": [
    "t.count('d')"
   ]
  },
  {
   "cell_type": "markdown",
   "id": "1e7f49e8",
   "metadata": {},
   "source": [
    "If an element is not present `0` is returned: "
   ]
  },
  {
   "cell_type": "code",
   "execution_count": 82,
   "id": "ed700fc5",
   "metadata": {},
   "outputs": [
    {
     "data": {
      "text/plain": [
       "0"
      ]
     },
     "execution_count": 82,
     "metadata": {},
     "output_type": "execute_result"
    }
   ],
   "source": [
    "t.count('z')"
   ]
  },
  {
   "cell_type": "markdown",
   "id": "d397007f",
   "metadata": {},
   "source": [
    "### Do not abuse count\n",
    "\n",
    "<div class=\"alert alert-warning\">\n",
    "    \n",
    "**WARNING**: `count` **is often used in a wrong / inefficient ways**\n",
    "\n",
    "Always ask yourself:\n",
    "    \n",
    "1. Could the tuple contain duplicates? Remember they will _all_ be counted!\n",
    "2. Could the tuple _not_ contain the element to count?  Remember to also handle this case!\n",
    "3. `count` performs a search on all the tuple, which could be inefficient: is it really needed, or do we already know the interval where to search?\n",
    "</div>"
   ]
  },
  {
   "cell_type": "markdown",
   "id": "4f689bfc",
   "metadata": {},
   "source": [
    "**QUESTION**: Have a look at the following expressions, and for each try to guess which result (or if it gives an error)\n",
    "\n",
    "1.  ```python\n",
    "    ('p', 'o', 'r', 't', 'e', 'n', 't', 'o', 's', 'o').count('o')\n",
    "    ```\n",
    "1.  ```python\n",
    "    ('p', 'o', 'r', 't', 'e', 'n', 't', 'o', 's', 'o').count( ('o') )\n",
    "    ```\n",
    "1.  ```python\n",
    "    ('p', 'o', 'r', 't', 'e', 'n', 't', 'o', 's', 'o').count( ('o',) )\n",
    "    ```    \n",
    "1.  ```python\n",
    "    (1,0,0,0).count( 0 )\n",
    "    ```            \n",
    "1.  ```python\n",
    "    (1,0,0,0).count( (0) )\n",
    "    ```        \n",
    "1.  ```python\n",
    "    (1,0,0,0).count( (0,) )\n",
    "    ```    \n",
    "1.  ```python\n",
    "    (1,0,(0,),(0,)).count( (0,) )\n",
    "    ```        \n",
    "1.  ```python\n",
    "    (1,0,(0.0),((0,0),(0,0))).count( (0,0) )\n",
    "    ```        "
   ]
  },
  {
   "cell_type": "markdown",
   "id": "88373dbe",
   "metadata": {},
   "source": [
    "### Exercise - fruits\n",
    "\n",
    "Given the string `s = \"apple|pear|apple|cherry|pear|apple|pear|pear|cherry|pear|strawberry\"`\n",
    "\n",
    "Insert the elements separated by `\"|\"` (pipe character) in a list.\n",
    "    \n",
    "1. How many elements must the list have?\n",
    "2. Knowing the list created at previous point has only four distinct elements (es `\"apple\"`, `\"pear\"`, `\"cherry\"`, and `\"strawberry\"`), create another list where each element is a tuple containing the name of the fruit and its multiplicity (that is, the number of times it appears in the original list).\n",
    "\n",
    "Example - given:\n",
    "\n",
    "```python\n",
    "counts = [(\"apple\", 3), (\"pear\",5), ...]\n",
    "```\n",
    "Here you can write code which works given a specific constant, so you don't need cycles.\n",
    "\n",
    "3. Print the content of each tuple in a separate line (i.e.: first libe; `\"apple\"` is present 3 times)\n",
    "\n",
    "You should obtain:\n",
    "```bash\n",
    "[('apple', 3), ('pear', 5), ('cherry', 2), ('strawberry', 1)]\n",
    "\n",
    "apple is present 3 times\n",
    "pear is present 5 times\n",
    "cherry is present 2 times\n",
    "strawberry is present 1 times\n",
    "```"
   ]
  },
  {
   "cell_type": "raw",
   "id": "ae962dcf",
   "metadata": {
    "format": "text/html"
   },
   "source": [
    "<a  class=\"jupman-sol jupman-sol-toggler\" \n",
    " onclick=\"jupman.toggleSolution(this);\" \n",
    " data-jupman-show=\"Show solution\" data-jupman-hide=\"Hide\">Show solution</a><div class=\"jupman-sol jupman-sol-code\" style=\"display:none\">  "
   ]
  },
  {
   "cell_type": "code",
   "execution_count": 83,
   "id": "dae8fef0",
   "metadata": {
    "scrolled": true
   },
   "outputs": [
    {
     "name": "stdout",
     "output_type": "stream",
     "text": [
      "[('apple', 3), ('pear', 5), ('cherry', 2), ('strawberry', 1)]\n",
      "\n",
      "apple is present 3 times\n",
      "pear is present 5 times\n",
      "cherry is present 2 times\n",
      "strawberry is present 1 times\n"
     ]
    }
   ],
   "source": [
    "s = \"apple|pear|apple|cherry|pear|apple|pear|pear|cherry|pear|strawberry\"\n",
    "\n",
    "# write here\n",
    "\n",
    "words = s.split(\"|\")\n",
    "#print(words)\n",
    "\n",
    "tapples = (\"apple\", words.count(\"apple\"))\n",
    "tpears = (\"pear\", words.count(\"pear\"))\n",
    "tcherries = (\"cherry\", words.count(\"cherry\"))\n",
    "tstrawberries = (\"strawberry\", words.count(\"strawberry\"))\n",
    "counts =[tapples, tpears, tcherries, tstrawberries]\n",
    "\n",
    "print(counts) \n",
    "print()\n",
    "print(tapples[0], \"is present\", tapples[1], \"times\")\n",
    "print(tpears[0], \"is present\", tpears[1], \"times\")\n",
    "print(tcherries[0], \"is present\", tcherries[1], \"times\")\n",
    "print(tstrawberries[0], \"is present\", tstrawberries[1], \"times\")"
   ]
  },
  {
   "cell_type": "raw",
   "id": "56defeba",
   "metadata": {
    "format": "text/html"
   },
   "source": [
    "</div>"
   ]
  },
  {
   "cell_type": "code",
   "execution_count": 83,
   "id": "dae8fef0-stripped",
   "metadata": {
    "scrolled": true
   },
   "outputs": [
    {
     "name": "stdout",
     "output_type": "stream",
     "text": [
      "[('apple', 3), ('pear', 5), ('cherry', 2), ('strawberry', 1)]\n",
      "\n",
      "apple is present 3 times\n",
      "pear is present 5 times\n",
      "cherry is present 2 times\n",
      "strawberry is present 1 times\n"
     ]
    }
   ],
   "source": [
    "s = \"apple|pear|apple|cherry|pear|apple|pear|pear|cherry|pear|strawberry\"\n",
    "\n",
    "# write here\n",
    "\n"
   ]
  },
  {
   "cell_type": "markdown",
   "id": "4094cb2c",
   "metadata": {},
   "source": [
    "## Continue\n",
    "\n",
    "Go on with the [first challenges](https://en.softpython.org/tuples/tuples2-chal.html)"
   ]
  }
 ],
 "metadata": {
  "celltoolbar": "Edit Metadata",
  "kernelspec": {
   "display_name": "Python 3 (ipykernel)",
   "language": "python",
   "name": "python3"
  },
  "language_info": {
   "codemirror_mode": {
    "name": "ipython",
    "version": 3
   },
   "file_extension": ".py",
   "mimetype": "text/x-python",
   "name": "python",
   "nbconvert_exporter": "python",
   "pygments_lexer": "ipython3",
   "version": "3.7.17"
  },
  "toc": {
   "base_numbering": 1,
   "nav_menu": {},
   "number_sections": false,
   "sideBar": true,
   "skip_h1_title": false,
   "title_cell": "Table of Contents",
   "title_sidebar": "Contents",
   "toc_cell": false,
   "toc_position": {
    "height": "calc(100% - 180px)",
    "left": "10px",
    "top": "150px",
    "width": "320px"
   },
   "toc_section_display": true,
   "toc_window_display": true
  }
 },
 "nbformat": 4,
 "nbformat_minor": 5
}
