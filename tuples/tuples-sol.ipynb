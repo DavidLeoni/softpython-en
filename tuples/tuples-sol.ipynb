{
 "cells": [
  {
   "cell_type": "code",
   "execution_count": 1,
   "metadata": {
    "nbsphinx": "hidden"
   },
   "outputs": [],
   "source": [
    "# Remember to execute this cell with Shift+Enter\n",
    "\n",
    "import jupman"
   ]
  },
  {
   "cell_type": "markdown",
   "metadata": {},
   "source": [
    "# Tuple\n",
    "\n",
    "## [Download exercise zip](../_static/generated/tuples.zip)\n",
    "\n",
    "[Browse files online](https://github.com/DavidLeoni/softpython-en/tree/master/tuples)\n",
    "\n",
    "A tuple in Python is an _immutable_ sequence of heterogenous elements which allows duplicates, so we can put inside the objects we want, of different types, and with repetitions."
   ]
  },
  {
   "cell_type": "markdown",
   "metadata": {},
   "source": [
    "## What to do\n",
    "\n",
    "1. Unzip [exercises zip](../_static/generated/tuples.zip) in a folder, you should obtain something like this:\n",
    "\n",
    "```\n",
    "tuples\n",
    "    tuples.ipynb    \n",
    "    tuples-sol.ipynb         \n",
    "    jupman.py         \n",
    "```\n",
    "\n",
    "<div class=\"alert alert-warning\">\n",
    "\n",
    "**WARNING: to correctly visualize the notebook, it MUST be in an unzipped folder !**\n",
    "</div>"
   ]
  },
  {
   "cell_type": "markdown",
   "metadata": {},
   "source": [
    "2. open Jupyter Notebook from that folder. Two things should open, first a console and then a browser. The browser should show a file list: navigate the list and open the notebook `tuples.ipynb`\n",
    "\n",
    "3. Go on reading the exercises file, sometimes you will find paragraphs marked **Exercises** which will ask to write Python commands in the following cells. Exercises are graded by difficulty, from one star ✪ to four ✪✪✪✪"
   ]
  },
  {
   "cell_type": "markdown",
   "metadata": {},
   "source": [
    "Shortcut keys:\n",
    "\n",
    "- to execute Python code inside a Jupyter cell, press `Control + Enter`\n",
    "\n",
    "- to execute Python code inside a Jupyter cell AND select next cell, press `Shift + Enter`\n",
    "\n",
    "- to execute Python code inside a Jupyter cell AND a create a new cell aftwerwards, press `Alt + Enter`\n",
    "\n",
    "- If the notebooks look stuck, try to select `Kernel -> Restart`"
   ]
  },
  {
   "cell_type": "markdown",
   "metadata": {},
   "source": [
    "\n",
    "## Creating tuples\n",
    "\n",
    "Tuples are created with round parenthesis `()` and by separating the elements with commas `,`\n",
    "\n",
    "Some example:"
   ]
  },
  {
   "cell_type": "code",
   "execution_count": 2,
   "metadata": {},
   "outputs": [],
   "source": [
    "numbers = (6,7,5,7,7,9)"
   ]
  },
  {
   "cell_type": "code",
   "execution_count": 3,
   "metadata": {},
   "outputs": [
    {
     "name": "stdout",
     "output_type": "stream",
     "text": [
      "(6, 7, 5, 7, 7, 9)\n"
     ]
    }
   ],
   "source": [
    "print(numbers)"
   ]
  },
  {
   "cell_type": "markdown",
   "metadata": {},
   "source": [
    "**Tuples of one element:** You can create a tuple of a single element **by adding a comma after the element**:"
   ]
  },
  {
   "cell_type": "code",
   "execution_count": 4,
   "metadata": {},
   "outputs": [],
   "source": [
    "little_tup = (4,)  # notice the comma !!!"
   ]
  },
  {
   "cell_type": "markdown",
   "metadata": {},
   "source": [
    "Let's verify the type is the expected one:"
   ]
  },
  {
   "cell_type": "code",
   "execution_count": 5,
   "metadata": {},
   "outputs": [
    {
     "data": {
      "text/plain": [
       "tuple"
      ]
     },
     "execution_count": 5,
     "metadata": {},
     "output_type": "execute_result"
    }
   ],
   "source": [
    "type(little_tup)"
   ]
  },
  {
   "cell_type": "markdown",
   "metadata": {},
   "source": [
    "To see the difference, we write down here `(4)` without comma and we verify the type of the obtained object:"
   ]
  },
  {
   "cell_type": "code",
   "execution_count": 6,
   "metadata": {},
   "outputs": [],
   "source": [
    "fake = (4)"
   ]
  },
  {
   "cell_type": "code",
   "execution_count": 7,
   "metadata": {},
   "outputs": [
    {
     "data": {
      "text/plain": [
       "int"
      ]
     },
     "execution_count": 7,
     "metadata": {},
     "output_type": "execute_result"
    }
   ],
   "source": [
    "type(fake)"
   ]
  },
  {
   "cell_type": "markdown",
   "metadata": {},
   "source": [
    "We see that `fake` is an `int`, because `4` has been evaluated as an expression inside round brackets so the result is the content inside the parenthesis."
   ]
  },
  {
   "cell_type": "markdown",
   "metadata": {},
   "source": [
    "### Empty tuple\n",
    "\n",
    "We can also create an empty tuple:"
   ]
  },
  {
   "cell_type": "code",
   "execution_count": 8,
   "metadata": {},
   "outputs": [],
   "source": [
    "empty = ()"
   ]
  },
  {
   "cell_type": "code",
   "execution_count": 9,
   "metadata": {},
   "outputs": [
    {
     "name": "stdout",
     "output_type": "stream",
     "text": [
      "()\n"
     ]
    }
   ],
   "source": [
    "print(empty)"
   ]
  },
  {
   "cell_type": "code",
   "execution_count": 10,
   "metadata": {},
   "outputs": [
    {
     "data": {
      "text/plain": [
       "tuple"
      ]
     },
     "execution_count": 10,
     "metadata": {},
     "output_type": "execute_result"
    }
   ],
   "source": [
    "type(empty)"
   ]
  },
  {
   "cell_type": "markdown",
   "metadata": {},
   "source": [
    "### Tuples without brackets\n",
    "\n",
    "When we assign values to some variable, (and _only_ when we assign values to variables) it is possible to use a notation like the following, in which on the left of `=` we put names of variables and on the right we place a sequence of values:"
   ]
  },
  {
   "cell_type": "code",
   "execution_count": 11,
   "metadata": {},
   "outputs": [],
   "source": [
    "a,b,c = 1, 2, 3"
   ]
  },
  {
   "cell_type": "code",
   "execution_count": 12,
   "metadata": {},
   "outputs": [
    {
     "data": {
      "text/plain": [
       "1"
      ]
     },
     "execution_count": 12,
     "metadata": {},
     "output_type": "execute_result"
    }
   ],
   "source": [
    "a"
   ]
  },
  {
   "cell_type": "code",
   "execution_count": 13,
   "metadata": {},
   "outputs": [
    {
     "data": {
      "text/plain": [
       "2"
      ]
     },
     "execution_count": 13,
     "metadata": {},
     "output_type": "execute_result"
    }
   ],
   "source": [
    "b"
   ]
  },
  {
   "cell_type": "code",
   "execution_count": 14,
   "metadata": {},
   "outputs": [
    {
     "data": {
      "text/plain": [
       "3"
      ]
     },
     "execution_count": 14,
     "metadata": {},
     "output_type": "execute_result"
    }
   ],
   "source": [
    "c"
   ]
  },
  {
   "cell_type": "markdown",
   "metadata": {},
   "source": [
    "If we ask ourselves what that `1,2,3` is, we can try putting on the left a single variable:"
   ]
  },
  {
   "cell_type": "code",
   "execution_count": 15,
   "metadata": {},
   "outputs": [],
   "source": [
    "# WARNING: BETTER AVOID THIS!\n",
    "x = 1,2,3"
   ]
  },
  {
   "cell_type": "code",
   "execution_count": 16,
   "metadata": {},
   "outputs": [
    {
     "data": {
      "text/plain": [
       "tuple"
      ]
     },
     "execution_count": 16,
     "metadata": {},
     "output_type": "execute_result"
    }
   ],
   "source": [
    "type(x)"
   ]
  },
  {
   "cell_type": "markdown",
   "metadata": {},
   "source": [
    "We see that Python considered that `1,2,3` as a tuple. Typically, you would never write assignments with less variables than values to put, but if it happens, probably you will find yourself with some undesired tuple !"
   ]
  },
  {
   "cell_type": "markdown",
   "metadata": {},
   "source": [
    "**QUESTION**: Have a look at the following code snippets, and for each try guessing which result it produces (or if it gives an error)\n",
    "\n",
    "1.  ```python\n",
    "    z,w = 5,6\n",
    "    print(type(z))\n",
    "    print(type(w))\n",
    "    ```\n",
    "1.  ```python\n",
    "    a,b = 5,6\n",
    "    a,b = b,a\n",
    "    print('a=',a)\n",
    "    print('b=',b)\n",
    "    ```\n",
    "1.  ```python\n",
    "    z = 5,\n",
    "    print(type(z))\n",
    "    ```\n",
    "1.  ```python\n",
    "    z = ,\n",
    "    print(type(z))\n",
    "    ```"
   ]
  },
  {
   "cell_type": "markdown",
   "metadata": {},
   "source": [
    "### Heterogenous elements\n",
    "\n",
    "In a tuple we can put elements of different types, like numbers and strings:"
   ]
  },
  {
   "cell_type": "code",
   "execution_count": 17,
   "metadata": {},
   "outputs": [],
   "source": [
    "stuff = (4, \"paper\", 5, 2,\"scissors\", 7)"
   ]
  },
  {
   "cell_type": "code",
   "execution_count": 18,
   "metadata": {},
   "outputs": [
    {
     "data": {
      "text/plain": [
       "(4, 'paper', 5, 2, 'scissors', 7)"
      ]
     },
     "execution_count": 18,
     "metadata": {},
     "output_type": "execute_result"
    }
   ],
   "source": [
    "stuff"
   ]
  },
  {
   "cell_type": "code",
   "execution_count": 19,
   "metadata": {},
   "outputs": [
    {
     "data": {
      "text/plain": [
       "tuple"
      ]
     },
     "execution_count": 19,
     "metadata": {},
     "output_type": "execute_result"
    }
   ],
   "source": [
    "type(stuff)"
   ]
  },
  {
   "cell_type": "markdown",
   "metadata": {},
   "source": [
    "We can also insert other tuples:"
   ]
  },
  {
   "cell_type": "code",
   "execution_count": 20,
   "metadata": {},
   "outputs": [],
   "source": [
    "salad = ( (\"lettuce\", 3), (\"tomatoes\",9), (\"carrots\",4) )"
   ]
  },
  {
   "cell_type": "code",
   "execution_count": 21,
   "metadata": {},
   "outputs": [
    {
     "data": {
      "text/plain": [
       "(('lettuce', 3), ('tomatoes', 9), ('carrots', 4))"
      ]
     },
     "execution_count": 21,
     "metadata": {},
     "output_type": "execute_result"
    }
   ],
   "source": [
    "salad"
   ]
  },
  {
   "cell_type": "code",
   "execution_count": 22,
   "metadata": {},
   "outputs": [
    {
     "data": {
      "text/plain": [
       "tuple"
      ]
     },
     "execution_count": 22,
     "metadata": {},
     "output_type": "execute_result"
    }
   ],
   "source": [
    "type(salad)"
   ]
  },
  {
   "cell_type": "markdown",
   "metadata": {},
   "source": [
    "And also lists:"
   ]
  },
  {
   "cell_type": "code",
   "execution_count": 23,
   "metadata": {},
   "outputs": [],
   "source": [
    "mix = ( [\"when\", \"it\", \"rains\"], [\"I\", \"program\"], [7,3,9] )"
   ]
  },
  {
   "cell_type": "markdown",
   "metadata": {},
   "source": [
    "<div class=\"alert alert-warning\">\n",
    "\n",
    "**WARNING: avoid mutable objects inside tuples!**\n",
    "\n",
    "Inserting _mutable_ objects like lists inside tuples may cause problems in some situations like when you later want to use the tuple as element of a set or a key in a dictionary (we will see the details in the respective tutorials)    \n",
    "</div>"
   ]
  },
  {
   "cell_type": "markdown",
   "metadata": {},
   "source": [
    "Let's see how the previous examples are represented in Python Tutor:"
   ]
  },
  {
   "cell_type": "code",
   "execution_count": 24,
   "metadata": {},
   "outputs": [],
   "source": [
    "# WARNING: before using the function jupman.pytut() which follows, \n",
    "#          it is necessary to first execute this cell with Shift+Enter (once is enough)\n",
    "\n",
    "import jupman"
   ]
  },
  {
   "cell_type": "code",
   "execution_count": 25,
   "metadata": {},
   "outputs": [
    {
     "data": {
      "text/html": [
       "\n",
       "        <script src=\"../_static/js/pytutor-embed.bundle.min.js\" type=\"application/javascript\"></script>\n",
       "     \n",
       "        <script id=\"json-jmfa1c2934-8b2e-460e-8b16-10131c865182\" type=\"application/json\" >\n",
       "            {\"trace\": [{\"ordered_globals\": [], \"globals\": {}, \"func_name\": \"<module>\", \"heap\": {}, \"stack_to_render\": [], \"line\": 2, \"event\": \"step_line\", \"stdout\": \"\"}, {\"ordered_globals\": [\"stuff\"], \"globals\": {\"stuff\": [\"REF\", 1]}, \"func_name\": \"<module>\", \"heap\": {\"1\": [\"TUPLE\", 4, \"paper\", 5, 2, \"scissors\", 7]}, \"stack_to_render\": [], \"line\": 3, \"event\": \"step_line\", \"stdout\": \"\"}, {\"ordered_globals\": [\"stuff\", \"salad\"], \"globals\": {\"stuff\": [\"REF\", 1], \"salad\": [\"REF\", 2]}, \"func_name\": \"<module>\", \"heap\": {\"1\": [\"TUPLE\", 4, \"paper\", 5, 2, \"scissors\", 7], \"2\": [\"TUPLE\", [\"REF\", 3], [\"REF\", 4], [\"REF\", 5]], \"3\": [\"TUPLE\", \"lettuce\", 3], \"4\": [\"TUPLE\", \"tomatoes\", 9], \"5\": [\"TUPLE\", \"carrots\", 4]}, \"stack_to_render\": [], \"line\": 4, \"event\": \"step_line\", \"stdout\": \"\"}, {\"ordered_globals\": [\"stuff\", \"salad\", \"mix\"], \"globals\": {\"mix\": [\"REF\", 6], \"stuff\": [\"REF\", 1], \"salad\": [\"REF\", 2]}, \"func_name\": \"<module>\", \"heap\": {\"1\": [\"TUPLE\", 4, \"paper\", 5, 2, \"scissors\", 7], \"2\": [\"TUPLE\", [\"REF\", 3], [\"REF\", 4], [\"REF\", 5]], \"3\": [\"TUPLE\", \"lettuce\", 3], \"4\": [\"TUPLE\", \"tomatoes\", 9], \"5\": [\"TUPLE\", \"carrots\", 4], \"6\": [\"TUPLE\", [\"REF\", 7], [\"REF\", 8], [\"REF\", 9]], \"7\": [\"LIST\", \"when\", \"it\", \"rains\"], \"8\": [\"LIST\", \"I\", \"program\"], \"9\": [\"LIST\", 7, 3, 9]}, \"stack_to_render\": [], \"line\": 4, \"event\": \"return\", \"stdout\": \"\"}], \"code\": \" \\nstuff = (4, \\\"paper\\\", 5, 2,\\\"scissors\\\", 7)\\nsalad = ( (\\\"lettuce\\\", 3), (\\\"tomatoes\\\",9), (\\\"carrots\\\",4) )\\nmix = ( [\\\"when\\\", \\\"it\\\", \\\"rains\\\"], [\\\"I\\\", \\\"program\\\"], [7,3,9] )\"}\n",
       "        </script>\n",
       "        <div id=\"jmfa1c2934-8b2e-460e-8b16-10131c865182\" class=\"pytutorVisualizer\"> </div>\n",
       " \n",
       "        <style>\n",
       "        .vizLayoutTd {\n",
       "            background-color: #fff !important;\n",
       "        }\n",
       "\n",
       "        #pyStdout {            \n",
       "            min-height:25px;\n",
       "        }\n",
       "\n",
       "        /* 'Edit this code' link, hiding because replaces browser tab !!!*/\n",
       "        #editCodeLinkDiv {\n",
       "            display:none;  \n",
       "        }\n",
       "        </style>   \n",
       "                            \n",
       "        <script>\n",
       "        (function(){\n",
       "\n",
       "            var trace = JSON.parse(document.getElementById('json-jmfa1c2934-8b2e-460e-8b16-10131c865182').innerHTML);                                        \n",
       "            // NOTE 1: id without #\n",
       "            // NOTE 2 - maybe there are more predictable ways, but this will work anyway\n",
       "            //        - id should be number\n",
       "            visualizerIdOverride = Math.trunc(Math.random() * 100000000000)\n",
       "            addVisualizerToPage(trace, 'jmfa1c2934-8b2e-460e-8b16-10131c865182',{'embeddedMode' : false,\n",
       "                                             'visualizerIdOverride':visualizerIdOverride})  \n",
       "            \n",
       "            \n",
       "            // set overflow for pytuts - need to do in python as css \n",
       "            // does not allow parent selection\n",
       "            var pytuts = $('.pytutorVisualizer')\n",
       "            pytuts.closest('div.output_html.rendered_html.output_result')\n",
       "                    .css('overflow-x', 'visible')\n",
       "        \n",
       "            //pytuts.closest('div.output_html.rendered_html.output_result')\n",
       "            //      .css('background-color','red')                \n",
       "            \n",
       "        })()\n",
       "        </script>\n",
       "                \n",
       "                "
      ],
      "text/plain": [
       "<IPython.core.display.HTML object>"
      ]
     },
     "execution_count": 25,
     "metadata": {},
     "output_type": "execute_result"
    }
   ],
   "source": [
    "stuff = (4, \"paper\", 5, 2,\"scissors\", 7)\n",
    "salad = ( (\"lettuce\", 3), (\"tomatoes\",9), (\"carrots\",4) )\n",
    "mix = ( [\"when\", \"it\", \"rains\"], [\"I\", \"program\"], [7,3,9] )\n",
    "\n",
    "jupman.pytut()"
   ]
  },
  {
   "cell_type": "markdown",
   "metadata": {},
   "source": [
    "### Creating tuples from sequences\n",
    "\n",
    "You can create a tuple from any sequence, like for example a list:"
   ]
  },
  {
   "cell_type": "code",
   "execution_count": 26,
   "metadata": {},
   "outputs": [
    {
     "data": {
      "text/plain": [
       "(8, 2, 5)"
      ]
     },
     "execution_count": 26,
     "metadata": {},
     "output_type": "execute_result"
    }
   ],
   "source": [
    "tuple( [8,2,5] )"
   ]
  },
  {
   "cell_type": "markdown",
   "metadata": {},
   "source": [
    "Or a string (which is a character sequence):"
   ]
  },
  {
   "cell_type": "code",
   "execution_count": 27,
   "metadata": {},
   "outputs": [
    {
     "data": {
      "text/plain": [
       "('a', 'b', 'c')"
      ]
     },
     "execution_count": 27,
     "metadata": {},
     "output_type": "execute_result"
    }
   ],
   "source": [
    "tuple(\"abc\")"
   ]
  },
  {
   "cell_type": "markdown",
   "metadata": {},
   "source": [
    "### Creating sequences from tuples"
   ]
  },
  {
   "cell_type": "markdown",
   "metadata": {},
   "source": [
    "Since the tuple is a sequence, it is also possible to generate lists from tuples:"
   ]
  },
  {
   "cell_type": "code",
   "execution_count": 28,
   "metadata": {},
   "outputs": [
    {
     "data": {
      "text/plain": [
       "[3, 4, 2, 3]"
      ]
     },
     "execution_count": 28,
     "metadata": {},
     "output_type": "execute_result"
    }
   ],
   "source": [
    "list( (3,4,2,3)  )"
   ]
  },
  {
   "cell_type": "markdown",
   "metadata": {},
   "source": [
    "**QUESTION**: Does is it make sense creating a tuple from another tuple like this? Can we rewrite the code in a more concise way?"
   ]
  },
  {
   "cell_type": "code",
   "execution_count": 29,
   "metadata": {},
   "outputs": [],
   "source": [
    "x = (4,2,5)\n",
    "y = tuple(x)"
   ]
  },
  {
   "cell_type": "raw",
   "id": "therapeutic-blues",
   "metadata": {
    "format": "text/html"
   },
   "source": [
    "<a  class=\"jupman-sol jupman-sol-toggler\" \n",
    " onclick=\"jupman.toggleSolution(this);\" \n",
    " data-jupman-show=\"Show answer\" data-jupman-hide=\"Hide\">Show answer</a><div class=\"jupman-sol jupman-sol-question\" style=\"display:none\">  "
   ]
  },
  {
   "cell_type": "markdown",
   "metadata": {},
   "source": [
    "**ANSWER**: since a tuple is IMMUTABLE, once we create in memory the object `(4,2,5)` \n",
    "we are sure nobody will modify it, so it's not necessary to create a new tuple and we can directly write:\n",
    "\n",
    "```python\n",
    "x = (4,2,5)\n",
    "y = x\n",
    "```"
   ]
  },
  {
   "cell_type": "raw",
   "id": "tired-cheat",
   "metadata": {
    "format": "text/html"
   },
   "source": [
    "</div>"
   ]
  },
  {
   "cell_type": "markdown",
   "metadata": {},
   "source": [
    "**QUESTION**:  Have a look at the following expressions, and for each try to guess which result produces (or if it gives an error):\n",
    "\n",
    "1.  ```python\n",
    "    (1.2,3.4)\n",
    "    ```\n",
    "1.  ```python    \n",
    "    (1;2;3;4)\n",
    "    ```\n",
    "1.  ```python    \n",
    "    (1,2;3,4)\n",
    "    ```\n",
    "1.  ```python    \n",
    "    (1,2,3,4)\n",
    "    ```\n",
    "1.  ```python    \n",
    "    (())\n",
    "    ```\n",
    "1.  ```python    \n",
    "    type(())\n",
    "    ```\n",
    "1.  ```python    \n",
    "    ((),)\n",
    "    ```\n",
    "1.  ```python    \n",
    "    tuple([('a'),('b'),('c')])\n",
    "    ```\n",
    "1.  ```python    \n",
    "    tuple(tuple(('z','u','m')))\n",
    "    ```\n",
    "1.  ```python    \n",
    "    str(('a','b','c'))\n",
    "    ```\n",
    "1.  ```python    \n",
    "    \"\".join(('a','b','c'))\n",
    "    ```"
   ]
  },
  {
   "cell_type": "markdown",
   "metadata": {},
   "source": [
    "## Operators\n",
    "\n",
    "The following operators work on tuples and behave exactly as in lists:\n",
    "\n",
    "|Operator|Result|Meaning|\n",
    "|---|---|----|\n",
    "|`len`(tuple)|`int`|Return the length of a tuple|\n",
    "|tuple`[`int`]`|`object`|Reads an element at specified index|\n",
    "|tuple`[`int`:`int`]`|`tuple`| Extracts a sub-tuple - return a NEW tuple|\n",
    "|tuple `+` tuple|`tuple`|Concatenates two tuples - return a NEW tuple|\n",
    "|obj `in` tuple|`bool`|Checks whether an element is present in a tuple|\n",
    "|tuple `*` int|`tuple`| Replicates the tuple - return a NEW tuple|\n",
    "|`==`,`!=`|`bool`| Checks if two tuples are equal or different|"
   ]
  },
  {
   "cell_type": "markdown",
   "metadata": {},
   "source": [
    "### len\n",
    "\n",
    "`len` function returns the tuple length:"
   ]
  },
  {
   "cell_type": "code",
   "execution_count": 30,
   "metadata": {},
   "outputs": [
    {
     "data": {
      "text/plain": [
       "3"
      ]
     },
     "execution_count": 30,
     "metadata": {},
     "output_type": "execute_result"
    }
   ],
   "source": [
    "len( (4,2,3) )"
   ]
  },
  {
   "cell_type": "code",
   "execution_count": 31,
   "metadata": {},
   "outputs": [
    {
     "data": {
      "text/plain": [
       "1"
      ]
     },
     "execution_count": 31,
     "metadata": {},
     "output_type": "execute_result"
    }
   ],
   "source": [
    "len( (7,) )"
   ]
  },
  {
   "cell_type": "code",
   "execution_count": 32,
   "metadata": {},
   "outputs": [
    {
     "data": {
      "text/plain": [
       "0"
      ]
     },
     "execution_count": 32,
     "metadata": {},
     "output_type": "execute_result"
    }
   ],
   "source": [
    "len( () )"
   ]
  },
  {
   "cell_type": "markdown",
   "metadata": {},
   "source": [
    "**QUESTION**: Have a look at following expressions, and for each try to guess the result (or if it gives an error)\n",
    "\n",
    "    \n",
    "1.  ```python\n",
    "    len(3,2,4)\n",
    "    ```\n",
    "1.  ```python    \n",
    "    len((3,2,4))\n",
    "    ```\n",
    "1.  ```python    \n",
    "    len(('a',))\n",
    "    ```\n",
    "1.  ```python    \n",
    "    len(('a,'))\n",
    "    ```\n",
    "1.  ```python    \n",
    "    len(((),(),()))\n",
    "    ```\n",
    "1.  ```python    \n",
    "    len(len((1,2,3,4)))\n",
    "    ```\n",
    "1.  ```python    \n",
    "    len([('d','a','c','d'),(('ab')),[('a','b','c')]])\n",
    "    ```"
   ]
  },
  {
   "cell_type": "code",
   "execution_count": null,
   "metadata": {},
   "outputs": [],
   "source": []
  },
  {
   "cell_type": "markdown",
   "metadata": {},
   "source": [
    "### Reading an element\n",
    "\n",
    "Like in strings and lists by using brackets we can read an element at a certain position:"
   ]
  },
  {
   "cell_type": "code",
   "execution_count": 33,
   "metadata": {},
   "outputs": [],
   "source": [
    "#      0  1  2  3\n",
    "tup = (10,11,12,13)"
   ]
  },
  {
   "cell_type": "code",
   "execution_count": 34,
   "metadata": {},
   "outputs": [
    {
     "data": {
      "text/plain": [
       "10"
      ]
     },
     "execution_count": 34,
     "metadata": {},
     "output_type": "execute_result"
    }
   ],
   "source": [
    "tup[0]"
   ]
  },
  {
   "cell_type": "code",
   "execution_count": 35,
   "metadata": {},
   "outputs": [
    {
     "data": {
      "text/plain": [
       "11"
      ]
     },
     "execution_count": 35,
     "metadata": {},
     "output_type": "execute_result"
    }
   ],
   "source": [
    "tup[1]"
   ]
  },
  {
   "cell_type": "code",
   "execution_count": 36,
   "metadata": {},
   "outputs": [
    {
     "data": {
      "text/plain": [
       "12"
      ]
     },
     "execution_count": 36,
     "metadata": {},
     "output_type": "execute_result"
    }
   ],
   "source": [
    "tup[2]"
   ]
  },
  {
   "cell_type": "code",
   "execution_count": 37,
   "metadata": {},
   "outputs": [
    {
     "data": {
      "text/plain": [
       "13"
      ]
     },
     "execution_count": 37,
     "metadata": {},
     "output_type": "execute_result"
    }
   ],
   "source": [
    "tup[3]"
   ]
  },
  {
   "cell_type": "markdown",
   "metadata": {},
   "source": [
    "We can also use negative indexes:"
   ]
  },
  {
   "cell_type": "code",
   "execution_count": 38,
   "metadata": {},
   "outputs": [
    {
     "data": {
      "text/plain": [
       "13"
      ]
     },
     "execution_count": 38,
     "metadata": {},
     "output_type": "execute_result"
    }
   ],
   "source": [
    "tup[-1]"
   ]
  },
  {
   "cell_type": "markdown",
   "metadata": {},
   "source": [
    "**QUESTION**: Have a look at the following expressions and for each of them try to guess the result or if it produces an error:"
   ]
  },
  {
   "cell_type": "markdown",
   "metadata": {},
   "source": [
    "    \n",
    "1.  ```python\n",
    "    (1,2,3)[0]\n",
    "    ```\n",
    "1.  ```python    \n",
    "    (1,2,3)[3]\n",
    "    ```\n",
    "1.  ```python    \n",
    "    (1,2,3)0\n",
    "    ```\n",
    "1.  ```python    \n",
    "    ()[0]\n",
    "    ```\n",
    "1.  ```python    \n",
    "    (())[0]\n",
    "    ```\n",
    "1.  ```python    \n",
    "    type((())[0])\n",
    "    ```\n",
    "1.  ```python    \n",
    "    ('a,')[0]\n",
    "    ```\n",
    "1.  ```python    \n",
    "    ('a',)[0]\n",
    "    ```\n",
    "1.  ```python    \n",
    "    (1,2,3)[-0]\n",
    "    ```\n",
    "1.  ```python    \n",
    "    (1,2,3)[-1]\n",
    "    ```\n",
    "1.  ```python    \n",
    "    (1,2,3)[-3]\n",
    "    ```"
   ]
  },
  {
   "cell_type": "code",
   "execution_count": null,
   "metadata": {},
   "outputs": [],
   "source": []
  },
  {
   "cell_type": "markdown",
   "metadata": {},
   "source": [
    "### Exercise - animals\n",
    "\n",
    "Given the string `animals = \"Siamese cat,dog,canary,piglet,rabbit,hamster\"`\n",
    "\n",
    "1. convert it to a list\n",
    "2. create a tuple of tuples where each tuple has two elements: the animal name and the name length, i.e.  ((\"dog\",3), ( \"hamster\",7))\n",
    "3. print the tuple\n",
    "\n",
    "You should obtain:\n",
    "\n",
    "```\n",
    "Siamese cat,dog,canary,piglet,rabbit,hamster\n",
    "\n",
    "(('Siamese cat', 11), ('dog', 3), ('canary', 6), ('piglet', 6), ('rabbit', 6), ('hamster', 7))\n",
    "\n",
    "```\n",
    "\n",
    "* you can assume `animals` always contains exactly 6 animals"
   ]
  },
  {
   "cell_type": "raw",
   "id": "unlike-handbook",
   "metadata": {
    "format": "text/html"
   },
   "source": [
    "<a  class=\"jupman-sol jupman-sol-toggler\" \n",
    " onclick=\"jupman.toggleSolution(this);\" \n",
    " data-jupman-show=\"Show solution\" data-jupman-hide=\"Hide\">Show solution</a><div class=\"jupman-sol jupman-sol-code\" style=\"display:none\">  "
   ]
  },
  {
   "cell_type": "code",
   "execution_count": 39,
   "metadata": {},
   "outputs": [
    {
     "name": "stdout",
     "output_type": "stream",
     "text": [
      "\n"
     ]
    }
   ],
   "source": [
    "animals = \"Siamese cat,dog,canary,piglet,rabbit,hamster\"\n",
    "\n",
    "# write here\n",
    "my_list = animals.split(',')\n",
    "\n",
    "#print(animals)\n",
    "print()\n",
    "\n",
    "animals_tuple = ( (my_list[0], len(my_list[0])), \n",
    "                  (my_list[1], len(my_list[1])), \n",
    "                  (my_list[2], len(my_list[2])), \n",
    "                  (my_list[3], len(my_list[3])),\n",
    "                  (my_list[4], len(my_list[4])),\n",
    "                  (my_list[5], len(my_list[5])))\n",
    "\n",
    "#print(animals_tuple)"
   ]
  },
  {
   "cell_type": "raw",
   "id": "miniature-philosophy",
   "metadata": {
    "format": "text/html"
   },
   "source": [
    "</div>"
   ]
  },
  {
   "cell_type": "code",
   "execution_count": 39,
   "metadata": {},
   "outputs": [
    {
     "name": "stdout",
     "output_type": "stream",
     "text": [
      "\n"
     ]
    }
   ],
   "source": [
    "animals = \"Siamese cat,dog,canary,piglet,rabbit,hamster\"\n",
    "\n",
    "# write here\n",
    "\n"
   ]
  },
  {
   "cell_type": "markdown",
   "metadata": {},
   "source": [
    "### Slices\n",
    "\n",
    "As with strings and lists, by using _slices_ we can also extract subsequences from a tuple, that is, on the right of the tuple we can write square brackets with inside a start index INCLUDED, a colon `:` and an end index EXCLUDED:"
   ]
  },
  {
   "cell_type": "code",
   "execution_count": 40,
   "metadata": {},
   "outputs": [],
   "source": [
    "tup = (10,11,12,13,14,15,16,17,18,19)"
   ]
  },
  {
   "cell_type": "code",
   "execution_count": 41,
   "metadata": {},
   "outputs": [
    {
     "data": {
      "text/plain": [
       "(12, 13, 14, 15)"
      ]
     },
     "execution_count": 41,
     "metadata": {},
     "output_type": "execute_result"
    }
   ],
   "source": [
    "tup[2:6]  # from index 2 INCLUDED to 6 EXCLUDED"
   ]
  },
  {
   "cell_type": "markdown",
   "metadata": {},
   "source": [
    "It is possible to alternate the gathering of elements by adding the number of elements to skip as a third numerical parameter in the square brackets, for example:"
   ]
  },
  {
   "cell_type": "code",
   "execution_count": 42,
   "metadata": {},
   "outputs": [],
   "source": [
    "tup = (10,11,12,13,14,15,16,17)"
   ]
  },
  {
   "cell_type": "code",
   "execution_count": 43,
   "metadata": {},
   "outputs": [
    {
     "data": {
      "text/plain": [
       "(10, 15)"
      ]
     },
     "execution_count": 43,
     "metadata": {},
     "output_type": "execute_result"
    }
   ],
   "source": [
    "tup[0:8:5]"
   ]
  },
  {
   "cell_type": "code",
   "execution_count": 44,
   "metadata": {},
   "outputs": [
    {
     "data": {
      "text/plain": [
       "(10, 12, 14, 16)"
      ]
     },
     "execution_count": 44,
     "metadata": {},
     "output_type": "execute_result"
    }
   ],
   "source": [
    "tup[0:8:2]"
   ]
  },
  {
   "cell_type": "code",
   "execution_count": 45,
   "metadata": {},
   "outputs": [
    {
     "data": {
      "text/plain": [
       "(11, 12, 13, 14, 15, 16, 17)"
      ]
     },
     "execution_count": 45,
     "metadata": {},
     "output_type": "execute_result"
    }
   ],
   "source": [
    "tup[1:8:1]"
   ]
  },
  {
   "cell_type": "markdown",
   "metadata": {},
   "source": [
    "<div class=\"alert alert-warning\">\n",
    "    \n",
    "**WARNING: remeber that slices produce a NEW tuple !**\n",
    "\n",
    "</div>"
   ]
  },
  {
   "cell_type": "markdown",
   "metadata": {},
   "source": [
    "**QUESTION**: Have a look at the following code snippets, and for each try to guess which result it produces (or if it gives an error)\n",
    "\n",
    "    \n",
    "1.  ```python\n",
    "    (7,6,8,9,5)(1:3)\n",
    "    ```\n",
    "1.  ```python    \n",
    "    (7,6,8,9,5)[1:3]\n",
    "    ```\n",
    "1.  ```python    \n",
    "    (10,11,12,13,14,15,16)[3:100]\n",
    "    ```\n",
    "1.  ```python    \n",
    "    (10,11,12,13,14,15,16)[-3:5]\n",
    "    ```\n",
    "1.  ```python    \n",
    "    (1,0,1,0,1,0)[::2]\n",
    "    ```\n",
    "1.  ```python    \n",
    "    (1,2,3)[::1]\n",
    "    ```\n",
    "1.  ```python    \n",
    "    (1,0,1,0,1,0)[1::2]\n",
    "    ```\n",
    "1.  ```python    \n",
    "    tuple(\"postcards\")[0::2]\n",
    "    ```\n",
    "1.  ```python    \n",
    "    (4,5,6,3,4,7)[0:::2]\n",
    "    ```"
   ]
  },
  {
   "cell_type": "markdown",
   "metadata": {},
   "source": [
    "### Concatenation\n",
    "\n",
    "It is possible to concatenate two tuples by using the operator `+`, which creates a NEW tuple:"
   ]
  },
  {
   "cell_type": "code",
   "execution_count": 46,
   "metadata": {},
   "outputs": [],
   "source": [
    "t = (1,2,3) + (4,5,6,7,8)"
   ]
  },
  {
   "cell_type": "code",
   "execution_count": 47,
   "metadata": {},
   "outputs": [
    {
     "data": {
      "text/plain": [
       "(1, 2, 3, 4, 5, 6, 7, 8)"
      ]
     },
     "execution_count": 47,
     "metadata": {},
     "output_type": "execute_result"
    }
   ],
   "source": [
    "t"
   ]
  },
  {
   "cell_type": "code",
   "execution_count": 48,
   "metadata": {},
   "outputs": [
    {
     "data": {
      "text/plain": [
       "tuple"
      ]
     },
     "execution_count": 48,
     "metadata": {},
     "output_type": "execute_result"
    }
   ],
   "source": [
    "type(t)"
   ]
  },
  {
   "cell_type": "markdown",
   "metadata": {},
   "source": [
    "Let's verify that original tuples are not modified:"
   ]
  },
  {
   "cell_type": "code",
   "execution_count": 49,
   "metadata": {},
   "outputs": [],
   "source": [
    "x = (1,2,3)\n",
    "y = (4,5,6,7,8)"
   ]
  },
  {
   "cell_type": "code",
   "execution_count": 50,
   "metadata": {},
   "outputs": [],
   "source": [
    "t = x + y"
   ]
  },
  {
   "cell_type": "code",
   "execution_count": 51,
   "metadata": {},
   "outputs": [
    {
     "data": {
      "text/plain": [
       "(1, 2, 3, 4, 5, 6, 7, 8)"
      ]
     },
     "execution_count": 51,
     "metadata": {},
     "output_type": "execute_result"
    }
   ],
   "source": [
    "t"
   ]
  },
  {
   "cell_type": "code",
   "execution_count": 52,
   "metadata": {},
   "outputs": [
    {
     "data": {
      "text/plain": [
       "(1, 2, 3)"
      ]
     },
     "execution_count": 52,
     "metadata": {},
     "output_type": "execute_result"
    }
   ],
   "source": [
    "x"
   ]
  },
  {
   "cell_type": "code",
   "execution_count": 53,
   "metadata": {},
   "outputs": [
    {
     "data": {
      "text/plain": [
       "(4, 5, 6, 7, 8)"
      ]
     },
     "execution_count": 53,
     "metadata": {},
     "output_type": "execute_result"
    }
   ],
   "source": [
    "y"
   ]
  },
  {
   "cell_type": "markdown",
   "metadata": {},
   "source": [
    "Let's see how they are represented in Python Tutor:"
   ]
  },
  {
   "cell_type": "code",
   "execution_count": 54,
   "metadata": {},
   "outputs": [
    {
     "name": "stdout",
     "output_type": "stream",
     "text": [
      "(1, 2, 3, 4, 5, 6, 7, 8)\n",
      "(1, 2, 3)\n",
      "(4, 5, 6, 7, 8)\n"
     ]
    },
    {
     "data": {
      "text/html": [
       "\n",
       "        <script src=\"../_static/js/pytutor-embed.bundle.min.js\" type=\"application/javascript\"></script>\n",
       "     \n",
       "        <script id=\"json-jm94faef33-5308-4271-9233-27366bd977eb\" type=\"application/json\" >\n",
       "            {\"trace\": [{\"ordered_globals\": [], \"globals\": {}, \"func_name\": \"<module>\", \"heap\": {}, \"stack_to_render\": [], \"line\": 2, \"event\": \"step_line\", \"stdout\": \"\"}, {\"ordered_globals\": [\"x\"], \"globals\": {\"x\": [\"REF\", 1]}, \"func_name\": \"<module>\", \"heap\": {\"1\": [\"TUPLE\", 1, 2, 3]}, \"stack_to_render\": [], \"line\": 3, \"event\": \"step_line\", \"stdout\": \"\"}, {\"ordered_globals\": [\"x\", \"y\"], \"globals\": {\"y\": [\"REF\", 2], \"x\": [\"REF\", 1]}, \"func_name\": \"<module>\", \"heap\": {\"1\": [\"TUPLE\", 1, 2, 3], \"2\": [\"TUPLE\", 4, 5, 6, 7, 8]}, \"stack_to_render\": [], \"line\": 4, \"event\": \"step_line\", \"stdout\": \"\"}, {\"ordered_globals\": [\"x\", \"y\", \"t\"], \"globals\": {\"y\": [\"REF\", 2], \"x\": [\"REF\", 1], \"t\": [\"REF\", 3]}, \"func_name\": \"<module>\", \"heap\": {\"1\": [\"TUPLE\", 1, 2, 3], \"2\": [\"TUPLE\", 4, 5, 6, 7, 8], \"3\": [\"TUPLE\", 1, 2, 3, 4, 5, 6, 7, 8]}, \"stack_to_render\": [], \"line\": 5, \"event\": \"step_line\", \"stdout\": \"\"}, {\"ordered_globals\": [\"x\", \"y\", \"t\"], \"globals\": {\"y\": [\"REF\", 2], \"x\": [\"REF\", 1], \"t\": [\"REF\", 3]}, \"func_name\": \"<module>\", \"heap\": {\"1\": [\"TUPLE\", 1, 2, 3], \"2\": [\"TUPLE\", 4, 5, 6, 7, 8], \"3\": [\"TUPLE\", 1, 2, 3, 4, 5, 6, 7, 8]}, \"stack_to_render\": [], \"line\": 6, \"event\": \"step_line\", \"stdout\": \"(1, 2, 3, 4, 5, 6, 7, 8)\\n\"}, {\"ordered_globals\": [\"x\", \"y\", \"t\"], \"globals\": {\"y\": [\"REF\", 2], \"x\": [\"REF\", 1], \"t\": [\"REF\", 3]}, \"func_name\": \"<module>\", \"heap\": {\"1\": [\"TUPLE\", 1, 2, 3], \"2\": [\"TUPLE\", 4, 5, 6, 7, 8], \"3\": [\"TUPLE\", 1, 2, 3, 4, 5, 6, 7, 8]}, \"stack_to_render\": [], \"line\": 7, \"event\": \"step_line\", \"stdout\": \"(1, 2, 3, 4, 5, 6, 7, 8)\\n(1, 2, 3)\\n\"}, {\"ordered_globals\": [\"x\", \"y\", \"t\"], \"globals\": {\"y\": [\"REF\", 2], \"x\": [\"REF\", 1], \"t\": [\"REF\", 3]}, \"func_name\": \"<module>\", \"heap\": {\"1\": [\"TUPLE\", 1, 2, 3], \"2\": [\"TUPLE\", 4, 5, 6, 7, 8], \"3\": [\"TUPLE\", 1, 2, 3, 4, 5, 6, 7, 8]}, \"stack_to_render\": [], \"line\": 7, \"event\": \"return\", \"stdout\": \"(1, 2, 3, 4, 5, 6, 7, 8)\\n(1, 2, 3)\\n(4, 5, 6, 7, 8)\\n\"}], \"code\": \" \\nx = (1,2,3)\\ny = (4,5,6,7,8)\\nt = x + y\\nprint(t)\\nprint(x)\\nprint(y)\"}\n",
       "        </script>\n",
       "        <div id=\"jm94faef33-5308-4271-9233-27366bd977eb\" class=\"pytutorVisualizer\"> </div>\n",
       " \n",
       "        <style>\n",
       "        .vizLayoutTd {\n",
       "            background-color: #fff !important;\n",
       "        }\n",
       "\n",
       "        #pyStdout {            \n",
       "            min-height:25px;\n",
       "        }\n",
       "\n",
       "        /* 'Edit this code' link, hiding because replaces browser tab !!!*/\n",
       "        #editCodeLinkDiv {\n",
       "            display:none;  \n",
       "        }\n",
       "        </style>   \n",
       "                            \n",
       "        <script>\n",
       "        (function(){\n",
       "\n",
       "            var trace = JSON.parse(document.getElementById('json-jm94faef33-5308-4271-9233-27366bd977eb').innerHTML);                                        \n",
       "            // NOTE 1: id without #\n",
       "            // NOTE 2 - maybe there are more predictable ways, but this will work anyway\n",
       "            //        - id should be number\n",
       "            visualizerIdOverride = Math.trunc(Math.random() * 100000000000)\n",
       "            addVisualizerToPage(trace, 'jm94faef33-5308-4271-9233-27366bd977eb',{'embeddedMode' : false,\n",
       "                                             'visualizerIdOverride':visualizerIdOverride})  \n",
       "            \n",
       "            \n",
       "            // set overflow for pytuts - need to do in python as css \n",
       "            // does not allow parent selection\n",
       "            var pytuts = $('.pytutorVisualizer')\n",
       "            pytuts.closest('div.output_html.rendered_html.output_result')\n",
       "                    .css('overflow-x', 'visible')\n",
       "        \n",
       "            //pytuts.closest('div.output_html.rendered_html.output_result')\n",
       "            //      .css('background-color','red')                \n",
       "            \n",
       "        })()\n",
       "        </script>\n",
       "                \n",
       "                "
      ],
      "text/plain": [
       "<IPython.core.display.HTML object>"
      ]
     },
     "execution_count": 54,
     "metadata": {},
     "output_type": "execute_result"
    }
   ],
   "source": [
    "x = (1,2,3)\n",
    "y = (4,5,6,7,8)\n",
    "t = x + y\n",
    "print(t)\n",
    "print(x)\n",
    "print(y)\n",
    "\n",
    "jupman.pytut()"
   ]
  },
  {
   "cell_type": "markdown",
   "metadata": {},
   "source": [
    "**QUESTION**: Have a look at the following code snippets, and for each try to guess which result  it produces (or if it gives an error)\n",
    "\n",
    "1.  ```python\n",
    "    ()+()\n",
    "    ```\n",
    "1.  ```python    \n",
    "    type(()+())\n",
    "    ```\n",
    "1.  ```python    \n",
    "    len(()+())\n",
    "    ```\n",
    "1.  ```python    \n",
    "    ()+[]\n",
    "    ```\n",
    "1.  ```python    \n",
    "    []+()\n",
    "    ```\n",
    "1.  ```python    \n",
    "    (2,3,4) + tuple([5,6,7])\n",
    "    ```    \n",
    "1.  ```python    \n",
    "    \"crazy\"+('r','o','c','k','e','t')\n",
    "    ```"
   ]
  },
  {
   "cell_type": "markdown",
   "metadata": {},
   "source": [
    "### Membership"
   ]
  },
  {
   "cell_type": "markdown",
   "metadata": {},
   "source": [
    "As in all sequences, if we want to verify whether an element is contained in a tuple we can use the operator `in` which returns a boolean value:"
   ]
  },
  {
   "cell_type": "code",
   "execution_count": 55,
   "metadata": {},
   "outputs": [
    {
     "data": {
      "text/plain": [
       "True"
      ]
     },
     "execution_count": 55,
     "metadata": {},
     "output_type": "execute_result"
    }
   ],
   "source": [
    "'e' in ('h','e','l','m','e','t')"
   ]
  },
  {
   "cell_type": "code",
   "execution_count": 56,
   "metadata": {},
   "outputs": [
    {
     "data": {
      "text/plain": [
       "False"
      ]
     },
     "execution_count": 56,
     "metadata": {},
     "output_type": "execute_result"
    }
   ],
   "source": [
    "'z' in ('h','e','l','m','e','t')"
   ]
  },
  {
   "cell_type": "markdown",
   "metadata": {},
   "source": [
    "#### not in\n",
    "\n",
    "To check whether something is **not** belonging to a tuple, we can use two forms:\n",
    "\n",
    "**not in - form 1**:"
   ]
  },
  {
   "cell_type": "code",
   "execution_count": 57,
   "metadata": {},
   "outputs": [
    {
     "data": {
      "text/plain": [
       "True"
      ]
     },
     "execution_count": 57,
     "metadata": {},
     "output_type": "execute_result"
    }
   ],
   "source": [
    "\"carrot\" not in (\"watermelon\",\"banana\",\"apple\")"
   ]
  },
  {
   "cell_type": "code",
   "execution_count": 58,
   "metadata": {},
   "outputs": [
    {
     "data": {
      "text/plain": [
       "False"
      ]
     },
     "execution_count": 58,
     "metadata": {},
     "output_type": "execute_result"
    }
   ],
   "source": [
    "\"watermelon\" not in (\"watermelon\",\"banana\",\"apple\")"
   ]
  },
  {
   "cell_type": "markdown",
   "metadata": {},
   "source": [
    "**not in - form 2**"
   ]
  },
  {
   "cell_type": "code",
   "execution_count": 59,
   "metadata": {},
   "outputs": [
    {
     "data": {
      "text/plain": [
       "True"
      ]
     },
     "execution_count": 59,
     "metadata": {},
     "output_type": "execute_result"
    }
   ],
   "source": [
    "not \"carrot\" in (\"watermelon\",\"banana\",\"apple\")"
   ]
  },
  {
   "cell_type": "code",
   "execution_count": 60,
   "metadata": {},
   "outputs": [
    {
     "data": {
      "text/plain": [
       "False"
      ]
     },
     "execution_count": 60,
     "metadata": {},
     "output_type": "execute_result"
    }
   ],
   "source": [
    "not \"watermelon\" in (\"watermelon\",\"banana\",\"apple\")"
   ]
  },
  {
   "cell_type": "markdown",
   "metadata": {},
   "source": [
    "**QUESTION**: Have a look at the following code snippets, and for each try to guess which result it produces (or if it gives an error)\n",
    "\n",
    "    \n",
    "1.  ```python    \n",
    "    3 in (1.0, 2.0,3.0)\n",
    "    ```\n",
    "1.  ```python    \n",
    "    3.0 in (1,2,3)\n",
    "    ```\n",
    "1.  ```python    \n",
    "    3 not in (3)\n",
    "    ```\n",
    "1.  ```python    \n",
    "    3 not in (3,)\n",
    "    ```\n",
    "1.  ```python    \n",
    "    6 not in ()\n",
    "    ```\n",
    "1.  ```python\n",
    "    0 in (0)[0]\n",
    "    ```\n",
    "1.  ```python    \n",
    "    [] in ()\n",
    "    ```\n",
    "1.  ```python    \n",
    "    () in []\n",
    "    ```\n",
    "1.  ```python    \n",
    "    not [] in ()\n",
    "    ```\n",
    "1.  ```python    \n",
    "    () in ()\n",
    "    ```\n",
    "1.  ```python    \n",
    "    () in (())\n",
    "    ```\n",
    "1.  ```python    \n",
    "    () in ((),)\n",
    "    ```\n",
    "1.  ```python    \n",
    "    'ciao' in ('c','i','a','o')\n",
    "    ```\n"
   ]
  },
  {
   "cell_type": "code",
   "execution_count": null,
   "metadata": {},
   "outputs": [],
   "source": []
  },
  {
   "cell_type": "markdown",
   "metadata": {},
   "source": [
    "\n",
    "### Multiplication\n",
    "\n",
    "To replicate the elements in a tuple, it is possible to use the operator `*` which produces a NEW tuple:"
   ]
  },
  {
   "cell_type": "code",
   "execution_count": 61,
   "metadata": {},
   "outputs": [
    {
     "data": {
      "text/plain": [
       "(7, 8, 5, 7, 8, 5, 7, 8, 5)"
      ]
     },
     "execution_count": 61,
     "metadata": {},
     "output_type": "execute_result"
    }
   ],
   "source": [
    "(7,8,5) * 3"
   ]
  },
  {
   "cell_type": "code",
   "execution_count": 62,
   "metadata": {},
   "outputs": [
    {
     "data": {
      "text/plain": [
       "(7, 8, 5)"
      ]
     },
     "execution_count": 62,
     "metadata": {},
     "output_type": "execute_result"
    }
   ],
   "source": [
    "(7,8,5) * 1"
   ]
  },
  {
   "cell_type": "code",
   "execution_count": 63,
   "metadata": {},
   "outputs": [
    {
     "data": {
      "text/plain": [
       "()"
      ]
     },
     "execution_count": 63,
     "metadata": {},
     "output_type": "execute_result"
    }
   ],
   "source": [
    "(7,8,5) * 0"
   ]
  },
  {
   "cell_type": "markdown",
   "metadata": {},
   "source": [
    "**QUESTION**: What is the following code going to print?\n",
    "\n",
    "```python\n",
    "x = (5,6,7)\n",
    "y = x * 3\n",
    "print('x=',x)\n",
    "print('y=',y)\n",
    "```"
   ]
  },
  {
   "cell_type": "markdown",
   "metadata": {},
   "source": [
    "**ANWSER**: It will print:\n",
    "\n",
    "```\n",
    "x = (5, 6, 7)\n",
    "y = (5, 6, 7, 5, 6, 7, 5, 6, 7)\n",
    "```\n",
    "\n",
    "because the multiplication generates a NEW tuple which is associated to `y`. The tuple associated to `x` remains unchanged."
   ]
  },
  {
   "cell_type": "markdown",
   "metadata": {},
   "source": [
    "**QUESTION**: Have a look at the following expressions, and for each try to guess which result it produces (or if it gives an error)\n",
    "\n",
    "    \n",
    "1.  ```python\n",
    "    (5,6,7)*(3.0)\n",
    "    ```\n",
    "1.  ```python    \n",
    "    (5,6,7)*(3,0)\n",
    "    ```\n",
    "1.  ```python    \n",
    "    (5,6,7)*(3)\n",
    "    ```\n",
    "1.  ```python    \n",
    "    (5,6,7)*3\n",
    "    ```\n",
    "1.  ```python    \n",
    "    (4,2,3)*int(3.0)\n",
    "    ```\n",
    "1.  ```python    \n",
    "    (1,2)*[3][0]\n",
    "    ```\n",
    "1.  ```python    \n",
    "    (1,2)*(3,4)[-1]\n",
    "    ```\n",
    "1.  ```python    \n",
    "    [(9,8)]*4\n",
    "    ```\n",
    "1.  ```python\n",
    "    (1+2,3+4)*5\n",
    "    ```    \n",
    "1.  ```python\n",
    "    (1+2,)*4\n",
    "    ```\n",
    "1.  ```python\n",
    "    (1+2)*4\n",
    "    ```        \n",
    "1.  ```python\n",
    "    (1,2,3)*0\n",
    "    ```\n",
    "1.  ```python\n",
    "    (7)*0\n",
    "    ```\n",
    "1.  ```python\n",
    "    (7,)*0\n",
    "    ```"
   ]
  },
  {
   "cell_type": "code",
   "execution_count": null,
   "metadata": {},
   "outputs": [],
   "source": []
  },
  {
   "cell_type": "markdown",
   "metadata": {},
   "source": [
    "### Exercise - welcome\n",
    "\n",
    "Given a tuple `x` containing exactly 3 integers, and a tuple `y` containing exactly 3 tuples of characters, write some code to create a tuple `z` containing each tuple of `y` replicated by the corresponding integer in `x`.\n",
    "\n",
    "\n",
    "Example - given:\n",
    "\n",
    "```python\n",
    "x = (2,4,3)\n",
    "y = (('w','e','l','c'),('o',),('m','e'))\n",
    "```\n",
    "\n",
    "after your code it should print:\n",
    "\n",
    "```python\n",
    ">>> print(z)\n",
    "('w', 'e', 'l', 'c', 'w', 'e', 'l', 'c', 'o', 'o', 'o', 'o', 'm', 'e', 'm', 'e', 'm', 'e')\n",
    "```\n"
   ]
  },
  {
   "cell_type": "raw",
   "id": "saving-performer",
   "metadata": {
    "format": "text/html"
   },
   "source": [
    "<a  class=\"jupman-sol jupman-sol-toggler\" \n",
    " onclick=\"jupman.toggleSolution(this);\" \n",
    " data-jupman-show=\"Show solution\" data-jupman-hide=\"Hide\">Show solution</a><div class=\"jupman-sol jupman-sol-code\" style=\"display:none\">  "
   ]
  },
  {
   "cell_type": "code",
   "execution_count": 64,
   "metadata": {},
   "outputs": [
    {
     "name": "stdout",
     "output_type": "stream",
     "text": [
      "('w', 'e', 'l', 'c', 'w', 'e', 'l', 'c', 'o', 'o', 'o', 'o', 'm', 'e', 'm', 'e', 'm', 'e')\n"
     ]
    }
   ],
   "source": [
    "x = (2,4,3)\n",
    "y = (('w','e','l','c'),('o',),('m','e'))\n",
    "\n",
    "# write here\n",
    "z = y[0]*x[0] + y[1]*x[1] + y[2]*x[2] \n",
    "\n",
    "print(z)"
   ]
  },
  {
   "cell_type": "raw",
   "id": "prescription-onion",
   "metadata": {
    "format": "text/html"
   },
   "source": [
    "</div>"
   ]
  },
  {
   "cell_type": "code",
   "execution_count": 64,
   "metadata": {},
   "outputs": [
    {
     "name": "stdout",
     "output_type": "stream",
     "text": [
      "('w', 'e', 'l', 'c', 'w', 'e', 'l', 'c', 'o', 'o', 'o', 'o', 'm', 'e', 'm', 'e', 'm', 'e')\n"
     ]
    }
   ],
   "source": [
    "x = (2,4,3)\n",
    "y = (('w','e','l','c'),('o',),('m','e'))\n",
    "\n",
    "# write here\n",
    "\n"
   ]
  },
  {
   "cell_type": "markdown",
   "metadata": {},
   "source": [
    "## Write an element"
   ]
  },
  {
   "cell_type": "markdown",
   "metadata": {},
   "source": [
    "Tuples are _immutable,_ so trying to i.e. write an assignment for placing the number `12` into the cell at index `3` provokes an error:"
   ]
  },
  {
   "cell_type": "markdown",
   "metadata": {},
   "source": [
    "```python\n",
    "#      0 1 2 3 4\n",
    "tup = (5,8,7,9,11)\n",
    "tup[3] = 666\n",
    "\n",
    "---------------------------------------------------------------------------\n",
    "TypeError                                 Traceback (most recent call last)\n",
    "<ipython-input-118-83949b0c81e2> in <module>\n",
    "      1 tup = (5,8,7,9,11)\n",
    "----> 2 tup[3] = 666\n",
    "\n",
    "TypeError: 'tuple' object does not support item assignment\n",
    "\n",
    "```"
   ]
  },
  {
   "cell_type": "markdown",
   "metadata": {},
   "source": [
    "What we can do is to create a NEW tuple by composing it from sequences takes from the original one:"
   ]
  },
  {
   "cell_type": "code",
   "execution_count": 65,
   "metadata": {},
   "outputs": [],
   "source": [
    "#      0  1  2  3  4  5  6\n",
    "tup = (17,54,34,87,26,95,34)"
   ]
  },
  {
   "cell_type": "code",
   "execution_count": 66,
   "metadata": {},
   "outputs": [],
   "source": [
    "tup =  tup[0:3] + (12,) + tup[4:]"
   ]
  },
  {
   "cell_type": "code",
   "execution_count": 67,
   "metadata": {},
   "outputs": [
    {
     "data": {
      "text/plain": [
       "(17, 54, 34, 12, 26, 95, 34)"
      ]
     },
     "execution_count": 67,
     "metadata": {},
     "output_type": "execute_result"
    }
   ],
   "source": [
    "tup"
   ]
  },
  {
   "cell_type": "markdown",
   "metadata": {},
   "source": [
    "<div class=\"alert alert-warning\">\n",
    "\n",
    "**WARNING:** `append`, `extend`, `insert`, `sort` **DO NOT WORK WITH TUPLES !**\n",
    "\n",
    "All the methods you used to modify lists will _not_ work with tuples.\n",
    "\n",
    "</div>"
   ]
  },
  {
   "cell_type": "markdown",
   "metadata": {},
   "source": [
    "###  Exercise - badmod\n",
    "\n",
    "Try writing down here  `(1,2,3).append(4)` and see which error appears:"
   ]
  },
  {
   "cell_type": "raw",
   "id": "cultural-console",
   "metadata": {
    "format": "text/html"
   },
   "source": [
    "<a  class=\"jupman-sol jupman-sol-toggler\" \n",
    " onclick=\"jupman.toggleSolution(this);\" \n",
    " data-jupman-show=\"Show solution\" data-jupman-hide=\"Hide\">Show solution</a><div class=\"jupman-sol jupman-sol-code\" style=\"display:none\">  "
   ]
  },
  {
   "cell_type": "code",
   "execution_count": 68,
   "metadata": {},
   "outputs": [],
   "source": [
    "# write here\n",
    "#(1,2,3).append(4)"
   ]
  },
  {
   "cell_type": "raw",
   "id": "peripheral-slave",
   "metadata": {
    "format": "text/html"
   },
   "source": [
    "</div>"
   ]
  },
  {
   "cell_type": "code",
   "execution_count": 68,
   "metadata": {},
   "outputs": [],
   "source": [
    "# write here\n",
    "\n"
   ]
  },
  {
   "cell_type": "markdown",
   "metadata": {},
   "source": [
    "### Exercise -  abde\n",
    "\n",
    "Given a tuple `x`, save in a variable `y` another tuple containing:\n",
    "\n",
    "* at the beginning, the same elements of `x` _except_ the last one\n",
    "* at the end, the elements `'d'` and `'e'` . \n",
    "\n",
    "* Your code should work with _any_ tuple `x`\n",
    "\n",
    "Example - given:\n",
    "\n",
    "```python\n",
    "x = ('a','b','c')\n",
    "```\n",
    "after your code, you should see printed:\n",
    "\n",
    "```bash\n",
    "x = ('a', 'b', 'c')\n",
    "y = ('a', 'b', 'd', 'e')\n",
    "```"
   ]
  },
  {
   "cell_type": "raw",
   "id": "decimal-positive",
   "metadata": {
    "format": "text/html"
   },
   "source": [
    "<a  class=\"jupman-sol jupman-sol-toggler\" \n",
    " onclick=\"jupman.toggleSolution(this);\" \n",
    " data-jupman-show=\"Show solution\" data-jupman-hide=\"Hide\">Show solution</a><div class=\"jupman-sol jupman-sol-code\" style=\"display:none\">  "
   ]
  },
  {
   "cell_type": "code",
   "execution_count": 69,
   "metadata": {},
   "outputs": [],
   "source": [
    "x = ('a','b','c')\n",
    "\n",
    "# write here\n",
    "y = x[:-1] + ('d','e')\n",
    "\n",
    "#print('x=',x)\n",
    "#print('y=',y)"
   ]
  },
  {
   "cell_type": "raw",
   "id": "reflected-veteran",
   "metadata": {
    "format": "text/html"
   },
   "source": [
    "</div>"
   ]
  },
  {
   "cell_type": "code",
   "execution_count": 69,
   "metadata": {},
   "outputs": [],
   "source": [
    "x = ('a','b','c')\n",
    "\n",
    "# write here\n",
    "\n"
   ]
  },
  {
   "cell_type": "markdown",
   "metadata": {},
   "source": [
    "### Exercise - charismatic\n",
    "\n",
    "Given a tuple `t` having alternating uppercase / lowercase characters, write some code which modifies the assignment of `t` so that `t` becomes equal to a tuple having all characters lowercase as first ones and all uppercase characters as last ones.\n",
    "\n",
    "Example - given:\n",
    "\n",
    "```python\n",
    "t = ('C', 'h','A', 'r', 'I', 's', 'M', 'a', 'T', 'i', 'C')\n",
    "```\n",
    "\n",
    "after your code it must result:\n",
    "\n",
    "```python\n",
    ">>> print(t)\n",
    "('C', 'A', 'I', 'M', 'T', 'C', 'h', 'r', 's', 'a', 'i')\n",
    "\n",
    "```"
   ]
  },
  {
   "cell_type": "raw",
   "id": "billion-agent",
   "metadata": {
    "format": "text/html"
   },
   "source": [
    "<a  class=\"jupman-sol jupman-sol-toggler\" \n",
    " onclick=\"jupman.toggleSolution(this);\" \n",
    " data-jupman-show=\"Show solution\" data-jupman-hide=\"Hide\">Show solution</a><div class=\"jupman-sol jupman-sol-code\" style=\"display:none\">  "
   ]
  },
  {
   "cell_type": "code",
   "execution_count": 70,
   "metadata": {},
   "outputs": [],
   "source": [
    "t = ('C', 'h','A', 'r', 'I', 's', 'M', 'a', 'T', 'i', 'C')\n",
    "\n",
    "# write here\n",
    "t = t[::2] + t[1::2]\n",
    "#print(t)"
   ]
  },
  {
   "cell_type": "raw",
   "id": "secondary-tomorrow",
   "metadata": {
    "format": "text/html"
   },
   "source": [
    "</div>"
   ]
  },
  {
   "cell_type": "code",
   "execution_count": 70,
   "metadata": {},
   "outputs": [],
   "source": [
    "t = ('C', 'h','A', 'r', 'I', 's', 'M', 'a', 'T', 'i', 'C')\n",
    "\n",
    "# write here\n",
    "\n"
   ]
  },
  {
   "cell_type": "markdown",
   "metadata": {},
   "source": [
    "### Exercise - sorting\n",
    "\n",
    "Given a tuple `x` of unordered numbers, write some code which changes the assignment of `x` so that `x` results assigned to a sorted tuple\n",
    "\n",
    "* your code must work for _any_ tuple `x`\n",
    "* **HINT**: as we've already written, tuples DO NOT have `sort` method (because it would mutate them), but lists have it ...\n",
    "\n",
    "Example - given:\n",
    "```python\n",
    "x = (3,4,2,5,5,5,2,3)\n",
    "```\n",
    "after your code it must result:\n",
    " \n",
    "```python\n",
    ">>> print(x)\n",
    "(2, 2, 3, 3, 4, 5, 5, 5)\n",
    "```"
   ]
  },
  {
   "cell_type": "raw",
   "id": "given-visit",
   "metadata": {
    "format": "text/html"
   },
   "source": [
    "<a  class=\"jupman-sol jupman-sol-toggler\" \n",
    " onclick=\"jupman.toggleSolution(this);\" \n",
    " data-jupman-show=\"Show solution\" data-jupman-hide=\"Hide\">Show solution</a><div class=\"jupman-sol jupman-sol-code\" style=\"display:none\">  "
   ]
  },
  {
   "cell_type": "code",
   "execution_count": 71,
   "metadata": {},
   "outputs": [],
   "source": [
    "x = (3,4,2,5,5,5,2,3)\n",
    "\n",
    "# write here\n",
    "y = list(x)\n",
    "y.sort()\n",
    "x = tuple(y)\n",
    "#print(x)"
   ]
  },
  {
   "cell_type": "raw",
   "id": "coral-rebel",
   "metadata": {
    "format": "text/html"
   },
   "source": [
    "</div>"
   ]
  },
  {
   "cell_type": "code",
   "execution_count": 71,
   "metadata": {},
   "outputs": [],
   "source": [
    "x = (3,4,2,5,5,5,2,3)\n",
    "\n",
    "# write here\n",
    "\n"
   ]
  },
  {
   "cell_type": "markdown",
   "metadata": {},
   "source": [
    "## Methods\n",
    "\n",
    "Tuples are objects of type `typle` and have methods which allows to operate on them:\n",
    "\n",
    "|Method|Return|Description|\n",
    "|-------|------|-----------|\n",
    "|`tuple.index(obj)`|`int`|Searches for the first occurence of an element and returns its position|\n",
    "|`tuple.count(obj)`|`int`|Count the occurrences of an element|"
   ]
  },
  {
   "cell_type": "markdown",
   "metadata": {},
   "source": [
    "### `index` method"
   ]
  },
  {
   "cell_type": "markdown",
   "metadata": {},
   "source": [
    "`index` method allows to find the index of the FIRST occurrence of an element."
   ]
  },
  {
   "cell_type": "code",
   "execution_count": 72,
   "metadata": {},
   "outputs": [],
   "source": [
    "tup = ('b','a','r','a','t','t','o')"
   ]
  },
  {
   "cell_type": "code",
   "execution_count": 73,
   "metadata": {},
   "outputs": [
    {
     "data": {
      "text/plain": [
       "0"
      ]
     },
     "execution_count": 73,
     "metadata": {},
     "output_type": "execute_result"
    }
   ],
   "source": [
    "tup.index('b')"
   ]
  },
  {
   "cell_type": "code",
   "execution_count": 74,
   "metadata": {},
   "outputs": [
    {
     "data": {
      "text/plain": [
       "1"
      ]
     },
     "execution_count": 74,
     "metadata": {},
     "output_type": "execute_result"
    }
   ],
   "source": [
    "tup.index('a')"
   ]
  },
  {
   "cell_type": "code",
   "execution_count": 75,
   "metadata": {},
   "outputs": [
    {
     "data": {
      "text/plain": [
       "4"
      ]
     },
     "execution_count": 75,
     "metadata": {},
     "output_type": "execute_result"
    }
   ],
   "source": [
    "tup.index('t')"
   ]
  },
  {
   "cell_type": "markdown",
   "metadata": {},
   "source": [
    "If the element we're looking for is not present, we will get an error:"
   ]
  },
  {
   "cell_type": "markdown",
   "metadata": {},
   "source": [
    "```python\n",
    ">>> tup.index('z')\n",
    "\n",
    "---------------------------------------------------------------------------\n",
    "ValueError                                Traceback (most recent call last)\n",
    "<ipython-input-318-96cf33478b69> in <module>\n",
    "----> 1 tup.index('z')\n",
    "\n",
    "ValueError: tuple.index(x): x not in tuple\n",
    "\n",
    "```"
   ]
  },
  {
   "cell_type": "markdown",
   "metadata": {},
   "source": [
    "**QUESTION**: Have a look at the following expressions, and for each try to guess which result (or if it gives an error)\n",
    "\n",
    "    \n",
    "1.  ```python\n",
    "    (3,4,2).index(4)\n",
    "    ```\n",
    "1.  ```python    \n",
    "    (3,4,---1).index(-1)\n",
    "    ```\n",
    "1.  ```python    \n",
    "    (2.2,.2,2,).index(2)\n",
    "    ```\n",
    "1.  ```python    \n",
    "    (3,4,2).index(len([3,8,2,9]))\n",
    "    ```\n",
    "1.  ```python    \n",
    "    (6,6,6).index(666)\n",
    "    ```\n",
    "1.  ```python    \n",
    "    (4,2,3).index(3).index(3)\n",
    "    ```\n",
    "1.  ```python    \n",
    "    tuple(\"GUG\").index(\"g\")\n",
    "    ```\n",
    "1.  ```python    \n",
    "    (tuple(\"ci\") + (\"a\",\"o\")).index('a')\n",
    "    ```    \n",
    "1.  ```python    \n",
    "    (()).index(())\n",
    "    ```\n",
    "1.  ```python    \n",
    "    ((),).index(())\n",
    "    ```"
   ]
  },
  {
   "cell_type": "markdown",
   "metadata": {},
   "source": [
    "### `count` method\n",
    "\n",
    "We can obtain the number of occurrences of a certain element in a list by using the method `count`:"
   ]
  },
  {
   "cell_type": "code",
   "execution_count": 76,
   "metadata": {},
   "outputs": [],
   "source": [
    "t = ('a', 'c', 'a', 'd', 'e', 'm', 'i', 'a')"
   ]
  },
  {
   "cell_type": "code",
   "execution_count": 77,
   "metadata": {},
   "outputs": [
    {
     "data": {
      "text/plain": [
       "3"
      ]
     },
     "execution_count": 77,
     "metadata": {},
     "output_type": "execute_result"
    }
   ],
   "source": [
    "t.count('a')"
   ]
  },
  {
   "cell_type": "code",
   "execution_count": 78,
   "metadata": {},
   "outputs": [
    {
     "data": {
      "text/plain": [
       "1"
      ]
     },
     "execution_count": 78,
     "metadata": {},
     "output_type": "execute_result"
    }
   ],
   "source": [
    "t.count('d')"
   ]
  },
  {
   "cell_type": "markdown",
   "metadata": {},
   "source": [
    "If an element is not present `0` is returned: "
   ]
  },
  {
   "cell_type": "code",
   "execution_count": 79,
   "metadata": {},
   "outputs": [
    {
     "data": {
      "text/plain": [
       "0"
      ]
     },
     "execution_count": 79,
     "metadata": {},
     "output_type": "execute_result"
    }
   ],
   "source": [
    "t.count('z')"
   ]
  },
  {
   "cell_type": "markdown",
   "metadata": {},
   "source": [
    "### Exercise - fruits\n",
    "\n",
    "Given the string `s = \"apple|pear|apple|cherry|pear|apple|pear|pear|cherry|pear|strawberry\"`\n",
    "\n",
    "Insert the elements separated by `\"|\"` (pipe character) in a list.\n",
    "    \n",
    "1. How many elements must the list have?\n",
    "2. Knowing the list created at previous point has only four distinct elements (es `\"apple\"`, `\"pear\"`, `\"cherry\"`, and `\"strawberry\"`), create another list where each element is a tuple containing the name of the fruit and its multiplicity (that is, the number of times it appears in the original list).\n",
    "\n",
    "Example - given:\n",
    "\n",
    "```python\n",
    "counts = [(\"apple\", 3), (\"pear\",5), ...]\n",
    "```\n",
    "Here you can write code which works given a specific constant, so you don't need cycles.\n",
    "\n",
    "3. Print the content of each tuple in a separate line (i.e.: first libe; `\"apple\"` is present 3 times)\n",
    "\n",
    "You should obtain:\n",
    "```bash\n",
    "[('apple', 3), ('pear', 5), ('cherry', 2), ('strawberry', 1)]\n",
    "\n",
    "apple is present 3 times\n",
    "pear is present 5 times\n",
    "cherry is present 2 times\n",
    "strawberry is present 1 times\n",
    "```"
   ]
  },
  {
   "cell_type": "raw",
   "id": "defensive-canon",
   "metadata": {
    "format": "text/html"
   },
   "source": [
    "<a  class=\"jupman-sol jupman-sol-toggler\" \n",
    " onclick=\"jupman.toggleSolution(this);\" \n",
    " data-jupman-show=\"Show solution\" data-jupman-hide=\"Hide\">Show solution</a><div class=\"jupman-sol jupman-sol-code\" style=\"display:none\">  "
   ]
  },
  {
   "cell_type": "code",
   "execution_count": 80,
   "metadata": {
    "scrolled": true
   },
   "outputs": [
    {
     "name": "stdout",
     "output_type": "stream",
     "text": [
      "[('apple', 3), ('pear', 5), ('cherry', 2), ('strawberry', 1)]\n",
      "\n",
      "apple is present 3 times\n",
      "pear is present 5 times\n",
      "cherry is present 2 times\n",
      "strawberry is present 1 times\n"
     ]
    }
   ],
   "source": [
    "s = \"apple|pear|apple|cherry|pear|apple|pear|pear|cherry|pear|strawberry\"\n",
    "\n",
    "# write here\n",
    "\n",
    "words = s.split(\"|\")\n",
    "#print(words)\n",
    "\n",
    "tapples = (\"apple\", words.count(\"apple\"))\n",
    "tpears = (\"pear\", words.count(\"pear\"))\n",
    "tcherries = (\"cherry\", words.count(\"cherry\"))\n",
    "tstrawberries = (\"strawberry\", words.count(\"strawberry\"))\n",
    "counts =[tapples, tpears, tcherries, tstrawberries]\n",
    "\n",
    "print(counts) \n",
    "print()\n",
    "print(tapples[0], \"is present\", tapples[1], \"times\")\n",
    "print(tpears[0], \"is present\", tpears[1], \"times\")\n",
    "print(tcherries[0], \"is present\", tcherries[1], \"times\")\n",
    "print(tstrawberries[0], \"is present\", tstrawberries[1], \"times\")"
   ]
  },
  {
   "cell_type": "raw",
   "id": "checked-success",
   "metadata": {
    "format": "text/html"
   },
   "source": [
    "</div>"
   ]
  },
  {
   "cell_type": "code",
   "execution_count": 80,
   "metadata": {
    "scrolled": true
   },
   "outputs": [
    {
     "name": "stdout",
     "output_type": "stream",
     "text": [
      "[('apple', 3), ('pear', 5), ('cherry', 2), ('strawberry', 1)]\n",
      "\n",
      "apple is present 3 times\n",
      "pear is present 5 times\n",
      "cherry is present 2 times\n",
      "strawberry is present 1 times\n"
     ]
    }
   ],
   "source": [
    "s = \"apple|pear|apple|cherry|pear|apple|pear|pear|cherry|pear|strawberry\"\n",
    "\n",
    "# write here\n",
    "\n"
   ]
  },
  {
   "cell_type": "markdown",
   "metadata": {},
   "source": [
    "## Exercises with functions\n",
    "\n",
    "\n",
    "<div class=\"alert alert-warning\">\n",
    "\n",
    "**WARNING: following exercises require to know:**\n",
    "\n",
    "<ul>\n",
    "   <li>[Control flow](https://en.softpython.org/#control-flow)</li>\n",
    "   <li>[Functions](https://en.softpython.org/functions/functions-sol.html)</li>\n",
    "</ul>\n",
    "<br/>\n",
    "If you are just a beginner, you may skip them and come back later.\n",
    "</div>\n"
   ]
  },
  {
   "cell_type": "markdown",
   "metadata": {},
   "source": [
    "### Exercise - touples\n",
    "\n",
    "✪✪ Let's call a _touple_ a tuple with a couple of elements. Write a function  `touples` which given a tuple, RETURNs a list having as elements _touples_ each taken in alternation from `t`.\n",
    "\n",
    "* if the input tuple `t` has an odd number of elements, the last tuple in the list to return will be made of only one element\n",
    "\n",
    "Example: \n",
    "\n",
    "```python\n",
    ">>> touples( ('c', 'a', 'r', 'p', 'e', 't') )   # even length\n",
    "[('c', 'a'), ('r', 'p'), ('e', 't')]\n",
    ">>> touples( ('s','p','i','d','e','r','s') )    # odd length\n",
    "[('s', 'p'), ('i', 'd'), ('e', 'r'), ('s',)]\n",
    "```"
   ]
  },
  {
   "cell_type": "raw",
   "id": "instrumental-sussex",
   "metadata": {
    "format": "text/html"
   },
   "source": [
    "<a  class=\"jupman-sol jupman-sol-toggler\" \n",
    " onclick=\"jupman.toggleSolution(this);\" \n",
    " data-jupman-show=\"Show solution\" data-jupman-hide=\"Hide\">Show solution</a><div class=\"jupman-sol jupman-sol-code\" style=\"display:none\">  "
   ]
  },
  {
   "cell_type": "code",
   "execution_count": 81,
   "metadata": {},
   "outputs": [],
   "source": [
    "# write here\n",
    "def touples(t):\n",
    "    ret = []\n",
    "    i = 0\n",
    "    while i < len(t)-1:\n",
    "        ret.append((t[i],t[i+1]))\n",
    "        i += 2\n",
    "    if i == len(t)-1:\n",
    "        ret.append((t[-1],))\n",
    "    return ret\n",
    "\n",
    "#touples( ('c', 'a', 'r', 'p', 'e', 't') )\n",
    "#touples( ('s','p','i','d','e','r','s') )"
   ]
  },
  {
   "cell_type": "raw",
   "id": "amended-street",
   "metadata": {
    "format": "text/html"
   },
   "source": [
    "</div>"
   ]
  },
  {
   "cell_type": "code",
   "execution_count": 81,
   "metadata": {},
   "outputs": [],
   "source": [
    "# write here\n",
    "\n"
   ]
  },
  {
   "cell_type": "markdown",
   "metadata": {},
   "source": [
    "\n",
    "### Exercise - joined\n",
    "\n",
    "✪✪ Write a function which given two tuples of characters `ta` and `tb` having each different characters (may also be empty), return a tuple made like this:\n",
    "\n",
    "* if the tuple `ta` terminates with the same character `tb` begins with, RETURN the concatenation of `ta` and `yb` WITHOUT duplicated characters\n",
    "* otherwise RETURN an empty tuple\n",
    "\n",
    "Example:\n",
    "\n",
    "```python\n",
    ">>> joined(('a','b','c'), ('c','d','e'))\n",
    "('a', 'b', 'c', 'd', 'e')\n",
    ">>> joined(('a','b'), ('b','c','d'))\n",
    "('a', 'b', 'c', 'd')\n",
    ">>> joined((),('e','f','g'))\n",
    "()\n",
    ">>> joined(('a',),('e','f','g'))\n",
    "()\n",
    ">>> f(('a','b','c'),())\n",
    "()\n",
    ">>> f(('a','b','c'),('d','e'))\n",
    "()\n",
    "```\n"
   ]
  },
  {
   "cell_type": "raw",
   "id": "relative-prince",
   "metadata": {
    "format": "text/html"
   },
   "source": [
    "<a  class=\"jupman-sol jupman-sol-toggler\" \n",
    " onclick=\"jupman.toggleSolution(this);\" \n",
    " data-jupman-show=\"Show solution\" data-jupman-hide=\"Hide\">Show solution</a><div class=\"jupman-sol jupman-sol-code\" style=\"display:none\">  "
   ]
  },
  {
   "cell_type": "code",
   "execution_count": 82,
   "metadata": {},
   "outputs": [],
   "source": [
    "# write here\n",
    "\n",
    "def joined(ta,tb):\n",
    "    if len(ta) > 0 and len(tb) > 0:\n",
    "        if ta[-1] == tb[0]:\n",
    "            return ta[:-1] + tb\n",
    "\n",
    "    return ()\n",
    "\n",
    "#joined(('a','b','c'), ('c','d','e'))\n",
    "#joined(('a','b'), ('b','c','d'))\n",
    "#joined((),('e','f','g'))\n",
    "#joined(('a',),('e','f','g'))\n",
    "#f(('a','b','c'),())\n",
    "#f(('a','b','c'),('d','e'))"
   ]
  },
  {
   "cell_type": "raw",
   "id": "convinced-works",
   "metadata": {
    "format": "text/html"
   },
   "source": [
    "</div>"
   ]
  },
  {
   "cell_type": "code",
   "execution_count": 82,
   "metadata": {},
   "outputs": [],
   "source": [
    "# write here\n",
    "\n"
   ]
  },
  {
   "cell_type": "markdown",
   "metadata": {},
   "source": [
    "## Verify comprehension\n",
    "\n",
    "<div class=\"alert alert-warning\">\n",
    "\n",
    "**WARNING**\n",
    "\n",
    "The following exercises contain tests with _assert._ To understand how to do them, read first [Error handling and testing](https://en.softpython.org/errors-and-testing/errors-and-testing-sol.html) \n",
    "\n",
    "</div>\n"
   ]
  },
  {
   "cell_type": "markdown",
   "metadata": {},
   "source": [
    "\n",
    "### doubles\n",
    "\n",
    "✪✪ Take as input a list of  `n` integer numbers, and RETURN a NEW list which contains `n` tuples each having two elements. Each tuple contains a number taken from the corresponding position in the original list, and its double.\n",
    "\n",
    "Example - given:\n",
    "\n",
    "```python\n",
    "doubles([ 5, 3, 8])\n",
    "```\n",
    "\n",
    "it must produce the list:\n",
    "\n",
    "```python\n",
    "[(5,10), (3,6), (8,16)]\n",
    "```"
   ]
  },
  {
   "cell_type": "raw",
   "id": "massive-budget",
   "metadata": {
    "format": "text/html"
   },
   "source": [
    "<a  class=\"jupman-sol jupman-sol-toggler\" \n",
    " onclick=\"jupman.toggleSolution(this);\" \n",
    " data-jupman-show=\"Show solution\" data-jupman-hide=\"Hide\">Show solution</a><div class=\"jupman-sol jupman-sol-code\" style=\"display:none\">  "
   ]
  },
  {
   "cell_type": "code",
   "execution_count": 83,
   "metadata": {},
   "outputs": [],
   "source": [
    "def doubles(lst):\n",
    "    \n",
    "    ret = []\n",
    "    for element in lst:\n",
    "        ret.append((element, element * 2))\n",
    "    return ret\n",
    "    \n",
    "\n",
    "# TEST START - DO NOT TOUCH !\n",
    "assert doubles([]) == []\n",
    "assert doubles([3]) == [(3,6)]\n",
    "assert doubles([2,7]) == [(2,4),(7,14)]\n",
    "assert doubles([5,3,8]) == [(5,10), (3,6), (8,16)]\n",
    "\n",
    "# verify the original list was not changed\n",
    "la = [6]\n",
    "lb = doubles(la)\n",
    "assert la == [6]\n",
    "assert lb == [(6,12)]\n",
    "# TEST END"
   ]
  },
  {
   "cell_type": "raw",
   "id": "prompt-klein",
   "metadata": {
    "format": "text/html"
   },
   "source": [
    "</div>"
   ]
  },
  {
   "cell_type": "code",
   "execution_count": 83,
   "metadata": {},
   "outputs": [],
   "source": [
    "def doubles(lst):\n",
    "    raise Exception('TODO IMPLEMENT ME !')\n",
    "\n",
    "# TEST START - DO NOT TOUCH !\n",
    "assert doubles([]) == []\n",
    "assert doubles([3]) == [(3,6)]\n",
    "assert doubles([2,7]) == [(2,4),(7,14)]\n",
    "assert doubles([5,3,8]) == [(5,10), (3,6), (8,16)]\n",
    "\n",
    "# verify the original list was not changed\n",
    "la = [6]\n",
    "lb = doubles(la)\n",
    "assert la == [6]\n",
    "assert lb == [(6,12)]\n",
    "# TEST END"
   ]
  },
  {
   "cell_type": "markdown",
   "metadata": {},
   "source": [
    "### nasty\n",
    "\n",
    "✪✪✪ Given two tuples `ta` and `b`,  `ta` made of characters and `tb` of positive integer numbers , write a function `nasty` which RETURNS a tuple having two character strings: the first character is taken from `ta`, the second is a number taken  from the corresponding position in `tb`. The strings are repeated for a number of times equal to that number.\n",
    "\n",
    "```python\n",
    ">>> nasty(('u','r','g'), (4,2,3))\n",
    "('u4', 'u4', 'u4', 'u4', 'r2', 'r2', 'g3', 'g3', 'g3')\n",
    "\n",
    ">>> nasty(('g','a','s','p'), (2,4,1,3))\n",
    "('g2', 'g2', 'a4', 'a4', 'a4', 'a4', 's1', 'p3', 'p3', 'p3')\n",
    "```"
   ]
  },
  {
   "cell_type": "raw",
   "id": "answering-sister",
   "metadata": {
    "format": "text/html"
   },
   "source": [
    "<a  class=\"jupman-sol jupman-sol-toggler\" \n",
    " onclick=\"jupman.toggleSolution(this);\" \n",
    " data-jupman-show=\"Show solution\" data-jupman-hide=\"Hide\">Show solution</a><div class=\"jupman-sol jupman-sol-code\" style=\"display:none\">  "
   ]
  },
  {
   "cell_type": "code",
   "execution_count": 84,
   "metadata": {},
   "outputs": [],
   "source": [
    "# write here\n",
    "\n",
    "def nasty(ta, tb):\n",
    "    \n",
    "    i = 0\n",
    "    ret = []\n",
    "    while i < len(tb):\n",
    "        s = ta[i]+str(tb[i])    \n",
    "        ret.extend( (s,) * tb[i] )\n",
    "        i += 1\n",
    "    return tuple(ret)\n",
    "    \n",
    "        \n",
    "# TEST START - DO NOT TOUCH !\n",
    "assert nasty(('a',), (3,)) == ('a3','a3','a3')\n",
    "assert nasty(('a','b'), (3,1)) == ('a3','a3','a3','b1')\n",
    "assert nasty(('u','r','g'), (4,2,3)) == ('u4', 'u4', 'u4', 'u4', 'r2', 'r2', 'g3', 'g3', 'g3')\n",
    "assert nasty(('g','a','s','p'), (2,4,1,3)) == ('g2', 'g2', 'a4', 'a4', 'a4', 'a4', 's1', 'p3', 'p3', 'p3')\n",
    "# TEST END"
   ]
  },
  {
   "cell_type": "raw",
   "id": "hispanic-beginning",
   "metadata": {
    "format": "text/html"
   },
   "source": [
    "</div>"
   ]
  },
  {
   "cell_type": "code",
   "execution_count": 84,
   "metadata": {},
   "outputs": [],
   "source": [
    "# write here\n",
    "\n"
   ]
  },
  {
   "cell_type": "markdown",
   "metadata": {},
   "source": [
    "## References\n",
    "\n",
    "- [Think Python, Chapter 12, Tuples](http://greenteapress.com/thinkpython2/html/thinkpython2013.html)\n",
    "- [W3Resources - tuples](https://www.w3resource.com/python-exercises/tuple/) : contains many simple exercises"
   ]
  },
  {
   "cell_type": "code",
   "execution_count": null,
   "metadata": {},
   "outputs": [],
   "source": []
  }
 ],
 "metadata": {
  "celltoolbar": "Edit Metadata",
  "kernelspec": {
   "display_name": "Python 3",
   "language": "python",
   "name": "python3"
  },
  "language_info": {
   "codemirror_mode": {
    "name": "ipython",
    "version": 3
   },
   "file_extension": ".py",
   "mimetype": "text/x-python",
   "name": "python",
   "nbconvert_exporter": "python",
   "pygments_lexer": "ipython3",
   "version": "3.5.2"
  },
  "toc": {
   "base_numbering": 1,
   "nav_menu": {},
   "number_sections": false,
   "sideBar": true,
   "skip_h1_title": false,
   "title_cell": "Table of Contents",
   "title_sidebar": "Contents",
   "toc_cell": false,
   "toc_position": {},
   "toc_section_display": true,
   "toc_window_display": true
  }
 },
 "nbformat": 4,
 "nbformat_minor": 2
}
