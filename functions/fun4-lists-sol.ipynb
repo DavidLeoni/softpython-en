{
 "cells": [
  {
   "cell_type": "code",
   "execution_count": 1,
   "id": "d329355a",
   "metadata": {},
   "outputs": [],
   "source": [
    "# Remember to execute this cell with Control+Enter\n",
    "import jupman;"
   ]
  },
  {
   "cell_type": "markdown",
   "id": "d6ee8e71",
   "metadata": {},
   "source": [
    "# Functions 4 - exercises with lists\n",
    "\n",
    "## [Download exercises zip](../_static/generated/functions.zip)\n",
    "\n",
    "[Browse files online](https://github.com/DavidLeoni/softpython-en/tree/master/functions)"
   ]
  },
  {
   "cell_type": "markdown",
   "id": "8146293b",
   "metadata": {},
   "source": [
    "## Introduction"
   ]
  },
  {
   "cell_type": "markdown",
   "id": "de468c72",
   "metadata": {},
   "source": [
    "### Exercise - printwords\n",
    "\n",
    "✪ Write a function `printwords` that PRINTS all the words in a phrase\n",
    "\n",
    "```python\n",
    ">>> printwords(\"ciao come stai?\")\n",
    "```\n",
    "```\n",
    "ciao\n",
    "come\n",
    "stai?\n",
    "```\n"
   ]
  },
  {
   "cell_type": "raw",
   "id": "d7ffc740",
   "metadata": {
    "format": "text/html"
   },
   "source": [
    "<a  class=\"jupman-sol jupman-sol-toggler\" \n",
    " onclick=\"jupman.toggleSolution(this);\" \n",
    " data-jupman-show=\"Show solution\" data-jupman-hide=\"Hide\">Show solution</a><div class=\"jupman-sol jupman-sol-code\" style=\"display:none\">  "
   ]
  },
  {
   "cell_type": "code",
   "execution_count": 2,
   "id": "80e08dc9",
   "metadata": {},
   "outputs": [
    {
     "name": "stdout",
     "output_type": "stream",
     "text": [
      "ciao\n",
      "come\n",
      "stai?\n"
     ]
    }
   ],
   "source": [
    "\n",
    "# write here\n",
    "\n",
    "phrase = \"ciao come stai?\"\n",
    "\n",
    "def printwords(f):\n",
    "    \n",
    "    my_list = f.split()     # DO *NOT* create a variable called 'list'  !!!!\n",
    "    for word in my_list:\n",
    "        print(word)\n",
    "        \n",
    "printwords(phrase)"
   ]
  },
  {
   "cell_type": "raw",
   "id": "9b25b602",
   "metadata": {
    "format": "text/html"
   },
   "source": [
    "</div>"
   ]
  },
  {
   "cell_type": "code",
   "execution_count": 2,
   "id": "80e08dc9-stripped",
   "metadata": {},
   "outputs": [],
   "source": [
    "\n",
    "# write here\n",
    "\n"
   ]
  },
  {
   "cell_type": "markdown",
   "id": "d271ef68",
   "metadata": {},
   "source": [
    "### Exercise - printeven\n",
    "\n",
    "✪ Write a function `printeven(numbers)` that PRINTS all even numbers in a list of numbers `xs`\n",
    "\n",
    "```python\n",
    ">>> printeven([1,2,3,4,5,6])\n",
    "\n",
    "2\n",
    "4\n",
    "6\n",
    "```\n"
   ]
  },
  {
   "cell_type": "raw",
   "id": "f1e69e33",
   "metadata": {
    "format": "text/html"
   },
   "source": [
    "<a  class=\"jupman-sol jupman-sol-toggler\" \n",
    " onclick=\"jupman.toggleSolution(this);\" \n",
    " data-jupman-show=\"Show solution\" data-jupman-hide=\"Hide\">Show solution</a><div class=\"jupman-sol jupman-sol-code\" style=\"display:none\">  "
   ]
  },
  {
   "cell_type": "code",
   "execution_count": 3,
   "id": "d08d9513",
   "metadata": {},
   "outputs": [
    {
     "name": "stdout",
     "output_type": "stream",
     "text": [
      "2\n",
      "4\n",
      "6\n"
     ]
    }
   ],
   "source": [
    "\n",
    "\n",
    "# write here\n",
    "\n",
    "def printeven(xs):\n",
    "\n",
    "    for x in xs:\n",
    "        if x % 2 == 0:\n",
    "            print(x)\n",
    "\n",
    "numbers = [1,2,3,4,5,6]\n",
    "printeven(numbers)"
   ]
  },
  {
   "cell_type": "raw",
   "id": "d01ff31b",
   "metadata": {
    "format": "text/html"
   },
   "source": [
    "</div>"
   ]
  },
  {
   "cell_type": "code",
   "execution_count": 3,
   "id": "d08d9513-stripped",
   "metadata": {},
   "outputs": [],
   "source": [
    "\n",
    "\n",
    "# write here\n",
    "\n"
   ]
  },
  {
   "cell_type": "markdown",
   "id": "be4acb14",
   "metadata": {},
   "source": [
    "### Exercise - find26\n",
    "\n",
    "✪ Write a function that RETURN `True` if the number 26 is contained in a list of numbers\n",
    "\n",
    "```python\n",
    ">>> find26( [1,26,143,431,53,6] )\n",
    "True\n",
    "```"
   ]
  },
  {
   "cell_type": "raw",
   "id": "1b02e3fa",
   "metadata": {
    "format": "text/html"
   },
   "source": [
    "<a  class=\"jupman-sol jupman-sol-toggler\" \n",
    " onclick=\"jupman.toggleSolution(this);\" \n",
    " data-jupman-show=\"Show solution\" data-jupman-hide=\"Hide\">Show solution</a><div class=\"jupman-sol jupman-sol-code\" style=\"display:none\">  "
   ]
  },
  {
   "cell_type": "code",
   "execution_count": 4,
   "id": "51956d14",
   "metadata": {},
   "outputs": [
    {
     "data": {
      "text/plain": [
       "True"
      ]
     },
     "execution_count": 4,
     "metadata": {},
     "output_type": "execute_result"
    }
   ],
   "source": [
    "\n",
    "# write here\n",
    "\n",
    "def find26(xs):\n",
    "    return (26 in xs)\n",
    "\n",
    "numbers = [1,26,143,431,53,6]\n",
    "find26(numbers)"
   ]
  },
  {
   "cell_type": "raw",
   "id": "8d8d4e13",
   "metadata": {
    "format": "text/html"
   },
   "source": [
    "</div>"
   ]
  },
  {
   "cell_type": "code",
   "execution_count": 4,
   "id": "51956d14-stripped",
   "metadata": {},
   "outputs": [],
   "source": [
    "\n",
    "# write here\n",
    "\n"
   ]
  },
  {
   "cell_type": "markdown",
   "id": "6b66232a",
   "metadata": {},
   "source": [
    "### Exercise - firstsec\n",
    "\n",
    "✪ Write a function `firstsec(s)` that PRINTS the first and second word of a phrase.\n",
    "\n",
    "* to find a list of words, you can use `.split()` method\n",
    "\n",
    "```python\n",
    ">>> firstsec(\"ciao come stai?\")\n",
    "```\n",
    "```\n",
    "ciao come\n",
    "```"
   ]
  },
  {
   "cell_type": "raw",
   "id": "d1015523",
   "metadata": {
    "format": "text/html"
   },
   "source": [
    "<a  class=\"jupman-sol jupman-sol-toggler\" \n",
    " onclick=\"jupman.toggleSolution(this);\" \n",
    " data-jupman-show=\"Show solution\" data-jupman-hide=\"Hide\">Show solution</a><div class=\"jupman-sol jupman-sol-code\" style=\"display:none\">  "
   ]
  },
  {
   "cell_type": "code",
   "execution_count": 5,
   "id": "2312280d",
   "metadata": {},
   "outputs": [
    {
     "name": "stdout",
     "output_type": "stream",
     "text": [
      "ciao come\n"
     ]
    }
   ],
   "source": [
    "\n",
    "# write here\n",
    "\n",
    "def firstsec(s):\n",
    "\n",
    "    my_list = phrase.split()      # DO *NOT* create a variable called 'list'  !!!!\n",
    "    print(my_list[0], my_list[1])\n",
    "    \n",
    "phrase = \"ciao come stai?\"\n",
    "firstsec(phrase)"
   ]
  },
  {
   "cell_type": "raw",
   "id": "5a24a695",
   "metadata": {
    "format": "text/html"
   },
   "source": [
    "</div>"
   ]
  },
  {
   "cell_type": "code",
   "execution_count": 5,
   "id": "2312280d-stripped",
   "metadata": {},
   "outputs": [],
   "source": [
    "\n",
    "# write here\n",
    "\n"
   ]
  },
  {
   "cell_type": "markdown",
   "id": "1cdbdd36",
   "metadata": {},
   "source": [
    "### Exercise - threeven\n",
    "\n",
    "✪ Write a function that PRINTS `\"yes\"` if first three elements of a list are even numbers.\n",
    "Otherwise, the function must PRINT `\"no\"`. In case the list contains less than three elements, PRINT `\"not good\"`\n",
    "\n",
    "```python\n",
    ">>> threeven([6,4,8,4,5])\n",
    "yes\n",
    ">>> threeven([2,5,6,3,4,5])\n",
    "no\n",
    ">>> threeven([4])\n",
    "not good\n",
    "```"
   ]
  },
  {
   "cell_type": "raw",
   "id": "5c8b9bba",
   "metadata": {
    "format": "text/html"
   },
   "source": [
    "<a  class=\"jupman-sol jupman-sol-toggler\" \n",
    " onclick=\"jupman.toggleSolution(this);\" \n",
    " data-jupman-show=\"Show solution\" data-jupman-hide=\"Hide\">Show solution</a><div class=\"jupman-sol jupman-sol-code\" style=\"display:none\">  "
   ]
  },
  {
   "cell_type": "code",
   "execution_count": 6,
   "id": "f68916c9",
   "metadata": {},
   "outputs": [
    {
     "name": "stdout",
     "output_type": "stream",
     "text": [
      "yes\n",
      "no\n",
      "not good\n"
     ]
    }
   ],
   "source": [
    "\n",
    "# write here\n",
    "\n",
    "def threeven(xs):\n",
    "    if len(xs) >= 3:\n",
    "        if xs[0] % 2 == 0 and xs[1] % 2 == 0 and xs[2] % 2 == 0:\n",
    "            print(\"yes\")\n",
    "        else:\n",
    "            print(\"no\")\n",
    "    else:\n",
    "        print(\"not good\")\n",
    "\n",
    "threeven([6,4,8,4,5])\n",
    "threeven([2,5,6,3,4,5])\n",
    "threeven([4])"
   ]
  },
  {
   "cell_type": "raw",
   "id": "c9291ded",
   "metadata": {
    "format": "text/html"
   },
   "source": [
    "</div>"
   ]
  },
  {
   "cell_type": "code",
   "execution_count": 6,
   "id": "f68916c9-stripped",
   "metadata": {},
   "outputs": [],
   "source": [
    "\n",
    "# write here\n",
    "\n"
   ]
  },
  {
   "cell_type": "markdown",
   "id": "0416d4eb",
   "metadata": {},
   "source": [
    "### Exercise - separate_ip\n",
    "\n",
    "✪ An IP address is a string with four sequences of numbers (of max length 3), separated by a dot `.`. For example, `192.168.19.34` and `255.31.1.0` are IP addresses. \n",
    "\n",
    "Write a function that given an IP address as input, PRINTS the numbers inside the IP address \n",
    "\n",
    "- NOTE: do NOT use `.replace` method !\n",
    "\n",
    "```python\n",
    ">>> separate_ip(\"192.168.0.1\")\n",
    "\n",
    "192\n",
    "168\n",
    "0\n",
    "1\n",
    "```"
   ]
  },
  {
   "cell_type": "raw",
   "id": "96e56e98",
   "metadata": {
    "format": "text/html"
   },
   "source": [
    "<a  class=\"jupman-sol jupman-sol-toggler\" \n",
    " onclick=\"jupman.toggleSolution(this);\" \n",
    " data-jupman-show=\"Show solution\" data-jupman-hide=\"Hide\">Show solution</a><div class=\"jupman-sol jupman-sol-code\" style=\"display:none\">  "
   ]
  },
  {
   "cell_type": "code",
   "execution_count": 7,
   "id": "f8959f54",
   "metadata": {},
   "outputs": [
    {
     "name": "stdout",
     "output_type": "stream",
     "text": [
      "192\n",
      "168\n",
      "0\n",
      "1\n"
     ]
    }
   ],
   "source": [
    "\n",
    "# write here\n",
    "\n",
    "def separate_ip(s):\n",
    "    separated = s.split(\".\")\n",
    "    for element in separated:\n",
    "        print(element)\n",
    "    \n",
    "\n",
    "separate_ip(\"192.168.0.1\")"
   ]
  },
  {
   "cell_type": "raw",
   "id": "bc619b43",
   "metadata": {
    "format": "text/html"
   },
   "source": [
    "</div>"
   ]
  },
  {
   "cell_type": "code",
   "execution_count": 7,
   "id": "f8959f54-stripped",
   "metadata": {},
   "outputs": [],
   "source": [
    "\n",
    "# write here\n",
    "\n"
   ]
  },
  {
   "cell_type": "markdown",
   "id": "483beeec",
   "metadata": {},
   "source": [
    "### Exercise - average\n",
    "\n",
    "✪ Given a list of integer numbers, write a function `average(xs)` that RETURNS the arithmetic average  of the numbers it contains. If the given list is empty, RETURN zero.\n",
    "\n",
    "\n",
    "```python\n",
    ">>> x = average([3,4,2,3])  # ( 10/4 => 2.5)\n",
    ">>> x\n",
    "2.5\n",
    ">>> y = average([])\n",
    ">>> y\n",
    "0\n",
    ">>> z = average([ 30, 28 , 20, 29 ])\n",
    ">>> z\n",
    "26.75\n",
    "```\n"
   ]
  },
  {
   "cell_type": "raw",
   "id": "763b7ac1",
   "metadata": {
    "format": "text/html"
   },
   "source": [
    "<a  class=\"jupman-sol jupman-sol-toggler\" \n",
    " onclick=\"jupman.toggleSolution(this);\" \n",
    " data-jupman-show=\"Show solution\" data-jupman-hide=\"Hide\">Show solution</a><div class=\"jupman-sol jupman-sol-code\" style=\"display:none\">  "
   ]
  },
  {
   "cell_type": "code",
   "execution_count": 8,
   "id": "c4b2c44b",
   "metadata": {},
   "outputs": [
    {
     "name": "stdout",
     "output_type": "stream",
     "text": [
      "0\n"
     ]
    },
    {
     "data": {
      "text/plain": [
       "26.75"
      ]
     },
     "execution_count": 8,
     "metadata": {},
     "output_type": "execute_result"
    }
   ],
   "source": [
    "\n",
    "# write here\n",
    "\n",
    "def average(xs):\n",
    "    \n",
    "    if len(xs) == 0:\n",
    "        return 0\n",
    "    else:\n",
    "        total = 0\n",
    "        for x in xs:\n",
    "            total = total + x\n",
    "\n",
    "        return(total / len(xs))\n",
    "\n",
    "av = average([])\n",
    "print(av)\n",
    "average([30,28,20,29])"
   ]
  },
  {
   "cell_type": "raw",
   "id": "ba0aa9ea",
   "metadata": {
    "format": "text/html"
   },
   "source": [
    "</div>"
   ]
  },
  {
   "cell_type": "code",
   "execution_count": 8,
   "id": "c4b2c44b-stripped",
   "metadata": {},
   "outputs": [],
   "source": [
    "\n",
    "# write here\n",
    "\n"
   ]
  },
  {
   "cell_type": "markdown",
   "id": "92e73bab",
   "metadata": {},
   "source": [
    "## Functions with assert\n",
    "\n",
    "We will discuss differences between _modifying_ a list and _returning a new one_, and look into basic operations like transform, filter, mapping.\n",
    "\n",
    "<div class=\"alert alert-warning\">\n",
    "\n",
    "**ATTENTION**: Following exercises contain require to know \n",
    "tests with asserts, do understand how to carry them out, you can read first [Error handling and testing](https://en.softpython.org/functions/fun2-errors-and-testing-sol.html#Testing-with-asserts)\n"
   ]
  },
  {
   "cell_type": "markdown",
   "id": "8ad45a01",
   "metadata": {},
   "source": [
    "### Mapping\n",
    "\n",
    "Generally speaking, mapping (or transform) operations take something in input and gives back the same type of thing with elements somehow changed.\n",
    "\n",
    "In these cases, pay attention if it is required to give back a NEW list or MODIFY the existing list."
   ]
  },
  {
   "cell_type": "markdown",
   "id": "7121ab58",
   "metadata": {},
   "source": [
    "### Exercise - newdoublef\n",
    "\n",
    "✪ Takes a list of integers in input and RETURN a NEW one with all \n",
    "the numbers of lst doubled.\n",
    "\n",
    "* **USE** a `for` loop"
   ]
  },
  {
   "cell_type": "raw",
   "id": "06a1e606",
   "metadata": {
    "format": "text/html"
   },
   "source": [
    "<a  class=\"jupman-sol jupman-sol-toggler\" \n",
    " onclick=\"jupman.toggleSolution(this);\" \n",
    " data-jupman-show=\"Show solution\" data-jupman-hide=\"Hide\">Show solution</a><div class=\"jupman-sol jupman-sol-code\" style=\"display:none\">  "
   ]
  },
  {
   "cell_type": "code",
   "execution_count": 9,
   "id": "4abe798a",
   "metadata": {},
   "outputs": [
    {
     "ename": "NameError",
     "evalue": "name 'newdoublefor' is not defined",
     "output_type": "error",
     "traceback": [
      "\u001b[0;31m---------------------------------------------------------------------------\u001b[0m",
      "\u001b[0;31mNameError\u001b[0m                                 Traceback (most recent call last)",
      "\u001b[0;32m/tmp/ipykernel_3032/3187043984.py\u001b[0m in \u001b[0;36m<module>\u001b[0;34m\u001b[0m\n\u001b[1;32m     14\u001b[0m \u001b[0;34m\u001b[0m\u001b[0m\n\u001b[1;32m     15\u001b[0m \u001b[0ml\u001b[0m \u001b[0;34m=\u001b[0m \u001b[0;34m[\u001b[0m\u001b[0;36m3\u001b[0m\u001b[0;34m,\u001b[0m\u001b[0;36m7\u001b[0m\u001b[0;34m,\u001b[0m\u001b[0;36m1\u001b[0m\u001b[0;34m]\u001b[0m\u001b[0;34m\u001b[0m\u001b[0;34m\u001b[0m\u001b[0m\n\u001b[0;32m---> 16\u001b[0;31m \u001b[0;32massert\u001b[0m \u001b[0mnewdoublefor\u001b[0m\u001b[0;34m(\u001b[0m\u001b[0ml\u001b[0m\u001b[0;34m)\u001b[0m \u001b[0;34m==\u001b[0m \u001b[0;34m[\u001b[0m\u001b[0;36m6\u001b[0m\u001b[0;34m,\u001b[0m\u001b[0;36m14\u001b[0m\u001b[0;34m,\u001b[0m\u001b[0;36m2\u001b[0m\u001b[0;34m]\u001b[0m\u001b[0;34m\u001b[0m\u001b[0;34m\u001b[0m\u001b[0m\n\u001b[0m\u001b[1;32m     17\u001b[0m \u001b[0;32massert\u001b[0m \u001b[0ml\u001b[0m \u001b[0;34m==\u001b[0m \u001b[0;34m[\u001b[0m\u001b[0;36m3\u001b[0m\u001b[0;34m,\u001b[0m\u001b[0;36m7\u001b[0m\u001b[0;34m,\u001b[0m\u001b[0;36m1\u001b[0m\u001b[0;34m]\u001b[0m\u001b[0;34m\u001b[0m\u001b[0;34m\u001b[0m\u001b[0m\n\u001b[1;32m     18\u001b[0m \u001b[0;31m# TEST END\u001b[0m\u001b[0;34m\u001b[0m\u001b[0;34m\u001b[0m\u001b[0;34m\u001b[0m\u001b[0m\n",
      "\u001b[0;31mNameError\u001b[0m: name 'newdoublefor' is not defined"
     ]
    }
   ],
   "source": [
    "def newdoublef(lst):\n",
    "    \n",
    "   \n",
    "    ret = []\n",
    "    for x in lst:\n",
    "        ret.append(x*2)\n",
    "    return ret\n",
    "        \n",
    "\n",
    "# TEST START - DO NOT TOUCH!      \n",
    "# if you wrote the whole code correct, and execute the cell, Python shouldn't raise `AssertionError`\n",
    "assert newdoublef([]) == []\n",
    "assert newdoublef([3]) == [6]\n",
    "assert newdoublef([3,7,1]) == [6,14,2]\n",
    "\n",
    "l = [3,7,1]\n",
    "assert newdoublefor(l) == [6,14,2]\n",
    "assert l == [3,7,1]\n",
    "# TEST END"
   ]
  },
  {
   "cell_type": "raw",
   "id": "5b6b479d",
   "metadata": {
    "format": "text/html"
   },
   "source": [
    "</div>"
   ]
  },
  {
   "cell_type": "code",
   "execution_count": 9,
   "id": "4abe798a-stripped",
   "metadata": {},
   "outputs": [
    {
     "ename": "NameError",
     "evalue": "name 'newdoublefor' is not defined",
     "output_type": "error",
     "traceback": [
      "\u001b[0;31m---------------------------------------------------------------------------\u001b[0m",
      "\u001b[0;31mNameError\u001b[0m                                 Traceback (most recent call last)",
      "\u001b[0;32m/tmp/ipykernel_3032/3187043984.py\u001b[0m in \u001b[0;36m<module>\u001b[0;34m\u001b[0m\n\u001b[1;32m     14\u001b[0m \u001b[0;34m\u001b[0m\u001b[0m\n\u001b[1;32m     15\u001b[0m \u001b[0ml\u001b[0m \u001b[0;34m=\u001b[0m \u001b[0;34m[\u001b[0m\u001b[0;36m3\u001b[0m\u001b[0;34m,\u001b[0m\u001b[0;36m7\u001b[0m\u001b[0;34m,\u001b[0m\u001b[0;36m1\u001b[0m\u001b[0;34m]\u001b[0m\u001b[0;34m\u001b[0m\u001b[0;34m\u001b[0m\u001b[0m\n\u001b[0;32m---> 16\u001b[0;31m \u001b[0;32massert\u001b[0m \u001b[0mnewdoublefor\u001b[0m\u001b[0;34m(\u001b[0m\u001b[0ml\u001b[0m\u001b[0;34m)\u001b[0m \u001b[0;34m==\u001b[0m \u001b[0;34m[\u001b[0m\u001b[0;36m6\u001b[0m\u001b[0;34m,\u001b[0m\u001b[0;36m14\u001b[0m\u001b[0;34m,\u001b[0m\u001b[0;36m2\u001b[0m\u001b[0;34m]\u001b[0m\u001b[0;34m\u001b[0m\u001b[0;34m\u001b[0m\u001b[0m\n\u001b[0m\u001b[1;32m     17\u001b[0m \u001b[0;32massert\u001b[0m \u001b[0ml\u001b[0m \u001b[0;34m==\u001b[0m \u001b[0;34m[\u001b[0m\u001b[0;36m3\u001b[0m\u001b[0;34m,\u001b[0m\u001b[0;36m7\u001b[0m\u001b[0;34m,\u001b[0m\u001b[0;36m1\u001b[0m\u001b[0;34m]\u001b[0m\u001b[0;34m\u001b[0m\u001b[0;34m\u001b[0m\u001b[0m\n\u001b[1;32m     18\u001b[0m \u001b[0;31m# TEST END\u001b[0m\u001b[0;34m\u001b[0m\u001b[0;34m\u001b[0m\u001b[0;34m\u001b[0m\u001b[0m\n",
      "\u001b[0;31mNameError\u001b[0m: name 'newdoublefor' is not defined"
     ]
    }
   ],
   "source": [
    "def newdoublef(lst):\n",
    "    raise Exception('TODO IMPLEMENT ME !')    \n",
    "\n",
    "# TEST START - DO NOT TOUCH!      \n",
    "# if you wrote the whole code correct, and execute the cell, Python shouldn't raise `AssertionError`\n",
    "assert newdoublef([]) == []\n",
    "assert newdoublef([3]) == [6]\n",
    "assert newdoublef([3,7,1]) == [6,14,2]\n",
    "\n",
    "l = [3,7,1]\n",
    "assert newdoublefor(l) == [6,14,2]\n",
    "assert l == [3,7,1]\n",
    "# TEST END"
   ]
  },
  {
   "cell_type": "markdown",
   "id": "b4516fa5",
   "metadata": {},
   "source": [
    "### Exercise - doublemod\n",
    "\n",
    "✪✪ Takes a list of integers in input and MODIFIES it by doubling all the numbers."
   ]
  },
  {
   "cell_type": "raw",
   "id": "27a759b8",
   "metadata": {
    "format": "text/html"
   },
   "source": [
    "<a  class=\"jupman-sol jupman-sol-toggler\" \n",
    " onclick=\"jupman.toggleSolution(this);\" \n",
    " data-jupman-show=\"Show solution\" data-jupman-hide=\"Hide\">Show solution</a><div class=\"jupman-sol jupman-sol-code\" style=\"display:none\">  "
   ]
  },
  {
   "cell_type": "code",
   "execution_count": null,
   "id": "55104a07",
   "metadata": {},
   "outputs": [],
   "source": [
    "def doublemod(lst):\n",
    "   \n",
    "    \n",
    "   \n",
    "    for i in range(len(lst)):\n",
    "        lst[i] = lst[i] * 2\n",
    "    \n",
    "      \n",
    "# TEST START - DO NOT TOUCH!      \n",
    "# if you wrote the whole code correct, and execute the cell, Python shouldn't raise `AssertionError`\n",
    "l = []\n",
    "doublemod(l)\n",
    "assert l == []\n",
    "\n",
    "l = [3]\n",
    "doublemod(l)\n",
    "assert l == [6]\n",
    "    \n",
    "l = [3,7,1]\n",
    "doublemod(l)\n",
    "assert l == [6,14,2]\n",
    "# TEST END"
   ]
  },
  {
   "cell_type": "raw",
   "id": "664ea588",
   "metadata": {
    "format": "text/html"
   },
   "source": [
    "</div>"
   ]
  },
  {
   "cell_type": "code",
   "execution_count": null,
   "id": "55104a07-stripped",
   "metadata": {},
   "outputs": [],
   "source": [
    "def doublemod(lst):\n",
    "   \n",
    "    raise Exception('TODO IMPLEMENT ME !')\n",
    "      \n",
    "# TEST START - DO NOT TOUCH!      \n",
    "# if you wrote the whole code correct, and execute the cell, Python shouldn't raise `AssertionError`\n",
    "l = []\n",
    "doublemod(l)\n",
    "assert l == []\n",
    "\n",
    "l = [3]\n",
    "doublemod(l)\n",
    "assert l == [6]\n",
    "    \n",
    "l = [3,7,1]\n",
    "doublemod(l)\n",
    "assert l == [6,14,2]\n",
    "# TEST END"
   ]
  },
  {
   "cell_type": "markdown",
   "id": "5fa98e35",
   "metadata": {},
   "source": [
    "### Exercise - newdoublec\n",
    "\n",
    "✪ Takes a list of integers in input and RETURN a NEW one with all \n",
    "the numbers of lst doubled. \n",
    "\n",
    "* **USE** a list comprehension"
   ]
  },
  {
   "cell_type": "raw",
   "id": "04177562",
   "metadata": {
    "format": "text/html"
   },
   "source": [
    "<a  class=\"jupman-sol jupman-sol-toggler\" \n",
    " onclick=\"jupman.toggleSolution(this);\" \n",
    " data-jupman-show=\"Show solution\" data-jupman-hide=\"Hide\">Show solution</a><div class=\"jupman-sol jupman-sol-code\" style=\"display:none\">  "
   ]
  },
  {
   "cell_type": "code",
   "execution_count": null,
   "id": "3f070800",
   "metadata": {},
   "outputs": [],
   "source": [
    "def newdoublec(lst):\n",
    "    \n",
    "    return [x*2 for x in lst]\n",
    "    \n",
    "    \n",
    "# TEST START - DO NOT TOUCH!      \n",
    "# if you wrote the whole code correct, and execute the cell, Python shouldn't raise `AssertionError`\n",
    "assert newdoublec([]) == []\n",
    "assert newdoublec([3]) == [6]\n",
    "assert newdoublec([3,7,1]) == [6,14,2]\n",
    "\n",
    "l = [3,7,1]\n",
    "assert newdoublec(l) == [6,14,2]\n",
    "assert l == [3,7,1]\n",
    "# TEST END"
   ]
  },
  {
   "cell_type": "raw",
   "id": "21511eda",
   "metadata": {
    "format": "text/html"
   },
   "source": [
    "</div>"
   ]
  },
  {
   "cell_type": "code",
   "execution_count": null,
   "id": "3f070800-stripped",
   "metadata": {},
   "outputs": [],
   "source": [
    "def newdoublec(lst):\n",
    "    raise Exception('TODO IMPLEMENT ME !')\n",
    "    \n",
    "# TEST START - DO NOT TOUCH!      \n",
    "# if you wrote the whole code correct, and execute the cell, Python shouldn't raise `AssertionError`\n",
    "assert newdoublec([]) == []\n",
    "assert newdoublec([3]) == [6]\n",
    "assert newdoublec([3,7,1]) == [6,14,2]\n",
    "\n",
    "l = [3,7,1]\n",
    "assert newdoublec(l) == [6,14,2]\n",
    "assert l == [3,7,1]\n",
    "# TEST END"
   ]
  },
  {
   "cell_type": "markdown",
   "id": "8fe05387",
   "metadata": {},
   "source": [
    "### Exercise - up\n",
    "\n",
    "✪ Takes a list of strings and RETURN a NEW list having all the strings in lst in capital \n",
    "\n",
    "* **USE** a list comprehension "
   ]
  },
  {
   "cell_type": "raw",
   "id": "0a8c0c7d",
   "metadata": {
    "format": "text/html"
   },
   "source": [
    "<a  class=\"jupman-sol jupman-sol-toggler\" \n",
    " onclick=\"jupman.toggleSolution(this);\" \n",
    " data-jupman-show=\"Show solution\" data-jupman-hide=\"Hide\">Show solution</a><div class=\"jupman-sol jupman-sol-code\" style=\"display:none\">  "
   ]
  },
  {
   "cell_type": "code",
   "execution_count": null,
   "id": "d32b7335",
   "metadata": {},
   "outputs": [],
   "source": [
    "def up(lst):\n",
    "    \n",
    "   \n",
    "    return [x.upper() for x in lst]\n",
    "    \n",
    "    \n",
    "assert up([]) == []\n",
    "assert up(['']) == ['']\n",
    "assert up(['a']) == ['A']\n",
    "assert up(['aA']) == ['AA']\n",
    "assert up(['Ba']) == ['BA']\n",
    "assert up(['Ba', 'aC']) == ['BA','AC']\n",
    "assert up(['Ba dA']) == ['BA DA']\n",
    "\n",
    "l = ['ciAo']\n",
    "assert up(l) == ['CIAO']\n",
    "assert l == ['ciAo']"
   ]
  },
  {
   "cell_type": "raw",
   "id": "c0a8fb56",
   "metadata": {
    "format": "text/html"
   },
   "source": [
    "</div>"
   ]
  },
  {
   "cell_type": "code",
   "execution_count": null,
   "id": "d32b7335-stripped",
   "metadata": {},
   "outputs": [],
   "source": [
    "def up(lst):\n",
    "    raise Exception('TODO IMPLEMENT ME !')\n",
    "    \n",
    "assert up([]) == []\n",
    "assert up(['']) == ['']\n",
    "assert up(['a']) == ['A']\n",
    "assert up(['aA']) == ['AA']\n",
    "assert up(['Ba']) == ['BA']\n",
    "assert up(['Ba', 'aC']) == ['BA','AC']\n",
    "assert up(['Ba dA']) == ['BA DA']\n",
    "\n",
    "l = ['ciAo']\n",
    "assert up(l) == ['CIAO']\n",
    "assert l == ['ciAo']"
   ]
  },
  {
   "cell_type": "markdown",
   "id": "206ff16a",
   "metadata": {},
   "source": [
    "### Filtering\n",
    "\n",
    "Generally speaking, filter operations take something in input and give back the same type of thing with elements somehow filtered out.\n",
    "\n",
    "In these cases, pay attention if it is required to RETURN a NEW list or MODIFY the existing list."
   ]
  },
  {
   "cell_type": "markdown",
   "id": "c7dc48bc",
   "metadata": {},
   "source": [
    "### Exercise - remall\n",
    "\n",
    "✪✪ RETURN a NEW list which has the elements from `list2` except the elements in `list1`"
   ]
  },
  {
   "cell_type": "raw",
   "id": "223fc193",
   "metadata": {
    "format": "text/html"
   },
   "source": [
    "<a  class=\"jupman-sol jupman-sol-toggler\" \n",
    " onclick=\"jupman.toggleSolution(this);\" \n",
    " data-jupman-show=\"Show solution\" data-jupman-hide=\"Hide\">Show solution</a><div class=\"jupman-sol jupman-sol-code\" style=\"display:none\">  "
   ]
  },
  {
   "cell_type": "code",
   "execution_count": null,
   "id": "89a1b617",
   "metadata": {},
   "outputs": [],
   "source": [
    "def remall(list1, list2):\n",
    "    \n",
    "   \n",
    "    list3 = list2[:]\n",
    "    for x in list1:\n",
    "        if x in list3:\n",
    "            list3.remove(x)\n",
    "    \n",
    "    return list3\n",
    "        \n",
    "\n",
    "assert remall([],[]) == []\n",
    "assert remall(['a'], []) == []\n",
    "assert remall([], ['a']) == ['a']\n",
    "assert remall(['a'], ['a']) == []\n",
    "assert remall(['b'], ['a']) == ['a']\n",
    "assert remall(['a', 'b'], ['a','c','b']) == ['c']\n",
    "\n",
    "orig_l1,orig_l2 = ['a','d'], ['a','c','d','b']\n",
    "assert remall(orig_l1, orig_l2) == ['c', 'b']\n",
    "assert orig_l1 == ['a','d']         # checks it doesn't modify the original ones\n",
    "assert orig_l2 == ['a','c','d','b'] "
   ]
  },
  {
   "cell_type": "raw",
   "id": "942b7f52",
   "metadata": {
    "format": "text/html"
   },
   "source": [
    "</div>"
   ]
  },
  {
   "cell_type": "code",
   "execution_count": null,
   "id": "89a1b617-stripped",
   "metadata": {},
   "outputs": [],
   "source": [
    "def remall(list1, list2):\n",
    "    raise Exception('TODO IMPLEMENT ME !')    \n",
    "\n",
    "assert remall([],[]) == []\n",
    "assert remall(['a'], []) == []\n",
    "assert remall([], ['a']) == ['a']\n",
    "assert remall(['a'], ['a']) == []\n",
    "assert remall(['b'], ['a']) == ['a']\n",
    "assert remall(['a', 'b'], ['a','c','b']) == ['c']\n",
    "\n",
    "orig_l1,orig_l2 = ['a','d'], ['a','c','d','b']\n",
    "assert remall(orig_l1, orig_l2) == ['c', 'b']\n",
    "assert orig_l1 == ['a','d']         # checks it doesn't modify the original ones\n",
    "assert orig_l2 == ['a','c','d','b'] "
   ]
  },
  {
   "cell_type": "markdown",
   "id": "cdb13bbe",
   "metadata": {},
   "source": [
    "### Exercise - only_capital_for\n",
    "\n",
    "✪ Takes a list of strings lst and RETURN a NEW list which only contains the strings of `lst` which are all in capital letters (so keeps `'AB'` but not `'aB'`)\n",
    "        \n",
    "* **USE** a `for` loop"
   ]
  },
  {
   "cell_type": "raw",
   "id": "d8544d7d",
   "metadata": {
    "format": "text/html"
   },
   "source": [
    "<a  class=\"jupman-sol jupman-sol-toggler\" \n",
    " onclick=\"jupman.toggleSolution(this);\" \n",
    " data-jupman-show=\"Show solution\" data-jupman-hide=\"Hide\">Show solution</a><div class=\"jupman-sol jupman-sol-code\" style=\"display:none\">  "
   ]
  },
  {
   "cell_type": "code",
   "execution_count": null,
   "id": "63103303",
   "metadata": {},
   "outputs": [],
   "source": [
    "def only_capital_for(lst):\n",
    "    \n",
    "    ret = []\n",
    "    for el in lst:\n",
    "        if el.isupper():\n",
    "            ret.append(el)\n",
    "    return ret\n",
    "    \n",
    "\n",
    "assert only_capital_for([\"CD\"]) == [ \"CD\"]    \n",
    "assert only_capital_for([\"ab\"]) == []\n",
    "assert only_capital_for([\"dE\"]) == []\n",
    "assert only_capital_for([\"De\"]) == []\n",
    "assert only_capital_for([\"ab\",\"DE\"]) == [\"DE\"]\n",
    "orig = [\"ab\", \"CD\", \"Hb\", \"EF\"]\n",
    "assert only_capital_for(orig) == [ \"CD\", \"EF\"]\n",
    "assert orig == [\"ab\", \"CD\", \"Hb\", \"EF\"]"
   ]
  },
  {
   "cell_type": "raw",
   "id": "a7218f7d",
   "metadata": {
    "format": "text/html"
   },
   "source": [
    "</div>"
   ]
  },
  {
   "cell_type": "code",
   "execution_count": null,
   "id": "63103303-stripped",
   "metadata": {},
   "outputs": [],
   "source": [
    "def only_capital_for(lst):\n",
    "    raise Exception('TODO IMPLEMENT ME !')\n",
    "\n",
    "assert only_capital_for([\"CD\"]) == [ \"CD\"]    \n",
    "assert only_capital_for([\"ab\"]) == []\n",
    "assert only_capital_for([\"dE\"]) == []\n",
    "assert only_capital_for([\"De\"]) == []\n",
    "assert only_capital_for([\"ab\",\"DE\"]) == [\"DE\"]\n",
    "orig = [\"ab\", \"CD\", \"Hb\", \"EF\"]\n",
    "assert only_capital_for(orig) == [ \"CD\", \"EF\"]\n",
    "assert orig == [\"ab\", \"CD\", \"Hb\", \"EF\"]"
   ]
  },
  {
   "cell_type": "markdown",
   "id": "1df94f7b",
   "metadata": {},
   "source": [
    "### Exercise - only_capital_comp\n",
    "\n",
    "✪ Takes a list of strings `lst` and RETURN a NEW list which only contains the strings of `lst` which are all in capital letters (so keeps `'AB'` but not `'aB'`)\n",
    "        \n",
    "* **USE** a list comprehension"
   ]
  },
  {
   "cell_type": "raw",
   "id": "e38b974f",
   "metadata": {
    "format": "text/html"
   },
   "source": [
    "<a  class=\"jupman-sol jupman-sol-toggler\" \n",
    " onclick=\"jupman.toggleSolution(this);\" \n",
    " data-jupman-show=\"Show solution\" data-jupman-hide=\"Hide\">Show solution</a><div class=\"jupman-sol jupman-sol-code\" style=\"display:none\">  "
   ]
  },
  {
   "cell_type": "code",
   "execution_count": null,
   "id": "32d98d70",
   "metadata": {},
   "outputs": [],
   "source": [
    "def only_capital_comp(lst):\n",
    "    \n",
    "    return [el for el in lst if el.isupper() ]\n",
    "    \n",
    "\n",
    "assert only_capital_comp([\"CD\"]) == [ \"CD\"]    \n",
    "assert only_capital_comp([\"ab\"]) == []\n",
    "assert only_capital_comp([\"dE\"]) == []\n",
    "assert only_capital_comp([\"De\"]) == []\n",
    "assert only_capital_comp([\"ab\",\"DE\"]) == [\"DE\"]\n",
    "orig = [\"ab\", \"CD\", \"Hb\", \"EF\"]\n",
    "assert only_capital_comp(orig) == [ \"CD\", \"EF\"]\n",
    "assert orig == [\"ab\", \"CD\", \"Hb\", \"EF\"]"
   ]
  },
  {
   "cell_type": "raw",
   "id": "70d9a814",
   "metadata": {
    "format": "text/html"
   },
   "source": [
    "</div>"
   ]
  },
  {
   "cell_type": "code",
   "execution_count": null,
   "id": "32d98d70-stripped",
   "metadata": {},
   "outputs": [],
   "source": [
    "def only_capital_comp(lst):\n",
    "    raise Exception('TODO IMPLEMENT ME !')\n",
    "\n",
    "assert only_capital_comp([\"CD\"]) == [ \"CD\"]    \n",
    "assert only_capital_comp([\"ab\"]) == []\n",
    "assert only_capital_comp([\"dE\"]) == []\n",
    "assert only_capital_comp([\"De\"]) == []\n",
    "assert only_capital_comp([\"ab\",\"DE\"]) == [\"DE\"]\n",
    "orig = [\"ab\", \"CD\", \"Hb\", \"EF\"]\n",
    "assert only_capital_comp(orig) == [ \"CD\", \"EF\"]\n",
    "assert orig == [\"ab\", \"CD\", \"Hb\", \"EF\"]"
   ]
  },
  {
   "cell_type": "markdown",
   "id": "692e22ad",
   "metadata": {},
   "source": [
    "### Reducing\n",
    "\n",
    "Generally speaking, _reduce_ operations involve operating on sets of elements and giving back an often smaller result.\n",
    "\n",
    "In these cases, we operate on lists. Pay attention if it is required to RETURN a NEW list or MODIFY the existing list."
   ]
  },
  {
   "cell_type": "markdown",
   "id": "c799cb36",
   "metadata": {},
   "source": [
    "### Exercise - sum_all\n",
    "\n",
    "✪ RETURN the sum of all elements in `lst`\n",
    "    \n",
    "* Implement it as you like."
   ]
  },
  {
   "cell_type": "raw",
   "id": "21dea4e8",
   "metadata": {
    "format": "text/html"
   },
   "source": [
    "<a  class=\"jupman-sol jupman-sol-toggler\" \n",
    " onclick=\"jupman.toggleSolution(this);\" \n",
    " data-jupman-show=\"Show solution\" data-jupman-hide=\"Hide\">Show solution</a><div class=\"jupman-sol jupman-sol-code\" style=\"display:none\">  "
   ]
  },
  {
   "cell_type": "code",
   "execution_count": null,
   "id": "87797aa4",
   "metadata": {},
   "outputs": [],
   "source": [
    "def sum_all(lst):\n",
    "    \n",
    "       \n",
    "    return sum(lst)\n",
    "        \n",
    "\n",
    "assert sum_all([]) == 0\n",
    "assert sum_all([7,5]) == 12\n",
    "assert sum_all([9,5,8]) == 22"
   ]
  },
  {
   "cell_type": "raw",
   "id": "b7ba6f27",
   "metadata": {
    "format": "text/html"
   },
   "source": [
    "</div>"
   ]
  },
  {
   "cell_type": "code",
   "execution_count": null,
   "id": "87797aa4-stripped",
   "metadata": {},
   "outputs": [],
   "source": [
    "def sum_all(lst):\n",
    "    raise Exception('TODO IMPLEMENT ME !')    \n",
    "\n",
    "assert sum_all([]) == 0\n",
    "assert sum_all([7,5]) == 12\n",
    "assert sum_all([9,5,8]) == 22"
   ]
  },
  {
   "cell_type": "markdown",
   "id": "2089964f",
   "metadata": {},
   "source": [
    "### Exercise - sumevenf\n",
    "\n",
    "✪ RETURN the sum of all even elements in `lst`\n",
    "    \n",
    "* **USE** a `for` loop"
   ]
  },
  {
   "cell_type": "raw",
   "id": "5777cbc0",
   "metadata": {
    "format": "text/html"
   },
   "source": [
    "<a  class=\"jupman-sol jupman-sol-toggler\" \n",
    " onclick=\"jupman.toggleSolution(this);\" \n",
    " data-jupman-show=\"Show solution\" data-jupman-hide=\"Hide\">Show solution</a><div class=\"jupman-sol jupman-sol-code\" style=\"display:none\">  "
   ]
  },
  {
   "cell_type": "code",
   "execution_count": null,
   "id": "b6707fb5",
   "metadata": {},
   "outputs": [],
   "source": [
    "def sumevenf(lst):\n",
    "    \n",
    "    ret = 0\n",
    "    for el in lst:\n",
    "        if el % 2 == 0:\n",
    "            ret += el\n",
    "    return ret\n",
    "    \n",
    "\n",
    "assert sumevenf([]) == 0\n",
    "assert sumevenf([9]) == 0\n",
    "assert sumevenf([4]) == 4\n",
    "assert sumevenf([7,2,5,8]) == 10"
   ]
  },
  {
   "cell_type": "raw",
   "id": "8e72a7ee",
   "metadata": {
    "format": "text/html"
   },
   "source": [
    "</div>"
   ]
  },
  {
   "cell_type": "code",
   "execution_count": null,
   "id": "b6707fb5-stripped",
   "metadata": {},
   "outputs": [],
   "source": [
    "def sumevenf(lst):\n",
    "    raise Exception('TODO IMPLEMENT ME !')\n",
    "\n",
    "assert sumevenf([]) == 0\n",
    "assert sumevenf([9]) == 0\n",
    "assert sumevenf([4]) == 4\n",
    "assert sumevenf([7,2,5,8]) == 10"
   ]
  },
  {
   "cell_type": "markdown",
   "id": "e7bafa69",
   "metadata": {},
   "source": [
    "### Exercise - sumevenc\n",
    "\n",
    "✪ RETURN the sum of all even elements in `lst`\n",
    "    \n",
    "* **USE** a list comprehension\n",
    "* **WRITE** only one line of code"
   ]
  },
  {
   "cell_type": "raw",
   "id": "9ec530f2",
   "metadata": {
    "format": "text/html"
   },
   "source": [
    "<a  class=\"jupman-sol jupman-sol-toggler\" \n",
    " onclick=\"jupman.toggleSolution(this);\" \n",
    " data-jupman-show=\"Show solution\" data-jupman-hide=\"Hide\">Show solution</a><div class=\"jupman-sol jupman-sol-code\" style=\"display:none\">  "
   ]
  },
  {
   "cell_type": "code",
   "execution_count": null,
   "id": "97930894",
   "metadata": {},
   "outputs": [],
   "source": [
    "def sumevenc(lst):\n",
    "    \n",
    "   \n",
    "    return sum([el for el in lst if el % 2 == 0])\n",
    "    \n",
    "\n",
    "assert sumevenc([]) == 0\n",
    "assert sumevenc([9]) == 0\n",
    "assert sumevenc([4]) == 4\n",
    "assert sumevenc([7,2,5,8]) == 10"
   ]
  },
  {
   "cell_type": "raw",
   "id": "2cdf0522",
   "metadata": {
    "format": "text/html"
   },
   "source": [
    "</div>"
   ]
  },
  {
   "cell_type": "code",
   "execution_count": null,
   "id": "97930894-stripped",
   "metadata": {},
   "outputs": [],
   "source": [
    "def sumevenc(lst):\n",
    "    raise Exception('TODO IMPLEMENT ME !')\n",
    "\n",
    "assert sumevenc([]) == 0\n",
    "assert sumevenc([9]) == 0\n",
    "assert sumevenc([4]) == 4\n",
    "assert sumevenc([7,2,5,8]) == 10"
   ]
  },
  {
   "cell_type": "markdown",
   "id": "7a9117a5",
   "metadata": {},
   "source": [
    "## Other exercises"
   ]
  },
  {
   "cell_type": "markdown",
   "id": "d95bb33d",
   "metadata": {},
   "source": [
    "### Exercise - contains\n",
    "\n",
    "✪ RETURN `True` if `elem` is present in list, otherwise RETURN `False`"
   ]
  },
  {
   "cell_type": "raw",
   "id": "d5411968",
   "metadata": {
    "format": "text/html"
   },
   "source": [
    "<a  class=\"jupman-sol jupman-sol-toggler\" \n",
    " onclick=\"jupman.toggleSolution(this);\" \n",
    " data-jupman-show=\"Show solution\" data-jupman-hide=\"Hide\">Show solution</a><div class=\"jupman-sol jupman-sol-code\" style=\"display:none\">  "
   ]
  },
  {
   "cell_type": "code",
   "execution_count": null,
   "id": "7ae96daa",
   "metadata": {},
   "outputs": [],
   "source": [
    "def contains(xs, x):  \n",
    "    \n",
    "    return x in xs\n",
    "    \n",
    "\n",
    "\n",
    "assert contains([],'a') == False\n",
    "assert contains(['a'],'a') == True\n",
    "assert contains(['a','b','c'],'b') == True\n",
    "assert contains(['a','b','c'],'z') == False"
   ]
  },
  {
   "cell_type": "raw",
   "id": "1848fd59",
   "metadata": {
    "format": "text/html"
   },
   "source": [
    "</div>"
   ]
  },
  {
   "cell_type": "code",
   "execution_count": null,
   "id": "7ae96daa-stripped",
   "metadata": {},
   "outputs": [],
   "source": [
    "def contains(xs, x):  \n",
    "    raise Exception('TODO IMPLEMENT ME !')\n",
    "\n",
    "\n",
    "assert contains([],'a') == False\n",
    "assert contains(['a'],'a') == True\n",
    "assert contains(['a','b','c'],'b') == True\n",
    "assert contains(['a','b','c'],'z') == False"
   ]
  },
  {
   "cell_type": "markdown",
   "id": "6f0587e4",
   "metadata": {},
   "source": [
    "### Exercise - firstn\n",
    "\n",
    "✪ RETURN a list with the first numbers from `0` included to `n` excluded\n",
    "\n",
    "- For example, `firstn(3)` must RETURN `[0,1,2]`\n",
    "- if `n` is strictly negative, RETURN an empty list"
   ]
  },
  {
   "cell_type": "raw",
   "id": "bb1b8d8c",
   "metadata": {
    "format": "text/html"
   },
   "source": [
    "<a  class=\"jupman-sol jupman-sol-toggler\" \n",
    " onclick=\"jupman.toggleSolution(this);\" \n",
    " data-jupman-show=\"Show solution\" data-jupman-hide=\"Hide\">Show solution</a><div class=\"jupman-sol jupman-sol-code\" style=\"display:none\">  "
   ]
  },
  {
   "cell_type": "code",
   "execution_count": null,
   "id": "0a7f2a13",
   "metadata": {},
   "outputs": [],
   "source": [
    "\n",
    "def firstn(n):\n",
    "    \n",
    "    return list(range(n))\n",
    "    \n",
    "\n",
    "\n",
    "assert firstn(-1) == []\n",
    "assert firstn(-2) == []\n",
    "assert firstn(0) == []\n",
    "assert firstn(1) == [0]\n",
    "assert firstn(2) == [0,1]\n",
    "assert firstn(3) == [0,1,2]"
   ]
  },
  {
   "cell_type": "raw",
   "id": "700c0763",
   "metadata": {
    "format": "text/html"
   },
   "source": [
    "</div>"
   ]
  },
  {
   "cell_type": "code",
   "execution_count": null,
   "id": "0a7f2a13-stripped",
   "metadata": {},
   "outputs": [],
   "source": [
    "\n",
    "def firstn(n):\n",
    "    raise Exception('TODO IMPLEMENT ME !')\n",
    "\n",
    "\n",
    "assert firstn(-1) == []\n",
    "assert firstn(-2) == []\n",
    "assert firstn(0) == []\n",
    "assert firstn(1) == [0]\n",
    "assert firstn(2) == [0,1]\n",
    "assert firstn(3) == [0,1,2]"
   ]
  },
  {
   "cell_type": "markdown",
   "id": "0b29e094",
   "metadata": {},
   "source": [
    "### Exercise - firstlast\n",
    "\n",
    "✪ RETURN `True` if the first element of a list is equal to the last one, otherwise RETURN `False`\n",
    "\n",
    "NOTE: you can assume the list always contains at least one element."
   ]
  },
  {
   "cell_type": "raw",
   "id": "3165e74f",
   "metadata": {
    "format": "text/html"
   },
   "source": [
    "<a  class=\"jupman-sol jupman-sol-toggler\" \n",
    " onclick=\"jupman.toggleSolution(this);\" \n",
    " data-jupman-show=\"Show solution\" data-jupman-hide=\"Hide\">Show solution</a><div class=\"jupman-sol jupman-sol-code\" style=\"display:none\">  "
   ]
  },
  {
   "cell_type": "code",
   "execution_count": null,
   "id": "bac4b9df",
   "metadata": {},
   "outputs": [],
   "source": [
    "\n",
    "def firstlast(xs):\n",
    "    \n",
    "    return xs[0] == xs[-1]\n",
    "\n",
    "    # note: the comparation xs[0] == xs[-1] is an EXPRESSION which generates a boolean, \n",
    "    #       in this case True if the first character is equal to the last one and False otherwise\n",
    "    #       so we can directly return the result of the expression\n",
    "    \n",
    "    \n",
    "    \n",
    "\n",
    "\n",
    "assert firstlast(['a']) == True\n",
    "assert firstlast(['a','a']) == True\n",
    "assert firstlast(['a','b']) == False\n",
    "assert firstlast(['a','b','a']) == True\n",
    "assert firstlast(['a','b','c','a']) == True\n",
    "assert firstlast(['a','b','c','d']) == False"
   ]
  },
  {
   "cell_type": "raw",
   "id": "a8c2016b",
   "metadata": {
    "format": "text/html"
   },
   "source": [
    "</div>"
   ]
  },
  {
   "cell_type": "code",
   "execution_count": null,
   "id": "bac4b9df-stripped",
   "metadata": {},
   "outputs": [],
   "source": [
    "\n",
    "def firstlast(xs):\n",
    "    raise Exception('TODO IMPLEMENT ME !')\n",
    "    \n",
    "\n",
    "\n",
    "assert firstlast(['a']) == True\n",
    "assert firstlast(['a','a']) == True\n",
    "assert firstlast(['a','b']) == False\n",
    "assert firstlast(['a','b','a']) == True\n",
    "assert firstlast(['a','b','c','a']) == True\n",
    "assert firstlast(['a','b','c','d']) == False"
   ]
  },
  {
   "cell_type": "markdown",
   "id": "8084271f",
   "metadata": {},
   "source": [
    "### Exercise - dup\n",
    "\n",
    "✪ RETURN a NEW list, in which each list element in input is duplicated. Example:\n",
    "\n",
    "```python\n",
    ">>> dup(['hello','world','python'])\n",
    "['hello','hello','world','world','python','python']\n",
    "```"
   ]
  },
  {
   "cell_type": "raw",
   "id": "cc8d0676",
   "metadata": {
    "format": "text/html"
   },
   "source": [
    "<a  class=\"jupman-sol jupman-sol-toggler\" \n",
    " onclick=\"jupman.toggleSolution(this);\" \n",
    " data-jupman-show=\"Show solution\" data-jupman-hide=\"Hide\">Show solution</a><div class=\"jupman-sol jupman-sol-code\" style=\"display:none\">  "
   ]
  },
  {
   "cell_type": "code",
   "execution_count": null,
   "id": "e63e04cb",
   "metadata": {},
   "outputs": [],
   "source": [
    "def dup(xs):\n",
    "    \n",
    "    \n",
    "    ret = []\n",
    "    for x in xs:\n",
    "        ret.append(x)\n",
    "        ret.append(x)\n",
    "    return ret\n",
    "\n",
    "    \n",
    "        \n",
    "\n",
    "assert dup([]) ==  []\n",
    "assert dup(['a']) == ['a','a']\n",
    "assert dup(['a','b']) == ['a','a','b','b']\n",
    "assert dup(['a','b','c']) == ['a','a','b','b','c','c']\n",
    "assert dup(['a','a']) == ['a','a','a','a']\n",
    "assert dup(['a','a','b','b']) == ['a','a','a','a','b','b','b','b']\n",
    "orig = ['a','a','b','b']\n",
    "assert dup(orig) == ['a','a','a','a','b','b','b','b']\n",
    "assert orig == ['a','a','b','b']  # it shouldn't MODIFY the original"
   ]
  },
  {
   "cell_type": "raw",
   "id": "b434a789",
   "metadata": {
    "format": "text/html"
   },
   "source": [
    "</div>"
   ]
  },
  {
   "cell_type": "code",
   "execution_count": null,
   "id": "e63e04cb-stripped",
   "metadata": {},
   "outputs": [],
   "source": [
    "def dup(xs):\n",
    "    raise Exception('TODO IMPLEMENT ME !')\n",
    "        \n",
    "\n",
    "assert dup([]) ==  []\n",
    "assert dup(['a']) == ['a','a']\n",
    "assert dup(['a','b']) == ['a','a','b','b']\n",
    "assert dup(['a','b','c']) == ['a','a','b','b','c','c']\n",
    "assert dup(['a','a']) == ['a','a','a','a']\n",
    "assert dup(['a','a','b','b']) == ['a','a','a','a','b','b','b','b']\n",
    "orig = ['a','a','b','b']\n",
    "assert dup(orig) == ['a','a','a','a','b','b','b','b']\n",
    "assert orig == ['a','a','b','b']  # it shouldn't MODIFY the original"
   ]
  },
  {
   "cell_type": "markdown",
   "id": "cf093711",
   "metadata": {},
   "source": [
    "### Exercise - hasdup\n",
    "\n",
    "✪✪ RETURN `True` if `xs` contains element `x` more than once, otherwise RETURN `False`.\n",
    "\n",
    "* **DO NOT** use `.count` method, too easy!"
   ]
  },
  {
   "cell_type": "raw",
   "id": "2aa996ff",
   "metadata": {
    "format": "text/html"
   },
   "source": [
    "<a  class=\"jupman-sol jupman-sol-toggler\" \n",
    " onclick=\"jupman.toggleSolution(this);\" \n",
    " data-jupman-show=\"Show solution\" data-jupman-hide=\"Hide\">Show solution</a><div class=\"jupman-sol jupman-sol-code\" style=\"display:none\">  "
   ]
  },
  {
   "cell_type": "code",
   "execution_count": null,
   "id": "ab68a0f4",
   "metadata": {},
   "outputs": [],
   "source": [
    "def hasdup(x, xs):\n",
    "    \n",
    "\n",
    "    counter = 0\n",
    "    \n",
    "    for y in xs:\n",
    "        if y == x:\n",
    "            counter += 1\n",
    "            if counter > 1:\n",
    "                return True\n",
    "    return False\n",
    "    \n",
    "\n",
    "assert hasdup(\"a\", []) == False\n",
    "assert hasdup(\"a\", [\"a\"]) == False\n",
    "assert hasdup(\"a\", [\"a\", \"a\"]) == True\n",
    "assert hasdup(\"a\", [\"a\", \"a\", \"a\"]) == True\n",
    "assert hasdup(\"a\", [\"b\", \"a\", \"a\"]) == True\n",
    "assert hasdup(\"a\", [\"b\", \"a\", \"a\", \"a\"]) == True\n",
    "assert hasdup(\"b\", [\"b\", \"a\", \"a\", \"a\"]) == False\n",
    "assert hasdup(\"b\", [\"b\", \"a\", \"b\", \"a\"]) == True"
   ]
  },
  {
   "cell_type": "raw",
   "id": "cd91cc09",
   "metadata": {
    "format": "text/html"
   },
   "source": [
    "</div>"
   ]
  },
  {
   "cell_type": "code",
   "execution_count": null,
   "id": "ab68a0f4-stripped",
   "metadata": {},
   "outputs": [],
   "source": [
    "def hasdup(x, xs):\n",
    "    raise Exception('TODO IMPLEMENT ME !')\n",
    "\n",
    "assert hasdup(\"a\", []) == False\n",
    "assert hasdup(\"a\", [\"a\"]) == False\n",
    "assert hasdup(\"a\", [\"a\", \"a\"]) == True\n",
    "assert hasdup(\"a\", [\"a\", \"a\", \"a\"]) == True\n",
    "assert hasdup(\"a\", [\"b\", \"a\", \"a\"]) == True\n",
    "assert hasdup(\"a\", [\"b\", \"a\", \"a\", \"a\"]) == True\n",
    "assert hasdup(\"b\", [\"b\", \"a\", \"a\", \"a\"]) == False\n",
    "assert hasdup(\"b\", [\"b\", \"a\", \"b\", \"a\"]) == True"
   ]
  },
  {
   "cell_type": "markdown",
   "id": "5d3aad28",
   "metadata": {},
   "source": [
    "### Exercise - ord3\n",
    "\n",
    "✪✪ RETURN `True` if provided list has first three elements increasingly ordered, `False` otherwise\n",
    "\n",
    "- if `xs` has less than three elements, RETURN `False`"
   ]
  },
  {
   "cell_type": "raw",
   "id": "739800f2",
   "metadata": {
    "format": "text/html"
   },
   "source": [
    "<a  class=\"jupman-sol jupman-sol-toggler\" \n",
    " onclick=\"jupman.toggleSolution(this);\" \n",
    " data-jupman-show=\"Show solution\" data-jupman-hide=\"Hide\">Show solution</a><div class=\"jupman-sol jupman-sol-code\" style=\"display:none\">  "
   ]
  },
  {
   "cell_type": "code",
   "execution_count": null,
   "id": "a572828e",
   "metadata": {},
   "outputs": [],
   "source": [
    "def ord3(xs):\n",
    "    \n",
    "    if len(xs) >= 3:\n",
    "        return xs[0] <= xs[1] and xs[1] <= xs[2]\n",
    "    else:\n",
    "        return False\n",
    "    \n",
    "\n",
    "assert ord3([5]) == False\n",
    "assert ord3([4,7]) == False\n",
    "assert ord3([4,6,9]) == True       \n",
    "assert ord3([4,9,7]) == False\n",
    "assert ord3([9,5,7]) == False\n",
    "assert ord3([4,8,9,1,5]) == True     # first 3 elements increasing\n",
    "assert ord3([9,4,8,10,13]) == False  # first 3 elements NOT increasing"
   ]
  },
  {
   "cell_type": "raw",
   "id": "ca4cafd6",
   "metadata": {
    "format": "text/html"
   },
   "source": [
    "</div>"
   ]
  },
  {
   "cell_type": "code",
   "execution_count": null,
   "id": "a572828e-stripped",
   "metadata": {},
   "outputs": [],
   "source": [
    "def ord3(xs):\n",
    "    raise Exception('TODO IMPLEMENT ME !')\n",
    "\n",
    "assert ord3([5]) == False\n",
    "assert ord3([4,7]) == False\n",
    "assert ord3([4,6,9]) == True       \n",
    "assert ord3([4,9,7]) == False\n",
    "assert ord3([9,5,7]) == False\n",
    "assert ord3([4,8,9,1,5]) == True     # first 3 elements increasing\n",
    "assert ord3([9,4,8,10,13]) == False  # first 3 elements NOT increasing"
   ]
  },
  {
   "cell_type": "markdown",
   "id": "a9a6577d",
   "metadata": {},
   "source": [
    "### Exercise - filterab\n",
    "\n",
    "✪✪ Takes as input a list of characters, and RETURN a NEW list containing only the characters `'a'` and `'b'` found in the input list.\n",
    " \n",
    "Example:\n",
    "\n",
    "```python\n",
    ">>> filterab(['c','a','c','d','b','a','c','a','b','e'])\n",
    "['a','b','a','a','b']\n",
    "```"
   ]
  },
  {
   "cell_type": "raw",
   "id": "61d6e5b0",
   "metadata": {
    "format": "text/html"
   },
   "source": [
    "<a  class=\"jupman-sol jupman-sol-toggler\" \n",
    " onclick=\"jupman.toggleSolution(this);\" \n",
    " data-jupman-show=\"Show solution\" data-jupman-hide=\"Hide\">Show solution</a><div class=\"jupman-sol jupman-sol-code\" style=\"display:none\">  "
   ]
  },
  {
   "cell_type": "code",
   "execution_count": null,
   "id": "710c6fbc",
   "metadata": {},
   "outputs": [],
   "source": [
    "def filterab(xs):\n",
    "    \n",
    "    ret = []\n",
    "    for x in xs: \n",
    "        if x == 'a' or x == 'b':\n",
    "            ret.append(x)\n",
    "    return ret\n",
    "    \n",
    "\n",
    "\n",
    "assert filterab([]) == []\n",
    "assert filterab(['a']) == ['a']\n",
    "assert filterab(['b']) == ['b']\n",
    "assert filterab(['a','b']) == ['a','b']\n",
    "assert filterab(['a','b','c']) == ['a','b']\n",
    "assert filterab(['a','c','b']) == ['a','b']\n",
    "assert filterab(['c','a','b']) == ['a','b']\n",
    "assert filterab(['c','a','c','d','b','a','c','a','b','e']) == ['a','b','a','a','b']\n",
    "\n",
    "l = ['a','c','b']\n",
    "assert filterab(l) == ['a','b'] # verify a NEW list is returned\n",
    "assert l == ['a','c','b']      # verify original list was NOT modified"
   ]
  },
  {
   "cell_type": "raw",
   "id": "7a469489",
   "metadata": {
    "format": "text/html"
   },
   "source": [
    "</div>"
   ]
  },
  {
   "cell_type": "code",
   "execution_count": null,
   "id": "710c6fbc-stripped",
   "metadata": {},
   "outputs": [],
   "source": [
    "def filterab(xs):\n",
    "    raise Exception('TODO IMPLEMENT ME !')\n",
    "\n",
    "\n",
    "assert filterab([]) == []\n",
    "assert filterab(['a']) == ['a']\n",
    "assert filterab(['b']) == ['b']\n",
    "assert filterab(['a','b']) == ['a','b']\n",
    "assert filterab(['a','b','c']) == ['a','b']\n",
    "assert filterab(['a','c','b']) == ['a','b']\n",
    "assert filterab(['c','a','b']) == ['a','b']\n",
    "assert filterab(['c','a','c','d','b','a','c','a','b','e']) == ['a','b','a','a','b']\n",
    "\n",
    "l = ['a','c','b']\n",
    "assert filterab(l) == ['a','b'] # verify a NEW list is returned\n",
    "assert l == ['a','c','b']      # verify original list was NOT modified"
   ]
  },
  {
   "cell_type": "markdown",
   "id": "429c99bc",
   "metadata": {},
   "source": [
    "### Exercise - hill\n",
    "\n",
    "✪✪ RETURN a list having as first elements the numbers from `1` to `n` increasing, and after `n` the decrease until `1` included.\n",
    "\n",
    "* NOTE: `n` is contained only once.\n",
    "\n",
    "Example:\n",
    "\n",
    "```python\n",
    ">>> hill(4)\n",
    "[1,2,3,4,3,2,1]\n",
    "```"
   ]
  },
  {
   "cell_type": "raw",
   "id": "ec27556a",
   "metadata": {
    "format": "text/html"
   },
   "source": [
    "<a  class=\"jupman-sol jupman-sol-toggler\" \n",
    " onclick=\"jupman.toggleSolution(this);\" \n",
    " data-jupman-show=\"Show solution\" data-jupman-hide=\"Hide\">Show solution</a><div class=\"jupman-sol jupman-sol-code\" style=\"display:none\">  "
   ]
  },
  {
   "cell_type": "code",
   "execution_count": null,
   "id": "28358df8",
   "metadata": {},
   "outputs": [],
   "source": [
    "def hill(n):   \n",
    "    \n",
    "    \n",
    "    ret = []\n",
    "    for i in range(1,n):\n",
    "        ret.append(i)\n",
    "    for i in range(n,0,-1):\n",
    "        ret.append(i)\n",
    "    return ret\n",
    "    \n",
    "\n",
    "assert hill(0) == []\n",
    "assert hill(1) == [1]\n",
    "assert hill(2) == [1,2,1]\n",
    "assert hill(3) == [1,2,3,2,1]\n",
    "assert hill(4) == [1,2,3,4,3,2,1]\n",
    "assert hill(5) == [1,2,3,4,5,4,3,2,1]"
   ]
  },
  {
   "cell_type": "raw",
   "id": "712cb43c",
   "metadata": {
    "format": "text/html"
   },
   "source": [
    "</div>"
   ]
  },
  {
   "cell_type": "code",
   "execution_count": null,
   "id": "28358df8-stripped",
   "metadata": {},
   "outputs": [],
   "source": [
    "def hill(n):   \n",
    "    \n",
    "    raise Exception('TODO IMPLEMENT ME !')\n",
    "\n",
    "assert hill(0) == []\n",
    "assert hill(1) == [1]\n",
    "assert hill(2) == [1,2,1]\n",
    "assert hill(3) == [1,2,3,2,1]\n",
    "assert hill(4) == [1,2,3,4,3,2,1]\n",
    "assert hill(5) == [1,2,3,4,5,4,3,2,1]"
   ]
  },
  {
   "cell_type": "markdown",
   "id": "335414d5",
   "metadata": {},
   "source": [
    "### Exercise - peak\n",
    "\n",
    "✪✪ Suppose in a list are saved the heights of a mountain road taking a measure every 3 km (we assume the road  constantly goes upward). At a certain point, you will arrive at the mountain peak where you will measure the height with respect to the sea. Of course, there is also a road to go down hill (constantly downward) and here also the height will be measured every 3 km.\n",
    "\n",
    "A measurement example is `[100, 400, 800, 1220, 1600, 1400, 1000, 300, 40]`\n",
    "\n",
    "Write a function that RETURNS the _value_ from the list which corresponds to the measurement taken at the peak\n",
    "\n",
    "* if the list contains less than three elements, raise exception `ValueError`\n",
    "\n",
    "```python\n",
    ">>> peak([100,400, 800, 1220, 1600, 1400, 1000, 300, 40])\n",
    "1600\n",
    "```"
   ]
  },
  {
   "cell_type": "raw",
   "id": "ff7c5f96",
   "metadata": {
    "format": "text/html"
   },
   "source": [
    "<a  class=\"jupman-sol jupman-sol-toggler\" \n",
    " onclick=\"jupman.toggleSolution(this);\" \n",
    " data-jupman-show=\"Show solution\" data-jupman-hide=\"Hide\">Show solution</a><div class=\"jupman-sol jupman-sol-code\" style=\"display:none\">  "
   ]
  },
  {
   "cell_type": "code",
   "execution_count": null,
   "id": "3c62bccd",
   "metadata": {},
   "outputs": [],
   "source": [
    "\n",
    "def peak(xs):\n",
    "    \n",
    "    if len(xs) < 3:\n",
    "        raise ValueError(\"Empty list !\")\n",
    "    if len(xs) == 1:\n",
    "        return xs[0]\n",
    "        \n",
    "    for i in range(len(xs)):\n",
    "        if xs[i] > xs[i+1]:\n",
    "            return xs[i]\n",
    "    \n",
    "    return xs[-i]  # road without way down\n",
    "                \n",
    "    \n",
    "\n",
    "\n",
    "try:\n",
    "    peak([])         # with this anomalous list we expect the excpetion ValueError is raised\n",
    "    \n",
    "    raise Exception(\"Shouldn't arrive here!\") \n",
    "except ValueError:    # if exception is raised, it is behaving as expected and we do nothing\n",
    "    pass\n",
    "assert peak([5,40,7]) == 40\n",
    "assert peak([5,30,4]) == 30\n",
    "assert peak([5,70,70, 4]) == 70\n",
    "assert peak([5,10,80,25,2]) == 80\n",
    "assert peak([100,400, 800, 1220, 1600, 1400, 1000, 300, 40]) == 1600"
   ]
  },
  {
   "cell_type": "raw",
   "id": "c80fe20d",
   "metadata": {
    "format": "text/html"
   },
   "source": [
    "</div>"
   ]
  },
  {
   "cell_type": "code",
   "execution_count": null,
   "id": "3c62bccd-stripped",
   "metadata": {},
   "outputs": [],
   "source": [
    "\n",
    "def peak(xs):\n",
    "    raise Exception('TODO IMPLEMENT ME !')\n",
    "\n",
    "\n",
    "try:\n",
    "    peak([])         # with this anomalous list we expect the excpetion ValueError is raised\n",
    "    \n",
    "    raise Exception(\"Shouldn't arrive here!\") \n",
    "except ValueError:    # if exception is raised, it is behaving as expected and we do nothing\n",
    "    pass\n",
    "assert peak([5,40,7]) == 40\n",
    "assert peak([5,30,4]) == 30\n",
    "assert peak([5,70,70, 4]) == 70\n",
    "assert peak([5,10,80,25,2]) == 80\n",
    "assert peak([100,400, 800, 1220, 1600, 1400, 1000, 300, 40]) == 1600"
   ]
  },
  {
   "cell_type": "markdown",
   "id": "9f65d960",
   "metadata": {},
   "source": [
    "### Exercise - even\n",
    "\n",
    "✪✪ RETURN a list containing the elements at even position, starting from zero which is considered even\n",
    "\n",
    "- assume the input list always contains an even number of elements\n",
    "- **HINT**: remember that `range` can take three parameters"
   ]
  },
  {
   "cell_type": "raw",
   "id": "02f01ab1",
   "metadata": {
    "format": "text/html"
   },
   "source": [
    "<a  class=\"jupman-sol jupman-sol-toggler\" \n",
    " onclick=\"jupman.toggleSolution(this);\" \n",
    " data-jupman-show=\"Show solution\" data-jupman-hide=\"Hide\">Show solution</a><div class=\"jupman-sol jupman-sol-code\" style=\"display:none\">  "
   ]
  },
  {
   "cell_type": "code",
   "execution_count": null,
   "id": "e856bf8a",
   "metadata": {},
   "outputs": [],
   "source": [
    "def even(xs):\n",
    "    \n",
    "    ret = []\n",
    "    for i in range(0,len(xs),2):\n",
    "        ret.append(xs[i])\n",
    "    return ret\n",
    "    \n",
    "    \n",
    "\n",
    "assert even([]) == []\n",
    "assert even(['a','b']) == ['a']\n",
    "assert even(['a','b','c','d']) == ['a', 'c']\n",
    "assert even(['a','b','a','c']) == ['a', 'a']\n",
    "assert even(['a','b','c','d','e','f']) == ['a', 'c','e']"
   ]
  },
  {
   "cell_type": "raw",
   "id": "e2696a97",
   "metadata": {
    "format": "text/html"
   },
   "source": [
    "</div>"
   ]
  },
  {
   "cell_type": "code",
   "execution_count": null,
   "id": "e856bf8a-stripped",
   "metadata": {},
   "outputs": [],
   "source": [
    "def even(xs):\n",
    "    raise Exception('TODO IMPLEMENT ME !')\n",
    "    \n",
    "\n",
    "assert even([]) == []\n",
    "assert even(['a','b']) == ['a']\n",
    "assert even(['a','b','c','d']) == ['a', 'c']\n",
    "assert even(['a','b','a','c']) == ['a', 'a']\n",
    "assert even(['a','b','c','d','e','f']) == ['a', 'c','e']"
   ]
  },
  {
   "cell_type": "markdown",
   "id": "1b1c2ff3",
   "metadata": {},
   "source": [
    "### Exercise - mix\n",
    "\n",
    "✪✪ RETURN a NEW list in which the elements are taken in alternation from `lista` and `listb`\n",
    "\n",
    "- assume that `lista` and `listb` contain the same number of elements\n",
    "\n",
    "Example:\n",
    "\n",
    "```python\n",
    ">>> mix(['a', 'b','c'], ['x', 'y','z']) \n",
    "['a', 'x', 'b','y', 'c','z']\n",
    "```"
   ]
  },
  {
   "cell_type": "raw",
   "id": "0ef00032",
   "metadata": {
    "format": "text/html"
   },
   "source": [
    "<a  class=\"jupman-sol jupman-sol-toggler\" \n",
    " onclick=\"jupman.toggleSolution(this);\" \n",
    " data-jupman-show=\"Show solution\" data-jupman-hide=\"Hide\">Show solution</a><div class=\"jupman-sol jupman-sol-code\" style=\"display:none\">  "
   ]
  },
  {
   "cell_type": "code",
   "execution_count": null,
   "id": "41828e51",
   "metadata": {},
   "outputs": [],
   "source": [
    "\n",
    "def mix(lista, listb):\n",
    "    \n",
    "    ret = []\n",
    "    for i in range(len(lista)):\n",
    "        ret.append(lista[i])\n",
    "        ret.append(listb[i])\n",
    "    return ret\n",
    "    \n",
    "\n",
    "\n",
    "assert mix([], []) == []\n",
    "assert mix(['a'], ['x']) == ['a', 'x']\n",
    "assert mix(['a'], ['a']) == ['a', 'a']\n",
    "assert mix(['a', 'b'], ['x', 'y']) == ['a', 'x', 'b','y']\n",
    "assert mix(['a', 'b','c'], ['x', 'y','z']) == ['a', 'x', 'b','y', 'c','z']"
   ]
  },
  {
   "cell_type": "raw",
   "id": "16d228e0",
   "metadata": {
    "format": "text/html"
   },
   "source": [
    "</div>"
   ]
  },
  {
   "cell_type": "code",
   "execution_count": null,
   "id": "41828e51-stripped",
   "metadata": {},
   "outputs": [],
   "source": [
    "\n",
    "def mix(lista, listb):\n",
    "    raise Exception('TODO IMPLEMENT ME !')\n",
    "\n",
    "\n",
    "assert mix([], []) == []\n",
    "assert mix(['a'], ['x']) == ['a', 'x']\n",
    "assert mix(['a'], ['a']) == ['a', 'a']\n",
    "assert mix(['a', 'b'], ['x', 'y']) == ['a', 'x', 'b','y']\n",
    "assert mix(['a', 'b','c'], ['x', 'y','z']) == ['a', 'x', 'b','y', 'c','z']"
   ]
  },
  {
   "cell_type": "markdown",
   "id": "9bac7a8d",
   "metadata": {},
   "source": [
    "\n",
    "### Exercise - fill\n",
    "\n",
    "✪✪ Takes a list `lst1` of `n` elements and a list `lst2` of `m` elements, and MODIFIES `lst2` by copying all `lst1` elements in the first `n` positions of lst2\n",
    "        \n",
    "- If `n` > `m`, raises a `ValueError`\n",
    "    "
   ]
  },
  {
   "cell_type": "raw",
   "id": "14d09b9a",
   "metadata": {
    "format": "text/html"
   },
   "source": [
    "<a  class=\"jupman-sol jupman-sol-toggler\" \n",
    " onclick=\"jupman.toggleSolution(this);\" \n",
    " data-jupman-show=\"Show solution\" data-jupman-hide=\"Hide\">Show solution</a><div class=\"jupman-sol jupman-sol-code\" style=\"display:none\">  "
   ]
  },
  {
   "cell_type": "code",
   "execution_count": null,
   "id": "62fbf41b",
   "metadata": {},
   "outputs": [],
   "source": [
    "\n",
    "def fill(lst1, lst2):\n",
    "\n",
    "    \n",
    "    if len(lst1) > len(lst2):\n",
    "        raise  ValueError(\"List 1 is bigger than list 2 ! lst_a = %s, lst_b = %s\" % (len(lst1), len(lst2)))\n",
    "    j = 0\n",
    "    for x in lst1:\n",
    "        lst2[j] = x\n",
    "        j += 1\n",
    "    \n",
    "\n",
    "\n",
    "    \n",
    "try:\n",
    "    fill(['a','b'], [None])\n",
    "    raise Exception(\"TEST FAILED: Should have failed before with a ValueError!\")\n",
    "except ValueError:\n",
    "    \"Test passed\"    \n",
    "\n",
    "try:\n",
    "    fill(['a','b','c'], [None,None])\n",
    "    raise Exception(\"TEST FAILED: Should have failed before with a ValueError!\")\n",
    "except ValueError:\n",
    "    \"Test passed\"    \n",
    "\n",
    "L1 = []\n",
    "R1 = []\n",
    "fill(L1, R1)\n",
    "assert L1 == []\n",
    "assert R1 == []\n",
    "\n",
    "\n",
    "L = []\n",
    "R = ['x']\n",
    "fill(L, R)\n",
    "assert L == []\n",
    "assert R == ['x']\n",
    "\n",
    "\n",
    "L = ['a']\n",
    "R = ['x']\n",
    "fill(L, R)\n",
    "assert L == ['a']\n",
    "assert R == ['a']\n",
    "\n",
    "\n",
    "L = ['a']\n",
    "R = ['x','y']\n",
    "fill(L, R)\n",
    "assert L == ['a']\n",
    "assert R == ['a','y']\n",
    "\n",
    "L = ['a','b']\n",
    "R = ['x','y']\n",
    "fill(L, R)\n",
    "assert L == ['a','b']\n",
    "assert R == ['a','b']\n",
    "\n",
    "L = ['a','b']\n",
    "R = ['x','y','z',]\n",
    "fill(L, R)\n",
    "assert L == ['a','b']\n",
    "assert R == ['a','b','z']\n",
    "\n",
    "\n",
    "L = ['a']\n",
    "R = ['x','y','z',]\n",
    "fill(L, R)\n",
    "assert L == ['a']\n",
    "assert R == ['a','y','z']"
   ]
  },
  {
   "cell_type": "raw",
   "id": "7d2547c0",
   "metadata": {
    "format": "text/html"
   },
   "source": [
    "</div>"
   ]
  },
  {
   "cell_type": "code",
   "execution_count": null,
   "id": "62fbf41b-stripped",
   "metadata": {},
   "outputs": [],
   "source": [
    "\n",
    "def fill(lst1, lst2):\n",
    "\n",
    "    raise Exception('TODO IMPLEMENT ME !')\n",
    "\n",
    "\n",
    "    \n",
    "try:\n",
    "    fill(['a','b'], [None])\n",
    "    raise Exception(\"TEST FAILED: Should have failed before with a ValueError!\")\n",
    "except ValueError:\n",
    "    \"Test passed\"    \n",
    "\n",
    "try:\n",
    "    fill(['a','b','c'], [None,None])\n",
    "    raise Exception(\"TEST FAILED: Should have failed before with a ValueError!\")\n",
    "except ValueError:\n",
    "    \"Test passed\"    \n",
    "\n",
    "L1 = []\n",
    "R1 = []\n",
    "fill(L1, R1)\n",
    "assert L1 == []\n",
    "assert R1 == []\n",
    "\n",
    "\n",
    "L = []\n",
    "R = ['x']\n",
    "fill(L, R)\n",
    "assert L == []\n",
    "assert R == ['x']\n",
    "\n",
    "\n",
    "L = ['a']\n",
    "R = ['x']\n",
    "fill(L, R)\n",
    "assert L == ['a']\n",
    "assert R == ['a']\n",
    "\n",
    "\n",
    "L = ['a']\n",
    "R = ['x','y']\n",
    "fill(L, R)\n",
    "assert L == ['a']\n",
    "assert R == ['a','y']\n",
    "\n",
    "L = ['a','b']\n",
    "R = ['x','y']\n",
    "fill(L, R)\n",
    "assert L == ['a','b']\n",
    "assert R == ['a','b']\n",
    "\n",
    "L = ['a','b']\n",
    "R = ['x','y','z',]\n",
    "fill(L, R)\n",
    "assert L == ['a','b']\n",
    "assert R == ['a','b','z']\n",
    "\n",
    "\n",
    "L = ['a']\n",
    "R = ['x','y','z',]\n",
    "fill(L, R)\n",
    "assert L == ['a']\n",
    "assert R == ['a','y','z']"
   ]
  },
  {
   "cell_type": "markdown",
   "id": "ed882bd8",
   "metadata": {},
   "source": [
    "### Exercise - nostop\n",
    "\n",
    "✪✪ When you analyze a phrase, it might be useful processing it to remove very common words, for example articles and prepositions: `\"a book on Python\"` can be simplified in `\"book Python\"`\n",
    "\n",
    "The 'not so useful' words  are called _stopwords_. For example, this process is done by search engines to reduce the complexity of input string provided ny the user.\n",
    "\n",
    "Implement a function which takes a string and RETURN the input string without stopwords\n",
    "\n",
    "Implementa una funzione che prende una stringa e RITORNA la stringa di input senza le stopwords\n",
    "\n",
    "**HINT 1**: Python strings are *immutable* ! To remove words you need to create a _new_ string from the original string\n",
    "\n",
    "**HINT 2**: create a list of words with:\n",
    "\n",
    "```python\n",
    "words = stringa.split(\" \")\n",
    "```\n",
    "\n",
    "**HINT 3**: transform the list as needed, and then build the string to return with `\" \".join(lista)`"
   ]
  },
  {
   "cell_type": "raw",
   "id": "413fb213",
   "metadata": {
    "format": "text/html"
   },
   "source": [
    "<a  class=\"jupman-sol jupman-sol-toggler\" \n",
    " onclick=\"jupman.toggleSolution(this);\" \n",
    " data-jupman-show=\"Show solution\" data-jupman-hide=\"Hide\">Show solution</a><div class=\"jupman-sol jupman-sol-code\" style=\"display:none\">  "
   ]
  },
  {
   "cell_type": "code",
   "execution_count": null,
   "id": "0990d300",
   "metadata": {},
   "outputs": [],
   "source": [
    "\n",
    "def nostop(s, stopwords):\n",
    "    \n",
    "    words = s.split(\" \")\n",
    "    for s in stopwords:\n",
    "        if s in words:\n",
    "            words.remove(s)\n",
    "    return \" \".join(words)\n",
    "    \n",
    "\n",
    "assert nostop(\"a\", [\"a\"]) == \"\"\n",
    "assert nostop(\"a\", []) == \"a\"\n",
    "assert nostop(\"\", []) == \"\"\n",
    "assert nostop(\"\", [\"a\"]) == \"\"\n",
    "assert nostop(\"a book\", [\"a\"]) == \"book\"\n",
    "assert nostop(\"a book on Python\", [\"a\",\"on\"]) == \"book Python\"\n",
    "assert nostop(\"a book on Python for beginners\", [\"a\",\"the\",\"on\",\"at\",\"in\", \"of\", \"for\"]) == \"book Python beginners\""
   ]
  },
  {
   "cell_type": "raw",
   "id": "a885f416",
   "metadata": {
    "format": "text/html"
   },
   "source": [
    "</div>"
   ]
  },
  {
   "cell_type": "code",
   "execution_count": null,
   "id": "0990d300-stripped",
   "metadata": {},
   "outputs": [],
   "source": [
    "\n",
    "def nostop(s, stopwords):\n",
    "    raise Exception('TODO IMPLEMENT ME !')\n",
    "\n",
    "assert nostop(\"a\", [\"a\"]) == \"\"\n",
    "assert nostop(\"a\", []) == \"a\"\n",
    "assert nostop(\"\", []) == \"\"\n",
    "assert nostop(\"\", [\"a\"]) == \"\"\n",
    "assert nostop(\"a book\", [\"a\"]) == \"book\"\n",
    "assert nostop(\"a book on Python\", [\"a\",\"on\"]) == \"book Python\"\n",
    "assert nostop(\"a book on Python for beginners\", [\"a\",\"the\",\"on\",\"at\",\"in\", \"of\", \"for\"]) == \"book Python beginners\""
   ]
  },
  {
   "cell_type": "markdown",
   "id": "bb095c21",
   "metadata": {},
   "source": [
    "### Exercise - threez\n",
    "\n",
    "✪✪ MODIFY the given `lst` by placing the string `'z'` at the indeces divisible by 3.\n",
    "\n",
    "```python\n",
    ">>> lst = ['f','c','s','g','a','w','a','b']\n",
    ">>> trez(lst)\n",
    ">>> lst\n",
    ">>> ['z','c','s','z','a','w','z','b']\n",
    "```"
   ]
  },
  {
   "cell_type": "raw",
   "id": "8ddebfe1",
   "metadata": {
    "format": "text/html"
   },
   "source": [
    "<a  class=\"jupman-sol jupman-sol-toggler\" \n",
    " onclick=\"jupman.toggleSolution(this);\" \n",
    " data-jupman-show=\"Show solution\" data-jupman-hide=\"Hide\">Show solution</a><div class=\"jupman-sol jupman-sol-code\" style=\"display:none\">  "
   ]
  },
  {
   "cell_type": "code",
   "execution_count": null,
   "id": "9eddd11e",
   "metadata": {},
   "outputs": [],
   "source": [
    "def threez(lst):    \n",
    "    \n",
    "   \n",
    "    ret = []\n",
    "    for i in range(len(lst)):\n",
    "        if i % 3 == 0:\n",
    "            lst[i] = 'z'            \n",
    "    \n",
    "\n",
    "l1 = []\n",
    "threez(l1)\n",
    "assert l1 == []\n",
    "l2 = ['a']\n",
    "threez(l2)\n",
    "assert l2 == ['z']\n",
    "l3 = ['a','b']\n",
    "assert threez(['a','b']) == None  # returns nothing!\n",
    "threez(l3)\n",
    "assert l3 == ['z','b']\n",
    "l4 = ['a','b','c']\n",
    "threez(l4)\n",
    "assert l4 == ['z','b','c']\n",
    "l5 = ['a','b','c','d']\n",
    "threez(l5)\n",
    "assert l5 == ['z','b','c','z']\n",
    "l6 = ['f','c','s','g','a','w','a','b']\n",
    "threez(l6)\n",
    "assert l6 == ['z','c','s','z','a','w','z','b']"
   ]
  },
  {
   "cell_type": "raw",
   "id": "cb89b1b0",
   "metadata": {
    "format": "text/html"
   },
   "source": [
    "</div>"
   ]
  },
  {
   "cell_type": "code",
   "execution_count": null,
   "id": "9eddd11e-stripped",
   "metadata": {},
   "outputs": [],
   "source": [
    "def threez(lst):    \n",
    "    raise Exception('TODO IMPLEMENT ME !')\n",
    "\n",
    "l1 = []\n",
    "threez(l1)\n",
    "assert l1 == []\n",
    "l2 = ['a']\n",
    "threez(l2)\n",
    "assert l2 == ['z']\n",
    "l3 = ['a','b']\n",
    "assert threez(['a','b']) == None  # returns nothing!\n",
    "threez(l3)\n",
    "assert l3 == ['z','b']\n",
    "l4 = ['a','b','c']\n",
    "threez(l4)\n",
    "assert l4 == ['z','b','c']\n",
    "l5 = ['a','b','c','d']\n",
    "threez(l5)\n",
    "assert l5 == ['z','b','c','z']\n",
    "l6 = ['f','c','s','g','a','w','a','b']\n",
    "threez(l6)\n",
    "assert l6 == ['z','c','s','z','a','w','z','b']"
   ]
  },
  {
   "cell_type": "markdown",
   "id": "5196cda9",
   "metadata": {},
   "source": [
    "## Exercises with numbers"
   ]
  },
  {
   "cell_type": "markdown",
   "id": "ff187ba9",
   "metadata": {},
   "source": [
    "### Exercise -  listoint\n",
    "\n",
    "✪✪ Given a non-empty list of digits representing a non-negative integer, return a proper python integer \n",
    "\n",
    "The digits are stored such that the most significant digit is at the head of the list, and each element in the list is a single digit.\n",
    "\n",
    "You may assume the integer does not contain any leading zero, except the number 0 itself.\n",
    "\n",
    "Example: \n",
    "\n",
    "```python\n",
    ">>> listoint([3,7,5])\n",
    "375  \n",
    ">>> listoint([2,0])\n",
    "20    \n",
    ">>> listoint([0])\n",
    "0\n",
    "```"
   ]
  },
  {
   "cell_type": "markdown",
   "id": "67677c55",
   "metadata": {},
   "source": [
    "**DO NOT** try hacks like converting the whole list to string, dirty tricks always bring undesired consequences!\n",
    "\n",
    "The proper way is to follow rules of math, keeping in mind that in mind that\n",
    "\n",
    "$$5746 = 5*1000 + 7*100 + 4 * 10 + 6 * 1$$\n",
    "\n",
    "For our purposes, it is better to rewrite the formula like this:\n",
    "\n",
    "$$5746 = 6 * 1 + 4 * 10 + 7*100 + 5*1000$$\n",
    "\n",
    "Basically, we are performing a sum $4$ times. Each time and starting from the least significant digit, the digit in consideration is multiplied for a progressivly bigger power of 10, starting from $10^0 = 1$ up to $10^4=1000$.\n",
    "\n",
    "To understand how it could work in Python, we might progressivly add stuff to a cumulator variable `c` like this:\n",
    "\n",
    "```python\n",
    "c = 0\n",
    "\n",
    "c = c + 6*1\n",
    "c = c + 4*10\n",
    "c = c + 7*100\n",
    "c = c + 5*1000\n",
    "```\n",
    "In a more pythonic and concise way, we would write:\n",
    "\n",
    "```python\n",
    "c = 0\n",
    "\n",
    "c += 6*1\n",
    "c += 4*10\n",
    "c += 7*100\n",
    "c += 5*1000\n",
    "```\n",
    "\n",
    "\n",
    "So first of all to get the 6,4,7,5 it might help to try scanning the list in reverse order using the function `reversed` (notice the `ed` at the end!)\n"
   ]
  },
  {
   "cell_type": "code",
   "execution_count": null,
   "id": "2f9102f5",
   "metadata": {},
   "outputs": [],
   "source": [
    "for x in reversed([5,7,4,6]):\n",
    "    print(x)"
   ]
  },
  {
   "cell_type": "markdown",
   "id": "e8de80b5",
   "metadata": {},
   "source": [
    "Once we have such sequence, we need a way to get a sequence of progressively increasing powers of 10. To do so, we might use a variable `power`:"
   ]
  },
  {
   "cell_type": "code",
   "execution_count": null,
   "id": "557fa727",
   "metadata": {},
   "outputs": [],
   "source": [
    "power = 1\n",
    "\n",
    "for x in reversed([5,7,4,6]):\n",
    "    print (power)\n",
    "    power = power * 10"
   ]
  },
  {
   "cell_type": "markdown",
   "id": "a5ef2017",
   "metadata": {},
   "source": [
    "Now you should have the necessary elements to implement the required function by yourself.\n",
    "\n",
    "<div class=\"alert alert-info\">\n",
    "\n",
    "**PLEASE REMEMBER**: if you can't find a general solution, keep trying with constants and write down all the passages you do. Then in new cells try substituting the constants with variables and keep experimenting - it's the best method to spot patterns !\n",
    "</div>"
   ]
  },
  {
   "cell_type": "raw",
   "id": "614269a1",
   "metadata": {
    "format": "text/html"
   },
   "source": [
    "<a  class=\"jupman-sol jupman-sol-toggler\" \n",
    " onclick=\"jupman.toggleSolution(this);\" \n",
    " data-jupman-show=\"Show solution\" data-jupman-hide=\"Hide\">Show solution</a><div class=\"jupman-sol jupman-sol-code\" style=\"display:none\">  "
   ]
  },
  {
   "cell_type": "code",
   "execution_count": null,
   "id": "3d2664eb",
   "metadata": {},
   "outputs": [],
   "source": [
    "def listoint(lst):\n",
    "    \"\"\" RETURN a Python integer which is represented by the provided list of digits, which always \n",
    "        represent a number >= 0 and has no trailing zeroes except for special case of number 0    \n",
    "    \"\"\"\n",
    "    \n",
    "    power = 1\n",
    "    num = 0\n",
    "    for digit in reversed(lst):\n",
    "        num += power * digit\n",
    "        power = power * 10\n",
    "    return num\n",
    "    \n",
    "\n",
    "assert listoint([0]) == 0\n",
    "assert listoint([1]) == 1\n",
    "assert listoint([2]) == 2\n",
    "assert listoint([92]) == 92\n",
    "assert listoint([90]) == 90\n",
    "assert listoint([5,7,4]) == 574"
   ]
  },
  {
   "cell_type": "raw",
   "id": "0aca92de",
   "metadata": {
    "format": "text/html"
   },
   "source": [
    "</div>"
   ]
  },
  {
   "cell_type": "code",
   "execution_count": null,
   "id": "3d2664eb-stripped",
   "metadata": {},
   "outputs": [],
   "source": [
    "def listoint(lst):\n",
    "    \"\"\" RETURN a Python integer which is represented by the provided list of digits, which always \n",
    "        represent a number >= 0 and has no trailing zeroes except for special case of number 0    \n",
    "    \"\"\"\n",
    "    raise Exception('TODO IMPLEMENT ME !')\n",
    "\n",
    "assert listoint([0]) == 0\n",
    "assert listoint([1]) == 1\n",
    "assert listoint([2]) == 2\n",
    "assert listoint([92]) == 92\n",
    "assert listoint([90]) == 90\n",
    "assert listoint([5,7,4]) == 574"
   ]
  },
  {
   "cell_type": "markdown",
   "id": "470f2b4d",
   "metadata": {},
   "source": [
    "### Exercise - intolist\n",
    "\n",
    "✪✪ Let's now try the inverse operation, that is, going from a proper Python number like `574` to a list `[5,7,4]`\n",
    "\n",
    "Example: \n",
    "\n",
    "```python\n",
    ">>> intolist(375)\n",
    "[3,7,5]\n",
    "\n",
    ">>> intolist(20)\n",
    "[2,0]\n",
    "\n",
    ">>> intolist(0)\n",
    "[0]\n",
    "```\n",
    "\n",
    "To do so, we must exploit integer division `//` and reminder operator `%`. \n",
    "\n",
    "Let's say we want to get the final digit `4` out of `574`. To do so, we can notice that `4` is the reminder of  integer division between `547` and `10`:"
   ]
  },
  {
   "cell_type": "code",
   "execution_count": null,
   "id": "83880779",
   "metadata": {},
   "outputs": [],
   "source": [
    "574 % 10"
   ]
  },
  {
   "cell_type": "markdown",
   "id": "6de6ac6c",
   "metadata": {},
   "source": [
    "This extracts the four, but if we want to find an algorithm for our problem, we must also find a way to progressively reduce the problem size. To do so, we can exploit the integer division operator `//`:"
   ]
  },
  {
   "cell_type": "code",
   "execution_count": null,
   "id": "fb197a2e",
   "metadata": {},
   "outputs": [],
   "source": [
    "574 // 10"
   ]
  },
  {
   "cell_type": "markdown",
   "id": "17de5721",
   "metadata": {},
   "source": [
    "Now, given any integer number, you know how to \n",
    "\n",
    "a. extract last digit\n",
    "b. reduce the problem for the next iteration\n",
    "\n",
    "This should be sufficient to proceed. Pay attention to special case for input `0`. "
   ]
  },
  {
   "cell_type": "raw",
   "id": "576629d2",
   "metadata": {
    "format": "text/html"
   },
   "source": [
    "<a  class=\"jupman-sol jupman-sol-toggler\" \n",
    " onclick=\"jupman.toggleSolution(this);\" \n",
    " data-jupman-show=\"Show solution\" data-jupman-hide=\"Hide\">Show solution</a><div class=\"jupman-sol jupman-sol-code\" style=\"display:none\">  "
   ]
  },
  {
   "cell_type": "code",
   "execution_count": null,
   "id": "d0911469",
   "metadata": {},
   "outputs": [],
   "source": [
    "def intolist(num):\n",
    "    \"\"\" Takes an integer number >= 0 and RETURN a list of digits representing the number in base 10.    \n",
    "    \"\"\"\n",
    "    \n",
    "    if num == 0:\n",
    "        return [0]\n",
    "    else:\n",
    "        ret = []\n",
    "        d = num\n",
    "        while d > 0:\n",
    "            digit = d % 10   # remainder of d divided by 10\n",
    "            ret.append(digit)\n",
    "            d = d // 10\n",
    "\n",
    "        return list(reversed(ret))\n",
    "        \n",
    "    \n",
    "assert intolist(0) == [0]\n",
    "assert intolist(1) == [1]\n",
    "assert intolist(2) == [2]\n",
    "assert intolist(92) == [9,2]\n",
    "assert intolist(90) == [9,0]\n",
    "assert intolist(574) == [5,7,4]    "
   ]
  },
  {
   "cell_type": "raw",
   "id": "6481dda2",
   "metadata": {
    "format": "text/html"
   },
   "source": [
    "</div>"
   ]
  },
  {
   "cell_type": "code",
   "execution_count": null,
   "id": "d0911469-stripped",
   "metadata": {},
   "outputs": [],
   "source": [
    "def intolist(num):\n",
    "    \"\"\" Takes an integer number >= 0 and RETURN a list of digits representing the number in base 10.    \n",
    "    \"\"\"\n",
    "    raise Exception('TODO IMPLEMENT ME !')\n",
    "    \n",
    "assert intolist(0) == [0]\n",
    "assert intolist(1) == [1]\n",
    "assert intolist(2) == [2]\n",
    "assert intolist(92) == [9,2]\n",
    "assert intolist(90) == [9,0]\n",
    "assert intolist(574) == [5,7,4]    "
   ]
  },
  {
   "cell_type": "markdown",
   "id": "629270ed",
   "metadata": {},
   "source": [
    "### Exercise - add one\n",
    "\n",
    "Given a non-empty list of digits representing a non-negative integer, adds one to the integer.\n",
    "\n",
    "The digits are stored such that the most significant digit is at the head of the list, and each element in the list is a single digit.\n",
    "\n",
    "You may assume the integer does not contain any leading zero, except the number 0 itself.\n",
    "\n",
    "For example: \n",
    "\n",
    "    Input: [1,2,3]\n",
    "    Output: [1,2,4]\n",
    "\n",
    "    Input: [3,6,9,9]\n",
    "    Output: [3,7,0,0]\n",
    "\n",
    "    Input: [9,9,9,9]\n",
    "    Output: [1,0,0,0,0]\n",
    "\n",
    "There are two ways to solve this exercise: you can convert to a proper integer, add one, and then convert back to list which you will do in `add_one_conv`. The other way is to directly operate on a list, using a carry variable, which you will do in `add_one_carry`\n",
    "\n"
   ]
  },
  {
   "cell_type": "markdown",
   "id": "5dda45fc",
   "metadata": {},
   "source": [
    "#### Exercise - add_one_conv\n",
    "\n",
    "✪✪✪ You need to do three steps:\n",
    "\n",
    "1. Convert to a proper python integer\n",
    "2. add one to the python integer\n",
    "3. convert back to a list and return it\n"
   ]
  },
  {
   "cell_type": "raw",
   "id": "ff9a2708",
   "metadata": {
    "format": "text/html"
   },
   "source": [
    "<a  class=\"jupman-sol jupman-sol-toggler\" \n",
    " onclick=\"jupman.toggleSolution(this);\" \n",
    " data-jupman-show=\"Show solution\" data-jupman-hide=\"Hide\">Show solution</a><div class=\"jupman-sol jupman-sol-code\" style=\"display:none\">  "
   ]
  },
  {
   "cell_type": "code",
   "execution_count": null,
   "id": "1626de8f",
   "metadata": {},
   "outputs": [],
   "source": [
    "def add_one_conv(lst):\n",
    "    \"\"\"\n",
    "        Takes a list of digits representing an integer >= 0 without trailing zeroes except zero itself\n",
    "        and RETURN a NEW a list representing the value of lst plus one.\n",
    "        \n",
    "        Implement by calling already used implemented functions.\n",
    "    \"\"\"\n",
    "    \n",
    "    power = 1\n",
    "    num = listoint(lst)\n",
    "    \n",
    "    return intolist(num + 1)        \n",
    "    \n",
    "    \n",
    "assert add_one_conv([0]) == [1]\n",
    "assert add_one_conv([1]) == [2]\n",
    "assert add_one_conv([2]) == [3]\n",
    "assert add_one_conv([9]) == [1, 0]\n",
    "assert add_one_conv([5,7]) == [5, 8]\n",
    "assert add_one_conv([5,9]) == [6, 0]\n",
    "assert add_one_conv([9,9]) == [1, 0, 0]"
   ]
  },
  {
   "cell_type": "raw",
   "id": "0dac11aa",
   "metadata": {
    "format": "text/html"
   },
   "source": [
    "</div>"
   ]
  },
  {
   "cell_type": "code",
   "execution_count": null,
   "id": "1626de8f-stripped",
   "metadata": {},
   "outputs": [],
   "source": [
    "def add_one_conv(lst):\n",
    "    \"\"\"\n",
    "        Takes a list of digits representing an integer >= 0 without trailing zeroes except zero itself\n",
    "        and RETURN a NEW a list representing the value of lst plus one.\n",
    "        \n",
    "        Implement by calling already used implemented functions.\n",
    "    \"\"\"\n",
    "    raise Exception('TODO IMPLEMENT ME !')\n",
    "    \n",
    "assert add_one_conv([0]) == [1]\n",
    "assert add_one_conv([1]) == [2]\n",
    "assert add_one_conv([2]) == [3]\n",
    "assert add_one_conv([9]) == [1, 0]\n",
    "assert add_one_conv([5,7]) == [5, 8]\n",
    "assert add_one_conv([5,9]) == [6, 0]\n",
    "assert add_one_conv([9,9]) == [1, 0, 0]"
   ]
  },
  {
   "cell_type": "markdown",
   "id": "7753d266",
   "metadata": {},
   "source": [
    "#### Exercise - add_one_carry\n",
    "\n",
    "✪✪✪ Given a non-empty array of digits representing a non-negative integer, adds one to the integer.\n",
    "\n",
    "The digits are stored such that the most significant digit is at the head of the list, and each element in the array contain a single digit.\n",
    "\n",
    "You may assume the integer does not contain any leading zero, except the number 0 itself.\n",
    "\n",
    "For example: \n",
    "\n",
    "```python\n",
    ">>> add_one_carry([1,2,3])\n",
    "[1,2,4]\n",
    "\n",
    ">>> add_one_carry([3,6,9,9])\n",
    "[3,7,0,0]\n",
    "\n",
    ">>> add_one_carry([9,9,9,9])\n",
    "[1,0,0,0,0]\n",
    "```\n",
    "\n",
    "To implement it,  directly operate on the list, using a `carry` variable.\n",
    "\n",
    "Just follow addition as done in elementary school. Start from the last digit and sum one:\n",
    "\n",
    "If you get a number <= 9, that is the result of summing last two digits, and the rest is easy:\n",
    "\n",
    "```\n",
    "596+    carry=0\n",
    "001      \n",
    "----\n",
    "  7     6 + 1 + carry = 7\n",
    "```\n",
    "\n",
    "```\n",
    "596+    carry=0\n",
    "001     \n",
    "----\n",
    " 97     9 + 0 + carry = 9\n",
    "```\n",
    "\n",
    "```\n",
    "596+    carry=0\n",
    "001\n",
    "----\n",
    " 07     5 + 0 + carry = 5\n",
    "```\n",
    "\n",
    "If you get a number bigger than 9, then you put zero and set `carry` to one:\n",
    "\n",
    "\n",
    "```\n",
    "3599+    carry=0\n",
    "0001      \n",
    "-----\n",
    "   0     9 + 1 + carry = 10    # >9, will write zero and set carry to 1\n",
    "```\n",
    "\n",
    "\n",
    "```\n",
    "3599+    carry=1\n",
    "0001     \n",
    "---- \n",
    "  00     9 + 0 + carry = 10   # >9, will write zero and set carry to 1\n",
    "```\n",
    "\n",
    "```\n",
    "3599+    carry=1\n",
    "0001\n",
    "-----\n",
    " 600     5 + 0 + carry = 6    # <= 9, will write result and set carry to zero\n",
    "```\n",
    "\n",
    "```\n",
    "3599+    carry=0\n",
    "0001\n",
    "-----\n",
    "3600     3 + 0 + carry = 3    # <= 9, will write result and set carry to zero\n",
    "```"
   ]
  },
  {
   "cell_type": "raw",
   "id": "909054f1",
   "metadata": {
    "format": "text/html"
   },
   "source": [
    "<a  class=\"jupman-sol jupman-sol-toggler\" \n",
    " onclick=\"jupman.toggleSolution(this);\" \n",
    " data-jupman-show=\"Show solution\" data-jupman-hide=\"Hide\">Show solution</a><div class=\"jupman-sol jupman-sol-code\" style=\"display:none\">  "
   ]
  },
  {
   "cell_type": "code",
   "execution_count": 10,
   "id": "e960ea97",
   "metadata": {},
   "outputs": [],
   "source": [
    "def add_one_carry(lst):\n",
    "    \"\"\"\n",
    "        Takes a list of digits representing a >= 0 integer without trailing zeroes except zero itself\n",
    "        and RETURN a NEW a list representing the value of lst plus one.                \n",
    "    \"\"\"    \n",
    "    \n",
    "    ret = []\n",
    "    carry = 1\n",
    "    for digit in reversed(lst):\n",
    "        new_digit = digit + carry\n",
    "        if new_digit == 10:\n",
    "            ret.append(0)\n",
    "            carry = 1\n",
    "        else:\n",
    "            ret.append(new_digit)\n",
    "            carry = 0   \n",
    "    if carry == 1:\n",
    "        ret.append(carry)\n",
    "    ret.reverse()\n",
    "    return ret\n",
    "    \n",
    "    \n",
    "assert add_one_carry([0]) == [1]\n",
    "assert add_one_carry([1]) == [2]\n",
    "assert add_one_carry([2]) == [3]\n",
    "assert add_one_carry([9]) == [1, 0]\n",
    "assert add_one_carry([5,7]) == [5, 8]\n",
    "assert add_one_carry([5,9]) == [6, 0]\n",
    "assert add_one_carry([9,9]) == [1, 0, 0]"
   ]
  },
  {
   "cell_type": "raw",
   "id": "62bbc8ca",
   "metadata": {
    "format": "text/html"
   },
   "source": [
    "</div>"
   ]
  },
  {
   "cell_type": "code",
   "execution_count": 10,
   "id": "e960ea97-stripped",
   "metadata": {},
   "outputs": [],
   "source": [
    "def add_one_carry(lst):\n",
    "    \"\"\"\n",
    "        Takes a list of digits representing a >= 0 integer without trailing zeroes except zero itself\n",
    "        and RETURN a NEW a list representing the value of lst plus one.                \n",
    "    \"\"\"    \n",
    "    raise Exception('TODO IMPLEMENT ME !')\n",
    "    \n",
    "assert add_one_carry([0]) == [1]\n",
    "assert add_one_carry([1]) == [2]\n",
    "assert add_one_carry([2]) == [3]\n",
    "assert add_one_carry([9]) == [1, 0]\n",
    "assert add_one_carry([5,7]) == [5, 8]\n",
    "assert add_one_carry([5,9]) == [6, 0]\n",
    "assert add_one_carry([9,9]) == [1, 0, 0]"
   ]
  },
  {
   "cell_type": "markdown",
   "id": "20068822",
   "metadata": {},
   "source": [
    "### Exercise - collatz\n",
    "\n",
    "✪✪✪✪ The [Collatz conjecture](https://en.wikipedia.org/wiki/Collatz_conjecture) says that starting from any `n`, by performing these calculations recursively you obtain a sequence which finally ends up to `1`:\n",
    "\n",
    "- if `n` is even, divide `n` by `2` \n",
    "- if `n` is odd, multiply it by `3` and add `1` \n",
    "- Repeat until you reach the value of `1` \n",
    "\n",
    "Example: for `n = 3` , the sequence is `[3 , 10 , 5 , 16 , 8 , 4 , 2 , 1]` . \n",
    "\n",
    "Write a program that creates a list `seq` , such that for each value `n` between `1` and `50` , `seq [ n ]` contains the length of the sequence so generated. In case of `n = 3` , the length is `8` . In case of `n = 27` , the length is `111`.\n",
    "\n",
    "If you need to check your results, you can also try this [nice online tool](https://www.dcode.fr/collatz-conjecture)"
   ]
  },
  {
   "cell_type": "code",
   "execution_count": 11,
   "id": "d8f2edfe",
   "metadata": {},
   "outputs": [],
   "source": [
    "def collatz():\n",
    "    raise Exception(\"TODO IMPLEMENT ME!\")"
   ]
  },
  {
   "cell_type": "markdown",
   "id": "e8a4d1c5",
   "metadata": {},
   "source": [
    "## Continue\n",
    "\n",
    "Go on with exercises about [functions and tuples](https://en.softpython.org/functions/fun5-tuples-sol.html)"
   ]
  },
  {
   "cell_type": "code",
   "execution_count": null,
   "id": "5e73346b",
   "metadata": {},
   "outputs": [],
   "source": []
  }
 ],
 "metadata": {
  "kernelspec": {
   "display_name": "Python 3 (ipykernel)",
   "language": "python",
   "name": "python3"
  },
  "language_info": {
   "codemirror_mode": {
    "name": "ipython",
    "version": 3
   },
   "file_extension": ".py",
   "mimetype": "text/x-python",
   "name": "python",
   "nbconvert_exporter": "python",
   "pygments_lexer": "ipython3",
   "version": "3.7.10"
  },
  "toc": {
   "base_numbering": 1,
   "nav_menu": {},
   "number_sections": false,
   "sideBar": true,
   "skip_h1_title": false,
   "title_cell": "Table of Contents",
   "title_sidebar": "Contents",
   "toc_cell": false,
   "toc_position": {
    "height": "calc(100% - 180px)",
    "left": "10px",
    "top": "150px",
    "width": "280.2px"
   },
   "toc_section_display": true,
   "toc_window_display": true
  }
 },
 "nbformat": 4,
 "nbformat_minor": 5
}
