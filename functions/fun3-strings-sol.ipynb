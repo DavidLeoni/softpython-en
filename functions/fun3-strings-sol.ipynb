{
 "cells": [
  {
   "cell_type": "code",
   "execution_count": 1,
   "id": "790adb96",
   "metadata": {},
   "outputs": [],
   "source": [
    "# Remember to execute this cell with Control+Enter\n",
    "import jupman;"
   ]
  },
  {
   "cell_type": "markdown",
   "id": "d6ee8e71",
   "metadata": {},
   "source": [
    "# Functions 3 - exercises with strings\n",
    "\n",
    "## [Download exercises zip](../_static/generated/functions.zip)\n",
    "\n",
    "[Browse files online](https://github.com/DavidLeoni/softpython-en/tree/master/functions)"
   ]
  },
  {
   "cell_type": "markdown",
   "id": "d23c251f",
   "metadata": {},
   "source": [
    "## First functions"
   ]
  },
  {
   "cell_type": "markdown",
   "id": "a2323e3d",
   "metadata": {},
   "source": [
    "### length\n",
    "\n",
    "✪ a. Write a function `length1(s)` in which, given a string, RETURN the length of the string. Use `len` function. For example, with `\"ciao\"` string your function should return `4` while with `\"hi\"` it should return `2`\n",
    "\n",
    "```python\n",
    ">>> x = length1(\"ciao\")\n",
    ">>> x\n",
    "4\n",
    "```\n",
    "\n",
    "✪ b. Write a function `length2` that like before calculates the string length, this time without using `len` (instead, use a `for` cycle)\n",
    "\n",
    "```python\n",
    ">>> y = length2(\"mondo\")\n",
    ">>> y\n",
    "5\n",
    "```"
   ]
  },
  {
   "cell_type": "raw",
   "id": "0630534d",
   "metadata": {
    "format": "text/html"
   },
   "source": [
    "<a  class=\"jupman-sol jupman-sol-toggler\" \n",
    " onclick=\"jupman.toggleSolution(this);\" \n",
    " data-jupman-show=\"Show solution\" data-jupman-hide=\"Hide\">Show solution</a><div class=\"jupman-sol jupman-sol-code\" style=\"display:none\">  "
   ]
  },
  {
   "cell_type": "code",
   "execution_count": 2,
   "id": "ff77913d",
   "metadata": {},
   "outputs": [],
   "source": [
    "# write here\n",
    "\n",
    "# version with len, faster because python with a string always mantains in memory \n",
    "# the number of length immediately available\n",
    "\n",
    "def length1(s):\n",
    "    return len(s)\n",
    "\n",
    "# version with counter, slower\n",
    "def length2(s):\n",
    "    counter = 0\n",
    "    for character in s:\n",
    "        counter = counter + 1\n",
    "    return counter\n"
   ]
  },
  {
   "cell_type": "raw",
   "id": "64725af3",
   "metadata": {
    "format": "text/html"
   },
   "source": [
    "</div>"
   ]
  },
  {
   "cell_type": "code",
   "execution_count": 2,
   "id": "ff77913d-stripped",
   "metadata": {},
   "outputs": [],
   "source": [
    "# write here\n",
    "\n"
   ]
  },
  {
   "cell_type": "markdown",
   "id": "f1d12317",
   "metadata": {},
   "source": [
    "### contains\n",
    "\n",
    "✪ Write the function `contains(word, character)`, which RETURN  `True` is the string contains the given character, otherwise RETURN `False` \n",
    "    \n",
    "- Use `in` operator\n",
    "\n",
    "\n",
    "\n",
    "```python\n",
    ">>> x = contains('ciao', 'a')\n",
    ">>> x\n",
    "True\n",
    ">>> y = contains('ciao', 'z')\n",
    ">>> y\n",
    "False\n",
    "```"
   ]
  },
  {
   "cell_type": "raw",
   "id": "cc73b505",
   "metadata": {
    "format": "text/html"
   },
   "source": [
    "<a  class=\"jupman-sol jupman-sol-toggler\" \n",
    " onclick=\"jupman.toggleSolution(this);\" \n",
    " data-jupman-show=\"Show solution\" data-jupman-hide=\"Hide\">Show solution</a><div class=\"jupman-sol jupman-sol-code\" style=\"display:none\">  "
   ]
  },
  {
   "cell_type": "code",
   "execution_count": 3,
   "id": "0489481b",
   "metadata": {},
   "outputs": [],
   "source": [
    "# write here\n",
    "\n",
    "def contains(word, character):\n",
    "    return character in word\n"
   ]
  },
  {
   "cell_type": "raw",
   "id": "a3f67f0b",
   "metadata": {
    "format": "text/html"
   },
   "source": [
    "</div>"
   ]
  },
  {
   "cell_type": "code",
   "execution_count": 3,
   "id": "0489481b-stripped",
   "metadata": {},
   "outputs": [],
   "source": [
    "# write here\n",
    "\n"
   ]
  },
  {
   "cell_type": "markdown",
   "id": "2e55a567",
   "metadata": {},
   "source": [
    "### invertlet\n",
    "\n",
    "✪ Write the function `invertlet(first, second)` which takes in input two strings of length greater than 3, and RETURN a new string in which the words are concataned and separated by a space, the last two characters in the words are inverted. For example, if you pass in input `'twist'` and `'space'`, the function should RETURN `'twise spact'`\n",
    "\n",
    "- If the two strings are not of adequate length, the program PRINTS _error!_\n",
    "\n",
    "**NOTE 1**: PRINTing is different from RETURNing !!! Whatever gets printed is shown to the user but Python cannot reuse it for calculations.\n",
    "\n",
    "**NOTE 2**: if a function does not explicitly return anything, Python implicitly returns `None`. \n",
    "\n",
    "**NOTE 3: Resorting to prints on error conditions is actually bad practice**: this is an invitation to think about what happens when you print something and do not return anything. You can read a discussion about it in [Errors handling and testing page](https://en.softpython.org/functions/fun2-errors-and-testing-sol.html#Unforeseen-situations)\n",
    "\n",
    "\n",
    "```python\n",
    ">>> x = invertlet(\"twist\", \"space\")\n",
    ">>> x\n",
    "'twise spact'\n",
    ">>> x = invertlet(\"fear\", \"me\")\n",
    "'error!'\n",
    ">>> x\n",
    "None\n",
    ">>> x = invertlet(\"so\", \"bad\")\n",
    "'error!'\n",
    ">>> x\n",
    "None\n",
    "```"
   ]
  },
  {
   "cell_type": "raw",
   "id": "fc9ba893",
   "metadata": {
    "format": "text/html"
   },
   "source": [
    "<a  class=\"jupman-sol jupman-sol-toggler\" \n",
    " onclick=\"jupman.toggleSolution(this);\" \n",
    " data-jupman-show=\"Show solution\" data-jupman-hide=\"Hide\">Show solution</a><div class=\"jupman-sol jupman-sol-code\" style=\"display:none\">  "
   ]
  },
  {
   "cell_type": "code",
   "execution_count": 4,
   "id": "a3d38ee5",
   "metadata": {},
   "outputs": [
    {
     "name": "stdout",
     "output_type": "stream",
     "text": [
      "twise spact\n",
      "error!\n",
      "None\n",
      "error!\n",
      "None\n"
     ]
    }
   ],
   "source": [
    "\n",
    "# write here\n",
    "\n",
    "def invertlet(first,second):\n",
    "    if len(first) <= 3 or len(second) <=3:\n",
    "        print(\"error!\")\n",
    "    else:\n",
    "        return first[:-1] + second[-1] + \" \" + second[:-1] + first[-1]\n",
    "\n",
    "print(invertlet(\"twist\", \"space\"))\n",
    "print(invertlet(\"fear\", \"me\"))\n",
    "print(invertlet(\"so\", \"bad\"))"
   ]
  },
  {
   "cell_type": "raw",
   "id": "dfc71018",
   "metadata": {
    "format": "text/html"
   },
   "source": [
    "</div>"
   ]
  },
  {
   "cell_type": "code",
   "execution_count": 4,
   "id": "a3d38ee5-stripped",
   "metadata": {},
   "outputs": [],
   "source": [
    "\n",
    "# write here\n",
    "\n"
   ]
  },
  {
   "cell_type": "markdown",
   "id": "119bdf5c",
   "metadata": {},
   "source": [
    "### nspace\n",
    "\n",
    "✪ Write a function `nspace` that given a string `s` in input, RETURN a new string in which the `n`-character is a space. \n",
    "\n",
    "- if the number is too big, raise the exception `ValueError`  - in the exception message state clearly what the problem was and the input. \n",
    "\n",
    "**NOTE**: This time instead of printing the error we raise the exception, which will prevent the program from continuing further. This is a much better way to react to erroneous conditions.\n",
    "\n",
    "```python\n",
    ">>> x = nspace('allegory', 5)\n",
    ">>> x\n",
    "'alleg ry'\n",
    "\n",
    ">>> x = nspace('toy', 9)\n",
    "---------------------------------------------------------------------------\n",
    "ValueError                                Traceback (most recent call last)\n",
    "2610223641.py in <module>         \n",
    "---> 12 nspace(\"toy\", 9)\n",
    "ValueError: index 9 is larger than word toy\n",
    "\n",
    ">>> x = nspace('rack', 4)\n",
    "---------------------------------------------------------------------------\n",
    "ValueError                                Traceback (most recent call last)\n",
    "2610223641.py in <module>\n",
    "---> 12 nspace(\"rack\", 4)\n",
    "ValueError: index 4 is larger than word rack\n",
    "```"
   ]
  },
  {
   "cell_type": "raw",
   "id": "39f9ff4d",
   "metadata": {
    "format": "text/html"
   },
   "source": [
    "<a  class=\"jupman-sol jupman-sol-toggler\" \n",
    " onclick=\"jupman.toggleSolution(this);\" \n",
    " data-jupman-show=\"Show solution\" data-jupman-hide=\"Hide\">Show solution</a><div class=\"jupman-sol jupman-sol-code\" style=\"display:none\">  "
   ]
  },
  {
   "cell_type": "code",
   "execution_count": 5,
   "id": "12aedd18",
   "metadata": {},
   "outputs": [
    {
     "data": {
      "text/plain": [
       "'alleg ry'"
      ]
     },
     "execution_count": 5,
     "metadata": {},
     "output_type": "execute_result"
    }
   ],
   "source": [
    "\n",
    "\n",
    "# write here\n",
    "\n",
    "def nspace(word, index):\n",
    "    if index >= len(word):\n",
    "        raise ValueError(\"index %s is larger than word %s\" % (index, word))\n",
    "    return word[:index] + ' ' + word[index+1:]\n",
    "\n",
    "nspace(\"allegory\", 5)\n",
    "\n",
    "#nspace(\"toy\", 9)\n",
    "#nspace(\"rack\", 4)"
   ]
  },
  {
   "cell_type": "raw",
   "id": "783e6f2b",
   "metadata": {
    "format": "text/html"
   },
   "source": [
    "</div>"
   ]
  },
  {
   "cell_type": "code",
   "execution_count": 5,
   "id": "12aedd18-stripped",
   "metadata": {},
   "outputs": [],
   "source": [
    "\n",
    "\n",
    "# write here\n",
    "\n"
   ]
  },
  {
   "cell_type": "markdown",
   "id": "c28876d9",
   "metadata": {},
   "source": [
    "### startend\n",
    "\n",
    "✪ Write a function which takes a string `s` and RETURN the first and last two characters\n",
    "\n",
    "- if length is less than 4, raises `ValueError` - in the exception message state clearly what the problem was and the input\n",
    "\n",
    "\n",
    "```python\n",
    ">>> startend('robust pack')\n",
    "rock\n",
    "\n",
    ">>> startend('sig')\n",
    "---------------------------------------------------------------------------\n",
    "ValueError                                Traceback (most recent call last)\n",
    "230230193.py in <module>      \n",
    "----> 8 startend('sig')\n",
    "\n",
    "ValueError: I need at least 4 characters, got instead: sig\n",
    "```"
   ]
  },
  {
   "cell_type": "raw",
   "id": "c762217a",
   "metadata": {
    "format": "text/html"
   },
   "source": [
    "<a  class=\"jupman-sol jupman-sol-toggler\" \n",
    " onclick=\"jupman.toggleSolution(this);\" \n",
    " data-jupman-show=\"Show solution\" data-jupman-hide=\"Hide\">Show solution</a><div class=\"jupman-sol jupman-sol-code\" style=\"display:none\">  "
   ]
  },
  {
   "cell_type": "code",
   "execution_count": 6,
   "id": "da40f35b",
   "metadata": {},
   "outputs": [
    {
     "data": {
      "text/plain": [
       "'rock'"
      ]
     },
     "execution_count": 6,
     "metadata": {},
     "output_type": "execute_result"
    }
   ],
   "source": [
    "\n",
    "# write here\n",
    "\n",
    "def startend(s):\n",
    "    if len(s) < 4:\n",
    "        raise ValueError(\"I need at least 4 characters, got instead: %s\" % s)\n",
    "    return s[:2] + s[-2:]     \n",
    "\n",
    "startend('robust pack')\n",
    "#startend('sig')"
   ]
  },
  {
   "cell_type": "raw",
   "id": "94151e66",
   "metadata": {
    "format": "text/html"
   },
   "source": [
    "</div>"
   ]
  },
  {
   "cell_type": "code",
   "execution_count": 6,
   "id": "da40f35b-stripped",
   "metadata": {},
   "outputs": [],
   "source": [
    "\n",
    "# write here\n",
    "\n"
   ]
  },
  {
   "cell_type": "markdown",
   "id": "0d044f50",
   "metadata": {},
   "source": [
    "### swap\n",
    "\n",
    "Write a function that given a string, swaps the first and last character and RETURN the result.\n",
    "\n",
    "- if the string is empty, raise `ValueError` - in the exception message state clearly the cause of the problem \n",
    "\n",
    "```python\n",
    ">>> swap('dream')\n",
    "mread\n",
    ">>> swap('c')\n",
    "c\n",
    ">>> swap('')\n",
    "---------------------------------------------------------------------------\n",
    "ValueError                                Traceback (most recent call last)\n",
    "2089609385.py in <module>\n",
    "---> 11 swap('')\n",
    "ValueError: Empty string!\n",
    "```"
   ]
  },
  {
   "cell_type": "raw",
   "id": "bfd7ca11",
   "metadata": {
    "format": "text/html"
   },
   "source": [
    "<a  class=\"jupman-sol jupman-sol-toggler\" \n",
    " onclick=\"jupman.toggleSolution(this);\" \n",
    " data-jupman-show=\"Show solution\" data-jupman-hide=\"Hide\">Show solution</a><div class=\"jupman-sol jupman-sol-code\" style=\"display:none\">  "
   ]
  },
  {
   "cell_type": "code",
   "execution_count": 7,
   "id": "d3a0823e",
   "metadata": {},
   "outputs": [
    {
     "name": "stdout",
     "output_type": "stream",
     "text": [
      "mread\n",
      "cc\n"
     ]
    }
   ],
   "source": [
    "\n",
    "# write here\n",
    "\n",
    "def swap(s):\n",
    "    if s == '':\n",
    "        raise ValueError(\"Empty string!\")\n",
    "    return s[-1] + s[1:-1] + s[0]\n",
    "\n",
    "print(swap('dream'))\n",
    "print(swap('c'))\n",
    "#swap('')"
   ]
  },
  {
   "cell_type": "raw",
   "id": "532a8615",
   "metadata": {
    "format": "text/html"
   },
   "source": [
    "</div>"
   ]
  },
  {
   "cell_type": "code",
   "execution_count": 7,
   "id": "d3a0823e-stripped",
   "metadata": {},
   "outputs": [],
   "source": [
    "\n",
    "# write here\n",
    "\n"
   ]
  },
  {
   "cell_type": "markdown",
   "id": "f9e1ab7e",
   "metadata": {},
   "source": [
    "## Verify comprehension\n",
    "\n",
    "\n",
    "<div class=\"alert alert-warning\">\n",
    "\n",
    "**ATTENTION**\n",
    "\n",
    "The following exercises contain tests with asserts. To understand how to solve them, read first [Error handling and testing](https://en.softpython.org/functions/fun2-errors-and-testing-sol.html)    \n",
    "</div>\n",
    "\n",
    "</div>"
   ]
  },
  {
   "cell_type": "markdown",
   "id": "ba4eadf6",
   "metadata": {},
   "source": [
    "### has_char\n",
    "\n",
    "✪ RETURN `True` if `word` contains `char`, `False` otherwise\n",
    "        \n",
    "- **USE** a `while` cycle \n",
    "- **DON'T** use `in` operator nor methods such as `.count`  (too easy!)"
   ]
  },
  {
   "cell_type": "raw",
   "id": "d72897f1",
   "metadata": {
    "format": "text/html"
   },
   "source": [
    "<a  class=\"jupman-sol jupman-sol-toggler\" \n",
    " onclick=\"jupman.toggleSolution(this);\" \n",
    " data-jupman-show=\"Show solution\" data-jupman-hide=\"Hide\">Show solution</a><div class=\"jupman-sol jupman-sol-code\" style=\"display:none\">  "
   ]
  },
  {
   "cell_type": "code",
   "execution_count": 8,
   "id": "ae1c889c",
   "metadata": {},
   "outputs": [],
   "source": [
    "def has_char(word, char):\n",
    "    \n",
    "    index = 0     # initialize index\n",
    "    while index < len(word):\n",
    "        if word[index] == char:\n",
    "            return True   # we found the character, we can stop search\n",
    "        index += 1   # it is like writing index = index + 1\n",
    "    # if we arrive AFTER the while, there is only one reason:\n",
    "    # we found nothing, so we have to return False\n",
    "    return False\n",
    "    \n",
    "\n",
    "\n",
    "# TEST START - DO NOT TOUCH!      \n",
    "# if you wrote the whole code correct, and execute the cell, Python shouldn't raise `AssertionError`\n",
    "\n",
    "assert has_char(\"ciao\", 'a')\n",
    "assert not has_char(\"ciao\", 'A')\n",
    "assert has_char(\"ciao\", 'c') \n",
    "assert not has_char(\"\", 'a')\n",
    "assert not has_char(\"ciao\", 'z')\n",
    "\n",
    "# TEST END"
   ]
  },
  {
   "cell_type": "raw",
   "id": "77e71114",
   "metadata": {
    "format": "text/html"
   },
   "source": [
    "</div>"
   ]
  },
  {
   "cell_type": "code",
   "execution_count": 8,
   "id": "ae1c889c-stripped",
   "metadata": {},
   "outputs": [],
   "source": [
    "def has_char(word, char):\n",
    "    raise Exception('TODO IMPLEMENT ME !')\n",
    "\n",
    "\n",
    "# TEST START - DO NOT TOUCH!      \n",
    "# if you wrote the whole code correct, and execute the cell, Python shouldn't raise `AssertionError`\n",
    "\n",
    "assert has_char(\"ciao\", 'a')\n",
    "assert not has_char(\"ciao\", 'A')\n",
    "assert has_char(\"ciao\", 'c') \n",
    "assert not has_char(\"\", 'a')\n",
    "assert not has_char(\"ciao\", 'z')\n",
    "\n",
    "# TEST END"
   ]
  },
  {
   "cell_type": "markdown",
   "id": "0082c27a",
   "metadata": {},
   "source": [
    "### count\n",
    "\n",
    "✪ RETURN the number of occurrences of `char` in `word`\n",
    "\n",
    "- **USE** a `for in` cycle\n",
    "- **DON'T** use `count` method (too easy!)\n",
    "- **DON'T** PRINT, IT MUST *RETURN* THE VALUE !"
   ]
  },
  {
   "cell_type": "raw",
   "id": "80b20dee",
   "metadata": {
    "format": "text/html"
   },
   "source": [
    "<a  class=\"jupman-sol jupman-sol-toggler\" \n",
    " onclick=\"jupman.toggleSolution(this);\" \n",
    " data-jupman-show=\"Show solution\" data-jupman-hide=\"Hide\">Show solution</a><div class=\"jupman-sol jupman-sol-code\" style=\"display:none\">  "
   ]
  },
  {
   "cell_type": "code",
   "execution_count": 9,
   "id": "076ba0ef",
   "metadata": {},
   "outputs": [],
   "source": [
    "\n",
    "def count(word, char):\n",
    "    \n",
    "    occurrences = 0\n",
    "    for c in word:\n",
    "        #print(\"current character = \", char)    # debugging prints are allowed\n",
    "        if c == char:\n",
    "            #print(\"found occurrence !\")    # debugging prints are allowed\n",
    "            occurrences += 1\n",
    "    return occurrences     # THE IMPORTANT IS TO _RETURN_ THE VALUE AS THE EXERCISE TEXT REQUIRES !!\n",
    "    \n",
    "    \n",
    "# TEST START - DO NOT TOUCH!      \n",
    "# if you wrote the whole code correct, and execute the cell, Python shouldn't raise `AssertionError`\n",
    "\n",
    "assert count(\"ciao\", \"z\") == 0 \n",
    "assert count(\"ciao\", \"c\") == 1\n",
    "assert count(\"babbo\", \"b\") == 3\n",
    "assert count(\"\", \"b\") == 0\n",
    "assert count(\"ciao\", \"C\") == 0 \n",
    "# TEST END"
   ]
  },
  {
   "cell_type": "raw",
   "id": "0aba3377",
   "metadata": {
    "format": "text/html"
   },
   "source": [
    "</div>"
   ]
  },
  {
   "cell_type": "code",
   "execution_count": 9,
   "id": "076ba0ef-stripped",
   "metadata": {},
   "outputs": [],
   "source": [
    "\n",
    "def count(word, char):\n",
    "    raise Exception('TODO IMPLEMENT ME !')\n",
    "    \n",
    "# TEST START - DO NOT TOUCH!      \n",
    "# if you wrote the whole code correct, and execute the cell, Python shouldn't raise `AssertionError`\n",
    "\n",
    "assert count(\"ciao\", \"z\") == 0 \n",
    "assert count(\"ciao\", \"c\") == 1\n",
    "assert count(\"babbo\", \"b\") == 3\n",
    "assert count(\"\", \"b\") == 0\n",
    "assert count(\"ciao\", \"C\") == 0 \n",
    "# TEST END"
   ]
  },
  {
   "cell_type": "markdown",
   "id": "57b9443a",
   "metadata": {},
   "source": [
    "### has_lower\n",
    "\n",
    "✪ RITORNA `True` if the word contains _at least_ one lowercase character, otherwise return `False`\n",
    "\n",
    "* **USE** a `while` cycle"
   ]
  },
  {
   "cell_type": "raw",
   "id": "05a4611e",
   "metadata": {
    "format": "text/html"
   },
   "source": [
    "<a  class=\"jupman-sol jupman-sol-toggler\" \n",
    " onclick=\"jupman.toggleSolution(this);\" \n",
    " data-jupman-show=\"Show solution\" data-jupman-hide=\"Hide\">Show solution</a><div class=\"jupman-sol jupman-sol-code\" style=\"display:none\">  "
   ]
  },
  {
   "cell_type": "code",
   "execution_count": 10,
   "id": "08ffc476",
   "metadata": {},
   "outputs": [],
   "source": [
    "\n",
    "def has_lower(s):\n",
    "    \n",
    "    i = 0\n",
    "    while i < len(s):\n",
    "        if s[i] == s[i].lower():\n",
    "            return True\n",
    "        i += 1\n",
    "    return False\n",
    "    \n",
    "    \n",
    "\n",
    "# TEST START - DO NOT TOUCH!      \n",
    "# if you wrote the whole code correct, and execute the cell, Python shouldn't raise `AssertionError`\n",
    "\n",
    "assert has_lower(\"David\")  \n",
    "assert has_lower(\"daviD\")\n",
    "assert not has_lower(\"DAVID\")\n",
    "assert not has_lower(\"\")\n",
    "assert has_lower(\"a\")\n",
    "assert not has_lower(\"A\")"
   ]
  },
  {
   "cell_type": "raw",
   "id": "bae7e5c7",
   "metadata": {
    "format": "text/html"
   },
   "source": [
    "</div>"
   ]
  },
  {
   "cell_type": "code",
   "execution_count": 10,
   "id": "08ffc476-stripped",
   "metadata": {},
   "outputs": [],
   "source": [
    "\n",
    "def has_lower(s):\n",
    "    raise Exception('TODO IMPLEMENT ME !')\n",
    "    \n",
    "\n",
    "# TEST START - DO NOT TOUCH!      \n",
    "# if you wrote the whole code correct, and execute the cell, Python shouldn't raise `AssertionError`\n",
    "\n",
    "assert has_lower(\"David\")  \n",
    "assert has_lower(\"daviD\")\n",
    "assert not has_lower(\"DAVID\")\n",
    "assert not has_lower(\"\")\n",
    "assert has_lower(\"a\")\n",
    "assert not has_lower(\"A\")"
   ]
  },
  {
   "cell_type": "markdown",
   "id": "f4c03450",
   "metadata": {},
   "source": [
    "### dialect\n",
    "\n",
    "✪✪ There exist a dialect in which all the `\"a\"` must be always preceded by a `\"g\"`. In case a word contains an `\"a\"` _not_ preceded by a `\"g\"`, we can say with certainty that this word _does not_ belong to the dialect. Write a function that given a word, RETURN `True` if the word respects the rules of the dialect, `False` otherwise.\n",
    "\n",
    "```python\n",
    ">>> dialect(\"ammot\")\n",
    "False\n",
    ">>> print(dialect(\"paganog\")\n",
    "False\n",
    ">>> print(dialect(\"pgaganog\")\n",
    "True\n",
    ">>> print(dialect(\"ciao\")\n",
    "False\n",
    ">>> dialect(\"cigao\")\n",
    "True\n",
    ">>> dialect(\"zogava\")\n",
    "False\n",
    ">>> dialect(\"zogavga\")\n",
    "True\n",
    "```"
   ]
  },
  {
   "cell_type": "raw",
   "id": "21e82659",
   "metadata": {
    "format": "text/html"
   },
   "source": [
    "<a  class=\"jupman-sol jupman-sol-toggler\" \n",
    " onclick=\"jupman.toggleSolution(this);\" \n",
    " data-jupman-show=\"Show solution\" data-jupman-hide=\"Hide\">Show solution</a><div class=\"jupman-sol jupman-sol-code\" style=\"display:none\">  "
   ]
  },
  {
   "cell_type": "code",
   "execution_count": 11,
   "id": "47acfeb1",
   "metadata": {},
   "outputs": [],
   "source": [
    "\n",
    "\n",
    "def dialect(word):\n",
    "    \n",
    "    n = 0\n",
    "    for i in range(0,len(word)):\n",
    "        if word[i] == \"a\":\n",
    "            if i == 0 or word[i - 1] != \"g\":\n",
    "                return False\n",
    "    return True\n",
    "    \n",
    "\n",
    "# TEST START - DO NOT TOUCH!      \n",
    "# if you wrote the whole code correct, and execute the cell, Python shouldn't raise `AssertionError`\n",
    "    \n",
    "assert dialect(\"a\") == False\n",
    "assert dialect(\"ab\") == False\n",
    "assert dialect(\"ag\") == False\n",
    "assert dialect(\"ag\") == False\n",
    "assert dialect(\"ga\") == True\n",
    "assert dialect(\"gga\") == True\n",
    "assert dialect(\"gag\") == True\n",
    "assert dialect(\"gaa\") == False\n",
    "assert dialect(\"gaga\") == True\n",
    "assert dialect(\"gabga\") == True\n",
    "assert dialect(\"gabgac\") == True\n",
    "assert dialect(\"gabbgac\") == True\n",
    "assert dialect(\"gabbgagag\") == True\n",
    "# TEST END"
   ]
  },
  {
   "cell_type": "raw",
   "id": "22f9ddb3",
   "metadata": {
    "format": "text/html"
   },
   "source": [
    "</div>"
   ]
  },
  {
   "cell_type": "code",
   "execution_count": 11,
   "id": "47acfeb1-stripped",
   "metadata": {},
   "outputs": [],
   "source": [
    "\n",
    "\n",
    "def dialect(word):\n",
    "    raise Exception('TODO IMPLEMENT ME !')\n",
    "\n",
    "# TEST START - DO NOT TOUCH!      \n",
    "# if you wrote the whole code correct, and execute the cell, Python shouldn't raise `AssertionError`\n",
    "    \n",
    "assert dialect(\"a\") == False\n",
    "assert dialect(\"ab\") == False\n",
    "assert dialect(\"ag\") == False\n",
    "assert dialect(\"ag\") == False\n",
    "assert dialect(\"ga\") == True\n",
    "assert dialect(\"gga\") == True\n",
    "assert dialect(\"gag\") == True\n",
    "assert dialect(\"gaa\") == False\n",
    "assert dialect(\"gaga\") == True\n",
    "assert dialect(\"gabga\") == True\n",
    "assert dialect(\"gabgac\") == True\n",
    "assert dialect(\"gabbgac\") == True\n",
    "assert dialect(\"gabbgagag\") == True\n",
    "# TEST END"
   ]
  },
  {
   "cell_type": "markdown",
   "id": "e51592b0",
   "metadata": {},
   "source": [
    "### countvoc\n",
    "\n",
    "✪✪  Given a string, write a function that counts the number of vocals.\n",
    "If the vocals number is even, RETURN the number of vocals, otherwise raises exception `ValueError`\n",
    "\t\n",
    "```python        \n",
    ">>> countvoc(\"arco\")        \n",
    "2\n",
    ">>> count_voc(\"ciao\")\n",
    "---------------------------------------------------------------------------\n",
    "ValueError                                Traceback (most recent call last)\n",
    "<ipython-input-15-058310342431> in <module>()\n",
    "     16 countvoc(\"arco\")\n",
    "---> 19 countvoc(\"ciao\")\n",
    "\n",
    "ValueError: Odd vocals !\n",
    "```"
   ]
  },
  {
   "cell_type": "raw",
   "id": "9df4ac41",
   "metadata": {
    "format": "text/html"
   },
   "source": [
    "<a  class=\"jupman-sol jupman-sol-toggler\" \n",
    " onclick=\"jupman.toggleSolution(this);\" \n",
    " data-jupman-show=\"Show solution\" data-jupman-hide=\"Hide\">Show solution</a><div class=\"jupman-sol jupman-sol-code\" style=\"display:none\">  "
   ]
  },
  {
   "cell_type": "code",
   "execution_count": 12,
   "id": "a418e854",
   "metadata": {},
   "outputs": [],
   "source": [
    "\n",
    "def countvoc(word):\n",
    "    \n",
    "    n_vocals = 0\n",
    "\n",
    "    vocals = [\"a\",\"e\",\"i\",\"o\",\"u\"]\n",
    "\n",
    "    for char in word:\n",
    "        if char.lower() in vocals:\n",
    "            n_vocals = n_vocals + 1\n",
    "\n",
    "    if n_vocals % 2 == 0:\n",
    "        return n_vocals\n",
    "    else:\n",
    "        raise ValueError(\"Odd vocals !\")\n",
    "    \n",
    "        \n",
    "# TEST START - DO NOT TOUCH!      \n",
    "# if you wrote the whole code correct, and execute the cell, Python shouldn't raise `AssertionError`\n",
    "        \n",
    "assert countvoc(\"arco\") == 2\n",
    "assert countvoc(\"scaturire\") == 4\n",
    "\n",
    "try:\n",
    "    countvoc(\"ciao\")    # with this string we expect it raises exception ValueError\n",
    "    raise Exception(\"I shouldn't arrive until here !\")\n",
    "except ValueError:      # if it raises the exception ValueError, it is behaving as expected and we do nothing\n",
    "    pass\n",
    "\n",
    "try:\n",
    "    countvoc(\"aiuola\")  # with this string we expect it raises exception ValueError\n",
    "    raise Exception(\"I shouldn't arrive until here  !\")\n",
    "except ValueError:      # if it raises the exception ValueError, it is behaving as expected and we do nothing\n",
    "    pass\n",
    "\n"
   ]
  },
  {
   "cell_type": "raw",
   "id": "091b1bf3",
   "metadata": {
    "format": "text/html"
   },
   "source": [
    "</div>"
   ]
  },
  {
   "cell_type": "code",
   "execution_count": 12,
   "id": "a418e854-stripped",
   "metadata": {},
   "outputs": [],
   "source": [
    "\n",
    "def countvoc(word):\n",
    "    raise Exception('TODO IMPLEMENT ME !')\n",
    "        \n",
    "# TEST START - DO NOT TOUCH!      \n",
    "# if you wrote the whole code correct, and execute the cell, Python shouldn't raise `AssertionError`\n",
    "        \n",
    "assert countvoc(\"arco\") == 2\n",
    "assert countvoc(\"scaturire\") == 4\n",
    "\n",
    "try:\n",
    "    countvoc(\"ciao\")    # with this string we expect it raises exception ValueError\n",
    "    raise Exception(\"I shouldn't arrive until here !\")\n",
    "except ValueError:      # if it raises the exception ValueError, it is behaving as expected and we do nothing\n",
    "    pass\n",
    "\n",
    "try:\n",
    "    countvoc(\"aiuola\")  # with this string we expect it raises exception ValueError\n",
    "    raise Exception(\"I shouldn't arrive until here  !\")\n",
    "except ValueError:      # if it raises the exception ValueError, it is behaving as expected and we do nothing\n",
    "    pass\n",
    "\n"
   ]
  },
  {
   "cell_type": "markdown",
   "id": "104e20ff",
   "metadata": {},
   "source": [
    "### extract_email\n"
   ]
  },
  {
   "cell_type": "raw",
   "id": "aadd1dd8",
   "metadata": {
    "format": "text/html"
   },
   "source": [
    "<a  class=\"jupman-sol jupman-sol-toggler\" \n",
    " onclick=\"jupman.toggleSolution(this);\" \n",
    " data-jupman-show=\"Show solution\" data-jupman-hide=\"Hide\">Show solution</a><div class=\"jupman-sol jupman-sol-code\" style=\"display:none\">  "
   ]
  },
  {
   "cell_type": "code",
   "execution_count": 13,
   "id": "ac2abe34",
   "metadata": {},
   "outputs": [],
   "source": [
    "def extract_email(s):\n",
    "    \"\"\" Takes a string s formatted like \n",
    "    \n",
    "        \"lun 5 nov 2018, 02:09 John Doe <john.doe@some-website.com>\"\n",
    "        \n",
    "        and RETURN the email \"john.doe@some-website.com\"\n",
    "        \n",
    "        NOTE: the string MAY contain spaces before and after, but your function must be able to extract email anyway.\n",
    "        \n",
    "        If the string for some reason is found to be ill formatted, raises ValueError\n",
    "    \"\"\"\n",
    "    \n",
    "    stripped = s.strip()\n",
    "    i = stripped.find('<')\n",
    "    return stripped[i+1:len(stripped)-1]\n",
    "    \n",
    "\n",
    "assert extract_email(\"lun 5 nov 2018, 02:09 John Doe <john.doe@some-website.com>\") == \"john.doe@some-website.com\"\n",
    "assert extract_email(\"lun 5 nov 2018, 02:09 Foo Baz <mrfoo.baz@blabla.com>\") == \"mrfoo.baz@blabla.com\"\n",
    "assert extract_email(\" lun 5 nov 2018, 02:09 Foo Baz <mrfoo.baz@blabla.com>  \") == \"mrfoo.baz@blabla.com\"  # with spaces"
   ]
  },
  {
   "cell_type": "raw",
   "id": "d0ca1199",
   "metadata": {
    "format": "text/html"
   },
   "source": [
    "</div>"
   ]
  },
  {
   "cell_type": "code",
   "execution_count": 13,
   "id": "ac2abe34-stripped",
   "metadata": {},
   "outputs": [],
   "source": [
    "def extract_email(s):\n",
    "    \"\"\" Takes a string s formatted like \n",
    "    \n",
    "        \"lun 5 nov 2018, 02:09 John Doe <john.doe@some-website.com>\"\n",
    "        \n",
    "        and RETURN the email \"john.doe@some-website.com\"\n",
    "        \n",
    "        NOTE: the string MAY contain spaces before and after, but your function must be able to extract email anyway.\n",
    "        \n",
    "        If the string for some reason is found to be ill formatted, raises ValueError\n",
    "    \"\"\"\n",
    "    raise Exception('TODO IMPLEMENT ME !')\n",
    "\n",
    "assert extract_email(\"lun 5 nov 2018, 02:09 John Doe <john.doe@some-website.com>\") == \"john.doe@some-website.com\"\n",
    "assert extract_email(\"lun 5 nov 2018, 02:09 Foo Baz <mrfoo.baz@blabla.com>\") == \"mrfoo.baz@blabla.com\"\n",
    "assert extract_email(\" lun 5 nov 2018, 02:09 Foo Baz <mrfoo.baz@blabla.com>  \") == \"mrfoo.baz@blabla.com\"  # with spaces"
   ]
  },
  {
   "cell_type": "markdown",
   "id": "b3b0e993",
   "metadata": {},
   "source": [
    "### canon_phone\n",
    "\n",
    "✪ Implement a function that canonicalize canonicalize a phone number as a string. It must RETURN the canonical version of phone as a string. \n",
    "\n",
    "\n",
    "For us, a canonical phone number:\n",
    "\n",
    "- contains no spaces\n",
    "- contains no international prefix, so no `+39` nor `0039`: we assume all calls where placed from Italy (even if they have international prefix)\n",
    "\n",
    "\n",
    "For example, all of these are canonicalized to `\"0461123456\"`:\n",
    "\n",
    "```\n",
    "+39 0461 123456\n",
    "+390461123456\n",
    "0039 0461 123456\n",
    "00390461123456\n",
    "```\n",
    "\n",
    "These are canonicalized as the following:\n",
    "\n",
    "```\n",
    "328 123 4567        ->  3281234567\n",
    "0039 328 123 4567   ->  3281234567\n",
    "0039 3771 1234567   ->  37711234567\n",
    "```\n",
    "\n",
    "**REMEMBER: strings are immutable !!!!!**"
   ]
  },
  {
   "cell_type": "raw",
   "id": "8d7d7f30",
   "metadata": {
    "format": "text/html"
   },
   "source": [
    "<a  class=\"jupman-sol jupman-sol-toggler\" \n",
    " onclick=\"jupman.toggleSolution(this);\" \n",
    " data-jupman-show=\"Show solution\" data-jupman-hide=\"Hide\">Show solution</a><div class=\"jupman-sol jupman-sol-code\" style=\"display:none\">  "
   ]
  },
  {
   "cell_type": "code",
   "execution_count": 14,
   "id": "e0cbd994",
   "metadata": {},
   "outputs": [],
   "source": [
    "def phone_canon(phone):\n",
    "    \n",
    "    p = phone.replace(' ', '')\n",
    "    if p.startswith('0039'):\n",
    "        p = p[4:]\n",
    "    if p.startswith('+39'):\n",
    "        p = p[3:]\n",
    "    return p\n",
    "    \n",
    "\n",
    "assert phone_canon('+39 0461 123456') == '0461123456'\n",
    "assert phone_canon('+390461123456') == '0461123456'\n",
    "assert phone_canon('0039 0461 123456') == '0461123456'\n",
    "assert phone_canon('00390461123456') == '0461123456'\n",
    "assert phone_canon('003902123456') == '02123456'\n",
    "assert phone_canon('003902120039') == '02120039'\n",
    "assert phone_canon('0039021239') == '021239'\n"
   ]
  },
  {
   "cell_type": "raw",
   "id": "7cd07f53",
   "metadata": {
    "format": "text/html"
   },
   "source": [
    "</div>"
   ]
  },
  {
   "cell_type": "code",
   "execution_count": 14,
   "id": "e0cbd994-stripped",
   "metadata": {},
   "outputs": [],
   "source": [
    "def phone_canon(phone):\n",
    "    raise Exception('TODO IMPLEMENT ME !')\n",
    "\n",
    "assert phone_canon('+39 0461 123456') == '0461123456'\n",
    "assert phone_canon('+390461123456') == '0461123456'\n",
    "assert phone_canon('0039 0461 123456') == '0461123456'\n",
    "assert phone_canon('00390461123456') == '0461123456'\n",
    "assert phone_canon('003902123456') == '02123456'\n",
    "assert phone_canon('003902120039') == '02120039'\n",
    "assert phone_canon('0039021239') == '021239'\n"
   ]
  },
  {
   "cell_type": "markdown",
   "id": "f42cc537",
   "metadata": {},
   "source": [
    "### phone_prefix\n",
    "\n",
    "✪✪ We now want to extract the province prefix from phone numbers (see previous exercise) - the ones we consider as valid are in `province_prefixes` list.\n",
    "\n",
    "Note some numbers are from mobile operators and you can distinguish them by prefixes like `328` - the ones we consider are in `mobile_prefixes` list.\n",
    "\n",
    "Implement a function that RETURN the prefix of the phone as a string. Remember first to make it canonical !!        \n",
    "\n",
    "- If phone is mobile, RETURN string `'mobile'`. If it is not a phone nor a mobile, RETURN the string `'unrecognized'`\n",
    "\n",
    "- To determine if the phone is mobile or from province, use `province_prefixes` and `mobile_prefixes` lists.\n",
    "\n",
    "- DO USE THE PREVIOUSLY DEFINED FUNCTION `phone_canon(phone)`\n"
   ]
  },
  {
   "cell_type": "raw",
   "id": "4dd61e4f",
   "metadata": {
    "format": "text/html"
   },
   "source": [
    "<a  class=\"jupman-sol jupman-sol-toggler\" \n",
    " onclick=\"jupman.toggleSolution(this);\" \n",
    " data-jupman-show=\"Show solution\" data-jupman-hide=\"Hide\">Show solution</a><div class=\"jupman-sol jupman-sol-code\" style=\"display:none\">  "
   ]
  },
  {
   "cell_type": "code",
   "execution_count": 15,
   "id": "aaa995a1",
   "metadata": {},
   "outputs": [],
   "source": [
    "province_prefixes = ['0461', '02', '011']\n",
    "mobile_prefixes = ['330', '340', '328', '390', '3771']\n",
    "\n",
    "\n",
    "def phone_prefix(phone):\n",
    "    \n",
    "    c = phone_canon(phone)\n",
    "    for m in mobile_prefixes:\n",
    "        if c.startswith(m):\n",
    "            return 'mobile'\n",
    "    for p in province_prefixes:\n",
    "        if c.startswith(p):\n",
    "            return p\n",
    "    return 'unrecognized'\n",
    "    \n",
    "\n",
    "assert phone_prefix('0461123') == '0461'\n",
    "assert phone_prefix('+39 0461  4321') == '0461'\n",
    "assert phone_prefix('0039011 432434') == '011'\n",
    "assert phone_prefix('328 432434') == 'mobile'\n",
    "assert phone_prefix('+39340 432434') == 'mobile'\n",
    "assert phone_prefix('00666011 432434') == 'unrecognized'\n",
    "assert phone_prefix('12345') == 'unrecognized'\n",
    "assert phone_prefix('+39 123 12345') == 'unrecognized'\n"
   ]
  },
  {
   "cell_type": "raw",
   "id": "544b709a",
   "metadata": {
    "format": "text/html"
   },
   "source": [
    "</div>"
   ]
  },
  {
   "cell_type": "code",
   "execution_count": 15,
   "id": "aaa995a1-stripped",
   "metadata": {},
   "outputs": [],
   "source": [
    "province_prefixes = ['0461', '02', '011']\n",
    "mobile_prefixes = ['330', '340', '328', '390', '3771']\n",
    "\n",
    "\n",
    "def phone_prefix(phone):\n",
    "    raise Exception('TODO IMPLEMENT ME !')\n",
    "\n",
    "assert phone_prefix('0461123') == '0461'\n",
    "assert phone_prefix('+39 0461  4321') == '0461'\n",
    "assert phone_prefix('0039011 432434') == '011'\n",
    "assert phone_prefix('328 432434') == 'mobile'\n",
    "assert phone_prefix('+39340 432434') == 'mobile'\n",
    "assert phone_prefix('00666011 432434') == 'unrecognized'\n",
    "assert phone_prefix('12345') == 'unrecognized'\n",
    "assert phone_prefix('+39 123 12345') == 'unrecognized'\n"
   ]
  },
  {
   "cell_type": "markdown",
   "id": "2aad4594",
   "metadata": {},
   "source": [
    "### palindrome\n",
    "\n",
    "✪✪✪ A word is palindrome if it exactly the same when you read it in reverse\n",
    "\n",
    "Write a function the RETURN `True` if the given word is palindrome, `False` otherwise\n",
    "\n",
    "* assume that the empty string is palindrome\n",
    "\n",
    "Example:\n",
    "\n",
    "```python\n",
    ">>> x = palindrome('radar')\n",
    ">>> x\n",
    "True\n",
    ">>> x = palindrome('abstruse')\n",
    ">>> x\n",
    "False\n",
    "\n",
    "```\n",
    "\n",
    "There are various ways to solve this problems, some actually easy & elegant. Try to find at least a couple of them (don't need to bang your head with the recursive one ..)."
   ]
  },
  {
   "cell_type": "raw",
   "id": "76061df0",
   "metadata": {
    "format": "text/html"
   },
   "source": [
    "<a  class=\"jupman-sol jupman-sol-toggler\" \n",
    " onclick=\"jupman.toggleSolution(this);\" \n",
    " data-jupman-show=\"Show solution\" data-jupman-hide=\"Hide\">Show solution</a><div class=\"jupman-sol jupman-sol-code\" style=\"display:none\">  "
   ]
  },
  {
   "cell_type": "code",
   "execution_count": 16,
   "id": "3d4d0a93",
   "metadata": {},
   "outputs": [],
   "source": [
    "\n",
    "def palindrome(word):\n",
    "    \n",
    "    for i in range(len(word) // 2):\n",
    "        if word[i] != word[len(word)- i - 1]: \n",
    "            return False\n",
    "                  \n",
    "    return True   # note it is OUTSIDE for: after passing all controls,\n",
    "                  # we can conclude that the word it is actually palindrome\n",
    "    \n",
    "    \n",
    "# TEST START - DO NOT TOUCH!      \n",
    "# if you wrote the whole code correct, and execute the cell, Python shouldn't raise `AssertionError`\n",
    "\n",
    "assert palindrome('') == True    # we assume the empty string is palindrome\n",
    "assert palindrome('a') == True\n",
    "assert palindrome('aa') == True\n",
    "assert palindrome('ab') == False\n",
    "assert palindrome('aba') == True\n",
    "assert palindrome('bab') == True\n",
    "assert palindrome('bba') == False\n",
    "assert palindrome('abb') == False\n",
    "assert palindrome('abba') == True\n",
    "assert palindrome('baab') == True\n",
    "assert palindrome('abbb') == False\n",
    "assert palindrome('bbba') == False\n",
    "assert palindrome('radar') == True\n",
    "assert palindrome('abstruse') == False"
   ]
  },
  {
   "cell_type": "raw",
   "id": "f3d35f17",
   "metadata": {
    "format": "text/html"
   },
   "source": [
    "</div>"
   ]
  },
  {
   "cell_type": "code",
   "execution_count": 16,
   "id": "3d4d0a93-stripped",
   "metadata": {},
   "outputs": [],
   "source": [
    "\n",
    "def palindrome(word):\n",
    "    raise Exception('TODO IMPLEMENT ME !')\n",
    "    \n",
    "# TEST START - DO NOT TOUCH!      \n",
    "# if you wrote the whole code correct, and execute the cell, Python shouldn't raise `AssertionError`\n",
    "\n",
    "assert palindrome('') == True    # we assume the empty string is palindrome\n",
    "assert palindrome('a') == True\n",
    "assert palindrome('aa') == True\n",
    "assert palindrome('ab') == False\n",
    "assert palindrome('aba') == True\n",
    "assert palindrome('bab') == True\n",
    "assert palindrome('bba') == False\n",
    "assert palindrome('abb') == False\n",
    "assert palindrome('abba') == True\n",
    "assert palindrome('baab') == True\n",
    "assert palindrome('abbb') == False\n",
    "assert palindrome('bbba') == False\n",
    "assert palindrome('radar') == True\n",
    "assert palindrome('abstruse') == False"
   ]
  },
  {
   "cell_type": "markdown",
   "id": "e8a4d1c5",
   "metadata": {},
   "source": [
    "## Continue\n",
    "\n",
    "Go on with exercises about [functions and lists](https://en.softpython.org/functions/fun4-lists-sol.html)"
   ]
  }
 ],
 "metadata": {
  "kernelspec": {
   "display_name": "Python 3 (ipykernel)",
   "language": "python",
   "name": "python3"
  },
  "language_info": {
   "codemirror_mode": {
    "name": "ipython",
    "version": 3
   },
   "file_extension": ".py",
   "mimetype": "text/x-python",
   "name": "python",
   "nbconvert_exporter": "python",
   "pygments_lexer": "ipython3",
   "version": "3.7.10"
  },
  "toc": {
   "base_numbering": 1,
   "nav_menu": {},
   "number_sections": false,
   "sideBar": true,
   "skip_h1_title": false,
   "title_cell": "Table of Contents",
   "title_sidebar": "Contents",
   "toc_cell": false,
   "toc_position": {
    "height": "calc(100% - 180px)",
    "left": "10px",
    "top": "150px",
    "width": "280.2px"
   },
   "toc_section_display": true,
   "toc_window_display": true
  }
 },
 "nbformat": 4,
 "nbformat_minor": 5
}
