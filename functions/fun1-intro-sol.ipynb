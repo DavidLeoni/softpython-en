{
 "cells": [
  {
   "cell_type": "code",
   "execution_count": 1,
   "id": "76e141ce",
   "metadata": {
    "nbsphinx": "hidden"
   },
   "outputs": [],
   "source": [
    "# Remember to execute this cell with Control+Enter\n",
    "import jupman;"
   ]
  },
  {
   "cell_type": "markdown",
   "id": "5ee3ce7c",
   "metadata": {},
   "source": [
    "# Functions 1 - introduction\n",
    "\n",
    "## [Download exercises zip](../_static/generated/functions.zip)\n",
    "\n",
    "[Browse files online](https://github.com/DavidLeoni/softpython-en/tree/master/functions)"
   ]
  },
  {
   "cell_type": "markdown",
   "id": "da9c605c",
   "metadata": {},
   "source": [
    "\n",
    "## Introduction\n",
    "\n",
    "A function is some code which takes some parameters and uses them to produce or report some result.\n",
    "\n",
    "In this notebook we will see how to define functions to reuse code, and talk about variables scope.\n",
    "\n",
    "\n",
    "<div class=\"alert alert-warning\">\n",
    "\n",
    "**WARNING: this tutorial is not really complete**\n",
    "    \n",
    "For more info see:\n",
    "\n",
    "- [Andrea Passerini slides A04](http://disi.unitn.it/~passerini/teaching/2021-2022/sci-pro/slides/A04-functions.pdf)\n",
    "    \n",
    "</div>\n"
   ]
  },
  {
   "cell_type": "markdown",
   "id": "8a36ebc2",
   "metadata": {},
   "source": [
    "### What to do\n",
    "\n",
    "- unzip exercises in a folder, you should get something like this: \n",
    "\n",
    "```\n",
    "\n",
    " functions\n",
    "    fun1-intro.ipynb\n",
    "    fun1-intro-sol.ipynb   \n",
    "    fun2-errors-and-testing.ipynb\n",
    "    fun2-errors-and-testing-sol.ipynb\n",
    "    fun3-strings.ipynb\n",
    "    fun3-strings-sol.ipynb\n",
    "    fun4-lists.ipynb\n",
    "    fun4-lists-sol.ipynb\n",
    "    fun5-tuples.ipynb\n",
    "    fun5-tuples-sol.ipynb\n",
    "    fun6-sets.ipynb\n",
    "    fun6-sets-sol.ipynb\n",
    "    fun7-dictionaries.ipynb\n",
    "    fun7-dictionaries-sol.ipynb\n",
    "    fun8-chal.ipynb\n",
    "    jupman.py\n",
    "```\n",
    "\n",
    "<div class=\"alert alert-warning\">\n",
    "\n",
    "**WARNING**: to correctly visualize the notebook, it MUST be in an unzipped folder !\n",
    "</div>\n",
    "\n",
    "\n",
    "- open Jupyter Notebook from that folder. Two things should open, first a console and then browser. The browser should show a file list: navigate the list and open the notebook `functions/fun1-intro.ipynb`\n",
    "- Go on reading that notebook, and follow instuctions inside.\n",
    "\n",
    "Shortcut keys:\n",
    "\n",
    "- to execute Python code inside a Jupyter cell, press `Control + Enter`\n",
    "- to execute Python code inside a Jupyter cell AND select next cell, press `Shift + Enter`\n",
    "- to execute Python code inside a Jupyter cell AND a create a new cell aftwerwards, press `Alt + Enter`\n",
    "- If the notebooks look stuck, try to select `Kernel -> Restart`"
   ]
  },
  {
   "cell_type": "markdown",
   "id": "f1d8cb56",
   "metadata": {},
   "source": [
    "## Why functions?\n",
    "\n",
    "We may need functions for a lot of reasons, including: \n",
    "    \n",
    " 1. *Reduce code duplication*: put in functions parts of code that are needed several times in the whole program, so you don't need to repeat the same code over and over again;\n",
    "    \n",
    " 2. *Decompose a complex task*: make the code easier to write and understand by splitting the whole program in several easier functions;"
   ]
  },
  {
   "cell_type": "markdown",
   "id": "4892d481",
   "metadata": {},
   "source": [
    "## Function definition - questions\n",
    "\n",
    "For each of the following expressions, try guessing the result it produces (or if it gives error)    \n",
    "\n",
    "\n",
    "1.  ```python\n",
    "    def f():\n",
    "    print('car')\n",
    "    print(f())\n",
    "    ```\n",
    "1.  ```python\n",
    "    def f():\n",
    "        print('car')\n",
    "    print(f())\n",
    "    ```\n",
    "1.  ```python\n",
    "    def f():\n",
    "    return 3\n",
    "    print(f())\n",
    "    ```\n",
    "1.  ```python\n",
    "    def f():\n",
    "        return 3\n",
    "    print(f())\n",
    "    ```\n",
    "1.  ```python\n",
    "    def f()\n",
    "        return 3\n",
    "    print(f())\n",
    "    ```\n",
    "1.  ```python\n",
    "    def f():\n",
    "        return 3\n",
    "    print(f()f())\n",
    "    ```\n",
    "1.  ```python\n",
    "    def f():\n",
    "        return 3\n",
    "    print(f()*f())\n",
    "    ```\n",
    "1.  ```python\n",
    "    def f():\n",
    "        pass\n",
    "    print(f())\n",
    "    ```\n",
    "1.  ```python\n",
    "    def f(x):\n",
    "        return x\n",
    "    print( f() )\n",
    "    ```    \n",
    "1.  ```python\n",
    "    def f(x):\n",
    "        return x\n",
    "    print( f(5) )\n",
    "    ```\n",
    "1.  ```python\n",
    "    def f():\n",
    "        print('fire')        \n",
    "    x = f()\n",
    "    print(x)\n",
    "    ```\n",
    "1.  ```python\n",
    "    def f():\n",
    "        return(print('fire'))\n",
    "    print(f())\n",
    "    ```\n",
    "1.  ```python\n",
    "    def f(x):\n",
    "        return 'x'\n",
    "    print(f(5))\n",
    "    ```\n",
    "1.  ```python\n",
    "    def f(x):\n",
    "        return x\n",
    "    print(f(5))\n",
    "    ```\n",
    "1.  ```python\n",
    "    def etc():\n",
    "        print('etc...')\n",
    "        return etc()\n",
    "    etc()\n",
    "    ```\n",
    "1.  ```python\n",
    "    def gu():\n",
    "        print('GU')\n",
    "        ru()\n",
    "    def ru():\n",
    "        print('RU')\n",
    "        gu()        \n",
    "    gu()\n",
    "    ```    "
   ]
  },
  {
   "cell_type": "markdown",
   "id": "2c844606",
   "metadata": {},
   "source": [
    "## Different function kinds\n",
    "\n",
    "\n",
    "You can roughly find  5 different function kinds in the wild:\n",
    "\n",
    "\n",
    "1. PRODUCES _SIDE EFFECTS_: PRINTS / ASKS MANUAL INPUT / WRITES  by modifying the environment in some way - examples:  printing characters on the screen, asking interactively input from the user, writing into a file\n",
    "2. RETURNS a value, either as NEW memory region or  a pointer to an existing memory region\n",
    "3. MODIFIES the input\n",
    "4. MODIFIES the input and RETURNS it (allows for call _chaining_)\n",
    "5. MODIFIES the input and RETURNS something derived from it\n",
    "\n",
    "Let's try now to understand the differences with various examples."
   ]
  },
  {
   "cell_type": "markdown",
   "id": "cc7c8a35",
   "metadata": {},
   "source": [
    "### SIDE EFFECTS\n",
    "\n",
    "Only PRINTS / ASKS INTERACTIVE INPUT / WRITES INTO A FILE\n",
    "\n",
    "\n",
    "- DOES NOT modify the input!\n",
    "- DOES NOT return anything!\n",
    "\n",
    "Example:"
   ]
  },
  {
   "cell_type": "code",
   "execution_count": 2,
   "id": "2e2619cf",
   "metadata": {},
   "outputs": [
    {
     "name": "stdout",
     "output_type": "stream",
     "text": [
      "The first two elements are 8 5\n"
     ]
    },
    {
     "data": {
      "text/html": [
       "\n",
       "        <script src=\"../_static/js/pytutor-embed.bundle.min.js\" type=\"application/javascript\"></script>\n",
       "     \n",
       "        <script id=\"json-jm815d440c-a201-45a7-a517-cc2cf081a0ae\" type=\"application/json\" >\n",
       "            {\"code\": \" \\ndef printola(lst):\\n    \\\"\\\"\\\"PRINTS the first two elements of the given list\\n    \\\"\\\"\\\"    \\n    print('The first two elements are', lst[0], lst[1])\\n\\nla = [8,5,6,2]\\n\\nprintola(la)\", \"trace\": [{\"line\": 2, \"event\": \"step_line\", \"func_name\": \"<module>\", \"globals\": {}, \"ordered_globals\": [], \"stack_to_render\": [], \"heap\": {}, \"stdout\": \"\"}, {\"line\": 7, \"event\": \"step_line\", \"func_name\": \"<module>\", \"globals\": {\"printola\": [\"REF\", 1]}, \"ordered_globals\": [\"printola\"], \"stack_to_render\": [], \"heap\": {\"1\": [\"FUNCTION\", \"printola(lst)\", null]}, \"stdout\": \"\"}, {\"line\": 9, \"event\": \"step_line\", \"func_name\": \"<module>\", \"globals\": {\"printola\": [\"REF\", 1], \"la\": [\"REF\", 2]}, \"ordered_globals\": [\"printola\", \"la\"], \"stack_to_render\": [], \"heap\": {\"1\": [\"FUNCTION\", \"printola(lst)\", null], \"2\": [\"LIST\", 8, 5, 6, 2]}, \"stdout\": \"\"}, {\"line\": 2, \"event\": \"call\", \"func_name\": \"printola\", \"globals\": {\"printola\": [\"REF\", 1], \"la\": [\"REF\", 2]}, \"ordered_globals\": [\"printola\", \"la\"], \"stack_to_render\": [{\"func_name\": \"printola\", \"is_parent\": false, \"frame_id\": 1, \"parent_frame_id_list\": [], \"encoded_locals\": {\"lst\": [\"REF\", 2]}, \"ordered_varnames\": [\"lst\"], \"is_zombie\": false, \"is_highlighted\": true, \"unique_hash\": \"printola_f1\"}], \"heap\": {\"2\": [\"LIST\", 8, 5, 6, 2], \"1\": [\"FUNCTION\", \"printola(lst)\", null]}, \"stdout\": \"\"}, {\"line\": 5, \"event\": \"step_line\", \"func_name\": \"printola\", \"globals\": {\"printola\": [\"REF\", 1], \"la\": [\"REF\", 2]}, \"ordered_globals\": [\"printola\", \"la\"], \"stack_to_render\": [{\"func_name\": \"printola\", \"is_parent\": false, \"frame_id\": 1, \"parent_frame_id_list\": [], \"encoded_locals\": {\"lst\": [\"REF\", 2]}, \"ordered_varnames\": [\"lst\"], \"is_zombie\": false, \"is_highlighted\": true, \"unique_hash\": \"printola_f1\"}], \"heap\": {\"2\": [\"LIST\", 8, 5, 6, 2], \"1\": [\"FUNCTION\", \"printola(lst)\", null]}, \"stdout\": \"\"}, {\"line\": 5, \"event\": \"return\", \"func_name\": \"printola\", \"globals\": {\"printola\": [\"REF\", 1], \"la\": [\"REF\", 2]}, \"ordered_globals\": [\"printola\", \"la\"], \"stack_to_render\": [{\"func_name\": \"printola\", \"is_parent\": false, \"frame_id\": 1, \"parent_frame_id_list\": [], \"encoded_locals\": {\"lst\": [\"REF\", 2], \"__return__\": null}, \"ordered_varnames\": [\"lst\", \"__return__\"], \"is_zombie\": false, \"is_highlighted\": true, \"unique_hash\": \"printola_f1\"}], \"heap\": {\"2\": [\"LIST\", 8, 5, 6, 2], \"1\": [\"FUNCTION\", \"printola(lst)\", null]}, \"stdout\": \"The first two elements are 8 5\\n\"}, {\"line\": 9, \"event\": \"return\", \"func_name\": \"<module>\", \"globals\": {\"printola\": [\"REF\", 1], \"la\": [\"REF\", 2]}, \"ordered_globals\": [\"printola\", \"la\"], \"stack_to_render\": [], \"heap\": {\"1\": [\"FUNCTION\", \"printola(lst)\", null], \"2\": [\"LIST\", 8, 5, 6, 2]}, \"stdout\": \"The first two elements are 8 5\\n\"}]}\n",
       "        </script>\n",
       "        <div id=\"jm815d440c-a201-45a7-a517-cc2cf081a0ae\" class=\"pytutorVisualizer\"> </div>\n",
       " \n",
       "        <style>\n",
       "        .vizLayoutTd {\n",
       "            background-color: #fff !important;\n",
       "        }\n",
       "\n",
       "        #pyStdout {            \n",
       "            min-height:25px;\n",
       "        }\n",
       "\n",
       "        /* 'Edit this code' link, hiding because replaces browser tab !!!*/\n",
       "        #editCodeLinkDiv {\n",
       "            display:none;  \n",
       "        }\n",
       "        </style>   \n",
       "                            \n",
       "        <script>\n",
       "        (function(){\n",
       "\n",
       "            var trace = JSON.parse(document.getElementById('json-jm815d440c-a201-45a7-a517-cc2cf081a0ae').innerHTML);                                        \n",
       "            // NOTE 1: id without #\n",
       "            // NOTE 2 - maybe there are more predictable ways, but this will work anyway\n",
       "            //        - id should be number\n",
       "            visualizerIdOverride = Math.trunc(Math.random() * 100000000000)\n",
       "            addVisualizerToPage(trace, 'jm815d440c-a201-45a7-a517-cc2cf081a0ae',{'embeddedMode' : false,\n",
       "                                             'visualizerIdOverride':visualizerIdOverride})  \n",
       "            \n",
       "            \n",
       "            // set overflow for pytuts - need to do in python as css \n",
       "            // does not allow parent selection\n",
       "            var pytuts = $('.pytutorVisualizer')\n",
       "            pytuts.closest('div.output_html.rendered_html.output_result')\n",
       "                    .css('overflow-x', 'visible')\n",
       "        \n",
       "            //pytuts.closest('div.output_html.rendered_html.output_result')\n",
       "            //      .css('background-color','red')                \n",
       "            \n",
       "        })()\n",
       "        </script>\n",
       "                \n",
       "                "
      ],
      "text/plain": [
       "<IPython.core.display.HTML object>"
      ]
     },
     "execution_count": 2,
     "metadata": {},
     "output_type": "execute_result"
    }
   ],
   "source": [
    "def printola(lst):\n",
    "    \"\"\"PRINTS the first two elements of the given list\n",
    "    \"\"\"    \n",
    "    print('The first two elements are', lst[0], lst[1])\n",
    "\n",
    "la = [8,5,6,2]\n",
    "\n",
    "printola(la)\n",
    "jupman.pytut()"
   ]
  },
  {
   "cell_type": "markdown",
   "id": "d567f345",
   "metadata": {},
   "source": [
    "### RETURN\n",
    "\n",
    "RETURN some value, either as NEW memory region or a pointer to an existing memory region according to the function text\n",
    "\n",
    "- DOES NOT modify the input\n",
    "- DOES NOT print anything!\n",
    "\n",
    "Example: "
   ]
  },
  {
   "cell_type": "code",
   "execution_count": 3,
   "id": "a91fade3",
   "metadata": {},
   "outputs": [
    {
     "name": "stdout",
     "output_type": "stream",
     "text": [
      "la : [5, 2, 6, 3]\n",
      "res: [10, 4, 12, 6]\n"
     ]
    },
    {
     "data": {
      "text/html": [
       "\n",
       "        <script src=\"../_static/js/pytutor-embed.bundle.min.js\" type=\"application/javascript\"></script>\n",
       "     \n",
       "        <script id=\"json-jmbec8971b-3f58-4f68-9a17-a32121c3aaee\" type=\"application/json\" >\n",
       "            {\"code\": \" \\ndef returnola(lst):\\n    \\\"\\\"\\\"RETURN a NEW list having all the numbers doubled    \\n    \\\"\\\"\\\"    \\n    ret = []\\n    for el in lst:\\n        ret.append(el*2)\\n    return ret   \\n\\nla = [5,2,6,3]\\nres = returnola(la)\\nprint(\\\"la :\\\", la)\\nprint(\\\"res:\\\", res)\", \"trace\": [{\"line\": 2, \"event\": \"step_line\", \"func_name\": \"<module>\", \"globals\": {}, \"ordered_globals\": [], \"stack_to_render\": [], \"heap\": {}, \"stdout\": \"\"}, {\"line\": 10, \"event\": \"step_line\", \"func_name\": \"<module>\", \"globals\": {\"returnola\": [\"REF\", 1]}, \"ordered_globals\": [\"returnola\"], \"stack_to_render\": [], \"heap\": {\"1\": [\"FUNCTION\", \"returnola(lst)\", null]}, \"stdout\": \"\"}, {\"line\": 11, \"event\": \"step_line\", \"func_name\": \"<module>\", \"globals\": {\"returnola\": [\"REF\", 1], \"la\": [\"REF\", 2]}, \"ordered_globals\": [\"returnola\", \"la\"], \"stack_to_render\": [], \"heap\": {\"1\": [\"FUNCTION\", \"returnola(lst)\", null], \"2\": [\"LIST\", 5, 2, 6, 3]}, \"stdout\": \"\"}, {\"line\": 2, \"event\": \"call\", \"func_name\": \"returnola\", \"globals\": {\"returnola\": [\"REF\", 1], \"la\": [\"REF\", 2]}, \"ordered_globals\": [\"returnola\", \"la\"], \"stack_to_render\": [{\"func_name\": \"returnola\", \"is_parent\": false, \"frame_id\": 1, \"parent_frame_id_list\": [], \"encoded_locals\": {\"lst\": [\"REF\", 2]}, \"ordered_varnames\": [\"lst\"], \"is_zombie\": false, \"is_highlighted\": true, \"unique_hash\": \"returnola_f1\"}], \"heap\": {\"2\": [\"LIST\", 5, 2, 6, 3], \"1\": [\"FUNCTION\", \"returnola(lst)\", null]}, \"stdout\": \"\"}, {\"line\": 5, \"event\": \"step_line\", \"func_name\": \"returnola\", \"globals\": {\"returnola\": [\"REF\", 1], \"la\": [\"REF\", 2]}, \"ordered_globals\": [\"returnola\", \"la\"], \"stack_to_render\": [{\"func_name\": \"returnola\", \"is_parent\": false, \"frame_id\": 1, \"parent_frame_id_list\": [], \"encoded_locals\": {\"lst\": [\"REF\", 2]}, \"ordered_varnames\": [\"lst\"], \"is_zombie\": false, \"is_highlighted\": true, \"unique_hash\": \"returnola_f1\"}], \"heap\": {\"2\": [\"LIST\", 5, 2, 6, 3], \"1\": [\"FUNCTION\", \"returnola(lst)\", null]}, \"stdout\": \"\"}, {\"line\": 6, \"event\": \"step_line\", \"func_name\": \"returnola\", \"globals\": {\"returnola\": [\"REF\", 1], \"la\": [\"REF\", 2]}, \"ordered_globals\": [\"returnola\", \"la\"], \"stack_to_render\": [{\"func_name\": \"returnola\", \"is_parent\": false, \"frame_id\": 1, \"parent_frame_id_list\": [], \"encoded_locals\": {\"lst\": [\"REF\", 2], \"ret\": [\"REF\", 3]}, \"ordered_varnames\": [\"lst\", \"ret\"], \"is_zombie\": false, \"is_highlighted\": true, \"unique_hash\": \"returnola_f1\"}], \"heap\": {\"2\": [\"LIST\", 5, 2, 6, 3], \"3\": [\"LIST\"], \"1\": [\"FUNCTION\", \"returnola(lst)\", null]}, \"stdout\": \"\"}, {\"line\": 7, \"event\": \"step_line\", \"func_name\": \"returnola\", \"globals\": {\"returnola\": [\"REF\", 1], \"la\": [\"REF\", 2]}, \"ordered_globals\": [\"returnola\", \"la\"], \"stack_to_render\": [{\"func_name\": \"returnola\", \"is_parent\": false, \"frame_id\": 1, \"parent_frame_id_list\": [], \"encoded_locals\": {\"lst\": [\"REF\", 2], \"ret\": [\"REF\", 3], \"el\": 5}, \"ordered_varnames\": [\"lst\", \"ret\", \"el\"], \"is_zombie\": false, \"is_highlighted\": true, \"unique_hash\": \"returnola_f1\"}], \"heap\": {\"2\": [\"LIST\", 5, 2, 6, 3], \"3\": [\"LIST\"], \"1\": [\"FUNCTION\", \"returnola(lst)\", null]}, \"stdout\": \"\"}, {\"line\": 6, \"event\": \"step_line\", \"func_name\": \"returnola\", \"globals\": {\"returnola\": [\"REF\", 1], \"la\": [\"REF\", 2]}, \"ordered_globals\": [\"returnola\", \"la\"], \"stack_to_render\": [{\"func_name\": \"returnola\", \"is_parent\": false, \"frame_id\": 1, \"parent_frame_id_list\": [], \"encoded_locals\": {\"lst\": [\"REF\", 2], \"ret\": [\"REF\", 3], \"el\": 5}, \"ordered_varnames\": [\"lst\", \"ret\", \"el\"], \"is_zombie\": false, \"is_highlighted\": true, \"unique_hash\": \"returnola_f1\"}], \"heap\": {\"2\": [\"LIST\", 5, 2, 6, 3], \"3\": [\"LIST\", 10], \"1\": [\"FUNCTION\", \"returnola(lst)\", null]}, \"stdout\": \"\"}, {\"line\": 7, \"event\": \"step_line\", \"func_name\": \"returnola\", \"globals\": {\"returnola\": [\"REF\", 1], \"la\": [\"REF\", 2]}, \"ordered_globals\": [\"returnola\", \"la\"], \"stack_to_render\": [{\"func_name\": \"returnola\", \"is_parent\": false, \"frame_id\": 1, \"parent_frame_id_list\": [], \"encoded_locals\": {\"lst\": [\"REF\", 2], \"ret\": [\"REF\", 3], \"el\": 2}, \"ordered_varnames\": [\"lst\", \"ret\", \"el\"], \"is_zombie\": false, \"is_highlighted\": true, \"unique_hash\": \"returnola_f1\"}], \"heap\": {\"2\": [\"LIST\", 5, 2, 6, 3], \"3\": [\"LIST\", 10], \"1\": [\"FUNCTION\", \"returnola(lst)\", null]}, \"stdout\": \"\"}, {\"line\": 6, \"event\": \"step_line\", \"func_name\": \"returnola\", \"globals\": {\"returnola\": [\"REF\", 1], \"la\": [\"REF\", 2]}, \"ordered_globals\": [\"returnola\", \"la\"], \"stack_to_render\": [{\"func_name\": \"returnola\", \"is_parent\": false, \"frame_id\": 1, \"parent_frame_id_list\": [], \"encoded_locals\": {\"lst\": [\"REF\", 2], \"ret\": [\"REF\", 3], \"el\": 2}, \"ordered_varnames\": [\"lst\", \"ret\", \"el\"], \"is_zombie\": false, \"is_highlighted\": true, \"unique_hash\": \"returnola_f1\"}], \"heap\": {\"2\": [\"LIST\", 5, 2, 6, 3], \"3\": [\"LIST\", 10, 4], \"1\": [\"FUNCTION\", \"returnola(lst)\", null]}, \"stdout\": \"\"}, {\"line\": 7, \"event\": \"step_line\", \"func_name\": \"returnola\", \"globals\": {\"returnola\": [\"REF\", 1], \"la\": [\"REF\", 2]}, \"ordered_globals\": [\"returnola\", \"la\"], \"stack_to_render\": [{\"func_name\": \"returnola\", \"is_parent\": false, \"frame_id\": 1, \"parent_frame_id_list\": [], \"encoded_locals\": {\"lst\": [\"REF\", 2], \"ret\": [\"REF\", 3], \"el\": 6}, \"ordered_varnames\": [\"lst\", \"ret\", \"el\"], \"is_zombie\": false, \"is_highlighted\": true, \"unique_hash\": \"returnola_f1\"}], \"heap\": {\"2\": [\"LIST\", 5, 2, 6, 3], \"3\": [\"LIST\", 10, 4], \"1\": [\"FUNCTION\", \"returnola(lst)\", null]}, \"stdout\": \"\"}, {\"line\": 6, \"event\": \"step_line\", \"func_name\": \"returnola\", \"globals\": {\"returnola\": [\"REF\", 1], \"la\": [\"REF\", 2]}, \"ordered_globals\": [\"returnola\", \"la\"], \"stack_to_render\": [{\"func_name\": \"returnola\", \"is_parent\": false, \"frame_id\": 1, \"parent_frame_id_list\": [], \"encoded_locals\": {\"lst\": [\"REF\", 2], \"ret\": [\"REF\", 3], \"el\": 6}, \"ordered_varnames\": [\"lst\", \"ret\", \"el\"], \"is_zombie\": false, \"is_highlighted\": true, \"unique_hash\": \"returnola_f1\"}], \"heap\": {\"2\": [\"LIST\", 5, 2, 6, 3], \"3\": [\"LIST\", 10, 4, 12], \"1\": [\"FUNCTION\", \"returnola(lst)\", null]}, \"stdout\": \"\"}, {\"line\": 7, \"event\": \"step_line\", \"func_name\": \"returnola\", \"globals\": {\"returnola\": [\"REF\", 1], \"la\": [\"REF\", 2]}, \"ordered_globals\": [\"returnola\", \"la\"], \"stack_to_render\": [{\"func_name\": \"returnola\", \"is_parent\": false, \"frame_id\": 1, \"parent_frame_id_list\": [], \"encoded_locals\": {\"lst\": [\"REF\", 2], \"ret\": [\"REF\", 3], \"el\": 3}, \"ordered_varnames\": [\"lst\", \"ret\", \"el\"], \"is_zombie\": false, \"is_highlighted\": true, \"unique_hash\": \"returnola_f1\"}], \"heap\": {\"2\": [\"LIST\", 5, 2, 6, 3], \"3\": [\"LIST\", 10, 4, 12], \"1\": [\"FUNCTION\", \"returnola(lst)\", null]}, \"stdout\": \"\"}, {\"line\": 6, \"event\": \"step_line\", \"func_name\": \"returnola\", \"globals\": {\"returnola\": [\"REF\", 1], \"la\": [\"REF\", 2]}, \"ordered_globals\": [\"returnola\", \"la\"], \"stack_to_render\": [{\"func_name\": \"returnola\", \"is_parent\": false, \"frame_id\": 1, \"parent_frame_id_list\": [], \"encoded_locals\": {\"lst\": [\"REF\", 2], \"ret\": [\"REF\", 3], \"el\": 3}, \"ordered_varnames\": [\"lst\", \"ret\", \"el\"], \"is_zombie\": false, \"is_highlighted\": true, \"unique_hash\": \"returnola_f1\"}], \"heap\": {\"2\": [\"LIST\", 5, 2, 6, 3], \"3\": [\"LIST\", 10, 4, 12, 6], \"1\": [\"FUNCTION\", \"returnola(lst)\", null]}, \"stdout\": \"\"}, {\"line\": 8, \"event\": \"step_line\", \"func_name\": \"returnola\", \"globals\": {\"returnola\": [\"REF\", 1], \"la\": [\"REF\", 2]}, \"ordered_globals\": [\"returnola\", \"la\"], \"stack_to_render\": [{\"func_name\": \"returnola\", \"is_parent\": false, \"frame_id\": 1, \"parent_frame_id_list\": [], \"encoded_locals\": {\"lst\": [\"REF\", 2], \"ret\": [\"REF\", 3], \"el\": 3}, \"ordered_varnames\": [\"lst\", \"ret\", \"el\"], \"is_zombie\": false, \"is_highlighted\": true, \"unique_hash\": \"returnola_f1\"}], \"heap\": {\"2\": [\"LIST\", 5, 2, 6, 3], \"3\": [\"LIST\", 10, 4, 12, 6], \"1\": [\"FUNCTION\", \"returnola(lst)\", null]}, \"stdout\": \"\"}, {\"line\": 8, \"event\": \"return\", \"func_name\": \"returnola\", \"globals\": {\"returnola\": [\"REF\", 1], \"la\": [\"REF\", 2]}, \"ordered_globals\": [\"returnola\", \"la\"], \"stack_to_render\": [{\"func_name\": \"returnola\", \"is_parent\": false, \"frame_id\": 1, \"parent_frame_id_list\": [], \"encoded_locals\": {\"lst\": [\"REF\", 2], \"ret\": [\"REF\", 3], \"el\": 3, \"__return__\": [\"REF\", 3]}, \"ordered_varnames\": [\"lst\", \"ret\", \"el\", \"__return__\"], \"is_zombie\": false, \"is_highlighted\": true, \"unique_hash\": \"returnola_f1\"}], \"heap\": {\"2\": [\"LIST\", 5, 2, 6, 3], \"3\": [\"LIST\", 10, 4, 12, 6], \"1\": [\"FUNCTION\", \"returnola(lst)\", null]}, \"stdout\": \"\"}, {\"line\": 12, \"event\": \"step_line\", \"func_name\": \"<module>\", \"globals\": {\"returnola\": [\"REF\", 1], \"la\": [\"REF\", 2], \"res\": [\"REF\", 3]}, \"ordered_globals\": [\"returnola\", \"la\", \"res\"], \"stack_to_render\": [], \"heap\": {\"1\": [\"FUNCTION\", \"returnola(lst)\", null], \"2\": [\"LIST\", 5, 2, 6, 3], \"3\": [\"LIST\", 10, 4, 12, 6]}, \"stdout\": \"\"}, {\"line\": 13, \"event\": \"step_line\", \"func_name\": \"<module>\", \"globals\": {\"returnola\": [\"REF\", 1], \"la\": [\"REF\", 2], \"res\": [\"REF\", 3]}, \"ordered_globals\": [\"returnola\", \"la\", \"res\"], \"stack_to_render\": [], \"heap\": {\"1\": [\"FUNCTION\", \"returnola(lst)\", null], \"2\": [\"LIST\", 5, 2, 6, 3], \"3\": [\"LIST\", 10, 4, 12, 6]}, \"stdout\": \"la : [5, 2, 6, 3]\\n\"}, {\"line\": 13, \"event\": \"return\", \"func_name\": \"<module>\", \"globals\": {\"returnola\": [\"REF\", 1], \"la\": [\"REF\", 2], \"res\": [\"REF\", 3]}, \"ordered_globals\": [\"returnola\", \"la\", \"res\"], \"stack_to_render\": [], \"heap\": {\"1\": [\"FUNCTION\", \"returnola(lst)\", null], \"2\": [\"LIST\", 5, 2, 6, 3], \"3\": [\"LIST\", 10, 4, 12, 6]}, \"stdout\": \"la : [5, 2, 6, 3]\\nres: [10, 4, 12, 6]\\n\"}]}\n",
       "        </script>\n",
       "        <div id=\"jmbec8971b-3f58-4f68-9a17-a32121c3aaee\" class=\"pytutorVisualizer\"> </div>\n",
       " \n",
       "        <style>\n",
       "        .vizLayoutTd {\n",
       "            background-color: #fff !important;\n",
       "        }\n",
       "\n",
       "        #pyStdout {            \n",
       "            min-height:25px;\n",
       "        }\n",
       "\n",
       "        /* 'Edit this code' link, hiding because replaces browser tab !!!*/\n",
       "        #editCodeLinkDiv {\n",
       "            display:none;  \n",
       "        }\n",
       "        </style>   \n",
       "                            \n",
       "        <script>\n",
       "        (function(){\n",
       "\n",
       "            var trace = JSON.parse(document.getElementById('json-jmbec8971b-3f58-4f68-9a17-a32121c3aaee').innerHTML);                                        \n",
       "            // NOTE 1: id without #\n",
       "            // NOTE 2 - maybe there are more predictable ways, but this will work anyway\n",
       "            //        - id should be number\n",
       "            visualizerIdOverride = Math.trunc(Math.random() * 100000000000)\n",
       "            addVisualizerToPage(trace, 'jmbec8971b-3f58-4f68-9a17-a32121c3aaee',{'embeddedMode' : false,\n",
       "                                             'visualizerIdOverride':visualizerIdOverride})  \n",
       "            \n",
       "            \n",
       "            // set overflow for pytuts - need to do in python as css \n",
       "            // does not allow parent selection\n",
       "            var pytuts = $('.pytutorVisualizer')\n",
       "            pytuts.closest('div.output_html.rendered_html.output_result')\n",
       "                    .css('overflow-x', 'visible')\n",
       "        \n",
       "            //pytuts.closest('div.output_html.rendered_html.output_result')\n",
       "            //      .css('background-color','red')                \n",
       "            \n",
       "        })()\n",
       "        </script>\n",
       "                \n",
       "                "
      ],
      "text/plain": [
       "<IPython.core.display.HTML object>"
      ]
     },
     "execution_count": 3,
     "metadata": {},
     "output_type": "execute_result"
    }
   ],
   "source": [
    "def returnola(lst):\n",
    "    \"\"\"RETURN a NEW list having all the numbers doubled    \n",
    "    \"\"\"    \n",
    "    ret = []\n",
    "    for el in lst:\n",
    "        ret.append(el*2)\n",
    "    return ret   \n",
    "\n",
    "la = [5,2,6,3]\n",
    "res = returnola(la)\n",
    "print(\"la :\", la)\n",
    "print(\"res:\", res)\n",
    "jupman.pytut()"
   ]
  },
  {
   "cell_type": "markdown",
   "id": "94bbade2",
   "metadata": {},
   "source": [
    "### MODIFY\n",
    "\n",
    "MODIFY the input. By MODIFYING, we typically mean changing data inside _existing_ memory regions, limiting as much as possible the creation of new ones.\n",
    "\n",
    "- DOES NOT return anything!\n",
    "- DOES NOT print anything!\n",
    "- DOES NOT create new memory regions (or limits the creation to the bare needed)\n",
    "\n",
    "\n",
    "Example:"
   ]
  },
  {
   "cell_type": "code",
   "execution_count": 4,
   "id": "c916d3ff",
   "metadata": {},
   "outputs": [
    {
     "name": "stdout",
     "output_type": "stream",
     "text": [
      "la: [4, 7, 8, 9]\n"
     ]
    },
    {
     "data": {
      "text/html": [
       "\n",
       "        <script src=\"../_static/js/pytutor-embed.bundle.min.js\" type=\"application/javascript\"></script>\n",
       "     \n",
       "        <script id=\"json-jm87733f6f-a58a-457b-bdeb-04e1282ba2db\" type=\"application/json\" >\n",
       "            {\"code\": \" \\ndef modifanta(lst):\\n    \\\"\\\"\\\"MODIFIIES lst by ordering it in-place\\n    \\\"\\\"\\\"\\n    lst.sort()   \\n    la = [43434]\\n    \\n    \\nla = [7,4,9,8]\\n\\nmodifanta(la)\\n\\nprint(\\\"la:\\\", la)\", \"trace\": [{\"line\": 2, \"event\": \"step_line\", \"func_name\": \"<module>\", \"globals\": {}, \"ordered_globals\": [], \"stack_to_render\": [], \"heap\": {}, \"stdout\": \"\"}, {\"line\": 9, \"event\": \"step_line\", \"func_name\": \"<module>\", \"globals\": {\"modifanta\": [\"REF\", 1]}, \"ordered_globals\": [\"modifanta\"], \"stack_to_render\": [], \"heap\": {\"1\": [\"FUNCTION\", \"modifanta(lst)\", null]}, \"stdout\": \"\"}, {\"line\": 11, \"event\": \"step_line\", \"func_name\": \"<module>\", \"globals\": {\"modifanta\": [\"REF\", 1], \"la\": [\"REF\", 2]}, \"ordered_globals\": [\"modifanta\", \"la\"], \"stack_to_render\": [], \"heap\": {\"1\": [\"FUNCTION\", \"modifanta(lst)\", null], \"2\": [\"LIST\", 7, 4, 9, 8]}, \"stdout\": \"\"}, {\"line\": 2, \"event\": \"call\", \"func_name\": \"modifanta\", \"globals\": {\"modifanta\": [\"REF\", 1], \"la\": [\"REF\", 2]}, \"ordered_globals\": [\"modifanta\", \"la\"], \"stack_to_render\": [{\"func_name\": \"modifanta\", \"is_parent\": false, \"frame_id\": 1, \"parent_frame_id_list\": [], \"encoded_locals\": {\"lst\": [\"REF\", 2]}, \"ordered_varnames\": [\"lst\"], \"is_zombie\": false, \"is_highlighted\": true, \"unique_hash\": \"modifanta_f1\"}], \"heap\": {\"2\": [\"LIST\", 7, 4, 9, 8], \"1\": [\"FUNCTION\", \"modifanta(lst)\", null]}, \"stdout\": \"\"}, {\"line\": 5, \"event\": \"step_line\", \"func_name\": \"modifanta\", \"globals\": {\"modifanta\": [\"REF\", 1], \"la\": [\"REF\", 2]}, \"ordered_globals\": [\"modifanta\", \"la\"], \"stack_to_render\": [{\"func_name\": \"modifanta\", \"is_parent\": false, \"frame_id\": 1, \"parent_frame_id_list\": [], \"encoded_locals\": {\"lst\": [\"REF\", 2]}, \"ordered_varnames\": [\"lst\"], \"is_zombie\": false, \"is_highlighted\": true, \"unique_hash\": \"modifanta_f1\"}], \"heap\": {\"2\": [\"LIST\", 7, 4, 9, 8], \"1\": [\"FUNCTION\", \"modifanta(lst)\", null]}, \"stdout\": \"\"}, {\"line\": 6, \"event\": \"step_line\", \"func_name\": \"modifanta\", \"globals\": {\"modifanta\": [\"REF\", 1], \"la\": [\"REF\", 2]}, \"ordered_globals\": [\"modifanta\", \"la\"], \"stack_to_render\": [{\"func_name\": \"modifanta\", \"is_parent\": false, \"frame_id\": 1, \"parent_frame_id_list\": [], \"encoded_locals\": {\"lst\": [\"REF\", 2]}, \"ordered_varnames\": [\"lst\"], \"is_zombie\": false, \"is_highlighted\": true, \"unique_hash\": \"modifanta_f1\"}], \"heap\": {\"2\": [\"LIST\", 4, 7, 8, 9], \"1\": [\"FUNCTION\", \"modifanta(lst)\", null]}, \"stdout\": \"\"}, {\"line\": 6, \"event\": \"return\", \"func_name\": \"modifanta\", \"globals\": {\"modifanta\": [\"REF\", 1], \"la\": [\"REF\", 2]}, \"ordered_globals\": [\"modifanta\", \"la\"], \"stack_to_render\": [{\"func_name\": \"modifanta\", \"is_parent\": false, \"frame_id\": 1, \"parent_frame_id_list\": [], \"encoded_locals\": {\"lst\": [\"REF\", 2], \"la\": [\"REF\", 3], \"__return__\": null}, \"ordered_varnames\": [\"lst\", \"la\", \"__return__\"], \"is_zombie\": false, \"is_highlighted\": true, \"unique_hash\": \"modifanta_f1\"}], \"heap\": {\"2\": [\"LIST\", 4, 7, 8, 9], \"3\": [\"LIST\", 43434], \"1\": [\"FUNCTION\", \"modifanta(lst)\", null]}, \"stdout\": \"\"}, {\"line\": 13, \"event\": \"step_line\", \"func_name\": \"<module>\", \"globals\": {\"modifanta\": [\"REF\", 1], \"la\": [\"REF\", 2]}, \"ordered_globals\": [\"modifanta\", \"la\"], \"stack_to_render\": [], \"heap\": {\"1\": [\"FUNCTION\", \"modifanta(lst)\", null], \"2\": [\"LIST\", 4, 7, 8, 9]}, \"stdout\": \"\"}, {\"line\": 13, \"event\": \"return\", \"func_name\": \"<module>\", \"globals\": {\"modifanta\": [\"REF\", 1], \"la\": [\"REF\", 2]}, \"ordered_globals\": [\"modifanta\", \"la\"], \"stack_to_render\": [], \"heap\": {\"1\": [\"FUNCTION\", \"modifanta(lst)\", null], \"2\": [\"LIST\", 4, 7, 8, 9]}, \"stdout\": \"la: [4, 7, 8, 9]\\n\"}]}\n",
       "        </script>\n",
       "        <div id=\"jm87733f6f-a58a-457b-bdeb-04e1282ba2db\" class=\"pytutorVisualizer\"> </div>\n",
       " \n",
       "        <style>\n",
       "        .vizLayoutTd {\n",
       "            background-color: #fff !important;\n",
       "        }\n",
       "\n",
       "        #pyStdout {            \n",
       "            min-height:25px;\n",
       "        }\n",
       "\n",
       "        /* 'Edit this code' link, hiding because replaces browser tab !!!*/\n",
       "        #editCodeLinkDiv {\n",
       "            display:none;  \n",
       "        }\n",
       "        </style>   \n",
       "                            \n",
       "        <script>\n",
       "        (function(){\n",
       "\n",
       "            var trace = JSON.parse(document.getElementById('json-jm87733f6f-a58a-457b-bdeb-04e1282ba2db').innerHTML);                                        \n",
       "            // NOTE 1: id without #\n",
       "            // NOTE 2 - maybe there are more predictable ways, but this will work anyway\n",
       "            //        - id should be number\n",
       "            visualizerIdOverride = Math.trunc(Math.random() * 100000000000)\n",
       "            addVisualizerToPage(trace, 'jm87733f6f-a58a-457b-bdeb-04e1282ba2db',{'embeddedMode' : false,\n",
       "                                             'visualizerIdOverride':visualizerIdOverride})  \n",
       "            \n",
       "            \n",
       "            // set overflow for pytuts - need to do in python as css \n",
       "            // does not allow parent selection\n",
       "            var pytuts = $('.pytutorVisualizer')\n",
       "            pytuts.closest('div.output_html.rendered_html.output_result')\n",
       "                    .css('overflow-x', 'visible')\n",
       "        \n",
       "            //pytuts.closest('div.output_html.rendered_html.output_result')\n",
       "            //      .css('background-color','red')                \n",
       "            \n",
       "        })()\n",
       "        </script>\n",
       "                \n",
       "                "
      ],
      "text/plain": [
       "<IPython.core.display.HTML object>"
      ]
     },
     "execution_count": 4,
     "metadata": {},
     "output_type": "execute_result"
    }
   ],
   "source": [
    "def modifanta(lst):\n",
    "    \"\"\"MODIFIIES lst by ordering it in-place\n",
    "    \"\"\"\n",
    "    lst.sort()   \n",
    "    la = [43434]\n",
    "    \n",
    "    \n",
    "la = [7,4,9,8]\n",
    "\n",
    "modifanta(la)\n",
    "\n",
    "print(\"la:\", la)\n",
    "jupman.pytut()"
   ]
  },
  {
   "cell_type": "markdown",
   "id": "30978020",
   "metadata": {},
   "source": [
    "###  MODIFY and RETURN\n",
    "\n",
    "MODIFIES the input and RETURNS a pointer to it\n",
    "\n",
    "- DOES NOT print anything!\n",
    "- DOES NOT create new memory regions (or limits the creation to the bare needed)\n",
    "\n",
    "Note: allows call _chaining_"
   ]
  },
  {
   "cell_type": "code",
   "execution_count": 5,
   "id": "844ce91f",
   "metadata": {},
   "outputs": [
    {
     "name": "stdout",
     "output_type": "stream",
     "text": [
      "res : [16, 14, 10]\n",
      "la  : [16, 14, 10]\n",
      "\n",
      "lb  : [12, 10, 14]\n"
     ]
    },
    {
     "data": {
      "text/html": [
       "\n",
       "        <script src=\"../_static/js/pytutor-embed.bundle.min.js\" type=\"application/javascript\"></script>\n",
       "     \n",
       "        <script id=\"json-jmbc629209-7ec9-47c2-a53e-f4fa00819248\" type=\"application/json\" >\n",
       "            {\"code\": \" \\ndef modiret(lst):\\n    \\\"\\\"\\\"MODIFY lst by doubling all its elements, and finally RETURNS it\\n    \\\"\\\"\\\"\\n    for i in range(len(lst)):\\n        lst[i] = lst[i] * 2\\n    return lst\\n\\nla = [8,7,5]\\nres = modiret(la)\\nprint(\\\"res :\\\", res)   # [16,14,10]  RETURNED the modified input\\nprint(\\\"la  :\\\", la)    # [16,14,10]  la input was MODIFIED !!\\n\\nprint()\\nlb = [7,5,6]\\nmodiret(lb).reverse()    # NOTE WE CAN CONCATENATE\\nprint(\\\"lb  :\\\", lb)                # [12,10,14]  lb input was MODIFIED !!\\n#modiret(lb).reverse().append(16)  # ... but this wouldn't work. Why?\", \"trace\": [{\"line\": 2, \"event\": \"step_line\", \"func_name\": \"<module>\", \"globals\": {}, \"ordered_globals\": [], \"stack_to_render\": [], \"heap\": {}, \"stdout\": \"\"}, {\"line\": 9, \"event\": \"step_line\", \"func_name\": \"<module>\", \"globals\": {\"modiret\": [\"REF\", 1]}, \"ordered_globals\": [\"modiret\"], \"stack_to_render\": [], \"heap\": {\"1\": [\"FUNCTION\", \"modiret(lst)\", null]}, \"stdout\": \"\"}, {\"line\": 10, \"event\": \"step_line\", \"func_name\": \"<module>\", \"globals\": {\"modiret\": [\"REF\", 1], \"la\": [\"REF\", 2]}, \"ordered_globals\": [\"modiret\", \"la\"], \"stack_to_render\": [], \"heap\": {\"1\": [\"FUNCTION\", \"modiret(lst)\", null], \"2\": [\"LIST\", 8, 7, 5]}, \"stdout\": \"\"}, {\"line\": 2, \"event\": \"call\", \"func_name\": \"modiret\", \"globals\": {\"modiret\": [\"REF\", 1], \"la\": [\"REF\", 2]}, \"ordered_globals\": [\"modiret\", \"la\"], \"stack_to_render\": [{\"func_name\": \"modiret\", \"is_parent\": false, \"frame_id\": 1, \"parent_frame_id_list\": [], \"encoded_locals\": {\"lst\": [\"REF\", 2]}, \"ordered_varnames\": [\"lst\"], \"is_zombie\": false, \"is_highlighted\": true, \"unique_hash\": \"modiret_f1\"}], \"heap\": {\"2\": [\"LIST\", 8, 7, 5], \"1\": [\"FUNCTION\", \"modiret(lst)\", null]}, \"stdout\": \"\"}, {\"line\": 5, \"event\": \"step_line\", \"func_name\": \"modiret\", \"globals\": {\"modiret\": [\"REF\", 1], \"la\": [\"REF\", 2]}, \"ordered_globals\": [\"modiret\", \"la\"], \"stack_to_render\": [{\"func_name\": \"modiret\", \"is_parent\": false, \"frame_id\": 1, \"parent_frame_id_list\": [], \"encoded_locals\": {\"lst\": [\"REF\", 2]}, \"ordered_varnames\": [\"lst\"], \"is_zombie\": false, \"is_highlighted\": true, \"unique_hash\": \"modiret_f1\"}], \"heap\": {\"2\": [\"LIST\", 8, 7, 5], \"1\": [\"FUNCTION\", \"modiret(lst)\", null]}, \"stdout\": \"\"}, {\"line\": 6, \"event\": \"step_line\", \"func_name\": \"modiret\", \"globals\": {\"modiret\": [\"REF\", 1], \"la\": [\"REF\", 2]}, \"ordered_globals\": [\"modiret\", \"la\"], \"stack_to_render\": [{\"func_name\": \"modiret\", \"is_parent\": false, \"frame_id\": 1, \"parent_frame_id_list\": [], \"encoded_locals\": {\"lst\": [\"REF\", 2], \"i\": 0}, \"ordered_varnames\": [\"lst\", \"i\"], \"is_zombie\": false, \"is_highlighted\": true, \"unique_hash\": \"modiret_f1\"}], \"heap\": {\"2\": [\"LIST\", 8, 7, 5], \"1\": [\"FUNCTION\", \"modiret(lst)\", null]}, \"stdout\": \"\"}, {\"line\": 5, \"event\": \"step_line\", \"func_name\": \"modiret\", \"globals\": {\"modiret\": [\"REF\", 1], \"la\": [\"REF\", 2]}, \"ordered_globals\": [\"modiret\", \"la\"], \"stack_to_render\": [{\"func_name\": \"modiret\", \"is_parent\": false, \"frame_id\": 1, \"parent_frame_id_list\": [], \"encoded_locals\": {\"lst\": [\"REF\", 2], \"i\": 0}, \"ordered_varnames\": [\"lst\", \"i\"], \"is_zombie\": false, \"is_highlighted\": true, \"unique_hash\": \"modiret_f1\"}], \"heap\": {\"2\": [\"LIST\", 16, 7, 5], \"1\": [\"FUNCTION\", \"modiret(lst)\", null]}, \"stdout\": \"\"}, {\"line\": 6, \"event\": \"step_line\", \"func_name\": \"modiret\", \"globals\": {\"modiret\": [\"REF\", 1], \"la\": [\"REF\", 2]}, \"ordered_globals\": [\"modiret\", \"la\"], \"stack_to_render\": [{\"func_name\": \"modiret\", \"is_parent\": false, \"frame_id\": 1, \"parent_frame_id_list\": [], \"encoded_locals\": {\"lst\": [\"REF\", 2], \"i\": 1}, \"ordered_varnames\": [\"lst\", \"i\"], \"is_zombie\": false, \"is_highlighted\": true, \"unique_hash\": \"modiret_f1\"}], \"heap\": {\"2\": [\"LIST\", 16, 7, 5], \"1\": [\"FUNCTION\", \"modiret(lst)\", null]}, \"stdout\": \"\"}, {\"line\": 5, \"event\": \"step_line\", \"func_name\": \"modiret\", \"globals\": {\"modiret\": [\"REF\", 1], \"la\": [\"REF\", 2]}, \"ordered_globals\": [\"modiret\", \"la\"], \"stack_to_render\": [{\"func_name\": \"modiret\", \"is_parent\": false, \"frame_id\": 1, \"parent_frame_id_list\": [], \"encoded_locals\": {\"lst\": [\"REF\", 2], \"i\": 1}, \"ordered_varnames\": [\"lst\", \"i\"], \"is_zombie\": false, \"is_highlighted\": true, \"unique_hash\": \"modiret_f1\"}], \"heap\": {\"2\": [\"LIST\", 16, 14, 5], \"1\": [\"FUNCTION\", \"modiret(lst)\", null]}, \"stdout\": \"\"}, {\"line\": 6, \"event\": \"step_line\", \"func_name\": \"modiret\", \"globals\": {\"modiret\": [\"REF\", 1], \"la\": [\"REF\", 2]}, \"ordered_globals\": [\"modiret\", \"la\"], \"stack_to_render\": [{\"func_name\": \"modiret\", \"is_parent\": false, \"frame_id\": 1, \"parent_frame_id_list\": [], \"encoded_locals\": {\"lst\": [\"REF\", 2], \"i\": 2}, \"ordered_varnames\": [\"lst\", \"i\"], \"is_zombie\": false, \"is_highlighted\": true, \"unique_hash\": \"modiret_f1\"}], \"heap\": {\"2\": [\"LIST\", 16, 14, 5], \"1\": [\"FUNCTION\", \"modiret(lst)\", null]}, \"stdout\": \"\"}, {\"line\": 5, \"event\": \"step_line\", \"func_name\": \"modiret\", \"globals\": {\"modiret\": [\"REF\", 1], \"la\": [\"REF\", 2]}, \"ordered_globals\": [\"modiret\", \"la\"], \"stack_to_render\": [{\"func_name\": \"modiret\", \"is_parent\": false, \"frame_id\": 1, \"parent_frame_id_list\": [], \"encoded_locals\": {\"lst\": [\"REF\", 2], \"i\": 2}, \"ordered_varnames\": [\"lst\", \"i\"], \"is_zombie\": false, \"is_highlighted\": true, \"unique_hash\": \"modiret_f1\"}], \"heap\": {\"2\": [\"LIST\", 16, 14, 10], \"1\": [\"FUNCTION\", \"modiret(lst)\", null]}, \"stdout\": \"\"}, {\"line\": 7, \"event\": \"step_line\", \"func_name\": \"modiret\", \"globals\": {\"modiret\": [\"REF\", 1], \"la\": [\"REF\", 2]}, \"ordered_globals\": [\"modiret\", \"la\"], \"stack_to_render\": [{\"func_name\": \"modiret\", \"is_parent\": false, \"frame_id\": 1, \"parent_frame_id_list\": [], \"encoded_locals\": {\"lst\": [\"REF\", 2], \"i\": 2}, \"ordered_varnames\": [\"lst\", \"i\"], \"is_zombie\": false, \"is_highlighted\": true, \"unique_hash\": \"modiret_f1\"}], \"heap\": {\"2\": [\"LIST\", 16, 14, 10], \"1\": [\"FUNCTION\", \"modiret(lst)\", null]}, \"stdout\": \"\"}, {\"line\": 7, \"event\": \"return\", \"func_name\": \"modiret\", \"globals\": {\"modiret\": [\"REF\", 1], \"la\": [\"REF\", 2]}, \"ordered_globals\": [\"modiret\", \"la\"], \"stack_to_render\": [{\"func_name\": \"modiret\", \"is_parent\": false, \"frame_id\": 1, \"parent_frame_id_list\": [], \"encoded_locals\": {\"lst\": [\"REF\", 2], \"i\": 2, \"__return__\": [\"REF\", 2]}, \"ordered_varnames\": [\"lst\", \"i\", \"__return__\"], \"is_zombie\": false, \"is_highlighted\": true, \"unique_hash\": \"modiret_f1\"}], \"heap\": {\"2\": [\"LIST\", 16, 14, 10], \"1\": [\"FUNCTION\", \"modiret(lst)\", null]}, \"stdout\": \"\"}, {\"line\": 11, \"event\": \"step_line\", \"func_name\": \"<module>\", \"globals\": {\"modiret\": [\"REF\", 1], \"la\": [\"REF\", 2], \"res\": [\"REF\", 2]}, \"ordered_globals\": [\"modiret\", \"la\", \"res\"], \"stack_to_render\": [], \"heap\": {\"1\": [\"FUNCTION\", \"modiret(lst)\", null], \"2\": [\"LIST\", 16, 14, 10]}, \"stdout\": \"\"}, {\"line\": 12, \"event\": \"step_line\", \"func_name\": \"<module>\", \"globals\": {\"modiret\": [\"REF\", 1], \"la\": [\"REF\", 2], \"res\": [\"REF\", 2]}, \"ordered_globals\": [\"modiret\", \"la\", \"res\"], \"stack_to_render\": [], \"heap\": {\"1\": [\"FUNCTION\", \"modiret(lst)\", null], \"2\": [\"LIST\", 16, 14, 10]}, \"stdout\": \"res : [16, 14, 10]\\n\"}, {\"line\": 14, \"event\": \"step_line\", \"func_name\": \"<module>\", \"globals\": {\"modiret\": [\"REF\", 1], \"la\": [\"REF\", 2], \"res\": [\"REF\", 2]}, \"ordered_globals\": [\"modiret\", \"la\", \"res\"], \"stack_to_render\": [], \"heap\": {\"1\": [\"FUNCTION\", \"modiret(lst)\", null], \"2\": [\"LIST\", 16, 14, 10]}, \"stdout\": \"res : [16, 14, 10]\\nla  : [16, 14, 10]\\n\"}, {\"line\": 15, \"event\": \"step_line\", \"func_name\": \"<module>\", \"globals\": {\"modiret\": [\"REF\", 1], \"la\": [\"REF\", 2], \"res\": [\"REF\", 2]}, \"ordered_globals\": [\"modiret\", \"la\", \"res\"], \"stack_to_render\": [], \"heap\": {\"1\": [\"FUNCTION\", \"modiret(lst)\", null], \"2\": [\"LIST\", 16, 14, 10]}, \"stdout\": \"res : [16, 14, 10]\\nla  : [16, 14, 10]\\n\\n\"}, {\"line\": 16, \"event\": \"step_line\", \"func_name\": \"<module>\", \"globals\": {\"modiret\": [\"REF\", 1], \"la\": [\"REF\", 2], \"res\": [\"REF\", 2], \"lb\": [\"REF\", 3]}, \"ordered_globals\": [\"modiret\", \"la\", \"res\", \"lb\"], \"stack_to_render\": [], \"heap\": {\"1\": [\"FUNCTION\", \"modiret(lst)\", null], \"2\": [\"LIST\", 16, 14, 10], \"3\": [\"LIST\", 7, 5, 6]}, \"stdout\": \"res : [16, 14, 10]\\nla  : [16, 14, 10]\\n\\n\"}, {\"line\": 2, \"event\": \"call\", \"func_name\": \"modiret\", \"globals\": {\"modiret\": [\"REF\", 1], \"la\": [\"REF\", 2], \"res\": [\"REF\", 2], \"lb\": [\"REF\", 3]}, \"ordered_globals\": [\"modiret\", \"la\", \"res\", \"lb\"], \"stack_to_render\": [{\"func_name\": \"modiret\", \"is_parent\": false, \"frame_id\": 2, \"parent_frame_id_list\": [], \"encoded_locals\": {\"lst\": [\"REF\", 3]}, \"ordered_varnames\": [\"lst\"], \"is_zombie\": false, \"is_highlighted\": true, \"unique_hash\": \"modiret_f2\"}], \"heap\": {\"3\": [\"LIST\", 7, 5, 6], \"1\": [\"FUNCTION\", \"modiret(lst)\", null], \"2\": [\"LIST\", 16, 14, 10]}, \"stdout\": \"res : [16, 14, 10]\\nla  : [16, 14, 10]\\n\\n\"}, {\"line\": 5, \"event\": \"step_line\", \"func_name\": \"modiret\", \"globals\": {\"modiret\": [\"REF\", 1], \"la\": [\"REF\", 2], \"res\": [\"REF\", 2], \"lb\": [\"REF\", 3]}, \"ordered_globals\": [\"modiret\", \"la\", \"res\", \"lb\"], \"stack_to_render\": [{\"func_name\": \"modiret\", \"is_parent\": false, \"frame_id\": 2, \"parent_frame_id_list\": [], \"encoded_locals\": {\"lst\": [\"REF\", 3]}, \"ordered_varnames\": [\"lst\"], \"is_zombie\": false, \"is_highlighted\": true, \"unique_hash\": \"modiret_f2\"}], \"heap\": {\"3\": [\"LIST\", 7, 5, 6], \"1\": [\"FUNCTION\", \"modiret(lst)\", null], \"2\": [\"LIST\", 16, 14, 10]}, \"stdout\": \"res : [16, 14, 10]\\nla  : [16, 14, 10]\\n\\n\"}, {\"line\": 6, \"event\": \"step_line\", \"func_name\": \"modiret\", \"globals\": {\"modiret\": [\"REF\", 1], \"la\": [\"REF\", 2], \"res\": [\"REF\", 2], \"lb\": [\"REF\", 3]}, \"ordered_globals\": [\"modiret\", \"la\", \"res\", \"lb\"], \"stack_to_render\": [{\"func_name\": \"modiret\", \"is_parent\": false, \"frame_id\": 2, \"parent_frame_id_list\": [], \"encoded_locals\": {\"lst\": [\"REF\", 3], \"i\": 0}, \"ordered_varnames\": [\"lst\", \"i\"], \"is_zombie\": false, \"is_highlighted\": true, \"unique_hash\": \"modiret_f2\"}], \"heap\": {\"3\": [\"LIST\", 7, 5, 6], \"1\": [\"FUNCTION\", \"modiret(lst)\", null], \"2\": [\"LIST\", 16, 14, 10]}, \"stdout\": \"res : [16, 14, 10]\\nla  : [16, 14, 10]\\n\\n\"}, {\"line\": 5, \"event\": \"step_line\", \"func_name\": \"modiret\", \"globals\": {\"modiret\": [\"REF\", 1], \"la\": [\"REF\", 2], \"res\": [\"REF\", 2], \"lb\": [\"REF\", 3]}, \"ordered_globals\": [\"modiret\", \"la\", \"res\", \"lb\"], \"stack_to_render\": [{\"func_name\": \"modiret\", \"is_parent\": false, \"frame_id\": 2, \"parent_frame_id_list\": [], \"encoded_locals\": {\"lst\": [\"REF\", 3], \"i\": 0}, \"ordered_varnames\": [\"lst\", \"i\"], \"is_zombie\": false, \"is_highlighted\": true, \"unique_hash\": \"modiret_f2\"}], \"heap\": {\"3\": [\"LIST\", 14, 5, 6], \"1\": [\"FUNCTION\", \"modiret(lst)\", null], \"2\": [\"LIST\", 16, 14, 10]}, \"stdout\": \"res : [16, 14, 10]\\nla  : [16, 14, 10]\\n\\n\"}, {\"line\": 6, \"event\": \"step_line\", \"func_name\": \"modiret\", \"globals\": {\"modiret\": [\"REF\", 1], \"la\": [\"REF\", 2], \"res\": [\"REF\", 2], \"lb\": [\"REF\", 3]}, \"ordered_globals\": [\"modiret\", \"la\", \"res\", \"lb\"], \"stack_to_render\": [{\"func_name\": \"modiret\", \"is_parent\": false, \"frame_id\": 2, \"parent_frame_id_list\": [], \"encoded_locals\": {\"lst\": [\"REF\", 3], \"i\": 1}, \"ordered_varnames\": [\"lst\", \"i\"], \"is_zombie\": false, \"is_highlighted\": true, \"unique_hash\": \"modiret_f2\"}], \"heap\": {\"3\": [\"LIST\", 14, 5, 6], \"1\": [\"FUNCTION\", \"modiret(lst)\", null], \"2\": [\"LIST\", 16, 14, 10]}, \"stdout\": \"res : [16, 14, 10]\\nla  : [16, 14, 10]\\n\\n\"}, {\"line\": 5, \"event\": \"step_line\", \"func_name\": \"modiret\", \"globals\": {\"modiret\": [\"REF\", 1], \"la\": [\"REF\", 2], \"res\": [\"REF\", 2], \"lb\": [\"REF\", 3]}, \"ordered_globals\": [\"modiret\", \"la\", \"res\", \"lb\"], \"stack_to_render\": [{\"func_name\": \"modiret\", \"is_parent\": false, \"frame_id\": 2, \"parent_frame_id_list\": [], \"encoded_locals\": {\"lst\": [\"REF\", 3], \"i\": 1}, \"ordered_varnames\": [\"lst\", \"i\"], \"is_zombie\": false, \"is_highlighted\": true, \"unique_hash\": \"modiret_f2\"}], \"heap\": {\"3\": [\"LIST\", 14, 10, 6], \"1\": [\"FUNCTION\", \"modiret(lst)\", null], \"2\": [\"LIST\", 16, 14, 10]}, \"stdout\": \"res : [16, 14, 10]\\nla  : [16, 14, 10]\\n\\n\"}, {\"line\": 6, \"event\": \"step_line\", \"func_name\": \"modiret\", \"globals\": {\"modiret\": [\"REF\", 1], \"la\": [\"REF\", 2], \"res\": [\"REF\", 2], \"lb\": [\"REF\", 3]}, \"ordered_globals\": [\"modiret\", \"la\", \"res\", \"lb\"], \"stack_to_render\": [{\"func_name\": \"modiret\", \"is_parent\": false, \"frame_id\": 2, \"parent_frame_id_list\": [], \"encoded_locals\": {\"lst\": [\"REF\", 3], \"i\": 2}, \"ordered_varnames\": [\"lst\", \"i\"], \"is_zombie\": false, \"is_highlighted\": true, \"unique_hash\": \"modiret_f2\"}], \"heap\": {\"3\": [\"LIST\", 14, 10, 6], \"1\": [\"FUNCTION\", \"modiret(lst)\", null], \"2\": [\"LIST\", 16, 14, 10]}, \"stdout\": \"res : [16, 14, 10]\\nla  : [16, 14, 10]\\n\\n\"}, {\"line\": 5, \"event\": \"step_line\", \"func_name\": \"modiret\", \"globals\": {\"modiret\": [\"REF\", 1], \"la\": [\"REF\", 2], \"res\": [\"REF\", 2], \"lb\": [\"REF\", 3]}, \"ordered_globals\": [\"modiret\", \"la\", \"res\", \"lb\"], \"stack_to_render\": [{\"func_name\": \"modiret\", \"is_parent\": false, \"frame_id\": 2, \"parent_frame_id_list\": [], \"encoded_locals\": {\"lst\": [\"REF\", 3], \"i\": 2}, \"ordered_varnames\": [\"lst\", \"i\"], \"is_zombie\": false, \"is_highlighted\": true, \"unique_hash\": \"modiret_f2\"}], \"heap\": {\"3\": [\"LIST\", 14, 10, 12], \"1\": [\"FUNCTION\", \"modiret(lst)\", null], \"2\": [\"LIST\", 16, 14, 10]}, \"stdout\": \"res : [16, 14, 10]\\nla  : [16, 14, 10]\\n\\n\"}, {\"line\": 7, \"event\": \"step_line\", \"func_name\": \"modiret\", \"globals\": {\"modiret\": [\"REF\", 1], \"la\": [\"REF\", 2], \"res\": [\"REF\", 2], \"lb\": [\"REF\", 3]}, \"ordered_globals\": [\"modiret\", \"la\", \"res\", \"lb\"], \"stack_to_render\": [{\"func_name\": \"modiret\", \"is_parent\": false, \"frame_id\": 2, \"parent_frame_id_list\": [], \"encoded_locals\": {\"lst\": [\"REF\", 3], \"i\": 2}, \"ordered_varnames\": [\"lst\", \"i\"], \"is_zombie\": false, \"is_highlighted\": true, \"unique_hash\": \"modiret_f2\"}], \"heap\": {\"3\": [\"LIST\", 14, 10, 12], \"1\": [\"FUNCTION\", \"modiret(lst)\", null], \"2\": [\"LIST\", 16, 14, 10]}, \"stdout\": \"res : [16, 14, 10]\\nla  : [16, 14, 10]\\n\\n\"}, {\"line\": 7, \"event\": \"return\", \"func_name\": \"modiret\", \"globals\": {\"modiret\": [\"REF\", 1], \"la\": [\"REF\", 2], \"res\": [\"REF\", 2], \"lb\": [\"REF\", 3]}, \"ordered_globals\": [\"modiret\", \"la\", \"res\", \"lb\"], \"stack_to_render\": [{\"func_name\": \"modiret\", \"is_parent\": false, \"frame_id\": 2, \"parent_frame_id_list\": [], \"encoded_locals\": {\"lst\": [\"REF\", 3], \"i\": 2, \"__return__\": [\"REF\", 3]}, \"ordered_varnames\": [\"lst\", \"i\", \"__return__\"], \"is_zombie\": false, \"is_highlighted\": true, \"unique_hash\": \"modiret_f2\"}], \"heap\": {\"3\": [\"LIST\", 14, 10, 12], \"1\": [\"FUNCTION\", \"modiret(lst)\", null], \"2\": [\"LIST\", 16, 14, 10]}, \"stdout\": \"res : [16, 14, 10]\\nla  : [16, 14, 10]\\n\\n\"}, {\"line\": 17, \"event\": \"step_line\", \"func_name\": \"<module>\", \"globals\": {\"modiret\": [\"REF\", 1], \"la\": [\"REF\", 2], \"res\": [\"REF\", 2], \"lb\": [\"REF\", 3]}, \"ordered_globals\": [\"modiret\", \"la\", \"res\", \"lb\"], \"stack_to_render\": [], \"heap\": {\"1\": [\"FUNCTION\", \"modiret(lst)\", null], \"2\": [\"LIST\", 16, 14, 10], \"3\": [\"LIST\", 12, 10, 14]}, \"stdout\": \"res : [16, 14, 10]\\nla  : [16, 14, 10]\\n\\n\"}, {\"line\": 17, \"event\": \"return\", \"func_name\": \"<module>\", \"globals\": {\"modiret\": [\"REF\", 1], \"la\": [\"REF\", 2], \"res\": [\"REF\", 2], \"lb\": [\"REF\", 3]}, \"ordered_globals\": [\"modiret\", \"la\", \"res\", \"lb\"], \"stack_to_render\": [], \"heap\": {\"1\": [\"FUNCTION\", \"modiret(lst)\", null], \"2\": [\"LIST\", 16, 14, 10], \"3\": [\"LIST\", 12, 10, 14]}, \"stdout\": \"res : [16, 14, 10]\\nla  : [16, 14, 10]\\n\\nlb  : [12, 10, 14]\\n\"}]}\n",
       "        </script>\n",
       "        <div id=\"jmbc629209-7ec9-47c2-a53e-f4fa00819248\" class=\"pytutorVisualizer\"> </div>\n",
       " \n",
       "        <style>\n",
       "        .vizLayoutTd {\n",
       "            background-color: #fff !important;\n",
       "        }\n",
       "\n",
       "        #pyStdout {            \n",
       "            min-height:25px;\n",
       "        }\n",
       "\n",
       "        /* 'Edit this code' link, hiding because replaces browser tab !!!*/\n",
       "        #editCodeLinkDiv {\n",
       "            display:none;  \n",
       "        }\n",
       "        </style>   \n",
       "                            \n",
       "        <script>\n",
       "        (function(){\n",
       "\n",
       "            var trace = JSON.parse(document.getElementById('json-jmbc629209-7ec9-47c2-a53e-f4fa00819248').innerHTML);                                        \n",
       "            // NOTE 1: id without #\n",
       "            // NOTE 2 - maybe there are more predictable ways, but this will work anyway\n",
       "            //        - id should be number\n",
       "            visualizerIdOverride = Math.trunc(Math.random() * 100000000000)\n",
       "            addVisualizerToPage(trace, 'jmbc629209-7ec9-47c2-a53e-f4fa00819248',{'embeddedMode' : false,\n",
       "                                             'visualizerIdOverride':visualizerIdOverride})  \n",
       "            \n",
       "            \n",
       "            // set overflow for pytuts - need to do in python as css \n",
       "            // does not allow parent selection\n",
       "            var pytuts = $('.pytutorVisualizer')\n",
       "            pytuts.closest('div.output_html.rendered_html.output_result')\n",
       "                    .css('overflow-x', 'visible')\n",
       "        \n",
       "            //pytuts.closest('div.output_html.rendered_html.output_result')\n",
       "            //      .css('background-color','red')                \n",
       "            \n",
       "        })()\n",
       "        </script>\n",
       "                \n",
       "                "
      ],
      "text/plain": [
       "<IPython.core.display.HTML object>"
      ]
     },
     "execution_count": 5,
     "metadata": {},
     "output_type": "execute_result"
    }
   ],
   "source": [
    "def modiret(lst):\n",
    "    \"\"\"MODIFY lst by doubling all its elements, and finally RETURNS it\n",
    "    \"\"\"\n",
    "    for i in range(len(lst)):\n",
    "        lst[i] = lst[i] * 2\n",
    "    return lst\n",
    "\n",
    "la = [8,7,5]\n",
    "res = modiret(la)\n",
    "print(\"res :\", res)   # [16,14,10]  RETURNED the modified input\n",
    "print(\"la  :\", la)    # [16,14,10]  la input was MODIFIED !!\n",
    "\n",
    "print()\n",
    "lb = [7,5,6]\n",
    "modiret(lb).reverse()    # NOTE WE CAN CONCATENATE\n",
    "print(\"lb  :\", lb)                # [12,10,14]  lb input was MODIFIED !!\n",
    "#modiret(lb).reverse().append(16)  # ... but this wouldn't work. Why?\n",
    "\n",
    "jupman.pytut()"
   ]
  },
  {
   "cell_type": "markdown",
   "id": "52e622c0",
   "metadata": {},
   "source": [
    "### MODIFY AND RETURN A PART\n",
    "\n",
    "MODIFY the input and RETURN a part of it\n",
    "\n",
    "- DOES NOT print anything!"
   ]
  },
  {
   "cell_type": "code",
   "execution_count": 6,
   "id": "3e1f33ce",
   "metadata": {},
   "outputs": [
    {
     "name": "stdout",
     "output_type": "stream",
     "text": [
      "res   : c\n",
      "la    : ['a', 'b']\n"
     ]
    },
    {
     "data": {
      "text/html": [
       "\n",
       "        <script src=\"../_static/js/pytutor-embed.bundle.min.js\" type=\"application/javascript\"></script>\n",
       "     \n",
       "        <script id=\"json-jm4c150b18-0604-4c60-b2a4-034c2f395be2\" type=\"application/json\" >\n",
       "            {\"code\": \" \\ndef modirip(lst):\\n    \\\"\\\"\\\"MODIFY lst by sorting it and removing the greatest element. Finally, RETURN the removed element.    \\n    \\\"\\\"\\\"\\n    lst.sort()\\n    ret = lst[-1]\\n    lst.pop()\\n    return ret    \\n\\nla = ['b','c','a']\\nres = modirip(la)     \\nprint(\\\"res   :\\\", res)    # 'c'          RETURNED a piece of the input\\nprint(\\\"la    :\\\", la)     # ['a','b']    la was MODIFIED!!\", \"trace\": [{\"line\": 2, \"event\": \"step_line\", \"func_name\": \"<module>\", \"globals\": {}, \"ordered_globals\": [], \"stack_to_render\": [], \"heap\": {}, \"stdout\": \"\"}, {\"line\": 10, \"event\": \"step_line\", \"func_name\": \"<module>\", \"globals\": {\"modirip\": [\"REF\", 1]}, \"ordered_globals\": [\"modirip\"], \"stack_to_render\": [], \"heap\": {\"1\": [\"FUNCTION\", \"modirip(lst)\", null]}, \"stdout\": \"\"}, {\"line\": 11, \"event\": \"step_line\", \"func_name\": \"<module>\", \"globals\": {\"modirip\": [\"REF\", 1], \"la\": [\"REF\", 2]}, \"ordered_globals\": [\"modirip\", \"la\"], \"stack_to_render\": [], \"heap\": {\"1\": [\"FUNCTION\", \"modirip(lst)\", null], \"2\": [\"LIST\", \"b\", \"c\", \"a\"]}, \"stdout\": \"\"}, {\"line\": 2, \"event\": \"call\", \"func_name\": \"modirip\", \"globals\": {\"modirip\": [\"REF\", 1], \"la\": [\"REF\", 2]}, \"ordered_globals\": [\"modirip\", \"la\"], \"stack_to_render\": [{\"func_name\": \"modirip\", \"is_parent\": false, \"frame_id\": 1, \"parent_frame_id_list\": [], \"encoded_locals\": {\"lst\": [\"REF\", 2]}, \"ordered_varnames\": [\"lst\"], \"is_zombie\": false, \"is_highlighted\": true, \"unique_hash\": \"modirip_f1\"}], \"heap\": {\"2\": [\"LIST\", \"b\", \"c\", \"a\"], \"1\": [\"FUNCTION\", \"modirip(lst)\", null]}, \"stdout\": \"\"}, {\"line\": 5, \"event\": \"step_line\", \"func_name\": \"modirip\", \"globals\": {\"modirip\": [\"REF\", 1], \"la\": [\"REF\", 2]}, \"ordered_globals\": [\"modirip\", \"la\"], \"stack_to_render\": [{\"func_name\": \"modirip\", \"is_parent\": false, \"frame_id\": 1, \"parent_frame_id_list\": [], \"encoded_locals\": {\"lst\": [\"REF\", 2]}, \"ordered_varnames\": [\"lst\"], \"is_zombie\": false, \"is_highlighted\": true, \"unique_hash\": \"modirip_f1\"}], \"heap\": {\"2\": [\"LIST\", \"b\", \"c\", \"a\"], \"1\": [\"FUNCTION\", \"modirip(lst)\", null]}, \"stdout\": \"\"}, {\"line\": 6, \"event\": \"step_line\", \"func_name\": \"modirip\", \"globals\": {\"modirip\": [\"REF\", 1], \"la\": [\"REF\", 2]}, \"ordered_globals\": [\"modirip\", \"la\"], \"stack_to_render\": [{\"func_name\": \"modirip\", \"is_parent\": false, \"frame_id\": 1, \"parent_frame_id_list\": [], \"encoded_locals\": {\"lst\": [\"REF\", 2]}, \"ordered_varnames\": [\"lst\"], \"is_zombie\": false, \"is_highlighted\": true, \"unique_hash\": \"modirip_f1\"}], \"heap\": {\"2\": [\"LIST\", \"a\", \"b\", \"c\"], \"1\": [\"FUNCTION\", \"modirip(lst)\", null]}, \"stdout\": \"\"}, {\"line\": 7, \"event\": \"step_line\", \"func_name\": \"modirip\", \"globals\": {\"modirip\": [\"REF\", 1], \"la\": [\"REF\", 2]}, \"ordered_globals\": [\"modirip\", \"la\"], \"stack_to_render\": [{\"func_name\": \"modirip\", \"is_parent\": false, \"frame_id\": 1, \"parent_frame_id_list\": [], \"encoded_locals\": {\"lst\": [\"REF\", 2], \"ret\": \"c\"}, \"ordered_varnames\": [\"lst\", \"ret\"], \"is_zombie\": false, \"is_highlighted\": true, \"unique_hash\": \"modirip_f1\"}], \"heap\": {\"2\": [\"LIST\", \"a\", \"b\", \"c\"], \"1\": [\"FUNCTION\", \"modirip(lst)\", null]}, \"stdout\": \"\"}, {\"line\": 8, \"event\": \"step_line\", \"func_name\": \"modirip\", \"globals\": {\"modirip\": [\"REF\", 1], \"la\": [\"REF\", 2]}, \"ordered_globals\": [\"modirip\", \"la\"], \"stack_to_render\": [{\"func_name\": \"modirip\", \"is_parent\": false, \"frame_id\": 1, \"parent_frame_id_list\": [], \"encoded_locals\": {\"lst\": [\"REF\", 2], \"ret\": \"c\"}, \"ordered_varnames\": [\"lst\", \"ret\"], \"is_zombie\": false, \"is_highlighted\": true, \"unique_hash\": \"modirip_f1\"}], \"heap\": {\"2\": [\"LIST\", \"a\", \"b\"], \"1\": [\"FUNCTION\", \"modirip(lst)\", null]}, \"stdout\": \"\"}, {\"line\": 8, \"event\": \"return\", \"func_name\": \"modirip\", \"globals\": {\"modirip\": [\"REF\", 1], \"la\": [\"REF\", 2]}, \"ordered_globals\": [\"modirip\", \"la\"], \"stack_to_render\": [{\"func_name\": \"modirip\", \"is_parent\": false, \"frame_id\": 1, \"parent_frame_id_list\": [], \"encoded_locals\": {\"lst\": [\"REF\", 2], \"ret\": \"c\", \"__return__\": \"c\"}, \"ordered_varnames\": [\"lst\", \"ret\", \"__return__\"], \"is_zombie\": false, \"is_highlighted\": true, \"unique_hash\": \"modirip_f1\"}], \"heap\": {\"2\": [\"LIST\", \"a\", \"b\"], \"1\": [\"FUNCTION\", \"modirip(lst)\", null]}, \"stdout\": \"\"}, {\"line\": 12, \"event\": \"step_line\", \"func_name\": \"<module>\", \"globals\": {\"modirip\": [\"REF\", 1], \"la\": [\"REF\", 2], \"res\": \"c\"}, \"ordered_globals\": [\"modirip\", \"la\", \"res\"], \"stack_to_render\": [], \"heap\": {\"1\": [\"FUNCTION\", \"modirip(lst)\", null], \"2\": [\"LIST\", \"a\", \"b\"]}, \"stdout\": \"\"}, {\"line\": 13, \"event\": \"step_line\", \"func_name\": \"<module>\", \"globals\": {\"modirip\": [\"REF\", 1], \"la\": [\"REF\", 2], \"res\": \"c\"}, \"ordered_globals\": [\"modirip\", \"la\", \"res\"], \"stack_to_render\": [], \"heap\": {\"1\": [\"FUNCTION\", \"modirip(lst)\", null], \"2\": [\"LIST\", \"a\", \"b\"]}, \"stdout\": \"res   : c\\n\"}, {\"line\": 13, \"event\": \"return\", \"func_name\": \"<module>\", \"globals\": {\"modirip\": [\"REF\", 1], \"la\": [\"REF\", 2], \"res\": \"c\"}, \"ordered_globals\": [\"modirip\", \"la\", \"res\"], \"stack_to_render\": [], \"heap\": {\"1\": [\"FUNCTION\", \"modirip(lst)\", null], \"2\": [\"LIST\", \"a\", \"b\"]}, \"stdout\": \"res   : c\\nla    : ['a', 'b']\\n\"}]}\n",
       "        </script>\n",
       "        <div id=\"jm4c150b18-0604-4c60-b2a4-034c2f395be2\" class=\"pytutorVisualizer\"> </div>\n",
       " \n",
       "        <style>\n",
       "        .vizLayoutTd {\n",
       "            background-color: #fff !important;\n",
       "        }\n",
       "\n",
       "        #pyStdout {            \n",
       "            min-height:25px;\n",
       "        }\n",
       "\n",
       "        /* 'Edit this code' link, hiding because replaces browser tab !!!*/\n",
       "        #editCodeLinkDiv {\n",
       "            display:none;  \n",
       "        }\n",
       "        </style>   \n",
       "                            \n",
       "        <script>\n",
       "        (function(){\n",
       "\n",
       "            var trace = JSON.parse(document.getElementById('json-jm4c150b18-0604-4c60-b2a4-034c2f395be2').innerHTML);                                        \n",
       "            // NOTE 1: id without #\n",
       "            // NOTE 2 - maybe there are more predictable ways, but this will work anyway\n",
       "            //        - id should be number\n",
       "            visualizerIdOverride = Math.trunc(Math.random() * 100000000000)\n",
       "            addVisualizerToPage(trace, 'jm4c150b18-0604-4c60-b2a4-034c2f395be2',{'embeddedMode' : false,\n",
       "                                             'visualizerIdOverride':visualizerIdOverride})  \n",
       "            \n",
       "            \n",
       "            // set overflow for pytuts - need to do in python as css \n",
       "            // does not allow parent selection\n",
       "            var pytuts = $('.pytutorVisualizer')\n",
       "            pytuts.closest('div.output_html.rendered_html.output_result')\n",
       "                    .css('overflow-x', 'visible')\n",
       "        \n",
       "            //pytuts.closest('div.output_html.rendered_html.output_result')\n",
       "            //      .css('background-color','red')                \n",
       "            \n",
       "        })()\n",
       "        </script>\n",
       "                \n",
       "                "
      ],
      "text/plain": [
       "<IPython.core.display.HTML object>"
      ]
     },
     "execution_count": 6,
     "metadata": {},
     "output_type": "execute_result"
    }
   ],
   "source": [
    "def modirip(lst):\n",
    "    \"\"\"MODIFY lst by sorting it and removing the greatest element. Finally, RETURN the removed element.    \n",
    "    \"\"\"\n",
    "    lst.sort()\n",
    "    ret = lst[-1]\n",
    "    lst.pop()\n",
    "    return ret    \n",
    "\n",
    "la = ['b','c','a']\n",
    "res = modirip(la)     \n",
    "print(\"res   :\", res)    # 'c'          RETURNED a piece of the input\n",
    "print(\"la    :\", la)     # ['a','b']    la was MODIFIED!!\n",
    "jupman.pytut()"
   ]
  },
  {
   "cell_type": "markdown",
   "id": "75649e38",
   "metadata": {},
   "source": [
    "## Remember the commandments\n",
    "\n",
    "### III COMMANDMENT\n",
    "\n",
    "<div class=\"alert alert-info\" >\n",
    "\n",
    "**You shall never ever reassign function parameters**\n",
    "\n",
    "</div>\n",
    "\n",
    "Never perform any of these assignments, as you risk losing the parameter passed during function call:"
   ]
  },
  {
   "cell_type": "code",
   "execution_count": 7,
   "id": "598fb903",
   "metadata": {},
   "outputs": [
    {
     "name": "stdout",
     "output_type": "stream",
     "text": [
      "666\n"
     ]
    }
   ],
   "source": [
    "def sin(my_int):\n",
    "    my_int = 666            # you lost the 5 passed from external call!\n",
    "    print(my_int)           # prints 666\n",
    "    \n",
    "x = 5\n",
    "sin(x)"
   ]
  },
  {
   "cell_type": "markdown",
   "id": "fd96718e",
   "metadata": {},
   "source": [
    "Same reasoning can be applied to all other types:"
   ]
  },
  {
   "cell_type": "code",
   "execution_count": 8,
   "id": "22c2e6bc",
   "metadata": {},
   "outputs": [],
   "source": [
    "def evil(my_string):\n",
    "    my_string = \"666\"          "
   ]
  },
  {
   "cell_type": "code",
   "execution_count": 9,
   "id": "605cfda0",
   "metadata": {},
   "outputs": [],
   "source": [
    "def disgrace(my_list):\n",
    "    my_list = [666]"
   ]
  },
  {
   "cell_type": "code",
   "execution_count": 10,
   "id": "4aa12902",
   "metadata": {},
   "outputs": [],
   "source": [
    "def delirium(my_dict):\n",
    "    my_dict = {\"evil\":666}"
   ]
  },
  {
   "cell_type": "markdown",
   "id": "afc39c24",
   "metadata": {},
   "source": [
    "For the sole case when you have composite parameters like lists or dictionaries, you can write like below IF AND ONLY IF the function description requires to MODIFY the internal elements of the parameter (like for example sorting a list in-place or changing the field of a dictionary)."
   ]
  },
  {
   "cell_type": "code",
   "execution_count": 11,
   "id": "68c786f9",
   "metadata": {},
   "outputs": [
    {
     "name": "stdout",
     "output_type": "stream",
     "text": [
      "[8, 5, 9]\n"
     ]
    }
   ],
   "source": [
    "# MODIFY my_list in some way\n",
    "def allowed(my_list):\n",
    "    my_list[2] = 9\n",
    "    \n",
    "outside = [8,5,7]\n",
    "allowed(outside)\n",
    "print(outside)"
   ]
  },
  {
   "cell_type": "markdown",
   "id": "8faacaee",
   "metadata": {},
   "source": [
    "On the other hand, if the function requires to RETURN a NEW object, you shall not fall into the temptation of modifying the input:"
   ]
  },
  {
   "cell_type": "code",
   "execution_count": 12,
   "id": "bc5f7e80",
   "metadata": {},
   "outputs": [],
   "source": [
    "\n",
    "# RETURN a NEW sorted list\n",
    "def pain(my_list):\n",
    "    my_list.sort()    # BAD, you are modifying the input list instead of creating a new one!\n",
    "    return my_list"
   ]
  },
  {
   "cell_type": "code",
   "execution_count": 13,
   "id": "9a349708",
   "metadata": {},
   "outputs": [],
   "source": [
    "# RETURN a NEW list\n",
    "def crisis(my_list):\n",
    "    my_list[0] = 5    # BAD, as above\n",
    "    return my_list"
   ]
  },
  {
   "cell_type": "code",
   "execution_count": 14,
   "id": "54ed77d4",
   "metadata": {},
   "outputs": [],
   "source": [
    "# RETURN a NEW dictionary\n",
    "def torment(my_dict):\n",
    "    my_dict['a'] = 6  # BAD, you are modifying the input dictionary instead of creating a new one!\n",
    "    return my_dict"
   ]
  },
  {
   "cell_type": "code",
   "execution_count": 15,
   "id": "57c733a7",
   "metadata": {},
   "outputs": [],
   "source": [
    "# RETURN a NEW class instance\n",
    "def desperation(my_instance):\n",
    "    my_instance.my_field = 6  # BAD, you are modifying the input object \n",
    "                              #      instead of creating a new one!\n",
    "    return my_instance"
   ]
  },
  {
   "cell_type": "markdown",
   "id": "df19ef2e",
   "metadata": {},
   "source": [
    "### IV COMMANDMENT\n",
    "\n",
    "<div class=\"alert alert-info\" >\n",
    "\n",
    "**You shall never ever reassign values to function calls or methods**\n",
    "</div>\n",
    "\n",
    "\n",
    "_WRONG:_\n",
    "\n",
    "```python\n",
    "\n",
    "my_function() = 666\n",
    "my_function() = 'evil'\n",
    "my_function() = [666]\n",
    "\n",
    "```\n",
    "\n",
    "_CORRECT:_ \n",
    "\n",
    "\n",
    "```python\n",
    "x = 5\n",
    "y = my_fun()\n",
    "z = []\n",
    "z[0] = 7\n",
    "d = dict()\n",
    "d[\"a\"] = 6\n",
    "```\n",
    "\n",
    "Function calls like `my_function()` return calculations results and store them in a box in memory which is only created for the purposes of the call, and Python will not allow us to reuse it like it were a variabile.\n",
    "\n",
    "Whenever you see `name()` in the left part, it _cannot_ be followed by the equality sign `=` (but it can be followed by two equals sign `==` if you are doing a comparison)."
   ]
  },
  {
   "cell_type": "markdown",
   "id": "0ef5b510",
   "metadata": {},
   "source": [
    "### V COMMANDMENT\n",
    "\n",
    "<div class=\"alert alert-info\" >\n",
    "\n",
    "**You shall never ever redefine system functions**\n",
    "</div>\n",
    "\n",
    "Python has several system defined functions. For example `list` is a Python type: as such, you can use it for example as a function to convert some type to a list:"
   ]
  },
  {
   "cell_type": "code",
   "execution_count": 16,
   "id": "c3bbb2eb",
   "metadata": {},
   "outputs": [
    {
     "data": {
      "text/plain": [
       "['c', 'i', 'a', 'o']"
      ]
     },
     "execution_count": 16,
     "metadata": {},
     "output_type": "execute_result"
    }
   ],
   "source": [
    "list(\"ciao\")"
   ]
  },
  {
   "cell_type": "markdown",
   "id": "01c56a00",
   "metadata": {},
   "source": [
    "When you allow the forces of evil to take the best of you, you might be tempted to use reserved words like `list` as a variable for you own miserable purposes: "
   ]
  },
  {
   "cell_type": "markdown",
   "id": "3272c480",
   "metadata": {},
   "source": [
    "```python\n",
    "list = ['my', 'pitiful', 'list']\n",
    "```"
   ]
  },
  {
   "cell_type": "markdown",
   "id": "8e46f446",
   "metadata": {},
   "source": [
    "Python allows you to do so, but we do **not**, for the consequences are disastrous.\n",
    "\n",
    "For example, if you now attempt to use `list` for its intended purpose like casting to list, it won't work anymore:"
   ]
  },
  {
   "cell_type": "markdown",
   "id": "a3589255",
   "metadata": {},
   "source": [
    "```python\n",
    "list(\"ciao\")\n",
    "```\n",
    "```\n",
    "---------------------------------------------------------------------------\n",
    "TypeError                                 Traceback (most recent call last)\n",
    "<ipython-input-4-c63add832213> in <module>()\n",
    "----> 1 list(\"ciao\")\n",
    "\n",
    "TypeError: 'list' object is not callable\n",
    "\n",
    "```"
   ]
  },
  {
   "cell_type": "markdown",
   "id": "4b4b0f4a",
   "metadata": {},
   "source": [
    "In particular, we recommend to **not redefine** these precious functions:\n",
    "\n",
    "* `bool`, `int`,`float`,`tuple`,`str`,`list`,`set`,`dict`\n",
    "* `max`, `min`, `sum`\n",
    "* `next`, `iter`\n",
    "* `id`, `dir`, `vars`,`help`"
   ]
  },
  {
   "cell_type": "markdown",
   "id": "ec0b21f3",
   "metadata": {},
   "source": [
    "## Immutable values\n",
    "\n",
    "Basic types such integers, float, booleans are immutable,  as well as some sequences like strings and tuples : when you are asked to RETURN one of these types, say a string, the only thing you can do is obtaining NEW strings based upon the parameters you receive. Let's see an example."
   ]
  },
  {
   "cell_type": "markdown",
   "id": "41df9f18",
   "metadata": {},
   "source": [
    "Suppose we are asked to implement this function:"
   ]
  },
  {
   "cell_type": "markdown",
   "id": "64c4743d",
   "metadata": {},
   "source": [
    "> Write a function `my_upper` which RETURNS the passed string as uppercase.\n",
    "\n",
    "We could implement it like this:"
   ]
  },
  {
   "cell_type": "code",
   "execution_count": 17,
   "id": "64197fc0",
   "metadata": {},
   "outputs": [],
   "source": [
    "# Run this cell to have Python Tutor working\n",
    "import jupman;"
   ]
  },
  {
   "cell_type": "code",
   "execution_count": 18,
   "id": "7ad0d871",
   "metadata": {},
   "outputs": [
    {
     "name": "stdout",
     "output_type": "stream",
     "text": [
      "         result: SAILOR\n",
      "external_string: sailor\n"
     ]
    },
    {
     "data": {
      "text/html": [
       "\n",
       "        <script src=\"../_static/js/pytutor-embed.bundle.min.js\" type=\"application/javascript\"></script>\n",
       "     \n",
       "        <script id=\"json-jm92efa95f-454e-4fc8-b8b0-2e3dd8fa28d3\" type=\"application/json\" >\n",
       "            {\"code\": \" \\nexternal_string = \\\"sailor\\\"\\n\\ndef my_upper(s):\\n    ret = s.upper()   # string methods create NEW string\\n    return ret        \\n    \\nresult = my_upper(external_string)\\n\\nprint('         result:', result)\\nprint('external_string:', external_string)\", \"trace\": [{\"line\": 2, \"event\": \"step_line\", \"func_name\": \"<module>\", \"globals\": {}, \"ordered_globals\": [], \"stack_to_render\": [], \"heap\": {}, \"stdout\": \"\"}, {\"line\": 4, \"event\": \"step_line\", \"func_name\": \"<module>\", \"globals\": {\"external_string\": \"sailor\"}, \"ordered_globals\": [\"external_string\"], \"stack_to_render\": [], \"heap\": {}, \"stdout\": \"\"}, {\"line\": 8, \"event\": \"step_line\", \"func_name\": \"<module>\", \"globals\": {\"external_string\": \"sailor\", \"my_upper\": [\"REF\", 1]}, \"ordered_globals\": [\"external_string\", \"my_upper\"], \"stack_to_render\": [], \"heap\": {\"1\": [\"FUNCTION\", \"my_upper(s)\", null]}, \"stdout\": \"\"}, {\"line\": 4, \"event\": \"call\", \"func_name\": \"my_upper\", \"globals\": {\"external_string\": \"sailor\", \"my_upper\": [\"REF\", 1]}, \"ordered_globals\": [\"external_string\", \"my_upper\"], \"stack_to_render\": [{\"func_name\": \"my_upper\", \"is_parent\": false, \"frame_id\": 1, \"parent_frame_id_list\": [], \"encoded_locals\": {\"s\": \"sailor\"}, \"ordered_varnames\": [\"s\"], \"is_zombie\": false, \"is_highlighted\": true, \"unique_hash\": \"my_upper_f1\"}], \"heap\": {\"1\": [\"FUNCTION\", \"my_upper(s)\", null]}, \"stdout\": \"\"}, {\"line\": 5, \"event\": \"step_line\", \"func_name\": \"my_upper\", \"globals\": {\"external_string\": \"sailor\", \"my_upper\": [\"REF\", 1]}, \"ordered_globals\": [\"external_string\", \"my_upper\"], \"stack_to_render\": [{\"func_name\": \"my_upper\", \"is_parent\": false, \"frame_id\": 1, \"parent_frame_id_list\": [], \"encoded_locals\": {\"s\": \"sailor\"}, \"ordered_varnames\": [\"s\"], \"is_zombie\": false, \"is_highlighted\": true, \"unique_hash\": \"my_upper_f1\"}], \"heap\": {\"1\": [\"FUNCTION\", \"my_upper(s)\", null]}, \"stdout\": \"\"}, {\"line\": 6, \"event\": \"step_line\", \"func_name\": \"my_upper\", \"globals\": {\"external_string\": \"sailor\", \"my_upper\": [\"REF\", 1]}, \"ordered_globals\": [\"external_string\", \"my_upper\"], \"stack_to_render\": [{\"func_name\": \"my_upper\", \"is_parent\": false, \"frame_id\": 1, \"parent_frame_id_list\": [], \"encoded_locals\": {\"s\": \"sailor\", \"ret\": \"SAILOR\"}, \"ordered_varnames\": [\"s\", \"ret\"], \"is_zombie\": false, \"is_highlighted\": true, \"unique_hash\": \"my_upper_f1\"}], \"heap\": {\"1\": [\"FUNCTION\", \"my_upper(s)\", null]}, \"stdout\": \"\"}, {\"line\": 6, \"event\": \"return\", \"func_name\": \"my_upper\", \"globals\": {\"external_string\": \"sailor\", \"my_upper\": [\"REF\", 1]}, \"ordered_globals\": [\"external_string\", \"my_upper\"], \"stack_to_render\": [{\"func_name\": \"my_upper\", \"is_parent\": false, \"frame_id\": 1, \"parent_frame_id_list\": [], \"encoded_locals\": {\"s\": \"sailor\", \"ret\": \"SAILOR\", \"__return__\": \"SAILOR\"}, \"ordered_varnames\": [\"s\", \"ret\", \"__return__\"], \"is_zombie\": false, \"is_highlighted\": true, \"unique_hash\": \"my_upper_f1\"}], \"heap\": {\"1\": [\"FUNCTION\", \"my_upper(s)\", null]}, \"stdout\": \"\"}, {\"line\": 10, \"event\": \"step_line\", \"func_name\": \"<module>\", \"globals\": {\"external_string\": \"sailor\", \"my_upper\": [\"REF\", 1], \"result\": \"SAILOR\"}, \"ordered_globals\": [\"external_string\", \"my_upper\", \"result\"], \"stack_to_render\": [], \"heap\": {\"1\": [\"FUNCTION\", \"my_upper(s)\", null]}, \"stdout\": \"\"}, {\"line\": 11, \"event\": \"step_line\", \"func_name\": \"<module>\", \"globals\": {\"external_string\": \"sailor\", \"my_upper\": [\"REF\", 1], \"result\": \"SAILOR\"}, \"ordered_globals\": [\"external_string\", \"my_upper\", \"result\"], \"stack_to_render\": [], \"heap\": {\"1\": [\"FUNCTION\", \"my_upper(s)\", null]}, \"stdout\": \"         result: SAILOR\\n\"}, {\"line\": 11, \"event\": \"return\", \"func_name\": \"<module>\", \"globals\": {\"external_string\": \"sailor\", \"my_upper\": [\"REF\", 1], \"result\": \"SAILOR\"}, \"ordered_globals\": [\"external_string\", \"my_upper\", \"result\"], \"stack_to_render\": [], \"heap\": {\"1\": [\"FUNCTION\", \"my_upper(s)\", null]}, \"stdout\": \"         result: SAILOR\\nexternal_string: sailor\\n\"}]}\n",
       "        </script>\n",
       "        <div id=\"jm92efa95f-454e-4fc8-b8b0-2e3dd8fa28d3\" class=\"pytutorVisualizer\"> </div>\n",
       " \n",
       "        <style>\n",
       "        .vizLayoutTd {\n",
       "            background-color: #fff !important;\n",
       "        }\n",
       "\n",
       "        #pyStdout {            \n",
       "            min-height:25px;\n",
       "        }\n",
       "\n",
       "        /* 'Edit this code' link, hiding because replaces browser tab !!!*/\n",
       "        #editCodeLinkDiv {\n",
       "            display:none;  \n",
       "        }\n",
       "        </style>   \n",
       "                            \n",
       "        <script>\n",
       "        (function(){\n",
       "\n",
       "            var trace = JSON.parse(document.getElementById('json-jm92efa95f-454e-4fc8-b8b0-2e3dd8fa28d3').innerHTML);                                        \n",
       "            // NOTE 1: id without #\n",
       "            // NOTE 2 - maybe there are more predictable ways, but this will work anyway\n",
       "            //        - id should be number\n",
       "            visualizerIdOverride = Math.trunc(Math.random() * 100000000000)\n",
       "            addVisualizerToPage(trace, 'jm92efa95f-454e-4fc8-b8b0-2e3dd8fa28d3',{'embeddedMode' : false,\n",
       "                                             'visualizerIdOverride':visualizerIdOverride})  \n",
       "            \n",
       "            \n",
       "            // set overflow for pytuts - need to do in python as css \n",
       "            // does not allow parent selection\n",
       "            var pytuts = $('.pytutorVisualizer')\n",
       "            pytuts.closest('div.output_html.rendered_html.output_result')\n",
       "                    .css('overflow-x', 'visible')\n",
       "        \n",
       "            //pytuts.closest('div.output_html.rendered_html.output_result')\n",
       "            //      .css('background-color','red')                \n",
       "            \n",
       "        })()\n",
       "        </script>\n",
       "                \n",
       "                "
      ],
      "text/plain": [
       "<IPython.core.display.HTML object>"
      ]
     },
     "execution_count": 18,
     "metadata": {},
     "output_type": "execute_result"
    }
   ],
   "source": [
    "external_string = \"sailor\"\n",
    "\n",
    "def my_upper(s):\n",
    "    ret = s.upper()   # string methods create NEW string\n",
    "    return ret        \n",
    "    \n",
    "result = my_upper(external_string)\n",
    "\n",
    "print('         result:', result)\n",
    "print('external_string:', external_string)\n",
    "\n",
    "jupman.pytut()"
   ]
  },
  {
   "cell_type": "markdown",
   "id": "09751975",
   "metadata": {},
   "source": [
    "Notice some things:\n",
    "\n",
    "- the `external_string` didn't change\n",
    "- we didn't write `s = ` inside the function body, as the [IV COMMANDMENT](https://en.softpython.org/commandments.html#IV-COMMANDMENT) prescribes not to reassign parameters\n",
    "- we didn't refer to `external_string` inside the function body: doing so would have defeated the purpose of functions, which is to isolate them from outside world."
   ]
  },
  {
   "cell_type": "markdown",
   "id": "00f668a3",
   "metadata": {},
   "source": [
    "### Changing the world: fail / 1\n",
    "\n",
    "What if we actually did want to change the assignment of `external_string` ? \n",
    "\n",
    "You might be tempted to write something like an assignment `s =` right inside the function. The following code will **not** work."
   ]
  },
  {
   "cell_type": "markdown",
   "id": "3d013048",
   "metadata": {},
   "source": [
    "**QUESTION**: Why? Try to answer before checking execution in Python Tutor."
   ]
  },
  {
   "cell_type": "raw",
   "id": "cc812d57",
   "metadata": {
    "format": "text/html"
   },
   "source": [
    "<a  class=\"jupman-sol jupman-sol-toggler\" \n",
    " onclick=\"jupman.toggleSolution(this);\" \n",
    " data-jupman-show=\"Show answer\" data-jupman-hide=\"Hide\">Show answer</a><div class=\"jupman-sol jupman-sol-question\" style=\"display:none\">  "
   ]
  },
  {
   "cell_type": "markdown",
   "id": "c2b3ce17",
   "metadata": {},
   "source": [
    "**ANSWER**: \n",
    "    \n",
    "`s = s.upper()` only MODIFIES the assignment `s` of the function call frame, it has no effect on outside world"
   ]
  },
  {
   "cell_type": "raw",
   "id": "bbd6a1d3",
   "metadata": {
    "format": "text/html"
   },
   "source": [
    "</div>"
   ]
  },
  {
   "cell_type": "code",
   "execution_count": 19,
   "id": "d4f8ad0a",
   "metadata": {},
   "outputs": [
    {
     "name": "stdout",
     "output_type": "stream",
     "text": [
      "         result: SAILOR\n",
      "external_string: sailor\n"
     ]
    },
    {
     "data": {
      "text/html": [
       "\n",
       "        <script src=\"../_static/js/pytutor-embed.bundle.min.js\" type=\"application/javascript\"></script>\n",
       "     \n",
       "        <script id=\"json-jm9c823dfe-57d4-4897-ab48-a9d530946a4f\" type=\"application/json\" >\n",
       "            {\"code\": \" \\nexternal_string = \\\"sailor\\\"\\n\\ndef my_upper(s):\\n    s = s.upper()  \\n    return s\\n    \\nresult = my_upper(external_string)\\n\\nprint('         result:', result)\\nprint('external_string:', external_string)\", \"trace\": [{\"line\": 2, \"event\": \"step_line\", \"func_name\": \"<module>\", \"globals\": {}, \"ordered_globals\": [], \"stack_to_render\": [], \"heap\": {}, \"stdout\": \"\"}, {\"line\": 4, \"event\": \"step_line\", \"func_name\": \"<module>\", \"globals\": {\"external_string\": \"sailor\"}, \"ordered_globals\": [\"external_string\"], \"stack_to_render\": [], \"heap\": {}, \"stdout\": \"\"}, {\"line\": 8, \"event\": \"step_line\", \"func_name\": \"<module>\", \"globals\": {\"external_string\": \"sailor\", \"my_upper\": [\"REF\", 1]}, \"ordered_globals\": [\"external_string\", \"my_upper\"], \"stack_to_render\": [], \"heap\": {\"1\": [\"FUNCTION\", \"my_upper(s)\", null]}, \"stdout\": \"\"}, {\"line\": 4, \"event\": \"call\", \"func_name\": \"my_upper\", \"globals\": {\"external_string\": \"sailor\", \"my_upper\": [\"REF\", 1]}, \"ordered_globals\": [\"external_string\", \"my_upper\"], \"stack_to_render\": [{\"func_name\": \"my_upper\", \"is_parent\": false, \"frame_id\": 1, \"parent_frame_id_list\": [], \"encoded_locals\": {\"s\": \"sailor\"}, \"ordered_varnames\": [\"s\"], \"is_zombie\": false, \"is_highlighted\": true, \"unique_hash\": \"my_upper_f1\"}], \"heap\": {\"1\": [\"FUNCTION\", \"my_upper(s)\", null]}, \"stdout\": \"\"}, {\"line\": 5, \"event\": \"step_line\", \"func_name\": \"my_upper\", \"globals\": {\"external_string\": \"sailor\", \"my_upper\": [\"REF\", 1]}, \"ordered_globals\": [\"external_string\", \"my_upper\"], \"stack_to_render\": [{\"func_name\": \"my_upper\", \"is_parent\": false, \"frame_id\": 1, \"parent_frame_id_list\": [], \"encoded_locals\": {\"s\": \"sailor\"}, \"ordered_varnames\": [\"s\"], \"is_zombie\": false, \"is_highlighted\": true, \"unique_hash\": \"my_upper_f1\"}], \"heap\": {\"1\": [\"FUNCTION\", \"my_upper(s)\", null]}, \"stdout\": \"\"}, {\"line\": 6, \"event\": \"step_line\", \"func_name\": \"my_upper\", \"globals\": {\"external_string\": \"sailor\", \"my_upper\": [\"REF\", 1]}, \"ordered_globals\": [\"external_string\", \"my_upper\"], \"stack_to_render\": [{\"func_name\": \"my_upper\", \"is_parent\": false, \"frame_id\": 1, \"parent_frame_id_list\": [], \"encoded_locals\": {\"s\": \"SAILOR\"}, \"ordered_varnames\": [\"s\"], \"is_zombie\": false, \"is_highlighted\": true, \"unique_hash\": \"my_upper_f1\"}], \"heap\": {\"1\": [\"FUNCTION\", \"my_upper(s)\", null]}, \"stdout\": \"\"}, {\"line\": 6, \"event\": \"return\", \"func_name\": \"my_upper\", \"globals\": {\"external_string\": \"sailor\", \"my_upper\": [\"REF\", 1]}, \"ordered_globals\": [\"external_string\", \"my_upper\"], \"stack_to_render\": [{\"func_name\": \"my_upper\", \"is_parent\": false, \"frame_id\": 1, \"parent_frame_id_list\": [], \"encoded_locals\": {\"s\": \"SAILOR\", \"__return__\": \"SAILOR\"}, \"ordered_varnames\": [\"s\", \"__return__\"], \"is_zombie\": false, \"is_highlighted\": true, \"unique_hash\": \"my_upper_f1\"}], \"heap\": {\"1\": [\"FUNCTION\", \"my_upper(s)\", null]}, \"stdout\": \"\"}, {\"line\": 10, \"event\": \"step_line\", \"func_name\": \"<module>\", \"globals\": {\"external_string\": \"sailor\", \"my_upper\": [\"REF\", 1], \"result\": \"SAILOR\"}, \"ordered_globals\": [\"external_string\", \"my_upper\", \"result\"], \"stack_to_render\": [], \"heap\": {\"1\": [\"FUNCTION\", \"my_upper(s)\", null]}, \"stdout\": \"\"}, {\"line\": 11, \"event\": \"step_line\", \"func_name\": \"<module>\", \"globals\": {\"external_string\": \"sailor\", \"my_upper\": [\"REF\", 1], \"result\": \"SAILOR\"}, \"ordered_globals\": [\"external_string\", \"my_upper\", \"result\"], \"stack_to_render\": [], \"heap\": {\"1\": [\"FUNCTION\", \"my_upper(s)\", null]}, \"stdout\": \"         result: SAILOR\\n\"}, {\"line\": 11, \"event\": \"return\", \"func_name\": \"<module>\", \"globals\": {\"external_string\": \"sailor\", \"my_upper\": [\"REF\", 1], \"result\": \"SAILOR\"}, \"ordered_globals\": [\"external_string\", \"my_upper\", \"result\"], \"stack_to_render\": [], \"heap\": {\"1\": [\"FUNCTION\", \"my_upper(s)\", null]}, \"stdout\": \"         result: SAILOR\\nexternal_string: sailor\\n\"}]}\n",
       "        </script>\n",
       "        <div id=\"jm9c823dfe-57d4-4897-ab48-a9d530946a4f\" class=\"pytutorVisualizer\"> </div>\n",
       " \n",
       "        <style>\n",
       "        .vizLayoutTd {\n",
       "            background-color: #fff !important;\n",
       "        }\n",
       "\n",
       "        #pyStdout {            \n",
       "            min-height:25px;\n",
       "        }\n",
       "\n",
       "        /* 'Edit this code' link, hiding because replaces browser tab !!!*/\n",
       "        #editCodeLinkDiv {\n",
       "            display:none;  \n",
       "        }\n",
       "        </style>   \n",
       "                            \n",
       "        <script>\n",
       "        (function(){\n",
       "\n",
       "            var trace = JSON.parse(document.getElementById('json-jm9c823dfe-57d4-4897-ab48-a9d530946a4f').innerHTML);                                        \n",
       "            // NOTE 1: id without #\n",
       "            // NOTE 2 - maybe there are more predictable ways, but this will work anyway\n",
       "            //        - id should be number\n",
       "            visualizerIdOverride = Math.trunc(Math.random() * 100000000000)\n",
       "            addVisualizerToPage(trace, 'jm9c823dfe-57d4-4897-ab48-a9d530946a4f',{'embeddedMode' : false,\n",
       "                                             'visualizerIdOverride':visualizerIdOverride})  \n",
       "            \n",
       "            \n",
       "            // set overflow for pytuts - need to do in python as css \n",
       "            // does not allow parent selection\n",
       "            var pytuts = $('.pytutorVisualizer')\n",
       "            pytuts.closest('div.output_html.rendered_html.output_result')\n",
       "                    .css('overflow-x', 'visible')\n",
       "        \n",
       "            //pytuts.closest('div.output_html.rendered_html.output_result')\n",
       "            //      .css('background-color','red')                \n",
       "            \n",
       "        })()\n",
       "        </script>\n",
       "                \n",
       "                "
      ],
      "text/plain": [
       "<IPython.core.display.HTML object>"
      ]
     },
     "execution_count": 19,
     "metadata": {},
     "output_type": "execute_result"
    }
   ],
   "source": [
    "external_string = \"sailor\"\n",
    "\n",
    "def my_upper(s):\n",
    "    s = s.upper()  \n",
    "    return s\n",
    "    \n",
    "result = my_upper(external_string)\n",
    "\n",
    "print('         result:', result)\n",
    "print('external_string:', external_string)\n",
    "\n",
    "jupman.pytut()"
   ]
  },
  {
   "cell_type": "markdown",
   "id": "da1caf32",
   "metadata": {},
   "source": [
    "### Changing the world: fail / 2\n",
    "\n",
    "Let's see another temptation. You might try to assign `external_string =` right inside the function. The follwing code again will **not** work"
   ]
  },
  {
   "cell_type": "markdown",
   "id": "f4125c13",
   "metadata": {},
   "source": [
    "**QUESTION**: Why? Try to answer before checking execution in Python Tutor."
   ]
  },
  {
   "cell_type": "raw",
   "id": "ec83f693",
   "metadata": {
    "format": "text/html"
   },
   "source": [
    "<a  class=\"jupman-sol jupman-sol-toggler\" \n",
    " onclick=\"jupman.toggleSolution(this);\" \n",
    " data-jupman-show=\"Show answer\" data-jupman-hide=\"Hide\">Show answer</a><div class=\"jupman-sol jupman-sol-question\" style=\"display:none\">  "
   ]
  },
  {
   "cell_type": "markdown",
   "id": "df6e4ecb",
   "metadata": {},
   "source": [
    "**ANSWER**: \n",
    "\n",
    "`external_string = s.upper()` creates NEW variable `external_string` inside frame of function call"
   ]
  },
  {
   "cell_type": "raw",
   "id": "c9ded949",
   "metadata": {
    "format": "text/html"
   },
   "source": [
    "</div>"
   ]
  },
  {
   "cell_type": "code",
   "execution_count": 20,
   "id": "6414c1c3",
   "metadata": {},
   "outputs": [
    {
     "name": "stdout",
     "output_type": "stream",
     "text": [
      "         result: SAILOR\n",
      "external_string: sailor\n"
     ]
    },
    {
     "data": {
      "text/html": [
       "\n",
       "        <script src=\"../_static/js/pytutor-embed.bundle.min.js\" type=\"application/javascript\"></script>\n",
       "     \n",
       "        <script id=\"json-jm30e6bd07-8571-4a88-b45e-ebade4dc47ce\" type=\"application/json\" >\n",
       "            {\"code\": \" \\nexternal_string = \\\"sailor\\\"\\n\\ndef my_upper(s):\\n    external_string = s.upper()  \\n    return external_string\\n    \\nresult = my_upper(external_string)\\n\\nprint('         result:', result)\\nprint('external_string:', external_string)\", \"trace\": [{\"line\": 2, \"event\": \"step_line\", \"func_name\": \"<module>\", \"globals\": {}, \"ordered_globals\": [], \"stack_to_render\": [], \"heap\": {}, \"stdout\": \"\"}, {\"line\": 4, \"event\": \"step_line\", \"func_name\": \"<module>\", \"globals\": {\"external_string\": \"sailor\"}, \"ordered_globals\": [\"external_string\"], \"stack_to_render\": [], \"heap\": {}, \"stdout\": \"\"}, {\"line\": 8, \"event\": \"step_line\", \"func_name\": \"<module>\", \"globals\": {\"external_string\": \"sailor\", \"my_upper\": [\"REF\", 1]}, \"ordered_globals\": [\"external_string\", \"my_upper\"], \"stack_to_render\": [], \"heap\": {\"1\": [\"FUNCTION\", \"my_upper(s)\", null]}, \"stdout\": \"\"}, {\"line\": 4, \"event\": \"call\", \"func_name\": \"my_upper\", \"globals\": {\"external_string\": \"sailor\", \"my_upper\": [\"REF\", 1]}, \"ordered_globals\": [\"external_string\", \"my_upper\"], \"stack_to_render\": [{\"func_name\": \"my_upper\", \"is_parent\": false, \"frame_id\": 1, \"parent_frame_id_list\": [], \"encoded_locals\": {\"s\": \"sailor\"}, \"ordered_varnames\": [\"s\"], \"is_zombie\": false, \"is_highlighted\": true, \"unique_hash\": \"my_upper_f1\"}], \"heap\": {\"1\": [\"FUNCTION\", \"my_upper(s)\", null]}, \"stdout\": \"\"}, {\"line\": 5, \"event\": \"step_line\", \"func_name\": \"my_upper\", \"globals\": {\"external_string\": \"sailor\", \"my_upper\": [\"REF\", 1]}, \"ordered_globals\": [\"external_string\", \"my_upper\"], \"stack_to_render\": [{\"func_name\": \"my_upper\", \"is_parent\": false, \"frame_id\": 1, \"parent_frame_id_list\": [], \"encoded_locals\": {\"s\": \"sailor\"}, \"ordered_varnames\": [\"s\"], \"is_zombie\": false, \"is_highlighted\": true, \"unique_hash\": \"my_upper_f1\"}], \"heap\": {\"1\": [\"FUNCTION\", \"my_upper(s)\", null]}, \"stdout\": \"\"}, {\"line\": 6, \"event\": \"step_line\", \"func_name\": \"my_upper\", \"globals\": {\"external_string\": \"sailor\", \"my_upper\": [\"REF\", 1]}, \"ordered_globals\": [\"external_string\", \"my_upper\"], \"stack_to_render\": [{\"func_name\": \"my_upper\", \"is_parent\": false, \"frame_id\": 1, \"parent_frame_id_list\": [], \"encoded_locals\": {\"s\": \"sailor\", \"external_string\": \"SAILOR\"}, \"ordered_varnames\": [\"s\", \"external_string\"], \"is_zombie\": false, \"is_highlighted\": true, \"unique_hash\": \"my_upper_f1\"}], \"heap\": {\"1\": [\"FUNCTION\", \"my_upper(s)\", null]}, \"stdout\": \"\"}, {\"line\": 6, \"event\": \"return\", \"func_name\": \"my_upper\", \"globals\": {\"external_string\": \"sailor\", \"my_upper\": [\"REF\", 1]}, \"ordered_globals\": [\"external_string\", \"my_upper\"], \"stack_to_render\": [{\"func_name\": \"my_upper\", \"is_parent\": false, \"frame_id\": 1, \"parent_frame_id_list\": [], \"encoded_locals\": {\"s\": \"sailor\", \"external_string\": \"SAILOR\", \"__return__\": \"SAILOR\"}, \"ordered_varnames\": [\"s\", \"external_string\", \"__return__\"], \"is_zombie\": false, \"is_highlighted\": true, \"unique_hash\": \"my_upper_f1\"}], \"heap\": {\"1\": [\"FUNCTION\", \"my_upper(s)\", null]}, \"stdout\": \"\"}, {\"line\": 10, \"event\": \"step_line\", \"func_name\": \"<module>\", \"globals\": {\"external_string\": \"sailor\", \"my_upper\": [\"REF\", 1], \"result\": \"SAILOR\"}, \"ordered_globals\": [\"external_string\", \"my_upper\", \"result\"], \"stack_to_render\": [], \"heap\": {\"1\": [\"FUNCTION\", \"my_upper(s)\", null]}, \"stdout\": \"\"}, {\"line\": 11, \"event\": \"step_line\", \"func_name\": \"<module>\", \"globals\": {\"external_string\": \"sailor\", \"my_upper\": [\"REF\", 1], \"result\": \"SAILOR\"}, \"ordered_globals\": [\"external_string\", \"my_upper\", \"result\"], \"stack_to_render\": [], \"heap\": {\"1\": [\"FUNCTION\", \"my_upper(s)\", null]}, \"stdout\": \"         result: SAILOR\\n\"}, {\"line\": 11, \"event\": \"return\", \"func_name\": \"<module>\", \"globals\": {\"external_string\": \"sailor\", \"my_upper\": [\"REF\", 1], \"result\": \"SAILOR\"}, \"ordered_globals\": [\"external_string\", \"my_upper\", \"result\"], \"stack_to_render\": [], \"heap\": {\"1\": [\"FUNCTION\", \"my_upper(s)\", null]}, \"stdout\": \"         result: SAILOR\\nexternal_string: sailor\\n\"}]}\n",
       "        </script>\n",
       "        <div id=\"jm30e6bd07-8571-4a88-b45e-ebade4dc47ce\" class=\"pytutorVisualizer\"> </div>\n",
       " \n",
       "        <style>\n",
       "        .vizLayoutTd {\n",
       "            background-color: #fff !important;\n",
       "        }\n",
       "\n",
       "        #pyStdout {            \n",
       "            min-height:25px;\n",
       "        }\n",
       "\n",
       "        /* 'Edit this code' link, hiding because replaces browser tab !!!*/\n",
       "        #editCodeLinkDiv {\n",
       "            display:none;  \n",
       "        }\n",
       "        </style>   \n",
       "                            \n",
       "        <script>\n",
       "        (function(){\n",
       "\n",
       "            var trace = JSON.parse(document.getElementById('json-jm30e6bd07-8571-4a88-b45e-ebade4dc47ce').innerHTML);                                        \n",
       "            // NOTE 1: id without #\n",
       "            // NOTE 2 - maybe there are more predictable ways, but this will work anyway\n",
       "            //        - id should be number\n",
       "            visualizerIdOverride = Math.trunc(Math.random() * 100000000000)\n",
       "            addVisualizerToPage(trace, 'jm30e6bd07-8571-4a88-b45e-ebade4dc47ce',{'embeddedMode' : false,\n",
       "                                             'visualizerIdOverride':visualizerIdOverride})  \n",
       "            \n",
       "            \n",
       "            // set overflow for pytuts - need to do in python as css \n",
       "            // does not allow parent selection\n",
       "            var pytuts = $('.pytutorVisualizer')\n",
       "            pytuts.closest('div.output_html.rendered_html.output_result')\n",
       "                    .css('overflow-x', 'visible')\n",
       "        \n",
       "            //pytuts.closest('div.output_html.rendered_html.output_result')\n",
       "            //      .css('background-color','red')                \n",
       "            \n",
       "        })()\n",
       "        </script>\n",
       "                \n",
       "                "
      ],
      "text/plain": [
       "<IPython.core.display.HTML object>"
      ]
     },
     "execution_count": 20,
     "metadata": {},
     "output_type": "execute_result"
    }
   ],
   "source": [
    "external_string = \"sailor\"\n",
    "\n",
    "def my_upper(s):\n",
    "    external_string = s.upper()  \n",
    "    return external_string\n",
    "    \n",
    "result = my_upper(external_string)\n",
    "\n",
    "print('         result:', result)\n",
    "print('external_string:', external_string)\n",
    "\n",
    "jupman.pytut()"
   ]
  },
  {
   "cell_type": "markdown",
   "id": "afc346f6",
   "metadata": {},
   "source": [
    "### Changing the world: success!\n",
    "\n",
    "The proper way to tackle the problem is to create a NEW string inside the function, return it, and then **outside** the function perform the assignment `external_string = result`. "
   ]
  },
  {
   "cell_type": "code",
   "execution_count": 21,
   "id": "4c49c76e",
   "metadata": {},
   "outputs": [
    {
     "name": "stdout",
     "output_type": "stream",
     "text": [
      "         result: SAILOR\n",
      "external_string: SAILOR\n"
     ]
    },
    {
     "data": {
      "text/html": [
       "\n",
       "        <script src=\"../_static/js/pytutor-embed.bundle.min.js\" type=\"application/javascript\"></script>\n",
       "     \n",
       "        <script id=\"json-jmbe986d86-a2c3-4fca-a9b9-8c348e2fdca4\" type=\"application/json\" >\n",
       "            {\"code\": \" \\nexternal_string = \\\"sailor\\\"\\n\\ndef my_upper(s):\\n    ret = s.upper()   \\n    return ret\\n    \\nresult = my_upper(external_string)   \\nexternal_string = result             # reassignes *outside*\\n\\nprint('         result:', result)\\nprint('external_string:', external_string)\", \"trace\": [{\"line\": 2, \"event\": \"step_line\", \"func_name\": \"<module>\", \"globals\": {}, \"ordered_globals\": [], \"stack_to_render\": [], \"heap\": {}, \"stdout\": \"\"}, {\"line\": 4, \"event\": \"step_line\", \"func_name\": \"<module>\", \"globals\": {\"external_string\": \"sailor\"}, \"ordered_globals\": [\"external_string\"], \"stack_to_render\": [], \"heap\": {}, \"stdout\": \"\"}, {\"line\": 8, \"event\": \"step_line\", \"func_name\": \"<module>\", \"globals\": {\"external_string\": \"sailor\", \"my_upper\": [\"REF\", 1]}, \"ordered_globals\": [\"external_string\", \"my_upper\"], \"stack_to_render\": [], \"heap\": {\"1\": [\"FUNCTION\", \"my_upper(s)\", null]}, \"stdout\": \"\"}, {\"line\": 4, \"event\": \"call\", \"func_name\": \"my_upper\", \"globals\": {\"external_string\": \"sailor\", \"my_upper\": [\"REF\", 1]}, \"ordered_globals\": [\"external_string\", \"my_upper\"], \"stack_to_render\": [{\"func_name\": \"my_upper\", \"is_parent\": false, \"frame_id\": 1, \"parent_frame_id_list\": [], \"encoded_locals\": {\"s\": \"sailor\"}, \"ordered_varnames\": [\"s\"], \"is_zombie\": false, \"is_highlighted\": true, \"unique_hash\": \"my_upper_f1\"}], \"heap\": {\"1\": [\"FUNCTION\", \"my_upper(s)\", null]}, \"stdout\": \"\"}, {\"line\": 5, \"event\": \"step_line\", \"func_name\": \"my_upper\", \"globals\": {\"external_string\": \"sailor\", \"my_upper\": [\"REF\", 1]}, \"ordered_globals\": [\"external_string\", \"my_upper\"], \"stack_to_render\": [{\"func_name\": \"my_upper\", \"is_parent\": false, \"frame_id\": 1, \"parent_frame_id_list\": [], \"encoded_locals\": {\"s\": \"sailor\"}, \"ordered_varnames\": [\"s\"], \"is_zombie\": false, \"is_highlighted\": true, \"unique_hash\": \"my_upper_f1\"}], \"heap\": {\"1\": [\"FUNCTION\", \"my_upper(s)\", null]}, \"stdout\": \"\"}, {\"line\": 6, \"event\": \"step_line\", \"func_name\": \"my_upper\", \"globals\": {\"external_string\": \"sailor\", \"my_upper\": [\"REF\", 1]}, \"ordered_globals\": [\"external_string\", \"my_upper\"], \"stack_to_render\": [{\"func_name\": \"my_upper\", \"is_parent\": false, \"frame_id\": 1, \"parent_frame_id_list\": [], \"encoded_locals\": {\"s\": \"sailor\", \"ret\": \"SAILOR\"}, \"ordered_varnames\": [\"s\", \"ret\"], \"is_zombie\": false, \"is_highlighted\": true, \"unique_hash\": \"my_upper_f1\"}], \"heap\": {\"1\": [\"FUNCTION\", \"my_upper(s)\", null]}, \"stdout\": \"\"}, {\"line\": 6, \"event\": \"return\", \"func_name\": \"my_upper\", \"globals\": {\"external_string\": \"sailor\", \"my_upper\": [\"REF\", 1]}, \"ordered_globals\": [\"external_string\", \"my_upper\"], \"stack_to_render\": [{\"func_name\": \"my_upper\", \"is_parent\": false, \"frame_id\": 1, \"parent_frame_id_list\": [], \"encoded_locals\": {\"s\": \"sailor\", \"ret\": \"SAILOR\", \"__return__\": \"SAILOR\"}, \"ordered_varnames\": [\"s\", \"ret\", \"__return__\"], \"is_zombie\": false, \"is_highlighted\": true, \"unique_hash\": \"my_upper_f1\"}], \"heap\": {\"1\": [\"FUNCTION\", \"my_upper(s)\", null]}, \"stdout\": \"\"}, {\"line\": 9, \"event\": \"step_line\", \"func_name\": \"<module>\", \"globals\": {\"external_string\": \"sailor\", \"my_upper\": [\"REF\", 1], \"result\": \"SAILOR\"}, \"ordered_globals\": [\"external_string\", \"my_upper\", \"result\"], \"stack_to_render\": [], \"heap\": {\"1\": [\"FUNCTION\", \"my_upper(s)\", null]}, \"stdout\": \"\"}, {\"line\": 11, \"event\": \"step_line\", \"func_name\": \"<module>\", \"globals\": {\"external_string\": \"SAILOR\", \"my_upper\": [\"REF\", 1], \"result\": \"SAILOR\"}, \"ordered_globals\": [\"external_string\", \"my_upper\", \"result\"], \"stack_to_render\": [], \"heap\": {\"1\": [\"FUNCTION\", \"my_upper(s)\", null]}, \"stdout\": \"\"}, {\"line\": 12, \"event\": \"step_line\", \"func_name\": \"<module>\", \"globals\": {\"external_string\": \"SAILOR\", \"my_upper\": [\"REF\", 1], \"result\": \"SAILOR\"}, \"ordered_globals\": [\"external_string\", \"my_upper\", \"result\"], \"stack_to_render\": [], \"heap\": {\"1\": [\"FUNCTION\", \"my_upper(s)\", null]}, \"stdout\": \"         result: SAILOR\\n\"}, {\"line\": 12, \"event\": \"return\", \"func_name\": \"<module>\", \"globals\": {\"external_string\": \"SAILOR\", \"my_upper\": [\"REF\", 1], \"result\": \"SAILOR\"}, \"ordered_globals\": [\"external_string\", \"my_upper\", \"result\"], \"stack_to_render\": [], \"heap\": {\"1\": [\"FUNCTION\", \"my_upper(s)\", null]}, \"stdout\": \"         result: SAILOR\\nexternal_string: SAILOR\\n\"}]}\n",
       "        </script>\n",
       "        <div id=\"jmbe986d86-a2c3-4fca-a9b9-8c348e2fdca4\" class=\"pytutorVisualizer\"> </div>\n",
       " \n",
       "        <style>\n",
       "        .vizLayoutTd {\n",
       "            background-color: #fff !important;\n",
       "        }\n",
       "\n",
       "        #pyStdout {            \n",
       "            min-height:25px;\n",
       "        }\n",
       "\n",
       "        /* 'Edit this code' link, hiding because replaces browser tab !!!*/\n",
       "        #editCodeLinkDiv {\n",
       "            display:none;  \n",
       "        }\n",
       "        </style>   \n",
       "                            \n",
       "        <script>\n",
       "        (function(){\n",
       "\n",
       "            var trace = JSON.parse(document.getElementById('json-jmbe986d86-a2c3-4fca-a9b9-8c348e2fdca4').innerHTML);                                        \n",
       "            // NOTE 1: id without #\n",
       "            // NOTE 2 - maybe there are more predictable ways, but this will work anyway\n",
       "            //        - id should be number\n",
       "            visualizerIdOverride = Math.trunc(Math.random() * 100000000000)\n",
       "            addVisualizerToPage(trace, 'jmbe986d86-a2c3-4fca-a9b9-8c348e2fdca4',{'embeddedMode' : false,\n",
       "                                             'visualizerIdOverride':visualizerIdOverride})  \n",
       "            \n",
       "            \n",
       "            // set overflow for pytuts - need to do in python as css \n",
       "            // does not allow parent selection\n",
       "            var pytuts = $('.pytutorVisualizer')\n",
       "            pytuts.closest('div.output_html.rendered_html.output_result')\n",
       "                    .css('overflow-x', 'visible')\n",
       "        \n",
       "            //pytuts.closest('div.output_html.rendered_html.output_result')\n",
       "            //      .css('background-color','red')                \n",
       "            \n",
       "        })()\n",
       "        </script>\n",
       "                \n",
       "                "
      ],
      "text/plain": [
       "<IPython.core.display.HTML object>"
      ]
     },
     "execution_count": 21,
     "metadata": {},
     "output_type": "execute_result"
    }
   ],
   "source": [
    "external_string = \"sailor\"\n",
    "\n",
    "def my_upper(s):\n",
    "    ret = s.upper()   \n",
    "    return ret\n",
    "    \n",
    "result = my_upper(external_string)   \n",
    "external_string = result             # reassignes *outside*\n",
    "\n",
    "print('         result:', result)\n",
    "print('external_string:', external_string)\n",
    "\n",
    "jupman.pytut()"
   ]
  },
  {
   "cell_type": "markdown",
   "id": "5e758a00",
   "metadata": {},
   "source": [
    "### global keyword\n",
    "\n",
    "If we really wanted to modify `external_string` association inside the function, we could still do it with  [global](https://www.w3schools.com/python/python_variables_global.asp) keyword, but typically it's best to avoid using it."
   ]
  },
  {
   "cell_type": "markdown",
   "id": "04b70c62",
   "metadata": {},
   "source": [
    "## Mutable values\n",
    "\n",
    "Sequences like lists, sets, dictionaries are _mutable_ objects. When you call a function and pass one of these objects, Python actually  gives the function only a _reference_ to the object: a very small pointer which is just an arrow pointing to the memory region where the actual object resides. Since the function only receives a small pointer, calling the function is a fast operation. On the other side, we need to be aware that since no copy of the whole data structure is performed, inside the function it will be like operating on the original memory region which lives outside the function call.\n",
    "\n",
    "All of this may feel like a bit of a mouthful. Let's see a practical example in Python Tutor. \n",
    "\n",
    "Let's say we need to implement this function:"
   ]
  },
  {
   "cell_type": "markdown",
   "id": "555a3bb7",
   "metadata": {},
   "source": [
    "> Write a function which takes a list and MODIFIES it by doubling all of its numbers"
   ]
  },
  {
   "cell_type": "markdown",
   "id": "816b0cef",
   "metadata": {},
   "source": [
    "Note in the text we used the word MODIFIES, meaning we really want to change the original memory region of the external object we are given.\n",
    "\n",
    "As simple as it might seem, there are many ways to get this wrong. Let's see some."
   ]
  },
  {
   "cell_type": "markdown",
   "id": "da32c4a5",
   "metadata": {},
   "source": [
    "### Doubling: fail / 1\n",
    "\n",
    "You might be tempted to solve the problem like the following code, but it will **not** work."
   ]
  },
  {
   "cell_type": "markdown",
   "id": "27e46759",
   "metadata": {},
   "source": [
    "**QUESTION**: Why? Try to answer before checking execution in Python Tutor."
   ]
  },
  {
   "cell_type": "raw",
   "id": "264987da",
   "metadata": {
    "format": "text/html"
   },
   "source": [
    "<a  class=\"jupman-sol jupman-sol-toggler\" \n",
    " onclick=\"jupman.toggleSolution(this);\" \n",
    " data-jupman-show=\"Show answer\" data-jupman-hide=\"Hide\">Show answer</a><div class=\"jupman-sol jupman-sol-question\" style=\"display:none\">  "
   ]
  },
  {
   "cell_type": "markdown",
   "id": "9fb56799",
   "metadata": {},
   "source": [
    "**ANSWER**: `element` is created as a NEW variable in the function call frame, doesn't change original cells"
   ]
  },
  {
   "cell_type": "raw",
   "id": "14003ce5",
   "metadata": {
    "format": "text/html"
   },
   "source": [
    "</div>"
   ]
  },
  {
   "cell_type": "code",
   "execution_count": 22,
   "id": "baae2106",
   "metadata": {
    "scrolled": true
   },
   "outputs": [
    {
     "data": {
      "text/html": [
       "\n",
       "        <script src=\"../_static/js/pytutor-embed.bundle.min.js\" type=\"application/javascript\"></script>\n",
       "     \n",
       "        <script id=\"json-jm0a0a8f3d-1f47-4580-89d4-36d069c80c58\" type=\"application/json\" >\n",
       "            {\"code\": \" \\nexternal_numbers = [10,20,30]\\n\\ndef double(lst):\\n    for element in lst:\\n        element = element * 2   \\n        \\ndouble(external_numbers)\", \"trace\": [{\"line\": 2, \"event\": \"step_line\", \"func_name\": \"<module>\", \"globals\": {}, \"ordered_globals\": [], \"stack_to_render\": [], \"heap\": {}, \"stdout\": \"\"}, {\"line\": 4, \"event\": \"step_line\", \"func_name\": \"<module>\", \"globals\": {\"external_numbers\": [\"REF\", 1]}, \"ordered_globals\": [\"external_numbers\"], \"stack_to_render\": [], \"heap\": {\"1\": [\"LIST\", 10, 20, 30]}, \"stdout\": \"\"}, {\"line\": 8, \"event\": \"step_line\", \"func_name\": \"<module>\", \"globals\": {\"external_numbers\": [\"REF\", 1], \"double\": [\"REF\", 2]}, \"ordered_globals\": [\"external_numbers\", \"double\"], \"stack_to_render\": [], \"heap\": {\"1\": [\"LIST\", 10, 20, 30], \"2\": [\"FUNCTION\", \"double(lst)\", null]}, \"stdout\": \"\"}, {\"line\": 4, \"event\": \"call\", \"func_name\": \"double\", \"globals\": {\"external_numbers\": [\"REF\", 1], \"double\": [\"REF\", 2]}, \"ordered_globals\": [\"external_numbers\", \"double\"], \"stack_to_render\": [{\"func_name\": \"double\", \"is_parent\": false, \"frame_id\": 1, \"parent_frame_id_list\": [], \"encoded_locals\": {\"lst\": [\"REF\", 1]}, \"ordered_varnames\": [\"lst\"], \"is_zombie\": false, \"is_highlighted\": true, \"unique_hash\": \"double_f1\"}], \"heap\": {\"1\": [\"LIST\", 10, 20, 30], \"2\": [\"FUNCTION\", \"double(lst)\", null]}, \"stdout\": \"\"}, {\"line\": 5, \"event\": \"step_line\", \"func_name\": \"double\", \"globals\": {\"external_numbers\": [\"REF\", 1], \"double\": [\"REF\", 2]}, \"ordered_globals\": [\"external_numbers\", \"double\"], \"stack_to_render\": [{\"func_name\": \"double\", \"is_parent\": false, \"frame_id\": 1, \"parent_frame_id_list\": [], \"encoded_locals\": {\"lst\": [\"REF\", 1]}, \"ordered_varnames\": [\"lst\"], \"is_zombie\": false, \"is_highlighted\": true, \"unique_hash\": \"double_f1\"}], \"heap\": {\"1\": [\"LIST\", 10, 20, 30], \"2\": [\"FUNCTION\", \"double(lst)\", null]}, \"stdout\": \"\"}, {\"line\": 6, \"event\": \"step_line\", \"func_name\": \"double\", \"globals\": {\"external_numbers\": [\"REF\", 1], \"double\": [\"REF\", 2]}, \"ordered_globals\": [\"external_numbers\", \"double\"], \"stack_to_render\": [{\"func_name\": \"double\", \"is_parent\": false, \"frame_id\": 1, \"parent_frame_id_list\": [], \"encoded_locals\": {\"lst\": [\"REF\", 1], \"element\": 10}, \"ordered_varnames\": [\"lst\", \"element\"], \"is_zombie\": false, \"is_highlighted\": true, \"unique_hash\": \"double_f1\"}], \"heap\": {\"1\": [\"LIST\", 10, 20, 30], \"2\": [\"FUNCTION\", \"double(lst)\", null]}, \"stdout\": \"\"}, {\"line\": 5, \"event\": \"step_line\", \"func_name\": \"double\", \"globals\": {\"external_numbers\": [\"REF\", 1], \"double\": [\"REF\", 2]}, \"ordered_globals\": [\"external_numbers\", \"double\"], \"stack_to_render\": [{\"func_name\": \"double\", \"is_parent\": false, \"frame_id\": 1, \"parent_frame_id_list\": [], \"encoded_locals\": {\"lst\": [\"REF\", 1], \"element\": 20}, \"ordered_varnames\": [\"lst\", \"element\"], \"is_zombie\": false, \"is_highlighted\": true, \"unique_hash\": \"double_f1\"}], \"heap\": {\"1\": [\"LIST\", 10, 20, 30], \"2\": [\"FUNCTION\", \"double(lst)\", null]}, \"stdout\": \"\"}, {\"line\": 6, \"event\": \"step_line\", \"func_name\": \"double\", \"globals\": {\"external_numbers\": [\"REF\", 1], \"double\": [\"REF\", 2]}, \"ordered_globals\": [\"external_numbers\", \"double\"], \"stack_to_render\": [{\"func_name\": \"double\", \"is_parent\": false, \"frame_id\": 1, \"parent_frame_id_list\": [], \"encoded_locals\": {\"lst\": [\"REF\", 1], \"element\": 20}, \"ordered_varnames\": [\"lst\", \"element\"], \"is_zombie\": false, \"is_highlighted\": true, \"unique_hash\": \"double_f1\"}], \"heap\": {\"1\": [\"LIST\", 10, 20, 30], \"2\": [\"FUNCTION\", \"double(lst)\", null]}, \"stdout\": \"\"}, {\"line\": 5, \"event\": \"step_line\", \"func_name\": \"double\", \"globals\": {\"external_numbers\": [\"REF\", 1], \"double\": [\"REF\", 2]}, \"ordered_globals\": [\"external_numbers\", \"double\"], \"stack_to_render\": [{\"func_name\": \"double\", \"is_parent\": false, \"frame_id\": 1, \"parent_frame_id_list\": [], \"encoded_locals\": {\"lst\": [\"REF\", 1], \"element\": 40}, \"ordered_varnames\": [\"lst\", \"element\"], \"is_zombie\": false, \"is_highlighted\": true, \"unique_hash\": \"double_f1\"}], \"heap\": {\"1\": [\"LIST\", 10, 20, 30], \"2\": [\"FUNCTION\", \"double(lst)\", null]}, \"stdout\": \"\"}, {\"line\": 6, \"event\": \"step_line\", \"func_name\": \"double\", \"globals\": {\"external_numbers\": [\"REF\", 1], \"double\": [\"REF\", 2]}, \"ordered_globals\": [\"external_numbers\", \"double\"], \"stack_to_render\": [{\"func_name\": \"double\", \"is_parent\": false, \"frame_id\": 1, \"parent_frame_id_list\": [], \"encoded_locals\": {\"lst\": [\"REF\", 1], \"element\": 30}, \"ordered_varnames\": [\"lst\", \"element\"], \"is_zombie\": false, \"is_highlighted\": true, \"unique_hash\": \"double_f1\"}], \"heap\": {\"1\": [\"LIST\", 10, 20, 30], \"2\": [\"FUNCTION\", \"double(lst)\", null]}, \"stdout\": \"\"}, {\"line\": 5, \"event\": \"step_line\", \"func_name\": \"double\", \"globals\": {\"external_numbers\": [\"REF\", 1], \"double\": [\"REF\", 2]}, \"ordered_globals\": [\"external_numbers\", \"double\"], \"stack_to_render\": [{\"func_name\": \"double\", \"is_parent\": false, \"frame_id\": 1, \"parent_frame_id_list\": [], \"encoded_locals\": {\"lst\": [\"REF\", 1], \"element\": 60}, \"ordered_varnames\": [\"lst\", \"element\"], \"is_zombie\": false, \"is_highlighted\": true, \"unique_hash\": \"double_f1\"}], \"heap\": {\"1\": [\"LIST\", 10, 20, 30], \"2\": [\"FUNCTION\", \"double(lst)\", null]}, \"stdout\": \"\"}, {\"line\": 5, \"event\": \"return\", \"func_name\": \"double\", \"globals\": {\"external_numbers\": [\"REF\", 1], \"double\": [\"REF\", 2]}, \"ordered_globals\": [\"external_numbers\", \"double\"], \"stack_to_render\": [{\"func_name\": \"double\", \"is_parent\": false, \"frame_id\": 1, \"parent_frame_id_list\": [], \"encoded_locals\": {\"lst\": [\"REF\", 1], \"element\": 60, \"__return__\": null}, \"ordered_varnames\": [\"lst\", \"element\", \"__return__\"], \"is_zombie\": false, \"is_highlighted\": true, \"unique_hash\": \"double_f1\"}], \"heap\": {\"1\": [\"LIST\", 10, 20, 30], \"2\": [\"FUNCTION\", \"double(lst)\", null]}, \"stdout\": \"\"}, {\"line\": 8, \"event\": \"return\", \"func_name\": \"<module>\", \"globals\": {\"external_numbers\": [\"REF\", 1], \"double\": [\"REF\", 2]}, \"ordered_globals\": [\"external_numbers\", \"double\"], \"stack_to_render\": [], \"heap\": {\"1\": [\"LIST\", 10, 20, 30], \"2\": [\"FUNCTION\", \"double(lst)\", null]}, \"stdout\": \"\"}]}\n",
       "        </script>\n",
       "        <div id=\"jm0a0a8f3d-1f47-4580-89d4-36d069c80c58\" class=\"pytutorVisualizer\"> </div>\n",
       " \n",
       "        <style>\n",
       "        .vizLayoutTd {\n",
       "            background-color: #fff !important;\n",
       "        }\n",
       "\n",
       "        #pyStdout {            \n",
       "            min-height:25px;\n",
       "        }\n",
       "\n",
       "        /* 'Edit this code' link, hiding because replaces browser tab !!!*/\n",
       "        #editCodeLinkDiv {\n",
       "            display:none;  \n",
       "        }\n",
       "        </style>   \n",
       "                            \n",
       "        <script>\n",
       "        (function(){\n",
       "\n",
       "            var trace = JSON.parse(document.getElementById('json-jm0a0a8f3d-1f47-4580-89d4-36d069c80c58').innerHTML);                                        \n",
       "            // NOTE 1: id without #\n",
       "            // NOTE 2 - maybe there are more predictable ways, but this will work anyway\n",
       "            //        - id should be number\n",
       "            visualizerIdOverride = Math.trunc(Math.random() * 100000000000)\n",
       "            addVisualizerToPage(trace, 'jm0a0a8f3d-1f47-4580-89d4-36d069c80c58',{'embeddedMode' : false,\n",
       "                                             'visualizerIdOverride':visualizerIdOverride})  \n",
       "            \n",
       "            \n",
       "            // set overflow for pytuts - need to do in python as css \n",
       "            // does not allow parent selection\n",
       "            var pytuts = $('.pytutorVisualizer')\n",
       "            pytuts.closest('div.output_html.rendered_html.output_result')\n",
       "                    .css('overflow-x', 'visible')\n",
       "        \n",
       "            //pytuts.closest('div.output_html.rendered_html.output_result')\n",
       "            //      .css('background-color','red')                \n",
       "            \n",
       "        })()\n",
       "        </script>\n",
       "                \n",
       "                "
      ],
      "text/plain": [
       "<IPython.core.display.HTML object>"
      ]
     },
     "execution_count": 22,
     "metadata": {},
     "output_type": "execute_result"
    }
   ],
   "source": [
    "external_numbers = [10,20,30]\n",
    "\n",
    "def double(lst):\n",
    "    for element in lst:\n",
    "        element = element * 2   \n",
    "        \n",
    "double(external_numbers)\n",
    "\n",
    "jupman.pytut()"
   ]
  },
  {
   "cell_type": "markdown",
   "id": "dcf2d9ff",
   "metadata": {},
   "source": [
    "### Doubling: fail / 2\n",
    "\n",
    "You might have another temptation to solve the problem like the following code, but again it will **not** work."
   ]
  },
  {
   "cell_type": "markdown",
   "id": "6b2c1959",
   "metadata": {},
   "source": [
    "**QUESTION**: Why? Try to answer before checking execution in Python Tutor."
   ]
  },
  {
   "cell_type": "raw",
   "id": "134c5f3f",
   "metadata": {
    "format": "text/html"
   },
   "source": [
    "<a  class=\"jupman-sol jupman-sol-toggler\" \n",
    " onclick=\"jupman.toggleSolution(this);\" \n",
    " data-jupman-show=\"Show answer\" data-jupman-hide=\"Hide\">Show answer</a><div class=\"jupman-sol jupman-sol-question\" style=\"display:none\">  "
   ]
  },
  {
   "cell_type": "markdown",
   "id": "53e5dd76",
   "metadata": {},
   "source": [
    "**ANSWER**:\n",
    "\n",
    "* `tmp.append(element * 2)` creates a NEW list, but function text tells to MODIFY \n",
    "* `lst = tmp`  Violates [IV COMANDMENT](https://en.softpython.org/commandments.html#IV-COMMANDMENT): sets the variable `lst` in the call frame to point to `tmp`, but both will be lost after the function call is over"
   ]
  },
  {
   "cell_type": "raw",
   "id": "d447a91d",
   "metadata": {
    "format": "text/html"
   },
   "source": [
    "</div>"
   ]
  },
  {
   "cell_type": "code",
   "execution_count": 23,
   "id": "0ff7cc87",
   "metadata": {},
   "outputs": [
    {
     "data": {
      "text/html": [
       "\n",
       "        <script src=\"../_static/js/pytutor-embed.bundle.min.js\" type=\"application/javascript\"></script>\n",
       "     \n",
       "        <script id=\"json-jm3a9ed58f-ceb9-46d6-a186-580bf80c340b\" type=\"application/json\" >\n",
       "            {\"code\": \" \\nexternal_numbers = [10,20,30]\\n\\ndef double(lst):\\n    tmp = []\\n    for element in lst:\\n        tmp.append(element * 2)   \\n                                 \\n    lst = tmp                     \\n    \\ndouble(external_numbers)\", \"trace\": [{\"line\": 2, \"event\": \"step_line\", \"func_name\": \"<module>\", \"globals\": {}, \"ordered_globals\": [], \"stack_to_render\": [], \"heap\": {}, \"stdout\": \"\"}, {\"line\": 4, \"event\": \"step_line\", \"func_name\": \"<module>\", \"globals\": {\"external_numbers\": [\"REF\", 1]}, \"ordered_globals\": [\"external_numbers\"], \"stack_to_render\": [], \"heap\": {\"1\": [\"LIST\", 10, 20, 30]}, \"stdout\": \"\"}, {\"line\": 11, \"event\": \"step_line\", \"func_name\": \"<module>\", \"globals\": {\"external_numbers\": [\"REF\", 1], \"double\": [\"REF\", 2]}, \"ordered_globals\": [\"external_numbers\", \"double\"], \"stack_to_render\": [], \"heap\": {\"1\": [\"LIST\", 10, 20, 30], \"2\": [\"FUNCTION\", \"double(lst)\", null]}, \"stdout\": \"\"}, {\"line\": 4, \"event\": \"call\", \"func_name\": \"double\", \"globals\": {\"external_numbers\": [\"REF\", 1], \"double\": [\"REF\", 2]}, \"ordered_globals\": [\"external_numbers\", \"double\"], \"stack_to_render\": [{\"func_name\": \"double\", \"is_parent\": false, \"frame_id\": 1, \"parent_frame_id_list\": [], \"encoded_locals\": {\"lst\": [\"REF\", 1]}, \"ordered_varnames\": [\"lst\"], \"is_zombie\": false, \"is_highlighted\": true, \"unique_hash\": \"double_f1\"}], \"heap\": {\"1\": [\"LIST\", 10, 20, 30], \"2\": [\"FUNCTION\", \"double(lst)\", null]}, \"stdout\": \"\"}, {\"line\": 5, \"event\": \"step_line\", \"func_name\": \"double\", \"globals\": {\"external_numbers\": [\"REF\", 1], \"double\": [\"REF\", 2]}, \"ordered_globals\": [\"external_numbers\", \"double\"], \"stack_to_render\": [{\"func_name\": \"double\", \"is_parent\": false, \"frame_id\": 1, \"parent_frame_id_list\": [], \"encoded_locals\": {\"lst\": [\"REF\", 1]}, \"ordered_varnames\": [\"lst\"], \"is_zombie\": false, \"is_highlighted\": true, \"unique_hash\": \"double_f1\"}], \"heap\": {\"1\": [\"LIST\", 10, 20, 30], \"2\": [\"FUNCTION\", \"double(lst)\", null]}, \"stdout\": \"\"}, {\"line\": 6, \"event\": \"step_line\", \"func_name\": \"double\", \"globals\": {\"external_numbers\": [\"REF\", 1], \"double\": [\"REF\", 2]}, \"ordered_globals\": [\"external_numbers\", \"double\"], \"stack_to_render\": [{\"func_name\": \"double\", \"is_parent\": false, \"frame_id\": 1, \"parent_frame_id_list\": [], \"encoded_locals\": {\"lst\": [\"REF\", 1], \"tmp\": [\"REF\", 3]}, \"ordered_varnames\": [\"lst\", \"tmp\"], \"is_zombie\": false, \"is_highlighted\": true, \"unique_hash\": \"double_f1\"}], \"heap\": {\"1\": [\"LIST\", 10, 20, 30], \"3\": [\"LIST\"], \"2\": [\"FUNCTION\", \"double(lst)\", null]}, \"stdout\": \"\"}, {\"line\": 7, \"event\": \"step_line\", \"func_name\": \"double\", \"globals\": {\"external_numbers\": [\"REF\", 1], \"double\": [\"REF\", 2]}, \"ordered_globals\": [\"external_numbers\", \"double\"], \"stack_to_render\": [{\"func_name\": \"double\", \"is_parent\": false, \"frame_id\": 1, \"parent_frame_id_list\": [], \"encoded_locals\": {\"lst\": [\"REF\", 1], \"tmp\": [\"REF\", 3], \"element\": 10}, \"ordered_varnames\": [\"lst\", \"tmp\", \"element\"], \"is_zombie\": false, \"is_highlighted\": true, \"unique_hash\": \"double_f1\"}], \"heap\": {\"1\": [\"LIST\", 10, 20, 30], \"3\": [\"LIST\"], \"2\": [\"FUNCTION\", \"double(lst)\", null]}, \"stdout\": \"\"}, {\"line\": 6, \"event\": \"step_line\", \"func_name\": \"double\", \"globals\": {\"external_numbers\": [\"REF\", 1], \"double\": [\"REF\", 2]}, \"ordered_globals\": [\"external_numbers\", \"double\"], \"stack_to_render\": [{\"func_name\": \"double\", \"is_parent\": false, \"frame_id\": 1, \"parent_frame_id_list\": [], \"encoded_locals\": {\"lst\": [\"REF\", 1], \"tmp\": [\"REF\", 3], \"element\": 10}, \"ordered_varnames\": [\"lst\", \"tmp\", \"element\"], \"is_zombie\": false, \"is_highlighted\": true, \"unique_hash\": \"double_f1\"}], \"heap\": {\"1\": [\"LIST\", 10, 20, 30], \"3\": [\"LIST\", 20], \"2\": [\"FUNCTION\", \"double(lst)\", null]}, \"stdout\": \"\"}, {\"line\": 7, \"event\": \"step_line\", \"func_name\": \"double\", \"globals\": {\"external_numbers\": [\"REF\", 1], \"double\": [\"REF\", 2]}, \"ordered_globals\": [\"external_numbers\", \"double\"], \"stack_to_render\": [{\"func_name\": \"double\", \"is_parent\": false, \"frame_id\": 1, \"parent_frame_id_list\": [], \"encoded_locals\": {\"lst\": [\"REF\", 1], \"tmp\": [\"REF\", 3], \"element\": 20}, \"ordered_varnames\": [\"lst\", \"tmp\", \"element\"], \"is_zombie\": false, \"is_highlighted\": true, \"unique_hash\": \"double_f1\"}], \"heap\": {\"1\": [\"LIST\", 10, 20, 30], \"3\": [\"LIST\", 20], \"2\": [\"FUNCTION\", \"double(lst)\", null]}, \"stdout\": \"\"}, {\"line\": 6, \"event\": \"step_line\", \"func_name\": \"double\", \"globals\": {\"external_numbers\": [\"REF\", 1], \"double\": [\"REF\", 2]}, \"ordered_globals\": [\"external_numbers\", \"double\"], \"stack_to_render\": [{\"func_name\": \"double\", \"is_parent\": false, \"frame_id\": 1, \"parent_frame_id_list\": [], \"encoded_locals\": {\"lst\": [\"REF\", 1], \"tmp\": [\"REF\", 3], \"element\": 20}, \"ordered_varnames\": [\"lst\", \"tmp\", \"element\"], \"is_zombie\": false, \"is_highlighted\": true, \"unique_hash\": \"double_f1\"}], \"heap\": {\"1\": [\"LIST\", 10, 20, 30], \"3\": [\"LIST\", 20, 40], \"2\": [\"FUNCTION\", \"double(lst)\", null]}, \"stdout\": \"\"}, {\"line\": 7, \"event\": \"step_line\", \"func_name\": \"double\", \"globals\": {\"external_numbers\": [\"REF\", 1], \"double\": [\"REF\", 2]}, \"ordered_globals\": [\"external_numbers\", \"double\"], \"stack_to_render\": [{\"func_name\": \"double\", \"is_parent\": false, \"frame_id\": 1, \"parent_frame_id_list\": [], \"encoded_locals\": {\"lst\": [\"REF\", 1], \"tmp\": [\"REF\", 3], \"element\": 30}, \"ordered_varnames\": [\"lst\", \"tmp\", \"element\"], \"is_zombie\": false, \"is_highlighted\": true, \"unique_hash\": \"double_f1\"}], \"heap\": {\"1\": [\"LIST\", 10, 20, 30], \"3\": [\"LIST\", 20, 40], \"2\": [\"FUNCTION\", \"double(lst)\", null]}, \"stdout\": \"\"}, {\"line\": 6, \"event\": \"step_line\", \"func_name\": \"double\", \"globals\": {\"external_numbers\": [\"REF\", 1], \"double\": [\"REF\", 2]}, \"ordered_globals\": [\"external_numbers\", \"double\"], \"stack_to_render\": [{\"func_name\": \"double\", \"is_parent\": false, \"frame_id\": 1, \"parent_frame_id_list\": [], \"encoded_locals\": {\"lst\": [\"REF\", 1], \"tmp\": [\"REF\", 3], \"element\": 30}, \"ordered_varnames\": [\"lst\", \"tmp\", \"element\"], \"is_zombie\": false, \"is_highlighted\": true, \"unique_hash\": \"double_f1\"}], \"heap\": {\"1\": [\"LIST\", 10, 20, 30], \"3\": [\"LIST\", 20, 40, 60], \"2\": [\"FUNCTION\", \"double(lst)\", null]}, \"stdout\": \"\"}, {\"line\": 9, \"event\": \"step_line\", \"func_name\": \"double\", \"globals\": {\"external_numbers\": [\"REF\", 1], \"double\": [\"REF\", 2]}, \"ordered_globals\": [\"external_numbers\", \"double\"], \"stack_to_render\": [{\"func_name\": \"double\", \"is_parent\": false, \"frame_id\": 1, \"parent_frame_id_list\": [], \"encoded_locals\": {\"lst\": [\"REF\", 1], \"tmp\": [\"REF\", 3], \"element\": 30}, \"ordered_varnames\": [\"lst\", \"tmp\", \"element\"], \"is_zombie\": false, \"is_highlighted\": true, \"unique_hash\": \"double_f1\"}], \"heap\": {\"1\": [\"LIST\", 10, 20, 30], \"3\": [\"LIST\", 20, 40, 60], \"2\": [\"FUNCTION\", \"double(lst)\", null]}, \"stdout\": \"\"}, {\"line\": 9, \"event\": \"return\", \"func_name\": \"double\", \"globals\": {\"external_numbers\": [\"REF\", 1], \"double\": [\"REF\", 2]}, \"ordered_globals\": [\"external_numbers\", \"double\"], \"stack_to_render\": [{\"func_name\": \"double\", \"is_parent\": false, \"frame_id\": 1, \"parent_frame_id_list\": [], \"encoded_locals\": {\"lst\": [\"REF\", 3], \"tmp\": [\"REF\", 3], \"element\": 30, \"__return__\": null}, \"ordered_varnames\": [\"lst\", \"tmp\", \"element\", \"__return__\"], \"is_zombie\": false, \"is_highlighted\": true, \"unique_hash\": \"double_f1\"}], \"heap\": {\"3\": [\"LIST\", 20, 40, 60], \"1\": [\"LIST\", 10, 20, 30], \"2\": [\"FUNCTION\", \"double(lst)\", null]}, \"stdout\": \"\"}, {\"line\": 11, \"event\": \"return\", \"func_name\": \"<module>\", \"globals\": {\"external_numbers\": [\"REF\", 1], \"double\": [\"REF\", 2]}, \"ordered_globals\": [\"external_numbers\", \"double\"], \"stack_to_render\": [], \"heap\": {\"1\": [\"LIST\", 10, 20, 30], \"2\": [\"FUNCTION\", \"double(lst)\", null]}, \"stdout\": \"\"}]}\n",
       "        </script>\n",
       "        <div id=\"jm3a9ed58f-ceb9-46d6-a186-580bf80c340b\" class=\"pytutorVisualizer\"> </div>\n",
       " \n",
       "        <style>\n",
       "        .vizLayoutTd {\n",
       "            background-color: #fff !important;\n",
       "        }\n",
       "\n",
       "        #pyStdout {            \n",
       "            min-height:25px;\n",
       "        }\n",
       "\n",
       "        /* 'Edit this code' link, hiding because replaces browser tab !!!*/\n",
       "        #editCodeLinkDiv {\n",
       "            display:none;  \n",
       "        }\n",
       "        </style>   \n",
       "                            \n",
       "        <script>\n",
       "        (function(){\n",
       "\n",
       "            var trace = JSON.parse(document.getElementById('json-jm3a9ed58f-ceb9-46d6-a186-580bf80c340b').innerHTML);                                        \n",
       "            // NOTE 1: id without #\n",
       "            // NOTE 2 - maybe there are more predictable ways, but this will work anyway\n",
       "            //        - id should be number\n",
       "            visualizerIdOverride = Math.trunc(Math.random() * 100000000000)\n",
       "            addVisualizerToPage(trace, 'jm3a9ed58f-ceb9-46d6-a186-580bf80c340b',{'embeddedMode' : false,\n",
       "                                             'visualizerIdOverride':visualizerIdOverride})  \n",
       "            \n",
       "            \n",
       "            // set overflow for pytuts - need to do in python as css \n",
       "            // does not allow parent selection\n",
       "            var pytuts = $('.pytutorVisualizer')\n",
       "            pytuts.closest('div.output_html.rendered_html.output_result')\n",
       "                    .css('overflow-x', 'visible')\n",
       "        \n",
       "            //pytuts.closest('div.output_html.rendered_html.output_result')\n",
       "            //      .css('background-color','red')                \n",
       "            \n",
       "        })()\n",
       "        </script>\n",
       "                \n",
       "                "
      ],
      "text/plain": [
       "<IPython.core.display.HTML object>"
      ]
     },
     "execution_count": 23,
     "metadata": {},
     "output_type": "execute_result"
    }
   ],
   "source": [
    "external_numbers = [10,20,30]\n",
    "\n",
    "def double(lst):\n",
    "    tmp = []\n",
    "    for element in lst:\n",
    "        tmp.append(element * 2)   \n",
    "                                 \n",
    "    lst = tmp                     \n",
    "    \n",
    "double(external_numbers)\n",
    "\n",
    "jupman.pytut()"
   ]
  },
  {
   "cell_type": "markdown",
   "id": "085422c1",
   "metadata": {},
   "source": [
    "### Doubling: fail / 3\n",
    "\n",
    "You might be tempted to solve the problem also like in the following code, but again it will **not** work."
   ]
  },
  {
   "cell_type": "markdown",
   "id": "e03e6574",
   "metadata": {},
   "source": [
    "**QUESTION**: Why? Try to answer before checking execution in  Python Tutor."
   ]
  },
  {
   "cell_type": "raw",
   "id": "cfd58764",
   "metadata": {
    "format": "text/html"
   },
   "source": [
    "<a  class=\"jupman-sol jupman-sol-toggler\" \n",
    " onclick=\"jupman.toggleSolution(this);\" \n",
    " data-jupman-show=\"Show answer\" data-jupman-hide=\"Hide\">Show answer</a><div class=\"jupman-sol jupman-sol-question\" style=\"display:none\">  "
   ]
  },
  {
   "cell_type": "markdown",
   "id": "20538a99",
   "metadata": {},
   "source": [
    "**ANSWER**:\n",
    "\n",
    "* `tmp.append(element * 2)`   creates a NEW list,  but function text tells to MODIFY \n",
    "* `external_numbers = tmp`    creates a NEW association `external_numbers` inside function call frame, but it will be lost after the function call is over                                  "
   ]
  },
  {
   "cell_type": "raw",
   "id": "a0fdc2b6",
   "metadata": {
    "format": "text/html"
   },
   "source": [
    "</div>"
   ]
  },
  {
   "cell_type": "code",
   "execution_count": 24,
   "id": "5ddb4c76",
   "metadata": {},
   "outputs": [
    {
     "data": {
      "text/html": [
       "\n",
       "        <script src=\"../_static/js/pytutor-embed.bundle.min.js\" type=\"application/javascript\"></script>\n",
       "     \n",
       "        <script id=\"json-jme5d8c10d-4ba4-4c63-b7f1-a11726667d96\" type=\"application/json\" >\n",
       "            {\"code\": \" \\nexternal_numbers = [10,20,30]\\n\\ndef double(lst):\\n    tmp = []\\n    for element in lst:\\n        tmp.append(element * 2)  \\n                                 \\n    external_numbers = tmp                                       \\n    \\ndouble(external_numbers)\", \"trace\": [{\"line\": 2, \"event\": \"step_line\", \"func_name\": \"<module>\", \"globals\": {}, \"ordered_globals\": [], \"stack_to_render\": [], \"heap\": {}, \"stdout\": \"\"}, {\"line\": 4, \"event\": \"step_line\", \"func_name\": \"<module>\", \"globals\": {\"external_numbers\": [\"REF\", 1]}, \"ordered_globals\": [\"external_numbers\"], \"stack_to_render\": [], \"heap\": {\"1\": [\"LIST\", 10, 20, 30]}, \"stdout\": \"\"}, {\"line\": 11, \"event\": \"step_line\", \"func_name\": \"<module>\", \"globals\": {\"external_numbers\": [\"REF\", 1], \"double\": [\"REF\", 2]}, \"ordered_globals\": [\"external_numbers\", \"double\"], \"stack_to_render\": [], \"heap\": {\"1\": [\"LIST\", 10, 20, 30], \"2\": [\"FUNCTION\", \"double(lst)\", null]}, \"stdout\": \"\"}, {\"line\": 4, \"event\": \"call\", \"func_name\": \"double\", \"globals\": {\"external_numbers\": [\"REF\", 1], \"double\": [\"REF\", 2]}, \"ordered_globals\": [\"external_numbers\", \"double\"], \"stack_to_render\": [{\"func_name\": \"double\", \"is_parent\": false, \"frame_id\": 1, \"parent_frame_id_list\": [], \"encoded_locals\": {\"lst\": [\"REF\", 1]}, \"ordered_varnames\": [\"lst\"], \"is_zombie\": false, \"is_highlighted\": true, \"unique_hash\": \"double_f1\"}], \"heap\": {\"1\": [\"LIST\", 10, 20, 30], \"2\": [\"FUNCTION\", \"double(lst)\", null]}, \"stdout\": \"\"}, {\"line\": 5, \"event\": \"step_line\", \"func_name\": \"double\", \"globals\": {\"external_numbers\": [\"REF\", 1], \"double\": [\"REF\", 2]}, \"ordered_globals\": [\"external_numbers\", \"double\"], \"stack_to_render\": [{\"func_name\": \"double\", \"is_parent\": false, \"frame_id\": 1, \"parent_frame_id_list\": [], \"encoded_locals\": {\"lst\": [\"REF\", 1]}, \"ordered_varnames\": [\"lst\"], \"is_zombie\": false, \"is_highlighted\": true, \"unique_hash\": \"double_f1\"}], \"heap\": {\"1\": [\"LIST\", 10, 20, 30], \"2\": [\"FUNCTION\", \"double(lst)\", null]}, \"stdout\": \"\"}, {\"line\": 6, \"event\": \"step_line\", \"func_name\": \"double\", \"globals\": {\"external_numbers\": [\"REF\", 1], \"double\": [\"REF\", 2]}, \"ordered_globals\": [\"external_numbers\", \"double\"], \"stack_to_render\": [{\"func_name\": \"double\", \"is_parent\": false, \"frame_id\": 1, \"parent_frame_id_list\": [], \"encoded_locals\": {\"lst\": [\"REF\", 1], \"tmp\": [\"REF\", 3]}, \"ordered_varnames\": [\"lst\", \"tmp\"], \"is_zombie\": false, \"is_highlighted\": true, \"unique_hash\": \"double_f1\"}], \"heap\": {\"1\": [\"LIST\", 10, 20, 30], \"3\": [\"LIST\"], \"2\": [\"FUNCTION\", \"double(lst)\", null]}, \"stdout\": \"\"}, {\"line\": 7, \"event\": \"step_line\", \"func_name\": \"double\", \"globals\": {\"external_numbers\": [\"REF\", 1], \"double\": [\"REF\", 2]}, \"ordered_globals\": [\"external_numbers\", \"double\"], \"stack_to_render\": [{\"func_name\": \"double\", \"is_parent\": false, \"frame_id\": 1, \"parent_frame_id_list\": [], \"encoded_locals\": {\"lst\": [\"REF\", 1], \"tmp\": [\"REF\", 3], \"element\": 10}, \"ordered_varnames\": [\"lst\", \"tmp\", \"element\"], \"is_zombie\": false, \"is_highlighted\": true, \"unique_hash\": \"double_f1\"}], \"heap\": {\"1\": [\"LIST\", 10, 20, 30], \"3\": [\"LIST\"], \"2\": [\"FUNCTION\", \"double(lst)\", null]}, \"stdout\": \"\"}, {\"line\": 6, \"event\": \"step_line\", \"func_name\": \"double\", \"globals\": {\"external_numbers\": [\"REF\", 1], \"double\": [\"REF\", 2]}, \"ordered_globals\": [\"external_numbers\", \"double\"], \"stack_to_render\": [{\"func_name\": \"double\", \"is_parent\": false, \"frame_id\": 1, \"parent_frame_id_list\": [], \"encoded_locals\": {\"lst\": [\"REF\", 1], \"tmp\": [\"REF\", 3], \"element\": 10}, \"ordered_varnames\": [\"lst\", \"tmp\", \"element\"], \"is_zombie\": false, \"is_highlighted\": true, \"unique_hash\": \"double_f1\"}], \"heap\": {\"1\": [\"LIST\", 10, 20, 30], \"3\": [\"LIST\", 20], \"2\": [\"FUNCTION\", \"double(lst)\", null]}, \"stdout\": \"\"}, {\"line\": 7, \"event\": \"step_line\", \"func_name\": \"double\", \"globals\": {\"external_numbers\": [\"REF\", 1], \"double\": [\"REF\", 2]}, \"ordered_globals\": [\"external_numbers\", \"double\"], \"stack_to_render\": [{\"func_name\": \"double\", \"is_parent\": false, \"frame_id\": 1, \"parent_frame_id_list\": [], \"encoded_locals\": {\"lst\": [\"REF\", 1], \"tmp\": [\"REF\", 3], \"element\": 20}, \"ordered_varnames\": [\"lst\", \"tmp\", \"element\"], \"is_zombie\": false, \"is_highlighted\": true, \"unique_hash\": \"double_f1\"}], \"heap\": {\"1\": [\"LIST\", 10, 20, 30], \"3\": [\"LIST\", 20], \"2\": [\"FUNCTION\", \"double(lst)\", null]}, \"stdout\": \"\"}, {\"line\": 6, \"event\": \"step_line\", \"func_name\": \"double\", \"globals\": {\"external_numbers\": [\"REF\", 1], \"double\": [\"REF\", 2]}, \"ordered_globals\": [\"external_numbers\", \"double\"], \"stack_to_render\": [{\"func_name\": \"double\", \"is_parent\": false, \"frame_id\": 1, \"parent_frame_id_list\": [], \"encoded_locals\": {\"lst\": [\"REF\", 1], \"tmp\": [\"REF\", 3], \"element\": 20}, \"ordered_varnames\": [\"lst\", \"tmp\", \"element\"], \"is_zombie\": false, \"is_highlighted\": true, \"unique_hash\": \"double_f1\"}], \"heap\": {\"1\": [\"LIST\", 10, 20, 30], \"3\": [\"LIST\", 20, 40], \"2\": [\"FUNCTION\", \"double(lst)\", null]}, \"stdout\": \"\"}, {\"line\": 7, \"event\": \"step_line\", \"func_name\": \"double\", \"globals\": {\"external_numbers\": [\"REF\", 1], \"double\": [\"REF\", 2]}, \"ordered_globals\": [\"external_numbers\", \"double\"], \"stack_to_render\": [{\"func_name\": \"double\", \"is_parent\": false, \"frame_id\": 1, \"parent_frame_id_list\": [], \"encoded_locals\": {\"lst\": [\"REF\", 1], \"tmp\": [\"REF\", 3], \"element\": 30}, \"ordered_varnames\": [\"lst\", \"tmp\", \"element\"], \"is_zombie\": false, \"is_highlighted\": true, \"unique_hash\": \"double_f1\"}], \"heap\": {\"1\": [\"LIST\", 10, 20, 30], \"3\": [\"LIST\", 20, 40], \"2\": [\"FUNCTION\", \"double(lst)\", null]}, \"stdout\": \"\"}, {\"line\": 6, \"event\": \"step_line\", \"func_name\": \"double\", \"globals\": {\"external_numbers\": [\"REF\", 1], \"double\": [\"REF\", 2]}, \"ordered_globals\": [\"external_numbers\", \"double\"], \"stack_to_render\": [{\"func_name\": \"double\", \"is_parent\": false, \"frame_id\": 1, \"parent_frame_id_list\": [], \"encoded_locals\": {\"lst\": [\"REF\", 1], \"tmp\": [\"REF\", 3], \"element\": 30}, \"ordered_varnames\": [\"lst\", \"tmp\", \"element\"], \"is_zombie\": false, \"is_highlighted\": true, \"unique_hash\": \"double_f1\"}], \"heap\": {\"1\": [\"LIST\", 10, 20, 30], \"3\": [\"LIST\", 20, 40, 60], \"2\": [\"FUNCTION\", \"double(lst)\", null]}, \"stdout\": \"\"}, {\"line\": 9, \"event\": \"step_line\", \"func_name\": \"double\", \"globals\": {\"external_numbers\": [\"REF\", 1], \"double\": [\"REF\", 2]}, \"ordered_globals\": [\"external_numbers\", \"double\"], \"stack_to_render\": [{\"func_name\": \"double\", \"is_parent\": false, \"frame_id\": 1, \"parent_frame_id_list\": [], \"encoded_locals\": {\"lst\": [\"REF\", 1], \"tmp\": [\"REF\", 3], \"element\": 30}, \"ordered_varnames\": [\"lst\", \"tmp\", \"element\"], \"is_zombie\": false, \"is_highlighted\": true, \"unique_hash\": \"double_f1\"}], \"heap\": {\"1\": [\"LIST\", 10, 20, 30], \"3\": [\"LIST\", 20, 40, 60], \"2\": [\"FUNCTION\", \"double(lst)\", null]}, \"stdout\": \"\"}, {\"line\": 9, \"event\": \"return\", \"func_name\": \"double\", \"globals\": {\"external_numbers\": [\"REF\", 1], \"double\": [\"REF\", 2]}, \"ordered_globals\": [\"external_numbers\", \"double\"], \"stack_to_render\": [{\"func_name\": \"double\", \"is_parent\": false, \"frame_id\": 1, \"parent_frame_id_list\": [], \"encoded_locals\": {\"lst\": [\"REF\", 1], \"tmp\": [\"REF\", 3], \"element\": 30, \"external_numbers\": [\"REF\", 3], \"__return__\": null}, \"ordered_varnames\": [\"lst\", \"tmp\", \"element\", \"external_numbers\", \"__return__\"], \"is_zombie\": false, \"is_highlighted\": true, \"unique_hash\": \"double_f1\"}], \"heap\": {\"1\": [\"LIST\", 10, 20, 30], \"3\": [\"LIST\", 20, 40, 60], \"2\": [\"FUNCTION\", \"double(lst)\", null]}, \"stdout\": \"\"}, {\"line\": 11, \"event\": \"return\", \"func_name\": \"<module>\", \"globals\": {\"external_numbers\": [\"REF\", 1], \"double\": [\"REF\", 2]}, \"ordered_globals\": [\"external_numbers\", \"double\"], \"stack_to_render\": [], \"heap\": {\"1\": [\"LIST\", 10, 20, 30], \"2\": [\"FUNCTION\", \"double(lst)\", null]}, \"stdout\": \"\"}]}\n",
       "        </script>\n",
       "        <div id=\"jme5d8c10d-4ba4-4c63-b7f1-a11726667d96\" class=\"pytutorVisualizer\"> </div>\n",
       " \n",
       "        <style>\n",
       "        .vizLayoutTd {\n",
       "            background-color: #fff !important;\n",
       "        }\n",
       "\n",
       "        #pyStdout {            \n",
       "            min-height:25px;\n",
       "        }\n",
       "\n",
       "        /* 'Edit this code' link, hiding because replaces browser tab !!!*/\n",
       "        #editCodeLinkDiv {\n",
       "            display:none;  \n",
       "        }\n",
       "        </style>   \n",
       "                            \n",
       "        <script>\n",
       "        (function(){\n",
       "\n",
       "            var trace = JSON.parse(document.getElementById('json-jme5d8c10d-4ba4-4c63-b7f1-a11726667d96').innerHTML);                                        \n",
       "            // NOTE 1: id without #\n",
       "            // NOTE 2 - maybe there are more predictable ways, but this will work anyway\n",
       "            //        - id should be number\n",
       "            visualizerIdOverride = Math.trunc(Math.random() * 100000000000)\n",
       "            addVisualizerToPage(trace, 'jme5d8c10d-4ba4-4c63-b7f1-a11726667d96',{'embeddedMode' : false,\n",
       "                                             'visualizerIdOverride':visualizerIdOverride})  \n",
       "            \n",
       "            \n",
       "            // set overflow for pytuts - need to do in python as css \n",
       "            // does not allow parent selection\n",
       "            var pytuts = $('.pytutorVisualizer')\n",
       "            pytuts.closest('div.output_html.rendered_html.output_result')\n",
       "                    .css('overflow-x', 'visible')\n",
       "        \n",
       "            //pytuts.closest('div.output_html.rendered_html.output_result')\n",
       "            //      .css('background-color','red')                \n",
       "            \n",
       "        })()\n",
       "        </script>\n",
       "                \n",
       "                "
      ],
      "text/plain": [
       "<IPython.core.display.HTML object>"
      ]
     },
     "execution_count": 24,
     "metadata": {},
     "output_type": "execute_result"
    }
   ],
   "source": [
    "external_numbers = [10,20,30]\n",
    "\n",
    "def double(lst):\n",
    "    tmp = []\n",
    "    for element in lst:\n",
    "        tmp.append(element * 2)  \n",
    "                                 \n",
    "    external_numbers = tmp                                       \n",
    "    \n",
    "double(external_numbers)\n",
    "\n",
    "jupman.pytut()"
   ]
  },
  {
   "cell_type": "markdown",
   "id": "e2a164c6",
   "metadata": {},
   "source": [
    "### Doubling: fail / 4\n",
    "\n",
    "Lastly, you might fall into this other temptation tempted, but yet again it will **not** work."
   ]
  },
  {
   "cell_type": "markdown",
   "id": "e059fb95",
   "metadata": {},
   "source": [
    "**QUESTION**: Why? Try to answer before checking execution in  Python Tutor."
   ]
  },
  {
   "cell_type": "raw",
   "id": "07f7478d",
   "metadata": {
    "format": "text/html"
   },
   "source": [
    "<a  class=\"jupman-sol jupman-sol-toggler\" \n",
    " onclick=\"jupman.toggleSolution(this);\" \n",
    " data-jupman-show=\"Show answer\" data-jupman-hide=\"Hide\">Show answer</a><div class=\"jupman-sol jupman-sol-question\" style=\"display:none\">  "
   ]
  },
  {
   "cell_type": "markdown",
   "id": "501e8b03",
   "metadata": {},
   "source": [
    "**ANSWER**: \n",
    "\n",
    "```python\n",
    "external_numbers = [10,20,30]\n",
    "\n",
    "def double(lst):\n",
    "    tmp = []\n",
    "    for element in lst:\n",
    "        tmp.append(element * 2)   # WRONG: we are creating a NEW list, text tells to MODIFY \n",
    "                                 \n",
    "    return tmp                    # WRONG: text did'nt ask you to RETURN anything                                   \n",
    "    \n",
    "external_numbers = double(external_numbers)  # WRONG: even if external_numbers association will \n",
    "                                             # actually  point  to a list of doubled numbers, \n",
    "                                             # it will be a completely NEW region of memory,\n",
    "                                             # while we wanted to MODIFY the original one!\n",
    "```"
   ]
  },
  {
   "cell_type": "raw",
   "id": "2a1b2616",
   "metadata": {
    "format": "text/html"
   },
   "source": [
    "</div>"
   ]
  },
  {
   "cell_type": "code",
   "execution_count": 25,
   "id": "c6939010",
   "metadata": {},
   "outputs": [
    {
     "data": {
      "text/html": [
       "\n",
       "        <script src=\"../_static/js/pytutor-embed.bundle.min.js\" type=\"application/javascript\"></script>\n",
       "     \n",
       "        <script id=\"json-jmfd37ff32-6cfa-4779-8ae4-b98ff12d5c99\" type=\"application/json\" >\n",
       "            {\"code\": \" \\nexternal_numbers = [10,20,30]\\n\\ndef double(lst):\\n    tmp = []\\n    for element in lst:\\n        tmp.append(element * 2)   \\n                                 \\n    return tmp                    \\n    \\nexternal_numbers = double(external_numbers)\", \"trace\": [{\"line\": 2, \"event\": \"step_line\", \"func_name\": \"<module>\", \"globals\": {}, \"ordered_globals\": [], \"stack_to_render\": [], \"heap\": {}, \"stdout\": \"\"}, {\"line\": 4, \"event\": \"step_line\", \"func_name\": \"<module>\", \"globals\": {\"external_numbers\": [\"REF\", 1]}, \"ordered_globals\": [\"external_numbers\"], \"stack_to_render\": [], \"heap\": {\"1\": [\"LIST\", 10, 20, 30]}, \"stdout\": \"\"}, {\"line\": 11, \"event\": \"step_line\", \"func_name\": \"<module>\", \"globals\": {\"external_numbers\": [\"REF\", 1], \"double\": [\"REF\", 2]}, \"ordered_globals\": [\"external_numbers\", \"double\"], \"stack_to_render\": [], \"heap\": {\"1\": [\"LIST\", 10, 20, 30], \"2\": [\"FUNCTION\", \"double(lst)\", null]}, \"stdout\": \"\"}, {\"line\": 4, \"event\": \"call\", \"func_name\": \"double\", \"globals\": {\"external_numbers\": [\"REF\", 1], \"double\": [\"REF\", 2]}, \"ordered_globals\": [\"external_numbers\", \"double\"], \"stack_to_render\": [{\"func_name\": \"double\", \"is_parent\": false, \"frame_id\": 1, \"parent_frame_id_list\": [], \"encoded_locals\": {\"lst\": [\"REF\", 1]}, \"ordered_varnames\": [\"lst\"], \"is_zombie\": false, \"is_highlighted\": true, \"unique_hash\": \"double_f1\"}], \"heap\": {\"1\": [\"LIST\", 10, 20, 30], \"2\": [\"FUNCTION\", \"double(lst)\", null]}, \"stdout\": \"\"}, {\"line\": 5, \"event\": \"step_line\", \"func_name\": \"double\", \"globals\": {\"external_numbers\": [\"REF\", 1], \"double\": [\"REF\", 2]}, \"ordered_globals\": [\"external_numbers\", \"double\"], \"stack_to_render\": [{\"func_name\": \"double\", \"is_parent\": false, \"frame_id\": 1, \"parent_frame_id_list\": [], \"encoded_locals\": {\"lst\": [\"REF\", 1]}, \"ordered_varnames\": [\"lst\"], \"is_zombie\": false, \"is_highlighted\": true, \"unique_hash\": \"double_f1\"}], \"heap\": {\"1\": [\"LIST\", 10, 20, 30], \"2\": [\"FUNCTION\", \"double(lst)\", null]}, \"stdout\": \"\"}, {\"line\": 6, \"event\": \"step_line\", \"func_name\": \"double\", \"globals\": {\"external_numbers\": [\"REF\", 1], \"double\": [\"REF\", 2]}, \"ordered_globals\": [\"external_numbers\", \"double\"], \"stack_to_render\": [{\"func_name\": \"double\", \"is_parent\": false, \"frame_id\": 1, \"parent_frame_id_list\": [], \"encoded_locals\": {\"lst\": [\"REF\", 1], \"tmp\": [\"REF\", 3]}, \"ordered_varnames\": [\"lst\", \"tmp\"], \"is_zombie\": false, \"is_highlighted\": true, \"unique_hash\": \"double_f1\"}], \"heap\": {\"1\": [\"LIST\", 10, 20, 30], \"3\": [\"LIST\"], \"2\": [\"FUNCTION\", \"double(lst)\", null]}, \"stdout\": \"\"}, {\"line\": 7, \"event\": \"step_line\", \"func_name\": \"double\", \"globals\": {\"external_numbers\": [\"REF\", 1], \"double\": [\"REF\", 2]}, \"ordered_globals\": [\"external_numbers\", \"double\"], \"stack_to_render\": [{\"func_name\": \"double\", \"is_parent\": false, \"frame_id\": 1, \"parent_frame_id_list\": [], \"encoded_locals\": {\"lst\": [\"REF\", 1], \"tmp\": [\"REF\", 3], \"element\": 10}, \"ordered_varnames\": [\"lst\", \"tmp\", \"element\"], \"is_zombie\": false, \"is_highlighted\": true, \"unique_hash\": \"double_f1\"}], \"heap\": {\"1\": [\"LIST\", 10, 20, 30], \"3\": [\"LIST\"], \"2\": [\"FUNCTION\", \"double(lst)\", null]}, \"stdout\": \"\"}, {\"line\": 6, \"event\": \"step_line\", \"func_name\": \"double\", \"globals\": {\"external_numbers\": [\"REF\", 1], \"double\": [\"REF\", 2]}, \"ordered_globals\": [\"external_numbers\", \"double\"], \"stack_to_render\": [{\"func_name\": \"double\", \"is_parent\": false, \"frame_id\": 1, \"parent_frame_id_list\": [], \"encoded_locals\": {\"lst\": [\"REF\", 1], \"tmp\": [\"REF\", 3], \"element\": 10}, \"ordered_varnames\": [\"lst\", \"tmp\", \"element\"], \"is_zombie\": false, \"is_highlighted\": true, \"unique_hash\": \"double_f1\"}], \"heap\": {\"1\": [\"LIST\", 10, 20, 30], \"3\": [\"LIST\", 20], \"2\": [\"FUNCTION\", \"double(lst)\", null]}, \"stdout\": \"\"}, {\"line\": 7, \"event\": \"step_line\", \"func_name\": \"double\", \"globals\": {\"external_numbers\": [\"REF\", 1], \"double\": [\"REF\", 2]}, \"ordered_globals\": [\"external_numbers\", \"double\"], \"stack_to_render\": [{\"func_name\": \"double\", \"is_parent\": false, \"frame_id\": 1, \"parent_frame_id_list\": [], \"encoded_locals\": {\"lst\": [\"REF\", 1], \"tmp\": [\"REF\", 3], \"element\": 20}, \"ordered_varnames\": [\"lst\", \"tmp\", \"element\"], \"is_zombie\": false, \"is_highlighted\": true, \"unique_hash\": \"double_f1\"}], \"heap\": {\"1\": [\"LIST\", 10, 20, 30], \"3\": [\"LIST\", 20], \"2\": [\"FUNCTION\", \"double(lst)\", null]}, \"stdout\": \"\"}, {\"line\": 6, \"event\": \"step_line\", \"func_name\": \"double\", \"globals\": {\"external_numbers\": [\"REF\", 1], \"double\": [\"REF\", 2]}, \"ordered_globals\": [\"external_numbers\", \"double\"], \"stack_to_render\": [{\"func_name\": \"double\", \"is_parent\": false, \"frame_id\": 1, \"parent_frame_id_list\": [], \"encoded_locals\": {\"lst\": [\"REF\", 1], \"tmp\": [\"REF\", 3], \"element\": 20}, \"ordered_varnames\": [\"lst\", \"tmp\", \"element\"], \"is_zombie\": false, \"is_highlighted\": true, \"unique_hash\": \"double_f1\"}], \"heap\": {\"1\": [\"LIST\", 10, 20, 30], \"3\": [\"LIST\", 20, 40], \"2\": [\"FUNCTION\", \"double(lst)\", null]}, \"stdout\": \"\"}, {\"line\": 7, \"event\": \"step_line\", \"func_name\": \"double\", \"globals\": {\"external_numbers\": [\"REF\", 1], \"double\": [\"REF\", 2]}, \"ordered_globals\": [\"external_numbers\", \"double\"], \"stack_to_render\": [{\"func_name\": \"double\", \"is_parent\": false, \"frame_id\": 1, \"parent_frame_id_list\": [], \"encoded_locals\": {\"lst\": [\"REF\", 1], \"tmp\": [\"REF\", 3], \"element\": 30}, \"ordered_varnames\": [\"lst\", \"tmp\", \"element\"], \"is_zombie\": false, \"is_highlighted\": true, \"unique_hash\": \"double_f1\"}], \"heap\": {\"1\": [\"LIST\", 10, 20, 30], \"3\": [\"LIST\", 20, 40], \"2\": [\"FUNCTION\", \"double(lst)\", null]}, \"stdout\": \"\"}, {\"line\": 6, \"event\": \"step_line\", \"func_name\": \"double\", \"globals\": {\"external_numbers\": [\"REF\", 1], \"double\": [\"REF\", 2]}, \"ordered_globals\": [\"external_numbers\", \"double\"], \"stack_to_render\": [{\"func_name\": \"double\", \"is_parent\": false, \"frame_id\": 1, \"parent_frame_id_list\": [], \"encoded_locals\": {\"lst\": [\"REF\", 1], \"tmp\": [\"REF\", 3], \"element\": 30}, \"ordered_varnames\": [\"lst\", \"tmp\", \"element\"], \"is_zombie\": false, \"is_highlighted\": true, \"unique_hash\": \"double_f1\"}], \"heap\": {\"1\": [\"LIST\", 10, 20, 30], \"3\": [\"LIST\", 20, 40, 60], \"2\": [\"FUNCTION\", \"double(lst)\", null]}, \"stdout\": \"\"}, {\"line\": 9, \"event\": \"step_line\", \"func_name\": \"double\", \"globals\": {\"external_numbers\": [\"REF\", 1], \"double\": [\"REF\", 2]}, \"ordered_globals\": [\"external_numbers\", \"double\"], \"stack_to_render\": [{\"func_name\": \"double\", \"is_parent\": false, \"frame_id\": 1, \"parent_frame_id_list\": [], \"encoded_locals\": {\"lst\": [\"REF\", 1], \"tmp\": [\"REF\", 3], \"element\": 30}, \"ordered_varnames\": [\"lst\", \"tmp\", \"element\"], \"is_zombie\": false, \"is_highlighted\": true, \"unique_hash\": \"double_f1\"}], \"heap\": {\"1\": [\"LIST\", 10, 20, 30], \"3\": [\"LIST\", 20, 40, 60], \"2\": [\"FUNCTION\", \"double(lst)\", null]}, \"stdout\": \"\"}, {\"line\": 9, \"event\": \"return\", \"func_name\": \"double\", \"globals\": {\"external_numbers\": [\"REF\", 1], \"double\": [\"REF\", 2]}, \"ordered_globals\": [\"external_numbers\", \"double\"], \"stack_to_render\": [{\"func_name\": \"double\", \"is_parent\": false, \"frame_id\": 1, \"parent_frame_id_list\": [], \"encoded_locals\": {\"lst\": [\"REF\", 1], \"tmp\": [\"REF\", 3], \"element\": 30, \"__return__\": [\"REF\", 3]}, \"ordered_varnames\": [\"lst\", \"tmp\", \"element\", \"__return__\"], \"is_zombie\": false, \"is_highlighted\": true, \"unique_hash\": \"double_f1\"}], \"heap\": {\"1\": [\"LIST\", 10, 20, 30], \"3\": [\"LIST\", 20, 40, 60], \"2\": [\"FUNCTION\", \"double(lst)\", null]}, \"stdout\": \"\"}, {\"line\": 11, \"event\": \"return\", \"func_name\": \"<module>\", \"globals\": {\"external_numbers\": [\"REF\", 3], \"double\": [\"REF\", 2]}, \"ordered_globals\": [\"external_numbers\", \"double\"], \"stack_to_render\": [], \"heap\": {\"3\": [\"LIST\", 20, 40, 60], \"2\": [\"FUNCTION\", \"double(lst)\", null]}, \"stdout\": \"\"}]}\n",
       "        </script>\n",
       "        <div id=\"jmfd37ff32-6cfa-4779-8ae4-b98ff12d5c99\" class=\"pytutorVisualizer\"> </div>\n",
       " \n",
       "        <style>\n",
       "        .vizLayoutTd {\n",
       "            background-color: #fff !important;\n",
       "        }\n",
       "\n",
       "        #pyStdout {            \n",
       "            min-height:25px;\n",
       "        }\n",
       "\n",
       "        /* 'Edit this code' link, hiding because replaces browser tab !!!*/\n",
       "        #editCodeLinkDiv {\n",
       "            display:none;  \n",
       "        }\n",
       "        </style>   \n",
       "                            \n",
       "        <script>\n",
       "        (function(){\n",
       "\n",
       "            var trace = JSON.parse(document.getElementById('json-jmfd37ff32-6cfa-4779-8ae4-b98ff12d5c99').innerHTML);                                        \n",
       "            // NOTE 1: id without #\n",
       "            // NOTE 2 - maybe there are more predictable ways, but this will work anyway\n",
       "            //        - id should be number\n",
       "            visualizerIdOverride = Math.trunc(Math.random() * 100000000000)\n",
       "            addVisualizerToPage(trace, 'jmfd37ff32-6cfa-4779-8ae4-b98ff12d5c99',{'embeddedMode' : false,\n",
       "                                             'visualizerIdOverride':visualizerIdOverride})  \n",
       "            \n",
       "            \n",
       "            // set overflow for pytuts - need to do in python as css \n",
       "            // does not allow parent selection\n",
       "            var pytuts = $('.pytutorVisualizer')\n",
       "            pytuts.closest('div.output_html.rendered_html.output_result')\n",
       "                    .css('overflow-x', 'visible')\n",
       "        \n",
       "            //pytuts.closest('div.output_html.rendered_html.output_result')\n",
       "            //      .css('background-color','red')                \n",
       "            \n",
       "        })()\n",
       "        </script>\n",
       "                \n",
       "                "
      ],
      "text/plain": [
       "<IPython.core.display.HTML object>"
      ]
     },
     "execution_count": 25,
     "metadata": {},
     "output_type": "execute_result"
    }
   ],
   "source": [
    "external_numbers = [10,20,30]\n",
    "\n",
    "def double(lst):\n",
    "    tmp = []\n",
    "    for element in lst:\n",
    "        tmp.append(element * 2)   \n",
    "                                 \n",
    "    return tmp                    \n",
    "    \n",
    "external_numbers = double(external_numbers)                                             \n",
    "\n",
    "jupman.pytut()"
   ]
  },
  {
   "cell_type": "markdown",
   "id": "736d21aa",
   "metadata": {},
   "source": [
    "Probably you are a bit confused about the previous attempt, which to the untrained eye might look successful. Let's try to rewrite it with one variable more `saved` which will point to exactly the same original memory region of `external_numbers`. You will see that at the end `saved` will point to `[10,20,30]`, showing we didn't actually MODIFY the original region.\n"
   ]
  },
  {
   "cell_type": "code",
   "execution_count": 26,
   "id": "8c6361e5",
   "metadata": {},
   "outputs": [
    {
     "name": "stdout",
     "output_type": "stream",
     "text": [
      "external_numbers: [20, 40, 60]\n",
      "           saved: [10, 20, 30]\n"
     ]
    },
    {
     "data": {
      "text/html": [
       "\n",
       "        <script src=\"../_static/js/pytutor-embed.bundle.min.js\" type=\"application/javascript\"></script>\n",
       "     \n",
       "        <script id=\"json-jm73914041-a144-431b-a210-a07db710daad\" type=\"application/json\" >\n",
       "            {\"code\": \" \\nexternal_numbers = [10,20,30]\\nsaved = external_numbers   # we preserve a pointer\\n\\ndef double(lst):\\n    tmp = []\\n    for element in lst:\\n        tmp.append(element * 2)                                   \\n    return tmp                   \\n    \\nexternal_numbers = double(external_numbers) \\nprint('external_numbers:', external_numbers)  # [20,40,60]\\nprint('           saved:', saved)             # [10,20,30]\", \"trace\": [{\"line\": 2, \"event\": \"step_line\", \"func_name\": \"<module>\", \"globals\": {}, \"ordered_globals\": [], \"stack_to_render\": [], \"heap\": {}, \"stdout\": \"\"}, {\"line\": 3, \"event\": \"step_line\", \"func_name\": \"<module>\", \"globals\": {\"external_numbers\": [\"REF\", 1]}, \"ordered_globals\": [\"external_numbers\"], \"stack_to_render\": [], \"heap\": {\"1\": [\"LIST\", 10, 20, 30]}, \"stdout\": \"\"}, {\"line\": 5, \"event\": \"step_line\", \"func_name\": \"<module>\", \"globals\": {\"external_numbers\": [\"REF\", 1], \"saved\": [\"REF\", 1]}, \"ordered_globals\": [\"external_numbers\", \"saved\"], \"stack_to_render\": [], \"heap\": {\"1\": [\"LIST\", 10, 20, 30]}, \"stdout\": \"\"}, {\"line\": 11, \"event\": \"step_line\", \"func_name\": \"<module>\", \"globals\": {\"external_numbers\": [\"REF\", 1], \"saved\": [\"REF\", 1], \"double\": [\"REF\", 2]}, \"ordered_globals\": [\"external_numbers\", \"saved\", \"double\"], \"stack_to_render\": [], \"heap\": {\"1\": [\"LIST\", 10, 20, 30], \"2\": [\"FUNCTION\", \"double(lst)\", null]}, \"stdout\": \"\"}, {\"line\": 5, \"event\": \"call\", \"func_name\": \"double\", \"globals\": {\"external_numbers\": [\"REF\", 1], \"saved\": [\"REF\", 1], \"double\": [\"REF\", 2]}, \"ordered_globals\": [\"external_numbers\", \"saved\", \"double\"], \"stack_to_render\": [{\"func_name\": \"double\", \"is_parent\": false, \"frame_id\": 1, \"parent_frame_id_list\": [], \"encoded_locals\": {\"lst\": [\"REF\", 1]}, \"ordered_varnames\": [\"lst\"], \"is_zombie\": false, \"is_highlighted\": true, \"unique_hash\": \"double_f1\"}], \"heap\": {\"1\": [\"LIST\", 10, 20, 30], \"2\": [\"FUNCTION\", \"double(lst)\", null]}, \"stdout\": \"\"}, {\"line\": 6, \"event\": \"step_line\", \"func_name\": \"double\", \"globals\": {\"external_numbers\": [\"REF\", 1], \"saved\": [\"REF\", 1], \"double\": [\"REF\", 2]}, \"ordered_globals\": [\"external_numbers\", \"saved\", \"double\"], \"stack_to_render\": [{\"func_name\": \"double\", \"is_parent\": false, \"frame_id\": 1, \"parent_frame_id_list\": [], \"encoded_locals\": {\"lst\": [\"REF\", 1]}, \"ordered_varnames\": [\"lst\"], \"is_zombie\": false, \"is_highlighted\": true, \"unique_hash\": \"double_f1\"}], \"heap\": {\"1\": [\"LIST\", 10, 20, 30], \"2\": [\"FUNCTION\", \"double(lst)\", null]}, \"stdout\": \"\"}, {\"line\": 7, \"event\": \"step_line\", \"func_name\": \"double\", \"globals\": {\"external_numbers\": [\"REF\", 1], \"saved\": [\"REF\", 1], \"double\": [\"REF\", 2]}, \"ordered_globals\": [\"external_numbers\", \"saved\", \"double\"], \"stack_to_render\": [{\"func_name\": \"double\", \"is_parent\": false, \"frame_id\": 1, \"parent_frame_id_list\": [], \"encoded_locals\": {\"lst\": [\"REF\", 1], \"tmp\": [\"REF\", 3]}, \"ordered_varnames\": [\"lst\", \"tmp\"], \"is_zombie\": false, \"is_highlighted\": true, \"unique_hash\": \"double_f1\"}], \"heap\": {\"1\": [\"LIST\", 10, 20, 30], \"3\": [\"LIST\"], \"2\": [\"FUNCTION\", \"double(lst)\", null]}, \"stdout\": \"\"}, {\"line\": 8, \"event\": \"step_line\", \"func_name\": \"double\", \"globals\": {\"external_numbers\": [\"REF\", 1], \"saved\": [\"REF\", 1], \"double\": [\"REF\", 2]}, \"ordered_globals\": [\"external_numbers\", \"saved\", \"double\"], \"stack_to_render\": [{\"func_name\": \"double\", \"is_parent\": false, \"frame_id\": 1, \"parent_frame_id_list\": [], \"encoded_locals\": {\"lst\": [\"REF\", 1], \"tmp\": [\"REF\", 3], \"element\": 10}, \"ordered_varnames\": [\"lst\", \"tmp\", \"element\"], \"is_zombie\": false, \"is_highlighted\": true, \"unique_hash\": \"double_f1\"}], \"heap\": {\"1\": [\"LIST\", 10, 20, 30], \"3\": [\"LIST\"], \"2\": [\"FUNCTION\", \"double(lst)\", null]}, \"stdout\": \"\"}, {\"line\": 7, \"event\": \"step_line\", \"func_name\": \"double\", \"globals\": {\"external_numbers\": [\"REF\", 1], \"saved\": [\"REF\", 1], \"double\": [\"REF\", 2]}, \"ordered_globals\": [\"external_numbers\", \"saved\", \"double\"], \"stack_to_render\": [{\"func_name\": \"double\", \"is_parent\": false, \"frame_id\": 1, \"parent_frame_id_list\": [], \"encoded_locals\": {\"lst\": [\"REF\", 1], \"tmp\": [\"REF\", 3], \"element\": 10}, \"ordered_varnames\": [\"lst\", \"tmp\", \"element\"], \"is_zombie\": false, \"is_highlighted\": true, \"unique_hash\": \"double_f1\"}], \"heap\": {\"1\": [\"LIST\", 10, 20, 30], \"3\": [\"LIST\", 20], \"2\": [\"FUNCTION\", \"double(lst)\", null]}, \"stdout\": \"\"}, {\"line\": 8, \"event\": \"step_line\", \"func_name\": \"double\", \"globals\": {\"external_numbers\": [\"REF\", 1], \"saved\": [\"REF\", 1], \"double\": [\"REF\", 2]}, \"ordered_globals\": [\"external_numbers\", \"saved\", \"double\"], \"stack_to_render\": [{\"func_name\": \"double\", \"is_parent\": false, \"frame_id\": 1, \"parent_frame_id_list\": [], \"encoded_locals\": {\"lst\": [\"REF\", 1], \"tmp\": [\"REF\", 3], \"element\": 20}, \"ordered_varnames\": [\"lst\", \"tmp\", \"element\"], \"is_zombie\": false, \"is_highlighted\": true, \"unique_hash\": \"double_f1\"}], \"heap\": {\"1\": [\"LIST\", 10, 20, 30], \"3\": [\"LIST\", 20], \"2\": [\"FUNCTION\", \"double(lst)\", null]}, \"stdout\": \"\"}, {\"line\": 7, \"event\": \"step_line\", \"func_name\": \"double\", \"globals\": {\"external_numbers\": [\"REF\", 1], \"saved\": [\"REF\", 1], \"double\": [\"REF\", 2]}, \"ordered_globals\": [\"external_numbers\", \"saved\", \"double\"], \"stack_to_render\": [{\"func_name\": \"double\", \"is_parent\": false, \"frame_id\": 1, \"parent_frame_id_list\": [], \"encoded_locals\": {\"lst\": [\"REF\", 1], \"tmp\": [\"REF\", 3], \"element\": 20}, \"ordered_varnames\": [\"lst\", \"tmp\", \"element\"], \"is_zombie\": false, \"is_highlighted\": true, \"unique_hash\": \"double_f1\"}], \"heap\": {\"1\": [\"LIST\", 10, 20, 30], \"3\": [\"LIST\", 20, 40], \"2\": [\"FUNCTION\", \"double(lst)\", null]}, \"stdout\": \"\"}, {\"line\": 8, \"event\": \"step_line\", \"func_name\": \"double\", \"globals\": {\"external_numbers\": [\"REF\", 1], \"saved\": [\"REF\", 1], \"double\": [\"REF\", 2]}, \"ordered_globals\": [\"external_numbers\", \"saved\", \"double\"], \"stack_to_render\": [{\"func_name\": \"double\", \"is_parent\": false, \"frame_id\": 1, \"parent_frame_id_list\": [], \"encoded_locals\": {\"lst\": [\"REF\", 1], \"tmp\": [\"REF\", 3], \"element\": 30}, \"ordered_varnames\": [\"lst\", \"tmp\", \"element\"], \"is_zombie\": false, \"is_highlighted\": true, \"unique_hash\": \"double_f1\"}], \"heap\": {\"1\": [\"LIST\", 10, 20, 30], \"3\": [\"LIST\", 20, 40], \"2\": [\"FUNCTION\", \"double(lst)\", null]}, \"stdout\": \"\"}, {\"line\": 7, \"event\": \"step_line\", \"func_name\": \"double\", \"globals\": {\"external_numbers\": [\"REF\", 1], \"saved\": [\"REF\", 1], \"double\": [\"REF\", 2]}, \"ordered_globals\": [\"external_numbers\", \"saved\", \"double\"], \"stack_to_render\": [{\"func_name\": \"double\", \"is_parent\": false, \"frame_id\": 1, \"parent_frame_id_list\": [], \"encoded_locals\": {\"lst\": [\"REF\", 1], \"tmp\": [\"REF\", 3], \"element\": 30}, \"ordered_varnames\": [\"lst\", \"tmp\", \"element\"], \"is_zombie\": false, \"is_highlighted\": true, \"unique_hash\": \"double_f1\"}], \"heap\": {\"1\": [\"LIST\", 10, 20, 30], \"3\": [\"LIST\", 20, 40, 60], \"2\": [\"FUNCTION\", \"double(lst)\", null]}, \"stdout\": \"\"}, {\"line\": 9, \"event\": \"step_line\", \"func_name\": \"double\", \"globals\": {\"external_numbers\": [\"REF\", 1], \"saved\": [\"REF\", 1], \"double\": [\"REF\", 2]}, \"ordered_globals\": [\"external_numbers\", \"saved\", \"double\"], \"stack_to_render\": [{\"func_name\": \"double\", \"is_parent\": false, \"frame_id\": 1, \"parent_frame_id_list\": [], \"encoded_locals\": {\"lst\": [\"REF\", 1], \"tmp\": [\"REF\", 3], \"element\": 30}, \"ordered_varnames\": [\"lst\", \"tmp\", \"element\"], \"is_zombie\": false, \"is_highlighted\": true, \"unique_hash\": \"double_f1\"}], \"heap\": {\"1\": [\"LIST\", 10, 20, 30], \"3\": [\"LIST\", 20, 40, 60], \"2\": [\"FUNCTION\", \"double(lst)\", null]}, \"stdout\": \"\"}, {\"line\": 9, \"event\": \"return\", \"func_name\": \"double\", \"globals\": {\"external_numbers\": [\"REF\", 1], \"saved\": [\"REF\", 1], \"double\": [\"REF\", 2]}, \"ordered_globals\": [\"external_numbers\", \"saved\", \"double\"], \"stack_to_render\": [{\"func_name\": \"double\", \"is_parent\": false, \"frame_id\": 1, \"parent_frame_id_list\": [], \"encoded_locals\": {\"lst\": [\"REF\", 1], \"tmp\": [\"REF\", 3], \"element\": 30, \"__return__\": [\"REF\", 3]}, \"ordered_varnames\": [\"lst\", \"tmp\", \"element\", \"__return__\"], \"is_zombie\": false, \"is_highlighted\": true, \"unique_hash\": \"double_f1\"}], \"heap\": {\"1\": [\"LIST\", 10, 20, 30], \"3\": [\"LIST\", 20, 40, 60], \"2\": [\"FUNCTION\", \"double(lst)\", null]}, \"stdout\": \"\"}, {\"line\": 12, \"event\": \"step_line\", \"func_name\": \"<module>\", \"globals\": {\"external_numbers\": [\"REF\", 3], \"saved\": [\"REF\", 1], \"double\": [\"REF\", 2]}, \"ordered_globals\": [\"external_numbers\", \"saved\", \"double\"], \"stack_to_render\": [], \"heap\": {\"3\": [\"LIST\", 20, 40, 60], \"1\": [\"LIST\", 10, 20, 30], \"2\": [\"FUNCTION\", \"double(lst)\", null]}, \"stdout\": \"\"}, {\"line\": 13, \"event\": \"step_line\", \"func_name\": \"<module>\", \"globals\": {\"external_numbers\": [\"REF\", 3], \"saved\": [\"REF\", 1], \"double\": [\"REF\", 2]}, \"ordered_globals\": [\"external_numbers\", \"saved\", \"double\"], \"stack_to_render\": [], \"heap\": {\"3\": [\"LIST\", 20, 40, 60], \"1\": [\"LIST\", 10, 20, 30], \"2\": [\"FUNCTION\", \"double(lst)\", null]}, \"stdout\": \"external_numbers: [20, 40, 60]\\n\"}, {\"line\": 13, \"event\": \"return\", \"func_name\": \"<module>\", \"globals\": {\"external_numbers\": [\"REF\", 3], \"saved\": [\"REF\", 1], \"double\": [\"REF\", 2]}, \"ordered_globals\": [\"external_numbers\", \"saved\", \"double\"], \"stack_to_render\": [], \"heap\": {\"3\": [\"LIST\", 20, 40, 60], \"1\": [\"LIST\", 10, 20, 30], \"2\": [\"FUNCTION\", \"double(lst)\", null]}, \"stdout\": \"external_numbers: [20, 40, 60]\\n           saved: [10, 20, 30]\\n\"}]}\n",
       "        </script>\n",
       "        <div id=\"jm73914041-a144-431b-a210-a07db710daad\" class=\"pytutorVisualizer\"> </div>\n",
       " \n",
       "        <style>\n",
       "        .vizLayoutTd {\n",
       "            background-color: #fff !important;\n",
       "        }\n",
       "\n",
       "        #pyStdout {            \n",
       "            min-height:25px;\n",
       "        }\n",
       "\n",
       "        /* 'Edit this code' link, hiding because replaces browser tab !!!*/\n",
       "        #editCodeLinkDiv {\n",
       "            display:none;  \n",
       "        }\n",
       "        </style>   \n",
       "                            \n",
       "        <script>\n",
       "        (function(){\n",
       "\n",
       "            var trace = JSON.parse(document.getElementById('json-jm73914041-a144-431b-a210-a07db710daad').innerHTML);                                        \n",
       "            // NOTE 1: id without #\n",
       "            // NOTE 2 - maybe there are more predictable ways, but this will work anyway\n",
       "            //        - id should be number\n",
       "            visualizerIdOverride = Math.trunc(Math.random() * 100000000000)\n",
       "            addVisualizerToPage(trace, 'jm73914041-a144-431b-a210-a07db710daad',{'embeddedMode' : false,\n",
       "                                             'visualizerIdOverride':visualizerIdOverride})  \n",
       "            \n",
       "            \n",
       "            // set overflow for pytuts - need to do in python as css \n",
       "            // does not allow parent selection\n",
       "            var pytuts = $('.pytutorVisualizer')\n",
       "            pytuts.closest('div.output_html.rendered_html.output_result')\n",
       "                    .css('overflow-x', 'visible')\n",
       "        \n",
       "            //pytuts.closest('div.output_html.rendered_html.output_result')\n",
       "            //      .css('background-color','red')                \n",
       "            \n",
       "        })()\n",
       "        </script>\n",
       "                \n",
       "                "
      ],
      "text/plain": [
       "<IPython.core.display.HTML object>"
      ]
     },
     "execution_count": 26,
     "metadata": {},
     "output_type": "execute_result"
    }
   ],
   "source": [
    "external_numbers = [10,20,30]\n",
    "saved = external_numbers   # we preserve a pointer\n",
    "\n",
    "def double(lst):\n",
    "    tmp = []\n",
    "    for element in lst:\n",
    "        tmp.append(element * 2)                                   \n",
    "    return tmp                   \n",
    "    \n",
    "external_numbers = double(external_numbers) \n",
    "print('external_numbers:', external_numbers)  # [20,40,60]\n",
    "print('           saved:', saved)             # [10,20,30]\n",
    "\n",
    "jupman.pytut()"
   ]
  },
  {
   "cell_type": "markdown",
   "id": "3220a2ee",
   "metadata": {},
   "source": [
    "### Doubling success!\n",
    "\n",
    "Let's finally see the right way to do it: we need to consider we want to refer to original cells, so to do it properly we need to access them _by index_, and we will need a `for in` range."
   ]
  },
  {
   "cell_type": "code",
   "execution_count": 27,
   "id": "5fafcf66",
   "metadata": {},
   "outputs": [
    {
     "data": {
      "text/html": [
       "\n",
       "        <script src=\"../_static/js/pytutor-embed.bundle.min.js\" type=\"application/javascript\"></script>\n",
       "     \n",
       "        <script id=\"json-jm99c86072-84b3-4390-ac3c-6a17ae044558\" type=\"application/json\" >\n",
       "            {\"code\": \" \\nexternal_numbers = [1,2,3,4,5]\\n\\ndef double(lst):    \\n    for i in range(len(lst)):\\n        lst[i] = lst[i] * 2        \\n    \\ndouble(external_numbers)\", \"trace\": [{\"line\": 2, \"event\": \"step_line\", \"func_name\": \"<module>\", \"globals\": {}, \"ordered_globals\": [], \"stack_to_render\": [], \"heap\": {}, \"stdout\": \"\"}, {\"line\": 4, \"event\": \"step_line\", \"func_name\": \"<module>\", \"globals\": {\"external_numbers\": [\"REF\", 1]}, \"ordered_globals\": [\"external_numbers\"], \"stack_to_render\": [], \"heap\": {\"1\": [\"LIST\", 1, 2, 3, 4, 5]}, \"stdout\": \"\"}, {\"line\": 8, \"event\": \"step_line\", \"func_name\": \"<module>\", \"globals\": {\"external_numbers\": [\"REF\", 1], \"double\": [\"REF\", 2]}, \"ordered_globals\": [\"external_numbers\", \"double\"], \"stack_to_render\": [], \"heap\": {\"1\": [\"LIST\", 1, 2, 3, 4, 5], \"2\": [\"FUNCTION\", \"double(lst)\", null]}, \"stdout\": \"\"}, {\"line\": 4, \"event\": \"call\", \"func_name\": \"double\", \"globals\": {\"external_numbers\": [\"REF\", 1], \"double\": [\"REF\", 2]}, \"ordered_globals\": [\"external_numbers\", \"double\"], \"stack_to_render\": [{\"func_name\": \"double\", \"is_parent\": false, \"frame_id\": 1, \"parent_frame_id_list\": [], \"encoded_locals\": {\"lst\": [\"REF\", 1]}, \"ordered_varnames\": [\"lst\"], \"is_zombie\": false, \"is_highlighted\": true, \"unique_hash\": \"double_f1\"}], \"heap\": {\"1\": [\"LIST\", 1, 2, 3, 4, 5], \"2\": [\"FUNCTION\", \"double(lst)\", null]}, \"stdout\": \"\"}, {\"line\": 5, \"event\": \"step_line\", \"func_name\": \"double\", \"globals\": {\"external_numbers\": [\"REF\", 1], \"double\": [\"REF\", 2]}, \"ordered_globals\": [\"external_numbers\", \"double\"], \"stack_to_render\": [{\"func_name\": \"double\", \"is_parent\": false, \"frame_id\": 1, \"parent_frame_id_list\": [], \"encoded_locals\": {\"lst\": [\"REF\", 1]}, \"ordered_varnames\": [\"lst\"], \"is_zombie\": false, \"is_highlighted\": true, \"unique_hash\": \"double_f1\"}], \"heap\": {\"1\": [\"LIST\", 1, 2, 3, 4, 5], \"2\": [\"FUNCTION\", \"double(lst)\", null]}, \"stdout\": \"\"}, {\"line\": 6, \"event\": \"step_line\", \"func_name\": \"double\", \"globals\": {\"external_numbers\": [\"REF\", 1], \"double\": [\"REF\", 2]}, \"ordered_globals\": [\"external_numbers\", \"double\"], \"stack_to_render\": [{\"func_name\": \"double\", \"is_parent\": false, \"frame_id\": 1, \"parent_frame_id_list\": [], \"encoded_locals\": {\"lst\": [\"REF\", 1], \"i\": 0}, \"ordered_varnames\": [\"lst\", \"i\"], \"is_zombie\": false, \"is_highlighted\": true, \"unique_hash\": \"double_f1\"}], \"heap\": {\"1\": [\"LIST\", 1, 2, 3, 4, 5], \"2\": [\"FUNCTION\", \"double(lst)\", null]}, \"stdout\": \"\"}, {\"line\": 5, \"event\": \"step_line\", \"func_name\": \"double\", \"globals\": {\"external_numbers\": [\"REF\", 1], \"double\": [\"REF\", 2]}, \"ordered_globals\": [\"external_numbers\", \"double\"], \"stack_to_render\": [{\"func_name\": \"double\", \"is_parent\": false, \"frame_id\": 1, \"parent_frame_id_list\": [], \"encoded_locals\": {\"lst\": [\"REF\", 1], \"i\": 0}, \"ordered_varnames\": [\"lst\", \"i\"], \"is_zombie\": false, \"is_highlighted\": true, \"unique_hash\": \"double_f1\"}], \"heap\": {\"1\": [\"LIST\", 2, 2, 3, 4, 5], \"2\": [\"FUNCTION\", \"double(lst)\", null]}, \"stdout\": \"\"}, {\"line\": 6, \"event\": \"step_line\", \"func_name\": \"double\", \"globals\": {\"external_numbers\": [\"REF\", 1], \"double\": [\"REF\", 2]}, \"ordered_globals\": [\"external_numbers\", \"double\"], \"stack_to_render\": [{\"func_name\": \"double\", \"is_parent\": false, \"frame_id\": 1, \"parent_frame_id_list\": [], \"encoded_locals\": {\"lst\": [\"REF\", 1], \"i\": 1}, \"ordered_varnames\": [\"lst\", \"i\"], \"is_zombie\": false, \"is_highlighted\": true, \"unique_hash\": \"double_f1\"}], \"heap\": {\"1\": [\"LIST\", 2, 2, 3, 4, 5], \"2\": [\"FUNCTION\", \"double(lst)\", null]}, \"stdout\": \"\"}, {\"line\": 5, \"event\": \"step_line\", \"func_name\": \"double\", \"globals\": {\"external_numbers\": [\"REF\", 1], \"double\": [\"REF\", 2]}, \"ordered_globals\": [\"external_numbers\", \"double\"], \"stack_to_render\": [{\"func_name\": \"double\", \"is_parent\": false, \"frame_id\": 1, \"parent_frame_id_list\": [], \"encoded_locals\": {\"lst\": [\"REF\", 1], \"i\": 1}, \"ordered_varnames\": [\"lst\", \"i\"], \"is_zombie\": false, \"is_highlighted\": true, \"unique_hash\": \"double_f1\"}], \"heap\": {\"1\": [\"LIST\", 2, 4, 3, 4, 5], \"2\": [\"FUNCTION\", \"double(lst)\", null]}, \"stdout\": \"\"}, {\"line\": 6, \"event\": \"step_line\", \"func_name\": \"double\", \"globals\": {\"external_numbers\": [\"REF\", 1], \"double\": [\"REF\", 2]}, \"ordered_globals\": [\"external_numbers\", \"double\"], \"stack_to_render\": [{\"func_name\": \"double\", \"is_parent\": false, \"frame_id\": 1, \"parent_frame_id_list\": [], \"encoded_locals\": {\"lst\": [\"REF\", 1], \"i\": 2}, \"ordered_varnames\": [\"lst\", \"i\"], \"is_zombie\": false, \"is_highlighted\": true, \"unique_hash\": \"double_f1\"}], \"heap\": {\"1\": [\"LIST\", 2, 4, 3, 4, 5], \"2\": [\"FUNCTION\", \"double(lst)\", null]}, \"stdout\": \"\"}, {\"line\": 5, \"event\": \"step_line\", \"func_name\": \"double\", \"globals\": {\"external_numbers\": [\"REF\", 1], \"double\": [\"REF\", 2]}, \"ordered_globals\": [\"external_numbers\", \"double\"], \"stack_to_render\": [{\"func_name\": \"double\", \"is_parent\": false, \"frame_id\": 1, \"parent_frame_id_list\": [], \"encoded_locals\": {\"lst\": [\"REF\", 1], \"i\": 2}, \"ordered_varnames\": [\"lst\", \"i\"], \"is_zombie\": false, \"is_highlighted\": true, \"unique_hash\": \"double_f1\"}], \"heap\": {\"1\": [\"LIST\", 2, 4, 6, 4, 5], \"2\": [\"FUNCTION\", \"double(lst)\", null]}, \"stdout\": \"\"}, {\"line\": 6, \"event\": \"step_line\", \"func_name\": \"double\", \"globals\": {\"external_numbers\": [\"REF\", 1], \"double\": [\"REF\", 2]}, \"ordered_globals\": [\"external_numbers\", \"double\"], \"stack_to_render\": [{\"func_name\": \"double\", \"is_parent\": false, \"frame_id\": 1, \"parent_frame_id_list\": [], \"encoded_locals\": {\"lst\": [\"REF\", 1], \"i\": 3}, \"ordered_varnames\": [\"lst\", \"i\"], \"is_zombie\": false, \"is_highlighted\": true, \"unique_hash\": \"double_f1\"}], \"heap\": {\"1\": [\"LIST\", 2, 4, 6, 4, 5], \"2\": [\"FUNCTION\", \"double(lst)\", null]}, \"stdout\": \"\"}, {\"line\": 5, \"event\": \"step_line\", \"func_name\": \"double\", \"globals\": {\"external_numbers\": [\"REF\", 1], \"double\": [\"REF\", 2]}, \"ordered_globals\": [\"external_numbers\", \"double\"], \"stack_to_render\": [{\"func_name\": \"double\", \"is_parent\": false, \"frame_id\": 1, \"parent_frame_id_list\": [], \"encoded_locals\": {\"lst\": [\"REF\", 1], \"i\": 3}, \"ordered_varnames\": [\"lst\", \"i\"], \"is_zombie\": false, \"is_highlighted\": true, \"unique_hash\": \"double_f1\"}], \"heap\": {\"1\": [\"LIST\", 2, 4, 6, 8, 5], \"2\": [\"FUNCTION\", \"double(lst)\", null]}, \"stdout\": \"\"}, {\"line\": 6, \"event\": \"step_line\", \"func_name\": \"double\", \"globals\": {\"external_numbers\": [\"REF\", 1], \"double\": [\"REF\", 2]}, \"ordered_globals\": [\"external_numbers\", \"double\"], \"stack_to_render\": [{\"func_name\": \"double\", \"is_parent\": false, \"frame_id\": 1, \"parent_frame_id_list\": [], \"encoded_locals\": {\"lst\": [\"REF\", 1], \"i\": 4}, \"ordered_varnames\": [\"lst\", \"i\"], \"is_zombie\": false, \"is_highlighted\": true, \"unique_hash\": \"double_f1\"}], \"heap\": {\"1\": [\"LIST\", 2, 4, 6, 8, 5], \"2\": [\"FUNCTION\", \"double(lst)\", null]}, \"stdout\": \"\"}, {\"line\": 5, \"event\": \"step_line\", \"func_name\": \"double\", \"globals\": {\"external_numbers\": [\"REF\", 1], \"double\": [\"REF\", 2]}, \"ordered_globals\": [\"external_numbers\", \"double\"], \"stack_to_render\": [{\"func_name\": \"double\", \"is_parent\": false, \"frame_id\": 1, \"parent_frame_id_list\": [], \"encoded_locals\": {\"lst\": [\"REF\", 1], \"i\": 4}, \"ordered_varnames\": [\"lst\", \"i\"], \"is_zombie\": false, \"is_highlighted\": true, \"unique_hash\": \"double_f1\"}], \"heap\": {\"1\": [\"LIST\", 2, 4, 6, 8, 10], \"2\": [\"FUNCTION\", \"double(lst)\", null]}, \"stdout\": \"\"}, {\"line\": 5, \"event\": \"return\", \"func_name\": \"double\", \"globals\": {\"external_numbers\": [\"REF\", 1], \"double\": [\"REF\", 2]}, \"ordered_globals\": [\"external_numbers\", \"double\"], \"stack_to_render\": [{\"func_name\": \"double\", \"is_parent\": false, \"frame_id\": 1, \"parent_frame_id_list\": [], \"encoded_locals\": {\"lst\": [\"REF\", 1], \"i\": 4, \"__return__\": null}, \"ordered_varnames\": [\"lst\", \"i\", \"__return__\"], \"is_zombie\": false, \"is_highlighted\": true, \"unique_hash\": \"double_f1\"}], \"heap\": {\"1\": [\"LIST\", 2, 4, 6, 8, 10], \"2\": [\"FUNCTION\", \"double(lst)\", null]}, \"stdout\": \"\"}, {\"line\": 8, \"event\": \"return\", \"func_name\": \"<module>\", \"globals\": {\"external_numbers\": [\"REF\", 1], \"double\": [\"REF\", 2]}, \"ordered_globals\": [\"external_numbers\", \"double\"], \"stack_to_render\": [], \"heap\": {\"1\": [\"LIST\", 2, 4, 6, 8, 10], \"2\": [\"FUNCTION\", \"double(lst)\", null]}, \"stdout\": \"\"}]}\n",
       "        </script>\n",
       "        <div id=\"jm99c86072-84b3-4390-ac3c-6a17ae044558\" class=\"pytutorVisualizer\"> </div>\n",
       " \n",
       "        <style>\n",
       "        .vizLayoutTd {\n",
       "            background-color: #fff !important;\n",
       "        }\n",
       "\n",
       "        #pyStdout {            \n",
       "            min-height:25px;\n",
       "        }\n",
       "\n",
       "        /* 'Edit this code' link, hiding because replaces browser tab !!!*/\n",
       "        #editCodeLinkDiv {\n",
       "            display:none;  \n",
       "        }\n",
       "        </style>   \n",
       "                            \n",
       "        <script>\n",
       "        (function(){\n",
       "\n",
       "            var trace = JSON.parse(document.getElementById('json-jm99c86072-84b3-4390-ac3c-6a17ae044558').innerHTML);                                        \n",
       "            // NOTE 1: id without #\n",
       "            // NOTE 2 - maybe there are more predictable ways, but this will work anyway\n",
       "            //        - id should be number\n",
       "            visualizerIdOverride = Math.trunc(Math.random() * 100000000000)\n",
       "            addVisualizerToPage(trace, 'jm99c86072-84b3-4390-ac3c-6a17ae044558',{'embeddedMode' : false,\n",
       "                                             'visualizerIdOverride':visualizerIdOverride})  \n",
       "            \n",
       "            \n",
       "            // set overflow for pytuts - need to do in python as css \n",
       "            // does not allow parent selection\n",
       "            var pytuts = $('.pytutorVisualizer')\n",
       "            pytuts.closest('div.output_html.rendered_html.output_result')\n",
       "                    .css('overflow-x', 'visible')\n",
       "        \n",
       "            //pytuts.closest('div.output_html.rendered_html.output_result')\n",
       "            //      .css('background-color','red')                \n",
       "            \n",
       "        })()\n",
       "        </script>\n",
       "                \n",
       "                "
      ],
      "text/plain": [
       "<IPython.core.display.HTML object>"
      ]
     },
     "execution_count": 27,
     "metadata": {},
     "output_type": "execute_result"
    }
   ],
   "source": [
    "\n",
    "external_numbers = [1,2,3,4,5]\n",
    "\n",
    "def double(lst):    \n",
    "    for i in range(len(lst)):\n",
    "        lst[i] = lst[i] * 2        \n",
    "    \n",
    "double(external_numbers)\n",
    "\n",
    "jupman.pytut()"
   ]
  },
  {
   "cell_type": "markdown",
   "id": "5354ecca",
   "metadata": {},
   "source": [
    "Notice that:\n",
    "\n",
    "- when the function call frame is created, we see an arrow to the original data\n",
    "- the `external_list` actually changed, without ever reassigning it (not even outside)\n",
    "- we didn't reassign `lst = ` inside the function body, as the [IV COMMANDMENT](https://en.softpython.org/commandments.html#IV-COMMANDMENT) prescribes not to reassign parameters\n",
    "- we didn't use `return`, as the function text told us nothing about returning\n",
    "- we didn't referred to `external_list` inside the function body: doing so would have defeated the purpose of functions, which is to isolate them from outside world.\n",
    "\n",
    "\n",
    "In general, in the case of mutable data data isolation is never tight, as we get pointers to data living outside the function frame. When we manipulate pointers it's really up to us to take special care."
   ]
  },
  {
   "cell_type": "markdown",
   "id": "5190bf5f",
   "metadata": {},
   "source": [
    "## Modifying parameters - Questions\n",
    "\n",
    "For each of the following expressions, try guessing the result it produces (or if it gives error)"
   ]
  },
  {
   "cell_type": "markdown",
   "id": "cd9b783f",
   "metadata": {},
   "source": [
    "1.  ```python\n",
    "    def zam(bal):\n",
    "        bal = 4\n",
    "    x = 8\n",
    "    zam(x)\n",
    "    print(x)\n",
    "    ```   \n",
    "1.  ```python\n",
    "    def zom(y):\n",
    "        y = 4\n",
    "    y = 8\n",
    "    zom(y)\n",
    "    print(y)\n",
    "    ```           \n",
    "1.  ```python\n",
    "    def per(la):\n",
    "        la.append('è')    \n",
    "    per(la)\n",
    "    print(la)\n",
    "    ```\n",
    "    \n",
    "1.  ```python\n",
    "    def zeb(lst):\n",
    "        lst.append('d')\n",
    "    la = ['a','b','c']\n",
    "    zeb(la)\n",
    "    print(la)\n",
    "    ```\n",
    "1.  ```python\n",
    "    def beware(la):\n",
    "        la = ['?','?']\n",
    "    lb = ['d','a','m','n']\n",
    "    beware(lb)\n",
    "    print(lb)\n",
    "    ```\n",
    "1.  ```python\n",
    "    def umpa(string):\n",
    "        string = \"lompa\"\n",
    "    word = \"gnappa\"\n",
    "    umpa(word)\n",
    "    print(word)\n",
    "    ```\n",
    "1.  ```python\n",
    "    def sporty(diz):\n",
    "        diz['sneakers'] = 2\n",
    "    cabinet = {'rackets':4,\n",
    "               'balls': 7}\n",
    "    sporty(cabinet)\n",
    "    print(cabinet)\n",
    "    ```\n",
    "1.  ```python\n",
    "    def numma(lst):\n",
    "        lst + [4,5]\n",
    "    la = [1,2,3]    \n",
    "    print(numma(la))\n",
    "    print(la)\n",
    "    ```\n",
    "\n",
    "1.  ```python\n",
    "    def jar(lst):\n",
    "        return lst + [4,5]\n",
    "    lb = [1,2,3]    \n",
    "    print(jar(lb))\n",
    "    print(lb)\n",
    "    ```"
   ]
  },
  {
   "cell_type": "markdown",
   "id": "6d0c9dac",
   "metadata": {},
   "source": [
    "## Exercises - Changing music\n",
    "\n",
    "It's time to better understand what we're doing when we mess with variables and function calls.\n",
    "\n",
    "An uncle of ours gave us a dusty `album` of songs (for some reason tens of years have passed since he last turned on the radio)"
   ]
  },
  {
   "cell_type": "code",
   "execution_count": 28,
   "id": "ff44347e",
   "metadata": {},
   "outputs": [],
   "source": [
    "album = [\n",
    "    \"Caterina Caselli - Cento giorni\",\n",
    "    \"Delirium - Jesahel\",\n",
    "    \"Jan Hammer - Crockett's Theme\",\n",
    "    \"Sonata Arctica - White Pearl, Black Oceans\",\n",
    "    \"Lucio Dalla - 4 marzo 1943.mp3\",\n",
    "    \"The Wellermen - Wellerman\",    \n",
    "    \"Manu Chao - Por el Suelo\",\n",
    "    \"Intillimani - El Pueblo Unido\"\n",
    "]"
   ]
  },
  {
   "cell_type": "markdown",
   "id": "7e4aa901",
   "metadata": {},
   "source": [
    "Songs are reported with the group, a dash `-` and finally the name. Strong with our new knowledge about functions, we decide to put in practice modern software development practices to analyze these misterious relics of the past."
   ]
  },
  {
   "cell_type": "markdown",
   "id": "64e0b3d9",
   "metadata": {},
   "source": [
    "In the following you will find several exercises which will ask you to develop functions: making something which _seems_ to work is often easy, **the true challenge is following exactly what is asked in function text**: take particular care about capitalized words, like PRINT, MODIFY, RETURN, and to the desired outputs, trying to understand to which category the various functions belong to."
   ]
  },
  {
   "cell_type": "markdown",
   "id": "91915d3c",
   "metadata": {},
   "source": [
    "Exercises must all be solved following this scheme:\n",
    "\n",
    "\n",
    "```python\n",
    "album = ...\n",
    "\n",
    "def func(songs):\n",
    "    # do something with songs, NOT with album\n",
    "    # ....    \n",
    "    \n",
    "func(album)  # calls to test, external to function body\n",
    "```"
   ]
  },
  {
   "cell_type": "markdown",
   "id": "3c597187",
   "metadata": {},
   "source": [
    "<div class=\"warning alert-warning\">\n",
    "\n",
    "**DO NOT WRITE EXTERNAL VARIABLE NAMES INSIDE THE FUNCTION**\n",
    "  \n",
    "In particular:    \n",
    "   \n",
    "* **DO NOT** reassign `album =`\n",
    "* **DO NOT** call its methods `album.some_method()`\n",
    "    \n",
    "A function must be typically seen as an isolated world, which should interact with the outworld ONLY through the given parameters. By explicitly writing `album`, you would override such isolation bringing great misfortune.\n",
    "    \n",
    "</div>    "
   ]
  },
  {
   "cell_type": "markdown",
   "id": "935754f2",
   "metadata": {},
   "source": [
    "<div class=\"warning alert-warning\">\n",
    "\n",
    "**ALWAYS USE A PARAMETER NAME DIFFERENT FROM EXTERNAL VARIABLES**\n",
    "    \n",
    "For example, if external data is called `album`, you can call the parameter `songs`\n",
    "</div>        "
   ]
  },
  {
   "cell_type": "markdown",
   "id": "815e1ee8",
   "metadata": {},
   "source": [
    "\n",
    "### Exercise - show\n",
    "\n",
    "Write a function which given a list `songs`, PRINTS the group justified to the right followed by a `:` and the song name\n",
    "\n",
    "**HINT**: to justify the text, use the string method `.rjust(16)`\n",
    "\n",
    "\n",
    "```python\n",
    ">>> res = show(album)  # only prints, implicitly it returns None\n",
    "```\n",
    "```\n",
    "Caterina Caselli: Cento giorni\n",
    "        Delirium: Jesahel\n",
    "      Jan Hammer: Crockett's Theme\n",
    "  Sonata Arctica: White Pearl, Black Oceans\n",
    "     Lucio Dalla: 4 marzo 1943.mp3\n",
    "   The Wellermen: Wellerman\n",
    "       Manu Chao: Por el Suelo\n",
    "     Intillimani: El Pueblo Unido\n",
    "```\n",
    "```python\n",
    ">>> res\n",
    "None\n",
    "```"
   ]
  },
  {
   "cell_type": "raw",
   "id": "e8738aa8",
   "metadata": {
    "format": "text/html"
   },
   "source": [
    "<a  class=\"jupman-sol jupman-sol-toggler\" \n",
    " onclick=\"jupman.toggleSolution(this);\" \n",
    " data-jupman-show=\"Show solution\" data-jupman-hide=\"Hide\">Show solution</a><div class=\"jupman-sol jupman-sol-code\" style=\"display:none\">  "
   ]
  },
  {
   "cell_type": "code",
   "execution_count": 29,
   "id": "1a861a2c",
   "metadata": {},
   "outputs": [
    {
     "name": "stdout",
     "output_type": "stream",
     "text": [
      "Caterina Caselli: Cento giorni\n",
      "        Delirium: Jesahel\n",
      "      Jan Hammer: Crockett's Theme\n",
      "  Sonata Arctica: White Pearl, Black Oceans\n",
      "     Lucio Dalla: 4 marzo 1943.mp3\n",
      "   The Wellermen: Wellerman\n",
      "       Manu Chao: Por el Suelo\n",
      "     Intillimani: El Pueblo Unido\n"
     ]
    }
   ],
   "source": [
    "\n",
    "album = [\n",
    "    \"Caterina Caselli - Cento giorni\",\n",
    "    \"Delirium - Jesahel\",\n",
    "    \"Jan Hammer - Crockett's Theme\",\n",
    "    \"Sonata Arctica - White Pearl, Black Oceans\",\n",
    "    \"Lucio Dalla - 4 marzo 1943.mp3\",\n",
    "    \"The Wellermen - Wellerman\",    \n",
    "    \"Manu Chao - Por el Suelo\",\n",
    "    \"Intillimani - El Pueblo Unido\"\n",
    "]\n",
    "\n",
    "# write here\n",
    "\n",
    "#category: side effects\n",
    "\n",
    "def show(songs):\n",
    "    for song in songs:\n",
    "        parts = song.split(' - ')        \n",
    "        print(parts[0].rjust(16) + ':' + ' ' + parts[1])\n",
    "        \n",
    "show(album)"
   ]
  },
  {
   "cell_type": "raw",
   "id": "4d530429",
   "metadata": {
    "format": "text/html"
   },
   "source": [
    "</div>"
   ]
  },
  {
   "cell_type": "code",
   "execution_count": 29,
   "id": "1a861a2c-stripped",
   "metadata": {},
   "outputs": [],
   "source": [
    "\n",
    "album = [\n",
    "    \"Caterina Caselli - Cento giorni\",\n",
    "    \"Delirium - Jesahel\",\n",
    "    \"Jan Hammer - Crockett's Theme\",\n",
    "    \"Sonata Arctica - White Pearl, Black Oceans\",\n",
    "    \"Lucio Dalla - 4 marzo 1943.mp3\",\n",
    "    \"The Wellermen - Wellerman\",    \n",
    "    \"Manu Chao - Por el Suelo\",\n",
    "    \"Intillimani - El Pueblo Unido\"\n",
    "]\n",
    "\n",
    "# write here\n",
    "\n"
   ]
  },
  {
   "cell_type": "markdown",
   "id": "2a6fed42",
   "metadata": {},
   "source": [
    "### Exercise - authors\n",
    "\n",
    "Write a function which given a list of `songs`, RETURN a NEW list with only the authors\n",
    "\n",
    "```python\n",
    ">>> autors(album)\n",
    "['Caterina Caselli', 'Delirium', 'Jan Hammer', 'Sonata Arctica', 'Lucio Dalla', 'The Wellermen', 'Manu Chao', 'Intillimani']\n",
    "\n",
    ">>> album \n",
    "['Caterina Caselli - Cento giorni',\n",
    " 'Delirium - Jesahel',\n",
    " \"Jan Hammer - Crockett's Theme\",\n",
    " 'Sonata Arctica - White Pearl, Black Oceans',\n",
    " \"Lucio Dalla - 4 marzo 1943.mp3\",\n",
    " 'The Wellermen - Wellerman',\n",
    " 'Manu Chao - Por el Suelo',\n",
    " 'Intillimani - El Pueblo Unido']\n",
    "```"
   ]
  },
  {
   "cell_type": "raw",
   "id": "223abe4b",
   "metadata": {
    "format": "text/html"
   },
   "source": [
    "<a  class=\"jupman-sol jupman-sol-toggler\" \n",
    " onclick=\"jupman.toggleSolution(this);\" \n",
    " data-jupman-show=\"Show solution\" data-jupman-hide=\"Hide\">Show solution</a><div class=\"jupman-sol jupman-sol-code\" style=\"display:none\">  "
   ]
  },
  {
   "cell_type": "code",
   "execution_count": 30,
   "id": "42d632c6",
   "metadata": {},
   "outputs": [
    {
     "name": "stdout",
     "output_type": "stream",
     "text": [
      "['Caterina Caselli', 'Delirium', 'Jan Hammer', 'Sonata Arctica', 'Lucio Dalla', 'The Wellermen', 'Manu Chao', 'Intillimani']\n"
     ]
    },
    {
     "data": {
      "text/plain": [
       "['Caterina Caselli - Cento giorni',\n",
       " 'Delirium - Jesahel',\n",
       " \"Jan Hammer - Crockett's Theme\",\n",
       " 'Sonata Arctica - White Pearl, Black Oceans',\n",
       " 'Lucio Dalla - 4 marzo 1943.mp3',\n",
       " 'The Wellermen - Wellerman',\n",
       " 'Manu Chao - Por el Suelo',\n",
       " 'Intillimani - El Pueblo Unido']"
      ]
     },
     "execution_count": 30,
     "metadata": {},
     "output_type": "execute_result"
    }
   ],
   "source": [
    "\n",
    "album = [\n",
    "    \"Caterina Caselli - Cento giorni\",\n",
    "    \"Delirium - Jesahel\",\n",
    "    \"Jan Hammer - Crockett's Theme\",\n",
    "    \"Sonata Arctica - White Pearl, Black Oceans\",\n",
    "    \"Lucio Dalla - 4 marzo 1943.mp3\",\n",
    "    \"The Wellermen - Wellerman\",    \n",
    "    \"Manu Chao - Por el Suelo\",\n",
    "    \"Intillimani - El Pueblo Unido\"\n",
    "]\n",
    "\n",
    "# write here\n",
    "\n",
    "#category: RETURN\n",
    "\n",
    "#NOTE: There aren't print commands in the function body!\n",
    "\n",
    "def authors(songs):\n",
    "    ret = []\n",
    "    for song in songs:\n",
    "        ret.append(song.split(' - ')[0])\n",
    "    return ret\n",
    "\n",
    "print(authors(album))\n",
    "album"
   ]
  },
  {
   "cell_type": "raw",
   "id": "c5b03af4",
   "metadata": {
    "format": "text/html"
   },
   "source": [
    "</div>"
   ]
  },
  {
   "cell_type": "code",
   "execution_count": 30,
   "id": "42d632c6-stripped",
   "metadata": {},
   "outputs": [],
   "source": [
    "\n",
    "album = [\n",
    "    \"Caterina Caselli - Cento giorni\",\n",
    "    \"Delirium - Jesahel\",\n",
    "    \"Jan Hammer - Crockett's Theme\",\n",
    "    \"Sonata Arctica - White Pearl, Black Oceans\",\n",
    "    \"Lucio Dalla - 4 marzo 1943.mp3\",\n",
    "    \"The Wellermen - Wellerman\",    \n",
    "    \"Manu Chao - Por el Suelo\",\n",
    "    \"Intillimani - El Pueblo Unido\"\n",
    "]\n",
    "\n",
    "# write here\n",
    "\n"
   ]
  },
  {
   "cell_type": "markdown",
   "id": "ccdf72e5",
   "metadata": {},
   "source": [
    "### Exercise - record\n",
    "\n",
    "Write a function which given two lists `songsA` and `songsB`, MODIFIES `songsA` overwriting it with the content of `songsB`. If `songsB` has less elements than `songsS`, fill the remanining spaces with `None`\n",
    "\n",
    "- **ASSUME** `songsB` has at most the same number of songs of `songsA`\n",
    "- **DO NOT** reassign `album` (so no `album =`)\n",
    "\n",
    "```python\n",
    "# returns nothing!\n",
    ">>> record(album, [\"Toto Cotugno - L'Italiano vero\", \"Mia Martini - Minuetto\", \"Al Bano-Nel sole\"]) \n",
    "\n",
    ">>> album   # parameeter was modified\n",
    "[\"Toto Cotugno - L'Italiano vero\",\n",
    " \"Mia Martini - Minuetto\",\n",
    " \"Al Bano - Nel sole\",\n",
    " None,\n",
    " None,\n",
    " None,\n",
    " None,\n",
    " None]\n",
    "```"
   ]
  },
  {
   "cell_type": "raw",
   "id": "c6c103df",
   "metadata": {
    "format": "text/html"
   },
   "source": [
    "<a  class=\"jupman-sol jupman-sol-toggler\" \n",
    " onclick=\"jupman.toggleSolution(this);\" \n",
    " data-jupman-show=\"Show solution\" data-jupman-hide=\"Hide\">Show solution</a><div class=\"jupman-sol jupman-sol-code\" style=\"display:none\">  "
   ]
  },
  {
   "cell_type": "code",
   "execution_count": 31,
   "id": "83a5da2e",
   "metadata": {},
   "outputs": [
    {
     "data": {
      "text/plain": [
       "[\"Toto Cotugno - L'Italiano vero\",\n",
       " 'Mia Martini - Minuetto',\n",
       " 'Al Bano- Nel sole',\n",
       " None,\n",
       " None,\n",
       " None,\n",
       " None,\n",
       " None]"
      ]
     },
     "execution_count": 31,
     "metadata": {},
     "output_type": "execute_result"
    }
   ],
   "source": [
    "\n",
    "album = [\n",
    "    \"Caterina Caselli - Cento giorni\",\n",
    "    \"Delirium - Jesahel\",\n",
    "    \"Jan Hammer - Crockett's Theme\",\n",
    "    \"Sonata Arctica - White Pearl, Black Oceans\",\n",
    "    \"Lucio Dalla - 4 marzo 1943.mp3\",\n",
    "    \"The Wellermen - Wellerman\",    \n",
    "    \"Manu Chao - Por el Suelo\",\n",
    "    \"Intillimani - El Pueblo Unido\"\n",
    "]\n",
    "\n",
    "# write here\n",
    "\n",
    "#category: MODIFY\n",
    "\n",
    "def registra(canzoniA, canzoniB):\n",
    "    \n",
    "    for i in range(len(canzoniB)):\n",
    "        canzoniA[i] = canzoniB[i]\n",
    "    i += 1\n",
    "    while i < len(canzoniA):\n",
    "        canzoniA[i] = None\n",
    "        i += 1\n",
    "\n",
    "registra(album, [\"Toto Cotugno - L'Italiano vero\", \"Mia Martini - Minuetto\", \"Al Bano- Nel sole\"])\n",
    "album"
   ]
  },
  {
   "cell_type": "raw",
   "id": "0896bd52",
   "metadata": {
    "format": "text/html"
   },
   "source": [
    "</div>"
   ]
  },
  {
   "cell_type": "code",
   "execution_count": 31,
   "id": "83a5da2e-stripped",
   "metadata": {},
   "outputs": [],
   "source": [
    "\n",
    "album = [\n",
    "    \"Caterina Caselli - Cento giorni\",\n",
    "    \"Delirium - Jesahel\",\n",
    "    \"Jan Hammer - Crockett's Theme\",\n",
    "    \"Sonata Arctica - White Pearl, Black Oceans\",\n",
    "    \"Lucio Dalla - 4 marzo 1943.mp3\",\n",
    "    \"The Wellermen - Wellerman\",    \n",
    "    \"Manu Chao - Por el Suelo\",\n",
    "    \"Intillimani - El Pueblo Unido\"\n",
    "]\n",
    "\n",
    "# write here\n",
    "\n"
   ]
  },
  {
   "cell_type": "markdown",
   "id": "e3f50f7a",
   "metadata": {},
   "source": [
    "### Exercise - great\n",
    "\n",
    "Write a function `great` which given a list of songs MODIFIES the list by uppercasing all the characters, and then RETURNS it\n",
    "\n",
    "\n",
    "* **DO NOT** reassign `album` (no `album =`)\n",
    "\n",
    "Example:\n",
    "\n",
    "```python\n",
    ">>> great(album)   # return\n",
    "['CATERINA CASELLI - CENTO GIORNI',\n",
    " 'DELIRIUM - JESAHEL',\n",
    " \"JAN HAMMER - CROCKETT'S THEME\",\n",
    " 'SONATA ARCTICA - WHITE PEARL, BLACK OCEANS',\n",
    " 'LUCIO DALLA - 4 MARZO 1943.MP3',\n",
    " 'THE WELLERMEN - WELLERMAN',\n",
    " 'MANU CHAO - POR EL SUELO',\n",
    " 'INTILLIMANI - EL PUEBLO UNIDO']\n",
    "\n",
    ">>> album          # parameter was modified\n",
    "['CATERINA CASELLI - CENTO GIORNI',\n",
    " 'DELIRIUM - JESAHEL',\n",
    " \"JAN HAMMER - CROCKETT'S THEME\",\n",
    " 'SONATA ARCTICA - WHITE PEARL, BLACK OCEANS',\n",
    " 'LUCIO DALLA - 4 MARZO 1943.MP3',\n",
    " 'THE WELLERMEN - WELLERMAN',\n",
    " 'MANU CHAO - POR EL SUELO',\n",
    " 'INTILLIMANI - EL PUEBLO UNIDO']\n",
    "```"
   ]
  },
  {
   "cell_type": "raw",
   "id": "42016be4",
   "metadata": {
    "format": "text/html"
   },
   "source": [
    "<a  class=\"jupman-sol jupman-sol-toggler\" \n",
    " onclick=\"jupman.toggleSolution(this);\" \n",
    " data-jupman-show=\"Show solution\" data-jupman-hide=\"Hide\">Show solution</a><div class=\"jupman-sol jupman-sol-code\" style=\"display:none\">  "
   ]
  },
  {
   "cell_type": "code",
   "execution_count": 32,
   "id": "31c2619c",
   "metadata": {},
   "outputs": [
    {
     "name": "stdout",
     "output_type": "stream",
     "text": [
      "['CATERINA CASELLI - CENTO GIORNI', 'DELIRIUM - JESAHEL', \"JAN HAMMER - CROCKETT'S THEME\", 'SONATA ARCTICA - WHITE PEARL, BLACK OCEANS', 'LUCIO DALLA - 4 MARZO 1943.MP3', 'THE WELLERMEN - WELLERMAN', 'MANU CHAO - POR EL SUELO', 'INTILLIMANI - EL PUEBLO UNIDO']\n",
      "\n"
     ]
    },
    {
     "data": {
      "text/plain": [
       "['CATERINA CASELLI - CENTO GIORNI',\n",
       " 'DELIRIUM - JESAHEL',\n",
       " \"JAN HAMMER - CROCKETT'S THEME\",\n",
       " 'SONATA ARCTICA - WHITE PEARL, BLACK OCEANS',\n",
       " 'LUCIO DALLA - 4 MARZO 1943.MP3',\n",
       " 'THE WELLERMEN - WELLERMAN',\n",
       " 'MANU CHAO - POR EL SUELO',\n",
       " 'INTILLIMANI - EL PUEBLO UNIDO']"
      ]
     },
     "execution_count": 32,
     "metadata": {},
     "output_type": "execute_result"
    }
   ],
   "source": [
    "\n",
    "album = [\n",
    "    \"Caterina Caselli - Cento giorni\",\n",
    "    \"Delirium - Jesahel\",\n",
    "    \"Jan Hammer - Crockett's Theme\",\n",
    "    \"Sonata Arctica - White Pearl, Black Oceans\",\n",
    "    \"Lucio Dalla - 4 marzo 1943.mp3\",\n",
    "    \"The Wellermen - Wellerman\",    \n",
    "    \"Manu Chao - Por el Suelo\",\n",
    "    \"Intillimani - El Pueblo Unido\"\n",
    "]\n",
    "\n",
    "# write here\n",
    "\n",
    "#category: MODIFY and RETURN\n",
    "\n",
    "def great(songs):\n",
    "    for i in range(len(songs)):\n",
    "        songs[i] = songs[i].upper()\n",
    "    return songs\n",
    "\n",
    "print(great(album))\n",
    "print()\n",
    "album"
   ]
  },
  {
   "cell_type": "raw",
   "id": "7fc409bd",
   "metadata": {
    "format": "text/html"
   },
   "source": [
    "</div>"
   ]
  },
  {
   "cell_type": "code",
   "execution_count": 32,
   "id": "31c2619c-stripped",
   "metadata": {},
   "outputs": [],
   "source": [
    "\n",
    "album = [\n",
    "    \"Caterina Caselli - Cento giorni\",\n",
    "    \"Delirium - Jesahel\",\n",
    "    \"Jan Hammer - Crockett's Theme\",\n",
    "    \"Sonata Arctica - White Pearl, Black Oceans\",\n",
    "    \"Lucio Dalla - 4 marzo 1943.mp3\",\n",
    "    \"The Wellermen - Wellerman\",    \n",
    "    \"Manu Chao - Por el Suelo\",\n",
    "    \"Intillimani - El Pueblo Unido\"\n",
    "]\n",
    "\n",
    "# write here\n",
    "\n"
   ]
  },
  {
   "cell_type": "markdown",
   "id": "40251d43",
   "metadata": {},
   "source": [
    "### Exercise - shorten\n",
    "\n",
    "Write a function `shorten` which given a list of `songs` and a number `n`, MODIFIES `songs` so it has only `n` songs, then RETURNS  a NEW list with all the removed elements.\n",
    "\n",
    "- **USE** a parameter name different from `album`\n",
    "- **DO NOT** reassign `album` (so no `album =`)\n",
    "\n",
    "Example:\n",
    "\n",
    "```python\n",
    ">>> shorten(album, 3)  # returns\n",
    "[   \"Sonata Arctica - White Pearl, Black Oceans\",\n",
    "    \"Lucio Dalla - 4 marzo 1943.mp3\",\n",
    "    \"The Wellermen - Wellerman\",    \n",
    "    \"Manu Chao - Por el Suelo\",\n",
    "    \"Intillimani - El Pueblo Unido\"\n",
    "]\n",
    ">>> album               # the parameter was modified\n",
    "[   \"Caterina Caselli - Cento giorni\",\n",
    "    \"Delirium - Jesahel\",\n",
    "    \"Jan Hammer - Crockett's Theme\",\n",
    "]\n",
    "```"
   ]
  },
  {
   "cell_type": "raw",
   "id": "2a35ab9a",
   "metadata": {
    "format": "text/html"
   },
   "source": [
    "<a  class=\"jupman-sol jupman-sol-toggler\" \n",
    " onclick=\"jupman.toggleSolution(this);\" \n",
    " data-jupman-show=\"Show solution\" data-jupman-hide=\"Hide\">Show solution</a><div class=\"jupman-sol jupman-sol-code\" style=\"display:none\">  "
   ]
  },
  {
   "cell_type": "code",
   "execution_count": 33,
   "id": "48e4a830",
   "metadata": {},
   "outputs": [
    {
     "name": "stdout",
     "output_type": "stream",
     "text": [
      "returned:\n",
      " ['The Wellermen - Wellerman', 'Manu Chao - Por el Suelo', 'Intillimani - El Pueblo Unido']\n",
      "album is:\n",
      " ['Caterina Caselli - Cento giorni', 'Delirium - Jesahel', \"Jan Hammer - Crockett's Theme\", 'Sonata Arctica - White Pearl, Black Oceans', 'Lucio Dalla - 4 marzo 1943.mp3']\n"
     ]
    }
   ],
   "source": [
    "\n",
    "album = [\n",
    "    \"Caterina Caselli - Cento giorni\",\n",
    "    \"Delirium - Jesahel\",\n",
    "    \"Jan Hammer - Crockett's Theme\",\n",
    "    \"Sonata Arctica - White Pearl, Black Oceans\",\n",
    "    \"Lucio Dalla - 4 marzo 1943.mp3\",\n",
    "    \"The Wellermen - Wellerman\",    \n",
    "    \"Manu Chao - Por el Suelo\",\n",
    "    \"Intillimani - El Pueblo Unido\"\n",
    "]\n",
    "\n",
    "# write here\n",
    "\n",
    "#categoria: modifies and returns a part\n",
    "\n",
    "def shorten(songs, n):\n",
    "    ret = []\n",
    "    for i in range(min(len(songs), n)):\n",
    "        ret.append(songs.pop())\n",
    "    ret.reverse()\n",
    "    return ret\n",
    "\n",
    "res = shorten(album, 3)\n",
    "print('returned:\\n', res)\n",
    "print('album is:\\n',album)"
   ]
  },
  {
   "cell_type": "raw",
   "id": "6b3a9c6b",
   "metadata": {
    "format": "text/html"
   },
   "source": [
    "</div>"
   ]
  },
  {
   "cell_type": "code",
   "execution_count": 33,
   "id": "48e4a830-stripped",
   "metadata": {},
   "outputs": [],
   "source": [
    "\n",
    "album = [\n",
    "    \"Caterina Caselli - Cento giorni\",\n",
    "    \"Delirium - Jesahel\",\n",
    "    \"Jan Hammer - Crockett's Theme\",\n",
    "    \"Sonata Arctica - White Pearl, Black Oceans\",\n",
    "    \"Lucio Dalla - 4 marzo 1943.mp3\",\n",
    "    \"The Wellermen - Wellerman\",    \n",
    "    \"Manu Chao - Por el Suelo\",\n",
    "    \"Intillimani - El Pueblo Unido\"\n",
    "]\n",
    "\n",
    "# write here\n",
    "\n"
   ]
  },
  {
   "cell_type": "markdown",
   "id": "f2e99498",
   "metadata": {},
   "source": [
    "## Lambda functions"
   ]
  },
  {
   "cell_type": "markdown",
   "id": "82dd882c",
   "metadata": {},
   "source": [
    "Lambda functions are functions which:\n",
    "\n",
    "- have no name\n",
    "- are defined on one line, typically right where they are needed\n",
    "- their body is an expression, thus you need no `return`\n",
    "\n",
    "Let's create a lambda function which takes a number `x` and doubles it:"
   ]
  },
  {
   "cell_type": "code",
   "execution_count": 34,
   "id": "5b295c9e",
   "metadata": {},
   "outputs": [
    {
     "data": {
      "text/plain": [
       "<function __main__.<lambda>(x)>"
      ]
     },
     "execution_count": 34,
     "metadata": {},
     "output_type": "execute_result"
    }
   ],
   "source": [
    "lambda x: x*2"
   ]
  },
  {
   "cell_type": "markdown",
   "id": "1844efee",
   "metadata": {},
   "source": [
    "As you see, Python created a function object, which gets displayed by Jupyter. Unfortunately, at this point the function object got lost, because that is what happens to any object created by an expression that is not assigned to a variable.\n",
    "\n",
    "To be able to call the function, we will thus convenient to assign such function object to a variable, say `f`:"
   ]
  },
  {
   "cell_type": "code",
   "execution_count": 35,
   "id": "df24ec13",
   "metadata": {},
   "outputs": [],
   "source": [
    "f = lambda x: x*2"
   ]
  },
  {
   "cell_type": "code",
   "execution_count": 36,
   "id": "823b587f",
   "metadata": {},
   "outputs": [
    {
     "data": {
      "text/plain": [
       "<function __main__.<lambda>(x)>"
      ]
     },
     "execution_count": 36,
     "metadata": {},
     "output_type": "execute_result"
    }
   ],
   "source": [
    "f"
   ]
  },
  {
   "cell_type": "markdown",
   "id": "a8d5ab47",
   "metadata": {},
   "source": [
    "Great, now we have a function we can call as many times as we want:"
   ]
  },
  {
   "cell_type": "code",
   "execution_count": 37,
   "id": "7325e0e0",
   "metadata": {},
   "outputs": [
    {
     "data": {
      "text/plain": [
       "10"
      ]
     },
     "execution_count": 37,
     "metadata": {},
     "output_type": "execute_result"
    }
   ],
   "source": [
    "f(5)"
   ]
  },
  {
   "cell_type": "code",
   "execution_count": 38,
   "id": "00630a40",
   "metadata": {},
   "outputs": [
    {
     "data": {
      "text/plain": [
       "14"
      ]
     },
     "execution_count": 38,
     "metadata": {},
     "output_type": "execute_result"
    }
   ],
   "source": [
    "f(7)"
   ]
  },
  {
   "cell_type": "markdown",
   "id": "08500625",
   "metadata": {},
   "source": [
    "So writing"
   ]
  },
  {
   "cell_type": "code",
   "execution_count": 39,
   "id": "84da3e03",
   "metadata": {},
   "outputs": [],
   "source": [
    "def f(x):\n",
    "    return x*2"
   ]
  },
  {
   "cell_type": "markdown",
   "id": "362d3c94",
   "metadata": {},
   "source": [
    "or "
   ]
  },
  {
   "cell_type": "code",
   "execution_count": 40,
   "id": "0910107e",
   "metadata": {},
   "outputs": [],
   "source": [
    "f = lambda x: x*2"
   ]
  },
  {
   "cell_type": "markdown",
   "id": "358ce528",
   "metadata": {},
   "source": [
    "are completely equivalent forms, the main difference being with `def` we can write functions with bodies on multiple lines. Lambdas may appear limited, so why should we use them? Sometimes they allow for very concise code. For example, imagine you have a list of tuples holding animals and their lifespan: "
   ]
  },
  {
   "cell_type": "code",
   "execution_count": 41,
   "id": "f8d6a8ff",
   "metadata": {},
   "outputs": [],
   "source": [
    "animals = [('dog', 12), ('cat', 14), ('pelican', 30), ('eagle', 25), ('squirrel', 6)]"
   ]
  },
  {
   "cell_type": "markdown",
   "id": "3658313e",
   "metadata": {},
   "source": [
    "If you want to sort them, you can try the `.sort` method but it will not work:"
   ]
  },
  {
   "cell_type": "code",
   "execution_count": 42,
   "id": "2d6f3284",
   "metadata": {},
   "outputs": [],
   "source": [
    "animals.sort()"
   ]
  },
  {
   "cell_type": "code",
   "execution_count": 43,
   "id": "ec0fc3b9",
   "metadata": {},
   "outputs": [
    {
     "data": {
      "text/plain": [
       "[('cat', 14), ('dog', 12), ('eagle', 25), ('pelican', 30), ('squirrel', 6)]"
      ]
     },
     "execution_count": 43,
     "metadata": {},
     "output_type": "execute_result"
    }
   ],
   "source": [
    "animals"
   ]
  },
  {
   "cell_type": "markdown",
   "id": "d2abad7b",
   "metadata": {},
   "source": [
    "Clearly, this is not what we wanted. To get proper ordering, we need to tell python that when it considers a tuple for comparison, it should extract the lifespan number. To do so, Pyhton provides us with `key` parameter, which we must pass a function that takes as argument the list element under consideration (in this case a tuple) and will return a trasformation of it (in this case the number at 1-th position):"
   ]
  },
  {
   "cell_type": "code",
   "execution_count": 44,
   "id": "7e55c766",
   "metadata": {},
   "outputs": [],
   "source": [
    "animals.sort(key=lambda t: t[1])"
   ]
  },
  {
   "cell_type": "code",
   "execution_count": 45,
   "id": "436211a9",
   "metadata": {},
   "outputs": [
    {
     "data": {
      "text/plain": [
       "[('squirrel', 6), ('dog', 12), ('cat', 14), ('eagle', 25), ('pelican', 30)]"
      ]
     },
     "execution_count": 45,
     "metadata": {},
     "output_type": "execute_result"
    }
   ],
   "source": [
    "animals"
   ]
  },
  {
   "cell_type": "markdown",
   "id": "6268ff87",
   "metadata": {},
   "source": [
    "Now we got the ordering we wanted. We could have written the thing as "
   ]
  },
  {
   "cell_type": "code",
   "execution_count": 46,
   "id": "26105052",
   "metadata": {},
   "outputs": [
    {
     "data": {
      "text/plain": [
       "[('squirrel', 6), ('dog', 12), ('cat', 14), ('eagle', 25), ('pelican', 30)]"
      ]
     },
     "execution_count": 46,
     "metadata": {},
     "output_type": "execute_result"
    }
   ],
   "source": [
    "def myf(t):\n",
    "    return t[1]\n",
    "\n",
    "animals.sort(key=myf)\n",
    "animals"
   ]
  },
  {
   "cell_type": "markdown",
   "id": "6fa5d4ed",
   "metadata": {},
   "source": [
    "but lambdas clearly save some keyboard typing\n",
    "\n",
    "Notice lambdas can take multiple parameters:"
   ]
  },
  {
   "cell_type": "code",
   "execution_count": 47,
   "id": "57cf3366",
   "metadata": {
    "scrolled": true
   },
   "outputs": [
    {
     "data": {
      "text/plain": [
       "10"
      ]
     },
     "execution_count": 47,
     "metadata": {},
     "output_type": "execute_result"
    }
   ],
   "source": [
    "mymul = lambda x,y: x * y\n",
    "\n",
    "mymul(2,5)"
   ]
  },
  {
   "cell_type": "markdown",
   "id": "4697ab7c",
   "metadata": {},
   "source": [
    "### Exercise - apply_borders \n",
    "\n",
    "✪ Write a function `apply_borders` which takes a function `f` as parameter and a sequence, and RETURN a tuple holding two elements:\n",
    "\n",
    "- first element is obtained by applying `f` to the first element of the sequence\n",
    "- second element is obtained by appling `f` to the last element of the sequence\n",
    "\n",
    "Example: \n",
    "\n",
    "```python\n",
    ">>> apply_borders(lambda x: x.upper(), ['the', 'river', 'is', 'very', 'long'])\n",
    "('THE', 'LONG')\n",
    ">>> apply_borders(lambda x: x[0], ['the', 'river', 'is', 'very', 'long'])\n",
    "('t', 'l')\n",
    "```"
   ]
  },
  {
   "cell_type": "raw",
   "id": "b8aab779",
   "metadata": {
    "format": "text/html"
   },
   "source": [
    "<a  class=\"jupman-sol jupman-sol-toggler\" \n",
    " onclick=\"jupman.toggleSolution(this);\" \n",
    " data-jupman-show=\"Show solution\" data-jupman-hide=\"Hide\">Show solution</a><div class=\"jupman-sol jupman-sol-code\" style=\"display:none\">  "
   ]
  },
  {
   "cell_type": "code",
   "execution_count": 48,
   "id": "6d3f1f5b",
   "metadata": {},
   "outputs": [],
   "source": [
    "# write here\n",
    "\n",
    "def apply_borders(f, seq):\n",
    "    return ( f(seq[0]),   f(seq[-1]) )"
   ]
  },
  {
   "cell_type": "raw",
   "id": "b6364b07",
   "metadata": {
    "format": "text/html"
   },
   "source": [
    "</div>"
   ]
  },
  {
   "cell_type": "code",
   "execution_count": 48,
   "id": "6d3f1f5b-stripped",
   "metadata": {},
   "outputs": [],
   "source": [
    "# write here\n",
    "\n"
   ]
  },
  {
   "cell_type": "code",
   "execution_count": 49,
   "id": "03ef2cf2",
   "metadata": {},
   "outputs": [
    {
     "name": "stdout",
     "output_type": "stream",
     "text": [
      "('THE', 'LONG')\n",
      "('t', 'l')\n"
     ]
    }
   ],
   "source": [
    "print(apply_borders(lambda x: x.upper(), ['the', 'river', 'is', 'very', 'long']))\n",
    "print(apply_borders(lambda x: x[0], ['the', 'river', 'is', 'very', 'long']))"
   ]
  },
  {
   "cell_type": "markdown",
   "id": "6a8bff17",
   "metadata": {},
   "source": [
    "### Exercise - process\n",
    "\n",
    "✪✪ Write a lambda expression to be passed as first parameter of the function `process` defined down here, so that a call to process generates a list as shown here:\n",
    "\n",
    "```python\n",
    ">>> f = PUT_YOUR_LAMBDA_FUNCTION\n",
    ">>> process(f, ['d','b','a','c','e','f'], ['q','s','p','t','r','n'])\n",
    "['An', 'Bp', 'Cq', 'Dr', 'Es', 'Ft']\n",
    "```\n",
    "\n",
    "**NOTE**: `process` is already defined, you do not need to change it"
   ]
  },
  {
   "cell_type": "raw",
   "id": "2895cea8",
   "metadata": {
    "format": "text/html"
   },
   "source": [
    "<a  class=\"jupman-sol jupman-sol-toggler\" \n",
    " onclick=\"jupman.toggleSolution(this);\" \n",
    " data-jupman-show=\"Show solution\" data-jupman-hide=\"Hide\">Show solution</a><div class=\"jupman-sol jupman-sol-code\" style=\"display:none\">  "
   ]
  },
  {
   "cell_type": "code",
   "execution_count": 50,
   "id": "7ba02006",
   "metadata": {},
   "outputs": [],
   "source": [
    "def process(f, lista, listb):\n",
    "    orda = list(sorted(lista))\n",
    "    ordb = list(sorted(listb))\n",
    "    ret = []\n",
    "    for i in range(len(lista)):\n",
    "        ret.append(f(orda[i], ordb[i]))\n",
    "    return ret    \n",
    "\n",
    "# write here the f = lambda ...\n",
    "f = lambda x,y: x.upper() + y"
   ]
  },
  {
   "cell_type": "raw",
   "id": "20388358",
   "metadata": {
    "format": "text/html"
   },
   "source": [
    "</div>"
   ]
  },
  {
   "cell_type": "code",
   "execution_count": 50,
   "id": "7ba02006-stripped",
   "metadata": {},
   "outputs": [],
   "source": [
    "def process(f, lista, listb):\n",
    "    orda = list(sorted(lista))\n",
    "    ordb = list(sorted(listb))\n",
    "    ret = []\n",
    "    for i in range(len(lista)):\n",
    "        ret.append(f(orda[i], ordb[i]))\n",
    "    return ret    \n",
    "\n",
    "# write here the f = lambda ...\n",
    "\n"
   ]
  },
  {
   "cell_type": "code",
   "execution_count": 51,
   "id": "05d880d6",
   "metadata": {},
   "outputs": [
    {
     "data": {
      "text/plain": [
       "['An', 'Bp', 'Cq', 'Dr', 'Es', 'Ft']"
      ]
     },
     "execution_count": 51,
     "metadata": {},
     "output_type": "execute_result"
    }
   ],
   "source": [
    "process(f, ['d','b','a','c','e','f'], ['q','s','p','t','r','n'])"
   ]
  },
  {
   "cell_type": "markdown",
   "id": "c740318b",
   "metadata": {},
   "source": [
    "## Continue\n",
    "\n",
    "Go on with [error handling and testing](https://en.softpython.org/functions/fun2-errors-and-testing-sol.html)"
   ]
  },
  {
   "cell_type": "code",
   "execution_count": null,
   "id": "7cd18b40",
   "metadata": {},
   "outputs": [],
   "source": []
  }
 ],
 "metadata": {
  "kernelspec": {
   "display_name": "Python 3 (ipykernel)",
   "language": "python",
   "name": "python3"
  },
  "language_info": {
   "codemirror_mode": {
    "name": "ipython",
    "version": 3
   },
   "file_extension": ".py",
   "mimetype": "text/x-python",
   "name": "python",
   "nbconvert_exporter": "python",
   "pygments_lexer": "ipython3",
   "version": "3.7.10"
  },
  "toc": {
   "base_numbering": 1,
   "nav_menu": {},
   "number_sections": false,
   "sideBar": true,
   "skip_h1_title": false,
   "title_cell": "Table of Contents",
   "title_sidebar": "Contents",
   "toc_cell": false,
   "toc_position": {},
   "toc_section_display": true,
   "toc_window_display": true
  }
 },
 "nbformat": 4,
 "nbformat_minor": 5
}
