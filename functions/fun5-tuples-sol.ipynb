{
 "cells": [
  {
   "cell_type": "code",
   "execution_count": 1,
   "id": "d329355a",
   "metadata": {},
   "outputs": [],
   "source": [
    "# Remember to execute this cell with Control+Enter\n",
    "import jupman;"
   ]
  },
  {
   "cell_type": "markdown",
   "id": "d6ee8e71",
   "metadata": {},
   "source": [
    "# Functions 5 - exercises with tuples\n",
    "\n",
    "## [Download exercises zip](../_static/generated/functions.zip)\n",
    "\n",
    "[Browse files online](https://github.com/DavidLeoni/softpython-en/tree/master/functions)"
   ]
  },
  {
   "cell_type": "markdown",
   "id": "5ee156a1",
   "metadata": {},
   "source": [
    "\n",
    "### Exercise - joined\n",
    "\n",
    "✪✪ Write a function which given two tuples of characters `ta` and `tb` having each different characters (may also be empty), return a tuple made like this:\n",
    "\n",
    "* if the tuple `ta` terminates with the same character `tb` begins with, RETURN the concatenation of `ta` and `tb` WITHOUT duplicated characters\n",
    "* otherwise RETURN an empty tuple\n",
    "\n",
    "Example:\n",
    "\n",
    "```python\n",
    ">>> joined(('a','b','c'), ('c','d','e'))\n",
    "('a', 'b', 'c', 'd', 'e')\n",
    ">>> joined(('a','b'), ('b','c','d'))\n",
    "('a', 'b', 'c', 'd')\n",
    "```\n"
   ]
  },
  {
   "cell_type": "raw",
   "id": "605ee1e1",
   "metadata": {
    "format": "text/html"
   },
   "source": [
    "<a  class=\"jupman-sol jupman-sol-toggler\" \n",
    " onclick=\"jupman.toggleSolution(this);\" \n",
    " data-jupman-show=\"Show solution\" data-jupman-hide=\"Hide\">Show solution</a><div class=\"jupman-sol jupman-sol-code\" style=\"display:none\">  "
   ]
  },
  {
   "cell_type": "code",
   "execution_count": 2,
   "id": "d09815aa",
   "metadata": {},
   "outputs": [],
   "source": [
    "\n",
    "\n",
    "def joined(ta,tb):\n",
    "    \n",
    "    if len(ta) > 0 and len(tb) > 0:\n",
    "        if ta[-1] == tb[0]:\n",
    "            return ta[:-1] + tb\n",
    "\n",
    "    return ()\n",
    "    \n",
    "\n",
    "assert joined(('a','b','c'), ('c','d','e')) == ('a', 'b', 'c', 'd', 'e')\n",
    "assert joined(('a','b'), ('b','c','d')) == ('a', 'b', 'c', 'd')\n",
    "assert joined((),('e','f','g')) == ()\n",
    "assert joined(('a',),('e','f','g')) == ()\n",
    "assert joined(('a','b','c'),()) == ()\n",
    "assert joined(('a','b','c'),('d','e')) == ()"
   ]
  },
  {
   "cell_type": "raw",
   "id": "50e0a837",
   "metadata": {
    "format": "text/html"
   },
   "source": [
    "</div>"
   ]
  },
  {
   "cell_type": "code",
   "execution_count": 2,
   "id": "d09815aa-stripped",
   "metadata": {},
   "outputs": [],
   "source": [
    "\n",
    "\n",
    "def joined(ta,tb):\n",
    "    raise Exception('TODO IMPLEMENT ME !')\n",
    "\n",
    "assert joined(('a','b','c'), ('c','d','e')) == ('a', 'b', 'c', 'd', 'e')\n",
    "assert joined(('a','b'), ('b','c','d')) == ('a', 'b', 'c', 'd')\n",
    "assert joined((),('e','f','g')) == ()\n",
    "assert joined(('a',),('e','f','g')) == ()\n",
    "assert joined(('a','b','c'),()) == ()\n",
    "assert joined(('a','b','c'),('d','e')) == ()"
   ]
  },
  {
   "cell_type": "markdown",
   "id": "0d071ac1",
   "metadata": {},
   "source": [
    "### nasty\n",
    "\n",
    "✪✪✪ Given two tuples `ta` and `b`,  `ta` made of characters and `tb` of positive integer numbers , write a function `nasty` which RETURNS a tuple having two character strings: the first character is taken from `ta`, the second is a number taken  from the corresponding position in `tb`. The strings are repeated for a number of times equal to that number.\n",
    "\n",
    "```python\n",
    ">>> nasty(('u','r','g'), (4,2,3))\n",
    "('u4', 'u4', 'u4', 'u4', 'r2', 'r2', 'g3', 'g3', 'g3')\n",
    "\n",
    ">>> nasty(('g','a','s','p'), (2,4,1,3))\n",
    "('g2', 'g2', 'a4', 'a4', 'a4', 'a4', 's1', 'p3', 'p3', 'p3')\n",
    "```"
   ]
  },
  {
   "cell_type": "raw",
   "id": "589e6cf1",
   "metadata": {
    "format": "text/html"
   },
   "source": [
    "<a  class=\"jupman-sol jupman-sol-toggler\" \n",
    " onclick=\"jupman.toggleSolution(this);\" \n",
    " data-jupman-show=\"Show solution\" data-jupman-hide=\"Hide\">Show solution</a><div class=\"jupman-sol jupman-sol-code\" style=\"display:none\">  "
   ]
  },
  {
   "cell_type": "code",
   "execution_count": 3,
   "id": "c9a8e50c",
   "metadata": {},
   "outputs": [],
   "source": [
    "# write here\n",
    "\n",
    "def nasty(ta, tb):\n",
    "    \n",
    "    i = 0\n",
    "    ret = []\n",
    "    while i < len(tb):\n",
    "        s = ta[i]+str(tb[i])    \n",
    "        ret.extend( (s,) * tb[i] )\n",
    "        i += 1\n",
    "    return tuple(ret)\n",
    "    \n",
    "        \n",
    "# TEST START - DO NOT TOUCH !\n",
    "assert nasty(('a',), (3,)) == ('a3','a3','a3')\n",
    "assert nasty(('a','b'), (3,1)) == ('a3','a3','a3','b1')\n",
    "assert nasty(('u','r','g'), (4,2,3)) == ('u4', 'u4', 'u4', 'u4', 'r2', 'r2', 'g3', 'g3', 'g3')\n",
    "assert nasty(('g','a','s','p'), (2,4,1,3)) == ('g2', 'g2', 'a4', 'a4', 'a4', 'a4', 's1', 'p3', 'p3', 'p3')\n",
    "# TEST END"
   ]
  },
  {
   "cell_type": "raw",
   "id": "3a0dacbc",
   "metadata": {
    "format": "text/html"
   },
   "source": [
    "</div>"
   ]
  },
  {
   "cell_type": "code",
   "execution_count": 3,
   "id": "c9a8e50c-stripped",
   "metadata": {},
   "outputs": [],
   "source": [
    "# write here\n",
    "\n"
   ]
  },
  {
   "cell_type": "markdown",
   "id": "e8a4d1c5",
   "metadata": {},
   "source": [
    "## Continue\n",
    "\n",
    "Go on with exercises about [functions and sets](https://en.softpython.org/functions/fun6-sets-sol.html)"
   ]
  },
  {
   "cell_type": "code",
   "execution_count": null,
   "id": "5e73346b",
   "metadata": {},
   "outputs": [],
   "source": []
  }
 ],
 "metadata": {
  "kernelspec": {
   "display_name": "Python 3 (ipykernel)",
   "language": "python",
   "name": "python3"
  },
  "language_info": {
   "codemirror_mode": {
    "name": "ipython",
    "version": 3
   },
   "file_extension": ".py",
   "mimetype": "text/x-python",
   "name": "python",
   "nbconvert_exporter": "python",
   "pygments_lexer": "ipython3",
   "version": "3.7.10"
  },
  "toc": {
   "base_numbering": 1,
   "nav_menu": {},
   "number_sections": false,
   "sideBar": true,
   "skip_h1_title": false,
   "title_cell": "Table of Contents",
   "title_sidebar": "Contents",
   "toc_cell": false,
   "toc_position": {},
   "toc_section_display": true,
   "toc_window_display": true
  }
 },
 "nbformat": 4,
 "nbformat_minor": 5
}
