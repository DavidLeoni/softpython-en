{
 "cells": [
  {
   "cell_type": "code",
   "execution_count": 15,
   "id": "d329355a",
   "metadata": {},
   "outputs": [],
   "source": [
    "# Remember to execute this cell with Control+Enter\n",
    "import jupman;"
   ]
  },
  {
   "cell_type": "markdown",
   "id": "d6ee8e71",
   "metadata": {},
   "source": [
    "# Functions 5 - exercises with tuples\n",
    "\n",
    "## [Download exercises zip](../_static/generated/functions.zip)\n",
    "\n",
    "[Browse files online](https://github.com/DavidLeoni/softpython-en/tree/master/functions)"
   ]
  },
  {
   "cell_type": "markdown",
   "id": "e68a38df",
   "metadata": {},
   "source": [
    "## TODO\n"
   ]
  },
  {
   "cell_type": "raw",
   "id": "b1ef52b3",
   "metadata": {
    "format": "text/html"
   },
   "source": [
    "<a  class=\"jupman-sol jupman-sol-toggler\" \n",
    " onclick=\"jupman.toggleSolution(this);\" \n",
    " data-jupman-show=\"Show solution\" data-jupman-hide=\"Hide\">Show solution</a><div class=\"jupman-sol jupman-sol-code\" style=\"display:none\">  "
   ]
  },
  {
   "cell_type": "code",
   "execution_count": 1,
   "id": "5641d62c",
   "metadata": {},
   "outputs": [],
   "source": [
    "# SOLUTION\n"
   ]
  },
  {
   "cell_type": "raw",
   "id": "72984137",
   "metadata": {
    "format": "text/html"
   },
   "source": [
    "</div>"
   ]
  },
  {
   "cell_type": "code",
   "execution_count": 1,
   "id": "5641d62c-stripped",
   "metadata": {},
   "outputs": [],
   "source": []
  },
  {
   "cell_type": "markdown",
   "id": "e8a4d1c5",
   "metadata": {},
   "source": [
    "## Continue\n",
    "\n",
    "Go on with exercises about [functions and sets](https://en.softpython.org/functions/fun6-sets-sol.html)"
   ]
  },
  {
   "cell_type": "code",
   "execution_count": null,
   "id": "5e73346b",
   "metadata": {},
   "outputs": [],
   "source": []
  }
 ],
 "metadata": {
  "kernelspec": {
   "display_name": "Python 3 (ipykernel)",
   "language": "python",
   "name": "python3"
  },
  "language_info": {
   "codemirror_mode": {
    "name": "ipython",
    "version": 3
   },
   "file_extension": ".py",
   "mimetype": "text/x-python",
   "name": "python",
   "nbconvert_exporter": "python",
   "pygments_lexer": "ipython3",
   "version": "3.7.10"
  },
  "toc": {
   "base_numbering": 1,
   "nav_menu": {},
   "number_sections": false,
   "sideBar": true,
   "skip_h1_title": false,
   "title_cell": "Table of Contents",
   "title_sidebar": "Contents",
   "toc_cell": false,
   "toc_position": {},
   "toc_section_display": true,
   "toc_window_display": false
  }
 },
 "nbformat": 4,
 "nbformat_minor": 5
}
