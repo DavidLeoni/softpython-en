{
 "cells": [
  {
   "cell_type": "code",
   "execution_count": 1,
   "id": "d329355a",
   "metadata": {},
   "outputs": [],
   "source": [
    "# Remember to execute this cell with Control+Enter\n",
    "import jupman;"
   ]
  },
  {
   "cell_type": "markdown",
   "id": "d6ee8e71",
   "metadata": {},
   "source": [
    "# Functions 6 - exercises with sets\n",
    "\n",
    "## [Download exercises zip](../_static/generated/functions.zip)\n",
    "\n",
    "[Browse files online](https://github.com/DavidLeoni/softpython-en/tree/master/functions)"
   ]
  },
  {
   "cell_type": "markdown",
   "id": "4efa0f0c",
   "metadata": {},
   "source": [
    "### Exercise - syllabs\n",
    "\n",
    "Write a function `syllabs` which given a string `word` made by only bisyllabs and a set `found`, finds all the distinct bisyllabs and puts them into the set `found`.\n",
    "\n",
    "* **NOTE**: the function `syllabs` return NOTHING ! \n",
    "\n",
    "Example 1:\n",
    "\n",
    "```python\n",
    ">>> found = set()\n",
    ">>> syllabs(\"banana\", found)\n",
    ">>> found\n",
    "{'an', 'ba'}\n",
    "```\n",
    "\n",
    "Example 2:\n",
    "\n",
    "```python\n",
    ">>> found = set()\n",
    ">>> syllabs(\"bonobo\", found)\n",
    ">>> found\n",
    "{'bo', 'on'}\n",
    "```"
   ]
  },
  {
   "cell_type": "raw",
   "id": "382de379",
   "metadata": {
    "format": "text/html"
   },
   "source": [
    "<a  class=\"jupman-sol jupman-sol-toggler\" \n",
    " onclick=\"jupman.toggleSolution(this);\" \n",
    " data-jupman-show=\"Show solution\" data-jupman-hide=\"Hide\">Show solution</a><div class=\"jupman-sol jupman-sol-code\" style=\"display:none\">  "
   ]
  },
  {
   "cell_type": "code",
   "execution_count": 2,
   "id": "dc406f7c",
   "metadata": {},
   "outputs": [
    {
     "name": "stdout",
     "output_type": "stream",
     "text": [
      "{'na', 'ba', 'an'}\n",
      "{'no', 'bo', 'on'}\n"
     ]
    }
   ],
   "source": [
    "\n",
    "# write here\n",
    "def syllabs(word, t):\n",
    "    for i in range(len(word)//2):\n",
    "        t.add(word[i:i+2])\n",
    "    \n",
    "found = set()\n",
    "syllabs(\"banana\", found)\n",
    "print(found)\n",
    "\n",
    "found = set()\n",
    "syllabs(\"bonobo\", found)\n",
    "print(found)"
   ]
  },
  {
   "cell_type": "raw",
   "id": "da465586",
   "metadata": {
    "format": "text/html"
   },
   "source": [
    "</div>"
   ]
  },
  {
   "cell_type": "code",
   "execution_count": 2,
   "id": "dc406f7c-stripped",
   "metadata": {},
   "outputs": [],
   "source": [
    "\n",
    "# write here\n",
    "\n"
   ]
  },
  {
   "cell_type": "markdown",
   "id": "3d33a028",
   "metadata": {},
   "source": [
    "### Exercise - distinguish\n",
    "\n",
    "✪✪ Write a function `distinguish` which given a list `big_list` containing sublists of _two_ characters each, RETURN a NEW LIST containing all the _distinct_ sublists (ignoring the duplicated sublists)\n",
    "\n",
    "* the returned list must have the elements _in the same order_ in which they were found in `big_list`\n",
    "* to know fast whether a sublist was already found, **use a set**\n",
    "* **DO NOT** search in lists (so no `count`, `index`, `in` in lists - they're slow!)\n",
    "* **DO NOT** remove from lists (so no `remove` from lists - it's slow!)\n",
    "* **HINT**: lists are _mutable,_ can we place them in a set? If it's not possible, what can we do?"
   ]
  },
  {
   "cell_type": "markdown",
   "id": "34160921",
   "metadata": {},
   "source": [
    "Example:\n",
    "\n",
    "```python\n",
    ">>> big_list = [ ['d','d'],['a','b'],['d','d'],['c','a'],['c','a'],['d','d'],['a','b'] ]\n",
    ">>> distinguish( big_list)\n",
    "[['d', 'd'], ['a', 'b'], ['c', 'a']]\n",
    "#NOTE: variable big_list MUST NOT be modified:\n",
    ">>> big_list\n",
    "[ ['d','d'],['a','b'],['d','d'],['c','a'],['c','a'],['d','d'],['a','b'] ]\n",
    "```"
   ]
  },
  {
   "cell_type": "raw",
   "id": "f1866d3f",
   "metadata": {
    "format": "text/html"
   },
   "source": [
    "<a  class=\"jupman-sol jupman-sol-toggler\" \n",
    " onclick=\"jupman.toggleSolution(this);\" \n",
    " data-jupman-show=\"Show solution\" data-jupman-hide=\"Hide\">Show solution</a><div class=\"jupman-sol jupman-sol-code\" style=\"display:none\">  "
   ]
  },
  {
   "cell_type": "code",
   "execution_count": 3,
   "id": "c988d582",
   "metadata": {},
   "outputs": [],
   "source": [
    "# write here\n",
    "\n",
    "def distinguish(blist):\n",
    "    s = set()\n",
    "    ret = []\n",
    "    \n",
    "    for sublist in blist: \n",
    "        #  In sets we can't place lists because they are mutable, \n",
    "        #  but we can insert tuples        \n",
    "        tup = tuple(sublist)\n",
    "\n",
    "        #  Checking whether an element belongs to a set it's very fast:\n",
    "        #  it is independent from the set dimension!    \n",
    "        \n",
    "        if tup not in s:  \n",
    "            ret.append(sublist)\n",
    "            # Adding an element to a set is very fast:\n",
    "            # it is independent from the set dimension!            \n",
    "            s.add(tup)\n",
    "    \n",
    "    return ret    \n",
    "        \n",
    "big_list = [ ['d','d'],['a','b'],['d','d'],['c','a'],['c','a'],['d','d'],['a','b'] ]\n",
    "#print('distincts:', distinguish(big_list))\n",
    "#print('big_list:', big_list)"
   ]
  },
  {
   "cell_type": "raw",
   "id": "29918cb1",
   "metadata": {
    "format": "text/html"
   },
   "source": [
    "</div>"
   ]
  },
  {
   "cell_type": "code",
   "execution_count": 3,
   "id": "c988d582-stripped",
   "metadata": {},
   "outputs": [],
   "source": [
    "# write here\n",
    "\n"
   ]
  },
  {
   "cell_type": "markdown",
   "id": "66e42d9c",
   "metadata": {},
   "source": [
    "### Exercise - intersectron\n",
    "\n",
    "![intersectron](img/abc-intersection.png)"
   ]
  },
  {
   "cell_type": "markdown",
   "id": "e980dd2a",
   "metadata": {},
   "source": [
    "Given a list `sets` containing an arbitrary number of sets, RETURN a NEW set which contains the elements common to all sets.\n",
    "\n",
    "To solve the exercise, you can intersecate a set at a time with a `for` cycle (slow) or with the technique [described here](https://stackoverflow.com/a/2541814) (short and fast). \n",
    "\n",
    "* try to solve it in **both** ways\n",
    "* **BEWARE** of the empty list!\n",
    "* your code must work with **any** number of sets (the image is just an example)"
   ]
  },
  {
   "cell_type": "raw",
   "id": "e6c8d8bf",
   "metadata": {
    "format": "text/html"
   },
   "source": [
    "<a  class=\"jupman-sol jupman-sol-toggler\" \n",
    " onclick=\"jupman.toggleSolution(this);\" \n",
    " data-jupman-show=\"Show solution\" data-jupman-hide=\"Hide\">Show solution</a><div class=\"jupman-sol jupman-sol-code\" style=\"display:none\">  "
   ]
  },
  {
   "cell_type": "code",
   "execution_count": 4,
   "id": "944080c4",
   "metadata": {},
   "outputs": [],
   "source": [
    "def inter_for(sets):    \n",
    "    \n",
    "    \n",
    "   \n",
    "    if len(sets) == 0:\n",
    "        return set()\n",
    "    \n",
    "    first = True\n",
    "    \n",
    "    for el in sets:\n",
    "        if first:\n",
    "            ret = set(el)\n",
    "            first = False\n",
    "        else:\n",
    "            ret.intersection_update(el)\n",
    "    return ret\n",
    "    \n",
    "\n",
    "# TEST START - DO NOT TOUCH !\n",
    "assert inter_for([]) == set()\n",
    "assert inter_for([set(),set()]) == set()\n",
    "assert inter_for([set(),set(),set()]) == set()\n",
    "assert inter_for([{'a'},{'a'},{'a'}]) == {'a'}\n",
    "assert inter_for([{'a','b'},{'b'},{'b'}]) == {'b'}\n",
    "assert inter_for([{'a'},{'a','b'},{'a'}]) == {'a'}\n",
    "assert inter_for([{'c'},{'c'},{'c','b'}]) == {'c'}\n",
    "assert inter_for([{'a','b'},{'a','b'},{'a','b'}]) == {'a','b'}\n",
    "assert inter_for([{'a','b','c'},{'a','b','c','d'},{'b','c','d'}, {'b','c'}]) == {'b','c'}\n",
    "# check we didn't modify the input sets\n",
    "s = {'a','b'}\n",
    "assert inter_for([s,{'b','c'}]) == {'b'}\n",
    "assert s == {'a','b'}\n",
    "# TEST END"
   ]
  },
  {
   "cell_type": "raw",
   "id": "1113b91d",
   "metadata": {
    "format": "text/html"
   },
   "source": [
    "</div>"
   ]
  },
  {
   "cell_type": "code",
   "execution_count": 4,
   "id": "944080c4-stripped",
   "metadata": {},
   "outputs": [],
   "source": [
    "def inter_for(sets):    \n",
    "    \n",
    "    raise Exception('TODO IMPLEMENT ME !')\n",
    "\n",
    "# TEST START - DO NOT TOUCH !\n",
    "assert inter_for([]) == set()\n",
    "assert inter_for([set(),set()]) == set()\n",
    "assert inter_for([set(),set(),set()]) == set()\n",
    "assert inter_for([{'a'},{'a'},{'a'}]) == {'a'}\n",
    "assert inter_for([{'a','b'},{'b'},{'b'}]) == {'b'}\n",
    "assert inter_for([{'a'},{'a','b'},{'a'}]) == {'a'}\n",
    "assert inter_for([{'c'},{'c'},{'c','b'}]) == {'c'}\n",
    "assert inter_for([{'a','b'},{'a','b'},{'a','b'}]) == {'a','b'}\n",
    "assert inter_for([{'a','b','c'},{'a','b','c','d'},{'b','c','d'}, {'b','c'}]) == {'b','c'}\n",
    "# check we didn't modify the input sets\n",
    "s = {'a','b'}\n",
    "assert inter_for([s,{'b','c'}]) == {'b'}\n",
    "assert s == {'a','b'}\n",
    "# TEST END"
   ]
  },
  {
   "cell_type": "raw",
   "id": "4f281b5b",
   "metadata": {
    "format": "text/html"
   },
   "source": [
    "<a  class=\"jupman-sol jupman-sol-toggler\" \n",
    " onclick=\"jupman.toggleSolution(this);\" \n",
    " data-jupman-show=\"Show solution\" data-jupman-hide=\"Hide\">Show solution</a><div class=\"jupman-sol jupman-sol-code\" style=\"display:none\">  "
   ]
  },
  {
   "cell_type": "code",
   "execution_count": 5,
   "id": "d704f560",
   "metadata": {},
   "outputs": [],
   "source": [
    "def inter_fast(sets):\n",
    "    \n",
    "    \n",
    "   \n",
    "    if len(sets) == 0:\n",
    "        return set()\n",
    "    \n",
    "    return set.intersection(*sets)\n",
    "    \n",
    "\n",
    "# TEST START - DO NOT TOUCH !\n",
    "assert inter_fast([]) == set()\n",
    "assert inter_fast([set(),set()]) == set()\n",
    "assert inter_fast([set(),set(),set()]) == set()\n",
    "assert inter_fast([{'a'},{'a'},{'a'}]) == {'a'}\n",
    "assert inter_fast([{'a','b'},{'b'},{'b'}]) == {'b'}\n",
    "assert inter_fast([{'a'},{'a','b'},{'a'}]) == {'a'}\n",
    "assert inter_fast([{'c'},{'c'},{'c','b'}]) == {'c'}\n",
    "assert inter_fast([{'a','b'},{'a','b'},{'a','b'}]) == {'a','b'}\n",
    "assert inter_fast([{'a','b','c'},{'a','b','c','d'},{'b','c','d'}, {'b','c'}]) == {'b','c'}\n",
    "# check we didn't modify the input sets\n",
    "s = {'a','b'}\n",
    "assert inter_fast([s,{'b','c'}]) == {'b'}\n",
    "assert s == {'a','b'}\n",
    "# TEST END"
   ]
  },
  {
   "cell_type": "raw",
   "id": "663b3367",
   "metadata": {
    "format": "text/html"
   },
   "source": [
    "</div>"
   ]
  },
  {
   "cell_type": "code",
   "execution_count": 5,
   "id": "d704f560-stripped",
   "metadata": {},
   "outputs": [],
   "source": [
    "def inter_fast(sets):\n",
    "    \n",
    "    raise Exception('TODO IMPLEMENT ME !')\n",
    "\n",
    "# TEST START - DO NOT TOUCH !\n",
    "assert inter_fast([]) == set()\n",
    "assert inter_fast([set(),set()]) == set()\n",
    "assert inter_fast([set(),set(),set()]) == set()\n",
    "assert inter_fast([{'a'},{'a'},{'a'}]) == {'a'}\n",
    "assert inter_fast([{'a','b'},{'b'},{'b'}]) == {'b'}\n",
    "assert inter_fast([{'a'},{'a','b'},{'a'}]) == {'a'}\n",
    "assert inter_fast([{'c'},{'c'},{'c','b'}]) == {'c'}\n",
    "assert inter_fast([{'a','b'},{'a','b'},{'a','b'}]) == {'a','b'}\n",
    "assert inter_fast([{'a','b','c'},{'a','b','c','d'},{'b','c','d'}, {'b','c'}]) == {'b','c'}\n",
    "# check we didn't modify the input sets\n",
    "s = {'a','b'}\n",
    "assert inter_fast([s,{'b','c'}]) == {'b'}\n",
    "assert s == {'a','b'}\n",
    "# TEST END"
   ]
  },
  {
   "cell_type": "markdown",
   "id": "e8a4d1c5",
   "metadata": {},
   "source": [
    "## -------- \n",
    "\n",
    "<!--Continue\n",
    "\n",
    "Go on with exercises about [functions and dictionaries](https://en.softpython.org/functions/fun7-dictionaries-sol.html) -->"
   ]
  },
  {
   "cell_type": "code",
   "execution_count": null,
   "id": "5e73346b",
   "metadata": {},
   "outputs": [],
   "source": []
  }
 ],
 "metadata": {
  "kernelspec": {
   "display_name": "Python 3 (ipykernel)",
   "language": "python",
   "name": "python3"
  },
  "language_info": {
   "codemirror_mode": {
    "name": "ipython",
    "version": 3
   },
   "file_extension": ".py",
   "mimetype": "text/x-python",
   "name": "python",
   "nbconvert_exporter": "python",
   "pygments_lexer": "ipython3",
   "version": "3.7.10"
  },
  "toc": {
   "base_numbering": 1,
   "nav_menu": {},
   "number_sections": false,
   "sideBar": true,
   "skip_h1_title": false,
   "title_cell": "Table of Contents",
   "title_sidebar": "Contents",
   "toc_cell": false,
   "toc_position": {},
   "toc_section_display": true,
   "toc_window_display": true
  }
 },
 "nbformat": 4,
 "nbformat_minor": 5
}
