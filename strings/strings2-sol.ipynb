{
 "cells": [
  {
   "cell_type": "code",
   "execution_count": 1,
   "metadata": {
    "nbsphinx": "hidden"
   },
   "outputs": [],
   "source": [
    "# Remember to execute this cell with Shift+Enter\n",
    "\n",
    "import jupman"
   ]
  },
  {
   "cell_type": "markdown",
   "metadata": {},
   "source": [
    "# Strings 2 - operators\n",
    "\n",
    "## [Download exercises zip](../_static/generated/strings.zip)\n",
    "\n",
    "[Browse files online](https://github.com/DavidLeoni/softpython-en/tree/master/strings)\n",
    "\n",
    "Python offers several operators to work with strings:\n",
    "\n",
    "|Operator|Use|Result|Meaning|\n",
    "|---|---|----|-----|\n",
    "|len|`len`(str)|int| Returns the length of the string|\n",
    "|concatenation|str `+` str|str| Concatenate two strings|\n",
    "|[inclusion](#in-operator)|str `in` str|bool| Checks whether a string is contained inside another one|\n",
    "|[indexing](#Reading-characters)|str`[`int`]`|str|Reads the character at the specified index|\n",
    "|[slice](#Slice)|str`[`int`:`int`]`|str|Extracts a sub-string|\n",
    "|[equality](#Equality-operators)|`==`,`!=`|`bool`| Checks whether strings are equal or different|\n",
    "|[comparisons](#Comparing-characters)|`<`,`<=`,`>`, `>=` |`bool`| Performs lexicographic comparison|\n",
    "|ord|`ord`(str)|`int`| Returns the order of a character|\n",
    "|chr|`chr`(int)|`str`| Given an order, returns the corresponding character|\n",
    "|[replication](#Replication-operator)|str `*` int|str| Replicate the string|"
   ]
  },
  {
   "cell_type": "markdown",
   "metadata": {},
   "source": [
    "## What to do\n",
    "\n",
    "1. Unzip [exercises zip](../_static/generated/strings.zip) in a folder, you should obtain something like this:\n",
    "\n",
    "```\n",
    "strings\n",
    "    strings1.ipynb    \n",
    "    strings1-sol.ipynb         \n",
    "    strings2.ipynb\n",
    "    strings2-sol.ipynb\n",
    "    strings3.ipynb\n",
    "    strings3-sol.ipynb    \n",
    "    strings4.ipynb\n",
    "    strings4-sol.ipynb    \n",
    "    jupman.py         \n",
    "```\n",
    "\n",
    "<div class=\"alert alert-warning\">\n",
    "\n",
    "**WARNING: to correctly visualize the notebook, it MUST be in an unzipped folder !**\n",
    "</div>"
   ]
  },
  {
   "cell_type": "markdown",
   "metadata": {},
   "source": [
    "2. open Jupyter Notebook from that folder. Two things should open, first a console and then browser. The browser should show a file list: navigate the list and open the notebook `strings2.ipynb`\n",
    "\n",
    "3. Go on reading the exercises file, sometimes you will find paragraphs marked **Exercises** which will ask to write Python commands in the following cells. Exercises are graded by difficulty, from one star ✪ to four ✪✪✪✪"
   ]
  },
  {
   "cell_type": "markdown",
   "metadata": {},
   "source": [
    "Shortcut keys:\n",
    "\n",
    "- to execute Python code inside a Jupyter cell, press `Control + Enter`\n",
    "\n",
    "- to execute Python code inside a Jupyter cell AND select next cell, press `Shift + Enter`\n",
    "\n",
    "- to execute Python code inside a Jupyter cell AND a create a new cell aftwerwards, press `Alt + Enter`\n",
    "\n",
    "- If the notebooks look stuck, try to select `Kernel -> Restart`"
   ]
  },
  {
   "cell_type": "markdown",
   "metadata": {},
   "source": [
    "## Reading characters"
   ]
  },
  {
   "cell_type": "markdown",
   "metadata": {},
   "source": [
    "A string is a sequence of characters, and often we might want to access a single character by specifying the position of the character we are interested in.\n",
    "\n",
    "It's important to remember that the position of characters in strings start from `0`. For reading a character in a certain position, we need to write the string followed by square parenthesis and spcify the position inside. Examples:"
   ]
  },
  {
   "cell_type": "code",
   "execution_count": 2,
   "metadata": {},
   "outputs": [
    {
     "data": {
      "text/plain": [
       "'p'"
      ]
     },
     "execution_count": 2,
     "metadata": {},
     "output_type": "execute_result"
    }
   ],
   "source": [
    "'park'[0]"
   ]
  },
  {
   "cell_type": "code",
   "execution_count": 3,
   "metadata": {},
   "outputs": [
    {
     "data": {
      "text/plain": [
       "'a'"
      ]
     },
     "execution_count": 3,
     "metadata": {},
     "output_type": "execute_result"
    }
   ],
   "source": [
    "'park'[1]"
   ]
  },
  {
   "cell_type": "code",
   "execution_count": 4,
   "metadata": {},
   "outputs": [
    {
     "data": {
      "text/plain": [
       "'r'"
      ]
     },
     "execution_count": 4,
     "metadata": {},
     "output_type": "execute_result"
    }
   ],
   "source": [
    "#0123\n",
    "'park'[2]"
   ]
  },
  {
   "cell_type": "code",
   "execution_count": 5,
   "metadata": {},
   "outputs": [
    {
     "data": {
      "text/plain": [
       "'k'"
      ]
     },
     "execution_count": 5,
     "metadata": {},
     "output_type": "execute_result"
    }
   ],
   "source": [
    "#0123\n",
    "'park'[3]"
   ]
  },
  {
   "cell_type": "markdown",
   "metadata": {},
   "source": [
    "If we try to go beyond the last character, we will get an error:"
   ]
  },
  {
   "cell_type": "markdown",
   "metadata": {},
   "source": [
    "```python\n",
    "#0123\n",
    "'park'[4]\n",
    "---------------------------------------------------------------------------\n",
    "IndexError                                Traceback (most recent call last)\n",
    "<ipython-input-106-b8f1f689f0c7> in <module>\n",
    "      1 #0123\n",
    "----> 2 'park'[4]\n",
    "\n",
    "IndexError: string index out of range\n",
    "```\n"
   ]
  },
  {
   "cell_type": "markdown",
   "metadata": {},
   "source": [
    "Before we used a string by specifying it as a literal, but we can also use variables:"
   ]
  },
  {
   "cell_type": "code",
   "execution_count": 6,
   "metadata": {},
   "outputs": [],
   "source": [
    "    #01234 \n",
    "x = 'cloud'"
   ]
  },
  {
   "cell_type": "code",
   "execution_count": 7,
   "metadata": {},
   "outputs": [
    {
     "data": {
      "text/plain": [
       "'c'"
      ]
     },
     "execution_count": 7,
     "metadata": {},
     "output_type": "execute_result"
    }
   ],
   "source": [
    "x[0]"
   ]
  },
  {
   "cell_type": "code",
   "execution_count": 8,
   "metadata": {},
   "outputs": [
    {
     "data": {
      "text/plain": [
       "'o'"
      ]
     },
     "execution_count": 8,
     "metadata": {},
     "output_type": "execute_result"
    }
   ],
   "source": [
    "x[2]"
   ]
  },
  {
   "cell_type": "markdown",
   "metadata": {},
   "source": [
    "How is represented the character we've just read? If you noticed, it is between quotes like if it were a string. Let's check:"
   ]
  },
  {
   "cell_type": "code",
   "execution_count": 9,
   "metadata": {},
   "outputs": [
    {
     "data": {
      "text/plain": [
       "str"
      ]
     },
     "execution_count": 9,
     "metadata": {},
     "output_type": "execute_result"
    }
   ],
   "source": [
    "type(x[0])"
   ]
  },
  {
   "cell_type": "markdown",
   "metadata": {},
   "source": [
    "It's really a string. To somebody this might come as a surprise, also from a philosophical standpoint: Python strings are made of... strings! Other programming languages may use a specific type for the single character, but Python uses strings to be able to better manage complex alphabets as, for example, japanese."
   ]
  },
  {
   "cell_type": "markdown",
   "metadata": {},
   "source": [
    "**QUESTION**: Let's suppose `x` is _any_ string. If we try to execute this code:\n",
    "\n",
    "```python\n",
    "x[0]\n",
    "```\n",
    "\n",
    "we will get:\n",
    "\n",
    "1. always a character\n",
    "2. always an error\n",
    "3. sometimes a character, sometimes an error according to the string"
   ]
  },
  {
   "cell_type": "raw",
   "id": "ed663486",
   "metadata": {
    "format": "text/html"
   },
   "source": [
    "<a  class=\"jupman-sol jupman-sol-toggler\" \n",
    " onclick=\"jupman.toggleSolution(this);\" \n",
    " data-jupman-show=\"Show answer\" data-jupman-hide=\"Hide\">Show answer</a><div class=\"jupman-sol jupman-sol-question\" style=\"display:none\">  "
   ]
  },
  {
   "cell_type": "markdown",
   "metadata": {},
   "source": [
    "**ANSWER**: 3: we might obtain an error with the empty string (try it)"
   ]
  },
  {
   "cell_type": "raw",
   "id": "3d2ecfc5",
   "metadata": {
    "format": "text/html"
   },
   "source": [
    "</div>"
   ]
  },
  {
   "cell_type": "markdown",
   "metadata": {},
   "source": [
    "**QUESTION**: Let's suppose `x` is an empty string. If we try to execute this code:\n",
    "\n",
    "```python\n",
    "x[len(x)]\n",
    "```\n",
    "\n",
    "we will get:\n",
    "\n",
    "1. always a character\n",
    "2. always an error\n",
    "3. sometimes a character, sometimes an error according to the string at hand"
   ]
  },
  {
   "cell_type": "raw",
   "id": "912a0d5a",
   "metadata": {
    "format": "text/html"
   },
   "source": [
    "<a  class=\"jupman-sol jupman-sol-toggler\" \n",
    " onclick=\"jupman.toggleSolution(this);\" \n",
    " data-jupman-show=\"Show answer\" data-jupman-hide=\"Hide\">Show answer</a><div class=\"jupman-sol jupman-sol-question\" style=\"display:none\">  "
   ]
  },
  {
   "cell_type": "markdown",
   "metadata": {},
   "source": [
    "**ANSWER**: 2: since indexing starts from 0, `len` always gives us a number which is the biggest usable index plus one."
   ]
  },
  {
   "cell_type": "raw",
   "id": "04ead22a",
   "metadata": {
    "format": "text/html"
   },
   "source": [
    "</div>"
   ]
  },
  {
   "cell_type": "markdown",
   "metadata": {},
   "source": [
    "### Exercise - alternate\n",
    "\n",
    "Given two strings both of length `3`, print a string which alternates characters from both strings. You code must work with any string of this length\n",
    "\n",
    "\n",
    "Example - given:\n",
    "\n",
    "```python\n",
    "x=\"say\"\n",
    "y=\"hi!\"\n",
    "```\n",
    "\n",
    "it should print:\n",
    "\n",
    "```\n",
    "shaiy!\n",
    "```"
   ]
  },
  {
   "cell_type": "raw",
   "id": "2d4ea72a",
   "metadata": {
    "format": "text/html"
   },
   "source": [
    "<a  class=\"jupman-sol jupman-sol-toggler\" \n",
    " onclick=\"jupman.toggleSolution(this);\" \n",
    " data-jupman-show=\"Show solution\" data-jupman-hide=\"Hide\">Show solution</a><div class=\"jupman-sol jupman-sol-code\" style=\"display:none\">  "
   ]
  },
  {
   "cell_type": "code",
   "execution_count": 10,
   "metadata": {},
   "outputs": [
    {
     "name": "stdout",
     "output_type": "stream",
     "text": [
      "shaiy!\n"
     ]
    }
   ],
   "source": [
    "# write here\n",
    "\n",
    "x=\"say\"\n",
    "y=\"hi!\"\n",
    "print(x[0] + y[0] + x[1] + y[1] + x[2] + y[2])"
   ]
  },
  {
   "cell_type": "raw",
   "id": "962e83e6",
   "metadata": {
    "format": "text/html"
   },
   "source": [
    "</div>"
   ]
  },
  {
   "cell_type": "code",
   "execution_count": 10,
   "metadata": {},
   "outputs": [
    {
     "name": "stdout",
     "output_type": "stream",
     "text": [
      "shaiy!\n"
     ]
    }
   ],
   "source": [
    "# write here\n",
    "\n"
   ]
  },
  {
   "cell_type": "markdown",
   "metadata": {},
   "source": [
    "### Negative indexes\n",
    "\n",
    "In Python we can also use negative indexes, which instead to start from _the beginning_ they start _from the end:_"
   ]
  },
  {
   "cell_type": "code",
   "execution_count": 11,
   "metadata": {},
   "outputs": [
    {
     "data": {
      "text/plain": [
       "'k'"
      ]
     },
     "execution_count": 11,
     "metadata": {},
     "output_type": "execute_result"
    }
   ],
   "source": [
    "#4321\n",
    "\"park\"[-1]"
   ]
  },
  {
   "cell_type": "code",
   "execution_count": 12,
   "metadata": {},
   "outputs": [
    {
     "data": {
      "text/plain": [
       "'r'"
      ]
     },
     "execution_count": 12,
     "metadata": {},
     "output_type": "execute_result"
    }
   ],
   "source": [
    "#4321\n",
    "\"park\"[-2]"
   ]
  },
  {
   "cell_type": "code",
   "execution_count": 13,
   "metadata": {},
   "outputs": [
    {
     "data": {
      "text/plain": [
       "'a'"
      ]
     },
     "execution_count": 13,
     "metadata": {},
     "output_type": "execute_result"
    }
   ],
   "source": [
    "#4321\n",
    "\"park\"[-3]"
   ]
  },
  {
   "cell_type": "code",
   "execution_count": 14,
   "metadata": {},
   "outputs": [
    {
     "data": {
      "text/plain": [
       "'p'"
      ]
     },
     "execution_count": 14,
     "metadata": {},
     "output_type": "execute_result"
    }
   ],
   "source": [
    "#4321\n",
    "\"park\"[-4]"
   ]
  },
  {
   "cell_type": "markdown",
   "metadata": {},
   "source": [
    "If we go one step beyond, we get an error:\n",
    "\n",
    "```python\n",
    "#4321\n",
    "\"park\"[-5]\n",
    "\n",
    "---------------------------------------------------------------------------\n",
    "IndexError                                Traceback (most recent call last)\n",
    "<ipython-input-126-668d8a13a324> in <module>\n",
    "----> 1 \"park\"[-5]\n",
    "\n",
    "IndexError: string index out of range\n",
    "\n",
    "```"
   ]
  },
  {
   "cell_type": "markdown",
   "metadata": {},
   "source": [
    "\n",
    "**QUESTION**: Suppose `x` is a NON-empty string. What do we get with the following expression?\n",
    "\n",
    "```python\n",
    "x[-len(x)]\n",
    "```\n",
    "\n",
    "1. always a character\n",
    "2. always an error\n",
    "3. sometimes a character, sometime an error according to the string"
   ]
  },
  {
   "cell_type": "raw",
   "id": "1d08e456",
   "metadata": {
    "format": "text/html"
   },
   "source": [
    "<a  class=\"jupman-sol jupman-sol-toggler\" \n",
    " onclick=\"jupman.toggleSolution(this);\" \n",
    " data-jupman-show=\"Show answer\" data-jupman-hide=\"Hide\">Show answer</a><div class=\"jupman-sol jupman-sol-question\" style=\"display:none\">  "
   ]
  },
  {
   "cell_type": "markdown",
   "metadata": {},
   "source": [
    "**ANSWER**: 1. (we supposed the string is never empty)"
   ]
  },
  {
   "cell_type": "raw",
   "id": "77064261",
   "metadata": {
    "format": "text/html"
   },
   "source": [
    "</div>"
   ]
  },
  {
   "cell_type": "markdown",
   "metadata": {},
   "source": [
    "**QUESTION**: Suppose `x` is a some string (possibly empty), the expressions\n",
    "\n",
    "```python\n",
    "x[len(x) - 1]\n",
    "```\n",
    "and \n",
    "\n",
    "```python\n",
    "x[-len(x)]\n",
    "```\n",
    "\n",
    "are equivalent ? What do they do ?"
   ]
  },
  {
   "cell_type": "raw",
   "id": "79abd397",
   "metadata": {
    "format": "text/html"
   },
   "source": [
    "<a  class=\"jupman-sol jupman-sol-toggler\" \n",
    " onclick=\"jupman.toggleSolution(this);\" \n",
    " data-jupman-show=\"Show answer\" data-jupman-hide=\"Hide\">Show answer</a><div class=\"jupman-sol jupman-sol-question\" style=\"display:none\">  "
   ]
  },
  {
   "cell_type": "markdown",
   "metadata": {},
   "source": [
    "**ANSWER**: the expressions are equivalent: if the string is empty both produce an error, if it is full both give the last character"
   ]
  },
  {
   "cell_type": "raw",
   "id": "928c92ab",
   "metadata": {
    "format": "text/html"
   },
   "source": [
    "</div>"
   ]
  },
  {
   "cell_type": "markdown",
   "metadata": {},
   "source": [
    "**QUESTION**: If `x` is a non-empty string, what does the following expression produce? Can we simplify it to a shorter one?\n",
    "\n",
    "```python\n",
    "(x + x)[len(x)]\n",
    "```"
   ]
  },
  {
   "cell_type": "raw",
   "id": "43bc5550",
   "metadata": {
    "format": "text/html"
   },
   "source": [
    "<a  class=\"jupman-sol jupman-sol-toggler\" \n",
    " onclick=\"jupman.toggleSolution(this);\" \n",
    " data-jupman-show=\"Show answer\" data-jupman-hide=\"Hide\">Show answer</a><div class=\"jupman-sol jupman-sol-question\" style=\"display:none\">  "
   ]
  },
  {
   "cell_type": "markdown",
   "metadata": {},
   "source": [
    "**ANSWER**: it's the same as `x[0]`"
   ]
  },
  {
   "cell_type": "raw",
   "id": "9efffdae",
   "metadata": {
    "format": "text/html"
   },
   "source": [
    "</div>"
   ]
  },
  {
   "cell_type": "markdown",
   "metadata": {},
   "source": [
    "**QUESTION**: If `x` is a non-empty string, what does the following expression produce? An error? Something else? Can we simplify it?\n",
    "\n",
    "```python\n",
    "'park'[0][0]\n",
    "```"
   ]
  },
  {
   "cell_type": "raw",
   "id": "34fc2ebe",
   "metadata": {
    "format": "text/html"
   },
   "source": [
    "<a  class=\"jupman-sol jupman-sol-toggler\" \n",
    " onclick=\"jupman.toggleSolution(this);\" \n",
    " data-jupman-show=\"Show answer\" data-jupman-hide=\"Hide\">Show answer</a><div class=\"jupman-sol jupman-sol-question\" style=\"display:none\">  "
   ]
  },
  {
   "cell_type": "markdown",
   "metadata": {},
   "source": [
    "**ANSWER**: We know that `'park'[0]` produces a character, but we also know that in Python characters extracted from strings are also strings of length 1. So, if after the expression `\"park\"[0]` which produces the string `'p'` we add another `[0]` it's like we were writing `'p'[0]`, which returns the zeroth character found in the string in the string `'p'`, that is `'p'` itself. "
   ]
  },
  {
   "cell_type": "raw",
   "id": "54927446",
   "metadata": {
    "format": "text/html"
   },
   "source": [
    "</div>"
   ]
  },
  {
   "cell_type": "markdown",
   "metadata": {},
   "source": [
    "**QUESTION**: If `x` is a non-empty string, what does the following expression produce? An error? Something else? Can we simplify it?\n",
    "\n",
    "```python\n",
    "(x[0])[0]\n",
    "```"
   ]
  },
  {
   "cell_type": "raw",
   "id": "4cf8f2e3",
   "metadata": {
    "format": "text/html"
   },
   "source": [
    "<a  class=\"jupman-sol jupman-sol-toggler\" \n",
    " onclick=\"jupman.toggleSolution(this);\" \n",
    " data-jupman-show=\"Show answer\" data-jupman-hide=\"Hide\">Show answer</a><div class=\"jupman-sol jupman-sol-question\" style=\"display:none\">  "
   ]
  },
  {
   "cell_type": "markdown",
   "metadata": {},
   "source": [
    "**ANSWER**: `x[0]` is an expression which produces the first character of the string `x`. In Python, we can place expressions among parenthesis whenever we want. So in this case the parenthesis don't produce any effect, and the expression becomes equivalent to `x[0][0]` which as we've seen before it's the same as writing `x[0]`"
   ]
  },
  {
   "cell_type": "raw",
   "id": "78478fd1",
   "metadata": {
    "format": "text/html"
   },
   "source": [
    "</div>"
   ]
  },
  {
   "cell_type": "markdown",
   "metadata": {},
   "source": [
    "## Substitute characters\n",
    "\n",
    "We said strings in Python are immutable. Suppose we have a string like this:"
   ]
  },
  {
   "cell_type": "code",
   "execution_count": 15,
   "metadata": {},
   "outputs": [],
   "source": [
    "    #01234\n",
    "x = 'port'"
   ]
  },
  {
   "cell_type": "markdown",
   "metadata": {},
   "source": [
    "and, for example, we want to change the character at position `2` (in this case, the `r`) into an `s`. What do we do?\n",
    "\n",
    "We might be tempted to write like the following, but Python would punish us with an error:"
   ]
  },
  {
   "cell_type": "markdown",
   "metadata": {},
   "source": [
    "```python\n",
    "x[2] = 's'\n",
    "\n",
    "---------------------------------------------------------------------------\n",
    "TypeError                                 Traceback (most recent call last)\n",
    "<ipython-input-113-e5847c6fa4bf> in <module>\n",
    "----> 1 x[2] = 's'\n",
    "\n",
    "TypeError: 'str' object does not support item assignment\n",
    "\n",
    "```"
   ]
  },
  {
   "cell_type": "markdown",
   "metadata": {},
   "source": [
    "The correct solution is assigning a completely new string to `x`, obtained by taking pieces from the previous one:"
   ]
  },
  {
   "cell_type": "code",
   "execution_count": 16,
   "metadata": {},
   "outputs": [],
   "source": [
    "x = x[0] + x[1] + 's' + x[3]"
   ]
  },
  {
   "cell_type": "code",
   "execution_count": 17,
   "metadata": {},
   "outputs": [
    {
     "data": {
      "text/plain": [
       "'post'"
      ]
     },
     "execution_count": 17,
     "metadata": {},
     "output_type": "execute_result"
    }
   ],
   "source": [
    "x"
   ]
  },
  {
   "cell_type": "markdown",
   "metadata": {},
   "source": [
    "If seeing `x` to the right of equal sign baffles you, we can decompose the code like this and it will work the same way:"
   ]
  },
  {
   "cell_type": "code",
   "execution_count": 18,
   "metadata": {},
   "outputs": [],
   "source": [
    "x = \"port\"\n",
    "y = x\n",
    "x = y[0] + y[1] + 's' + y[3]"
   ]
  },
  {
   "cell_type": "markdown",
   "metadata": {},
   "source": [
    "Try it in Python Tutor:"
   ]
  },
  {
   "cell_type": "code",
   "execution_count": 19,
   "metadata": {},
   "outputs": [
    {
     "data": {
      "text/html": [
       "\n",
       "        <script src=\"../_static/js/pytutor-embed.bundle.min.js\" type=\"application/javascript\"></script>\n",
       "     \n",
       "        <script id=\"json-jm2ea4527e-542a-4ab2-9530-74ef98e8858f\" type=\"application/json\" >\n",
       "            {\"code\": \" \\nx = \\\"port\\\"\\ny = x\\nx = y[0] + y[1] + 's' + y[3]\", \"trace\": [{\"line\": 2, \"event\": \"step_line\", \"func_name\": \"<module>\", \"globals\": {}, \"ordered_globals\": [], \"stack_to_render\": [], \"heap\": {}, \"stdout\": \"\"}, {\"line\": 3, \"event\": \"step_line\", \"func_name\": \"<module>\", \"globals\": {\"x\": \"port\"}, \"ordered_globals\": [\"x\"], \"stack_to_render\": [], \"heap\": {}, \"stdout\": \"\"}, {\"line\": 4, \"event\": \"step_line\", \"func_name\": \"<module>\", \"globals\": {\"x\": \"port\", \"y\": \"port\"}, \"ordered_globals\": [\"x\", \"y\"], \"stack_to_render\": [], \"heap\": {}, \"stdout\": \"\"}, {\"line\": 4, \"event\": \"return\", \"func_name\": \"<module>\", \"globals\": {\"x\": \"post\", \"y\": \"port\"}, \"ordered_globals\": [\"x\", \"y\"], \"stack_to_render\": [], \"heap\": {}, \"stdout\": \"\"}]}\n",
       "        </script>\n",
       "        <div id=\"jm2ea4527e-542a-4ab2-9530-74ef98e8858f\" class=\"pytutorVisualizer\"> </div>\n",
       " \n",
       "        <style>\n",
       "        .vizLayoutTd {\n",
       "            background-color: #fff !important;\n",
       "        }\n",
       "\n",
       "        #pyStdout {            \n",
       "            min-height:25px;\n",
       "        }\n",
       "\n",
       "        /* 'Edit this code' link, hiding because replaces browser tab !!!*/\n",
       "        #editCodeLinkDiv {\n",
       "            display:none;  \n",
       "        }\n",
       "        </style>   \n",
       "                            \n",
       "        <script>\n",
       "        (function(){\n",
       "\n",
       "            var trace = JSON.parse(document.getElementById('json-jm2ea4527e-542a-4ab2-9530-74ef98e8858f').innerHTML);                                        \n",
       "            // NOTE 1: id without #\n",
       "            // NOTE 2 - maybe there are more predictable ways, but this will work anyway\n",
       "            //        - id should be number\n",
       "            visualizerIdOverride = Math.trunc(Math.random() * 100000000000)\n",
       "            addVisualizerToPage(trace, 'jm2ea4527e-542a-4ab2-9530-74ef98e8858f',{'embeddedMode' : false,\n",
       "                                             'visualizerIdOverride':visualizerIdOverride})  \n",
       "            \n",
       "            \n",
       "            // set overflow for pytuts - need to do in python as css \n",
       "            // does not allow parent selection\n",
       "            var pytuts = $('.pytutorVisualizer')\n",
       "            pytuts.closest('div.output_html.rendered_html.output_result')\n",
       "                    .css('overflow-x', 'visible')\n",
       "        \n",
       "            //pytuts.closest('div.output_html.rendered_html.output_result')\n",
       "            //      .css('background-color','red')                \n",
       "            \n",
       "        })()\n",
       "        </script>\n",
       "                \n",
       "                "
      ],
      "text/plain": [
       "<IPython.core.display.HTML object>"
      ]
     },
     "execution_count": 19,
     "metadata": {},
     "output_type": "execute_result"
    }
   ],
   "source": [
    "x = \"port\"\n",
    "y = x\n",
    "x = y[0] + y[1] + 's' + y[3]\n",
    "\n",
    "jupman.pytut()"
   ]
  },
  {
   "cell_type": "markdown",
   "metadata": {},
   "source": [
    "## Slices\n",
    "\n",
    "We might want to read only a subsequence which starts from a position and ends up in another one. For example, suppose we have:"
   ]
  },
  {
   "cell_type": "code",
   "execution_count": 20,
   "metadata": {},
   "outputs": [],
   "source": [
    "    #0123456789\n",
    "x = 'mercantile'"
   ]
  },
  {
   "cell_type": "markdown",
   "metadata": {},
   "source": [
    "and we want to extract the string `'canti'`, which starts at index 3 **included**. We might extract the single characters and concatenate them with `+` sign, but we would write a lot of code. A better option is to use the so-called [slices](http://greenteapress.com/thinkpython2/html/thinkpython2009.html#sec95): simply write the string followed by square parenthesis containing only start index (**included**), a colon, and finally end index (**excluded**):"
   ]
  },
  {
   "cell_type": "code",
   "execution_count": 21,
   "metadata": {},
   "outputs": [
    {
     "data": {
      "text/plain": [
       "'canti'"
      ]
     },
     "execution_count": 21,
     "metadata": {},
     "output_type": "execute_result"
    }
   ],
   "source": [
    "    #0123456789\n",
    "x = 'mercantile'\n",
    "\n",
    "x[3:8]   # note the : inside start and end indexes"
   ]
  },
  {
   "cell_type": "markdown",
   "metadata": {},
   "source": [
    "<div class=\"alert alert-warning\">\n",
    "\n",
    "**WARNING: Extracting with slices DOES NOT modify the original string !!**    \n",
    "</div>\n",
    "\n",
    "Let's see an example:"
   ]
  },
  {
   "cell_type": "code",
   "execution_count": 22,
   "metadata": {},
   "outputs": [
    {
     "name": "stdout",
     "output_type": "stream",
     "text": [
      "               x is mercantile\n",
      "The slice x[3:8] is canti\n",
      "               x is mercantile\n"
     ]
    }
   ],
   "source": [
    "    #0123456789\n",
    "x = 'mercantile'\n",
    "\n",
    "print('               x is', x)\n",
    "print('The slice x[3:8] is', x[3:8])\n",
    "print('               x is', x)       # note x continues to point to old string!"
   ]
  },
  {
   "cell_type": "markdown",
   "metadata": {},
   "source": [
    "**QUESTION**: if `x` is any string of length at least `5`, what does this code produce? An error? It works? Can we shorten it?\n",
    "\n",
    "```python\n",
    "x[3:4]\n",
    "```"
   ]
  },
  {
   "cell_type": "raw",
   "id": "986d9e67",
   "metadata": {
    "format": "text/html"
   },
   "source": [
    "<a  class=\"jupman-sol jupman-sol-toggler\" \n",
    " onclick=\"jupman.toggleSolution(this);\" \n",
    " data-jupman-show=\"Show answer\" data-jupman-hide=\"Hide\">Show answer</a><div class=\"jupman-sol jupman-sol-question\" style=\"display:none\">  "
   ]
  },
  {
   "cell_type": "markdown",
   "metadata": {},
   "source": [
    "**ANSWER**: If the string has length at least `5`, can might have a situation like this:\n",
    "\n",
    "```python\n",
    "    #01234\n",
    "x = 'abcde'\n",
    "```\n",
    "\n",
    "The slice `x[3:4]` will extract from position `3` **included** until position 4 **excluded**, so as a matter of fact it will extract only one character from position 3. So the code is equivalent to `x[3]`"
   ]
  },
  {
   "cell_type": "raw",
   "id": "927de5e0",
   "metadata": {
    "format": "text/html"
   },
   "source": [
    "</div>"
   ]
  },
  {
   "cell_type": "markdown",
   "metadata": {},
   "source": [
    "### Exercise - garalampog\n",
    "\n",
    "Write some code to extract and print  `alam` from the string `\"garalampog\"`. Try guessing the correct indexes."
   ]
  },
  {
   "cell_type": "raw",
   "id": "7f4d1134",
   "metadata": {
    "format": "text/html"
   },
   "source": [
    "<a  class=\"jupman-sol jupman-sol-toggler\" \n",
    " onclick=\"jupman.toggleSolution(this);\" \n",
    " data-jupman-show=\"Show solution\" data-jupman-hide=\"Hide\">Show solution</a><div class=\"jupman-sol jupman-sol-code\" style=\"display:none\">  "
   ]
  },
  {
   "cell_type": "code",
   "execution_count": 23,
   "metadata": {},
   "outputs": [
    {
     "name": "stdout",
     "output_type": "stream",
     "text": [
      "alam\n"
     ]
    }
   ],
   "source": [
    "x = \"garalampog\"\n",
    "\n",
    "# write here\n",
    "\n",
    "#      0123456789\n",
    "print(x[3:7])"
   ]
  },
  {
   "cell_type": "raw",
   "id": "29aade3e",
   "metadata": {
    "format": "text/html"
   },
   "source": [
    "</div>"
   ]
  },
  {
   "cell_type": "code",
   "execution_count": 23,
   "metadata": {},
   "outputs": [
    {
     "name": "stdout",
     "output_type": "stream",
     "text": [
      "alam\n"
     ]
    }
   ],
   "source": [
    "x = \"garalampog\"\n",
    "\n",
    "# write here\n",
    "\n"
   ]
  },
  {
   "cell_type": "markdown",
   "metadata": {},
   "source": [
    "### Exercise - ifEweEfav  lkSD lkWe\n",
    "\n",
    "Write some code to extract and print `kD` from the string `\"ifE\\te\\nfav  lkD lkWe\"`. Be careful of spaces and special characters (before you might want to print `x`). Try guessing correct indexes."
   ]
  },
  {
   "cell_type": "raw",
   "id": "cc1cb85e",
   "metadata": {
    "format": "text/html"
   },
   "source": [
    "<a  class=\"jupman-sol jupman-sol-toggler\" \n",
    " onclick=\"jupman.toggleSolution(this);\" \n",
    " data-jupman-show=\"Show solution\" data-jupman-hide=\"Hide\">Show solution</a><div class=\"jupman-sol jupman-sol-code\" style=\"display:none\">  "
   ]
  },
  {
   "cell_type": "code",
   "execution_count": 24,
   "metadata": {},
   "outputs": [
    {
     "name": "stdout",
     "output_type": "stream",
     "text": [
      "kD\n"
     ]
    }
   ],
   "source": [
    "x = \"ifE\\te\\nfav  lkD lkWe\"\n",
    "\n",
    "# write here\n",
    "\n",
    "#     0123 45 67890123456789\n",
    "#x = \"ifE\\te\\nfav  lkD lkWe\"\n",
    "\n",
    "print(x[12:14])"
   ]
  },
  {
   "cell_type": "raw",
   "id": "c16ee479",
   "metadata": {
    "format": "text/html"
   },
   "source": [
    "</div>"
   ]
  },
  {
   "cell_type": "code",
   "execution_count": 24,
   "metadata": {},
   "outputs": [
    {
     "name": "stdout",
     "output_type": "stream",
     "text": [
      "kD\n"
     ]
    }
   ],
   "source": [
    "x = \"ifE\\te\\nfav  lkD lkWe\"\n",
    "\n",
    "# write here\n",
    "\n"
   ]
  },
  {
   "cell_type": "markdown",
   "metadata": {},
   "source": [
    "### Slices - limits\n",
    "\n",
    "Whenever we use slice we must be careful with index limits. Let's see how they behave:"
   ]
  },
  {
   "cell_type": "code",
   "execution_count": 25,
   "metadata": {},
   "outputs": [
    {
     "data": {
      "text/plain": [
       "'cha'"
      ]
     },
     "execution_count": 25,
     "metadata": {},
     "output_type": "execute_result"
    }
   ],
   "source": [
    "#012345\n",
    "\"chair\"[0:3]  # from index 0 *included* to 3 *excluded*"
   ]
  },
  {
   "cell_type": "code",
   "execution_count": 26,
   "metadata": {},
   "outputs": [
    {
     "data": {
      "text/plain": [
       "'chai'"
      ]
     },
     "execution_count": 26,
     "metadata": {},
     "output_type": "execute_result"
    }
   ],
   "source": [
    "#012345\n",
    "\"chair\"[0:4]  # from index 0 *included* to 4 *excluded*"
   ]
  },
  {
   "cell_type": "code",
   "execution_count": 27,
   "metadata": {},
   "outputs": [
    {
     "data": {
      "text/plain": [
       "'chair'"
      ]
     },
     "execution_count": 27,
     "metadata": {},
     "output_type": "execute_result"
    }
   ],
   "source": [
    "#012345\n",
    "\"chair\"[0:5]  # from index 0 *included* to 5 *excluded*"
   ]
  },
  {
   "cell_type": "code",
   "execution_count": 28,
   "metadata": {},
   "outputs": [
    {
     "data": {
      "text/plain": [
       "'sedia'"
      ]
     },
     "execution_count": 28,
     "metadata": {},
     "output_type": "execute_result"
    }
   ],
   "source": [
    "#012345\n",
    "\"sedia\"[0:6]   # if we go beyond string length Python doesn't complain"
   ]
  },
  {
   "cell_type": "markdown",
   "metadata": {},
   "source": [
    "**QUESTION**: if `x` is any string (also empty), what does this expression do? Can it give an error? Does it return something useful?\n",
    "\n",
    "```python\n",
    "x[0:len(x)]\n",
    "```"
   ]
  },
  {
   "cell_type": "raw",
   "id": "2d455243",
   "metadata": {
    "format": "text/html"
   },
   "source": [
    "<a  class=\"jupman-sol jupman-sol-toggler\" \n",
    " onclick=\"jupman.toggleSolution(this);\" \n",
    " data-jupman-show=\"Show answer\" data-jupman-hide=\"Hide\">Show answer</a><div class=\"jupman-sol jupman-sol-question\" style=\"display:none\">  "
   ]
  },
  {
   "cell_type": "markdown",
   "metadata": {},
   "source": [
    "**ANSWER**: It always returns a NEW copy of the whole string, because it starts from index `0` _included_ and ends at index `len(x)` _excluded_. It also works with the empty string, as `''[0:len('')]` is equivalent to `''[0:0]` that is a substring from `0` _included_ to `0` _excluded,_ so we don't take any character and we do not go beyond string limits. Actually, even if we went beyond,  we wouldn't upset Python (try writing `''[0:100]`"
   ]
  },
  {
   "cell_type": "raw",
   "id": "e39066e9",
   "metadata": {
    "format": "text/html"
   },
   "source": [
    "</div>"
   ]
  },
  {
   "cell_type": "markdown",
   "metadata": {},
   "source": [
    "### Slice - Omitting limits"
   ]
  },
  {
   "cell_type": "markdown",
   "metadata": {},
   "source": [
    "If we want, it's possible to omit the starting index, in this case Python will suppose it's a `0`:"
   ]
  },
  {
   "cell_type": "code",
   "execution_count": 29,
   "metadata": {},
   "outputs": [
    {
     "data": {
      "text/plain": [
       "'cat'"
      ]
     },
     "execution_count": 29,
     "metadata": {},
     "output_type": "execute_result"
    }
   ],
   "source": [
    "#0123456789\n",
    "\"catamaran\"[:3]"
   ]
  },
  {
   "cell_type": "markdown",
   "metadata": {},
   "source": [
    "It's also possible to omit the ending index, in that case Python will extract until the end of the string:"
   ]
  },
  {
   "cell_type": "code",
   "execution_count": 30,
   "metadata": {},
   "outputs": [
    {
     "data": {
      "text/plain": [
       "'amaran'"
      ]
     },
     "execution_count": 30,
     "metadata": {},
     "output_type": "execute_result"
    }
   ],
   "source": [
    "#0123456789\n",
    "\"catamaran\"[3:]"
   ]
  },
  {
   "cell_type": "markdown",
   "metadata": {},
   "source": [
    "By omitting both indexes we obtain the full string:"
   ]
  },
  {
   "cell_type": "code",
   "execution_count": 31,
   "metadata": {},
   "outputs": [
    {
     "data": {
      "text/plain": [
       "'catamaran'"
      ]
     },
     "execution_count": 31,
     "metadata": {},
     "output_type": "execute_result"
    }
   ],
   "source": [
    "\"catamaran\"[:]"
   ]
  },
  {
   "cell_type": "markdown",
   "metadata": {},
   "source": [
    "### Exercise - ysterymyster\n",
    "\n",
    "Write some code that given a string `x` prints the string composed with all the characters of `x` except the first one, followed by all characters of `x` except the last one.\n",
    "\n",
    "* your code must work with any string\n",
    "\n",
    "\n",
    "Example 1 - given:\n",
    "\n",
    "```python\n",
    "x = \"mystery\"\n",
    "```\n",
    "\n",
    "must print:\n",
    "\n",
    "```\n",
    "ysterymyster\n",
    "```\n",
    "\n",
    "Example 2 - given:\n",
    "\n",
    "```python\n",
    "x = \"talking\"\n",
    "```\n",
    "\n",
    "must print:\n",
    "\n",
    "`alkingtalkin`\n"
   ]
  },
  {
   "cell_type": "raw",
   "id": "f277389d",
   "metadata": {
    "format": "text/html"
   },
   "source": [
    "<a  class=\"jupman-sol jupman-sol-toggler\" \n",
    " onclick=\"jupman.toggleSolution(this);\" \n",
    " data-jupman-show=\"Show solution\" data-jupman-hide=\"Hide\">Show solution</a><div class=\"jupman-sol jupman-sol-code\" style=\"display:none\">  "
   ]
  },
  {
   "cell_type": "code",
   "execution_count": 32,
   "metadata": {},
   "outputs": [
    {
     "name": "stdout",
     "output_type": "stream",
     "text": [
      "ysterymyster\n"
     ]
    }
   ],
   "source": [
    "x = \"mystery\"\n",
    "#x = \"talking\"\n",
    "\n",
    "# write here\n",
    "\n",
    "print(x[1:] + x[0:len(x)-1])"
   ]
  },
  {
   "cell_type": "raw",
   "id": "225e511c",
   "metadata": {
    "format": "text/html"
   },
   "source": [
    "</div>"
   ]
  },
  {
   "cell_type": "code",
   "execution_count": 32,
   "metadata": {},
   "outputs": [
    {
     "name": "stdout",
     "output_type": "stream",
     "text": [
      "ysterymyster\n"
     ]
    }
   ],
   "source": [
    "x = \"mystery\"\n",
    "#x = \"talking\"\n",
    "\n",
    "# write here\n",
    "\n"
   ]
  },
  {
   "cell_type": "markdown",
   "metadata": {},
   "source": [
    "### Slice - negative limits\n",
    "\n",
    "If we want, it's also possible to set negative limits, although it's not always intuitive:"
   ]
  },
  {
   "cell_type": "code",
   "execution_count": 33,
   "metadata": {},
   "outputs": [
    {
     "data": {
      "text/plain": [
       "''"
      ]
     },
     "execution_count": 33,
     "metadata": {},
     "output_type": "execute_result"
    }
   ],
   "source": [
    "#0123456  \n",
    " \n",
    "\"vegetal\"[3:0]   # from index 3 to positive indexes <= 3 doesn't produce anything"
   ]
  },
  {
   "cell_type": "code",
   "execution_count": 34,
   "metadata": {},
   "outputs": [
    {
     "data": {
      "text/plain": [
       "''"
      ]
     },
     "execution_count": 34,
     "metadata": {},
     "output_type": "execute_result"
    }
   ],
   "source": [
    "#0123456   \n",
    "\"vegetal\"[3:1]   # from index 3 to positive indexes <= 3 doesn't produce anything"
   ]
  },
  {
   "cell_type": "code",
   "execution_count": 35,
   "metadata": {},
   "outputs": [
    {
     "data": {
      "text/plain": [
       "''"
      ]
     },
     "execution_count": 35,
     "metadata": {},
     "output_type": "execute_result"
    }
   ],
   "source": [
    "#0123456   \n",
    "\"vegetal\"[3:2]  # from index 3 to positive indexes <= 3 doesn't produce anything"
   ]
  },
  {
   "cell_type": "code",
   "execution_count": 36,
   "metadata": {},
   "outputs": [
    {
     "data": {
      "text/plain": [
       "''"
      ]
     },
     "execution_count": 36,
     "metadata": {},
     "output_type": "execute_result"
    }
   ],
   "source": [
    "#0123456   \n",
    "\"vegetal\"[3:3]  # from index 3 to positive indexes <= 3 doesn't produce anything"
   ]
  },
  {
   "cell_type": "markdown",
   "metadata": {},
   "source": [
    "Let's see what happens with negative indexes:"
   ]
  },
  {
   "cell_type": "code",
   "execution_count": 37,
   "metadata": {},
   "outputs": [
    {
     "data": {
      "text/plain": [
       "'eta'"
      ]
     },
     "execution_count": 37,
     "metadata": {},
     "output_type": "execute_result"
    }
   ],
   "source": [
    "#0123456   positive indexes\n",
    "#7654321   negative indexes\n",
    "\"vegetal\"[3:-1]"
   ]
  },
  {
   "cell_type": "code",
   "execution_count": 38,
   "metadata": {},
   "outputs": [
    {
     "data": {
      "text/plain": [
       "'et'"
      ]
     },
     "execution_count": 38,
     "metadata": {},
     "output_type": "execute_result"
    }
   ],
   "source": [
    "#0123456   positive indexes\n",
    "#7654321   negative indexes\n",
    "\"vegetal\"[3:-2]"
   ]
  },
  {
   "cell_type": "code",
   "execution_count": 39,
   "metadata": {},
   "outputs": [
    {
     "data": {
      "text/plain": [
       "'e'"
      ]
     },
     "execution_count": 39,
     "metadata": {},
     "output_type": "execute_result"
    }
   ],
   "source": [
    "#0123456   positive indexes\n",
    "#7654321   negative indexes\n",
    "\"vegetal\"[3:-3]"
   ]
  },
  {
   "cell_type": "code",
   "execution_count": 40,
   "metadata": {},
   "outputs": [
    {
     "data": {
      "text/plain": [
       "''"
      ]
     },
     "execution_count": 40,
     "metadata": {},
     "output_type": "execute_result"
    }
   ],
   "source": [
    "#0123456   positive indexes\n",
    "#7654321   negative indexes\n",
    "\"vegetal\"[3:-4]"
   ]
  },
  {
   "cell_type": "code",
   "execution_count": 41,
   "metadata": {},
   "outputs": [
    {
     "data": {
      "text/plain": [
       "''"
      ]
     },
     "execution_count": 41,
     "metadata": {},
     "output_type": "execute_result"
    }
   ],
   "source": [
    "#0123456   positive indexes\n",
    "#7654321   negative indexes\n",
    "\"vegetal\"[3:-5]"
   ]
  },
  {
   "cell_type": "markdown",
   "metadata": {},
   "source": [
    "### Exercise - javarnanda\n",
    "\n",
    "Given a string `x`, write some code to extract and print its last 3 characters joined to the to first 3.\n",
    "\n",
    "* Your code should work for any string of length equal or greater than 3\n",
    "\n",
    "Example 1 - given:\n",
    "\n",
    "```python\n",
    "x = \"javarnanda\"\n",
    "```\n",
    "\n",
    "it should print:\n",
    "\n",
    "```bash\n",
    "javnda\n",
    "```\n",
    "\n",
    "Example 2 - given:\n",
    "\n",
    "```python\n",
    "x = \"abcd\"\n",
    "```\n",
    "\n",
    "it should print:\n",
    "\n",
    "```bash\n",
    "abcbcd\n",
    "```"
   ]
  },
  {
   "cell_type": "raw",
   "id": "b0b2aa13",
   "metadata": {
    "format": "text/html"
   },
   "source": [
    "<a  class=\"jupman-sol jupman-sol-toggler\" \n",
    " onclick=\"jupman.toggleSolution(this);\" \n",
    " data-jupman-show=\"Show solution\" data-jupman-hide=\"Hide\">Show solution</a><div class=\"jupman-sol jupman-sol-code\" style=\"display:none\">  "
   ]
  },
  {
   "cell_type": "code",
   "execution_count": 42,
   "metadata": {},
   "outputs": [
    {
     "name": "stdout",
     "output_type": "stream",
     "text": [
      "javnda\n"
     ]
    }
   ],
   "source": [
    "x = \"javarnanda\"\n",
    "#x = \"abcd\"\n",
    "\n",
    "# write here\n",
    "\n",
    "print(x[:3] + x[-3:])"
   ]
  },
  {
   "cell_type": "raw",
   "id": "e0f044ba",
   "metadata": {
    "format": "text/html"
   },
   "source": [
    "</div>"
   ]
  },
  {
   "cell_type": "code",
   "execution_count": 42,
   "metadata": {},
   "outputs": [
    {
     "name": "stdout",
     "output_type": "stream",
     "text": [
      "javnda\n"
     ]
    }
   ],
   "source": [
    "x = \"javarnanda\"\n",
    "#x = \"abcd\"\n",
    "\n",
    "# write here\n",
    "\n"
   ]
  },
  {
   "cell_type": "markdown",
   "metadata": {},
   "source": [
    "### Slice - modifying\n",
    "\n",
    "Suppose to have the string"
   ]
  },
  {
   "cell_type": "code",
   "execution_count": 43,
   "metadata": {},
   "outputs": [],
   "source": [
    "    #0123456789\n",
    "s = \"the table is placed in the center of the room\""
   ]
  },
  {
   "cell_type": "markdown",
   "metadata": {},
   "source": [
    "and we want to change `s` assignment so it becomes associated to the string:\n",
    "\n",
    "```python\n",
    "#0123456789\n",
    "\"the chair is placed in the center of the room\"\n",
    "```"
   ]
  },
  {
   "cell_type": "markdown",
   "metadata": {},
   "source": [
    "Since both strings are similar, we might be tempted to only redefine the character sequence which corresponds to the word `\"table\"`, which goes from index `4` included to index `9` excluded:"
   ]
  },
  {
   "cell_type": "markdown",
   "metadata": {},
   "source": [
    "```python\n",
    "s[4:9] = \"chair\"   # WARNING! WRONG!\n",
    "\n",
    "---------------------------------------------------------------------------\n",
    "TypeError                                 Traceback (most recent call last)\n",
    "<ipython-input-57-0de7363c6882> in <module>\n",
    "----> 1 s[4:9] = \"chair\"   # WARNING! WRONG!\n",
    "\n",
    "TypeError: 'str' object does not support item assignment\n",
    "\n",
    "```"
   ]
  },
  {
   "cell_type": "markdown",
   "metadata": {},
   "source": [
    "Sadly, we would receive an error, because as repeated many times strings are IMMUTABLE, so we cannot select a chunk of a particular string and try to change the original string. What we can do instead is to build a NEW string from pieces of the original string, concatenates the desired characters and associates the result to the variabile of which we want to modify the assignment:"
   ]
  },
  {
   "cell_type": "code",
   "execution_count": 44,
   "metadata": {},
   "outputs": [
    {
     "name": "stdout",
     "output_type": "stream",
     "text": [
      "the chair is placed in the center of the room\n"
     ]
    }
   ],
   "source": [
    "    #0123456789\n",
    "s = \"the table is placed in the center of the room\"\n",
    "s = s[0:4] + \"chair\" + s[9:]\n",
    "print(s)"
   ]
  },
  {
   "cell_type": "markdown",
   "metadata": {},
   "source": [
    "When Python finds the line\n",
    "\n",
    "```python\n",
    "s = s[0:4] + \"chair\" + s[9:]\n",
    "```\n",
    "\n",
    "FIRST it calculates the result on the right of the `=`, and THEN associates the result to the variable on the left. In the expression on the right only NEW strings are generated, which once built can be assigned to variable `s`"
   ]
  },
  {
   "cell_type": "markdown",
   "metadata": {},
   "source": [
    "### Exercise - the run\n",
    "\n",
    "Write some code such that when given the string `s` \n",
    "\n",
    "```python\n",
    "s = 'The Gold Rush has begun.'\n",
    "```\n",
    "\n",
    "and some variables\n",
    "\n",
    "```python\n",
    "what = 'Atom'\n",
    "happened = 'is over'\n",
    "```\n",
    "\n",
    "substitues the substring  `'Gold'` with the string in the variable `what` and substitues the substring `'has begun'` with the string in the variable `happened`.\n",
    "\n",
    "After exectuing your code, the string associated to `s` should be\n",
    "\n",
    "```\n",
    ">>> print(s)\n",
    "\"The Atom Rush is over.\"\n",
    "```\n",
    "\n",
    "* **DON'T** use constant characters in your code, i.e. dots `'.'` aren't allowed !"
   ]
  },
  {
   "cell_type": "raw",
   "id": "0c79c21e",
   "metadata": {
    "format": "text/html"
   },
   "source": [
    "<a  class=\"jupman-sol jupman-sol-toggler\" \n",
    " onclick=\"jupman.toggleSolution(this);\" \n",
    " data-jupman-show=\"Show solution\" data-jupman-hide=\"Hide\">Show solution</a><div class=\"jupman-sol jupman-sol-code\" style=\"display:none\">  "
   ]
  },
  {
   "cell_type": "code",
   "execution_count": 45,
   "metadata": {},
   "outputs": [
    {
     "name": "stdout",
     "output_type": "stream",
     "text": [
      "The Atom Rush is over.\n"
     ]
    }
   ],
   "source": [
    "    #01234567890123456789012345678\n",
    "s = 'The Gold Rush has begun.'\n",
    "what = 'Atom'\n",
    "happened = 'is over'\n",
    "\n",
    "# write here\n",
    "\n",
    "s = s[0:4] + what + s[8:14] + happened + s[23:]\n",
    "print(s)"
   ]
  },
  {
   "cell_type": "raw",
   "id": "fb83f562",
   "metadata": {
    "format": "text/html"
   },
   "source": [
    "</div>"
   ]
  },
  {
   "cell_type": "code",
   "execution_count": 45,
   "metadata": {},
   "outputs": [
    {
     "name": "stdout",
     "output_type": "stream",
     "text": [
      "The Atom Rush is over.\n"
     ]
    }
   ],
   "source": [
    "    #01234567890123456789012345678\n",
    "s = 'The Gold Rush has begun.'\n",
    "what = 'Atom'\n",
    "happened = 'is over'\n",
    "\n",
    "# write here\n",
    "\n"
   ]
  },
  {
   "cell_type": "markdown",
   "metadata": {},
   "source": [
    "## `in` operator\n",
    "\n",
    "To check if a string is contained in another one, we use the the `in` operator.\n",
    "\n",
    "Note the result of this expression is a boolean:"
   ]
  },
  {
   "cell_type": "code",
   "execution_count": 46,
   "metadata": {},
   "outputs": [
    {
     "data": {
      "text/plain": [
       "True"
      ]
     },
     "execution_count": 46,
     "metadata": {},
     "output_type": "execute_result"
    }
   ],
   "source": [
    "'the' in 'Singing in the rain'"
   ]
  },
  {
   "cell_type": "code",
   "execution_count": 47,
   "metadata": {},
   "outputs": [
    {
     "data": {
      "text/plain": [
       "False"
      ]
     },
     "execution_count": 47,
     "metadata": {},
     "output_type": "execute_result"
    }
   ],
   "source": [
    "'si' in 'Singing in the rain'  # in operator is case-sensitive"
   ]
  },
  {
   "cell_type": "code",
   "execution_count": 48,
   "metadata": {},
   "outputs": [
    {
     "data": {
      "text/plain": [
       "True"
      ]
     },
     "execution_count": 48,
     "metadata": {},
     "output_type": "execute_result"
    }
   ],
   "source": [
    "'Si' in 'Singing in the rain'  "
   ]
  },
  {
   "cell_type": "markdown",
   "metadata": {},
   "source": [
    "### Exercise - contained 1\n",
    "\n",
    "You are given two strings `x` and `y`, and a third `z`. Write some code which prints `True` if `x` and `y` are both contained in `z`.\n",
    "\n",
    "Example 1 - given:\n",
    "\n",
    "```python\n",
    "x = 'cad'\n",
    "y = 'ra'\n",
    "z = 'abracadabra'\n",
    "```\n",
    "it should print:\n",
    "\n",
    "```bash\n",
    "True\n",
    "```\n",
    "\n",
    "Example 2 - given:\n",
    "\n",
    "```python\n",
    "x = 'zam'\n",
    "y = 'ra'\n",
    "z = 'abracadabra'\n",
    "```\n",
    "it should print:\n",
    "\n",
    "```bash\n",
    "False\n",
    "```"
   ]
  },
  {
   "cell_type": "raw",
   "id": "02346376",
   "metadata": {
    "format": "text/html"
   },
   "source": [
    "<a  class=\"jupman-sol jupman-sol-toggler\" \n",
    " onclick=\"jupman.toggleSolution(this);\" \n",
    " data-jupman-show=\"Show solution\" data-jupman-hide=\"Hide\">Show solution</a><div class=\"jupman-sol jupman-sol-code\" style=\"display:none\">  "
   ]
  },
  {
   "cell_type": "code",
   "execution_count": 49,
   "metadata": {},
   "outputs": [
    {
     "name": "stdout",
     "output_type": "stream",
     "text": [
      "True\n"
     ]
    }
   ],
   "source": [
    "x,y,z = 'cad','ra','abracadabra'   # True\n",
    "#x,y,z = 'zam','ra','abracadabra'  # False\n",
    "\n",
    "# write here\n",
    "\n",
    "print((x in z) and (y in z))"
   ]
  },
  {
   "cell_type": "raw",
   "id": "6df56bcc",
   "metadata": {
    "format": "text/html"
   },
   "source": [
    "</div>"
   ]
  },
  {
   "cell_type": "code",
   "execution_count": 49,
   "metadata": {},
   "outputs": [
    {
     "name": "stdout",
     "output_type": "stream",
     "text": [
      "True\n"
     ]
    }
   ],
   "source": [
    "x,y,z = 'cad','ra','abracadabra'   # True\n",
    "#x,y,z = 'zam','ra','abracadabra'  # False\n",
    "\n",
    "# write here\n",
    "\n"
   ]
  },
  {
   "cell_type": "markdown",
   "metadata": {},
   "source": [
    "### Exercise - contained 2\n",
    "\n",
    "Given three strings `x`, `y`, `z`, write some code which prints `True` if the string `x` is contained in at least one of the strings `y` or `z`, otherwise prints `False`\n",
    "\n",
    "* your code should work with any set of strings\n",
    "\n",
    "Example 1 - given:\n",
    "\n",
    "```python\n",
    "x = \"ope\"\n",
    "y = \"honesty makes for long friendships\"\n",
    "z = \"I hope it's clear enough\"\n",
    "```\n",
    "\n",
    "it should print:\n",
    "\n",
    "`True`\n",
    "\n",
    "Example 2 - given:\n",
    "\n",
    "\n",
    "```python\n",
    "x = \"nope\"\n",
    "y = \"honesty makes for long friendships\"\n",
    "z = \"I hope it's clear enough\"\n",
    "```\n",
    "\n",
    "it should print:\n",
    "\n",
    "`False`\n",
    "\n",
    "Example 3 - given:\n",
    "\n",
    "\n",
    "```python\n",
    "x = \"cle\"\n",
    "y = \"honesty makes for long friendships\"\n",
    "z = \"I hope it's clear enough\"\n",
    "```\n",
    "\n",
    "it should show:\n",
    "\n",
    "`True`"
   ]
  },
  {
   "cell_type": "raw",
   "id": "8cb19f87",
   "metadata": {
    "format": "text/html"
   },
   "source": [
    "<a  class=\"jupman-sol jupman-sol-toggler\" \n",
    " onclick=\"jupman.toggleSolution(this);\" \n",
    " data-jupman-show=\"Show solution\" data-jupman-hide=\"Hide\">Show solution</a><div class=\"jupman-sol jupman-sol-code\" style=\"display:none\">  "
   ]
  },
  {
   "cell_type": "code",
   "execution_count": 50,
   "metadata": {},
   "outputs": [
    {
     "name": "stdout",
     "output_type": "stream",
     "text": [
      "True\n"
     ]
    }
   ],
   "source": [
    "x,y,z = \"ope\",\"honesty makes for long friendships\",\"I hope it's clear enough\"   # True\n",
    "#x,y,z = \"nope\",\"honesty makes for long friendships\",\"I hope it's clear enough\"  # False\n",
    "#x,y,z = \"cle\",\"honesty makes for long friendships\",\"I hope it's clear enough\"  # True\n",
    "\n",
    "# write here\n",
    "\n",
    "print((x in y) or (x  in z))"
   ]
  },
  {
   "cell_type": "raw",
   "id": "abf0128e",
   "metadata": {
    "format": "text/html"
   },
   "source": [
    "</div>"
   ]
  },
  {
   "cell_type": "code",
   "execution_count": 50,
   "metadata": {},
   "outputs": [
    {
     "name": "stdout",
     "output_type": "stream",
     "text": [
      "True\n"
     ]
    }
   ],
   "source": [
    "x,y,z = \"ope\",\"honesty makes for long friendships\",\"I hope it's clear enough\"   # True\n",
    "#x,y,z = \"nope\",\"honesty makes for long friendships\",\"I hope it's clear enough\"  # False\n",
    "#x,y,z = \"cle\",\"honesty makes for long friendships\",\"I hope it's clear enough\"  # True\n",
    "\n",
    "# write here\n",
    "\n"
   ]
  },
  {
   "cell_type": "markdown",
   "metadata": {},
   "source": [
    "## Comparisons\n",
    "\n",
    "Python offers us the possibility to perform a _lexicographic comparison_ among strings, like we would when placing names in an address book. Although sorting names is something intuitive we often do, we must be careful about special cases. \n",
    "\n",
    "First, let's determine when two strings are equal."
   ]
  },
  {
   "cell_type": "markdown",
   "metadata": {},
   "source": [
    "### Equality operators\n",
    "\n",
    "To check whether two strings are equal, you can use te operator `==` which as result produces the boolean `True` or `False`\n",
    "\n",
    "<div class=\"alert alert-warning\">\n",
    "\n",
    "**WARNING:** `==` **is written with TWO equal signs !!!**\n",
    "\n",
    "</div>\n"
   ]
  },
  {
   "cell_type": "code",
   "execution_count": 51,
   "metadata": {},
   "outputs": [
    {
     "data": {
      "text/plain": [
       "True"
      ]
     },
     "execution_count": 51,
     "metadata": {},
     "output_type": "execute_result"
    }
   ],
   "source": [
    "\"dog\" == \"dog\""
   ]
  },
  {
   "cell_type": "code",
   "execution_count": 52,
   "metadata": {},
   "outputs": [
    {
     "data": {
      "text/plain": [
       "False"
      ]
     },
     "execution_count": 52,
     "metadata": {},
     "output_type": "execute_result"
    }
   ],
   "source": [
    "\"dog\" == \"wolf\""
   ]
  },
  {
   "cell_type": "markdown",
   "metadata": {},
   "source": [
    "Equality operator is case-sensitive:"
   ]
  },
  {
   "cell_type": "code",
   "execution_count": 53,
   "metadata": {},
   "outputs": [
    {
     "data": {
      "text/plain": [
       "False"
      ]
     },
     "execution_count": 53,
     "metadata": {},
     "output_type": "execute_result"
    }
   ],
   "source": [
    "\"dog\" == \"DOG\""
   ]
  },
  {
   "cell_type": "markdown",
   "metadata": {},
   "source": [
    "To check whether two strings are NOT equal, we can use the operator `!=`, which we can expect to behave exactly as the opposite of `==`:"
   ]
  },
  {
   "cell_type": "code",
   "execution_count": 54,
   "metadata": {},
   "outputs": [
    {
     "data": {
      "text/plain": [
       "False"
      ]
     },
     "execution_count": 54,
     "metadata": {},
     "output_type": "execute_result"
    }
   ],
   "source": [
    "\"dog\" != \"dog\""
   ]
  },
  {
   "cell_type": "code",
   "execution_count": 55,
   "metadata": {},
   "outputs": [
    {
     "data": {
      "text/plain": [
       "True"
      ]
     },
     "execution_count": 55,
     "metadata": {},
     "output_type": "execute_result"
    }
   ],
   "source": [
    "\"dog\" != \"wolf\""
   ]
  },
  {
   "cell_type": "code",
   "execution_count": 56,
   "metadata": {},
   "outputs": [
    {
     "data": {
      "text/plain": [
       "True"
      ]
     },
     "execution_count": 56,
     "metadata": {},
     "output_type": "execute_result"
    }
   ],
   "source": [
    "\"dog\" != \"DOG\""
   ]
  },
  {
   "cell_type": "markdown",
   "metadata": {},
   "source": [
    "As an alternative, we might use the operator `not`:"
   ]
  },
  {
   "cell_type": "code",
   "execution_count": 57,
   "metadata": {},
   "outputs": [
    {
     "data": {
      "text/plain": [
       "False"
      ]
     },
     "execution_count": 57,
     "metadata": {},
     "output_type": "execute_result"
    }
   ],
   "source": [
    "not \"dog\" == \"dog\""
   ]
  },
  {
   "cell_type": "code",
   "execution_count": 58,
   "metadata": {},
   "outputs": [
    {
     "data": {
      "text/plain": [
       "True"
      ]
     },
     "execution_count": 58,
     "metadata": {},
     "output_type": "execute_result"
    }
   ],
   "source": [
    "not \"wolf\" == \"dog\""
   ]
  },
  {
   "cell_type": "code",
   "execution_count": 59,
   "metadata": {},
   "outputs": [
    {
     "data": {
      "text/plain": [
       "True"
      ]
     },
     "execution_count": 59,
     "metadata": {},
     "output_type": "execute_result"
    }
   ],
   "source": [
    "not \"dog\" == \"DOG\""
   ]
  },
  {
   "cell_type": "markdown",
   "metadata": {},
   "source": [
    "**QUESTION**: what does the following code print?\n",
    "    \n",
    "```python\n",
    "x = \"river\" == \"river\" \n",
    "print(x)\n",
    "```"
   ]
  },
  {
   "cell_type": "raw",
   "id": "b5bf008c",
   "metadata": {
    "format": "text/html"
   },
   "source": [
    "<a  class=\"jupman-sol jupman-sol-toggler\" \n",
    " onclick=\"jupman.toggleSolution(this);\" \n",
    " data-jupman-show=\"Show answer\" data-jupman-hide=\"Hide\">Show answer</a><div class=\"jupman-sol jupman-sol-question\" style=\"display:none\">  "
   ]
  },
  {
   "cell_type": "markdown",
   "metadata": {},
   "source": [
    "**ANSWER**: When Python encounters `x = \"river\" == \"river\"` it sees an assignment, and associates the result of the expression `\"river\" == \"river\"` to the variable `x`. So FIRST it calculates the expression `\"river\" == \"river\"` which produces the boolean `True`, and THEN associates the value `True` to the variable `x`. Finally `True` is printed."
   ]
  },
  {
   "cell_type": "raw",
   "id": "09d4915e",
   "metadata": {
    "format": "text/html"
   },
   "source": [
    "</div>"
   ]
  },
  {
   "cell_type": "markdown",
   "metadata": {},
   "source": [
    "**QUESTION**: for each of the following expressions, try to guess whether it produces `True` or `False`\n",
    "\n",
    "1.  ```python\n",
    "    'hat' != 'Hat'\n",
    "    ```\n",
    "1.  ```python    \n",
    "    'hat' == 'HAT'\n",
    "    ```\n",
    "1.  ```python    \n",
    "    'choralism'[2:5] == 'contemporary'[7:10]\n",
    "    ```\n",
    "1.  ```python    \n",
    "    'AlAbAmA'[4:] == 'aLaBaMa'\n",
    "    ```\n",
    "1.  ```python    \n",
    "    'bright'[9:20] == 'dark'[10:15]\n",
    "    ```\n",
    "1.  ```python         \n",
    "    'optical'[-1] == 'crystal'[-1]\n",
    "    ```\n",
    "1.  ```python    \n",
    "    ('hat' != 'jacket') == ('trousers' != 'bow')\n",
    "    ```\n",
    "1.  ```python    \n",
    "    ('stra' in 'stradivarius') == ('div' in 'digital divide')\n",
    "    ```\n",
    "1.  ```python    \n",
    "    len('note') in '5436'\n",
    "    ```\n",
    "1.  ```python    \n",
    "    str(len('note') in '5436'\n",
    "    ```\n",
    "1.  ```python    \n",
    "    len('posters') in '5436'\n",
    "    ```\n",
    "1.  ```python    \n",
    "    str(len('posters')) in '5436'\n",
    "    ```"
   ]
  },
  {
   "cell_type": "markdown",
   "metadata": {},
   "source": [
    "### Exercise - statist\n",
    "\n",
    "Write some code which prints `True` if a `word` begins with the same two characters it ends with.\n",
    "\n",
    "* Your code should work for any `word`"
   ]
  },
  {
   "cell_type": "raw",
   "id": "407379cf",
   "metadata": {
    "format": "text/html"
   },
   "source": [
    "<a  class=\"jupman-sol jupman-sol-toggler\" \n",
    " onclick=\"jupman.toggleSolution(this);\" \n",
    " data-jupman-show=\"Show solution\" data-jupman-hide=\"Hide\">Show solution</a><div class=\"jupman-sol jupman-sol-code\" style=\"display:none\">  "
   ]
  },
  {
   "cell_type": "code",
   "execution_count": 60,
   "metadata": {},
   "outputs": [
    {
     "name": "stdout",
     "output_type": "stream",
     "text": [
      "True\n"
     ]
    }
   ],
   "source": [
    "word = 'statist'   # True\n",
    "#word = 'baobab'   # False\n",
    "#word = 'maxima'   # True\n",
    "#word = 'karma'    # False\n",
    "\n",
    "# write here\n",
    "\n",
    "print(word[:2] == word[-2:len(word)])"
   ]
  },
  {
   "cell_type": "raw",
   "id": "a206f8e9",
   "metadata": {
    "format": "text/html"
   },
   "source": [
    "</div>"
   ]
  },
  {
   "cell_type": "code",
   "execution_count": 60,
   "metadata": {},
   "outputs": [
    {
     "name": "stdout",
     "output_type": "stream",
     "text": [
      "True\n"
     ]
    }
   ],
   "source": [
    "word = 'statist'   # True\n",
    "#word = 'baobab'   # False\n",
    "#word = 'maxima'   # True\n",
    "#word = 'karma'    # False\n",
    "\n",
    "# write here\n",
    "\n"
   ]
  },
  {
   "cell_type": "markdown",
   "metadata": {},
   "source": [
    "### Comparing characters\n",
    "\n",
    "Characters have an inherent order we can exploit. Let's see an example:"
   ]
  },
  {
   "cell_type": "code",
   "execution_count": 61,
   "metadata": {},
   "outputs": [
    {
     "data": {
      "text/plain": [
       "True"
      ]
     },
     "execution_count": 61,
     "metadata": {},
     "output_type": "execute_result"
    }
   ],
   "source": [
    "'a' < 'g'"
   ]
  },
  {
   "cell_type": "markdown",
   "metadata": {},
   "source": [
    "another one:"
   ]
  },
  {
   "cell_type": "code",
   "execution_count": 62,
   "metadata": {},
   "outputs": [
    {
     "data": {
      "text/plain": [
       "True"
      ]
     },
     "execution_count": 62,
     "metadata": {},
     "output_type": "execute_result"
    }
   ],
   "source": [
    "'m' > 'c'"
   ]
  },
  {
   "cell_type": "markdown",
   "metadata": {},
   "source": [
    "They sound reasonable comparisons! But what about this (notice capital `'Z'`)?"
   ]
  },
  {
   "cell_type": "code",
   "execution_count": 63,
   "metadata": {},
   "outputs": [
    {
     "data": {
      "text/plain": [
       "False"
      ]
     },
     "execution_count": 63,
     "metadata": {},
     "output_type": "execute_result"
    }
   ],
   "source": [
    "'a' < 'Z'"
   ]
  },
  {
   "cell_type": "markdown",
   "metadata": {},
   "source": [
    "Maybe this doesn't look so obvious. And what if we get creative and compare with symbols such as square bracket or [Unicode](https://en.softpython.org/strings/strings1-sol.html#Unicode-characters) hearts ??"
   ]
  },
  {
   "cell_type": "code",
   "execution_count": 64,
   "metadata": {},
   "outputs": [
    {
     "data": {
      "text/plain": [
       "False"
      ]
     },
     "execution_count": 64,
     "metadata": {},
     "output_type": "execute_result"
    }
   ],
   "source": [
    "'a' > '♥'"
   ]
  },
  {
   "cell_type": "markdown",
   "metadata": {},
   "source": [
    "To determine how to deal with this special cases, we must remember [ASCII](https://en.softpython.org/strings/strings1-sol.html#ASCII-characters) assignes a position number to each character, defining as a matter of fact _an ordering_ between all its characters. \n",
    "\n",
    "If we want to know the corresponding number of a character, we can use the function `ord`:"
   ]
  },
  {
   "cell_type": "code",
   "execution_count": 65,
   "metadata": {},
   "outputs": [
    {
     "data": {
      "text/plain": [
       "97"
      ]
     },
     "execution_count": 65,
     "metadata": {},
     "output_type": "execute_result"
    }
   ],
   "source": [
    "ord('a')"
   ]
  },
  {
   "cell_type": "code",
   "execution_count": 66,
   "metadata": {},
   "outputs": [
    {
     "data": {
      "text/plain": [
       "98"
      ]
     },
     "execution_count": 66,
     "metadata": {},
     "output_type": "execute_result"
    }
   ],
   "source": [
    "ord('b')"
   ]
  },
  {
   "cell_type": "code",
   "execution_count": 67,
   "metadata": {},
   "outputs": [
    {
     "data": {
      "text/plain": [
       "122"
      ]
     },
     "execution_count": 67,
     "metadata": {},
     "output_type": "execute_result"
    }
   ],
   "source": [
    "ord('z')"
   ]
  },
  {
   "cell_type": "markdown",
   "metadata": {},
   "source": [
    "If we want to go the other way, given a position number we can obtain the corresponding character with `chr` function: "
   ]
  },
  {
   "cell_type": "code",
   "execution_count": 68,
   "metadata": {},
   "outputs": [
    {
     "data": {
      "text/plain": [
       "'a'"
      ]
     },
     "execution_count": 68,
     "metadata": {},
     "output_type": "execute_result"
    }
   ],
   "source": [
    "chr(97)"
   ]
  },
  {
   "cell_type": "markdown",
   "metadata": {},
   "source": [
    "Uppercase characters have different positions: "
   ]
  },
  {
   "cell_type": "code",
   "execution_count": 69,
   "metadata": {},
   "outputs": [
    {
     "data": {
      "text/plain": [
       "65"
      ]
     },
     "execution_count": 69,
     "metadata": {},
     "output_type": "execute_result"
    }
   ],
   "source": [
    "ord('A')"
   ]
  },
  {
   "cell_type": "code",
   "execution_count": 70,
   "metadata": {},
   "outputs": [
    {
     "data": {
      "text/plain": [
       "90"
      ]
     },
     "execution_count": 70,
     "metadata": {},
     "output_type": "execute_result"
    }
   ],
   "source": [
    "ord('Z')"
   ]
  },
  {
   "cell_type": "markdown",
   "metadata": {},
   "source": [
    "**EXERCISE**: Using the functions above, try to find which characters are _between_ capital `Z` and lowercase `a`"
   ]
  },
  {
   "cell_type": "raw",
   "id": "7f77f9bb",
   "metadata": {
    "format": "text/html"
   },
   "source": [
    "<a  class=\"jupman-sol jupman-sol-toggler\" \n",
    " onclick=\"jupman.toggleSolution(this);\" \n",
    " data-jupman-show=\"Show solution\" data-jupman-hide=\"Hide\">Show solution</a><div class=\"jupman-sol jupman-sol-code\" style=\"display:none\">  "
   ]
  },
  {
   "cell_type": "code",
   "execution_count": 71,
   "metadata": {},
   "outputs": [],
   "source": [
    "# write here\n",
    "#print(chr(91),chr(92), chr(93),chr(94), chr(95),chr(96))"
   ]
  },
  {
   "cell_type": "raw",
   "id": "9f047f24",
   "metadata": {
    "format": "text/html"
   },
   "source": [
    "</div>"
   ]
  },
  {
   "cell_type": "code",
   "execution_count": 71,
   "metadata": {},
   "outputs": [],
   "source": [
    "# write here\n",
    "\n"
   ]
  },
  {
   "cell_type": "markdown",
   "metadata": {},
   "source": [
    "The ordering allows us to perform _lexicographic comparisons_ between single characters:"
   ]
  },
  {
   "cell_type": "code",
   "execution_count": 72,
   "metadata": {},
   "outputs": [
    {
     "data": {
      "text/plain": [
       "True"
      ]
     },
     "execution_count": 72,
     "metadata": {},
     "output_type": "execute_result"
    }
   ],
   "source": [
    "'a' < 'b'"
   ]
  },
  {
   "cell_type": "code",
   "execution_count": 73,
   "metadata": {},
   "outputs": [
    {
     "data": {
      "text/plain": [
       "False"
      ]
     },
     "execution_count": 73,
     "metadata": {},
     "output_type": "execute_result"
    }
   ],
   "source": [
    "'g' >= 'm'"
   ]
  },
  {
   "cell_type": "markdown",
   "metadata": {},
   "source": [
    "**EXERCISE**: Write some code that:\n",
    "\n",
    "1. prints the `ord` values of `'A'`, `'Z'` and a given `char` \n",
    "2. prints `True` if `char` is uppercase, and `False` otherwise\n",
    "\n",
    "\n",
    "* Would your code also work with accented capitalized characters such as `'Á'`? \n",
    "* **NOTE**: the possibile character sets are way too many, so the proper solution would be to use the method [isupper](https://en.softpython.org/strings/strings3-sol.html#isupper-and-islower-methods) we will see in the next tutorial."
   ]
  },
  {
   "cell_type": "raw",
   "id": "b55674de",
   "metadata": {
    "format": "text/html"
   },
   "source": [
    "<a  class=\"jupman-sol jupman-sol-toggler\" \n",
    " onclick=\"jupman.toggleSolution(this);\" \n",
    " data-jupman-show=\"Show solution\" data-jupman-hide=\"Hide\">Show solution</a><div class=\"jupman-sol jupman-sol-code\" style=\"display:none\">  "
   ]
  },
  {
   "cell_type": "code",
   "execution_count": 74,
   "metadata": {},
   "outputs": [
    {
     "name": "stdout",
     "output_type": "stream",
     "text": [
      "A: 65  Z: 90\n",
      "G: 71\n"
     ]
    },
    {
     "data": {
      "text/plain": [
       "True"
      ]
     },
     "execution_count": 74,
     "metadata": {},
     "output_type": "execute_result"
    }
   ],
   "source": [
    "char = 'G'   # True\n",
    "#char = 'g'  # False\n",
    "\n",
    "#char = 'Á'  # True ?? Note the accent!\n",
    "# write here\n",
    "print('A:', ord('A'), ' Z:', ord('Z'))\n",
    "print(char + ':', ord(char))\n",
    "ord(char) >= ord('A') and ord(char) <= ord('Z')  #  only checks simple English alphabet cases"
   ]
  },
  {
   "cell_type": "raw",
   "id": "ce64ffb0",
   "metadata": {
    "format": "text/html"
   },
   "source": [
    "</div>"
   ]
  },
  {
   "cell_type": "code",
   "execution_count": 74,
   "metadata": {},
   "outputs": [
    {
     "name": "stdout",
     "output_type": "stream",
     "text": [
      "A: 65  Z: 90\n",
      "G: 71\n"
     ]
    },
    {
     "data": {
      "text/plain": [
       "True"
      ]
     },
     "execution_count": 74,
     "metadata": {},
     "output_type": "execute_result"
    }
   ],
   "source": [
    "char = 'G'   # True\n",
    "#char = 'g'  # False\n",
    "\n",
    "#char = 'Á'  # True ?? Note the accent!\n",
    "# write here\n",
    "\n"
   ]
  },
  {
   "cell_type": "markdown",
   "metadata": {},
   "source": [
    "Also, since Unicode character set _includes_ ASCII, the ordering of ASCII characters can be used to safely compare them against unicode characters, so comparing characters or their `ord` should be always equivalent:"
   ]
  },
  {
   "cell_type": "code",
   "execution_count": 75,
   "metadata": {},
   "outputs": [
    {
     "data": {
      "text/plain": [
       "97"
      ]
     },
     "execution_count": 75,
     "metadata": {},
     "output_type": "execute_result"
    }
   ],
   "source": [
    "ord('a')   # ascii"
   ]
  },
  {
   "cell_type": "code",
   "execution_count": 76,
   "metadata": {},
   "outputs": [
    {
     "data": {
      "text/plain": [
       "9829"
      ]
     },
     "execution_count": 76,
     "metadata": {},
     "output_type": "execute_result"
    }
   ],
   "source": [
    "ord('♥')   # unicode"
   ]
  },
  {
   "cell_type": "code",
   "execution_count": 77,
   "metadata": {},
   "outputs": [
    {
     "data": {
      "text/plain": [
       "False"
      ]
     },
     "execution_count": 77,
     "metadata": {},
     "output_type": "execute_result"
    }
   ],
   "source": [
    "'a' > '♥'"
   ]
  },
  {
   "cell_type": "code",
   "execution_count": 78,
   "metadata": {},
   "outputs": [
    {
     "data": {
      "text/plain": [
       "False"
      ]
     },
     "execution_count": 78,
     "metadata": {},
     "output_type": "execute_result"
    }
   ],
   "source": [
    "ord('a') > ord('♥')"
   ]
  },
  {
   "cell_type": "markdown",
   "metadata": {},
   "source": [
    "Python also offers lexicographic comparisons on strings with more than one character. To understand what the expected result should be, we must distinguish among several cases, though:\n",
    "\n",
    "* strings of equal / different length\n",
    "* strings with same / mixed case"
   ]
  },
  {
   "cell_type": "markdown",
   "metadata": {},
   "source": [
    "Let's begin with same length strings:"
   ]
  },
  {
   "cell_type": "code",
   "execution_count": 79,
   "metadata": {},
   "outputs": [
    {
     "data": {
      "text/plain": [
       "True"
      ]
     },
     "execution_count": 79,
     "metadata": {},
     "output_type": "execute_result"
    }
   ],
   "source": [
    "'mario' > 'luigi'"
   ]
  },
  {
   "cell_type": "code",
   "execution_count": 80,
   "metadata": {},
   "outputs": [
    {
     "data": {
      "text/plain": [
       "False"
      ]
     },
     "execution_count": 80,
     "metadata": {},
     "output_type": "execute_result"
    }
   ],
   "source": [
    "'mario' > 'wario'"
   ]
  },
  {
   "cell_type": "code",
   "execution_count": 81,
   "metadata": {},
   "outputs": [
    {
     "data": {
      "text/plain": [
       "False"
      ]
     },
     "execution_count": 81,
     "metadata": {},
     "output_type": "execute_result"
    }
   ],
   "source": [
    "'Mario' > 'Wario'"
   ]
  },
  {
   "cell_type": "code",
   "execution_count": 82,
   "metadata": {},
   "outputs": [
    {
     "data": {
      "text/plain": [
       "True"
      ]
     },
     "execution_count": 82,
     "metadata": {},
     "output_type": "execute_result"
    }
   ],
   "source": [
    "'Wario' < 'mario'    # capital case is *before* lowercase in ASCII"
   ]
  },
  {
   "cell_type": "markdown",
   "metadata": {},
   "source": [
    "### Comparing different lengths\n",
    "\n",
    "Short strings which are included in longer ones come first in the ordering:"
   ]
  },
  {
   "cell_type": "code",
   "execution_count": 83,
   "metadata": {},
   "outputs": [
    {
     "data": {
      "text/plain": [
       "True"
      ]
     },
     "execution_count": 83,
     "metadata": {},
     "output_type": "execute_result"
    }
   ],
   "source": [
    "'troll' < 'trolley'"
   ]
  },
  {
   "cell_type": "markdown",
   "metadata": {},
   "source": [
    "If they only share a prefix with a longer string, Python compares characters after the common prefix, in this case it detects that `e` precedes the corresponding `s`:"
   ]
  },
  {
   "cell_type": "code",
   "execution_count": 84,
   "metadata": {},
   "outputs": [
    {
     "data": {
      "text/plain": [
       "True"
      ]
     },
     "execution_count": 84,
     "metadata": {},
     "output_type": "execute_result"
    }
   ],
   "source": [
    "'trolley' < 'trolls' "
   ]
  },
  {
   "cell_type": "markdown",
   "metadata": {},
   "source": [
    "### Exercise - Character intervals\n",
    "\n",
    "You are given a couple of strings `i1` and `i2` of two characters each.\n",
    "\n",
    "We suppose they represent character intervals: the first character of an interval always has order number lower or equal than the second. \n",
    "\n",
    "There are five possibilities: either the first interval 'is contained in', or 'contains', or 'overlaps', or 'is before' or 'is after' the second interval. Write some code which tells which containment relation we have.\n",
    "\n",
    "Example 1 - given:\n",
    "\n",
    "```python\n",
    "i1 = 'gm'\n",
    "i2 = 'cp'\n",
    "```\n",
    "Your program should print:\n",
    "\n",
    "```\n",
    "gm is contained in cp\n",
    "```\n",
    "\n",
    "To see why, you can look at this little representation (you **don't** need to print this!):\n",
    "\n",
    "```\n",
    "  c   g     m  p\n",
    "abcdefghijklmnopqrstuvwxyz\n",
    "```\n",
    "\n",
    "Example 2 - given:\n",
    "\n",
    "```python\n",
    "i1 = 'mr'\n",
    "i2 = 'pt'\n",
    "```\n",
    "Your program should print:\n",
    "\n",
    "```\n",
    "mr overlaps pt\n",
    "```\n",
    "\n",
    "because `mr` is not contained nor contains nor completely precedes nor completely  follows `pt` (you **don't** need to print this!):\n",
    "\n",
    "```\n",
    "            m  p r t\n",
    "abcdefghijklmnopqrstuvwxyz\n",
    "```\n",
    "\n",
    "* if `i1` interval coincides with `i2`, it is consideraded as containing `i2`\n",
    "* **DO NOT** use cycles nor `if` \n",
    "* **HINT**: to satisfy above constraint, think about [booleans evaluation order](https://en.softpython.org/basics/basics-sol.html#Booleans---Evaluation-order), for example  the expression\n",
    "\n",
    "```python\n",
    "'g' >= 'c' and 'm' <= 'p' and 'is contained in'\n",
    "```\n",
    "\n",
    "produces as result the string `'is contained in'`\n"
   ]
  },
  {
   "cell_type": "raw",
   "id": "89297bfd",
   "metadata": {
    "format": "text/html"
   },
   "source": [
    "<a  class=\"jupman-sol jupman-sol-toggler\" \n",
    " onclick=\"jupman.toggleSolution(this);\" \n",
    " data-jupman-show=\"Show solution\" data-jupman-hide=\"Hide\">Show solution</a><div class=\"jupman-sol jupman-sol-code\" style=\"display:none\">  "
   ]
  },
  {
   "cell_type": "code",
   "execution_count": 85,
   "metadata": {},
   "outputs": [],
   "source": [
    "i1,i2 = 'gm','cp'   # gm is contained in cp\n",
    "#i1,i2 = 'dh','dh'  # gm is contained in cp  #(special case)\n",
    "#i1,i2 = 'bw','dq'  # bw contains dq\n",
    "#i1,i2 = 'ac','bd'  # ac overlaps bd\n",
    "#i1,i2 = 'mr','pt'  # mr overlaps pt\n",
    "#i1,i2 = 'fm','su'  # fm is before su\n",
    "#i1,i2 = 'xz','pq'  # xz is after pq\n",
    "\n",
    "\n",
    "# write here\n",
    "res = (i1[0] >= i2[0] and i1[1] <= i2[1] and 'is contained in')  \\\n",
    "      or (i1[0] < i2[0] and i1[1] >i2[1] and 'contains')         \\\n",
    "      or (i1[0] >= i2[0] and i1[0] <= i2[1] and 'overlaps')      \\\n",
    "      or (i1[1] >= i2[0] and i1[1] <= i2[1] and 'overlaps')      \\\n",
    "      or (i1[1] < i2[0] and 'is before')                         \\\n",
    "      or (i1[0] > i2[1] and 'is after')\n",
    "      \n",
    "#print(i1, res, i2)"
   ]
  },
  {
   "cell_type": "raw",
   "id": "ac5fb4b7",
   "metadata": {
    "format": "text/html"
   },
   "source": [
    "</div>"
   ]
  },
  {
   "cell_type": "code",
   "execution_count": 85,
   "metadata": {},
   "outputs": [],
   "source": [
    "i1,i2 = 'gm','cp'   # gm is contained in cp\n",
    "#i1,i2 = 'dh','dh'  # gm is contained in cp  #(special case)\n",
    "#i1,i2 = 'bw','dq'  # bw contains dq\n",
    "#i1,i2 = 'ac','bd'  # ac overlaps bd\n",
    "#i1,i2 = 'mr','pt'  # mr overlaps pt\n",
    "#i1,i2 = 'fm','su'  # fm is before su\n",
    "#i1,i2 = 'xz','pq'  # xz is after pq\n",
    "\n",
    "\n",
    "# write here\n",
    "\n"
   ]
  },
  {
   "cell_type": "markdown",
   "metadata": {},
   "source": [
    "## Replication operator\n",
    "\n",
    "With the operator `*` you can replicate a string n times, for example:"
   ]
  },
  {
   "cell_type": "code",
   "execution_count": 86,
   "metadata": {},
   "outputs": [
    {
     "data": {
      "text/plain": [
       "'beerbeerbeerbeer'"
      ]
     },
     "execution_count": 86,
     "metadata": {},
     "output_type": "execute_result"
    }
   ],
   "source": [
    "'beer' * 4"
   ]
  },
  {
   "cell_type": "markdown",
   "metadata": {},
   "source": [
    "Note a NEW string is created, without tarnishing the original:"
   ]
  },
  {
   "cell_type": "code",
   "execution_count": 87,
   "metadata": {},
   "outputs": [],
   "source": [
    "drink = \"beer\""
   ]
  },
  {
   "cell_type": "code",
   "execution_count": 88,
   "metadata": {},
   "outputs": [
    {
     "name": "stdout",
     "output_type": "stream",
     "text": [
      "beerbeerbeerbeer\n"
     ]
    }
   ],
   "source": [
    "print(drink * 4)"
   ]
  },
  {
   "cell_type": "code",
   "execution_count": 89,
   "metadata": {},
   "outputs": [
    {
     "data": {
      "text/plain": [
       "'beer'"
      ]
     },
     "execution_count": 89,
     "metadata": {},
     "output_type": "execute_result"
    }
   ],
   "source": [
    "drink"
   ]
  },
  {
   "cell_type": "markdown",
   "metadata": {},
   "source": [
    "### Exercise - za za za\n",
    "\n",
    "Given a `syllable` and a `phrase` which terminates with a character `n` as a digit, write some code which prints a string with the `syllable` repeated `n` times, separated by spaces.\n",
    "\n",
    "* Your code must work with any string assigned to `syllable` and `phrase`\n",
    "\n",
    "Example - given:\n",
    "\n",
    "```python\n",
    "phrase = 'the number 7'\n",
    "syllable = 'za'\n",
    "```\n",
    "\n",
    "after you code, ti should print:\n",
    "\n",
    "```\n",
    "za za za za za za za\n",
    "```"
   ]
  },
  {
   "cell_type": "raw",
   "id": "a4588797",
   "metadata": {
    "format": "text/html"
   },
   "source": [
    "<a  class=\"jupman-sol jupman-sol-toggler\" \n",
    " onclick=\"jupman.toggleSolution(this);\" \n",
    " data-jupman-show=\"Show solution\" data-jupman-hide=\"Hide\">Show solution</a><div class=\"jupman-sol jupman-sol-code\" style=\"display:none\">  "
   ]
  },
  {
   "cell_type": "code",
   "execution_count": 90,
   "metadata": {},
   "outputs": [
    {
     "name": "stdout",
     "output_type": "stream",
     "text": [
      "za za za za za za za \n"
     ]
    }
   ],
   "source": [
    "\n",
    "phrase = 'the number 7'\n",
    "syllable = 'za'         # za za za za za za za\n",
    "#phrase = 'Give me 5'   # za za za za za\n",
    "\n",
    "\n",
    "# write here\n",
    "\n",
    "print((syllable +' ') * (int(phrase[-1])))"
   ]
  },
  {
   "cell_type": "raw",
   "id": "353fd052",
   "metadata": {
    "format": "text/html"
   },
   "source": [
    "</div>"
   ]
  },
  {
   "cell_type": "code",
   "execution_count": 90,
   "metadata": {},
   "outputs": [
    {
     "name": "stdout",
     "output_type": "stream",
     "text": [
      "za za za za za za za \n"
     ]
    }
   ],
   "source": [
    "\n",
    "phrase = 'the number 7'\n",
    "syllable = 'za'         # za za za za za za za\n",
    "#phrase = 'Give me 5'   # za za za za za\n",
    "\n",
    "\n",
    "# write here\n",
    "\n"
   ]
  },
  {
   "cell_type": "markdown",
   "metadata": {},
   "source": [
    "## Continue\n",
    "\n",
    "Go on reading notebook [Strings 3 - methods](https://en.softpython.org/strings/strings3-sol.html)"
   ]
  },
  {
   "cell_type": "code",
   "execution_count": null,
   "metadata": {},
   "outputs": [],
   "source": []
  }
 ],
 "metadata": {
  "celltoolbar": "Edit Metadata",
  "kernelspec": {
   "display_name": "Python 3",
   "language": "python",
   "name": "python3"
  },
  "language_info": {
   "codemirror_mode": {
    "name": "ipython",
    "version": 3
   },
   "file_extension": ".py",
   "mimetype": "text/x-python",
   "name": "python",
   "nbconvert_exporter": "python",
   "pygments_lexer": "ipython3",
   "version": "3.7.10"
  },
  "toc": {
   "base_numbering": 1,
   "nav_menu": {},
   "number_sections": false,
   "sideBar": true,
   "skip_h1_title": false,
   "title_cell": "Table of Contents",
   "title_sidebar": "Contents",
   "toc_cell": false,
   "toc_position": {},
   "toc_section_display": true,
   "toc_window_display": true
  }
 },
 "nbformat": 4,
 "nbformat_minor": 2
}
