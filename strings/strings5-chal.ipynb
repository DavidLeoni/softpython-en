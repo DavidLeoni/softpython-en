{
 "cells": [
  {
   "cell_type": "markdown",
   "id": "worst-going",
   "metadata": {},
   "source": [
    "# Strings 5 - First challenges\n",
    "\n",
    "## [Download exercises zip](../_static/generated/strings.zip)\n",
    "\n",
    "[Browse file online](https://github.com/DavidLeoni/softpython-en/strings)"
   ]
  },
  {
   "cell_type": "markdown",
   "id": "impossible-cambodia",
   "metadata": {},
   "source": [
    "We now propose some exercises without solution, do you accept the challenge?"
   ]
  },
  {
   "cell_type": "markdown",
   "id": "fe9769cc",
   "metadata": {},
   "source": [
    "## Challenge - a strange zoo\n",
    "\n",
    "✪ You are given a `phrase` and  you know there are are a couple strange `char` at the boundaries of the phrase. Write some code to fix the `phrase` so it doesn't has the extremities delimited by the first occurrences of `char`.\n",
    "\n",
    "- **DO NOT** use loops\n",
    "\n",
    "For example - given:\n",
    "\n",
    "```python\n",
    "phrase = \"There is za strange zoo nearby, with many animalsz you wouldn't believe.\"\n",
    "```\n",
    "\n",
    "after your code, it must result:\n",
    "\n",
    "```python\n",
    ">>> phrase\n",
    "'a strange zoo nearby, with many animals'\n",
    "```"
   ]
  },
  {
   "cell_type": "code",
   "execution_count": 1,
   "id": "1fc04de6-stripped",
   "metadata": {},
   "outputs": [],
   "source": [
    "\n",
    "phrase = \"There is za strange zoo nearby, with many animalsz you wouldn't believe.\"  # 'a strange zoo nearby, with many animals'\n",
    "#phrase = \"zthere is a zorg in the zooz outside the neighborhood\"   # 'there is a zorg in the zoo'\n",
    "\n",
    "\n",
    "# write here\n",
    "\n"
   ]
  },
  {
   "cell_type": "markdown",
   "id": "bf91f218",
   "metadata": {},
   "source": [
    "## Challenge - nuclear fusion\n",
    "\n",
    "✪ Given a `phrase` of words separated by spaces and a `word`, write some code to produce a string where that word is substitued with `sub`\n",
    "\n",
    "- `phrase` never begins with the word to substitute\n",
    "- **DO NOT** use loops"
   ]
  },
  {
   "cell_type": "code",
   "execution_count": 2,
   "id": "a959ff0b-stripped",
   "metadata": {},
   "outputs": [],
   "source": [
    "\n",
    "\n",
    "phrase = \"it's clear nuclear fusion is the future - clearly, there is a lot of interest around it\"\n",
    "\n",
    "word, sub = \"clear\", \"unclear\"  # \"it's unclear nuclear fusion is the future - unclearly, there is a lot of interest around it\"\n",
    "\n",
    "#word, sub = \"is\", \"can be\"     # \"it's clear nuclear fusion can be the future - clearly, there can be a lot of interest around it\"\n",
    "\n",
    "# write here\n",
    "\n"
   ]
  },
  {
   "cell_type": "markdown",
   "id": "96267223",
   "metadata": {},
   "source": [
    "## Challenge - gold\n",
    "\n",
    "✪✪ You are given a string `s` which begins with a sequence of the same repeated chacter, then it has a treasure, and then continues with another sequence of another repeated character. Both initial and ending sequences have **unknown length**.\n",
    "\n",
    "* assume the string has **at least three** characters\n",
    "* assume the characters of starting sequence are **always different** from end sequence\n",
    "\n",
    "\n",
    "* **DO NOT** use loops\n",
    "* **DO NOT** write constant characters in your code (so no `€`, `$`, ..)"
   ]
  },
  {
   "cell_type": "code",
   "execution_count": 3,
   "id": "b8cee44c-stripped",
   "metadata": {},
   "outputs": [],
   "source": [
    "\n",
    "s = \"************gold----\"  # gold\n",
    "#s = \"///////gems!!!!!!!!\"  # gems\n",
    "#s = \"-------€_______\"      # €\n",
    "#s = \"p$q\"                  # $\n",
    "\n",
    "\n",
    "# write here\n",
    "\n"
   ]
  },
  {
   "cell_type": "code",
   "execution_count": 4,
   "id": "2bc39b36-stripped",
   "metadata": {
    "nbsphinx": "hidden"
   },
   "outputs": [],
   "source": []
  },
  {
   "cell_type": "code",
   "execution_count": null,
   "id": "ca9a8248",
   "metadata": {},
   "outputs": [],
   "source": []
  }
 ],
 "metadata": {
  "kernelspec": {
   "display_name": "Python 3 (ipykernel)",
   "language": "python",
   "name": "python3"
  },
  "language_info": {
   "codemirror_mode": {
    "name": "ipython",
    "version": 3
   },
   "file_extension": ".py",
   "mimetype": "text/x-python",
   "name": "python",
   "nbconvert_exporter": "python",
   "pygments_lexer": "ipython3",
   "version": "3.7.10"
  },
  "toc": {
   "base_numbering": 1,
   "nav_menu": {},
   "number_sections": false,
   "sideBar": true,
   "skip_h1_title": false,
   "title_cell": "Table of Contents",
   "title_sidebar": "Contents",
   "toc_cell": false,
   "toc_position": {},
   "toc_section_display": true,
   "toc_window_display": false
  }
 },
 "nbformat": 4,
 "nbformat_minor": 5
}
