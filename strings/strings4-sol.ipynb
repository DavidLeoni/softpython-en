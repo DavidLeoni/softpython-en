{
 "cells": [
  {
   "cell_type": "code",
   "execution_count": 1,
   "id": "5bdce33a",
   "metadata": {
    "nbsphinx": "hidden"
   },
   "outputs": [],
   "source": [
    "# Remember to execute this cell with Shift+Enter\n",
    "\n",
    "import jupman"
   ]
  },
  {
   "cell_type": "markdown",
   "id": "5e167847",
   "metadata": {},
   "source": [
    "# Strings 4 - search methods\n",
    "\n",
    "## [Download exercises zip](../_static/generated/strings.zip)\n",
    "\n",
    "[Browse files online](https://github.com/DavidLeoni/softpython-en/tree/master/strings)\n",
    "\n",
    "Strings provide methods to search and trasform them into new strings, but beware: the power is nothing without control! Sometimes you will feel the need to use them, and they might even work with some small example, but often they hide traps you will regret falling into. So whenever you write code with one of these methods, **always ask yourself the questions we will stress**."
   ]
  },
  {
   "cell_type": "markdown",
   "id": "737e9995",
   "metadata": {},
   "source": [
    "\n",
    "<div class=\"alert alert-warning\">\n",
    "\n",
    "**WARNING: ALL string methods ALWAYS generate a NEW string**    \n",
    "\n",
    "The original string object is NEVER changed (strings are immutable).\n",
    "</div>\n"
   ]
  },
  {
   "cell_type": "markdown",
   "id": "457e8ec4",
   "metadata": {},
   "source": [
    "|Result|Method|Meaning|\n",
    "|---------|------|-----------|\n",
    "|str|[str.strip(str)](#strip-method)|Remove strings from the sides|\n",
    "|str|[str.lstrip(str)](#lstrip-method)|Remove strings from left side|\n",
    "|str|[str.rstrip(str)](#rstrip-method)|Remove strings from right side|\n",
    "|int|[str.count(str)](#count-method)|Count the number of occurrences of a substring|\n",
    "|int|[str.find(str)](#find-method)|Return the first position of a substring starting from the left|\n",
    "|int|[str.rfind(str)](#rfind-method)|Return the first position of a substring starting from the right|\n",
    "|str|[str.replace(str, str)](#replace-method)|Substitute substrings|"
   ]
  },
  {
   "cell_type": "markdown",
   "id": "113a4c79",
   "metadata": {},
   "source": [
    "Note: the list is not exhaustive, here we report only the ones we use in the book. For the full list [see Python documentation](https://docs.python.org/3/library/stdtypes.html#string-methods)"
   ]
  },
  {
   "cell_type": "markdown",
   "id": "8b6c7298",
   "metadata": {},
   "source": [
    "## What to do\n",
    "\n",
    "1. Unzip [exercises zip](../_static/generated/strings.zip) in a folder, you should obtain something like this:\n",
    "\n",
    "```\n",
    "strings\n",
    "    strings1.ipynb    \n",
    "    strings1-sol.ipynb         \n",
    "    strings2.ipynb\n",
    "    strings2-sol.ipynb\n",
    "    strings3.ipynb\n",
    "    strings3-sol.ipynb    \n",
    "    strings4.ipynb\n",
    "    strings4-sol.ipynb    \n",
    "    strings5-chal.ipynb\n",
    "    jupman.py         \n",
    "```\n",
    "\n",
    "<div class=\"alert alert-warning\">\n",
    "\n",
    "**WARNING: to correctly visualize the notebook, it MUST be in an unzipped folder !**\n",
    "</div>"
   ]
  },
  {
   "cell_type": "markdown",
   "id": "63b32a4b",
   "metadata": {},
   "source": [
    "2. open Jupyter Notebook from that folder. Two things should open, first a console and then browser. The browser should show a file list: navigate the list and open the notebook `strings3.ipynb`\n",
    "\n",
    "3. Go on reading the exercises file, sometimes you will find paragraphs marked **Exercises** which will ask to write Python commands in the following cells. "
   ]
  },
  {
   "cell_type": "markdown",
   "id": "706f9972",
   "metadata": {},
   "source": [
    "Shortcut keys:\n",
    "\n",
    "- to execute Python code inside a Jupyter cell, press `Control + Enter`\n",
    "\n",
    "- to execute Python code inside a Jupyter cell AND select next cell, press `Shift + Enter`\n",
    "\n",
    "- to execute Python code inside a Jupyter cell AND a create a new cell aftwerwards, press `Alt + Enter`\n",
    "\n",
    "- If the notebooks look stuck, try to select `Kernel -> Restart`"
   ]
  },
  {
   "cell_type": "markdown",
   "id": "fca329d4",
   "metadata": {},
   "source": [
    "## `strip` method\n",
    "\n",
    "Eliminates white spaces, tabs and linefeeds from the _sides_ of the string. In general, this set of characters is called _blanks._\n",
    "\n",
    "**NOTE**: it does NOT removes _blanks_ inside string words! It only looks on the sides."
   ]
  },
  {
   "cell_type": "code",
   "execution_count": 2,
   "id": "5b4c624f",
   "metadata": {},
   "outputs": [],
   "source": [
    "x = ' \\t\\n\\n\\t carpe diem \\t  '   # we put white space, tab and line feeds at the sides"
   ]
  },
  {
   "cell_type": "code",
   "execution_count": 3,
   "id": "89c3fa42",
   "metadata": {},
   "outputs": [
    {
     "data": {
      "text/plain": [
       "' \\t\\n\\n\\t carpe diem \\t  '"
      ]
     },
     "execution_count": 3,
     "metadata": {},
     "output_type": "execute_result"
    }
   ],
   "source": [
    "x"
   ]
  },
  {
   "cell_type": "code",
   "execution_count": 4,
   "id": "17d882c2",
   "metadata": {},
   "outputs": [
    {
     "name": "stdout",
     "output_type": "stream",
     "text": [
      " \t\n",
      "\n",
      "\t carpe diem \t  \n"
     ]
    }
   ],
   "source": [
    "print(x)"
   ]
  },
  {
   "cell_type": "code",
   "execution_count": 5,
   "id": "a3528964",
   "metadata": {},
   "outputs": [
    {
     "data": {
      "text/plain": [
       "20"
      ]
     },
     "execution_count": 5,
     "metadata": {},
     "output_type": "execute_result"
    }
   ],
   "source": [
    "len(x)   # remember that special characters like \\t and \\n occupy 1 character"
   ]
  },
  {
   "cell_type": "code",
   "execution_count": 6,
   "id": "0eb35084",
   "metadata": {},
   "outputs": [],
   "source": [
    "y = x.strip()"
   ]
  },
  {
   "cell_type": "code",
   "execution_count": 7,
   "id": "59859bfe",
   "metadata": {},
   "outputs": [
    {
     "data": {
      "text/plain": [
       "'carpe diem'"
      ]
     },
     "execution_count": 7,
     "metadata": {},
     "output_type": "execute_result"
    }
   ],
   "source": [
    "y"
   ]
  },
  {
   "cell_type": "code",
   "execution_count": 8,
   "id": "02a00de7",
   "metadata": {},
   "outputs": [
    {
     "name": "stdout",
     "output_type": "stream",
     "text": [
      "carpe diem\n"
     ]
    }
   ],
   "source": [
    "print(y)"
   ]
  },
  {
   "cell_type": "code",
   "execution_count": 9,
   "id": "07f369b2",
   "metadata": {},
   "outputs": [
    {
     "data": {
      "text/plain": [
       "10"
      ]
     },
     "execution_count": 9,
     "metadata": {},
     "output_type": "execute_result"
    }
   ],
   "source": [
    "len(y)"
   ]
  },
  {
   "cell_type": "code",
   "execution_count": 10,
   "id": "f80c7e4c",
   "metadata": {},
   "outputs": [
    {
     "data": {
      "text/plain": [
       "' \\t\\n\\n\\t carpe diem \\t  '"
      ]
     },
     "execution_count": 10,
     "metadata": {},
     "output_type": "execute_result"
    }
   ],
   "source": [
    "x      # IMPORTANT: x is still associated to the old string !"
   ]
  },
  {
   "cell_type": "markdown",
   "id": "2fd0d834",
   "metadata": {},
   "source": [
    "### Specificying character to strip\n",
    "\n",
    "If you only want Python to remove some specific character, you can specify them in parenthesis. Let's try to specify only one:"
   ]
  },
  {
   "cell_type": "code",
   "execution_count": 11,
   "id": "eeac1d28",
   "metadata": {},
   "outputs": [
    {
     "data": {
      "text/plain": [
       "'alsa'"
      ]
     },
     "execution_count": 11,
     "metadata": {},
     "output_type": "execute_result"
    }
   ],
   "source": [
    "'salsa'.strip('s')    #  note internal `s` is not stripped"
   ]
  },
  {
   "cell_type": "markdown",
   "id": "6650492b",
   "metadata": {},
   "source": [
    "If we specify two or more, Python removes all the characters it can find from the sides \n",
    "\n",
    "Note the order in which you specify the characters does **not** matter:"
   ]
  },
  {
   "cell_type": "code",
   "execution_count": 12,
   "id": "be895c1d",
   "metadata": {},
   "outputs": [
    {
     "data": {
      "text/plain": [
       "'ust'"
      ]
     },
     "execution_count": 12,
     "metadata": {},
     "output_type": "execute_result"
    }
   ],
   "source": [
    "'caustic'.strip('aci')"
   ]
  },
  {
   "cell_type": "markdown",
   "id": "38d8f1e9",
   "metadata": {},
   "source": [
    "<div class=\"alert alert-warning\">\n",
    "\n",
    "**WARNING: If you specify characters, Python doesn't try anymore to remove blanks!**\n",
    "</div>"
   ]
  },
  {
   "cell_type": "code",
   "execution_count": 13,
   "id": "d947da44",
   "metadata": {},
   "outputs": [
    {
     "data": {
      "text/plain": [
       "'ouquet  '"
      ]
     },
     "execution_count": 13,
     "metadata": {},
     "output_type": "execute_result"
    }
   ],
   "source": [
    "'bouquet  '.strip('b')    # it won't strip right spaces !"
   ]
  },
  {
   "cell_type": "code",
   "execution_count": 14,
   "id": "9ef4647d",
   "metadata": {},
   "outputs": [
    {
     "data": {
      "text/plain": [
       "'\\tbouquet  '"
      ]
     },
     "execution_count": 14,
     "metadata": {},
     "output_type": "execute_result"
    }
   ],
   "source": [
    "'\\tbouquet  '.strip('b')    # ... nor strip left blanks such as tab"
   ]
  },
  {
   "cell_type": "markdown",
   "id": "f8ec0fe2",
   "metadata": {},
   "source": [
    "According to the same principle, if you specify a space `' '`, then Python will **only** remove spaces and won't look for other blanks!!"
   ]
  },
  {
   "cell_type": "code",
   "execution_count": 15,
   "id": "8ba93a5e",
   "metadata": {},
   "outputs": [
    {
     "data": {
      "text/plain": [
       "'careful! \\t'"
      ]
     },
     "execution_count": 15,
     "metadata": {},
     "output_type": "execute_result"
    }
   ],
   "source": [
    "'  careful! \\t'.strip(' ')   # strips only on the left!"
   ]
  },
  {
   "cell_type": "markdown",
   "id": "4a9f2295",
   "metadata": {},
   "source": [
    "**QUESTION**: for each of the following expressions, try to guess which result it produces (or if it gives an error):\n",
    "\n",
    "\n",
    "1.  ```python\n",
    "    '\\ttumultuous\\n'.strip()\n",
    "    ```\n",
    "1.  ```python\n",
    "    ' a b c '.strip()\n",
    "    ```\n",
    "1.  ```python\n",
    "    '\\ta\\tb\\t'.strip()\n",
    "    ```\n",
    "1.  ```python\n",
    "    '\\\\tMmm'.strip()\n",
    "    ```\n",
    "1.  ```python\n",
    "    'sky diving'.strip('sky')\n",
    "    ```\n",
    "1.  ```python\n",
    "    'anacondas'.strip('sad')\n",
    "    ```    \n",
    "1.  ```python\n",
    "    '\\nno way '.strip(' ')\n",
    "    ```            \n",
    "1.  ```python\n",
    "    '\\nno way '.strip('\\\\n')\n",
    "    ```\n",
    "1.  ```python\n",
    "    '\\nno way '.strip('\\n')\n",
    "    ```                \n",
    "1.  ```python\n",
    "    'salsa'.strip('as')\n",
    "    ```\n",
    "1.  ```python\n",
    "    '\\t ACE '.strip('\\t')\n",
    "    ```\n",
    "1.  ```python\n",
    "    ' so what? '.strip(\"\")\n",
    "    ```\n",
    "1.  ```python\n",
    "    str(-3+1).strip(\"+\"+\"-\")\n",
    "    ```    "
   ]
  },
  {
   "cell_type": "markdown",
   "id": "db56f50e",
   "metadata": {},
   "source": [
    "### Exercise - Biblio bank\n",
    "\n",
    "Your dream just become true: you were hired by the Cyber-Library!\n",
    "Since first enrolling to the Lunar Gymnasiuz in 2365 you've been dreaming of keeping and conveying the human knowledge collected through the centuries. You will have to check the work of an AI which reads ands transcribes an interesting chronicle named **White Pages 2021**.\n",
    "\n",
    "The Pages have lists of numbers in this format:\n",
    "\n",
    "Name Surname Prefix-Suffix\n",
    "\n",
    "Alas, the machine is buggy and in each row inserts some _blank_ characters (spaces, control characters like `\\t` and `\\n`, ...)\n",
    "\n",
    "* sometimes it warms the mobile printhead, causing the reading of numerous _blank_ before the test\n",
    "* sometimes the AI is so impressed by the content it forgets to turn off the reading, adding some _blank_ at the end\n",
    "\n",
    "Instead, it should produce a string with an initial dash and a final dot:\n",
    "\n",
    "`-` Name Surname Prefix-Suffix`.`\n",
    "\n",
    "Write some code to fix the bungled AI work."
   ]
  },
  {
   "cell_type": "raw",
   "id": "6865d282",
   "metadata": {
    "format": "text/html"
   },
   "source": [
    "<a  class=\"jupman-sol jupman-sol-toggler\" \n",
    " onclick=\"jupman.toggleSolution(this);\" \n",
    " data-jupman-show=\"Show solution\" data-jupman-hide=\"Hide\">Show solution</a><div class=\"jupman-sol jupman-sol-code\" style=\"display:none\">  "
   ]
  },
  {
   "cell_type": "code",
   "execution_count": 16,
   "id": "a06d5f2d",
   "metadata": {},
   "outputs": [
    {
     "name": "stdout",
     "output_type": "stream",
     "text": [
      " - Mario Rossi 0323-454345.\n"
     ]
    }
   ],
   "source": [
    "\n",
    "\n",
    "row = '      \\t   \\n  Mario Rossi 0323-454345 \\t \\t   '  # - Mario Rossi 0323-454345.\n",
    "#row = '    Ernesto Spadafesso 0323-454345  \\n'          # - Ernesto Spadafesso 0323-454345.\n",
    "#row = '      Gianantonia Marcolina Carla Napoleone 0323-454345 \\t'\n",
    "#row = '\\nChiara Ermellino 0323-454345  \\n \\n'\n",
    "#row = '  \\tGiada Pietraverde 0323-454345\\n\\t'\n",
    "\n",
    "# write here\n",
    "product = ' - ' + row.strip() + '.'\n",
    "print(product)"
   ]
  },
  {
   "cell_type": "raw",
   "id": "cc853350",
   "metadata": {
    "format": "text/html"
   },
   "source": [
    "</div>"
   ]
  },
  {
   "cell_type": "code",
   "execution_count": 16,
   "id": "a06d5f2d-stripped",
   "metadata": {},
   "outputs": [],
   "source": [
    "\n",
    "\n",
    "row = '      \\t   \\n  Mario Rossi 0323-454345 \\t \\t   '  # - Mario Rossi 0323-454345.\n",
    "#row = '    Ernesto Spadafesso 0323-454345  \\n'          # - Ernesto Spadafesso 0323-454345.\n",
    "#row = '      Gianantonia Marcolina Carla Napoleone 0323-454345 \\t'\n",
    "#row = '\\nChiara Ermellino 0323-454345  \\n \\n'\n",
    "#row = '  \\tGiada Pietraverde 0323-454345\\n\\t'\n",
    "\n",
    "# write here\n",
    "\n"
   ]
  },
  {
   "cell_type": "markdown",
   "id": "a7de31c9",
   "metadata": {},
   "source": [
    "## `lstrip` method\n",
    "\n",
    "Eliminates white spaces, tab and line feeds from _left side_ of the string.\n",
    "\n",
    "**NOTE**: does NOT remove _blanks_ between words of the string! Only those on left side."
   ]
  },
  {
   "cell_type": "code",
   "execution_count": 17,
   "id": "8ac668f3",
   "metadata": {},
   "outputs": [],
   "source": [
    "x = '\\n \\t the street \\t '"
   ]
  },
  {
   "cell_type": "code",
   "execution_count": 18,
   "id": "7be0f636",
   "metadata": {},
   "outputs": [
    {
     "data": {
      "text/plain": [
       "'\\n \\t the street \\t '"
      ]
     },
     "execution_count": 18,
     "metadata": {},
     "output_type": "execute_result"
    }
   ],
   "source": [
    "x"
   ]
  },
  {
   "cell_type": "code",
   "execution_count": 19,
   "id": "7c912b6c",
   "metadata": {},
   "outputs": [
    {
     "data": {
      "text/plain": [
       "17"
      ]
     },
     "execution_count": 19,
     "metadata": {},
     "output_type": "execute_result"
    }
   ],
   "source": [
    "len(x)"
   ]
  },
  {
   "cell_type": "code",
   "execution_count": 20,
   "id": "217e2512",
   "metadata": {},
   "outputs": [],
   "source": [
    "y = x.lstrip()"
   ]
  },
  {
   "cell_type": "code",
   "execution_count": 21,
   "id": "1b29ef2b",
   "metadata": {},
   "outputs": [
    {
     "data": {
      "text/plain": [
       "'the street \\t '"
      ]
     },
     "execution_count": 21,
     "metadata": {},
     "output_type": "execute_result"
    }
   ],
   "source": [
    "y"
   ]
  },
  {
   "cell_type": "code",
   "execution_count": 22,
   "id": "26b91bdc",
   "metadata": {},
   "outputs": [
    {
     "data": {
      "text/plain": [
       "13"
      ]
     },
     "execution_count": 22,
     "metadata": {},
     "output_type": "execute_result"
    }
   ],
   "source": [
    "len(y)"
   ]
  },
  {
   "cell_type": "code",
   "execution_count": 23,
   "id": "3c4eed36",
   "metadata": {},
   "outputs": [
    {
     "data": {
      "text/plain": [
       "'\\n \\t the street \\t '"
      ]
     },
     "execution_count": 23,
     "metadata": {},
     "output_type": "execute_result"
    }
   ],
   "source": [
    "x       # IMPORTANT: x is still associated to the old string !"
   ]
  },
  {
   "cell_type": "markdown",
   "id": "fc378f76",
   "metadata": {},
   "source": [
    "## `rstrip` method\n",
    "\n",
    "Eliminates white spaces, tab and line feeds from _left side_ of the string.\n",
    "\n",
    "**NOTE**: does NOT remove _blanks_ between words of the string! Only those on right side."
   ]
  },
  {
   "cell_type": "code",
   "execution_count": 24,
   "id": "e88f4934",
   "metadata": {},
   "outputs": [],
   "source": [
    "x = '\\n \\t the lighthouse \\t '"
   ]
  },
  {
   "cell_type": "code",
   "execution_count": 25,
   "id": "763961ea",
   "metadata": {},
   "outputs": [
    {
     "data": {
      "text/plain": [
       "'\\n \\t the lighthouse \\t '"
      ]
     },
     "execution_count": 25,
     "metadata": {},
     "output_type": "execute_result"
    }
   ],
   "source": [
    "x"
   ]
  },
  {
   "cell_type": "code",
   "execution_count": 26,
   "id": "d937d5d5",
   "metadata": {},
   "outputs": [
    {
     "data": {
      "text/plain": [
       "21"
      ]
     },
     "execution_count": 26,
     "metadata": {},
     "output_type": "execute_result"
    }
   ],
   "source": [
    "len(x)"
   ]
  },
  {
   "cell_type": "code",
   "execution_count": 27,
   "id": "86e838e6",
   "metadata": {},
   "outputs": [],
   "source": [
    "y = x.rstrip()"
   ]
  },
  {
   "cell_type": "code",
   "execution_count": 28,
   "id": "e7d2b037",
   "metadata": {},
   "outputs": [
    {
     "data": {
      "text/plain": [
       "'\\n \\t the lighthouse'"
      ]
     },
     "execution_count": 28,
     "metadata": {},
     "output_type": "execute_result"
    }
   ],
   "source": [
    "y"
   ]
  },
  {
   "cell_type": "code",
   "execution_count": 29,
   "id": "a5416b2e",
   "metadata": {},
   "outputs": [
    {
     "data": {
      "text/plain": [
       "18"
      ]
     },
     "execution_count": 29,
     "metadata": {},
     "output_type": "execute_result"
    }
   ],
   "source": [
    "len(y)"
   ]
  },
  {
   "cell_type": "code",
   "execution_count": 30,
   "id": "42d59e8c",
   "metadata": {},
   "outputs": [
    {
     "data": {
      "text/plain": [
       "'\\n \\t the lighthouse \\t '"
      ]
     },
     "execution_count": 30,
     "metadata": {},
     "output_type": "execute_result"
    }
   ],
   "source": [
    "x       # IMPORTANT: x is still associated to the old string !"
   ]
  },
  {
   "cell_type": "markdown",
   "id": "797e51a1",
   "metadata": {},
   "source": [
    "### Exercise - Bad to the bone\n",
    "\n",
    "You have an uppercase string `s` which contains at the sides some stuff you want to remove: `punctuation` , a lowercase `char` and some blanks. Write some code to perform the removal\n",
    "\n",
    "Example - given:\n",
    "\n",
    "```python\n",
    "char = 'b'\n",
    "punctuation = '!?.;,'\n",
    "s = ' \\t\\n...bbbbbBAD TO THE BONE\\n!'\n",
    "```\n",
    "\n",
    "your code should show:\n",
    "\n",
    "```\n",
    "'BAD TO THE BONE'\n",
    "```\n",
    "\n",
    "* use only `strip` (or `lstrip` and `rstrip`) methods (if necessary, you can do repeated calls)"
   ]
  },
  {
   "cell_type": "raw",
   "id": "47997412",
   "metadata": {
    "format": "text/html"
   },
   "source": [
    "<a  class=\"jupman-sol jupman-sol-toggler\" \n",
    " onclick=\"jupman.toggleSolution(this);\" \n",
    " data-jupman-show=\"Show solution\" data-jupman-hide=\"Hide\">Show solution</a><div class=\"jupman-sol jupman-sol-code\" style=\"display:none\">  "
   ]
  },
  {
   "cell_type": "code",
   "execution_count": 31,
   "id": "e0d9e6ef",
   "metadata": {},
   "outputs": [
    {
     "data": {
      "text/plain": [
       "'BAD TO THE BONE'"
      ]
     },
     "execution_count": 31,
     "metadata": {},
     "output_type": "execute_result"
    }
   ],
   "source": [
    "char = 'b'\n",
    "punctuation = '!?.;,'\n",
    "s = ' \\t\\n...bbbbbBAD TO THE BONE\\n!'\n",
    "\n",
    "# write here\n",
    "s.strip().strip(char + punctuation).strip()"
   ]
  },
  {
   "cell_type": "raw",
   "id": "67230fa4",
   "metadata": {
    "format": "text/html"
   },
   "source": [
    "</div>"
   ]
  },
  {
   "cell_type": "code",
   "execution_count": 31,
   "id": "e0d9e6ef-stripped",
   "metadata": {},
   "outputs": [
    {
     "data": {
      "text/plain": [
       "'BAD TO THE BONE'"
      ]
     },
     "execution_count": 31,
     "metadata": {},
     "output_type": "execute_result"
    }
   ],
   "source": [
    "char = 'b'\n",
    "punctuation = '!?.;,'\n",
    "s = ' \\t\\n...bbbbbBAD TO THE BONE\\n!'\n",
    "\n",
    "# write here\n",
    "\n"
   ]
  },
  {
   "cell_type": "markdown",
   "id": "29051cb9",
   "metadata": {},
   "source": [
    "## `count` method\n",
    "\n",
    "The method `count` takes a substring and counts how many occurrences are there in the string before the dot. "
   ]
  },
  {
   "cell_type": "code",
   "execution_count": 32,
   "id": "af8645c6",
   "metadata": {},
   "outputs": [
    {
     "data": {
      "text/plain": [
       "3"
      ]
     },
     "execution_count": 32,
     "metadata": {},
     "output_type": "execute_result"
    }
   ],
   "source": [
    "\"astral stars\".count('a')"
   ]
  },
  {
   "cell_type": "code",
   "execution_count": 33,
   "id": "d934ec4e",
   "metadata": {},
   "outputs": [
    {
     "data": {
      "text/plain": [
       "0"
      ]
     },
     "execution_count": 33,
     "metadata": {},
     "output_type": "execute_result"
    }
   ],
   "source": [
    "\"astral stars\".count('A')    # it's case sensitive"
   ]
  },
  {
   "cell_type": "code",
   "execution_count": 34,
   "id": "4b50fdd5",
   "metadata": {},
   "outputs": [
    {
     "data": {
      "text/plain": [
       "2"
      ]
     },
     "execution_count": 34,
     "metadata": {},
     "output_type": "execute_result"
    }
   ],
   "source": [
    "\"astral stars\".count('st')"
   ]
  },
  {
   "cell_type": "markdown",
   "id": "e82cb564",
   "metadata": {},
   "source": [
    "Optionally, you can pass two other parameters to indicate an index to start counting from (included) and where to end (excluded):"
   ]
  },
  {
   "cell_type": "code",
   "execution_count": 35,
   "id": "f4f5a53b",
   "metadata": {},
   "outputs": [
    {
     "data": {
      "text/plain": [
       "2"
      ]
     },
     "execution_count": 35,
     "metadata": {},
     "output_type": "execute_result"
    }
   ],
   "source": [
    "#012345678901\n",
    "\"astral stars\".count('a',4)  "
   ]
  },
  {
   "cell_type": "code",
   "execution_count": 36,
   "id": "ec3868dd",
   "metadata": {},
   "outputs": [
    {
     "data": {
      "text/plain": [
       "1"
      ]
     },
     "execution_count": 36,
     "metadata": {},
     "output_type": "execute_result"
    }
   ],
   "source": [
    "#012345678901\n",
    "\"astral stars\".count('a',4,9)  "
   ]
  },
  {
   "cell_type": "markdown",
   "id": "7b88e66a",
   "metadata": {},
   "source": [
    "### Do not abuse count\n",
    "\n",
    "<div class=\"alert alert-warning\">\n",
    "    \n",
    "**WARNING**: `count` **is often used in a wrong / inefficient ways**\n",
    "\n",
    "Always ask yourself:\n",
    "    \n",
    "1. Could the string contain duplicates? Remember they will get counted!\n",
    "2. Could the string contain _no_ duplicate? Remember to also handle this case!    \n",
    "3. `count` performs a search on all the string, which could be inefficient: is it really needed, or do we already know the interval where to search?\n",
    "</div>"
   ]
  },
  {
   "cell_type": "markdown",
   "id": "82f9bd67",
   "metadata": {},
   "source": [
    "### Exercise - astro money\n",
    "\n",
    "During 2020 lockdown, while looking at the stars above you started feeling... waves. After some thinking, you decided _THEY_ wanted to communicate with you so you you set up a dish antenna on your roof to receive messages from aliens. After months of apparent irrelevant noise, one day you finally receive a message you're able to translate. Aliens are _obviously_ trying to tell you the winning numbers of lottery! \n",
    "\n",
    "A message is a sequence of exactly 3 _different_ character repetitions, the number of characters in each repetition is a number you will try at the lottery. You frantically start developing the translator to show these lucky numbers on the terminal."
   ]
  },
  {
   "cell_type": "markdown",
   "id": "cc9cc257",
   "metadata": {},
   "source": [
    "Example - given:\n",
    "\n",
    "```python\n",
    "s = '$$$$€€€€€!!'\n",
    "```\n",
    "\n",
    "it should print:\n",
    "\n",
    "```\n",
    "$ € !\n",
    "4 5 2\n",
    "```\n",
    "\n",
    "* **IMPORTANT: you can assume all sequences have** ***different*** **characters**\n",
    "* **DO NOT** use cycles nor comprehensions\n",
    "* for simplicity assume each character sequence has at most 9 repetitions"
   ]
  },
  {
   "cell_type": "raw",
   "id": "7b973675",
   "metadata": {
    "format": "text/html"
   },
   "source": [
    "<a  class=\"jupman-sol jupman-sol-toggler\" \n",
    " onclick=\"jupman.toggleSolution(this);\" \n",
    " data-jupman-show=\"Show solution\" data-jupman-hide=\"Hide\">Show solution</a><div class=\"jupman-sol jupman-sol-code\" style=\"display:none\">  "
   ]
  },
  {
   "cell_type": "code",
   "execution_count": 37,
   "id": "adc1b8a1",
   "metadata": {},
   "outputs": [
    {
     "name": "stdout",
     "output_type": "stream",
     "text": [
      "$ € !\n",
      "4 5 2\n"
     ]
    }
   ],
   "source": [
    "    #01234567890      # $ € !\n",
    "s = '$$$$€€€€€!!'     # 4 5 2\n",
    "\n",
    "                      # I M Q\n",
    "#s = 'IIIMMMMMMQQQ'   # 3 6 3\n",
    "\n",
    "                      # H A L\n",
    "#s = 'HAL'            # 1 1 1\n",
    "\n",
    "# write here\n",
    "p1 = 0\n",
    "d1 = s.count(s[p1])\n",
    "p2 = p1 + d1\n",
    "d2 = s.count(s[p2])\n",
    "p3 = p2 + d2\n",
    "d3 = s.count(s[p3])\n",
    "\n",
    "print(s[p1],s[p2],s[p3])\n",
    "print(d1,d2,d3)"
   ]
  },
  {
   "cell_type": "raw",
   "id": "37d1f874",
   "metadata": {
    "format": "text/html"
   },
   "source": [
    "</div>"
   ]
  },
  {
   "cell_type": "code",
   "execution_count": 37,
   "id": "adc1b8a1-stripped",
   "metadata": {},
   "outputs": [
    {
     "name": "stdout",
     "output_type": "stream",
     "text": [
      "$ € !\n",
      "4 5 2\n"
     ]
    }
   ],
   "source": [
    "    #01234567890      # $ € !\n",
    "s = '$$$$€€€€€!!'     # 4 5 2\n",
    "\n",
    "                      # I M Q\n",
    "#s = 'IIIMMMMMMQQQ'   # 3 6 3\n",
    "\n",
    "                      # H A L\n",
    "#s = 'HAL'            # 1 1 1\n",
    "\n",
    "# write here\n",
    "\n"
   ]
  },
  {
   "cell_type": "markdown",
   "id": "4eca3da5",
   "metadata": {},
   "source": [
    "## `find` method\n",
    "\n",
    "`find` returns the index of the _first_ occurrence of some given substring:"
   ]
  },
  {
   "cell_type": "code",
   "execution_count": 38,
   "id": "d866985d",
   "metadata": {},
   "outputs": [
    {
     "data": {
      "text/plain": [
       "7"
      ]
     },
     "execution_count": 38,
     "metadata": {},
     "output_type": "execute_result"
    }
   ],
   "source": [
    "#0123456789012345\n",
    "'bingo bongo bong'.find('ong')"
   ]
  },
  {
   "cell_type": "markdown",
   "id": "e63ff4a6",
   "metadata": {},
   "source": [
    "If no occurrence is found, it returns `-1`:"
   ]
  },
  {
   "cell_type": "code",
   "execution_count": 39,
   "id": "d3d62486",
   "metadata": {},
   "outputs": [
    {
     "data": {
      "text/plain": [
       "-1"
      ]
     },
     "execution_count": 39,
     "metadata": {},
     "output_type": "execute_result"
    }
   ],
   "source": [
    "#0123456789012345\n",
    "'bingo bongo bong'.find('bang')"
   ]
  },
  {
   "cell_type": "code",
   "execution_count": 40,
   "id": "464fad90",
   "metadata": {},
   "outputs": [
    {
     "data": {
      "text/plain": [
       "-1"
      ]
     },
     "execution_count": 40,
     "metadata": {},
     "output_type": "execute_result"
    }
   ],
   "source": [
    "#0123456789012345\n",
    "'bingo bongo bong'.find('Bong')    #  case-sensitive"
   ]
  },
  {
   "cell_type": "markdown",
   "id": "066214ce",
   "metadata": {},
   "source": [
    "Optionally, you can specify an index from where to start searching (included):"
   ]
  },
  {
   "cell_type": "code",
   "execution_count": 41,
   "id": "121ccbf7",
   "metadata": {},
   "outputs": [
    {
     "data": {
      "text/plain": [
       "13"
      ]
     },
     "execution_count": 41,
     "metadata": {},
     "output_type": "execute_result"
    }
   ],
   "source": [
    "#0123456789012345\n",
    "'bingo bongo bong'.find('ong',10)"
   ]
  },
  {
   "cell_type": "markdown",
   "id": "fb937ae6",
   "metadata": {},
   "source": [
    "And also where to end (excluded):"
   ]
  },
  {
   "cell_type": "code",
   "execution_count": 42,
   "id": "d44ecf8a",
   "metadata": {},
   "outputs": [
    {
     "data": {
      "text/plain": [
       "-1"
      ]
     },
     "execution_count": 42,
     "metadata": {},
     "output_type": "execute_result"
    }
   ],
   "source": [
    "#0123456789012345\n",
    "'bingo bongo bong'.find('g',4, 9)"
   ]
  },
  {
   "cell_type": "markdown",
   "id": "5dd28e31",
   "metadata": {},
   "source": [
    "## `rfind` method\n",
    "\n",
    "Like [find method](#find-method), but search starts from the right."
   ]
  },
  {
   "cell_type": "markdown",
   "id": "7a7cd313",
   "metadata": {},
   "source": [
    "### Do not abuse find\n",
    "\n",
    "<div class=\"alert alert-warning\">\n",
    "    \n",
    "**WARNING**: `find` **is often used in a wrong / inefficient ways**\n",
    "\n",
    "Always ask yourself:\n",
    "    \n",
    "1. Could the string contain duplicates? Remember only the _first_ will be found!\n",
    "2. Could the string _not_ contain  the search substring?  Remember to also handle this case!\n",
    "3. `find` performs a search on all the string, which could be inefficient: is it really needed, or do we already know the interval where to search?\n",
    "4. If we want to know if a `character` is in a position we already know, `find` is useless: it's enough to write `my_string[3] == character`. If you used `find`, it could discover duplicate characters which are _before_ or _after_ the one we are interested in!\n",
    "</div>"
   ]
  },
  {
   "cell_type": "markdown",
   "id": "b5c22623",
   "metadata": {},
   "source": [
    "### Exercise - The port of Monkey Island\n",
    "\n",
    "Monkey Island has a port with 4 piers where ships coming from all the archipelago are docked. The docking point is never precise, and there could arbitrary spaces between the pier borders. The could also be duplicated ships.\n",
    "\n",
    "1) Suppose each pier can only contain one ship, and we want to write some code which shows `True` if `\"The Jolly Rasta\"` is docked to the pier `2`, or `False` otherwise.\n",
    "\n",
    "Have a look at the following ports, and for each one of them try to guess whether or not the following code lines produce correct results. Try then writing some code which doesn't have the problems you will encounter.\n",
    "\n",
    "* **DO NOT** use `if` instructions, loops nor comprehensions\n",
    "* **DO NOT** use lists (so no split)"
   ]
  },
  {
   "cell_type": "raw",
   "id": "d614464d",
   "metadata": {
    "format": "text/html"
   },
   "source": [
    "<a  class=\"jupman-sol jupman-sol-toggler\" \n",
    " onclick=\"jupman.toggleSolution(this);\" \n",
    " data-jupman-show=\"Show solution\" data-jupman-hide=\"Hide\">Show solution</a><div class=\"jupman-sol jupman-sol-code\" style=\"display:none\">  "
   ]
  },
  {
   "cell_type": "code",
   "execution_count": 43,
   "id": "fbcb8c01",
   "metadata": {
    "scrolled": true
   },
   "outputs": [
    {
     "name": "stdout",
     "output_type": "stream",
     "text": [
      "Is Jolly Rasta docked to pier 2 ?\n",
      "\n",
      "The Mad Monkey      |  The Jolly Rasta   |  The Sea Cucumber  |LeChuck's Ghost Ship|\n",
      "\n",
      "                     in: True\n",
      "\n",
      "     find on everything: True\n",
      "\n",
      " find since second pier: True\n",
      "\n",
      "               Solution: True\n"
     ]
    }
   ],
   "source": [
    "width = 21  # width of a pier,  INCLUDED the right `|` \n",
    "pier = 2\n",
    "\n",
    "\n",
    "# piers    :  1                    2                    3                    4\n",
    "port  =      \"The Mad Monkey      |  The Jolly Rasta   |  The Sea Cucumber  |LeChuck's Ghost Ship|\"\n",
    "#port =      \"  The Mad Monkey    |                    | The Sea Cucumber   |LeChuck's Ghost Ship|\"\n",
    "#port =      \"    The Mad Monkey  |The Jolly Rasta     |   The Sea Cucumber |                    |\"\n",
    "#port =      \"The Jolly Rasta     |                    |    The Sea Cucumber|LeChuck's Ghost Ship|\"\n",
    "#port =      \"                    | The Mad Monkey     |   The Jolly Rasta  |LeChuck's Ghost Ship|\"\n",
    "#port =      \"    The Jolly Rasta |                    | The Jolly Rasta    |   The Jolly Rasta  |\"\n",
    "\n",
    "print('Is Jolly Rasta docked to pier', pier, '?')\n",
    "print()\n",
    "print(port)\n",
    "\n",
    "print()\n",
    "print('                     in:', 'The Jolly Rasta' in port)\n",
    "\n",
    "print()\n",
    "print('     find on everything:', port.find('The Jolly Rasta') != -1)\n",
    "\n",
    "print()\n",
    "print(' find since second pier:', port.find('The Jolly Rasta', width*(pier-1)) != -1)\n",
    "\n",
    "# write here\n",
    "print()\n",
    "sub = port[width*(pier-1):width*pier-1]\n",
    "print('               Solution:', sub.find('The Jolly Rasta') != -1)"
   ]
  },
  {
   "cell_type": "raw",
   "id": "445b4cba",
   "metadata": {
    "format": "text/html"
   },
   "source": [
    "</div>"
   ]
  },
  {
   "cell_type": "code",
   "execution_count": 43,
   "id": "fbcb8c01-stripped",
   "metadata": {
    "scrolled": true
   },
   "outputs": [
    {
     "name": "stdout",
     "output_type": "stream",
     "text": [
      "Is Jolly Rasta docked to pier 2 ?\n",
      "\n",
      "The Mad Monkey      |  The Jolly Rasta   |  The Sea Cucumber  |LeChuck's Ghost Ship|\n",
      "\n",
      "                     in: True\n",
      "\n",
      "     find on everything: True\n",
      "\n",
      " find since second pier: True\n",
      "\n",
      "               Solution: True\n"
     ]
    }
   ],
   "source": [
    "width = 21  # width of a pier,  INCLUDED the right `|` \n",
    "pier = 2\n",
    "\n",
    "\n",
    "# piers    :  1                    2                    3                    4\n",
    "port  =      \"The Mad Monkey      |  The Jolly Rasta   |  The Sea Cucumber  |LeChuck's Ghost Ship|\"\n",
    "#port =      \"  The Mad Monkey    |                    | The Sea Cucumber   |LeChuck's Ghost Ship|\"\n",
    "#port =      \"    The Mad Monkey  |The Jolly Rasta     |   The Sea Cucumber |                    |\"\n",
    "#port =      \"The Jolly Rasta     |                    |    The Sea Cucumber|LeChuck's Ghost Ship|\"\n",
    "#port =      \"                    | The Mad Monkey     |   The Jolly Rasta  |LeChuck's Ghost Ship|\"\n",
    "#port =      \"    The Jolly Rasta |                    | The Jolly Rasta    |   The Jolly Rasta  |\"\n",
    "\n",
    "print('Is Jolly Rasta docked to pier', pier, '?')\n",
    "print()\n",
    "print(port)\n",
    "\n",
    "print()\n",
    "print('                     in:', 'The Jolly Rasta' in port)\n",
    "\n",
    "print()\n",
    "print('     find on everything:', port.find('The Jolly Rasta') != -1)\n",
    "\n",
    "print()\n",
    "print(' find since second pier:', port.find('The Jolly Rasta', width*(pier-1)) != -1)\n",
    "\n",
    "# write here\n",
    "\n"
   ]
  },
  {
   "cell_type": "markdown",
   "id": "566c31d0",
   "metadata": {},
   "source": [
    "2) Suppose now every pier can dock more then one ship, even with the same name. Write some code which shows `True` if **only one** Grog Ship is docked to the second pier, `False` otherwise"
   ]
  },
  {
   "cell_type": "raw",
   "id": "c4bf9efa",
   "metadata": {
    "format": "text/html"
   },
   "source": [
    "<a  class=\"jupman-sol jupman-sol-toggler\" \n",
    " onclick=\"jupman.toggleSolution(this);\" \n",
    " data-jupman-show=\"Show solution\" data-jupman-hide=\"Hide\">Show solution</a><div class=\"jupman-sol jupman-sol-code\" style=\"display:none\">  "
   ]
  },
  {
   "cell_type": "code",
   "execution_count": 44,
   "id": "96aeabc6",
   "metadata": {},
   "outputs": [
    {
     "name": "stdout",
     "output_type": "stream",
     "text": [
      "\n",
      "Is only one Grog Ship docked to pier 2 ?\n",
      "\n",
      "Solution Grog Ship: False\n"
     ]
    }
   ],
   "source": [
    "width = 21  # width of a pier,  INCLUDED the right `|` \n",
    "pier = 2\n",
    "\n",
    "# piers    :  1                    2                    3                    4\n",
    "port =       \"The Mad Monkey      |The Jolly Rasta     |  The Sea Cucumber  |LeChuck's Ghost Ship|\"\n",
    "#port =      \"The Mad Monkey      | Grog Ship Grog Ship| The Jolly Rasta    |   The Sea Cucumber \"\n",
    "#port =      \"   The Jolly Rasta  |   Grog Ship        | The Jolly Rasta    |   The Jolly Rasta  \"\n",
    "#port =      \"   Grog Ship        |   Grog Ship        |LeChuck's Ghost Ship|    Grog Ship       \"\n",
    "#port =      \"LeChuck's Ghost Ship|                    |   Grog Ship        |   The Jolly Rasta  \"\n",
    "#port =      \"The Jolly Rasta     | Grog Ship Grog Ship|       Grog Ship    |   The Jolly Rasta  \"\n",
    "\n",
    "print()\n",
    "print('Is only one Grog Ship docked to pier', pier, '?')\n",
    "print()\n",
    "\n",
    "# write here\n",
    "\n",
    "sub = port[width*(pier-1):width*pier-1]\n",
    "print('Solution Grog Ship:', sub.count('Grog Ship') == 1)"
   ]
  },
  {
   "cell_type": "raw",
   "id": "22d8a11f",
   "metadata": {
    "format": "text/html"
   },
   "source": [
    "</div>"
   ]
  },
  {
   "cell_type": "code",
   "execution_count": 44,
   "id": "96aeabc6-stripped",
   "metadata": {},
   "outputs": [
    {
     "name": "stdout",
     "output_type": "stream",
     "text": [
      "\n",
      "Is only one Grog Ship docked to pier 2 ?\n",
      "\n",
      "Solution Grog Ship: False\n"
     ]
    }
   ],
   "source": [
    "width = 21  # width of a pier,  INCLUDED the right `|` \n",
    "pier = 2\n",
    "\n",
    "# piers    :  1                    2                    3                    4\n",
    "port =       \"The Mad Monkey      |The Jolly Rasta     |  The Sea Cucumber  |LeChuck's Ghost Ship|\"\n",
    "#port =      \"The Mad Monkey      | Grog Ship Grog Ship| The Jolly Rasta    |   The Sea Cucumber \"\n",
    "#port =      \"   The Jolly Rasta  |   Grog Ship        | The Jolly Rasta    |   The Jolly Rasta  \"\n",
    "#port =      \"   Grog Ship        |   Grog Ship        |LeChuck's Ghost Ship|    Grog Ship       \"\n",
    "#port =      \"LeChuck's Ghost Ship|                    |   Grog Ship        |   The Jolly Rasta  \"\n",
    "#port =      \"The Jolly Rasta     | Grog Ship Grog Ship|       Grog Ship    |   The Jolly Rasta  \"\n",
    "\n",
    "print()\n",
    "print('Is only one Grog Ship docked to pier', pier, '?')\n",
    "print()\n",
    "\n",
    "# write here\n",
    "\n"
   ]
  },
  {
   "cell_type": "markdown",
   "id": "fc903d4e",
   "metadata": {},
   "source": [
    "### Exercise - bananas\n",
    "\n",
    "While exploring a remote tropical region, an ethologist discovers a population of monkeys which appear to have some concept of numbers. They collect bananas in the hundreds which are then traded with coconuts collected by another group. To comunicate the quantities of up to 999 bananas, they use a series of exactly three guttural sounds. The ethologist writes down the sequencies and formulates the following theory: each sound is comprised by a sequence of the same character, repeated a number of times. The number of characters in the first sequence is the first digit (the hundreds), the number of characters in the second sequence is the second digit (the decines), while the last sequence represents units. \n",
    "\n",
    "Write some code which puts in variable `bananas` **an integer** representing the number.\n",
    "\n",
    "For example - given:\n",
    "\n",
    "```python\n",
    "s = 'bb bbbbb aaaa'\n",
    "```\n",
    "\n",
    "your code should print:\n",
    "```\n",
    ">>> bananas\n",
    "254\n",
    ">>> type(bananas)\n",
    "int\n",
    "```\n",
    "\n",
    "* **IMPORTANT 1: different sequences may use the** ***same*** **character!**\n",
    "* **IMPORTANT 2: you cannot assume which characters monkeys will use**: you just know each digit is represented by a repetition of the same character\n",
    "* **DO NOT** use cycles nor comprehensions\n",
    "* the monkeys have no concept of zero"
   ]
  },
  {
   "cell_type": "raw",
   "id": "faef40bc",
   "metadata": {
    "format": "text/html"
   },
   "source": [
    "<a  class=\"jupman-sol jupman-sol-toggler\" \n",
    " onclick=\"jupman.toggleSolution(this);\" \n",
    " data-jupman-show=\"Show solution\" data-jupman-hide=\"Hide\">Show solution</a><div class=\"jupman-sol jupman-sol-code\" style=\"display:none\">  "
   ]
  },
  {
   "cell_type": "code",
   "execution_count": 45,
   "id": "9fac072e",
   "metadata": {},
   "outputs": [
    {
     "name": "stdout",
     "output_type": "stream",
     "text": [
      "The bananas are 254\n"
     ]
    },
    {
     "data": {
      "text/plain": [
       "int"
      ]
     },
     "execution_count": 45,
     "metadata": {},
     "output_type": "execute_result"
    }
   ],
   "source": [
    "\n",
    "    #0123456789012\n",
    "s = 'bb bbbbb aaaa'     # 254\n",
    "#s = 'ccc cc ccc'       # 323    \n",
    "#s = 'vvv rrrr ww'      # 342\n",
    "#s = 'cccc h jjj'       # 413\n",
    "#s = '🌳🌳🌳 🍌🍌🍌🍌🍌🍌 🐵🐵🐵🐵'  # 364  (you could get *any* weird character, also unicode ...)\n",
    "\n",
    "# write here\n",
    "p1 = s.find(' ')\n",
    "bananas = len(s[:p1])*100\n",
    "p2 = s.find(' ',p1+1)\n",
    "bananas += len(s[p1+1:p2])*10\n",
    "bananas += len(s[p2+1:])*1\n",
    "\n",
    "print('The bananas are',bananas)\n",
    "type(bananas)"
   ]
  },
  {
   "cell_type": "raw",
   "id": "d0f7afa0",
   "metadata": {
    "format": "text/html"
   },
   "source": [
    "</div>"
   ]
  },
  {
   "cell_type": "code",
   "execution_count": 45,
   "id": "9fac072e-stripped",
   "metadata": {},
   "outputs": [],
   "source": [
    "\n",
    "    #0123456789012\n",
    "s = 'bb bbbbb aaaa'     # 254\n",
    "#s = 'ccc cc ccc'       # 323    \n",
    "#s = 'vvv rrrr ww'      # 342\n",
    "#s = 'cccc h jjj'       # 413\n",
    "#s = '🌳🌳🌳 🍌🍌🍌🍌🍌🍌 🐵🐵🐵🐵'  # 364  (you could get *any* weird character, also unicode ...)\n",
    "\n",
    "# write here\n",
    "\n"
   ]
  },
  {
   "cell_type": "markdown",
   "id": "75e43f43",
   "metadata": {},
   "source": [
    "## `replace` method\n",
    "\n",
    "`str.replace` takes two strings and looks in the string on which the method is called for occurrences of the first string parameter, which are substituted with the second parameter.  Note it gives back a NEW string with all substitutions performed.\n",
    "\n",
    "Example:"
   ]
  },
  {
   "cell_type": "code",
   "execution_count": 46,
   "id": "bfdf0cc2",
   "metadata": {},
   "outputs": [
    {
     "data": {
      "text/plain": [
       "'the rain runs off the racks'"
      ]
     },
     "execution_count": 46,
     "metadata": {},
     "output_type": "execute_result"
    }
   ],
   "source": [
    "\"the train runs off the tracks\".replace('tra', 'ra')"
   ]
  },
  {
   "cell_type": "code",
   "execution_count": 47,
   "id": "38567356",
   "metadata": {},
   "outputs": [
    {
     "data": {
      "text/plain": [
       "'lit bee'"
      ]
     },
     "execution_count": 47,
     "metadata": {},
     "output_type": "execute_result"
    }
   ],
   "source": [
    "\"little beetle\".replace('tle', '')"
   ]
  },
  {
   "cell_type": "code",
   "execution_count": 48,
   "id": "ab30bdba",
   "metadata": {},
   "outputs": [
    {
     "data": {
      "text/plain": [
       "'talking and joking'"
      ]
     },
     "execution_count": 48,
     "metadata": {},
     "output_type": "execute_result"
    }
   ],
   "source": [
    "\"talking and joking\".replace('ING', 'ed')  # it's case sensitive"
   ]
  },
  {
   "cell_type": "code",
   "execution_count": 49,
   "id": "9ff8c77b",
   "metadata": {},
   "outputs": [
    {
     "data": {
      "text/plain": [
       "'TALKED AND JOKED'"
      ]
     },
     "execution_count": 49,
     "metadata": {},
     "output_type": "execute_result"
    }
   ],
   "source": [
    "\"TALKING AND JOKING\".replace('ING', 'ED')  # here they are"
   ]
  },
  {
   "cell_type": "markdown",
   "id": "c05555c0",
   "metadata": {},
   "source": [
    "As always with strings, `replace` DOES NOT modify the string on which it is called:"
   ]
  },
  {
   "cell_type": "code",
   "execution_count": 50,
   "id": "1fbcb6d3",
   "metadata": {},
   "outputs": [],
   "source": [
    "x = \"On the bench\""
   ]
  },
  {
   "cell_type": "code",
   "execution_count": 51,
   "id": "56a5d809",
   "metadata": {},
   "outputs": [],
   "source": [
    "y = x.replace('bench', 'bench the goat is alive')"
   ]
  },
  {
   "cell_type": "code",
   "execution_count": 52,
   "id": "357213fd",
   "metadata": {},
   "outputs": [
    {
     "data": {
      "text/plain": [
       "'On the bench the goat is alive'"
      ]
     },
     "execution_count": 52,
     "metadata": {},
     "output_type": "execute_result"
    }
   ],
   "source": [
    "y"
   ]
  },
  {
   "cell_type": "code",
   "execution_count": 53,
   "id": "9f113424",
   "metadata": {},
   "outputs": [
    {
     "data": {
      "text/plain": [
       "'On the bench'"
      ]
     },
     "execution_count": 53,
     "metadata": {},
     "output_type": "execute_result"
    }
   ],
   "source": [
    "x  # IMPORTANT: x is still associated to the old string !"
   ]
  },
  {
   "cell_type": "markdown",
   "id": "6c9f1849",
   "metadata": {},
   "source": [
    "If you give an optional third argument `count`, only the first `count` occurrences will be replaced:"
   ]
  },
  {
   "cell_type": "code",
   "execution_count": 54,
   "id": "e7b32ff1",
   "metadata": {},
   "outputs": [
    {
     "data": {
      "text/plain": [
       "'TALKED AND JOKED AND LAUGHING'"
      ]
     },
     "execution_count": 54,
     "metadata": {},
     "output_type": "execute_result"
    }
   ],
   "source": [
    "\"TALKING AND JOKING AND LAUGHING\".replace('ING', 'ED', 2)  # replaces only first 2 occurrences"
   ]
  },
  {
   "cell_type": "markdown",
   "id": "27880d77",
   "metadata": {},
   "source": [
    "**QUESTION**: for each of the following expressions, try to guess which result it produces (or if it gives an error)\n",
    "\n",
    "1.  ```python\n",
    "    '$£eat the rich£$'.replace('£','').replace('$','')\n",
    "    ```    \n",
    "    \n",
    "1.  ```python\n",
    "    '$£eat the rich£$'.strip('£').strip('$')\n",
    "    ```"
   ]
  },
  {
   "cell_type": "markdown",
   "id": "fdf0be93",
   "metadata": {},
   "source": [
    "### Do not abuse replace\n",
    "\n",
    "<div class=\"alert alert-warning\">\n",
    "    \n",
    "**WARNING**: `replace` **is often used in a wrong / inefficient ways**\n",
    "\n",
    "Always ask yourself:\n",
    "    \n",
    "1. Could the string contain duplicates? Remember they will _all_ get substituted!\n",
    "2. `replace` performs a search on the whole string, which could be inefficient: is it really needed, or do we already know the interval where the text to substitute is?\n",
    "</div>"
   ]
  },
  {
   "cell_type": "markdown",
   "id": "d81f893f",
   "metadata": {},
   "source": [
    "### Exercise - Do not open that door\n",
    "\n",
    "**QUESTION** You have a library of books, with labels like `C-The godfather`, `R-Pride and prejudice` o `'H-Do not open that door'` composed by a character which identifies the type (`C` crime, `R` romance, `H` horror) followed by a `-` and the title. Given a `book`, you want to print the complete label, a colon and then the title, like `'Crime: The godfather'`. Look at the following code fragments, and for each try writing labels among the proposed ones **or create others** which would give wrong results (if they exists)."
   ]
  },
  {
   "cell_type": "markdown",
   "id": "d1f69ce1",
   "metadata": {},
   "source": [
    "\n",
    "```python\n",
    "book = 'C-The godfather'\n",
    "book = 'R-Pride and prejudice'\n",
    "book = 'H-Do not open that door'\n",
    "```\n",
    "\n",
    "1.  ```python\n",
    "    book.replace('C', 'Crime: ').replace('R', 'Romance: ')\n",
    "    ```\n",
    "1.  ```python\n",
    "    book[0].replace('C', 'Crime: ')  \\\n",
    "            .replace('H', 'HORROR: ')  \\\n",
    "            .replace('R', 'Romance: ') + book[2:]\n",
    "    ```\n",
    "1.  ```python\n",
    "    book.replace('C-', 'Crime: ').replace('R-', 'Romance: ')\n",
    "    ```\n",
    "1.  ```python\n",
    "    book.replace('C-', 'Crime: ',1).replace('R-', 'Romance: ',1)\n",
    "    ```\n",
    "1.  ```python\n",
    "    book[0:2].replace('C-', 'Crime: ').replace('R-', 'Romance: ') + book[2:]\n",
    "    ```"
   ]
  },
  {
   "cell_type": "raw",
   "id": "19af7f9e",
   "metadata": {
    "format": "text/html"
   },
   "source": [
    "<a  class=\"jupman-sol jupman-sol-toggler\" \n",
    " onclick=\"jupman.toggleSolution(this);\" \n",
    " data-jupman-show=\"Show solution\" data-jupman-hide=\"Hide\">Show solution</a><div class=\"jupman-sol jupman-sol-code\" style=\"display:none\">  "
   ]
  },
  {
   "cell_type": "code",
   "execution_count": 55,
   "id": "dbb33d0d",
   "metadata": {
    "scrolled": true
   },
   "outputs": [
    {
     "name": "stdout",
     "output_type": "stream",
     "text": [
      "Romance: -Crime: larissa\n",
      "HORomance: Romance: ORomance: : Do not open that door\n",
      "Romance: Crime: U-Soon\n",
      "Crime: T-H-E-Romance: O-B-B-E-R-Y\n"
     ]
    }
   ],
   "source": [
    "# SOLUTION\n",
    "\n",
    "\n",
    "\n",
    "#1\n",
    "book = 'R-Clarissa'\n",
    "print(book.replace('C', 'Crime: ').replace('R', 'Romance: '))\n",
    "\n",
    "#2\n",
    "book = 'H-Do not open that door'\n",
    "print(book[0].replace('C', 'Crime: ').replace('H', 'HORROR: ').replace('R', 'Romance: ') + book[2:])\n",
    "\n",
    "#3\n",
    "book = 'R-C-U-Soon'\n",
    "print(book.replace('C-', 'Crime: ').replace('R-', 'Romance: '))\n",
    "\n",
    "#4 \n",
    "book = 'C-T-H-E-R-O-B-B-E-R-Y'\n",
    "print(book.replace('C-', 'Crime: ',1).replace('R-', 'Romance: ',1))\n",
    "\n",
    "#5 This is quite robust, IF we assume the categories are fixed and DON'T contain dashes\n",
    "#  for example an evil category could be C- expanded to C-U-L-I-N-A-R-Y (which would contain R-)\n",
    "#print(book[0:2].replace('C-', 'Crime: ').replace('R-', 'Romance: ').replace('H-', 'Horror: ') + book[2:])"
   ]
  },
  {
   "cell_type": "raw",
   "id": "c011788c",
   "metadata": {
    "format": "text/html"
   },
   "source": [
    "</div>"
   ]
  },
  {
   "cell_type": "code",
   "execution_count": 55,
   "id": "dbb33d0d-stripped",
   "metadata": {
    "scrolled": true
   },
   "outputs": [],
   "source": []
  },
  {
   "cell_type": "markdown",
   "id": "rapid-november",
   "metadata": {},
   "source": [
    "### Exercise - The Kingdom of Stringards\n",
    "\n",
    "Characters Land is ruled with the iron fist by the Dukes of Stringards. The towns managed by them are monodimensional, and can be represented as a string: the host dukes `d`, lords `s`, vassals `v` and peasants `p`. To separate the various social circles from improper mingling, some walls `|mm|`have been erected.\n",
    "\n",
    "Unfortunately, the Dukes are under siege by the tribe of the hideous Replacerons: with their short-sighted barbarian ways, they are very close to destroy the walls. To defend the town, the Stringards decide to upgrade walls, trasforming them from `|mm|` to `|MM|`.\n",
    "\n",
    "* **DO NOT** use loops nor list comprehensions\n",
    "* **DO NOT** use lists (so no split)"
   ]
  },
  {
   "cell_type": "markdown",
   "id": "05377f6a",
   "metadata": {},
   "source": [
    "#### Stringards I: upgrading all the walls\n",
    "\n",
    "Example - given:\n",
    "\n",
    "```python\n",
    "town = 'ppp|mm|vvvvvv|mm|sss|mm|dd|mm|sssss|mm|vvvvvv|mm|pppppp'\n",
    "```\n",
    "\n",
    "after your code, it must result:\n",
    "\n",
    "```python\n",
    ">>> town\n",
    "'ppp|MM|vvvvvv|MM|sss|MM|dd|MM|sssss|MM|vvvvvv|MM|pppppp'\n",
    "```\n"
   ]
  },
  {
   "cell_type": "raw",
   "id": "8dde5262",
   "metadata": {
    "format": "text/html"
   },
   "source": [
    "<a  class=\"jupman-sol jupman-sol-toggler\" \n",
    " onclick=\"jupman.toggleSolution(this);\" \n",
    " data-jupman-show=\"Show solution\" data-jupman-hide=\"Hide\">Show solution</a><div class=\"jupman-sol jupman-sol-code\" style=\"display:none\">  "
   ]
  },
  {
   "cell_type": "code",
   "execution_count": 56,
   "id": "7ba3768c",
   "metadata": {},
   "outputs": [
    {
     "name": "stdout",
     "output_type": "stream",
     "text": [
      "ppp|MM|vvvvvv|MM|sss|MM|dd|MM|sssss|MM|vvvvvv|MM|pppppp\n"
     ]
    }
   ],
   "source": [
    "\n",
    "town =     'ppp|mm|vvvvvv|mm|sss|mm|dd|mm|sssss|mm|vvvvvv|mm|pppppp'\n",
    "# result:  'ppp|MM|vvvvvv|MM|sss|MM|dd|MM|sssss|MM|vvvvvv|MM|pppppp'\n",
    "\n",
    "# write here\n",
    "\n",
    "town = town.replace('|mm|','|MM|')\n",
    "print(town)"
   ]
  },
  {
   "cell_type": "raw",
   "id": "809aa4ff",
   "metadata": {
    "format": "text/html"
   },
   "source": [
    "</div>"
   ]
  },
  {
   "cell_type": "code",
   "execution_count": 56,
   "id": "7ba3768c-stripped",
   "metadata": {},
   "outputs": [],
   "source": [
    "\n",
    "town =     'ppp|mm|vvvvvv|mm|sss|mm|dd|mm|sssss|mm|vvvvvv|mm|pppppp'\n",
    "# result:  'ppp|MM|vvvvvv|MM|sss|MM|dd|MM|sssss|MM|vvvvvv|MM|pppppp'\n",
    "\n",
    "# write here\n",
    "\n"
   ]
  },
  {
   "cell_type": "markdown",
   "id": "e11c506d",
   "metadata": {},
   "source": [
    "#### Stringards II: Outer walls\n",
    "\n",
    "Alas, the paesants don't work hard enough and there aren't enough coins to upgrade all the walls: upgrade **only the outer walls**\n",
    "\n",
    "* **DO NOT** use `if`, loops nor list comprehensions\n",
    "* **DO NOT** use lists (so no split)\n",
    "\n",
    "Example - given:\n",
    "\n",
    "```python\n",
    "town = 'ppp|mm|vvvvvv|mm|sss|mm|dd|mm|sssss|mm|vvvvvv|mm|pppppp'\n",
    "```\n",
    "\n",
    "after your code, it must result:\n",
    "\n",
    "\n",
    "```python\n",
    ">>> town\n",
    "'ppp|MM|vvvvvv|mm|sss|mm|dd|mm|sssss|mm|vvvvvv|MM|pppppp'\n",
    "```"
   ]
  },
  {
   "cell_type": "raw",
   "id": "2148fc0a",
   "metadata": {
    "format": "text/html"
   },
   "source": [
    "<a  class=\"jupman-sol jupman-sol-toggler\" \n",
    " onclick=\"jupman.toggleSolution(this);\" \n",
    " data-jupman-show=\"Show solution\" data-jupman-hide=\"Hide\">Show solution</a><div class=\"jupman-sol jupman-sol-code\" style=\"display:none\">  "
   ]
  },
  {
   "cell_type": "code",
   "execution_count": 57,
   "id": "9ffbbcd2",
   "metadata": {},
   "outputs": [
    {
     "name": "stdout",
     "output_type": "stream",
     "text": [
      "ppp|MM|vvvvvv|mm|sss|mm|dd|mm|sssss|mm|vvvvvv|MM|pppppp\n"
     ]
    }
   ],
   "source": [
    "\n",
    "town =    'ppp|mm|vvvvvv|mm|sss|mm|dd|mm|sssss|mm|vvvvvv|mm|pppppp'\n",
    "#result:  'ppp|MM|vvvvvv|mm|sss|mm|dd|mm|sssss|mm|vvvvvv|MM|pppppp'\n",
    "#town =   '|mm|vvvvvv|mm||mm|ddddd|mm|ssvvv|mm|pp'\n",
    "#result:  '|MM|vvvvvv|mm||mm|ddddd|mm|ssvvv|MM|pp'\n",
    "\n",
    "\n",
    "# write here\n",
    "\n",
    "i = town.find('|mm|')\n",
    "town = town[:i] + '|MM|' + town[i+4:]\n",
    "i = town.rfind('|mm|')\n",
    "town = town[:i] + '|MM|' + town[i+4:]\n",
    "        \n",
    "print(town)"
   ]
  },
  {
   "cell_type": "raw",
   "id": "50dc7df6",
   "metadata": {
    "format": "text/html"
   },
   "source": [
    "</div>"
   ]
  },
  {
   "cell_type": "code",
   "execution_count": 57,
   "id": "9ffbbcd2-stripped",
   "metadata": {},
   "outputs": [],
   "source": [
    "\n",
    "town =    'ppp|mm|vvvvvv|mm|sss|mm|dd|mm|sssss|mm|vvvvvv|mm|pppppp'\n",
    "#result:  'ppp|MM|vvvvvv|mm|sss|mm|dd|mm|sssss|mm|vvvvvv|MM|pppppp'\n",
    "#town =   '|mm|vvvvvv|mm||mm|ddddd|mm|ssvvv|mm|pp'\n",
    "#result:  '|MM|vvvvvv|mm||mm|ddddd|mm|ssvvv|MM|pp'\n",
    "\n",
    "\n",
    "# write here\n",
    "\n"
   ]
  },
  {
   "cell_type": "markdown",
   "id": "61147155",
   "metadata": {},
   "source": [
    "#### Stringards III: Power to the People\n",
    "\n",
    "An even greater threat plagues the Stringards: _democracy_. \n",
    "\n",
    "Following the spread of this dark evil, some cities developed right and left factions, which tend to privilege only some parts of the city. If the dominant sentiment in a city is lefty, all the houses to the left of the Duke are privileged with big gold coins, otherwise with righty sentiment houses to the right get more privileged. When a house is privileged, the correponding character is upgraded to capital.\n",
    " \n",
    "* assume that at least a block with `d` is always present, and it is unique\n",
    "* **DO NOT** use `if`, loops nor list comprehensions\n",
    "* **DO NOT** use lists (so no split)\n",
    "\n",
    "\n",
    "**3.1) privilege only left houses**\n",
    "\n",
    "```python\n",
    "town = 'ppp|mm|vvvvvv|mm|sss|mm|dd|mm|sssss|mm|vvvvvv|mm|pppppp'\n",
    "```\n",
    "\n",
    "after your code, it must result:\n",
    "\n",
    "```python\n",
    ">>> town\n",
    "'PPP|mm|VVVVVV|mm|SSS|mm|dd|mm|sssss|mm|vvvvvv|mm|pppppp'\n",
    "```"
   ]
  },
  {
   "cell_type": "raw",
   "id": "b978f8c8",
   "metadata": {
    "format": "text/html"
   },
   "source": [
    "<a  class=\"jupman-sol jupman-sol-toggler\" \n",
    " onclick=\"jupman.toggleSolution(this);\" \n",
    " data-jupman-show=\"Show solution\" data-jupman-hide=\"Hide\">Show solution</a><div class=\"jupman-sol jupman-sol-code\" style=\"display:none\">  "
   ]
  },
  {
   "cell_type": "code",
   "execution_count": 58,
   "id": "459273ec",
   "metadata": {},
   "outputs": [
    {
     "data": {
      "text/plain": [
       "'PPP|mm|VVVVVV|mm|SSS|mm|dd|mm|sssss|mm|vvvvvv|mm|pppppp'"
      ]
     },
     "execution_count": 58,
     "metadata": {},
     "output_type": "execute_result"
    }
   ],
   "source": [
    "\n",
    "town =    'ppp|mm|vvvvvv|mm|sss|mm|dd|mm|sssss|mm|vvvvvv|mm|pppppp'\n",
    "# result: 'PPP|mm|VVVVVV|mm|SSS|mm|dd|mm|sssss|mm|vvvvvv|mm|pppppp'\n",
    "#town =   '|p|ppp||p|pp|mm|vvv|vvvv|mm|sssss|mm|ddd|mm|ssss|ss|mm|vvvvvv|mm|'\n",
    "# result: '|P|PPP||P|PP|mm|VVV|VVVV|mm|SSSSS|mm|ddd|mm|ssss|ss|mm|vvvvvv|mm|'\n",
    "\n",
    "# write here\n",
    "\n",
    "dpos = town.find('d')\n",
    "town = town[:dpos].replace('p','P').replace('v','V').replace('s','S') + town[dpos:]\n",
    "\n",
    "town"
   ]
  },
  {
   "cell_type": "raw",
   "id": "d77f38c6",
   "metadata": {
    "format": "text/html"
   },
   "source": [
    "</div>"
   ]
  },
  {
   "cell_type": "code",
   "execution_count": 58,
   "id": "459273ec-stripped",
   "metadata": {},
   "outputs": [],
   "source": [
    "\n",
    "town =    'ppp|mm|vvvvvv|mm|sss|mm|dd|mm|sssss|mm|vvvvvv|mm|pppppp'\n",
    "# result: 'PPP|mm|VVVVVV|mm|SSS|mm|dd|mm|sssss|mm|vvvvvv|mm|pppppp'\n",
    "#town =   '|p|ppp||p|pp|mm|vvv|vvvv|mm|sssss|mm|ddd|mm|ssss|ss|mm|vvvvvv|mm|'\n",
    "# result: '|P|PPP||P|PP|mm|VVV|VVVV|mm|SSSSS|mm|ddd|mm|ssss|ss|mm|vvvvvv|mm|'\n",
    "\n",
    "# write here\n",
    "\n"
   ]
  },
  {
   "cell_type": "markdown",
   "id": "1f502d60",
   "metadata": {},
   "source": [
    "**3.2) privilege only right houses**\n",
    "\n",
    "Example - given:\n",
    "\n",
    "```python\n",
    "town = 'ppp|mm|vvvvvv|mm|sss|mm|dd|mm|sssss|mm|vvvvvv|mm|pppppp'\n",
    "```\n",
    "\n",
    "after your code, it must result:\n",
    "\n",
    "```python\n",
    ">>> town\n",
    "'ppp|mm|vvvvvv|mm|sss|mm|dd|mm|SSSSS|mm|VVVVVV|mm|PPPPPP'\n",
    "```"
   ]
  },
  {
   "cell_type": "raw",
   "id": "c9b57a2b",
   "metadata": {
    "format": "text/html"
   },
   "source": [
    "<a  class=\"jupman-sol jupman-sol-toggler\" \n",
    " onclick=\"jupman.toggleSolution(this);\" \n",
    " data-jupman-show=\"Show solution\" data-jupman-hide=\"Hide\">Show solution</a><div class=\"jupman-sol jupman-sol-code\" style=\"display:none\">  "
   ]
  },
  {
   "cell_type": "code",
   "execution_count": 59,
   "id": "c1b35258",
   "metadata": {},
   "outputs": [
    {
     "data": {
      "text/plain": [
       "'ppp|mm|vvvvvv|mm|sss|mm|dd|mm|SSSSS|mm|VVVVVV|mm|PPPPPP'"
      ]
     },
     "execution_count": 59,
     "metadata": {},
     "output_type": "execute_result"
    }
   ],
   "source": [
    "\n",
    "town =     'ppp|mm|vvvvvv|mm|sss|mm|dd|mm|sssss|mm|vvvvvv|mm|pppppp'\n",
    "#result: 'ppp|mm|vvvvvv|mm|sss|mm|dd|mm|SSSSS|mm|VVVVVV|mm|PPPPPP'\n",
    "#town =    '|p|ppp||p|pp|mm|vvv|vvvv|mm|sssss|mm|ddd|mm|ssss|ss|mm|vvvvvv|p|pp|mm|'\n",
    "#result: '|p|ppp||p|pp|mm|vvv|vvvv|mm|sssss|mm|ddd|mm|SSSS|SS|mm|VVVVVV|P|PP|mm|'\n",
    "\n",
    "# write here\n",
    "dpos = town.rfind('d')    \n",
    "town = town[:dpos] + town[dpos:].replace('p','P').replace('v','V').replace('s','S') \n",
    "\n",
    "town"
   ]
  },
  {
   "cell_type": "raw",
   "id": "79286506",
   "metadata": {
    "format": "text/html"
   },
   "source": [
    "</div>"
   ]
  },
  {
   "cell_type": "code",
   "execution_count": 59,
   "id": "c1b35258-stripped",
   "metadata": {},
   "outputs": [],
   "source": [
    "\n",
    "town =     'ppp|mm|vvvvvv|mm|sss|mm|dd|mm|sssss|mm|vvvvvv|mm|pppppp'\n",
    "#result: 'ppp|mm|vvvvvv|mm|sss|mm|dd|mm|SSSSS|mm|VVVVVV|mm|PPPPPP'\n",
    "#town =    '|p|ppp||p|pp|mm|vvv|vvvv|mm|sssss|mm|ddd|mm|ssss|ss|mm|vvvvvv|p|pp|mm|'\n",
    "#result: '|p|ppp||p|pp|mm|vvv|vvvv|mm|sssss|mm|ddd|mm|SSSS|SS|mm|VVVVVV|P|PP|mm|'\n",
    "\n",
    "# write here\n",
    "\n"
   ]
  },
  {
   "cell_type": "markdown",
   "id": "involved-channels",
   "metadata": {},
   "source": [
    "#### Stringards IV: Power struggle\n",
    "\n",
    "Over time, the Dukes family has expanded and alas ruthless feuds occurred. According to the number of town people to the left/right of the dukes, a corresponding number of royal members to the left/right receives support for playing their power games. A member of the dukes palace who receives support becomes uppercase. Each character `'p'`, `'v'` or `'s'` contributes support (but not the walls). The royal members who are not reached by support are slaughtered by their siblings, and substituted with a [Latin Cross Unicode](https://www.compart.com/en/unicode/U+271D) ✝ \n",
    "\n",
    "* assume at least a block of `d` is always present, and it is unique\n",
    "* assume that for each left/right house, there is _at least_ a left/right duke "
   ]
  },
  {
   "cell_type": "markdown",
   "id": "f658efb7",
   "metadata": {},
   "source": [
    "Example - given:\n",
    "\n",
    "```java\n",
    "town = \"ppp|mm|vv|mm|v|s|mm|dddddddddddddddddddddddd|mm|ss|mm|vvvvv|mm|pppp\";\n",
    "```\n",
    "\n",
    "After your code, it must print:\n",
    "\n",
    "```\n",
    "Members of the royal family:24\n",
    "                       left:7\n",
    "                      right:11\n",
    "\n",
    "After the deadly struggle, the new town is\n",
    "\n",
    "ppp|mm|vv|mm|v|s|mm|DDDDDDD✝✝✝✝✝✝DDDDDDDDDDD|mm|ss|mm|vvvvv|mm|pppp\n",
    "```"
   ]
  },
  {
   "cell_type": "raw",
   "id": "dd28d4cb",
   "metadata": {
    "format": "text/html"
   },
   "source": [
    "<a  class=\"jupman-sol jupman-sol-toggler\" \n",
    " onclick=\"jupman.toggleSolution(this);\" \n",
    " data-jupman-show=\"Show solution\" data-jupman-hide=\"Hide\">Show solution</a><div class=\"jupman-sol jupman-sol-code\" style=\"display:none\">  "
   ]
  },
  {
   "cell_type": "code",
   "execution_count": 60,
   "id": "0fd50149",
   "metadata": {},
   "outputs": [
    {
     "name": "stdout",
     "output_type": "stream",
     "text": [
      "Members of the royal family: 24\n",
      "                       left: 7\n",
      "                      right: 11\n",
      "\n",
      "After the deadly struggle, the new town is:\n",
      "\n",
      "ppp|mm|vv|mm|v|s|mm|DDDDDDD✝✝✝✝✝✝DDDDDDDDDDD|mm|ss|mm|vvvvv|mm|pppp\n"
     ]
    }
   ],
   "source": [
    "\n",
    "town =   'ppp|mm|vv|mm|v|s|mm|dddddddddddddddddddddddd|mm|ss|mm|vvvvv|mm|pppp'\n",
    "#result: 'ppp|mm|vv|mm|v|s|mm|DDDDDDD✝✝✝✝✝✝DDDDDDDDDDD|mm|ss|mm|vvvvv|mm|pppp'  tot:24 sx:7 dx:11\n",
    "#town =  'ppp|mm|ppp|mm|vv|mm|ss|mm|dddddddddddddddddddd|mm|ss|mm|mm|s|v|mm|p|p|'\n",
    "#result: 'ppp|mm|ppp|mm|vv|mm|ss|mm|DDDDDDDDDD✝✝✝✝DDDDDD|mm|ss|mm|mm|s|v|mm|p|p|' tot:20 sx:10 dx:6\n",
    "\n",
    "# write here\n",
    "\n",
    "d = town.count('d')\n",
    "\n",
    "print('Members of the royal family:', d)\n",
    "\n",
    "dpos_sx = town.find('d')\n",
    "c_sx = town.count('p', 0, dpos_sx) + town.count('v', 0, dpos_sx) + town.count('s', 0, dpos_sx)\n",
    "print('                       left:', c_sx)\n",
    "\n",
    "\n",
    "dpos_dx = town.rfind('d')\n",
    "c_dx = town.count('p', dpos_dx) + town.count('v', dpos_dx) + town.count('s', dpos_dx)\n",
    "print('                      right:', c_dx)\n",
    "\n",
    "town = town[:dpos_sx] + 'D'*c_sx + '✝'*(d-c_sx-c_dx) + 'D'*c_dx + town[dpos_dx+1:]\n",
    "\n",
    "print()\n",
    "print('After the deadly struggle, the new town is:')\n",
    "print()\n",
    "print(town) "
   ]
  },
  {
   "cell_type": "raw",
   "id": "0cf3f510",
   "metadata": {
    "format": "text/html"
   },
   "source": [
    "</div>"
   ]
  },
  {
   "cell_type": "code",
   "execution_count": 60,
   "id": "0fd50149-stripped",
   "metadata": {},
   "outputs": [],
   "source": [
    "\n",
    "town =   'ppp|mm|vv|mm|v|s|mm|dddddddddddddddddddddddd|mm|ss|mm|vvvvv|mm|pppp'\n",
    "#result: 'ppp|mm|vv|mm|v|s|mm|DDDDDDD✝✝✝✝✝✝DDDDDDDDDDD|mm|ss|mm|vvvvv|mm|pppp'  tot:24 sx:7 dx:11\n",
    "#town =  'ppp|mm|ppp|mm|vv|mm|ss|mm|dddddddddddddddddddd|mm|ss|mm|mm|s|v|mm|p|p|'\n",
    "#result: 'ppp|mm|ppp|mm|vv|mm|ss|mm|DDDDDDDDDD✝✝✝✝DDDDDD|mm|ss|mm|mm|s|v|mm|p|p|' tot:20 sx:10 dx:6\n",
    "\n",
    "# write here\n",
    "\n"
   ]
  },
  {
   "cell_type": "markdown",
   "id": "f62f64de",
   "metadata": {},
   "source": [
    "## Other exercises"
   ]
  },
  {
   "cell_type": "markdown",
   "id": "288cff92",
   "metadata": {},
   "source": [
    "**QUESTION**: For each following expression, try to find the result\n",
    "    \n",
    "1.  ```python\n",
    "    'gUrP'.lower() == 'GuRp'.lower()\n",
    "    ```\n",
    "1.  ```python    \n",
    "    'NaNo'.lower() != 'nAnO'.upper()\n",
    "    ```\n",
    "1.  ```python    \n",
    "    'O' + 'ortaggio'.replace('o','\\t \\n     ').strip() + 'O'\n",
    "    ```\n",
    "1.  ```python    \n",
    "    'DaDo'.replace('D','b') in 'barbados'\n",
    "    ```    "
   ]
  },
  {
   "cell_type": "markdown",
   "id": "927edce1",
   "metadata": {},
   "source": [
    "### -------\n",
    "<!--## Continue\n",
    "\n",
    "Go on reading notebook [Strings 5 - first challenges](https://en.softpython.org/strings/strings5-chal.html)-->"
   ]
  },
  {
   "cell_type": "code",
   "execution_count": null,
   "id": "a438736e",
   "metadata": {},
   "outputs": [],
   "source": []
  }
 ],
 "metadata": {
  "kernelspec": {
   "display_name": "Python 3 (ipykernel)",
   "language": "python",
   "name": "python3"
  },
  "language_info": {
   "codemirror_mode": {
    "name": "ipython",
    "version": 3
   },
   "file_extension": ".py",
   "mimetype": "text/x-python",
   "name": "python",
   "nbconvert_exporter": "python",
   "pygments_lexer": "ipython3",
   "version": "3.7.10"
  },
  "toc": {
   "base_numbering": 1,
   "nav_menu": {},
   "number_sections": false,
   "sideBar": true,
   "skip_h1_title": false,
   "title_cell": "Table of Contents",
   "title_sidebar": "Contents",
   "toc_cell": false,
   "toc_position": {},
   "toc_section_display": true,
   "toc_window_display": true
  }
 },
 "nbformat": 4,
 "nbformat_minor": 5
}
