{
 "cells": [
  {
   "cell_type": "code",
   "execution_count": 1,
   "metadata": {
    "nbsphinx": "hidden"
   },
   "outputs": [],
   "source": [
    "# Remember to execute this cell with Shift+Enter\n",
    "\n",
    "import jupman"
   ]
  },
  {
   "cell_type": "markdown",
   "metadata": {},
   "source": [
    "# Strings 3 - methods\n",
    "\n",
    "## [Download exercises zip](../_static/generated/strings.zip)\n",
    "\n",
    "[Browse files online](https://github.com/DavidLeoni/softpython-en/tree/master/strings)\n",
    "\n",
    "Every data type has associated particular methods for that type, let's see those associated to type string (`str`)"
   ]
  },
  {
   "cell_type": "markdown",
   "metadata": {},
   "source": [
    "\n",
    "<div class=\"alert alert-warning\">\n",
    "\n",
    "**WARNING: ALL string methods ALWAYS generate a NEW string**    \n",
    "\n",
    "The original string object is NEVER changed (because strings are immutable).\n",
    "</div>\n"
   ]
  },
  {
   "cell_type": "markdown",
   "metadata": {},
   "source": [
    "|Result|Method|Meaning|\n",
    "|---------|------|-----------|\n",
    "|str|[str.upper()](#Example---upper)|Return the string with all characters uppercase|\n",
    "|str|[str.lower()](#lower-method)|Return the string with all characters lowercase|\n",
    "|str|[str.capitalize()](#capitalize-method)|Return the string with the first uppercase character|\n",
    "|str|[str.strip(str)](#strip-method)|Remove strings from the sides|\n",
    "|str|[str.lstrip(str)](#lstrip-method)|Remove strings from left side|\n",
    "|str|[str.rstrip(str)](#rstrip-method)|Remove strings from right side|\n",
    "|str|[str.replace(str, str)](#replace-method)|Substitute substrings|\n",
    "|bool|[str.startswith(str)](#startswith-method)|Check if the string begins with another one|\n",
    "|bool|[str.endswith(str)](#endswith-method)|Check whether the string ends with another one|\n",
    "|int|[str.find(str)](#find-method)|Return the first position of a substring starting from the left|\n",
    "|int|[str.rfind(str)](#rfind-method)|Return the first position of a substring starting from the right|\n",
    "|int|[str.count(str)](#count-method)|Count the number of occurrences of a substring|\n",
    "|bool|[str.isalpha(str)](#isalpha-method)|Check if all characters are alhpabetic|\n",
    "|bool|[str.isdigit(str)](#isdigit-method)|Check if all characters are digits|\n",
    "|bool|[str.isupper](#isupper-and-islower-methods)|Check if all characters are uppercase|\n",
    "|bool|[str.islower](#isupper-and-islower-methods)|Check if all characters are lowercase|"
   ]
  },
  {
   "cell_type": "markdown",
   "metadata": {},
   "source": [
    "Note: the list is not exhaustive, here we report only the ones we use in the book. For the full list [see Python documentation](https://docs.python.org/3/library/stdtypes.html#string-methods)"
   ]
  },
  {
   "cell_type": "markdown",
   "metadata": {},
   "source": [
    "## What to do\n",
    "\n",
    "1. Unzip [exercises zip](../_static/generated/strings.zip) in a folder, you should obtain something like this:\n",
    "\n",
    "```\n",
    "strings\n",
    "    strings1.ipynb    \n",
    "    strings1-sol.ipynb         \n",
    "    strings2.ipynb\n",
    "    strings2-sol.ipynb\n",
    "    strings3.ipynb\n",
    "    strings3-sol.ipynb    \n",
    "    strings4.ipynb\n",
    "    strings4-sol.ipynb    \n",
    "    jupman.py         \n",
    "```\n",
    "\n",
    "<div class=\"alert alert-warning\">\n",
    "\n",
    "**WARNING: to correctly visualize the notebook, it MUST be in an unzipped folder !**\n",
    "</div>"
   ]
  },
  {
   "cell_type": "markdown",
   "metadata": {},
   "source": [
    "2. open Jupyter Notebook from that folder. Two things should open, first a console and then browser. The browser should show a file list: navigate the list and open the notebook `strings3.ipynb`\n",
    "\n",
    "3. Go on reading the exercises file, sometimes you will find paragraphs marked **Exercises** which will ask to write Python commands in the following cells. Exercises are graded by difficulty, from one star ✪ to four ✪✪✪✪"
   ]
  },
  {
   "cell_type": "markdown",
   "metadata": {},
   "source": [
    "Shortcut keys:\n",
    "\n",
    "- to execute Python code inside a Jupyter cell, press `Control + Enter`\n",
    "\n",
    "- to execute Python code inside a Jupyter cell AND select next cell, press `Shift + Enter`\n",
    "\n",
    "- to execute Python code inside a Jupyter cell AND a create a new cell aftwerwards, press `Alt + Enter`\n",
    "\n",
    "- If the notebooks look stuck, try to select `Kernel -> Restart`"
   ]
  },
  {
   "cell_type": "markdown",
   "metadata": {},
   "source": [
    "## Example - `upper`\n",
    "\n",
    "A method is a function of an object that takes as input the object to which is it is applied and does some calculation.\n",
    "\n",
    "The type of the string (`str`) has predefined methods like `str.upper()` which can be applied to other string objects (i.e.: `'hello'` is a string object)\n",
    "\n",
    "The method `str.upper()` takes the string to which it is applied, and creates a NEW string in which all the characters are in uppercase. To apply a method like `str.upper()` to the particular string object `'hello'`, we must write:\n",
    "\n",
    "```python\n",
    "'hello'.upper()\n",
    "``` \n",
    "\n",
    "Frst we write the object on which apply the method (`'hello'`), then a dot `.`, and afterwards the method name followed by round parenthesis. The brackets can also contain further parameters according to the method.\n",
    "\n",
    "Examples:"
   ]
  },
  {
   "cell_type": "code",
   "execution_count": 2,
   "metadata": {},
   "outputs": [
    {
     "data": {
      "text/plain": [
       "'HELLO'"
      ]
     },
     "execution_count": 2,
     "metadata": {},
     "output_type": "execute_result"
    }
   ],
   "source": [
    "'hello'.upper()"
   ]
  },
  {
   "cell_type": "code",
   "execution_count": 3,
   "metadata": {},
   "outputs": [
    {
     "data": {
      "text/plain": [
       "\"I'M IMPORTANT\""
      ]
     },
     "execution_count": 3,
     "metadata": {},
     "output_type": "execute_result"
    }
   ],
   "source": [
    "\"I'm important\".upper()"
   ]
  },
  {
   "cell_type": "markdown",
   "metadata": {},
   "source": [
    "<div class=\"alert alert-warning\">\n",
    "\n",
    "**WARNING**: like ALL string methods, the original string object on which the method is called does NOT get modified.\n",
    "\n",
    "</div>\n",
    "\n",
    "Example:"
   ]
  },
  {
   "cell_type": "code",
   "execution_count": 4,
   "metadata": {},
   "outputs": [],
   "source": [
    "x = \"hello\"\n",
    "y = x.upper()    # generates a NEW string and associates it to the variables y"
   ]
  },
  {
   "cell_type": "code",
   "execution_count": 5,
   "metadata": {},
   "outputs": [
    {
     "data": {
      "text/plain": [
       "'hello'"
      ]
     },
     "execution_count": 5,
     "metadata": {},
     "output_type": "execute_result"
    }
   ],
   "source": [
    "x                # x variable is still associated to the old string"
   ]
  },
  {
   "cell_type": "code",
   "execution_count": 6,
   "metadata": {},
   "outputs": [
    {
     "data": {
      "text/plain": [
       "'HELLO'"
      ]
     },
     "execution_count": 6,
     "metadata": {},
     "output_type": "execute_result"
    }
   ],
   "source": [
    "y                #  y variable is associated to the new string"
   ]
  },
  {
   "cell_type": "markdown",
   "metadata": {},
   "source": [
    "Have a look now at the same example in Python Tutor:"
   ]
  },
  {
   "cell_type": "code",
   "execution_count": 7,
   "metadata": {},
   "outputs": [
    {
     "name": "stdout",
     "output_type": "stream",
     "text": [
      "hello\n",
      "HELLO\n"
     ]
    },
    {
     "data": {
      "text/html": [
       "\n",
       "        <script src=\"../_static/js/pytutor-embed.bundle.min.js\" type=\"application/javascript\"></script>\n",
       "     \n",
       "        <script id=\"json-jm58ffbeb2-9e9c-4b2f-a6b9-00d40669df73\" type=\"application/json\" >\n",
       "            {\"trace\": [{\"func_name\": \"<module>\", \"heap\": {}, \"stack_to_render\": [], \"ordered_globals\": [], \"stdout\": \"\", \"globals\": {}, \"event\": \"step_line\", \"line\": 2}, {\"func_name\": \"<module>\", \"heap\": {}, \"stack_to_render\": [], \"ordered_globals\": [\"x\"], \"stdout\": \"\", \"globals\": {\"x\": \"hello\"}, \"event\": \"step_line\", \"line\": 3}, {\"func_name\": \"<module>\", \"heap\": {}, \"stack_to_render\": [], \"ordered_globals\": [\"x\", \"y\"], \"stdout\": \"\", \"globals\": {\"y\": \"HELLO\", \"x\": \"hello\"}, \"event\": \"step_line\", \"line\": 4}, {\"func_name\": \"<module>\", \"heap\": {}, \"stack_to_render\": [], \"ordered_globals\": [\"x\", \"y\"], \"stdout\": \"hello\\n\", \"globals\": {\"y\": \"HELLO\", \"x\": \"hello\"}, \"event\": \"step_line\", \"line\": 5}, {\"func_name\": \"<module>\", \"heap\": {}, \"stack_to_render\": [], \"ordered_globals\": [\"x\", \"y\"], \"stdout\": \"hello\\nHELLO\\n\", \"globals\": {\"y\": \"HELLO\", \"x\": \"hello\"}, \"event\": \"return\", \"line\": 5}], \"code\": \" \\nx = \\\"hello\\\"\\ny = x.upper()\\nprint(x)\\nprint(y)\"}\n",
       "        </script>\n",
       "        <div id=\"jm58ffbeb2-9e9c-4b2f-a6b9-00d40669df73\" class=\"pytutorVisualizer\"> </div>\n",
       " \n",
       "        <style>\n",
       "        .vizLayoutTd {\n",
       "            background-color: #fff !important;\n",
       "        }\n",
       "\n",
       "        #pyStdout {            \n",
       "            min-height:25px;\n",
       "        }\n",
       "\n",
       "        /* 'Edit this code' link, hiding because replaces browser tab !!!*/\n",
       "        #editCodeLinkDiv {\n",
       "            display:none;  \n",
       "        }\n",
       "        </style>   \n",
       "                            \n",
       "        <script>\n",
       "        (function(){\n",
       "\n",
       "            var trace = JSON.parse(document.getElementById('json-jm58ffbeb2-9e9c-4b2f-a6b9-00d40669df73').innerHTML);                                        \n",
       "            // NOTE 1: id without #\n",
       "            // NOTE 2 - maybe there are more predictable ways, but this will work anyway\n",
       "            //        - id should be number\n",
       "            visualizerIdOverride = Math.trunc(Math.random() * 100000000000)\n",
       "            addVisualizerToPage(trace, 'jm58ffbeb2-9e9c-4b2f-a6b9-00d40669df73',{'embeddedMode' : false,\n",
       "                                             'visualizerIdOverride':visualizerIdOverride})  \n",
       "            \n",
       "            \n",
       "            // set overflow for pytuts - need to do in python as css \n",
       "            // does not allow parent selection\n",
       "            var pytuts = $('.pytutorVisualizer')\n",
       "            pytuts.closest('div.output_html.rendered_html.output_result')\n",
       "                    .css('overflow-x', 'visible')\n",
       "        \n",
       "            //pytuts.closest('div.output_html.rendered_html.output_result')\n",
       "            //      .css('background-color','red')                \n",
       "            \n",
       "        })()\n",
       "        </script>\n",
       "                \n",
       "                "
      ],
      "text/plain": [
       "<IPython.core.display.HTML object>"
      ]
     },
     "execution_count": 7,
     "metadata": {},
     "output_type": "execute_result"
    }
   ],
   "source": [
    "x = \"hello\"\n",
    "y = x.upper()\n",
    "print(x)\n",
    "print(y)\n",
    "\n",
    "jupman.pytut()"
   ]
  },
  {
   "cell_type": "markdown",
   "metadata": {},
   "source": [
    "## Exercise - walking\n",
    "\n",
    "Write some code which given a string `x` (i.e.: `x='walking'`) prints twice the row:\n",
    "\n",
    "```\n",
    "walking WALKING walking WALKING\n",
    "walking WALKING walking WALKING\n",
    "```\n",
    "\n",
    "* **DO NOT** create new variables\n",
    "* your code must work with any string"
   ]
  },
  {
   "cell_type": "code",
   "execution_count": 8,
   "metadata": {},
   "outputs": [
    {
     "name": "stdout",
     "output_type": "stream",
     "text": [
      "walking WALKING walking WALKING\n",
      "walking WALKING walking WALKING\n"
     ]
    }
   ],
   "source": [
    "x = 'walking'\n",
    "\n",
    "print(x, x.upper(), x, x.upper())\n",
    "print(x, x.upper(), x, x.upper())"
   ]
  },
  {
   "cell_type": "markdown",
   "metadata": {},
   "source": [
    "**Help**: If you are not sure about a method (for example, `strip`), you can ask Python for help this way:\n",
    "\n",
    "<div class=\"alert alert-warning\">\n",
    "\n",
    "**WARNING: when using help, DON'T put parenthesis after the method name !!**\n",
    "\n",
    "</div>\n"
   ]
  },
  {
   "cell_type": "code",
   "execution_count": 9,
   "metadata": {},
   "outputs": [
    {
     "name": "stdout",
     "output_type": "stream",
     "text": [
      "Help on built-in function strip:\n",
      "\n",
      "strip(...) method of builtins.str instance\n",
      "    S.strip([chars]) -> str\n",
      "    \n",
      "    Return a copy of the string S with leading and trailing\n",
      "    whitespace removed.\n",
      "    If chars is given and not None, remove characters in chars instead.\n",
      "\n"
     ]
    }
   ],
   "source": [
    "help(\"hello\".strip)"
   ]
  },
  {
   "cell_type": "markdown",
   "metadata": {},
   "source": [
    "## `lower` method\n",
    "\n",
    "Return the string with all lowercase characters"
   ]
  },
  {
   "cell_type": "code",
   "execution_count": 10,
   "metadata": {},
   "outputs": [
    {
     "name": "stdout",
     "output_type": "stream",
     "text": [
      "hello world\n"
     ]
    }
   ],
   "source": [
    "my_string = \"HEllo WorLd\"\n",
    "\n",
    "another_string = my_string.lower()\n",
    "\n",
    "print(another_string)"
   ]
  },
  {
   "cell_type": "code",
   "execution_count": 11,
   "metadata": {},
   "outputs": [
    {
     "name": "stdout",
     "output_type": "stream",
     "text": [
      "HEllo WorLd\n"
     ]
    }
   ],
   "source": [
    "print(my_string)  # didn't change"
   ]
  },
  {
   "cell_type": "markdown",
   "metadata": {},
   "source": [
    "### Exercise - lowermid\n",
    "\n",
    "Write some code that given any string `x` of odd length, prints a new string like `x` having the mid-character as lowercase.\n",
    "\n",
    "* your code must work with any string !\n",
    "* **HINT**: to calculate the position of the mid-character, use integer division with the operator `//`\n",
    "\n",
    "Example 1 - given:\n",
    "\n",
    "```python\n",
    "x = 'ADORATION'\n",
    "```\n",
    "\n",
    "it should print:\n",
    "\n",
    "`ADORaTION`\n",
    "\n",
    "Example 2 - given:\n",
    "\n",
    "```python\n",
    "x = 'LEADINg'\n",
    "```\n",
    "\n",
    "it should print:\n",
    "\n",
    "` LEAdINg`\n"
   ]
  },
  {
   "cell_type": "code",
   "execution_count": 12,
   "metadata": {},
   "outputs": [
    {
     "name": "stdout",
     "output_type": "stream",
     "text": [
      "ADORaTION\n"
     ]
    }
   ],
   "source": [
    "    #012345678\n",
    "x = 'ADORATION'\n",
    "#x = 'LEADINg'  \n",
    "k = len(x) // 2\n",
    "\n",
    "print(x[:k] + x[k].lower() + x[k+1:])"
   ]
  },
  {
   "cell_type": "markdown",
   "metadata": {},
   "source": [
    "## `capitalize` method"
   ]
  },
  {
   "cell_type": "markdown",
   "metadata": {},
   "source": [
    "`capitalize()` creates a NEW string having only the FIRST character as uppercase:"
   ]
  },
  {
   "cell_type": "code",
   "execution_count": 13,
   "metadata": {},
   "outputs": [
    {
     "data": {
      "text/plain": [
       "'Artisan'"
      ]
     },
     "execution_count": 13,
     "metadata": {},
     "output_type": "execute_result"
    }
   ],
   "source": [
    "\"artisan\".capitalize()"
   ]
  },
  {
   "cell_type": "code",
   "execution_count": 14,
   "metadata": {},
   "outputs": [
    {
     "data": {
      "text/plain": [
       "'Premium'"
      ]
     },
     "execution_count": 14,
     "metadata": {},
     "output_type": "execute_result"
    }
   ],
   "source": [
    "\"premium\".capitalize()"
   ]
  },
  {
   "cell_type": "code",
   "execution_count": 15,
   "metadata": {},
   "outputs": [],
   "source": [
    "x = 'goat'\n",
    "y = 'goat'.capitalize()"
   ]
  },
  {
   "cell_type": "code",
   "execution_count": 16,
   "metadata": {},
   "outputs": [
    {
     "data": {
      "text/plain": [
       "'goat'"
      ]
     },
     "execution_count": 16,
     "metadata": {},
     "output_type": "execute_result"
    }
   ],
   "source": [
    "x      #  x remains associate to the old value"
   ]
  },
  {
   "cell_type": "code",
   "execution_count": 17,
   "metadata": {},
   "outputs": [
    {
     "data": {
      "text/plain": [
       "'Goat'"
      ]
     },
     "execution_count": 17,
     "metadata": {},
     "output_type": "execute_result"
    }
   ],
   "source": [
    "y      #  y is associated to the new string"
   ]
  },
  {
   "cell_type": "markdown",
   "metadata": {},
   "source": [
    "### Exercise - Your Excellence\n",
    "\n",
    "Write some code which given two strings `x` and `y` returns the two strings concatenated, separating them with a space and both as lowercase except the first two characters which must be uppercase\n",
    "\n",
    "\n",
    "Example 1 - given:\n",
    "\n",
    "```python\n",
    "x = 'yoUR'\n",
    "y = 'exCelLenCE'\n",
    "```\n",
    "\n",
    "it must print:\n",
    "\n",
    "```\n",
    "Your Excellence\n",
    "```\n",
    "\n",
    "Example 2 - given:\n",
    "\n",
    "```python\n",
    "x = 'hEr'\n",
    "y = 'maJEsty'\n",
    "```\n",
    "\n",
    "it must print:\n",
    "\n",
    "```\n",
    "Her Majesty\n",
    "```\n"
   ]
  },
  {
   "cell_type": "raw",
   "id": "angry-series",
   "metadata": {
    "format": "text/html"
   },
   "source": [
    "<a  class=\"jupman-sol jupman-sol-toggler\" \n",
    " onclick=\"jupman.toggleSolution(this);\" \n",
    " data-jupman-show=\"Show solution\" data-jupman-hide=\"Hide\">Show solution</a><div class=\"jupman-sol jupman-sol-code\" style=\"display:none\">  "
   ]
  },
  {
   "cell_type": "code",
   "execution_count": 18,
   "metadata": {},
   "outputs": [
    {
     "name": "stdout",
     "output_type": "stream",
     "text": [
      "Your Excellence\n"
     ]
    }
   ],
   "source": [
    "x,y = 'yoUR','exCelLenCE'\n",
    "#x,y = 'hEr','maJEsty'\n",
    "\n",
    "# write here\n",
    "\n",
    "print(x.capitalize() + \" \" + y.capitalize())"
   ]
  },
  {
   "cell_type": "raw",
   "id": "lyric-vinyl",
   "metadata": {
    "format": "text/html"
   },
   "source": [
    "</div>"
   ]
  },
  {
   "cell_type": "code",
   "execution_count": 18,
   "metadata": {},
   "outputs": [
    {
     "name": "stdout",
     "output_type": "stream",
     "text": [
      "Your Excellence\n"
     ]
    }
   ],
   "source": [
    "x,y = 'yoUR','exCelLenCE'\n",
    "#x,y = 'hEr','maJEsty'\n",
    "\n",
    "# write here\n",
    "\n"
   ]
  },
  {
   "cell_type": "markdown",
   "metadata": {},
   "source": [
    "## `strip` method\n",
    "\n",
    "Eliminates white spaces, tabs and linefeeds from the _sides_ of the string. In general, this set of characters is called _blanks._\n",
    "\n",
    "**NOTE**: it does NOT removes _blanks_ inside string words! It only looks on the sides."
   ]
  },
  {
   "cell_type": "code",
   "execution_count": 19,
   "metadata": {},
   "outputs": [],
   "source": [
    "x = ' \\t\\n\\n\\t carpe diem \\t  '   # we put white space, tab and line feeds at the sides"
   ]
  },
  {
   "cell_type": "code",
   "execution_count": 20,
   "metadata": {},
   "outputs": [
    {
     "data": {
      "text/plain": [
       "' \\t\\n\\n\\t carpe diem \\t  '"
      ]
     },
     "execution_count": 20,
     "metadata": {},
     "output_type": "execute_result"
    }
   ],
   "source": [
    "x"
   ]
  },
  {
   "cell_type": "code",
   "execution_count": 21,
   "metadata": {},
   "outputs": [
    {
     "name": "stdout",
     "output_type": "stream",
     "text": [
      " \t\n",
      "\n",
      "\t carpe diem \t  \n"
     ]
    }
   ],
   "source": [
    "print(x)"
   ]
  },
  {
   "cell_type": "code",
   "execution_count": 22,
   "metadata": {},
   "outputs": [
    {
     "data": {
      "text/plain": [
       "20"
      ]
     },
     "execution_count": 22,
     "metadata": {},
     "output_type": "execute_result"
    }
   ],
   "source": [
    "len(x)   # remember that special characters like \\t and \\n occupy 1 character"
   ]
  },
  {
   "cell_type": "code",
   "execution_count": 23,
   "metadata": {},
   "outputs": [],
   "source": [
    "y = x.strip()"
   ]
  },
  {
   "cell_type": "code",
   "execution_count": 24,
   "metadata": {},
   "outputs": [
    {
     "data": {
      "text/plain": [
       "'carpe diem'"
      ]
     },
     "execution_count": 24,
     "metadata": {},
     "output_type": "execute_result"
    }
   ],
   "source": [
    "y"
   ]
  },
  {
   "cell_type": "code",
   "execution_count": 25,
   "metadata": {},
   "outputs": [
    {
     "name": "stdout",
     "output_type": "stream",
     "text": [
      "carpe diem\n"
     ]
    }
   ],
   "source": [
    "print(y)"
   ]
  },
  {
   "cell_type": "code",
   "execution_count": 26,
   "metadata": {},
   "outputs": [
    {
     "data": {
      "text/plain": [
       "10"
      ]
     },
     "execution_count": 26,
     "metadata": {},
     "output_type": "execute_result"
    }
   ],
   "source": [
    "len(y)"
   ]
  },
  {
   "cell_type": "code",
   "execution_count": 27,
   "metadata": {},
   "outputs": [
    {
     "data": {
      "text/plain": [
       "' \\t\\n\\n\\t carpe diem \\t  '"
      ]
     },
     "execution_count": 27,
     "metadata": {},
     "output_type": "execute_result"
    }
   ],
   "source": [
    "x      # IMPORTANT: x is still associated to the old string !"
   ]
  },
  {
   "cell_type": "markdown",
   "metadata": {},
   "source": [
    "### Specificying character to strip\n",
    "\n",
    "If you only want Python to remove some specific character, you can specify them in parenthesis. Let's try to specify only one:"
   ]
  },
  {
   "cell_type": "code",
   "execution_count": 28,
   "metadata": {},
   "outputs": [
    {
     "data": {
      "text/plain": [
       "'alsa'"
      ]
     },
     "execution_count": 28,
     "metadata": {},
     "output_type": "execute_result"
    }
   ],
   "source": [
    "'salsa'.strip('s')    #  not internal `s` is not stripped"
   ]
  },
  {
   "cell_type": "markdown",
   "metadata": {},
   "source": [
    "If we specify two or more, Python removes all the characters it can find from the sides \n",
    "\n",
    "Note the order in which you specify the characters does **not** matter:"
   ]
  },
  {
   "cell_type": "code",
   "execution_count": 29,
   "metadata": {},
   "outputs": [
    {
     "data": {
      "text/plain": [
       "'ust'"
      ]
     },
     "execution_count": 29,
     "metadata": {},
     "output_type": "execute_result"
    }
   ],
   "source": [
    "'caustic'.strip('aci')"
   ]
  },
  {
   "cell_type": "markdown",
   "metadata": {},
   "source": [
    "<div class=\"alert alert-warning\">\n",
    "\n",
    "**WARNING: If you specify characters, Python doesn't try anymore to remove blanks!**\n",
    "</div>"
   ]
  },
  {
   "cell_type": "code",
   "execution_count": 30,
   "metadata": {},
   "outputs": [
    {
     "data": {
      "text/plain": [
       "'ouquet  '"
      ]
     },
     "execution_count": 30,
     "metadata": {},
     "output_type": "execute_result"
    }
   ],
   "source": [
    "'bouquet  '.strip('b')    # it won't strip right spaces !"
   ]
  },
  {
   "cell_type": "code",
   "execution_count": 31,
   "metadata": {},
   "outputs": [
    {
     "data": {
      "text/plain": [
       "'\\tbouquet  '"
      ]
     },
     "execution_count": 31,
     "metadata": {},
     "output_type": "execute_result"
    }
   ],
   "source": [
    "'\\tbouquet  '.strip('b')    # ... nor strip left blanks such as tab"
   ]
  },
  {
   "cell_type": "markdown",
   "metadata": {},
   "source": [
    "According to the same principle, if you specify a space `' '`, then Python will **only** remove spaces and won't look for other blanks!!"
   ]
  },
  {
   "cell_type": "code",
   "execution_count": 32,
   "metadata": {},
   "outputs": [
    {
     "data": {
      "text/plain": [
       "'careful! \\t'"
      ]
     },
     "execution_count": 32,
     "metadata": {},
     "output_type": "execute_result"
    }
   ],
   "source": [
    "'  careful! \\t'.strip(' ')   # strips only on the left!"
   ]
  },
  {
   "cell_type": "markdown",
   "metadata": {},
   "source": [
    "**QUESTION**: for each of the following expressions, try to guess which result it produces (or if it gives an error):\n",
    "\n",
    "\n",
    "1.  ```python\n",
    "    '\\ttumultuous\\n'.strip()\n",
    "    ```\n",
    "1.  ```python\n",
    "    ' a b c '.strip()\n",
    "    ```\n",
    "1.  ```python\n",
    "    '\\ta\\tb\\t'.strip()\n",
    "    ```\n",
    "1.  ```python\n",
    "    '\\\\tMmm'.strip()\n",
    "    ```\n",
    "1.  ```python\n",
    "    'sky diving'.strip('sky')\n",
    "    ```\n",
    "1.  ```python\n",
    "    'anacondas'.strip('sad')\n",
    "    ```    \n",
    "1.  ```python\n",
    "    '\\nno way '.strip(' ')\n",
    "    ```            \n",
    "1.  ```python\n",
    "    '\\nno way '.strip('\\\\n')\n",
    "    ```\n",
    "1.  ```python\n",
    "    '\\nno way '.strip('\\n')\n",
    "    ```                \n",
    "1.  ```python\n",
    "    'salsa'.strip('as')\n",
    "    ```\n",
    "1.  ```python\n",
    "    '\\t ACE '.strip('\\t')\n",
    "    ```\n",
    "1.  ```python\n",
    "    ' so what? '.strip(\"\")\n",
    "    ```\n",
    "1.  ```python\n",
    "    str(-3+1).strip(\"+\"+\"-\")\n",
    "    ```    "
   ]
  },
  {
   "cell_type": "markdown",
   "metadata": {},
   "source": [
    "## `lstrip` method\n",
    "\n",
    "Eliminates white spaces, tab and line feeds from _left side_ of the string.\n",
    "\n",
    "**NOTE**: does NOT remove _blanks_ between words of the string! Only those on left side."
   ]
  },
  {
   "cell_type": "code",
   "execution_count": 33,
   "metadata": {},
   "outputs": [],
   "source": [
    "x = '\\n \\t the street \\t '"
   ]
  },
  {
   "cell_type": "code",
   "execution_count": 34,
   "metadata": {},
   "outputs": [
    {
     "data": {
      "text/plain": [
       "'\\n \\t the street \\t '"
      ]
     },
     "execution_count": 34,
     "metadata": {},
     "output_type": "execute_result"
    }
   ],
   "source": [
    "x"
   ]
  },
  {
   "cell_type": "code",
   "execution_count": 35,
   "metadata": {},
   "outputs": [
    {
     "data": {
      "text/plain": [
       "17"
      ]
     },
     "execution_count": 35,
     "metadata": {},
     "output_type": "execute_result"
    }
   ],
   "source": [
    "len(x)"
   ]
  },
  {
   "cell_type": "code",
   "execution_count": 36,
   "metadata": {},
   "outputs": [],
   "source": [
    "y = x.lstrip()"
   ]
  },
  {
   "cell_type": "code",
   "execution_count": 37,
   "metadata": {},
   "outputs": [
    {
     "data": {
      "text/plain": [
       "'the street \\t '"
      ]
     },
     "execution_count": 37,
     "metadata": {},
     "output_type": "execute_result"
    }
   ],
   "source": [
    "y"
   ]
  },
  {
   "cell_type": "code",
   "execution_count": 38,
   "metadata": {},
   "outputs": [
    {
     "data": {
      "text/plain": [
       "13"
      ]
     },
     "execution_count": 38,
     "metadata": {},
     "output_type": "execute_result"
    }
   ],
   "source": [
    "len(y)"
   ]
  },
  {
   "cell_type": "code",
   "execution_count": 39,
   "metadata": {},
   "outputs": [
    {
     "data": {
      "text/plain": [
       "'\\n \\t the street \\t '"
      ]
     },
     "execution_count": 39,
     "metadata": {},
     "output_type": "execute_result"
    }
   ],
   "source": [
    "x       # IMPORTANT: x is still associated to the old string !"
   ]
  },
  {
   "cell_type": "markdown",
   "metadata": {},
   "source": [
    "## `rstrip` method\n",
    "\n",
    "Eliminates white spaces, tab and line feeds from _left side_ of the string.\n",
    "\n",
    "**NOTE**: does NOT remove _blanks_ between words of the string! Only those on right side."
   ]
  },
  {
   "cell_type": "code",
   "execution_count": 40,
   "metadata": {},
   "outputs": [],
   "source": [
    "x = '\\n \\t the lighthouse \\t '"
   ]
  },
  {
   "cell_type": "code",
   "execution_count": 41,
   "metadata": {},
   "outputs": [
    {
     "data": {
      "text/plain": [
       "'\\n \\t the lighthouse \\t '"
      ]
     },
     "execution_count": 41,
     "metadata": {},
     "output_type": "execute_result"
    }
   ],
   "source": [
    "x"
   ]
  },
  {
   "cell_type": "code",
   "execution_count": 42,
   "metadata": {},
   "outputs": [
    {
     "data": {
      "text/plain": [
       "21"
      ]
     },
     "execution_count": 42,
     "metadata": {},
     "output_type": "execute_result"
    }
   ],
   "source": [
    "len(x)"
   ]
  },
  {
   "cell_type": "code",
   "execution_count": 43,
   "metadata": {},
   "outputs": [],
   "source": [
    "y = x.rstrip()"
   ]
  },
  {
   "cell_type": "code",
   "execution_count": 44,
   "metadata": {},
   "outputs": [
    {
     "data": {
      "text/plain": [
       "'\\n \\t the lighthouse'"
      ]
     },
     "execution_count": 44,
     "metadata": {},
     "output_type": "execute_result"
    }
   ],
   "source": [
    "y"
   ]
  },
  {
   "cell_type": "code",
   "execution_count": 45,
   "metadata": {},
   "outputs": [
    {
     "data": {
      "text/plain": [
       "18"
      ]
     },
     "execution_count": 45,
     "metadata": {},
     "output_type": "execute_result"
    }
   ],
   "source": [
    "len(y)"
   ]
  },
  {
   "cell_type": "code",
   "execution_count": 46,
   "metadata": {},
   "outputs": [
    {
     "data": {
      "text/plain": [
       "'\\n \\t the lighthouse \\t '"
      ]
     },
     "execution_count": 46,
     "metadata": {},
     "output_type": "execute_result"
    }
   ],
   "source": [
    "x       # IMPORTANT: x è is still associated to the old string !"
   ]
  },
  {
   "cell_type": "markdown",
   "metadata": {},
   "source": [
    "### Exercise - hatespace\n",
    "\n",
    "Given a string `x` which may contain some _blanks_ (spaces, control characters like  `\\t` and `\\n`, ...) from begin to end, write some code which prints the string without _blanks_ and the strings `'START'` and `'END'` at the sides\n",
    "\n",
    "Example - given:\n",
    "\n",
    "```python\n",
    "x = ' \\t  \\n \\n hatespace\\n   \\t \\n'\n",
    "```\n",
    "\n",
    "prints\n",
    "\n",
    "```\n",
    "STARThatespaceEND\n",
    "```\n"
   ]
  },
  {
   "cell_type": "raw",
   "id": "interesting-israel",
   "metadata": {
    "format": "text/html"
   },
   "source": [
    "<a  class=\"jupman-sol jupman-sol-toggler\" \n",
    " onclick=\"jupman.toggleSolution(this);\" \n",
    " data-jupman-show=\"Show solution\" data-jupman-hide=\"Hide\">Show solution</a><div class=\"jupman-sol jupman-sol-code\" style=\"display:none\">  "
   ]
  },
  {
   "cell_type": "code",
   "execution_count": 47,
   "metadata": {},
   "outputs": [
    {
     "name": "stdout",
     "output_type": "stream",
     "text": [
      "STARThatespaceEND\n"
     ]
    }
   ],
   "source": [
    "# write here\n",
    "\n",
    "x = ' \\t  \\n \\n hatespace\\n   \\t \\n'\n",
    "\n",
    "print('START' + x.strip() + 'END')"
   ]
  },
  {
   "cell_type": "raw",
   "id": "owned-intention",
   "metadata": {
    "format": "text/html"
   },
   "source": [
    "</div>"
   ]
  },
  {
   "cell_type": "code",
   "execution_count": 47,
   "metadata": {},
   "outputs": [
    {
     "name": "stdout",
     "output_type": "stream",
     "text": [
      "STARThatespaceEND\n"
     ]
    }
   ],
   "source": [
    "# write here\n",
    "\n"
   ]
  },
  {
   "cell_type": "markdown",
   "metadata": {},
   "source": [
    "### Exercise - Bad to the bone\n",
    "\n",
    "You have an uppercase string `s` which contains at the sides some stuff you want to remove: `punctuation` , a lowercase `char` and some blanks. Write some code to perform the removal\n",
    "\n",
    "Example - given:\n",
    "\n",
    "```python\n",
    "char = 'b'\n",
    "punctuation = '!?.;,'\n",
    "s = ' \\t\\n...bbbbbBAD TO THE BONE\\n!'\n",
    "```\n",
    "\n",
    "your code should show:\n",
    "\n",
    "```\n",
    "'BAD TO THE BONE'\n",
    "```\n",
    "\n",
    "* use only `strip` (or `lstrip` and `rstrip`) methods (if necessary, you can do repeated calls)"
   ]
  },
  {
   "cell_type": "raw",
   "id": "liable-ontario",
   "metadata": {
    "format": "text/html"
   },
   "source": [
    "<a  class=\"jupman-sol jupman-sol-toggler\" \n",
    " onclick=\"jupman.toggleSolution(this);\" \n",
    " data-jupman-show=\"Show solution\" data-jupman-hide=\"Hide\">Show solution</a><div class=\"jupman-sol jupman-sol-code\" style=\"display:none\">  "
   ]
  },
  {
   "cell_type": "code",
   "execution_count": 48,
   "metadata": {},
   "outputs": [
    {
     "data": {
      "text/plain": [
       "'BAD TO THE BONE'"
      ]
     },
     "execution_count": 48,
     "metadata": {},
     "output_type": "execute_result"
    }
   ],
   "source": [
    "char = 'b'\n",
    "punctuation = '!?.;,'\n",
    "s = ' \\t\\n...bbbbbBAD TO THE BONE\\n!'\n",
    "\n",
    "# write here\n",
    "s.strip().strip(char + punctuation).strip()"
   ]
  },
  {
   "cell_type": "raw",
   "id": "furnished-fleet",
   "metadata": {
    "format": "text/html"
   },
   "source": [
    "</div>"
   ]
  },
  {
   "cell_type": "code",
   "execution_count": 48,
   "metadata": {},
   "outputs": [
    {
     "data": {
      "text/plain": [
       "'BAD TO THE BONE'"
      ]
     },
     "execution_count": 48,
     "metadata": {},
     "output_type": "execute_result"
    }
   ],
   "source": [
    "char = 'b'\n",
    "punctuation = '!?.;,'\n",
    "s = ' \\t\\n...bbbbbBAD TO THE BONE\\n!'\n",
    "\n",
    "# write here\n",
    "\n"
   ]
  },
  {
   "cell_type": "markdown",
   "metadata": {},
   "source": [
    "## `replace` method\n",
    "\n",
    "`str.replace` takes two strings and looks in the string on which the method is called for occurrences of the first string parameter, which are substituted with the second parameter.  Note it gives back a NEW string with all substitutions performed.\n",
    "\n",
    "Example:"
   ]
  },
  {
   "cell_type": "code",
   "execution_count": 49,
   "metadata": {},
   "outputs": [
    {
     "data": {
      "text/plain": [
       "'the rain runs off the racks'"
      ]
     },
     "execution_count": 49,
     "metadata": {},
     "output_type": "execute_result"
    }
   ],
   "source": [
    "\"the train runs off the tracks\".replace('tra', 'ra')"
   ]
  },
  {
   "cell_type": "code",
   "execution_count": 50,
   "metadata": {},
   "outputs": [
    {
     "data": {
      "text/plain": [
       "'lit bee'"
      ]
     },
     "execution_count": 50,
     "metadata": {},
     "output_type": "execute_result"
    }
   ],
   "source": [
    "\"little beetle\".replace('tle', '')"
   ]
  },
  {
   "cell_type": "code",
   "execution_count": 51,
   "metadata": {},
   "outputs": [
    {
     "data": {
      "text/plain": [
       "'talking and joking'"
      ]
     },
     "execution_count": 51,
     "metadata": {},
     "output_type": "execute_result"
    }
   ],
   "source": [
    "\"talking and joking\".replace('ING', 'ed')  # it's case sensitive"
   ]
  },
  {
   "cell_type": "code",
   "execution_count": 52,
   "metadata": {},
   "outputs": [
    {
     "data": {
      "text/plain": [
       "'TALKED AND JOKED'"
      ]
     },
     "execution_count": 52,
     "metadata": {},
     "output_type": "execute_result"
    }
   ],
   "source": [
    "\"TALKING AND JOKING\".replace('ING', 'ED')  # here they are"
   ]
  },
  {
   "cell_type": "markdown",
   "metadata": {},
   "source": [
    "As always with strings, `replace` DOES NOT modify the string on which it is called:"
   ]
  },
  {
   "cell_type": "code",
   "execution_count": 53,
   "metadata": {},
   "outputs": [],
   "source": [
    "x = \"On the bench\""
   ]
  },
  {
   "cell_type": "code",
   "execution_count": 54,
   "metadata": {},
   "outputs": [],
   "source": [
    "y = x.replace('bench', 'bench the goat is alive')"
   ]
  },
  {
   "cell_type": "code",
   "execution_count": 55,
   "metadata": {},
   "outputs": [
    {
     "data": {
      "text/plain": [
       "'On the bench the goat is alive'"
      ]
     },
     "execution_count": 55,
     "metadata": {},
     "output_type": "execute_result"
    }
   ],
   "source": [
    "y"
   ]
  },
  {
   "cell_type": "code",
   "execution_count": 56,
   "metadata": {},
   "outputs": [
    {
     "data": {
      "text/plain": [
       "'On the bench'"
      ]
     },
     "execution_count": 56,
     "metadata": {},
     "output_type": "execute_result"
    }
   ],
   "source": [
    "x  # IMPORTANT: x is still associated to the old string !"
   ]
  },
  {
   "cell_type": "markdown",
   "metadata": {},
   "source": [
    "If you give an optional third argument `count`, only the first `count` occurrences will be replaced:"
   ]
  },
  {
   "cell_type": "code",
   "execution_count": 57,
   "metadata": {},
   "outputs": [
    {
     "data": {
      "text/plain": [
       "'TALKED AND JOKED AND LAUGHING'"
      ]
     },
     "execution_count": 57,
     "metadata": {},
     "output_type": "execute_result"
    }
   ],
   "source": [
    "\"TALKING AND JOKING AND LAUGHING\".replace('ING', 'ED', 2)  # replaces only first 2 occurrences"
   ]
  },
  {
   "cell_type": "markdown",
   "metadata": {},
   "source": [
    "**QUESTION**: for each of the following expressions, try to guess which result it produces (or if it gives an error)\n",
    "\n",
    "1.  ```python\n",
    "    '$£ciao£$'.replace('£','').replace('$','')\n",
    "    ```    \n",
    "    \n",
    "1.  ```python\n",
    "    '$£ciao£$'.strip('£').strip('$')\n",
    "    ```"
   ]
  },
  {
   "cell_type": "markdown",
   "metadata": {},
   "source": [
    "### Exercise - substitute\n",
    "\n",
    "Given a string `x`, write some code to print a string like `x` but with all occurrences of `bab` substituted by `dada`"
   ]
  },
  {
   "cell_type": "markdown",
   "metadata": {},
   "source": [
    "Example - given:\n",
    "\n",
    "```python\n",
    "x = 'kljsfsdbabòkkrbabej'\n",
    "```\n",
    "\n",
    "it should print\n",
    "\n",
    "```bash\n",
    "kljsfsddadaòkkrdadaej\n",
    "```"
   ]
  },
  {
   "cell_type": "raw",
   "id": "rolled-settle",
   "metadata": {
    "format": "text/html"
   },
   "source": [
    "<a  class=\"jupman-sol jupman-sol-toggler\" \n",
    " onclick=\"jupman.toggleSolution(this);\" \n",
    " data-jupman-show=\"Show solution\" data-jupman-hide=\"Hide\">Show solution</a><div class=\"jupman-sol jupman-sol-code\" style=\"display:none\">  "
   ]
  },
  {
   "cell_type": "code",
   "execution_count": 58,
   "metadata": {},
   "outputs": [
    {
     "name": "stdout",
     "output_type": "stream",
     "text": [
      "kljsfsddadaòkkrdadaej\n"
     ]
    }
   ],
   "source": [
    "# write here\n",
    "\n",
    "x = 'kljsfsdbabòkkrbabej'\n",
    "print(x.replace('bab', 'dada'))"
   ]
  },
  {
   "cell_type": "raw",
   "id": "destroyed-assignment",
   "metadata": {
    "format": "text/html"
   },
   "source": [
    "</div>"
   ]
  },
  {
   "cell_type": "code",
   "execution_count": 58,
   "metadata": {},
   "outputs": [
    {
     "name": "stdout",
     "output_type": "stream",
     "text": [
      "kljsfsddadaòkkrdadaej\n"
     ]
    }
   ],
   "source": [
    "# write here\n",
    "\n"
   ]
  },
  {
   "cell_type": "markdown",
   "metadata": {},
   "source": [
    "## `startswith` method\n",
    "\n",
    "`str.startswith` takes as parameter a string and returns `True` if the string before the dot begins with the string passed as parameter. Example:"
   ]
  },
  {
   "cell_type": "code",
   "execution_count": 59,
   "metadata": {},
   "outputs": [
    {
     "data": {
      "text/plain": [
       "True"
      ]
     },
     "execution_count": 59,
     "metadata": {},
     "output_type": "execute_result"
    }
   ],
   "source": [
    "\"the dog is barking in the road\".startswith('the dog')"
   ]
  },
  {
   "cell_type": "code",
   "execution_count": 60,
   "metadata": {},
   "outputs": [
    {
     "data": {
      "text/plain": [
       "False"
      ]
     },
     "execution_count": 60,
     "metadata": {},
     "output_type": "execute_result"
    }
   ],
   "source": [
    "\"the dog is barking in the road\".startswith('is barking')"
   ]
  },
  {
   "cell_type": "code",
   "execution_count": 61,
   "metadata": {},
   "outputs": [
    {
     "data": {
      "text/plain": [
       "False"
      ]
     },
     "execution_count": 61,
     "metadata": {},
     "output_type": "execute_result"
    }
   ],
   "source": [
    "\"the dog is barking in the road\".startswith('THE DOG')  # uppercase is different from lowercase"
   ]
  },
  {
   "cell_type": "code",
   "execution_count": 62,
   "metadata": {},
   "outputs": [
    {
     "data": {
      "text/plain": [
       "True"
      ]
     },
     "execution_count": 62,
     "metadata": {},
     "output_type": "execute_result"
    }
   ],
   "source": [
    "\"THE DOG BARKS IN THE ROAD\".startswith('THE DOG')       # uppercase is different from lowercase"
   ]
  },
  {
   "cell_type": "markdown",
   "metadata": {},
   "source": [
    "### Exercise - by Jove"
   ]
  },
  {
   "cell_type": "markdown",
   "metadata": {},
   "source": [
    "Write some code which given any three strings `x`, `y` and `z`, prints `True` if both `x` and `y` start with string `z`, otherwise prints `False`\n",
    "\n",
    "Example 1 - given:\n",
    "\n",
    "```python\n",
    "x = 'by Jove'\n",
    "y = 'by Zeus'\n",
    "z = 'by'\n",
    "```\n",
    "\n",
    "it should print:\n",
    "\n",
    "```\n",
    "True\n",
    "```\n",
    "\n",
    "\n",
    "Example 2 - given:\n",
    "\n",
    "```python\n",
    "x = 'by Jove'\n",
    "y = 'by Zeus'\n",
    "z = 'from'\n",
    "```\n",
    "\n",
    "it should print:\n",
    "\n",
    "```\n",
    "False\n",
    "```\n",
    "\n",
    "Example 3 - given:\n",
    "\n",
    "```python\n",
    "x = 'from Jove'\n",
    "y = 'by Zeus'\n",
    "z = 'by'\n",
    "```\n",
    "\n",
    "it should print:\n",
    "\n",
    "```\n",
    "False\n",
    "```"
   ]
  },
  {
   "cell_type": "raw",
   "id": "editorial-night",
   "metadata": {
    "format": "text/html"
   },
   "source": [
    "<a  class=\"jupman-sol jupman-sol-toggler\" \n",
    " onclick=\"jupman.toggleSolution(this);\" \n",
    " data-jupman-show=\"Show solution\" data-jupman-hide=\"Hide\">Show solution</a><div class=\"jupman-sol jupman-sol-code\" style=\"display:none\">  "
   ]
  },
  {
   "cell_type": "code",
   "execution_count": 63,
   "metadata": {},
   "outputs": [
    {
     "name": "stdout",
     "output_type": "stream",
     "text": [
      "True\n"
     ]
    }
   ],
   "source": [
    "x,y,z = 'by Jove','by Zeus','by'     # True\n",
    "#x,y,z = 'by Jove','by Zeus','from'  # False\n",
    "#x,y,z = 'from Jove','by Zeus','by'  # False\n",
    "\n",
    "# write here\n",
    "\n",
    "print(x.startswith(z) and y.startswith(z))"
   ]
  },
  {
   "cell_type": "raw",
   "id": "north-montgomery",
   "metadata": {
    "format": "text/html"
   },
   "source": [
    "</div>"
   ]
  },
  {
   "cell_type": "code",
   "execution_count": 63,
   "metadata": {},
   "outputs": [
    {
     "name": "stdout",
     "output_type": "stream",
     "text": [
      "True\n"
     ]
    }
   ],
   "source": [
    "x,y,z = 'by Jove','by Zeus','by'     # True\n",
    "#x,y,z = 'by Jove','by Zeus','from'  # False\n",
    "#x,y,z = 'from Jove','by Zeus','by'  # False\n",
    "\n",
    "# write here\n",
    "\n"
   ]
  },
  {
   "cell_type": "markdown",
   "metadata": {},
   "source": [
    "## `endswith` method\n",
    "\n",
    "`str.endswith` takes as parameter a string and returns `True` if the string before the dot ends with the string passed as parameter. Example:"
   ]
  },
  {
   "cell_type": "code",
   "execution_count": 64,
   "metadata": {},
   "outputs": [
    {
     "data": {
      "text/plain": [
       "True"
      ]
     },
     "execution_count": 64,
     "metadata": {},
     "output_type": "execute_result"
    }
   ],
   "source": [
    "\"My best wishes\".endswith('st wishes')"
   ]
  },
  {
   "cell_type": "code",
   "execution_count": 65,
   "metadata": {},
   "outputs": [
    {
     "data": {
      "text/plain": [
       "False"
      ]
     },
     "execution_count": 65,
     "metadata": {},
     "output_type": "execute_result"
    }
   ],
   "source": [
    "\"My best wishes\".endswith('best')"
   ]
  },
  {
   "cell_type": "code",
   "execution_count": 66,
   "metadata": {},
   "outputs": [
    {
     "data": {
      "text/plain": [
       "False"
      ]
     },
     "execution_count": 66,
     "metadata": {},
     "output_type": "execute_result"
    }
   ],
   "source": [
    "\"My best wishes\".endswith('WISHES')    # uppercase is different from lowercase"
   ]
  },
  {
   "cell_type": "code",
   "execution_count": 67,
   "metadata": {},
   "outputs": [
    {
     "data": {
      "text/plain": [
       "True"
      ]
     },
     "execution_count": 67,
     "metadata": {},
     "output_type": "execute_result"
    }
   ],
   "source": [
    "\"MY BEST WISHES\".endswith('WISHES')    # uppercase is different from lowercase"
   ]
  },
  {
   "cell_type": "markdown",
   "metadata": {},
   "source": [
    "### Exercise - Snobbonis\n",
    "\n",
    "Given couple names `husband` and `wife`, write some code which prints `True` if they share the surname, `False` otherwise.\n",
    "\n",
    "* assume the surname is always at position `9`\n",
    "* your code must work for any couple `husband` and `wife`"
   ]
  },
  {
   "cell_type": "raw",
   "id": "premium-holder",
   "metadata": {
    "format": "text/html"
   },
   "source": [
    "<a  class=\"jupman-sol jupman-sol-toggler\" \n",
    " onclick=\"jupman.toggleSolution(this);\" \n",
    " data-jupman-show=\"Show solution\" data-jupman-hide=\"Hide\">Show solution</a><div class=\"jupman-sol jupman-sol-code\" style=\"display:none\">  "
   ]
  },
  {
   "cell_type": "code",
   "execution_count": 68,
   "metadata": {},
   "outputs": [
    {
     "name": "stdout",
     "output_type": "stream",
     "text": [
      "True\n"
     ]
    }
   ],
   "source": [
    "                 #0123456789               #0123456789\n",
    "husband, wife  = 'Antonio  Snobbonis',     'Carolina Snobbonis'   # True\n",
    "#husband, wife = 'Camillo  De Spaparanzi', 'Matilda  Degli Agi'   # False\n",
    "\n",
    "# write here\n",
    "\n",
    "print(wife.endswith(husband[9:]))"
   ]
  },
  {
   "cell_type": "raw",
   "id": "wicked-burner",
   "metadata": {
    "format": "text/html"
   },
   "source": [
    "</div>"
   ]
  },
  {
   "cell_type": "code",
   "execution_count": 68,
   "metadata": {},
   "outputs": [
    {
     "name": "stdout",
     "output_type": "stream",
     "text": [
      "True\n"
     ]
    }
   ],
   "source": [
    "                 #0123456789               #0123456789\n",
    "husband, wife  = 'Antonio  Snobbonis',     'Carolina Snobbonis'   # True\n",
    "#husband, wife = 'Camillo  De Spaparanzi', 'Matilda  Degli Agi'   # False\n",
    "\n",
    "# write here\n",
    "\n"
   ]
  },
  {
   "cell_type": "markdown",
   "metadata": {},
   "source": [
    "## `count` method\n",
    "\n",
    "The method `count` takes a substring and counts how many occurrences are there in the string before the dot. "
   ]
  },
  {
   "cell_type": "code",
   "execution_count": 69,
   "metadata": {},
   "outputs": [
    {
     "data": {
      "text/plain": [
       "3"
      ]
     },
     "execution_count": 69,
     "metadata": {},
     "output_type": "execute_result"
    }
   ],
   "source": [
    "\"astral stars\".count('a')"
   ]
  },
  {
   "cell_type": "code",
   "execution_count": 70,
   "metadata": {},
   "outputs": [
    {
     "data": {
      "text/plain": [
       "0"
      ]
     },
     "execution_count": 70,
     "metadata": {},
     "output_type": "execute_result"
    }
   ],
   "source": [
    "\"astral stars\".count('A')    # it's case sensitive"
   ]
  },
  {
   "cell_type": "code",
   "execution_count": 71,
   "metadata": {},
   "outputs": [
    {
     "data": {
      "text/plain": [
       "2"
      ]
     },
     "execution_count": 71,
     "metadata": {},
     "output_type": "execute_result"
    }
   ],
   "source": [
    "\"astral stars\".count('st')"
   ]
  },
  {
   "cell_type": "markdown",
   "metadata": {},
   "source": [
    "Optionally, you can pass a two other parameters to indicate an index to start counting from (included) and where to end (excluded):"
   ]
  },
  {
   "cell_type": "code",
   "execution_count": 72,
   "metadata": {},
   "outputs": [
    {
     "data": {
      "text/plain": [
       "2"
      ]
     },
     "execution_count": 72,
     "metadata": {},
     "output_type": "execute_result"
    }
   ],
   "source": [
    "#012345678901\n",
    "\"astral stars\".count('a',4)  "
   ]
  },
  {
   "cell_type": "code",
   "execution_count": 73,
   "metadata": {},
   "outputs": [
    {
     "data": {
      "text/plain": [
       "1"
      ]
     },
     "execution_count": 73,
     "metadata": {},
     "output_type": "execute_result"
    }
   ],
   "source": [
    "#012345678901\n",
    "\"astral stars\".count('a',4,9)  "
   ]
  },
  {
   "cell_type": "markdown",
   "metadata": {},
   "source": [
    "### Exercise - astro money\n",
    "\n",
    "During 2020 lockdown while looking at the stars above you started feeling... waves. After some thinking, you decided _THEY_ wanted to communicate with you so you you set up a dish antenna on your roof to receive messages from aliens. After months of apparent irrelevant noise, one day you finally receive a message you think you can translate. Aliens are _obviously_ trying to tell you the winning numbers of lottery! \n",
    "\n",
    "A message is a sequence of exactly 3 _different_ character repetitions, the number of characters in each repetition is a number you will try at the lottery. You frantically start developing the translator to show these lucky numbers on the terminal.\n",
    "\n",
    "Example - given:\n",
    "\n",
    "```python\n",
    "s = '$$$$€€€€€!!'\n",
    "```\n",
    "\n",
    "it should print:\n",
    "\n",
    "```\n",
    "$ € !\n",
    "4 5 2\n",
    "```\n",
    "\n",
    "* **IMPORTANT: you can assume all sequences have** ***different*** **characters**\n",
    "* **DO NOT** use cycles nor comprehensions\n",
    "* for simplicity assume each character sequence has at most 9 repetitions"
   ]
  },
  {
   "cell_type": "raw",
   "id": "persistent-pantyhose",
   "metadata": {
    "format": "text/html"
   },
   "source": [
    "<a  class=\"jupman-sol jupman-sol-toggler\" \n",
    " onclick=\"jupman.toggleSolution(this);\" \n",
    " data-jupman-show=\"Show solution\" data-jupman-hide=\"Hide\">Show solution</a><div class=\"jupman-sol jupman-sol-code\" style=\"display:none\">  "
   ]
  },
  {
   "cell_type": "code",
   "execution_count": 74,
   "metadata": {},
   "outputs": [
    {
     "name": "stdout",
     "output_type": "stream",
     "text": [
      "$ € !\n",
      "4 5 2\n"
     ]
    }
   ],
   "source": [
    "    #01234567890      # $ € !\n",
    "s = '$$$$€€€€€!!'     # 4 5 2\n",
    "                      # a b c\n",
    "#s = 'aaabbbbbbccc'   # 3 6 3\n",
    "                      # H A L\n",
    "#s = 'HAL'            # 1 1 1\n",
    "\n",
    "# write here\n",
    "p1 = 0\n",
    "d1 = s.count(s[p1])\n",
    "p2 = p1 + d1\n",
    "d2 = s.count(s[p2])\n",
    "p3 = p2 + d2\n",
    "d3 = s.count(s[p3])\n",
    "\n",
    "print(s[p1],s[p2],s[p3])\n",
    "print(d1,d2,d3)"
   ]
  },
  {
   "cell_type": "raw",
   "id": "green-salem",
   "metadata": {
    "format": "text/html"
   },
   "source": [
    "</div>"
   ]
  },
  {
   "cell_type": "code",
   "execution_count": 74,
   "metadata": {},
   "outputs": [
    {
     "name": "stdout",
     "output_type": "stream",
     "text": [
      "$ € !\n",
      "4 5 2\n"
     ]
    }
   ],
   "source": [
    "    #01234567890      # $ € !\n",
    "s = '$$$$€€€€€!!'     # 4 5 2\n",
    "                      # a b c\n",
    "#s = 'aaabbbbbbccc'   # 3 6 3\n",
    "                      # H A L\n",
    "#s = 'HAL'            # 1 1 1\n",
    "\n",
    "# write here\n",
    "\n"
   ]
  },
  {
   "cell_type": "markdown",
   "metadata": {},
   "source": [
    "## `find` method\n",
    "\n",
    "`find` returns the index of the _first_ occurrence of some given substring:"
   ]
  },
  {
   "cell_type": "code",
   "execution_count": 75,
   "metadata": {},
   "outputs": [
    {
     "data": {
      "text/plain": [
       "7"
      ]
     },
     "execution_count": 75,
     "metadata": {},
     "output_type": "execute_result"
    }
   ],
   "source": [
    "#0123456789012345\n",
    "'bingo bongo bong'.find('ong')"
   ]
  },
  {
   "cell_type": "markdown",
   "metadata": {},
   "source": [
    "If no occurrence is found, it returns `-1`:"
   ]
  },
  {
   "cell_type": "code",
   "execution_count": 76,
   "metadata": {},
   "outputs": [
    {
     "data": {
      "text/plain": [
       "-1"
      ]
     },
     "execution_count": 76,
     "metadata": {},
     "output_type": "execute_result"
    }
   ],
   "source": [
    "#0123456789012345\n",
    "'bingo bongo bong'.find('bang')"
   ]
  },
  {
   "cell_type": "code",
   "execution_count": 77,
   "metadata": {},
   "outputs": [
    {
     "data": {
      "text/plain": [
       "-1"
      ]
     },
     "execution_count": 77,
     "metadata": {},
     "output_type": "execute_result"
    }
   ],
   "source": [
    "#0123456789012345\n",
    "'bingo bongo bong'.find('Bong')    #  case-sensitive"
   ]
  },
  {
   "cell_type": "markdown",
   "metadata": {},
   "source": [
    "Optionally, you can specify an index from where to start searching (included):"
   ]
  },
  {
   "cell_type": "code",
   "execution_count": 78,
   "metadata": {},
   "outputs": [
    {
     "data": {
      "text/plain": [
       "13"
      ]
     },
     "execution_count": 78,
     "metadata": {},
     "output_type": "execute_result"
    }
   ],
   "source": [
    "#0123456789012345\n",
    "'bingo bongo bong'.find('ong',10)"
   ]
  },
  {
   "cell_type": "markdown",
   "metadata": {},
   "source": [
    "And also where to end (excluded):"
   ]
  },
  {
   "cell_type": "code",
   "execution_count": 79,
   "metadata": {},
   "outputs": [
    {
     "data": {
      "text/plain": [
       "-1"
      ]
     },
     "execution_count": 79,
     "metadata": {},
     "output_type": "execute_result"
    }
   ],
   "source": [
    "#0123456789012345\n",
    "'bingo bongo bong'.find('g',4, 9)"
   ]
  },
  {
   "cell_type": "markdown",
   "metadata": {},
   "source": [
    "### Exercise - bananas\n",
    "\n",
    "While exploring a remote tropical region, an ethologist discovers a population of monkeys which appear to have some concept of numbers. They collect bananas in the hundreds which are then traded with coconuts collected by another group. To comunicate the quantities of up to 999 bananas, they use a series of exactly three guttural sounds. The ethologist writes down the sequencies and formulates the following theory: each sound is comprised by a sequence of the same character, repeated a number of times. The number of characters in the first sequence is the first digit (the hundreds), the number of characters in the second sequence is the second digit (the decines), while the last sequence represents units. \n",
    "\n",
    "Write some code which puts in variable `bananas` **an integer** representing the number.\n",
    "\n",
    "For example - given:\n",
    "\n",
    "```python\n",
    "s = 'bb bbbbb aaaa'\n",
    "```\n",
    "\n",
    "your code should print:\n",
    "```\n",
    ">>> bananas\n",
    "254\n",
    ">>> type(bananas)\n",
    "int\n",
    "```\n",
    "\n",
    "* **IMPORTANT 1: different sequences may use the** ***same*** **character!**\n",
    "* **IMPORTANT 2: you cannot assume which characters monkeys will use**: you just know each digit is represented by a repetition of the same character\n",
    "* **DO NOT** use cycles nor comprehensions\n",
    "* the monkeys have no concept of zero"
   ]
  },
  {
   "cell_type": "raw",
   "id": "known-liabilities",
   "metadata": {
    "format": "text/html"
   },
   "source": [
    "<a  class=\"jupman-sol jupman-sol-toggler\" \n",
    " onclick=\"jupman.toggleSolution(this);\" \n",
    " data-jupman-show=\"Show solution\" data-jupman-hide=\"Hide\">Show solution</a><div class=\"jupman-sol jupman-sol-code\" style=\"display:none\">  "
   ]
  },
  {
   "cell_type": "code",
   "execution_count": 80,
   "metadata": {},
   "outputs": [],
   "source": [
    "    #0123456789012\n",
    "s = 'bb bbbbb aaaa'     # 254\n",
    "#s = 'ccc cc ccc'       # 323    \n",
    "#s = 'vvv rrrr ww'      # 342\n",
    "#s = 'cccc h jjj'       # 413\n",
    "#s = '🌳🌳🌳 🍌🍌🍌🍌🍌🍌 🐵🐵🐵🐵'  # 364  (you could get *any* weird character, also unicode ...)\n",
    "\n",
    "# write here\n",
    "p1 = s.find(' ')\n",
    "bananas = len(s[:p1])*100\n",
    "p2 = s.find(' ',p1+1)\n",
    "bananas += len(s[p1+1:p2])*10\n",
    "bananas += len(s[p2+1:])*1\n",
    "\n",
    "#print('The bananas are',bananas)\n",
    "#type(bananas)"
   ]
  },
  {
   "cell_type": "raw",
   "id": "basic-bloom",
   "metadata": {
    "format": "text/html"
   },
   "source": [
    "</div>"
   ]
  },
  {
   "cell_type": "code",
   "execution_count": 80,
   "metadata": {},
   "outputs": [],
   "source": [
    "    #0123456789012\n",
    "s = 'bb bbbbb aaaa'     # 254\n",
    "#s = 'ccc cc ccc'       # 323    \n",
    "#s = 'vvv rrrr ww'      # 342\n",
    "#s = 'cccc h jjj'       # 413\n",
    "#s = '🌳🌳🌳 🍌🍌🍌🍌🍌🍌 🐵🐵🐵🐵'  # 364  (you could get *any* weird character, also unicode ...)\n",
    "\n",
    "# write here\n",
    "\n"
   ]
  },
  {
   "cell_type": "markdown",
   "metadata": {},
   "source": [
    "## `rfind` method\n",
    "\n",
    "Like [find method](#find-method), but search starts from the right."
   ]
  },
  {
   "cell_type": "markdown",
   "metadata": {},
   "source": [
    "## `isalpha` method"
   ]
  },
  {
   "cell_type": "markdown",
   "metadata": {},
   "source": [
    "The method `isalpha` returns `True` if all characters in the string are alphabetic:"
   ]
  },
  {
   "cell_type": "code",
   "execution_count": 81,
   "metadata": {},
   "outputs": [
    {
     "data": {
      "text/plain": [
       "True"
      ]
     },
     "execution_count": 81,
     "metadata": {},
     "output_type": "execute_result"
    }
   ],
   "source": [
    "'CoralReel'.isalpha()"
   ]
  },
  {
   "cell_type": "markdown",
   "metadata": {},
   "source": [
    "Numbers are not considered alphabetic:"
   ]
  },
  {
   "cell_type": "code",
   "execution_count": 82,
   "metadata": {},
   "outputs": [
    {
     "data": {
      "text/plain": [
       "False"
      ]
     },
     "execution_count": 82,
     "metadata": {},
     "output_type": "execute_result"
    }
   ],
   "source": [
    "'Route 666'.isalpha()"
   ]
  },
  {
   "cell_type": "markdown",
   "metadata": {},
   "source": [
    "Also, blanks are _not_ alphabetic:"
   ]
  },
  {
   "cell_type": "code",
   "execution_count": 83,
   "metadata": {},
   "outputs": [
    {
     "data": {
      "text/plain": [
       "False"
      ]
     },
     "execution_count": 83,
     "metadata": {},
     "output_type": "execute_result"
    }
   ],
   "source": [
    "'Coral Reel'.isalpha()"
   ]
  },
  {
   "cell_type": "markdown",
   "metadata": {},
   "source": [
    "... nor punctuation:"
   ]
  },
  {
   "cell_type": "code",
   "execution_count": 84,
   "metadata": {},
   "outputs": [
    {
     "data": {
      "text/plain": [
       "False"
      ]
     },
     "execution_count": 84,
     "metadata": {},
     "output_type": "execute_result"
    }
   ],
   "source": [
    "'!'.isalpha()"
   ]
  },
  {
   "cell_type": "markdown",
   "metadata": {},
   "source": [
    "... nor weird Unicode stuff:"
   ]
  },
  {
   "cell_type": "code",
   "execution_count": 85,
   "metadata": {},
   "outputs": [
    {
     "data": {
      "text/plain": [
       "False"
      ]
     },
     "execution_count": 85,
     "metadata": {},
     "output_type": "execute_result"
    }
   ],
   "source": [
    "'♥'.isalpha()"
   ]
  },
  {
   "cell_type": "markdown",
   "metadata": {},
   "source": [
    ".. nor the empty string:"
   ]
  },
  {
   "cell_type": "code",
   "execution_count": 86,
   "metadata": {},
   "outputs": [
    {
     "data": {
      "text/plain": [
       "False"
      ]
     },
     "execution_count": 86,
     "metadata": {},
     "output_type": "execute_result"
    }
   ],
   "source": [
    "''.isalpha()"
   ]
  },
  {
   "cell_type": "markdown",
   "metadata": {},
   "source": [
    "## `isdigit` method\n",
    "\n",
    "`isdigit` method returns `True` if a string is only composed of digits:"
   ]
  },
  {
   "cell_type": "code",
   "execution_count": 87,
   "metadata": {},
   "outputs": [
    {
     "data": {
      "text/plain": [
       "True"
      ]
     },
     "execution_count": 87,
     "metadata": {},
     "output_type": "execute_result"
    }
   ],
   "source": [
    "'391'.isdigit()"
   ]
  },
  {
   "cell_type": "code",
   "execution_count": 88,
   "metadata": {},
   "outputs": [
    {
     "data": {
      "text/plain": [
       "False"
      ]
     },
     "execution_count": 88,
     "metadata": {},
     "output_type": "execute_result"
    }
   ],
   "source": [
    "'400m'.isdigit()"
   ]
  },
  {
   "cell_type": "markdown",
   "metadata": {},
   "source": [
    "Floating point and scientific notations are not recognized:"
   ]
  },
  {
   "cell_type": "code",
   "execution_count": 89,
   "metadata": {},
   "outputs": [
    {
     "data": {
      "text/plain": [
       "False"
      ]
     },
     "execution_count": 89,
     "metadata": {},
     "output_type": "execute_result"
    }
   ],
   "source": [
    "'3.14'.isdigit()"
   ]
  },
  {
   "cell_type": "code",
   "execution_count": 90,
   "metadata": {},
   "outputs": [
    {
     "data": {
      "text/plain": [
       "False"
      ]
     },
     "execution_count": 90,
     "metadata": {},
     "output_type": "execute_result"
    }
   ],
   "source": [
    "'4e29'.isdigit()"
   ]
  },
  {
   "cell_type": "markdown",
   "metadata": {},
   "source": [
    "## `isupper` and `islower` methods\n",
    "\n",
    "We can check wheter a character is uppercase or lowercase with `isupper` and `islower` methods:"
   ]
  },
  {
   "cell_type": "code",
   "execution_count": 91,
   "metadata": {},
   "outputs": [
    {
     "data": {
      "text/plain": [
       "False"
      ]
     },
     "execution_count": 91,
     "metadata": {},
     "output_type": "execute_result"
    }
   ],
   "source": [
    "'q'.isupper()"
   ]
  },
  {
   "cell_type": "code",
   "execution_count": 92,
   "metadata": {},
   "outputs": [
    {
     "data": {
      "text/plain": [
       "True"
      ]
     },
     "execution_count": 92,
     "metadata": {},
     "output_type": "execute_result"
    }
   ],
   "source": [
    "'Q'.isupper()"
   ]
  },
  {
   "cell_type": "code",
   "execution_count": 93,
   "metadata": {},
   "outputs": [
    {
     "data": {
      "text/plain": [
       "True"
      ]
     },
     "execution_count": 93,
     "metadata": {},
     "output_type": "execute_result"
    }
   ],
   "source": [
    "'b'.islower()"
   ]
  },
  {
   "cell_type": "code",
   "execution_count": 94,
   "metadata": {},
   "outputs": [
    {
     "data": {
      "text/plain": [
       "False"
      ]
     },
     "execution_count": 94,
     "metadata": {},
     "output_type": "execute_result"
    }
   ],
   "source": [
    "'B'.islower()"
   ]
  },
  {
   "cell_type": "markdown",
   "metadata": {},
   "source": [
    "They also work on longer strings, checking if all characters meet the criteria:"
   ]
  },
  {
   "cell_type": "code",
   "execution_count": 95,
   "metadata": {},
   "outputs": [
    {
     "data": {
      "text/plain": [
       "True"
      ]
     },
     "execution_count": 95,
     "metadata": {},
     "output_type": "execute_result"
    }
   ],
   "source": [
    "'GREAT'.isupper()"
   ]
  },
  {
   "cell_type": "code",
   "execution_count": 96,
   "metadata": {},
   "outputs": [
    {
     "data": {
      "text/plain": [
       "False"
      ]
     },
     "execution_count": 96,
     "metadata": {},
     "output_type": "execute_result"
    }
   ],
   "source": [
    "'NotSoGREAT'.isupper()"
   ]
  },
  {
   "cell_type": "markdown",
   "metadata": {},
   "source": [
    "Note blanks and punctuation are not taken into account:"
   ]
  },
  {
   "cell_type": "code",
   "execution_count": 97,
   "metadata": {},
   "outputs": [
    {
     "data": {
      "text/plain": [
       "True"
      ]
     },
     "execution_count": 97,
     "metadata": {},
     "output_type": "execute_result"
    }
   ],
   "source": [
    "'REALLY\\nGREAT !'.isupper()"
   ]
  },
  {
   "cell_type": "markdown",
   "metadata": {},
   "source": [
    "We could check whether a character is upper/lower case by looking at ASCII code but the best way we covers all alphabets is by using `isupper` and `islower` methods, for example they also work with accented letters:"
   ]
  },
  {
   "cell_type": "code",
   "execution_count": 98,
   "metadata": {},
   "outputs": [
    {
     "data": {
      "text/plain": [
       "False"
      ]
     },
     "execution_count": 98,
     "metadata": {},
     "output_type": "execute_result"
    }
   ],
   "source": [
    "'à'.isupper()"
   ]
  },
  {
   "cell_type": "code",
   "execution_count": 99,
   "metadata": {},
   "outputs": [
    {
     "data": {
      "text/plain": [
       "True"
      ]
     },
     "execution_count": 99,
     "metadata": {},
     "output_type": "execute_result"
    }
   ],
   "source": [
    "'Á'.isupper()"
   ]
  },
  {
   "cell_type": "markdown",
   "metadata": {},
   "source": [
    "## Other exercises"
   ]
  },
  {
   "cell_type": "markdown",
   "metadata": {},
   "source": [
    "**QUESTION**: For each following expression, try to find the result\n",
    "    \n",
    "1.  ```python\n",
    "    'gUrP'.lower() == 'GuRp'.lower()\n",
    "    ```\n",
    "1.  ```python    \n",
    "    'NaNo'.lower() != 'nAnO'.upper()\n",
    "    ```\n",
    "1.  ```python    \n",
    "    'O' + 'ortaggio'.replace('o','\\t \\n     ').strip() + 'O'\n",
    "    ```\n",
    "1.  ```python    \n",
    "    'DaDo'.replace('D','b') in 'barbados'\n",
    "    ```    "
   ]
  },
  {
   "cell_type": "markdown",
   "metadata": {},
   "source": [
    "## Continue\n",
    "\n",
    "Go on reading notebook [Strings 4 - other exercises](https://en.softpython.org/strings/strings4-sol.html)"
   ]
  },
  {
   "cell_type": "code",
   "execution_count": null,
   "metadata": {},
   "outputs": [],
   "source": []
  }
 ],
 "metadata": {
  "kernelspec": {
   "display_name": "Python 3",
   "language": "python",
   "name": "python3"
  },
  "language_info": {
   "codemirror_mode": {
    "name": "ipython",
    "version": 3
   },
   "file_extension": ".py",
   "mimetype": "text/x-python",
   "name": "python",
   "nbconvert_exporter": "python",
   "pygments_lexer": "ipython3",
   "version": "3.5.2"
  },
  "toc": {
   "base_numbering": 1,
   "nav_menu": {},
   "number_sections": false,
   "sideBar": true,
   "skip_h1_title": false,
   "title_cell": "Table of Contents",
   "title_sidebar": "Contents",
   "toc_cell": false,
   "toc_position": {},
   "toc_section_display": true,
   "toc_window_display": true
  }
 },
 "nbformat": 4,
 "nbformat_minor": 2
}
