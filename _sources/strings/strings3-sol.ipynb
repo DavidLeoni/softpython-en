{
 "cells": [
  {
   "cell_type": "code",
   "execution_count": 1,
   "metadata": {
    "nbsphinx": "hidden"
   },
   "outputs": [],
   "source": [
    "# Remember to execute this cell with Shift+Enter\n",
    "\n",
    "import sys\n",
    "sys.path.append('../')\n",
    "import jupman"
   ]
  },
  {
   "cell_type": "markdown",
   "metadata": {},
   "source": [
    "# Strings 3 - methods\n",
    "\n",
    "## [Download exercises zip](../_static/generated/strings.zip)\n",
    "\n",
    "[Browse files online](https://github.com/DavidLeoni/softpython-en/tree/master/strings)\n",
    "\n",
    "Every data type has associated particular methods for that type, let's see those associated to type string (`str`)"
   ]
  },
  {
   "cell_type": "markdown",
   "metadata": {},
   "source": [
    "\n",
    "<div class=\"alert alert-warning\">\n",
    "\n",
    "**WARNING: ALL string methods ALWAYS generate a NEW string**    \n",
    "\n",
    "The original string object is NEVER changed (strings are immutable).\n",
    "</div>\n"
   ]
  },
  {
   "cell_type": "markdown",
   "metadata": {},
   "source": [
    "|Result|Method|Meaning|\n",
    "|---------|------|-----------|\n",
    "|str|[str.upper()](#Example---upper)|Return the string with all characters uppercase|\n",
    "|str|[str.lower()](#lower-method)|Return the string with all characters lowercase|\n",
    "|str|[str.capitalize()](#capitalize-method)|Return the string with the first uppercase character|\n",
    "|bool|[str.startswith(str)](#startswith-method)|Check if the string begins with another one|\n",
    "|bool|[str.endswith(str)](#endswith-method)|Check whether the string ends with another one|\n",
    "|bool|[str.isalpha(str)](#isalpha-method)|Check if all characters are alhpabetic|\n",
    "|bool|[str.isdigit(str)](#isdigit-method)|Check if all characters are digits|\n",
    "|bool|[str.isupper](#isupper-and-islower-methods)|Check if all characters are uppercase|\n",
    "|bool|[str.islower](#isupper-and-islower-methods)|Check if all characters are lowercase|"
   ]
  },
  {
   "cell_type": "markdown",
   "metadata": {},
   "source": [
    "## What to do\n",
    "\n",
    "1. Unzip [exercises zip](../_static/generated/strings.zip) in a folder, you should obtain something like this:\n",
    "\n",
    "```\n",
    "strings\n",
    "    strings1.ipynb    \n",
    "    strings1-sol.ipynb         \n",
    "    strings2.ipynb\n",
    "    strings2-sol.ipynb\n",
    "    strings3.ipynb\n",
    "    strings3-sol.ipynb\n",
    "    strings4.ipynb\n",
    "    strings4-sol.ipynb    \n",
    "    strings5-chal.ipynb\n",
    "    jupman.py\n",
    "```\n",
    "\n",
    "<div class=\"alert alert-warning\">\n",
    "\n",
    "**WARNING: to correctly visualize the notebook, it MUST be in an unzipped folder !**\n",
    "</div>"
   ]
  },
  {
   "cell_type": "markdown",
   "metadata": {},
   "source": [
    "2. open Jupyter Notebook from that folder. Two things should open, first a console and then browser. The browser should show a file list: navigate the list and open the notebook `strings3.ipynb`\n",
    "\n",
    "3. Go on reading the exercises file, sometimes you will find paragraphs marked **Exercises** which will ask to write Python commands in the following cells. "
   ]
  },
  {
   "cell_type": "markdown",
   "metadata": {},
   "source": [
    "Shortcut keys:\n",
    "\n",
    "- to execute Python code inside a Jupyter cell, press `Control + Enter`\n",
    "\n",
    "- to execute Python code inside a Jupyter cell AND select next cell, press `Shift + Enter`\n",
    "\n",
    "- to execute Python code inside a Jupyter cell AND a create a new cell aftwerwards, press `Alt + Enter`\n",
    "\n",
    "- If the notebooks look stuck, try to select `Kernel -> Restart`"
   ]
  },
  {
   "cell_type": "markdown",
   "metadata": {},
   "source": [
    "## Example - `upper`\n",
    "\n",
    "A method is a function of an object that takes as input the object to which is it is applied and performs some calculation.\n",
    "\n",
    "The string type `str` has predefined methods like `str.upper()` which can be applied to other string objects (i.e.: `'hello'` is a string object)\n",
    "\n",
    "The method `str.upper()` takes the string to which it is applied, and creates a NEW string in which all the characters are in uppercase. To apply a method like `str.upper()` to the particular string object `'hello'`, we must write:\n",
    "\n",
    "```python\n",
    "'hello'.upper()\n",
    "``` \n",
    "\n",
    "Frst we write the object on which apply the method (`'hello'`), then a dot `.`, and afterwards the method name followed by round parenthesis. The brackets can also contain further parameters according to the method.\n",
    "\n",
    "Examples:"
   ]
  },
  {
   "cell_type": "code",
   "execution_count": 2,
   "metadata": {},
   "outputs": [
    {
     "data": {
      "text/plain": [
       "'HELLO'"
      ]
     },
     "execution_count": 2,
     "metadata": {},
     "output_type": "execute_result"
    }
   ],
   "source": [
    "'hello'.upper()"
   ]
  },
  {
   "cell_type": "code",
   "execution_count": 3,
   "metadata": {},
   "outputs": [
    {
     "data": {
      "text/plain": [
       "\"I'M IMPORTANT\""
      ]
     },
     "execution_count": 3,
     "metadata": {},
     "output_type": "execute_result"
    }
   ],
   "source": [
    "\"I'm important\".upper()"
   ]
  },
  {
   "cell_type": "markdown",
   "metadata": {},
   "source": [
    "<div class=\"alert alert-warning\">\n",
    "\n",
    "**WARNING**: like ALL string methods, the original string object on which the method is called does NOT get modified.\n",
    "\n",
    "</div>\n",
    "\n",
    "Example:"
   ]
  },
  {
   "cell_type": "code",
   "execution_count": 4,
   "metadata": {},
   "outputs": [],
   "source": [
    "x = \"hello\"\n",
    "y = x.upper()    # generates a NEW string and associates it to the variables y"
   ]
  },
  {
   "cell_type": "code",
   "execution_count": 5,
   "metadata": {},
   "outputs": [
    {
     "data": {
      "text/plain": [
       "'hello'"
      ]
     },
     "execution_count": 5,
     "metadata": {},
     "output_type": "execute_result"
    }
   ],
   "source": [
    "x                # x variable is still associated to the old string"
   ]
  },
  {
   "cell_type": "code",
   "execution_count": 6,
   "metadata": {},
   "outputs": [
    {
     "data": {
      "text/plain": [
       "'HELLO'"
      ]
     },
     "execution_count": 6,
     "metadata": {},
     "output_type": "execute_result"
    }
   ],
   "source": [
    "y                #  y variable is associated to the new string"
   ]
  },
  {
   "cell_type": "markdown",
   "metadata": {},
   "source": [
    "Have a look now at the same example in Python Tutor:"
   ]
  },
  {
   "cell_type": "code",
   "execution_count": 7,
   "metadata": {},
   "outputs": [
    {
     "name": "stdout",
     "output_type": "stream",
     "text": [
      "hello\n",
      "HELLO\n"
     ]
    },
    {
     "data": {
      "text/html": [
       "\n",
       "        <script src=\"../_static/js/pytutor-embed.bundle.min.js\" type=\"application/javascript\"></script>\n",
       "     \n",
       "        <script id=\"json-jmab0d3263-d6de-44b0-afac-6901356d7177\" type=\"application/json\" >\n",
       "            {\"code\": \" \\nx = \\\"hello\\\"\\ny = x.upper()\\nprint(x)\\nprint(y)\", \"trace\": [{\"line\": 2, \"event\": \"step_line\", \"func_name\": \"<module>\", \"globals\": {}, \"ordered_globals\": [], \"stack_to_render\": [], \"heap\": {}, \"stdout\": \"\"}, {\"line\": 3, \"event\": \"step_line\", \"func_name\": \"<module>\", \"globals\": {\"x\": \"hello\"}, \"ordered_globals\": [\"x\"], \"stack_to_render\": [], \"heap\": {}, \"stdout\": \"\"}, {\"line\": 4, \"event\": \"step_line\", \"func_name\": \"<module>\", \"globals\": {\"x\": \"hello\", \"y\": \"HELLO\"}, \"ordered_globals\": [\"x\", \"y\"], \"stack_to_render\": [], \"heap\": {}, \"stdout\": \"\"}, {\"line\": 5, \"event\": \"step_line\", \"func_name\": \"<module>\", \"globals\": {\"x\": \"hello\", \"y\": \"HELLO\"}, \"ordered_globals\": [\"x\", \"y\"], \"stack_to_render\": [], \"heap\": {}, \"stdout\": \"hello\\n\"}, {\"line\": 5, \"event\": \"return\", \"func_name\": \"<module>\", \"globals\": {\"x\": \"hello\", \"y\": \"HELLO\"}, \"ordered_globals\": [\"x\", \"y\"], \"stack_to_render\": [], \"heap\": {}, \"stdout\": \"hello\\nHELLO\\n\"}]}\n",
       "        </script>\n",
       "        <div id=\"jmab0d3263-d6de-44b0-afac-6901356d7177\" class=\"pytutorVisualizer\"> </div>\n",
       " \n",
       "        <style>\n",
       "        .vizLayoutTd {\n",
       "            background-color: #fff !important;\n",
       "        }\n",
       "\n",
       "        #pyStdout {            \n",
       "            min-height:25px;\n",
       "        }\n",
       "\n",
       "        /* 'Edit this code' link, hiding because replaces browser tab !!!*/\n",
       "        #editCodeLinkDiv {\n",
       "            display:none;  \n",
       "        }\n",
       "        </style>   \n",
       "                            \n",
       "        <script>\n",
       "        (function(){\n",
       "\n",
       "            var trace = JSON.parse(document.getElementById('json-jmab0d3263-d6de-44b0-afac-6901356d7177').innerHTML);                                        \n",
       "            // NOTE 1: id without #\n",
       "            // NOTE 2 - maybe there are more predictable ways, but this will work anyway\n",
       "            //        - id should be number\n",
       "            visualizerIdOverride = Math.trunc(Math.random() * 100000000000)\n",
       "            addVisualizerToPage(trace, 'jmab0d3263-d6de-44b0-afac-6901356d7177',{'embeddedMode' : false,\n",
       "                                             'visualizerIdOverride':visualizerIdOverride})  \n",
       "            \n",
       "            \n",
       "            // set overflow for pytuts - need to do in python as css \n",
       "            // does not allow parent selection\n",
       "            var pytuts = $('.pytutorVisualizer')\n",
       "            pytuts.closest('div.output_html.rendered_html.output_result')\n",
       "                    .css('overflow-x', 'visible')\n",
       "        \n",
       "            //pytuts.closest('div.output_html.rendered_html.output_result')\n",
       "            //      .css('background-color','red')                \n",
       "            \n",
       "        })()\n",
       "        </script>\n",
       "                \n",
       "                "
      ],
      "text/plain": [
       "<IPython.core.display.HTML object>"
      ]
     },
     "execution_count": 7,
     "metadata": {},
     "output_type": "execute_result"
    }
   ],
   "source": [
    "x = \"hello\"\n",
    "y = x.upper()\n",
    "print(x)\n",
    "print(y)\n",
    "\n",
    "jupman.pytut()"
   ]
  },
  {
   "cell_type": "markdown",
   "metadata": {},
   "source": [
    "### Exercise - walking\n",
    "\n",
    "Write some code which given a string `x` (i.e.: `x='walking'`) prints twice the row:\n",
    "\n",
    "```\n",
    "walking WALKING walking WALKING\n",
    "walking WALKING walking WALKING\n",
    "```\n",
    "\n",
    "* **DO NOT** create new variables\n",
    "* your code must work with any string"
   ]
  },
  {
   "cell_type": "code",
   "execution_count": 8,
   "metadata": {},
   "outputs": [
    {
     "name": "stdout",
     "output_type": "stream",
     "text": [
      "walking WALKING walking WALKING\n",
      "walking WALKING walking WALKING\n"
     ]
    }
   ],
   "source": [
    "x = 'walking'\n",
    "\n",
    "print(x, x.upper(), x, x.upper())\n",
    "print(x, x.upper(), x, x.upper())"
   ]
  },
  {
   "cell_type": "markdown",
   "metadata": {},
   "source": [
    "**Help**: If you are not sure about a method (for example, `strip`), you can ask Python for help this way:\n",
    "\n",
    "<div class=\"alert alert-warning\">\n",
    "\n",
    "**WARNING: when using help, DON'T put parenthesis after the method name !!**\n",
    "\n",
    "</div>\n"
   ]
  },
  {
   "cell_type": "code",
   "execution_count": 9,
   "metadata": {},
   "outputs": [
    {
     "name": "stdout",
     "output_type": "stream",
     "text": [
      "Help on built-in function strip:\n",
      "\n",
      "strip(chars=None, /) method of builtins.str instance\n",
      "    Return a copy of the string with leading and trailing whitespace removed.\n",
      "    \n",
      "    If chars is given and not None, remove characters in chars instead.\n",
      "\n"
     ]
    }
   ],
   "source": [
    "help(\"hello\".strip)"
   ]
  },
  {
   "cell_type": "markdown",
   "metadata": {},
   "source": [
    "## `lower` method\n",
    "\n",
    "Return the string with all lowercase characters"
   ]
  },
  {
   "cell_type": "code",
   "execution_count": 10,
   "metadata": {},
   "outputs": [
    {
     "name": "stdout",
     "output_type": "stream",
     "text": [
      "hello world\n"
     ]
    }
   ],
   "source": [
    "my_string = \"HEllo WorLd\"\n",
    "\n",
    "another_string = my_string.lower()\n",
    "\n",
    "print(another_string)"
   ]
  },
  {
   "cell_type": "code",
   "execution_count": 11,
   "metadata": {},
   "outputs": [
    {
     "name": "stdout",
     "output_type": "stream",
     "text": [
      "HEllo WorLd\n"
     ]
    }
   ],
   "source": [
    "print(my_string)  # didn't change"
   ]
  },
  {
   "cell_type": "markdown",
   "metadata": {},
   "source": [
    "### Exercise - lowermid\n",
    "\n",
    "Write some code that given any string `x` of odd length, prints a new string like `x` having the mid-character as lowercase.\n",
    "\n",
    "* your code must work with any string !\n",
    "* **HINT**: to calculate the position of the mid-character, use integer division with the operator `//`\n",
    "\n",
    "Example 1 - given:\n",
    "\n",
    "```python\n",
    "x = 'ADORATION'\n",
    "```\n",
    "\n",
    "it should print:\n",
    "\n",
    "`ADORaTION`\n",
    "\n",
    "Example 2 - given:\n",
    "\n",
    "```python\n",
    "x = 'LEADINg'\n",
    "```\n",
    "\n",
    "it should print:\n",
    "\n",
    "` LEAdINg`\n"
   ]
  },
  {
   "cell_type": "code",
   "execution_count": 12,
   "metadata": {},
   "outputs": [
    {
     "name": "stdout",
     "output_type": "stream",
     "text": [
      "ADORaTION\n"
     ]
    }
   ],
   "source": [
    "#jupman-purge-output\n",
    "    #012345678\n",
    "x = 'ADORATION'\n",
    "#x = 'LEADINg'  \n",
    "k = len(x) // 2\n",
    "\n",
    "# write here\n",
    "print(x[:k] + x[k].lower() + x[k+1:])"
   ]
  },
  {
   "cell_type": "markdown",
   "metadata": {},
   "source": [
    "## `capitalize` method"
   ]
  },
  {
   "cell_type": "markdown",
   "metadata": {},
   "source": [
    "`capitalize()` creates a NEW string having only the FIRST character as uppercase:"
   ]
  },
  {
   "cell_type": "code",
   "execution_count": 13,
   "metadata": {},
   "outputs": [
    {
     "data": {
      "text/plain": [
       "'Artisan'"
      ]
     },
     "execution_count": 13,
     "metadata": {},
     "output_type": "execute_result"
    }
   ],
   "source": [
    "\"artisan\".capitalize()"
   ]
  },
  {
   "cell_type": "code",
   "execution_count": 14,
   "metadata": {},
   "outputs": [
    {
     "data": {
      "text/plain": [
       "'Premium'"
      ]
     },
     "execution_count": 14,
     "metadata": {},
     "output_type": "execute_result"
    }
   ],
   "source": [
    "\"premium\".capitalize()"
   ]
  },
  {
   "cell_type": "code",
   "execution_count": 15,
   "metadata": {},
   "outputs": [],
   "source": [
    "x = 'goat'\n",
    "y = 'goat'.capitalize()"
   ]
  },
  {
   "cell_type": "code",
   "execution_count": 16,
   "metadata": {},
   "outputs": [
    {
     "data": {
      "text/plain": [
       "'goat'"
      ]
     },
     "execution_count": 16,
     "metadata": {},
     "output_type": "execute_result"
    }
   ],
   "source": [
    "x      #  x remains associate to the old value"
   ]
  },
  {
   "cell_type": "code",
   "execution_count": 17,
   "metadata": {},
   "outputs": [
    {
     "data": {
      "text/plain": [
       "'Goat'"
      ]
     },
     "execution_count": 17,
     "metadata": {},
     "output_type": "execute_result"
    }
   ],
   "source": [
    "y      #  y is associated to the new string"
   ]
  },
  {
   "cell_type": "markdown",
   "metadata": {},
   "source": [
    "### Exercise - Your Excellence\n",
    "\n",
    "Write some code which given two strings `x` and `y` returns the two strings concatenated, separating them with a space and both as lowercase except the first two characters which must be uppercase\n",
    "\n",
    "\n",
    "Example 1 - given:\n",
    "\n",
    "```python\n",
    "x = 'yoUR'\n",
    "y = 'exCelLenCE'\n",
    "```\n",
    "\n",
    "it must print:\n",
    "\n",
    "```\n",
    "Your Excellence\n",
    "```\n",
    "\n",
    "Example 2 - given:\n",
    "\n",
    "```python\n",
    "x = 'hEr'\n",
    "y = 'maJEsty'\n",
    "```\n",
    "\n",
    "it must print:\n",
    "\n",
    "```\n",
    "Her Majesty\n",
    "```\n"
   ]
  },
  {
   "cell_type": "code",
   "execution_count": 18,
   "metadata": {},
   "outputs": [
    {
     "name": "stdout",
     "output_type": "stream",
     "text": [
      "Your Excellence\n"
     ]
    }
   ],
   "source": [
    "#jupman-purge-output\n",
    "x,y = 'yoUR','exCelLenCE'\n",
    "#x,y = 'hEr','maJEsty'\n",
    "\n",
    "# write here\n",
    "\n",
    "print(x.capitalize() + \" \" + y.capitalize())"
   ]
  },
  {
   "cell_type": "markdown",
   "metadata": {},
   "source": [
    "## `startswith` method\n",
    "\n",
    "`str.startswith` takes as parameter a string and returns `True` if the string before the dot begins with the string passed as parameter. Example:"
   ]
  },
  {
   "cell_type": "code",
   "execution_count": 19,
   "metadata": {},
   "outputs": [
    {
     "data": {
      "text/plain": [
       "True"
      ]
     },
     "execution_count": 19,
     "metadata": {},
     "output_type": "execute_result"
    }
   ],
   "source": [
    "\"the dog is barking in the road\".startswith('the dog')"
   ]
  },
  {
   "cell_type": "code",
   "execution_count": 20,
   "metadata": {},
   "outputs": [
    {
     "data": {
      "text/plain": [
       "False"
      ]
     },
     "execution_count": 20,
     "metadata": {},
     "output_type": "execute_result"
    }
   ],
   "source": [
    "\"the dog is barking in the road\".startswith('is barking')"
   ]
  },
  {
   "cell_type": "code",
   "execution_count": 21,
   "metadata": {},
   "outputs": [
    {
     "data": {
      "text/plain": [
       "False"
      ]
     },
     "execution_count": 21,
     "metadata": {},
     "output_type": "execute_result"
    }
   ],
   "source": [
    "\"the dog is barking in the road\".startswith('THE DOG')  # uppercase is different from lowercase"
   ]
  },
  {
   "cell_type": "code",
   "execution_count": 22,
   "metadata": {},
   "outputs": [
    {
     "data": {
      "text/plain": [
       "True"
      ]
     },
     "execution_count": 22,
     "metadata": {},
     "output_type": "execute_result"
    }
   ],
   "source": [
    "\"THE DOG BARKS IN THE ROAD\".startswith('THE DOG')       # uppercase is different from lowercase"
   ]
  },
  {
   "cell_type": "markdown",
   "metadata": {},
   "source": [
    "### Exercise - by Jove"
   ]
  },
  {
   "cell_type": "markdown",
   "metadata": {},
   "source": [
    "Write some code which given any three strings `x`, `y` and `z`, prints `True` if both `x` and `y` start with string `z`, otherwise prints `False`\n",
    "\n",
    "Example 1 - given:\n",
    "\n",
    "```python\n",
    "x = 'by Jove'\n",
    "y = 'by Zeus'\n",
    "z = 'by'\n",
    "```\n",
    "\n",
    "it should print:\n",
    "\n",
    "```\n",
    "True\n",
    "```\n",
    "\n",
    "\n",
    "Example 2 - given:\n",
    "\n",
    "```python\n",
    "x = 'by Jove'\n",
    "y = 'by Zeus'\n",
    "z = 'from'\n",
    "```\n",
    "\n",
    "it should print:\n",
    "\n",
    "```\n",
    "False\n",
    "```\n",
    "\n",
    "Example 3 - given:\n",
    "\n",
    "```python\n",
    "x = 'from Jove'\n",
    "y = 'by Zeus'\n",
    "z = 'by'\n",
    "```\n",
    "\n",
    "it should print:\n",
    "\n",
    "```\n",
    "False\n",
    "```"
   ]
  },
  {
   "cell_type": "code",
   "execution_count": 23,
   "metadata": {},
   "outputs": [
    {
     "name": "stdout",
     "output_type": "stream",
     "text": [
      "True\n"
     ]
    }
   ],
   "source": [
    "#jupman-purge-output\n",
    "x,y,z = 'by Jove','by Zeus','by'     # True\n",
    "#x,y,z = 'by Jove','by Zeus','from'  # False\n",
    "#x,y,z = 'from Jove','by Zeus','by'  # False\n",
    "\n",
    "# write here\n",
    "\n",
    "print(x.startswith(z) and y.startswith(z))"
   ]
  },
  {
   "cell_type": "markdown",
   "metadata": {},
   "source": [
    "## `endswith` method\n",
    "\n",
    "`str.endswith` takes as parameter a string and returns `True` if the string before the dot ends with the string passed as parameter. Example:"
   ]
  },
  {
   "cell_type": "code",
   "execution_count": 24,
   "metadata": {},
   "outputs": [
    {
     "data": {
      "text/plain": [
       "True"
      ]
     },
     "execution_count": 24,
     "metadata": {},
     "output_type": "execute_result"
    }
   ],
   "source": [
    "\"My best wishes\".endswith('st wishes')"
   ]
  },
  {
   "cell_type": "code",
   "execution_count": 25,
   "metadata": {},
   "outputs": [
    {
     "data": {
      "text/plain": [
       "False"
      ]
     },
     "execution_count": 25,
     "metadata": {},
     "output_type": "execute_result"
    }
   ],
   "source": [
    "\"My best wishes\".endswith('best')"
   ]
  },
  {
   "cell_type": "code",
   "execution_count": 26,
   "metadata": {},
   "outputs": [
    {
     "data": {
      "text/plain": [
       "False"
      ]
     },
     "execution_count": 26,
     "metadata": {},
     "output_type": "execute_result"
    }
   ],
   "source": [
    "\"My best wishes\".endswith('WISHES')    # uppercase is different from lowercase"
   ]
  },
  {
   "cell_type": "code",
   "execution_count": 27,
   "metadata": {},
   "outputs": [
    {
     "data": {
      "text/plain": [
       "True"
      ]
     },
     "execution_count": 27,
     "metadata": {},
     "output_type": "execute_result"
    }
   ],
   "source": [
    "\"MY BEST WISHES\".endswith('WISHES')    # uppercase is different from lowercase"
   ]
  },
  {
   "cell_type": "markdown",
   "metadata": {},
   "source": [
    "### Exercise - Snobbonis\n",
    "\n",
    "Given couple names `husband` and `wife`, write some code which prints `True` if they share the surname, `False` otherwise.\n",
    "\n",
    "* assume the surname is always at position `9`\n",
    "* your code must work for any couple `husband` and `wife`"
   ]
  },
  {
   "cell_type": "code",
   "execution_count": 28,
   "metadata": {},
   "outputs": [
    {
     "name": "stdout",
     "output_type": "stream",
     "text": [
      "True\n"
     ]
    }
   ],
   "source": [
    "#jupman-purge-output\n",
    "                 #0123456789               #0123456789\n",
    "husband, wife  = 'Antonio  Snobbonis',     'Carolina Snobbonis'   # True\n",
    "#husband, wife = 'Camillo  De Spaparanzi', 'Matilda  Degli Agi'   # False\n",
    "\n",
    "# write here\n",
    "\n",
    "print(wife.endswith(husband[9:]))"
   ]
  },
  {
   "cell_type": "markdown",
   "metadata": {},
   "source": [
    "## `isalpha` method"
   ]
  },
  {
   "cell_type": "markdown",
   "metadata": {},
   "source": [
    "The method `isalpha` returns `True` if all characters in the string are alphabetic:"
   ]
  },
  {
   "cell_type": "code",
   "execution_count": 29,
   "metadata": {},
   "outputs": [
    {
     "data": {
      "text/plain": [
       "True"
      ]
     },
     "execution_count": 29,
     "metadata": {},
     "output_type": "execute_result"
    }
   ],
   "source": [
    "'CoralReel'.isalpha()"
   ]
  },
  {
   "cell_type": "markdown",
   "metadata": {},
   "source": [
    "Numbers are not considered alphabetic:"
   ]
  },
  {
   "cell_type": "code",
   "execution_count": 30,
   "metadata": {},
   "outputs": [
    {
     "data": {
      "text/plain": [
       "False"
      ]
     },
     "execution_count": 30,
     "metadata": {},
     "output_type": "execute_result"
    }
   ],
   "source": [
    "'Route 666'.isalpha()"
   ]
  },
  {
   "cell_type": "markdown",
   "metadata": {},
   "source": [
    "Also, blanks are _not_ alphabetic:"
   ]
  },
  {
   "cell_type": "code",
   "execution_count": 31,
   "metadata": {},
   "outputs": [
    {
     "data": {
      "text/plain": [
       "False"
      ]
     },
     "execution_count": 31,
     "metadata": {},
     "output_type": "execute_result"
    }
   ],
   "source": [
    "'Coral Reel'.isalpha()"
   ]
  },
  {
   "cell_type": "markdown",
   "metadata": {},
   "source": [
    "... nor punctuation:"
   ]
  },
  {
   "cell_type": "code",
   "execution_count": 32,
   "metadata": {},
   "outputs": [
    {
     "data": {
      "text/plain": [
       "False"
      ]
     },
     "execution_count": 32,
     "metadata": {},
     "output_type": "execute_result"
    }
   ],
   "source": [
    "'!'.isalpha()"
   ]
  },
  {
   "cell_type": "markdown",
   "metadata": {},
   "source": [
    "... nor weird Unicode stuff:"
   ]
  },
  {
   "cell_type": "code",
   "execution_count": 33,
   "metadata": {},
   "outputs": [
    {
     "data": {
      "text/plain": [
       "False"
      ]
     },
     "execution_count": 33,
     "metadata": {},
     "output_type": "execute_result"
    }
   ],
   "source": [
    "'♥'.isalpha()"
   ]
  },
  {
   "cell_type": "markdown",
   "metadata": {},
   "source": [
    ".. nor the empty string:"
   ]
  },
  {
   "cell_type": "code",
   "execution_count": 34,
   "metadata": {},
   "outputs": [
    {
     "data": {
      "text/plain": [
       "False"
      ]
     },
     "execution_count": 34,
     "metadata": {},
     "output_type": "execute_result"
    }
   ],
   "source": [
    "''.isalpha()"
   ]
  },
  {
   "cell_type": "markdown",
   "metadata": {},
   "source": [
    "### Exercise - Fighting the hackers\n",
    "\n",
    "In the lower floors of Interpol, it is well known international hackers communicate using a slang  called _Leet_. This fashion is also spreading in schools, where you are considered _K001_ (cool) if you know this inconvenient language. The idea is trying to substitute characters with numbers in written text ( [Complete guide](https://simple.wikipedia.org/wiki/Leet) ).\n",
    "\n",
    "```\n",
    "1 -> i\n",
    "2 -> z\n",
    "3 -> e\n",
    "4 -> h, a, y\n",
    "etc\n",
    "```\n",
    "\n",
    "Write some code which checks `name` and `surname` given by students to detect Leet-like language.\n",
    "\n",
    "* print `True` if at least one of the words contains numbers instead of alphabet characters, otherwise print `False`\n",
    "* code must be generic, so must work with any word\n",
    "* **DO NOT** use `if` command"
   ]
  },
  {
   "cell_type": "code",
   "execution_count": 35,
   "metadata": {},
   "outputs": [
    {
     "name": "stdout",
     "output_type": "stream",
     "text": [
      "True\n"
     ]
    }
   ],
   "source": [
    "#jupman-purge-output\n",
    "name, surname =  'K001',   'H4ck3r'    # True\n",
    "#name, surname = 'Cool',   'H4ck3r'    # True\n",
    "#name, surname = 'Romina', 'Rossi'     # False\n",
    "#name, surname = 'Peppo',  'Sbirilli'  # False\n",
    "#name, surname = 'K001',   'Sbirilli'  # True\n",
    "\n",
    "# write here\n",
    "print(not (name.isalpha() and surname.isalpha()))"
   ]
  },
  {
   "cell_type": "markdown",
   "metadata": {},
   "source": [
    "## `isdigit` method\n",
    "\n",
    "`isdigit` method returns `True` if a string is only composed of digits:"
   ]
  },
  {
   "cell_type": "code",
   "execution_count": 36,
   "metadata": {},
   "outputs": [
    {
     "data": {
      "text/plain": [
       "True"
      ]
     },
     "execution_count": 36,
     "metadata": {},
     "output_type": "execute_result"
    }
   ],
   "source": [
    "'391'.isdigit()"
   ]
  },
  {
   "cell_type": "code",
   "execution_count": 37,
   "metadata": {},
   "outputs": [
    {
     "data": {
      "text/plain": [
       "False"
      ]
     },
     "execution_count": 37,
     "metadata": {},
     "output_type": "execute_result"
    }
   ],
   "source": [
    "'400m'.isdigit()"
   ]
  },
  {
   "cell_type": "markdown",
   "metadata": {},
   "source": [
    "Floating point and scientific notations are not recognized:"
   ]
  },
  {
   "cell_type": "code",
   "execution_count": 38,
   "metadata": {},
   "outputs": [
    {
     "data": {
      "text/plain": [
       "False"
      ]
     },
     "execution_count": 38,
     "metadata": {},
     "output_type": "execute_result"
    }
   ],
   "source": [
    "'3.14'.isdigit()"
   ]
  },
  {
   "cell_type": "code",
   "execution_count": 39,
   "metadata": {},
   "outputs": [
    {
     "data": {
      "text/plain": [
       "False"
      ]
     },
     "execution_count": 39,
     "metadata": {},
     "output_type": "execute_result"
    }
   ],
   "source": [
    "'4e29'.isdigit()"
   ]
  },
  {
   "cell_type": "markdown",
   "metadata": {},
   "source": [
    "### Exercise - Selling numbers\n",
    "\n",
    "The multinational ToxiCorp managed to acquire a wealth of private data of unaware users, and asks you to analyze it. They will then sell private information to the highest bidder on the black market. The offer looks questionable, but they pay well, so you accept.\n",
    "\n",
    "We need to understand the data and how to organize it. You found several strings which look like phone numbers.\n",
    "\n",
    "Every number should be composed like so:\n",
    "\n",
    "```\n",
    "+[national prefix 39][10 numbers]\n",
    "```\n",
    "\n",
    "For example, this is a valid number: `+392574856985`\n",
    "\n",
    "Write some code which prints `True` if the string is a phone number, `False` otherwise\n",
    "\n",
    "* Try the various combinations by uncommenting `phone =`\n",
    "* Your code must be generic, should be valid for all numbers"
   ]
  },
  {
   "cell_type": "code",
   "execution_count": 40,
   "metadata": {},
   "outputs": [
    {
     "name": "stdout",
     "output_type": "stream",
     "text": [
      "Variables check: True True True True\n",
      "Is it a phone number? True\n"
     ]
    }
   ],
   "source": [
    "#jupman-purge-output\n",
    "\n",
    "phone = '+392574856985'   # True\n",
    "#phone = '395851256954'   # False (missing '+')\n",
    "#phone = '++7485125874'   # False (missing prefix) \n",
    "#phone = '+3933342Blah'   # False (obvious :D )\n",
    "#phone = \"+3912\"          # False (too short)\n",
    "#phone = '+393481489942'  # True\n",
    "\n",
    "# write here\n",
    "number = phone[3:]  # I save the string excluding +39\n",
    "\n",
    "# Let's make 4 bool to keep track of all conditions\n",
    "has_plus = phone.startswith('+')                  # Does it start with + ?\n",
    "has_national_prefix = phone[1:].startswith('39')  # Is there 39 after? We could have done it also in the row above\n",
    "is_10_long = len(number) == 10       # Excluding the prefix, are the others 10 characters?\n",
    "has_all_digits = number.isdigit()    # Are they all numbers?\n",
    "\n",
    "# This is just a debug print\n",
    "print(\"Variables check:\", has_plus, has_national_prefix, is_10_long, has_all_digits)\n",
    "# Final solution, combines everything\n",
    "print(\"Is it a phone number?\", has_plus and has_national_prefix and is_10_long and has_all_digits)"
   ]
  },
  {
   "cell_type": "markdown",
   "metadata": {},
   "source": [
    "## `isupper` and `islower` methods\n",
    "\n",
    "We can check whether a character is uppercase or lowercase with `isupper` and `islower` methods:"
   ]
  },
  {
   "cell_type": "code",
   "execution_count": 41,
   "metadata": {},
   "outputs": [
    {
     "data": {
      "text/plain": [
       "False"
      ]
     },
     "execution_count": 41,
     "metadata": {},
     "output_type": "execute_result"
    }
   ],
   "source": [
    "'q'.isupper()"
   ]
  },
  {
   "cell_type": "code",
   "execution_count": 42,
   "metadata": {},
   "outputs": [
    {
     "data": {
      "text/plain": [
       "True"
      ]
     },
     "execution_count": 42,
     "metadata": {},
     "output_type": "execute_result"
    }
   ],
   "source": [
    "'Q'.isupper()"
   ]
  },
  {
   "cell_type": "code",
   "execution_count": 43,
   "metadata": {},
   "outputs": [
    {
     "data": {
      "text/plain": [
       "True"
      ]
     },
     "execution_count": 43,
     "metadata": {},
     "output_type": "execute_result"
    }
   ],
   "source": [
    "'b'.islower()"
   ]
  },
  {
   "cell_type": "code",
   "execution_count": 44,
   "metadata": {},
   "outputs": [
    {
     "data": {
      "text/plain": [
       "False"
      ]
     },
     "execution_count": 44,
     "metadata": {},
     "output_type": "execute_result"
    }
   ],
   "source": [
    "'B'.islower()"
   ]
  },
  {
   "cell_type": "markdown",
   "metadata": {},
   "source": [
    "They also work on longer strings, checking if all characters meet the criteria:"
   ]
  },
  {
   "cell_type": "code",
   "execution_count": 45,
   "metadata": {},
   "outputs": [
    {
     "data": {
      "text/plain": [
       "True"
      ]
     },
     "execution_count": 45,
     "metadata": {},
     "output_type": "execute_result"
    }
   ],
   "source": [
    "'GREAT'.isupper()"
   ]
  },
  {
   "cell_type": "code",
   "execution_count": 46,
   "metadata": {},
   "outputs": [
    {
     "data": {
      "text/plain": [
       "False"
      ]
     },
     "execution_count": 46,
     "metadata": {},
     "output_type": "execute_result"
    }
   ],
   "source": [
    "'NotSoGREAT'.isupper()"
   ]
  },
  {
   "cell_type": "markdown",
   "metadata": {},
   "source": [
    "Note blanks and punctuation are not taken into account:"
   ]
  },
  {
   "cell_type": "code",
   "execution_count": 47,
   "metadata": {},
   "outputs": [
    {
     "data": {
      "text/plain": [
       "True"
      ]
     },
     "execution_count": 47,
     "metadata": {},
     "output_type": "execute_result"
    }
   ],
   "source": [
    "'REALLY\\nGREAT !'.isupper()"
   ]
  },
  {
   "cell_type": "markdown",
   "metadata": {},
   "source": [
    "\n",
    "We could check whether a character is upper/lower case by examining its ASCII code but the best way to  cover all alphabets is by using `isupper` and `islower` methods. For example, they also work with accented letters:"
   ]
  },
  {
   "cell_type": "code",
   "execution_count": 48,
   "metadata": {},
   "outputs": [
    {
     "data": {
      "text/plain": [
       "False"
      ]
     },
     "execution_count": 48,
     "metadata": {},
     "output_type": "execute_result"
    }
   ],
   "source": [
    "'à'.isupper()"
   ]
  },
  {
   "cell_type": "code",
   "execution_count": 49,
   "metadata": {
    "scrolled": true
   },
   "outputs": [
    {
     "data": {
      "text/plain": [
       "True"
      ]
     },
     "execution_count": 49,
     "metadata": {},
     "output_type": "execute_result"
    }
   ],
   "source": [
    "'Á'.isupper()"
   ]
  },
  {
   "cell_type": "markdown",
   "metadata": {},
   "source": [
    "### Exercise - dwarves and GIANTS\n",
    "\n",
    "In an unknown and exciting fantasy world live two populations, dwarves and GIANTS:\n",
    "\n",
    "- dwarves love giving their offspring names containing only lowercase characters \n",
    "- GIANTS don't even need to think about it, because it's written on the tablets of GROCK that GIANT names can only have uppercase characters\n",
    "\n",
    "One day, a threat came from a far away kingdom, and so a team of fearless adventurers was gathered. The prophecy said only a mixed team of GIANTS and dwarves for a total of **4** people could defeat the evil."
   ]
  },
  {
   "cell_type": "markdown",
   "metadata": {},
   "source": [
    "1) Write some code which checks whether or not four adventurers can gather into a valid team:\n",
    "\n",
    "* print `True` if the four names are both of dwarves and GIANTS, otherwise if they are of only one of the populations print `False`\n",
    "* your code must be generic, valid for all strings\n",
    "\n",
    "2) Find some [GIANT names](https://www.fantasynamegenerators.com/giant-names.php) and [dwarves names](https://www.fantasynamegenerators.com/dwarf_names.php) and try to put them, making sure to translate them with the all uppercase / all lowercase capitalization, es \"Jisog\" is not a valid giant name, it must be translated into the gigantic writing \"JISOG\""
   ]
  },
  {
   "cell_type": "code",
   "execution_count": 50,
   "metadata": {},
   "outputs": [
    {
     "name": "stdout",
     "output_type": "stream",
     "text": [
      "False\n"
     ]
    }
   ],
   "source": [
    "#jupman-purge-output\n",
    "adv1, adv2, adv3, adv4 = 'gimli', 'savorlim', 'glazouc', 'hondouni'       # False\n",
    "#adv1, adv2, adv3, adv4 = 'OXLOR', 'HIVAR', 'ELOR', 'SUXGROG'             # False\n",
    "#adv1, adv2, adv3, adv4 = 'krakrerlig', 'GUCAM', 'SUXGROG', 'kodearen'    # True\n",
    "#adv1, adv2, adv3, adv4 = 'yarnithra', 'krakrerlig', 'jandreda', 'TOVIR'  # True\n",
    "\n",
    "# write here\n",
    "a1 = adv1.isupper()\n",
    "a2 = adv2.isupper()\n",
    "a3 = adv3.isupper()\n",
    "a4 = adv4.isupper()\n",
    "\n",
    "print(not(a1 == a2 == a3 == a4))"
   ]
  },
  {
   "cell_type": "markdown",
   "metadata": {},
   "source": [
    "## Continue\n",
    "\n",
    "Go on reading notebook [Strings 4 - search methods](https://en.softpython.org/strings/strings4-sol.html)"
   ]
  },
  {
   "cell_type": "code",
   "execution_count": null,
   "metadata": {},
   "outputs": [],
   "source": []
  }
 ],
 "metadata": {
  "kernelspec": {
   "display_name": "Python 3 (ipykernel)",
   "language": "python",
   "name": "python3"
  },
  "language_info": {
   "codemirror_mode": {
    "name": "ipython",
    "version": 3
   },
   "file_extension": ".py",
   "mimetype": "text/x-python",
   "name": "python",
   "nbconvert_exporter": "python",
   "pygments_lexer": "ipython3",
   "version": "3.7.10"
  },
  "toc": {
   "base_numbering": 1,
   "nav_menu": {},
   "number_sections": false,
   "sideBar": true,
   "skip_h1_title": false,
   "title_cell": "Table of Contents",
   "title_sidebar": "Contents",
   "toc_cell": false,
   "toc_position": {},
   "toc_section_display": true,
   "toc_window_display": true
  }
 },
 "nbformat": 4,
 "nbformat_minor": 2
}
