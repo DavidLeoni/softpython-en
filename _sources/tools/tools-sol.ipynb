{
 "cells": [
  {
   "cell_type": "code",
   "execution_count": 1,
   "metadata": {
    "nbsphinx": "hidden"
   },
   "outputs": [],
   "source": [
    "# Remember to execute this cell with Shift+Enter\n",
    "\n",
    "import sys\n",
    "sys.path.append('../')\n",
    "import jupman"
   ]
  },
  {
   "cell_type": "markdown",
   "metadata": {},
   "source": [
    "# Tools and scripts\n",
    "\n",
    "## [Download exercises zip](../_static/generated/tools.zip)\n",
    "\n",
    "[Browse files online](https://github.com/DavidLeoni/softpython-en/tree/master/tools)\n",
    "\n",
    "<div class=\"alert alert-warning\">\n",
    "\n",
    "**REQUISITES:**\n",
    "    \n",
    "* **Having Python 3 and Jupyter installed:** if you haven't already, see [Installation](https://en.softpython.org/installation.html)\n",
    "</div>"
   ]
  },
  {
   "cell_type": "markdown",
   "metadata": {},
   "source": [
    "## Python interpreter\n",
    "\n",
    "In these tutorials we will use extensively the notebook editor Jupyter, because it allows to comfortably execute Python code, display charts and take notes. But if we want only make calculations it is not mandatory at all!\n",
    "\n",
    "The most immediate way (even if not very practical) to execute Python things is by using the _command line_ interpreter in the so-called _interactive mode,_ that is, having Python to wait commands which will be manually inserted one by one. This usage _does not_ require Jupyter, you only need to have installed Python. Note that in Mac OS X and many linux systems like Ubuntu, Python is already installed by default, although sometimes it might  not be version 3. Let's try to understand which version we have on our system."
   ]
  },
  {
   "cell_type": "markdown",
   "metadata": {},
   "source": [
    "\n",
    "### Let's open system console\n",
    "\n",
    "Open a console (in Windows: system menu -> Anaconda Prompt, in Mac OS X: run the Terminal)\n",
    "\n",
    "In the console you find the so-called _prompt_ of commands. In this _prompt_ you can directly insert commands for the operating system.\n",
    "\n",
    "<div class=\"alert alert-warning\">\n",
    "\n",
    "**WARNING**: the commands you give in the prompt are commands in the language of the operating system you are using, **NOT** Python language !!!!!\n",
    "    \n",
    "</div>\n",
    "\n",
    "In Windows you should see something like this:\n",
    "\n",
    "```\n",
    "C:\\Users\\David> \n",
    "```\n",
    "\n",
    "In Mac / Linux it could be something like this:\n",
    "\n",
    "```bash\n",
    "david@my-computer:~$\n",
    "```"
   ]
  },
  {
   "cell_type": "markdown",
   "metadata": {},
   "source": [
    "### Listing files and folders\n",
    "\n",
    "In system console, try for example to\n",
    "\n",
    "**Windows**: type the command `dir` and press Enter\n",
    "\n",
    "**Mac or Linux**: type the command `ls` and press Enter.\n",
    "\n",
    "A listing with all the files in the current folder should appear. In my case appears a list like this:\n",
    "\n",
    "<div class=\"alert alert-warning\">\n",
    "\n",
    "**LET ME REPEAT**: in this context `dir` and `ls` are commands of _the operating system,_ **NOT** of Python !!\n",
    "\n",
    "</div>\n",
    "\n",
    "Windows: \n",
    "\n",
    "```\n",
    "C:\\Users\\David> dir\n",
    "Arduino                    gotysc                           program.wav\n",
    "a.txt                      index.html                       Public\n",
    "MYFOLDER                   java0.log                        RegDocente.pdf\n",
    "backupsys                  java1.log                                \n",
    "BaseXData                  java_error_in_IDEA_14362.log \n",
    "```\n",
    "\n",
    "Mac / Linux: \n",
    "\n",
    "\n",
    "```\n",
    "david@david-computer:~$ ls\n",
    "Arduino                           gotysc                         program.wav\n",
    "a.txt                             index.html                     Public\n",
    "MYFOLDER                          java0.log                      RegistroDocenteStandard(1).pdf\n",
    "backupsys                         java1.log                      RegistroDocenteStandard.pdf\n",
    "BaseXData                         java_error_in_IDEA_14362.log \n",
    "```\n"
   ]
  },
  {
   "cell_type": "markdown",
   "metadata": {},
   "source": [
    "### Let's launch the Python interpreter\n",
    "\n",
    "In the opened system console, simply type the command `python`:\n",
    "\n",
    "<div class=\"alert alert-warning\">\n",
    "\n",
    "**WARNING**: If Python does not run, try typing `python3` with the `3` at the end of `python`   \n",
    "\n",
    "</div>\n",
    "\n",
    "\n",
    "```\n",
    "C:\\Users\\David> python\n",
    "```\n",
    "\n",
    "You should see appearing something like this (most probably won't be exactly the same). Note that Python version is contained in the first row. If it begins with `2.`, then you are not using the right one for this book - in that case try exiting the interpreter ([see how to exit](#Exiting-the-interpreter)) and then type `python3`\n",
    " \n",
    "```\n",
    "Python 3.5.2 (default, Nov 23 2017, 16:37:01) \n",
    "[GCC 5.4.0 20160609] on windows\n",
    "Type \"help\", \"copyright\", \"credits\" or \"license\" for more information.\n",
    ">>> \n",
    "```\n",
    "<div class=\"alert alert-warning\">\n",
    "\n",
    "**CAREFUL** about the triple greater-than `>>>`  at the beginning!\n",
    "\n",
    "The triple greater-than `>>>` at the start tells us that differently from before now the console is expecting commands _in Python language._ So, the system commands we used before (`cd`, `dir`, ...) will NOT work anymore, or will give different results!    \n",
    "\n",
    "</div>\n",
    "\n",
    "Now the console is expecting Python commands, so try inserting `3 + 5` and press Enter:\n",
    "\n",
    "<div class=\"alert alert-warning\">\n",
    "\n",
    "**WARNING** DO NOT type `>>>`, only type the command which appears afterwards!\n",
    "\n",
    "</div>\n",
    "\n",
    "\n",
    "```\n",
    ">>> 3 + 5\n",
    "```\n",
    "\n",
    "The writing `8` should appear:\n",
    "\n",
    "```\n",
    "8\n",
    "```\n",
    "\n",
    "Beyond calculations, we might tell PYthon to print something with the function `print(\"ciao\")`\n",
    "\n",
    "```\n",
    ">>> print(\"ciao\")\n",
    "ciao\n",
    "```"
   ]
  },
  {
   "cell_type": "markdown",
   "metadata": {},
   "source": [
    "### Exiting the interpreter\n",
    "\n",
    "To get out from the Python interpreter and go back to system prompt (that is, the one which accepts `cd` and `dir`/`ls` commands), type the Python comand `exit()`\n",
    "\n",
    "After you actually exited the Python interpreter, the triple `>>>` should be gone (you should see it at the start of the line)\n",
    "\n",
    "In Windows, you should see something similar:\n",
    "\n",
    "```\n",
    ">>> exit()\n",
    "C:\\Users\\David>\n",
    "```\n",
    "\n",
    "in Mac / Linux it could be like this:\n",
    "\n",
    "\n",
    "```\n",
    ">>> exit()\n",
    "david@my-computer:~$\n",
    "```"
   ]
  },
  {
   "cell_type": "markdown",
   "metadata": {},
   "source": [
    "Now you might go back to execute commands for the operating system like `dir` and `cd`:\n",
    "\n",
    "\n",
    "**Windows**:\n",
    "```\n",
    "C:\\Users\\David> dir\n",
    "Arduino                    gotysc                           program.wav\n",
    "a.txt                      index.html                       Public\n",
    "MYFOLDER                   java0.log                        RegDocente.pdf\n",
    "backupsys                  java1.log                                \n",
    "BaseXData                  java_error_in_IDEA_14362.log \n",
    "```\n",
    "\n",
    "**Mac / Linux**:\n",
    "```\n",
    "david@david-computer:~$ ls\n",
    "Arduino                           gotysc                         program.wav\n",
    "a.txt                             index.html                     Public\n",
    "MYFOLDER                          java0.log                      RegistroDocenteStandard(1).pdf\n",
    "backupsys                         java1.log                      RegistroDocenteStandard.pdf\n",
    "BaseXData                         java_error_in_IDEA_14362.log \n",
    "```\n"
   ]
  },
  {
   "cell_type": "markdown",
   "metadata": {},
   "source": [
    "## Modules\n",
    "\n",
    "Python Modules are simply text files which have the extension **.py** (for example `my_script.py`). When you write code in an editor, as a matter of fact you are implementing the corresponding module.\n",
    "\n",
    "In Jupyter we use notebook files with the extension `.ipynb`, but to edit them you necessarily need Jupyter.\n",
    "\n",
    "With `.py` files (alse said _script_ ) we can instead use any text editor, and we can then tell the interpreter to execute that file. Let's see how to do it.\n",
    "\n",
    "\n",
    "### Simple text editor\n",
    "\n",
    "1. With a text editor (_Notepad_ in Windows, or _TextEdit_ in Mac Os X) creates a text file, and put inside this code\n",
    "\n",
    "\n",
    "```python\n",
    "x = 3\n",
    "y = 5\n",
    "print(x + y)\n",
    "```\n",
    "\n",
    "2. Let's try to save it - it seems easy, but it is often definitely not, so read carefully!\n",
    "\n",
    "\n",
    "<div class=\"alert alert-warning\">\n",
    "\n",
    "**WARNING**: when you are saving the file, **make sure the file have the extension** `.py` **!!**    \n",
    "</div>\n",
    "\n",
    "Let's suppose to create the file `my_script.py` inside a folder called `MYFOLDER`:\n",
    "\n",
    "* **WINDOWS**: if you use _Notepad_, in the save window you have to to set _Save as_ to _All files_ (otherwise the file will be wrongly saved like `my_script.py.txt` !)\n",
    "* **MAC**: if you use _TextEdit,_ before saving click _Format_ and then _Convert to format Only text:_ **if you forget this passage, TextEdit in the save window will not allow you to save in the right format and you will probably end up with a file .rtf which we are not interested in**"
   ]
  },
  {
   "cell_type": "markdown",
   "metadata": {},
   "source": [
    "3. Open a console (in Windows: system menu -> Anaconda Prompt, in Mac OS X: run the Terminal)\n",
    "\n",
    "the console opens the so-called _commands prompt_. In this _prompt_ you can directly enter commands  for the operating system (see [previous paragraph](#Python-interpreter)\n",
    "\n",
    "<div class=\"alert alert-warning\">\n",
    "\n",
    "**WARNING**: the commands you give in the prompt are commands in the language of the operating system you are using, **NOT** Python language !!!!!\n",
    "    \n",
    "</div>\n",
    "\n",
    "In Windows you should see something like this:\n",
    "\n",
    "```\n",
    "C:\\Users\\David> \n",
    "```\n",
    "\n",
    "In Mac / Linux it could be something like this:\n",
    "\n",
    "```bash\n",
    "david@my-computer:~$\n",
    "```"
   ]
  },
  {
   "cell_type": "markdown",
   "metadata": {},
   "source": [
    "Try for example to type the command `dir` (or `ls` for Mac / Linux) which shows all the files in the current folder. In my case a list like this appears:\n",
    "\n",
    "<div class=\"alert alert-warning\">\n",
    "\n",
    "**LET ME REPEAT**: in this context `dir` / `ls` are commands of the _operating system,_ **NOT** Python.      \n",
    "\n",
    "</div>\n",
    "\n",
    "```\n",
    "C:\\Users\\David> dir\n",
    "Arduino                    gotysc                           program.wav\n",
    "a.txt                      index.html                       Public\n",
    "MYFOLDER                   java0.log                        RegDocente.pdf\n",
    "backupsys                  java1.log                                \n",
    "BaseXData                  java_error_in_IDEA_14362.log \n",
    "```\n",
    "\n",
    "If you notice, in the list there is the name MYFOLDER, where I put `my_script.py`. To _enter_ the folder in the _prompt,_ you must first use the operating system command `cd` like this:"
   ]
  },
  {
   "cell_type": "markdown",
   "metadata": {},
   "source": [
    "4. To enter a folder called MYFOLDER, type `cd MYFOLDER`:\n",
    "\n",
    "```\n",
    "C:\\Users\\David> cd MYFOLDER\n",
    "C:\\Users\\David\\MYFOLDER>\n",
    "```\n",
    "\n",
    "**What if I get into the wrong folder?**\n",
    "\n",
    "If by chance you enter the wrong folder, like `DUMBTHINGS`, to go back of one folder, type `cd ..` (NOTE: `cd` is followed by one space and TWO dots `..` _one after the other_ )\n",
    "\n",
    "\n",
    "```\n",
    "C:\\Users\\David\\DUMBTHINGS> cd ..\n",
    "C:\\Users\\David\\>\n",
    "```"
   ]
  },
  {
   "cell_type": "markdown",
   "metadata": {},
   "source": [
    "5. Mae sure to be in the folder which contains `my_script.py`. If you aren't there, use commands `cd` and `cd ..` like above to navigate the folders.\n",
    "\n",
    "Let's see what present in MYFOLDER with the system command `dir` (or `ls` if in Mac/Linux):\n",
    "\n",
    "<div class=\"alert alert-warning\">\n",
    "\n",
    "**LET ME REPEAT**: inthis context `dir` (or `ls` is a command of the _operating system,_ **NOT** Python.\n",
    "</div>\n",
    "\n",
    "\n",
    "```\n",
    "C:\\Users\\David\\MYFOLDER> dir\n",
    "\n",
    "my_script.py\n",
    "```\n",
    "\n",
    "`dir` is telling us that inside `MYFOLDER` there is our file `my_script.py`"
   ]
  },
  {
   "cell_type": "markdown",
   "metadata": {},
   "source": [
    "\n",
    "\n",
    "6. From within `MYFOLDER`, type `python my_script.py`\n",
    "\n",
    "```\n",
    "C:\\Users\\David\\MYFOLDER>python my_script.py\n",
    "```\n",
    "\n",
    "<div class=\"alert alert-warning\">\n",
    "\n",
    "**WARNING**: if Python does not run, try typing `python3 my_script.py` with `3` at the end of `python`        \n",
    "\n",
    "</div>\n",
    "\n",
    "\n",
    "If everything went fine, you should see\n",
    "\n",
    "```\n",
    "8\n",
    "C:\\Users\\David\\MYFOLDER>\n",
    "```\n",
    "<div class=\"alert alert-warning\">\n",
    "\n",
    "**WARNING**: After executing a script this way, the console is awaiting new _system_ commands, **NOT** Python commands (so, there shouldn't be any triple greater-than `>>>`)        \n",
    "</div>"
   ]
  },
  {
   "cell_type": "markdown",
   "metadata": {},
   "source": [
    "### IDE\n",
    "\n",
    "in these tutorial we work on Jupyter notebooks with extension `.ipynb`, but to edit long `.py` files  it's more convenient to use more traditional editors, also called IDE _(Integrated Development Environment)._ For Python we  can use [Spyder](https://www.spyder-ide.org/), [Visual Studio Code](https://code.visualstudio.com/Download) or [PyCharme Community Edition](https://www.jetbrains.com/pycharm/download/).\n",
    "\n",
    "Differently from Jupyter, these editors allow more easily code _debugging_ and _testing._ \n",
    "\n",
    "Let's try Spyder, which is the easiest - if you have Anaconda, you find it available inside Anaconda Navigator.\n",
    "\n",
    "<div class=\"alert alert-info\">\n",
    "\n",
    "**INFO**: Whenever you run Spyder, it might ask you to perform an upgrade, in these cases you can just click No.      \n",
    "</div>\n",
    "\n",
    "In the upper-left corner of the editor there is the code of the file `.py` you are editing. Such files are also said _script._ In the lower-right corner there is the console with the IPython interpreter (which is the same at the heart of Jupyter, here in textual form). When you execute the script, it's like inserting commands in that interpreter.\n",
    "\n",
    "- To execute the whole script: press `F5`\n",
    "- To execute only the current line or the selection: press `F9`\n",
    "- To clear memory: after many executions the variables in the memory of the interpreter might get values you don't expect. To clear the memory, click on the gear to the right of the console, and select _Restart kernel_\n",
    "\n",
    "\n",
    "**EXERCISE**: do some test, taking the file `my_script.py` we created before:\n",
    "\n",
    "```python\n",
    "x = 3\n",
    "y = 5\n",
    "print(x + y)\n",
    "```\n",
    "\n",
    "- once the code is in the script, hit `F5`\n",
    "- select only `print(x+y)` and hit F9\n",
    "- select only `x=3` and hit F9\n",
    "- click on th gear the right of the console panel, and select _Restart kernel,_ then select only `print(x+y)` and hit F9. What happens?\n",
    "\n",
    "Remember that if the memory of the interpreter has been cleared with _Restart kernel,_ and then you try executing a code row with variables defined in lines which were not exectued before, Python will not know which variables you are referring to and will show a `NameError`. "
   ]
  },
  {
   "cell_type": "markdown",
   "metadata": {},
   "source": [
    "![Spyder ide 3823](img/spyder-ide.png)"
   ]
  },
  {
   "cell_type": "markdown",
   "metadata": {},
   "source": [
    "## Jupyter\n",
    "\n",
    "Jupyter is an editor that allows to work on so called _notebooks,_ which are files ending with the extension `.ipynb`. They are documents divided in cells where in each cell you can insert commands and immediately see the respective output. Let's try opening this."
   ]
  },
  {
   "cell_type": "markdown",
   "metadata": {},
   "source": [
    "1. Unzip [exercises zip](../_static/generated/tools.zip) in a folder, you should obtain something like this:\n",
    "\n",
    "```\n",
    "\n",
    "tools\n",
    "    tools-sol.ipynb\n",
    "    tools.ipynb\n",
    "    jupman.py\n",
    "```\n",
    "\n",
    "<div class=\"alert alert-warning\">\n",
    "\n",
    "**WARNING: To correctly visualize the notebook, it MUST be in the unzipped folder.**\n",
    "</div>\n"
   ]
  },
  {
   "cell_type": "markdown",
   "metadata": {},
   "source": [
    "\n",
    "2. open Jupyter Notebook. Two things should appear, first a console and then a browser. In the browser navigate the files to reach the unzipped folder, and open the notebook `tools.ipynb`\n",
    "\n",
    "<div class=\"alert alert-warning\">\n",
    "\n",
    "**WARNING: DO NOT click Upload button in Jupyer**\n",
    "    \n",
    "Just navigate until you reach the file.\n",
    "</div>\n",
    "\n",
    "\n",
    "<div class=\"alert alert-warning\">\n",
    "\n",
    "**WARNING: open the notebook WITHOUT the** `-sol` **at the end!**\n",
    "    \n",
    "Seeing now the solutions is too easy ;-)    \n",
    "    \n",
    "</div>"
   ]
  },
  {
   "cell_type": "markdown",
   "metadata": {},
   "source": [
    "3. Go on reading the exercises file, sometimes you will find paragraphs marked **Exercises** which will ask to write Python commands in the following cells.Exercises are graded by difficulty, from one star ✪ to four ✪✪✪✪\n",
    "\n",
    "<div class=\"alert alert-warning\">\n",
    "\n",
    "**WARNING: In this book we use ONLY PYTHON 3** <br/>\n",
    "\n",
    "If by chance you obtain weird behaviours, check you are using Python 3 and not 2. If by chance by typing `python` your operating system runs python 2, try executing the third by typing the command `python3`\n",
    "    \n",
    "</div>\n",
    "\n",
    "<div class=\"alert alert-info\">\n",
    "\n",
    "**If you don't find Jupyter / something doesn't work:** have a look at [installation](https://en.softpython.org/installation.html#Jupyter-Notebook)        \n",
    "</div>\n",
    "\n"
   ]
  },
  {
   "cell_type": "markdown",
   "metadata": {},
   "source": [
    "Useful shortcuts:\n",
    "\n",
    "* to execute Python code inside a Jupyter cell, press `Control + Enter`\n",
    "* to execute Python code inside a Jupyter cell AND select next cell, press `Shift + Enter`\n",
    "* to execute Python code inside a Jupyter cell AND a create a new cell aftwerwards, press `Alt + Enter`\n",
    "* when something seem wrong in computations, try to clean memory by running `Kernel->Restart and Run all`"
   ]
  },
  {
   "cell_type": "markdown",
   "metadata": {},
   "source": [
    "**EXERCISE**: Let's try inserting a PYthon command: type in the cell below here `3 + 5`, then while in that cell press special keys `Control+Enter`. As a result, the number `8` should appear"
   ]
  },
  {
   "cell_type": "code",
   "execution_count": null,
   "metadata": {},
   "outputs": [],
   "source": []
  },
  {
   "cell_type": "markdown",
   "metadata": {},
   "source": [
    "**EXERCISE**: with Python we can write comments by starting a row with a sharp `#`. Like before, type in the next cell `3 + 5` but this time type it in the row under the writing `# write here`:"
   ]
  },
  {
   "cell_type": "code",
   "execution_count": 2,
   "metadata": {},
   "outputs": [],
   "source": [
    "# write here\n"
   ]
  },
  {
   "cell_type": "markdown",
   "metadata": {},
   "source": [
    "**EXERCISE**: In every cell Jupyter only shows the result of last executed row. Try inserting this code in the cell below and execute by pressing `Control+Enter`. Which result do you see?\n",
    "\n",
    "```python\n",
    "3 + 5\n",
    "1 + 1\n",
    "```"
   ]
  },
  {
   "cell_type": "code",
   "execution_count": 3,
   "metadata": {},
   "outputs": [],
   "source": [
    "# write here\n",
    "\n"
   ]
  },
  {
   "cell_type": "markdown",
   "metadata": {},
   "source": [
    "**EXERCISE**: Let's try now to create a new cell.\n",
    "\n",
    "* While you are with curson the cell, press `Alt+Enter`. A new cell should be created after the current one.\n",
    "\n",
    "* In the cell just created, insert `2+3` and press `Shift+Enter`. What happens to the cursor? Try the difference swith `Control+Enter`. If you don't understand the difference, try pressing many times `Shit+Enter` and see what happens."
   ]
  },
  {
   "cell_type": "markdown",
   "metadata": {},
   "source": [
    "### Printing an expression"
   ]
  },
  {
   "cell_type": "markdown",
   "metadata": {},
   "source": [
    "Let's try to assign an expression to a variable:"
   ]
  },
  {
   "cell_type": "code",
   "execution_count": 4,
   "metadata": {},
   "outputs": [],
   "source": [
    "coins = 3 + 2"
   ]
  },
  {
   "cell_type": "markdown",
   "metadata": {},
   "source": [
    "Note the assignment by itself does not produce any output in the Jupyter cell. We can ask Jupyter the value of the variable by simply typing again the name in a cell:"
   ]
  },
  {
   "cell_type": "code",
   "execution_count": 5,
   "metadata": {},
   "outputs": [
    {
     "data": {
      "text/plain": [
       "5"
      ]
     },
     "execution_count": 5,
     "metadata": {},
     "output_type": "execute_result"
    }
   ],
   "source": [
    "coins"
   ]
  },
  {
   "cell_type": "markdown",
   "metadata": {},
   "source": [
    "The effect is (almost always) the same we would obtain by explictly calling the function `print`:"
   ]
  },
  {
   "cell_type": "code",
   "execution_count": 6,
   "metadata": {},
   "outputs": [
    {
     "name": "stdout",
     "output_type": "stream",
     "text": [
      "5\n"
     ]
    }
   ],
   "source": [
    "print(coins)"
   ]
  },
  {
   "cell_type": "markdown",
   "metadata": {},
   "source": [
    "What's the difference? For our convenience Jupyter will directly show the result of the last executed expression in the cell, but only the last one:"
   ]
  },
  {
   "cell_type": "code",
   "execution_count": 7,
   "metadata": {},
   "outputs": [
    {
     "data": {
      "text/plain": [
       "4"
      ]
     },
     "execution_count": 7,
     "metadata": {},
     "output_type": "execute_result"
    }
   ],
   "source": [
    "coins = 4\n",
    "2 + 5\n",
    "coins"
   ]
  },
  {
   "cell_type": "markdown",
   "metadata": {},
   "source": [
    "If we want to be sure to print both, we need to use the function `print`:"
   ]
  },
  {
   "cell_type": "code",
   "execution_count": 8,
   "metadata": {},
   "outputs": [
    {
     "name": "stdout",
     "output_type": "stream",
     "text": [
      "7\n",
      "4\n"
     ]
    }
   ],
   "source": [
    "coins = 4\n",
    "print(2 + 5)\n",
    "print(coins)"
   ]
  },
  {
   "cell_type": "markdown",
   "metadata": {},
   "source": [
    "Furthermore, the result of last expression is shown only in Jupyter notebooks, if you are writig a normal `.py` script and you want to see results you must in any case use `print`."
   ]
  },
  {
   "cell_type": "markdown",
   "metadata": {},
   "source": [
    "If we want to print more expressions in one row, we can pass them as different parameters to `print` by separating them with a comma:"
   ]
  },
  {
   "cell_type": "code",
   "execution_count": 9,
   "metadata": {},
   "outputs": [
    {
     "name": "stdout",
     "output_type": "stream",
     "text": [
      "7 4\n"
     ]
    }
   ],
   "source": [
    "coins = 4\n",
    "print(2+5, coins)"
   ]
  },
  {
   "cell_type": "markdown",
   "metadata": {},
   "source": [
    "To `print` we can pass as many expressions as we want:"
   ]
  },
  {
   "cell_type": "code",
   "execution_count": 10,
   "metadata": {},
   "outputs": [
    {
     "name": "stdout",
     "output_type": "stream",
     "text": [
      "7 4 12\n"
     ]
    }
   ],
   "source": [
    "coins = 4\n",
    "print(2 + 5, coins, coins*3)"
   ]
  },
  {
   "cell_type": "markdown",
   "metadata": {},
   "source": [
    "If we also want to show some text, we can write it by creating so-called _strings_ between double quotes (we will see strings much more in detail in next chapters):"
   ]
  },
  {
   "cell_type": "code",
   "execution_count": 11,
   "metadata": {},
   "outputs": [
    {
     "name": "stdout",
     "output_type": "stream",
     "text": [
      "We have 4 golden coins, but we would like to have double: 8\n"
     ]
    }
   ],
   "source": [
    "coins = 4\n",
    "print(\"We have\", coins, \"golden coins, but we would like to have double:\", coins * 2)      "
   ]
  },
  {
   "cell_type": "markdown",
   "metadata": {},
   "source": [
    "**QUESTION**: Have a look at following expressions, and for each one of them try to guess the result it produces. Try cerifying your guesses both in Jupyter and another editor of files `.py` like Spyder:\n",
    "    \n",
    "1.  ```python\n",
    "    x = 1\n",
    "    x\n",
    "    x    \n",
    "    ```        \n",
    "1.  ```python\n",
    "    x = 1\n",
    "    x = 2\n",
    "    print(x)\n",
    "    ```    \n",
    "1.  ```python\n",
    "    x = 1\n",
    "    x = 2\n",
    "    x\n",
    "    ```     \n",
    "1.  ```python\n",
    "    x = 1\n",
    "    print(x)\n",
    "    x = 2\n",
    "    print(x)\n",
    "    ```        \n",
    "1.  ```python\n",
    "    print(zam)\n",
    "    print(zam)\n",
    "    zam = 1    \n",
    "    zam = 2    \n",
    "    ```    \n",
    "1.  ```python        \n",
    "    x = 5\n",
    "    print(x,x)\n",
    "    ```        \n",
    "1.  ```python        \n",
    "    x = 5\n",
    "    print(x)\n",
    "    print(x)\n",
    "    ```\n",
    "1.  ```python\n",
    "    carpets = 8\n",
    "    length = 5\n",
    "    print(\"If I have\", carpets, \"carpets in sequence I walk for\", carpets * length, \"meters.\")\n",
    "    ```\n",
    "1.  ```python\n",
    "    carpets = 8\n",
    "    length = 5\n",
    "    print(\"If\", \"I\",\"have\", carpets, \"carpets\",\"in\", \"sequence\",\"I\", \"walk\", \"for\", carpets * length, \"meters.\")\n",
    "    ```    "
   ]
  },
  {
   "cell_type": "markdown",
   "metadata": {},
   "source": [
    "### Exercise - Castles in the air\n",
    "\n",
    "Given two variables\n",
    "\n",
    "```python\n",
    "castles = 7\n",
    "dirigibles = 4\n",
    "```\n",
    "write some code to print:\n",
    "\n",
    "```\n",
    "I've built 7 castles in the air\n",
    "I have 4 steam dirigibles\n",
    "I want a dirigible parked at each castle\n",
    "So I will buy other 3 at the Steam Market\n",
    "```\n",
    "\n",
    "- **DO NOT** put numerical constants in your code like `7`, `4` or `3`! Write generic code which only uses the provided variables."
   ]
  },
  {
   "cell_type": "code",
   "execution_count": 12,
   "metadata": {},
   "outputs": [
    {
     "name": "stdout",
     "output_type": "stream",
     "text": [
      "I've built 7 castles in the air\n",
      "I have 4 steam dirigibles\n",
      "I want a dirigible parked at each castle\n",
      "So I will buy other 3 at the Steam Market\n"
     ]
    }
   ],
   "source": [
    "castles = 7\n",
    "dirigibles = 4\n",
    "# write here\n",
    "print(\"I've built\",castles, \"castles in the air\")\n",
    "print(\"I have\", dirigibles, \"steam dirigibles\")\n",
    "print(\"I want a dirigible parked at each castle\")\n",
    "print(\"So I will buy other\", castles - dirigibles, \"at the Steam Market\")"
   ]
  },
  {
   "cell_type": "markdown",
   "metadata": {},
   "source": [
    "## Visualizing the execution with Python Tutor\n",
    "\n",
    "We have seen some of the main data types. Before going further, it's good to see the right tools to understand at best what happens when we execute the code.\n",
    "\n",
    "[Python tutor](http://pythontutor.com/) is a very good website to visualize online Python code execution, allowing to step forth and _back_ in code flow. Exploit it as much as you can, it should work with many of the examples we shall see in the book. Let's try an example\n",
    "\n",
    "**Python tutor 1/4**\n",
    "\n",
    "Go to [pythontutor.com](http://pythontutor.com/) and select _Python 3_"
   ]
  },
  {
   "cell_type": "markdown",
   "metadata": {},
   "source": [
    "![pytut-1-8e1](img/pytut-1.jpg)"
   ]
  },
  {
   "cell_type": "markdown",
   "metadata": {},
   "source": [
    "**Python tutor 2/4**\n",
    "\n",
    "![pytut-2-49823273](img/pytut-2.jpg)"
   ]
  },
  {
   "cell_type": "markdown",
   "metadata": {},
   "source": [
    "**Python tutor 3/4**\n",
    "\n",
    "![pytut-3-891232342](img/pytut-3.jpg)"
   ]
  },
  {
   "cell_type": "markdown",
   "metadata": {},
   "source": [
    "**Python tutor 4/4**\n",
    "\n",
    "![pytut-4-27854](img/pytut-4.jpg)"
   ]
  },
  {
   "cell_type": "markdown",
   "metadata": {},
   "source": [
    "### Debugging code in Jupyter\n",
    "\n",
    "\n",
    "Python Tutor is fantastic, but when you execute code in Jupyter and it doesn't work, what can you do? To inspect the execution, the editor usually make available a tool called _debugger,_ which allows to execute instructions one by one. At present (August 2018), the Jupyter debugger is called [pdb](https://davidhamann.de/2017/04/22/debugging-jupyter-notebooks/) and it is extremely limited. To overcome limitations, in this book we invented a custom solution which exploits Python Tutor.\n",
    "\n",
    "If you insert Python code in a cell, and then **at the cell end** you write the instruction `jupman.pytut()`, the preceding code will be visualized inside Jupyter notebook with Python Tutor, as if by magic."
   ]
  },
  {
   "cell_type": "markdown",
   "metadata": {},
   "source": [
    "<div class=\"alert alert-warning\">\n",
    "\n",
    "**WARNING**: `jupman` is a collection of support functions we invented just for this book.\n",
    "    \n",
    "Whenever you see commands which start with `jupman`, to make them work you need first to execute the cell at the beginning of the document. For convenience we report here that cell. If you already didn't, execute it now.\n",
    "\n",
    "</div>\n"
   ]
  },
  {
   "cell_type": "code",
   "execution_count": 13,
   "metadata": {},
   "outputs": [],
   "source": [
    "# Remember to execute this cell with Control+Enter\n",
    "# These commands tell Python where to find the file jupman.py\n",
    "import sys;\n",
    "sys.path.append('../'); \n",
    "import jupman;"
   ]
  },
  {
   "cell_type": "markdown",
   "metadata": {},
   "source": [
    "Now we are ready yo try Python Tutor with the magic function `jupman.pytut()`: "
   ]
  },
  {
   "cell_type": "code",
   "execution_count": 14,
   "metadata": {},
   "outputs": [
    {
     "data": {
      "text/html": [
       "\n",
       "        <script src=\"../_static/js/pytutor-embed.bundle.min.js\" type=\"application/javascript\"></script>\n",
       "     \n",
       "        <script id=\"json-jm452ce87c-ed35-4e62-ab61-b25f5b7cddd3\" type=\"application/json\" >\n",
       "            {\"code\": \" \\nx = 5\\ny = 7\\nz = x + y\", \"trace\": [{\"stack_to_render\": [], \"line\": 2, \"stdout\": \"\", \"globals\": {}, \"func_name\": \"<module>\", \"event\": \"step_line\", \"ordered_globals\": [], \"heap\": {}}, {\"stack_to_render\": [], \"line\": 3, \"stdout\": \"\", \"globals\": {\"x\": 5}, \"func_name\": \"<module>\", \"event\": \"step_line\", \"ordered_globals\": [\"x\"], \"heap\": {}}, {\"stack_to_render\": [], \"line\": 4, \"stdout\": \"\", \"globals\": {\"x\": 5, \"y\": 7}, \"func_name\": \"<module>\", \"event\": \"step_line\", \"ordered_globals\": [\"x\", \"y\"], \"heap\": {}}, {\"stack_to_render\": [], \"line\": 4, \"stdout\": \"\", \"globals\": {\"x\": 5, \"y\": 7, \"z\": 12}, \"func_name\": \"<module>\", \"event\": \"return\", \"ordered_globals\": [\"x\", \"y\", \"z\"], \"heap\": {}}]}\n",
       "        </script>\n",
       "        <div id=\"jm452ce87c-ed35-4e62-ab61-b25f5b7cddd3\" class=\"pytutorVisualizer\"> </div>\n",
       " \n",
       "        <style>\n",
       "        .vizLayoutTd {\n",
       "            background-color: #fff !important;\n",
       "        }\n",
       "\n",
       "        #pyStdout {            \n",
       "            min-height:25px;\n",
       "        }\n",
       "\n",
       "        /* 'Edit this code' link, hiding because replaces browser tab !!!*/\n",
       "        #editCodeLinkDiv {\n",
       "            display:none;  \n",
       "        }\n",
       "        </style>   \n",
       "                            \n",
       "        <script>\n",
       "        (function(){\n",
       "\n",
       "            var trace = JSON.parse(document.getElementById('json-jm452ce87c-ed35-4e62-ab61-b25f5b7cddd3').innerHTML);                                        \n",
       "            // NOTE 1: id without #\n",
       "            // NOTE 2 - maybe there are more predictable ways, but this will work anyway\n",
       "            //        - id should be number\n",
       "            visualizerIdOverride = Math.trunc(Math.random() * 100000000000)\n",
       "            addVisualizerToPage(trace, 'jm452ce87c-ed35-4e62-ab61-b25f5b7cddd3',{'embeddedMode' : false,\n",
       "                                             'visualizerIdOverride':visualizerIdOverride})  \n",
       "            \n",
       "            \n",
       "            // set overflow for pytuts - need to do in python as css \n",
       "            // does not allow parent selection\n",
       "            var pytuts = $('.pytutorVisualizer')\n",
       "            pytuts.closest('div.output_html.rendered_html.output_result')\n",
       "                    .css('overflow-x', 'visible')\n",
       "        \n",
       "            //pytuts.closest('div.output_html.rendered_html.output_result')\n",
       "            //      .css('background-color','red')                \n",
       "            \n",
       "        })()\n",
       "        </script>\n",
       "                \n",
       "                "
      ],
      "text/plain": [
       "<IPython.core.display.HTML object>"
      ]
     },
     "execution_count": 14,
     "metadata": {},
     "output_type": "execute_result"
    }
   ],
   "source": [
    "x = 5\n",
    "y = 7\n",
    "z = x + y\n",
    "\n",
    "jupman.pytut()"
   ]
  },
  {
   "cell_type": "markdown",
   "metadata": {},
   "source": [
    "####  Python Tutor : Limitation 1\n",
    "\n",
    "Python Tutor is handy, but there are important limitations:\n",
    "\n"
   ]
  },
  {
   "cell_type": "markdown",
   "metadata": {},
   "source": [
    "<div class=\"alert alert-warning\">\n",
    "\n",
    "**ATTENTION**: Python Tutor only looks inside one cell!\n",
    "\n",
    "Whenever you use Python Tutor inside Jupyter, the only code Python tutors considers is the one inside the cell where the command `jupman.pytut()` is.\n",
    "    \n",
    "</div>\n",
    "\n",
    "So for example in the two following cells, only `print(w)` will appear inside Python tutor without the `w = 3`. If you try clicking _Forward_ in Python tutor, you will we warned that `w` was not defined."
   ]
  },
  {
   "cell_type": "code",
   "execution_count": 15,
   "metadata": {},
   "outputs": [],
   "source": [
    "w = 3"
   ]
  },
  {
   "cell_type": "code",
   "execution_count": 16,
   "metadata": {},
   "outputs": [
    {
     "name": "stdout",
     "output_type": "stream",
     "text": [
      "3\n"
     ]
    },
    {
     "name": "stderr",
     "output_type": "stream",
     "text": [
      "Traceback (most recent call last):\n",
      "  File \"../jupman.py\", line 2305, in _runscript\n",
      "    self.run(script_str, user_globals, user_globals)\n",
      "  File \"/usr/lib/python3.5/bdb.py\", line 431, in run\n",
      "    exec(cmd, globals, locals)\n",
      "  File \"<string>\", line 2, in <module>\n",
      "NameError: name 'w' is not defined\n"
     ]
    },
    {
     "data": {
      "text/html": [
       "\n",
       "        <script src=\"../_static/js/pytutor-embed.bundle.min.js\" type=\"application/javascript\"></script>\n",
       "     \n",
       "        <script id=\"json-jma7e02fe7-c3ef-4eb9-8daf-73d742e5548a\" type=\"application/json\" >\n",
       "            {\"code\": \" \\nprint(w)\", \"trace\": [{\"stack_to_render\": [], \"line\": 2, \"stdout\": \"\", \"globals\": {}, \"func_name\": \"<module>\", \"event\": \"step_line\", \"ordered_globals\": [], \"heap\": {}}, {\"stack_to_render\": [], \"exception_msg\": \"NameError: name 'w' is not defined\", \"line\": 2, \"stdout\": \"\", \"globals\": {}, \"func_name\": \"<module>\", \"event\": \"exception\", \"ordered_globals\": [], \"heap\": {}}]}\n",
       "        </script>\n",
       "        <div id=\"jma7e02fe7-c3ef-4eb9-8daf-73d742e5548a\" class=\"pytutorVisualizer\"> </div>\n",
       " \n",
       "        <style>\n",
       "        .vizLayoutTd {\n",
       "            background-color: #fff !important;\n",
       "        }\n",
       "\n",
       "        #pyStdout {            \n",
       "            min-height:25px;\n",
       "        }\n",
       "\n",
       "        /* 'Edit this code' link, hiding because replaces browser tab !!!*/\n",
       "        #editCodeLinkDiv {\n",
       "            display:none;  \n",
       "        }\n",
       "        </style>   \n",
       "                            \n",
       "        <script>\n",
       "        (function(){\n",
       "\n",
       "            var trace = JSON.parse(document.getElementById('json-jma7e02fe7-c3ef-4eb9-8daf-73d742e5548a').innerHTML);                                        \n",
       "            // NOTE 1: id without #\n",
       "            // NOTE 2 - maybe there are more predictable ways, but this will work anyway\n",
       "            //        - id should be number\n",
       "            visualizerIdOverride = Math.trunc(Math.random() * 100000000000)\n",
       "            addVisualizerToPage(trace, 'jma7e02fe7-c3ef-4eb9-8daf-73d742e5548a',{'embeddedMode' : false,\n",
       "                                             'visualizerIdOverride':visualizerIdOverride})  \n",
       "            \n",
       "            \n",
       "            // set overflow for pytuts - need to do in python as css \n",
       "            // does not allow parent selection\n",
       "            var pytuts = $('.pytutorVisualizer')\n",
       "            pytuts.closest('div.output_html.rendered_html.output_result')\n",
       "                    .css('overflow-x', 'visible')\n",
       "        \n",
       "            //pytuts.closest('div.output_html.rendered_html.output_result')\n",
       "            //      .css('background-color','red')                \n",
       "            \n",
       "        })()\n",
       "        </script>\n",
       "                \n",
       "                "
      ],
      "text/plain": [
       "<IPython.core.display.HTML object>"
      ]
     },
     "execution_count": 16,
     "metadata": {},
     "output_type": "execute_result"
    }
   ],
   "source": [
    "print(w)\n",
    "\n",
    "jupman.pytut()"
   ]
  },
  {
   "cell_type": "markdown",
   "metadata": {},
   "source": [
    "To have it work in Python Tutor you must put ALL the code in the SAME cell:"
   ]
  },
  {
   "cell_type": "code",
   "execution_count": 17,
   "metadata": {
    "scrolled": true
   },
   "outputs": [
    {
     "name": "stdout",
     "output_type": "stream",
     "text": [
      "3\n"
     ]
    },
    {
     "data": {
      "text/html": [
       "\n",
       "        <script src=\"../_static/js/pytutor-embed.bundle.min.js\" type=\"application/javascript\"></script>\n",
       "     \n",
       "        <script id=\"json-jm8a8e7729-dd75-4b1f-87c0-2d6fcdead378\" type=\"application/json\" >\n",
       "            {\"code\": \" \\nw = 3\\nprint(w)\", \"trace\": [{\"stack_to_render\": [], \"line\": 2, \"stdout\": \"\", \"globals\": {}, \"func_name\": \"<module>\", \"event\": \"step_line\", \"ordered_globals\": [], \"heap\": {}}, {\"stack_to_render\": [], \"line\": 3, \"stdout\": \"\", \"globals\": {\"w\": 3}, \"func_name\": \"<module>\", \"event\": \"step_line\", \"ordered_globals\": [\"w\"], \"heap\": {}}, {\"stack_to_render\": [], \"line\": 3, \"stdout\": \"3\\n\", \"globals\": {\"w\": 3}, \"func_name\": \"<module>\", \"event\": \"return\", \"ordered_globals\": [\"w\"], \"heap\": {}}]}\n",
       "        </script>\n",
       "        <div id=\"jm8a8e7729-dd75-4b1f-87c0-2d6fcdead378\" class=\"pytutorVisualizer\"> </div>\n",
       " \n",
       "        <style>\n",
       "        .vizLayoutTd {\n",
       "            background-color: #fff !important;\n",
       "        }\n",
       "\n",
       "        #pyStdout {            \n",
       "            min-height:25px;\n",
       "        }\n",
       "\n",
       "        /* 'Edit this code' link, hiding because replaces browser tab !!!*/\n",
       "        #editCodeLinkDiv {\n",
       "            display:none;  \n",
       "        }\n",
       "        </style>   \n",
       "                            \n",
       "        <script>\n",
       "        (function(){\n",
       "\n",
       "            var trace = JSON.parse(document.getElementById('json-jm8a8e7729-dd75-4b1f-87c0-2d6fcdead378').innerHTML);                                        \n",
       "            // NOTE 1: id without #\n",
       "            // NOTE 2 - maybe there are more predictable ways, but this will work anyway\n",
       "            //        - id should be number\n",
       "            visualizerIdOverride = Math.trunc(Math.random() * 100000000000)\n",
       "            addVisualizerToPage(trace, 'jm8a8e7729-dd75-4b1f-87c0-2d6fcdead378',{'embeddedMode' : false,\n",
       "                                             'visualizerIdOverride':visualizerIdOverride})  \n",
       "            \n",
       "            \n",
       "            // set overflow for pytuts - need to do in python as css \n",
       "            // does not allow parent selection\n",
       "            var pytuts = $('.pytutorVisualizer')\n",
       "            pytuts.closest('div.output_html.rendered_html.output_result')\n",
       "                    .css('overflow-x', 'visible')\n",
       "        \n",
       "            //pytuts.closest('div.output_html.rendered_html.output_result')\n",
       "            //      .css('background-color','red')                \n",
       "            \n",
       "        })()\n",
       "        </script>\n",
       "                \n",
       "                "
      ],
      "text/plain": [
       "<IPython.core.display.HTML object>"
      ]
     },
     "execution_count": 17,
     "metadata": {},
     "output_type": "execute_result"
    }
   ],
   "source": [
    "w = 3\n",
    "print(w)\n",
    "\n",
    "jupman.pytut()"
   ]
  },
  {
   "cell_type": "markdown",
   "metadata": {},
   "source": [
    "####  Python Tutor : Limitation 2\n",
    "\n",
    "<div class=\"alert alert-warning\">\n",
    "\n",
    "**WARNING: Python Tutor only uses functions from standrd PYthon distribution**\n",
    "\n",
    "PYthon Tutor is good to inspect simple algorithms with basic Python functions, if you use libraries from third parties it will not work.    \n",
    "</div>\n",
    "\n",
    "If you use some library like `numpy`, you can try **only online** to select  `Python 3.6 with anaconda`\n",
    "\n",
    "![pytut-5-781302](img/pytut-5.jpg)\n"
   ]
  },
  {
   "cell_type": "markdown",
   "metadata": {},
   "source": [
    "### Exercise - tavern\n",
    "\n",
    "Given the variables\n",
    "\n",
    "```python\n",
    "pirates = 10\n",
    "each_wants = 5     # mugs of grog \n",
    "kegs = 4\n",
    "keg_capacity = 20  # mugs of grog\n",
    "```\n",
    "\n",
    "Try writing some code which prints:\n",
    "\n",
    "```\n",
    "In the tavern there are 10 pirates, each wants 5 mugs of grog\n",
    "We have 4 kegs full of grog\n",
    "From each keg we can take 20 mugs\n",
    "Tonight the pirates will drink 50 mugs, and 30 will remain for tomorrow\n",
    "```\n",
    "\n",
    "- **DO NOT** use numerical constant in your code, instead try using proposed variables\n",
    "- To keep track of remaining kegs, make a variable `remaining_mugs`\n",
    "- if you are using Jupyter, try using `jupman.pytut()` at the cell end to visualize the execution"
   ]
  },
  {
   "cell_type": "code",
   "execution_count": 18,
   "metadata": {},
   "outputs": [
    {
     "name": "stdout",
     "output_type": "stream",
     "text": [
      "In the tavern there are 10 pirates, each wants 5 mugs of grog\n",
      "We have 4 kegs full of grog\n",
      "From each keg we can take 20 mugs\n",
      "Tonight the pirates will drink 50 mugs, and 30 will remain for tomorrow\n"
     ]
    }
   ],
   "source": [
    "pirates = 10\n",
    "each_wants = 5      # mugs of grog \n",
    "kegs = 4\n",
    "keg_capacity = 20  # mugs of grog\n",
    "\n",
    "\n",
    "# write here\n",
    "print(\"In the tavern there are\", pirates, \"pirates, each wants\", each_wants, \"mugs of grog\")\n",
    "print(\"We have\", kegs, \"kegs full of grog\")\n",
    "print(\"From each keg we can take\", keg_capacity,\"mugs\")\n",
    "remaining_mugs = kegs*keg_capacity - pirates*each_wants\n",
    "print(\"Tonight the pirates will drink\", pirates * each_wants, \"mugs, and\", remaining_mugs, \"will remain for tomorrow\")\n",
    "\n",
    "#jupman.pytut()"
   ]
  },
  {
   "cell_type": "markdown",
   "metadata": {},
   "source": [
    "## Python Architecture\n",
    "\n",
    "The following part is not strictly fundamental to understand the book, it's useful to understand what happens under the hood when you execute commands.\n",
    "\n",
    "Let's go back to Jupyter: the notebook editor Jupyter is a very powerful tool and flexible, allows to execute Python code, not only that, also code written in other programming languages (R, Bash, etc) and formatting languages (HTML, Markdown, Latex, etc).\n",
    "\n",
    "Se must keep in mind that the Python code we insert in cells of Jupyter notebooks (the files with extension `.ipynb`) is not certainly magically understood by your computer. Under the hood, a lot of transformations are performed so to allow you computer processor to understaned the instructions to be executed. We report here the main transformations which happen, from Jupyter to the processor (CPU):"
   ]
  },
  {
   "cell_type": "markdown",
   "metadata": {},
   "source": [
    "### Python is a high level language\n",
    "\n",
    "Let's try to understand well what happens when you execute a cell:\n",
    "\n",
    "1. **source code**: First Jupyter checks if you wrote some Python _source code_ in the cell (it could also be other programming languages like R, Bash, or formatting like Markdown ...). By default Jupyter assumes your code is Python. Let's suppose there is the following code:\n",
    "\n",
    "```python\n",
    "x = 3\n",
    "y = 5\n",
    "print(x + y)\n",
    "```\n",
    "\n",
    "**EXERCISE**: Without going into code details, try copy/pasting it into the cell below. Making sure to have the cursor in the cell, execute it with `Control + Enter`. When you execute it an `8` should appear as calculation result. The `# write down here` as all rows beginning with a sharp `#` is only a comment which will be ignored by Python"
   ]
  },
  {
   "cell_type": "code",
   "execution_count": 19,
   "metadata": {},
   "outputs": [],
   "source": [
    "# write down here\n",
    "\n"
   ]
  },
  {
   "cell_type": "markdown",
   "metadata": {},
   "source": [
    "If you managed to execute the code, you can congratulate Python! It allowed you to execute a program written in a quite comprehensible language _independently_ from your operating system (Windows, Mac Os X, Linux ...) and from the processor of your computer (x86, ARM, ...)! Not only that, the notebook editor Jupyter also placed the result in your browser."
   ]
  },
  {
   "cell_type": "markdown",
   "metadata": {},
   "source": [
    "\n",
    "In detail, what happened? Let's see:\n",
    "\n",
    "2. **bytecode**: When requesting the execution, Jupyter took the text written in the cell, and sent it to the so-called _Python compiler_ which transformed it into _bytecode_. The _bytecode_ is a longer  sequence of instructions which is less intelligeble for us humans (**this is only an example, there is no need to understand it !!**):\n",
    "\n",
    "``` \n",
    "  2           0 LOAD_CONST               1 (3)\n",
    "              3 STORE_FAST               0 (x)\n",
    "\n",
    "  3           6 LOAD_CONST               2 (5)\n",
    "              9 STORE_FAST               1 (y)\n",
    "\n",
    "  4          12 LOAD_GLOBAL              0 (print)\n",
    "             15 LOAD_FAST                0 (x)\n",
    "             18 LOAD_FAST                1 (y)\n",
    "             21 BINARY_ADD\n",
    "             22 CALL_FUNCTION            1 (1 positional, 0 keyword pair)\n",
    "             25 POP_TOP\n",
    "             26 LOAD_CONST               0 (None)\n",
    "             29 RETURN_VALUE\n",
    "```"
   ]
  },
  {
   "cell_type": "markdown",
   "metadata": {},
   "source": [
    "3. **machine code**: The _Python interpreter_ took the _bytecode_ above one instruction per time, and converted it into _machine code_ which can actually be understood by the processor (CPU) of your computer. To us the _machine code_ may look even longer and uglier of _bytecode_ but the processor is happy and by reading it produces the program results. Example of _machine code_ (**it is just an example, you do not need to understand it !!**):\n",
    "\n",
    "``` \n",
    "mult:\n",
    "\tpush rbp\n",
    "\tmov rbp, rsp\n",
    "\tmov eax, 0\n",
    "mult_loop:\n",
    "\tcmp edi, 0\n",
    "\tje mult_end\n",
    "\tadd eax, esi\n",
    "\tsub edi, 1\n",
    "\tjmp mult_loop\n",
    "mult_end:\n",
    "\tpop rbp\n",
    "\tret\n",
    "```"
   ]
  },
  {
   "cell_type": "markdown",
   "metadata": {},
   "source": [
    "We report in a table what we said above. In the table we explicitly write the file extension ni which we can write the various code formats\n",
    "\n",
    "- The ones interesting for us are Jupyter notebooks `.ipynb` and Python source code files `.py`\n",
    "- `.pyc` file smay be generated by the compiler when reading `.py` files, but they are not interesting to us, we will never need to edit the,\n",
    "- `.asm` machine code also doesn't matter for us\n",
    "\n",
    "|   Tool  | Language| File | Example|\n",
    "|-----|-----------|---------|---|\n",
    "| Jupyter Notebook| Python| .ipynb||\n",
    "|    Python Compiler | Python source code | .py |`x = 3`<br> `y = 5`<br> `print(x + y )`|\n",
    "|    Python Interpreter | Python bytecode |  .pyc| `0 LOAD_CONST  1 (3)`<br>`3  STORE_FAST 0 (x)`|\n",
    "| Processor (CPU)    | Machine code| .asm |`cmp edi, 0`<br>`je mult_end`|\n",
    "\n",
    "\n",
    "\n",
    "No that we now have an idea of what happens, we can maybe understand better the statement _Python is a high level language,_ that is, it's positioned high in the above table: when we write Python code, we are not interested in the generated  _bytecode_ or _machine code,_ we can **just focus on the program logic**. \n",
    "Besides, the Python code we write is **independent from the pc architecture**: if we have a Python interpreter installed on a computer, it will take care of converting the high-level code into the machine code of that particular architecture, which includes the operating system (Windows / Mac Os X / Linux) and processor (x86, ARM, PowerPC, etc)."
   ]
  },
  {
   "cell_type": "markdown",
   "metadata": {},
   "source": [
    "### Performance\n",
    "\n",
    "Everything has a price. If we want to write programs focusing only on the _high level logic_ without entering into the details of how it gets interpreted by the processor, we tyipcally need to give up on _performance._ Since Python is an _interpreted_ language has the downside of being slow. What if we really need efficiency? Luckily, Python can be extended with code written in _C language_ which typically is much more performant. Actually, even if you won't notice it, many functions of Python under the hood are directly written in the fast C language. If you really need performance (not in this book!) it might be worth writing first a prototype in Python and, once established it works, compile it into _C language_ by using [Cython compiler](http://cython.org/) and manually optimize the generated code."
   ]
  },
  {
   "cell_type": "code",
   "execution_count": null,
   "metadata": {},
   "outputs": [],
   "source": []
  }
 ],
 "metadata": {
  "celltoolbar": "Edit Metadata",
  "kernelspec": {
   "display_name": "Python 3",
   "language": "python",
   "name": "python3"
  },
  "language_info": {
   "codemirror_mode": {
    "name": "ipython",
    "version": 3
   },
   "file_extension": ".py",
   "mimetype": "text/x-python",
   "name": "python",
   "nbconvert_exporter": "python",
   "pygments_lexer": "ipython3",
   "version": "3.5.2"
  },
  "toc": {
   "base_numbering": 1,
   "nav_menu": {},
   "number_sections": false,
   "sideBar": true,
   "skip_h1_title": false,
   "title_cell": "Table of Contents",
   "title_sidebar": "Contents",
   "toc_cell": false,
   "toc_position": {
    "height": "calc(100% - 180px)",
    "left": "10px",
    "top": "150px",
    "width": "280.2px"
   },
   "toc_section_display": true,
   "toc_window_display": false
  }
 },
 "nbformat": 4,
 "nbformat_minor": 2
}
