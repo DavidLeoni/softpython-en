{
 "cells": [
  {
   "cell_type": "code",
   "execution_count": 1,
   "metadata": {
    "nbsphinx": "hidden"
   },
   "outputs": [],
   "source": [
    "# Remember to execute this cell with Shift+Enter\n",
    "\n",
    "import sys\n",
    "sys.path.append('../')\n",
    "import jupman"
   ]
  },
  {
   "cell_type": "markdown",
   "metadata": {},
   "source": [
    "# Dictionaries 2 - operators\n",
    "\n",
    "## [Download exercise zip](../_static/generated/dictionaries.zip)\n",
    "\n",
    "[Browse online files](https://github.com/DavidLeoni/softpython-en/tree/master/dictionaries)"
   ]
  },
  {
   "cell_type": "markdown",
   "metadata": {},
   "source": [
    "There are several operators to manipulate dictionaries:"
   ]
  },
  {
   "cell_type": "markdown",
   "metadata": {},
   "source": [
    "|Operator|Return|Description|\n",
    "|---------|-------|-----------|\n",
    "|`len`(dict)|`int`|Retorn the number of keys|\n",
    "|dict`[`key`]`|obj|Return the value associated to the key|\n",
    "|dict`[`key`]` `=` valore||Adds or modify the value associated to the key|\n",
    "|`del` dict`[`key`]`||Removes the key/value couple|\n",
    "|obj `in` dict|`bool`|Return `True` if the key obj is present in dict|\n",
    "|`==`,`!=`|`bool`|Checks whether two dictionaries are equal or different|"
   ]
  },
  {
   "cell_type": "markdown",
   "metadata": {},
   "source": [
    "## What to do\n",
    "\n",
    "1. Unzip [exercises zip](../_static/generated/dictionaries.zip) in a folder, you should obtain something like this:\n",
    "\n",
    "```\n",
    "dictionaries\n",
    "    dictionaries1.ipynb    \n",
    "    dictionaries1-sol.ipynb         \n",
    "    dictionaries2.ipynb    \n",
    "    dictionaries2-sol.ipynb         \n",
    "    dictionaries3.ipynb    \n",
    "    dictionaries3-sol.ipynb\n",
    "    dictionaries4.ipynb    \n",
    "    dictionaries4-sol.ipynb\n",
    "    dictionaries5-chal.ipynb        \n",
    "    jupman.py         \n",
    "```\n",
    "\n",
    "<div class=\"alert alert-warning\">\n",
    "\n",
    "**WARNING: to correctly visualize the notebook, it MUST be in an unzipped folder !**\n",
    "</div>"
   ]
  },
  {
   "cell_type": "markdown",
   "metadata": {},
   "source": [
    "2. open Jupyter Notebook from that folder. Two things should open, first a console and then a browser. The browser should show a file list: navigate the list and open the notebook `dictionaries2.ipynb`\n",
    "\n",
    "3. Go on reading the exercises file, sometimes you will find paragraphs marked **Exercises** which will ask to write Python commands in the following cells."
   ]
  },
  {
   "cell_type": "markdown",
   "metadata": {},
   "source": [
    "Shortcut keys:\n",
    "\n",
    "- to execute Python code inside a Jupyter cell, press `Control + Enter`\n",
    "\n",
    "- to execute Python code inside a Jupyter cell AND select next cell, press `Shift + Enter`\n",
    "\n",
    "- to execute Python code inside a Jupyter cell AND a create a new cell aftwerwards, press `Alt + Enter`\n",
    "\n",
    "- If the notebooks look stuck, try to select `Kernel -> Restart`"
   ]
  },
  {
   "cell_type": "markdown",
   "metadata": {},
   "source": [
    "## len\n",
    "\n",
    "We can obtain the number of key/value associations in a dictionary by using the function `len`:"
   ]
  },
  {
   "cell_type": "code",
   "execution_count": 2,
   "metadata": {},
   "outputs": [
    {
     "data": {
      "text/plain": [
       "3"
      ]
     },
     "execution_count": 2,
     "metadata": {},
     "output_type": "execute_result"
    }
   ],
   "source": [
    "len({'a':5,\n",
    "     'b':9,\n",
    "     'c':7\n",
    "})"
   ]
  },
  {
   "cell_type": "code",
   "execution_count": 3,
   "metadata": {},
   "outputs": [
    {
     "data": {
      "text/plain": [
       "2"
      ]
     },
     "execution_count": 3,
     "metadata": {},
     "output_type": "execute_result"
    }
   ],
   "source": [
    "len({3:8,\n",
    "     1:3\n",
    "})"
   ]
  },
  {
   "cell_type": "code",
   "execution_count": 4,
   "metadata": {},
   "outputs": [
    {
     "data": {
      "text/plain": [
       "0"
      ]
     },
     "execution_count": 4,
     "metadata": {},
     "output_type": "execute_result"
    }
   ],
   "source": [
    "len({})"
   ]
  },
  {
   "cell_type": "markdown",
   "metadata": {},
   "source": [
    "**QUESTION**: Look at the following expressions, and for each try guessing the result (or if it gives an error):\n",
    "\n",
    "1.  ```python\n",
    "    len(dict())\n",
    "    ```\n",
    "1.  ```python\n",
    "    len({'a':{}})\n",
    "    ```\n",
    "1.  ```python    \n",
    "    len({(1,2):{3},(4,5):{6},(7,8):{9}})\n",
    "    ```\n",
    "1.  ```python    \n",
    "    len({1:2,1:2,2:4,2:4,3:6,3:6})\n",
    "    ```\n",
    "1.  ```python    \n",
    "    len({1:2,',':3,',':4,})\n",
    "    ```    \n",
    "1.  ```python    \n",
    "    len(len({3:4,5:6}))\n",
    "    ```    "
   ]
  },
  {
   "cell_type": "markdown",
   "metadata": {},
   "source": [
    "## Reading a value\n",
    "\n",
    "At the end of dictionaries definition, it is reported:\n",
    "\n",
    "> **Given a key, we can find the corresponding value very fast**\n",
    "\n",
    "How can we specify the key to search? It's sufficient to use square brackets  `[` `]`, a bit like we already did for lists:"
   ]
  },
  {
   "cell_type": "code",
   "execution_count": 5,
   "metadata": {},
   "outputs": [],
   "source": [
    "\n",
    "furniture = {\n",
    "      'chair'    : 'a piece of furniture to sit on',\n",
    "      'cupboard' : 'a cabinet for storage',\n",
    "      'lamp'     : 'a device to provide illumination'\n",
    "    }\n"
   ]
  },
  {
   "cell_type": "code",
   "execution_count": 6,
   "metadata": {},
   "outputs": [
    {
     "data": {
      "text/plain": [
       "'a piece of furniture to sit on'"
      ]
     },
     "execution_count": 6,
     "metadata": {},
     "output_type": "execute_result"
    }
   ],
   "source": [
    "furniture['chair']"
   ]
  },
  {
   "cell_type": "code",
   "execution_count": 7,
   "metadata": {},
   "outputs": [
    {
     "data": {
      "text/plain": [
       "'a device to provide illumination'"
      ]
     },
     "execution_count": 7,
     "metadata": {},
     "output_type": "execute_result"
    }
   ],
   "source": [
    "furniture['lamp']"
   ]
  },
  {
   "cell_type": "markdown",
   "metadata": {},
   "source": [
    "<div class=\"alert alert-warning\">\n",
    "\n",
    "**WARNING**: What we put in square parenthesis **must** be a key present in the dictionary    \n",
    "</div>"
   ]
  },
  {
   "cell_type": "markdown",
   "metadata": {},
   "source": [
    "If we put keys which are not present, we will get an error:\n",
    "\n",
    "```python\n",
    ">>> furniture['armchair']\n",
    "\n",
    "---------------------------------------------------------------------------\n",
    "KeyError                                  Traceback (most recent call last)\n",
    "<ipython-input-19-ee891f51417b> in <module>\n",
    "----> 1 furniture['armchair']\n",
    "\n",
    "KeyError: 'armchair'\n",
    "\n",
    "```"
   ]
  },
  {
   "cell_type": "markdown",
   "metadata": {},
   "source": [
    "\n",
    "### Fast disorder\n",
    "\n",
    "Whenever we give a key to Python, how fast is it in getting the corresponding value? Very fast, so much so the speed _does not depend on the dictionary dimension._ Whether it is small or huge, given a key it will always find the associated value in about the same time.\n",
    "\n",
    "When we hold a dictionary in real life, we typically have an item to search for and we turn pages until we get what we're looking for: the fact items are sorted allows us to rapidly find the item.\n",
    "\n",
    "We might expect the same also in Python, but if we look at the definition we find a notable difference:\n",
    "\n",
    "\n",
    "> Dictionaries are mutable containers which allow us to rapidly associate elements called keys to some values\n",
    ">\n",
    ">    Keys are immutable, **don't have order** and there cannot be duplicates\n",
    ">    Values can be duplicated\n",
    "\n",
    "If keys are _not_ ordered, how can Python get the values so fast? The speed stems from the way Python memorizes keys, which is based on _hashes,_ similarly for what [happens with sets](https://en.softpython.org/sets/sets-sol.html#Mutable-elements-and-hashes). The downside is we can only _immutable_ objects as keys."
   ]
  },
  {
   "cell_type": "markdown",
   "metadata": {},
   "source": [
    "**QUESTION**: If we wanted to print the value `'a device to provide illumination'` we see at the bottom of the dictionary, without knowing it corresponds to `lamp`, would it make sense to write something like this?\n",
    "\n",
    "```python\n",
    "furniture = {'chair':'a piece of furniture to sit on',\n",
    "             'cupboard':'a cabinet for storage',\n",
    "             'lamp': 'a device to provide illumination'\n",
    "}\n",
    "\n",
    "print( furniture[2] )\n",
    "```"
   ]
  },
  {
   "cell_type": "markdown",
   "metadata": {},
   "source": [
    "**ANSWER**: Absolutely NOT. The couples key/value in the dictionary _are not_ ordered, so it makes no sense to get a value at a given position."
   ]
  },
  {
   "cell_type": "markdown",
   "metadata": {},
   "source": [
    "**QUESTION**: Look at the following expressions, and for each try guessing which result it produces (or if it gives an error):\n",
    "\n",
    "```python\n",
    "kabbalah = {\n",
    "    1 : 'Progress',\n",
    "    3 : 'Love',\n",
    "    5 : 'Creation'\n",
    "}\n",
    "```\n",
    "\n",
    "*  ```python\n",
    "    kabbalah[0]\n",
    "    ```\n",
    "*  ```python\n",
    "    kabbalah[1]\n",
    "    ```\n",
    "*  ```python    \n",
    "    kabbalah[2]\n",
    "    ```\n",
    "*  ```python    \n",
    "    kabbalah[3]\n",
    "    ```\n",
    "*  ```python    \n",
    "    kabbalah[4]\n",
    "    ```\n",
    "*  ```python    \n",
    "    kabbalah[5]\n",
    "    ```\n",
    "*  ```python    \n",
    "    kabbalah[-1]\n",
    "    ```    "
   ]
  },
  {
   "cell_type": "markdown",
   "metadata": {},
   "source": [
    "**ANSWER**: In the dictionary we have keys which are integer numbers: so we can use numbers among square brackets, which we will call _keys,_ but not _positions._\n",
    "\n",
    "The unique expressions which will produce results are those for which the number specified among the square brackets is effectively present among the keys:\n",
    "\n",
    "```python\n",
    ">>> kabbalah[1]\n",
    "'Progress'\n",
    ">>> kabbalah[3]\n",
    "'Love'\n",
    ">>> kabbalah[5]\n",
    "'Creation'\n",
    "```\n",
    "\n",
    "All others will give `KeyError`, like:\n",
    "\n",
    "```python\n",
    ">>> kabbalah[2]\n",
    "\n",
    "---------------------------------------------------------------------------\n",
    "KeyError                                  Traceback (most recent call last)\n",
    "<ipython-input-29-de66b9721e9b> in <module>\n",
    "      5 }\n",
    "      6 \n",
    "----> 7 kabbalah[2]\n",
    "\n",
    "KeyError: 2\n",
    "```"
   ]
  },
  {
   "cell_type": "markdown",
   "metadata": {},
   "source": [
    "**QUESTION**: Look at the following code fragments, and for each try guessing which result it produces (or if it gives an error):\n",
    "\n",
    "1.  ```python\n",
    "    {'a':4,'b':5}('a')\n",
    "    ```\n",
    "1.  ```python\n",
    "    {1:2,2:3,3:4}[2]\n",
    "    ```\n",
    "1.  ```python    \n",
    "    {'a':1,'b':2}['c']\n",
    "    ```\n",
    "1.  ```python    \n",
    "    {'a':1,'b':2}[a]\n",
    "    ```\n",
    "1.  ```python    \n",
    "    {'a':1,'b':2}[1]\n",
    "    ```\n",
    "1.  ```python        \n",
    "    {'a':1,'b':2,'c':3}['c']\n",
    "    ```\n",
    "1.  ```python        \n",
    "    {'a':1,'b':2,'c':3}[len(['a','b','c'])]\n",
    "    ```\n",
    "1.  ```python        \n",
    "    {(3,4):(1,2)}[(1,2)]\n",
    "    ```\n",
    "1.  ```python        \n",
    "    {(1,2):(3,4)}[(1,2)]\n",
    "    ```\n",
    "1.  ```python        \n",
    "    {[1,2]:[3,4]}[[1,2]]\n",
    "    ```\n",
    "1.  ```python        \n",
    "    {'a','b','c'}['a']\n",
    "    ```\n",
    "1.  ```python        \n",
    "    {'a:b','c:d'}['c']\n",
    "    ```\n",
    "1.  ```python        \n",
    "    {'a':4,'b':5}{'a'}\n",
    "    ```\n",
    "1.  ```python\n",
    "    d1 = {'a':'b'}\n",
    "    d2 = {'b':'c'}\n",
    "    print(d1[d2['c']])\n",
    "    ```\n",
    "1.  ```python\n",
    "    d1 = {'a':'b'}\n",
    "    d2 = {'b':'c'}\n",
    "    print(d2[d1['a']])\n",
    "    ```\n",
    "1.  ```python        \n",
    "    {}[]\n",
    "    ```\n",
    "1.  ```python        \n",
    "    {[]:3}[[]]\n",
    "    ```\n",
    "1.  ```python        \n",
    "    {1:7}['1']\n",
    "    ```\n",
    "1.  ```python        \n",
    "    {'':7}\"[]\"\n",
    "    ```\n",
    "1.  ```python        \n",
    "    {'':7}[\"\"]\n",
    "    ```\n",
    "1.  ```python        \n",
    "    {\"\":7}['']\n",
    "    ```\n",
    "1.  ```python        \n",
    "    {'\"':()}['']\n",
    "    ```        \n",
    "1.  ```python        \n",
    "    {():7}[()]\n",
    "    ```\n",
    "1.  ```python        \n",
    "    {(()):7}[()]\n",
    "    ```\n",
    "1.  ```python        \n",
    "    {(()):7}[((),)]\n",
    "    ```"
   ]
  },
  {
   "cell_type": "markdown",
   "metadata": {},
   "source": [
    "### Exercise - z7\n",
    "\n",
    "✪ Given a dictionary `d1` with keys `'b'` and `'c'` and integer values, create a dictionary `d2` containing the key `'z'` and associate to it the sum of values of keys from `d1`\n",
    "\n",
    "* your code must work for _any_ `d1` with keys `'b'` and `'c'`\n",
    "\n",
    "\n",
    "Example - given:\n",
    "\n",
    "```python\n",
    "d1 = {'a':6, 'b':2,'c':5}\n",
    "```\n",
    "\n",
    "After your code, it must result:\n",
    "\n",
    "```python\n",
    ">>> print(d2)\n",
    "{'z': 7}\n",
    "```"
   ]
  },
  {
   "cell_type": "code",
   "execution_count": 8,
   "metadata": {},
   "outputs": [
    {
     "name": "stdout",
     "output_type": "stream",
     "text": [
      "{'z': 7}\n"
     ]
    }
   ],
   "source": [
    "#jupman-purge-output\n",
    "d1 = {'a':6, 'b':2,'c':5}\n",
    "\n",
    "# write here\n",
    "\n",
    "d2 = {'z' : d1['b'] + d1['c']}\n",
    "\n",
    "print(d2)"
   ]
  },
  {
   "cell_type": "markdown",
   "metadata": {},
   "source": [
    "## Writing in the dictionary\n",
    "\n",
    "Can we write in a dictionary?\n",
    "\n",
    "> **Dictionaries are mutable containers** which allow us to rapidly associate elements called keys to some values\n",
    "\n",
    "The definition talks about mutability, so we are allowed to modify dictionaries after creation.\n",
    "\n",
    "Dictionaries are collections of key/value couples, and among the possible modifications we find:\n",
    "\n",
    "1. adding a key/value couple\n",
    "2. associate an existing key to a different value\n",
    "3. remove a key/value couple"
   ]
  },
  {
   "cell_type": "markdown",
   "metadata": {},
   "source": [
    "### Writing - adding key/value\n",
    "\n",
    "Suppose we created our dictionary `furniture`:"
   ]
  },
  {
   "cell_type": "code",
   "execution_count": 9,
   "metadata": {},
   "outputs": [],
   "source": [
    "\n",
    "furniture = {\n",
    "    'chair'    : 'a piece of furniture to sit on',\n",
    "    'cupboard' : 'a cabinet for storage',\n",
    "    'lamp'     : 'a device to provide illumination'\n",
    "}"
   ]
  },
  {
   "cell_type": "markdown",
   "metadata": {},
   "source": [
    "and afterwards we want  to add a definition for `'armchair'`. We can reuse the variable `furniture` followed by square brackets with inside the key we want to add `['armchair']` and after the brackets we will put an equality sign `=`"
   ]
  },
  {
   "cell_type": "code",
   "execution_count": 10,
   "metadata": {},
   "outputs": [],
   "source": [
    "furniture['armchair'] = 'a chair with armrests'"
   ]
  },
  {
   "cell_type": "markdown",
   "metadata": {},
   "source": [
    "Note Jupyter didn't show results, because the previous operation is an assignment _command_ (only _expressions_ generate results).\n",
    "\n",
    "But something did actually happen in memory, we can check it by `furniture`:"
   ]
  },
  {
   "cell_type": "code",
   "execution_count": 11,
   "metadata": {},
   "outputs": [
    {
     "data": {
      "text/plain": [
       "{'chair': 'a piece of furniture to sit on',\n",
       " 'cupboard': 'a cabinet for storage',\n",
       " 'lamp': 'a device to provide illumination',\n",
       " 'armchair': 'a chair with armrests'}"
      ]
     },
     "execution_count": 11,
     "metadata": {},
     "output_type": "execute_result"
    }
   ],
   "source": [
    "furniture"
   ]
  },
  {
   "cell_type": "markdown",
   "metadata": {},
   "source": [
    "Note the dictionary associated to the variable `furniture` was MODIFIED with the addition of `'armchair'`.\n",
    "\n",
    "When we add a key/value couple, we can use heterogenous types:"
   ]
  },
  {
   "cell_type": "code",
   "execution_count": 12,
   "metadata": {},
   "outputs": [],
   "source": [
    "trashcan = {\n",
    "    'bla' : 3,\n",
    "     4    : 'boh',\n",
    "    (7,9) : ['gar','bage'] \n",
    "}"
   ]
  },
  {
   "cell_type": "code",
   "execution_count": 13,
   "metadata": {},
   "outputs": [],
   "source": [
    "trashcan[5.0] = 'a float'"
   ]
  },
  {
   "cell_type": "code",
   "execution_count": 14,
   "metadata": {},
   "outputs": [
    {
     "data": {
      "text/plain": [
       "{'bla': 3, 4: 'boh', (7, 9): ['gar', 'bage'], 5.0: 'a float'}"
      ]
     },
     "execution_count": 14,
     "metadata": {},
     "output_type": "execute_result"
    }
   ],
   "source": [
    "trashcan"
   ]
  },
  {
   "cell_type": "markdown",
   "metadata": {},
   "source": [
    "We are subject to the same constraints on keys we have during the creation, so we can only use _immutable_ keys. If we try inserting a _mutable_ type, for example a list, we will get an error:"
   ]
  },
  {
   "cell_type": "markdown",
   "metadata": {},
   "source": [
    "```python \n",
    ">>> trashcan[ ['some', 'list']  ] = 8\n",
    "\n",
    "---------------------------------------------------------------------------\n",
    "TypeError                                 Traceback (most recent call last)\n",
    "<ipython-input-51-195ac9c21bcd> in <module>\n",
    "----> 1 trashcan[ ['some', 'list']  ] = 8\n",
    "\n",
    "TypeError: unhashable type: 'list'\n",
    "```\n"
   ]
  },
  {
   "cell_type": "markdown",
   "metadata": {},
   "source": [
    "**QUESTION**: Look at the following expressions, and for each try guessing the result (or if  gives an error):\n",
    "\n",
    "1.  ```python\n",
    "    d = {1:'a'}\n",
    "    d[2] = 'a'\n",
    "    print(d)\n",
    "    ```\n",
    "1.  ```python\n",
    "    d = {}\n",
    "    print(len(d))\n",
    "    d['a'] = 'b'\n",
    "    print(len(d))\n",
    "    ```\n",
    "1.  ```python\n",
    "    d1 = {'a':3, 'b':4}\n",
    "    diz2 = diz1\n",
    "    diz1['a'] = 5\n",
    "    print(diz1)\n",
    "    print(diz2)    \n",
    "    ```\n",
    "1.  ```python\n",
    "    diz1 = {'a':3, 'b':4}\n",
    "    diz2 = dict(diz1)\n",
    "    diz1['a'] = 5\n",
    "    print(diz1)\n",
    "    print(diz2)    \n",
    "    ```\n",
    "1.  ```python\n",
    "    la = ['a','c']\n",
    "    diz = {'a':3,\n",
    "           'b':4,\n",
    "           'c':5}\n",
    "    diz['d'] = diz[la[0]] + diz[la[1]]\n",
    "    print(diz)\n",
    "    ```\n",
    "1.  ```python\n",
    "    diz = {}\n",
    "    diz[()]: ''\n",
    "    diz[('a',)]: 'A'\n",
    "    diz[('a','b')]: 'AB'\n",
    "    print(diz)\n",
    "    ```\n",
    "1.  ```python\n",
    "    la = [5,8,6,9]\n",
    "    diz = {}\n",
    "    diz[la[0]]=la[2]\n",
    "    diz[la[2]]=la[0]\n",
    "    print(diz)\n",
    "    ```\n",
    "1.  ```python\n",
    "    diz = {}\n",
    "    diz[(4,5,6)[2]] = 'c'\n",
    "    diz[(4,5,6)[1]] = 'b'\n",
    "    diz[(4,5,6)[0]] = 'a'\n",
    "    print(diz)    \n",
    "    ```\n",
    "1.  ```python\n",
    "    diz1 = {\n",
    "        'a' : 'x',\n",
    "        'b' : 'x',\n",
    "        'c' : 'y',\n",
    "        'd' : 'y',\n",
    "    }\n",
    "\n",
    "    diz2 = {}\n",
    "    diz2[diz1['a']] = 'a'\n",
    "    diz2[diz1['b']] = 'b'\n",
    "    diz2[diz1['c']] = 'c'\n",
    "    diz2[diz1['d']] = 'd'\n",
    "    print(diz2)\n",
    "    ```"
   ]
  },
  {
   "cell_type": "markdown",
   "metadata": {},
   "source": [
    "### Writing - reassociate a key\n",
    "\n",
    "Let's suppose to change the definition of a `lamp`:"
   ]
  },
  {
   "cell_type": "code",
   "execution_count": 15,
   "metadata": {},
   "outputs": [],
   "source": [
    "furniture = {'chair':'a piece of furniture to sit on',\n",
    "             'cupboard':'a cabinet for storage',\n",
    "             'lamp': 'a device to provide illumination'\n",
    "}"
   ]
  },
  {
   "cell_type": "code",
   "execution_count": 16,
   "metadata": {},
   "outputs": [],
   "source": [
    "furniture['lamp'] = 'a device to provide visible light from electric current'"
   ]
  },
  {
   "cell_type": "code",
   "execution_count": 17,
   "metadata": {},
   "outputs": [
    {
     "data": {
      "text/plain": [
       "{'chair': 'a piece of furniture to sit on',\n",
       " 'cupboard': 'a cabinet for storage',\n",
       " 'lamp': 'a device to provide visible light from electric current'}"
      ]
     },
     "execution_count": 17,
     "metadata": {},
     "output_type": "execute_result"
    }
   ],
   "source": [
    "furniture"
   ]
  },
  {
   "cell_type": "markdown",
   "metadata": {},
   "source": [
    "### Exercise - workshop\n",
    "\n",
    "✪ MODIFY the dictionary `workshop`:\n",
    "\n",
    "1. set the `'bolts'` key value equal to the value of the `'pincers'` key\n",
    "2. increment the value of  `wheels` key of `1`\n",
    "\n",
    "* your code must work with any number associated to the keys\n",
    "* **DO NOT** create new dictionaries, so no lines beginning with `workshop = {`\n",
    "\n",
    "Example - given:\n",
    "\n",
    "```python\n",
    "workshop = {'wheels':3, \n",
    "            'bolts':2, \n",
    "            'pincers':5}\n",
    "```\n",
    "\n",
    "after your code, you should obtain:\n",
    "\n",
    "```python\n",
    ">>> print(workshop)\n",
    "{'bolts': 5, 'wheels': 4, 'pincers': 5}\n",
    "```"
   ]
  },
  {
   "cell_type": "code",
   "execution_count": 18,
   "metadata": {},
   "outputs": [],
   "source": [
    "workshop = {'wheels' : 3, \n",
    "            'bolts'  : 2, \n",
    "            'pincers': 5}\n",
    "\n",
    "# write here\n",
    "\n",
    "workshop['wheels'] = workshop['wheels'] + 1\n",
    "workshop['bolts'] = workshop['pincers']\n",
    "#print(workshop)"
   ]
  },
  {
   "cell_type": "markdown",
   "metadata": {},
   "source": [
    "**QUESTION**: Look at the following code fragments expressions, and for each try guessing the result it produces (or if it gives an error):\n",
    "\n",
    "1.  ```python\n",
    "    diz = {'a':'b'}\n",
    "    diz['a'] = 'a'\n",
    "    print(diz)\n",
    "    ```\n",
    "\n",
    "1.  ```python\n",
    "    diz = {'1':'2'}\n",
    "    diz[1] = diz[1] + 5   # nasty\n",
    "    print(diz)\n",
    "    ```\n",
    "\n",
    "1.  ```python\n",
    "    diz = {1:2}\n",
    "    diz[1] = diz[1] + 5\n",
    "    print(diz)\n",
    "    ```\n",
    "\n",
    "1.  ```python\n",
    "    d1 = {1:2}\n",
    "    d2 = {2:3}\n",
    "    d1[1] = d2[d1[1]]\n",
    "    print(d1)\n",
    "    ```"
   ]
  },
  {
   "cell_type": "markdown",
   "metadata": {},
   "source": [
    "### Writing - deleting\n",
    "\n",
    "To remove a key/value couple the special command `del` is provided. Let's take a dictionary:"
   ]
  },
  {
   "cell_type": "code",
   "execution_count": 19,
   "metadata": {},
   "outputs": [],
   "source": [
    "kitchen = {\n",
    "    'pots'  : 3,\n",
    "    'pans'  : 7,\n",
    "    'forks' : 20\n",
    "}"
   ]
  },
  {
   "cell_type": "markdown",
   "metadata": {},
   "source": [
    "If we want to eliminate the couple `pans : 7`, we will write `del` followed by the name of the dictionary and the key to eliminate among square brackets:"
   ]
  },
  {
   "cell_type": "code",
   "execution_count": 20,
   "metadata": {},
   "outputs": [],
   "source": [
    "del kitchen['pans']"
   ]
  },
  {
   "cell_type": "code",
   "execution_count": 21,
   "metadata": {},
   "outputs": [
    {
     "data": {
      "text/plain": [
       "{'pots': 3, 'forks': 20}"
      ]
     },
     "execution_count": 21,
     "metadata": {},
     "output_type": "execute_result"
    }
   ],
   "source": [
    "kitchen"
   ]
  },
  {
   "cell_type": "markdown",
   "metadata": {},
   "source": [
    "Trying to delete a non-existemt key will produce an error:"
   ]
  },
  {
   "cell_type": "markdown",
   "metadata": {},
   "source": [
    "```python\n",
    ">>> del cucina['crankshaft']\n",
    "\n",
    "---------------------------------------------------------------------------\n",
    "KeyError                                  Traceback (most recent call last)\n",
    "<ipython-input-34-c0d541348698> in <module>\n",
    "----> 1 del cucina['crankshaft']\n",
    "\n",
    "KeyError: 'crankshaft'\n",
    "\n",
    "```"
   ]
  },
  {
   "cell_type": "markdown",
   "metadata": {},
   "source": [
    "**QUESTION**: Look at the following code fragments, and for each try guessing which result it produces (or if it gives an error):\n",
    "\n",
    "1.  ```python\n",
    "    diz = {'a':'b'}\n",
    "    del diz['b']\n",
    "    print(diz)\n",
    "    ```\n",
    "\n",
    "1.  ```python\n",
    "    diz = {'a':'b', 'c':'d'}\n",
    "    del diz['a']\n",
    "    print(diz)\n",
    "    ```\n",
    "\n",
    "1.  ```python\n",
    "    diz = {'a':'b', 'c':'d'}\n",
    "    del diz['a']\n",
    "    del diz['a']\n",
    "    print(diz)\n",
    "    ```\n",
    "\n",
    "1.  ```python\n",
    "    diz = {'a':'b'}\n",
    "    new_diz = del diz['a']\n",
    "    print(diz)\n",
    "    print(new_diz)\n",
    "    ```\n",
    "\n",
    "1.  ```python\n",
    "    diz1 = {'a':'b', 'c':'d'}\n",
    "    diz2 = diz1\n",
    "    del diz1['a']\n",
    "    print(diz1)\n",
    "    print(diz2)\n",
    "    ```\n",
    "\n",
    "1.  ```python\n",
    "    diz1 = {'a':'b', 'c':'d'}\n",
    "    diz2 = dict(diz1)\n",
    "    del diz1['a']\n",
    "    print(diz1)\n",
    "    print(diz2)\n",
    "    ```\n",
    "\n",
    "\n",
    "1.  ```python\n",
    "    diz = {'a':'b'}\n",
    "    del diz['c']\n",
    "    print(diz)\n",
    "    ```\n",
    "\n",
    "1.  ```python\n",
    "    diz = {'a':'b'}\n",
    "    diz.del('a')\n",
    "    print(diz)\n",
    "    ```\n",
    "\n",
    "1.  ```python\n",
    "    diz = {'a':'b'}\n",
    "    diz['a'] = None\n",
    "    print(diz)\n",
    "    ```"
   ]
  },
  {
   "cell_type": "markdown",
   "metadata": {},
   "source": [
    "### Exercise - desktop\n",
    "\n",
    "Given a dictionary `desktop`:\n",
    "\n",
    "```python\n",
    "desktop = {\n",
    "    'paper'  :5,\n",
    "    'pencils':2,\n",
    "    'pens'   :3\n",
    "}\n",
    "```\n",
    "\n",
    "write some code which MODIFIES it so that after executing your code, the dictionary appears like this:\n",
    "\n",
    "```python\n",
    ">>> print(desktop)\n",
    "{'pencil sharpeners': 1, 'paper': 5, 'pencils': 2, 'papers': 4}\n",
    "```\n",
    "\n",
    "* **DO NOT** write lines which begin with `desktop = ` "
   ]
  },
  {
   "cell_type": "code",
   "execution_count": 22,
   "metadata": {},
   "outputs": [
    {
     "name": "stdout",
     "output_type": "stream",
     "text": [
      "{'paper': 5, 'pencils': 2, 'papers': 4, 'pencil sharpeners': 1}\n"
     ]
    }
   ],
   "source": [
    "#jupman-purge-output\n",
    "desktop = {\n",
    "    'paper'  :5,\n",
    "    'pencils':2,\n",
    "    'pens'   :3\n",
    "}\n",
    "\n",
    "# write here\n",
    "desktop['papers'] = 4\n",
    "del desktop['pens'] \n",
    "desktop['pencil sharpeners'] = 1\n",
    "print(desktop)"
   ]
  },
  {
   "cell_type": "markdown",
   "metadata": {},
   "source": [
    "### Exercise - garden\n",
    "\n",
    "You have a dictionary `garden` which associates the names of present objects and their quantity. You are given:\n",
    "\n",
    "* a list `to_remove` containing the names of exactly two objects to eliminate\n",
    "* a dictionary `to_add` containing exactly two names of flowers associated to their quantity to add\n",
    "\n",
    "MODIFY the dictionary `garden` according to the quantities given in `to_remove` (**deleting the keys**) and `to_add` (**increasing** the corresponding values)\n",
    "\n",
    "* assume that `garden` always contains the objects given in `to_remove` and `to_add`\n",
    "* assume that `to_add` always and only contains `tulips` and `roses`\n",
    "\n",
    "Example - given:\n",
    "\n",
    "```python\n",
    "to_remove = ['weeds', 'litter']\n",
    "to_add = { 'tulips': 4,\n",
    "           'roses' : 2\n",
    "}\n",
    "\n",
    "garden = { 'sunflowers': 3,\n",
    "           'tulips'    : 7,\n",
    "           'weeds'     : 10,\n",
    "           'roses'     : 5,\n",
    "           'litter'    : 6,            \n",
    "}\n",
    "```\n",
    "\n",
    "after your code, it must result:\n",
    "\n",
    "```python\n",
    ">>> print(garden)\n",
    "{'roses': 7, 'tulips': 11, 'sunflowers': 3}\n",
    "```"
   ]
  },
  {
   "cell_type": "code",
   "execution_count": 23,
   "metadata": {},
   "outputs": [
    {
     "name": "stdout",
     "output_type": "stream",
     "text": [
      "{'sunflowers': 3, 'tulips': 11, 'roses': 7}\n"
     ]
    }
   ],
   "source": [
    "#jupman-purge-output\n",
    "to_remove = ['weeds', 'litter']\n",
    "to_add = { 'tulips': 4,\n",
    "           'roses' : 2\n",
    "}\n",
    "\n",
    "garden = { 'sunflowers': 3,\n",
    "           'tulips'    : 7,\n",
    "           'weeds'     : 10,\n",
    "           'roses'     : 5,\n",
    "           'litter'    : 6,            \n",
    "}\n",
    "\n",
    "# write here\n",
    "\n",
    "del garden[to_remove[0]]\n",
    "del garden[to_remove[1]]\n",
    "garden['roses'] = garden['roses'] + to_add['roses']\n",
    "garden['tulips'] = garden['tulips'] + to_add['tulips']\n",
    "print(garden)"
   ]
  },
  {
   "cell_type": "markdown",
   "metadata": {},
   "source": [
    "### Exercise - translations\n",
    "\n",
    "Given two dictionaries `en_it` and `it_es` of English-Italian  and Italian-Spanish translations, write some code which MODIFIES a third dictionary `en_es` by placing translations from English to Spanish\n",
    "\n",
    "* assume that `en_it` always and only contains translations of `hello` and `road`\n",
    "* assume that `it_es` always and only contains translations of `ciao` and `strada`\n",
    "* in the solution, **ONLY** use the constants `'hello'` and `'road'`, you will take the others you need from the dictionaries\n",
    "* **DO NOT** create a new dictionary - so no lines beginning with  `en_es = {` \n",
    "\n",
    "\n",
    "Example - given:\n",
    "\n",
    "```python\n",
    "en_it = {\n",
    "    'hello' : 'ciao',\n",
    "    'road' : 'strada'\n",
    "}\n",
    "\n",
    "it_es = {\n",
    "    'ciao' : 'hola',\n",
    "    'strada' : 'carretera'\n",
    "}\n",
    "en_es = {}\n",
    "```\n",
    "\n",
    "after your code, it must print:\n",
    "\n",
    "```python\n",
    ">>> print(en_es)\n",
    "{'hello': 'hola', 'road': 'carretera'}\n",
    "```"
   ]
  },
  {
   "cell_type": "code",
   "execution_count": 24,
   "metadata": {},
   "outputs": [
    {
     "name": "stdout",
     "output_type": "stream",
     "text": [
      "{'hello': 'hola', 'road': 'carretera'}\n"
     ]
    }
   ],
   "source": [
    "#jupman-purge-output\n",
    "en_it = {\n",
    "    'hello' : 'ciao',\n",
    "    'road' : 'strada'\n",
    "}\n",
    "\n",
    "it_es = {\n",
    "    'ciao' : 'hola',\n",
    "    'strada' : 'carretera'\n",
    "}\n",
    "\n",
    "en_es = {}\n",
    "\n",
    "# write here\n",
    "en_es['hello'] = it_es[en_it['hello']]\n",
    "en_es['road'] = it_es[en_it['road']]\n",
    "print(en_es)"
   ]
  },
  {
   "cell_type": "markdown",
   "metadata": {},
   "source": [
    "## Membership with `in`\n",
    "\n",
    "We can check whether a _key_ is present in a dictionary by using the operator `in`:"
   ]
  },
  {
   "cell_type": "code",
   "execution_count": 25,
   "metadata": {},
   "outputs": [
    {
     "data": {
      "text/plain": [
       "True"
      ]
     },
     "execution_count": 25,
     "metadata": {},
     "output_type": "execute_result"
    }
   ],
   "source": [
    "'a' in {'a':5,'b':7}"
   ]
  },
  {
   "cell_type": "code",
   "execution_count": 26,
   "metadata": {},
   "outputs": [
    {
     "data": {
      "text/plain": [
       "True"
      ]
     },
     "execution_count": 26,
     "metadata": {},
     "output_type": "execute_result"
    }
   ],
   "source": [
    "'b' in {'a':5,'b':7}"
   ]
  },
  {
   "cell_type": "code",
   "execution_count": 27,
   "metadata": {},
   "outputs": [
    {
     "data": {
      "text/plain": [
       "False"
      ]
     },
     "execution_count": 27,
     "metadata": {},
     "output_type": "execute_result"
    }
   ],
   "source": [
    "'z' in {'a':5,'b':7}"
   ]
  },
  {
   "cell_type": "markdown",
   "metadata": {},
   "source": [
    "<div class=\"alert alert-warning\">\n",
    "    \n",
    "**WARNING**: `in` searches among the _keys,_ not in _values_!\n",
    "</div>"
   ]
  },
  {
   "cell_type": "code",
   "execution_count": 28,
   "metadata": {},
   "outputs": [
    {
     "data": {
      "text/plain": [
       "False"
      ]
     },
     "execution_count": 28,
     "metadata": {},
     "output_type": "execute_result"
    }
   ],
   "source": [
    "5 in {'a':5,'b':7}"
   ]
  },
  {
   "cell_type": "markdown",
   "metadata": {},
   "source": [
    "As always when dealing with keys, we _cannot_ search for a mutable object, like for example lists:"
   ]
  },
  {
   "cell_type": "markdown",
   "metadata": {},
   "source": [
    "```python\n",
    ">>> [3,5] in {'a':'c','b':'d'}\n",
    "\n",
    "---------------------------------------------------------------------------\n",
    "TypeError                                 Traceback (most recent call last)\n",
    "<ipython-input-41-3e3e336117aa> in <module>\n",
    "----> 1 [3,5] in {'a':'c','b':'d'}\n",
    "\n",
    "TypeError: unhashable type: 'list'\n",
    "```\n"
   ]
  },
  {
   "cell_type": "markdown",
   "metadata": {},
   "source": [
    "### not in\n",
    "\n",
    "It is possible to check for  _non_ belonging with the `not in` operator:"
   ]
  },
  {
   "cell_type": "code",
   "execution_count": 29,
   "metadata": {},
   "outputs": [
    {
     "data": {
      "text/plain": [
       "True"
      ]
     },
     "execution_count": 29,
     "metadata": {},
     "output_type": "execute_result"
    }
   ],
   "source": [
    "'z' not in {'a':5,'b':7}"
   ]
  },
  {
   "cell_type": "code",
   "execution_count": 30,
   "metadata": {},
   "outputs": [
    {
     "data": {
      "text/plain": [
       "False"
      ]
     },
     "execution_count": 30,
     "metadata": {},
     "output_type": "execute_result"
    }
   ],
   "source": [
    "'a' not in {'a':5,'b':7}"
   ]
  },
  {
   "cell_type": "markdown",
   "metadata": {},
   "source": [
    "Equivalently, we can use this other form:"
   ]
  },
  {
   "cell_type": "code",
   "execution_count": 31,
   "metadata": {},
   "outputs": [
    {
     "data": {
      "text/plain": [
       "True"
      ]
     },
     "execution_count": 31,
     "metadata": {},
     "output_type": "execute_result"
    }
   ],
   "source": [
    "not 'z' in {'a':5,'b':7}"
   ]
  },
  {
   "cell_type": "code",
   "execution_count": 32,
   "metadata": {},
   "outputs": [
    {
     "data": {
      "text/plain": [
       "False"
      ]
     },
     "execution_count": 32,
     "metadata": {},
     "output_type": "execute_result"
    }
   ],
   "source": [
    "not 'a' in {'a':5,'b':7}"
   ]
  },
  {
   "cell_type": "markdown",
   "metadata": {},
   "source": [
    "**QUESTION**: Look at the following expressions, and for each try guessing the result (or if it gives an error):\n",
    "   \n",
    "1.  ```python\n",
    "    ('a') in {'a':5}\n",
    "    ```\n",
    "1.  ```python\n",
    "    ('a','b') in {('a','b'):5}\n",
    "    ```\n",
    "1.  ```python\n",
    "    ('a','b',) in {('a','b'):5}\n",
    "    ```\n",
    "1.  ```python\n",
    "    ['a','b'] in {('a','b'):5}\n",
    "    ```\n",
    "1.  ```python\n",
    "    {3: 'q' in {'q':5}}\n",
    "    ```\n",
    "1.  ```python\n",
    "    {'q' not in {'q':0} : 'q' in {'q':0}}\n",
    "    ```\n",
    "1.  ```python\n",
    "    {'a' in 'b'}\n",
    "    ```\n",
    "1.  ```python\n",
    "    {'a' not in {'b':'a'}}\n",
    "    ```\n",
    "1.  ```python\n",
    "    len({'a':6,'b':4}) in {1:2}\n",
    "    ```\n",
    "1.  ```python\n",
    "    'ab' in {('a','b'): 'ab'}\n",
    "    ```\n",
    "1.  ```python\n",
    "    None in {}\n",
    "    ```\n",
    "1.  ```python    \n",
    "    None in {'None':3}\n",
    "    ```\n",
    "1.  ```python    \n",
    "    None in {None:3}\n",
    "    ```\n",
    "1.  ```python    \n",
    "    not None in {0:None}\n",
    "    ```"
   ]
  },
  {
   "cell_type": "markdown",
   "metadata": {},
   "source": [
    "### Exercise - The Helmsman"
   ]
  },
  {
   "cell_type": "markdown",
   "metadata": {},
   "source": [
    "\n",
    "The restaurant \"The Helmsman\" serves a `menu` with exactly 3 courses each coupled with a side dish. The courses and the side dishes are **numbered from 1** to **12**. There are many international clients who don't speak well the local language, so they often simply point a course number. They never point a side dish.\n",
    "Once the `order` is received, the waiter with a tablet verifies whether the course is ready with the correct side dish. Write some code which given an index of a **course** shows `True` if this is in the `kitchen` coupled with the course, `False` otherwise.\n",
    "\n",
    "- **DO NOT** use `if`\n",
    "- **DO NOT** use loops nor list comprehensions\n",
    "- **HINT**: if you don't know how to do it, look at [Booleans - Evaluation order](https://en.softpython.org/basics/basics2-bools-sol.html#Evaluation-order)"
   ]
  },
  {
   "cell_type": "markdown",
   "metadata": {},
   "source": [
    "Example 1 - given:\n",
    "\n",
    "```python\n",
    "       # 1         2        3       4         5          6\n",
    "menu = ['herring','butter','orata','salad',  'salmon',  'potatoes',         \n",
    "       # 7         8          9         10       11         12\n",
    "        'tuna',   'beans',   'salmon', 'lemon', 'herring', 'salad']\n",
    "\n",
    "\n",
    "kitchen = {'orata':'salad',\n",
    "           'salmon':'potatoes',\n",
    "           'herring':'salad',\n",
    "           'tuna':'beans'}\n",
    "\n",
    "order = 1   \n",
    "```\n",
    "\n",
    "The program will show `False`, because there is no association `\"herring\" : \"butter\"` in `kitchen`\n",
    "\n",
    "\n",
    "Example 2 - given:\n",
    "\n",
    "```python\n",
    "order = 3\n",
    "```\n",
    "\n",
    "the program will show `True` because there is the association `\"orata\" : \"salad\"` in `cambusa`"
   ]
  },
  {
   "cell_type": "code",
   "execution_count": 33,
   "metadata": {},
   "outputs": [
    {
     "data": {
      "text/plain": [
       "False"
      ]
     },
     "execution_count": 33,
     "metadata": {},
     "output_type": "execute_result"
    }
   ],
   "source": [
    "#jupman-purge-output\n",
    "order = 1    # False   \n",
    "#order = 3   # True  \n",
    "#order = 5   # True\n",
    "#order = 7   # True\n",
    "#order = 9   # False\n",
    "#order = 11  # True\n",
    "\n",
    "       # 1         2        3       4         5          6\n",
    "menu = ['herring','butter','orata','salad',  'salmon',  'potatoes',         \n",
    "       # 7         8          9         10       11         12\n",
    "        'tuna',   'beans',   'salmon', 'lemon', 'herring', 'salad']\n",
    "\n",
    "\n",
    "kitchen = {'orata':'salad',\n",
    "           'salmon':'potatoes',\n",
    "           'herring':'salad',\n",
    "           'tuna':'beans'}\n",
    "\n",
    "# write here\n",
    "\n",
    "menu[order-1] in kitchen and kitchen[menu[order-1]] == menu[order]"
   ]
  },
  {
   "cell_type": "markdown",
   "metadata": {},
   "source": [
    "## Dictionaries of sequences\n",
    "\n",
    "So far we almost always associated a single value to keys. What if wanted to associate more? For example, suppose we are in a library and we want to associate users with the books they borrowed. We could represent everything as a dictionary where a list of borrowed books is associated to each customer:"
   ]
  },
  {
   "cell_type": "code",
   "execution_count": 34,
   "metadata": {},
   "outputs": [],
   "source": [
    "loans = {'Marco':  ['Les Misérables', 'Ulysses'],\n",
    "         'Gloria': ['War and Peace'],\n",
    "         'Rita':   ['The Shining','Dracula','1984']}"
   ]
  },
  {
   "cell_type": "markdown",
   "metadata": {},
   "source": [
    "Let's see how it gets represented in Python Tutor:"
   ]
  },
  {
   "cell_type": "code",
   "execution_count": 35,
   "metadata": {},
   "outputs": [],
   "source": [
    "# WARNING: FOR PYTHON TUTOR TO WORK, REMEMBER TO EXECUTE THIS CELL with Shift+Enter\n",
    "#          (it's sufficient to execute it only once)\n",
    "\n",
    "import sys\n",
    "sys.path.append('../')\n",
    "import jupman"
   ]
  },
  {
   "cell_type": "code",
   "execution_count": 36,
   "metadata": {},
   "outputs": [
    {
     "data": {
      "text/html": [
       "\n",
       "        <script src=\"../_static/js/pytutor-embed.bundle.min.js\" type=\"application/javascript\"></script>\n",
       "     \n",
       "        <script id=\"json-jmaaa0faa5-1325-41a0-8022-e236a99a105a\" type=\"application/json\" >\n",
       "            {\"code\": \" \\nloans = {'Marco':  ['Les Mis\\u00e9rables', 'Ulysses'],\\n         'Gloria': ['War and Peace'],\\n         'Rita':   ['The Shining','Dracula','1984']}\", \"trace\": [{\"line\": 2, \"event\": \"step_line\", \"func_name\": \"<module>\", \"globals\": {}, \"ordered_globals\": [], \"stack_to_render\": [], \"heap\": {}, \"stdout\": \"\"}, {\"line\": 3, \"event\": \"step_line\", \"func_name\": \"<module>\", \"globals\": {}, \"ordered_globals\": [], \"stack_to_render\": [], \"heap\": {}, \"stdout\": \"\"}, {\"line\": 4, \"event\": \"step_line\", \"func_name\": \"<module>\", \"globals\": {}, \"ordered_globals\": [], \"stack_to_render\": [], \"heap\": {}, \"stdout\": \"\"}, {\"line\": 4, \"event\": \"return\", \"func_name\": \"<module>\", \"globals\": {\"loans\": [\"REF\", 1]}, \"ordered_globals\": [\"loans\"], \"stack_to_render\": [], \"heap\": {\"1\": [\"DICT\", [\"Marco\", [\"REF\", 2]], [\"Gloria\", [\"REF\", 3]], [\"Rita\", [\"REF\", 4]]], \"2\": [\"LIST\", \"Les Mis\\u00e9rables\", \"Ulysses\"], \"3\": [\"LIST\", \"War and Peace\"], \"4\": [\"LIST\", \"The Shining\", \"Dracula\", \"1984\"]}, \"stdout\": \"\"}]}\n",
       "        </script>\n",
       "        <div id=\"jmaaa0faa5-1325-41a0-8022-e236a99a105a\" class=\"pytutorVisualizer\"> </div>\n",
       " \n",
       "        <style>\n",
       "        .vizLayoutTd {\n",
       "            background-color: #fff !important;\n",
       "        }\n",
       "\n",
       "        #pyStdout {            \n",
       "            min-height:25px;\n",
       "        }\n",
       "\n",
       "        /* 'Edit this code' link, hiding because replaces browser tab !!!*/\n",
       "        #editCodeLinkDiv {\n",
       "            display:none;  \n",
       "        }\n",
       "        </style>   \n",
       "                            \n",
       "        <script>\n",
       "        (function(){\n",
       "\n",
       "            var trace = JSON.parse(document.getElementById('json-jmaaa0faa5-1325-41a0-8022-e236a99a105a').innerHTML);                                        \n",
       "            // NOTE 1: id without #\n",
       "            // NOTE 2 - maybe there are more predictable ways, but this will work anyway\n",
       "            //        - id should be number\n",
       "            visualizerIdOverride = Math.trunc(Math.random() * 100000000000)\n",
       "            addVisualizerToPage(trace, 'jmaaa0faa5-1325-41a0-8022-e236a99a105a',{'embeddedMode' : false,\n",
       "                                             'visualizerIdOverride':visualizerIdOverride})  \n",
       "            \n",
       "            \n",
       "            // set overflow for pytuts - need to do in python as css \n",
       "            // does not allow parent selection\n",
       "            var pytuts = $('.pytutorVisualizer')\n",
       "            pytuts.closest('div.output_html.rendered_html.output_result')\n",
       "                    .css('overflow-x', 'visible')\n",
       "        \n",
       "            //pytuts.closest('div.output_html.rendered_html.output_result')\n",
       "            //      .css('background-color','red')                \n",
       "            \n",
       "        })()\n",
       "        </script>\n",
       "                \n",
       "                "
      ],
      "text/plain": [
       "<IPython.core.display.HTML object>"
      ]
     },
     "execution_count": 36,
     "metadata": {},
     "output_type": "execute_result"
    }
   ],
   "source": [
    "loans = {'Marco':  ['Les Misérables', 'Ulysses'],\n",
    "         'Gloria': ['War and Peace'],\n",
    "         'Rita':   ['The Shining','Dracula','1984']}\n",
    "jupman.pytut()"
   ]
  },
  {
   "cell_type": "markdown",
   "metadata": {},
   "source": [
    "If we try writing the expression:"
   ]
  },
  {
   "cell_type": "code",
   "execution_count": 37,
   "metadata": {},
   "outputs": [
    {
     "data": {
      "text/plain": [
       "['The Shining', 'Dracula', '1984']"
      ]
     },
     "execution_count": 37,
     "metadata": {},
     "output_type": "execute_result"
    }
   ],
   "source": [
    "loans['Rita']"
   ]
  },
  {
   "cell_type": "markdown",
   "metadata": {},
   "source": [
    "Python shows the corresponding list: for all intents and purposes Python considers `loans['Rita']` as if it were a list, and we can use it as such. For example, if we wanted to access the 1-indexed book of the list, we would write `[1]` after the expression:"
   ]
  },
  {
   "cell_type": "code",
   "execution_count": 38,
   "metadata": {},
   "outputs": [
    {
     "data": {
      "text/plain": [
       "'Dracula'"
      ]
     },
     "execution_count": 38,
     "metadata": {},
     "output_type": "execute_result"
    }
   ],
   "source": [
    "loans['Rita'][1]"
   ]
  },
  {
   "cell_type": "markdown",
   "metadata": {},
   "source": [
    "Equivalently, we might also save a pointer to the list by assigning the expression to a variable:"
   ]
  },
  {
   "cell_type": "code",
   "execution_count": 39,
   "metadata": {},
   "outputs": [],
   "source": [
    "ritas_list = loans['Rita']"
   ]
  },
  {
   "cell_type": "code",
   "execution_count": 40,
   "metadata": {},
   "outputs": [
    {
     "data": {
      "text/plain": [
       "['The Shining', 'Dracula', '1984']"
      ]
     },
     "execution_count": 40,
     "metadata": {},
     "output_type": "execute_result"
    }
   ],
   "source": [
    "ritas_list"
   ]
  },
  {
   "cell_type": "code",
   "execution_count": 41,
   "metadata": {},
   "outputs": [
    {
     "data": {
      "text/plain": [
       "'Dracula'"
      ]
     },
     "execution_count": 41,
     "metadata": {},
     "output_type": "execute_result"
    }
   ],
   "source": [
    "ritas_list[1]"
   ]
  },
  {
   "cell_type": "markdown",
   "metadata": {},
   "source": [
    "Let's see everything in Python Tutor: "
   ]
  },
  {
   "cell_type": "code",
   "execution_count": 42,
   "metadata": {
    "scrolled": false
   },
   "outputs": [
    {
     "name": "stdout",
     "output_type": "stream",
     "text": [
      "Dracula\n"
     ]
    },
    {
     "data": {
      "text/html": [
       "\n",
       "        <script src=\"../_static/js/pytutor-embed.bundle.min.js\" type=\"application/javascript\"></script>\n",
       "     \n",
       "        <script id=\"json-jm89d50bc8-bb43-497f-9d42-255003075f42\" type=\"application/json\" >\n",
       "            {\"code\": \" \\nloans = {'Marco':  ['Les Mis\\u00e9rables', 'Ulysses'],\\n         'Gloria': ['War and Peace'],\\n         'Rita':   ['The Shining','Dracula','1984']}\\nritas_list = loans['Rita']\\nprint(ritas_list[1])\", \"trace\": [{\"line\": 2, \"event\": \"step_line\", \"func_name\": \"<module>\", \"globals\": {}, \"ordered_globals\": [], \"stack_to_render\": [], \"heap\": {}, \"stdout\": \"\"}, {\"line\": 3, \"event\": \"step_line\", \"func_name\": \"<module>\", \"globals\": {}, \"ordered_globals\": [], \"stack_to_render\": [], \"heap\": {}, \"stdout\": \"\"}, {\"line\": 4, \"event\": \"step_line\", \"func_name\": \"<module>\", \"globals\": {}, \"ordered_globals\": [], \"stack_to_render\": [], \"heap\": {}, \"stdout\": \"\"}, {\"line\": 5, \"event\": \"step_line\", \"func_name\": \"<module>\", \"globals\": {\"loans\": [\"REF\", 1]}, \"ordered_globals\": [\"loans\"], \"stack_to_render\": [], \"heap\": {\"1\": [\"DICT\", [\"Marco\", [\"REF\", 2]], [\"Gloria\", [\"REF\", 3]], [\"Rita\", [\"REF\", 4]]], \"2\": [\"LIST\", \"Les Mis\\u00e9rables\", \"Ulysses\"], \"3\": [\"LIST\", \"War and Peace\"], \"4\": [\"LIST\", \"The Shining\", \"Dracula\", \"1984\"]}, \"stdout\": \"\"}, {\"line\": 6, \"event\": \"step_line\", \"func_name\": \"<module>\", \"globals\": {\"loans\": [\"REF\", 1], \"ritas_list\": [\"REF\", 4]}, \"ordered_globals\": [\"loans\", \"ritas_list\"], \"stack_to_render\": [], \"heap\": {\"1\": [\"DICT\", [\"Marco\", [\"REF\", 2]], [\"Gloria\", [\"REF\", 3]], [\"Rita\", [\"REF\", 4]]], \"2\": [\"LIST\", \"Les Mis\\u00e9rables\", \"Ulysses\"], \"3\": [\"LIST\", \"War and Peace\"], \"4\": [\"LIST\", \"The Shining\", \"Dracula\", \"1984\"]}, \"stdout\": \"\"}, {\"line\": 6, \"event\": \"return\", \"func_name\": \"<module>\", \"globals\": {\"loans\": [\"REF\", 1], \"ritas_list\": [\"REF\", 4]}, \"ordered_globals\": [\"loans\", \"ritas_list\"], \"stack_to_render\": [], \"heap\": {\"1\": [\"DICT\", [\"Marco\", [\"REF\", 2]], [\"Gloria\", [\"REF\", 3]], [\"Rita\", [\"REF\", 4]]], \"2\": [\"LIST\", \"Les Mis\\u00e9rables\", \"Ulysses\"], \"3\": [\"LIST\", \"War and Peace\"], \"4\": [\"LIST\", \"The Shining\", \"Dracula\", \"1984\"]}, \"stdout\": \"Dracula\\n\"}]}\n",
       "        </script>\n",
       "        <div id=\"jm89d50bc8-bb43-497f-9d42-255003075f42\" class=\"pytutorVisualizer\"> </div>\n",
       " \n",
       "        <style>\n",
       "        .vizLayoutTd {\n",
       "            background-color: #fff !important;\n",
       "        }\n",
       "\n",
       "        #pyStdout {            \n",
       "            min-height:25px;\n",
       "        }\n",
       "\n",
       "        /* 'Edit this code' link, hiding because replaces browser tab !!!*/\n",
       "        #editCodeLinkDiv {\n",
       "            display:none;  \n",
       "        }\n",
       "        </style>   \n",
       "                            \n",
       "        <script>\n",
       "        (function(){\n",
       "\n",
       "            var trace = JSON.parse(document.getElementById('json-jm89d50bc8-bb43-497f-9d42-255003075f42').innerHTML);                                        \n",
       "            // NOTE 1: id without #\n",
       "            // NOTE 2 - maybe there are more predictable ways, but this will work anyway\n",
       "            //        - id should be number\n",
       "            visualizerIdOverride = Math.trunc(Math.random() * 100000000000)\n",
       "            addVisualizerToPage(trace, 'jm89d50bc8-bb43-497f-9d42-255003075f42',{'embeddedMode' : false,\n",
       "                                             'visualizerIdOverride':visualizerIdOverride})  \n",
       "            \n",
       "            \n",
       "            // set overflow for pytuts - need to do in python as css \n",
       "            // does not allow parent selection\n",
       "            var pytuts = $('.pytutorVisualizer')\n",
       "            pytuts.closest('div.output_html.rendered_html.output_result')\n",
       "                    .css('overflow-x', 'visible')\n",
       "        \n",
       "            //pytuts.closest('div.output_html.rendered_html.output_result')\n",
       "            //      .css('background-color','red')                \n",
       "            \n",
       "        })()\n",
       "        </script>\n",
       "                \n",
       "                "
      ],
      "text/plain": [
       "<IPython.core.display.HTML object>"
      ]
     },
     "execution_count": 42,
     "metadata": {},
     "output_type": "execute_result"
    }
   ],
   "source": [
    "loans = {'Marco':  ['Les Misérables', 'Ulysses'],\n",
    "         'Gloria': ['War and Peace'],\n",
    "         'Rita':   ['The Shining','Dracula','1984']}\n",
    "ritas_list = loans['Rita']\n",
    "print(ritas_list[1])\n",
    "\n",
    "jupman.pytut()"
   ]
  },
  {
   "cell_type": "markdown",
   "metadata": {},
   "source": [
    "If you execute the code in Python Tutor, you will notice that as soon as we assign `ritas_list`, the corresponding list appears to 'detach' from the dictionary. This is only a graphical effect caused by Python Tutor, but from the point of view of the dictionary nothing changed. The intention is to show the list now is _reachable_ both from the dictionary and from the new variable `ritas_list`."
   ]
  },
  {
   "cell_type": "markdown",
   "metadata": {},
   "source": [
    "### Exercise - loans\n",
    "\n",
    "Write some code to extract and print:\n",
    "\n",
    "\n",
    "1. The first book borrowed by Gloria (`'War and Peace'`) and the last one borrowed by Rita (`'1984'`)\n",
    "2. The number of books borrowed by Rita\n",
    "3. `True` if everybody among Marco, Gloria and Rita borrowed at least a book, `False` otherwise"
   ]
  },
  {
   "cell_type": "code",
   "execution_count": 43,
   "metadata": {
    "scrolled": true
   },
   "outputs": [
    {
     "name": "stdout",
     "output_type": "stream",
     "text": [
      "1. The first book borrowed by Gloria is War and Peace\n",
      "   The last book borrowed by Rita is 1984\n",
      "2. Rita borrowed 3 book(s)\n",
      "3. Have everybody borrowed at least a book? True\n"
     ]
    }
   ],
   "source": [
    "loans = {'Marco':  ['Les Misérables', 'Ulysses'],\n",
    "         'Gloria': ['War and Peace'],\n",
    "         'Rita':   ['The Shining','Dracula','1984']}\n",
    "\n",
    "# write here\n",
    "print(\"1. The first book borrowed by Gloria is\", loans['Gloria'][0])\n",
    "print(\"   The last book borrowed by Rita is\", loans['Rita'][-1])\n",
    "print(\"2. Rita borrowed\", len(loans['Rita']), \"book(s)\")\n",
    "res = len(loans['Marco']) > 0 and len(loans['Gloria']) > 0 and len(loans['Rita']) > 0\n",
    "print(\"3. Have everybody borrowed at least a book?\", res)"
   ]
  },
  {
   "cell_type": "markdown",
   "metadata": {},
   "source": [
    "### Exercise - Shark Bay\n",
    "\n",
    "\n",
    "The West India Company asked you to explore the tropical seas, which are known fo rthe dangerous species which live in their waters. You are provided with a `dmap` which associates places to species found therein:\n",
    "\n",
    "```python\n",
    "dmap = {\n",
    "     \"Shark Bay\" : [\"sharks\"],\n",
    "     \"Estuary of Bad Luck\" : [\"crocodiles\", \"piraña\"],\n",
    "     \"Shipwreck Trench\" : [\"killer whales\", \"tiger fishes\"],\n",
    "}\n",
    "```\n",
    "\n",
    "You are also given vague directions about how to update the `dmap`, using these variables:\n",
    "\n",
    "```python\n",
    "place = \"Shipwreck Trench\"\n",
    "dangers = [\"morays\", \"blue spotted octupus\"]\n",
    "travel = \"Sunken Sails Offshore\"\n",
    "exploration = [\"barracudas\", \"jellyfishes\"]\n",
    "```\n",
    "\n",
    "Try writing some code which using the variables above (or data from the map itself) MODIFIES `dmap` so to obtain:\n",
    "\n",
    "\n",
    "```python\n",
    ">>> dmap\n",
    "{'Shark Bay'           : ['sharks'],\n",
    " 'Estuary of Bad Luck' : ['crocodiles', 'piraña', 'jellyfishes'],\n",
    " 'Shipwreck Trench'    : ['killer whales', 'tiger fishes'],\n",
    " 'Jellyfishes Offshore': ['barracudas', 'jellyfishes', 'crocodiles', 'piraña']}\n",
    "```\n",
    " \n",
    "- **IMPORTANT**: **DO NOT use constant strings in your code** (so no `\"Shipwreck Trench\"` ...). Numerical constants are instead allowed. "
   ]
  },
  {
   "cell_type": "code",
   "execution_count": 44,
   "metadata": {},
   "outputs": [
    {
     "data": {
      "text/plain": [
       "{'Shark Bay': ['sharks'],\n",
       " 'Estuary of Bad Luck': ['crocodiles', 'piraña', 'jellyfishes'],\n",
       " 'Shipwreck Trench': ['killer whales', 'tiger fishes'],\n",
       " 'Jellyfishes Offshore': ['barracudas', 'jellyfishes', 'crocodiles', 'piraña']}"
      ]
     },
     "execution_count": 44,
     "metadata": {},
     "output_type": "execute_result"
    }
   ],
   "source": [
    "#jupman-purge-output\n",
    "place = \"Estuary of Bad Luck\"\n",
    "dangers = [\"morays\", \"blue spotted octupus\"]\n",
    "travel = \"Sunken Sails Offshore\"\n",
    "exploration = [\"barracudas\", \"jellyfishes\"]\n",
    "\n",
    "dmap = {\n",
    "     \"Shark Bay\" : [\"sharks\"],\n",
    "     \"Estuary of Bad Luck\": [\"crocodiles\", \"piraña\"],\n",
    "     \"Shipwreck Trench\" : [\"killer whales\", \"tiger fishes\"],\n",
    "}\n",
    "\n",
    "# write here\n",
    "\n",
    "dmap[travel] = dangers\n",
    "dmap[exploration[1].capitalize() + travel[-9:]] = exploration + dmap[place]\n",
    "dmap[place].append(exploration[1])\n",
    "del dmap[travel]\n",
    "\n",
    "dmap"
   ]
  },
  {
   "cell_type": "markdown",
   "metadata": {},
   "source": [
    "### Exercise - The Storm Sea\n",
    "\n",
    "\n",
    "The West India Company asks you now to produce a `new` map starting from `dmap1` and `dmap2`. The `new` map must contain **all** the items from `dmap1`, expanded with the items from `place1` and `place2`.\n",
    "\n",
    "- assume the items `place1` and `place2` are always present in `dmap1` and `dmap2`.\n",
    "- **IMPORTANT**: the execution of your code must **not** change  `dmap1` nor `dmap2` \n",
    "\n",
    "Example - given:\n",
    "\n",
    "```python\n",
    "dmap1 = {\n",
    "     \"Shark Bay\"           : [\"sharks\"],\n",
    "     \"Estuary of Bad Luck\" : [\"crocodiles\", \"piraña\"],\n",
    "     \"Storm Sea\"           : [\"barracudas\", \"morays\"]\n",
    "}\n",
    "\n",
    "dmap2 = {     \n",
    "     \"Estuary of Bad Luck\"  : [\"morays\", \"shark fishes\"],\n",
    "     \"Storm Sea\"            : [\"giant octupses\"],\n",
    "     \"Shipwreck Trench\"     : [\"killer whales\"],\n",
    "     \"Lake of the Hopeless\" : [\"water vortexes\"]\n",
    "}\n",
    "\n",
    "place1, place2 = \"Estuary of Bad Luck\", \"Storm Sea\"\n",
    "```"
   ]
  },
  {
   "cell_type": "markdown",
   "metadata": {},
   "source": [
    "After your code, it must result:\n",
    "\n",
    "```python\n",
    ">>> new\n",
    "{'Estuary of Bad Luck': ['crocodiles', 'piraña', 'morays', 'shark fishes'],\n",
    " 'Shark Bay': ['sharks'],\n",
    " 'Storm Sea': ['barracudas', 'morays', 'giant octupses']}\n",
    ">>> dmap1  # not changed\n",
    "{'Estuary of Bad Luck': ['crocodiles', 'piraña'],\n",
    " 'Shark Bay': ['sharks'],\n",
    " 'Storm Sea': ['barracudas', 'morays']}\n",
    ">>> dmap2  # not changed\n",
    "{'Estuary of Bad Luck': ['morays', 'shark fishes'],\n",
    " 'Lake of the Hopeless': ['water vortexes'],\n",
    " 'Shipwreck Trench': ['killer whales'],\n",
    " 'Storm Sea': ['giant octupses']}\n",
    "```"
   ]
  },
  {
   "cell_type": "code",
   "execution_count": 45,
   "metadata": {},
   "outputs": [
    {
     "name": "stdout",
     "output_type": "stream",
     "text": [
      "new:\n",
      "{'Estuary of Bad Luck': ['crocodiles', 'piraña', 'morays', 'shark fishes'],\n",
      " 'Shark Bay': ['sharks'],\n",
      " 'Storm Sea': ['barracudas', 'morays', 'giant octupses']}\n",
      "dmap1:\n",
      "{'Estuary of Bad Luck': ['crocodiles', 'piraña'],\n",
      " 'Shark Bay': ['sharks'],\n",
      " 'Storm Sea': ['barracudas', 'morays']}\n",
      "dmap2:\n",
      "{'Estuary of Bad Luck': ['morays', 'shark fishes'],\n",
      " 'Lake of the Hopeless': ['water vortexes'],\n",
      " 'Shipwreck Trench': ['killer whales'],\n",
      " 'Storm Sea': ['giant octupses']}\n"
     ]
    }
   ],
   "source": [
    "#jupman-purge-output\n",
    "dmap1 = {\n",
    "     \"Shark Bay\"           : [\"sharks\"],\n",
    "     \"Estuary of Bad Luck\" : [\"crocodiles\", \"piraña\"],\n",
    "     \"Storm Sea\"           : [\"barracudas\", \"morays\"]\n",
    "}\n",
    "\n",
    "dmap2 = {     \n",
    "     \"Estuary of Bad Luck\"  : [\"morays\", \"shark fishes\"],\n",
    "     \"Storm Sea\"            : [\"giant octupses\"],\n",
    "     \"Shipwreck Trench\"     : [\"killer whales\"],\n",
    "     \"Lake of the Hopeless\" : [\"water vortexes\"]\n",
    "}\n",
    "\n",
    "place1, place2 = \"Estuary of Bad Luck\", \"Storm Sea\"\n",
    "\n",
    "# write here\n",
    "\n",
    "import copy\n",
    "\n",
    "new = copy.deepcopy(dmap1)\n",
    "new[place1].extend(dmap2[place1])\n",
    "new[place2].extend(dmap2[place2])\n",
    "\n",
    "from pprint import pprint\n",
    "print(\"new:\")\n",
    "pprint(new)\n",
    "print(\"dmap1:\")\n",
    "pprint(dmap1)\n",
    "print(\"dmap2:\")\n",
    "pprint(dmap2)"
   ]
  },
  {
   "cell_type": "markdown",
   "metadata": {},
   "source": [
    "## Equality\n",
    "\n",
    "We can verify whether two dictionaries are equal with `==` operator, which given two dictionaries return `True` if they contain kequal ey/value couples or `False` otherwise:"
   ]
  },
  {
   "cell_type": "code",
   "execution_count": 46,
   "metadata": {},
   "outputs": [
    {
     "data": {
      "text/plain": [
       "True"
      ]
     },
     "execution_count": 46,
     "metadata": {},
     "output_type": "execute_result"
    }
   ],
   "source": [
    "{'a':3, 'b':4} == {'a':3, 'b':4}"
   ]
  },
  {
   "cell_type": "code",
   "execution_count": 47,
   "metadata": {},
   "outputs": [
    {
     "data": {
      "text/plain": [
       "False"
      ]
     },
     "execution_count": 47,
     "metadata": {},
     "output_type": "execute_result"
    }
   ],
   "source": [
    "{'a':3, 'b':4} == {'c':3, 'b':4}"
   ]
  },
  {
   "cell_type": "code",
   "execution_count": 48,
   "metadata": {},
   "outputs": [
    {
     "data": {
      "text/plain": [
       "False"
      ]
     },
     "execution_count": 48,
     "metadata": {},
     "output_type": "execute_result"
    }
   ],
   "source": [
    "{'a':3, 'b':4} == {'a':3, 'b':999}"
   ]
  },
  {
   "cell_type": "markdown",
   "metadata": {},
   "source": [
    "We can verify equality of dictionaries with a different number of elements:"
   ]
  },
  {
   "cell_type": "code",
   "execution_count": 49,
   "metadata": {},
   "outputs": [
    {
     "data": {
      "text/plain": [
       "False"
      ]
     },
     "execution_count": 49,
     "metadata": {},
     "output_type": "execute_result"
    }
   ],
   "source": [
    "{'a':3, 'b':4} == {'a':3}"
   ]
  },
  {
   "cell_type": "code",
   "execution_count": 50,
   "metadata": {},
   "outputs": [
    {
     "data": {
      "text/plain": [
       "False"
      ]
     },
     "execution_count": 50,
     "metadata": {},
     "output_type": "execute_result"
    }
   ],
   "source": [
    "{'a':3, 'b':4} == {'a':3,'b':3,'c':5}"
   ]
  },
  {
   "cell_type": "markdown",
   "metadata": {},
   "source": [
    "... and with heterogenous elements:"
   ]
  },
  {
   "cell_type": "code",
   "execution_count": 51,
   "metadata": {},
   "outputs": [
    {
     "data": {
      "text/plain": [
       "False"
      ]
     },
     "execution_count": 51,
     "metadata": {},
     "output_type": "execute_result"
    }
   ],
   "source": [
    "{'a':3, 'b':4} == {2:('q','p'), 'b':[99,77]}"
   ]
  },
  {
   "cell_type": "markdown",
   "metadata": {},
   "source": [
    "### Equality and order\n",
    "\n",
    "From the definition:\n",
    "\n",
    "> * Keys are immutable, **don't have order** and there cannot be duplicates\n",
    "\n",
    "Since order has no importance, dictionaries created by inserting the same key/value couples in a differenct order will be considered equal.\n",
    "\n",
    "For example, let's try direct creation:"
   ]
  },
  {
   "cell_type": "code",
   "execution_count": 52,
   "metadata": {},
   "outputs": [
    {
     "data": {
      "text/plain": [
       "True"
      ]
     },
     "execution_count": 52,
     "metadata": {},
     "output_type": "execute_result"
    }
   ],
   "source": [
    "{'a':5, 'b':7} == {'b':7, 'a':5}"
   ]
  },
  {
   "cell_type": "markdown",
   "metadata": {},
   "source": [
    "What about incremental update?"
   ]
  },
  {
   "cell_type": "code",
   "execution_count": 53,
   "metadata": {},
   "outputs": [
    {
     "name": "stdout",
     "output_type": "stream",
     "text": [
      "True\n"
     ]
    }
   ],
   "source": [
    "diz1 = {}\n",
    "diz1['a'] = 5\n",
    "diz1['b'] = 7\n",
    "\n",
    "diz2 = {}\n",
    "diz2['b'] = 7\n",
    "diz2['a'] = 5\n",
    "\n",
    "print(diz1 == diz2)"
   ]
  },
  {
   "cell_type": "markdown",
   "metadata": {},
   "source": [
    "**QUESTION**: Look at the following code fragments, and for each try guessing which result it produces (or if it gives an error):\n",
    "\n",
    "\n",
    "   \n",
    "1.  ```python\n",
    "    {1:2} == {2:1}\n",
    "    ```\n",
    "1.  ```python    \n",
    "    {1:2,3:4} == {3:4,1:2}\n",
    "    ```    \n",
    "1.  ```python\n",
    "    {'a'.upper():3} == {'a':3}\n",
    "    ```\n",
    "1.  ```python\n",
    "    {'A'.lower():3} == {'a':3}    \n",
    "    ```    \n",
    "1.  ```python\n",
    "    {'a': {1:2} == {3:4}}\n",
    "    ```\n",
    "1.  ```python\n",
    "    diz1 = {}\n",
    "    diz1[2] = 5\n",
    "    diz1[3] = 7\n",
    "\n",
    "    diz2 = {}\n",
    "    diz2[3] = 7\n",
    "    diz2[2] = 5\n",
    "    print(diz1 == diz2)\n",
    "    ```\n",
    "1.  ```python\n",
    "    diz1 = {'a':3,'b':8}\n",
    "    diz2 = diz1\n",
    "    diz1['a'] = 7\n",
    "    print(diz1 == diz2)\n",
    "    ```\n",
    "1.  ```python\n",
    "    diz1 = {}\n",
    "    diz1['a']=3\n",
    "    diz2 = diz1\n",
    "    diz2['a']=4\n",
    "    print(diz1 == diz2)\n",
    "    ```\n",
    "1.  ```python\n",
    "    diz1 = {'a':3, 'b':4, 'c':5}\n",
    "    diz2 = {'a':3,'c':5}\n",
    "    del diz1['a']\n",
    "    print(diz1 == diz2)\n",
    "    ```\n",
    "1.  ```python\n",
    "    diz1 = {}\n",
    "    diz2 = {'a':3}\n",
    "    diz1['a'] = 3\n",
    "    diz1['b'] = 5\n",
    "    diz2['b'] = 5\n",
    "    print(diz1 == diz2)\n",
    "    ```    "
   ]
  },
  {
   "cell_type": "markdown",
   "metadata": {},
   "source": [
    "### Equality and copies\n",
    "\n",
    "When duplicating containers which hold mutable objects, if we do not pay attention we might get surprises. Let's go back on the topic of shallow and deep copies of dictionaries, this time trying to verify the effective equality in Python.\n",
    "\n",
    "<div class=\"alert alert-warning\">\n",
    "\n",
    "**WARNING: Have you read** [Dictionaries 1 - Copying a dictionary](https://en.softpython.org/dictionaries/dictionaries1-sol.html#Copying-a-dictionary) **?**\n",
    "\n",
    "If not, do it now!\n",
    "</div>\n",
    "\n",
    "**QUESTION**: Let's see a simple example, with a 'manual' copy. If you execute the following code in Python Tutor, what will it print? How many memory regions will you see?\n",
    "\n",
    "```python\n",
    "d1 = {'a':3,\n",
    "      'b':8}\n",
    "d2 = {'a':d1['a'], \n",
    "      'b':d1['b'] }\n",
    "d1['a'] = 6\n",
    "\n",
    "print('equal?', d1 == d2)\n",
    "print('d1=', d1)\n",
    "print('d2=', d2)\n",
    "```\n",
    "\n",
    "NOTE: all values (`3` and `8`) are **immutable**."
   ]
  },
  {
   "cell_type": "markdown",
   "metadata": {},
   "source": [
    "**ANSWER**: In this case we manually created a dictionary `d2` using _immutable_ values taken from `d1`. So in Python Tutor we will see two distinct memory regions and a successive modification to `d1` will not alter `d2`:"
   ]
  },
  {
   "cell_type": "code",
   "execution_count": 54,
   "metadata": {},
   "outputs": [
    {
     "name": "stdout",
     "output_type": "stream",
     "text": [
      "equal? False\n",
      "d1= {'a': 6, 'b': 8}\n",
      "d2= {'a': 3, 'b': 8}\n"
     ]
    },
    {
     "data": {
      "text/html": [
       "\n",
       "        <script src=\"../_static/js/pytutor-embed.bundle.min.js\" type=\"application/javascript\"></script>\n",
       "     \n",
       "        <script id=\"json-jmab930e73-3e5f-45c8-8c7b-b78ad8d05e0b\" type=\"application/json\" >\n",
       "            {\"code\": \" \\nd1 = {'a':3,\\n      'b':8}\\nd2 = {'a':d1['a'], \\n      'b':d1['b'] }\\nd1['a'] = 6\\n\\nprint('equal?', d1 == d2)\\nprint('d1=', d1)\\nprint('d2=', d2)\", \"trace\": [{\"line\": 2, \"event\": \"step_line\", \"func_name\": \"<module>\", \"globals\": {}, \"ordered_globals\": [], \"stack_to_render\": [], \"heap\": {}, \"stdout\": \"\"}, {\"line\": 3, \"event\": \"step_line\", \"func_name\": \"<module>\", \"globals\": {}, \"ordered_globals\": [], \"stack_to_render\": [], \"heap\": {}, \"stdout\": \"\"}, {\"line\": 4, \"event\": \"step_line\", \"func_name\": \"<module>\", \"globals\": {\"d1\": [\"REF\", 1]}, \"ordered_globals\": [\"d1\"], \"stack_to_render\": [], \"heap\": {\"1\": [\"DICT\", [\"a\", 3], [\"b\", 8]]}, \"stdout\": \"\"}, {\"line\": 5, \"event\": \"step_line\", \"func_name\": \"<module>\", \"globals\": {\"d1\": [\"REF\", 1]}, \"ordered_globals\": [\"d1\"], \"stack_to_render\": [], \"heap\": {\"1\": [\"DICT\", [\"a\", 3], [\"b\", 8]]}, \"stdout\": \"\"}, {\"line\": 6, \"event\": \"step_line\", \"func_name\": \"<module>\", \"globals\": {\"d1\": [\"REF\", 1], \"d2\": [\"REF\", 2]}, \"ordered_globals\": [\"d1\", \"d2\"], \"stack_to_render\": [], \"heap\": {\"1\": [\"DICT\", [\"a\", 3], [\"b\", 8]], \"2\": [\"DICT\", [\"a\", 3], [\"b\", 8]]}, \"stdout\": \"\"}, {\"line\": 8, \"event\": \"step_line\", \"func_name\": \"<module>\", \"globals\": {\"d1\": [\"REF\", 1], \"d2\": [\"REF\", 2]}, \"ordered_globals\": [\"d1\", \"d2\"], \"stack_to_render\": [], \"heap\": {\"1\": [\"DICT\", [\"a\", 6], [\"b\", 8]], \"2\": [\"DICT\", [\"a\", 3], [\"b\", 8]]}, \"stdout\": \"\"}, {\"line\": 9, \"event\": \"step_line\", \"func_name\": \"<module>\", \"globals\": {\"d1\": [\"REF\", 1], \"d2\": [\"REF\", 2]}, \"ordered_globals\": [\"d1\", \"d2\"], \"stack_to_render\": [], \"heap\": {\"1\": [\"DICT\", [\"a\", 6], [\"b\", 8]], \"2\": [\"DICT\", [\"a\", 3], [\"b\", 8]]}, \"stdout\": \"equal? False\\n\"}, {\"line\": 10, \"event\": \"step_line\", \"func_name\": \"<module>\", \"globals\": {\"d1\": [\"REF\", 1], \"d2\": [\"REF\", 2]}, \"ordered_globals\": [\"d1\", \"d2\"], \"stack_to_render\": [], \"heap\": {\"1\": [\"DICT\", [\"a\", 6], [\"b\", 8]], \"2\": [\"DICT\", [\"a\", 3], [\"b\", 8]]}, \"stdout\": \"equal? False\\nd1= {'a': 6, 'b': 8}\\n\"}, {\"line\": 10, \"event\": \"return\", \"func_name\": \"<module>\", \"globals\": {\"d1\": [\"REF\", 1], \"d2\": [\"REF\", 2]}, \"ordered_globals\": [\"d1\", \"d2\"], \"stack_to_render\": [], \"heap\": {\"1\": [\"DICT\", [\"a\", 6], [\"b\", 8]], \"2\": [\"DICT\", [\"a\", 3], [\"b\", 8]]}, \"stdout\": \"equal? False\\nd1= {'a': 6, 'b': 8}\\nd2= {'a': 3, 'b': 8}\\n\"}]}\n",
       "        </script>\n",
       "        <div id=\"jmab930e73-3e5f-45c8-8c7b-b78ad8d05e0b\" class=\"pytutorVisualizer\"> </div>\n",
       " \n",
       "        <style>\n",
       "        .vizLayoutTd {\n",
       "            background-color: #fff !important;\n",
       "        }\n",
       "\n",
       "        #pyStdout {            \n",
       "            min-height:25px;\n",
       "        }\n",
       "\n",
       "        /* 'Edit this code' link, hiding because replaces browser tab !!!*/\n",
       "        #editCodeLinkDiv {\n",
       "            display:none;  \n",
       "        }\n",
       "        </style>   \n",
       "                            \n",
       "        <script>\n",
       "        (function(){\n",
       "\n",
       "            var trace = JSON.parse(document.getElementById('json-jmab930e73-3e5f-45c8-8c7b-b78ad8d05e0b').innerHTML);                                        \n",
       "            // NOTE 1: id without #\n",
       "            // NOTE 2 - maybe there are more predictable ways, but this will work anyway\n",
       "            //        - id should be number\n",
       "            visualizerIdOverride = Math.trunc(Math.random() * 100000000000)\n",
       "            addVisualizerToPage(trace, 'jmab930e73-3e5f-45c8-8c7b-b78ad8d05e0b',{'embeddedMode' : false,\n",
       "                                             'visualizerIdOverride':visualizerIdOverride})  \n",
       "            \n",
       "            \n",
       "            // set overflow for pytuts - need to do in python as css \n",
       "            // does not allow parent selection\n",
       "            var pytuts = $('.pytutorVisualizer')\n",
       "            pytuts.closest('div.output_html.rendered_html.output_result')\n",
       "                    .css('overflow-x', 'visible')\n",
       "        \n",
       "            //pytuts.closest('div.output_html.rendered_html.output_result')\n",
       "            //      .css('background-color','red')                \n",
       "            \n",
       "        })()\n",
       "        </script>\n",
       "                \n",
       "                "
      ],
      "text/plain": [
       "<IPython.core.display.HTML object>"
      ]
     },
     "execution_count": 54,
     "metadata": {},
     "output_type": "execute_result"
    }
   ],
   "source": [
    "d1 = {'a':3,\n",
    "      'b':8}\n",
    "d2 = {'a':d1['a'], \n",
    "      'b':d1['b'] }\n",
    "d1['a'] = 6\n",
    "\n",
    "print('equal?', d1 == d2)\n",
    "print('d1=', d1)\n",
    "print('d2=', d2)\n",
    "\n",
    "jupman.pytut()    "
   ]
  },
  {
   "cell_type": "markdown",
   "metadata": {},
   "source": [
    "**QUESTION**: If you execute the following code in Python Tutor, what will it print?\n",
    "\n",
    "1. Which type of copy did we do? Shallow? Deep? (or both ...?)\n",
    "2. How many memory regions will you see?\n",
    "\n",
    "```python\n",
    "d1 = {'a':3,\n",
    "      'b':8}\n",
    "d2 = dict(d1)\n",
    "d1['a'] = 7\n",
    "\n",
    "print('equal?', d1 == d2)\n",
    "print('d1=', d1)\n",
    "print('d2=', d2)\n",
    "```\n"
   ]
  },
  {
   "cell_type": "markdown",
   "metadata": {},
   "source": [
    "**ANSWER**: when used as a function, `dict` executes a _shallow_ copy, that is, copies the structure of the dictionary without duplicating the mutable values. In this specific case, all values we have are immutable integers, so the copy can also be considered a complete duplication. When we assign the value `7` to the key `'a'` in `d1` we are modifying the original data structure , leaving the copy we just made `d2` unaltered, so `d1 == d2` will be `False`.\n",
    "\n",
    "Let's verify it in Python Tutor:"
   ]
  },
  {
   "cell_type": "code",
   "execution_count": 55,
   "metadata": {},
   "outputs": [
    {
     "name": "stdout",
     "output_type": "stream",
     "text": [
      "equal? False\n",
      "d1= {'a': 7, 'b': 8}\n",
      "d2= {'a': 3, 'b': 8}\n"
     ]
    },
    {
     "data": {
      "text/html": [
       "\n",
       "        <script src=\"../_static/js/pytutor-embed.bundle.min.js\" type=\"application/javascript\"></script>\n",
       "     \n",
       "        <script id=\"json-jm22fe7802-a376-40b6-891c-277568481df8\" type=\"application/json\" >\n",
       "            {\"code\": \" \\nd1 = {'a':3,\\n      'b':8}\\nd2 = dict(d1)\\nd1['a'] = 7\\n\\nprint('equal?', d1 == d2)\\nprint('d1=', d1)\\nprint('d2=', d2)\", \"trace\": [{\"line\": 2, \"event\": \"step_line\", \"func_name\": \"<module>\", \"globals\": {}, \"ordered_globals\": [], \"stack_to_render\": [], \"heap\": {}, \"stdout\": \"\"}, {\"line\": 3, \"event\": \"step_line\", \"func_name\": \"<module>\", \"globals\": {}, \"ordered_globals\": [], \"stack_to_render\": [], \"heap\": {}, \"stdout\": \"\"}, {\"line\": 4, \"event\": \"step_line\", \"func_name\": \"<module>\", \"globals\": {\"d1\": [\"REF\", 1]}, \"ordered_globals\": [\"d1\"], \"stack_to_render\": [], \"heap\": {\"1\": [\"DICT\", [\"a\", 3], [\"b\", 8]]}, \"stdout\": \"\"}, {\"line\": 5, \"event\": \"step_line\", \"func_name\": \"<module>\", \"globals\": {\"d1\": [\"REF\", 1], \"d2\": [\"REF\", 2]}, \"ordered_globals\": [\"d1\", \"d2\"], \"stack_to_render\": [], \"heap\": {\"1\": [\"DICT\", [\"a\", 3], [\"b\", 8]], \"2\": [\"DICT\", [\"a\", 3], [\"b\", 8]]}, \"stdout\": \"\"}, {\"line\": 7, \"event\": \"step_line\", \"func_name\": \"<module>\", \"globals\": {\"d1\": [\"REF\", 1], \"d2\": [\"REF\", 2]}, \"ordered_globals\": [\"d1\", \"d2\"], \"stack_to_render\": [], \"heap\": {\"1\": [\"DICT\", [\"a\", 7], [\"b\", 8]], \"2\": [\"DICT\", [\"a\", 3], [\"b\", 8]]}, \"stdout\": \"\"}, {\"line\": 8, \"event\": \"step_line\", \"func_name\": \"<module>\", \"globals\": {\"d1\": [\"REF\", 1], \"d2\": [\"REF\", 2]}, \"ordered_globals\": [\"d1\", \"d2\"], \"stack_to_render\": [], \"heap\": {\"1\": [\"DICT\", [\"a\", 7], [\"b\", 8]], \"2\": [\"DICT\", [\"a\", 3], [\"b\", 8]]}, \"stdout\": \"equal? False\\n\"}, {\"line\": 9, \"event\": \"step_line\", \"func_name\": \"<module>\", \"globals\": {\"d1\": [\"REF\", 1], \"d2\": [\"REF\", 2]}, \"ordered_globals\": [\"d1\", \"d2\"], \"stack_to_render\": [], \"heap\": {\"1\": [\"DICT\", [\"a\", 7], [\"b\", 8]], \"2\": [\"DICT\", [\"a\", 3], [\"b\", 8]]}, \"stdout\": \"equal? False\\nd1= {'a': 7, 'b': 8}\\n\"}, {\"line\": 9, \"event\": \"return\", \"func_name\": \"<module>\", \"globals\": {\"d1\": [\"REF\", 1], \"d2\": [\"REF\", 2]}, \"ordered_globals\": [\"d1\", \"d2\"], \"stack_to_render\": [], \"heap\": {\"1\": [\"DICT\", [\"a\", 7], [\"b\", 8]], \"2\": [\"DICT\", [\"a\", 3], [\"b\", 8]]}, \"stdout\": \"equal? False\\nd1= {'a': 7, 'b': 8}\\nd2= {'a': 3, 'b': 8}\\n\"}]}\n",
       "        </script>\n",
       "        <div id=\"jm22fe7802-a376-40b6-891c-277568481df8\" class=\"pytutorVisualizer\"> </div>\n",
       " \n",
       "        <style>\n",
       "        .vizLayoutTd {\n",
       "            background-color: #fff !important;\n",
       "        }\n",
       "\n",
       "        #pyStdout {            \n",
       "            min-height:25px;\n",
       "        }\n",
       "\n",
       "        /* 'Edit this code' link, hiding because replaces browser tab !!!*/\n",
       "        #editCodeLinkDiv {\n",
       "            display:none;  \n",
       "        }\n",
       "        </style>   \n",
       "                            \n",
       "        <script>\n",
       "        (function(){\n",
       "\n",
       "            var trace = JSON.parse(document.getElementById('json-jm22fe7802-a376-40b6-891c-277568481df8').innerHTML);                                        \n",
       "            // NOTE 1: id without #\n",
       "            // NOTE 2 - maybe there are more predictable ways, but this will work anyway\n",
       "            //        - id should be number\n",
       "            visualizerIdOverride = Math.trunc(Math.random() * 100000000000)\n",
       "            addVisualizerToPage(trace, 'jm22fe7802-a376-40b6-891c-277568481df8',{'embeddedMode' : false,\n",
       "                                             'visualizerIdOverride':visualizerIdOverride})  \n",
       "            \n",
       "            \n",
       "            // set overflow for pytuts - need to do in python as css \n",
       "            // does not allow parent selection\n",
       "            var pytuts = $('.pytutorVisualizer')\n",
       "            pytuts.closest('div.output_html.rendered_html.output_result')\n",
       "                    .css('overflow-x', 'visible')\n",
       "        \n",
       "            //pytuts.closest('div.output_html.rendered_html.output_result')\n",
       "            //      .css('background-color','red')                \n",
       "            \n",
       "        })()\n",
       "        </script>\n",
       "                \n",
       "                "
      ],
      "text/plain": [
       "<IPython.core.display.HTML object>"
      ]
     },
     "execution_count": 55,
     "metadata": {},
     "output_type": "execute_result"
    }
   ],
   "source": [
    "d1 = {'a':3,\n",
    "      'b':8}\n",
    "d2 = dict(d1)\n",
    "d1['a'] = 7\n",
    "\n",
    "print('equal?', d1 == d2)\n",
    "print('d1=', d1)\n",
    "print('d2=', d2)\n",
    "\n",
    "jupman.pytut()"
   ]
  },
  {
   "cell_type": "markdown",
   "metadata": {},
   "source": [
    "**QUESTION**: If you execute the following code in Python Tutor, what will it print?\n",
    "\n",
    "1. Which type of copy did we do? Shallow? Deep? (or both ...?)\n",
    "2. How many memory regions will you see?\n",
    "\n",
    "**NOTE**: the values are lists, thus they are **mutable**\n",
    "\n",
    "```python\n",
    "d1 = {'a':[1,2],\n",
    "      'b':[4,5,6]}\n",
    "d2 = dict(d1)\n",
    "d1['a'].append(3)\n",
    "\n",
    "print('equal?', d1 == d2)\n",
    "print('d1=', d1)\n",
    "print('d2=', d2)\n",
    "```"
   ]
  },
  {
   "cell_type": "markdown",
   "metadata": {},
   "source": [
    "**ANSWER**: We used `dict` like a function, so we did a _shallow copy._ In this case we have lists as values, which are _mutable_ objects. This means the shallow copy only copied  references to the lists, but _not_ the lists themselves. For this reason you will see arrows going from the copy of the dictionary `d2` to memory regions of the original lists. This means that if you try to modify a list after the copy occurred (for example with the method `.append(3)`), as a matter of fact you will also modify the list reachable from the copied dictionary `d2`. Let's check this out in Python Tutor:\n"
   ]
  },
  {
   "cell_type": "code",
   "execution_count": 56,
   "metadata": {},
   "outputs": [
    {
     "name": "stdout",
     "output_type": "stream",
     "text": [
      "equal? True\n",
      "d1= {'a': [1, 2, 3], 'b': [4, 5, 6]}\n",
      "d2= {'a': [1, 2, 3], 'b': [4, 5, 6]}\n"
     ]
    },
    {
     "data": {
      "text/html": [
       "\n",
       "        <script src=\"../_static/js/pytutor-embed.bundle.min.js\" type=\"application/javascript\"></script>\n",
       "     \n",
       "        <script id=\"json-jm10d6232f-3093-4b71-8c56-aa2056ef8f1d\" type=\"application/json\" >\n",
       "            {\"code\": \" \\nd1 = {'a':[1,2],\\n      'b':[4,5,6]}\\nd2 = dict(d1)\\nd1['a'].append(3)\\n\\nprint('equal?', d1 == d2)\\nprint('d1=', d1)\\nprint('d2=', d2)\", \"trace\": [{\"line\": 2, \"event\": \"step_line\", \"func_name\": \"<module>\", \"globals\": {}, \"ordered_globals\": [], \"stack_to_render\": [], \"heap\": {}, \"stdout\": \"\"}, {\"line\": 3, \"event\": \"step_line\", \"func_name\": \"<module>\", \"globals\": {}, \"ordered_globals\": [], \"stack_to_render\": [], \"heap\": {}, \"stdout\": \"\"}, {\"line\": 4, \"event\": \"step_line\", \"func_name\": \"<module>\", \"globals\": {\"d1\": [\"REF\", 1]}, \"ordered_globals\": [\"d1\"], \"stack_to_render\": [], \"heap\": {\"1\": [\"DICT\", [\"a\", [\"REF\", 2]], [\"b\", [\"REF\", 3]]], \"2\": [\"LIST\", 1, 2], \"3\": [\"LIST\", 4, 5, 6]}, \"stdout\": \"\"}, {\"line\": 5, \"event\": \"step_line\", \"func_name\": \"<module>\", \"globals\": {\"d1\": [\"REF\", 1], \"d2\": [\"REF\", 4]}, \"ordered_globals\": [\"d1\", \"d2\"], \"stack_to_render\": [], \"heap\": {\"1\": [\"DICT\", [\"a\", [\"REF\", 2]], [\"b\", [\"REF\", 3]]], \"2\": [\"LIST\", 1, 2], \"3\": [\"LIST\", 4, 5, 6], \"4\": [\"DICT\", [\"a\", [\"REF\", 2]], [\"b\", [\"REF\", 3]]]}, \"stdout\": \"\"}, {\"line\": 7, \"event\": \"step_line\", \"func_name\": \"<module>\", \"globals\": {\"d1\": [\"REF\", 1], \"d2\": [\"REF\", 4]}, \"ordered_globals\": [\"d1\", \"d2\"], \"stack_to_render\": [], \"heap\": {\"1\": [\"DICT\", [\"a\", [\"REF\", 2]], [\"b\", [\"REF\", 3]]], \"2\": [\"LIST\", 1, 2, 3], \"3\": [\"LIST\", 4, 5, 6], \"4\": [\"DICT\", [\"a\", [\"REF\", 2]], [\"b\", [\"REF\", 3]]]}, \"stdout\": \"\"}, {\"line\": 8, \"event\": \"step_line\", \"func_name\": \"<module>\", \"globals\": {\"d1\": [\"REF\", 1], \"d2\": [\"REF\", 4]}, \"ordered_globals\": [\"d1\", \"d2\"], \"stack_to_render\": [], \"heap\": {\"1\": [\"DICT\", [\"a\", [\"REF\", 2]], [\"b\", [\"REF\", 3]]], \"2\": [\"LIST\", 1, 2, 3], \"3\": [\"LIST\", 4, 5, 6], \"4\": [\"DICT\", [\"a\", [\"REF\", 2]], [\"b\", [\"REF\", 3]]]}, \"stdout\": \"equal? True\\n\"}, {\"line\": 9, \"event\": \"step_line\", \"func_name\": \"<module>\", \"globals\": {\"d1\": [\"REF\", 1], \"d2\": [\"REF\", 4]}, \"ordered_globals\": [\"d1\", \"d2\"], \"stack_to_render\": [], \"heap\": {\"1\": [\"DICT\", [\"a\", [\"REF\", 2]], [\"b\", [\"REF\", 3]]], \"2\": [\"LIST\", 1, 2, 3], \"3\": [\"LIST\", 4, 5, 6], \"4\": [\"DICT\", [\"a\", [\"REF\", 2]], [\"b\", [\"REF\", 3]]]}, \"stdout\": \"equal? True\\nd1= {'a': [1, 2, 3], 'b': [4, 5, 6]}\\n\"}, {\"line\": 9, \"event\": \"return\", \"func_name\": \"<module>\", \"globals\": {\"d1\": [\"REF\", 1], \"d2\": [\"REF\", 4]}, \"ordered_globals\": [\"d1\", \"d2\"], \"stack_to_render\": [], \"heap\": {\"1\": [\"DICT\", [\"a\", [\"REF\", 2]], [\"b\", [\"REF\", 3]]], \"2\": [\"LIST\", 1, 2, 3], \"3\": [\"LIST\", 4, 5, 6], \"4\": [\"DICT\", [\"a\", [\"REF\", 2]], [\"b\", [\"REF\", 3]]]}, \"stdout\": \"equal? True\\nd1= {'a': [1, 2, 3], 'b': [4, 5, 6]}\\nd2= {'a': [1, 2, 3], 'b': [4, 5, 6]}\\n\"}]}\n",
       "        </script>\n",
       "        <div id=\"jm10d6232f-3093-4b71-8c56-aa2056ef8f1d\" class=\"pytutorVisualizer\"> </div>\n",
       " \n",
       "        <style>\n",
       "        .vizLayoutTd {\n",
       "            background-color: #fff !important;\n",
       "        }\n",
       "\n",
       "        #pyStdout {            \n",
       "            min-height:25px;\n",
       "        }\n",
       "\n",
       "        /* 'Edit this code' link, hiding because replaces browser tab !!!*/\n",
       "        #editCodeLinkDiv {\n",
       "            display:none;  \n",
       "        }\n",
       "        </style>   \n",
       "                            \n",
       "        <script>\n",
       "        (function(){\n",
       "\n",
       "            var trace = JSON.parse(document.getElementById('json-jm10d6232f-3093-4b71-8c56-aa2056ef8f1d').innerHTML);                                        \n",
       "            // NOTE 1: id without #\n",
       "            // NOTE 2 - maybe there are more predictable ways, but this will work anyway\n",
       "            //        - id should be number\n",
       "            visualizerIdOverride = Math.trunc(Math.random() * 100000000000)\n",
       "            addVisualizerToPage(trace, 'jm10d6232f-3093-4b71-8c56-aa2056ef8f1d',{'embeddedMode' : false,\n",
       "                                             'visualizerIdOverride':visualizerIdOverride})  \n",
       "            \n",
       "            \n",
       "            // set overflow for pytuts - need to do in python as css \n",
       "            // does not allow parent selection\n",
       "            var pytuts = $('.pytutorVisualizer')\n",
       "            pytuts.closest('div.output_html.rendered_html.output_result')\n",
       "                    .css('overflow-x', 'visible')\n",
       "        \n",
       "            //pytuts.closest('div.output_html.rendered_html.output_result')\n",
       "            //      .css('background-color','red')                \n",
       "            \n",
       "        })()\n",
       "        </script>\n",
       "                \n",
       "                "
      ],
      "text/plain": [
       "<IPython.core.display.HTML object>"
      ]
     },
     "execution_count": 56,
     "metadata": {},
     "output_type": "execute_result"
    }
   ],
   "source": [
    "d1 = {'a':[1,2],\n",
    "      'b':[4,5,6]}\n",
    "d2 = dict(d1)\n",
    "d1['a'].append(3)\n",
    "\n",
    "print('equal?', d1 == d2)\n",
    "print('d1=', d1)\n",
    "print('d2=', d2)\n",
    "\n",
    "jupman.pytut()"
   ]
  },
  {
   "cell_type": "markdown",
   "metadata": {},
   "source": [
    "**QUESTION**: If you execute the following code in Python Tutor, what will it print?\n",
    "\n",
    "1. Which type of copy did we do? Shallow? Deep? (or both ...?)\n",
    "2. How many memory regions will you see?\n",
    "\n",
    "**NOTE**: the values are lists, so they are **mutable**\n",
    "\n",
    "```python\n",
    "import copy\n",
    "d1 = {'a':[1,2],\n",
    "      'b':[4,5,6]}\n",
    "d2 = copy.deepcopy(d1)\n",
    "d1['a'].append(3)\n",
    "\n",
    "print('equal?', d1 == d2)\n",
    "print('d1=', d1)\n",
    "print('d2=', d2)\n",
    "```\n"
   ]
  },
  {
   "cell_type": "markdown",
   "metadata": {},
   "source": [
    "**ANSWER**: We used `copy.deepcopy`, making an in-depth copy. In this case  we have mutable lists as values. The deep copy duplicated all the objects it was able to reach, lists included. So in this case we will obtain two completely distinct memory regions. After the copy, if we modify a list reachable from the original `d1`, we will be sure that we cannot tarnish objects reachable from `d2`. Let's check it in Python Tutor:"
   ]
  },
  {
   "cell_type": "code",
   "execution_count": 57,
   "metadata": {},
   "outputs": [
    {
     "name": "stdout",
     "output_type": "stream",
     "text": [
      "equal? False\n",
      "d1= {'a': [1, 2, 3], 'b': [4, 5, 6]}\n",
      "d2= {'a': [1, 2], 'b': [4, 5, 6]}\n"
     ]
    },
    {
     "data": {
      "text/html": [
       "\n",
       "        <script src=\"../_static/js/pytutor-embed.bundle.min.js\" type=\"application/javascript\"></script>\n",
       "     \n",
       "        <script id=\"json-jm8a1d58a4-e72c-478c-900b-4d311a52cbb4\" type=\"application/json\" >\n",
       "            {\"code\": \" \\nimport copy\\nd1 = {'a':[1,2],\\n      'b':[4,5,6]}\\nd2 = copy.deepcopy(d1)\\nd1['a'].append(3)\\n\\nprint('equal?', d1 == d2)\\nprint('d1=', d1)\\nprint('d2=', d2)\", \"trace\": [{\"line\": 2, \"event\": \"step_line\", \"func_name\": \"<module>\", \"globals\": {}, \"ordered_globals\": [], \"stack_to_render\": [], \"heap\": {}, \"stdout\": \"\"}, {\"line\": 3, \"event\": \"step_line\", \"func_name\": \"<module>\", \"globals\": {\"copy\": [\"REF\", 1]}, \"ordered_globals\": [\"copy\"], \"stack_to_render\": [], \"heap\": {\"1\": [\"INSTANCE\", \"module\"]}, \"stdout\": \"\"}, {\"line\": 4, \"event\": \"step_line\", \"func_name\": \"<module>\", \"globals\": {\"copy\": [\"REF\", 1]}, \"ordered_globals\": [\"copy\"], \"stack_to_render\": [], \"heap\": {\"1\": [\"INSTANCE\", \"module\"]}, \"stdout\": \"\"}, {\"line\": 5, \"event\": \"step_line\", \"func_name\": \"<module>\", \"globals\": {\"copy\": [\"REF\", 1], \"d1\": [\"REF\", 2]}, \"ordered_globals\": [\"copy\", \"d1\"], \"stack_to_render\": [], \"heap\": {\"1\": [\"INSTANCE\", \"module\"], \"2\": [\"DICT\", [\"a\", [\"REF\", 3]], [\"b\", [\"REF\", 4]]], \"3\": [\"LIST\", 1, 2], \"4\": [\"LIST\", 4, 5, 6]}, \"stdout\": \"\"}, {\"line\": 6, \"event\": \"step_line\", \"func_name\": \"<module>\", \"globals\": {\"copy\": [\"REF\", 1], \"d1\": [\"REF\", 2], \"d2\": [\"REF\", 5]}, \"ordered_globals\": [\"copy\", \"d1\", \"d2\"], \"stack_to_render\": [], \"heap\": {\"1\": [\"INSTANCE\", \"module\"], \"2\": [\"DICT\", [\"a\", [\"REF\", 3]], [\"b\", [\"REF\", 4]]], \"3\": [\"LIST\", 1, 2], \"4\": [\"LIST\", 4, 5, 6], \"5\": [\"DICT\", [\"a\", [\"REF\", 6]], [\"b\", [\"REF\", 7]]], \"6\": [\"LIST\", 1, 2], \"7\": [\"LIST\", 4, 5, 6]}, \"stdout\": \"\"}, {\"line\": 8, \"event\": \"step_line\", \"func_name\": \"<module>\", \"globals\": {\"copy\": [\"REF\", 1], \"d1\": [\"REF\", 2], \"d2\": [\"REF\", 5]}, \"ordered_globals\": [\"copy\", \"d1\", \"d2\"], \"stack_to_render\": [], \"heap\": {\"1\": [\"INSTANCE\", \"module\"], \"2\": [\"DICT\", [\"a\", [\"REF\", 3]], [\"b\", [\"REF\", 4]]], \"3\": [\"LIST\", 1, 2, 3], \"4\": [\"LIST\", 4, 5, 6], \"5\": [\"DICT\", [\"a\", [\"REF\", 6]], [\"b\", [\"REF\", 7]]], \"6\": [\"LIST\", 1, 2], \"7\": [\"LIST\", 4, 5, 6]}, \"stdout\": \"\"}, {\"line\": 9, \"event\": \"step_line\", \"func_name\": \"<module>\", \"globals\": {\"copy\": [\"REF\", 1], \"d1\": [\"REF\", 2], \"d2\": [\"REF\", 5]}, \"ordered_globals\": [\"copy\", \"d1\", \"d2\"], \"stack_to_render\": [], \"heap\": {\"1\": [\"INSTANCE\", \"module\"], \"2\": [\"DICT\", [\"a\", [\"REF\", 3]], [\"b\", [\"REF\", 4]]], \"3\": [\"LIST\", 1, 2, 3], \"4\": [\"LIST\", 4, 5, 6], \"5\": [\"DICT\", [\"a\", [\"REF\", 6]], [\"b\", [\"REF\", 7]]], \"6\": [\"LIST\", 1, 2], \"7\": [\"LIST\", 4, 5, 6]}, \"stdout\": \"equal? False\\n\"}, {\"line\": 10, \"event\": \"step_line\", \"func_name\": \"<module>\", \"globals\": {\"copy\": [\"REF\", 1], \"d1\": [\"REF\", 2], \"d2\": [\"REF\", 5]}, \"ordered_globals\": [\"copy\", \"d1\", \"d2\"], \"stack_to_render\": [], \"heap\": {\"1\": [\"INSTANCE\", \"module\"], \"2\": [\"DICT\", [\"a\", [\"REF\", 3]], [\"b\", [\"REF\", 4]]], \"3\": [\"LIST\", 1, 2, 3], \"4\": [\"LIST\", 4, 5, 6], \"5\": [\"DICT\", [\"a\", [\"REF\", 6]], [\"b\", [\"REF\", 7]]], \"6\": [\"LIST\", 1, 2], \"7\": [\"LIST\", 4, 5, 6]}, \"stdout\": \"equal? False\\nd1= {'a': [1, 2, 3], 'b': [4, 5, 6]}\\n\"}, {\"line\": 10, \"event\": \"return\", \"func_name\": \"<module>\", \"globals\": {\"copy\": [\"REF\", 1], \"d1\": [\"REF\", 2], \"d2\": [\"REF\", 5]}, \"ordered_globals\": [\"copy\", \"d1\", \"d2\"], \"stack_to_render\": [], \"heap\": {\"1\": [\"INSTANCE\", \"module\"], \"2\": [\"DICT\", [\"a\", [\"REF\", 3]], [\"b\", [\"REF\", 4]]], \"3\": [\"LIST\", 1, 2, 3], \"4\": [\"LIST\", 4, 5, 6], \"5\": [\"DICT\", [\"a\", [\"REF\", 6]], [\"b\", [\"REF\", 7]]], \"6\": [\"LIST\", 1, 2], \"7\": [\"LIST\", 4, 5, 6]}, \"stdout\": \"equal? False\\nd1= {'a': [1, 2, 3], 'b': [4, 5, 6]}\\nd2= {'a': [1, 2], 'b': [4, 5, 6]}\\n\"}]}\n",
       "        </script>\n",
       "        <div id=\"jm8a1d58a4-e72c-478c-900b-4d311a52cbb4\" class=\"pytutorVisualizer\"> </div>\n",
       " \n",
       "        <style>\n",
       "        .vizLayoutTd {\n",
       "            background-color: #fff !important;\n",
       "        }\n",
       "\n",
       "        #pyStdout {            \n",
       "            min-height:25px;\n",
       "        }\n",
       "\n",
       "        /* 'Edit this code' link, hiding because replaces browser tab !!!*/\n",
       "        #editCodeLinkDiv {\n",
       "            display:none;  \n",
       "        }\n",
       "        </style>   \n",
       "                            \n",
       "        <script>\n",
       "        (function(){\n",
       "\n",
       "            var trace = JSON.parse(document.getElementById('json-jm8a1d58a4-e72c-478c-900b-4d311a52cbb4').innerHTML);                                        \n",
       "            // NOTE 1: id without #\n",
       "            // NOTE 2 - maybe there are more predictable ways, but this will work anyway\n",
       "            //        - id should be number\n",
       "            visualizerIdOverride = Math.trunc(Math.random() * 100000000000)\n",
       "            addVisualizerToPage(trace, 'jm8a1d58a4-e72c-478c-900b-4d311a52cbb4',{'embeddedMode' : false,\n",
       "                                             'visualizerIdOverride':visualizerIdOverride})  \n",
       "            \n",
       "            \n",
       "            // set overflow for pytuts - need to do in python as css \n",
       "            // does not allow parent selection\n",
       "            var pytuts = $('.pytutorVisualizer')\n",
       "            pytuts.closest('div.output_html.rendered_html.output_result')\n",
       "                    .css('overflow-x', 'visible')\n",
       "        \n",
       "            //pytuts.closest('div.output_html.rendered_html.output_result')\n",
       "            //      .css('background-color','red')                \n",
       "            \n",
       "        })()\n",
       "        </script>\n",
       "                \n",
       "                "
      ],
      "text/plain": [
       "<IPython.core.display.HTML object>"
      ]
     },
     "execution_count": 57,
     "metadata": {},
     "output_type": "execute_result"
    }
   ],
   "source": [
    "import copy\n",
    "d1 = {'a':[1,2],\n",
    "      'b':[4,5,6]}\n",
    "d2 = copy.deepcopy(d1)\n",
    "d1['a'].append(3)\n",
    "\n",
    "print('equal?', d1 == d2)\n",
    "print('d1=', d1)\n",
    "print('d2=', d2)\n",
    "\n",
    "jupman.pytut()"
   ]
  },
  {
   "cell_type": "markdown",
   "metadata": {},
   "source": [
    "**QUESTION**: Look at the following code fragments, and for each try guessing which result it produces (or if it gives an error):\n",
    "\n",
    "\n",
    "1.  ```python\n",
    "    diz1 = {'a':[4,5],\n",
    "            'b':[6,7]}\n",
    "    diz2 = dict(diz1)\n",
    "    diz2['a'] = diz1['b']\n",
    "    diz2['b'][0] = 9\n",
    "    print(diz1 == diz2)\n",
    "    print(diz1)\n",
    "    print(diz2)\n",
    "    ```\n",
    "1.  ```python\n",
    "    da = {'a':['x','y','z']}\n",
    "    db = dict(da)\n",
    "    db['a'] = ['w','t']\n",
    "    dc = dict(db)\n",
    "    print(da)\n",
    "    print(db)\n",
    "    print(dc)\n",
    "    ```\n",
    "1.  ```python\n",
    "    import copy\n",
    "\n",
    "    la = ['x','y','z']\n",
    "    diz1 = {'a':la,\n",
    "            'b':la }\n",
    "    diz2 = copy.deepcopy(diz1)\n",
    "    diz2['a'][0] = 'w'\n",
    "    print('uguali?', diz1 == diz2)\n",
    "    print('diz1=', diz1)\n",
    "    print('diz2=', diz2)\n",
    "    ```\n"
   ]
  },
  {
   "cell_type": "markdown",
   "metadata": {},
   "source": [
    "### Exercise - Zoom Doom\n",
    "\n",
    "Write some code which given a string `s` (i.e. `'ZOOM'`), creates a dictionary `zd` and assigns to keys  `'a'`, `'b'` and `'c'` the _same identical list_ containing the string characters as elements (i.e. `['Z','O','O','M']`). \n",
    "\n",
    "* in Python Tutor you should see 3 arrows which go from keys to _the same identical memory region_\n",
    "* by modifying the list associated to each key, you should see the modification also in the lists associated to other keys\n",
    "* your code must work for _any_ string `s`\n",
    "\n",
    "\n",
    "Example - given:\n",
    "\n",
    "```python\n",
    "s = 'ZOOM'\n",
    "```\n",
    "\n",
    "After your code, it should result:\n",
    "\n",
    "```python\n",
    ">>> print(zd)\n",
    "{'a': ['Z', 'O', 'O', 'M']\n",
    " 'b': ['Z', 'O', 'O', 'M'], \n",
    " 'c': ['Z', 'O', 'O', 'M'], \n",
    "}\n",
    ">>> zd['a'][0] = 'D'\n",
    ">>> print(zd)\n",
    "{'a': ['D', 'O', 'O', 'M']\n",
    " 'b': ['D', 'O', 'O', 'M'], \n",
    " 'c': ['D', 'O', 'O', 'M'], \n",
    "}\n",
    "```"
   ]
  },
  {
   "cell_type": "code",
   "execution_count": 58,
   "metadata": {},
   "outputs": [
    {
     "name": "stdout",
     "output_type": "stream",
     "text": [
      "{'a': ['Z', 'O', 'O', 'M'], 'b': ['Z', 'O', 'O', 'M'], 'c': ['Z', 'O', 'O', 'M']}\n",
      "{'a': ['D', 'O', 'O', 'M'], 'b': ['D', 'O', 'O', 'M'], 'c': ['D', 'O', 'O', 'M']}\n"
     ]
    }
   ],
   "source": [
    "#jupman-purge-output\n",
    "s = 'ZOOM'\n",
    "\n",
    "# write here\n",
    "\n",
    "zoom = list(s)\n",
    "\n",
    "zd = {'a':zoom,\n",
    "      'b':zoom,\n",
    "      'c':zoom}\n",
    "print(zd)\n",
    "zd['a'][0] = 'D'\n",
    "print(zd)\n",
    "\n",
    "#jupman.pytut()"
   ]
  },
  {
   "cell_type": "markdown",
   "metadata": {},
   "source": [
    "\n",
    "## Continue\n",
    "\n",
    "Go on reading [Dictionaries 3 - methods](https://en.softpython.org/dictionaries/dictionaries3-sol.html)"
   ]
  },
  {
   "cell_type": "code",
   "execution_count": null,
   "metadata": {},
   "outputs": [],
   "source": []
  }
 ],
 "metadata": {
  "kernelspec": {
   "display_name": "Python 3 (ipykernel)",
   "language": "python",
   "name": "python3"
  },
  "language_info": {
   "codemirror_mode": {
    "name": "ipython",
    "version": 3
   },
   "file_extension": ".py",
   "mimetype": "text/x-python",
   "name": "python",
   "nbconvert_exporter": "python",
   "pygments_lexer": "ipython3",
   "version": "3.7.10"
  },
  "toc": {
   "base_numbering": 1,
   "nav_menu": {},
   "number_sections": false,
   "sideBar": true,
   "skip_h1_title": false,
   "title_cell": "Table of Contents",
   "title_sidebar": "Contents",
   "toc_cell": false,
   "toc_position": {
    "height": "calc(100% - 180px)",
    "left": "10px",
    "top": "150px",
    "width": "342px"
   },
   "toc_section_display": true,
   "toc_window_display": true
  }
 },
 "nbformat": 4,
 "nbformat_minor": 2
}
