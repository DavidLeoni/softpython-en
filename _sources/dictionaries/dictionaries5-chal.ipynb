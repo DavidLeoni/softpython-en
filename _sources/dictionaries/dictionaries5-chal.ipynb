{
 "cells": [
  {
   "cell_type": "markdown",
   "id": "worst-going",
   "metadata": {},
   "source": [
    "# Dictionaries 5 - First challenges\n",
    "\n",
    "## [Download exercises zip](../_static/generated/dictionaries.zip)\n",
    "\n",
    "[Browse file online](https://github.com/DavidLeoni/softpython-en/dictionaries)"
   ]
  },
  {
   "cell_type": "markdown",
   "id": "impossible-cambodia",
   "metadata": {},
   "source": [
    "We now propose some exercises without solution, do you accept the challenge?"
   ]
  },
  {
   "cell_type": "markdown",
   "id": "6a828592",
   "metadata": {},
   "source": [
    "## Challenge - The Institute for Advanced Technotronics\n",
    "\n",
    "✪ The Institute for Advanced Technotronics builds computing machines which require thousands of cables, They are categorized according to their section diameter, in  intervals of two numbers. Each interval is associated with a color. \n",
    "The Institute records everything in a journal, but now it's refurbishing the inventory and wants to build a better database. Write some code that given a list `diameters` of **exactly 6 numbers** and another list `colors` of **exactly 3 strings**, like\n",
    "\n",
    "\n",
    "```python\n",
    "diameters = [5, 9, 13, 18, 27, 90]\n",
    "colors = ['yellow', 'orange', 'red' ]\n",
    "```\n",
    "\n",
    "outputs a dictionary in this format:\n",
    "\n",
    "```python\n",
    "{(5, 9)  : 'yellow', \n",
    " (13, 18): 'orange', \n",
    " (27, 90): 'red'}\n",
    "```\n",
    "\n",
    "**DO NOT** write constant list elements in your code (i.e. no `27`)"
   ]
  },
  {
   "cell_type": "code",
   "execution_count": 1,
   "id": "6ec380ff-stripped",
   "metadata": {},
   "outputs": [],
   "source": [
    "\n",
    "\n",
    "diameters,colors = [5, 9, 13, 18, 27, 90],  ['yellow', 'orange', 'red' ]\n",
    "\n",
    "# write here\n",
    "\n"
   ]
  },
  {
   "cell_type": "markdown",
   "id": "26aa5311",
   "metadata": {},
   "source": [
    "## Challenge -  Incredible Machines contest\n",
    "\n",
    "✪ Each week the Institute promotes a contest. The participants in turns must inspect a new incredible machine and understand how it works. During each competition, the  `winner` gains `prize` points which are then recorded in a `registry`, adding them to points gained in previous competitions.\n",
    "\n",
    "The machines are shiny new, and the Institute is aware the first participant may experience some issue with machines being run for the first time. To compensate for this, the **first** participant is always granted an `extra` amount of points.\n",
    "\n",
    "* participants interact with the machine in alphabetical order"
   ]
  },
  {
   "cell_type": "markdown",
   "id": "ae7d70d1",
   "metadata": {},
   "source": [
    "Write some code to MODIFY the `registry` with the `winner` `prize`, and `extra` amount of points for the first contestant. Print also the process. \n",
    "\n",
    "- **DO NOT** use loops\n",
    "- **DO NOT** write constant participants names (so no `'Carl'`...)\n",
    "- Display participant order nicely\n",
    "\n",
    "Example - given:\n",
    "\n",
    "```python\n",
    "extra, winner, prize = 30, 'Marianne', 200\n",
    "\n",
    "registry = { 'Lisa'    : 10,\n",
    "             'Robert'  : 30,\n",
    "             'Marianne': 20,\n",
    "             'Carl'    : 20,\n",
    "             'Sara'    : 60, \n",
    "             'Suzanne' : 30}\n",
    "```\n",
    "\n",
    "your code should print \n",
    "\n",
    "```\n",
    "Participants order: Carl, Lisa, Marianne, Robert, Sara, Suzanne\n",
    "Carl begins, receives extra grant of 30 points\n",
    "Marianne won, receives 200 points\n",
    "\n",
    "Updated registry is\n",
    "{'Carl': 50,\n",
    " 'Lisa': 10,\n",
    " 'Marianne': 220,\n",
    " 'Robert': 30,\n",
    " 'Sara': 60,\n",
    " 'Suzanne': 30}\n",
    "```\n",
    "\n",
    "**HINT**: to print nicely, use `pprint`:\n",
    "\n",
    "```python\n",
    "from pprint import pprint\n",
    "pprint(registry)\n",
    "```\n",
    "\n",
    "**NOTE**: `pprint` (and also jupyter) display keys in alphabetical order, but that's just aesthetic:  the original order in memory remains unchanged."
   ]
  },
  {
   "cell_type": "code",
   "execution_count": 2,
   "id": "4a2ea663-stripped",
   "metadata": {},
   "outputs": [],
   "source": [
    "\n",
    "\n",
    "extra, winner, prize = 30, 'Marianne', 200\n",
    "registry = { 'Lisa'    : 10,\n",
    "             'Robert'  : 30,\n",
    "             'Marianne': 20,\n",
    "             'Carl'    : 20,\n",
    "             'Sara'    : 60, \n",
    "             'Suzanne' : 30}\n",
    "\n",
    "#extra, winner, prize, registry = 10, 'Sebastian', 300, {'Sebastian':40,'Alfio':20}\n",
    "\n",
    "# write here\n",
    "\n"
   ]
  },
  {
   "cell_type": "markdown",
   "id": "dcb20f47",
   "metadata": {},
   "source": [
    "## Challenge - Going nuts\n",
    "\n",
    "✪ The Institute has a large `storage` room where component parts are kept. Sometimes mechanics come in a hurry yelling they need a given `amount` of some `item`.\n",
    "\n",
    "Write some code which prints `True` if there are enough items in the `storage`, and `False` otherwise.\n",
    "\n",
    "**NOTE**: a mechanic may ask for an `item` which is not recorded at all in the `storage`\n",
    "\n",
    "* **DO NOT** write string constants in your code (so no `'knobs'` ...)\n",
    "* **DO NOT** use loops\n",
    "* **DO NOT** use `if` statements\n",
    "* **HINT** if you don't know how to do it, have a look at [boolean evaluation order](https://en.softpython.org/basics/basics2-bools-sol.html#Evaluation-order)"
   ]
  },
  {
   "cell_type": "code",
   "execution_count": 3,
   "id": "796d4050-stripped",
   "metadata": {},
   "outputs": [],
   "source": [
    "\n",
    "item, amount = 'knobs', 15   # True\n",
    "#item, amount = 'knobs', 16  # False\n",
    "#item, amount = 'nuts', 9    # True\n",
    "#item, amount = 'rivets', 8  # False\n",
    "#item, amount = 'clamps', 1  # False\n",
    "#item, amount = 'pins', 1    # False\n",
    "\n",
    "storage = {'nuts':11,\n",
    "           'knobs':15,\n",
    "           'pins':0,\n",
    "           'bolts':7}\n",
    "\n",
    "# write here\n",
    "\n"
   ]
  },
  {
   "cell_type": "markdown",
   "id": "f9f25ae4",
   "metadata": {},
   "source": [
    "## Challenge - Galactic storm\n",
    "\n",
    "✪✪ A micro black hole passed through the solar system, bringing chaos into all moon orbits. The probes sent by the Institute recorded **exactly 3** `jumps` of moons, where for each jump the last moon of one planet became the last moon of another.\n",
    "\n",
    "Write some code which give given a dictionary `galaxy` mapping planets to their moons, **MODIFIES** `galaxy` according to another dictionary `jumps`\n",
    "\n",
    "* assume there cannot be chains of jumps (i.e. no Jupyter -> Mars -> Neptune)\n",
    "* **DO NOT** write constant planet names in your code (so no `'Jupyter'`)\n",
    "* **DO NOT** replace the assignments in `galaxy` (so no `galaxy[planet] = ...` )\n",
    "* **DO NOT** use search methods (so no `.remove`, `.index` ...)\n",
    "\n",
    "Example - given:\n",
    "\n",
    "(note for astrophiles: we didn't care putting all moons, nor used any particular order)\n",
    "\n",
    "```python\n",
    "galaxy = {    \n",
    "    'Jupiter' : ['Io','Europa','Ganymede','Callisto'],\n",
    "    'Saturn'  : ['Mimas', 'Enceladus', 'Dione','Rhea','Titan','Hyperion'],\n",
    "    'Mars'    : ['Phobos','Deimos'],\n",
    "    'Earth'   : ['Moon'],\n",
    "    'Neptune' : ['Triton', 'Proteus', 'Despina', 'Thalassa'],\n",
    "    'Uranus'  : ['Titania', 'Oberon']\n",
    "}\n",
    "\n",
    "jumps ={\n",
    "  'Jupiter' : 'Mars',\n",
    "  'Saturn'  : 'Neptune', \n",
    "  'Earth'   : 'Uranus'\n",
    "} \n",
    "```\n",
    "\n",
    "After your code, it must result:\n",
    "\n",
    "```python\n",
    "\n",
    ">>> galaxy\n",
    "{'Jupiter': ['Io', 'Europa', 'Ganymede'],\n",
    " 'Saturn': ['Mimas', 'Enceladus', 'Dione', 'Rhea', 'Titan'],\n",
    " 'Mars': ['Phobos', 'Deimos', 'Callisto'],\n",
    " 'Earth': [],\n",
    " 'Neptune': ['Triton', 'Proteus', 'Despina', 'Thalassa', 'Hyperion'],\n",
    " 'Uranus': ['Titania', 'Oberon', 'Moon']}\n",
    "```"
   ]
  },
  {
   "cell_type": "code",
   "execution_count": 4,
   "id": "6b17d3d2-stripped",
   "metadata": {},
   "outputs": [],
   "source": [
    "\n",
    "galaxy = {    \n",
    "    'Jupiter' : ['Io','Europa','Ganymede','Callisto'],\n",
    "    'Saturn'  : ['Mimas', 'Enceladus', 'Dione','Rhea','Titan','Hyperion'],\n",
    "    'Mars'    : ['Phobos','Deimos'],\n",
    "    'Earth'   : ['Moon'],\n",
    "    'Neptune' : ['Triton', 'Proteus', 'Despina', 'Thalassa'],\n",
    "    'Uranus'  : ['Titania', 'Oberon']\n",
    "}\n",
    "\n",
    "jumps ={\n",
    "  'Jupiter' : 'Mars',\n",
    "  'Saturn'  : 'Neptune', \n",
    "  'Earth'   : 'Uranus'\n",
    "} \n",
    "\n",
    "# write here\n",
    "\n"
   ]
  },
  {
   "cell_type": "code",
   "execution_count": 5,
   "id": "2bc39b36-stripped",
   "metadata": {
    "nbsphinx": "hidden"
   },
   "outputs": [],
   "source": []
  },
  {
   "cell_type": "code",
   "execution_count": null,
   "id": "ca9a8248",
   "metadata": {},
   "outputs": [],
   "source": []
  }
 ],
 "metadata": {
  "kernelspec": {
   "display_name": "Python 3 (ipykernel)",
   "language": "python",
   "name": "python3"
  },
  "language_info": {
   "codemirror_mode": {
    "name": "ipython",
    "version": 3
   },
   "file_extension": ".py",
   "mimetype": "text/x-python",
   "name": "python",
   "nbconvert_exporter": "python",
   "pygments_lexer": "ipython3",
   "version": "3.7.10"
  },
  "toc": {
   "base_numbering": 1,
   "nav_menu": {},
   "number_sections": false,
   "sideBar": true,
   "skip_h1_title": false,
   "title_cell": "Table of Contents",
   "title_sidebar": "Contents",
   "toc_cell": false,
   "toc_position": {},
   "toc_section_display": true,
   "toc_window_display": true
  }
 },
 "nbformat": 4,
 "nbformat_minor": 5
}
