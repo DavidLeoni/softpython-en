{
 "cells": [
  {
   "cell_type": "markdown",
   "id": "worst-going",
   "metadata": {},
   "source": [
    "# Sequences 2 - Challenges\n",
    "\n",
    "## [Download exercises zip](../_static/generated/sequences.zip)\n",
    "\n",
    "[Browse online files](https://github.com/DavidLeoni/softpython-en/tree/master/sequences)"
   ]
  },
  {
   "cell_type": "markdown",
   "id": "cf42eea4",
   "metadata": {},
   "source": [
    "\n",
    "## Challenge -  ppulsar\n",
    "\n",
    "Given a list of words `universe`, output a list which has first letters capitalized,  double 'p's converted into a single one, and 'The' added at the beginning of each word\n",
    "\n",
    "* **USE**  list comprehension in one line of code\n",
    "\n",
    "IN: `universe = ['star','space','nebula','proton','pproppulsion','black hole','ppulsar']`\n",
    "\n",
    "OUT: `['The Star', 'The Space', 'The Nebula', 'The Proton', 'The Propulsion', 'The Black hole', 'The Pulsar']`\n"
   ]
  },
  {
   "cell_type": "code",
   "execution_count": 1,
   "id": "nasty-sampling-stripped-stripped",
   "metadata": {
    "nbsphinx": "hidden"
   },
   "outputs": [],
   "source": [
    "\n",
    "\n",
    "universe = ['star','space','nebula','proton','pproppulsion','black hole','ppulsar']\n",
    "\n",
    "# write here\n",
    "\n"
   ]
  },
  {
   "cell_type": "markdown",
   "id": "702abcdf",
   "metadata": {},
   "source": [
    "## Challenge - broken wisdom\n",
    "\n",
    "Given a list of words, produce a list of tuples of characters, with half the characters of each word.\n",
    "\n",
    "* **USE**  list comprehension in one line of code\n",
    "* **BEWARE** of odd length words\n",
    "\n",
    "\n",
    "IN: `['concepts','broken','wisdom','reality','unbroken','philosophy']`\n",
    "\n",
    "OUT: `[('c', 'o', 'n', 'c'), ('b', 'r', 'o'), ('w', 'i', 's'), ('r', 'e', 'a'), ('u', 'n', 'b', 'r'), ('p', 'h', 'i', 'l', 'o')]`"
   ]
  },
  {
   "cell_type": "code",
   "execution_count": 2,
   "id": "241ff652-stripped",
   "metadata": {},
   "outputs": [],
   "source": [
    "\n",
    "\n",
    "meditation = ['concepts','broken','wisdom','reality','unbroken','philosophy']\n",
    "\n",
    "# write here\n",
    "\n"
   ]
  },
  {
   "cell_type": "markdown",
   "id": "8b7bf379",
   "metadata": {},
   "source": [
    "## Challenge - rupture  \n",
    "\n",
    "Given a list of words `rupture` either lowercase or uppercase, and a list of words  `gather` either uppercase or lowercase, collect only those words from `rupture` and separated the characters with dashes `-`\n",
    "\n",
    "* **USE**  list comprehension in one line of code\n",
    "\n",
    "IN:\n",
    "\n",
    "```python\n",
    "gather = `['TREMOR', 'hypocenter','DANGER', 'seismic']`\n",
    "rupture = ['earthquake','tremor', 'temblor','litosphere', 'danger', 'TREMOR', \n",
    "           'hypocenter', 'seismic','waves', 'LANDSLIDES', 'SEISMIC']\n",
    "```\n",
    "\n",
    "OUT: `['t-r-e-m-o-r','d-a-n-g-e-r', 't-r-e-m-o-r', 'h-y-p-o-c-e-n-t-e-r', 's-e-i-s-m-i-c', 's-e-i-s-m-i-c']`"
   ]
  },
  {
   "cell_type": "code",
   "execution_count": 3,
   "id": "db93b325-stripped",
   "metadata": {},
   "outputs": [],
   "source": [
    "\n",
    "\n",
    "gather = ['TREMOR', 'hypocenter','DANGER', 'seismic']\n",
    "rupture = ['earthquake','tremor', 'temblor','litosphere', 'danger', 'TREMOR', 'hypocenter', 'seismic','waves', 'LANDSLIDES', 'SEISMIC']\n",
    "\n",
    "\n",
    "# write here\n",
    "\n"
   ]
  },
  {
   "cell_type": "markdown",
   "id": "31a8aab0",
   "metadata": {},
   "source": [
    "## Challenge - cyclone\n",
    "\n",
    "Given a list of words, outputs a list of tuples coupling a word position with the word itself\n",
    "\n",
    "* **USE**  list comprehension in one line of code\n",
    "* **DO NOT** use search methods (no `.index`, `.find`, ...)\n",
    "\n",
    "IN: `['rotating', 'storm', 'pressure', 'tropical', 'typhoon', 'strong winds', 'severe']`\n",
    "\n",
    "OUT: \n",
    "\n",
    "```python\n",
    "[(0, 'rotating'), (1, 'storm'),   (2, 'pressure'),     (3, 'tropical'), (4, 'pressure'), \n",
    " (5, 'typhoon'),  (6, 'typhoon'), (7, 'strong winds'), (8, 'severe'),   (9, 'typhoon')]\n",
    "```"
   ]
  },
  {
   "cell_type": "code",
   "execution_count": 4,
   "id": "1e95c1e3-stripped",
   "metadata": {},
   "outputs": [],
   "source": [
    "\n",
    "cyclone = ['rotating', 'storm', 'pressure', 'tropical', 'pressure','typhoon','typhoon', 'strong winds', 'severe', 'typhoon']\n",
    "\n",
    "# write here\n",
    "\n"
   ]
  },
  {
   "cell_type": "code",
   "execution_count": 5,
   "id": "affb6392-stripped",
   "metadata": {
    "nbsphinx": "hidden"
   },
   "outputs": [],
   "source": []
  }
 ],
 "metadata": {
  "kernelspec": {
   "display_name": "Python 3 (ipykernel)",
   "language": "python",
   "name": "python3"
  },
  "language_info": {
   "codemirror_mode": {
    "name": "ipython",
    "version": 3
   },
   "file_extension": ".py",
   "mimetype": "text/x-python",
   "name": "python",
   "nbconvert_exporter": "python",
   "pygments_lexer": "ipython3",
   "version": "3.7.10"
  },
  "toc": {
   "base_numbering": 1,
   "nav_menu": {},
   "number_sections": false,
   "sideBar": true,
   "skip_h1_title": false,
   "title_cell": "Table of Contents",
   "title_sidebar": "Contents",
   "toc_cell": false,
   "toc_position": {},
   "toc_section_display": true,
   "toc_window_display": true
  }
 },
 "nbformat": 4,
 "nbformat_minor": 5
}
