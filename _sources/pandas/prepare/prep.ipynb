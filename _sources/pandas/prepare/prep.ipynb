{
 "cells": [
  {
   "cell_type": "code",
   "execution_count": 99,
   "metadata": {},
   "outputs": [],
   "source": [
    "\n",
    "#DAV silly way to create n tles files so later we can read them with skyfield :-/\n",
    "with open('iss-tles.txt', encoding='utf-8', newline='') as fin:\n",
    "    i = 0\n",
    "    row1 = fin.readline()\n",
    "    while row1 != \"\":\n",
    "        row2 = fin.readline()\n",
    "        with open('tles/tle-%s.txt' % i, 'w', newline='') as fout:\n",
    "            fout.write(row1)\n",
    "            fout.write(row2)\n",
    "        i += 1\n",
    "        row1 = fin.readline()"
   ]
  },
  {
   "cell_type": "code",
   "execution_count": null,
   "metadata": {},
   "outputs": [],
   "source": [
    "# pandas\n",
    "#tls = pd.read_csv('iss-tles.txt', encoding='UTF-8',names=list(range(1,10)),sep='\\s+')"
   ]
  },
  {
   "cell_type": "code",
   "execution_count": 88,
   "metadata": {},
   "outputs": [],
   "source": [
    "#DAV:  satellite visible area:  https://stackoverflow.com/a/54990129\n",
    "\n",
    "import skyfield\n",
    "from skyfield import api\n",
    "from skyfield.positionlib import ICRF, Geocentric\n",
    "from skyfield.constants import (AU_M, ERAD, DEG2RAD,\n",
    "                                IERS_2010_INVERSE_EARTH_FLATTENING, tau)\n",
    "from skyfield.units import Angle\n",
    "\n",
    "from numpy import einsum, sqrt, arctan2, pi, cos, sin\n",
    "\n",
    "def reverse_terra(xyz_au, gast, iterations=3):\n",
    "    \"\"\"Convert a geocentric (x,y,z) at time `t` to latitude and longitude.\n",
    "    Returns a tuple of latitude, longitude, and elevation whose units\n",
    "    are radians and meters.  Based on Dr. T.S. Kelso's quite helpful\n",
    "    article \"Orbital Coordinate Systems, Part III\":\n",
    "    https://www.celestrak.com/columns/v02n03/\n",
    "    \"\"\"\n",
    "    x, y, z = xyz_au\n",
    "    R = sqrt(x*x + y*y)\n",
    "\n",
    "    lon = (arctan2(y, x) - 15 * DEG2RAD * gast - pi) % tau - pi\n",
    "    lat = arctan2(z, R)\n",
    "\n",
    "    a = ERAD / AU_M\n",
    "    f = 1.0 / IERS_2010_INVERSE_EARTH_FLATTENING\n",
    "    e2 = 2.0*f - f*f\n",
    "    i = 0\n",
    "    C = 1.0\n",
    "    while i < iterations:\n",
    "        i += 1\n",
    "        C = 1.0 / sqrt(1.0 - e2 * (sin(lat) ** 2.0))\n",
    "        lat = arctan2(z + a * C * e2 * sin(lat), R)\n",
    "    elevation_m = ((R / cos(lat)) - a * C) * AU_M\n",
    "    earth_R = (a*C)*AU_M\n",
    "    return lat, lon, elevation_m, earth_R\n",
    "\n",
    "def subpoint(self, iterations):\n",
    "    \"\"\"Return the latitude an longitude directly beneath this position.\n",
    "\n",
    "    Returns a :class:`~skyfield.toposlib.Topos` whose ``longitude``\n",
    "    and ``latitude`` are those of the point on the Earth's surface\n",
    "    directly beneath this position (according to the center of the\n",
    "    earth), and whose ``elevation`` is the height of this position\n",
    "    above the Earth's center.\n",
    "    \"\"\"\n",
    "    if self.center != 399:  # TODO: should an __init__() check this?\n",
    "        raise ValueError(\"you can only ask for the geographic subpoint\"\n",
    "                            \" of a position measured from Earth's center\")\n",
    "    t = self.t\n",
    "    xyz_au = einsum('ij...,j...->i...', t.M, self.position.au)\n",
    "    lat, lon, elevation_m, self.earth_R = reverse_terra(xyz_au, t.gast, iterations)\n",
    "\n",
    "    from skyfield.toposlib import Topos\n",
    "    return Topos(latitude=Angle(radians=lat),\n",
    "                    longitude=Angle(radians=lon),\n",
    "                    elevation_m=elevation_m)\n",
    "\n",
    "def earth_radius(self):\n",
    "    return self.earth_R\n",
    "\n",
    "def satellite_visiable_area(earth_radius, satellite_elevation):\n",
    "    \"\"\"Returns the visible area from a satellite in square meters.\n",
    "\n",
    "    Formula is in the form is 2piR^2h/R+h where:\n",
    "        R = earth radius\n",
    "        h = satellite elevation from center of earth\n",
    "    \"\"\"\n",
    "    return ((2 * pi * ( earth_radius ** 2 ) * \n",
    "            ( earth_radius + satellite_elevation)) /\n",
    "            (earth_radius + earth_radius + satellite_elevation))\n",
    "\n"
   ]
  },
  {
   "cell_type": "code",
   "execution_count": 93,
   "metadata": {},
   "outputs": [],
   "source": [
    "\n",
    "def load_tle(filepath):\n",
    "    #stations_url = 'http://celestrak.com/NORAD/elements/stations.txt'\n",
    "    #satellites = api.load.tle(stations_url)\n",
    "    satellites = api.load.tle(filepath)\n",
    "    satellite = list(satellites.values())[0]\n",
    "    #satellites = api.load.tle('staz.txt')\n",
    "    #print(satellites)\n",
    "    #print(satellites.keys())\n",
    "    #satellite = satellites['ISS (ZARYA)']\n",
    "    #satellite = satellites.values()\n",
    "    #print(satellite)\n",
    "\n",
    "    #DAV: with api.load.timescale()  has problems downloading stuff the net, see https://github.com/skyfielders/python-skyfield/issues/218\n",
    "    ts = api.load.timescale(builtin=True)\n",
    "    t = ts.now()\n",
    "\n",
    "    geocentric = satellite.at(t)\n",
    "    geocentric.subpoint = subpoint.__get__(geocentric, Geocentric)\n",
    "    geocentric.earth_radius = earth_radius.__get__(geocentric, Geocentric)\n",
    "\n",
    "    geodetic_sub = geocentric.subpoint(3)\n",
    "            \n",
    "    #print('Geodetic latitude:', geodetic_sub.latitude)\n",
    "    #print('Geodetic longitude:', geodetic_sub.longitude)\n",
    "    #print('Geodetic elevation (m)', int(geodetic_sub.elevation.m))\n",
    "    #print('Geodetic earth radius (m)', int(geocentric.earth_radius()))\n",
    "\n",
    "    geocentric_sub = geocentric.subpoint(0)\n",
    "    #print('Geocentric latitude:', geocentric_sub.latitude)\n",
    "    #print('Geocentric longitude:', geocentric_sub.longitude)\n",
    "    #print('Geocentric elevation (m)', int(geocentric_sub.elevation.m))\n",
    "    #print('Geocentric earth radius (m)', int(geocentric.earth_radius()))\n",
    "    #print('Visible area (m^2)', satellite_visiable_area(geocentric.earth_radius(), \n",
    "    #                                                    geocentric_sub.elevation.m))\n",
    "    #DAV geodetic should be the most correct one\n",
    "    def decdegs(angle):\n",
    "        import math\n",
    "        return angle.radians * 180/math.pi \n",
    "    \n",
    "    time_string = satellite.epoch.utc_datetime().strftime(\"%Y-%m-%d %H:%M:%S\")\n",
    "    return [time_string, decdegs(geodetic_sub.latitude), decdegs(geodetic_sub.longitude)]\n"
   ]
  },
  {
   "cell_type": "code",
   "execution_count": 94,
   "metadata": {},
   "outputs": [
    {
     "data": {
      "text/plain": [
       "['2016-01-01 05:11:30', -32.806635689473154, -78.61284245286787]"
      ]
     },
     "execution_count": 94,
     "metadata": {},
     "output_type": "execute_result"
    }
   ],
   "source": [
    "load_tle(\"tles/tle-%s.txt\" % 0)"
   ]
  },
  {
   "cell_type": "code",
   "execution_count": 101,
   "metadata": {},
   "outputs": [],
   "source": [
    "import csv\n",
    "with open('../iss-coords.csv', 'w', newline='') as csvfile_out:\n",
    "\n",
    "    writer = csv.writer(csvfile_out, delimiter=',')\n",
    "    writer.writerow([\"timestamp\",\"lat\",\"lon\"])\n",
    "    import glob\n",
    "    ntles = len(glob.glob(\"tles/*.txt\"))\n",
    "    \n",
    "    for i in range(ntles):\n",
    "        tle = load_tle(\"tles/tle-%s.txt\" % i)\n",
    "        writer.writerow(tle)"
   ]
  },
  {
   "cell_type": "code",
   "execution_count": 96,
   "metadata": {},
   "outputs": [
    {
     "data": {
      "text/plain": [
       "{25544: <EarthSatellite number=25544 epoch=2016-02-29T21:36:47Z>}"
      ]
     },
     "execution_count": 96,
     "metadata": {},
     "output_type": "execute_result"
    }
   ],
   "source": [
    "satellites"
   ]
  },
  {
   "cell_type": "code",
   "execution_count": null,
   "metadata": {},
   "outputs": [],
   "source": [
    "satellites"
   ]
  },
  {
   "cell_type": "code",
   "execution_count": 8,
   "metadata": {},
   "outputs": [
    {
     "data": {
      "text/plain": [
       "<bound method VectorFunction.satellite of <EarthSatellite number=25544 epoch=2016-02-29T21:36:47Z>>"
      ]
     },
     "execution_count": 8,
     "metadata": {},
     "output_type": "execute_result"
    }
   ],
   "source": [
    "satellites[25544].satellite"
   ]
  },
  {
   "cell_type": "code",
   "execution_count": 11,
   "metadata": {},
   "outputs": [],
   "source": []
  },
  {
   "cell_type": "code",
   "execution_count": null,
   "metadata": {},
   "outputs": [],
   "source": []
  }
 ],
 "metadata": {
  "kernelspec": {
   "display_name": "Python 3",
   "language": "python",
   "name": "python3"
  },
  "language_info": {
   "codemirror_mode": {
    "name": "ipython",
    "version": 3
   },
   "file_extension": ".py",
   "mimetype": "text/x-python",
   "name": "python",
   "nbconvert_exporter": "python",
   "pygments_lexer": "ipython3",
   "version": "3.7.3"
  },
  "toc": {
   "base_numbering": 1,
   "nav_menu": {},
   "number_sections": false,
   "sideBar": true,
   "skip_h1_title": false,
   "title_cell": "Table of Contents",
   "title_sidebar": "Contents",
   "toc_cell": false,
   "toc_position": {},
   "toc_section_display": true,
   "toc_window_display": false
  }
 },
 "nbformat": 4,
 "nbformat_minor": 2
}
