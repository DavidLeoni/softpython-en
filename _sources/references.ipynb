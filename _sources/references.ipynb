{
 "cells": [
  {
   "cell_type": "markdown",
   "metadata": {},
   "source": [
    "# References"
   ]
  },
  {
   "cell_type": "markdown",
   "metadata": {},
   "source": [
    "\n",
    "\n",
    "\n",
    "## Allen Downey - Think Python\n",
    "\n",
    "Talks a lot, step by step, good for beginners\n",
    "\n",
    "* [online](http://www.greenteapress.com/thinkpython/html/)\n",
    "* [printed](https://www.amazon.it/Think-Python-Like-Computer-Scientist/dp/1491939362/ref=sr_1_1?ie=UTF8&qid=1537163819&sr=8-1&keywords=think+python)\n",
    "* [PDF](http://greenteapress.com/thinkpython2/thinkpython2.pdf)\n",
    "* [Interactive edition](https://runestone.academy/runestone/static/thinkcspy/index.html)\n",
    "\n",
    "License: [Creative Commons CC BY Non Commercial 3.0](http://creativecommons.org/licenses/by-nc/3.0/deed.it)as reported in the [original page](http://greenteapress.com/wp/think-python-2e/)"
   ]
  },
  {
   "cell_type": "markdown",
   "metadata": {},
   "source": [
    "## W3Resources website\n",
    "\n",
    "Contains many simple exercises on Python basics, do them!\n",
    "\n",
    "- [Basic1](https://www.w3resource.com/python-exercises/), [Basic2](https://www.w3resource.com/python-exercises/basic/), [String](https://www.w3resource.com/python-exercises/string/), [List](https://www.w3resource.com/python-exercises/list/), [Dictionary](https://www.w3resource.com/python-exercises/dictionary/), [Tuple](https://www.w3resource.com/python-exercises/tuple/), [Sets](https://www.w3resource.com/python-exercises/sets/), [Condition Statements and Loops](https://www.w3resource.com/python-exercises/python-conditional-statements-and-loop-exercises.php), [Functions](https://www.w3resource.com/python-exercises/python-functions-exercises.php),[Lambda](https://www.w3resource.com/python-exercises/lambda/index.php), [CSV Read Write](https://www.w3resource.com/python-exercises/csv/index.php)"
   ]
  },
  {
   "cell_type": "markdown",
   "metadata": {},
   "source": [
    "## Software Carpentry \n",
    "\n",
    "[Software Carpentry](https://software-carpentry.org/lessons/) is a website full of free educational resources, there is definitely a lot of good stuff to discover.\n",
    "\n",
    "We highlight these tutorials:\n",
    "\n",
    "* [Programming with Python](https://swcarpentry.github.io/python-novice-inflammation/): Nice tutorial with many exercises about processing a csv with topics: python basics, numpy, csv\n",
    "* [Plotting and programming with Python](https://swcarpentry.github.io/python-novice-gapminder/) More advanced, uses pandas\n",
    "\n",
    "You may find other stuff in Community Developed Lessons for [Jupyter](https://carpentries.org/community-lessons/#jupyter-notebook) and [Python](https://carpentries.org/community-lessons/#python)"
   ]
  },
  {
   "cell_type": "markdown",
   "metadata": {},
   "source": [
    "## LeetCode\n",
    "\n",
    "Website with collections of exercises sorted by difficulty and acceptance rate. You can generally try sorting by _Acceptance_ and _Easy_ filters.\n",
    "\n",
    "* [leetcode.com](https://leetcode.com)\n",
    "\n",
    "We put here a selection of exercises:\n",
    "\n",
    "**Strings:** [Check string problems](https://leetcode.com/tag/string/) sorted by _Acceptance_ and _Easy_. In particular:\n",
    "\n",
    "* [Detect Capital](https://leetcode.com/problems/detect-capital/description/)\n",
    "* [Unique email addresses](https://leetcode.com/problems/unique-email-addresses/description/)\n",
    "* [Robot return to origin](https://leetcode.com/problems/robot-return-to-origin/description/)\n",
    "* [Reverse Words in a String III](https://leetcode.com/problems/reverse-words-in-a-string-iii/description/)\n",
    "* [Unique Morse codes](https://leetcode.com/problems/unique-morse-code-words/description/)\n",
    "* [Goat Latin](https://leetcode.com/problems/goat-latin/description/)\n",
    "* [Count Binary Substrings](https://leetcode.com/problems/count-binary-substrings/description/)\n",
    "\n",
    "**Lists:** [Check array problems](https://leetcode.com/tag/array/) sorted by _Acceptance_ and _Easy_. In particular:\n",
    "\n",
    "* [Contains Duplicate](https://leetcode.com/problems/contains-duplicate/description/)\n",
    "* [Sort array by parity](https://leetcode.com/problems/sort-array-by-parity/description/)\n",
    "* [Max consecutive ones](https://leetcode.com/problems/max-consecutive-ones/description/)\n",
    "* [Fair Candy Swap](https://leetcode.com/problems/fair-candy-swap/description/)\n",
    "* [Move Zeros](https://leetcode.com/problems/move-zeroes/description/)\n",
    "* [Rotated Digits](https://leetcode.com/problems/rotated-digits/description/)\n",
    "* [Missing number](https://leetcode.com/problems/missing-number/description/) - has many possible solutions\n",
    "* [Find all numbers disappeared in an array](https://leetcode.com/problems/find-all-numbers-disappeared-in-an-array/description/)\n",
    "* [Majority Element](https://leetcode.com/problems/majority-element/description/)\n",
    "* [Degree of an array](https://leetcode.com/problems/degree-of-an-array/description/)\n",
    "* [Array partition 1](https://leetcode.com/problems/array-partition-i/description/) actually a bit hard but makes you think"
   ]
  },
  {
   "cell_type": "markdown",
   "metadata": {},
   "source": [
    "## HackerRank\n",
    "\n",
    "Contains many Python 3 exercises on algorithms and data structures (Needs to login)\n",
    "\n",
    "* [hackerrank.com](https://www.hackerrank.com)"
   ]
  },
  {
   "cell_type": "markdown",
   "metadata": {},
   "source": [
    "## Geeks for Geeks\n",
    "\n",
    "Contains many exercises - doesn't have solutions nor explicit asserts but if you login and submit solutions, the system will run some tests serverside and give you a response.\n",
    "\n",
    "\n",
    "In general for Part A you can filter difficulty by school+basic+easy and if you need to do part B also include medium.\n",
    "\n",
    "\n",
    "* [Example: Filter difficulty by school+basic+easy and topic String](https://practice.geeksforgeeks.org/explore/?category%5B%5D=Strings&difficulty%5B%5D=-2&difficulty%5B%5D=-1&difficulty%5B%5D=0&page=1)\n",
    "\n",
    "You can select many more topics if you click  `more>>` un der Topic Tags:\n",
    "\n",
    "![immagine.png](_static/img/references/geeks-for-geeks-more-topics.jpeg)\n"
   ]
  },
  {
   "cell_type": "markdown",
   "metadata": {},
   "source": [
    "## Dive into Python 3\n",
    "\n",
    "More practical, contains more focused tutorials (i.e. manage XML files) \n",
    "\n",
    "* [online version](http://www.diveintopython3.net/)\n",
    "* [printed](http://www.amazon.com/gp/product/1430224150?ie=UTF8&tag=diveintomark-20&creativeASIN=1430224150)\n",
    "* [zip offline](https://github.com/diveintomark/diveintopython3/zipball/master)\n",
    "* [PDF](https://github.com/downloads/diveintomark/diveintopython3/dive-into-python3.pdf)\n",
    "\n",
    "\n",
    "Licence: [Creative Commons By Share-alike 3.0](http://creativecommons.org/licenses/by-sa/3.0/) as reported at the bottom [of book website](http://www.diveintopython3.net/)\n",
    "\n"
   ]
  },
  {
   "cell_type": "markdown",
   "metadata": {},
   "source": [
    "## Introduction to Scientific Programming with Python \n",
    "\n",
    "Focuses on numerical calculations, you can check first 7 chapters until dictionaries.\n",
    "\n",
    "\n",
    "By Joakim Sundnes.\n",
    "\n",
    "- [PDF](https://link.springer.com/content/pdf/10.1007%2F978-3-030-50356-7.pdf) for Python (only theory)\n",
    "- [Exercises](https://www.uio.no/studier/emner/matnat/ifi/INF1100/h16/ressurser/INF1100_exercises_5th_ed.pdf) – a LOT of stuff, although some exercises are too much into engineering / maths compared to this book\n",
    "- EXTRA: if you like, it also contains chapters on classes which are certainly useful."
   ]
  },
  {
   "cell_type": "code",
   "execution_count": null,
   "metadata": {},
   "outputs": [],
   "source": []
  }
 ],
 "metadata": {
  "kernelspec": {
   "display_name": "Python 3",
   "language": "python",
   "name": "python3"
  },
  "language_info": {
   "codemirror_mode": {
    "name": "ipython",
    "version": 3
   },
   "file_extension": ".py",
   "mimetype": "text/x-python",
   "name": "python",
   "nbconvert_exporter": "python",
   "pygments_lexer": "ipython3",
   "version": "3.5.2"
  },
  "toc": {
   "base_numbering": 1,
   "nav_menu": {},
   "number_sections": false,
   "sideBar": true,
   "skip_h1_title": false,
   "title_cell": "Table of Contents",
   "title_sidebar": "Contents",
   "toc_cell": false,
   "toc_position": {},
   "toc_section_display": true,
   "toc_window_display": false
  }
 },
 "nbformat": 4,
 "nbformat_minor": 4
}
