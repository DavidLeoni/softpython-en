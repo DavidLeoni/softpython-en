{
 "cells": [
  {
   "cell_type": "markdown",
   "metadata": {},
   "source": [
    "# Data formats 2 - CSV files\n",
    "\n",
    "## [Download exercises zip](../_static/generated/formats.zip)\n",
    "\n",
    "[Browse files online](https://github.com/DavidLeoni/softpython-en/tree/master/formats)"
   ]
  },
  {
   "cell_type": "markdown",
   "metadata": {
    "colab_type": "text",
    "id": "47Jg7yaZ5bSy"
   },
   "source": [
    "There can be various formats for tabular data, among which you surely know Excel  (`.xls` or `.xslx`). Unfortunately, if you want to programmatically process data, you should better avoid them and prefer if possible the CSV format, literally 'Comma Separated Value'. Why? Excel format is very complex and may hide several things which have nothing to do with the raw data:\n",
    "\n",
    "- formatting (bold fonts, colors ...)\n",
    "- merged cells\n",
    "- formulas\n",
    "- multiple tabs\n",
    "- macros\n",
    "\n",
    "Correctly parsing complex files may become a nightmare. Instead, CSVs are far simpler, so much so you can even open them witha simple text editor.\n",
    "\n",
    "We will try to open some CSV, taking into consideration the possible problems we might get. CSVs are not necessarily the perfect solution for everything, but they offer more control over reading and typically if there are conversion problems is because we made a mistake, and not because the reader module decided on its own to exchange days with months in dates.\n",
    "\n",
    "### Why parsing a CSV ?\n",
    "\n",
    "To load and process CSVs there exist many powerful and intuitive modules such as Pandas in Python or R dataframes. Yet, in this notebook we will load CSVs using the most simple method possible, that is reading row by row, mimicking the method already seen in the previous part of the tutorial. Don't think this method is primitive or stupid, according to the situation it may save the day. How? Some files may potentially occupy huge amounts of memory, and in moder laptops as of 2019 we only have 4 gigabytes of RAM, the memory where Python stores variables. Given this, Python base functions to read files try their best to avoid loading everything in RAM. Tyipcally a file is read sequentially one piece at a time, putting in RAM only one row at a time."
   ]
  },
  {
   "cell_type": "markdown",
   "metadata": {},
   "source": [
    "**QUESTION 2.1**: if we want to know if a given file of 1000 terabytes contains only 3 million rows in which the word 'ciao' is present, are we obliged to put in RAM _all_ of the rows ?"
   ]
  },
  {
   "cell_type": "markdown",
   "metadata": {},
   "source": [
    "**ANSWER**: no, it is sufficient to keep in memory one row at a time, and hold the count in another variable"
   ]
  },
  {
   "cell_type": "markdown",
   "metadata": {},
   "source": [
    "**QUESTION 2.2**: What if we wanted to take a 100 terabyte file and create another one by appending to each row of the first one the word 'ciao'? Should we put in RAM at the same time all the rows of the first file ? What about the rows of second one?"
   ]
  },
  {
   "cell_type": "markdown",
   "metadata": {},
   "source": [
    "**ANSWER**:  No, it is enough to keep in RAM one row at a time, which is first read from the first file and then written right away in the second file. "
   ]
  },
  {
   "cell_type": "markdown",
   "metadata": {},
   "source": [
    "### Reading a CSV\n",
    "\n",
    "We will start with artifical example CSV. Let's look at [example-1.csv](example-1.csv) which you can find in the same folder as this Jupyter notebook. It contains animals with their expected lifespan:\n",
    "\n",
    "```\n",
    "animal, lifespan\n",
    "dog, 12\n",
    "cat, 14\n",
    "pelican, 30\n",
    "squirrel, 6\n",
    "eagle, 25\n",
    "```"
   ]
  },
  {
   "cell_type": "markdown",
   "metadata": {},
   "source": [
    "We notice right away that the CSV is more structured than files we've seen in the previous section\n",
    "\n",
    "* in the first line there are column names, separated with commas: `animal, lifespan`\n",
    "* fields in successive rows are also separated by commas `,`: `dog, 12`\n",
    "\n",
    "Let's try now to import this file in Python:\n"
   ]
  },
  {
   "cell_type": "code",
   "execution_count": 1,
   "metadata": {},
   "outputs": [
    {
     "name": "stdout",
     "output_type": "stream",
     "text": [
      "We just read a row !\n",
      "['animal', ' lifespan']\n",
      "\n",
      "We just read a row !\n",
      "['dog', '12']\n",
      "\n",
      "We just read a row !\n",
      "['cat', '14']\n",
      "\n",
      "We just read a row !\n",
      "['pelican', '30']\n",
      "\n",
      "We just read a row !\n",
      "['squirrel', '6']\n",
      "\n",
      "We just read a row !\n",
      "['eagle', '25']\n",
      "\n"
     ]
    }
   ],
   "source": [
    "import csv\n",
    "with open('example-1.csv', encoding='utf-8', newline='') as f:\n",
    "    \n",
    "    # we create an object 'my_reader' which will take rows from the file\n",
    "    my_reader = csv.reader(f, delimiter=',') \n",
    "    \n",
    "    # 'my_reader' is an object considered 'iterable', that is, \n",
    "    # if used in a 'for' will produce a sequnce of rows from csv\n",
    "    # NOTE: here every file row is converted into a list of Python strings !\n",
    "    \n",
    "    for row in my_reader:\n",
    "        print('We just read a row !')        \n",
    "        print(row)  # prints variable 'row', which is a list of strings\n",
    "        print('')   # prints an empty string, to separate in vertical"
   ]
  },
  {
   "cell_type": "markdown",
   "metadata": {},
   "source": [
    "We immediatly notice from output that example file is being printed, but there are square parrenthesis ( `[]` ). What do they mean? Those we printed are _lists of strings_\n",
    "\n",
    "Let's analyze what we did:\n",
    "\n",
    "```python\n",
    "import csv\n",
    "```\n",
    "Python natively has a module to deal with csv files, which has the intuitive `csv` name. With this instruction, we just loaded the module.\n",
    "\n",
    "What happens next? As already did for files with lines before, we open the file in a `with` block:\n",
    "\n",
    "```python\n",
    "with open('example-1.csv', encoding='utf-8', newline='') as f:\n",
    "    my_reader = csv.reader(f, delimiter=',')\n",
    "    for row in my_reader:\n",
    "        print(row)\n",
    "```\n",
    "For now ignore the `newline=''` and notice how first we specificed the encoding\n",
    "\n",
    "Once the file is open, in the row \n",
    "\n",
    "```python\n",
    "    my_reader = csv.reader(f, delimiter=',')\n",
    "```\n",
    "\n",
    "we ask to `csv` module to create a reader object  called `my_reader` for our file, telling Python that comma is the delimiter for fields.\n",
    "\n",
    "**NOTE:** `my_reader` is the name of the variable we are creating, it could be any name.\n",
    "\n",
    "This reader object can be exploited as a sort of generator of rows by using a `for` cycle:\n",
    "\n",
    "```\n",
    "    for row in my_reader:\n",
    "        print(row)\n",
    "```\n",
    "\n",
    "In `for` cycle we employ `lettore` to iterate in the reading of the file, producing at each iteration a row we call `row` (but it could be any name we like). At each iteration, the variable `row` gets printed.\n",
    "\n",
    "If you look closely the prints of first lists, you will see that each time to each row is assigned only one Python list. The list contains as many elements as the number of fields in the CSV."
   ]
  },
  {
   "cell_type": "markdown",
   "metadata": {},
   "source": [
    "**✪ EXERCISE 2.3**: Rewrite in the cell below the instructions to read and print the CSV, paying attention to indentation:"
   ]
  },
  {
   "cell_type": "code",
   "execution_count": 2,
   "metadata": {},
   "outputs": [
    {
     "name": "stdout",
     "output_type": "stream",
     "text": [
      "We just read a row !\n",
      "['animal', ' lifespan']\n",
      "\n",
      "We just read a row !\n",
      "['dog', '12']\n",
      "\n",
      "We just read a row !\n",
      "['cat', '14']\n",
      "\n",
      "We just read a row !\n",
      "['pelican', '30']\n",
      "\n",
      "We just read a row !\n",
      "['squirrel', '6']\n",
      "\n",
      "We just read a row !\n",
      "['eagle', '25']\n",
      "\n"
     ]
    }
   ],
   "source": [
    "#jupman-ourge-output\n",
    "# write here\n",
    "\n",
    "import csv\n",
    "with open('example-1.csv', encoding='utf-8', newline='') as f:\n",
    "    \n",
    "    # we create an object 'my_reader' which will take rows from the file\n",
    "    my_reader = csv.reader(f, delimiter=',') \n",
    "    \n",
    "    # 'my_reader' is an object considered 'iterable', that is, \n",
    "    # if used in a 'for' will produce a sequnce of rows from csv\n",
    "    # NOTE: here every file row is converted into a list of Python strings !\n",
    "    \n",
    "    for row in my_reader:\n",
    "        print(\"We just read a row !\")        \n",
    "        print(row)  # prints variable 'row', which is a list of strings\n",
    "        print('')   # prints an empty string, to separate in vertical\n"
   ]
  },
  {
   "cell_type": "markdown",
   "metadata": {},
   "source": [
    "**✪✪ EXERCISE 2.4**: try to put into `big_list` a list containing all the rows extracted from the file, which will be a list of lists like so:\n",
    "\n",
    "```python\n",
    "[['eagle', 'lifespan'],\n",
    " ['dog', '12'],\n",
    " ['cat', '14'],\n",
    " ['pelican', '30'],\n",
    " ['squirrel', '6'],\n",
    " ['eagle', '25']]\n",
    "```\n",
    "\n",
    "**HINT**: Try creating an empty list and then adding elements with `.append` method"
   ]
  },
  {
   "cell_type": "code",
   "execution_count": 3,
   "metadata": {},
   "outputs": [
    {
     "name": "stdout",
     "output_type": "stream",
     "text": [
      "[['animal', ' lifespan'], ['dog', '12'], ['cat', '14'], ['pelican', '30'], ['squirrel', '6'], ['eagle', '25']]\n"
     ]
    }
   ],
   "source": [
    "#jupman-ourge-output\n",
    "# write here\n",
    "\n",
    "import csv\n",
    "with open('example-1.csv', encoding='utf-8', newline='') as f:\n",
    "    \n",
    "    # we create an object 'my_reader' which will take rows from the file\n",
    "    my_reader = csv.reader(f, delimiter=',') \n",
    "    \n",
    "    # 'my_reader' is an object considered 'iterable', that is, \n",
    "    # if used in a 'for' will produce a sequnce of rows from csv\n",
    "    # NOTE: here every file row is converted into a list of Python strings !\n",
    "    \n",
    "    big_list = []\n",
    "    for row in my_reader:\n",
    "        big_list.append(row)\n",
    "    print(big_list)\n"
   ]
  },
  {
   "cell_type": "markdown",
   "metadata": {},
   "source": [
    "**✪✪ EXERCISE 2.5**: You may have noticed that numbers in lists are represented as strings like `'12'` (note apeces), instead that like Python integer numbers (represented without apeces), `12`:\n",
    "\n",
    "\n",
    "```\n",
    "We just read a row!\n",
    "['dog', '12']\n",
    "```\n",
    "\n",
    "So, by reading the file and using normal for cycles, try to create a new variable `big_list` like this, which\n",
    "\n",
    "\n",
    "- has only data, the row with the header is not present\n",
    "- numbers are represented as proper integers\n",
    "\n",
    "```\n",
    "[['dog', 12], \n",
    " ['cat', 14], \n",
    " ['pelican', 30], \n",
    " ['squirrel', 6], \n",
    " ['eagle', 25]]\n",
    "```\n",
    "\n",
    "**HINT 1**: to jump a row you can use the instruction `next(my_reader)`\n",
    "\n",
    "**HINT 2**: to convert a string into an integer, you can use for example. `int('25')`\n"
   ]
  },
  {
   "cell_type": "code",
   "execution_count": 4,
   "metadata": {},
   "outputs": [
    {
     "name": "stdout",
     "output_type": "stream",
     "text": [
      "[['dog', 12], ['cat', 14], ['pelican', 30], ['squirrel', 6], ['eagle', 25]]\n"
     ]
    }
   ],
   "source": [
    "#jupman-ourge-output\n",
    "# write here\n",
    "\n",
    "import csv\n",
    "with open('example-1.csv', encoding='utf-8', newline='') as f:    \n",
    "    my_reader = csv.reader(f, delimiter=',')     \n",
    "    big_list = []\n",
    "    next(my_reader)\n",
    "    for row in my_reader:\n",
    "        big_list.append([row[0], int(row[1])])\n",
    "    print(big_list)"
   ]
  },
  {
   "cell_type": "markdown",
   "metadata": {},
   "source": [
    "### What's a reader ?\n",
    "\n",
    "We said that `my_reader` generates a sequence of rows, and it is _iterable_. In `for` cycle, at every cycle we ask to read a new line, which is put into variable `row`. We might then ask ourselves, what happens if we directly  print `my_reader`, without any `for`? Will we see a nice list or something else? Let's try:\n"
   ]
  },
  {
   "cell_type": "code",
   "execution_count": 5,
   "metadata": {},
   "outputs": [
    {
     "name": "stdout",
     "output_type": "stream",
     "text": [
      "<_csv.reader object at 0x7f3a542a0cd0>\n"
     ]
    }
   ],
   "source": [
    "import csv\n",
    "with open('example-1.csv', encoding='utf-8', newline='') as f:    \n",
    "    my_reader = csv.reader(f, delimiter=',')     \n",
    "    print(my_reader)"
   ]
  },
  {
   "cell_type": "markdown",
   "metadata": {},
   "source": [
    "This result is quite disappointing\n",
    "\n",
    "**✪ EXERCISE 2.6**: you probably found yourself in the same situation when trying to print a sequence generated by a call to `range(5)`: instead of the actual sequence you get a `range` object. If you want to convert the generator to a list, what should you do? "
   ]
  },
  {
   "cell_type": "code",
   "execution_count": 6,
   "metadata": {},
   "outputs": [
    {
     "name": "stdout",
     "output_type": "stream",
     "text": [
      "[['animal', ' lifespan'], ['dog', '12'], ['cat', '14'], ['pelican', '30'], ['squirrel', '6'], ['eagle', '25']]\n"
     ]
    }
   ],
   "source": [
    "# write here\n",
    "\n",
    "import csv\n",
    "with open('example-1.csv', encoding='utf-8', newline='') as f:    \n",
    "    my_reader = csv.reader(f, delimiter=',')     \n",
    "    print(list(my_reader))"
   ]
  },
  {
   "cell_type": "markdown",
   "metadata": {},
   "source": [
    "### Consuming a file\n",
    "\n",
    "Not all sequences are the same. From what you've seen so far, going through a file in Python looks a lot like iterating a list. Which is very handy, but you need to pay attention to some things. Given that files potentially might occupy terabytes, basic Python functions to load them avoid loading everything into memory and typically a file is read one piece at a time. But if the whole file is loaded into Python environment in one shot, what happens if we try to go through it twice inside the same `with` ? What happens if we try using it outside `with`? To find out look at next exercises."
   ]
  },
  {
   "cell_type": "markdown",
   "metadata": {},
   "source": [
    "**✪ EXERCISE 2.7**: taking the solution to previous exercise, try to call `print(list(my_reader))` twice, in sequence. Do you get the same output in both occasions?"
   ]
  },
  {
   "cell_type": "code",
   "execution_count": 7,
   "metadata": {},
   "outputs": [
    {
     "name": "stdout",
     "output_type": "stream",
     "text": [
      "[['animal', ' lifespan'], ['dog', '12'], ['cat', '14'], ['pelican', '30'], ['squirrel', '6'], ['eagle', '25']]\n",
      "[]\n"
     ]
    }
   ],
   "source": [
    "#jupman-purge-output\n",
    "# write here\n",
    "\n",
    "import csv\n",
    "with open('example-1.csv', encoding='utf-8', newline='') as f:    \n",
    "    my_reader = csv.reader(f, delimiter=',')     \n",
    "    print(list(my_reader))\n",
    "    print(list(my_reader))\n"
   ]
  },
  {
   "cell_type": "markdown",
   "metadata": {},
   "source": [
    "**✪ EXERCISE 2.8**: Taking the solution from previous exercise (using only one print), try down here to move the print to the left (removing any spaces). Does it still work ?"
   ]
  },
  {
   "cell_type": "code",
   "execution_count": 8,
   "metadata": {},
   "outputs": [],
   "source": [
    "# write here\n",
    "\n",
    "import csv\n",
    "with open('example-1.csv', encoding='utf-8', newline='') as f:    \n",
    "    my_reader = csv.reader(f, delimiter=',')         \n",
    "#print(list(my_reader))    # COMMENTED, AS IT WOULD RAISE ON ERROR OF CLOSED FILE\n",
    "                           # We can't use commands which read the file outside the with ! "
   ]
  },
  {
   "cell_type": "markdown",
   "metadata": {},
   "source": [
    "**✪✪ EXERCISE 2.9**: Now that we understood which kind of beast `my_reader` is, try to produce this result as done before, but using a _list comprehension_ instead of the `for`:\n",
    "\n",
    "```python\n",
    "[['dog', 12], \n",
    " ['cat', 14], \n",
    " ['pelican', 30], \n",
    " ['squirrel', 6], \n",
    " ['eagle', 25]]\n",
    "```\n",
    "\n",
    "* If you can, try also to write the whole transformation to create `big_list` in one row, usinf the function [itertools.islice](https://docs.python.org/3/library/itertools.html#itertools.islice) to jump the header (for example `itertools.islice(['A', 'B', 'C', 'D', 'E'], 2, None)` first two elements and produces the sequence C D E F G - in our case the elements produced by `my_reader` would be rows)"
   ]
  },
  {
   "cell_type": "code",
   "execution_count": 9,
   "metadata": {},
   "outputs": [
    {
     "name": "stdout",
     "output_type": "stream",
     "text": [
      "[['dog', 12], ['cat', 14], ['pelican', 30], ['squirrel', 6], ['eagle', 25]]\n"
     ]
    }
   ],
   "source": [
    "#jupman-ourge-output\n",
    "import csv\n",
    "import itertools\n",
    "with open('example-1.csv', encoding='utf-8', newline='') as f:    \n",
    "    my_reader = csv.reader(f, delimiter=',')     \n",
    "    # write here\n",
    "    big_list = [[row[0], int(row[1])] for row in itertools.islice(my_reader, 1, None)]\n",
    "    print(big_list)    "
   ]
  },
  {
   "cell_type": "markdown",
   "metadata": {},
   "source": [
    "**✪ EXERCISE 2.10**: Create a file `my-example.csv` in the same folder where this Jupyter notebook is, and copy inside the content of the file `example-1.csv`. Then add a column `description`, remembering to separate the column name from the preceding one with a comma. As column values, put into successive rows strings like `dogs walk`, `pelicans fly`, etc according to the animal, remembering to separate them from lifespan using a comma, like this:\n",
    "\n",
    "`dog,12,dogs walk`\n",
    "\n",
    "After this, copy and paste down here the Python code to load the file, putting the file name `my-example.csv`, and try to load everything, just to check everything is working:"
   ]
  },
  {
   "cell_type": "code",
   "execution_count": 10,
   "metadata": {},
   "outputs": [],
   "source": [
    "# write here\n",
    "\n"
   ]
  },
  {
   "cell_type": "markdown",
   "metadata": {},
   "source": [
    "**ANSWER**:\n",
    "\n",
    "```\n",
    "animal,lifespan,description\n",
    "dog,12,dogs walk\n",
    "cat,14,cats walk\n",
    "pelican,30,pelicans fly\n",
    "squirrel,6,squirrels fly\n",
    "eagle,25,eagles fly\n",
    "```"
   ]
  },
  {
   "cell_type": "markdown",
   "metadata": {},
   "source": [
    "**✪ EXERCISE 2.11**: Not every CSV is structured in the same way, sometimes when we write csvs or import them some tweak is necessary. Let's see which problems may arise:\n",
    "\n",
    "- In the file, try to put one or two spaces before numbers, for example write down here and look what happens\n",
    "\n",
    "```\n",
    "dog, 12,dogs fly\n",
    "```\n",
    "\n",
    "**QUESTION 2.11.1**: Does the space get imported?"
   ]
  },
  {
   "cell_type": "markdown",
   "metadata": {},
   "source": [
    "**ANSWER**: yes"
   ]
  },
  {
   "cell_type": "markdown",
   "metadata": {},
   "source": [
    "**QUESTION 2.11.2**: if we convert to integer, is the space a problem?"
   ]
  },
  {
   "cell_type": "markdown",
   "metadata": {},
   "source": [
    "**ANSWER**: no"
   ]
  },
  {
   "cell_type": "markdown",
   "metadata": {},
   "source": [
    "\n",
    "**QUESTION 2.11.3** Modify only dogs description from `dogs walk` to `dogs walk, but don't fly` and try to riexecute the cell which opens the file. What happens?"
   ]
  },
  {
   "cell_type": "markdown",
   "metadata": {},
   "source": [
    "**ANSWER**: Python reads one element more in the list"
   ]
  },
  {
   "cell_type": "markdown",
   "metadata": {},
   "source": [
    "**QUESTION 2.11.4**: To overcome previous problem, a solution you can adopt in CSVs is to round strings containing commas with double quotes, like this: `\"dogs walk, but don't fly\"`. Does it work ?"
   ]
  },
  {
   "cell_type": "markdown",
   "metadata": {},
   "source": [
    "**ANSWER**: yes"
   ]
  },
  {
   "cell_type": "markdown",
   "metadata": {},
   "source": [
    "### Reading as dictionaries\n",
    "\n",
    "To read a CSV, instead of getting lists, you may more conveniently get dictionaries in the form of `OrderedDict`s\n",
    "\n",
    "See [Python documentation](https://docs.python.org/3/library/csv.html#csv.DictReader)\n",
    "\n",
    "**NOTE**: different Python versions give different dictionaries:\n",
    "\n",
    "* $<$ 3.6: `dict`\n",
    "* 3.6, 3.7: `OrderedDict`\n",
    "* $\\geq$ 3.8: `dict`\n",
    "\n",
    "Python 3.8 returned to old  `dict` because in the implementation of its dictionariesthe key order is guaranteed, so it will be consistent with the one of CSV headers"
   ]
  },
  {
   "cell_type": "code",
   "execution_count": 11,
   "metadata": {
    "scrolled": true
   },
   "outputs": [
    {
     "name": "stdout",
     "output_type": "stream",
     "text": [
      "OrderedDict([('animal', 'dog'), (' lifespan', '12')])\n",
      "OrderedDict([('animal', 'cat'), (' lifespan', '14')])\n",
      "OrderedDict([('animal', 'pelican'), (' lifespan', '30')])\n",
      "OrderedDict([('animal', 'squirrel'), (' lifespan', '6')])\n",
      "OrderedDict([('animal', 'eagle'), (' lifespan', '25')])\n"
     ]
    }
   ],
   "source": [
    "import csv\n",
    "with open('example-1.csv', encoding='utf-8', newline='') as f:    \n",
    "    my_reader = csv.DictReader(f, delimiter=',')   # Notice we now used DictReader\n",
    "    for d in my_reader:\n",
    "        print(d)"
   ]
  },
  {
   "cell_type": "markdown",
   "metadata": {},
   "source": [
    "## Writing a CSV"
   ]
  },
  {
   "cell_type": "markdown",
   "metadata": {},
   "source": [
    "You can easily create a CSV by instantiating a `writer` object: \n",
    "\n",
    "<div class=\"alert alert-warning\">\n",
    "\n",
    "**ATTENTION: BE SURE TO WRITE IN THE CORRECT FILE!**\n",
    "\n",
    "If you don't pay attention to file names, **you risk deleting data !**\n",
    "\n",
    "</div>"
   ]
  },
  {
   "cell_type": "code",
   "execution_count": 12,
   "metadata": {},
   "outputs": [],
   "source": [
    "import csv\n",
    "\n",
    "# To write, REMEMBER to specify the `w` option.\n",
    "# WARNING: 'w' *completely* replaces existing files !!\n",
    "with open('written-file.csv', 'w', newline='') as csvfile_out: \n",
    "    \n",
    "    my_writer = csv.writer(csvfile_out, delimiter=',')    \n",
    "    \n",
    "    my_writer.writerow(['This', 'is', 'a header'])\n",
    "    my_writer.writerow(['some', 'example', 'data'])\n",
    "    my_writer.writerow(['some', 'other', 'example data'])\n",
    "    "
   ]
  },
  {
   "cell_type": "markdown",
   "metadata": {},
   "source": [
    "## Reading and writing a CSV\n",
    "\n",
    "To create a copy of an existing CSV, you may nest a `with` for writing inside another for reading:\n",
    "\n",
    "<div class=\"alert alert-warning\">\n",
    "\n",
    "**ATTENTION: CAREFUL NOT TO SWAP FILE NAMES!**\n",
    "\n",
    "When we read and write it's easy to make mistakes and accidentally overwrite our precious data.\n",
    "</div>\n",
    "\n",
    "**To avoid issues:**\n",
    "\n",
    "* use explicit names both for output files (es: `example-1-enriched.csv` and handles (i.e. `csvfile_out`)\n",
    "* backup data to read\n",
    "* always check before carelessly executing code you just wrote !"
   ]
  },
  {
   "cell_type": "code",
   "execution_count": 13,
   "metadata": {},
   "outputs": [],
   "source": [
    "import csv\n",
    "    \n",
    "# To write, REMEMBER to specify the `w` option.\n",
    "# WARNING: 'w' *completely* replaces existing files !!\n",
    "# WARNING: handle here  is called *csvfile_out*\n",
    "with open('example-1-enriched.csv', 'w', encoding='utf-8', newline='') as csvfile_out: \n",
    "    my_writer = csv.writer(csvfile_out, delimiter=',')\n",
    "\n",
    "    # Notice how this 'with' is *inside* the outer one:\n",
    "    # WARNING: handle here is called *csvfile_in*\n",
    "    with open('example-1.csv', encoding='utf-8', newline='') as csvfile_in:    \n",
    "        my_reader = csv.reader(csvfile_in, delimiter=',')      \n",
    "        \n",
    "        for row in my_reader:\n",
    "            row.append('something else')\n",
    "            my_writer.writerow(row)\n",
    "            my_writer.writerow(row)\n",
    "            my_writer.writerow(row)    "
   ]
  },
  {
   "cell_type": "markdown",
   "metadata": {},
   "source": [
    "Let's see the new file was actually created by reading it:"
   ]
  },
  {
   "cell_type": "code",
   "execution_count": 14,
   "metadata": {
    "scrolled": true
   },
   "outputs": [
    {
     "name": "stdout",
     "output_type": "stream",
     "text": [
      "['animal', ' lifespan', 'something else']\n",
      "['animal', ' lifespan', 'something else']\n",
      "['animal', ' lifespan', 'something else']\n",
      "['dog', '12', 'something else']\n",
      "['dog', '12', 'something else']\n",
      "['dog', '12', 'something else']\n",
      "['cat', '14', 'something else']\n",
      "['cat', '14', 'something else']\n",
      "['cat', '14', 'something else']\n",
      "['pelican', '30', 'something else']\n",
      "['pelican', '30', 'something else']\n",
      "['pelican', '30', 'something else']\n",
      "['squirrel', '6', 'something else']\n",
      "['squirrel', '6', 'something else']\n",
      "['squirrel', '6', 'something else']\n",
      "['eagle', '25', 'something else']\n",
      "['eagle', '25', 'something else']\n",
      "['eagle', '25', 'something else']\n"
     ]
    }
   ],
   "source": [
    "with open('example-1-enriched.csv', encoding='utf-8', newline='') as csvfile_in:    \n",
    "    my_reader = csv.reader(csvfile_in, delimiter=',')      \n",
    "\n",
    "    for row in my_reader:\n",
    "        print(row)"
   ]
  },
  {
   "cell_type": "markdown",
   "metadata": {
    "colab_type": "text",
    "id": "WbO-GSrX5bSz"
   },
   "source": [
    "## CSV Botteghe storiche \n",
    "\n",
    "Usually in open data catalogs like the popular CKAN platform (for example [dati.trentino.it](http://dati.trentino.it/), [data.gov.uk](https://data.gov.uk/), [European data portal](https://www.europeandataportal.eu/) run instances of CKAN) files are organized in _datasets_, which are collections of _resources_: each resource directly contains a file inside the catalog (typically CSV, JSON or XML) or a link to the real file located in a server belonging to the organizazion which created the data.\n",
    "\n",
    "The first dataset we wil look at will be 'Botteghe storiche del Trentino':\n",
    "\n",
    "https://dati.trentino.it/dataset/botteghe-storiche-del-trentino\n",
    "\n",
    "Here you will find some generic information about the dataset, of importance note the data provider: Provincia Autonoma di Trento and the license [Creative Commons Attribution v4.0](https://creativecommons.org/licenses/by/4.0/deed.en), which basically allows any reuse provided you cite the author.\n",
    "\n",
    "Inside the dataset page, there is a resource called 'Botteghe storiche'\n",
    "\n",
    "https://dati.trentino.it/dataset/botteghe-storiche-del-trentino/resource/43fc327e-99b4-4fb8-833c-1807b5ef1d90\n",
    "\n",
    "At the resource page, we find a link to the CSV file (you can also find it by clicking on the blue button 'Go to the resource'):\n",
    "\n",
    "http://www.commercio.provincia.tn.it/binary/pat_commercio/valorizzazione_luoghi_storici/Albo_botteghe_storiche_in_ordine_iscrizione_9_5_2019.1557403385.csv\n",
    "\n",
    "Accordingly to the browser and operating system you have, by clicking on the link above you might get different results. In our case, on browser Firefox and operating system Linux we get (here we only show first 10 rows):\n",
    "\n",
    "```\n",
    "Numero,Insegna,Indirizzo,Civico,Comune,Cap,Frazione/LocalitÃ ,Note\n",
    "1,BAZZANELLA RENATA,Via del Lagorai,30,Sover,38068,Piscine di Sover,\"generi misti, bar - ristorante\"\n",
    "2,CONFEZIONI MONTIBELLER S.R.L.,Corso Ausugum,48,Borgo Valsugana,38051,,esercizio commerciale\n",
    "3,FOTOGRAFICA TRINTINAGLIA UMBERTO S.N.C.,Largo Dordi,8,Borgo Valsugana,38051,,\"esercizio commerciale, attivitÃ  artigianale\"\n",
    "4,BAR SERAFINI DI MINATI RENZO,,24,Grigno,38055,Serafini,esercizio commerciale\n",
    "6,SEMBENINI GINO & FIGLI S.R.L.,Via S. Francesco,35,Riva del Garda,38066,,\n",
    "7,HOTEL RISTORANTE PIZZERIA â€œALLA NAVEâ€,Via Nazionale,29,Lavis,38015,Nave San Felice,\n",
    "8,OBRELLI GIOIELLERIA DAL 1929 S.R.L.,Via Roma,33,Lavis,38015,,\n",
    "9,MACELLERIE TROIER S.A.S. DI TROIER DARIO E C.,Via Roma,13,Lavis,38015,,\n",
    "10,NARDELLI TIZIANO,Piazza Manci,5,Lavis,38015,,esercizio commerciale\n",
    "```\n",
    "\n",
    "\n",
    "As expected, values are separated with commas."
   ]
  },
  {
   "cell_type": "markdown",
   "metadata": {},
   "source": [
    "### Problem: wrong characters ??\n",
    "\n",
    "You can suddenly discover a problem in the first row of headers, in the column `Frazione/LocalitÃ`. It seems last character is wrong, in italian it should show accented like `à`. Is it truly a problem of the file ? Not really. Probably, the server is not telling Firefox which encoding is the correct one for the file. Firefox is not magical, and tries its best to show the CSV on the base of the info it has, which may be limited and / or even wrong. World is never like we would like it to be ..."
   ]
  },
  {
   "cell_type": "markdown",
   "metadata": {},
   "source": [
    "**✪ 2.12 EXERCISE**: download the CSV, and try opening it in Excel and / or LibreOffice Calc. Do you see a correct accented character? If not, try to set the encoding to 'Unicode (UTF-8)'  (in Calc is called 'Character set').\n",
    "\n",
    "<div class=\"alert alert-warning\">\n",
    "           \n",
    "**WARNING: CAREFUL IF YOU USE Excel!**\n",
    "     \n",
    "By clicking directly on  `File->Open in Excel`, probably Excel will try to guess on its own how to put the CSV in a table, and will make the mistake to place everything in a column. To avoid the problem, we have to tell Excel to show a panel to ask us how we want to open the CSV, by doing like so:\n",
    "\n",
    "* In old Excels, find `File-> Import`\n",
    "* In recent Excels, click on tab `Data` and then select `From text`. For further information, [see copytrans guide](https://www.copytrans.net/support/how-to-open-a-csv-file-in-excel/)\n",
    "</div>\n",
    "\n",
    "\n",
    "- **NOTE**: If the file is not available, in the folder where this notebook is you will find the same file renamed to `botteghe-storiche.csv`\n"
   ]
  },
  {
   "cell_type": "markdown",
   "metadata": {},
   "source": [
    "\n",
    "![import example in LibreOffice Calc](img/botteghe-import.png)\n",
    "\n"
   ]
  },
  {
   "cell_type": "markdown",
   "metadata": {},
   "source": [
    "We should get a table like this. Notice how the `Frazione/Località` header displays with the right accent because we selected Character set: Unicode (UTF-8) which is the appropriate one for this dataset:\n"
   ]
  },
  {
   "cell_type": "markdown",
   "metadata": {},
   "source": [
    "![botteghe storiche table](img/botteghe-table.png)\n"
   ]
  },
  {
   "cell_type": "markdown",
   "metadata": {},
   "source": [
    "### Botteghe storiche in Python\n",
    "\n",
    "Now that we understood a couple of things about encoding, let's try to import the file in Python."
   ]
  },
  {
   "cell_type": "markdown",
   "metadata": {},
   "source": [
    "If we load in Python the first 5 entries with a csv DictReader and print them we should see something like this:\n",
    "\n",
    "```python\n",
    "OrderedDict([('Numero', '1'),\n",
    "              ('Insegna', 'BAZZANELLA RENATA'),\n",
    "              ('Indirizzo', 'Via del Lagorai'),\n",
    "              ('Civico', '30'),\n",
    "              ('Comune', 'Sover'),\n",
    "              ('Cap', '38068'),\n",
    "              ('Frazione/Località', 'Piscine di Sover'),\n",
    "              ('Note', 'generi misti, bar - ristorante')]),\n",
    "OrderedDict([('Numero', '2'),\n",
    "             ('Insegna', 'CONFEZIONI MONTIBELLER S.R.L.'),\n",
    "             ('Indirizzo', 'Corso Ausugum'),\n",
    "             ('Civico', '48'),\n",
    "             ('Comune', 'Borgo Valsugana'),\n",
    "             ('Cap', '38051'),\n",
    "             ('Frazione/Località', ''),\n",
    "             ('Note', 'esercizio commerciale')]),\n",
    "OrderedDict([('Numero', '3'),\n",
    "             ('Insegna', 'FOTOGRAFICA TRINTINAGLIA UMBERTO S.N.C.'),\n",
    "             ('Indirizzo', 'Largo Dordi'),\n",
    "             ('Civico', '8'),\n",
    "             ('Comune', 'Borgo Valsugana'),\n",
    "             ('Cap', '38051'),\n",
    "             ('Frazione/Località', ''),\n",
    "             ('Note', 'esercizio commerciale, attività artigianale')]),\n",
    "OrderedDict([('Numero', '4'),\n",
    "             ('Insegna', 'BAR SERAFINI DI MINATI RENZO'),\n",
    "             ('Indirizzo', ''),\n",
    "             ('Civico', '24'),\n",
    "             ('Comune', 'Grigno'),\n",
    "             ('Cap', '38055'),\n",
    "             ('Frazione/Località', 'Serafini'),\n",
    "             ('Note', 'esercizio commerciale')]),\n",
    "OrderedDict([('Numero', '6'),\n",
    "             ('Insegna', 'SEMBENINI GINO & FIGLI S.R.L.'),\n",
    "             ('Indirizzo', 'Via S. Francesco'),\n",
    "             ('Civico', '35'),\n",
    "             ('Comune', 'Riva del Garda'),\n",
    "             ('Cap', '38066'),\n",
    "             ('Frazione/Località', ''),\n",
    "             ('Note', '')])\n",
    "```"
   ]
  },
  {
   "cell_type": "markdown",
   "metadata": {},
   "source": [
    "We would like to know which different categories of _bottega_ there are, and count them. Unfortunately, there is no specific field for _Categoria,_ so we will need to extract this information from other fields such as `Insegna` and `Note`. For example, this `Insegna` contains the category `BAR`, while the `Note` (_commercial enterprise_) is a bit too generic to be useful:\n",
    "\n",
    "```python\n",
    "    'Insegna': 'BAR SERAFINI DI MINATI RENZO',\n",
    "    'Note': 'esercizio commerciale',\n",
    "```\n",
    "\n",
    "while this other `Insegna` contains just the owner name and  `Note` holds both the categories `bar` and `ristorante`:\n",
    "\n",
    "```python\n",
    "    'Insegna': 'BAZZANELLA RENATA',\n",
    "    'Note': 'generi misti, bar - ristorante',\n",
    "```\n",
    "\n",
    "As you see, data is non uniform: \n",
    "\n",
    "* sometimes the category is in the `Insegna`\n",
    "* sometimes is in the `Note`\n",
    "* sometimes is in both\n",
    "* sometimes is lowercase\n",
    "* sometimes is uppercase\n",
    "* sometimes is single\n",
    "* sometimes is multiple (`bar - ristorante`)"
   ]
  },
  {
   "cell_type": "markdown",
   "metadata": {},
   "source": [
    "First we want to extract all categories we can find, and rank them according their frequency, from most frequent to least frequent.\n",
    "\n",
    "To do so, you need to\n",
    "\n",
    "- count all words you can find in both `Insegna` and `Note` fields, and sort them. Note you need to normalize the uppercase. \n",
    "\n",
    "- consider a category relevant if it is present at least 11 times in the dataset.\n",
    "\n",
    "- filter non relevant words: some words like prepositions, type of company (`'S.N.C'`, `S.R.L.`, ..), etc will appear a lot, and will need to be ignored. To detect them, you are given a list called `stopwords`.\n",
    "\n",
    "**NOTE**: the rules above do not actually extract all the categories, for the sake of the exercise we only keep the most frequent ones. \n",
    "\n",
    "To know how to proceed, read the following."
   ]
  },
  {
   "cell_type": "markdown",
   "metadata": {},
   "source": [
    "### Botteghe storiche - rank_categories\n",
    "\n",
    "Load the file with `csv.DictReader` and while you are loading it, calculate the words as described above. Afterwards, return a list of words with their frequencies.\n",
    "\n",
    "Do **not** load the whole file into memory, just process one dictionary at a time and update statistics accordingly.\n",
    "\n",
    "Expected output: \n",
    "\n",
    "```python\n",
    "[('BAR', 191),\n",
    " ('RISTORANTE', 150),\n",
    " ('HOTEL', 67),\n",
    " ('ALBERGO', 64),\n",
    " ('MACELLERIA', 27),\n",
    " ('PANIFICIO', 22),\n",
    " ('CALZATURE', 21),\n",
    " ('FARMACIA', 21),\n",
    " ('ALIMENTARI', 20),\n",
    " ('PIZZERIA', 16),\n",
    " ('SPORT', 16),\n",
    " ('TABACCHI', 12),\n",
    " ('FERRAMENTA', 12),\n",
    " ('BAZAR', 11)]\n",
    "```\n"
   ]
  },
  {
   "cell_type": "code",
   "execution_count": 15,
   "metadata": {},
   "outputs": [
    {
     "data": {
      "text/plain": [
       "[('BAR', 191),\n",
       " ('RISTORANTE', 150),\n",
       " ('HOTEL', 67),\n",
       " ('ALBERGO', 64),\n",
       " ('MACELLERIA', 27),\n",
       " ('PANIFICIO', 22),\n",
       " ('CALZATURE', 21),\n",
       " ('FARMACIA', 21),\n",
       " ('ALIMENTARI', 20),\n",
       " ('PIZZERIA', 16),\n",
       " ('SPORT', 16),\n",
       " ('TABACCHI', 12),\n",
       " ('FERRAMENTA', 12),\n",
       " ('BAZAR', 11)]"
      ]
     },
     "execution_count": 15,
     "metadata": {},
     "output_type": "execute_result"
    }
   ],
   "source": [
    "def rank_categories(stopwords):\n",
    "    #jupman-raise\n",
    "    ret = {}\n",
    "    import csv\n",
    "    with open('botteghe.csv', newline='',  encoding='utf-8',) as csvfile:\n",
    "        reader = csv.DictReader(csvfile,  delimiter=',')\n",
    "        for d in reader:\n",
    "            words = d['Insegna'].split(\" \") + d['Note'].upper().split(\" \") \n",
    "            for word in words:\n",
    "                if word in ret and not word in stopwords:\n",
    "                    ret[word] += 1\n",
    "                else:\n",
    "                    ret[word] = 1\n",
    "    return sorted([(key, val) for key,val in ret.items() if val > 10], key=lambda c: c[1], reverse=True)\n",
    "    #/jupman-raise\n",
    "\n",
    "stopwords = ['',\n",
    "             'S.N.C.', 'SNC','S.A.S.', 'S.R.L.', 'S.C.A.R.L.', 'SCARL','S.A.S', 'COMMERCIALE','FAMIGLIA','COOPERATIVA',\n",
    "             '-', '&', 'C.', 'ESERCIZIO',\n",
    "             'IL', 'DE', 'DI','A', 'DA', 'E', 'LA', 'AL',  'DEL', 'ALLA', ]\n",
    "categories = rank_categories(stopwords)\n",
    "\n",
    "categories  "
   ]
  },
  {
   "cell_type": "markdown",
   "metadata": {},
   "source": [
    "### Botteghe storiche - enrich\n",
    "\n",
    "Once you found the categories, implement function `enrich`, which takes the db and previously computed categories, and WRITES a NEW file `botteghe-enriched.csv` where the rows are enriched with a new field `Categorie`, which holds a list of the categories a particular _bottega_ belongs to. \n",
    "\n",
    "- Write the new file with a `DictWriter`, see [documentation](https://docs.python.org/3/library/csv.html#csv.DictWriter)\n",
    "\n",
    "The new file should contain rows like this (showing only first 5):\n",
    "\n",
    "```bash\n",
    "OrderedDict([   ('Numero', '1'),\n",
    "                ('Insegna', 'BAZZANELLA RENATA'),\n",
    "                ('Indirizzo', 'Via del Lagorai'),\n",
    "                ('Civico', '30'),\n",
    "                ('Comune', 'Sover'),\n",
    "                ('Cap', '38068'),\n",
    "                ('Frazione/Località', 'Piscine di Sover'),\n",
    "                ('Note', 'generi misti, bar - ristorante'),\n",
    "                ('Categorie', \"['BAR', 'RISTORANTE']\")])\n",
    "OrderedDict([   ('Numero', '2'),\n",
    "                ('Insegna', 'CONFEZIONI MONTIBELLER S.R.L.'),\n",
    "                ('Indirizzo', 'Corso Ausugum'),\n",
    "                ('Civico', '48'),\n",
    "                ('Comune', 'Borgo Valsugana'),\n",
    "                ('Cap', '38051'),\n",
    "                ('Frazione/Località', ''),\n",
    "                ('Note', 'esercizio commerciale'),\n",
    "                ('Categorie', '[]')])\n",
    "OrderedDict([   ('Numero', '3'),\n",
    "                ('Insegna', 'FOTOGRAFICA TRINTINAGLIA UMBERTO S.N.C.'),\n",
    "                ('Indirizzo', 'Largo Dordi'),\n",
    "                ('Civico', '8'),\n",
    "                ('Comune', 'Borgo Valsugana'),\n",
    "                ('Cap', '38051'),\n",
    "                ('Frazione/Località', ''),\n",
    "                ('Note', 'esercizio commerciale, attività artigianale'),\n",
    "                ('Categorie', '[]')])\n",
    "OrderedDict([   ('Numero', '4'),\n",
    "                ('Insegna', 'BAR SERAFINI DI MINATI RENZO'),\n",
    "                ('Indirizzo', ''),\n",
    "                ('Civico', '24'),\n",
    "                ('Comune', 'Grigno'),\n",
    "                ('Cap', '38055'),\n",
    "                ('Frazione/Località', 'Serafini'),\n",
    "                ('Note', 'esercizio commerciale'),\n",
    "                ('Categorie', \"['BAR']\")])\n",
    "OrderedDict([   ('Numero', '6'),\n",
    "                ('Insegna', 'SEMBENINI GINO & FIGLI S.R.L.'),\n",
    "                ('Indirizzo', 'Via S. Francesco'),\n",
    "                ('Civico', '35'),\n",
    "                ('Comune', 'Riva del Garda'),\n",
    "                ('Cap', '38066'),\n",
    "                ('Frazione/Località', ''),\n",
    "                ('Note', ''),\n",
    "                ('Categorie', '[]')])\n",
    "\n",
    "\n",
    "```\n"
   ]
  },
  {
   "cell_type": "code",
   "execution_count": 16,
   "metadata": {
    "scrolled": true
   },
   "outputs": [],
   "source": [
    "def enrich(categories):\n",
    "    #jupman-raise\n",
    "    ret = []\n",
    "\n",
    "    \n",
    "    fieldnames = []\n",
    "    # read headers \n",
    "    with open('botteghe.csv', newline='',  encoding='utf-8') as csvfile_in:\n",
    "        reader = csv.DictReader(csvfile_in,  delimiter=',')\n",
    "        d1 = next(reader)\n",
    "        fieldnames = list(d1.keys())  # otherwise we cannot append\n",
    "    \n",
    "    fieldnames.append('Categorie')\n",
    "    \n",
    "    with open('botteghe-enriched-solution.csv', 'w', newline='', encoding='utf-8') as csvfile_out:\n",
    "    \n",
    "        writer = csv.DictWriter(csvfile_out, fieldnames=fieldnames)            \n",
    "        writer.writeheader()\n",
    "    \n",
    "        with open('botteghe.csv', newline='',  encoding='utf-8',) as csvfile_in:\n",
    "            reader = csv.DictReader(csvfile_in,  delimiter=',')\n",
    "            for d in reader:\n",
    "\n",
    "                new_d = {key:val for key,val in d.items()}\n",
    "                new_d['Categorie'] = []\n",
    "                for cat in categories:\n",
    "                    if cat[0] in d['Insegna'].upper() or cat[0] in d['Note'].upper():\n",
    "                        new_d['Categorie'].append(cat[0])\n",
    "                writer.writerow(new_d)\n",
    "    \n",
    "    #/jupman-raise\n",
    "\n",
    "enrich(rank_categories(stopwords))                \n",
    "\n"
   ]
  },
  {
   "cell_type": "code",
   "execution_count": 17,
   "metadata": {},
   "outputs": [
    {
     "name": "stdout",
     "output_type": "stream",
     "text": [
      "OrderedDict([   ('Numero', '1'),\n",
      "                ('Insegna', 'BAZZANELLA RENATA'),\n",
      "                ('Indirizzo', 'Via del Lagorai'),\n",
      "                ('Civico', '30'),\n",
      "                ('Comune', 'Sover'),\n",
      "                ('Cap', '38068'),\n",
      "                ('Frazione/Località', 'Piscine di Sover'),\n",
      "                ('Note', 'generi misti, bar - ristorante'),\n",
      "                ('Categorie', \"['BAR', 'RISTORANTE']\")])\n",
      "OrderedDict([   ('Numero', '2'),\n",
      "                ('Insegna', 'CONFEZIONI MONTIBELLER S.R.L.'),\n",
      "                ('Indirizzo', 'Corso Ausugum'),\n",
      "                ('Civico', '48'),\n",
      "                ('Comune', 'Borgo Valsugana'),\n",
      "                ('Cap', '38051'),\n",
      "                ('Frazione/Località', ''),\n",
      "                ('Note', 'esercizio commerciale'),\n",
      "                ('Categorie', '[]')])\n",
      "OrderedDict([   ('Numero', '3'),\n",
      "                ('Insegna', 'FOTOGRAFICA TRINTINAGLIA UMBERTO S.N.C.'),\n",
      "                ('Indirizzo', 'Largo Dordi'),\n",
      "                ('Civico', '8'),\n",
      "                ('Comune', 'Borgo Valsugana'),\n",
      "                ('Cap', '38051'),\n",
      "                ('Frazione/Località', ''),\n",
      "                ('Note', 'esercizio commerciale, attività artigianale'),\n",
      "                ('Categorie', '[]')])\n",
      "OrderedDict([   ('Numero', '4'),\n",
      "                ('Insegna', 'BAR SERAFINI DI MINATI RENZO'),\n",
      "                ('Indirizzo', ''),\n",
      "                ('Civico', '24'),\n",
      "                ('Comune', 'Grigno'),\n",
      "                ('Cap', '38055'),\n",
      "                ('Frazione/Località', 'Serafini'),\n",
      "                ('Note', 'esercizio commerciale'),\n",
      "                ('Categorie', \"['BAR']\")])\n",
      "OrderedDict([   ('Numero', '6'),\n",
      "                ('Insegna', 'SEMBENINI GINO & FIGLI S.R.L.'),\n",
      "                ('Indirizzo', 'Via S. Francesco'),\n",
      "                ('Civico', '35'),\n",
      "                ('Comune', 'Riva del Garda'),\n",
      "                ('Cap', '38066'),\n",
      "                ('Frazione/Località', ''),\n",
      "                ('Note', ''),\n",
      "                ('Categorie', '[]')])\n"
     ]
    }
   ],
   "source": [
    "# let's see if we created the file we wanted \n",
    "# (using botteghe-enriched-solution.csv to avoid polluting your file)\n",
    "\n",
    "with open('botteghe-enriched-solution.csv', newline='',  encoding='utf-8',) as csvfile_in:\n",
    "    reader = csv.DictReader(csvfile_in,  delimiter=',')\n",
    "    # better to pretty print the OrderedDicts, otherwise we get unreadable output   \n",
    "    # for documentation see https://docs.python.org/3/library/pprint.html\n",
    "    import pprint\n",
    "    pp = pprint.PrettyPrinter(indent=4)\n",
    "    for i in range(5):\n",
    "        d = next(reader)\n",
    "        pp.pprint(d)\n"
   ]
  },
  {
   "cell_type": "markdown",
   "metadata": {},
   "source": [
    "## Continue\n",
    "\n",
    "Go on with [JSON format](https://en.softpython.org/formats/formats3-json-sol.html)"
   ]
  }
 ],
 "metadata": {
  "kernelspec": {
   "display_name": "Python 3 (ipykernel)",
   "language": "python",
   "name": "python3"
  },
  "language_info": {
   "codemirror_mode": {
    "name": "ipython",
    "version": 3
   },
   "file_extension": ".py",
   "mimetype": "text/x-python",
   "name": "python",
   "nbconvert_exporter": "python",
   "pygments_lexer": "ipython3",
   "version": "3.7.10"
  },
  "toc": {
   "base_numbering": 1,
   "nav_menu": {},
   "number_sections": false,
   "sideBar": true,
   "skip_h1_title": false,
   "title_cell": "Table of Contents",
   "title_sidebar": "Contents",
   "toc_cell": false,
   "toc_position": {},
   "toc_section_display": true,
   "toc_window_display": true
  }
 },
 "nbformat": 4,
 "nbformat_minor": 2
}
