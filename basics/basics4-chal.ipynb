{
 "cells": [
  {
   "cell_type": "code",
   "execution_count": 1,
   "metadata": {
    "nbsphinx": "hidden"
   },
   "outputs": [],
   "source": [
    "# Remember to execute this cell with Shift+Enter\n",
    "import sys\n",
    "sys.path.append('../')\n",
    "import jupman"
   ]
  },
  {
   "cell_type": "markdown",
   "metadata": {},
   "source": [
    "# Python basics 4 - Challenges\n",
    "\n",
    "## [Download exercises zip](../_static/generated/basics.zip)\n",
    "\n",
    "[Browse online files](https://github.com/DavidLeoni/softpython-en/tree/master/basics)"
   ]
  },
  {
   "cell_type": "markdown",
   "metadata": {},
   "source": [
    "## Challenges\n",
    "\n",
    "We now propose some exercises without solutions.\n",
    "\n",
    "Try executing them both in Jupyter and a text editor such as Spyder or Visual Studio Code to get familiar with both environments."
   ]
  },
  {
   "cell_type": "markdown",
   "metadata": {},
   "source": [
    "### Challenge - which booleans 1?\n",
    "\n",
    "✪ Find the row with values such that the final print prints `True`. Is there only one combination or many?"
   ]
  },
  {
   "cell_type": "code",
   "execution_count": 2,
   "metadata": {},
   "outputs": [
    {
     "name": "stdout",
     "output_type": "stream",
     "text": [
      "False\n"
     ]
    }
   ],
   "source": [
    "x = False; y = False\n",
    "#x = False; y = True\n",
    "#x = True; y = False\n",
    "#x = True; y = True\n",
    "\n",
    "print(x and y)"
   ]
  },
  {
   "cell_type": "markdown",
   "metadata": {},
   "source": [
    "### Challenge - which booleans 2?\n",
    "\n",
    "✪ Find the row in which by assigning values to `x` and `y` it prints `True`. Is there only one combinatin or many?"
   ]
  },
  {
   "cell_type": "code",
   "execution_count": 3,
   "metadata": {},
   "outputs": [
    {
     "name": "stdout",
     "output_type": "stream",
     "text": [
      "False\n"
     ]
    }
   ],
   "source": [
    "x = False; y = False; z = False\n",
    "#x = False; y = True; z = False\n",
    "#x = True; y = False; z = False\n",
    "#x = True; y = True; z = False\n",
    "#x = False; y = False; z = True\n",
    "#x = False; y = True; z = True\n",
    "#x = True; y = False; z = True\n",
    "#x = True; y =True; z =True\n",
    "\n",
    "print((x or y) and (not x and z))"
   ]
  },
  {
   "cell_type": "markdown",
   "metadata": {},
   "source": [
    "### Challenge - airport\n",
    "\n",
    "✪✪ You finally decide to take a vacation and go to the airport, expecting to spend some time in several queues. Luckily, you only have carry-on bag, so you directly go to security checks, where you can choose among three rows of people `sec1`, `sec2`, `sec3`. Each person an average takes `4` _minutes_ to be examinated, you included, and obviously you choose the shortest queue. Afterwards you go to the gate, where you find two queues of `ga1` and `ga2` people, and you know that each person you included an average takes `20` _seconds_ to pass: again you choose the shortes queue. Luckily the aircraft is next to the gate so you can directly choose whether to board at the queue at the head of the aircraft  with `bo1` people or at the queue at the tail of the plane with `bo2` people. Each passenger you included takes an average `30` _seconds,_ and you choose the shortest queue.\n",
    "\n",
    "Write some code to calculate how much time you take in total to enter the plane, showing it in minutes and seconds.\n",
    "\n",
    "Example - given:\n",
    "\n",
    "```python\n",
    "sec1,sec2,sec3, ga1,ga2, bo1,bo2 = 4,5,8, 5,2, 7,6\n",
    "```\n",
    "\n",
    "your code must print:\n",
    "\n",
    "```\n",
    "24 minutes and 30 seconds\n",
    "```"
   ]
  },
  {
   "cell_type": "code",
   "execution_count": 4,
   "metadata": {},
   "outputs": [],
   "source": [
    "\n",
    "sec1,sec2,sec3, ga1,ga2, bo1,bo2 = 4,5,8, 5,2, 7,6   # 24 minutes and 30 seconds\n",
    "#sec1,sec2,sec3, ga1,ga2, bo1,bo2 = 9,7,1, 3,5, 2,9  # 10 minutes and 50 seconds\n",
    "\n",
    "\n",
    "# write here\n",
    "\n"
   ]
  },
  {
   "cell_type": "markdown",
   "metadata": {},
   "source": [
    "\n",
    "### Challenge - Holiday trip\n",
    "\n",
    "✪✪ While an holiday you are traveling by car, and in a particular day you want to visit one among 4 destinations. Each location requires to go through two roads `r1` and `r2`. Roads are numbered with two digits numbers, for example to reach destination `1` you need to go to road `58` and road `17`.\n",
    "\n",
    "Write some code that given `r1` and `r2` roads shows the number of the destination.\n",
    "\n",
    "* If the car goes to a road it shouldn't (i.e. road 666), put `False` in `destination`\n",
    "* **DO NOT** use summations\n",
    "* **IMPORTANT: DO NOT use** `if` **commands** (it's possible, think about it ;-)\n",
    "\n",
    "![vacation-trip](img/vacation-trip.png)\n",
    "\n",
    "Example 1 - given:\n",
    "\n",
    "```python\n",
    "r1,r2 = 58,31   \n",
    "```\n",
    "\n",
    "After your code it must print:\n",
    "\n",
    "```\n",
    "The destination is 2\n",
    "```\n",
    "\n",
    "Example 2 - given:\n",
    "\n",
    "```python\n",
    "r1,r2 = 666,31  \n",
    "```\n",
    "\n",
    "After your code it must print:\n",
    "\n",
    "```\n",
    "The destination is False\n",
    "```\n"
   ]
  },
  {
   "cell_type": "code",
   "execution_count": 5,
   "metadata": {},
   "outputs": [],
   "source": [
    "\n",
    "r1,r2 = 58,17   # 1\n",
    "r1,r2 = 58,31   # 2\n",
    "r1,r2 = 32,29   # 3\n",
    "r1,r2 = 42,75   # 4\n",
    "r1,r2 = 666,31  # False  \n",
    "r1,r2 = 58,666  # False  \n",
    "r1,r2 = 32,999  # False\n",
    "\n",
    "# write here\n",
    "\n"
   ]
  },
  {
   "cell_type": "markdown",
   "metadata": {},
   "source": [
    "## The Tunnel of Time\n",
    "\n",
    "Recently a spatio-temporal tunnel has been discovered which allows time travellling. To repair the tragic errors it committed in the past, humanity is struggling to send probes through the tunnel. Alas, in the tunnel there are very strong magnetic-gravitational fields which might have sucked the probe into the folds of time (represented in shades of grey).\n",
    "\n",
    "Write some code which given the `px,py` position of the probe, prints `True` if the probe went into a grey zone, and `False` if it went into a white zone.\n",
    "\n",
    "* Origin 0,0 is at the center\n",
    "* Each circle edge has `s=5` distance from its inner circle\n",
    "* edges are supposed to be infinitesimal and we assume the probe will never go exactly there - in such cases, your program behavious is allowed to be undefined\n",
    "\n",
    "\n",
    "* **DO NOT** use `if` instruction, nor cycles\n",
    "* **NOTE** the time tunnel is potentially infinite, so your code must also work for very big values of `px,py`"
   ]
  },
  {
   "cell_type": "markdown",
   "metadata": {},
   "source": [
    "![concentric](img/concentric.png)"
   ]
  },
  {
   "cell_type": "code",
   "execution_count": 6,
   "metadata": {},
   "outputs": [],
   "source": [
    "\n",
    "s=5\n",
    "\n",
    "px,py = 0,0        # True\n",
    "#px,py = 2,0       # True\n",
    "#px,py = 0,7       # False\n",
    "#px,py = 3,3       # True\n",
    "#px,py = 4,4       # False\n",
    "#px,py = 6,7       # False\n",
    "#px,py = 7,8       # True\n",
    "#px,py = 15,9      # False\n",
    "#px,py = 230,120   # False\n",
    "#px,py = 1230,536  # True\n",
    "\n",
    "# write here\n",
    "\n"
   ]
  },
  {
   "cell_type": "code",
   "execution_count": 7,
   "metadata": {
    "nbsphinx": "hidden"
   },
   "outputs": [],
   "source": []
  }
 ],
 "metadata": {
  "celltoolbar": "Edit Metadata",
  "kernelspec": {
   "display_name": "Python 3 (ipykernel)",
   "language": "python",
   "name": "python3"
  },
  "language_info": {
   "codemirror_mode": {
    "name": "ipython",
    "version": 3
   },
   "file_extension": ".py",
   "mimetype": "text/x-python",
   "name": "python",
   "nbconvert_exporter": "python",
   "pygments_lexer": "ipython3",
   "version": "3.7.10"
  },
  "toc": {
   "base_numbering": 1,
   "nav_menu": {},
   "number_sections": false,
   "sideBar": true,
   "skip_h1_title": false,
   "title_cell": "Table of Contents",
   "title_sidebar": "Contents",
   "toc_cell": false,
   "toc_position": {
    "height": "calc(100% - 180px)",
    "left": "10px",
    "top": "150px",
    "width": "280.2px"
   },
   "toc_section_display": true,
   "toc_window_display": false
  }
 },
 "nbformat": 4,
 "nbformat_minor": 2
}
