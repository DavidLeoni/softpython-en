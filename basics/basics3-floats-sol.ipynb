{
 "cells": [
  {
   "cell_type": "code",
   "execution_count": 1,
   "metadata": {
    "nbsphinx": "hidden"
   },
   "outputs": [],
   "source": [
    "# Remember to execute this cell with Shift+Enter\n",
    "import jupman"
   ]
  },
  {
   "cell_type": "markdown",
   "metadata": {},
   "source": [
    "# Python basics 3 - floats\n",
    "\n",
    "## [Download exercises zip](../_static/generated/basics.zip)\n",
    "\n",
    "[Browse online files](https://github.com/DavidLeoni/softpython-en/tree/master/basics)\n",
    "\n",
    "<div class=\"alert alert-warning\">\n",
    "\n",
    "**PREREQUISITES:**\n",
    "    \n",
    "* **Having read** [basics 1 - integers](https://en.softpython.org/basics/basics1-ints-sol.html)\n",
    "* **Having read** [basics 2 - booleans](https://en.softpython.org/basics/basics2-bools-sol.html)    \n",
    "    \n",
    "</div>"
   ]
  },
  {
   "cell_type": "markdown",
   "metadata": {},
   "source": [
    "## Real numbers\n",
    "\n",
    "Python saves the real numbers (floating point numbers) in 64 bit of information divided by sign, exponent and mantissa (also called significand). Let's see an example:"
   ]
  },
  {
   "cell_type": "code",
   "execution_count": 2,
   "metadata": {},
   "outputs": [
    {
     "data": {
      "text/plain": [
       "3.14"
      ]
     },
     "execution_count": 2,
     "metadata": {},
     "output_type": "execute_result"
    }
   ],
   "source": [
    "3.14"
   ]
  },
  {
   "cell_type": "code",
   "execution_count": 3,
   "metadata": {},
   "outputs": [
    {
     "data": {
      "text/plain": [
       "float"
      ]
     },
     "execution_count": 3,
     "metadata": {},
     "output_type": "execute_result"
    }
   ],
   "source": [
    "type(3.14)"
   ]
  },
  {
   "cell_type": "markdown",
   "metadata": {},
   "source": [
    "<div class=\"alert alert-warning\">\n",
    "    \n",
    "**WARNING: you must use the dot instead of comma!**    \n",
    "    \n",
    "So you will write `3.14` instead of `3,14`    \n",
    "    \n",
    "Be very careful, whenever you copy numbers from documents in latin languages, they might contain very  insidious commas!    \n",
    "</div>"
   ]
  },
  {
   "cell_type": "markdown",
   "metadata": {},
   "source": [
    "### Scientifical notation\n",
    "\n",
    "Whenever numbers are very big or very small, to avoid having to write too many zeros it is convenient to use scientifical notation with the _e_ like $xen$ which multiplies  the number _x_ by $10^n$\n",
    "\n",
    "With this notation, in memory are only put the most significative digits ( the _mantissa_ ) and the exponent, thus avoiding to waste space."
   ]
  },
  {
   "cell_type": "code",
   "execution_count": 4,
   "metadata": {},
   "outputs": [
    {
     "data": {
      "text/plain": [
       "750.0"
      ]
     },
     "execution_count": 4,
     "metadata": {},
     "output_type": "execute_result"
    }
   ],
   "source": [
    "75e1"
   ]
  },
  {
   "cell_type": "code",
   "execution_count": 5,
   "metadata": {},
   "outputs": [
    {
     "data": {
      "text/plain": [
       "7500.0"
      ]
     },
     "execution_count": 5,
     "metadata": {},
     "output_type": "execute_result"
    }
   ],
   "source": [
    "75e2"
   ]
  },
  {
   "cell_type": "code",
   "execution_count": 6,
   "metadata": {},
   "outputs": [
    {
     "data": {
      "text/plain": [
       "75000.0"
      ]
     },
     "execution_count": 6,
     "metadata": {},
     "output_type": "execute_result"
    }
   ],
   "source": [
    "75e3"
   ]
  },
  {
   "cell_type": "code",
   "execution_count": 7,
   "metadata": {},
   "outputs": [
    {
     "data": {
      "text/plain": [
       "7.5e+124"
      ]
     },
     "execution_count": 7,
     "metadata": {},
     "output_type": "execute_result"
    }
   ],
   "source": [
    "75e123"
   ]
  },
  {
   "cell_type": "code",
   "execution_count": 8,
   "metadata": {},
   "outputs": [
    {
     "data": {
      "text/plain": [
       "75.0"
      ]
     },
     "execution_count": 8,
     "metadata": {},
     "output_type": "execute_result"
    }
   ],
   "source": [
    "75e0"
   ]
  },
  {
   "cell_type": "code",
   "execution_count": 9,
   "metadata": {},
   "outputs": [
    {
     "data": {
      "text/plain": [
       "7.5"
      ]
     },
     "execution_count": 9,
     "metadata": {},
     "output_type": "execute_result"
    }
   ],
   "source": [
    "75e-1"
   ]
  },
  {
   "cell_type": "code",
   "execution_count": 10,
   "metadata": {},
   "outputs": [
    {
     "data": {
      "text/plain": [
       "0.75"
      ]
     },
     "execution_count": 10,
     "metadata": {},
     "output_type": "execute_result"
    }
   ],
   "source": [
    "75e-2"
   ]
  },
  {
   "cell_type": "code",
   "execution_count": 11,
   "metadata": {},
   "outputs": [
    {
     "data": {
      "text/plain": [
       "7.5e-122"
      ]
     },
     "execution_count": 11,
     "metadata": {},
     "output_type": "execute_result"
    }
   ],
   "source": [
    "75e-123"
   ]
  },
  {
   "cell_type": "markdown",
   "metadata": {},
   "source": [
    "**QUESTION**: Look at the following expressions, and try to find which result they produce (or if they give an error):\n",
    "    \n",
    "1.  ```python\n",
    "    print(1.000.000)\n",
    "    ```\n",
    "1.  ```\n",
    "    print(3,000,000.000)\n",
    "    ```\n",
    "1.  ```python\n",
    "    print(2000000.000)\n",
    "    ```\n",
    "1.  ```python\n",
    "    print(2000000.0)\n",
    "    ```\n",
    "1.  ```python\n",
    "    print(0.000.123)\n",
    "    ```    \n",
    "1.  ```python\n",
    "    print(0.123)\n",
    "    ```        \n",
    "1.  ```python\n",
    "    print(0.-123)\n",
    "    ```        \n",
    "    \n",
    "1.  ```python\n",
    "    print(3e0)\n",
    "    ```\n",
    "1.  ```python\n",
    "    print(3.0e0)\n",
    "    ```\n",
    "1.  ```python\n",
    "    print(7e-1)\n",
    "    ``` \n",
    "1.  ```python\n",
    "    print(3.0e2)\n",
    "    ```\n",
    "1.  ```python\n",
    "    print(3.0e-2)\n",
    "    ```    \n",
    "1.  ```python\n",
    "    print(3.0-e2)\n",
    "    ```\n",
    "1.  ```python\n",
    "    print(4e2-4e1)\n",
    "    ```"
   ]
  },
  {
   "cell_type": "markdown",
   "metadata": {},
   "source": [
    "### Too big or too small numbers \n",
    "\n",
    "Sometimes calculations on very big or extra small numbers  may give as a result `math.nan` (Not a Number) or `math.inf`. For the moment we just mention them, you can find a detailed description in the [Numpy page](https://en.softpython.org/matrices-numpy/matrices-numpy-sol.html#NaN-e-infinities)"
   ]
  },
  {
   "cell_type": "markdown",
   "metadata": {},
   "source": [
    "### Exercise - circle\n",
    "\n",
    "✪ Calculate the area of a circle at the center of a soccer ball (radius = 9.1m), remember that  $area=pi*r^2$\n",
    "\n",
    "Your code should print as result `263.02199094102605`"
   ]
  },
  {
   "cell_type": "raw",
   "id": "e3bbbf94",
   "metadata": {
    "format": "text/html"
   },
   "source": [
    "<a  class=\"jupman-sol jupman-sol-toggler\" \n",
    " onclick=\"jupman.toggleSolution(this);\" \n",
    " data-jupman-show=\"Show solution\" data-jupman-hide=\"Hide\">Show solution</a><div class=\"jupman-sol jupman-sol-code\" style=\"display:none\">  "
   ]
  },
  {
   "cell_type": "code",
   "execution_count": 12,
   "metadata": {},
   "outputs": [
    {
     "name": "stdout",
     "output_type": "stream",
     "text": [
      "263.02199094102605\n"
     ]
    }
   ],
   "source": [
    "# SOLUTION\n",
    "\n",
    "r = 9.15\n",
    "pi = 3.1415926536\n",
    "area = pi*(r**2)\n",
    "print(area)"
   ]
  },
  {
   "cell_type": "raw",
   "id": "c9e9680c",
   "metadata": {
    "format": "text/html"
   },
   "source": [
    "</div>"
   ]
  },
  {
   "cell_type": "code",
   "execution_count": 12,
   "metadata": {},
   "outputs": [
    {
     "name": "stdout",
     "output_type": "stream",
     "text": [
      "263.02199094102605\n"
     ]
    }
   ],
   "source": []
  },
  {
   "cell_type": "markdown",
   "metadata": {},
   "source": [
    "Note that the parenthesis around the squared `r` are not necessary because the power operator has the precedence, but they may help in augmenting the code readability.\n",
    "\n",
    "We recall here the operator precedence:"
   ]
  },
  {
   "cell_type": "markdown",
   "metadata": {},
   "source": [
    "|Operator|Description|\n",
    "|---------|-----------|\n",
    "|`**`|Power (maximum precedence)|\n",
    "|`+` `-`| unary plus and minus|\n",
    "|`*` `/` `//` `%`|Multiplication, division, integer division, modulo|\n",
    "|`+` `-`| Addition and subtraction|\n",
    "|`<=` `<` `>` `>=`| comparison operators|\n",
    "|`==` `!=` | equality operators|\n",
    "|`not` `or` `and`|Logical operators (minimum precedence)|"
   ]
  },
  {
   "cell_type": "markdown",
   "metadata": {},
   "source": [
    "### Exercise - The golf club\n",
    "\n",
    "Jobe the gardener is now so skilled that Dr Angelo decides to promote him to _paysagist_ of the golf club where he is used to spend his weekends. But a new challenge awaits him: Jobe must perfectly mow the _green_, that is the ciruclar area of radius `r` which encircles the hole. The LED on Jobe's lawnmower must light up when it's positioned on the greenlight zones: write an expression which given two coordinates `x,y` produces `True` in this case and `False` otherwise. With the only purpose to give some visual references, this time you can also see on the field some white balls marked with characters.\n",
    "\n",
    "- **NOTE**: this time the origin is in **the square center**.\n",
    "- **DO NOT** use the `if` command\n",
    "- **HINT**: do you remember how to calculate the distance between two points? You will need the square root `math.sqrt`..."
   ]
  },
  {
   "cell_type": "markdown",
   "metadata": {},
   "source": [
    "![img/lawnmower-5](img/lawnmower-5.png)"
   ]
  },
  {
   "cell_type": "raw",
   "id": "f995af8a",
   "metadata": {
    "format": "text/html"
   },
   "source": [
    "<a  class=\"jupman-sol jupman-sol-toggler\" \n",
    " onclick=\"jupman.toggleSolution(this);\" \n",
    " data-jupman-show=\"Show solution\" data-jupman-hide=\"Hide\">Show solution</a><div class=\"jupman-sol jupman-sol-code\" style=\"display:none\">  "
   ]
  },
  {
   "cell_type": "code",
   "execution_count": 13,
   "metadata": {},
   "outputs": [
    {
     "data": {
      "text/plain": [
       "True"
      ]
     },
     "execution_count": 13,
     "metadata": {},
     "output_type": "execute_result"
    }
   ],
   "source": [
    "import math\n",
    "\n",
    "r = 50\n",
    "\n",
    "x,y = 35,20     # A: True\n",
    "#x,y = 45,-40   # B: False\n",
    "#x,y = 10,-40   # C: True\n",
    "#x,y = -41,-46  # D: False\n",
    "#x,y = -30,-10  # E: True\n",
    "#x,y = -35,35   # F: True\n",
    "#x,y = -37,37   # G: False\n",
    "\n",
    "# write here\n",
    "dist = math.sqrt(x**2 + y**2)\n",
    "dist < r"
   ]
  },
  {
   "cell_type": "raw",
   "id": "adb7813b",
   "metadata": {
    "format": "text/html"
   },
   "source": [
    "</div>"
   ]
  },
  {
   "cell_type": "code",
   "execution_count": 13,
   "metadata": {},
   "outputs": [
    {
     "data": {
      "text/plain": [
       "True"
      ]
     },
     "execution_count": 13,
     "metadata": {},
     "output_type": "execute_result"
    }
   ],
   "source": [
    "import math\n",
    "\n",
    "r = 50\n",
    "\n",
    "x,y = 35,20     # A: True\n",
    "#x,y = 45,-40   # B: False\n",
    "#x,y = 10,-40   # C: True\n",
    "#x,y = -41,-46  # D: False\n",
    "#x,y = -30,-10  # E: True\n",
    "#x,y = -35,35   # F: True\n",
    "#x,y = -37,37   # G: False\n",
    "\n",
    "# write here\n",
    "\n"
   ]
  },
  {
   "cell_type": "markdown",
   "metadata": {},
   "source": [
    "### Exercise - fractioning\n",
    "\n",
    "✪ Write some code to calculate the value of the following formula for  `x = 0.000003`, you should obtain `2.753278226511882`"
   ]
  },
  {
   "cell_type": "markdown",
   "metadata": {},
   "source": [
    "$$\\Large -\\frac{\\sqrt{x+3}}{\\frac{(x + 2)^3}{\\log{x}}}$$"
   ]
  },
  {
   "cell_type": "raw",
   "id": "facb40ff",
   "metadata": {
    "format": "text/html"
   },
   "source": [
    "<a  class=\"jupman-sol jupman-sol-toggler\" \n",
    " onclick=\"jupman.toggleSolution(this);\" \n",
    " data-jupman-show=\"Show solution\" data-jupman-hide=\"Hide\">Show solution</a><div class=\"jupman-sol jupman-sol-code\" style=\"display:none\">  "
   ]
  },
  {
   "cell_type": "code",
   "execution_count": 14,
   "metadata": {},
   "outputs": [
    {
     "data": {
      "text/plain": [
       "2.753278226511882"
      ]
     },
     "execution_count": 14,
     "metadata": {},
     "output_type": "execute_result"
    }
   ],
   "source": [
    "x = 0.000003\n",
    "\n",
    "# write here\n",
    "import math\n",
    "- math.sqrt(x+3) / (((x+2)**3)/math.log(x))"
   ]
  },
  {
   "cell_type": "raw",
   "id": "7f8b15e9",
   "metadata": {
    "format": "text/html"
   },
   "source": [
    "</div>"
   ]
  },
  {
   "cell_type": "code",
   "execution_count": 14,
   "metadata": {},
   "outputs": [
    {
     "data": {
      "text/plain": [
       "2.753278226511882"
      ]
     },
     "execution_count": 14,
     "metadata": {},
     "output_type": "execute_result"
    }
   ],
   "source": [
    "x = 0.000003\n",
    "\n",
    "# write here\n",
    "\n"
   ]
  },
  {
   "cell_type": "markdown",
   "metadata": {},
   "source": [
    "### Exercise - summation\n",
    "\n",
    "Write some code to calculate the value of the following expression (don't use cycles, write down all calculations), you should obtain `20.53333333333333`"
   ]
  },
  {
   "cell_type": "markdown",
   "metadata": {},
   "source": [
    "$$\\normalsize \\sum_{j=1}^{3}{\\frac{j^4}{j + 2}}$$"
   ]
  },
  {
   "cell_type": "raw",
   "id": "89aad4c1",
   "metadata": {
    "format": "text/html"
   },
   "source": [
    "<a  class=\"jupman-sol jupman-sol-toggler\" \n",
    " onclick=\"jupman.toggleSolution(this);\" \n",
    " data-jupman-show=\"Show solution\" data-jupman-hide=\"Hide\">Show solution</a><div class=\"jupman-sol jupman-sol-code\" style=\"display:none\">  "
   ]
  },
  {
   "cell_type": "code",
   "execution_count": 15,
   "metadata": {},
   "outputs": [
    {
     "data": {
      "text/plain": [
       "20.53333333333333"
      ]
     },
     "execution_count": 15,
     "metadata": {},
     "output_type": "execute_result"
    }
   ],
   "source": [
    "# write here\n",
    "((1**4) / (1+2)) + ((2**4) / (2+2)) + ((3**4) / (3+2))"
   ]
  },
  {
   "cell_type": "raw",
   "id": "ea5b8063",
   "metadata": {
    "format": "text/html"
   },
   "source": [
    "</div>"
   ]
  },
  {
   "cell_type": "code",
   "execution_count": 15,
   "metadata": {},
   "outputs": [
    {
     "data": {
      "text/plain": [
       "20.53333333333333"
      ]
     },
     "execution_count": 15,
     "metadata": {},
     "output_type": "execute_result"
    }
   ],
   "source": [
    "# write here\n",
    "\n"
   ]
  },
  {
   "cell_type": "markdown",
   "metadata": {},
   "source": [
    "### Reals - conversion\n",
    "\n",
    "If we want to convert a real to an integer, several ways are available:\n",
    "\n",
    "\n",
    "|Function|Description|Mathematical symbol|Result|\n",
    "|--------|-----------|------------------|---------|\n",
    "|`math.floor(x)`| round x to inferior integer|$$\\lfloor{8.7}\\rfloor$$|8|\n",
    "|`int(x)`| round x to inferior integer|$$\\lfloor{8.7}\\rfloor$$|8|\n",
    "|`math.ceil(x)`| round x to superior integer|$$\\lceil{5.3}\\rceil$$|6|\n",
    "|`round(x)`| round x to closest integer|$$\\lfloor{2.49}\\rceil$$|2|\n",
    "|          | |$$\\lfloor{2.51}\\rceil$$|3|\n"
   ]
  },
  {
   "cell_type": "markdown",
   "metadata": {},
   "source": [
    "**QUESTION**: Look at the following expressions, and for each of them try to guess which result it produces (or if it gives an error).\n",
    "\n",
    "1.  ```python\n",
    "    math.floor(2.3)\n",
    "    ```\n",
    "1.  ```python\n",
    "    math.floor(-2.3)\n",
    "    ```\n",
    "1.  ```python\n",
    "    round(3.49)\n",
    "    ```\n",
    "1.  ```python\n",
    "    round(3.51)\n",
    "    ```    \n",
    "1.  ```python\n",
    "    round(-3.49)\n",
    "    ```    \n",
    "1.  ```python\n",
    "    round(-3.51)\n",
    "    ```\n",
    "1.  ```python\n",
    "    math.ceil(8.1)\n",
    "    ```\n",
    "1.  ```python\n",
    "    math.ceil(-8.1)\n",
    "    ```    "
   ]
  },
  {
   "cell_type": "markdown",
   "metadata": {},
   "source": [
    "**QUESTION**: Given a float `x`, the following formula is:\n",
    "        \n",
    "```python\n",
    "math.floor(math.ceil(x)) == math.ceil(math.floor(x))\n",
    "```\n",
    "\n",
    "1. always `True`\n",
    "2. always  `False`\n",
    "3. sometimes `True` and sometimes `False` (give examples)"
   ]
  },
  {
   "cell_type": "raw",
   "id": "bf04061b",
   "metadata": {
    "format": "text/html"
   },
   "source": [
    "<a  class=\"jupman-sol jupman-sol-toggler\" \n",
    " onclick=\"jupman.toggleSolution(this);\" \n",
    " data-jupman-show=\"Show answer\" data-jupman-hide=\"Hide\">Show answer</a><div class=\"jupman-sol jupman-sol-question\" style=\"display:none\">  "
   ]
  },
  {
   "cell_type": "markdown",
   "metadata": {},
   "source": [
    "**ANSWER**: 3: for integers like `x=2.0` it is `True`, in other cases like `x=2.3` it is `False`"
   ]
  },
  {
   "cell_type": "raw",
   "id": "669f703d",
   "metadata": {
    "format": "text/html"
   },
   "source": [
    "</div>"
   ]
  },
  {
   "cell_type": "markdown",
   "metadata": {},
   "source": [
    "**QUESTION**: Given a float `x`, the following formula is:\n",
    "        \n",
    "```python\n",
    "math.floor(x) == -math.ceil(-x)\n",
    "```\n",
    "\n",
    "1. always `True`\n",
    "2. always `False`\n",
    "3. sometimes `True` and sometimes `False` (give examples)"
   ]
  },
  {
   "cell_type": "raw",
   "id": "9b60ca3b",
   "metadata": {
    "format": "text/html"
   },
   "source": [
    "<a  class=\"jupman-sol jupman-sol-toggler\" \n",
    " onclick=\"jupman.toggleSolution(this);\" \n",
    " data-jupman-show=\"Show answer\" data-jupman-hide=\"Hide\">Show answer</a><div class=\"jupman-sol jupman-sol-question\" style=\"display:none\">  "
   ]
  },
  {
   "cell_type": "markdown",
   "metadata": {},
   "source": [
    "**ANSWER**:  1."
   ]
  },
  {
   "cell_type": "raw",
   "id": "d511ba62",
   "metadata": {
    "format": "text/html"
   },
   "source": [
    "</div>"
   ]
  },
  {
   "cell_type": "markdown",
   "metadata": {},
   "source": [
    "### Exercise -  Invigorate\n",
    "\n",
    "✪ Excessive studies lead you search on internet recipes of energetic drinks. Luckily, a guru of nutrition just posted on her Instagram channel @HealthyDrink this recipe of a miracle drink:\n",
    "\n",
    "> Pour in a mixer 2 decilitres of kiwi juice, 4 decilitres of soy sauce, and 3 decilitres of shampoo of karitè bio. Mix vigorously and then pour half drink into a glass. Fill the glass until the superior deciliter. Swallow in one shot.\n",
    "\n",
    "You run shopping the ingredients, and get ready for mixing them. You have a measuring cup with which you transfer the precious fluids, one by one. While transfering, you always pour a little bit more than necessary (but never more than 1 decilitre), and for each ingredient you then remove the excess.\n",
    "\n",
    "\n",
    "* **DO NOT** use subtractions, try using only rounding operators"
   ]
  },
  {
   "cell_type": "markdown",
   "metadata": {},
   "source": [
    "Example - given:\n",
    "\n",
    "```python\n",
    "kiwi = 2.4\n",
    "soia = 4.8\n",
    "shampoo = 3.1\n",
    "measuring_cup = 0.0\n",
    "mixer = 0\n",
    "glass = 0.0\n",
    "```\n",
    "\n",
    "Your code must print:\n",
    "\n",
    "```\n",
    "I pour into the measuring cup 2.4 dl of kiwi juice, then I remove excess until keeping 2 dl\n",
    "I transfer into the mixer, now it contains 2.0 dl\n",
    "I pour into the measuring cup 4.8 dl of soia, then I remove excess until keeping 4 dl\n",
    "I transfer into the mixer, now it contains 6.0 dl\n",
    "I pour into the measuring cup 3.1 dl of shampoo, then I remove excess until keeping 3 dl\n",
    "I transfer into the mixer, now it contains 9.0 dl\n",
    "I pour half of the mix ( 4.5 dl ) into the glass\n",
    "I fill the glass until superior deciliter, now it contains: 5 dl\n",
    "```"
   ]
  },
  {
   "cell_type": "raw",
   "id": "52b6efad",
   "metadata": {
    "format": "text/html"
   },
   "source": [
    "<a  class=\"jupman-sol jupman-sol-toggler\" \n",
    " onclick=\"jupman.toggleSolution(this);\" \n",
    " data-jupman-show=\"Show solution\" data-jupman-hide=\"Hide\">Show solution</a><div class=\"jupman-sol jupman-sol-code\" style=\"display:none\">  "
   ]
  },
  {
   "cell_type": "code",
   "execution_count": 16,
   "metadata": {
    "scrolled": false
   },
   "outputs": [
    {
     "name": "stdout",
     "output_type": "stream",
     "text": [
      "I pour into the measuring cup 2.4 dl of kiwi juice, then I remove excess until keeping 2 dl\n",
      "I transfer into the mixer, now it contains 2.0 dl\n",
      "I pour into the measuring cup 4.8 dl of soia, then I remove excess until keeping 4 dl\n",
      "I transfer into the mixer, now it contains 6.0 dl\n",
      "I pour into the measuring cup 3.1 dl of shampoo, then I remove excess until keeping 3 dl\n",
      "I transfer into the mixer, now it contains 9.0 dl\n",
      "I pour half of the mix ( 4.5 dl ) into the glass\n",
      "I fill the glass until superior deciliter, now it contains: 5 dl\n"
     ]
    }
   ],
   "source": [
    "import math \n",
    "\n",
    "kiwi = 2.4\n",
    "soy = 4.8\n",
    "shampoo = 3.1\n",
    "measuring_cup = 0.0\n",
    "mixer = 0.0\n",
    "glass = 0.0\n",
    "\n",
    "\n",
    "# write here\n",
    "print('I pour into the measuring cup', kiwi, 'dl of kiwi juice, then I remove excess until keeping', int(kiwi), 'dl')\n",
    "mixer += int(kiwi)\n",
    "print('I transfer into the mixer, now it contains', mixer, 'dl')\n",
    "print('I pour into the measuring cup', soy, 'dl of soia, then I remove excess until keeping', int(soy), 'dl')\n",
    "mixer += int(soy)\n",
    "print('I transfer into the mixer, now it contains', mixer, 'dl')\n",
    "print('I pour into the measuring cup', shampoo, 'dl of shampoo, then I remove excess until keeping', int(shampoo), 'dl') \n",
    "mixer += int(shampoo)\n",
    "print('I transfer into the mixer, now it contains', mixer, 'dl')\n",
    "glass = mixer/2\n",
    "print('I pour half of the mix (', glass, 'dl ) into the glass')\n",
    "print('I fill the glass until superior deciliter, now it contains:', math.ceil(glass), 'dl')\n"
   ]
  },
  {
   "cell_type": "raw",
   "id": "f9203780",
   "metadata": {
    "format": "text/html"
   },
   "source": [
    "</div>"
   ]
  },
  {
   "cell_type": "code",
   "execution_count": 16,
   "metadata": {
    "scrolled": false
   },
   "outputs": [
    {
     "name": "stdout",
     "output_type": "stream",
     "text": [
      "I pour into the measuring cup 2.4 dl of kiwi juice, then I remove excess until keeping 2 dl\n",
      "I transfer into the mixer, now it contains 2.0 dl\n",
      "I pour into the measuring cup 4.8 dl of soia, then I remove excess until keeping 4 dl\n",
      "I transfer into the mixer, now it contains 6.0 dl\n",
      "I pour into the measuring cup 3.1 dl of shampoo, then I remove excess until keeping 3 dl\n",
      "I transfer into the mixer, now it contains 9.0 dl\n",
      "I pour half of the mix ( 4.5 dl ) into the glass\n",
      "I fill the glass until superior deciliter, now it contains: 5 dl\n"
     ]
    }
   ],
   "source": [
    "import math \n",
    "\n",
    "kiwi = 2.4\n",
    "soy = 4.8\n",
    "shampoo = 3.1\n",
    "measuring_cup = 0.0\n",
    "mixer = 0.0\n",
    "glass = 0.0\n",
    "\n",
    "\n",
    "# write here\n",
    "\n"
   ]
  },
  {
   "cell_type": "markdown",
   "metadata": {},
   "source": [
    "### Exercise - roundminder\n",
    "\n",
    "✪ Write some code to calculate the value of the following formula for `x = -5.51`, you should obtain `41`\n",
    "\n",
    "\n",
    "$$\\large \\lvert{\\lceil{x}\\rceil}\\rvert + \\lfloor{x}\\rceil^2$$"
   ]
  },
  {
   "cell_type": "raw",
   "id": "625abd28",
   "metadata": {
    "format": "text/html"
   },
   "source": [
    "<a  class=\"jupman-sol jupman-sol-toggler\" \n",
    " onclick=\"jupman.toggleSolution(this);\" \n",
    " data-jupman-show=\"Show solution\" data-jupman-hide=\"Hide\">Show solution</a><div class=\"jupman-sol jupman-sol-code\" style=\"display:none\">  "
   ]
  },
  {
   "cell_type": "code",
   "execution_count": 17,
   "metadata": {},
   "outputs": [
    {
     "data": {
      "text/plain": [
       "41"
      ]
     },
     "execution_count": 17,
     "metadata": {},
     "output_type": "execute_result"
    }
   ],
   "source": [
    "import math \n",
    "\n",
    "x = -5.51   # 41\n",
    "#x = -5.49  # 30\n",
    "\n",
    "# write here\n",
    "abs(math.ceil(x)) + round(x)**2"
   ]
  },
  {
   "cell_type": "raw",
   "id": "f4633978",
   "metadata": {
    "format": "text/html"
   },
   "source": [
    "</div>"
   ]
  },
  {
   "cell_type": "code",
   "execution_count": 17,
   "metadata": {},
   "outputs": [
    {
     "data": {
      "text/plain": [
       "41"
      ]
     },
     "execution_count": 17,
     "metadata": {},
     "output_type": "execute_result"
    }
   ],
   "source": [
    "import math \n",
    "\n",
    "x = -5.51   # 41\n",
    "#x = -5.49  # 30\n",
    "\n",
    "# write here\n",
    "\n"
   ]
  },
  {
   "cell_type": "markdown",
   "metadata": {},
   "source": [
    "### Reals - equality\n",
    "\n",
    "\n",
    "<div class=\"alert alert-warning\">\n",
    "    \n",
    "**WARNING: what follows is valid for** ***all*** **programming languages!** \n",
    "    \n",
    "Some results will look weird but this is the way most processors (CPU) operates, independently from Python.    \n",
    "    \n",
    "</div>\n",
    "\n",
    "When floating point calculations are performed, the processor may introduce rounding errors due to limits of internal representation. Under the hood the numbers like floats are memorized in a sequence of binary code of 64 bits, according to _IEEE-754 floating point arithmetic_ standard: this imposes a physical limit to the precision of numbers, and sometimes we get surprises due to conversion from decimal to binary. For example, let's try printing `4.1`:"
   ]
  },
  {
   "cell_type": "code",
   "execution_count": 18,
   "metadata": {},
   "outputs": [
    {
     "name": "stdout",
     "output_type": "stream",
     "text": [
      "4.1\n"
     ]
    }
   ],
   "source": [
    "print(4.1)"
   ]
  },
  {
   "cell_type": "markdown",
   "metadata": {},
   "source": [
    "For our convenience Python is showing us `4.1`, but in reality a different number ended up in the processor memory! Which one? To discover what it hides, with `format` function we can explicitly format the number to, for example 55 digits of precision by using the `f` format specifier:"
   ]
  },
  {
   "cell_type": "code",
   "execution_count": 19,
   "metadata": {},
   "outputs": [
    {
     "data": {
      "text/plain": [
       "'4.0999999999999996447286321199499070644378662109375000000'"
      ]
     },
     "execution_count": 19,
     "metadata": {},
     "output_type": "execute_result"
    }
   ],
   "source": [
    "format(4.1, '.55f')"
   ]
  },
  {
   "cell_type": "markdown",
   "metadata": {},
   "source": [
    "We can then wonder what the result of this calculus might be:"
   ]
  },
  {
   "cell_type": "code",
   "execution_count": 20,
   "metadata": {},
   "outputs": [
    {
     "name": "stdout",
     "output_type": "stream",
     "text": [
      "4.1000000000000005\n"
     ]
    }
   ],
   "source": [
    "print(7.9 - 3.8)"
   ]
  },
  {
   "cell_type": "markdown",
   "metadata": {},
   "source": [
    "We note the result is still different from the expected one! By investigating further, we notice Python is not even showing all the digits:"
   ]
  },
  {
   "cell_type": "code",
   "execution_count": 21,
   "metadata": {},
   "outputs": [
    {
     "data": {
      "text/plain": [
       "'4.1000000000000005329070518200751394033432006835937500000'"
      ]
     },
     "execution_count": 21,
     "metadata": {},
     "output_type": "execute_result"
    }
   ],
   "source": [
    "format(7.9 - 3.8, '.55f')"
   ]
  },
  {
   "cell_type": "code",
   "execution_count": null,
   "metadata": {},
   "outputs": [],
   "source": []
  },
  {
   "cell_type": "markdown",
   "metadata": {},
   "source": [
    "What if wanted to know if the two calculations with float produce the 'same' result?\n",
    "\n",
    "<div class=\"alert alert-warning\">\n",
    "\n",
    "**WARNING: AVOID** `==` **WITH FLOATS!**\n",
    "       \n",
    "</div>\n",
    "\n",
    "To understand if the result between the two calculations with the floats is the same, **YOU CANNOT** use the `==` operator !"
   ]
  },
  {
   "cell_type": "code",
   "execution_count": 22,
   "metadata": {},
   "outputs": [
    {
     "data": {
      "text/plain": [
       "False"
      ]
     },
     "execution_count": 22,
     "metadata": {},
     "output_type": "execute_result"
    }
   ],
   "source": [
    "7.9 - 3.8 == 4.1    # TROUBLE AHEAD!"
   ]
  },
  {
   "cell_type": "markdown",
   "metadata": {},
   "source": [
    "Instead, you should prefer alternative that evaluate if a float number is _close_ to anoter, like for example the handy function [math.isclose](https://docs.python.org/3/library/math.html#math.isclose):"
   ]
  },
  {
   "cell_type": "code",
   "execution_count": 23,
   "metadata": {},
   "outputs": [
    {
     "data": {
      "text/plain": [
       "True"
      ]
     },
     "execution_count": 23,
     "metadata": {},
     "output_type": "execute_result"
    }
   ],
   "source": [
    "import math\n",
    "\n",
    "math.isclose(7.9 - 3.8, 4.1)   # MUCH BETTER"
   ]
  },
  {
   "cell_type": "markdown",
   "metadata": {},
   "source": [
    "By default `math.isclose` uses a precision of `1e-09`, but, if needed, you can also pass a tolerance limit in which the difference of the numbers must be so to be considered equal:"
   ]
  },
  {
   "cell_type": "code",
   "execution_count": 24,
   "metadata": {},
   "outputs": [
    {
     "data": {
      "text/plain": [
       "True"
      ]
     },
     "execution_count": 24,
     "metadata": {},
     "output_type": "execute_result"
    }
   ],
   "source": [
    "math.isclose(7.9 - 3.8, 4.1, abs_tol=0.000001)"
   ]
  },
  {
   "cell_type": "markdown",
   "metadata": {},
   "source": [
    "**QUESTION**: Can we perfectly represent the number $\\sqrt{2}$ as a `float`?"
   ]
  },
  {
   "cell_type": "raw",
   "id": "bae525d2",
   "metadata": {
    "format": "text/html"
   },
   "source": [
    "<a  class=\"jupman-sol jupman-sol-toggler\" \n",
    " onclick=\"jupman.toggleSolution(this);\" \n",
    " data-jupman-show=\"Show answer\" data-jupman-hide=\"Hide\">Show answer</a><div class=\"jupman-sol jupman-sol-question\" style=\"display:none\">  "
   ]
  },
  {
   "cell_type": "markdown",
   "metadata": {},
   "source": [
    "**ANSWER**: $\\sqrt{2}$ is irrational so there's no hope of a perfect representation, any calculation will always have a certain degree of imprecision."
   ]
  },
  {
   "cell_type": "raw",
   "id": "56f5ab0e",
   "metadata": {
    "format": "text/html"
   },
   "source": [
    "</div>"
   ]
  },
  {
   "cell_type": "markdown",
   "metadata": {},
   "source": [
    "**QUESTION**: Which of these expressions give the same result?\n",
    "\n",
    "```python    \n",
    "import math\n",
    "print('a)', math.sqrt(3)**2 == 3.0)\n",
    "print('b)', abs(math.sqrt(3)**2 - 3.0) < 0.0000001)\n",
    "print('c)', math.isclose(math.sqrt(3)**2, 3.0, abs_tol=0.0000001))\n",
    "```"
   ]
  },
  {
   "cell_type": "raw",
   "id": "2d57b10a",
   "metadata": {
    "format": "text/html"
   },
   "source": [
    "<a  class=\"jupman-sol jupman-sol-toggler\" \n",
    " onclick=\"jupman.toggleSolution(this);\" \n",
    " data-jupman-show=\"Show answer\" data-jupman-hide=\"Hide\">Show answer</a><div class=\"jupman-sol jupman-sol-question\" style=\"display:none\">  "
   ]
  },
  {
   "cell_type": "markdown",
   "metadata": {},
   "source": [
    "**ANSWER**: b) and c) give `True`. a) gives `False`, because durting floating point calculations rounding errors are made."
   ]
  },
  {
   "cell_type": "raw",
   "id": "72c44c83",
   "metadata": {
    "format": "text/html"
   },
   "source": [
    "</div>"
   ]
  },
  {
   "cell_type": "markdown",
   "metadata": {},
   "source": [
    "### Exercise - quadratic \n",
    "\n",
    "✪ Write some code to calculate the zeroes of the equation $ax^2-b = 0$ \n",
    "\n",
    "- Show numbers with **20 digits** of precision\n",
    "- At the end check that by substituting the value obtained `x` into the equation you actually obtain zero. \n",
    "\n",
    "Example - given:\n",
    "\n",
    "```python\n",
    "a = 11.0\n",
    "b = 3.3\n",
    "```\n",
    "\n",
    "after your code it must print:\n",
    "\n",
    "```\n",
    "11.0 * x**2 - 3.3 = 0  per x1 = 0.54772255750516607442\n",
    "11.0 * x**2 - 3.3 = 0  per x2 = -0.54772255750516607442\n",
    "Is 0.54772255750516607442 a solution? True\n",
    "Is -0.54772255750516607442 a solution? True\n",
    "```"
   ]
  },
  {
   "cell_type": "raw",
   "id": "afdd65da",
   "metadata": {
    "format": "text/html"
   },
   "source": [
    "<a  class=\"jupman-sol jupman-sol-toggler\" \n",
    " onclick=\"jupman.toggleSolution(this);\" \n",
    " data-jupman-show=\"Show solution\" data-jupman-hide=\"Hide\">Show solution</a><div class=\"jupman-sol jupman-sol-code\" style=\"display:none\">  "
   ]
  },
  {
   "cell_type": "code",
   "execution_count": 25,
   "metadata": {
    "scrolled": true
   },
   "outputs": [
    {
     "name": "stdout",
     "output_type": "stream",
     "text": [
      "11.0 * x**2 - 3.3 = 0  per x1 = 0.54772255750516607442\n",
      "11.0 * x**2 - 3.3 = 0  per x2 = -0.54772255750516607442\n",
      "Is 0.54772255750516607442 a solution? True\n",
      "Is -0.54772255750516607442 a solution? True\n"
     ]
    }
   ],
   "source": [
    "\n",
    "a = 11.0\n",
    "b = 3.3  \n",
    "\n",
    "# write here\n",
    "\n",
    "import math\n",
    "\n",
    "x1 = math.sqrt(b/a)\n",
    "x2 = -math.sqrt(b/a)\n",
    "\n",
    "print(a, \"* x**2 -\",b,\"= 0  per x1 =\", format(x1, '.20f'))\n",
    "print(a, \"* x**2 -\",b,\"= 0  per x2 =\", format(x2, '.20f'))\n",
    "\n",
    "# we need to change the default tolerance value\n",
    "print(\"Is\", format(x1, '.20f'), \"a solution?\", math.isclose(a*(x1**2) - b,0, abs_tol=0.00001))\n",
    "print(\"Is\", format(x2, '.20f'), \"a solution?\", math.isclose(a*((x2)**2) - b,0, abs_tol=0.00001))"
   ]
  },
  {
   "cell_type": "raw",
   "id": "6ba1ffd8",
   "metadata": {
    "format": "text/html"
   },
   "source": [
    "</div>"
   ]
  },
  {
   "cell_type": "code",
   "execution_count": 25,
   "metadata": {
    "scrolled": true
   },
   "outputs": [],
   "source": [
    "\n",
    "a = 11.0\n",
    "b = 3.3  \n",
    "\n",
    "# write here\n",
    "\n"
   ]
  },
  {
   "cell_type": "markdown",
   "metadata": {},
   "source": [
    "### Exercise - trendy\n",
    "\n",
    "✪✪ You are already thinking about next vacations, but there is a big problem: where do you go, if you don't have a _selfie-stick_? You cannot leave with this serious anxiety: to uniform yourself to this mass phenomena you must buy the stick which is most similar to others. You then conduct a rigourous statistical survey among turists obssessed by selfie sticks with the goal to find the most frequent brands of sticks, in other words, the _mode_ of the frequencies. You obtain these results:"
   ]
  },
  {
   "cell_type": "code",
   "execution_count": 26,
   "metadata": {},
   "outputs": [],
   "source": [
    "b1,b2,b3,b4,b5 = 'TooManyLikes', 'Boombasticks', 'Timewasters Inc', 'Vanity 3.0','TrashTrend' # brand\n",
    "f1,f2,f3,f4,f5 = 0.25, 0.3, 0.1, 0.05, 0.3   # frequencies (as percentages)"
   ]
  },
  {
   "cell_type": "markdown",
   "metadata": {},
   "source": [
    "We deduce that masses love selfie-sticks of the brand `'Boombasticks'` and `TrashTrend`, both in a tie with 30% turists each. Write some code which prints this result:\n",
    "\n",
    "```\n",
    "TooManyLikes is the most frequent? False ( 25.0 % )\n",
    "Boombasticks is the most frequent? True ( 30.0 % )\n",
    "Timewasters Inc is the most frequent? False ( 10.0 % )\n",
    "Vanity 3.0 is the most frequent? False ( 5.0 % )\n",
    "TrashTrend is the most frequent? True ( 30.0 % )\n",
    "```\n",
    "\n",
    "* **WARNING**: your code must work with **ANY** series of variables !!"
   ]
  },
  {
   "cell_type": "raw",
   "id": "5f8d87e1",
   "metadata": {
    "format": "text/html"
   },
   "source": [
    "<a  class=\"jupman-sol jupman-sol-toggler\" \n",
    " onclick=\"jupman.toggleSolution(this);\" \n",
    " data-jupman-show=\"Show solution\" data-jupman-hide=\"Hide\">Show solution</a><div class=\"jupman-sol jupman-sol-code\" style=\"display:none\">  "
   ]
  },
  {
   "cell_type": "code",
   "execution_count": 27,
   "metadata": {},
   "outputs": [
    {
     "name": "stdout",
     "output_type": "stream",
     "text": [
      "TooManyLikes is the most frequent? False ( 25.0 % )\n",
      "Boombasticks is the most frequent? True ( 30.0 % )\n",
      "Timewasters Inc is the most frequent? False ( 10.0 % )\n",
      "Vanity 3.0 is the most frequent? False ( 5.0 % )\n",
      "TrashTrend is the most frequent? True ( 30.0 % )\n"
     ]
    }
   ],
   "source": [
    "\n",
    "b1,b2,b3,b4,b5 = 'TooManyLikes', 'Boombasticks', 'Timewasters Inc', 'Vanity 3.0','TrashTrend'    # brand\n",
    "\n",
    "f1,f2,f3,f4,f5 = 0.25, 0.3, 0.1, 0.05, 0.3  # frequencies (as percentages)  False True False False True\n",
    "# CAREFUL, they look the same but it must work also with these!\n",
    "#f1,f2,f3,f4,f5 = 0.25, 0.3, 0.1, 0.05, 0.1 + 0.2  #  False True False False True\n",
    "                                        \n",
    "# write here\n",
    "mx = max(f1,f2,f3,f4,f5)\n",
    "print(b1, 'is the most frequent?', math.isclose(f1,mx), '(', format(f1*100.0, '.1f'),'% )')\n",
    "print(b2, 'is the most frequent?', math.isclose(f2,mx), '(', format(f2*100.0, '.1f'),'% )')\n",
    "print(b3, 'is the most frequent?', math.isclose(f3,mx), '(', format(f3*100.0, '.1f'),'% )')\n",
    "print(b4, 'is the most frequent?', math.isclose(f4,mx), '(', format(f4*100.0, '.1f'),'% )')\n",
    "print(b5, 'is the most frequent?', math.isclose(f5,mx), '(', format(f5*100.0, '.1f'),'% )')"
   ]
  },
  {
   "cell_type": "raw",
   "id": "8efac74f",
   "metadata": {
    "format": "text/html"
   },
   "source": [
    "</div>"
   ]
  },
  {
   "cell_type": "code",
   "execution_count": 27,
   "metadata": {},
   "outputs": [],
   "source": [
    "\n",
    "b1,b2,b3,b4,b5 = 'TooManyLikes', 'Boombasticks', 'Timewasters Inc', 'Vanity 3.0','TrashTrend'    # brand\n",
    "\n",
    "f1,f2,f3,f4,f5 = 0.25, 0.3, 0.1, 0.05, 0.3  # frequencies (as percentages)  False True False False True\n",
    "# CAREFUL, they look the same but it must work also with these!\n",
    "#f1,f2,f3,f4,f5 = 0.25, 0.3, 0.1, 0.05, 0.1 + 0.2  #  False True False False True\n",
    "                                        \n",
    "# write here\n",
    "\n"
   ]
  },
  {
   "cell_type": "markdown",
   "metadata": {},
   "source": [
    "## Decimal numbers\n",
    "\n",
    "For most applications float numbers are sufficient, if you are conscius of their limits of representation and equality.  If you really need more precision and/or preditability, Python offers a dedicated numeric type  called `Decimal`, which allows arbitrary precision. To use it, you must first import `decimal` library:"
   ]
  },
  {
   "cell_type": "code",
   "execution_count": 28,
   "metadata": {},
   "outputs": [],
   "source": [
    "from decimal import Decimal"
   ]
  },
  {
   "cell_type": "markdown",
   "metadata": {},
   "source": [
    "You can create a  `Decimal` from a string:"
   ]
  },
  {
   "cell_type": "code",
   "execution_count": 29,
   "metadata": {},
   "outputs": [
    {
     "data": {
      "text/plain": [
       "Decimal('4.1')"
      ]
     },
     "execution_count": 29,
     "metadata": {},
     "output_type": "execute_result"
    }
   ],
   "source": [
    "Decimal('4.1')"
   ]
  },
  {
   "cell_type": "markdown",
   "metadata": {},
   "source": [
    "<div class=\"alert alert-warning\">\n",
    "\n",
    "**WARNING: if you create a Decimal from a costant, use a string!**    \n",
    "   \n",
    "</div>"
   ]
  },
  {
   "cell_type": "markdown",
   "metadata": {},
   "source": [
    "If you pass a `float` you risk losing the utility of Decimals:"
   ]
  },
  {
   "cell_type": "code",
   "execution_count": 30,
   "metadata": {},
   "outputs": [
    {
     "data": {
      "text/plain": [
       "Decimal('4.0999999999999996447286321199499070644378662109375')"
      ]
     },
     "execution_count": 30,
     "metadata": {},
     "output_type": "execute_result"
    }
   ],
   "source": [
    "Decimal(4.1)  # this way I keep the problems of floats ... "
   ]
  },
  {
   "cell_type": "markdown",
   "metadata": {},
   "source": [
    "Operations between `Decimal`s produce other `Decimal`s:"
   ]
  },
  {
   "cell_type": "code",
   "execution_count": 31,
   "metadata": {},
   "outputs": [
    {
     "data": {
      "text/plain": [
       "Decimal('4.1')"
      ]
     },
     "execution_count": 31,
     "metadata": {},
     "output_type": "execute_result"
    }
   ],
   "source": [
    "Decimal('7.9') - Decimal('3.8')"
   ]
  },
  {
   "cell_type": "markdown",
   "metadata": {},
   "source": [
    "This time, we can freely use the equality operator and obtain the same result:"
   ]
  },
  {
   "cell_type": "code",
   "execution_count": 32,
   "metadata": {},
   "outputs": [
    {
     "data": {
      "text/plain": [
       "True"
      ]
     },
     "execution_count": 32,
     "metadata": {},
     "output_type": "execute_result"
    }
   ],
   "source": [
    "Decimal('4.1') == Decimal('7.9') - Decimal('3.8')"
   ]
  },
  {
   "cell_type": "markdown",
   "metadata": {},
   "source": [
    "Some mathematical functions are also supported, and often they behave more predictably (note we are **not** using `math.sqrt`):"
   ]
  },
  {
   "cell_type": "code",
   "execution_count": 33,
   "metadata": {},
   "outputs": [
    {
     "data": {
      "text/plain": [
       "Decimal('1.414213562373095048801688724')"
      ]
     },
     "execution_count": 33,
     "metadata": {},
     "output_type": "execute_result"
    }
   ],
   "source": [
    "Decimal('2').sqrt()"
   ]
  },
  {
   "cell_type": "markdown",
   "metadata": {},
   "source": [
    "<div class=\"alert alert-warning\">\n",
    "    \n",
    "**Remember: computer memory is still finite!**\n",
    "</div>\n",
    "\n",
    "Decimals can't be solve all problems in the universe: for example,$\\sqrt{2}$ will never fit the memory of any computer! We can verify the limitations by squaring it:"
   ]
  },
  {
   "cell_type": "code",
   "execution_count": 34,
   "metadata": {},
   "outputs": [
    {
     "data": {
      "text/plain": [
       "Decimal('1.999999999999999999999999999')"
      ]
     },
     "execution_count": 34,
     "metadata": {},
     "output_type": "execute_result"
    }
   ],
   "source": [
    "Decimal('2').sqrt()**Decimal('2')"
   ]
  },
  {
   "cell_type": "markdown",
   "metadata": {},
   "source": [
    "\n",
    "The only thing we can have more with Decimals is more digits to represent numbers, which if we want we can [increase at will](https://docs.python.org/3/library/decimal.html) until we fill our pc memory. In this book we won't talk anymore about Decimals because typically they are meant only for specific applications, for example, if you need to perform fincancial calculations you will probably want very exact digits!"
   ]
  },
  {
   "cell_type": "markdown",
   "metadata": {},
   "source": [
    "## Continue\n",
    "\n",
    "Go on with [the challenges](https://en.softpython.org/basics/basics4-chal.html)"
   ]
  }
 ],
 "metadata": {
  "celltoolbar": "Edit Metadata",
  "kernelspec": {
   "display_name": "Python 3 (ipykernel)",
   "language": "python",
   "name": "python3"
  },
  "language_info": {
   "codemirror_mode": {
    "name": "ipython",
    "version": 3
   },
   "file_extension": ".py",
   "mimetype": "text/x-python",
   "name": "python",
   "nbconvert_exporter": "python",
   "pygments_lexer": "ipython3",
   "version": "3.7.10"
  },
  "toc": {
   "base_numbering": 1,
   "nav_menu": {},
   "number_sections": false,
   "sideBar": true,
   "skip_h1_title": false,
   "title_cell": "Table of Contents",
   "title_sidebar": "Contents",
   "toc_cell": false,
   "toc_position": {
    "height": "calc(100% - 180px)",
    "left": "10px",
    "top": "150px",
    "width": "280.2px"
   },
   "toc_section_display": true,
   "toc_window_display": false
  }
 },
 "nbformat": 4,
 "nbformat_minor": 2
}
