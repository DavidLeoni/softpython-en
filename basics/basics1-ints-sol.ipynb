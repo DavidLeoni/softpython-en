{
 "cells": [
  {
   "cell_type": "code",
   "execution_count": 1,
   "metadata": {
    "nbsphinx": "hidden"
   },
   "outputs": [],
   "source": [
    "# Remember to execute this cell with Shift+Enter\n",
    "import jupman"
   ]
  },
  {
   "cell_type": "markdown",
   "metadata": {},
   "source": [
    "# Python basics\n",
    "\n",
    "## [Download exercises zip](../_static/generated/basics.zip)\n",
    "\n",
    "[Browse online files](https://github.com/DavidLeoni/softpython-en/tree/master/basics)\n",
    "\n",
    "<div class=\"alert alert-warning\">\n",
    "\n",
    "**PREREQUISITES:**\n",
    "    \n",
    "* **Having installed Python 3 and Jupyter:** if you haven't already, look [Installation](https://en.softpython.org/installation.html)\n",
    "* **Having read** [Tools and scripts](https://en.softpython.org/tools/tools-sol.html)\n",
    "\n",
    "</div>"
   ]
  },
  {
   "cell_type": "markdown",
   "metadata": {},
   "source": [
    "## Jupyter\n",
    "\n",
    "Jupyter is an editor that allows working on so called _notebooks,_ which are files ending with the extension `.ipynb`. They are documents divided in cells where for each cell you can insert commands and immediately see the respective output. Let's try to open this."
   ]
  },
  {
   "cell_type": "markdown",
   "metadata": {},
   "source": [
    "1. Unzip [exercises zip](../_static/generated/basics.zip) in a folder, you should obtain something like this:\n",
    "\n",
    "```\n",
    "\n",
    "basics\n",
    "    basics1-ints.ipynb\n",
    "    basics1-ints-sol.ipynb    \n",
    "    basics2-bools.ipynb\n",
    "    basics2-bools-sol.ipynb    \n",
    "    basics3-floats.ipynb\n",
    "    basics3-floats-sol.ipynb   \n",
    "    basics4-chal.ipynb\n",
    "    jupman.py\n",
    "```\n",
    "\n",
    "<div class=\"alert alert-warning\">\n",
    "\n",
    "**WARNING: to correctly visualize the notebook, it MUST be in an unzipped folder !**\n",
    "</div>\n"
   ]
  },
  {
   "cell_type": "markdown",
   "metadata": {},
   "source": [
    "\n",
    "2. open Jupyter Notebook. Two things should appear, first a console and then a browser. In the browser navigate the files to reach the unzipped folder, and open the notebook `basics1-ints.ipynb`\n",
    "\n",
    "<div class=\"alert alert-warning\">\n",
    "\n",
    "**WARNING: open the notebook WITHOUT the** `-sol` **at the end!**\n",
    "    \n",
    "Seeing now the solutions is too easy ;-)    \n",
    "    \n",
    "</div>\n",
    "\n",
    "3. Go on reading the exercises file, sometimes you will find paragraphs marked **Exercises** which will ask to write Python commands in the following cells.\n",
    "\n",
    "<div class=\"alert alert-warning\">\n",
    "\n",
    "**WARNING: In this book we use ONLY PYTHON 3** <br/>\n",
    "\n",
    "If you obtain weird behaviours, check you are using Python 3 and not 2. If by typing `python` your operating system runs python 2, try executing `python3`\n",
    "    \n",
    "</div>"
   ]
  },
  {
   "cell_type": "markdown",
   "metadata": {},
   "source": [
    "\n",
    "Shortcut keys:\n",
    "\n",
    "- to execute Python code inside a Jupyter cell, press `Control + Enter`\n",
    "\n",
    "- to execute Python code inside a Jupyter cell AND select next cell, press `Shift + Enter`\n",
    "\n",
    "- to execute Python code inside a Jupyter cell AND a create a new cell aftwerwards, press `Alt + Enter`\n",
    "\n",
    "- If the notebooks look stuck, try to select `Kernel -> Restart`"
   ]
  },
  {
   "cell_type": "markdown",
   "metadata": {},
   "source": [
    "\n",
    "## Objects\n",
    "\n",
    "In Python everything is an object. Objects have **properties** (fields where to save values) and **methods** (things they can do). For example, an object **car** has the _properties_ model, brand, color, numer of doors, etc ... and the _methods_ turn right, turn left, accelerate, brake, shift gear ...\n",
    "\n",
    "According to Python official documentation:\n",
    "\n",
    "\n",
    "    \"Objects are Python’s abstraction for data. All data in a Python program is represented by objects or by relations between objects.\"\n",
    "\n",
    "For now it's enough to know that Python objects have an **identifier** (like, their name), a **type** (numbers, text, collections, ...) and a **value** (the actual value represented by objects). Once the object has been created the _identifier_ and the _type_ never change, while the _value_ may change (**mutable objects**) or remain constant (**immutable objects**)."
   ]
  },
  {
   "cell_type": "markdown",
   "metadata": {},
   "source": [
    "\n",
    "Python provides these predefined types ( _built-in_ ):\n",
    "\n",
    "|Type|Meaning|Domain|Mutable?| \n",
    "|----|-----------|-------|---------|\n",
    "|`bool`|Condition|`True`, `False`| no|\n",
    "|`int`|Integer|$\\mathbb{Z}$| no|\n",
    "|`long`|Integer|$\\mathbb{Z}$| no|\n",
    "|`float`|Rational|$\\mathbb{Q}$ (more or less)| no|\n",
    "|`str`|Text|Text| no|\n",
    "|`list`|Sequence|Collezione di oggetti| yes|\n",
    "|`tuple`|Sequence|Collezione di oggetti| no|\n",
    "|`set`|Set|Collezione di oggetti|yes|\n",
    "|`dict`|Mapping|Mapping between objects| yes|\n",
    "\n",
    "\n",
    "For now we will consider only the simplest ones, later in the book we will deep dive in each of them."
   ]
  },
  {
   "cell_type": "markdown",
   "metadata": {},
   "source": [
    "## Variables\n",
    "\n",
    "Variables are associations among names and objects (we can call them values).\n",
    "\n",
    "Variables can be associated, or in a more technical term, _assigned_ to objects by using the assignment operator `=`.\n",
    "\n",
    "The instruction"
   ]
  },
  {
   "cell_type": "code",
   "execution_count": 2,
   "metadata": {},
   "outputs": [],
   "source": [
    "diamonds = 4"
   ]
  },
  {
   "cell_type": "markdown",
   "metadata": {},
   "source": [
    "may represent how many precious stones we keed in the safe. What happens when we execute it in Python?\n",
    "\n",
    "- an object is created\n",
    "- its type is set to `int` (an integer number)\n",
    "- its value is set to `4`\n",
    "- a name `diamonds` is create in the environment and assigned to that object"
   ]
  },
  {
   "cell_type": "markdown",
   "metadata": {},
   "source": [
    "### Detect the type of a variable\n",
    "\n",
    "When you see a variable or costant and you wonder what type it could have, you can use the predefined function `type`:"
   ]
  },
  {
   "cell_type": "code",
   "execution_count": 3,
   "metadata": {},
   "outputs": [
    {
     "data": {
      "text/plain": [
       "int"
      ]
     },
     "execution_count": 3,
     "metadata": {},
     "output_type": "execute_result"
    }
   ],
   "source": [
    "type(diamonds)"
   ]
  },
  {
   "cell_type": "code",
   "execution_count": 4,
   "metadata": {},
   "outputs": [
    {
     "data": {
      "text/plain": [
       "int"
      ]
     },
     "execution_count": 4,
     "metadata": {},
     "output_type": "execute_result"
    }
   ],
   "source": [
    "type(4)"
   ]
  },
  {
   "cell_type": "code",
   "execution_count": 5,
   "metadata": {},
   "outputs": [
    {
     "data": {
      "text/plain": [
       "float"
      ]
     },
     "execution_count": 5,
     "metadata": {},
     "output_type": "execute_result"
    }
   ],
   "source": [
    "type(4.0)"
   ]
  },
  {
   "cell_type": "code",
   "execution_count": 6,
   "metadata": {},
   "outputs": [
    {
     "data": {
      "text/plain": [
       "str"
      ]
     },
     "execution_count": 6,
     "metadata": {},
     "output_type": "execute_result"
    }
   ],
   "source": [
    "type(\"Hello\")"
   ]
  },
  {
   "cell_type": "markdown",
   "metadata": {},
   "source": [
    "### Reassign a variable\n",
    "\n",
    "Consider now the following code:"
   ]
  },
  {
   "cell_type": "code",
   "execution_count": 7,
   "metadata": {},
   "outputs": [
    {
     "name": "stdout",
     "output_type": "stream",
     "text": [
      "4\n"
     ]
    }
   ],
   "source": [
    "diamonds = 4\n",
    "\n",
    "print(diamonds)"
   ]
  },
  {
   "cell_type": "code",
   "execution_count": 8,
   "metadata": {},
   "outputs": [
    {
     "name": "stdout",
     "output_type": "stream",
     "text": [
      "5\n"
     ]
    }
   ],
   "source": [
    "diamonds = 5\n",
    "\n",
    "print(diamonds)"
   ]
  },
  {
   "cell_type": "markdown",
   "metadata": {},
   "source": [
    "The value of `diamonds` variable has been changed from `4` to `5`, but as reported in the previous table, the `int` type is **immutable**. Luckily, this didn't prevent us from changing the value `diamonds` from `4` to `5`. What happend behind the scenes? When we executed the instructions `diamonds = 5`, a new object of type `int` was created (the integer `5`) and made available with the same name `diamonds`"
   ]
  },
  {
   "cell_type": "markdown",
   "metadata": {},
   "source": [
    "### Reusing a variable\n",
    "\n",
    "When you reassign a variable to another value, to calculate the new value you can freely reuse the old value of the variable you want to change. For example, suppose to have the variable"
   ]
  },
  {
   "cell_type": "code",
   "execution_count": 9,
   "metadata": {},
   "outputs": [],
   "source": [
    "flowers = 4"
   ]
  },
  {
   "cell_type": "markdown",
   "metadata": {},
   "source": [
    "and you want to augment the number of `flowers` by one. You can write like this:"
   ]
  },
  {
   "cell_type": "code",
   "execution_count": 10,
   "metadata": {},
   "outputs": [],
   "source": [
    "flowers = flowers + 1"
   ]
  },
  {
   "cell_type": "markdown",
   "metadata": {},
   "source": [
    "What happened? When Python encounters a command with `=`, FIRST it calculates the value of the expression it finds to the right of the `=`, and THEN assigns that value to the variable to the left of the `=`.\n",
    "\n",
    "Given this order, FIRST in the expression on the right the old value is used (in this case `4`) and `1` is summed so to obtain `5` which is THEN assigned to `flowers`."
   ]
  },
  {
   "cell_type": "code",
   "execution_count": 11,
   "metadata": {},
   "outputs": [
    {
     "data": {
      "text/plain": [
       "5"
      ]
     },
     "execution_count": 11,
     "metadata": {},
     "output_type": "execute_result"
    }
   ],
   "source": [
    "flowers"
   ]
  },
  {
   "cell_type": "markdown",
   "metadata": {},
   "source": [
    "In a completely equivalent manner, we could rewrite the code like this, using a helper variable `x`. Let's try it in Python Tutor:"
   ]
  },
  {
   "cell_type": "code",
   "execution_count": 12,
   "metadata": {},
   "outputs": [],
   "source": [
    "# WARNING: to use the following jupman.pytut() function,\n",
    "# it is necessary first execute  this cell with Shift+Enter\n",
    "\n",
    "# it's enough to execute once, you can also find in all notebooks in the first cell.\n",
    "\n",
    "import jupman"
   ]
  },
  {
   "cell_type": "code",
   "execution_count": 13,
   "metadata": {},
   "outputs": [
    {
     "data": {
      "text/html": [
       "\n",
       "        <script src=\"../_static/js/pytutor-embed.bundle.min.js\" type=\"application/javascript\"></script>\n",
       "     \n",
       "        <script id=\"json-jm65d4bfc5-026f-434d-b158-129fb1f7dc3b\" type=\"application/json\" >\n",
       "            {\"code\": \" \\nflowers = 4   \\n\\nx = flowers + 1\\n\\nflowers = x\", \"trace\": [{\"line\": 2, \"event\": \"step_line\", \"func_name\": \"<module>\", \"globals\": {}, \"ordered_globals\": [], \"stack_to_render\": [], \"heap\": {}, \"stdout\": \"\"}, {\"line\": 4, \"event\": \"step_line\", \"func_name\": \"<module>\", \"globals\": {\"flowers\": 4}, \"ordered_globals\": [\"flowers\"], \"stack_to_render\": [], \"heap\": {}, \"stdout\": \"\"}, {\"line\": 6, \"event\": \"step_line\", \"func_name\": \"<module>\", \"globals\": {\"flowers\": 4, \"x\": 5}, \"ordered_globals\": [\"flowers\", \"x\"], \"stack_to_render\": [], \"heap\": {}, \"stdout\": \"\"}, {\"line\": 6, \"event\": \"return\", \"func_name\": \"<module>\", \"globals\": {\"flowers\": 5, \"x\": 5}, \"ordered_globals\": [\"flowers\", \"x\"], \"stack_to_render\": [], \"heap\": {}, \"stdout\": \"\"}]}\n",
       "        </script>\n",
       "        <div id=\"jm65d4bfc5-026f-434d-b158-129fb1f7dc3b\" class=\"pytutorVisualizer\"> </div>\n",
       " \n",
       "        <style>\n",
       "        .vizLayoutTd {\n",
       "            background-color: #fff !important;\n",
       "        }\n",
       "                            \n",
       "        #pyStdout {\n",
       "            min-height:25px;\n",
       "        }\n",
       "\n",
       "        /* 'Edit this code' link, hiding because replaces browser tab !!!*/\n",
       "        #editCodeLinkDiv {\n",
       "            display:none;  \n",
       "        }\n",
       "        </style>   \n",
       "                            \n",
       "        <script>\n",
       "        (function(){\n",
       "\n",
       "            var trace = JSON.parse(document.getElementById('json-jm65d4bfc5-026f-434d-b158-129fb1f7dc3b').innerHTML);                                        \n",
       "            // NOTE 1: id without #\n",
       "            // NOTE 2 - maybe there are more predictable ways, but this will work anyway\n",
       "            //        - id should be number\n",
       "            visualizerIdOverride = Math.trunc(Math.random() * 100000000000)\n",
       "            addVisualizerToPage(trace, 'jm65d4bfc5-026f-434d-b158-129fb1f7dc3b',{'embeddedMode' : false,\n",
       "                                             'visualizerIdOverride':visualizerIdOverride})  \n",
       "            \n",
       "            \n",
       "            // set overflow for pytuts - need to do in python as css \n",
       "            // does not allow parent selection\n",
       "            var pytuts = $('.pytutorVisualizer')\n",
       "            pytuts.closest('div.output_html.rendered_html.output_result')\n",
       "                    .css('overflow-x', 'visible')\n",
       "        \n",
       "            //pytuts.closest('div.output_html.rendered_html.output_result')\n",
       "            //      .css('background-color','red')                \n",
       "            \n",
       "        })()\n",
       "        </script>\n",
       "                \n",
       "                "
      ],
      "text/plain": [
       "<IPython.core.display.HTML object>"
      ]
     },
     "execution_count": 13,
     "metadata": {},
     "output_type": "execute_result"
    }
   ],
   "source": [
    "\n",
    "flowers = 4   \n",
    "\n",
    "x = flowers + 1\n",
    "\n",
    "flowers = x\n",
    "\n",
    "jupman.pytut()"
   ]
  },
  {
   "cell_type": "markdown",
   "metadata": {},
   "source": [
    "You can execute a sum and do an assignment at the same time with the `+=` notation"
   ]
  },
  {
   "cell_type": "code",
   "execution_count": 14,
   "metadata": {},
   "outputs": [
    {
     "name": "stdout",
     "output_type": "stream",
     "text": [
      "5\n"
     ]
    }
   ],
   "source": [
    "flowers = 4\n",
    "flowers += 1\n",
    "print(flowers)"
   ]
  },
  {
   "cell_type": "markdown",
   "metadata": {},
   "source": [
    "This notation is also valid for other arithetic operators:"
   ]
  },
  {
   "cell_type": "code",
   "execution_count": 15,
   "metadata": {},
   "outputs": [
    {
     "name": "stdout",
     "output_type": "stream",
     "text": [
      "4\n"
     ]
    }
   ],
   "source": [
    "flowers = 5\n",
    "flowers -= 1     # subtraction\n",
    "print(flowers)"
   ]
  },
  {
   "cell_type": "code",
   "execution_count": 16,
   "metadata": {},
   "outputs": [
    {
     "name": "stdout",
     "output_type": "stream",
     "text": [
      "12\n"
     ]
    }
   ],
   "source": [
    "flowers *= 3     # multiplication\n",
    "print(flowers)"
   ]
  },
  {
   "cell_type": "code",
   "execution_count": 17,
   "metadata": {},
   "outputs": [
    {
     "name": "stdout",
     "output_type": "stream",
     "text": [
      "6.0\n"
     ]
    }
   ],
   "source": [
    "flowers /= 2     # division\n",
    "print(flowers)"
   ]
  },
  {
   "cell_type": "markdown",
   "metadata": {},
   "source": [
    "### Assignments - questions\n",
    "\n",
    "**QUESTION**: Look at the following questions, and for each try to guess the result it produces (or if it gives an error). Try to verify your guess both in Jupyter and in another editor of `.py` files like Spyder:\n",
    "\n",
    "    \n",
    "1.  ```python\n",
    "    x = 1\n",
    "    x\n",
    "    x    \n",
    "    ```        \n",
    "1.  ```python\n",
    "    x = 1\n",
    "    x = 2\n",
    "    print(x)\n",
    "    ```    \n",
    "1.  ```python\n",
    "    x = 1\n",
    "    x = 2\n",
    "    x\n",
    "    ```     \n",
    "1.  ```python\n",
    "    x = 1\n",
    "    print(x)\n",
    "    x = 2\n",
    "    print(x)\n",
    "    ```        \n",
    "1.  ```python\n",
    "    print(zam)\n",
    "    print(zam)\n",
    "    zam = 1    \n",
    "    zam = 2    \n",
    "    ```    \n",
    "1.  ```python        \n",
    "    x = 5\n",
    "    print(x,x)\n",
    "    ```        \n",
    "1.  ```python        \n",
    "    x = 5\n",
    "    print(x)\n",
    "    print(x)\n",
    "    ```\n",
    "1.  ```python        \n",
    "    x = 3\n",
    "    print(x,x*x,x**x)\n",
    "    ```    \n",
    "1.  ```python\n",
    "    3 + 5 = x\n",
    "    print(x)\n",
    "    ```\n",
    "1.  ```python\n",
    "    3 + x = 1\n",
    "    print(x)\n",
    "    ```    \n",
    "1.  ```python\n",
    "    x + 3 = 2\n",
    "    print(x)\n",
    "    ```    \n",
    "1.  ```python\n",
    "    x = 2\n",
    "    x =+ 1 \n",
    "    print(x)\n",
    "    ```\n",
    "1.  ```python\n",
    "    x = 2\n",
    "    x = +1 \n",
    "    print(x)\n",
    "    ```    \n",
    "1.  ```python\n",
    "    x = 2\n",
    "    x += 1 \n",
    "    print(x)\n",
    "    ```        \n",
    "1.  ```python\n",
    "    x = 3\n",
    "    x *= 2 \n",
    "    print(x)\n",
    "    ```"
   ]
  },
  {
   "cell_type": "markdown",
   "metadata": {},
   "source": [
    "### Exercise - exchange\n",
    "\n",
    "✪ Given two variables `a` and `b`:\n",
    "\n",
    "```python\n",
    "a = 5\n",
    "b = 3\n",
    "```\n",
    "\n",
    "write some code that exchanges the two values, so that after your code it must result\n",
    "\n",
    "```python\n",
    ">>> print(a)\n",
    "3\n",
    ">>> print(b)\n",
    "5\n",
    "```\n",
    "\n",
    "- are two variables enough? If they aren't, try introducing a third one."
   ]
  },
  {
   "cell_type": "raw",
   "id": "f1a8bfd8",
   "metadata": {
    "format": "text/html"
   },
   "source": [
    "<a  class=\"jupman-sol jupman-sol-toggler\" \n",
    " onclick=\"jupman.toggleSolution(this);\" \n",
    " data-jupman-show=\"Show solution\" data-jupman-hide=\"Hide\">Show solution</a><div class=\"jupman-sol jupman-sol-code\" style=\"display:none\">  "
   ]
  },
  {
   "cell_type": "code",
   "execution_count": 18,
   "metadata": {},
   "outputs": [
    {
     "name": "stdout",
     "output_type": "stream",
     "text": [
      "3\n",
      "5\n"
     ]
    }
   ],
   "source": [
    "\n",
    "a = 5\n",
    "b = 3\n",
    "\n",
    "# write here\n",
    "temp = a   # associate 5 to temp variable, so we have a copy\n",
    "a = b      # reassign a to the value of b, that is 3\n",
    "b = temp   # reassign b to the value of temp, that is 5\n",
    "print(a)\n",
    "print(b)"
   ]
  },
  {
   "cell_type": "raw",
   "id": "2a7008cb",
   "metadata": {
    "format": "text/html"
   },
   "source": [
    "</div>"
   ]
  },
  {
   "cell_type": "code",
   "execution_count": 18,
   "metadata": {},
   "outputs": [],
   "source": [
    "\n",
    "a = 5\n",
    "b = 3\n",
    "\n",
    "# write here\n",
    "\n"
   ]
  },
  {
   "cell_type": "markdown",
   "metadata": {},
   "source": [
    "### Exercise - cycling\n",
    "\n",
    "✪ Write a program that given three variables with numebers `a`,`b`,`c`, cycles the values, that is, puts the value of `a` in `b`, the value of `b` in `c`, and the value of `c` in `a` .\n",
    "\n",
    "So if you begin like this:\n",
    "\n",
    "\n",
    "\n",
    "```python\n",
    "a = 4\n",
    "b = 7\n",
    "c = 9\n",
    "```\n",
    "\n",
    "After the code that you will write, by running this:\n",
    "\n",
    "\n",
    "```python\n",
    "print(a)\n",
    "print(b)\n",
    "print(c)\n",
    "```\n",
    "\n",
    "You should see:\n",
    "\n",
    "```\n",
    "9\n",
    "4\n",
    "7\n",
    "```\n",
    "\n",
    "There are various ways to do it, try to use **only one** temporary variable and be careful not to lose values !\n",
    "\n",
    "**HINT**: to help yourself, try to write down in comments the state of the memory, and think which command to do\n",
    "\n",
    "\n",
    "```python\n",
    "# a b c t    which command do I need?\n",
    "# 4 7 9\n",
    "# 4 7 9 7    t = b\n",
    "#\n",
    "#\n",
    "#\n",
    "```\n"
   ]
  },
  {
   "cell_type": "code",
   "execution_count": 19,
   "metadata": {},
   "outputs": [
    {
     "name": "stdout",
     "output_type": "stream",
     "text": [
      "4\n",
      "7\n",
      "9\n"
     ]
    }
   ],
   "source": [
    "a = 4\n",
    "b = 7\n",
    "c = 9\n",
    "\n",
    "# write code here\n",
    "\n",
    "print(a)\n",
    "print(b)\n",
    "print(c)"
   ]
  },
  {
   "cell_type": "raw",
   "id": "bee03d4c",
   "metadata": {
    "format": "text/html"
   },
   "source": [
    "<a  class=\"jupman-sol jupman-sol-toggler\" \n",
    " onclick=\"jupman.toggleSolution(this);\" \n",
    " data-jupman-show=\"Show solution\" data-jupman-hide=\"Hide\">Show solution</a><div class=\"jupman-sol jupman-sol-code\" style=\"display:none\">  "
   ]
  },
  {
   "cell_type": "code",
   "execution_count": 20,
   "metadata": {},
   "outputs": [
    {
     "name": "stdout",
     "output_type": "stream",
     "text": [
      "9\n",
      "4\n",
      "7\n"
     ]
    }
   ],
   "source": [
    "# SOLUTION\n",
    "\n",
    "a = 4\n",
    "b = 7\n",
    "c = 9\n",
    "\n",
    "\n",
    "# a b c t  which command do I need?\n",
    "# 4 7 9\n",
    "# 4 7 9 7  t = b\n",
    "# 4 4 9 7  b = a\n",
    "# 9 4 9 7  a = c\n",
    "# 9 4 7 7  c = t\n",
    "\n",
    "\n",
    "t = b\n",
    "b = a\n",
    "a = c\n",
    "c = t\n",
    "\n",
    "print(a)\n",
    "print(b)\n",
    "print(c)"
   ]
  },
  {
   "cell_type": "raw",
   "id": "fc03aac8",
   "metadata": {
    "format": "text/html"
   },
   "source": [
    "</div>"
   ]
  },
  {
   "cell_type": "code",
   "execution_count": 20,
   "metadata": {},
   "outputs": [
    {
     "name": "stdout",
     "output_type": "stream",
     "text": [
      "9\n",
      "4\n",
      "7\n"
     ]
    }
   ],
   "source": []
  },
  {
   "cell_type": "markdown",
   "metadata": {},
   "source": [
    "\n",
    "### Changing type during execution\n",
    "\n",
    "You can also change the type of a variable duting the program execution but normally it is a **bad habit** because it makes harder to understand the code, and increases the probability to commit errors. Let's make an example:"
   ]
  },
  {
   "cell_type": "code",
   "execution_count": 21,
   "metadata": {},
   "outputs": [],
   "source": [
    "diamonds = 4          # integer"
   ]
  },
  {
   "cell_type": "code",
   "execution_count": 22,
   "metadata": {},
   "outputs": [
    {
     "data": {
      "text/plain": [
       "6"
      ]
     },
     "execution_count": 22,
     "metadata": {},
     "output_type": "execute_result"
    }
   ],
   "source": [
    "diamonds + 2"
   ]
  },
  {
   "cell_type": "code",
   "execution_count": 23,
   "metadata": {},
   "outputs": [],
   "source": [
    "diamonds = \"four\"  # text"
   ]
  },
  {
   "cell_type": "markdown",
   "metadata": {},
   "source": [
    "Now that `diamonds` became text, if by mistake we try to treat it as if it were a number we will get an error !!\n",
    "\n",
    "```python\n",
    "diamonds + 2\n",
    "\n",
    "---------------------------------------------------------------------------\n",
    "TypeError                                 Traceback (most recent call last)\n",
    "<ipython-input-9-6124a47997d7> in <module>\n",
    "----> 1 diamonds + 2\n",
    "\n",
    "TypeError: can only concatenate str (not \"int\") to str\n",
    "\n",
    "```"
   ]
  },
  {
   "cell_type": "markdown",
   "metadata": {},
   "source": [
    "### Multiple commands on the same line\n",
    "\n",
    "It is possible to put many commands on the same line (non only assignments) by separating them with a semi-colon `;`\n"
   ]
  },
  {
   "cell_type": "code",
   "execution_count": 24,
   "metadata": {},
   "outputs": [
    {
     "name": "stdout",
     "output_type": "stream",
     "text": [
      "So many!\n"
     ]
    }
   ],
   "source": [
    "a = 10; print('So many!'); b = a + 1;"
   ]
  },
  {
   "cell_type": "code",
   "execution_count": 25,
   "metadata": {},
   "outputs": [
    {
     "name": "stdout",
     "output_type": "stream",
     "text": [
      "10 11\n"
     ]
    }
   ],
   "source": [
    "print(a,b)"
   ]
  },
  {
   "cell_type": "markdown",
   "metadata": {},
   "source": [
    "<div class=\"alert alert-info\">\n",
    "\n",
    "**NOTE: multiple commands on the same line are 'not much pythonic'**\n",
    "    \n",
    "Even if sometimes they may be useful and less verbose of explicit definitions, they are a style frowned upon by true Python ninjas.\n",
    "      \n",
    "</div>"
   ]
  },
  {
   "cell_type": "markdown",
   "metadata": {},
   "source": [
    "### Multiple initializations\n",
    "\n",
    "Another thing are multiple initializations, separated by a comma `,` like:"
   ]
  },
  {
   "cell_type": "code",
   "execution_count": 26,
   "metadata": {},
   "outputs": [],
   "source": [
    "x,y = 5,7"
   ]
  },
  {
   "cell_type": "code",
   "execution_count": 27,
   "metadata": {},
   "outputs": [
    {
     "name": "stdout",
     "output_type": "stream",
     "text": [
      "5\n"
     ]
    }
   ],
   "source": [
    "print(x)"
   ]
  },
  {
   "cell_type": "code",
   "execution_count": 28,
   "metadata": {},
   "outputs": [
    {
     "name": "stdout",
     "output_type": "stream",
     "text": [
      "7\n"
     ]
    }
   ],
   "source": [
    "print(y)"
   ]
  },
  {
   "cell_type": "markdown",
   "metadata": {},
   "source": [
    "Differently  from multiple commands, multiple assignments are a more acceptable style."
   ]
  },
  {
   "cell_type": "markdown",
   "metadata": {},
   "source": [
    "### Exercise - exchange like a ninja\n",
    "\n",
    "✪ Try now to exchange the value of the two variables `a` and `b` in one row with multiple initialization\n",
    "\n",
    "\n",
    "```python\n",
    "a,b = 5,3\n",
    "```\n",
    "\n",
    "After your code, it must result\n",
    "\n",
    "```python\n",
    ">>> print(a)\n",
    "3\n",
    ">>> print(b)\n",
    "5\n",
    "```"
   ]
  },
  {
   "cell_type": "raw",
   "id": "564ba810",
   "metadata": {
    "format": "text/html"
   },
   "source": [
    "<a  class=\"jupman-sol jupman-sol-toggler\" \n",
    " onclick=\"jupman.toggleSolution(this);\" \n",
    " data-jupman-show=\"Show solution\" data-jupman-hide=\"Hide\">Show solution</a><div class=\"jupman-sol jupman-sol-code\" style=\"display:none\">  "
   ]
  },
  {
   "cell_type": "code",
   "execution_count": 29,
   "metadata": {},
   "outputs": [],
   "source": [
    "a,b = 5,3\n",
    "\n",
    "# write here\n",
    "a,b = b,a\n",
    "#print(a)\n",
    "#print(b)"
   ]
  },
  {
   "cell_type": "raw",
   "id": "0343a20f",
   "metadata": {
    "format": "text/html"
   },
   "source": [
    "</div>"
   ]
  },
  {
   "cell_type": "code",
   "execution_count": 29,
   "metadata": {},
   "outputs": [],
   "source": [
    "a,b = 5,3\n",
    "\n",
    "# write here\n",
    "\n"
   ]
  },
  {
   "cell_type": "markdown",
   "metadata": {},
   "source": [
    "### Names of variables\n",
    "\n",
    "<div class=\"alert alert-warning\">\n",
    "\n",
    "**IMPORTANT NOTE:** \n",
    "\n",
    "You can chose the name that you like for your variables (we advise to pick something reminding their meaning), but you need to adhere to some simple rules:        \n",
    "</div>\n",
    "\n",
    "1. Names can only contain upper/lower case digits (`A-Z`, `a-z`), numbers (`0-9`) or underscores `_`;\n",
    "1. Names cannot start with a number;\n",
    "1. Variable names should start with a lowercase letter\n",
    "1. Names cannot be equal to reserved keywords:\n",
    "\n",
    "**Reserved words:**\n",
    "\n",
    "|||||||\n",
    "|-----|----|--------|-------|-------|----------|\n",
    "|`and`|`as`|`assert`|`break`|`class`|`continue`|\n",
    "|`def`|`del`|`elif`|`else`|`except`|`exec`|\n",
    "|`finally`|`for`|`from`|`global`|`if`|`import`|\n",
    "|`in`|`is`|`lambda`|`nonlocal`|`not`|`or`|\n",
    "|`pass`|`raise`|`return`|`try`|`while`|`with`|\n",
    "|`yield`|`True`|`False`|`None`|  |   |"
   ]
  },
  {
   "cell_type": "markdown",
   "metadata": {},
   "source": [
    "**system functions**: beyond reserved words (which are impossible to redefine), Python also offers several predefined system function:\n",
    "\n",
    "* `bool`, `int`,`float`,`tuple`,`str`,`list`,`set`,`dict`\n",
    "* `max`, `min`, `sum`\n",
    "* `next`, `iter`\n",
    "* `id`, `dir`, `vars`,`help`\n",
    "\n",
    "Sadly, Python allows careless people to redefine them, but we **do not**:\n",
    "\n",
    "<div class=\"alert alert-info\" >\n",
    "\n",
    "[V COMMANDMENT](https://en.softpython.org/commandments.html#V-COMMANDMENT)**: You shall never ever redefine system functions**\n",
    "\n",
    "Never declare variables with such names !    \n",
    "</div>"
   ]
  },
  {
   "cell_type": "markdown",
   "metadata": {},
   "source": [
    "### Names of variables - questions\n",
    "\n",
    "For each of the following names, try to guess if it is a valid _variable name_ or not, then try to assign it in following cell\n",
    "\n",
    "\n",
    "1. `my-variable`\n",
    "2. `my_variable`\n",
    "3. `theCount`\n",
    "4. `the count`\n",
    "5. `some@var`\n",
    "6. `MacDonald`\n",
    "7. `7channel`\n",
    "8. `channel7`\n",
    "9. `stand.by`\n",
    "10. `channel45`\n",
    "11. `maybe3maybe`\n",
    "12. `\"ciao\"`\n",
    "13. `'hello'`\n",
    "14. `as`     PLEASE: DO UNDERSTAND THE _VERY IMPORTANT DIFFERENCE_ BETWEEN THIS AND FOLLOWING TWOs !!!\n",
    "15. `asino`\n",
    "16. `As`\n",
    "17. `lista`  PLEASE: DO UNDERSTAND THE _VERY IMPORTANT DIFFERENCE_ BETWEEN THIS AND FOLLOWING TWOs !!!\n",
    "\n",
    "\n",
    "18. `list`   DO NOT EVEN TRY TO ASSIGN THIS ONE IN THE INTERPRETER (like `list = 5`), IF YOU DO YOU WILL BASICALLY BREAK PYTHON\n",
    "19. `List`\n",
    "20. `black&decker`\n",
    "21. `black & decker`\n",
    "22. `glab()`\n",
    "23. `caffè`   (notice the accented `è` !)\n",
    "24. `):-]`\n",
    "25. `€zone` (notice the euro sign)\n",
    "26. `some:pasta`\n",
    "27. `aren'tyouboredyet`\n",
    "28. `<angular>`\n",
    "\n",
    "\n",
    " "
   ]
  },
  {
   "cell_type": "code",
   "execution_count": 30,
   "metadata": {},
   "outputs": [],
   "source": [
    "# write the names here\n"
   ]
  },
  {
   "cell_type": "markdown",
   "metadata": {},
   "source": [
    "## Numerical types\n",
    "\n",
    "We already mentioned that numbers are **immutable objects**. Python provides different numerical types:\n",
    "\n",
    "integers (`int`), reals (`float`), booleans, fractions and complex numbers.\n",
    "\n",
    "It is possible to make arithmetic operations with the following operators, in precedence order:"
   ]
  },
  {
   "cell_type": "markdown",
   "metadata": {},
   "source": [
    "|Operator|Description|\n",
    "|---------|-----------|\n",
    "|`**`|power|\n",
    "|`+` `-`| Unary plus and minus|\n",
    "|`*` `/` `//` `%`|Multiplication, division, integer division, module|\n",
    "|`+` `-`| Addition and subtraction|"
   ]
  },
  {
   "cell_type": "markdown",
   "metadata": {},
   "source": [
    "There are also several predefined functions:\n",
    "\n",
    "\n",
    "|Function|Description|\n",
    "|--------|-----------|\n",
    "|`min(x,y, ...)`| the minimum among given numbers|\n",
    "|`max(x,y, ...)`| the maximum among given numbers|\n",
    "|`abs(x)`| the absolute value|"
   ]
  },
  {
   "cell_type": "markdown",
   "metadata": {},
   "source": [
    "\n",
    "Others are available in the [math](https://docs.python.org/3/library/math.html) module (remember that in order to use them you must first import the module `math` by typing `import math`):\n",
    "\n",
    "|Function|Description|\n",
    "|--------|-----------|\n",
    "|`math.floor(x)`| round `x` to inferior integer|\n",
    "|`math.ceil(x)`| round `x` to superior integer|\n",
    "|`math.sqrt(x)`| the square root|\n",
    "|`math.log(x)`| the natural logarithm of `n` |\n",
    "|`math.log(x,b)`| the logarithm of `n` in base `b`|\n",
    "\n",
    "... plus many others we don't report here."
   ]
  },
  {
   "cell_type": "markdown",
   "metadata": {},
   "source": [
    "## Integer numbers\n",
    "\n",
    "The range of values that integer can have is only limited by available memory. To work with numbers, Python also provides these operators:"
   ]
  },
  {
   "cell_type": "code",
   "execution_count": 31,
   "metadata": {},
   "outputs": [
    {
     "data": {
      "text/plain": [
       "11"
      ]
     },
     "execution_count": 31,
     "metadata": {},
     "output_type": "execute_result"
    }
   ],
   "source": [
    "7 + 4"
   ]
  },
  {
   "cell_type": "code",
   "execution_count": 32,
   "metadata": {},
   "outputs": [
    {
     "data": {
      "text/plain": [
       "3"
      ]
     },
     "execution_count": 32,
     "metadata": {},
     "output_type": "execute_result"
    }
   ],
   "source": [
    "7 - 4"
   ]
  },
  {
   "cell_type": "code",
   "execution_count": 33,
   "metadata": {},
   "outputs": [
    {
     "data": {
      "text/plain": [
       "1"
      ]
     },
     "execution_count": 33,
     "metadata": {},
     "output_type": "execute_result"
    }
   ],
   "source": [
    "7 // 4"
   ]
  },
  {
   "cell_type": "markdown",
   "metadata": {},
   "source": [
    "**NOTE**: the following division among integers produces a **float** result, which uses a **dot** as separator for the decimals (we will see more details later):"
   ]
  },
  {
   "cell_type": "code",
   "execution_count": 34,
   "metadata": {},
   "outputs": [
    {
     "data": {
      "text/plain": [
       "1.75"
      ]
     },
     "execution_count": 34,
     "metadata": {},
     "output_type": "execute_result"
    }
   ],
   "source": [
    "7 / 4  "
   ]
  },
  {
   "cell_type": "code",
   "execution_count": 35,
   "metadata": {},
   "outputs": [
    {
     "data": {
      "text/plain": [
       "float"
      ]
     },
     "execution_count": 35,
     "metadata": {},
     "output_type": "execute_result"
    }
   ],
   "source": [
    "type(7 / 4)"
   ]
  },
  {
   "cell_type": "code",
   "execution_count": 36,
   "metadata": {},
   "outputs": [
    {
     "data": {
      "text/plain": [
       "28"
      ]
     },
     "execution_count": 36,
     "metadata": {},
     "output_type": "execute_result"
    }
   ],
   "source": [
    "7 * 4"
   ]
  },
  {
   "cell_type": "markdown",
   "metadata": {},
   "source": [
    "**NOTE:** in many programming languages the power operation is denoted with the cap `^`, but in Python it is denoted with double asterisk `**`:"
   ]
  },
  {
   "cell_type": "code",
   "execution_count": 37,
   "metadata": {},
   "outputs": [
    {
     "data": {
      "text/plain": [
       "2401"
      ]
     },
     "execution_count": 37,
     "metadata": {},
     "output_type": "execute_result"
    }
   ],
   "source": [
    "7 ** 4   # power"
   ]
  },
  {
   "cell_type": "markdown",
   "metadata": {},
   "source": [
    "### Exercise - deadline 1\n",
    "\n",
    "✪ You are given a very important deadline in:"
   ]
  },
  {
   "cell_type": "code",
   "execution_count": 38,
   "metadata": {},
   "outputs": [],
   "source": [
    "days = 4\n",
    "hours = 13\n",
    "minutes = 52"
   ]
  },
  {
   "cell_type": "markdown",
   "metadata": {},
   "source": [
    "Write some code that prints the total minutes. By executing it, it should result:\n",
    "\n",
    "```\n",
    "In total there are 6592 minutes left.\n",
    "```"
   ]
  },
  {
   "cell_type": "raw",
   "id": "23e64ea1",
   "metadata": {
    "format": "text/html"
   },
   "source": [
    "<a  class=\"jupman-sol jupman-sol-toggler\" \n",
    " onclick=\"jupman.toggleSolution(this);\" \n",
    " data-jupman-show=\"Show solution\" data-jupman-hide=\"Hide\">Show solution</a><div class=\"jupman-sol jupman-sol-code\" style=\"display:none\">  "
   ]
  },
  {
   "cell_type": "code",
   "execution_count": 39,
   "metadata": {},
   "outputs": [
    {
     "name": "stdout",
     "output_type": "stream",
     "text": [
      "In total there are 6592 minutes left\n"
     ]
    }
   ],
   "source": [
    "\n",
    "days = 4\n",
    "hours = 13\n",
    "minutes = 52\n",
    "\n",
    "# write here\n",
    "print(\"In total there are\", days*24*60 + hours*60 + minutes, \"minutes left\")"
   ]
  },
  {
   "cell_type": "raw",
   "id": "c4f74f7b",
   "metadata": {
    "format": "text/html"
   },
   "source": [
    "</div>"
   ]
  },
  {
   "cell_type": "code",
   "execution_count": 39,
   "metadata": {},
   "outputs": [],
   "source": [
    "\n",
    "days = 4\n",
    "hours = 13\n",
    "minutes = 52\n",
    "\n",
    "# write here\n",
    "\n"
   ]
  },
  {
   "cell_type": "markdown",
   "metadata": {},
   "source": [
    "### Modulo operator\n",
    "\n",
    "To find the reminder of a division among integers, we can use the modulo operator which is denoted with `%`:"
   ]
  },
  {
   "cell_type": "code",
   "execution_count": 40,
   "metadata": {},
   "outputs": [
    {
     "data": {
      "text/plain": [
       "2"
      ]
     },
     "execution_count": 40,
     "metadata": {},
     "output_type": "execute_result"
    }
   ],
   "source": [
    "5 % 3  # 5 divided by 3 gives 2 as reminder "
   ]
  },
  {
   "cell_type": "code",
   "execution_count": 41,
   "metadata": {},
   "outputs": [
    {
     "data": {
      "text/plain": [
       "1"
      ]
     },
     "execution_count": 41,
     "metadata": {},
     "output_type": "execute_result"
    }
   ],
   "source": [
    "5 % 4"
   ]
  },
  {
   "cell_type": "code",
   "execution_count": 42,
   "metadata": {},
   "outputs": [
    {
     "data": {
      "text/plain": [
       "0"
      ]
     },
     "execution_count": 42,
     "metadata": {},
     "output_type": "execute_result"
    }
   ],
   "source": [
    "5 % 5"
   ]
  },
  {
   "cell_type": "code",
   "execution_count": 43,
   "metadata": {},
   "outputs": [
    {
     "data": {
      "text/plain": [
       "5"
      ]
     },
     "execution_count": 43,
     "metadata": {},
     "output_type": "execute_result"
    }
   ],
   "source": [
    "5 % 6"
   ]
  },
  {
   "cell_type": "code",
   "execution_count": 44,
   "metadata": {},
   "outputs": [
    {
     "data": {
      "text/plain": [
       "5"
      ]
     },
     "execution_count": 44,
     "metadata": {},
     "output_type": "execute_result"
    }
   ],
   "source": [
    "5 % 7"
   ]
  },
  {
   "cell_type": "markdown",
   "metadata": {},
   "source": [
    "### Exercise - deadline 2\n",
    "\n",
    "✪ For another super important deadline there are left:\n",
    "\n",
    "```python\n",
    "tot_minutes = 5000\n",
    "```\n",
    "Write some code that prints:\n",
    "\n",
    "```\n",
    "There are left:\n",
    "   3 days\n",
    "   11 hours\n",
    "   20 minutes\n",
    "```"
   ]
  },
  {
   "cell_type": "raw",
   "id": "d915251a",
   "metadata": {
    "format": "text/html"
   },
   "source": [
    "<a  class=\"jupman-sol jupman-sol-toggler\" \n",
    " onclick=\"jupman.toggleSolution(this);\" \n",
    " data-jupman-show=\"Show solution\" data-jupman-hide=\"Hide\">Show solution</a><div class=\"jupman-sol jupman-sol-code\" style=\"display:none\">  "
   ]
  },
  {
   "cell_type": "code",
   "execution_count": 45,
   "metadata": {},
   "outputs": [
    {
     "name": "stdout",
     "output_type": "stream",
     "text": [
      "There are left:\n",
      "   3 days\n",
      "   11 hours\n",
      "   20 minutes\n"
     ]
    }
   ],
   "source": [
    "\n",
    "tot_minutes = 5000\n",
    "\n",
    "# write here\n",
    "print('There are left:')\n",
    "print('  ', tot_minutes // (60*24), 'days')\n",
    "print('  ', (tot_minutes % (60*24)) // 60, 'hours')\n",
    "print('  ', (tot_minutes % (60*24)) % 60, 'minutes')"
   ]
  },
  {
   "cell_type": "raw",
   "id": "315a96f9",
   "metadata": {
    "format": "text/html"
   },
   "source": [
    "</div>"
   ]
  },
  {
   "cell_type": "code",
   "execution_count": 45,
   "metadata": {},
   "outputs": [],
   "source": [
    "\n",
    "tot_minutes = 5000\n",
    "\n",
    "# write here\n",
    "\n"
   ]
  },
  {
   "cell_type": "markdown",
   "metadata": {},
   "source": [
    "### min and max\n",
    "\n",
    "The minimum among two numbers can be calculated with the function `min`:"
   ]
  },
  {
   "cell_type": "code",
   "execution_count": 46,
   "metadata": {
    "scrolled": true
   },
   "outputs": [
    {
     "data": {
      "text/plain": [
       "3"
      ]
     },
     "execution_count": 46,
     "metadata": {},
     "output_type": "execute_result"
    }
   ],
   "source": [
    "min(7,3)"
   ]
  },
  {
   "cell_type": "markdown",
   "metadata": {},
   "source": [
    "and the maximum with the function `max`:"
   ]
  },
  {
   "cell_type": "code",
   "execution_count": 47,
   "metadata": {},
   "outputs": [
    {
     "data": {
      "text/plain": [
       "6"
      ]
     },
     "execution_count": 47,
     "metadata": {},
     "output_type": "execute_result"
    }
   ],
   "source": [
    "max(2,6)"
   ]
  },
  {
   "cell_type": "markdown",
   "metadata": {},
   "source": [
    "To `min` and `max` we can pass an arbitrary number of parameters, even negatives:"
   ]
  },
  {
   "cell_type": "code",
   "execution_count": 48,
   "metadata": {},
   "outputs": [
    {
     "data": {
      "text/plain": [
       "-3"
      ]
     },
     "execution_count": 48,
     "metadata": {},
     "output_type": "execute_result"
    }
   ],
   "source": [
    "min(2,9,-3,5)"
   ]
  },
  {
   "cell_type": "code",
   "execution_count": 49,
   "metadata": {},
   "outputs": [
    {
     "data": {
      "text/plain": [
       "9"
      ]
     },
     "execution_count": 49,
     "metadata": {},
     "output_type": "execute_result"
    }
   ],
   "source": [
    "max(2,9,-3,5)"
   ]
  },
  {
   "cell_type": "markdown",
   "metadata": {},
   "source": [
    "<div class=\"alert alert-info\" >\n",
    "\n",
    "[V COMMANDMENT](https://en.softpython.org/commandments.html#V-COMMANDMENT): **You shall never ever redefine system functions like** `min` **and** `max` \n",
    "</div>\n",
    "\n",
    "If you use `min` and `max` like they were variables, the corresponding functions will _literally_ stop to work!\n",
    "\n",
    "```python\n",
    "min = 4   # NOOOO !\n",
    "max = 7   # DON'T DO IT !\n",
    "```"
   ]
  },
  {
   "cell_type": "markdown",
   "metadata": {},
   "source": [
    "**QUESTION**: given two numbers `a` and `b`, which of the following expressions are equivalent?\n",
    "\n",
    "```python\n",
    "1. max(a,b)\n",
    "2. max(min(a,b),b)\n",
    "3. -min(-a,-b)\n",
    "4. -max(-a,-b)\n",
    "```"
   ]
  },
  {
   "cell_type": "raw",
   "id": "b22fd7ad",
   "metadata": {
    "format": "text/html"
   },
   "source": [
    "<a  class=\"jupman-sol jupman-sol-toggler\" \n",
    " onclick=\"jupman.toggleSolution(this);\" \n",
    " data-jupman-show=\"Show answer\" data-jupman-hide=\"Hide\">Show answer</a><div class=\"jupman-sol jupman-sol-question\" style=\"display:none\">  "
   ]
  },
  {
   "cell_type": "markdown",
   "metadata": {},
   "source": [
    "**ANSWER**:  1. and 3. are equivalent"
   ]
  },
  {
   "cell_type": "raw",
   "id": "72f32aab",
   "metadata": {
    "format": "text/html"
   },
   "source": [
    "</div>"
   ]
  },
  {
   "cell_type": "markdown",
   "metadata": {},
   "source": [
    "### Exercise - transportation\n",
    "\n",
    "✪✪ A company has a truck that every day delivers products to its best client. The truck can at most transport 10 tons of material. Unfortunately, the roads it can drive through have bridges that limit the maximum weight a vehicle can have to pass. These limits are provided in 5 variables:\n",
    "\n",
    "```python\n",
    "b1,b2,b3,b4,b5 = 7,2,4,3,6\n",
    "```\n",
    "\n",
    "The truck must always go through the bridge `b1`, then along the journey there are three possible itineraries available:\n",
    "\n",
    "- In the first itinerary, the truck also drives through bridge `b2`\n",
    "- In the second itinerary, the truck also drives through bridges `b3` and `b4`\n",
    "- In the third itinerary, the truck also drives though bridge `b5`\n",
    "\n",
    "The company wants to know which are the maximum tons it can drive to destination in a sngle journey. Write some code to print this number.\n",
    "\n",
    "**NOTE**: we do not want to know which is the best itinerary, we only need to find the greatest number of tons to ship.\n",
    "\n",
    "Example - given:\n",
    "\n",
    "```python\n",
    "b1,b2,b3,b4,b5 = 7,2,4,6,3\n",
    "```\n",
    "\n",
    "your code must print:\n",
    "\n",
    "```\n",
    "In a single journey we can transport at most 4 tons.\n",
    "```"
   ]
  },
  {
   "cell_type": "raw",
   "id": "f931826c",
   "metadata": {
    "format": "text/html"
   },
   "source": [
    "<a  class=\"jupman-sol jupman-sol-toggler\" \n",
    " onclick=\"jupman.toggleSolution(this);\" \n",
    " data-jupman-show=\"Show solution\" data-jupman-hide=\"Hide\">Show solution</a><div class=\"jupman-sol jupman-sol-code\" style=\"display:none\">  "
   ]
  },
  {
   "cell_type": "code",
   "execution_count": 50,
   "metadata": {},
   "outputs": [
    {
     "name": "stdout",
     "output_type": "stream",
     "text": [
      "In a single journey we can transport at most 4 tons\n"
     ]
    }
   ],
   "source": [
    "b1,b2,b3,b4,b5 = 7,2,4,6,3   # 4\n",
    "#b1,b2,b3,b4,b5 = 2,6,2,4,5  # 2\n",
    "#b1,b2,b3,b4,b5 = 8,6,2,9,5  # 6\n",
    "#b1,b2,b3,b4,b5 = 8,9,9,4,7  # 8\n",
    "\n",
    "\n",
    "# write here\n",
    "\n",
    "print('In a single journey we can transport at most',\n",
    "       max(min(b1,b2), min(b1,b3,b4),min(b1,b5)),\n",
    "      'tons')"
   ]
  },
  {
   "cell_type": "raw",
   "id": "ad027fa5",
   "metadata": {
    "format": "text/html"
   },
   "source": [
    "</div>"
   ]
  },
  {
   "cell_type": "code",
   "execution_count": 50,
   "metadata": {},
   "outputs": [
    {
     "name": "stdout",
     "output_type": "stream",
     "text": [
      "In a single journey we can transport at most 4 tons\n"
     ]
    }
   ],
   "source": [
    "b1,b2,b3,b4,b5 = 7,2,4,6,3   # 4\n",
    "#b1,b2,b3,b4,b5 = 2,6,2,4,5  # 2\n",
    "#b1,b2,b3,b4,b5 = 8,6,2,9,5  # 6\n",
    "#b1,b2,b3,b4,b5 = 8,9,9,4,7  # 8\n",
    "\n",
    "\n",
    "# write here\n",
    "\n"
   ]
  },
  {
   "cell_type": "markdown",
   "metadata": {},
   "source": [
    "### Exercise - armchairs\n",
    "\n",
    "✪✪ The tycoon De Industrionis owns two factories of armchairs, one in Belluno city and one in Rovigo. To make an armchair three main components are needed: a mattress, a seatback and a cover. Each factory produces all required components, taking a certain time to produce each component:"
   ]
  },
  {
   "cell_type": "code",
   "execution_count": 51,
   "metadata": {},
   "outputs": [],
   "source": [
    "b_mat, b_bac, b_cov, r_mat, r_bac, r_cov = 23,54,12,13,37,24"
   ]
  },
  {
   "cell_type": "markdown",
   "metadata": {},
   "source": [
    "Belluno takes 23h to produce a mattress, 54h the seatcback and 12h the cover. Rovigo, respectively, takes 13, 37 and 24 hours. When the 3 components are ready, assembling them in the finished armchair requires one hour.\n",
    "\n",
    "Sometimes peculiar requests are made by filthy rich nobles, who pretend to be shipped in a few hours armchairs with extravagant features like seatback in solid platinum and other nonsense.\n",
    "\n",
    "If the two factories start producting the components at the same time, De Industrionis wants to know in how much time the first armchair will be produced. Write some code to calculate that number.\n",
    " \n",
    "* **NOTE 1**: we are not interested which factory will produce the armchair, we just want to know the shortest time in which we will get an armchair\n",
    "* **NOTE 2**: suppose both factories **don't** have components in store\n",
    "* **NOTE 3**: the two factories **do not** exchange components"
   ]
  },
  {
   "cell_type": "markdown",
   "metadata": {},
   "source": [
    "\n",
    "Example 1 - given:\n",
    "\n",
    "```python\n",
    "b_mat, b_bac, b_cov, r_mat, r_bac, r_cov = 23,54,12,13,37,24\n",
    "```\n",
    "your code must print:\n",
    "\n",
    "```\n",
    "The first armchair will be produced in 38 hours.\n",
    "```\n",
    "\n",
    "Example 2 - given:\n",
    "\n",
    "```python\n",
    "b_mat, b_bac, b_cov, r_mat, r_bac, r_cov = 81,37,32,54,36,91\n",
    "```\n",
    "your code must print:\n",
    "\n",
    "```\n",
    "The first armchair will be produced in 82 hours.\n",
    "```"
   ]
  },
  {
   "cell_type": "raw",
   "id": "797d8f3f",
   "metadata": {
    "format": "text/html"
   },
   "source": [
    "<a  class=\"jupman-sol jupman-sol-toggler\" \n",
    " onclick=\"jupman.toggleSolution(this);\" \n",
    " data-jupman-show=\"Show solution\" data-jupman-hide=\"Hide\">Show solution</a><div class=\"jupman-sol jupman-sol-code\" style=\"display:none\">  "
   ]
  },
  {
   "cell_type": "code",
   "execution_count": 52,
   "metadata": {},
   "outputs": [
    {
     "name": "stdout",
     "output_type": "stream",
     "text": [
      "The first armchair will be produced in 38 hours.\n"
     ]
    }
   ],
   "source": [
    "\n",
    "b_mat, b_bac, b_cov, r_mat, r_bac, r_cov = 23,54,12,13,37,24   # 38\n",
    "#b_mat, b_bac, b_cov, r_mat, r_bac, r_cov = 81,37,32,54,36,91  # 82\n",
    "#b_mat, b_bac, b_cov, r_mat, r_bac, r_cov = 21,39,47,54,36,91  # 48\n",
    "\n",
    "# write here\n",
    "\n",
    "t = min(max(b_mat, b_bac, b_cov) + 1, max(r_mat, r_bac, r_cov) + 1)\n",
    "\n",
    "print('The first armchair will be produced in', t,'hours.')"
   ]
  },
  {
   "cell_type": "raw",
   "id": "db184d78",
   "metadata": {
    "format": "text/html"
   },
   "source": [
    "</div>"
   ]
  },
  {
   "cell_type": "code",
   "execution_count": 52,
   "metadata": {},
   "outputs": [
    {
     "name": "stdout",
     "output_type": "stream",
     "text": [
      "The first armchair will be produced in 38 hours.\n"
     ]
    }
   ],
   "source": [
    "\n",
    "b_mat, b_bac, b_cov, r_mat, r_bac, r_cov = 23,54,12,13,37,24   # 38\n",
    "#b_mat, b_bac, b_cov, r_mat, r_bac, r_cov = 81,37,32,54,36,91  # 82\n",
    "#b_mat, b_bac, b_cov, r_mat, r_bac, r_cov = 21,39,47,54,36,91  # 48\n",
    "\n",
    "# write here\n",
    "\n"
   ]
  },
  {
   "cell_type": "markdown",
   "metadata": {},
   "source": [
    "## Continue\n",
    "\n",
    "Go on with [Basics 2: Booleans](https://en.softpython.org/basics/basics2-bools-sol.html)"
   ]
  }
 ],
 "metadata": {
  "celltoolbar": "Edit Metadata",
  "kernelspec": {
   "display_name": "Python 3 (ipykernel)",
   "language": "python",
   "name": "python3"
  },
  "language_info": {
   "codemirror_mode": {
    "name": "ipython",
    "version": 3
   },
   "file_extension": ".py",
   "mimetype": "text/x-python",
   "name": "python",
   "nbconvert_exporter": "python",
   "pygments_lexer": "ipython3",
   "version": "3.7.10"
  },
  "toc": {
   "base_numbering": 1,
   "nav_menu": {},
   "number_sections": false,
   "sideBar": true,
   "skip_h1_title": false,
   "title_cell": "Table of Contents",
   "title_sidebar": "Contents",
   "toc_cell": false,
   "toc_position": {
    "height": "calc(100% - 180px)",
    "left": "10px",
    "top": "150px",
    "width": "280.2px"
   },
   "toc_section_display": true,
   "toc_window_display": true
  }
 },
 "nbformat": 4,
 "nbformat_minor": 2
}
