{
 "cells": [
  {
   "cell_type": "code",
   "execution_count": 1,
   "metadata": {
    "nbsphinx": "hidden"
   },
   "outputs": [],
   "source": [
    "# Remember to execute this cell with Shift+Enter\n",
    "import jupman"
   ]
  },
  {
   "cell_type": "markdown",
   "metadata": {},
   "source": [
    "# Python basics\n",
    "\n",
    "## [Download exercises zip](../_static/generated/basics.zip)\n",
    "\n",
    "[Browse online files](https://github.com/DavidLeoni/softpython-en/tree/master/basics)\n",
    "\n",
    "<div class=\"alert alert-warning\">\n",
    "\n",
    "**PREREQUISITES:**\n",
    "    \n",
    "* **Having installed Python 3 and Jupyter:** if you haven't already, look [Installation](https://en.softpython.org/installation.html)\n",
    "* **Having read** [Tools and scripts](https://en.softpython.org/tools/tools-sol.html)\n",
    "\n",
    "</div>"
   ]
  },
  {
   "cell_type": "markdown",
   "metadata": {},
   "source": [
    "## Jupyter\n",
    "\n",
    "Jupyter is an editor that allows working on so called _notebooks,_ which are files ending with the extension `.ipynb`. They are documents divided in cells where for each cell you can insert commands and immediately see the respective output. Let's try to open this."
   ]
  },
  {
   "cell_type": "markdown",
   "metadata": {},
   "source": [
    "1. Unzip [exercises zip](../_static/generated/basics.zip) in a folder, you should obtain something like this:\n",
    "\n",
    "```\n",
    "\n",
    "basics\n",
    "    basics-sol.ipynb\n",
    "    basics.ipynb\n",
    "    jupman.py\n",
    "```\n",
    "\n",
    "<div class=\"alert alert-warning\">\n",
    "\n",
    "**WARNING: to correctly visualize the notebook, it MUST be in an unzipped folder !**\n",
    "</div>\n"
   ]
  },
  {
   "cell_type": "markdown",
   "metadata": {},
   "source": [
    "\n",
    "2. open Jupyter Notebook. Two things should appear, first a console and then a browser. In the browser navigate the files to reach the unzipped folder, and open the notebook `basics.ipynb`\n",
    "\n",
    "<div class=\"alert alert-warning\">\n",
    "\n",
    "**WARNING: DO NOT click Upload button in Jupyer**\n",
    "\n",
    "Just navigate until you reach the file.\n",
    "</div>\n",
    "\n",
    "\n",
    "<div class=\"alert alert-warning\">\n",
    "\n",
    "**WARNING: open the notebook WITHOUT the** `-sol` **at the end!**\n",
    "    \n",
    "Seeing now the solutions is too easy ;-)    \n",
    "    \n",
    "</div>\n",
    "\n",
    "3. Go on reading the exercises file, sometimes you will find paragraphs marked **Exercises** which will ask to write Python commands in the following cells.Exercises are graded by difficulty, from one star ✪ to four ✪✪✪✪\n",
    "\n",
    "<div class=\"alert alert-warning\">\n",
    "\n",
    "**WARNING: In this book we use ONLY PYTHON 3** <br/>\n",
    "\n",
    "If you obtain weird behaviours, check you are using Python 3 and not 2. If by typing `python` your operating system runs python 2, try executing `python3`\n",
    "    \n",
    "</div>\n",
    "\n",
    "<div class=\"alert alert-info\">\n",
    "\n",
    "**If you don't find Jupyter / something doesn't work:** have a look at [installation](https://en.softpython.org/installation.html#Jupyter-Notebook)        \n",
    "</div>\n",
    "\n"
   ]
  },
  {
   "cell_type": "markdown",
   "metadata": {},
   "source": [
    "\n",
    "Shortcut keys:\n",
    "\n",
    "- to execute Python code inside a Jupyter cell, press `Control + Enter`\n",
    "\n",
    "- to execute Python code inside a Jupyter cell AND select next cell, press `Shift + Enter`\n",
    "\n",
    "- to execute Python code inside a Jupyter cell AND a create a new cell aftwerwards, press `Alt + Enter`\n",
    "\n",
    "- If the notebooks look stuck, try to select `Kernel -> Restart`"
   ]
  },
  {
   "cell_type": "markdown",
   "metadata": {},
   "source": [
    "\n",
    "## Objects\n",
    "\n",
    "In Python everything is an object. Objects have **properties** (fields where to save values) and **methods** (things they can do). For example, an object **car** has the _properties_ model, brand, color, numer of doors, etc ... and the _methods_ turn right, turn left, accelerate, brake, shift gear ...\n",
    "\n",
    "According to Python official documentation:\n",
    "\n",
    "\n",
    "    \"Objects are Python’s abstraction for data. All data in a Python program is represented by objects or by relations between objects.\"\n",
    "\n",
    "For now it's enough to know that Python objects have an **identifier** (like, their name), a **type** (numbers, text, collections, ...) and a **value** (the actual value represented by objects). Once the object has been created the _identifier_ and the _type_ never change, while the _value_ may change (**mutable objects**) or remain constant (**immutable objects**)."
   ]
  },
  {
   "cell_type": "markdown",
   "metadata": {},
   "source": [
    "\n",
    "Python provides these predefined types ( _built-in_ ):\n",
    "\n",
    "|Type|Meaning|Domain|Mutable?| \n",
    "|----|-----------|-------|---------|\n",
    "|`bool`|Condition|`True`, `False`| no|\n",
    "|`int`|Integer|$\\mathbb{Z}$| no|\n",
    "|`long`|Integer|$\\mathbb{Z}$| no|\n",
    "|`float`|Rational|$\\mathbb{Q}$ (more or less)| no|\n",
    "|`str`|Text|Text| no|\n",
    "|`list`|Sequence|Collezione di oggetti| yes|\n",
    "|`tuple`|Sequence|Collezione di oggetti| no|\n",
    "|`set`|Set|Collezione di oggetti|yes|\n",
    "|`dict`|Mapping|Mapping between objects| yes|\n",
    "\n",
    "\n",
    "For now we will consider only the simplest ones, later in the book we will deep dive in each of them."
   ]
  },
  {
   "cell_type": "markdown",
   "metadata": {},
   "source": [
    "## Variables\n",
    "\n",
    "Variables are associations among names and objects (we can call them values).\n",
    "\n",
    "Variables can be associated, or in a more technical term, _assigned_ to objects by using the assignment operator `=`.\n",
    "\n",
    "The instruction"
   ]
  },
  {
   "cell_type": "code",
   "execution_count": 2,
   "metadata": {},
   "outputs": [],
   "source": [
    "diamonds = 4"
   ]
  },
  {
   "cell_type": "markdown",
   "metadata": {},
   "source": [
    "may represent how many precious stones we keed in the safe. What happens when we execute it in Python?\n",
    "\n",
    "- an object is created\n",
    "- its type is set to `int` (an integer number)\n",
    "- its value is set to 4\n",
    "- a name `diamonds` is create in the environment and assigned to that object"
   ]
  },
  {
   "cell_type": "markdown",
   "metadata": {},
   "source": [
    "### Detect the type of a variable\n",
    "\n",
    "When you see a variable or costant and you wonder what type it could have, you can use the predefined function `type`:"
   ]
  },
  {
   "cell_type": "code",
   "execution_count": 3,
   "metadata": {},
   "outputs": [
    {
     "data": {
      "text/plain": [
       "int"
      ]
     },
     "execution_count": 3,
     "metadata": {},
     "output_type": "execute_result"
    }
   ],
   "source": [
    "type(diamonds)"
   ]
  },
  {
   "cell_type": "code",
   "execution_count": 4,
   "metadata": {},
   "outputs": [
    {
     "data": {
      "text/plain": [
       "int"
      ]
     },
     "execution_count": 4,
     "metadata": {},
     "output_type": "execute_result"
    }
   ],
   "source": [
    "type(4)"
   ]
  },
  {
   "cell_type": "code",
   "execution_count": 5,
   "metadata": {},
   "outputs": [
    {
     "data": {
      "text/plain": [
       "float"
      ]
     },
     "execution_count": 5,
     "metadata": {},
     "output_type": "execute_result"
    }
   ],
   "source": [
    "type(4.0)"
   ]
  },
  {
   "cell_type": "code",
   "execution_count": 6,
   "metadata": {},
   "outputs": [
    {
     "data": {
      "text/plain": [
       "str"
      ]
     },
     "execution_count": 6,
     "metadata": {},
     "output_type": "execute_result"
    }
   ],
   "source": [
    "type(\"Hello\")"
   ]
  },
  {
   "cell_type": "markdown",
   "metadata": {},
   "source": [
    "### Reassign a variable\n",
    "\n",
    "Consider now the following code:"
   ]
  },
  {
   "cell_type": "code",
   "execution_count": 7,
   "metadata": {},
   "outputs": [
    {
     "name": "stdout",
     "output_type": "stream",
     "text": [
      "4\n"
     ]
    }
   ],
   "source": [
    "diamonds = 4\n",
    "print(diamonds)"
   ]
  },
  {
   "cell_type": "code",
   "execution_count": 8,
   "metadata": {},
   "outputs": [
    {
     "name": "stdout",
     "output_type": "stream",
     "text": [
      "5\n"
     ]
    }
   ],
   "source": [
    "diamonds = 5\n",
    "print(diamonds)"
   ]
  },
  {
   "cell_type": "markdown",
   "metadata": {},
   "source": [
    "The value of `diamonds` variable has been changed from 4 to 5, but as reported in the previous table, the `int` type is **immutable**. Luckily, this didn't prevent us from changing the value `diamonds` from 4 to 5. What happend behind the scenes? When we executed the instructions `diamonds = 5`, a new object of type `int` was created (the integer `5`) and made available with the same name `diamonds`"
   ]
  },
  {
   "cell_type": "markdown",
   "metadata": {},
   "source": [
    "### Reusing a variable\n",
    "\n",
    "When you reassign a variable to another value, to calculate the new value you can freely reuse the old value of the variable you want to change. For example, suppose to have the variable"
   ]
  },
  {
   "cell_type": "code",
   "execution_count": 9,
   "metadata": {},
   "outputs": [],
   "source": [
    "flowers = 4"
   ]
  },
  {
   "cell_type": "markdown",
   "metadata": {},
   "source": [
    "and you want to augment the number of `flowers` by one. You can write like this:"
   ]
  },
  {
   "cell_type": "code",
   "execution_count": 10,
   "metadata": {},
   "outputs": [],
   "source": [
    "flowers = flowers + 1"
   ]
  },
  {
   "cell_type": "markdown",
   "metadata": {},
   "source": [
    "What happened? When Python encounters a command with `=`, FIRST it calculates the value of the expression it finds to the right of the `=`, and THEN assigns that value to the variable to the left of the `=`.\n",
    "\n",
    "Given this order, FIRST in the expression on the right the old value is used (in this case `4`) and `1` is summed so to obtain `5` which is THEN assigned to `flowers`."
   ]
  },
  {
   "cell_type": "code",
   "execution_count": 11,
   "metadata": {},
   "outputs": [
    {
     "data": {
      "text/plain": [
       "5"
      ]
     },
     "execution_count": 11,
     "metadata": {},
     "output_type": "execute_result"
    }
   ],
   "source": [
    "flowers"
   ]
  },
  {
   "cell_type": "markdown",
   "metadata": {},
   "source": [
    "In a completely equivalent manner, we could rewrite the code like this, using a helper variable `x`. Let's try it in Python Tutor:"
   ]
  },
  {
   "cell_type": "code",
   "execution_count": 12,
   "metadata": {},
   "outputs": [],
   "source": [
    "# WARNING: to use the following jupman.pytut() function,\n",
    "# it is necessary first execute  this cell with Shift+Enter\n",
    "\n",
    "# it's enough to execute once, you can also find in all notebooks in the first cell.\n",
    "\n",
    "import jupman"
   ]
  },
  {
   "cell_type": "code",
   "execution_count": 13,
   "metadata": {},
   "outputs": [
    {
     "data": {
      "text/html": [
       "\n",
       "        <script src=\"../_static/js/pytutor-embed.bundle.min.js\" type=\"application/javascript\"></script>\n",
       "     \n",
       "        <script id=\"json-jm6bc9587e-2977-44ff-ba9b-6a339d17fcae\" type=\"application/json\" >\n",
       "            {\"code\": \" \\nflowers = 4   \\n\\nx = flowers + 1\\n\\nflowers = x\", \"trace\": [{\"line\": 2, \"event\": \"step_line\", \"func_name\": \"<module>\", \"globals\": {}, \"ordered_globals\": [], \"stack_to_render\": [], \"heap\": {}, \"stdout\": \"\"}, {\"line\": 4, \"event\": \"step_line\", \"func_name\": \"<module>\", \"globals\": {\"flowers\": 4}, \"ordered_globals\": [\"flowers\"], \"stack_to_render\": [], \"heap\": {}, \"stdout\": \"\"}, {\"line\": 6, \"event\": \"step_line\", \"func_name\": \"<module>\", \"globals\": {\"flowers\": 4, \"x\": 5}, \"ordered_globals\": [\"flowers\", \"x\"], \"stack_to_render\": [], \"heap\": {}, \"stdout\": \"\"}, {\"line\": 6, \"event\": \"return\", \"func_name\": \"<module>\", \"globals\": {\"flowers\": 5, \"x\": 5}, \"ordered_globals\": [\"flowers\", \"x\"], \"stack_to_render\": [], \"heap\": {}, \"stdout\": \"\"}]}\n",
       "        </script>\n",
       "        <div id=\"jm6bc9587e-2977-44ff-ba9b-6a339d17fcae\" class=\"pytutorVisualizer\"> </div>\n",
       " \n",
       "        <style>\n",
       "        .vizLayoutTd {\n",
       "            background-color: #fff !important;\n",
       "        }\n",
       "\n",
       "        #pyStdout {            \n",
       "            min-height:25px;\n",
       "        }\n",
       "\n",
       "        /* 'Edit this code' link, hiding because replaces browser tab !!!*/\n",
       "        #editCodeLinkDiv {\n",
       "            display:none;  \n",
       "        }\n",
       "        </style>   \n",
       "                            \n",
       "        <script>\n",
       "        (function(){\n",
       "\n",
       "            var trace = JSON.parse(document.getElementById('json-jm6bc9587e-2977-44ff-ba9b-6a339d17fcae').innerHTML);                                        \n",
       "            // NOTE 1: id without #\n",
       "            // NOTE 2 - maybe there are more predictable ways, but this will work anyway\n",
       "            //        - id should be number\n",
       "            visualizerIdOverride = Math.trunc(Math.random() * 100000000000)\n",
       "            addVisualizerToPage(trace, 'jm6bc9587e-2977-44ff-ba9b-6a339d17fcae',{'embeddedMode' : false,\n",
       "                                             'visualizerIdOverride':visualizerIdOverride})  \n",
       "            \n",
       "            \n",
       "            // set overflow for pytuts - need to do in python as css \n",
       "            // does not allow parent selection\n",
       "            var pytuts = $('.pytutorVisualizer')\n",
       "            pytuts.closest('div.output_html.rendered_html.output_result')\n",
       "                    .css('overflow-x', 'visible')\n",
       "        \n",
       "            //pytuts.closest('div.output_html.rendered_html.output_result')\n",
       "            //      .css('background-color','red')                \n",
       "            \n",
       "        })()\n",
       "        </script>\n",
       "                \n",
       "                "
      ],
      "text/plain": [
       "<IPython.core.display.HTML object>"
      ]
     },
     "execution_count": 13,
     "metadata": {},
     "output_type": "execute_result"
    }
   ],
   "source": [
    "\n",
    "flowers = 4   \n",
    "\n",
    "x = flowers + 1\n",
    "\n",
    "flowers = x\n",
    "\n",
    "jupman.pytut()"
   ]
  },
  {
   "cell_type": "markdown",
   "metadata": {},
   "source": [
    "You can execute a sum and do an assignment at the same time with the `+=` notation"
   ]
  },
  {
   "cell_type": "code",
   "execution_count": 14,
   "metadata": {},
   "outputs": [
    {
     "name": "stdout",
     "output_type": "stream",
     "text": [
      "5\n"
     ]
    }
   ],
   "source": [
    "flowers = 4\n",
    "flowers += 1\n",
    "print(flowers)"
   ]
  },
  {
   "cell_type": "markdown",
   "metadata": {},
   "source": [
    "This notation is also valid for other arithetic operators:"
   ]
  },
  {
   "cell_type": "code",
   "execution_count": 15,
   "metadata": {},
   "outputs": [
    {
     "name": "stdout",
     "output_type": "stream",
     "text": [
      "4\n"
     ]
    }
   ],
   "source": [
    "flowers = 5\n",
    "flowers -= 1     # subtraction\n",
    "print(flowers)"
   ]
  },
  {
   "cell_type": "code",
   "execution_count": 16,
   "metadata": {},
   "outputs": [
    {
     "name": "stdout",
     "output_type": "stream",
     "text": [
      "12\n"
     ]
    }
   ],
   "source": [
    "flowers *= 3     # multiplication\n",
    "print(flowers)"
   ]
  },
  {
   "cell_type": "code",
   "execution_count": 17,
   "metadata": {},
   "outputs": [
    {
     "name": "stdout",
     "output_type": "stream",
     "text": [
      "6.0\n"
     ]
    }
   ],
   "source": [
    "flowers /= 2     # division\n",
    "print(flowers)"
   ]
  },
  {
   "cell_type": "markdown",
   "metadata": {},
   "source": [
    "### Assignments - questions\n",
    "\n",
    "**QUESTION**: Look at the following questions, and for each try to guess the result it produces (or if it gives an error). Try to verify your guess both in Jupyter and in another editor of `.py` files like Spyder:\n",
    "\n",
    "    \n",
    "1.  ```python\n",
    "    x = 1\n",
    "    x\n",
    "    x    \n",
    "    ```        \n",
    "1.  ```python\n",
    "    x = 1\n",
    "    x = 2\n",
    "    print(x)\n",
    "    ```    \n",
    "1.  ```python\n",
    "    x = 1\n",
    "    x = 2\n",
    "    x\n",
    "    ```     \n",
    "1.  ```python\n",
    "    x = 1\n",
    "    print(x)\n",
    "    x = 2\n",
    "    print(x)\n",
    "    ```        \n",
    "1.  ```python\n",
    "    print(zam)\n",
    "    print(zam)\n",
    "    zam = 1    \n",
    "    zam = 2    \n",
    "    ```    \n",
    "1.  ```python        \n",
    "    x = 5\n",
    "    print(x,x)\n",
    "    ```        \n",
    "1.  ```python        \n",
    "    x = 5\n",
    "    print(x)\n",
    "    print(x)\n",
    "    ```\n",
    "1.  ```python        \n",
    "    x = 3\n",
    "    print(x,x*x,x**x)\n",
    "    ```    \n",
    "1.  ```python\n",
    "    3 + 5 = x\n",
    "    print(x)\n",
    "    ```\n",
    "1.  ```python\n",
    "    3 + x = 1\n",
    "    print(x)\n",
    "    ```    \n",
    "1.  ```python\n",
    "    x + 3 = 2\n",
    "    print(x)\n",
    "    ```    \n",
    "1.  ```python\n",
    "    x = 2\n",
    "    x =+ 1 \n",
    "    print(x)\n",
    "    ```\n",
    "1.  ```python\n",
    "    x = 2\n",
    "    x = +1 \n",
    "    print(x)\n",
    "    ```    \n",
    "1.  ```python\n",
    "    x = 2\n",
    "    x += 1 \n",
    "    print(x)\n",
    "    ```        \n",
    "1.  ```python\n",
    "    x = 3\n",
    "    x *= 2 \n",
    "    print(x)\n",
    "    ```"
   ]
  },
  {
   "cell_type": "markdown",
   "metadata": {},
   "source": [
    "### Exercise - exchange\n",
    "\n",
    "✪ Given two variables `a` and `b`:\n",
    "\n",
    "```python\n",
    "a = 5\n",
    "b = 3\n",
    "```\n",
    "\n",
    "write some code that exchanges the two values, so that after your code it must result\n",
    "\n",
    "```python\n",
    ">>> print(a)\n",
    "3\n",
    ">>> print(b)\n",
    "5\n",
    "```\n",
    "\n",
    "- are two variables enough? If they aren't, try to introduce a third one."
   ]
  },
  {
   "cell_type": "raw",
   "id": "5f5c4d58",
   "metadata": {
    "format": "text/html"
   },
   "source": [
    "<a  class=\"jupman-sol jupman-sol-toggler\" \n",
    " onclick=\"jupman.toggleSolution(this);\" \n",
    " data-jupman-show=\"Show solution\" data-jupman-hide=\"Hide\">Show solution</a><div class=\"jupman-sol jupman-sol-code\" style=\"display:none\">  "
   ]
  },
  {
   "cell_type": "code",
   "execution_count": 18,
   "metadata": {},
   "outputs": [],
   "source": [
    "a = 5\n",
    "b = 3\n",
    "\n",
    "# write here\n",
    "temp = a   # associate 5 to temp variable, so we have a copy\n",
    "a = b      # reassign a to the value of b, that is 3\n",
    "b = temp   # reassign b to the value of temp, that is 5\n",
    "#print(a)\n",
    "#print(b)"
   ]
  },
  {
   "cell_type": "raw",
   "id": "aa3af359",
   "metadata": {
    "format": "text/html"
   },
   "source": [
    "</div>"
   ]
  },
  {
   "cell_type": "code",
   "execution_count": 18,
   "metadata": {},
   "outputs": [],
   "source": [
    "a = 5\n",
    "b = 3\n",
    "\n",
    "# write here\n",
    "\n"
   ]
  },
  {
   "cell_type": "markdown",
   "metadata": {},
   "source": [
    "### Exercise - cycling\n",
    "\n",
    "✪ Write a program that given three variables with numebers `a`,`b`,`c`, cycles the values, that is, puts the value of `a` in `b`, the value of `b` in `c`, and the value of `c` in `a` .\n",
    "\n",
    "So if you begin like this:\n",
    "\n",
    "\n",
    "\n",
    "```python\n",
    "a = 4\n",
    "b = 7\n",
    "c = 9\n",
    "```\n",
    "\n",
    "After the code that you will write, by running this:\n",
    "\n",
    "\n",
    "```python\n",
    "print(a)\n",
    "print(b)\n",
    "print(c)\n",
    "```\n",
    "\n",
    "You should see:\n",
    "\n",
    "```\n",
    "9\n",
    "4\n",
    "7\n",
    "```\n",
    "\n",
    "There are various ways to do it, try to use **only one** temporary variable and be careful not to lose values !\n",
    "\n",
    "**HINT**: to help yourself, try to write down in comments the state of the memory, and think which command to do\n",
    "\n",
    "\n",
    "```python\n",
    "# a b c t    which command do I need?\n",
    "# 4 7 9\n",
    "# 4 7 9 7    t = b\n",
    "#\n",
    "#\n",
    "#```\n"
   ]
  },
  {
   "cell_type": "code",
   "execution_count": 19,
   "metadata": {},
   "outputs": [
    {
     "name": "stdout",
     "output_type": "stream",
     "text": [
      "4\n",
      "7\n",
      "9\n"
     ]
    }
   ],
   "source": [
    "a = 4\n",
    "b = 7\n",
    "c = 9\n",
    "\n",
    "# write code here\n",
    "\n",
    "print(a)\n",
    "print(b)\n",
    "print(c)"
   ]
  },
  {
   "cell_type": "raw",
   "id": "43967dfd",
   "metadata": {
    "format": "text/html"
   },
   "source": [
    "<a  class=\"jupman-sol jupman-sol-toggler\" \n",
    " onclick=\"jupman.toggleSolution(this);\" \n",
    " data-jupman-show=\"Show solution\" data-jupman-hide=\"Hide\">Show solution</a><div class=\"jupman-sol jupman-sol-code\" style=\"display:none\">  "
   ]
  },
  {
   "cell_type": "code",
   "execution_count": 20,
   "metadata": {},
   "outputs": [
    {
     "name": "stdout",
     "output_type": "stream",
     "text": [
      "9\n",
      "4\n",
      "7\n"
     ]
    }
   ],
   "source": [
    "# SOLUTION\n",
    "\n",
    "a = 4\n",
    "b = 7\n",
    "c = 9\n",
    "\n",
    "\n",
    "# a b c t  which command do I need?\n",
    "# 4 7 9\n",
    "# 4 7 9 7  t = b\n",
    "# 4 4 9 7  b = a\n",
    "# 9 4 9 7  a = c\n",
    "# 9 4 7 7  c = t\n",
    "\n",
    "\n",
    "t = b\n",
    "b = a\n",
    "a = c\n",
    "c = t\n",
    "\n",
    "print(a)\n",
    "print(b)\n",
    "print(c)"
   ]
  },
  {
   "cell_type": "raw",
   "id": "df857175",
   "metadata": {
    "format": "text/html"
   },
   "source": [
    "</div>"
   ]
  },
  {
   "cell_type": "code",
   "execution_count": 20,
   "metadata": {},
   "outputs": [
    {
     "name": "stdout",
     "output_type": "stream",
     "text": [
      "9\n",
      "4\n",
      "7\n"
     ]
    }
   ],
   "source": []
  },
  {
   "cell_type": "markdown",
   "metadata": {},
   "source": [
    "\n",
    "### Changing type during execution\n",
    "\n",
    "You can also change the type of a variable duting the program execution but normally it is a **bad habit** because it makes harder to understand the code, and increases the probability to commit errors. Let's make an example:"
   ]
  },
  {
   "cell_type": "code",
   "execution_count": 21,
   "metadata": {},
   "outputs": [],
   "source": [
    "diamonds = 4          # integer"
   ]
  },
  {
   "cell_type": "code",
   "execution_count": 22,
   "metadata": {},
   "outputs": [
    {
     "data": {
      "text/plain": [
       "6"
      ]
     },
     "execution_count": 22,
     "metadata": {},
     "output_type": "execute_result"
    }
   ],
   "source": [
    "diamonds + 2"
   ]
  },
  {
   "cell_type": "code",
   "execution_count": 23,
   "metadata": {},
   "outputs": [],
   "source": [
    "diamonds = \"four\"  # text"
   ]
  },
  {
   "cell_type": "markdown",
   "metadata": {},
   "source": [
    "Now that `diamonds` became text, if by mistake we try to treat it as if it were a number we will get an error !!\n",
    "\n",
    "```python\n",
    "diamonds + 2\n",
    "\n",
    "---------------------------------------------------------------------------\n",
    "TypeError                                 Traceback (most recent call last)\n",
    "<ipython-input-9-6124a47997d7> in <module>\n",
    "----> 1 diamonds + 2\n",
    "\n",
    "TypeError: can only concatenate str (not \"int\") to str\n",
    "\n",
    "```"
   ]
  },
  {
   "cell_type": "markdown",
   "metadata": {},
   "source": [
    "### Multiple commands on the same line\n",
    "\n",
    "It is possible to put many commands on the same line (non only assignments) by separating them with a semi-colon `;`\n"
   ]
  },
  {
   "cell_type": "code",
   "execution_count": 24,
   "metadata": {},
   "outputs": [
    {
     "name": "stdout",
     "output_type": "stream",
     "text": [
      "So many!\n"
     ]
    }
   ],
   "source": [
    "a = 10; print('So many!'); b = a + 1;"
   ]
  },
  {
   "cell_type": "code",
   "execution_count": 25,
   "metadata": {},
   "outputs": [
    {
     "name": "stdout",
     "output_type": "stream",
     "text": [
      "10 11\n"
     ]
    }
   ],
   "source": [
    "print(a,b)"
   ]
  },
  {
   "cell_type": "markdown",
   "metadata": {},
   "source": [
    "<div class=\"alert alert-info\">\n",
    "\n",
    "**NOTE: multiple commands on the same line are 'not much pythonic'**\n",
    "    \n",
    "Even if sometimes they may be useful and less verbose of explicit definitions, they are a style frowned upon by true Python ninjas.\n",
    "      \n",
    "</div>"
   ]
  },
  {
   "cell_type": "markdown",
   "metadata": {},
   "source": [
    "### Multiple initializations\n",
    "\n",
    "Another thing are multiple initializations, separated by a comma `,` like:"
   ]
  },
  {
   "cell_type": "code",
   "execution_count": 26,
   "metadata": {},
   "outputs": [],
   "source": [
    "x,y = 5,7"
   ]
  },
  {
   "cell_type": "code",
   "execution_count": 27,
   "metadata": {},
   "outputs": [
    {
     "name": "stdout",
     "output_type": "stream",
     "text": [
      "5\n"
     ]
    }
   ],
   "source": [
    "print(x)"
   ]
  },
  {
   "cell_type": "code",
   "execution_count": 28,
   "metadata": {},
   "outputs": [
    {
     "name": "stdout",
     "output_type": "stream",
     "text": [
      "7\n"
     ]
    }
   ],
   "source": [
    "print(y)"
   ]
  },
  {
   "cell_type": "markdown",
   "metadata": {},
   "source": [
    "Differently  from multiple commands, multiple assignments are a more acceptable style."
   ]
  },
  {
   "cell_type": "markdown",
   "metadata": {},
   "source": [
    "### Exercise - exchange like a ninja\n",
    "\n",
    "✪ Try now to exchange the value of the two variables `a` and `b` in one row with multiple initialization\n",
    "\n",
    "\n",
    "```python\n",
    "a,b = 5,3\n",
    "```\n",
    "\n",
    "After your code, it must result\n",
    "\n",
    "```python\n",
    ">>> print(a)\n",
    "3\n",
    ">>> print(b)\n",
    "5\n",
    "```"
   ]
  },
  {
   "cell_type": "raw",
   "id": "83f18699",
   "metadata": {
    "format": "text/html"
   },
   "source": [
    "<a  class=\"jupman-sol jupman-sol-toggler\" \n",
    " onclick=\"jupman.toggleSolution(this);\" \n",
    " data-jupman-show=\"Show solution\" data-jupman-hide=\"Hide\">Show solution</a><div class=\"jupman-sol jupman-sol-code\" style=\"display:none\">  "
   ]
  },
  {
   "cell_type": "code",
   "execution_count": 29,
   "metadata": {},
   "outputs": [],
   "source": [
    "a,b = 5,3\n",
    "\n",
    "# write here\n",
    "a,b = b,a\n",
    "#print(a)\n",
    "#print(b)"
   ]
  },
  {
   "cell_type": "raw",
   "id": "9bb4cbe8",
   "metadata": {
    "format": "text/html"
   },
   "source": [
    "</div>"
   ]
  },
  {
   "cell_type": "code",
   "execution_count": 29,
   "metadata": {},
   "outputs": [],
   "source": [
    "a,b = 5,3\n",
    "\n",
    "# write here\n",
    "\n"
   ]
  },
  {
   "cell_type": "markdown",
   "metadata": {},
   "source": [
    "### Names of variables\n",
    "\n",
    "<div class=\"alert alert-warning\">\n",
    "\n",
    "**IMPORTANT NOTE:** \n",
    "\n",
    "You can chose the name that you like for your variables (we advise to pick something reminding their meaning), but you need to adhere to some simple rules:        \n",
    "</div>\n",
    "\n",
    "1. Names can only contain upper/lower case digits (`A-Z`, `a-z`), numbers (`0-9`) or underscores `_`;\n",
    "1. Names cannot start with a number;\n",
    "1. Variable names should start with a lowercase letter\n",
    "1. Names cannot be equal to reserved keywords:\n",
    "\n",
    "**Reserved words:**\n",
    "\n",
    "|||||||\n",
    "|-----|----|--------|-------|-------|----------|\n",
    "|`and`|`as`|`assert`|`break`|`class`|`continue`|\n",
    "|`def`|`del`|`elif`|`else`|`except`|`exec`|\n",
    "|`finally`|`for`|`from`|`global`|`if`|`import`|\n",
    "|`in`|`is`|`lambda`|`nonlocal`|`not`|`or`|\n",
    "|`pass`|`raise`|`return`|`try`|`while`|`with`|\n",
    "|`yield`|`True`|`False`|`None`|  |   |"
   ]
  },
  {
   "cell_type": "markdown",
   "metadata": {},
   "source": [
    "**system functions**: beyond reserved words (which are impossible to redefine), Python also offers several predefined system function:\n",
    "\n",
    "* `bool`, `int`,`float`,`tuple`,`str`,`list`,`set`,`dict`\n",
    "* `max`, `min`, `sum`\n",
    "* `next`, `iter`\n",
    "* `id`, `dir`, `vars`,`help`\n",
    "\n",
    "Sadly, Python allows careless people to redefine them, but we **do not**:\n",
    "\n",
    "<div class=\"alert alert-info\" >\n",
    "\n",
    "[V COMMANDMENT](https://en.softpython.org/commandments.html#V-COMMANDMENT)**: You shall never ever redefine system functions**\n",
    "\n",
    "Never declare variables with such names !    \n",
    "</div>"
   ]
  },
  {
   "cell_type": "markdown",
   "metadata": {},
   "source": [
    "### Names of variables - questions\n",
    "\n",
    "For each of the following names, try to guess if it is a valid _variable name_ or not, then try to assign it in following cell\n",
    "\n",
    "\n",
    "1. `my-variable`\n",
    "2. `my_variable`\n",
    "3. `theCount`\n",
    "4. `the count`\n",
    "5. `some@var`\n",
    "6. `MacDonald`\n",
    "7. `7channel`\n",
    "8. `channel7`\n",
    "9. `stand.by`\n",
    "10. `channel45`\n",
    "11. `maybe3maybe`\n",
    "12. `\"ciao\"`\n",
    "13. `'hello'`\n",
    "14. `as`     PLEASE: DO UNDERSTAND THE _VERY IMPORTANT DIFFERENCE_ BETWEEN THIS AND FOLLOWING TWOs !!!\n",
    "15. `asino`\n",
    "16. `As`\n",
    "17. `lista`  PLEASE: DO UNDERSTAND THE _VERY IMPORTANT DIFFERENCE_ BETWEEN THIS AND FOLLOWING TWOs !!!\n",
    "\n",
    "\n",
    "18. `list`   DO NOT EVEN TRY TO ASSIGN THIS ONE IN THE INTERPRETER (like `list = 5`), IF YOU DO YOU WILL BASICALLY BREAK PYTHON\n",
    "19. `List`\n",
    "20. `black&decker`\n",
    "21. `black & decker`\n",
    "22. `glab()`\n",
    "23. `caffè`   (notice the accented `è` !)\n",
    "24. `):-]`\n",
    "25. `€zone` (notice the euro sign)\n",
    "26. `some:pasta`\n",
    "27. `aren'tyouboredyet`\n",
    "28. `<angular>`\n",
    "\n",
    "\n",
    " "
   ]
  },
  {
   "cell_type": "raw",
   "id": "e0e20739",
   "metadata": {
    "format": "text/html"
   },
   "source": [
    "<a  class=\"jupman-sol jupman-sol-toggler\" \n",
    " onclick=\"jupman.toggleSolution(this);\" \n",
    " data-jupman-show=\"Show solution\" data-jupman-hide=\"Hide\">Show solution</a><div class=\"jupman-sol jupman-sol-code\" style=\"display:none\">  "
   ]
  },
  {
   "cell_type": "code",
   "execution_count": 30,
   "metadata": {},
   "outputs": [],
   "source": [
    "# write here\n"
   ]
  },
  {
   "cell_type": "raw",
   "id": "a1def43f",
   "metadata": {
    "format": "text/html"
   },
   "source": [
    "</div>"
   ]
  },
  {
   "cell_type": "code",
   "execution_count": 30,
   "metadata": {},
   "outputs": [],
   "source": [
    "# write here\n",
    "\n"
   ]
  },
  {
   "cell_type": "markdown",
   "metadata": {},
   "source": [
    "## Numerical types\n",
    "\n",
    "We already mentioned that numbers are **immutable objects**. Python provides different numerical types:\n",
    "\n",
    "integers (`int`), reals (`float`), booleans, fractions and complex numbers.\n",
    "\n",
    "It is possible to make arithmetic operations with the following operators, in precedence order:"
   ]
  },
  {
   "cell_type": "markdown",
   "metadata": {},
   "source": [
    "|Operator|Description|\n",
    "|---------|-----------|\n",
    "|`**`|power|\n",
    "|`+` `-`| Unary plus and minus|\n",
    "|`*` `/` `//` `%`|Multiplication, division, integer division, module|\n",
    "|`+` `-`| Addition and subtraction|"
   ]
  },
  {
   "cell_type": "markdown",
   "metadata": {},
   "source": [
    "There are also several predefined functions:\n",
    "\n",
    "\n",
    "|Function|Description|\n",
    "|--------|-----------|\n",
    "|`min(x,y, ...)`| the minimum among given numbers|\n",
    "|`max(x,y, ...)`| the maximum among given numbers|\n",
    "|`abs(x)`| the absolute value|"
   ]
  },
  {
   "cell_type": "markdown",
   "metadata": {},
   "source": [
    "\n",
    "Others are available in the [math](https://docs.python.org/3/library/math.html) module (remember that in order to use them you must first import the module `math` by typing `import math`):\n",
    "\n",
    "|Function|Description|\n",
    "|--------|-----------|\n",
    "|`math.floor(x)`| round `x` to inferior integer|\n",
    "|`math.ceil(x)`| round `x` to superior integer|\n",
    "|`math.sqrt(x)`| the square root|\n",
    "|`math.log(x)`| the natural logarithm of `n` |\n",
    "|`math.log(x,b)`| the logarithm of `n` in base `b`|\n",
    "\n",
    "... plus many others we don't report here."
   ]
  },
  {
   "cell_type": "markdown",
   "metadata": {},
   "source": [
    "## Integer numbers\n",
    "\n",
    "The range of values that integer can have is only limited by available memory. To work with numbers, Python also provides these operators:"
   ]
  },
  {
   "cell_type": "code",
   "execution_count": 31,
   "metadata": {},
   "outputs": [
    {
     "data": {
      "text/plain": [
       "11"
      ]
     },
     "execution_count": 31,
     "metadata": {},
     "output_type": "execute_result"
    }
   ],
   "source": [
    "7 + 4"
   ]
  },
  {
   "cell_type": "code",
   "execution_count": 32,
   "metadata": {},
   "outputs": [
    {
     "data": {
      "text/plain": [
       "3"
      ]
     },
     "execution_count": 32,
     "metadata": {},
     "output_type": "execute_result"
    }
   ],
   "source": [
    "7 - 4"
   ]
  },
  {
   "cell_type": "code",
   "execution_count": 33,
   "metadata": {},
   "outputs": [
    {
     "data": {
      "text/plain": [
       "1"
      ]
     },
     "execution_count": 33,
     "metadata": {},
     "output_type": "execute_result"
    }
   ],
   "source": [
    "7 // 4"
   ]
  },
  {
   "cell_type": "markdown",
   "metadata": {},
   "source": [
    "**NOTE**: the following division among integers produces a **float** result, which uses a **dot** as separator for the decimals (we will see more details later):"
   ]
  },
  {
   "cell_type": "code",
   "execution_count": 34,
   "metadata": {},
   "outputs": [
    {
     "data": {
      "text/plain": [
       "1.75"
      ]
     },
     "execution_count": 34,
     "metadata": {},
     "output_type": "execute_result"
    }
   ],
   "source": [
    "7 / 4  "
   ]
  },
  {
   "cell_type": "code",
   "execution_count": 35,
   "metadata": {},
   "outputs": [
    {
     "data": {
      "text/plain": [
       "float"
      ]
     },
     "execution_count": 35,
     "metadata": {},
     "output_type": "execute_result"
    }
   ],
   "source": [
    "type(7 / 4)"
   ]
  },
  {
   "cell_type": "code",
   "execution_count": 36,
   "metadata": {},
   "outputs": [
    {
     "data": {
      "text/plain": [
       "28"
      ]
     },
     "execution_count": 36,
     "metadata": {},
     "output_type": "execute_result"
    }
   ],
   "source": [
    "7 * 4"
   ]
  },
  {
   "cell_type": "markdown",
   "metadata": {},
   "source": [
    "**NOTE:** in many programming languages the power operation is denoted with the cap `^`, but in Python it is denoted with double asterisk `**`:"
   ]
  },
  {
   "cell_type": "code",
   "execution_count": 37,
   "metadata": {},
   "outputs": [
    {
     "data": {
      "text/plain": [
       "2401"
      ]
     },
     "execution_count": 37,
     "metadata": {},
     "output_type": "execute_result"
    }
   ],
   "source": [
    "7 ** 4   # power"
   ]
  },
  {
   "cell_type": "markdown",
   "metadata": {},
   "source": [
    "### Exercise - deadline 1\n",
    "\n",
    "✪ You are given a very important deadline in:"
   ]
  },
  {
   "cell_type": "code",
   "execution_count": 38,
   "metadata": {},
   "outputs": [],
   "source": [
    "days = 4\n",
    "hours = 13\n",
    "minutes = 52"
   ]
  },
  {
   "cell_type": "markdown",
   "metadata": {},
   "source": [
    "Write some code that prints the total minutes. By executing it, it should result:\n",
    "\n",
    "```\n",
    "In total there are 6592 minutes left.\n",
    "```"
   ]
  },
  {
   "cell_type": "raw",
   "id": "c9695050",
   "metadata": {
    "format": "text/html"
   },
   "source": [
    "<a  class=\"jupman-sol jupman-sol-toggler\" \n",
    " onclick=\"jupman.toggleSolution(this);\" \n",
    " data-jupman-show=\"Show solution\" data-jupman-hide=\"Hide\">Show solution</a><div class=\"jupman-sol jupman-sol-code\" style=\"display:none\">  "
   ]
  },
  {
   "cell_type": "code",
   "execution_count": 39,
   "metadata": {},
   "outputs": [
    {
     "name": "stdout",
     "output_type": "stream",
     "text": [
      "In total there are 6592 minutes left\n"
     ]
    }
   ],
   "source": [
    "days = 4\n",
    "hours = 13\n",
    "minutes = 52\n",
    "\n",
    "# write here\n",
    "print(\"In total there are\", days*24*60 + hours*60 + minutes, \"minutes left\")"
   ]
  },
  {
   "cell_type": "raw",
   "id": "31e30b36",
   "metadata": {
    "format": "text/html"
   },
   "source": [
    "</div>"
   ]
  },
  {
   "cell_type": "code",
   "execution_count": 39,
   "metadata": {},
   "outputs": [
    {
     "name": "stdout",
     "output_type": "stream",
     "text": [
      "In total there are 6592 minutes left\n"
     ]
    }
   ],
   "source": [
    "days = 4\n",
    "hours = 13\n",
    "minutes = 52\n",
    "\n",
    "# write here\n",
    "\n"
   ]
  },
  {
   "cell_type": "markdown",
   "metadata": {},
   "source": [
    "### Modulo operator\n",
    "\n",
    "To find the reminder of a division among integers, we can use the modulo operator which is denoted with `%`:"
   ]
  },
  {
   "cell_type": "code",
   "execution_count": 40,
   "metadata": {},
   "outputs": [
    {
     "data": {
      "text/plain": [
       "2"
      ]
     },
     "execution_count": 40,
     "metadata": {},
     "output_type": "execute_result"
    }
   ],
   "source": [
    "5 % 3  # 5 divided by 3 gives 2 as reminder "
   ]
  },
  {
   "cell_type": "code",
   "execution_count": 41,
   "metadata": {},
   "outputs": [
    {
     "data": {
      "text/plain": [
       "1"
      ]
     },
     "execution_count": 41,
     "metadata": {},
     "output_type": "execute_result"
    }
   ],
   "source": [
    "5 % 4"
   ]
  },
  {
   "cell_type": "code",
   "execution_count": 42,
   "metadata": {},
   "outputs": [
    {
     "data": {
      "text/plain": [
       "0"
      ]
     },
     "execution_count": 42,
     "metadata": {},
     "output_type": "execute_result"
    }
   ],
   "source": [
    "5 % 5"
   ]
  },
  {
   "cell_type": "code",
   "execution_count": 43,
   "metadata": {},
   "outputs": [
    {
     "data": {
      "text/plain": [
       "5"
      ]
     },
     "execution_count": 43,
     "metadata": {},
     "output_type": "execute_result"
    }
   ],
   "source": [
    "5 % 6"
   ]
  },
  {
   "cell_type": "code",
   "execution_count": 44,
   "metadata": {},
   "outputs": [
    {
     "data": {
      "text/plain": [
       "5"
      ]
     },
     "execution_count": 44,
     "metadata": {},
     "output_type": "execute_result"
    }
   ],
   "source": [
    "5 % 7"
   ]
  },
  {
   "cell_type": "markdown",
   "metadata": {},
   "source": [
    "### Exercise - deadline 2\n",
    "\n",
    "✪ For another super important deadline there are left:\n",
    "\n",
    "```python\n",
    "tot_minutes = 5000\n",
    "```\n",
    "Write some code that prints:\n",
    "\n",
    "```\n",
    "There are left:\n",
    "   3 days\n",
    "   11 hours\n",
    "   20 minutes\n",
    "```"
   ]
  },
  {
   "cell_type": "raw",
   "id": "bf5b1eee",
   "metadata": {
    "format": "text/html"
   },
   "source": [
    "<a  class=\"jupman-sol jupman-sol-toggler\" \n",
    " onclick=\"jupman.toggleSolution(this);\" \n",
    " data-jupman-show=\"Show solution\" data-jupman-hide=\"Hide\">Show solution</a><div class=\"jupman-sol jupman-sol-code\" style=\"display:none\">  "
   ]
  },
  {
   "cell_type": "code",
   "execution_count": 45,
   "metadata": {},
   "outputs": [
    {
     "name": "stdout",
     "output_type": "stream",
     "text": [
      "There are left:\n",
      "   3 days\n",
      "   11 hours\n",
      "   20 minutes\n"
     ]
    }
   ],
   "source": [
    "tot_minutes = 5000\n",
    "\n",
    "# write here\n",
    "print('There are left:')\n",
    "print('  ', tot_minutes // (60*24), 'days')\n",
    "print('  ', (tot_minutes % (60*24)) // 60, 'hours')\n",
    "print('  ', (tot_minutes % (60*24)) % 60, 'minutes')"
   ]
  },
  {
   "cell_type": "raw",
   "id": "a54dbfc1",
   "metadata": {
    "format": "text/html"
   },
   "source": [
    "</div>"
   ]
  },
  {
   "cell_type": "code",
   "execution_count": 45,
   "metadata": {},
   "outputs": [
    {
     "name": "stdout",
     "output_type": "stream",
     "text": [
      "There are left:\n",
      "   3 days\n",
      "   11 hours\n",
      "   20 minutes\n"
     ]
    }
   ],
   "source": [
    "tot_minutes = 5000\n",
    "\n",
    "# write here\n",
    "\n"
   ]
  },
  {
   "cell_type": "markdown",
   "metadata": {},
   "source": [
    "### min and max\n",
    "\n",
    "The minimum among two numbers can be calculated with the function `min`:"
   ]
  },
  {
   "cell_type": "code",
   "execution_count": 46,
   "metadata": {
    "scrolled": true
   },
   "outputs": [
    {
     "data": {
      "text/plain": [
       "3"
      ]
     },
     "execution_count": 46,
     "metadata": {},
     "output_type": "execute_result"
    }
   ],
   "source": [
    "min(7,3)"
   ]
  },
  {
   "cell_type": "markdown",
   "metadata": {},
   "source": [
    "and the maximum with the function `max`:"
   ]
  },
  {
   "cell_type": "code",
   "execution_count": 47,
   "metadata": {},
   "outputs": [
    {
     "data": {
      "text/plain": [
       "6"
      ]
     },
     "execution_count": 47,
     "metadata": {},
     "output_type": "execute_result"
    }
   ],
   "source": [
    "max(2,6)"
   ]
  },
  {
   "cell_type": "markdown",
   "metadata": {},
   "source": [
    "To `min` and `max` we can pass an arbitrary number of parameters, even negatives:"
   ]
  },
  {
   "cell_type": "code",
   "execution_count": 48,
   "metadata": {},
   "outputs": [
    {
     "data": {
      "text/plain": [
       "-3"
      ]
     },
     "execution_count": 48,
     "metadata": {},
     "output_type": "execute_result"
    }
   ],
   "source": [
    "min(2,9,-3,5)"
   ]
  },
  {
   "cell_type": "code",
   "execution_count": 49,
   "metadata": {},
   "outputs": [
    {
     "data": {
      "text/plain": [
       "9"
      ]
     },
     "execution_count": 49,
     "metadata": {},
     "output_type": "execute_result"
    }
   ],
   "source": [
    "max(2,9,-3,5)"
   ]
  },
  {
   "cell_type": "markdown",
   "metadata": {},
   "source": [
    "<div class=\"alert alert-info\" >\n",
    "\n",
    "[V COMMANDMENT](https://en.softpython.org/commandments.html#V-COMMANDMENT): **You shall never ever redefine system functions like** `min` **and** `max` \n",
    "</div>\n",
    "\n",
    "If you use `min` and `max` like they were variables, the corresponding functions will _literally_ stop to work!\n",
    "\n",
    "```python\n",
    "min = 4   # NOOOO !\n",
    "max = 7   # DON'T DO IT !\n",
    "```"
   ]
  },
  {
   "cell_type": "markdown",
   "metadata": {},
   "source": [
    "**QUESTION**: given two numbers `a` and `b`, which of the following expressions are equivalent?\n",
    "\n",
    "```python\n",
    "1. max(a,b)\n",
    "2. max(min(a,b),b)\n",
    "3. -min(-a,-b)\n",
    "4. -max(-a,-b)\n",
    "```"
   ]
  },
  {
   "cell_type": "raw",
   "id": "16de717d",
   "metadata": {
    "format": "text/html"
   },
   "source": [
    "<a  class=\"jupman-sol jupman-sol-toggler\" \n",
    " onclick=\"jupman.toggleSolution(this);\" \n",
    " data-jupman-show=\"Show answer\" data-jupman-hide=\"Hide\">Show answer</a><div class=\"jupman-sol jupman-sol-question\" style=\"display:none\">  "
   ]
  },
  {
   "cell_type": "markdown",
   "metadata": {},
   "source": [
    "**ANSWER**:  1. and 3. are equivalent"
   ]
  },
  {
   "cell_type": "raw",
   "id": "b2603eea",
   "metadata": {
    "format": "text/html"
   },
   "source": [
    "</div>"
   ]
  },
  {
   "cell_type": "markdown",
   "metadata": {},
   "source": [
    "### Exercise - transportation\n",
    "\n",
    "✪✪ A company has a truck that every day delivers products to its best client. The truck can at most transport 10 tons of material. Unfortunately, the roads it can drive through have bridges that limit the maximum weight a vehicle can have to pass. These limits are provided in 5 variables:\n",
    "\n",
    "```python\n",
    "b1,b2,b3,b4,b5 = 7,2,4,3,6\n",
    "```\n",
    "\n",
    "The truck must always go through the bridge `b1`, then along the journey there are three possible itineraries available:\n",
    "\n",
    "- In the first itinerary, the truck also drives through bridge `b2`\n",
    "- In the second itinerary, the truck also drives through bridges `b3` and `b4`\n",
    "- In the third itinerary, the truck also drives though bridge `b5 \n",
    "\n",
    "The company wants to know which are the maximum tons it can drive to destination in a sngle journey. Write some code to print this number.\n",
    "\n",
    "**NOTE**: we do not want to know which is the best itinerary, we only need to find the greatest number of tons to ship.\n",
    "\n",
    "Example - given:\n",
    "\n",
    "```python\n",
    "b1,b2,b3,b4,b5 = 7,2,4,6,3\n",
    "```\n",
    "\n",
    "your code must print:\n",
    "\n",
    "```\n",
    "In a single journey we can transport at most 4 tons.\n",
    "```"
   ]
  },
  {
   "cell_type": "raw",
   "id": "414035bd",
   "metadata": {
    "format": "text/html"
   },
   "source": [
    "<a  class=\"jupman-sol jupman-sol-toggler\" \n",
    " onclick=\"jupman.toggleSolution(this);\" \n",
    " data-jupman-show=\"Show solution\" data-jupman-hide=\"Hide\">Show solution</a><div class=\"jupman-sol jupman-sol-code\" style=\"display:none\">  "
   ]
  },
  {
   "cell_type": "code",
   "execution_count": 50,
   "metadata": {},
   "outputs": [
    {
     "name": "stdout",
     "output_type": "stream",
     "text": [
      "In a single journey we can transport at most 4 tons\n"
     ]
    }
   ],
   "source": [
    "b1,b2,b3,b4,b5 = 7,2,4,6,3   # 4\n",
    "#b1,b2,b3,b4,b5 = 2,6,2,4,5  # 2\n",
    "#b1,b2,b3,b4,b5 = 8,6,2,9,5  # 6\n",
    "#b1,b2,b3,b4,b5 = 8,9,9,4,7  # 8\n",
    "\n",
    "\n",
    "# write here\n",
    "\n",
    "print('In a single journey we can transport at most',\n",
    "       max(min(b1,b2), min(b1,b3,b4),min(b1,b5)),\n",
    "      'tons')"
   ]
  },
  {
   "cell_type": "raw",
   "id": "3e8fc2d6",
   "metadata": {
    "format": "text/html"
   },
   "source": [
    "</div>"
   ]
  },
  {
   "cell_type": "code",
   "execution_count": 50,
   "metadata": {},
   "outputs": [
    {
     "name": "stdout",
     "output_type": "stream",
     "text": [
      "In a single journey we can transport at most 4 tons\n"
     ]
    }
   ],
   "source": [
    "b1,b2,b3,b4,b5 = 7,2,4,6,3   # 4\n",
    "#b1,b2,b3,b4,b5 = 2,6,2,4,5  # 2\n",
    "#b1,b2,b3,b4,b5 = 8,6,2,9,5  # 6\n",
    "#b1,b2,b3,b4,b5 = 8,9,9,4,7  # 8\n",
    "\n",
    "\n",
    "# write here\n",
    "\n"
   ]
  },
  {
   "cell_type": "markdown",
   "metadata": {},
   "source": [
    "### Exercise - armchairs\n",
    "\n",
    "✪✪ The tycoon De Industrionis owns two factories of armchairs, one in Belluno city and one in Rovigo. To make an armchair three main components are needed: a mattress, a seatback and a cover. Each factory produces all required components, taking a certain time to produce each component:"
   ]
  },
  {
   "cell_type": "code",
   "execution_count": 51,
   "metadata": {},
   "outputs": [],
   "source": [
    "b_mat, b_bac, b_cov, r_mat, r_bac, r_cov = 23,54,12,13,37,24"
   ]
  },
  {
   "cell_type": "markdown",
   "metadata": {},
   "source": [
    "Belluno takes 23h to produce a mattress, 54h the seatcback and 12h the cover. Rovigo, respectively, takes 13, 37 and 24 hours. When the 3 components are ready, assembling them in the finished armchair requires one hour.\n",
    "\n",
    "Sometimes peculiar requests are made by filthy rich nobles, that pretends to be shipped in a few hours armchairs with extravagant like seatback in solid platinum and other nonsense.\n",
    "\n",
    "If the two factories start producting the components at the same time, De Industrionis wants to know in how much time the first armchair will be produced. Write some code to calculate that number.\n",
    " \n",
    "* **NOTE 1**: we are not interested in which factory will produce the armchair, we just want to know the shortest time in which we will get an armchair\n",
    "* **NOTE 2**: suppose both factories **don't** have components in store\n",
    "* **NOTE 3**: the two factories **do not** exchange components"
   ]
  },
  {
   "cell_type": "markdown",
   "metadata": {},
   "source": [
    "\n",
    "Example 1 - given:\n",
    "\n",
    "```python\n",
    "b_mat, b_bac, b_cov, r_mat, r_bac, r_cov = 23,54,12,13,37,24\n",
    "```\n",
    "your code must print:\n",
    "\n",
    "```\n",
    "The first armchair will be produced in 38 hours.\n",
    "```\n",
    "\n",
    "Example 2 - given:\n",
    "\n",
    "```python\n",
    "b_mat, b_bac, b_cov, r_mat, r_bac, r_cov = 81,37,32,54,36,91\n",
    "```\n",
    "your code must print:\n",
    "\n",
    "```\n",
    "The first armchair will be produced in 82 hours.\n",
    "```"
   ]
  },
  {
   "cell_type": "raw",
   "id": "b154108a",
   "metadata": {
    "format": "text/html"
   },
   "source": [
    "<a  class=\"jupman-sol jupman-sol-toggler\" \n",
    " onclick=\"jupman.toggleSolution(this);\" \n",
    " data-jupman-show=\"Show solution\" data-jupman-hide=\"Hide\">Show solution</a><div class=\"jupman-sol jupman-sol-code\" style=\"display:none\">  "
   ]
  },
  {
   "cell_type": "code",
   "execution_count": 52,
   "metadata": {},
   "outputs": [
    {
     "name": "stdout",
     "output_type": "stream",
     "text": [
      "The first armchair will be produced in 38 hours.\n"
     ]
    }
   ],
   "source": [
    "\n",
    "b_mat, b_bac, b_cov, r_mat, r_bac, r_cov = 23,54,12,13,37,24   # 38\n",
    "#b_mat, b_bac, b_cov, r_mat, r_bac, r_cov = 81,37,32,54,36,91  # 82\n",
    "#b_mat, b_bac, b_cov, r_mat, r_bac, r_cov = 21,39,47,54,36,91  # 48\n",
    "\n",
    "# write here\n",
    "\n",
    "t = min(max(b_mat, b_bac, b_cov) + 1, max(r_mat, r_bac, r_cov) + 1)\n",
    "\n",
    "print('The first armchair will be produced in', t,'hours.')"
   ]
  },
  {
   "cell_type": "raw",
   "id": "d2b04d42",
   "metadata": {
    "format": "text/html"
   },
   "source": [
    "</div>"
   ]
  },
  {
   "cell_type": "code",
   "execution_count": 52,
   "metadata": {},
   "outputs": [
    {
     "name": "stdout",
     "output_type": "stream",
     "text": [
      "The first armchair will be produced in 38 hours.\n"
     ]
    }
   ],
   "source": [
    "\n",
    "b_mat, b_bac, b_cov, r_mat, r_bac, r_cov = 23,54,12,13,37,24   # 38\n",
    "#b_mat, b_bac, b_cov, r_mat, r_bac, r_cov = 81,37,32,54,36,91  # 82\n",
    "#b_mat, b_bac, b_cov, r_mat, r_bac, r_cov = 21,39,47,54,36,91  # 48\n",
    "\n",
    "# write here\n",
    "\n"
   ]
  },
  {
   "cell_type": "markdown",
   "metadata": {},
   "source": [
    "## Booleans\n",
    "\n",
    "Values of truth in Python are represented with the keywords `True` and `False`. A boolean object can only have the values `True` or `False`. These objects are used in boolean algebra and have the type `bool`."
   ]
  },
  {
   "cell_type": "code",
   "execution_count": 53,
   "metadata": {},
   "outputs": [],
   "source": [
    "x = True"
   ]
  },
  {
   "cell_type": "code",
   "execution_count": 54,
   "metadata": {},
   "outputs": [
    {
     "data": {
      "text/plain": [
       "True"
      ]
     },
     "execution_count": 54,
     "metadata": {},
     "output_type": "execute_result"
    }
   ],
   "source": [
    "x"
   ]
  },
  {
   "cell_type": "code",
   "execution_count": 55,
   "metadata": {},
   "outputs": [
    {
     "data": {
      "text/plain": [
       "bool"
      ]
     },
     "execution_count": 55,
     "metadata": {},
     "output_type": "execute_result"
    }
   ],
   "source": [
    "type(x)"
   ]
  },
  {
   "cell_type": "code",
   "execution_count": 56,
   "metadata": {},
   "outputs": [],
   "source": [
    "y = False"
   ]
  },
  {
   "cell_type": "code",
   "execution_count": 57,
   "metadata": {},
   "outputs": [
    {
     "data": {
      "text/plain": [
       "bool"
      ]
     },
     "execution_count": 57,
     "metadata": {},
     "output_type": "execute_result"
    }
   ],
   "source": [
    "type(y)"
   ]
  },
  {
   "cell_type": "markdown",
   "metadata": {},
   "source": [
    "### Boolean operators\n",
    "\n",
    "We can operate on boolean values with the operators `not`, `and`, `or`:"
   ]
  },
  {
   "cell_type": "code",
   "execution_count": 58,
   "metadata": {},
   "outputs": [
    {
     "data": {
      "text/plain": [
       "True"
      ]
     },
     "execution_count": 58,
     "metadata": {},
     "output_type": "execute_result"
    }
   ],
   "source": [
    "# Expression     Result\n",
    "not True         # False\n",
    "not False        # True\n",
    "\n",
    "False and False  # False\n",
    "False and True   # False\n",
    "True  and False  # False\n",
    "True  and True   # True\n",
    "\n",
    "False or False   # False\n",
    "False or True    # True\n",
    "True  or False   # True\n",
    "True  or True    # True"
   ]
  },
  {
   "cell_type": "markdown",
   "metadata": {},
   "source": [
    "### Booleans - Questions with costants\n",
    "\n",
    "**QUESTION**: For each of the following boolean expressions, try guessing the result (_before_ guess, and _then_ try them !):\n",
    "\n",
    "\n",
    "1.  ```python\n",
    "    not (True and False)\n",
    "    ```\n",
    "1.  ```python    \n",
    "    (not True) or (not (True or False))\n",
    "    ```\n",
    "1.  ```python\n",
    "    not (not True)\n",
    "    ```\n",
    "1.  ```python    \n",
    "    not (True and (False or True))\n",
    "    ```\n",
    "1.  ```python    \n",
    "    not (not (not False))\n",
    "    ```\n",
    "1.  ```python    \n",
    "    True and (not (not((not False) and True)))\n",
    "    ```\n",
    "1.  ```python    \n",
    "    False or (False or ((True and True) and (True and False)))\n",
    "    ```\n"
   ]
  },
  {
   "cell_type": "markdown",
   "metadata": {},
   "source": [
    "### Booleans - Questions with variables"
   ]
  },
  {
   "cell_type": "markdown",
   "metadata": {},
   "source": [
    "**QUESTION**: For each of these expressions, for which values of `x` and `y` they give `True`? Try to think an answer before trying!\n",
    "\n",
    "**NOTE**: there can be many combinations that produce `True`, find them all\n",
    "\n",
    "1.  ```python\n",
    "    x or (not x)\n",
    "    ```\n",
    "1.  ```python\n",
    "    (not x) and (not y)\n",
    "    ```\n",
    "1.  ```python\n",
    "    x and (y or y)\n",
    "    ```\n",
    "1.  ```python\n",
    "    x and (not y)\n",
    "    ```\n",
    "1.  ```python\n",
    "    (not x) or  y\n",
    "    ```\n",
    "1.  ```python\n",
    "    y or not (y and x)\n",
    "    ```\n",
    "1.  ```python\n",
    "    x and ((not x) or not(y))\n",
    "    ```\n",
    "1.  ```python\n",
    "    (not (not x)) and not (x and y)\n",
    "    ```    \n",
    "1.  ```python\n",
    "    x and (x or (not(x) or not(not(x or not (x)))))\n",
    "    ```"
   ]
  },
  {
   "cell_type": "markdown",
   "metadata": {},
   "source": [
    "**QUESTION**:  For each of these expressions, for which values of `x` and `y` they give `False`?\n",
    "\n",
    "**NOTE**: there can be many combinations that produce `False`, find them all\n",
    "\n",
    "1.  ```python\n",
    "    x or ((not y) or z)\n",
    "    ```\n",
    "1.  ```python\n",
    "    x or (not y) or (not z)\n",
    "    ```\n",
    "1.  ```python\n",
    "    not (x and y and (not z))\n",
    "    ```\n",
    "1.  ```python\n",
    "    not (x and (not y) and (x or z))\n",
    "    ```\n",
    "1.  ```python\n",
    "    y or ((x or y) and (not z))\n",
    "    ```"
   ]
  },
  {
   "cell_type": "markdown",
   "metadata": {},
   "source": [
    "### Booleans - De Morgan\n",
    "\n",
    "There are a couple of laws that sometimes are useful:\n",
    "\n",
    "| Formula| Equivalent to|\n",
    "|-|-|\n",
    "|`x or y`|`not(not x and not y)`|\n",
    "|`x and y`|`not(not x or not y)`|\n",
    "\n",
    "**QUESTION**: Look at following expressions, and try to rewrite them in equivalent ones by using De Morgan laws, simplifying the result wherever possible. Then verify the translation produces the same result as the original for all possible values of `x` and `y`.\n",
    "\n",
    "1.  ```python\n",
    "    (not x) or y\n",
    "    ```\n",
    "1.  ```python\n",
    "    (not x) and (not y)\n",
    "    ```    \n",
    "1.  ```python\n",
    "    (not x) and (not (x or y))\n",
    "    ```        \n",
    "\n",
    "Example:\n",
    "\n",
    "```python\n",
    "x,y = False, False\n",
    "#x,y = False, True\n",
    "#x,y = True, False\n",
    "#x,y = True, True\n",
    "\n",
    "orig = x or y\n",
    "trans = not((not x) and (not y))\n",
    "print('orig=',orig)\n",
    "print('trans=',trans)\n",
    "```"
   ]
  },
  {
   "cell_type": "code",
   "execution_count": 59,
   "metadata": {},
   "outputs": [],
   "source": [
    "# write here\n",
    "\n"
   ]
  },
  {
   "cell_type": "markdown",
   "metadata": {},
   "source": [
    "### Booleans - Conversion\n",
    "\n",
    "We can convert booleans into intergers with the predefined function `int`. Each integer can be converted into a boolean (and vice versa) with `bool`:"
   ]
  },
  {
   "cell_type": "code",
   "execution_count": 60,
   "metadata": {},
   "outputs": [
    {
     "data": {
      "text/plain": [
       "True"
      ]
     },
     "execution_count": 60,
     "metadata": {},
     "output_type": "execute_result"
    }
   ],
   "source": [
    "bool(1)"
   ]
  },
  {
   "cell_type": "code",
   "execution_count": 61,
   "metadata": {},
   "outputs": [
    {
     "data": {
      "text/plain": [
       "False"
      ]
     },
     "execution_count": 61,
     "metadata": {},
     "output_type": "execute_result"
    }
   ],
   "source": [
    "bool(0)"
   ]
  },
  {
   "cell_type": "code",
   "execution_count": 62,
   "metadata": {},
   "outputs": [
    {
     "data": {
      "text/plain": [
       "True"
      ]
     },
     "execution_count": 62,
     "metadata": {},
     "output_type": "execute_result"
    }
   ],
   "source": [
    "bool(72)"
   ]
  },
  {
   "cell_type": "code",
   "execution_count": 63,
   "metadata": {},
   "outputs": [
    {
     "data": {
      "text/plain": [
       "True"
      ]
     },
     "execution_count": 63,
     "metadata": {},
     "output_type": "execute_result"
    }
   ],
   "source": [
    "bool(-5)"
   ]
  },
  {
   "cell_type": "code",
   "execution_count": 64,
   "metadata": {},
   "outputs": [
    {
     "data": {
      "text/plain": [
       "1"
      ]
     },
     "execution_count": 64,
     "metadata": {},
     "output_type": "execute_result"
    }
   ],
   "source": [
    "int(True)"
   ]
  },
  {
   "cell_type": "code",
   "execution_count": 65,
   "metadata": {},
   "outputs": [
    {
     "data": {
      "text/plain": [
       "0"
      ]
     },
     "execution_count": 65,
     "metadata": {},
     "output_type": "execute_result"
    }
   ],
   "source": [
    "int(False)"
   ]
  },
  {
   "cell_type": "markdown",
   "metadata": {},
   "source": [
    "Each integer is valued to `True` except `0`. Note that truth values `True` and `False` behave respectively like integers `1` and `0`."
   ]
  },
  {
   "cell_type": "markdown",
   "metadata": {},
   "source": [
    "### Booleans - Questions - what is a boolean?\n",
    "\n",
    "**QUESTION**: For each of these expressions, which results it produces?\n",
    "\n",
    "1.  ```python\n",
    "    bool(True)\n",
    "    ```\n",
    "1.  ```python\n",
    "    bool(False)\n",
    "    ```\n",
    "1.  ```python\n",
    "    bool(2 + 4)\n",
    "    ```\n",
    "\n",
    "1.  ```python\n",
    "    bool(4-3-1)\n",
    "    ```\n",
    "1.  ```python\n",
    "    int(4-3-1)\n",
    "    ```\n",
    "1.  ```python\n",
    "    True + True\n",
    "    ```\n",
    "1.  ```python\n",
    "    True + False\n",
    "    ```\n",
    "1.  ```python\n",
    "    True - True\n",
    "    ```\n",
    "1.  ```python\n",
    "    True * True\n",
    "    ```"
   ]
  },
  {
   "cell_type": "markdown",
   "metadata": {},
   "source": [
    "### Booleans - Evaluation order \n",
    "\n",
    "\n",
    "For efficiency reasons, during the evaluation of a boolean expression if Python discovers the possible result can only be one, it then avoids to calculate further expressions. For example, in this expression:\n",
    "\n",
    "```python\n",
    "False and x\n",
    "```\n",
    "\n",
    "by reading from left to right, in the moment we encounter `False` we already know that the result of `and` operation will always be `False` independetly from the value of `x` (convince yourself).\n",
    "\n",
    "Instead, if while reading from left to right Python finds first `True`, it will continue the evaluation of following  expressions and as result of the whole `and` will return the evaluation of the **last** expression. If we are using booleans, we will not notice the differences, but by exchanging types we might get surprises:"
   ]
  },
  {
   "cell_type": "code",
   "execution_count": 66,
   "metadata": {},
   "outputs": [
    {
     "data": {
      "text/plain": [
       "5"
      ]
     },
     "execution_count": 66,
     "metadata": {},
     "output_type": "execute_result"
    }
   ],
   "source": [
    "True and 5"
   ]
  },
  {
   "cell_type": "code",
   "execution_count": 67,
   "metadata": {},
   "outputs": [
    {
     "data": {
      "text/plain": [
       "True"
      ]
     },
     "execution_count": 67,
     "metadata": {},
     "output_type": "execute_result"
    }
   ],
   "source": [
    "5 and True"
   ]
  },
  {
   "cell_type": "code",
   "execution_count": 68,
   "metadata": {},
   "outputs": [
    {
     "data": {
      "text/plain": [
       "False"
      ]
     },
     "execution_count": 68,
     "metadata": {},
     "output_type": "execute_result"
    }
   ],
   "source": [
    "False and 5"
   ]
  },
  {
   "cell_type": "code",
   "execution_count": 69,
   "metadata": {},
   "outputs": [
    {
     "data": {
      "text/plain": [
       "False"
      ]
     },
     "execution_count": 69,
     "metadata": {},
     "output_type": "execute_result"
    }
   ],
   "source": [
    "5 and False"
   ]
  },
  {
   "cell_type": "markdown",
   "metadata": {},
   "source": [
    "Let's think which order of evaluation Python might use for the `or` operator. Have a look at the expression:\n",
    "\n",
    "```python\n",
    "True or x\n",
    "```\n",
    "\n",
    "By reading from left to right, as soon as we find the `True` we mich conclude  that the result of the whole `or` must be `True` independently from the value of `x` (convince yourself).\n",
    "\n",
    "Instead, if the first value is `False`, Python will continue in the evaluation until it finds a logical value `True`, when this happens that value will be the result of the whole expression. We can notice it if we use different costants from `True` and `False`:"
   ]
  },
  {
   "cell_type": "code",
   "execution_count": 70,
   "metadata": {},
   "outputs": [
    {
     "data": {
      "text/plain": [
       "5"
      ]
     },
     "execution_count": 70,
     "metadata": {},
     "output_type": "execute_result"
    }
   ],
   "source": [
    "False or 5"
   ]
  },
  {
   "cell_type": "code",
   "execution_count": 71,
   "metadata": {},
   "outputs": [
    {
     "data": {
      "text/plain": [
       "7"
      ]
     },
     "execution_count": 71,
     "metadata": {},
     "output_type": "execute_result"
    }
   ],
   "source": [
    "7 or False"
   ]
  },
  {
   "cell_type": "code",
   "execution_count": 72,
   "metadata": {},
   "outputs": [
    {
     "data": {
      "text/plain": [
       "3"
      ]
     },
     "execution_count": 72,
     "metadata": {},
     "output_type": "execute_result"
    }
   ],
   "source": [
    "3 or True"
   ]
  },
  {
   "cell_type": "markdown",
   "metadata": {},
   "source": [
    "The numbers you see have always a logical result coherent with the operations we did, that is, if you see `0` the expression result is intended to have logical value `False` and if you see a number different from `0` the result is intended to be `True` (convince yourself)."
   ]
  },
  {
   "cell_type": "markdown",
   "metadata": {},
   "source": [
    "**QUESTION**: Have a look at the following expressions, and for each of them try to guess which result it produces (or if it gives an error):\n",
    "\n",
    "1.  ```python\n",
    "    0 and True\n",
    "    ```\n",
    "1.  ```python\n",
    "    1 and 0\n",
    "    ```\n",
    "1.  ```python\n",
    "    True and -1\n",
    "    ```    \n",
    "1.  ```python\n",
    "    0 and False\n",
    "    ```    \n",
    "1.  ```python\n",
    "    0 or False\n",
    "    ```        \n",
    "1.  ```python\n",
    "    0 or 1\n",
    "    ```\n",
    "1.  ```python\n",
    "    False or -6\n",
    "    ```    \n",
    "1.  ```python\n",
    "    0 or True\n",
    "    ```       "
   ]
  },
  {
   "cell_type": "markdown",
   "metadata": {},
   "source": [
    "### Booleans - evaluation errors\n",
    "\n",
    "What happens if a boolean expression contains some code that would generate an error? According to intuition, the program should terminate, but it's not always like this. \n",
    "\n",
    "Let's try to generate an error on purpose. During math lessons they surely told you many times that dividing a number by zero is an error because the result is not defined. So if we try to ask Python what the result of `1/0` is we will (predictably) get complaints:"
   ]
  },
  {
   "cell_type": "markdown",
   "metadata": {},
   "source": [
    "```python\n",
    "print(1/0)\n",
    "print('after')\n",
    "\n",
    "---------------------------------------------------------------------------\n",
    "ZeroDivisionError                         Traceback (most recent call last)\n",
    "<ipython-input-51-9e1622b385b6> in <module>()\n",
    "----> 1 1/0\n",
    "\n",
    "ZeroDivisionError: division by zero\n",
    "\n",
    "```"
   ]
  },
  {
   "cell_type": "markdown",
   "metadata": {},
   "source": [
    "Notice that `'after'` _is not_  printed because the progam gets first interrupted.\n",
    "\n",
    "What if we try to write like this?"
   ]
  },
  {
   "cell_type": "code",
   "execution_count": 73,
   "metadata": {},
   "outputs": [
    {
     "data": {
      "text/plain": [
       "False"
      ]
     },
     "execution_count": 73,
     "metadata": {},
     "output_type": "execute_result"
    }
   ],
   "source": [
    "False and 1/0"
   ]
  },
  {
   "cell_type": "markdown",
   "metadata": {},
   "source": [
    "Python produces a result without complaining !  Why? Evaluating form left to right it found a `False` and so it concluded before hand that  the expression result must be `False`. Many times you will not be aware of these potential problems but it is good to understand them because there are indeed situations in which you can event exploit the execution order to prevent errors (for example in `if` and `while` instructions we will see later in the book)."
   ]
  },
  {
   "cell_type": "markdown",
   "metadata": {},
   "source": [
    "**QUESTION**: Look at the following expression, and for each of them try to guess which result it produces (or if it gives on error):\n",
    "\n",
    "1.  ```python\n",
    "    True and 1/0\n",
    "    ```\n",
    "1.  ```python\n",
    "    1/0 and 1/0\n",
    "    ```        \n",
    "1.  ```python\n",
    "    False or 1/0\n",
    "    ```\n",
    "1.  ```python\n",
    "    True or 1/0\n",
    "    ```\n",
    "1.  ```python\n",
    "    1/0 or True\n",
    "    ```    \n",
    "1.  ```python\n",
    "    1/0 or 1/0\n",
    "    ```    \n",
    "1.  ```python\n",
    "    True or (1/0 and True)\n",
    "    ```\n",
    "1.  ```python\n",
    "    (not False) or not 1/0\n",
    "    ```\n",
    "1.  ```python\n",
    "    True and 1/0 and True\n",
    "    ```\n",
    "1.  ```python\n",
    "    (not True) or 1/0 or True\n",
    "    ```\n",
    "1.  ```python\n",
    "    True and (not True) and 1/0\n",
    "    ```"
   ]
  },
  {
   "cell_type": "markdown",
   "metadata": {},
   "source": [
    "### Comparison operators\n",
    "\n",
    "Comparison operators allow to build _expressions_ which return a boolean value:\n",
    "\n",
    "|Comparator|Description|\n",
    "|-----------|-----------|\n",
    "|`a == b`| `True` if and only if a = b|\n",
    "|`a != b`| `True` if and only if a $\\neq$ b|\n",
    "|`a < b`| `True` if and only if a < b|\n",
    "|`a > b`| `True` if and only if a > b|\n",
    "|`a <= b`| `True` if and only if a $\\leq$ b|\n",
    "|`a >= b`| `True` if and only if a $\\geq$ b|"
   ]
  },
  {
   "cell_type": "code",
   "execution_count": 74,
   "metadata": {},
   "outputs": [
    {
     "data": {
      "text/plain": [
       "True"
      ]
     },
     "execution_count": 74,
     "metadata": {},
     "output_type": "execute_result"
    }
   ],
   "source": [
    "3 == 3"
   ]
  },
  {
   "cell_type": "code",
   "execution_count": 75,
   "metadata": {},
   "outputs": [
    {
     "data": {
      "text/plain": [
       "False"
      ]
     },
     "execution_count": 75,
     "metadata": {},
     "output_type": "execute_result"
    }
   ],
   "source": [
    "3 == 5"
   ]
  },
  {
   "cell_type": "code",
   "execution_count": 76,
   "metadata": {},
   "outputs": [],
   "source": [
    "a,b = 3,5"
   ]
  },
  {
   "cell_type": "code",
   "execution_count": 77,
   "metadata": {},
   "outputs": [
    {
     "data": {
      "text/plain": [
       "True"
      ]
     },
     "execution_count": 77,
     "metadata": {},
     "output_type": "execute_result"
    }
   ],
   "source": [
    "a == a"
   ]
  },
  {
   "cell_type": "code",
   "execution_count": 78,
   "metadata": {},
   "outputs": [
    {
     "data": {
      "text/plain": [
       "False"
      ]
     },
     "execution_count": 78,
     "metadata": {},
     "output_type": "execute_result"
    }
   ],
   "source": [
    "a == b"
   ]
  },
  {
   "cell_type": "code",
   "execution_count": 79,
   "metadata": {},
   "outputs": [
    {
     "data": {
      "text/plain": [
       "True"
      ]
     },
     "execution_count": 79,
     "metadata": {},
     "output_type": "execute_result"
    }
   ],
   "source": [
    "a == b - 2"
   ]
  },
  {
   "cell_type": "code",
   "execution_count": 80,
   "metadata": {},
   "outputs": [
    {
     "data": {
      "text/plain": [
       "True"
      ]
     },
     "execution_count": 80,
     "metadata": {},
     "output_type": "execute_result"
    }
   ],
   "source": [
    "3 != 5  # 3 is different from 5 ? "
   ]
  },
  {
   "cell_type": "code",
   "execution_count": 81,
   "metadata": {},
   "outputs": [
    {
     "data": {
      "text/plain": [
       "False"
      ]
     },
     "execution_count": 81,
     "metadata": {},
     "output_type": "execute_result"
    }
   ],
   "source": [
    "3 != 3  # 3 is different from 3 ? "
   ]
  },
  {
   "cell_type": "code",
   "execution_count": 82,
   "metadata": {},
   "outputs": [
    {
     "data": {
      "text/plain": [
       "True"
      ]
     },
     "execution_count": 82,
     "metadata": {},
     "output_type": "execute_result"
    }
   ],
   "source": [
    "3 < 5"
   ]
  },
  {
   "cell_type": "code",
   "execution_count": 83,
   "metadata": {},
   "outputs": [
    {
     "data": {
      "text/plain": [
       "False"
      ]
     },
     "execution_count": 83,
     "metadata": {},
     "output_type": "execute_result"
    }
   ],
   "source": [
    "5 < 5"
   ]
  },
  {
   "cell_type": "code",
   "execution_count": 84,
   "metadata": {},
   "outputs": [
    {
     "data": {
      "text/plain": [
       "True"
      ]
     },
     "execution_count": 84,
     "metadata": {},
     "output_type": "execute_result"
    }
   ],
   "source": [
    "5 <= 5"
   ]
  },
  {
   "cell_type": "code",
   "execution_count": 85,
   "metadata": {},
   "outputs": [
    {
     "data": {
      "text/plain": [
       "True"
      ]
     },
     "execution_count": 85,
     "metadata": {},
     "output_type": "execute_result"
    }
   ],
   "source": [
    "8 > 5"
   ]
  },
  {
   "cell_type": "code",
   "execution_count": 86,
   "metadata": {},
   "outputs": [
    {
     "data": {
      "text/plain": [
       "False"
      ]
     },
     "execution_count": 86,
     "metadata": {},
     "output_type": "execute_result"
    }
   ],
   "source": [
    "8 > 8"
   ]
  },
  {
   "cell_type": "code",
   "execution_count": 87,
   "metadata": {},
   "outputs": [
    {
     "data": {
      "text/plain": [
       "True"
      ]
     },
     "execution_count": 87,
     "metadata": {},
     "output_type": "execute_result"
    }
   ],
   "source": [
    "8 >= 8"
   ]
  },
  {
   "cell_type": "markdown",
   "metadata": {},
   "source": [
    "Since the comparison are expressions which produce booleans, we can also assign the result to a variable:"
   ]
  },
  {
   "cell_type": "code",
   "execution_count": 88,
   "metadata": {},
   "outputs": [],
   "source": [
    "x = 5 > 3"
   ]
  },
  {
   "cell_type": "code",
   "execution_count": 89,
   "metadata": {},
   "outputs": [
    {
     "name": "stdout",
     "output_type": "stream",
     "text": [
      "True\n"
     ]
    }
   ],
   "source": [
    "print(x)"
   ]
  },
  {
   "cell_type": "markdown",
   "metadata": {},
   "source": [
    "**QUESTION**: Look at the following expression, and for each of them try to guess which result it produces (or if it gives on error):\n",
    "\n",
    "1.  ```python\n",
    "    x = 3 == 4\n",
    "    print(x)\n",
    "    ```\n",
    "1.  ```python\n",
    "    x = False or True\n",
    "    print(x)\n",
    "    ```\n",
    "1.  ```python\n",
    "    True or False = x or False\n",
    "    print(x)\n",
    "    ```    \n",
    "1.  ```python\n",
    "    x,y = 9,10\n",
    "    z = x < y and x == 3**2\n",
    "    print(z)\n",
    "    ```\n",
    "1.  ```python\n",
    "    a,b = 7,6\n",
    "    a = b\n",
    "    x = a >= b + 1\n",
    "    print(x)\n",
    "    ```\n",
    "1.  ```python\n",
    "    x = 3^2\n",
    "    y = 9\n",
    "    print(x == y)\n",
    "    ```"
   ]
  },
  {
   "cell_type": "markdown",
   "metadata": {},
   "source": [
    "### Booleans - References\n",
    "\n",
    "- [Think Python, Chapter 5, Conditional instructions and recursion](http://greenteapress.com/thinkpython2/html/thinkpython2006.html) ,  in particular [Sctions 5.2 and 5.3, Boolean expressions](http://greenteapress.com/thinkpython2/html/thinkpython2006.html#sec59) You can skip recursion"
   ]
  },
  {
   "cell_type": "markdown",
   "metadata": {},
   "source": [
    "## Real numbers\n",
    "\n",
    "Python saves the real numbers (floating point numbers) in 64 bit of information divided by sign, exponent and mantissa (also called significand). Let's see an example:"
   ]
  },
  {
   "cell_type": "code",
   "execution_count": 90,
   "metadata": {},
   "outputs": [
    {
     "data": {
      "text/plain": [
       "3.14"
      ]
     },
     "execution_count": 90,
     "metadata": {},
     "output_type": "execute_result"
    }
   ],
   "source": [
    "3.14"
   ]
  },
  {
   "cell_type": "code",
   "execution_count": 91,
   "metadata": {},
   "outputs": [
    {
     "data": {
      "text/plain": [
       "float"
      ]
     },
     "execution_count": 91,
     "metadata": {},
     "output_type": "execute_result"
    }
   ],
   "source": [
    "type(3.14)"
   ]
  },
  {
   "cell_type": "markdown",
   "metadata": {},
   "source": [
    "<div class=\"alert alert-warning\">\n",
    "    \n",
    "**WARNING: you must use the dot instead of comma!**    \n",
    "    \n",
    "So you will write 3.14 instead of 3,14    \n",
    "    \n",
    "Be very careful, whenever you copy numbers from documents in latin languages, they might contain very  insidious commas!    \n",
    "</div>"
   ]
  },
  {
   "cell_type": "markdown",
   "metadata": {},
   "source": [
    "### Scientifical notation\n",
    "\n",
    "Whenever numbers are very big or very small, to avoid having to write too many zeros it is convenient to use scientifical notation with the _e_ like $xen$ which multiplies  the number _x_ by $10^n$\n",
    "\n",
    "With this notation, in memory are only put the most significative digits ( the _mantissa_ ) and the exponent, thus avoiding to waste space."
   ]
  },
  {
   "cell_type": "code",
   "execution_count": 92,
   "metadata": {},
   "outputs": [
    {
     "data": {
      "text/plain": [
       "750.0"
      ]
     },
     "execution_count": 92,
     "metadata": {},
     "output_type": "execute_result"
    }
   ],
   "source": [
    "75e1"
   ]
  },
  {
   "cell_type": "code",
   "execution_count": 93,
   "metadata": {},
   "outputs": [
    {
     "data": {
      "text/plain": [
       "7500.0"
      ]
     },
     "execution_count": 93,
     "metadata": {},
     "output_type": "execute_result"
    }
   ],
   "source": [
    "75e2"
   ]
  },
  {
   "cell_type": "code",
   "execution_count": 94,
   "metadata": {},
   "outputs": [
    {
     "data": {
      "text/plain": [
       "75000.0"
      ]
     },
     "execution_count": 94,
     "metadata": {},
     "output_type": "execute_result"
    }
   ],
   "source": [
    "75e3"
   ]
  },
  {
   "cell_type": "code",
   "execution_count": 95,
   "metadata": {},
   "outputs": [
    {
     "data": {
      "text/plain": [
       "7.5e+124"
      ]
     },
     "execution_count": 95,
     "metadata": {},
     "output_type": "execute_result"
    }
   ],
   "source": [
    "75e123"
   ]
  },
  {
   "cell_type": "code",
   "execution_count": 96,
   "metadata": {},
   "outputs": [
    {
     "data": {
      "text/plain": [
       "75.0"
      ]
     },
     "execution_count": 96,
     "metadata": {},
     "output_type": "execute_result"
    }
   ],
   "source": [
    "75e0"
   ]
  },
  {
   "cell_type": "code",
   "execution_count": 97,
   "metadata": {},
   "outputs": [
    {
     "data": {
      "text/plain": [
       "7.5"
      ]
     },
     "execution_count": 97,
     "metadata": {},
     "output_type": "execute_result"
    }
   ],
   "source": [
    "75e-1"
   ]
  },
  {
   "cell_type": "code",
   "execution_count": 98,
   "metadata": {},
   "outputs": [
    {
     "data": {
      "text/plain": [
       "0.75"
      ]
     },
     "execution_count": 98,
     "metadata": {},
     "output_type": "execute_result"
    }
   ],
   "source": [
    "75e-2"
   ]
  },
  {
   "cell_type": "code",
   "execution_count": 99,
   "metadata": {},
   "outputs": [
    {
     "data": {
      "text/plain": [
       "7.5e-122"
      ]
     },
     "execution_count": 99,
     "metadata": {},
     "output_type": "execute_result"
    }
   ],
   "source": [
    "75e-123"
   ]
  },
  {
   "cell_type": "markdown",
   "metadata": {},
   "source": [
    "**QUESTION**: Look at the following expressions, and try to find which result they produce (or if they give and error):\n",
    "    \n",
    "1.  ```python\n",
    "    print(1.000.000)\n",
    "    ```\n",
    "1.  ```\n",
    "    print(3,000,000.000)\n",
    "    ```\n",
    "1.  ```python\n",
    "    print(2000000.000)\n",
    "    ```\n",
    "1.  ```python\n",
    "    print(2000000.0)\n",
    "    ```\n",
    "1.  ```python\n",
    "    print(0.000.123)\n",
    "    ```    \n",
    "1.  ```python\n",
    "    print(0.123)\n",
    "    ```        \n",
    "1.  ```python\n",
    "    print(0.-123)\n",
    "    ```        \n",
    "    \n",
    "1.  ```python\n",
    "    print(3e0)\n",
    "    ```\n",
    "1.  ```python\n",
    "    print(3.0e0)\n",
    "    ```\n",
    "1.  ```python\n",
    "    print(7e-1)\n",
    "    ``` \n",
    "1.  ```python\n",
    "    print(3.0e2)\n",
    "    ```\n",
    "1.  ```python\n",
    "    print(3.0e-2)\n",
    "    ```    \n",
    "1.  ```python\n",
    "    print(3.0-e2)\n",
    "    ```\n",
    "1.  ```python\n",
    "    print(4e2-4e1)\n",
    "    ```"
   ]
  },
  {
   "cell_type": "markdown",
   "metadata": {},
   "source": [
    "### Too big or too small numbers \n",
    "\n",
    "Sometimes calculations on very big or extra small numbers  may give as a result `math.nan` (Not a Number) or `math.inf`. For the moment we just mention them, you can find a detailed description in the [Numpy page](https://en.softpython.org/matrices-numpy/matrices-numpy-sol.html#NaN-e-infinities)"
   ]
  },
  {
   "cell_type": "markdown",
   "metadata": {},
   "source": [
    "### Exercise - circle\n",
    "\n",
    "✪ Calculate the area of a circle at the center of a soccer ball (radius = 9.1m), remember that  $area= pi*r^2$\n",
    "\n",
    "Your code should print as result `263.02199094102605`"
   ]
  },
  {
   "cell_type": "raw",
   "id": "4af6def1",
   "metadata": {
    "format": "text/html"
   },
   "source": [
    "<a  class=\"jupman-sol jupman-sol-toggler\" \n",
    " onclick=\"jupman.toggleSolution(this);\" \n",
    " data-jupman-show=\"Show solution\" data-jupman-hide=\"Hide\">Show solution</a><div class=\"jupman-sol jupman-sol-code\" style=\"display:none\">  "
   ]
  },
  {
   "cell_type": "code",
   "execution_count": 100,
   "metadata": {},
   "outputs": [
    {
     "name": "stdout",
     "output_type": "stream",
     "text": [
      "263.02199094102605\n"
     ]
    }
   ],
   "source": [
    "# SOLUTION\n",
    "\n",
    "r = 9.15\n",
    "pi = 3.1415926536\n",
    "area = pi*(r**2)\n",
    "print(area)"
   ]
  },
  {
   "cell_type": "raw",
   "id": "aca47d1a",
   "metadata": {
    "format": "text/html"
   },
   "source": [
    "</div>"
   ]
  },
  {
   "cell_type": "code",
   "execution_count": 100,
   "metadata": {},
   "outputs": [
    {
     "name": "stdout",
     "output_type": "stream",
     "text": [
      "263.02199094102605\n"
     ]
    }
   ],
   "source": []
  },
  {
   "cell_type": "markdown",
   "metadata": {},
   "source": [
    "Note that the parenthesis around the squared `r` are not necessary because the power operator has the precedence, but they may help in augmenting the code readability.\n",
    "\n",
    "We recall here the operator precedence:"
   ]
  },
  {
   "cell_type": "markdown",
   "metadata": {},
   "source": [
    "|Operatore|Descrizione|\n",
    "|---------|-----------|\n",
    "|`**`|Power (maximum precedence)|\n",
    "|`+` `-`| unary plus and minus|\n",
    "|`*` `/` `//` `%`|Multiplication, division, integer division, modulo|\n",
    "|`+` `-`| Addition and subtraction|\n",
    "|`<=` `<` `>` `>=`| comparison operators|\n",
    "|`==` `!=` | equality operators|\n",
    "|`not` `or` `and`|Logical operators (minimum precedence)|"
   ]
  },
  {
   "cell_type": "markdown",
   "metadata": {},
   "source": [
    "### Exercise - fractioning\n",
    "\n",
    "✪ Write some code to calculate the value of the following formula for  `x = 0.000003`, you should obtain `2.753278226511882`"
   ]
  },
  {
   "cell_type": "markdown",
   "metadata": {},
   "source": [
    "$$\\Large -\\frac{\\sqrt{x+3}}{\\frac{(x + 2)^3}{\\log{x}}}$$"
   ]
  },
  {
   "cell_type": "raw",
   "id": "3668e125",
   "metadata": {
    "format": "text/html"
   },
   "source": [
    "<a  class=\"jupman-sol jupman-sol-toggler\" \n",
    " onclick=\"jupman.toggleSolution(this);\" \n",
    " data-jupman-show=\"Show solution\" data-jupman-hide=\"Hide\">Show solution</a><div class=\"jupman-sol jupman-sol-code\" style=\"display:none\">  "
   ]
  },
  {
   "cell_type": "code",
   "execution_count": 101,
   "metadata": {},
   "outputs": [
    {
     "data": {
      "text/plain": [
       "2.753278226511882"
      ]
     },
     "execution_count": 101,
     "metadata": {},
     "output_type": "execute_result"
    }
   ],
   "source": [
    "x = 0.000003\n",
    "\n",
    "# write here\n",
    "import math\n",
    "- math.sqrt(x+3) / (((x+2)**3)/math.log(x))"
   ]
  },
  {
   "cell_type": "raw",
   "id": "15979c12",
   "metadata": {
    "format": "text/html"
   },
   "source": [
    "</div>"
   ]
  },
  {
   "cell_type": "code",
   "execution_count": 101,
   "metadata": {},
   "outputs": [
    {
     "data": {
      "text/plain": [
       "2.753278226511882"
      ]
     },
     "execution_count": 101,
     "metadata": {},
     "output_type": "execute_result"
    }
   ],
   "source": [
    "x = 0.000003\n",
    "\n",
    "# write here\n",
    "\n"
   ]
  },
  {
   "cell_type": "markdown",
   "metadata": {},
   "source": [
    "### Exercise - summation\n",
    "\n",
    "Write some code to calculate the value of the following expression (don't use cycles, write down all calculations), you should obtain `20.53333333333333`"
   ]
  },
  {
   "cell_type": "markdown",
   "metadata": {},
   "source": [
    "$$\\normalsize \\sum_{j=1}^{3}{\\frac{j^4}{j + 2}}$$"
   ]
  },
  {
   "cell_type": "raw",
   "id": "4a975816",
   "metadata": {
    "format": "text/html"
   },
   "source": [
    "<a  class=\"jupman-sol jupman-sol-toggler\" \n",
    " onclick=\"jupman.toggleSolution(this);\" \n",
    " data-jupman-show=\"Show solution\" data-jupman-hide=\"Hide\">Show solution</a><div class=\"jupman-sol jupman-sol-code\" style=\"display:none\">  "
   ]
  },
  {
   "cell_type": "code",
   "execution_count": 102,
   "metadata": {},
   "outputs": [
    {
     "data": {
      "text/plain": [
       "20.53333333333333"
      ]
     },
     "execution_count": 102,
     "metadata": {},
     "output_type": "execute_result"
    }
   ],
   "source": [
    "# write here\n",
    "((1**4) / (1+2)) + ((2**4) / (2+2)) + ((3**4) / (3+2))"
   ]
  },
  {
   "cell_type": "raw",
   "id": "956a77af",
   "metadata": {
    "format": "text/html"
   },
   "source": [
    "</div>"
   ]
  },
  {
   "cell_type": "code",
   "execution_count": 102,
   "metadata": {},
   "outputs": [
    {
     "data": {
      "text/plain": [
       "20.53333333333333"
      ]
     },
     "execution_count": 102,
     "metadata": {},
     "output_type": "execute_result"
    }
   ],
   "source": [
    "# write here\n",
    "\n"
   ]
  },
  {
   "cell_type": "markdown",
   "metadata": {},
   "source": [
    "### Reals - conversion\n",
    "\n",
    "If we want to convert a real to an integer, several ways are available:\n",
    "\n",
    "\n",
    "|Function|Description|Mathematical symbol|Result|\n",
    "|--------|-----------|------------------|---------|\n",
    "|`math.floor(x)`| round x to inferior integer|$$\\lfloor{8.7}\\rfloor$$|8|\n",
    "|`int(x)`| round x to inferior integer|$$\\lfloor{8.7}\\rfloor$$|8|\n",
    "|`math.ceil(x)`| round x to superior integer|$$\\lceil{5.3}\\rceil$$|6|\n",
    "|`round(x)`| round x to closest integer|$$\\lfloor{2.49}\\rceil$$|2|\n",
    "|          | |$$\\lfloor{2.51}\\rceil$$|3|\n"
   ]
  },
  {
   "cell_type": "markdown",
   "metadata": {},
   "source": [
    "**QUESTION**: Look at the following expressions, and for each of them try to guess which result it produces (or if it gives an error).\n",
    "\n",
    "1.  ```python\n",
    "    math.floor(2.3)\n",
    "    ```\n",
    "1.  ```python\n",
    "    math.floor(-2.3)\n",
    "    ```\n",
    "1.  ```python\n",
    "    round(3.49)\n",
    "    ```\n",
    "1.  ```python\n",
    "    round(3.51)\n",
    "    ```    \n",
    "1.  ```python\n",
    "    round(-3.49)\n",
    "    ```    \n",
    "1.  ```python\n",
    "    round(-3.51)\n",
    "    ```\n",
    "1.  ```python\n",
    "    math.ceil(8.1)\n",
    "    ```\n",
    "1.  ```python\n",
    "    math.ceil(-8.1)\n",
    "    ```    "
   ]
  },
  {
   "cell_type": "markdown",
   "metadata": {},
   "source": [
    "**QUESTION**: Given a float `x`, the following formula is:\n",
    "        \n",
    "```python\n",
    "math.floor(math.ceil(x)) == math.ceil(math.floor(x))\n",
    "```\n",
    "\n",
    "1. always `True`\n",
    "2. always  `False`\n",
    "3. sometimes `True` and sometimes `False` (give examples)"
   ]
  },
  {
   "cell_type": "raw",
   "id": "bde71826",
   "metadata": {
    "format": "text/html"
   },
   "source": [
    "<a  class=\"jupman-sol jupman-sol-toggler\" \n",
    " onclick=\"jupman.toggleSolution(this);\" \n",
    " data-jupman-show=\"Show answer\" data-jupman-hide=\"Hide\">Show answer</a><div class=\"jupman-sol jupman-sol-question\" style=\"display:none\">  "
   ]
  },
  {
   "cell_type": "markdown",
   "metadata": {},
   "source": [
    "**ANSWER**: 3: for integers like `x=2.0` it is `True`, in other cases like `x=2.3` it is `False`"
   ]
  },
  {
   "cell_type": "raw",
   "id": "d76f0a88",
   "metadata": {
    "format": "text/html"
   },
   "source": [
    "</div>"
   ]
  },
  {
   "cell_type": "markdown",
   "metadata": {},
   "source": [
    "**QUESTION**: Given a float `x`, the following formula is:\n",
    "        \n",
    "```python\n",
    "math.floor(x) == -math.ceil(-x)\n",
    "```\n",
    "\n",
    "1. always `True`\n",
    "2. always `False`\n",
    "3. sometimes `True` and sometimes `False` (give examples)"
   ]
  },
  {
   "cell_type": "raw",
   "id": "a390bbf4",
   "metadata": {
    "format": "text/html"
   },
   "source": [
    "<a  class=\"jupman-sol jupman-sol-toggler\" \n",
    " onclick=\"jupman.toggleSolution(this);\" \n",
    " data-jupman-show=\"Show answer\" data-jupman-hide=\"Hide\">Show answer</a><div class=\"jupman-sol jupman-sol-question\" style=\"display:none\">  "
   ]
  },
  {
   "cell_type": "markdown",
   "metadata": {},
   "source": [
    "**ANSWER**:  1."
   ]
  },
  {
   "cell_type": "raw",
   "id": "050b39fa",
   "metadata": {
    "format": "text/html"
   },
   "source": [
    "</div>"
   ]
  },
  {
   "cell_type": "markdown",
   "metadata": {},
   "source": [
    "### Exercise -  Invigorate\n",
    "\n",
    "✪ Excessive studies lead you search on internet recipes of energetic drinks. Luckily, a guru of nutrition just posted on her Instagram channel @HealthyDrink this recipe of a miracle drink:\n",
    "\n",
    "> Pour in a mixer 2 decilitres of kiwi juice, 4 decilitres of soy sauce, and 3 decilitres of shampoo of karitè bio. Mix vigorously and then pour half drink into a glass. Fill the glass until the superior deciliter. Swallow in one shot.\n",
    "\n",
    "You run shopping the ingredients, and get ready for mixing them. You have a measuring cup with which you transfer the precious fluids, one by one. While transfering, you always pour a little bit more than necessary (but never more than 1 decilitre), and for each ingredient you then remove the excess.\n",
    "\n",
    "\n",
    "* **DO NOT** use subtractions, try using only rounding operators"
   ]
  },
  {
   "cell_type": "markdown",
   "metadata": {},
   "source": [
    "Example - given:\n",
    "\n",
    "```python\n",
    "kiwi = 2.4\n",
    "soia = 4.8\n",
    "shampoo = 3.1\n",
    "measuring_cup = 0.0\n",
    "mixer = 0\n",
    "glass = 0.0\n",
    "```\n",
    "\n",
    "Your code must print:\n",
    "\n",
    "```\n",
    "I pour into the measuring cup 2.4 dl of kiwi juice, then I remove excess until keeping 2 dl\n",
    "I transfer into the mixer, now it contains 2.0 dl\n",
    "I pour into the measuring cup 4.8 dl of soia, then I remove excess until keeping 4 dl\n",
    "I transfer into the mixer, now it contains 6.0 dl\n",
    "I pour into the measuring cup 3.1 dl of shampoo, then I remove excess until keeping 3 dl\n",
    "I transfer into the mixer, now it contains 9.0 dl\n",
    "I pour half of the mix ( 4.5 dl ) into the glass\n",
    "I fill the glass until superior deciliter, now it contains: 5 dl\n",
    "```"
   ]
  },
  {
   "cell_type": "raw",
   "id": "25b40490",
   "metadata": {
    "format": "text/html"
   },
   "source": [
    "<a  class=\"jupman-sol jupman-sol-toggler\" \n",
    " onclick=\"jupman.toggleSolution(this);\" \n",
    " data-jupman-show=\"Show solution\" data-jupman-hide=\"Hide\">Show solution</a><div class=\"jupman-sol jupman-sol-code\" style=\"display:none\">  "
   ]
  },
  {
   "cell_type": "code",
   "execution_count": 103,
   "metadata": {},
   "outputs": [
    {
     "name": "stdout",
     "output_type": "stream",
     "text": [
      "I pour into the measuring cup 2.4 dl of kiwi juice, then I remove excess until keeping 2 dl\n",
      "I transfer into the mixer, now it contains 2.0 dl\n",
      "I pour into the measuring cup 4.8 dl of soia, then I remove excess until keeping 4 dl\n",
      "I transfer into the mixer, now it contains 6.0 dl\n",
      "I pour into the measuring cup 3.1 dl of shampoo, then I remove excess until keeping 3 dl\n",
      "I transfer into the mixer, now it contains 9.0 dl\n",
      "I pour half of the mix ( 4.5 dl ) into the glass\n",
      "I fill the glass until superior deciliter, now it contains: 5 dl\n"
     ]
    }
   ],
   "source": [
    "import math \n",
    "\n",
    "kiwi = 2.4\n",
    "soy = 4.8\n",
    "shampoo = 3.1\n",
    "measuring_cup = 0.0\n",
    "mixer = 0.0\n",
    "glass = 0.0\n",
    "\n",
    "\n",
    "# write here\n",
    "print('I pour into the measuring cup', kiwi, 'dl of kiwi juice, then I remove excess until keeping', int(kiwi), 'dl')\n",
    "mixer += int(kiwi)\n",
    "print('I transfer into the mixer, now it contains', mixer, 'dl')\n",
    "print('I pour into the measuring cup', soy, 'dl of soia, then I remove excess until keeping', int(soy), 'dl')\n",
    "mixer += int(soy)\n",
    "print('I transfer into the mixer, now it contains', mixer, 'dl')\n",
    "print('I pour into the measuring cup', shampoo, 'dl of shampoo, then I remove excess until keeping', int(shampoo), 'dl') \n",
    "mixer += int(shampoo)\n",
    "print('I transfer into the mixer, now it contains', mixer, 'dl')\n",
    "glass = mixer/2\n",
    "print('I pour half of the mix (', glass, 'dl ) into the glass')\n",
    "print('I fill the glass until superior deciliter, now it contains:', math.ceil(glass), 'dl')\n"
   ]
  },
  {
   "cell_type": "raw",
   "id": "2c9c966a",
   "metadata": {
    "format": "text/html"
   },
   "source": [
    "</div>"
   ]
  },
  {
   "cell_type": "code",
   "execution_count": 103,
   "metadata": {},
   "outputs": [
    {
     "name": "stdout",
     "output_type": "stream",
     "text": [
      "I pour into the measuring cup 2.4 dl of kiwi juice, then I remove excess until keeping 2 dl\n",
      "I transfer into the mixer, now it contains 2.0 dl\n",
      "I pour into the measuring cup 4.8 dl of soia, then I remove excess until keeping 4 dl\n",
      "I transfer into the mixer, now it contains 6.0 dl\n",
      "I pour into the measuring cup 3.1 dl of shampoo, then I remove excess until keeping 3 dl\n",
      "I transfer into the mixer, now it contains 9.0 dl\n",
      "I pour half of the mix ( 4.5 dl ) into the glass\n",
      "I fill the glass until superior deciliter, now it contains: 5 dl\n"
     ]
    }
   ],
   "source": [
    "import math \n",
    "\n",
    "kiwi = 2.4\n",
    "soy = 4.8\n",
    "shampoo = 3.1\n",
    "measuring_cup = 0.0\n",
    "mixer = 0.0\n",
    "glass = 0.0\n",
    "\n",
    "\n",
    "# write here\n",
    "\n"
   ]
  },
  {
   "cell_type": "markdown",
   "metadata": {},
   "source": [
    "### Exercise - roundminder\n",
    "\n",
    "✪ Write some code to calculate the value of the following formula for `x = -5.51`, you should obtain `41`\n",
    "\n",
    "\n",
    "$$\\large \\lvert{\\lceil{x}\\rceil}\\rvert + \\lfloor{x}\\rceil^2$$"
   ]
  },
  {
   "cell_type": "raw",
   "id": "79e7336b",
   "metadata": {
    "format": "text/html"
   },
   "source": [
    "<a  class=\"jupman-sol jupman-sol-toggler\" \n",
    " onclick=\"jupman.toggleSolution(this);\" \n",
    " data-jupman-show=\"Show solution\" data-jupman-hide=\"Hide\">Show solution</a><div class=\"jupman-sol jupman-sol-code\" style=\"display:none\">  "
   ]
  },
  {
   "cell_type": "code",
   "execution_count": 104,
   "metadata": {},
   "outputs": [
    {
     "data": {
      "text/plain": [
       "41"
      ]
     },
     "execution_count": 104,
     "metadata": {},
     "output_type": "execute_result"
    }
   ],
   "source": [
    "import math \n",
    "\n",
    "x = -5.51   # 41\n",
    "#x = -5.49  # 30\n",
    "\n",
    "# write here\n",
    "abs(math.ceil(x)) + round(x)**2"
   ]
  },
  {
   "cell_type": "raw",
   "id": "154aa3c1",
   "metadata": {
    "format": "text/html"
   },
   "source": [
    "</div>"
   ]
  },
  {
   "cell_type": "code",
   "execution_count": 104,
   "metadata": {},
   "outputs": [
    {
     "data": {
      "text/plain": [
       "41"
      ]
     },
     "execution_count": 104,
     "metadata": {},
     "output_type": "execute_result"
    }
   ],
   "source": [
    "import math \n",
    "\n",
    "x = -5.51   # 41\n",
    "#x = -5.49  # 30\n",
    "\n",
    "# write here\n",
    "\n"
   ]
  },
  {
   "cell_type": "markdown",
   "metadata": {},
   "source": [
    "### Reals - equality\n",
    "\n",
    "\n",
    "<div class=\"alert alert-warning\">\n",
    "    \n",
    "**WARNING: what follows is valid for** ***all*** **programming languages!** \n",
    "    \n",
    "Some results will look weird but this is the way most processors (CPU) operates, independently from Python.    \n",
    "    \n",
    "</div>\n",
    "\n",
    "When floating point calculations are performed, the processor may introduce rounding errors due to limits of internal representation. Under the hood the numbers like floats are memorized in a sequence of binary code of 64 bits, according to _IEEE-754 floating point arithmetic_ standard: this imposes a physical limit to the precision of numbers, and sometimes we ight get surprises due to conversion from decimal to binary. For example, let's try printing `4.1`:"
   ]
  },
  {
   "cell_type": "code",
   "execution_count": 105,
   "metadata": {},
   "outputs": [
    {
     "name": "stdout",
     "output_type": "stream",
     "text": [
      "4.1\n"
     ]
    }
   ],
   "source": [
    "print(4.1)"
   ]
  },
  {
   "cell_type": "markdown",
   "metadata": {},
   "source": [
    "For our convenience Python is showing us `4.1`, but in reality in the processor memory ended up a different number! Which one? To discover what it hides, with `format` function we can explicitly format the number to, for example 55 digits of precision by using the `f` format specifier:"
   ]
  },
  {
   "cell_type": "code",
   "execution_count": 106,
   "metadata": {},
   "outputs": [
    {
     "data": {
      "text/plain": [
       "'4.0999999999999996447286321199499070644378662109375000000'"
      ]
     },
     "execution_count": 106,
     "metadata": {},
     "output_type": "execute_result"
    }
   ],
   "source": [
    "format(4.1, '.55f')"
   ]
  },
  {
   "cell_type": "markdown",
   "metadata": {},
   "source": [
    "We can then wonder what the result of this calculus might be:"
   ]
  },
  {
   "cell_type": "code",
   "execution_count": 107,
   "metadata": {},
   "outputs": [
    {
     "name": "stdout",
     "output_type": "stream",
     "text": [
      "4.1000000000000005\n"
     ]
    }
   ],
   "source": [
    "print(7.9 - 3.8)"
   ]
  },
  {
   "cell_type": "markdown",
   "metadata": {},
   "source": [
    "We note the result is still different from the expected one! By investigating further, we notice Python is not even showing all the digits:"
   ]
  },
  {
   "cell_type": "code",
   "execution_count": 108,
   "metadata": {},
   "outputs": [
    {
     "data": {
      "text/plain": [
       "'4.1000000000000005329070518200751394033432006835937500000'"
      ]
     },
     "execution_count": 108,
     "metadata": {},
     "output_type": "execute_result"
    }
   ],
   "source": [
    "format(7.9 - 3.8, '.55f')"
   ]
  },
  {
   "cell_type": "code",
   "execution_count": null,
   "metadata": {},
   "outputs": [],
   "source": []
  },
  {
   "cell_type": "markdown",
   "metadata": {},
   "source": [
    "What if wanted to know if the two calculations with float produce the 'same' result?\n",
    "\n",
    "<div class=\"alert alert-warning\">\n",
    "\n",
    "**WARNING: AVOID THE** `==` **WITH FLOATS!**\n",
    "       \n",
    "</div>\n",
    "\n",
    "To understand if the result between the two calculations with the flots is the same, **YOU CANNOT** use the `==` operator !"
   ]
  },
  {
   "cell_type": "code",
   "execution_count": 109,
   "metadata": {},
   "outputs": [
    {
     "data": {
      "text/plain": [
       "False"
      ]
     },
     "execution_count": 109,
     "metadata": {},
     "output_type": "execute_result"
    }
   ],
   "source": [
    "7.9 - 3.8 == 4.1    # TROUBLE AHEAD!"
   ]
  },
  {
   "cell_type": "markdown",
   "metadata": {},
   "source": [
    "Instead, you should prefer alternative that evaluate if a float number is _close_ to anoter, like for example the handy function [math.isclose](https://docs.python.org/3/library/math.html#math.isclose):"
   ]
  },
  {
   "cell_type": "code",
   "execution_count": 110,
   "metadata": {},
   "outputs": [
    {
     "data": {
      "text/plain": [
       "True"
      ]
     },
     "execution_count": 110,
     "metadata": {},
     "output_type": "execute_result"
    }
   ],
   "source": [
    "import math\n",
    "\n",
    "math.isclose(7.9 - 3.8, 4.1)   # MUCH BETTER"
   ]
  },
  {
   "cell_type": "markdown",
   "metadata": {},
   "source": [
    "By default `math.isclose` uses a precision of `1e-09`, but, if needed, you can also pass a tolerance limit in which the difference of the numbers must be so to be considered equal:"
   ]
  },
  {
   "cell_type": "code",
   "execution_count": 111,
   "metadata": {},
   "outputs": [
    {
     "data": {
      "text/plain": [
       "True"
      ]
     },
     "execution_count": 111,
     "metadata": {},
     "output_type": "execute_result"
    }
   ],
   "source": [
    "math.isclose(7.9 - 3.8, 4.1, abs_tol=0.000001)"
   ]
  },
  {
   "cell_type": "markdown",
   "metadata": {},
   "source": [
    "**QUESTION**: Can we perfectly represent the number $\\sqrt{2}$ as a `float`?"
   ]
  },
  {
   "cell_type": "raw",
   "id": "e03ff551",
   "metadata": {
    "format": "text/html"
   },
   "source": [
    "<a  class=\"jupman-sol jupman-sol-toggler\" \n",
    " onclick=\"jupman.toggleSolution(this);\" \n",
    " data-jupman-show=\"Show answer\" data-jupman-hide=\"Hide\">Show answer</a><div class=\"jupman-sol jupman-sol-question\" style=\"display:none\">  "
   ]
  },
  {
   "cell_type": "markdown",
   "metadata": {},
   "source": [
    "**ANSWER**: $\\sqrt{2}$ is irrational so there's no hope of a perfect representation, any calculation will always have a certain degree of imprecision."
   ]
  },
  {
   "cell_type": "raw",
   "id": "648000d2",
   "metadata": {
    "format": "text/html"
   },
   "source": [
    "</div>"
   ]
  },
  {
   "cell_type": "markdown",
   "metadata": {},
   "source": [
    "**QUESTION**: Which of these expressions give the same result?\n",
    "\n",
    "```python    \n",
    "import math\n",
    "print('a)', math.sqrt(3)**2 == 3.0)\n",
    "print('b)', abs(math.sqrt(3)**2 - 3.0) < 0.0000001)\n",
    "print('c)', math.isclose(math.sqrt(3)**2, 3.0, abs_tol=0.0000001))\n",
    "```"
   ]
  },
  {
   "cell_type": "raw",
   "id": "2030b8af",
   "metadata": {
    "format": "text/html"
   },
   "source": [
    "<a  class=\"jupman-sol jupman-sol-toggler\" \n",
    " onclick=\"jupman.toggleSolution(this);\" \n",
    " data-jupman-show=\"Show answer\" data-jupman-hide=\"Hide\">Show answer</a><div class=\"jupman-sol jupman-sol-question\" style=\"display:none\">  "
   ]
  },
  {
   "cell_type": "markdown",
   "metadata": {},
   "source": [
    "**ANSWER**: b) and c) give `True`. a) gives `False`, because durting floating point calculations rounding errors are made."
   ]
  },
  {
   "cell_type": "raw",
   "id": "1450ae58",
   "metadata": {
    "format": "text/html"
   },
   "source": [
    "</div>"
   ]
  },
  {
   "cell_type": "markdown",
   "metadata": {},
   "source": [
    "### Exercise - quadratic \n",
    "\n",
    "✪ Write some code to calculate the zeroes of the equation $ax^2-b = 0$ \n",
    "\n",
    "- Show numbers with **20 digits** of precision\n",
    "- At the end check that by substituting the value obtained `x` into the equation you actually obtain zero. \n",
    "\n",
    "Example - given:\n",
    "\n",
    "```python\n",
    "a = 11.0\n",
    "b = 3.3\n",
    "```\n",
    "\n",
    "after your code it must print:\n",
    "\n",
    "```\n",
    "11.0 * x**2 - 3.3 = 0  per x1 = 0.54772255750516607442\n",
    "11.0 * x**2 - 3.3 = 0  per x2 = -0.54772255750516607442\n",
    "0.54772255750516607442 is a solution? True\n",
    "-0.54772255750516607442 is a solution? True\n",
    "```"
   ]
  },
  {
   "cell_type": "raw",
   "id": "ecc78c8f",
   "metadata": {
    "format": "text/html"
   },
   "source": [
    "<a  class=\"jupman-sol jupman-sol-toggler\" \n",
    " onclick=\"jupman.toggleSolution(this);\" \n",
    " data-jupman-show=\"Show solution\" data-jupman-hide=\"Hide\">Show solution</a><div class=\"jupman-sol jupman-sol-code\" style=\"display:none\">  "
   ]
  },
  {
   "cell_type": "code",
   "execution_count": 112,
   "metadata": {
    "scrolled": true
   },
   "outputs": [
    {
     "name": "stdout",
     "output_type": "stream",
     "text": [
      "11.0 * x**2 - 3.3 = 0  per x1 = 0.54772255750516607442\n",
      "11.0 * x**2 - 3.3 = 0  per x2 = -0.54772255750516607442\n",
      "0.54772255750516607442 is a solution? True\n",
      "-0.54772255750516607442 is a solution? True\n"
     ]
    }
   ],
   "source": [
    "a = 11.0\n",
    "b = 3.3  \n",
    "\n",
    "# write here\n",
    "\n",
    "import math\n",
    "\n",
    "x1 = math.sqrt(b/a)\n",
    "x2 = -math.sqrt(b/a)\n",
    "\n",
    "print(a, \"* x**2 -\",b,\"= 0  per x1 =\", format(x1, '.20f'))\n",
    "print(a, \"* x**2 -\",b,\"= 0  per x2 =\", format(x2, '.20f'))\n",
    "\n",
    "# we need to change the default tolerance value\n",
    "print(format(x1, '.20f'), \"is a solution?\", math.isclose(a*(x1**2) - b,0, abs_tol=0.00001))\n",
    "print(format(x2, '.20f'), \"is a solution?\", math.isclose(a*((x2)**2) - b,0, abs_tol=0.00001))"
   ]
  },
  {
   "cell_type": "raw",
   "id": "9cddb293",
   "metadata": {
    "format": "text/html"
   },
   "source": [
    "</div>"
   ]
  },
  {
   "cell_type": "code",
   "execution_count": 112,
   "metadata": {
    "scrolled": true
   },
   "outputs": [
    {
     "name": "stdout",
     "output_type": "stream",
     "text": [
      "11.0 * x**2 - 3.3 = 0  per x1 = 0.54772255750516607442\n",
      "11.0 * x**2 - 3.3 = 0  per x2 = -0.54772255750516607442\n",
      "0.54772255750516607442 is a solution? True\n",
      "-0.54772255750516607442 is a solution? True\n"
     ]
    }
   ],
   "source": [
    "a = 11.0\n",
    "b = 3.3  \n",
    "\n",
    "# write here\n",
    "\n"
   ]
  },
  {
   "cell_type": "markdown",
   "metadata": {},
   "source": [
    "### Exercise - trendy\n",
    "\n",
    "✪✪ You are already thinking about next vacations, but there is a big problem: where do you go, if you don't have a _selfie-stick_? You cannot leave with this serious anxiety: to uniform yourself to this mass phenomena you must buy the stick which is most similar to others. You then conduct a rigourous statistical survey among turists obssessed by selfie sticks with the goal to find the most frequent brands of sticks, in other words, the _mode_ of the frequencies. You obtain these results:"
   ]
  },
  {
   "cell_type": "code",
   "execution_count": 113,
   "metadata": {},
   "outputs": [],
   "source": [
    "b1,b2,b3,b4,b5 = 'TooManyLikes', 'Boombasticks', 'Timewasters Inc', 'Vanity 3.0','TrashTrend' # brand\n",
    "f1,f2,f3,f4,f5 = 0.25, 0.3, 0.1, 0.05, 0.3   # frequencies (as percentages)"
   ]
  },
  {
   "cell_type": "markdown",
   "metadata": {},
   "source": [
    "We deduce that masses love selfie-sticks of the brand `'Boombasticks'` and `TrashTrend`, both in a tie with 30% turists each. Write some code which prints this result:\n",
    "\n",
    "```\n",
    "TooManyLikes is the most frequent? False ( 25.0 % )\n",
    "Boombasticks is the most frequent? True ( 30.0 % )\n",
    "Timewasters Inc is the most frequent? False ( 10.0 % )\n",
    "Vanity 3.0 is the most frequent? False ( 5.0 % )\n",
    "TrashTrend is the most frequent? True ( 30.0 % )\n",
    "```\n",
    "\n",
    "* **WARNING**: your code must work with **ANY** series of variables !!"
   ]
  },
  {
   "cell_type": "raw",
   "id": "a94f3a05",
   "metadata": {
    "format": "text/html"
   },
   "source": [
    "<a  class=\"jupman-sol jupman-sol-toggler\" \n",
    " onclick=\"jupman.toggleSolution(this);\" \n",
    " data-jupman-show=\"Show solution\" data-jupman-hide=\"Hide\">Show solution</a><div class=\"jupman-sol jupman-sol-code\" style=\"display:none\">  "
   ]
  },
  {
   "cell_type": "code",
   "execution_count": 114,
   "metadata": {},
   "outputs": [
    {
     "name": "stdout",
     "output_type": "stream",
     "text": [
      "TooManyLikes is the most frequent? False ( 25.0 % )\n",
      "Boombasticks is the most frequent? True ( 30.0 % )\n",
      "Timewasters Inc is the most frequent? False ( 10.0 % )\n",
      "Vanity 3.0 is the most frequent? False ( 5.0 % )\n",
      "TrashTrend is the most frequent? True ( 30.0 % )\n"
     ]
    }
   ],
   "source": [
    "b1,b2,b3,b4,b5 = 'TooManyLikes', 'Boombasticks', 'Timewasters Inc', 'Vanity 3.0','TrashTrend'    # brand\n",
    "\n",
    "f1,f2,f3,f4,f5 = 0.25, 0.3, 0.1, 0.05, 0.3  # frequencies (as percentages)  False True False False True\n",
    "# CAREFUL, they look the same but it must work also with these!\n",
    "#f1,f2,f3,f4,f5 = 0.25, 0.3, 0.1, 0.05, 0.1 + 0.2  #  False True False False True\n",
    "                                        \n",
    "# write here\n",
    "mx = max(f1,f2,f3,f4,f5)\n",
    "print(b1, 'is the most frequent?', math.isclose(f1,mx), '(', format(f1*100.0, '.1f'),'% )')\n",
    "print(b2, 'is the most frequent?', math.isclose(f2,mx), '(', format(f2*100.0, '.1f'),'% )')\n",
    "print(b3, 'is the most frequent?', math.isclose(f3,mx), '(', format(f3*100.0, '.1f'),'% )')\n",
    "print(b4, 'is the most frequent?', math.isclose(f4,mx), '(', format(f4*100.0, '.1f'),'% )')\n",
    "print(b5, 'is the most frequent?', math.isclose(f5,mx), '(', format(f5*100.0, '.1f'),'% )')"
   ]
  },
  {
   "cell_type": "raw",
   "id": "1ad891a0",
   "metadata": {
    "format": "text/html"
   },
   "source": [
    "</div>"
   ]
  },
  {
   "cell_type": "code",
   "execution_count": 114,
   "metadata": {},
   "outputs": [
    {
     "name": "stdout",
     "output_type": "stream",
     "text": [
      "TooManyLikes is the most frequent? False ( 25.0 % )\n",
      "Boombasticks is the most frequent? True ( 30.0 % )\n",
      "Timewasters Inc is the most frequent? False ( 10.0 % )\n",
      "Vanity 3.0 is the most frequent? False ( 5.0 % )\n",
      "TrashTrend is the most frequent? True ( 30.0 % )\n"
     ]
    }
   ],
   "source": [
    "b1,b2,b3,b4,b5 = 'TooManyLikes', 'Boombasticks', 'Timewasters Inc', 'Vanity 3.0','TrashTrend'    # brand\n",
    "\n",
    "f1,f2,f3,f4,f5 = 0.25, 0.3, 0.1, 0.05, 0.3  # frequencies (as percentages)  False True False False True\n",
    "# CAREFUL, they look the same but it must work also with these!\n",
    "#f1,f2,f3,f4,f5 = 0.25, 0.3, 0.1, 0.05, 0.1 + 0.2  #  False True False False True\n",
    "                                        \n",
    "# write here\n",
    "\n"
   ]
  },
  {
   "cell_type": "markdown",
   "metadata": {},
   "source": [
    "## Decimal numbers\n",
    "\n",
    "For most applications float numbers are sufficient, if you are conscius of their limits of representation and equality.  If you really need more precision and/or preditability, Python offers a dedicated numeric type  called `Decimal`, which allows arbitrary precision. To use it, you must first import `decimal` library:"
   ]
  },
  {
   "cell_type": "code",
   "execution_count": 115,
   "metadata": {},
   "outputs": [],
   "source": [
    "from decimal import Decimal"
   ]
  },
  {
   "cell_type": "markdown",
   "metadata": {},
   "source": [
    "You can create a  `Decimal` from a string:"
   ]
  },
  {
   "cell_type": "code",
   "execution_count": 116,
   "metadata": {},
   "outputs": [
    {
     "data": {
      "text/plain": [
       "Decimal('4.1')"
      ]
     },
     "execution_count": 116,
     "metadata": {},
     "output_type": "execute_result"
    }
   ],
   "source": [
    "Decimal('4.1')"
   ]
  },
  {
   "cell_type": "markdown",
   "metadata": {},
   "source": [
    "<div class=\"alert alert-warning\">\n",
    "\n",
    "**WARNING: if you create a Decimal from a costant, use a string!**    \n",
    "   \n",
    "</div>"
   ]
  },
  {
   "cell_type": "markdown",
   "metadata": {},
   "source": [
    "If you pass a `float` you risk losing the utility of Decimals:"
   ]
  },
  {
   "cell_type": "code",
   "execution_count": 117,
   "metadata": {},
   "outputs": [
    {
     "data": {
      "text/plain": [
       "Decimal('4.0999999999999996447286321199499070644378662109375')"
      ]
     },
     "execution_count": 117,
     "metadata": {},
     "output_type": "execute_result"
    }
   ],
   "source": [
    "Decimal(4.1)  # this way I keep the problems of floats ... "
   ]
  },
  {
   "cell_type": "markdown",
   "metadata": {},
   "source": [
    "Operations between `Decimal`s produce other `Decimal`s:"
   ]
  },
  {
   "cell_type": "code",
   "execution_count": 118,
   "metadata": {},
   "outputs": [
    {
     "data": {
      "text/plain": [
       "Decimal('4.1')"
      ]
     },
     "execution_count": 118,
     "metadata": {},
     "output_type": "execute_result"
    }
   ],
   "source": [
    "Decimal('7.9') - Decimal('3.8')"
   ]
  },
  {
   "cell_type": "markdown",
   "metadata": {},
   "source": [
    "This time, we can freely use the equality operator and obtain the same result:"
   ]
  },
  {
   "cell_type": "code",
   "execution_count": 119,
   "metadata": {},
   "outputs": [
    {
     "data": {
      "text/plain": [
       "True"
      ]
     },
     "execution_count": 119,
     "metadata": {},
     "output_type": "execute_result"
    }
   ],
   "source": [
    "Decimal('4.1') == Decimal('7.9') - Decimal('3.8')"
   ]
  },
  {
   "cell_type": "markdown",
   "metadata": {},
   "source": [
    "Some mathematical functions are also supported, and often they behave more predictably (note we are **not** using `math.sqrt`):"
   ]
  },
  {
   "cell_type": "code",
   "execution_count": 120,
   "metadata": {},
   "outputs": [
    {
     "data": {
      "text/plain": [
       "Decimal('1.414213562373095048801688724')"
      ]
     },
     "execution_count": 120,
     "metadata": {},
     "output_type": "execute_result"
    }
   ],
   "source": [
    "Decimal('2').sqrt()"
   ]
  },
  {
   "cell_type": "markdown",
   "metadata": {},
   "source": [
    "<div class=\"alert alert-warning\">\n",
    "    \n",
    "**Remember: computer memory is still finite!**\n",
    "</div>\n",
    "\n",
    "Decimals can't be solve all problems in the universe: for example,$\\sqrt{2}$ will never fit the memory of any computer! We can verify the limitations by squaring it:"
   ]
  },
  {
   "cell_type": "code",
   "execution_count": 121,
   "metadata": {},
   "outputs": [
    {
     "data": {
      "text/plain": [
       "Decimal('1.999999999999999999999999999')"
      ]
     },
     "execution_count": 121,
     "metadata": {},
     "output_type": "execute_result"
    }
   ],
   "source": [
    "Decimal('2').sqrt()**Decimal('2')"
   ]
  },
  {
   "cell_type": "markdown",
   "metadata": {},
   "source": [
    "\n",
    "The only thing we can have more with Decimals is more digits to represent numbers, which if we want we can [increase at will](https://docs.python.org/3/library/decimal.html) until we fill our pc memory. In this book we won't talk anymore about Decimals because typically they are meant only for specific applications, for example, if you need to perform fincancial calculations you will probably want very exact digits!"
   ]
  },
  {
   "cell_type": "markdown",
   "metadata": {},
   "source": [
    "## Challenges\n",
    "\n",
    "We now propose some (very easy) exercises without solutions.\n",
    "\n",
    "Try to execute them both in Jupyter and a text editor such as Spyder or Visual Studio Code to get familiar with both environments."
   ]
  },
  {
   "cell_type": "markdown",
   "metadata": {},
   "source": [
    "### Challenge - which booleans 1?\n",
    "\n",
    "✪ Find the row with values such that the final print prints `True`. Is there only one combination or many?"
   ]
  },
  {
   "cell_type": "code",
   "execution_count": 122,
   "metadata": {},
   "outputs": [
    {
     "name": "stdout",
     "output_type": "stream",
     "text": [
      "False\n"
     ]
    }
   ],
   "source": [
    "\n",
    "x = False; y = False\n",
    "#x = False; y = True\n",
    "#x = True; y = False\n",
    "#x = True; y = True\n",
    "\n",
    "print(x and y)"
   ]
  },
  {
   "cell_type": "markdown",
   "metadata": {},
   "source": [
    "### Challenge - which booleans 2?\n",
    "\n",
    "✪ Find the row in which by assigning values to `x` and `y` it prints `True`. Is there only one combinatin or many?"
   ]
  },
  {
   "cell_type": "code",
   "execution_count": 123,
   "metadata": {},
   "outputs": [
    {
     "name": "stdout",
     "output_type": "stream",
     "text": [
      "False\n"
     ]
    }
   ],
   "source": [
    "x = False; y = False; z = False\n",
    "#x = False; y = True; z = False\n",
    "#x = True; y = False; z = False\n",
    "#x = True; y = True; z = False\n",
    "#x = False; y = False; z = True\n",
    "#x = False; y = True; z = True\n",
    "#x = True; y = False; z = True\n",
    "#x = True; y =True; z =True\n",
    "\n",
    "print((x or y) and (not x and z))"
   ]
  },
  {
   "cell_type": "markdown",
   "metadata": {},
   "source": [
    "### Challenge - Triangle area\n",
    "\n",
    "✪ Compute the area of a triangle having base 120 units (`b`) and height 33 (`h`). Assign the result to a variable named `area` and print it. Your code should show `Triangle area is: 120.0`"
   ]
  },
  {
   "cell_type": "raw",
   "id": "94d24ed9",
   "metadata": {
    "format": "text/html"
   },
   "source": [
    "<a  class=\"jupman-sol jupman-sol-toggler\" \n",
    " onclick=\"jupman.toggleSolution(this);\" \n",
    " data-jupman-show=\"Show solution\" data-jupman-hide=\"Hide\">Show solution</a><div class=\"jupman-sol jupman-sol-code\" style=\"display:none\">  "
   ]
  },
  {
   "cell_type": "code",
   "execution_count": 124,
   "metadata": {},
   "outputs": [],
   "source": [
    "# write here\n"
   ]
  },
  {
   "cell_type": "raw",
   "id": "0d07e6ed",
   "metadata": {
    "format": "text/html"
   },
   "source": [
    "</div>"
   ]
  },
  {
   "cell_type": "code",
   "execution_count": 124,
   "metadata": {},
   "outputs": [],
   "source": [
    "# write here\n",
    "\n"
   ]
  },
  {
   "cell_type": "markdown",
   "metadata": {},
   "source": [
    "### Challenge - square area\n",
    "\n",
    "✪ Compute the area of a square having side (`s`) equal to 145 units. Assign the result to a variable named `area` and print it, it should show `Square area is: 21025`"
   ]
  },
  {
   "cell_type": "raw",
   "id": "96bc9666",
   "metadata": {
    "format": "text/html"
   },
   "source": [
    "<a  class=\"jupman-sol jupman-sol-toggler\" \n",
    " onclick=\"jupman.toggleSolution(this);\" \n",
    " data-jupman-show=\"Show solution\" data-jupman-hide=\"Hide\">Show solution</a><div class=\"jupman-sol jupman-sol-code\" style=\"display:none\">  "
   ]
  },
  {
   "cell_type": "code",
   "execution_count": 125,
   "metadata": {},
   "outputs": [],
   "source": [
    "# write here\n"
   ]
  },
  {
   "cell_type": "raw",
   "id": "ee47892a",
   "metadata": {
    "format": "text/html"
   },
   "source": [
    "</div>"
   ]
  },
  {
   "cell_type": "code",
   "execution_count": 125,
   "metadata": {},
   "outputs": [],
   "source": [
    "# write here\n",
    "\n"
   ]
  },
  {
   "cell_type": "markdown",
   "metadata": {},
   "source": [
    "### Challange - area from input\n",
    "\n",
    "✪ Modify the program at previous point. to acquire the side `s` from the user at runtime.\n",
    "\n",
    "**Hint**: use the [input](https://www.geeksforgeeks.org/taking-input-in-python/) function and remember to convert the acquired value into an `int`). NOTE: from our experimentations, `input` tends to have problems in Jupyter so you'd better try in some other editor.\n",
    "\n",
    "Try also to put the two previous scripts in two separate files (e.g. `triangle_area.py` and `square_area.py` and execute them from the terminal)"
   ]
  },
  {
   "cell_type": "raw",
   "id": "0a590f35",
   "metadata": {
    "format": "text/html"
   },
   "source": [
    "<a  class=\"jupman-sol jupman-sol-toggler\" \n",
    " onclick=\"jupman.toggleSolution(this);\" \n",
    " data-jupman-show=\"Show solution\" data-jupman-hide=\"Hide\">Show solution</a><div class=\"jupman-sol jupman-sol-code\" style=\"display:none\">  "
   ]
  },
  {
   "cell_type": "code",
   "execution_count": 126,
   "metadata": {},
   "outputs": [],
   "source": [
    "# write here\n"
   ]
  },
  {
   "cell_type": "raw",
   "id": "30bb6f4c",
   "metadata": {
    "format": "text/html"
   },
   "source": [
    "</div>"
   ]
  },
  {
   "cell_type": "code",
   "execution_count": 126,
   "metadata": {},
   "outputs": [],
   "source": [
    "# write here\n",
    "\n"
   ]
  },
  {
   "cell_type": "markdown",
   "metadata": {},
   "source": [
    "### Challenge - trapezoid\n",
    "\n",
    "✪ Write a small script (`trapezoid.py`) that computes the area of a trapezoid having major base (`mj`) equal to 30 units, minor base (mn) equal to 12 and height (`h`) equal to 17. Print the resulting area. Try executing the script from a text editor like Spyder or Visual Studio Code and from the terminal.\n",
    "\n",
    "It should print `Trapezoid area is:  357.0`\n"
   ]
  },
  {
   "cell_type": "raw",
   "id": "6a44f31b",
   "metadata": {
    "format": "text/html"
   },
   "source": [
    "<a  class=\"jupman-sol jupman-sol-toggler\" \n",
    " onclick=\"jupman.toggleSolution(this);\" \n",
    " data-jupman-show=\"Show solution\" data-jupman-hide=\"Hide\">Show solution</a><div class=\"jupman-sol jupman-sol-code\" style=\"display:none\">  "
   ]
  },
  {
   "cell_type": "code",
   "execution_count": 127,
   "metadata": {},
   "outputs": [],
   "source": [
    "# write here\n"
   ]
  },
  {
   "cell_type": "raw",
   "id": "71e059c1",
   "metadata": {
    "format": "text/html"
   },
   "source": [
    "</div>"
   ]
  },
  {
   "cell_type": "code",
   "execution_count": 127,
   "metadata": {},
   "outputs": [],
   "source": [
    "# write here\n",
    "\n"
   ]
  },
  {
   "cell_type": "markdown",
   "metadata": {},
   "source": [
    "\n",
    "### Challenge - first n numbers\n",
    "\n",
    "✪ Rewrite the example of the sum of the first 1200 integers by using the following equation: $$\\sum\\limits_{i=1}^n i = \\frac{n (n+1)}{2}$$ \n",
    "\n",
    "\n",
    "Then modify the program to make it acquire the number of integers to sum N from the user at runtime\n",
    "\n",
    "It should show `Sum of first 1200 integers:  720600.0`"
   ]
  },
  {
   "cell_type": "raw",
   "id": "e626b7da",
   "metadata": {
    "format": "text/html"
   },
   "source": [
    "<a  class=\"jupman-sol jupman-sol-toggler\" \n",
    " onclick=\"jupman.toggleSolution(this);\" \n",
    " data-jupman-show=\"Show solution\" data-jupman-hide=\"Hide\">Show solution</a><div class=\"jupman-sol jupman-sol-code\" style=\"display:none\">  "
   ]
  },
  {
   "cell_type": "code",
   "execution_count": 128,
   "metadata": {},
   "outputs": [],
   "source": [
    "# write here\n"
   ]
  },
  {
   "cell_type": "raw",
   "id": "3d6c0144",
   "metadata": {
    "format": "text/html"
   },
   "source": [
    "</div>"
   ]
  },
  {
   "cell_type": "code",
   "execution_count": 128,
   "metadata": {},
   "outputs": [],
   "source": [
    "# write here\n",
    "\n"
   ]
  },
  {
   "cell_type": "markdown",
   "metadata": {},
   "source": [
    "### challenge - hypotenuse\n",
    "\n",
    "Write a small script to compute the length of the hypotenuse (`c`) of a right triangle having sides `a`=133 and `b`=72 units (see picture below). It should print `Hypotenuse:  151.23822268196622`\n",
    "\n",
    "![triangle 9u349y43](img/triangle.png)"
   ]
  },
  {
   "cell_type": "raw",
   "id": "0cb18827",
   "metadata": {
    "format": "text/html"
   },
   "source": [
    "<a  class=\"jupman-sol jupman-sol-toggler\" \n",
    " onclick=\"jupman.toggleSolution(this);\" \n",
    " data-jupman-show=\"Show solution\" data-jupman-hide=\"Hide\">Show solution</a><div class=\"jupman-sol jupman-sol-code\" style=\"display:none\">  "
   ]
  },
  {
   "cell_type": "code",
   "execution_count": 129,
   "metadata": {},
   "outputs": [],
   "source": [
    "# write here\n"
   ]
  },
  {
   "cell_type": "raw",
   "id": "2e4734a4",
   "metadata": {
    "format": "text/html"
   },
   "source": [
    "</div>"
   ]
  },
  {
   "cell_type": "code",
   "execution_count": 129,
   "metadata": {},
   "outputs": [],
   "source": [
    "# write here\n",
    "\n"
   ]
  },
  {
   "cell_type": "markdown",
   "metadata": {},
   "source": [
    "### Challenge - which integers 1?\n",
    "\n",
    "✪ Assign numerical values to `x` `y` e `z` to have the expression print `True`"
   ]
  },
  {
   "cell_type": "code",
   "execution_count": 130,
   "metadata": {},
   "outputs": [
    {
     "name": "stdout",
     "output_type": "stream",
     "text": [
      "False\n"
     ]
    }
   ],
   "source": [
    "x = 0  # ?\n",
    "y = 0  # ?\n",
    "print(max(min(x,y), x + 20) > 20)"
   ]
  },
  {
   "cell_type": "markdown",
   "metadata": {},
   "source": [
    "### Challenge - which integers 2?\n",
    "\n",
    "✪ Assign to `x` and `y` values such that `True` is printed"
   ]
  },
  {
   "cell_type": "code",
   "execution_count": 131,
   "metadata": {},
   "outputs": [
    {
     "name": "stdout",
     "output_type": "stream",
     "text": [
      "False\n"
     ]
    }
   ],
   "source": [
    "x = 0  # ?\n",
    "y = 0  # ?\n",
    "\n",
    "print(x > 10 and x < 23 and ((x+y) == 16 or (x + y > 20)))"
   ]
  },
  {
   "cell_type": "markdown",
   "metadata": {},
   "source": [
    "### Challenge - which integers 3?\n",
    "\n",
    "✪ Assign to `z` and `w` values such that `True` is printed.\n"
   ]
  },
  {
   "cell_type": "code",
   "execution_count": 132,
   "metadata": {},
   "outputs": [
    {
     "data": {
      "text/plain": [
       "False"
      ]
     },
     "execution_count": 132,
     "metadata": {},
     "output_type": "execute_result"
    }
   ],
   "source": [
    "z = 0 # ?\n",
    "w = 1 # ?\n",
    "(z < 40 or w < 90) and (z % w > 2)"
   ]
  },
  {
   "cell_type": "markdown",
   "metadata": {},
   "source": [
    "### Challenge - airport\n",
    "\n",
    "✪✪ You finally decide to take a vacation and go to the airport, expecting to spend some time in several queues. Luckily, you only have carry-on bag, so you directly go to security checks, where you can choose among three rows of people `sec1`, `sec2`, `sec3`. Each person an average takes `4` _minutes_ to be examinated, you included, and obviously you choose the shortest queue. Afterwards you go to the gate, where you find two queues of `ga1` and `ga2` people, and you know that each person you included an average takes `20` _seconds_ to pass: again you choose the shortes queue. Luckily the aircraft is next to the gate so you can directly choose whether to board at the queue at the head of the aircraft  with `bo1` people or at the queue at the tail of the plane with `bo2` people. Each passenger you included takes an average `30` _seconds,_ and you choose the shortest queue.\n",
    "\n",
    "Write some code to calculate how much time you take in total to enter the plane, showing it in minutes and seconds.\n",
    "\n",
    "Example - given:\n",
    "\n",
    "```python\n",
    "sec1,sec2,sec3, ga1,ga2, bo1,bo2 = 4,5,8, 5,2, 7,6\n",
    "```\n",
    "\n",
    "your code must print:\n",
    "\n",
    "```\n",
    "24 minutes e 30 seconds\n",
    "```"
   ]
  },
  {
   "cell_type": "code",
   "execution_count": 133,
   "metadata": {},
   "outputs": [],
   "source": [
    "sec1,sec2,sec3, ga1,ga2, bo1,bo2 = 4,5,8, 5,2, 7,6   # 24 minutes and 30 seconds\n",
    "#sec1,sec2,sec3, ga1,ga2, bo1,bo2 = 9,7,1, 3,5, 2,9  # 10 minutes and 50 seconds\n",
    "\n",
    "# write your code \n"
   ]
  },
  {
   "cell_type": "markdown",
   "metadata": {},
   "source": [
    "\n",
    "### Challenge - Holiday trip\n",
    "\n",
    "✪✪ While an holiday you are traveling by car, and in a particular day you want to visit one among 4 destinations. Each location requires to go through two roads `r1` and `r2`. Roads are numbered with two digits numbers, for example to reach destination `1` you need to go to road `58` and road `17`.\n",
    "\n",
    "Write some code that given `r1` and `r2` roads shows the number of the destination.\n",
    "\n",
    "* If the car goes to a road it shouldn't (i.e. road 666), put `False` in `destination`\n",
    "* **DO NOT** use summations\n",
    "* **IMPORTANT: DO NOT use** `if` **commands** (it's possible, think about it ;-)\n",
    "\n",
    "![vacation-trip](img/vacation-trip.png)\n",
    "\n",
    "Example 1 - given:\n",
    "\n",
    "```python\n",
    "r1,r2 = 58,31   \n",
    "```\n",
    "\n",
    "After your code it must print:\n",
    "\n",
    "```\n",
    "The destination is 2\n",
    "```\n",
    "\n",
    "Example 2 - given:\n",
    "\n",
    "```python\n",
    "r1,r2 = 666,31  \n",
    "```\n",
    "\n",
    "After your code it must print:\n",
    "\n",
    "```\n",
    "The destination is False\n",
    "```\n"
   ]
  },
  {
   "cell_type": "code",
   "execution_count": 134,
   "metadata": {},
   "outputs": [],
   "source": [
    "r1,r2 = 58,17   # 1\n",
    "r1,r2 = 58,31   # 2\n",
    "r1,r2 = 32,29   # 3\n",
    "r1,r2 = 42,75   # 4\n",
    "r1,r2 = 666,31  # False  \n",
    "r1,r2 = 58,666  # False  \n",
    "r1,r2 = 32,999  # False\n",
    "\n",
    "# write your code\n"
   ]
  },
  {
   "cell_type": "markdown",
   "metadata": {},
   "source": [
    "## References\n",
    "\n",
    "- [Think Python - Chapter 1](http://greenteapress.com/thinkpython2/html/thinkpython2002.html): The way of the program\n",
    "- [Think Python - Chapter 2](http://greenteapress.com/thinkpython2/html/thinkpython2003.html): Variables, expressions and statements\n"
   ]
  },
  {
   "cell_type": "code",
   "execution_count": null,
   "metadata": {},
   "outputs": [],
   "source": []
  }
 ],
 "metadata": {
  "celltoolbar": "Edit Metadata",
  "kernelspec": {
   "display_name": "Python 3",
   "language": "python",
   "name": "python3"
  },
  "language_info": {
   "codemirror_mode": {
    "name": "ipython",
    "version": 3
   },
   "file_extension": ".py",
   "mimetype": "text/x-python",
   "name": "python",
   "nbconvert_exporter": "python",
   "pygments_lexer": "ipython3",
   "version": "3.7.10"
  },
  "toc": {
   "base_numbering": 1,
   "nav_menu": {},
   "number_sections": false,
   "sideBar": true,
   "skip_h1_title": false,
   "title_cell": "Table of Contents",
   "title_sidebar": "Contents",
   "toc_cell": false,
   "toc_position": {
    "height": "calc(100% - 180px)",
    "left": "10px",
    "top": "150px",
    "width": "280.2px"
   },
   "toc_section_display": true,
   "toc_window_display": true
  }
 },
 "nbformat": 4,
 "nbformat_minor": 2
}
