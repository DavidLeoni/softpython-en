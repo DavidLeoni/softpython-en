{
 "cells": [
  {
   "cell_type": "markdown",
   "metadata": {},
   "source": [
    "# Replacements test\n",
    "\n",
    "<div class=\"alert alert-warning\">\n",
    "\n",
    "**WARNING: Careful when editing this notebook as there are automated tests that use it!**\n",
    "\n",
    "</div>"
   ]
  },
  {
   "cell_type": "markdown",
   "metadata": {},
   "source": [
    "## Markdown\n",
    "\n",
    "### 1. A markdown relative ipynb link\n",
    "\n",
    "[some link](../../index.ipynb)"
   ]
  },
  {
   "cell_type": "markdown",
   "metadata": {},
   "source": [
    "### 2. Another markdown png link\n",
    "\n",
    "![some link](../../_static/img/cc-by.png)"
   ]
  },
  {
   "cell_type": "markdown",
   "metadata": {},
   "source": [
    "\n",
    "### 3. A local markdown csv link\n",
    "\n",
    "[some link](data/pop.csv)"
   ]
  },
  {
   "cell_type": "markdown",
   "metadata": {},
   "source": [
    "### 4. Relative html in markdown \n",
    "\n",
    "For some reason, this is not shown on the website.\n",
    "\n",
    "<a href=\"../../index.ipynb\" target=\"_blank\">a link</a>"
   ]
  },
  {
   "cell_type": "markdown",
   "metadata": {},
   "source": [
    "<h3> 5. a relative png html link </h3>\n",
    "\n",
    "<img src=\"../../_static/img/cc-by.png\">"
   ]
  },
  {
   "cell_type": "markdown",
   "metadata": {},
   "source": [
    "### 6. a html in markdown local csv link\n",
    "\n",
    "<a href=\"data/pop.csv\">a link</a>\n"
   ]
  },
  {
   "cell_type": "raw",
   "metadata": {
    "raw_mimetype": "text/html"
   },
   "source": [
    "<h2> 7. HTML <h2/>\n",
    "<h3> An html relative link </h3>\n",
    "\n",
    "<a href=\"../../index.ipynb\">a link</a>"
   ]
  },
  {
   "cell_type": "raw",
   "metadata": {
    "raw_mimetype": "text/html"
   },
   "source": [
    "8. <h3> An html relative png link </h3>\n",
    "\n",
    "<img src=\"../../_static/img/cc-by.png\">"
   ]
  },
  {
   "cell_type": "raw",
   "metadata": {
    "raw_mimetype": "text/html"
   },
   "source": [
    "9. an html local csv link\n",
    "\n",
    "<a href=\"data/pop.csv\">a link</a>"
   ]
  },
  {
   "cell_type": "code",
   "execution_count": 1,
   "metadata": {},
   "outputs": [],
   "source": [
    "# 10\n",
    "# Python\n",
    "import sys\n",
    "sys.path.append('../../')\n",
    "import jupman\n",
    "\n",
    "# this is not a solution, jupman tags shouln't get processed:\n",
    "#jupman-raise\n",
    "x = 'stay!'\n",
    "#/jupman-raise"
   ]
  },
  {
   "cell_type": "markdown",
   "metadata": {},
   "source": [
    "## 11 - relative HTML .html in markdown\n",
    "\n",
    "<a href=\"../../index.html\">a link</a>"
   ]
  },
  {
   "cell_type": "markdown",
   "metadata": {},
   "source": [
    "## 12 - HTML absolute url in markdown\n",
    "\n",
    "<a href=\"https://jupman.softpython.org\">a link</a>"
   ]
  },
  {
   "cell_type": "code",
   "execution_count": null,
   "metadata": {},
   "outputs": [],
   "source": []
  }
 ],
 "metadata": {
  "celltoolbar": "Raw Cell Format",
  "kernelspec": {
   "display_name": "Python 3",
   "language": "python",
   "name": "python3"
  },
  "language_info": {
   "codemirror_mode": {
    "name": "ipython",
    "version": 3
   },
   "file_extension": ".py",
   "mimetype": "text/x-python",
   "name": "python",
   "nbconvert_exporter": "python",
   "pygments_lexer": "ipython3",
   "version": "3.7.9"
  },
  "toc": {
   "base_numbering": 1,
   "nav_menu": {},
   "number_sections": false,
   "sideBar": true,
   "skip_h1_title": false,
   "title_cell": "Table of Contents",
   "title_sidebar": "Contents",
   "toc_cell": false,
   "toc_position": {},
   "toc_section_display": true,
   "toc_window_display": false
  }
 },
 "nbformat": 4,
 "nbformat_minor": 2
}
