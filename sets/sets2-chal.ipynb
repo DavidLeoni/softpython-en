{
 "cells": [
  {
   "cell_type": "markdown",
   "id": "worst-going",
   "metadata": {},
   "source": [
    "# Sets 2 - First challenges\n",
    "\n",
    "## [Download exercises zip](../_static/generated/sets.zip)\n",
    "\n",
    "[Browse file online](https://github.com/DavidLeoni/softpython-en/sets)"
   ]
  },
  {
   "cell_type": "markdown",
   "id": "impossible-cambodia",
   "metadata": {},
   "source": [
    "We now propose some exercises without solution, do you accept the challenge?"
   ]
  },
  {
   "cell_type": "markdown",
   "id": "54a2f9ad",
   "metadata": {},
   "source": [
    "## Chalenge - Screwed\n",
    "\n",
    "The multinational ToxiCorp produces electrical appliances which are designed on purpose to break after a couple of years usage.  When that happens, their components are designed so they require very special tools only the corporation possess.  Customers are then forced to go to repair workshops affiliated with the corporation, and pay extra money. Over time the corporation has developed so many special shapes for screws that now its workshops have trouble managing all needed screwdrivers, so they ask you to devise a software to tell workshops which crewdrivers they are missing. You find it questionable, but they pay well, so you accept.\n",
    "\n",
    "Each screw is star shaped, and is defined by a radius and a certain number of tips. We can represent it as a two \n",
    "elements list like `[3,7]` where `3` is the radius and `7` the number of tips. Each screwdrivers is also defined as a two elements list with the values of the radius and tips it can screw.\n",
    "\n",
    "A workshop has in store a list of screws and a list of screwdrivers: write some code that prints a sorted list of \n",
    "the screwdrivers which are missing in order to be able to handle all the screw types."
   ]
  },
  {
   "cell_type": "markdown",
   "id": "27ef2487",
   "metadata": {},
   "source": [
    "Example - given:\n",
    "\n",
    "```python\n",
    "screws = [[5,8], [7,4], [2,9], [8,2], [7,4],[2,6], [8,3], [2,6], [8,3], [8,3], [5,8]]\n",
    "screwdrivers = [[8,2], [1,3], [5,8], [2,5], [1,3]]\n",
    "```\n",
    "\n",
    "Your code must print:\n",
    "\n",
    "```\n",
    "Required screwdrivers: [(2, 6), (2, 9), (7, 4), (8, 3)]\n",
    "```\n",
    "\n",
    "- Notice input lists may have duplicates\n",
    "- **DO NOT** use list methods or operators which search stuff\n",
    "  - so no `.index`, `.find`, `in` ... they're slow!\n",
    "- **DO NOT** use nested loops... they would probably be slow !"
   ]
  },
  {
   "cell_type": "code",
   "execution_count": 1,
   "id": "325eef22-stripped",
   "metadata": {},
   "outputs": [],
   "source": [
    "\n",
    "screws = [[5,8], [7,4], [2,9],[8,2], [7,4],[2,6], [8,3],\n",
    "          [2,6], [8,3], [8,3], [5,8]]\n",
    "          \n",
    "screwdrivers = [[8,2], [1,3], [5,8], [2,5], [1,3]]\n",
    "\n",
    "# write here\n",
    "\n"
   ]
  },
  {
   "cell_type": "code",
   "execution_count": 2,
   "id": "2bc39b36-stripped",
   "metadata": {
    "nbsphinx": "hidden"
   },
   "outputs": [],
   "source": []
  },
  {
   "cell_type": "code",
   "execution_count": null,
   "id": "ca9a8248",
   "metadata": {},
   "outputs": [],
   "source": []
  }
 ],
 "metadata": {
  "kernelspec": {
   "display_name": "Python 3 (ipykernel)",
   "language": "python",
   "name": "python3"
  },
  "language_info": {
   "codemirror_mode": {
    "name": "ipython",
    "version": 3
   },
   "file_extension": ".py",
   "mimetype": "text/x-python",
   "name": "python",
   "nbconvert_exporter": "python",
   "pygments_lexer": "ipython3",
   "version": "3.7.10"
  },
  "toc": {
   "base_numbering": 1,
   "nav_menu": {},
   "number_sections": false,
   "sideBar": true,
   "skip_h1_title": false,
   "title_cell": "Table of Contents",
   "title_sidebar": "Contents",
   "toc_cell": false,
   "toc_position": {},
   "toc_section_display": true,
   "toc_window_display": false
  }
 },
 "nbformat": 4,
 "nbformat_minor": 5
}
