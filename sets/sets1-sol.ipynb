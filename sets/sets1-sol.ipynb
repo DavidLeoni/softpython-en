{
 "cells": [
  {
   "cell_type": "code",
   "execution_count": 1,
   "metadata": {
    "nbsphinx": "hidden"
   },
   "outputs": [],
   "source": [
    "# Remember to execute this cell with Shift+Enter\n",
    "\n",
    "import jupman"
   ]
  },
  {
   "cell_type": "markdown",
   "metadata": {},
   "source": [
    "\n",
    "# Sets\n",
    "\n",
    "## [Download exercises zip](../_static/generated/sets.zip)\n",
    "\n",
    "[Browse online files](https://github.com/DavidLeoni/softpython-en/tree/master/sets)\n",
    "\n",
    "A set is a _mutable_ _unordered_ collection of _immutable_ _distinct_ elements (that is, without duplicates). The Python datatype to represent sets is called `set`."
   ]
  },
  {
   "cell_type": "markdown",
   "metadata": {},
   "source": [
    "## What to do\n",
    "\n",
    "1. Unzip [exercises zip](../_static/generated/sets.zip) in a folder, you should obtain something like this:\n",
    "\n",
    "```\n",
    "sets\n",
    "    sets1.ipynb    \n",
    "    sets1-sol.ipynb         \n",
    "    jupman.py         \n",
    "```\n",
    "\n",
    "<div class=\"alert alert-warning\">\n",
    "\n",
    "**WARNING: to correctly visualize the notebook, it MUST be in an unzipped folder !**\n",
    "</div>"
   ]
  },
  {
   "cell_type": "markdown",
   "metadata": {},
   "source": [
    "2. open Jupyter Notebook from that folder. Two things should open, first a console and then a browser. The browser should show a file list: navigate the list and open the notebook `sets.ipynb`\n",
    "\n",
    "3. Go on reading the exercises file, sometimes you will find paragraphs marked **Exercises** which will ask to write Python commands in the following cells."
   ]
  },
  {
   "cell_type": "markdown",
   "metadata": {},
   "source": [
    "Shortcut keys:\n",
    "\n",
    "- to execute Python code inside a Jupyter cell, press `Control + Enter`\n",
    "\n",
    "- to execute Python code inside a Jupyter cell AND select next cell, press `Shift + Enter`\n",
    "\n",
    "- to execute Python code inside a Jupyter cell AND a create a new cell aftwerwards, press `Alt + Enter`\n",
    "\n",
    "- If the notebooks look stuck, try to select `Kernel -> Restart`"
   ]
  },
  {
   "cell_type": "markdown",
   "metadata": {},
   "source": [
    "\n",
    "## Creating a set\n",
    "\n",
    "We can create a set using curly brackets, and separating the elements with commas `,`\n",
    "\n",
    "Let's try a set of characters:"
   ]
  },
  {
   "cell_type": "code",
   "execution_count": 2,
   "metadata": {},
   "outputs": [],
   "source": [
    "s = {'b','a','d','c'}"
   ]
  },
  {
   "cell_type": "code",
   "execution_count": 3,
   "metadata": {},
   "outputs": [
    {
     "data": {
      "text/plain": [
       "set"
      ]
     },
     "execution_count": 3,
     "metadata": {},
     "output_type": "execute_result"
    }
   ],
   "source": [
    "type(s)"
   ]
  },
  {
   "cell_type": "markdown",
   "metadata": {},
   "source": [
    "<div class=\"alert alert-warning\">\n",
    "\n",
    "**WARNING: SETS ARE** ***NOT*** **ORDERED !!!**\n",
    "    \n",
    "**DO NOT** BELIEVE IN WHAT YOU SEE !!\n",
    "\n",
    "</div>"
   ]
  },
  {
   "cell_type": "markdown",
   "metadata": {},
   "source": [
    "Let's try printing the set:"
   ]
  },
  {
   "cell_type": "code",
   "execution_count": 4,
   "metadata": {},
   "outputs": [
    {
     "name": "stdout",
     "output_type": "stream",
     "text": [
      "{'b', 'd', 'c', 'a'}\n"
     ]
    }
   ],
   "source": [
    "print(s)"
   ]
  },
  {
   "cell_type": "markdown",
   "metadata": {},
   "source": [
    "The output shows the order in which the print was made is different from the order in which we built the set. Also, according to the Python version you're using, on your computer it might be even different! \n",
    "\n",
    "This is because order in sets is NOT guaranteed: the only thing that matters is whether or not an element belongs to a set."
   ]
  },
  {
   "cell_type": "markdown",
   "metadata": {},
   "source": [
    "As a further demonstration, we may ask Jupyter to show the content of the set, by writing only the variable `s` WITHOUT `print`:"
   ]
  },
  {
   "cell_type": "code",
   "execution_count": 5,
   "metadata": {},
   "outputs": [
    {
     "data": {
      "text/plain": [
       "{'a', 'b', 'c', 'd'}"
      ]
     },
     "execution_count": 5,
     "metadata": {},
     "output_type": "execute_result"
    }
   ],
   "source": [
    "s"
   ]
  },
  {
   "cell_type": "markdown",
   "metadata": {},
   "source": [
    "Now it appears in alphabetical order! It happens like so because Jupyter show variables by implicitly using  the  [pprint](https://docs.python.org/3/library/pprint.html) (_pretty_ print), which ONLY for sets gives us the courtesy to order the result before printing it. We can thank Jupyter, but let's not allow it to confuse us!"
   ]
  },
  {
   "cell_type": "markdown",
   "metadata": {},
   "source": [
    "**Elements index**: since sets have no order, asking Python to extract an element at a given position would make no sense. Thus, differently from strings, lists and tuples, with sets it's NOT possible to extract an element from an index:\n",
    "\n",
    "```python\n",
    "s[0]\n",
    "\n",
    "---------------------------------------------------------------------------\n",
    "TypeError                                 Traceback (most recent call last)\n",
    "<ipython-input-352-c9c96910e542> in <module>\n",
    "----> 1 s[0]\n",
    "\n",
    "TypeError: 'set' object is not subscriptable\n",
    "```"
   ]
  },
  {
   "cell_type": "markdown",
   "metadata": {},
   "source": [
    "We said that a set has only _distinct_ elements, that is without duplicates - what happens if we try to place some duplicate anyway?"
   ]
  },
  {
   "cell_type": "code",
   "execution_count": 6,
   "metadata": {},
   "outputs": [],
   "source": [
    "s = {6,7,5,9,5,5,7}"
   ]
  },
  {
   "cell_type": "code",
   "execution_count": 7,
   "metadata": {},
   "outputs": [
    {
     "data": {
      "text/plain": [
       "{5, 6, 7, 9}"
      ]
     },
     "execution_count": 7,
     "metadata": {},
     "output_type": "execute_result"
    }
   ],
   "source": [
    "s"
   ]
  },
  {
   "cell_type": "markdown",
   "metadata": {},
   "source": [
    "We note that Python silently removed the duplicates."
   ]
  },
  {
   "cell_type": "markdown",
   "metadata": {},
   "source": [
    "### Converting sequences to sets\n",
    "\n",
    "As for lists and strings, we can create a `set` from another sequence:"
   ]
  },
  {
   "cell_type": "code",
   "execution_count": 8,
   "metadata": {},
   "outputs": [
    {
     "data": {
      "text/plain": [
       "{'a', 'c', 'i'}"
      ]
     },
     "execution_count": 8,
     "metadata": {},
     "output_type": "execute_result"
    }
   ],
   "source": [
    "set('acacia') # from string"
   ]
  },
  {
   "cell_type": "code",
   "execution_count": 9,
   "metadata": {},
   "outputs": [
    {
     "data": {
      "text/plain": [
       "{1, 2, 3}"
      ]
     },
     "execution_count": 9,
     "metadata": {},
     "output_type": "execute_result"
    }
   ],
   "source": [
    "set( [1,2,3,1,2,1,2,1,3,1] ) # from list"
   ]
  },
  {
   "cell_type": "code",
   "execution_count": 10,
   "metadata": {},
   "outputs": [
    {
     "data": {
      "text/plain": [
       "{1, 4, 5, 6}"
      ]
     },
     "execution_count": 10,
     "metadata": {},
     "output_type": "execute_result"
    }
   ],
   "source": [
    "set( (4,6,1,5,1,4,1,5,4,5) ) # from tuple"
   ]
  },
  {
   "cell_type": "markdown",
   "metadata": {},
   "source": [
    "Again, we notice in the generated set  there are no duplicates\n",
    "\n",
    "<div class=\"alert alert-info\">\n",
    "\n",
    "**REMEMBER: Sets are useful to remove duplicates from a sequence**    \n",
    "   \n",
    "</div>"
   ]
  },
  {
   "cell_type": "markdown",
   "metadata": {},
   "source": [
    "### Mutable elements and hashes"
   ]
  },
  {
   "cell_type": "markdown",
   "metadata": {},
   "source": [
    "Let's see again the definition from the beginning:\n",
    "\n",
    "> A set is a _mutable_ _unordered_ collection of _immutable_ _distinct_ elements\n",
    "\n",
    "So far we only created the set  using _immutable_ elements like numbers and strings.\n",
    "\n",
    "What happens if we place some mutable elements, like lists?"
   ]
  },
  {
   "cell_type": "markdown",
   "metadata": {},
   "source": [
    "```python\n",
    ">>> s = { [1,2,3], [4,5] }  \n",
    "\n",
    "---------------------------------------------------------------------------\n",
    "TypeError                                 Traceback (most recent call last)\n",
    "<ipython-input-40-a6c538692ccb> in <module>\n",
    "----> 1 s = { [1,2,3], [4,5]  } \n",
    "\n",
    "TypeError: unhashable type: 'list'\n",
    "```    "
   ]
  },
  {
   "cell_type": "markdown",
   "metadata": {},
   "source": [
    "We obtain `TypeError: unhashable type: 'list'`, which literally means Python didn't manage to calculate the _hash_ of the list. What could this particular dish ever be?\n",
    "\n",
    "**What is the hash?** The _hash_ of an object is a number that Python can associate to it, for example you can see the `hash` of an object by using the function with the same name:"
   ]
  },
  {
   "cell_type": "code",
   "execution_count": 11,
   "metadata": {},
   "outputs": [
    {
     "data": {
      "text/plain": [
       "-3262299758023616108"
      ]
     },
     "execution_count": 11,
     "metadata": {},
     "output_type": "execute_result"
    }
   ],
   "source": [
    "hash( \"This is a nice day\" )  # string"
   ]
  },
  {
   "cell_type": "code",
   "execution_count": 12,
   "metadata": {
    "scrolled": true
   },
   "outputs": [
    {
     "data": {
      "text/plain": [
       "651300278308214397"
      ]
     },
     "execution_count": 12,
     "metadata": {},
     "output_type": "execute_result"
    }
   ],
   "source": [
    "hash( 111112222223333333344444445555555555 )   # number"
   ]
  },
  {
   "cell_type": "markdown",
   "metadata": {},
   "source": [
    "Imagine the _hash_ is some kind of label with these properties:\n",
    " \n",
    "- it is too short to completely describe the object to which it is associated (that is: given a hash label, you _cannot_ reconstruct the object it represents)\n",
    "- it is enough long to identify _almost uniquely_ the object...\n",
    "- ... even if in the world there _might_ be different objects  which have associated exactly the same label\n",
    "\n",
    "**What's the relation with our sets?** The _hash_ has various applications, but typically Python uses it to quickly find an object in collections which are based on hashes, like sets and dictionaries. How much fast? Very: even with homongous sets, we always obtain an answer in a constant very short time! In other words, the answer speed _does not_ depend on the set dimension (except for pathological cases we don't review here).\n",
    "\n",
    "This velocity is permitted by the fact that given some object to search, Python is able to rapidly calculate its _hash_ label: then, with the label in the hand, so to speak,  it can manage to quickly find in the memory store whether there are objects which have the same label. If they are found, they will almost surely be very few, so Python will only need to compare them with the searched one."
   ]
  },
  {
   "cell_type": "markdown",
   "metadata": {},
   "source": [
    "***Immutable*** **objects always have  the same hash label** from when they are created until the end of the program. Instead, the _mutable_ ones behave differently: each time we change an object, the _hash_ also changes. Imagine a market where employees place food by looking at labels and separating accordingly for example the coffee in the shelves for the breakfast and bleach in the shelves for detergents. If you are a customer and you want some coffee, you look at signs and directly go toward the shelves for breakfast stuff. Image what could happen if an evil sorcerer could transform the objects already placed into other objects, like for example the coffee into bleach (let's assume that at the moment of the transmutation the _hash_ label also changes). Much confusion would certainly follow, and, if we aren't cautious, also a great stomachache or worse.\n",
    "\n",
    "So to offer you the advantage of a fast search while avoiding disastrous situations, Python imposes to place inside sets only objects with a stable _hash,_ that is _immutable_ objects."
   ]
  },
  {
   "cell_type": "markdown",
   "metadata": {},
   "source": [
    "**QUESTION**: Can we insert a tuple inside a set? Try to verify your intuition with a code example."
   ]
  },
  {
   "cell_type": "raw",
   "id": "159ee0fb",
   "metadata": {
    "format": "text/html"
   },
   "source": [
    "<a  class=\"jupman-sol jupman-sol-toggler\" \n",
    " onclick=\"jupman.toggleSolution(this);\" \n",
    " data-jupman-show=\"Show answer\" data-jupman-hide=\"Hide\">Show answer</a><div class=\"jupman-sol jupman-sol-question\" style=\"display:none\">  "
   ]
  },
  {
   "cell_type": "markdown",
   "metadata": {},
   "source": [
    "**ANSWER**: Yes, tuples are _immutable,_ so they have a corrispending _hash_ which remains stable for all the program duration, for example this is a tuple set:`{(1,2), (3,4,5)}`\n",
    "\n",
    "Note we can consider a tuple as really immutable only if it contains elements which are also immutable."
   ]
  },
  {
   "cell_type": "raw",
   "id": "32942c6b",
   "metadata": {
    "format": "text/html"
   },
   "source": [
    "</div>"
   ]
  },
  {
   "cell_type": "markdown",
   "metadata": {},
   "source": [
    "### Empty set\n",
    "\n",
    "<div class=\"alert alert-warning\">\n",
    "\n",
    "**WARNING: If you write** `{}` **you will obtain a dictionary, NOT a set !!!**    \n",
    "\n",
    "</div>\n",
    "\n",
    "To create an empty set we must call the function `set()`:"
   ]
  },
  {
   "cell_type": "code",
   "execution_count": 13,
   "metadata": {},
   "outputs": [],
   "source": [
    "s = set()"
   ]
  },
  {
   "cell_type": "code",
   "execution_count": 14,
   "metadata": {},
   "outputs": [
    {
     "data": {
      "text/plain": [
       "set()"
      ]
     },
     "execution_count": 14,
     "metadata": {},
     "output_type": "execute_result"
    }
   ],
   "source": [
    "s"
   ]
  },
  {
   "cell_type": "markdown",
   "metadata": {},
   "source": [
    "**EXERCISE**: try writing `{}` in the cell below and look at the object type obtained with `type`"
   ]
  },
  {
   "cell_type": "code",
   "execution_count": 15,
   "metadata": {},
   "outputs": [],
   "source": [
    "# write here\n"
   ]
  },
  {
   "cell_type": "markdown",
   "metadata": {},
   "source": [
    "**QUESTION**: Can we try inserting a set inside another set? Have a careful look at the set definition, then verify your suppositions by writing some code to create a set which has  another set inside.\n",
    "\n",
    "<div class=\"alert alert-warning\">\n",
    "\n",
    "**WARNING: To perform the check, DO NOT use the** `set` **function, only use creation with curly brackets**\n",
    "\n",
    "</div>"
   ]
  },
  {
   "cell_type": "raw",
   "id": "6c1d05c6",
   "metadata": {
    "format": "text/html"
   },
   "source": [
    "<a  class=\"jupman-sol jupman-sol-toggler\" \n",
    " onclick=\"jupman.toggleSolution(this);\" \n",
    " data-jupman-show=\"Show answer\" data-jupman-hide=\"Hide\">Show answer</a><div class=\"jupman-sol jupman-sol-question\" style=\"display:none\">  "
   ]
  },
  {
   "cell_type": "markdown",
   "metadata": {},
   "source": [
    "**ANSWER**: A set is _mutable,_ so we _cannot_ insert it as an element of another set (its _hash_ label could vary over time). By writing  `{{1,2,3}}` you will get an error."
   ]
  },
  {
   "cell_type": "raw",
   "id": "769f9dcd",
   "metadata": {
    "format": "text/html"
   },
   "source": [
    "</div>"
   ]
  },
  {
   "cell_type": "markdown",
   "metadata": {},
   "source": [
    "**QUESTION**: If we write something like this, what do we get? (careful!)\n",
    "\n",
    "```python\n",
    "set(set(['a','b']))\n",
    "```\n",
    "\n",
    "1. a set with `a` and `b` inside\n",
    "2. a set containing another set which contains `a` and `b` as elements\n",
    "3. an error (which one?)"
   ]
  },
  {
   "cell_type": "raw",
   "id": "8aca65e2",
   "metadata": {
    "format": "text/html"
   },
   "source": [
    "<a  class=\"jupman-sol jupman-sol-toggler\" \n",
    " onclick=\"jupman.toggleSolution(this);\" \n",
    " data-jupman-show=\"Show answer\" data-jupman-hide=\"Hide\">Show answer</a><div class=\"jupman-sol jupman-sol-question\" style=\"display:none\">  "
   ]
  },
  {
   "cell_type": "markdown",
   "metadata": {},
   "source": [
    "**ANSWER**: 1:\n",
    "\n",
    "- inside we have the expression  `set(['a','b'])` which generates the set `{'a','b'}`\n",
    "- outside we have the expression `set( set(['a','b'])  )` which is given the set just created, so we can rewrite it as `set({'a','b'})`\n",
    "- Since `set` when used as a function expects a sequence, and a set _is_ a sequence, the external `set` takes all the elements it finds inside the sequence `{'a','b'}` we passed, and generates a new set with `'a'` and `'b'` inside."
   ]
  },
  {
   "cell_type": "raw",
   "id": "028270b2",
   "metadata": {
    "format": "text/html"
   },
   "source": [
    "</div>"
   ]
  },
  {
   "cell_type": "markdown",
   "metadata": {},
   "source": [
    "**QUESTION**: Have a look at following expressions, and for each of them try to guess which result it produces (or if it gives an error):\n",
    "\n",
    "1.  ```python\n",
    "    {'oh','la','la'}\n",
    "    ```   \n",
    "1.  ```python\n",
    "    set([3,4,2,3,2,2,2,-1])\n",
    "    ```  \n",
    "1.  ```python    \n",
    "    {(1,2),(2,3)}\n",
    "    ```   \n",
    "1.  ```python    \n",
    "    set('aba')\n",
    "    ```   \n",
    "1.  ```python\n",
    "    str({'a'})\n",
    "    ```       \n",
    "1.  ```python    \n",
    "    {1;2;3}\n",
    "    ```   \n",
    "1.  ```python    \n",
    "    set(  1,2,3  )\n",
    "    ```   \n",
    "1.  ```python    \n",
    "    set( {1,2,3} )\n",
    "    ```   \n",
    "1.  ```python    \n",
    "    set( [1,2,3] )\n",
    "    ```   \n",
    "1.  ```python    \n",
    "    set( (1,2,3) )\n",
    "    ```   \n",
    "1.  ```python    \n",
    "    set(  \"abc\"  )\n",
    "    ```   \n",
    "1.  ```python    \n",
    "    set(  \"1232\"  )\n",
    "    ```   \n",
    "1.  ```python    \n",
    "    set( [ {1,2,3,2} ] )\n",
    "    ```   \n",
    "1.  ```python    \n",
    "    set( [ [1,2,3,2] ] )\n",
    "    ```   \n",
    "1.  ```python    \n",
    "    set( [ (1,2,3,2) ] )\n",
    "    ```   \n",
    "1.  ```python    \n",
    "    set( [ \"abcb\"   ] )\n",
    "    ```   \n",
    "1.  ```python    \n",
    "    set( [ \"1232\"   ] )\n",
    "    ```   \n",
    "1.  ```python    \n",
    "    set((1,2,3,2))\n",
    "    ```   \n",
    "1.  ```python    \n",
    "    set([(),()])\n",
    "    ```   \n",
    "1.  ```python    \n",
    "    set([])\n",
    "    ```   \n",
    "1.  ```python    \n",
    "    set(list(set()))\n",
    "    ```"
   ]
  },
  {
   "cell_type": "markdown",
   "metadata": {},
   "source": [
    "### Exercise - dedup\n",
    "\n",
    "Write some brief code to create a list `lb` which contains all the elements of the list `la` without duplicates and alphabetically sorted.\n",
    "\n",
    "- DO NOT change original list `la`\n",
    "- DO NOT use cycles\n",
    "- your code should work for any `la`\n",
    "\n",
    "```python\n",
    "la = ['c','a','b','c','d','b','e']\n",
    "```\n",
    "\n",
    "After your code, you should obtain:\n",
    "\n",
    "```python\n",
    ">>> print(la)\n",
    "['c', 'a', 'b', 'c', 'd', 'b', 'e']\n",
    ">>> print(lb)\n",
    "['a', 'b', 'c', 'd', 'e']\n",
    "```"
   ]
  },
  {
   "cell_type": "raw",
   "id": "d21cfe22",
   "metadata": {
    "format": "text/html"
   },
   "source": [
    "<a  class=\"jupman-sol jupman-sol-toggler\" \n",
    " onclick=\"jupman.toggleSolution(this);\" \n",
    " data-jupman-show=\"Show solution\" data-jupman-hide=\"Hide\">Show solution</a><div class=\"jupman-sol jupman-sol-code\" style=\"display:none\">  "
   ]
  },
  {
   "cell_type": "code",
   "execution_count": 16,
   "metadata": {
    "scrolled": true
   },
   "outputs": [
    {
     "name": "stdout",
     "output_type": "stream",
     "text": [
      "la = ['c', 'a', 'b', 'c', 'd', 'b', 'e']\n",
      "lb = ['a', 'b', 'c', 'd', 'e']\n"
     ]
    }
   ],
   "source": [
    "la = ['c','a','b','c','d','b','e']\n",
    "\n",
    "# write here\n",
    "\n",
    "lb = list(set(la))\n",
    "lb.sort()\n",
    "#lb = list(sorted(set(la)))  # alternative, NOTE sorted generates a NEW sequence\n",
    "\n",
    "print(\"la =\",la)\n",
    "print(\"lb =\",lb)"
   ]
  },
  {
   "cell_type": "raw",
   "id": "f61bfd81",
   "metadata": {
    "format": "text/html"
   },
   "source": [
    "</div>"
   ]
  },
  {
   "cell_type": "code",
   "execution_count": 16,
   "metadata": {
    "scrolled": true
   },
   "outputs": [
    {
     "name": "stdout",
     "output_type": "stream",
     "text": [
      "la = ['c', 'a', 'b', 'c', 'd', 'b', 'e']\n",
      "lb = ['a', 'b', 'c', 'd', 'e']\n"
     ]
    }
   ],
   "source": [
    "la = ['c','a','b','c','d','b','e']\n",
    "\n",
    "# write here\n",
    "\n"
   ]
  },
  {
   "cell_type": "markdown",
   "metadata": {},
   "source": [
    "### Frozenset\n",
    "\n",
    "<div class=\"alert alert-info\" >\n",
    "\n",
    "**INFO: this topic is optional for the purposes of the book**\n",
    "</div>\n",
    "\n",
    "In Python also exists _immutable_ sets which are called `frozenset`. Here we just remind that since frozensets are _immutable_ they do have associated a _hash_ label and thus they can be inserted as elements of other sets. For other info we refer to the [official documentation](https://docs.python.org/3/library/stdtypes.html#frozenset)."
   ]
  },
  {
   "cell_type": "markdown",
   "metadata": {},
   "source": [
    "## Operators"
   ]
  },
  {
   "cell_type": "markdown",
   "metadata": {},
   "source": [
    "|Operator| Result | Description |\n",
    "|---------|-----------|-------------|\n",
    "|`len`(set)|`int` | the number of elements in the set|\n",
    "|el `in` set|`bool`|verifies whether an element is contained in the set|\n",
    "|set <code>&#124;</code>  set| `set` | union, creates a NEW set|\n",
    "|set `&` set| `set` | intersetion, creates a NEW set|\n",
    "|set `-` set| `set` | difference, creates a NEW set|\n",
    "|set `^` set| `set` | symmetric difference, creates a NEW set|\n",
    "|`==`,`!=`|`bool`| checks whether two sets are equal or different|\n"
   ]
  },
  {
   "cell_type": "markdown",
   "metadata": {},
   "source": [
    "### len"
   ]
  },
  {
   "cell_type": "code",
   "execution_count": 17,
   "metadata": {},
   "outputs": [
    {
     "data": {
      "text/plain": [
       "3"
      ]
     },
     "execution_count": 17,
     "metadata": {},
     "output_type": "execute_result"
    }
   ],
   "source": [
    "len( {'a','b','c'}  )"
   ]
  },
  {
   "cell_type": "code",
   "execution_count": 18,
   "metadata": {},
   "outputs": [
    {
     "data": {
      "text/plain": [
       "0"
      ]
     },
     "execution_count": 18,
     "metadata": {},
     "output_type": "execute_result"
    }
   ],
   "source": [
    "len( set() )"
   ]
  },
  {
   "cell_type": "markdown",
   "metadata": {},
   "source": [
    "### Exercise - distincts\n",
    "\n",
    "\n",
    "Given a string `word`, write some code that:\n",
    "\n",
    "* prints the distinct characters present in `word` as alphabetically ordered (without the square brackets!), together with their number\n",
    "* prints the number of duplicate characters found in total\n",
    "\n",
    "Example 1 - given:\n",
    "\n",
    "```python\n",
    "word = \"ababbbbcdd\"\n",
    "```\n",
    "after your code it must print:\n",
    "\n",
    "```\n",
    "word     : ababbbbcdd\n",
    "4 distincts : a,b,c,d\n",
    "6 duplicates\n",
    "```\n",
    "\n",
    "Example 2 - given:\n",
    "\n",
    "```python\n",
    "word = \"cccccaaabbbb\"\n",
    "```\n",
    "\n",
    "after your code it must print:\n",
    "\n",
    "```\n",
    "word     : cccccaaabbbb\n",
    "3 distinct : a,b,c\n",
    "9 duplicates\n",
    "```\n"
   ]
  },
  {
   "cell_type": "raw",
   "id": "b628d62a",
   "metadata": {
    "format": "text/html"
   },
   "source": [
    "<a  class=\"jupman-sol jupman-sol-toggler\" \n",
    " onclick=\"jupman.toggleSolution(this);\" \n",
    " data-jupman-show=\"Show solution\" data-jupman-hide=\"Hide\">Show solution</a><div class=\"jupman-sol jupman-sol-code\" style=\"display:none\">  "
   ]
  },
  {
   "cell_type": "code",
   "execution_count": 19,
   "metadata": {},
   "outputs": [
    {
     "name": "stdout",
     "output_type": "stream",
     "text": [
      "word     : ababbbbcdd\n",
      "4 distincts : a,b,c,d\n",
      "6 duplicates\n"
     ]
    }
   ],
   "source": [
    "# write here\n",
    "word = \"ababbbbcdd\"\n",
    "#word = \"cccccaaabbbb\"\n",
    "s = set(word)\n",
    "print(\"word     :\", word)\n",
    "la = list(s) \n",
    "la.sort()\n",
    "print(len(s), 'distincts :', \",\".join(la))\n",
    "#print(len(s), 'distincts :', list(sorted(s)))  # ALTERNATIVE WITH SORTED\n",
    "print(len(word) - len(s), 'duplicates')"
   ]
  },
  {
   "cell_type": "raw",
   "id": "f95df65c",
   "metadata": {
    "format": "text/html"
   },
   "source": [
    "</div>"
   ]
  },
  {
   "cell_type": "code",
   "execution_count": 19,
   "metadata": {},
   "outputs": [
    {
     "name": "stdout",
     "output_type": "stream",
     "text": [
      "word     : ababbbbcdd\n",
      "4 distincts : a,b,c,d\n",
      "6 duplicates\n"
     ]
    }
   ],
   "source": [
    "# write here\n",
    "\n"
   ]
  },
  {
   "cell_type": "markdown",
   "metadata": {},
   "source": [
    "### Union\n",
    "\n",
    "The union operator  `|` (called _pipe_)  produces a NEW set containing all the elements from both the first and second set.\n",
    "\n",
    "![eiu3](img/union.png)"
   ]
  },
  {
   "cell_type": "code",
   "execution_count": 20,
   "metadata": {},
   "outputs": [
    {
     "data": {
      "text/plain": [
       "{'a', 'b', 'c', 'd', 'e'}"
      ]
     },
     "execution_count": 20,
     "metadata": {},
     "output_type": "execute_result"
    }
   ],
   "source": [
    "{'a','b','c'} | {'b','c','d','e'}"
   ]
  },
  {
   "cell_type": "markdown",
   "metadata": {},
   "source": [
    "Note there aren't duplicated elements"
   ]
  },
  {
   "cell_type": "markdown",
   "metadata": {},
   "source": [
    "**EXERCISE**: What if we use the `+`? Try writing in a cell `{'a','b'} + {'c','d','e'}`. What happens?"
   ]
  },
  {
   "cell_type": "code",
   "execution_count": 21,
   "metadata": {},
   "outputs": [],
   "source": [
    "# write here\n"
   ]
  },
  {
   "cell_type": "markdown",
   "metadata": {},
   "source": [
    "**QUESTION**: Look at the following expressions, and for each try guessing the result (or if they give an error):\n",
    "\n",
    "1.  ```python    \n",
    "    {'a','d','b'}|{'a','b','c'}\n",
    "    ```           \n",
    "1.  ```python    \n",
    "    {'a'}|{'a'}\n",
    "    ```       \n",
    "1.  ```python    \n",
    "    {'a'|'b'}\n",
    "    ```\n",
    "1.  ```python    \n",
    "    {1|2|3}\n",
    "    ```   \n",
    "1.  ```python    \n",
    "    {'a'|'b'|'a'}\n",
    "    ```       \n",
    "1.  ```python    \n",
    "    {{'a'}|{'b'}|{'a'}}\n",
    "    ```       \n",
    "1.  ```python    \n",
    "    [1,2,3] | [3,4]\n",
    "    ```       \n",
    "1.  ```python    \n",
    "    (1,2,3) | (3,4)\n",
    "    ```       \n",
    "1.  ```python        \n",
    "    \"abc\" | \"cd\"\n",
    "    ```       \n",
    "1.  ```python        \n",
    "    {'a'} | set(['a','b'])\n",
    "    ```       \n",
    "1.  ```python        \n",
    "    set(\".\".join('pacca'))\n",
    "    ```       \n",
    "1.  ```python        \n",
    "    '{a}'|'{b}'|'{a}'\n",
    "    ```       \n",
    "1.  ```python        \n",
    "    set((1,2,3))|set([len([4,5])])\n",
    "    ```\n",
    "1.  ```python        \n",
    "    {()}|{()}\n",
    "    ```       \n",
    "1.  ```python        \n",
    "    {'|'}|{'|'}\n",
    "    ```       \n"
   ]
  },
  {
   "cell_type": "markdown",
   "metadata": {},
   "source": [
    "**QUESTION**: Given two sets `x` and `y`, the expression\n",
    "\n",
    "```python\n",
    "len(x | y) <= len(x) + len(y)\n",
    "```\n",
    "\n",
    "produces:\n",
    "\n",
    "1. an error (which one?)\n",
    "2. always `True`\n",
    "3. always `False`\n",
    "4. sometimes `True` sometimes  `False` according to values of `x` and `y`"
   ]
  },
  {
   "cell_type": "raw",
   "id": "76246895",
   "metadata": {
    "format": "text/html"
   },
   "source": [
    "<a  class=\"jupman-sol jupman-sol-toggler\" \n",
    " onclick=\"jupman.toggleSolution(this);\" \n",
    " data-jupman-show=\"Show answer\" data-jupman-hide=\"Hide\">Show answer</a><div class=\"jupman-sol jupman-sol-question\" style=\"display:none\">  "
   ]
  },
  {
   "cell_type": "markdown",
   "metadata": {},
   "source": [
    "**ANSWER**: 2: the number of elements from the union will always be lesser or equal to the sum of the number of elements of each single set we are going to merge, so from the `<=` comparison we will always get `True`."
   ]
  },
  {
   "cell_type": "raw",
   "id": "2358c069",
   "metadata": {
    "format": "text/html"
   },
   "source": [
    "</div>"
   ]
  },
  {
   "cell_type": "markdown",
   "metadata": {},
   "source": [
    "### Exercise - everythingbut 1\n",
    "\n",
    "Write some code which creates a set `s4` which contains all the elements of `s1` and `s2` but does not contain the elements of `s3`.\n",
    "\n",
    "* Your code should work with _any_ set `s1`, `s2`, `s3`\n",
    "\n",
    "\n",
    "Example - given:\n",
    "\n",
    "```python\n",
    "s1 = set(['a','b','c','d','e'])\n",
    "s2 = set(['b','c','f','g'])\n",
    "s3 = set(['b','f'])\n",
    "```\n",
    "\n",
    "After your code you should obtain:\n",
    "\n",
    "```python\n",
    ">>> print(s4)\n",
    "{'d', 'a', 'c', 'g', 'e'}\n",
    "```"
   ]
  },
  {
   "cell_type": "raw",
   "id": "e841cd2e",
   "metadata": {
    "format": "text/html"
   },
   "source": [
    "<a  class=\"jupman-sol jupman-sol-toggler\" \n",
    " onclick=\"jupman.toggleSolution(this);\" \n",
    " data-jupman-show=\"Show solution\" data-jupman-hide=\"Hide\">Show solution</a><div class=\"jupman-sol jupman-sol-code\" style=\"display:none\">  "
   ]
  },
  {
   "cell_type": "code",
   "execution_count": 22,
   "metadata": {},
   "outputs": [],
   "source": [
    "s1 = set(['a','b','c','d','e'])\n",
    "s2 = set(['b','c','f','g'])\n",
    "s3 = set(['b','f'])\n",
    "\n",
    "# write here\n",
    "s4 = (s1 | s2) - s3\n",
    "#print(s4)"
   ]
  },
  {
   "cell_type": "raw",
   "id": "c6250f0d",
   "metadata": {
    "format": "text/html"
   },
   "source": [
    "</div>"
   ]
  },
  {
   "cell_type": "code",
   "execution_count": 22,
   "metadata": {},
   "outputs": [],
   "source": [
    "s1 = set(['a','b','c','d','e'])\n",
    "s2 = set(['b','c','f','g'])\n",
    "s3 = set(['b','f'])\n",
    "\n",
    "# write here\n",
    "\n"
   ]
  },
  {
   "cell_type": "markdown",
   "metadata": {},
   "source": [
    "### Intersection\n",
    "\n",
    "The intersection operator `&` produces a NEW set which contains all the common elements of the first and second set.\n",
    "\n",
    "![okoerioe](img/intersection.png)"
   ]
  },
  {
   "cell_type": "code",
   "execution_count": 23,
   "metadata": {},
   "outputs": [
    {
     "data": {
      "text/plain": [
       "{'b', 'c'}"
      ]
     },
     "execution_count": 23,
     "metadata": {},
     "output_type": "execute_result"
    }
   ],
   "source": [
    "{'a','b','c'} & {'b','c','d','e'}"
   ]
  },
  {
   "cell_type": "markdown",
   "metadata": {},
   "source": [
    "**QUESTION**: Look at the following expressions, and for each try guessing wthe result (or if it gives an error):\n",
    "\n",
    "\n",
    "1.  ```python\n",
    "    {0}&{0,1}\n",
    "    ```\n",
    "1.  ```python    \n",
    "    {0,1}&{0}\n",
    "    ```\n",
    "1.  ```python\n",
    "    set(\"capra\") & set(\"campa\")\n",
    "    ```\n",
    "1.  ```python\n",
    "    set(\"cba\") & set(\"dcb\")\n",
    "    ```\n",
    "1.  ```python    \n",
    "    {len([1,2,3]),4} & {len([5,6,7])}\n",
    "    ```\n",
    "1.  ```python    \n",
    "    {1,2}&{1,2}\n",
    "    ```\n",
    "1.  ```python    \n",
    "    {0,1}&{}\n",
    "    ```\n",
    "1.  ```python    \n",
    "    {0,1}&set()\n",
    "    ```\n",
    "1.  ```python    \n",
    "    set([1,2,3,4,5][::2]) & set([1,2,3,4,5][2::2])\n",
    "    ```\n",
    "1.  ```python        \n",
    "    {((),)}&{()}\n",
    "    ```\n",
    "1.  ```python        \n",
    "    {(())}&{()}\n",
    "    ```    "
   ]
  },
  {
   "cell_type": "markdown",
   "metadata": {},
   "source": [
    "### Difference\n",
    "\n",
    "The difference operator `-` produces a NEW set containing all the elements of the first set except the ones from the second:\n",
    "\n",
    "![3423dde](img/difference.png)"
   ]
  },
  {
   "cell_type": "code",
   "execution_count": 24,
   "metadata": {},
   "outputs": [
    {
     "data": {
      "text/plain": [
       "{'a', 'd'}"
      ]
     },
     "execution_count": 24,
     "metadata": {},
     "output_type": "execute_result"
    }
   ],
   "source": [
    "{'a','b','c','d'} - {'b','c','e','f','g'}"
   ]
  },
  {
   "cell_type": "markdown",
   "metadata": {},
   "source": [
    "**QUESTION**: Look at the following expressions, and for each try guessing the result  (or if it gives an error):\n",
    "\n",
    "\n",
    "    \n",
    "1.  ```python\n",
    "    {3,4,2}-2\n",
    "    ```\n",
    "1.  ```python    \n",
    "    {1,2,3}-{3,4}\n",
    "    ```\n",
    "1.  ```python        \n",
    "    '{\"a\"}-{\"a\"}'\n",
    "    ```\n",
    "1.  ```python    \n",
    "    {1,2,3}--{3,4}\n",
    "    ```\n",
    "1.  ```python    \n",
    "    {1,2,3}-(-{3,4})\n",
    "    ```    \n",
    "1.  ```python        \n",
    "    set(\"chiodo\") - set(\"chiave\")\n",
    "    ```\n",
    "1.  ```python        \n",
    "    set(\"prova\") - set(\"prova\".capitalize())\n",
    "    ```\n",
    "1.  ```python        \n",
    "    set(\"BarbA\") - set(\"BARBA\".lower())\n",
    "    ```\n",
    "1.  ```python        \n",
    "    set([(1,2),(3,4),(5,6)]) - set([(2,3),(4,5)])\n",
    "    ```\n",
    "1.  ```python        \n",
    "    set([(1,2),(3,4),(5,6)]) - set([(3,4),(5,6)])\n",
    "    ```\n",
    "1.  ```python            \n",
    "    {1,2,3} - set()\n",
    "    ```\n",
    "1.  ```python            \n",
    "    set() - {1,2,3}\n",
    "    ```"
   ]
  },
  {
   "cell_type": "markdown",
   "metadata": {},
   "source": [
    "**QUESTION**: Given two sets `x` and `y`, what does the following code produce? An error? Is it simplifiable?\n",
    "    \n",
    "```python\n",
    "(x & y) | (x-y)\n",
    "```"
   ]
  },
  {
   "cell_type": "raw",
   "id": "8382ec4a",
   "metadata": {
    "format": "text/html"
   },
   "source": [
    "<a  class=\"jupman-sol jupman-sol-toggler\" \n",
    " onclick=\"jupman.toggleSolution(this);\" \n",
    " data-jupman-show=\"Show answer\" data-jupman-hide=\"Hide\">Show answer</a><div class=\"jupman-sol jupman-sol-question\" style=\"display:none\">  "
   ]
  },
  {
   "cell_type": "markdown",
   "metadata": {},
   "source": [
    "**ANSWER**: We are merging the common elements between `x` and `y`, with the elements present in `x` but not in `y`. Thus, we are taking all the elements of `x`, so the expression can be greatly simplified by just writing:\n",
    "\n",
    "```python\n",
    "x\n",
    "```"
   ]
  },
  {
   "cell_type": "raw",
   "id": "bab22866",
   "metadata": {
    "format": "text/html"
   },
   "source": [
    "</div>"
   ]
  },
  {
   "cell_type": "markdown",
   "metadata": {},
   "source": [
    "### Symmetric difference"
   ]
  },
  {
   "cell_type": "markdown",
   "metadata": {},
   "source": [
    "The symmetric difference of two sets is their union except their intersection, that is all elements except the common ones:\n",
    "\n",
    "![kjdfslkj](img/symmetric-difference.png)\n",
    "\n",
    "In Python you can directly express it with the `^` operator:"
   ]
  },
  {
   "cell_type": "code",
   "execution_count": 25,
   "metadata": {},
   "outputs": [
    {
     "data": {
      "text/plain": [
       "{'a', 'd', 'e'}"
      ]
     },
     "execution_count": 25,
     "metadata": {},
     "output_type": "execute_result"
    }
   ],
   "source": [
    "{'a','b','c'} ^ {'b','c','d','e'}"
   ]
  },
  {
   "cell_type": "markdown",
   "metadata": {},
   "source": [
    "Let's check the result corresponds to the definition:"
   ]
  },
  {
   "cell_type": "code",
   "execution_count": 26,
   "metadata": {},
   "outputs": [
    {
     "data": {
      "text/plain": [
       "{'a', 'd', 'e'}"
      ]
     },
     "execution_count": 26,
     "metadata": {},
     "output_type": "execute_result"
    }
   ],
   "source": [
    "s1 = {'a','b','c'}\n",
    "s2 = {'b','c','d','e'}\n",
    "\n",
    "(s1 | s2) - (s1 & s2)"
   ]
  },
  {
   "cell_type": "markdown",
   "metadata": {},
   "source": [
    "**QUESTION**: Look at the following expressions, and for each try guessing the result (or if it gives an error):\n",
    "\n",
    "\n",
    "1.  ```python    \n",
    "    {'p','e','p','p','o'} ^ {'p','a','p','p','e'}\n",
    "    ```\n",
    "1.  ```python        \n",
    "    {'ab','cd'} ^ {'ba','dc'}\n",
    "    ```\n",
    "1.  ```python    \n",
    "    set('brodino') ^ set('bordo')\n",
    "    ```\n",
    "1.  ```python        \n",
    "    set((1,2,5,3,2,3,1)) ^ set((1,4,3,2))\n",
    "    ```"
   ]
  },
  {
   "cell_type": "markdown",
   "metadata": {},
   "source": [
    "**QUESTION**: given 3 sets `A`, `B`, `C`, what's the expression to obtain the azure part?\n",
    "    \n",
    "![sewqe](img/ex-abc-common.png)"
   ]
  },
  {
   "cell_type": "raw",
   "id": "285bb684",
   "metadata": {
    "format": "text/html"
   },
   "source": [
    "<a  class=\"jupman-sol jupman-sol-toggler\" \n",
    " onclick=\"jupman.toggleSolution(this);\" \n",
    " data-jupman-show=\"Show answer\" data-jupman-hide=\"Hide\">Show answer</a><div class=\"jupman-sol jupman-sol-question\" style=\"display:none\">  "
   ]
  },
  {
   "cell_type": "markdown",
   "metadata": {},
   "source": [
    "**ANSWER**: \n",
    "\n",
    "```python\n",
    "(A & B) | (A & C) | (B & C)\n",
    "```"
   ]
  },
  {
   "cell_type": "raw",
   "id": "d7244187",
   "metadata": {
    "format": "text/html"
   },
   "source": [
    "</div>"
   ]
  },
  {
   "cell_type": "markdown",
   "metadata": {},
   "source": [
    "**QUESTION**: If we use the following values in the previous exercise, what would the set which denotes the azure part contain?\n",
    "\n",
    "```python\n",
    "A = {'a','ab','ac','abc'}\n",
    "B = {'b','ab','bc','abc'}\n",
    "C = {'c','ac','bc','abc'}\n",
    "```\n",
    "\n",
    "Once you guessed the result, try executing the formula you obtained in the previous exercise with the provided values and compare the results with the solution."
   ]
  },
  {
   "cell_type": "raw",
   "id": "8727a3ad",
   "metadata": {
    "format": "text/html"
   },
   "source": [
    "<a  class=\"jupman-sol jupman-sol-toggler\" \n",
    " onclick=\"jupman.toggleSolution(this);\" \n",
    " data-jupman-show=\"Show answer\" data-jupman-hide=\"Hide\">Show answer</a><div class=\"jupman-sol jupman-sol-question\" style=\"display:none\">  "
   ]
  },
  {
   "cell_type": "markdown",
   "metadata": {},
   "source": [
    "**ANSWER**: If the formula is correct you should obtain:\n",
    "\n",
    "```python\n",
    "{'abc', 'ac', 'bc', 'ab'}\n",
    "```"
   ]
  },
  {
   "cell_type": "raw",
   "id": "abc39d90",
   "metadata": {
    "format": "text/html"
   },
   "source": [
    "</div>"
   ]
  },
  {
   "cell_type": "markdown",
   "metadata": {},
   "source": [
    "### Membership\n",
    "\n",
    "As for any sequence, when we want to check whether an element is contained in a set we can use the `in` operator which returns a boolean value: "
   ]
  },
  {
   "cell_type": "code",
   "execution_count": 27,
   "metadata": {},
   "outputs": [
    {
     "data": {
      "text/plain": [
       "True"
      ]
     },
     "execution_count": 27,
     "metadata": {},
     "output_type": "execute_result"
    }
   ],
   "source": [
    "'a' in {'m','e','n','t','a'}"
   ]
  },
  {
   "cell_type": "code",
   "execution_count": 28,
   "metadata": {},
   "outputs": [
    {
     "data": {
      "text/plain": [
       "False"
      ]
     },
     "execution_count": 28,
     "metadata": {},
     "output_type": "execute_result"
    }
   ],
   "source": [
    "'z' in {'m','e','n','t','a'}"
   ]
  },
  {
   "cell_type": "markdown",
   "metadata": {},
   "source": [
    "<div class=\"alert alert-warning\">\n",
    "\n",
    "`in` **IS VERY FAST WHEN USED WITH SETS**\n",
    "\n",
    "The speed of `in` operator DOES NOT depend on the set dimension\n",
    "</div>"
   ]
  },
  {
   "cell_type": "markdown",
   "metadata": {},
   "source": [
    "This is a substantial difference with respect to other sequences we've already seen: if you try searching for an element with `in` in strings, lists or tuples, and the element to find is toward the end (or there isn't at all), Python will have to look through the whole sequence."
   ]
  },
  {
   "cell_type": "markdown",
   "metadata": {},
   "source": [
    "#### not in\n",
    "\n",
    "To check whether something is **not** belonging to a sequence, we can use two forms:\n",
    "\n",
    "**not in - form 1**:"
   ]
  },
  {
   "cell_type": "code",
   "execution_count": 29,
   "metadata": {},
   "outputs": [
    {
     "data": {
      "text/plain": [
       "True"
      ]
     },
     "execution_count": 29,
     "metadata": {},
     "output_type": "execute_result"
    }
   ],
   "source": [
    "\"carrot\" not in {\"watermelon\",\"banana\",\"apple\"}"
   ]
  },
  {
   "cell_type": "code",
   "execution_count": 30,
   "metadata": {},
   "outputs": [
    {
     "data": {
      "text/plain": [
       "False"
      ]
     },
     "execution_count": 30,
     "metadata": {},
     "output_type": "execute_result"
    }
   ],
   "source": [
    "\"watermelon\" not in {\"watermelon\",\"banana\",\"apple\"}"
   ]
  },
  {
   "cell_type": "markdown",
   "metadata": {},
   "source": [
    "**not in - forma 2**"
   ]
  },
  {
   "cell_type": "code",
   "execution_count": 31,
   "metadata": {},
   "outputs": [
    {
     "data": {
      "text/plain": [
       "True"
      ]
     },
     "execution_count": 31,
     "metadata": {},
     "output_type": "execute_result"
    }
   ],
   "source": [
    "not \"carrot\" in {\"watermelon\",\"banana\",\"apple\"}"
   ]
  },
  {
   "cell_type": "code",
   "execution_count": 32,
   "metadata": {},
   "outputs": [
    {
     "data": {
      "text/plain": [
       "False"
      ]
     },
     "execution_count": 32,
     "metadata": {},
     "output_type": "execute_result"
    }
   ],
   "source": [
    "not \"watermelon\" in {\"watermelon\",\"banana\",\"apple\"}"
   ]
  },
  {
   "cell_type": "markdown",
   "metadata": {},
   "source": [
    "**QUESTION**: Look at the following expressions, and for each try guessing the result (or if it gives an error):\n",
    "\n",
    "\n",
    "1.  ```python\n",
    "    2*10 in {10,20,30,40}\n",
    "    ```\n",
    "1.  ```python    \n",
    "    'four' in {'f','o','u','r'}\n",
    "    ```\n",
    "1.  ```python    \n",
    "    'aa' in set('aa')\n",
    "    ```\n",
    "1.  ```python    \n",
    "    'a' in set(['a','a'])\n",
    "    ```\n",
    "1.  ```python    \n",
    "    'c' in (set('parco') - set('cassa'))\n",
    "    ```\n",
    "1.  ```python    \n",
    "    'cc' in (set('pacca') & set('zucca'))\n",
    "    ```\n",
    "1.  ```python    \n",
    "    [3 in {3,4}, 6 in {3,4} ]\n",
    "    ```\n",
    "1.  ```python    \n",
    "    4 in set([1,2,3]*4)\n",
    "    ```\n",
    "1.  ```python    \n",
    "    2 in {len('3.4'.split('.'))}\n",
    "    ```\n",
    "1.  ```python    \n",
    "    4 not in {1,2,3}\n",
    "    ```\n",
    "1.  ```python    \n",
    "    '3' not in {1,2,3}\n",
    "    ```\n",
    "1.  ```python    \n",
    "    not 'a' in {'b','c'}\n",
    "    ```\n",
    "1.  ```python    \n",
    "    not {} in set([])\n",
    "    ```\n",
    "1.  ```python    \n",
    "    {not 'a' in {'a'}}\n",
    "    ```\n",
    "1.  ```python    \n",
    "    4 not in set((4,))\n",
    "    ```\n",
    "1.  ```python    \n",
    "    () not in set([()])\n",
    "    ```\n",
    "\n",
    "    \n"
   ]
  },
  {
   "cell_type": "markdown",
   "metadata": {},
   "source": [
    "**QUESTION**: the following expressions are similar. What do they have in common? What is the difference with the last one (beyond the fact it is a set)?\n",
    "\n",
    "\n",
    "1.  ```python    \n",
    "    'e' in 'abcde'\n",
    "    ```    \n",
    "2.  ```python    \n",
    "    'abcde'.find('e') >= 0\n",
    "    ```\n",
    "3.  ```python\n",
    "    'abcde'.count('e') > 0\n",
    "    ```\n",
    "4.  ```python\n",
    "    'e' in ['a','b','c','d','e']\n",
    "    ```\n",
    "5.  ```python\n",
    "    ['a','b','c','d','e'].count('e') > 0\n",
    "    ```\n",
    "6.  ```python\n",
    "    'e' in ('a','b','c','d','e')\n",
    "    ```\n",
    "7.  ```python\n",
    "    ('a','b','c','d','e').count('e') > 0\n",
    "    ```\n",
    "8. ```python    \n",
    "    'e' in {'a','b','c','d','e'}\n",
    "    ```"
   ]
  },
  {
   "cell_type": "raw",
   "id": "ccc68dbc",
   "metadata": {
    "format": "text/html"
   },
   "source": [
    "<a  class=\"jupman-sol jupman-sol-toggler\" \n",
    " onclick=\"jupman.toggleSolution(this);\" \n",
    " data-jupman-show=\"Show answer\" data-jupman-hide=\"Hide\">Show answer</a><div class=\"jupman-sol jupman-sol-question\" style=\"display:none\">  "
   ]
  },
  {
   "cell_type": "markdown",
   "metadata": {},
   "source": [
    "**ANSWER**: All the expressions reported above return a boolean which is `True` if the element `'e'` is present in the sequence.\n",
    "\n",
    "All the operations of search and/counting (`in`, `find`, `index`, `count`) on strings, lists and tuples take a search time which in the worst case like here can be equal to the sequence dimension (`'e'` is at the end).\n",
    "\n",
    "On the other hand, since sets (expression 8.) are based on _hashes,_ they allow an immediate search, independently from the set dimension or the elements position (so creating the set with `e` at the end makes no difference).\n",
    "\n",
    "\n",
    "<div class=\"alert alert-info\">\n",
    "\n",
    "**To make performant searches it's preferable to use hash based collections, like sets or dictionaries !**    \n",
    "</div>"
   ]
  },
  {
   "cell_type": "raw",
   "id": "06446290",
   "metadata": {
    "format": "text/html"
   },
   "source": [
    "</div>"
   ]
  },
  {
   "cell_type": "markdown",
   "metadata": {},
   "source": [
    "## Equality\n",
    "\n",
    "We can check whether two sets are equal by using the equality operator `==`, which given two sets return `True` if they contain the same elements or `False` otherwise:"
   ]
  },
  {
   "cell_type": "code",
   "execution_count": 33,
   "metadata": {},
   "outputs": [
    {
     "data": {
      "text/plain": [
       "True"
      ]
     },
     "execution_count": 33,
     "metadata": {},
     "output_type": "execute_result"
    }
   ],
   "source": [
    "{4,3,6} == {4,3,6}"
   ]
  },
  {
   "cell_type": "code",
   "execution_count": 34,
   "metadata": {},
   "outputs": [
    {
     "data": {
      "text/plain": [
       "False"
      ]
     },
     "execution_count": 34,
     "metadata": {},
     "output_type": "execute_result"
    }
   ],
   "source": [
    "{4,3,6} == {4,3}"
   ]
  },
  {
   "cell_type": "code",
   "execution_count": 35,
   "metadata": {},
   "outputs": [
    {
     "data": {
      "text/plain": [
       "False"
      ]
     },
     "execution_count": 35,
     "metadata": {},
     "output_type": "execute_result"
    }
   ],
   "source": [
    "{4,3,6} == {4,3,6, 'hello'}"
   ]
  },
  {
   "cell_type": "markdown",
   "metadata": {},
   "source": [
    "Careful about removal of duplicates !"
   ]
  },
  {
   "cell_type": "code",
   "execution_count": 36,
   "metadata": {},
   "outputs": [
    {
     "data": {
      "text/plain": [
       "True"
      ]
     },
     "execution_count": 36,
     "metadata": {},
     "output_type": "execute_result"
    }
   ],
   "source": [
    "{2,8} == {2,2,8}"
   ]
  },
  {
   "cell_type": "markdown",
   "metadata": {},
   "source": [
    "To verify the inequality, we can use the `!=` operator:"
   ]
  },
  {
   "cell_type": "code",
   "execution_count": 37,
   "metadata": {},
   "outputs": [
    {
     "data": {
      "text/plain": [
       "False"
      ]
     },
     "execution_count": 37,
     "metadata": {},
     "output_type": "execute_result"
    }
   ],
   "source": [
    "{2,5} != {2,5}"
   ]
  },
  {
   "cell_type": "code",
   "execution_count": 38,
   "metadata": {},
   "outputs": [
    {
     "data": {
      "text/plain": [
       "True"
      ]
     },
     "execution_count": 38,
     "metadata": {},
     "output_type": "execute_result"
    }
   ],
   "source": [
    "{4,6,0} != {2,8}"
   ]
  },
  {
   "cell_type": "code",
   "execution_count": 39,
   "metadata": {
    "scrolled": true
   },
   "outputs": [
    {
     "data": {
      "text/plain": [
       "True"
      ]
     },
     "execution_count": 39,
     "metadata": {},
     "output_type": "execute_result"
    }
   ],
   "source": [
    "{4,6,0} != {4,6,0,2}"
   ]
  },
  {
   "cell_type": "markdown",
   "metadata": {},
   "source": [
    "Beware of duplicates and order!"
   ]
  },
  {
   "cell_type": "code",
   "execution_count": 40,
   "metadata": {},
   "outputs": [
    {
     "data": {
      "text/plain": [
       "False"
      ]
     },
     "execution_count": 40,
     "metadata": {},
     "output_type": "execute_result"
    }
   ],
   "source": [
    "{0,1} != {1,0,0,0,0,0,0,0}"
   ]
  },
  {
   "cell_type": "markdown",
   "metadata": {},
   "source": [
    "**QUESTION**: Look at the following expressions, and for each try guessing the result (or if it gives an error):"
   ]
  },
  {
   "cell_type": "markdown",
   "metadata": {},
   "source": [
    "1.  ```python\n",
    "    {2 == 2, 3 == 3}\n",
    "    ```\n",
    "1.  ```python    \n",
    "    {1,2,3,2,1} == {1,1,2,2,3,3}\n",
    "    ```\n",
    "1.  ```python\n",
    "    {'aa'} == {'a'}\n",
    "    ```\n",
    "1.  ```python    \n",
    "    set('aa') == {'a'}\n",
    "    ```\n",
    "1.  ```python    \n",
    "    [{1,2,3}] == {[1,2,3]}\n",
    "    ```\n",
    "1.  ```python    \n",
    "    set({1,2,3}) == {1,2,3}\n",
    "    ```\n",
    "1.  ```python    \n",
    "    set((1,2,3)) == {(1,2,3)}\n",
    "    ```\n",
    "1.  ```python    \n",
    "    {'aa'} != {'a', 'aa'}\n",
    "    ```\n",
    "1.  ```python    \n",
    "    {set() != set()}\n",
    "    ```\n",
    "1.  ```python    \n",
    "    set('scarpa') == set('capras')\n",
    "    ```\n",
    "1.  ```python    \n",
    "    set('papa') != set('pappa')\n",
    "    ```\n",
    "1.  ```python    \n",
    "    set('pappa') != set('reale')\n",
    "    ```\n",
    "1.  ```python    \n",
    "    {(),()} == {(())}\n",
    "    ```\n",
    "1.  ```python    \n",
    "    {(),()} != {(()), (())}\n",
    "    ```\n",
    "1.  ```python    \n",
    "    [set()] == [set(),set()]\n",
    "    ```\n",
    "1.  ```python    \n",
    "    (set('gosh') | set('posh')) == (set('shopping') - set('in'))\n",
    "    ```"
   ]
  },
  {
   "cell_type": "markdown",
   "metadata": {},
   "source": [
    "## Methods like operators\n",
    "\n",
    "There are methods which behave like the operators`|`, `&`, `-`, `^` by creating a **NEW** set.\n",
    "\n",
    "**NOTE**: differently from operators, these methods accept as parameter _any_ sequence, not just sets:\n",
    "\n",
    "|Method| Result | Description|Related operator|\n",
    "|---------|-----------|-------------|------|\n",
    "|`set.union(seq)`|`set`|union, creas a NEW set |<code>&#124;</code>|\n",
    "|`set.intersection(seq)`| `set`| intersection, creates a NEW set|`&`|\n",
    "|`set.difference(seq)`| `set` | difference, creates a NEW set|`-`|\n",
    "|`set.symmetric_difference(seq)`| `set` | symmetric difference, creates a NEW set|`^`|"
   ]
  },
  {
   "cell_type": "markdown",
   "metadata": {},
   "source": [
    "Methods which **MODIFY** the first set on which they are called (and return `None`!):\n",
    "\n",
    "|Method| Result | Description |\n",
    "|---------|-----------|-------------|\n",
    "|`setA.update(setB)`|`None`| union, MODIFIES `setA`|\n",
    "|`setA.intersection_update(setB)` |`None` |intersection, MODIFIES `setA`|\n",
    "|`setA.difference_update(setB)`| `None` | difference, MODIFIES `setA`|\n",
    "|`setA.symmetric_difference_update(setB)`| `None` | symmetric difference, MODIFIES `setA`|"
   ]
  },
  {
   "cell_type": "markdown",
   "metadata": {},
   "source": [
    "### union\n",
    "\n",
    "We'll only have a look  at `union`/`update`, all other methods behave similarly\n",
    "\n",
    "With `union`, given a set and a generic sequence (so not necessarily a set) we can create a NEW set:"
   ]
  },
  {
   "cell_type": "code",
   "execution_count": 41,
   "metadata": {},
   "outputs": [],
   "source": [
    "sa = {'g','a','r','a'}"
   ]
  },
  {
   "cell_type": "code",
   "execution_count": 42,
   "metadata": {},
   "outputs": [],
   "source": [
    "la = ['a','g','r','a','r','i','o']"
   ]
  },
  {
   "cell_type": "code",
   "execution_count": 43,
   "metadata": {},
   "outputs": [],
   "source": [
    "sb = sa.union(la)"
   ]
  },
  {
   "cell_type": "code",
   "execution_count": 44,
   "metadata": {},
   "outputs": [
    {
     "data": {
      "text/plain": [
       "{'a', 'g', 'i', 'o', 'r'}"
      ]
     },
     "execution_count": 44,
     "metadata": {},
     "output_type": "execute_result"
    }
   ],
   "source": [
    "sb"
   ]
  },
  {
   "cell_type": "markdown",
   "metadata": {},
   "source": [
    "**EXERCISE**: with `union` we can use any sequence, but that's not the case with operators. Try writing `{1,2,3} | [2,3,4]` and see what happens."
   ]
  },
  {
   "cell_type": "code",
   "execution_count": 45,
   "metadata": {},
   "outputs": [],
   "source": [
    "# write here\n"
   ]
  },
  {
   "cell_type": "markdown",
   "metadata": {},
   "source": [
    "We can verify `union` creates a new set with Python Tutor:"
   ]
  },
  {
   "cell_type": "code",
   "execution_count": 46,
   "metadata": {},
   "outputs": [
    {
     "data": {
      "text/html": [
       "\n",
       "        <script src=\"../_static/js/pytutor-embed.bundle.min.js\" type=\"application/javascript\"></script>\n",
       "     \n",
       "        <script id=\"json-jm694269f3-bd64-4279-8aef-0ab92b92e74d\" type=\"application/json\" >\n",
       "            {\"code\": \" \\nsa = {'g','a','r','a'}\\nla = ['a','g','r','a','r','i','o']\\nsb = sa.union(la)\", \"trace\": [{\"line\": 2, \"event\": \"step_line\", \"func_name\": \"<module>\", \"globals\": {}, \"ordered_globals\": [], \"stack_to_render\": [], \"heap\": {}, \"stdout\": \"\"}, {\"line\": 3, \"event\": \"step_line\", \"func_name\": \"<module>\", \"globals\": {\"sa\": [\"REF\", 1]}, \"ordered_globals\": [\"sa\"], \"stack_to_render\": [], \"heap\": {\"1\": [\"SET\", \"g\", \"r\", \"a\"]}, \"stdout\": \"\"}, {\"line\": 4, \"event\": \"step_line\", \"func_name\": \"<module>\", \"globals\": {\"sa\": [\"REF\", 1], \"la\": [\"REF\", 2]}, \"ordered_globals\": [\"sa\", \"la\"], \"stack_to_render\": [], \"heap\": {\"1\": [\"SET\", \"g\", \"r\", \"a\"], \"2\": [\"LIST\", \"a\", \"g\", \"r\", \"a\", \"r\", \"i\", \"o\"]}, \"stdout\": \"\"}, {\"line\": 4, \"event\": \"return\", \"func_name\": \"<module>\", \"globals\": {\"sa\": [\"REF\", 1], \"la\": [\"REF\", 2], \"sb\": [\"REF\", 3]}, \"ordered_globals\": [\"sa\", \"la\", \"sb\"], \"stack_to_render\": [], \"heap\": {\"1\": [\"SET\", \"g\", \"r\", \"a\"], \"2\": [\"LIST\", \"a\", \"g\", \"r\", \"a\", \"r\", \"i\", \"o\"], \"3\": [\"SET\", \"a\", \"g\", \"i\", \"r\", \"o\"]}, \"stdout\": \"\"}]}\n",
       "        </script>\n",
       "        <div id=\"jm694269f3-bd64-4279-8aef-0ab92b92e74d\" class=\"pytutorVisualizer\"> </div>\n",
       " \n",
       "        <style>\n",
       "        .vizLayoutTd {\n",
       "            background-color: #fff !important;\n",
       "        }\n",
       "\n",
       "        #pyStdout {            \n",
       "            min-height:25px;\n",
       "        }\n",
       "\n",
       "        /* 'Edit this code' link, hiding because replaces browser tab !!!*/\n",
       "        #editCodeLinkDiv {\n",
       "            display:none;  \n",
       "        }\n",
       "        </style>   \n",
       "                            \n",
       "        <script>\n",
       "        (function(){\n",
       "\n",
       "            var trace = JSON.parse(document.getElementById('json-jm694269f3-bd64-4279-8aef-0ab92b92e74d').innerHTML);                                        \n",
       "            // NOTE 1: id without #\n",
       "            // NOTE 2 - maybe there are more predictable ways, but this will work anyway\n",
       "            //        - id should be number\n",
       "            visualizerIdOverride = Math.trunc(Math.random() * 100000000000)\n",
       "            addVisualizerToPage(trace, 'jm694269f3-bd64-4279-8aef-0ab92b92e74d',{'embeddedMode' : false,\n",
       "                                             'visualizerIdOverride':visualizerIdOverride})  \n",
       "            \n",
       "            \n",
       "            // set overflow for pytuts - need to do in python as css \n",
       "            // does not allow parent selection\n",
       "            var pytuts = $('.pytutorVisualizer')\n",
       "            pytuts.closest('div.output_html.rendered_html.output_result')\n",
       "                    .css('overflow-x', 'visible')\n",
       "        \n",
       "            //pytuts.closest('div.output_html.rendered_html.output_result')\n",
       "            //      .css('background-color','red')                \n",
       "            \n",
       "        })()\n",
       "        </script>\n",
       "                \n",
       "                "
      ],
      "text/plain": [
       "<IPython.core.display.HTML object>"
      ]
     },
     "execution_count": 46,
     "metadata": {},
     "output_type": "execute_result"
    }
   ],
   "source": [
    "sa = {'g','a','r','a'}\n",
    "la = ['a','g','r','a','r','i','o']\n",
    "sb = sa.union(la)\n",
    "\n",
    "jupman.pytut()"
   ]
  },
  {
   "cell_type": "markdown",
   "metadata": {},
   "source": [
    "### update\n",
    "\n",
    "If we want to MODIFY the first set instead, we can use the methods ending with `update`:"
   ]
  },
  {
   "cell_type": "code",
   "execution_count": 47,
   "metadata": {},
   "outputs": [],
   "source": [
    "sa = {'g','a','r','a'}"
   ]
  },
  {
   "cell_type": "code",
   "execution_count": 48,
   "metadata": {},
   "outputs": [],
   "source": [
    "la = ['a','g','r','a','r','i','o']"
   ]
  },
  {
   "cell_type": "code",
   "execution_count": 49,
   "metadata": {},
   "outputs": [],
   "source": [
    "sa.update(la)"
   ]
  },
  {
   "cell_type": "code",
   "execution_count": 50,
   "metadata": {},
   "outputs": [
    {
     "name": "stdout",
     "output_type": "stream",
     "text": [
      "{'a', 'g', 'i', 'r', 'o'}\n"
     ]
    }
   ],
   "source": [
    "print(sa)"
   ]
  },
  {
   "cell_type": "markdown",
   "metadata": {},
   "source": [
    "**QUESTION**: what did the call to `update` return?"
   ]
  },
  {
   "cell_type": "raw",
   "id": "c071a633",
   "metadata": {
    "format": "text/html"
   },
   "source": [
    "<a  class=\"jupman-sol jupman-sol-toggler\" \n",
    " onclick=\"jupman.toggleSolution(this);\" \n",
    " data-jupman-show=\"Show answer\" data-jupman-hide=\"Hide\">Show answer</a><div class=\"jupman-sol jupman-sol-question\" style=\"display:none\">  "
   ]
  },
  {
   "cell_type": "markdown",
   "metadata": {},
   "source": [
    "**ANSWER**: since Jupyter didn't show anything, it means the call to `update` method implicitly returned the `None` object."
   ]
  },
  {
   "cell_type": "raw",
   "id": "26a21ff4",
   "metadata": {
    "format": "text/html"
   },
   "source": [
    "</div>"
   ]
  },
  {
   "cell_type": "markdown",
   "metadata": {},
   "source": [
    "Let's look what at happened with Python Tutor - we also added a `x =` to put in evidence what was returned by calling `.update`:"
   ]
  },
  {
   "cell_type": "code",
   "execution_count": 51,
   "metadata": {
    "scrolled": false
   },
   "outputs": [
    {
     "name": "stdout",
     "output_type": "stream",
     "text": [
      "{'a', 'g', 'i', 'r', 'o'}\n",
      "None\n"
     ]
    },
    {
     "data": {
      "text/html": [
       "\n",
       "        <script src=\"../_static/js/pytutor-embed.bundle.min.js\" type=\"application/javascript\"></script>\n",
       "     \n",
       "        <script id=\"json-jm52a761d0-68d7-42c5-b2f3-d9ca567434a0\" type=\"application/json\" >\n",
       "            {\"code\": \" \\nsa = {'g','a','r','a'}\\nla = ['a','g','r','a','r','i','o']\\nx = sa.update(la)\\nprint(sa)\\nprint(x)\", \"trace\": [{\"line\": 2, \"event\": \"step_line\", \"func_name\": \"<module>\", \"globals\": {}, \"ordered_globals\": [], \"stack_to_render\": [], \"heap\": {}, \"stdout\": \"\"}, {\"line\": 3, \"event\": \"step_line\", \"func_name\": \"<module>\", \"globals\": {\"sa\": [\"REF\", 1]}, \"ordered_globals\": [\"sa\"], \"stack_to_render\": [], \"heap\": {\"1\": [\"SET\", \"g\", \"r\", \"a\"]}, \"stdout\": \"\"}, {\"line\": 4, \"event\": \"step_line\", \"func_name\": \"<module>\", \"globals\": {\"sa\": [\"REF\", 1], \"la\": [\"REF\", 2]}, \"ordered_globals\": [\"sa\", \"la\"], \"stack_to_render\": [], \"heap\": {\"1\": [\"SET\", \"g\", \"r\", \"a\"], \"2\": [\"LIST\", \"a\", \"g\", \"r\", \"a\", \"r\", \"i\", \"o\"]}, \"stdout\": \"\"}, {\"line\": 5, \"event\": \"step_line\", \"func_name\": \"<module>\", \"globals\": {\"sa\": [\"REF\", 1], \"la\": [\"REF\", 2], \"x\": null}, \"ordered_globals\": [\"sa\", \"la\", \"x\"], \"stack_to_render\": [], \"heap\": {\"1\": [\"SET\", \"a\", \"g\", \"i\", \"r\", \"o\"], \"2\": [\"LIST\", \"a\", \"g\", \"r\", \"a\", \"r\", \"i\", \"o\"]}, \"stdout\": \"\"}, {\"line\": 6, \"event\": \"step_line\", \"func_name\": \"<module>\", \"globals\": {\"sa\": [\"REF\", 1], \"la\": [\"REF\", 2], \"x\": null}, \"ordered_globals\": [\"sa\", \"la\", \"x\"], \"stack_to_render\": [], \"heap\": {\"1\": [\"SET\", \"a\", \"g\", \"i\", \"r\", \"o\"], \"2\": [\"LIST\", \"a\", \"g\", \"r\", \"a\", \"r\", \"i\", \"o\"]}, \"stdout\": \"{'a', 'g', 'i', 'r', 'o'}\\n\"}, {\"line\": 6, \"event\": \"return\", \"func_name\": \"<module>\", \"globals\": {\"sa\": [\"REF\", 1], \"la\": [\"REF\", 2], \"x\": null}, \"ordered_globals\": [\"sa\", \"la\", \"x\"], \"stack_to_render\": [], \"heap\": {\"1\": [\"SET\", \"a\", \"g\", \"i\", \"r\", \"o\"], \"2\": [\"LIST\", \"a\", \"g\", \"r\", \"a\", \"r\", \"i\", \"o\"]}, \"stdout\": \"{'a', 'g', 'i', 'r', 'o'}\\nNone\\n\"}]}\n",
       "        </script>\n",
       "        <div id=\"jm52a761d0-68d7-42c5-b2f3-d9ca567434a0\" class=\"pytutorVisualizer\"> </div>\n",
       " \n",
       "        <style>\n",
       "        .vizLayoutTd {\n",
       "            background-color: #fff !important;\n",
       "        }\n",
       "\n",
       "        #pyStdout {            \n",
       "            min-height:25px;\n",
       "        }\n",
       "\n",
       "        /* 'Edit this code' link, hiding because replaces browser tab !!!*/\n",
       "        #editCodeLinkDiv {\n",
       "            display:none;  \n",
       "        }\n",
       "        </style>   \n",
       "                            \n",
       "        <script>\n",
       "        (function(){\n",
       "\n",
       "            var trace = JSON.parse(document.getElementById('json-jm52a761d0-68d7-42c5-b2f3-d9ca567434a0').innerHTML);                                        \n",
       "            // NOTE 1: id without #\n",
       "            // NOTE 2 - maybe there are more predictable ways, but this will work anyway\n",
       "            //        - id should be number\n",
       "            visualizerIdOverride = Math.trunc(Math.random() * 100000000000)\n",
       "            addVisualizerToPage(trace, 'jm52a761d0-68d7-42c5-b2f3-d9ca567434a0',{'embeddedMode' : false,\n",
       "                                             'visualizerIdOverride':visualizerIdOverride})  \n",
       "            \n",
       "            \n",
       "            // set overflow for pytuts - need to do in python as css \n",
       "            // does not allow parent selection\n",
       "            var pytuts = $('.pytutorVisualizer')\n",
       "            pytuts.closest('div.output_html.rendered_html.output_result')\n",
       "                    .css('overflow-x', 'visible')\n",
       "        \n",
       "            //pytuts.closest('div.output_html.rendered_html.output_result')\n",
       "            //      .css('background-color','red')                \n",
       "            \n",
       "        })()\n",
       "        </script>\n",
       "                \n",
       "                "
      ],
      "text/plain": [
       "<IPython.core.display.HTML object>"
      ]
     },
     "execution_count": 51,
     "metadata": {},
     "output_type": "execute_result"
    }
   ],
   "source": [
    "sa = {'g','a','r','a'}\n",
    "la = ['a','g','r','a','r','i','o']\n",
    "x = sa.update(la)\n",
    "print(sa)\n",
    "print(x)\n",
    "\n",
    "jupman.pytut()"
   ]
  },
  {
   "cell_type": "markdown",
   "metadata": {},
   "source": [
    "**QUESTION**: Look at the following expressions, and for each try guessing the result (or if it gives an error):\n",
    "\n",
    "\n",
    "1.  ```python\n",
    "    set('case').intersection('sebo') == 'se'\n",
    "    ```\n",
    "1.  ```python\n",
    "    set('naso').difference('caso')\n",
    "    ```\n",
    "1.  ```python\n",
    "    s = {1,2,3}\n",
    "    s.intersection_update([2,3,4])\n",
    "    print(s)\n",
    "    ```\n",
    "1.  ```python\n",
    "    s = {1,2,3}\n",
    "    s = s & [2,3,4]\n",
    "    ```\n",
    "1.  ```python\n",
    "    s = set('cartone')\n",
    "    s = s.intersection('parto')\n",
    "    print(s)\n",
    "    ```\n",
    "1.  ```python\n",
    "    sa = set(\"mastice\")\n",
    "    sb = sa.difference(\"mastro\").difference(\"collo\")\n",
    "    print(sa)\n",
    "    print(sb)\n",
    "    ```\n",
    "1.  ```python\n",
    "    sa = set(\"mastice\")\n",
    "    sb = sa.difference_update(\"mastro\").difference_update(\"collo\")\n",
    "    print(sa)\n",
    "    print(sb)\n",
    "    ```    "
   ]
  },
  {
   "cell_type": "code",
   "execution_count": null,
   "metadata": {},
   "outputs": [],
   "source": []
  },
  {
   "cell_type": "markdown",
   "metadata": {},
   "source": [
    "### Exercise - everythingbut 2\n",
    "\n",
    "Given sets `s1`, `s2` e `s3`, write some code which MODIFIES `s1` so that it also contains the elements of `s2` but not the elements of `s3`:\n",
    "\n",
    "* Your code should work with _any_ set `s1`, `s2`, `s3`\n",
    "* **DO NOT** create new sets\n",
    "\n",
    "Example - given:\n",
    "\n",
    "```python\n",
    "s1 = set(['a','b','c','d','e'])\n",
    "s2 = set(['b','c','f','g'])\n",
    "s3 = set(['b','f'])\n",
    "```\n",
    "After your code you should obtain:\n",
    "\n",
    "\n",
    "```python\n",
    ">>> print(s1)\n",
    "{'a', 'g', 'e', 'd', 'c'}\n",
    "```"
   ]
  },
  {
   "cell_type": "raw",
   "id": "6cf034e9",
   "metadata": {
    "format": "text/html"
   },
   "source": [
    "<a  class=\"jupman-sol jupman-sol-toggler\" \n",
    " onclick=\"jupman.toggleSolution(this);\" \n",
    " data-jupman-show=\"Show solution\" data-jupman-hide=\"Hide\">Show solution</a><div class=\"jupman-sol jupman-sol-code\" style=\"display:none\">  "
   ]
  },
  {
   "cell_type": "code",
   "execution_count": 52,
   "metadata": {},
   "outputs": [
    {
     "name": "stdout",
     "output_type": "stream",
     "text": [
      "{'d', 'a', 'g', 'c', 'e'}\n"
     ]
    }
   ],
   "source": [
    "s1 = set(['a','b','c','d','e'])\n",
    "s2 = set(['b','c','f','g'])\n",
    "s3 = set(['b','f'])\n",
    "\n",
    "# write here\n",
    "s1.update(s2)\n",
    "s1.difference_update(s3)\n",
    "print(s1)"
   ]
  },
  {
   "cell_type": "raw",
   "id": "439714e6",
   "metadata": {
    "format": "text/html"
   },
   "source": [
    "</div>"
   ]
  },
  {
   "cell_type": "code",
   "execution_count": 52,
   "metadata": {},
   "outputs": [
    {
     "name": "stdout",
     "output_type": "stream",
     "text": [
      "{'d', 'a', 'g', 'c', 'e'}\n"
     ]
    }
   ],
   "source": [
    "s1 = set(['a','b','c','d','e'])\n",
    "s2 = set(['b','c','f','g'])\n",
    "s3 = set(['b','f'])\n",
    "\n",
    "# write here\n",
    "\n"
   ]
  },
  {
   "cell_type": "markdown",
   "metadata": {},
   "source": [
    "## Other methods\n",
    "\n",
    "|Method| Result | Description |\n",
    "|---------|-----------|-------------|\n",
    "|[set.add(el)](#add-method)| `None`| adds the specified element - if already present does nothing|\n",
    "|[set.remove(el)](#remove-method)|`None`|removes the specified element - if not present raises an error|\n",
    "|[set.discard(el)](#discard-method)|`None`|removes the specified element - if not present does nothing|\n",
    "|`set.pop()`|obj|removes an arbitrary element from the set and returns it|\n",
    "|`set.clear()`|`None`|removes all the elements|\n",
    "[setA.issubset(setB)](#issubset-method)|`bool`|checks whether `setA` is a subset of `setB`|\n",
    "|[setA.issuperset(setB)](#issuperset-method)|`bool`|checks whether `setA` contains all the elements of `setB`|\n",
    "|[setA.isdisjoint(setB)](#)|`bool`|checks whether `setA` has no element in common with `setB`|"
   ]
  },
  {
   "cell_type": "markdown",
   "metadata": {},
   "source": [
    "### `add` method\n",
    "\n",
    "Given a set, we can add an element with the method `.add`:"
   ]
  },
  {
   "cell_type": "code",
   "execution_count": 53,
   "metadata": {},
   "outputs": [],
   "source": [
    "s = {3,7,4}"
   ]
  },
  {
   "cell_type": "code",
   "execution_count": 54,
   "metadata": {},
   "outputs": [],
   "source": [
    "s.add(5)"
   ]
  },
  {
   "cell_type": "code",
   "execution_count": 55,
   "metadata": {},
   "outputs": [
    {
     "data": {
      "text/plain": [
       "{3, 4, 5, 7}"
      ]
     },
     "execution_count": 55,
     "metadata": {},
     "output_type": "execute_result"
    }
   ],
   "source": [
    "s"
   ]
  },
  {
   "cell_type": "markdown",
   "metadata": {},
   "source": [
    "If we add the same element twice, nothing happens:"
   ]
  },
  {
   "cell_type": "code",
   "execution_count": 56,
   "metadata": {},
   "outputs": [],
   "source": [
    "s.add(5)"
   ]
  },
  {
   "cell_type": "code",
   "execution_count": 57,
   "metadata": {},
   "outputs": [
    {
     "data": {
      "text/plain": [
       "{3, 4, 5, 7}"
      ]
     },
     "execution_count": 57,
     "metadata": {},
     "output_type": "execute_result"
    }
   ],
   "source": [
    "s"
   ]
  },
  {
   "cell_type": "markdown",
   "metadata": {},
   "source": [
    "**QUESTION**: If we write this code, which result do we get?\n",
    "\n",
    "```python\n",
    "s = {'a','b'}\n",
    "s.add({'c','d','e'})\n",
    "print(s)\n",
    "```\n",
    "\n",
    "1. prints `{'a','b','c','d','e'}`\n",
    "2. prints `{{'a','b','c','d','e'}}`\n",
    "3. prints `{'a','b',{'c','d','e'}}`\n",
    "4. an error (which one?)"
   ]
  },
  {
   "cell_type": "raw",
   "id": "0fcc63fb",
   "metadata": {
    "format": "text/html"
   },
   "source": [
    "<a  class=\"jupman-sol jupman-sol-toggler\" \n",
    " onclick=\"jupman.toggleSolution(this);\" \n",
    " data-jupman-show=\"Show answer\" data-jupman-hide=\"Hide\">Show answer</a><div class=\"jupman-sol jupman-sol-question\" style=\"display:none\">  "
   ]
  },
  {
   "cell_type": "markdown",
   "metadata": {},
   "source": [
    "**ANSWER**: 4 - produces `TypeError: unhashable type: 'set'` : we are trying to insert a set as element of another set, but sets are _mutable_  so their _hash_ label (which allows Python to find them quickly) might vary over time."
   ]
  },
  {
   "cell_type": "raw",
   "id": "7190c7fc",
   "metadata": {
    "format": "text/html"
   },
   "source": [
    "</div>"
   ]
  },
  {
   "cell_type": "markdown",
   "metadata": {},
   "source": [
    "**QUESTION**: Look at the following code, which result does it produce?\n",
    "\n",
    "```python\n",
    "x = {'a','b'}\n",
    "y = set(x)\n",
    "x.add('c')\n",
    "print('x=',x)\n",
    "print('y=',y)\n",
    "```\n",
    "\n",
    "1. an error (which one?)\n",
    "2. `x` and `y` will be the same (how?)\n",
    "3. `x` and `y` will be different (how?)"
   ]
  },
  {
   "cell_type": "raw",
   "id": "77085ad4",
   "metadata": {
    "format": "text/html"
   },
   "source": [
    "<a  class=\"jupman-sol jupman-sol-toggler\" \n",
    " onclick=\"jupman.toggleSolution(this);\" \n",
    " data-jupman-show=\"Show answer\" data-jupman-hide=\"Hide\">Show answer</a><div class=\"jupman-sol jupman-sol-question\" style=\"display:none\">  "
   ]
  },
  {
   "cell_type": "markdown",
   "metadata": {},
   "source": [
    "\n",
    "**ANSWER**: 3. It will print:\n",
    "\n",
    "```python\n",
    "x= {'c', 'a', 'b'}\n",
    "y= {'a', 'b'}\n",
    "```\n",
    "\n",
    "because `y=set(x)` creates a NEW set by copying all the elements in the input sequence `x`.\n",
    "\n",
    "Let's verify with Python Tutor:"
   ]
  },
  {
   "cell_type": "raw",
   "id": "30388e77",
   "metadata": {
    "format": "text/html"
   },
   "source": [
    "</div>"
   ]
  },
  {
   "cell_type": "code",
   "execution_count": 58,
   "metadata": {},
   "outputs": [
    {
     "data": {
      "text/html": [
       "\n",
       "        <script src=\"../_static/js/pytutor-embed.bundle.min.js\" type=\"application/javascript\"></script>\n",
       "     \n",
       "        <script id=\"json-jm69dc8c6e-998e-480c-9989-9e171a40b3ae\" type=\"application/json\" >\n",
       "            {\"code\": \" \\nx = {'a','b'}\\ny = set(x)\\nx.add('c')\", \"trace\": [{\"line\": 2, \"event\": \"step_line\", \"func_name\": \"<module>\", \"globals\": {}, \"ordered_globals\": [], \"stack_to_render\": [], \"heap\": {}, \"stdout\": \"\"}, {\"line\": 3, \"event\": \"step_line\", \"func_name\": \"<module>\", \"globals\": {\"x\": [\"REF\", 1]}, \"ordered_globals\": [\"x\"], \"stack_to_render\": [], \"heap\": {\"1\": [\"SET\", \"b\", \"a\"]}, \"stdout\": \"\"}, {\"line\": 4, \"event\": \"step_line\", \"func_name\": \"<module>\", \"globals\": {\"x\": [\"REF\", 1], \"y\": [\"REF\", 2]}, \"ordered_globals\": [\"x\", \"y\"], \"stack_to_render\": [], \"heap\": {\"1\": [\"SET\", \"b\", \"a\"], \"2\": [\"SET\", \"b\", \"a\"]}, \"stdout\": \"\"}, {\"line\": 4, \"event\": \"return\", \"func_name\": \"<module>\", \"globals\": {\"x\": [\"REF\", 1], \"y\": [\"REF\", 2]}, \"ordered_globals\": [\"x\", \"y\"], \"stack_to_render\": [], \"heap\": {\"1\": [\"SET\", \"b\", \"c\", \"a\"], \"2\": [\"SET\", \"b\", \"a\"]}, \"stdout\": \"\"}]}\n",
       "        </script>\n",
       "        <div id=\"jm69dc8c6e-998e-480c-9989-9e171a40b3ae\" class=\"pytutorVisualizer\"> </div>\n",
       " \n",
       "        <style>\n",
       "        .vizLayoutTd {\n",
       "            background-color: #fff !important;\n",
       "        }\n",
       "\n",
       "        #pyStdout {            \n",
       "            min-height:25px;\n",
       "        }\n",
       "\n",
       "        /* 'Edit this code' link, hiding because replaces browser tab !!!*/\n",
       "        #editCodeLinkDiv {\n",
       "            display:none;  \n",
       "        }\n",
       "        </style>   \n",
       "                            \n",
       "        <script>\n",
       "        (function(){\n",
       "\n",
       "            var trace = JSON.parse(document.getElementById('json-jm69dc8c6e-998e-480c-9989-9e171a40b3ae').innerHTML);                                        \n",
       "            // NOTE 1: id without #\n",
       "            // NOTE 2 - maybe there are more predictable ways, but this will work anyway\n",
       "            //        - id should be number\n",
       "            visualizerIdOverride = Math.trunc(Math.random() * 100000000000)\n",
       "            addVisualizerToPage(trace, 'jm69dc8c6e-998e-480c-9989-9e171a40b3ae',{'embeddedMode' : false,\n",
       "                                             'visualizerIdOverride':visualizerIdOverride})  \n",
       "            \n",
       "            \n",
       "            // set overflow for pytuts - need to do in python as css \n",
       "            // does not allow parent selection\n",
       "            var pytuts = $('.pytutorVisualizer')\n",
       "            pytuts.closest('div.output_html.rendered_html.output_result')\n",
       "                    .css('overflow-x', 'visible')\n",
       "        \n",
       "            //pytuts.closest('div.output_html.rendered_html.output_result')\n",
       "            //      .css('background-color','red')                \n",
       "            \n",
       "        })()\n",
       "        </script>\n",
       "                \n",
       "                "
      ],
      "text/plain": [
       "<IPython.core.display.HTML object>"
      ]
     },
     "execution_count": 58,
     "metadata": {},
     "output_type": "execute_result"
    }
   ],
   "source": [
    "x = {'a','b'}\n",
    "y = set(x)\n",
    "x.add('c')\n",
    "\n",
    "jupman.pytut()"
   ]
  },
  {
   "cell_type": "markdown",
   "metadata": {},
   "source": [
    "### `remove` method\n",
    "\n",
    "The `remove` method  takes the specified element out of the set. If it doesn't exist, it produces an error:"
   ]
  },
  {
   "cell_type": "code",
   "execution_count": 59,
   "metadata": {},
   "outputs": [],
   "source": [
    "s = {'a','b','c'}"
   ]
  },
  {
   "cell_type": "code",
   "execution_count": 60,
   "metadata": {},
   "outputs": [],
   "source": [
    "s.remove('b')"
   ]
  },
  {
   "cell_type": "code",
   "execution_count": 61,
   "metadata": {},
   "outputs": [
    {
     "data": {
      "text/plain": [
       "{'a', 'c'}"
      ]
     },
     "execution_count": 61,
     "metadata": {},
     "output_type": "execute_result"
    }
   ],
   "source": [
    "s"
   ]
  },
  {
   "cell_type": "code",
   "execution_count": 62,
   "metadata": {},
   "outputs": [],
   "source": [
    "s.remove('c')"
   ]
  },
  {
   "cell_type": "code",
   "execution_count": 63,
   "metadata": {},
   "outputs": [
    {
     "data": {
      "text/plain": [
       "{'a'}"
      ]
     },
     "execution_count": 63,
     "metadata": {},
     "output_type": "execute_result"
    }
   ],
   "source": [
    "s"
   ]
  },
  {
   "cell_type": "markdown",
   "metadata": {},
   "source": [
    "```python\n",
    "s.remove('z')\n",
    "\n",
    "---------------------------------------------------------------------------\n",
    "KeyError                                  Traceback (most recent call last)\n",
    "<ipython-input-266-a9e7a977e50c> in <module>\n",
    "----> 1 s.remove('z')\n",
    "\n",
    "KeyError: 'z'\n",
    "\n",
    "```"
   ]
  },
  {
   "cell_type": "markdown",
   "metadata": {},
   "source": [
    "### Exercise - bababiba\n",
    "\n",
    "Given a string  `word` of exactly 4 syllabs of two characters each, create a set `s` which contains tuples with 2 characters each. Each tuple must represent a syllab taken from `word`.\n",
    "\n",
    "\n",
    "* to add elements to the set, only use `add`\n",
    "* your code must work for any `word` of 4 bisyllabs\n",
    "\n",
    "Example 1 - given:\n",
    "\n",
    "```python\n",
    "word = \"bababiba\"\n",
    "```\n",
    "\n",
    "after your code, it must result:\n",
    "\n",
    "```python\n",
    ">>> print(s)\n",
    "{('b', 'a'), ('b', 'i')}\n",
    "```\n",
    "\n",
    "Example 2 - given\n",
    "\n",
    "```python\n",
    "word = \"rubareru\"\n",
    "```\n",
    "\n",
    "after your code, it must result:\n",
    "\n",
    "```python\n",
    ">>> print(s)\n",
    "{('r', 'u'), ('b', 'a'), ('r', 'e')}\n",
    "```\n"
   ]
  },
  {
   "cell_type": "raw",
   "id": "b0a4383b",
   "metadata": {
    "format": "text/html"
   },
   "source": [
    "<a  class=\"jupman-sol jupman-sol-toggler\" \n",
    " onclick=\"jupman.toggleSolution(this);\" \n",
    " data-jupman-show=\"Show solution\" data-jupman-hide=\"Hide\">Show solution</a><div class=\"jupman-sol jupman-sol-code\" style=\"display:none\">  "
   ]
  },
  {
   "cell_type": "code",
   "execution_count": 64,
   "metadata": {},
   "outputs": [
    {
     "name": "stdout",
     "output_type": "stream",
     "text": [
      "{('b', 'a'), ('b', 'i')}\n"
     ]
    }
   ],
   "source": [
    "word = \"bababiba\"\n",
    "#word = \"rubareru\"\n",
    "\n",
    "# write here\n",
    "\n",
    "s = set()\n",
    "s.add(tuple(word[:2]))\n",
    "s.add(tuple(word[2:4]))\n",
    "s.add(tuple(word[4:6]))\n",
    "s.add(tuple(word[6:8]))\n",
    "print(s)"
   ]
  },
  {
   "cell_type": "raw",
   "id": "b1acbbf1",
   "metadata": {
    "format": "text/html"
   },
   "source": [
    "</div>"
   ]
  },
  {
   "cell_type": "code",
   "execution_count": 64,
   "metadata": {},
   "outputs": [
    {
     "name": "stdout",
     "output_type": "stream",
     "text": [
      "{('b', 'a'), ('b', 'i')}\n"
     ]
    }
   ],
   "source": [
    "word = \"bababiba\"\n",
    "#word = \"rubareru\"\n",
    "\n",
    "# write here\n",
    "\n"
   ]
  },
  {
   "cell_type": "markdown",
   "metadata": {},
   "source": [
    "### `discard` method\n",
    "\n",
    "The `discard` method removes the specifed element from the set. If it doesn't exists, it does nothing (we may also say it _silently_ discards the element):"
   ]
  },
  {
   "cell_type": "code",
   "execution_count": 65,
   "metadata": {},
   "outputs": [],
   "source": [
    "s = {'a','b','c'}"
   ]
  },
  {
   "cell_type": "code",
   "execution_count": 66,
   "metadata": {},
   "outputs": [],
   "source": [
    "s.discard('a')"
   ]
  },
  {
   "cell_type": "code",
   "execution_count": 67,
   "metadata": {},
   "outputs": [
    {
     "data": {
      "text/plain": [
       "{'b', 'c'}"
      ]
     },
     "execution_count": 67,
     "metadata": {},
     "output_type": "execute_result"
    }
   ],
   "source": [
    "s"
   ]
  },
  {
   "cell_type": "code",
   "execution_count": 68,
   "metadata": {},
   "outputs": [],
   "source": [
    "s.discard('c')"
   ]
  },
  {
   "cell_type": "code",
   "execution_count": 69,
   "metadata": {},
   "outputs": [
    {
     "data": {
      "text/plain": [
       "{'b'}"
      ]
     },
     "execution_count": 69,
     "metadata": {},
     "output_type": "execute_result"
    }
   ],
   "source": [
    "s"
   ]
  },
  {
   "cell_type": "code",
   "execution_count": 70,
   "metadata": {},
   "outputs": [],
   "source": [
    "s.discard('z')"
   ]
  },
  {
   "cell_type": "code",
   "execution_count": 71,
   "metadata": {},
   "outputs": [
    {
     "data": {
      "text/plain": [
       "{'b'}"
      ]
     },
     "execution_count": 71,
     "metadata": {},
     "output_type": "execute_result"
    }
   ],
   "source": [
    "s"
   ]
  },
  {
   "cell_type": "markdown",
   "metadata": {},
   "source": [
    "### Exercise - trash\n",
    "\n",
    "✪✪ A waste processing plant receives a load of `trash`, which we represent as a set of strings:\n",
    "\n",
    "```python\n",
    "trash = {'alkenes','vegetables','mercury','paper'}\n",
    "```\n",
    "\n",
    "To remove the contaminant elements which _might_ be present (NOTE: they're not always present), the plant has exactly 3 `filters` (as list of strings) which will apply in series to the trash:\n",
    "\n",
    "```python\n",
    "filters = ['cadmium','mercury','alkenes']\n",
    "```\n",
    "\n",
    "In order to check whether filters have effectively removed the contaminant(s), for each applied filter we want to see the state of the processed `trash`.\n",
    "\n",
    "At the end, we also want to print all and _only_ the contaminants which were actually removed (put them together in the variable `separated`)\n",
    "\n",
    "\n",
    "* **DO NOT** use `if` commands\n",
    "* **DO NOT** use cycles (the number of filters is fixed to 3, so you can jsut copy and paste code)\n",
    "* Your code must work for _any_ list `filters` of 3 elements and _any_ set `trash`\n",
    "\n",
    "Example - given:\n",
    "\n",
    "```python\n",
    "filters = ['cadmium','mercury','alkenes']\n",
    "trash = {'alkenes','vegetables','mercury','paper'}\n",
    "```\n",
    "\n",
    "After your code, it must show:\n",
    "\n",
    "```\n",
    "Initial trash: {'mercury', 'alkenes', 'vegetables', 'paper'}\n",
    "Applying filter for cadmium : {'mercury', 'alkenes', 'vegetables', 'paper'}\n",
    "Applying filter for mercury : {'alkenes', 'vegetables', 'paper'}\n",
    "Applying filter for alkenes : {'vegetables', 'paper'}\n",
    "\n",
    "Separated contaminants: {'mercury', 'alkenes'}\n",
    "```\n"
   ]
  },
  {
   "cell_type": "raw",
   "id": "73847ee3",
   "metadata": {
    "format": "text/html"
   },
   "source": [
    "<a  class=\"jupman-sol jupman-sol-toggler\" \n",
    " onclick=\"jupman.toggleSolution(this);\" \n",
    " data-jupman-show=\"Show solution\" data-jupman-hide=\"Hide\">Show solution</a><div class=\"jupman-sol jupman-sol-code\" style=\"display:none\">  "
   ]
  },
  {
   "cell_type": "code",
   "execution_count": 72,
   "metadata": {},
   "outputs": [
    {
     "name": "stdout",
     "output_type": "stream",
     "text": [
      "Initial trash: {'alkenes', 'mercury', 'vegetables', 'paper'}\n",
      "Applying filter for cadmium : {'alkenes', 'mercury', 'vegetables', 'paper'}\n",
      "Applying filter for mercury : {'alkenes', 'vegetables', 'paper'}\n",
      "Applying filter for alkenes : {'vegetables', 'paper'}\n",
      "\n",
      "Separated contaminants: {'alkenes', 'mercury'}\n"
     ]
    }
   ],
   "source": [
    "\n",
    "filters = ['cadmium','mercury','alkenes']\n",
    "trash = {'alkenes','vegetables','mercury','paper'}\n",
    "\n",
    "separated = trash.intersection(filters) # creates a NEW set\n",
    "\n",
    "# write here\n",
    "s = \"Applying filter for\"\n",
    "print(\"Initial trash:\", trash)\n",
    "trash.discard(filters[0])\n",
    "print(s,filters[0],\":\", trash)\n",
    "trash.discard(filters[1])\n",
    "print(s,filters[1],\":\", trash)\n",
    "trash.discard(filters[2])\n",
    "print(s,filters[2],\":\", trash)\n",
    "print(\"\")\n",
    "\n",
    "\n",
    "print(\"Separated contaminants:\", separated)\n"
   ]
  },
  {
   "cell_type": "raw",
   "id": "39bc6e80",
   "metadata": {
    "format": "text/html"
   },
   "source": [
    "</div>"
   ]
  },
  {
   "cell_type": "code",
   "execution_count": 72,
   "metadata": {},
   "outputs": [],
   "source": [
    "\n",
    "filters = ['cadmium','mercury','alkenes']\n",
    "trash = {'alkenes','vegetables','mercury','paper'}\n",
    "\n",
    "separated = trash.intersection(filters) # creates a NEW set\n",
    "\n",
    "# write here\n",
    "\n"
   ]
  },
  {
   "cell_type": "markdown",
   "metadata": {},
   "source": [
    "### `issubset` method\n",
    "\n",
    "To check whether all elements in a set `sa` are contained in another set `sb` we can write `sa.issubset(sb)`. Examples:"
   ]
  },
  {
   "cell_type": "code",
   "execution_count": 73,
   "metadata": {},
   "outputs": [
    {
     "data": {
      "text/plain": [
       "True"
      ]
     },
     "execution_count": 73,
     "metadata": {},
     "output_type": "execute_result"
    }
   ],
   "source": [
    "{2,4}.issubset({1,2,3,4})"
   ]
  },
  {
   "cell_type": "code",
   "execution_count": 74,
   "metadata": {},
   "outputs": [
    {
     "data": {
      "text/plain": [
       "False"
      ]
     },
     "execution_count": 74,
     "metadata": {},
     "output_type": "execute_result"
    }
   ],
   "source": [
    "{3,5}.issubset({1,2,3,4})"
   ]
  },
  {
   "cell_type": "markdown",
   "metadata": {},
   "source": [
    "<div class=\"alert alert-warning\">\n",
    "\n",
    "**WARNING: the empty set is always considered a subset of any other set**    \n",
    "</div>"
   ]
  },
  {
   "cell_type": "code",
   "execution_count": 75,
   "metadata": {},
   "outputs": [
    {
     "data": {
      "text/plain": [
       "True"
      ]
     },
     "execution_count": 75,
     "metadata": {},
     "output_type": "execute_result"
    }
   ],
   "source": [
    "set().issubset({3,4,2,5})"
   ]
  },
  {
   "cell_type": "markdown",
   "metadata": {},
   "source": [
    "### `issuperset` method\n",
    "\n",
    "To verify whether a set `sa` contains all the elements of another set `sb` we can write `sa.issuperset(sb)`. Examples:"
   ]
  },
  {
   "cell_type": "code",
   "execution_count": 76,
   "metadata": {},
   "outputs": [
    {
     "data": {
      "text/plain": [
       "True"
      ]
     },
     "execution_count": 76,
     "metadata": {},
     "output_type": "execute_result"
    }
   ],
   "source": [
    "{1,2,3,4,5}.issuperset({1,3,5})"
   ]
  },
  {
   "cell_type": "code",
   "execution_count": 77,
   "metadata": {},
   "outputs": [
    {
     "data": {
      "text/plain": [
       "True"
      ]
     },
     "execution_count": 77,
     "metadata": {},
     "output_type": "execute_result"
    }
   ],
   "source": [
    "{1,2,3,4,5}.issuperset({2,4})"
   ]
  },
  {
   "cell_type": "code",
   "execution_count": 78,
   "metadata": {},
   "outputs": [
    {
     "data": {
      "text/plain": [
       "False"
      ]
     },
     "execution_count": 78,
     "metadata": {},
     "output_type": "execute_result"
    }
   ],
   "source": [
    "{1,2,3,4,5}.issuperset({1,3,5,7,9})"
   ]
  },
  {
   "cell_type": "markdown",
   "metadata": {},
   "source": [
    "<div class=\"alert alert-warning\">\n",
    "\n",
    "**WARNING: the empty set is always considered a subset of any other set**    \n",
    "</div>"
   ]
  },
  {
   "cell_type": "code",
   "execution_count": 79,
   "metadata": {},
   "outputs": [
    {
     "data": {
      "text/plain": [
       "True"
      ]
     },
     "execution_count": 79,
     "metadata": {},
     "output_type": "execute_result"
    }
   ],
   "source": [
    "{1,2,3,4,5}.issuperset({})"
   ]
  },
  {
   "cell_type": "markdown",
   "metadata": {},
   "source": [
    "### `isdisjoint` method"
   ]
  },
  {
   "cell_type": "markdown",
   "metadata": {},
   "source": [
    "A set is disjoint from another one if it doesn't have any element in common, we can check for disjointness by using the method  `isdisjoint`:"
   ]
  },
  {
   "cell_type": "code",
   "execution_count": 80,
   "metadata": {},
   "outputs": [
    {
     "data": {
      "text/plain": [
       "True"
      ]
     },
     "execution_count": 80,
     "metadata": {},
     "output_type": "execute_result"
    }
   ],
   "source": [
    "{1,3,5}.isdisjoint({2,4})"
   ]
  },
  {
   "cell_type": "code",
   "execution_count": 81,
   "metadata": {},
   "outputs": [
    {
     "data": {
      "text/plain": [
       "False"
      ]
     },
     "execution_count": 81,
     "metadata": {},
     "output_type": "execute_result"
    }
   ],
   "source": [
    "{1,3,5}.isdisjoint({2,3,4})"
   ]
  },
  {
   "cell_type": "markdown",
   "metadata": {},
   "source": [
    "**QUESTION**: Given a set `x`, what does the following expression produce?\n",
    "\n",
    "```python\n",
    "x.isdisjoint(x)\n",
    "```\n",
    "\n",
    "1. an error (which one?)\n",
    "2. always `True`\n",
    "3. always `False`\n",
    "4. `True` or `False` according to the value of `x`\n"
   ]
  },
  {
   "cell_type": "raw",
   "id": "ee5d4861",
   "metadata": {
    "format": "text/html"
   },
   "source": [
    "<a  class=\"jupman-sol jupman-sol-toggler\" \n",
    " onclick=\"jupman.toggleSolution(this);\" \n",
    " data-jupman-show=\"Show answer\" data-jupman-hide=\"Hide\">Show answer</a><div class=\"jupman-sol jupman-sol-question\" style=\"display:none\">  "
   ]
  },
  {
   "cell_type": "markdown",
   "metadata": {},
   "source": [
    "**ANSWER**: 4, `True` or `False` according to the value ot`x`.\n",
    "\n",
    "Probably you thought the expression always returns `False`: after all, how could a set ever be disjoint from itself? In fact the expression almost always returns `False` _except_ for the particular case of the empty set:\n",
    "\n",
    "```python\n",
    "x = set()\n",
    "x.isdisjoint(x)\n",
    "```\n",
    "in which it returns `True`.\n",
    "\n",
    "<div class=\"alert alert-warning\">\n",
    "\n",
    "**MORAL OF THE STORY: ALWAYS CHECK FOR THE EMPTY SET !**\n",
    "\n",
    "For this and many other methods the empty set often causes behaviours which aren't always intuitive, so we invite you to always check case by case.\n",
    "\n",
    "</div>"
   ]
  },
  {
   "cell_type": "raw",
   "id": "fdb29f9a",
   "metadata": {
    "format": "text/html"
   },
   "source": [
    "</div>"
   ]
  },
  {
   "cell_type": "markdown",
   "metadata": {},
   "source": [
    "## Exercise - matrioska\n",
    "\n",
    "✪✪ Given a list `sets` of exactly 4 sets, we define it a _matrioska_ if each set contains all the elements of the previous set (plus eventually others). Write some code which PRINTS `True` if the sequence is a matrioska, otherwise PRINTS `False`.\n",
    "\n",
    "* **DO NOT** use `if`\n",
    "* your code must work for _any_ sequence of exactly 4 sets\n",
    "* **HINT**: you can create a list of 3 booleans which verify whether a set is contained in the next one ...\n",
    "\n",
    "Example 1 - given:\n",
    "\n",
    "```\n",
    "sets = [{'a','b'}, \n",
    "        {'a','b','c'},\n",
    "        {'a','b','c','d','e'},\n",
    "        {'a','b','c','d','e','f','g','h','i'}]\n",
    "```\n",
    "after your code, it must print:\n",
    "\n",
    "```\n",
    "Is the sequence a matrioska? True\n",
    "```\n",
    "\n",
    "Example 2 - given:\n",
    "\n",
    "```\n",
    "sets = [{'a','b'}, \n",
    "        {'a','b','c'},\n",
    "        {'a','e','d'},\n",
    "        {'a','b','d','e'}]\n",
    "```\n",
    "after your code, it must print:\n",
    "\n",
    "```\n",
    "Is the sequence a matrioska? False\n",
    "```\n"
   ]
  },
  {
   "cell_type": "raw",
   "id": "d8a566aa",
   "metadata": {
    "format": "text/html"
   },
   "source": [
    "<a  class=\"jupman-sol jupman-sol-toggler\" \n",
    " onclick=\"jupman.toggleSolution(this);\" \n",
    " data-jupman-show=\"Show solution\" data-jupman-hide=\"Hide\">Show solution</a><div class=\"jupman-sol jupman-sol-code\" style=\"display:none\">  "
   ]
  },
  {
   "cell_type": "code",
   "execution_count": 82,
   "metadata": {},
   "outputs": [
    {
     "name": "stdout",
     "output_type": "stream",
     "text": [
      "Is the sequence a matrioska? True\n"
     ]
    }
   ],
   "source": [
    "\n",
    "sets = [{'a','b'}, \n",
    "        {'a','b','c'},\n",
    "        {'a','b','c','d','e'},\n",
    "        {'a','b','c','d','e','f','g','h','i'}]\n",
    "\n",
    "\n",
    "#sets = [{'a','b'}, \n",
    "#        {'a','b','c'},\n",
    "#        {'a','e','d'},\n",
    "#        {'a','b','d','e'}]\n",
    "\n",
    "\n",
    "# write here\n",
    "\n",
    "checks = [ sets[0].issubset(sets[1]),\n",
    "           sets[1].issubset(sets[2]), \n",
    "           sets[2].issubset(sets[3]) ]\n",
    "\n",
    "print(\"Is the sequence a matrioska?\", checks.count(True) == 3)"
   ]
  },
  {
   "cell_type": "raw",
   "id": "19596fd5",
   "metadata": {
    "format": "text/html"
   },
   "source": [
    "</div>"
   ]
  },
  {
   "cell_type": "code",
   "execution_count": 82,
   "metadata": {},
   "outputs": [],
   "source": [
    "\n",
    "sets = [{'a','b'}, \n",
    "        {'a','b','c'},\n",
    "        {'a','b','c','d','e'},\n",
    "        {'a','b','c','d','e','f','g','h','i'}]\n",
    "\n",
    "\n",
    "#sets = [{'a','b'}, \n",
    "#        {'a','b','c'},\n",
    "#        {'a','e','d'},\n",
    "#        {'a','b','d','e'}]\n",
    "\n",
    "\n",
    "# write here\n",
    "\n"
   ]
  },
  {
   "cell_type": "markdown",
   "metadata": {},
   "source": [
    "### -------\n",
    "\n",
    "<!--\n",
    "## Continue\n",
    "\n",
    "Go on with [first challenges](https://en.softpython.org/sets/sets2-chal.html)\n",
    "-->"
   ]
  }
 ],
 "metadata": {
  "kernelspec": {
   "display_name": "Python 3 (ipykernel)",
   "language": "python",
   "name": "python3"
  },
  "language_info": {
   "codemirror_mode": {
    "name": "ipython",
    "version": 3
   },
   "file_extension": ".py",
   "mimetype": "text/x-python",
   "name": "python",
   "nbconvert_exporter": "python",
   "pygments_lexer": "ipython3",
   "version": "3.7.10"
  },
  "toc": {
   "base_numbering": 1,
   "nav_menu": {},
   "number_sections": false,
   "sideBar": true,
   "skip_h1_title": false,
   "title_cell": "Table of Contents",
   "title_sidebar": "Contents",
   "toc_cell": false,
   "toc_position": {},
   "toc_section_display": true,
   "toc_window_display": true
  }
 },
 "nbformat": 4,
 "nbformat_minor": 2
}
