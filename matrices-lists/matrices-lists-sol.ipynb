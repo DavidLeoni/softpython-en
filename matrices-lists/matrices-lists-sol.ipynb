{
 "cells": [
  {
   "cell_type": "code",
   "execution_count": 1,
   "metadata": {
    "nbsphinx": "hidden"
   },
   "outputs": [],
   "source": [
    "#Please execute this cell\n",
    "import jupman"
   ]
  },
  {
   "cell_type": "markdown",
   "metadata": {},
   "source": [
    "# Matrices: list of lists\n",
    "\n",
    "## [Download exercises zip](../_static/generated/matrices-lists.zip)\n",
    "\n",
    "[Browse files online](https://github.com/DavidLeoni/softpython-en/tree/master/matrices-lists)\n",
    "\n",
    "## Introduction\n",
    "\n",
    "Python natively does not provide easy and efficient ways to manipulate matrices. To do so, you would need an external library called numpy which will be seen later in the course. For now we will limit ourselves to using matrices as lists of lists because\n",
    "\n",
    "There are a couple of ways in Python to represent matrices: as lists of lists, or with the external library [Numpy](https://www.numpy.org/). The most used is surely Numpy but we see both representations anyway. Let's see the reason and main differences:\n",
    "\n",
    "Lists of lists - as in this notebook:\n",
    "\n",
    "1. native in Python\n",
    "1. not efficient\n",
    "1.  lists are pervasive in Python, you will probably encounter matrices expressed as lists of lists anyway\n",
    "1. you get an idea of how to construct a nested data structure\n",
    "1. we can discuss memory referencies and copies along the way\n",
    "\n",
    "\n",
    "Numpy - see other tutorial [Numpy matrices](https://it.softpython.org/matrices-numpy/matrices-numpy-sol.html)\n",
    "\n",
    "1. not natively available in Python\n",
    "1. efficient\n",
    "1. used by many scientific libraries (scipy, pandas)\n",
    "1. the syntax to access elements is slightly different from lists of lists\n",
    "1. in rare cases it might bring installation problems and/or conflicts (implementation is not pure Python)"
   ]
  },
  {
   "cell_type": "markdown",
   "metadata": {},
   "source": [
    "## What to do\n",
    "\n",
    "- unzip exercises in a folder, you should get something like this: \n",
    "\n",
    "```\n",
    "matrices-lists\n",
    "    matrices-lists.ipynb     \n",
    "    matrices-lists-sol.ipynb\n",
    "    jupman.py\n",
    "```\n",
    "\n",
    "<div class=\"alert alert-warning\">\n",
    "\n",
    "**WARNING**: to correctly visualize the notebook, it MUST be in an unzipped folder !\n",
    "</div>\n",
    "\n",
    "\n",
    "- open Jupyter Notebook from that folder. Two things should open, first a console and then browser. The browser should show a file list: navigate the list and open the notebook `matrices-lists/matrices-lists.ipynb`\n",
    "- Go on reading that notebook, and follow instuctions inside.\n",
    "\n",
    "\n",
    "Shortcut keys:\n",
    "\n",
    "- to execute Python code inside a Jupyter cell, press `Control + Enter`\n",
    "- to execute Python code inside a Jupyter cell AND select next cell, press `Shift + Enter`\n",
    "- to execute Python code inside a Jupyter cell AND a create a new cell aftwerwards, press `Alt + Enter`\n",
    "- If the notebooks look stuck, try to select `Kernel -> Restart`"
   ]
  },
  {
   "cell_type": "markdown",
   "metadata": {},
   "source": [
    "### Overview\n",
    "\n",
    "Let's see these lists of lists. Consider the following a matrix with 3 rows and 2 columns, or in short 3x2 matrix:"
   ]
  },
  {
   "cell_type": "code",
   "execution_count": 2,
   "metadata": {},
   "outputs": [],
   "source": [
    "m = [\n",
    "        ['a','b'],\n",
    "        ['c','d'],\n",
    "        ['a','e']    \n",
    "    ]"
   ]
  },
  {
   "cell_type": "markdown",
   "metadata": {},
   "source": [
    "For convenience, we assume as input to our functions there won't be matrices with no rows, nor rows with no columns. "
   ]
  },
  {
   "cell_type": "markdown",
   "metadata": {},
   "source": [
    "Going back to the example, in practice we have a big external list:\n",
    "\n",
    "```python\n",
    "m = [\n",
    "\n",
    "\n",
    "]\n",
    "```\n",
    "\n",
    "and each of its elements is another list which represents a row:\n",
    "\n",
    "```python\n",
    "m = [\n",
    "        ['a','b'],\n",
    "        ['c','d'],\n",
    "        ['a','e']\n",
    "    ]\n",
    "```\n",
    "\n",
    "So, to access the whole first row `['a','b']`, we would simply access the element at index 0 of the external list `m`:"
   ]
  },
  {
   "cell_type": "code",
   "execution_count": 3,
   "metadata": {},
   "outputs": [
    {
     "data": {
      "text/plain": [
       "['a', 'b']"
      ]
     },
     "execution_count": 3,
     "metadata": {},
     "output_type": "execute_result"
    }
   ],
   "source": [
    "m[0]"
   ]
  },
  {
   "cell_type": "markdown",
   "metadata": {},
   "source": [
    "To access the second whole second row `['c','d']`, we would access the element at index 1 of the external list `m`:"
   ]
  },
  {
   "cell_type": "code",
   "execution_count": 4,
   "metadata": {},
   "outputs": [
    {
     "data": {
      "text/plain": [
       "['c', 'd']"
      ]
     },
     "execution_count": 4,
     "metadata": {},
     "output_type": "execute_result"
    }
   ],
   "source": [
    "m[1]"
   ]
  },
  {
   "cell_type": "markdown",
   "metadata": {},
   "source": [
    "To access the second whole third row `['c','d']`, we would access the element at index 2 of the external list `m`:"
   ]
  },
  {
   "cell_type": "code",
   "execution_count": 5,
   "metadata": {},
   "outputs": [
    {
     "data": {
      "text/plain": [
       "['a', 'e']"
      ]
     },
     "execution_count": 5,
     "metadata": {},
     "output_type": "execute_result"
    }
   ],
   "source": [
    "m[2]"
   ]
  },
  {
   "cell_type": "markdown",
   "metadata": {},
   "source": [
    "To access the first element `'a'` of the first row `['a','b']` we would add another subscript operator with index 0:"
   ]
  },
  {
   "cell_type": "code",
   "execution_count": 6,
   "metadata": {},
   "outputs": [
    {
     "data": {
      "text/plain": [
       "'a'"
      ]
     },
     "execution_count": 6,
     "metadata": {},
     "output_type": "execute_result"
    }
   ],
   "source": [
    "m[0][0]"
   ]
  },
  {
   "cell_type": "markdown",
   "metadata": {},
   "source": [
    "To access the second elemnt `'b'` of the first row `['a','b']` we would use instead index 1 :"
   ]
  },
  {
   "cell_type": "code",
   "execution_count": 7,
   "metadata": {},
   "outputs": [
    {
     "data": {
      "text/plain": [
       "'b'"
      ]
     },
     "execution_count": 7,
     "metadata": {},
     "output_type": "execute_result"
    }
   ],
   "source": [
    "m[0][1]"
   ]
  },
  {
   "cell_type": "markdown",
   "metadata": {},
   "source": [
    "<div class=\"alert alert-warning\" >\n",
    "\n",
    "**WARNING**: When a matrix is a list of lists, you can only access values with notation `m[i][j]`, **NOT** with `m[i,j]` !!\n",
    "</div>"
   ]
  },
  {
   "cell_type": "raw",
   "id": "drawn-setup",
   "metadata": {
    "format": "text/html"
   },
   "source": [
    "<a  class=\"jupman-sol jupman-sol-toggler\" \n",
    " onclick=\"jupman.toggleSolution(this);\" \n",
    " data-jupman-show=\"Show solution\" data-jupman-hide=\"Hide\">Show solution</a><div class=\"jupman-sol jupman-sol-code\" style=\"display:none\">  "
   ]
  },
  {
   "cell_type": "code",
   "execution_count": 8,
   "metadata": {},
   "outputs": [],
   "source": [
    "# write here the wrong notation m[0,0] and see which error you get:\n"
   ]
  },
  {
   "cell_type": "raw",
   "id": "thirty-starter",
   "metadata": {
    "format": "text/html"
   },
   "source": [
    "</div>"
   ]
  },
  {
   "cell_type": "code",
   "execution_count": 8,
   "metadata": {},
   "outputs": [],
   "source": [
    "# write here the wrong notation m[0,0] and see which error you get:\n",
    "\n"
   ]
  },
  {
   "cell_type": "markdown",
   "metadata": {},
   "source": [
    "## Exercises\n",
    "\n",
    "Now implement the following functions. \n",
    "\n",
    "<div class=\"alert alert-info\">\n",
    "\n",
    "**REMEMBER**: if the cell is executed and nothing happens, it is because all the assert tests have worked! In such case you probably wrote correct code but careful, these kind of tests are never exhaustive so you could have still made some error.\n",
    "</div>"
   ]
  },
  {
   "cell_type": "markdown",
   "metadata": {},
   "source": [
    "<div class=\"alert alert-info\" >\n",
    "\n",
    "[III COMMANDMENT](https://en.softpython.org/commandments.html#III-COMMANDMENT): **You shall never reassign function parameters**\n",
    "\n",
    "</div>\n",
    "\n",
    "Do not perform any of these assignments, as you risk losing the parameter passed during function call:"
   ]
  },
  {
   "cell_type": "code",
   "execution_count": 9,
   "metadata": {},
   "outputs": [
    {
     "name": "stdout",
     "output_type": "stream",
     "text": [
      "[666]\n"
     ]
    }
   ],
   "source": [
    "def disgrace(my_list):\n",
    "    my_list = [666]     # you lost the [1,2,3] passed from external call!\n",
    "    print(my_list)      # prints 666\n",
    "            \n",
    "x = [1,2,3]\n",
    "disgrace(x)"
   ]
  },
  {
   "cell_type": "markdown",
   "metadata": {},
   "source": [
    "For the only case when you have composite parameters like lists or dictionaries, you can write like below IF AND ONLY IF the function description requires to MODIFY the internal elements of the parameter (like for example sorting a list in-place or changing the field of a dictionary."
   ]
  },
  {
   "cell_type": "code",
   "execution_count": 10,
   "metadata": {},
   "outputs": [
    {
     "name": "stdout",
     "output_type": "stream",
     "text": [
      "[8, 5, 9]\n"
     ]
    }
   ],
   "source": [
    "# MODIFY my_list in some way\n",
    "def allowed(my_list):\n",
    "    my_list[2] = 9\n",
    "    \n",
    "outside = [8,5,7]\n",
    "allowed(outside)\n",
    "print(outside)"
   ]
  },
  {
   "cell_type": "markdown",
   "metadata": {},
   "source": [
    "\n",
    "<div class=\"alert alert-info\" >\n",
    "\n",
    "[VI COMMANDMENT](https://en.softpython.org/commandments.html#VI-COMMANDMENT) **You shall use** `return` **command only if you see written RETURN in the function description!**\n",
    "</div>\n",
    "\n",
    "If there is no `return` in function description, the function is intended to return `None`. In this case you don't even need to write `return None`, as Python will do it implicitly for you."
   ]
  },
  {
   "cell_type": "markdown",
   "metadata": {},
   "source": [
    "If the function requires to RETURN a NEW object, you shall not fall into the temptation of modifying the input:"
   ]
  },
  {
   "cell_type": "code",
   "execution_count": 11,
   "metadata": {},
   "outputs": [],
   "source": [
    "\n",
    "# RETURN a NEW sorted list\n",
    "def pain(my_list):\n",
    "    my_list.sort()    # BAD, you are modifying the input list instead of creating a new one!\n",
    "    return my_list"
   ]
  },
  {
   "cell_type": "code",
   "execution_count": 12,
   "metadata": {},
   "outputs": [],
   "source": [
    "# RETURN a NEW list\n",
    "def crisis(my_list):\n",
    "    my_list[0] = 5    # BAD, as above\n",
    "    return my_list"
   ]
  },
  {
   "cell_type": "markdown",
   "metadata": {},
   "source": [
    "### Matrix dimensions\n",
    "\n",
    "✪ **EXERCISE**: For getting matrix dimensions, we can use normal list operations. Which ones? You can assume the matrix is well formed (all rows have equal length) and has at least one row and at least one column"
   ]
  },
  {
   "cell_type": "code",
   "execution_count": 13,
   "metadata": {},
   "outputs": [],
   "source": [
    "m = [\n",
    "        ['a','b'],\n",
    "        ['c','d'],\n",
    "        ['a','e']    \n",
    "    ]"
   ]
  },
  {
   "cell_type": "raw",
   "id": "measured-traffic",
   "metadata": {
    "format": "text/html"
   },
   "source": [
    "<a  class=\"jupman-sol jupman-sol-toggler\" \n",
    " onclick=\"jupman.toggleSolution(this);\" \n",
    " data-jupman-show=\"Show solution\" data-jupman-hide=\"Hide\">Show solution</a><div class=\"jupman-sol jupman-sol-code\" style=\"display:none\">  "
   ]
  },
  {
   "cell_type": "code",
   "execution_count": 14,
   "metadata": {},
   "outputs": [
    {
     "name": "stdout",
     "output_type": "stream",
     "text": [
      "rows\n",
      "3\n",
      "columns\n",
      "2\n"
     ]
    }
   ],
   "source": [
    "# write here code for printing rows and columns\n",
    "\n",
    "# the outer list is a list of rows, so to count htem we just use len(m)\n",
    "\n",
    "print(\"rows\")\n",
    "print(len(m))\n",
    "\n",
    "# if we assume the matrix is well formed and has at least one row and column, \n",
    "# we can directly check the length of the first row\n",
    "\n",
    "print(\"columns\")\n",
    "print(len(m[0]))"
   ]
  },
  {
   "cell_type": "raw",
   "id": "mental-quantum",
   "metadata": {
    "format": "text/html"
   },
   "source": [
    "</div>"
   ]
  },
  {
   "cell_type": "code",
   "execution_count": 14,
   "metadata": {},
   "outputs": [
    {
     "name": "stdout",
     "output_type": "stream",
     "text": [
      "rows\n",
      "3\n",
      "columns\n",
      "2\n"
     ]
    }
   ],
   "source": [
    "# write here code for printing rows and columns\n",
    "\n"
   ]
  },
  {
   "cell_type": "markdown",
   "metadata": {},
   "source": [
    "## Extracting rows and columns"
   ]
  },
  {
   "cell_type": "markdown",
   "metadata": {},
   "source": [
    "### How to extract a row\n",
    "\n",
    "One of the first things you might want to do is to extract the i-th row. If you're implementing a function that does this, you have basically two choices. Either you \n",
    "\n",
    "1. return a _pointer_ to the _original_ row\n",
    "2. return a  _copy_ of the row. \n",
    "\n",
    "Since a copy consumes memory, why should you ever want to return a copy? Sometimes you should because you don't know which use will be done of the data structure. For example, suppose you got a book of exercises which has empty spaces to write exercises in. It's such a great book everybody in the classroom wants to read it - but you are afraid if the book starts changing hands some careless guy might write on it. To avoid problems, you make a copy of the book and distribute it (let's leave copyright infringment matters aside :-)\n",
    "\n",
    "### Extracting row pointers\n",
    "\n",
    "So first let's see what happens when you just return a _pointer_ to the _original_ row. \n",
    "\n",
    "**NOTE**: For convenience, at the end of the cell we put a magic call to `jupman.pytut()` which shows the code execution like in Python tutor (for further info about `jupman.pytut()`, [see here](https://en.softpython.org/tools/tools-sol.html#Visualizing-the-execution-with-Python-Tutor)). If you execute all the code in Python tutor, you will see that at the end you have two arrow pointers to the row `['a','b']`, one starting from `m` list and one from `row` variable.\n"
   ]
  },
  {
   "cell_type": "code",
   "execution_count": 15,
   "metadata": {},
   "outputs": [],
   "source": [
    "# WARNING: FOR PYTHON TUTOR TO WORK, REMEMBER TO EXECUTE THIS CELL with Shift+Enter\n",
    "#          (it's sufficient to execute it only once)\n",
    "import jupman"
   ]
  },
  {
   "cell_type": "code",
   "execution_count": 16,
   "metadata": {},
   "outputs": [
    {
     "data": {
      "text/html": [
       "\n",
       "        <script src=\"../_static/js/pytutor-embed.bundle.min.js\" type=\"application/javascript\"></script>\n",
       "     \n",
       "        <script id=\"json-jm20167ece-337a-4a59-838c-336bebcffbe6\" type=\"application/json\" >\n",
       "            {\"code\": \" \\ndef extrowp(mat, i):\\n    \\\"\\\"\\\" RETURN the ith row from mat        \\n    \\\"\\\"\\\"\\n    return mat[i]\\n\\n    \\nm = [\\n      ['a','b'],\\n      ['c','d'],\\n      ['a','e'],    \\n]\\n\\nrow = extrowp(m, 0)\", \"trace\": [{\"stack_to_render\": [], \"globals\": {}, \"stdout\": \"\", \"func_name\": \"<module>\", \"event\": \"step_line\", \"ordered_globals\": [], \"heap\": {}, \"line\": 2}, {\"stack_to_render\": [], \"globals\": {\"extrowp\": [\"REF\", 1]}, \"stdout\": \"\", \"func_name\": \"<module>\", \"event\": \"step_line\", \"ordered_globals\": [\"extrowp\"], \"heap\": {\"1\": [\"FUNCTION\", \"extrowp(mat, i)\", null]}, \"line\": 9}, {\"stack_to_render\": [], \"globals\": {\"extrowp\": [\"REF\", 1]}, \"stdout\": \"\", \"func_name\": \"<module>\", \"event\": \"step_line\", \"ordered_globals\": [\"extrowp\"], \"heap\": {\"1\": [\"FUNCTION\", \"extrowp(mat, i)\", null]}, \"line\": 10}, {\"stack_to_render\": [], \"globals\": {\"extrowp\": [\"REF\", 1]}, \"stdout\": \"\", \"func_name\": \"<module>\", \"event\": \"step_line\", \"ordered_globals\": [\"extrowp\"], \"heap\": {\"1\": [\"FUNCTION\", \"extrowp(mat, i)\", null]}, \"line\": 11}, {\"stack_to_render\": [], \"globals\": {\"extrowp\": [\"REF\", 1], \"m\": [\"REF\", 2]}, \"stdout\": \"\", \"func_name\": \"<module>\", \"event\": \"step_line\", \"ordered_globals\": [\"extrowp\", \"m\"], \"heap\": {\"1\": [\"FUNCTION\", \"extrowp(mat, i)\", null], \"2\": [\"LIST\", [\"REF\", 3], [\"REF\", 4], [\"REF\", 5]], \"3\": [\"LIST\", \"a\", \"b\"], \"4\": [\"LIST\", \"c\", \"d\"], \"5\": [\"LIST\", \"a\", \"e\"]}, \"line\": 14}, {\"stack_to_render\": [{\"frame_id\": 1, \"is_parent\": false, \"parent_frame_id_list\": [], \"unique_hash\": \"extrowp_f1\", \"ordered_varnames\": [\"mat\", \"i\"], \"is_highlighted\": true, \"encoded_locals\": {\"i\": 0, \"mat\": [\"REF\", 2]}, \"is_zombie\": false, \"func_name\": \"extrowp\"}], \"globals\": {\"extrowp\": [\"REF\", 1], \"m\": [\"REF\", 2]}, \"stdout\": \"\", \"func_name\": \"extrowp\", \"event\": \"call\", \"ordered_globals\": [\"extrowp\", \"m\"], \"heap\": {\"1\": [\"FUNCTION\", \"extrowp(mat, i)\", null], \"2\": [\"LIST\", [\"REF\", 3], [\"REF\", 4], [\"REF\", 5]], \"3\": [\"LIST\", \"a\", \"b\"], \"4\": [\"LIST\", \"c\", \"d\"], \"5\": [\"LIST\", \"a\", \"e\"]}, \"line\": 2}, {\"stack_to_render\": [{\"frame_id\": 1, \"is_parent\": false, \"parent_frame_id_list\": [], \"unique_hash\": \"extrowp_f1\", \"ordered_varnames\": [\"mat\", \"i\"], \"is_highlighted\": true, \"encoded_locals\": {\"i\": 0, \"mat\": [\"REF\", 2]}, \"is_zombie\": false, \"func_name\": \"extrowp\"}], \"globals\": {\"extrowp\": [\"REF\", 1], \"m\": [\"REF\", 2]}, \"stdout\": \"\", \"func_name\": \"extrowp\", \"event\": \"step_line\", \"ordered_globals\": [\"extrowp\", \"m\"], \"heap\": {\"1\": [\"FUNCTION\", \"extrowp(mat, i)\", null], \"2\": [\"LIST\", [\"REF\", 3], [\"REF\", 4], [\"REF\", 5]], \"3\": [\"LIST\", \"a\", \"b\"], \"4\": [\"LIST\", \"c\", \"d\"], \"5\": [\"LIST\", \"a\", \"e\"]}, \"line\": 5}, {\"stack_to_render\": [{\"frame_id\": 1, \"is_parent\": false, \"parent_frame_id_list\": [], \"unique_hash\": \"extrowp_f1\", \"ordered_varnames\": [\"mat\", \"i\", \"__return__\"], \"is_highlighted\": true, \"encoded_locals\": {\"__return__\": [\"REF\", 3], \"i\": 0, \"mat\": [\"REF\", 2]}, \"is_zombie\": false, \"func_name\": \"extrowp\"}], \"globals\": {\"extrowp\": [\"REF\", 1], \"m\": [\"REF\", 2]}, \"stdout\": \"\", \"func_name\": \"extrowp\", \"event\": \"return\", \"ordered_globals\": [\"extrowp\", \"m\"], \"heap\": {\"1\": [\"FUNCTION\", \"extrowp(mat, i)\", null], \"2\": [\"LIST\", [\"REF\", 3], [\"REF\", 4], [\"REF\", 5]], \"3\": [\"LIST\", \"a\", \"b\"], \"4\": [\"LIST\", \"c\", \"d\"], \"5\": [\"LIST\", \"a\", \"e\"]}, \"line\": 5}, {\"stack_to_render\": [], \"globals\": {\"extrowp\": [\"REF\", 1], \"row\": [\"REF\", 3], \"m\": [\"REF\", 2]}, \"stdout\": \"\", \"func_name\": \"<module>\", \"event\": \"return\", \"ordered_globals\": [\"extrowp\", \"m\", \"row\"], \"heap\": {\"1\": [\"FUNCTION\", \"extrowp(mat, i)\", null], \"2\": [\"LIST\", [\"REF\", 3], [\"REF\", 4], [\"REF\", 5]], \"3\": [\"LIST\", \"a\", \"b\"], \"4\": [\"LIST\", \"c\", \"d\"], \"5\": [\"LIST\", \"a\", \"e\"]}, \"line\": 14}]}\n",
       "        </script>\n",
       "        <div id=\"jm20167ece-337a-4a59-838c-336bebcffbe6\" class=\"pytutorVisualizer\"> </div>\n",
       " \n",
       "        <style>\n",
       "        .vizLayoutTd {\n",
       "            background-color: #fff !important;\n",
       "        }\n",
       "\n",
       "        #pyStdout {            \n",
       "            min-height:25px;\n",
       "        }\n",
       "\n",
       "        /* 'Edit this code' link, hiding because replaces browser tab !!!*/\n",
       "        #editCodeLinkDiv {\n",
       "            display:none;  \n",
       "        }\n",
       "        </style>   \n",
       "                            \n",
       "        <script>\n",
       "        (function(){\n",
       "\n",
       "            var trace = JSON.parse(document.getElementById('json-jm20167ece-337a-4a59-838c-336bebcffbe6').innerHTML);                                        \n",
       "            // NOTE 1: id without #\n",
       "            // NOTE 2 - maybe there are more predictable ways, but this will work anyway\n",
       "            //        - id should be number\n",
       "            visualizerIdOverride = Math.trunc(Math.random() * 100000000000)\n",
       "            addVisualizerToPage(trace, 'jm20167ece-337a-4a59-838c-336bebcffbe6',{'embeddedMode' : false,\n",
       "                                             'visualizerIdOverride':visualizerIdOverride})  \n",
       "            \n",
       "            \n",
       "            // set overflow for pytuts - need to do in python as css \n",
       "            // does not allow parent selection\n",
       "            var pytuts = $('.pytutorVisualizer')\n",
       "            pytuts.closest('div.output_html.rendered_html.output_result')\n",
       "                    .css('overflow-x', 'visible')\n",
       "        \n",
       "            //pytuts.closest('div.output_html.rendered_html.output_result')\n",
       "            //      .css('background-color','red')                \n",
       "            \n",
       "        })()\n",
       "        </script>\n",
       "                \n",
       "                "
      ],
      "text/plain": [
       "<IPython.core.display.HTML object>"
      ]
     },
     "execution_count": 16,
     "metadata": {},
     "output_type": "execute_result"
    }
   ],
   "source": [
    "def extrowp(mat, i):\n",
    "    \"\"\" RETURN the ith row from mat        \n",
    "    \"\"\"\n",
    "    return mat[i]\n",
    "\n",
    "    \n",
    "m = [\n",
    "      ['a','b'],\n",
    "      ['c','d'],\n",
    "      ['a','e'],    \n",
    "]\n",
    "\n",
    "row = extrowp(m, 0)\n",
    "\n",
    "jupman.pytut()"
   ]
  },
  {
   "cell_type": "markdown",
   "metadata": {},
   "source": [
    "### extrowf\n",
    "\n",
    "✪ Now try to implement a version which returns a **copy** of the row. "
   ]
  },
  {
   "cell_type": "markdown",
   "metadata": {},
   "source": [
    "**QUESTION**: You might be tempted to  implement something like this - but it wouldn't work. Why?"
   ]
  },
  {
   "cell_type": "code",
   "execution_count": 17,
   "metadata": {},
   "outputs": [
    {
     "data": {
      "text/html": [
       "\n",
       "        <script src=\"../_static/js/pytutor-embed.bundle.min.js\" type=\"application/javascript\"></script>\n",
       "     \n",
       "        <script id=\"json-jm3caa8873-8252-4814-8cff-38ab315667e9\" type=\"application/json\" >\n",
       "            {\"code\": \" \\n# WARNING: WRONG CODE!!!!\\n\\ndef extrow_wrong(mat, i):\\n    \\\"\\\"\\\" RETURN the ith row from mat. \\n        NOTE: the row MUST be a new list ! \\\"\\\"\\\"\\n    \\n    riga = []\\n    riga.append(mat[i])  \\n    return riga\\n\\nm = [\\n      ['a','b'],\\n      ['c','d'],\\n      ['a','e'],    \\n]\\n\\nrow = extrow_wrong(m,0)\", \"trace\": [{\"stack_to_render\": [], \"globals\": {}, \"stdout\": \"\", \"func_name\": \"<module>\", \"event\": \"step_line\", \"ordered_globals\": [], \"heap\": {}, \"line\": 4}, {\"stack_to_render\": [], \"globals\": {\"extrow_wrong\": [\"REF\", 1]}, \"stdout\": \"\", \"func_name\": \"<module>\", \"event\": \"step_line\", \"ordered_globals\": [\"extrow_wrong\"], \"heap\": {\"1\": [\"FUNCTION\", \"extrow_wrong(mat, i)\", null]}, \"line\": 13}, {\"stack_to_render\": [], \"globals\": {\"extrow_wrong\": [\"REF\", 1]}, \"stdout\": \"\", \"func_name\": \"<module>\", \"event\": \"step_line\", \"ordered_globals\": [\"extrow_wrong\"], \"heap\": {\"1\": [\"FUNCTION\", \"extrow_wrong(mat, i)\", null]}, \"line\": 14}, {\"stack_to_render\": [], \"globals\": {\"extrow_wrong\": [\"REF\", 1]}, \"stdout\": \"\", \"func_name\": \"<module>\", \"event\": \"step_line\", \"ordered_globals\": [\"extrow_wrong\"], \"heap\": {\"1\": [\"FUNCTION\", \"extrow_wrong(mat, i)\", null]}, \"line\": 15}, {\"stack_to_render\": [], \"globals\": {\"extrow_wrong\": [\"REF\", 1], \"m\": [\"REF\", 2]}, \"stdout\": \"\", \"func_name\": \"<module>\", \"event\": \"step_line\", \"ordered_globals\": [\"extrow_wrong\", \"m\"], \"heap\": {\"1\": [\"FUNCTION\", \"extrow_wrong(mat, i)\", null], \"2\": [\"LIST\", [\"REF\", 3], [\"REF\", 4], [\"REF\", 5]], \"3\": [\"LIST\", \"a\", \"b\"], \"4\": [\"LIST\", \"c\", \"d\"], \"5\": [\"LIST\", \"a\", \"e\"]}, \"line\": 18}, {\"stack_to_render\": [{\"frame_id\": 1, \"is_parent\": false, \"parent_frame_id_list\": [], \"unique_hash\": \"extrow_wrong_f1\", \"ordered_varnames\": [\"mat\", \"i\"], \"is_highlighted\": true, \"encoded_locals\": {\"i\": 0, \"mat\": [\"REF\", 2]}, \"is_zombie\": false, \"func_name\": \"extrow_wrong\"}], \"globals\": {\"extrow_wrong\": [\"REF\", 1], \"m\": [\"REF\", 2]}, \"stdout\": \"\", \"func_name\": \"extrow_wrong\", \"event\": \"call\", \"ordered_globals\": [\"extrow_wrong\", \"m\"], \"heap\": {\"1\": [\"FUNCTION\", \"extrow_wrong(mat, i)\", null], \"2\": [\"LIST\", [\"REF\", 3], [\"REF\", 4], [\"REF\", 5]], \"3\": [\"LIST\", \"a\", \"b\"], \"4\": [\"LIST\", \"c\", \"d\"], \"5\": [\"LIST\", \"a\", \"e\"]}, \"line\": 4}, {\"stack_to_render\": [{\"frame_id\": 1, \"is_parent\": false, \"parent_frame_id_list\": [], \"unique_hash\": \"extrow_wrong_f1\", \"ordered_varnames\": [\"mat\", \"i\"], \"is_highlighted\": true, \"encoded_locals\": {\"i\": 0, \"mat\": [\"REF\", 2]}, \"is_zombie\": false, \"func_name\": \"extrow_wrong\"}], \"globals\": {\"extrow_wrong\": [\"REF\", 1], \"m\": [\"REF\", 2]}, \"stdout\": \"\", \"func_name\": \"extrow_wrong\", \"event\": \"step_line\", \"ordered_globals\": [\"extrow_wrong\", \"m\"], \"heap\": {\"1\": [\"FUNCTION\", \"extrow_wrong(mat, i)\", null], \"2\": [\"LIST\", [\"REF\", 3], [\"REF\", 4], [\"REF\", 5]], \"3\": [\"LIST\", \"a\", \"b\"], \"4\": [\"LIST\", \"c\", \"d\"], \"5\": [\"LIST\", \"a\", \"e\"]}, \"line\": 8}, {\"stack_to_render\": [{\"frame_id\": 1, \"is_parent\": false, \"parent_frame_id_list\": [], \"unique_hash\": \"extrow_wrong_f1\", \"ordered_varnames\": [\"mat\", \"i\", \"riga\"], \"is_highlighted\": true, \"encoded_locals\": {\"riga\": [\"REF\", 6], \"i\": 0, \"mat\": [\"REF\", 2]}, \"is_zombie\": false, \"func_name\": \"extrow_wrong\"}], \"globals\": {\"extrow_wrong\": [\"REF\", 1], \"m\": [\"REF\", 2]}, \"stdout\": \"\", \"func_name\": \"extrow_wrong\", \"event\": \"step_line\", \"ordered_globals\": [\"extrow_wrong\", \"m\"], \"heap\": {\"1\": [\"FUNCTION\", \"extrow_wrong(mat, i)\", null], \"2\": [\"LIST\", [\"REF\", 3], [\"REF\", 4], [\"REF\", 5]], \"3\": [\"LIST\", \"a\", \"b\"], \"4\": [\"LIST\", \"c\", \"d\"], \"5\": [\"LIST\", \"a\", \"e\"], \"6\": [\"LIST\"]}, \"line\": 9}, {\"stack_to_render\": [{\"frame_id\": 1, \"is_parent\": false, \"parent_frame_id_list\": [], \"unique_hash\": \"extrow_wrong_f1\", \"ordered_varnames\": [\"mat\", \"i\", \"riga\"], \"is_highlighted\": true, \"encoded_locals\": {\"riga\": [\"REF\", 6], \"i\": 0, \"mat\": [\"REF\", 2]}, \"is_zombie\": false, \"func_name\": \"extrow_wrong\"}], \"globals\": {\"extrow_wrong\": [\"REF\", 1], \"m\": [\"REF\", 2]}, \"stdout\": \"\", \"func_name\": \"extrow_wrong\", \"event\": \"step_line\", \"ordered_globals\": [\"extrow_wrong\", \"m\"], \"heap\": {\"1\": [\"FUNCTION\", \"extrow_wrong(mat, i)\", null], \"2\": [\"LIST\", [\"REF\", 3], [\"REF\", 4], [\"REF\", 5]], \"3\": [\"LIST\", \"a\", \"b\"], \"4\": [\"LIST\", \"c\", \"d\"], \"5\": [\"LIST\", \"a\", \"e\"], \"6\": [\"LIST\", [\"REF\", 3]]}, \"line\": 10}, {\"stack_to_render\": [{\"frame_id\": 1, \"is_parent\": false, \"parent_frame_id_list\": [], \"unique_hash\": \"extrow_wrong_f1\", \"ordered_varnames\": [\"mat\", \"i\", \"riga\", \"__return__\"], \"is_highlighted\": true, \"encoded_locals\": {\"riga\": [\"REF\", 6], \"i\": 0, \"__return__\": [\"REF\", 6], \"mat\": [\"REF\", 2]}, \"is_zombie\": false, \"func_name\": \"extrow_wrong\"}], \"globals\": {\"extrow_wrong\": [\"REF\", 1], \"m\": [\"REF\", 2]}, \"stdout\": \"\", \"func_name\": \"extrow_wrong\", \"event\": \"return\", \"ordered_globals\": [\"extrow_wrong\", \"m\"], \"heap\": {\"1\": [\"FUNCTION\", \"extrow_wrong(mat, i)\", null], \"2\": [\"LIST\", [\"REF\", 3], [\"REF\", 4], [\"REF\", 5]], \"3\": [\"LIST\", \"a\", \"b\"], \"4\": [\"LIST\", \"c\", \"d\"], \"5\": [\"LIST\", \"a\", \"e\"], \"6\": [\"LIST\", [\"REF\", 3]]}, \"line\": 10}, {\"stack_to_render\": [], \"globals\": {\"extrow_wrong\": [\"REF\", 1], \"m\": [\"REF\", 2], \"row\": [\"REF\", 6]}, \"stdout\": \"\", \"func_name\": \"<module>\", \"event\": \"return\", \"ordered_globals\": [\"extrow_wrong\", \"m\", \"row\"], \"heap\": {\"1\": [\"FUNCTION\", \"extrow_wrong(mat, i)\", null], \"2\": [\"LIST\", [\"REF\", 3], [\"REF\", 4], [\"REF\", 5]], \"3\": [\"LIST\", \"a\", \"b\"], \"4\": [\"LIST\", \"c\", \"d\"], \"5\": [\"LIST\", \"a\", \"e\"], \"6\": [\"LIST\", [\"REF\", 3]]}, \"line\": 18}]}\n",
       "        </script>\n",
       "        <div id=\"jm3caa8873-8252-4814-8cff-38ab315667e9\" class=\"pytutorVisualizer\"> </div>\n",
       " \n",
       "        <style>\n",
       "        .vizLayoutTd {\n",
       "            background-color: #fff !important;\n",
       "        }\n",
       "\n",
       "        #pyStdout {            \n",
       "            min-height:25px;\n",
       "        }\n",
       "\n",
       "        /* 'Edit this code' link, hiding because replaces browser tab !!!*/\n",
       "        #editCodeLinkDiv {\n",
       "            display:none;  \n",
       "        }\n",
       "        </style>   \n",
       "                            \n",
       "        <script>\n",
       "        (function(){\n",
       "\n",
       "            var trace = JSON.parse(document.getElementById('json-jm3caa8873-8252-4814-8cff-38ab315667e9').innerHTML);                                        \n",
       "            // NOTE 1: id without #\n",
       "            // NOTE 2 - maybe there are more predictable ways, but this will work anyway\n",
       "            //        - id should be number\n",
       "            visualizerIdOverride = Math.trunc(Math.random() * 100000000000)\n",
       "            addVisualizerToPage(trace, 'jm3caa8873-8252-4814-8cff-38ab315667e9',{'embeddedMode' : false,\n",
       "                                             'visualizerIdOverride':visualizerIdOverride})  \n",
       "            \n",
       "            \n",
       "            // set overflow for pytuts - need to do in python as css \n",
       "            // does not allow parent selection\n",
       "            var pytuts = $('.pytutorVisualizer')\n",
       "            pytuts.closest('div.output_html.rendered_html.output_result')\n",
       "                    .css('overflow-x', 'visible')\n",
       "        \n",
       "            //pytuts.closest('div.output_html.rendered_html.output_result')\n",
       "            //      .css('background-color','red')                \n",
       "            \n",
       "        })()\n",
       "        </script>\n",
       "                \n",
       "                "
      ],
      "text/plain": [
       "<IPython.core.display.HTML object>"
      ]
     },
     "execution_count": 17,
     "metadata": {},
     "output_type": "execute_result"
    }
   ],
   "source": [
    "# WARNING: WRONG CODE!!!!\n",
    "\n",
    "def extrow_wrong(mat, i):\n",
    "    \"\"\" RETURN the ith row from mat. \n",
    "        NOTE: the row MUST be a new list ! \"\"\"\n",
    "    \n",
    "    riga = []\n",
    "    riga.append(mat[i])  \n",
    "    return riga\n",
    "\n",
    "m = [\n",
    "      ['a','b'],\n",
    "      ['c','d'],\n",
    "      ['a','e'],    \n",
    "]\n",
    "\n",
    "row = extrow_wrong(m,0)\n",
    "\n",
    "jupman.pytut()"
   ]
  },
  {
   "cell_type": "raw",
   "id": "discrete-oakland",
   "metadata": {
    "format": "text/html"
   },
   "source": [
    "<a  class=\"jupman-sol jupman-sol-toggler\" \n",
    " onclick=\"jupman.toggleSolution(this);\" \n",
    " data-jupman-show=\"Show answer\" data-jupman-hide=\"Hide\">Show answer</a><div class=\"jupman-sol jupman-sol-question\" style=\"display:none\">  "
   ]
  },
  {
   "cell_type": "markdown",
   "metadata": {},
   "source": [
    "\n",
    "**ANSWER**: The code above adds a LIST as element to another empty list. In other words, it is wrapping the row (which is already a list) into another list. \n",
    "If you checj the problem in Python Tutor, you will see an arrow going from row to a list of one element \n",
    "which will contain exactly one arrow to the original row.\n",
    "    "
   ]
  },
  {
   "cell_type": "raw",
   "id": "corporate-strategy",
   "metadata": {
    "format": "text/html"
   },
   "source": [
    "</div>"
   ]
  },
  {
   "cell_type": "markdown",
   "metadata": {},
   "source": [
    "You can build an actual copy in several ways, with a `for`, a slice or a list comprehension. Try to implement all versions, starting with the `for` here. Be sure to check your result with Python Tutor - to visualize python tutor inside the cell output, you might use the special command `jupman.pytut()` at the end of the cell as we did before. If you run the code with Python Tutor, you should only see  _one_ arrow going to the original `['a','b']` row in `m`, and there should be _another_ `['a','b']` copy somewhere, with `row` variable pointing to it. "
   ]
  },
  {
   "cell_type": "markdown",
   "metadata": {},
   "source": [
    "✪ **EXERCISE**: Implement the function `esrowf` which RETURNS the `i`-th row from `mat`\n",
    "\n",
    "* **NOTE**: the row MUST be a new list! To create a new list use a for cycle which iterates over the elements, _not_ the indeces (so don't use range!)"
   ]
  },
  {
   "cell_type": "raw",
   "id": "living-combat",
   "metadata": {
    "format": "text/html"
   },
   "source": [
    "<a  class=\"jupman-sol jupman-sol-toggler\" \n",
    " onclick=\"jupman.toggleSolution(this);\" \n",
    " data-jupman-show=\"Show solution\" data-jupman-hide=\"Hide\">Show solution</a><div class=\"jupman-sol jupman-sol-code\" style=\"display:none\">  "
   ]
  },
  {
   "cell_type": "code",
   "execution_count": 18,
   "metadata": {},
   "outputs": [],
   "source": [
    "def extrowf(mat, i):\n",
    "    \"\"\" RETURN the ith row from mat. \n",
    "        \n",
    "    \"\"\"\n",
    "    \n",
    "    riga = []\n",
    "    for x in mat[i]:\n",
    "        riga.append(x) \n",
    "    return riga    \n",
    "    \n",
    "    \n",
    "m = [\n",
    "      ['a','b'],\n",
    "      ['c','d'],\n",
    "      ['a','e'],    \n",
    "]\n",
    "\n",
    "assert extrowf(m, 0) == ['a','b']\n",
    "assert extrowf(m, 1) == ['c','d']\n",
    "assert extrowf(m, 2) == ['a','e']\n",
    "\n",
    "# check it didn't change the original matrix !\n",
    "r = extrowf(m, 0)\n",
    "r[0] = 'z'\n",
    "assert m[0][0] == 'a'   \n",
    "\n",
    "# uncomment to visualize execution here \n",
    "#jupman.pytut()"
   ]
  },
  {
   "cell_type": "raw",
   "id": "actual-drinking",
   "metadata": {
    "format": "text/html"
   },
   "source": [
    "</div>"
   ]
  },
  {
   "cell_type": "code",
   "execution_count": 18,
   "metadata": {},
   "outputs": [],
   "source": [
    "def extrowf(mat, i):\n",
    "    \"\"\" RETURN the ith row from mat. \n",
    "        \n",
    "    \"\"\"\n",
    "    raise Exception('TODO IMPLEMENT ME !')\n",
    "    \n",
    "m = [\n",
    "      ['a','b'],\n",
    "      ['c','d'],\n",
    "      ['a','e'],    \n",
    "]\n",
    "\n",
    "assert extrowf(m, 0) == ['a','b']\n",
    "assert extrowf(m, 1) == ['c','d']\n",
    "assert extrowf(m, 2) == ['a','e']\n",
    "\n",
    "# check it didn't change the original matrix !\n",
    "r = extrowf(m, 0)\n",
    "r[0] = 'z'\n",
    "assert m[0][0] == 'a'   \n",
    "\n",
    "# uncomment to visualize execution here \n",
    "#jupman.pytut()"
   ]
  },
  {
   "cell_type": "markdown",
   "metadata": {},
   "source": [
    "### Extract row with range\n",
    "\n",
    "Let's first rapidly see  `range(n)`. Maybe you think it should return a sequence of integers, from zero to `n - 1`. Is it really like this?"
   ]
  },
  {
   "cell_type": "code",
   "execution_count": 19,
   "metadata": {},
   "outputs": [
    {
     "data": {
      "text/plain": [
       "range(0, 5)"
      ]
     },
     "execution_count": 19,
     "metadata": {},
     "output_type": "execute_result"
    }
   ],
   "source": [
    "range(5)"
   ]
  },
  {
   "cell_type": "markdown",
   "metadata": {},
   "source": [
    "Maybe you expected something like a list `[0,1,2,3,4]`, instead we  discovered that Python is quite lazy here: as a matter of fact, `range(n)` returns an _iterable_ object, which is not a real sequence materialized in memory.\n",
    "\n",
    "To take a real integer list, we must explicitly ask this iterable object to give us the objects one by one.\n",
    "\n",
    "When you write `for i in range(s)` the `for` loop is doing exactly this, at each round it asks the object `range` to generate a number from the sequence. If we want the whole sequence materialized in memory, we can generate it by converting the `range` into a list object:"
   ]
  },
  {
   "cell_type": "code",
   "execution_count": 20,
   "metadata": {},
   "outputs": [
    {
     "data": {
      "text/plain": [
       "[0, 1, 2, 3, 4]"
      ]
     },
     "execution_count": 20,
     "metadata": {},
     "output_type": "execute_result"
    }
   ],
   "source": [
    "list(range(5))"
   ]
  },
  {
   "cell_type": "markdown",
   "metadata": {},
   "source": [
    "Be careful, though. According to the sequence dimension, this might be dangerous. A billion elements list might saturate your computer RAM (in 2020 notebooks often have 4 gigabytes of RAM, that is, 4 billion bytes)."
   ]
  },
  {
   "cell_type": "markdown",
   "metadata": {},
   "source": [
    "✪ **EXERCISE**: Now implement the `extrowr` iterating over a range of row indexes:\n",
    "\n",
    "* **NOTE 1**: the row MUST be a new list! To create a new list use a `for` loop\n",
    "* **NOTE 2**: remember to use a new name for the column index!"
   ]
  },
  {
   "cell_type": "raw",
   "id": "royal-spice",
   "metadata": {
    "format": "text/html"
   },
   "source": [
    "<a  class=\"jupman-sol jupman-sol-toggler\" \n",
    " onclick=\"jupman.toggleSolution(this);\" \n",
    " data-jupman-show=\"Show solution\" data-jupman-hide=\"Hide\">Show solution</a><div class=\"jupman-sol jupman-sol-code\" style=\"display:none\">  "
   ]
  },
  {
   "cell_type": "code",
   "execution_count": 21,
   "metadata": {},
   "outputs": [],
   "source": [
    "def extrowr(mat, i):\n",
    "    \"\"\" RETURN the ith row from mat.         \n",
    "    \"\"\"\n",
    "    \n",
    "    riga = []\n",
    "    for j in range(len(mat[0])):\n",
    "        riga.append(mat[i][j]) \n",
    "    return riga    \n",
    "    \n",
    "    \n",
    "m = [\n",
    "      ['a','b'],\n",
    "      ['c','d'],\n",
    "      ['a','e'],    \n",
    "]\n",
    "\n",
    "assert extrowr(m, 0) == ['a','b']\n",
    "assert extrowr(m, 1) == ['c','d']\n",
    "assert extrowr(m, 2) == ['a','e']\n",
    "\n",
    "# check it didn't change the original matrix !\n",
    "r = extrowr(m, 0)\n",
    "r[0] = 'z'\n",
    "assert m[0][0] == 'a' \n",
    "\n",
    "# uncomment to visualize execution here\n",
    "#jupman.pytut()  "
   ]
  },
  {
   "cell_type": "raw",
   "id": "objective-xerox",
   "metadata": {
    "format": "text/html"
   },
   "source": [
    "</div>"
   ]
  },
  {
   "cell_type": "code",
   "execution_count": 21,
   "metadata": {},
   "outputs": [],
   "source": [
    "def extrowr(mat, i):\n",
    "    \"\"\" RETURN the ith row from mat.         \n",
    "    \"\"\"\n",
    "    raise Exception('TODO IMPLEMENT ME !')\n",
    "    \n",
    "m = [\n",
    "      ['a','b'],\n",
    "      ['c','d'],\n",
    "      ['a','e'],    \n",
    "]\n",
    "\n",
    "assert extrowr(m, 0) == ['a','b']\n",
    "assert extrowr(m, 1) == ['c','d']\n",
    "assert extrowr(m, 2) == ['a','e']\n",
    "\n",
    "# check it didn't change the original matrix !\n",
    "r = extrowr(m, 0)\n",
    "r[0] = 'z'\n",
    "assert m[0][0] == 'a' \n",
    "\n",
    "# uncomment to visualize execution here\n",
    "#jupman.pytut()  "
   ]
  },
  {
   "cell_type": "markdown",
   "metadata": {},
   "source": [
    "### Extract row with a slice\n",
    "\n",
    "✪ Remember slices return a _copy_ of a list? Now try to use them.\n",
    "\n",
    "* **NOTE**: the row MUST be a new list! To create it, use slices."
   ]
  },
  {
   "cell_type": "raw",
   "id": "scientific-eagle",
   "metadata": {
    "format": "text/html"
   },
   "source": [
    "<a  class=\"jupman-sol jupman-sol-toggler\" \n",
    " onclick=\"jupman.toggleSolution(this);\" \n",
    " data-jupman-show=\"Show solution\" data-jupman-hide=\"Hide\">Show solution</a><div class=\"jupman-sol jupman-sol-code\" style=\"display:none\">  "
   ]
  },
  {
   "cell_type": "code",
   "execution_count": 22,
   "metadata": {},
   "outputs": [],
   "source": [
    "def extrows(mat, i):\n",
    "    \"\"\" RETURN the ith row from mat.         \n",
    "    \"\"\"\n",
    "    \n",
    "    return mat[i][:]  # if you omit start end end indexes, you get a copy of the whole list\n",
    "    \n",
    "    \n",
    "m = [\n",
    "      ['a','b'],\n",
    "      ['c','d'],\n",
    "      ['a','e'],    \n",
    "]\n",
    "\n",
    "\n",
    "assert extrows(m, 0) == ['a','b']\n",
    "assert extrows(m, 1) == ['c','d']\n",
    "assert extrows(m, 2) == ['a','e']\n",
    "\n",
    "# check it didn't change the original matrix !\n",
    "r = extrows(m, 0)\n",
    "r[0] = 'z'\n",
    "assert m[0][0] == 'a'   \n",
    "\n",
    "# uncomment to visualize execution here \n",
    "#jupman.pytut()"
   ]
  },
  {
   "cell_type": "raw",
   "id": "fourth-brisbane",
   "metadata": {
    "format": "text/html"
   },
   "source": [
    "</div>"
   ]
  },
  {
   "cell_type": "code",
   "execution_count": 22,
   "metadata": {},
   "outputs": [],
   "source": [
    "def extrows(mat, i):\n",
    "    \"\"\" RETURN the ith row from mat.         \n",
    "    \"\"\"\n",
    "    raise Exception('TODO IMPLEMENT ME !')\n",
    "    \n",
    "m = [\n",
    "      ['a','b'],\n",
    "      ['c','d'],\n",
    "      ['a','e'],    \n",
    "]\n",
    "\n",
    "\n",
    "assert extrows(m, 0) == ['a','b']\n",
    "assert extrows(m, 1) == ['c','d']\n",
    "assert extrows(m, 2) == ['a','e']\n",
    "\n",
    "# check it didn't change the original matrix !\n",
    "r = extrows(m, 0)\n",
    "r[0] = 'z'\n",
    "assert m[0][0] == 'a'   \n",
    "\n",
    "# uncomment to visualize execution here \n",
    "#jupman.pytut()"
   ]
  },
  {
   "cell_type": "markdown",
   "metadata": {},
   "source": [
    "### Extract row with list comprehension\n",
    "\n",
    "✪ Implement `extrowc`, which RETURNs the `i`-th row from `mat`. To create a new list use a _list comprehension_.\n",
    "\n",
    "* **NOTE**: the row MUST be a new list!"
   ]
  },
  {
   "cell_type": "raw",
   "id": "mediterranean-court",
   "metadata": {
    "format": "text/html"
   },
   "source": [
    "<a  class=\"jupman-sol jupman-sol-toggler\" \n",
    " onclick=\"jupman.toggleSolution(this);\" \n",
    " data-jupman-show=\"Show solution\" data-jupman-hide=\"Hide\">Show solution</a><div class=\"jupman-sol jupman-sol-code\" style=\"display:none\">  "
   ]
  },
  {
   "cell_type": "code",
   "execution_count": 23,
   "metadata": {},
   "outputs": [],
   "source": [
    "def extrowc(mat, i):\n",
    "    \n",
    "    return [x for x in mat[i]]\n",
    "    \n",
    "    \n",
    "m = [\n",
    "      ['a','b'],\n",
    "      ['c','d'],\n",
    "      ['a','e'],    \n",
    "]\n",
    "\n",
    "assert extrowc(m, 0) == ['a','b']\n",
    "assert extrowc(m, 1) == ['c','d']\n",
    "assert extrowc(m, 2) == ['a','e']\n",
    "\n",
    "# check it didn't change the original matrix !\n",
    "r = extrowc(m, 0)\n",
    "r[0] = 'z'\n",
    "assert m[0][0] == 'a'   \n",
    "\n",
    "#jupman.pytut()"
   ]
  },
  {
   "cell_type": "raw",
   "id": "direct-trick",
   "metadata": {
    "format": "text/html"
   },
   "source": [
    "</div>"
   ]
  },
  {
   "cell_type": "code",
   "execution_count": 23,
   "metadata": {},
   "outputs": [],
   "source": [
    "def extrowc(mat, i):\n",
    "    raise Exception('TODO IMPLEMENT ME !')\n",
    "    \n",
    "m = [\n",
    "      ['a','b'],\n",
    "      ['c','d'],\n",
    "      ['a','e'],    \n",
    "]\n",
    "\n",
    "assert extrowc(m, 0) == ['a','b']\n",
    "assert extrowc(m, 1) == ['c','d']\n",
    "assert extrowc(m, 2) == ['a','e']\n",
    "\n",
    "# check it didn't change the original matrix !\n",
    "r = extrowc(m, 0)\n",
    "r[0] = 'z'\n",
    "assert m[0][0] == 'a'   \n",
    "\n",
    "#jupman.pytut()"
   ]
  },
  {
   "cell_type": "markdown",
   "metadata": {},
   "source": [
    "### Extract column with a `for`\n",
    "\n",
    "✪✪ Now try extracting a column at `j`th position. This time we will be forced to create a new list, so we don't  have to wonder if we need to return a pointer or a copy.\n",
    "\n",
    "Implement `extcolf`, which RETURN the `j`-th column from `mat`. To create it, use a `for` loop."
   ]
  },
  {
   "cell_type": "raw",
   "id": "loving-bryan",
   "metadata": {
    "format": "text/html"
   },
   "source": [
    "<a  class=\"jupman-sol jupman-sol-toggler\" \n",
    " onclick=\"jupman.toggleSolution(this);\" \n",
    " data-jupman-show=\"Show solution\" data-jupman-hide=\"Hide\">Show solution</a><div class=\"jupman-sol jupman-sol-code\" style=\"display:none\">  "
   ]
  },
  {
   "cell_type": "code",
   "execution_count": 24,
   "metadata": {},
   "outputs": [],
   "source": [
    "def extcolf(mat, j):        \n",
    "    \n",
    "    ret = []\n",
    "    for row in mat: \n",
    "        ret.append(row[j])\n",
    "    return ret\n",
    "    \n",
    "\n",
    "m = [\n",
    "      ['a','b'],\n",
    "      ['c','d'],\n",
    "      ['a','e'],    \n",
    "]\n",
    "\n",
    "assert extcolf(m, 0) == ['a','c','a']\n",
    "assert extcolf(m, 1) == ['b','d','e']\n",
    "\n",
    "# check returned column does not modify m\n",
    "c = extcolf(m,0)\n",
    "c[0] = 'z'\n",
    "assert m[0][0] == 'a'\n",
    "\n",
    "#jupman.pytut()"
   ]
  },
  {
   "cell_type": "raw",
   "id": "french-rebate",
   "metadata": {
    "format": "text/html"
   },
   "source": [
    "</div>"
   ]
  },
  {
   "cell_type": "code",
   "execution_count": 24,
   "metadata": {},
   "outputs": [],
   "source": [
    "def extcolf(mat, j):        \n",
    "    raise Exception('TODO IMPLEMENT ME !')\n",
    "\n",
    "m = [\n",
    "      ['a','b'],\n",
    "      ['c','d'],\n",
    "      ['a','e'],    \n",
    "]\n",
    "\n",
    "assert extcolf(m, 0) == ['a','c','a']\n",
    "assert extcolf(m, 1) == ['b','d','e']\n",
    "\n",
    "# check returned column does not modify m\n",
    "c = extcolf(m,0)\n",
    "c[0] = 'z'\n",
    "assert m[0][0] == 'a'\n",
    "\n",
    "#jupman.pytut()"
   ]
  },
  {
   "cell_type": "markdown",
   "metadata": {},
   "source": [
    "### Extract column with a list comprehension\n",
    "\n",
    "✪✪ Implement `extcolc`, which RETURNS the `j`-th column from `mat`: to create it, use a list comprehension."
   ]
  },
  {
   "cell_type": "raw",
   "id": "great-creature",
   "metadata": {
    "format": "text/html"
   },
   "source": [
    "<a  class=\"jupman-sol jupman-sol-toggler\" \n",
    " onclick=\"jupman.toggleSolution(this);\" \n",
    " data-jupman-show=\"Show solution\" data-jupman-hide=\"Hide\">Show solution</a><div class=\"jupman-sol jupman-sol-code\" style=\"display:none\">  "
   ]
  },
  {
   "cell_type": "code",
   "execution_count": 25,
   "metadata": {},
   "outputs": [],
   "source": [
    "def extcolc(mat, j):        \n",
    "    \n",
    "    return [row[j] for row in mat] \n",
    "    \n",
    "\n",
    "m = [\n",
    "      ['a','b'],\n",
    "      ['c','d'],\n",
    "      ['a','e'],    \n",
    "]\n",
    "\n",
    "assert extcolc(m, 0) == ['a','c','a']\n",
    "assert extcolc(m, 1) == ['b','d','e']\n",
    "\n",
    "# check returned column does not modify m\n",
    "c = extcolc(m,0)\n",
    "c[0] = 'z'\n",
    "assert m[0][0] == 'a'\n",
    "\n",
    "#jupman.pytut()"
   ]
  },
  {
   "cell_type": "raw",
   "id": "noble-adult",
   "metadata": {
    "format": "text/html"
   },
   "source": [
    "</div>"
   ]
  },
  {
   "cell_type": "code",
   "execution_count": 25,
   "metadata": {},
   "outputs": [],
   "source": [
    "def extcolc(mat, j):        \n",
    "    raise Exception('TODO IMPLEMENT ME !')\n",
    "\n",
    "m = [\n",
    "      ['a','b'],\n",
    "      ['c','d'],\n",
    "      ['a','e'],    \n",
    "]\n",
    "\n",
    "assert extcolc(m, 0) == ['a','c','a']\n",
    "assert extcolc(m, 1) == ['b','d','e']\n",
    "\n",
    "# check returned column does not modify m\n",
    "c = extcolc(m,0)\n",
    "c[0] = 'z'\n",
    "assert m[0][0] == 'a'\n",
    "\n",
    "#jupman.pytut()"
   ]
  },
  {
   "cell_type": "markdown",
   "metadata": {},
   "source": [
    "## Creating new matrices"
   ]
  },
  {
   "cell_type": "markdown",
   "metadata": {},
   "source": [
    "### empty matrix\n",
    "\n",
    "✪✪ There are several ways to create a new empty 3x5 matrix as lists of lists which contains zeros.\n",
    "\n",
    "Implement `empty_matrix`, which RETURN a NEW matrix nxn as a list of lists filled with zeroes\n",
    "\n",
    "* use two nested `for` cycles:"
   ]
  },
  {
   "cell_type": "raw",
   "id": "british-beijing",
   "metadata": {
    "format": "text/html"
   },
   "source": [
    "<a  class=\"jupman-sol jupman-sol-toggler\" \n",
    " onclick=\"jupman.toggleSolution(this);\" \n",
    " data-jupman-show=\"Show solution\" data-jupman-hide=\"Hide\">Show solution</a><div class=\"jupman-sol jupman-sol-code\" style=\"display:none\">  "
   ]
  },
  {
   "cell_type": "code",
   "execution_count": 26,
   "metadata": {},
   "outputs": [],
   "source": [
    "def empty_matrix(n, m):\n",
    "    \n",
    "    ret = []\n",
    "    for i in range(n):\n",
    "        row = []\n",
    "        ret.append(row)\n",
    "        for j in range(m):\n",
    "            row.append(0)\n",
    "    return ret\n",
    "    \n",
    "\n",
    "assert empty_matrix(1,1) == [[0]]\n",
    "\n",
    "assert empty_matrix(1,2) == [ [0,0] ]\n",
    "\n",
    "assert empty_matrix(2,1) == [ [0],\n",
    "                              [0] ]\n",
    "\n",
    "assert empty_matrix(2,2) == [ [0,0],\n",
    "                              [0,0] ]\n",
    "\n",
    "assert empty_matrix(3,3) == [ [0,0,0], \n",
    "                              [0,0,0],\n",
    "                              [0,0,0] ]"
   ]
  },
  {
   "cell_type": "raw",
   "id": "forbidden-match",
   "metadata": {
    "format": "text/html"
   },
   "source": [
    "</div>"
   ]
  },
  {
   "cell_type": "code",
   "execution_count": 26,
   "metadata": {},
   "outputs": [],
   "source": [
    "def empty_matrix(n, m):\n",
    "    raise Exception('TODO IMPLEMENT ME !')\n",
    "\n",
    "assert empty_matrix(1,1) == [[0]]\n",
    "\n",
    "assert empty_matrix(1,2) == [ [0,0] ]\n",
    "\n",
    "assert empty_matrix(2,1) == [ [0],\n",
    "                              [0] ]\n",
    "\n",
    "assert empty_matrix(2,2) == [ [0,0],\n",
    "                              [0,0] ]\n",
    "\n",
    "assert empty_matrix(3,3) == [ [0,0,0], \n",
    "                              [0,0,0],\n",
    "                              [0,0,0] ]"
   ]
  },
  {
   "cell_type": "markdown",
   "metadata": {},
   "source": [
    "### `empty_matrix` the elegant way"
   ]
  },
  {
   "cell_type": "markdown",
   "metadata": {},
   "source": [
    "To create a new list of 3 elements filled with zeros, you can write like this:"
   ]
  },
  {
   "cell_type": "code",
   "execution_count": 27,
   "metadata": {},
   "outputs": [
    {
     "data": {
      "text/plain": [
       "[0, 0, 0]"
      ]
     },
     "execution_count": 27,
     "metadata": {},
     "output_type": "execute_result"
    }
   ],
   "source": [
    "[0]*3"
   ]
  },
  {
   "cell_type": "markdown",
   "metadata": {},
   "source": [
    "The `*` is kind of multiplying the elements in a list"
   ]
  },
  {
   "cell_type": "markdown",
   "metadata": {},
   "source": [
    "Given the above, to create a 5x3 matrix  filled with zeros, which is a list of seemingly equal lists, you might then be tempted to write like this:"
   ]
  },
  {
   "cell_type": "code",
   "execution_count": 28,
   "metadata": {},
   "outputs": [
    {
     "data": {
      "text/plain": [
       "[[0, 0, 0], [0, 0, 0], [0, 0, 0], [0, 0, 0], [0, 0, 0]]"
      ]
     },
     "execution_count": 28,
     "metadata": {},
     "output_type": "execute_result"
    }
   ],
   "source": [
    "# WRONG\n",
    "[[0]*3]*5"
   ]
  },
  {
   "cell_type": "markdown",
   "metadata": {},
   "source": [
    "Why is that (possibly) wrong? Let's try to inspect it in Python Tutor: "
   ]
  },
  {
   "cell_type": "code",
   "execution_count": 29,
   "metadata": {},
   "outputs": [
    {
     "data": {
      "text/html": [
       "\n",
       "        <script src=\"../_static/js/pytutor-embed.bundle.min.js\" type=\"application/javascript\"></script>\n",
       "     \n",
       "        <script id=\"json-jm6ff78c1e-60bf-4e32-8888-9ea6f04bacb9\" type=\"application/json\" >\n",
       "            {\"code\": \" \\nbad = [[0]*3]*5\", \"trace\": [{\"stack_to_render\": [], \"globals\": {}, \"stdout\": \"\", \"func_name\": \"<module>\", \"event\": \"step_line\", \"ordered_globals\": [], \"heap\": {}, \"line\": 2}, {\"stack_to_render\": [], \"globals\": {\"bad\": [\"REF\", 1]}, \"stdout\": \"\", \"func_name\": \"<module>\", \"event\": \"return\", \"ordered_globals\": [\"bad\"], \"heap\": {\"1\": [\"LIST\", [\"REF\", 2], [\"REF\", 2], [\"REF\", 2], [\"REF\", 2], [\"REF\", 2]], \"2\": [\"LIST\", 0, 0, 0]}, \"line\": 2}]}\n",
       "        </script>\n",
       "        <div id=\"jm6ff78c1e-60bf-4e32-8888-9ea6f04bacb9\" class=\"pytutorVisualizer\"> </div>\n",
       " \n",
       "        <style>\n",
       "        .vizLayoutTd {\n",
       "            background-color: #fff !important;\n",
       "        }\n",
       "\n",
       "        #pyStdout {            \n",
       "            min-height:25px;\n",
       "        }\n",
       "\n",
       "        /* 'Edit this code' link, hiding because replaces browser tab !!!*/\n",
       "        #editCodeLinkDiv {\n",
       "            display:none;  \n",
       "        }\n",
       "        </style>   \n",
       "                            \n",
       "        <script>\n",
       "        (function(){\n",
       "\n",
       "            var trace = JSON.parse(document.getElementById('json-jm6ff78c1e-60bf-4e32-8888-9ea6f04bacb9').innerHTML);                                        \n",
       "            // NOTE 1: id without #\n",
       "            // NOTE 2 - maybe there are more predictable ways, but this will work anyway\n",
       "            //        - id should be number\n",
       "            visualizerIdOverride = Math.trunc(Math.random() * 100000000000)\n",
       "            addVisualizerToPage(trace, 'jm6ff78c1e-60bf-4e32-8888-9ea6f04bacb9',{'embeddedMode' : false,\n",
       "                                             'visualizerIdOverride':visualizerIdOverride})  \n",
       "            \n",
       "            \n",
       "            // set overflow for pytuts - need to do in python as css \n",
       "            // does not allow parent selection\n",
       "            var pytuts = $('.pytutorVisualizer')\n",
       "            pytuts.closest('div.output_html.rendered_html.output_result')\n",
       "                    .css('overflow-x', 'visible')\n",
       "        \n",
       "            //pytuts.closest('div.output_html.rendered_html.output_result')\n",
       "            //      .css('background-color','red')                \n",
       "            \n",
       "        })()\n",
       "        </script>\n",
       "                \n",
       "                "
      ],
      "text/plain": [
       "<IPython.core.display.HTML object>"
      ]
     },
     "execution_count": 29,
     "metadata": {},
     "output_type": "execute_result"
    }
   ],
   "source": [
    "bad = [[0]*3]*5\n",
    "jupman.pytut()"
   ]
  },
  {
   "cell_type": "markdown",
   "metadata": {},
   "source": [
    "If you look closely, you will see many arrows pointing to the same list of 3 zeros. This means that if we change one number, we will apparently change 5 of them in the whole column !\n",
    "\n",
    "The right way to create a matrix as list of lists with zeroes is the following:"
   ]
  },
  {
   "cell_type": "code",
   "execution_count": 30,
   "metadata": {},
   "outputs": [
    {
     "data": {
      "text/plain": [
       "[[0, 0, 0], [0, 0, 0], [0, 0, 0], [0, 0, 0], [0, 0, 0]]"
      ]
     },
     "execution_count": 30,
     "metadata": {},
     "output_type": "execute_result"
    }
   ],
   "source": [
    "# CORRECT \n",
    "[[0]*3 for i in range(5)]"
   ]
  },
  {
   "cell_type": "markdown",
   "metadata": {},
   "source": [
    "**EXERCISE**: Try creating a matrix with 7 rows and 4 columns and fill it with 5."
   ]
  },
  {
   "cell_type": "raw",
   "id": "better-checkout",
   "metadata": {
    "format": "text/html"
   },
   "source": [
    "<a  class=\"jupman-sol jupman-sol-toggler\" \n",
    " onclick=\"jupman.toggleSolution(this);\" \n",
    " data-jupman-show=\"Show solution\" data-jupman-hide=\"Hide\">Show solution</a><div class=\"jupman-sol jupman-sol-code\" style=\"display:none\">  "
   ]
  },
  {
   "cell_type": "code",
   "execution_count": 31,
   "metadata": {},
   "outputs": [
    {
     "data": {
      "text/plain": [
       "[[5, 5, 5, 5],\n",
       " [5, 5, 5, 5],\n",
       " [5, 5, 5, 5],\n",
       " [5, 5, 5, 5],\n",
       " [5, 5, 5, 5],\n",
       " [5, 5, 5, 5],\n",
       " [5, 5, 5, 5]]"
      ]
     },
     "execution_count": 31,
     "metadata": {},
     "output_type": "execute_result"
    }
   ],
   "source": [
    "# write here\n",
    "\n",
    "[[5]*4 for i in range(7)]"
   ]
  },
  {
   "cell_type": "raw",
   "id": "macro-spectacular",
   "metadata": {
    "format": "text/html"
   },
   "source": [
    "</div>"
   ]
  },
  {
   "cell_type": "code",
   "execution_count": 31,
   "metadata": {},
   "outputs": [
    {
     "data": {
      "text/plain": [
       "[[5, 5, 5, 5],\n",
       " [5, 5, 5, 5],\n",
       " [5, 5, 5, 5],\n",
       " [5, 5, 5, 5],\n",
       " [5, 5, 5, 5],\n",
       " [5, 5, 5, 5],\n",
       " [5, 5, 5, 5]]"
      ]
     },
     "execution_count": 31,
     "metadata": {},
     "output_type": "execute_result"
    }
   ],
   "source": [
    "# write here\n",
    "\n"
   ]
  },
  {
   "cell_type": "markdown",
   "metadata": {},
   "source": [
    "### deep_clone\n",
    "\n",
    "✪✪ Let's try to produce a _complete_ clone of the matrix, also called a _deep clone_, by creating a copy of the external list _and_ also the internal lists representing the rows.\n",
    "\n",
    "**QUESTION**: You might be tempted to write code like this, but it will not work. Why?"
   ]
  },
  {
   "cell_type": "code",
   "execution_count": 32,
   "metadata": {},
   "outputs": [
    {
     "data": {
      "text/html": [
       "\n",
       "        <script src=\"../_static/js/pytutor-embed.bundle.min.js\" type=\"application/javascript\"></script>\n",
       "     \n",
       "        <script id=\"json-jmfeca4fd9-805a-4423-ada6-c1e4e14f2369\" type=\"application/json\" >\n",
       "            {\"code\": \" \\n# WARNING: WRONG CODE\\ndef deep_clone_wrong(mat):\\n    \\\"\\\"\\\" RETURN a NEW list of lists which is a COMPLETE DEEP clone\\n        of mat (which is a list of lists)\\n    \\\"\\\"\\\"\\n    return mat[:]\\n\\nm = [\\n        ['a','b'],\\n        ['b','d']\\n    ]       \\n        \\nres = deep_clone_wrong(m)\\n\\n# Notice you will have arrows in res list going to the _original_ mat. We don't want this !\", \"trace\": [{\"stack_to_render\": [], \"globals\": {}, \"stdout\": \"\", \"func_name\": \"<module>\", \"event\": \"step_line\", \"ordered_globals\": [], \"heap\": {}, \"line\": 3}, {\"stack_to_render\": [], \"globals\": {\"deep_clone_wrong\": [\"REF\", 1]}, \"stdout\": \"\", \"func_name\": \"<module>\", \"event\": \"step_line\", \"ordered_globals\": [\"deep_clone_wrong\"], \"heap\": {\"1\": [\"FUNCTION\", \"deep_clone_wrong(mat)\", null]}, \"line\": 10}, {\"stack_to_render\": [], \"globals\": {\"deep_clone_wrong\": [\"REF\", 1]}, \"stdout\": \"\", \"func_name\": \"<module>\", \"event\": \"step_line\", \"ordered_globals\": [\"deep_clone_wrong\"], \"heap\": {\"1\": [\"FUNCTION\", \"deep_clone_wrong(mat)\", null]}, \"line\": 11}, {\"stack_to_render\": [], \"globals\": {\"m\": [\"REF\", 2], \"deep_clone_wrong\": [\"REF\", 1]}, \"stdout\": \"\", \"func_name\": \"<module>\", \"event\": \"step_line\", \"ordered_globals\": [\"deep_clone_wrong\", \"m\"], \"heap\": {\"1\": [\"FUNCTION\", \"deep_clone_wrong(mat)\", null], \"2\": [\"LIST\", [\"REF\", 3], [\"REF\", 4]], \"3\": [\"LIST\", \"a\", \"b\"], \"4\": [\"LIST\", \"b\", \"d\"]}, \"line\": 14}, {\"stack_to_render\": [{\"frame_id\": 1, \"is_parent\": false, \"parent_frame_id_list\": [], \"unique_hash\": \"deep_clone_wrong_f1\", \"ordered_varnames\": [\"mat\"], \"is_highlighted\": true, \"encoded_locals\": {\"mat\": [\"REF\", 2]}, \"is_zombie\": false, \"func_name\": \"deep_clone_wrong\"}], \"globals\": {\"m\": [\"REF\", 2], \"deep_clone_wrong\": [\"REF\", 1]}, \"stdout\": \"\", \"func_name\": \"deep_clone_wrong\", \"event\": \"call\", \"ordered_globals\": [\"deep_clone_wrong\", \"m\"], \"heap\": {\"1\": [\"FUNCTION\", \"deep_clone_wrong(mat)\", null], \"2\": [\"LIST\", [\"REF\", 3], [\"REF\", 4]], \"3\": [\"LIST\", \"a\", \"b\"], \"4\": [\"LIST\", \"b\", \"d\"]}, \"line\": 3}, {\"stack_to_render\": [{\"frame_id\": 1, \"is_parent\": false, \"parent_frame_id_list\": [], \"unique_hash\": \"deep_clone_wrong_f1\", \"ordered_varnames\": [\"mat\"], \"is_highlighted\": true, \"encoded_locals\": {\"mat\": [\"REF\", 2]}, \"is_zombie\": false, \"func_name\": \"deep_clone_wrong\"}], \"globals\": {\"m\": [\"REF\", 2], \"deep_clone_wrong\": [\"REF\", 1]}, \"stdout\": \"\", \"func_name\": \"deep_clone_wrong\", \"event\": \"step_line\", \"ordered_globals\": [\"deep_clone_wrong\", \"m\"], \"heap\": {\"1\": [\"FUNCTION\", \"deep_clone_wrong(mat)\", null], \"2\": [\"LIST\", [\"REF\", 3], [\"REF\", 4]], \"3\": [\"LIST\", \"a\", \"b\"], \"4\": [\"LIST\", \"b\", \"d\"]}, \"line\": 7}, {\"stack_to_render\": [{\"frame_id\": 1, \"is_parent\": false, \"parent_frame_id_list\": [], \"unique_hash\": \"deep_clone_wrong_f1\", \"ordered_varnames\": [\"mat\", \"__return__\"], \"is_highlighted\": true, \"encoded_locals\": {\"mat\": [\"REF\", 2], \"__return__\": [\"REF\", 5]}, \"is_zombie\": false, \"func_name\": \"deep_clone_wrong\"}], \"globals\": {\"m\": [\"REF\", 2], \"deep_clone_wrong\": [\"REF\", 1]}, \"stdout\": \"\", \"func_name\": \"deep_clone_wrong\", \"event\": \"return\", \"ordered_globals\": [\"deep_clone_wrong\", \"m\"], \"heap\": {\"1\": [\"FUNCTION\", \"deep_clone_wrong(mat)\", null], \"2\": [\"LIST\", [\"REF\", 3], [\"REF\", 4]], \"3\": [\"LIST\", \"a\", \"b\"], \"4\": [\"LIST\", \"b\", \"d\"], \"5\": [\"LIST\", [\"REF\", 3], [\"REF\", 4]]}, \"line\": 7}, {\"stack_to_render\": [], \"globals\": {\"m\": [\"REF\", 2], \"res\": [\"REF\", 5], \"deep_clone_wrong\": [\"REF\", 1]}, \"stdout\": \"\", \"func_name\": \"<module>\", \"event\": \"return\", \"ordered_globals\": [\"deep_clone_wrong\", \"m\", \"res\"], \"heap\": {\"1\": [\"FUNCTION\", \"deep_clone_wrong(mat)\", null], \"2\": [\"LIST\", [\"REF\", 3], [\"REF\", 4]], \"3\": [\"LIST\", \"a\", \"b\"], \"4\": [\"LIST\", \"b\", \"d\"], \"5\": [\"LIST\", [\"REF\", 3], [\"REF\", 4]]}, \"line\": 14}]}\n",
       "        </script>\n",
       "        <div id=\"jmfeca4fd9-805a-4423-ada6-c1e4e14f2369\" class=\"pytutorVisualizer\"> </div>\n",
       " \n",
       "        <style>\n",
       "        .vizLayoutTd {\n",
       "            background-color: #fff !important;\n",
       "        }\n",
       "\n",
       "        #pyStdout {            \n",
       "            min-height:25px;\n",
       "        }\n",
       "\n",
       "        /* 'Edit this code' link, hiding because replaces browser tab !!!*/\n",
       "        #editCodeLinkDiv {\n",
       "            display:none;  \n",
       "        }\n",
       "        </style>   \n",
       "                            \n",
       "        <script>\n",
       "        (function(){\n",
       "\n",
       "            var trace = JSON.parse(document.getElementById('json-jmfeca4fd9-805a-4423-ada6-c1e4e14f2369').innerHTML);                                        \n",
       "            // NOTE 1: id without #\n",
       "            // NOTE 2 - maybe there are more predictable ways, but this will work anyway\n",
       "            //        - id should be number\n",
       "            visualizerIdOverride = Math.trunc(Math.random() * 100000000000)\n",
       "            addVisualizerToPage(trace, 'jmfeca4fd9-805a-4423-ada6-c1e4e14f2369',{'embeddedMode' : false,\n",
       "                                             'visualizerIdOverride':visualizerIdOverride})  \n",
       "            \n",
       "            \n",
       "            // set overflow for pytuts - need to do in python as css \n",
       "            // does not allow parent selection\n",
       "            var pytuts = $('.pytutorVisualizer')\n",
       "            pytuts.closest('div.output_html.rendered_html.output_result')\n",
       "                    .css('overflow-x', 'visible')\n",
       "        \n",
       "            //pytuts.closest('div.output_html.rendered_html.output_result')\n",
       "            //      .css('background-color','red')                \n",
       "            \n",
       "        })()\n",
       "        </script>\n",
       "                \n",
       "                "
      ],
      "text/plain": [
       "<IPython.core.display.HTML object>"
      ]
     },
     "execution_count": 32,
     "metadata": {},
     "output_type": "execute_result"
    }
   ],
   "source": [
    "\n",
    "# WARNING: WRONG CODE\n",
    "def deep_clone_wrong(mat):\n",
    "    \"\"\" RETURN a NEW list of lists which is a COMPLETE DEEP clone\n",
    "        of mat (which is a list of lists)\n",
    "    \"\"\"\n",
    "    return mat[:]\n",
    "\n",
    "m = [\n",
    "        ['a','b'],\n",
    "        ['b','d']\n",
    "    ]       \n",
    "        \n",
    "res = deep_clone_wrong(m)\n",
    "\n",
    "# Notice you will have arrows in res list going to the _original_ mat. We don't want this !\n",
    "jupman.pytut()"
   ]
  },
  {
   "cell_type": "raw",
   "id": "after-litigation",
   "metadata": {
    "format": "text/html"
   },
   "source": [
    "<a  class=\"jupman-sol jupman-sol-toggler\" \n",
    " onclick=\"jupman.toggleSolution(this);\" \n",
    " data-jupman-show=\"Show answer\" data-jupman-hide=\"Hide\">Show answer</a><div class=\"jupman-sol jupman-sol-question\" style=\"display:none\">  "
   ]
  },
  {
   "cell_type": "markdown",
   "metadata": {},
   "source": [
    "**ANSWER**: `return mat[:]` is not sufficient, because\n",
    "it's a SHALLOW clone, and only copies the _external_ list\n",
    "                and not also the internal ones !  Note you will have rows in the `res` list which goes to the original matrix. We don't want this!"
   ]
  },
  {
   "cell_type": "raw",
   "id": "sexual-young",
   "metadata": {
    "format": "text/html"
   },
   "source": [
    "</div>"
   ]
  },
  {
   "cell_type": "markdown",
   "metadata": {},
   "source": [
    "To fix the above code, you will need to iterate through the rows and _for each_ row create a copy of that row."
   ]
  },
  {
   "cell_type": "markdown",
   "metadata": {},
   "source": [
    "✪✪ **EXERCISE**: Implement `deep_clone`, which RETURNS a NEW list as a complete DEEP CLONE of `mat` (which is a list of lists)"
   ]
  },
  {
   "cell_type": "raw",
   "id": "bright-charlotte",
   "metadata": {
    "format": "text/html"
   },
   "source": [
    "<a  class=\"jupman-sol jupman-sol-toggler\" \n",
    " onclick=\"jupman.toggleSolution(this);\" \n",
    " data-jupman-show=\"Show solution\" data-jupman-hide=\"Hide\">Show solution</a><div class=\"jupman-sol jupman-sol-code\" style=\"display:none\">  "
   ]
  },
  {
   "cell_type": "code",
   "execution_count": 33,
   "metadata": {},
   "outputs": [],
   "source": [
    "\n",
    "def deep_clone(mat):\n",
    "    \n",
    "    \n",
    "    ret = []\n",
    "    for row in mat:\n",
    "        ret.append(row[:])\n",
    "    return ret\n",
    "    \n",
    "\n",
    "m = [ ['a','b'],\n",
    "      ['b','d'] ]\n",
    "\n",
    "res = [ ['a','b'],\n",
    "        ['b','d'] ]\n",
    "\n",
    "# verify the copy\n",
    "c = deep_clone(m)\n",
    "assert c == res\n",
    "\n",
    "# verify it is a DEEP copy (that is, it created also clones of the rows!)\n",
    "c[0][0] = 'z'\n",
    "assert m[0][0] == 'a'"
   ]
  },
  {
   "cell_type": "raw",
   "id": "stainless-manual",
   "metadata": {
    "format": "text/html"
   },
   "source": [
    "</div>"
   ]
  },
  {
   "cell_type": "code",
   "execution_count": 33,
   "metadata": {},
   "outputs": [],
   "source": [
    "\n",
    "def deep_clone(mat):\n",
    "    raise Exception('TODO IMPLEMENT ME !')\n",
    "\n",
    "m = [ ['a','b'],\n",
    "      ['b','d'] ]\n",
    "\n",
    "res = [ ['a','b'],\n",
    "        ['b','d'] ]\n",
    "\n",
    "# verify the copy\n",
    "c = deep_clone(m)\n",
    "assert c == res\n",
    "\n",
    "# verify it is a DEEP copy (that is, it created also clones of the rows!)\n",
    "c[0][0] = 'z'\n",
    "assert m[0][0] == 'a'"
   ]
  },
  {
   "cell_type": "markdown",
   "metadata": {},
   "source": [
    "## Modifying matrices"
   ]
  },
  {
   "cell_type": "markdown",
   "metadata": {},
   "source": [
    "### fillc\n",
    "\n",
    "✪✪ Implement the function `fillc` which takes as input `mat` (a list of lists with dimension `nrows` x `ncol`) and MODIFIES it by placing the character `c` inside all the matrix cells.\n",
    "\n",
    "* to visit the matrix use for in range cycles\n",
    "\n",
    "Ingredients:\n",
    "\n",
    "* find matrix dimension\n",
    "* two nested fors\n",
    "* use range"
   ]
  },
  {
   "cell_type": "markdown",
   "metadata": {},
   "source": [
    "<div class=\"alert alert-info\">\n",
    "\n",
    "**NOTE: This function returns nothing!**\n",
    "    \n",
    "If in the function text it is not mentioned to return values, DO NOT place the `return`. If by chance you put it anyway it is not the world's end, but to avoid confusion is much better having a behaviour consistent with the text.\n",
    "</div>"
   ]
  },
  {
   "cell_type": "raw",
   "id": "regulation-cookbook",
   "metadata": {
    "format": "text/html"
   },
   "source": [
    "<a  class=\"jupman-sol jupman-sol-toggler\" \n",
    " onclick=\"jupman.toggleSolution(this);\" \n",
    " data-jupman-show=\"Show solution\" data-jupman-hide=\"Hide\">Show solution</a><div class=\"jupman-sol jupman-sol-code\" style=\"display:none\">  "
   ]
  },
  {
   "cell_type": "code",
   "execution_count": 34,
   "metadata": {},
   "outputs": [],
   "source": [
    "def fillc(mat, c):\n",
    "    \n",
    "    nrows = len(mat)\n",
    "    ncols = len(mat[0])\n",
    "\n",
    "    for i in range(nrows):\n",
    "        for j in range(ncols):\n",
    "            mat[i][j] = c\n",
    "    \n",
    "\n",
    "m1 = [ ['a'] ]\n",
    "m2 = [ ['z'] ]\n",
    "fillc(m1,'z')\n",
    "assert m1 == m2\n",
    "\n",
    "m3 = [ ['a'] ]\n",
    "m4 = [ ['y'] ]\n",
    "fillc(m3,'y')\n",
    "assert m3 == m4\n",
    "\n",
    "m5 = [ ['a','b'] ]\n",
    "m6 = [ ['z','z'] ]\n",
    "fillc(m5,'z')\n",
    "assert m5 == m6\n",
    "\n",
    "m7 = [ ['a','b','c'],\n",
    "       ['d','e','f'],\n",
    "       ['g','h','i'] ]\n",
    "\n",
    "m8 = [ ['y','y','y'],\n",
    "       ['y','y','y'],\n",
    "       ['y','y','y'] ]\n",
    "fillc(m7,'y')\n",
    "assert m7 == m8\n",
    "\n",
    "#     j  0   1\n",
    "m9 = [ ['a','b'],    # 0\n",
    "       ['c','d'],    # 1\n",
    "       ['e','f'] ]   # 2\n",
    "\n",
    "m10 = [ ['x','x'],    # 0\n",
    "        ['x','x'],    # 1\n",
    "        ['x','x'] ]   # 2\n",
    "fillc(m9, 'x')\n",
    "assert m9 == m10"
   ]
  },
  {
   "cell_type": "raw",
   "id": "disabled-simon",
   "metadata": {
    "format": "text/html"
   },
   "source": [
    "</div>"
   ]
  },
  {
   "cell_type": "code",
   "execution_count": 34,
   "metadata": {},
   "outputs": [],
   "source": [
    "def fillc(mat, c):\n",
    "    raise Exception('TODO IMPLEMENT ME !')\n",
    "\n",
    "m1 = [ ['a'] ]\n",
    "m2 = [ ['z'] ]\n",
    "fillc(m1,'z')\n",
    "assert m1 == m2\n",
    "\n",
    "m3 = [ ['a'] ]\n",
    "m4 = [ ['y'] ]\n",
    "fillc(m3,'y')\n",
    "assert m3 == m4\n",
    "\n",
    "m5 = [ ['a','b'] ]\n",
    "m6 = [ ['z','z'] ]\n",
    "fillc(m5,'z')\n",
    "assert m5 == m6\n",
    "\n",
    "m7 = [ ['a','b','c'],\n",
    "       ['d','e','f'],\n",
    "       ['g','h','i'] ]\n",
    "\n",
    "m8 = [ ['y','y','y'],\n",
    "       ['y','y','y'],\n",
    "       ['y','y','y'] ]\n",
    "fillc(m7,'y')\n",
    "assert m7 == m8\n",
    "\n",
    "#     j  0   1\n",
    "m9 = [ ['a','b'],    # 0\n",
    "       ['c','d'],    # 1\n",
    "       ['e','f'] ]   # 2\n",
    "\n",
    "m10 = [ ['x','x'],    # 0\n",
    "        ['x','x'],    # 1\n",
    "        ['x','x'] ]   # 2\n",
    "fillc(m9, 'x')\n",
    "assert m9 == m10"
   ]
  },
  {
   "cell_type": "markdown",
   "metadata": {},
   "source": [
    "### fillx\n",
    "\n",
    "✪✪ Takes a matrix mat as list of lists and a column index `j`, and MODIFIES `mat` by placing the `'x'` character in all cells of the `j`-th column.\n",
    "\n",
    "Example: \n",
    "\n",
    "```\n",
    "m = [\n",
    "      ['a','b','c','d'],\n",
    "      ['e','f','g','h'],\n",
    "      ['i','l','m','n']\n",
    "    ]\n",
    "```\n",
    "\n",
    "After the call to\n",
    "\n",
    "```python\n",
    "fillx(m,2)\n",
    "```\n",
    "\n",
    "the matrix `m` will be changed like this:\n",
    "\n",
    "```python\n",
    ">>> print(m)\n",
    "\n",
    "[\n",
    "    ['a','b','x','d'],\n",
    "    ['e','f','x','h'],\n",
    "    ['i','l','x','n']\n",
    "]\n",
    "```\n",
    "\n"
   ]
  },
  {
   "cell_type": "raw",
   "id": "funded-salon",
   "metadata": {
    "format": "text/html"
   },
   "source": [
    "<a  class=\"jupman-sol jupman-sol-toggler\" \n",
    " onclick=\"jupman.toggleSolution(this);\" \n",
    " data-jupman-show=\"Show solution\" data-jupman-hide=\"Hide\">Show solution</a><div class=\"jupman-sol jupman-sol-code\" style=\"display:none\">  "
   ]
  },
  {
   "cell_type": "code",
   "execution_count": 35,
   "metadata": {},
   "outputs": [],
   "source": [
    "def fillx(mat, j):\n",
    "    \n",
    "    for row in mat:\n",
    "        row[j] = 'x'\n",
    "    \n",
    "\n",
    "\n",
    "m1 = [ ['a'] ]\n",
    "fillx(m1,0)\n",
    "assert m1 == [ ['x'] ]\n",
    "\n",
    "m2 = [ ['a','b'],\n",
    "       ['c','d'],\n",
    "       ['e','f'] ]\n",
    "fillx(m2,0)\n",
    "assert m2 == [ ['x','b'],\n",
    "               ['x','d'],\n",
    "               ['x','f'] ]\n",
    "\n",
    "m3 = [ ['a','b'],\n",
    "       ['c','d'],\n",
    "       ['e','f'] ]\n",
    "fillx(m3,1)\n",
    "assert m3 == [ ['a','x'],\n",
    "               ['c','x'],\n",
    "               ['e','x'] ]\n",
    "\n",
    "m4 = [ ['a','b','c','d'],\n",
    "       ['e','f','g','h'],\n",
    "       ['i','l','m','n'] ]\n",
    "fillx(m4,2)\n",
    "assert m4 == [ ['a','b','x','d'],\n",
    "               ['e','f','x','h'],\n",
    "               ['i','l','x','n'] ]    "
   ]
  },
  {
   "cell_type": "raw",
   "id": "efficient-launch",
   "metadata": {
    "format": "text/html"
   },
   "source": [
    "</div>"
   ]
  },
  {
   "cell_type": "code",
   "execution_count": 35,
   "metadata": {},
   "outputs": [],
   "source": [
    "def fillx(mat, j):\n",
    "    raise Exception('TODO IMPLEMENT ME !')\n",
    "\n",
    "\n",
    "m1 = [ ['a'] ]\n",
    "fillx(m1,0)\n",
    "assert m1 == [ ['x'] ]\n",
    "\n",
    "m2 = [ ['a','b'],\n",
    "       ['c','d'],\n",
    "       ['e','f'] ]\n",
    "fillx(m2,0)\n",
    "assert m2 == [ ['x','b'],\n",
    "               ['x','d'],\n",
    "               ['x','f'] ]\n",
    "\n",
    "m3 = [ ['a','b'],\n",
    "       ['c','d'],\n",
    "       ['e','f'] ]\n",
    "fillx(m3,1)\n",
    "assert m3 == [ ['a','x'],\n",
    "               ['c','x'],\n",
    "               ['e','x'] ]\n",
    "\n",
    "m4 = [ ['a','b','c','d'],\n",
    "       ['e','f','g','h'],\n",
    "       ['i','l','m','n'] ]\n",
    "fillx(m4,2)\n",
    "assert m4 == [ ['a','b','x','d'],\n",
    "               ['e','f','x','h'],\n",
    "               ['i','l','x','n'] ]    "
   ]
  },
  {
   "cell_type": "markdown",
   "metadata": {},
   "source": [
    "### fillz\n",
    "\n",
    "✪✪ Takes a matrix `mat` as list of lists and a row index `i`, and MODIFIES `mat` by placing the character `'z'` in all the cells of the `i`-th row.\n",
    "\n",
    "Example:\n",
    "\n",
    "```python\n",
    "m = [\n",
    "    ['a','b'],\n",
    "    ['c','d'],\n",
    "    ['e','f'],\n",
    "    ['g','h']\n",
    "]\n",
    "```\n",
    "\n",
    "After the call to\n",
    "\n",
    "```python\n",
    "fillz(m,2)\n",
    "```\n",
    "\n",
    "the matrix `m` will be changed like this:\n",
    "\n",
    "```python\n",
    ">>> print(m)\n",
    "\n",
    "[\n",
    "    ['a','b'],\n",
    "    ['c','d'],\n",
    "    ['z','z'],\n",
    "    ['g','h']\n",
    "]\n",
    "```\n"
   ]
  },
  {
   "cell_type": "raw",
   "id": "sunset-wheel",
   "metadata": {
    "format": "text/html"
   },
   "source": [
    "<a  class=\"jupman-sol jupman-sol-toggler\" \n",
    " onclick=\"jupman.toggleSolution(this);\" \n",
    " data-jupman-show=\"Show solution\" data-jupman-hide=\"Hide\">Show solution</a><div class=\"jupman-sol jupman-sol-code\" style=\"display:none\">  "
   ]
  },
  {
   "cell_type": "code",
   "execution_count": 36,
   "metadata": {},
   "outputs": [],
   "source": [
    "def fillz(mat, i):\n",
    "    \n",
    "    ncol=len(mat[0])\n",
    "    for j in range(ncol):\n",
    "        mat[i][j] = 'z'\n",
    "    \n",
    "\n",
    "\n",
    "m1 = [ ['a'] ]\n",
    "fillz(m1,0)\n",
    "assert m1 == [ ['z'] ]\n",
    "\n",
    "m2 = [ ['a','b'],\n",
    "       ['c','d'],\n",
    "       ['e','f'] ]\n",
    "fillz(m2,0)\n",
    "assert m2 == [ ['z','z'],\n",
    "               ['c','d'],\n",
    "               ['e','f'] ]\n",
    "\n",
    "m3 = [ ['a','b'],\n",
    "       ['c','d'],\n",
    "       ['e','f'] ]\n",
    "fillz(m3,1)\n",
    "assert m3 == [ ['a','b'],\n",
    "               ['z','z'],\n",
    "               ['e','f'] ]\n",
    "\n",
    "m4 = [ ['a','b'],\n",
    "       ['c','d'],\n",
    "       ['e','f'] ]\n",
    "fillz(m4,2)\n",
    "assert m4 == [ ['a','b'],\n",
    "               ['c','d'],\n",
    "               ['z','z'] ]"
   ]
  },
  {
   "cell_type": "raw",
   "id": "premium-volume",
   "metadata": {
    "format": "text/html"
   },
   "source": [
    "</div>"
   ]
  },
  {
   "cell_type": "code",
   "execution_count": 36,
   "metadata": {},
   "outputs": [],
   "source": [
    "def fillz(mat, i):\n",
    "    raise Exception('TODO IMPLEMENT ME !')\n",
    "\n",
    "\n",
    "m1 = [ ['a'] ]\n",
    "fillz(m1,0)\n",
    "assert m1 == [ ['z'] ]\n",
    "\n",
    "m2 = [ ['a','b'],\n",
    "       ['c','d'],\n",
    "       ['e','f'] ]\n",
    "fillz(m2,0)\n",
    "assert m2 == [ ['z','z'],\n",
    "               ['c','d'],\n",
    "               ['e','f'] ]\n",
    "\n",
    "m3 = [ ['a','b'],\n",
    "       ['c','d'],\n",
    "       ['e','f'] ]\n",
    "fillz(m3,1)\n",
    "assert m3 == [ ['a','b'],\n",
    "               ['z','z'],\n",
    "               ['e','f'] ]\n",
    "\n",
    "m4 = [ ['a','b'],\n",
    "       ['c','d'],\n",
    "       ['e','f'] ]\n",
    "fillz(m4,2)\n",
    "assert m4 == [ ['a','b'],\n",
    "               ['c','d'],\n",
    "               ['z','z'] ]"
   ]
  },
  {
   "cell_type": "markdown",
   "metadata": {},
   "source": [
    "### stitch_down\n",
    "\n",
    "✪✪ Given matrices `mat1` and `mat2`  as list of lists, with mat1 of size `u` x `n` and `mat2` of size `d` x `n`, RETURN a NEW matrix of size (`u`+`d`) x `n` as list of lists, by stitching second mat to the bottom of `mat1`\n",
    "       \n",
    "* NOTE: by NEW matrix we intend a matrix with no pointers to original rows (see previous deep clone exercise)\n",
    "* for examples, see assert"
   ]
  },
  {
   "cell_type": "raw",
   "id": "confidential-influence",
   "metadata": {
    "format": "text/html"
   },
   "source": [
    "<a  class=\"jupman-sol jupman-sol-toggler\" \n",
    " onclick=\"jupman.toggleSolution(this);\" \n",
    " data-jupman-show=\"Show solution\" data-jupman-hide=\"Hide\">Show solution</a><div class=\"jupman-sol jupman-sol-code\" style=\"display:none\">  "
   ]
  },
  {
   "cell_type": "code",
   "execution_count": 37,
   "metadata": {},
   "outputs": [],
   "source": [
    "def stitch_down(mat1, mat2):\n",
    "    \n",
    "    res = []\n",
    "    for row in mat1:\n",
    "        res.append(row[:])\n",
    "    for row in mat2:\n",
    "        res.append(row[:])\n",
    "    return res\n",
    "    \n",
    "    \n",
    "m1 = [ ['a'] ]\n",
    "m2 = [ ['b'] ]\n",
    "assert stitch_down(m1, m2) == [ ['a'],\n",
    "                                ['b'] ]\n",
    "\n",
    "# check we are giving back a deep clone\n",
    "s = stitch_down(m1, m2)\n",
    "s[0][0] = 'z'\n",
    "assert m1[0][0] == 'a' \n",
    "\n",
    "m1 = [ ['a','b','c'],\n",
    "       ['d','b','a'] ]\n",
    "m2 = [ ['f','b', 'h'],\n",
    "       ['g','h', 'w'] ]\n",
    "\n",
    "res = [ ['a','b','c'],\n",
    "        ['d','b','a'],\n",
    "        ['f','b','h'],\n",
    "        ['g','h','w'] ]\n",
    "\n",
    "assert stitch_down(m1, m2) == res"
   ]
  },
  {
   "cell_type": "raw",
   "id": "dressed-writer",
   "metadata": {
    "format": "text/html"
   },
   "source": [
    "</div>"
   ]
  },
  {
   "cell_type": "code",
   "execution_count": 37,
   "metadata": {},
   "outputs": [],
   "source": [
    "def stitch_down(mat1, mat2):\n",
    "    raise Exception('TODO IMPLEMENT ME !')\n",
    "    \n",
    "m1 = [ ['a'] ]\n",
    "m2 = [ ['b'] ]\n",
    "assert stitch_down(m1, m2) == [ ['a'],\n",
    "                                ['b'] ]\n",
    "\n",
    "# check we are giving back a deep clone\n",
    "s = stitch_down(m1, m2)\n",
    "s[0][0] = 'z'\n",
    "assert m1[0][0] == 'a' \n",
    "\n",
    "m1 = [ ['a','b','c'],\n",
    "       ['d','b','a'] ]\n",
    "m2 = [ ['f','b', 'h'],\n",
    "       ['g','h', 'w'] ]\n",
    "\n",
    "res = [ ['a','b','c'],\n",
    "        ['d','b','a'],\n",
    "        ['f','b','h'],\n",
    "        ['g','h','w'] ]\n",
    "\n",
    "assert stitch_down(m1, m2) == res"
   ]
  },
  {
   "cell_type": "markdown",
   "metadata": {},
   "source": [
    "### stitch_up\n",
    "\n",
    "✪✪ Given matrices `mat1` and `mat2`  as list of lists, with `mat1` of size `u` x `n` and `mat2` of size `d` x `n`,\n",
    "       RETURN a NEW matrix of size (`u`+`d`) x `n` as list of lists, by stitching first mat to the bottom of mat2\n",
    "       \n",
    "* **NOTE**: by NEW matrix we intend a matrix with no pointers to original rows (see previous `deep_clone` exercise)\n",
    "* To implement this function, use a call to the method stitch_down you implemented before.\n",
    "* For examples, see assert\n"
   ]
  },
  {
   "cell_type": "raw",
   "id": "chubby-mobile",
   "metadata": {
    "format": "text/html"
   },
   "source": [
    "<a  class=\"jupman-sol jupman-sol-toggler\" \n",
    " onclick=\"jupman.toggleSolution(this);\" \n",
    " data-jupman-show=\"Show solution\" data-jupman-hide=\"Hide\">Show solution</a><div class=\"jupman-sol jupman-sol-code\" style=\"display:none\">  "
   ]
  },
  {
   "cell_type": "code",
   "execution_count": 38,
   "metadata": {},
   "outputs": [],
   "source": [
    "def stitch_up(mat1, mat2):    \n",
    "    \n",
    "    return stitch_down(mat2, mat1)\n",
    "    \n",
    "    \n",
    "\n",
    "m1 = [ ['a'] ]\n",
    "m2 = [ ['b'] ]\n",
    "assert stitch_up(m1, m2) == [ ['b'],\n",
    "                              ['a'] ]\n",
    "\n",
    "# check we are giving back a deep clone\n",
    "s = stitch_up(m1, m2)\n",
    "s[0][0] = 'z'\n",
    "assert m1[0][0] == 'a'     \n",
    "    \n",
    "m1 = [ ['a','b','c'],\n",
    "       ['d','b','a'] ]\n",
    "m2 = [ ['f','b', 'h'],\n",
    "       ['g','h', 'w'] ]\n",
    "\n",
    "res = [ ['f','b','h'],\n",
    "        ['g','h','w'],\n",
    "        ['a','b','c'],\n",
    "        ['d','b','a'] ]\n",
    "\n",
    "assert stitch_up(m1, m2) == res"
   ]
  },
  {
   "cell_type": "raw",
   "id": "desirable-cannon",
   "metadata": {
    "format": "text/html"
   },
   "source": [
    "</div>"
   ]
  },
  {
   "cell_type": "code",
   "execution_count": 38,
   "metadata": {},
   "outputs": [],
   "source": [
    "def stitch_up(mat1, mat2):    \n",
    "    raise Exception('TODO IMPLEMENT ME !')\n",
    "    \n",
    "\n",
    "m1 = [ ['a'] ]\n",
    "m2 = [ ['b'] ]\n",
    "assert stitch_up(m1, m2) == [ ['b'],\n",
    "                              ['a'] ]\n",
    "\n",
    "# check we are giving back a deep clone\n",
    "s = stitch_up(m1, m2)\n",
    "s[0][0] = 'z'\n",
    "assert m1[0][0] == 'a'     \n",
    "    \n",
    "m1 = [ ['a','b','c'],\n",
    "       ['d','b','a'] ]\n",
    "m2 = [ ['f','b', 'h'],\n",
    "       ['g','h', 'w'] ]\n",
    "\n",
    "res = [ ['f','b','h'],\n",
    "        ['g','h','w'],\n",
    "        ['a','b','c'],\n",
    "        ['d','b','a'] ]\n",
    "\n",
    "assert stitch_up(m1, m2) == res"
   ]
  },
  {
   "cell_type": "markdown",
   "metadata": {},
   "source": [
    "### stitch_right\n",
    "\n",
    "✪✪✪ Given matrices `mata` and `matb`  as list of lists, with `mata` of size `n` x `l` and `matb` of size `n` x `r`, RETURN a NEW matrix of size `n` x (`l` + `r`) as list of lists, by stitching second `matb` to the right end of `mata`"
   ]
  },
  {
   "cell_type": "raw",
   "id": "hawaiian-navigator",
   "metadata": {
    "format": "text/html"
   },
   "source": [
    "<a  class=\"jupman-sol jupman-sol-toggler\" \n",
    " onclick=\"jupman.toggleSolution(this);\" \n",
    " data-jupman-show=\"Show solution\" data-jupman-hide=\"Hide\">Show solution</a><div class=\"jupman-sol jupman-sol-code\" style=\"display:none\">  "
   ]
  },
  {
   "cell_type": "code",
   "execution_count": 39,
   "metadata": {},
   "outputs": [],
   "source": [
    "\n",
    "def stitch_right(mata,matb):    \n",
    "    \n",
    "    ret = []\n",
    "    for i in range(len(mata)):\n",
    "        row_to_add =  mata[i][:]\n",
    "        row_to_add.extend(matb[i])\n",
    "        ret.append(row_to_add)\n",
    "    return ret\n",
    "    \n",
    "    \n",
    "ma1 = [ ['a','b','c'],\n",
    "        ['d','b','a'] ]\n",
    "mb1 = [ ['f','b'],\n",
    "        ['g','h'] ]\n",
    "\n",
    "r1 = [ ['a','b','c','f','b'],\n",
    "       ['d','b','a','g','h'] ]\n",
    "\n",
    "assert stitch_right(ma1, mb1) == r1"
   ]
  },
  {
   "cell_type": "raw",
   "id": "registered-scoop",
   "metadata": {
    "format": "text/html"
   },
   "source": [
    "</div>"
   ]
  },
  {
   "cell_type": "code",
   "execution_count": 39,
   "metadata": {},
   "outputs": [],
   "source": [
    "\n",
    "def stitch_right(mata,matb):    \n",
    "    raise Exception('TODO IMPLEMENT ME !')\n",
    "    \n",
    "ma1 = [ ['a','b','c'],\n",
    "        ['d','b','a'] ]\n",
    "mb1 = [ ['f','b'],\n",
    "        ['g','h'] ]\n",
    "\n",
    "r1 = [ ['a','b','c','f','b'],\n",
    "       ['d','b','a','g','h'] ]\n",
    "\n",
    "assert stitch_right(ma1, mb1) == r1"
   ]
  },
  {
   "cell_type": "markdown",
   "metadata": {},
   "source": [
    "### threshold\n",
    "\n",
    "✪✪ Takes a matrix as a list of lists (every list has the same dimension) and RETURN  a NEW matrix as list of lists where there is `True` if the corresponding input element is greater than `t`, otherwise return `False`\n",
    "\n",
    "Ingredients:\n",
    "\n",
    "- a variable for the matrix to return\n",
    "- for each original row, we need to create a new list"
   ]
  },
  {
   "cell_type": "raw",
   "id": "hundred-thermal",
   "metadata": {
    "format": "text/html"
   },
   "source": [
    "<a  class=\"jupman-sol jupman-sol-toggler\" \n",
    " onclick=\"jupman.toggleSolution(this);\" \n",
    " data-jupman-show=\"Show solution\" data-jupman-hide=\"Hide\">Show solution</a><div class=\"jupman-sol jupman-sol-code\" style=\"display:none\">  "
   ]
  },
  {
   "cell_type": "code",
   "execution_count": 40,
   "metadata": {},
   "outputs": [],
   "source": [
    "def threshold(mat, t):    \n",
    "    \n",
    "    ret = []\n",
    "    for row in mat:\n",
    "        new_row = []\n",
    "        ret.append(new_row)\n",
    "        for el in row:\n",
    "            new_row.append(el > t)\n",
    "        \n",
    "    return ret\n",
    "    \n",
    "\n",
    "morig = [ [1,4,2],\n",
    "          [7,9,3] ]\n",
    "    \n",
    "m1 = [ [1,4,2],\n",
    "       [7,9,3] ]\n",
    "\n",
    "r1 = [ [False,False,False],\n",
    "       [True,True,False] ]\n",
    "assert threshold(m1,4) == r1\n",
    "assert m1 == morig   # verify original didn't change\n",
    "\n",
    "m2 = [ [5,2],\n",
    "       [3,7] ]\n",
    "\n",
    "r2 = [ [True,False],\n",
    "       [False,True] ]\n",
    "assert threshold(m2,4) == r2"
   ]
  },
  {
   "cell_type": "raw",
   "id": "acoustic-zoning",
   "metadata": {
    "format": "text/html"
   },
   "source": [
    "</div>"
   ]
  },
  {
   "cell_type": "code",
   "execution_count": 40,
   "metadata": {},
   "outputs": [],
   "source": [
    "def threshold(mat, t):    \n",
    "    raise Exception('TODO IMPLEMENT ME !')\n",
    "\n",
    "morig = [ [1,4,2],\n",
    "          [7,9,3] ]\n",
    "    \n",
    "m1 = [ [1,4,2],\n",
    "       [7,9,3] ]\n",
    "\n",
    "r1 = [ [False,False,False],\n",
    "       [True,True,False] ]\n",
    "assert threshold(m1,4) == r1\n",
    "assert m1 == morig   # verify original didn't change\n",
    "\n",
    "m2 = [ [5,2],\n",
    "       [3,7] ]\n",
    "\n",
    "r2 = [ [True,False],\n",
    "       [False,True] ]\n",
    "assert threshold(m2,4) == r2"
   ]
  },
  {
   "cell_type": "markdown",
   "metadata": {},
   "source": [
    "### swap_rows\n",
    "\n",
    "✪✪ We will try swapping a couple of rows of a matrix\n",
    "\n",
    "There are several ways to proceed. Before continuing, make sure to know how to exchange two values by solving this simple exercise - check your result in Python Tutor\n"
   ]
  },
  {
   "cell_type": "raw",
   "id": "little-camcorder",
   "metadata": {
    "format": "text/html"
   },
   "source": [
    "<a  class=\"jupman-sol jupman-sol-toggler\" \n",
    " onclick=\"jupman.toggleSolution(this);\" \n",
    " data-jupman-show=\"Show solution\" data-jupman-hide=\"Hide\">Show solution</a><div class=\"jupman-sol jupman-sol-code\" style=\"display:none\">  "
   ]
  },
  {
   "cell_type": "code",
   "execution_count": 41,
   "metadata": {},
   "outputs": [],
   "source": [
    "x = 3\n",
    "y = 7\n",
    "\n",
    "# write here the code to swap x and y (do not directly use the constants 3 and 7!)\n",
    "\n",
    "k = x\n",
    "x = y\n",
    "y = k\n",
    "\n",
    "#jupman.pytut()\n"
   ]
  },
  {
   "cell_type": "raw",
   "id": "fantastic-current",
   "metadata": {
    "format": "text/html"
   },
   "source": [
    "</div>"
   ]
  },
  {
   "cell_type": "code",
   "execution_count": 41,
   "metadata": {},
   "outputs": [],
   "source": [
    "x = 3\n",
    "y = 7\n",
    "\n",
    "# write here the code to swap x and y (do not directly use the constants 3 and 7!)\n",
    "\n"
   ]
  },
  {
   "cell_type": "markdown",
   "metadata": {},
   "source": [
    "✪✪ Takes a matrix `mat` as list of lists, and RETURN a NEW matrix where rows at indexes `i1` and `i2` are swapped"
   ]
  },
  {
   "cell_type": "raw",
   "id": "raising-drain",
   "metadata": {
    "format": "text/html"
   },
   "source": [
    "<a  class=\"jupman-sol jupman-sol-toggler\" \n",
    " onclick=\"jupman.toggleSolution(this);\" \n",
    " data-jupman-show=\"Show solution\" data-jupman-hide=\"Hide\">Show solution</a><div class=\"jupman-sol jupman-sol-code\" style=\"display:none\">  "
   ]
  },
  {
   "cell_type": "code",
   "execution_count": 42,
   "metadata": {},
   "outputs": [],
   "source": [
    "def swap_rows(mat, i1, i2):\n",
    "    \n",
    "    \n",
    "    # deep clones\n",
    "    ret = []\n",
    "    for row in mat:\n",
    "        ret.append(row[:])\n",
    "    #swaps\n",
    "    s = ret[i1]\n",
    "    ret[i1] = ret[i2]\n",
    "    ret[i2] = s\n",
    "    return ret\n",
    "    \n",
    "    \n",
    "m1 = [ ['a','d'],\n",
    "       ['b','e'],\n",
    "       ['c','f'] ]\n",
    "\n",
    "r1 = swap_rows(m1, 0, 2)\n",
    "\n",
    "assert r1 == [ ['c','f'],    \n",
    "               ['b','e'],\n",
    "               ['a','d'] ]\n",
    "\n",
    "r1[0][0] = 'z'\n",
    "assert m1[0][0] == 'a'\n",
    "\n",
    "m2 = [ ['a','d'],\n",
    "       ['b','e'],\n",
    "       ['c','f'] ]\n",
    "\n",
    "\n",
    "# swap with itself should in fact generate a deep clone\n",
    "r2 = swap_rows(m2, 0, 0)\n",
    "\n",
    "assert r2 == [ ['a','d'],\n",
    "               ['b','e'],\n",
    "               ['c','f'] ]\n",
    "\n",
    "r2[0][0] = 'z'\n",
    "assert m2[0][0] == 'a'"
   ]
  },
  {
   "cell_type": "raw",
   "id": "editorial-dylan",
   "metadata": {
    "format": "text/html"
   },
   "source": [
    "</div>"
   ]
  },
  {
   "cell_type": "code",
   "execution_count": 42,
   "metadata": {},
   "outputs": [],
   "source": [
    "def swap_rows(mat, i1, i2):\n",
    "    raise Exception('TODO IMPLEMENT ME !')\n",
    "    \n",
    "m1 = [ ['a','d'],\n",
    "       ['b','e'],\n",
    "       ['c','f'] ]\n",
    "\n",
    "r1 = swap_rows(m1, 0, 2)\n",
    "\n",
    "assert r1 == [ ['c','f'],    \n",
    "               ['b','e'],\n",
    "               ['a','d'] ]\n",
    "\n",
    "r1[0][0] = 'z'\n",
    "assert m1[0][0] == 'a'\n",
    "\n",
    "m2 = [ ['a','d'],\n",
    "       ['b','e'],\n",
    "       ['c','f'] ]\n",
    "\n",
    "\n",
    "# swap with itself should in fact generate a deep clone\n",
    "r2 = swap_rows(m2, 0, 0)\n",
    "\n",
    "assert r2 == [ ['a','d'],\n",
    "               ['b','e'],\n",
    "               ['c','f'] ]\n",
    "\n",
    "r2[0][0] = 'z'\n",
    "assert m2[0][0] == 'a'"
   ]
  },
  {
   "cell_type": "markdown",
   "metadata": {},
   "source": [
    "### swap_cols\n",
    "\n",
    "✪✪ Takes a matrix `mat` and two column indeces `j1` and `j2` and RETURN a NEW matrix where the columns `j1` and `j2` are swapped"
   ]
  },
  {
   "cell_type": "raw",
   "id": "regulation-haiti",
   "metadata": {
    "format": "text/html"
   },
   "source": [
    "<a  class=\"jupman-sol jupman-sol-toggler\" \n",
    " onclick=\"jupman.toggleSolution(this);\" \n",
    " data-jupman-show=\"Show solution\" data-jupman-hide=\"Hide\">Show solution</a><div class=\"jupman-sol jupman-sol-code\" style=\"display:none\">  "
   ]
  },
  {
   "cell_type": "code",
   "execution_count": 43,
   "metadata": {},
   "outputs": [],
   "source": [
    "def swap_cols(mat, j1, j2):\n",
    "    \n",
    "    ret = []\n",
    "    for row in mat:\n",
    "        new_row = row[:]\n",
    "        new_row[j1] = row[j2]\n",
    "        new_row[j2] = row[j1]\n",
    "        ret.append(new_row)\n",
    "    return ret\n",
    "    \n",
    "\n",
    "m1 = [ ['a','b','c'],\n",
    "       ['d','e','f'] ]\n",
    "\n",
    "r1 = swap_cols(m1, 0,2)\n",
    "\n",
    "assert r1 == [ ['c','b','a'],\n",
    "               ['f','e','d'] ]\n",
    "\n",
    "r1[0][0] = 'z'\n",
    "assert m1[0][0] == 'a'"
   ]
  },
  {
   "cell_type": "raw",
   "id": "drawn-cattle",
   "metadata": {
    "format": "text/html"
   },
   "source": [
    "</div>"
   ]
  },
  {
   "cell_type": "code",
   "execution_count": 43,
   "metadata": {},
   "outputs": [],
   "source": [
    "def swap_cols(mat, j1, j2):\n",
    "    raise Exception('TODO IMPLEMENT ME !')\n",
    "\n",
    "m1 = [ ['a','b','c'],\n",
    "       ['d','e','f'] ]\n",
    "\n",
    "r1 = swap_cols(m1, 0,2)\n",
    "\n",
    "assert r1 == [ ['c','b','a'],\n",
    "               ['f','e','d'] ]\n",
    "\n",
    "r1[0][0] = 'z'\n",
    "assert m1[0][0] == 'a'"
   ]
  },
  {
   "cell_type": "markdown",
   "metadata": {},
   "source": [
    "## Other exercises"
   ]
  },
  {
   "cell_type": "markdown",
   "metadata": {},
   "source": [
    "### diag\n",
    "\n",
    "`diag` extracts the diagonal of a matrix. To do so,  `diag` requires an nxn matrix as input. To make sure we actually get an nxn matrix, this time you will have to validate the input, that is check if the number of rows is equal to the number of columns (as always we assume the matrix has at least one row and at least one column). If the matrix is not nxn, the function should stop raising an exception. In particular, it shoud raise a [ValueError](https://docs.python.org/3/library/exceptions.html#ValueError), which is the standard Python exception to raise when the expected input is not correct and you can't find any other more specific error.\n",
    "\n",
    "Just for illustrative puroposes, we show here the index numbers `i` and `j` and avoid putting apices around strings:\n",
    "\n",
    "```\n",
    "    \\ j  0,1,2,3  \n",
    "    i \n",
    "       [\n",
    "    0   [a,b,c,d],\n",
    "    1   [e,f,g,h],\n",
    "    2   [p,q,r,s],\n",
    "    3   [t,u,v,z]\n",
    "       ]\n",
    "```\n",
    "\n",
    "Let's see a step by step execution:\n",
    "\n",
    "```\n",
    "                                \\ j  0,1,2,3  \n",
    "                                i \n",
    "                                   [\n",
    " extract from row at i=0  -->   0   [a,b,c,d],   'a' is extracted from  mat[0][0]\n",
    "                                1   [e,f,g,h],\n",
    "                                2   [p,q,r,s],\n",
    "                                3   [t,u,v,z]\n",
    "                                   ]\n",
    "```\n",
    "\n",
    "```\n",
    "                                \\ j  0,1,2,3  \n",
    "                                i \n",
    "                                   [\n",
    "                                0   [a,b,c,d],           \n",
    " extract from row at i=1  -->   1   [e,f,g,h],   'f' is extracted from mat[1][1]\n",
    "                                2   [p,q,r,s], \n",
    "                                3   [t,u,v,z]\n",
    "                                   ]\n",
    "```\n",
    "\n",
    "```\n",
    "                                \\ j  0,1,2,3  \n",
    "                                i \n",
    "                                   [\n",
    "                                0   [a,b,c,d],           \n",
    "                                1   [e,f,g,h],\n",
    " extract from row at i=2  -->   2   [p,q,r,s],   'r' is extracted from mat[2][2]\n",
    "                                3   [t,u,v,z]\n",
    "                                   ]\n",
    "```\n",
    "\n",
    "```\n",
    "                                \\ j  0,1,2,3  \n",
    "                                i \n",
    "                                   [\n",
    "                                0   [a,b,c,d],           \n",
    "                                1   [e,f,g,h],\n",
    "                                2   [p,q,r,s],\n",
    " extract from row at i=3  -->   3   [t,u,v,z]    'z' is extracted from mat[3][3]\n",
    "                                   ]\n",
    "\n",
    "From the above, we notice we need elements from these indeces:\n",
    "\n",
    " i, j\n",
    " 1, 1\n",
    " 2, 2\n",
    " 3, 3\n",
    "\n",
    "```\n",
    "\n",
    "There are two ways to solve this exercise, one is to use a double `for` (a nested for to be precise) while the other method uses only one `for`. Try to solve it in both ways. How many steps do you need with double for? and with only one?\n",
    "\n",
    "✪✪ **EXERCISE**: Implement the `diag` function, which given an `n`x`n` matrix `mat` as a list of lists, RETURN a list which contains the elemets in the diagonal (top left to bottom right corner). \n",
    "        \n",
    "- if `mat` is not `n`x`n` raise `ValueError`"
   ]
  },
  {
   "cell_type": "raw",
   "id": "olympic-serbia",
   "metadata": {
    "format": "text/html"
   },
   "source": [
    "<a  class=\"jupman-sol jupman-sol-toggler\" \n",
    " onclick=\"jupman.toggleSolution(this);\" \n",
    " data-jupman-show=\"Show solution\" data-jupman-hide=\"Hide\">Show solution</a><div class=\"jupman-sol jupman-sol-code\" style=\"display:none\">  "
   ]
  },
  {
   "cell_type": "code",
   "execution_count": 44,
   "metadata": {},
   "outputs": [],
   "source": [
    "\n",
    "def diag(mat):\n",
    "    \n",
    "    if len(mat) != len(mat[0]):\n",
    "        raise ValueError(\"Matrix should be nxn, found instead %s x %s\" % (len(mat), len(mat[0])))\n",
    "    ret = []\n",
    "    for i in range(len(mat)):\n",
    "        ret.append(mat[i][i])\n",
    "    return ret\n",
    "    \n",
    "\n",
    "# TEST START - DO NOT TOUCH!      \n",
    "# if you wrote the whole code correct, and execute the cell, Python shouldn't raise `AssertionError`\n",
    "m = [ ['a','b','c'],\n",
    "      ['d','e','f'],\n",
    "      ['g','h','i'] ]\n",
    "\n",
    "assert diag(m) == ['a','e','i']\n",
    "\n",
    "try: \n",
    "    diag([ ['a','b'] ])    # 1x2 dimension, not square\n",
    "           \n",
    "    raise Exception(\"SHOULD HAVE FAILED !\")  # if diag raises an exception which is ValueError as we \n",
    "                                             # expect it to do, the code should never arrive here\n",
    "    \n",
    "except ValueError: # this only catches ValueError. Other types of errors are not catched\n",
    "    pass           # In an except clause you always need to put some code. \n",
    "                   # Here we put a placeholder just to fill in\n",
    "# TEST END"
   ]
  },
  {
   "cell_type": "raw",
   "id": "public-candy",
   "metadata": {
    "format": "text/html"
   },
   "source": [
    "</div>"
   ]
  },
  {
   "cell_type": "code",
   "execution_count": 44,
   "metadata": {},
   "outputs": [],
   "source": [
    "\n",
    "def diag(mat):\n",
    "    raise Exception('TODO IMPLEMENT ME !')\n",
    "\n",
    "# TEST START - DO NOT TOUCH!      \n",
    "# if you wrote the whole code correct, and execute the cell, Python shouldn't raise `AssertionError`\n",
    "m = [ ['a','b','c'],\n",
    "      ['d','e','f'],\n",
    "      ['g','h','i'] ]\n",
    "\n",
    "assert diag(m) == ['a','e','i']\n",
    "\n",
    "try: \n",
    "    diag([ ['a','b'] ])    # 1x2 dimension, not square\n",
    "           \n",
    "    raise Exception(\"SHOULD HAVE FAILED !\")  # if diag raises an exception which is ValueError as we \n",
    "                                             # expect it to do, the code should never arrive here\n",
    "    \n",
    "except ValueError: # this only catches ValueError. Other types of errors are not catched\n",
    "    pass           # In an except clause you always need to put some code. \n",
    "                   # Here we put a placeholder just to fill in\n",
    "# TEST END"
   ]
  },
  {
   "cell_type": "markdown",
   "metadata": {},
   "source": [
    "### anti_diag\n",
    "\n",
    "✪✪ Given an nxn matrix mat as a list of lists, RETURN a list which contains the elemets in the antidiagonal (top right to bottom left corner). \n",
    "    \n",
    "* If mat is not `n`x`n` raise `ValueError`\n",
    "    \n",
    "Before implementing it, be sure to write down understand the required indeces as we did in the example for the [diag](#diag) function."
   ]
  },
  {
   "cell_type": "raw",
   "id": "efficient-adult",
   "metadata": {
    "format": "text/html"
   },
   "source": [
    "<a  class=\"jupman-sol jupman-sol-toggler\" \n",
    " onclick=\"jupman.toggleSolution(this);\" \n",
    " data-jupman-show=\"Show solution\" data-jupman-hide=\"Hide\">Show solution</a><div class=\"jupman-sol jupman-sol-code\" style=\"display:none\">  "
   ]
  },
  {
   "cell_type": "code",
   "execution_count": 45,
   "metadata": {},
   "outputs": [],
   "source": [
    "def anti_diag(mat):\n",
    "    \n",
    "    n = len(mat)\n",
    "    ret = []\n",
    "    for i in range(n):\n",
    "        ret.append(mat[i][n-i-1])\n",
    "    return ret\n",
    "    \n",
    "\n",
    "m = [ ['a','b','c'],\n",
    "      ['d','e','f'],\n",
    "      ['g','h','i'] ]\n",
    "\n",
    "assert anti_diag(m) == ['c','e','g']\n",
    "\n",
    "# If you have doubts about the indexes remember to try it in python tutor !\n",
    "# jupman.pytut()"
   ]
  },
  {
   "cell_type": "raw",
   "id": "daily-programmer",
   "metadata": {
    "format": "text/html"
   },
   "source": [
    "</div>"
   ]
  },
  {
   "cell_type": "code",
   "execution_count": 45,
   "metadata": {},
   "outputs": [],
   "source": [
    "def anti_diag(mat):\n",
    "    raise Exception('TODO IMPLEMENT ME !')\n",
    "\n",
    "m = [ ['a','b','c'],\n",
    "      ['d','e','f'],\n",
    "      ['g','h','i'] ]\n",
    "\n",
    "assert anti_diag(m) == ['c','e','g']\n",
    "\n",
    "# If you have doubts about the indexes remember to try it in python tutor !\n",
    "# jupman.pytut()"
   ]
  },
  {
   "cell_type": "markdown",
   "metadata": {},
   "source": [
    "### is_utriang\n",
    "\n",
    "✪✪✪ You will now try to iterate only the lower triangular half of a matrix. Let's look at an example:\n"
   ]
  },
  {
   "cell_type": "code",
   "execution_count": 46,
   "metadata": {},
   "outputs": [],
   "source": [
    "m = [\n",
    "        [3,2,5,8],\n",
    "        [0,6,2,3],\n",
    "        [0,0,4,9],\n",
    "        [0,0,0,5]\n",
    "    ]"
   ]
  },
  {
   "cell_type": "markdown",
   "metadata": {},
   "source": [
    "Just for illustrative puroposes, we show here the index numbers `i` and `j`:\n",
    "```\n",
    "    \\ j  0,1,2,3  \n",
    "    i \n",
    "       [\n",
    "    0   [3,2,5,8],\n",
    "    1   [0,6,2,3],\n",
    "    2   [0,0,4,9],\n",
    "    3   [0,7,0,5]\n",
    "       ]\n",
    "```\n",
    "\n",
    "Let's see a step by step execution an a non-upper triangular matrix:\n",
    "\n",
    "```\n",
    "                                \\ j  0,1,2,3  \n",
    "                                i \n",
    "                                   [\n",
    "                                0   [3,2,5,8],\n",
    "start from row at index i=1 ->  1   [0,6,2,3],  Check until column limit j=0 included\n",
    "                                2   [0,0,4,9],\n",
    "                                3   [0,7,0,5]\n",
    "                                   ]\n",
    "```\n",
    "\n",
    "One zero is found, time to check next row.\n",
    "\n",
    "```\n",
    "                                \\ j  0,1,2,3  \n",
    "                                i \n",
    "                                   [\n",
    "                                0   [3,2,5,8],\n",
    "                                1   [0,6,2,3],\n",
    "check row at index i=2    --->  2   [0,0,4,9],  Check until column limit j=1 included\n",
    "                                3   [0,7,0,5]\n",
    "                                   ]\n",
    "```\n",
    "\n",
    "Two zeros are found. Time to check next row.\n",
    "\n",
    "```\n",
    "                                \\ j  0,1,2,3  \n",
    "                                i \n",
    "                                   [\n",
    "                                0   [3,2,5,8],\n",
    "                                1   [0,6,2,3],\n",
    "                                2   [0,0,4,9],\n",
    "check row at index i=3    --->  3   [0,7,0,5]   Check until column limit j=2 included\n",
    "                                   ]            BUT can stop sooner at j=1 because\n",
    "                                                number at j=1 is different from zero. \n",
    "                                                As soon as 7 is found, can return False\n",
    "                                                In this case the matrix is not upper \n",
    "                                                triangular\n",
    "\n",
    "```\n"
   ]
  },
  {
   "cell_type": "markdown",
   "metadata": {},
   "source": [
    "<div class=\"alert alert-info\" >\n",
    "\n",
    "[VII COMMANDMENT](https://en.softpython.org/commandments.html#VII-COMMANDMENT) **You shall also write on paper!**\n",
    "</div>"
   ]
  },
  {
   "cell_type": "markdown",
   "metadata": {},
   "source": [
    "\n",
    "When you develop these algorithms, it is fundamental to write down a step by step example like the above to get a clear picture of what is happening. Also, if you write down the indeces correctly, you will easily be able to derive a generalization. To find it, try to further write the found indeces in a table. \n",
    "\n",
    "For example, from above for each row index `i` we can easily find out  which limit index `j` we need to reach for our hunt for zeros:\n",
    "\n",
    "\n",
    "| i | limit j (included) |            Notes                | \n",
    "|---|--------------------|---------------------------------|\n",
    "| 1 |          0         |  we start from row at index i=1 |\n",
    "| 2 |          1         |                                 |\n",
    "| 3 |          2         |                                 |\n",
    "\n",
    "\n",
    "From the table, we can see the limit for j can be calculated in terms of the current row index `i` with the simple formula `i - 1`"
   ]
  },
  {
   "cell_type": "markdown",
   "metadata": {},
   "source": [
    "The fact you need to span through rows and columns suggest you need two `for`s, one for rows and one for columns - that is, a _nested for_. \n",
    "\n",
    "* please use ranges of indexes to carry out the task (no `for row in mat` ..)\n",
    "* please use letter `i` as index for rows, `j` as index of columns and in case you need it `n` letter as matrix dimension\n",
    "\n",
    "**HINT 1**: remember you can set range to start from a specific index, like `range(3,7)` will start from 3 and end to 6 _included_ (last 7 is _excluded_!)\n",
    "\n",
    "**HINT 2**: To implement this, it is best looking for numbers _different_ from zero. As soon as you find\n",
    "        one, you can stop the function and return False. Only after _all_ the number checking \n",
    "        is done you can return True.\n",
    "        \n",
    " Finally, be reminded of the following:"
   ]
  },
  {
   "cell_type": "markdown",
   "metadata": {},
   "source": [
    "<div class=\"alert alert-info\" >\n",
    "\n",
    "[II COMMANDMENT](https://en.softpython.org/commandments.html#VII-COMMANDMENT) **Whenever you introduce a variable with a** `for` **cycle, such variable must be new**\n",
    "</div>"
   ]
  },
  {
   "cell_type": "markdown",
   "metadata": {},
   "source": [
    "If you defined a variable before, you shall not reintroduce it in a `for`, since it's confusing and error prone.\n",
    "\n",
    "So avoid these sins:"
   ]
  },
  {
   "cell_type": "code",
   "execution_count": 47,
   "metadata": {},
   "outputs": [
    {
     "name": "stdout",
     "output_type": "stream",
     "text": [
      "0\n",
      "1\n",
      "2\n"
     ]
    }
   ],
   "source": [
    "i = 7\n",
    "for i in range(3):  # sin, you lose i variable\n",
    "    print(i)"
   ]
  },
  {
   "cell_type": "code",
   "execution_count": 48,
   "metadata": {},
   "outputs": [],
   "source": [
    "def f(i):\n",
    "    for i in range(3): # sin again, you lose i parameter\n",
    "        print(i)"
   ]
  },
  {
   "cell_type": "code",
   "execution_count": 49,
   "metadata": {
    "scrolled": true
   },
   "outputs": [
    {
     "name": "stdout",
     "output_type": "stream",
     "text": [
      "0\n",
      "1\n",
      "2\n",
      "0\n",
      "1\n",
      "2\n"
     ]
    }
   ],
   "source": [
    "for i in range(2):      \n",
    "    for i in  range(3):  # debugging hell, you lose i from outer for\n",
    "        print(i)"
   ]
  },
  {
   "cell_type": "markdown",
   "metadata": {},
   "source": [
    "✪✪✪ **EXERCISE**: If you read _all_ the above, start implementing the function `is_utriang`, which RETURN `True` if the provided `n`x`n` matrix is upper triangular, that is, has all the entries below the diagonal set to zero. Return `False` otherwise."
   ]
  },
  {
   "cell_type": "raw",
   "id": "after-teaching",
   "metadata": {
    "format": "text/html"
   },
   "source": [
    "<a  class=\"jupman-sol jupman-sol-toggler\" \n",
    " onclick=\"jupman.toggleSolution(this);\" \n",
    " data-jupman-show=\"Show solution\" data-jupman-hide=\"Hide\">Show solution</a><div class=\"jupman-sol jupman-sol-code\" style=\"display:none\">  "
   ]
  },
  {
   "cell_type": "code",
   "execution_count": 50,
   "metadata": {},
   "outputs": [],
   "source": [
    "def is_utriang(mat):\n",
    "    \n",
    "    n = len(mat)\n",
    "    m = len(mat[0])\n",
    "    \n",
    "    for i in range(1,n):\n",
    "        for j in range(i): # notice it arrives until i *excluded*, that is, arrives to i - 1 *included*\n",
    "            if mat[i][j] != 0:\n",
    "                return False\n",
    "    return True\n",
    "    \n",
    "    \n",
    "assert is_utriang([ [1] ]) == True\n",
    "assert is_utriang([ [3,2,5],\n",
    "                    [0,6,2],\n",
    "                    [0,0,4] ]) == True\n",
    "\n",
    "assert is_utriang([ [3,2,5],\n",
    "                    [0,6,2],\n",
    "                    [1,0,4] ]) == False\n",
    "\n",
    "assert is_utriang([ [3,2,5],\n",
    "                    [0,6,2],\n",
    "                    [1,1,4] ]) == False\n",
    "\n",
    "assert is_utriang([ [3,2,5],\n",
    "                    [0,6,2],\n",
    "                    [0,1,4] ]) == False\n",
    "\n",
    "\n",
    "assert is_utriang([ [3,2,5],\n",
    "                    [1,6,2],\n",
    "                    [1,0,4] ]) == False"
   ]
  },
  {
   "cell_type": "raw",
   "id": "lucky-passion",
   "metadata": {
    "format": "text/html"
   },
   "source": [
    "</div>"
   ]
  },
  {
   "cell_type": "code",
   "execution_count": 50,
   "metadata": {},
   "outputs": [],
   "source": [
    "def is_utriang(mat):\n",
    "    raise Exception('TODO IMPLEMENT ME !')\n",
    "    \n",
    "assert is_utriang([ [1] ]) == True\n",
    "assert is_utriang([ [3,2,5],\n",
    "                    [0,6,2],\n",
    "                    [0,0,4] ]) == True\n",
    "\n",
    "assert is_utriang([ [3,2,5],\n",
    "                    [0,6,2],\n",
    "                    [1,0,4] ]) == False\n",
    "\n",
    "assert is_utriang([ [3,2,5],\n",
    "                    [0,6,2],\n",
    "                    [1,1,4] ]) == False\n",
    "\n",
    "assert is_utriang([ [3,2,5],\n",
    "                    [0,6,2],\n",
    "                    [0,1,4] ]) == False\n",
    "\n",
    "\n",
    "assert is_utriang([ [3,2,5],\n",
    "                    [1,6,2],\n",
    "                    [1,0,4] ]) == False"
   ]
  },
  {
   "cell_type": "markdown",
   "metadata": {},
   "source": [
    "### stitch_left_mod\n",
    "\n",
    " This time let's try to _modify_ `mat1` _in place_, by stitching `mat2` _to the left_ of `mat1`.\n",
    "\n",
    "So this time **don't** put a `return` instruction.\n",
    "\n",
    "You will need to perform list insertion, which can be tricky. There are many ways to do it in Python,\n",
    "one could be using the weird splice assignment insertion:\n",
    "\n",
    "\n",
    "```python\n",
    "mylist[0:0] = list_to_insert  \n",
    "```\n",
    "\n",
    "see here for more info: https://stackoverflow.com/a/10623383\n",
    "\n",
    "✪✪✪ **EXERCISE**: Implement `stitch_left_mod`, which given the matrices `mat1` and `mat2`  as list of lists, with `mat1` of size `n` x `l` and `mat2` of size `n` x `r`, \n",
    "       MODIFIES `mat1` so that it becomes of size `n` x (`l` + `r`), by stitching second `mat2` to the left of `mat1`"
   ]
  },
  {
   "cell_type": "raw",
   "id": "geographic-structure",
   "metadata": {
    "format": "text/html"
   },
   "source": [
    "<a  class=\"jupman-sol jupman-sol-toggler\" \n",
    " onclick=\"jupman.toggleSolution(this);\" \n",
    " data-jupman-show=\"Show solution\" data-jupman-hide=\"Hide\">Show solution</a><div class=\"jupman-sol jupman-sol-code\" style=\"display:none\">  "
   ]
  },
  {
   "cell_type": "code",
   "execution_count": 51,
   "metadata": {},
   "outputs": [],
   "source": [
    "def stitch_left_mod(mat1,mat2):\n",
    "        \n",
    "    for i in range(len(mat1)):\n",
    "        mat1[i][0:0] = mat2[i]\n",
    "    \n",
    "    \n",
    "m1 = [ ['a','b','c'],\n",
    "       ['d','b','a'] ]\n",
    "m2 = [ ['f','b'],\n",
    "       ['g','h'] ]\n",
    "\n",
    "res = [ ['f','b','a','b','c'],\n",
    "        ['g','h','d','b','a'] ]\n",
    "\n",
    "stitch_left_mod(m1, m2) \n",
    "assert m1 == res"
   ]
  },
  {
   "cell_type": "raw",
   "id": "separate-madness",
   "metadata": {
    "format": "text/html"
   },
   "source": [
    "</div>"
   ]
  },
  {
   "cell_type": "code",
   "execution_count": 51,
   "metadata": {},
   "outputs": [],
   "source": [
    "def stitch_left_mod(mat1,mat2):\n",
    "    raise Exception('TODO IMPLEMENT ME !')\n",
    "    \n",
    "m1 = [ ['a','b','c'],\n",
    "       ['d','b','a'] ]\n",
    "m2 = [ ['f','b'],\n",
    "       ['g','h'] ]\n",
    "\n",
    "res = [ ['f','b','a','b','c'],\n",
    "        ['g','h','d','b','a'] ]\n",
    "\n",
    "stitch_left_mod(m1, m2) \n",
    "assert m1 == res"
   ]
  },
  {
   "cell_type": "markdown",
   "metadata": {},
   "source": [
    "### transpose_1\n",
    "\n",
    "Let's see how to transpose a matrix _in-place_. The transpose $M^T$ of a matrix $M$ is defined as "
   ]
  },
  {
   "cell_type": "markdown",
   "metadata": {},
   "source": [
    "$M^T[i][j] = M[j][i]$"
   ]
  },
  {
   "cell_type": "markdown",
   "metadata": {},
   "source": [
    "The definition is simple yet implementation might be tricky. If you're not careful, you could easily end up swapping the values twice and get the same original matrix. To prevent this, iterate only the upper triangular part of the matrix and remember `range` funciton can also have a start index:"
   ]
  },
  {
   "cell_type": "code",
   "execution_count": 52,
   "metadata": {},
   "outputs": [
    {
     "data": {
      "text/plain": [
       "[3, 4, 5, 6]"
      ]
     },
     "execution_count": 52,
     "metadata": {},
     "output_type": "execute_result"
    }
   ],
   "source": [
    "list(range(3,7))"
   ]
  },
  {
   "cell_type": "markdown",
   "metadata": {},
   "source": [
    "Also, make sure you know how to swap just two values by solving first this very simple exercise - also check the result in Python Tutor"
   ]
  },
  {
   "cell_type": "raw",
   "id": "small-leadership",
   "metadata": {
    "format": "text/html"
   },
   "source": [
    "<a  class=\"jupman-sol jupman-sol-toggler\" \n",
    " onclick=\"jupman.toggleSolution(this);\" \n",
    " data-jupman-show=\"Show solution\" data-jupman-hide=\"Hide\">Show solution</a><div class=\"jupman-sol jupman-sol-code\" style=\"display:none\">  "
   ]
  },
  {
   "cell_type": "code",
   "execution_count": 53,
   "metadata": {},
   "outputs": [],
   "source": [
    "x = 3\n",
    "y = 7\n",
    "\n",
    "# write here code for swapping x and y (don't directly use the constants 3 and 7!)\n",
    "\n",
    "k = x   \n",
    "x = y\n",
    "y = k\n",
    "\n",
    "#jupman.pytut()"
   ]
  },
  {
   "cell_type": "raw",
   "id": "dynamic-welsh",
   "metadata": {
    "format": "text/html"
   },
   "source": [
    "</div>"
   ]
  },
  {
   "cell_type": "code",
   "execution_count": 53,
   "metadata": {},
   "outputs": [],
   "source": [
    "x = 3\n",
    "y = 7\n",
    "\n",
    "# write here code for swapping x and y (don't directly use the constants 3 and 7!)\n",
    "\n"
   ]
  },
  {
   "cell_type": "markdown",
   "metadata": {},
   "source": [
    "Going back to the transpose, for now we will consider only an nxn matrix. To make sure we actually get an nxn matrix, \n",
    "we will validate the input as before."
   ]
  },
  {
   "cell_type": "markdown",
   "metadata": {},
   "source": [
    "<div class=\"alert alert-info\" >\n",
    "\n",
    "[IV COMMANDMENT](https://en.softpython.org/commandments.html#IV-COMMANDMENT) **(adapted for matrices): You shall never ever reassign function parameters**\n",
    "</div>\n",
    "\n",
    "```python\n",
    "\n",
    "    def myfun(M):\n",
    "\n",
    "        # M is a parameter, so you shall *not* do any of such evil:\n",
    "        \n",
    "        M = [ \n",
    "                [6661,6662],\n",
    "                [6663,6664 ]\n",
    "            ]  \n",
    "\n",
    "\n",
    "        # For the sole case of composite parameters like lists (or lists of lists ..)\n",
    "        # you can write stuff like this IF AND ONLY IF the function specification \n",
    "        # requires you to modify the parameter internal elements (i.e. transposing _in-place_):\n",
    "\n",
    "        M[0][1] =  6663\n",
    "```\n"
   ]
  },
  {
   "cell_type": "markdown",
   "metadata": {},
   "source": [
    "✪✪✪ **EXERCISE** If you read _all_  the above, you can now proceed implementing the `transpose_1` function, which MODIFIES the given `n`x`n` matrix `mat` by transposing it *in-place*. \n",
    "\n",
    "* If the matrix is not `n`x`n`, raises a `ValueError`"
   ]
  },
  {
   "cell_type": "raw",
   "id": "attached-jersey",
   "metadata": {
    "format": "text/html"
   },
   "source": [
    "<a  class=\"jupman-sol jupman-sol-toggler\" \n",
    " onclick=\"jupman.toggleSolution(this);\" \n",
    " data-jupman-show=\"Show solution\" data-jupman-hide=\"Hide\">Show solution</a><div class=\"jupman-sol jupman-sol-code\" style=\"display:none\">  "
   ]
  },
  {
   "cell_type": "code",
   "execution_count": 54,
   "metadata": {},
   "outputs": [],
   "source": [
    "def transpose_1(mat):\n",
    "    \n",
    "    if len(mat) != len(mat[0]):\n",
    "        raise ValueError(\"Matrix should be nxn, found instead %s x %s\" % (len(mat), len(mat[0])))\n",
    "    for i in range(len(mat)):\n",
    "        for j in range(i+1,len(mat[i])):\n",
    "            el = mat[i][j]\n",
    "            mat[i][j] = mat[j][i]\n",
    "            mat[j][i] = el\n",
    "    \n",
    "         \n",
    "\n",
    "        \n",
    "# let's try wrong matrix dimensions: \n",
    "try: \n",
    "    transpose_1([ [3,5] ])\n",
    "    raise Exception(\"SHOULD HAVE FAILED !\")\n",
    "except ValueError:\n",
    "    pass\n",
    "            \n",
    "m1 = [ ['a'] ]\n",
    "\n",
    "transpose_1(m1)\n",
    "assert m1 == [ ['a'] ]\n",
    "\n",
    "m2 = [ ['a','b'],\n",
    "       ['c','d'] ]\n",
    "\n",
    "transpose_1(m2)\n",
    "assert m2 == [ ['a','c'],\n",
    "               ['b','d'] ]"
   ]
  },
  {
   "cell_type": "raw",
   "id": "northern-grocery",
   "metadata": {
    "format": "text/html"
   },
   "source": [
    "</div>"
   ]
  },
  {
   "cell_type": "code",
   "execution_count": 54,
   "metadata": {},
   "outputs": [],
   "source": [
    "def transpose_1(mat):\n",
    "    raise Exception('TODO IMPLEMENT ME !')\n",
    "         \n",
    "\n",
    "        \n",
    "# let's try wrong matrix dimensions: \n",
    "try: \n",
    "    transpose_1([ [3,5] ])\n",
    "    raise Exception(\"SHOULD HAVE FAILED !\")\n",
    "except ValueError:\n",
    "    pass\n",
    "            \n",
    "m1 = [ ['a'] ]\n",
    "\n",
    "transpose_1(m1)\n",
    "assert m1 == [ ['a'] ]\n",
    "\n",
    "m2 = [ ['a','b'],\n",
    "       ['c','d'] ]\n",
    "\n",
    "transpose_1(m2)\n",
    "assert m2 == [ ['a','c'],\n",
    "               ['b','d'] ]"
   ]
  },
  {
   "cell_type": "markdown",
   "metadata": {},
   "source": [
    "### transpose_2\n",
    "\n",
    "✪✪ Now let's try to transpose a generic nxm matrix. This time for simplicity we will return a whole new matrix.\n",
    "\n",
    "RETURN a NEW mxn matrix which is the transpose of the given `n`x`m` matrix `mat` as list of lists."
   ]
  },
  {
   "cell_type": "raw",
   "id": "dressed-lesbian",
   "metadata": {
    "format": "text/html"
   },
   "source": [
    "<a  class=\"jupman-sol jupman-sol-toggler\" \n",
    " onclick=\"jupman.toggleSolution(this);\" \n",
    " data-jupman-show=\"Show solution\" data-jupman-hide=\"Hide\">Show solution</a><div class=\"jupman-sol jupman-sol-code\" style=\"display:none\">  "
   ]
  },
  {
   "cell_type": "code",
   "execution_count": 55,
   "metadata": {},
   "outputs": [],
   "source": [
    "def transpose_2(mat):\n",
    "    \n",
    "    n = len(mat)\n",
    "    m = len(mat[0])\n",
    "    ret = [[0]*n for i in range(m)]\n",
    "    for i in range(n):\n",
    "        for j in range(m):\n",
    "            ret[j][i] = mat[i][j]\n",
    "    return ret\n",
    "    \n",
    "\n",
    "m1 = [ ['a'] ]\n",
    "\n",
    "r1 = transpose_2(m1)\n",
    "\n",
    "assert  r1 == [ ['a'] ]\n",
    "r1[0][0] = 'z'\n",
    "assert m1[0][0] == 'a'\n",
    "\n",
    "m2 = [ ['a','b','c'],\n",
    "       ['d','e','f'] ]\n",
    "\n",
    "assert transpose_2(m2) == [ ['a','d'],\n",
    "                            ['b','e'],\n",
    "                            ['c','f'] ]"
   ]
  },
  {
   "cell_type": "raw",
   "id": "characteristic-brooklyn",
   "metadata": {
    "format": "text/html"
   },
   "source": [
    "</div>"
   ]
  },
  {
   "cell_type": "code",
   "execution_count": 55,
   "metadata": {},
   "outputs": [],
   "source": [
    "def transpose_2(mat):\n",
    "    raise Exception('TODO IMPLEMENT ME !')\n",
    "\n",
    "m1 = [ ['a'] ]\n",
    "\n",
    "r1 = transpose_2(m1)\n",
    "\n",
    "assert  r1 == [ ['a'] ]\n",
    "r1[0][0] = 'z'\n",
    "assert m1[0][0] == 'a'\n",
    "\n",
    "m2 = [ ['a','b','c'],\n",
    "       ['d','e','f'] ]\n",
    "\n",
    "assert transpose_2(m2) == [ ['a','d'],\n",
    "                            ['b','e'],\n",
    "                            ['c','f'] ]"
   ]
  },
  {
   "cell_type": "markdown",
   "metadata": {},
   "source": [
    "### lab \n",
    "\n",
    "✪✪✪ If you're a teacher that often see new students, you have this problem: if two students who are friends sit side by side they can start chatting way too much. To keep them quiet, you want to somehow randomize student displacement by following this algorithm:\n",
    "\n",
    "1. first sort the students alphabetically\n",
    "2. then sorted students progressively sit at the available chairs one by one, first filling the first row, then the second, till the end.\n",
    "\n",
    "Now implement the algorithm.\n",
    "\n",
    "INPUT:\n",
    "\n",
    "- students: a list of strings of length <= n*m\n",
    "- chairs:   an nxm matrix as list of lists filled with None values (empty chairs)\n",
    "\n",
    "OUTPUT: MODIFIES BOTH students and chairs inputs, without returning anything\n",
    "\n",
    "If students are more than available chairs, raises ValueError\n",
    "\n",
    "Example:\n",
    "\n",
    "```python\n",
    "ss =  ['b', 'd', 'e', 'g', 'c', 'a', 'h', 'f' ]\n",
    "\n",
    "mat = [\n",
    "            [None, None, None],\n",
    "            [None, None, None],    \n",
    "            [None, None, None],    \n",
    "            [None, None, None]\n",
    "         ]\n",
    "\n",
    "lab(ss,  mat)\n",
    "\n",
    "# after execution, mat should result changed to this:\n",
    "\n",
    "assert mat == [\n",
    "                ['a',  'b', 'c'],\n",
    "                ['d',  'e', 'f'],\n",
    "                ['g',  'h',  None],\n",
    "                [None, None, None],\n",
    "              ]\n",
    "# after execution, input ss should now be ordered:\n",
    "\n",
    "assert ss == ['a','b','c','d','e','f','g','f']\n",
    "```\n",
    "\n",
    "For more examples, see tests\n"
   ]
  },
  {
   "cell_type": "raw",
   "id": "frequent-border",
   "metadata": {
    "format": "text/html"
   },
   "source": [
    "<a  class=\"jupman-sol jupman-sol-toggler\" \n",
    " onclick=\"jupman.toggleSolution(this);\" \n",
    " data-jupman-show=\"Show solution\" data-jupman-hide=\"Hide\">Show solution</a><div class=\"jupman-sol jupman-sol-code\" style=\"display:none\">  "
   ]
  },
  {
   "cell_type": "code",
   "execution_count": 56,
   "metadata": {},
   "outputs": [],
   "source": [
    " \n",
    "def lab(students, chairs):\n",
    "    \n",
    "    \n",
    "    n = len(chairs)\n",
    "    m = len(chairs[0])\n",
    "    \n",
    "    if len(students) > n*m:\n",
    "        raise ValueError(\"There are more students than chairs ! Students = %s, chairs = %sx%s\" % (len(students), n, m))\n",
    "    \n",
    "    i = 0\n",
    "    j = 0\n",
    "    students.sort()\n",
    "    for s in students:\n",
    "        chairs[i][j] = s\n",
    "        \n",
    "        if j == m - 1:\n",
    "            j = 0\n",
    "            i += 1\n",
    "        else:\n",
    "            j += 1\n",
    "    \n",
    "\n",
    "\n",
    "try:\n",
    "    lab(['a','b'], [[None]])\n",
    "    raise Exception(\"TEST FAILED: Should have failed before with a ValueError!\")\n",
    "except ValueError:\n",
    "    \"Test passed\"    \n",
    "\n",
    "try:\n",
    "    lab(['a','b','c'], [[None,None]])\n",
    "    raise Exception(\"TEST FAILED: Should have failed before with a ValueError!\")\n",
    "except ValueError:\n",
    "    \"Test passed\"    \n",
    "    \n",
    "    \n",
    "m0 = [ [None] ]\n",
    "\n",
    "r0 = lab([],m0)  \n",
    "assert m0 == [ [None] ]\n",
    "assert r0 == None  # function is not meant to return anything (so returns None by default)\n",
    "\n",
    "\n",
    "m1 = [ [None] ]\n",
    "r1 = lab(['a'], m1)\n",
    "\n",
    "assert m1 == [ ['a'] ]\n",
    "assert r1 == None  # function is not meant to return anything (so returns None by default)\n",
    "\n",
    "m2 = [ [None, None] ]\n",
    "lab(['a'], m2)  # 1 student 2 chairs in one row\n",
    "\n",
    "assert m2 == [ ['a', None] ]\n",
    "\n",
    "\n",
    "m3 = [ [None],\n",
    "       [None] ]\n",
    "lab(['a'], m3) # 1 student 2 chairs in one column\n",
    "assert m3 == [ ['a'],\n",
    "               [None] ]\n",
    "\n",
    "ss4 = ['b', 'a']\n",
    "m4 = [ [None, None] ]\n",
    "lab(ss4, m4)  # 2 students 2 chairs in one row\n",
    "\n",
    "assert m4 == [ ['a','b'] ]\n",
    "\n",
    "assert ss4 == ['a', 'b']  # also modified input list as required by function text\n",
    "\n",
    "m5 = [ [None, None],\n",
    "       [None, None] ]\n",
    "lab(['b', 'c', 'a'], m5)  # 3 students 2x2 chairs\n",
    "\n",
    "assert m5 == [ ['a','b'],\n",
    "               ['c', None] ]\n",
    "\n",
    "m6 = [ [None, None],\n",
    "       [None, None] ]\n",
    "lab(['b', 'd', 'c', 'a'], m6)  # 4 students 2x2 chairs\n",
    "\n",
    "assert m6 == [ ['a','b'],\n",
    "               ['c','d'] ]\n",
    "\n",
    "m7 = [ [None, None, None],\n",
    "       [None, None, None] ]\n",
    "lab(['b', 'd', 'e', 'c', 'a'], m7)  # 5 students 3x2 chairs\n",
    "\n",
    "assert m7 == [ ['a','b','c'],\n",
    "               ['d','e',None] ]\n",
    "\n",
    "ss8 = ['b', 'd', 'e', 'g', 'c', 'a', 'h', 'f' ]\n",
    "m8 = [ [None, None, None],\n",
    "       [None, None, None],\n",
    "       [None, None, None],\n",
    "       [None, None, None] ]\n",
    "lab(ss8, m8)  # 8 students 3x4 chairs\n",
    "\n",
    "assert m8 == [ ['a',  'b',  'c'],\n",
    "               ['d',  'e',  'f'],\n",
    "               ['g',  'h',  None],\n",
    "               [None, None, None] ]\n",
    "\n",
    "assert ss8 == ['a','b','c','d','e','f','g','h']"
   ]
  },
  {
   "cell_type": "raw",
   "id": "fitted-hardwood",
   "metadata": {
    "format": "text/html"
   },
   "source": [
    "</div>"
   ]
  },
  {
   "cell_type": "code",
   "execution_count": 56,
   "metadata": {},
   "outputs": [],
   "source": [
    " \n",
    "def lab(students, chairs):\n",
    "    raise Exception('TODO IMPLEMENT ME !')\n",
    "\n",
    "\n",
    "try:\n",
    "    lab(['a','b'], [[None]])\n",
    "    raise Exception(\"TEST FAILED: Should have failed before with a ValueError!\")\n",
    "except ValueError:\n",
    "    \"Test passed\"    \n",
    "\n",
    "try:\n",
    "    lab(['a','b','c'], [[None,None]])\n",
    "    raise Exception(\"TEST FAILED: Should have failed before with a ValueError!\")\n",
    "except ValueError:\n",
    "    \"Test passed\"    \n",
    "    \n",
    "    \n",
    "m0 = [ [None] ]\n",
    "\n",
    "r0 = lab([],m0)  \n",
    "assert m0 == [ [None] ]\n",
    "assert r0 == None  # function is not meant to return anything (so returns None by default)\n",
    "\n",
    "\n",
    "m1 = [ [None] ]\n",
    "r1 = lab(['a'], m1)\n",
    "\n",
    "assert m1 == [ ['a'] ]\n",
    "assert r1 == None  # function is not meant to return anything (so returns None by default)\n",
    "\n",
    "m2 = [ [None, None] ]\n",
    "lab(['a'], m2)  # 1 student 2 chairs in one row\n",
    "\n",
    "assert m2 == [ ['a', None] ]\n",
    "\n",
    "\n",
    "m3 = [ [None],\n",
    "       [None] ]\n",
    "lab(['a'], m3) # 1 student 2 chairs in one column\n",
    "assert m3 == [ ['a'],\n",
    "               [None] ]\n",
    "\n",
    "ss4 = ['b', 'a']\n",
    "m4 = [ [None, None] ]\n",
    "lab(ss4, m4)  # 2 students 2 chairs in one row\n",
    "\n",
    "assert m4 == [ ['a','b'] ]\n",
    "\n",
    "assert ss4 == ['a', 'b']  # also modified input list as required by function text\n",
    "\n",
    "m5 = [ [None, None],\n",
    "       [None, None] ]\n",
    "lab(['b', 'c', 'a'], m5)  # 3 students 2x2 chairs\n",
    "\n",
    "assert m5 == [ ['a','b'],\n",
    "               ['c', None] ]\n",
    "\n",
    "m6 = [ [None, None],\n",
    "       [None, None] ]\n",
    "lab(['b', 'd', 'c', 'a'], m6)  # 4 students 2x2 chairs\n",
    "\n",
    "assert m6 == [ ['a','b'],\n",
    "               ['c','d'] ]\n",
    "\n",
    "m7 = [ [None, None, None],\n",
    "       [None, None, None] ]\n",
    "lab(['b', 'd', 'e', 'c', 'a'], m7)  # 5 students 3x2 chairs\n",
    "\n",
    "assert m7 == [ ['a','b','c'],\n",
    "               ['d','e',None] ]\n",
    "\n",
    "ss8 = ['b', 'd', 'e', 'g', 'c', 'a', 'h', 'f' ]\n",
    "m8 = [ [None, None, None],\n",
    "       [None, None, None],\n",
    "       [None, None, None],\n",
    "       [None, None, None] ]\n",
    "lab(ss8, m8)  # 8 students 3x4 chairs\n",
    "\n",
    "assert m8 == [ ['a',  'b',  'c'],\n",
    "               ['d',  'e',  'f'],\n",
    "               ['g',  'h',  None],\n",
    "               [None, None, None] ]\n",
    "\n",
    "assert ss8 == ['a','b','c','d','e','f','g','h']"
   ]
  },
  {
   "cell_type": "markdown",
   "metadata": {},
   "source": [
    "### dump\n",
    "\n",
    "The multinational ToxiCorp wants to hire you for devising an automated truck driver which will deposit highly contaminated waste in the illegal dumps they own worldwide. You find it ethically questionable, but they pay well, so you accept.\n",
    "\n",
    "A dump is modelled as a rectangular region of dimensions `nrow` and `ncol`, implemented as a list of lists matrix. Every cell `i`, `j` contains the tons of waste present, and can contain _at most_ `7` tons of waste. \n",
    "\n",
    "The dumpster truck will transport `q` tons of waste, and try to fill the dump by depositing waste in the first row, filling each cell up to 7 tons. When the first row is filled, it will proceed to the second one _from the left_ , then to the third one again _from the left_ until there is no waste to dispose of. \n",
    "\n",
    "Function `dump(m, q)` takes as input the dump `mat` and the number of tons `q` to dispose of, and RETURN a NEW list representing a plan with the sequence of tons to dispose. If waste to dispose exceeds dump capacity, raises `ValueError`.\n",
    "\n",
    "**NOTE**: the function does **not** modify the matrix\n",
    "\n",
    "**Example:**\n",
    "\n",
    "```python\n",
    "m = [          \n",
    "        [5,4,6],   \n",
    "        [4,7,1],   \n",
    "        [3,2,6],   \n",
    "        [3,6,2],   \n",
    "]\n",
    "\n",
    "dump(m, 22)\n",
    "\n",
    "[2, 3, 1, 3, 0, 6, 4, 3]\n",
    "\n",
    "```\n",
    "\n",
    "For first row we dispose of 2,3,1 tons in three cells, for second row we dispose of 3,0,6 tons in three cells, for third row we only dispose 4, 3 tons in two cells as limit q=22 is reached.\n",
    "\n",
    "\n"
   ]
  },
  {
   "cell_type": "raw",
   "id": "municipal-router",
   "metadata": {
    "format": "text/html"
   },
   "source": [
    "<a  class=\"jupman-sol jupman-sol-toggler\" \n",
    " onclick=\"jupman.toggleSolution(this);\" \n",
    " data-jupman-show=\"Show solution\" data-jupman-hide=\"Hide\">Show solution</a><div class=\"jupman-sol jupman-sol-code\" style=\"display:none\">  "
   ]
  },
  {
   "cell_type": "code",
   "execution_count": 57,
   "metadata": {},
   "outputs": [],
   "source": [
    "def dump(mat, q):\n",
    "    \n",
    "    rem = q\n",
    "    ret = []\n",
    "    \n",
    "    for riga in mat:\n",
    "        for j in range(len(riga)):\n",
    "            cellfill = 7 - riga[j]\n",
    "            unload = min(cellfill, rem)\n",
    "            rem -= unload\n",
    "            \n",
    "            if rem > 0:                \n",
    "                ret.append(unload)            \n",
    "            else:             \n",
    "                if unload > 0:\n",
    "                    ret.append(unload)            \n",
    "                return ret\n",
    "                  \n",
    "    if rem > 0:\n",
    "        raise ValueError(\"Couldn't fill the dump, %s tons remain!\")\n",
    "    \n",
    "    \n",
    "m1 = [ [5] ]\n",
    "\n",
    "assert dump(m1,0) == []  # nothing to dump\n",
    "\n",
    "m2 = [ [4] ]\n",
    "\n",
    "assert dump(m2,2) == [2]\n",
    "\n",
    "m3 = [ [5,4] ]     \n",
    "\n",
    "assert dump(m3,3) == [2, 1]\n",
    "\n",
    "\n",
    "m3 = [ [5,7,3] ]\n",
    "\n",
    "assert dump(m3,3) == [2, 0, 1]\n",
    "\n",
    "\n",
    "m5 = [ [2,5],   # 5 2\n",
    "       [4,3] ]  # 3 1\n",
    "\n",
    "assert dump(m5,11) == [5,2,3,1]\n",
    "\n",
    "                  # tons to dump in each cell\n",
    "m6 = [ [5,4,6],   # 2 3 1     \n",
    "       [4,7,1],   # 3 0 6     \n",
    "       [3,2,6],   # 4 3 0     \n",
    "       [3,6,2] ]  # 0 0 0\n",
    "    \n",
    "assert dump(m6, 22) == [2,3,1,3,0,6,4,3]\n",
    "\n",
    "try:\n",
    "    dump ([[5]], 10)\n",
    "    raise Exception(\"Should have failed !\")\n",
    "except ValueError:\n",
    "    pass"
   ]
  },
  {
   "cell_type": "raw",
   "id": "eligible-personality",
   "metadata": {
    "format": "text/html"
   },
   "source": [
    "</div>"
   ]
  },
  {
   "cell_type": "code",
   "execution_count": 57,
   "metadata": {},
   "outputs": [],
   "source": [
    "def dump(mat, q):\n",
    "    raise Exception('TODO IMPLEMENT ME !')\n",
    "    \n",
    "m1 = [ [5] ]\n",
    "\n",
    "assert dump(m1,0) == []  # nothing to dump\n",
    "\n",
    "m2 = [ [4] ]\n",
    "\n",
    "assert dump(m2,2) == [2]\n",
    "\n",
    "m3 = [ [5,4] ]     \n",
    "\n",
    "assert dump(m3,3) == [2, 1]\n",
    "\n",
    "\n",
    "m3 = [ [5,7,3] ]\n",
    "\n",
    "assert dump(m3,3) == [2, 0, 1]\n",
    "\n",
    "\n",
    "m5 = [ [2,5],   # 5 2\n",
    "       [4,3] ]  # 3 1\n",
    "\n",
    "assert dump(m5,11) == [5,2,3,1]\n",
    "\n",
    "                  # tons to dump in each cell\n",
    "m6 = [ [5,4,6],   # 2 3 1     \n",
    "       [4,7,1],   # 3 0 6     \n",
    "       [3,2,6],   # 4 3 0     \n",
    "       [3,6,2] ]  # 0 0 0\n",
    "    \n",
    "assert dump(m6, 22) == [2,3,1,3,0,6,4,3]\n",
    "\n",
    "try:\n",
    "    dump ([[5]], 10)\n",
    "    raise Exception(\"Should have failed !\")\n",
    "except ValueError:\n",
    "    pass"
   ]
  },
  {
   "cell_type": "markdown",
   "metadata": {},
   "source": [
    "### matrix multiplication\n",
    "\n",
    "Have a look at [matrix multiplication definition](https://en.wikipedia.org/w/index.php?title=Matrix_multiplication&section=2#Definition) on Wikipedia and try to implement it in the following function.\n",
    "\n",
    "Basically, given nxm matrix A and mxp matrix B you need to output an nxp matrix C calculating the entries $c_{ij}$ with the formula\n",
    "\n",
    "$c_{ij} = a_{i1}b_{1j} +\\cdots + a_{im}b_{mj}= \\sum_{k=1}^m a_{ik}b_{kj}$\n",
    "\n",
    "\n",
    "You need to fill all the  nxp cells of C, so sure enough to fill  a rectangle you need two `for`s. Do you also need another `for` ? Help yourself with the following visualization. "
   ]
  },
  {
   "cell_type": "markdown",
   "metadata": {},
   "source": [
    "![mul yuyu87](img/mul.png)"
   ]
  },
  {
   "cell_type": "markdown",
   "metadata": {},
   "source": [
    "✪✪✪ **EXERCISE**: Given matrices `n` x `m` `mata` and `m` x `p` `matb`, RETURN a NEW `n` x `p` matrix which is the result of the multiplication of `mata` by `matb`.\n",
    "\n",
    "* If `mata` has column number different from `matb` row number, raises a `ValueError`."
   ]
  },
  {
   "cell_type": "raw",
   "id": "tamil-publicity",
   "metadata": {
    "format": "text/html"
   },
   "source": [
    "<a  class=\"jupman-sol jupman-sol-toggler\" \n",
    " onclick=\"jupman.toggleSolution(this);\" \n",
    " data-jupman-show=\"Show solution\" data-jupman-hide=\"Hide\">Show solution</a><div class=\"jupman-sol jupman-sol-code\" style=\"display:none\">  "
   ]
  },
  {
   "cell_type": "code",
   "execution_count": 58,
   "metadata": {},
   "outputs": [],
   "source": [
    "def mul(mata, matb):\n",
    "    \n",
    "    n = len(mata)\n",
    "    m = len(mata[0])\n",
    "    p = len(matb[0])\n",
    "    if m != len(matb):\n",
    "        raise ValueError(\"mat1 column number %s must be equal to mat2 row number %s !\" % (m, len(matb)))\n",
    "    ret = [[0]*p for i in range(n)]\n",
    "    for i in range(n):\n",
    "        for j in range(p):\n",
    "            ret[i][j] = 0\n",
    "            for k in range(m):\n",
    "                ret[i][j] += mata[i][k] * matb[k][j]\n",
    "    return ret\n",
    "    \n",
    "\n",
    "# TEST START - DO NOT TOUCH!      \n",
    "# if you wrote the whole code correct, and execute the cell, Python shouldn't raise `AssertionError`\n",
    "\n",
    "# let's try wrong matrix dimensions: \n",
    "try: \n",
    "    mul([[3,5]], [[7]])\n",
    "    raise Exception(\"SHOULD HAVE FAILED!\")\n",
    "except ValueError:\n",
    "    \"passed test\"\n",
    "\n",
    "ma1 = [ [3] ]\n",
    "mb1 = [ [5] ]\n",
    "r1 = mul(ma1,mb1)\n",
    "assert r1 == [ [15] ]\n",
    "\n",
    "ma2 = [ [3],\n",
    "        [5] ]\n",
    "\n",
    "mb2 = [ [2,6] ]\n",
    "\n",
    "r2 = mul(ma2,mb2)\n",
    "\n",
    "assert r2 == [ [3*2, 3*6],\n",
    "               [5*2, 5*6] ]\n",
    "\n",
    "ma3 = [ [3,5]  ]\n",
    "\n",
    "mb3 = [  [2],\n",
    "         [6] ]\n",
    "\n",
    "r3 = mul(ma3,mb3)\n",
    "\n",
    "assert r3 == [ [3*2 + 5*6] ]\n",
    "\n",
    "ma4 = [ [3,5],\n",
    "        [7,1],\n",
    "        [9,4] ]\n",
    "\n",
    "mb4 = [ [4,1,5,7],\n",
    "        [8,5,2,7] ]\n",
    "r4 = mul(ma4,mb4)\n",
    "\n",
    "assert r4 == [ [52, 28, 25, 56],\n",
    "               [36, 12, 37, 56],\n",
    "               [68, 29, 53, 91] ]"
   ]
  },
  {
   "cell_type": "raw",
   "id": "accomplished-place",
   "metadata": {
    "format": "text/html"
   },
   "source": [
    "</div>"
   ]
  },
  {
   "cell_type": "code",
   "execution_count": 58,
   "metadata": {},
   "outputs": [],
   "source": [
    "def mul(mata, matb):\n",
    "    raise Exception('TODO IMPLEMENT ME !')\n",
    "\n",
    "# TEST START - DO NOT TOUCH!      \n",
    "# if you wrote the whole code correct, and execute the cell, Python shouldn't raise `AssertionError`\n",
    "\n",
    "# let's try wrong matrix dimensions: \n",
    "try: \n",
    "    mul([[3,5]], [[7]])\n",
    "    raise Exception(\"SHOULD HAVE FAILED!\")\n",
    "except ValueError:\n",
    "    \"passed test\"\n",
    "\n",
    "ma1 = [ [3] ]\n",
    "mb1 = [ [5] ]\n",
    "r1 = mul(ma1,mb1)\n",
    "assert r1 == [ [15] ]\n",
    "\n",
    "ma2 = [ [3],\n",
    "        [5] ]\n",
    "\n",
    "mb2 = [ [2,6] ]\n",
    "\n",
    "r2 = mul(ma2,mb2)\n",
    "\n",
    "assert r2 == [ [3*2, 3*6],\n",
    "               [5*2, 5*6] ]\n",
    "\n",
    "ma3 = [ [3,5]  ]\n",
    "\n",
    "mb3 = [  [2],\n",
    "         [6] ]\n",
    "\n",
    "r3 = mul(ma3,mb3)\n",
    "\n",
    "assert r3 == [ [3*2 + 5*6] ]\n",
    "\n",
    "ma4 = [ [3,5],\n",
    "        [7,1],\n",
    "        [9,4] ]\n",
    "\n",
    "mb4 = [ [4,1,5,7],\n",
    "        [8,5,2,7] ]\n",
    "r4 = mul(ma4,mb4)\n",
    "\n",
    "assert r4 == [ [52, 28, 25, 56],\n",
    "               [36, 12, 37, 56],\n",
    "               [68, 29, 53, 91] ]"
   ]
  },
  {
   "cell_type": "markdown",
   "metadata": {},
   "source": [
    "### check_nqueen\n",
    "\n",
    "✪✪✪✪ This is a hard problem but don't worry, exam exercises will be simpler!\n",
    "\n",
    "You have an nxn matrix of booleans representing a chessboard where True means there is a queen in a cell,and False there is nothing. \n",
    "\n",
    "For the sake of visualization, we can represent a configurations using `o` to mean `False` and letters like 'A'  and 'B' are queens. Contrary to what we've done so far, for later convenience we show the matrix with the `j` going from bottom to top.\n",
    "\n",
    "Let's see an example. In this case A and B can not attack each other, so the algorithm would return `True`:\n",
    "\n",
    "\n",
    "```\n",
    "\n",
    "    7  ......B.\n",
    "    6  ........\n",
    "    5  ........\n",
    "    4  ........\n",
    "    3  ....A...\n",
    "    2  ........\n",
    "    1  ........\n",
    "    0  ........\n",
    "    i \n",
    "     j 01234567  \n",
    "\n",
    "\n",
    "Let's see why by evidencing A attack lines ..\n",
    "\n",
    "    7  \\...|.B.\n",
    "    6  .\\..|../\n",
    "    5  ..\\.|./.\n",
    "    4  ...\\|/..\n",
    "    3  ----A---\n",
    "    2  .../|\\..\n",
    "    1  ../.|.\\.\n",
    "    0  ./..|..\\\n",
    "    i \n",
    "     j 01234567  \n",
    "\n",
    "\n",
    "... and B attack lines: \n",
    "\n",
    "    7  ------B-\n",
    "    6  ...../|\\\n",
    "    5  ..../.|.\n",
    "    4  .../..|.\n",
    "    3  ../.A.|.\n",
    "    2  ./....|.\n",
    "    1  /.....|.\n",
    "    0  ......|.\n",
    "    i \n",
    "     j 01234567  \n",
    "\n",
    "\n",
    "```\n",
    "\n",
    "\n",
    "In this other case the algorithm would return False as `A` and `B` can attack each other:\n",
    "\n",
    "```\n",
    "    \n",
    "    \n",
    "    7  \\./.|...\n",
    "    6  -B--|--/\n",
    "    5  /|\\.|./.\n",
    "    4  .|.\\|/..\n",
    "    3  ----A---\n",
    "    2  .|./|\\..\n",
    "    1  .|/.|.\\.\n",
    "    0  ./..|..\\\n",
    "    i \n",
    "     j 01234567  \n",
    "\n",
    "```\n",
    "\n",
    "In your algorithm, first you need to scan for queens. When you find one (and for each one of them !), you need to check if it can hit some other queen. Let's see how:\n",
    "\n",
    "In this 7x7 table we have only one queen A, with  at position `i=1` and `j=4`\n",
    "\n",
    "```\n",
    "    6  ....|..\n",
    "    5  \\...|..\n",
    "    4  .\\..|..\n",
    "    3  ..\\.|./\n",
    "    2  ...\\|/.\n",
    "    1  ----A--\n",
    "    0  .../|\\.\n",
    "    i  \n",
    "     j 0123456\n",
    "```\n",
    "\n",
    "To completely understand the range of the queen and how to calculate the diagonals, it is convenient to visually extend the table like so to have the diagonals hit the vertical axis. Notice we also added letters `y` and `x` \n",
    "\n",
    "\n",
    "<div class=\"alert alert-warning\">\n",
    "    \n",
    "**NOTE**: in the algorithm you **do not** need to extend the matrix !\n",
    "</div>\n",
    "\n",
    "\n",
    "```\n",
    "\n",
    "    y\n",
    "    6  ....|....\n",
    "    5  \\...|.../\n",
    "    4  .\\..|../.\n",
    "    3  ..\\.|./..\n",
    "    2  ...\\|/...\n",
    "    1  ----A----\n",
    "    0  .../|\\...\n",
    "   -1  ../.|.\\..\n",
    "   -2  ./..|..\\.\n",
    "   -3  /...|...\\\n",
    "    i \n",
    "     j 01234567 x \n",
    "\n",
    "\n",
    "```\n",
    "\n",
    "We see that the top-left to bottom-right diagonal hits the vertical axis at `y = 5` and the bottom-left to top-right diagonal hits the axis at `y = -3`. You should use this info to calculate the line equations.\n",
    "\n",
    "Now you should have all the necessary hints to proceed with the implementation."
   ]
  },
  {
   "cell_type": "raw",
   "id": "reliable-addition",
   "metadata": {
    "format": "text/html"
   },
   "source": [
    "<a  class=\"jupman-sol jupman-sol-toggler\" \n",
    " onclick=\"jupman.toggleSolution(this);\" \n",
    " data-jupman-show=\"Show solution\" data-jupman-hide=\"Hide\">Show solution</a><div class=\"jupman-sol jupman-sol-code\" style=\"display:none\">  "
   ]
  },
  {
   "cell_type": "code",
   "execution_count": 59,
   "metadata": {},
   "outputs": [],
   "source": [
    "\n",
    "def check_nqueen(mat):\n",
    "    \"\"\" Takes an nxn matrix of booleans representing a chessboard where True means there is a queen in a cell,\n",
    "        and False there is nothing. RETURN True if no queen can attack any other one, False otherwise\n",
    "        \n",
    "    \"\"\"\n",
    "    \n",
    "\n",
    "    # bottom-left to top-right line equation\n",
    "    # y = x - 3 \n",
    "    # -3 = -j + i \n",
    "    # y = x -j + i\n",
    "\n",
    "    # top-left to bottom-right line equation\n",
    "    # y = x + 5\n",
    "    # 5 = j + i\n",
    "    # y = x + j + i \n",
    "    \n",
    "    n = len(mat)\n",
    "    for i in range(n):\n",
    "        for j in range(n):\n",
    "            if mat[i][j]:  # queen is found at i,j\n",
    "                for y in range(n):            # vertical scan\n",
    "                    if y != i and mat[y][j]:\n",
    "                        return False\n",
    "                for x in range(n):            # horizontal scan\n",
    "                    if x != j and mat[i][x]:\n",
    "                        return False\n",
    "                for x in range(n):            \n",
    "                    y = x + j + i       # top-left to bottom-right \n",
    "                    if y >= 0 and y < n and y != i and x != j and mat[y][x]:\n",
    "                        return False\n",
    "                    y = x - j + i       # bottom-left to top-right\n",
    "                    if y >= 0 and y < n and y != i and x != j and mat[y][x]:\n",
    "                        return False\n",
    "                    \n",
    "    return True\n",
    "    \n",
    "\n",
    "assert check_nqueen([ [True] ])\n",
    "assert check_nqueen([ [True, True],\n",
    "                      [False, False] ]) == False\n",
    "\n",
    "assert check_nqueen([ [True, False],\n",
    "                      [False, True] ]) == False\n",
    "\n",
    "assert check_nqueen([ [True, False],\n",
    "                      [True, False] ]) == False\n",
    "\n",
    "assert check_nqueen([ [True,  False, False],\n",
    "                      [False, False, True],\n",
    "                      [False, False, False] ]) == True\n",
    "\n",
    "assert check_nqueen([ [True,  False, False],\n",
    "                      [False, False, False],\n",
    "                      [False, False, True] ]) == False\n",
    "\n",
    "\n",
    "assert check_nqueen([ [False, True,  False],\n",
    "                      [False, False, False],\n",
    "                      [False, False, True] ]) == True\n",
    "\n",
    "assert check_nqueen([ [False, True,  False],\n",
    "                      [False, True, False],\n",
    "                      [False, False, True] ]) == False"
   ]
  },
  {
   "cell_type": "raw",
   "id": "steady-nightmare",
   "metadata": {
    "format": "text/html"
   },
   "source": [
    "</div>"
   ]
  },
  {
   "cell_type": "code",
   "execution_count": 59,
   "metadata": {},
   "outputs": [],
   "source": [
    "\n",
    "def check_nqueen(mat):\n",
    "    \"\"\" Takes an nxn matrix of booleans representing a chessboard where True means there is a queen in a cell,\n",
    "        and False there is nothing. RETURN True if no queen can attack any other one, False otherwise\n",
    "        \n",
    "    \"\"\"\n",
    "    raise Exception('TODO IMPLEMENT ME !')\n",
    "\n",
    "assert check_nqueen([ [True] ])\n",
    "assert check_nqueen([ [True, True],\n",
    "                      [False, False] ]) == False\n",
    "\n",
    "assert check_nqueen([ [True, False],\n",
    "                      [False, True] ]) == False\n",
    "\n",
    "assert check_nqueen([ [True, False],\n",
    "                      [True, False] ]) == False\n",
    "\n",
    "assert check_nqueen([ [True,  False, False],\n",
    "                      [False, False, True],\n",
    "                      [False, False, False] ]) == True\n",
    "\n",
    "assert check_nqueen([ [True,  False, False],\n",
    "                      [False, False, False],\n",
    "                      [False, False, True] ]) == False\n",
    "\n",
    "\n",
    "assert check_nqueen([ [False, True,  False],\n",
    "                      [False, False, False],\n",
    "                      [False, False, True] ]) == True\n",
    "\n",
    "assert check_nqueen([ [False, True,  False],\n",
    "                      [False, True, False],\n",
    "                      [False, False, True] ]) == False"
   ]
  },
  {
   "cell_type": "code",
   "execution_count": null,
   "metadata": {},
   "outputs": [],
   "source": []
  }
 ],
 "metadata": {
  "celltoolbar": "Edit Metadata",
  "kernelspec": {
   "display_name": "Python 3",
   "language": "python",
   "name": "python3"
  },
  "language_info": {
   "codemirror_mode": {
    "name": "ipython",
    "version": 3
   },
   "file_extension": ".py",
   "mimetype": "text/x-python",
   "name": "python",
   "nbconvert_exporter": "python",
   "pygments_lexer": "ipython3",
   "version": "3.5.2"
  },
  "toc": {
   "base_numbering": 1,
   "nav_menu": {},
   "number_sections": false,
   "sideBar": true,
   "skip_h1_title": false,
   "title_cell": "Table of Contents",
   "title_sidebar": "Contents",
   "toc_cell": false,
   "toc_position": {
    "height": "calc(100% - 180px)",
    "left": "10px",
    "top": "150px",
    "width": "378px"
   },
   "toc_section_display": true,
   "toc_window_display": true
  }
 },
 "nbformat": 4,
 "nbformat_minor": 2
}
