{
 "cells": [
  {
   "cell_type": "code",
   "execution_count": 1,
   "metadata": {
    "nbsphinx": "hidden"
   },
   "outputs": [],
   "source": [
    "#Please execute this cell\n",
    "import jupman"
   ]
  },
  {
   "cell_type": "markdown",
   "metadata": {},
   "source": [
    "# Matrices: list of lists\n",
    "\n",
    "## [Download exercises zip](../_static/generated/matrices-lists.zip)\n",
    "\n",
    "[Browse files online](https://github.com/DavidLeoni/softpython-en/tree/master/matrices-lists)\n",
    "\n",
    "## Introduction\n",
    "\n",
    "\n",
    "There are a couple of ways in Python to represent matrices: as lists of lists, or with the external library [Numpy](https://www.numpy.org/). The most used is surely Numpy but we see both representations anyway. Let's see the reason and main differences:\n",
    "\n",
    "Lists of lists - as in this notebook:\n",
    "\n",
    "1. native in Python\n",
    "1. not efficient\n",
    "1.  lists are pervasive in Python, you will probably encounter matrices expressed as lists of lists anyway\n",
    "1. you get an idea of how to construct a nested data structure\n",
    "1. we can discuss memory referencies and copies along the way\n",
    "\n",
    "\n",
    "Numpy - see other tutorial [Numpy matrices](https://en.softpython.org/matrices-numpy/matrices-numpy-sol.html)\n",
    "\n",
    "1. not natively available in Python\n",
    "1. efficient\n",
    "1. used by many scientific libraries (scipy, pandas)\n",
    "1. the syntax to access elements is slightly different from lists of lists\n",
    "1. in rare cases it might bring installation problems and/or conflicts (implementation is not pure Python)"
   ]
  },
  {
   "cell_type": "markdown",
   "metadata": {},
   "source": [
    "## What to do\n",
    "\n",
    "- unzip exercises in a folder, you should get something like this: \n",
    "\n",
    "```\n",
    "matrices-lists\n",
    "    matrices-lists1.ipynb\n",
    "    matrices-lists1-sol.ipynb\n",
    "    matrices-lists2.ipynb\n",
    "    matrices-lists2-sol.ipynb    \n",
    "    matrices-lists3-chal.ipynb\n",
    "    jupman.py     \n",
    "```\n",
    "\n",
    "<div class=\"alert alert-warning\">\n",
    "\n",
    "**WARNING**: to correctly visualize the notebook, it MUST be in an unzipped folder !\n",
    "</div>\n",
    "\n",
    "\n",
    "- open Jupyter Notebook from that folder. Two things should open, first a console and then browser. The browser should show a file list: navigate the list and open the notebook `matrices-lists/matrices-lists1.ipynb`\n",
    "- Go on reading that notebook, and follow instuctions inside.\n",
    "\n",
    "\n",
    "Shortcut keys:\n",
    "\n",
    "- to execute Python code inside a Jupyter cell, press `Control + Enter`\n",
    "- to execute Python code inside a Jupyter cell AND select next cell, press `Shift + Enter`\n",
    "- to execute Python code inside a Jupyter cell AND a create a new cell aftwerwards, press `Alt + Enter`\n",
    "- If the notebooks look stuck, try to select `Kernel -> Restart`"
   ]
  },
  {
   "cell_type": "markdown",
   "metadata": {},
   "source": [
    "### Overview\n",
    "\n",
    "Let's see these lists of lists. Consider the following a matrix with 3 rows and 2 columns, or in short 3x2 matrix:"
   ]
  },
  {
   "cell_type": "code",
   "execution_count": 2,
   "metadata": {},
   "outputs": [],
   "source": [
    "m = [\n",
    "        ['a','b'],\n",
    "        ['c','d'],\n",
    "        ['a','e']    \n",
    "    ]"
   ]
  },
  {
   "cell_type": "markdown",
   "metadata": {},
   "source": [
    "For convenience, we assume as input to our functions there won't be matrices with no rows, nor rows with no columns. "
   ]
  },
  {
   "cell_type": "markdown",
   "metadata": {},
   "source": [
    "Going back to the example, in practice we have a big external list:\n",
    "\n",
    "```python\n",
    "m = [\n",
    "\n",
    "\n",
    "]\n",
    "```\n",
    "\n",
    "and each of its elements is another list which represents a row:\n",
    "\n",
    "```python\n",
    "m = [\n",
    "        ['a','b'],\n",
    "        ['c','d'],\n",
    "        ['a','e']\n",
    "    ]\n",
    "```\n",
    "\n",
    "So, to access the whole first row `['a','b']`, we would simply access the element at index 0 of the external list `m`:"
   ]
  },
  {
   "cell_type": "code",
   "execution_count": 3,
   "metadata": {},
   "outputs": [
    {
     "data": {
      "text/plain": [
       "['a', 'b']"
      ]
     },
     "execution_count": 3,
     "metadata": {},
     "output_type": "execute_result"
    }
   ],
   "source": [
    "m[0]"
   ]
  },
  {
   "cell_type": "markdown",
   "metadata": {},
   "source": [
    "To access the second whole second row `['c','d']`, we would access the element at index 1 of the external list `m`:"
   ]
  },
  {
   "cell_type": "code",
   "execution_count": 4,
   "metadata": {},
   "outputs": [
    {
     "data": {
      "text/plain": [
       "['c', 'd']"
      ]
     },
     "execution_count": 4,
     "metadata": {},
     "output_type": "execute_result"
    }
   ],
   "source": [
    "m[1]"
   ]
  },
  {
   "cell_type": "markdown",
   "metadata": {},
   "source": [
    "To access the second whole third row `['c','d']`, we would access the element at index 2 of the external list `m`:"
   ]
  },
  {
   "cell_type": "code",
   "execution_count": 5,
   "metadata": {},
   "outputs": [
    {
     "data": {
      "text/plain": [
       "['a', 'e']"
      ]
     },
     "execution_count": 5,
     "metadata": {},
     "output_type": "execute_result"
    }
   ],
   "source": [
    "m[2]"
   ]
  },
  {
   "cell_type": "markdown",
   "metadata": {},
   "source": [
    "To access the first element `'a'` of the first row `['a','b']` we would add another subscript operator with index 0:"
   ]
  },
  {
   "cell_type": "code",
   "execution_count": 6,
   "metadata": {},
   "outputs": [
    {
     "data": {
      "text/plain": [
       "'a'"
      ]
     },
     "execution_count": 6,
     "metadata": {},
     "output_type": "execute_result"
    }
   ],
   "source": [
    "m[0][0]"
   ]
  },
  {
   "cell_type": "markdown",
   "metadata": {},
   "source": [
    "To access the second elemnt `'b'` of the first row `['a','b']` we would use instead index 1 :"
   ]
  },
  {
   "cell_type": "code",
   "execution_count": 7,
   "metadata": {},
   "outputs": [
    {
     "data": {
      "text/plain": [
       "'b'"
      ]
     },
     "execution_count": 7,
     "metadata": {},
     "output_type": "execute_result"
    }
   ],
   "source": [
    "m[0][1]"
   ]
  },
  {
   "cell_type": "markdown",
   "metadata": {},
   "source": [
    "<div class=\"alert alert-warning\" >\n",
    "\n",
    "**WARNING**: When a matrix is a list of lists, you can only access values with notation `m[i][j]`, **NOT** with `m[i,j]` !!\n",
    "</div>"
   ]
  },
  {
   "cell_type": "code",
   "execution_count": 8,
   "metadata": {},
   "outputs": [],
   "source": [
    "# write here the wrong notation m[0,0] and see which error you get:\n"
   ]
  },
  {
   "cell_type": "markdown",
   "metadata": {},
   "source": [
    "## Exercises\n",
    "\n",
    "Now implement the following functions. \n",
    "\n",
    "<div class=\"alert alert-info\">\n",
    "\n",
    "**REMEMBER**: if the cell is executed and nothing happens, it is because all the assert tests have worked! In such case you probably wrote correct code but careful, these kind of tests are never exhaustive so you could have still made some error.\n",
    "</div>"
   ]
  },
  {
   "cell_type": "markdown",
   "metadata": {},
   "source": [
    "<div class=\"alert alert-info\" >\n",
    "\n",
    "[III COMMANDMENT](https://en.softpython.org/commandments.html#III-COMMANDMENT): **You shall never reassign function parameters**\n",
    "\n",
    "</div>"
   ]
  },
  {
   "cell_type": "markdown",
   "metadata": {},
   "source": [
    "\n",
    "<div class=\"alert alert-info\" >\n",
    "\n",
    "[VI COMMANDMENT](https://en.softpython.org/commandments.html#VI-COMMANDMENT) **You shall use** `return` **command only if you see written RETURN in the function description!**\n",
    "</div>"
   ]
  },
  {
   "cell_type": "markdown",
   "metadata": {},
   "source": [
    "### Matrix dimensions\n",
    "\n",
    "✪ **EXERCISE**: For getting matrix dimensions, we can use normal list operations. Which ones? You can assume the matrix is well formed (all rows have equal length) and has at least one row and at least one column"
   ]
  },
  {
   "cell_type": "code",
   "execution_count": 9,
   "metadata": {},
   "outputs": [],
   "source": [
    "m = [\n",
    "        ['a','b'],\n",
    "        ['c','d'],\n",
    "        ['a','e']    \n",
    "    ]"
   ]
  },
  {
   "cell_type": "raw",
   "id": "110a3bb8",
   "metadata": {
    "format": "text/html"
   },
   "source": [
    "<a  class=\"jupman-sol jupman-sol-toggler\" \n",
    " onclick=\"jupman.toggleSolution(this);\" \n",
    " data-jupman-show=\"Show solution\" data-jupman-hide=\"Hide\">Show solution</a><div class=\"jupman-sol jupman-sol-code\" style=\"display:none\">  "
   ]
  },
  {
   "cell_type": "code",
   "execution_count": 10,
   "metadata": {},
   "outputs": [
    {
     "name": "stdout",
     "output_type": "stream",
     "text": [
      "rows\n",
      "3\n",
      "columns\n",
      "2\n"
     ]
    }
   ],
   "source": [
    "\n",
    "# write here code for printing row and column dimensions\n",
    "\n",
    "# the outer list is a list of rows, so to count htem we just use len(m)\n",
    "\n",
    "print(\"rows\")\n",
    "print(len(m))\n",
    "\n",
    "# if we assume the matrix is well formed and has at least one row and column, \n",
    "# we can directly check the length of the first row\n",
    "\n",
    "print(\"columns\")\n",
    "print(len(m[0]))"
   ]
  },
  {
   "cell_type": "raw",
   "id": "d35d4d17",
   "metadata": {
    "format": "text/html"
   },
   "source": [
    "</div>"
   ]
  },
  {
   "cell_type": "code",
   "execution_count": 10,
   "metadata": {},
   "outputs": [],
   "source": [
    "\n",
    "# write here code for printing row and column dimensions\n",
    "\n"
   ]
  },
  {
   "cell_type": "markdown",
   "metadata": {},
   "source": [
    "## Extracting rows and columns"
   ]
  },
  {
   "cell_type": "markdown",
   "metadata": {},
   "source": [
    "### How to extract a row\n",
    "\n",
    "One of the first things you might want to do is to extract the `i`-th row. If you're implementing a function that does this, you have basically two choices. Either: \n",
    "\n",
    "1. return a _pointer_ to the _original_ row\n",
    "2. return a  _copy_ of the row. \n",
    "\n",
    "Since a copy consumes memory, why should you ever want to return a copy? Sometimes you should because you don't know which use will be done of the data structure. For example, suppose you got a book of exercises which has empty spaces to write exercises in. It's such a great book everybody in the classroom wants to read it - but you are afraid if the book starts changing hands some careless guy might write on it. To avoid problems, you make a copy of the book and distribute it (let's leave copyright infringment matters aside :-)\n",
    "\n",
    "### Extracting row pointers\n",
    "\n",
    "So first let's see what happens when you just return a _pointer_ to the _original_ row. \n",
    "\n",
    "**NOTE**: For convenience, at the end of the cell we put a magic call to `jupman.pytut()` which shows the code execution like in Python tutor (for further info about `jupman.pytut()`, [see here](https://en.softpython.org/tools/tools-sol.html#Visualizing-the-execution-with-Python-Tutor)). If you execute all the code in Python tutor, you will see that at the end you have two arrow pointers to the row `['a','b']`, one starting from `m` list and one from `row` variable.\n"
   ]
  },
  {
   "cell_type": "code",
   "execution_count": 11,
   "metadata": {},
   "outputs": [],
   "source": [
    "# WARNING: FOR PYTHON TUTOR TO WORK, REMEMBER TO EXECUTE THIS CELL with Shift+Enter\n",
    "#          (it's sufficient to execute it only once)\n",
    "import jupman"
   ]
  },
  {
   "cell_type": "code",
   "execution_count": 12,
   "metadata": {},
   "outputs": [
    {
     "data": {
      "text/html": [
       "\n",
       "        <script src=\"../_static/js/pytutor-embed.bundle.min.js\" type=\"application/javascript\"></script>\n",
       "     \n",
       "        <script id=\"json-jmd9c3f795-5f24-4ff9-9a32-a63c95a31cb8\" type=\"application/json\" >\n",
       "            {\"code\": \" \\ndef extrowp(mat, i):\\n    \\\"\\\"\\\" RETURN the ith row from mat        \\n    \\\"\\\"\\\"\\n    return mat[i]\\n\\n    \\nm = [\\n      ['a','b'],\\n      ['c','d'],\\n      ['a','e'],    \\n]\\n\\nrow = extrowp(m, 0)\", \"trace\": [{\"line\": 2, \"event\": \"step_line\", \"func_name\": \"<module>\", \"globals\": {}, \"ordered_globals\": [], \"stack_to_render\": [], \"heap\": {}, \"stdout\": \"\"}, {\"line\": 9, \"event\": \"step_line\", \"func_name\": \"<module>\", \"globals\": {\"extrowp\": [\"REF\", 1]}, \"ordered_globals\": [\"extrowp\"], \"stack_to_render\": [], \"heap\": {\"1\": [\"FUNCTION\", \"extrowp(mat, i)\", null]}, \"stdout\": \"\"}, {\"line\": 10, \"event\": \"step_line\", \"func_name\": \"<module>\", \"globals\": {\"extrowp\": [\"REF\", 1]}, \"ordered_globals\": [\"extrowp\"], \"stack_to_render\": [], \"heap\": {\"1\": [\"FUNCTION\", \"extrowp(mat, i)\", null]}, \"stdout\": \"\"}, {\"line\": 11, \"event\": \"step_line\", \"func_name\": \"<module>\", \"globals\": {\"extrowp\": [\"REF\", 1]}, \"ordered_globals\": [\"extrowp\"], \"stack_to_render\": [], \"heap\": {\"1\": [\"FUNCTION\", \"extrowp(mat, i)\", null]}, \"stdout\": \"\"}, {\"line\": 14, \"event\": \"step_line\", \"func_name\": \"<module>\", \"globals\": {\"extrowp\": [\"REF\", 1], \"m\": [\"REF\", 2]}, \"ordered_globals\": [\"extrowp\", \"m\"], \"stack_to_render\": [], \"heap\": {\"1\": [\"FUNCTION\", \"extrowp(mat, i)\", null], \"2\": [\"LIST\", [\"REF\", 3], [\"REF\", 4], [\"REF\", 5]], \"3\": [\"LIST\", \"a\", \"b\"], \"4\": [\"LIST\", \"c\", \"d\"], \"5\": [\"LIST\", \"a\", \"e\"]}, \"stdout\": \"\"}, {\"line\": 2, \"event\": \"call\", \"func_name\": \"extrowp\", \"globals\": {\"extrowp\": [\"REF\", 1], \"m\": [\"REF\", 2]}, \"ordered_globals\": [\"extrowp\", \"m\"], \"stack_to_render\": [{\"func_name\": \"extrowp\", \"is_parent\": false, \"frame_id\": 1, \"parent_frame_id_list\": [], \"encoded_locals\": {\"mat\": [\"REF\", 2], \"i\": 0}, \"ordered_varnames\": [\"mat\", \"i\"], \"is_zombie\": false, \"is_highlighted\": true, \"unique_hash\": \"extrowp_f1\"}], \"heap\": {\"2\": [\"LIST\", [\"REF\", 3], [\"REF\", 4], [\"REF\", 5]], \"3\": [\"LIST\", \"a\", \"b\"], \"4\": [\"LIST\", \"c\", \"d\"], \"5\": [\"LIST\", \"a\", \"e\"], \"1\": [\"FUNCTION\", \"extrowp(mat, i)\", null]}, \"stdout\": \"\"}, {\"line\": 5, \"event\": \"step_line\", \"func_name\": \"extrowp\", \"globals\": {\"extrowp\": [\"REF\", 1], \"m\": [\"REF\", 2]}, \"ordered_globals\": [\"extrowp\", \"m\"], \"stack_to_render\": [{\"func_name\": \"extrowp\", \"is_parent\": false, \"frame_id\": 1, \"parent_frame_id_list\": [], \"encoded_locals\": {\"mat\": [\"REF\", 2], \"i\": 0}, \"ordered_varnames\": [\"mat\", \"i\"], \"is_zombie\": false, \"is_highlighted\": true, \"unique_hash\": \"extrowp_f1\"}], \"heap\": {\"2\": [\"LIST\", [\"REF\", 3], [\"REF\", 4], [\"REF\", 5]], \"3\": [\"LIST\", \"a\", \"b\"], \"4\": [\"LIST\", \"c\", \"d\"], \"5\": [\"LIST\", \"a\", \"e\"], \"1\": [\"FUNCTION\", \"extrowp(mat, i)\", null]}, \"stdout\": \"\"}, {\"line\": 5, \"event\": \"return\", \"func_name\": \"extrowp\", \"globals\": {\"extrowp\": [\"REF\", 1], \"m\": [\"REF\", 2]}, \"ordered_globals\": [\"extrowp\", \"m\"], \"stack_to_render\": [{\"func_name\": \"extrowp\", \"is_parent\": false, \"frame_id\": 1, \"parent_frame_id_list\": [], \"encoded_locals\": {\"mat\": [\"REF\", 2], \"i\": 0, \"__return__\": [\"REF\", 3]}, \"ordered_varnames\": [\"mat\", \"i\", \"__return__\"], \"is_zombie\": false, \"is_highlighted\": true, \"unique_hash\": \"extrowp_f1\"}], \"heap\": {\"2\": [\"LIST\", [\"REF\", 3], [\"REF\", 4], [\"REF\", 5]], \"3\": [\"LIST\", \"a\", \"b\"], \"4\": [\"LIST\", \"c\", \"d\"], \"5\": [\"LIST\", \"a\", \"e\"], \"1\": [\"FUNCTION\", \"extrowp(mat, i)\", null]}, \"stdout\": \"\"}, {\"line\": 14, \"event\": \"return\", \"func_name\": \"<module>\", \"globals\": {\"extrowp\": [\"REF\", 1], \"m\": [\"REF\", 2], \"row\": [\"REF\", 3]}, \"ordered_globals\": [\"extrowp\", \"m\", \"row\"], \"stack_to_render\": [], \"heap\": {\"1\": [\"FUNCTION\", \"extrowp(mat, i)\", null], \"2\": [\"LIST\", [\"REF\", 3], [\"REF\", 4], [\"REF\", 5]], \"3\": [\"LIST\", \"a\", \"b\"], \"4\": [\"LIST\", \"c\", \"d\"], \"5\": [\"LIST\", \"a\", \"e\"]}, \"stdout\": \"\"}]}\n",
       "        </script>\n",
       "        <div id=\"jmd9c3f795-5f24-4ff9-9a32-a63c95a31cb8\" class=\"pytutorVisualizer\"> </div>\n",
       " \n",
       "        <style>\n",
       "        .vizLayoutTd {\n",
       "            background-color: #fff !important;\n",
       "        }\n",
       "\n",
       "        #pyStdout {            \n",
       "            min-height:25px;\n",
       "        }\n",
       "\n",
       "        /* 'Edit this code' link, hiding because replaces browser tab !!!*/\n",
       "        #editCodeLinkDiv {\n",
       "            display:none;  \n",
       "        }\n",
       "        </style>   \n",
       "                            \n",
       "        <script>\n",
       "        (function(){\n",
       "\n",
       "            var trace = JSON.parse(document.getElementById('json-jmd9c3f795-5f24-4ff9-9a32-a63c95a31cb8').innerHTML);                                        \n",
       "            // NOTE 1: id without #\n",
       "            // NOTE 2 - maybe there are more predictable ways, but this will work anyway\n",
       "            //        - id should be number\n",
       "            visualizerIdOverride = Math.trunc(Math.random() * 100000000000)\n",
       "            addVisualizerToPage(trace, 'jmd9c3f795-5f24-4ff9-9a32-a63c95a31cb8',{'embeddedMode' : false,\n",
       "                                             'visualizerIdOverride':visualizerIdOverride})  \n",
       "            \n",
       "            \n",
       "            // set overflow for pytuts - need to do in python as css \n",
       "            // does not allow parent selection\n",
       "            var pytuts = $('.pytutorVisualizer')\n",
       "            pytuts.closest('div.output_html.rendered_html.output_result')\n",
       "                    .css('overflow-x', 'visible')\n",
       "        \n",
       "            //pytuts.closest('div.output_html.rendered_html.output_result')\n",
       "            //      .css('background-color','red')                \n",
       "            \n",
       "        })()\n",
       "        </script>\n",
       "                \n",
       "                "
      ],
      "text/plain": [
       "<IPython.core.display.HTML object>"
      ]
     },
     "execution_count": 12,
     "metadata": {},
     "output_type": "execute_result"
    }
   ],
   "source": [
    "def extrowp(mat, i):\n",
    "    \"\"\" RETURN the ith row from mat        \n",
    "    \"\"\"\n",
    "    return mat[i]\n",
    "\n",
    "    \n",
    "m = [\n",
    "      ['a','b'],\n",
    "      ['c','d'],\n",
    "      ['a','e'],    \n",
    "]\n",
    "\n",
    "row = extrowp(m, 0)\n",
    "\n",
    "jupman.pytut()"
   ]
  },
  {
   "cell_type": "markdown",
   "metadata": {},
   "source": [
    "### Extract row with a for\n",
    "\n",
    "✪ Now try to implement a version which returns a **copy** of the row. "
   ]
  },
  {
   "cell_type": "markdown",
   "metadata": {},
   "source": [
    "**QUESTION**: You might be tempted to  implement something like this - but it wouldn't work. Why?"
   ]
  },
  {
   "cell_type": "code",
   "execution_count": 13,
   "metadata": {},
   "outputs": [
    {
     "data": {
      "text/html": [
       "\n",
       "        <script src=\"../_static/js/pytutor-embed.bundle.min.js\" type=\"application/javascript\"></script>\n",
       "     \n",
       "        <script id=\"json-jm5ef6060d-35fb-438f-9a89-dd203fa43fd3\" type=\"application/json\" >\n",
       "            {\"code\": \" \\n# WARNING: WRONG CODE!!!!\\n\\ndef extrow_wrong(mat, i):\\n    \\\"\\\"\\\" RETURN the ith row from mat. NOTE: the row MUST be a new list ! \\\"\\\"\\\"\\n    \\n    row = []\\n    row.append(mat[i])  \\n    return row\\n\\nm = [\\n      ['a','b'],\\n      ['c','d'],\\n      ['a','e'],    \\n]\\n\\nrow = extrow_wrong(m,0)\", \"trace\": [{\"line\": 4, \"event\": \"step_line\", \"func_name\": \"<module>\", \"globals\": {}, \"ordered_globals\": [], \"stack_to_render\": [], \"heap\": {}, \"stdout\": \"\"}, {\"line\": 12, \"event\": \"step_line\", \"func_name\": \"<module>\", \"globals\": {\"extrow_wrong\": [\"REF\", 1]}, \"ordered_globals\": [\"extrow_wrong\"], \"stack_to_render\": [], \"heap\": {\"1\": [\"FUNCTION\", \"extrow_wrong(mat, i)\", null]}, \"stdout\": \"\"}, {\"line\": 13, \"event\": \"step_line\", \"func_name\": \"<module>\", \"globals\": {\"extrow_wrong\": [\"REF\", 1]}, \"ordered_globals\": [\"extrow_wrong\"], \"stack_to_render\": [], \"heap\": {\"1\": [\"FUNCTION\", \"extrow_wrong(mat, i)\", null]}, \"stdout\": \"\"}, {\"line\": 14, \"event\": \"step_line\", \"func_name\": \"<module>\", \"globals\": {\"extrow_wrong\": [\"REF\", 1]}, \"ordered_globals\": [\"extrow_wrong\"], \"stack_to_render\": [], \"heap\": {\"1\": [\"FUNCTION\", \"extrow_wrong(mat, i)\", null]}, \"stdout\": \"\"}, {\"line\": 17, \"event\": \"step_line\", \"func_name\": \"<module>\", \"globals\": {\"extrow_wrong\": [\"REF\", 1], \"m\": [\"REF\", 2]}, \"ordered_globals\": [\"extrow_wrong\", \"m\"], \"stack_to_render\": [], \"heap\": {\"1\": [\"FUNCTION\", \"extrow_wrong(mat, i)\", null], \"2\": [\"LIST\", [\"REF\", 3], [\"REF\", 4], [\"REF\", 5]], \"3\": [\"LIST\", \"a\", \"b\"], \"4\": [\"LIST\", \"c\", \"d\"], \"5\": [\"LIST\", \"a\", \"e\"]}, \"stdout\": \"\"}, {\"line\": 4, \"event\": \"call\", \"func_name\": \"extrow_wrong\", \"globals\": {\"extrow_wrong\": [\"REF\", 1], \"m\": [\"REF\", 2]}, \"ordered_globals\": [\"extrow_wrong\", \"m\"], \"stack_to_render\": [{\"func_name\": \"extrow_wrong\", \"is_parent\": false, \"frame_id\": 1, \"parent_frame_id_list\": [], \"encoded_locals\": {\"mat\": [\"REF\", 2], \"i\": 0}, \"ordered_varnames\": [\"mat\", \"i\"], \"is_zombie\": false, \"is_highlighted\": true, \"unique_hash\": \"extrow_wrong_f1\"}], \"heap\": {\"2\": [\"LIST\", [\"REF\", 3], [\"REF\", 4], [\"REF\", 5]], \"3\": [\"LIST\", \"a\", \"b\"], \"4\": [\"LIST\", \"c\", \"d\"], \"5\": [\"LIST\", \"a\", \"e\"], \"1\": [\"FUNCTION\", \"extrow_wrong(mat, i)\", null]}, \"stdout\": \"\"}, {\"line\": 7, \"event\": \"step_line\", \"func_name\": \"extrow_wrong\", \"globals\": {\"extrow_wrong\": [\"REF\", 1], \"m\": [\"REF\", 2]}, \"ordered_globals\": [\"extrow_wrong\", \"m\"], \"stack_to_render\": [{\"func_name\": \"extrow_wrong\", \"is_parent\": false, \"frame_id\": 1, \"parent_frame_id_list\": [], \"encoded_locals\": {\"mat\": [\"REF\", 2], \"i\": 0}, \"ordered_varnames\": [\"mat\", \"i\"], \"is_zombie\": false, \"is_highlighted\": true, \"unique_hash\": \"extrow_wrong_f1\"}], \"heap\": {\"2\": [\"LIST\", [\"REF\", 3], [\"REF\", 4], [\"REF\", 5]], \"3\": [\"LIST\", \"a\", \"b\"], \"4\": [\"LIST\", \"c\", \"d\"], \"5\": [\"LIST\", \"a\", \"e\"], \"1\": [\"FUNCTION\", \"extrow_wrong(mat, i)\", null]}, \"stdout\": \"\"}, {\"line\": 8, \"event\": \"step_line\", \"func_name\": \"extrow_wrong\", \"globals\": {\"extrow_wrong\": [\"REF\", 1], \"m\": [\"REF\", 2]}, \"ordered_globals\": [\"extrow_wrong\", \"m\"], \"stack_to_render\": [{\"func_name\": \"extrow_wrong\", \"is_parent\": false, \"frame_id\": 1, \"parent_frame_id_list\": [], \"encoded_locals\": {\"mat\": [\"REF\", 2], \"i\": 0, \"row\": [\"REF\", 6]}, \"ordered_varnames\": [\"mat\", \"i\", \"row\"], \"is_zombie\": false, \"is_highlighted\": true, \"unique_hash\": \"extrow_wrong_f1\"}], \"heap\": {\"2\": [\"LIST\", [\"REF\", 3], [\"REF\", 4], [\"REF\", 5]], \"3\": [\"LIST\", \"a\", \"b\"], \"4\": [\"LIST\", \"c\", \"d\"], \"5\": [\"LIST\", \"a\", \"e\"], \"6\": [\"LIST\"], \"1\": [\"FUNCTION\", \"extrow_wrong(mat, i)\", null]}, \"stdout\": \"\"}, {\"line\": 9, \"event\": \"step_line\", \"func_name\": \"extrow_wrong\", \"globals\": {\"extrow_wrong\": [\"REF\", 1], \"m\": [\"REF\", 2]}, \"ordered_globals\": [\"extrow_wrong\", \"m\"], \"stack_to_render\": [{\"func_name\": \"extrow_wrong\", \"is_parent\": false, \"frame_id\": 1, \"parent_frame_id_list\": [], \"encoded_locals\": {\"mat\": [\"REF\", 2], \"i\": 0, \"row\": [\"REF\", 6]}, \"ordered_varnames\": [\"mat\", \"i\", \"row\"], \"is_zombie\": false, \"is_highlighted\": true, \"unique_hash\": \"extrow_wrong_f1\"}], \"heap\": {\"2\": [\"LIST\", [\"REF\", 3], [\"REF\", 4], [\"REF\", 5]], \"3\": [\"LIST\", \"a\", \"b\"], \"4\": [\"LIST\", \"c\", \"d\"], \"5\": [\"LIST\", \"a\", \"e\"], \"6\": [\"LIST\", [\"REF\", 3]], \"1\": [\"FUNCTION\", \"extrow_wrong(mat, i)\", null]}, \"stdout\": \"\"}, {\"line\": 9, \"event\": \"return\", \"func_name\": \"extrow_wrong\", \"globals\": {\"extrow_wrong\": [\"REF\", 1], \"m\": [\"REF\", 2]}, \"ordered_globals\": [\"extrow_wrong\", \"m\"], \"stack_to_render\": [{\"func_name\": \"extrow_wrong\", \"is_parent\": false, \"frame_id\": 1, \"parent_frame_id_list\": [], \"encoded_locals\": {\"mat\": [\"REF\", 2], \"i\": 0, \"row\": [\"REF\", 6], \"__return__\": [\"REF\", 6]}, \"ordered_varnames\": [\"mat\", \"i\", \"row\", \"__return__\"], \"is_zombie\": false, \"is_highlighted\": true, \"unique_hash\": \"extrow_wrong_f1\"}], \"heap\": {\"2\": [\"LIST\", [\"REF\", 3], [\"REF\", 4], [\"REF\", 5]], \"3\": [\"LIST\", \"a\", \"b\"], \"4\": [\"LIST\", \"c\", \"d\"], \"5\": [\"LIST\", \"a\", \"e\"], \"6\": [\"LIST\", [\"REF\", 3]], \"1\": [\"FUNCTION\", \"extrow_wrong(mat, i)\", null]}, \"stdout\": \"\"}, {\"line\": 17, \"event\": \"return\", \"func_name\": \"<module>\", \"globals\": {\"extrow_wrong\": [\"REF\", 1], \"m\": [\"REF\", 2], \"row\": [\"REF\", 6]}, \"ordered_globals\": [\"extrow_wrong\", \"m\", \"row\"], \"stack_to_render\": [], \"heap\": {\"1\": [\"FUNCTION\", \"extrow_wrong(mat, i)\", null], \"2\": [\"LIST\", [\"REF\", 3], [\"REF\", 4], [\"REF\", 5]], \"3\": [\"LIST\", \"a\", \"b\"], \"4\": [\"LIST\", \"c\", \"d\"], \"5\": [\"LIST\", \"a\", \"e\"], \"6\": [\"LIST\", [\"REF\", 3]]}, \"stdout\": \"\"}]}\n",
       "        </script>\n",
       "        <div id=\"jm5ef6060d-35fb-438f-9a89-dd203fa43fd3\" class=\"pytutorVisualizer\"> </div>\n",
       " \n",
       "        <style>\n",
       "        .vizLayoutTd {\n",
       "            background-color: #fff !important;\n",
       "        }\n",
       "\n",
       "        #pyStdout {            \n",
       "            min-height:25px;\n",
       "        }\n",
       "\n",
       "        /* 'Edit this code' link, hiding because replaces browser tab !!!*/\n",
       "        #editCodeLinkDiv {\n",
       "            display:none;  \n",
       "        }\n",
       "        </style>   \n",
       "                            \n",
       "        <script>\n",
       "        (function(){\n",
       "\n",
       "            var trace = JSON.parse(document.getElementById('json-jm5ef6060d-35fb-438f-9a89-dd203fa43fd3').innerHTML);                                        \n",
       "            // NOTE 1: id without #\n",
       "            // NOTE 2 - maybe there are more predictable ways, but this will work anyway\n",
       "            //        - id should be number\n",
       "            visualizerIdOverride = Math.trunc(Math.random() * 100000000000)\n",
       "            addVisualizerToPage(trace, 'jm5ef6060d-35fb-438f-9a89-dd203fa43fd3',{'embeddedMode' : false,\n",
       "                                             'visualizerIdOverride':visualizerIdOverride})  \n",
       "            \n",
       "            \n",
       "            // set overflow for pytuts - need to do in python as css \n",
       "            // does not allow parent selection\n",
       "            var pytuts = $('.pytutorVisualizer')\n",
       "            pytuts.closest('div.output_html.rendered_html.output_result')\n",
       "                    .css('overflow-x', 'visible')\n",
       "        \n",
       "            //pytuts.closest('div.output_html.rendered_html.output_result')\n",
       "            //      .css('background-color','red')                \n",
       "            \n",
       "        })()\n",
       "        </script>\n",
       "                \n",
       "                "
      ],
      "text/plain": [
       "<IPython.core.display.HTML object>"
      ]
     },
     "execution_count": 13,
     "metadata": {},
     "output_type": "execute_result"
    }
   ],
   "source": [
    "# WARNING: WRONG CODE!!!!\n",
    "\n",
    "def extrow_wrong(mat, i):\n",
    "    \"\"\" RETURN the ith row from mat. NOTE: the row MUST be a new list ! \"\"\"\n",
    "    \n",
    "    row = []\n",
    "    row.append(mat[i])  \n",
    "    return row\n",
    "\n",
    "m = [\n",
    "      ['a','b'],\n",
    "      ['c','d'],\n",
    "      ['a','e'],    \n",
    "]\n",
    "\n",
    "row = extrow_wrong(m,0)\n",
    "\n",
    "jupman.pytut()"
   ]
  },
  {
   "cell_type": "raw",
   "id": "dfe903fc",
   "metadata": {
    "format": "text/html"
   },
   "source": [
    "<a  class=\"jupman-sol jupman-sol-toggler\" \n",
    " onclick=\"jupman.toggleSolution(this);\" \n",
    " data-jupman-show=\"Show answer\" data-jupman-hide=\"Hide\">Show answer</a><div class=\"jupman-sol jupman-sol-question\" style=\"display:none\">  "
   ]
  },
  {
   "cell_type": "markdown",
   "metadata": {},
   "source": [
    "\n",
    "**ANSWER**: The code above adds a LIST as element to another empty list. In other words, it is wrapping the row (which is already a list) into another list. \n",
    "If you checj the problem in Python Tutor, you will see an arrow going from row to a list of one element \n",
    "which will contain exactly one arrow to the original row.\n",
    "    "
   ]
  },
  {
   "cell_type": "raw",
   "id": "142c27d2",
   "metadata": {
    "format": "text/html"
   },
   "source": [
    "</div>"
   ]
  },
  {
   "cell_type": "markdown",
   "metadata": {},
   "source": [
    "You can build an actual copy in several ways, with a `for`, a slice or a list comprehension. Try to implement all versions, starting with the `for` here. Be sure to check your result with Python Tutor - to visualize python tutor inside the cell output, you might use the special command `jupman.pytut()` at the end of the cell as we did before. If you run the code with Python Tutor, you should only see  _one_ arrow going to the original `['a','b']` row in `m`, and there should be _another_ `['a','b']` copy somewhere, with `row` variable pointing to it. "
   ]
  },
  {
   "cell_type": "markdown",
   "metadata": {},
   "source": [
    "✪ **EXERCISE**: Implement the function `esrowf` which RETURNS the `i`-th row from `mat`\n",
    "\n",
    "* **NOTE**: the row MUST be a new list! To create a new list use a for cycle which iterates over the elements, _not_ the indeces (so don't use range!)"
   ]
  },
  {
   "cell_type": "raw",
   "id": "ad6d9d71",
   "metadata": {
    "format": "text/html"
   },
   "source": [
    "<a  class=\"jupman-sol jupman-sol-toggler\" \n",
    " onclick=\"jupman.toggleSolution(this);\" \n",
    " data-jupman-show=\"Show solution\" data-jupman-hide=\"Hide\">Show solution</a><div class=\"jupman-sol jupman-sol-code\" style=\"display:none\">  "
   ]
  },
  {
   "cell_type": "code",
   "execution_count": 14,
   "metadata": {},
   "outputs": [],
   "source": [
    "def extrowf(mat, i):\n",
    "    \n",
    "    row = []\n",
    "    for x in mat[i]:\n",
    "        row.append(x) \n",
    "    return row\n",
    "    \n",
    "    \n",
    "m = [\n",
    "      ['a','b'],\n",
    "      ['c','d'],\n",
    "      ['a','e'],    \n",
    "]\n",
    "\n",
    "assert extrowf(m, 0) == ['a','b']\n",
    "assert extrowf(m, 1) == ['c','d']\n",
    "assert extrowf(m, 2) == ['a','e']\n",
    "\n",
    "# check it didn't change the original matrix !\n",
    "r = extrowf(m, 0)\n",
    "r[0] = 'z'\n",
    "assert m[0][0] == 'a'   \n",
    "\n",
    "# uncomment to visualize execution here \n",
    "#jupman.pytut()"
   ]
  },
  {
   "cell_type": "raw",
   "id": "1428fd72",
   "metadata": {
    "format": "text/html"
   },
   "source": [
    "</div>"
   ]
  },
  {
   "cell_type": "code",
   "execution_count": 14,
   "metadata": {},
   "outputs": [],
   "source": [
    "def extrowf(mat, i):\n",
    "    raise Exception('TODO IMPLEMENT ME !')\n",
    "    \n",
    "m = [\n",
    "      ['a','b'],\n",
    "      ['c','d'],\n",
    "      ['a','e'],    \n",
    "]\n",
    "\n",
    "assert extrowf(m, 0) == ['a','b']\n",
    "assert extrowf(m, 1) == ['c','d']\n",
    "assert extrowf(m, 2) == ['a','e']\n",
    "\n",
    "# check it didn't change the original matrix !\n",
    "r = extrowf(m, 0)\n",
    "r[0] = 'z'\n",
    "assert m[0][0] == 'a'   \n",
    "\n",
    "# uncomment to visualize execution here \n",
    "#jupman.pytut()"
   ]
  },
  {
   "cell_type": "markdown",
   "metadata": {},
   "source": [
    "### Extract row with range\n",
    "\n",
    "Let's first rapidly see  `range(n)`. Maybe you think it should return a sequence of integers, from zero to `n - 1`. Is it really like this?"
   ]
  },
  {
   "cell_type": "code",
   "execution_count": 15,
   "metadata": {},
   "outputs": [
    {
     "data": {
      "text/plain": [
       "range(0, 5)"
      ]
     },
     "execution_count": 15,
     "metadata": {},
     "output_type": "execute_result"
    }
   ],
   "source": [
    "range(5)"
   ]
  },
  {
   "cell_type": "markdown",
   "metadata": {},
   "source": [
    "Maybe you expected something like a list `[0,1,2,3,4]`, instead we  discovered that Python is quite lazy here: as a matter of fact, `range(n)` returns an _iterable_ object, which is not a real sequence materialized in memory.\n",
    "\n",
    "To take a real integer list, we must explicitly ask this iterable object to give us the objects one by one.\n",
    "\n",
    "When you write `for i in range(s)` the `for` loop is doing exactly this, at each round it asks the object `range` to generate a number from the sequence. If we want the whole sequence materialized in memory, we can generate it by converting the `range` into a list object:"
   ]
  },
  {
   "cell_type": "code",
   "execution_count": 16,
   "metadata": {},
   "outputs": [
    {
     "data": {
      "text/plain": [
       "[0, 1, 2, 3, 4]"
      ]
     },
     "execution_count": 16,
     "metadata": {},
     "output_type": "execute_result"
    }
   ],
   "source": [
    "list(range(5))"
   ]
  },
  {
   "cell_type": "markdown",
   "metadata": {},
   "source": [
    "Be careful, though. According to the sequence dimension, this might be dangerous. A billion elements list might saturate your computer RAM (in 2020 notebooks often have 4 gigabytes of RAM, that is, 4 billion bytes)."
   ]
  },
  {
   "cell_type": "markdown",
   "metadata": {},
   "source": [
    "✪ **EXERCISE**: Now implement the `extrowr` iterating over a range of row indexes:\n",
    "\n",
    "* **NOTE 1**: the row MUST be a new list! To create a new list use a `for` loop\n",
    "* **NOTE 2**: remember to use a new name for the column index!"
   ]
  },
  {
   "cell_type": "raw",
   "id": "26b59037",
   "metadata": {
    "format": "text/html"
   },
   "source": [
    "<a  class=\"jupman-sol jupman-sol-toggler\" \n",
    " onclick=\"jupman.toggleSolution(this);\" \n",
    " data-jupman-show=\"Show solution\" data-jupman-hide=\"Hide\">Show solution</a><div class=\"jupman-sol jupman-sol-code\" style=\"display:none\">  "
   ]
  },
  {
   "cell_type": "code",
   "execution_count": 17,
   "metadata": {},
   "outputs": [],
   "source": [
    "def extrowr(mat, i):\n",
    "    \"\"\" RETURN the ith row from mat.         \n",
    "    \"\"\"\n",
    "    \n",
    "    row = []\n",
    "    for j in range(len(mat[0])):\n",
    "        row.append(mat[i][j]) \n",
    "    return row\n",
    "    \n",
    "    \n",
    "m = [\n",
    "      ['a','b'],\n",
    "      ['c','d'],\n",
    "      ['a','e'],    \n",
    "]\n",
    "\n",
    "assert extrowr(m, 0) == ['a','b']\n",
    "assert extrowr(m, 1) == ['c','d']\n",
    "assert extrowr(m, 2) == ['a','e']\n",
    "\n",
    "# check it didn't change the original matrix !\n",
    "r = extrowr(m, 0)\n",
    "r[0] = 'z'\n",
    "assert m[0][0] == 'a' \n",
    "\n",
    "# uncomment to visualize execution here\n",
    "#jupman.pytut()  "
   ]
  },
  {
   "cell_type": "raw",
   "id": "2ec83249",
   "metadata": {
    "format": "text/html"
   },
   "source": [
    "</div>"
   ]
  },
  {
   "cell_type": "code",
   "execution_count": 17,
   "metadata": {},
   "outputs": [],
   "source": [
    "def extrowr(mat, i):\n",
    "    \"\"\" RETURN the ith row from mat.         \n",
    "    \"\"\"\n",
    "    raise Exception('TODO IMPLEMENT ME !')\n",
    "    \n",
    "m = [\n",
    "      ['a','b'],\n",
    "      ['c','d'],\n",
    "      ['a','e'],    \n",
    "]\n",
    "\n",
    "assert extrowr(m, 0) == ['a','b']\n",
    "assert extrowr(m, 1) == ['c','d']\n",
    "assert extrowr(m, 2) == ['a','e']\n",
    "\n",
    "# check it didn't change the original matrix !\n",
    "r = extrowr(m, 0)\n",
    "r[0] = 'z'\n",
    "assert m[0][0] == 'a' \n",
    "\n",
    "# uncomment to visualize execution here\n",
    "#jupman.pytut()  "
   ]
  },
  {
   "cell_type": "markdown",
   "metadata": {},
   "source": [
    "### Extract row with a slice\n",
    "\n",
    "✪ Remember slices return a _copy_ of a list? Now try to use them.\n",
    "\n",
    "Implement `extrows`, which RETURN the `i`-th row from `mat`.\n",
    "\n",
    "* **NOTE**: the row MUST be a new list! To create it, use slices."
   ]
  },
  {
   "cell_type": "raw",
   "id": "1923e800",
   "metadata": {
    "format": "text/html"
   },
   "source": [
    "<a  class=\"jupman-sol jupman-sol-toggler\" \n",
    " onclick=\"jupman.toggleSolution(this);\" \n",
    " data-jupman-show=\"Show solution\" data-jupman-hide=\"Hide\">Show solution</a><div class=\"jupman-sol jupman-sol-code\" style=\"display:none\">  "
   ]
  },
  {
   "cell_type": "code",
   "execution_count": 18,
   "metadata": {},
   "outputs": [],
   "source": [
    "def extrows(mat, i):    \n",
    "    \n",
    "    return mat[i][:]  # if you omit start end end indexes, you get a copy of the whole list\n",
    "    \n",
    "    \n",
    "m = [\n",
    "      ['a','b'],\n",
    "      ['c','d'],\n",
    "      ['a','e'],    \n",
    "]\n",
    "\n",
    "\n",
    "assert extrows(m, 0) == ['a','b']\n",
    "assert extrows(m, 1) == ['c','d']\n",
    "assert extrows(m, 2) == ['a','e']\n",
    "\n",
    "# check it didn't change the original matrix !\n",
    "r = extrows(m, 0)\n",
    "r[0] = 'z'\n",
    "assert m[0][0] == 'a'   \n",
    "\n",
    "# uncomment to visualize execution here \n",
    "#jupman.pytut()"
   ]
  },
  {
   "cell_type": "raw",
   "id": "11acf122",
   "metadata": {
    "format": "text/html"
   },
   "source": [
    "</div>"
   ]
  },
  {
   "cell_type": "code",
   "execution_count": 18,
   "metadata": {},
   "outputs": [],
   "source": [
    "def extrows(mat, i):    \n",
    "    raise Exception('TODO IMPLEMENT ME !')\n",
    "    \n",
    "m = [\n",
    "      ['a','b'],\n",
    "      ['c','d'],\n",
    "      ['a','e'],    \n",
    "]\n",
    "\n",
    "\n",
    "assert extrows(m, 0) == ['a','b']\n",
    "assert extrows(m, 1) == ['c','d']\n",
    "assert extrows(m, 2) == ['a','e']\n",
    "\n",
    "# check it didn't change the original matrix !\n",
    "r = extrows(m, 0)\n",
    "r[0] = 'z'\n",
    "assert m[0][0] == 'a'   \n",
    "\n",
    "# uncomment to visualize execution here \n",
    "#jupman.pytut()"
   ]
  },
  {
   "cell_type": "markdown",
   "metadata": {},
   "source": [
    "### Extract row with list comprehension\n",
    "\n",
    "✪ Implement `extrowc`, which RETURNs the `i`-th row from `mat`. To create a new list use a _list comprehension_.\n",
    "\n",
    "* **NOTE**: the row MUST be a new list!"
   ]
  },
  {
   "cell_type": "raw",
   "id": "71adafd4",
   "metadata": {
    "format": "text/html"
   },
   "source": [
    "<a  class=\"jupman-sol jupman-sol-toggler\" \n",
    " onclick=\"jupman.toggleSolution(this);\" \n",
    " data-jupman-show=\"Show solution\" data-jupman-hide=\"Hide\">Show solution</a><div class=\"jupman-sol jupman-sol-code\" style=\"display:none\">  "
   ]
  },
  {
   "cell_type": "code",
   "execution_count": 19,
   "metadata": {},
   "outputs": [],
   "source": [
    "def extrowc(mat, i):\n",
    "    \n",
    "    return [x for x in mat[i]]\n",
    "    \n",
    "    \n",
    "m = [\n",
    "      ['a','b'],\n",
    "      ['c','d'],\n",
    "      ['a','e'],    \n",
    "]\n",
    "\n",
    "assert extrowc(m, 0) == ['a','b']\n",
    "assert extrowc(m, 1) == ['c','d']\n",
    "assert extrowc(m, 2) == ['a','e']\n",
    "\n",
    "# check it didn't change the original matrix !\n",
    "r = extrowc(m, 0)\n",
    "r[0] = 'z'\n",
    "assert m[0][0] == 'a'   \n",
    "\n",
    "#jupman.pytut()"
   ]
  },
  {
   "cell_type": "raw",
   "id": "63f97423",
   "metadata": {
    "format": "text/html"
   },
   "source": [
    "</div>"
   ]
  },
  {
   "cell_type": "code",
   "execution_count": 19,
   "metadata": {},
   "outputs": [],
   "source": [
    "def extrowc(mat, i):\n",
    "    raise Exception('TODO IMPLEMENT ME !')\n",
    "    \n",
    "m = [\n",
    "      ['a','b'],\n",
    "      ['c','d'],\n",
    "      ['a','e'],    \n",
    "]\n",
    "\n",
    "assert extrowc(m, 0) == ['a','b']\n",
    "assert extrowc(m, 1) == ['c','d']\n",
    "assert extrowc(m, 2) == ['a','e']\n",
    "\n",
    "# check it didn't change the original matrix !\n",
    "r = extrowc(m, 0)\n",
    "r[0] = 'z'\n",
    "assert m[0][0] == 'a'   \n",
    "\n",
    "#jupman.pytut()"
   ]
  },
  {
   "cell_type": "markdown",
   "metadata": {},
   "source": [
    "### Extract column with a `for`\n",
    "\n",
    "✪✪ Now try extracting a column at `j`th position. This time we will be forced to create a new list, so we don't  have to wonder if we need to return a pointer or a copy.\n",
    "\n",
    "Implement `extcolf`, which RETURN the `j`-th column from `mat`. To create it, use a `for` loop."
   ]
  },
  {
   "cell_type": "raw",
   "id": "303bd3c2",
   "metadata": {
    "format": "text/html"
   },
   "source": [
    "<a  class=\"jupman-sol jupman-sol-toggler\" \n",
    " onclick=\"jupman.toggleSolution(this);\" \n",
    " data-jupman-show=\"Show solution\" data-jupman-hide=\"Hide\">Show solution</a><div class=\"jupman-sol jupman-sol-code\" style=\"display:none\">  "
   ]
  },
  {
   "cell_type": "code",
   "execution_count": 20,
   "metadata": {},
   "outputs": [],
   "source": [
    "def extcolf(mat, j):        \n",
    "    \n",
    "    ret = []\n",
    "    for row in mat: \n",
    "        ret.append(row[j])\n",
    "    return ret\n",
    "    \n",
    "\n",
    "m = [\n",
    "      ['a','b'],\n",
    "      ['c','d'],\n",
    "      ['a','e'],    \n",
    "]\n",
    "\n",
    "assert extcolf(m, 0) == ['a','c','a']\n",
    "assert extcolf(m, 1) == ['b','d','e']\n",
    "\n",
    "# check returned column does not modify m\n",
    "c = extcolf(m,0)\n",
    "c[0] = 'z'\n",
    "assert m[0][0] == 'a'\n",
    "\n",
    "#jupman.pytut()"
   ]
  },
  {
   "cell_type": "raw",
   "id": "f503d37a",
   "metadata": {
    "format": "text/html"
   },
   "source": [
    "</div>"
   ]
  },
  {
   "cell_type": "code",
   "execution_count": 20,
   "metadata": {},
   "outputs": [],
   "source": [
    "def extcolf(mat, j):        \n",
    "    raise Exception('TODO IMPLEMENT ME !')\n",
    "\n",
    "m = [\n",
    "      ['a','b'],\n",
    "      ['c','d'],\n",
    "      ['a','e'],    \n",
    "]\n",
    "\n",
    "assert extcolf(m, 0) == ['a','c','a']\n",
    "assert extcolf(m, 1) == ['b','d','e']\n",
    "\n",
    "# check returned column does not modify m\n",
    "c = extcolf(m,0)\n",
    "c[0] = 'z'\n",
    "assert m[0][0] == 'a'\n",
    "\n",
    "#jupman.pytut()"
   ]
  },
  {
   "cell_type": "markdown",
   "metadata": {},
   "source": [
    "### Extract column with a list comprehension\n",
    "\n",
    "✪✪ Implement `extcolc`, which RETURNS the `j`-th column from `mat`: to create it, use a list comprehension."
   ]
  },
  {
   "cell_type": "raw",
   "id": "abbd0ae9",
   "metadata": {
    "format": "text/html"
   },
   "source": [
    "<a  class=\"jupman-sol jupman-sol-toggler\" \n",
    " onclick=\"jupman.toggleSolution(this);\" \n",
    " data-jupman-show=\"Show solution\" data-jupman-hide=\"Hide\">Show solution</a><div class=\"jupman-sol jupman-sol-code\" style=\"display:none\">  "
   ]
  },
  {
   "cell_type": "code",
   "execution_count": 21,
   "metadata": {},
   "outputs": [],
   "source": [
    "def extcolc(mat, j):        \n",
    "    \n",
    "    return [row[j] for row in mat] \n",
    "    \n",
    "\n",
    "m = [\n",
    "      ['a','b'],\n",
    "      ['c','d'],\n",
    "      ['a','e'],    \n",
    "]\n",
    "\n",
    "assert extcolc(m, 0) == ['a','c','a']\n",
    "assert extcolc(m, 1) == ['b','d','e']\n",
    "\n",
    "# check returned column does not modify m\n",
    "c = extcolc(m,0)\n",
    "c[0] = 'z'\n",
    "assert m[0][0] == 'a'\n",
    "\n",
    "#jupman.pytut()"
   ]
  },
  {
   "cell_type": "raw",
   "id": "d61e7e81",
   "metadata": {
    "format": "text/html"
   },
   "source": [
    "</div>"
   ]
  },
  {
   "cell_type": "code",
   "execution_count": 21,
   "metadata": {},
   "outputs": [],
   "source": [
    "def extcolc(mat, j):        \n",
    "    raise Exception('TODO IMPLEMENT ME !')\n",
    "\n",
    "m = [\n",
    "      ['a','b'],\n",
    "      ['c','d'],\n",
    "      ['a','e'],    \n",
    "]\n",
    "\n",
    "assert extcolc(m, 0) == ['a','c','a']\n",
    "assert extcolc(m, 1) == ['b','d','e']\n",
    "\n",
    "# check returned column does not modify m\n",
    "c = extcolc(m,0)\n",
    "c[0] = 'z'\n",
    "assert m[0][0] == 'a'\n",
    "\n",
    "#jupman.pytut()"
   ]
  },
  {
   "cell_type": "markdown",
   "metadata": {},
   "source": [
    "## Creating new matrices"
   ]
  },
  {
   "cell_type": "markdown",
   "metadata": {},
   "source": [
    "### empty matrix\n",
    "\n",
    "✪✪ There are several ways to create a new empty 3x5 matrix as lists of lists which contains zeros.\n",
    "\n",
    "Implement `empty_matrix`, which RETURN a NEW matrix nxn as a list of lists filled with zeroes\n",
    "\n",
    "* use two nested `for` cycles:"
   ]
  },
  {
   "cell_type": "raw",
   "id": "deb496a5",
   "metadata": {
    "format": "text/html"
   },
   "source": [
    "<a  class=\"jupman-sol jupman-sol-toggler\" \n",
    " onclick=\"jupman.toggleSolution(this);\" \n",
    " data-jupman-show=\"Show solution\" data-jupman-hide=\"Hide\">Show solution</a><div class=\"jupman-sol jupman-sol-code\" style=\"display:none\">  "
   ]
  },
  {
   "cell_type": "code",
   "execution_count": 22,
   "metadata": {},
   "outputs": [],
   "source": [
    "def empty_matrix(n, m):\n",
    "    \n",
    "    ret = []\n",
    "    for i in range(n):\n",
    "        row = []\n",
    "        ret.append(row)\n",
    "        for j in range(m):\n",
    "            row.append(0)\n",
    "    return ret\n",
    "    \n",
    "\n",
    "assert empty_matrix(1,1) == [[0]]\n",
    "\n",
    "assert empty_matrix(1,2) == [ [0,0] ]\n",
    "\n",
    "assert empty_matrix(2,1) == [ [0],\n",
    "                              [0] ]\n",
    "\n",
    "assert empty_matrix(2,2) == [ [0,0],\n",
    "                              [0,0] ]\n",
    "\n",
    "assert empty_matrix(3,3) == [ [0,0,0], \n",
    "                              [0,0,0],\n",
    "                              [0,0,0] ]"
   ]
  },
  {
   "cell_type": "raw",
   "id": "eea72748",
   "metadata": {
    "format": "text/html"
   },
   "source": [
    "</div>"
   ]
  },
  {
   "cell_type": "code",
   "execution_count": 22,
   "metadata": {},
   "outputs": [],
   "source": [
    "def empty_matrix(n, m):\n",
    "    raise Exception('TODO IMPLEMENT ME !')\n",
    "\n",
    "assert empty_matrix(1,1) == [[0]]\n",
    "\n",
    "assert empty_matrix(1,2) == [ [0,0] ]\n",
    "\n",
    "assert empty_matrix(2,1) == [ [0],\n",
    "                              [0] ]\n",
    "\n",
    "assert empty_matrix(2,2) == [ [0,0],\n",
    "                              [0,0] ]\n",
    "\n",
    "assert empty_matrix(3,3) == [ [0,0,0], \n",
    "                              [0,0,0],\n",
    "                              [0,0,0] ]"
   ]
  },
  {
   "cell_type": "markdown",
   "metadata": {},
   "source": [
    "### `empty_matrix` the elegant way"
   ]
  },
  {
   "cell_type": "markdown",
   "metadata": {},
   "source": [
    "To create a new list of 3 elements filled with zeros, you can write like this:"
   ]
  },
  {
   "cell_type": "code",
   "execution_count": 23,
   "metadata": {},
   "outputs": [
    {
     "data": {
      "text/plain": [
       "[0, 0, 0]"
      ]
     },
     "execution_count": 23,
     "metadata": {},
     "output_type": "execute_result"
    }
   ],
   "source": [
    "[0]*3"
   ]
  },
  {
   "cell_type": "markdown",
   "metadata": {},
   "source": [
    "The `*` is kind of multiplying the elements in a list"
   ]
  },
  {
   "cell_type": "markdown",
   "metadata": {},
   "source": [
    "Given the above, to create a 5x3 matrix  filled with zeros, which is a list of seemingly equal lists, you might then be tempted to write like this:"
   ]
  },
  {
   "cell_type": "code",
   "execution_count": 24,
   "metadata": {},
   "outputs": [
    {
     "data": {
      "text/plain": [
       "[[0, 0, 0], [0, 0, 0], [0, 0, 0], [0, 0, 0], [0, 0, 0]]"
      ]
     },
     "execution_count": 24,
     "metadata": {},
     "output_type": "execute_result"
    }
   ],
   "source": [
    "# WRONG\n",
    "[[0]*3]*5"
   ]
  },
  {
   "cell_type": "markdown",
   "metadata": {},
   "source": [
    "Why is that (possibly) wrong? Let's try to inspect it in Python Tutor: "
   ]
  },
  {
   "cell_type": "code",
   "execution_count": 25,
   "metadata": {},
   "outputs": [
    {
     "data": {
      "text/html": [
       "\n",
       "        <script src=\"../_static/js/pytutor-embed.bundle.min.js\" type=\"application/javascript\"></script>\n",
       "     \n",
       "        <script id=\"json-jm434be621-7d54-4c3b-980d-fe2b8f9d3d20\" type=\"application/json\" >\n",
       "            {\"code\": \" \\nbad = [[0]*3]*5\", \"trace\": [{\"line\": 2, \"event\": \"step_line\", \"func_name\": \"<module>\", \"globals\": {}, \"ordered_globals\": [], \"stack_to_render\": [], \"heap\": {}, \"stdout\": \"\"}, {\"line\": 2, \"event\": \"return\", \"func_name\": \"<module>\", \"globals\": {\"bad\": [\"REF\", 1]}, \"ordered_globals\": [\"bad\"], \"stack_to_render\": [], \"heap\": {\"1\": [\"LIST\", [\"REF\", 2], [\"REF\", 2], [\"REF\", 2], [\"REF\", 2], [\"REF\", 2]], \"2\": [\"LIST\", 0, 0, 0]}, \"stdout\": \"\"}]}\n",
       "        </script>\n",
       "        <div id=\"jm434be621-7d54-4c3b-980d-fe2b8f9d3d20\" class=\"pytutorVisualizer\"> </div>\n",
       " \n",
       "        <style>\n",
       "        .vizLayoutTd {\n",
       "            background-color: #fff !important;\n",
       "        }\n",
       "\n",
       "        #pyStdout {            \n",
       "            min-height:25px;\n",
       "        }\n",
       "\n",
       "        /* 'Edit this code' link, hiding because replaces browser tab !!!*/\n",
       "        #editCodeLinkDiv {\n",
       "            display:none;  \n",
       "        }\n",
       "        </style>   \n",
       "                            \n",
       "        <script>\n",
       "        (function(){\n",
       "\n",
       "            var trace = JSON.parse(document.getElementById('json-jm434be621-7d54-4c3b-980d-fe2b8f9d3d20').innerHTML);                                        \n",
       "            // NOTE 1: id without #\n",
       "            // NOTE 2 - maybe there are more predictable ways, but this will work anyway\n",
       "            //        - id should be number\n",
       "            visualizerIdOverride = Math.trunc(Math.random() * 100000000000)\n",
       "            addVisualizerToPage(trace, 'jm434be621-7d54-4c3b-980d-fe2b8f9d3d20',{'embeddedMode' : false,\n",
       "                                             'visualizerIdOverride':visualizerIdOverride})  \n",
       "            \n",
       "            \n",
       "            // set overflow for pytuts - need to do in python as css \n",
       "            // does not allow parent selection\n",
       "            var pytuts = $('.pytutorVisualizer')\n",
       "            pytuts.closest('div.output_html.rendered_html.output_result')\n",
       "                    .css('overflow-x', 'visible')\n",
       "        \n",
       "            //pytuts.closest('div.output_html.rendered_html.output_result')\n",
       "            //      .css('background-color','red')                \n",
       "            \n",
       "        })()\n",
       "        </script>\n",
       "                \n",
       "                "
      ],
      "text/plain": [
       "<IPython.core.display.HTML object>"
      ]
     },
     "execution_count": 25,
     "metadata": {},
     "output_type": "execute_result"
    }
   ],
   "source": [
    "bad = [[0]*3]*5\n",
    "jupman.pytut()"
   ]
  },
  {
   "cell_type": "markdown",
   "metadata": {},
   "source": [
    "If you look closely, you will see many arrows pointing to the same list of 3 zeros. This means that if we change one number, we will apparently change 5 of them in the whole column !\n",
    "\n",
    "The right way to create a matrix as list of lists with zeroes is the following:"
   ]
  },
  {
   "cell_type": "code",
   "execution_count": 26,
   "metadata": {},
   "outputs": [
    {
     "data": {
      "text/plain": [
       "[[0, 0, 0], [0, 0, 0], [0, 0, 0], [0, 0, 0], [0, 0, 0]]"
      ]
     },
     "execution_count": 26,
     "metadata": {},
     "output_type": "execute_result"
    }
   ],
   "source": [
    "# CORRECT \n",
    "[[0]*3 for i in range(5)]"
   ]
  },
  {
   "cell_type": "markdown",
   "metadata": {},
   "source": [
    "**EXERCISE**: Try creating a matrix with 7 rows and 4 columns and fill it with 5."
   ]
  },
  {
   "cell_type": "raw",
   "id": "fafb07bf",
   "metadata": {
    "format": "text/html"
   },
   "source": [
    "<a  class=\"jupman-sol jupman-sol-toggler\" \n",
    " onclick=\"jupman.toggleSolution(this);\" \n",
    " data-jupman-show=\"Show solution\" data-jupman-hide=\"Hide\">Show solution</a><div class=\"jupman-sol jupman-sol-code\" style=\"display:none\">  "
   ]
  },
  {
   "cell_type": "code",
   "execution_count": 27,
   "metadata": {},
   "outputs": [
    {
     "data": {
      "text/plain": [
       "[[5, 5, 5, 5],\n",
       " [5, 5, 5, 5],\n",
       " [5, 5, 5, 5],\n",
       " [5, 5, 5, 5],\n",
       " [5, 5, 5, 5],\n",
       " [5, 5, 5, 5],\n",
       " [5, 5, 5, 5]]"
      ]
     },
     "execution_count": 27,
     "metadata": {},
     "output_type": "execute_result"
    }
   ],
   "source": [
    "# write here\n",
    "\n",
    "[[5]*4 for i in range(7)]"
   ]
  },
  {
   "cell_type": "raw",
   "id": "b6c2e7b1",
   "metadata": {
    "format": "text/html"
   },
   "source": [
    "</div>"
   ]
  },
  {
   "cell_type": "code",
   "execution_count": 27,
   "metadata": {},
   "outputs": [
    {
     "data": {
      "text/plain": [
       "[[5, 5, 5, 5],\n",
       " [5, 5, 5, 5],\n",
       " [5, 5, 5, 5],\n",
       " [5, 5, 5, 5],\n",
       " [5, 5, 5, 5],\n",
       " [5, 5, 5, 5],\n",
       " [5, 5, 5, 5]]"
      ]
     },
     "execution_count": 27,
     "metadata": {},
     "output_type": "execute_result"
    }
   ],
   "source": [
    "# write here\n",
    "\n"
   ]
  },
  {
   "cell_type": "markdown",
   "metadata": {},
   "source": [
    "### deep_clone\n",
    "\n",
    "✪✪ Let's try to produce a _complete_ clone of the matrix, also called a _deep clone_, by creating a copy of the external list _and_ also the internal lists representing the rows.\n",
    "\n",
    "**QUESTION**: You might be tempted to write code like this, but it will not work. Why?"
   ]
  },
  {
   "cell_type": "code",
   "execution_count": 28,
   "metadata": {},
   "outputs": [
    {
     "data": {
      "text/html": [
       "\n",
       "        <script src=\"../_static/js/pytutor-embed.bundle.min.js\" type=\"application/javascript\"></script>\n",
       "     \n",
       "        <script id=\"json-jm088e140e-e5b9-44d7-a0c3-de56cfc88949\" type=\"application/json\" >\n",
       "            {\"code\": \" \\n# WARNING: WRONG CODE\\ndef deep_clone_wrong(mat):\\n    \\\"\\\"\\\" RETURN a NEW list of lists which is a COMPLETE DEEP clone\\n        of mat (which is a list of lists)\\n    \\\"\\\"\\\"\\n    return mat[:]\\n\\nm = [\\n        ['a','b'],\\n        ['b','d']\\n    ]       \\n        \\nres = deep_clone_wrong(m)\\n\\n# Notice you will have arrows in res list going to the _original_ mat. We don't want this !\", \"trace\": [{\"line\": 3, \"event\": \"step_line\", \"func_name\": \"<module>\", \"globals\": {}, \"ordered_globals\": [], \"stack_to_render\": [], \"heap\": {}, \"stdout\": \"\"}, {\"line\": 10, \"event\": \"step_line\", \"func_name\": \"<module>\", \"globals\": {\"deep_clone_wrong\": [\"REF\", 1]}, \"ordered_globals\": [\"deep_clone_wrong\"], \"stack_to_render\": [], \"heap\": {\"1\": [\"FUNCTION\", \"deep_clone_wrong(mat)\", null]}, \"stdout\": \"\"}, {\"line\": 11, \"event\": \"step_line\", \"func_name\": \"<module>\", \"globals\": {\"deep_clone_wrong\": [\"REF\", 1]}, \"ordered_globals\": [\"deep_clone_wrong\"], \"stack_to_render\": [], \"heap\": {\"1\": [\"FUNCTION\", \"deep_clone_wrong(mat)\", null]}, \"stdout\": \"\"}, {\"line\": 14, \"event\": \"step_line\", \"func_name\": \"<module>\", \"globals\": {\"deep_clone_wrong\": [\"REF\", 1], \"m\": [\"REF\", 2]}, \"ordered_globals\": [\"deep_clone_wrong\", \"m\"], \"stack_to_render\": [], \"heap\": {\"1\": [\"FUNCTION\", \"deep_clone_wrong(mat)\", null], \"2\": [\"LIST\", [\"REF\", 3], [\"REF\", 4]], \"3\": [\"LIST\", \"a\", \"b\"], \"4\": [\"LIST\", \"b\", \"d\"]}, \"stdout\": \"\"}, {\"line\": 3, \"event\": \"call\", \"func_name\": \"deep_clone_wrong\", \"globals\": {\"deep_clone_wrong\": [\"REF\", 1], \"m\": [\"REF\", 2]}, \"ordered_globals\": [\"deep_clone_wrong\", \"m\"], \"stack_to_render\": [{\"func_name\": \"deep_clone_wrong\", \"is_parent\": false, \"frame_id\": 1, \"parent_frame_id_list\": [], \"encoded_locals\": {\"mat\": [\"REF\", 2]}, \"ordered_varnames\": [\"mat\"], \"is_zombie\": false, \"is_highlighted\": true, \"unique_hash\": \"deep_clone_wrong_f1\"}], \"heap\": {\"2\": [\"LIST\", [\"REF\", 3], [\"REF\", 4]], \"3\": [\"LIST\", \"a\", \"b\"], \"4\": [\"LIST\", \"b\", \"d\"], \"1\": [\"FUNCTION\", \"deep_clone_wrong(mat)\", null]}, \"stdout\": \"\"}, {\"line\": 7, \"event\": \"step_line\", \"func_name\": \"deep_clone_wrong\", \"globals\": {\"deep_clone_wrong\": [\"REF\", 1], \"m\": [\"REF\", 2]}, \"ordered_globals\": [\"deep_clone_wrong\", \"m\"], \"stack_to_render\": [{\"func_name\": \"deep_clone_wrong\", \"is_parent\": false, \"frame_id\": 1, \"parent_frame_id_list\": [], \"encoded_locals\": {\"mat\": [\"REF\", 2]}, \"ordered_varnames\": [\"mat\"], \"is_zombie\": false, \"is_highlighted\": true, \"unique_hash\": \"deep_clone_wrong_f1\"}], \"heap\": {\"2\": [\"LIST\", [\"REF\", 3], [\"REF\", 4]], \"3\": [\"LIST\", \"a\", \"b\"], \"4\": [\"LIST\", \"b\", \"d\"], \"1\": [\"FUNCTION\", \"deep_clone_wrong(mat)\", null]}, \"stdout\": \"\"}, {\"line\": 7, \"event\": \"return\", \"func_name\": \"deep_clone_wrong\", \"globals\": {\"deep_clone_wrong\": [\"REF\", 1], \"m\": [\"REF\", 2]}, \"ordered_globals\": [\"deep_clone_wrong\", \"m\"], \"stack_to_render\": [{\"func_name\": \"deep_clone_wrong\", \"is_parent\": false, \"frame_id\": 1, \"parent_frame_id_list\": [], \"encoded_locals\": {\"mat\": [\"REF\", 2], \"__return__\": [\"REF\", 5]}, \"ordered_varnames\": [\"mat\", \"__return__\"], \"is_zombie\": false, \"is_highlighted\": true, \"unique_hash\": \"deep_clone_wrong_f1\"}], \"heap\": {\"2\": [\"LIST\", [\"REF\", 3], [\"REF\", 4]], \"3\": [\"LIST\", \"a\", \"b\"], \"4\": [\"LIST\", \"b\", \"d\"], \"5\": [\"LIST\", [\"REF\", 3], [\"REF\", 4]], \"1\": [\"FUNCTION\", \"deep_clone_wrong(mat)\", null]}, \"stdout\": \"\"}, {\"line\": 14, \"event\": \"return\", \"func_name\": \"<module>\", \"globals\": {\"deep_clone_wrong\": [\"REF\", 1], \"m\": [\"REF\", 2], \"res\": [\"REF\", 5]}, \"ordered_globals\": [\"deep_clone_wrong\", \"m\", \"res\"], \"stack_to_render\": [], \"heap\": {\"1\": [\"FUNCTION\", \"deep_clone_wrong(mat)\", null], \"2\": [\"LIST\", [\"REF\", 3], [\"REF\", 4]], \"3\": [\"LIST\", \"a\", \"b\"], \"4\": [\"LIST\", \"b\", \"d\"], \"5\": [\"LIST\", [\"REF\", 3], [\"REF\", 4]]}, \"stdout\": \"\"}]}\n",
       "        </script>\n",
       "        <div id=\"jm088e140e-e5b9-44d7-a0c3-de56cfc88949\" class=\"pytutorVisualizer\"> </div>\n",
       " \n",
       "        <style>\n",
       "        .vizLayoutTd {\n",
       "            background-color: #fff !important;\n",
       "        }\n",
       "\n",
       "        #pyStdout {            \n",
       "            min-height:25px;\n",
       "        }\n",
       "\n",
       "        /* 'Edit this code' link, hiding because replaces browser tab !!!*/\n",
       "        #editCodeLinkDiv {\n",
       "            display:none;  \n",
       "        }\n",
       "        </style>   \n",
       "                            \n",
       "        <script>\n",
       "        (function(){\n",
       "\n",
       "            var trace = JSON.parse(document.getElementById('json-jm088e140e-e5b9-44d7-a0c3-de56cfc88949').innerHTML);                                        \n",
       "            // NOTE 1: id without #\n",
       "            // NOTE 2 - maybe there are more predictable ways, but this will work anyway\n",
       "            //        - id should be number\n",
       "            visualizerIdOverride = Math.trunc(Math.random() * 100000000000)\n",
       "            addVisualizerToPage(trace, 'jm088e140e-e5b9-44d7-a0c3-de56cfc88949',{'embeddedMode' : false,\n",
       "                                             'visualizerIdOverride':visualizerIdOverride})  \n",
       "            \n",
       "            \n",
       "            // set overflow for pytuts - need to do in python as css \n",
       "            // does not allow parent selection\n",
       "            var pytuts = $('.pytutorVisualizer')\n",
       "            pytuts.closest('div.output_html.rendered_html.output_result')\n",
       "                    .css('overflow-x', 'visible')\n",
       "        \n",
       "            //pytuts.closest('div.output_html.rendered_html.output_result')\n",
       "            //      .css('background-color','red')                \n",
       "            \n",
       "        })()\n",
       "        </script>\n",
       "                \n",
       "                "
      ],
      "text/plain": [
       "<IPython.core.display.HTML object>"
      ]
     },
     "execution_count": 28,
     "metadata": {},
     "output_type": "execute_result"
    }
   ],
   "source": [
    "\n",
    "# WARNING: WRONG CODE\n",
    "def deep_clone_wrong(mat):\n",
    "    \"\"\" RETURN a NEW list of lists which is a COMPLETE DEEP clone\n",
    "        of mat (which is a list of lists)\n",
    "    \"\"\"\n",
    "    return mat[:]\n",
    "\n",
    "m = [\n",
    "        ['a','b'],\n",
    "        ['b','d']\n",
    "    ]       \n",
    "        \n",
    "res = deep_clone_wrong(m)\n",
    "\n",
    "# Notice you will have arrows in res list going to the _original_ mat. We don't want this !\n",
    "jupman.pytut()"
   ]
  },
  {
   "cell_type": "raw",
   "id": "88a6c473",
   "metadata": {
    "format": "text/html"
   },
   "source": [
    "<a  class=\"jupman-sol jupman-sol-toggler\" \n",
    " onclick=\"jupman.toggleSolution(this);\" \n",
    " data-jupman-show=\"Show answer\" data-jupman-hide=\"Hide\">Show answer</a><div class=\"jupman-sol jupman-sol-question\" style=\"display:none\">  "
   ]
  },
  {
   "cell_type": "markdown",
   "metadata": {},
   "source": [
    "**ANSWER**: `return mat[:]` is not sufficient, because\n",
    "it's a SHALLOW clone, and only copies the _external_ list\n",
    "                and not also the internal ones !  Note you will have rows in the `res` list which goes to the original matrix. We don't want this!"
   ]
  },
  {
   "cell_type": "raw",
   "id": "1167c953",
   "metadata": {
    "format": "text/html"
   },
   "source": [
    "</div>"
   ]
  },
  {
   "cell_type": "markdown",
   "metadata": {},
   "source": [
    "To fix the above code, you will need to iterate through the rows and _for each_ row create a copy of that row."
   ]
  },
  {
   "cell_type": "markdown",
   "metadata": {},
   "source": [
    "✪✪ **EXERCISE**: Implement `deep_clone`, which RETURNS a NEW list as a complete DEEP CLONE of `mat` (which is a list of lists)"
   ]
  },
  {
   "cell_type": "raw",
   "id": "29da3d30",
   "metadata": {
    "format": "text/html"
   },
   "source": [
    "<a  class=\"jupman-sol jupman-sol-toggler\" \n",
    " onclick=\"jupman.toggleSolution(this);\" \n",
    " data-jupman-show=\"Show solution\" data-jupman-hide=\"Hide\">Show solution</a><div class=\"jupman-sol jupman-sol-code\" style=\"display:none\">  "
   ]
  },
  {
   "cell_type": "code",
   "execution_count": 29,
   "metadata": {},
   "outputs": [],
   "source": [
    "\n",
    "def deep_clone(mat):\n",
    "    \n",
    "    \n",
    "    ret = []\n",
    "    for row in mat:\n",
    "        ret.append(row[:])\n",
    "    return ret\n",
    "    \n",
    "\n",
    "m = [ ['a','b'],\n",
    "      ['b','d'] ]\n",
    "\n",
    "res = [ ['a','b'],\n",
    "        ['b','d'] ]\n",
    "\n",
    "# verify the copy\n",
    "c = deep_clone(m)\n",
    "assert c == res\n",
    "\n",
    "# verify it is a DEEP copy (that is, it created also clones of the rows!)\n",
    "c[0][0] = 'z'\n",
    "assert m[0][0] == 'a'"
   ]
  },
  {
   "cell_type": "raw",
   "id": "44beb4ef",
   "metadata": {
    "format": "text/html"
   },
   "source": [
    "</div>"
   ]
  },
  {
   "cell_type": "code",
   "execution_count": 29,
   "metadata": {},
   "outputs": [],
   "source": [
    "\n",
    "def deep_clone(mat):\n",
    "    raise Exception('TODO IMPLEMENT ME !')\n",
    "\n",
    "m = [ ['a','b'],\n",
    "      ['b','d'] ]\n",
    "\n",
    "res = [ ['a','b'],\n",
    "        ['b','d'] ]\n",
    "\n",
    "# verify the copy\n",
    "c = deep_clone(m)\n",
    "assert c == res\n",
    "\n",
    "# verify it is a DEEP copy (that is, it created also clones of the rows!)\n",
    "c[0][0] = 'z'\n",
    "assert m[0][0] == 'a'"
   ]
  },
  {
   "cell_type": "markdown",
   "metadata": {},
   "source": [
    "## Modifying matrices"
   ]
  },
  {
   "cell_type": "markdown",
   "metadata": {},
   "source": [
    "### fillc\n",
    "\n",
    "✪✪ Implement the function `fillc` which takes as input `mat` (a list of lists with dimension `nrows` x `ncol`) and MODIFIES it by placing the character `c` inside all the matrix cells.\n",
    "\n",
    "* to visit the matrix use for in range cycles\n",
    "\n",
    "Ingredients:\n",
    "\n",
    "* find matrix dimension\n",
    "* two nested fors\n",
    "* use range"
   ]
  },
  {
   "cell_type": "markdown",
   "metadata": {},
   "source": [
    "<div class=\"alert alert-info\">\n",
    "\n",
    "**NOTE: This function returns nothing!**\n",
    "    \n",
    "If in the function text it is not mentioned to return values, DO NOT place the `return`. If by chance you put it anyway it is not the world's end, but to avoid confusion is much better having a behaviour consistent with the text.\n",
    "</div>"
   ]
  },
  {
   "cell_type": "raw",
   "id": "59478058",
   "metadata": {
    "format": "text/html"
   },
   "source": [
    "<a  class=\"jupman-sol jupman-sol-toggler\" \n",
    " onclick=\"jupman.toggleSolution(this);\" \n",
    " data-jupman-show=\"Show solution\" data-jupman-hide=\"Hide\">Show solution</a><div class=\"jupman-sol jupman-sol-code\" style=\"display:none\">  "
   ]
  },
  {
   "cell_type": "code",
   "execution_count": 30,
   "metadata": {},
   "outputs": [],
   "source": [
    "def fillc(mat, c):\n",
    "    \n",
    "    nrows = len(mat)\n",
    "    ncols = len(mat[0])\n",
    "\n",
    "    for i in range(nrows):\n",
    "        for j in range(ncols):\n",
    "            mat[i][j] = c\n",
    "    \n",
    "\n",
    "m1 = [ ['a'] ]\n",
    "m2 = [ ['z'] ]\n",
    "fillc(m1,'z')\n",
    "assert m1 == m2\n",
    "\n",
    "m3 = [ ['a'] ]\n",
    "m4 = [ ['y'] ]\n",
    "fillc(m3,'y')\n",
    "assert m3 == m4\n",
    "\n",
    "m5 = [ ['a','b'] ]\n",
    "m6 = [ ['z','z'] ]\n",
    "fillc(m5,'z')\n",
    "assert m5 == m6\n",
    "\n",
    "m7 = [ ['a','b','c'],\n",
    "       ['d','e','f'],\n",
    "       ['g','h','i'] ]\n",
    "\n",
    "m8 = [ ['y','y','y'],\n",
    "       ['y','y','y'],\n",
    "       ['y','y','y'] ]\n",
    "fillc(m7,'y')\n",
    "assert m7 == m8\n",
    "\n",
    "#     j  0   1\n",
    "m9 = [ ['a','b'],    # 0\n",
    "       ['c','d'],    # 1\n",
    "       ['e','f'] ]   # 2\n",
    "\n",
    "m10 = [ ['x','x'],    # 0\n",
    "        ['x','x'],    # 1\n",
    "        ['x','x'] ]   # 2\n",
    "fillc(m9, 'x')\n",
    "assert m9 == m10"
   ]
  },
  {
   "cell_type": "raw",
   "id": "33d40123",
   "metadata": {
    "format": "text/html"
   },
   "source": [
    "</div>"
   ]
  },
  {
   "cell_type": "code",
   "execution_count": 30,
   "metadata": {},
   "outputs": [],
   "source": [
    "def fillc(mat, c):\n",
    "    raise Exception('TODO IMPLEMENT ME !')\n",
    "\n",
    "m1 = [ ['a'] ]\n",
    "m2 = [ ['z'] ]\n",
    "fillc(m1,'z')\n",
    "assert m1 == m2\n",
    "\n",
    "m3 = [ ['a'] ]\n",
    "m4 = [ ['y'] ]\n",
    "fillc(m3,'y')\n",
    "assert m3 == m4\n",
    "\n",
    "m5 = [ ['a','b'] ]\n",
    "m6 = [ ['z','z'] ]\n",
    "fillc(m5,'z')\n",
    "assert m5 == m6\n",
    "\n",
    "m7 = [ ['a','b','c'],\n",
    "       ['d','e','f'],\n",
    "       ['g','h','i'] ]\n",
    "\n",
    "m8 = [ ['y','y','y'],\n",
    "       ['y','y','y'],\n",
    "       ['y','y','y'] ]\n",
    "fillc(m7,'y')\n",
    "assert m7 == m8\n",
    "\n",
    "#     j  0   1\n",
    "m9 = [ ['a','b'],    # 0\n",
    "       ['c','d'],    # 1\n",
    "       ['e','f'] ]   # 2\n",
    "\n",
    "m10 = [ ['x','x'],    # 0\n",
    "        ['x','x'],    # 1\n",
    "        ['x','x'] ]   # 2\n",
    "fillc(m9, 'x')\n",
    "assert m9 == m10"
   ]
  },
  {
   "cell_type": "markdown",
   "metadata": {},
   "source": [
    "### fillx\n",
    "\n",
    "✪✪ Takes a matrix mat as list of lists and a column index `j`, and MODIFIES `mat` by placing the `'x'` character in all cells of the `j`-th column.\n",
    "\n",
    "Example: \n",
    "\n",
    "```python\n",
    "m = [\n",
    "      ['a','b','c','d'],\n",
    "      ['e','f','g','h'],\n",
    "      ['i','l','m','n']\n",
    "    ]\n",
    "```\n",
    "\n",
    "After the call to\n",
    "\n",
    "```python\n",
    "fillx(m,2)\n",
    "```\n",
    "\n",
    "the matrix `m` will be changed like this:\n",
    "\n",
    "```python\n",
    ">>> print(m)\n",
    "\n",
    "[\n",
    "    ['a','b','x','d'],\n",
    "    ['e','f','x','h'],\n",
    "    ['i','l','x','n']\n",
    "]\n",
    "```\n",
    "\n"
   ]
  },
  {
   "cell_type": "raw",
   "id": "05372bd2",
   "metadata": {
    "format": "text/html"
   },
   "source": [
    "<a  class=\"jupman-sol jupman-sol-toggler\" \n",
    " onclick=\"jupman.toggleSolution(this);\" \n",
    " data-jupman-show=\"Show solution\" data-jupman-hide=\"Hide\">Show solution</a><div class=\"jupman-sol jupman-sol-code\" style=\"display:none\">  "
   ]
  },
  {
   "cell_type": "code",
   "execution_count": 31,
   "metadata": {},
   "outputs": [],
   "source": [
    "def fillx(mat, j):\n",
    "    \n",
    "    for row in mat:\n",
    "        row[j] = 'x'\n",
    "    \n",
    "\n",
    "\n",
    "m1 = [ ['a'] ]\n",
    "fillx(m1,0)\n",
    "assert m1 == [ ['x'] ]\n",
    "\n",
    "m2 = [ ['a','b'],\n",
    "       ['c','d'],\n",
    "       ['e','f'] ]\n",
    "fillx(m2,0)\n",
    "assert m2 == [ ['x','b'],\n",
    "               ['x','d'],\n",
    "               ['x','f'] ]\n",
    "\n",
    "m3 = [ ['a','b'],\n",
    "       ['c','d'],\n",
    "       ['e','f'] ]\n",
    "fillx(m3,1)\n",
    "assert m3 == [ ['a','x'],\n",
    "               ['c','x'],\n",
    "               ['e','x'] ]\n",
    "\n",
    "m4 = [ ['a','b','c','d'],\n",
    "       ['e','f','g','h'],\n",
    "       ['i','l','m','n'] ]\n",
    "fillx(m4,2)\n",
    "assert m4 == [ ['a','b','x','d'],\n",
    "               ['e','f','x','h'],\n",
    "               ['i','l','x','n'] ]    "
   ]
  },
  {
   "cell_type": "raw",
   "id": "b9117361",
   "metadata": {
    "format": "text/html"
   },
   "source": [
    "</div>"
   ]
  },
  {
   "cell_type": "code",
   "execution_count": 31,
   "metadata": {},
   "outputs": [],
   "source": [
    "def fillx(mat, j):\n",
    "    raise Exception('TODO IMPLEMENT ME !')\n",
    "\n",
    "\n",
    "m1 = [ ['a'] ]\n",
    "fillx(m1,0)\n",
    "assert m1 == [ ['x'] ]\n",
    "\n",
    "m2 = [ ['a','b'],\n",
    "       ['c','d'],\n",
    "       ['e','f'] ]\n",
    "fillx(m2,0)\n",
    "assert m2 == [ ['x','b'],\n",
    "               ['x','d'],\n",
    "               ['x','f'] ]\n",
    "\n",
    "m3 = [ ['a','b'],\n",
    "       ['c','d'],\n",
    "       ['e','f'] ]\n",
    "fillx(m3,1)\n",
    "assert m3 == [ ['a','x'],\n",
    "               ['c','x'],\n",
    "               ['e','x'] ]\n",
    "\n",
    "m4 = [ ['a','b','c','d'],\n",
    "       ['e','f','g','h'],\n",
    "       ['i','l','m','n'] ]\n",
    "fillx(m4,2)\n",
    "assert m4 == [ ['a','b','x','d'],\n",
    "               ['e','f','x','h'],\n",
    "               ['i','l','x','n'] ]    "
   ]
  },
  {
   "cell_type": "markdown",
   "metadata": {},
   "source": [
    "### fillz\n",
    "\n",
    "✪✪ Takes a matrix `mat` as list of lists and a row index `i`, and MODIFIES `mat` by placing the character `'z'` in all the cells of the `i`-th row.\n",
    "\n",
    "Example:\n",
    "\n",
    "```python\n",
    "m = [\n",
    "    ['a','b'],\n",
    "    ['c','d'],\n",
    "    ['e','f'],\n",
    "    ['g','h']\n",
    "]\n",
    "```\n",
    "\n",
    "After the call to\n",
    "\n",
    "```python\n",
    ">>> fillz(m,2)\n",
    "```\n",
    "\n",
    "the matrix `m` will be changed like so:\n",
    "\n",
    "```python\n",
    ">>> print(m)\n",
    "\n",
    "[\n",
    "    ['a','b'],\n",
    "    ['c','d'],\n",
    "    ['z','z'],\n",
    "    ['g','h']\n",
    "]\n",
    "```\n"
   ]
  },
  {
   "cell_type": "raw",
   "id": "e663f0f3",
   "metadata": {
    "format": "text/html"
   },
   "source": [
    "<a  class=\"jupman-sol jupman-sol-toggler\" \n",
    " onclick=\"jupman.toggleSolution(this);\" \n",
    " data-jupman-show=\"Show solution\" data-jupman-hide=\"Hide\">Show solution</a><div class=\"jupman-sol jupman-sol-code\" style=\"display:none\">  "
   ]
  },
  {
   "cell_type": "code",
   "execution_count": 32,
   "metadata": {},
   "outputs": [],
   "source": [
    "def fillz(mat, i):\n",
    "    \n",
    "    ncol=len(mat[0])\n",
    "    for j in range(ncol):\n",
    "        mat[i][j] = 'z'\n",
    "    \n",
    "\n",
    "\n",
    "m1 = [ ['a'] ]\n",
    "fillz(m1,0)\n",
    "assert m1 == [ ['z'] ]\n",
    "\n",
    "m2 = [ ['a','b'],\n",
    "       ['c','d'],\n",
    "       ['e','f'] ]\n",
    "fillz(m2,0)\n",
    "assert m2 == [ ['z','z'],\n",
    "               ['c','d'],\n",
    "               ['e','f'] ]\n",
    "\n",
    "m3 = [ ['a','b'],\n",
    "       ['c','d'],\n",
    "       ['e','f'] ]\n",
    "fillz(m3,1)\n",
    "assert m3 == [ ['a','b'],\n",
    "               ['z','z'],\n",
    "               ['e','f'] ]\n",
    "\n",
    "m4 = [ ['a','b'],\n",
    "       ['c','d'],\n",
    "       ['e','f'] ]\n",
    "fillz(m4,2)\n",
    "assert m4 == [ ['a','b'],\n",
    "               ['c','d'],\n",
    "               ['z','z'] ]"
   ]
  },
  {
   "cell_type": "raw",
   "id": "96af5390",
   "metadata": {
    "format": "text/html"
   },
   "source": [
    "</div>"
   ]
  },
  {
   "cell_type": "code",
   "execution_count": 32,
   "metadata": {},
   "outputs": [],
   "source": [
    "def fillz(mat, i):\n",
    "    raise Exception('TODO IMPLEMENT ME !')\n",
    "\n",
    "\n",
    "m1 = [ ['a'] ]\n",
    "fillz(m1,0)\n",
    "assert m1 == [ ['z'] ]\n",
    "\n",
    "m2 = [ ['a','b'],\n",
    "       ['c','d'],\n",
    "       ['e','f'] ]\n",
    "fillz(m2,0)\n",
    "assert m2 == [ ['z','z'],\n",
    "               ['c','d'],\n",
    "               ['e','f'] ]\n",
    "\n",
    "m3 = [ ['a','b'],\n",
    "       ['c','d'],\n",
    "       ['e','f'] ]\n",
    "fillz(m3,1)\n",
    "assert m3 == [ ['a','b'],\n",
    "               ['z','z'],\n",
    "               ['e','f'] ]\n",
    "\n",
    "m4 = [ ['a','b'],\n",
    "       ['c','d'],\n",
    "       ['e','f'] ]\n",
    "fillz(m4,2)\n",
    "assert m4 == [ ['a','b'],\n",
    "               ['c','d'],\n",
    "               ['z','z'] ]"
   ]
  },
  {
   "cell_type": "markdown",
   "metadata": {},
   "source": [
    "### stitch_down\n",
    "\n",
    "✪✪ Given matrices `mat1` and `mat2`  as list of lists, with mat1 of size `u` x `n` and `mat2` of size `d` x `n`, RETURN a NEW matrix of size (`u`+`d`) x `n` as list of lists, by stitching second mat to the bottom of `mat1`\n",
    "       \n",
    "* **NOTE**: by NEW matrix we intend a matrix with no pointers to original rows (see previous deep clone exercise)\n",
    "* for examples, see asserts"
   ]
  },
  {
   "cell_type": "raw",
   "id": "48421dc3",
   "metadata": {
    "format": "text/html"
   },
   "source": [
    "<a  class=\"jupman-sol jupman-sol-toggler\" \n",
    " onclick=\"jupman.toggleSolution(this);\" \n",
    " data-jupman-show=\"Show solution\" data-jupman-hide=\"Hide\">Show solution</a><div class=\"jupman-sol jupman-sol-code\" style=\"display:none\">  "
   ]
  },
  {
   "cell_type": "code",
   "execution_count": 33,
   "metadata": {},
   "outputs": [],
   "source": [
    "def stitch_down(mat1, mat2):\n",
    "    \n",
    "    res = []\n",
    "    for row in mat1:\n",
    "        res.append(row[:])\n",
    "    for row in mat2:\n",
    "        res.append(row[:])\n",
    "    return res\n",
    "    \n",
    "    \n",
    "m1 = [ ['a'] ]\n",
    "m2 = [ ['b'] ]\n",
    "assert stitch_down(m1, m2) == [ ['a'],\n",
    "                                ['b'] ]\n",
    "\n",
    "# check we are giving back a deep clone\n",
    "s = stitch_down(m1, m2)\n",
    "s[0][0] = 'z'\n",
    "assert m1[0][0] == 'a' \n",
    "\n",
    "m1 = [ ['a','b','c'],\n",
    "       ['d','b','a'] ]\n",
    "m2 = [ ['f','b', 'h'],\n",
    "       ['g','h', 'w'] ]\n",
    "assert stitch_down(m1, m2) == [ ['a','b','c'],\n",
    "                                ['d','b','a'],\n",
    "                                ['f','b','h'],\n",
    "                                ['g','h','w'] ]"
   ]
  },
  {
   "cell_type": "raw",
   "id": "34441d83",
   "metadata": {
    "format": "text/html"
   },
   "source": [
    "</div>"
   ]
  },
  {
   "cell_type": "code",
   "execution_count": 33,
   "metadata": {},
   "outputs": [],
   "source": [
    "def stitch_down(mat1, mat2):\n",
    "    raise Exception('TODO IMPLEMENT ME !')\n",
    "    \n",
    "m1 = [ ['a'] ]\n",
    "m2 = [ ['b'] ]\n",
    "assert stitch_down(m1, m2) == [ ['a'],\n",
    "                                ['b'] ]\n",
    "\n",
    "# check we are giving back a deep clone\n",
    "s = stitch_down(m1, m2)\n",
    "s[0][0] = 'z'\n",
    "assert m1[0][0] == 'a' \n",
    "\n",
    "m1 = [ ['a','b','c'],\n",
    "       ['d','b','a'] ]\n",
    "m2 = [ ['f','b', 'h'],\n",
    "       ['g','h', 'w'] ]\n",
    "assert stitch_down(m1, m2) == [ ['a','b','c'],\n",
    "                                ['d','b','a'],\n",
    "                                ['f','b','h'],\n",
    "                                ['g','h','w'] ]"
   ]
  },
  {
   "cell_type": "markdown",
   "metadata": {},
   "source": [
    "### stitch_up\n",
    "\n",
    "✪✪ Given matrices `mat1` and `mat2`  as list of lists, with `mat1` of size `u` x `n` and `mat2` of size `d` x `n`,\n",
    "       RETURN a NEW matrix of size (`u`+`d`) x `n` as list of lists, by stitching first mat to the bottom of mat2\n",
    "       \n",
    "* **NOTE**: by NEW matrix we intend a matrix with no pointers to original rows (see previous `deep_clone` exercise)\n",
    "* To implement this function, use a call to the method stitch_down you implemented before.\n",
    "* For examples, see assert\n"
   ]
  },
  {
   "cell_type": "raw",
   "id": "3f997873",
   "metadata": {
    "format": "text/html"
   },
   "source": [
    "<a  class=\"jupman-sol jupman-sol-toggler\" \n",
    " onclick=\"jupman.toggleSolution(this);\" \n",
    " data-jupman-show=\"Show solution\" data-jupman-hide=\"Hide\">Show solution</a><div class=\"jupman-sol jupman-sol-code\" style=\"display:none\">  "
   ]
  },
  {
   "cell_type": "code",
   "execution_count": 34,
   "metadata": {},
   "outputs": [],
   "source": [
    "def stitch_up(mat1, mat2):    \n",
    "    \n",
    "    return stitch_down(mat2, mat1)\n",
    "    \n",
    "    \n",
    "\n",
    "m1 = [ ['a'] ]\n",
    "m2 = [ ['b'] ]\n",
    "assert stitch_up(m1, m2) == [ ['b'],\n",
    "                              ['a'] ]\n",
    "\n",
    "# check we are giving back a deep clone\n",
    "s = stitch_up(m1, m2)\n",
    "s[0][0] = 'z'\n",
    "assert m1[0][0] == 'a'     \n",
    "    \n",
    "m1 = [ ['a','b','c'],\n",
    "       ['d','b','a'] ]\n",
    "m2 = [ ['f','b', 'h'],\n",
    "       ['g','h', 'w'] ]\n",
    "\n",
    "assert stitch_up(m1, m2) == [ ['f','b','h'],\n",
    "                              ['g','h','w'],\n",
    "                              ['a','b','c'],\n",
    "                              ['d','b','a'] ]"
   ]
  },
  {
   "cell_type": "raw",
   "id": "5c62457f",
   "metadata": {
    "format": "text/html"
   },
   "source": [
    "</div>"
   ]
  },
  {
   "cell_type": "code",
   "execution_count": 34,
   "metadata": {},
   "outputs": [],
   "source": [
    "def stitch_up(mat1, mat2):    \n",
    "    raise Exception('TODO IMPLEMENT ME !')\n",
    "    \n",
    "\n",
    "m1 = [ ['a'] ]\n",
    "m2 = [ ['b'] ]\n",
    "assert stitch_up(m1, m2) == [ ['b'],\n",
    "                              ['a'] ]\n",
    "\n",
    "# check we are giving back a deep clone\n",
    "s = stitch_up(m1, m2)\n",
    "s[0][0] = 'z'\n",
    "assert m1[0][0] == 'a'     \n",
    "    \n",
    "m1 = [ ['a','b','c'],\n",
    "       ['d','b','a'] ]\n",
    "m2 = [ ['f','b', 'h'],\n",
    "       ['g','h', 'w'] ]\n",
    "\n",
    "assert stitch_up(m1, m2) == [ ['f','b','h'],\n",
    "                              ['g','h','w'],\n",
    "                              ['a','b','c'],\n",
    "                              ['d','b','a'] ]"
   ]
  },
  {
   "cell_type": "markdown",
   "metadata": {},
   "source": [
    "### stitch_right\n",
    "\n",
    "✪✪✪ Given matrices `mata` and `matb`  as list of lists, with `mata` of size `n` x `l` and `matb` of size `n` x `r`, RETURN a NEW matrix of size `n` x (`l` + `r`) as list of lists, by stitching second `matb` to the right end of `mata`"
   ]
  },
  {
   "cell_type": "raw",
   "id": "d1a1e808",
   "metadata": {
    "format": "text/html"
   },
   "source": [
    "<a  class=\"jupman-sol jupman-sol-toggler\" \n",
    " onclick=\"jupman.toggleSolution(this);\" \n",
    " data-jupman-show=\"Show solution\" data-jupman-hide=\"Hide\">Show solution</a><div class=\"jupman-sol jupman-sol-code\" style=\"display:none\">  "
   ]
  },
  {
   "cell_type": "code",
   "execution_count": 35,
   "metadata": {},
   "outputs": [],
   "source": [
    "\n",
    "def stitch_right(mata,matb):    \n",
    "    \n",
    "    ret = []\n",
    "    for i in range(len(mata)):\n",
    "        row_to_add =  mata[i][:]\n",
    "        row_to_add.extend(matb[i])\n",
    "        ret.append(row_to_add)\n",
    "    return ret\n",
    "    \n",
    "    \n",
    "ma1 = [ ['a','b','c'],\n",
    "        ['d','b','a'] ]\n",
    "mb1 = [ ['f','b'],\n",
    "        ['g','h'] ]\n",
    "\n",
    "assert stitch_right(ma1, mb1) == [ ['a','b','c','f','b'],\n",
    "                                   ['d','b','a','g','h'] ]"
   ]
  },
  {
   "cell_type": "raw",
   "id": "e5d2984f",
   "metadata": {
    "format": "text/html"
   },
   "source": [
    "</div>"
   ]
  },
  {
   "cell_type": "code",
   "execution_count": 35,
   "metadata": {},
   "outputs": [],
   "source": [
    "\n",
    "def stitch_right(mata,matb):    \n",
    "    raise Exception('TODO IMPLEMENT ME !')\n",
    "    \n",
    "ma1 = [ ['a','b','c'],\n",
    "        ['d','b','a'] ]\n",
    "mb1 = [ ['f','b'],\n",
    "        ['g','h'] ]\n",
    "\n",
    "assert stitch_right(ma1, mb1) == [ ['a','b','c','f','b'],\n",
    "                                   ['d','b','a','g','h'] ]"
   ]
  },
  {
   "cell_type": "markdown",
   "metadata": {},
   "source": [
    "### insercol \n",
    "\n",
    "✪✪ Given a matrix `mat` as list of lists, a column index `j` and a list `new_col`, write a function `insercol(mat,j,new_col)` which MODIFIES `mat` inserting the new column at position `j`.\n",
    "\n",
    "Example - given:"
   ]
  },
  {
   "cell_type": "code",
   "execution_count": 36,
   "metadata": {},
   "outputs": [],
   "source": [
    "       # 0 1 2 \n",
    "m  = [\n",
    "        [5,4,6],   \n",
    "        [4,7,1],   \n",
    "        [3,2,6],  \n",
    "]"
   ]
  },
  {
   "cell_type": "markdown",
   "metadata": {},
   "source": [
    "By calling\n",
    "\n",
    "```python\n",
    "\n",
    ">>> insercol(m, 2, [7,9,3])\n",
    "```\n",
    "    \n",
    "`m` will be MODIFIED with the insertion of column `[7,9,3]`\n",
    "at position `j=2`"
   ]
  },
  {
   "cell_type": "markdown",
   "metadata": {},
   "source": [
    "```python\n",
    ">>> m\n",
    "       # 0 1 2 3\n",
    "[\n",
    "        [5,4,7,6],   \n",
    "        [4,7,9,1],   \n",
    "        [3,2,3,6],  \n",
    "]  \n",
    "```\n",
    "\n",
    "- for other examples, see asserts\n",
    "- **HINT**: lists already have a handy method `.insert`, so there is isn't much code to write, just write the right one ;-)"
   ]
  },
  {
   "cell_type": "raw",
   "id": "5a5043ed",
   "metadata": {
    "format": "text/html"
   },
   "source": [
    "<a  class=\"jupman-sol jupman-sol-toggler\" \n",
    " onclick=\"jupman.toggleSolution(this);\" \n",
    " data-jupman-show=\"Show solution\" data-jupman-hide=\"Hide\">Show solution</a><div class=\"jupman-sol jupman-sol-code\" style=\"display:none\">  "
   ]
  },
  {
   "cell_type": "code",
   "execution_count": 37,
   "metadata": {},
   "outputs": [],
   "source": [
    "\n",
    "def insercol(mat, j, nuova_col):\n",
    "    \n",
    "    for i in range(len(mat)):\n",
    "        mat[i].insert(j, nuova_col[i])\n",
    "    \n",
    "\n",
    "\n",
    "m1 = [\n",
    "        [5]\n",
    "     ]\n",
    "assert insercol(m1,1,[8]) == None  # the function returns nothing!\n",
    "assert m1 == [ [5,8] ]\n",
    "\n",
    "m2 = [ [5] ]\n",
    "insercol(m2,0,[8]) \n",
    "assert m2 == [ [8,5] ]\n",
    "\n",
    "m3 = [  [5,4,2],\n",
    "        [8,9,3] ]\n",
    "insercol(m3,1,[7,6])\n",
    "assert m3 == [ [5,7,4,2],\n",
    "               [8,6,9,3] ]\n",
    "\n",
    "\n",
    "m4 = [ [5,4,6],   \n",
    "       [4,7,1],   \n",
    "       [3,2,6] ]\n",
    "insercol(m4, 2, [7,9,3])\n",
    "\n",
    "assert m4 == [ [5,4,7,6],   \n",
    "               [4,7,9,1],   \n",
    "               [3,2,3,6] ]"
   ]
  },
  {
   "cell_type": "raw",
   "id": "cabfaf67",
   "metadata": {
    "format": "text/html"
   },
   "source": [
    "</div>"
   ]
  },
  {
   "cell_type": "code",
   "execution_count": 37,
   "metadata": {},
   "outputs": [],
   "source": [
    "\n",
    "def insercol(mat, j, nuova_col):\n",
    "    raise Exception('TODO IMPLEMENT ME !')\n",
    "\n",
    "\n",
    "m1 = [\n",
    "        [5]\n",
    "     ]\n",
    "assert insercol(m1,1,[8]) == None  # the function returns nothing!\n",
    "assert m1 == [ [5,8] ]\n",
    "\n",
    "m2 = [ [5] ]\n",
    "insercol(m2,0,[8]) \n",
    "assert m2 == [ [8,5] ]\n",
    "\n",
    "m3 = [  [5,4,2],\n",
    "        [8,9,3] ]\n",
    "insercol(m3,1,[7,6])\n",
    "assert m3 == [ [5,7,4,2],\n",
    "               [8,6,9,3] ]\n",
    "\n",
    "\n",
    "m4 = [ [5,4,6],   \n",
    "       [4,7,1],   \n",
    "       [3,2,6] ]\n",
    "insercol(m4, 2, [7,9,3])\n",
    "\n",
    "assert m4 == [ [5,4,7,6],   \n",
    "               [4,7,9,1],   \n",
    "               [3,2,3,6] ]"
   ]
  },
  {
   "cell_type": "markdown",
   "metadata": {},
   "source": [
    "### threshold\n",
    "\n",
    "✪✪ Takes a matrix as a list of lists (every list has the same dimension) and RETURN  a NEW matrix as list of lists where there is `True` if the corresponding input element is greater than `t`, otherwise return `False`\n",
    "\n",
    "Ingredients:\n",
    "\n",
    "- a variable for the matrix to return\n",
    "- for each original row, we need to create a new list"
   ]
  },
  {
   "cell_type": "raw",
   "id": "78f21e41",
   "metadata": {
    "format": "text/html"
   },
   "source": [
    "<a  class=\"jupman-sol jupman-sol-toggler\" \n",
    " onclick=\"jupman.toggleSolution(this);\" \n",
    " data-jupman-show=\"Show solution\" data-jupman-hide=\"Hide\">Show solution</a><div class=\"jupman-sol jupman-sol-code\" style=\"display:none\">  "
   ]
  },
  {
   "cell_type": "code",
   "execution_count": 38,
   "metadata": {},
   "outputs": [],
   "source": [
    "def threshold(mat, t):    \n",
    "    \n",
    "    ret = []\n",
    "    for row in mat:\n",
    "        new_row = []\n",
    "        ret.append(new_row)\n",
    "        for el in row:\n",
    "            new_row.append(el > t)\n",
    "        \n",
    "    return ret\n",
    "    \n",
    "\n",
    "morig = [ [1,4,2],\n",
    "          [7,9,3] ]\n",
    "    \n",
    "m1 = [ [1,4,2],\n",
    "       [7,9,3] ]\n",
    "\n",
    "r1 = [ [False,False,False],\n",
    "       [True,True,False] ]\n",
    "assert threshold(m1,4) == r1\n",
    "assert m1 == morig   # verify original didn't change\n",
    "\n",
    "m2 = [ [5,2],\n",
    "       [3,7] ]\n",
    "\n",
    "r2 = [ [True,False],\n",
    "       [False,True] ]\n",
    "assert threshold(m2,4) == r2"
   ]
  },
  {
   "cell_type": "raw",
   "id": "634e8964",
   "metadata": {
    "format": "text/html"
   },
   "source": [
    "</div>"
   ]
  },
  {
   "cell_type": "code",
   "execution_count": 38,
   "metadata": {},
   "outputs": [],
   "source": [
    "def threshold(mat, t):    \n",
    "    raise Exception('TODO IMPLEMENT ME !')\n",
    "\n",
    "morig = [ [1,4,2],\n",
    "          [7,9,3] ]\n",
    "    \n",
    "m1 = [ [1,4,2],\n",
    "       [7,9,3] ]\n",
    "\n",
    "r1 = [ [False,False,False],\n",
    "       [True,True,False] ]\n",
    "assert threshold(m1,4) == r1\n",
    "assert m1 == morig   # verify original didn't change\n",
    "\n",
    "m2 = [ [5,2],\n",
    "       [3,7] ]\n",
    "\n",
    "r2 = [ [True,False],\n",
    "       [False,True] ]\n",
    "assert threshold(m2,4) == r2"
   ]
  },
  {
   "cell_type": "markdown",
   "metadata": {},
   "source": [
    "### swap_rows\n",
    "\n",
    "✪✪ We will try swapping a couple of rows of a matrix\n",
    "\n",
    "There are several ways to proceed. Before continuing, make sure to know how to exchange two values by solving this simple exercise - check your result in Python Tutor\n"
   ]
  },
  {
   "cell_type": "raw",
   "id": "99a226d9",
   "metadata": {
    "format": "text/html"
   },
   "source": [
    "<a  class=\"jupman-sol jupman-sol-toggler\" \n",
    " onclick=\"jupman.toggleSolution(this);\" \n",
    " data-jupman-show=\"Show solution\" data-jupman-hide=\"Hide\">Show solution</a><div class=\"jupman-sol jupman-sol-code\" style=\"display:none\">  "
   ]
  },
  {
   "cell_type": "code",
   "execution_count": 39,
   "metadata": {},
   "outputs": [],
   "source": [
    "x = 3\n",
    "y = 7\n",
    "\n",
    "# write here the code to swap x and y (do not directly use the constants 3 and 7!)\n",
    "\n",
    "k = x\n",
    "x = y\n",
    "y = k\n",
    "\n",
    "#jupman.pytut()\n"
   ]
  },
  {
   "cell_type": "raw",
   "id": "91c150e0",
   "metadata": {
    "format": "text/html"
   },
   "source": [
    "</div>"
   ]
  },
  {
   "cell_type": "code",
   "execution_count": 39,
   "metadata": {},
   "outputs": [],
   "source": [
    "x = 3\n",
    "y = 7\n",
    "\n",
    "# write here the code to swap x and y (do not directly use the constants 3 and 7!)\n",
    "\n"
   ]
  },
  {
   "cell_type": "markdown",
   "metadata": {},
   "source": [
    "✪✪ Takes a matrix `mat` as list of lists, and RETURN a NEW matrix where rows at indexes `i1` and `i2` are swapped"
   ]
  },
  {
   "cell_type": "raw",
   "id": "8189223e",
   "metadata": {
    "format": "text/html"
   },
   "source": [
    "<a  class=\"jupman-sol jupman-sol-toggler\" \n",
    " onclick=\"jupman.toggleSolution(this);\" \n",
    " data-jupman-show=\"Show solution\" data-jupman-hide=\"Hide\">Show solution</a><div class=\"jupman-sol jupman-sol-code\" style=\"display:none\">  "
   ]
  },
  {
   "cell_type": "code",
   "execution_count": 40,
   "metadata": {},
   "outputs": [],
   "source": [
    "def swap_rows(mat, i1, i2):\n",
    "    \n",
    "    \n",
    "    # deep clones\n",
    "    ret = []\n",
    "    for row in mat:\n",
    "        ret.append(row[:])\n",
    "    #swaps\n",
    "    s = ret[i1]\n",
    "    ret[i1] = ret[i2]\n",
    "    ret[i2] = s\n",
    "    return ret\n",
    "    \n",
    "    \n",
    "m1 = [ ['a','d'],\n",
    "       ['b','e'],\n",
    "       ['c','f'] ]\n",
    "\n",
    "r1 = swap_rows(m1, 0, 2)\n",
    "\n",
    "assert r1 == [ ['c','f'],    \n",
    "               ['b','e'],\n",
    "               ['a','d'] ]\n",
    "\n",
    "r1[0][0] = 'z'\n",
    "assert m1[0][0] == 'a'\n",
    "\n",
    "m2 = [ ['a','d'],\n",
    "       ['b','e'],\n",
    "       ['c','f'] ]\n",
    "\n",
    "\n",
    "# swap with itself should in fact generate a deep clone\n",
    "r2 = swap_rows(m2, 0, 0)\n",
    "\n",
    "assert r2 == [ ['a','d'],\n",
    "               ['b','e'],\n",
    "               ['c','f'] ]\n",
    "\n",
    "r2[0][0] = 'z'\n",
    "assert m2[0][0] == 'a'"
   ]
  },
  {
   "cell_type": "raw",
   "id": "f9c15d43",
   "metadata": {
    "format": "text/html"
   },
   "source": [
    "</div>"
   ]
  },
  {
   "cell_type": "code",
   "execution_count": 40,
   "metadata": {},
   "outputs": [],
   "source": [
    "def swap_rows(mat, i1, i2):\n",
    "    raise Exception('TODO IMPLEMENT ME !')\n",
    "    \n",
    "m1 = [ ['a','d'],\n",
    "       ['b','e'],\n",
    "       ['c','f'] ]\n",
    "\n",
    "r1 = swap_rows(m1, 0, 2)\n",
    "\n",
    "assert r1 == [ ['c','f'],    \n",
    "               ['b','e'],\n",
    "               ['a','d'] ]\n",
    "\n",
    "r1[0][0] = 'z'\n",
    "assert m1[0][0] == 'a'\n",
    "\n",
    "m2 = [ ['a','d'],\n",
    "       ['b','e'],\n",
    "       ['c','f'] ]\n",
    "\n",
    "\n",
    "# swap with itself should in fact generate a deep clone\n",
    "r2 = swap_rows(m2, 0, 0)\n",
    "\n",
    "assert r2 == [ ['a','d'],\n",
    "               ['b','e'],\n",
    "               ['c','f'] ]\n",
    "\n",
    "r2[0][0] = 'z'\n",
    "assert m2[0][0] == 'a'"
   ]
  },
  {
   "cell_type": "markdown",
   "metadata": {},
   "source": [
    "### swap_cols\n",
    "\n",
    "✪✪ Takes a matrix `mat` and two column indeces `j1` and `j2` and RETURN a NEW matrix where the columns `j1` and `j2` are swapped"
   ]
  },
  {
   "cell_type": "raw",
   "id": "678cd916",
   "metadata": {
    "format": "text/html"
   },
   "source": [
    "<a  class=\"jupman-sol jupman-sol-toggler\" \n",
    " onclick=\"jupman.toggleSolution(this);\" \n",
    " data-jupman-show=\"Show solution\" data-jupman-hide=\"Hide\">Show solution</a><div class=\"jupman-sol jupman-sol-code\" style=\"display:none\">  "
   ]
  },
  {
   "cell_type": "code",
   "execution_count": 41,
   "metadata": {},
   "outputs": [],
   "source": [
    "def swap_cols(mat, j1, j2):\n",
    "    \n",
    "    ret = []\n",
    "    for row in mat:\n",
    "        new_row = row[:]\n",
    "        new_row[j1] = row[j2]\n",
    "        new_row[j2] = row[j1]\n",
    "        ret.append(new_row)\n",
    "    return ret\n",
    "    \n",
    "\n",
    "m1 = [ ['a','b','c'],\n",
    "       ['d','e','f'] ]\n",
    "\n",
    "r1 = swap_cols(m1, 0,2)\n",
    "\n",
    "assert r1 == [ ['c','b','a'],\n",
    "               ['f','e','d'] ]\n",
    "\n",
    "r1[0][0] = 'z'\n",
    "assert m1[0][0] == 'a'"
   ]
  },
  {
   "cell_type": "raw",
   "id": "ca0c0750",
   "metadata": {
    "format": "text/html"
   },
   "source": [
    "</div>"
   ]
  },
  {
   "cell_type": "code",
   "execution_count": 41,
   "metadata": {},
   "outputs": [],
   "source": [
    "def swap_cols(mat, j1, j2):\n",
    "    raise Exception('TODO IMPLEMENT ME !')\n",
    "\n",
    "m1 = [ ['a','b','c'],\n",
    "       ['d','e','f'] ]\n",
    "\n",
    "r1 = swap_cols(m1, 0,2)\n",
    "\n",
    "assert r1 == [ ['c','b','a'],\n",
    "               ['f','e','d'] ]\n",
    "\n",
    "r1[0][0] = 'z'\n",
    "assert m1[0][0] == 'a'"
   ]
  },
  {
   "cell_type": "markdown",
   "metadata": {},
   "source": [
    "## Continue\n",
    "\n",
    "Go on with [Matrices 2 - other exercises](https://en.softpython.org/matrices-lists/matrices-lists2-sol.html)"
   ]
  },
  {
   "cell_type": "code",
   "execution_count": null,
   "metadata": {},
   "outputs": [],
   "source": []
  }
 ],
 "metadata": {
  "celltoolbar": "Edit Metadata",
  "kernelspec": {
   "display_name": "Python 3 (ipykernel)",
   "language": "python",
   "name": "python3"
  },
  "language_info": {
   "codemirror_mode": {
    "name": "ipython",
    "version": 3
   },
   "file_extension": ".py",
   "mimetype": "text/x-python",
   "name": "python",
   "nbconvert_exporter": "python",
   "pygments_lexer": "ipython3",
   "version": "3.7.10"
  },
  "toc": {
   "base_numbering": 1,
   "nav_menu": {},
   "number_sections": false,
   "sideBar": true,
   "skip_h1_title": false,
   "title_cell": "Table of Contents",
   "title_sidebar": "Contents",
   "toc_cell": false,
   "toc_position": {
    "height": "calc(100% - 180px)",
    "left": "10px",
    "top": "150px",
    "width": "378px"
   },
   "toc_section_display": true,
   "toc_window_display": false
  }
 },
 "nbformat": 4,
 "nbformat_minor": 2
}
