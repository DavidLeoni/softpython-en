{
 "cells": [
  {
   "cell_type": "code",
   "execution_count": 1,
   "id": "9a95ddb8",
   "metadata": {
    "nbsphinx": "hidden"
   },
   "outputs": [],
   "source": [
    "#Please execute this cell\n",
    "import jupman"
   ]
  },
  {
   "cell_type": "markdown",
   "id": "2ddfb456",
   "metadata": {},
   "source": [
    "# Matrices: Numpy 1 \n",
    "\n",
    "## [Download exercises zip](../_static/generated/matrices-numpy.zip)\n",
    "\n",
    "[Browse files online](https://github.com/DavidLeoni/softpython-en/tree/master/matrices-numpy)\n",
    "\n",
    "\n",
    "## Introduction\n",
    "\n",
    "\n",
    "Previously we've seen [Matrices as lists of lists](https://en.softpython.org/matrices-lists/matrices-lists-sol.html), here we focus on matrices using Numpy library\n",
    "\n",
    "There are substantially two ways to represent matrices in Python: as list of lists, or with the external library [numpy](https://www.numpy.org). The most used is surely Numpy, let's see the reason the principal differences:\n",
    "\n",
    "List of lists - [see separate notebook](https://en.softpython.org/matrices-lists/matrices-lists1-sol.html)\n",
    "\n",
    "1. native in Python\n",
    "2. not efficient\n",
    "3. lists are pervasive in Python, probably you will encounter matrices expressed as list of lists anyway\n",
    "4. give an idea of how to build a nested data structure\n",
    "5. may help in understanding important concepts like pointers to memory and copies"
   ]
  },
  {
   "cell_type": "markdown",
   "id": "dcad6581",
   "metadata": {},
   "source": [
    "Numpy - this notebook\n",
    "\n",
    "1. not natively available  in Python\n",
    "2. efficient\n",
    "3. many libraries for scientific calculations are based on Numpy (scipy, pandas)\n",
    "4. syntax to access elements is slightly different from list of lists\n",
    "5. in rare cases might give problems of installation and/or conflicts (implementation is not pure Python)"
   ]
  },
  {
   "cell_type": "markdown",
   "id": "b16d7467",
   "metadata": {},
   "source": [
    "Here we will see data types and essential commands of [Numpy library](https://www.numpy.org), but we will not get into the details.\n",
    "\n",
    "The idea is to simply pass using the the data format `ndarray` without caring too much about performances: for example, even if `for` cycles in Python are slow because they operate cell by cell, we will use them anyway. In case you actually need to execute calculations fast, you will want to use operators on vectors but for this we invite you to read links below"
   ]
  },
  {
   "cell_type": "markdown",
   "id": "1ea23b65",
   "metadata": {},
   "source": [
    "<div class=\"alert alert-warning\">\n",
    "\n",
    "**ATTENTION**: Numpy does not work in [Python Tutor](http://www.pythontutor.com/visualize.html#mode=edit)\n",
    "    \n",
    "</div>"
   ]
  },
  {
   "cell_type": "markdown",
   "id": "b4eaa79b",
   "metadata": {},
   "source": [
    "### What to do\n",
    "\n",
    "- unzip exercises in a folder, you should get something like this: \n",
    "\n",
    "```\n",
    "matrices-numpy\n",
    "    matrices-numpy1.ipynb\n",
    "    matrices-numpy1-sol.ipynb\n",
    "    matrices-numpy2.ipynb\n",
    "    matrices-numpy2-sol.ipynb\n",
    "    matrices-numpy3-chal.ipynb\n",
    "    numpy-images.ipynb\n",
    "    numpy-images-sol.ipynb    \n",
    "    jupman.py\n",
    "```\n",
    "\n",
    "<div class=\"alert alert-warning\">\n",
    "\n",
    "**WARNING**: to correctly visualize the notebook, it MUST be in an unzipped folder !\n",
    "</div>\n",
    "\n",
    "\n",
    "- open Jupyter Notebook from that folder. Two things should open, first a console and then browser. The browser should show a file list: navigate the list and open the notebook `matrices-numpy/matrices-numpy1.ipynb`\n",
    "- Go on reading that notebook, and follow instuctions inside.\n",
    "\n",
    "\n",
    "Shortcut keys:\n",
    "\n",
    "- to execute Python code inside a Jupyter cell, press `Control + Enter`\n",
    "- to execute Python code inside a Jupyter cell AND select next cell, press `Shift + Enter`\n",
    "- to execute Python code inside a Jupyter cell AND a create a new cell aftwerwards, press `Alt + Enter`\n",
    "- If the notebooks look stuck, try to select `Kernel -> Restart`"
   ]
  },
  {
   "cell_type": "markdown",
   "id": "fc749cd8",
   "metadata": {},
   "source": [
    "## np.array\n",
    "\n",
    "First of all, we import the library, and for convenience we rename it to `np`"
   ]
  },
  {
   "cell_type": "code",
   "execution_count": 2,
   "id": "a2c98fd1",
   "metadata": {},
   "outputs": [],
   "source": [
    "import numpy as np"
   ]
  },
  {
   "cell_type": "markdown",
   "id": "45ec6e88",
   "metadata": {},
   "source": [
    "\n",
    "With lists of lists we have often built the matrices one row at a time, adding lists as needed. In Numpy instead we usually create in one shot the whole matrix, filling it with zeroes.\n",
    "\n",
    "In particular, this command creates an `ndarray` filled with zeroes:"
   ]
  },
  {
   "cell_type": "code",
   "execution_count": 3,
   "id": "949bbd1d",
   "metadata": {},
   "outputs": [],
   "source": [
    "mat = np.zeros( (2,3)  )   # 2 rows, 3 columns"
   ]
  },
  {
   "cell_type": "code",
   "execution_count": 4,
   "id": "9522fa20",
   "metadata": {},
   "outputs": [
    {
     "data": {
      "text/plain": [
       "array([[0., 0., 0.],\n",
       "       [0., 0., 0.]])"
      ]
     },
     "execution_count": 4,
     "metadata": {},
     "output_type": "execute_result"
    }
   ],
   "source": [
    "mat"
   ]
  },
  {
   "cell_type": "markdown",
   "id": "7f55f19d",
   "metadata": {},
   "source": [
    "Note like inside `array( )` the content seems represented like a list of lists, BUT in reality in physical memory the data is structured in a linear sequence which allows Python to access numbers in a faster way."
   ]
  },
  {
   "cell_type": "markdown",
   "id": "e131d7b8",
   "metadata": {},
   "source": [
    "We can also create an `ndarray` from a list of lists:"
   ]
  },
  {
   "cell_type": "code",
   "execution_count": 5,
   "id": "fa70405b",
   "metadata": {},
   "outputs": [],
   "source": [
    "mat = np.array( [ [5.0,8.0,1.0], \n",
    "                  [4.0,3.0,2.0]])"
   ]
  },
  {
   "cell_type": "code",
   "execution_count": 6,
   "id": "42626a2e",
   "metadata": {},
   "outputs": [
    {
     "data": {
      "text/plain": [
       "array([[5., 8., 1.],\n",
       "       [4., 3., 2.]])"
      ]
     },
     "execution_count": 6,
     "metadata": {},
     "output_type": "execute_result"
    }
   ],
   "source": [
    "mat"
   ]
  },
  {
   "cell_type": "code",
   "execution_count": 7,
   "id": "f84dcc2a",
   "metadata": {},
   "outputs": [
    {
     "data": {
      "text/plain": [
       "numpy.ndarray"
      ]
     },
     "execution_count": 7,
     "metadata": {},
     "output_type": "execute_result"
    }
   ],
   "source": [
    "type(mat)"
   ]
  },
  {
   "cell_type": "markdown",
   "id": "847bd701",
   "metadata": {},
   "source": [
    "## Creating a matrix filled with ones"
   ]
  },
  {
   "cell_type": "code",
   "execution_count": 8,
   "id": "86ff8ede",
   "metadata": {},
   "outputs": [
    {
     "data": {
      "text/plain": [
       "array([[1., 1., 1., 1., 1.],\n",
       "       [1., 1., 1., 1., 1.],\n",
       "       [1., 1., 1., 1., 1.]])"
      ]
     },
     "execution_count": 8,
     "metadata": {},
     "output_type": "execute_result"
    }
   ],
   "source": [
    "np.ones((3,5))  # 3 rows, 5 columns"
   ]
  },
  {
   "cell_type": "markdown",
   "id": "565bf1b7",
   "metadata": {},
   "source": [
    "## Creating a matrix filled with a number `k`"
   ]
  },
  {
   "cell_type": "code",
   "execution_count": 9,
   "id": "71e0ba63",
   "metadata": {},
   "outputs": [
    {
     "data": {
      "text/plain": [
       "array([[7, 7, 7, 7, 7],\n",
       "       [7, 7, 7, 7, 7],\n",
       "       [7, 7, 7, 7, 7]])"
      ]
     },
     "execution_count": 9,
     "metadata": {},
     "output_type": "execute_result"
    }
   ],
   "source": [
    "np.full((3,5), 7)   "
   ]
  },
  {
   "cell_type": "markdown",
   "id": "c2e7e81c",
   "metadata": {},
   "source": [
    "## Dimensions of a matrix\n",
    "\n",
    "To obtain the dimension, we write like the following:\n",
    "\n",
    "    \n",
    "<div class=\"alert alert-warning\">\n",
    "\n",
    "**ATTENTION**: after `shape` there are **no** round parenthesis !\n",
    "\n",
    "`shape` is an attribute, not a function to call\n",
    "</div>"
   ]
  },
  {
   "cell_type": "code",
   "execution_count": 10,
   "id": "bab753d9",
   "metadata": {},
   "outputs": [
    {
     "data": {
      "text/plain": [
       "(2, 3)"
      ]
     },
     "execution_count": 10,
     "metadata": {},
     "output_type": "execute_result"
    }
   ],
   "source": [
    "mat = np.array( [ [5.0,8.0,1.0], \n",
    "                  [4.0,3.0,2.0]])\n",
    "\n",
    "mat.shape"
   ]
  },
  {
   "cell_type": "markdown",
   "id": "2baf4983",
   "metadata": {},
   "source": [
    "\n",
    "If we want to memorize the dimension in separate variables, we can use thi more pythonic mode (note the comma between `num_rows` and `num_cols`:"
   ]
  },
  {
   "cell_type": "code",
   "execution_count": 11,
   "id": "d4e4a5fe",
   "metadata": {},
   "outputs": [],
   "source": [
    "num_rows, num_cols = mat.shape"
   ]
  },
  {
   "cell_type": "code",
   "execution_count": 12,
   "id": "5b9f2d52",
   "metadata": {},
   "outputs": [
    {
     "data": {
      "text/plain": [
       "2"
      ]
     },
     "execution_count": 12,
     "metadata": {},
     "output_type": "execute_result"
    }
   ],
   "source": [
    "num_rows"
   ]
  },
  {
   "cell_type": "code",
   "execution_count": 13,
   "id": "cf408578",
   "metadata": {},
   "outputs": [
    {
     "data": {
      "text/plain": [
       "3"
      ]
     },
     "execution_count": 13,
     "metadata": {},
     "output_type": "execute_result"
    }
   ],
   "source": [
    "num_cols"
   ]
  },
  {
   "cell_type": "markdown",
   "id": "1a58d22c",
   "metadata": {},
   "source": [
    "## Reading and writing\n",
    "\n",
    "To access data or overwrite square bracket notation is used, with the important difference that in Numpy you can write _both_ the indeces _inside_ the same brackets, separated by a comma:\n",
    "\n",
    "\n",
    "<div class=\"alert alert-warning\">\n",
    "\n",
    "**ATTENTION**: notation `mat[i,j]` is only for Numpy, with list of lists **does not** work!\n",
    "</div>"
   ]
  },
  {
   "cell_type": "code",
   "execution_count": 14,
   "id": "f147733d",
   "metadata": {},
   "outputs": [],
   "source": [
    "mat = np.array( [ [5.0,8.0,1.0], \n",
    "                  [4.0,3.0,2.0]])\n",
    "\n",
    "# Let's put number `9` in cell at row `0` and column `1`\n",
    "\n",
    "mat[0,1] = 9"
   ]
  },
  {
   "cell_type": "code",
   "execution_count": 15,
   "id": "5d770677",
   "metadata": {},
   "outputs": [
    {
     "data": {
      "text/plain": [
       "array([[5., 9., 1.],\n",
       "       [4., 3., 2.]])"
      ]
     },
     "execution_count": 15,
     "metadata": {},
     "output_type": "execute_result"
    }
   ],
   "source": [
    "mat"
   ]
  },
  {
   "cell_type": "markdown",
   "id": "4c72e10d",
   "metadata": {},
   "source": [
    "Let's access cell at row `0` and column `1`"
   ]
  },
  {
   "cell_type": "code",
   "execution_count": 16,
   "id": "e54c7496",
   "metadata": {},
   "outputs": [
    {
     "data": {
      "text/plain": [
       "9.0"
      ]
     },
     "execution_count": 16,
     "metadata": {},
     "output_type": "execute_result"
    }
   ],
   "source": [
    "mat[0,1]"
   ]
  },
  {
   "cell_type": "markdown",
   "id": "6d0d058f",
   "metadata": {},
   "source": [
    "We put number `7` into cell at row `1` and column `2`"
   ]
  },
  {
   "cell_type": "code",
   "execution_count": 17,
   "id": "72aefd54",
   "metadata": {},
   "outputs": [],
   "source": [
    "mat[1,2] = 7"
   ]
  },
  {
   "cell_type": "code",
   "execution_count": 18,
   "id": "e0d12a12",
   "metadata": {},
   "outputs": [
    {
     "data": {
      "text/plain": [
       "array([[5., 9., 1.],\n",
       "       [4., 3., 7.]])"
      ]
     },
     "execution_count": 18,
     "metadata": {},
     "output_type": "execute_result"
    }
   ],
   "source": [
    "mat"
   ]
  },
  {
   "cell_type": "markdown",
   "id": "61d862fd",
   "metadata": {},
   "source": [
    "**✪ EXERCISE**: try to write like the following, what happens? \n",
    "\n",
    "```python\n",
    "mat[0,0] = \"c\"\n",
    "```"
   ]
  },
  {
   "cell_type": "code",
   "execution_count": 19,
   "id": "1f87e316",
   "metadata": {},
   "outputs": [],
   "source": [
    "# write here\n",
    "\n"
   ]
  },
  {
   "cell_type": "markdown",
   "id": "263f5692",
   "metadata": {},
   "source": [
    "**✪ EXERCISE**: Try writing like this, what happens?\n",
    "    \n",
    "```python\n",
    "mat[1,1.0]\n",
    "```"
   ]
  },
  {
   "cell_type": "code",
   "execution_count": 20,
   "id": "83a28817",
   "metadata": {},
   "outputs": [],
   "source": [
    "# write here\n",
    "\n"
   ]
  },
  {
   "cell_type": "markdown",
   "id": "1410c619",
   "metadata": {},
   "source": [
    "### Filling the whole matrix\n",
    "\n",
    "We can MODIFY the matrix by writing inside a number with  `fill()`"
   ]
  },
  {
   "cell_type": "code",
   "execution_count": 21,
   "id": "f42e279b",
   "metadata": {},
   "outputs": [],
   "source": [
    "mat = np.array([[3.0, 5.0, 2.0],\n",
    "                [6.0, 2.0, 9.0]])\n",
    "\n",
    "mat.fill(7)  # NOTE: returns nothings !!"
   ]
  },
  {
   "cell_type": "code",
   "execution_count": 22,
   "id": "58f49960",
   "metadata": {},
   "outputs": [
    {
     "data": {
      "text/plain": [
       "array([[7., 7., 7.],\n",
       "       [7., 7., 7.]])"
      ]
     },
     "execution_count": 22,
     "metadata": {},
     "output_type": "execute_result"
    }
   ],
   "source": [
    "mat"
   ]
  },
  {
   "cell_type": "markdown",
   "id": "b5fa608b",
   "metadata": {},
   "source": [
    "### Slices\n",
    "\n",
    "To extract data from an `ndarray` we can use slices, with the notation we already used for regular lists. There are important difference, though. Let's see them.\n",
    "\n",
    "The first difference is that we can extract sub-matrices by specifying two ranges among the same squared brackets:"
   ]
  },
  {
   "cell_type": "code",
   "execution_count": 23,
   "id": "85735fd5",
   "metadata": {},
   "outputs": [],
   "source": [
    "mat = np.array( [ [5, 8, 1], \n",
    "                  [4, 3, 2],\n",
    "                  [6, 7, 9],\n",
    "                  [9, 3, 4],\n",
    "                  [8, 2, 7]])"
   ]
  },
  {
   "cell_type": "code",
   "execution_count": 24,
   "id": "57e9f99d",
   "metadata": {},
   "outputs": [
    {
     "data": {
      "text/plain": [
       "array([[8, 1],\n",
       "       [3, 2],\n",
       "       [7, 9],\n",
       "       [3, 4]])"
      ]
     },
     "execution_count": 24,
     "metadata": {},
     "output_type": "execute_result"
    }
   ],
   "source": [
    "mat[0:4, 1:3]  # rows from 0 *included* to 4 *excluded*\n",
    "               # and columns from 1 *included* to 3 *excluded*\n",
    "               "
   ]
  },
  {
   "cell_type": "code",
   "execution_count": 25,
   "id": "d72b4479",
   "metadata": {},
   "outputs": [
    {
     "data": {
      "text/plain": [
       "array([[5, 8, 1]])"
      ]
     },
     "execution_count": 25,
     "metadata": {},
     "output_type": "execute_result"
    }
   ],
   "source": [
    "mat[0:1,0:3]  # the whole first row"
   ]
  },
  {
   "cell_type": "code",
   "execution_count": 26,
   "id": "635c3df3",
   "metadata": {},
   "outputs": [
    {
     "data": {
      "text/plain": [
       "array([[5, 8, 1]])"
      ]
     },
     "execution_count": 26,
     "metadata": {},
     "output_type": "execute_result"
    }
   ],
   "source": [
    "mat[0:1,:]  # another way to extract the whole first row"
   ]
  },
  {
   "cell_type": "code",
   "execution_count": 27,
   "id": "2a180961",
   "metadata": {},
   "outputs": [
    {
     "data": {
      "text/plain": [
       "array([[5],\n",
       "       [4],\n",
       "       [6],\n",
       "       [9],\n",
       "       [8]])"
      ]
     },
     "execution_count": 27,
     "metadata": {},
     "output_type": "execute_result"
    }
   ],
   "source": [
    "mat[0:5, 0:1]  # the whole first column"
   ]
  },
  {
   "cell_type": "code",
   "execution_count": 28,
   "id": "26d06cf0",
   "metadata": {},
   "outputs": [
    {
     "data": {
      "text/plain": [
       "array([[5],\n",
       "       [4],\n",
       "       [6],\n",
       "       [9],\n",
       "       [8]])"
      ]
     },
     "execution_count": 28,
     "metadata": {},
     "output_type": "execute_result"
    }
   ],
   "source": [
    "mat[:, 0:1]  # another way to extract the whole first column"
   ]
  },
  {
   "cell_type": "markdown",
   "id": "cb7eeef3",
   "metadata": {},
   "source": [
    "**The step**: We can also specify a step as a third paramter after the `:`. For example, to extract only even rows we can add a `2` like this:"
   ]
  },
  {
   "cell_type": "code",
   "execution_count": 29,
   "id": "4298e9b7",
   "metadata": {},
   "outputs": [
    {
     "data": {
      "text/plain": [
       "array([[5, 8, 1],\n",
       "       [6, 7, 9],\n",
       "       [8, 2, 7]])"
      ]
     },
     "execution_count": 29,
     "metadata": {},
     "output_type": "execute_result"
    }
   ],
   "source": [
    "mat[0:5:2, :]"
   ]
  },
  {
   "cell_type": "markdown",
   "id": "6d04e64c",
   "metadata": {},
   "source": [
    "<div class=\"alert alert-warning\">\n",
    "    \n",
    "**WARNING: by modifying the numpy slice you also modify the original matrix!**\n",
    "\n",
    "</div>   \n",
    "\n",
    "Differently from slices of lists which always produce new lists, this time of performance reasons with numpy slices we only obtain a _view_ on the original data: by writing into the view we will also write on the original matrix:"
   ]
  },
  {
   "cell_type": "code",
   "execution_count": 30,
   "id": "4b65002e",
   "metadata": {},
   "outputs": [],
   "source": [
    "mat = np.array( [ [5, 8, 1], \n",
    "                  [4, 3, 2],\n",
    "                  [6, 7, 9],\n",
    "                  [9, 3, 4],\n",
    "                  [8, 2, 7]])"
   ]
  },
  {
   "cell_type": "code",
   "execution_count": 31,
   "id": "617febd9",
   "metadata": {},
   "outputs": [
    {
     "data": {
      "text/plain": [
       "array([[8, 1],\n",
       "       [3, 2],\n",
       "       [7, 9],\n",
       "       [3, 4]])"
      ]
     },
     "execution_count": 31,
     "metadata": {},
     "output_type": "execute_result"
    }
   ],
   "source": [
    "sub_mat = mat[0:4, 1:3]  \n",
    "sub_mat"
   ]
  },
  {
   "cell_type": "code",
   "execution_count": 32,
   "id": "142f5303",
   "metadata": {},
   "outputs": [],
   "source": [
    "sub_mat[0,0] = 999"
   ]
  },
  {
   "cell_type": "code",
   "execution_count": 33,
   "id": "aaf22ab2",
   "metadata": {},
   "outputs": [
    {
     "data": {
      "text/plain": [
       "array([[  5, 999,   1],\n",
       "       [  4,   3,   2],\n",
       "       [  6,   7,   9],\n",
       "       [  9,   3,   4],\n",
       "       [  8,   2,   7]])"
      ]
     },
     "execution_count": 33,
     "metadata": {},
     "output_type": "execute_result"
    }
   ],
   "source": [
    "mat"
   ]
  },
  {
   "cell_type": "markdown",
   "id": "8ea1ea53",
   "metadata": {},
   "source": [
    "### Writing a constant in a slice\n",
    "\n",
    "We can also write a constant in all the cells of a region by identifying the region with a slice, and assigning a constant to it:"
   ]
  },
  {
   "cell_type": "code",
   "execution_count": 34,
   "id": "c71db841",
   "metadata": {},
   "outputs": [
    {
     "data": {
      "text/plain": [
       "array([[5, 7, 7],\n",
       "       [4, 7, 7],\n",
       "       [6, 7, 7],\n",
       "       [9, 7, 7],\n",
       "       [8, 2, 5]])"
      ]
     },
     "execution_count": 34,
     "metadata": {},
     "output_type": "execute_result"
    }
   ],
   "source": [
    "mat = np.array( [ [5, 8, 1], \n",
    "                  [4, 3, 2],\n",
    "                  [6, 7, 9],\n",
    "                  [9, 3, 4],\n",
    "                  [8, 2, 5]])\n",
    "\n",
    "mat[0:4, 1:3]  = 7\n",
    "\n",
    "mat"
   ]
  },
  {
   "cell_type": "markdown",
   "id": "1469cf4f",
   "metadata": {},
   "source": [
    "### Writing a matrix into a slice\n",
    "\n",
    "We can also write into all the cells in a region by identifying the region with a slice, and then assigning to it a matrix from which we want to read the cells.\n",
    "\n",
    "\n",
    "**WARNING**: To avoid problems, **double check** you're using the same dimensions in both left and right slices!"
   ]
  },
  {
   "cell_type": "code",
   "execution_count": 35,
   "id": "c98f15a2",
   "metadata": {},
   "outputs": [
    {
     "data": {
      "text/plain": [
       "array([[ 5, 10, 50],\n",
       "       [ 4, 11, 51],\n",
       "       [ 6, 12, 52],\n",
       "       [ 9, 13, 53],\n",
       "       [ 8,  2,  5]])"
      ]
     },
     "execution_count": 35,
     "metadata": {},
     "output_type": "execute_result"
    }
   ],
   "source": [
    "mat = np.array( [ [5, 8, 1], \n",
    "                  [4, 3, 2],\n",
    "                  [6, 7, 9],\n",
    "                  [9, 3, 4],\n",
    "                  [8, 2, 5]])\n",
    "\n",
    "mat[0:4, 1:3]  = np.array([\n",
    "                            [10,50],\n",
    "                            [11,51],\n",
    "                            [12,52],\n",
    "                            [13,53],\n",
    "                        ])\n",
    "\n",
    "mat"
   ]
  },
  {
   "cell_type": "markdown",
   "id": "489981a5",
   "metadata": {},
   "source": [
    "## Assignment and copy\n",
    "\n",
    "With Numpy we must take particular care when using the assignment operator `=`: as with regular lists, if we perform an assignment into the new variable, it will only contain a pointer to the original region of memory."
   ]
  },
  {
   "cell_type": "code",
   "execution_count": 36,
   "id": "958eb25b",
   "metadata": {},
   "outputs": [],
   "source": [
    "va = np.array([1,2,3])"
   ]
  },
  {
   "cell_type": "code",
   "execution_count": 37,
   "id": "e04e380d",
   "metadata": {},
   "outputs": [
    {
     "data": {
      "text/plain": [
       "array([1, 2, 3])"
      ]
     },
     "execution_count": 37,
     "metadata": {},
     "output_type": "execute_result"
    }
   ],
   "source": [
    "va"
   ]
  },
  {
   "cell_type": "code",
   "execution_count": 38,
   "id": "ec6f3362",
   "metadata": {},
   "outputs": [],
   "source": [
    "vb = va"
   ]
  },
  {
   "cell_type": "code",
   "execution_count": 39,
   "id": "259c0191",
   "metadata": {},
   "outputs": [],
   "source": [
    "vb[0] = 100"
   ]
  },
  {
   "cell_type": "code",
   "execution_count": 40,
   "id": "6c6e57e6",
   "metadata": {},
   "outputs": [
    {
     "data": {
      "text/plain": [
       "array([100,   2,   3])"
      ]
     },
     "execution_count": 40,
     "metadata": {},
     "output_type": "execute_result"
    }
   ],
   "source": [
    "vb"
   ]
  },
  {
   "cell_type": "code",
   "execution_count": 41,
   "id": "0c6f458d",
   "metadata": {},
   "outputs": [
    {
     "data": {
      "text/plain": [
       "array([100,   2,   3])"
      ]
     },
     "execution_count": 41,
     "metadata": {},
     "output_type": "execute_result"
    }
   ],
   "source": [
    "va"
   ]
  },
  {
   "cell_type": "markdown",
   "id": "e38f13e3",
   "metadata": {},
   "source": [
    "If we wanted a complete copy of the array, we should use the `.copy()` method:"
   ]
  },
  {
   "cell_type": "code",
   "execution_count": 42,
   "id": "458a72c2",
   "metadata": {},
   "outputs": [],
   "source": [
    "va = np.array([1,2,3])"
   ]
  },
  {
   "cell_type": "code",
   "execution_count": 43,
   "id": "75ee684b",
   "metadata": {},
   "outputs": [],
   "source": [
    "vc = va.copy()"
   ]
  },
  {
   "cell_type": "code",
   "execution_count": 44,
   "id": "90f5a15b",
   "metadata": {},
   "outputs": [
    {
     "data": {
      "text/plain": [
       "array([1, 2, 3])"
      ]
     },
     "execution_count": 44,
     "metadata": {},
     "output_type": "execute_result"
    }
   ],
   "source": [
    "vc"
   ]
  },
  {
   "cell_type": "code",
   "execution_count": 45,
   "id": "4e5dd105",
   "metadata": {},
   "outputs": [],
   "source": [
    "vc[0] = 100"
   ]
  },
  {
   "cell_type": "code",
   "execution_count": 46,
   "id": "635a4bdf",
   "metadata": {},
   "outputs": [
    {
     "data": {
      "text/plain": [
       "array([100,   2,   3])"
      ]
     },
     "execution_count": 46,
     "metadata": {},
     "output_type": "execute_result"
    }
   ],
   "source": [
    "vc"
   ]
  },
  {
   "cell_type": "code",
   "execution_count": 47,
   "id": "c469abf5",
   "metadata": {},
   "outputs": [
    {
     "data": {
      "text/plain": [
       "array([1, 2, 3])"
      ]
     },
     "execution_count": 47,
     "metadata": {},
     "output_type": "execute_result"
    }
   ],
   "source": [
    "va"
   ]
  },
  {
   "cell_type": "markdown",
   "id": "c8d42409",
   "metadata": {},
   "source": [
    "## Calculations\n",
    "\n",
    "Numpy is extremely flexible, and allows us to perform on arrays almost the same operations from classical vector and matrix algebra:"
   ]
  },
  {
   "cell_type": "code",
   "execution_count": 48,
   "id": "cca25499",
   "metadata": {},
   "outputs": [
    {
     "data": {
      "text/plain": [
       "array([5, 9, 7])"
      ]
     },
     "execution_count": 48,
     "metadata": {},
     "output_type": "execute_result"
    }
   ],
   "source": [
    "va = np.array([5,9,7]) \n",
    "va"
   ]
  },
  {
   "cell_type": "code",
   "execution_count": 49,
   "id": "7ad6186b",
   "metadata": {},
   "outputs": [
    {
     "data": {
      "text/plain": [
       "array([6, 8, 0])"
      ]
     },
     "execution_count": 49,
     "metadata": {},
     "output_type": "execute_result"
    }
   ],
   "source": [
    "vb = np.array([6,8,0]) \n",
    "vb"
   ]
  },
  {
   "cell_type": "markdown",
   "id": "950cfd8d",
   "metadata": {},
   "source": [
    "Whenever we perform an algebraic operation, typically a NEW array is created:\n"
   ]
  },
  {
   "cell_type": "code",
   "execution_count": 50,
   "id": "cee120b0",
   "metadata": {},
   "outputs": [
    {
     "data": {
      "text/plain": [
       "array([11, 17,  7])"
      ]
     },
     "execution_count": 50,
     "metadata": {},
     "output_type": "execute_result"
    }
   ],
   "source": [
    "vc = va + vb   \n",
    "vc"
   ]
  },
  {
   "cell_type": "markdown",
   "id": "0854bf73",
   "metadata": {},
   "source": [
    "Note the sum didn't change the input:"
   ]
  },
  {
   "cell_type": "code",
   "execution_count": 51,
   "id": "f5affe1c",
   "metadata": {},
   "outputs": [
    {
     "data": {
      "text/plain": [
       "array([5, 9, 7])"
      ]
     },
     "execution_count": 51,
     "metadata": {},
     "output_type": "execute_result"
    }
   ],
   "source": [
    "va"
   ]
  },
  {
   "cell_type": "code",
   "execution_count": 52,
   "id": "23bbcc2c",
   "metadata": {},
   "outputs": [
    {
     "data": {
      "text/plain": [
       "array([6, 8, 0])"
      ]
     },
     "execution_count": 52,
     "metadata": {},
     "output_type": "execute_result"
    }
   ],
   "source": [
    "vb"
   ]
  },
  {
   "cell_type": "markdown",
   "id": "2386f18b",
   "metadata": {},
   "source": [
    "### Scalar multiplication"
   ]
  },
  {
   "cell_type": "code",
   "execution_count": 53,
   "id": "bc94ca40",
   "metadata": {},
   "outputs": [],
   "source": [
    "m = np.array([[5, 9, 7],\n",
    "              [6, 8, 0]])"
   ]
  },
  {
   "cell_type": "code",
   "execution_count": 54,
   "id": "ef369fe1",
   "metadata": {},
   "outputs": [
    {
     "data": {
      "text/plain": [
       "array([[15, 27, 21],\n",
       "       [18, 24,  0]])"
      ]
     },
     "execution_count": 54,
     "metadata": {},
     "output_type": "execute_result"
    }
   ],
   "source": [
    "3 * m"
   ]
  },
  {
   "cell_type": "markdown",
   "id": "3891f479",
   "metadata": {},
   "source": [
    "### Scalar sum"
   ]
  },
  {
   "cell_type": "code",
   "execution_count": 55,
   "id": "89fe6a9a",
   "metadata": {},
   "outputs": [
    {
     "data": {
      "text/plain": [
       "array([[ 8, 12, 10],\n",
       "       [ 9, 11,  3]])"
      ]
     },
     "execution_count": 55,
     "metadata": {},
     "output_type": "execute_result"
    }
   ],
   "source": [
    "3 + m"
   ]
  },
  {
   "cell_type": "markdown",
   "id": "596545d0",
   "metadata": {},
   "source": [
    "### Multiplication\n",
    "\n",
    "Be careful about multiplying with `*`: differently from classical matrix multiplication, it multiplies _element by element_ and so requires matrices of identical dimensions:"
   ]
  },
  {
   "cell_type": "code",
   "execution_count": 56,
   "id": "b30aaa2f",
   "metadata": {},
   "outputs": [
    {
     "data": {
      "text/plain": [
       "array([[  1,   0,   3],\n",
       "       [ 40, 100, 180]])"
      ]
     },
     "execution_count": 56,
     "metadata": {},
     "output_type": "execute_result"
    }
   ],
   "source": [
    "ma = np.array([[1,  2,  3],\n",
    "               [10, 20, 30]])\n",
    "\n",
    "mb = np.array([[1,  0,  1],\n",
    "               [4,  5,  6]]) \n",
    "\n",
    "ma * mb"
   ]
  },
  {
   "cell_type": "markdown",
   "id": "a7ce47fe",
   "metadata": {},
   "source": [
    "If we want the matrix multiplication [from classical algebra](https://en.wikipedia.org/wiki/Matrix_multiplication), we must use the `@` operator taking care of having compatible matrix dimensions:"
   ]
  },
  {
   "cell_type": "code",
   "execution_count": 57,
   "id": "2e825e4d",
   "metadata": {},
   "outputs": [
    {
     "data": {
      "text/plain": [
       "array([[  4,  32],\n",
       "       [ 40, 320]])"
      ]
     },
     "execution_count": 57,
     "metadata": {},
     "output_type": "execute_result"
    }
   ],
   "source": [
    "mc = np.array([[1,  2,  3],\n",
    "               [10, 20, 30]])\n",
    "md = np.array([[1, 4],\n",
    "               [0, 5],\n",
    "               [1, 6]]) \n",
    "\n",
    "mc @ md"
   ]
  },
  {
   "cell_type": "markdown",
   "id": "e7acd39d",
   "metadata": {},
   "source": [
    "### Dividing by a scalar"
   ]
  },
  {
   "cell_type": "code",
   "execution_count": 58,
   "id": "2f6438f5",
   "metadata": {},
   "outputs": [
    {
     "data": {
      "text/plain": [
       "array([[0.25, 0.5 , 0.  ],\n",
       "       [2.5 , 0.  , 7.5 ]])"
      ]
     },
     "execution_count": 58,
     "metadata": {},
     "output_type": "execute_result"
    }
   ],
   "source": [
    "ma = np.array([[1,  2,  0.0],\n",
    "               [10, 0.0, 30]])\n",
    "\n",
    "ma / 4"
   ]
  },
  {
   "cell_type": "markdown",
   "id": "1d855135",
   "metadata": {},
   "source": [
    "Careful about dividing by `0.0`, the program execution will still continue with a warning and we will find a matrix with strange `nan` and `inf` which have a bad tendency to create problems later - see the section [NaNs and infinities](#NaNs-and-infinities)"
   ]
  },
  {
   "cell_type": "code",
   "execution_count": 59,
   "id": "2e230efd",
   "metadata": {},
   "outputs": [
    {
     "name": "stdout",
     "output_type": "stream",
     "text": [
      "[[inf inf nan]\n",
      " [inf nan inf]]\n",
      "AFTER\n"
     ]
    },
    {
     "name": "stderr",
     "output_type": "stream",
     "text": [
      "/home/da/.local/lib/python3.7/site-packages/ipykernel_launcher.py:1: RuntimeWarning: divide by zero encountered in true_divide\n",
      "  \"\"\"Entry point for launching an IPython kernel.\n",
      "/home/da/.local/lib/python3.7/site-packages/ipykernel_launcher.py:1: RuntimeWarning: invalid value encountered in true_divide\n",
      "  \"\"\"Entry point for launching an IPython kernel.\n"
     ]
    }
   ],
   "source": [
    "print(ma / 0.0)\n",
    "print(\"AFTER\")"
   ]
  },
  {
   "cell_type": "markdown",
   "id": "96bf3c4e",
   "metadata": {},
   "source": [
    "## Aggregation\n",
    "\n",
    "Numpy provides several functions to calculate statistics, we only show some:"
   ]
  },
  {
   "cell_type": "code",
   "execution_count": 60,
   "id": "dce0526d",
   "metadata": {},
   "outputs": [
    {
     "data": {
      "text/plain": [
       "26"
      ]
     },
     "execution_count": 60,
     "metadata": {},
     "output_type": "execute_result"
    }
   ],
   "source": [
    "m = np.array([[5, 4, 6],\n",
    "              [3, 7, 1]])\n",
    "np.sum(m)"
   ]
  },
  {
   "cell_type": "code",
   "execution_count": 61,
   "id": "760a91fd",
   "metadata": {},
   "outputs": [
    {
     "data": {
      "text/plain": [
       "7"
      ]
     },
     "execution_count": 61,
     "metadata": {},
     "output_type": "execute_result"
    }
   ],
   "source": [
    "np.max(m)   "
   ]
  },
  {
   "cell_type": "code",
   "execution_count": 62,
   "id": "3e272af8",
   "metadata": {},
   "outputs": [
    {
     "data": {
      "text/plain": [
       "1"
      ]
     },
     "execution_count": 62,
     "metadata": {},
     "output_type": "execute_result"
    }
   ],
   "source": [
    "np.min(m)"
   ]
  },
  {
   "cell_type": "markdown",
   "id": "eef0205c",
   "metadata": {},
   "source": [
    "### Aggregating by row or column"
   ]
  },
  {
   "cell_type": "markdown",
   "id": "afb24510",
   "metadata": {},
   "source": [
    "By adding the `axis` parameter we can tell numpy to perform the affrefation on each column (`axis=0`) or row (`axis=1`):"
   ]
  },
  {
   "cell_type": "code",
   "execution_count": 63,
   "id": "0774bd9d",
   "metadata": {},
   "outputs": [
    {
     "data": {
      "text/plain": [
       "array([5, 7, 6])"
      ]
     },
     "execution_count": 63,
     "metadata": {},
     "output_type": "execute_result"
    }
   ],
   "source": [
    "np.max(m, axis=0)  # the maximum of each column"
   ]
  },
  {
   "cell_type": "code",
   "execution_count": 64,
   "id": "505138d5",
   "metadata": {},
   "outputs": [
    {
     "data": {
      "text/plain": [
       "array([ 8, 11,  7])"
      ]
     },
     "execution_count": 64,
     "metadata": {},
     "output_type": "execute_result"
    }
   ],
   "source": [
    "np.sum(m, axis=0)   # sum each column"
   ]
  },
  {
   "cell_type": "code",
   "execution_count": 65,
   "id": "959631ac",
   "metadata": {},
   "outputs": [
    {
     "data": {
      "text/plain": [
       "array([6, 7])"
      ]
     },
     "execution_count": 65,
     "metadata": {},
     "output_type": "execute_result"
    }
   ],
   "source": [
    "np.max(m, axis=1)  # the maximum of each row"
   ]
  },
  {
   "cell_type": "code",
   "execution_count": 66,
   "id": "c2f83c6b",
   "metadata": {},
   "outputs": [
    {
     "data": {
      "text/plain": [
       "array([15, 11])"
      ]
     },
     "execution_count": 66,
     "metadata": {},
     "output_type": "execute_result"
    }
   ],
   "source": [
    "np.sum(m, axis=1)   # sum each row"
   ]
  },
  {
   "cell_type": "markdown",
   "id": "19beb3f2",
   "metadata": {},
   "source": [
    "## Filtering\n",
    "\n",
    "Numpy offers a mini-language to filter the numbers in an array, by specifying the selection criteria. Let's see an example:"
   ]
  },
  {
   "cell_type": "code",
   "execution_count": 67,
   "id": "6d717e29",
   "metadata": {},
   "outputs": [
    {
     "data": {
      "text/plain": [
       "array([[5, 2, 6],\n",
       "       [1, 4, 3]])"
      ]
     },
     "execution_count": 67,
     "metadata": {},
     "output_type": "execute_result"
    }
   ],
   "source": [
    "mat = np.array([[5, 2, 6],\n",
    "                [1, 4, 3]])\n",
    "mat"
   ]
  },
  {
   "cell_type": "markdown",
   "id": "f9d29826",
   "metadata": {},
   "source": [
    "Suppose you want to obtain an array with all the numbers from `mat` which are greater than 2.\n",
    "\n",
    "We can tell numpy the matrix `mat` we want to use, then _inside square brackets_ we put a kind of boolean conditions, _reusing_ the `mat` variable like so:"
   ]
  },
  {
   "cell_type": "code",
   "execution_count": 68,
   "id": "07e08541",
   "metadata": {},
   "outputs": [
    {
     "data": {
      "text/plain": [
       "array([5, 6, 4, 3])"
      ]
     },
     "execution_count": 68,
     "metadata": {},
     "output_type": "execute_result"
    }
   ],
   "source": [
    "mat[ mat > 2 ]"
   ]
  },
  {
   "cell_type": "markdown",
   "id": "0fa0fd12",
   "metadata": {},
   "source": [
    "Exactly, what is that strange expression we put inside the squared brackts? Let's try executing it alone:"
   ]
  },
  {
   "cell_type": "code",
   "execution_count": 69,
   "id": "e5ae8ef7",
   "metadata": {},
   "outputs": [
    {
     "data": {
      "text/plain": [
       "array([[ True, False,  True],\n",
       "       [False,  True,  True]])"
      ]
     },
     "execution_count": 69,
     "metadata": {},
     "output_type": "execute_result"
    }
   ],
   "source": [
    "mat > 2"
   ]
  },
  {
   "cell_type": "markdown",
   "id": "2a66336c",
   "metadata": {},
   "source": [
    "We note it gives us a matrix of booleans, which are `True` whenever the corresponding cell in the original matrix satisfies the condition we imposed.\n",
    "\n",
    "By then placing this expression inside `mat[   ]` we obtain the values from the original matrix which satisfy the expression:"
   ]
  },
  {
   "cell_type": "code",
   "execution_count": 70,
   "id": "c7d9a857",
   "metadata": {},
   "outputs": [
    {
     "data": {
      "text/plain": [
       "array([5, 6, 4, 3])"
      ]
     },
     "execution_count": 70,
     "metadata": {},
     "output_type": "execute_result"
    }
   ],
   "source": [
    "mat[ mat > 2 ]"
   ]
  },
  {
   "cell_type": "markdown",
   "id": "79e5317e",
   "metadata": {},
   "source": [
    "Not only that, we can also build more complex expressions by using \n",
    "\n",
    "* `&` symbol as the logical conjunction _and_\n",
    "* `|` (pipe character) as the logical conjunction _or_"
   ]
  },
  {
   "cell_type": "code",
   "execution_count": 71,
   "id": "d3993840",
   "metadata": {},
   "outputs": [
    {
     "data": {
      "text/plain": [
       "array([5, 4])"
      ]
     },
     "execution_count": 71,
     "metadata": {},
     "output_type": "execute_result"
    }
   ],
   "source": [
    "mat = np.array([[5, 2, 6],\n",
    "                [1, 4, 3]])\n",
    "mat[(mat > 3) & (mat < 6)]"
   ]
  },
  {
   "cell_type": "code",
   "execution_count": 72,
   "id": "5bc5210f",
   "metadata": {},
   "outputs": [
    {
     "data": {
      "text/plain": [
       "array([5, 6, 1])"
      ]
     },
     "execution_count": 72,
     "metadata": {},
     "output_type": "execute_result"
    }
   ],
   "source": [
    "mat = np.array([[5, 2, 6],\n",
    "                [1, 4, 3]])\n",
    "mat[(mat < 2) | (mat > 4)]"
   ]
  },
  {
   "cell_type": "markdown",
   "id": "af21596b",
   "metadata": {},
   "source": [
    "<div class=\"alert alert-warning\">\n",
    "\n",
    "**WARNING: REMEMBER THE ROUND PARENTHESIS AMONG THE VARIOUS EXPRESSIONS!**  \n",
    "</div>"
   ]
  },
  {
   "cell_type": "markdown",
   "id": "a95b275a",
   "metadata": {},
   "source": [
    "**EXERCISE**: try to rewrite the expressions above by 'forgetting' the round parenthesis in the various components (left/right/both) and see what happens. Do you obtain errors or unexpected results?"
   ]
  },
  {
   "cell_type": "raw",
   "id": "04ca8646",
   "metadata": {
    "format": "text/html"
   },
   "source": [
    "<a  class=\"jupman-sol jupman-sol-toggler\" \n",
    " onclick=\"jupman.toggleSolution(this);\" \n",
    " data-jupman-show=\"Show solution\" data-jupman-hide=\"Hide\">Show solution</a><div class=\"jupman-sol jupman-sol-code\" style=\"display:none\">  "
   ]
  },
  {
   "cell_type": "code",
   "execution_count": 73,
   "id": "0c3c0455",
   "metadata": {},
   "outputs": [
    {
     "name": "stdout",
     "output_type": "stream",
     "text": [
      "[5 2 6 1 4 3]\n",
      "[5 2 6 4 3]\n"
     ]
    }
   ],
   "source": [
    "\n",
    "mat = np.array([[5, 2, 6],\n",
    "                [1, 4, 3]])\n",
    "\n",
    "# write here\n",
    "print(  mat[(mat > 3) & mat < 6]  )\n",
    "print(  mat[mat > 3 & (mat < 6)]    )\n",
    "#print(  mat[mat > 3 & mat < 6]      )\n",
    "# the last one produces:\n",
    "# ---------------------------------------------------------------------------\n",
    "# ValueError                                Traceback (most recent call last)\n",
    "# <ipython-input-212-33c5a083b265> in <module>\n",
    "#       3 print(  mat[(mat > 3) & mat < 6]  )\n",
    "#       4 print(  mat[mat > 3 & (mat < 6)]    )\n",
    "# ----> 5 print(  mat[mat > 3 & mat < 6]      )\n",
    "\n",
    "# ValueError: The truth value of an array with more than one element is ambiguous. Use a.any() or a.all()"
   ]
  },
  {
   "cell_type": "raw",
   "id": "98ac37ba",
   "metadata": {
    "format": "text/html"
   },
   "source": [
    "</div>"
   ]
  },
  {
   "cell_type": "code",
   "execution_count": 73,
   "id": "0c3c0455-stripped",
   "metadata": {},
   "outputs": [],
   "source": [
    "\n",
    "mat = np.array([[5, 2, 6],\n",
    "                [1, 4, 3]])\n",
    "\n",
    "# write here\n",
    "\n"
   ]
  },
  {
   "cell_type": "markdown",
   "id": "3621b30f",
   "metadata": {},
   "source": [
    "<div class=\"alert alert-warning\">\n",
    "\n",
    "**WARNING**:  `and` **and** `or` **DON'T WORK!**\n",
    "</div>"
   ]
  },
  {
   "cell_type": "markdown",
   "id": "e85bbc3d",
   "metadata": {},
   "source": [
    "**EXERCISE**: try rewriting the expressions above by substituting `&` with `and` and `|` with `or` and see what happens. Do you get errors or unexpected results?"
   ]
  },
  {
   "cell_type": "raw",
   "id": "3e4841a5",
   "metadata": {
    "format": "text/html"
   },
   "source": [
    "<a  class=\"jupman-sol jupman-sol-toggler\" \n",
    " onclick=\"jupman.toggleSolution(this);\" \n",
    " data-jupman-show=\"Show solution\" data-jupman-hide=\"Hide\">Show solution</a><div class=\"jupman-sol jupman-sol-code\" style=\"display:none\">  "
   ]
  },
  {
   "cell_type": "code",
   "execution_count": 74,
   "id": "9385a21b",
   "metadata": {},
   "outputs": [],
   "source": [
    "\n",
    "mat = np.array([[5, 2, 6],\n",
    "                [1, 4, 3]])\n",
    "\n",
    "# write here\n",
    "#print(  mat[(mat > 3) and (mat < 6) ]  )\n",
    "#---------------------------------------------------------------------------\n",
    "#ValueError                                Traceback (most recent call last)\n",
    "#<ipython-input-218-3edf025af7c0> in <module>\n",
    "#      4 \n",
    "#      5 # write here\n",
    "#----> 6 print(  mat[(mat > 3) and (mat < 6) ]  )     \n",
    "\n",
    "#ValueError: The truth value of an array with more than one element is ambiguous. Use a.any() or a.all()\n",
    "\n",
    "#print(  mat[(mat > 3) or (mat < 6)]    )\n",
    "#---------------------------------------------------------------------------\n",
    "#ValueError                                Traceback (most recent call last)\n",
    "#<ipython-input-219-192c022d9d87> in <module>\n",
    "#     16 \n",
    "#     17 \n",
    "#---> 18 print(  mat[(mat > 3) or (mat < 6)]    )\n",
    "\n",
    "#ValueError: The truth value of an array with more than one element is ambiguous. Use a.any() or a.all()"
   ]
  },
  {
   "cell_type": "raw",
   "id": "887ffa8e",
   "metadata": {
    "format": "text/html"
   },
   "source": [
    "</div>"
   ]
  },
  {
   "cell_type": "code",
   "execution_count": 74,
   "id": "9385a21b-stripped",
   "metadata": {},
   "outputs": [],
   "source": [
    "\n",
    "mat = np.array([[5, 2, 6],\n",
    "                [1, 4, 3]])\n",
    "\n",
    "# write here\n",
    "\n"
   ]
  },
  {
   "cell_type": "markdown",
   "id": "73b085c3",
   "metadata": {},
   "source": [
    "### Finding indexes with  `np.where`\n",
    "\n",
    "We've seen how to find the content of cells which satisfy a certain criteria.   What if we wanted to find the _indeces_ of those cells? In that case we would use the function `np.where`, passing as parameter the condition expressed in the same language used before."
   ]
  },
  {
   "cell_type": "markdown",
   "id": "9e7c6c84",
   "metadata": {},
   "source": [
    "For example, if we wanted to find the _indexes_ of cells containing numbers less than 40 or greater than 60 we would write like so:"
   ]
  },
  {
   "cell_type": "code",
   "execution_count": 75,
   "id": "ffb17845",
   "metadata": {},
   "outputs": [
    {
     "data": {
      "text/plain": [
       "(array([0, 2, 3, 5]),)"
      ]
     },
     "execution_count": 75,
     "metadata": {},
     "output_type": "execute_result"
    }
   ],
   "source": [
    "             #0  1  2  3  4  5\n",
    "v = np.array([30,60,20,70,40,80])\n",
    "\n",
    "np.where((v < 40) | (v > 60))"
   ]
  },
  {
   "cell_type": "markdown",
   "id": "d00bc604",
   "metadata": {},
   "source": [
    "### Writing into cells which satisfy a criteria\n",
    "\n",
    "We can use `np.where` to substitute values in the cells which satisfy a criteria with other values which we'll be expressed in two extra matrices `ma` and `mb`. In case the criteria is satisfied, numpy will take the corresponding values from `ma`, otherwise from `mb`."
   ]
  },
  {
   "cell_type": "code",
   "execution_count": 76,
   "id": "ccfbe29f",
   "metadata": {},
   "outputs": [
    {
     "data": {
      "text/plain": [
       "array([[  1,  -2,   3,  -4],\n",
       "       [  5,   6,  -7,   8],\n",
       "       [  9, -10, -11, -12]])"
      ]
     },
     "execution_count": 76,
     "metadata": {},
     "output_type": "execute_result"
    }
   ],
   "source": [
    "ma = np.array([\n",
    "    [ 1, 2, 3, 4],\n",
    "    [ 5, 6, 7, 8],\n",
    "    [ 9,10,11,12]\n",
    "])\n",
    "\n",
    "mb = np.array([\n",
    "    [ -1, -2, -3, -4],\n",
    "    [ -5, -6, -7, -8],\n",
    "    [ -9,-10,-11,-12]\n",
    "])\n",
    "\n",
    "\n",
    "mat = np.array([\n",
    "    [40,70,10,80],\n",
    "    [20,30,60,40],\n",
    "    [10,60,80,90]\n",
    "])\n",
    "\n",
    "np.where(mat < 50, ma, mb) "
   ]
  },
  {
   "cell_type": "markdown",
   "id": "8c73fbb9",
   "metadata": {},
   "source": [
    "## arange and linspace sequences\n",
    "\n",
    "The standard function `range` of Python does not allow for float increments, which we can instead obtain by building sequences of float numbers with `np.arange`, by specifying left limit (**included**), right limit (**excluded**) and the increment: "
   ]
  },
  {
   "cell_type": "code",
   "execution_count": 77,
   "id": "e67664fd",
   "metadata": {},
   "outputs": [
    {
     "data": {
      "text/plain": [
       "array([0. , 0.2, 0.4, 0.6, 0.8])"
      ]
     },
     "execution_count": 77,
     "metadata": {},
     "output_type": "execute_result"
    }
   ],
   "source": [
    "np.arange(0.0, 1.0, 0.2)"
   ]
  },
  {
   "cell_type": "markdown",
   "id": "7ca10ae4",
   "metadata": {},
   "source": [
    "Alternatively, we can use `np.linspace`, which takes a left limit **included**, a right limit this time **included**, and the **number of repetitions** to subdivide this space:"
   ]
  },
  {
   "cell_type": "code",
   "execution_count": 78,
   "id": "b202b495",
   "metadata": {},
   "outputs": [
    {
     "data": {
      "text/plain": [
       "array([0. , 0.2, 0.4, 0.6, 0.8])"
      ]
     },
     "execution_count": 78,
     "metadata": {},
     "output_type": "execute_result"
    }
   ],
   "source": [
    "np.linspace(0, 0.8, 5)"
   ]
  },
  {
   "cell_type": "code",
   "execution_count": 79,
   "id": "98458644",
   "metadata": {},
   "outputs": [
    {
     "data": {
      "text/plain": [
       "array([0.        , 0.08888889, 0.17777778, 0.26666667, 0.35555556,\n",
       "       0.44444444, 0.53333333, 0.62222222, 0.71111111, 0.8       ])"
      ]
     },
     "execution_count": 79,
     "metadata": {},
     "output_type": "execute_result"
    }
   ],
   "source": [
    "np.linspace(0, 0.8, 10)"
   ]
  },
  {
   "cell_type": "markdown",
   "id": "3b827378",
   "metadata": {},
   "source": [
    "## NaNs and infinities\n",
    "\n",
    "\n",
    "Float numbers can be numbers and.... not numbers, and infinities. Sometimes during calculations extremal conditions may arise, like when dividing a small number by a huge number. In such cases, you might end up having a float which is a dreaded _Not a Number_, _NaN_ for short, or you might get an infinity. This can lead to very awful unexpected behaviours, so you must be well aware of it. \n",
    "\n",
    "Following behaviours are dictated by IEEE Standard for Binary Floating-Point for Arithmetic (IEEE 754) which Numpy uses and is implemented in all CPUs, so they actually  regard all programming languages. "
   ]
  },
  {
   "cell_type": "markdown",
   "id": "fec2846b",
   "metadata": {},
   "source": [
    "### NaNs\n",
    "\n",
    "A NaN is _Not a Number_. Which is already a silly name, since a NaN is actually a very special member of floats, with this astonishing property:"
   ]
  },
  {
   "cell_type": "markdown",
   "id": "fee893cd",
   "metadata": {},
   "source": [
    "<div class=\"alert alert-warning\">\n",
    "\n",
    "**WARNING: NaN IS NOT EQUAL TO ITSELF** !!!! \n",
    "\n",
    "Yes you read it right, NaN is really _not_ equal to itself.\n",
    "</div>\n",
    "\n",
    "Even if your mind wants to refuse it, we are going to confirm it.\n",
    "\n",
    "To get a NaN, you can use Python module `math` which holds this alien item: "
   ]
  },
  {
   "cell_type": "code",
   "execution_count": 80,
   "id": "2f7af0cc",
   "metadata": {},
   "outputs": [
    {
     "data": {
      "text/plain": [
       "nan"
      ]
     },
     "execution_count": 80,
     "metadata": {},
     "output_type": "execute_result"
    }
   ],
   "source": [
    "import math\n",
    "math.nan    # notice it prints as 'nan' with lowercase n"
   ]
  },
  {
   "cell_type": "markdown",
   "id": "87db6303",
   "metadata": {},
   "source": [
    "As we said, a NaN is actually considered a float:"
   ]
  },
  {
   "cell_type": "code",
   "execution_count": 81,
   "id": "5aded1b5",
   "metadata": {},
   "outputs": [
    {
     "data": {
      "text/plain": [
       "float"
      ]
     },
     "execution_count": 81,
     "metadata": {},
     "output_type": "execute_result"
    }
   ],
   "source": [
    "type(math.nan)"
   ]
  },
  {
   "cell_type": "markdown",
   "id": "cd4baed4",
   "metadata": {},
   "source": [
    "Still, it behaves very differently from its fellow floats, or any other object in the known universe:"
   ]
  },
  {
   "cell_type": "code",
   "execution_count": 82,
   "id": "40410d12",
   "metadata": {},
   "outputs": [
    {
     "data": {
      "text/plain": [
       "False"
      ]
     },
     "execution_count": 82,
     "metadata": {},
     "output_type": "execute_result"
    }
   ],
   "source": [
    "math.nan == math.nan   # what the F... alse"
   ]
  },
  {
   "cell_type": "markdown",
   "id": "658376b9",
   "metadata": {},
   "source": [
    "### Detecting NaN\n",
    "\n",
    "Given the above, if you want to check if a variable `x` is a NaN, you _cannot_ write this: "
   ]
  },
  {
   "cell_type": "code",
   "execution_count": 83,
   "id": "f795a0d6",
   "metadata": {},
   "outputs": [
    {
     "name": "stdout",
     "output_type": "stream",
     "text": [
      "x is something else ??\n"
     ]
    }
   ],
   "source": [
    "x = math.nan\n",
    "if x == math.nan:  # WRONG\n",
    "    print(\"I'm NaN \")\n",
    "else:\n",
    "    print(\"x is something else ??\")"
   ]
  },
  {
   "cell_type": "markdown",
   "id": "86adb031",
   "metadata": {},
   "source": [
    "To correctly handle this situation, you need to use `math.isnan` function:"
   ]
  },
  {
   "cell_type": "code",
   "execution_count": 84,
   "id": "553e9167",
   "metadata": {},
   "outputs": [
    {
     "name": "stdout",
     "output_type": "stream",
     "text": [
      "x is NaN \n"
     ]
    }
   ],
   "source": [
    "x = math.nan\n",
    "if math.isnan(x):  # CORRECT\n",
    "    print(\"x is NaN \")\n",
    "else:\n",
    "    print(\"x is something else ??\")"
   ]
  },
  {
   "cell_type": "markdown",
   "id": "36927ae7",
   "metadata": {},
   "source": [
    "Notice `math.isnan` also work with _negative_ NaN:"
   ]
  },
  {
   "cell_type": "code",
   "execution_count": 85,
   "id": "daba8f73",
   "metadata": {},
   "outputs": [
    {
     "name": "stdout",
     "output_type": "stream",
     "text": [
      "y is NaN \n"
     ]
    }
   ],
   "source": [
    "y = -math.nan\n",
    "if math.isnan(y):  # CORRECT\n",
    "    print(\"y is NaN \")\n",
    "else:\n",
    "    print(\"y is something else ??\")"
   ]
  },
  {
   "cell_type": "markdown",
   "id": "8cbf2a37",
   "metadata": {},
   "source": [
    "### Sequences with NaNs\n",
    "\n",
    "Still, not everything is completely crazy. If you compare a sequence holding NaNs to another one, you will get reasonable results:"
   ]
  },
  {
   "cell_type": "code",
   "execution_count": 86,
   "id": "3166b6e7",
   "metadata": {},
   "outputs": [
    {
     "data": {
      "text/plain": [
       "True"
      ]
     },
     "execution_count": 86,
     "metadata": {},
     "output_type": "execute_result"
    }
   ],
   "source": [
    "[math.nan, math.nan] == [math.nan, math.nan]"
   ]
  },
  {
   "cell_type": "markdown",
   "id": "6696ae61",
   "metadata": {},
   "source": [
    "### Exercise NaN: two vars\n",
    "\n",
    "Given two number variables `x` and `y`, write some code that prints `\"same\"` when they are the same, _even_ when they are NaN. Otherwise, prints `\"not the same\""
   ]
  },
  {
   "cell_type": "raw",
   "id": "163dc167",
   "metadata": {
    "format": "text/html"
   },
   "source": [
    "<a  class=\"jupman-sol jupman-sol-toggler\" \n",
    " onclick=\"jupman.toggleSolution(this);\" \n",
    " data-jupman-show=\"Show solution\" data-jupman-hide=\"Hide\">Show solution</a><div class=\"jupman-sol jupman-sol-code\" style=\"display:none\">  "
   ]
  },
  {
   "cell_type": "code",
   "execution_count": 87,
   "id": "6b31fb2d",
   "metadata": {},
   "outputs": [
    {
     "name": "stdout",
     "output_type": "stream",
     "text": [
      "same\n"
     ]
    }
   ],
   "source": [
    "# expected output: same\n",
    "x = math.nan\n",
    "y = math.nan\n",
    "\n",
    "# expected output: not the same\n",
    "#x = 3\n",
    "#y = math.nan\n",
    "\n",
    "# expected output: not the same\n",
    "#x = math.nan\n",
    "#y = 5\n",
    "\n",
    "# expected output: not the same\n",
    "#x = 2\n",
    "#y = 7\n",
    "\n",
    "# expected output: same\n",
    "#x = 4\n",
    "#y = 4\n",
    "\n",
    "# write here\n",
    "if math.isnan(x) and math.isnan(y):\n",
    "    print('same')\n",
    "elif x == y:\n",
    "    print('same')\n",
    "else:\n",
    "    print('not the same')"
   ]
  },
  {
   "cell_type": "raw",
   "id": "6050ae79",
   "metadata": {
    "format": "text/html"
   },
   "source": [
    "</div>"
   ]
  },
  {
   "cell_type": "code",
   "execution_count": 87,
   "id": "6b31fb2d-stripped",
   "metadata": {},
   "outputs": [
    {
     "name": "stdout",
     "output_type": "stream",
     "text": [
      "same\n"
     ]
    }
   ],
   "source": [
    "# expected output: same\n",
    "x = math.nan\n",
    "y = math.nan\n",
    "\n",
    "# expected output: not the same\n",
    "#x = 3\n",
    "#y = math.nan\n",
    "\n",
    "# expected output: not the same\n",
    "#x = math.nan\n",
    "#y = 5\n",
    "\n",
    "# expected output: not the same\n",
    "#x = 2\n",
    "#y = 7\n",
    "\n",
    "# expected output: same\n",
    "#x = 4\n",
    "#y = 4\n",
    "\n",
    "# write here\n",
    "\n"
   ]
  },
  {
   "cell_type": "markdown",
   "id": "c6965f23",
   "metadata": {},
   "source": [
    "### Operations on NaNs\n",
    "\n",
    "Any operation on a NaN will generate another NaN:"
   ]
  },
  {
   "cell_type": "code",
   "execution_count": 88,
   "id": "1eb26fd1",
   "metadata": {},
   "outputs": [
    {
     "data": {
      "text/plain": [
       "nan"
      ]
     },
     "execution_count": 88,
     "metadata": {},
     "output_type": "execute_result"
    }
   ],
   "source": [
    "5 * math.nan"
   ]
  },
  {
   "cell_type": "code",
   "execution_count": 89,
   "id": "15974dd1",
   "metadata": {},
   "outputs": [
    {
     "data": {
      "text/plain": [
       "nan"
      ]
     },
     "execution_count": 89,
     "metadata": {},
     "output_type": "execute_result"
    }
   ],
   "source": [
    "math.nan + math.nan"
   ]
  },
  {
   "cell_type": "code",
   "execution_count": 90,
   "id": "978b479c",
   "metadata": {},
   "outputs": [
    {
     "data": {
      "text/plain": [
       "nan"
      ]
     },
     "execution_count": 90,
     "metadata": {},
     "output_type": "execute_result"
    }
   ],
   "source": [
    "math.nan / math.nan"
   ]
  },
  {
   "cell_type": "markdown",
   "id": "0073934a",
   "metadata": {},
   "source": [
    "The only thing you cannot do is dividing by zero with an unboxed NaN:"
   ]
  },
  {
   "cell_type": "markdown",
   "id": "2bd0a3f6",
   "metadata": {},
   "source": [
    "```python\n",
    "math.nan / 0\n",
    "```\n",
    "\n",
    "```python\n",
    "---------------------------------------------------------------------------\n",
    "ZeroDivisionError                         Traceback (most recent call last)\n",
    "<ipython-input-94-1da38377fac4> in <module>\n",
    "----> 1 math.nan / 0\n",
    "\n",
    "ZeroDivisionError: float division by zero\n",
    "```"
   ]
  },
  {
   "cell_type": "markdown",
   "id": "6d6b956d",
   "metadata": {},
   "source": [
    "NaN corresponds to boolean value `True`:"
   ]
  },
  {
   "cell_type": "code",
   "execution_count": 91,
   "id": "bbe25270",
   "metadata": {},
   "outputs": [
    {
     "name": "stdout",
     "output_type": "stream",
     "text": [
      "That's True\n"
     ]
    }
   ],
   "source": [
    "if math.nan: \n",
    "    print(\"That's True\")"
   ]
  },
  {
   "cell_type": "markdown",
   "id": "9e2d47c5",
   "metadata": {},
   "source": [
    "### NaN and Numpy\n",
    "\n",
    "When using Numpy you are quite likely to encounter NaNs, so much so they get redefined inside Numpy, but they are exactly the same as in `math` module:"
   ]
  },
  {
   "cell_type": "code",
   "execution_count": 92,
   "id": "7a16379b",
   "metadata": {},
   "outputs": [
    {
     "data": {
      "text/plain": [
       "nan"
      ]
     },
     "execution_count": 92,
     "metadata": {},
     "output_type": "execute_result"
    }
   ],
   "source": [
    "np.nan"
   ]
  },
  {
   "cell_type": "code",
   "execution_count": 93,
   "id": "724befdf",
   "metadata": {},
   "outputs": [
    {
     "data": {
      "text/plain": [
       "True"
      ]
     },
     "execution_count": 93,
     "metadata": {},
     "output_type": "execute_result"
    }
   ],
   "source": [
    "math.isnan(np.nan)"
   ]
  },
  {
   "cell_type": "code",
   "execution_count": 94,
   "id": "434997c1",
   "metadata": {},
   "outputs": [
    {
     "data": {
      "text/plain": [
       "True"
      ]
     },
     "execution_count": 94,
     "metadata": {},
     "output_type": "execute_result"
    }
   ],
   "source": [
    "np.isnan(math.nan)"
   ]
  },
  {
   "cell_type": "markdown",
   "id": "d8378ba8",
   "metadata": {},
   "source": [
    "In Numpy when you have unknown numbers you might be tempted to put a `None`. You can actually do it, but look closely at the result:"
   ]
  },
  {
   "cell_type": "code",
   "execution_count": 95,
   "id": "deaa4511",
   "metadata": {},
   "outputs": [
    {
     "data": {
      "text/plain": [
       "array([4.9, None, 3.2, 5.1], dtype=object)"
      ]
     },
     "execution_count": 95,
     "metadata": {},
     "output_type": "execute_result"
    }
   ],
   "source": [
    "import numpy as np\n",
    "np.array([4.9,None,3.2,5.1])"
   ]
  },
  {
   "cell_type": "markdown",
   "id": "4f5093a4",
   "metadata": {},
   "source": [
    "The resulting array type is _not_  an array of float64 which allows fast calculations, instead it is an array containing generic _objects_, as Numpy is assuming the array holds heterogenous data. So what you gain in generality you lose it in performance, which should actually be the whole point of using Numpy. \n",
    "\n",
    "Despite being weird, NaNs are actually regular float citizen so they can be stored in the array:"
   ]
  },
  {
   "cell_type": "code",
   "execution_count": 96,
   "id": "ce28937a",
   "metadata": {},
   "outputs": [
    {
     "data": {
      "text/plain": [
       "array([4.9, nan, 3.2, 5.1])"
      ]
     },
     "execution_count": 96,
     "metadata": {},
     "output_type": "execute_result"
    }
   ],
   "source": [
    "np.array([4.9,np.nan,3.2,5.1])   # Notice how the `dtype=object` has disappeared"
   ]
  },
  {
   "cell_type": "markdown",
   "id": "485d67da",
   "metadata": {},
   "source": [
    "### Where are the NaNs ?\n",
    "\n",
    "Let's try to see where we can spot NaNs and other weird things such infinities in the wild"
   ]
  },
  {
   "cell_type": "markdown",
   "id": "78b4259a",
   "metadata": {},
   "source": [
    "First, let check what happens when we call function `log` of standard module `math`.\n",
    "As we know, log function behaves like this:\n",
    "\n",
    "* $x < 0$: not defined \n",
    "* $x = 0$: tends to minus infinity \n",
    "* $x > 0$: defined\n",
    "\n",
    "![log function u9u9u9](_static/img/log.png)\n",
    "\n",
    "So we might wonder what happens when we pass to it a value where it is not defined. Let's first try with the standard `math.log`  from Python library:"
   ]
  },
  {
   "cell_type": "markdown",
   "id": "004cb58c",
   "metadata": {},
   "source": [
    "```python\n",
    ">>> math.log(-1)\n",
    "```\n",
    "```python\n",
    "ValueError                                Traceback (most recent call last)\n",
    "<ipython-input-38-d6e02ba32da6> in <module>\n",
    "----> 1 math.log(-1)\n",
    "\n",
    "ValueError: math domain error\n",
    "```"
   ]
  },
  {
   "cell_type": "markdown",
   "id": "31e5a64a",
   "metadata": {},
   "source": [
    "In this case `ValueError` is raised and **the execution gets interrupted.**\n",
    "\n",
    "Let's try the equivalent with Numpy:"
   ]
  },
  {
   "cell_type": "code",
   "execution_count": 97,
   "id": "66ab7bc9",
   "metadata": {},
   "outputs": [
    {
     "name": "stderr",
     "output_type": "stream",
     "text": [
      "/home/da/.local/lib/python3.7/site-packages/ipykernel_launcher.py:1: RuntimeWarning: invalid value encountered in log\n",
      "  \"\"\"Entry point for launching an IPython kernel.\n"
     ]
    },
    {
     "data": {
      "text/plain": [
       "nan"
      ]
     },
     "execution_count": 97,
     "metadata": {},
     "output_type": "execute_result"
    }
   ],
   "source": [
    "np.log(-1)"
   ]
  },
  {
   "cell_type": "markdown",
   "id": "62c5b0b4",
   "metadata": {},
   "source": [
    "In this case we **actually got as a result** `np.nan`, so execution was not interrupted, Jupyter only informed us with an extra print that something dangerous happened.\n",
    "\n",
    "The default behaviour of Numpy regarding dangerous calculations is to perform them anyway and storing the result in as a NaN or other limit objects. This also works for arrays calculations:"
   ]
  },
  {
   "cell_type": "code",
   "execution_count": 98,
   "id": "a473fcb9",
   "metadata": {
    "scrolled": true
   },
   "outputs": [
    {
     "name": "stderr",
     "output_type": "stream",
     "text": [
      "/home/da/.local/lib/python3.7/site-packages/ipykernel_launcher.py:1: RuntimeWarning: invalid value encountered in log\n",
      "  \"\"\"Entry point for launching an IPython kernel.\n"
     ]
    },
    {
     "data": {
      "text/plain": [
       "array([1.09861229, 1.94591015,        nan, 2.19722458])"
      ]
     },
     "execution_count": 98,
     "metadata": {},
     "output_type": "execute_result"
    }
   ],
   "source": [
    "np.log(np.array([3,7,-1,9]))"
   ]
  },
  {
   "cell_type": "markdown",
   "id": "fee46956",
   "metadata": {},
   "source": [
    "### Infinities\n",
    "\n",
    "As we said previously, NumPy uses the IEEE Standard for Binary Floating-Point for Arithmetic (IEEE 754). Since somebody at IEEE decided to capture the misteries of infinity into floating numbers, we have yet another citizen to take into account when performing calculations (for more info see [Numpy documentation on constants](https://numpy.org/devdocs/reference/constants.html)):"
   ]
  },
  {
   "cell_type": "markdown",
   "id": "c615bff2",
   "metadata": {},
   "source": [
    "### Positive infinity `np.inf`"
   ]
  },
  {
   "cell_type": "code",
   "execution_count": 99,
   "id": "f15379b9",
   "metadata": {},
   "outputs": [
    {
     "name": "stderr",
     "output_type": "stream",
     "text": [
      "/home/da/.local/lib/python3.7/site-packages/ipykernel_launcher.py:1: RuntimeWarning: divide by zero encountered in true_divide\n",
      "  \"\"\"Entry point for launching an IPython kernel.\n"
     ]
    },
    {
     "data": {
      "text/plain": [
       "array([inf])"
      ]
     },
     "execution_count": 99,
     "metadata": {},
     "output_type": "execute_result"
    }
   ],
   "source": [
    " np.array( [ 5 ] ) / 0"
   ]
  },
  {
   "cell_type": "code",
   "execution_count": 100,
   "id": "5920fff5",
   "metadata": {},
   "outputs": [
    {
     "name": "stderr",
     "output_type": "stream",
     "text": [
      "/home/da/.local/lib/python3.7/site-packages/ipykernel_launcher.py:1: RuntimeWarning: divide by zero encountered in true_divide\n",
      "  \"\"\"Entry point for launching an IPython kernel.\n"
     ]
    },
    {
     "data": {
      "text/plain": [
       "array([3.  ,  inf,  inf, 1.75])"
      ]
     },
     "execution_count": 100,
     "metadata": {},
     "output_type": "execute_result"
    }
   ],
   "source": [
    "np.array( [ 6,9,5,7 ] ) / np.array( [ 2,0,0,4 ] )"
   ]
  },
  {
   "cell_type": "markdown",
   "id": "995436ac",
   "metadata": {},
   "source": [
    "Be aware that: \n",
    "\n",
    "- Not a Number is **not** equivalent to infinity\n",
    "- positive infinity is **not** equivalent to negative infinity\n",
    "- infinity is equivalent to positive infinity"
   ]
  },
  {
   "cell_type": "markdown",
   "id": "42d63401",
   "metadata": {},
   "source": [
    "This time, infinity is equal to infinity: "
   ]
  },
  {
   "cell_type": "code",
   "execution_count": 101,
   "id": "c12b490a",
   "metadata": {},
   "outputs": [
    {
     "data": {
      "text/plain": [
       "True"
      ]
     },
     "execution_count": 101,
     "metadata": {},
     "output_type": "execute_result"
    }
   ],
   "source": [
    "np.inf == np.inf"
   ]
  },
  {
   "cell_type": "markdown",
   "id": "f6916b52",
   "metadata": {},
   "source": [
    "so we can safely detect infinity with `==`:"
   ]
  },
  {
   "cell_type": "code",
   "execution_count": 102,
   "id": "f7adc443",
   "metadata": {},
   "outputs": [
    {
     "name": "stdout",
     "output_type": "stream",
     "text": [
      "x is infinite\n"
     ]
    }
   ],
   "source": [
    "x = np.inf\n",
    " \n",
    "if x == np.inf:\n",
    "    print(\"x is infinite\")\n",
    "else:\n",
    "    print(\"x is finite\")"
   ]
  },
  {
   "cell_type": "markdown",
   "id": "f6cc158f",
   "metadata": {},
   "source": [
    "Alternatively, we can use the function `np.isinf`: "
   ]
  },
  {
   "cell_type": "code",
   "execution_count": 103,
   "id": "a3ba65af",
   "metadata": {},
   "outputs": [
    {
     "data": {
      "text/plain": [
       "True"
      ]
     },
     "execution_count": 103,
     "metadata": {},
     "output_type": "execute_result"
    }
   ],
   "source": [
    "np.isinf(np.inf)"
   ]
  },
  {
   "cell_type": "markdown",
   "id": "37557fe6",
   "metadata": {},
   "source": [
    "### Negative infinity\n",
    "\n",
    "We can also have negative infinity, which is different from positive infinity:"
   ]
  },
  {
   "cell_type": "code",
   "execution_count": 104,
   "id": "db34ca7e",
   "metadata": {},
   "outputs": [
    {
     "data": {
      "text/plain": [
       "False"
      ]
     },
     "execution_count": 104,
     "metadata": {},
     "output_type": "execute_result"
    }
   ],
   "source": [
    "-np.inf == np.inf"
   ]
  },
  {
   "cell_type": "markdown",
   "id": "929f7dd3",
   "metadata": {},
   "source": [
    "Note that `isinf` detects _both_ positive and negative:"
   ]
  },
  {
   "cell_type": "code",
   "execution_count": 105,
   "id": "f4cb898e",
   "metadata": {},
   "outputs": [
    {
     "data": {
      "text/plain": [
       "True"
      ]
     },
     "execution_count": 105,
     "metadata": {},
     "output_type": "execute_result"
    }
   ],
   "source": [
    "np.isinf(-np.inf)"
   ]
  },
  {
   "cell_type": "markdown",
   "id": "f823ee96",
   "metadata": {},
   "source": [
    "To actually check for negative infinity you have to use `isneginf`:"
   ]
  },
  {
   "cell_type": "code",
   "execution_count": 106,
   "id": "52f80076",
   "metadata": {},
   "outputs": [
    {
     "data": {
      "text/plain": [
       "True"
      ]
     },
     "execution_count": 106,
     "metadata": {},
     "output_type": "execute_result"
    }
   ],
   "source": [
    "np.isneginf(-np.inf)"
   ]
  },
  {
   "cell_type": "code",
   "execution_count": 107,
   "id": "cbb31850",
   "metadata": {},
   "outputs": [
    {
     "data": {
      "text/plain": [
       "False"
      ]
     },
     "execution_count": 107,
     "metadata": {},
     "output_type": "execute_result"
    }
   ],
   "source": [
    "np.isneginf(np.inf)"
   ]
  },
  {
   "cell_type": "markdown",
   "id": "201a17e8",
   "metadata": {},
   "source": [
    "Where do they appear? As an example, let's try `np.log` function:"
   ]
  },
  {
   "cell_type": "code",
   "execution_count": 108,
   "id": "fbc21781",
   "metadata": {},
   "outputs": [
    {
     "name": "stderr",
     "output_type": "stream",
     "text": [
      "/home/da/.local/lib/python3.7/site-packages/ipykernel_launcher.py:1: RuntimeWarning: divide by zero encountered in log\n",
      "  \"\"\"Entry point for launching an IPython kernel.\n"
     ]
    },
    {
     "data": {
      "text/plain": [
       "-inf"
      ]
     },
     "execution_count": 108,
     "metadata": {},
     "output_type": "execute_result"
    }
   ],
   "source": [
    "np.log(0)"
   ]
  },
  {
   "cell_type": "markdown",
   "id": "efcaa8ac",
   "metadata": {},
   "source": [
    "### Combining infinities and NaNs\n",
    "\n",
    "When performing operations involving infinities and NaNs, IEEE arithmetics tries to mimic classical analysis, sometimes including NaN as a result:"
   ]
  },
  {
   "cell_type": "code",
   "execution_count": 109,
   "id": "70fc8b43",
   "metadata": {},
   "outputs": [
    {
     "data": {
      "text/plain": [
       "inf"
      ]
     },
     "execution_count": 109,
     "metadata": {},
     "output_type": "execute_result"
    }
   ],
   "source": [
    "np.inf + np.inf"
   ]
  },
  {
   "cell_type": "code",
   "execution_count": 110,
   "id": "4e82140d",
   "metadata": {},
   "outputs": [
    {
     "data": {
      "text/plain": [
       "-inf"
      ]
     },
     "execution_count": 110,
     "metadata": {},
     "output_type": "execute_result"
    }
   ],
   "source": [
    "- np.inf - np.inf"
   ]
  },
  {
   "cell_type": "code",
   "execution_count": 111,
   "id": "aec160dd",
   "metadata": {},
   "outputs": [
    {
     "data": {
      "text/plain": [
       "-inf"
      ]
     },
     "execution_count": 111,
     "metadata": {},
     "output_type": "execute_result"
    }
   ],
   "source": [
    "np.inf * -np.inf"
   ]
  },
  {
   "cell_type": "markdown",
   "id": "a3610c57",
   "metadata": {},
   "source": [
    "What in classical analysis would be undefined, here becomes NaN: "
   ]
  },
  {
   "cell_type": "code",
   "execution_count": 112,
   "id": "98be9ec7",
   "metadata": {},
   "outputs": [
    {
     "data": {
      "text/plain": [
       "nan"
      ]
     },
     "execution_count": 112,
     "metadata": {},
     "output_type": "execute_result"
    }
   ],
   "source": [
    "np.inf - np.inf"
   ]
  },
  {
   "cell_type": "code",
   "execution_count": 113,
   "id": "f4160592",
   "metadata": {},
   "outputs": [
    {
     "data": {
      "text/plain": [
       "nan"
      ]
     },
     "execution_count": 113,
     "metadata": {},
     "output_type": "execute_result"
    }
   ],
   "source": [
    "np.inf / np.inf"
   ]
  },
  {
   "cell_type": "markdown",
   "id": "6b854cfd",
   "metadata": {},
   "source": [
    "As usual, combining with NaN results in NaN:"
   ]
  },
  {
   "cell_type": "code",
   "execution_count": 114,
   "id": "d491df08",
   "metadata": {},
   "outputs": [
    {
     "data": {
      "text/plain": [
       "nan"
      ]
     },
     "execution_count": 114,
     "metadata": {},
     "output_type": "execute_result"
    }
   ],
   "source": [
    "np.inf + np.nan"
   ]
  },
  {
   "cell_type": "code",
   "execution_count": 115,
   "id": "cf41cc4e",
   "metadata": {},
   "outputs": [
    {
     "data": {
      "text/plain": [
       "nan"
      ]
     },
     "execution_count": 115,
     "metadata": {},
     "output_type": "execute_result"
    }
   ],
   "source": [
    "np.inf / np.nan"
   ]
  },
  {
   "cell_type": "markdown",
   "id": "af030745",
   "metadata": {},
   "source": [
    "### Negative zero \n",
    "\n",
    "We can even have a _negative_ zero - who would have thought?"
   ]
  },
  {
   "cell_type": "code",
   "execution_count": 116,
   "id": "1eaa11b0",
   "metadata": {},
   "outputs": [
    {
     "data": {
      "text/plain": [
       "-0.0"
      ]
     },
     "execution_count": 116,
     "metadata": {},
     "output_type": "execute_result"
    }
   ],
   "source": [
    "np.NZERO"
   ]
  },
  {
   "cell_type": "markdown",
   "id": "20490f16",
   "metadata": {},
   "source": [
    "Negative zero of course pairs well with the more known and much appreciated _positive_ zero:"
   ]
  },
  {
   "cell_type": "code",
   "execution_count": 117,
   "id": "28473171",
   "metadata": {},
   "outputs": [
    {
     "data": {
      "text/plain": [
       "0.0"
      ]
     },
     "execution_count": 117,
     "metadata": {},
     "output_type": "execute_result"
    }
   ],
   "source": [
    "np.PZERO"
   ]
  },
  {
   "cell_type": "markdown",
   "id": "281ac04d",
   "metadata": {},
   "source": [
    "**NOTE**: Writing `np.NZERO` or `-0.0` is _exactly_ the same thing. Same goes for positive zero."
   ]
  },
  {
   "cell_type": "markdown",
   "id": "c359f8d8",
   "metadata": {},
   "source": [
    "At this point, you might start wondering with some concern if they are actually _equal_. Let's try:"
   ]
  },
  {
   "cell_type": "code",
   "execution_count": 118,
   "id": "0af30b3f",
   "metadata": {},
   "outputs": [
    {
     "data": {
      "text/plain": [
       "True"
      ]
     },
     "execution_count": 118,
     "metadata": {},
     "output_type": "execute_result"
    }
   ],
   "source": [
    "0.0 == -0.0"
   ]
  },
  {
   "cell_type": "markdown",
   "id": "e202482e",
   "metadata": {},
   "source": [
    "Great! Finally one thing that makes sense. \n",
    "\n",
    "Given the above, you might think in a formula you can substitute one for the other one and get same results, in harmony with the rules of the universe. \n",
    "\n",
    "Let's make an attempt of substitution, as an example we first try dividing a number by positive zero (even if math teachers tell us such divisions are forbidden) - what will we ever get??\n",
    "\n",
    "$\\frac{5.0}{0.0}=???$\n",
    "\n",
    "In Numpy terms, we might write like this to box everything in arrays:"
   ]
  },
  {
   "cell_type": "code",
   "execution_count": 119,
   "id": "688c61c5",
   "metadata": {},
   "outputs": [
    {
     "name": "stderr",
     "output_type": "stream",
     "text": [
      "/home/da/.local/lib/python3.7/site-packages/ipykernel_launcher.py:1: RuntimeWarning: divide by zero encountered in true_divide\n",
      "  \"\"\"Entry point for launching an IPython kernel.\n"
     ]
    },
    {
     "data": {
      "text/plain": [
       "array([inf])"
      ]
     },
     "execution_count": 119,
     "metadata": {},
     "output_type": "execute_result"
    }
   ],
   "source": [
    "np.array( [ 5.0 ] ) / np.array( [ 0.0 ] )"
   ]
  },
  {
   "cell_type": "markdown",
   "id": "628fd80b",
   "metadata": {},
   "source": [
    "Hmm, we got an array holding an `np.inf`.\n",
    "\n",
    "If `0.0`  and `-0.0` are actually the same, dividing a number by `-0.0`  we should get the very same result, shouldn't we?\n",
    "\n",
    "Let's try:"
   ]
  },
  {
   "cell_type": "code",
   "execution_count": 120,
   "id": "177f44ad",
   "metadata": {},
   "outputs": [
    {
     "name": "stderr",
     "output_type": "stream",
     "text": [
      "/home/da/.local/lib/python3.7/site-packages/ipykernel_launcher.py:1: RuntimeWarning: divide by zero encountered in true_divide\n",
      "  \"\"\"Entry point for launching an IPython kernel.\n"
     ]
    },
    {
     "data": {
      "text/plain": [
       "array([-inf])"
      ]
     },
     "execution_count": 120,
     "metadata": {},
     "output_type": "execute_result"
    }
   ],
   "source": [
    "np.array( [ 5.0 ] ) / np.array( [ -0.0 ] )"
   ]
  },
  {
   "cell_type": "markdown",
   "id": "2ff92e70",
   "metadata": {},
   "source": [
    "Oh gosh. This time we got an array holding a _negative_ infinity `-np.inf`\n",
    "\n",
    "If all of this seems odd to you, do not bash at Numpy. This is the way pretty much any CPUs does floating point calculations so you will find it in almost ALL computer languages.\n",
    "\n",
    "What programming languages can do is add further controls to protect you from paradoxical situations, for example when you directly write `1.0/0.0` Python raises `ZeroDivisionError` (blocking thus execution), and when you operate on arrays Numpy emits a warning (but doesn't block execution)."
   ]
  },
  {
   "cell_type": "markdown",
   "id": "f611265b",
   "metadata": {},
   "source": [
    "### Exercise: detect proper numbers\n",
    "\n",
    "Write some code that PRINTS `equal numbers` if two numbers `x` and `y` passed are equal and actual numbers, and PRINTS `not equal numbers` otherwise. \n",
    "\n",
    "**NOTE**: `not equal numbers` must be printed if any of the numbers is infinite or NaN.\n",
    "\n",
    "To solve it, feel free to call functions indicated in [Numpy documentation about costants](https://docs.scipy.org/doc/numpy/reference/constants.html)"
   ]
  },
  {
   "cell_type": "raw",
   "id": "35c40340",
   "metadata": {
    "format": "text/html"
   },
   "source": [
    "<a  class=\"jupman-sol jupman-sol-toggler\" \n",
    " onclick=\"jupman.toggleSolution(this);\" \n",
    " data-jupman-show=\"Show solution\" data-jupman-hide=\"Hide\">Show solution</a><div class=\"jupman-sol jupman-sol-code\" style=\"display:none\">  "
   ]
  },
  {
   "cell_type": "code",
   "execution_count": 121,
   "id": "09806412",
   "metadata": {},
   "outputs": [
    {
     "name": "stdout",
     "output_type": "stream",
     "text": [
      "equal numbers\n",
      "equal numbers\n"
     ]
    }
   ],
   "source": [
    "# expected: equal numbers\n",
    "x = 5\n",
    "y = 5\n",
    "\n",
    "# expected: not equal numbers\n",
    "#x = np.inf\n",
    "#y = 3\n",
    "\n",
    "# expected: not equal numbers\n",
    "#x = 3\n",
    "#y = np.inf\n",
    "\n",
    "# expected: not equal numbers\n",
    "#x = np.inf\n",
    "#y = np.nan\n",
    "\n",
    "# expected: not equal numbers\n",
    "#x = np.nan\n",
    "#y = np.inf\n",
    "\n",
    "# expected: not equal numbers\n",
    "#x = np.nan\n",
    "#y = 7\n",
    "\n",
    "# expected: not equal numbers\n",
    "#x = 9\n",
    "#y = np.nan\n",
    "\n",
    "# expected: not equal numbers\n",
    "#x = np.nan\n",
    "#y = np.nan\n",
    "\n",
    "\n",
    "# write here\n",
    "\n",
    "# SOLUTION 1 - the ugly one\n",
    "if np.isinf(x) or np.isinf(y) or np.isnan(x) or np.isnan(y):\n",
    "    print('not equal numbers')\n",
    "else:\n",
    "    print('equal numbers')\n",
    "    \n",
    "# SOLUTION 2 - the pretty one\n",
    "if np.isfinite(x) and np.isfinite(y):\n",
    "    print('equal numbers')\n",
    "else:\n",
    "    print('not equal numbers')"
   ]
  },
  {
   "cell_type": "raw",
   "id": "a8cbacf4",
   "metadata": {
    "format": "text/html"
   },
   "source": [
    "</div>"
   ]
  },
  {
   "cell_type": "code",
   "execution_count": 121,
   "id": "09806412-stripped",
   "metadata": {},
   "outputs": [
    {
     "name": "stdout",
     "output_type": "stream",
     "text": [
      "equal numbers\n",
      "equal numbers\n"
     ]
    }
   ],
   "source": [
    "# expected: equal numbers\n",
    "x = 5\n",
    "y = 5\n",
    "\n",
    "# expected: not equal numbers\n",
    "#x = np.inf\n",
    "#y = 3\n",
    "\n",
    "# expected: not equal numbers\n",
    "#x = 3\n",
    "#y = np.inf\n",
    "\n",
    "# expected: not equal numbers\n",
    "#x = np.inf\n",
    "#y = np.nan\n",
    "\n",
    "# expected: not equal numbers\n",
    "#x = np.nan\n",
    "#y = np.inf\n",
    "\n",
    "# expected: not equal numbers\n",
    "#x = np.nan\n",
    "#y = 7\n",
    "\n",
    "# expected: not equal numbers\n",
    "#x = 9\n",
    "#y = np.nan\n",
    "\n",
    "# expected: not equal numbers\n",
    "#x = np.nan\n",
    "#y = np.nan\n",
    "\n",
    "\n",
    "# write here\n",
    "\n"
   ]
  },
  {
   "cell_type": "markdown",
   "id": "1da07e3f",
   "metadata": {},
   "source": [
    "### Exercise: guess expressions\n",
    "\n",
    "For each of the following expressions, try to guess the result\n",
    "\n",
    "<div class=\"alert alert-warning\">\n",
    "\n",
    "**WARNING: the following may cause severe convulsions and nausea.**\n",
    "\n",
    "During clinical trials, both mathematically inclined and math-averse patients have experienced illness, for different reasons which are currently being investigated.\n",
    "\n",
    "</div>\n",
    "\n",
    "```python\n",
    "a.  0.0 * -0.0\n",
    "b.  (-0.0)**3\n",
    "c.  np.log(-7) == math.log(-7)\n",
    "d.  np.log(-7) == np.log(-7)\n",
    "e.  np.isnan( 1 / np.log(1) )\n",
    "f.  np.sqrt(-1) * np.sqrt(-1)   # sqrt = square root\n",
    "g.  3 ** np.inf\n",
    "h   3 ** -np.inf\n",
    "i.  1/np.sqrt(-3)\n",
    "j.  1/np.sqrt(-0.0)\n",
    "m.  np.sqrt(np.inf) - np.sqrt(-np.inf)\n",
    "n.  np.sqrt(np.inf) + ( 1 / np.sqrt(-0.0) )\n",
    "o.  np.isneginf(np.log(np.e) / np.sqrt(-0.0))  \n",
    "p.  np.isinf(np.log(np.e) / np.sqrt(-0.0))\n",
    "q.  [np.nan, np.inf] == [np.nan, np.inf]\n",
    "r.  [np.nan, -np.inf] == [np.nan, np.inf]\n",
    "s.  [np.nan, np.inf] == [-np.nan, np.inf]\n",
    "```"
   ]
  },
  {
   "cell_type": "markdown",
   "id": "88e37688",
   "metadata": {},
   "source": [
    "## Continue\n",
    "\n",
    "Go on with [numpy exercises](https://en.softpython.org/matrices-numpy/matrices-numpy2-sol.html)."
   ]
  }
 ],
 "metadata": {
  "celltoolbar": "Edit Metadata",
  "kernelspec": {
   "display_name": "Python 3 (ipykernel)",
   "language": "python",
   "name": "python3"
  },
  "language_info": {
   "codemirror_mode": {
    "name": "ipython",
    "version": 3
   },
   "file_extension": ".py",
   "mimetype": "text/x-python",
   "name": "python",
   "nbconvert_exporter": "python",
   "pygments_lexer": "ipython3",
   "version": "3.7.10"
  },
  "toc": {
   "base_numbering": 1,
   "nav_menu": {},
   "number_sections": false,
   "sideBar": true,
   "skip_h1_title": false,
   "title_cell": "Table of Contents",
   "title_sidebar": "Contents",
   "toc_cell": false,
   "toc_position": {
    "height": "calc(100% - 180px)",
    "left": "10px",
    "top": "150px",
    "width": "268px"
   },
   "toc_section_display": true,
   "toc_window_display": false
  }
 },
 "nbformat": 4,
 "nbformat_minor": 5
}
