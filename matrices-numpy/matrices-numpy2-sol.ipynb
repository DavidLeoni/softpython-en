{
 "cells": [
  {
   "cell_type": "code",
   "execution_count": 1,
   "id": "9a95ddb8",
   "metadata": {
    "nbsphinx": "hidden"
   },
   "outputs": [],
   "source": [
    "#Please execute this cell\n",
    "import jupman"
   ]
  },
  {
   "cell_type": "markdown",
   "id": "2ddfb456",
   "metadata": {},
   "source": [
    "# Matrices: Numpy 2 - Exercises\n",
    "\n",
    "## [Download exercises zip](../_static/generated/matrices-numpy.zip)\n",
    "\n",
    "[Browse files online](https://github.com/DavidLeoni/softpython-en/tree/master/matrices-numpy)\n",
    "\n",
    "\n",
    "## Introduction\n",
    "\n",
    "Let's see now some exercises. First ones will be given in two versions: first ones usually adopt for cycles and are thus slow, second ones are denoted 'pro' and avoid loops using all the power offered by Numpy. In particular in many cases you can obtain very efficient and compact programs by using slices in smart ways.\n",
    "\n"
   ]
  },
  {
   "cell_type": "markdown",
   "id": "dcad6581",
   "metadata": {},
   "source": [
    "Numpy - this notebook\n",
    "\n",
    "1. not natively available  in Python\n",
    "2. efficient\n",
    "3. many libraries for scientific calculations are based on Numpy (scipy, pandas)\n",
    "4. syntax to access elements is slightly different from list of lists\n",
    "5. in rare cases might give problems of installation and/or conflicts (implementation is not pure Python)"
   ]
  },
  {
   "cell_type": "markdown",
   "id": "1ea23b65",
   "metadata": {},
   "source": [
    "<div class=\"alert alert-warning\">\n",
    "\n",
    "**ATTENTION**\n",
    "    \n",
    "Following exercises contain tests with _asserts_. To understand how to carry them out, read first [Error handling and testing](https://en.softpython.org/functions/fun2-errors-and-testing-sol.html)\n",
    "</div>"
   ]
  },
  {
   "cell_type": "markdown",
   "id": "ed055f1b",
   "metadata": {},
   "source": [
    "### frame\n",
    "\n",
    "✪✪✪ RETURN a NEW Numpy matrix of `n` rows and `n` columns, in which all the values are zero except those on borders, which must be equal to a given `k`       \n",
    "\n",
    "For example, `frame(4, 7.0)` must give:\n",
    "\n",
    "```python\n",
    "    array([[7.0, 7.0, 7.0, 7.0],\n",
    "           [7.0, 0.0, 0.0, 7.0],\n",
    "           [7.0, 0.0, 0.0, 7.0],\n",
    "           [7.0, 7.0, 7.0, 7.0]])\n",
    "```\n",
    "\n",
    "Ingredients:\n",
    "\n",
    "- create a matrix filled with zeros. ATTENTION: which dimensions does it have? Do you need `n` or `k` ? Read WELL the text.\n",
    "\n",
    "For this first version, try filling the rows and columns using `for in range` and writing directly in the single cells"
   ]
  },
  {
   "cell_type": "raw",
   "id": "0de6d31e",
   "metadata": {
    "format": "text/html"
   },
   "source": [
    "<a  class=\"jupman-sol jupman-sol-toggler\" \n",
    " onclick=\"jupman.toggleSolution(this);\" \n",
    " data-jupman-show=\"Show solution\" data-jupman-hide=\"Hide\">Show solution</a><div class=\"jupman-sol jupman-sol-code\" style=\"display:none\">  "
   ]
  },
  {
   "cell_type": "code",
   "execution_count": 2,
   "id": "d6800873",
   "metadata": {},
   "outputs": [],
   "source": [
    "import numpy as np\n",
    "\n",
    "def frame(n, k):\n",
    "    \n",
    "    #SLOW SOLUTION\n",
    "    mat = np.zeros( (n,n)  )\n",
    "    for i in range(n):\n",
    "        mat[0, i] = k\n",
    "        mat[i, 0] = k\n",
    "        mat[i, n-1] = k\n",
    "        mat[n-1, i] = k\n",
    "    return mat\n",
    "    \n",
    "\n",
    "\n",
    "expected_mat = np.array( [[7.0, 7.0, 7.0, 7.0],\n",
    "                         [7.0, 0.0, 0.0, 7.0],\n",
    "                         [7.0, 0.0, 0.0, 7.0],\n",
    "                         [7.0, 7.0, 7., 7.0]])\n",
    "# all_close return True if all the values in the first matrix are close enough\n",
    "# (that is, within a given tolerance) to corresponding values in the second\n",
    "assert np.allclose(frame(4, 7.0), expected_mat) \n",
    "\n",
    "expected_mat = np.array( [ [7.0]\n",
    "                       ])\n",
    "assert np.allclose(frame(1, 7.0), expected_mat) \n",
    "\n",
    "expected_mat = np.array( [ [7.0, 7.0],\n",
    "                         [7.0, 7.0]\n",
    "                       ])\n",
    "assert np.allclose(frame(2, 7.0), expected_mat) "
   ]
  },
  {
   "cell_type": "raw",
   "id": "c676d602",
   "metadata": {
    "format": "text/html"
   },
   "source": [
    "</div>"
   ]
  },
  {
   "cell_type": "code",
   "execution_count": 2,
   "id": "d6800873-stripped",
   "metadata": {},
   "outputs": [],
   "source": [
    "import numpy as np\n",
    "\n",
    "def frame(n, k):\n",
    "    raise Exception('TODO IMPLEMENT ME !')\n",
    "\n",
    "\n",
    "expected_mat = np.array( [[7.0, 7.0, 7.0, 7.0],\n",
    "                         [7.0, 0.0, 0.0, 7.0],\n",
    "                         [7.0, 0.0, 0.0, 7.0],\n",
    "                         [7.0, 7.0, 7., 7.0]])\n",
    "# all_close return True if all the values in the first matrix are close enough\n",
    "# (that is, within a given tolerance) to corresponding values in the second\n",
    "assert np.allclose(frame(4, 7.0), expected_mat) \n",
    "\n",
    "expected_mat = np.array( [ [7.0]\n",
    "                       ])\n",
    "assert np.allclose(frame(1, 7.0), expected_mat) \n",
    "\n",
    "expected_mat = np.array( [ [7.0, 7.0],\n",
    "                         [7.0, 7.0]\n",
    "                       ])\n",
    "assert np.allclose(frame(2, 7.0), expected_mat) "
   ]
  },
  {
   "cell_type": "markdown",
   "id": "e7098066",
   "metadata": {},
   "source": [
    "## Exercise - frameslices\n",
    "\n",
    "✪✪✪ Solve the precious exercise, this time **using 4 slices**\n",
    "\n",
    "* **DO NOT** use `for` nor `while` loops"
   ]
  },
  {
   "cell_type": "raw",
   "id": "46322687",
   "metadata": {
    "format": "text/html"
   },
   "source": [
    "<a  class=\"jupman-sol jupman-sol-toggler\" \n",
    " onclick=\"jupman.toggleSolution(this);\" \n",
    " data-jupman-show=\"Show solution\" data-jupman-hide=\"Hide\">Show solution</a><div class=\"jupman-sol jupman-sol-code\" style=\"display:none\">  "
   ]
  },
  {
   "cell_type": "code",
   "execution_count": 3,
   "id": "520cc7e6",
   "metadata": {},
   "outputs": [],
   "source": [
    "\n",
    "def frameslices(n, k):\n",
    "    \n",
    "    mat = np.zeros( (n,n)  )\n",
    "    \n",
    "    mat[0, :] = k\n",
    "    mat[:, 0] = k\n",
    "    mat[:, n-1] = k\n",
    "    mat[n-1, :] = k\n",
    "    \n",
    "    return mat\n",
    "    \n",
    "\n",
    "    \n",
    "r1 = np.array( [[7.0, 7.0, 7.0, 7.0],\n",
    "                [7.0, 0.0, 0.0, 7.0],\n",
    "                [7.0, 0.0, 0.0, 7.0],\n",
    "                [7.0, 7.0, 7., 7.0]])\n",
    "\n",
    "# all_close return True if all the values in the first matrix are close enough\n",
    "# (that is, within a given tolerance) to corresponding values in the second\n",
    "assert np.allclose(frameslices(4, 7.0), r1) \n",
    "\n",
    "r2 = np.array( [ [7.0] ])\n",
    "assert np.allclose(frameslices(1, 7.0), r2) \n",
    "\n",
    "r3 = np.array( [ [7.0, 7.0],\n",
    "                 [7.0, 7.0]])\n",
    "assert np.allclose(frameslices(2, 7.0), r3) "
   ]
  },
  {
   "cell_type": "raw",
   "id": "7fb1b2d7",
   "metadata": {
    "format": "text/html"
   },
   "source": [
    "</div>"
   ]
  },
  {
   "cell_type": "code",
   "execution_count": 3,
   "id": "520cc7e6-stripped",
   "metadata": {},
   "outputs": [],
   "source": [
    "\n",
    "def frameslices(n, k):\n",
    "    raise Exception('TODO IMPLEMENT ME !')\n",
    "\n",
    "    \n",
    "r1 = np.array( [[7.0, 7.0, 7.0, 7.0],\n",
    "                [7.0, 0.0, 0.0, 7.0],\n",
    "                [7.0, 0.0, 0.0, 7.0],\n",
    "                [7.0, 7.0, 7., 7.0]])\n",
    "\n",
    "# all_close return True if all the values in the first matrix are close enough\n",
    "# (that is, within a given tolerance) to corresponding values in the second\n",
    "assert np.allclose(frameslices(4, 7.0), r1) \n",
    "\n",
    "r2 = np.array( [ [7.0] ])\n",
    "assert np.allclose(frameslices(1, 7.0), r2) \n",
    "\n",
    "r3 = np.array( [ [7.0, 7.0],\n",
    "                 [7.0, 7.0]])\n",
    "assert np.allclose(frameslices(2, 7.0), r3) "
   ]
  },
  {
   "cell_type": "markdown",
   "id": "5366f025",
   "metadata": {},
   "source": [
    "## Exercise - framefill\n",
    "\n",
    "✪✪✪ Solve the precious exercise, this using  `np.full` function and with **only one slice**\n",
    "\n",
    "* **DO NOT** use `for` nor `while` loops"
   ]
  },
  {
   "cell_type": "raw",
   "id": "e6eb9f7f",
   "metadata": {
    "format": "text/html"
   },
   "source": [
    "<a  class=\"jupman-sol jupman-sol-toggler\" \n",
    " onclick=\"jupman.toggleSolution(this);\" \n",
    " data-jupman-show=\"Show solution\" data-jupman-hide=\"Hide\">Show solution</a><div class=\"jupman-sol jupman-sol-code\" style=\"display:none\">  "
   ]
  },
  {
   "cell_type": "code",
   "execution_count": 4,
   "id": "b82986ce",
   "metadata": {},
   "outputs": [],
   "source": [
    "\n",
    "def framefill(n, k):\n",
    "    \n",
    "    mat = np.full( (n,n), k)\n",
    "    \n",
    "    mat[1:n-1, 1:n-1] = 0.0\n",
    "    \n",
    "    return mat\n",
    "    \n",
    "\n",
    "    \n",
    "r1 = np.array( [[7.0, 7.0, 7.0, 7.0],\n",
    "                [7.0, 0.0, 0.0, 7.0],\n",
    "                [7.0, 0.0, 0.0, 7.0],\n",
    "                [7.0, 7.0, 7., 7.0]])\n",
    "\n",
    "# all_close return True if all the values in the first matrix are close enough\n",
    "# (that is, within a given tolerance) to corresponding values in the second\n",
    "assert np.allclose(framefill(4, 7.0), r1) \n",
    "\n",
    "r2 = np.array( [ [7.0] ])\n",
    "assert np.allclose(framefill(1, 7.0), r2) \n",
    "\n",
    "r3 = np.array( [ [7.0, 7.0],\n",
    "                 [7.0, 7.0]])\n",
    "assert np.allclose(framefill(2, 7.0), r3) "
   ]
  },
  {
   "cell_type": "raw",
   "id": "3db5ba0f",
   "metadata": {
    "format": "text/html"
   },
   "source": [
    "</div>"
   ]
  },
  {
   "cell_type": "code",
   "execution_count": 4,
   "id": "b82986ce-stripped",
   "metadata": {},
   "outputs": [],
   "source": [
    "\n",
    "def framefill(n, k):\n",
    "    raise Exception('TODO IMPLEMENT ME !')\n",
    "\n",
    "    \n",
    "r1 = np.array( [[7.0, 7.0, 7.0, 7.0],\n",
    "                [7.0, 0.0, 0.0, 7.0],\n",
    "                [7.0, 0.0, 0.0, 7.0],\n",
    "                [7.0, 7.0, 7., 7.0]])\n",
    "\n",
    "# all_close return True if all the values in the first matrix are close enough\n",
    "# (that is, within a given tolerance) to corresponding values in the second\n",
    "assert np.allclose(framefill(4, 7.0), r1) \n",
    "\n",
    "r2 = np.array( [ [7.0] ])\n",
    "assert np.allclose(framefill(1, 7.0), r2) \n",
    "\n",
    "r3 = np.array( [ [7.0, 7.0],\n",
    "                 [7.0, 7.0]])\n",
    "assert np.allclose(framefill(2, 7.0), r3) "
   ]
  },
  {
   "cell_type": "markdown",
   "id": "32ac37cf",
   "metadata": {},
   "source": [
    "## Exercise - avg_rows\n",
    "\n",
    "✪✪✪ Takes a numpy matrix n x m and RETURN a NEW numpy matrix consisting in a single column in which the values are the average of the values in corresponding rows of input matrix\n",
    "\n",
    "\n",
    "Example:\n",
    "\n",
    "Input: 5x4 matrix\n",
    "\n",
    "```\n",
    "3 2 1 4\n",
    "6 2 3 5\n",
    "4 3 6 2\n",
    "4 6 5 4\n",
    "7 2 9 3\n",
    "```\n",
    "\n",
    "Output: 5x1 matrix\n",
    "\n",
    "```\n",
    "(3+2+1+4)/4 \n",
    "(6+2+3+5)/4\n",
    "(4+3+6+2)/4\n",
    "(4+6+5+4)/4\n",
    "(7+2+9+3)/4\n",
    "```\n",
    "\n",
    "Basic version ingredients (slow)\n",
    "\n",
    "- create a matrix n x 1 to return, filling it with zeros\n",
    "- visit all cells of original matrix with two nested fors\n",
    "- during visit, accumulate in the matrix to return the sum of elements takes from each row of original matrix\n",
    "- once completed the sum of a row, you can divide it by the dimension of columns of original matrix\n",
    "- return the matrix\n",
    "\n",
    "Pro version (fast):\n",
    "\n",
    "* try using `axis` parameter and [reshape](https://www.tutorialspoint.com/numpy/numpy_reshape.htm)"
   ]
  },
  {
   "cell_type": "raw",
   "id": "55f222a4",
   "metadata": {
    "format": "text/html"
   },
   "source": [
    "<a  class=\"jupman-sol jupman-sol-toggler\" \n",
    " onclick=\"jupman.toggleSolution(this);\" \n",
    " data-jupman-show=\"Show solution\" data-jupman-hide=\"Hide\">Show solution</a><div class=\"jupman-sol jupman-sol-code\" style=\"display:none\">  "
   ]
  },
  {
   "cell_type": "code",
   "execution_count": 5,
   "id": "bd2c03eb",
   "metadata": {},
   "outputs": [],
   "source": [
    "def avg_rows(mat):\n",
    "    \n",
    "    #SLOW SOLUTION\n",
    "    nrows, ncols = mat.shape\n",
    "\n",
    "    ret = np.zeros( (nrows,1)  )\n",
    "\n",
    "    for i in range(nrows):\n",
    "\n",
    "        for j in range(ncols):\n",
    "            ret[i] += mat[i,j] \n",
    "\n",
    "        ret[i] = ret[i] / ncols\n",
    "        # for brevity we could also write\n",
    "        # ret[i] /= ncols      \n",
    "    \n",
    "    return ret\n",
    "  \n",
    "\n",
    "m1 = np.array([ [5.0] ])\n",
    "r1 = np.array([ [5.0] ])\n",
    "assert np.allclose(avg_rows(m1), r1)\n",
    "\n",
    "m2 = np.array([ [5.0, 3.0] ])            \n",
    "r2 = np.array([ [4.0] ])                                      \n",
    "assert np.allclose(avg_rows(m2), r2)\n",
    "\n",
    "\n",
    "m3 = np.array([ [3,2,1,4],\n",
    "                [6,2,3,5],\n",
    "                [4,3,6,2],\n",
    "                [4,6,5,4],\n",
    "                [7,2,9,3] ])\n",
    "\n",
    "r3 = np.array([ [(3+2+1+4)/4],\n",
    "                [(6+2+3+5)/4],\n",
    "                [(4+3+6+2)/4],\n",
    "                [(4+6+5+4)/4],\n",
    "                [(7+2+9+3)/4] ])\n",
    "\n",
    "assert np.allclose(avg_rows(m3), r3)"
   ]
  },
  {
   "cell_type": "raw",
   "id": "365460b2",
   "metadata": {
    "format": "text/html"
   },
   "source": [
    "</div>"
   ]
  },
  {
   "cell_type": "code",
   "execution_count": 5,
   "id": "bd2c03eb-stripped",
   "metadata": {},
   "outputs": [],
   "source": [
    "def avg_rows(mat):\n",
    "    raise Exception('TODO IMPLEMENT ME !')\n",
    "    return ret\n",
    "  \n",
    "\n",
    "m1 = np.array([ [5.0] ])\n",
    "r1 = np.array([ [5.0] ])\n",
    "assert np.allclose(avg_rows(m1), r1)\n",
    "\n",
    "m2 = np.array([ [5.0, 3.0] ])            \n",
    "r2 = np.array([ [4.0] ])                                      \n",
    "assert np.allclose(avg_rows(m2), r2)\n",
    "\n",
    "\n",
    "m3 = np.array([ [3,2,1,4],\n",
    "                [6,2,3,5],\n",
    "                [4,3,6,2],\n",
    "                [4,6,5,4],\n",
    "                [7,2,9,3] ])\n",
    "\n",
    "r3 = np.array([ [(3+2+1+4)/4],\n",
    "                [(6+2+3+5)/4],\n",
    "                [(4+3+6+2)/4],\n",
    "                [(4+6+5+4)/4],\n",
    "                [(7+2+9+3)/4] ])\n",
    "\n",
    "assert np.allclose(avg_rows(m3), r3)"
   ]
  },
  {
   "cell_type": "raw",
   "id": "0dda9a74",
   "metadata": {
    "format": "text/html"
   },
   "source": [
    "<a  class=\"jupman-sol jupman-sol-toggler\" \n",
    " onclick=\"jupman.toggleSolution(this);\" \n",
    " data-jupman-show=\"Show solution\" data-jupman-hide=\"Hide\">Show solution</a><div class=\"jupman-sol jupman-sol-code\" style=\"display:none\">  "
   ]
  },
  {
   "cell_type": "code",
   "execution_count": 6,
   "id": "e20d4bb2",
   "metadata": {},
   "outputs": [],
   "source": [
    "#EFFICIENT SOLUTION avg_rows_pro\n",
    "\n",
    "\n",
    "def avg_rows_pro(mat):\n",
    "    rows, cols = mat.shape       # obtain number of rows and columns\n",
    "    media = np.mean(mat, axis=1) # average for rows\n",
    "    media.shape = (rows, 1)      # trasform into a matrix with one col and n rows\n",
    "    return media\n",
    "    \n",
    "m1 = np.array([  [5.0]  ])\n",
    "r1 = np.array([  [5.0]  ])\n",
    "assert np.allclose(avg_rows_pro(m1), r1)\n",
    "\n",
    "m2 = np.array([ [5.0, 3.0] ])\n",
    "r2 = np.array([ [4.0]  ])\n",
    "assert np.allclose(avg_rows_pro(m2), r2)\n",
    "\n",
    "m3 = np.array(\n",
    "    [[3,2,1,4],\n",
    "     [6,2,3,5],\n",
    "     [4,3,6,2],\n",
    "     [4,6,5,4],\n",
    "     [7,2,9,3]])\n",
    "\n",
    "r3 = np.array([ [(3+2+1+4)/4],\n",
    "                [(6+2+3+5)/4],\n",
    "                [(4+3+6+2)/4],\n",
    "                [(4+6+5+4)/4],\n",
    "                [(7+2+9+3)/4] ])\n",
    "\n",
    "assert np.allclose(avg_rows_pro(m3), r3)\n"
   ]
  },
  {
   "cell_type": "raw",
   "id": "747b4112",
   "metadata": {
    "format": "text/html"
   },
   "source": [
    "</div>"
   ]
  },
  {
   "cell_type": "code",
   "execution_count": 6,
   "id": "e20d4bb2-stripped",
   "metadata": {},
   "outputs": [],
   "source": [
    "#EFFICIENT SOLUTION avg_rows_pro\n",
    "\n"
   ]
  },
  {
   "cell_type": "markdown",
   "id": "729cd6ae",
   "metadata": {},
   "source": [
    "\n",
    "## Exercise - matrot \n",
    "\n",
    "✪✪✪ RETURN a NEW Numpy matrix which has the numbers of input matrix rotated by a column. \n",
    "\n",
    "With rotation we mean that:\n",
    "\n",
    "- if a number of input matrix is found in column `j`, in the output matrix it will be in the column `j+1` in the same row.\n",
    "- if a number is found in the last column, in the output matrix it will be in the zertoth column\n",
    "\n",
    "Example:\n",
    "\n",
    "\n",
    "If we have as input:\n",
    "\n",
    "```python\n",
    "np.array(   [\n",
    "                [0,1,0],\n",
    "                [1,1,0],\n",
    "                [0,0,0],\n",
    "                [0,1,1]\n",
    "            ])\n",
    "```\n",
    "\n",
    "We expect as output:\n",
    "\n",
    "```python\n",
    "np.array(   [\n",
    "                [0,0,1],\n",
    "                [0,1,1],\n",
    "                [0,0,0],\n",
    "                [1,0,1]\n",
    "            ])\n",
    "```\n"
   ]
  },
  {
   "cell_type": "raw",
   "id": "b0016d8f",
   "metadata": {
    "format": "text/html"
   },
   "source": [
    "<a  class=\"jupman-sol jupman-sol-toggler\" \n",
    " onclick=\"jupman.toggleSolution(this);\" \n",
    " data-jupman-show=\"Show solution\" data-jupman-hide=\"Hide\">Show solution</a><div class=\"jupman-sol jupman-sol-code\" style=\"display:none\">  "
   ]
  },
  {
   "cell_type": "code",
   "execution_count": 7,
   "id": "33914c3a",
   "metadata": {},
   "outputs": [],
   "source": [
    "import numpy as np\n",
    "\n",
    "def matrot(mat):\n",
    "    \n",
    "    #SLOW SOLUTION\n",
    "    ret = np.zeros(mat.shape)\n",
    "\n",
    "    for i in range(mat.shape[0]):\n",
    "        ret[i,0] = mat[i,-1]\n",
    "        for j in range(1, mat.shape[1]):\n",
    "            ret[i,j] = mat[i,j-1]\n",
    "    return ret\n",
    "    \n",
    "\n",
    "m1 = np.array(  [ [1] ])\n",
    "r1 = np.array(  [ [1] ])\n",
    "\n",
    "assert np.allclose(matrot(m1), r1)\n",
    "\n",
    "m2 = np.array(  [ [0,1] ])\n",
    "r2 = np.array(  [ [1,0] ])\n",
    "assert np.allclose(matrot(m2), r2)\n",
    "\n",
    "m3 = np.array(  [ [0,1,0] ])\n",
    "r3 = np.array(  [ [0,0,1] ])\n",
    "\n",
    "assert np.allclose(matrot(m3), r3)\n",
    "\n",
    "m4 = np.array(  [ \n",
    "                    [0,1,0],\n",
    "                    [1,1,0]\n",
    "                ])\n",
    "r4 = np.array( [\n",
    "                    [0,0,1],\n",
    "                    [0,1,1]\n",
    "                ])\n",
    "assert np.allclose(matrot(m4), r4)\n",
    "\n",
    "\n",
    "m5 = np.array([\n",
    "                [0,1,0],\n",
    "                [1,1,0],\n",
    "                [0,0,0],\n",
    "                [0,1,1]\n",
    "              ])\n",
    "r5 = np.array([\n",
    "                [0,0,1],\n",
    "                [0,1,1],\n",
    "                [0,0,0],\n",
    "                [1,0,1]\n",
    "               ])\n",
    "assert np.allclose(matrot(m5), r5)"
   ]
  },
  {
   "cell_type": "raw",
   "id": "01fa8e85",
   "metadata": {
    "format": "text/html"
   },
   "source": [
    "</div>"
   ]
  },
  {
   "cell_type": "code",
   "execution_count": 7,
   "id": "33914c3a-stripped",
   "metadata": {},
   "outputs": [],
   "source": [
    "import numpy as np\n",
    "\n",
    "def matrot(mat):\n",
    "    raise Exception('TODO IMPLEMENT ME !')\n",
    "\n",
    "m1 = np.array(  [ [1] ])\n",
    "r1 = np.array(  [ [1] ])\n",
    "\n",
    "assert np.allclose(matrot(m1), r1)\n",
    "\n",
    "m2 = np.array(  [ [0,1] ])\n",
    "r2 = np.array(  [ [1,0] ])\n",
    "assert np.allclose(matrot(m2), r2)\n",
    "\n",
    "m3 = np.array(  [ [0,1,0] ])\n",
    "r3 = np.array(  [ [0,0,1] ])\n",
    "\n",
    "assert np.allclose(matrot(m3), r3)\n",
    "\n",
    "m4 = np.array(  [ \n",
    "                    [0,1,0],\n",
    "                    [1,1,0]\n",
    "                ])\n",
    "r4 = np.array( [\n",
    "                    [0,0,1],\n",
    "                    [0,1,1]\n",
    "                ])\n",
    "assert np.allclose(matrot(m4), r4)\n",
    "\n",
    "\n",
    "m5 = np.array([\n",
    "                [0,1,0],\n",
    "                [1,1,0],\n",
    "                [0,0,0],\n",
    "                [0,1,1]\n",
    "              ])\n",
    "r5 = np.array([\n",
    "                [0,0,1],\n",
    "                [0,1,1],\n",
    "                [0,0,0],\n",
    "                [1,0,1]\n",
    "               ])\n",
    "assert np.allclose(matrot(m5), r5)"
   ]
  },
  {
   "cell_type": "raw",
   "id": "c1b9b5ef",
   "metadata": {
    "format": "text/html"
   },
   "source": [
    "<a  class=\"jupman-sol jupman-sol-toggler\" \n",
    " onclick=\"jupman.toggleSolution(this);\" \n",
    " data-jupman-show=\"Show solution\" data-jupman-hide=\"Hide\">Show solution</a><div class=\"jupman-sol jupman-sol-code\" style=\"display:none\">  "
   ]
  },
  {
   "cell_type": "code",
   "execution_count": 8,
   "id": "885a22d6",
   "metadata": {},
   "outputs": [],
   "source": [
    "#EFFICIENT SOLUTION\n",
    "\n",
    "def matrot_pro(mat):\n",
    "    m = mat.shape[0]\n",
    "    n = mat.shape[1]\n",
    "    \n",
    "    ret = np.zeros((m, n))\n",
    "    \n",
    "    ret[:, 0]  = mat[:, -1]\n",
    "    ret[:, 1:] = mat[:, :-1]\n",
    "    return ret\n",
    "\n",
    "m1 = np.array(  [ [1] ])\n",
    "r1 = np.array( [  [1]  ])\n",
    "assert np.allclose(matrot_pro(m1), r1)\n",
    "\n",
    "m2 = np.array(  [ [0,1] ])\n",
    "r2 = np.array( [ [1,0] ])\n",
    "assert np.allclose(matrot_pro(m2), r2)\n",
    "\n",
    "m3 = np.array([ [0,1,0] ])\n",
    "r3 = np.array([ [0,0,1] ])\n",
    "assert np.allclose(matrot_pro(m3), r3)\n",
    "\n",
    "m4 = np.array(  [[0,1,0],\n",
    "                 [1,1,0]])\n",
    "r4 = np.array(  [[0,0,1],\n",
    "                 [0,1,1]])\n",
    "assert np.allclose(matrot_pro(m4), r4)\n",
    "\n",
    "m5 = np.array([ [0,1,0],\n",
    "                [1,1,0],\n",
    "                [0,0,0],\n",
    "                [0,1,1]])\n",
    "r5 = np.array([ [0,0,1],\n",
    "                [0,1,1],\n",
    "                [0,0,0],\n",
    "                [1,0,1]])\n",
    "assert np.allclose(matrot_pro(m5), r5) \n"
   ]
  },
  {
   "cell_type": "raw",
   "id": "31aee25c",
   "metadata": {
    "format": "text/html"
   },
   "source": [
    "</div>"
   ]
  },
  {
   "cell_type": "code",
   "execution_count": 8,
   "id": "885a22d6-stripped",
   "metadata": {},
   "outputs": [],
   "source": [
    "#EFFICIENT SOLUTION\n"
   ]
  },
  {
   "cell_type": "markdown",
   "id": "3e6fefcf",
   "metadata": {},
   "source": [
    "\n",
    "## Exercise - odd\n",
    "\n",
    "✪✪✪ Takes a Numpy matrix `mat` of dimension `nrows` by `ncols` containing integer numbers and RETURN a NEW Numpy matrix of dimension `nrows` by `ncols` which is like the original, ma in the cells which contained even numbers now there will be odd numbers obtained by summing `1` to the existing even number.\n",
    "\n",
    "Example:\n",
    "\n",
    "```python\n",
    "\n",
    "odd(np.array( [ \n",
    "                    [2,5,6,3],\n",
    "                    [8,4,3,5],\n",
    "                    [6,1,7,9]\n",
    "               ]))\n",
    "```\n",
    "Must give as output\n",
    "\n",
    "```python\n",
    "array([[ 3.,  5.,  7.,  3.],\n",
    "       [ 9.,  5.,  3.,  5.],\n",
    "       [ 7.,  1.,  7.,  9.]])\n",
    "```\n",
    "\n",
    "Basic versions hints (slow):\n",
    "\n",
    "- Since you need to return a matrix, start with creating an empty one\n",
    "- go through the whole input matrix with indeces `i` and `j`"
   ]
  },
  {
   "cell_type": "raw",
   "id": "58b7b9d1",
   "metadata": {
    "format": "text/html"
   },
   "source": [
    "<a  class=\"jupman-sol jupman-sol-toggler\" \n",
    " onclick=\"jupman.toggleSolution(this);\" \n",
    " data-jupman-show=\"Show solution\" data-jupman-hide=\"Hide\">Show solution</a><div class=\"jupman-sol jupman-sol-code\" style=\"display:none\">  "
   ]
  },
  {
   "cell_type": "code",
   "execution_count": 9,
   "id": "601aec0e",
   "metadata": {},
   "outputs": [],
   "source": [
    "import numpy as np\n",
    "\n",
    "def odd(mat):\n",
    "    \n",
    "    #SLOW SOLUTION\n",
    "    nrows, ncols = mat.shape\n",
    "    ret = np.zeros( (nrows, ncols) )\n",
    "    \n",
    "\n",
    "    for i in range(nrows):\n",
    "        for j in range(ncols):\n",
    "            if mat[i,j] % 2 == 0:\n",
    "                ret[i,j] = mat[i,j] + 1\n",
    "            else:\n",
    "                ret[i,j] = mat[i,j]\n",
    "    return ret\n",
    "    \n",
    "\n",
    "\n",
    "\n",
    "m1 = np.array([ [2] ])\n",
    "m2 = np.array([ [3] ])\n",
    "assert np.allclose(odd(m1), m2)\n",
    "assert m1[0][0] == 2  # checks we are not modifying original matrix\n",
    "\n",
    "\n",
    "m3 = np.array( [ [2,5,6,3],\n",
    "                 [8,4,3,5],\n",
    "                 [6,1,7,9] ])\n",
    "m4 = np.array( [ [3,5,7,3],\n",
    "                 [9,5,3,5],\n",
    "                 [7,1,7,9] ])\n",
    "assert np.allclose(odd(m3), m4)"
   ]
  },
  {
   "cell_type": "raw",
   "id": "d6ffa8a4",
   "metadata": {
    "format": "text/html"
   },
   "source": [
    "</div>"
   ]
  },
  {
   "cell_type": "code",
   "execution_count": 9,
   "id": "601aec0e-stripped",
   "metadata": {},
   "outputs": [],
   "source": [
    "import numpy as np\n",
    "\n",
    "def odd(mat):\n",
    "    raise Exception('TODO IMPLEMENT ME !')\n",
    "\n",
    "\n",
    "\n",
    "m1 = np.array([ [2] ])\n",
    "m2 = np.array([ [3] ])\n",
    "assert np.allclose(odd(m1), m2)\n",
    "assert m1[0][0] == 2  # checks we are not modifying original matrix\n",
    "\n",
    "\n",
    "m3 = np.array( [ [2,5,6,3],\n",
    "                 [8,4,3,5],\n",
    "                 [6,1,7,9] ])\n",
    "m4 = np.array( [ [3,5,7,3],\n",
    "                 [9,5,3,5],\n",
    "                 [7,1,7,9] ])\n",
    "assert np.allclose(odd(m3), m4)"
   ]
  },
  {
   "cell_type": "raw",
   "id": "86ccdbee",
   "metadata": {
    "format": "text/html"
   },
   "source": [
    "<a  class=\"jupman-sol jupman-sol-toggler\" \n",
    " onclick=\"jupman.toggleSolution(this);\" \n",
    " data-jupman-show=\"Show solution\" data-jupman-hide=\"Hide\">Show solution</a><div class=\"jupman-sol jupman-sol-code\" style=\"display:none\">  "
   ]
  },
  {
   "cell_type": "code",
   "execution_count": 10,
   "id": "e317904e",
   "metadata": {},
   "outputs": [],
   "source": [
    "#EFFICIENT SOLUTION 1 with np.where\n",
    "\n",
    "\n",
    "def odd_pro1(mat):\n",
    "    ret = np.array(np.where(mat % 2 == 0, mat+1, mat))\n",
    "    return ret\n",
    "\n",
    "m1 = np.array([ [2] ])\n",
    "m2 = np.array([ [3] ])\n",
    "assert np.allclose(odd_pro1(m1), m2)\n",
    "assert m1[0][0] == 2  # checks we are not modifying original matrix\n",
    "\n",
    "\n",
    "m3 = np.array( [ [2,5,6,3],\n",
    "                 [8,4,3,5],\n",
    "                 [6,1,7,9] ])\n",
    "m4 = np.array( [ [3,5,7,3],\n",
    "                 [9,5,3,5],\n",
    "                 [7,1,7,9] ])\n",
    "assert np.allclose(odd_pro1(m3), m4)\n"
   ]
  },
  {
   "cell_type": "raw",
   "id": "688ecaa2",
   "metadata": {
    "format": "text/html"
   },
   "source": [
    "</div>"
   ]
  },
  {
   "cell_type": "code",
   "execution_count": 10,
   "id": "e317904e-stripped",
   "metadata": {},
   "outputs": [],
   "source": [
    "#EFFICIENT SOLUTION 1 with np.where\n",
    "\n"
   ]
  },
  {
   "cell_type": "raw",
   "id": "8700123c",
   "metadata": {
    "format": "text/html"
   },
   "source": [
    "<a  class=\"jupman-sol jupman-sol-toggler\" \n",
    " onclick=\"jupman.toggleSolution(this);\" \n",
    " data-jupman-show=\"Show solution\" data-jupman-hide=\"Hide\">Show solution</a><div class=\"jupman-sol jupman-sol-code\" style=\"display:none\">  "
   ]
  },
  {
   "cell_type": "code",
   "execution_count": 11,
   "id": "e75f3961",
   "metadata": {},
   "outputs": [],
   "source": [
    "#EFFICIENT SOLUTION 2 without np.where\n",
    "\n",
    "\n",
    "\n",
    "def odd_pro2(mat):\n",
    "    ret = mat.copy()\n",
    "    ret[ret % 2 == 0] += 1\n",
    "    return ret\n",
    "\n",
    "m1 = np.array([ [2] ])\n",
    "m2 = np.array([ [3] ])\n",
    "assert np.allclose(odd_pro2(m1), m2)\n",
    "assert m1[0][0] == 2  # checks we are not modifying original matrix\n",
    "\n",
    "\n",
    "m3 = np.array( [ [2,5,6,3],\n",
    "                 [8,4,3,5],\n",
    "                 [6,1,7,9] ])\n",
    "m4 = np.array( [ [3,5,7,3],\n",
    "                 [9,5,3,5],\n",
    "                 [7,1,7,9] ])\n",
    "assert np.allclose(odd_pro2(m3), m4)\n"
   ]
  },
  {
   "cell_type": "raw",
   "id": "2b88f3da",
   "metadata": {
    "format": "text/html"
   },
   "source": [
    "</div>"
   ]
  },
  {
   "cell_type": "code",
   "execution_count": 11,
   "id": "e75f3961-stripped",
   "metadata": {},
   "outputs": [],
   "source": [
    "#EFFICIENT SOLUTION 2 without np.where\n",
    "\n"
   ]
  },
  {
   "cell_type": "markdown",
   "id": "b45fa24f",
   "metadata": {},
   "source": [
    "## Exercise -  doublealt\n",
    "\n",
    "✪✪✪ Takes a Numpy matrix `mat` of dimensions `nrows` x `ncols` containing integer numbers and RETURN a NEW Numpy matrix of dimension `nrows` x `ncols` having at rows of even **index** the numbers of original matrix multiplied by two, and at rows of odd **index** the same numbers as the original matrix.\n",
    "\n",
    "Example:\n",
    "\n",
    "```python\n",
    "m  = np.array( [                      #  index\n",
    "                    [ 2, 5, 6, 3],    #    0     even\n",
    "                    [ 8, 4, 3, 5],    #    1     odd\n",
    "                    [ 7, 1, 6, 9],    #    2     even\n",
    "                    [ 5, 2, 4, 1],    #    3     odd\n",
    "                    [ 6, 3, 4, 3]     #    4     even\n",
    "               ])\n",
    "```\n",
    "\n",
    "A call to\n",
    "\n",
    "```python\n",
    "doublealt(m)\n",
    "```\n",
    "\n",
    "will return the Numpy matrix:\n",
    "\n",
    "```python\n",
    "array([[ 4, 10, 12,  6],              \n",
    "       [ 8,  4,  3,  5],              \n",
    "       [14,  2, 12, 18],             \n",
    "       [ 5,  2,  4,  1],\n",
    "       [12,  6,  8,  6]])\n",
    "```"
   ]
  },
  {
   "cell_type": "raw",
   "id": "5f686efc",
   "metadata": {
    "format": "text/html"
   },
   "source": [
    "<a  class=\"jupman-sol jupman-sol-toggler\" \n",
    " onclick=\"jupman.toggleSolution(this);\" \n",
    " data-jupman-show=\"Show solution\" data-jupman-hide=\"Hide\">Show solution</a><div class=\"jupman-sol jupman-sol-code\" style=\"display:none\">  "
   ]
  },
  {
   "cell_type": "code",
   "execution_count": 12,
   "id": "37f73ce5",
   "metadata": {},
   "outputs": [],
   "source": [
    "import numpy as np\n",
    "\n",
    "def doublealt(mat):\n",
    "    \n",
    "    #SLOW SOLUTION\n",
    "    nrows, ncols = mat.shape\n",
    "    ret = np.zeros( (nrows, ncols) )\n",
    "    \n",
    "    for i in range(nrows):\n",
    "        for j in range(ncols):\n",
    "            if i % 2 == 0:\n",
    "                ret[i,j] = mat[i,j] * 2\n",
    "            else:\n",
    "                ret[i,j] = mat[i,j]\n",
    "    return ret\n",
    "    \n",
    "\n",
    "\n",
    "m1 = np.array([ [2] ])\n",
    "m2 = np.array([ [4] ])\n",
    "assert np.allclose(doublealt(m1), m2)\n",
    "assert m1[0][0] == 2  # checks we are not modifying original matrix\n",
    "\n",
    "\n",
    "m3 = np.array( [ [ 2, 5, 6],\n",
    "                 [ 8, 4, 3] ])\n",
    "m4 = np.array( [ [ 4,10,12],\n",
    "                 [ 8, 4, 3] ])\n",
    "assert np.allclose(doublealt(m3), m4)\n",
    "\n",
    "m5 = np.array( [ [ 2, 5, 6, 3],\n",
    "                 [ 8, 4, 3, 5],\n",
    "                 [ 7, 1, 6, 9],\n",
    "                 [ 5, 2, 4, 1],\n",
    "                 [ 6, 3, 4, 3] ])\n",
    "m6 = np.array( [ [ 4,10,12, 6],\n",
    "                 [ 8, 4, 3, 5],\n",
    "                 [14, 2,12,18],\n",
    "                 [ 5, 2, 4, 1],\n",
    "                 [12, 6, 8, 6] ])\n",
    "assert np.allclose(doublealt(m5), m6)"
   ]
  },
  {
   "cell_type": "raw",
   "id": "31bb8b0e",
   "metadata": {
    "format": "text/html"
   },
   "source": [
    "</div>"
   ]
  },
  {
   "cell_type": "code",
   "execution_count": 12,
   "id": "37f73ce5-stripped",
   "metadata": {},
   "outputs": [],
   "source": [
    "import numpy as np\n",
    "\n",
    "def doublealt(mat):\n",
    "    raise Exception('TODO IMPLEMENT ME !')\n",
    "\n",
    "\n",
    "m1 = np.array([ [2] ])\n",
    "m2 = np.array([ [4] ])\n",
    "assert np.allclose(doublealt(m1), m2)\n",
    "assert m1[0][0] == 2  # checks we are not modifying original matrix\n",
    "\n",
    "\n",
    "m3 = np.array( [ [ 2, 5, 6],\n",
    "                 [ 8, 4, 3] ])\n",
    "m4 = np.array( [ [ 4,10,12],\n",
    "                 [ 8, 4, 3] ])\n",
    "assert np.allclose(doublealt(m3), m4)\n",
    "\n",
    "m5 = np.array( [ [ 2, 5, 6, 3],\n",
    "                 [ 8, 4, 3, 5],\n",
    "                 [ 7, 1, 6, 9],\n",
    "                 [ 5, 2, 4, 1],\n",
    "                 [ 6, 3, 4, 3] ])\n",
    "m6 = np.array( [ [ 4,10,12, 6],\n",
    "                 [ 8, 4, 3, 5],\n",
    "                 [14, 2,12,18],\n",
    "                 [ 5, 2, 4, 1],\n",
    "                 [12, 6, 8, 6] ])\n",
    "assert np.allclose(doublealt(m5), m6)"
   ]
  },
  {
   "cell_type": "raw",
   "id": "63081fbf",
   "metadata": {
    "format": "text/html"
   },
   "source": [
    "<a  class=\"jupman-sol jupman-sol-toggler\" \n",
    " onclick=\"jupman.toggleSolution(this);\" \n",
    " data-jupman-show=\"Show solution\" data-jupman-hide=\"Hide\">Show solution</a><div class=\"jupman-sol jupman-sol-code\" style=\"display:none\">  "
   ]
  },
  {
   "cell_type": "code",
   "execution_count": 13,
   "id": "227a58df",
   "metadata": {},
   "outputs": [],
   "source": [
    "# EFFICIENT SOLUTION\n",
    "\n",
    "\n",
    "def radalt_pro(mat):\n",
    "    ret = mat.copy()    \n",
    "    ret[::2,:] *= 2    \n",
    "    return ret\n",
    "\n",
    "m1 = np.array([ [2] ])\n",
    "m2 = np.array([ [4] ])\n",
    "assert np.allclose(doublealt(m1), m2)\n",
    "assert m1[0][0] == 2  # checks we are not modifying original matrix\n",
    "\n",
    "\n",
    "m3 = np.array( [ [ 2, 5, 6],\n",
    "                 [ 8, 4, 3] ])\n",
    "m4 = np.array( [ [ 4,10,12],\n",
    "                 [ 8, 4, 3] ])\n",
    "assert np.allclose(doublealt(m3), m4)\n",
    "\n",
    "m5 = np.array( [ [ 2, 5, 6, 3],\n",
    "                 [ 8, 4, 3, 5],\n",
    "                 [ 7, 1, 6, 9],\n",
    "                 [ 5, 2, 4, 1],\n",
    "                 [ 6, 3, 4, 3] ])\n",
    "m6 = np.array( [ [ 4,10,12, 6],\n",
    "                 [ 8, 4, 3, 5],\n",
    "                 [14, 2,12,18],\n",
    "                 [ 5, 2, 4, 1],\n",
    "                 [12, 6, 8, 6] ])\n",
    "assert np.allclose(doublealt(m5), m6)\n",
    "\n"
   ]
  },
  {
   "cell_type": "raw",
   "id": "862daaf0",
   "metadata": {
    "format": "text/html"
   },
   "source": [
    "</div>"
   ]
  },
  {
   "cell_type": "code",
   "execution_count": 13,
   "id": "227a58df-stripped",
   "metadata": {},
   "outputs": [],
   "source": [
    "# EFFICIENT SOLUTION\n",
    "\n"
   ]
  },
  {
   "cell_type": "markdown",
   "id": "50bf7882",
   "metadata": {},
   "source": [
    "## Exercise - chessboard\n",
    "\n",
    "✪✪✪ RETURN a NEW Numpy matrix of `n` rows and `n` columns, in which all cells alternate zeros and ones.\n",
    "\n",
    "\n",
    "For example, `chessboard(4)` must give:\n",
    "   \n",
    " \n",
    "```python\n",
    "    array([[1.0, 0.0, 1.0, 0.0],\n",
    "           [0.0, 1.0, 0.0, 1.0],\n",
    "           [1.0, 0.0, 1.0, 0.0],\n",
    "           [0.0, 1.0, 0.0, 1.0]])\n",
    "```\n",
    "\n",
    "Basic version ingredients (slow):\n",
    "\n",
    "- to alternate, you can use `range` in the form in which takes 3 parameters, for example `range(0,n,2)` starts from 0, arrives to `n` excluded by jumping one item at a time, generating 0,2,4,6,8, ....\n",
    "- `range(1,n,2)` would instead generate 1,3,5,7, ...\n"
   ]
  },
  {
   "cell_type": "raw",
   "id": "7f1f20e6",
   "metadata": {
    "format": "text/html"
   },
   "source": [
    "<a  class=\"jupman-sol jupman-sol-toggler\" \n",
    " onclick=\"jupman.toggleSolution(this);\" \n",
    " data-jupman-show=\"Show solution\" data-jupman-hide=\"Hide\">Show solution</a><div class=\"jupman-sol jupman-sol-code\" style=\"display:none\">  "
   ]
  },
  {
   "cell_type": "code",
   "execution_count": 14,
   "id": "4c1468cc",
   "metadata": {},
   "outputs": [],
   "source": [
    "def chessboard(n):  \n",
    "    \n",
    "    #SLOW SOLUTION\n",
    "    mat = np.zeros( (n,n)  )\n",
    "    \n",
    "    for i in range(0,n, 2):\n",
    "        for j in range(0,n, 2):\n",
    "            mat[i, j] = 1\n",
    "\n",
    "    for i in range(1,n, 2):\n",
    "        for j in range(1,n, 2):\n",
    "            mat[i, j] = 1\n",
    "            \n",
    "    return mat\n",
    "    \n",
    "\n",
    "    \n",
    "r1 = np.array([[1.0, 0.0, 1.0, 0.0],\n",
    "               [0.0, 1.0, 0.0, 1.0],\n",
    "               [1.0, 0.0, 1.0, 0.0],\n",
    "               [0.0, 1.0, 0.0, 1.0]])\n",
    "assert np.allclose(chessboard(4), r1) \n",
    "\n",
    "r2 = np.array( [ [1.0] ])\n",
    "assert np.allclose(chessboard(1), r2)\n",
    "\n",
    "r3 = np.array( [ [1.0, 0.0],\n",
    "                 [0.0, 1.0] ])\n",
    "assert np.allclose(chessboard(2), r3) "
   ]
  },
  {
   "cell_type": "raw",
   "id": "fc532d06",
   "metadata": {
    "format": "text/html"
   },
   "source": [
    "</div>"
   ]
  },
  {
   "cell_type": "code",
   "execution_count": 14,
   "id": "4c1468cc-stripped",
   "metadata": {},
   "outputs": [],
   "source": [
    "def chessboard(n):  \n",
    "    raise Exception('TODO IMPLEMENT ME !')\n",
    "\n",
    "    \n",
    "r1 = np.array([[1.0, 0.0, 1.0, 0.0],\n",
    "               [0.0, 1.0, 0.0, 1.0],\n",
    "               [1.0, 0.0, 1.0, 0.0],\n",
    "               [0.0, 1.0, 0.0, 1.0]])\n",
    "assert np.allclose(chessboard(4), r1) \n",
    "\n",
    "r2 = np.array( [ [1.0] ])\n",
    "assert np.allclose(chessboard(1), r2)\n",
    "\n",
    "r3 = np.array( [ [1.0, 0.0],\n",
    "                 [0.0, 1.0] ])\n",
    "assert np.allclose(chessboard(2), r3) "
   ]
  },
  {
   "cell_type": "raw",
   "id": "976b70da",
   "metadata": {
    "format": "text/html"
   },
   "source": [
    "<a  class=\"jupman-sol jupman-sol-toggler\" \n",
    " onclick=\"jupman.toggleSolution(this);\" \n",
    " data-jupman-show=\"Show solution\" data-jupman-hide=\"Hide\">Show solution</a><div class=\"jupman-sol jupman-sol-code\" style=\"display:none\">  "
   ]
  },
  {
   "cell_type": "code",
   "execution_count": 15,
   "id": "8fe65152",
   "metadata": {},
   "outputs": [],
   "source": [
    "#FAST SOLUTION\n",
    "\n",
    "\n",
    "def chessboard_pro(n):\n",
    "    ret = np.zeros((n, n))\n",
    "    ret[::2, ::2] = 1\n",
    "    ret[1::2, 1::2] = 1\n",
    "    return ret\n",
    "\n",
    "r1 = np.array([[1.0, 0.0, 1.0, 0.0],\n",
    "               [0.0, 1.0, 0.0, 1.0],\n",
    "               [1.0, 0.0, 1.0, 0.0],\n",
    "               [0.0, 1.0, 0.0, 1.0]])\n",
    "assert np.allclose(chessboard_pro(4), r1) \n",
    "\n",
    "r2 = np.array( [ [1.0] ])\n",
    "assert np.allclose(chessboard_pro(1), r2)\n",
    "\n",
    "r3 = np.array( [ [1.0, 0.0],\n",
    "                 [0.0, 1.0] ])\n",
    "assert np.allclose(chessboard_pro(2), r3) \n"
   ]
  },
  {
   "cell_type": "raw",
   "id": "a974016b",
   "metadata": {
    "format": "text/html"
   },
   "source": [
    "</div>"
   ]
  },
  {
   "cell_type": "code",
   "execution_count": 15,
   "id": "8fe65152-stripped",
   "metadata": {},
   "outputs": [],
   "source": [
    "#FAST SOLUTION\n",
    "\n"
   ]
  },
  {
   "cell_type": "markdown",
   "id": "bf5730ba",
   "metadata": {},
   "source": [
    "## Exercise - altsum\n",
    "\n",
    "✪✪✪ MODIFY the input Numpy matrix (n x n), by summing to all the odd rows the even rows. For example\n",
    "\n",
    "```python\n",
    "    m = [[1.0, 3.0, 2.0, 5.0],\n",
    "         [2.0, 8.0, 5.0, 9.0],\n",
    "         [6.0, 9.0, 7.0, 2.0],\n",
    "         [4.0, 7.0, 2.0, 4.0]]\n",
    "    altsum(m)\n",
    "```    \n",
    "\n",
    "after the call to altsum `m` should be:\n",
    "\n",
    "```python\n",
    "    m = [[1.0, 3.0, 2.0, 5.0],\n",
    "         [3.0, 11.0,7.0, 14.0],\n",
    "         [6.0, 9.0, 7.0, 2.0],\n",
    "         [10.0,16.0,9.0, 6.0]]\n",
    "```    \n",
    "\n",
    "Basic version ingredients (slow):\n",
    "\n",
    "- to alternate, you can use `range` in the form in which takes 3 parameters, for example `range(0,n,2)` starts from 0, arrives to `n` excluded by jumping one item at a time, generating 0,2,4,6,8, ....\n",
    "- instead `range(1,n,2)` would generate 1,3,5,7, .."
   ]
  },
  {
   "cell_type": "raw",
   "id": "d671cfea",
   "metadata": {
    "format": "text/html"
   },
   "source": [
    "<a  class=\"jupman-sol jupman-sol-toggler\" \n",
    " onclick=\"jupman.toggleSolution(this);\" \n",
    " data-jupman-show=\"Show solution\" data-jupman-hide=\"Hide\">Show solution</a><div class=\"jupman-sol jupman-sol-code\" style=\"display:none\">  "
   ]
  },
  {
   "cell_type": "code",
   "execution_count": 16,
   "id": "06b42a97",
   "metadata": {},
   "outputs": [],
   "source": [
    "def altsum(mat):\n",
    "    \n",
    "    #SLOW SOLUTION\n",
    "    nrows, ncols = mat.shape \n",
    "    for i in range(1,nrows, 2):\n",
    "        for j in range(0,ncols):\n",
    "            mat[i, j] = mat[i,j] + mat[i-1, j] \n",
    "    \n",
    "\n",
    "\n",
    "m1 = np.array( [ [1.0, 3.0, 2.0, 5.0],\n",
    "                 [2.0, 8.0, 5.0, 9.0],\n",
    "                 [6.0, 9.0, 7.0, 2.0],\n",
    "                 [4.0, 7.0, 2.0, 4.0] ]) \n",
    "\n",
    "r1 = np.array(   [ [1.0, 3.0, 2.0, 5.0],\n",
    "                   [3.0, 11.0,7.0, 14.0],\n",
    "                   [6.0, 9.0, 7.0, 2.0],\n",
    "                   [10.0,16.0,9.0, 6.0] ])\n",
    "\n",
    "altsum(m1)\n",
    "assert np.allclose(m1, r1) # checks we MODIFIED the original matrix \n",
    "\n",
    "m2 = np.array( [ [5.0]  ])\n",
    "r2 = np.array( [ [5.0] ])\n",
    "altsum(m1)                  \n",
    "assert np.allclose(m2, r2) \n",
    "\n",
    "m3 = np.array( [ [6.0, 1.0],\n",
    "                 [3.0, 2.0] ])                    \n",
    "r3 = np.array( [ [6.0, 1.0],\n",
    "                 [9.0, 3.0] ])\n",
    "altsum(m3)                    \n",
    "assert np.allclose(m3, r3) "
   ]
  },
  {
   "cell_type": "raw",
   "id": "7d9af0e2",
   "metadata": {
    "format": "text/html"
   },
   "source": [
    "</div>"
   ]
  },
  {
   "cell_type": "code",
   "execution_count": 16,
   "id": "06b42a97-stripped",
   "metadata": {},
   "outputs": [],
   "source": [
    "def altsum(mat):\n",
    "    raise Exception('TODO IMPLEMENT ME !')\n",
    "\n",
    "\n",
    "m1 = np.array( [ [1.0, 3.0, 2.0, 5.0],\n",
    "                 [2.0, 8.0, 5.0, 9.0],\n",
    "                 [6.0, 9.0, 7.0, 2.0],\n",
    "                 [4.0, 7.0, 2.0, 4.0] ]) \n",
    "\n",
    "r1 = np.array(   [ [1.0, 3.0, 2.0, 5.0],\n",
    "                   [3.0, 11.0,7.0, 14.0],\n",
    "                   [6.0, 9.0, 7.0, 2.0],\n",
    "                   [10.0,16.0,9.0, 6.0] ])\n",
    "\n",
    "altsum(m1)\n",
    "assert np.allclose(m1, r1) # checks we MODIFIED the original matrix \n",
    "\n",
    "m2 = np.array( [ [5.0]  ])\n",
    "r2 = np.array( [ [5.0] ])\n",
    "altsum(m1)                  \n",
    "assert np.allclose(m2, r2) \n",
    "\n",
    "m3 = np.array( [ [6.0, 1.0],\n",
    "                 [3.0, 2.0] ])                    \n",
    "r3 = np.array( [ [6.0, 1.0],\n",
    "                 [9.0, 3.0] ])\n",
    "altsum(m3)                    \n",
    "assert np.allclose(m3, r3) "
   ]
  },
  {
   "cell_type": "raw",
   "id": "c987a103",
   "metadata": {
    "format": "text/html"
   },
   "source": [
    "<a  class=\"jupman-sol jupman-sol-toggler\" \n",
    " onclick=\"jupman.toggleSolution(this);\" \n",
    " data-jupman-show=\"Show solution\" data-jupman-hide=\"Hide\">Show solution</a><div class=\"jupman-sol jupman-sol-code\" style=\"display:none\">  "
   ]
  },
  {
   "cell_type": "code",
   "execution_count": 17,
   "id": "d11923c8",
   "metadata": {},
   "outputs": [],
   "source": [
    "#EFFICIENT SOLUTION\n",
    "\n",
    "\n",
    "def altsum_pro(mat):\n",
    "    mat[1::2] += mat[::2]\n",
    "    return mat\n",
    "\n",
    "m1 = np.array( [ [1.0, 3.0, 2.0, 5.0],\n",
    "                 [2.0, 8.0, 5.0, 9.0],\n",
    "                 [6.0, 9.0, 7.0, 2.0],\n",
    "                 [4.0, 7.0, 2.0, 4.0] ])\n",
    "\n",
    "r1 = np.array( [ [1.0, 3.0, 2.0, 5.0],\n",
    "                 [3.0, 11.0,7.0, 14.0],\n",
    "                 [6.0, 9.0, 7.0, 2.0],\n",
    "                 [10.0,16.0,9.0, 6.0] ])\n",
    "\n",
    "altsum_pro(m1)\n",
    "assert np.allclose(m1, r1)  # checks we MODIFIED the original matrix\n",
    "\n",
    "m2 = np.array( [ [5.0] ])\n",
    "r2 = np.array( [ [5.0] ])\n",
    "altsum_pro(m1)\n",
    "assert np.allclose(m2, r2)\n",
    "\n",
    "m3 = np.array( [ [6.0, 1.0],\n",
    "                 [3.0, 2.0] ])\n",
    "r3 = np.array( [ [6.0, 1.0],\n",
    "                 [9.0, 3.0] ])\n",
    "altsum_pro(m3)\n",
    "assert np.allclose(m3, r3)\n"
   ]
  },
  {
   "cell_type": "raw",
   "id": "829f3245",
   "metadata": {
    "format": "text/html"
   },
   "source": [
    "</div>"
   ]
  },
  {
   "cell_type": "code",
   "execution_count": 17,
   "id": "d11923c8-stripped",
   "metadata": {},
   "outputs": [],
   "source": [
    "#EFFICIENT SOLUTION\n",
    "\n"
   ]
  },
  {
   "cell_type": "markdown",
   "id": "2507f80b",
   "metadata": {},
   "source": [
    "## Exercise - avg_half\n",
    "\n",
    "✪✪✪ Takes as input a Numpy matrix  withan even number of columns, and RETURN as output a Numpy matrix 1x2, in which the first element will be the average of the left half of the matrix, and the second element will be the average of the right half.\n",
    "\n",
    "Ingredients: \n",
    "\n",
    "- to obtain the number of columns divided by two as integer number, use `//` operator\n"
   ]
  },
  {
   "cell_type": "raw",
   "id": "3172b979",
   "metadata": {
    "format": "text/html"
   },
   "source": [
    "<a  class=\"jupman-sol jupman-sol-toggler\" \n",
    " onclick=\"jupman.toggleSolution(this);\" \n",
    " data-jupman-show=\"Show solution\" data-jupman-hide=\"Hide\">Show solution</a><div class=\"jupman-sol jupman-sol-code\" style=\"display:none\">  "
   ]
  },
  {
   "cell_type": "code",
   "execution_count": 18,
   "id": "448a1362",
   "metadata": {},
   "outputs": [],
   "source": [
    "def avg_half(mat):\n",
    "    \n",
    "    nrows, ncols = mat.shape\n",
    "    half_cols = ncols // 2\n",
    "    \n",
    "    avg_sx = 0.0\n",
    "    avg_dx = 0.0\n",
    "        \n",
    "    for i in range(nrows):\n",
    "        for j in range(half_cols):\n",
    "            avg_sx += mat[i,j]\n",
    "        for j in range(half_cols, ncols):\n",
    "            avg_dx += mat[i,j]\n",
    "            \n",
    "    half_elements = nrows * half_cols\n",
    "    avg_sx /=  half_elements\n",
    "    avg_dx /= half_elements\n",
    "    return np.array([avg_sx, avg_dx])\n",
    "    \n",
    "\n",
    "m1 = np.array([ [7,9] ])\n",
    "\n",
    "r1 = np.array([(7)/1, (9)/1  ])\n",
    "assert np.allclose( avg_half(m1), r1)\n",
    "\n",
    "\n",
    "m2 = np.array([ [3,4],\n",
    "                [6,3],\n",
    "                [5,2] ])\n",
    "\n",
    "r2 = np.array([(3+6+5)/3, (4+3+2)/3  ])\n",
    "assert np.allclose( avg_half(m2), r2)\n",
    "\n",
    "m3 = np.array([ [3,2,1,4],\n",
    "                [6,2,3,5],\n",
    "                [4,3,6,2],\n",
    "                [4,6,5,4],\n",
    "                [7,2,9,3] ])\n",
    "\n",
    "r3 = np.array([(3+2+6+2+4+3+4+6+7+2)/10, (1+4+3+5+6+2+5+4+9+3)/10  ])\n",
    "\n",
    "assert np.allclose( avg_half(m3), r3)"
   ]
  },
  {
   "cell_type": "raw",
   "id": "f6739a66",
   "metadata": {
    "format": "text/html"
   },
   "source": [
    "</div>"
   ]
  },
  {
   "cell_type": "code",
   "execution_count": 18,
   "id": "448a1362-stripped",
   "metadata": {},
   "outputs": [],
   "source": [
    "def avg_half(mat):\n",
    "    raise Exception('TODO IMPLEMENT ME !')\n",
    "\n",
    "m1 = np.array([ [7,9] ])\n",
    "\n",
    "r1 = np.array([(7)/1, (9)/1  ])\n",
    "assert np.allclose( avg_half(m1), r1)\n",
    "\n",
    "\n",
    "m2 = np.array([ [3,4],\n",
    "                [6,3],\n",
    "                [5,2] ])\n",
    "\n",
    "r2 = np.array([(3+6+5)/3, (4+3+2)/3  ])\n",
    "assert np.allclose( avg_half(m2), r2)\n",
    "\n",
    "m3 = np.array([ [3,2,1,4],\n",
    "                [6,2,3,5],\n",
    "                [4,3,6,2],\n",
    "                [4,6,5,4],\n",
    "                [7,2,9,3] ])\n",
    "\n",
    "r3 = np.array([(3+2+6+2+4+3+4+6+7+2)/10, (1+4+3+5+6+2+5+4+9+3)/10  ])\n",
    "\n",
    "assert np.allclose( avg_half(m3), r3)"
   ]
  },
  {
   "cell_type": "raw",
   "id": "4d9e6522",
   "metadata": {
    "format": "text/html"
   },
   "source": [
    "<a  class=\"jupman-sol jupman-sol-toggler\" \n",
    " onclick=\"jupman.toggleSolution(this);\" \n",
    " data-jupman-show=\"Show solution\" data-jupman-hide=\"Hide\">Show solution</a><div class=\"jupman-sol jupman-sol-code\" style=\"display:none\">  "
   ]
  },
  {
   "cell_type": "code",
   "execution_count": 19,
   "id": "2765b280",
   "metadata": {},
   "outputs": [],
   "source": [
    "#EFFICIENT SOLUTION\n",
    "\n",
    "def avg_half_pro(mat):\n",
    "    n,m = mat.shape\n",
    "    \n",
    "    m2 = m // 2    \n",
    "    half_els = n * m2\n",
    "    \n",
    "    avg=np.zeros((1,2))\n",
    "    \n",
    "    avg[0,0]= np.sum(mat[:,:m2 ])/half_els\n",
    "    avg[0,1]= np.sum(mat[:, m2:])/half_els\n",
    "\n",
    "    return avg\n",
    "\n",
    "m1 = np.array([ [7,9] ])\n",
    "r1 = np.array([(7)/1, (9)/1  ])\n",
    "assert np.allclose( avg_half_pro(m1), r1)\n",
    "\n",
    "\n",
    "m2 = np.array([ [3,4],\n",
    "                [6,3],\n",
    "                [5,2] ])\n",
    "r2 = np.array([(3+6+5)/3, (4+3+2)/3  ])\n",
    "assert np.allclose( avg_half_pro(m2), r2)\n",
    "\n",
    "m3 = np.array([ [3,2,1,4],\n",
    "                [6,2,3,5],\n",
    "                [4,3,6,2],\n",
    "                [4,6,5,4],\n",
    "                [7,2,9,3] ])\n",
    "r3 = np.array([(3+2+6+2+4+3+4+6+7+2)/10, (1+4+3+5+6+2+5+4+9+3)/10  ])\n",
    "assert np.allclose( avg_half_pro(m3), r3)\n",
    "\n"
   ]
  },
  {
   "cell_type": "raw",
   "id": "311c8736",
   "metadata": {
    "format": "text/html"
   },
   "source": [
    "</div>"
   ]
  },
  {
   "cell_type": "code",
   "execution_count": 19,
   "id": "2765b280-stripped",
   "metadata": {},
   "outputs": [],
   "source": [
    "#EFFICIENT SOLUTION\n"
   ]
  },
  {
   "cell_type": "markdown",
   "id": "15f31c1c",
   "metadata": {},
   "source": [
    "## Exercise - matxarr\n",
    "\n",
    "✪✪ Takes a Numpy matrix `n` x `m` and an `ndarray` of `m` elements, and RETURN a NEW Numpy matrix in which the values of each column of input matrix are multiplied by the corresponding value in the `n` elements array."
   ]
  },
  {
   "cell_type": "raw",
   "id": "a6248656",
   "metadata": {
    "format": "text/html"
   },
   "source": [
    "<a  class=\"jupman-sol jupman-sol-toggler\" \n",
    " onclick=\"jupman.toggleSolution(this);\" \n",
    " data-jupman-show=\"Show solution\" data-jupman-hide=\"Hide\">Show solution</a><div class=\"jupman-sol jupman-sol-code\" style=\"display:none\">  "
   ]
  },
  {
   "cell_type": "code",
   "execution_count": 20,
   "id": "e59011b7",
   "metadata": {},
   "outputs": [],
   "source": [
    "\n",
    "def matxarr(mat, arr):\n",
    "    \n",
    "    #SLOW SOLUTION\n",
    "    \n",
    "    ret = np.zeros( mat.shape )\n",
    "    \n",
    "    for i in range(mat.shape[0]):\n",
    "        for j in range(mat.shape[1]):\n",
    "            ret[i,j] = mat[i,j] * arr[j]            \n",
    "    \n",
    "    return ret\n",
    "    \n",
    "    \n",
    "m1 = np.array([ [3,2,1],\n",
    "               [6,2,3],\n",
    "               [4,3,6],\n",
    "               [4,6,5]])    \n",
    "a1 = [5, 2, 6]\n",
    "r1 = [ [3*5, 2*2, 1*6],\n",
    "               [6*5, 2*2, 3*6],\n",
    "               [4*5, 3*2, 6*6],\n",
    "               [4*5, 6*2, 5*6]]\n",
    "\n",
    "assert np.allclose(matxarr(m1,a1), r1)"
   ]
  },
  {
   "cell_type": "raw",
   "id": "77f302ee",
   "metadata": {
    "format": "text/html"
   },
   "source": [
    "</div>"
   ]
  },
  {
   "cell_type": "code",
   "execution_count": 20,
   "id": "e59011b7-stripped",
   "metadata": {},
   "outputs": [],
   "source": [
    "\n",
    "def matxarr(mat, arr):\n",
    "    raise Exception('TODO IMPLEMENT ME !')\n",
    "    \n",
    "m1 = np.array([ [3,2,1],\n",
    "               [6,2,3],\n",
    "               [4,3,6],\n",
    "               [4,6,5]])    \n",
    "a1 = [5, 2, 6]\n",
    "r1 = [ [3*5, 2*2, 1*6],\n",
    "               [6*5, 2*2, 3*6],\n",
    "               [4*5, 3*2, 6*6],\n",
    "               [4*5, 6*2, 5*6]]\n",
    "\n",
    "assert np.allclose(matxarr(m1,a1), r1)"
   ]
  },
  {
   "cell_type": "raw",
   "id": "8f186d15",
   "metadata": {
    "format": "text/html"
   },
   "source": [
    "<a  class=\"jupman-sol jupman-sol-toggler\" \n",
    " onclick=\"jupman.toggleSolution(this);\" \n",
    " data-jupman-show=\"Show solution\" data-jupman-hide=\"Hide\">Show solution</a><div class=\"jupman-sol jupman-sol-code\" style=\"display:none\">  "
   ]
  },
  {
   "cell_type": "code",
   "execution_count": 21,
   "id": "1ff47356",
   "metadata": {},
   "outputs": [],
   "source": [
    "#EFFICIENT SOLUTION\n",
    "\n",
    "def matxarr_pro(mat, arr):\n",
    "    return np.array(arr) * mat\n",
    "\n",
    "m1 = np.array([ [3,2,1],\n",
    "               [6,2,3],\n",
    "               [4,3,6],\n",
    "               [4,6,5]])    \n",
    "a1 = [5, 2, 6]\n",
    "r1 = [ [3*5, 2*2, 1*6],\n",
    "               [6*5, 2*2, 3*6],\n",
    "               [4*5, 3*2, 6*6],\n",
    "               [4*5, 6*2, 5*6]]\n",
    "\n",
    "assert np.allclose(matxarr_pro(m1,a1), r1)\n"
   ]
  },
  {
   "cell_type": "raw",
   "id": "eec34f39",
   "metadata": {
    "format": "text/html"
   },
   "source": [
    "</div>"
   ]
  },
  {
   "cell_type": "code",
   "execution_count": 21,
   "id": "1ff47356-stripped",
   "metadata": {},
   "outputs": [],
   "source": [
    "#EFFICIENT SOLUTION\n"
   ]
  },
  {
   "cell_type": "markdown",
   "id": "1889ed8a",
   "metadata": {},
   "source": [
    "## Exercise - colgap\n",
    "\n",
    "✪✪ Given a numpy matrix of $n$ rows and $m$ columns, RETURN a numpy vector of $m$ elements consisting in the difference between the maximum and minimum values of each column.\n",
    "\n",
    "Example:\n",
    "\n",
    "```python\n",
    "m = np.array([[5,4,2],\n",
    "              [8,5,1],\n",
    "              [6,7,9],\n",
    "              [3,6,4],\n",
    "              [4,3,7]])\n",
    ">>> colgap(m)\n",
    "array([5, 4, 8])\n",
    "```\n",
    "\n",
    "because:\n",
    "\n",
    "```\n",
    "5 = 8 - 3\n",
    "4 = 7 - 3\n",
    "8 = 9 - 1\n",
    "```\n"
   ]
  },
  {
   "cell_type": "raw",
   "id": "e5cebf50",
   "metadata": {
    "format": "text/html"
   },
   "source": [
    "<a  class=\"jupman-sol jupman-sol-toggler\" \n",
    " onclick=\"jupman.toggleSolution(this);\" \n",
    " data-jupman-show=\"Show solution\" data-jupman-hide=\"Hide\">Show solution</a><div class=\"jupman-sol jupman-sol-code\" style=\"display:none\">  "
   ]
  },
  {
   "cell_type": "code",
   "execution_count": 22,
   "id": "d1179ab2",
   "metadata": {},
   "outputs": [],
   "source": [
    "import numpy as np\n",
    "\n",
    "def colgap(mat):\n",
    "    \n",
    "    #SLOW SOLUTION\n",
    "    mx = mat[0].copy()\n",
    "    mn = mat[0].copy()\n",
    "    for i in range(mat.shape[0]):\n",
    "        for j in range(mat.shape[1]):\n",
    "            if mat[i,j] > mx[j]:\n",
    "                mx[j] = mat[i,j]            \n",
    "            if mat[i,j] < mn[j]:\n",
    "                mn[j] = mat[i,j]    \n",
    "    return mx - mn\n",
    "    \n",
    "\n",
    "# TEST\n",
    "m1 = np.array([[6]])\n",
    "assert np.allclose(colgap(m1), np.array([0]))\n",
    "ret = colgap(m1)\n",
    "assert type(ret) == np.ndarray\n",
    "\n",
    "m2 = np.array([[6,8]])\n",
    "assert np.allclose(colgap(m2), np.array([0,0]))\n",
    "m3 = np.array([[2],\n",
    "               [5]])    \n",
    "\n",
    "assert np.allclose(colgap(m3), np.array([3]))\n",
    "m4 = np.array([[5,7],\n",
    "               [2,9]])    \n",
    "assert np.allclose(colgap(m4), np.array([3,2]))\n",
    "m5 = np.array([[4,7],\n",
    "               [4,9]])\n",
    "assert np.allclose(colgap(m5), np.array([0,2]))\n",
    "m6 = np.array([[5,2],\n",
    "               [3,7],\n",
    "               [9,0]])\n",
    "assert np.allclose(colgap(m6), np.array([6,7]))\n",
    "m7 = np.array([[5,4,2],\n",
    "               [8,5,1],\n",
    "               [6,7,9],\n",
    "               [3,6,4],\n",
    "               [4,3,7]])    \n",
    "assert np.allclose(colgap(m7), np.array([5,4,8]))"
   ]
  },
  {
   "cell_type": "raw",
   "id": "ffc99c37",
   "metadata": {
    "format": "text/html"
   },
   "source": [
    "</div>"
   ]
  },
  {
   "cell_type": "code",
   "execution_count": 22,
   "id": "d1179ab2-stripped",
   "metadata": {},
   "outputs": [],
   "source": [
    "import numpy as np\n",
    "\n",
    "def colgap(mat):\n",
    "    raise Exception('TODO IMPLEMENT ME !')\n",
    "\n",
    "# TEST\n",
    "m1 = np.array([[6]])\n",
    "assert np.allclose(colgap(m1), np.array([0]))\n",
    "ret = colgap(m1)\n",
    "assert type(ret) == np.ndarray\n",
    "\n",
    "m2 = np.array([[6,8]])\n",
    "assert np.allclose(colgap(m2), np.array([0,0]))\n",
    "m3 = np.array([[2],\n",
    "               [5]])    \n",
    "\n",
    "assert np.allclose(colgap(m3), np.array([3]))\n",
    "m4 = np.array([[5,7],\n",
    "               [2,9]])    \n",
    "assert np.allclose(colgap(m4), np.array([3,2]))\n",
    "m5 = np.array([[4,7],\n",
    "               [4,9]])\n",
    "assert np.allclose(colgap(m5), np.array([0,2]))\n",
    "m6 = np.array([[5,2],\n",
    "               [3,7],\n",
    "               [9,0]])\n",
    "assert np.allclose(colgap(m6), np.array([6,7]))\n",
    "m7 = np.array([[5,4,2],\n",
    "               [8,5,1],\n",
    "               [6,7,9],\n",
    "               [3,6,4],\n",
    "               [4,3,7]])    \n",
    "assert np.allclose(colgap(m7), np.array([5,4,8]))"
   ]
  },
  {
   "cell_type": "raw",
   "id": "85eb79c4",
   "metadata": {
    "format": "text/html"
   },
   "source": [
    "<a  class=\"jupman-sol jupman-sol-toggler\" \n",
    " onclick=\"jupman.toggleSolution(this);\" \n",
    " data-jupman-show=\"Show solution\" data-jupman-hide=\"Hide\">Show solution</a><div class=\"jupman-sol jupman-sol-code\" style=\"display:none\">  "
   ]
  },
  {
   "cell_type": "code",
   "execution_count": 23,
   "id": "adf38347",
   "metadata": {},
   "outputs": [],
   "source": [
    "#EFFICIENT SOLUTION\n",
    "\n",
    "def colgap_pro(mat):    \n",
    "    mx = np.max(mat, axis=0)\n",
    "    mn = np.min(mat, axis=0)\n",
    "    return mx - mn    \n",
    "\n",
    "# TEST\n",
    "m1 = np.array([[6]])\n",
    "assert np.allclose(colgap_pro(m1), np.array([0]))\n",
    "ret = colgap_pro(m1)\n",
    "assert type(ret) == np.ndarray\n",
    "\n",
    "m2 = np.array([[6,8]])\n",
    "assert np.allclose(colgap_pro(m2), np.array([0,0]))\n",
    "m3 = np.array([[2],\n",
    "               [5]])    \n",
    "assert np.allclose(colgap_pro(m3), np.array([3]))\n",
    "m4 = np.array([[5,7],\n",
    "               [2,9]])    \n",
    "assert np.allclose(colgap_pro(m4), np.array([3,2]))\n",
    "m5 = np.array([[4,7],\n",
    "               [4,9]])\n",
    "assert np.allclose(colgap_pro(m5), np.array([0,2]))\n",
    "m6 = np.array([[5,2],\n",
    "               [3,7],\n",
    "               [9,0]])\n",
    "assert np.allclose(colgap_pro(m6), np.array([6,7]))\n",
    "m7 = np.array([[5,4,2],\n",
    "               [8,5,1],\n",
    "               [6,7,9],\n",
    "               [3,6,4],\n",
    "               [4,3,7]])    \n",
    "assert np.allclose(colgap_pro(m7), np.array([5,4,8]))\n"
   ]
  },
  {
   "cell_type": "raw",
   "id": "06cdb162",
   "metadata": {
    "format": "text/html"
   },
   "source": [
    "</div>"
   ]
  },
  {
   "cell_type": "code",
   "execution_count": 23,
   "id": "adf38347-stripped",
   "metadata": {},
   "outputs": [],
   "source": [
    "#EFFICIENT SOLUTION\n"
   ]
  },
  {
   "cell_type": "markdown",
   "id": "7255ae27",
   "metadata": {},
   "source": [
    "## Exercise - substmax\n",
    "\n",
    "✪✪ Given an $n$ x $m$ numpy matrix `mat`, MODIFY the matrix substituting each cell with the maximum value found in the corresponding column.\n",
    "\n",
    "Example:\n",
    "\n",
    "```python\n",
    ">>> m  = np.array([[5,4,2],\n",
    "                   [8,5,1],\n",
    "                   [6,7,9],\n",
    "                   [3,6,4],\n",
    "                   [4,3,7]])\n",
    ">>> substmax(m)    # returns nothing!\n",
    ">>> m\n",
    "np.array([[8, 7, 9],\n",
    "          [8, 7, 9],\n",
    "          [8, 7, 9],\n",
    "          [8, 7, 9],\n",
    "          [8, 7, 9]])\n",
    "```          "
   ]
  },
  {
   "cell_type": "raw",
   "id": "c71dc6ce",
   "metadata": {
    "format": "text/html"
   },
   "source": [
    "<a  class=\"jupman-sol jupman-sol-toggler\" \n",
    " onclick=\"jupman.toggleSolution(this);\" \n",
    " data-jupman-show=\"Show solution\" data-jupman-hide=\"Hide\">Show solution</a><div class=\"jupman-sol jupman-sol-code\" style=\"display:none\">  "
   ]
  },
  {
   "cell_type": "code",
   "execution_count": 24,
   "id": "5f7234dc",
   "metadata": {},
   "outputs": [],
   "source": [
    "\n",
    "import numpy as np\n",
    "\n",
    "def substmax(mat):\n",
    "    \n",
    "    #SLOW SOLUTION\n",
    "    mx = mat[0].copy()\n",
    "    for i in range(mat.shape[0]):\n",
    "        for j in range(mat.shape[1]):\n",
    "            if mat[i,j] > mx[j]:\n",
    "                mx[j] = mat[i,j]            \n",
    "    for i in range(mat.shape[0]):\n",
    "        for j in range(mat.shape[1]):\n",
    "            mat[i,j] = mx[j]\n",
    "    \n",
    "\n",
    "# TEST\n",
    "m1 = np.array([[6]])\n",
    "substmax(m1)\n",
    "assert np.allclose(m1, np.array([6]))\n",
    "ret = substmax(m1)  \n",
    "assert ret == None # returns nothing!\n",
    "\n",
    "m2 = np.array([[6,8]])\n",
    "substmax(m2)\n",
    "assert np.allclose(m2, np.array([6,8]))\n",
    "\n",
    "m3 = np.array([[2],\n",
    "               [5]])\n",
    "substmax(m3)\n",
    "assert np.allclose(m3, np.array([[5],\n",
    "                                 [5]]))\n",
    "\n",
    "m4 = np.array([[5,7],\n",
    "               [2,9]]) \n",
    "substmax(m4)\n",
    "\n",
    "assert np.allclose(m4, np.array([[5,9],\n",
    "                                 [5,9]]))\n",
    "\n",
    "m5 = np.array([[4,7],\n",
    "               [4,9]])\n",
    "substmax(m5)\n",
    "assert np.allclose(m5, np.array([[4,9],\n",
    "                                 [4,9]]))\n",
    "\n",
    "m6 = np.array([[5,2],\n",
    "               [3,7],\n",
    "               [9,0]])\n",
    "substmax(m6)\n",
    "assert np.allclose(m6, np.array([[9,7],\n",
    "                                 [9,7],\n",
    "                                 [9,7]]))\n",
    "\n",
    "m7 = np.array([[5,4,2],\n",
    "               [8,5,1],\n",
    "               [6,7,9],\n",
    "               [3,6,4],\n",
    "               [4,3,7]])\n",
    "substmax(m7)\n",
    "assert np.allclose(m7, np.array([[8, 7, 9],\n",
    "                                 [8, 7, 9],\n",
    "                                 [8, 7, 9],\n",
    "                                 [8, 7, 9],\n",
    "                                 [8, 7, 9]]))"
   ]
  },
  {
   "cell_type": "raw",
   "id": "1306394f",
   "metadata": {
    "format": "text/html"
   },
   "source": [
    "</div>"
   ]
  },
  {
   "cell_type": "code",
   "execution_count": 24,
   "id": "5f7234dc-stripped",
   "metadata": {},
   "outputs": [],
   "source": [
    "\n",
    "import numpy as np\n",
    "\n",
    "def substmax(mat):\n",
    "    raise Exception('TODO IMPLEMENT ME !')\n",
    "\n",
    "# TEST\n",
    "m1 = np.array([[6]])\n",
    "substmax(m1)\n",
    "assert np.allclose(m1, np.array([6]))\n",
    "ret = substmax(m1)  \n",
    "assert ret == None # returns nothing!\n",
    "\n",
    "m2 = np.array([[6,8]])\n",
    "substmax(m2)\n",
    "assert np.allclose(m2, np.array([6,8]))\n",
    "\n",
    "m3 = np.array([[2],\n",
    "               [5]])\n",
    "substmax(m3)\n",
    "assert np.allclose(m3, np.array([[5],\n",
    "                                 [5]]))\n",
    "\n",
    "m4 = np.array([[5,7],\n",
    "               [2,9]]) \n",
    "substmax(m4)\n",
    "\n",
    "assert np.allclose(m4, np.array([[5,9],\n",
    "                                 [5,9]]))\n",
    "\n",
    "m5 = np.array([[4,7],\n",
    "               [4,9]])\n",
    "substmax(m5)\n",
    "assert np.allclose(m5, np.array([[4,9],\n",
    "                                 [4,9]]))\n",
    "\n",
    "m6 = np.array([[5,2],\n",
    "               [3,7],\n",
    "               [9,0]])\n",
    "substmax(m6)\n",
    "assert np.allclose(m6, np.array([[9,7],\n",
    "                                 [9,7],\n",
    "                                 [9,7]]))\n",
    "\n",
    "m7 = np.array([[5,4,2],\n",
    "               [8,5,1],\n",
    "               [6,7,9],\n",
    "               [3,6,4],\n",
    "               [4,3,7]])\n",
    "substmax(m7)\n",
    "assert np.allclose(m7, np.array([[8, 7, 9],\n",
    "                                 [8, 7, 9],\n",
    "                                 [8, 7, 9],\n",
    "                                 [8, 7, 9],\n",
    "                                 [8, 7, 9]]))"
   ]
  },
  {
   "cell_type": "raw",
   "id": "7575572f",
   "metadata": {
    "format": "text/html"
   },
   "source": [
    "<a  class=\"jupman-sol jupman-sol-toggler\" \n",
    " onclick=\"jupman.toggleSolution(this);\" \n",
    " data-jupman-show=\"Show solution\" data-jupman-hide=\"Hide\">Show solution</a><div class=\"jupman-sol jupman-sol-code\" style=\"display:none\">  "
   ]
  },
  {
   "cell_type": "code",
   "execution_count": 25,
   "id": "1b4c4256",
   "metadata": {},
   "outputs": [],
   "source": [
    "#EFFICIENT SOLUTION\n",
    "\n",
    "\n",
    "def substmax_pro(mat):        \n",
    "    mat[:,:] = np.max(mat, axis=0)\n",
    "\n",
    "# TEST\n",
    "m1 = np.array([[6]])\n",
    "substmax_pro(m1)\n",
    "assert np.allclose(m1, np.array([6]))\n",
    "ret = substmax_pro(m1)  \n",
    "assert ret == None # non ritorna nulla!\n",
    "\n",
    "m2 = np.array([[6,8]])\n",
    "substmax_pro(m2)\n",
    "assert np.allclose(m2, np.array([6,8]))\n",
    "\n",
    "m3 = np.array([[2],\n",
    "               [5]])\n",
    "substmax_pro(m3)\n",
    "assert np.allclose(m3, np.array([[5],\n",
    "                                 [5]]))\n",
    "\n",
    "m4 = np.array([[5,7],\n",
    "               [2,9]]) \n",
    "substmax_pro(m4)\n",
    "\n",
    "assert np.allclose(m4, np.array([[5,9],\n",
    "                                 [5,9]]))\n",
    "\n",
    "m5 = np.array([[4,7],\n",
    "               [4,9]])\n",
    "substmax_pro(m5)\n",
    "assert np.allclose(m5, np.array([[4,9],\n",
    "                                 [4,9]]))\n",
    "\n",
    "m6 = np.array([[5,2],\n",
    "               [3,7],\n",
    "               [9,0]])\n",
    "substmax_pro(m6)\n",
    "assert np.allclose(m6, np.array([[9,7],\n",
    "                                 [9,7],\n",
    "                                 [9,7]]))\n",
    "\n",
    "m7 = np.array([[5,4,2],\n",
    "               [8,5,1],\n",
    "               [6,7,9],\n",
    "               [3,6,4],\n",
    "               [4,3,7]])\n",
    "substmax_pro(m7)\n",
    "assert np.allclose(m7, np.array([[8, 7, 9],\n",
    "                                 [8, 7, 9],\n",
    "                                 [8, 7, 9],\n",
    "                                 [8, 7, 9],\n",
    "                                 [8, 7, 9]]))\n",
    "                   "
   ]
  },
  {
   "cell_type": "raw",
   "id": "21b7f901",
   "metadata": {
    "format": "text/html"
   },
   "source": [
    "</div>"
   ]
  },
  {
   "cell_type": "code",
   "execution_count": 25,
   "id": "1b4c4256-stripped",
   "metadata": {},
   "outputs": [],
   "source": [
    "#EFFICIENT SOLUTION\n",
    "\n",
    "                   "
   ]
  },
  {
   "cell_type": "markdown",
   "id": "f0c4c274",
   "metadata": {},
   "source": [
    "## Exercise - quadrants\n",
    "\n",
    "✪✪✪ Given a matrix `2n * 2n`, divide the matrix in 4 equal square parts   (see example) and RETURN a NEW matrix `2 * 2` containing the average of each quadrant.\n",
    "\n",
    "We assume the matrix is always of even dimensions\n",
    "\n",
    "HINT: to divide by two and obtain an integer number, use `//` operator\n",
    "\n",
    "\n",
    "Example:\n",
    "\n",
    "```\n",
    " 1, 2 , 5 , 7\n",
    " 4, 1 , 8 , 0\n",
    " 2, 0 , 5 , 1 \n",
    " 0, 2 , 1 , 1 \n",
    "```\n",
    "can be divided in \n",
    "\n",
    "```\n",
    "  1, 2 | 5 , 7\n",
    "  4, 1 | 8 , 0\n",
    "----------------- \n",
    "  2, 0 | 5 , 1 \n",
    "  0, 2 | 1 , 1 \n",
    "```\n",
    "\n",
    "and returns\n",
    "\n",
    "```\n",
    "  (1+2+4+1)/ 4  | (5+7+8+0)/4                        2.0 , 5.0 \n",
    "  -----------------------------            =>        1.0 , 2.0 \n",
    "  (2+0+0+2)/4   | (5+1+1+1)/4  \n",
    "```"
   ]
  },
  {
   "cell_type": "raw",
   "id": "c4c66f5a",
   "metadata": {
    "format": "text/html"
   },
   "source": [
    "<a  class=\"jupman-sol jupman-sol-toggler\" \n",
    " onclick=\"jupman.toggleSolution(this);\" \n",
    " data-jupman-show=\"Show solution\" data-jupman-hide=\"Hide\">Show solution</a><div class=\"jupman-sol jupman-sol-code\" style=\"display:none\">  "
   ]
  },
  {
   "cell_type": "code",
   "execution_count": 26,
   "id": "b3700a13",
   "metadata": {},
   "outputs": [],
   "source": [
    "\n",
    "\n",
    "import numpy as np\n",
    "\n",
    "def quadrants(mat):\n",
    "    \n",
    "    #SLOW SOLUTION\n",
    "    ret = np.zeros( (2,2) )\n",
    "    \n",
    "    dim = mat.shape[0] \n",
    "    n = dim // 2\n",
    "    elements_per_quad = n * n\n",
    "    \n",
    "    for i in range(n):\n",
    "        for j in range(n):\n",
    "            ret[0,0] += mat[i,j]\n",
    "    ret[0,0] /=   elements_per_quad\n",
    "        \n",
    "      \n",
    "    for i in range(n,dim):\n",
    "        for j in range(n):\n",
    "            ret[1,0] += mat[i,j]\n",
    "    ret[1,0] /= elements_per_quad\n",
    "\n",
    "    for i in range(n,dim):\n",
    "        for j in range(n,dim):\n",
    "            ret[1,1] += mat[i,j]\n",
    "    ret[1,1] /= elements_per_quad\n",
    "\n",
    "    for i in range(n):\n",
    "        for j in range(n,dim):\n",
    "            ret[0,1] += mat[i,j]\n",
    "    ret[0,1] /= elements_per_quad\n",
    "    \n",
    "    return ret\n",
    "    \n",
    "        \n",
    "\n",
    "m1 = np.array( [ [3.0, 5.0],\n",
    "                 [4.0, 9.0] ])\n",
    "r1 = np.array([  [3.0, 5.0],\n",
    "                 [4.0, 9.0],\n",
    "              ])\n",
    "assert np.allclose(quadrants(m1),r1)\n",
    "\n",
    "m2 = np.array( [ [1.0, 2.0 , 5.0 , 7.0],\n",
    "                 [4.0, 1.0 , 8.0 , 0.0],\n",
    "                 [2.0, 0.0 , 5.0 , 1.0], \n",
    "                 [0.0, 2.0 , 1.0 , 1.0] ])\n",
    "r2 = np.array( [ [2.0, 5.0],\n",
    "                 [1.0, 2.0] ] )\n",
    "assert np.allclose(quadrants(m2),r2)"
   ]
  },
  {
   "cell_type": "raw",
   "id": "8698ff52",
   "metadata": {
    "format": "text/html"
   },
   "source": [
    "</div>"
   ]
  },
  {
   "cell_type": "code",
   "execution_count": 26,
   "id": "b3700a13-stripped",
   "metadata": {},
   "outputs": [],
   "source": [
    "\n",
    "\n",
    "import numpy as np\n",
    "\n",
    "def quadrants(mat):\n",
    "    raise Exception('TODO IMPLEMENT ME !')\n",
    "        \n",
    "\n",
    "m1 = np.array( [ [3.0, 5.0],\n",
    "                 [4.0, 9.0] ])\n",
    "r1 = np.array([  [3.0, 5.0],\n",
    "                 [4.0, 9.0],\n",
    "              ])\n",
    "assert np.allclose(quadrants(m1),r1)\n",
    "\n",
    "m2 = np.array( [ [1.0, 2.0 , 5.0 , 7.0],\n",
    "                 [4.0, 1.0 , 8.0 , 0.0],\n",
    "                 [2.0, 0.0 , 5.0 , 1.0], \n",
    "                 [0.0, 2.0 , 1.0 , 1.0] ])\n",
    "r2 = np.array( [ [2.0, 5.0],\n",
    "                 [1.0, 2.0] ] )\n",
    "assert np.allclose(quadrants(m2),r2)"
   ]
  },
  {
   "cell_type": "raw",
   "id": "d5ad3f84",
   "metadata": {
    "format": "text/html"
   },
   "source": [
    "<a  class=\"jupman-sol jupman-sol-toggler\" \n",
    " onclick=\"jupman.toggleSolution(this);\" \n",
    " data-jupman-show=\"Show solution\" data-jupman-hide=\"Hide\">Show solution</a><div class=\"jupman-sol jupman-sol-code\" style=\"display:none\">  "
   ]
  },
  {
   "cell_type": "code",
   "execution_count": 27,
   "id": "faa6e74f",
   "metadata": {},
   "outputs": [],
   "source": [
    "#EFFICIENT SOLUTION\n",
    "\n",
    "def quadrants_pro(matrice):\n",
    "    m = matrice.shape[0]\n",
    "    \n",
    "    ret = np.zeros((2, 2))\n",
    "    \n",
    "    n = m // 2\n",
    "    \n",
    "    qarea = n * n\n",
    "    \n",
    "    ret[0, 0] = np.sum(matrice[:n, :n]) / qarea\n",
    "    ret[0, 1] = np.sum(matrice[:n, n:]) / qarea\n",
    "    ret[1, 0] = np.sum(matrice[n:, :n]) / qarea\n",
    "    ret[1, 1] = np.sum(matrice[n:, n:]) / qarea\n",
    "    \n",
    "    return ret\n",
    "\n",
    "m1 = np.array( [ [3.0, 5.0],\n",
    "                 [4.0, 9.0] ])\n",
    "r1 = np.array([  [3.0, 5.0],\n",
    "                 [4.0, 9.0],\n",
    "              ])\n",
    "assert np.allclose(quadrants_pro(m1),r1)\n",
    "\n",
    "m2 = np.array( [ [1.0, 2.0 , 5.0 , 7.0],\n",
    "                 [4.0, 1.0 , 8.0 , 0.0],\n",
    "                 [2.0, 0.0 , 5.0 , 1.0],\n",
    "                 [0.0, 2.0 , 1.0 , 1.0] ])\n",
    "r2 = np.array( [ [2.0, 5.0],\n",
    "                 [1.0, 2.0] ] )\n",
    "assert np.allclose(quadrants_pro(m2),r2)\n"
   ]
  },
  {
   "cell_type": "raw",
   "id": "7cf46514",
   "metadata": {
    "format": "text/html"
   },
   "source": [
    "</div>"
   ]
  },
  {
   "cell_type": "code",
   "execution_count": 27,
   "id": "faa6e74f-stripped",
   "metadata": {},
   "outputs": [],
   "source": [
    "#EFFICIENT SOLUTION\n"
   ]
  },
  {
   "cell_type": "markdown",
   "id": "8986b33c",
   "metadata": {},
   "source": [
    "## Exercise - downup\n",
    "\n",
    "✪✪✪ Write a function which given the dimensions of `n` rows and `m` columns, RETURN a NEW `n` x `m` numpy matrix with sequences which go down and up in alternating rows as in the examples.\n",
    "\n",
    "- if `m` is odd, raises `ValueError`\n",
    "\n",
    "\n",
    "```python\n",
    ">>> downup(6,10)\n",
    "array([[0., 0., 0., 0., 0., 4., 3., 2., 1., 0.],\n",
    "       [0., 1., 2., 3., 4., 0., 0., 0., 0., 0.],\n",
    "       [0., 0., 0., 0., 0., 4., 3., 2., 1., 0.],\n",
    "       [0., 1., 2., 3., 4., 0., 0., 0., 0., 0.],\n",
    "       [0., 0., 0., 0., 0., 4., 3., 2., 1., 0.],\n",
    "       [0., 1., 2., 3., 4., 0., 0., 0., 0., 0.]])\n",
    "```\n"
   ]
  },
  {
   "cell_type": "raw",
   "id": "85d5b423",
   "metadata": {
    "format": "text/html"
   },
   "source": [
    "<a  class=\"jupman-sol jupman-sol-toggler\" \n",
    " onclick=\"jupman.toggleSolution(this);\" \n",
    " data-jupman-show=\"Show solution\" data-jupman-hide=\"Hide\">Show solution</a><div class=\"jupman-sol jupman-sol-code\" style=\"display:none\">  "
   ]
  },
  {
   "cell_type": "code",
   "execution_count": 28,
   "id": "e8d982f5",
   "metadata": {},
   "outputs": [],
   "source": [
    "import numpy as np\n",
    "\n",
    "def downup(n,m):\n",
    "    \n",
    "   \n",
    "    #SLOW SOLUTION\n",
    "    \n",
    "    if m%2 == 1:\n",
    "        raise ValueError(\"m deve essere pari, trovato %s\" % m)    \n",
    "    mat = np.zeros((n,m))\n",
    "    for i in range(0,n,2):\n",
    "        for j in range(m//2):\n",
    "            mat[i,j+m//2] = m//2 - j - 1\n",
    "    for i in range(1,n,2):\n",
    "        for j in range(m//2):\n",
    "            mat[i,j] = j\n",
    "    return mat\n",
    "    \n",
    "    \n",
    "\n",
    "assert np.allclose(downup(2,2),  np.array([ [0., 0.],\n",
    "                                            [0., 0.] ]))\n",
    "assert type(downup(2,2)) == np.ndarray\n",
    "\n",
    "assert np.allclose(downup(2,6),  np.array([ [0., 0., 0., 2., 1., 0.],\n",
    "                                            [0., 1., 2., 0., 0., 0.] ]))\n",
    "\n",
    "assert np.allclose(downup(6,10), np.array([ [0., 0., 0., 0., 0., 4., 3., 2., 1., 0.],\n",
    "                                            [0., 1., 2., 3., 4., 0., 0., 0., 0., 0.],\n",
    "                                            [0., 0., 0., 0., 0., 4., 3., 2., 1., 0.],\n",
    "                                            [0., 1., 2., 3., 4., 0., 0., 0., 0., 0.],\n",
    "                                            [0., 0., 0., 0., 0., 4., 3., 2., 1., 0.],\n",
    "                                            [0., 1., 2., 3., 4., 0., 0., 0., 0., 0.] ]))\n",
    "try:\n",
    "    downup(2,3)\n",
    "    raise Exception(\"I should have failed!\")\n",
    "except ValueError:\n",
    "    pass"
   ]
  },
  {
   "cell_type": "raw",
   "id": "09f653f6",
   "metadata": {
    "format": "text/html"
   },
   "source": [
    "</div>"
   ]
  },
  {
   "cell_type": "code",
   "execution_count": 28,
   "id": "e8d982f5-stripped",
   "metadata": {},
   "outputs": [],
   "source": [
    "import numpy as np\n",
    "\n",
    "def downup(n,m):\n",
    "    raise Exception('TODO IMPLEMENT ME !')\n",
    "    \n",
    "\n",
    "assert np.allclose(downup(2,2),  np.array([ [0., 0.],\n",
    "                                            [0., 0.] ]))\n",
    "assert type(downup(2,2)) == np.ndarray\n",
    "\n",
    "assert np.allclose(downup(2,6),  np.array([ [0., 0., 0., 2., 1., 0.],\n",
    "                                            [0., 1., 2., 0., 0., 0.] ]))\n",
    "\n",
    "assert np.allclose(downup(6,10), np.array([ [0., 0., 0., 0., 0., 4., 3., 2., 1., 0.],\n",
    "                                            [0., 1., 2., 3., 4., 0., 0., 0., 0., 0.],\n",
    "                                            [0., 0., 0., 0., 0., 4., 3., 2., 1., 0.],\n",
    "                                            [0., 1., 2., 3., 4., 0., 0., 0., 0., 0.],\n",
    "                                            [0., 0., 0., 0., 0., 4., 3., 2., 1., 0.],\n",
    "                                            [0., 1., 2., 3., 4., 0., 0., 0., 0., 0.] ]))\n",
    "try:\n",
    "    downup(2,3)\n",
    "    raise Exception(\"I should have failed!\")\n",
    "except ValueError:\n",
    "    pass"
   ]
  },
  {
   "cell_type": "raw",
   "id": "ad0760ea",
   "metadata": {
    "format": "text/html"
   },
   "source": [
    "<a  class=\"jupman-sol jupman-sol-toggler\" \n",
    " onclick=\"jupman.toggleSolution(this);\" \n",
    " data-jupman-show=\"Show solution\" data-jupman-hide=\"Hide\">Show solution</a><div class=\"jupman-sol jupman-sol-code\" style=\"display:none\">  "
   ]
  },
  {
   "cell_type": "code",
   "execution_count": 29,
   "id": "e97874c0",
   "metadata": {},
   "outputs": [],
   "source": [
    "#EFFICIENT SOLUTION (HINT: use np.tile)\n",
    "\n",
    "\n",
    "import numpy as np\n",
    "\n",
    "def downup_pro(n,m):\n",
    "    \n",
    "    if m%2 == 1:\n",
    "        raise ValueError(\"m must be even, found %s\" % m)    \n",
    "    \n",
    "    ret = np.zeros((n,m))\n",
    "    \n",
    "    \n",
    "    left = np.tile(np.arange(0.0,m/2,1.0),(n//2,1))\n",
    "    right = np.tile(np.arange(m/2 - 1,-0.5,-1.0),(n//2,1))\n",
    "    ret[1::2,:m//2] = left\n",
    "    ret[0::2,m//2:] = right\n",
    "    return ret\n",
    "    \n",
    "\n",
    "assert np.allclose(downup_pro(2,2),  np.array([ [0., 0.],\n",
    "                                                [0., 0.] ]))\n",
    "assert type(downup_pro(2,2)) == np.ndarray\n",
    "\n",
    "assert np.allclose(downup_pro(2,6),  np.array([ [0., 0., 0., 2., 1., 0.],\n",
    "                                                [0., 1., 2., 0., 0., 0.] ]))\n",
    "\n",
    "assert np.allclose(downup_pro(6,10), np.array([ [0., 0., 0., 0., 0., 4., 3., 2., 1., 0.],\n",
    "                                                [0., 1., 2., 3., 4., 0., 0., 0., 0., 0.],\n",
    "                                                [0., 0., 0., 0., 0., 4., 3., 2., 1., 0.],\n",
    "                                                [0., 1., 2., 3., 4., 0., 0., 0., 0., 0.],\n",
    "                                                [0., 0., 0., 0., 0., 4., 3., 2., 1., 0.],\n",
    "                                                [0., 1., 2., 3., 4., 0., 0., 0., 0., 0.] ]))\n",
    "try:\n",
    "    downup_pro(2,3)\n",
    "    raise Exception(\"I should have failed!\")\n",
    "except ValueError:\n",
    "    pass\n"
   ]
  },
  {
   "cell_type": "raw",
   "id": "fc65486f",
   "metadata": {
    "format": "text/html"
   },
   "source": [
    "</div>"
   ]
  },
  {
   "cell_type": "code",
   "execution_count": 29,
   "id": "e97874c0-stripped",
   "metadata": {},
   "outputs": [],
   "source": [
    "#EFFICIENT SOLUTION (HINT: use np.tile)\n"
   ]
  },
  {
   "cell_type": "markdown",
   "id": "139327da",
   "metadata": {},
   "source": [
    "## Exercise - stairsteps\n",
    "\n",
    "✪✪✪ Given a numpy square matrix `mat` of dimension `n`, RETURN a NEW numpy array containing the values retrieved from the matrix in the followin order:\n",
    "\n",
    "```\n",
    "   1,2,*,*,*\n",
    "   *,3,4,*,*\n",
    "   *,*,5,6,*\n",
    "   *,*,*,7,8\n",
    "   *,*,*,*,9\n",
    "```  \n",
    "  \n",
    "- if the matrix is not square, raises `ValueError`\n",
    "- **DO NOT** use python lists!\n",
    "- **HINT**: how many elements must the array to return have? \n",
    "  \n",
    "Example:"
   ]
  },
  {
   "cell_type": "markdown",
   "id": "0442e8f9",
   "metadata": {},
   "source": [
    "```python\n",
    ">>> stairsteps(np.array([ [6,3,5,2,5],\n",
    "                          [3,4,2,3,4],\n",
    "                          [6,5,4,5,1],\n",
    "                          [4,3,2,3,9],\n",
    "                          [2,5,1,6,7] ] ))\n",
    "array([6., 3., 4., 2., 4., 5., 3., 9., 7.])\n",
    "```"
   ]
  },
  {
   "cell_type": "raw",
   "id": "e02d2d81",
   "metadata": {
    "format": "text/html"
   },
   "source": [
    "<a  class=\"jupman-sol jupman-sol-toggler\" \n",
    " onclick=\"jupman.toggleSolution(this);\" \n",
    " data-jupman-show=\"Show solution\" data-jupman-hide=\"Hide\">Show solution</a><div class=\"jupman-sol jupman-sol-code\" style=\"display:none\">  "
   ]
  },
  {
   "cell_type": "code",
   "execution_count": 30,
   "id": "bae14b36",
   "metadata": {},
   "outputs": [],
   "source": [
    "import numpy as np\n",
    "\n",
    "\n",
    "def stairsteps(mat):\n",
    "    \n",
    "    #SLOW SOLUTION\n",
    "    \n",
    "    n,m = mat.shape\n",
    "    if n != m:        \n",
    "        raise ValueError(\"Required a square matrix, found instead: %s x %s\" % (n,m))\n",
    "\n",
    "    res = np.zeros(n + n - 1)\n",
    "\n",
    "    for i in range(n):\n",
    "        res[2*i] = mat[i,i]    \n",
    "\n",
    "    for i in range(n-1):\n",
    "        res[2*i+1] = mat[i,i+1]\n",
    "\n",
    "    return res\n",
    "    \n",
    "    \n",
    "m1 = np.array([ [7] ])\n",
    "assert np.allclose(stairsteps(m1), np.array([7]))\n",
    "assert type(m1) == np.ndarray\n",
    "\n",
    "m2 = np.array([ [6,8],\n",
    "                [9,3]])\n",
    "assert np.allclose(stairsteps(m2), np.array([6,8,3]))\n",
    "assert type(m1) == np.ndarray\n",
    "\n",
    "m3 = np.array([ [6,3,5,2,5],\n",
    "                [3,4,2,3,4],\n",
    "                [6,5,4,5,1],\n",
    "                [4,3,2,3,9],\n",
    "                [2,5,1,6,7]])\n",
    "\n",
    "assert np.allclose(stairsteps(m3), np.array([6,3,4,2,4,5,3,9,7]))    \n",
    "\n",
    "try:\n",
    "    stairsteps(np.array([[1,2,3],\n",
    "                      [4,5,6]]))\n",
    "    raise Exception(\"I should have failed!\")\n",
    "except ValueError:\n",
    "    pass"
   ]
  },
  {
   "cell_type": "raw",
   "id": "81a7b3bf",
   "metadata": {
    "format": "text/html"
   },
   "source": [
    "</div>"
   ]
  },
  {
   "cell_type": "code",
   "execution_count": 30,
   "id": "bae14b36-stripped",
   "metadata": {},
   "outputs": [],
   "source": [
    "import numpy as np\n",
    "\n",
    "\n",
    "def stairsteps(mat):\n",
    "    raise Exception('TODO IMPLEMENT ME !')\n",
    "    \n",
    "m1 = np.array([ [7] ])\n",
    "assert np.allclose(stairsteps(m1), np.array([7]))\n",
    "assert type(m1) == np.ndarray\n",
    "\n",
    "m2 = np.array([ [6,8],\n",
    "                [9,3]])\n",
    "assert np.allclose(stairsteps(m2), np.array([6,8,3]))\n",
    "assert type(m1) == np.ndarray\n",
    "\n",
    "m3 = np.array([ [6,3,5,2,5],\n",
    "                [3,4,2,3,4],\n",
    "                [6,5,4,5,1],\n",
    "                [4,3,2,3,9],\n",
    "                [2,5,1,6,7]])\n",
    "\n",
    "assert np.allclose(stairsteps(m3), np.array([6,3,4,2,4,5,3,9,7]))    \n",
    "\n",
    "try:\n",
    "    stairsteps(np.array([[1,2,3],\n",
    "                      [4,5,6]]))\n",
    "    raise Exception(\"I should have failed!\")\n",
    "except ValueError:\n",
    "    pass"
   ]
  },
  {
   "cell_type": "raw",
   "id": "945b54dc",
   "metadata": {
    "format": "text/html"
   },
   "source": [
    "<a  class=\"jupman-sol jupman-sol-toggler\" \n",
    " onclick=\"jupman.toggleSolution(this);\" \n",
    " data-jupman-show=\"Show solution\" data-jupman-hide=\"Hide\">Show solution</a><div class=\"jupman-sol jupman-sol-code\" style=\"display:none\">  "
   ]
  },
  {
   "cell_type": "code",
   "execution_count": 31,
   "id": "b528db6b",
   "metadata": {},
   "outputs": [],
   "source": [
    "#EFFICIENT SOLUTION\n",
    "\n",
    "import numpy as np\n",
    "def gradini_pro(mat):\n",
    "    \n",
    "    n,m = mat.shape\n",
    "    if n != m:\n",
    "        raise ValueError(\"Richiesta una n x n, trovata invece una %s x %s\" % (n,m))\n",
    "    a = np.diag(mat)\n",
    "    b = np.diag(mat, 1)\n",
    "    ret = np.zeros((1, a.shape[0] + b.shape[0]))\n",
    "    ret[:, ::2] = a\n",
    "    ret[:, 1::2] = b\n",
    "    return ret\n",
    "\n",
    "m1 = np.array([ [7] ])                 \n",
    "assert np.allclose(gradini_pro(m1), np.array([7]))\n",
    "assert type(m1) == np.ndarray\n",
    "\n",
    "m2 = np.array([ [6,8],\n",
    "                [9,3]])\n",
    "assert np.allclose(gradini_pro(m2), np.array([6,8,3]))\n",
    "\n",
    "m3 = np.array([ [6,3,5,2,5],\n",
    "                [3,4,2,3,4],\n",
    "                [6,5,4,5,1],\n",
    "                [4,3,2,3,9],\n",
    "                [2,5,1,6,7]])\n",
    "\n",
    "assert np.allclose(gradini_pro(m3), np.array([6,3,4,2,4,5,3,9,7]))\n"
   ]
  },
  {
   "cell_type": "raw",
   "id": "7639814d",
   "metadata": {
    "format": "text/html"
   },
   "source": [
    "</div>"
   ]
  },
  {
   "cell_type": "code",
   "execution_count": 31,
   "id": "b528db6b-stripped",
   "metadata": {},
   "outputs": [],
   "source": [
    "#EFFICIENT SOLUTION\n"
   ]
  },
  {
   "cell_type": "markdown",
   "id": "b1db8473",
   "metadata": {},
   "source": [
    "## Exercise - vertstairs\n",
    "\n",
    "✪✪✪ Given a numbers of rows `n` and of columns `m`, RETURN a  NEW `n` x `m`  numpy matrix having the numbers in even columns progressively increasing from `1` to `n`, and numbers in odd columns progressively decreasing from `n` to `1`."
   ]
  },
  {
   "cell_type": "raw",
   "id": "84a5ac0e",
   "metadata": {
    "format": "text/html"
   },
   "source": [
    "<a  class=\"jupman-sol jupman-sol-toggler\" \n",
    " onclick=\"jupman.toggleSolution(this);\" \n",
    " data-jupman-show=\"Show solution\" data-jupman-hide=\"Hide\">Show solution</a><div class=\"jupman-sol jupman-sol-code\" style=\"display:none\">  "
   ]
  },
  {
   "cell_type": "code",
   "execution_count": 32,
   "id": "79f6acd0",
   "metadata": {},
   "outputs": [],
   "source": [
    "import numpy as np\n",
    "\n",
    "def vertstairs(n,m):\n",
    "    \n",
    "    #SLOW SOLUTION\n",
    "    ret = np.zeros((n,m))\n",
    "    for i in range(n):\n",
    "        for j in range(m):\n",
    "            if j % 2 == 0:\n",
    "                ret[i,j] = i + 1\n",
    "            else:\n",
    "                ret[i,j] = n - i\n",
    "    return ret\n",
    "    \n",
    "        \n",
    "\n",
    "assert np.allclose(vertstairs(1,1), np.array([ [1] ]))\n",
    "assert np.allclose(vertstairs(1,2), np.array([ [1,1] ]))\n",
    "assert np.allclose(vertstairs(2,1), np.array([ [1],\n",
    "                                               [2] ]))\n",
    "assert np.allclose(vertstairs(2,2), np.array([ [1,2],\n",
    "                                               [2,1] ]))\n",
    "assert type(vertstairs(2,2)) == np.ndarray\n",
    "assert np.allclose(vertstairs(4,5), np.array([ [1,4,1,4,1],\n",
    "                                               [2,3,2,3,2],\n",
    "                                               [3,2,3,2,3],\n",
    "                                               [4,1,4,1,4] ]))"
   ]
  },
  {
   "cell_type": "raw",
   "id": "ee17d114",
   "metadata": {
    "format": "text/html"
   },
   "source": [
    "</div>"
   ]
  },
  {
   "cell_type": "code",
   "execution_count": 32,
   "id": "79f6acd0-stripped",
   "metadata": {},
   "outputs": [],
   "source": [
    "import numpy as np\n",
    "\n",
    "def vertstairs(n,m):\n",
    "    raise Exception('TODO IMPLEMENT ME !')\n",
    "        \n",
    "\n",
    "assert np.allclose(vertstairs(1,1), np.array([ [1] ]))\n",
    "assert np.allclose(vertstairs(1,2), np.array([ [1,1] ]))\n",
    "assert np.allclose(vertstairs(2,1), np.array([ [1],\n",
    "                                               [2] ]))\n",
    "assert np.allclose(vertstairs(2,2), np.array([ [1,2],\n",
    "                                               [2,1] ]))\n",
    "assert type(vertstairs(2,2)) == np.ndarray\n",
    "assert np.allclose(vertstairs(4,5), np.array([ [1,4,1,4,1],\n",
    "                                               [2,3,2,3,2],\n",
    "                                               [3,2,3,2,3],\n",
    "                                               [4,1,4,1,4] ]))"
   ]
  },
  {
   "cell_type": "raw",
   "id": "9527e4e9",
   "metadata": {
    "format": "text/html"
   },
   "source": [
    "<a  class=\"jupman-sol jupman-sol-toggler\" \n",
    " onclick=\"jupman.toggleSolution(this);\" \n",
    " data-jupman-show=\"Show solution\" data-jupman-hide=\"Hide\">Show solution</a><div class=\"jupman-sol jupman-sol-code\" style=\"display:none\">  "
   ]
  },
  {
   "cell_type": "code",
   "execution_count": 33,
   "id": "457a6268",
   "metadata": {},
   "outputs": [],
   "source": [
    "#EFFICIENT SOLUTION (HINT: use np.tile)\n",
    "\n",
    "\n",
    "def vertstairs_pro(n,m):\n",
    "    \n",
    "    ret = np.zeros((n,m))    \n",
    "    ret[:,0::2] = np.tile(np.transpose([np.arange(1,n+1,1)]), (m+1) // 2)        \n",
    "    ret[:,1::2] =  np.tile(np.transpose([np.arange(n,0,-1)]), m // 2)        \n",
    "    \n",
    "    return ret    \n",
    "\n",
    "assert np.allclose(vertstairs_pro(1,1), np.array([ [1] ]))\n",
    "assert np.allclose(vertstairs_pro(1,2), np.array([ [1,1] ]))\n",
    "assert np.allclose(vertstairs_pro(2,1), np.array([ [1],\n",
    "                                                   [2] ]))\n",
    "assert np.allclose(vertstairs_pro(2,2), np.array([ [1,2],\n",
    "                                                   [2,1] ]))\n",
    "assert type(vertstairs_pro(2,2)) == np.ndarray\n",
    "assert np.allclose(vertstairs_pro(4,5), np.array([ [1,4,1,4,1],\n",
    "                                                   [2,3,2,3,2],\n",
    "                                                   [3,2,3,2,3],\n",
    "                                                   [4,1,4,1,4] ]))\n"
   ]
  },
  {
   "cell_type": "raw",
   "id": "a8a6f03e",
   "metadata": {
    "format": "text/html"
   },
   "source": [
    "</div>"
   ]
  },
  {
   "cell_type": "code",
   "execution_count": 33,
   "id": "457a6268-stripped",
   "metadata": {},
   "outputs": [],
   "source": [
    "#EFFICIENT SOLUTION (HINT: use np.tile)\n",
    "\n"
   ]
  },
  {
   "cell_type": "markdown",
   "id": "30b34c38",
   "metadata": {},
   "source": [
    "##  Exercise - comprescol\n",
    "\n",
    "✪✪✪ Given an $n$ x $2m$ matrix `mat`  with an even number of columns, RETURN a NEW $n$ x $m$ matrix  in which the columns are given by the sum of corresponding column pairs from `mat`\n",
    "\n",
    "- if `mat` doesn't have an even number of columns, raise `ValueError`\n",
    "\n",
    "Example:\n",
    "\n",
    "```python\n",
    ">>> m  = np.array([[5,4,2,6,4,2],\n",
    "                   [7,5,1,0,6,1],\n",
    "                   [6,7,9,2,3,7],\n",
    "                   [5,2,4,6,1,3],\n",
    "                   [7,2,3,4,2,5]])\n",
    "\n",
    ">>> comprescol(m)\n",
    "np.array([[ 9, 8, 6],\n",
    "          [12, 1, 7],\n",
    "          [13,11,10],\n",
    "          [ 7,10, 4],\n",
    "          [ 9, 7, 7]])\n",
    "```\n",
    "\n",
    "because\n",
    "\n",
    "```\n",
    "9 = 5 + 4     8 = 2 + 6     6 = 4 + 2\n",
    "12= 7 + 5     1 = 1 + 0     7 = 6 + 1\n",
    ". . .\n",
    "\n",
    "```\n",
    "\n"
   ]
  },
  {
   "cell_type": "raw",
   "id": "bcbf5b11",
   "metadata": {
    "format": "text/html"
   },
   "source": [
    "<a  class=\"jupman-sol jupman-sol-toggler\" \n",
    " onclick=\"jupman.toggleSolution(this);\" \n",
    " data-jupman-show=\"Show solution\" data-jupman-hide=\"Hide\">Show solution</a><div class=\"jupman-sol jupman-sol-code\" style=\"display:none\">  "
   ]
  },
  {
   "cell_type": "code",
   "execution_count": 34,
   "id": "4ef6606e",
   "metadata": {},
   "outputs": [],
   "source": [
    "import numpy as np\n",
    "\n",
    "def comprescol(mat):\n",
    "    \n",
    " \n",
    "    #EFFICIENT SOLUTION\n",
    "    if mat.shape[1] % 2 != 0:    \n",
    "        raise ValueError(\"Expected matrix with an even number of columns, got instead %s\" % mat.shape[1])\n",
    "    n,m = mat.shape[0], mat.shape[1] // 2\n",
    "    ret = mat[:,::2].copy()\n",
    "    ret += mat[:,1::2]\n",
    "    return ret\n",
    "    \n",
    "\n",
    "m1 = [[7,9]]\n",
    "res = comprescol(np.array(m1))\n",
    "assert type(res) == np.ndarray\n",
    "assert np.allclose(res, np.array([[16]]))\n",
    "\n",
    "m2  = np.array([[5,8],\n",
    "               [7,2]])\n",
    "assert np.allclose(comprescol(m2), np.array([[13],\n",
    "                                            [9]]))\n",
    "assert np.allclose(m2, np.array([[5,8],\n",
    "                                 [7,2]]))  # check doesn't MODIFY original matrix\n",
    "\n",
    "m3  = np.array([[5,4,2,6,4,2],\n",
    "                [7,5,1,0,6,1],\n",
    "                [6,7,9,2,3,7],\n",
    "                [5,2,4,6,1,3],\n",
    "                [7,2,3,4,2,5]])\n",
    " \n",
    "assert np.allclose(comprescol(m3), np.array([ [ 9, 8, 6],\n",
    "                                              [12, 1, 7],\n",
    "                                              [13,11,10],\n",
    "                                              [ 7,10, 4],\n",
    "                                              [ 9, 7, 7] ]))\n",
    "\n",
    "try:\n",
    "    comprescol(np.array([[7,1,6],\n",
    "                        [5,2,4]]))\n",
    "    raise Exception(\"I should have failed!\")\n",
    "except ValueError:\n",
    "    pass"
   ]
  },
  {
   "cell_type": "raw",
   "id": "a8a00253",
   "metadata": {
    "format": "text/html"
   },
   "source": [
    "</div>"
   ]
  },
  {
   "cell_type": "code",
   "execution_count": 34,
   "id": "4ef6606e-stripped",
   "metadata": {},
   "outputs": [],
   "source": [
    "import numpy as np\n",
    "\n",
    "def comprescol(mat):\n",
    "    raise Exception('TODO IMPLEMENT ME !')\n",
    "\n",
    "m1 = [[7,9]]\n",
    "res = comprescol(np.array(m1))\n",
    "assert type(res) == np.ndarray\n",
    "assert np.allclose(res, np.array([[16]]))\n",
    "\n",
    "m2  = np.array([[5,8],\n",
    "               [7,2]])\n",
    "assert np.allclose(comprescol(m2), np.array([[13],\n",
    "                                            [9]]))\n",
    "assert np.allclose(m2, np.array([[5,8],\n",
    "                                 [7,2]]))  # check doesn't MODIFY original matrix\n",
    "\n",
    "m3  = np.array([[5,4,2,6,4,2],\n",
    "                [7,5,1,0,6,1],\n",
    "                [6,7,9,2,3,7],\n",
    "                [5,2,4,6,1,3],\n",
    "                [7,2,3,4,2,5]])\n",
    " \n",
    "assert np.allclose(comprescol(m3), np.array([ [ 9, 8, 6],\n",
    "                                              [12, 1, 7],\n",
    "                                              [13,11,10],\n",
    "                                              [ 7,10, 4],\n",
    "                                              [ 9, 7, 7] ]))\n",
    "\n",
    "try:\n",
    "    comprescol(np.array([[7,1,6],\n",
    "                        [5,2,4]]))\n",
    "    raise Exception(\"I should have failed!\")\n",
    "except ValueError:\n",
    "    pass"
   ]
  },
  {
   "cell_type": "markdown",
   "id": "52cc34aa",
   "metadata": {},
   "source": [
    "## Exercise - revtriang\n",
    "\n",
    "✪✪✪ Givena square numpy matrix, RETURN a NEW numpy matrix having the same dimensions as the original one, and the numbers in the lower triangular part (excluding the diagonal) in reverse.\n",
    "\n",
    "\n",
    "- if the matrix is not square, raise `ValueError`\n",
    "\n",
    "Example:\n",
    "\n",
    "```python\n",
    "m  = np.array([ [5,4,2,6,4],\n",
    "                [3,5,1,0,6],\n",
    "                [6,4,9,2,3],\n",
    "                [5,2,8,6,1],\n",
    "                [7,9,3,2,2] ])\n",
    "               \n",
    ">>> revtriang(m)\n",
    "np.array([ [5, 4, 2, 6, 4],\n",
    "           [3, 5, 1, 0, 6],     # 3       -> 3\n",
    "           [4, 6, 9, 2, 3],     # 6,4     -> 4,6\n",
    "           [8, 2, 5, 6, 1],     # 5,2,8   -> 8,2,5\n",
    "           [2, 3, 9, 7, 2] ])   # 7,9,3,2 -> 2,3,9,7\n",
    "```          "
   ]
  },
  {
   "cell_type": "raw",
   "id": "452d71b4",
   "metadata": {
    "format": "text/html"
   },
   "source": [
    "<a  class=\"jupman-sol jupman-sol-toggler\" \n",
    " onclick=\"jupman.toggleSolution(this);\" \n",
    " data-jupman-show=\"Show solution\" data-jupman-hide=\"Hide\">Show solution</a><div class=\"jupman-sol jupman-sol-code\" style=\"display:none\">  "
   ]
  },
  {
   "cell_type": "code",
   "execution_count": 35,
   "id": "da982024",
   "metadata": {},
   "outputs": [],
   "source": [
    "import numpy as np\n",
    "\n",
    "def revtriang(mat):\n",
    "    \n",
    "   \n",
    "    #EFFICIENT SOLUTION\n",
    "    n,m = mat.shape\n",
    "    if n != m:        \n",
    "        raise ValueError(\"Expected square matrix, got instead n=%s, m=%s\" % (n,m))\n",
    "        \n",
    "    ret = mat.copy()\n",
    "    \n",
    "    for i in range(1,n):\n",
    "        ret[i,:i] = np.flip(mat[i,:i])\n",
    "    return ret\n",
    "    \n",
    "\n",
    "m1 = np.array([[8]])\n",
    "assert np.allclose(revtriang(m1), np.array([[8]]))\n",
    "\n",
    "\n",
    "m3 = np.array([[1,5],\n",
    "               [9,6]])\n",
    "assert np.allclose(revtriang(m3), np.array([[1,5],\n",
    "                                            [9,6]]))\n",
    "\n",
    "m4 = np.array([[1,5,8],\n",
    "               [9,6,2],\n",
    "               [3,2,5]])\n",
    "assert np.allclose(revtriang(m4), np.array([[1,5,8],\n",
    "                                            [9,6,2],\n",
    "                                            [2,3,5]]))\n",
    "assert np.allclose(m4, np.array([[1,5,8],\n",
    "                                 [9,6,2],\n",
    "                                 [3,2,5]]))  # shouldn't change the original\n",
    "\n",
    "m5 = np.array([[5,4,2,6,4],\n",
    "               [3,5,1,0,6],\n",
    "               [6,4,9,2,3],\n",
    "               [5,2,8,6,1],\n",
    "               [7,9,3,2,2]])\n",
    "assert np.allclose(revtriang(m5), np.array([[5, 4, 2, 6, 4],\n",
    "                                            [3, 5, 1, 0, 6],\n",
    "                                            [4, 6, 9, 2, 3],\n",
    "                                            [8, 2, 5, 6, 1],\n",
    "                                            [2, 3, 9, 7, 2]]))\n",
    "try:\n",
    "    revtriang(np.array([[7,1,6],\n",
    "                        [5,2,4]]))\n",
    "    raise Exception(\"I should have failed!\")\n",
    "except ValueError:\n",
    "    pass"
   ]
  },
  {
   "cell_type": "raw",
   "id": "861ec8df",
   "metadata": {
    "format": "text/html"
   },
   "source": [
    "</div>"
   ]
  },
  {
   "cell_type": "code",
   "execution_count": 35,
   "id": "da982024-stripped",
   "metadata": {},
   "outputs": [],
   "source": [
    "import numpy as np\n",
    "\n",
    "def revtriang(mat):\n",
    "    raise Exception('TODO IMPLEMENT ME !')\n",
    "\n",
    "m1 = np.array([[8]])\n",
    "assert np.allclose(revtriang(m1), np.array([[8]]))\n",
    "\n",
    "\n",
    "m3 = np.array([[1,5],\n",
    "               [9,6]])\n",
    "assert np.allclose(revtriang(m3), np.array([[1,5],\n",
    "                                            [9,6]]))\n",
    "\n",
    "m4 = np.array([[1,5,8],\n",
    "               [9,6,2],\n",
    "               [3,2,5]])\n",
    "assert np.allclose(revtriang(m4), np.array([[1,5,8],\n",
    "                                            [9,6,2],\n",
    "                                            [2,3,5]]))\n",
    "assert np.allclose(m4, np.array([[1,5,8],\n",
    "                                 [9,6,2],\n",
    "                                 [3,2,5]]))  # shouldn't change the original\n",
    "\n",
    "m5 = np.array([[5,4,2,6,4],\n",
    "               [3,5,1,0,6],\n",
    "               [6,4,9,2,3],\n",
    "               [5,2,8,6,1],\n",
    "               [7,9,3,2,2]])\n",
    "assert np.allclose(revtriang(m5), np.array([[5, 4, 2, 6, 4],\n",
    "                                            [3, 5, 1, 0, 6],\n",
    "                                            [4, 6, 9, 2, 3],\n",
    "                                            [8, 2, 5, 6, 1],\n",
    "                                            [2, 3, 9, 7, 2]]))\n",
    "try:\n",
    "    revtriang(np.array([[7,1,6],\n",
    "                        [5,2,4]]))\n",
    "    raise Exception(\"I should have failed!\")\n",
    "except ValueError:\n",
    "    pass"
   ]
  },
  {
   "cell_type": "markdown",
   "id": "8319c46e",
   "metadata": {},
   "source": [
    "## Exercise - walkas\n",
    "\n",
    "✪✪✪ Given a numpy matrix  $n$ x $m$ with odd $m$, RETURN a numpy array containing all the numbers found along the path of an S, from bottom to top.\n",
    "\n",
    "**HINT**: can you determine the array dimension right away?\n",
    "\n",
    "Example:\n",
    "    \n",
    "```python    \n",
    "m = np.array([[5,8,2,4,6,5,7],\n",
    "              [7,9,5,8,3,2,2],\n",
    "              [6,1,8,3,6,6,1],\n",
    "              [1,5,3,7,9,4,7],\n",
    "              [1,5,3,2,9,5,4],\n",
    "              [4,3,8,5,6,1,5]])\n",
    "```\n",
    "\n",
    "it must walk, **from bottom to top**:\n",
    "\n",
    "```python\n",
    "m = np.array([[5,8,2,>,>,>,>],\n",
    "              [7,9,5,^,3,2,2],\n",
    "              [6,1,8,^,6,6,1],\n",
    "              [1,5,3,^,9,4,7],\n",
    "              [1,5,3,^,9,5,4],\n",
    "              [>,>,>,^,6,1,5]])\n",
    "```\n",
    "\n",
    "To obtain:\n",
    "\n",
    "```python\n",
    ">>> walkas(m)\n",
    "array([4., 3., 8., 5., 2., 7., 3., 8., 4., 6., 5., 7.])\n",
    "```"
   ]
  },
  {
   "cell_type": "raw",
   "id": "50f783d1",
   "metadata": {
    "format": "text/html"
   },
   "source": [
    "<a  class=\"jupman-sol jupman-sol-toggler\" \n",
    " onclick=\"jupman.toggleSolution(this);\" \n",
    " data-jupman-show=\"Show solution\" data-jupman-hide=\"Hide\">Show solution</a><div class=\"jupman-sol jupman-sol-code\" style=\"display:none\">  "
   ]
  },
  {
   "cell_type": "code",
   "execution_count": 36,
   "id": "9eefb5ab",
   "metadata": {},
   "outputs": [],
   "source": [
    "import numpy as np\n",
    "\n",
    "def walkas(mat):    \n",
    "    \n",
    "    #EFFICIENT SOLUTION\n",
    "    n,m = mat.shape    \n",
    "    ret = np.zeros(n + m-1)\n",
    "    ret[:m//2] = mat[-1,:m//2]\n",
    "    ret[m//2:m//2+n] = mat[::-1,m//2]\n",
    "    ret[-m//2:] = mat[0,m//2:]\n",
    "    return ret\n",
    "    \n",
    "\n",
    "# TEST\n",
    "m1 = np.array([[7]])    \n",
    "assert np.allclose(walkas(m1), np.array([7]))\n",
    "\n",
    "m2 = np.array([[7,5,2]])\n",
    "assert np.allclose(walkas(m2), np.array([7,5,2]))\n",
    "\n",
    "m3 = np.array([[9,3,5,6,0]])\n",
    "assert np.allclose(walkas(m3), np.array([9,3,5,6,0]))\n",
    "\n",
    "m4 = np.array([[7,5,2],\n",
    "               [9,3,4]])\n",
    "assert np.allclose(walkas(m4), np.array([9,3,5,2]))\n",
    "                   \n",
    "m5 = np.array([[7,4,6],\n",
    "               [8,2,1],\n",
    "               [0,5,3]])\n",
    "assert np.allclose(walkas(m5), np.array([0,5,2,4,6]))\n",
    "    \n",
    "m6 = np.array([[5,8,2,4,6,5,7],\n",
    "               [7,9,5,8,3,2,2],\n",
    "               [6,1,8,3,6,6,1],\n",
    "               [1,5,3,7,9,4,7],\n",
    "               [1,5,3,2,9,5,4],\n",
    "               [4,3,8,5,6,1,5]])    \n",
    "assert np.allclose(walkas(m6), np.array([4,3,8,5,2,7,3,8,4,6,5,7]))"
   ]
  },
  {
   "cell_type": "raw",
   "id": "49005be9",
   "metadata": {
    "format": "text/html"
   },
   "source": [
    "</div>"
   ]
  },
  {
   "cell_type": "code",
   "execution_count": 36,
   "id": "9eefb5ab-stripped",
   "metadata": {},
   "outputs": [],
   "source": [
    "import numpy as np\n",
    "\n",
    "def walkas(mat):    \n",
    "    raise Exception('TODO IMPLEMENT ME !')\n",
    "\n",
    "# TEST\n",
    "m1 = np.array([[7]])    \n",
    "assert np.allclose(walkas(m1), np.array([7]))\n",
    "\n",
    "m2 = np.array([[7,5,2]])\n",
    "assert np.allclose(walkas(m2), np.array([7,5,2]))\n",
    "\n",
    "m3 = np.array([[9,3,5,6,0]])\n",
    "assert np.allclose(walkas(m3), np.array([9,3,5,6,0]))\n",
    "\n",
    "m4 = np.array([[7,5,2],\n",
    "               [9,3,4]])\n",
    "assert np.allclose(walkas(m4), np.array([9,3,5,2]))\n",
    "                   \n",
    "m5 = np.array([[7,4,6],\n",
    "               [8,2,1],\n",
    "               [0,5,3]])\n",
    "assert np.allclose(walkas(m5), np.array([0,5,2,4,6]))\n",
    "    \n",
    "m6 = np.array([[5,8,2,4,6,5,7],\n",
    "               [7,9,5,8,3,2,2],\n",
    "               [6,1,8,3,6,6,1],\n",
    "               [1,5,3,7,9,4,7],\n",
    "               [1,5,3,2,9,5,4],\n",
    "               [4,3,8,5,6,1,5]])    \n",
    "assert np.allclose(walkas(m6), np.array([4,3,8,5,2,7,3,8,4,6,5,7]))"
   ]
  },
  {
   "cell_type": "markdown",
   "id": "8a10b0fe",
   "metadata": {},
   "source": [
    "## Exercise - walkaz\n",
    "\n",
    "✪✪✪ Given a numpy matrix  $n$ x $m$ with odd $m$, RETURN a numpy array containing all the numbers found along the path of an Z, from bottom to top.\n",
    "\n",
    "**HINT**: can you determine the array dimension right away?\n",
    "\n",
    "Example:\n",
    "    \n",
    "```python    \n",
    "m = np.array([[5,8,2,4,6,5,7],\n",
    "              [7,9,5,8,3,2,2],\n",
    "              [6,1,8,3,6,6,1],\n",
    "              [1,5,3,7,9,4,7],\n",
    "              [1,5,3,2,9,5,4],\n",
    "              [4,3,8,5,6,1,5]])\n",
    "```\n",
    "\n",
    "it must walk, **from bottom to top**:\n",
    "\n",
    "```python\n",
    "m = np.array([[<,<,<,^,6,5,7],\n",
    "              [7,9,5,^,3,2,2],\n",
    "              [6,1,8,^,6,6,1],\n",
    "              [1,5,3,^,9,4,7],\n",
    "              [1,5,3,^,9,5,4],\n",
    "              [4,3,8,^,<,<,<]])\n",
    "```\n",
    "\n",
    "To obtain:\n",
    "\n",
    "```python\n",
    ">>> walkaz(m)\n",
    "array([5.,1.,6.,5.,2.,7.,3.,8.,4.,2.,8.,5.])\n",
    "```"
   ]
  },
  {
   "cell_type": "raw",
   "id": "7282af12",
   "metadata": {
    "format": "text/html"
   },
   "source": [
    "<a  class=\"jupman-sol jupman-sol-toggler\" \n",
    " onclick=\"jupman.toggleSolution(this);\" \n",
    " data-jupman-show=\"Show solution\" data-jupman-hide=\"Hide\">Show solution</a><div class=\"jupman-sol jupman-sol-code\" style=\"display:none\">  "
   ]
  },
  {
   "cell_type": "code",
   "execution_count": 37,
   "id": "0dd28583",
   "metadata": {},
   "outputs": [],
   "source": [
    "import numpy as np\n",
    "\n",
    "def walkaz(mat):    \n",
    "    \n",
    "    #EFFICIENT SOLUTION\n",
    "    n,m = mat.shape    \n",
    "    ret = np.zeros(n + m-1)\n",
    "    ret[:m//2] = mat[-1,-1:m//2:-1]\n",
    "    ret[m//2:m//2+n] = mat[::-1,m//2]\n",
    "    ret[-m//2:] = mat[0,m//2::-1]\n",
    "    return ret\n",
    "    \n",
    "\n",
    "# TEST\n",
    "m1 = np.array([[7]])    \n",
    "assert np.allclose(walkaz(m1), np.array([7]))\n",
    "\n",
    "m2 = np.array([[7,5,2]])\n",
    "assert np.allclose(walkaz(m2), np.array([2,5,7]))\n",
    "\n",
    "m3 = np.array([[9,3,5,6,0]])\n",
    "assert np.allclose(walkaz(m3), np.array([0,6,5,3,9]))\n",
    "\n",
    "m4 = np.array([[7,5,2],\n",
    "               [9,3,4]])\n",
    "assert np.allclose(walkaz(m4), np.array([4,3,5,7]))\n",
    "                   \n",
    "m5 = np.array([[7,4,6],\n",
    "               [8,2,1],\n",
    "               [0,5,3]])\n",
    "assert np.allclose(walkaz(m5), np.array([3,5,2,4,7]))\n",
    "    \n",
    "m6 = np.array([[5,8,2,4,6,5,7],\n",
    "               [7,9,5,8,3,2,2],\n",
    "               [6,1,8,3,6,6,1],\n",
    "               [1,5,3,7,9,4,7],\n",
    "               [1,5,3,2,9,5,4],\n",
    "               [4,3,8,5,6,1,5]])    \n",
    "assert np.allclose(walkaz(m6), np.array([5,1,6,5,2,7,3,8,4,2,8,5]))"
   ]
  },
  {
   "cell_type": "raw",
   "id": "06a61e62",
   "metadata": {
    "format": "text/html"
   },
   "source": [
    "</div>"
   ]
  },
  {
   "cell_type": "code",
   "execution_count": 37,
   "id": "0dd28583-stripped",
   "metadata": {},
   "outputs": [],
   "source": [
    "import numpy as np\n",
    "\n",
    "def walkaz(mat):    \n",
    "    raise Exception('TODO IMPLEMENT ME !')\n",
    "\n",
    "# TEST\n",
    "m1 = np.array([[7]])    \n",
    "assert np.allclose(walkaz(m1), np.array([7]))\n",
    "\n",
    "m2 = np.array([[7,5,2]])\n",
    "assert np.allclose(walkaz(m2), np.array([2,5,7]))\n",
    "\n",
    "m3 = np.array([[9,3,5,6,0]])\n",
    "assert np.allclose(walkaz(m3), np.array([0,6,5,3,9]))\n",
    "\n",
    "m4 = np.array([[7,5,2],\n",
    "               [9,3,4]])\n",
    "assert np.allclose(walkaz(m4), np.array([4,3,5,7]))\n",
    "                   \n",
    "m5 = np.array([[7,4,6],\n",
    "               [8,2,1],\n",
    "               [0,5,3]])\n",
    "assert np.allclose(walkaz(m5), np.array([3,5,2,4,7]))\n",
    "    \n",
    "m6 = np.array([[5,8,2,4,6,5,7],\n",
    "               [7,9,5,8,3,2,2],\n",
    "               [6,1,8,3,6,6,1],\n",
    "               [1,5,3,7,9,4,7],\n",
    "               [1,5,3,2,9,5,4],\n",
    "               [4,3,8,5,6,1,5]])    \n",
    "assert np.allclose(walkaz(m6), np.array([5,1,6,5,2,7,3,8,4,2,8,5]))"
   ]
  },
  {
   "cell_type": "markdown",
   "id": "72a83255",
   "metadata": {},
   "source": [
    "## Continue\n",
    "\n",
    "- Try doing exercises from [lists of lists](https://en.softpython.org/matrices-lists/matrices-lists2-sol.html) using Numpy instead - try making the exercises performant by using Numpy features and functions (i.e. `2*arr` multiplies all numbers in arr without the need of a slow Python `for`)\n",
    "- For some nice application, follow [Numpy images tutorial](https://en.softpython.org/matrices-numpy/numpy-images-sol.html)\n",
    "\n",
    "### ---------\n",
    "\n",
    "<!-- - Go on with [Numpy challenge](https://en.softpython.org/matrices-numpy/matrices-numpy3-chal.html)  -->\n",
    "\n",
    "## References\n",
    "\n",
    "- You can find much more details on [Python Data Science Handbook, Numpy part](https://jakevdp.github.io/PythonDataScienceHandbook/02.00-introduction-to-numpy.html)\n",
    "- [machinelearningplus](https://www.machinelearningplus.com/python/101-numpy-exercises-python/)  has Numpy exercises - (difficulty L1, L2, you can also try L3)"
   ]
  },
  {
   "cell_type": "code",
   "execution_count": null,
   "id": "13ae9904",
   "metadata": {},
   "outputs": [],
   "source": []
  }
 ],
 "metadata": {
  "celltoolbar": "Edit Metadata",
  "kernelspec": {
   "display_name": "Python 3 (ipykernel)",
   "language": "python",
   "name": "python3"
  },
  "language_info": {
   "codemirror_mode": {
    "name": "ipython",
    "version": 3
   },
   "file_extension": ".py",
   "mimetype": "text/x-python",
   "name": "python",
   "nbconvert_exporter": "python",
   "pygments_lexer": "ipython3",
   "version": "3.7.10"
  },
  "toc": {
   "base_numbering": 1,
   "nav_menu": {},
   "number_sections": false,
   "sideBar": true,
   "skip_h1_title": false,
   "title_cell": "Table of Contents",
   "title_sidebar": "Contents",
   "toc_cell": false,
   "toc_position": {
    "height": "calc(100% - 180px)",
    "left": "10px",
    "top": "150px",
    "width": "268px"
   },
   "toc_section_display": true,
   "toc_window_display": true
  }
 },
 "nbformat": 4,
 "nbformat_minor": 5
}
