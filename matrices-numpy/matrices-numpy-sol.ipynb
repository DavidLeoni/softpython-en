{
 "cells": [
  {
   "cell_type": "code",
   "execution_count": 1,
   "metadata": {
    "nbsphinx": "hidden"
   },
   "outputs": [],
   "source": [
    "#Please execute this cell\n",
    "import jupman"
   ]
  },
  {
   "cell_type": "markdown",
   "metadata": {},
   "source": [
    "# Matrices: Numpy solutions\n",
    "\n",
    "## [Download exercises zip](../_static/generated/matrices-numpy.zip)\n",
    "\n",
    "[Browse files online](https://github.com/DavidLeoni/softpython-en/tree/master/matrices-numpy)\n",
    "\n",
    "\n",
    "## Introduction\n",
    "\n",
    "\n",
    "Previously we've seen [Matrices as lists of lists](https://en.softpython.org/matrices-lists/matrices-lists-sol.html), here we focus on matrices using Numpy library\n",
    "\n",
    "There are substantially two ways to represent matrices in Python: as list of lists, or with the external library [numpy](https://www.numpy.org). The most used is surely Numpy, let's see the reason the principal differences:\n",
    "\n",
    "List of lists - [see separate notebook](https://en.softpython.org/matrices-lists/matrices-lists-sol.html)\n",
    "\n",
    "1. native in Python\n",
    "2. not efficient\n",
    "3. lists are pervasive in Python, probably you will encounter matrices expressed as list of lists anyway\n",
    "4. give an idea of how to build a nested data structure\n",
    "5. may help in understanding important concepts like pointers to memory and copies\n",
    "\n",
    "\n",
    "Numpy - this notebook\n",
    "\n",
    "1. not natively available  in Python\n",
    "2. efficient\n",
    "3. many libraries for scientific calculations are based on Numpy (scipy, pandas)\n",
    "4. syntax to access elements is slightly different from list of lists\n",
    "5. in rare cases might give problems of installation and/or conflicts (implementation is not pure Python)\n",
    "\n",
    "Here we will see data types and essential commands of [Numpy library](https://www.numpy.org), but we will not get into the details.\n",
    "\n",
    "The idea is to simply pass using the the data format `ndarray` without caring too much about performances: for example, even if `for` cycles in Python are slow because they operate cell by cell, we will use them anyway. In case you actually need to execute calculations fast, you will want to use operators on vectors but for this we invite you to read links below\n",
    "\n",
    "\n",
    "<div class=\"alert alert-warning\">\n",
    "\n",
    "**ATTENTION**: if you want to use Numpy in [Python tutor](http://www.pythontutor.com/visualize.html#mode=edit), instead of default interpreter `Python 3.6` you will need to select `Python 3.6 with Anaconda` (at May 2019 results marked as experimental)\n",
    "</div>\n",
    "\n"
   ]
  },
  {
   "cell_type": "markdown",
   "metadata": {},
   "source": [
    "### What to do\n",
    "\n",
    "- unzip exercises in a folder, you should get something like this: \n",
    "\n",
    "```\n",
    "matrices-numpy\n",
    "    matrices-numpy.ipynb     \n",
    "    matrices-numpy-sol.ipynb\n",
    "    numpy-images.ipynb\n",
    "    numpy-images-sol.ipynb\n",
    "    \n",
    "    jupman.py\n",
    "```\n",
    "\n",
    "<div class=\"alert alert-warning\">\n",
    "\n",
    "**WARNING**: to correctly visualize the notebook, it MUST be in an unzipped folder !\n",
    "</div>\n",
    "\n",
    "\n",
    "- open Jupyter Notebook from that folder. Two things should open, first a console and then browser. The browser should show a file list: navigate the list and open the notebook `matrices-numpy/matrices-numpy.ipynb`\n",
    "- Go on reading that notebook, and follow instuctions inside.\n",
    "\n",
    "\n",
    "Shortcut keys:\n",
    "\n",
    "- to execute Python code inside a Jupyter cell, press `Control + Enter`\n",
    "- to execute Python code inside a Jupyter cell AND select next cell, press `Shift + Enter`\n",
    "- to execute Python code inside a Jupyter cell AND a create a new cell aftwerwards, press `Alt + Enter`\n",
    "- If the notebooks look stuck, try to select `Kernel -> Restart`"
   ]
  },
  {
   "cell_type": "markdown",
   "metadata": {},
   "source": [
    "## np.array"
   ]
  },
  {
   "cell_type": "markdown",
   "metadata": {},
   "source": [
    "First of all, we import the library, and for convenience we rename it to 'np':"
   ]
  },
  {
   "cell_type": "code",
   "execution_count": 2,
   "metadata": {},
   "outputs": [],
   "source": [
    "import numpy as np"
   ]
  },
  {
   "cell_type": "markdown",
   "metadata": {},
   "source": [
    "\n",
    "With lists of lists we have often built the matrices one row at a time, adding lists as needed. In Numpy instead we usually create in one shot the whole matrix, filling it with zeroes.\n",
    "\n",
    "In particular, this command creates an `ndarray` filled with zeroes:"
   ]
  },
  {
   "cell_type": "code",
   "execution_count": 3,
   "metadata": {},
   "outputs": [],
   "source": [
    "mat = np.zeros( (2,3)  )   # 2 rows, 3 columns"
   ]
  },
  {
   "cell_type": "code",
   "execution_count": 4,
   "metadata": {},
   "outputs": [
    {
     "data": {
      "text/plain": [
       "array([[0., 0., 0.],\n",
       "       [0., 0., 0.]])"
      ]
     },
     "execution_count": 4,
     "metadata": {},
     "output_type": "execute_result"
    }
   ],
   "source": [
    "mat"
   ]
  },
  {
   "cell_type": "markdown",
   "metadata": {},
   "source": [
    "Note like inside `array( )` the content seems represented like a list of lists, BUT in reality in physical memory the data is structured in a linear sequence which allows Python to access numbers in a faster way."
   ]
  },
  {
   "cell_type": "markdown",
   "metadata": {},
   "source": [
    "\n",
    "To access data or overwrite square bracket notation is used, with the important difference that in Numpy you can write _bot_ the indeces _inside_ the same brackets, separated by a comma:\n",
    "\n",
    "\n",
    "<div class=\"alert alert-warning\">\n",
    "\n",
    "**ATTENTION**: notation `mat[i,j]` is only for Numpy, with list of lists **does not** work!\n",
    "</div>"
   ]
  },
  {
   "cell_type": "markdown",
   "metadata": {},
   "source": [
    "Let's put number `0` in cell at row `0` and column `1`"
   ]
  },
  {
   "cell_type": "code",
   "execution_count": 5,
   "metadata": {},
   "outputs": [],
   "source": [
    "mat[0,1] = 9"
   ]
  },
  {
   "cell_type": "code",
   "execution_count": 6,
   "metadata": {},
   "outputs": [
    {
     "data": {
      "text/plain": [
       "array([[0., 9., 0.],\n",
       "       [0., 0., 0.]])"
      ]
     },
     "execution_count": 6,
     "metadata": {},
     "output_type": "execute_result"
    }
   ],
   "source": [
    "mat"
   ]
  },
  {
   "cell_type": "markdown",
   "metadata": {},
   "source": [
    "Let's access cell at row `0` and column `1`"
   ]
  },
  {
   "cell_type": "code",
   "execution_count": 7,
   "metadata": {},
   "outputs": [
    {
     "data": {
      "text/plain": [
       "9.0"
      ]
     },
     "execution_count": 7,
     "metadata": {},
     "output_type": "execute_result"
    }
   ],
   "source": [
    "mat[0,1]"
   ]
  },
  {
   "cell_type": "markdown",
   "metadata": {},
   "source": [
    "We put number `7` into cell at row `1` and column `2`"
   ]
  },
  {
   "cell_type": "code",
   "execution_count": 8,
   "metadata": {},
   "outputs": [],
   "source": [
    "mat[1,2] = 7"
   ]
  },
  {
   "cell_type": "code",
   "execution_count": 9,
   "metadata": {},
   "outputs": [
    {
     "data": {
      "text/plain": [
       "array([[0., 9., 0.],\n",
       "       [0., 0., 7.]])"
      ]
     },
     "execution_count": 9,
     "metadata": {},
     "output_type": "execute_result"
    }
   ],
   "source": [
    "mat"
   ]
  },
  {
   "cell_type": "markdown",
   "metadata": {},
   "source": [
    "To get the dimension, we write like the following:\n",
    "\n",
    "    \n",
    "<div class=\"alert alert-warning\">\n",
    "\n",
    "**ATTENTION**: after `shape` there are **no** round parenthesis !\n",
    "\n",
    "`shape` is an attribute, not a function to call\n",
    "</div>"
   ]
  },
  {
   "cell_type": "code",
   "execution_count": 10,
   "metadata": {},
   "outputs": [
    {
     "data": {
      "text/plain": [
       "(2, 3)"
      ]
     },
     "execution_count": 10,
     "metadata": {},
     "output_type": "execute_result"
    }
   ],
   "source": [
    "mat.shape"
   ]
  },
  {
   "cell_type": "markdown",
   "metadata": {},
   "source": [
    "\n",
    "If we want to memorize the dimension in separate variables, we can use thi more pythonic mode (note the comma between `num_rows` and `num_cols`:"
   ]
  },
  {
   "cell_type": "code",
   "execution_count": 11,
   "metadata": {},
   "outputs": [],
   "source": [
    "num_rows, num_cols = mat.shape"
   ]
  },
  {
   "cell_type": "code",
   "execution_count": 12,
   "metadata": {},
   "outputs": [
    {
     "data": {
      "text/plain": [
       "2"
      ]
     },
     "execution_count": 12,
     "metadata": {},
     "output_type": "execute_result"
    }
   ],
   "source": [
    "num_rows"
   ]
  },
  {
   "cell_type": "code",
   "execution_count": 13,
   "metadata": {},
   "outputs": [
    {
     "data": {
      "text/plain": [
       "3"
      ]
     },
     "execution_count": 13,
     "metadata": {},
     "output_type": "execute_result"
    }
   ],
   "source": [
    "num_cols"
   ]
  },
  {
   "cell_type": "markdown",
   "metadata": {},
   "source": [
    "**✪ Exercise**: try to write like the following, what happens? \n",
    "\n",
    "```python\n",
    "mat[0,0] = \"c\"\n",
    "```"
   ]
  },
  {
   "cell_type": "code",
   "execution_count": 14,
   "metadata": {},
   "outputs": [],
   "source": [
    "# write here\n",
    "\n"
   ]
  },
  {
   "cell_type": "markdown",
   "metadata": {},
   "source": [
    "We can also create an `ndarray` starting from a list of lists:"
   ]
  },
  {
   "cell_type": "code",
   "execution_count": 15,
   "metadata": {},
   "outputs": [],
   "source": [
    "\n",
    "mat = np.array( [ [5.0,8.0,1.0], \n",
    "                  [4.0,3.0,2.0]])"
   ]
  },
  {
   "cell_type": "code",
   "execution_count": 16,
   "metadata": {},
   "outputs": [
    {
     "data": {
      "text/plain": [
       "array([[5., 8., 1.],\n",
       "       [4., 3., 2.]])"
      ]
     },
     "execution_count": 16,
     "metadata": {},
     "output_type": "execute_result"
    }
   ],
   "source": [
    "mat"
   ]
  },
  {
   "cell_type": "code",
   "execution_count": 17,
   "metadata": {},
   "outputs": [
    {
     "data": {
      "text/plain": [
       "numpy.ndarray"
      ]
     },
     "execution_count": 17,
     "metadata": {},
     "output_type": "execute_result"
    }
   ],
   "source": [
    "type(mat)"
   ]
  },
  {
   "cell_type": "code",
   "execution_count": 18,
   "metadata": {},
   "outputs": [
    {
     "data": {
      "text/plain": [
       "3.0"
      ]
     },
     "execution_count": 18,
     "metadata": {},
     "output_type": "execute_result"
    }
   ],
   "source": [
    "mat[1,1]"
   ]
  },
  {
   "cell_type": "markdown",
   "metadata": {},
   "source": [
    "**✪ Exercise**: Try to write like this and check what happens:\n",
    "    \n",
    "```python\n",
    "mat[1,1.0]\n",
    "```"
   ]
  },
  {
   "cell_type": "raw",
   "id": "35a2bc58",
   "metadata": {
    "format": "text/html"
   },
   "source": [
    "<a  class=\"jupman-sol jupman-sol-toggler\" \n",
    " onclick=\"jupman.toggleSolution(this);\" \n",
    " data-jupman-show=\"Show solution\" data-jupman-hide=\"Hide\">Show solution</a><div class=\"jupman-sol jupman-sol-code\" style=\"display:none\">  "
   ]
  },
  {
   "cell_type": "code",
   "execution_count": 19,
   "metadata": {},
   "outputs": [],
   "source": [
    "# write here\n"
   ]
  },
  {
   "cell_type": "raw",
   "id": "222d83a9",
   "metadata": {
    "format": "text/html"
   },
   "source": [
    "</div>"
   ]
  },
  {
   "cell_type": "code",
   "execution_count": 19,
   "metadata": {},
   "outputs": [],
   "source": [
    "# write here\n",
    "\n"
   ]
  },
  {
   "cell_type": "markdown",
   "metadata": {},
   "source": [
    "## NaNs and infinities\n",
    "\n",
    "\n",
    "Float numbers can be numbers and.... not numbers, and infinities. Sometimes during calculations extremal conditions may arise, like when dividing a small number by a huge number. In such cases, you might end up having a float which is a dreaded _Not a Number_, _NaN_ for short, or you might get an infinity. This can lead to very awful unexpected behaviours, so you must be well aware of it. \n",
    "\n",
    "Following behaviours are dictated by IEEE Standard for Binary Floating-Point for Arithmetic (IEEE 754) which Numpy uses and is implemented in all CPUs, so they actually  regard all programming languages. "
   ]
  },
  {
   "cell_type": "markdown",
   "metadata": {},
   "source": [
    "### NaNs\n",
    "\n",
    "A NaN is _Not a Number_. Which is already a silly name, since a NaN is actually a very special member of floats, with this astonishing property:"
   ]
  },
  {
   "cell_type": "markdown",
   "metadata": {},
   "source": [
    "<div class=\"alert alert-warning\">\n",
    "\n",
    "**WARNING: NaN IS NOT EQUAL TO ITSELF** !!!! \n",
    "\n",
    "Yes you read it right, NaN is really _not_ equal to itself.\n",
    "</div>\n",
    "\n",
    "Even if your mind wants to refuse it, we are going to confirm it.\n",
    "\n",
    "To get a NaN, you can use Python module `math` which holds this alien item: "
   ]
  },
  {
   "cell_type": "code",
   "execution_count": 20,
   "metadata": {},
   "outputs": [
    {
     "data": {
      "text/plain": [
       "nan"
      ]
     },
     "execution_count": 20,
     "metadata": {},
     "output_type": "execute_result"
    }
   ],
   "source": [
    "import math\n",
    "math.nan    # notice it prints as 'nan' with lowercase n"
   ]
  },
  {
   "cell_type": "markdown",
   "metadata": {},
   "source": [
    "As we said, a NaN is actually considered a float:"
   ]
  },
  {
   "cell_type": "code",
   "execution_count": 21,
   "metadata": {},
   "outputs": [
    {
     "data": {
      "text/plain": [
       "float"
      ]
     },
     "execution_count": 21,
     "metadata": {},
     "output_type": "execute_result"
    }
   ],
   "source": [
    "type(math.nan)"
   ]
  },
  {
   "cell_type": "markdown",
   "metadata": {},
   "source": [
    "Still, it behaves very differently from its fellow floats, or any other object in the known universe:"
   ]
  },
  {
   "cell_type": "code",
   "execution_count": 22,
   "metadata": {},
   "outputs": [
    {
     "data": {
      "text/plain": [
       "False"
      ]
     },
     "execution_count": 22,
     "metadata": {},
     "output_type": "execute_result"
    }
   ],
   "source": [
    "math.nan == math.nan   # what the F... alse"
   ]
  },
  {
   "cell_type": "markdown",
   "metadata": {},
   "source": [
    "### Detecting NaN\n",
    "\n",
    "Given the above, if you want to check if a variable `x` is a NaN, you _cannot_ write this: "
   ]
  },
  {
   "cell_type": "code",
   "execution_count": 23,
   "metadata": {},
   "outputs": [
    {
     "name": "stdout",
     "output_type": "stream",
     "text": [
      "x is something else ??\n"
     ]
    }
   ],
   "source": [
    "x = math.nan\n",
    "if x == math.nan:  # WRONG\n",
    "    print(\"I'm NaN \")\n",
    "else:\n",
    "    print(\"x is something else ??\")"
   ]
  },
  {
   "cell_type": "markdown",
   "metadata": {},
   "source": [
    "To correctly handle this situation, you need to use `math.isnan` function:"
   ]
  },
  {
   "cell_type": "code",
   "execution_count": 24,
   "metadata": {},
   "outputs": [
    {
     "name": "stdout",
     "output_type": "stream",
     "text": [
      "x is NaN \n"
     ]
    }
   ],
   "source": [
    "x = math.nan\n",
    "if math.isnan(x):  # CORRECT\n",
    "    print(\"x is NaN \")\n",
    "else:\n",
    "    print(\"x is something else ??\")"
   ]
  },
  {
   "cell_type": "markdown",
   "metadata": {},
   "source": [
    "Notice `math.isnan` also work with _negative_ NaN:"
   ]
  },
  {
   "cell_type": "code",
   "execution_count": 25,
   "metadata": {},
   "outputs": [
    {
     "name": "stdout",
     "output_type": "stream",
     "text": [
      "y is NaN \n"
     ]
    }
   ],
   "source": [
    "y = -math.nan\n",
    "if math.isnan(y):  # CORRECT\n",
    "    print(\"y is NaN \")\n",
    "else:\n",
    "    print(\"y is something else ??\")"
   ]
  },
  {
   "cell_type": "markdown",
   "metadata": {},
   "source": [
    "### Sequences with NaNs\n",
    "\n",
    "Still, not everything is completely crazy. If you compare a sequence holding NaNs to another one, you will get reasonable results:"
   ]
  },
  {
   "cell_type": "code",
   "execution_count": 26,
   "metadata": {},
   "outputs": [
    {
     "data": {
      "text/plain": [
       "True"
      ]
     },
     "execution_count": 26,
     "metadata": {},
     "output_type": "execute_result"
    }
   ],
   "source": [
    "[math.nan, math.nan] == [math.nan, math.nan]"
   ]
  },
  {
   "cell_type": "markdown",
   "metadata": {},
   "source": [
    "### Exercise NaN: two vars\n",
    "\n",
    "Given two number variables `x` and `y`, write some code that prints `\"same\"` when they are the same, _even_ when they are NaN. Otherwise, prints `\"not the same\""
   ]
  },
  {
   "cell_type": "raw",
   "id": "5aca4bb6",
   "metadata": {
    "format": "text/html"
   },
   "source": [
    "<a  class=\"jupman-sol jupman-sol-toggler\" \n",
    " onclick=\"jupman.toggleSolution(this);\" \n",
    " data-jupman-show=\"Show solution\" data-jupman-hide=\"Hide\">Show solution</a><div class=\"jupman-sol jupman-sol-code\" style=\"display:none\">  "
   ]
  },
  {
   "cell_type": "code",
   "execution_count": 27,
   "metadata": {},
   "outputs": [
    {
     "name": "stdout",
     "output_type": "stream",
     "text": [
      "same\n"
     ]
    }
   ],
   "source": [
    "# expected output: same\n",
    "x = math.nan\n",
    "y = math.nan\n",
    "\n",
    "# expected output: not the same\n",
    "#x = 3\n",
    "#y = math.nan\n",
    "\n",
    "# expected output: not the same\n",
    "#x = math.nan\n",
    "#y = 5\n",
    "\n",
    "# expected output: not the same\n",
    "#x = 2\n",
    "#y = 7\n",
    "\n",
    "# expected output: same\n",
    "#x = 4\n",
    "#y = 4\n",
    "\n",
    "# write here\n",
    "if math.isnan(x) and math.isnan(y):\n",
    "    print('same')\n",
    "elif x == y:\n",
    "    print('same')\n",
    "else:\n",
    "    print('not the same')"
   ]
  },
  {
   "cell_type": "raw",
   "id": "4b672484",
   "metadata": {
    "format": "text/html"
   },
   "source": [
    "</div>"
   ]
  },
  {
   "cell_type": "code",
   "execution_count": 27,
   "metadata": {},
   "outputs": [
    {
     "name": "stdout",
     "output_type": "stream",
     "text": [
      "same\n"
     ]
    }
   ],
   "source": [
    "# expected output: same\n",
    "x = math.nan\n",
    "y = math.nan\n",
    "\n",
    "# expected output: not the same\n",
    "#x = 3\n",
    "#y = math.nan\n",
    "\n",
    "# expected output: not the same\n",
    "#x = math.nan\n",
    "#y = 5\n",
    "\n",
    "# expected output: not the same\n",
    "#x = 2\n",
    "#y = 7\n",
    "\n",
    "# expected output: same\n",
    "#x = 4\n",
    "#y = 4\n",
    "\n",
    "# write here\n",
    "\n"
   ]
  },
  {
   "cell_type": "markdown",
   "metadata": {},
   "source": [
    "### Operations on NaNs\n",
    "\n",
    "Any operation on a NaN will generate another NaN:"
   ]
  },
  {
   "cell_type": "code",
   "execution_count": 28,
   "metadata": {},
   "outputs": [
    {
     "data": {
      "text/plain": [
       "nan"
      ]
     },
     "execution_count": 28,
     "metadata": {},
     "output_type": "execute_result"
    }
   ],
   "source": [
    "5 * math.nan"
   ]
  },
  {
   "cell_type": "code",
   "execution_count": 29,
   "metadata": {},
   "outputs": [
    {
     "data": {
      "text/plain": [
       "nan"
      ]
     },
     "execution_count": 29,
     "metadata": {},
     "output_type": "execute_result"
    }
   ],
   "source": [
    "math.nan + math.nan"
   ]
  },
  {
   "cell_type": "code",
   "execution_count": 30,
   "metadata": {},
   "outputs": [
    {
     "data": {
      "text/plain": [
       "nan"
      ]
     },
     "execution_count": 30,
     "metadata": {},
     "output_type": "execute_result"
    }
   ],
   "source": [
    "math.nan / math.nan"
   ]
  },
  {
   "cell_type": "markdown",
   "metadata": {},
   "source": [
    "The only thing you cannot do is dividing by zero with an unboxed NaN:"
   ]
  },
  {
   "cell_type": "markdown",
   "metadata": {},
   "source": [
    "```python\n",
    "math.nan / 0\n",
    "```\n",
    "\n",
    "```python\n",
    "---------------------------------------------------------------------------\n",
    "ZeroDivisionError                         Traceback (most recent call last)\n",
    "<ipython-input-94-1da38377fac4> in <module>\n",
    "----> 1 math.nan / 0\n",
    "\n",
    "ZeroDivisionError: float division by zero\n",
    "```"
   ]
  },
  {
   "cell_type": "markdown",
   "metadata": {},
   "source": [
    "NaN corresponds to boolean value `True`:"
   ]
  },
  {
   "cell_type": "code",
   "execution_count": 31,
   "metadata": {},
   "outputs": [
    {
     "name": "stdout",
     "output_type": "stream",
     "text": [
      "That's True\n"
     ]
    }
   ],
   "source": [
    "if math.nan: \n",
    "    print(\"That's True\")"
   ]
  },
  {
   "cell_type": "markdown",
   "metadata": {},
   "source": [
    "### NaN and Numpy\n",
    "\n",
    "When using Numpy you are quite likely to encounter NaNs, so much so they get redefined inside Numpy, but they are exactly the same as in `math` module:"
   ]
  },
  {
   "cell_type": "code",
   "execution_count": 32,
   "metadata": {},
   "outputs": [
    {
     "data": {
      "text/plain": [
       "nan"
      ]
     },
     "execution_count": 32,
     "metadata": {},
     "output_type": "execute_result"
    }
   ],
   "source": [
    "np.nan"
   ]
  },
  {
   "cell_type": "code",
   "execution_count": 33,
   "metadata": {},
   "outputs": [
    {
     "data": {
      "text/plain": [
       "True"
      ]
     },
     "execution_count": 33,
     "metadata": {},
     "output_type": "execute_result"
    }
   ],
   "source": [
    "math.isnan(np.nan)"
   ]
  },
  {
   "cell_type": "code",
   "execution_count": 34,
   "metadata": {},
   "outputs": [
    {
     "data": {
      "text/plain": [
       "True"
      ]
     },
     "execution_count": 34,
     "metadata": {},
     "output_type": "execute_result"
    }
   ],
   "source": [
    "np.isnan(math.nan)"
   ]
  },
  {
   "cell_type": "markdown",
   "metadata": {},
   "source": [
    "In Numpy when you have unknown numbers you might be tempted to put a `None`. You can actually do it, but look closely at the result:"
   ]
  },
  {
   "cell_type": "code",
   "execution_count": 35,
   "metadata": {},
   "outputs": [
    {
     "data": {
      "text/plain": [
       "array([4.9, None, 3.2, 5.1], dtype=object)"
      ]
     },
     "execution_count": 35,
     "metadata": {},
     "output_type": "execute_result"
    }
   ],
   "source": [
    "import numpy as np\n",
    "np.array([4.9,None,3.2,5.1])"
   ]
  },
  {
   "cell_type": "markdown",
   "metadata": {},
   "source": [
    "The resulting array type is _not_  an array of float64 which allows fast calculations, instead it is an array containing generic _objects_, as Numpy is assuming the array holds heterogenous data. So what you gain in generality you lose it in performance, which should actually be the whole point of using Numpy. \n",
    "\n",
    "Despite being weird, NaNs are actually regular float citizen so they can be stored in the array:"
   ]
  },
  {
   "cell_type": "code",
   "execution_count": 36,
   "metadata": {},
   "outputs": [
    {
     "data": {
      "text/plain": [
       "array([4.9, nan, 3.2, 5.1])"
      ]
     },
     "execution_count": 36,
     "metadata": {},
     "output_type": "execute_result"
    }
   ],
   "source": [
    "np.array([4.9,np.nan,3.2,5.1])   # Notice how the `dtype=object` has disappeared"
   ]
  },
  {
   "cell_type": "markdown",
   "metadata": {},
   "source": [
    "### Where are the NaNs ?\n",
    "\n",
    "Let's try to see where we can spot NaNs and other weird things such infinities in the wild"
   ]
  },
  {
   "cell_type": "markdown",
   "metadata": {},
   "source": [
    "First, let check what happens when we call function `log` of standard module `math`.\n",
    "As we know, log function behaves like this:\n",
    "\n",
    "* $x < 0$: not defined \n",
    "* $x = 0$: tends to minus infinity \n",
    "* $x > 0$: defined\n",
    "\n",
    "![log function u9u9u9](_static/img/log.png)\n",
    "\n",
    "So we might wonder what happens when we pass to it a value where it is not defined:"
   ]
  },
  {
   "cell_type": "markdown",
   "metadata": {},
   "source": [
    "```python\n",
    ">>> math.log(-1)\n",
    "```\n",
    "```python\n",
    "ValueError                                Traceback (most recent call last)\n",
    "<ipython-input-38-d6e02ba32da6> in <module>\n",
    "----> 1 math.log(-1)\n",
    "\n",
    "ValueError: math domain error\n",
    "```"
   ]
  },
  {
   "cell_type": "markdown",
   "metadata": {},
   "source": [
    "Let's try the equivalent with Numpy:"
   ]
  },
  {
   "cell_type": "code",
   "execution_count": 37,
   "metadata": {},
   "outputs": [
    {
     "name": "stderr",
     "output_type": "stream",
     "text": [
      "/home/da/.local/lib/python3.7/site-packages/ipykernel_launcher.py:1: RuntimeWarning: invalid value encountered in log\n",
      "  \"\"\"Entry point for launching an IPython kernel.\n"
     ]
    },
    {
     "data": {
      "text/plain": [
       "nan"
      ]
     },
     "execution_count": 37,
     "metadata": {},
     "output_type": "execute_result"
    }
   ],
   "source": [
    "np.log(-1)"
   ]
  },
  {
   "cell_type": "markdown",
   "metadata": {},
   "source": [
    "Notice we actually got as a result `np.nan`, even if Jupyter is printing a warning. \n",
    "\n",
    "The default behaviour of Numpy regarding dangerous calculations is to perform them anyway and storing the result in as a NaN or other limit objects. This also works for arrays calculations:"
   ]
  },
  {
   "cell_type": "code",
   "execution_count": 38,
   "metadata": {
    "scrolled": true
   },
   "outputs": [
    {
     "name": "stderr",
     "output_type": "stream",
     "text": [
      "/home/da/.local/lib/python3.7/site-packages/ipykernel_launcher.py:1: RuntimeWarning: invalid value encountered in log\n",
      "  \"\"\"Entry point for launching an IPython kernel.\n"
     ]
    },
    {
     "data": {
      "text/plain": [
       "array([1.09861229, 1.94591015,        nan, 2.19722458])"
      ]
     },
     "execution_count": 38,
     "metadata": {},
     "output_type": "execute_result"
    }
   ],
   "source": [
    "np.log(np.array([3,7,-1,9]))"
   ]
  },
  {
   "cell_type": "markdown",
   "metadata": {},
   "source": [
    "### Infinities\n",
    "\n",
    "As we said previously, NumPy uses the IEEE Standard for Binary Floating-Point for Arithmetic (IEEE 754). Since somebody at IEEE decided to capture the misteries of infinity into floating numbers, we have yet another citizen to take into account when performing calculations (for more info see [Numpy documentation on constants](https://numpy.org/devdocs/reference/constants.html)):"
   ]
  },
  {
   "cell_type": "markdown",
   "metadata": {},
   "source": [
    "### Positive infinity `np.inf`"
   ]
  },
  {
   "cell_type": "code",
   "execution_count": 39,
   "metadata": {},
   "outputs": [
    {
     "name": "stderr",
     "output_type": "stream",
     "text": [
      "/home/da/.local/lib/python3.7/site-packages/ipykernel_launcher.py:1: RuntimeWarning: divide by zero encountered in true_divide\n",
      "  \"\"\"Entry point for launching an IPython kernel.\n"
     ]
    },
    {
     "data": {
      "text/plain": [
       "array([inf])"
      ]
     },
     "execution_count": 39,
     "metadata": {},
     "output_type": "execute_result"
    }
   ],
   "source": [
    " np.array( [ 5 ] ) / 0"
   ]
  },
  {
   "cell_type": "code",
   "execution_count": 40,
   "metadata": {},
   "outputs": [
    {
     "name": "stderr",
     "output_type": "stream",
     "text": [
      "/home/da/.local/lib/python3.7/site-packages/ipykernel_launcher.py:1: RuntimeWarning: divide by zero encountered in true_divide\n",
      "  \"\"\"Entry point for launching an IPython kernel.\n"
     ]
    },
    {
     "data": {
      "text/plain": [
       "array([3.  ,  inf,  inf, 1.75])"
      ]
     },
     "execution_count": 40,
     "metadata": {},
     "output_type": "execute_result"
    }
   ],
   "source": [
    "np.array( [ 6,9,5,7 ] ) / np.array( [ 2,0,0,4 ] )"
   ]
  },
  {
   "cell_type": "markdown",
   "metadata": {},
   "source": [
    "Be aware that: \n",
    "\n",
    "- Not a Number is **not** equivalent to infinity\n",
    "- positive infinity is **not** equivalent to negative infinity\n",
    "- infinity is equivalent to positive infinity"
   ]
  },
  {
   "cell_type": "markdown",
   "metadata": {},
   "source": [
    "This time, infinity is equal to infinity: "
   ]
  },
  {
   "cell_type": "code",
   "execution_count": 41,
   "metadata": {},
   "outputs": [
    {
     "data": {
      "text/plain": [
       "True"
      ]
     },
     "execution_count": 41,
     "metadata": {},
     "output_type": "execute_result"
    }
   ],
   "source": [
    "np.inf == np.inf"
   ]
  },
  {
   "cell_type": "markdown",
   "metadata": {},
   "source": [
    "so we can safely detect infinity with `==`:"
   ]
  },
  {
   "cell_type": "code",
   "execution_count": 42,
   "metadata": {},
   "outputs": [
    {
     "name": "stdout",
     "output_type": "stream",
     "text": [
      "x is infinite\n"
     ]
    }
   ],
   "source": [
    "x = np.inf\n",
    " \n",
    "if x == np.inf:\n",
    "    print(\"x is infinite\")\n",
    "else:\n",
    "    print(\"x is finite\")"
   ]
  },
  {
   "cell_type": "markdown",
   "metadata": {},
   "source": [
    "Alternatively, we can use the function `np.isinf`: "
   ]
  },
  {
   "cell_type": "code",
   "execution_count": 43,
   "metadata": {},
   "outputs": [
    {
     "data": {
      "text/plain": [
       "True"
      ]
     },
     "execution_count": 43,
     "metadata": {},
     "output_type": "execute_result"
    }
   ],
   "source": [
    "np.isinf(np.inf)"
   ]
  },
  {
   "cell_type": "markdown",
   "metadata": {},
   "source": [
    "### Negative infinity\n",
    "\n",
    "We can also have negative infinity, which is different from positive infinity:"
   ]
  },
  {
   "cell_type": "code",
   "execution_count": 44,
   "metadata": {},
   "outputs": [
    {
     "data": {
      "text/plain": [
       "False"
      ]
     },
     "execution_count": 44,
     "metadata": {},
     "output_type": "execute_result"
    }
   ],
   "source": [
    "-np.inf == np.inf"
   ]
  },
  {
   "cell_type": "markdown",
   "metadata": {},
   "source": [
    "Note that `isinf` detects _both_ positive and negative:"
   ]
  },
  {
   "cell_type": "code",
   "execution_count": 45,
   "metadata": {},
   "outputs": [
    {
     "data": {
      "text/plain": [
       "True"
      ]
     },
     "execution_count": 45,
     "metadata": {},
     "output_type": "execute_result"
    }
   ],
   "source": [
    "np.isinf(-np.inf)"
   ]
  },
  {
   "cell_type": "markdown",
   "metadata": {},
   "source": [
    "To actually check for negative infinity you have to use `isneginf`:"
   ]
  },
  {
   "cell_type": "code",
   "execution_count": 46,
   "metadata": {},
   "outputs": [
    {
     "data": {
      "text/plain": [
       "True"
      ]
     },
     "execution_count": 46,
     "metadata": {},
     "output_type": "execute_result"
    }
   ],
   "source": [
    "np.isneginf(-np.inf)"
   ]
  },
  {
   "cell_type": "code",
   "execution_count": 47,
   "metadata": {},
   "outputs": [
    {
     "data": {
      "text/plain": [
       "False"
      ]
     },
     "execution_count": 47,
     "metadata": {},
     "output_type": "execute_result"
    }
   ],
   "source": [
    "np.isneginf(np.inf)"
   ]
  },
  {
   "cell_type": "markdown",
   "metadata": {},
   "source": [
    "Where do they appear? As an example, let's try `np.log` function:"
   ]
  },
  {
   "cell_type": "code",
   "execution_count": 48,
   "metadata": {},
   "outputs": [
    {
     "name": "stderr",
     "output_type": "stream",
     "text": [
      "/home/da/.local/lib/python3.7/site-packages/ipykernel_launcher.py:1: RuntimeWarning: divide by zero encountered in log\n",
      "  \"\"\"Entry point for launching an IPython kernel.\n"
     ]
    },
    {
     "data": {
      "text/plain": [
       "-inf"
      ]
     },
     "execution_count": 48,
     "metadata": {},
     "output_type": "execute_result"
    }
   ],
   "source": [
    "np.log(0)"
   ]
  },
  {
   "cell_type": "markdown",
   "metadata": {},
   "source": [
    "### Combining infinities and NaNs\n",
    "\n",
    "When performing operations involving infinities and NaNs, IEEE arithmetics tries to mimic classical analysis, sometimes including NaN as a result:"
   ]
  },
  {
   "cell_type": "code",
   "execution_count": 49,
   "metadata": {},
   "outputs": [
    {
     "data": {
      "text/plain": [
       "inf"
      ]
     },
     "execution_count": 49,
     "metadata": {},
     "output_type": "execute_result"
    }
   ],
   "source": [
    "np.inf + np.inf"
   ]
  },
  {
   "cell_type": "code",
   "execution_count": 50,
   "metadata": {},
   "outputs": [
    {
     "data": {
      "text/plain": [
       "-inf"
      ]
     },
     "execution_count": 50,
     "metadata": {},
     "output_type": "execute_result"
    }
   ],
   "source": [
    "- np.inf - np.inf"
   ]
  },
  {
   "cell_type": "code",
   "execution_count": 51,
   "metadata": {},
   "outputs": [
    {
     "data": {
      "text/plain": [
       "-inf"
      ]
     },
     "execution_count": 51,
     "metadata": {},
     "output_type": "execute_result"
    }
   ],
   "source": [
    "np.inf * -np.inf"
   ]
  },
  {
   "cell_type": "markdown",
   "metadata": {},
   "source": [
    "What in classical analysis would be undefined, here becomes NaN: "
   ]
  },
  {
   "cell_type": "code",
   "execution_count": 52,
   "metadata": {},
   "outputs": [
    {
     "data": {
      "text/plain": [
       "nan"
      ]
     },
     "execution_count": 52,
     "metadata": {},
     "output_type": "execute_result"
    }
   ],
   "source": [
    "np.inf - np.inf"
   ]
  },
  {
   "cell_type": "code",
   "execution_count": 53,
   "metadata": {},
   "outputs": [
    {
     "data": {
      "text/plain": [
       "nan"
      ]
     },
     "execution_count": 53,
     "metadata": {},
     "output_type": "execute_result"
    }
   ],
   "source": [
    "np.inf / np.inf"
   ]
  },
  {
   "cell_type": "markdown",
   "metadata": {},
   "source": [
    "As usual, combining with NaN results in NaN:"
   ]
  },
  {
   "cell_type": "code",
   "execution_count": 54,
   "metadata": {},
   "outputs": [
    {
     "data": {
      "text/plain": [
       "nan"
      ]
     },
     "execution_count": 54,
     "metadata": {},
     "output_type": "execute_result"
    }
   ],
   "source": [
    "np.inf + np.nan"
   ]
  },
  {
   "cell_type": "code",
   "execution_count": 55,
   "metadata": {},
   "outputs": [
    {
     "data": {
      "text/plain": [
       "nan"
      ]
     },
     "execution_count": 55,
     "metadata": {},
     "output_type": "execute_result"
    }
   ],
   "source": [
    "np.inf / np.nan"
   ]
  },
  {
   "cell_type": "markdown",
   "metadata": {},
   "source": [
    "### Negative zero \n",
    "\n",
    "We can even have a _negative_ zero - who would have thought?"
   ]
  },
  {
   "cell_type": "code",
   "execution_count": 56,
   "metadata": {},
   "outputs": [
    {
     "data": {
      "text/plain": [
       "-0.0"
      ]
     },
     "execution_count": 56,
     "metadata": {},
     "output_type": "execute_result"
    }
   ],
   "source": [
    "np.NZERO"
   ]
  },
  {
   "cell_type": "markdown",
   "metadata": {},
   "source": [
    "Negative zero of course pairs well with the more known and much appreciated _positive_ zero:"
   ]
  },
  {
   "cell_type": "code",
   "execution_count": 57,
   "metadata": {},
   "outputs": [
    {
     "data": {
      "text/plain": [
       "0.0"
      ]
     },
     "execution_count": 57,
     "metadata": {},
     "output_type": "execute_result"
    }
   ],
   "source": [
    "np.PZERO"
   ]
  },
  {
   "cell_type": "markdown",
   "metadata": {},
   "source": [
    "**NOTE**: Writing `np.NZERO` or `-0.0` is _exactly_ the same thing. Same goes for positive zero."
   ]
  },
  {
   "cell_type": "markdown",
   "metadata": {},
   "source": [
    "At this point, you might start wondering with some concern if they are actually _equal_. Let's try:"
   ]
  },
  {
   "cell_type": "code",
   "execution_count": 58,
   "metadata": {},
   "outputs": [
    {
     "data": {
      "text/plain": [
       "True"
      ]
     },
     "execution_count": 58,
     "metadata": {},
     "output_type": "execute_result"
    }
   ],
   "source": [
    "0.0 == -0.0"
   ]
  },
  {
   "cell_type": "markdown",
   "metadata": {},
   "source": [
    "Great! Finally one thing that makes sense. \n",
    "\n",
    "Given the above, you might think in a formula you can substitute one for the other one and get same results, in harmony with the rules of the universe. \n",
    "\n",
    "Let's make an attempt of substitution, as an example we first try dividing a number by positive zero (even if math teachers tell us such divisions are forbidden) - what will we ever get??\n",
    "\n",
    "$\\frac{5.0}{0.0}=???$\n",
    "\n",
    "In Numpy terms, we might write like this to box everything in arrays:"
   ]
  },
  {
   "cell_type": "code",
   "execution_count": 59,
   "metadata": {},
   "outputs": [
    {
     "name": "stderr",
     "output_type": "stream",
     "text": [
      "/home/da/.local/lib/python3.7/site-packages/ipykernel_launcher.py:1: RuntimeWarning: divide by zero encountered in true_divide\n",
      "  \"\"\"Entry point for launching an IPython kernel.\n"
     ]
    },
    {
     "data": {
      "text/plain": [
       "array([inf])"
      ]
     },
     "execution_count": 59,
     "metadata": {},
     "output_type": "execute_result"
    }
   ],
   "source": [
    "np.array( [ 5.0 ] ) / np.array( [ 0.0 ] )"
   ]
  },
  {
   "cell_type": "markdown",
   "metadata": {},
   "source": [
    "Hmm, we got an array holding an `np.inf`.\n",
    "\n",
    "If `0.0`  and `-0.0` are actually the same, dividing a number by `-0.0`  we should get the very same result, shouldn't we?\n",
    "\n",
    "Let's try:"
   ]
  },
  {
   "cell_type": "code",
   "execution_count": 60,
   "metadata": {},
   "outputs": [
    {
     "name": "stderr",
     "output_type": "stream",
     "text": [
      "/home/da/.local/lib/python3.7/site-packages/ipykernel_launcher.py:1: RuntimeWarning: divide by zero encountered in true_divide\n",
      "  \"\"\"Entry point for launching an IPython kernel.\n"
     ]
    },
    {
     "data": {
      "text/plain": [
       "array([-inf])"
      ]
     },
     "execution_count": 60,
     "metadata": {},
     "output_type": "execute_result"
    }
   ],
   "source": [
    "np.array( [ 5.0 ] ) / np.array( [ -0.0 ] )"
   ]
  },
  {
   "cell_type": "markdown",
   "metadata": {},
   "source": [
    "Oh gosh. This time we got an array holding a _negative_ infinity `-np.inf`\n",
    "\n",
    "If all of this seems odd to you, do not bash at Numpy. This is the way pretty much any CPUs does floating point calculations so you will find it in almost ALL computer languages.\n",
    "\n",
    "What programming languages can do is add further controls to protect you from paradoxical situations, for example when you directly write `1.0/0.0` Python raises `ZeroDivisionError` (blocking thus execution), and when you operate on arrays Numpy emits a warning (but doesn't block execution)."
   ]
  },
  {
   "cell_type": "markdown",
   "metadata": {},
   "source": [
    "### Exercise: detect proper numbers\n",
    "\n",
    "Write some code that PRINTS `equal numbers` if two numbers `x` and `y` passed are equal and actual numbers, and PRINTS `not equal numbers` otherwise. \n",
    "\n",
    "**NOTE**: `not equal numbers` must be printed if any of the numbers is infinite or NaN.\n",
    "\n",
    "To solve it, feel free to call functions indicated in [Numpy documentation about costants](https://docs.scipy.org/doc/numpy/reference/constants.html)"
   ]
  },
  {
   "cell_type": "raw",
   "id": "68c60d3f",
   "metadata": {
    "format": "text/html"
   },
   "source": [
    "<a  class=\"jupman-sol jupman-sol-toggler\" \n",
    " onclick=\"jupman.toggleSolution(this);\" \n",
    " data-jupman-show=\"Show solution\" data-jupman-hide=\"Hide\">Show solution</a><div class=\"jupman-sol jupman-sol-code\" style=\"display:none\">  "
   ]
  },
  {
   "cell_type": "code",
   "execution_count": 61,
   "metadata": {},
   "outputs": [
    {
     "name": "stdout",
     "output_type": "stream",
     "text": [
      "equal numbers\n",
      "equal numbers\n"
     ]
    }
   ],
   "source": [
    "# expected: equal numbers\n",
    "x = 5\n",
    "y = 5\n",
    "\n",
    "# expected: not equal numbers\n",
    "#x = np.inf\n",
    "#y = 3\n",
    "\n",
    "# expected: not equal numbers\n",
    "#x = 3\n",
    "#y = np.inf\n",
    "\n",
    "# expected: not equal numbers\n",
    "#x = np.inf\n",
    "#y = np.nan\n",
    "\n",
    "# expected: not equal numbers\n",
    "#x = np.nan\n",
    "#y = np.inf\n",
    "\n",
    "# expected: not equal numbers\n",
    "#x = np.nan\n",
    "#y = 7\n",
    "\n",
    "# expected: not equal numbers\n",
    "#x = 9\n",
    "#y = np.nan\n",
    "\n",
    "# expected: not equal numbers\n",
    "#x = np.nan\n",
    "#y = np.nan\n",
    "\n",
    "\n",
    "# write here\n",
    "\n",
    "# SOLUTION 1 - the ugly one\n",
    "if np.isinf(x) or np.isinf(y) or np.isnan(x) or np.isnan(y):\n",
    "    print('not equal numbers')\n",
    "else:\n",
    "    print('equal numbers')\n",
    "    \n",
    "# SOLUTION 2 - the pretty one\n",
    "if np.isfinite(x) and np.isfinite(y):\n",
    "    print('equal numbers')\n",
    "else:\n",
    "    print('not equal numbers')"
   ]
  },
  {
   "cell_type": "raw",
   "id": "eb96d784",
   "metadata": {
    "format": "text/html"
   },
   "source": [
    "</div>"
   ]
  },
  {
   "cell_type": "code",
   "execution_count": 61,
   "metadata": {},
   "outputs": [
    {
     "name": "stdout",
     "output_type": "stream",
     "text": [
      "equal numbers\n",
      "equal numbers\n"
     ]
    }
   ],
   "source": [
    "# expected: equal numbers\n",
    "x = 5\n",
    "y = 5\n",
    "\n",
    "# expected: not equal numbers\n",
    "#x = np.inf\n",
    "#y = 3\n",
    "\n",
    "# expected: not equal numbers\n",
    "#x = 3\n",
    "#y = np.inf\n",
    "\n",
    "# expected: not equal numbers\n",
    "#x = np.inf\n",
    "#y = np.nan\n",
    "\n",
    "# expected: not equal numbers\n",
    "#x = np.nan\n",
    "#y = np.inf\n",
    "\n",
    "# expected: not equal numbers\n",
    "#x = np.nan\n",
    "#y = 7\n",
    "\n",
    "# expected: not equal numbers\n",
    "#x = 9\n",
    "#y = np.nan\n",
    "\n",
    "# expected: not equal numbers\n",
    "#x = np.nan\n",
    "#y = np.nan\n",
    "\n",
    "\n",
    "# write here\n",
    "\n"
   ]
  },
  {
   "cell_type": "markdown",
   "metadata": {},
   "source": [
    "### Exercise: guess expressions\n",
    "\n",
    "For each of the following expressions, try to guess the result\n",
    "\n",
    "<div class=\"alert alert-warning\">\n",
    "\n",
    "**WARNING: the following may cause severe convulsions and nausea.**\n",
    "\n",
    "During clinical trials, both mathematically inclined and math-averse patients have experienced illness, for different reasons which are currently being investigated.\n",
    "\n",
    "</div>\n",
    "\n",
    "```python\n",
    "a.  0.0 * -0.0\n",
    "b.  (-0.0)**3\n",
    "c.  np.log(-7) == math.log(-7)\n",
    "d.  np.log(-7) == np.log(-7)\n",
    "e.  np.isnan( 1 / np.log(1) )\n",
    "f.  np.sqrt(-1) * np.sqrt(-1)   # sqrt = square root\n",
    "g.  3 ** np.inf\n",
    "h   3 ** -np.inf\n",
    "i.  1/np.sqrt(-3)\n",
    "j.  1/np.sqrt(-0.0)\n",
    "m.  np.sqrt(np.inf) - np.sqrt(-np.inf)\n",
    "n.  np.sqrt(np.inf) + ( 1 / np.sqrt(-0.0) )\n",
    "o.  np.isneginf(np.log(np.e) / np.sqrt(-0.0))  \n",
    "p.  np.isinf(np.log(np.e) / np.sqrt(-0.0))\n",
    "q.  [np.nan, np.inf] == [np.nan, np.inf]\n",
    "r.  [np.nan, -np.inf] == [np.nan, np.inf]\n",
    "s.  [np.nan, np.inf] == [-np.nan, np.inf]\n",
    "```"
   ]
  },
  {
   "cell_type": "markdown",
   "metadata": {},
   "source": [
    "## Verify comprehension"
   ]
  },
  {
   "cell_type": "markdown",
   "metadata": {},
   "source": [
    "\n",
    "### odd\n",
    "\n",
    "✪✪✪ Takes a Numpy matrix `mat` of dimension `nrows` by `ncols` containing integer numbers and RETURN a NEW Numpy matrix of dimension `nrows` by `ncols` which is like the original, ma in the cells which contained even numbers now there will be odd numbers obtained by summing `1` to the existing even number.\n",
    "\n",
    "Example:\n",
    "\n",
    "```python\n",
    "\n",
    "odd(np.array( [ \n",
    "                    [2,5,6,3],\n",
    "                    [8,4,3,5],\n",
    "                    [6,1,7,9]\n",
    "               ]))\n",
    "```\n",
    "Must give as output\n",
    "\n",
    "```python\n",
    "array([[ 3.,  5.,  7.,  3.],\n",
    "       [ 9.,  5.,  3.,  5.],\n",
    "       [ 7.,  1.,  7.,  9.]])\n",
    "```\n",
    "\n",
    "Hints: \n",
    "\n",
    "- Since you need to return a matrix, start with creating an empty one\n",
    "- go through the whole input matrix with indeces `i` and `j`"
   ]
  },
  {
   "cell_type": "raw",
   "id": "a63d7d2a",
   "metadata": {
    "format": "text/html"
   },
   "source": [
    "<a  class=\"jupman-sol jupman-sol-toggler\" \n",
    " onclick=\"jupman.toggleSolution(this);\" \n",
    " data-jupman-show=\"Show solution\" data-jupman-hide=\"Hide\">Show solution</a><div class=\"jupman-sol jupman-sol-code\" style=\"display:none\">  "
   ]
  },
  {
   "cell_type": "code",
   "execution_count": 62,
   "metadata": {},
   "outputs": [],
   "source": [
    "import numpy as np\n",
    "\n",
    "def odd(mat):\n",
    "    \n",
    "    nrows, ncols = mat.shape\n",
    "    ret = np.zeros( (nrows, ncols) )\n",
    "    \n",
    "\n",
    "    for i in range(nrows):\n",
    "        for j in range(ncols):\n",
    "            if mat[i,j] % 2 == 0:\n",
    "                ret[i,j] = mat[i,j] + 1\n",
    "            else:\n",
    "                ret[i,j] = mat[i,j]\n",
    "    return ret\n",
    "    \n",
    "\n",
    "\n",
    "# TEST START - DO NOT TOUCH!      \n",
    "# if you wrote the whole code correct, and execute the cell, Python shouldn't raise `AssertionError`\n",
    "\n",
    "m1 = np.array([ \n",
    "                [2],\n",
    "              ])\n",
    "m2 = np.array([\n",
    "                [3]\n",
    "              ])\n",
    "assert np.allclose(odd(m1),\n",
    "                   m2)\n",
    "assert m1[0][0] == 2  # checks we are not modifying original matrix\n",
    "\n",
    "\n",
    "m3 = np.array( [ \n",
    "                    [2,5,6,3],\n",
    "                    [8,4,3,5],\n",
    "                    [6,1,7,9]\n",
    "               ])\n",
    "m4 = np.array( [ \n",
    "                   [3,5,7,3],\n",
    "                   [9,5,3,5],\n",
    "                   [7,1,7,9]\n",
    "                             ])\n",
    "assert np.allclose(odd(m3), \n",
    "                   m4)\n",
    "\n",
    "# TEST END"
   ]
  },
  {
   "cell_type": "raw",
   "id": "356d925a",
   "metadata": {
    "format": "text/html"
   },
   "source": [
    "</div>"
   ]
  },
  {
   "cell_type": "code",
   "execution_count": 62,
   "metadata": {},
   "outputs": [],
   "source": [
    "import numpy as np\n",
    "\n",
    "def odd(mat):\n",
    "    raise Exception('TODO IMPLEMENT ME !')\n",
    "\n",
    "\n",
    "# TEST START - DO NOT TOUCH!      \n",
    "# if you wrote the whole code correct, and execute the cell, Python shouldn't raise `AssertionError`\n",
    "\n",
    "m1 = np.array([ \n",
    "                [2],\n",
    "              ])\n",
    "m2 = np.array([\n",
    "                [3]\n",
    "              ])\n",
    "assert np.allclose(odd(m1),\n",
    "                   m2)\n",
    "assert m1[0][0] == 2  # checks we are not modifying original matrix\n",
    "\n",
    "\n",
    "m3 = np.array( [ \n",
    "                    [2,5,6,3],\n",
    "                    [8,4,3,5],\n",
    "                    [6,1,7,9]\n",
    "               ])\n",
    "m4 = np.array( [ \n",
    "                   [3,5,7,3],\n",
    "                   [9,5,3,5],\n",
    "                   [7,1,7,9]\n",
    "                             ])\n",
    "assert np.allclose(odd(m3), \n",
    "                   m4)\n",
    "\n",
    "# TEST END"
   ]
  },
  {
   "cell_type": "markdown",
   "metadata": {},
   "source": [
    "### doublealt\n",
    "\n",
    "✪✪✪ Takes a Numpy matrix `mat` of dimensions `nrows` x `ncols` containing integer numbers and RETURN a NEW Numpy matrix of dimension `nrows` x `ncols` having at rows of even **index** the numbers of original matrix multiplied by two, and at rows of odd **index** the same numbers as the original matrix.\n",
    "\n",
    "Example:\n",
    "\n",
    "```python\n",
    "m  = np.array( [                      #  index\n",
    "                    [ 2, 5, 6, 3],    #    0     even\n",
    "                    [ 8, 4, 3, 5],    #    1     odd\n",
    "                    [ 7, 1, 6, 9],    #    2     even\n",
    "                    [ 5, 2, 4, 1],    #    3     odd\n",
    "                    [ 6, 3, 4, 3]     #    4     even\n",
    "               ])\n",
    "```\n",
    "\n",
    "A call to\n",
    "\n",
    "```python\n",
    "doublealt(m)\n",
    "```\n",
    "\n",
    "will return the Numpy matrix:\n",
    "\n",
    "```python\n",
    "array([[ 4, 10, 12,  6],              \n",
    "       [ 8,  4,  3,  5],              \n",
    "       [14,  2, 12, 18],             \n",
    "       [ 5,  2,  4,  1],\n",
    "       [12,  6,  8,  6]])\n",
    "```"
   ]
  },
  {
   "cell_type": "raw",
   "id": "899e209a",
   "metadata": {
    "format": "text/html"
   },
   "source": [
    "<a  class=\"jupman-sol jupman-sol-toggler\" \n",
    " onclick=\"jupman.toggleSolution(this);\" \n",
    " data-jupman-show=\"Show solution\" data-jupman-hide=\"Hide\">Show solution</a><div class=\"jupman-sol jupman-sol-code\" style=\"display:none\">  "
   ]
  },
  {
   "cell_type": "code",
   "execution_count": 63,
   "metadata": {},
   "outputs": [],
   "source": [
    "import numpy as np\n",
    "\n",
    "def doublealt(mat):\n",
    "    \n",
    "    nrows, ncols = mat.shape\n",
    "    ret = np.zeros( (nrows, ncols) )\n",
    "    \n",
    "    for i in range(nrows):\n",
    "        for j in range(ncols):\n",
    "            if i % 2 == 0:\n",
    "                ret[i,j] = mat[i,j] * 2\n",
    "            else:\n",
    "                ret[i,j] = mat[i,j]\n",
    "    return ret\n",
    "    \n",
    "\n",
    "\n",
    "# TEST START - DO NOT TOUCH!      \n",
    "# if you wrote the whole code correct, and execute the cell, Python shouldn't raise `AssertionError`\n",
    "\n",
    "m1 = np.array([ \n",
    "                [2],\n",
    "              ])\n",
    "m2 = np.array([\n",
    "                [4]\n",
    "              ])\n",
    "assert np.allclose(doublealt(m1),\n",
    "                   m2)\n",
    "assert m1[0][0] == 2  # checks we are not modifying original matrix\n",
    "\n",
    "\n",
    "m3 = np.array( [ \n",
    "                    [ 2, 5, 6],\n",
    "                    [ 8, 4, 3]\n",
    "               ])\n",
    "m4 = np.array( [ \n",
    "                    [ 4,10,12],\n",
    "                    [ 8, 4, 3]\n",
    "               ])\n",
    "assert np.allclose(doublealt(m3), \n",
    "                   m4)\n",
    "\n",
    "\n",
    "m5 = np.array( [ \n",
    "                    [ 2, 5, 6, 3],\n",
    "                    [ 8, 4, 3, 5],\n",
    "                    [ 7, 1, 6, 9],\n",
    "                    [ 5, 2, 4, 1],\n",
    "                    [ 6, 3, 4, 3]\n",
    "               ])\n",
    "m6 = np.array( [ \n",
    "                    [ 4,10,12, 6],\n",
    "                    [ 8, 4, 3, 5],\n",
    "                    [14, 2,12,18],\n",
    "                    [ 5, 2, 4, 1],\n",
    "                    [12, 6, 8, 6]\n",
    "               ])\n",
    "assert np.allclose(doublealt(m5), \n",
    "                   m6)\n",
    "\n",
    "\n",
    "# TEST END"
   ]
  },
  {
   "cell_type": "raw",
   "id": "3d30a6a6",
   "metadata": {
    "format": "text/html"
   },
   "source": [
    "</div>"
   ]
  },
  {
   "cell_type": "code",
   "execution_count": 63,
   "metadata": {},
   "outputs": [],
   "source": [
    "import numpy as np\n",
    "\n",
    "def doublealt(mat):\n",
    "    raise Exception('TODO IMPLEMENT ME !')\n",
    "\n",
    "\n",
    "# TEST START - DO NOT TOUCH!      \n",
    "# if you wrote the whole code correct, and execute the cell, Python shouldn't raise `AssertionError`\n",
    "\n",
    "m1 = np.array([ \n",
    "                [2],\n",
    "              ])\n",
    "m2 = np.array([\n",
    "                [4]\n",
    "              ])\n",
    "assert np.allclose(doublealt(m1),\n",
    "                   m2)\n",
    "assert m1[0][0] == 2  # checks we are not modifying original matrix\n",
    "\n",
    "\n",
    "m3 = np.array( [ \n",
    "                    [ 2, 5, 6],\n",
    "                    [ 8, 4, 3]\n",
    "               ])\n",
    "m4 = np.array( [ \n",
    "                    [ 4,10,12],\n",
    "                    [ 8, 4, 3]\n",
    "               ])\n",
    "assert np.allclose(doublealt(m3), \n",
    "                   m4)\n",
    "\n",
    "\n",
    "m5 = np.array( [ \n",
    "                    [ 2, 5, 6, 3],\n",
    "                    [ 8, 4, 3, 5],\n",
    "                    [ 7, 1, 6, 9],\n",
    "                    [ 5, 2, 4, 1],\n",
    "                    [ 6, 3, 4, 3]\n",
    "               ])\n",
    "m6 = np.array( [ \n",
    "                    [ 4,10,12, 6],\n",
    "                    [ 8, 4, 3, 5],\n",
    "                    [14, 2,12,18],\n",
    "                    [ 5, 2, 4, 1],\n",
    "                    [12, 6, 8, 6]\n",
    "               ])\n",
    "assert np.allclose(doublealt(m5), \n",
    "                   m6)\n",
    "\n",
    "\n",
    "# TEST END"
   ]
  },
  {
   "cell_type": "markdown",
   "metadata": {},
   "source": [
    "### frame\n",
    "\n",
    "✪✪✪ RETURN a NEW Numpy matrix of `n` rows and `n` columns, in which all the values are zero except those on borders, which must be equal to a given `k`       \n",
    "\n",
    "For example, `frame(4, 7.0)` must give:\n",
    "\n",
    "```python\n",
    "    array([[7.0, 7.0, 7.0, 7.0],\n",
    "           [7.0, 0.0, 0.0, 7.0],\n",
    "           [7.0, 0.0, 0.0, 7.0],\n",
    "           [7.0, 7.0, 7.0, 7.0]])\n",
    "```\n",
    "\n",
    "Ingredients:\n",
    "\n",
    "- create a matrix filled with zeros. ATTENTION: which dimensions does it have? Do you need `n` or `k` ? Read WELL the text.\n",
    "- start by filling the cells of first row with `k` values. To iterate along the first row columns, use a `for j in range(n)`\n",
    "- fill other rows and columns, using appropriate `for`\n"
   ]
  },
  {
   "cell_type": "raw",
   "id": "bfa83bd9",
   "metadata": {
    "format": "text/html"
   },
   "source": [
    "<a  class=\"jupman-sol jupman-sol-toggler\" \n",
    " onclick=\"jupman.toggleSolution(this);\" \n",
    " data-jupman-show=\"Show solution\" data-jupman-hide=\"Hide\">Show solution</a><div class=\"jupman-sol jupman-sol-code\" style=\"display:none\">  "
   ]
  },
  {
   "cell_type": "code",
   "execution_count": 64,
   "metadata": {},
   "outputs": [],
   "source": [
    "def frame(n, k):\n",
    "    \n",
    "    mat = np.zeros( (n,n)  )\n",
    "    for i in range(n):\n",
    "        mat[0, i] = k\n",
    "        mat[i, 0] = k\n",
    "        mat[i, n-1] = k\n",
    "        mat[n-1, i] = k\n",
    "    return mat\n",
    "    \n",
    "    \n",
    "\n",
    "# TEST START - DO NOT TOUCH!      \n",
    "# if you wrote the whole code correct, and execute the cell, Python shouldn't raise `AssertionError`\n",
    "\n",
    "expected_mat = np.array( [[7.0, 7.0, 7.0, 7.0],\n",
    "                         [7.0, 0.0, 0.0, 7.0],\n",
    "                         [7.0, 0.0, 0.0, 7.0],\n",
    "                         [7.0, 7.0, 7., 7.0]])\n",
    "# all_close return Ture if all the values in the first matrix are close enough\n",
    "# (that is, within a given tolerance) to corresponding values in the second\n",
    "assert np.allclose(frame(4, 7.0), expected_mat) \n",
    "\n",
    "expected_mat = np.array( [ [7.0]\n",
    "                       ])\n",
    "assert np.allclose(frame(1, 7.0), expected_mat) \n",
    "\n",
    "expected_mat = np.array( [ [7.0, 7.0],\n",
    "                         [7.0, 7.0]\n",
    "                       ])\n",
    "assert np.allclose(frame(2, 7.0), expected_mat) \n",
    "# TEST END"
   ]
  },
  {
   "cell_type": "raw",
   "id": "5ae03b87",
   "metadata": {
    "format": "text/html"
   },
   "source": [
    "</div>"
   ]
  },
  {
   "cell_type": "code",
   "execution_count": 64,
   "metadata": {},
   "outputs": [],
   "source": [
    "def frame(n, k):\n",
    "    raise Exception('TODO IMPLEMENT ME !')\n",
    "    \n",
    "\n",
    "# TEST START - DO NOT TOUCH!      \n",
    "# if you wrote the whole code correct, and execute the cell, Python shouldn't raise `AssertionError`\n",
    "\n",
    "expected_mat = np.array( [[7.0, 7.0, 7.0, 7.0],\n",
    "                         [7.0, 0.0, 0.0, 7.0],\n",
    "                         [7.0, 0.0, 0.0, 7.0],\n",
    "                         [7.0, 7.0, 7., 7.0]])\n",
    "# all_close return Ture if all the values in the first matrix are close enough\n",
    "# (that is, within a given tolerance) to corresponding values in the second\n",
    "assert np.allclose(frame(4, 7.0), expected_mat) \n",
    "\n",
    "expected_mat = np.array( [ [7.0]\n",
    "                       ])\n",
    "assert np.allclose(frame(1, 7.0), expected_mat) \n",
    "\n",
    "expected_mat = np.array( [ [7.0, 7.0],\n",
    "                         [7.0, 7.0]\n",
    "                       ])\n",
    "assert np.allclose(frame(2, 7.0), expected_mat) \n",
    "# TEST END"
   ]
  },
  {
   "cell_type": "markdown",
   "metadata": {},
   "source": [
    "### chessboard\n",
    "\n",
    "✪✪✪ RETURN a NEW Numpy matrix of `n` rows and `n` columns, in which all cells alternate zeros and ones.\n",
    "\n",
    "\n",
    "For example, `chessboard(4)` must give:\n",
    "   \n",
    " \n",
    "```python\n",
    "    array([[1.0, 0.0, 1.0, 0.0],\n",
    "           [0.0, 1.0, 0.0, 1.0],\n",
    "           [1.0, 0.0, 1.0, 0.0],\n",
    "           [0.0, 1.0, 0.0, 1.0]])\n",
    "```\n",
    "\n",
    "Ingredients:\n",
    "\n",
    "- to alternate, you can use `range` in the form in which takes 3 parameters, for example `range(0,n,2)` starts from 0, arrives to `n` excluded by jumping one item at a time, generating 0,2,4,6,8, ....\n",
    "- instead range(1,n,2) would generate 1,3,5,7, ...\n"
   ]
  },
  {
   "cell_type": "raw",
   "id": "d8c8ec2c",
   "metadata": {
    "format": "text/html"
   },
   "source": [
    "<a  class=\"jupman-sol jupman-sol-toggler\" \n",
    " onclick=\"jupman.toggleSolution(this);\" \n",
    " data-jupman-show=\"Show solution\" data-jupman-hide=\"Hide\">Show solution</a><div class=\"jupman-sol jupman-sol-code\" style=\"display:none\">  "
   ]
  },
  {
   "cell_type": "code",
   "execution_count": 65,
   "metadata": {},
   "outputs": [],
   "source": [
    "def chessboard(n):  \n",
    "    \n",
    "    mat = np.zeros( (n,n)  )\n",
    "    \n",
    "    for i in range(0,n, 2):\n",
    "        for j in range(0,n, 2):\n",
    "            mat[i, j] = 1\n",
    "\n",
    "    for i in range(1,n, 2):\n",
    "        for j in range(1,n, 2):\n",
    "            mat[i, j] = 1\n",
    "            \n",
    "    return mat\n",
    "    \n",
    "\n",
    "# TEST START - DO NOT TOUCH!      \n",
    "# if you wrote the whole code correct, and execute the cell, Python shouldn't raise `AssertionError`\n",
    "    \n",
    "expected_mat = np.array([[1.0, 0.0, 1.0, 0.0],\n",
    "                        [0.0, 1.0, 0.0, 1.0],\n",
    "                        [1.0, 0.0, 1.0, 0.0],\n",
    "                        [0.0, 1.0, 0.0, 1.0]])\n",
    "\n",
    "# all_close return True if all the values in the first matrix are close enough\n",
    "# (that is, within a certain tolerance) to the corresponding ones in the second matrix\n",
    "assert np.allclose(chessboard(4), expected_mat) \n",
    "\n",
    "expected_mat = np.array( [ [1.0]\n",
    "                         ])\n",
    "assert np.allclose(chessboard(1), expected_mat) \n",
    "\n",
    "expected_mat = np.array( [ [1.0, 0.0],\n",
    "                         [0.0, 1.0]\n",
    "                       ])\n",
    "assert np.allclose(chessboard(2), expected_mat) \n",
    "# TEST END"
   ]
  },
  {
   "cell_type": "raw",
   "id": "2ab1da79",
   "metadata": {
    "format": "text/html"
   },
   "source": [
    "</div>"
   ]
  },
  {
   "cell_type": "code",
   "execution_count": 65,
   "metadata": {},
   "outputs": [],
   "source": [
    "def chessboard(n):  \n",
    "    raise Exception('TODO IMPLEMENT ME !')\n",
    "\n",
    "# TEST START - DO NOT TOUCH!      \n",
    "# if you wrote the whole code correct, and execute the cell, Python shouldn't raise `AssertionError`\n",
    "    \n",
    "expected_mat = np.array([[1.0, 0.0, 1.0, 0.0],\n",
    "                        [0.0, 1.0, 0.0, 1.0],\n",
    "                        [1.0, 0.0, 1.0, 0.0],\n",
    "                        [0.0, 1.0, 0.0, 1.0]])\n",
    "\n",
    "# all_close return True if all the values in the first matrix are close enough\n",
    "# (that is, within a certain tolerance) to the corresponding ones in the second matrix\n",
    "assert np.allclose(chessboard(4), expected_mat) \n",
    "\n",
    "expected_mat = np.array( [ [1.0]\n",
    "                         ])\n",
    "assert np.allclose(chessboard(1), expected_mat) \n",
    "\n",
    "expected_mat = np.array( [ [1.0, 0.0],\n",
    "                         [0.0, 1.0]\n",
    "                       ])\n",
    "assert np.allclose(chessboard(2), expected_mat) \n",
    "# TEST END"
   ]
  },
  {
   "cell_type": "markdown",
   "metadata": {},
   "source": [
    "### altsum\n",
    "\n",
    "✪✪✪ MODIFY the input Numpy matrix (n x n), by summing to all the odd rows the even rows. For example\n",
    "\n",
    "```python\n",
    "    m = [[1.0, 3.0, 2.0, 5.0],\n",
    "         [2.0, 8.0, 5.0, 9.0],\n",
    "         [6.0, 9.0, 7.0, 2.0],\n",
    "         [4.0, 7.0, 2.0, 4.0]]\n",
    "    altsum(m)\n",
    "```    \n",
    "\n",
    "after the call to altsum `m` should be:\n",
    "\n",
    "```python\n",
    "    m = [[1.0, 3.0, 2.0, 5.0],\n",
    "         [3.0, 11.0,7.0, 14.0],\n",
    "         [6.0, 9.0, 7.0, 2.0],\n",
    "         [10.0,16.0,9.0, 6.0]]\n",
    "```    \n",
    "\n",
    "Ingredients:\n",
    "\n",
    "- to alternate, you can use `range` in the form in which takes 3 parameters, for example `range(0,n,2)` starts from 0, arrives to `n` excluded by jumping one item at a time, generating 0,2,4,6,8, ....\n",
    "- instead `range(1,n,2)` would generate 1,3,5,7, .."
   ]
  },
  {
   "cell_type": "raw",
   "id": "ab3958ce",
   "metadata": {
    "format": "text/html"
   },
   "source": [
    "<a  class=\"jupman-sol jupman-sol-toggler\" \n",
    " onclick=\"jupman.toggleSolution(this);\" \n",
    " data-jupman-show=\"Show solution\" data-jupman-hide=\"Hide\">Show solution</a><div class=\"jupman-sol jupman-sol-code\" style=\"display:none\">  "
   ]
  },
  {
   "cell_type": "code",
   "execution_count": 66,
   "metadata": {},
   "outputs": [],
   "source": [
    "def altsum(mat):\n",
    "    \n",
    "    nrows, ncols = mat.shape \n",
    "    for i in range(1,nrows, 2):\n",
    "        for j in range(0,ncols):\n",
    "            mat[i, j] = mat[i,j] + mat[i-1, j] \n",
    "    \n",
    "\n",
    "# TEST START - DO NOT TOUCH!      \n",
    "# if you wrote the whole code correct, and execute the cell, Python shouldn't raise `AssertionError`\n",
    "  \n",
    "m1 = np.array( [ \n",
    "                    [1.0, 3.0, 2.0, 5.0],\n",
    "                    [2.0, 8.0, 5.0, 9.0],\n",
    "                    [6.0, 9.0, 7.0, 2.0],\n",
    "                    [4.0, 7.0, 2.0, 4.0]\n",
    "               ]) \n",
    "\n",
    "r1 = np.array(    [ \n",
    "                      [1.0, 3.0, 2.0, 5.0],\n",
    "                      [3.0, 11.0,7.0, 14.0],\n",
    "                      [6.0, 9.0, 7.0, 2.0],\n",
    "                      [10.0,16.0,9.0, 6.0]\n",
    "                  ])\n",
    "\n",
    "altsum(m1)\n",
    "assert np.allclose(m1, r1) \n",
    "\n",
    "m2 = np.array( [ [5.0]  ])\n",
    "r2 = np.array( [ [5.0] ])\n",
    "altsum(m1)                  \n",
    "assert np.allclose(m2, r2) \n",
    "\n",
    "\n",
    "m3 = np.array( [ [6.0, 1.0],\n",
    "                 [3.0, 2.0]\n",
    "               ])                    \n",
    "r3 = np.array( [ [6.0, 1.0],\n",
    "                 [9.0, 3.0]\n",
    "               ])\n",
    "altsum(m3)                    \n",
    "assert np.allclose(m3, r3) \n",
    "# TEST END"
   ]
  },
  {
   "cell_type": "raw",
   "id": "ed8a7a6e",
   "metadata": {
    "format": "text/html"
   },
   "source": [
    "</div>"
   ]
  },
  {
   "cell_type": "code",
   "execution_count": 66,
   "metadata": {},
   "outputs": [],
   "source": [
    "def altsum(mat):\n",
    "    raise Exception('TODO IMPLEMENT ME !')\n",
    "\n",
    "# TEST START - DO NOT TOUCH!      \n",
    "# if you wrote the whole code correct, and execute the cell, Python shouldn't raise `AssertionError`\n",
    "  \n",
    "m1 = np.array( [ \n",
    "                    [1.0, 3.0, 2.0, 5.0],\n",
    "                    [2.0, 8.0, 5.0, 9.0],\n",
    "                    [6.0, 9.0, 7.0, 2.0],\n",
    "                    [4.0, 7.0, 2.0, 4.0]\n",
    "               ]) \n",
    "\n",
    "r1 = np.array(    [ \n",
    "                      [1.0, 3.0, 2.0, 5.0],\n",
    "                      [3.0, 11.0,7.0, 14.0],\n",
    "                      [6.0, 9.0, 7.0, 2.0],\n",
    "                      [10.0,16.0,9.0, 6.0]\n",
    "                  ])\n",
    "\n",
    "altsum(m1)\n",
    "assert np.allclose(m1, r1) \n",
    "\n",
    "m2 = np.array( [ [5.0]  ])\n",
    "r2 = np.array( [ [5.0] ])\n",
    "altsum(m1)                  \n",
    "assert np.allclose(m2, r2) \n",
    "\n",
    "\n",
    "m3 = np.array( [ [6.0, 1.0],\n",
    "                 [3.0, 2.0]\n",
    "               ])                    \n",
    "r3 = np.array( [ [6.0, 1.0],\n",
    "                 [9.0, 3.0]\n",
    "               ])\n",
    "altsum(m3)                    \n",
    "assert np.allclose(m3, r3) \n",
    "# TEST END"
   ]
  },
  {
   "cell_type": "markdown",
   "metadata": {},
   "source": [
    "### avg_rows\n",
    "\n",
    "✪✪✪ Takes a Numpy matrix n x m and RETURN a NEW Numpy matrix consisting in a single column in which the values are the average of the values in corresponding rows of input matrix\n",
    "\n",
    "\n",
    "Example:\n",
    "\n",
    "Input: 5x4 matrix\n",
    "\n",
    "```\n",
    "3 2 1 4\n",
    "6 2 3 5\n",
    "4 3 6 2\n",
    "4 6 5 4\n",
    "7 2 9 3\n",
    "```\n",
    "\n",
    "Output: 5x1 matrix\n",
    "\n",
    "```\n",
    "(3+2+1+4)/4 \n",
    "(6+2+3+5)/4\n",
    "(4+3+6+2)/4\n",
    "(4+6+5+4)/4\n",
    "(7+2+9+3)/4\n",
    "```\n",
    "\n",
    "Ingredients:\n",
    "\n",
    "- create a matrix n x 1 to return, filling it with zeros\n",
    "- visit all cells of original matrix with two nested fors\n",
    "- during visit, accumulate in the matrix to return the sum of elements takes from each row of original matrix\n",
    "- once completed the sum of a row, you can divide it by the dimension of columns of original matrix\n",
    "- return the matrix"
   ]
  },
  {
   "cell_type": "raw",
   "id": "1342dde7",
   "metadata": {
    "format": "text/html"
   },
   "source": [
    "<a  class=\"jupman-sol jupman-sol-toggler\" \n",
    " onclick=\"jupman.toggleSolution(this);\" \n",
    " data-jupman-show=\"Show solution\" data-jupman-hide=\"Hide\">Show solution</a><div class=\"jupman-sol jupman-sol-code\" style=\"display:none\">  "
   ]
  },
  {
   "cell_type": "code",
   "execution_count": 67,
   "metadata": {},
   "outputs": [],
   "source": [
    "def avg_rows(mat):\n",
    "    \n",
    "    nrows, ncols = mat.shape\n",
    "\n",
    "    ret = np.zeros( (nrows,1)  )\n",
    "\n",
    "    for i in range(nrows):\n",
    "\n",
    "        for j in range(ncols):\n",
    "            ret[i] += mat[i,j] \n",
    "\n",
    "        ret[i] = ret[i] / ncols\n",
    "        # for brevity we could also write\n",
    "        # ret[i] /= colonne      \n",
    "    \n",
    "    return ret\n",
    "  \n",
    "# TEST START - DO NOT TOUCH!      \n",
    "# if you wrote the whole code correct, and execute the cell, Python shouldn't raise `AssertionError`\n",
    "    \n",
    "m1 = np.array([ [5.0] ])\n",
    "r1 = np.array([ [5.0] ])\n",
    "assert np.allclose(avg_rows(m1), r1)\n",
    "\n",
    "m2 = np.array([ [5.0, 3.0] ])            \n",
    "r2 = np.array([ [4.0] ])                                      \n",
    "assert np.allclose(avg_rows(m2), r2)\n",
    "\n",
    "\n",
    "m3 = np.array([ [3,2,1,4],\n",
    "                [6,2,3,5],\n",
    "                [4,3,6,2],\n",
    "                [4,6,5,4],\n",
    "                [7,2,9,3] ])\n",
    "\n",
    "r3 = np.array([ [(3+2+1+4)/4],\n",
    "                [(6+2+3+5)/4],\n",
    "                [(4+3+6+2)/4],\n",
    "                [(4+6+5+4)/4],\n",
    "                [(7+2+9+3)/4] ])\n",
    "\n",
    "assert np.allclose(avg_rows(m3), r3)\n",
    "# TEST END"
   ]
  },
  {
   "cell_type": "raw",
   "id": "52acb204",
   "metadata": {
    "format": "text/html"
   },
   "source": [
    "</div>"
   ]
  },
  {
   "cell_type": "code",
   "execution_count": 67,
   "metadata": {},
   "outputs": [],
   "source": [
    "def avg_rows(mat):\n",
    "    raise Exception('TODO IMPLEMENT ME !')\n",
    "    return ret\n",
    "  \n",
    "# TEST START - DO NOT TOUCH!      \n",
    "# if you wrote the whole code correct, and execute the cell, Python shouldn't raise `AssertionError`\n",
    "    \n",
    "m1 = np.array([ [5.0] ])\n",
    "r1 = np.array([ [5.0] ])\n",
    "assert np.allclose(avg_rows(m1), r1)\n",
    "\n",
    "m2 = np.array([ [5.0, 3.0] ])            \n",
    "r2 = np.array([ [4.0] ])                                      \n",
    "assert np.allclose(avg_rows(m2), r2)\n",
    "\n",
    "\n",
    "m3 = np.array([ [3,2,1,4],\n",
    "                [6,2,3,5],\n",
    "                [4,3,6,2],\n",
    "                [4,6,5,4],\n",
    "                [7,2,9,3] ])\n",
    "\n",
    "r3 = np.array([ [(3+2+1+4)/4],\n",
    "                [(6+2+3+5)/4],\n",
    "                [(4+3+6+2)/4],\n",
    "                [(4+6+5+4)/4],\n",
    "                [(7+2+9+3)/4] ])\n",
    "\n",
    "assert np.allclose(avg_rows(m3), r3)\n",
    "# TEST END"
   ]
  },
  {
   "cell_type": "markdown",
   "metadata": {},
   "source": [
    "### avg_half\n",
    "\n",
    "✪✪✪ Takes as input a Numpy matrix  withan even number of columns, and RETURN as output a Numpy matrix 1x2, in which the first element will be the average of the left half of the matrix, and the second element will be the average of the right half.\n",
    "\n",
    "Ingredients: \n",
    "\n",
    "- to obtain the number of columns divided by two as integer number, use `//` operator\n"
   ]
  },
  {
   "cell_type": "raw",
   "id": "5786b271",
   "metadata": {
    "format": "text/html"
   },
   "source": [
    "<a  class=\"jupman-sol jupman-sol-toggler\" \n",
    " onclick=\"jupman.toggleSolution(this);\" \n",
    " data-jupman-show=\"Show solution\" data-jupman-hide=\"Hide\">Show solution</a><div class=\"jupman-sol jupman-sol-code\" style=\"display:none\">  "
   ]
  },
  {
   "cell_type": "code",
   "execution_count": 68,
   "metadata": {},
   "outputs": [],
   "source": [
    "def avg_half(mat):\n",
    "    \n",
    "    nrows, ncols = mat.shape\n",
    "    half_cols = ncols // 2\n",
    "    \n",
    "    avg_sx = 0.0\n",
    "    avg_dx = 0.0\n",
    "    \n",
    "    # scrivi qui\n",
    "    for i in range(nrows):\n",
    "        for j in range(half_cols):\n",
    "            avg_sx += mat[i,j]\n",
    "        for j in range(half_cols, ncols):\n",
    "            avg_dx += mat[i,j]\n",
    "            \n",
    "    half_elements = nrows * half_cols\n",
    "    avg_sx /=  half_elements\n",
    "    avg_dx /= half_elements\n",
    "    return np.array([avg_sx, avg_dx])\n",
    "    \n",
    "\n",
    "# TEST START - DO NOT TOUCH!      \n",
    "# if you wrote the whole code correct, and execute the cell, Python shouldn't raise `AssertionError`\n",
    "\n",
    "m1 = np.array([[3,2,1,4],\n",
    "              [6,2,3,5],\n",
    "              [4,3,6,2],\n",
    "              [4,6,5,4],\n",
    "              [7,2,9,3]])\n",
    "\n",
    "r1 = np.array([(3+2+6+2+4+3+4+6+7+2)/10, (1+4+3+5+6+2+5+4+9+3)/10  ])\n",
    "\n",
    "assert np.allclose( avg_half(m1), r1)\n",
    "# TEST END"
   ]
  },
  {
   "cell_type": "raw",
   "id": "9f16aa4f",
   "metadata": {
    "format": "text/html"
   },
   "source": [
    "</div>"
   ]
  },
  {
   "cell_type": "code",
   "execution_count": 68,
   "metadata": {},
   "outputs": [],
   "source": [
    "def avg_half(mat):\n",
    "    raise Exception('TODO IMPLEMENT ME !')\n",
    "\n",
    "# TEST START - DO NOT TOUCH!      \n",
    "# if you wrote the whole code correct, and execute the cell, Python shouldn't raise `AssertionError`\n",
    "\n",
    "m1 = np.array([[3,2,1,4],\n",
    "              [6,2,3,5],\n",
    "              [4,3,6,2],\n",
    "              [4,6,5,4],\n",
    "              [7,2,9,3]])\n",
    "\n",
    "r1 = np.array([(3+2+6+2+4+3+4+6+7+2)/10, (1+4+3+5+6+2+5+4+9+3)/10  ])\n",
    "\n",
    "assert np.allclose( avg_half(m1), r1)\n",
    "# TEST END"
   ]
  },
  {
   "cell_type": "markdown",
   "metadata": {},
   "source": [
    "### matxarr\n",
    "\n",
    "✪✪✪ Takes a Numpy matrix `n` x `m` and an `ndarray` of `m` elements, and RETURN a NEW Numpy matrix in which the values of each column of input matrix are multiplied by the corresponding value in the `n` elements array.\n"
   ]
  },
  {
   "cell_type": "raw",
   "id": "110847d6",
   "metadata": {
    "format": "text/html"
   },
   "source": [
    "<a  class=\"jupman-sol jupman-sol-toggler\" \n",
    " onclick=\"jupman.toggleSolution(this);\" \n",
    " data-jupman-show=\"Show solution\" data-jupman-hide=\"Hide\">Show solution</a><div class=\"jupman-sol jupman-sol-code\" style=\"display:none\">  "
   ]
  },
  {
   "cell_type": "code",
   "execution_count": 69,
   "metadata": {},
   "outputs": [],
   "source": [
    "\n",
    "def matxarr(mat, arr):\n",
    "    \n",
    "    ret = np.zeros( mat.shape )\n",
    "    \n",
    "    for i in range(mat.shape[0]):\n",
    "        for j in range(mat.shape[1]):\n",
    "            ret[i,j] = mat[i,j] * arr[j]            \n",
    "    \n",
    "    return ret\n",
    "    \n",
    "    \n",
    "# TEST START - DO NOT TOUCH!      \n",
    "# if you wrote the whole code correct, and execute the cell, Python shouldn't raise `AssertionError`\n",
    "m1 = np.array([ [3,2,1],\n",
    "               [6,2,3],\n",
    "               [4,3,6],\n",
    "               [4,6,5]])    \n",
    "\n",
    "a1 = [5, 2, 6]\n",
    "\n",
    "r1 = [ [3*5, 2*2, 1*6],\n",
    "               [6*5, 2*2, 3*6],\n",
    "               [4*5, 3*2, 6*6],\n",
    "               [4*5, 6*2, 5*6]]\n",
    "\n",
    "assert np.allclose(matxarr(m1,a1), r1)\n",
    "# TEST END"
   ]
  },
  {
   "cell_type": "raw",
   "id": "b8ab8167",
   "metadata": {
    "format": "text/html"
   },
   "source": [
    "</div>"
   ]
  },
  {
   "cell_type": "code",
   "execution_count": 69,
   "metadata": {},
   "outputs": [],
   "source": [
    "\n",
    "def matxarr(mat, arr):\n",
    "    raise Exception('TODO IMPLEMENT ME !')\n",
    "    \n",
    "# TEST START - DO NOT TOUCH!      \n",
    "# if you wrote the whole code correct, and execute the cell, Python shouldn't raise `AssertionError`\n",
    "m1 = np.array([ [3,2,1],\n",
    "               [6,2,3],\n",
    "               [4,3,6],\n",
    "               [4,6,5]])    \n",
    "\n",
    "a1 = [5, 2, 6]\n",
    "\n",
    "r1 = [ [3*5, 2*2, 1*6],\n",
    "               [6*5, 2*2, 3*6],\n",
    "               [4*5, 3*2, 6*6],\n",
    "               [4*5, 6*2, 5*6]]\n",
    "\n",
    "assert np.allclose(matxarr(m1,a1), r1)\n",
    "# TEST END"
   ]
  },
  {
   "cell_type": "markdown",
   "metadata": {},
   "source": [
    "### quadrants\n",
    "\n",
    "✪✪✪ Given a matrix `2n * 2n`, divide the matrix in 4 equal square parts   (see example) and RETURN a NEW matrix `2 * 2` containing the average of each quadrant.\n",
    "\n",
    "We assume the matrix is always of even dimensions\n",
    "\n",
    "HINT: to divide by two and obtain an integer number, use `//` operator\n",
    "\n",
    "\n",
    "Example:\n",
    "\n",
    "```\n",
    " 1, 2 , 5 , 7\n",
    " 4, 1 , 8 , 0\n",
    " 2, 0 , 5 , 1 \n",
    " 0, 2 , 1 , 1 \n",
    "```\n",
    "can be divided in \n",
    "\n",
    "```\n",
    "  1, 2 | 5 , 7\n",
    "  4, 1 | 8 , 0\n",
    "----------------- \n",
    "  2, 0 | 5 , 1 \n",
    "  0, 2 | 1 , 1 \n",
    "```\n",
    "\n",
    "and returns\n",
    "\n",
    "```\n",
    "  (1+2+4+1)/ 4  | (5+7+8+0)/4                        2.0 , 5.0 \n",
    "  -----------------------------            =>        1.0 , 2.0 \n",
    "  (2+0+0+2)/4   | (5+1+1+1)/4  \n",
    "```\n",
    "\n"
   ]
  },
  {
   "cell_type": "raw",
   "id": "d6604846",
   "metadata": {
    "format": "text/html"
   },
   "source": [
    "<a  class=\"jupman-sol jupman-sol-toggler\" \n",
    " onclick=\"jupman.toggleSolution(this);\" \n",
    " data-jupman-show=\"Show solution\" data-jupman-hide=\"Hide\">Show solution</a><div class=\"jupman-sol jupman-sol-code\" style=\"display:none\">  "
   ]
  },
  {
   "cell_type": "code",
   "execution_count": 70,
   "metadata": {},
   "outputs": [],
   "source": [
    "\n",
    "\n",
    "import numpy as np\n",
    "\n",
    "def quadrants(mat):\n",
    "    \n",
    "    ret = np.zeros( (2,2) )\n",
    "    \n",
    "    dim = mat.shape[0] \n",
    "    n = dim // 2\n",
    "    elements_per_quad = n * n\n",
    "    \n",
    "    for i in range(n):\n",
    "        for j in range(n):\n",
    "            ret[0,0] += mat[i,j]\n",
    "    ret[0,0] /=   elements_per_quad\n",
    "        \n",
    "      \n",
    "    for i in range(n,dim):\n",
    "        for j in range(n):\n",
    "            ret[1,0] += mat[i,j]\n",
    "    ret[1,0] /= elements_per_quad\n",
    "\n",
    "    for i in range(n,dim):\n",
    "        for j in range(n,dim):\n",
    "            ret[1,1] += mat[i,j]\n",
    "    ret[1,1] /= elements_per_quad\n",
    "\n",
    "    for i in range(n):\n",
    "        for j in range(n,dim):\n",
    "            ret[0,1] += mat[i,j]\n",
    "    ret[0,1] /= elements_per_quad\n",
    "    \n",
    "    return ret\n",
    "    \n",
    "        \n",
    "# TEST START - DO NOT TOUCH!      \n",
    "# if you wrote the whole code correct, and execute the cell, Python shouldn't raise `AssertionError`\n",
    "\n",
    "assert np.allclose(\n",
    "    quadrants(np.array([\n",
    "                          [3.0, 5.0],\n",
    "                          [4.0, 9.0],\n",
    "                       ])),\n",
    "              np.array([\n",
    "                          [3.0, 5.0],\n",
    "                          [4.0, 9.0],\n",
    "                       ]))\n",
    "\n",
    "assert np.allclose(\n",
    "    quadrants(np.array([    \n",
    "                         [1.0, 2.0 , 5.0 , 7.0],\n",
    "                         [4.0, 1.0 , 8.0 , 0.0],\n",
    "                         [2.0, 0.0 , 5.0 , 1.0], \n",
    "                         [0.0, 2.0 , 1.0 , 1.0]    \n",
    "                       ])), \n",
    "              np.array([ \n",
    "                         [2.0, 5.0],\n",
    "                         [1.0, 2.0]\n",
    "                       ])) \n",
    "\n",
    "# TEST END\n"
   ]
  },
  {
   "cell_type": "raw",
   "id": "a5285711",
   "metadata": {
    "format": "text/html"
   },
   "source": [
    "</div>"
   ]
  },
  {
   "cell_type": "code",
   "execution_count": 70,
   "metadata": {},
   "outputs": [],
   "source": [
    "\n",
    "\n",
    "import numpy as np\n",
    "\n",
    "def quadrants(mat):\n",
    "    raise Exception('TODO IMPLEMENT ME !')\n",
    "        \n",
    "# TEST START - DO NOT TOUCH!      \n",
    "# if you wrote the whole code correct, and execute the cell, Python shouldn't raise `AssertionError`\n",
    "\n",
    "assert np.allclose(\n",
    "    quadrants(np.array([\n",
    "                          [3.0, 5.0],\n",
    "                          [4.0, 9.0],\n",
    "                       ])),\n",
    "              np.array([\n",
    "                          [3.0, 5.0],\n",
    "                          [4.0, 9.0],\n",
    "                       ]))\n",
    "\n",
    "assert np.allclose(\n",
    "    quadrants(np.array([    \n",
    "                         [1.0, 2.0 , 5.0 , 7.0],\n",
    "                         [4.0, 1.0 , 8.0 , 0.0],\n",
    "                         [2.0, 0.0 , 5.0 , 1.0], \n",
    "                         [0.0, 2.0 , 1.0 , 1.0]    \n",
    "                       ])), \n",
    "              np.array([ \n",
    "                         [2.0, 5.0],\n",
    "                         [1.0, 2.0]\n",
    "                       ])) \n",
    "\n",
    "# TEST END\n"
   ]
  },
  {
   "cell_type": "markdown",
   "metadata": {},
   "source": [
    "\n",
    "### matrot \n",
    "\n",
    "✪✪✪ RETURN a NEW Numpy matrix which has the numbers of input matrix rotated by a column. \n",
    "\n",
    "With rotation we mean that:\n",
    "\n",
    "- if a number of input matrix is found in column `j`, in the output matrix it will be in the column `j+1` in the same row.\n",
    "- if a number is found in the last column, in the output matrix it will be in the zertoth column\n",
    "\n",
    "Example:\n",
    "\n",
    "\n",
    "If we have as input:\n",
    "\n",
    "```python\n",
    "np.array(   [\n",
    "                [0,1,0],\n",
    "                [1,1,0],\n",
    "                [0,0,0],\n",
    "                [0,1,1]\n",
    "            ])\n",
    "```\n",
    "\n",
    "We expect as output:\n",
    "\n",
    "```python\n",
    "np.array(   [\n",
    "                [0,0,1],\n",
    "                [0,1,1],\n",
    "                [0,0,0],\n",
    "                [1,0,1]\n",
    "            ])\n",
    "```\n"
   ]
  },
  {
   "cell_type": "raw",
   "id": "37e31350",
   "metadata": {
    "format": "text/html"
   },
   "source": [
    "<a  class=\"jupman-sol jupman-sol-toggler\" \n",
    " onclick=\"jupman.toggleSolution(this);\" \n",
    " data-jupman-show=\"Show solution\" data-jupman-hide=\"Hide\">Show solution</a><div class=\"jupman-sol jupman-sol-code\" style=\"display:none\">  "
   ]
  },
  {
   "cell_type": "code",
   "execution_count": 71,
   "metadata": {},
   "outputs": [],
   "source": [
    "import numpy as np\n",
    "\n",
    "def matrot(mat):\n",
    "    \n",
    "    ret = np.zeros(mat.shape)\n",
    "\n",
    "    for i in range(mat.shape[0]):\n",
    "        ret[i,0] = mat[i,-1]\n",
    "        for j in range(1, mat.shape[1]):\n",
    "            ret[i,j] = mat[i,j-1]\n",
    "    return ret\n",
    "    \n",
    "\n",
    "# TEST START - DO NOT TOUCH!      \n",
    "# if you wrote the whole code correct, and execute the cell, Python shouldn't raise `AssertionError`\n",
    "\n",
    "m1 = np.array(  [ [1] ])\n",
    "r1 = np.array(  [ [1] ])\n",
    "\n",
    "assert np.allclose(matrot(m1), r1)\n",
    "\n",
    "m2 = np.array(  [ [0,1] ])\n",
    "r2 = np.array(  [ [1,0] ])\n",
    "assert np.allclose(matrot(m2), r2)\n",
    "\n",
    "m3 = np.array(  [ [0,1,0] ])\n",
    "r3 = np.array(  [ [0,0,1] ])\n",
    "\n",
    "assert np.allclose(matrot(m3), r3)\n",
    "\n",
    "m4 = np.array(  [ \n",
    "                    [0,1,0],\n",
    "                    [1,1,0]\n",
    "                ])\n",
    "r4 = np.array( [\n",
    "                    [0,0,1],\n",
    "                    [0,1,1]\n",
    "                ])\n",
    "assert np.allclose(matrot(m4), r4)\n",
    "\n",
    "\n",
    "m5 = np.array([\n",
    "                [0,1,0],\n",
    "                [1,1,0],\n",
    "                [0,0,0],\n",
    "                [0,1,1]\n",
    "              ])\n",
    "r5 = np.array([\n",
    "                [0,0,1],\n",
    "                [0,1,1],\n",
    "                [0,0,0],\n",
    "                [1,0,1]\n",
    "               ])\n",
    "assert np.allclose(matrot(m5), r5)\n",
    "# TEST END"
   ]
  },
  {
   "cell_type": "raw",
   "id": "35f41018",
   "metadata": {
    "format": "text/html"
   },
   "source": [
    "</div>"
   ]
  },
  {
   "cell_type": "code",
   "execution_count": 71,
   "metadata": {},
   "outputs": [],
   "source": [
    "import numpy as np\n",
    "\n",
    "def matrot(mat):\n",
    "    raise Exception('TODO IMPLEMENT ME !')\n",
    "\n",
    "# TEST START - DO NOT TOUCH!      \n",
    "# if you wrote the whole code correct, and execute the cell, Python shouldn't raise `AssertionError`\n",
    "\n",
    "m1 = np.array(  [ [1] ])\n",
    "r1 = np.array(  [ [1] ])\n",
    "\n",
    "assert np.allclose(matrot(m1), r1)\n",
    "\n",
    "m2 = np.array(  [ [0,1] ])\n",
    "r2 = np.array(  [ [1,0] ])\n",
    "assert np.allclose(matrot(m2), r2)\n",
    "\n",
    "m3 = np.array(  [ [0,1,0] ])\n",
    "r3 = np.array(  [ [0,0,1] ])\n",
    "\n",
    "assert np.allclose(matrot(m3), r3)\n",
    "\n",
    "m4 = np.array(  [ \n",
    "                    [0,1,0],\n",
    "                    [1,1,0]\n",
    "                ])\n",
    "r4 = np.array( [\n",
    "                    [0,0,1],\n",
    "                    [0,1,1]\n",
    "                ])\n",
    "assert np.allclose(matrot(m4), r4)\n",
    "\n",
    "\n",
    "m5 = np.array([\n",
    "                [0,1,0],\n",
    "                [1,1,0],\n",
    "                [0,0,0],\n",
    "                [0,1,1]\n",
    "              ])\n",
    "r5 = np.array([\n",
    "                [0,0,1],\n",
    "                [0,1,1],\n",
    "                [0,0,0],\n",
    "                [1,0,1]\n",
    "               ])\n",
    "assert np.allclose(matrot(m5), r5)\n",
    "# TEST END"
   ]
  },
  {
   "cell_type": "markdown",
   "metadata": {},
   "source": [
    "\n",
    "## References\n",
    "\n",
    "- [Andrea Passerini numpy slides](http://disi.unitn.it/~passerini/teaching/2020-2021/sci-pro/slides/A08-numpy.pdf)\n",
    "- [Python Data Science Handbook, Numpy part](https://jakevdp.github.io/PythonDataScienceHandbook/02.00-introduction-to-numpy.html)\n",
    "\n",
    "\n",
    "### Other Numpy exercises\n",
    "\n",
    "- Try to do exercises from [lists of lists](https://en.softpython.org/matrices-lists/matrices-lists-sol.html) using Numpy instead\n",
    "- try to make the exercises more performant by using Numpy features and functions (i.e. `2*arr` multiplies all numbers in arr without the need of a slow Python `for`)\n",
    "- [machinelearningplus](https://www.machinelearningplus.com/python/101-numpy-exercises-python/)  Numpy exercises - (difficulty L1, L2, if you wish try L3)"
   ]
  },
  {
   "cell_type": "code",
   "execution_count": null,
   "metadata": {},
   "outputs": [],
   "source": []
  }
 ],
 "metadata": {
  "celltoolbar": "Edit Metadata",
  "kernelspec": {
   "display_name": "Python 3",
   "language": "python",
   "name": "python3"
  },
  "language_info": {
   "codemirror_mode": {
    "name": "ipython",
    "version": 3
   },
   "file_extension": ".py",
   "mimetype": "text/x-python",
   "name": "python",
   "nbconvert_exporter": "python",
   "pygments_lexer": "ipython3",
   "version": "3.7.10"
  },
  "toc": {
   "base_numbering": 1,
   "nav_menu": {},
   "number_sections": false,
   "sideBar": true,
   "skip_h1_title": false,
   "title_cell": "Table of Contents",
   "title_sidebar": "Contents",
   "toc_cell": false,
   "toc_position": {
    "height": "calc(100% - 180px)",
    "left": "10px",
    "top": "150px",
    "width": "268px"
   },
   "toc_section_display": true,
   "toc_window_display": true
  }
 },
 "nbformat": 4,
 "nbformat_minor": 2
}
