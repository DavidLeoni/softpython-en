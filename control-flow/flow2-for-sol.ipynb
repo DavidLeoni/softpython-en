{
 "cells": [
  {
   "cell_type": "code",
   "execution_count": 1,
   "metadata": {
    "nbsphinx": "hidden"
   },
   "outputs": [],
   "source": [
    "# Remember to execute this cell with Shift+Enter\n",
    "import jupman"
   ]
  },
  {
   "cell_type": "markdown",
   "metadata": {},
   "source": [
    "# Conditionals - for loops\n",
    "\n",
    "## [Download exercises zip](../_static/generated/control-flow.zip)\n",
    "\n",
    "[Browse online files](https://github.com/DavidLeoni/softpython-en/tree/master/control-flow)"
   ]
  },
  {
   "cell_type": "markdown",
   "metadata": {},
   "source": [
    "If we want to perform some actions for each element of a collection, we will need the so-called `for` loop, which allows to _iterate_  any sequence."
   ]
  },
  {
   "cell_type": "markdown",
   "metadata": {},
   "source": [
    "## What to do\n",
    "\n",
    "1. Unzip [exercises zip](../_static/generated/control-flow.zip) in a folder, you should obtain something like this:\n",
    "\n",
    "```\n",
    "control-flow\n",
    "    flow1-if.ipynb    \n",
    "    flow1-if-sol.ipynb         \n",
    "    flow2-for.ipynb\n",
    "    flow2-for-sol.ipynb\n",
    "    flow3-while.ipynb\n",
    "    flow3-while-sol.ipynb\n",
    "    jupman.py         \n",
    "```\n",
    "\n",
    "<div class=\"alert alert-warning\">\n",
    "\n",
    "**WARNING: to correctly visualize the notebook, it MUST be in an unzipped folder !**\n",
    "</div>"
   ]
  },
  {
   "cell_type": "markdown",
   "metadata": {},
   "source": [
    "2. open Jupyter Notebook from that folder. Two things should open, first a console and then a browser. The browser should show a file list: navigate the list and open the notebook `flow2-for.ipynb`\n",
    "\n",
    "3. Go on reading the exercises file, sometimes you will find paragraphs marked **Exercises** graded from ✪ to ✪✪✪✪ which will ask to write Python commands in the following cells."
   ]
  },
  {
   "cell_type": "markdown",
   "metadata": {},
   "source": [
    "Shortcut keys:\n",
    "\n",
    "- to execute Python code inside a Jupyter cell, press `Control + Enter`\n",
    "\n",
    "- to execute Python code inside a Jupyter cell AND select next cell, press `Shift + Enter`\n",
    "\n",
    "- to execute Python code inside a Jupyter cell AND a create a new cell aftwerwards, press `Alt + Enter`\n",
    "\n",
    "- If the notebooks look stuck, try to select `Kernel -> Restart`"
   ]
  },
  {
   "cell_type": "markdown",
   "metadata": {},
   "source": [
    "## Iteration by element\n",
    "\n",
    "If we have a sequence like this list:"
   ]
  },
  {
   "cell_type": "code",
   "execution_count": 2,
   "metadata": {},
   "outputs": [],
   "source": [
    "sports = ['volleyball', 'tennis', 'soccer', 'swimming']"
   ]
  },
  {
   "cell_type": "markdown",
   "metadata": {},
   "source": [
    "and we want ito  use every element of the list in some way (for exemple to print them), we can go through them (more precisely, _iterate)_ with a `for` cycle:"
   ]
  },
  {
   "cell_type": "code",
   "execution_count": 3,
   "metadata": {},
   "outputs": [
    {
     "name": "stdout",
     "output_type": "stream",
     "text": [
      "Found an element!\n",
      "volleyball\n",
      "Found an element!\n",
      "tennis\n",
      "Found an element!\n",
      "soccer\n",
      "Found an element!\n",
      "swimming\n",
      "Done!\n"
     ]
    }
   ],
   "source": [
    "for element in sports:\n",
    "    print('Found an element!')\n",
    "    print(element)\n",
    "\n",
    "print('Done!')"
   ]
  },
  {
   "cell_type": "markdown",
   "metadata": {},
   "source": [
    "Let's see what happens in Python Tutor:"
   ]
  },
  {
   "cell_type": "code",
   "execution_count": 4,
   "metadata": {},
   "outputs": [],
   "source": [
    "# WARNING: FOR PYTHON TUTOR TO WORK, REMEMBER TO EXECUTE THIS CELL with Shift+Enter\n",
    "#          (it's sufficient to execute it only once)\n",
    "\n",
    "import jupman"
   ]
  },
  {
   "cell_type": "code",
   "execution_count": 5,
   "metadata": {},
   "outputs": [
    {
     "name": "stdout",
     "output_type": "stream",
     "text": [
      "Found an element!\n",
      "volleyball\n",
      "Found an element!\n",
      "tennis\n",
      "Found an element!\n",
      "soccer\n",
      "Found an element!\n",
      "swimming\n",
      "Done!\n"
     ]
    },
    {
     "data": {
      "text/html": [
       "\n",
       "        <script src=\"../_static/js/pytutor-embed.bundle.min.js\" type=\"application/javascript\"></script>\n",
       "     \n",
       "        <script id=\"json-jm983724cc-54ee-44c9-81a9-950dbd2fda79\" type=\"application/json\" >\n",
       "            {\"code\": \" \\nsports = ['volleyball', 'tennis', 'soccer', 'swimming']\\nfor element in sports:\\n    print('Found an element!')\\n    print(element)\\n\\nprint('Done!')\", \"trace\": [{\"line\": 2, \"event\": \"step_line\", \"func_name\": \"<module>\", \"globals\": {}, \"ordered_globals\": [], \"stack_to_render\": [], \"heap\": {}, \"stdout\": \"\"}, {\"line\": 3, \"event\": \"step_line\", \"func_name\": \"<module>\", \"globals\": {\"sports\": [\"REF\", 1]}, \"ordered_globals\": [\"sports\"], \"stack_to_render\": [], \"heap\": {\"1\": [\"LIST\", \"volleyball\", \"tennis\", \"soccer\", \"swimming\"]}, \"stdout\": \"\"}, {\"line\": 4, \"event\": \"step_line\", \"func_name\": \"<module>\", \"globals\": {\"sports\": [\"REF\", 1], \"element\": \"volleyball\"}, \"ordered_globals\": [\"sports\", \"element\"], \"stack_to_render\": [], \"heap\": {\"1\": [\"LIST\", \"volleyball\", \"tennis\", \"soccer\", \"swimming\"]}, \"stdout\": \"\"}, {\"line\": 5, \"event\": \"step_line\", \"func_name\": \"<module>\", \"globals\": {\"sports\": [\"REF\", 1], \"element\": \"volleyball\"}, \"ordered_globals\": [\"sports\", \"element\"], \"stack_to_render\": [], \"heap\": {\"1\": [\"LIST\", \"volleyball\", \"tennis\", \"soccer\", \"swimming\"]}, \"stdout\": \"Found an element!\\n\"}, {\"line\": 3, \"event\": \"step_line\", \"func_name\": \"<module>\", \"globals\": {\"sports\": [\"REF\", 1], \"element\": \"volleyball\"}, \"ordered_globals\": [\"sports\", \"element\"], \"stack_to_render\": [], \"heap\": {\"1\": [\"LIST\", \"volleyball\", \"tennis\", \"soccer\", \"swimming\"]}, \"stdout\": \"Found an element!\\nvolleyball\\n\"}, {\"line\": 4, \"event\": \"step_line\", \"func_name\": \"<module>\", \"globals\": {\"sports\": [\"REF\", 1], \"element\": \"tennis\"}, \"ordered_globals\": [\"sports\", \"element\"], \"stack_to_render\": [], \"heap\": {\"1\": [\"LIST\", \"volleyball\", \"tennis\", \"soccer\", \"swimming\"]}, \"stdout\": \"Found an element!\\nvolleyball\\n\"}, {\"line\": 5, \"event\": \"step_line\", \"func_name\": \"<module>\", \"globals\": {\"sports\": [\"REF\", 1], \"element\": \"tennis\"}, \"ordered_globals\": [\"sports\", \"element\"], \"stack_to_render\": [], \"heap\": {\"1\": [\"LIST\", \"volleyball\", \"tennis\", \"soccer\", \"swimming\"]}, \"stdout\": \"Found an element!\\nvolleyball\\nFound an element!\\n\"}, {\"line\": 3, \"event\": \"step_line\", \"func_name\": \"<module>\", \"globals\": {\"sports\": [\"REF\", 1], \"element\": \"tennis\"}, \"ordered_globals\": [\"sports\", \"element\"], \"stack_to_render\": [], \"heap\": {\"1\": [\"LIST\", \"volleyball\", \"tennis\", \"soccer\", \"swimming\"]}, \"stdout\": \"Found an element!\\nvolleyball\\nFound an element!\\ntennis\\n\"}, {\"line\": 4, \"event\": \"step_line\", \"func_name\": \"<module>\", \"globals\": {\"sports\": [\"REF\", 1], \"element\": \"soccer\"}, \"ordered_globals\": [\"sports\", \"element\"], \"stack_to_render\": [], \"heap\": {\"1\": [\"LIST\", \"volleyball\", \"tennis\", \"soccer\", \"swimming\"]}, \"stdout\": \"Found an element!\\nvolleyball\\nFound an element!\\ntennis\\n\"}, {\"line\": 5, \"event\": \"step_line\", \"func_name\": \"<module>\", \"globals\": {\"sports\": [\"REF\", 1], \"element\": \"soccer\"}, \"ordered_globals\": [\"sports\", \"element\"], \"stack_to_render\": [], \"heap\": {\"1\": [\"LIST\", \"volleyball\", \"tennis\", \"soccer\", \"swimming\"]}, \"stdout\": \"Found an element!\\nvolleyball\\nFound an element!\\ntennis\\nFound an element!\\n\"}, {\"line\": 3, \"event\": \"step_line\", \"func_name\": \"<module>\", \"globals\": {\"sports\": [\"REF\", 1], \"element\": \"soccer\"}, \"ordered_globals\": [\"sports\", \"element\"], \"stack_to_render\": [], \"heap\": {\"1\": [\"LIST\", \"volleyball\", \"tennis\", \"soccer\", \"swimming\"]}, \"stdout\": \"Found an element!\\nvolleyball\\nFound an element!\\ntennis\\nFound an element!\\nsoccer\\n\"}, {\"line\": 4, \"event\": \"step_line\", \"func_name\": \"<module>\", \"globals\": {\"sports\": [\"REF\", 1], \"element\": \"swimming\"}, \"ordered_globals\": [\"sports\", \"element\"], \"stack_to_render\": [], \"heap\": {\"1\": [\"LIST\", \"volleyball\", \"tennis\", \"soccer\", \"swimming\"]}, \"stdout\": \"Found an element!\\nvolleyball\\nFound an element!\\ntennis\\nFound an element!\\nsoccer\\n\"}, {\"line\": 5, \"event\": \"step_line\", \"func_name\": \"<module>\", \"globals\": {\"sports\": [\"REF\", 1], \"element\": \"swimming\"}, \"ordered_globals\": [\"sports\", \"element\"], \"stack_to_render\": [], \"heap\": {\"1\": [\"LIST\", \"volleyball\", \"tennis\", \"soccer\", \"swimming\"]}, \"stdout\": \"Found an element!\\nvolleyball\\nFound an element!\\ntennis\\nFound an element!\\nsoccer\\nFound an element!\\n\"}, {\"line\": 3, \"event\": \"step_line\", \"func_name\": \"<module>\", \"globals\": {\"sports\": [\"REF\", 1], \"element\": \"swimming\"}, \"ordered_globals\": [\"sports\", \"element\"], \"stack_to_render\": [], \"heap\": {\"1\": [\"LIST\", \"volleyball\", \"tennis\", \"soccer\", \"swimming\"]}, \"stdout\": \"Found an element!\\nvolleyball\\nFound an element!\\ntennis\\nFound an element!\\nsoccer\\nFound an element!\\nswimming\\n\"}, {\"line\": 7, \"event\": \"step_line\", \"func_name\": \"<module>\", \"globals\": {\"sports\": [\"REF\", 1], \"element\": \"swimming\"}, \"ordered_globals\": [\"sports\", \"element\"], \"stack_to_render\": [], \"heap\": {\"1\": [\"LIST\", \"volleyball\", \"tennis\", \"soccer\", \"swimming\"]}, \"stdout\": \"Found an element!\\nvolleyball\\nFound an element!\\ntennis\\nFound an element!\\nsoccer\\nFound an element!\\nswimming\\n\"}, {\"line\": 7, \"event\": \"return\", \"func_name\": \"<module>\", \"globals\": {\"sports\": [\"REF\", 1], \"element\": \"swimming\"}, \"ordered_globals\": [\"sports\", \"element\"], \"stack_to_render\": [], \"heap\": {\"1\": [\"LIST\", \"volleyball\", \"tennis\", \"soccer\", \"swimming\"]}, \"stdout\": \"Found an element!\\nvolleyball\\nFound an element!\\ntennis\\nFound an element!\\nsoccer\\nFound an element!\\nswimming\\nDone!\\n\"}]}\n",
       "        </script>\n",
       "        <div id=\"jm983724cc-54ee-44c9-81a9-950dbd2fda79\" class=\"pytutorVisualizer\"> </div>\n",
       " \n",
       "        <style>\n",
       "        .vizLayoutTd {\n",
       "            background-color: #fff !important;\n",
       "        }\n",
       "\n",
       "        #pyStdout {            \n",
       "            min-height:25px;\n",
       "        }\n",
       "\n",
       "        /* 'Edit this code' link, hiding because replaces browser tab !!!*/\n",
       "        #editCodeLinkDiv {\n",
       "            display:none;  \n",
       "        }\n",
       "        </style>   \n",
       "                            \n",
       "        <script>\n",
       "        (function(){\n",
       "\n",
       "            var trace = JSON.parse(document.getElementById('json-jm983724cc-54ee-44c9-81a9-950dbd2fda79').innerHTML);                                        \n",
       "            // NOTE 1: id without #\n",
       "            // NOTE 2 - maybe there are more predictable ways, but this will work anyway\n",
       "            //        - id should be number\n",
       "            visualizerIdOverride = Math.trunc(Math.random() * 100000000000)\n",
       "            addVisualizerToPage(trace, 'jm983724cc-54ee-44c9-81a9-950dbd2fda79',{'embeddedMode' : false,\n",
       "                                             'visualizerIdOverride':visualizerIdOverride})  \n",
       "            \n",
       "            \n",
       "            // set overflow for pytuts - need to do in python as css \n",
       "            // does not allow parent selection\n",
       "            var pytuts = $('.pytutorVisualizer')\n",
       "            pytuts.closest('div.output_html.rendered_html.output_result')\n",
       "                    .css('overflow-x', 'visible')\n",
       "        \n",
       "            //pytuts.closest('div.output_html.rendered_html.output_result')\n",
       "            //      .css('background-color','red')                \n",
       "            \n",
       "        })()\n",
       "        </script>\n",
       "                \n",
       "                "
      ],
      "text/plain": [
       "<IPython.core.display.HTML object>"
      ]
     },
     "execution_count": 5,
     "metadata": {},
     "output_type": "execute_result"
    }
   ],
   "source": [
    "sports = ['volleyball', 'tennis', 'soccer', 'swimming']\n",
    "for element in sports:\n",
    "    print('Found an element!')\n",
    "    print(element)\n",
    "\n",
    "print('Done!')\n",
    "\n",
    "jupman.pytut()"
   ]
  },
  {
   "cell_type": "markdown",
   "metadata": {},
   "source": [
    "### Names of variables in `for`\n",
    "\n",
    "At each iteration, an element of the list is assigned to the variable `element`.\n",
    "\n",
    "As variable name we can choose whatever we like, for example this code is totally equivalent to the previous one:"
   ]
  },
  {
   "cell_type": "code",
   "execution_count": 6,
   "metadata": {},
   "outputs": [
    {
     "name": "stdout",
     "output_type": "stream",
     "text": [
      "Found an element!\n",
      "volleyball\n",
      "Found an element!\n",
      "tennis\n",
      "Found an element!\n",
      "soccer\n",
      "Found an element!\n",
      "swimming\n",
      "Done!\n"
     ]
    }
   ],
   "source": [
    "sports = ['volleyball', 'tennis', 'soccer', 'swimming']\n",
    "for name in sports:\n",
    "    print('Found an element!')\n",
    "    print(name)\n",
    "    \n",
    "print('Done!')    "
   ]
  },
  {
   "cell_type": "markdown",
   "metadata": {},
   "source": [
    "We need to be careful about one thing:\n",
    "\n",
    "<div class=\"alert alert-warning\">\n",
    "\n",
    "[II COMMANDMENT](https://en.softpython.org/commandments.html#II-COMMANDMENT): **Whenever you insert a variable in a** `for` **cycle, such variables must be new**\n",
    "    \n",
    "</div>    "
   ]
  },
  {
   "cell_type": "markdown",
   "metadata": {},
   "source": [
    "If you defined the variable before, you shall not reintroduce it in a `for`, as this would bring confusion in the readers' mind.\n",
    "\n",
    "For example:"
   ]
  },
  {
   "cell_type": "code",
   "execution_count": 7,
   "metadata": {},
   "outputs": [
    {
     "name": "stdout",
     "output_type": "stream",
     "text": [
      "volleyball\n",
      "tennis\n",
      "soccer\n",
      "swimming\n",
      "swimming\n"
     ]
    }
   ],
   "source": [
    "sports = ['volleyball', 'tennis', 'soccer', 'swimming']\n",
    "my_var = 'hello' \n",
    "\n",
    "for my_var in sports:  # you lose the original variable \n",
    "    print(my_var)\n",
    "\n",
    "print(my_var) # prints 'swimming' instead of 'hello'"
   ]
  },
  {
   "cell_type": "markdown",
   "metadata": {},
   "source": [
    "### Iterating strings\n",
    "\n",
    "Strings are sequences of characters, so we can iterate them with `for`:"
   ]
  },
  {
   "cell_type": "code",
   "execution_count": 8,
   "metadata": {},
   "outputs": [
    {
     "name": "stdout",
     "output_type": "stream",
     "text": [
      "h\n",
      "e\n",
      "l\n",
      "l\n",
      "o\n"
     ]
    }
   ],
   "source": [
    "for character in \"hello\":\n",
    "    print(character)"
   ]
  },
  {
   "cell_type": "markdown",
   "metadata": {},
   "source": [
    "### Iterating tuples\n",
    "\n",
    "Tuples are also sequences so we can iterate them:"
   ]
  },
  {
   "cell_type": "code",
   "execution_count": 9,
   "metadata": {},
   "outputs": [
    {
     "name": "stdout",
     "output_type": "stream",
     "text": [
      "I'm\n",
      "visiting\n",
      "a\n",
      "tuple\n"
     ]
    }
   ],
   "source": [
    "for word in (\"I'm\", 'visiting', 'a', 'tuple'):\n",
    "    print(word)"
   ]
  },
  {
   "cell_type": "markdown",
   "metadata": {},
   "source": [
    "\n",
    "### Questions - iteration\n",
    "\n",
    "Look at the following code fragments, and for each try guessing the result it produces (or if it gives an error):\n",
    "\n",
    "    \n",
    "1.  ```python\n",
    "    for i in [1,2,3]:\n",
    "        print(i)\n",
    "    ```\n",
    "    \n",
    "1.  ```python\n",
    "    for x in 7:\n",
    "        print(x)\n",
    "    ```\n",
    "1.  ```python\n",
    "    for x in [7]:\n",
    "        print(x)\n",
    "    ```    \n",
    "1.  ```python\n",
    "    for x in ['a','b','c']:        \n",
    "        x\n",
    "    ```    \n",
    "1.  ```python\n",
    "    for i in []:\n",
    "        print('GURB')\n",
    "    ```    \n",
    "1.  ```python\n",
    "    for i in [1,2,3]:\n",
    "        print(type(i))\n",
    "    ```\n",
    "1.  ```python\n",
    "    for i in '123':\n",
    "        print(type(i))    \n",
    "    ```\n",
    "1.  ```python\n",
    "    for i in 'abc':\n",
    "        print(i)\n",
    "    ```    \n",
    "1.  ```python\n",
    "    for x in ((4,5,6)):\n",
    "        print(x)\n",
    "    ```\n",
    "1.  ```python\n",
    "    for x in [[1],[2,3],[4,5,6]]:\n",
    "        print(x)\n",
    "    ```\n",
    "1.  ```python\n",
    "    x = 5\n",
    "    for x in ['a','b','c']:\n",
    "        print(x)\n",
    "    print(x)\n",
    "    ```\n",
    "1.  ```python\n",
    "    for x in ['a','b','c']:        \n",
    "        pass\n",
    "    print(x)\n",
    "    ```\n",
    "1.  ```python\n",
    "    for x in [1,2,3,4,5,6,7,8]:\n",
    "        if x % 2 == 0:\n",
    "            print(x)\n",
    "    ```\n",
    "1.  ```python\n",
    "    la = [4,5,6]\n",
    "    for x in la:\n",
    "        print(x)\n",
    "    la.reverse()\n",
    "    for x in la[1:]:\n",
    "        print(x)    \n",
    "    ```"
   ]
  },
  {
   "cell_type": "markdown",
   "metadata": {},
   "source": [
    "### Exercise - magic carpet\n",
    "\n",
    "✪ Months ago you bought a carpet from a pitchman. After some time, after a particularly stressful day, you say 'I wish I went on vacation to some exotic places, like say, _Marrakesh!'_ To your astonishment, the carpet jumps in the air and answers: 'I hear and obey!'\n",
    "\n",
    "Write some code which given the lists of places `trip1` and `trip2` prints all the visited stops.\n",
    "\n",
    "Example - given:\n",
    "\n",
    "```python\n",
    "trip1 = ['Marrakesh','Fez','Bazaar','Kasbah']\n",
    "trip2 = ['Koutoubia', 'El Badii', 'Chellah']\n",
    "```\n",
    "\n",
    "Prints:\n",
    "```\n",
    "The first trip starts\n",
    "      You: Let's go to Marrakesh !\n",
    "   Carpet: I hear and obey\n",
    "      You: Let's go to Fez !\n",
    "   Carpet: I hear and obey\n",
    "      You: Let's go to Bazaar !\n",
    "   Carpet: I hear and obey\n",
    "      You: Let's go to Kasbah !\n",
    "   Carpet: I hear and obey\n",
    "End of second trip\n",
    "\n",
    "The second trip starts\n",
    "      You: Let's go to Koutoubia !\n",
    "    Carpet: I hear and obey\n",
    "      You: Let's go to El Badii !\n",
    "    Carpet: I hear and obey\n",
    "      You: Let's go to Chellah !\n",
    "    Carpet: I hear and obey\n",
    "End of second trip\n",
    "\n",
    "```"
   ]
  },
  {
   "cell_type": "raw",
   "id": "7db1bb37",
   "metadata": {
    "format": "text/html"
   },
   "source": [
    "<a  class=\"jupman-sol jupman-sol-toggler\" \n",
    " onclick=\"jupman.toggleSolution(this);\" \n",
    " data-jupman-show=\"Show solution\" data-jupman-hide=\"Hide\">Show solution</a><div class=\"jupman-sol jupman-sol-code\" style=\"display:none\">  "
   ]
  },
  {
   "cell_type": "code",
   "execution_count": 10,
   "metadata": {
    "scrolled": true
   },
   "outputs": [
    {
     "name": "stdout",
     "output_type": "stream",
     "text": [
      "The first trip starts\n",
      "      You: Let's go to Marrakesh !\n",
      "   Carpet: I hear and obey\n",
      "      You: Let's go to Fez !\n",
      "   Carpet: I hear and obey\n",
      "      You: Let's go to Bazaar !\n",
      "   Carpet: I hear and obey\n",
      "      You: Let's go to Kasbah !\n",
      "   Carpet: I hear and obey\n",
      "End of second trip\n",
      "\n",
      "The second trip starts\n",
      "      You: Let's go to Koutoubia !\n",
      "    Carpet: I hear and obey\n",
      "      You: Let's go to El Badii !\n",
      "    Carpet: I hear and obey\n",
      "      You: Let's go to Chellah !\n",
      "    Carpet: I hear and obey\n",
      "End of second trip\n"
     ]
    }
   ],
   "source": [
    "trip1 = ['Marrakesh','Fez','Bazaar','Kasbah']\n",
    "trip2 = ['Koutoubia', 'El Badii', 'Chellah']\n",
    "\n",
    "# write here\n",
    "print('The first trip starts')\n",
    "for place in trip1:\n",
    "    print(\"      You: Let's go to\",place,'!')\n",
    "    print('   Carpet: I hear and obey')\n",
    "print('End of second trip')\n",
    "\n",
    "print()\n",
    "\n",
    "print('The second trip starts')\n",
    "for place in trip2:\n",
    "    print(\"      You: Let's go to\",place,'!')\n",
    "    print('    Carpet: I hear and obey')\n",
    "print('End of second trip')\n",
    "\n",
    "    "
   ]
  },
  {
   "cell_type": "raw",
   "id": "619c4baa",
   "metadata": {
    "format": "text/html"
   },
   "source": [
    "</div>"
   ]
  },
  {
   "cell_type": "code",
   "execution_count": 10,
   "metadata": {
    "scrolled": true
   },
   "outputs": [
    {
     "name": "stdout",
     "output_type": "stream",
     "text": [
      "The first trip starts\n",
      "      You: Let's go to Marrakesh !\n",
      "   Carpet: I hear and obey\n",
      "      You: Let's go to Fez !\n",
      "   Carpet: I hear and obey\n",
      "      You: Let's go to Bazaar !\n",
      "   Carpet: I hear and obey\n",
      "      You: Let's go to Kasbah !\n",
      "   Carpet: I hear and obey\n",
      "End of second trip\n",
      "\n",
      "The second trip starts\n",
      "      You: Let's go to Koutoubia !\n",
      "    Carpet: I hear and obey\n",
      "      You: Let's go to El Badii !\n",
      "    Carpet: I hear and obey\n",
      "      You: Let's go to Chellah !\n",
      "    Carpet: I hear and obey\n",
      "End of second trip\n"
     ]
    }
   ],
   "source": [
    "trip1 = ['Marrakesh','Fez','Bazaar','Kasbah']\n",
    "trip2 = ['Koutoubia', 'El Badii', 'Chellah']\n",
    "\n",
    "# write here\n",
    "\n"
   ]
  },
  {
   "cell_type": "markdown",
   "metadata": {},
   "source": [
    "### Esercise - evensum\n",
    "\n",
    "✪ Given the list `numbers`, write some code which calculates and prints the sum of the even **elements** (**not** the elements at even indexes !)\n",
    "\n",
    "Example - given:\n",
    "\n",
    "```python\n",
    "numbers = [3,4,1,5,12,7,9]\n",
    "```\n",
    "\n",
    "finds `4` and `12` so it must print:\n",
    "\n",
    "```\n",
    "16\n",
    "```"
   ]
  },
  {
   "cell_type": "raw",
   "id": "3632aff8",
   "metadata": {
    "format": "text/html"
   },
   "source": [
    "<a  class=\"jupman-sol jupman-sol-toggler\" \n",
    " onclick=\"jupman.toggleSolution(this);\" \n",
    " data-jupman-show=\"Show solution\" data-jupman-hide=\"Hide\">Show solution</a><div class=\"jupman-sol jupman-sol-code\" style=\"display:none\">  "
   ]
  },
  {
   "cell_type": "code",
   "execution_count": 11,
   "metadata": {},
   "outputs": [
    {
     "name": "stdout",
     "output_type": "stream",
     "text": [
      "16\n"
     ]
    }
   ],
   "source": [
    "numbers = [3,4,1,5,12,7,9]\n",
    "\n",
    "# write here\n",
    "s = 0\n",
    "for x in numbers:\n",
    "    if x % 2 == 0:\n",
    "        s += x\n",
    "print(s)"
   ]
  },
  {
   "cell_type": "raw",
   "id": "39797f74",
   "metadata": {
    "format": "text/html"
   },
   "source": [
    "</div>"
   ]
  },
  {
   "cell_type": "code",
   "execution_count": 11,
   "metadata": {},
   "outputs": [
    {
     "name": "stdout",
     "output_type": "stream",
     "text": [
      "16\n"
     ]
    }
   ],
   "source": [
    "numbers = [3,4,1,5,12,7,9]\n",
    "\n",
    "# write here\n",
    "\n"
   ]
  },
  {
   "cell_type": "markdown",
   "metadata": {},
   "source": [
    "### Exercise - birbantello\n",
    "\n",
    "✪ Given a string in lowercase, write some code which prints each character in uppercase followed by the character as lowercase.\n",
    "\n",
    "* **HINT**: to obtain uppercase characters use the `.upper()` method\n",
    "\n",
    "Example - given:\n",
    "\n",
    "```python\n",
    "s = \"birbantello\"\n",
    "```\n",
    "\n",
    "Prints:\n",
    "\n",
    "```\n",
    "B b\n",
    "I i\n",
    "R r\n",
    "B b\n",
    "A a\n",
    "N n\n",
    "T t\n",
    "E e\n",
    "L l\n",
    "L l\n",
    "O o\n",
    "```"
   ]
  },
  {
   "cell_type": "raw",
   "id": "d6702cc1",
   "metadata": {
    "format": "text/html"
   },
   "source": [
    "<a  class=\"jupman-sol jupman-sol-toggler\" \n",
    " onclick=\"jupman.toggleSolution(this);\" \n",
    " data-jupman-show=\"Show solution\" data-jupman-hide=\"Hide\">Show solution</a><div class=\"jupman-sol jupman-sol-code\" style=\"display:none\">  "
   ]
  },
  {
   "cell_type": "code",
   "execution_count": 12,
   "metadata": {},
   "outputs": [
    {
     "name": "stdout",
     "output_type": "stream",
     "text": [
      "B b\n",
      "I i\n",
      "R r\n",
      "B b\n",
      "A a\n",
      "N n\n",
      "T t\n",
      "E e\n",
      "L l\n",
      "L l\n",
      "O o\n"
     ]
    }
   ],
   "source": [
    "s = \"birbantello\"\n",
    "\n",
    "# write here\n",
    "for x in s:\n",
    "    print(x.upper(), x)"
   ]
  },
  {
   "cell_type": "raw",
   "id": "028a62f9",
   "metadata": {
    "format": "text/html"
   },
   "source": [
    "</div>"
   ]
  },
  {
   "cell_type": "code",
   "execution_count": 12,
   "metadata": {},
   "outputs": [
    {
     "name": "stdout",
     "output_type": "stream",
     "text": [
      "B b\n",
      "I i\n",
      "R r\n",
      "B b\n",
      "A a\n",
      "N n\n",
      "T t\n",
      "E e\n",
      "L l\n",
      "L l\n",
      "O o\n"
     ]
    }
   ],
   "source": [
    "s = \"birbantello\"\n",
    "\n",
    "# write here\n",
    "\n"
   ]
  },
  {
   "cell_type": "markdown",
   "metadata": {},
   "source": [
    "### Exercise - articulate\n",
    "\n",
    "✪ A new word is taught to a kid. He knows a lot of characters from the alphabet, but not all of them. To remember the known ones, he treats them as they where actors divided in three categories: the `good`, `bad` ad `ugly`. Write some code which given a `word` prints all the characters and for each of them tells whether it is good, bad or ugly. If a character is not recognized by the kid, prints 'not interesting'.\n",
    "\n",
    "\n",
    "Example - given:\n",
    "\n",
    "```python\n",
    "word = 'articulate'\n",
    "\n",
    "good = 'abcde'\n",
    "bad = 'ru'\n",
    "ugly = 'ijklmn'\n",
    "```\n",
    "\n",
    "Prints:\n",
    "\n",
    "```\n",
    "a is good\n",
    "r is bad\n",
    "t is not interesting\n",
    "i is ugly\n",
    "c is good\n",
    "u is bad\n",
    "l is ugly\n",
    "a is good\n",
    "t is not interesting\n",
    "e is good\n",
    "\n",
    "```\n",
    "\n"
   ]
  },
  {
   "cell_type": "raw",
   "id": "45d36f7a",
   "metadata": {
    "format": "text/html"
   },
   "source": [
    "<a  class=\"jupman-sol jupman-sol-toggler\" \n",
    " onclick=\"jupman.toggleSolution(this);\" \n",
    " data-jupman-show=\"Show solution\" data-jupman-hide=\"Hide\">Show solution</a><div class=\"jupman-sol jupman-sol-code\" style=\"display:none\">  "
   ]
  },
  {
   "cell_type": "code",
   "execution_count": 13,
   "metadata": {},
   "outputs": [
    {
     "name": "stdout",
     "output_type": "stream",
     "text": [
      "a is good\n",
      "r is bad\n",
      "t is not interesting\n",
      "i is ugly\n",
      "c is good\n",
      "u is bad\n",
      "l is ugly\n",
      "a is good\n",
      "t is not interesting\n",
      "e is good\n"
     ]
    }
   ],
   "source": [
    "\n",
    "word = 'articulate'\n",
    "\n",
    "good = 'abcde'\n",
    "bad = 'ru'\n",
    "ugly = 'ijklmn'\n",
    "\n",
    "# write here\n",
    "\n",
    "for c in word:\n",
    "    if c in good:\n",
    "        print(c,'is good')\n",
    "    elif c in bad:\n",
    "        print(c, 'is bad')\n",
    "    elif c in ugly:\n",
    "        print(c, 'is ugly')\n",
    "    else:\n",
    "        print(c, 'is not interesting')\n",
    "        "
   ]
  },
  {
   "cell_type": "raw",
   "id": "d7bb4e14",
   "metadata": {
    "format": "text/html"
   },
   "source": [
    "</div>"
   ]
  },
  {
   "cell_type": "code",
   "execution_count": 13,
   "metadata": {},
   "outputs": [
    {
     "name": "stdout",
     "output_type": "stream",
     "text": [
      "a is good\n",
      "r is bad\n",
      "t is not interesting\n",
      "i is ugly\n",
      "c is good\n",
      "u is bad\n",
      "l is ugly\n",
      "a is good\n",
      "t is not interesting\n",
      "e is good\n"
     ]
    }
   ],
   "source": [
    "\n",
    "word = 'articulate'\n",
    "\n",
    "good = 'abcde'\n",
    "bad = 'ru'\n",
    "ugly = 'ijklmn'\n",
    "\n",
    "# write here\n",
    "\n"
   ]
  },
  {
   "cell_type": "markdown",
   "metadata": {},
   "source": [
    "### Exercise - gala\n",
    "\n",
    "✪ At a gala event high-society people are invited. At the beginning of the evening, doors are opened and guests enter a `queue`. Unfortunately, during these occasions uninvited guests always show up, so the concierge in the atrium is given a list of `unwelcome` ones. Whenever a guest is recognized as unwelcome, he will be taken care by the strong hands of Ferruccio the bouncer. Illustrious guests will be written instead in the list `admitted`.\n",
    "\n",
    "Write some code which prints the various passages of the event.\n",
    "\n",
    "\n",
    "Example - given:\n",
    "\n",
    "```python\n",
    "queue = ['Consul','Notary','Skeleton','Dean','Goblin','Vampire', 'Jeweller']\n",
    "unwelcome = {'Vampire','Goblin','Skeleton'}\n",
    "admitted = []\n",
    "```"
   ]
  },
  {
   "cell_type": "markdown",
   "metadata": {},
   "source": [
    "Prints:\n",
    "\n",
    "```\n",
    "Open the doors!\n",
    "\n",
    "Good evening Mr Consul\n",
    "  This way, Your Excellence\n",
    "  Next in line !\n",
    "Good evening Mr Notary\n",
    "  This way, Your Excellence\n",
    "  Next in line !\n",
    "Good evening Mr Skeleton\n",
    "  Ferruccio, would you please take care of Mr Skeleton ?\n",
    "  Next in line !\n",
    "Good evening Mr Dean\n",
    "  This way, Your Excellence\n",
    "  Next in line !\n",
    "Good evening Mr Goblin\n",
    "  Ferruccio, would you please take care of Mr Goblin ?\n",
    "  Next in line !\n",
    "Good evening Mr Vampire\n",
    "  Ferruccio, would you please take care of Mr Vampire ?\n",
    "  Next in line !\n",
    "Good evening Mr Jeweller\n",
    "  This way, Your Excellence\n",
    "  Next in line !\n",
    "\n",
    "These guests were admitted: Consul, Notary, Dean, Jeweller\n",
    "```"
   ]
  },
  {
   "cell_type": "raw",
   "id": "129034d1",
   "metadata": {
    "format": "text/html"
   },
   "source": [
    "<a  class=\"jupman-sol jupman-sol-toggler\" \n",
    " onclick=\"jupman.toggleSolution(this);\" \n",
    " data-jupman-show=\"Show solution\" data-jupman-hide=\"Hide\">Show solution</a><div class=\"jupman-sol jupman-sol-code\" style=\"display:none\">  "
   ]
  },
  {
   "cell_type": "code",
   "execution_count": 14,
   "metadata": {},
   "outputs": [
    {
     "name": "stdout",
     "output_type": "stream",
     "text": [
      "Open the doors!\n",
      "\n",
      "Good evening Mr Consul\n",
      "  This way, Your Excellence\n",
      "  Next in line !\n",
      "Good evening Mr Notary\n",
      "  This way, Your Excellence\n",
      "  Next in line !\n",
      "Good evening Mr Skeleton\n",
      "  Ferruccio, would you please take care of Mr Skeleton ?\n",
      "  Next in line !\n",
      "Good evening Mr Dean\n",
      "  This way, Your Excellence\n",
      "  Next in line !\n",
      "Good evening Mr Goblin\n",
      "  Ferruccio, would you please take care of Mr Goblin ?\n",
      "  Next in line !\n",
      "Good evening Mr Vampire\n",
      "  Ferruccio, would you please take care of Mr Vampire ?\n",
      "  Next in line !\n",
      "Good evening Mr Jeweller\n",
      "  This way, Your Excellence\n",
      "  Next in line !\n",
      "\n",
      "These guests were admitted: Consul, Notary, Dean, Jeweller\n"
     ]
    }
   ],
   "source": [
    "queue = ['Consul','Notary','Skeleton','Dean','Goblin','Vampire', 'Jeweller']\n",
    "unwelcome = {'Vampire','Goblin','Skeleton'}\n",
    "admitted = []\n",
    "\n",
    "\n",
    "# write here\n",
    "print('Open the doors!')\n",
    "print()\n",
    "for guest in queue:\n",
    "    \n",
    "    print('Good evening Mr', guest)\n",
    "    if guest in unwelcome:\n",
    "        print(\"  Ferruccio, would you please take care of Mr\", guest, '?')\n",
    "    else:\n",
    "        print(\"  This way, Your Excellence\")\n",
    "        admitted.append(guest)\n",
    "    print('  Next in line !')\n",
    "    \n",
    "print()\n",
    "print('These guests were admitted:', ', '.join(admitted))"
   ]
  },
  {
   "cell_type": "raw",
   "id": "4ecc072f",
   "metadata": {
    "format": "text/html"
   },
   "source": [
    "</div>"
   ]
  },
  {
   "cell_type": "code",
   "execution_count": 14,
   "metadata": {},
   "outputs": [
    {
     "name": "stdout",
     "output_type": "stream",
     "text": [
      "Open the doors!\n",
      "\n",
      "Good evening Mr Consul\n",
      "  This way, Your Excellence\n",
      "  Next in line !\n",
      "Good evening Mr Notary\n",
      "  This way, Your Excellence\n",
      "  Next in line !\n",
      "Good evening Mr Skeleton\n",
      "  Ferruccio, would you please take care of Mr Skeleton ?\n",
      "  Next in line !\n",
      "Good evening Mr Dean\n",
      "  This way, Your Excellence\n",
      "  Next in line !\n",
      "Good evening Mr Goblin\n",
      "  Ferruccio, would you please take care of Mr Goblin ?\n",
      "  Next in line !\n",
      "Good evening Mr Vampire\n",
      "  Ferruccio, would you please take care of Mr Vampire ?\n",
      "  Next in line !\n",
      "Good evening Mr Jeweller\n",
      "  This way, Your Excellence\n",
      "  Next in line !\n",
      "\n",
      "These guests were admitted: Consul, Notary, Dean, Jeweller\n"
     ]
    }
   ],
   "source": [
    "queue = ['Consul','Notary','Skeleton','Dean','Goblin','Vampire', 'Jeweller']\n",
    "unwelcome = {'Vampire','Goblin','Skeleton'}\n",
    "admitted = []\n",
    "\n",
    "\n",
    "# write here\n",
    "\n"
   ]
  },
  {
   "cell_type": "markdown",
   "metadata": {},
   "source": [
    "### Exercise - balance\n",
    "\n",
    "✪✪ A crop of seeds has been harvested, and seeds will be poured in a certain number of `bags` of a given `capacity` each (i.e. `15` kilograms).\n",
    "\n",
    "The seeds arrive in `containers` of variable capacity. Each container is placed on a \n",
    "weight scale and its content is poured in the current bag. As soon as the quantity `capacity` is reached, the scale weight is emptied, the bag is substituted with a new one which starts being filled from what remains from the previous fill. Write some code which prints the procedure.\n",
    "\n",
    "Example - given:\n",
    "\n",
    "```python\n",
    "containers = [5,1,7,4,3,9,5,2,7,3]\n",
    "capacity = 15\n",
    "```\n",
    "\n",
    "Prints:\n",
    "\n",
    "```\n",
    "Take 5 kg\n",
    "The scale weight shows 5 kg\n",
    "Take 1 kg\n",
    "The scale weight shows 6 kg\n",
    "Take 7 kg\n",
    "The scale weight shows 13 kg\n",
    "Take 4 kg\n",
    "The scale weight shows 17 kg\n",
    "We reached the capacity of 15 kg, there remain 2 kg\n",
    "\n",
    "Take 3 kg\n",
    "The scale weight shows 5 kg\n",
    "Take 9 kg\n",
    "The scale weight shows 14 kg\n",
    "Take 5 kg\n",
    "The scale weight shows 19 kg\n",
    "We reached the capacity of 15 kg, there remain 4 kg\n",
    "\n",
    "Take 2 kg\n",
    "The scale weight shows 6 kg\n",
    "Take 7 kg\n",
    "The scale weight shows 13 kg\n",
    "Take 3 kg\n",
    "The scale weight shows 16 kg\n",
    "We reached the capacity of 15 kg, there remain 1 kg\n",
    "\n",
    "We filled 3 bags\n",
    "```"
   ]
  },
  {
   "cell_type": "raw",
   "id": "721a0de4",
   "metadata": {
    "format": "text/html"
   },
   "source": [
    "<a  class=\"jupman-sol jupman-sol-toggler\" \n",
    " onclick=\"jupman.toggleSolution(this);\" \n",
    " data-jupman-show=\"Show solution\" data-jupman-hide=\"Hide\">Show solution</a><div class=\"jupman-sol jupman-sol-code\" style=\"display:none\">  "
   ]
  },
  {
   "cell_type": "code",
   "execution_count": 15,
   "metadata": {},
   "outputs": [
    {
     "name": "stdout",
     "output_type": "stream",
     "text": [
      "Take 5 kg\n",
      "The scale weight shows 5 kg\n",
      "Take 1 kg\n",
      "The scale weight shows 6 kg\n",
      "Take 7 kg\n",
      "The scale weight shows 13 kg\n",
      "Take 4 kg\n",
      "The scale weight shows 17 kg\n",
      "We reached the capacity of 15 kg, there remain 2 kg\n",
      "\n",
      "Take 3 kg\n",
      "The scale weight shows 5 kg\n",
      "Take 9 kg\n",
      "The scale weight shows 14 kg\n",
      "Take 5 kg\n",
      "The scale weight shows 19 kg\n",
      "We reached the capacity of 15 kg, there remain 4 kg\n",
      "\n",
      "Take 2 kg\n",
      "The scale weight shows 6 kg\n",
      "Take 7 kg\n",
      "The scale weight shows 13 kg\n",
      "Take 3 kg\n",
      "The scale weight shows 16 kg\n",
      "We reached the capacity of 15 kg, there remain 1 kg\n",
      "\n",
      "We filled 3 bags\n"
     ]
    }
   ],
   "source": [
    "containers = [5,1,7,4,3,9,5,2,7,3]\n",
    "capacity = 15\n",
    "\n",
    "# write here\n",
    "bags = 0\n",
    "k = 0\n",
    "for n in containers:\n",
    "    k += n\n",
    "    print('Take', n, 'kg')\n",
    "    print('The scale weight shows', k,'kg')\n",
    "    if k >= capacity:\n",
    "        \n",
    "        print('We reached the capacity of',capacity,'kg, there remain', k - capacity, 'kg')\n",
    "        print()\n",
    "        k = k - capacity\n",
    "        bags += 1\n",
    "        \n",
    "print('We filled', bags, 'bags')"
   ]
  },
  {
   "cell_type": "raw",
   "id": "2dc67b75",
   "metadata": {
    "format": "text/html"
   },
   "source": [
    "</div>"
   ]
  },
  {
   "cell_type": "code",
   "execution_count": 15,
   "metadata": {},
   "outputs": [
    {
     "name": "stdout",
     "output_type": "stream",
     "text": [
      "Take 5 kg\n",
      "The scale weight shows 5 kg\n",
      "Take 1 kg\n",
      "The scale weight shows 6 kg\n",
      "Take 7 kg\n",
      "The scale weight shows 13 kg\n",
      "Take 4 kg\n",
      "The scale weight shows 17 kg\n",
      "We reached the capacity of 15 kg, there remain 2 kg\n",
      "\n",
      "Take 3 kg\n",
      "The scale weight shows 5 kg\n",
      "Take 9 kg\n",
      "The scale weight shows 14 kg\n",
      "Take 5 kg\n",
      "The scale weight shows 19 kg\n",
      "We reached the capacity of 15 kg, there remain 4 kg\n",
      "\n",
      "Take 2 kg\n",
      "The scale weight shows 6 kg\n",
      "Take 7 kg\n",
      "The scale weight shows 13 kg\n",
      "Take 3 kg\n",
      "The scale weight shows 16 kg\n",
      "We reached the capacity of 15 kg, there remain 1 kg\n",
      "\n",
      "We filled 3 bags\n"
     ]
    }
   ],
   "source": [
    "containers = [5,1,7,4,3,9,5,2,7,3]\n",
    "capacity = 15\n",
    "\n",
    "# write here\n",
    "\n"
   ]
  },
  {
   "cell_type": "markdown",
   "metadata": {},
   "source": [
    "## Counting with range\n",
    "\n",
    "If we need to keep track of the iteration number, we can use the iterable sequence `range`, which produces a series of integer numbers from `0` INCLUDED until the specified number EXCLUDED:"
   ]
  },
  {
   "cell_type": "code",
   "execution_count": 16,
   "metadata": {},
   "outputs": [
    {
     "name": "stdout",
     "output_type": "stream",
     "text": [
      "0\n",
      "1\n",
      "2\n",
      "3\n",
      "4\n"
     ]
    }
   ],
   "source": [
    "for i in range(5):\n",
    "    print(i)"
   ]
  },
  {
   "cell_type": "markdown",
   "metadata": {},
   "source": [
    "Note it _did not_ print the limit `5`\n",
    "\n",
    "When we call `range` we can also specify the starting index, which is INCLUDED in the generated sequence, while the arrival index is always EXCLUDED:"
   ]
  },
  {
   "cell_type": "code",
   "execution_count": 17,
   "metadata": {},
   "outputs": [
    {
     "name": "stdout",
     "output_type": "stream",
     "text": [
      "3\n",
      "4\n",
      "5\n",
      "6\n"
     ]
    }
   ],
   "source": [
    "for i in range(3,7):\n",
    "    print(i)"
   ]
  },
  {
   "cell_type": "markdown",
   "metadata": {},
   "source": [
    "**Counting intervals:** we can specify the increment to apply to the counter at each iteration by passing a third parameter, for example here we specify an increment of `2` (note the final `18` index is EXCLUDED from the sequence):"
   ]
  },
  {
   "cell_type": "code",
   "execution_count": 18,
   "metadata": {},
   "outputs": [
    {
     "name": "stdout",
     "output_type": "stream",
     "text": [
      "4\n",
      "6\n",
      "8\n",
      "10\n",
      "12\n",
      "14\n",
      "16\n"
     ]
    }
   ],
   "source": [
    "for i in range(4,18,2):\n",
    "    print(i)"
   ]
  },
  {
   "cell_type": "markdown",
   "metadata": {},
   "source": [
    "**Reverse order**: we can count in reverse by using a negative increment:"
   ]
  },
  {
   "cell_type": "code",
   "execution_count": 19,
   "metadata": {},
   "outputs": [
    {
     "name": "stdout",
     "output_type": "stream",
     "text": [
      "5\n",
      "4\n",
      "3\n",
      "2\n",
      "1\n"
     ]
    }
   ],
   "source": [
    "for i in range(5,0,-1):\n",
    "    print(i)"
   ]
  },
  {
   "cell_type": "markdown",
   "metadata": {},
   "source": [
    "Note how the limit `0` _was not_ reached, in order to arrive there we need to write"
   ]
  },
  {
   "cell_type": "code",
   "execution_count": 20,
   "metadata": {},
   "outputs": [
    {
     "name": "stdout",
     "output_type": "stream",
     "text": [
      "5\n",
      "4\n",
      "3\n",
      "2\n",
      "1\n",
      "0\n"
     ]
    }
   ],
   "source": [
    "for i in range(5,-1,-1):\n",
    "    print(i)"
   ]
  },
  {
   "cell_type": "markdown",
   "metadata": {},
   "source": [
    "\n",
    "### Questions - range\n",
    "\n",
    "Look at the following code fragments, and for each try guessing the result it produces (or if it gives an error):\n",
    "\n",
    "\n",
    "1.  ```python\n",
    "    for x in range(1):\n",
    "        print(x)\n",
    "    ```\n",
    "1.  ```python\n",
    "    for i in range(3):\n",
    "        i\n",
    "    ```    \n",
    "1.  ```python\n",
    "    for i in range(3):\n",
    "    print(i)    \n",
    "    ```        \n",
    "1.  ```python\n",
    "    for x in range(-1):\n",
    "        print(x)\n",
    "    ```\n",
    "1.  ```python\n",
    "    for 'm' in range(3):\n",
    "        print('m')\n",
    "    ```\n",
    "1.  ```python\n",
    "    for i in range(3):\n",
    "        i-1    \n",
    "    ```    \n",
    "1.  ```python\n",
    "    for x in range(6,4,-1):\n",
    "        print(x)\n",
    "    ```\n",
    "1.  ```python\n",
    "    for x in range(1,0,-1):\n",
    "        print(x)\n",
    "    ```            \n",
    "1.  ```python\n",
    "    for x in range(3,-3,-2):\n",
    "        print(x)\n",
    "    ```    \n",
    "1.  ```python\n",
    "    for x in 3:\n",
    "        print(x)\n",
    "    ```\n",
    "1.  ```\n",
    "    x = 3\n",
    "    for i in range(x):\n",
    "        print(i)\n",
    "    for i in range(x,2*x):\n",
    "        print(i)\n",
    "    ```    \n",
    "    \n",
    "1.  ```python\n",
    "    for x in range(range(3)):\n",
    "        print(x)\n",
    "    ```\n"
   ]
  },
  {
   "cell_type": "markdown",
   "metadata": {},
   "source": [
    "### Exercise - printdoubles\n",
    "\n",
    "✪ Given a positive number `n` (i.e. `n=4`) write some code which prints:\n",
    "\n",
    "```\n",
    "The double of 0 is 0\n",
    "The double of 1 is 2\n",
    "The double of 2 is 4\n",
    "The double of 3 is 6\n",
    "```"
   ]
  },
  {
   "cell_type": "raw",
   "id": "9c34b5f6",
   "metadata": {
    "format": "text/html"
   },
   "source": [
    "<a  class=\"jupman-sol jupman-sol-toggler\" \n",
    " onclick=\"jupman.toggleSolution(this);\" \n",
    " data-jupman-show=\"Show solution\" data-jupman-hide=\"Hide\">Show solution</a><div class=\"jupman-sol jupman-sol-code\" style=\"display:none\">  "
   ]
  },
  {
   "cell_type": "code",
   "execution_count": 21,
   "metadata": {},
   "outputs": [
    {
     "name": "stdout",
     "output_type": "stream",
     "text": [
      "The double of 0 is 0\n",
      "The double of 1 is 2\n",
      "The double of 2 is 4\n",
      "The double of 3 is 6\n"
     ]
    }
   ],
   "source": [
    "n = 4\n",
    "# write here\n",
    "for i in range(n):\n",
    "    print('The double of', i, 'is', i*2)"
   ]
  },
  {
   "cell_type": "raw",
   "id": "5ab38fcc",
   "metadata": {
    "format": "text/html"
   },
   "source": [
    "</div>"
   ]
  },
  {
   "cell_type": "code",
   "execution_count": 21,
   "metadata": {},
   "outputs": [
    {
     "name": "stdout",
     "output_type": "stream",
     "text": [
      "The double of 0 is 0\n",
      "The double of 1 is 2\n",
      "The double of 2 is 4\n",
      "The double of 3 is 6\n"
     ]
    }
   ],
   "source": [
    "n = 4\n",
    "# write here\n",
    "\n"
   ]
  },
  {
   "cell_type": "markdown",
   "metadata": {},
   "source": [
    "### Exercise - multiples or not\n",
    "\n",
    "✪✪ Write some code which given two integer positive numbers `k` and `b`: \n",
    "\n",
    "* first prints all the numbers from `k` INCLUDED to `b` INCLUDED which are multiples of `k`\n",
    "* the prints all the numbers from `k` EXCLUDED to `b` EXCLUDED which are NOT multiples of `k`\n",
    "\n",
    "Example - given:\n",
    "\n",
    "```python\n",
    "k,b = 3,15\n",
    "```\n",
    "\n",
    "it prints:\n",
    "\n",
    "```\n",
    "Multiples of 3\n",
    "3\n",
    "6\n",
    "9\n",
    "12\n",
    "15\n",
    "\n",
    "Not divisible by 3\n",
    "4\n",
    "5\n",
    "7\n",
    "8\n",
    "10\n",
    "11\n",
    "13\n",
    "14\n",
    "```"
   ]
  },
  {
   "cell_type": "raw",
   "id": "687a4d37",
   "metadata": {
    "format": "text/html"
   },
   "source": [
    "<a  class=\"jupman-sol jupman-sol-toggler\" \n",
    " onclick=\"jupman.toggleSolution(this);\" \n",
    " data-jupman-show=\"Show solution\" data-jupman-hide=\"Hide\">Show solution</a><div class=\"jupman-sol jupman-sol-code\" style=\"display:none\">  "
   ]
  },
  {
   "cell_type": "code",
   "execution_count": 22,
   "metadata": {},
   "outputs": [
    {
     "name": "stdout",
     "output_type": "stream",
     "text": [
      "Multiples of 3\n",
      "3\n",
      "6\n",
      "9\n",
      "12\n",
      "15\n",
      "\n",
      "Not divisible by 3\n",
      "4\n",
      "5\n",
      "7\n",
      "8\n",
      "10\n",
      "11\n",
      "13\n",
      "14\n"
     ]
    }
   ],
   "source": [
    "k,b = 3,15\n",
    "\n",
    "# write here\n",
    "print('Multiples of', k)\n",
    "for i in range(k,b+1,k):\n",
    "    print(i)\n",
    "print()\n",
    "print('Not divisible by', k)    \n",
    "for i in range(k+1,b):\n",
    "    if i % k != 0:\n",
    "        print(i)"
   ]
  },
  {
   "cell_type": "raw",
   "id": "3d670997",
   "metadata": {
    "format": "text/html"
   },
   "source": [
    "</div>"
   ]
  },
  {
   "cell_type": "code",
   "execution_count": 22,
   "metadata": {},
   "outputs": [
    {
     "name": "stdout",
     "output_type": "stream",
     "text": [
      "Multiples of 3\n",
      "3\n",
      "6\n",
      "9\n",
      "12\n",
      "15\n",
      "\n",
      "Not divisible by 3\n",
      "4\n",
      "5\n",
      "7\n",
      "8\n",
      "10\n",
      "11\n",
      "13\n",
      "14\n"
     ]
    }
   ],
   "source": [
    "k,b = 3,15\n",
    "\n",
    "# write here\n",
    "\n"
   ]
  },
  {
   "cell_type": "markdown",
   "metadata": {},
   "source": [
    "### Exercise - ab interval\n",
    "\n",
    "\n",
    "✪✪ Given two integers `a` and `b` greater or equal than zero, write some code which prints all the integer numbers among the two bounds INCLUDED.\n",
    "\n",
    "* **NOTE**: `a` may be greater, equal or less than `b`, your code must handle all the cases.\n",
    "\n",
    "Example 1 - given:\n",
    "\n",
    "```python\n",
    "a,b = 5,9\n",
    "```\n",
    "it must print:\n",
    "\n",
    "```\n",
    "5\n",
    "6\n",
    "7\n",
    "8\n",
    "9\n",
    "```\n",
    "\n",
    "Example 2 - given:\n",
    "\n",
    "```python\n",
    "a,b = 8,3 \n",
    "```\n",
    "it must print:\n",
    "\n",
    "```\n",
    "3\n",
    "4\n",
    "5\n",
    "6\n",
    "7\n",
    "8\n",
    "```"
   ]
  },
  {
   "cell_type": "raw",
   "id": "3247ce9e",
   "metadata": {
    "format": "text/html"
   },
   "source": [
    "<a  class=\"jupman-sol jupman-sol-toggler\" \n",
    " onclick=\"jupman.toggleSolution(this);\" \n",
    " data-jupman-show=\"Show solution\" data-jupman-hide=\"Hide\">Show solution</a><div class=\"jupman-sol jupman-sol-code\" style=\"display:none\">  "
   ]
  },
  {
   "cell_type": "code",
   "execution_count": 23,
   "metadata": {},
   "outputs": [
    {
     "name": "stdout",
     "output_type": "stream",
     "text": [
      "5\n",
      "6\n",
      "7\n",
      "8\n",
      "9\n"
     ]
    }
   ],
   "source": [
    "a,b = 5,9   # 5 6 7 8 9\n",
    "#a,b = 8,3  # 3 4 5 6 7 8\n",
    "#a,b = 6,6  # 6\n",
    "\n",
    "# write here\n",
    "\n",
    "mn = min(a,b)\n",
    "mx = max(a,b)\n",
    "\n",
    "for x in range(mn, mx + 1):\n",
    "    print(x)"
   ]
  },
  {
   "cell_type": "raw",
   "id": "70ecf6bb",
   "metadata": {
    "format": "text/html"
   },
   "source": [
    "</div>"
   ]
  },
  {
   "cell_type": "code",
   "execution_count": 23,
   "metadata": {},
   "outputs": [
    {
     "name": "stdout",
     "output_type": "stream",
     "text": [
      "5\n",
      "6\n",
      "7\n",
      "8\n",
      "9\n"
     ]
    }
   ],
   "source": [
    "a,b = 5,9   # 5 6 7 8 9\n",
    "#a,b = 8,3  # 3 4 5 6 7 8\n",
    "#a,b = 6,6  # 6\n",
    "\n",
    "# write here\n",
    "\n"
   ]
  },
  {
   "cell_type": "markdown",
   "metadata": {},
   "source": [
    "## Iterating by index\n",
    "\n",
    "If we have a sequence like a list, sometimes during the iteration it is necessary to know in which cell position we are. We can generate the indexes with `range`, and use them to access a list:"
   ]
  },
  {
   "cell_type": "code",
   "execution_count": 24,
   "metadata": {},
   "outputs": [
    {
     "name": "stdout",
     "output_type": "stream",
     "text": [
      "position 0\n",
      "volleyball\n",
      "position 1\n",
      "tennis\n",
      "position 2\n",
      "soccer\n",
      "position 3\n",
      "swimming\n"
     ]
    }
   ],
   "source": [
    "sports = ['volleyball', 'tennis', 'soccer', 'swimming']\n",
    "\n",
    "for i in range(len(sports)):\n",
    "    print('position', i)\n",
    "    print(sports[i])"
   ]
  },
  {
   "cell_type": "markdown",
   "metadata": {},
   "source": [
    "Note we passed to `range` the dimension of the list obrained with `len`."
   ]
  },
  {
   "cell_type": "markdown",
   "metadata": {},
   "source": [
    "### Exercise - kitchen\n",
    "\n",
    "\n",
    "✪ Write some code which given a list of an even number of strings `kitchen`, prints the couples of elements we can find in sequences, one row at a time\n",
    "\n",
    "Example - given:\n",
    "\n",
    "```python\n",
    "kitchen = ['oil', 'soup', 'eggs', 'pie', 'tomato sauce', 'pasta', 'meat sauce', 'lasagna']\n",
    "```\n",
    "\n",
    "Prints:\n",
    "\n",
    "```\n",
    "oil, soup\n",
    "eggs, pie\n",
    "tomato sauce, pasta\n",
    "meat sauce, lasagna\n",
    "```\n"
   ]
  },
  {
   "cell_type": "raw",
   "id": "87a62636",
   "metadata": {
    "format": "text/html"
   },
   "source": [
    "<a  class=\"jupman-sol jupman-sol-toggler\" \n",
    " onclick=\"jupman.toggleSolution(this);\" \n",
    " data-jupman-show=\"Show solution\" data-jupman-hide=\"Hide\">Show solution</a><div class=\"jupman-sol jupman-sol-code\" style=\"display:none\">  "
   ]
  },
  {
   "cell_type": "code",
   "execution_count": 25,
   "metadata": {},
   "outputs": [
    {
     "name": "stdout",
     "output_type": "stream",
     "text": [
      "oil, soup\n",
      "eggs, pie\n",
      "tomato sauce, pasta\n",
      "meat sauce, lasagna\n"
     ]
    }
   ],
   "source": [
    "kitchen = ['oil', 'soup', 'eggs', 'pie', 'tomato sauce', 'pasta', 'meat sauce', 'lasagna']\n",
    "\n",
    "# write here\n",
    "for i in range(0,len(kitchen)-1, 2):\n",
    "    print(kitchen[i] +',', kitchen[i+1])"
   ]
  },
  {
   "cell_type": "raw",
   "id": "2d0cd94a",
   "metadata": {
    "format": "text/html"
   },
   "source": [
    "</div>"
   ]
  },
  {
   "cell_type": "code",
   "execution_count": 25,
   "metadata": {},
   "outputs": [
    {
     "name": "stdout",
     "output_type": "stream",
     "text": [
      "oil, soup\n",
      "eggs, pie\n",
      "tomato sauce, pasta\n",
      "meat sauce, lasagna\n"
     ]
    }
   ],
   "source": [
    "kitchen = ['oil', 'soup', 'eggs', 'pie', 'tomato sauce', 'pasta', 'meat sauce', 'lasagna']\n",
    "\n",
    "# write here\n",
    "\n"
   ]
  },
  {
   "cell_type": "markdown",
   "metadata": {},
   "source": [
    "### Exercise - neon\n",
    "\n",
    "✪ Given two lists `la` and  `lb` of _equal length_ $n$, write some code which prints their characters separated by a space on $n$ rows\n",
    "\n",
    "Example - given:\n",
    "\n",
    "```python\n",
    "la = ['n','e','o','n']\n",
    "lb = ['s','h','o','w']\n",
    "```\n",
    "\n",
    "prints:\n",
    "\n",
    "```\n",
    "n s\n",
    "e h\n",
    "o o\n",
    "n w\n",
    "```"
   ]
  },
  {
   "cell_type": "raw",
   "id": "527091ce",
   "metadata": {
    "format": "text/html"
   },
   "source": [
    "<a  class=\"jupman-sol jupman-sol-toggler\" \n",
    " onclick=\"jupman.toggleSolution(this);\" \n",
    " data-jupman-show=\"Show solution\" data-jupman-hide=\"Hide\">Show solution</a><div class=\"jupman-sol jupman-sol-code\" style=\"display:none\">  "
   ]
  },
  {
   "cell_type": "code",
   "execution_count": 26,
   "metadata": {},
   "outputs": [
    {
     "name": "stdout",
     "output_type": "stream",
     "text": [
      "n s\n",
      "e h\n",
      "o o\n",
      "n w\n"
     ]
    }
   ],
   "source": [
    "\n",
    "la = ['n','e','o','n']\n",
    "lb = ['s','h','o','w']\n",
    "\n",
    "# write here\n",
    "\n",
    "for i in range(len(la)):     \n",
    "    print(la[i],lb[i])"
   ]
  },
  {
   "cell_type": "raw",
   "id": "58f95833",
   "metadata": {
    "format": "text/html"
   },
   "source": [
    "</div>"
   ]
  },
  {
   "cell_type": "code",
   "execution_count": 26,
   "metadata": {},
   "outputs": [
    {
     "name": "stdout",
     "output_type": "stream",
     "text": [
      "n s\n",
      "e h\n",
      "o o\n",
      "n w\n"
     ]
    }
   ],
   "source": [
    "\n",
    "la = ['n','e','o','n']\n",
    "lb = ['s','h','o','w']\n",
    "\n",
    "# write here\n",
    "\n"
   ]
  },
  {
   "cell_type": "markdown",
   "metadata": {},
   "source": [
    "### Exercise - emotions\n",
    "\n",
    "✪ Given the list of strings `emotions` and another one `grade` containing the numbers `-1` and `1`, write some code which prints the emotions followed with 'positive' if their corresponding grade is a number greater than zero or 'negative' otherwise\n",
    "\n",
    "\n",
    "Example - given:\n",
    "\n",
    "```python\n",
    "emotions = ['Fear', 'Anger','Sadness','Joy','Disgust','Ecstasy']\n",
    "grade =    [-1,       -1,     -1,       1,     -1,        1]\n",
    "```\n",
    "\n",
    "prints:\n",
    "\n",
    "```\n",
    "Fear : negative\n",
    "Anger : negative\n",
    "Sadness : negative\n",
    "Joy : positive\n",
    "Disgust : negative\n",
    "Ecstasy : positive\n",
    "```\n"
   ]
  },
  {
   "cell_type": "raw",
   "id": "59bc691c",
   "metadata": {
    "format": "text/html"
   },
   "source": [
    "<a  class=\"jupman-sol jupman-sol-toggler\" \n",
    " onclick=\"jupman.toggleSolution(this);\" \n",
    " data-jupman-show=\"Show solution\" data-jupman-hide=\"Hide\">Show solution</a><div class=\"jupman-sol jupman-sol-code\" style=\"display:none\">  "
   ]
  },
  {
   "cell_type": "code",
   "execution_count": 27,
   "metadata": {},
   "outputs": [
    {
     "name": "stdout",
     "output_type": "stream",
     "text": [
      "Fear : negative\n",
      "Anger : negative\n",
      "Sadness : negative\n",
      "Joy : positive\n",
      "Disgust : negative\n",
      "Ecstasy : positive\n"
     ]
    }
   ],
   "source": [
    "emotions = ['Fear', 'Anger','Sadness','Joy','Disgust','Ecstasy']\n",
    "grade =    [-1,       -1,     -1,       1,     -1,        1]\n",
    "\n",
    "# write here\n",
    "for i in range(len(emotions)):\n",
    "    if grade[i] > 0:\n",
    "        print(emotions[i], ': positive')\n",
    "    else:\n",
    "        print(emotions[i], ': negative')"
   ]
  },
  {
   "cell_type": "raw",
   "id": "6ce33b49",
   "metadata": {
    "format": "text/html"
   },
   "source": [
    "</div>"
   ]
  },
  {
   "cell_type": "code",
   "execution_count": 27,
   "metadata": {},
   "outputs": [
    {
     "name": "stdout",
     "output_type": "stream",
     "text": [
      "Fear : negative\n",
      "Anger : negative\n",
      "Sadness : negative\n",
      "Joy : positive\n",
      "Disgust : negative\n",
      "Ecstasy : positive\n"
     ]
    }
   ],
   "source": [
    "emotions = ['Fear', 'Anger','Sadness','Joy','Disgust','Ecstasy']\n",
    "grade =    [-1,       -1,     -1,       1,     -1,        1]\n",
    "\n",
    "# write here\n",
    "\n"
   ]
  },
  {
   "cell_type": "markdown",
   "metadata": {},
   "source": [
    "### Exercise - organetto\n",
    "\n",
    "✪ Given a string `s`, write some code which prints all the substrings you can obtain from the position of the character `'n'` and which terminates with the last character of `s`.\n",
    "\n",
    "Example - given:\n",
    "\n",
    "```python\n",
    "s = 'organetto'\n",
    "```\n",
    "\n",
    "Prints:\n",
    "\n",
    "```\n",
    "netto\n",
    "etto\n",
    "tto\n",
    "to\n",
    "o\n",
    "\n",
    "```\n"
   ]
  },
  {
   "cell_type": "raw",
   "id": "1eee1434",
   "metadata": {
    "format": "text/html"
   },
   "source": [
    "<a  class=\"jupman-sol jupman-sol-toggler\" \n",
    " onclick=\"jupman.toggleSolution(this);\" \n",
    " data-jupman-show=\"Show solution\" data-jupman-hide=\"Hide\">Show solution</a><div class=\"jupman-sol jupman-sol-code\" style=\"display:none\">  "
   ]
  },
  {
   "cell_type": "code",
   "execution_count": 28,
   "metadata": {},
   "outputs": [
    {
     "name": "stdout",
     "output_type": "stream",
     "text": [
      "netto\n",
      "etto\n",
      "tto\n",
      "to\n",
      "o\n"
     ]
    }
   ],
   "source": [
    "s = 'organetto'\n",
    "\n",
    "# write here\n",
    "for i in range(s.index('n'), len(s)):\n",
    "    print(s[i:])"
   ]
  },
  {
   "cell_type": "raw",
   "id": "9e81e43e",
   "metadata": {
    "format": "text/html"
   },
   "source": [
    "</div>"
   ]
  },
  {
   "cell_type": "code",
   "execution_count": 28,
   "metadata": {},
   "outputs": [
    {
     "name": "stdout",
     "output_type": "stream",
     "text": [
      "netto\n",
      "etto\n",
      "tto\n",
      "to\n",
      "o\n"
     ]
    }
   ],
   "source": [
    "s = 'organetto'\n",
    "\n",
    "# write here\n",
    "\n"
   ]
  },
  {
   "cell_type": "markdown",
   "metadata": {},
   "source": [
    "### Exercise - sghiribizzo\n",
    "\n",
    "Write some code which given the string `s` prints all the possible combinations of row couples such that a row begins with the first characters of `s` and the successive continues with the following characters.\n",
    "\n",
    "Example - given:\n",
    "\n",
    "```python\n",
    "s = 'sghiribizzo'\n",
    "```\n",
    "\n",
    "prints:\n",
    "\n",
    "```\n",
    "s\n",
    " ghiribizzo\n",
    "sg\n",
    "  hiribizzo\n",
    "sgh\n",
    "   iribizzo\n",
    "sghi\n",
    "    ribizzo\n",
    "sghir\n",
    "     ibizzo\n",
    "sghiri\n",
    "      bizzo\n",
    "sghirib\n",
    "       izzo\n",
    "sghiribi\n",
    "        zzo\n",
    "sghiribiz\n",
    "         zo\n",
    "sghiribizz\n",
    "          o\n",
    "sghiribizzo           \n",
    "```"
   ]
  },
  {
   "cell_type": "raw",
   "id": "626f296c",
   "metadata": {
    "format": "text/html"
   },
   "source": [
    "<a  class=\"jupman-sol jupman-sol-toggler\" \n",
    " onclick=\"jupman.toggleSolution(this);\" \n",
    " data-jupman-show=\"Show solution\" data-jupman-hide=\"Hide\">Show solution</a><div class=\"jupman-sol jupman-sol-code\" style=\"display:none\">  "
   ]
  },
  {
   "cell_type": "code",
   "execution_count": 29,
   "metadata": {},
   "outputs": [
    {
     "name": "stdout",
     "output_type": "stream",
     "text": [
      "s\n",
      " ghiribizzo\n",
      "sg\n",
      "  hiribizzo\n",
      "sgh\n",
      "   iribizzo\n",
      "sghi\n",
      "    ribizzo\n",
      "sghir\n",
      "     ibizzo\n",
      "sghiri\n",
      "      bizzo\n",
      "sghirib\n",
      "       izzo\n",
      "sghiribi\n",
      "        zzo\n",
      "sghiribiz\n",
      "         zo\n",
      "sghiribizz\n",
      "          o\n",
      "sghiribizzo\n",
      "           \n"
     ]
    }
   ],
   "source": [
    "s = 'sghiribizzo'\n",
    "# write here\n",
    "for i in range(len(s)):    \n",
    "    print(s[:i+1])\n",
    "    print(' '*i,s[i+1:])\n",
    "    "
   ]
  },
  {
   "cell_type": "raw",
   "id": "d364bc7c",
   "metadata": {
    "format": "text/html"
   },
   "source": [
    "</div>"
   ]
  },
  {
   "cell_type": "code",
   "execution_count": 29,
   "metadata": {},
   "outputs": [
    {
     "name": "stdout",
     "output_type": "stream",
     "text": [
      "s\n",
      " ghiribizzo\n",
      "sg\n",
      "  hiribizzo\n",
      "sgh\n",
      "   iribizzo\n",
      "sghi\n",
      "    ribizzo\n",
      "sghir\n",
      "     ibizzo\n",
      "sghiri\n",
      "      bizzo\n",
      "sghirib\n",
      "       izzo\n",
      "sghiribi\n",
      "        zzo\n",
      "sghiribiz\n",
      "         zo\n",
      "sghiribizz\n",
      "          o\n",
      "sghiribizzo\n",
      "           \n"
     ]
    }
   ],
   "source": [
    "s = 'sghiribizzo'\n",
    "# write here\n",
    "\n"
   ]
  },
  {
   "cell_type": "markdown",
   "metadata": {},
   "source": [
    "### Exercise - dna\n",
    "\n",
    "Given two DNA strings `s1` and `s2` of equal length, write some code which prints among the first and second string another string made by spaces ` ` and pipe $|$ where equal characters are found.\n",
    "\n",
    "* **HINT**: create a list containing the characters space or the character $|$, and only at the end convert the string by using strings `join` method (doing so is much more efficient than keep generating strings with `+` operator)\n",
    "\n",
    "Example - given:\n",
    "\n",
    "```python\n",
    "s1 = \"ATACATATAGGGCCAATTATTATAAGTCAC\"\n",
    "s2 = \"CGCCACTTAAGCGCCCTGTATTAAAGTCGC\"\n",
    "```\n",
    "\n",
    "Prints:\n",
    "\n",
    "```\n",
    "ATACATATAGGGCCAATTATTATAAGTCAC\n",
    "   ||  || |  |  |   |  ||||| |\n",
    "CGCCACTTAAGCGCCCTGTATTAAAGTCGC\n",
    "```"
   ]
  },
  {
   "cell_type": "raw",
   "id": "62243ff9",
   "metadata": {
    "format": "text/html"
   },
   "source": [
    "<a  class=\"jupman-sol jupman-sol-toggler\" \n",
    " onclick=\"jupman.toggleSolution(this);\" \n",
    " data-jupman-show=\"Show solution\" data-jupman-hide=\"Hide\">Show solution</a><div class=\"jupman-sol jupman-sol-code\" style=\"display:none\">  "
   ]
  },
  {
   "cell_type": "code",
   "execution_count": 30,
   "metadata": {},
   "outputs": [
    {
     "name": "stdout",
     "output_type": "stream",
     "text": [
      "ATACATATAGGGCCAATTATTATAAGTCAC\n",
      "   ||  || |  |  |   |  ||||| |\n",
      "CGCCACTTAAGCGCCCTGTATTAAAGTCGC\n"
     ]
    }
   ],
   "source": [
    "\n",
    "s1 = \"ATACATATAGGGCCAATTATTATAAGTCAC\"\n",
    "s2 = \"CGCCACTTAAGCGCCCTGTATTAAAGTCGC\"\n",
    "\n",
    "# write here\n",
    "lst = []\n",
    "for i in range(len(s1)):\n",
    "    if(s1[i] == s2[i]):\n",
    "        lst.append('|')\n",
    "    else:\n",
    "        lst.append(' ')\n",
    "\n",
    "bars = ''.join(lst)\n",
    "        \n",
    "print(s1)\n",
    "print(bars)\n",
    "print(s2)\n"
   ]
  },
  {
   "cell_type": "raw",
   "id": "7e760e79",
   "metadata": {
    "format": "text/html"
   },
   "source": [
    "</div>"
   ]
  },
  {
   "cell_type": "code",
   "execution_count": 30,
   "metadata": {},
   "outputs": [
    {
     "name": "stdout",
     "output_type": "stream",
     "text": [
      "ATACATATAGGGCCAATTATTATAAGTCAC\n",
      "   ||  || |  |  |   |  ||||| |\n",
      "CGCCACTTAAGCGCCCTGTATTAAAGTCGC\n"
     ]
    }
   ],
   "source": [
    "\n",
    "s1 = \"ATACATATAGGGCCAATTATTATAAGTCAC\"\n",
    "s2 = \"CGCCACTTAAGCGCCCTGTATTAAAGTCGC\"\n",
    "\n",
    "# write here\n",
    "\n"
   ]
  },
  {
   "cell_type": "markdown",
   "metadata": {},
   "source": [
    "\n",
    "### Exercise - sportello\n",
    "\n",
    "✪✪ Given a string `s`, prints the first half of the characters as lowercase and the following half as uppercase.\n",
    "\n",
    "* if the string is of odd length, the first half must have one character _more_ than the second string.\n",
    "\n",
    "Example - given:\n",
    "\n",
    "```python\n",
    "s = 'sportello'\n",
    "```\n",
    "\n",
    "Your code must print:\n",
    "\n",
    "```\n",
    "s\n",
    "p\n",
    "o\n",
    "r\n",
    "t\n",
    "E\n",
    "L\n",
    "L\n",
    "O\n",
    "```\n",
    "\n",
    "(note that 'sportello' has odd length and there are _five_ characters in the first half and _four_ in the second"
   ]
  },
  {
   "cell_type": "raw",
   "id": "a1de4ee6",
   "metadata": {
    "format": "text/html"
   },
   "source": [
    "<a  class=\"jupman-sol jupman-sol-toggler\" \n",
    " onclick=\"jupman.toggleSolution(this);\" \n",
    " data-jupman-show=\"Show solution\" data-jupman-hide=\"Hide\">Show solution</a><div class=\"jupman-sol jupman-sol-code\" style=\"display:none\">  "
   ]
  },
  {
   "cell_type": "code",
   "execution_count": 31,
   "metadata": {},
   "outputs": [
    {
     "name": "stdout",
     "output_type": "stream",
     "text": [
      "s\n",
      "p\n",
      "o\n",
      "r\n",
      "t\n",
      "E\n",
      "L\n",
      "L\n",
      "O\n"
     ]
    }
   ],
   "source": [
    "s =  'sportello'  # sportELLO\n",
    "#s = 'maglia'     # magLIA\n",
    "\n",
    "# write here\n",
    "\n",
    "if len(s) % 2 == 1:\n",
    "    midpoint = (len(s) // 2) + 1\n",
    "else:\n",
    "    midpoint = (len(s) // 2)\n",
    "\n",
    "for i in range(midpoint):\n",
    "    print(s[i])\n",
    "    \n",
    "for i in range(midpoint, len(s)):\n",
    "    print(s[i].upper())"
   ]
  },
  {
   "cell_type": "raw",
   "id": "c13c2bbf",
   "metadata": {
    "format": "text/html"
   },
   "source": [
    "</div>"
   ]
  },
  {
   "cell_type": "code",
   "execution_count": 31,
   "metadata": {},
   "outputs": [
    {
     "name": "stdout",
     "output_type": "stream",
     "text": [
      "s\n",
      "p\n",
      "o\n",
      "r\n",
      "t\n",
      "E\n",
      "L\n",
      "L\n",
      "O\n"
     ]
    }
   ],
   "source": [
    "s =  'sportello'  # sportELLO\n",
    "#s = 'maglia'     # magLIA\n",
    "\n",
    "# write here\n",
    "\n"
   ]
  },
  {
   "cell_type": "markdown",
   "metadata": {},
   "source": [
    "### Exercise - farm\n",
    "\n",
    "✪✪ Given a dictionary `sounds`  which associates animal names to the sounds they produce, and a list `rooms` of tuples of 2 elements containing the animal names, write some code that for each room prints the sounds you hear while passing in front of it.\n",
    "\n",
    "- **NOTE**: the rooms to print are numbered **from 1**\n",
    "\n",
    "Example - given:\n",
    "\n",
    "```python\n",
    "sounds = {'dog':'Bark!',\n",
    "          'cat':'Mew!',\n",
    "          'cow':'Moo!',\n",
    "          'sheep':'Bleat!'}\n",
    "\n",
    "rooms = [('dog', 'sheep'), \n",
    "         ('cat','cow'), \n",
    "         ('cow', 'dog')]\n",
    "```\n",
    "\n",
    "Prints:\n",
    "\n",
    "```\n",
    "In the room 1 we hear Bark! and Bleat!\n",
    "In the room 2 we hear Mew! and Moo!\n",
    "In the room 3 we hear Moo! and Bark!\n",
    "```"
   ]
  },
  {
   "cell_type": "raw",
   "id": "e7603336",
   "metadata": {
    "format": "text/html"
   },
   "source": [
    "<a  class=\"jupman-sol jupman-sol-toggler\" \n",
    " onclick=\"jupman.toggleSolution(this);\" \n",
    " data-jupman-show=\"Show solution\" data-jupman-hide=\"Hide\">Show solution</a><div class=\"jupman-sol jupman-sol-code\" style=\"display:none\">  "
   ]
  },
  {
   "cell_type": "code",
   "execution_count": 32,
   "metadata": {},
   "outputs": [
    {
     "name": "stdout",
     "output_type": "stream",
     "text": [
      "In the room 1 we hear Bark! and Bleat!\n",
      "In the room 2 we hear Mew! and Moo!\n",
      "In the room 3 we hear Moo! and Bark!\n"
     ]
    }
   ],
   "source": [
    "\n",
    "sounds = {'dog':'Bark!',\n",
    "          'cat':'Mew!',\n",
    "          'cow':'Moo!',\n",
    "          'sheep':'Bleat!'}\n",
    "\n",
    "rooms = [('dog', 'sheep'), \n",
    "         ('cat','cow'), \n",
    "         ('cow', 'dog')]\n",
    "\n",
    "# write here\n",
    "\n",
    "for i in range(len(rooms)):\n",
    "    room = rooms[i]\n",
    "    print('In the room',i+1,'we hear',sounds[room[0]], 'and', sounds[room[1]])\n",
    "    "
   ]
  },
  {
   "cell_type": "raw",
   "id": "714189a4",
   "metadata": {
    "format": "text/html"
   },
   "source": [
    "</div>"
   ]
  },
  {
   "cell_type": "code",
   "execution_count": 32,
   "metadata": {},
   "outputs": [
    {
     "name": "stdout",
     "output_type": "stream",
     "text": [
      "In the room 1 we hear Bark! and Bleat!\n",
      "In the room 2 we hear Mew! and Moo!\n",
      "In the room 3 we hear Moo! and Bark!\n"
     ]
    }
   ],
   "source": [
    "\n",
    "sounds = {'dog':'Bark!',\n",
    "          'cat':'Mew!',\n",
    "          'cow':'Moo!',\n",
    "          'sheep':'Bleat!'}\n",
    "\n",
    "rooms = [('dog', 'sheep'), \n",
    "         ('cat','cow'), \n",
    "         ('cow', 'dog')]\n",
    "\n",
    "# write here\n",
    "\n"
   ]
  },
  {
   "cell_type": "markdown",
   "metadata": {},
   "source": [
    "### Exercise - pokemon\n",
    "\n",
    "✪✪✪ Given a list `pokemon` and a number `g` of groups, write some code which prints `g` rows showing all the group components. Group the pokemons in the order you find them in the list.\n",
    "\n",
    "* **HINT 1**: To obtain the number of group components you should use integer division `//`\n",
    "* **HINT 2**: to print group components use the method `join` of strings\n",
    "\n",
    "Example 1 - given:\n",
    "\n",
    "```python\n",
    "#               0         1          2         3            4         5     \n",
    "pokemon = ['Charizard','Gengar','Arcanine','Bulbasaur','Blaziken','Umbreon', \n",
    "#               6         7          8         9           10          11\n",
    "           'Lucario','Gardevoir','Eevee','Dragonite', 'Volcarona', 'Sylveon' ]\n",
    "g = 3\n",
    "```\n",
    "\n",
    "prints:\n",
    "\n",
    "```\n",
    "group 1 : Charizard and Gengar and Arcanine and Bulbasaur\n",
    "group 2 : Blaziken and Umbreon and Lucario and Gardevoir\n",
    "group 3 : Eevee and Dragonite and Volcarona and Sylveon\n",
    "```\n",
    "\n",
    "Example 2 - given:\n",
    "\n",
    "```python\n",
    "#               0         1          2         3            4         5     \n",
    "pokemon = ['Charizard','Gengar','Arcanine','Bulbasaur','Blaziken','Umbreon', \n",
    "#               6         7          8         9           10          11\n",
    "           'Lucario','Gardevoir','Eevee','Dragonite', 'Volcarona', 'Sylveon' ]\n",
    "\n",
    "g = 4\n",
    "```\n",
    "\n",
    "prints:\n",
    "\n",
    "```\n",
    "group 1 : Charizard and Gengar and Arcanine\n",
    "group 2 : Bulbasaur and Blaziken and Umbreon\n",
    "group 3 : Lucario and Gardevoir and Eevee\n",
    "group 4 : Dragonite and Volcarona and Sylveon\n",
    "```"
   ]
  },
  {
   "cell_type": "raw",
   "id": "fb4220dd",
   "metadata": {
    "format": "text/html"
   },
   "source": [
    "<a  class=\"jupman-sol jupman-sol-toggler\" \n",
    " onclick=\"jupman.toggleSolution(this);\" \n",
    " data-jupman-show=\"Show solution\" data-jupman-hide=\"Hide\">Show solution</a><div class=\"jupman-sol jupman-sol-code\" style=\"display:none\">  "
   ]
  },
  {
   "cell_type": "code",
   "execution_count": 33,
   "metadata": {},
   "outputs": [
    {
     "name": "stdout",
     "output_type": "stream",
     "text": [
      "group 1 : Charizard and Gengar and Arcanine and Bulbasaur\n",
      "group 2 : Blaziken and Umbreon and Lucario and Gardevoir\n",
      "group 3 : Eevee and Dragonite and Volcarona and Sylveon\n"
     ]
    }
   ],
   "source": [
    "#               0         1          2         3            4         5      \n",
    "pokemon = ['Charizard','Gengar','Arcanine','Bulbasaur','Blaziken','Umbreon',            \n",
    "#               6         7          8         9           10         11\n",
    "           'Lucario','Gardevoir','Eevee', 'Dragonite', 'Volcarona', 'Sylveon' ]\n",
    "g = 3\n",
    "#g = 4\n",
    "\n",
    "# write here\n",
    "k = len(pokemon) // g  # pokemon in a group\n",
    "\n",
    "for i in range(0, g):    \n",
    "    print('group',i+1,':', ' and '.join(pokemon[i*k:(i+1)*k]))"
   ]
  },
  {
   "cell_type": "raw",
   "id": "636f84f7",
   "metadata": {
    "format": "text/html"
   },
   "source": [
    "</div>"
   ]
  },
  {
   "cell_type": "code",
   "execution_count": 33,
   "metadata": {},
   "outputs": [
    {
     "name": "stdout",
     "output_type": "stream",
     "text": [
      "group 1 : Charizard and Gengar and Arcanine and Bulbasaur\n",
      "group 2 : Blaziken and Umbreon and Lucario and Gardevoir\n",
      "group 3 : Eevee and Dragonite and Volcarona and Sylveon\n"
     ]
    }
   ],
   "source": [
    "#               0         1          2         3            4         5      \n",
    "pokemon = ['Charizard','Gengar','Arcanine','Bulbasaur','Blaziken','Umbreon',            \n",
    "#               6         7          8         9           10         11\n",
    "           'Lucario','Gardevoir','Eevee', 'Dragonite', 'Volcarona', 'Sylveon' ]\n",
    "g = 3\n",
    "#g = 4\n",
    "\n",
    "# write here\n",
    "\n"
   ]
  },
  {
   "cell_type": "markdown",
   "metadata": {},
   "source": [
    "\n",
    "## Modifying during iteration\n",
    "\n",
    "Suppose you have a list `la` containing characters, and you are asked to duplicate all the elements, for example if you have\n",
    "\n",
    "```python\n",
    "lst = ['a','b','c'] \n",
    "```\n",
    "\n",
    "after your code it must result\n",
    "\n",
    "```python\n",
    ">>> print(lst)\n",
    "['a','b','c','a','b','c'] \n",
    "```\n",
    "\n",
    "Since you gained such great knowledge about iteration,you might be tempted to write something like this:\n",
    "\n",
    "```python\n",
    "for char in lst:\n",
    "    lst.append(char)    # WARNING !\n",
    "```"
   ]
  },
  {
   "cell_type": "markdown",
   "metadata": {},
   "source": [
    "**QUESTION**: Do you see any problem?"
   ]
  },
  {
   "cell_type": "raw",
   "id": "f9480bed",
   "metadata": {
    "format": "text/html"
   },
   "source": [
    "<a  class=\"jupman-sol jupman-sol-toggler\" \n",
    " onclick=\"jupman.toggleSolution(this);\" \n",
    " data-jupman-show=\"Show answer\" data-jupman-hide=\"Hide\">Show answer</a><div class=\"jupman-sol jupman-sol-question\" style=\"display:none\">  "
   ]
  },
  {
   "cell_type": "markdown",
   "metadata": {},
   "source": [
    "**ANSWER**: if we go through the list and in _the meanwhile_ we keep adding pieces, there is a concrete risk we will never terminate examining the list!  Read carefully what follows:"
   ]
  },
  {
   "cell_type": "raw",
   "id": "395fc59c",
   "metadata": {
    "format": "text/html"
   },
   "source": [
    "</div>"
   ]
  },
  {
   "cell_type": "markdown",
   "metadata": {},
   "source": [
    "<div class=\"alert alert-info\" >\n",
    "\n",
    "[X COMMANDMENT](https://en.softpython.org/commandments.html#X-COMMANDMENT): \n",
    "**You shall never ever add nor remove elements from a sequence you are iterating with a** `for` **!**\n",
    "</div>\n",
    "\n",
    "Falling into such temptations **would produce totally unpredictable behaviours** (do you know the expression _pulling the rug out from under your feet ?_ )"
   ]
  },
  {
   "cell_type": "markdown",
   "metadata": {},
   "source": [
    "**What about removing?** We've seen that adding is dangerous, but so is removing. Suppose you have to eliminate all the elements from a list, you might be tempted to write something like this:"
   ]
  },
  {
   "cell_type": "code",
   "execution_count": 34,
   "metadata": {},
   "outputs": [],
   "source": [
    "my_list = ['a','b','c','d','e']\n",
    "\n",
    "for el in my_list:\n",
    "    my_list.remove(el)   # VERY BAD IDEA"
   ]
  },
  {
   "cell_type": "markdown",
   "metadata": {},
   "source": [
    "Have a close look at the code. Do you think we removed everything, uh?"
   ]
  },
  {
   "cell_type": "code",
   "execution_count": 35,
   "metadata": {},
   "outputs": [
    {
     "data": {
      "text/plain": [
       "['b', 'd']"
      ]
     },
     "execution_count": 35,
     "metadata": {},
     "output_type": "execute_result"
    }
   ],
   "source": [
    "my_list"
   ]
  },
  {
   "cell_type": "markdown",
   "metadata": {},
   "source": [
    "`O_o'` The absurd result is given by the internal implementation of Python, our version of Pyhton gives this result, yours might give a completely different one. **So be careful!**\n",
    "\n",
    "**If you really need to remove elements from a sequence you are iterating**, use a [while cycle](https://en.softpython.org/control-flow/flow3-while-sol.html) or duplicate first a copy of the original sequence."
   ]
  },
  {
   "cell_type": "markdown",
   "metadata": {},
   "source": [
    "### Exercise - duplicate\n",
    "\n",
    "✪ Try writing some code which MODIFIES a list `la` by duplicating the elements\n",
    "\n",
    "- use a `for` cycle\n",
    "- **DO NOT** use list multiplication\n",
    "\n",
    "Example - given:\n",
    "\n",
    "```python\n",
    "la = ['a','b','c'] \n",
    "```\n",
    "\n",
    "after your code, it must result:\n",
    "\n",
    "```python\n",
    ">>> la\n",
    "['a','b','c','a','b','c'] \n",
    "```\n"
   ]
  },
  {
   "cell_type": "raw",
   "id": "52e6254e",
   "metadata": {
    "format": "text/html"
   },
   "source": [
    "<a  class=\"jupman-sol jupman-sol-toggler\" \n",
    " onclick=\"jupman.toggleSolution(this);\" \n",
    " data-jupman-show=\"Show solution\" data-jupman-hide=\"Hide\">Show solution</a><div class=\"jupman-sol jupman-sol-code\" style=\"display:none\">  "
   ]
  },
  {
   "cell_type": "code",
   "execution_count": 36,
   "metadata": {},
   "outputs": [
    {
     "name": "stdout",
     "output_type": "stream",
     "text": [
      "['a', 'b', 'c', 'a', 'b', 'c']\n"
     ]
    }
   ],
   "source": [
    "la = ['a','b','c'] \n",
    "\n",
    "# write here\n",
    "for element in list(la):  # with list we create a *copy* of the original list,  which remains stable\n",
    "    la.append(element)\n",
    "print(la)"
   ]
  },
  {
   "cell_type": "raw",
   "id": "e8a38e8c",
   "metadata": {
    "format": "text/html"
   },
   "source": [
    "</div>"
   ]
  },
  {
   "cell_type": "code",
   "execution_count": 36,
   "metadata": {},
   "outputs": [
    {
     "name": "stdout",
     "output_type": "stream",
     "text": [
      "['a', 'b', 'c', 'a', 'b', 'c']\n"
     ]
    }
   ],
   "source": [
    "la = ['a','b','c'] \n",
    "\n",
    "# write here\n",
    "\n"
   ]
  },
  {
   "cell_type": "markdown",
   "metadata": {},
   "source": [
    "### Exercise - hammers\n",
    "\n",
    "✪ Given a list of characters `la`, MODIFY the list by changing all the characters at even indeces with the character `z`\n",
    "\n",
    "Example - given:\n",
    "\n",
    "```python\n",
    "la = ['h', 'a', 'm', 'm', 'e', 'r', 's']\n",
    "```\n",
    "\n",
    "after your code, it must result:\n",
    "\n",
    "```python\n",
    ">>> print(la)\n",
    "['z', 'a', 'z', 'm', 'z', 'r', 'z']\n",
    "```\n",
    "\n",
    "* **NOTE**: here we _are not_ adding nor removing cells from the list"
   ]
  },
  {
   "cell_type": "raw",
   "id": "9345bdc1",
   "metadata": {
    "format": "text/html"
   },
   "source": [
    "<a  class=\"jupman-sol jupman-sol-toggler\" \n",
    " onclick=\"jupman.toggleSolution(this);\" \n",
    " data-jupman-show=\"Show solution\" data-jupman-hide=\"Hide\">Show solution</a><div class=\"jupman-sol jupman-sol-code\" style=\"display:none\">  "
   ]
  },
  {
   "cell_type": "code",
   "execution_count": 37,
   "metadata": {},
   "outputs": [
    {
     "name": "stdout",
     "output_type": "stream",
     "text": [
      "['z', 'a', 'z', 'm', 'z', 'r', 'z']\n"
     ]
    }
   ],
   "source": [
    "\n",
    "la = ['h', 'a', 'm', 'm', 'e', 'r', 's']\n",
    "\n",
    "# write here\n",
    "for i in range(len(la)):\n",
    "    if i % 2 == 0:\n",
    "        la[i] = 'z'        \n",
    "print(la)"
   ]
  },
  {
   "cell_type": "raw",
   "id": "e8cac1de",
   "metadata": {
    "format": "text/html"
   },
   "source": [
    "</div>"
   ]
  },
  {
   "cell_type": "code",
   "execution_count": 37,
   "metadata": {},
   "outputs": [
    {
     "name": "stdout",
     "output_type": "stream",
     "text": [
      "['z', 'a', 'z', 'm', 'z', 'r', 'z']\n"
     ]
    }
   ],
   "source": [
    "\n",
    "la = ['h', 'a', 'm', 'm', 'e', 'r', 's']\n",
    "\n",
    "# write here\n",
    "\n"
   ]
  },
  {
   "cell_type": "markdown",
   "metadata": {},
   "source": [
    "### Exercise - Orangutan\n",
    "\n",
    "✪✪ Given two strings `sa` and `sb`, write some code which places in the string `sc` a string composed by alternating all the characters in `sa` and `sb`.\n",
    "\n",
    "* if a string is shorter than the other one, at the end of `sc` put all the remaining characters from the other string.\n",
    "* **HINT**: even if it is possible to augment a string a character at a time at each iteration, each time you do so a new string is created (because strings are immutable). So it's more efficient to keep augmenting a list, and then convert to string only at the very end.\n",
    "\n",
    "Example - given:\n",
    "\n",
    "```python\n",
    "sa,sb = 'gibbon', 'ORANGUTAN' \n",
    "```\n",
    "\n",
    "after your code it must result:\n",
    "\n",
    "```python\n",
    ">>> print(sc)\n",
    "gOiRbAbNoGnUTAN\n",
    "```\n"
   ]
  },
  {
   "cell_type": "raw",
   "id": "d6025f21",
   "metadata": {
    "format": "text/html"
   },
   "source": [
    "<a  class=\"jupman-sol jupman-sol-toggler\" \n",
    " onclick=\"jupman.toggleSolution(this);\" \n",
    " data-jupman-show=\"Show solution\" data-jupman-hide=\"Hide\">Show solution</a><div class=\"jupman-sol jupman-sol-code\" style=\"display:none\">  "
   ]
  },
  {
   "cell_type": "code",
   "execution_count": 38,
   "metadata": {},
   "outputs": [
    {
     "name": "stdout",
     "output_type": "stream",
     "text": [
      "gOiRbAbNoGnUTAN\n"
     ]
    }
   ],
   "source": [
    "sa,sb = 'gibbon', 'ORANGUTAN'   # gOiRbAbNoGnUTAN\n",
    "#sa,sb = 'cruise ship', 'BOAT'  # cBrOuAiTse ship\n",
    "\n",
    "# write here\n",
    "temp = []\n",
    "\n",
    "for i in range(len(sa)):\n",
    "    temp.append(sa[i])\n",
    "    if i < len(sb):\n",
    "        temp.append(sb[i])\n",
    "        \n",
    "if i < len(sb):\n",
    "    temp.extend(sb[i+1:])\n",
    "    \n",
    "sc = ''.join(temp)\n",
    "print(sc)"
   ]
  },
  {
   "cell_type": "raw",
   "id": "9c450053",
   "metadata": {
    "format": "text/html"
   },
   "source": [
    "</div>"
   ]
  },
  {
   "cell_type": "code",
   "execution_count": 38,
   "metadata": {},
   "outputs": [
    {
     "name": "stdout",
     "output_type": "stream",
     "text": [
      "gOiRbAbNoGnUTAN\n"
     ]
    }
   ],
   "source": [
    "sa,sb = 'gibbon', 'ORANGUTAN'   # gOiRbAbNoGnUTAN\n",
    "#sa,sb = 'cruise ship', 'BOAT'  # cBrOuAiTse ship\n",
    "\n",
    "# write here\n",
    "\n"
   ]
  },
  {
   "cell_type": "markdown",
   "metadata": {},
   "source": [
    "### Exercise - basket\n",
    "\n",
    "✪✪✪ There is a `basket` full of fruits, which we represent as a list of strings. We want to take all the fruits and put them in a plate, in the same order we find them in the basket. We must take only the fruits contained in the set `preferences`.\n",
    "\n",
    "- The `basket` may contain duplicates, if they are in the preferences you must take them all\n",
    "- the fruits are to be taken **in the same order** in which they were found\n",
    "\n",
    "Example - given:\n",
    "\n",
    "```python\n",
    "basket = ['strawberry', 'melon', 'cherry', 'watermelon', 'apple', 'melon','watermelon', 'apple', ]\n",
    "preferences = {'cherry', 'apple', 'strawberry'}\n",
    "plate = []\n",
    "```\n",
    "\n",
    "after your code, it must result:\n",
    "\n",
    "```python\n",
    ">>> print(basket)\n",
    "['melon', 'watermelon', 'melon', 'watermelon']\n",
    ">>> print(plate)\n",
    "['strawberry', 'cherry', 'apple', 'apple']\n",
    "```\n",
    "   \n",
    "You can solve the problem in two ways:   \n",
    "\n",
    "- Way 1 (simple and recommended): create a list `new_basket` and finally assign the variable `basket` to it\n",
    "- Way 2 (hard, slow, not recommended but instructive): MODIFY the original `basket` list, using the [pop method](https://en.softpython.org/lists/lists3-sol.html#pop-method) and without ever reassigning `basket`, so no rows beginning with `basket = `\n",
    "\n",
    "Try solving the exercise in both ways.\n",
    "\n",
    "<div class=\"alert alert-warning\">\n",
    "\n",
    "**WARNING: Either way, always remember the sacred** [X COMMANDMENT](https://en.softpython.org/commandments.html#X-COMMANDMENT): \n",
    "**You shall never ever add nor remove elements from a sequence you are iterating with a** `for` **!**\n",
    "</div>\n"
   ]
  },
  {
   "cell_type": "raw",
   "id": "ff97c5df",
   "metadata": {
    "format": "text/html"
   },
   "source": [
    "<a  class=\"jupman-sol jupman-sol-toggler\" \n",
    " onclick=\"jupman.toggleSolution(this);\" \n",
    " data-jupman-show=\"Show solution\" data-jupman-hide=\"Hide\">Show solution</a><div class=\"jupman-sol jupman-sol-code\" style=\"display:none\">  "
   ]
  },
  {
   "cell_type": "code",
   "execution_count": 39,
   "metadata": {},
   "outputs": [
    {
     "name": "stdout",
     "output_type": "stream",
     "text": [
      "basket: ['melon', 'watermelon', 'melon', 'watermelon']\n",
      "plate: ['strawberry', 'cherry', 'apple', 'apple']\n"
     ]
    }
   ],
   "source": [
    "# WAY 1\n",
    "\n",
    "basket = ['strawberry', 'melon', 'cherry', 'watermelon', 'apple', 'melon','watermelon', 'apple', ]\n",
    "preferences = {'cherry', 'apple', 'strawberry'}\n",
    "plate = []\n",
    "\n",
    "\n",
    "# write here\n",
    "new_basket = []\n",
    "for fruit in basket:    \n",
    "    if fruit in preferences:\n",
    "        plate.append(fruit)\n",
    "    else:\n",
    "        new_basket.append(fruit)\n",
    "        \n",
    "    \n",
    "basket = new_basket   # we substitute the original list\n",
    "print('basket:',basket)\n",
    "print('plate:',plate)"
   ]
  },
  {
   "cell_type": "raw",
   "id": "691a0d46",
   "metadata": {
    "format": "text/html"
   },
   "source": [
    "</div>"
   ]
  },
  {
   "cell_type": "code",
   "execution_count": 39,
   "metadata": {},
   "outputs": [
    {
     "name": "stdout",
     "output_type": "stream",
     "text": [
      "basket: ['melon', 'watermelon', 'melon', 'watermelon']\n",
      "plate: ['strawberry', 'cherry', 'apple', 'apple']\n"
     ]
    }
   ],
   "source": [
    "# WAY 1\n",
    "\n",
    "basket = ['strawberry', 'melon', 'cherry', 'watermelon', 'apple', 'melon','watermelon', 'apple', ]\n",
    "preferences = {'cherry', 'apple', 'strawberry'}\n",
    "plate = []\n",
    "\n",
    "\n",
    "# write here\n",
    "\n"
   ]
  },
  {
   "cell_type": "raw",
   "id": "73051cd0",
   "metadata": {
    "format": "text/html"
   },
   "source": [
    "<a  class=\"jupman-sol jupman-sol-toggler\" \n",
    " onclick=\"jupman.toggleSolution(this);\" \n",
    " data-jupman-show=\"Show solution\" data-jupman-hide=\"Hide\">Show solution</a><div class=\"jupman-sol jupman-sol-code\" style=\"display:none\">  "
   ]
  },
  {
   "cell_type": "code",
   "execution_count": 40,
   "metadata": {},
   "outputs": [
    {
     "name": "stdout",
     "output_type": "stream",
     "text": [
      "basket: ['melon', 'watermelon', 'melon', 'watermelon']\n",
      "plate: ['strawberry', 'cherry', 'apple', 'apple']\n"
     ]
    }
   ],
   "source": [
    "# WAY 2\n",
    "\n",
    "basket = ['strawberry', 'melon', 'cherry', 'watermelon', 'apple', 'melon','watermelon', 'apple', ]\n",
    "preferences = {'cherry', 'apple', 'strawberry'}\n",
    "plate = []\n",
    "\n",
    "# write here \n",
    "copy = list(basket)\n",
    "j = 0\n",
    "# so we're sure to iterate on a different sequence from the one we're modifying\n",
    "for i in range(len(copy)):  \n",
    "    fruit = copy[i]\n",
    "    if fruit in preferences:\n",
    "        plate.append(fruit)\n",
    "        basket.pop(j)\n",
    "    else:\n",
    "        j += 1\n",
    "        \n",
    "print('basket:',basket)\n",
    "print('plate:',plate)"
   ]
  },
  {
   "cell_type": "raw",
   "id": "bf511cd1",
   "metadata": {
    "format": "text/html"
   },
   "source": [
    "</div>"
   ]
  },
  {
   "cell_type": "code",
   "execution_count": 40,
   "metadata": {},
   "outputs": [
    {
     "name": "stdout",
     "output_type": "stream",
     "text": [
      "basket: ['melon', 'watermelon', 'melon', 'watermelon']\n",
      "plate: ['strawberry', 'cherry', 'apple', 'apple']\n"
     ]
    }
   ],
   "source": [
    "# WAY 2\n",
    "\n",
    "basket = ['strawberry', 'melon', 'cherry', 'watermelon', 'apple', 'melon','watermelon', 'apple', ]\n",
    "preferences = {'cherry', 'apple', 'strawberry'}\n",
    "plate = []\n",
    "\n",
    "# write here \n",
    "\n"
   ]
  },
  {
   "cell_type": "markdown",
   "metadata": {},
   "source": [
    "## Iterating a set\n",
    "\n",
    "Given a set, we can examinate the element sequence with a `for` cycle.\n",
    "\n",
    "<div class=\"alert alert-warning\">\n",
    "\n",
    "**WARNING**: sets iteration order is **not** predictable !\n",
    "   \n",
    "To better understand why, you can see again [the tutorial on sets](https://en.softpython.org/sets/sets-sol.html#Creating-a-set)\n",
    "</div>"
   ]
  },
  {
   "cell_type": "code",
   "execution_count": 41,
   "metadata": {
    "scrolled": true
   },
   "outputs": [
    {
     "name": "stdout",
     "output_type": "stream",
     "text": [
      "a\n",
      "is\n",
      "this\n",
      "set\n"
     ]
    }
   ],
   "source": [
    "for word in {'this', 'is', 'a', 'set'}:\n",
    "    print(word)"
   ]
  },
  {
   "cell_type": "code",
   "execution_count": 42,
   "metadata": {},
   "outputs": [
    {
     "name": "stdout",
     "output_type": "stream",
     "text": [
      "{'nium', 'pan', 'de', 'mo'}\n"
     ]
    }
   ],
   "source": [
    "s = set()\n",
    "s.add('pan')\n",
    "s.add('de')\n",
    "s.add('mo')\n",
    "s.add('nium')\n",
    "print(s)"
   ]
  },
  {
   "cell_type": "markdown",
   "metadata": {},
   "source": [
    "### Questions - sets\n",
    "\n",
    "Look at the following code fragments, and for each try guessing the result it produces (or if it gives an error):\n",
    "\n",
    "\n",
    "1.  ```python\n",
    "    s = set()\n",
    "    s.add('pan')\n",
    "    s.add('de')\n",
    "    s.add('mo')\n",
    "    s.add('nium')\n",
    "    print(s)\n",
    "    ```\n",
    "1.  ```python\n",
    "    for x in {'a',12,'34',56,34}[2:4]:\n",
    "        print(x)\n",
    "    ```\n",
    "1.  ```python\n",
    "    for x in set(['a']) | set(['b']):\n",
    "        print(x)\n",
    "    ```\n",
    "1.  ```python\n",
    "    for x in set(['a']) & set(['b']):\n",
    "        print(x)\n",
    "    ```\n"
   ]
  },
  {
   "cell_type": "markdown",
   "metadata": {},
   "source": [
    "## Iterating a dictionary\n",
    "\n",
    "Given a dictionary, we can examinate the sequence of its keys, values or both with a `for` cycle.\n",
    "\n",
    "<div class=\"alert alert-warning\">\n",
    "\n",
    "**WARNING**: keys iteration order is **not** predictable !\n",
    "\n",
    "</div>\n",
    "\n",
    "We can go through the keys:"
   ]
  },
  {
   "cell_type": "code",
   "execution_count": 43,
   "metadata": {},
   "outputs": [],
   "source": [
    "pastries = {\n",
    "    'cream puff':5,\n",
    "    'brioche':8,\n",
    "    'donut':2\n",
    "}"
   ]
  },
  {
   "cell_type": "code",
   "execution_count": 44,
   "metadata": {},
   "outputs": [
    {
     "name": "stdout",
     "output_type": "stream",
     "text": [
      "Found key   : cream puff\n",
      "  with value: 5\n",
      "Found key   : brioche\n",
      "  with value: 8\n",
      "Found key   : donut\n",
      "  with value: 2\n"
     ]
    }
   ],
   "source": [
    "for key in pastries:\n",
    "    print('Found key   :', key)\n",
    "    print('  with value:', pastries[key])"
   ]
  },
  {
   "cell_type": "markdown",
   "metadata": {},
   "source": [
    "At each iteration, the declared variable `key` is assigned to a key taken from the dictionary, in an order we cannot predict."
   ]
  },
  {
   "cell_type": "markdown",
   "metadata": {},
   "source": [
    "We can also directly obtain both the key and the associated value with this notation:"
   ]
  },
  {
   "cell_type": "code",
   "execution_count": 45,
   "metadata": {},
   "outputs": [
    {
     "name": "stdout",
     "output_type": "stream",
     "text": [
      "Found key  : cream puff\n",
      " with value: 5\n",
      "Found key  : brioche\n",
      " with value: 8\n",
      "Found key  : donut\n",
      " with value: 2\n"
     ]
    }
   ],
   "source": [
    "for key, value in pastries.items():\n",
    "    print('Found key  :', key)\n",
    "    print(' with value:', pastries[key])"
   ]
  },
  {
   "cell_type": "markdown",
   "metadata": {},
   "source": [
    "`.items()` return a list of key/value couples, and during each iteration a couple is assigned to the variable `key` and `value`."
   ]
  },
  {
   "cell_type": "markdown",
   "metadata": {},
   "source": [
    "### Dictionary iteration - questions \n",
    "\n",
    "Look at the following code fragments , and for each try guessing the result it produces (or if it gives an error):\n",
    "\n",
    "\n",
    "<div class=\"alert alert-warning\">\n",
    "\n",
    "**WARNING**: Remember the order is IMPOSSIBLE to foresee, so the important bit is to guess all the printed stuff\n",
    "\n",
    "</div>"
   ]
  },
  {
   "cell_type": "markdown",
   "metadata": {},
   "source": [
    "1.  ```python\n",
    "    for x in {'a':1,'b':2,'c':3}:   \n",
    "        print(x)\n",
    "    ```\n",
    "1.  ```python\n",
    "    for x in {1:'a',2:'b',3:'c'}:\n",
    "        print(x)\n",
    "    ```\n",
    "1.  ```python\n",
    "    diz = {'a':1,'b':2,'c':3}\n",
    "    for x in diz:   \n",
    "        print(x[diz])\n",
    "    ```    \n",
    "1.  ```python\n",
    "    diz = {'a':1,'b':2,'c':3}\n",
    "    for x in diz:   \n",
    "        print(diz[x])\n",
    "    ```\n",
    "1.  ```python\n",
    "    diz = {'a':1,'b':2,'c':3}\n",
    "    for x in diz:   \n",
    "        if x == 'b':\n",
    "            print(diz[x])\n",
    "    ```\n",
    "1.  ```python\n",
    "    for k,v in {1:'a',2:'b',3:'c'}:\n",
    "        print(k,v)\n",
    "    ```    \n",
    "1.  ```python\n",
    "    for x in {1:'a',2:'b',3:'c'}.values():\n",
    "        print(x)\n",
    "    ```\n",
    "1.  ```python\n",
    "    for x in {1:'a',2:'b',3:'c'}.keys():\n",
    "        print(x)\n",
    "    ```\n",
    "1.  ```python\n",
    "    for x in {1:'a',2:'b',3:'c'}.items():\n",
    "        print(x)\n",
    "    ```\n",
    "1.  ```python\n",
    "    for x,y in {1:'a',2:'b',3:'c'}.items():\n",
    "        print(x,y)\n",
    "    ```    "
   ]
  },
  {
   "cell_type": "markdown",
   "metadata": {},
   "source": [
    "### Questions - Are they equivalent? \n",
    "\n",
    "\n",
    "Look at the following code fragments: each contains two parts, A and B. For each fragment, try guessing whether part A will print exactly the same result printed by code in part B\n",
    "\n",
    "* **FIRST** think about the answer\n",
    "* **THEN** try executing "
   ]
  },
  {
   "cell_type": "markdown",
   "metadata": {},
   "source": [
    "### Are they equivalent ? postin\n",
    "\n",
    "```python\n",
    "\n",
    "diz = {\n",
    "    'p':'t',\n",
    "    'o':'i',\n",
    "    's':'n',  \n",
    "}\n",
    "\n",
    "print('A:')\n",
    "for x in diz.keys():    \n",
    "    print(x)        \n",
    "        \n",
    "print('\\nB:')\n",
    "for y in diz:\n",
    "    print(y)\n",
    "```"
   ]
  },
  {
   "cell_type": "markdown",
   "metadata": {},
   "source": [
    "### Are they equivalent ? cortel\n",
    "\n",
    "```python\n",
    "\n",
    "diz = {\n",
    "    'c':'t',\n",
    "    'o':'e',\n",
    "    'r':'l',    \n",
    "}\n",
    "\n",
    "print('A:')\n",
    "for p,q in diz.items():\n",
    "    print(q)\n",
    "        \n",
    "print('\\nB:')\n",
    "for x in diz.values():\n",
    "    print(x)\n",
    "```"
   ]
  },
  {
   "cell_type": "markdown",
   "metadata": {},
   "source": [
    "### Are they equivalent ? - gel\n",
    "\n",
    "```python\n",
    "diz = {\n",
    "    'g':'l',\n",
    "    'e':'e',\n",
    "    'l':'g',    \n",
    "}\n",
    "\n",
    "print('A:')\n",
    "for x in diz.values():\n",
    "    print(x)\n",
    "    \n",
    "print('\\nB:')\n",
    "for z in diz.items():\n",
    "    print(z[0])\n",
    "```"
   ]
  },
  {
   "cell_type": "markdown",
   "metadata": {},
   "source": [
    "### Are they equivalent  ? - giri\n",
    "\n",
    "```python\n",
    "\n",
    "diz = {\n",
    "    'p':'g',\n",
    "    'e':'i',\n",
    "    'r':'r',    \n",
    "    'i':'i',    \n",
    "}\n",
    "\n",
    "print('A:')\n",
    "for p,q in diz.items():\n",
    "    if p == q:\n",
    "        print(p)           \n",
    "        \n",
    "print('\\nB:')\n",
    "for x in diz:\n",
    "    if x == diz[x]:\n",
    "        print(x)\n",
    "```"
   ]
  },
  {
   "cell_type": "markdown",
   "metadata": {},
   "source": [
    "### Are they equivalent  - Found\n",
    "\n",
    "First think if they are equivalent, then check with all the proposed values of `k`.\n",
    "\n",
    "<div class=\"alert alert-warning\">\n",
    "\n",
    "**Be very careful about this exercise !**\n",
    "    \n",
    "Getting this means having _really_  understood dictionaries ;-)\n",
    "\n",
    "</div>\n",
    "\n",
    "```python\n",
    "k = 'w'\n",
    "#k = 'h'\n",
    "#k = 'y'\n",
    "#k = 'z'\n",
    "\n",
    "dct = {\n",
    "    'w':'s',\n",
    "    'h':'o',\n",
    "    'y':'?',    \n",
    "}\n",
    "\n",
    "print('A:')\n",
    "for x in dct:\n",
    "    if x == k:        \n",
    "        print('Found', dct[x])\n",
    "        \n",
    "print('\\nB:')\n",
    "if k in dct:\n",
    "    print('Found', dct[k])\n",
    "```"
   ]
  },
  {
   "cell_type": "raw",
   "id": "31e379ba",
   "metadata": {
    "format": "text/html"
   },
   "source": [
    "<a  class=\"jupman-sol jupman-sol-toggler\" \n",
    " onclick=\"jupman.toggleSolution(this);\" \n",
    " data-jupman-show=\"Show answer\" data-jupman-hide=\"Hide\">Show answer</a><div class=\"jupman-sol jupman-sol-question\" style=\"display:none\">  "
   ]
  },
  {
   "cell_type": "markdown",
   "metadata": {},
   "source": [
    "**ANSWER**: The two codes reported above are equivalent, with an important difference: code A will be executed in a time proportional to the dimension of `dct` (because it needs to go through all the dictionary), code B instead will be always executed in a short constant time which does _not_ depend on the dimension of `dct`. Both the command `if k in dct`, and the expression `dct[k]` (which retrieves the value associated to key `k`) are extremely fast.\n",
    "\n",
    "<div class=\"alert alert-warning\">\n",
    "\n",
    "**WARNING: be sure to fully understand this point!**\n",
    "    \n",
    "So many people write code as in part A, losing the main feature of dictionaries which is fast access. As long as data is small you may not notice, but when we have several megabytes of key/value couples you start feeling the time lost in pointless loops! For more you can read (or review) the [section Fast disorder](https://en.softpython.org/dictionaries/dictionaries2-sol.html#Fast-disorder)  in the dictionaries tutorial.\n",
    "\n",
    "</div>"
   ]
  },
  {
   "cell_type": "raw",
   "id": "d1366df7",
   "metadata": {
    "format": "text/html"
   },
   "source": [
    "</div>"
   ]
  },
  {
   "cell_type": "markdown",
   "metadata": {},
   "source": [
    "### Exercise - color of hearts\n",
    "\n",
    "✪ Write some code which given a dictionary `suits`, for each suits prints its color.\n",
    "\n",
    "\n",
    "Example - given:\n",
    "\n",
    "```python\n",
    "suits = {\n",
    "    'hearts':'red',\n",
    "    'spades':'black',\n",
    "    'diamonds':'red',\n",
    "    'clubs':'black'\n",
    "}\n",
    "```\n",
    "\n",
    "Prints:\n",
    "\n",
    "<div class=\"alert alert-warning\">\n",
    "\n",
    "**WARNING**: do not care about the order in which values are printed!\n",
    "    \n",
    "On your computer you might see different results, the important bit is that all rows get printed.\n",
    "</div>\n",
    "\n",
    "```\n",
    "The color of spades is black\n",
    "The color of diamonds is red\n",
    "The color of hearts is red\n",
    "The color of clubs is black\n",
    "\n",
    "```\n",
    "\n"
   ]
  },
  {
   "cell_type": "raw",
   "id": "41efe237",
   "metadata": {
    "format": "text/html"
   },
   "source": [
    "<a  class=\"jupman-sol jupman-sol-toggler\" \n",
    " onclick=\"jupman.toggleSolution(this);\" \n",
    " data-jupman-show=\"Show solution\" data-jupman-hide=\"Hide\">Show solution</a><div class=\"jupman-sol jupman-sol-code\" style=\"display:none\">  "
   ]
  },
  {
   "cell_type": "code",
   "execution_count": 46,
   "metadata": {},
   "outputs": [
    {
     "name": "stdout",
     "output_type": "stream",
     "text": [
      "The color of hearts is red\n",
      "The color of spades is black\n",
      "The color of diamonds is red\n",
      "The color of clubs is black\n"
     ]
    }
   ],
   "source": [
    "suits = {\n",
    "    'hearts':'red',\n",
    "    'spades':'black',\n",
    "    'diamonds':'red',\n",
    "    'clubs':'black'\n",
    "}\n",
    "\n",
    "# write here\n",
    "\n",
    "for k in suits.keys():\n",
    "    print('The color of', k, 'is', suits[k])"
   ]
  },
  {
   "cell_type": "raw",
   "id": "400be91d",
   "metadata": {
    "format": "text/html"
   },
   "source": [
    "</div>"
   ]
  },
  {
   "cell_type": "code",
   "execution_count": 46,
   "metadata": {},
   "outputs": [
    {
     "name": "stdout",
     "output_type": "stream",
     "text": [
      "The color of hearts is red\n",
      "The color of spades is black\n",
      "The color of diamonds is red\n",
      "The color of clubs is black\n"
     ]
    }
   ],
   "source": [
    "suits = {\n",
    "    'hearts':'red',\n",
    "    'spades':'black',\n",
    "    'diamonds':'red',\n",
    "    'clubs':'black'\n",
    "}\n",
    "\n",
    "# write here\n",
    "\n"
   ]
  },
  {
   "cell_type": "markdown",
   "metadata": {},
   "source": [
    "### Exercise - jewels\n",
    "\n",
    "\n",
    "\n",
    "✪ In the dictionary `jewels` some keys are equal to the respective values. Write some code which find such keys and prints them all.\n",
    "\n",
    "Example - given:\n",
    "\n",
    "```python\n",
    "jewels = {\n",
    "    'rubies': 'jade',\n",
    "    'opals':'topazes',\n",
    "    'gems':'gems',\n",
    "    'diamonds': 'gems',\n",
    "    'rubies':'rubies'\n",
    "}\n",
    "```\n",
    "\n",
    "prints:\n",
    "\n",
    "```\n",
    "couple of equal elements: gems and gems\n",
    "couple of equal elements: rubies and rubies\n",
    "```"
   ]
  },
  {
   "cell_type": "raw",
   "id": "c9946d10",
   "metadata": {
    "format": "text/html"
   },
   "source": [
    "<a  class=\"jupman-sol jupman-sol-toggler\" \n",
    " onclick=\"jupman.toggleSolution(this);\" \n",
    " data-jupman-show=\"Show solution\" data-jupman-hide=\"Hide\">Show solution</a><div class=\"jupman-sol jupman-sol-code\" style=\"display:none\">  "
   ]
  },
  {
   "cell_type": "code",
   "execution_count": 47,
   "metadata": {},
   "outputs": [
    {
     "name": "stdout",
     "output_type": "stream",
     "text": [
      "couple of equal elements: rubies and rubies\n",
      "couple of equal elements: gems and gems\n"
     ]
    }
   ],
   "source": [
    "jewels = {\n",
    "    'rubies': 'jade',\n",
    "    'opals':'topazes',\n",
    "    'gems':'gems',\n",
    "    'diamonds': 'gems',\n",
    "    'rubies':'rubies'\n",
    "}\n",
    "\n",
    "# write here\n",
    "for k,v in jewels.items():\n",
    "    if k == v:\n",
    "        print('couple of equal elements:',k, 'and', v)\n"
   ]
  },
  {
   "cell_type": "raw",
   "id": "4f5f061c",
   "metadata": {
    "format": "text/html"
   },
   "source": [
    "</div>"
   ]
  },
  {
   "cell_type": "code",
   "execution_count": 47,
   "metadata": {},
   "outputs": [
    {
     "name": "stdout",
     "output_type": "stream",
     "text": [
      "couple of equal elements: rubies and rubies\n",
      "couple of equal elements: gems and gems\n"
     ]
    }
   ],
   "source": [
    "jewels = {\n",
    "    'rubies': 'jade',\n",
    "    'opals':'topazes',\n",
    "    'gems':'gems',\n",
    "    'diamonds': 'gems',\n",
    "    'rubies':'rubies'\n",
    "}\n",
    "\n",
    "# write here\n",
    "\n"
   ]
  },
  {
   "cell_type": "markdown",
   "metadata": {},
   "source": [
    "### Exercise  - powers\n",
    "\n",
    "✪ Given a number `n`, write some code which creates a NEW dictionary `d` containing as keys the numbers from 1 a `n` INCLUDED, by associating keys to their squares.\n",
    "\n",
    "Example - given:\n",
    "\n",
    "```python\n",
    "n = 5\n",
    "```\n",
    "\n",
    "after your code, it must result:\n",
    "\n",
    "```python\n",
    ">>> print(d)\n",
    "{1: 1, 2: 4, 3: 9, 4: 16, 5: 25}\n",
    "```"
   ]
  },
  {
   "cell_type": "raw",
   "id": "5f3d5e36",
   "metadata": {
    "format": "text/html"
   },
   "source": [
    "<a  class=\"jupman-sol jupman-sol-toggler\" \n",
    " onclick=\"jupman.toggleSolution(this);\" \n",
    " data-jupman-show=\"Show solution\" data-jupman-hide=\"Hide\">Show solution</a><div class=\"jupman-sol jupman-sol-code\" style=\"display:none\">  "
   ]
  },
  {
   "cell_type": "code",
   "execution_count": 48,
   "metadata": {},
   "outputs": [
    {
     "name": "stdout",
     "output_type": "stream",
     "text": [
      "{1: 1, 2: 4, 3: 9, 4: 16, 5: 25}\n"
     ]
    }
   ],
   "source": [
    "n = 5\n",
    "\n",
    "# write here\n",
    "d = {}\n",
    "for i in range(1,n+1):\n",
    "    d[i] = i*i\n",
    "\n",
    "print(d)"
   ]
  },
  {
   "cell_type": "raw",
   "id": "c2496e02",
   "metadata": {
    "format": "text/html"
   },
   "source": [
    "</div>"
   ]
  },
  {
   "cell_type": "code",
   "execution_count": 48,
   "metadata": {},
   "outputs": [
    {
     "name": "stdout",
     "output_type": "stream",
     "text": [
      "{1: 1, 2: 4, 3: 9, 4: 16, 5: 25}\n"
     ]
    }
   ],
   "source": [
    "n = 5\n",
    "\n",
    "# write here\n",
    "\n"
   ]
  },
  {
   "cell_type": "markdown",
   "metadata": {},
   "source": [
    "### Exercise - flowers\n",
    "\n",
    "✪ Given a list `flowers`, write some code which creates a NEW dictionary `is_cap` which associates to each flower `True` if the flower name is written all uppercase, and `False` otherwise\n",
    "\n",
    "* **HINT**: to verify whether a string is all uppercase, use `.isupper()` method\n",
    "\n",
    "```python\n",
    "flowers = ['sunflower','GILLYFLOWER', 'tulip', 'PASSION FLOWER', 'ROSE', 'violet']\n",
    "```\n",
    "\n",
    "prints (they are in alphabetical order because we print with `pprint`):\n",
    "\n",
    "```\n",
    ">>> from pprint import pprint\n",
    ">>> pprint(is_cap)\n",
    "{'GILLYFLOWER': True,\n",
    " 'PASSION FLOWER': True,\n",
    " 'ROSE': True,\n",
    " 'sunflower': False,\n",
    " 'tulip': False,\n",
    " 'violet': False}\n",
    "```"
   ]
  },
  {
   "cell_type": "raw",
   "id": "614399d4",
   "metadata": {
    "format": "text/html"
   },
   "source": [
    "<a  class=\"jupman-sol jupman-sol-toggler\" \n",
    " onclick=\"jupman.toggleSolution(this);\" \n",
    " data-jupman-show=\"Show solution\" data-jupman-hide=\"Hide\">Show solution</a><div class=\"jupman-sol jupman-sol-code\" style=\"display:none\">  "
   ]
  },
  {
   "cell_type": "code",
   "execution_count": 49,
   "metadata": {},
   "outputs": [
    {
     "name": "stdout",
     "output_type": "stream",
     "text": [
      "{'GILLYFLOWER': True,\n",
      " 'PASSION FLOWER': True,\n",
      " 'ROSE': True,\n",
      " 'sunflower': False,\n",
      " 'tulip': False,\n",
      " 'violet': False}\n"
     ]
    }
   ],
   "source": [
    "\n",
    "flowers = ['sunflower','GILLYFLOWER', 'tulip', 'PASSION FLOWER', 'ROSE', 'violet']\n",
    "\n",
    "# write here\n",
    "\n",
    "is_cap = {}\n",
    "for el in flowers:\n",
    "    is_cap[el] = el.isupper()\n",
    "    \n",
    "from pprint import pprint\n",
    "pprint(is_cap)"
   ]
  },
  {
   "cell_type": "raw",
   "id": "970b4718",
   "metadata": {
    "format": "text/html"
   },
   "source": [
    "</div>"
   ]
  },
  {
   "cell_type": "code",
   "execution_count": 49,
   "metadata": {},
   "outputs": [
    {
     "name": "stdout",
     "output_type": "stream",
     "text": [
      "{'GILLYFLOWER': True,\n",
      " 'PASSION FLOWER': True,\n",
      " 'ROSE': True,\n",
      " 'sunflower': False,\n",
      " 'tulip': False,\n",
      " 'violet': False}\n"
     ]
    }
   ],
   "source": [
    "\n",
    "flowers = ['sunflower','GILLYFLOWER', 'tulip', 'PASSION FLOWER', 'ROSE', 'violet']\n",
    "\n",
    "# write here\n",
    "\n"
   ]
  },
  {
   "cell_type": "markdown",
   "metadata": {},
   "source": [
    "### Exercise - art\n",
    "\n",
    "✪ An artist painted a series of works with different techiques. In the dictionary `prices` he writes the price of each technique. The artist intend to promote a series of exhibitions, and in each of them he will present a particular technique. Supposing for each technique he produced `q` paintings, show how much he will learn in each exhibition (suppose he sells everything).\n",
    "\n",
    "Example - given:\n",
    "\n",
    "```python\n",
    "q = 20\n",
    "\n",
    "exhibitions = ['watercolor', 'oil', 'mural', 'tempera', 'charcoal','ink']\n",
    "\n",
    "prices = {'watercolor': 3000,\n",
    "          'oil'       : 6000,\n",
    "          'mural'     : 2000,\n",
    "          'tempera'   : 4000,\n",
    "          'charcoal'  : 7000,\n",
    "          'ink'       : 1000\n",
    "}\n",
    "```\n",
    "\n",
    "Prints - **this time order matters!!** \n",
    "\n",
    "```\n",
    "Expected Income:\n",
    "  exhibition watercolor : 60000 €\n",
    "  exhibition oil : 120000 €\n",
    "  exhibition mural : 40000 €\n",
    "  exhibition tempera : 80000 €\n",
    "  exhibition charcoal : 140000 €\n",
    "  exhibition ink : 20000 €\n",
    "\n",
    "```"
   ]
  },
  {
   "cell_type": "raw",
   "id": "94387b14",
   "metadata": {
    "format": "text/html"
   },
   "source": [
    "<a  class=\"jupman-sol jupman-sol-toggler\" \n",
    " onclick=\"jupman.toggleSolution(this);\" \n",
    " data-jupman-show=\"Show solution\" data-jupman-hide=\"Hide\">Show solution</a><div class=\"jupman-sol jupman-sol-code\" style=\"display:none\">  "
   ]
  },
  {
   "cell_type": "code",
   "execution_count": 50,
   "metadata": {},
   "outputs": [
    {
     "name": "stdout",
     "output_type": "stream",
     "text": [
      "Expected Income:\n",
      "  exhibition watercolor : 60000 €\n",
      "  exhibition oil : 120000 €\n",
      "  exhibition mural : 40000 €\n",
      "  exhibition tempera : 80000 €\n",
      "  exhibition charcoal : 140000 €\n",
      "  exhibition ink : 20000 €\n"
     ]
    }
   ],
   "source": [
    "q = 20\n",
    "\n",
    "exhibitions = ['watercolor', 'oil', 'mural', 'tempera', 'charcoal','ink']\n",
    "\n",
    "prices = {'watercolor': 3000,\n",
    "          'oil'       : 6000,\n",
    "          'mural'     : 2000,\n",
    "          'tempera'   : 4000,\n",
    "          'charcoal'  : 7000,\n",
    "          'ink'       : 1000\n",
    "}\n",
    "\n",
    "# write here\n",
    "\n",
    "print('Expected Income:')\n",
    "for i in range(len(exhibitions)):\n",
    "    technique = exhibitions[i]\n",
    "    print('  exhibition', technique, \":\", prices[technique]*q,  '€')"
   ]
  },
  {
   "cell_type": "raw",
   "id": "3da2c7cc",
   "metadata": {
    "format": "text/html"
   },
   "source": [
    "</div>"
   ]
  },
  {
   "cell_type": "code",
   "execution_count": 50,
   "metadata": {},
   "outputs": [
    {
     "name": "stdout",
     "output_type": "stream",
     "text": [
      "Expected Income:\n",
      "  exhibition watercolor : 60000 €\n",
      "  exhibition oil : 120000 €\n",
      "  exhibition mural : 40000 €\n",
      "  exhibition tempera : 80000 €\n",
      "  exhibition charcoal : 140000 €\n",
      "  exhibition ink : 20000 €\n"
     ]
    }
   ],
   "source": [
    "q = 20\n",
    "\n",
    "exhibitions = ['watercolor', 'oil', 'mural', 'tempera', 'charcoal','ink']\n",
    "\n",
    "prices = {'watercolor': 3000,\n",
    "          'oil'       : 6000,\n",
    "          'mural'     : 2000,\n",
    "          'tempera'   : 4000,\n",
    "          'charcoal'  : 7000,\n",
    "          'ink'       : 1000\n",
    "}\n",
    "\n",
    "# write here\n",
    "\n"
   ]
  },
  {
   "cell_type": "markdown",
   "metadata": {},
   "source": [
    "### Exercise - stationery stores\n",
    "\n",
    "✪ An owner of two stationery shops, in order to reorganize the stores wants to know the materials which are in common among the shops. Given two dictionaries `store1` and `store2` which associates objects to their quantity, write some code which finds all the keys in common and for each prints the sum of the found quantities.\n",
    "\n",
    "Example - given:\n",
    "\n",
    "```python\n",
    "store1 = {'pens':10,\n",
    "          'folders':20,\n",
    "          'papers':30,\n",
    "          'scissors':40}\n",
    "\n",
    "store2 = {'pens':80,\n",
    "          'folders':90,\n",
    "          'goniometer':130,\n",
    "          'scissors':110,\n",
    "          'rulers':120,\n",
    "          }\n",
    "```\n",
    "\n",
    "prints (order is **not** important):\n",
    "\n",
    "```\n",
    "materials in common:\n",
    "   pens : 90\n",
    "   folders : 110\n",
    "   scissors : 150\n",
    "```"
   ]
  },
  {
   "cell_type": "raw",
   "id": "a7a57061",
   "metadata": {
    "format": "text/html"
   },
   "source": [
    "<a  class=\"jupman-sol jupman-sol-toggler\" \n",
    " onclick=\"jupman.toggleSolution(this);\" \n",
    " data-jupman-show=\"Show solution\" data-jupman-hide=\"Hide\">Show solution</a><div class=\"jupman-sol jupman-sol-code\" style=\"display:none\">  "
   ]
  },
  {
   "cell_type": "code",
   "execution_count": 51,
   "metadata": {},
   "outputs": [
    {
     "name": "stdout",
     "output_type": "stream",
     "text": [
      "materials in common:\n",
      "   pens : 90\n",
      "   folders : 110\n",
      "   scissors : 150\n"
     ]
    }
   ],
   "source": [
    "store1 = {'pens':10,\n",
    "          'folders':20,\n",
    "          'papers':30,\n",
    "          'scissors':40}\n",
    "\n",
    "store2 = {'pens':80,\n",
    "          'folders':90,\n",
    "          'goniometer':130,\n",
    "          'scissors':110,\n",
    "          'rulers':120,\n",
    "          }\n",
    "# write here\n",
    "\n",
    "print('materials in common:')\n",
    "for k in store1:\n",
    "    if k in store2:\n",
    "        print('  ',k, ':', store1[k] + store2[k])"
   ]
  },
  {
   "cell_type": "raw",
   "id": "5a6d9931",
   "metadata": {
    "format": "text/html"
   },
   "source": [
    "</div>"
   ]
  },
  {
   "cell_type": "code",
   "execution_count": 51,
   "metadata": {},
   "outputs": [
    {
     "name": "stdout",
     "output_type": "stream",
     "text": [
      "materials in common:\n",
      "   pens : 90\n",
      "   folders : 110\n",
      "   scissors : 150\n"
     ]
    }
   ],
   "source": [
    "store1 = {'pens':10,\n",
    "          'folders':20,\n",
    "          'papers':30,\n",
    "          'scissors':40}\n",
    "\n",
    "store2 = {'pens':80,\n",
    "          'folders':90,\n",
    "          'goniometer':130,\n",
    "          'scissors':110,\n",
    "          'rulers':120,\n",
    "          }\n",
    "# write here\n",
    "\n"
   ]
  },
  {
   "cell_type": "markdown",
   "metadata": {},
   "source": [
    "### Exercise - legumes\n",
    "\n",
    "✪ A store has numbered shelves, each containing a number of legumes expressed in kilograms. We represent `store` as a list. There is also a `registry` available as a dictionary which associates to legume names the shelves number in which they are contained.\n",
    "\n",
    "Write some code which given a list of legume names, shows the sum of kilograms in the store for those legumes.\n",
    "\n",
    "Example - given:\n",
    "\n",
    "```python\n",
    "legumes = ['lentils', 'soy']    \n",
    "\n",
    "#        0  1  2  3  4  5 \n",
    "store = [50,90,70,10,20,50]\n",
    "\n",
    "registry = {'peas':3,\n",
    "            'soy':1,\n",
    "            'chickpeas':5,\n",
    "            'lentils':4,\n",
    "            'broad beans':2,\n",
    "            'beans':0,\n",
    "}\n",
    "```\n",
    "\n",
    "after your code, it must print (order does **not** matter):\n",
    "\n",
    "```\n",
    "Searching for lentils and soy ...\n",
    "Found 20 kg of lentils\n",
    "Found 90 kg of soy\n",
    "Total: 110 kg\n",
    "```"
   ]
  },
  {
   "cell_type": "raw",
   "id": "0b0b9d0a",
   "metadata": {
    "format": "text/html"
   },
   "source": [
    "<a  class=\"jupman-sol jupman-sol-toggler\" \n",
    " onclick=\"jupman.toggleSolution(this);\" \n",
    " data-jupman-show=\"Show solution\" data-jupman-hide=\"Hide\">Show solution</a><div class=\"jupman-sol jupman-sol-code\" style=\"display:none\">  "
   ]
  },
  {
   "cell_type": "code",
   "execution_count": 52,
   "metadata": {},
   "outputs": [
    {
     "name": "stdout",
     "output_type": "stream",
     "text": [
      "Searching for lentils and soy ...\n",
      "Found 20 kg of lentils\n",
      "Found 90 kg of soy\n",
      "Total: 110 kg\n"
     ]
    }
   ],
   "source": [
    "\n",
    "legumes = ['lentils', 'soy']    # 110 \n",
    "#legumes = ['beans', 'broad beans', 'chickpeas']   # 170\n",
    "\n",
    "#        0  1  2  3  4  5 \n",
    "store = [50,90,70,10,20,50]\n",
    "\n",
    "registry = {'peas':3,\n",
    "            'soy':1,\n",
    "            'chickpeas':5,\n",
    "            'lentils':4,\n",
    "            'broad beans':2,\n",
    "            'beans':0,\n",
    "}\n",
    "# write here\n",
    "print('Searching for', ' and '.join(legumes), '...')\n",
    "s = 0\n",
    "for leg in legumes:\n",
    "    print('Found', store[registry[leg]], 'kg of', leg)\n",
    "    s += store[registry[leg]]\n",
    "    \n",
    "print('Total:',s, 'kg')"
   ]
  },
  {
   "cell_type": "raw",
   "id": "338c88ce",
   "metadata": {
    "format": "text/html"
   },
   "source": [
    "</div>"
   ]
  },
  {
   "cell_type": "code",
   "execution_count": 52,
   "metadata": {},
   "outputs": [
    {
     "name": "stdout",
     "output_type": "stream",
     "text": [
      "Searching for lentils and soy ...\n",
      "Found 20 kg of lentils\n",
      "Found 90 kg of soy\n",
      "Total: 110 kg\n"
     ]
    }
   ],
   "source": [
    "\n",
    "legumes = ['lentils', 'soy']    # 110 \n",
    "#legumes = ['beans', 'broad beans', 'chickpeas']   # 170\n",
    "\n",
    "#        0  1  2  3  4  5 \n",
    "store = [50,90,70,10,20,50]\n",
    "\n",
    "registry = {'peas':3,\n",
    "            'soy':1,\n",
    "            'chickpeas':5,\n",
    "            'lentils':4,\n",
    "            'broad beans':2,\n",
    "            'beans':0,\n",
    "}\n",
    "# write here\n",
    "\n"
   ]
  },
  {
   "cell_type": "markdown",
   "metadata": {},
   "source": [
    "### Exercise - sports\n",
    "\n",
    "✪✪ Write some code which given a dictionary `sports` in which people are associated to the favourite sport, create a NEW dictionari `counts` in which associates each sport to the number of people that prefer it\n",
    "\n",
    "Exemple - given:\n",
    "\n",
    "```python\n",
    "sports = {\n",
    "    'Gianni':'soccer',\n",
    "    'Paolo':'tennis',\n",
    "    'Sara':'volleyball',\n",
    "    'Elena':'tennis',\n",
    "    'Roberto':'soccer',\n",
    "    'Carla':'soccer',    \n",
    "}\n",
    "```\n",
    "\n",
    "After your code, it must result:\n",
    "\n",
    "```python\n",
    ">>> print(counts)\n",
    "{'tennis': 2, 'soccer': 3, 'volleyball': 1}\n",
    "```"
   ]
  },
  {
   "cell_type": "raw",
   "id": "7bce4e0f",
   "metadata": {
    "format": "text/html"
   },
   "source": [
    "<a  class=\"jupman-sol jupman-sol-toggler\" \n",
    " onclick=\"jupman.toggleSolution(this);\" \n",
    " data-jupman-show=\"Show solution\" data-jupman-hide=\"Hide\">Show solution</a><div class=\"jupman-sol jupman-sol-code\" style=\"display:none\">  "
   ]
  },
  {
   "cell_type": "code",
   "execution_count": 53,
   "metadata": {},
   "outputs": [
    {
     "name": "stdout",
     "output_type": "stream",
     "text": [
      "{'soccer': 3, 'tennis': 2, 'volleyball': 1}\n"
     ]
    }
   ],
   "source": [
    "sports = {\n",
    "    'Gianni':'soccer',\n",
    "    'Paolo':'tennis',\n",
    "    'Sara':'volleyball',\n",
    "    'Elena':'tennis',\n",
    "    'Roberto':'soccer',\n",
    "    'Carla':'soccer',    \n",
    "}\n",
    "\n",
    "# write here\n",
    "\n",
    "counts = {}\n",
    "\n",
    "for k,v in sports.items():\n",
    "    if v in counts:\n",
    "        counts[v] += 1\n",
    "    else:\n",
    "        counts[v] = 1\n",
    "\n",
    "print(counts)"
   ]
  },
  {
   "cell_type": "raw",
   "id": "b3091d0f",
   "metadata": {
    "format": "text/html"
   },
   "source": [
    "</div>"
   ]
  },
  {
   "cell_type": "code",
   "execution_count": 53,
   "metadata": {},
   "outputs": [
    {
     "name": "stdout",
     "output_type": "stream",
     "text": [
      "{'soccer': 3, 'tennis': 2, 'volleyball': 1}\n"
     ]
    }
   ],
   "source": [
    "sports = {\n",
    "    'Gianni':'soccer',\n",
    "    'Paolo':'tennis',\n",
    "    'Sara':'volleyball',\n",
    "    'Elena':'tennis',\n",
    "    'Roberto':'soccer',\n",
    "    'Carla':'soccer',    \n",
    "}\n",
    "\n",
    "# write here\n",
    "\n"
   ]
  },
  {
   "cell_type": "markdown",
   "metadata": {},
   "source": [
    "\n",
    "### Modifying a dictionary during iteration\n",
    "\n",
    "Suppose you have a dictionary of provinces:\n",
    "\n",
    "\n",
    "```python\n",
    "provinces = {\n",
    "    'tn': 'Trento',\n",
    "    'mi':'Milano',\n",
    "    'na':'Napoli',\n",
    "}\n",
    "```\n",
    "\n",
    "and you want to MODIFY it so that after your code the acronyms are added as capitalized:\n",
    "\n",
    "\n",
    "```python\n",
    ">>> print(provinces)\n",
    "{'tn': 'Trento',\n",
    " 'mi':'Milano',\n",
    " 'na':'Napoli',\n",
    " 'TN': 'Trento',\n",
    " 'MI':'Milano',\n",
    " 'NA':'Napoli',\n",
    "}\n",
    "```\n",
    "\n",
    "You might think to write something like this:\n",
    "\n",
    "\n",
    "```python\n",
    "for key in provinces:\n",
    "    provinces[key.upper()] = provinces[key]    # WARNING !\n",
    "```\n",
    "\n",
    "**QUESTION**: Do you see any problem?"
   ]
  },
  {
   "cell_type": "raw",
   "id": "71af0a67",
   "metadata": {
    "format": "text/html"
   },
   "source": [
    "<a  class=\"jupman-sol jupman-sol-toggler\" \n",
    " onclick=\"jupman.toggleSolution(this);\" \n",
    " data-jupman-show=\"Show answer\" data-jupman-hide=\"Hide\">Show answer</a><div class=\"jupman-sol jupman-sol-question\" style=\"display:none\">  "
   ]
  },
  {
   "cell_type": "markdown",
   "metadata": {},
   "source": [
    "**ANSWER**: if you go through a dictionary and in _the meanwhile_ you keep adding pieces, there is a concrete risk we will never terminate examining the keys !\n",
    "\n",
    "So carefully read what follows:\n"
   ]
  },
  {
   "cell_type": "raw",
   "id": "7d7c03a5",
   "metadata": {
    "format": "text/html"
   },
   "source": [
    "</div>"
   ]
  },
  {
   "cell_type": "markdown",
   "metadata": {},
   "source": [
    "<div class=\"alert alert-info\" >\n",
    "\n",
    "[X COMMANDMENT](https://en.softpython.org/commandments.html#X-COMMANDMENT): \n",
    "**You shall never ever add nor remove elements from a dictionary you are iterating with a** `for` **!**\n",
    "</div>\n",
    "\n",
    "\n",
    "In this case, if we try executing the code, we will get an explicit error:\n",
    "\n",
    "```python\n",
    "---------------------------------------------------------------------------\n",
    "RuntimeError                              Traceback (most recent call last)\n",
    "<ipython-input-26-9b20900057e8> in <module>()\n",
    "----> 1 for key in provinces:\n",
    "      2     provinces[key.upper()] = provinces[key]    # WARNING !\n",
    "\n",
    "RuntimeError: dictionary changed size during iteration\n",
    "```\n",
    "\n",
    "but in other cases (like for example lists) modifying stuff **may produce totally unpredictable behaviours** (do you know the expression _pulling the rug out from under your feet ?_ )"
   ]
  },
  {
   "cell_type": "markdown",
   "metadata": {},
   "source": [
    "**What about removing?** We've seen adding is dangerous, but so is removing.\n",
    "\n",
    "Suppose we want to remove  any couple having as value `'Trento'`"
   ]
  },
  {
   "cell_type": "markdown",
   "metadata": {},
   "source": [
    "\n",
    "```python\n",
    "provinces = {\n",
    "    'tn': 'Trento',\n",
    "    'mi':'Milano',\n",
    "    'na':'Napoli',\n",
    "}\n",
    "```\n",
    "\n",
    "to obtain:\n",
    "\n",
    "```python\n",
    ">>> print(provinces)\n",
    "{'mi':'Milano',\n",
    " 'na':'Napoli'}\n",
    "```"
   ]
  },
  {
   "cell_type": "markdown",
   "metadata": {},
   "source": [
    "If we try executing something like this Python notices and raises an exception:\n",
    "\n",
    "\n",
    "```python\n",
    "provinces = {\n",
    "    'tn': 'Trento',\n",
    "    'mi':'Milano',\n",
    "    'na':'Napoli',\n",
    "}\n",
    "\n",
    "for key in provinces:\n",
    "    if provinces[key] == 'Trento':\n",
    "        del provinces[key]   # VERY BAD IDEA\n",
    "```\n",
    "\n",
    "```python\n",
    "---------------------------------------------------------------------------\n",
    "RuntimeError                              Traceback (most recent call last)\n",
    "<ipython-input-23-5df0fd659120> in <module>()\n",
    "      5     'na':'Napoli'\n",
    "      6 }\n",
    "----> 7 for key in provinces:\n",
    "      8     if provinces[key] == 'Trento':\n",
    "      9         del provinces[key]   # VERY BAD IDEA\n",
    "\n",
    "RuntimeError: dictionary changed size during iteration\n",
    "\n",
    "```"
   ]
  },
  {
   "cell_type": "markdown",
   "metadata": {},
   "source": [
    "**If you really need to remove elements from the sequence in which you are iterating**, use a [while cycle](https://en.softpython.org/control-flow/flow3-while-sol.html) or first copy the original sequence."
   ]
  },
  {
   "cell_type": "markdown",
   "metadata": {},
   "source": [
    "### Exercise - zazb"
   ]
  },
  {
   "cell_type": "markdown",
   "metadata": {},
   "source": [
    "✪✪ Write some code which given a dictionary `chars` with characters as keys, MODIFY the dictionary so to add keys like the existing ones prefixed with character `'z'` - new keys should be associated with the constant integer `10`\n",
    "\n",
    "Example - given:\n",
    "\n",
    "```python\n",
    "chars = {\n",
    "    'a':3,\n",
    "    'b':8,\n",
    "    'c':4\n",
    "}\n",
    "\n",
    "```\n",
    "\n",
    "after your code, `chars` should result MODIFIED like this:\n",
    "\n",
    "```python\n",
    ">>> chars\n",
    "{   'a':3,\n",
    "    'b':8,\n",
    "    'c':4,\n",
    "    'za':10,\n",
    "    'zb':10,\n",
    "    'zc':10\n",
    "}\n",
    "```"
   ]
  },
  {
   "cell_type": "markdown",
   "metadata": {},
   "source": [
    "\n",
    "**QUESTION**: Is it desirable to write a solution like the following one? Read carefully!\n",
    "\n",
    "\n",
    "```python\n",
    "chars = {\n",
    "    'a':3,\n",
    "    'b':8,\n",
    "    'c':4\n",
    "}\n",
    "\n",
    "for key in chars:    \n",
    "    chars['z'+key] = 10    # WARNING !! TROUBLE AHEAD !!\n",
    "```"
   ]
  },
  {
   "cell_type": "raw",
   "id": "699d86f3",
   "metadata": {
    "format": "text/html"
   },
   "source": [
    "<a  class=\"jupman-sol jupman-sol-toggler\" \n",
    " onclick=\"jupman.toggleSolution(this);\" \n",
    " data-jupman-show=\"Show answer\" data-jupman-hide=\"Hide\">Show answer</a><div class=\"jupman-sol jupman-sol-question\" style=\"display:none\">  "
   ]
  },
  {
   "cell_type": "markdown",
   "metadata": {},
   "source": [
    "**ANSWER**: Absolutely not - in this case we're lucky and we will obtain an explicit error, in other cases we might obtain infinite loops or incomprehensible results:\n",
    "\n",
    "```python\n",
    "---------------------------------------------------------------------------\n",
    "RuntimeError                              Traceback (most recent call last)\n",
    "<ipython-input-36-550c4c302120> in <module>()\n",
    "      5 }\n",
    "      6 \n",
    "----> 7 for key in chars:\n",
    "      8     chars['z'+key] = 10\n",
    "\n",
    "RuntimeError: dictionary changed size during iteration\n",
    "```\n",
    "\n",
    "**Do something better:** try now rewriting a version of the program without this bug:"
   ]
  },
  {
   "cell_type": "raw",
   "id": "5832ea2a",
   "metadata": {
    "format": "text/html"
   },
   "source": [
    "</div>"
   ]
  },
  {
   "cell_type": "raw",
   "id": "c252102f",
   "metadata": {
    "format": "text/html"
   },
   "source": [
    "<a  class=\"jupman-sol jupman-sol-toggler\" \n",
    " onclick=\"jupman.toggleSolution(this);\" \n",
    " data-jupman-show=\"Show solution\" data-jupman-hide=\"Hide\">Show solution</a><div class=\"jupman-sol jupman-sol-code\" style=\"display:none\">  "
   ]
  },
  {
   "cell_type": "code",
   "execution_count": 54,
   "metadata": {},
   "outputs": [],
   "source": [
    "\n",
    "chars = {\n",
    "    'a':3,\n",
    "    'b':8,\n",
    "    'c':4\n",
    "}\n",
    "\n",
    "# write here\n",
    "\n",
    "for el in list(chars.keys()):  # list 'takes a picture' of the current keys state\n",
    "    chars['z'+el] = 10\n",
    "\n",
    "#chars"
   ]
  },
  {
   "cell_type": "raw",
   "id": "5a35e453",
   "metadata": {
    "format": "text/html"
   },
   "source": [
    "</div>"
   ]
  },
  {
   "cell_type": "code",
   "execution_count": 54,
   "metadata": {},
   "outputs": [],
   "source": [
    "\n",
    "chars = {\n",
    "    'a':3,\n",
    "    'b':8,\n",
    "    'c':4\n",
    "}\n",
    "\n",
    "# write here\n",
    "\n"
   ]
  },
  {
   "cell_type": "markdown",
   "metadata": {},
   "source": [
    "## Nested `for` \n",
    "\n",
    "Pay attention when using names of variables in nested `for` loops:"
   ]
  },
  {
   "cell_type": "markdown",
   "metadata": {},
   "source": [
    "<div class=\"alert alert-info\">\n",
    "\n",
    "[II COMMANDMENT](https://en.softpython.org/commandments.html#II-COMMANDMENT) **Whenever you insert a variable in a** `for` **cycle, such variable must be new**\n",
    "\n",
    "</div>"
   ]
  },
  {
   "cell_type": "markdown",
   "metadata": {},
   "source": [
    "If you defined a variable in an external `for`, you shall not reintroduce it in an internal `for`, because this would bring a lot of confusion. For example here `s` is introduced both in the external and in the internal loop:"
   ]
  },
  {
   "cell_type": "code",
   "execution_count": 55,
   "metadata": {},
   "outputs": [
    {
     "name": "stdout",
     "output_type": "stream",
     "text": [
      "0\n",
      "1\n",
      "2\n",
      "2\n",
      "0\n",
      "1\n",
      "2\n",
      "2\n",
      "0\n",
      "1\n",
      "2\n",
      "2\n",
      "0\n",
      "1\n",
      "2\n",
      "2\n"
     ]
    }
   ],
   "source": [
    "for s in ['volleyball', 'tennis', 'soccer', 'swimming']:\n",
    "    \n",
    "    for s in range(3):  # debugging hell, you lose the external cycle s\n",
    "        print(s)\n",
    "        \n",
    "    print(s)  # prints 2 instead of a sport!"
   ]
  },
  {
   "cell_type": "markdown",
   "metadata": {},
   "source": [
    "### Questions - nested for\n",
    "\n",
    "Look at the following code fragments , and for each try guessing the result it produces (or if it gives an error):\n"
   ]
  },
  {
   "cell_type": "markdown",
   "metadata": {},
   "source": [
    "1.  ```python\n",
    "    for y in for x in range(3):\n",
    "        print(x,y)\n",
    "    ```\n",
    "1.  ```python\n",
    "    for y in for x in range(2) in range(3):\n",
    "        print(x,y)\n",
    "    ```\n",
    "1.  ```python\n",
    "    for y in range(3):\n",
    "        for x in range(2):\n",
    "            print(x,y)\n",
    "    ```\n",
    "1.  ```python\n",
    "    for x in range(2):         \n",
    "        for x in range(3):\n",
    "            print(x)\n",
    "        print(x)\n",
    "    ```\n",
    "1.  ```python\n",
    "    for x in range(2):        \n",
    "        for y in range(3):\n",
    "            print(x,y)\n",
    "        print(x,y)    \n",
    "    ```    \n",
    "1.  ```python\n",
    "    for x in range(1):\n",
    "        for y in range(1):\n",
    "            print(x,y)\n",
    "    ```            \n",
    "1.  ```python\n",
    "    for x in range(2):\n",
    "        for y in range(3):\n",
    "            print(x,y)\n",
    "    ```\n",
    "1.  ```python\n",
    "    la = 'abc'\n",
    "    for x in la:\n",
    "        for y in la:\n",
    "            print(x)\n",
    "    ```            \n",
    "1.  ```python\n",
    "    for x in 'ab':\n",
    "        for y in 'cd':\n",
    "            print(x,y)    \n",
    "        for y in 'ef':\n",
    "            print(x,y)\n",
    "    ```\n",
    "1.  ```python\n",
    "    for x in 'abc':\n",
    "        for y in 'abc':\n",
    "            if x == y:\n",
    "                print(x)\n",
    "    ```\n",
    "1.  ```python\n",
    "    for x in 'abc':\n",
    "        for y in 'abc':\n",
    "            if x != y:\n",
    "                print(x,y)\n",
    "    ```\n",
    "1.  ```python\n",
    "    lista = []\n",
    "    for x in 'a':\n",
    "        for y in 'bc':\n",
    "            lista.append(x)\n",
    "            lista.append(y)\n",
    "    print(lista)\n",
    "    ```    \n",
    "1.  ```python\n",
    "    lista = []\n",
    "    for x in 'abc':\n",
    "        for y in 'de':\n",
    "            lista.append('z')\n",
    "    print(len(lista))\n",
    "    ```    \n",
    "1.  ```python\n",
    "    c = 1\n",
    "    for x in range(1,4):\n",
    "        s = ''\n",
    "        for y in range(1,4):\n",
    "            s = s + str(c)\n",
    "            c += 1\n",
    "        print(s)\n",
    "    ```"
   ]
  },
  {
   "cell_type": "markdown",
   "metadata": {},
   "source": [
    "### Exercise - casting\n",
    "\n",
    "✪ A new USA-Japanese videocultural production is going to be launched, so actors are called for casting. The director wants to try a scene with all the possible couples which can be formed among actors and actresses. Write some code which prints all the couples, also putting introduction messages.\n",
    "\n",
    "* **NOTE**: the number of actors and actresses may be different\n",
    "\n",
    "Exemple - given:\n",
    "\n",
    "```python\n",
    "actresses = ['Leela','Wilma']\n",
    "actors = ['Capitan Harlock', 'Lupin', 'Kenshiro']\n",
    "```\n",
    "\n",
    "prints:\n",
    "\n",
    "```\n",
    "Leela enters the scene!\n",
    "   Capitan Harlock enters the scene!\n",
    "      Leela and Capitan Harlock get ready ... ACTION!\n",
    "    Thanks Capitan Harlock - next one !\n",
    "   Lupin enters the scene!\n",
    "      Leela and Lupin get ready ... ACTION!\n",
    "    Thanks Lupin - next one !\n",
    "   Kenshiro enters the scene!\n",
    "      Leela and Kenshiro get ready ... ACTION!\n",
    "    Thanks Kenshiro - next one !\n",
    "Thanks Leela - next one !\n",
    "Wilma enters the scene!\n",
    "   Capitan Harlock enters the scene!\n",
    "      Wilma and Capitan Harlock get ready ... ACTION!\n",
    "    Thanks Capitan Harlock - next one !\n",
    "   Lupin enters the scene!\n",
    "      Wilma and Lupin get ready ... ACTION!\n",
    "    Thanks Lupin - next one !\n",
    "   Kenshiro enters the scene!\n",
    "      Wilma and Kenshiro get ready ... ACTION!\n",
    "    Thanks Kenshiro - next one !\n",
    "Thanks Wilma - next one !\n",
    "\n",
    "Casting is over for today!\n",
    "```"
   ]
  },
  {
   "cell_type": "raw",
   "id": "9cb99085",
   "metadata": {
    "format": "text/html"
   },
   "source": [
    "<a  class=\"jupman-sol jupman-sol-toggler\" \n",
    " onclick=\"jupman.toggleSolution(this);\" \n",
    " data-jupman-show=\"Show solution\" data-jupman-hide=\"Hide\">Show solution</a><div class=\"jupman-sol jupman-sol-code\" style=\"display:none\">  "
   ]
  },
  {
   "cell_type": "code",
   "execution_count": 56,
   "metadata": {},
   "outputs": [
    {
     "name": "stdout",
     "output_type": "stream",
     "text": [
      "Leela enters the scene!\n",
      "   Capitan Harlock enters the scene!\n",
      "      Leela and Capitan Harlock get ready ... ACTION!\n",
      "    Thanks Capitan Harlock - next one !\n",
      "   Lupin enters the scene!\n",
      "      Leela and Lupin get ready ... ACTION!\n",
      "    Thanks Lupin - next one !\n",
      "   Kenshiro enters the scene!\n",
      "      Leela and Kenshiro get ready ... ACTION!\n",
      "    Thanks Kenshiro - next one !\n",
      "Thanks Leela - next one !\n",
      "Wilma enters the scene!\n",
      "   Capitan Harlock enters the scene!\n",
      "      Wilma and Capitan Harlock get ready ... ACTION!\n",
      "    Thanks Capitan Harlock - next one !\n",
      "   Lupin enters the scene!\n",
      "      Wilma and Lupin get ready ... ACTION!\n",
      "    Thanks Lupin - next one !\n",
      "   Kenshiro enters the scene!\n",
      "      Wilma and Kenshiro get ready ... ACTION!\n",
      "    Thanks Kenshiro - next one !\n",
      "Thanks Wilma - next one !\n",
      "\n",
      "Casting is over for today!\n"
     ]
    }
   ],
   "source": [
    "actresses = ['Leela','Wilma']\n",
    "actors = ['Capitan Harlock', 'Lupin', 'Kenshiro']\n",
    "\n",
    "\n",
    "# write here\n",
    "for actress in actresses:\n",
    "    print(actress, 'enters the scene!')\n",
    "    for actor in actors:\n",
    "        print('  ',actor, 'enters the scene!')\n",
    "        \n",
    "        print('     ',actress, 'and', actor, 'get ready ... ACTION!')\n",
    "        print('    Thanks', actor, '- next one !')\n",
    "    print('Thanks', actress, '- next one !')\n",
    "print()\n",
    "print('Casting is over for today!')"
   ]
  },
  {
   "cell_type": "raw",
   "id": "dceb1407",
   "metadata": {
    "format": "text/html"
   },
   "source": [
    "</div>"
   ]
  },
  {
   "cell_type": "code",
   "execution_count": 56,
   "metadata": {},
   "outputs": [
    {
     "name": "stdout",
     "output_type": "stream",
     "text": [
      "Leela enters the scene!\n",
      "   Capitan Harlock enters the scene!\n",
      "      Leela and Capitan Harlock get ready ... ACTION!\n",
      "    Thanks Capitan Harlock - next one !\n",
      "   Lupin enters the scene!\n",
      "      Leela and Lupin get ready ... ACTION!\n",
      "    Thanks Lupin - next one !\n",
      "   Kenshiro enters the scene!\n",
      "      Leela and Kenshiro get ready ... ACTION!\n",
      "    Thanks Kenshiro - next one !\n",
      "Thanks Leela - next one !\n",
      "Wilma enters the scene!\n",
      "   Capitan Harlock enters the scene!\n",
      "      Wilma and Capitan Harlock get ready ... ACTION!\n",
      "    Thanks Capitan Harlock - next one !\n",
      "   Lupin enters the scene!\n",
      "      Wilma and Lupin get ready ... ACTION!\n",
      "    Thanks Lupin - next one !\n",
      "   Kenshiro enters the scene!\n",
      "      Wilma and Kenshiro get ready ... ACTION!\n",
      "    Thanks Kenshiro - next one !\n",
      "Thanks Wilma - next one !\n",
      "\n",
      "Casting is over for today!\n"
     ]
    }
   ],
   "source": [
    "actresses = ['Leela','Wilma']\n",
    "actors = ['Capitan Harlock', 'Lupin', 'Kenshiro']\n",
    "\n",
    "\n",
    "# write here\n",
    "\n"
   ]
  },
  {
   "cell_type": "markdown",
   "metadata": {},
   "source": [
    "### Exercise - cover the plane\n",
    "\n",
    "✪ Given the integers `a` and `b`, write some code which prints all the possible couples of numbers $x$ and $y$ such that  $1 \\leq x \\leq a$ and $1 \\leq y \\leq b$\n",
    "\n",
    "For example, given:\n",
    "\n",
    "```python\n",
    "a,b = 5,3\n",
    "```\n",
    "\n",
    "it must print:\n",
    "\n",
    "```\n",
    "1 1\n",
    "1 2\n",
    "1 3\n",
    "2 1\n",
    "2 2\n",
    "2 3\n",
    "3 1\n",
    "3 2\n",
    "3 3\n",
    "4 1\n",
    "4 2\n",
    "4 3\n",
    "5 1\n",
    "5 2\n",
    "5 3\n",
    "```"
   ]
  },
  {
   "cell_type": "raw",
   "id": "e942a657",
   "metadata": {
    "format": "text/html"
   },
   "source": [
    "<a  class=\"jupman-sol jupman-sol-toggler\" \n",
    " onclick=\"jupman.toggleSolution(this);\" \n",
    " data-jupman-show=\"Show solution\" data-jupman-hide=\"Hide\">Show solution</a><div class=\"jupman-sol jupman-sol-code\" style=\"display:none\">  "
   ]
  },
  {
   "cell_type": "code",
   "execution_count": 57,
   "metadata": {},
   "outputs": [
    {
     "name": "stdout",
     "output_type": "stream",
     "text": [
      "1 1\n",
      "1 2\n",
      "1 3\n",
      "2 1\n",
      "2 2\n",
      "2 3\n",
      "3 1\n",
      "3 2\n",
      "3 3\n",
      "4 1\n",
      "4 2\n",
      "4 3\n",
      "5 1\n",
      "5 2\n",
      "5 3\n"
     ]
    }
   ],
   "source": [
    "a,b = 5,3\n",
    "\n",
    "# write here\n",
    "for x in range(1,a+1):\n",
    "    for y in range(1,b+1):        \n",
    "        print(x,y)"
   ]
  },
  {
   "cell_type": "raw",
   "id": "a3f55e2b",
   "metadata": {
    "format": "text/html"
   },
   "source": [
    "</div>"
   ]
  },
  {
   "cell_type": "code",
   "execution_count": 57,
   "metadata": {},
   "outputs": [
    {
     "name": "stdout",
     "output_type": "stream",
     "text": [
      "1 1\n",
      "1 2\n",
      "1 3\n",
      "2 1\n",
      "2 2\n",
      "2 3\n",
      "3 1\n",
      "3 2\n",
      "3 3\n",
      "4 1\n",
      "4 2\n",
      "4 3\n",
      "5 1\n",
      "5 2\n",
      "5 3\n"
     ]
    }
   ],
   "source": [
    "a,b = 5,3\n",
    "\n",
    "# write here\n",
    "\n"
   ]
  },
  {
   "cell_type": "markdown",
   "metadata": {},
   "source": [
    "### Exercise - triangular\n",
    "\n",
    "✪ Given the integer `a`, write some code which prints all the possible couples of numbers $x$ and $y$ such that $0 \\leq x \\leq y < a$\n",
    "\n",
    "For example, for\n",
    "\n",
    "```python\n",
    "a = 5\n",
    "```\n",
    "\n",
    "it must print:\n",
    "\n",
    "```\n",
    "0 0\n",
    "0 1\n",
    "0 2\n",
    "0 3\n",
    "0 4\n",
    "1 1\n",
    "1 2\n",
    "1 3\n",
    "1 4\n",
    "2 2\n",
    "2 3\n",
    "2 4\n",
    "3 3\n",
    "3 4\n",
    "4 4\n",
    "```"
   ]
  },
  {
   "cell_type": "raw",
   "id": "cee7b5cd",
   "metadata": {
    "format": "text/html"
   },
   "source": [
    "<a  class=\"jupman-sol jupman-sol-toggler\" \n",
    " onclick=\"jupman.toggleSolution(this);\" \n",
    " data-jupman-show=\"Show solution\" data-jupman-hide=\"Hide\">Show solution</a><div class=\"jupman-sol jupman-sol-code\" style=\"display:none\">  "
   ]
  },
  {
   "cell_type": "code",
   "execution_count": 58,
   "metadata": {
    "scrolled": true
   },
   "outputs": [
    {
     "name": "stdout",
     "output_type": "stream",
     "text": [
      "0 0\n",
      "0 1\n",
      "0 2\n",
      "0 3\n",
      "0 4\n",
      "1 1\n",
      "1 2\n",
      "1 3\n",
      "1 4\n",
      "2 2\n",
      "2 3\n",
      "2 4\n",
      "3 3\n",
      "3 4\n",
      "4 4\n"
     ]
    }
   ],
   "source": [
    "a = 5\n",
    "# write here\n",
    "for x in range(a):    \n",
    "    for y in range(x,a):\n",
    "        print(x,y)\n",
    "    "
   ]
  },
  {
   "cell_type": "raw",
   "id": "49b61881",
   "metadata": {
    "format": "text/html"
   },
   "source": [
    "</div>"
   ]
  },
  {
   "cell_type": "code",
   "execution_count": 58,
   "metadata": {
    "scrolled": true
   },
   "outputs": [
    {
     "name": "stdout",
     "output_type": "stream",
     "text": [
      "0 0\n",
      "0 1\n",
      "0 2\n",
      "0 3\n",
      "0 4\n",
      "1 1\n",
      "1 2\n",
      "1 3\n",
      "1 4\n",
      "2 2\n",
      "2 3\n",
      "2 4\n",
      "3 3\n",
      "3 4\n",
      "4 4\n"
     ]
    }
   ],
   "source": [
    "a = 5\n",
    "# write here\n",
    "\n"
   ]
  },
  {
   "cell_type": "markdown",
   "metadata": {},
   "source": [
    "### Exercise - port\n",
    "\n",
    "✪ Write some code which given a list `words` and a list `characters`, for each word calculates how many characters it contains\n",
    "\n",
    "* **ONLY** count the characters present in `characters`\n",
    "* **ONLY** print the result if the number is greater than zero\n",
    "\n",
    "\n",
    "Example - given:\n",
    "\n",
    "```python\n",
    "words = ['ships','pier','oar','fish trap','sails','trawling net']\n",
    "characters = ['n','i','s']\n",
    "```\n",
    "\n",
    "prints:\n",
    "\n",
    "```\n",
    "ships contains 1 i\n",
    "ships contains 2 s\n",
    "pier contains 1 i\n",
    "fish trap contains 1 i\n",
    "fish trap contains 1 s\n",
    "sails contains 1 i\n",
    "sails contains 2 s\n",
    "trawling net contains 2 n\n",
    "trawling net contains 1 i\n",
    "\n",
    "```"
   ]
  },
  {
   "cell_type": "raw",
   "id": "b1d5a240",
   "metadata": {
    "format": "text/html"
   },
   "source": [
    "<a  class=\"jupman-sol jupman-sol-toggler\" \n",
    " onclick=\"jupman.toggleSolution(this);\" \n",
    " data-jupman-show=\"Show solution\" data-jupman-hide=\"Hide\">Show solution</a><div class=\"jupman-sol jupman-sol-code\" style=\"display:none\">  "
   ]
  },
  {
   "cell_type": "code",
   "execution_count": 59,
   "metadata": {},
   "outputs": [
    {
     "name": "stdout",
     "output_type": "stream",
     "text": [
      "ships contains 1 i\n",
      "ships contains 2 s\n",
      "pier contains 1 i\n",
      "fish trap contains 1 i\n",
      "fish trap contains 1 s\n",
      "sails contains 1 i\n",
      "sails contains 2 s\n",
      "trawling net contains 2 n\n",
      "trawling net contains 1 i\n"
     ]
    }
   ],
   "source": [
    "words = ['ships','pier','oar','fish trap','sails','trawling net']\n",
    "characters = ['n','i','s']\n",
    "\n",
    "\n",
    "# write here\n",
    "\n",
    "for x in words:\n",
    "    for y in characters:\n",
    "        if y in x:\n",
    "            print(x,'contains',x.count(y),y)"
   ]
  },
  {
   "cell_type": "raw",
   "id": "a22485b4",
   "metadata": {
    "format": "text/html"
   },
   "source": [
    "</div>"
   ]
  },
  {
   "cell_type": "code",
   "execution_count": 59,
   "metadata": {},
   "outputs": [
    {
     "name": "stdout",
     "output_type": "stream",
     "text": [
      "ships contains 1 i\n",
      "ships contains 2 s\n",
      "pier contains 1 i\n",
      "fish trap contains 1 i\n",
      "fish trap contains 1 s\n",
      "sails contains 1 i\n",
      "sails contains 2 s\n",
      "trawling net contains 2 n\n",
      "trawling net contains 1 i\n"
     ]
    }
   ],
   "source": [
    "words = ['ships','pier','oar','fish trap','sails','trawling net']\n",
    "characters = ['n','i','s']\n",
    "\n",
    "\n",
    "# write here\n",
    "\n"
   ]
  },
  {
   "cell_type": "markdown",
   "metadata": {},
   "source": [
    "### Exercise - polygons\n",
    "\n",
    "✪✪ Given a list `polygons`  with polygon names ordered by sides number starting from a triangle, write some code which prints all the possible questions we can form regarding the number of sides. Start from a minimum of 3 sides until a maximum corresponding to the number of sides of the last polygon (remember names are ordered by number of sides!)\n",
    "\n",
    "Example - given:\n",
    "\n",
    "```python\n",
    "#               0          1        2           3\n",
    "polygons = [\"triangle\",\"square\",\"pentagon\", \"hexagon\"]\n",
    "```\n",
    "\n",
    "prints:\n",
    "\n",
    "```\n",
    "Does the triangle have 3 sides? True\n",
    "Does the triangle have 4 sides? False\n",
    "Does the triangle have 5 sides? False\n",
    "Does the triangle have 6 sides? False\n",
    "Does the square have 3 sides? False\n",
    "Does the square have 4 sides? True\n",
    "Does the square have 5 sides? False\n",
    "Does the square have 6 sides? False\n",
    "Does the pentagon have 3 sides? False\n",
    "Does the pentagon have 4 sides? False\n",
    "Does the pentagon have 5 sides? True\n",
    "Does the pentagon have 6 sides? False\n",
    "Does the hexagon have 3 sides? False\n",
    "Does the hexagon have 4 sides? False\n",
    "Does the hexagon have 5 sides? False\n",
    "Does the hexagon have 6 sides? True\n",
    "\n",
    "```\n",
    "\n"
   ]
  },
  {
   "cell_type": "raw",
   "id": "31d79837",
   "metadata": {
    "format": "text/html"
   },
   "source": [
    "<a  class=\"jupman-sol jupman-sol-toggler\" \n",
    " onclick=\"jupman.toggleSolution(this);\" \n",
    " data-jupman-show=\"Show solution\" data-jupman-hide=\"Hide\">Show solution</a><div class=\"jupman-sol jupman-sol-code\" style=\"display:none\">  "
   ]
  },
  {
   "cell_type": "code",
   "execution_count": 60,
   "metadata": {},
   "outputs": [
    {
     "name": "stdout",
     "output_type": "stream",
     "text": [
      "Does the triangle have 3 sides? True\n",
      "Does the triangle have 4 sides? False\n",
      "Does the triangle have 5 sides? False\n",
      "Does the triangle have 6 sides? False\n",
      "Does the square have 3 sides? False\n",
      "Does the square have 4 sides? True\n",
      "Does the square have 5 sides? False\n",
      "Does the square have 6 sides? False\n",
      "Does the pentagon have 3 sides? False\n",
      "Does the pentagon have 4 sides? False\n",
      "Does the pentagon have 5 sides? True\n",
      "Does the pentagon have 6 sides? False\n",
      "Does the hexagon have 3 sides? False\n",
      "Does the hexagon have 4 sides? False\n",
      "Does the hexagon have 5 sides? False\n",
      "Does the hexagon have 6 sides? True\n"
     ]
    }
   ],
   "source": [
    "#                 0              1              2             3\n",
    "polygons = [\"triangle\",\"square\",\"pentagon\", \"hexagon\"]\n",
    "\n",
    "# write here\n",
    "for i in range(len(polygons)):\n",
    "    for j in range(len(polygons)):\n",
    "        print('Does the', polygons[i],'have', j+3, 'sides?', i+3 == j+3 )"
   ]
  },
  {
   "cell_type": "raw",
   "id": "f6173c52",
   "metadata": {
    "format": "text/html"
   },
   "source": [
    "</div>"
   ]
  },
  {
   "cell_type": "code",
   "execution_count": 60,
   "metadata": {},
   "outputs": [
    {
     "name": "stdout",
     "output_type": "stream",
     "text": [
      "Does the triangle have 3 sides? True\n",
      "Does the triangle have 4 sides? False\n",
      "Does the triangle have 5 sides? False\n",
      "Does the triangle have 6 sides? False\n",
      "Does the square have 3 sides? False\n",
      "Does the square have 4 sides? True\n",
      "Does the square have 5 sides? False\n",
      "Does the square have 6 sides? False\n",
      "Does the pentagon have 3 sides? False\n",
      "Does the pentagon have 4 sides? False\n",
      "Does the pentagon have 5 sides? True\n",
      "Does the pentagon have 6 sides? False\n",
      "Does the hexagon have 3 sides? False\n",
      "Does the hexagon have 4 sides? False\n",
      "Does the hexagon have 5 sides? False\n",
      "Does the hexagon have 6 sides? True\n"
     ]
    }
   ],
   "source": [
    "#                 0              1              2             3\n",
    "polygons = [\"triangle\",\"square\",\"pentagon\", \"hexagon\"]\n",
    "\n",
    "# write here\n",
    "\n"
   ]
  },
  {
   "cell_type": "markdown",
   "metadata": {},
   "source": [
    "### Exercise - bon jour\n",
    "\n",
    "✪✪✪ Given two strings `sa` and `sb` in lowercase, write some code which prints single letters from  `sa` as upper case, followed by all possible combinations of `sb` where ONLY ONE character is uppercase.\n",
    "\n",
    "Example - given:\n",
    "\n",
    "```python\n",
    "sa = 'bon'\n",
    "sb = 'jour'\n",
    "```\n",
    "\n",
    "Must print:\n",
    "\n",
    "```\n",
    "B Jour\n",
    "B jOur\n",
    "B joUr\n",
    "B jouR\n",
    "O Jour\n",
    "O jOur\n",
    "O joUr\n",
    "O jouR\n",
    "N Jour\n",
    "N jOur\n",
    "N joUr\n",
    "N jouR\n",
    "```\n"
   ]
  },
  {
   "cell_type": "raw",
   "id": "f7da75fb",
   "metadata": {
    "format": "text/html"
   },
   "source": [
    "<a  class=\"jupman-sol jupman-sol-toggler\" \n",
    " onclick=\"jupman.toggleSolution(this);\" \n",
    " data-jupman-show=\"Show solution\" data-jupman-hide=\"Hide\">Show solution</a><div class=\"jupman-sol jupman-sol-code\" style=\"display:none\">  "
   ]
  },
  {
   "cell_type": "code",
   "execution_count": 61,
   "metadata": {},
   "outputs": [
    {
     "name": "stdout",
     "output_type": "stream",
     "text": [
      "B Jour\n",
      "B jOur\n",
      "B joUr\n",
      "B jouR\n",
      "O Jour\n",
      "O jOur\n",
      "O joUr\n",
      "O jouR\n",
      "N Jour\n",
      "N jOur\n",
      "N joUr\n",
      "N jouR\n"
     ]
    }
   ],
   "source": [
    "sa = 'bon'\n",
    "sb = 'jour'\n",
    "\n",
    "# write here\n",
    "\n",
    "for c1 in sa:\n",
    "    for i in range(len(sb)):\n",
    "        print(c1.upper() + ' ' + sb[:i] + sb[i].upper() + sb[i+1:])"
   ]
  },
  {
   "cell_type": "raw",
   "id": "bc4591c3",
   "metadata": {
    "format": "text/html"
   },
   "source": [
    "</div>"
   ]
  },
  {
   "cell_type": "code",
   "execution_count": 61,
   "metadata": {},
   "outputs": [
    {
     "name": "stdout",
     "output_type": "stream",
     "text": [
      "B Jour\n",
      "B jOur\n",
      "B joUr\n",
      "B jouR\n",
      "O Jour\n",
      "O jOur\n",
      "O joUr\n",
      "O jouR\n",
      "N Jour\n",
      "N jOur\n",
      "N joUr\n",
      "N jouR\n"
     ]
    }
   ],
   "source": [
    "sa = 'bon'\n",
    "sb = 'jour'\n",
    "\n",
    "# write here\n",
    "\n"
   ]
  },
  {
   "cell_type": "markdown",
   "metadata": {},
   "source": [
    "## `break` and `continue` commands\n",
    "\n",
    "We can use the commands `break` and `continue` to have even more control on loop execution.\n",
    "\n",
    "<div class=\"alert alert-info\">\n",
    "\n",
    "**NOTE: Please use sparingly!**\n",
    "\n",
    "When there is a lot of code in the cycle it's easy to 'forget' about their presence and introduce hard-to-discover bugs. On the other hand, in some selected cases these commands _may_ increase code readability, so as everything use your judgement.\n",
    "    \n",
    "</div>\n",
    "\n",
    "### Terminate with `break`\n",
    "\n",
    "To immediately exit a cycle you can use the `break` command:"
   ]
  },
  {
   "cell_type": "code",
   "execution_count": 62,
   "metadata": {},
   "outputs": [
    {
     "name": "stdout",
     "output_type": "stream",
     "text": [
      "P\n",
      "A\n",
      "R\n",
      "A\n",
      "break, exits the loop!\n",
      "Loop is over !\n"
     ]
    }
   ],
   "source": [
    "for x in 'PARADE':\n",
    "            \n",
    "    if x == 'D':\n",
    "        print('break, exits the loop!')\n",
    "        break\n",
    "        print('After the break')\n",
    "        \n",
    "    print(x)\n",
    "    \n",
    "print('Loop is over !')"
   ]
  },
  {
   "cell_type": "markdown",
   "metadata": {},
   "source": [
    "Note how the instruction which prints `'After the break'` was  _not_ executed"
   ]
  },
  {
   "cell_type": "markdown",
   "metadata": {},
   "source": [
    "### Jumping with `continue`\n",
    "\n",
    "By calling `continue` execution is immediately brough to the next iteration , so we jump to the next element in the sequence without executing the instructions after the `continue`."
   ]
  },
  {
   "cell_type": "code",
   "execution_count": 63,
   "metadata": {
    "scrolled": false
   },
   "outputs": [
    {
     "name": "stdout",
     "output_type": "stream",
     "text": [
      "P\n",
      "continue, jumps to next element\n",
      "R\n",
      "continue, jumps to next element\n",
      "D\n",
      "E\n",
      "Loop is over !\n"
     ]
    }
   ],
   "source": [
    "i = 1\n",
    "for x in 'PARADE':        \n",
    "    if x == 'A':\n",
    "        print(\"continue, jumps to next element\")\n",
    "        continue            \n",
    "    print(x)\n",
    "print('Loop is over !')"
   ]
  },
  {
   "cell_type": "markdown",
   "metadata": {},
   "source": [
    "### Combining `break` and `continue`\n",
    "\n",
    "Let's see both in Python Tutor:"
   ]
  },
  {
   "cell_type": "code",
   "execution_count": 64,
   "metadata": {},
   "outputs": [
    {
     "name": "stdout",
     "output_type": "stream",
     "text": [
      "P\n",
      "continue, jumps to next element\n",
      "R\n",
      "continue, jumps to next element\n",
      "break, exits loop!\n",
      "Loop is over !\n"
     ]
    },
    {
     "data": {
      "text/html": [
       "\n",
       "        <script src=\"../_static/js/pytutor-embed.bundle.min.js\" type=\"application/javascript\"></script>\n",
       "     \n",
       "        <script id=\"json-jm6449f16e-0e8d-4f97-91ca-86b3e9644882\" type=\"application/json\" >\n",
       "            {\"code\": \" \\ni = 1\\nfor x in 'PARADE':    \\n    if x == 'A':\\n        print(\\\"continue, jumps to next element\\\")\\n        continue    \\n    if x == 'D':\\n        print('break, exits loop!')\\n        break\\n    print(x)    \\n    \\nprint('Loop is over !')\", \"trace\": [{\"line\": 2, \"event\": \"step_line\", \"func_name\": \"<module>\", \"globals\": {}, \"ordered_globals\": [], \"stack_to_render\": [], \"heap\": {}, \"stdout\": \"\"}, {\"line\": 3, \"event\": \"step_line\", \"func_name\": \"<module>\", \"globals\": {\"i\": 1}, \"ordered_globals\": [\"i\"], \"stack_to_render\": [], \"heap\": {}, \"stdout\": \"\"}, {\"line\": 4, \"event\": \"step_line\", \"func_name\": \"<module>\", \"globals\": {\"i\": 1, \"x\": \"P\"}, \"ordered_globals\": [\"i\", \"x\"], \"stack_to_render\": [], \"heap\": {}, \"stdout\": \"\"}, {\"line\": 7, \"event\": \"step_line\", \"func_name\": \"<module>\", \"globals\": {\"i\": 1, \"x\": \"P\"}, \"ordered_globals\": [\"i\", \"x\"], \"stack_to_render\": [], \"heap\": {}, \"stdout\": \"\"}, {\"line\": 10, \"event\": \"step_line\", \"func_name\": \"<module>\", \"globals\": {\"i\": 1, \"x\": \"P\"}, \"ordered_globals\": [\"i\", \"x\"], \"stack_to_render\": [], \"heap\": {}, \"stdout\": \"\"}, {\"line\": 3, \"event\": \"step_line\", \"func_name\": \"<module>\", \"globals\": {\"i\": 1, \"x\": \"P\"}, \"ordered_globals\": [\"i\", \"x\"], \"stack_to_render\": [], \"heap\": {}, \"stdout\": \"P\\n\"}, {\"line\": 4, \"event\": \"step_line\", \"func_name\": \"<module>\", \"globals\": {\"i\": 1, \"x\": \"A\"}, \"ordered_globals\": [\"i\", \"x\"], \"stack_to_render\": [], \"heap\": {}, \"stdout\": \"P\\n\"}, {\"line\": 5, \"event\": \"step_line\", \"func_name\": \"<module>\", \"globals\": {\"i\": 1, \"x\": \"A\"}, \"ordered_globals\": [\"i\", \"x\"], \"stack_to_render\": [], \"heap\": {}, \"stdout\": \"P\\n\"}, {\"line\": 6, \"event\": \"step_line\", \"func_name\": \"<module>\", \"globals\": {\"i\": 1, \"x\": \"A\"}, \"ordered_globals\": [\"i\", \"x\"], \"stack_to_render\": [], \"heap\": {}, \"stdout\": \"P\\ncontinue, jumps to next element\\n\"}, {\"line\": 3, \"event\": \"step_line\", \"func_name\": \"<module>\", \"globals\": {\"i\": 1, \"x\": \"A\"}, \"ordered_globals\": [\"i\", \"x\"], \"stack_to_render\": [], \"heap\": {}, \"stdout\": \"P\\ncontinue, jumps to next element\\n\"}, {\"line\": 4, \"event\": \"step_line\", \"func_name\": \"<module>\", \"globals\": {\"i\": 1, \"x\": \"R\"}, \"ordered_globals\": [\"i\", \"x\"], \"stack_to_render\": [], \"heap\": {}, \"stdout\": \"P\\ncontinue, jumps to next element\\n\"}, {\"line\": 7, \"event\": \"step_line\", \"func_name\": \"<module>\", \"globals\": {\"i\": 1, \"x\": \"R\"}, \"ordered_globals\": [\"i\", \"x\"], \"stack_to_render\": [], \"heap\": {}, \"stdout\": \"P\\ncontinue, jumps to next element\\n\"}, {\"line\": 10, \"event\": \"step_line\", \"func_name\": \"<module>\", \"globals\": {\"i\": 1, \"x\": \"R\"}, \"ordered_globals\": [\"i\", \"x\"], \"stack_to_render\": [], \"heap\": {}, \"stdout\": \"P\\ncontinue, jumps to next element\\n\"}, {\"line\": 3, \"event\": \"step_line\", \"func_name\": \"<module>\", \"globals\": {\"i\": 1, \"x\": \"R\"}, \"ordered_globals\": [\"i\", \"x\"], \"stack_to_render\": [], \"heap\": {}, \"stdout\": \"P\\ncontinue, jumps to next element\\nR\\n\"}, {\"line\": 4, \"event\": \"step_line\", \"func_name\": \"<module>\", \"globals\": {\"i\": 1, \"x\": \"A\"}, \"ordered_globals\": [\"i\", \"x\"], \"stack_to_render\": [], \"heap\": {}, \"stdout\": \"P\\ncontinue, jumps to next element\\nR\\n\"}, {\"line\": 5, \"event\": \"step_line\", \"func_name\": \"<module>\", \"globals\": {\"i\": 1, \"x\": \"A\"}, \"ordered_globals\": [\"i\", \"x\"], \"stack_to_render\": [], \"heap\": {}, \"stdout\": \"P\\ncontinue, jumps to next element\\nR\\n\"}, {\"line\": 6, \"event\": \"step_line\", \"func_name\": \"<module>\", \"globals\": {\"i\": 1, \"x\": \"A\"}, \"ordered_globals\": [\"i\", \"x\"], \"stack_to_render\": [], \"heap\": {}, \"stdout\": \"P\\ncontinue, jumps to next element\\nR\\ncontinue, jumps to next element\\n\"}, {\"line\": 3, \"event\": \"step_line\", \"func_name\": \"<module>\", \"globals\": {\"i\": 1, \"x\": \"A\"}, \"ordered_globals\": [\"i\", \"x\"], \"stack_to_render\": [], \"heap\": {}, \"stdout\": \"P\\ncontinue, jumps to next element\\nR\\ncontinue, jumps to next element\\n\"}, {\"line\": 4, \"event\": \"step_line\", \"func_name\": \"<module>\", \"globals\": {\"i\": 1, \"x\": \"D\"}, \"ordered_globals\": [\"i\", \"x\"], \"stack_to_render\": [], \"heap\": {}, \"stdout\": \"P\\ncontinue, jumps to next element\\nR\\ncontinue, jumps to next element\\n\"}, {\"line\": 7, \"event\": \"step_line\", \"func_name\": \"<module>\", \"globals\": {\"i\": 1, \"x\": \"D\"}, \"ordered_globals\": [\"i\", \"x\"], \"stack_to_render\": [], \"heap\": {}, \"stdout\": \"P\\ncontinue, jumps to next element\\nR\\ncontinue, jumps to next element\\n\"}, {\"line\": 8, \"event\": \"step_line\", \"func_name\": \"<module>\", \"globals\": {\"i\": 1, \"x\": \"D\"}, \"ordered_globals\": [\"i\", \"x\"], \"stack_to_render\": [], \"heap\": {}, \"stdout\": \"P\\ncontinue, jumps to next element\\nR\\ncontinue, jumps to next element\\n\"}, {\"line\": 9, \"event\": \"step_line\", \"func_name\": \"<module>\", \"globals\": {\"i\": 1, \"x\": \"D\"}, \"ordered_globals\": [\"i\", \"x\"], \"stack_to_render\": [], \"heap\": {}, \"stdout\": \"P\\ncontinue, jumps to next element\\nR\\ncontinue, jumps to next element\\nbreak, exits loop!\\n\"}, {\"line\": 12, \"event\": \"step_line\", \"func_name\": \"<module>\", \"globals\": {\"i\": 1, \"x\": \"D\"}, \"ordered_globals\": [\"i\", \"x\"], \"stack_to_render\": [], \"heap\": {}, \"stdout\": \"P\\ncontinue, jumps to next element\\nR\\ncontinue, jumps to next element\\nbreak, exits loop!\\n\"}, {\"line\": 12, \"event\": \"return\", \"func_name\": \"<module>\", \"globals\": {\"i\": 1, \"x\": \"D\"}, \"ordered_globals\": [\"i\", \"x\"], \"stack_to_render\": [], \"heap\": {}, \"stdout\": \"P\\ncontinue, jumps to next element\\nR\\ncontinue, jumps to next element\\nbreak, exits loop!\\nLoop is over !\\n\"}]}\n",
       "        </script>\n",
       "        <div id=\"jm6449f16e-0e8d-4f97-91ca-86b3e9644882\" class=\"pytutorVisualizer\"> </div>\n",
       " \n",
       "        <style>\n",
       "        .vizLayoutTd {\n",
       "            background-color: #fff !important;\n",
       "        }\n",
       "\n",
       "        #pyStdout {            \n",
       "            min-height:25px;\n",
       "        }\n",
       "\n",
       "        /* 'Edit this code' link, hiding because replaces browser tab !!!*/\n",
       "        #editCodeLinkDiv {\n",
       "            display:none;  \n",
       "        }\n",
       "        </style>   \n",
       "                            \n",
       "        <script>\n",
       "        (function(){\n",
       "\n",
       "            var trace = JSON.parse(document.getElementById('json-jm6449f16e-0e8d-4f97-91ca-86b3e9644882').innerHTML);                                        \n",
       "            // NOTE 1: id without #\n",
       "            // NOTE 2 - maybe there are more predictable ways, but this will work anyway\n",
       "            //        - id should be number\n",
       "            visualizerIdOverride = Math.trunc(Math.random() * 100000000000)\n",
       "            addVisualizerToPage(trace, 'jm6449f16e-0e8d-4f97-91ca-86b3e9644882',{'embeddedMode' : false,\n",
       "                                             'visualizerIdOverride':visualizerIdOverride})  \n",
       "            \n",
       "            \n",
       "            // set overflow for pytuts - need to do in python as css \n",
       "            // does not allow parent selection\n",
       "            var pytuts = $('.pytutorVisualizer')\n",
       "            pytuts.closest('div.output_html.rendered_html.output_result')\n",
       "                    .css('overflow-x', 'visible')\n",
       "        \n",
       "            //pytuts.closest('div.output_html.rendered_html.output_result')\n",
       "            //      .css('background-color','red')                \n",
       "            \n",
       "        })()\n",
       "        </script>\n",
       "                \n",
       "                "
      ],
      "text/plain": [
       "<IPython.core.display.HTML object>"
      ]
     },
     "execution_count": 64,
     "metadata": {},
     "output_type": "execute_result"
    }
   ],
   "source": [
    "i = 1\n",
    "for x in 'PARADE':    \n",
    "    if x == 'A':\n",
    "        print(\"continue, jumps to next element\")\n",
    "        continue    \n",
    "    if x == 'D':\n",
    "        print('break, exits loop!')\n",
    "        break\n",
    "    print(x)    \n",
    "    \n",
    "print('Loop is over !')\n",
    "\n",
    "jupman.pytut()"
   ]
  },
  {
   "cell_type": "markdown",
   "metadata": {},
   "source": [
    "### Questions - break and continue\n",
    "\n",
    "Look at the following code fragments, and for each try guessing the result it produces (or if it gives an error):\n",
    "\n",
    "\n",
    "1.  ```python\n",
    "    for x in ['a','b','c']:\n",
    "        print(x)\n",
    "        break\n",
    "    ```\n",
    "1.  ```python\n",
    "    for x in ['a','b','c']:\n",
    "        print(x)\n",
    "        break\n",
    "        print('GLAM')\n",
    "    ```    \n",
    "1.  ```python\n",
    "    for x in ['a','b','c']:\n",
    "        print(x)\n",
    "        break\n",
    "        break\n",
    "    ```    \n",
    "1.  ```python\n",
    "    for x in ['a','b','c']:\n",
    "        break\n",
    "        print(x)\n",
    "    ```        \n",
    "1.  ```python\n",
    "    break\n",
    "    for x in ['a','b','c']:      \n",
    "        print(x)\n",
    "    ```            \n",
    "1.  ```python\n",
    "    for x in ['a','b','c']:       \n",
    "        print(x)\n",
    "    break        \n",
    "    ```                \n",
    "1.  ```python\n",
    "    for x in ['a','b','c']:\n",
    "        continue\n",
    "        print(x)            \n",
    "    ```\n",
    "1.  ```python\n",
    "    for x in ['a','b','c']:        \n",
    "        print(x)            \n",
    "        continue\n",
    "    ```\n",
    "1.  ```python\n",
    "    for x in ['a','b','c']:        \n",
    "        print(x)            \n",
    "        continue\n",
    "        print('BAM')\n",
    "    ```    \n",
    "1.  ```python\n",
    "    continue\n",
    "    for x in ['a','b','c']:        \n",
    "        print(x)   \n",
    "    ```\n",
    "1.  ```python    \n",
    "    for x in ['a','b','c']:        \n",
    "        print(x)   \n",
    "    continue\n",
    "    ```   \n",
    "1.  ```python\n",
    "    for x in ['a','b','c']:    \n",
    "        break\n",
    "        1/0\n",
    "    print('BAD KARMA')\n",
    "    ```\n",
    "1.  ```python\n",
    "    for x in ['a','b','c']:    \n",
    "        1/0\n",
    "        break\n",
    "    print('BAD KARMA')\n",
    "    ```\n",
    "1.  ```python\n",
    "    for x in range(8):    \n",
    "        if x < 4:\n",
    "            continue\n",
    "        print('ZAM', x)\n",
    "    ```\n",
    "1.  ```python\n",
    "    for x in range(8):    \n",
    "        if x >= 4:\n",
    "            break\n",
    "        print('ZUM', x)\n",
    "    ```\n",
    "1.  ```python\n",
    "    for x in range(6):\n",
    "        if x % 2 == 0:\n",
    "            continue\n",
    "        print(x)\n",
    "    ```\n",
    "1.  ```python\n",
    "    for x in ['M','C','M']:\n",
    "        print(x)\n",
    "        for y in ['S','P','Q','R']:\n",
    "            print(y)\n",
    "            break        \n",
    "    ```\n",
    "1.  ```python\n",
    "    for x in ['M','C','M']:\n",
    "        print(x)\n",
    "        break\n",
    "        for y in ['S','P','Q','R']:\n",
    "            print(y)\n",
    "    ```\n",
    "1.  ```python\n",
    "    for x in ['M','C','M']:\n",
    "        print(x)\n",
    "        for y in ['S','P','Q','R']:\n",
    "            print(y)\n",
    "            continue\n",
    "    ```\n",
    "1.  ```python\n",
    "    for x in ['M','C','M']:\n",
    "        print(x)\n",
    "        continue\n",
    "        for y in ['S','P','Q','R']:\n",
    "            print(y)\n",
    "    ```"
   ]
  },
  {
   "cell_type": "markdown",
   "metadata": {},
   "source": [
    "### Exercise - autonomous walking\n",
    "\n",
    "✪ Write some code which given a string `phrase`, prints all the characters _except_ the vocals.\n",
    "\n",
    "Example - given:\n",
    "\n",
    "```python\n",
    "phrase = 'autonomous walking'\n",
    "```\n",
    "\n",
    "prints:\n",
    "\n",
    "```\n",
    "t\n",
    "n\n",
    "m\n",
    "s\n",
    " \n",
    "w\n",
    "l\n",
    "k\n",
    "n\n",
    "g\n",
    "```\n"
   ]
  },
  {
   "cell_type": "raw",
   "id": "510d64f1",
   "metadata": {
    "format": "text/html"
   },
   "source": [
    "<a  class=\"jupman-sol jupman-sol-toggler\" \n",
    " onclick=\"jupman.toggleSolution(this);\" \n",
    " data-jupman-show=\"Show solution\" data-jupman-hide=\"Hide\">Show solution</a><div class=\"jupman-sol jupman-sol-code\" style=\"display:none\">  "
   ]
  },
  {
   "cell_type": "code",
   "execution_count": 65,
   "metadata": {},
   "outputs": [
    {
     "name": "stdout",
     "output_type": "stream",
     "text": [
      "t\n",
      "n\n",
      "m\n",
      "s\n",
      " \n",
      "w\n",
      "l\n",
      "k\n",
      "n\n",
      "g\n"
     ]
    }
   ],
   "source": [
    "phrase = 'autonomous walking'\n",
    "#phrase='continuous'\n",
    "\n",
    "# write here\n",
    "for x in phrase:\n",
    "    if x in 'aeiou':\n",
    "        continue\n",
    "    else:\n",
    "        print(x)"
   ]
  },
  {
   "cell_type": "raw",
   "id": "9e8acae4",
   "metadata": {
    "format": "text/html"
   },
   "source": [
    "</div>"
   ]
  },
  {
   "cell_type": "code",
   "execution_count": 65,
   "metadata": {},
   "outputs": [
    {
     "name": "stdout",
     "output_type": "stream",
     "text": [
      "t\n",
      "n\n",
      "m\n",
      "s\n",
      " \n",
      "w\n",
      "l\n",
      "k\n",
      "n\n",
      "g\n"
     ]
    }
   ],
   "source": [
    "phrase = 'autonomous walking'\n",
    "#phrase='continuous'\n",
    "\n",
    "# write here\n",
    "\n"
   ]
  },
  {
   "cell_type": "markdown",
   "metadata": {},
   "source": [
    "### Exercise - breaking bad\n",
    "\n",
    "✪ Write some code which prints all the charactes from `string` until it finds the string `'bad'`.\n",
    "\n",
    "Example - given:\n",
    "\n",
    "```python\n",
    "string = 'cascapirillabadgnippobadzarpogno'\n",
    "```\n",
    "\n",
    "prints\n",
    "\n",
    "```\n",
    "c\n",
    "a\n",
    "s\n",
    "c\n",
    "a\n",
    "p\n",
    "i\n",
    "r\n",
    "i\n",
    "l\n",
    "l\n",
    "a\n",
    "```"
   ]
  },
  {
   "cell_type": "code",
   "execution_count": 66,
   "metadata": {},
   "outputs": [
    {
     "name": "stdout",
     "output_type": "stream",
     "text": [
      "c\n",
      "a\n",
      "s\n",
      "c\n",
      "a\n",
      "p\n",
      "i\n",
      "r\n",
      "i\n",
      "l\n",
      "l\n",
      "a\n"
     ]
    }
   ],
   "source": [
    "string = 'cascapirillabadgnippobadzarpogno'  # cascapirilla\n",
    "#string = 'sobad'  # 'so'\n",
    "#string = 'bad'  # ''\n",
    "#string = 'badso'  # ''\n",
    "\n",
    "for i in range(len(string)):\n",
    "    if string[i:i+3] == 'bad':\n",
    "        break\n",
    "    else:\n",
    "        print(string[i])\n",
    "    "
   ]
  },
  {
   "cell_type": "markdown",
   "metadata": {},
   "source": [
    "### Exercise - breaking point\n",
    "\n",
    "✪✪ Given a phrase, prints all the words one per row _until_ it finds a dot, and in that case it stops.\n",
    "\n",
    "* **DO NOT** use `phrase.split('.')`. Splits on other characters are allowed.\n",
    "\n",
    "Example - given:\n",
    "\n",
    "```python\n",
    "phrase = 'At some point you must stop. Never go beyond the limit.\n",
    "```\n",
    "\n",
    "prints:\n",
    "\n",
    "```\n",
    "At\n",
    "some\n",
    "point\n",
    "you\n",
    "must\n",
    "stop\n",
    "```"
   ]
  },
  {
   "cell_type": "raw",
   "id": "4ef817b8",
   "metadata": {
    "format": "text/html"
   },
   "source": [
    "<a  class=\"jupman-sol jupman-sol-toggler\" \n",
    " onclick=\"jupman.toggleSolution(this);\" \n",
    " data-jupman-show=\"Show solution\" data-jupman-hide=\"Hide\">Show solution</a><div class=\"jupman-sol jupman-sol-code\" style=\"display:none\">  "
   ]
  },
  {
   "cell_type": "code",
   "execution_count": 67,
   "metadata": {},
   "outputs": [
    {
     "name": "stdout",
     "output_type": "stream",
     "text": [
      "At\n",
      "some\n",
      "point\n",
      "you\n",
      "must\n",
      "stop\n"
     ]
    }
   ],
   "source": [
    "phrase = 'At some point you must stop. Never go beyond the limit.'\n",
    "#phrase = \"Respect the halt. Do you want to have us arrested?\"\n",
    "#phrase = 'Stop.'\n",
    "#phrase = 'No stop'\n",
    "\n",
    "# write here\n",
    "\n",
    "for word in phrase.split():\n",
    "    if '.' in word:\n",
    "        print(word[:-1])\n",
    "        break\n",
    "    else:\n",
    "        print(word)"
   ]
  },
  {
   "cell_type": "raw",
   "id": "5495b316",
   "metadata": {
    "format": "text/html"
   },
   "source": [
    "</div>"
   ]
  },
  {
   "cell_type": "code",
   "execution_count": 67,
   "metadata": {},
   "outputs": [
    {
     "name": "stdout",
     "output_type": "stream",
     "text": [
      "At\n",
      "some\n",
      "point\n",
      "you\n",
      "must\n",
      "stop\n"
     ]
    }
   ],
   "source": [
    "phrase = 'At some point you must stop. Never go beyond the limit.'\n",
    "#phrase = \"Respect the halt. Do you want to have us arrested?\"\n",
    "#phrase = 'Stop.'\n",
    "#phrase = 'No stop'\n",
    "\n",
    "# write here\n",
    "\n"
   ]
  },
  {
   "cell_type": "markdown",
   "metadata": {},
   "source": [
    "### Exercise - breakdance\n",
    "        \n",
    "✪✪ As a skilled breakdancer, you're given `music` as a list of sounds. You will have to perform a couple of dances:\n",
    "\n",
    "- during the first one, you will have to repeat the music sounds until you find exactly `3` sounds `'pa'`, then you will shout `BREAKDANCE!`.\n",
    "- during the second one, you will have to repeat the music sounds _in reverse_ until you find exactly `3` sounds `'pa'`, then you will shout `BREAKDANCE!`\n",
    "\n",
    "\n",
    "- **DO NOT** modify `music`, so no `music.reverse()`\n",
    "\n",
    "Example - given:\n",
    "\n",
    "```python\n",
    "music = ['unz','pa','pa','tud','unz','pa','pa','tud','unz','boom','boom','tud']\n",
    "```"
   ]
  },
  {
   "cell_type": "markdown",
   "metadata": {},
   "source": [
    "Prints:\n",
    "\n",
    "```\n",
    "unz\n",
    "pa\n",
    "pa\n",
    "tud\n",
    "unz\n",
    "pa\n",
    "BREAKDANCE!\n",
    "\n",
    "tud\n",
    "boom\n",
    "boom\n",
    "unz\n",
    "tud\n",
    "pa\n",
    "pa\n",
    "unz\n",
    "tud\n",
    "pa\n",
    "BREAKDANCE!\n",
    "```"
   ]
  },
  {
   "cell_type": "raw",
   "id": "ae283d6b",
   "metadata": {
    "format": "text/html"
   },
   "source": [
    "<a  class=\"jupman-sol jupman-sol-toggler\" \n",
    " onclick=\"jupman.toggleSolution(this);\" \n",
    " data-jupman-show=\"Show solution\" data-jupman-hide=\"Hide\">Show solution</a><div class=\"jupman-sol jupman-sol-code\" style=\"display:none\">  "
   ]
  },
  {
   "cell_type": "code",
   "execution_count": 68,
   "metadata": {
    "scrolled": true
   },
   "outputs": [
    {
     "name": "stdout",
     "output_type": "stream",
     "text": [
      "unz\n",
      "pa\n",
      "pa\n",
      "tud\n",
      "unz\n",
      "pa\n",
      "BREAKDANCE!\n",
      "\n",
      "tud\n",
      "boom\n",
      "boom\n",
      "unz\n",
      "tud\n",
      "pa\n",
      "pa\n",
      "unz\n",
      "tud\n",
      "pa\n",
      "BREAKDANCE!\n"
     ]
    }
   ],
   "source": [
    "music = ['unz','pa','pa','tud','unz','pa','pa','tud','unz','boom','boom','tud']\n",
    "\n",
    "# write here\n",
    "\n",
    "k = 0\n",
    "for x in music:\n",
    "    print(x)\n",
    "    if x == 'pa':\n",
    "        k += 1\n",
    "    if k == 3:\n",
    "        print('BREAKDANCE!')\n",
    "        print()\n",
    "        break\n",
    "\n",
    "k = 0\n",
    "for i in range(len(music)-1, -1, -1): \n",
    "    print(music[i])\n",
    "    if music[i] == 'pa':\n",
    "        k += 1\n",
    "    if k == 3:\n",
    "        print('BREAKDANCE!')\n",
    "        break\n",
    "        "
   ]
  },
  {
   "cell_type": "raw",
   "id": "cba1b0d0",
   "metadata": {
    "format": "text/html"
   },
   "source": [
    "</div>"
   ]
  },
  {
   "cell_type": "code",
   "execution_count": 68,
   "metadata": {
    "scrolled": true
   },
   "outputs": [
    {
     "name": "stdout",
     "output_type": "stream",
     "text": [
      "unz\n",
      "pa\n",
      "pa\n",
      "tud\n",
      "unz\n",
      "pa\n",
      "BREAKDANCE!\n",
      "\n",
      "tud\n",
      "boom\n",
      "boom\n",
      "unz\n",
      "tud\n",
      "pa\n",
      "pa\n",
      "unz\n",
      "tud\n",
      "pa\n",
      "BREAKDANCE!\n"
     ]
    }
   ],
   "source": [
    "music = ['unz','pa','pa','tud','unz','pa','pa','tud','unz','boom','boom','tud']\n",
    "\n",
    "# write here\n",
    "\n"
   ]
  },
  {
   "cell_type": "code",
   "execution_count": null,
   "metadata": {},
   "outputs": [],
   "source": []
  }
 ],
 "metadata": {
  "kernelspec": {
   "display_name": "Python 3",
   "language": "python",
   "name": "python3"
  },
  "language_info": {
   "codemirror_mode": {
    "name": "ipython",
    "version": 3
   },
   "file_extension": ".py",
   "mimetype": "text/x-python",
   "name": "python",
   "nbconvert_exporter": "python",
   "pygments_lexer": "ipython3",
   "version": "3.7.10"
  },
  "toc": {
   "base_numbering": 1,
   "nav_menu": {},
   "number_sections": false,
   "sideBar": true,
   "skip_h1_title": false,
   "title_cell": "Table of Contents",
   "title_sidebar": "Contents",
   "toc_cell": false,
   "toc_position": {},
   "toc_section_display": true,
   "toc_window_display": true
  }
 },
 "nbformat": 4,
 "nbformat_minor": 2
}
