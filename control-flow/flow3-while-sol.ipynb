{
 "cells": [
  {
   "cell_type": "code",
   "execution_count": 1,
   "metadata": {
    "nbsphinx": "hidden"
   },
   "outputs": [],
   "source": [
    "# Remember to execute this cell with Shift+Enter\n",
    "import jupman"
   ]
  },
  {
   "cell_type": "markdown",
   "metadata": {},
   "source": [
    "# Control flow - while loop\n",
    "\n",
    "## [Download exercises zip](../_static/generated/control-flow.zip)\n",
    "\n",
    "[Browse online files](https://github.com/DavidLeoni/softpython-en/tree/master/control-flow)"
   ]
  },
  {
   "cell_type": "markdown",
   "metadata": {},
   "source": [
    "Let's see how to repeat instructions by executing them inside `while` loops.\n",
    "\n",
    "The main feature of `while` loop is allowing to explicitly control when the loop should end. Typically, such loops are used when we must _iterate_ on a sequence of which we don't know the dimension, or it can vary over time, or several conditions might determine the cycle stop."
   ]
  },
  {
   "cell_type": "markdown",
   "metadata": {},
   "source": [
    "## What to do\n",
    "\n",
    "1. Unzip [exercises zip](../_static/generated/control-flow.zip) in a folder, you should obtain something like this:\n",
    "\n",
    "```\n",
    "control-flow\n",
    "    flow1-if.ipynb    \n",
    "    flow1-if-sol.ipynb         \n",
    "    flow2-for.ipynb\n",
    "    flow2-for-sol.ipynb\n",
    "    flow3-while.ipynb\n",
    "    flow3-while-sol.ipynb\n",
    "    jupman.py         \n",
    "```\n",
    "\n",
    "<div class=\"alert alert-warning\">\n",
    "\n",
    "**WARNING: to correctly visualize the notebook, it MUST be in an unzipped folder !**\n",
    "</div>"
   ]
  },
  {
   "cell_type": "markdown",
   "metadata": {},
   "source": [
    "2. open Jupyter Notebook from that folder. Two things should open, first a console and then a browser. The browser should show a file list: navigate the list and open the notebook `flow3-while.ipynb`\n",
    "\n",
    "3. Go on reading the exercises file, sometimes you will find paragraphs marked **Exercises** graded from ✪ to ✪✪✪✪ which will ask to write Python commands in the following cells."
   ]
  },
  {
   "cell_type": "markdown",
   "metadata": {},
   "source": [
    "Shortcut keys:\n",
    "\n",
    "- to execute Python code inside a Jupyter cell, press `Control + Enter`\n",
    "\n",
    "- to execute Python code inside a Jupyter cell AND select next cell, press `Shift + Enter`\n",
    "\n",
    "- to execute Python code inside a Jupyter cell AND a create a new cell aftwerwards, press `Alt + Enter`\n",
    "\n",
    "- If the notebooks look stuck, try to select `Kernel -> Restart`"
   ]
  },
  {
   "cell_type": "markdown",
   "metadata": {},
   "source": [
    "## Introduction\n",
    "\n",
    "A `while` cycle is a code block which is executed when a certain boolean condition is verified. The code block is repeatedly executed as long as the condition is true.\n",
    "\n",
    "Let's see an example:"
   ]
  },
  {
   "cell_type": "code",
   "execution_count": 2,
   "metadata": {},
   "outputs": [
    {
     "name": "stdout",
     "output_type": "stream",
     "text": [
      "Counted 1\n",
      "Counted 2\n",
      "Counted 3\n",
      "Loop is over!\n"
     ]
    }
   ],
   "source": [
    "i = 1\n",
    "\n",
    "while i < 4:\n",
    "    print('Counted', i)\n",
    "    i += 1\n",
    "    \n",
    "print('Loop is over!')"
   ]
  },
  {
   "cell_type": "markdown",
   "metadata": {},
   "source": [
    "In the example, the boolean condition is\n",
    "\n",
    "```python\n",
    "i < 4\n",
    "```\n",
    "\n",
    "the block to repeatedly executed is\n",
    "\n",
    "```python\n",
    "    print('Counted', i)\n",
    "    i += 1\n",
    "```\n",
    "\n",
    "Like any Python code blocks, the block is indented with spaces (usually 4).\n",
    "\n",
    "Have a better look at the execution in Python Tutor and read the following comment."
   ]
  },
  {
   "cell_type": "code",
   "execution_count": 3,
   "metadata": {},
   "outputs": [],
   "source": [
    "# WARNING: FOR PYTHON TUTOR TO WORK, REMEMBER TO EXECUTE THIS CELL with Shift+Enter\n",
    "#          (it's sufficient to execute it only once)\n",
    "\n",
    "import jupman"
   ]
  },
  {
   "cell_type": "code",
   "execution_count": 4,
   "metadata": {},
   "outputs": [
    {
     "name": "stdout",
     "output_type": "stream",
     "text": [
      "Counted 1\n",
      "Counted 2\n",
      "Counted 3\n",
      "Loop is over !\n"
     ]
    },
    {
     "data": {
      "text/html": [
       "\n",
       "        <script src=\"../_static/js/pytutor-embed.bundle.min.js\" type=\"application/javascript\"></script>\n",
       "     \n",
       "        <script id=\"json-jm8833ceb6-f743-4749-a5fd-ea27073e8609\" type=\"application/json\" >\n",
       "            {\"trace\": [{\"func_name\": \"<module>\", \"stdout\": \"\", \"stack_to_render\": [], \"ordered_globals\": [], \"heap\": {}, \"line\": 2, \"event\": \"step_line\", \"globals\": {}}, {\"func_name\": \"<module>\", \"stdout\": \"\", \"stack_to_render\": [], \"ordered_globals\": [\"i\"], \"heap\": {}, \"line\": 3, \"event\": \"step_line\", \"globals\": {\"i\": 1}}, {\"func_name\": \"<module>\", \"stdout\": \"\", \"stack_to_render\": [], \"ordered_globals\": [\"i\"], \"heap\": {}, \"line\": 4, \"event\": \"step_line\", \"globals\": {\"i\": 1}}, {\"func_name\": \"<module>\", \"stdout\": \"Counted 1\\n\", \"stack_to_render\": [], \"ordered_globals\": [\"i\"], \"heap\": {}, \"line\": 5, \"event\": \"step_line\", \"globals\": {\"i\": 1}}, {\"func_name\": \"<module>\", \"stdout\": \"Counted 1\\n\", \"stack_to_render\": [], \"ordered_globals\": [\"i\"], \"heap\": {}, \"line\": 3, \"event\": \"step_line\", \"globals\": {\"i\": 2}}, {\"func_name\": \"<module>\", \"stdout\": \"Counted 1\\n\", \"stack_to_render\": [], \"ordered_globals\": [\"i\"], \"heap\": {}, \"line\": 4, \"event\": \"step_line\", \"globals\": {\"i\": 2}}, {\"func_name\": \"<module>\", \"stdout\": \"Counted 1\\nCounted 2\\n\", \"stack_to_render\": [], \"ordered_globals\": [\"i\"], \"heap\": {}, \"line\": 5, \"event\": \"step_line\", \"globals\": {\"i\": 2}}, {\"func_name\": \"<module>\", \"stdout\": \"Counted 1\\nCounted 2\\n\", \"stack_to_render\": [], \"ordered_globals\": [\"i\"], \"heap\": {}, \"line\": 3, \"event\": \"step_line\", \"globals\": {\"i\": 3}}, {\"func_name\": \"<module>\", \"stdout\": \"Counted 1\\nCounted 2\\n\", \"stack_to_render\": [], \"ordered_globals\": [\"i\"], \"heap\": {}, \"line\": 4, \"event\": \"step_line\", \"globals\": {\"i\": 3}}, {\"func_name\": \"<module>\", \"stdout\": \"Counted 1\\nCounted 2\\nCounted 3\\n\", \"stack_to_render\": [], \"ordered_globals\": [\"i\"], \"heap\": {}, \"line\": 5, \"event\": \"step_line\", \"globals\": {\"i\": 3}}, {\"func_name\": \"<module>\", \"stdout\": \"Counted 1\\nCounted 2\\nCounted 3\\n\", \"stack_to_render\": [], \"ordered_globals\": [\"i\"], \"heap\": {}, \"line\": 3, \"event\": \"step_line\", \"globals\": {\"i\": 4}}, {\"func_name\": \"<module>\", \"stdout\": \"Counted 1\\nCounted 2\\nCounted 3\\n\", \"stack_to_render\": [], \"ordered_globals\": [\"i\"], \"heap\": {}, \"line\": 7, \"event\": \"step_line\", \"globals\": {\"i\": 4}}, {\"func_name\": \"<module>\", \"stdout\": \"Counted 1\\nCounted 2\\nCounted 3\\nLoop is over !\\n\", \"stack_to_render\": [], \"ordered_globals\": [\"i\"], \"heap\": {}, \"line\": 7, \"event\": \"return\", \"globals\": {\"i\": 4}}], \"code\": \" \\ni = 1\\nwhile i < 4:\\n    print('Counted', i)\\n    i += 1\\n    \\nprint('Loop is over !')\"}\n",
       "        </script>\n",
       "        <div id=\"jm8833ceb6-f743-4749-a5fd-ea27073e8609\" class=\"pytutorVisualizer\"> </div>\n",
       " \n",
       "        <style>\n",
       "        .vizLayoutTd {\n",
       "            background-color: #fff !important;\n",
       "        }\n",
       "\n",
       "        #pyStdout {            \n",
       "            min-height:25px;\n",
       "        }\n",
       "\n",
       "        /* 'Edit this code' link, hiding because replaces browser tab !!!*/\n",
       "        #editCodeLinkDiv {\n",
       "            display:none;  \n",
       "        }\n",
       "        </style>   \n",
       "                            \n",
       "        <script>\n",
       "        (function(){\n",
       "\n",
       "            var trace = JSON.parse(document.getElementById('json-jm8833ceb6-f743-4749-a5fd-ea27073e8609').innerHTML);                                        \n",
       "            // NOTE 1: id without #\n",
       "            // NOTE 2 - maybe there are more predictable ways, but this will work anyway\n",
       "            //        - id should be number\n",
       "            visualizerIdOverride = Math.trunc(Math.random() * 100000000000)\n",
       "            addVisualizerToPage(trace, 'jm8833ceb6-f743-4749-a5fd-ea27073e8609',{'embeddedMode' : false,\n",
       "                                             'visualizerIdOverride':visualizerIdOverride})  \n",
       "            \n",
       "            \n",
       "            // set overflow for pytuts - need to do in python as css \n",
       "            // does not allow parent selection\n",
       "            var pytuts = $('.pytutorVisualizer')\n",
       "            pytuts.closest('div.output_html.rendered_html.output_result')\n",
       "                    .css('overflow-x', 'visible')\n",
       "        \n",
       "            //pytuts.closest('div.output_html.rendered_html.output_result')\n",
       "            //      .css('background-color','red')                \n",
       "            \n",
       "        })()\n",
       "        </script>\n",
       "                \n",
       "                "
      ],
      "text/plain": [
       "<IPython.core.display.HTML object>"
      ]
     },
     "execution_count": 4,
     "metadata": {},
     "output_type": "execute_result"
    }
   ],
   "source": [
    "i = 1\n",
    "while i < 4:\n",
    "    print('Counted', i)\n",
    "    i += 1\n",
    "    \n",
    "print('Loop is over !')\n",
    "\n",
    "jupman.pytut()"
   ]
  },
  {
   "cell_type": "markdown",
   "metadata": {},
   "source": [
    "In the example we used a variable we called `i` and we initialized it to zero.\n",
    "\n",
    "\n",
    "At the beginning of the cycle `i` is valued `1`, so the boolean expression `i < 4` is evaluated as `True`. Since it's `True`,  execution continues inside the block with the `print` and finally MODIFIES `i` by incrementing `i += 1`.\n",
    "\n",
    "Now the execution goes to `while` row, and condition `i < 4` is evaluated again. At this second iteration `i` is valued `2`, so the boolean expression `i < 4` is again evaluated to `True` and the execution remains inside the block. A new print is done and `i` gets incremented.\n",
    "\n",
    "Another loop is done until `i` is valued `4`. A that point `i < 4` produces `False` so in that moment execution _exits_ the `while` block and goes on with the commands at the same indentation level as the `while`"
   ]
  },
  {
   "cell_type": "markdown",
   "metadata": {},
   "source": [
    "###  Terminating `while` \n",
    "\n",
    "When we have a `while` cycle, typically sooner or later we want it to terminate  (programs which hang aren't users' favourites ...). To guarantee termination, we need:\n",
    "\n",
    "1. initializing a variable outside the cycle\n",
    "2. a condition after the `while` command which evaluates that variable (and optionally other things)\n",
    "3. at least one instruction in the internal block which MODIFIES the variable, so that sooner or later is going to satisfy condition 2\n",
    "\n",
    "If any of these points is omitted, we will have problems. Let's try forgetting them on purpose:"
   ]
  },
  {
   "cell_type": "markdown",
   "metadata": {},
   "source": [
    "**Error 1: omit initialization.** As in those cases in Python where we forgot to initialize a variable (let's try `j` in this case), the execution is interrupted as soon we try using the variable:\n",
    "\n",
    "```python\n",
    "print(\"About to enter the cycle ..\")\n",
    "while j < 4:\n",
    "    print('Counted', j)\n",
    "    j += 1\n",
    "    \n",
    "print('Loop is over !')\n",
    "\n",
    "```\n",
    "\n",
    "```\n",
    "About to enter the cycle ..\n",
    "---------------------------------------------------------------------------\n",
    "NameError                                 Traceback (most recent call last)\n",
    "<ipython-input-277-3f311955204d> in <module>()\n",
    "      1 print(\"About to enter the cycle ..\")\n",
    "----> 2 while j < 4:\n",
    "      3     print('Counted', j)\n",
    "      4     j += 1\n",
    "      5 \n",
    "\n",
    "NameError: name 'j' is not defined\n",
    "\n",
    "```"
   ]
  },
  {
   "cell_type": "markdown",
   "metadata": {},
   "source": [
    "**Error 2: omit using the variable in the condition.** If we forget to evaluate the variable, for example using another one by mistake (say `x`), the loop will never stop:\n",
    "\n",
    "\n",
    "```python\n",
    "i = 1\n",
    "x = 1\n",
    "print('About to enter the cycle ..')\n",
    "while x < 4:   # evalutes x instead of i\n",
    "    print('Counted', i)\n",
    "    i += 1\n",
    "    \n",
    "print('Loop is over !')\n",
    "```\n",
    "```\n",
    "\n",
    "About to enter the cycle ..\n",
    "Counted 1\n",
    "Counted 2\n",
    "Counted 3\n",
    "Counted 4\n",
    "Counted 5\n",
    "Counted 6\n",
    ".\n",
    ".\n",
    "\n",
    "```"
   ]
  },
  {
   "cell_type": "markdown",
   "metadata": {},
   "source": [
    "**Error 3: Omit to MODIFY the variable in the internal block.** If we forget to place at least one instruction which MODIFIES the variable used in the condition, whenever the condition is evaluated it will always produce the same boolean value `False` preventing a cycle exit:\n",
    "\n",
    "```python\n",
    "i = 1\n",
    "print('About to enter the cycle ..')\n",
    "while i < 4:\n",
    "    print('Counted', i)\n",
    "\n",
    "print('Loop is over !')\n",
    "```\n",
    "\n",
    "```\n",
    "About to enter the cycle ..\n",
    "Counted 1\n",
    "Counted 1\n",
    "Counted 1\n",
    "Counted 1\n",
    "Counted 1\n",
    ".\n",
    ".\n",
    "```"
   ]
  },
  {
   "cell_type": "markdown",
   "metadata": {},
   "source": [
    "### Non terminating `while`\n",
    "\n",
    "**QUESTION**: Can you imagine a program which _never_ terminates?"
   ]
  },
  {
   "cell_type": "raw",
   "id": "documented-sheep",
   "metadata": {
    "format": "text/html"
   },
   "source": [
    "<a  class=\"jupman-sol jupman-sol-toggler\" \n",
    " onclick=\"jupman.toggleSolution(this);\" \n",
    " data-jupman-show=\"Show answer\" data-jupman-hide=\"Hide\">Show answer</a><div class=\"jupman-sol jupman-sol-question\" style=\"display:none\">  "
   ]
  },
  {
   "cell_type": "markdown",
   "metadata": {},
   "source": [
    "**ANSWER**: if you live nearby a hydropower or nuclear plant, what happens if the program regulating the water stops?\n",
    "\n",
    "Or: suppose you are inside an airplane and the program which checks the fuel flux to the engine suddenly stops. Could this be a problem?\n",
    "\n",
    "All programs if well written must foresee termination, but some software are executed for such a long time that termination is to be considered an exceptional event."
   ]
  },
  {
   "cell_type": "raw",
   "id": "tropical-trainer",
   "metadata": {
    "format": "text/html"
   },
   "source": [
    "</div>"
   ]
  },
  {
   "cell_type": "markdown",
   "metadata": {},
   "source": [
    "### Questions"
   ]
  },
  {
   "cell_type": "markdown",
   "metadata": {},
   "source": [
    "\n",
    "**QUESTION**: Look at the following code fragments , and for each try guessing the result it produces (or if it gives an error):\n",
    "\n",
    "1.  ```python\n",
    "    i = 0\n",
    "    while i < 3:\n",
    "    print(i)    \n",
    "    ```\n",
    "1.  ```python\n",
    "    k = 0\n",
    "    while k < 5:\n",
    "        print(k)\n",
    "        k + 1\n",
    "    ```    \n",
    "1.  ```python\n",
    "    i = 0\n",
    "    while i < 3:\n",
    "        print(i)\n",
    "    i += 1\n",
    "    ```    \n",
    "1.  ```python\n",
    "    i = 0\n",
    "    while False:\n",
    "        print(i)\n",
    "        i += 1\n",
    "    print('Done !')\n",
    "    ```\n",
    "    \n",
    "1.  ```python\n",
    "    i = 0\n",
    "    while i < 3:\n",
    "        print(i)\n",
    "        i += 1\n",
    "    ```   \n",
    "1.  ```python\n",
    "    k = 0\n",
    "    while k < 2\n",
    "        print(i)\n",
    "        k += 1\n",
    "    ```        \n",
    "1.  ```python\n",
    "    i = 0\n",
    "    while i < 3:\n",
    "        print('GAM')\n",
    "        i = i + 1\n",
    "    ```\n",
    "1.  ```python\n",
    "    while zanza < 2\n",
    "        print('ZANZA')\n",
    "        zanza += 1\n",
    "    ```         \n",
    "1.  ```python\n",
    "    i = 0\n",
    "    while False:\n",
    "        print(i)\n",
    "        i = i + 1\n",
    "    print('DARK')\n",
    "    ```\n",
    "1.  ```python\n",
    "    i = 0\n",
    "    while True:\n",
    "        print(i)\n",
    "        i = i + 1\n",
    "    print('LIGHT')\n",
    "    ```\n",
    "1.  ```python\n",
    "    while 2 + 3:\n",
    "        print('z')\n",
    "    print('')\n",
    "    ```\n",
    "1.  ```python\n",
    "    i = 10\n",
    "    while i > 0:\n",
    "        if i > 5:\n",
    "            print(i)\n",
    "            i -= 1\n",
    "    print('WAM')\n",
    "    ```\n",
    "1.  ```python\n",
    "    i = 10\n",
    "    while i > 0:\n",
    "        if i > 5:\n",
    "            print(i)\n",
    "        i -= 1\n",
    "    print('MAW')\n",
    "    ```\n",
    "\n",
    "1.  ```python\n",
    "    import random\n",
    "    x = 0\n",
    "    while  x < 7:\n",
    "        x = random.randint(1,10)\n",
    "        print(x)\n",
    "\n",
    "    print('LUCK')\n",
    "    ```\n",
    "1.  ```python\n",
    "    x,y = 0,0\n",
    "    while x + y < 4:\n",
    "        x += 1\n",
    "        y += 1\n",
    "        print(x,y)\n",
    "    ```\n",
    "1.  ```python\n",
    "    x,y = 0,3\n",
    "    while x < y:\n",
    "        print(x,y)\n",
    "        x += 1\n",
    "        y -= 1\n",
    "    ```"
   ]
  },
  {
   "cell_type": "markdown",
   "metadata": {},
   "source": [
    "### Esercises - introduction"
   ]
  },
  {
   "cell_type": "markdown",
   "metadata": {},
   "source": [
    "### Exercise - printeven\n",
    "\n",
    "✪ Write some code to  print all the odd numbers from `1` to `k` in a `while` cycle\n",
    "\n",
    "- for `k<1` prints nothing\n",
    "\n",
    "Example - given:\n",
    "\n",
    "```python\n",
    "k = 5\n",
    "```\n",
    "\n",
    "after your code it must print:\n",
    "\n",
    "```\n",
    "1\n",
    "3\n",
    "5\n",
    "```"
   ]
  },
  {
   "cell_type": "raw",
   "id": "normal-novelty",
   "metadata": {
    "format": "text/html"
   },
   "source": [
    "<a  class=\"jupman-sol jupman-sol-toggler\" \n",
    " onclick=\"jupman.toggleSolution(this);\" \n",
    " data-jupman-show=\"Show solution\" data-jupman-hide=\"Hide\">Show solution</a><div class=\"jupman-sol jupman-sol-code\" style=\"display:none\">  "
   ]
  },
  {
   "cell_type": "code",
   "execution_count": 5,
   "metadata": {},
   "outputs": [
    {
     "name": "stdout",
     "output_type": "stream",
     "text": [
      "1\n",
      "3\n",
      "5\n"
     ]
    }
   ],
   "source": [
    "k = 5   # 1 3 5\n",
    "#k = 1  # 1\n",
    "#k = 0  # no print\n",
    "\n",
    "# write here\n",
    "i = 1\n",
    "while i <= k:\n",
    "    if i % 2 == 1:\n",
    "        print(i)\n",
    "    i += 1"
   ]
  },
  {
   "cell_type": "raw",
   "id": "opening-summit",
   "metadata": {
    "format": "text/html"
   },
   "source": [
    "</div>"
   ]
  },
  {
   "cell_type": "code",
   "execution_count": 5,
   "metadata": {},
   "outputs": [
    {
     "name": "stdout",
     "output_type": "stream",
     "text": [
      "1\n",
      "3\n",
      "5\n"
     ]
    }
   ],
   "source": [
    "k = 5   # 1 3 5\n",
    "#k = 1  # 1\n",
    "#k = 0  # no print\n",
    "\n",
    "# write here\n",
    "\n"
   ]
  },
  {
   "cell_type": "markdown",
   "metadata": {},
   "source": [
    "### Exercise - average\n",
    "\n",
    "✪ Write some code that given a list `numbers`, calculates the average of values  using a `while` and then prints it.\n",
    "\n",
    "- if the list is not empty, the average is supposed to be `0.0`\n",
    "- **DO NOT** use the function `sum`\n",
    "- DO NOT create variables called `sum` (would violate the [V COMMANDMENT](https://en.softpython.org/commandments.html#V-COMMANDMENT): you shall never ever redefine system functions)\n",
    "\n",
    "\n",
    "Example - given:\n",
    "\n",
    "```python\n",
    "numbers = [8,6,5,9]\n",
    "```\n",
    "\n",
    "prints\n",
    "\n",
    "```\n",
    "7.0\n",
    "```"
   ]
  },
  {
   "cell_type": "raw",
   "id": "efficient-coral",
   "metadata": {
    "format": "text/html"
   },
   "source": [
    "<a  class=\"jupman-sol jupman-sol-toggler\" \n",
    " onclick=\"jupman.toggleSolution(this);\" \n",
    " data-jupman-show=\"Show solution\" data-jupman-hide=\"Hide\">Show solution</a><div class=\"jupman-sol jupman-sol-code\" style=\"display:none\">  "
   ]
  },
  {
   "cell_type": "code",
   "execution_count": 6,
   "metadata": {},
   "outputs": [
    {
     "name": "stdout",
     "output_type": "stream",
     "text": [
      "7.0\n"
     ]
    }
   ],
   "source": [
    "numbers = [8,6,5,9] # 7.0\n",
    "#numbers = [3,1,2]  # 2.0\n",
    "#numbers = []       # 0\n",
    "\n",
    "# write here\n",
    "s = 0.0\n",
    "i = 0\n",
    "while i < len(numbers):\n",
    "    s += numbers[i]\n",
    "    i += 1\n",
    "    \n",
    "if len(numbers) > 0:\n",
    "    print(s / len(numbers))\n",
    "else:\n",
    "    print(0.0)"
   ]
  },
  {
   "cell_type": "raw",
   "id": "sixth-puzzle",
   "metadata": {
    "format": "text/html"
   },
   "source": [
    "</div>"
   ]
  },
  {
   "cell_type": "code",
   "execution_count": 6,
   "metadata": {},
   "outputs": [
    {
     "name": "stdout",
     "output_type": "stream",
     "text": [
      "7.0\n"
     ]
    }
   ],
   "source": [
    "numbers = [8,6,5,9] # 7.0\n",
    "#numbers = [3,1,2]  # 2.0\n",
    "#numbers = []       # 0\n",
    "\n",
    "# write here\n",
    "\n"
   ]
  },
  {
   "cell_type": "markdown",
   "metadata": {},
   "source": [
    "##  `break` and `continue`  commands\n",
    "\n",
    "For getting even more control on cycle execution we can use the commands `break` and `continue`\n",
    "\n",
    "<div class=\"alert alert-info\">\n",
    "\n",
    "**NOTE: Use them sparingly!**\n",
    "    \n",
    "When there is a lot of code in the cycle it's easy to 'forget' about their presence and introduce hard-to-discover bugs. On the other hand, in some selected cases these commands may increase code readability, so as everything use your judgement.\n",
    "    \n",
    "</div>\n",
    "\n",
    "\n",
    "### Terminate with a `break`\n",
    "\n",
    "The scheme we've seen to have a terminating `while` is the recommended one, but if we have a condition which does NOT evaluate the variable we are incrementing (like for example the constant expression `True`), as an alternative to immediatly exit the cycle we can use the command `break`:"
   ]
  },
  {
   "cell_type": "code",
   "execution_count": 7,
   "metadata": {},
   "outputs": [
    {
     "name": "stdout",
     "output_type": "stream",
     "text": [
      "Counted 1\n",
      "Counted 2\n",
      "Counted 3\n",
      "Counted 4\n",
      "break! Exiting the loop!\n",
      "Loop is over !\n"
     ]
    }
   ],
   "source": [
    "i = 1\n",
    "while True: \n",
    "    \n",
    "    print('Counted', i)    \n",
    "    \n",
    "    if i > 3:        \n",
    "        print('break! Exiting the loop!')\n",
    "        break    \n",
    "        print('After the break')\n",
    "            \n",
    "    i += 1    \n",
    "\n",
    "print('Loop is over !')"
   ]
  },
  {
   "cell_type": "markdown",
   "metadata": {},
   "source": [
    "Note `After the break` is _not_ shown."
   ]
  },
  {
   "cell_type": "markdown",
   "metadata": {},
   "source": [
    "### Jumping with `continue`\n",
    "\n",
    "We can bring the execution immediately to the next iteration by calling `continue`, which directly jumps to the condition check without executing the instructions after the `continue`. \n",
    "\n",
    "<div class=\"alert alert-warning\">\n",
    "\n",
    "**WARNING:** `continue` **instructions if used carelessly can cause infinite loops !**\n",
    "   \n",
    "When using `continue` ensure it doesn't jump the instriction which modifies the variable used in the termination condition (or it doesn't jump a `break` needed for exiting the cycle)!\n",
    "    \n",
    "</div>"
   ]
  },
  {
   "cell_type": "markdown",
   "metadata": {},
   "source": [
    "To avoid problems here we incremented `i` before the `if` with a `continue`:"
   ]
  },
  {
   "cell_type": "code",
   "execution_count": 8,
   "metadata": {
    "scrolled": true
   },
   "outputs": [
    {
     "name": "stdout",
     "output_type": "stream",
     "text": [
      "Counted 1\n",
      "arrived till the end\n",
      "Counted 2\n",
      "continue, jumping to condition check\n",
      "Counted 3\n",
      "arrived till the end\n",
      "Counted 4\n",
      "continue, jumping to condition check\n",
      "Loop is over !\n"
     ]
    }
   ],
   "source": [
    "i = 1\n",
    "while i < 5:     \n",
    "    print('Counted', i)\n",
    "    \n",
    "    i += 1\n",
    "    \n",
    "    if i % 2 == 1:\n",
    "        print('continue, jumping to condition check')\n",
    "        continue\n",
    "        print('After the continue')\n",
    "    \n",
    "    print('arrived till the end')\n",
    "    \n",
    "print('Loop is over !')"
   ]
  },
  {
   "cell_type": "markdown",
   "metadata": {},
   "source": [
    "Let's try combining `break` and `continue`, and  see what happens in Python Tutor:"
   ]
  },
  {
   "cell_type": "code",
   "execution_count": 9,
   "metadata": {},
   "outputs": [
    {
     "name": "stdout",
     "output_type": "stream",
     "text": [
      "Counted 1\n",
      "arrived till the end\n",
      "Counted 2\n",
      "continue, jumping to next condition check\n",
      "Counted 3\n",
      "arrived till the end\n",
      "Counted 4\n",
      "break! Exiting the cycle!\n",
      "Loop is over !\n"
     ]
    },
    {
     "data": {
      "text/html": [
       "\n",
       "        <script src=\"../_static/js/pytutor-embed.bundle.min.js\" type=\"application/javascript\"></script>\n",
       "     \n",
       "        <script id=\"json-jmacc5b16b-66f3-4205-b407-67c740f3409d\" type=\"application/json\" >\n",
       "            {\"trace\": [{\"func_name\": \"<module>\", \"stdout\": \"\", \"stack_to_render\": [], \"ordered_globals\": [], \"heap\": {}, \"line\": 2, \"event\": \"step_line\", \"globals\": {}}, {\"func_name\": \"<module>\", \"stdout\": \"\", \"stack_to_render\": [], \"ordered_globals\": [\"i\"], \"heap\": {}, \"line\": 3, \"event\": \"step_line\", \"globals\": {\"i\": 1}}, {\"func_name\": \"<module>\", \"stdout\": \"\", \"stack_to_render\": [], \"ordered_globals\": [\"i\"], \"heap\": {}, \"line\": 4, \"event\": \"step_line\", \"globals\": {\"i\": 1}}, {\"func_name\": \"<module>\", \"stdout\": \"Counted 1\\n\", \"stack_to_render\": [], \"ordered_globals\": [\"i\"], \"heap\": {}, \"line\": 5, \"event\": \"step_line\", \"globals\": {\"i\": 1}}, {\"func_name\": \"<module>\", \"stdout\": \"Counted 1\\n\", \"stack_to_render\": [], \"ordered_globals\": [\"i\"], \"heap\": {}, \"line\": 9, \"event\": \"step_line\", \"globals\": {\"i\": 1}}, {\"func_name\": \"<module>\", \"stdout\": \"Counted 1\\n\", \"stack_to_render\": [], \"ordered_globals\": [\"i\"], \"heap\": {}, \"line\": 10, \"event\": \"step_line\", \"globals\": {\"i\": 2}}, {\"func_name\": \"<module>\", \"stdout\": \"Counted 1\\n\", \"stack_to_render\": [], \"ordered_globals\": [\"i\"], \"heap\": {}, \"line\": 14, \"event\": \"step_line\", \"globals\": {\"i\": 2}}, {\"func_name\": \"<module>\", \"stdout\": \"Counted 1\\narrived till the end\\n\", \"stack_to_render\": [], \"ordered_globals\": [\"i\"], \"heap\": {}, \"line\": 3, \"event\": \"step_line\", \"globals\": {\"i\": 2}}, {\"func_name\": \"<module>\", \"stdout\": \"Counted 1\\narrived till the end\\n\", \"stack_to_render\": [], \"ordered_globals\": [\"i\"], \"heap\": {}, \"line\": 4, \"event\": \"step_line\", \"globals\": {\"i\": 2}}, {\"func_name\": \"<module>\", \"stdout\": \"Counted 1\\narrived till the end\\nCounted 2\\n\", \"stack_to_render\": [], \"ordered_globals\": [\"i\"], \"heap\": {}, \"line\": 5, \"event\": \"step_line\", \"globals\": {\"i\": 2}}, {\"func_name\": \"<module>\", \"stdout\": \"Counted 1\\narrived till the end\\nCounted 2\\n\", \"stack_to_render\": [], \"ordered_globals\": [\"i\"], \"heap\": {}, \"line\": 9, \"event\": \"step_line\", \"globals\": {\"i\": 2}}, {\"func_name\": \"<module>\", \"stdout\": \"Counted 1\\narrived till the end\\nCounted 2\\n\", \"stack_to_render\": [], \"ordered_globals\": [\"i\"], \"heap\": {}, \"line\": 10, \"event\": \"step_line\", \"globals\": {\"i\": 3}}, {\"func_name\": \"<module>\", \"stdout\": \"Counted 1\\narrived till the end\\nCounted 2\\n\", \"stack_to_render\": [], \"ordered_globals\": [\"i\"], \"heap\": {}, \"line\": 11, \"event\": \"step_line\", \"globals\": {\"i\": 3}}, {\"func_name\": \"<module>\", \"stdout\": \"Counted 1\\narrived till the end\\nCounted 2\\ncontinue, jumping to next condition check\\n\", \"stack_to_render\": [], \"ordered_globals\": [\"i\"], \"heap\": {}, \"line\": 12, \"event\": \"step_line\", \"globals\": {\"i\": 3}}, {\"func_name\": \"<module>\", \"stdout\": \"Counted 1\\narrived till the end\\nCounted 2\\ncontinue, jumping to next condition check\\n\", \"stack_to_render\": [], \"ordered_globals\": [\"i\"], \"heap\": {}, \"line\": 3, \"event\": \"step_line\", \"globals\": {\"i\": 3}}, {\"func_name\": \"<module>\", \"stdout\": \"Counted 1\\narrived till the end\\nCounted 2\\ncontinue, jumping to next condition check\\n\", \"stack_to_render\": [], \"ordered_globals\": [\"i\"], \"heap\": {}, \"line\": 4, \"event\": \"step_line\", \"globals\": {\"i\": 3}}, {\"func_name\": \"<module>\", \"stdout\": \"Counted 1\\narrived till the end\\nCounted 2\\ncontinue, jumping to next condition check\\nCounted 3\\n\", \"stack_to_render\": [], \"ordered_globals\": [\"i\"], \"heap\": {}, \"line\": 5, \"event\": \"step_line\", \"globals\": {\"i\": 3}}, {\"func_name\": \"<module>\", \"stdout\": \"Counted 1\\narrived till the end\\nCounted 2\\ncontinue, jumping to next condition check\\nCounted 3\\n\", \"stack_to_render\": [], \"ordered_globals\": [\"i\"], \"heap\": {}, \"line\": 9, \"event\": \"step_line\", \"globals\": {\"i\": 3}}, {\"func_name\": \"<module>\", \"stdout\": \"Counted 1\\narrived till the end\\nCounted 2\\ncontinue, jumping to next condition check\\nCounted 3\\n\", \"stack_to_render\": [], \"ordered_globals\": [\"i\"], \"heap\": {}, \"line\": 10, \"event\": \"step_line\", \"globals\": {\"i\": 4}}, {\"func_name\": \"<module>\", \"stdout\": \"Counted 1\\narrived till the end\\nCounted 2\\ncontinue, jumping to next condition check\\nCounted 3\\n\", \"stack_to_render\": [], \"ordered_globals\": [\"i\"], \"heap\": {}, \"line\": 14, \"event\": \"step_line\", \"globals\": {\"i\": 4}}, {\"func_name\": \"<module>\", \"stdout\": \"Counted 1\\narrived till the end\\nCounted 2\\ncontinue, jumping to next condition check\\nCounted 3\\narrived till the end\\n\", \"stack_to_render\": [], \"ordered_globals\": [\"i\"], \"heap\": {}, \"line\": 3, \"event\": \"step_line\", \"globals\": {\"i\": 4}}, {\"func_name\": \"<module>\", \"stdout\": \"Counted 1\\narrived till the end\\nCounted 2\\ncontinue, jumping to next condition check\\nCounted 3\\narrived till the end\\n\", \"stack_to_render\": [], \"ordered_globals\": [\"i\"], \"heap\": {}, \"line\": 4, \"event\": \"step_line\", \"globals\": {\"i\": 4}}, {\"func_name\": \"<module>\", \"stdout\": \"Counted 1\\narrived till the end\\nCounted 2\\ncontinue, jumping to next condition check\\nCounted 3\\narrived till the end\\nCounted 4\\n\", \"stack_to_render\": [], \"ordered_globals\": [\"i\"], \"heap\": {}, \"line\": 5, \"event\": \"step_line\", \"globals\": {\"i\": 4}}, {\"func_name\": \"<module>\", \"stdout\": \"Counted 1\\narrived till the end\\nCounted 2\\ncontinue, jumping to next condition check\\nCounted 3\\narrived till the end\\nCounted 4\\n\", \"stack_to_render\": [], \"ordered_globals\": [\"i\"], \"heap\": {}, \"line\": 6, \"event\": \"step_line\", \"globals\": {\"i\": 4}}, {\"func_name\": \"<module>\", \"stdout\": \"Counted 1\\narrived till the end\\nCounted 2\\ncontinue, jumping to next condition check\\nCounted 3\\narrived till the end\\nCounted 4\\nbreak! Exiting the cycle!\\n\", \"stack_to_render\": [], \"ordered_globals\": [\"i\"], \"heap\": {}, \"line\": 7, \"event\": \"step_line\", \"globals\": {\"i\": 4}}, {\"func_name\": \"<module>\", \"stdout\": \"Counted 1\\narrived till the end\\nCounted 2\\ncontinue, jumping to next condition check\\nCounted 3\\narrived till the end\\nCounted 4\\nbreak! Exiting the cycle!\\n\", \"stack_to_render\": [], \"ordered_globals\": [\"i\"], \"heap\": {}, \"line\": 16, \"event\": \"step_line\", \"globals\": {\"i\": 4}}, {\"func_name\": \"<module>\", \"stdout\": \"Counted 1\\narrived till the end\\nCounted 2\\ncontinue, jumping to next condition check\\nCounted 3\\narrived till the end\\nCounted 4\\nbreak! Exiting the cycle!\\nLoop is over !\\n\", \"stack_to_render\": [], \"ordered_globals\": [\"i\"], \"heap\": {}, \"line\": 16, \"event\": \"return\", \"globals\": {\"i\": 4}}], \"code\": \" \\ni = 1\\nwhile i < 5:     \\n    print('Counted', i)\\n    if i > 3:        \\n        print('break! Exiting the cycle!')\\n        break    \\n        print('After the break')\\n    i += 1    \\n    if i % 2 == 1:\\n        print('continue, jumping to next condition check')\\n        continue\\n        print('After the continue')\\n    print('arrived till the end')\\n    \\nprint('Loop is over !')\"}\n",
       "        </script>\n",
       "        <div id=\"jmacc5b16b-66f3-4205-b407-67c740f3409d\" class=\"pytutorVisualizer\"> </div>\n",
       " \n",
       "        <style>\n",
       "        .vizLayoutTd {\n",
       "            background-color: #fff !important;\n",
       "        }\n",
       "\n",
       "        #pyStdout {            \n",
       "            min-height:25px;\n",
       "        }\n",
       "\n",
       "        /* 'Edit this code' link, hiding because replaces browser tab !!!*/\n",
       "        #editCodeLinkDiv {\n",
       "            display:none;  \n",
       "        }\n",
       "        </style>   \n",
       "                            \n",
       "        <script>\n",
       "        (function(){\n",
       "\n",
       "            var trace = JSON.parse(document.getElementById('json-jmacc5b16b-66f3-4205-b407-67c740f3409d').innerHTML);                                        \n",
       "            // NOTE 1: id without #\n",
       "            // NOTE 2 - maybe there are more predictable ways, but this will work anyway\n",
       "            //        - id should be number\n",
       "            visualizerIdOverride = Math.trunc(Math.random() * 100000000000)\n",
       "            addVisualizerToPage(trace, 'jmacc5b16b-66f3-4205-b407-67c740f3409d',{'embeddedMode' : false,\n",
       "                                             'visualizerIdOverride':visualizerIdOverride})  \n",
       "            \n",
       "            \n",
       "            // set overflow for pytuts - need to do in python as css \n",
       "            // does not allow parent selection\n",
       "            var pytuts = $('.pytutorVisualizer')\n",
       "            pytuts.closest('div.output_html.rendered_html.output_result')\n",
       "                    .css('overflow-x', 'visible')\n",
       "        \n",
       "            //pytuts.closest('div.output_html.rendered_html.output_result')\n",
       "            //      .css('background-color','red')                \n",
       "            \n",
       "        })()\n",
       "        </script>\n",
       "                \n",
       "                "
      ],
      "text/plain": [
       "<IPython.core.display.HTML object>"
      ]
     },
     "execution_count": 9,
     "metadata": {},
     "output_type": "execute_result"
    }
   ],
   "source": [
    "i = 1\n",
    "while i < 5:     \n",
    "    print('Counted', i)\n",
    "    if i > 3:        \n",
    "        print('break! Exiting the cycle!')\n",
    "        break    \n",
    "        print('After the break')\n",
    "    i += 1    \n",
    "    if i % 2 == 1:\n",
    "        print('continue, jumping to next condition check')\n",
    "        continue\n",
    "        print('After the continue')\n",
    "    print('arrived till the end')\n",
    "    \n",
    "print('Loop is over !')\n",
    "\n",
    "jupman.pytut()"
   ]
  },
  {
   "cell_type": "markdown",
   "metadata": {},
   "source": [
    "### Questions about `break`  and  `continue`"
   ]
  },
  {
   "cell_type": "markdown",
   "metadata": {},
   "source": [
    "**QUESTION**: Look at the following code fragments , and for each try guessing the result it produces (or if it gives an error):\n",
    "\n",
    "\n",
    "1.  ```python\n",
    "    i = 1\n",
    "    while i < 4:\n",
    "        print('Counted', i)\n",
    "        i += 1\n",
    "        continue\n",
    "\n",
    "    print('Loop is over !')\n",
    "    ```\n",
    "1.  ```python\n",
    "    i = 1\n",
    "    while i < 4:\n",
    "        print('Counted', i)\n",
    "        continue        \n",
    "        i += 1\n",
    "        \n",
    "    print('Loop is over !')\n",
    "    ```\n",
    "1.  ```python\n",
    "    i = 3\n",
    "    while i > 0:\n",
    "        print('Counted', i)\n",
    "        if i == 2:\n",
    "            print('continue, jumping to condition check')\n",
    "            continue    \n",
    "        i -= 1\n",
    "        print('arrived till the end')\n",
    "        \n",
    "    print('Loop is over !')\n",
    "    ```  \n",
    "1.  ```python\n",
    "    i = 0\n",
    "    while True:\n",
    "        i += 1\n",
    "        print(i)\n",
    "        if i > 3:            \n",
    "            break\n",
    "        \n",
    "    print('BONG')\n",
    "\n",
    "    ```\n",
    "1.  ```python\n",
    "    i = 0\n",
    "    while True:\n",
    "        if i < 3:\n",
    "            continue\n",
    "        else:\n",
    "            break\n",
    "        i += 1\n",
    "\n",
    "    print('ZONG')\n",
    "    ```\n",
    "1.  ```python\n",
    "    i = 0\n",
    "    while True:\n",
    "        i += 1\n",
    "        if i < 3:\n",
    "            continue\n",
    "        else:\n",
    "            break\n",
    "\n",
    "    print('ZANG')\n",
    "    ```    "
   ]
  },
  {
   "cell_type": "markdown",
   "metadata": {},
   "source": [
    "### Exercise - findchar\n",
    "\n",
    "✪✪ Write some code that using a `while`  searches  the character list `la` for a character specified in `car` variable. As soon as the FIRST character occurrence is found, it stops and prints the index where it was found.\n",
    "\n",
    "- if it doesn't find the character, prints a Not found message.\n",
    "\n",
    "Example 1 - given:\n",
    "\n",
    "```python\n",
    "car = 'z'\n",
    "la = ['b','a','f','g','z','h','z','r']\n",
    "```\n",
    "\n",
    "after your code it must print:\n",
    "\n",
    "```\n",
    "Found first z at index 4\n",
    "```\n",
    "\n",
    "Example 2 - given:\n",
    "\n",
    "```python\n",
    "car = 'z'\n",
    "la = ['b','a','f','g','h','r']\n",
    "```\n",
    "\n",
    "must print:\n",
    "\n",
    "```\n",
    "Didn't find z\n",
    "```"
   ]
  },
  {
   "cell_type": "raw",
   "id": "typical-circulation",
   "metadata": {
    "format": "text/html"
   },
   "source": [
    "<a  class=\"jupman-sol jupman-sol-toggler\" \n",
    " onclick=\"jupman.toggleSolution(this);\" \n",
    " data-jupman-show=\"Show solution\" data-jupman-hide=\"Hide\">Show solution</a><div class=\"jupman-sol jupman-sol-code\" style=\"display:none\">  "
   ]
  },
  {
   "cell_type": "code",
   "execution_count": 10,
   "metadata": {},
   "outputs": [
    {
     "name": "stdout",
     "output_type": "stream",
     "text": [
      "Found first z at index 4\n"
     ]
    }
   ],
   "source": [
    "\n",
    "car = 'z'\n",
    "\n",
    "#      0   1   2   3   4   5   6   7\n",
    "la = ['b','a','f','g','z','h','z','r']   # Found first z at index 4\n",
    "#la = ['b','a','f','g','h','r']          # Didn't find z\n",
    "\n",
    "\n",
    "# write here\n",
    "i = 0\n",
    "while i < len(la):\n",
    "    if la[i] == car:\n",
    "        print(\"Found first\", car, \"at index\", i)\n",
    "        break\n",
    "    i += 1\n",
    "if i == len(la):\n",
    "    print(\"Didn't find\", car)"
   ]
  },
  {
   "cell_type": "raw",
   "id": "ranking-jordan",
   "metadata": {
    "format": "text/html"
   },
   "source": [
    "</div>"
   ]
  },
  {
   "cell_type": "code",
   "execution_count": 10,
   "metadata": {},
   "outputs": [
    {
     "name": "stdout",
     "output_type": "stream",
     "text": [
      "Found first z at index 4\n"
     ]
    }
   ],
   "source": [
    "\n",
    "car = 'z'\n",
    "\n",
    "#      0   1   2   3   4   5   6   7\n",
    "la = ['b','a','f','g','z','h','z','r']   # Found first z at index 4\n",
    "#la = ['b','a','f','g','h','r']          # Didn't find z\n",
    "\n",
    "\n",
    "# write here\n",
    "\n"
   ]
  },
  {
   "cell_type": "markdown",
   "metadata": {},
   "source": [
    "## Questions - Are they equivalent?\n",
    "\n",
    "Look at the following code fragments: each contains two parts, A and B. For each value of the variables they depend on, try guessing whether part A will print exactly the same result printed by code in part B\n",
    "\n",
    "* **FIRST** think about the answer\n",
    "* **THEN** try executing with each of the values of suggested variables"
   ]
  },
  {
   "cell_type": "markdown",
   "metadata": {},
   "source": [
    "### Are they equivalent? - BORG\n",
    "\n",
    "```python\n",
    "print('A:')\n",
    "while True:\n",
    "    print('BORG')\n",
    "    break\n",
    "\n",
    "print('\\nB:')\n",
    "while False:\n",
    "    pass\n",
    "print('BORG')\n",
    "```"
   ]
  },
  {
   "cell_type": "markdown",
   "metadata": {},
   "source": [
    "### Are they equivalent? - until 3\n",
    "\n",
    "```python\n",
    "print('A:')\n",
    "x = 0\n",
    "while x < 3:\n",
    "    print(x)\n",
    "    x += 1\n",
    "    \n",
    "print('\\nB:')\n",
    "x = 1\n",
    "while x <= 3:\n",
    "    print(x-1)\n",
    "    x += 1\n",
    "```    "
   ]
  },
  {
   "cell_type": "markdown",
   "metadata": {},
   "source": [
    "### Are they equivalent? - by chance\n",
    "\n",
    "\n",
    "Remember `randint(a, b)` gives back a random integer `N` such that `a <= N <= b`\n",
    "\n",
    "\n",
    "```python\n",
    "print('A:')\n",
    "x = 0\n",
    "while x < 3:\n",
    "    x += 1\n",
    "print(x)  \n",
    "\n",
    "print('\\nB:')\n",
    "x = 0\n",
    "import random\n",
    "while x != 3:\n",
    "    x = random.randint(1,5)\n",
    "print(x)    \n",
    "```"
   ]
  },
  {
   "cell_type": "markdown",
   "metadata": {},
   "source": [
    "\n"
   ]
  },
  {
   "cell_type": "markdown",
   "metadata": {},
   "source": [
    "### Are they equivalent? - until six\n",
    "\n",
    "```python\n",
    "print('A:')\n",
    "i = 0\n",
    "while i < 3:\n",
    "    print(i)\n",
    "    i += 1\n",
    "while i < 6:\n",
    "    print(i)\n",
    "    i += 1 \n",
    "\n",
    "print('\\nB:')\n",
    "i = 0\n",
    "while i < 6:\n",
    "    print(i)\n",
    "    i += 1 \n",
    "```"
   ]
  },
  {
   "cell_type": "markdown",
   "metadata": {},
   "source": [
    "### Are they equivalent? - countdown 1\n",
    "\n",
    "```python\n",
    "print('A:')\n",
    "i = 2\n",
    "print(i)\n",
    "while i > 0:\n",
    "    i -= 1\n",
    "    print(i)\n",
    "\n",
    "print('\\nB:')\n",
    "i = 2\n",
    "while i > 0:\n",
    "    print(i)\n",
    "    i -= 1  \n",
    "```"
   ]
  },
  {
   "cell_type": "markdown",
   "metadata": {},
   "source": [
    "### Are they equivalent? - countdown 2\n",
    "\n",
    "```python\n",
    "print('A:')\n",
    "i = 2\n",
    "print(i)\n",
    "while i > 0:\n",
    "    i -= 1\n",
    "    print(i)\n",
    "\n",
    "print('\\nB:')\n",
    "i = 2\n",
    "while i > 0:\n",
    "    print(i)\n",
    "    i -= 1  \n",
    "print(i)\n",
    "```"
   ]
  },
  {
   "cell_type": "markdown",
   "metadata": {},
   "source": [
    "### Are they equivalent? - sorcery\n",
    "\n",
    "```python\n",
    "print('A:')\n",
    "s = 'sorcery'\n",
    "i = 0\n",
    "while s[i] != 'g':\n",
    "    i += 1\n",
    "print(s[i:])\n",
    "    \n",
    "print('B:')    \n",
    "s = 'sorcery'\n",
    "i = len(s)\n",
    "while s[i] != 'g':\n",
    "    i -= 1\n",
    "print(s[i:]) \n",
    "```"
   ]
  },
  {
   "cell_type": "markdown",
   "metadata": {},
   "source": [
    "### Are they equivalent?  - ping pong\n",
    "\n",
    "\n",
    "```python\n",
    "print('A:')\n",
    "ping,pong = 0,3\n",
    "while ping < 3 or pong > 0:\n",
    "    print(ping,pong)\n",
    "    ping += 1\n",
    "    pong -= 1\n",
    "    \n",
    "print('\\nB:')    \n",
    "ping,pong = 0,3\n",
    "while not(ping >= 3 and pong <= 0):\n",
    "    print(ping,pong)\n",
    "    ping += 1\n",
    "    pong -= 1\n",
    "```"
   ]
  },
  {
   "cell_type": "markdown",
   "metadata": {},
   "source": [
    "### Are they equivalent? - zanna\n",
    "\n",
    "```python\n",
    "print('A:')\n",
    "n,i,s = 0,0,'zanna'\n",
    "while i < len(s):\n",
    "    if s[i] == 'n':\n",
    "        n += 1\n",
    "    i += 1\n",
    "print(n)\n",
    "\n",
    "print('\\nB:')\n",
    "n,i,s = 0,0,'zanna'\n",
    "while i < len(s):\n",
    "    i += 1\n",
    "    if s[i-1] == 'n':\n",
    "        n += 1    \n",
    "print(n)\n",
    "```"
   ]
  },
  {
   "cell_type": "markdown",
   "metadata": {},
   "source": [
    "### Are they equivalent? - pasticcio\n",
    "\n",
    "\n",
    "```python\n",
    "print('A:')\n",
    "c,i,s = 0,0,'pasticcio'\n",
    "while i < len(s):\n",
    "    if s[i] == 'c':\n",
    "        c += 1\n",
    "    i += 1\n",
    "print(c)\n",
    "\n",
    "print('\\nB:')\n",
    "no,k,s = 0,0,'pasticcio'\n",
    "while k < len(s):\n",
    "    if s[k] != 'c':\n",
    "        no += 1\n",
    "    else:\n",
    "        k += 1\n",
    "print(len(s) - no)\n",
    "```\n",
    "    "
   ]
  },
  {
   "cell_type": "markdown",
   "metadata": {},
   "source": [
    "## Exercises - counters"
   ]
  },
  {
   "cell_type": "markdown",
   "metadata": {},
   "source": [
    "### Exercise - don't break 1\n",
    "\n",
    "✪ Look at the following code, and write in the following cell some code which produces the same result with a `while` and **without using** `break`"
   ]
  },
  {
   "cell_type": "code",
   "execution_count": 11,
   "metadata": {},
   "outputs": [
    {
     "name": "stdout",
     "output_type": "stream",
     "text": [
      "3\n",
      "2\n",
      "1\n",
      "0\n"
     ]
    }
   ],
   "source": [
    "x = 3\n",
    "while True:\n",
    "    print(x)\n",
    "    if x == 0:\n",
    "        break\n",
    "    x -= 1"
   ]
  },
  {
   "cell_type": "raw",
   "id": "aware-accuracy",
   "metadata": {
    "format": "text/html"
   },
   "source": [
    "<a  class=\"jupman-sol jupman-sol-toggler\" \n",
    " onclick=\"jupman.toggleSolution(this);\" \n",
    " data-jupman-show=\"Show solution\" data-jupman-hide=\"Hide\">Show solution</a><div class=\"jupman-sol jupman-sol-code\" style=\"display:none\">  "
   ]
  },
  {
   "cell_type": "code",
   "execution_count": 12,
   "metadata": {},
   "outputs": [
    {
     "name": "stdout",
     "output_type": "stream",
     "text": [
      "3\n",
      "2\n",
      "1\n",
      "0\n"
     ]
    }
   ],
   "source": [
    "x = 3\n",
    "\n",
    "# write here\n",
    "\n",
    "while x >= 0:\n",
    "    print(x)    \n",
    "    x -= 1"
   ]
  },
  {
   "cell_type": "raw",
   "id": "accessible-yugoslavia",
   "metadata": {
    "format": "text/html"
   },
   "source": [
    "</div>"
   ]
  },
  {
   "cell_type": "code",
   "execution_count": 12,
   "metadata": {},
   "outputs": [
    {
     "name": "stdout",
     "output_type": "stream",
     "text": [
      "3\n",
      "2\n",
      "1\n",
      "0\n"
     ]
    }
   ],
   "source": [
    "x = 3\n",
    "\n",
    "# write here\n",
    "\n"
   ]
  },
  {
   "cell_type": "markdown",
   "metadata": {},
   "source": [
    "### Exercise - don't break 2\n",
    "\n",
    "✪ Look at the following code, and write in the following cell some code which produces the same result with a `while` and **without using** `break`"
   ]
  },
  {
   "cell_type": "code",
   "execution_count": 13,
   "metadata": {},
   "outputs": [
    {
     "name": "stdout",
     "output_type": "stream",
     "text": [
      "2\n",
      "3\n",
      "7\n"
     ]
    }
   ],
   "source": [
    "la = [2,3,7,5,6]\n",
    "k = 7   # 2 3 7\n",
    "#k = 5  # 2 3 7 5 6\n",
    "#k = 13 # 2 3 7 5 6\n",
    "\n",
    "i = 0\n",
    "while True:    \n",
    "    print(la[i])\n",
    "    if i >= len(la)-1 or la[i] == k:        \n",
    "        break\n",
    "    else:\n",
    "        i += 1"
   ]
  },
  {
   "cell_type": "raw",
   "id": "indoor-justice",
   "metadata": {
    "format": "text/html"
   },
   "source": [
    "<a  class=\"jupman-sol jupman-sol-toggler\" \n",
    " onclick=\"jupman.toggleSolution(this);\" \n",
    " data-jupman-show=\"Show solution\" data-jupman-hide=\"Hide\">Show solution</a><div class=\"jupman-sol jupman-sol-code\" style=\"display:none\">  "
   ]
  },
  {
   "cell_type": "code",
   "execution_count": 14,
   "metadata": {},
   "outputs": [
    {
     "name": "stdout",
     "output_type": "stream",
     "text": [
      "2\n",
      "3\n",
      "7\n"
     ]
    }
   ],
   "source": [
    "la = [2,3,7,5,6]\n",
    "k = 7   # 2 3 7\n",
    "#k = 6  # 2 3 7 5 6\n",
    "#k = 13 # 2 3 7 5 6\n",
    "\n",
    "i = 0\n",
    "\n",
    "# write here\n",
    "\n",
    "while i < len(la) and la[i] != k:\n",
    "    print(la[i])\n",
    "    i += 1\n",
    "if i < len(la) and la[i] == k:\n",
    "    print(la[i])\n",
    "    "
   ]
  },
  {
   "cell_type": "raw",
   "id": "finnish-rendering",
   "metadata": {
    "format": "text/html"
   },
   "source": [
    "</div>"
   ]
  },
  {
   "cell_type": "code",
   "execution_count": 14,
   "metadata": {},
   "outputs": [
    {
     "name": "stdout",
     "output_type": "stream",
     "text": [
      "2\n",
      "3\n",
      "7\n"
     ]
    }
   ],
   "source": [
    "la = [2,3,7,5,6]\n",
    "k = 7   # 2 3 7\n",
    "#k = 6  # 2 3 7 5 6\n",
    "#k = 13 # 2 3 7 5 6\n",
    "\n",
    "i = 0\n",
    "\n",
    "# write here\n",
    "\n"
   ]
  },
  {
   "cell_type": "markdown",
   "metadata": {},
   "source": [
    "### Exercise - Give me a break\n",
    "\n",
    "✪ Look at the following code, and write in the next cell some code which produces the same result with a `while` **this time using a** `break`"
   ]
  },
  {
   "cell_type": "code",
   "execution_count": 15,
   "metadata": {},
   "outputs": [
    {
     "name": "stdout",
     "output_type": "stream",
     "text": [
      "(1, 5)\n",
      "(2, 4)\n"
     ]
    }
   ],
   "source": [
    "\n",
    "x,y = 1,5    # (1,5)  (2,4)\n",
    "#x,y = 2,8   # (2, 8) (3, 7) (4, 6)\n",
    "\n",
    "while x < y or x == 4:\n",
    "    print((x,y))\n",
    "    x += 1 \n",
    "    y -= 1"
   ]
  },
  {
   "cell_type": "raw",
   "id": "innovative-leadership",
   "metadata": {
    "format": "text/html"
   },
   "source": [
    "<a  class=\"jupman-sol jupman-sol-toggler\" \n",
    " onclick=\"jupman.toggleSolution(this);\" \n",
    " data-jupman-show=\"Show solution\" data-jupman-hide=\"Hide\">Show solution</a><div class=\"jupman-sol jupman-sol-code\" style=\"display:none\">  "
   ]
  },
  {
   "cell_type": "code",
   "execution_count": 16,
   "metadata": {},
   "outputs": [
    {
     "name": "stdout",
     "output_type": "stream",
     "text": [
      "(1, 5)\n",
      "(2, 4)\n"
     ]
    }
   ],
   "source": [
    "x,y = 1,5    # (1,5)  (2,4)\n",
    "#x,y = 2,8   # (2, 8) (3, 7) (4, 6)\n",
    "\n",
    "# write here\n",
    "while True:\n",
    "    \n",
    "    if x >= y or x == 4:\n",
    "        break\n",
    "    else:\n",
    "        print((x,y))\n",
    "        x += 1 \n",
    "        y -= 1\n",
    "        \n",
    "if x < y or x == 4:\n",
    "    print((x,y))"
   ]
  },
  {
   "cell_type": "raw",
   "id": "anonymous-childhood",
   "metadata": {
    "format": "text/html"
   },
   "source": [
    "</div>"
   ]
  },
  {
   "cell_type": "code",
   "execution_count": 16,
   "metadata": {},
   "outputs": [
    {
     "name": "stdout",
     "output_type": "stream",
     "text": [
      "(1, 5)\n",
      "(2, 4)\n"
     ]
    }
   ],
   "source": [
    "x,y = 1,5    # (1,5)  (2,4)\n",
    "#x,y = 2,8   # (2, 8) (3, 7) (4, 6)\n",
    "\n",
    "# write here\n",
    "\n"
   ]
  },
  {
   "cell_type": "markdown",
   "metadata": {},
   "source": [
    "\n",
    "### Exercise - paperboard\n",
    "\n",
    "✪ Prints integer numbers from `0` to `k` INCLUDED using a `while`, and for each number prints to its side one among the strings `'PA'`, `'PER'` and `'BOARD'` alternating them\n",
    "\n",
    "Ex - for `k=8` prints\n",
    "\n",
    "```\n",
    "0 PA\n",
    "1 PER\n",
    "2 BOARD\n",
    "3 PA\n",
    "4 PER\n",
    "5 BOARD\n",
    "6 PA\n",
    "7 PER\n",
    "8 BOARD\n",
    "```"
   ]
  },
  {
   "cell_type": "raw",
   "id": "prospective-cleveland",
   "metadata": {
    "format": "text/html"
   },
   "source": [
    "<a  class=\"jupman-sol jupman-sol-toggler\" \n",
    " onclick=\"jupman.toggleSolution(this);\" \n",
    " data-jupman-show=\"Show solution\" data-jupman-hide=\"Hide\">Show solution</a><div class=\"jupman-sol jupman-sol-code\" style=\"display:none\">  "
   ]
  },
  {
   "cell_type": "code",
   "execution_count": 17,
   "metadata": {},
   "outputs": [
    {
     "name": "stdout",
     "output_type": "stream",
     "text": [
      "0 PA\n",
      "1 PER\n",
      "2 BOARD\n",
      "3 PA\n",
      "4 PER\n",
      "5 BOARD\n",
      "6 PA\n",
      "7 PER\n",
      "8 BOARD\n"
     ]
    }
   ],
   "source": [
    "k = 8\n",
    "\n",
    "# write here\n",
    "x = 0\n",
    "while x <= k:\n",
    "    if x % 3 == 0:\n",
    "        print(x, 'PA')\n",
    "    elif x % 3 == 1:\n",
    "        print(x, 'PER')\n",
    "    else:\n",
    "        print(x, 'BOARD')\n",
    "    x += 1"
   ]
  },
  {
   "cell_type": "raw",
   "id": "answering-latter",
   "metadata": {
    "format": "text/html"
   },
   "source": [
    "</div>"
   ]
  },
  {
   "cell_type": "code",
   "execution_count": 17,
   "metadata": {},
   "outputs": [
    {
     "name": "stdout",
     "output_type": "stream",
     "text": [
      "0 PA\n",
      "1 PER\n",
      "2 BOARD\n",
      "3 PA\n",
      "4 PER\n",
      "5 BOARD\n",
      "6 PA\n",
      "7 PER\n",
      "8 BOARD\n"
     ]
    }
   ],
   "source": [
    "k = 8\n",
    "\n",
    "# write here\n",
    "\n"
   ]
  },
  {
   "cell_type": "markdown",
   "metadata": {},
   "source": [
    "### Exercise - until ten\n",
    "\n",
    "✪ Given two numbers `x` and `y`, write some code with a `while` which prints  and  increments the numbers, stopping as soon as one of them reaches ten.\n",
    "\n",
    "\n",
    "```python\n",
    "x,y = 5,7\n",
    "```\n",
    "\n",
    "after your code it must result:\n",
    "\n",
    "```\n",
    "5 7\n",
    "6 8\n",
    "7 9\n",
    "8 10\n",
    "```"
   ]
  },
  {
   "cell_type": "raw",
   "id": "thermal-chuck",
   "metadata": {
    "format": "text/html"
   },
   "source": [
    "<a  class=\"jupman-sol jupman-sol-toggler\" \n",
    " onclick=\"jupman.toggleSolution(this);\" \n",
    " data-jupman-show=\"Show solution\" data-jupman-hide=\"Hide\">Show solution</a><div class=\"jupman-sol jupman-sol-code\" style=\"display:none\">  "
   ]
  },
  {
   "cell_type": "code",
   "execution_count": 18,
   "metadata": {},
   "outputs": [
    {
     "name": "stdout",
     "output_type": "stream",
     "text": [
      "5 7\n",
      "6 8\n",
      "7 9\n",
      "8 10\n"
     ]
    }
   ],
   "source": [
    "x,y = 5,7\n",
    "#x,y = 8,4\n",
    "\n",
    "# write here\n",
    "while x <= 10 and y <= 10:\n",
    "    print(x,y)\n",
    "    x += 1\n",
    "    y += 1"
   ]
  },
  {
   "cell_type": "raw",
   "id": "collectible-likelihood",
   "metadata": {
    "format": "text/html"
   },
   "source": [
    "</div>"
   ]
  },
  {
   "cell_type": "code",
   "execution_count": 18,
   "metadata": {},
   "outputs": [
    {
     "name": "stdout",
     "output_type": "stream",
     "text": [
      "5 7\n",
      "6 8\n",
      "7 9\n",
      "8 10\n"
     ]
    }
   ],
   "source": [
    "x,y = 5,7\n",
    "#x,y = 8,4\n",
    "\n",
    "# write here\n",
    "\n"
   ]
  },
  {
   "cell_type": "markdown",
   "metadata": {},
   "source": [
    "### Exercise - cccc\n",
    "\n",
    "✪ Write some code using a `while` which given a number `y`, prints `y` rows containing the character `c` as many times as the row number.\n",
    "\n",
    "Example - given:\n",
    "\n",
    "```python\n",
    "y = 4\n",
    "``` \n",
    "\n",
    "Prints:\n",
    "\n",
    "```\n",
    "c\n",
    "cc\n",
    "ccc\n",
    "cccc\n",
    "```"
   ]
  },
  {
   "cell_type": "raw",
   "id": "developmental-chinese",
   "metadata": {
    "format": "text/html"
   },
   "source": [
    "<a  class=\"jupman-sol jupman-sol-toggler\" \n",
    " onclick=\"jupman.toggleSolution(this);\" \n",
    " data-jupman-show=\"Show solution\" data-jupman-hide=\"Hide\">Show solution</a><div class=\"jupman-sol jupman-sol-code\" style=\"display:none\">  "
   ]
  },
  {
   "cell_type": "code",
   "execution_count": 19,
   "metadata": {},
   "outputs": [
    {
     "name": "stdout",
     "output_type": "stream",
     "text": [
      "\n",
      "c\n",
      "cc\n",
      "ccc\n",
      "cccc\n"
     ]
    }
   ],
   "source": [
    "\n",
    "y = 4\n",
    "\n",
    "# write here\n",
    "x = 0\n",
    "while x <= y:\n",
    "    print('c'*x)\n",
    "    x += 1"
   ]
  },
  {
   "cell_type": "raw",
   "id": "separated-monroe",
   "metadata": {
    "format": "text/html"
   },
   "source": [
    "</div>"
   ]
  },
  {
   "cell_type": "code",
   "execution_count": 19,
   "metadata": {},
   "outputs": [
    {
     "name": "stdout",
     "output_type": "stream",
     "text": [
      "\n",
      "c\n",
      "cc\n",
      "ccc\n",
      "cccc\n"
     ]
    }
   ],
   "source": [
    "\n",
    "y = 4\n",
    "\n",
    "# write here\n",
    "\n"
   ]
  },
  {
   "cell_type": "markdown",
   "metadata": {},
   "source": [
    "### Exercise - converge\n",
    "\n",
    "✪ Given two numbers `x` and `k`, using a `while` modify and print `x` until it reaches `k` included\n",
    "\n",
    "* **NOTE**: `k` can either be greater or lesser than `x`, you must handle both cases\n",
    "\n",
    "Example 1 - given:\n",
    "\n",
    "```python\n",
    "x,k = 3,5    \n",
    "```\n",
    "prints:\n",
    "\n",
    "```\n",
    "3\n",
    "4\n",
    "5\n",
    "```\n",
    "\n",
    "Example 2 - given:\n",
    "\n",
    "```python\n",
    "x,k = 6,2\n",
    "```\n",
    "\n",
    "prints:\n",
    "\n",
    "```\n",
    "6\n",
    "5\n",
    "4\n",
    "3\n",
    "2\n",
    "```"
   ]
  },
  {
   "cell_type": "raw",
   "id": "restricted-motel",
   "metadata": {
    "format": "text/html"
   },
   "source": [
    "<a  class=\"jupman-sol jupman-sol-toggler\" \n",
    " onclick=\"jupman.toggleSolution(this);\" \n",
    " data-jupman-show=\"Show solution\" data-jupman-hide=\"Hide\">Show solution</a><div class=\"jupman-sol jupman-sol-code\" style=\"display:none\">  "
   ]
  },
  {
   "cell_type": "code",
   "execution_count": 20,
   "metadata": {},
   "outputs": [
    {
     "name": "stdout",
     "output_type": "stream",
     "text": [
      "3\n",
      "4\n",
      "5\n"
     ]
    }
   ],
   "source": [
    "\n",
    "x,k = 3,5    # 3 4 5\n",
    "#x,k = 6,2   # 6 5 4 3 2\n",
    "#x,k = 4,4   # 4\n",
    "\n",
    "# write here\n",
    "\n",
    "while x != k:\n",
    "    print(x)\n",
    "    if x < k:\n",
    "        x += 1\n",
    "    else:\n",
    "        x -= 1\n",
    "print(x)"
   ]
  },
  {
   "cell_type": "raw",
   "id": "likely-exhibition",
   "metadata": {
    "format": "text/html"
   },
   "source": [
    "</div>"
   ]
  },
  {
   "cell_type": "code",
   "execution_count": 20,
   "metadata": {},
   "outputs": [
    {
     "name": "stdout",
     "output_type": "stream",
     "text": [
      "3\n",
      "4\n",
      "5\n"
     ]
    }
   ],
   "source": [
    "\n",
    "x,k = 3,5    # 3 4 5\n",
    "#x,k = 6,2   # 6 5 4 3 2\n",
    "#x,k = 4,4   # 4\n",
    "\n",
    "# write here\n",
    "\n"
   ]
  },
  {
   "cell_type": "markdown",
   "metadata": {},
   "source": [
    "### Exercise - wow\n",
    "\n",
    "✪ Given a list of strings `la`, write some code that searches inside the list for the first occurrence of a string beginning with the character `2` (for example `'wow'`. As soon as it is found, the program stops and prints `Found wow`. Otherwise, prints `Not found!` Use a `while` cycle.\n",
    "\n",
    "Example 1 - given:\n",
    "\n",
    "```python\n",
    "la = ['a','d','g','wow','f','wonder','r']    \n",
    "```\n",
    "\n",
    "Prints:\n",
    "\n",
    "```\n",
    "examined a\n",
    "examined d\n",
    "examined g\n",
    "Found wow\n",
    "```\n",
    "\n",
    "Example 2 - given:\n",
    "\n",
    "```python\n",
    "la = ['d','v','q','c','e']                \n",
    "```\n",
    "\n",
    "Prints:\n",
    "\n",
    "```\n",
    "examined d\n",
    "examined v\n",
    "examined q\n",
    "examined c\n",
    "examined e\n",
    "Not found!\n",
    "```\n"
   ]
  },
  {
   "cell_type": "raw",
   "id": "bigger-russell",
   "metadata": {
    "format": "text/html"
   },
   "source": [
    "<a  class=\"jupman-sol jupman-sol-toggler\" \n",
    " onclick=\"jupman.toggleSolution(this);\" \n",
    " data-jupman-show=\"Show solution\" data-jupman-hide=\"Hide\">Show solution</a><div class=\"jupman-sol jupman-sol-code\" style=\"display:none\">  "
   ]
  },
  {
   "cell_type": "code",
   "execution_count": 21,
   "metadata": {},
   "outputs": [
    {
     "name": "stdout",
     "output_type": "stream",
     "text": [
      "examined a\n",
      "examined d\n",
      "examined g\n",
      "Found wow\n"
     ]
    }
   ],
   "source": [
    "la = ['a','d','g','wow','f','wonder','r']      # a d g Found wow\n",
    "#la = ['a','d','g','f','wonder','r', 'woman']  # a d g f Found wonder\n",
    "#la = ['d','v','q','c','e']                    # d v q c e Not found!\n",
    "\n",
    "# write here\n",
    "\n",
    "i = 0\n",
    "while i < len(la) and la[i][0] != 'w':\n",
    "    print('examined',la[i])\n",
    "    i += 1\n",
    "\n",
    "if i < len(la) and la[i][0] == 'w':\n",
    "    print('Found', la[i])\n",
    "else:\n",
    "    print('Not found!')"
   ]
  },
  {
   "cell_type": "raw",
   "id": "connected-kidney",
   "metadata": {
    "format": "text/html"
   },
   "source": [
    "</div>"
   ]
  },
  {
   "cell_type": "code",
   "execution_count": 21,
   "metadata": {},
   "outputs": [
    {
     "name": "stdout",
     "output_type": "stream",
     "text": [
      "examined a\n",
      "examined d\n",
      "examined g\n",
      "Found wow\n"
     ]
    }
   ],
   "source": [
    "la = ['a','d','g','wow','f','wonder','r']      # a d g Found wow\n",
    "#la = ['a','d','g','f','wonder','r', 'woman']  # a d g f Found wonder\n",
    "#la = ['d','v','q','c','e']                    # d v q c e Not found!\n",
    "\n",
    "# write here\n",
    "\n"
   ]
  },
  {
   "cell_type": "markdown",
   "metadata": {},
   "source": [
    "### Exercise - Wild West\n",
    "\n",
    "✪✪ The two outlaws Carson and Butch agreed to bury a treasure in the jolly town of Tombstone, ma now each of them wants to take back the treasure without sharing anything with the partner.\n",
    "\n",
    "- For arriving to the treasure there is a `road` from `Santa Fe` until `Tombstone` which we represent as a list of strings\n",
    "- we use two indexes `butch` and `carson` to represent where the outlaws are on the road\n",
    "- each outlaw starts from a different town\n",
    "- at each turn Carson moves of **one** city\n",
    "- at each turn Butch moves of **two** cities, because he has a fast Mustang horse\n",
    "\n",
    "Write some code which prints the run and terminates as soon as one them arrives to the last city, telling who got the treasure.\n",
    "\n",
    "* In the case both outlaws arrive to the last city at the same time, prints `Final duel in Tombstone!`\n",
    "\n",
    "- your code must work for _any_ `road` and initial position `carson` and `butch`\n",
    "\n",
    "Example - 1 given:\n",
    "\n",
    "```python\n",
    "#             0         1          2           3            4               5\n",
    "road = ['Santa Fe','Denver','Dodge City', 'Silverton', 'Agua Caliente', 'Tombstone']\n",
    "carson,butch  = 3, 0   \n",
    "```\n",
    "\n",
    "it must print:\n",
    "\n",
    "```\n",
    "Carson starts from Silverton\n",
    "Butch starts from Santa Fe\n",
    "Carson reaches Agua Caliente\n",
    "Butch reaches Dodge City\n",
    "Carson reaches Tombstone\n",
    "Butch reaches Agua Caliente\n",
    "\n",
    "Carson takes the treasure in  Tombstone !\n",
    "```\n",
    "\n",
    "Example 2 - given:\n",
    "\n",
    "```python\n",
    "#            0         1          2           3              4               5\n",
    "road = ['Santa Fe','Denver','Dodge City', 'Silverton', 'Agua Caliente', 'Tombstone']\n",
    "carson,butch  = 3, 2    \n",
    "```\n",
    "\n",
    "it must print:\n",
    "\n",
    "```\n",
    "Carson starts from Silverton\n",
    "Butch starts from Dodge City\n",
    "Carson reaches Agua Caliente\n",
    "Butch reaches Agua Caliente\n",
    "Carson reaches Tombstone\n",
    "Butch reaches Tombstone\n",
    "\n",
    "Final duel in  Tombstone !\n",
    "```"
   ]
  },
  {
   "cell_type": "raw",
   "id": "lovely-interface",
   "metadata": {
    "format": "text/html"
   },
   "source": [
    "<a  class=\"jupman-sol jupman-sol-toggler\" \n",
    " onclick=\"jupman.toggleSolution(this);\" \n",
    " data-jupman-show=\"Show solution\" data-jupman-hide=\"Hide\">Show solution</a><div class=\"jupman-sol jupman-sol-code\" style=\"display:none\">  "
   ]
  },
  {
   "cell_type": "code",
   "execution_count": 22,
   "metadata": {
    "scrolled": true
   },
   "outputs": [
    {
     "name": "stdout",
     "output_type": "stream",
     "text": [
      "Carson starts from Silverton\n",
      "Butch starts from Santa Fe\n",
      "Carson reaches Agua Caliente\n",
      "Butch reaches Dodge City\n",
      "Carson reaches Tombstone\n",
      "Butch reaches Agua Caliente\n",
      "\n",
      "Carson takes the treasure in  Tombstone !\n"
     ]
    }
   ],
   "source": [
    "#           0          1         2              3              4              5 \n",
    "road = ['Santa Fe','Denver','Dodge City', 'Silverton', 'Agua Caliente', 'Tombstone']\n",
    "\n",
    "carson,butch  = 3, 0    #  Carson takes the treasure in Tombstone !\n",
    "#carson,butch  = 0, 0   #  Butch takes the treasure in Tombstone !\n",
    "#carson,butch  = 3, 2   #  Final duel in Tombstone !\n",
    "\n",
    "# write here\n",
    "\n",
    "print('Carson starts from', road[carson])\n",
    "print('Butch starts from', road[butch])\n",
    "\n",
    "while carson < len(road)-1 and butch < len(road)-1:\n",
    "    carson = min(len(road)-1, carson + 1)\n",
    "    butch = min(len(road)-1, butch + 2)\n",
    "    print('Carson reaches', road[carson])\n",
    "    print('Butch reaches', road[butch])\n",
    "    \n",
    "    \n",
    "print()\n",
    "if carson == len(road)-1 and butch == len(road)-1:\n",
    "    print('Final duel in ', road[-1], '!')\n",
    "elif carson == len(road)-1:\n",
    "    print('Carson takes the treasure in ', road[-1], '!')\n",
    "else: \n",
    "    print('Butch takes the treasure in ', road[-1], '!')"
   ]
  },
  {
   "cell_type": "raw",
   "id": "prerequisite-deficit",
   "metadata": {
    "format": "text/html"
   },
   "source": [
    "</div>"
   ]
  },
  {
   "cell_type": "code",
   "execution_count": 22,
   "metadata": {
    "scrolled": true
   },
   "outputs": [
    {
     "name": "stdout",
     "output_type": "stream",
     "text": [
      "Carson starts from Silverton\n",
      "Butch starts from Santa Fe\n",
      "Carson reaches Agua Caliente\n",
      "Butch reaches Dodge City\n",
      "Carson reaches Tombstone\n",
      "Butch reaches Agua Caliente\n",
      "\n",
      "Carson takes the treasure in  Tombstone !\n"
     ]
    }
   ],
   "source": [
    "#           0          1         2              3              4              5 \n",
    "road = ['Santa Fe','Denver','Dodge City', 'Silverton', 'Agua Caliente', 'Tombstone']\n",
    "\n",
    "carson,butch  = 3, 0    #  Carson takes the treasure in Tombstone !\n",
    "#carson,butch  = 0, 0   #  Butch takes the treasure in Tombstone !\n",
    "#carson,butch  = 3, 2   #  Final duel in Tombstone !\n",
    "\n",
    "# write here\n",
    "\n"
   ]
  },
  {
   "cell_type": "markdown",
   "metadata": {},
   "source": [
    "## Modifying sequences\n",
    "\n",
    "In the tutorial on `for` loops we've seen an important warning we repeat here:\n",
    "\n",
    "<div class=\"alert alert-info\" >\n",
    "\n",
    "[X COMMANDMENT](https://en.softpython.org/commandments.html#X-COMMANDMENT): \n",
    "**You shall never ever add or remove elements from a sequence you are iterating with a** `for` **!**\n",
    "\n",
    "\n",
    "Falling into such temptations **would produce totally unpredictable behaviours** (do you know the expression _pulling the rug out from under your feet ?_ )\n",
    "\n",
    "**If you really need to remove elements from a sequence you are iterating**, use a while cycle or duplicate first a copy of the original sequence.    \n",
    "</div>\n",
    "\n",
    "**Note the advice is only about** `for` **cycles**. In case of necessity, at the end suggests to adopt `while` loops. Let's see when and how ot use them."
   ]
  },
  {
   "cell_type": "markdown",
   "metadata": {},
   "source": [
    "### Stack - Drawing from a card deck\n",
    "\n",
    "Suppose having a deck of cards which we represent as a list of strings, and we want to draw all the cards, reading them one by one.\n",
    "\n",
    "We can write a `while` that as long as the deck contains cards, keeps removing cards from the top with the [pop method](https://en.softpython.org/lists/lists3-sol.html#pop-method) and prints their name. Remember `pop` MODIFIES the list by removing the last element AND gives back the element as call result, which we can save in a variable we will call `card`:"
   ]
  },
  {
   "cell_type": "code",
   "execution_count": 23,
   "metadata": {},
   "outputs": [
    {
     "name": "stdout",
     "output_type": "stream",
     "text": [
      "Drawn 8 clubs\n",
      "Drawn 5 diamonds\n",
      "Drawn 9 hearts\n",
      "Drawn 2 spades\n",
      "Drawn 3 hearts\n",
      "No more cards!\n"
     ]
    },
    {
     "data": {
      "text/html": [
       "\n",
       "        <script src=\"../_static/js/pytutor-embed.bundle.min.js\" type=\"application/javascript\"></script>\n",
       "     \n",
       "        <script id=\"json-jm9e630f5b-2f60-489e-9577-a58ac492b1a5\" type=\"application/json\" >\n",
       "            {\"trace\": [{\"func_name\": \"<module>\", \"stdout\": \"\", \"stack_to_render\": [], \"ordered_globals\": [], \"heap\": {}, \"line\": 2, \"event\": \"step_line\", \"globals\": {}}, {\"func_name\": \"<module>\", \"stdout\": \"\", \"stack_to_render\": [], \"ordered_globals\": [], \"heap\": {}, \"line\": 3, \"event\": \"step_line\", \"globals\": {}}, {\"func_name\": \"<module>\", \"stdout\": \"\", \"stack_to_render\": [], \"ordered_globals\": [], \"heap\": {}, \"line\": 4, \"event\": \"step_line\", \"globals\": {}}, {\"func_name\": \"<module>\", \"stdout\": \"\", \"stack_to_render\": [], \"ordered_globals\": [], \"heap\": {}, \"line\": 5, \"event\": \"step_line\", \"globals\": {}}, {\"func_name\": \"<module>\", \"stdout\": \"\", \"stack_to_render\": [], \"ordered_globals\": [], \"heap\": {}, \"line\": 6, \"event\": \"step_line\", \"globals\": {}}, {\"func_name\": \"<module>\", \"stdout\": \"\", \"stack_to_render\": [], \"ordered_globals\": [\"deck\"], \"heap\": {\"1\": [\"LIST\", \"3 hearts\", \"2 spades\", \"9 hearts\", \"5 diamonds\", \"8 clubs\"]}, \"line\": 8, \"event\": \"step_line\", \"globals\": {\"deck\": [\"REF\", 1]}}, {\"func_name\": \"<module>\", \"stdout\": \"\", \"stack_to_render\": [], \"ordered_globals\": [\"deck\"], \"heap\": {\"1\": [\"LIST\", \"3 hearts\", \"2 spades\", \"9 hearts\", \"5 diamonds\", \"8 clubs\"]}, \"line\": 9, \"event\": \"step_line\", \"globals\": {\"deck\": [\"REF\", 1]}}, {\"func_name\": \"<module>\", \"stdout\": \"\", \"stack_to_render\": [], \"ordered_globals\": [\"deck\", \"card\"], \"heap\": {\"1\": [\"LIST\", \"3 hearts\", \"2 spades\", \"9 hearts\", \"5 diamonds\"]}, \"line\": 10, \"event\": \"step_line\", \"globals\": {\"card\": \"8 clubs\", \"deck\": [\"REF\", 1]}}, {\"func_name\": \"<module>\", \"stdout\": \"Drawn 8 clubs\\n\", \"stack_to_render\": [], \"ordered_globals\": [\"deck\", \"card\"], \"heap\": {\"1\": [\"LIST\", \"3 hearts\", \"2 spades\", \"9 hearts\", \"5 diamonds\"]}, \"line\": 8, \"event\": \"step_line\", \"globals\": {\"card\": \"8 clubs\", \"deck\": [\"REF\", 1]}}, {\"func_name\": \"<module>\", \"stdout\": \"Drawn 8 clubs\\n\", \"stack_to_render\": [], \"ordered_globals\": [\"deck\", \"card\"], \"heap\": {\"1\": [\"LIST\", \"3 hearts\", \"2 spades\", \"9 hearts\", \"5 diamonds\"]}, \"line\": 9, \"event\": \"step_line\", \"globals\": {\"card\": \"8 clubs\", \"deck\": [\"REF\", 1]}}, {\"func_name\": \"<module>\", \"stdout\": \"Drawn 8 clubs\\n\", \"stack_to_render\": [], \"ordered_globals\": [\"deck\", \"card\"], \"heap\": {\"1\": [\"LIST\", \"3 hearts\", \"2 spades\", \"9 hearts\"]}, \"line\": 10, \"event\": \"step_line\", \"globals\": {\"card\": \"5 diamonds\", \"deck\": [\"REF\", 1]}}, {\"func_name\": \"<module>\", \"stdout\": \"Drawn 8 clubs\\nDrawn 5 diamonds\\n\", \"stack_to_render\": [], \"ordered_globals\": [\"deck\", \"card\"], \"heap\": {\"1\": [\"LIST\", \"3 hearts\", \"2 spades\", \"9 hearts\"]}, \"line\": 8, \"event\": \"step_line\", \"globals\": {\"card\": \"5 diamonds\", \"deck\": [\"REF\", 1]}}, {\"func_name\": \"<module>\", \"stdout\": \"Drawn 8 clubs\\nDrawn 5 diamonds\\n\", \"stack_to_render\": [], \"ordered_globals\": [\"deck\", \"card\"], \"heap\": {\"1\": [\"LIST\", \"3 hearts\", \"2 spades\", \"9 hearts\"]}, \"line\": 9, \"event\": \"step_line\", \"globals\": {\"card\": \"5 diamonds\", \"deck\": [\"REF\", 1]}}, {\"func_name\": \"<module>\", \"stdout\": \"Drawn 8 clubs\\nDrawn 5 diamonds\\n\", \"stack_to_render\": [], \"ordered_globals\": [\"deck\", \"card\"], \"heap\": {\"1\": [\"LIST\", \"3 hearts\", \"2 spades\"]}, \"line\": 10, \"event\": \"step_line\", \"globals\": {\"card\": \"9 hearts\", \"deck\": [\"REF\", 1]}}, {\"func_name\": \"<module>\", \"stdout\": \"Drawn 8 clubs\\nDrawn 5 diamonds\\nDrawn 9 hearts\\n\", \"stack_to_render\": [], \"ordered_globals\": [\"deck\", \"card\"], \"heap\": {\"1\": [\"LIST\", \"3 hearts\", \"2 spades\"]}, \"line\": 8, \"event\": \"step_line\", \"globals\": {\"card\": \"9 hearts\", \"deck\": [\"REF\", 1]}}, {\"func_name\": \"<module>\", \"stdout\": \"Drawn 8 clubs\\nDrawn 5 diamonds\\nDrawn 9 hearts\\n\", \"stack_to_render\": [], \"ordered_globals\": [\"deck\", \"card\"], \"heap\": {\"1\": [\"LIST\", \"3 hearts\", \"2 spades\"]}, \"line\": 9, \"event\": \"step_line\", \"globals\": {\"card\": \"9 hearts\", \"deck\": [\"REF\", 1]}}, {\"func_name\": \"<module>\", \"stdout\": \"Drawn 8 clubs\\nDrawn 5 diamonds\\nDrawn 9 hearts\\n\", \"stack_to_render\": [], \"ordered_globals\": [\"deck\", \"card\"], \"heap\": {\"1\": [\"LIST\", \"3 hearts\"]}, \"line\": 10, \"event\": \"step_line\", \"globals\": {\"card\": \"2 spades\", \"deck\": [\"REF\", 1]}}, {\"func_name\": \"<module>\", \"stdout\": \"Drawn 8 clubs\\nDrawn 5 diamonds\\nDrawn 9 hearts\\nDrawn 2 spades\\n\", \"stack_to_render\": [], \"ordered_globals\": [\"deck\", \"card\"], \"heap\": {\"1\": [\"LIST\", \"3 hearts\"]}, \"line\": 8, \"event\": \"step_line\", \"globals\": {\"card\": \"2 spades\", \"deck\": [\"REF\", 1]}}, {\"func_name\": \"<module>\", \"stdout\": \"Drawn 8 clubs\\nDrawn 5 diamonds\\nDrawn 9 hearts\\nDrawn 2 spades\\n\", \"stack_to_render\": [], \"ordered_globals\": [\"deck\", \"card\"], \"heap\": {\"1\": [\"LIST\", \"3 hearts\"]}, \"line\": 9, \"event\": \"step_line\", \"globals\": {\"card\": \"2 spades\", \"deck\": [\"REF\", 1]}}, {\"func_name\": \"<module>\", \"stdout\": \"Drawn 8 clubs\\nDrawn 5 diamonds\\nDrawn 9 hearts\\nDrawn 2 spades\\n\", \"stack_to_render\": [], \"ordered_globals\": [\"deck\", \"card\"], \"heap\": {\"1\": [\"LIST\"]}, \"line\": 10, \"event\": \"step_line\", \"globals\": {\"card\": \"3 hearts\", \"deck\": [\"REF\", 1]}}, {\"func_name\": \"<module>\", \"stdout\": \"Drawn 8 clubs\\nDrawn 5 diamonds\\nDrawn 9 hearts\\nDrawn 2 spades\\nDrawn 3 hearts\\n\", \"stack_to_render\": [], \"ordered_globals\": [\"deck\", \"card\"], \"heap\": {\"1\": [\"LIST\"]}, \"line\": 8, \"event\": \"step_line\", \"globals\": {\"card\": \"3 hearts\", \"deck\": [\"REF\", 1]}}, {\"func_name\": \"<module>\", \"stdout\": \"Drawn 8 clubs\\nDrawn 5 diamonds\\nDrawn 9 hearts\\nDrawn 2 spades\\nDrawn 3 hearts\\n\", \"stack_to_render\": [], \"ordered_globals\": [\"deck\", \"card\"], \"heap\": {\"1\": [\"LIST\"]}, \"line\": 12, \"event\": \"step_line\", \"globals\": {\"card\": \"3 hearts\", \"deck\": [\"REF\", 1]}}, {\"func_name\": \"<module>\", \"stdout\": \"Drawn 8 clubs\\nDrawn 5 diamonds\\nDrawn 9 hearts\\nDrawn 2 spades\\nDrawn 3 hearts\\nNo more cards!\\n\", \"stack_to_render\": [], \"ordered_globals\": [\"deck\", \"card\"], \"heap\": {\"1\": [\"LIST\"]}, \"line\": 12, \"event\": \"return\", \"globals\": {\"card\": \"3 hearts\", \"deck\": [\"REF\", 1]}}], \"code\": \" \\ndeck = ['3 hearts',   # <---- bottom\\n        '2 spades',\\n        '9 hearts',\\n        '5 diamonds',\\n        '8 clubs']    # <---- top\\n\\nwhile len(deck) > 0:\\n    card = deck.pop()      \\n    print('Drawn', card)\\n\\nprint('No more cards!')\"}\n",
       "        </script>\n",
       "        <div id=\"jm9e630f5b-2f60-489e-9577-a58ac492b1a5\" class=\"pytutorVisualizer\"> </div>\n",
       " \n",
       "        <style>\n",
       "        .vizLayoutTd {\n",
       "            background-color: #fff !important;\n",
       "        }\n",
       "\n",
       "        #pyStdout {            \n",
       "            min-height:25px;\n",
       "        }\n",
       "\n",
       "        /* 'Edit this code' link, hiding because replaces browser tab !!!*/\n",
       "        #editCodeLinkDiv {\n",
       "            display:none;  \n",
       "        }\n",
       "        </style>   \n",
       "                            \n",
       "        <script>\n",
       "        (function(){\n",
       "\n",
       "            var trace = JSON.parse(document.getElementById('json-jm9e630f5b-2f60-489e-9577-a58ac492b1a5').innerHTML);                                        \n",
       "            // NOTE 1: id without #\n",
       "            // NOTE 2 - maybe there are more predictable ways, but this will work anyway\n",
       "            //        - id should be number\n",
       "            visualizerIdOverride = Math.trunc(Math.random() * 100000000000)\n",
       "            addVisualizerToPage(trace, 'jm9e630f5b-2f60-489e-9577-a58ac492b1a5',{'embeddedMode' : false,\n",
       "                                             'visualizerIdOverride':visualizerIdOverride})  \n",
       "            \n",
       "            \n",
       "            // set overflow for pytuts - need to do in python as css \n",
       "            // does not allow parent selection\n",
       "            var pytuts = $('.pytutorVisualizer')\n",
       "            pytuts.closest('div.output_html.rendered_html.output_result')\n",
       "                    .css('overflow-x', 'visible')\n",
       "        \n",
       "            //pytuts.closest('div.output_html.rendered_html.output_result')\n",
       "            //      .css('background-color','red')                \n",
       "            \n",
       "        })()\n",
       "        </script>\n",
       "                \n",
       "                "
      ],
      "text/plain": [
       "<IPython.core.display.HTML object>"
      ]
     },
     "execution_count": 23,
     "metadata": {},
     "output_type": "execute_result"
    }
   ],
   "source": [
    "deck = ['3 hearts',   # <---- bottom\n",
    "        '2 spades',\n",
    "        '9 hearts',\n",
    "        '5 diamonds',\n",
    "        '8 clubs']    # <---- top\n",
    "\n",
    "while len(deck) > 0:\n",
    "    card = deck.pop()      \n",
    "    print('Drawn', card)\n",
    "\n",
    "print('No more cards!')\n",
    "\n",
    "jupman.pytut()"
   ]
  },
  {
   "cell_type": "markdown",
   "metadata": {},
   "source": [
    "Looking at the code, we can notice that:\n",
    "\n",
    "1. the variable `deck` is initialized\n",
    "2. we verify that `deck` dimension is greater than zero\n",
    "3. at each step the list `deck` is MODIFIED by reducing its dimension\n",
    "3. it returns to step 2\n",
    "\n",
    "\n",
    "The first three points are the conditions which guarantee the `while` loop will sooner or later actually terminate."
   ]
  },
  {
   "cell_type": "markdown",
   "metadata": {},
   "source": [
    "### Stack - Drawing until condition"
   ]
  },
  {
   "cell_type": "markdown",
   "metadata": {},
   "source": [
    "Suppose now to continue drawing cards until we find a heart suit.\n",
    "The situation is more complicated, because now the cycle can terminate in two ways:\n",
    "\n",
    "1. we find hearts, and interrupt the search\n",
    "2. there aren't heart cards, and the deck is exhausted\n",
    "\n",
    "\n",
    "In any case, in the end we must tell the user a result. To do so, it's convenient  initializing `card` at the beginning  like an empty string for handling the case when no hearts cards are found (or the deck is empty).\n",
    "\n",
    "Let's try a first implementation which uses an internal `if`  to verify whether we have found hearts, and in that case exits with a `break` command.\n",
    "\n",
    "* Try executing the code by uncomment the second deck which has no hearts cards, and look at the different execution."
   ]
  },
  {
   "cell_type": "code",
   "execution_count": 24,
   "metadata": {},
   "outputs": [
    {
     "name": "stdout",
     "output_type": "stream",
     "text": [
      "Drawn 8 clubs\n",
      "Drawn 5 diamonds\n",
      "Drawn 9 hearts\n",
      "Found hearts!\n"
     ]
    },
    {
     "data": {
      "text/html": [
       "\n",
       "        <script src=\"../_static/js/pytutor-embed.bundle.min.js\" type=\"application/javascript\"></script>\n",
       "     \n",
       "        <script id=\"json-jmacf356ee-cb04-4e1d-ae4a-947747b227bf\" type=\"application/json\" >\n",
       "            {\"trace\": [{\"func_name\": \"<module>\", \"stdout\": \"\", \"stack_to_render\": [], \"ordered_globals\": [], \"heap\": {}, \"line\": 2, \"event\": \"step_line\", \"globals\": {}}, {\"func_name\": \"<module>\", \"stdout\": \"\", \"stack_to_render\": [], \"ordered_globals\": [\"deck\"], \"heap\": {\"1\": [\"LIST\", \"3 hearts\", \"2 spades\", \"9 hearts\", \"5 diamonds\", \"8 clubs\"]}, \"line\": 5, \"event\": \"step_line\", \"globals\": {\"deck\": [\"REF\", 1]}}, {\"func_name\": \"<module>\", \"stdout\": \"\", \"stack_to_render\": [], \"ordered_globals\": [\"deck\", \"card\"], \"heap\": {\"1\": [\"LIST\", \"3 hearts\", \"2 spades\", \"9 hearts\", \"5 diamonds\", \"8 clubs\"]}, \"line\": 6, \"event\": \"step_line\", \"globals\": {\"card\": \"\", \"deck\": [\"REF\", 1]}}, {\"func_name\": \"<module>\", \"stdout\": \"\", \"stack_to_render\": [], \"ordered_globals\": [\"deck\", \"card\"], \"heap\": {\"1\": [\"LIST\", \"3 hearts\", \"2 spades\", \"9 hearts\", \"5 diamonds\", \"8 clubs\"]}, \"line\": 7, \"event\": \"step_line\", \"globals\": {\"card\": \"\", \"deck\": [\"REF\", 1]}}, {\"func_name\": \"<module>\", \"stdout\": \"\", \"stack_to_render\": [], \"ordered_globals\": [\"deck\", \"card\"], \"heap\": {\"1\": [\"LIST\", \"3 hearts\", \"2 spades\", \"9 hearts\", \"5 diamonds\"]}, \"line\": 8, \"event\": \"step_line\", \"globals\": {\"card\": \"8 clubs\", \"deck\": [\"REF\", 1]}}, {\"func_name\": \"<module>\", \"stdout\": \"Drawn 8 clubs\\n\", \"stack_to_render\": [], \"ordered_globals\": [\"deck\", \"card\"], \"heap\": {\"1\": [\"LIST\", \"3 hearts\", \"2 spades\", \"9 hearts\", \"5 diamonds\"]}, \"line\": 9, \"event\": \"step_line\", \"globals\": {\"card\": \"8 clubs\", \"deck\": [\"REF\", 1]}}, {\"func_name\": \"<module>\", \"stdout\": \"Drawn 8 clubs\\n\", \"stack_to_render\": [], \"ordered_globals\": [\"deck\", \"card\"], \"heap\": {\"1\": [\"LIST\", \"3 hearts\", \"2 spades\", \"9 hearts\", \"5 diamonds\"]}, \"line\": 6, \"event\": \"step_line\", \"globals\": {\"card\": \"8 clubs\", \"deck\": [\"REF\", 1]}}, {\"func_name\": \"<module>\", \"stdout\": \"Drawn 8 clubs\\n\", \"stack_to_render\": [], \"ordered_globals\": [\"deck\", \"card\"], \"heap\": {\"1\": [\"LIST\", \"3 hearts\", \"2 spades\", \"9 hearts\", \"5 diamonds\"]}, \"line\": 7, \"event\": \"step_line\", \"globals\": {\"card\": \"8 clubs\", \"deck\": [\"REF\", 1]}}, {\"func_name\": \"<module>\", \"stdout\": \"Drawn 8 clubs\\n\", \"stack_to_render\": [], \"ordered_globals\": [\"deck\", \"card\"], \"heap\": {\"1\": [\"LIST\", \"3 hearts\", \"2 spades\", \"9 hearts\"]}, \"line\": 8, \"event\": \"step_line\", \"globals\": {\"card\": \"5 diamonds\", \"deck\": [\"REF\", 1]}}, {\"func_name\": \"<module>\", \"stdout\": \"Drawn 8 clubs\\nDrawn 5 diamonds\\n\", \"stack_to_render\": [], \"ordered_globals\": [\"deck\", \"card\"], \"heap\": {\"1\": [\"LIST\", \"3 hearts\", \"2 spades\", \"9 hearts\"]}, \"line\": 9, \"event\": \"step_line\", \"globals\": {\"card\": \"5 diamonds\", \"deck\": [\"REF\", 1]}}, {\"func_name\": \"<module>\", \"stdout\": \"Drawn 8 clubs\\nDrawn 5 diamonds\\n\", \"stack_to_render\": [], \"ordered_globals\": [\"deck\", \"card\"], \"heap\": {\"1\": [\"LIST\", \"3 hearts\", \"2 spades\", \"9 hearts\"]}, \"line\": 6, \"event\": \"step_line\", \"globals\": {\"card\": \"5 diamonds\", \"deck\": [\"REF\", 1]}}, {\"func_name\": \"<module>\", \"stdout\": \"Drawn 8 clubs\\nDrawn 5 diamonds\\n\", \"stack_to_render\": [], \"ordered_globals\": [\"deck\", \"card\"], \"heap\": {\"1\": [\"LIST\", \"3 hearts\", \"2 spades\", \"9 hearts\"]}, \"line\": 7, \"event\": \"step_line\", \"globals\": {\"card\": \"5 diamonds\", \"deck\": [\"REF\", 1]}}, {\"func_name\": \"<module>\", \"stdout\": \"Drawn 8 clubs\\nDrawn 5 diamonds\\n\", \"stack_to_render\": [], \"ordered_globals\": [\"deck\", \"card\"], \"heap\": {\"1\": [\"LIST\", \"3 hearts\", \"2 spades\"]}, \"line\": 8, \"event\": \"step_line\", \"globals\": {\"card\": \"9 hearts\", \"deck\": [\"REF\", 1]}}, {\"func_name\": \"<module>\", \"stdout\": \"Drawn 8 clubs\\nDrawn 5 diamonds\\nDrawn 9 hearts\\n\", \"stack_to_render\": [], \"ordered_globals\": [\"deck\", \"card\"], \"heap\": {\"1\": [\"LIST\", \"3 hearts\", \"2 spades\"]}, \"line\": 9, \"event\": \"step_line\", \"globals\": {\"card\": \"9 hearts\", \"deck\": [\"REF\", 1]}}, {\"func_name\": \"<module>\", \"stdout\": \"Drawn 8 clubs\\nDrawn 5 diamonds\\nDrawn 9 hearts\\n\", \"stack_to_render\": [], \"ordered_globals\": [\"deck\", \"card\"], \"heap\": {\"1\": [\"LIST\", \"3 hearts\", \"2 spades\"]}, \"line\": 10, \"event\": \"step_line\", \"globals\": {\"card\": \"9 hearts\", \"deck\": [\"REF\", 1]}}, {\"func_name\": \"<module>\", \"stdout\": \"Drawn 8 clubs\\nDrawn 5 diamonds\\nDrawn 9 hearts\\n\", \"stack_to_render\": [], \"ordered_globals\": [\"deck\", \"card\"], \"heap\": {\"1\": [\"LIST\", \"3 hearts\", \"2 spades\"]}, \"line\": 12, \"event\": \"step_line\", \"globals\": {\"card\": \"9 hearts\", \"deck\": [\"REF\", 1]}}, {\"func_name\": \"<module>\", \"stdout\": \"Drawn 8 clubs\\nDrawn 5 diamonds\\nDrawn 9 hearts\\n\", \"stack_to_render\": [], \"ordered_globals\": [\"deck\", \"card\"], \"heap\": {\"1\": [\"LIST\", \"3 hearts\", \"2 spades\"]}, \"line\": 13, \"event\": \"step_line\", \"globals\": {\"card\": \"9 hearts\", \"deck\": [\"REF\", 1]}}, {\"func_name\": \"<module>\", \"stdout\": \"Drawn 8 clubs\\nDrawn 5 diamonds\\nDrawn 9 hearts\\nFound hearts!\\n\", \"stack_to_render\": [], \"ordered_globals\": [\"deck\", \"card\"], \"heap\": {\"1\": [\"LIST\", \"3 hearts\", \"2 spades\"]}, \"line\": 13, \"event\": \"return\", \"globals\": {\"card\": \"9 hearts\", \"deck\": [\"REF\", 1]}}], \"code\": \" \\ndeck = ['3 hearts','2 spades','9 hearts','5 diamonds','8 clubs']\\n#deck = ['8 spades','2 spades','5 diamonds','4 clubs']   # no hearts!\\n\\ncard = ''\\nwhile len(deck) > 0:\\n    card = deck.pop()      \\n    print('Drawn', card)\\n    if 'hearts' in card:\\n        break\\n        \\nif 'hearts' in card:\\n    print('Found hearts!')\\nelse:\\n    print(\\\"Didn't find hearts!\\\")\"}\n",
       "        </script>\n",
       "        <div id=\"jmacf356ee-cb04-4e1d-ae4a-947747b227bf\" class=\"pytutorVisualizer\"> </div>\n",
       " \n",
       "        <style>\n",
       "        .vizLayoutTd {\n",
       "            background-color: #fff !important;\n",
       "        }\n",
       "\n",
       "        #pyStdout {            \n",
       "            min-height:25px;\n",
       "        }\n",
       "\n",
       "        /* 'Edit this code' link, hiding because replaces browser tab !!!*/\n",
       "        #editCodeLinkDiv {\n",
       "            display:none;  \n",
       "        }\n",
       "        </style>   \n",
       "                            \n",
       "        <script>\n",
       "        (function(){\n",
       "\n",
       "            var trace = JSON.parse(document.getElementById('json-jmacf356ee-cb04-4e1d-ae4a-947747b227bf').innerHTML);                                        \n",
       "            // NOTE 1: id without #\n",
       "            // NOTE 2 - maybe there are more predictable ways, but this will work anyway\n",
       "            //        - id should be number\n",
       "            visualizerIdOverride = Math.trunc(Math.random() * 100000000000)\n",
       "            addVisualizerToPage(trace, 'jmacf356ee-cb04-4e1d-ae4a-947747b227bf',{'embeddedMode' : false,\n",
       "                                             'visualizerIdOverride':visualizerIdOverride})  \n",
       "            \n",
       "            \n",
       "            // set overflow for pytuts - need to do in python as css \n",
       "            // does not allow parent selection\n",
       "            var pytuts = $('.pytutorVisualizer')\n",
       "            pytuts.closest('div.output_html.rendered_html.output_result')\n",
       "                    .css('overflow-x', 'visible')\n",
       "        \n",
       "            //pytuts.closest('div.output_html.rendered_html.output_result')\n",
       "            //      .css('background-color','red')                \n",
       "            \n",
       "        })()\n",
       "        </script>\n",
       "                \n",
       "                "
      ],
      "text/plain": [
       "<IPython.core.display.HTML object>"
      ]
     },
     "execution_count": 24,
     "metadata": {},
     "output_type": "execute_result"
    }
   ],
   "source": [
    "deck = ['3 hearts','2 spades','9 hearts','5 diamonds','8 clubs']\n",
    "#deck = ['8 spades','2 spades','5 diamonds','4 clubs']   # no hearts!\n",
    "\n",
    "card = ''\n",
    "while len(deck) > 0:\n",
    "    card = deck.pop()      \n",
    "    print('Drawn', card)\n",
    "    if 'hearts' in card:\n",
    "        break\n",
    "        \n",
    "if 'hearts' in card:\n",
    "    print('Found hearts!')\n",
    "else:\n",
    "    print(\"Didn't find hearts!\")\n",
    "\n",
    "jupman.pytut()"
   ]
  },
  {
   "cell_type": "markdown",
   "metadata": {},
   "source": [
    "### Exercise - Don't break my heart\n",
    "\n",
    "✪ Write some code which solves the same previous problem:\n",
    "\n",
    "* this time **DO NOT** use `break`\n",
    "* ensure the code works with a deck without hearts, and also with an empty deck\n",
    "* **HINT**: put a multiple condition in the `while`"
   ]
  },
  {
   "cell_type": "raw",
   "id": "elegant-jamaica",
   "metadata": {
    "format": "text/html"
   },
   "source": [
    "<a  class=\"jupman-sol jupman-sol-toggler\" \n",
    " onclick=\"jupman.toggleSolution(this);\" \n",
    " data-jupman-show=\"Show solution\" data-jupman-hide=\"Hide\">Show solution</a><div class=\"jupman-sol jupman-sol-code\" style=\"display:none\">  "
   ]
  },
  {
   "cell_type": "code",
   "execution_count": 25,
   "metadata": {},
   "outputs": [
    {
     "name": "stdout",
     "output_type": "stream",
     "text": [
      "Drawn 8 clubs\n",
      "Drawn 5 diamonds\n",
      "Drawn 9 hearts\n",
      "Found hearts!\n"
     ]
    }
   ],
   "source": [
    "deck = ['3 hearts','2 spades','9 hearts','5 diamonds','8 clubs']\n",
    "#deck = ['8 spades','2 spades','5 diamonds','4 clubs']   # no hearts!\n",
    "#deck = []  #  no hearts !\n",
    "\n",
    "card = ''\n",
    "\n",
    "# write here\n",
    "\n",
    "while len(deck) > 0 and 'hearts' not in card:\n",
    "    card = deck.pop()      \n",
    "    print('Drawn', card)\n",
    "\n",
    "if 'hearts' in card: \n",
    "    print(\"Found hearts!\")\n",
    "else:\n",
    "    print(\"Didn't find hearts!\")\n"
   ]
  },
  {
   "cell_type": "raw",
   "id": "commercial-chicago",
   "metadata": {
    "format": "text/html"
   },
   "source": [
    "</div>"
   ]
  },
  {
   "cell_type": "code",
   "execution_count": 25,
   "metadata": {},
   "outputs": [
    {
     "name": "stdout",
     "output_type": "stream",
     "text": [
      "Drawn 8 clubs\n",
      "Drawn 5 diamonds\n",
      "Drawn 9 hearts\n",
      "Found hearts!\n"
     ]
    }
   ],
   "source": [
    "deck = ['3 hearts','2 spades','9 hearts','5 diamonds','8 clubs']\n",
    "#deck = ['8 spades','2 spades','5 diamonds','4 clubs']   # no hearts!\n",
    "#deck = []  #  no hearts !\n",
    "\n",
    "card = ''\n",
    "\n",
    "# write here\n",
    "\n"
   ]
  },
  {
   "cell_type": "markdown",
   "metadata": {},
   "source": [
    "### Questions - what happens?\n",
    "\n",
    "**QUESTION**: Look at the following code fragments , and for each try guessing the result it produces (or if it gives an error):\n",
    "\n",
    "1.  ```python\n",
    "    while []:\n",
    "        print('z')\n",
    "    print('BIG')\n",
    "    ```\n",
    "    \n",
    "1.  ```python\n",
    "    while ['a']:\n",
    "        print('z')\n",
    "    print('BUG')\n",
    "    ```\n",
    "1.  ```python\n",
    "    la = []\n",
    "    while len(la) < 3:\n",
    "        la.append('x')\n",
    "    print(la)\n",
    "    ```\n",
    "1.  ```python\n",
    "    la = ['x','y','z']\n",
    "    while len(la) > 0:\n",
    "        print(la.pop())\n",
    "    ```\n",
    "1.  ```python\n",
    "    la = ['x','y','z']\n",
    "    while la:\n",
    "        print(la.pop(0))    \n",
    "    ```\n",
    "1.  ```python\n",
    "    la = [4,5,8,10]\n",
    "    while la.pop() % 2 == 0:\n",
    "        print(la)\n",
    "    ```"
   ]
  },
  {
   "cell_type": "markdown",
   "metadata": {},
   "source": [
    "### Questions - are they equivalent?\n",
    "\n",
    "Look at the following code fragments: each contains two parts, A and B. For each value of the variables they depend on, try guessing whether part A will print exactly the same result printed by code in part B\n",
    "\n",
    "* **FIRST** think about the answer\n",
    "* **THEN** try executing with each of the values of suggested variables"
   ]
  },
  {
   "cell_type": "markdown",
   "metadata": {},
   "source": [
    "### Are they equivalent? - train\n",
    "\n",
    "```python\n",
    "print('A:')\n",
    "la = ['t','r','a','i','n']\n",
    "while len(la) > 0:\n",
    "    print(la.pop())\n",
    "    \n",
    "print('\\nB:')\n",
    "la = ['t','r','a','i','n']\n",
    "la.reverse()\n",
    "while len(la) > 0:\n",
    "    print(la.pop(0))\n",
    "```"
   ]
  },
  {
   "cell_type": "markdown",
   "metadata": {},
   "source": [
    "### Are they equivalent? - append nx\n",
    "\n",
    "```python\n",
    "print('A:')\n",
    "x,n,la = 2,0,[]\n",
    "while x not in la:\n",
    "    la.append(n)\n",
    "    n += 1\n",
    "print(la)\n",
    "\n",
    "print('\\nB:')\n",
    "x,la = 2,[]\n",
    "while len(la) < 3:\n",
    "    la.append(x)\n",
    "    x += 1\n",
    "print(la)\n",
    "```"
   ]
  },
  {
   "cell_type": "markdown",
   "metadata": {},
   "source": [
    "## Exercises - stack"
   ]
  },
  {
   "cell_type": "markdown",
   "metadata": {},
   "source": [
    "### Exercise - break sum\n",
    "\n",
    "✪ Look at the following code, and rewrite it in the following cell as `while`\n",
    "\n",
    "* this time **use command** `break`"
   ]
  },
  {
   "cell_type": "code",
   "execution_count": 26,
   "metadata": {},
   "outputs": [
    {
     "name": "stdout",
     "output_type": "stream",
     "text": [
      "[0]\n",
      "[0, 1]\n",
      "[0, 1, 2]\n",
      "[0, 1, 2, 3]\n",
      "[0, 1, 2, 3, 4]\n"
     ]
    }
   ],
   "source": [
    "lst = []\n",
    "i = 0\n",
    "k = 10\n",
    "while sum(lst) < k:\n",
    "    lst.append(i)\n",
    "    i += 1\n",
    "    print(lst)"
   ]
  },
  {
   "cell_type": "raw",
   "id": "bored-origin",
   "metadata": {
    "format": "text/html"
   },
   "source": [
    "<a  class=\"jupman-sol jupman-sol-toggler\" \n",
    " onclick=\"jupman.toggleSolution(this);\" \n",
    " data-jupman-show=\"Show solution\" data-jupman-hide=\"Hide\">Show solution</a><div class=\"jupman-sol jupman-sol-code\" style=\"display:none\">  "
   ]
  },
  {
   "cell_type": "code",
   "execution_count": 27,
   "metadata": {},
   "outputs": [
    {
     "name": "stdout",
     "output_type": "stream",
     "text": [
      "[0]\n",
      "[0, 1]\n",
      "[0, 1, 2]\n",
      "[0, 1, 2, 3]\n",
      "[0, 1, 2, 3, 4]\n"
     ]
    }
   ],
   "source": [
    "lst = []\n",
    "i = 0\n",
    "\n",
    "# write here\n",
    "\n",
    "while True:    \n",
    "    if sum(lst) >= k:\n",
    "        break\n",
    "    else:        \n",
    "        lst.append(i)\n",
    "        i += 1\n",
    "        print(lst)"
   ]
  },
  {
   "cell_type": "raw",
   "id": "chicken-intro",
   "metadata": {
    "format": "text/html"
   },
   "source": [
    "</div>"
   ]
  },
  {
   "cell_type": "code",
   "execution_count": 27,
   "metadata": {},
   "outputs": [
    {
     "name": "stdout",
     "output_type": "stream",
     "text": [
      "[0]\n",
      "[0, 1]\n",
      "[0, 1, 2]\n",
      "[0, 1, 2, 3]\n",
      "[0, 1, 2, 3, 4]\n"
     ]
    }
   ],
   "source": [
    "lst = []\n",
    "i = 0\n",
    "\n",
    "# write here\n",
    "\n"
   ]
  },
  {
   "cell_type": "markdown",
   "metadata": {},
   "source": [
    "### Exercise - travelbook\n",
    "\n",
    "✪✪ Suppose you visited the attic and found a stack of books, which we represent as a list of strings. Each string is prefixed by a label of one character indicating the category (D for Detective story, T for Travel, H for History)\n",
    "\n",
    "```python\n",
    "stack = ['H-Middle Ages',   # <---- bottom\n",
    "         'T-Australia',        \n",
    "         'T-Scotland',        \n",
    "         'D-Suspects',\n",
    "         'T-Caribbean']    # <---- top\n",
    "```\n",
    "\n",
    "Since we are passionate about travel books, we want to examine `stack` one book at a time to transfer books into another pile we call `ŧravel`, which at the beginning is empty. We start from the top book in `stack`, and transfer into  `travel` only the books starting with the label `T` like (`'T-Australia'`)\n",
    "\n",
    "\n",
    "```python\n",
    "travel = []\n",
    "```\n",
    "\n",
    "Write some code that produces the following print:\n",
    "\n",
    "```\n",
    "At the beginning:\n",
    "    stack:   ['H-Middle Ages', 'T-Australia', 'T-Scotland', 'D-Suspects', 'T-Caribbean']\n",
    "    travel: []\n",
    "Taken T-Caribbean\n",
    "    stack:   ['H-Middle Ages', 'T-Australia', 'T-Scotland', 'D-Suspects']\n",
    "    travel: ['T-Caribbean']\n",
    "Discarded D-Suspects\n",
    "    stack:   ['H-Middle Ages', 'T-Australia', 'T-Scotland']\n",
    "    travel: ['T-Caribbean']\n",
    "Taken T-Scotland\n",
    "    stack:   ['H-Middle Ages', 'T-Australia']\n",
    "    travel: ['T-Caribbean', 'T-Scotland']\n",
    "Taken T-Australia\n",
    "    stack:   ['H-Middle Ages']\n",
    "    travel: ['T-Caribbean', 'T-Scotland', 'T-Australia']\n",
    "Discarded H-Middle Ages\n",
    "    stack:   []\n",
    "    travel: ['T-Caribbean', 'T-Scotland', 'T-Australia']\n",
    "```\n",
    "\n",
    "* The non-travel books are not interesting and must be discarded\n",
    "* Your code must work with _any_  `stack` list"
   ]
  },
  {
   "cell_type": "raw",
   "id": "proprietary-classics",
   "metadata": {
    "format": "text/html"
   },
   "source": [
    "<a  class=\"jupman-sol jupman-sol-toggler\" \n",
    " onclick=\"jupman.toggleSolution(this);\" \n",
    " data-jupman-show=\"Show solution\" data-jupman-hide=\"Hide\">Show solution</a><div class=\"jupman-sol jupman-sol-code\" style=\"display:none\">  "
   ]
  },
  {
   "cell_type": "code",
   "execution_count": 28,
   "metadata": {},
   "outputs": [
    {
     "name": "stdout",
     "output_type": "stream",
     "text": [
      "At the beginning:\n",
      "    stack:   ['H-Middle Ages', 'T-Australia', 'T-Scotland', 'D-Suspects', 'T-Caribbean']\n",
      "    travel: []\n",
      "Taken T-Caribbean\n",
      "    stack:   ['H-Middle Ages', 'T-Australia', 'T-Scotland', 'D-Suspects']\n",
      "    travel: ['T-Caribbean']\n",
      "Discarded D-Suspects\n",
      "    stack:   ['H-Middle Ages', 'T-Australia', 'T-Scotland']\n",
      "    travel: ['T-Caribbean']\n",
      "Taken T-Scotland\n",
      "    stack:   ['H-Middle Ages', 'T-Australia']\n",
      "    travel: ['T-Caribbean', 'T-Scotland']\n",
      "Taken T-Australia\n",
      "    stack:   ['H-Middle Ages']\n",
      "    travel: ['T-Caribbean', 'T-Scotland', 'T-Australia']\n",
      "Discarded H-Middle Ages\n",
      "    stack:   []\n",
      "    travel: ['T-Caribbean', 'T-Scotland', 'T-Australia']\n"
     ]
    }
   ],
   "source": [
    "\n",
    "stack = ['H-Middle Ages',   # <---- bottom\n",
    "         'T-Australia',        \n",
    "         'T-Scotland',        \n",
    "         'D-Suspects',\n",
    "         'T-Caribbean']    # <---- top\n",
    "\n",
    "\n",
    "travel = []\n",
    "\n",
    "# write here\n",
    "print(\"At the beginning:\")\n",
    "print('    stack:  ', stack)\n",
    "print('    travel:', travel)\n",
    "\n",
    "while len(stack) > 0:\n",
    "    book = stack.pop() \n",
    "    if book.startswith('T'):\n",
    "        print('Taken',book)    \n",
    "        travel.append(book)\n",
    "    else:\n",
    "        print('Discarded', book)\n",
    "    print('    stack:  ', stack)\n",
    "    print('    travel:', travel)\n",
    "    "
   ]
  },
  {
   "cell_type": "raw",
   "id": "encouraging-aberdeen",
   "metadata": {
    "format": "text/html"
   },
   "source": [
    "</div>"
   ]
  },
  {
   "cell_type": "code",
   "execution_count": 28,
   "metadata": {},
   "outputs": [
    {
     "name": "stdout",
     "output_type": "stream",
     "text": [
      "At the beginning:\n",
      "    stack:   ['H-Middle Ages', 'T-Australia', 'T-Scotland', 'D-Suspects', 'T-Caribbean']\n",
      "    travel: []\n",
      "Taken T-Caribbean\n",
      "    stack:   ['H-Middle Ages', 'T-Australia', 'T-Scotland', 'D-Suspects']\n",
      "    travel: ['T-Caribbean']\n",
      "Discarded D-Suspects\n",
      "    stack:   ['H-Middle Ages', 'T-Australia', 'T-Scotland']\n",
      "    travel: ['T-Caribbean']\n",
      "Taken T-Scotland\n",
      "    stack:   ['H-Middle Ages', 'T-Australia']\n",
      "    travel: ['T-Caribbean', 'T-Scotland']\n",
      "Taken T-Australia\n",
      "    stack:   ['H-Middle Ages']\n",
      "    travel: ['T-Caribbean', 'T-Scotland', 'T-Australia']\n",
      "Discarded H-Middle Ages\n",
      "    stack:   []\n",
      "    travel: ['T-Caribbean', 'T-Scotland', 'T-Australia']\n"
     ]
    }
   ],
   "source": [
    "\n",
    "stack = ['H-Middle Ages',   # <---- bottom\n",
    "         'T-Australia',        \n",
    "         'T-Scotland',        \n",
    "         'D-Suspects',\n",
    "         'T-Caribbean']    # <---- top\n",
    "\n",
    "\n",
    "travel = []\n",
    "\n",
    "# write here\n",
    "\n"
   ]
  },
  {
   "cell_type": "markdown",
   "metadata": {},
   "source": [
    "### Exercise - BANG !\n",
    "\n",
    "✪✪ There are two stacks of objects `right_stack` and `left_stack` which we represent as lists of strings. As a pastime, a cowboy decides to shoot the objects at the top of the stacks, alternating the stack at each shoot. The cowboy is skilled and always hits the target, so each shot decreases a stack.\n",
    "\n",
    "\n",
    "- Suppose the objects on top are the ones at the end of the list\n",
    "- To keep track of which stack to hit, use a variable `shoot` holding either `'R'` or `'L'` character\n",
    "- After each shot the cowboy if possible changes the stack , otherwise keeps shooting at the same stack until it's empty.\n",
    "\n",
    "- your code must work for _any_ stack and initial shot\n",
    "\n",
    "Example - given:\n",
    "\n",
    "\n",
    "```python\n",
    "left_stack = ['box','boot','horseshoe','bucket']\n",
    "right_stack = ['bin','saddle','tin can']\n",
    "shoot = 'R'\n",
    "```\n",
    "\n",
    "after your code, it must print:\n",
    "\n",
    "```\n",
    "Ready?\n",
    "   left_stack: ['box', 'boot', 'horseshoe', 'bucket']\n",
    "  right_stack: ['bin', 'saddle', 'tin can']\n",
    "BANG! right:  tin can\n",
    "   left_stack: ['box', 'boot', 'horseshoe', 'bucket']\n",
    "  right_stack: ['bin', 'saddle']\n",
    "BANG! left:   bucket\n",
    "   left_stack: ['box', 'boot', 'horseshoe']\n",
    "  right_stack: ['bin', 'saddle']\n",
    "BANG! right:  saddle\n",
    "   left_stack: ['box', 'boot', 'horseshoe']\n",
    "  right_stack: ['bin']\n",
    "BANG! left:   horseshoe\n",
    "   left_stack: ['box', 'boot']\n",
    "  right_stack: ['bin']\n",
    "BANG! right:  bin\n",
    "   left_stack: ['box', 'boot']\n",
    "  right_stack: []\n",
    "BANG! left:   boot\n",
    "   left_stack: ['box']\n",
    "  right_stack: []\n",
    "Nothing to shoot on the right!\n",
    "   left_stack: ['box']\n",
    "  right_stack: []\n",
    "BANG! left:   box\n",
    "   left_stack: []\n",
    "  right_stack: []\n",
    "```"
   ]
  },
  {
   "cell_type": "raw",
   "id": "important-situation",
   "metadata": {
    "format": "text/html"
   },
   "source": [
    "<a  class=\"jupman-sol jupman-sol-toggler\" \n",
    " onclick=\"jupman.toggleSolution(this);\" \n",
    " data-jupman-show=\"Show solution\" data-jupman-hide=\"Hide\">Show solution</a><div class=\"jupman-sol jupman-sol-code\" style=\"display:none\">  "
   ]
  },
  {
   "cell_type": "code",
   "execution_count": 29,
   "metadata": {},
   "outputs": [
    {
     "name": "stdout",
     "output_type": "stream",
     "text": [
      "Ready?\n",
      "   left_stack: ['box', 'boot', 'horseshoe', 'bucket']\n",
      "  right_stack: ['bin', 'saddle', 'tin can']\n",
      "BANG! right:  tin can\n",
      "   left_stack: ['box', 'boot', 'horseshoe', 'bucket']\n",
      "  right_stack: ['bin', 'saddle']\n",
      "BANG! left:   bucket\n",
      "   left_stack: ['box', 'boot', 'horseshoe']\n",
      "  right_stack: ['bin', 'saddle']\n",
      "BANG! right:  saddle\n",
      "   left_stack: ['box', 'boot', 'horseshoe']\n",
      "  right_stack: ['bin']\n",
      "BANG! left:   horseshoe\n",
      "   left_stack: ['box', 'boot']\n",
      "  right_stack: ['bin']\n",
      "BANG! right:  bin\n",
      "   left_stack: ['box', 'boot']\n",
      "  right_stack: []\n",
      "BANG! left:   boot\n",
      "   left_stack: ['box']\n",
      "  right_stack: []\n",
      "Nothing to shoot on the right!\n",
      "   left_stack: ['box']\n",
      "  right_stack: []\n",
      "BANG! left:   box\n",
      "   left_stack: []\n",
      "  right_stack: []\n"
     ]
    }
   ],
   "source": [
    "left_stack = ['box','boot','horseshoe','bucket']\n",
    "right_stack = ['bin','saddle','tin can']\n",
    "shoot = 'R'\n",
    "#shoot = 'L'\n",
    "#left_stack = ['bucket', 'box']\n",
    "\n",
    "# write here\n",
    "\n",
    "print('Ready?')\n",
    "print('   left_stack:', left_stack)\n",
    "print('  right_stack:', right_stack)\n",
    "while len(right_stack) > 0 or len(left_stack) > 0:\n",
    "    if shoot == 'R':\n",
    "        if len(right_stack) > 0:\n",
    "            print('BANG! right: ', right_stack.pop()) \n",
    "        else:\n",
    "            print('Nothing to shoot on the right!')\n",
    "        shoot = 'L'\n",
    "    else:\n",
    "        if len(left_stack) > 0:\n",
    "            print('BANG! left:  ', left_stack.pop())\n",
    "        else:\n",
    "            print('Nothing to shoot on the left!')\n",
    "        shoot = 'R'\n",
    "\n",
    "    print('   left_stack:', left_stack)\n",
    "    print('  right_stack:', right_stack)"
   ]
  },
  {
   "cell_type": "raw",
   "id": "solid-bridge",
   "metadata": {
    "format": "text/html"
   },
   "source": [
    "</div>"
   ]
  },
  {
   "cell_type": "code",
   "execution_count": 29,
   "metadata": {},
   "outputs": [
    {
     "name": "stdout",
     "output_type": "stream",
     "text": [
      "Ready?\n",
      "   left_stack: ['box', 'boot', 'horseshoe', 'bucket']\n",
      "  right_stack: ['bin', 'saddle', 'tin can']\n",
      "BANG! right:  tin can\n",
      "   left_stack: ['box', 'boot', 'horseshoe', 'bucket']\n",
      "  right_stack: ['bin', 'saddle']\n",
      "BANG! left:   bucket\n",
      "   left_stack: ['box', 'boot', 'horseshoe']\n",
      "  right_stack: ['bin', 'saddle']\n",
      "BANG! right:  saddle\n",
      "   left_stack: ['box', 'boot', 'horseshoe']\n",
      "  right_stack: ['bin']\n",
      "BANG! left:   horseshoe\n",
      "   left_stack: ['box', 'boot']\n",
      "  right_stack: ['bin']\n",
      "BANG! right:  bin\n",
      "   left_stack: ['box', 'boot']\n",
      "  right_stack: []\n",
      "BANG! left:   boot\n",
      "   left_stack: ['box']\n",
      "  right_stack: []\n",
      "Nothing to shoot on the right!\n",
      "   left_stack: ['box']\n",
      "  right_stack: []\n",
      "BANG! left:   box\n",
      "   left_stack: []\n",
      "  right_stack: []\n"
     ]
    }
   ],
   "source": [
    "left_stack = ['box','boot','horseshoe','bucket']\n",
    "right_stack = ['bin','saddle','tin can']\n",
    "shoot = 'R'\n",
    "#shoot = 'L'\n",
    "#left_stack = ['bucket', 'box']\n",
    "\n",
    "# write here\n",
    "\n"
   ]
  },
  {
   "cell_type": "markdown",
   "metadata": {},
   "source": [
    "\n",
    "### Exercise - Growing or degrowing?\n",
    "\n",
    "✪✪ Write some code which given a list `la`, keeps MODIFYING the list according to this procedure:\n",
    "\n",
    "* if the last element is odd (i.e. `7`), attaches a new number at the end of the list obtained by multiplying by two the last element (i.e. attaches `14`)\n",
    "* if the last element is even, removes the last two elements\n",
    "\n",
    "\n",
    "* **DO NOT** create a new list (so no rows starting with `la =`)\n",
    "* **WARNING**: when we want both grow and degrow the sequence we are considering in a cycle, we must convince ourselves that sooner or later the termination condition will happen, it's easy to make mistakes and end up with an infinite cycle!\n",
    "* **HINT**: to degrow the list, you can use the [pop method](https://en.softpython.org/lists/lists3-sol.html#pop-method)\n",
    "\n",
    "Example - given:\n",
    "\n",
    "```python\n",
    "la = [3,5,6,7]\n",
    "```\n",
    "\n",
    "Executing the code, it must print:\n",
    "\n",
    "```\n",
    " Odd: attaching 14\n",
    "      la becomes [3, 5, 6, 7, 14]\n",
    "Even: removing 14\n",
    "      removing 7\n",
    "      la becomes [3, 5, 6]\n",
    "Even: removing 6\n",
    "      removing 5\n",
    "      la becomes [3]\n",
    " Odd: attaching 6\n",
    "      la becomes [3, 6]\n",
    "Even: removing 6\n",
    "      removing 3\n",
    "      la becomes []\n",
    "Done! la is []\n",
    "```\n"
   ]
  },
  {
   "cell_type": "raw",
   "id": "ruled-archives",
   "metadata": {
    "format": "text/html"
   },
   "source": [
    "<a  class=\"jupman-sol jupman-sol-toggler\" \n",
    " onclick=\"jupman.toggleSolution(this);\" \n",
    " data-jupman-show=\"Show solution\" data-jupman-hide=\"Hide\">Show solution</a><div class=\"jupman-sol jupman-sol-code\" style=\"display:none\">  "
   ]
  },
  {
   "cell_type": "code",
   "execution_count": 30,
   "metadata": {
    "scrolled": true
   },
   "outputs": [
    {
     "name": "stdout",
     "output_type": "stream",
     "text": [
      " Odd: attaching 14\n",
      "      la becomes [3, 5, 6, 7, 14]\n",
      "Even: removing 14\n",
      "      removing 7\n",
      "      la becomes [3, 5, 6]\n",
      "Even: removing 6\n",
      "      removing 5\n",
      "      la becomes [3]\n",
      " Odd: attaching 6\n",
      "      la becomes [3, 6]\n",
      "Even: removing 6\n",
      "      removing 3\n",
      "      la becomes []\n",
      "Done! la is []\n"
     ]
    }
   ],
   "source": [
    "la = [3,5,6,7]\n",
    "\n",
    "# write here\n",
    "\n",
    "i = 0\n",
    "while len(la) > 0:\n",
    "    if la[-1] % 2 == 1:\n",
    "        new = la[-1]*2\n",
    "        la.append(new)\n",
    "        print(' Odd: attaching', new)\n",
    "    else:        \n",
    "        print('Even: removing',la.pop())        \n",
    "        print('      removing',la.pop())\n",
    "    print('      la becomes', la)\n",
    "    i += 1\n",
    "print('Done! la is', la)\n"
   ]
  },
  {
   "cell_type": "raw",
   "id": "rapid-enough",
   "metadata": {
    "format": "text/html"
   },
   "source": [
    "</div>"
   ]
  },
  {
   "cell_type": "code",
   "execution_count": 30,
   "metadata": {
    "scrolled": true
   },
   "outputs": [
    {
     "name": "stdout",
     "output_type": "stream",
     "text": [
      " Odd: attaching 14\n",
      "      la becomes [3, 5, 6, 7, 14]\n",
      "Even: removing 14\n",
      "      removing 7\n",
      "      la becomes [3, 5, 6]\n",
      "Even: removing 6\n",
      "      removing 5\n",
      "      la becomes [3]\n",
      " Odd: attaching 6\n",
      "      la becomes [3, 6]\n",
      "Even: removing 6\n",
      "      removing 3\n",
      "      la becomes []\n",
      "Done! la is []\n"
     ]
    }
   ],
   "source": [
    "la = [3,5,6,7]\n",
    "\n",
    "# write here\n",
    "\n"
   ]
  },
  {
   "cell_type": "markdown",
   "metadata": {},
   "source": [
    "## References\n",
    "\n",
    "- [Think Python, Chapter 7, Iteration](http://greenteapress.com/thinkpython2/html/thinkpython2008.html)\n",
    "- [W3 Resources - Conditional statements and loop exercises](https://www.w3resource.com/python-exercises/python-conditional-statements-and-loop-exercises.php)"
   ]
  },
  {
   "cell_type": "code",
   "execution_count": null,
   "metadata": {},
   "outputs": [],
   "source": []
  }
 ],
 "metadata": {
  "kernelspec": {
   "display_name": "Python 3",
   "language": "python",
   "name": "python3"
  },
  "language_info": {
   "codemirror_mode": {
    "name": "ipython",
    "version": 3
   },
   "file_extension": ".py",
   "mimetype": "text/x-python",
   "name": "python",
   "nbconvert_exporter": "python",
   "pygments_lexer": "ipython3",
   "version": "3.5.2"
  },
  "toc": {
   "base_numbering": 1,
   "nav_menu": {},
   "number_sections": false,
   "sideBar": true,
   "skip_h1_title": false,
   "title_cell": "Table of Contents",
   "title_sidebar": "Contents",
   "toc_cell": false,
   "toc_position": {
    "height": "calc(100% - 180px)",
    "left": "10px",
    "top": "150px",
    "width": "311px"
   },
   "toc_section_display": true,
   "toc_window_display": true
  }
 },
 "nbformat": 4,
 "nbformat_minor": 2
}
