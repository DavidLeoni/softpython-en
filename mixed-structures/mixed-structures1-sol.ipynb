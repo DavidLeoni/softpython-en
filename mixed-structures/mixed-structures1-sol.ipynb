{
 "cells": [
  {
   "cell_type": "markdown",
   "id": "c7484fbe",
   "metadata": {},
   "source": [
    "# Mixed structures 1\n",
    "\n",
    "## [Download exercises zip](../_static/generated/mixed-structures.zip)\n",
    "\n",
    "[Naviga file online](https://github.com/DavidLeoni/softpython-en/tree/master/mixed-structures)\n",
    "\n",
    "In this notebook we will see how to manage more complex data structures like lists of dictionaries and dictionaries of lists, examining also the meaning of shallow and deep copy."
   ]
  },
  {
   "cell_type": "markdown",
   "id": "9403acf2",
   "metadata": {},
   "source": [
    "### Exercise - Luxury Holding\n",
    "\n",
    "<div class=\"alert alert-warning\">\n",
    "\n",
    "**WARNING**\n",
    "\n",
    "The following exercises contain tests with _asserts_. To understand how to carry them out, read first [Error handling and testing](https://en.softpython.org/functions/fun2-errors-and-testing-sol.html) \n",
    "\n",
    "</div>"
   ]
  },
  {
   "cell_type": "markdown",
   "id": "dc54d32d",
   "metadata": {},
   "source": [
    "A luxury holding groups several companies and has a  database of managers as a list of dictionaries. Each employee is represented by a dictionary:\n",
    "\n",
    "```python\n",
    "{\n",
    "    \"name\":\"Alessandro\",\n",
    "    \"surname\": \"Borgoloso\",\n",
    "    \"age\": 34,\n",
    "    \"company\": {\n",
    "                   \"name\": \"Aringhe Candite Spa\",\n",
    "                   \"sector\":\"Alimentari\"\n",
    "               }\n",
    "},\n",
    "```\n",
    "\n",
    "The dictionary has several simple attributes like `name`, `surname`, `age`. The attribute `company` is more complex, because it is represented as another dictionary:\n",
    "\n",
    "```python\n",
    "\"company\": {\n",
    "                   \"name\": \"Aringhe Candite Spa\",\n",
    "                   \"sector\":\"Alimentari\"\n",
    "               }\n",
    "```               "
   ]
  },
  {
   "cell_type": "code",
   "execution_count": 1,
   "id": "78ec8d60",
   "metadata": {},
   "outputs": [],
   "source": [
    "managers_db = [\n",
    "  {\n",
    "    \"name\":\"Alessandro\",\n",
    "    \"surname\": \"Borgoloso\",\n",
    "    \"age\": 34,\n",
    "    \"company\": {\n",
    "                   \"name\": \"Candied Herrings\",\n",
    "                   \"sector\":\"Food\"\n",
    "               }\n",
    "  },    \n",
    "  { \n",
    "    \"name\":\"Matilda\",\n",
    "    \"surname\": \"Delle Sòle\",\n",
    "    \"age\": 25,\n",
    "    \"company\": {\n",
    "                    \"name\": \"Pythonic Footwear\",\n",
    "                    \"sector\":\"Fashion\"\n",
    "               }\n",
    "  },        \n",
    "  {\n",
    "    \"name\":\"Alfred\",\n",
    "    \"surname\": \"Pennyworth\",\n",
    "    \"age\": 20,\n",
    "    \"company\": {\n",
    "                    \"name\": \"Batworks\",\n",
    "                    \"sector\":\"Fashion\"\n",
    "               }\n",
    "  },\n",
    "  { \n",
    "    \"name\":\"Arianna\",\n",
    "    \"surname\": \"Schei\",\n",
    "    \"age\": 37,\n",
    "    \"company\": {\n",
    "                    \"name\": \"MegaDiamonds Unlimited\",\n",
    "                    \"sector\":\"Precious stones\"\n",
    "               }\n",
    "  },    \n",
    "  {\n",
    "    \"name\":\"Antonione\",\n",
    "    \"surname\": \"Cannavacci\",\n",
    "    \"age\": 25,\n",
    "    \"company\": {\n",
    "                    \"name\": \"Candied Herrings\",\n",
    "                    \"sector\":\"Food\"\n",
    "               }\n",
    "  },    \n",
    "]"
   ]
  },
  {
   "cell_type": "markdown",
   "id": "e3e4ddf1",
   "metadata": {},
   "source": [
    "### Exercise - extract_managers\n",
    "\n",
    "✪✪ RETURN the manager names in a list"
   ]
  },
  {
   "cell_type": "raw",
   "id": "d420e0f9",
   "metadata": {
    "format": "text/html"
   },
   "source": [
    "<a  class=\"jupman-sol jupman-sol-toggler\" \n",
    " onclick=\"jupman.toggleSolution(this);\" \n",
    " data-jupman-show=\"Show solution\" data-jupman-hide=\"Hide\">Show solution</a><div class=\"jupman-sol jupman-sol-code\" style=\"display:none\">  "
   ]
  },
  {
   "cell_type": "code",
   "execution_count": 2,
   "id": "f9660051",
   "metadata": {},
   "outputs": [],
   "source": [
    "\n",
    "def extract_managers(db):\n",
    "    \n",
    "    ret = []\n",
    "    for d in db:\n",
    "        ret.append(d[\"name\"])\n",
    "    return ret\n",
    "    \n",
    "\n",
    "assert extract_managers([]) == []\n",
    "\n",
    "# if it doesn't find managers_db, remember to execute the cell above which defines it !\n",
    "assert extract_managers(managers_db) == ['Alessandro', 'Matilda', 'Alfred', 'Arianna', 'Antonione']"
   ]
  },
  {
   "cell_type": "raw",
   "id": "63eaf5d2",
   "metadata": {
    "format": "text/html"
   },
   "source": [
    "</div>"
   ]
  },
  {
   "cell_type": "code",
   "execution_count": 2,
   "id": "f9660051-stripped",
   "metadata": {},
   "outputs": [],
   "source": [
    "\n",
    "def extract_managers(db):\n",
    "    raise Exception('TODO IMPLEMENT ME !')\n",
    "\n",
    "assert extract_managers([]) == []\n",
    "\n",
    "# if it doesn't find managers_db, remember to execute the cell above which defines it !\n",
    "assert extract_managers(managers_db) == ['Alessandro', 'Matilda', 'Alfred', 'Arianna', 'Antonione']"
   ]
  },
  {
   "cell_type": "markdown",
   "id": "3b7da0f3",
   "metadata": {},
   "source": [
    "### Exercise - extract_companies\n",
    "\n",
    "✪✪ RETURN the names of departments in a list."
   ]
  },
  {
   "cell_type": "raw",
   "id": "d78ead12",
   "metadata": {
    "format": "text/html"
   },
   "source": [
    "<a  class=\"jupman-sol jupman-sol-toggler\" \n",
    " onclick=\"jupman.toggleSolution(this);\" \n",
    " data-jupman-show=\"Show solution\" data-jupman-hide=\"Hide\">Show solution</a><div class=\"jupman-sol jupman-sol-code\" style=\"display:none\">  "
   ]
  },
  {
   "cell_type": "code",
   "execution_count": 3,
   "id": "a7efc78b",
   "metadata": {},
   "outputs": [],
   "source": [
    "def extract_companies(db):\n",
    "    \n",
    "    ret = []\n",
    "    for d in db:\n",
    "        ret.append(d[\"company\"][\"name\"])\n",
    "       \n",
    "    return ret\n",
    "    \n",
    "\n",
    "\n",
    "assert extract_companies([]) == []\n",
    "# if it doesn't find managers_db, remember to execute the cell above which defines it !\n",
    "assert extract_companies(managers_db) == [\"Candied Herrings\",\"Pythonic Footwear\",\"Batworks\",\"MegaDiamonds Unlimited\",\"Candied Herrings\"]"
   ]
  },
  {
   "cell_type": "raw",
   "id": "3232b59d",
   "metadata": {
    "format": "text/html"
   },
   "source": [
    "</div>"
   ]
  },
  {
   "cell_type": "code",
   "execution_count": 3,
   "id": "a7efc78b-stripped",
   "metadata": {},
   "outputs": [],
   "source": [
    "def extract_companies(db):\n",
    "    raise Exception('TODO IMPLEMENT ME !')\n",
    "\n",
    "\n",
    "assert extract_companies([]) == []\n",
    "# if it doesn't find managers_db, remember to execute the cell above which defines it !\n",
    "assert extract_companies(managers_db) == [\"Candied Herrings\",\"Pythonic Footwear\",\"Batworks\",\"MegaDiamonds Unlimited\",\"Candied Herrings\"]"
   ]
  },
  {
   "cell_type": "markdown",
   "id": "fcc05437",
   "metadata": {},
   "source": [
    "### Exercise - avg_age\n",
    "\n",
    "✪✪ RETURN the average age of managers"
   ]
  },
  {
   "cell_type": "raw",
   "id": "cffa8e2e",
   "metadata": {
    "format": "text/html"
   },
   "source": [
    "<a  class=\"jupman-sol jupman-sol-toggler\" \n",
    " onclick=\"jupman.toggleSolution(this);\" \n",
    " data-jupman-show=\"Show solution\" data-jupman-hide=\"Hide\">Show solution</a><div class=\"jupman-sol jupman-sol-code\" style=\"display:none\">  "
   ]
  },
  {
   "cell_type": "code",
   "execution_count": 4,
   "id": "374e8904",
   "metadata": {},
   "outputs": [],
   "source": [
    "\n",
    "def avg_age(db):\n",
    "    \n",
    "    s = 0\n",
    "    for d in db:\n",
    "        s += d[\"age\"]\n",
    "    \n",
    "    return s / len(db)\n",
    "    \n",
    "\n",
    "      \n",
    "# since the function returns a float we can't compare for exact numbers but \n",
    "# only for close numbers with the function math.isclose\n",
    "import math   \n",
    "assert math.isclose(avg_age(managers_db), (34 + 25 + 20 + 37 + 25) / 5)"
   ]
  },
  {
   "cell_type": "raw",
   "id": "2464c2eb",
   "metadata": {
    "format": "text/html"
   },
   "source": [
    "</div>"
   ]
  },
  {
   "cell_type": "code",
   "execution_count": 4,
   "id": "374e8904-stripped",
   "metadata": {},
   "outputs": [],
   "source": [
    "\n",
    "def avg_age(db):\n",
    "    raise Exception('TODO IMPLEMENT ME !')\n",
    "\n",
    "      \n",
    "# since the function returns a float we can't compare for exact numbers but \n",
    "# only for close numbers with the function math.isclose\n",
    "import math   \n",
    "assert math.isclose(avg_age(managers_db), (34 + 25 + 20 + 37 + 25) / 5)"
   ]
  },
  {
   "cell_type": "markdown",
   "id": "3102e612",
   "metadata": {},
   "source": [
    "### Exercise - sectors\n",
    "\n",
    "✪✪ RETURN the company sectors in a list, WITHOUT duplicates and alphabetiacally sorted!!!"
   ]
  },
  {
   "cell_type": "raw",
   "id": "dd932072",
   "metadata": {
    "format": "text/html"
   },
   "source": [
    "<a  class=\"jupman-sol jupman-sol-toggler\" \n",
    " onclick=\"jupman.toggleSolution(this);\" \n",
    " data-jupman-show=\"Show solution\" data-jupman-hide=\"Hide\">Show solution</a><div class=\"jupman-sol jupman-sol-code\" style=\"display:none\">  "
   ]
  },
  {
   "cell_type": "code",
   "execution_count": 5,
   "id": "080e3306",
   "metadata": {},
   "outputs": [],
   "source": [
    "def sectors(db):\n",
    "    \n",
    "    ret = []\n",
    "    for d in db:\n",
    "        sector = d[\"company\"][\"sector\"]\n",
    "        if sector not in ret:\n",
    "            ret.append(sector)\n",
    "\n",
    "    ret.sort()\n",
    "    return ret\n",
    "    \n",
    "\n",
    "    \n",
    "assert sectors([]) == []\n",
    "assert sectors(managers_db) == [\"Fashion\", \"Food\", \"Precious stones\"]"
   ]
  },
  {
   "cell_type": "raw",
   "id": "6e6a1ef4",
   "metadata": {
    "format": "text/html"
   },
   "source": [
    "</div>"
   ]
  },
  {
   "cell_type": "code",
   "execution_count": 5,
   "id": "080e3306-stripped",
   "metadata": {},
   "outputs": [],
   "source": [
    "def sectors(db):\n",
    "    raise Exception('TODO IMPLEMENT ME !')\n",
    "\n",
    "    \n",
    "assert sectors([]) == []\n",
    "assert sectors(managers_db) == [\"Fashion\", \"Food\", \"Precious stones\"]"
   ]
  },
  {
   "cell_type": "markdown",
   "id": "a91b98ad",
   "metadata": {},
   "source": [
    "## Other exercises"
   ]
  },
  {
   "cell_type": "markdown",
   "id": "8f262363",
   "metadata": {},
   "source": [
    "### Exercise - medie\n",
    "\n",
    "✪✪ Given a dictionary structured as a tree regarding the grades of a student in class V and VI, RETURN an array containing the average for each subject\n",
    "\n",
    "\n",
    "Example:\n",
    "\n",
    "```python\n",
    ">>> averages([\n",
    "      {'id' : 1, 'subject' : 'math',    'V' : 70, 'VI' : 82},\n",
    "      {'id' : 1, 'subject' : 'italian', 'V' : 73, 'VI' : 74},\n",
    "      {'id' : 1, 'subject' : 'german',  'V' : 75, 'VI' : 86}\n",
    "    ])\n",
    "```\n",
    "\n",
    "returns \n",
    "\n",
    "```\n",
    "[ 76.0 , 73.5, 80.5 ]\n",
    "```\n",
    "\n",
    "which corresponds to\n",
    "\n",
    "```python\n",
    "[ (70+82)/2 , (73+74)/2, (75+86)/2 ]\n",
    "```"
   ]
  },
  {
   "cell_type": "code",
   "execution_count": 1,
   "id": "76ae66b7",
   "metadata": {},
   "outputs": [],
   "source": [
    "def averages(lst):\n",
    "    ret = [0.0, 0.0, 0.0]\n",
    "    \n",
    "    for i in range(len(lst)):\n",
    "        ret[i] = (lst[i]['V'] + lst[i]['VI']) / 2\n",
    "   \n",
    "    return ret\n",
    "\n",
    "  \n",
    "# TEST START - DO NOT TOUCH!      \n",
    "# if you wrote the whole code correct, and execute the cell, Python shouldn't raise `AssertionError`\n",
    "import math\n",
    "\n",
    "def is_list_close(lista, listb):\n",
    "    \"\"\" Verifies the float numbers in lista are similar to numbers in listb\n",
    "\n",
    "    \"\"\"\n",
    "\n",
    "    if len(lista) != len(listb):\n",
    "        return False\n",
    "    \n",
    "    for i in range(len(lista)):\n",
    "        if not math.isclose(lista[i], listb[i]):\n",
    "            return False\n",
    "  \n",
    "    return True\n",
    "\n",
    "assert is_list_close(averages([\n",
    "                            {'id' : 1, 'subject' : 'math', 'V' : 70, 'VI' : 82},\n",
    "                            {'id' : 1, 'subject' : 'italian', 'V' : 73, 'VI' : 74},\n",
    "                            {'id' : 1, 'subject' : 'german', 'V' : 75, 'VI' : 86}\n",
    "                          ]),         \n",
    "                     [ 76.0 , 73.5, 80.5 ])\n",
    "# TEST END"
   ]
  },
  {
   "cell_type": "markdown",
   "id": "c128afb7",
   "metadata": {},
   "source": [
    "### Exercise - has_pref\n",
    "\n",
    "✪✪ A big store has a database of clients modelled as a dictionary which associates customer names to their preferences regarding the categories of articles the usually buy:\n",
    "\n",
    "```python\n",
    "    {\n",
    "        'aldo':     ['cinema', 'music', 'sport'],\n",
    "        'giovanni': ['music'],\n",
    "        'giacomo':  ['cinema', 'videogames']\n",
    "    }\n",
    "```\n",
    "Given the dictionary, the customer name and a category, write a function `has_pref` which RETURN `True` if that client has the given preference, `False` otherwise\n",
    "\n",
    "Example:\n",
    "\n",
    "```python\n",
    "ha_pref({\n",
    "            'aldo':     ['cinema', 'musica', 'sport'],\n",
    "            'giovanni': ['musica'],\n",
    "            'giacomo':  ['cinema', 'videogiochi']\n",
    "    \n",
    "        }, 'aldo', 'musica')\n",
    "```\n",
    "\n",
    "must return `True`, because aldo likes music, while instead:\n",
    "\n",
    "```python\n",
    "has_pref({'aldo':    ['cinema', 'music', 'sport'],\n",
    "         'giovanni': ['music'],\n",
    "         'giacomo':  ['cinema', 'videogames']\n",
    "    \n",
    "        }, 'giacomo', 'sport')\n",
    "```\n",
    "\n",
    "must return  `False` because giacomo doesn't like sport."
   ]
  },
  {
   "cell_type": "raw",
   "id": "f19234e0",
   "metadata": {
    "format": "text/html"
   },
   "source": [
    "<a  class=\"jupman-sol jupman-sol-toggler\" \n",
    " onclick=\"jupman.toggleSolution(this);\" \n",
    " data-jupman-show=\"Show solution\" data-jupman-hide=\"Hide\">Show solution</a><div class=\"jupman-sol jupman-sol-code\" style=\"display:none\">  "
   ]
  },
  {
   "cell_type": "code",
   "execution_count": 7,
   "id": "d34a8e59",
   "metadata": {},
   "outputs": [],
   "source": [
    "\n",
    "def has_pref(d, name, pref):\n",
    "    \n",
    "    if name in d:\n",
    "        return pref in d[name]\n",
    "    else:\n",
    "        return False\n",
    "    \n",
    "    \n",
    "assert has_pref({}, 'a', 'x') == False\n",
    "assert has_pref({'a':[]}, 'a',  'x') == False\n",
    "assert has_pref({'a':['x']}, 'a',  'x') == True\n",
    "assert has_pref({'a':['x']}, 'b',  'x') == False\n",
    "assert has_pref({'a':['x','y']}, 'a',  'y') == True\n",
    "assert has_pref({'a':['x','y'],\n",
    "                   'b':['y','x','z']}, 'b',  'y') == True\n",
    "assert has_pref({'aldo':     ['cinema', 'music', 'sport'],\n",
    "                 'giovanni': ['music'],\n",
    "                 'giacomo':  ['cinema', 'videogames']\n",
    "                }, 'aldo', 'music') == True\n",
    "assert has_pref({'aldo':     ['cinema', 'music', 'sport'],\n",
    "                 'giovanni': ['music'],\n",
    "                 'giacomo':  ['cinema', 'videogames']\n",
    "                }, 'giacomo', 'sport') == False"
   ]
  },
  {
   "cell_type": "raw",
   "id": "1d5d9acc",
   "metadata": {
    "format": "text/html"
   },
   "source": [
    "</div>"
   ]
  },
  {
   "cell_type": "code",
   "execution_count": 7,
   "id": "d34a8e59-stripped",
   "metadata": {},
   "outputs": [],
   "source": [
    "\n",
    "def has_pref(d, name, pref):\n",
    "    raise Exception('TODO IMPLEMENT ME !')\n",
    "    \n",
    "assert has_pref({}, 'a', 'x') == False\n",
    "assert has_pref({'a':[]}, 'a',  'x') == False\n",
    "assert has_pref({'a':['x']}, 'a',  'x') == True\n",
    "assert has_pref({'a':['x']}, 'b',  'x') == False\n",
    "assert has_pref({'a':['x','y']}, 'a',  'y') == True\n",
    "assert has_pref({'a':['x','y'],\n",
    "                   'b':['y','x','z']}, 'b',  'y') == True\n",
    "assert has_pref({'aldo':     ['cinema', 'music', 'sport'],\n",
    "                 'giovanni': ['music'],\n",
    "                 'giacomo':  ['cinema', 'videogames']\n",
    "                }, 'aldo', 'music') == True\n",
    "assert has_pref({'aldo':     ['cinema', 'music', 'sport'],\n",
    "                 'giovanni': ['music'],\n",
    "                 'giacomo':  ['cinema', 'videogames']\n",
    "                }, 'giacomo', 'sport') == False"
   ]
  },
  {
   "cell_type": "markdown",
   "id": "a9ad14ca",
   "metadata": {},
   "source": [
    "### Exercise - festival\n",
    "\n",
    "✪✪✪ During a country festival in Italy, the local pastry shops decide to donate each a certain amount of pastries. Every shop is represented as a dictionary, which contains pastries names as keys plus the special key `name` which represents the shop name itself (assume all the shops produce the same types of pastries)\n",
    "\n",
    "```python\n",
    "shops = [{'babbà':3,\n",
    "          'bignè':4,\n",
    "          'zippole':2,\n",
    "          'name':'Da Gigi'},\n",
    "         {'babbà':5,\n",
    "          'bignè':3,\n",
    "          'zippole':9,\n",
    "          'name':'La Delizia'},\n",
    "         {'babbà':1,\n",
    "          'bignè':2,\n",
    "          'zippole':6,\n",
    "          'name':'Gnam gnam'},\n",
    "         {'babbà':7,\n",
    "          'bignè':8,\n",
    "          'zippole':4,\n",
    "          'name':'Il Dessert'}]\n",
    "```\n",
    "\n",
    "Given a list of such dictionaries and a list of pastries `pastries`, we want to produce as output a NEW list of lists structured like this:\n",
    "\n",
    "```python\n",
    ">>> festival(shops, ['babbà', 'bignè', 'zippole'])\n",
    "\n",
    "[['Name',      'babbà', 'bignè', 'zippole' ],\n",
    " ['Da Gigi',      3,       4,        2     ],\n",
    " ['La Delizia',   5,       3,        9     ],\n",
    " ['Gnam gnam',    1,       2,        6     ],\n",
    " ['Il Dessert',   7,       8,        4     ],\n",
    " ['Totals',       16,      17,       21    ]]\n",
    "```\n",
    "\n",
    "which has the totals of each pastry type."
   ]
  },
  {
   "cell_type": "raw",
   "id": "50187f50",
   "metadata": {
    "format": "text/html"
   },
   "source": [
    "<a  class=\"jupman-sol jupman-sol-toggler\" \n",
    " onclick=\"jupman.toggleSolution(this);\" \n",
    " data-jupman-show=\"Show solution\" data-jupman-hide=\"Hide\">Show solution</a><div class=\"jupman-sol jupman-sol-code\" style=\"display:none\">  "
   ]
  },
  {
   "cell_type": "code",
   "execution_count": 8,
   "id": "823f0101",
   "metadata": {},
   "outputs": [],
   "source": [
    "\n",
    "def festival(shops, pastries):\n",
    "    \n",
    "    ret = []\n",
    "    ret.append(['Name']+ pastries[:])  # we make a copy of pastries to prevent modification of the input\n",
    "    sums = [0]*(len(pastries)+1)\n",
    "    sums[0] = 'Totals'\n",
    "    for p in shops:\n",
    "        j = 1\n",
    "        row = [p['name']]\n",
    "        for pastry in pastries:\n",
    "            row.append(p[pastry])\n",
    "            sums[j] += p[pastry]\n",
    "            j += 1\n",
    "        ret.append(row)\n",
    "    ret.append(sums)\n",
    "    return ret\n",
    "    \n",
    "\n",
    "from pprint import pprint\n",
    "\n",
    "pastries1 = ['cornetti']\n",
    "res1 = festival([{'name':'La Patisserie',\n",
    "               'cornetti':2},\n",
    "              {'cornetti':5,\n",
    "                'name':'La Casa Del Cioccolato'}], pastries1)\n",
    "assert res1 == [['Name',                  'cornetti' ],\n",
    "                ['La Patisserie',              2     ],\n",
    "                ['La Casa Del Cioccolato',     5     ],\n",
    "                ['Totals',                     7     ]]\n",
    "assert pastries1 == ['cornetti'] # verify the input didn't change\n",
    "\n",
    "shops2 = [{'babbà':3,\n",
    "           'bignè':4,\n",
    "           'zippole':2,\n",
    "           'name':'Da Gigi'},\n",
    "          {'babbà':5,\n",
    "           'bignè':3,\n",
    "           'zippole':9,\n",
    "           'name':'La Delizia'},\n",
    "          {'babbà':1,\n",
    "           'bignè':2,\n",
    "           'zippole':6,\n",
    "           'name':'Gnam gnam'},\n",
    "          {'babbà':7,\n",
    "           'bignè':8,\n",
    "           'zippole':4,\n",
    "           'name':'Il Dessert'}]\n",
    "\n",
    "\n",
    "res2 = festival(shops2, ['bignè', 'babbà', 'zippole'])\n",
    "#pprint(res2, width=43)\n",
    "\n",
    "assert res2 == [['Name',     'bignè',  'babbà', 'zippole'],\n",
    "                ['Da Gigi',     4,        3,       2     ],\n",
    "                ['La Delizia',  3,        5,       9     ],\n",
    "                ['Gnam gnam',   2,        1,       6     ],\n",
    "                ['Il Dessert',  8,        7,       4     ],\n",
    "                ['Totals',      17,       16,      21    ]]\n"
   ]
  },
  {
   "cell_type": "raw",
   "id": "e1a2003f",
   "metadata": {
    "format": "text/html"
   },
   "source": [
    "</div>"
   ]
  },
  {
   "cell_type": "code",
   "execution_count": 8,
   "id": "823f0101-stripped",
   "metadata": {},
   "outputs": [],
   "source": [
    "\n",
    "def festival(shops, pastries):\n",
    "    raise Exception('TODO IMPLEMENT ME !')\n",
    "\n",
    "from pprint import pprint\n",
    "\n",
    "pastries1 = ['cornetti']\n",
    "res1 = festival([{'name':'La Patisserie',\n",
    "               'cornetti':2},\n",
    "              {'cornetti':5,\n",
    "                'name':'La Casa Del Cioccolato'}], pastries1)\n",
    "assert res1 == [['Name',                  'cornetti' ],\n",
    "                ['La Patisserie',              2     ],\n",
    "                ['La Casa Del Cioccolato',     5     ],\n",
    "                ['Totals',                     7     ]]\n",
    "assert pastries1 == ['cornetti'] # verify the input didn't change\n",
    "\n",
    "shops2 = [{'babbà':3,\n",
    "           'bignè':4,\n",
    "           'zippole':2,\n",
    "           'name':'Da Gigi'},\n",
    "          {'babbà':5,\n",
    "           'bignè':3,\n",
    "           'zippole':9,\n",
    "           'name':'La Delizia'},\n",
    "          {'babbà':1,\n",
    "           'bignè':2,\n",
    "           'zippole':6,\n",
    "           'name':'Gnam gnam'},\n",
    "          {'babbà':7,\n",
    "           'bignè':8,\n",
    "           'zippole':4,\n",
    "           'name':'Il Dessert'}]\n",
    "\n",
    "\n",
    "res2 = festival(shops2, ['bignè', 'babbà', 'zippole'])\n",
    "#pprint(res2, width=43)\n",
    "\n",
    "assert res2 == [['Name',     'bignè',  'babbà', 'zippole'],\n",
    "                ['Da Gigi',     4,        3,       2     ],\n",
    "                ['La Delizia',  3,        5,       9     ],\n",
    "                ['Gnam gnam',   2,        1,       6     ],\n",
    "                ['Il Dessert',  8,        7,       4     ],\n",
    "                ['Totals',      17,       16,      21    ]]\n"
   ]
  },
  {
   "cell_type": "markdown",
   "id": "72ef64a1",
   "metadata": {},
   "source": [
    "### Exercise - actorswap\n",
    "\n",
    "✪✪✪ Given a movie list where each movie is represented as a dictionary, RETURN a NEW list with NEW dictionaries having the male actor names swapped with the female ones.\n",
    "\n",
    "- **ONLY** swap actor names\n",
    "- you can't predict actor names\n",
    "- you only know each dictionary holds exactly three keys, of which  two are known: `title` and `year`."
   ]
  },
  {
   "cell_type": "markdown",
   "id": "b96ff62e",
   "metadata": {},
   "source": [
    "Example:\n",
    "\n",
    "```python\n",
    "db = [\n",
    "            {'title':'Jerry Maguire',\n",
    "             'year':1996,\n",
    "             'Jerry':'Dorothy',},\n",
    "            {'title':'Superman',\n",
    "             'Kent':'Lois',\n",
    "             'year': 1978},\n",
    "            {'title':'The Lord of the Rings',\n",
    "             'year': 2001,\n",
    "             'Aragorn':'Arwen',},\n",
    "            {'Ron Weasley':'Hermione',\n",
    "             'title': 'Harry Potter and the Deathly Hallows, Part 2',\n",
    "             'year': 2011}\n",
    "]    \n",
    "\n",
    ">>> actorswap(db)\n",
    "[{'title': 'Jerry Maguire',\n",
    "  'year': 1996, \n",
    "  'Dorothy': 'Jerry'},\n",
    " {'title': 'Superman',\n",
    " 'year': 1978, \n",
    " 'Lois': 'Kent'},\n",
    " {'title': 'The Lord of the Rings',\n",
    " 'year': 2001, \n",
    " 'Arwen': 'Aragorn'},\n",
    " {'title': 'Harry Potter and the Deathly Hallows, Part 2',\n",
    " 'year': 2011,\n",
    " 'Hermione': 'Ron Weasley',                             \n",
    " }]\n",
    "\n",
    "```"
   ]
  },
  {
   "cell_type": "raw",
   "id": "fe4d4e49",
   "metadata": {
    "format": "text/html"
   },
   "source": [
    "<a  class=\"jupman-sol jupman-sol-toggler\" \n",
    " onclick=\"jupman.toggleSolution(this);\" \n",
    " data-jupman-show=\"Show solution\" data-jupman-hide=\"Hide\">Show solution</a><div class=\"jupman-sol jupman-sol-code\" style=\"display:none\">  "
   ]
  },
  {
   "cell_type": "code",
   "execution_count": 1,
   "id": "e087b3f5",
   "metadata": {},
   "outputs": [],
   "source": [
    "\n",
    "def actorswap(movies):\n",
    "    \n",
    "    ret = []\n",
    "    for diz in movies:\n",
    "        nuovo = {}\n",
    "        ret.append(nuovo)\n",
    "        for k in diz:        \n",
    "            if k == 'title' or k == 'year':\n",
    "                nuovo[k] = diz[k]\n",
    "            else:\n",
    "                nuovo[diz[k]] = k        \n",
    "    return ret\n",
    "    \n",
    "\n",
    "# TEST START\n",
    "l1 = []\n",
    "assert actorswap(l1) == []\n",
    "\n",
    "l2 = [ {'title': 'Pretty Woman',\n",
    "        'year': 1990,\n",
    "        'Edward':'Vivian'},\n",
    "       {'title': 'Titanic',\n",
    "        'year': 1997,\n",
    "        'Jack' : 'Rose'}\n",
    "     ]\n",
    "orig_film = l2[0]\n",
    "res2 = actorswap(l2) \n",
    "assert res2 == [ {'title': 'Pretty Woman',\n",
    "                   'year': 1990,\n",
    "                   'Vivian':'Edward'},\n",
    "                 {'title': 'Titanic',\n",
    "                  'year': 1997,\n",
    "                  'Rose' : 'Jack'}\n",
    "               ]\n",
    "assert id(l2) != id(res2)            # must produce a NEW list\n",
    "assert id(orig_film) != id(res2[0])  # must produce a NEW dictionary\n",
    "    \n",
    "l3 = [\n",
    "        {'title':'Jerry Maguire',\n",
    "         'year':1996,\n",
    "         'Jerry':'Dorothy',},\n",
    "        {'title':'Superman',\n",
    "         'Kent':'Lois',\n",
    "         'year': 1978},\n",
    "        {'title':'The Lord of the Rings',\n",
    "         'year': 2001,\n",
    "         'Aragorn':'Arwen',},\n",
    "        {'Ron Weasley':'Hermione',\n",
    "         'title': 'Harry Potter and the Deathly Hallows, Part 2',\n",
    "         'year': 2011}\n",
    "]    \n",
    "\n",
    "assert actorswap(l3) == [{'title': 'Jerry Maguire',\n",
    "                          'year': 1996, \n",
    "                          'Dorothy': 'Jerry'},\n",
    "                         {'title': 'Superman',\n",
    "                          'year': 1978, \n",
    "                          'Lois': 'Kent'},\n",
    "                         {'title': 'The Lord of the Rings',\n",
    "                          'year': 2001, \n",
    "                          'Arwen': 'Aragorn'},\n",
    "                         {'title': 'Harry Potter and the Deathly Hallows, Part 2',\n",
    "                          'year': 2011,\n",
    "                          'Hermione': 'Ron Weasley',                             \n",
    "                         }]"
   ]
  },
  {
   "cell_type": "raw",
   "id": "75ccc5af",
   "metadata": {
    "format": "text/html"
   },
   "source": [
    "</div>"
   ]
  },
  {
   "cell_type": "code",
   "execution_count": 1,
   "id": "e087b3f5-stripped",
   "metadata": {},
   "outputs": [],
   "source": [
    "\n",
    "def actorswap(movies):\n",
    "    raise Exception('TODO IMPLEMENT ME !')\n",
    "\n",
    "# TEST START\n",
    "l1 = []\n",
    "assert actorswap(l1) == []\n",
    "\n",
    "l2 = [ {'title': 'Pretty Woman',\n",
    "        'year': 1990,\n",
    "        'Edward':'Vivian'},\n",
    "       {'title': 'Titanic',\n",
    "        'year': 1997,\n",
    "        'Jack' : 'Rose'}\n",
    "     ]\n",
    "orig_film = l2[0]\n",
    "res2 = actorswap(l2) \n",
    "assert res2 == [ {'title': 'Pretty Woman',\n",
    "                   'year': 1990,\n",
    "                   'Vivian':'Edward'},\n",
    "                 {'title': 'Titanic',\n",
    "                  'year': 1997,\n",
    "                  'Rose' : 'Jack'}\n",
    "               ]\n",
    "assert id(l2) != id(res2)            # must produce a NEW list\n",
    "assert id(orig_film) != id(res2[0])  # must produce a NEW dictionary\n",
    "    \n",
    "l3 = [\n",
    "        {'title':'Jerry Maguire',\n",
    "         'year':1996,\n",
    "         'Jerry':'Dorothy',},\n",
    "        {'title':'Superman',\n",
    "         'Kent':'Lois',\n",
    "         'year': 1978},\n",
    "        {'title':'The Lord of the Rings',\n",
    "         'year': 2001,\n",
    "         'Aragorn':'Arwen',},\n",
    "        {'Ron Weasley':'Hermione',\n",
    "         'title': 'Harry Potter and the Deathly Hallows, Part 2',\n",
    "         'year': 2011}\n",
    "]    \n",
    "\n",
    "assert actorswap(l3) == [{'title': 'Jerry Maguire',\n",
    "                          'year': 1996, \n",
    "                          'Dorothy': 'Jerry'},\n",
    "                         {'title': 'Superman',\n",
    "                          'year': 1978, \n",
    "                          'Lois': 'Kent'},\n",
    "                         {'title': 'The Lord of the Rings',\n",
    "                          'year': 2001, \n",
    "                          'Arwen': 'Aragorn'},\n",
    "                         {'title': 'Harry Potter and the Deathly Hallows, Part 2',\n",
    "                          'year': 2011,\n",
    "                          'Hermione': 'Ron Weasley',                             \n",
    "                         }]"
   ]
  },
  {
   "cell_type": "markdown",
   "id": "8c90bace",
   "metadata": {},
   "source": [
    "### -------\n",
    "<!-- ## Continue\n",
    "\n",
    "Go on with the [challenges](https://en.softpython.org/mixed-structures/mixed-structures2-chal.html) ...\n",
    "\n",
    "-->"
   ]
  }
 ],
 "metadata": {
  "kernelspec": {
   "display_name": "Python 3 (ipykernel)",
   "language": "python",
   "name": "python3"
  },
  "language_info": {
   "codemirror_mode": {
    "name": "ipython",
    "version": 3
   },
   "file_extension": ".py",
   "mimetype": "text/x-python",
   "name": "python",
   "nbconvert_exporter": "python",
   "pygments_lexer": "ipython3",
   "version": "3.7.10"
  },
  "toc": {
   "base_numbering": 1,
   "nav_menu": {},
   "number_sections": false,
   "sideBar": true,
   "skip_h1_title": false,
   "title_cell": "Table of Contents",
   "title_sidebar": "Contents",
   "toc_cell": false,
   "toc_position": {},
   "toc_section_display": true,
   "toc_window_display": true
  }
 },
 "nbformat": 4,
 "nbformat_minor": 5
}
