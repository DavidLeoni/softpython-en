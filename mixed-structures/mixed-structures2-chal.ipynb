{
 "cells": [
  {
   "cell_type": "markdown",
   "id": "worst-going",
   "metadata": {},
   "source": [
    "# Mixed structures 2 - Challenges\n",
    "\n",
    "## [Download exercises zip](../_static/generated/mixed-structures.zip)\n",
    "\n",
    "[Browse online files](https://github.com/DavidLeoni/softpython-en/tree/master/mixed-structures)"
   ]
  },
  {
   "cell_type": "markdown",
   "id": "14ca151d",
   "metadata": {},
   "source": [
    "We now propose some exercises without solution, do you accept the challenge?"
   ]
  },
  {
   "cell_type": "markdown",
   "id": "b05c2043",
   "metadata": {},
   "source": [
    "## Challenge - Guilty!\n",
    "\n",
    "Recently there has been a brutal execution at a _pizzeria_ in Little Italy, and the FBI has a list of suspects as a dictionary list. Each dictionary holds the suspect's name and values for `weapon`, `place` and `motive`, which tell the degree of suspicion for each category. The FBI also has a `weights` list assigned to each suspicion category, which are used by judges to determine the degree of guiltiness of each suspect. `weights` is expressed as a list of tuples: each tuple contains a suspicion category and the related weight as float. To calculate the guiltiness of each suspect, each weight is multiplied for the corresponding suspect's suspicion value and an overall sum is performed.\n",
    "\n",
    "\n",
    "The FBI asks you to produce a NEW table as a list of lists containing the gangster data, plus a column `'guiltiness'` calculated as explained above.\n",
    "\n",
    "- **REMEMBER** the table headers\n",
    "- **USE** the same items order as found in the `weights` list"
   ]
  },
  {
   "cell_type": "code",
   "execution_count": 1,
   "id": "0e5a94aa-stripped",
   "metadata": {},
   "outputs": [],
   "source": [
    "\n",
    "\n",
    "db = [\n",
    "    {'name'   : 'Cadillac Frank',\n",
    "     'weapon' :  5,\n",
    "     'place'  :  3,\n",
    "     'motive' :  7},\n",
    "    {'name'   : 'Lucky Vincent',\n",
    "     'weapon' :  7,\n",
    "     'place'  :  4,\n",
    "     'motive' :  8},\n",
    "    {'name'   : 'Three Fingers',\n",
    "     'weapon' :  1,\n",
    "     'place'  :  7,\n",
    "     'motive' :  4},\n",
    "    {'name'   : 'Vito The Butcher',\n",
    "     'weapon' :  3,\n",
    "     'place'  :  6,\n",
    "     'motive' :  5},\n",
    "]\n",
    "\n",
    "\n",
    "def judge(gangsters, weights):\n",
    "    raise Exception('TODO IMPLEMENT ME !')\n",
    "\n",
    "res = judge(db, [('weapon',0.1),                    \n",
    "                 ('motive',0.7),\n",
    "                 ('place', 0.2)])\n",
    "from pprint import pprint\n",
    "pprint(res, width=80)\n",
    "\n",
    "# note: since the table contains floats it would be better to check for closeness of values ..\n",
    "assert res == [['name',            'weapon', 'motive', 'place', 'guiltiness'],\n",
    "               ['Cadillac Frank',    5,        7,        3,          6.0     ],\n",
    "               ['Lucky Vincent',     7,        8,        4,          7.1     ],\n",
    "               ['Three Fingers',     1,        4,        7,          4.3     ],\n",
    "               ['Vito The Butcher',  3,        5,        6,          5.0     ]]"
   ]
  },
  {
   "cell_type": "code",
   "execution_count": 2,
   "id": "nasty-sampling-stripped",
   "metadata": {
    "nbsphinx": "hidden"
   },
   "outputs": [],
   "source": []
  },
  {
   "cell_type": "code",
   "execution_count": null,
   "id": "08f0caf6",
   "metadata": {},
   "outputs": [],
   "source": []
  }
 ],
 "metadata": {
  "kernelspec": {
   "display_name": "Python 3 (ipykernel)",
   "language": "python",
   "name": "python3"
  },
  "language_info": {
   "codemirror_mode": {
    "name": "ipython",
    "version": 3
   },
   "file_extension": ".py",
   "mimetype": "text/x-python",
   "name": "python",
   "nbconvert_exporter": "python",
   "pygments_lexer": "ipython3",
   "version": "3.7.10"
  },
  "toc": {
   "base_numbering": 1,
   "nav_menu": {},
   "number_sections": false,
   "sideBar": true,
   "skip_h1_title": false,
   "title_cell": "Table of Contents",
   "title_sidebar": "Contents",
   "toc_cell": false,
   "toc_position": {},
   "toc_section_display": true,
   "toc_window_display": true
  }
 },
 "nbformat": 4,
 "nbformat_minor": 5
}
