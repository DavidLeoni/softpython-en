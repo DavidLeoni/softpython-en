{
 "cells": [
  {
   "cell_type": "markdown",
   "metadata": {},
   "source": [
    "\n",
    "# Overview\n",
    "\n",
    "\n",
    "To start with we will spend a couple of words on the approach and the goals of the book, then we will deep dive into the code.\n"
   ]
  },
  {
   "cell_type": "markdown",
   "metadata": {},
   "source": [
    "\n",
    "\n",
    "![overview-38871](_static/img/overview.png)\n"
   ]
  },
  {
   "cell_type": "markdown",
   "metadata": {},
   "source": [
    "## Chapters\n",
    "\n",
    "The tutorial mostly deal with fundamentals of PYthon 3, data analysis (intended more like raw data processing than statistics) and some applications (dashboard, database, ..)\n",
    "\n",
    "**What are _not_ about:**\n",
    "\n",
    "- object oriented programming theory\n",
    "- algorithms, computational complexity\n",
    "- performance\n",
    "    - no terabytes of data ...\n",
    "- advanced debugging (pdb)\n",
    "- testing is only mentioned\n",
    "- machine learning\n",
    "- web development is only mentioned"
   ]
  },
  {
   "cell_type": "markdown",
   "metadata": {},
   "source": [
    "## Why Python?\n",
    "\n",
    "![python-logo-1823](_static/img/python-logo.png)\n",
    "\n",
    "- **Easy** enough to start with\n",
    "- **Versatile**, very much used for\n",
    "    - scientific calculus\n",
    "    - web applications\n",
    "    - scripting\n",
    "- **widespread** both in the industry and research environments\n",
    "    - [Tiobe](https://www.tiobe.com/tiobe-index/) Index\n",
    "    - [popularity on Github](https://madnight.github.io/githut/#/pull_requests/2020/1)\n",
    "- **Licence** [open source & business friendly](https://docs.python.org/3/license.html)\n",
    "    - translated: you can sell commercial products based on Python without paying royalties to its authors"
   ]
  },
  {
   "cell_type": "markdown",
   "metadata": {},
   "source": [
    "\n",
    "## References\n",
    "\n",
    "**Altro materiale**: Citiamo i seguenti due libri, entrambi dall'approccio discorsivo e gratuiti disponibili sia online che in pdf.\n"
   ]
  },
  {
   "cell_type": "markdown",
   "metadata": {},
   "source": [
    "### Part A  Resources\n",
    "\n",
    "\n",
    "\n",
    "### Think Python, by Allen Downey\n",
    "\n",
    "* Talks a lot, step by step, good for beginners\n",
    "* [online](http://www.greenteapress.com/thinkpython/html/)\n",
    "* [printed](https://www.amazon.it/Think-Python-Like-Computer-Scientist/dp/1491939362/ref=sr_1_1?ie=UTF8&qid=1537163819&sr=8-1&keywords=think+python)\n",
    "* [PDF](http://greenteapress.com/thinkpython2/thinkpython2.pdf)\n",
    "* [Interactive edition](https://runestone.academy/runestone/static/thinkcspy/index.html)\n",
    "\n",
    "License: [Creative Commons CC BY Non Commercial 3.0](http://creativecommons.org/licenses/by-nc/3.0/deed.it) as reported in the [original page](http://greenteapress.com/wp/think-python-2e/)\n",
    "\n"
   ]
  },
  {
   "cell_type": "markdown",
   "metadata": {},
   "source": [
    "### Dive into Python 3, by Mark Pilgrim\n",
    "\n",
    "* More practical, contains more focused tutorials (i.e. manage XML files) \n",
    "* [online version](http://www.diveintopython3.net/)\n",
    "* [printed](http://www.amazon.com/gp/product/1430224150?ie=UTF8&tag=diveintomark-20&creativeASIN=1430224150)\n",
    "* [zip offline](https://github.com/diveintomark/diveintopython3/zipball/master)\n",
    "* [PDF](https://github.com/downloads/diveintomark/diveintopython3/dive-into-python3.pdf)\n",
    "\n",
    "\n",
    "Licence: [Creative Commons By Share-alike 3.0](http://creativecommons.org/licenses/by-sa/3.0/) as reported at the bottom [of book website](http://www.diveintopython3.net/)"
   ]
  },
  {
   "cell_type": "markdown",
   "metadata": {},
   "source": [
    "\n",
    "## Approach and goals\n",
    "\n",
    "**If you have troubles with programming basics:**\n",
    "\n",
    "- **Exercise difficulty**: ✪ , ✪✪\n",
    "- Read [SoftPython - Parte A - Foundations](https://en.softpython.org/index.html#A---Foundations)\n",
    "- Other useful stuff can be found in the book  'Think Python'\n",
    "\n",
    "**If you already know how to program:**\n",
    "\n",
    "- **Exercise difficulty**: ✪✪✪, ✪✪✪✪\n",
    "- Read [Python Quick Intro](https://en.softpython.org/quick-intro/quick-intro-sol.html) and then go directly to Part B - Data Analysis\n",
    "- other useful things can be found in the book **Dive into Python 3**"
   ]
  },
  {
   "cell_type": "markdown",
   "metadata": {},
   "source": [
    "\n",
    "\n",
    "## Doesn't work, what should I do?\n",
    "\n",
    "While programming you will surely encounter problems, and you will stare at mystierious error messages on the screen. The purpose of this book is not to give a series of recipes to learn by heart and that always work, as much as guide you moving first steps in Python world with some ease. So, if something goes wrong, do not panic and try following this list of steps that might help you. Try following the proposed order:\n",
    "\n",
    "1. If in class, ask professor (if not in class, see last two points).\n",
    "2. If in class, ask the classmate who knows more\n",
    "3. Try finding the error message on Google\n",
    "    - remove names or parts too specific of your program, like line numbers, file names, variable names    \n",
    "    - [Stack overflow](https://stackoverflow.com) is your best friend   \n",
    "4. Look at [Appendix A - Debug from the book Think Python](http://greenteapress.com/thinkpython2/html/thinkpython2021.html)\n",
    "    - [Syntax errors](http://greenteapress.com/thinkpython2/html/thinkpython2021.html#235)\n",
    "        - [I keep making changes and it makes no difference.](http://greenteapress.com/thinkpython2/html/thinkpython2021.html#sec236)\n",
    "    - [Runtime errors](http://greenteapress.com/thinkpython2/html/thinkpython2021.html#sec237)\n",
    "        - [My program does absolutely nothing.](http://greenteapress.com/thinkpython2/html/thinkpython2021.html#sec238)\n",
    "        - [My program hangs.](http://greenteapress.com/thinkpython2/html/thinkpython2021.html#sec239)\n",
    "        - [Infinite Loop](http://greenteapress.com/thinkpython2/html/thinkpython2021.html#sec240)\n",
    "        - [Infinite Recursion](http://greenteapress.com/thinkpython2/html/thinkpython2021.html#sec2241)\n",
    "        - [Flow of Execution](http://greenteapress.com/thinkpython2/html/thinkpython2021.html#sec242)\n",
    "        - [When I run the program I get an exception](http://greenteapress.com/thinkpython2/html/thinkpython2021.html#sec243)\n",
    "        - [I added so many print statements I get inundated with\n",
    "output](http://greenteapress.com/thinkpython2/html/thinkpython2021.html#sec244)\n",
    "    - [Semantic errors](http://greenteapress.com/thinkpython2/html/thinkpython2021.html#sec245)\n",
    "        - [My program doesn't work](http://greenteapress.com/thinkpython2/html/thinkpython2021.html#sec246)\n",
    "        - [ve got a big hairy expression and it doesn't\n",
    "do what I expect.](http://greenteapress.com/thinkpython2/html/thinkpython2021.html#sec247)\n",
    "        - [ve got a function that doesn't return what I\n",
    "expect.](http://greenteapress.com/thinkpython2/html/thinkpython2021.html#sec248)\n",
    "        - [I'm really, really stuck and I need help.](http://greenteapress.com/thinkpython2/html/thinkpython2021.html#sec249)\n",
    "        - [No, I really need help.](http://greenteapress.com/thinkpython2/html/thinkpython2021.html#sec250)\n",
    "6. Gather some courage and ask on a public forum, like Stack overflow or python-forum.io - see [how to ask questions](#How-to-ask-questions)."
   ]
  },
  {
   "cell_type": "markdown",
   "metadata": {},
   "source": [
    "### How to ask questions\n",
    "\n",
    "<div class=\"alert alert-info\">\n",
    "\n",
    "**IMPORTANT**\n",
    "\n",
    "If you want to ask written questions on public chat/forums (i.e. like [python-forum.io](https://python-forum.io/index.php) DO FIRST READ the forum rules (see for example [How to ask Smart Questions](https://python-forum.io/misc.php?action=help&hid=19)\n",
    "</div>\n",
    "\n",
    "In substance, you are always asked to clearly express the problem circumstances, putting an explicative title to the post /mail and showing you spent some time (at least 10 min) trying a solution on your own. If you followed the above rules, and by misfortune you still find programmers who use harsh tones, just ignore them."
   ]
  },
  {
   "cell_type": "markdown",
   "metadata": {},
   "source": [
    "## Installation and tools\n",
    "\n",
    "- If you still haven't installed Python3 and Jupyter, have a look at [Installation](installation.ipynb)"
   ]
  },
  {
   "cell_type": "markdown",
   "metadata": {},
   "source": [
    "## Let's start !\n",
    "\n",
    "* **If you already have some programming skill**: you can look [Python quick start](quick-intro/quick-intro-sol.ipynb)\n",
    "* **If you don't have programming skills**: got to [Tools and scripts](https://en.softpython.org/tools/tools-sol.html)"
   ]
  }
 ],
 "metadata": {
  "celltoolbar": "Edit Metadata",
  "kernelspec": {
   "display_name": "Python 3",
   "language": "python",
   "name": "python3"
  },
  "language_info": {
   "codemirror_mode": {
    "name": "ipython",
    "version": 3
   },
   "file_extension": ".py",
   "mimetype": "text/x-python",
   "name": "python",
   "nbconvert_exporter": "python",
   "pygments_lexer": "ipython3",
   "version": "3.5.2"
  },
  "toc": {
   "base_numbering": 1,
   "nav_menu": {},
   "number_sections": false,
   "sideBar": true,
   "skip_h1_title": false,
   "title_cell": "Table of Contents",
   "title_sidebar": "Contents",
   "toc_cell": false,
   "toc_position": {},
   "toc_section_display": true,
   "toc_window_display": true
  }
 },
 "nbformat": 4,
 "nbformat_minor": 2
}
