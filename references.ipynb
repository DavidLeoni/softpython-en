{
 "cells": [
  {
   "cell_type": "markdown",
   "metadata": {},
   "source": [
    "# References"
   ]
  },
  {
   "cell_type": "markdown",
   "metadata": {},
   "source": [
    "## Foundations of Python Programming\n",
    "\n",
    "Runestone Academy [FOPP](https://runestone.academy/runestone/books/published/fopp/index.html) is a practical free online book with many projects and related 'hands on' theory, definitely recommended!\n",
    "\n",
    "Note on graphics: to make activities more interesting, the book often asks to visualize data with the following libraries:\n",
    "\n",
    "* `turtle` is a Python module which was designed really only for didactical purposes. While fun, you  will most probably want to try doing the same exercises using a more 'serious' library like  `matplotlib`\n",
    "* `cimage`: this is a simple image manipulation library, made mostly for didactical purposes: you might want to try numpy and matplotlib instead\n",
    "* `altair` is a 'pro' library for cool interactive visualizations: we don't treat `altair` in this book, you can try it or stick with the good old `matplotlib`"
   ]
  },
  {
   "cell_type": "markdown",
   "metadata": {},
   "source": [
    "## W3Resources website\n",
    "\n",
    "Contains many simple exercises on Python basics, do them!\n",
    "\n",
    "- [Basic1](https://www.w3resource.com/python-exercises/), [Basic2](https://www.w3resource.com/python-exercises/basic/), [String](https://www.w3resource.com/python-exercises/string/), [List](https://www.w3resource.com/python-exercises/list/), [Dictionary](https://www.w3resource.com/python-exercises/dictionary/), [Tuple](https://www.w3resource.com/python-exercises/tuple/), [Sets](https://www.w3resource.com/python-exercises/sets/), [Condition Statements and Loops](https://www.w3resource.com/python-exercises/python-conditional-statements-and-loop-exercises.php), [Functions](https://www.w3resource.com/python-exercises/python-functions-exercises.php),[Lambda](https://www.w3resource.com/python-exercises/lambda/index.php), [CSV Read Write](https://www.w3resource.com/python-exercises/csv/index.php)"
   ]
  },
  {
   "cell_type": "markdown",
   "metadata": {},
   "source": [
    "## Software Carpentry \n",
    "\n",
    "[Software Carpentry](https://software-carpentry.org/lessons/) is a website full of free educational resources, there is definitely a lot of good stuff to discover. We highlight these exercises (in tutorial format):\n",
    "\n",
    "* [Programming with Python](https://swcarpentry.github.io/python-novice-inflammation/): Nice tutorial with many exercises about processing a csv with topics: python basics, numpy, csv\n",
    "* [Plotting and programming with Python](https://swcarpentry.github.io/python-novice-gapminder/) More advanced, uses pandas\n",
    "\n",
    "You may find other stuff in Community Developed Lessons for [Jupyter](https://carpentries.org/community-lessons/#jupyter-notebook) and [Python](https://carpentries.org/community-lessons/#python)"
   ]
  },
  {
   "cell_type": "markdown",
   "metadata": {},
   "source": [
    "## Edabit\n",
    "\n",
    "Contains many [python exercises](https://edabit.com/challenges/python3) with solutions.  Here we put a small selection, for others you may look at 'Very hard' level, they are not so hard after all.\n",
    "\n",
    "### Edabit - Basics\n",
    "\n",
    "* [Calculated Bonus](https://edabit.com/challenge/ksiA6Q34iXgTcMeZF)\n",
    "\n",
    "### Edabit - Strings\n",
    "\n",
    "* [First Before Second Letter](https://edabit.com/challenge/D6XfxhRobdQvbKX4v)\n",
    "* [Wrap Around](https://edabit.com/challenge/Q9EkExy6BYLnqBCQB)\n",
    "* [C*ns*r*d Str*ngs](https://edabit.com/challenge/ehyZvt6AJF4rKFfXT)\n",
    "* [Valid Rondo Form](https://edabit.com/challenge/stXWy2iufNhBo9sTW)\n",
    "* [Parenthesis Clusters](https://edabit.com/challenge/Fpymv2HieqEd7ptAq)\n",
    "* [Count Missing Numbers](https://edabit.com/challenge/vBwRuR4mF5yQ4cNuc)\n",
    "* [Math Making](https://edabit.com/challenge/3r7z6pkGnd4u7eZAd)\n",
    "* [To Adjust the Time](https://edabit.com/challenge/YsD3af7LgaH6JRSCH)"
   ]
  },
  {
   "cell_type": "markdown",
   "metadata": {},
   "source": [
    "### Edabit - Lists\n",
    "\n",
    "* [Combined Consecutive Sequence](https://edabit.com/challenge/mHLAmj4vmRuXrT8Nb)\n",
    "* [Prison break](https://edabit.com/challenge/SHdu4GwBQehhDm4xT)\n",
    "* [Water Balloon](https://edabit.com/challenge/3y2FmfjhbiQPPYbcn)\n",
    "* [Fulcrum](https://edabit.com/challenge/pn7QpvW2fW9grvYYE)\n",
    "* [Beginning and End Pairs](https://edabit.com/challenge/HrCuzAKE6skEYgDmf)\n",
    "* [Sort by the Letters](https://edabit.com/challenge/LhMkMu46rG8EweYf7)\n",
    "* [Anonymous Name](https://edabit.com/challenge/MKP8QxzuDaqYAJ6sZ)\n",
    "* [Almost Palindrome](https://edabit.com/challenge/APNhiaMCuRSwALN63)\n",
    "* [Number of Two or More Consecutive Ones](https://edabit.com/challenge/u4rHyBDs5RM2PfNxy)\n",
    "* [Rearrange the Number](https://edabit.com/challenge/jwzAdBnJnBxCe4AXP)"
   ]
  },
  {
   "cell_type": "markdown",
   "metadata": {},
   "source": [
    "### Edabit - Dictionaries\n",
    "\n",
    "* [How Many Unique Styles?](https://edabit.com/challenge/AvP94XqJvPjoMk5PT)\n",
    "* [People Sort](https://edabit.com/challenge/hDT4TR9JAoQ3BPuCH)\n",
    "* [Encoded String Parse](https://edabit.com/challenge/7vN8ZRw43yuWNoy3Y)\n",
    "* [Generating Words from Names](https://edabit.com/challenge/sDvjdcBrbHoXKvDsZ)\n"
   ]
  },
  {
   "cell_type": "markdown",
   "metadata": {},
   "source": [
    "### Edabit - Matrices\n",
    "\n",
    "* [Tallest Skyscraper](https://edabit.com/challenge/76ibd8jZxvhAwDskb)\n",
    "* [Majority vote](https://edabit.com/challenge/pQavNkBbdmvSMmx5x)\n",
    "* [Make a Box](https://edabit.com/challenge/dy3WWJr34gSGRPLee)\n",
    "* [Advanced List Sort](https://edabit.com/challenge/6vSZmN66xhMRDX8YT)\n",
    "* [Layers in a Rug](https://edabit.com/challenge/LaBMjgbMjf5BajczX), a bit convoluted, but interesting\n",
    "* [Leaderbord Sort](https://edabit.com/challenge/ZsBPGxuBsbbHfPSkk)\n",
    "* [Concert seats](https://edabit.com/challenge/xbjDMxzpFcsAWKp97)\n",
    "* [Word Nests - Part 2](https://edabit.com/challenge/ZwmfET5azpvBTWoQT)\n",
    "* [Tic Tac Toe](https://edabit.com/challenge/A8gEGRXqMwRWQJvBf)\n",
    "* [Cleaning Project Files](https://edabit.com/challenge/NC888jKPkquSDqaaH)"
   ]
  },
  {
   "cell_type": "markdown",
   "metadata": {},
   "source": [
    "## LeetCode\n",
    "\n",
    "Website with collections of exercises sorted by difficulty and acceptance rate, quite performance-oriented. You can generally try sorting by _Acceptance_ and _Easy_ filters.\n",
    "\n",
    "* [leetcode.com](https://leetcode.com)\n",
    "\n",
    "We put here a selection.\n",
    "\n",
    "### LeetCode - Strings\n",
    "\n",
    "[Check string problems](https://leetcode.com/tag/string/) sorted by _Acceptance_ and _Easy_. In particular:\n",
    "\n",
    "* [Shuffle Strings](https://leetcode.com/problems/shuffle-string/)\n",
    "* [Increasing Decreasing String](https://leetcode.com/problems/increasing-decreasing-string/)\n",
    "* [Detect Capital](https://leetcode.com/problems/detect-capital/description/)\n",
    "* [Unique email addresses](https://leetcode.com/problems/unique-email-addresses/description/)\n",
    "* [Robot return to origin](https://leetcode.com/problems/robot-return-to-origin/description/)\n",
    "* [String matching in an Array](https://leetcode.com/problems/string-matching-in-an-array/)\n",
    "* [Reverse Words in a String III](https://leetcode.com/problems/reverse-words-in-a-string-iii/description/)\n",
    "* [Unique Morse codes](https://leetcode.com/problems/unique-morse-code-words/description/)\n",
    "* [Goat Latin](https://leetcode.com/problems/goat-latin/description/)\n",
    "* [Count Binary Substrings](https://leetcode.com/problems/count-binary-substrings/description/)\n",
    "\n",
    "### LeetCode - Lists\n",
    "\n",
    "[Check array problems](https://leetcode.com/tag/array/) sorted by _Acceptance_ and _Easy_. In particular:\n",
    "\n",
    "* [Average Salary Excluding the Minimum and Maximum Salary](https://leetcode.com/problems/average-salary-excluding-the-minimum-and-maximum-salary/)\n",
    "* [Contains Duplicate](https://leetcode.com/problems/contains-duplicate/description/)\n",
    "* [Majority Element](https://leetcode.com/problems/majority-element/description/)\n",
    "* [Maximum Gap](https://leetcode.com/problems/maximum-gap/)\n",
    "* [Can Make Arithmetic Progression From Sequence](https://leetcode.com/problems/can-make-arithmetic-progression-from-sequence/)\n",
    "* [Max consecutive ones](https://leetcode.com/problems/max-consecutive-ones/description/)\n",
    "* [Missing number](https://leetcode.com/problems/missing-number/description/) - has many possible solutions\n",
    "* [Move Zeros](https://leetcode.com/problems/move-zeroes/description/)\n",
    "* [K Closest Points to Origin](https://leetcode.com/problems/k-closest-points-to-origin/)  (use [lambda functions](https://docs.python.org/3/howto/sorting.html#key-functions))\n",
    "* [Rotated Digits](https://leetcode.com/problems/rotated-digits/description/)\n",
    "* [Filter Restaurants by Vegan-Friendly, Price and Distance](https://leetcode.com/problems/filter-restaurants-by-vegan-friendly-price-and-distance/) (to sort use [lambda functions](https://docs.python.org/3/howto/sorting.html#key-functions))\n",
    "* [Largest Perimeter Triangle](https://leetcode.com/problems/largest-perimeter-triangle/) hint: you don't actually need to try many combinations ...\n",
    "* [H-Index](https://leetcode.com/problems/h-index/)\n",
    "* [Sort array by parity 1](https://leetcode.com/problems/sort-array-by-parity/description/)\n",
    "* [Sort array by parity 2](https://leetcode.com/problems/sort-array-by-parity-ii/)\n",
    "* [Relative sort array](https://leetcode.com/problems/relative-sort-array/)\n",
    "\n",
    "* [Insert Intervals](https://leetcode.com/problems/insert-interval/) (use [lambda functions](https://docs.python.org/3/howto/sorting.html#key-functions))\n",
    "* [Merge Intervals](https://leetcode.com/problems/merge-intervals/) (use [lambda functions](https://docs.python.org/3/howto/sorting.html#key-functions))\n",
    "* [Sort colors](https://leetcode.com/problems/sort-colors/) \n",
    "* [Find all numbers disappeared in an array](https://leetcode.com/problems/find-all-numbers-disappeared-in-an-array/description/)\n",
    "* [Degree of an array](https://leetcode.com/problems/degree-of-an-array/description/)\n",
    "* [The k Strongest Values in an Array](https://leetcode.com/problems/the-k-strongest-values-in-an-array/) a bit convoluted but doable\n",
    "* [Array partition 1](https://leetcode.com/problems/array-partition-i/description/) actually a bit hard but makes you think\n",
    "* [Distant Barcodes](https://leetcode.com/problems/distant-barcodes/)\n",
    "* [Reorganize String](https://leetcode.com/problems/reorganize-string/) think first when the task is _not_ possible, for the rest is like previous one"
   ]
  },
  {
   "cell_type": "markdown",
   "metadata": {},
   "source": [
    "### LeetCode - Sets and Dictionaries\n",
    "\n",
    "[Check dictionary problems](https://leetcode.com/problemset/all/?search=dictionaries) sorted by _Acceptance_ and _Easy_.\n",
    "\n",
    "Note: Keep in mind these problems are in section _dictionaries_ for good reason: in order to execute fast they often require you to preprocess the data by indexing in it in some way, like i.e. putting strings in a set or as keys in a dicitonary so you can later look them up very fast. \n",
    "\n",
    "**WARNING**: if you feel the need to use nested cycles, or search methods on lists/strings like `.index`, `.find`, `in` operator, `.count`, `.replace` on strings, try thinking first whether it is really necessary or you might use the above mentioned preprocessing instead.\n",
    "\n",
    "Check in particular:\n",
    "\n",
    "* [Replace words](https://leetcode.com/problems/replace-words/) \n",
    "* [Word break](https://leetcode.com/problems/word-break/)\n",
    "* [Fair candy swap](https://leetcode.com/problems/fair-candy-swap/)\n",
    "* [Verifying an alien dictionary](https://leetcode.com/problems/verifying-an-alien-dictionary/) Note: you can use  [lambda functions](https://docs.python.org/3/howto/sorting.html#key-functions), but it is not strictly necessary\n",
    "* [Least Number of Unique Integers after K Removals](https://leetcode.com/problems/least-number-of-unique-integers-after-k-removals/)\n",
    "* [People Whose List of Favorite Companies Is Not a Subset of Another List](https://leetcode.com/problems/people-whose-list-of-favorite-companies-is-not-a-subset-of-another-list/)\n",
    "\n"
   ]
  },
  {
   "cell_type": "markdown",
   "metadata": {},
   "source": [
    "## LeetCode - Matrices"
   ]
  },
  {
   "cell_type": "markdown",
   "metadata": {},
   "source": [
    "* [Matrix Diagonal Sum](https://leetcode.com/problems/matrix-diagonal-sum/)\n",
    "* [Cells with odd values in a matrix](https://leetcode.com/problems/cells-with-odd-values-in-a-matrix/)\n",
    "* [Count negative numbers in Sorted matrix](https://leetcode.com/problems/count-negative-numbers-in-a-sorted-matrix/)\n",
    "* [Lucky Numbers in a Matrix](https://leetcode.com/problems/lucky-numbers-in-a-matrix/)\n",
    "* [The k-weakest rows in a Matrix](https://leetcode.com/problems/the-k-weakest-rows-in-a-matrix) (use [lambda functions](https://docs.python.org/3/howto/sorting.html#key-functions)\n",
    "* [Matrix Cells in Distance Order](https://leetcode.com/problems/matrix-cells-in-distance-order/)\n",
    "* [Toepliz Matrix](https://leetcode.com/problems/toeplitz-matrix/)\n",
    "* [Special Positions in a Binary Matrix](https://leetcode.com/problems/special-positions-in-a-binary-matrix/)\n",
    "* [Reshape the Matrix](https://leetcode.com/problems/reshape-the-matrix/)\n",
    "* [Kth Smallest Element in a Sorted Matrix](https://leetcode.com/problems/kth-smallest-element-in-a-sorted-matrix/)  - there are many possible optimizations, you can make a first version using `sort` on everything, and then think about improving the algorithm\n",
    "* [Set Matrix Zeroes](https://leetcode.com/problems/set-matrix-zeroes/) interesting, try avoiding duplicating the matrix\n",
    "* [Search a 2D Matrix](https://leetcode.com/problems/search-a-2d-matrix/) \n",
    "* [Search a 2D Matrix ii](https://leetcode.com/problems/search-a-2d-matrix-ii/)\n",
    "* [Spiral Matrix](https://leetcode.com/problems/spiral-matrix/)\n",
    "* [Spiral Matrix ii](https://leetcode.com/problems/spiral-matrix-ii/)\n",
    "* [Matrix Block Sum](https://leetcode.com/problems/matrix-block-sum/)\n",
    "* [Sort the Matrix Diagonally](https://leetcode.com/problems/sort-the-matrix-diagonally/) not fun, but doable"
   ]
  },
  {
   "cell_type": "markdown",
   "metadata": {},
   "source": [
    "### Leet code - Graphs\n",
    "\n",
    "Note: here on softpython we do not put links to exercises about visiting graphs, so for these you do not need stuff like breadth first search, depth first search, etc.\n",
    "\n",
    "* [Find the Town Judge](https://leetcode.com/problems/find-the-town-judge/)\n",
    "* [Maximal Network Rank](https://leetcode.com/problems/maximal-network-rank)"
   ]
  },
  {
   "cell_type": "markdown",
   "metadata": {},
   "source": [
    "## HackerRank\n",
    "\n",
    "Contains many Python 3 exercises on algorithms and data structures (Needs to login)\n",
    "\n",
    "* [hackerrank.com](https://www.hackerrank.com)"
   ]
  },
  {
   "cell_type": "markdown",
   "metadata": {},
   "source": [
    "## Geeks for Geeks\n",
    "\n",
    "Contains many exercises - doesn't have solutions nor explicit asserts but if you login and submit solutions, the system will run some tests serverside and give you a response.\n",
    "\n",
    "\n",
    "In general for Part A you can filter difficulty by school+basic+easy and if you need to do part B also include medium.\n",
    "\n",
    "\n",
    "* [Example: Filter difficulty by school+basic+easy and topic String](https://practice.geeksforgeeks.org/explore/?category%5B%5D=Strings&difficulty%5B%5D=-2&difficulty%5B%5D=-1&difficulty%5B%5D=0&page=1)\n",
    "\n",
    "You can select many more topics if you click  `more>>` un der Topic Tags:\n",
    "\n",
    "![immagine.png](_static/img/references/geeks-for-geeks-more-topics.jpeg)\n"
   ]
  },
  {
   "cell_type": "markdown",
   "metadata": {},
   "source": [
    "## Dive into Python 3\n",
    "\n",
    "More practical, contains more focused tutorials (i.e. manage XML files) \n",
    "\n",
    "* [online version](http://www.diveintopython3.net/)\n",
    "* [printed](http://www.amazon.com/gp/product/1430224150?ie=UTF8&tag=diveintomark-20&creativeASIN=1430224150)\n",
    "* [zip offline](https://github.com/diveintomark/diveintopython3/zipball/master)\n",
    "* [PDF](https://github.com/downloads/diveintomark/diveintopython3/dive-into-python3.pdf)\n",
    "\n",
    "\n",
    "Licence: [Creative Commons By Share-alike 3.0](http://creativecommons.org/licenses/by-sa/3.0/) as reported at the bottom [of book website](http://www.diveintopython3.net/)\n",
    "\n"
   ]
  },
  {
   "cell_type": "markdown",
   "metadata": {},
   "source": [
    "## Introduction to Scientific Programming with Python \n",
    "\n",
    "Focuses on numerical calculations, you can check first 7 chapters until dictionaries.\n",
    "\n",
    "\n",
    "By Joakim Sundnes.\n",
    "\n",
    "- [PDF](https://link.springer.com/content/pdf/10.1007%2F978-3-030-50356-7.pdf) for Python (only theory)\n",
    "- [Exercises](https://www.uio.no/studier/emner/matnat/ifi/INF1100/h16/ressurser/INF1100_exercises_5th_ed.pdf) – a LOT of stuff, although some exercises are too much into engineering / maths compared to this book\n",
    "- EXTRA: if you like, it also contains chapters on classes which are certainly useful."
   ]
  },
  {
   "cell_type": "code",
   "execution_count": null,
   "metadata": {},
   "outputs": [],
   "source": []
  }
 ],
 "metadata": {
  "kernelspec": {
   "display_name": "Python 3",
   "language": "python",
   "name": "python3"
  },
  "language_info": {
   "codemirror_mode": {
    "name": "ipython",
    "version": 3
   },
   "file_extension": ".py",
   "mimetype": "text/x-python",
   "name": "python",
   "nbconvert_exporter": "python",
   "pygments_lexer": "ipython3",
   "version": "3.7.10"
  },
  "toc": {
   "base_numbering": 1,
   "nav_menu": {},
   "number_sections": false,
   "sideBar": true,
   "skip_h1_title": false,
   "title_cell": "Table of Contents",
   "title_sidebar": "Contents",
   "toc_cell": false,
   "toc_position": {},
   "toc_section_display": true,
   "toc_window_display": true
  }
 },
 "nbformat": 4,
 "nbformat_minor": 4
}
