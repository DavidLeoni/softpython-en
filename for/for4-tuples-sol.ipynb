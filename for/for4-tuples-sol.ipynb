{
 "cells": [
  {
   "cell_type": "code",
   "execution_count": 1,
   "id": "0cefa483",
   "metadata": {
    "nbsphinx": "hidden"
   },
   "outputs": [],
   "source": [
    "# Remember to execute this cell with Shift+Enter\n",
    "\n",
    "import jupman"
   ]
  },
  {
   "cell_type": "markdown",
   "id": "86969838",
   "metadata": {},
   "source": [
    "# For loops 4 - iterating tuples\n",
    "\n",
    "## [Download exercises zip](../_static/generated/for.zip) \n",
    "\n",
    "[Browse file online](https://github.com/DavidLeoni/softpython-en/tree/master/for)\n",
    "\n",
    "Let's see some exercise about tuples."
   ]
  },
  {
   "cell_type": "markdown",
   "id": "d03c5171",
   "metadata": {},
   "source": [
    "## Exercise - double couples\n",
    "\n",
    "✪ Given a `lst` with `n` integer numbers, places in `res` a NEW list which contains `n` tuples having each two elements. Every tuple contains a number taken from the corresponding position of the initial list, and its double.\n",
    "\n",
    "For example - given:\n",
    "\n",
    "```python\n",
    "lst = [ 5, 3, 8]\n",
    "```\n",
    "\n",
    "After your code it must result:\n",
    "\n",
    "```python\n",
    ">>> print(res)\n",
    "[(5,10), (3,6), (8,16)]\n",
    "```"
   ]
  },
  {
   "cell_type": "raw",
   "id": "de7c04f1",
   "metadata": {
    "format": "text/html"
   },
   "source": [
    "<a  class=\"jupman-sol jupman-sol-toggler\" \n",
    " onclick=\"jupman.toggleSolution(this);\" \n",
    " data-jupman-show=\"Show solution\" data-jupman-hide=\"Hide\">Show solution</a><div class=\"jupman-sol jupman-sol-code\" style=\"display:none\">  "
   ]
  },
  {
   "cell_type": "code",
   "execution_count": 2,
   "id": "7a4d05e7",
   "metadata": {},
   "outputs": [
    {
     "name": "stdout",
     "output_type": "stream",
     "text": [
      "[(5, 10), (3, 6), (8, 16)]\n"
     ]
    }
   ],
   "source": [
    "\n",
    "lst = [5,3,8]\n",
    "#lst = [2,7]   # [(2,4),(7,14)]\n",
    "\n",
    "res = []\n",
    "\n",
    "# write here\n",
    "\n",
    "for element in lst:\n",
    "    res.append((element, element * 2))\n",
    "print(res)"
   ]
  },
  {
   "cell_type": "raw",
   "id": "da23946a",
   "metadata": {
    "format": "text/html"
   },
   "source": [
    "</div>"
   ]
  },
  {
   "cell_type": "code",
   "execution_count": 2,
   "id": "7a4d05e7-stripped",
   "metadata": {},
   "outputs": [],
   "source": [
    "\n",
    "lst = [5,3,8]\n",
    "#lst = [2,7]   # [(2,4),(7,14)]\n",
    "\n",
    "res = []\n",
    "\n",
    "# write here\n",
    "\n"
   ]
  },
  {
   "cell_type": "markdown",
   "id": "0df3bf9e",
   "metadata": {},
   "source": [
    "## Exercise - carpet\n",
    "\n",
    "✪✪ Let's call a _touple_ a tuple with a couple of elements. Write some code which given a tuple `t`, produces a list having as elements _touples_ each taken in alternation from `t`.\n",
    "\n",
    "* if the input tuple `t` has an odd number of elements, the last tuple in the list to return will be made of only one element\n",
    "\n",
    "Example 1 - given:\n",
    "\n",
    "```python\n",
    ">>> t = ('c', 'a', 'r', 'p', 'e', 't')    # even length\n",
    "```\n",
    "\n",
    "after your code it must result:\n",
    "\n",
    "```python\n",
    ">>> print(res)\n",
    "[('c', 'a'), ('r', 'p'), ('e', 't')]\n",
    "```\n",
    "\n",
    "Example 2 - given:\n",
    "\n",
    "```python\n",
    ">>> t = ('s','p','i','d','e','r','s')     # odd length\n",
    "```\n",
    "\n",
    "After your code it must result:\n",
    "\n",
    "```python\n",
    ">>>print(res)\n",
    "[('s', 'p'), ('i', 'd'), ('e', 'r'), ('s',)]\n",
    "```"
   ]
  },
  {
   "cell_type": "raw",
   "id": "bfb051bf",
   "metadata": {
    "format": "text/html"
   },
   "source": [
    "<a  class=\"jupman-sol jupman-sol-toggler\" \n",
    " onclick=\"jupman.toggleSolution(this);\" \n",
    " data-jupman-show=\"Show solution\" data-jupman-hide=\"Hide\">Show solution</a><div class=\"jupman-sol jupman-sol-code\" style=\"display:none\">  "
   ]
  },
  {
   "cell_type": "code",
   "execution_count": 3,
   "id": "e6c67718",
   "metadata": {},
   "outputs": [
    {
     "name": "stdout",
     "output_type": "stream",
     "text": [
      "[('c', 'a'), ('r', 'p'), ('e', 't')]\n"
     ]
    }
   ],
   "source": [
    "\n",
    "t = ('c', 'a', 'r', 'p', 'e', 't')\n",
    "#t = ('s','p','i','d','e','r','s')\n",
    "\n",
    "# write here\n",
    "res = []\n",
    "i = 0\n",
    "for i in range(0,len(t)-1,2):\n",
    "    res.append((t[i],t[i+1]))                \n",
    "if len(t) % 2 == 1:\n",
    "    res.append((t[-1],))\n",
    "print(res)"
   ]
  },
  {
   "cell_type": "raw",
   "id": "7adebb89",
   "metadata": {
    "format": "text/html"
   },
   "source": [
    "</div>"
   ]
  },
  {
   "cell_type": "code",
   "execution_count": 3,
   "id": "e6c67718-stripped",
   "metadata": {},
   "outputs": [],
   "source": [
    "\n",
    "t = ('c', 'a', 'r', 'p', 'e', 't')\n",
    "#t = ('s','p','i','d','e','r','s')\n",
    "\n",
    "# write here\n",
    "\n"
   ]
  },
  {
   "cell_type": "markdown",
   "id": "f32c5d13",
   "metadata": {},
   "source": [
    "## Continue\n",
    "\n",
    "Go on with [iterating sets](https://en.softpython.org/for/for5-sets-sol.html)"
   ]
  },
  {
   "cell_type": "code",
   "execution_count": null,
   "id": "f84d629d",
   "metadata": {},
   "outputs": [],
   "source": []
  }
 ],
 "metadata": {
  "kernelspec": {
   "display_name": "Python 3 (ipykernel)",
   "language": "python",
   "name": "python3"
  },
  "language_info": {
   "codemirror_mode": {
    "name": "ipython",
    "version": 3
   },
   "file_extension": ".py",
   "mimetype": "text/x-python",
   "name": "python",
   "nbconvert_exporter": "python",
   "pygments_lexer": "ipython3",
   "version": "3.7.10"
  },
  "toc": {
   "base_numbering": 1,
   "nav_menu": {},
   "number_sections": false,
   "sideBar": true,
   "skip_h1_title": false,
   "title_cell": "Table of Contents",
   "title_sidebar": "Contents",
   "toc_cell": false,
   "toc_position": {},
   "toc_section_display": true,
   "toc_window_display": true
  }
 },
 "nbformat": 4,
 "nbformat_minor": 5
}
