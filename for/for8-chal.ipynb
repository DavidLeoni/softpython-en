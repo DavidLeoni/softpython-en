{
 "cells": [
  {
   "cell_type": "markdown",
   "id": "worst-going",
   "metadata": {},
   "source": [
    "# for loops 8 - Challenge\n",
    "\n",
    "## [Download exercises zip](../_static/generated/for.zip)\n",
    "\n",
    "[Browse file online](https://github.com/DavidLeoni/softpython-en/tree/master/for)"
   ]
  },
  {
   "cell_type": "markdown",
   "id": "impossible-cambodia",
   "metadata": {},
   "source": [
    "We now propose some exercises without solution, do you accept the challenge?"
   ]
  },
  {
   "cell_type": "markdown",
   "id": "54b32d69",
   "metadata": {},
   "source": [
    "## Challenge - Faceborg \n",
    "\n",
    "The social network Faceborg wants to assimilate your soul by ingesting your personal data. Every time you like or share a post, Faceborg knows it. Every time you see a like on a website, Faceborg knows you've been there, even without clicking the icon.\n",
    "\n",
    "Faceborg already assimilated billions of people personal data, either because users explicitly inserted it into the system by completing their profiles, or because it was inferred by their online behaviours.\n",
    "\n",
    "Faceborg wants even more, and sends you an automated email asking to improve its clustering algorithm to generate more revenue from advertisers. You firmly deny, to no avail: Faceborg puts a subliminal order into a flashing ad, and takes complete control of your mind. "
   ]
  },
  {
   "cell_type": "markdown",
   "id": "e056c9f4",
   "metadata": {},
   "source": [
    "**Data model**: A person in Faceborg is modelled as a dictionary holding fields of sensitive personal information. Field values are normalized in the range `-1.0` to the opposite `1.0`, for example a person might be represented as this:\n",
    "\n",
    "```python\n",
    "person = {\n",
    "    'income'     : 0.9,\n",
    "    'health'     : 0.5,    \n",
    "    'religiosity': -0.4,\n",
    "    'politics'   : -0.1\n",
    "}\n",
    "```"
   ]
  },
  {
   "cell_type": "markdown",
   "id": "bbd12106",
   "metadata": {},
   "source": [
    "In order to perform fast clustering, Faceborg creates summaries of people dividing each field values into five categories:\n",
    "\n",
    "```\n",
    "-1.0-----1.0\n",
    "    12345\n",
    "\n",
    "1: < -0.6\n",
    "2: -0.6 <= x < -0.2\n",
    "3: -0.2 <= x < 0.2\n",
    "4: 0.2 <= x < 0.6\n",
    "5: >= 0.6\n",
    "```\n",
    "\n",
    "For example, after being summerized, the person summary will look like this tuple:\n",
    "\n",
    "```python\n",
    ">>> summary\n",
    "(4, 5, 3, 2)\n",
    "```\n",
    "\n",
    "Notice labels in this representation are taken in sorted order, so the values above correspond to:\n",
    "\n",
    "```\n",
    "'health', 'income', 'politics', 'religiosity'\n",
    "```"
   ]
  },
  {
   "cell_type": "markdown",
   "id": "2014bf24",
   "metadata": {},
   "source": [
    "### Faceborg 1. Ingestion\n",
    "\n",
    "Write some code that given a `person` dictionary produces a summary tuple using labels in **sorted** order.\n"
   ]
  },
  {
   "cell_type": "code",
   "execution_count": 1,
   "id": "62a5c988-stripped",
   "metadata": {},
   "outputs": [],
   "source": [
    "\n",
    "person = {\n",
    "    'income'     : 0.9,\n",
    "    'health'     : 0.5,    \n",
    "    'religiosity': -0.4,\n",
    "    'politics'   : -0.1\n",
    "}\n",
    "\n",
    "# write here\n",
    "\n"
   ]
  },
  {
   "cell_type": "markdown",
   "id": "e2be463e",
   "metadata": {},
   "source": [
    "### Faceborg 2. Selling your soul\n",
    "\n",
    "The meaning of the various labels is stored in a dictionary which maps a field name to a two-elements tuple with the meanings of respectively the minimal (-1.0) and maximal value (1.0). NOTE: being negative or positive by itself has NO particular meaning:\n",
    "    \n",
    "```python\n",
    "labels = {\n",
    "    'income'     : ('poor','wealthy'),\n",
    "    'health'     : ('healthy', 'ill'),\n",
    "    'religiosity': ('religious', 'atheist'),\n",
    "    'politics'   : ('left', 'right')\n",
    "}\n",
    "```"
   ]
  },
  {
   "cell_type": "markdown",
   "id": "1bb479bd",
   "metadata": {},
   "source": [
    "Given a person `summary` as a tuple and a dictionary of `labels`, Faceborg wants to show advertisers the summary as a nice printout, so it commands you to write the code.\n",
    "\n",
    "Example - given:\n",
    "\n",
    "```python\n",
    "summary=(4, 5, 3, 2)\n",
    "labels = {\n",
    "    'income'     : ('poor','wealthy'),\n",
    "    'health'     : ('healthy', 'ill'),\n",
    "    'religiosity': ('religious', 'atheist'),\n",
    "    'politics'   : ('left', 'right')\n",
    "}\n",
    "```"
   ]
  },
  {
   "cell_type": "markdown",
   "id": "bfa221a4",
   "metadata": {},
   "source": [
    "Your code must print this:\n",
    "\n",
    "```python\n",
    "                       12345\n",
    "health      :   healthy   * ill\n",
    "income      :      poor    *wealthy\n",
    "politics    :      left  *  right\n",
    "religiosity : religious *   atheist\n",
    "```\n",
    "\n",
    "**HINT**: you may want to use methods [str.ljust](https://www.programiz.com/python-programming/methods/string/ljust) and [str.rjust](https://www.programiz.com/python-programming/methods/string/rjust)"
   ]
  },
  {
   "cell_type": "code",
   "execution_count": 2,
   "id": "aee97392-stripped",
   "metadata": {},
   "outputs": [],
   "source": [
    "\n",
    "summary=(4, 5, 3, 2)\n",
    "#summary=(1, 3, 4, 1)\n",
    "\n",
    "labels = {\n",
    "    'income'     : ('poor','wealthy'),\n",
    "    'health'     : ('healthy', 'ill'),\n",
    "    'religiosity': ('religious', 'atheist'),\n",
    "    'politics'   : ('left', 'right')\n",
    "}\n",
    "\n",
    "# write here\n",
    "\n"
   ]
  },
  {
   "cell_type": "markdown",
   "id": "44e0311b",
   "metadata": {},
   "source": [
    "\n",
    "### Faceborg 3. Go where the money is\n",
    "\n",
    "Given a person summary, advertisers want to immediately know how many people there are for that particular summary. \n",
    "\n",
    "Suppose Faceborg holds this current model for fast retrieval, which associates the tuples of person summaries to the number of people sharing that same summary:\n",
    "\n",
    "```python\n",
    "model = {\n",
    " (2, 1, 1, 3): 50000000,\n",
    " (1, 3, 1, 2): 90000000,\n",
    " (3, 3, 1, 2): 40000000,\n",
    " (4, 5, 3, 2): 20000000,\n",
    " (1, 3, 1, 1): 40000000,\n",
    " (5, 3, 2, 3): 70000000,\n",
    " (1, 3, 3, 2): 30000000,\n",
    "}\n",
    "```\n",
    "\n",
    "Write some code that given a list of dictionaries `people`, updates the `model` with all their summaries."
   ]
  },
  {
   "cell_type": "markdown",
   "id": "83afa3ca",
   "metadata": {},
   "source": [
    "Example - given:\n",
    "\n",
    "```python\n",
    "people = [\n",
    "    {\n",
    "        'income'     : 0.9,\n",
    "        'health'     : 0.5,    \n",
    "        'religiosity': -0.4,\n",
    "        'politics'   : -0.1\n",
    "    },  # corresponds to (4, 5, 3, 2), summary already present in the model\n",
    "    {\n",
    "        'income'     : 0.1,\n",
    "        'health'     : -0.6,    \n",
    "        'religiosity': -0.8,\n",
    "        'politics'   : 0.5\n",
    "    } # corresponds to (2, 3, 4, 1), summary not present in the model   \n",
    "]\n",
    "\n",
    "```"
   ]
  },
  {
   "cell_type": "markdown",
   "id": "bfe224b4",
   "metadata": {},
   "source": [
    "After your code, Faceborg model should become like this (order **does not** matter): \n",
    "\n",
    "```python\n",
    ">>> model\n",
    "{(1, 3, 1, 1): 40000000,\n",
    " (1, 3, 1, 2): 90000000,\n",
    " (1, 3, 3, 2): 30000000,\n",
    " (2, 1, 1, 3): 50000000,\n",
    " (2, 3, 4, 1): 1,\n",
    " (3, 3, 1, 2): 40000000,\n",
    " (4, 5, 3, 2): 20000001,  # note the 1\n",
    " (5, 3, 2, 3): 70000000}\n",
    "```"
   ]
  },
  {
   "cell_type": "code",
   "execution_count": 7,
   "id": "6cd9d106-stripped",
   "metadata": {
    "scrolled": false
   },
   "outputs": [],
   "source": [
    "\n",
    "\n",
    "model = {\n",
    " (2, 1, 1, 3): 50000000,\n",
    " (1, 3, 1, 2): 90000000,\n",
    " (3, 3, 1, 2): 40000000,\n",
    " (4, 5, 3, 2): 20000000,\n",
    " (1, 3, 1, 1): 40000000,\n",
    " (5, 3, 2, 3): 70000000,\n",
    " (1, 3, 3, 2): 30000000,\n",
    "}\n",
    "\n",
    "people = [\n",
    "    {\n",
    "        'income'     : 0.9,\n",
    "        'health'     : 0.5,    \n",
    "        'religiosity': -0.4,\n",
    "        'politics'   : -0.1\n",
    "    },  # corresponds to (4, 5, 3, 2), summary already present in the model\n",
    "    {\n",
    "        'income'     : 0.1,\n",
    "        'health'     : -0.6,    \n",
    "        'religiosity': -0.8,\n",
    "        'politics'   : 0.5\n",
    "    } # corresponds to (2, 3, 4, 1), summary not present in the model   \n",
    "]\n",
    "\n",
    "\n",
    "# write here\n",
    "\n"
   ]
  },
  {
   "cell_type": "markdown",
   "id": "f16464ba",
   "metadata": {},
   "source": [
    "## Challenge - The informant\n",
    "\n",
    "\n",
    "The FBI Crime unit is trying to infiltrate a powerful mob organization - so far, they managed to obtain the services of an informant who now and then gives precious tips. All the investigations are then recorded in classified documents, which need to be anonimized according to the reader's clearence level. In order to mark possibly sensitive information, detectives place symbols such as `>` and `<` to delimit pieces of text to anonimize.\n",
    "\n",
    "Write some code which anonimizes the text, substituting words in sensitive sequences with the proper number of asterisks.\n",
    "\n",
    "Example - given:\n",
    "\n",
    "```python\n",
    "\n",
    "text = \"\"\"Our > informant Mr Big Ears <, who's operating within > the Organization, < told us\n",
    "          about a possible encounter among suspects we're following. The > suspect Mr Wrong Do \n",
    "          (also known as Mr Cut Throat) < was in fact seen last night near > Vice Palace < while \n",
    "          talking with > Mr So Bad <. They nervously glanced around, and > after a while, \n",
    "          they quickly exchanged two suitcases. < The details of the deal are yet to be discovered.\"\"\"\n",
    "\n",
    "punctuation = ['(',')','.',';',',']\n",
    "\n",
    "```\n",
    "\n",
    "your code should print:\n",
    "\n",
    "```\n",
    "Our  ********* ** *** **** , who's operating within  *** ************,  told \n",
    "us about a possible encounter among suspects we're following. The  ******* ** \n",
    "***** ** (**** ***** ** ** *** ******)  was in fact seen last night near  **** \n",
    "******  while talking with  ** ** *** . They nervously glanced around, and  \n",
    "***** * *****, **** ******* ********* *** *********.  The details of the deal \n",
    "are yet to be discovered.\n",
    "```"
   ]
  },
  {
   "cell_type": "markdown",
   "id": "01ca9b2b",
   "metadata": {},
   "source": [
    "**NOTE 1**: Sometimes detectives place `>` `<` with punctuation around, your program should handle those cases as well, preserving punctuation in the output. \n",
    "I.e.\n",
    "\n",
    "`Our > informant Mr Big Ears <, who's`\n",
    "\n",
    "should become:\n",
    "\n",
    "`Our  ********* ** *** **** , who's`\n",
    "\n",
    "**NOTE 2**: Your program should also preserve punctuation in anonimized words, i.e. \n",
    "\n",
    "`suspect Mr Wrong Do (also known as Mr Cut Throat)`\n",
    "\n",
    "should become: \n",
    "\n",
    "`******* ** ***** ** (**** ***** ** ** *** ******)`\n",
    "\n",
    "<div class=\"alert alert-warning\">\n",
    "    \n",
    "**HAVE YOU READ THE ABOVE NOTES?**\n",
    "\n",
    "Making a rough version of the program should be relatively straightforward, making the details also work may be more challenging\n",
    "</div>  "
   ]
  },
  {
   "cell_type": "code",
   "execution_count": 1,
   "id": "8ecf11eb-stripped",
   "metadata": {},
   "outputs": [],
   "source": [
    "\n",
    "text = \"\"\"Our > informant Mr Big Ears <, who's operating within > the Organization, < told us\n",
    "          about a possible encounter among suspects we're following. The > suspect Mr Wrong Do \n",
    "          (also known as Mr Cut Throat) < was in fact seen last night near > Vice Palace < while \n",
    "          talking with > Mr So Bad <. They nervously glanced around, and > after a while, \n",
    "          they quickly exchanged two suitcases. < The details of the deal are yet to be discovered.\"\"\"\n",
    "\n",
    "punctuation = ['(',')','.',';',',']\n",
    "\n",
    "# write here\n",
    "\n"
   ]
  },
  {
   "cell_type": "code",
   "execution_count": 2,
   "id": "nasty-sampling-stripped",
   "metadata": {
    "nbsphinx": "hidden"
   },
   "outputs": [],
   "source": []
  },
  {
   "cell_type": "code",
   "execution_count": null,
   "id": "9763776f",
   "metadata": {},
   "outputs": [],
   "source": []
  }
 ],
 "metadata": {
  "kernelspec": {
   "display_name": "Python 3 (ipykernel)",
   "language": "python",
   "name": "python3"
  },
  "language_info": {
   "codemirror_mode": {
    "name": "ipython",
    "version": 3
   },
   "file_extension": ".py",
   "mimetype": "text/x-python",
   "name": "python",
   "nbconvert_exporter": "python",
   "pygments_lexer": "ipython3",
   "version": "3.7.10"
  },
  "toc": {
   "base_numbering": 1,
   "nav_menu": {},
   "number_sections": false,
   "sideBar": true,
   "skip_h1_title": false,
   "title_cell": "Table of Contents",
   "title_sidebar": "Contents",
   "toc_cell": false,
   "toc_position": {
    "height": "calc(100% - 180px)",
    "left": "10px",
    "top": "150px",
    "width": "280.2px"
   },
   "toc_section_display": true,
   "toc_window_display": true
  }
 },
 "nbformat": 4,
 "nbformat_minor": 5
}
