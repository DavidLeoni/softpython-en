{
 "cells": [
  {
   "cell_type": "code",
   "execution_count": 1,
   "metadata": {
    "nbsphinx": "hidden"
   },
   "outputs": [],
   "source": [
    "# Remember to execute this cell with Shift+Enter\n",
    "import sys\n",
    "sys.path.append('../')\n",
    "import jupman"
   ]
  },
  {
   "cell_type": "markdown",
   "metadata": {},
   "source": [
    "# Conditionals - for loops\n",
    "\n",
    "## [Download exercises zip](../_static/generated/for.zip)\n",
    "\n",
    "[Browse online files](https://github.com/DavidLeoni/softpython-en/tree/master/for)"
   ]
  },
  {
   "cell_type": "markdown",
   "metadata": {},
   "source": [
    "If we want to perform some actions for each element of a collection, we will need the so-called `for` loop, which allows to _iterate_  any sequence."
   ]
  },
  {
   "cell_type": "markdown",
   "metadata": {},
   "source": [
    "## What to do\n",
    "\n",
    "1. Unzip [exercises zip](../_static/generated/for.zip) in a folder, you should obtain something like this:\n",
    "\n",
    "```\n",
    "for    \n",
    "    for1-intro.ipynb      \n",
    "    for1-intro-sol.ipynb        \n",
    "    for2-strings.ipynb\n",
    "    for2-strings-sol.ipynb\n",
    "    for3-lists.ipynb\n",
    "    for3-lists-sol.ipynb\n",
    "    for4-tuples.ipynb\n",
    "    for4-tuples-sol.ipynb\n",
    "    for5-sets.ipynb\n",
    "    for5-sets-sol.ipynb    \n",
    "    for6-dictionaries.ipynb\n",
    "    for6-dictionaries-sol.ipynb    \n",
    "    for7-nested.ipynb\n",
    "    for7-nested-sol.ipynb    \n",
    "    for8-chal.ipynb    \n",
    "    jupman.py \n",
    "```\n",
    "\n",
    "<div class=\"alert alert-warning\">\n",
    "\n",
    "**WARNING: to correctly visualize the notebook, it MUST be in an unzipped folder !**\n",
    "</div>"
   ]
  },
  {
   "cell_type": "markdown",
   "metadata": {},
   "source": [
    "2. open Jupyter Notebook from that folder. Two things should open, first a console and then a browser. The browser should show a file list: navigate the list and open the notebook `for1-intro.ipynb`\n",
    "\n",
    "3. Go on reading the exercises file, sometimes you will find paragraphs marked **Exercises** which will ask to write Python commands in the following cells."
   ]
  },
  {
   "cell_type": "markdown",
   "metadata": {},
   "source": [
    "Shortcut keys:\n",
    "\n",
    "- to execute Python code inside a Jupyter cell, press `Control + Enter`\n",
    "\n",
    "- to execute Python code inside a Jupyter cell AND select next cell, press `Shift + Enter`\n",
    "\n",
    "- to execute Python code inside a Jupyter cell AND a create a new cell aftwerwards, press `Alt + Enter`\n",
    "\n",
    "- If the notebooks look stuck, try to select `Kernel -> Restart`"
   ]
  },
  {
   "cell_type": "markdown",
   "metadata": {},
   "source": [
    "## Iteration by element\n",
    "\n",
    "If we have a sequence like this list:"
   ]
  },
  {
   "cell_type": "code",
   "execution_count": 2,
   "metadata": {},
   "outputs": [],
   "source": [
    "sports = ['volleyball', 'tennis', 'soccer', 'swimming']"
   ]
  },
  {
   "cell_type": "markdown",
   "metadata": {},
   "source": [
    "and we want ito  use every element of the list in some way (for example to print them), we can go through them (more precisely, _iterate)_ with a `for` cycle:"
   ]
  },
  {
   "cell_type": "code",
   "execution_count": 3,
   "metadata": {},
   "outputs": [
    {
     "name": "stdout",
     "output_type": "stream",
     "text": [
      "Found an element!\n",
      "volleyball\n",
      "Found an element!\n",
      "tennis\n",
      "Found an element!\n",
      "soccer\n",
      "Found an element!\n",
      "swimming\n",
      "Done!\n"
     ]
    }
   ],
   "source": [
    "for element in sports:\n",
    "    print('Found an element!')\n",
    "    print(element)\n",
    "\n",
    "print('Done!')"
   ]
  },
  {
   "cell_type": "markdown",
   "metadata": {},
   "source": [
    "Let's see what happens in Python Tutor:"
   ]
  },
  {
   "cell_type": "code",
   "execution_count": 4,
   "metadata": {},
   "outputs": [],
   "source": [
    "# WARNING: FOR PYTHON TUTOR TO WORK, REMEMBER TO EXECUTE THIS CELL with Shift+Enter\n",
    "#          (it's sufficient to execute it only once)\n",
    "\n",
    "import sys\n",
    "sys.path.append('../')\n",
    "import jupman"
   ]
  },
  {
   "cell_type": "code",
   "execution_count": 5,
   "metadata": {},
   "outputs": [
    {
     "name": "stdout",
     "output_type": "stream",
     "text": [
      "Found an element!\n",
      "volleyball\n",
      "Found an element!\n",
      "tennis\n",
      "Found an element!\n",
      "soccer\n",
      "Found an element!\n",
      "swimming\n",
      "Done!\n"
     ]
    },
    {
     "data": {
      "text/html": [
       "\n",
       "        <script src=\"../_static/js/pytutor-embed.bundle.min.js\" type=\"application/javascript\"></script>\n",
       "     \n",
       "        <script id=\"json-jm74373de6-7760-4b83-81d9-31483fdf5c90\" type=\"application/json\" >\n",
       "            {\"code\": \" \\nsports = ['volleyball', 'tennis', 'soccer', 'swimming']\\nfor element in sports:\\n    print('Found an element!')\\n    print(element)\\n\\nprint('Done!')\", \"trace\": [{\"line\": 2, \"event\": \"step_line\", \"func_name\": \"<module>\", \"globals\": {}, \"ordered_globals\": [], \"stack_to_render\": [], \"heap\": {}, \"stdout\": \"\"}, {\"line\": 3, \"event\": \"step_line\", \"func_name\": \"<module>\", \"globals\": {\"sports\": [\"REF\", 1]}, \"ordered_globals\": [\"sports\"], \"stack_to_render\": [], \"heap\": {\"1\": [\"LIST\", \"volleyball\", \"tennis\", \"soccer\", \"swimming\"]}, \"stdout\": \"\"}, {\"line\": 4, \"event\": \"step_line\", \"func_name\": \"<module>\", \"globals\": {\"sports\": [\"REF\", 1], \"element\": \"volleyball\"}, \"ordered_globals\": [\"sports\", \"element\"], \"stack_to_render\": [], \"heap\": {\"1\": [\"LIST\", \"volleyball\", \"tennis\", \"soccer\", \"swimming\"]}, \"stdout\": \"\"}, {\"line\": 5, \"event\": \"step_line\", \"func_name\": \"<module>\", \"globals\": {\"sports\": [\"REF\", 1], \"element\": \"volleyball\"}, \"ordered_globals\": [\"sports\", \"element\"], \"stack_to_render\": [], \"heap\": {\"1\": [\"LIST\", \"volleyball\", \"tennis\", \"soccer\", \"swimming\"]}, \"stdout\": \"Found an element!\\n\"}, {\"line\": 3, \"event\": \"step_line\", \"func_name\": \"<module>\", \"globals\": {\"sports\": [\"REF\", 1], \"element\": \"volleyball\"}, \"ordered_globals\": [\"sports\", \"element\"], \"stack_to_render\": [], \"heap\": {\"1\": [\"LIST\", \"volleyball\", \"tennis\", \"soccer\", \"swimming\"]}, \"stdout\": \"Found an element!\\nvolleyball\\n\"}, {\"line\": 4, \"event\": \"step_line\", \"func_name\": \"<module>\", \"globals\": {\"sports\": [\"REF\", 1], \"element\": \"tennis\"}, \"ordered_globals\": [\"sports\", \"element\"], \"stack_to_render\": [], \"heap\": {\"1\": [\"LIST\", \"volleyball\", \"tennis\", \"soccer\", \"swimming\"]}, \"stdout\": \"Found an element!\\nvolleyball\\n\"}, {\"line\": 5, \"event\": \"step_line\", \"func_name\": \"<module>\", \"globals\": {\"sports\": [\"REF\", 1], \"element\": \"tennis\"}, \"ordered_globals\": [\"sports\", \"element\"], \"stack_to_render\": [], \"heap\": {\"1\": [\"LIST\", \"volleyball\", \"tennis\", \"soccer\", \"swimming\"]}, \"stdout\": \"Found an element!\\nvolleyball\\nFound an element!\\n\"}, {\"line\": 3, \"event\": \"step_line\", \"func_name\": \"<module>\", \"globals\": {\"sports\": [\"REF\", 1], \"element\": \"tennis\"}, \"ordered_globals\": [\"sports\", \"element\"], \"stack_to_render\": [], \"heap\": {\"1\": [\"LIST\", \"volleyball\", \"tennis\", \"soccer\", \"swimming\"]}, \"stdout\": \"Found an element!\\nvolleyball\\nFound an element!\\ntennis\\n\"}, {\"line\": 4, \"event\": \"step_line\", \"func_name\": \"<module>\", \"globals\": {\"sports\": [\"REF\", 1], \"element\": \"soccer\"}, \"ordered_globals\": [\"sports\", \"element\"], \"stack_to_render\": [], \"heap\": {\"1\": [\"LIST\", \"volleyball\", \"tennis\", \"soccer\", \"swimming\"]}, \"stdout\": \"Found an element!\\nvolleyball\\nFound an element!\\ntennis\\n\"}, {\"line\": 5, \"event\": \"step_line\", \"func_name\": \"<module>\", \"globals\": {\"sports\": [\"REF\", 1], \"element\": \"soccer\"}, \"ordered_globals\": [\"sports\", \"element\"], \"stack_to_render\": [], \"heap\": {\"1\": [\"LIST\", \"volleyball\", \"tennis\", \"soccer\", \"swimming\"]}, \"stdout\": \"Found an element!\\nvolleyball\\nFound an element!\\ntennis\\nFound an element!\\n\"}, {\"line\": 3, \"event\": \"step_line\", \"func_name\": \"<module>\", \"globals\": {\"sports\": [\"REF\", 1], \"element\": \"soccer\"}, \"ordered_globals\": [\"sports\", \"element\"], \"stack_to_render\": [], \"heap\": {\"1\": [\"LIST\", \"volleyball\", \"tennis\", \"soccer\", \"swimming\"]}, \"stdout\": \"Found an element!\\nvolleyball\\nFound an element!\\ntennis\\nFound an element!\\nsoccer\\n\"}, {\"line\": 4, \"event\": \"step_line\", \"func_name\": \"<module>\", \"globals\": {\"sports\": [\"REF\", 1], \"element\": \"swimming\"}, \"ordered_globals\": [\"sports\", \"element\"], \"stack_to_render\": [], \"heap\": {\"1\": [\"LIST\", \"volleyball\", \"tennis\", \"soccer\", \"swimming\"]}, \"stdout\": \"Found an element!\\nvolleyball\\nFound an element!\\ntennis\\nFound an element!\\nsoccer\\n\"}, {\"line\": 5, \"event\": \"step_line\", \"func_name\": \"<module>\", \"globals\": {\"sports\": [\"REF\", 1], \"element\": \"swimming\"}, \"ordered_globals\": [\"sports\", \"element\"], \"stack_to_render\": [], \"heap\": {\"1\": [\"LIST\", \"volleyball\", \"tennis\", \"soccer\", \"swimming\"]}, \"stdout\": \"Found an element!\\nvolleyball\\nFound an element!\\ntennis\\nFound an element!\\nsoccer\\nFound an element!\\n\"}, {\"line\": 3, \"event\": \"step_line\", \"func_name\": \"<module>\", \"globals\": {\"sports\": [\"REF\", 1], \"element\": \"swimming\"}, \"ordered_globals\": [\"sports\", \"element\"], \"stack_to_render\": [], \"heap\": {\"1\": [\"LIST\", \"volleyball\", \"tennis\", \"soccer\", \"swimming\"]}, \"stdout\": \"Found an element!\\nvolleyball\\nFound an element!\\ntennis\\nFound an element!\\nsoccer\\nFound an element!\\nswimming\\n\"}, {\"line\": 7, \"event\": \"step_line\", \"func_name\": \"<module>\", \"globals\": {\"sports\": [\"REF\", 1], \"element\": \"swimming\"}, \"ordered_globals\": [\"sports\", \"element\"], \"stack_to_render\": [], \"heap\": {\"1\": [\"LIST\", \"volleyball\", \"tennis\", \"soccer\", \"swimming\"]}, \"stdout\": \"Found an element!\\nvolleyball\\nFound an element!\\ntennis\\nFound an element!\\nsoccer\\nFound an element!\\nswimming\\n\"}, {\"line\": 7, \"event\": \"return\", \"func_name\": \"<module>\", \"globals\": {\"sports\": [\"REF\", 1], \"element\": \"swimming\"}, \"ordered_globals\": [\"sports\", \"element\"], \"stack_to_render\": [], \"heap\": {\"1\": [\"LIST\", \"volleyball\", \"tennis\", \"soccer\", \"swimming\"]}, \"stdout\": \"Found an element!\\nvolleyball\\nFound an element!\\ntennis\\nFound an element!\\nsoccer\\nFound an element!\\nswimming\\nDone!\\n\"}]}\n",
       "        </script>\n",
       "        <div id=\"jm74373de6-7760-4b83-81d9-31483fdf5c90\" class=\"pytutorVisualizer\"> </div>\n",
       " \n",
       "        <style>\n",
       "        .vizLayoutTd {\n",
       "            background-color: #fff !important;\n",
       "        }\n",
       "\n",
       "        #pyStdout {            \n",
       "            min-height:25px;\n",
       "        }\n",
       "\n",
       "        /* 'Edit this code' link, hiding because replaces browser tab !!!*/\n",
       "        #editCodeLinkDiv {\n",
       "            display:none;  \n",
       "        }\n",
       "        </style>   \n",
       "                            \n",
       "        <script>\n",
       "        (function(){\n",
       "\n",
       "            var trace = JSON.parse(document.getElementById('json-jm74373de6-7760-4b83-81d9-31483fdf5c90').innerHTML);                                        \n",
       "            // NOTE 1: id without #\n",
       "            // NOTE 2 - maybe there are more predictable ways, but this will work anyway\n",
       "            //        - id should be number\n",
       "            visualizerIdOverride = Math.trunc(Math.random() * 100000000000)\n",
       "            addVisualizerToPage(trace, 'jm74373de6-7760-4b83-81d9-31483fdf5c90',{'embeddedMode' : false,\n",
       "                                             'visualizerIdOverride':visualizerIdOverride})  \n",
       "            \n",
       "            \n",
       "            // set overflow for pytuts - need to do in python as css \n",
       "            // does not allow parent selection\n",
       "            var pytuts = $('.pytutorVisualizer')\n",
       "            pytuts.closest('div.output_html.rendered_html.output_result')\n",
       "                    .css('overflow-x', 'visible')\n",
       "        \n",
       "            //pytuts.closest('div.output_html.rendered_html.output_result')\n",
       "            //      .css('background-color','red')                \n",
       "            \n",
       "        })()\n",
       "        </script>\n",
       "                \n",
       "                "
      ],
      "text/plain": [
       "<IPython.core.display.HTML object>"
      ]
     },
     "execution_count": 5,
     "metadata": {},
     "output_type": "execute_result"
    }
   ],
   "source": [
    "sports = ['volleyball', 'tennis', 'soccer', 'swimming']\n",
    "for element in sports:\n",
    "    print('Found an element!')\n",
    "    print(element)\n",
    "\n",
    "print('Done!')\n",
    "\n",
    "jupman.pytut()"
   ]
  },
  {
   "cell_type": "markdown",
   "metadata": {},
   "source": [
    "### Names of variables in `for`\n",
    "\n",
    "At each iteration, an element of the list is assigned to the variable `element`.\n",
    "\n",
    "As variable name we can choose whatever we like, for example this code is totally equivalent to the previous one:"
   ]
  },
  {
   "cell_type": "code",
   "execution_count": 6,
   "metadata": {},
   "outputs": [
    {
     "name": "stdout",
     "output_type": "stream",
     "text": [
      "Found an element!\n",
      "volleyball\n",
      "Found an element!\n",
      "tennis\n",
      "Found an element!\n",
      "soccer\n",
      "Found an element!\n",
      "swimming\n",
      "Done!\n"
     ]
    }
   ],
   "source": [
    "sports = ['volleyball', 'tennis', 'soccer', 'swimming']\n",
    "for name in sports:\n",
    "    print('Found an element!')\n",
    "    print(name)\n",
    "    \n",
    "print('Done!')    "
   ]
  },
  {
   "cell_type": "markdown",
   "metadata": {},
   "source": [
    "We need to be careful about one thing:\n",
    "\n",
    "<div class=\"alert alert-warning\">\n",
    "\n",
    "[II COMMANDMENT](https://en.softpython.org/commandments.html#II-COMMANDMENT): **Whenever you insert a variable in a** `for` **cycle, such variables must be new**\n",
    "    \n",
    "</div>    "
   ]
  },
  {
   "cell_type": "markdown",
   "metadata": {},
   "source": [
    "If you defined the variable before, you shall not reintroduce it in a `for`, as this would bring confusion in the readers' mind.\n",
    "\n",
    "For example:"
   ]
  },
  {
   "cell_type": "code",
   "execution_count": 7,
   "metadata": {},
   "outputs": [
    {
     "name": "stdout",
     "output_type": "stream",
     "text": [
      "volleyball\n",
      "tennis\n",
      "soccer\n",
      "swimming\n",
      "swimming\n"
     ]
    }
   ],
   "source": [
    "sports = ['volleyball', 'tennis', 'soccer', 'swimming']\n",
    "my_var = 'hello' \n",
    "\n",
    "for my_var in sports:  # you lose the original variable \n",
    "    print(my_var)\n",
    "\n",
    "print(my_var) # prints 'swimming' instead of 'hello'"
   ]
  },
  {
   "cell_type": "markdown",
   "metadata": {},
   "source": [
    "### Iterating strings\n",
    "\n",
    "Strings are sequences of characters, so we can iterate them with `for`:"
   ]
  },
  {
   "cell_type": "code",
   "execution_count": 8,
   "metadata": {},
   "outputs": [
    {
     "name": "stdout",
     "output_type": "stream",
     "text": [
      "h\n",
      "e\n",
      "l\n",
      "l\n",
      "o\n"
     ]
    }
   ],
   "source": [
    "for character in \"hello\":\n",
    "    print(character)"
   ]
  },
  {
   "cell_type": "markdown",
   "metadata": {},
   "source": [
    "### Iterating tuples\n",
    "\n",
    "Tuples are also sequences so we can iterate them:"
   ]
  },
  {
   "cell_type": "code",
   "execution_count": 9,
   "metadata": {},
   "outputs": [
    {
     "name": "stdout",
     "output_type": "stream",
     "text": [
      "I'm\n",
      "visiting\n",
      "a\n",
      "tuple\n"
     ]
    }
   ],
   "source": [
    "for word in (\"I'm\", 'visiting', 'a', 'tuple'):\n",
    "    print(word)"
   ]
  },
  {
   "cell_type": "markdown",
   "metadata": {},
   "source": [
    "\n",
    "### Questions - iteration\n",
    "\n",
    "Look at the following code fragments, and for each try guessing the result it produces (or if it gives an error):\n",
    "\n",
    "    \n",
    "1.  ```python\n",
    "    for i in [1,2,3]:\n",
    "        print(i)\n",
    "    ```\n",
    "    \n",
    "1.  ```python\n",
    "    for x in 7:\n",
    "        print(x)\n",
    "    ```\n",
    "1.  ```python\n",
    "    for x in [7]:\n",
    "        print(x)\n",
    "    ```    \n",
    "1.  ```python\n",
    "    for x in ['a','b','c']:        \n",
    "        x\n",
    "    ```    \n",
    "1.  ```python\n",
    "    for i in []:\n",
    "        print('GURB')\n",
    "    ```    \n",
    "1.  ```python\n",
    "    for i in [1,2,3]:\n",
    "        print(type(i))\n",
    "    ```\n",
    "1.  ```python\n",
    "    for i in '123':\n",
    "        print(type(i))    \n",
    "    ```\n",
    "1.  ```python\n",
    "    for i in 'abc':\n",
    "        print(i)\n",
    "    ```    \n",
    "1.  ```python\n",
    "    for x in ((4,5,6)):\n",
    "        print(x)\n",
    "    ```\n",
    "1.  ```python\n",
    "    for x in [[1],[2,3],[4,5,6]]:\n",
    "        print(x)\n",
    "    ```\n",
    "1.  ```python\n",
    "    x = 5\n",
    "    for x in ['a','b','c']:\n",
    "        print(x)\n",
    "    print(x)\n",
    "    ```\n",
    "1.  ```python\n",
    "    for x in ['a','b','c']:        \n",
    "        pass\n",
    "    print(x)\n",
    "    ```\n",
    "1.  ```python\n",
    "    for x in [1,2,3,4,5,6,7,8]:\n",
    "        if x % 2 == 0:\n",
    "            print(x)\n",
    "    ```\n",
    "1.  ```python\n",
    "    la = [4,5,6]\n",
    "    for x in la:\n",
    "        print(x)\n",
    "    la.reverse()\n",
    "    for x in la[1:]:\n",
    "        print(x)    \n",
    "    ```"
   ]
  },
  {
   "cell_type": "markdown",
   "metadata": {},
   "source": [
    "### Exercise - magic carpet\n",
    "\n",
    "✪ Months ago you bought a carpet from a pitchman. After some time, after a particularly stressful day, you say 'I wish I went on vacation to some exotic places, like say, _Marrakesh!'_ To your astonishment, the carpet jumps in the air and answers: 'I hear and obey!'\n",
    "\n",
    "Write some code which given the lists of places `trip1` and `trip2` prints all the visited stops.\n",
    "\n",
    "Example - given:\n",
    "\n",
    "```python\n",
    "trip1 = ['Marrakesh','Fez','Bazaar','Kasbah']\n",
    "trip2 = ['Koutoubia', 'El Badii', 'Chellah']\n",
    "```\n",
    "\n",
    "Prints:\n",
    "```\n",
    "The first trip starts\n",
    "      You: Let's go to Marrakesh !\n",
    "   Carpet: I hear and obey\n",
    "      You: Let's go to Fez !\n",
    "   Carpet: I hear and obey\n",
    "      You: Let's go to Bazaar !\n",
    "   Carpet: I hear and obey\n",
    "      You: Let's go to Kasbah !\n",
    "   Carpet: I hear and obey\n",
    "End of second trip\n",
    "\n",
    "The second trip starts\n",
    "      You: Let's go to Koutoubia !\n",
    "    Carpet: I hear and obey\n",
    "      You: Let's go to El Badii !\n",
    "    Carpet: I hear and obey\n",
    "      You: Let's go to Chellah !\n",
    "    Carpet: I hear and obey\n",
    "End of second trip\n",
    "\n",
    "```"
   ]
  },
  {
   "cell_type": "code",
   "execution_count": 10,
   "metadata": {
    "scrolled": true
   },
   "outputs": [
    {
     "name": "stdout",
     "output_type": "stream",
     "text": [
      "The first trip starts\n",
      "      You: Let's go to Marrakesh !\n",
      "   Carpet: I hear and obey\n",
      "      You: Let's go to Fez !\n",
      "   Carpet: I hear and obey\n",
      "      You: Let's go to Bazaar !\n",
      "   Carpet: I hear and obey\n",
      "      You: Let's go to Kasbah !\n",
      "   Carpet: I hear and obey\n",
      "End of second trip\n",
      "\n",
      "The second trip starts\n",
      "      You: Let's go to Koutoubia !\n",
      "    Carpet: I hear and obey\n",
      "      You: Let's go to El Badii !\n",
      "    Carpet: I hear and obey\n",
      "      You: Let's go to Chellah !\n",
      "    Carpet: I hear and obey\n",
      "End of second trip\n"
     ]
    }
   ],
   "source": [
    "#jupman-purge-output\n",
    "trip1 = ['Marrakesh','Fez','Bazaar','Kasbah']\n",
    "trip2 = ['Koutoubia', 'El Badii', 'Chellah']\n",
    "\n",
    "# write here\n",
    "print('The first trip starts')\n",
    "for place in trip1:\n",
    "    print(\"      You: Let's go to\",place,'!')\n",
    "    print('   Carpet: I hear and obey')\n",
    "print('End of second trip')\n",
    "\n",
    "print()\n",
    "\n",
    "print('The second trip starts')\n",
    "for place in trip2:\n",
    "    print(\"      You: Let's go to\",place,'!')\n",
    "    print('    Carpet: I hear and obey')\n",
    "print('End of second trip')"
   ]
  },
  {
   "cell_type": "markdown",
   "metadata": {},
   "source": [
    "### Esercise - evensum\n",
    "\n",
    "✪ Given the list `numbers`, write some code which calculates and prints the sum of the even **elements** (**not** the elements at even indexes !)\n",
    "\n",
    "Example - given:\n",
    "\n",
    "```python\n",
    "numbers = [3,4,1,5,12,7,9]\n",
    "```\n",
    "\n",
    "finds `4` and `12` so it must print:\n",
    "\n",
    "```\n",
    "16\n",
    "```"
   ]
  },
  {
   "cell_type": "code",
   "execution_count": 11,
   "metadata": {},
   "outputs": [
    {
     "name": "stdout",
     "output_type": "stream",
     "text": [
      "16\n"
     ]
    }
   ],
   "source": [
    "#jupman-purge-output\n",
    "numbers = [3,4,1,5,12,7,9]\n",
    "\n",
    "# write here\n",
    "s = 0\n",
    "for x in numbers:\n",
    "    if x % 2 == 0:\n",
    "        s += x\n",
    "print(s)"
   ]
  },
  {
   "cell_type": "markdown",
   "metadata": {},
   "source": [
    "### Exercise - birbantello\n",
    "\n",
    "✪ Given a string in lowercase, write some code which prints each character in uppercase followed by the character as lowercase.\n",
    "\n",
    "* **HINT**: to obtain uppercase characters use the `.upper()` method\n",
    "\n",
    "Example - given:\n",
    "\n",
    "```python\n",
    "s = \"birbantello\"\n",
    "```\n",
    "\n",
    "Prints:\n",
    "\n",
    "```\n",
    "B b\n",
    "I i\n",
    "R r\n",
    "B b\n",
    "A a\n",
    "N n\n",
    "T t\n",
    "E e\n",
    "L l\n",
    "L l\n",
    "O o\n",
    "```"
   ]
  },
  {
   "cell_type": "code",
   "execution_count": 12,
   "metadata": {},
   "outputs": [
    {
     "name": "stdout",
     "output_type": "stream",
     "text": [
      "B b\n",
      "I i\n",
      "R r\n",
      "B b\n",
      "A a\n",
      "N n\n",
      "T t\n",
      "E e\n",
      "L l\n",
      "L l\n",
      "O o\n"
     ]
    }
   ],
   "source": [
    "#jupman-purge-output\n",
    "s = \"birbantello\"\n",
    "\n",
    "# write here\n",
    "for x in s:\n",
    "    print(x.upper(), x)"
   ]
  },
  {
   "cell_type": "markdown",
   "metadata": {},
   "source": [
    "### Exercise - articulate\n",
    "\n",
    "✪ A new word is taught to a kid. He knows a lot of characters from the alphabet, but not all of them. To remember the known ones, he treats them as they where actors divided in three categories: the `good`, `bad` ad `ugly`. Write some code which given a `word` prints all the characters and for each of them tells whether it is good, bad or ugly. If a character is not recognized by the kid, prints 'not interesting'.\n",
    "\n",
    "\n",
    "Example - given:\n",
    "\n",
    "```python\n",
    "word = 'articulate'\n",
    "\n",
    "good = 'abcde'\n",
    "bad = 'ru'\n",
    "ugly = 'ijklmn'\n",
    "```\n",
    "\n",
    "Prints:\n",
    "\n",
    "```\n",
    "a is good\n",
    "r is bad\n",
    "t is not interesting\n",
    "i is ugly\n",
    "c is good\n",
    "u is bad\n",
    "l is ugly\n",
    "a is good\n",
    "t is not interesting\n",
    "e is good\n",
    "\n",
    "```\n",
    "\n"
   ]
  },
  {
   "cell_type": "code",
   "execution_count": 13,
   "metadata": {},
   "outputs": [
    {
     "name": "stdout",
     "output_type": "stream",
     "text": [
      "a is good\n",
      "r is bad\n",
      "t is not interesting\n",
      "i is ugly\n",
      "c is good\n",
      "u is bad\n",
      "l is ugly\n",
      "a is good\n",
      "t is not interesting\n",
      "e is good\n"
     ]
    }
   ],
   "source": [
    "#jupman-purge-output\n",
    "word = 'articulate'\n",
    "\n",
    "good = 'abcde'\n",
    "bad = 'ru'\n",
    "ugly = 'ijklmn'\n",
    "\n",
    "# write here\n",
    "\n",
    "for c in word:\n",
    "    if c in good:\n",
    "        print(c,'is good')\n",
    "    elif c in bad:\n",
    "        print(c, 'is bad')\n",
    "    elif c in ugly:\n",
    "        print(c, 'is ugly')\n",
    "    else:\n",
    "        print(c, 'is not interesting')\n",
    "        "
   ]
  },
  {
   "cell_type": "markdown",
   "metadata": {},
   "source": [
    "### Exercise - gala\n",
    "\n",
    "✪ At a gala event, many high-society people are invited. At the beginning of the evening, doors are opened and guests enter a `queue`. Unfortunately, during these occasions uninvited guests always show up, so the concierge in the atrium is given a list of `unwelcome` ones. Whenever a guest is recognized as unwelcome, he will be taken care by the strong hands of Ferruccio the bouncer. Illustrious guests will be written instead in the list `admitted`.\n",
    "\n",
    "Write some code which prints the various passages of the event.\n",
    "\n",
    "\n",
    "Example - given:\n",
    "\n",
    "```python\n",
    "queue = ['Consul','Notary','Skeleton','Dean','Goblin','Vampire', 'Jeweller']\n",
    "unwelcome = {'Vampire','Goblin','Skeleton'}\n",
    "admitted = []\n",
    "```"
   ]
  },
  {
   "cell_type": "markdown",
   "metadata": {},
   "source": [
    "Prints:\n",
    "\n",
    "```\n",
    "Open the doors!\n",
    "\n",
    "Good evening Mr Consul\n",
    "  This way, Your Excellence\n",
    "  Next in line !\n",
    "Good evening Mr Notary\n",
    "  This way, Your Excellence\n",
    "  Next in line !\n",
    "Good evening Mr Skeleton\n",
    "  Ferruccio, would you please take care of Mr Skeleton ?\n",
    "  Next in line !\n",
    "Good evening Mr Dean\n",
    "  This way, Your Excellence\n",
    "  Next in line !\n",
    "Good evening Mr Goblin\n",
    "  Ferruccio, would you please take care of Mr Goblin ?\n",
    "  Next in line !\n",
    "Good evening Mr Vampire\n",
    "  Ferruccio, would you please take care of Mr Vampire ?\n",
    "  Next in line !\n",
    "Good evening Mr Jeweller\n",
    "  This way, Your Excellence\n",
    "  Next in line !\n",
    "\n",
    "These guests were admitted: Consul, Notary, Dean, Jeweller\n",
    "```"
   ]
  },
  {
   "cell_type": "code",
   "execution_count": 14,
   "metadata": {},
   "outputs": [
    {
     "name": "stdout",
     "output_type": "stream",
     "text": [
      "Open the doors!\n",
      "\n",
      "Good evening Mr Consul\n",
      "  This way, Your Excellence\n",
      "  Next in line !\n",
      "Good evening Mr Notary\n",
      "  This way, Your Excellence\n",
      "  Next in line !\n",
      "Good evening Mr Skeleton\n",
      "  Ferruccio, would you please take care of Mr Skeleton ?\n",
      "  Next in line !\n",
      "Good evening Mr Dean\n",
      "  This way, Your Excellence\n",
      "  Next in line !\n",
      "Good evening Mr Goblin\n",
      "  Ferruccio, would you please take care of Mr Goblin ?\n",
      "  Next in line !\n",
      "Good evening Mr Vampire\n",
      "  Ferruccio, would you please take care of Mr Vampire ?\n",
      "  Next in line !\n",
      "Good evening Mr Jeweller\n",
      "  This way, Your Excellence\n",
      "  Next in line !\n",
      "\n",
      "These guests were admitted: Consul, Notary, Dean, Jeweller\n"
     ]
    }
   ],
   "source": [
    "#jupman-purge-output\n",
    "queue = ['Consul','Notary','Skeleton','Dean','Goblin','Vampire', 'Jeweller']\n",
    "unwelcome = {'Vampire','Goblin','Skeleton'}\n",
    "admitted = []\n",
    "\n",
    "\n",
    "# write here\n",
    "print('Open the doors!')\n",
    "print()\n",
    "for guest in queue:\n",
    "    \n",
    "    print('Good evening Mr', guest)\n",
    "    if guest in unwelcome:\n",
    "        print(\"  Ferruccio, would you please take care of Mr\", guest, '?')\n",
    "    else:\n",
    "        print(\"  This way, Your Excellence\")\n",
    "        admitted.append(guest)\n",
    "    print('  Next in line !')\n",
    "    \n",
    "print()\n",
    "print('These guests were admitted:', ', '.join(admitted))"
   ]
  },
  {
   "cell_type": "markdown",
   "metadata": {},
   "source": [
    "### Exercise - balance\n",
    "\n",
    "✪✪ A crop of seeds has been harvested, and seeds will be poured in a certain number of `bags` of a given `capacity` each (i.e. `15` kilograms).\n",
    "\n",
    "The seeds arrive in `containers` of variable capacity. Each container is placed on a \n",
    "weight scale and its content is poured in the current bag. As soon as the quantity `capacity` is reached, the scale weight is emptied, the bag is substituted with a new one which starts being filled from what remains from the previous fill. Write some code which prints the procedure.\n",
    "\n",
    "Example - given:\n",
    "\n",
    "```python\n",
    "containers = [5,1,7,4,3,9,5,2,7,3]\n",
    "capacity = 15\n",
    "```\n",
    "\n",
    "Prints:\n",
    "\n",
    "```\n",
    "Take 5 kg\n",
    "The scale weight shows 5 kg\n",
    "Take 1 kg\n",
    "The scale weight shows 6 kg\n",
    "Take 7 kg\n",
    "The scale weight shows 13 kg\n",
    "Take 4 kg\n",
    "The scale weight shows 17 kg\n",
    "We reached the capacity of 15 kg, there remain 2 kg\n",
    "\n",
    "Take 3 kg\n",
    "The scale weight shows 5 kg\n",
    "Take 9 kg\n",
    "The scale weight shows 14 kg\n",
    "Take 5 kg\n",
    "The scale weight shows 19 kg\n",
    "We reached the capacity of 15 kg, there remain 4 kg\n",
    "\n",
    "Take 2 kg\n",
    "The scale weight shows 6 kg\n",
    "Take 7 kg\n",
    "The scale weight shows 13 kg\n",
    "Take 3 kg\n",
    "The scale weight shows 16 kg\n",
    "We reached the capacity of 15 kg, there remain 1 kg\n",
    "\n",
    "We filled 3 bags\n",
    "```"
   ]
  },
  {
   "cell_type": "code",
   "execution_count": 15,
   "metadata": {},
   "outputs": [
    {
     "name": "stdout",
     "output_type": "stream",
     "text": [
      "Take 5 kg\n",
      "The scale weight shows 5 kg\n",
      "Take 1 kg\n",
      "The scale weight shows 6 kg\n",
      "Take 7 kg\n",
      "The scale weight shows 13 kg\n",
      "Take 4 kg\n",
      "The scale weight shows 17 kg\n",
      "We reached the capacity of 15 kg, there remain 2 kg\n",
      "\n",
      "Take 3 kg\n",
      "The scale weight shows 5 kg\n",
      "Take 9 kg\n",
      "The scale weight shows 14 kg\n",
      "Take 5 kg\n",
      "The scale weight shows 19 kg\n",
      "We reached the capacity of 15 kg, there remain 4 kg\n",
      "\n",
      "Take 2 kg\n",
      "The scale weight shows 6 kg\n",
      "Take 7 kg\n",
      "The scale weight shows 13 kg\n",
      "Take 3 kg\n",
      "The scale weight shows 16 kg\n",
      "We reached the capacity of 15 kg, there remain 1 kg\n",
      "\n",
      "We filled 3 bags\n"
     ]
    }
   ],
   "source": [
    "#jupman-purge-output\n",
    "containers = [5,1,7,4,3,9,5,2,7,3]\n",
    "capacity = 15\n",
    "\n",
    "# write here\n",
    "bags = 0\n",
    "k = 0\n",
    "for n in containers:\n",
    "    k += n\n",
    "    print('Take', n, 'kg')\n",
    "    print('The scale weight shows', k,'kg')\n",
    "    if k >= capacity:\n",
    "        \n",
    "        print('We reached the capacity of',capacity,'kg, there remain', k - capacity, 'kg')\n",
    "        print()\n",
    "        k = k - capacity\n",
    "        bags += 1\n",
    "        \n",
    "print('We filled', bags, 'bags')"
   ]
  },
  {
   "cell_type": "markdown",
   "metadata": {},
   "source": [
    "## Counting with range\n",
    "\n",
    "If we need to keep track of the iteration number, we can use the iterable sequence `range`, which produces a series of integer numbers from `0` INCLUDED until the specified number EXCLUDED:"
   ]
  },
  {
   "cell_type": "code",
   "execution_count": 16,
   "metadata": {},
   "outputs": [
    {
     "name": "stdout",
     "output_type": "stream",
     "text": [
      "0\n",
      "1\n",
      "2\n",
      "3\n",
      "4\n"
     ]
    }
   ],
   "source": [
    "for i in range(5):\n",
    "    print(i)"
   ]
  },
  {
   "cell_type": "markdown",
   "metadata": {},
   "source": [
    "Note it _did not_ print the limit `5`\n",
    "\n",
    "When we call `range` we can also specify the starting index, which is INCLUDED in the generated sequence, while the arrival index is always EXCLUDED:"
   ]
  },
  {
   "cell_type": "code",
   "execution_count": 17,
   "metadata": {},
   "outputs": [
    {
     "name": "stdout",
     "output_type": "stream",
     "text": [
      "3\n",
      "4\n",
      "5\n",
      "6\n"
     ]
    }
   ],
   "source": [
    "for i in range(3,7):\n",
    "    print(i)"
   ]
  },
  {
   "cell_type": "markdown",
   "metadata": {},
   "source": [
    "**Counting intervals:** we can specify the increment to apply to the counter at each iteration by passing a third parameter, for example here we specify an increment of `2` (note the final `18` index is EXCLUDED from the sequence):"
   ]
  },
  {
   "cell_type": "code",
   "execution_count": 18,
   "metadata": {},
   "outputs": [
    {
     "name": "stdout",
     "output_type": "stream",
     "text": [
      "4\n",
      "6\n",
      "8\n",
      "10\n",
      "12\n",
      "14\n",
      "16\n"
     ]
    }
   ],
   "source": [
    "for i in range(4,18,2):\n",
    "    print(i)"
   ]
  },
  {
   "cell_type": "markdown",
   "metadata": {},
   "source": [
    "**Reverse order**: we can count in reverse by using a negative increment:"
   ]
  },
  {
   "cell_type": "code",
   "execution_count": 19,
   "metadata": {},
   "outputs": [
    {
     "name": "stdout",
     "output_type": "stream",
     "text": [
      "5\n",
      "4\n",
      "3\n",
      "2\n",
      "1\n"
     ]
    }
   ],
   "source": [
    "for i in range(5,0,-1):\n",
    "    print(i)"
   ]
  },
  {
   "cell_type": "markdown",
   "metadata": {},
   "source": [
    "Note how the limit `0` _was not_ reached, in order to arrive there we need to write"
   ]
  },
  {
   "cell_type": "code",
   "execution_count": 20,
   "metadata": {},
   "outputs": [
    {
     "name": "stdout",
     "output_type": "stream",
     "text": [
      "5\n",
      "4\n",
      "3\n",
      "2\n",
      "1\n",
      "0\n"
     ]
    }
   ],
   "source": [
    "for i in range(5,-1,-1):\n",
    "    print(i)"
   ]
  },
  {
   "cell_type": "markdown",
   "metadata": {},
   "source": [
    "\n",
    "### Questions - range\n",
    "\n",
    "Look at the following code fragments, and for each try guessing the result it produces (or if it gives an error):\n",
    "\n",
    "\n",
    "1.  ```python\n",
    "    for x in range(1):\n",
    "        print(x)\n",
    "    ```\n",
    "1.  ```python\n",
    "    for i in range(3):\n",
    "        i\n",
    "    ```    \n",
    "1.  ```python\n",
    "    for i in range(3):\n",
    "    print(i)    \n",
    "    ```        \n",
    "1.  ```python\n",
    "    for x in range(-1):\n",
    "        print(x)\n",
    "    ```\n",
    "1.  ```python\n",
    "    for 'm' in range(3):\n",
    "        print('m')\n",
    "    ```\n",
    "1.  ```python\n",
    "    for i in range(3):\n",
    "        i-1    \n",
    "    ```    \n",
    "1.  ```python\n",
    "    for x in range(6,4,-1):\n",
    "        print(x)\n",
    "    ```\n",
    "1.  ```python\n",
    "    for x in range(1,0,-1):\n",
    "        print(x)\n",
    "    ```            \n",
    "1.  ```python\n",
    "    for x in range(3,-3,-2):\n",
    "        print(x)\n",
    "    ```    \n",
    "1.  ```python\n",
    "    for x in 3:\n",
    "        print(x)\n",
    "    ```\n",
    "1.  ```\n",
    "    x = 3\n",
    "    for i in range(x):\n",
    "        print(i)\n",
    "    for i in range(x,2*x):\n",
    "        print(i)\n",
    "    ```    \n",
    "    \n",
    "1.  ```python\n",
    "    for x in range(range(3)):\n",
    "        print(x)\n",
    "    ```\n"
   ]
  },
  {
   "cell_type": "markdown",
   "metadata": {},
   "source": [
    "### Exercise - printdoubles\n",
    "\n",
    "✪ Given a positive number `n` (i.e. `n=4`) write some code which prints:\n",
    "\n",
    "```\n",
    "The double of 0 is 0\n",
    "The double of 1 is 2\n",
    "The double of 2 is 4\n",
    "The double of 3 is 6\n",
    "```"
   ]
  },
  {
   "cell_type": "code",
   "execution_count": 21,
   "metadata": {},
   "outputs": [
    {
     "name": "stdout",
     "output_type": "stream",
     "text": [
      "The double of 0 is 0\n",
      "The double of 1 is 2\n",
      "The double of 2 is 4\n",
      "The double of 3 is 6\n"
     ]
    }
   ],
   "source": [
    "#jupman-purge-output\n",
    "n = 4\n",
    "# write here\n",
    "for i in range(n):\n",
    "    print('The double of', i, 'is', i*2)"
   ]
  },
  {
   "cell_type": "markdown",
   "metadata": {},
   "source": [
    "### Exercise - multiples or not\n",
    "\n",
    "✪✪ Write some code which given two integer positive numbers `k` and `b`: \n",
    "\n",
    "* first prints all the numbers from `k` INCLUDED to `b` INCLUDED which are multiples of `k`\n",
    "* the prints all the numbers from `k` EXCLUDED to `b` EXCLUDED which are NOT multiples of `k`\n",
    "\n",
    "Example - given:\n",
    "\n",
    "```python\n",
    "k,b = 3,15\n",
    "```\n",
    "\n",
    "it prints:\n",
    "\n",
    "```\n",
    "Multiples of 3\n",
    "3\n",
    "6\n",
    "9\n",
    "12\n",
    "15\n",
    "\n",
    "Not divisible by 3\n",
    "4\n",
    "5\n",
    "7\n",
    "8\n",
    "10\n",
    "11\n",
    "13\n",
    "14\n",
    "```"
   ]
  },
  {
   "cell_type": "code",
   "execution_count": 22,
   "metadata": {},
   "outputs": [
    {
     "name": "stdout",
     "output_type": "stream",
     "text": [
      "Multiples of 3\n",
      "3\n",
      "6\n",
      "9\n",
      "12\n",
      "15\n",
      "\n",
      "Not divisible by 3\n",
      "4\n",
      "5\n",
      "7\n",
      "8\n",
      "10\n",
      "11\n",
      "13\n",
      "14\n"
     ]
    }
   ],
   "source": [
    "#jupman-purge-output\n",
    "k,b = 3,15\n",
    "\n",
    "# write here\n",
    "print('Multiples of', k)\n",
    "for i in range(k,b+1,k):\n",
    "    print(i)\n",
    "print()\n",
    "print('Not divisible by', k)    \n",
    "for i in range(k+1,b):\n",
    "    if i % k != 0:\n",
    "        print(i)"
   ]
  },
  {
   "cell_type": "markdown",
   "metadata": {},
   "source": [
    "### Exercise - ab interval\n",
    "\n",
    "\n",
    "✪✪ Given two integers `a` and `b` greater or equal than zero, write some code which prints all the integer numbers among the two bounds INCLUDED.\n",
    "\n",
    "* **NOTE**: `a` may be greater, equal or less than `b`, your code must handle all the cases.\n",
    "\n",
    "Example 1 - given:\n",
    "\n",
    "```python\n",
    "a,b = 5,9\n",
    "```\n",
    "it must print:\n",
    "\n",
    "```\n",
    "5\n",
    "6\n",
    "7\n",
    "8\n",
    "9\n",
    "```\n",
    "\n",
    "Example 2 - given:\n",
    "\n",
    "```python\n",
    "a,b = 8,3 \n",
    "```\n",
    "it must print:\n",
    "\n",
    "```\n",
    "3\n",
    "4\n",
    "5\n",
    "6\n",
    "7\n",
    "8\n",
    "```"
   ]
  },
  {
   "cell_type": "code",
   "execution_count": 23,
   "metadata": {},
   "outputs": [
    {
     "name": "stdout",
     "output_type": "stream",
     "text": [
      "5\n",
      "6\n",
      "7\n",
      "8\n",
      "9\n"
     ]
    }
   ],
   "source": [
    "#jupman-purge-output\n",
    "a,b = 5,9   # 5 6 7 8 9\n",
    "#a,b = 8,3  # 3 4 5 6 7 8\n",
    "#a,b = 6,6  # 6\n",
    "\n",
    "# write here\n",
    "\n",
    "mn = min(a,b)\n",
    "mx = max(a,b)\n",
    "\n",
    "for x in range(mn, mx + 1):\n",
    "    print(x)"
   ]
  },
  {
   "cell_type": "markdown",
   "metadata": {},
   "source": [
    "### Exercise - FizzBuzz\n",
    "\n",
    "Write some code which prints the numbers from 1 to 35 INCLUDED, but when a number is divisible by 3 prints instead FIZZ, when it is divisible by 5 prints BUZZ, and when it is divisible by 3 and 5 prints FIZZBUZZ.\n",
    "\n",
    "Expected output:\n",
    "\n",
    "```\n",
    "1\n",
    "2\n",
    "FIZZ\n",
    "4\n",
    "BUZZ\n",
    "FIZZ\n",
    "7\n",
    "8\n",
    "FIZZ\n",
    "BUZZ\n",
    "11\n",
    "FIZZ\n",
    "13\n",
    "14\n",
    "FIZZBUZZ\n",
    "16\n",
    "17\n",
    "FIZZ\n",
    "19\n",
    "BUZZ\n",
    "FIZZ\n",
    "22\n",
    "23\n",
    "FIZZ\n",
    "BUZZ\n",
    "26\n",
    "FIZZ\n",
    "28\n",
    "29\n",
    "FIZZBUZZ\n",
    "31\n",
    "32\n",
    "FIZZ\n",
    "34\n",
    "BUZZ\n",
    "```"
   ]
  },
  {
   "cell_type": "code",
   "execution_count": 24,
   "metadata": {},
   "outputs": [
    {
     "name": "stdout",
     "output_type": "stream",
     "text": [
      "1\n",
      "2\n",
      "FIZZ\n",
      "4\n",
      "BUZZ\n",
      "FIZZ\n",
      "7\n",
      "8\n",
      "FIZZ\n",
      "BUZZ\n",
      "11\n",
      "FIZZ\n",
      "13\n",
      "14\n",
      "FIZZBUZZ\n",
      "16\n",
      "17\n",
      "FIZZ\n",
      "19\n",
      "BUZZ\n",
      "FIZZ\n",
      "22\n",
      "23\n",
      "FIZZ\n",
      "BUZZ\n",
      "26\n",
      "FIZZ\n",
      "28\n",
      "29\n",
      "FIZZBUZZ\n",
      "31\n",
      "32\n",
      "FIZZ\n",
      "34\n",
      "BUZZ\n"
     ]
    }
   ],
   "source": [
    "#jupman-purge-output\n",
    "\n",
    "# write here\n",
    "for i in range(1,36):\n",
    "    if i % 15 == 0:\n",
    "        print('FIZZBUZZ')\n",
    "    elif i % 3 == 0:\n",
    "        print('FIZZ')\n",
    "    elif i % 5 == 0:\n",
    "        print('BUZZ')\n",
    "    else:\n",
    "        print(i)"
   ]
  },
  {
   "cell_type": "markdown",
   "metadata": {},
   "source": [
    "## Iterating by index\n",
    "\n",
    "If we have a sequence like a list, sometimes during the iteration it is necessary to know in which cell position we are. We can generate the indexes with `range`, and use them to access a list:"
   ]
  },
  {
   "cell_type": "code",
   "execution_count": 25,
   "metadata": {},
   "outputs": [
    {
     "name": "stdout",
     "output_type": "stream",
     "text": [
      "position 0\n",
      "volleyball\n",
      "position 1\n",
      "tennis\n",
      "position 2\n",
      "soccer\n",
      "position 3\n",
      "swimming\n"
     ]
    }
   ],
   "source": [
    "sports = ['volleyball', 'tennis', 'soccer', 'swimming']\n",
    "\n",
    "for i in range(len(sports)):\n",
    "    print('position', i)\n",
    "    print(sports[i])"
   ]
  },
  {
   "cell_type": "markdown",
   "metadata": {},
   "source": [
    "Note we passed to `range` the dimension of the list obrained with `len`."
   ]
  },
  {
   "cell_type": "markdown",
   "metadata": {},
   "source": [
    "### Exercise - kitchen\n",
    "\n",
    "\n",
    "✪ Write some code which given a list of an even number of strings `kitchen`, prints the couples of elements we can find in sequences, one row at a time\n",
    "\n",
    "Example - given:\n",
    "\n",
    "```python\n",
    "kitchen = ['oil', 'soup', 'eggs', 'pie', 'tomato sauce', 'pasta', 'meat sauce', 'lasagna']\n",
    "```\n",
    "\n",
    "Prints:\n",
    "\n",
    "```\n",
    "oil, soup\n",
    "eggs, pie\n",
    "tomato sauce, pasta\n",
    "meat sauce, lasagna\n",
    "```\n"
   ]
  },
  {
   "cell_type": "code",
   "execution_count": 26,
   "metadata": {},
   "outputs": [
    {
     "name": "stdout",
     "output_type": "stream",
     "text": [
      "oil, soup\n",
      "eggs, pie\n",
      "tomato sauce, pasta\n",
      "meat sauce, lasagna\n"
     ]
    }
   ],
   "source": [
    "#jupman-purge-output\n",
    "kitchen = ['oil', 'soup', 'eggs', 'pie', 'tomato sauce', 'pasta', 'meat sauce', 'lasagna']\n",
    "\n",
    "# write here\n",
    "for i in range(0,len(kitchen)-1, 2):\n",
    "    print(kitchen[i] +',', kitchen[i+1])"
   ]
  },
  {
   "cell_type": "markdown",
   "metadata": {},
   "source": [
    "### Exercise - neon\n",
    "\n",
    "✪ Given two lists `la` and  `lb` of _equal length_ $n$, write some code which prints their characters separated by a space on $n$ rows\n",
    "\n",
    "Example - given:\n",
    "\n",
    "```python\n",
    "la = ['n','e','o','n']\n",
    "lb = ['s','h','o','w']\n",
    "```\n",
    "\n",
    "prints:\n",
    "\n",
    "```\n",
    "n s\n",
    "e h\n",
    "o o\n",
    "n w\n",
    "```"
   ]
  },
  {
   "cell_type": "code",
   "execution_count": 27,
   "metadata": {},
   "outputs": [
    {
     "name": "stdout",
     "output_type": "stream",
     "text": [
      "n s\n",
      "e h\n",
      "o o\n",
      "n w\n"
     ]
    }
   ],
   "source": [
    "#jupman-purge-output\n",
    "la = ['n','e','o','n']\n",
    "lb = ['s','h','o','w']\n",
    "\n",
    "# write here\n",
    "\n",
    "for i in range(len(la)):     \n",
    "    print(la[i],lb[i])"
   ]
  },
  {
   "cell_type": "markdown",
   "metadata": {},
   "source": [
    "### Exercise - emotions\n",
    "\n",
    "✪ Given the list of strings `emotions` and another one `grade` containing the numbers `-1` and `1`, write some code which prints the emotions followed with 'positive' if their corresponding grade is a number greater than zero or 'negative' otherwise\n",
    "\n",
    "\n",
    "Example - given:\n",
    "\n",
    "```python\n",
    "emotions = ['Fear', 'Anger','Sadness','Joy','Disgust','Ecstasy']\n",
    "grade =    [-1,       -1,     -1,       1,     -1,        1]\n",
    "```\n",
    "\n",
    "prints:\n",
    "\n",
    "```\n",
    "Fear : negative\n",
    "Anger : negative\n",
    "Sadness : negative\n",
    "Joy : positive\n",
    "Disgust : negative\n",
    "Ecstasy : positive\n",
    "```\n"
   ]
  },
  {
   "cell_type": "code",
   "execution_count": 28,
   "metadata": {},
   "outputs": [
    {
     "name": "stdout",
     "output_type": "stream",
     "text": [
      "Fear : negative\n",
      "Anger : negative\n",
      "Sadness : negative\n",
      "Joy : positive\n",
      "Disgust : negative\n",
      "Ecstasy : positive\n"
     ]
    }
   ],
   "source": [
    "#jupman-purge-output\n",
    "emotions = ['Fear', 'Anger','Sadness','Joy','Disgust','Ecstasy']\n",
    "grade =    [-1,       -1,     -1,       1,     -1,        1]\n",
    "\n",
    "# write here\n",
    "for i in range(len(emotions)):\n",
    "    if grade[i] > 0:\n",
    "        print(emotions[i], ': positive')\n",
    "    else:\n",
    "        print(emotions[i], ': negative')"
   ]
  },
  {
   "cell_type": "markdown",
   "metadata": {},
   "source": [
    "### Exercise - organetto\n",
    "\n",
    "✪ Given a string `s`, write some code which prints all the substrings you can obtain from the position of the character `'n'` and which terminates with the last character of `s`.\n",
    "\n",
    "Example - given:\n",
    "\n",
    "```python\n",
    "s = 'organetto'\n",
    "```\n",
    "\n",
    "Prints:\n",
    "\n",
    "```\n",
    "netto\n",
    "etto\n",
    "tto\n",
    "to\n",
    "o\n",
    "\n",
    "```\n"
   ]
  },
  {
   "cell_type": "code",
   "execution_count": 29,
   "metadata": {},
   "outputs": [
    {
     "name": "stdout",
     "output_type": "stream",
     "text": [
      "netto\n",
      "etto\n",
      "tto\n",
      "to\n",
      "o\n"
     ]
    }
   ],
   "source": [
    "#jupman-purge-output\n",
    "s = 'organetto'\n",
    "\n",
    "# write here\n",
    "for i in range(s.index('n'), len(s)):\n",
    "    print(s[i:])"
   ]
  },
  {
   "cell_type": "markdown",
   "metadata": {},
   "source": [
    "### Exercise - sghiribizzo\n",
    "\n",
    "Write some code which given the string `s` prints all the possible combinations of row couples such that a row begins with the first characters of `s` and the successive continues with the following characters.\n",
    "\n",
    "Example - given:\n",
    "\n",
    "```python\n",
    "s = 'sghiribizzo'\n",
    "```\n",
    "\n",
    "prints:\n",
    "\n",
    "```\n",
    "s\n",
    " ghiribizzo\n",
    "sg\n",
    "  hiribizzo\n",
    "sgh\n",
    "   iribizzo\n",
    "sghi\n",
    "    ribizzo\n",
    "sghir\n",
    "     ibizzo\n",
    "sghiri\n",
    "      bizzo\n",
    "sghirib\n",
    "       izzo\n",
    "sghiribi\n",
    "        zzo\n",
    "sghiribiz\n",
    "         zo\n",
    "sghiribizz\n",
    "          o\n",
    "sghiribizzo           \n",
    "```"
   ]
  },
  {
   "cell_type": "code",
   "execution_count": 30,
   "metadata": {},
   "outputs": [
    {
     "name": "stdout",
     "output_type": "stream",
     "text": [
      "s\n",
      " ghiribizzo\n",
      "sg\n",
      "  hiribizzo\n",
      "sgh\n",
      "   iribizzo\n",
      "sghi\n",
      "    ribizzo\n",
      "sghir\n",
      "     ibizzo\n",
      "sghiri\n",
      "      bizzo\n",
      "sghirib\n",
      "       izzo\n",
      "sghiribi\n",
      "        zzo\n",
      "sghiribiz\n",
      "         zo\n",
      "sghiribizz\n",
      "          o\n",
      "sghiribizzo\n",
      "           \n"
     ]
    }
   ],
   "source": [
    "#jupman-purge-output\n",
    "s = 'sghiribizzo'\n",
    "# write here\n",
    "for i in range(len(s)):    \n",
    "    print(s[:i+1])\n",
    "    print(' '*i,s[i+1:])\n",
    "    "
   ]
  },
  {
   "cell_type": "markdown",
   "metadata": {},
   "source": [
    "### Exercise - dna\n",
    "\n",
    "Given two DNA strings `s1` and `s2` of equal length, write some code which prints among the first and second string another string made by spaces ` ` and pipe $|$ where equal characters are found.\n",
    "\n",
    "* **HINT**: create a list containing the characters space or the character $|$, and only at the end convert the string by using strings `join` method (doing so is much more efficient than keep generating strings with `+` operator)\n",
    "\n",
    "Example - given:\n",
    "\n",
    "```python\n",
    "s1 = \"ATACATATAGGGCCAATTATTATAAGTCAC\"\n",
    "s2 = \"CGCCACTTAAGCGCCCTGTATTAAAGTCGC\"\n",
    "```\n",
    "\n",
    "Prints:\n",
    "\n",
    "```\n",
    "ATACATATAGGGCCAATTATTATAAGTCAC\n",
    "   ||  || |  |  |   |  ||||| |\n",
    "CGCCACTTAAGCGCCCTGTATTAAAGTCGC\n",
    "```"
   ]
  },
  {
   "cell_type": "code",
   "execution_count": 31,
   "metadata": {},
   "outputs": [
    {
     "name": "stdout",
     "output_type": "stream",
     "text": [
      "ATACATATAGGGCCAATTATTATAAGTCAC\n",
      "   ||  || |  |  |   |  ||||| |\n",
      "CGCCACTTAAGCGCCCTGTATTAAAGTCGC\n"
     ]
    }
   ],
   "source": [
    "#jupman-purge-output\n",
    "s1 = \"ATACATATAGGGCCAATTATTATAAGTCAC\"\n",
    "s2 = \"CGCCACTTAAGCGCCCTGTATTAAAGTCGC\"\n",
    "\n",
    "# write here\n",
    "lst = []\n",
    "for i in range(len(s1)):\n",
    "    if(s1[i] == s2[i]):\n",
    "        lst.append('|')\n",
    "    else:\n",
    "        lst.append(' ')\n",
    "\n",
    "bars = ''.join(lst)\n",
    "        \n",
    "print(s1)\n",
    "print(bars)\n",
    "print(s2)\n"
   ]
  },
  {
   "cell_type": "markdown",
   "metadata": {},
   "source": [
    "\n",
    "### Exercise - sportello\n",
    "\n",
    "✪✪ Given a string `s`, prints the first half of the characters as lowercase and the following half as uppercase.\n",
    "\n",
    "* if the string is of odd length, the first half must have one character _more_ than the second string.\n",
    "\n",
    "Example - given:\n",
    "\n",
    "```python\n",
    "s = 'sportello'\n",
    "```\n",
    "\n",
    "Your code must print:\n",
    "\n",
    "```\n",
    "s\n",
    "p\n",
    "o\n",
    "r\n",
    "t\n",
    "E\n",
    "L\n",
    "L\n",
    "O\n",
    "```\n",
    "\n",
    "(note that 'sportello' has odd length and there are _five_ characters in the first half and _four_ in the second"
   ]
  },
  {
   "cell_type": "code",
   "execution_count": 32,
   "metadata": {},
   "outputs": [
    {
     "name": "stdout",
     "output_type": "stream",
     "text": [
      "s\n",
      "p\n",
      "o\n",
      "r\n",
      "t\n",
      "E\n",
      "L\n",
      "L\n",
      "O\n"
     ]
    }
   ],
   "source": [
    "#jupman-purge-output\n",
    "s =  'sportello'  # sportELLO\n",
    "#s = 'maglia'     # magLIA\n",
    "\n",
    "# write here\n",
    "\n",
    "if len(s) % 2 == 1:\n",
    "    midpoint = (len(s) // 2) + 1\n",
    "else:\n",
    "    midpoint = (len(s) // 2)\n",
    "\n",
    "for i in range(midpoint):\n",
    "    print(s[i])\n",
    "    \n",
    "for i in range(midpoint, len(s)):\n",
    "    print(s[i].upper())"
   ]
  },
  {
   "cell_type": "markdown",
   "metadata": {},
   "source": [
    "### Exercise - farm\n",
    "\n",
    "✪✪ Given a dictionary `sounds`  which associates animal names to the sounds they produce, and a list `rooms` of tuples of 2 elements containing the animal names, write some code that for each room prints the sounds you hear while passing in front of it.\n",
    "\n",
    "- **NOTE**: the rooms to print are numbered **from 1**\n",
    "\n",
    "Example - given:\n",
    "\n",
    "```python\n",
    "sounds = {'dog':'Bark!',\n",
    "          'cat':'Mew!',\n",
    "          'cow':'Moo!',\n",
    "          'sheep':'Bleat!'}\n",
    "\n",
    "rooms = [('dog', 'sheep'), \n",
    "         ('cat','cow'), \n",
    "         ('cow', 'dog')]\n",
    "```\n",
    "\n",
    "Prints:\n",
    "\n",
    "```\n",
    "In the room 1 we hear Bark! and Bleat!\n",
    "In the room 2 we hear Mew! and Moo!\n",
    "In the room 3 we hear Moo! and Bark!\n",
    "```"
   ]
  },
  {
   "cell_type": "code",
   "execution_count": 33,
   "metadata": {},
   "outputs": [
    {
     "name": "stdout",
     "output_type": "stream",
     "text": [
      "In the room 1 we hear Bark! and Bleat!\n",
      "In the room 2 we hear Mew! and Moo!\n",
      "In the room 3 we hear Moo! and Bark!\n"
     ]
    }
   ],
   "source": [
    "#jupman-purge-output\n",
    "sounds = {'dog':'Bark!',\n",
    "          'cat':'Mew!',\n",
    "          'cow':'Moo!',\n",
    "          'sheep':'Bleat!'}\n",
    "\n",
    "rooms = [('dog', 'sheep'), \n",
    "         ('cat','cow'), \n",
    "         ('cow', 'dog')]\n",
    "\n",
    "# write here\n",
    "\n",
    "for i in range(len(rooms)):\n",
    "    room = rooms[i]\n",
    "    print('In the room',i+1,'we hear',sounds[room[0]], 'and', sounds[room[1]])\n",
    "    "
   ]
  },
  {
   "cell_type": "markdown",
   "metadata": {},
   "source": [
    "### Exercise - pokemon\n",
    "\n",
    "✪✪✪ Given a list `pokemon` and a number `g` of groups, write some code which prints `g` rows showing all the group components. Group the pokemons in the order you find them in the list.\n",
    "\n",
    "* **HINT 1**: To obtain the number of group components you should use integer division `//`\n",
    "* **HINT 2**: to print group components use the method `join` of strings\n",
    "\n",
    "Example 1 - given:\n",
    "\n",
    "```python\n",
    "#               0         1          2         3            4         5     \n",
    "pokemon = ['Charizard','Gengar','Arcanine','Bulbasaur','Blaziken','Umbreon', \n",
    "#               6         7          8         9           10          11\n",
    "           'Lucario','Gardevoir','Eevee','Dragonite', 'Volcarona', 'Sylveon' ]\n",
    "g = 3\n",
    "```\n",
    "\n",
    "prints:\n",
    "\n",
    "```\n",
    "group 1 : Charizard and Gengar and Arcanine and Bulbasaur\n",
    "group 2 : Blaziken and Umbreon and Lucario and Gardevoir\n",
    "group 3 : Eevee and Dragonite and Volcarona and Sylveon\n",
    "```\n",
    "\n",
    "Example 2 - given:\n",
    "\n",
    "```python\n",
    "#               0         1          2         3            4         5     \n",
    "pokemon = ['Charizard','Gengar','Arcanine','Bulbasaur','Blaziken','Umbreon', \n",
    "#               6         7          8         9           10          11\n",
    "           'Lucario','Gardevoir','Eevee','Dragonite', 'Volcarona', 'Sylveon' ]\n",
    "\n",
    "g = 4\n",
    "```\n",
    "\n",
    "prints:\n",
    "\n",
    "```\n",
    "group 1 : Charizard and Gengar and Arcanine\n",
    "group 2 : Bulbasaur and Blaziken and Umbreon\n",
    "group 3 : Lucario and Gardevoir and Eevee\n",
    "group 4 : Dragonite and Volcarona and Sylveon\n",
    "```"
   ]
  },
  {
   "cell_type": "code",
   "execution_count": 34,
   "metadata": {},
   "outputs": [
    {
     "name": "stdout",
     "output_type": "stream",
     "text": [
      "group 1 : Charizard and Gengar and Arcanine and Bulbasaur\n",
      "group 2 : Blaziken and Umbreon and Lucario and Gardevoir\n",
      "group 3 : Eevee and Dragonite and Volcarona and Sylveon\n"
     ]
    }
   ],
   "source": [
    "#jupman-purge-output\n",
    "#               0         1          2         3            4         5      \n",
    "pokemon = ['Charizard','Gengar','Arcanine','Bulbasaur','Blaziken','Umbreon',            \n",
    "#               6         7          8         9           10         11\n",
    "           'Lucario','Gardevoir','Eevee', 'Dragonite', 'Volcarona', 'Sylveon' ]\n",
    "g = 3\n",
    "#g = 4\n",
    "\n",
    "# write here\n",
    "k = len(pokemon) // g  # pokemon in a group\n",
    "\n",
    "for i in range(0, g):    \n",
    "    print('group',i+1,':', ' and '.join(pokemon[i*k:(i+1)*k]))"
   ]
  },
  {
   "cell_type": "markdown",
   "metadata": {},
   "source": [
    "\n",
    "## Modifying during iteration\n",
    "\n",
    "Suppose you have a list `la` containing characters, and you are asked to duplicate all the elements, for example if you have\n",
    "\n",
    "```python\n",
    "lst = ['a','b','c'] \n",
    "```\n",
    "\n",
    "after your code it must result\n",
    "\n",
    "```python\n",
    ">>> print(lst)\n",
    "['a','b','c','a','b','c'] \n",
    "```\n",
    "\n",
    "Since you gained such great knowledge about iteration,you might be tempted to write something like this:\n",
    "\n",
    "```python\n",
    "for char in lst:\n",
    "    lst.append(char)    # WARNING !\n",
    "```"
   ]
  },
  {
   "cell_type": "markdown",
   "metadata": {},
   "source": [
    "**QUESTION**: Do you see any problem?"
   ]
  },
  {
   "cell_type": "markdown",
   "metadata": {},
   "source": [
    "**ANSWER**: if we go through the list and in _the meanwhile_ we keep adding pieces, there is a concrete risk we will never terminate examining the list!  Read carefully what follows:"
   ]
  },
  {
   "cell_type": "markdown",
   "metadata": {},
   "source": [
    "<div class=\"alert alert-info\" >\n",
    "\n",
    "[X COMMANDMENT](https://en.softpython.org/commandments.html#X-COMMANDMENT): \n",
    "**You shall never ever add nor remove elements from a sequence you are iterating with a** `for` **!**\n",
    "</div>\n",
    "\n",
    "Falling into such temptations **would produce totally unpredictable behaviours** (do you know the expression _pulling the rug out from under your feet ?_ )"
   ]
  },
  {
   "cell_type": "markdown",
   "metadata": {},
   "source": [
    "**What about removing?** We've seen that adding is dangerous, but so is removing. Suppose you have to eliminate all the elements from a list, you might be tempted to write something like this:"
   ]
  },
  {
   "cell_type": "code",
   "execution_count": 35,
   "metadata": {},
   "outputs": [],
   "source": [
    "my_list = ['a','b','c','d','e']\n",
    "\n",
    "for el in my_list:\n",
    "    my_list.remove(el)   # VERY BAD IDEA"
   ]
  },
  {
   "cell_type": "markdown",
   "metadata": {},
   "source": [
    "Have a close look at the code. Do you think we removed everything, uh?"
   ]
  },
  {
   "cell_type": "code",
   "execution_count": 36,
   "metadata": {},
   "outputs": [
    {
     "data": {
      "text/plain": [
       "['b', 'd']"
      ]
     },
     "execution_count": 36,
     "metadata": {},
     "output_type": "execute_result"
    }
   ],
   "source": [
    "my_list"
   ]
  },
  {
   "cell_type": "markdown",
   "metadata": {},
   "source": [
    "`O_o'` The absurd result is given by the internal implementation of Python, our version of Pyhton gives this result, yours might give a completely different one. **So be careful!**\n",
    "\n",
    "**If you really need to remove elements from a sequence you are iterating**, use a [while cycle](https://en.softpython.org/while/while1-sol.html) or duplicate first a copy of the original sequence."
   ]
  },
  {
   "cell_type": "markdown",
   "metadata": {},
   "source": [
    "### Exercise - duplicate\n",
    "\n",
    "✪ Try writing some code which MODIFIES a list `la` by duplicating the elements\n",
    "\n",
    "- use a `for` cycle\n",
    "- **DO NOT** use list multiplication\n",
    "\n",
    "Example - given:\n",
    "\n",
    "```python\n",
    "la = ['a','b','c'] \n",
    "```\n",
    "\n",
    "after your code, it must result:\n",
    "\n",
    "```python\n",
    ">>> la\n",
    "['a','b','c','a','b','c'] \n",
    "```\n"
   ]
  },
  {
   "cell_type": "code",
   "execution_count": 37,
   "metadata": {},
   "outputs": [
    {
     "name": "stdout",
     "output_type": "stream",
     "text": [
      "['a', 'b', 'c', 'a', 'b', 'c']\n"
     ]
    }
   ],
   "source": [
    "#jupman-purge-output\n",
    "la = ['a','b','c'] \n",
    "\n",
    "# write here\n",
    "for element in list(la):  # with list we create a *copy* of the original list,  which remains stable\n",
    "    la.append(element)\n",
    "print(la)"
   ]
  },
  {
   "cell_type": "markdown",
   "metadata": {},
   "source": [
    "### Exercise - hammers\n",
    "\n",
    "✪ Given a list of characters `la`, MODIFY the list by changing all the characters at even indeces with the character `z`\n",
    "\n",
    "Example - given:\n",
    "\n",
    "```python\n",
    "la = ['h', 'a', 'm', 'm', 'e', 'r', 's']\n",
    "```\n",
    "\n",
    "after your code, it must result:\n",
    "\n",
    "```python\n",
    ">>> print(la)\n",
    "['z', 'a', 'z', 'm', 'z', 'r', 'z']\n",
    "```\n",
    "\n",
    "* **NOTE**: here we _are not_ adding nor removing cells from the list"
   ]
  },
  {
   "cell_type": "code",
   "execution_count": 38,
   "metadata": {},
   "outputs": [
    {
     "name": "stdout",
     "output_type": "stream",
     "text": [
      "['z', 'a', 'z', 'm', 'z', 'r', 'z']\n"
     ]
    }
   ],
   "source": [
    "#jupman-purge-output\n",
    "la = ['h', 'a', 'm', 'm', 'e', 'r', 's']\n",
    "\n",
    "# write here\n",
    "for i in range(len(la)):\n",
    "    if i % 2 == 0:\n",
    "        la[i] = 'z'        \n",
    "print(la)"
   ]
  },
  {
   "cell_type": "markdown",
   "metadata": {},
   "source": [
    "### Exercise - Orangutan\n",
    "\n",
    "✪✪ Given two strings `sa` and `sb`, write some code which places in the string `sc` a string composed by alternating all the characters in `sa` and `sb`.\n",
    "\n",
    "* if a string is shorter than the other one, at the end of `sc` put all the remaining characters from the other string.\n",
    "* **HINT**: even if it is possible to augment a string a character at a time at each iteration, each time you do so a new string is created (because strings are immutable). So it's more efficient to keep augmenting a list, and then convert to string only at the very end.\n",
    "\n",
    "Example - given:\n",
    "\n",
    "```python\n",
    "sa,sb = 'gibbon', 'ORANGUTAN' \n",
    "```\n",
    "\n",
    "after your code it must result:\n",
    "\n",
    "```python\n",
    ">>> print(sc)\n",
    "gOiRbAbNoGnUTAN\n",
    "```\n"
   ]
  },
  {
   "cell_type": "code",
   "execution_count": 39,
   "metadata": {},
   "outputs": [
    {
     "name": "stdout",
     "output_type": "stream",
     "text": [
      "gOiRbAbNoGnUTAN\n"
     ]
    }
   ],
   "source": [
    "#jupman-purge-output\n",
    "sa,sb = 'gibbon', 'ORANGUTAN'   # gOiRbAbNoGnUTAN\n",
    "#sa,sb = 'cruise ship', 'BOAT'  # cBrOuAiTse ship\n",
    "\n",
    "# write here\n",
    "temp = []\n",
    "\n",
    "for i in range(len(sa)):\n",
    "    temp.append(sa[i])\n",
    "    if i < len(sb):\n",
    "        temp.append(sb[i])\n",
    "        \n",
    "if i < len(sb):\n",
    "    temp.extend(sb[i+1:])\n",
    "    \n",
    "sc = ''.join(temp)\n",
    "print(sc)"
   ]
  },
  {
   "cell_type": "markdown",
   "metadata": {},
   "source": [
    "### Exercise - basket\n",
    "\n",
    "✪✪✪ There is a `basket` full of fruits, which we represent as a list of strings. We want to take all the fruits and put them in a plate, in the same order we find them in the basket. We must take only the fruits contained in the set `preferences`.\n",
    "\n",
    "- The `basket` may contain duplicates, if they are in the preferences you must take them all\n",
    "- the fruits are to be taken **in the same order** in which they were found\n",
    "\n",
    "Example - given:\n",
    "\n",
    "```python\n",
    "basket = ['strawberry', 'melon', 'cherry', 'watermelon', 'apple', 'melon','watermelon', 'apple', ]\n",
    "preferences = {'cherry', 'apple', 'strawberry'}\n",
    "plate = []\n",
    "```\n",
    "\n",
    "after your code, it must result:\n",
    "\n",
    "```python\n",
    ">>> print(basket)\n",
    "['melon', 'watermelon', 'melon', 'watermelon']\n",
    ">>> print(plate)\n",
    "['strawberry', 'cherry', 'apple', 'apple']\n",
    "```"
   ]
  },
  {
   "cell_type": "markdown",
   "metadata": {},
   "source": [
    "You can solve the problem in two ways:   \n",
    "\n",
    "- Way 1 (simple and recommended): create a list `new_basket` and finally assign the variable `basket` to it\n",
    "- Way 2 (hard, slow, not recommended but instructive): MODIFY the original `basket` list, using the [pop method](https://en.softpython.org/lists/lists3-sol.html#pop-method) and without ever reassigning `basket`, so no rows beginning with `basket = `"
   ]
  },
  {
   "cell_type": "markdown",
   "metadata": {},
   "source": [
    "Try solving the exercise in both ways.\n",
    "\n",
    "<div class=\"alert alert-warning\">\n",
    "\n",
    "**Either way, always remember the sacred** [X COMMANDMENT](https://en.softpython.org/commandments.html#X-COMMANDMENT)**:**\n",
    "        \n",
    "**You shall never ever add nor remove elements from a sequence you are iterating with a** `for` **!**\n",
    "</div>\n"
   ]
  },
  {
   "cell_type": "code",
   "execution_count": 40,
   "metadata": {},
   "outputs": [
    {
     "name": "stdout",
     "output_type": "stream",
     "text": [
      "basket: ['melon', 'watermelon', 'melon', 'watermelon']\n",
      "plate: ['strawberry', 'cherry', 'apple', 'apple']\n"
     ]
    }
   ],
   "source": [
    "#jupman-purge-output\n",
    "# WAY 1\n",
    "\n",
    "basket = ['strawberry', 'melon', 'cherry', 'watermelon', 'apple', 'melon','watermelon', 'apple', ]\n",
    "preferences = {'cherry', 'apple', 'strawberry'}\n",
    "plate = []\n",
    "\n",
    "\n",
    "# write here\n",
    "new_basket = []\n",
    "for fruit in basket:    \n",
    "    if fruit in preferences:\n",
    "        plate.append(fruit)\n",
    "    else:\n",
    "        new_basket.append(fruit)\n",
    "        \n",
    "    \n",
    "basket = new_basket   # we substitute the original list\n",
    "print('basket:',basket)\n",
    "print('plate:',plate)"
   ]
  },
  {
   "cell_type": "code",
   "execution_count": 41,
   "metadata": {},
   "outputs": [
    {
     "name": "stdout",
     "output_type": "stream",
     "text": [
      "basket: ['melon', 'watermelon', 'melon', 'watermelon']\n",
      "plate: ['strawberry', 'cherry', 'apple', 'apple']\n"
     ]
    }
   ],
   "source": [
    "#jupman-purge-output\n",
    "# WAY 2\n",
    "\n",
    "basket = ['strawberry', 'melon', 'cherry', 'watermelon', 'apple', 'melon','watermelon', 'apple', ]\n",
    "preferences = {'cherry', 'apple', 'strawberry'}\n",
    "plate = []\n",
    "\n",
    "# write here \n",
    "copy = list(basket)\n",
    "j = 0\n",
    "# so we're sure to iterate on a different sequence from the one we're modifying\n",
    "for i in range(len(copy)):  \n",
    "    fruit = copy[i]\n",
    "    if fruit in preferences:\n",
    "        plate.append(fruit)\n",
    "        basket.pop(j)\n",
    "    else:\n",
    "        j += 1\n",
    "        \n",
    "print('basket:',basket)\n",
    "print('plate:',plate)"
   ]
  },
  {
   "cell_type": "markdown",
   "metadata": {},
   "source": [
    "## `break` and `continue` commands\n",
    "\n",
    "We can use the commands `break` and `continue` to have even more control on loop execution.\n",
    "\n",
    "<div class=\"alert alert-info\">\n",
    "\n",
    "**NOTE: Please use sparingly!**\n",
    "\n",
    "When there is a lot of code in the cycle it's easy to 'forget' about their presence and introduce hard-to-discover bugs. On the other hand, in some selected cases these commands _may_ increase code readability, so as everything use your judgement.\n",
    "    \n",
    "</div>\n",
    "\n",
    "### Terminate with `break`\n",
    "\n",
    "To immediately exit a cycle you can use the `break` command:"
   ]
  },
  {
   "cell_type": "code",
   "execution_count": 42,
   "metadata": {},
   "outputs": [
    {
     "name": "stdout",
     "output_type": "stream",
     "text": [
      "P\n",
      "A\n",
      "R\n",
      "A\n",
      "break, exits the loop!\n",
      "Loop is over !\n"
     ]
    }
   ],
   "source": [
    "for x in 'PARADE':\n",
    "            \n",
    "    if x == 'D':\n",
    "        print('break, exits the loop!')\n",
    "        break\n",
    "        print('After the break')\n",
    "        \n",
    "    print(x)\n",
    "    \n",
    "print('Loop is over !')"
   ]
  },
  {
   "cell_type": "markdown",
   "metadata": {},
   "source": [
    "Note how the instruction which prints `'After the break'` was  _not_ executed"
   ]
  },
  {
   "cell_type": "markdown",
   "metadata": {},
   "source": [
    "### Jumping with `continue`\n",
    "\n",
    "By calling `continue` execution is immediately brough to the next iteration , so we jump to the next element in the sequence without executing the instructions after the `continue`."
   ]
  },
  {
   "cell_type": "code",
   "execution_count": 43,
   "metadata": {
    "scrolled": false
   },
   "outputs": [
    {
     "name": "stdout",
     "output_type": "stream",
     "text": [
      "P\n",
      "continue, jumps to next element\n",
      "R\n",
      "continue, jumps to next element\n",
      "D\n",
      "E\n",
      "Loop is over !\n"
     ]
    }
   ],
   "source": [
    "i = 1\n",
    "for x in 'PARADE':        \n",
    "    if x == 'A':\n",
    "        print(\"continue, jumps to next element\")\n",
    "        continue            \n",
    "    print(x)\n",
    "print('Loop is over !')"
   ]
  },
  {
   "cell_type": "markdown",
   "metadata": {},
   "source": [
    "### Combining `break` and `continue`\n",
    "\n",
    "Let's see both in Python Tutor:"
   ]
  },
  {
   "cell_type": "code",
   "execution_count": 44,
   "metadata": {},
   "outputs": [
    {
     "name": "stdout",
     "output_type": "stream",
     "text": [
      "P\n",
      "continue, jumps to next element\n",
      "R\n",
      "continue, jumps to next element\n",
      "break, exits loop!\n",
      "Loop is over !\n"
     ]
    },
    {
     "data": {
      "text/html": [
       "\n",
       "        <script src=\"../_static/js/pytutor-embed.bundle.min.js\" type=\"application/javascript\"></script>\n",
       "     \n",
       "        <script id=\"json-jm3776436b-904c-4b5d-9f28-55f34dc67511\" type=\"application/json\" >\n",
       "            {\"code\": \" \\ni = 1\\nfor x in 'PARADE':    \\n    if x == 'A':\\n        print(\\\"continue, jumps to next element\\\")\\n        continue    \\n    if x == 'D':\\n        print('break, exits loop!')\\n        break\\n    print(x)    \\n    \\nprint('Loop is over !')\", \"trace\": [{\"line\": 2, \"event\": \"step_line\", \"func_name\": \"<module>\", \"globals\": {}, \"ordered_globals\": [], \"stack_to_render\": [], \"heap\": {}, \"stdout\": \"\"}, {\"line\": 3, \"event\": \"step_line\", \"func_name\": \"<module>\", \"globals\": {\"i\": 1}, \"ordered_globals\": [\"i\"], \"stack_to_render\": [], \"heap\": {}, \"stdout\": \"\"}, {\"line\": 4, \"event\": \"step_line\", \"func_name\": \"<module>\", \"globals\": {\"i\": 1, \"x\": \"P\"}, \"ordered_globals\": [\"i\", \"x\"], \"stack_to_render\": [], \"heap\": {}, \"stdout\": \"\"}, {\"line\": 7, \"event\": \"step_line\", \"func_name\": \"<module>\", \"globals\": {\"i\": 1, \"x\": \"P\"}, \"ordered_globals\": [\"i\", \"x\"], \"stack_to_render\": [], \"heap\": {}, \"stdout\": \"\"}, {\"line\": 10, \"event\": \"step_line\", \"func_name\": \"<module>\", \"globals\": {\"i\": 1, \"x\": \"P\"}, \"ordered_globals\": [\"i\", \"x\"], \"stack_to_render\": [], \"heap\": {}, \"stdout\": \"\"}, {\"line\": 3, \"event\": \"step_line\", \"func_name\": \"<module>\", \"globals\": {\"i\": 1, \"x\": \"P\"}, \"ordered_globals\": [\"i\", \"x\"], \"stack_to_render\": [], \"heap\": {}, \"stdout\": \"P\\n\"}, {\"line\": 4, \"event\": \"step_line\", \"func_name\": \"<module>\", \"globals\": {\"i\": 1, \"x\": \"A\"}, \"ordered_globals\": [\"i\", \"x\"], \"stack_to_render\": [], \"heap\": {}, \"stdout\": \"P\\n\"}, {\"line\": 5, \"event\": \"step_line\", \"func_name\": \"<module>\", \"globals\": {\"i\": 1, \"x\": \"A\"}, \"ordered_globals\": [\"i\", \"x\"], \"stack_to_render\": [], \"heap\": {}, \"stdout\": \"P\\n\"}, {\"line\": 6, \"event\": \"step_line\", \"func_name\": \"<module>\", \"globals\": {\"i\": 1, \"x\": \"A\"}, \"ordered_globals\": [\"i\", \"x\"], \"stack_to_render\": [], \"heap\": {}, \"stdout\": \"P\\ncontinue, jumps to next element\\n\"}, {\"line\": 3, \"event\": \"step_line\", \"func_name\": \"<module>\", \"globals\": {\"i\": 1, \"x\": \"A\"}, \"ordered_globals\": [\"i\", \"x\"], \"stack_to_render\": [], \"heap\": {}, \"stdout\": \"P\\ncontinue, jumps to next element\\n\"}, {\"line\": 4, \"event\": \"step_line\", \"func_name\": \"<module>\", \"globals\": {\"i\": 1, \"x\": \"R\"}, \"ordered_globals\": [\"i\", \"x\"], \"stack_to_render\": [], \"heap\": {}, \"stdout\": \"P\\ncontinue, jumps to next element\\n\"}, {\"line\": 7, \"event\": \"step_line\", \"func_name\": \"<module>\", \"globals\": {\"i\": 1, \"x\": \"R\"}, \"ordered_globals\": [\"i\", \"x\"], \"stack_to_render\": [], \"heap\": {}, \"stdout\": \"P\\ncontinue, jumps to next element\\n\"}, {\"line\": 10, \"event\": \"step_line\", \"func_name\": \"<module>\", \"globals\": {\"i\": 1, \"x\": \"R\"}, \"ordered_globals\": [\"i\", \"x\"], \"stack_to_render\": [], \"heap\": {}, \"stdout\": \"P\\ncontinue, jumps to next element\\n\"}, {\"line\": 3, \"event\": \"step_line\", \"func_name\": \"<module>\", \"globals\": {\"i\": 1, \"x\": \"R\"}, \"ordered_globals\": [\"i\", \"x\"], \"stack_to_render\": [], \"heap\": {}, \"stdout\": \"P\\ncontinue, jumps to next element\\nR\\n\"}, {\"line\": 4, \"event\": \"step_line\", \"func_name\": \"<module>\", \"globals\": {\"i\": 1, \"x\": \"A\"}, \"ordered_globals\": [\"i\", \"x\"], \"stack_to_render\": [], \"heap\": {}, \"stdout\": \"P\\ncontinue, jumps to next element\\nR\\n\"}, {\"line\": 5, \"event\": \"step_line\", \"func_name\": \"<module>\", \"globals\": {\"i\": 1, \"x\": \"A\"}, \"ordered_globals\": [\"i\", \"x\"], \"stack_to_render\": [], \"heap\": {}, \"stdout\": \"P\\ncontinue, jumps to next element\\nR\\n\"}, {\"line\": 6, \"event\": \"step_line\", \"func_name\": \"<module>\", \"globals\": {\"i\": 1, \"x\": \"A\"}, \"ordered_globals\": [\"i\", \"x\"], \"stack_to_render\": [], \"heap\": {}, \"stdout\": \"P\\ncontinue, jumps to next element\\nR\\ncontinue, jumps to next element\\n\"}, {\"line\": 3, \"event\": \"step_line\", \"func_name\": \"<module>\", \"globals\": {\"i\": 1, \"x\": \"A\"}, \"ordered_globals\": [\"i\", \"x\"], \"stack_to_render\": [], \"heap\": {}, \"stdout\": \"P\\ncontinue, jumps to next element\\nR\\ncontinue, jumps to next element\\n\"}, {\"line\": 4, \"event\": \"step_line\", \"func_name\": \"<module>\", \"globals\": {\"i\": 1, \"x\": \"D\"}, \"ordered_globals\": [\"i\", \"x\"], \"stack_to_render\": [], \"heap\": {}, \"stdout\": \"P\\ncontinue, jumps to next element\\nR\\ncontinue, jumps to next element\\n\"}, {\"line\": 7, \"event\": \"step_line\", \"func_name\": \"<module>\", \"globals\": {\"i\": 1, \"x\": \"D\"}, \"ordered_globals\": [\"i\", \"x\"], \"stack_to_render\": [], \"heap\": {}, \"stdout\": \"P\\ncontinue, jumps to next element\\nR\\ncontinue, jumps to next element\\n\"}, {\"line\": 8, \"event\": \"step_line\", \"func_name\": \"<module>\", \"globals\": {\"i\": 1, \"x\": \"D\"}, \"ordered_globals\": [\"i\", \"x\"], \"stack_to_render\": [], \"heap\": {}, \"stdout\": \"P\\ncontinue, jumps to next element\\nR\\ncontinue, jumps to next element\\n\"}, {\"line\": 9, \"event\": \"step_line\", \"func_name\": \"<module>\", \"globals\": {\"i\": 1, \"x\": \"D\"}, \"ordered_globals\": [\"i\", \"x\"], \"stack_to_render\": [], \"heap\": {}, \"stdout\": \"P\\ncontinue, jumps to next element\\nR\\ncontinue, jumps to next element\\nbreak, exits loop!\\n\"}, {\"line\": 12, \"event\": \"step_line\", \"func_name\": \"<module>\", \"globals\": {\"i\": 1, \"x\": \"D\"}, \"ordered_globals\": [\"i\", \"x\"], \"stack_to_render\": [], \"heap\": {}, \"stdout\": \"P\\ncontinue, jumps to next element\\nR\\ncontinue, jumps to next element\\nbreak, exits loop!\\n\"}, {\"line\": 12, \"event\": \"return\", \"func_name\": \"<module>\", \"globals\": {\"i\": 1, \"x\": \"D\"}, \"ordered_globals\": [\"i\", \"x\"], \"stack_to_render\": [], \"heap\": {}, \"stdout\": \"P\\ncontinue, jumps to next element\\nR\\ncontinue, jumps to next element\\nbreak, exits loop!\\nLoop is over !\\n\"}]}\n",
       "        </script>\n",
       "        <div id=\"jm3776436b-904c-4b5d-9f28-55f34dc67511\" class=\"pytutorVisualizer\"> </div>\n",
       " \n",
       "        <style>\n",
       "        .vizLayoutTd {\n",
       "            background-color: #fff !important;\n",
       "        }\n",
       "\n",
       "        #pyStdout {            \n",
       "            min-height:25px;\n",
       "        }\n",
       "\n",
       "        /* 'Edit this code' link, hiding because replaces browser tab !!!*/\n",
       "        #editCodeLinkDiv {\n",
       "            display:none;  \n",
       "        }\n",
       "        </style>   \n",
       "                            \n",
       "        <script>\n",
       "        (function(){\n",
       "\n",
       "            var trace = JSON.parse(document.getElementById('json-jm3776436b-904c-4b5d-9f28-55f34dc67511').innerHTML);                                        \n",
       "            // NOTE 1: id without #\n",
       "            // NOTE 2 - maybe there are more predictable ways, but this will work anyway\n",
       "            //        - id should be number\n",
       "            visualizerIdOverride = Math.trunc(Math.random() * 100000000000)\n",
       "            addVisualizerToPage(trace, 'jm3776436b-904c-4b5d-9f28-55f34dc67511',{'embeddedMode' : false,\n",
       "                                             'visualizerIdOverride':visualizerIdOverride})  \n",
       "            \n",
       "            \n",
       "            // set overflow for pytuts - need to do in python as css \n",
       "            // does not allow parent selection\n",
       "            var pytuts = $('.pytutorVisualizer')\n",
       "            pytuts.closest('div.output_html.rendered_html.output_result')\n",
       "                    .css('overflow-x', 'visible')\n",
       "        \n",
       "            //pytuts.closest('div.output_html.rendered_html.output_result')\n",
       "            //      .css('background-color','red')                \n",
       "            \n",
       "        })()\n",
       "        </script>\n",
       "                \n",
       "                "
      ],
      "text/plain": [
       "<IPython.core.display.HTML object>"
      ]
     },
     "execution_count": 44,
     "metadata": {},
     "output_type": "execute_result"
    }
   ],
   "source": [
    "i = 1\n",
    "for x in 'PARADE':    \n",
    "    if x == 'A':\n",
    "        print(\"continue, jumps to next element\")\n",
    "        continue    \n",
    "    if x == 'D':\n",
    "        print('break, exits loop!')\n",
    "        break\n",
    "    print(x)    \n",
    "    \n",
    "print('Loop is over !')\n",
    "\n",
    "jupman.pytut()"
   ]
  },
  {
   "cell_type": "markdown",
   "metadata": {},
   "source": [
    "### Questions - break and continue\n",
    "\n",
    "Look at the following code fragments, and for each try guessing the result it produces (or if it gives an error):\n",
    "\n",
    "\n",
    "1.  ```python\n",
    "    for x in ['a','b','c']:\n",
    "        print(x)\n",
    "        break\n",
    "    ```\n",
    "1.  ```python\n",
    "    for x in ['a','b','c']:\n",
    "        print(x)\n",
    "        break\n",
    "        print('GLAM')\n",
    "    ```    \n",
    "1.  ```python\n",
    "    for x in ['a','b','c']:\n",
    "        print(x)\n",
    "        break\n",
    "        break\n",
    "    ```    \n",
    "1.  ```python\n",
    "    for x in ['a','b','c']:\n",
    "        break\n",
    "        print(x)\n",
    "    ```        \n",
    "1.  ```python\n",
    "    break\n",
    "    for x in ['a','b','c']:      \n",
    "        print(x)\n",
    "    ```            \n",
    "1.  ```python\n",
    "    for x in ['a','b','c']:       \n",
    "        print(x)\n",
    "    break        \n",
    "    ```                \n",
    "1.  ```python\n",
    "    for x in ['a','b','c']:\n",
    "        continue\n",
    "        print(x)            \n",
    "    ```\n",
    "1.  ```python\n",
    "    for x in ['a','b','c']:        \n",
    "        print(x)            \n",
    "        continue\n",
    "    ```\n",
    "1.  ```python\n",
    "    for x in ['a','b','c']:        \n",
    "        print(x)            \n",
    "        continue\n",
    "        print('BAM')\n",
    "    ```    \n",
    "1.  ```python\n",
    "    continue\n",
    "    for x in ['a','b','c']:        \n",
    "        print(x)   \n",
    "    ```\n",
    "1.  ```python    \n",
    "    for x in ['a','b','c']:        \n",
    "        print(x)   \n",
    "    continue\n",
    "    ```   \n",
    "1.  ```python\n",
    "    for x in ['a','b','c']:    \n",
    "        break\n",
    "        1/0\n",
    "    print('BAD KARMA')\n",
    "    ```\n",
    "1.  ```python\n",
    "    for x in ['a','b','c']:    \n",
    "        1/0\n",
    "        break\n",
    "    print('BAD KARMA')\n",
    "    ```\n",
    "1.  ```python\n",
    "    for x in range(8):    \n",
    "        if x < 4:\n",
    "            continue\n",
    "        print('ZAM', x)\n",
    "    ```\n",
    "1.  ```python\n",
    "    for x in range(8):    \n",
    "        if x >= 4:\n",
    "            break\n",
    "        print('ZUM', x)\n",
    "    ```\n",
    "1.  ```python\n",
    "    for x in range(6):\n",
    "        if x % 2 == 0:\n",
    "            continue\n",
    "        print(x)\n",
    "    ```\n",
    "1.  ```python\n",
    "    for x in ['M','C','M']:\n",
    "        print(x)\n",
    "        for y in ['S','P','Q','R']:\n",
    "            print(y)\n",
    "            break        \n",
    "    ```\n",
    "1.  ```python\n",
    "    for x in ['M','C','M']:\n",
    "        print(x)\n",
    "        break\n",
    "        for y in ['S','P','Q','R']:\n",
    "            print(y)\n",
    "    ```\n",
    "1.  ```python\n",
    "    for x in ['M','C','M']:\n",
    "        print(x)\n",
    "        for y in ['S','P','Q','R']:\n",
    "            print(y)\n",
    "            continue\n",
    "    ```\n",
    "1.  ```python\n",
    "    for x in ['M','C','M']:\n",
    "        print(x)\n",
    "        continue\n",
    "        for y in ['S','P','Q','R']:\n",
    "            print(y)\n",
    "    ```"
   ]
  },
  {
   "cell_type": "markdown",
   "metadata": {},
   "source": [
    "### Exercise - autonomous walking\n",
    "\n",
    "✪ Write some code which given a string `phrase`, prints all the characters _except_ the vocals.\n",
    "\n",
    "Example - given:\n",
    "\n",
    "```python\n",
    "phrase = 'autonomous walking'\n",
    "```\n",
    "\n",
    "prints:\n",
    "\n",
    "```\n",
    "t\n",
    "n\n",
    "m\n",
    "s\n",
    " \n",
    "w\n",
    "l\n",
    "k\n",
    "n\n",
    "g\n",
    "```\n"
   ]
  },
  {
   "cell_type": "code",
   "execution_count": 45,
   "metadata": {},
   "outputs": [
    {
     "name": "stdout",
     "output_type": "stream",
     "text": [
      "t\n",
      "n\n",
      "m\n",
      "s\n",
      " \n",
      "w\n",
      "l\n",
      "k\n",
      "n\n",
      "g\n"
     ]
    }
   ],
   "source": [
    "#jupman-purge-output\n",
    "phrase = 'autonomous walking'\n",
    "#phrase='continuous'\n",
    "\n",
    "# write here\n",
    "for x in phrase:\n",
    "    if x in 'aeiou':\n",
    "        continue\n",
    "    else:\n",
    "        print(x)"
   ]
  },
  {
   "cell_type": "markdown",
   "metadata": {},
   "source": [
    "### Exercise - breaking bad\n",
    "\n",
    "✪ Write some code which prints all the charactes from `string` until it finds the string `'bad'`.\n",
    "\n",
    "Example - given:\n",
    "\n",
    "```python\n",
    "string = 'cascapirillabadgnippobadzarpogno'\n",
    "```\n",
    "\n",
    "prints\n",
    "\n",
    "```\n",
    "c\n",
    "a\n",
    "s\n",
    "c\n",
    "a\n",
    "p\n",
    "i\n",
    "r\n",
    "i\n",
    "l\n",
    "l\n",
    "a\n",
    "```"
   ]
  },
  {
   "cell_type": "code",
   "execution_count": 46,
   "metadata": {},
   "outputs": [
    {
     "name": "stdout",
     "output_type": "stream",
     "text": [
      "c\n",
      "a\n",
      "s\n",
      "c\n",
      "a\n",
      "p\n",
      "i\n",
      "r\n",
      "i\n",
      "l\n",
      "l\n",
      "a\n"
     ]
    }
   ],
   "source": [
    "#jupman-purge-output\n",
    "string = 'cascapirillabadgnippobadzarpogno'  # cascapirilla\n",
    "#string = 'sobad'  # 'so'\n",
    "#string = 'bad'  # ''\n",
    "#string = 'badso'  # ''\n",
    "\n",
    "# write here\n",
    "for i in range(len(string)):\n",
    "    if string[i:i+3] == 'bad':\n",
    "        break\n",
    "    else:\n",
    "        print(string[i])"
   ]
  },
  {
   "cell_type": "markdown",
   "metadata": {},
   "source": [
    "### Exercise - breaking point\n",
    "\n",
    "✪✪ Given a phrase, prints all the words one per row _until_ it finds a dot, and in that case it stops.\n",
    "\n",
    "* **DO NOT** use `phrase.split('.')`. Splits on other characters are allowed.\n",
    "\n",
    "Example - given:\n",
    "\n",
    "```python\n",
    "phrase = 'At some point you must stop. Never go beyond the limit.\n",
    "```\n",
    "\n",
    "prints:\n",
    "\n",
    "```\n",
    "At\n",
    "some\n",
    "point\n",
    "you\n",
    "must\n",
    "stop\n",
    "```"
   ]
  },
  {
   "cell_type": "code",
   "execution_count": 47,
   "metadata": {},
   "outputs": [
    {
     "name": "stdout",
     "output_type": "stream",
     "text": [
      "At\n",
      "some\n",
      "point\n",
      "you\n",
      "must\n",
      "stop\n"
     ]
    }
   ],
   "source": [
    "#jupman-purge-output\n",
    "phrase = 'At some point you must stop. Never go beyond the limit.'\n",
    "#phrase = \"Respect the halt. Do you want to have us arrested?\"\n",
    "#phrase = 'Stop.'\n",
    "#phrase = 'No stop'\n",
    "\n",
    "# write here\n",
    "\n",
    "for word in phrase.split():\n",
    "    if '.' in word:\n",
    "        print(word[:-1])\n",
    "        break\n",
    "    else:\n",
    "        print(word)"
   ]
  },
  {
   "cell_type": "markdown",
   "metadata": {},
   "source": [
    "### Exercise - breakdance\n",
    "        \n",
    "✪✪ As a skilled breakdancer, you're given `music` as a list of sounds. You will have to perform a couple of dances:\n",
    "\n",
    "- during the first one, you will have to repeat the music sounds until you find exactly `3` sounds `'pa'`, then you will shout `BREAKDANCE!`.\n",
    "- during the second one, you will have to repeat the music sounds _in reverse_ until you find exactly `3` sounds `'pa'`, then you will shout `BREAKDANCE!`\n",
    "\n",
    "\n",
    "- **DO NOT** modify `music`, so no `music.reverse()`\n",
    "\n",
    "Example - given:\n",
    "\n",
    "```python\n",
    "music = ['unz','pa','pa','tud','unz','pa','pa','tud','unz','boom','boom','tud']\n",
    "```"
   ]
  },
  {
   "cell_type": "markdown",
   "metadata": {},
   "source": [
    "Prints:\n",
    "\n",
    "```\n",
    "unz\n",
    "pa\n",
    "pa\n",
    "tud\n",
    "unz\n",
    "pa\n",
    "BREAKDANCE!\n",
    "\n",
    "tud\n",
    "boom\n",
    "boom\n",
    "unz\n",
    "tud\n",
    "pa\n",
    "pa\n",
    "unz\n",
    "tud\n",
    "pa\n",
    "BREAKDANCE!\n",
    "```"
   ]
  },
  {
   "cell_type": "code",
   "execution_count": 48,
   "metadata": {
    "scrolled": true
   },
   "outputs": [
    {
     "name": "stdout",
     "output_type": "stream",
     "text": [
      "unz\n",
      "pa\n",
      "pa\n",
      "tud\n",
      "unz\n",
      "pa\n",
      "BREAKDANCE!\n",
      "\n",
      "tud\n",
      "boom\n",
      "boom\n",
      "unz\n",
      "tud\n",
      "pa\n",
      "pa\n",
      "unz\n",
      "tud\n",
      "pa\n",
      "BREAKDANCE!\n"
     ]
    }
   ],
   "source": [
    "music = ['unz','pa','pa','tud','unz','pa','pa','tud','unz','boom','boom','tud']\n",
    "\n",
    "# write here\n",
    "\n",
    "k = 0\n",
    "for x in music:\n",
    "    print(x)\n",
    "    if x == 'pa':\n",
    "        k += 1\n",
    "    if k == 3:\n",
    "        print('BREAKDANCE!')\n",
    "        print()\n",
    "        break\n",
    "\n",
    "k = 0\n",
    "for i in range(len(music)-1, -1, -1): \n",
    "    print(music[i])\n",
    "    if music[i] == 'pa':\n",
    "        k += 1\n",
    "    if k == 3:\n",
    "        print('BREAKDANCE!')\n",
    "        break\n",
    "        "
   ]
  },
  {
   "cell_type": "markdown",
   "metadata": {},
   "source": [
    "## Continue\n",
    "\n",
    "Go on with exercises on [iterating strings](https://en.softpython.org/for/for2-strings-sol.html)"
   ]
  }
 ],
 "metadata": {
  "kernelspec": {
   "display_name": "Python 3 (ipykernel)",
   "language": "python",
   "name": "python3"
  },
  "language_info": {
   "codemirror_mode": {
    "name": "ipython",
    "version": 3
   },
   "file_extension": ".py",
   "mimetype": "text/x-python",
   "name": "python",
   "nbconvert_exporter": "python",
   "pygments_lexer": "ipython3",
   "version": "3.7.10"
  },
  "toc": {
   "base_numbering": 1,
   "nav_menu": {},
   "number_sections": false,
   "sideBar": true,
   "skip_h1_title": false,
   "title_cell": "Table of Contents",
   "title_sidebar": "Contents",
   "toc_cell": false,
   "toc_position": {},
   "toc_section_display": true,
   "toc_window_display": false
  }
 },
 "nbformat": 4,
 "nbformat_minor": 2
}
