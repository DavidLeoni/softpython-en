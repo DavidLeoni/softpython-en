{
 "cells": [
  {
   "cell_type": "code",
   "execution_count": 1,
   "id": "04591724",
   "metadata": {
    "nbsphinx": "hidden"
   },
   "outputs": [],
   "source": [
    "# Remember to execute this cell with Shift+Enter\n",
    "\n",
    "import sys\n",
    "sys.path.append('../')\n",
    "import jupman"
   ]
  },
  {
   "cell_type": "markdown",
   "id": "8f254851",
   "metadata": {},
   "source": [
    "# For loops 5 - set iteration\n",
    "\n",
    "## [Download exercises zip](../_static/generated/for.zip) \n",
    "\n",
    "[Browse file online](https://github.com/DavidLeoni/softpython-en/tree/master/for)"
   ]
  },
  {
   "cell_type": "markdown",
   "id": "ca45aa01",
   "metadata": {},
   "source": [
    "Given a set, we can examinate the element sequence with a `for` cycle.\n",
    "\n",
    "<div class=\"alert alert-warning\">\n",
    "\n",
    "**WARNING**: sets iteration order is **not** predictable !\n",
    "   \n",
    "To better understand why, you can see again [the tutorial on sets](https://en.softpython.org/sets/sets-sol.html#Creating-a-set)\n",
    "</div>"
   ]
  },
  {
   "cell_type": "code",
   "execution_count": 2,
   "id": "c201493d",
   "metadata": {
    "scrolled": true
   },
   "outputs": [
    {
     "name": "stdout",
     "output_type": "stream",
     "text": [
      "set\n",
      "a\n",
      "this\n",
      "is\n"
     ]
    }
   ],
   "source": [
    "for word in {'this', 'is', 'a', 'set'}:\n",
    "    print(word)"
   ]
  },
  {
   "cell_type": "code",
   "execution_count": 3,
   "id": "df44d157",
   "metadata": {},
   "outputs": [
    {
     "name": "stdout",
     "output_type": "stream",
     "text": [
      "{'nium', 'de', 'pan', 'mo'}\n"
     ]
    }
   ],
   "source": [
    "s = set()\n",
    "s.add('pan')\n",
    "s.add('de')\n",
    "s.add('mo')\n",
    "s.add('nium')\n",
    "print(s)"
   ]
  },
  {
   "cell_type": "markdown",
   "id": "6a5b6a19",
   "metadata": {},
   "source": [
    "### Questions - sets\n",
    "\n",
    "Look at the following code fragments, and for each try guessing the result it produces (or if it gives an error):\n",
    "\n",
    "\n",
    "1.  ```python\n",
    "    s = set()\n",
    "    s.add('pan')\n",
    "    s.add('de')\n",
    "    s.add('mo')\n",
    "    s.add('nium')\n",
    "    print(s)\n",
    "    ```\n",
    "1.  ```python\n",
    "    for x in {'a',12,'34',56,34}[2:4]:\n",
    "        print(x)\n",
    "    ```\n",
    "1.  ```python\n",
    "    for x in set(['a']) | set(['b']):\n",
    "        print(x)\n",
    "    ```\n",
    "1.  ```python\n",
    "    for x in set(['a']) & set(['b']):\n",
    "        print(x)\n",
    "    ```\n"
   ]
  },
  {
   "cell_type": "markdown",
   "id": "54a2f9ad",
   "metadata": {},
   "source": [
    "## Exercise - Screwed\n",
    "\n",
    "The multinational ToxiCorp produces electrical appliances which are designed on purpose to break after a couple of years usage.  When that happens, their components require very special tools only the corporation possess.  Customers are then forced to go to repair workshops affiliated with ToxiCorp, and pay extra money. Over time the corporation has developed so many special shapes for screws that now its workshops have trouble managing all needed screwdrivers, so they ask you to devise a software to tell workshops which screwdrivers they are missing. You find it questionable, but they pay well, so you accept."
   ]
  },
  {
   "cell_type": "markdown",
   "id": "91e585f2",
   "metadata": {},
   "source": [
    "Each screw is star shaped, and is defined by a radius and a certain number of tips. We can represent it as a two \n",
    "elements list like `[3,7]` where `3` is the radius and `7` the number of tips. Each screwdrivers is also defined as a two elements list with the values of the radius and tips it can screw.\n",
    "\n",
    "A workshop has in store a list of screws and a list of screwdrivers: write some code that prints a sorted list of \n",
    "the screwdrivers which are missing in order to be able to handle all the screw types."
   ]
  },
  {
   "cell_type": "markdown",
   "id": "27ef2487",
   "metadata": {},
   "source": [
    "Example - given:\n",
    "\n",
    "```python\n",
    "screws = [[5,8], [7,4], [2,9], [8,2], [7,4],[2,6], [8,3], [2,6], [8,3], [8,3], [5,8]]\n",
    "screwdrivers = [[8,2], [1,3], [5,8], [2,5], [1,3]]\n",
    "```\n",
    "\n",
    "Your code must print:\n",
    "\n",
    "```\n",
    "Required screwdrivers: [(2, 6), (2, 9), (7, 4), (8, 3)]\n",
    "```\n",
    "\n",
    "- Notice input lists may have duplicates\n",
    "- **DO NOT** use list methods or operators which search stuff\n",
    "  - so no `.index`, `.find`, `in` ... they're slow!\n",
    "- **DO NOT** use nested loops... they would probably be slow !"
   ]
  },
  {
   "cell_type": "code",
   "execution_count": 4,
   "id": "325eef22",
   "metadata": {},
   "outputs": [
    {
     "name": "stdout",
     "output_type": "stream",
     "text": [
      "Required screwdrivers: [[2, 6], [2, 9], [7, 4], [8, 3]]\n"
     ]
    }
   ],
   "source": [
    "#jupman-purge-output\n",
    "screws = [[5,8], [7,4], [2,9],[8,2], [7,4],[2,6], [8,3],\n",
    "          [2,6], [8,3], [8,3], [5,8]]\n",
    "          \n",
    "screwdrivers = [[8,2], [1,3], [5,8], [2,5], [1,3]]\n",
    "\n",
    "# write here\n",
    "\n",
    "screws_set = set()\n",
    "screwdrivers_set = set()\n",
    "\n",
    "for x,y in screws:\n",
    "    screws_set.add( (x,y) )\n",
    "\n",
    "for x,y in screwdrivers:    \n",
    "    screwdrivers_set.add( (x,y) )\n",
    "\n",
    "temp = list(screws_set - screwdrivers_set)\n",
    "temp.sort()\n",
    "required = []\n",
    "for x,y in temp:\n",
    "    required.append([x,y])\n",
    "    \n",
    "print(\"Required screwdrivers:\", required)"
   ]
  },
  {
   "cell_type": "markdown",
   "id": "e3deac8e",
   "metadata": {},
   "source": [
    "## Continue\n",
    "\n",
    "Go on with [for and dictionaries](https://en.softpython.org/for/for6-dictionaries-sol.html)"
   ]
  },
  {
   "cell_type": "code",
   "execution_count": null,
   "id": "4e12ebad",
   "metadata": {},
   "outputs": [],
   "source": []
  }
 ],
 "metadata": {
  "kernelspec": {
   "display_name": "Python 3 (ipykernel)",
   "language": "python",
   "name": "python3"
  },
  "language_info": {
   "codemirror_mode": {
    "name": "ipython",
    "version": 3
   },
   "file_extension": ".py",
   "mimetype": "text/x-python",
   "name": "python",
   "nbconvert_exporter": "python",
   "pygments_lexer": "ipython3",
   "version": "3.7.10"
  },
  "toc": {
   "base_numbering": 1,
   "nav_menu": {},
   "number_sections": false,
   "sideBar": true,
   "skip_h1_title": false,
   "title_cell": "Table of Contents",
   "title_sidebar": "Contents",
   "toc_cell": false,
   "toc_position": {},
   "toc_section_display": true,
   "toc_window_display": true
  }
 },
 "nbformat": 4,
 "nbformat_minor": 5
}
