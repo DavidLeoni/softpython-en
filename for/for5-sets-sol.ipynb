{
 "cells": [
  {
   "cell_type": "code",
   "execution_count": 1,
   "id": "04591724",
   "metadata": {
    "nbsphinx": "hidden"
   },
   "outputs": [],
   "source": [
    "# Remember to execute this cell with Shift+Enter\n",
    "\n",
    "import sys\n",
    "sys.path.append('../')\n",
    "import jupman"
   ]
  },
  {
   "cell_type": "markdown",
   "id": "8f254851",
   "metadata": {},
   "source": [
    "# For loops 5 - iterating sets\n",
    "\n",
    "## [Download exercises zip](../_static/generated/for.zip) \n",
    "\n",
    "[Browse file online](https://github.com/DavidLeoni/softpython-en/tree/master/for)"
   ]
  },
  {
   "cell_type": "markdown",
   "id": "ca45aa01",
   "metadata": {},
   "source": [
    "Given a set, we can examinate the element sequence with a `for` cycle.\n",
    "\n",
    "<div class=\"alert alert-warning\">\n",
    "\n",
    "**WARNING**: sets iteration order is **not** predictable !\n",
    "   \n",
    "To better understand why, you can see again [the tutorial on sets](https://en.softpython.org/sets/sets-sol.html#Creating-a-set)\n",
    "</div>"
   ]
  },
  {
   "cell_type": "code",
   "execution_count": 2,
   "id": "c201493d",
   "metadata": {
    "scrolled": true
   },
   "outputs": [
    {
     "name": "stdout",
     "output_type": "stream",
     "text": [
      "this\n",
      "a\n",
      "is\n",
      "set\n"
     ]
    }
   ],
   "source": [
    "for word in {'this', 'is', 'a', 'set'}:\n",
    "    print(word)"
   ]
  },
  {
   "cell_type": "code",
   "execution_count": 3,
   "id": "df44d157",
   "metadata": {},
   "outputs": [
    {
     "name": "stdout",
     "output_type": "stream",
     "text": [
      "{'de', 'mo', 'nium', 'pan'}\n"
     ]
    }
   ],
   "source": [
    "s = set()\n",
    "s.add('pan')\n",
    "s.add('de')\n",
    "s.add('mo')\n",
    "s.add('nium')\n",
    "print(s)"
   ]
  },
  {
   "cell_type": "markdown",
   "id": "6a5b6a19",
   "metadata": {},
   "source": [
    "### Questions - sets\n",
    "\n",
    "Look at the following code fragments, and for each try guessing the result it produces (or if it gives an error):\n",
    "\n",
    "\n",
    "1.  ```python\n",
    "    s = set()\n",
    "    s.add('pan')\n",
    "    s.add('de')\n",
    "    s.add('mo')\n",
    "    s.add('nium')\n",
    "    print(s)\n",
    "    ```\n",
    "1.  ```python\n",
    "    for x in {'a',12,'34',56,34}[2:4]:\n",
    "        print(x)\n",
    "    ```\n",
    "1.  ```python\n",
    "    for x in set(['a']) | set(['b']):\n",
    "        print(x)\n",
    "    ```\n",
    "1.  ```python\n",
    "    for x in set(['a']) & set(['b']):\n",
    "        print(x)\n",
    "    ```\n"
   ]
  },
  {
   "cell_type": "markdown",
   "id": "a2fddd89",
   "metadata": {},
   "source": [
    "## TODO"
   ]
  },
  {
   "cell_type": "code",
   "execution_count": 6,
   "id": "922c5e63",
   "metadata": {},
   "outputs": [],
   "source": [
    "# TODO\n",
    "\n",
    "# write here\n"
   ]
  },
  {
   "cell_type": "markdown",
   "id": "e3deac8e",
   "metadata": {},
   "source": [
    "## Continue\n",
    "\n",
    "Go on with [for and dictionaries](https://en.softpython.org/for/for6-dictionaries-sol.html)"
   ]
  },
  {
   "cell_type": "code",
   "execution_count": null,
   "id": "4e12ebad",
   "metadata": {},
   "outputs": [],
   "source": []
  }
 ],
 "metadata": {
  "kernelspec": {
   "display_name": "Python 3 (ipykernel)",
   "language": "python",
   "name": "python3"
  },
  "language_info": {
   "codemirror_mode": {
    "name": "ipython",
    "version": 3
   },
   "file_extension": ".py",
   "mimetype": "text/x-python",
   "name": "python",
   "nbconvert_exporter": "python",
   "pygments_lexer": "ipython3",
   "version": "3.7.10"
  },
  "toc": {
   "base_numbering": 1,
   "nav_menu": {},
   "number_sections": false,
   "sideBar": true,
   "skip_h1_title": false,
   "title_cell": "Table of Contents",
   "title_sidebar": "Contents",
   "toc_cell": false,
   "toc_position": {},
   "toc_section_display": true,
   "toc_window_display": true
  }
 },
 "nbformat": 4,
 "nbformat_minor": 5
}
