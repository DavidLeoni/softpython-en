{
 "cells": [
  {
   "cell_type": "code",
   "execution_count": 1,
   "id": "6dc9efa1",
   "metadata": {
    "nbsphinx": "hidden"
   },
   "outputs": [],
   "source": [
    "# Remember to execute this cell with Shift+Enter\n",
    "\n",
    "import jupman"
   ]
  },
  {
   "cell_type": "markdown",
   "id": "4ee4d46f",
   "metadata": {},
   "source": [
    "# For loops 2 - iterating dictionaries\n",
    "\n",
    "## [Download exercises zip](../_static/generated/for.zip) \n",
    "\n",
    "[Browse file online](https://github.com/DavidLeoni/softpython-en/tree/master/for)\n",
    "\n",
    "Given a dictionary, we can examinate the sequence of its keys, values or both with a `for` cycle.\n"
   ]
  },
  {
   "cell_type": "markdown",
   "id": "b955e945",
   "metadata": {},
   "source": [
    "\n",
    "## Iterating keys\n",
    "\n",
    "\n",
    "To iterate **only the keys** it is sufficient to use the `in` operator:\n",
    "\n",
    "<div class=\"alert alert-warning\">\n",
    "\n",
    "**WARNING**: keys iteration order is **not** predictable !\n",
    "\n",
    "</div>"
   ]
  },
  {
   "cell_type": "code",
   "execution_count": 2,
   "id": "61384130",
   "metadata": {},
   "outputs": [],
   "source": [
    "pastries = {\n",
    "    'cream puff':5,\n",
    "    'brioche':8,\n",
    "    'donut':2\n",
    "}"
   ]
  },
  {
   "cell_type": "code",
   "execution_count": 3,
   "id": "ce74c3cd",
   "metadata": {},
   "outputs": [
    {
     "name": "stdout",
     "output_type": "stream",
     "text": [
      "Found key   : cream puff\n",
      "  with value: 5\n",
      "Found key   : brioche\n",
      "  with value: 8\n",
      "Found key   : donut\n",
      "  with value: 2\n"
     ]
    }
   ],
   "source": [
    "for key in pastries:\n",
    "    print('Found key   :', key)\n",
    "    print('  with value:', pastries[key])"
   ]
  },
  {
   "cell_type": "markdown",
   "id": "f33aacb7",
   "metadata": {},
   "source": [
    "At each iteration, the declared variable `key` is assigned to a key taken from the dictionary, in an order we cannot predict."
   ]
  },
  {
   "cell_type": "markdown",
   "id": "c9896752",
   "metadata": {},
   "source": [
    "## Iterating key-value pairs\n",
    "\n",
    "We can also directly obtain both the key and the associated value with this notation:"
   ]
  },
  {
   "cell_type": "code",
   "execution_count": 4,
   "id": "74eef2cf",
   "metadata": {},
   "outputs": [
    {
     "name": "stdout",
     "output_type": "stream",
     "text": [
      "Found key  : cream puff\n",
      " with value: 5\n",
      "Found key  : brioche\n",
      " with value: 8\n",
      "Found key  : donut\n",
      " with value: 2\n"
     ]
    }
   ],
   "source": [
    "for key, value in pastries.items():\n",
    "    print('Found key  :', key)\n",
    "    print(' with value:', pastries[key])"
   ]
  },
  {
   "cell_type": "markdown",
   "id": "101798de",
   "metadata": {},
   "source": [
    "`.items()` return a list of key/value couples, and during each iteration a couple is assigned to the variable `key` and `value`."
   ]
  },
  {
   "cell_type": "markdown",
   "id": "5b0169dc",
   "metadata": {},
   "source": [
    "## Iterating values\n",
    "\n",
    "We can iterate the values calling the method `values()`\n",
    "\n",
    "<div class=\"alert alert-warning\">\n",
    "\n",
    "**WARNING**: values iteration order is also **not** predictable !\n",
    "\n",
    "</div>"
   ]
  },
  {
   "cell_type": "code",
   "execution_count": 5,
   "id": "0438fd94",
   "metadata": {},
   "outputs": [
    {
     "name": "stdout",
     "output_type": "stream",
     "text": [
      "Found value 5\n",
      "Found value 8\n",
      "Found value 2\n"
     ]
    }
   ],
   "source": [
    "for value in pastries.values():\n",
    "    print('Found value', value)"
   ]
  },
  {
   "cell_type": "markdown",
   "id": "69343cc3",
   "metadata": {},
   "source": [
    "## Questions - iteration\n",
    "\n",
    "Look at the following code fragments , and for each try guessing the result it produces (or if it gives an error):\n",
    "\n",
    "<div class=\"alert alert-warning\">\n",
    "\n",
    "**WARNING**: Remember the order is IMPOSSIBLE to foresee, so the important bit is to guess all the printed stuff\n",
    "\n",
    "</div>"
   ]
  },
  {
   "cell_type": "markdown",
   "id": "3ac11e5a",
   "metadata": {},
   "source": [
    "1.  ```python\n",
    "    for x in {'a':1,'b':2,'c':3}:   \n",
    "        print(x)\n",
    "    ```\n",
    "1.  ```python\n",
    "    for x in {1:'a',2:'b',3:'c'}:\n",
    "        print(x)\n",
    "    ```\n",
    "1.  ```python\n",
    "    diz = {'a':1,'b':2,'c':3}\n",
    "    for x in diz:   \n",
    "        print(x[diz])\n",
    "    ```    \n",
    "1.  ```python\n",
    "    diz = {'a':1,'b':2,'c':3}\n",
    "    for x in diz:   \n",
    "        print(diz[x])\n",
    "    ```\n",
    "1.  ```python\n",
    "    diz = {'a':1,'b':2,'c':3}\n",
    "    for x in diz:   \n",
    "        if x == 'b':\n",
    "            print(diz[x])\n",
    "    ```\n",
    "1.  ```python\n",
    "    for k,v in {1:'a',2:'b',3:'c'}:\n",
    "        print(k,v)\n",
    "    ```    \n",
    "1.  ```python\n",
    "    for x in {1:'a',2:'b',3:'c'}.values():\n",
    "        print(x)\n",
    "    ```\n",
    "1.  ```python\n",
    "    for x in {1:'a',2:'b',3:'c'}.keys():\n",
    "        print(x)\n",
    "    ```\n",
    "1.  ```python\n",
    "    for x in {1:'a',2:'b',3:'c'}.items():\n",
    "        print(x)\n",
    "    ```\n",
    "1.  ```python\n",
    "    for x,y in {1:'a',2:'b',3:'c'}.items():\n",
    "        print(x,y)\n",
    "    ```    "
   ]
  },
  {
   "cell_type": "markdown",
   "id": "c16be529",
   "metadata": {},
   "source": [
    "## Questions - Are they equivalent? \n",
    "\n",
    "\n",
    "Look at the following code fragments: each contains two parts, A and B. For each fragment, try guessing whether part A will print exactly the same result printed by code in part B\n",
    "\n",
    "* **FIRST** think about the answer\n",
    "* **THEN** try executing "
   ]
  },
  {
   "cell_type": "markdown",
   "id": "c15c3d26",
   "metadata": {},
   "source": [
    "### Are they equivalent ? postin\n",
    "\n",
    "```python\n",
    "\n",
    "diz = {\n",
    "    'p':'t',\n",
    "    'o':'i',\n",
    "    's':'n',  \n",
    "}\n",
    "\n",
    "print('A:')\n",
    "for x in diz.keys():    \n",
    "    print(x)        \n",
    "        \n",
    "print('\\nB:')\n",
    "for y in diz:\n",
    "    print(y)\n",
    "```"
   ]
  },
  {
   "cell_type": "markdown",
   "id": "8a6a42a6",
   "metadata": {},
   "source": [
    "### Are they equivalent ? cortel\n",
    "\n",
    "```python\n",
    "\n",
    "diz = {\n",
    "    'c':'t',\n",
    "    'o':'e',\n",
    "    'r':'l',    \n",
    "}\n",
    "\n",
    "print('A:')\n",
    "for p,q in diz.items():\n",
    "    print(q)\n",
    "        \n",
    "print('\\nB:')\n",
    "for x in diz.values():\n",
    "    print(x)\n",
    "```"
   ]
  },
  {
   "cell_type": "markdown",
   "id": "9a1f56b1",
   "metadata": {},
   "source": [
    "### Are they equivalent ? - gel\n",
    "\n",
    "```python\n",
    "diz = {\n",
    "    'g':'l',\n",
    "    'e':'e',\n",
    "    'l':'g',    \n",
    "}\n",
    "\n",
    "print('A:')\n",
    "for x in diz.values():\n",
    "    print(x)\n",
    "    \n",
    "print('\\nB:')\n",
    "for z in diz.items():\n",
    "    print(z[0])\n",
    "```"
   ]
  },
  {
   "cell_type": "markdown",
   "id": "1cff1017",
   "metadata": {},
   "source": [
    "### Are they equivalent  ? - giri\n",
    "\n",
    "```python\n",
    "\n",
    "diz = {\n",
    "    'p':'g',\n",
    "    'e':'i',\n",
    "    'r':'r',    \n",
    "    'i':'i',    \n",
    "}\n",
    "\n",
    "print('A:')\n",
    "for p,q in diz.items():\n",
    "    if p == q:\n",
    "        print(p)           \n",
    "        \n",
    "print('\\nB:')\n",
    "for x in diz:\n",
    "    if x == diz[x]:\n",
    "        print(x)\n",
    "```"
   ]
  },
  {
   "cell_type": "markdown",
   "id": "b4d02c47",
   "metadata": {},
   "source": [
    "### Are they equivalent?  - Found\n",
    "\n",
    "First think if they are equivalent, then check with all the proposed values of `k`.\n",
    "\n",
    "<div class=\"alert alert-warning\">\n",
    "\n",
    "**Be very careful about this exercise !**\n",
    "    \n",
    "Getting this means having _really_  understood dictionaries ;-)\n",
    "\n",
    "</div>\n",
    "\n",
    "```python\n",
    "k = 'w'\n",
    "#k = 'h'\n",
    "#k = 'y'\n",
    "#k = 'z'\n",
    "\n",
    "dct = {\n",
    "    'w':'s',\n",
    "    'h':'o',\n",
    "    'y':'?',    \n",
    "}\n",
    "\n",
    "print('A:')\n",
    "for x in dct:\n",
    "    if x == k:        \n",
    "        print('Found', dct[x])\n",
    "        \n",
    "print('\\nB:')\n",
    "if k in dct:\n",
    "    print('Found', dct[k])\n",
    "```"
   ]
  },
  {
   "cell_type": "raw",
   "id": "53e4f37f",
   "metadata": {
    "format": "text/html"
   },
   "source": [
    "<a  class=\"jupman-sol jupman-sol-toggler\" \n",
    " onclick=\"jupman.toggleSolution(this);\" \n",
    " data-jupman-show=\"Show answer\" data-jupman-hide=\"Hide\">Show answer</a><div class=\"jupman-sol jupman-sol-question\" style=\"display:none\">  "
   ]
  },
  {
   "cell_type": "markdown",
   "id": "0d6d9e54",
   "metadata": {},
   "source": [
    "**ANSWER**: The two codes reported above are equivalent, with an important difference: code A will be executed in a time proportional to the dimension of `dct` (because it needs to go through all the dictionary), code B instead will be always executed in a short constant time which does _not_ depend on the dimension of `dct`. Both the command `if k in dct`, and the expression `dct[k]` (which retrieves the value associated to key `k`) are extremely fast.\n",
    "\n",
    "<div class=\"alert alert-warning\">\n",
    "\n",
    "**WARNING: be sure to fully understand this point!**\n",
    "    \n",
    "So many people write code as in part A, losing the main feature of dictionaries which is fast access. As long as data is small you may not notice, but when we have several megabytes of key/value couples you start feeling the time lost in pointless loops! For more you can read (or review) the [section Fast disorder](https://en.softpython.org/dictionaries/dictionaries2-sol.html#Fast-disorder)  in the dictionaries tutorial.\n",
    "\n",
    "</div>"
   ]
  },
  {
   "cell_type": "raw",
   "id": "178355bc",
   "metadata": {
    "format": "text/html"
   },
   "source": [
    "</div>"
   ]
  },
  {
   "cell_type": "markdown",
   "id": "a41ed88e",
   "metadata": {},
   "source": [
    "## Iteration exercises"
   ]
  },
  {
   "cell_type": "markdown",
   "id": "ba763df0",
   "metadata": {},
   "source": [
    "### Exercise - color of hearts\n",
    "\n",
    "✪ Write some code which given a dictionary `suits`, for each suits prints its color.\n",
    "\n",
    "\n",
    "Example - given:\n",
    "\n",
    "```python\n",
    "suits = {\n",
    "    'hearts':'red',\n",
    "    'spades':'black',\n",
    "    'diamonds':'red',\n",
    "    'clubs':'black'\n",
    "}\n",
    "```\n",
    "\n",
    "Prints:\n",
    "\n",
    "<div class=\"alert alert-warning\">\n",
    "\n",
    "**WARNING**: do not care about the order in which values are printed!\n",
    "    \n",
    "On your computer you might see different results, the important bit is that all rows get printed.\n",
    "</div>\n",
    "\n",
    "```\n",
    "The color of spades is black\n",
    "The color of diamonds is red\n",
    "The color of hearts is red\n",
    "The color of clubs is black\n",
    "\n",
    "```\n",
    "\n"
   ]
  },
  {
   "cell_type": "raw",
   "id": "13182a57",
   "metadata": {
    "format": "text/html"
   },
   "source": [
    "<a  class=\"jupman-sol jupman-sol-toggler\" \n",
    " onclick=\"jupman.toggleSolution(this);\" \n",
    " data-jupman-show=\"Show solution\" data-jupman-hide=\"Hide\">Show solution</a><div class=\"jupman-sol jupman-sol-code\" style=\"display:none\">  "
   ]
  },
  {
   "cell_type": "code",
   "execution_count": 6,
   "id": "fd1f396d",
   "metadata": {},
   "outputs": [
    {
     "name": "stdout",
     "output_type": "stream",
     "text": [
      "The color of hearts is red\n",
      "The color of spades is black\n",
      "The color of diamonds is red\n",
      "The color of clubs is black\n"
     ]
    }
   ],
   "source": [
    "\n",
    "suits = {\n",
    "    'hearts':'red',\n",
    "    'spades':'black',\n",
    "    'diamonds':'red',\n",
    "    'clubs':'black'\n",
    "}\n",
    "\n",
    "# write here\n",
    "\n",
    "for k in suits.keys():\n",
    "    print('The color of', k, 'is', suits[k])"
   ]
  },
  {
   "cell_type": "raw",
   "id": "7810eb79",
   "metadata": {
    "format": "text/html"
   },
   "source": [
    "</div>"
   ]
  },
  {
   "cell_type": "code",
   "execution_count": 6,
   "id": "fd1f396d-stripped",
   "metadata": {},
   "outputs": [],
   "source": [
    "\n",
    "suits = {\n",
    "    'hearts':'red',\n",
    "    'spades':'black',\n",
    "    'diamonds':'red',\n",
    "    'clubs':'black'\n",
    "}\n",
    "\n",
    "# write here\n",
    "\n"
   ]
  },
  {
   "cell_type": "markdown",
   "id": "7835106e",
   "metadata": {},
   "source": [
    "### Exercise - jewels\n",
    "\n",
    "\n",
    "\n",
    "✪ In the dictionary `jewels` some keys are equal to the respective values. Write some code which find such keys and prints them all.\n",
    "\n",
    "Example - given:\n",
    "\n",
    "```python\n",
    "jewels = {\n",
    "    'rubies': 'jade',\n",
    "    'opals':'topazes',\n",
    "    'gems':'gems',\n",
    "    'diamonds': 'gems',\n",
    "    'rubies':'rubies'\n",
    "}\n",
    "```\n",
    "\n",
    "prints:\n",
    "\n",
    "```\n",
    "couple of equal elements: gems and gems\n",
    "couple of equal elements: rubies and rubies\n",
    "```"
   ]
  },
  {
   "cell_type": "raw",
   "id": "38ccf57d",
   "metadata": {
    "format": "text/html"
   },
   "source": [
    "<a  class=\"jupman-sol jupman-sol-toggler\" \n",
    " onclick=\"jupman.toggleSolution(this);\" \n",
    " data-jupman-show=\"Show solution\" data-jupman-hide=\"Hide\">Show solution</a><div class=\"jupman-sol jupman-sol-code\" style=\"display:none\">  "
   ]
  },
  {
   "cell_type": "code",
   "execution_count": 7,
   "id": "1d414efc",
   "metadata": {},
   "outputs": [
    {
     "name": "stdout",
     "output_type": "stream",
     "text": [
      "couple of equal elements: rubies and rubies\n",
      "couple of equal elements: gems and gems\n"
     ]
    }
   ],
   "source": [
    "\n",
    "jewels = {\n",
    "    'rubies': 'jade',\n",
    "    'opals':'topazes',\n",
    "    'gems':'gems',\n",
    "    'diamonds': 'gems',\n",
    "    'rubies':'rubies'\n",
    "}\n",
    "\n",
    "# write here\n",
    "for k,v in jewels.items():\n",
    "    if k == v:\n",
    "        print('couple of equal elements:',k, 'and', v)"
   ]
  },
  {
   "cell_type": "raw",
   "id": "b2bb4874",
   "metadata": {
    "format": "text/html"
   },
   "source": [
    "</div>"
   ]
  },
  {
   "cell_type": "code",
   "execution_count": 7,
   "id": "1d414efc-stripped",
   "metadata": {},
   "outputs": [],
   "source": [
    "\n",
    "jewels = {\n",
    "    'rubies': 'jade',\n",
    "    'opals':'topazes',\n",
    "    'gems':'gems',\n",
    "    'diamonds': 'gems',\n",
    "    'rubies':'rubies'\n",
    "}\n",
    "\n",
    "# write here\n",
    "\n"
   ]
  },
  {
   "cell_type": "markdown",
   "id": "325507a2",
   "metadata": {},
   "source": [
    "### Exercise  - powers\n",
    "\n",
    "✪ Given a number `n`, write some code which creates a NEW dictionary `d` containing as keys the numbers from 1 a `n` INCLUDED, by associating keys to their squares.\n",
    "\n",
    "Example - given:\n",
    "\n",
    "```python\n",
    "n = 5\n",
    "```\n",
    "\n",
    "after your code, it must result:\n",
    "\n",
    "```python\n",
    ">>> print(d)\n",
    "{1: 1, 2: 4, 3: 9, 4: 16, 5: 25}\n",
    "```"
   ]
  },
  {
   "cell_type": "raw",
   "id": "8bbe3969",
   "metadata": {
    "format": "text/html"
   },
   "source": [
    "<a  class=\"jupman-sol jupman-sol-toggler\" \n",
    " onclick=\"jupman.toggleSolution(this);\" \n",
    " data-jupman-show=\"Show solution\" data-jupman-hide=\"Hide\">Show solution</a><div class=\"jupman-sol jupman-sol-code\" style=\"display:none\">  "
   ]
  },
  {
   "cell_type": "code",
   "execution_count": 8,
   "id": "5e84741c",
   "metadata": {},
   "outputs": [
    {
     "name": "stdout",
     "output_type": "stream",
     "text": [
      "{1: 1, 2: 4, 3: 9, 4: 16, 5: 25}\n"
     ]
    }
   ],
   "source": [
    "\n",
    "n = 5\n",
    "\n",
    "# write here\n",
    "d = {}\n",
    "for i in range(1,n+1):\n",
    "    d[i] = i*i\n",
    "\n",
    "print(d)"
   ]
  },
  {
   "cell_type": "raw",
   "id": "4e7ab99e",
   "metadata": {
    "format": "text/html"
   },
   "source": [
    "</div>"
   ]
  },
  {
   "cell_type": "code",
   "execution_count": 8,
   "id": "5e84741c-stripped",
   "metadata": {},
   "outputs": [],
   "source": [
    "\n",
    "n = 5\n",
    "\n",
    "# write here\n",
    "\n"
   ]
  },
  {
   "cell_type": "markdown",
   "id": "f01a7be7",
   "metadata": {},
   "source": [
    "### Exercise - flowers\n",
    "\n",
    "✪ Given a list `flowers`, write some code which creates a NEW dictionary `is_cap` which associates to each flower `True` if the flower name is written all uppercase, and `False` otherwise\n",
    "\n",
    "* **HINT**: to verify whether a string is all uppercase, use `.isupper()` method\n",
    "\n",
    "```python\n",
    "flowers = ['sunflower','GILLYFLOWER', 'tulip', 'PASSION FLOWER', 'ROSE', 'violet']\n",
    "```\n",
    "\n",
    "prints (they are in alphabetical order because we print with `pprint`):\n",
    "\n",
    "```\n",
    ">>> from pprint import pprint\n",
    ">>> pprint(is_cap)\n",
    "{'GILLYFLOWER': True,\n",
    " 'PASSION FLOWER': True,\n",
    " 'ROSE': True,\n",
    " 'sunflower': False,\n",
    " 'tulip': False,\n",
    " 'violet': False}\n",
    "```"
   ]
  },
  {
   "cell_type": "raw",
   "id": "345d3f5b",
   "metadata": {
    "format": "text/html"
   },
   "source": [
    "<a  class=\"jupman-sol jupman-sol-toggler\" \n",
    " onclick=\"jupman.toggleSolution(this);\" \n",
    " data-jupman-show=\"Show solution\" data-jupman-hide=\"Hide\">Show solution</a><div class=\"jupman-sol jupman-sol-code\" style=\"display:none\">  "
   ]
  },
  {
   "cell_type": "code",
   "execution_count": 9,
   "id": "f86390b4",
   "metadata": {},
   "outputs": [
    {
     "name": "stdout",
     "output_type": "stream",
     "text": [
      "{'GILLYFLOWER': True,\n",
      " 'PASSION FLOWER': True,\n",
      " 'ROSE': True,\n",
      " 'sunflower': False,\n",
      " 'tulip': False,\n",
      " 'violet': False}\n"
     ]
    }
   ],
   "source": [
    "\n",
    "flowers = ['sunflower','GILLYFLOWER', 'tulip', 'PASSION FLOWER', 'ROSE', 'violet']\n",
    "\n",
    "# write here\n",
    "\n",
    "is_cap = {}\n",
    "for el in flowers:\n",
    "    is_cap[el] = el.isupper()\n",
    "    \n",
    "from pprint import pprint\n",
    "pprint(is_cap)"
   ]
  },
  {
   "cell_type": "raw",
   "id": "e8cdcc5e",
   "metadata": {
    "format": "text/html"
   },
   "source": [
    "</div>"
   ]
  },
  {
   "cell_type": "code",
   "execution_count": 9,
   "id": "f86390b4-stripped",
   "metadata": {},
   "outputs": [],
   "source": [
    "\n",
    "flowers = ['sunflower','GILLYFLOWER', 'tulip', 'PASSION FLOWER', 'ROSE', 'violet']\n",
    "\n",
    "# write here\n",
    "\n"
   ]
  },
  {
   "cell_type": "markdown",
   "id": "c75a658d",
   "metadata": {},
   "source": [
    "### Exercise - art\n",
    "\n",
    "✪ An artist painted a series of works with different techiques. In the dictionary `prices` he writes the price of each technique. The artist intend to promote a series of exhibitions, and in each of them he will present a particular technique. Supposing for each technique he produced `q` paintings, show how much he will learn in each exhibition (suppose he sells everything).\n",
    "\n",
    "Example - given:\n",
    "\n",
    "```python\n",
    "q = 20\n",
    "\n",
    "exhibitions = ['watercolor', 'oil', 'mural', 'tempera', 'charcoal','ink']\n",
    "\n",
    "prices = {'watercolor': 3000,\n",
    "          'oil'       : 6000,\n",
    "          'mural'     : 2000,\n",
    "          'tempera'   : 4000,\n",
    "          'charcoal'  : 7000,\n",
    "          'ink'       : 1000\n",
    "}\n",
    "```\n",
    "\n",
    "Prints - **this time order matters!!** \n",
    "\n",
    "```\n",
    "Expected Income:\n",
    "  exhibition watercolor : 60000 €\n",
    "  exhibition oil : 120000 €\n",
    "  exhibition mural : 40000 €\n",
    "  exhibition tempera : 80000 €\n",
    "  exhibition charcoal : 140000 €\n",
    "  exhibition ink : 20000 €\n",
    "\n",
    "```"
   ]
  },
  {
   "cell_type": "raw",
   "id": "bba1dd5d",
   "metadata": {
    "format": "text/html"
   },
   "source": [
    "<a  class=\"jupman-sol jupman-sol-toggler\" \n",
    " onclick=\"jupman.toggleSolution(this);\" \n",
    " data-jupman-show=\"Show solution\" data-jupman-hide=\"Hide\">Show solution</a><div class=\"jupman-sol jupman-sol-code\" style=\"display:none\">  "
   ]
  },
  {
   "cell_type": "code",
   "execution_count": 10,
   "id": "afc71ab5",
   "metadata": {},
   "outputs": [
    {
     "name": "stdout",
     "output_type": "stream",
     "text": [
      "Expected Income:\n",
      "  exhibition watercolor : 60000 €\n",
      "  exhibition oil : 120000 €\n",
      "  exhibition mural : 40000 €\n",
      "  exhibition tempera : 80000 €\n",
      "  exhibition charcoal : 140000 €\n",
      "  exhibition ink : 20000 €\n"
     ]
    }
   ],
   "source": [
    "\n",
    "q = 20\n",
    "\n",
    "exhibitions = ['watercolor', 'oil', 'mural', 'tempera', 'charcoal','ink']\n",
    "\n",
    "prices = {'watercolor': 3000,\n",
    "          'oil'       : 6000,\n",
    "          'mural'     : 2000,\n",
    "          'tempera'   : 4000,\n",
    "          'charcoal'  : 7000,\n",
    "          'ink'       : 1000\n",
    "}\n",
    "\n",
    "# write here\n",
    "\n",
    "print('Expected Income:')\n",
    "for i in range(len(exhibitions)):\n",
    "    technique = exhibitions[i]\n",
    "    print('  exhibition', technique, \":\", prices[technique]*q,  '€')"
   ]
  },
  {
   "cell_type": "raw",
   "id": "b2777e0e",
   "metadata": {
    "format": "text/html"
   },
   "source": [
    "</div>"
   ]
  },
  {
   "cell_type": "code",
   "execution_count": 10,
   "id": "afc71ab5-stripped",
   "metadata": {},
   "outputs": [],
   "source": [
    "\n",
    "q = 20\n",
    "\n",
    "exhibitions = ['watercolor', 'oil', 'mural', 'tempera', 'charcoal','ink']\n",
    "\n",
    "prices = {'watercolor': 3000,\n",
    "          'oil'       : 6000,\n",
    "          'mural'     : 2000,\n",
    "          'tempera'   : 4000,\n",
    "          'charcoal'  : 7000,\n",
    "          'ink'       : 1000\n",
    "}\n",
    "\n",
    "# write here\n",
    "\n"
   ]
  },
  {
   "cell_type": "markdown",
   "id": "0b4bf925",
   "metadata": {},
   "source": [
    "### Exercise - stationery stores\n",
    "\n",
    "✪ An owner of two stationery shops, in order to reorganize the stores wants to know the materials which are in common among the shops. Given two dictionaries `store1` and `store2` which associates objects to their quantity, write some code which finds all the keys in common and for each prints the sum of the found quantities.\n",
    "\n",
    "Example - given:\n",
    "\n",
    "```python\n",
    "store1 = {'pens':10,\n",
    "          'folders':20,\n",
    "          'papers':30,\n",
    "          'scissors':40}\n",
    "\n",
    "store2 = {'pens':80,\n",
    "          'folders':90,\n",
    "          'goniometer':130,\n",
    "          'scissors':110,\n",
    "          'rulers':120,\n",
    "          }\n",
    "```\n",
    "\n",
    "prints (order is **not** important):\n",
    "\n",
    "```\n",
    "materials in common:\n",
    "   pens : 90\n",
    "   folders : 110\n",
    "   scissors : 150\n",
    "```"
   ]
  },
  {
   "cell_type": "raw",
   "id": "3a30f427",
   "metadata": {
    "format": "text/html"
   },
   "source": [
    "<a  class=\"jupman-sol jupman-sol-toggler\" \n",
    " onclick=\"jupman.toggleSolution(this);\" \n",
    " data-jupman-show=\"Show solution\" data-jupman-hide=\"Hide\">Show solution</a><div class=\"jupman-sol jupman-sol-code\" style=\"display:none\">  "
   ]
  },
  {
   "cell_type": "code",
   "execution_count": 11,
   "id": "57ef0269",
   "metadata": {},
   "outputs": [
    {
     "name": "stdout",
     "output_type": "stream",
     "text": [
      "materials in common:\n",
      "   pens : 90\n",
      "   folders : 110\n",
      "   scissors : 150\n"
     ]
    }
   ],
   "source": [
    "\n",
    "store1 = {'pens':10,\n",
    "          'folders':20,\n",
    "          'papers':30,\n",
    "          'scissors':40}\n",
    "\n",
    "store2 = {'pens':80,\n",
    "          'folders':90,\n",
    "          'goniometer':130,\n",
    "          'scissors':110,\n",
    "          'rulers':120,\n",
    "          }\n",
    "# write here\n",
    "\n",
    "print('materials in common:')\n",
    "for k in store1:\n",
    "    if k in store2:\n",
    "        print('  ',k, ':', store1[k] + store2[k])"
   ]
  },
  {
   "cell_type": "raw",
   "id": "f49fe9b6",
   "metadata": {
    "format": "text/html"
   },
   "source": [
    "</div>"
   ]
  },
  {
   "cell_type": "code",
   "execution_count": 11,
   "id": "57ef0269-stripped",
   "metadata": {},
   "outputs": [],
   "source": [
    "\n",
    "store1 = {'pens':10,\n",
    "          'folders':20,\n",
    "          'papers':30,\n",
    "          'scissors':40}\n",
    "\n",
    "store2 = {'pens':80,\n",
    "          'folders':90,\n",
    "          'goniometer':130,\n",
    "          'scissors':110,\n",
    "          'rulers':120,\n",
    "          }\n",
    "# write here\n",
    "\n"
   ]
  },
  {
   "cell_type": "markdown",
   "id": "c45a5fba",
   "metadata": {},
   "source": [
    "### Exercise - legumes\n",
    "\n",
    "✪ A store has numbered shelves, each containing a number of legumes expressed in kilograms. We represent `store` as a list. There is also a `registry` available as a dictionary which associates to legume names the shelves number in which they are contained.\n",
    "\n",
    "Write some code which given a list of legume names, shows the sum of kilograms in the store for those legumes.\n",
    "\n",
    "Example - given:\n",
    "\n",
    "```python\n",
    "legumes = ['lentils', 'soy']    \n",
    "\n",
    "#        0  1  2  3  4  5 \n",
    "store = [50,90,70,10,20,50]\n",
    "\n",
    "registry = {'peas':3,\n",
    "            'soy':1,\n",
    "            'chickpeas':5,\n",
    "            'lentils':4,\n",
    "            'broad beans':2,\n",
    "            'beans':0,\n",
    "}\n",
    "```\n",
    "\n",
    "after your code, it must print (order does **not** matter):\n",
    "\n",
    "```\n",
    "Searching for lentils and soy ...\n",
    "Found 20 kg of lentils\n",
    "Found 90 kg of soy\n",
    "Total: 110 kg\n",
    "```"
   ]
  },
  {
   "cell_type": "raw",
   "id": "7cf8af0e",
   "metadata": {
    "format": "text/html"
   },
   "source": [
    "<a  class=\"jupman-sol jupman-sol-toggler\" \n",
    " onclick=\"jupman.toggleSolution(this);\" \n",
    " data-jupman-show=\"Show solution\" data-jupman-hide=\"Hide\">Show solution</a><div class=\"jupman-sol jupman-sol-code\" style=\"display:none\">  "
   ]
  },
  {
   "cell_type": "code",
   "execution_count": 12,
   "id": "0cb122a9",
   "metadata": {},
   "outputs": [
    {
     "name": "stdout",
     "output_type": "stream",
     "text": [
      "Searching for lentils and soy ...\n",
      "Found 20 kg of lentils\n",
      "Found 90 kg of soy\n",
      "Total: 110 kg\n"
     ]
    }
   ],
   "source": [
    "\n",
    "legumes = ['lentils', 'soy']    # 110 \n",
    "#legumes = ['beans', 'broad beans', 'chickpeas']   # 170\n",
    "\n",
    "#        0  1  2  3  4  5 \n",
    "store = [50,90,70,10,20,50]\n",
    "\n",
    "registry = {'peas':3,\n",
    "            'soy':1,\n",
    "            'chickpeas':5,\n",
    "            'lentils':4,\n",
    "            'broad beans':2,\n",
    "            'beans':0,\n",
    "}\n",
    "# write here\n",
    "print('Searching for', ' and '.join(legumes), '...')\n",
    "s = 0\n",
    "for leg in legumes:\n",
    "    print('Found', store[registry[leg]], 'kg of', leg)\n",
    "    s += store[registry[leg]]\n",
    "    \n",
    "print('Total:',s, 'kg')"
   ]
  },
  {
   "cell_type": "raw",
   "id": "a107fc5c",
   "metadata": {
    "format": "text/html"
   },
   "source": [
    "</div>"
   ]
  },
  {
   "cell_type": "code",
   "execution_count": 12,
   "id": "0cb122a9-stripped",
   "metadata": {},
   "outputs": [],
   "source": [
    "\n",
    "legumes = ['lentils', 'soy']    # 110 \n",
    "#legumes = ['beans', 'broad beans', 'chickpeas']   # 170\n",
    "\n",
    "#        0  1  2  3  4  5 \n",
    "store = [50,90,70,10,20,50]\n",
    "\n",
    "registry = {'peas':3,\n",
    "            'soy':1,\n",
    "            'chickpeas':5,\n",
    "            'lentils':4,\n",
    "            'broad beans':2,\n",
    "            'beans':0,\n",
    "}\n",
    "# write here\n",
    "\n"
   ]
  },
  {
   "cell_type": "markdown",
   "id": "8aa950e7",
   "metadata": {},
   "source": [
    "### Exercise - smog\n",
    "\n",
    "✪ Write some code which given two dictionaries `smog` and `prepositions` which associate places to respectively values of smog and prepositions, prints all the places telling the smog is excessive if the value is greater than 30, otherwise is tolerable.\n",
    "\n",
    "* **NOTE**: when printing the first preposition character must be capital: to transform the string you can use the method `.capitalize()`\n",
    "\n",
    "Example - given:\n",
    "\n",
    "```python\n",
    "smog = {'streets'        : 40,\n",
    "        'cities'         : 20,\n",
    "        'intersections'  : 90,\n",
    "        'trains'         : 15,\n",
    "        'lakes'          : 5\n",
    "       }\n",
    "\n",
    "propositions = {\n",
    "    'streets'       : 'on',    \n",
    "    'cities'        : 'in',\n",
    "    'lakes'         : 'at',\n",
    "    'trains'        : 'on',\n",
    "    'intersections' : 'at',    \n",
    "}\n",
    "```\n",
    "\n",
    "prints (order **does not** matter):\n",
    "\n",
    "```\n",
    "On streets the smog level is excessive\n",
    "In cities the smog level is tolerable\n",
    "At intersections the smog level is excessive\n",
    "On trains the smog level is tolerable\n",
    "At lakes the smog level is tolerable\n",
    "```"
   ]
  },
  {
   "cell_type": "raw",
   "id": "0563f8d1",
   "metadata": {
    "format": "text/html"
   },
   "source": [
    "<a  class=\"jupman-sol jupman-sol-toggler\" \n",
    " onclick=\"jupman.toggleSolution(this);\" \n",
    " data-jupman-show=\"Show solution\" data-jupman-hide=\"Hide\">Show solution</a><div class=\"jupman-sol jupman-sol-code\" style=\"display:none\">  "
   ]
  },
  {
   "cell_type": "code",
   "execution_count": 13,
   "id": "e78e51a9",
   "metadata": {},
   "outputs": [
    {
     "name": "stdout",
     "output_type": "stream",
     "text": [
      "On streets the smog level is excessive\n",
      "In cities the smog level is tolerable\n",
      "At intersections the smog level is excessive\n",
      "On trains the smog level is tolerable\n",
      "At lakes the smog level is tolerable\n"
     ]
    }
   ],
   "source": [
    "\n",
    "smog = {'streets'        : 40,\n",
    "        'cities'         : 20,\n",
    "        'intersections'  : 90,\n",
    "        'trains'         : 15,\n",
    "        'lakes'          : 5\n",
    "       }\n",
    "\n",
    "prepositions = {\n",
    "    'streets'       : 'on',    \n",
    "    'cities'        : 'in',\n",
    "    'lakes'         : 'at',\n",
    "    'trains'        : 'on',\n",
    "    'intersections' : 'at',    \n",
    "}\n",
    "\n",
    "# write here\n",
    "for x in smog:    \n",
    "    if smog[x] > 30:\n",
    "        print(prepositions[x].capitalize(),x, \"the smog level is excessive\")\n",
    "    else:\n",
    "        print(prepositions[x].capitalize(),x,\"the smog level is tolerable\")"
   ]
  },
  {
   "cell_type": "raw",
   "id": "ff16341a",
   "metadata": {
    "format": "text/html"
   },
   "source": [
    "</div>"
   ]
  },
  {
   "cell_type": "code",
   "execution_count": 13,
   "id": "e78e51a9-stripped",
   "metadata": {},
   "outputs": [],
   "source": [
    "\n",
    "smog = {'streets'        : 40,\n",
    "        'cities'         : 20,\n",
    "        'intersections'  : 90,\n",
    "        'trains'         : 15,\n",
    "        'lakes'          : 5\n",
    "       }\n",
    "\n",
    "prepositions = {\n",
    "    'streets'       : 'on',    \n",
    "    'cities'        : 'in',\n",
    "    'lakes'         : 'at',\n",
    "    'trains'        : 'on',\n",
    "    'intersections' : 'at',    \n",
    "}\n",
    "\n",
    "# write here\n",
    "\n"
   ]
  },
  {
   "cell_type": "markdown",
   "id": "c8f87214",
   "metadata": {},
   "source": [
    "### Exercise - sports\n",
    "\n",
    "✪✪ Write some code which given a dictionary `sports` in which people are associated to the favourite sport, create a NEW dictionari `counts` in which associates each sport to the number of people that prefer it.\n",
    "\n",
    "Example - given:\n",
    "\n",
    "```python\n",
    "sports = {\n",
    "    'Gianni':'soccer',\n",
    "    'Paolo':'tennis',\n",
    "    'Sara':'volleyball',\n",
    "    'Elena':'tennis',\n",
    "    'Roberto':'soccer',\n",
    "    'Carla':'soccer',    \n",
    "}\n",
    "```\n",
    "\n",
    "After your code, it must result:\n",
    "\n",
    "```python\n",
    ">>> print(counts)\n",
    "{'tennis': 2, 'soccer': 3, 'volleyball': 1}\n",
    "```"
   ]
  },
  {
   "cell_type": "raw",
   "id": "98ded8ae",
   "metadata": {
    "format": "text/html"
   },
   "source": [
    "<a  class=\"jupman-sol jupman-sol-toggler\" \n",
    " onclick=\"jupman.toggleSolution(this);\" \n",
    " data-jupman-show=\"Show solution\" data-jupman-hide=\"Hide\">Show solution</a><div class=\"jupman-sol jupman-sol-code\" style=\"display:none\">  "
   ]
  },
  {
   "cell_type": "code",
   "execution_count": 14,
   "id": "3aebfa73",
   "metadata": {},
   "outputs": [
    {
     "name": "stdout",
     "output_type": "stream",
     "text": [
      "{'soccer': 3, 'tennis': 2, 'volleyball': 1}\n"
     ]
    }
   ],
   "source": [
    "sports = {\n",
    "    'Gianni':'soccer',\n",
    "    'Paolo':'tennis',\n",
    "    'Sara':'volleyball',\n",
    "    'Elena':'tennis',\n",
    "    'Roberto':'soccer',\n",
    "    'Carla':'soccer',    \n",
    "}\n",
    "\n",
    "# write here\n",
    "\n",
    "counts = {}\n",
    "\n",
    "for k,v in sports.items():\n",
    "    if v in counts:\n",
    "        counts[v] += 1\n",
    "    else:\n",
    "        counts[v] = 1\n",
    "\n",
    "print(counts)"
   ]
  },
  {
   "cell_type": "raw",
   "id": "a8e6bdfd",
   "metadata": {
    "format": "text/html"
   },
   "source": [
    "</div>"
   ]
  },
  {
   "cell_type": "code",
   "execution_count": 14,
   "id": "3aebfa73-stripped",
   "metadata": {},
   "outputs": [
    {
     "name": "stdout",
     "output_type": "stream",
     "text": [
      "{'soccer': 3, 'tennis': 2, 'volleyball': 1}\n"
     ]
    }
   ],
   "source": [
    "sports = {\n",
    "    'Gianni':'soccer',\n",
    "    'Paolo':'tennis',\n",
    "    'Sara':'volleyball',\n",
    "    'Elena':'tennis',\n",
    "    'Roberto':'soccer',\n",
    "    'Carla':'soccer',    \n",
    "}\n",
    "\n",
    "# write here\n",
    "\n"
   ]
  },
  {
   "cell_type": "markdown",
   "id": "6f94a525",
   "metadata": {},
   "source": [
    "### Exercise - green lizard\n",
    "\n",
    "✪✪ Write some code which given a set `search` of characters to find, counts for each how many are present in the string `text` and places the number in the dictionary `counts`.\n",
    "\n",
    "Example - given:"
   ]
  },
  {
   "cell_type": "code",
   "execution_count": 15,
   "id": "46b5fc41",
   "metadata": {},
   "outputs": [],
   "source": [
    "search = {'i','t','r'}\n",
    "text = \"A diurnal lizard of green and brown color A pattern may also be present in the form of dark slate grey streaks or spots. When found with a brown coloration, sometimes with lighter stripe down the back.\"\n",
    "counts = {}"
   ]
  },
  {
   "cell_type": "markdown",
   "id": "ae070f4b",
   "metadata": {},
   "source": [
    "After your code it must result:\n",
    "\n",
    "```python\n",
    ">>> print(counts)\n",
    "{'r': 5, 'i': 2, 't': 0}\n",
    "```"
   ]
  },
  {
   "cell_type": "raw",
   "id": "51948207",
   "metadata": {
    "format": "text/html"
   },
   "source": [
    "<a  class=\"jupman-sol jupman-sol-toggler\" \n",
    " onclick=\"jupman.toggleSolution(this);\" \n",
    " data-jupman-show=\"Show solution\" data-jupman-hide=\"Hide\">Show solution</a><div class=\"jupman-sol jupman-sol-code\" style=\"display:none\">  "
   ]
  },
  {
   "cell_type": "code",
   "execution_count": 16,
   "id": "72f671dd",
   "metadata": {},
   "outputs": [
    {
     "name": "stdout",
     "output_type": "stream",
     "text": [
      "{'i': 2, 't': 0, 'r': 5}\n",
      "{'i': 2, 't': 0, 'r': 5}\n"
     ]
    }
   ],
   "source": [
    "#jupman-ignore-output\n",
    "search = {'i','t','r'}\n",
    "text = \"A diurnal lizard of green and brown color.\"\n",
    "counts = {}\n",
    "\n",
    "# write here\n",
    "\n",
    "# solution 1, most efficient\n",
    "for char in search:\n",
    "    counts[char] = 0\n",
    "for char in text:\n",
    "    if char in search:        \n",
    "        counts[char] += 1\n",
    "            \n",
    "print(counts)\n",
    "\n",
    "# solution 2, less efficient (scans text n times with count)\n",
    "for char in search:\n",
    "    counts[char] = text.count(char)\n",
    "            \n",
    "print(counts)"
   ]
  },
  {
   "cell_type": "raw",
   "id": "20d82a53",
   "metadata": {
    "format": "text/html"
   },
   "source": [
    "</div>"
   ]
  },
  {
   "cell_type": "code",
   "execution_count": 16,
   "id": "72f671dd-stripped",
   "metadata": {},
   "outputs": [
    {
     "name": "stdout",
     "output_type": "stream",
     "text": [
      "{'i': 2, 't': 0, 'r': 5}\n",
      "{'i': 2, 't': 0, 'r': 5}\n"
     ]
    }
   ],
   "source": [
    "#jupman-ignore-output\n",
    "search = {'i','t','r'}\n",
    "text = \"A diurnal lizard of green and brown color.\"\n",
    "counts = {}\n",
    "\n",
    "# write here\n",
    "\n"
   ]
  },
  {
   "cell_type": "markdown",
   "id": "190838a0",
   "metadata": {},
   "source": [
    "\n",
    "## Modifying a dictionary during iteration\n",
    "\n",
    "Suppose you have a dictionary of provinces:\n",
    "\n",
    "\n",
    "```python\n",
    "provinces = {\n",
    "    'tn': 'Trento',\n",
    "    'mi':'Milano',\n",
    "    'na':'Napoli',\n",
    "}\n",
    "```\n",
    "\n",
    "and you want to MODIFY it so that after your code the acronyms are added as capitalized:\n",
    "\n",
    "\n",
    "```python\n",
    ">>> print(provinces)\n",
    "{'tn': 'Trento',\n",
    " 'mi':'Milano',\n",
    " 'na':'Napoli',\n",
    " 'TN': 'Trento',\n",
    " 'MI':'Milano',\n",
    " 'NA':'Napoli',\n",
    "}\n",
    "```\n",
    "\n",
    "You might think to write something like this:\n",
    "\n",
    "\n",
    "```python\n",
    "for key in provinces:\n",
    "    provinces[key.upper()] = provinces[key]    # WARNING !\n",
    "```\n",
    "\n",
    "**QUESTION**: Do you see any problem?"
   ]
  },
  {
   "cell_type": "raw",
   "id": "40d44e78",
   "metadata": {
    "format": "text/html"
   },
   "source": [
    "<a  class=\"jupman-sol jupman-sol-toggler\" \n",
    " onclick=\"jupman.toggleSolution(this);\" \n",
    " data-jupman-show=\"Show answer\" data-jupman-hide=\"Hide\">Show answer</a><div class=\"jupman-sol jupman-sol-question\" style=\"display:none\">  "
   ]
  },
  {
   "cell_type": "markdown",
   "id": "8aada011",
   "metadata": {},
   "source": [
    "**ANSWER**: if you go through a dictionary and in _the meanwhile_ you keep adding pieces, there is a concrete risk we will never terminate examining the keys !\n",
    "\n",
    "So carefully read what follows:\n"
   ]
  },
  {
   "cell_type": "raw",
   "id": "57fc4b8f",
   "metadata": {
    "format": "text/html"
   },
   "source": [
    "</div>"
   ]
  },
  {
   "cell_type": "markdown",
   "id": "07139e75",
   "metadata": {},
   "source": [
    "<div class=\"jupman-alert-principle\"></div>\n",
    "<div class=\"alert alert-info\" >\n",
    "\n",
    "[X COMMANDMENT](https://en.softpython.org/commandments.html#X-COMMANDMENT): \n",
    "**You shall never ever add nor remove elements from a dictionary you are iterating with a** `for` **!**\n",
    "</div>\n",
    "\n",
    "\n",
    "In this case, if we try executing the code, we will get an explicit error:\n",
    "\n",
    "```python\n",
    "---------------------------------------------------------------------------\n",
    "RuntimeError                              Traceback (most recent call last)\n",
    "<ipython-input-26-9b20900057e8> in <module>()\n",
    "----> 1 for key in provinces:\n",
    "      2     provinces[key.upper()] = provinces[key]    # WARNING !\n",
    "\n",
    "RuntimeError: dictionary changed size during iteration\n",
    "```\n",
    "\n",
    "but in other cases (like for example lists) modifying stuff **may produce totally unpredictable behaviours** (do you know the expression _pulling the rug out from under your feet ?_ )"
   ]
  },
  {
   "cell_type": "markdown",
   "id": "9f7229dc",
   "metadata": {},
   "source": [
    "**What about removing?** We've seen adding is dangerous, but so is removing.\n",
    "\n",
    "Suppose we want to remove  any couple having as value `'Trento'`"
   ]
  },
  {
   "cell_type": "markdown",
   "id": "cd596f60",
   "metadata": {},
   "source": [
    "\n",
    "```python\n",
    "provinces = {\n",
    "    'tn': 'Trento',\n",
    "    'mi':'Milano',\n",
    "    'na':'Napoli',\n",
    "}\n",
    "```\n",
    "\n",
    "to obtain:\n",
    "\n",
    "```python\n",
    ">>> print(provinces)\n",
    "{'mi':'Milano',\n",
    " 'na':'Napoli'}\n",
    "```"
   ]
  },
  {
   "cell_type": "markdown",
   "id": "1fc89d15",
   "metadata": {},
   "source": [
    "If we try executing something like this Python notices and raises an exception:\n",
    "\n",
    "\n",
    "```python\n",
    "provinces = {\n",
    "    'tn': 'Trento',\n",
    "    'mi':'Milano',\n",
    "    'na':'Napoli',\n",
    "}\n",
    "\n",
    "for key in provinces:\n",
    "    if provinces[key] == 'Trento':\n",
    "        del provinces[key]   # VERY BAD IDEA\n",
    "```\n",
    "\n",
    "```python\n",
    "---------------------------------------------------------------------------\n",
    "RuntimeError                              Traceback (most recent call last)\n",
    "<ipython-input-23-5df0fd659120> in <module>()\n",
    "      5     'na':'Napoli'\n",
    "      6 }\n",
    "----> 7 for key in provinces:\n",
    "      8     if provinces[key] == 'Trento':\n",
    "      9         del provinces[key]   # VERY BAD IDEA\n",
    "\n",
    "RuntimeError: dictionary changed size during iteration\n",
    "\n",
    "```"
   ]
  },
  {
   "cell_type": "markdown",
   "id": "8384bee8",
   "metadata": {},
   "source": [
    "**If you really need to remove elements from the sequence in which you are iterating**, use a [while cycle](https://en.softpython.org/while/while1-sol.html) or first copy the original sequence."
   ]
  },
  {
   "cell_type": "markdown",
   "id": "640bf656",
   "metadata": {},
   "source": [
    "### Exercise - zazb"
   ]
  },
  {
   "cell_type": "markdown",
   "id": "36a2d3e2",
   "metadata": {},
   "source": [
    "✪✪ Write some code which given a dictionary `chars` with characters as keys, MODIFY the dictionary so to add keys like the existing ones prefixed with character `'z'` - new keys should be associated with the constant integer `10`\n",
    "\n",
    "Example - given:\n",
    "\n",
    "```python\n",
    "chars = {\n",
    "    'a':3,\n",
    "    'b':8,\n",
    "    'c':4\n",
    "}\n",
    "\n",
    "```\n",
    "\n",
    "after your code, `chars` should result MODIFIED like this:\n",
    "\n",
    "```python\n",
    ">>> chars\n",
    "{   'a':3,\n",
    "    'b':8,\n",
    "    'c':4,\n",
    "    'za':10,\n",
    "    'zb':10,\n",
    "    'zc':10\n",
    "}\n",
    "```"
   ]
  },
  {
   "cell_type": "markdown",
   "id": "77e7a8ba",
   "metadata": {},
   "source": [
    "\n",
    "**QUESTION**: Is it desirable to write a solution like the following one? Read carefully!\n",
    "\n",
    "\n",
    "```python\n",
    "chars = {\n",
    "    'a':3,\n",
    "    'b':8,\n",
    "    'c':4\n",
    "}\n",
    "\n",
    "for key in chars:    \n",
    "    chars['z'+key] = 10    # WARNING !! TROUBLE AHEAD !!\n",
    "```"
   ]
  },
  {
   "cell_type": "raw",
   "id": "b432babf",
   "metadata": {
    "format": "text/html"
   },
   "source": [
    "<a  class=\"jupman-sol jupman-sol-toggler\" \n",
    " onclick=\"jupman.toggleSolution(this);\" \n",
    " data-jupman-show=\"Show answer\" data-jupman-hide=\"Hide\">Show answer</a><div class=\"jupman-sol jupman-sol-question\" style=\"display:none\">  "
   ]
  },
  {
   "cell_type": "markdown",
   "id": "e84249f8",
   "metadata": {},
   "source": [
    "**ANSWER**: Absolutely not - in this case we're lucky and we will obtain an explicit error, in other cases we might obtain infinite loops or incomprehensible results:\n",
    "\n",
    "```python\n",
    "---------------------------------------------------------------------------\n",
    "RuntimeError                              Traceback (most recent call last)\n",
    "<ipython-input-36-550c4c302120> in <module>()\n",
    "      5 }\n",
    "      6 \n",
    "----> 7 for key in chars:\n",
    "      8     chars['z'+key] = 10\n",
    "\n",
    "RuntimeError: dictionary changed size during iteration\n",
    "```\n",
    "\n",
    "**Do something better:** try now rewriting a version of the program without this bug."
   ]
  },
  {
   "cell_type": "raw",
   "id": "3cc8e619",
   "metadata": {
    "format": "text/html"
   },
   "source": [
    "</div>"
   ]
  },
  {
   "cell_type": "raw",
   "id": "6d9f3926",
   "metadata": {
    "format": "text/html"
   },
   "source": [
    "<a  class=\"jupman-sol jupman-sol-toggler\" \n",
    " onclick=\"jupman.toggleSolution(this);\" \n",
    " data-jupman-show=\"Show solution\" data-jupman-hide=\"Hide\">Show solution</a><div class=\"jupman-sol jupman-sol-code\" style=\"display:none\">  "
   ]
  },
  {
   "cell_type": "code",
   "execution_count": 17,
   "id": "bde7e97d",
   "metadata": {},
   "outputs": [
    {
     "data": {
      "text/plain": [
       "{'a': 3, 'b': 8, 'c': 4, 'za': 10, 'zb': 10, 'zc': 10}"
      ]
     },
     "execution_count": 17,
     "metadata": {},
     "output_type": "execute_result"
    }
   ],
   "source": [
    "\n",
    "chars = {\n",
    "    'a':3,\n",
    "    'b':8,\n",
    "    'c':4\n",
    "}\n",
    "\n",
    "# write here\n",
    "\n",
    "for el in list(chars.keys()):  # list 'takes a picture' of the current keys state\n",
    "    chars['z'+el] = 10\n",
    "\n",
    "chars"
   ]
  },
  {
   "cell_type": "raw",
   "id": "8ebd6ff0",
   "metadata": {
    "format": "text/html"
   },
   "source": [
    "</div>"
   ]
  },
  {
   "cell_type": "code",
   "execution_count": 17,
   "id": "bde7e97d-stripped",
   "metadata": {},
   "outputs": [],
   "source": [
    "\n",
    "chars = {\n",
    "    'a':3,\n",
    "    'b':8,\n",
    "    'c':4\n",
    "}\n",
    "\n",
    "# write here\n",
    "\n"
   ]
  },
  {
   "cell_type": "markdown",
   "id": "898eec5a",
   "metadata": {},
   "source": [
    "### Exercise - DIY\n",
    "\n",
    "✪✪ A depot for do-it-yourself hobbists has a `catalog` which associates object types to the shelves where to put them. Each day, a list of `entries` is populated with the newly arrived object types. Such types are placed in the `depot`, a dictionary which associates to each shelf the object type pointed by the catalof. Write some code which given the list `entries` and `catalog`, populates the dictionary `depot`\n",
    "\n",
    "Example - given:\n",
    "\n",
    "```python\n",
    "\n",
    "entries = ['chairs', 'lamps', 'cables']\n",
    "\n",
    "catalog = {'stoves' : 'A',\n",
    "           'chairs' : 'B',\n",
    "           'carafes' : 'D',\n",
    "           'lamps' : 'C',\n",
    "           'cables' : 'F',\n",
    "           'gardening' : 'E'}\n",
    "\n",
    "depot = {}\n",
    "```\n",
    "\n",
    "after your code, it must result:\n",
    "\n",
    "```python\n",
    ">>> print(depot)\n",
    "{'B': 'chairs', 'C': 'lamps', 'F': 'cables'}\n",
    "```"
   ]
  },
  {
   "cell_type": "raw",
   "id": "8ae07fc6",
   "metadata": {
    "format": "text/html"
   },
   "source": [
    "<a  class=\"jupman-sol jupman-sol-toggler\" \n",
    " onclick=\"jupman.toggleSolution(this);\" \n",
    " data-jupman-show=\"Show solution\" data-jupman-hide=\"Hide\">Show solution</a><div class=\"jupman-sol jupman-sol-code\" style=\"display:none\">  "
   ]
  },
  {
   "cell_type": "code",
   "execution_count": 18,
   "id": "e0ac8ac6",
   "metadata": {},
   "outputs": [
    {
     "data": {
      "text/plain": [
       "{'B': 'chairs', 'C': 'lamps', 'F': 'cables'}"
      ]
     },
     "execution_count": 18,
     "metadata": {},
     "output_type": "execute_result"
    }
   ],
   "source": [
    "\n",
    "entries = ['chairs', 'lamps', 'cables']  # depot becomes: {'B': 'chairs', 'C': 'lamps', 'F': 'cables'}\n",
    "#entries = ['carafes', 'gardening']      # depot becomes: {'D': 'carafes', 'E': 'gardening'}\n",
    "#entries = ['stoves']                    # depot becomes: {'A': 'stoves'}\n",
    "\n",
    "catalog = {'stoves' : 'A',\n",
    "           'chairs' : 'B',\n",
    "           'carafes' : 'D',\n",
    "           'lamps' : 'C',\n",
    "           'cables' : 'F',\n",
    "           'gardening' : 'E'}\n",
    "\n",
    "depot = {}\n",
    "\n",
    "# write here\n",
    "\n",
    "depot = {}\n",
    "\n",
    "for shipment in entries:\n",
    "    depot[ catalog[shipment] ] = shipment\n",
    "\n",
    "depot"
   ]
  },
  {
   "cell_type": "raw",
   "id": "174fe38b",
   "metadata": {
    "format": "text/html"
   },
   "source": [
    "</div>"
   ]
  },
  {
   "cell_type": "code",
   "execution_count": 18,
   "id": "e0ac8ac6-stripped",
   "metadata": {},
   "outputs": [],
   "source": [
    "\n",
    "entries = ['chairs', 'lamps', 'cables']  # depot becomes: {'B': 'chairs', 'C': 'lamps', 'F': 'cables'}\n",
    "#entries = ['carafes', 'gardening']      # depot becomes: {'D': 'carafes', 'E': 'gardening'}\n",
    "#entries = ['stoves']                    # depot becomes: {'A': 'stoves'}\n",
    "\n",
    "catalog = {'stoves' : 'A',\n",
    "           'chairs' : 'B',\n",
    "           'carafes' : 'D',\n",
    "           'lamps' : 'C',\n",
    "           'cables' : 'F',\n",
    "           'gardening' : 'E'}\n",
    "\n",
    "depot = {}\n",
    "\n",
    "# write here\n",
    "\n"
   ]
  },
  {
   "cell_type": "markdown",
   "id": "71cb2432",
   "metadata": {},
   "source": [
    "### Exercise - mine\n",
    "\n",
    "✪✪ Given a dictionary `mine` which associates keys to numbers, MODIFY the dictionary `extracted` associating the same keys of `mine` to lists with keys repeated the given number of times\n",
    "\n",
    "Example - given:\n",
    "\n",
    "```python\n",
    "mine = {'brass': 5,\n",
    "        'iron'  : 8,\n",
    "        'copper' : 1}\n",
    "extracted = {}\n",
    "```\n",
    "\n",
    "after your code it must result:\n",
    "\n",
    "```python\n",
    ">>> print(extracted)\n",
    "{'brass': ['brass', 'brass', 'brass', 'brass', 'brass'],\n",
    " 'iron': ['iron', 'iron', 'iron', 'iron', 'iron', 'iron', 'iron', 'iron'],\n",
    " 'copper': ['copper']}\n",
    "```"
   ]
  },
  {
   "cell_type": "raw",
   "id": "665bc315",
   "metadata": {
    "format": "text/html"
   },
   "source": [
    "<a  class=\"jupman-sol jupman-sol-toggler\" \n",
    " onclick=\"jupman.toggleSolution(this);\" \n",
    " data-jupman-show=\"Show solution\" data-jupman-hide=\"Hide\">Show solution</a><div class=\"jupman-sol jupman-sol-code\" style=\"display:none\">  "
   ]
  },
  {
   "cell_type": "code",
   "execution_count": 19,
   "id": "248fc208",
   "metadata": {},
   "outputs": [
    {
     "data": {
      "text/plain": [
       "{'brass': ['brass', 'brass', 'brass', 'brass', 'brass'],\n",
       " 'iron': ['iron', 'iron', 'iron', 'iron', 'iron', 'iron', 'iron', 'iron'],\n",
       " 'copper': ['copper']}"
      ]
     },
     "execution_count": 19,
     "metadata": {},
     "output_type": "execute_result"
    }
   ],
   "source": [
    "\n",
    "mine = {'brass': 5,\n",
    "        'iron'  : 8,\n",
    "        'copper' : 1}\n",
    "extracted = {}\n",
    "\n",
    "# write here\n",
    "\n",
    "for key in mine:\n",
    "    extracted[key] = [key] * mine[key]\n",
    "\n",
    "extracted"
   ]
  },
  {
   "cell_type": "raw",
   "id": "3bd5f51a",
   "metadata": {
    "format": "text/html"
   },
   "source": [
    "</div>"
   ]
  },
  {
   "cell_type": "code",
   "execution_count": 19,
   "id": "248fc208-stripped",
   "metadata": {},
   "outputs": [],
   "source": [
    "\n",
    "mine = {'brass': 5,\n",
    "        'iron'  : 8,\n",
    "        'copper' : 1}\n",
    "extracted = {}\n",
    "\n",
    "# write here\n",
    "\n"
   ]
  },
  {
   "cell_type": "markdown",
   "id": "56bafd77",
   "metadata": {},
   "source": [
    "## Continue\n",
    "\n",
    "Go on with [nested for loops](https://en.softpython.org/for/for7-nested-sol.html)"
   ]
  }
 ],
 "metadata": {
  "kernelspec": {
   "display_name": "Python 3 (ipykernel)",
   "language": "python",
   "name": "python3"
  },
  "language_info": {
   "codemirror_mode": {
    "name": "ipython",
    "version": 3
   },
   "file_extension": ".py",
   "mimetype": "text/x-python",
   "name": "python",
   "nbconvert_exporter": "python",
   "pygments_lexer": "ipython3",
   "version": "3.7.17"
  },
  "toc": {
   "base_numbering": 1,
   "nav_menu": {},
   "number_sections": false,
   "sideBar": true,
   "skip_h1_title": false,
   "title_cell": "Table of Contents",
   "title_sidebar": "Contents",
   "toc_cell": false,
   "toc_position": {},
   "toc_section_display": true,
   "toc_window_display": true
  }
 },
 "nbformat": 4,
 "nbformat_minor": 5
}
