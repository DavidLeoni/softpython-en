{
 "cells": [
  {
   "cell_type": "code",
   "execution_count": 1,
   "id": "8de99d2a",
   "metadata": {
    "nbsphinx": "hidden"
   },
   "outputs": [],
   "source": [
    "# Remember to execute this cell with Shift+Enter\n",
    "\n",
    "import jupman"
   ]
  },
  {
   "cell_type": "markdown",
   "id": "f04bd967",
   "metadata": {},
   "source": [
    "# For loops 7 - nested loops\n",
    "\n",
    "## [Download exercises zip](../_static/generated/for.zip) \n",
    "\n",
    "[Browse file online](https://github.com/DavidLeoni/softpython-en/tree/master/for)\n",
    "\n",
    "It's possible to include a `for` cycle inside another one, for example we could visit all the words of a list of strings and for each word we couuld print all its characters:"
   ]
  },
  {
   "cell_type": "code",
   "execution_count": 2,
   "id": "f8d858d9",
   "metadata": {},
   "outputs": [
    {
     "name": "stdout",
     "output_type": "stream",
     "text": [
      "s\n",
      "o\n",
      "m\n",
      "e\n",
      "\n",
      "l\n",
      "i\n",
      "g\n",
      "h\n",
      "t\n",
      "\n",
      "a\n",
      "h\n",
      "e\n",
      "a\n",
      "d\n",
      "\n"
     ]
    }
   ],
   "source": [
    "lst = [\"some\",\n",
    "       \"light\",\n",
    "       \"ahead\"]\n",
    "\n",
    "for string in lst:\n",
    "    for char in string:\n",
    "        print(char)\n",
    "    print()    "
   ]
  },
  {
   "cell_type": "markdown",
   "id": "80b0c5ca",
   "metadata": {},
   "source": [
    "## Nested `for` \n",
    "\n",
    "What we said previously about variable names is still more important with nested loops:"
   ]
  },
  {
   "cell_type": "markdown",
   "id": "00191f8e",
   "metadata": {},
   "source": [
    "<div class=\"alert alert-info\">\n",
    "\n",
    "[II COMMANDMENT](https://en.softpython.org/commandments.html#II-COMMANDMENT) **Whenever you insert a variable in a** `for` **cycle, such variable must be new**\n",
    "\n",
    "</div>"
   ]
  },
  {
   "cell_type": "markdown",
   "id": "6f6b77e9",
   "metadata": {},
   "source": [
    "If you defined a variable in an external `for`, you shall not reintroduce it in an internal `for`, because this would bring a lot of confusion. For example here `s` is introduced both in the external and in the internal loop:"
   ]
  },
  {
   "cell_type": "code",
   "execution_count": 3,
   "id": "f9b09dfc",
   "metadata": {},
   "outputs": [
    {
     "name": "stdout",
     "output_type": "stream",
     "text": [
      "0\n",
      "1\n",
      "2\n",
      "2\n",
      "0\n",
      "1\n",
      "2\n",
      "2\n",
      "0\n",
      "1\n",
      "2\n",
      "2\n",
      "0\n",
      "1\n",
      "2\n",
      "2\n"
     ]
    }
   ],
   "source": [
    "for s in ['volleyball', 'tennis', 'soccer', 'swimming']:\n",
    "    \n",
    "    for s in range(3):  # debugging hell, you lose the external cycle s\n",
    "        print(s)\n",
    "        \n",
    "    print(s)  # prints 2 instead of a sport!"
   ]
  },
  {
   "cell_type": "markdown",
   "id": "f565e622",
   "metadata": {},
   "source": [
    "## Questions - nested for\n",
    "\n",
    "Look at the following code fragments , and for each try guessing the result it produces (or if it gives an error):\n"
   ]
  },
  {
   "cell_type": "markdown",
   "id": "ac4a2ba4",
   "metadata": {},
   "source": [
    "1.  ```python\n",
    "    for y in for x in range(3):\n",
    "        print(x,y)\n",
    "    ```\n",
    "1.  ```python\n",
    "    for y in for x in range(2) in range(3):\n",
    "        print(x,y)\n",
    "    ```\n",
    "1.  ```python\n",
    "    for y in range(3):\n",
    "        for x in range(2):\n",
    "            print(x,y)\n",
    "    ```\n",
    "1.  ```python\n",
    "    for x in range(2):         \n",
    "        for x in range(3):\n",
    "            print(x)\n",
    "        print(x)\n",
    "    ```\n",
    "1.  ```python\n",
    "    for x in range(2):        \n",
    "        for y in range(3):\n",
    "            print(x,y)\n",
    "        print(x,y)    \n",
    "    ```    \n",
    "1.  ```python\n",
    "    for x in range(1):\n",
    "        for y in range(1):\n",
    "            print(x,y)\n",
    "    ```            \n",
    "1.  ```python\n",
    "    for x in range(2):\n",
    "        for y in range(3):\n",
    "            print(x,y)\n",
    "    ```\n",
    "1.  ```python\n",
    "    la = 'abc'\n",
    "    for x in la:\n",
    "        for y in la:\n",
    "            print(x)\n",
    "    ```            \n",
    "1.  ```python\n",
    "    for x in 'ab':\n",
    "        for y in 'cd':\n",
    "            print(x,y)    \n",
    "        for y in 'ef':\n",
    "            print(x,y)\n",
    "    ```\n",
    "1.  ```python\n",
    "    for x in 'abc':\n",
    "        for y in 'abc':\n",
    "            if x == y:\n",
    "                print(x)\n",
    "    ```\n",
    "1.  ```python\n",
    "    for x in 'abc':\n",
    "        for y in 'abc':\n",
    "            if x != y:\n",
    "                print(x,y)\n",
    "    ```\n",
    "1.  ```python\n",
    "    lst = []\n",
    "    for x in 'a':\n",
    "        for y in 'bc':\n",
    "            lst.append(x)\n",
    "            lst.append(y)\n",
    "    print(lst)\n",
    "    ```    \n",
    "1.  ```python\n",
    "    lst = []\n",
    "    for x in 'abc':\n",
    "        for y in 'de':\n",
    "            lst.append('z')\n",
    "    print(len(lst))\n",
    "    ```    \n",
    "1.  ```python\n",
    "    c = 1\n",
    "    for x in range(1,4):\n",
    "        s = ''\n",
    "        for y in range(1,4):\n",
    "            s = s + str(c)\n",
    "            c += 1\n",
    "        print(s)\n",
    "    ```"
   ]
  },
  {
   "cell_type": "markdown",
   "id": "807e5144",
   "metadata": {},
   "source": [
    "## Exercise - casting\n",
    "\n",
    "✪ A new USA-Japanese videocultural production is going to be launched, so actors are called for casting. The director wants to try a scene with all the possible couples which can be formed among actors and actresses. Write some code which prints all the couples, also putting introduction messages.\n",
    "\n",
    "* **NOTE**: the number of actors and actresses may be different\n",
    "\n",
    "Example - given:\n",
    "\n",
    "```python\n",
    "actresses = ['Leela','Wilma']\n",
    "actors = ['Captain Harlock', 'Lupin', 'Kenshiro']\n",
    "```\n",
    "\n",
    "prints:\n",
    "\n",
    "```\n",
    "Leela enters the scene!\n",
    "   Captain Harlock enters the scene!\n",
    "      Leela and Captain Harlock get ready ... ACTION!\n",
    "    Thanks Captain Harlock - next one !\n",
    "   Lupin enters the scene!\n",
    "      Leela and Lupin get ready ... ACTION!\n",
    "    Thanks Lupin - next one !\n",
    "   Kenshiro enters the scene!\n",
    "      Leela and Kenshiro get ready ... ACTION!\n",
    "    Thanks Kenshiro - next one !\n",
    "Thanks Leela - next one !\n",
    "Wilma enters the scene!\n",
    "   Captain Harlock enters the scene!\n",
    "      Wilma and Captain Harlock get ready ... ACTION!\n",
    "    Thanks Captain Harlock - next one !\n",
    "   Lupin enters the scene!\n",
    "      Wilma and Lupin get ready ... ACTION!\n",
    "    Thanks Lupin - next one !\n",
    "   Kenshiro enters the scene!\n",
    "      Wilma and Kenshiro get ready ... ACTION!\n",
    "    Thanks Kenshiro - next one !\n",
    "Thanks Wilma - next one !\n",
    "\n",
    "Casting is over for today!\n",
    "```"
   ]
  },
  {
   "cell_type": "raw",
   "id": "c3a0174a",
   "metadata": {
    "format": "text/html"
   },
   "source": [
    "<a  class=\"jupman-sol jupman-sol-toggler\" \n",
    " onclick=\"jupman.toggleSolution(this);\" \n",
    " data-jupman-show=\"Show solution\" data-jupman-hide=\"Hide\">Show solution</a><div class=\"jupman-sol jupman-sol-code\" style=\"display:none\">  "
   ]
  },
  {
   "cell_type": "code",
   "execution_count": 4,
   "id": "edfedd36",
   "metadata": {},
   "outputs": [
    {
     "name": "stdout",
     "output_type": "stream",
     "text": [
      "Leela enters the scene!\n",
      "   Captain Harlock enters the scene!\n",
      "      Leela and Captain Harlock get ready ... ACTION!\n",
      "    Thanks Captain Harlock - next one !\n",
      "   Lupin enters the scene!\n",
      "      Leela and Lupin get ready ... ACTION!\n",
      "    Thanks Lupin - next one !\n",
      "   Kenshiro enters the scene!\n",
      "      Leela and Kenshiro get ready ... ACTION!\n",
      "    Thanks Kenshiro - next one !\n",
      "Thanks Leela - next one !\n",
      "Wilma enters the scene!\n",
      "   Captain Harlock enters the scene!\n",
      "      Wilma and Captain Harlock get ready ... ACTION!\n",
      "    Thanks Captain Harlock - next one !\n",
      "   Lupin enters the scene!\n",
      "      Wilma and Lupin get ready ... ACTION!\n",
      "    Thanks Lupin - next one !\n",
      "   Kenshiro enters the scene!\n",
      "      Wilma and Kenshiro get ready ... ACTION!\n",
      "    Thanks Kenshiro - next one !\n",
      "Thanks Wilma - next one !\n",
      "\n",
      "Casting is over for today!\n"
     ]
    }
   ],
   "source": [
    "\n",
    "actresses = ['Leela','Wilma']\n",
    "actors = ['Captain Harlock', 'Lupin', 'Kenshiro']\n",
    "\n",
    "# write here\n",
    "for actress in actresses:\n",
    "    print(actress, 'enters the scene!')\n",
    "    for actor in actors:\n",
    "        print('  ',actor, 'enters the scene!')\n",
    "        \n",
    "        print('     ',actress, 'and', actor, 'get ready ... ACTION!')\n",
    "        print('    Thanks', actor, '- next one !')\n",
    "    print('Thanks', actress, '- next one !')\n",
    "print()\n",
    "print('Casting is over for today!')"
   ]
  },
  {
   "cell_type": "raw",
   "id": "379fb198",
   "metadata": {
    "format": "text/html"
   },
   "source": [
    "</div>"
   ]
  },
  {
   "cell_type": "code",
   "execution_count": 4,
   "id": "edfedd36-stripped",
   "metadata": {},
   "outputs": [],
   "source": [
    "\n",
    "actresses = ['Leela','Wilma']\n",
    "actors = ['Captain Harlock', 'Lupin', 'Kenshiro']\n",
    "\n",
    "# write here\n",
    "\n"
   ]
  },
  {
   "cell_type": "markdown",
   "id": "86ec72f5",
   "metadata": {},
   "source": [
    "## Exercise - cover the plane\n",
    "\n",
    "✪ Given the integers `a` and `b`, write some code which prints all the possible couples of numbers $x$ and $y$ such that  $1 \\leq x \\leq a$ and $1 \\leq y \\leq b$\n",
    "\n",
    "For example, given:\n",
    "\n",
    "```python\n",
    "a,b = 5,3\n",
    "```\n",
    "\n",
    "it must print:\n",
    "\n",
    "```\n",
    "1 1\n",
    "1 2\n",
    "1 3\n",
    "2 1\n",
    "2 2\n",
    "2 3\n",
    "3 1\n",
    "3 2\n",
    "3 3\n",
    "4 1\n",
    "4 2\n",
    "4 3\n",
    "5 1\n",
    "5 2\n",
    "5 3\n",
    "```"
   ]
  },
  {
   "cell_type": "raw",
   "id": "8f30c2a0",
   "metadata": {
    "format": "text/html"
   },
   "source": [
    "<a  class=\"jupman-sol jupman-sol-toggler\" \n",
    " onclick=\"jupman.toggleSolution(this);\" \n",
    " data-jupman-show=\"Show solution\" data-jupman-hide=\"Hide\">Show solution</a><div class=\"jupman-sol jupman-sol-code\" style=\"display:none\">  "
   ]
  },
  {
   "cell_type": "code",
   "execution_count": 5,
   "id": "f8bbbe40",
   "metadata": {},
   "outputs": [
    {
     "name": "stdout",
     "output_type": "stream",
     "text": [
      "1 1\n",
      "1 2\n",
      "1 3\n",
      "2 1\n",
      "2 2\n",
      "2 3\n",
      "3 1\n",
      "3 2\n",
      "3 3\n",
      "4 1\n",
      "4 2\n",
      "4 3\n",
      "5 1\n",
      "5 2\n",
      "5 3\n"
     ]
    }
   ],
   "source": [
    "\n",
    "a,b = 5,3\n",
    "\n",
    "# write here\n",
    "for x in range(1,a+1):\n",
    "    for y in range(1,b+1):        \n",
    "        print(x,y)"
   ]
  },
  {
   "cell_type": "raw",
   "id": "f26d9c01",
   "metadata": {
    "format": "text/html"
   },
   "source": [
    "</div>"
   ]
  },
  {
   "cell_type": "code",
   "execution_count": 5,
   "id": "f8bbbe40-stripped",
   "metadata": {},
   "outputs": [],
   "source": [
    "\n",
    "a,b = 5,3\n",
    "\n",
    "# write here\n",
    "\n"
   ]
  },
  {
   "cell_type": "markdown",
   "id": "51221f3a",
   "metadata": {},
   "source": [
    "## Exercise - triangular\n",
    "\n",
    "✪ Given the integer `a`, write some code which prints all the possible couples of numbers $x$ and $y$ such that $0 \\leq x \\leq y < a$\n",
    "\n",
    "For example, for\n",
    "\n",
    "```python\n",
    "a = 5\n",
    "```\n",
    "\n",
    "it must print:\n",
    "\n",
    "```\n",
    "0 0\n",
    "0 1\n",
    "0 2\n",
    "0 3\n",
    "0 4\n",
    "1 1\n",
    "1 2\n",
    "1 3\n",
    "1 4\n",
    "2 2\n",
    "2 3\n",
    "2 4\n",
    "3 3\n",
    "3 4\n",
    "4 4\n",
    "```"
   ]
  },
  {
   "cell_type": "raw",
   "id": "da3baa2a",
   "metadata": {
    "format": "text/html"
   },
   "source": [
    "<a  class=\"jupman-sol jupman-sol-toggler\" \n",
    " onclick=\"jupman.toggleSolution(this);\" \n",
    " data-jupman-show=\"Show solution\" data-jupman-hide=\"Hide\">Show solution</a><div class=\"jupman-sol jupman-sol-code\" style=\"display:none\">  "
   ]
  },
  {
   "cell_type": "code",
   "execution_count": 6,
   "id": "64a95994",
   "metadata": {
    "scrolled": true
   },
   "outputs": [
    {
     "name": "stdout",
     "output_type": "stream",
     "text": [
      "0 0\n",
      "0 1\n",
      "0 2\n",
      "0 3\n",
      "0 4\n",
      "1 1\n",
      "1 2\n",
      "1 3\n",
      "1 4\n",
      "2 2\n",
      "2 3\n",
      "2 4\n",
      "3 3\n",
      "3 4\n",
      "4 4\n"
     ]
    }
   ],
   "source": [
    "\n",
    "a = 5\n",
    "# write here\n",
    "for x in range(a):    \n",
    "    for y in range(x,a):\n",
    "        print(x,y)\n",
    "    "
   ]
  },
  {
   "cell_type": "raw",
   "id": "46d86cef",
   "metadata": {
    "format": "text/html"
   },
   "source": [
    "</div>"
   ]
  },
  {
   "cell_type": "code",
   "execution_count": 6,
   "id": "64a95994-stripped",
   "metadata": {
    "scrolled": true
   },
   "outputs": [],
   "source": [
    "\n",
    "a = 5\n",
    "# write here\n",
    "\n"
   ]
  },
  {
   "cell_type": "markdown",
   "id": "8b5f0da5",
   "metadata": {},
   "source": [
    "## Exercise - port\n",
    "\n",
    "✪ Write some code which given a list `words` and a list `characters`, for each word calculates how many characters it contains\n",
    "\n",
    "* **ONLY** count the characters present in `characters`\n",
    "* **ONLY** print the result if the number is greater than zero\n",
    "\n",
    "\n",
    "Example - given:\n",
    "\n",
    "```python\n",
    "words = ['ships','pier','oar','fish trap','sails','trawling net']\n",
    "characters = ['n','i','s']\n",
    "```\n",
    "\n",
    "prints:\n",
    "\n",
    "```\n",
    "ships contains 1 i\n",
    "ships contains 2 s\n",
    "pier contains 1 i\n",
    "fish trap contains 1 i\n",
    "fish trap contains 1 s\n",
    "sails contains 1 i\n",
    "sails contains 2 s\n",
    "trawling net contains 2 n\n",
    "trawling net contains 1 i\n",
    "\n",
    "```"
   ]
  },
  {
   "cell_type": "raw",
   "id": "7f4a4548",
   "metadata": {
    "format": "text/html"
   },
   "source": [
    "<a  class=\"jupman-sol jupman-sol-toggler\" \n",
    " onclick=\"jupman.toggleSolution(this);\" \n",
    " data-jupman-show=\"Show solution\" data-jupman-hide=\"Hide\">Show solution</a><div class=\"jupman-sol jupman-sol-code\" style=\"display:none\">  "
   ]
  },
  {
   "cell_type": "code",
   "execution_count": 7,
   "id": "3cf1149e",
   "metadata": {},
   "outputs": [
    {
     "name": "stdout",
     "output_type": "stream",
     "text": [
      "ships contains 1 i\n",
      "ships contains 2 s\n",
      "pier contains 1 i\n",
      "fish trap contains 1 i\n",
      "fish trap contains 1 s\n",
      "sails contains 1 i\n",
      "sails contains 2 s\n",
      "trawling net contains 2 n\n",
      "trawling net contains 1 i\n"
     ]
    }
   ],
   "source": [
    "\n",
    "words = ['ships','pier','oar','fish trap','sails','trawling net']\n",
    "characters = ['n','i','s']\n",
    "\n",
    "\n",
    "# write here\n",
    "\n",
    "for x in words:\n",
    "    for y in characters:\n",
    "        if y in x:\n",
    "            print(x,'contains',x.count(y),y)"
   ]
  },
  {
   "cell_type": "raw",
   "id": "a8876a41",
   "metadata": {
    "format": "text/html"
   },
   "source": [
    "</div>"
   ]
  },
  {
   "cell_type": "code",
   "execution_count": 7,
   "id": "3cf1149e-stripped",
   "metadata": {},
   "outputs": [],
   "source": [
    "\n",
    "words = ['ships','pier','oar','fish trap','sails','trawling net']\n",
    "characters = ['n','i','s']\n",
    "\n",
    "\n",
    "# write here\n",
    "\n"
   ]
  },
  {
   "cell_type": "markdown",
   "id": "06e686b9",
   "metadata": {},
   "source": [
    "## Exercise - polygons\n",
    "\n",
    "✪✪ Given a list `polygons`  with polygon names ordered by sides number starting from a triangle, write some code which prints all the possible questions we can form regarding the number of sides. Start from a minimum of 3 sides until a maximum corresponding to the number of sides of the last polygon (remember names are ordered by number of sides!)\n",
    "\n",
    "Example - given:\n",
    "\n",
    "```python\n",
    "#               0          1        2           3\n",
    "polygons = [\"triangle\",\"square\",\"pentagon\", \"hexagon\"]\n",
    "```\n",
    "\n",
    "prints:\n",
    "\n",
    "```\n",
    "Does the triangle have 3 sides? True\n",
    "Does the triangle have 4 sides? False\n",
    "Does the triangle have 5 sides? False\n",
    "Does the triangle have 6 sides? False\n",
    "Does the square have 3 sides? False\n",
    "Does the square have 4 sides? True\n",
    "Does the square have 5 sides? False\n",
    "Does the square have 6 sides? False\n",
    "Does the pentagon have 3 sides? False\n",
    "Does the pentagon have 4 sides? False\n",
    "Does the pentagon have 5 sides? True\n",
    "Does the pentagon have 6 sides? False\n",
    "Does the hexagon have 3 sides? False\n",
    "Does the hexagon have 4 sides? False\n",
    "Does the hexagon have 5 sides? False\n",
    "Does the hexagon have 6 sides? True\n",
    "\n",
    "```\n",
    "\n"
   ]
  },
  {
   "cell_type": "raw",
   "id": "60b41d43",
   "metadata": {
    "format": "text/html"
   },
   "source": [
    "<a  class=\"jupman-sol jupman-sol-toggler\" \n",
    " onclick=\"jupman.toggleSolution(this);\" \n",
    " data-jupman-show=\"Show solution\" data-jupman-hide=\"Hide\">Show solution</a><div class=\"jupman-sol jupman-sol-code\" style=\"display:none\">  "
   ]
  },
  {
   "cell_type": "code",
   "execution_count": 8,
   "id": "5928c28f",
   "metadata": {},
   "outputs": [
    {
     "name": "stdout",
     "output_type": "stream",
     "text": [
      "Does the triangle have 3 sides? True\n",
      "Does the triangle have 4 sides? False\n",
      "Does the triangle have 5 sides? False\n",
      "Does the triangle have 6 sides? False\n",
      "Does the square have 3 sides? False\n",
      "Does the square have 4 sides? True\n",
      "Does the square have 5 sides? False\n",
      "Does the square have 6 sides? False\n",
      "Does the pentagon have 3 sides? False\n",
      "Does the pentagon have 4 sides? False\n",
      "Does the pentagon have 5 sides? True\n",
      "Does the pentagon have 6 sides? False\n",
      "Does the hexagon have 3 sides? False\n",
      "Does the hexagon have 4 sides? False\n",
      "Does the hexagon have 5 sides? False\n",
      "Does the hexagon have 6 sides? True\n"
     ]
    }
   ],
   "source": [
    "\n",
    "#                 0              1              2             3\n",
    "polygons = [\"triangle\",\"square\",\"pentagon\", \"hexagon\"]\n",
    "\n",
    "# write here\n",
    "for i in range(len(polygons)):\n",
    "    for j in range(len(polygons)):\n",
    "        print('Does the', polygons[i],'have', j+3, 'sides?', i+3 == j+3 )"
   ]
  },
  {
   "cell_type": "raw",
   "id": "e7cdd9b4",
   "metadata": {
    "format": "text/html"
   },
   "source": [
    "</div>"
   ]
  },
  {
   "cell_type": "code",
   "execution_count": 8,
   "id": "5928c28f-stripped",
   "metadata": {},
   "outputs": [],
   "source": [
    "\n",
    "#                 0              1              2             3\n",
    "polygons = [\"triangle\",\"square\",\"pentagon\", \"hexagon\"]\n",
    "\n",
    "# write here\n",
    "\n"
   ]
  },
  {
   "cell_type": "markdown",
   "id": "14a2d647",
   "metadata": {},
   "source": [
    "## Exercise - bon jour\n",
    "\n",
    "✪✪✪ Given two strings `sa` and `sb` in lowercase, write some code which prints single letters from  `sa` as upper case, followed by all possible combinations of `sb` where ONLY ONE character is uppercase.\n",
    "\n",
    "Example - given:\n",
    "\n",
    "```python\n",
    "sa = 'bon'\n",
    "sb = 'jour'\n",
    "```\n",
    "\n",
    "Must print:\n",
    "\n",
    "```\n",
    "B Jour\n",
    "B jOur\n",
    "B joUr\n",
    "B jouR\n",
    "O Jour\n",
    "O jOur\n",
    "O joUr\n",
    "O jouR\n",
    "N Jour\n",
    "N jOur\n",
    "N joUr\n",
    "N jouR\n",
    "```\n"
   ]
  },
  {
   "cell_type": "raw",
   "id": "4eac2052",
   "metadata": {
    "format": "text/html"
   },
   "source": [
    "<a  class=\"jupman-sol jupman-sol-toggler\" \n",
    " onclick=\"jupman.toggleSolution(this);\" \n",
    " data-jupman-show=\"Show solution\" data-jupman-hide=\"Hide\">Show solution</a><div class=\"jupman-sol jupman-sol-code\" style=\"display:none\">  "
   ]
  },
  {
   "cell_type": "code",
   "execution_count": 9,
   "id": "75c3d715",
   "metadata": {},
   "outputs": [
    {
     "name": "stdout",
     "output_type": "stream",
     "text": [
      "B Jour\n",
      "B jOur\n",
      "B joUr\n",
      "B jouR\n",
      "O Jour\n",
      "O jOur\n",
      "O joUr\n",
      "O jouR\n",
      "N Jour\n",
      "N jOur\n",
      "N joUr\n",
      "N jouR\n"
     ]
    }
   ],
   "source": [
    "\n",
    "sa = 'bon'\n",
    "sb = 'jour'\n",
    "\n",
    "# write here\n",
    "\n",
    "for c1 in sa:\n",
    "    for i in range(len(sb)):\n",
    "        print(c1.upper() + ' ' + sb[:i] + sb[i].upper() + sb[i+1:])"
   ]
  },
  {
   "cell_type": "raw",
   "id": "331ebf4e",
   "metadata": {
    "format": "text/html"
   },
   "source": [
    "</div>"
   ]
  },
  {
   "cell_type": "code",
   "execution_count": 9,
   "id": "75c3d715-stripped",
   "metadata": {},
   "outputs": [],
   "source": [
    "\n",
    "sa = 'bon'\n",
    "sb = 'jour'\n",
    "\n",
    "# write here\n",
    "\n"
   ]
  },
  {
   "cell_type": "markdown",
   "id": "e0a9ee60",
   "metadata": {},
   "source": [
    "\n",
    "## Continue\n",
    "\n",
    "Go on with [for challenges](https://en.softpython.org/for/for8-chal.html)"
   ]
  },
  {
   "cell_type": "code",
   "execution_count": null,
   "id": "5618866c",
   "metadata": {},
   "outputs": [],
   "source": []
  }
 ],
 "metadata": {
  "kernelspec": {
   "display_name": "Python 3 (ipykernel)",
   "language": "python",
   "name": "python3"
  },
  "language_info": {
   "codemirror_mode": {
    "name": "ipython",
    "version": 3
   },
   "file_extension": ".py",
   "mimetype": "text/x-python",
   "name": "python",
   "nbconvert_exporter": "python",
   "pygments_lexer": "ipython3",
   "version": "3.7.10"
  },
  "toc": {
   "base_numbering": 1,
   "nav_menu": {},
   "number_sections": false,
   "sideBar": true,
   "skip_h1_title": false,
   "title_cell": "Table of Contents",
   "title_sidebar": "Contents",
   "toc_cell": false,
   "toc_position": {},
   "toc_section_display": true,
   "toc_window_display": true
  }
 },
 "nbformat": 4,
 "nbformat_minor": 5
}
