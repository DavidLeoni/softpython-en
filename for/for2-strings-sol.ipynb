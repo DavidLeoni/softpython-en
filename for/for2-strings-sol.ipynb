{
 "cells": [
  {
   "cell_type": "code",
   "execution_count": 1,
   "metadata": {
    "nbsphinx": "hidden"
   },
   "outputs": [],
   "source": [
    "# Remember to execute this cell with Shift+Enter\n",
    "\n",
    "import jupman"
   ]
  },
  {
   "cell_type": "markdown",
   "metadata": {},
   "source": [
    "# For loops 2 - iterating strings\n",
    "\n",
    "## [Download exercises zip](../_static/generated/for.zip) \n",
    "\n",
    "[Browse file online](https://github.com/DavidLeoni/softpython-en/tree/master/for)\n",
    "\n",
    "Let's see some exercise about strings."
   ]
  },
  {
   "cell_type": "markdown",
   "metadata": {},
   "source": [
    "## Exercise - Impertinence\n",
    "\n",
    "Given the `sequence` of characters having a length multiple of 3, write some code which puts into variable `triplets` all the sub-sequences of three characters\n",
    "\n",
    "Example - given:\n",
    "\n",
    "```python\n",
    "sequence = \"IMPERTINENCE\"  \n",
    "            IMPERTINENTE\n",
    "            \n",
    "```\n",
    "after your code, it must result:\n",
    "\n",
    "```python\n",
    ">>> print(triplets)\n",
    "['IMP', 'ERT', 'INE', 'NCE']\n",
    "```"
   ]
  },
  {
   "cell_type": "raw",
   "id": "089aeb7f",
   "metadata": {
    "format": "text/html"
   },
   "source": [
    "<a  class=\"jupman-sol jupman-sol-toggler\" \n",
    " onclick=\"jupman.toggleSolution(this);\" \n",
    " data-jupman-show=\"Show solution\" data-jupman-hide=\"Hide\">Show solution</a><div class=\"jupman-sol jupman-sol-code\" style=\"display:none\">  "
   ]
  },
  {
   "cell_type": "code",
   "execution_count": 2,
   "metadata": {},
   "outputs": [
    {
     "name": "stdout",
     "output_type": "stream",
     "text": [
      "['IMP', 'ERT', 'INE', 'NCE']\n"
     ]
    }
   ],
   "source": [
    "\n",
    "sequence = \"IMPERTINENCE\"  # ['IMP', 'ERT', 'INE', 'NCE']\n",
    "#sequence = \"CUTOUT\"       # ['CUT', 'OUT']\n",
    "#sequence = \"O_o\"          # ['O_o']\n",
    "\n",
    "# write here\n",
    "triplets = []\n",
    "for i in range(len(sequence)):\n",
    "    if i % 3 == 0:\n",
    "        triplets.append(sequence[i:i+3])\n",
    "print(triplets)"
   ]
  },
  {
   "cell_type": "raw",
   "id": "863a7a3c",
   "metadata": {
    "format": "text/html"
   },
   "source": [
    "</div>"
   ]
  },
  {
   "cell_type": "code",
   "execution_count": 2,
   "metadata": {},
   "outputs": [],
   "source": [
    "\n",
    "sequence = \"IMPERTINENCE\"  # ['IMP', 'ERT', 'INE', 'NCE']\n",
    "#sequence = \"CUTOUT\"       # ['CUT', 'OUT']\n",
    "#sequence = \"O_o\"          # ['O_o']\n",
    "\n",
    "# write here\n",
    "\n"
   ]
  },
  {
   "cell_type": "markdown",
   "metadata": {},
   "source": [
    "## Exercise - rosco\n",
    "\n",
    "✪✪ Given a string `word` and string `repetitions` containing only digits, write some code which puts in variable `result` a string containing all the characters of `word` repeated by the number of times reported in the corresponding position of `repetitions`.\n",
    "\n",
    "Example - given:\n",
    "\n",
    "```python\n",
    "word, repetitions = \"rosco\", \"14323\"\n",
    "```\n",
    "\n",
    "After your code it must result:\n",
    "\n",
    "```python\n",
    ">>> result\n",
    "'roooosssccooo'\n",
    "```"
   ]
  },
  {
   "cell_type": "raw",
   "id": "293db7ce",
   "metadata": {
    "format": "text/html"
   },
   "source": [
    "<a  class=\"jupman-sol jupman-sol-toggler\" \n",
    " onclick=\"jupman.toggleSolution(this);\" \n",
    " data-jupman-show=\"Show solution\" data-jupman-hide=\"Hide\">Show solution</a><div class=\"jupman-sol jupman-sol-code\" style=\"display:none\">  "
   ]
  },
  {
   "cell_type": "code",
   "execution_count": 3,
   "metadata": {},
   "outputs": [
    {
     "name": "stdout",
     "output_type": "stream",
     "text": [
      "chhhhooooccooollaaatee\n"
     ]
    }
   ],
   "source": [
    "\n",
    "word, repetitions = \"rosco\", \"14323\"      # 'roooosssccooo'\n",
    "word, repetitions = \"chocolate\", \"144232312\"  # 'chhhhooooccooollaaatee'\n",
    "\n",
    "# write here\n",
    "res = []\n",
    "\n",
    "for i in range(len(word)):\n",
    "    res.append(word[i]*int(repetitions[i]))\n",
    "    \n",
    "result = \"\".join(res)\n",
    "print(result)"
   ]
  },
  {
   "cell_type": "raw",
   "id": "61b7aaca",
   "metadata": {
    "format": "text/html"
   },
   "source": [
    "</div>"
   ]
  },
  {
   "cell_type": "code",
   "execution_count": 3,
   "metadata": {},
   "outputs": [],
   "source": [
    "\n",
    "word, repetitions = \"rosco\", \"14323\"      # 'roooosssccooo'\n",
    "word, repetitions = \"chocolate\", \"144232312\"  # 'chhhhooooccooollaaatee'\n",
    "\n",
    "# write here\n",
    "\n"
   ]
  },
  {
   "cell_type": "markdown",
   "metadata": {},
   "source": [
    "## Continue\n",
    "\n",
    "Go on with exercises about [for loops with lists](https://en.softpython.org/for/for3-lists-sol.html)"
   ]
  },
  {
   "cell_type": "code",
   "execution_count": null,
   "metadata": {},
   "outputs": [],
   "source": []
  }
 ],
 "metadata": {
  "kernelspec": {
   "display_name": "Python 3 (ipykernel)",
   "language": "python",
   "name": "python3"
  },
  "language_info": {
   "codemirror_mode": {
    "name": "ipython",
    "version": 3
   },
   "file_extension": ".py",
   "mimetype": "text/x-python",
   "name": "python",
   "nbconvert_exporter": "python",
   "pygments_lexer": "ipython3",
   "version": "3.7.10"
  },
  "toc": {
   "base_numbering": 1,
   "nav_menu": {},
   "number_sections": false,
   "sideBar": true,
   "skip_h1_title": false,
   "title_cell": "Table of Contents",
   "title_sidebar": "Contents",
   "toc_cell": false,
   "toc_position": {},
   "toc_section_display": true,
   "toc_window_display": true
  }
 },
 "nbformat": 4,
 "nbformat_minor": 2
}
