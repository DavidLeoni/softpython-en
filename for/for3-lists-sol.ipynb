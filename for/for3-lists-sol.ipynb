{
 "cells": [
  {
   "cell_type": "code",
   "execution_count": 1,
   "metadata": {
    "nbsphinx": "hidden"
   },
   "outputs": [],
   "source": [
    "# Remember to execute this cell with Shift+Enter\n",
    "\n",
    "import jupman"
   ]
  },
  {
   "cell_type": "markdown",
   "metadata": {},
   "source": [
    "# For loops 3 - iterating lists\n",
    "\n",
    "## [Download exercises zip](../_static/generated/for.zip) \n",
    "\n",
    "[Browse file online](https://github.com/DavidLeoni/softpython-en/tree/master/for)\n",
    "\n",
    "Let's see some exercise about lists."
   ]
  },
  {
   "cell_type": "markdown",
   "metadata": {},
   "source": [
    "## Exercise - The contest\n",
    "\n",
    "✪ A list of `participant` has won a contest, and now we want to show on a display ther rank. Write some code which MODIFIES the list by writing the rank of the participant next to the name.\n",
    "\n",
    "Example - given:\n",
    "\n",
    "\n",
    "```python\n",
    "partecipants = ['Marta','Peppo','Elisa','Gioele','Rosa']\n",
    "```\n",
    "\n",
    "After your code it must result:\n",
    "\n",
    "```python\n",
    ">>> partecipants\n",
    "['Marta-1', 'Peppo-2', 'Elisa-3', 'Gioele-4', 'Rosa-5']\n",
    "```\n"
   ]
  },
  {
   "cell_type": "raw",
   "id": "94683270",
   "metadata": {
    "format": "text/html"
   },
   "source": [
    "<a  class=\"jupman-sol jupman-sol-toggler\" \n",
    " onclick=\"jupman.toggleSolution(this);\" \n",
    " data-jupman-show=\"Show solution\" data-jupman-hide=\"Hide\">Show solution</a><div class=\"jupman-sol jupman-sol-code\" style=\"display:none\">  "
   ]
  },
  {
   "cell_type": "code",
   "execution_count": 2,
   "metadata": {},
   "outputs": [
    {
     "data": {
      "text/plain": [
       "['Marta-1', 'Peppo-2', 'Elisa-3', 'Gioele-4', 'Rosa-5']"
      ]
     },
     "execution_count": 2,
     "metadata": {},
     "output_type": "execute_result"
    }
   ],
   "source": [
    "\n",
    "partecipants = ['Marta','Peppo','Elisa','Gioele','Rosa']\n",
    "#partecipants = ['Gioele','Carmela','Rosario']\n",
    "\n",
    "# write here\n",
    "\n",
    "for i in range(len(partecipants)):\n",
    "    partecipants[i] = partecipants[i] + '-' + str(i+1)\n",
    "    \n",
    "partecipants"
   ]
  },
  {
   "cell_type": "raw",
   "id": "52835108",
   "metadata": {
    "format": "text/html"
   },
   "source": [
    "</div>"
   ]
  },
  {
   "cell_type": "code",
   "execution_count": 2,
   "metadata": {},
   "outputs": [],
   "source": [
    "\n",
    "partecipants = ['Marta','Peppo','Elisa','Gioele','Rosa']\n",
    "#partecipants = ['Gioele','Carmela','Rosario']\n",
    "\n",
    "# write here\n",
    "\n"
   ]
  },
  {
   "cell_type": "markdown",
   "metadata": {},
   "source": [
    "## Exercise - babbà\n",
    "\n",
    "✪✪ Write some code which given a character `search` to find and a `phrase`, produces a list with all the words containing that character."
   ]
  },
  {
   "cell_type": "raw",
   "id": "1bd9b35c",
   "metadata": {
    "format": "text/html"
   },
   "source": [
    "<a  class=\"jupman-sol jupman-sol-toggler\" \n",
    " onclick=\"jupman.toggleSolution(this);\" \n",
    " data-jupman-show=\"Show solution\" data-jupman-hide=\"Hide\">Show solution</a><div class=\"jupman-sol jupman-sol-code\" style=\"display:none\">  "
   ]
  },
  {
   "cell_type": "code",
   "execution_count": 3,
   "metadata": {},
   "outputs": [
    {
     "name": "stdout",
     "output_type": "stream",
     "text": [
      "['This', 'is', 'donuts,', 'croissant']\n"
     ]
    }
   ],
   "source": [
    "\n",
    "search = 's'   # ['This', 'is', 'donuts,', 'croissant']\n",
    "#search = 'f'  # ['full', 'of', 'coffee']\n",
    "\n",
    "phrase = \"This city is full of donuts, croissant and coffee\"\n",
    "\n",
    "# write here\n",
    "\n",
    "res = []\n",
    "for word in phrase.split():\n",
    "    if search in word:\n",
    "        res.append(word)\n",
    "print(res)        "
   ]
  },
  {
   "cell_type": "raw",
   "id": "f0d7d9ea",
   "metadata": {
    "format": "text/html"
   },
   "source": [
    "</div>"
   ]
  },
  {
   "cell_type": "code",
   "execution_count": 3,
   "metadata": {},
   "outputs": [],
   "source": [
    "\n",
    "search = 's'   # ['This', 'is', 'donuts,', 'croissant']\n",
    "#search = 'f'  # ['full', 'of', 'coffee']\n",
    "\n",
    "phrase = \"This city is full of donuts, croissant and coffee\"\n",
    "\n",
    "# write here\n",
    "\n"
   ]
  },
  {
   "cell_type": "markdown",
   "metadata": {},
   "source": [
    "## Exercise - The Temple of Fortune\n",
    "\n",
    "✪✪ While exporing a temple in the region of Uttar Pradesh, you found precious stones each one with a sacred number carved in it. You are tempted to take them all, but a threating message looms over the stones, telling only the fools takes the numbers without first consult the Oracle. \n",
    "\n",
    "To one side, you find the statue of a Buddha with crossed legs, which keeps a tray with some holes in sequence on his lap. Some hole is filled with a bean, others aren't.\n",
    "\n",
    "Given a list `stones` of numbers and one `oracle` of booleans, write some code which MODIFIES the list `bag` by putting inside only the numbers of `stones` such that there is a `True` in a corresponding position of `oracle`. \n",
    "\n",
    "* assume both the lists have exactly the same dimensions\n",
    "\n",
    "Example - given:"
   ]
  },
  {
   "cell_type": "code",
   "execution_count": 4,
   "metadata": {},
   "outputs": [],
   "source": [
    "stones = [9,    7,     6,    8,    7]   \n",
    "oracle = [True, False, True, True, False]"
   ]
  },
  {
   "cell_type": "markdown",
   "metadata": {},
   "source": [
    "After your code it must result:\n",
    "\n",
    "```python\n",
    ">>> print(bag)\n",
    "[9, 6, 8]\n",
    "```"
   ]
  },
  {
   "cell_type": "raw",
   "id": "451a043a",
   "metadata": {
    "format": "text/html"
   },
   "source": [
    "<a  class=\"jupman-sol jupman-sol-toggler\" \n",
    " onclick=\"jupman.toggleSolution(this);\" \n",
    " data-jupman-show=\"Show solution\" data-jupman-hide=\"Hide\">Show solution</a><div class=\"jupman-sol jupman-sol-code\" style=\"display:none\">  "
   ]
  },
  {
   "cell_type": "code",
   "execution_count": 5,
   "metadata": {},
   "outputs": [
    {
     "name": "stdout",
     "output_type": "stream",
     "text": [
      "[9, 6, 8]\n"
     ]
    }
   ],
   "source": [
    "\n",
    "stones, oracle = [9,7,6,8,7], [True, False, True, True, False]   # [9, 6, 8]\n",
    "#stones, oracle = [3,5,2,3,4,2,4], [True, True, False, True, False, True, False]  # [3,5,3,2]\n",
    "bag = []\n",
    "\n",
    "# write here\n",
    "\n",
    "for i in range(len(stones)):\n",
    "    if oracle[i]:\n",
    "        bag.append(stones[i])\n",
    "        \n",
    "print(bag)"
   ]
  },
  {
   "cell_type": "raw",
   "id": "c385875b",
   "metadata": {
    "format": "text/html"
   },
   "source": [
    "</div>"
   ]
  },
  {
   "cell_type": "code",
   "execution_count": 5,
   "metadata": {},
   "outputs": [],
   "source": [
    "\n",
    "stones, oracle = [9,7,6,8,7], [True, False, True, True, False]   # [9, 6, 8]\n",
    "#stones, oracle = [3,5,2,3,4,2,4], [True, True, False, True, False, True, False]  # [3,5,3,2]\n",
    "bag = []\n",
    "\n",
    "# write here\n",
    "\n"
   ]
  },
  {
   "cell_type": "markdown",
   "metadata": {},
   "source": [
    "## Exercise - the longest word\n",
    "\n",
    "\n",
    "✪✪ Write some code which given a `phrase`, prints the **length** of the longest word.\n",
    "\n",
    "- **NOTE**: we only want to know the length of the longest word, not the word itself!\n",
    "\n",
    "Example - given:\n",
    "\n",
    "```python\n",
    "phrase = \"The hiker is climbing the brink of the mountain\"\n",
    "```\n",
    "\n",
    "your code must print\n",
    "\n",
    "```\n",
    "8\n",
    "```\n",
    "\n",
    "which is the length of the most long word, in this case `climbing` and `mountain` in a tie."
   ]
  },
  {
   "cell_type": "raw",
   "id": "ec1a532d",
   "metadata": {
    "format": "text/html"
   },
   "source": [
    "<a  class=\"jupman-sol jupman-sol-toggler\" \n",
    " onclick=\"jupman.toggleSolution(this);\" \n",
    " data-jupman-show=\"Show solution\" data-jupman-hide=\"Hide\">Show solution</a><div class=\"jupman-sol jupman-sol-code\" style=\"display:none\">  "
   ]
  },
  {
   "cell_type": "code",
   "execution_count": 6,
   "metadata": {},
   "outputs": [
    {
     "name": "stdout",
     "output_type": "stream",
     "text": [
      "8\n"
     ]
    }
   ],
   "source": [
    "\n",
    "phrase = \"The hiker is climbing the brink of the mountain\"  # 8\n",
    "#phrase = \"The fearsome pirate Le Chuck ruled ruthlessly the South seas\"  # 10  \n",
    "#phrase = \"Practically obvious\" # 11\n",
    "\n",
    "# write here\n",
    "\n",
    "lengths = []\n",
    "\n",
    "for word in phrase.split():\n",
    "    lengths.append(len(word))\n",
    "print(max(lengths))"
   ]
  },
  {
   "cell_type": "raw",
   "id": "62810ca2",
   "metadata": {
    "format": "text/html"
   },
   "source": [
    "</div>"
   ]
  },
  {
   "cell_type": "code",
   "execution_count": 6,
   "metadata": {},
   "outputs": [],
   "source": [
    "\n",
    "phrase = \"The hiker is climbing the brink of the mountain\"  # 8\n",
    "#phrase = \"The fearsome pirate Le Chuck ruled ruthlessly the South seas\"  # 10  \n",
    "#phrase = \"Practically obvious\" # 11\n",
    "\n",
    "# write here\n",
    "\n"
   ]
  },
  {
   "cell_type": "markdown",
   "metadata": {},
   "source": [
    "## Exercise - desert\n",
    "\n",
    "\n",
    "✪✪✪ Write some code which given a string `trip` produces a list with all the words which _precede_ the commas.\n",
    "\n",
    "Example - given:"
   ]
  },
  {
   "cell_type": "code",
   "execution_count": 7,
   "metadata": {},
   "outputs": [],
   "source": [
    "trip = \"They crossed deserts, waded across rivers, clambered over the mountains, and finally arrived to the Temple\""
   ]
  },
  {
   "cell_type": "markdown",
   "metadata": {},
   "source": [
    "your code must produce:\n",
    "\n",
    "```python\n",
    "['deserts', 'rivers', 'mountains']\n",
    "```"
   ]
  },
  {
   "cell_type": "raw",
   "id": "236a513d",
   "metadata": {
    "format": "text/html"
   },
   "source": [
    "<a  class=\"jupman-sol jupman-sol-toggler\" \n",
    " onclick=\"jupman.toggleSolution(this);\" \n",
    " data-jupman-show=\"Show solution\" data-jupman-hide=\"Hide\">Show solution</a><div class=\"jupman-sol jupman-sol-code\" style=\"display:none\">  "
   ]
  },
  {
   "cell_type": "code",
   "execution_count": 8,
   "metadata": {},
   "outputs": [
    {
     "data": {
      "text/plain": [
       "['deserts', 'rivers', 'mountains']"
      ]
     },
     "execution_count": 8,
     "metadata": {},
     "output_type": "execute_result"
    }
   ],
   "source": [
    "\n",
    "trip = \"They crossed deserts, waded across rivers, clambered over the mountains, and finally arrived to the Temple\"\n",
    "# ['deserts', 'rivers', 'mountains']\n",
    "#trip = \"They walked with across the strees,the crowded markets, the alleys,the porches, until they found the cathedral.\"\n",
    "# ['strees', 'markets', 'alleys', 'porches']\n",
    "#trip = \"The trip ended.\" \n",
    "# []\n",
    "\n",
    "# write here\n",
    "words = trip.split(',')\n",
    "\n",
    "res = []\n",
    "\n",
    "for phrase in words[:-1]:\n",
    "    res.append(phrase.split()[-1])\n",
    "res"
   ]
  },
  {
   "cell_type": "raw",
   "id": "709d28c7",
   "metadata": {
    "format": "text/html"
   },
   "source": [
    "</div>"
   ]
  },
  {
   "cell_type": "code",
   "execution_count": 8,
   "metadata": {},
   "outputs": [],
   "source": [
    "\n",
    "trip = \"They crossed deserts, waded across rivers, clambered over the mountains, and finally arrived to the Temple\"\n",
    "# ['deserts', 'rivers', 'mountains']\n",
    "#trip = \"They walked with across the strees,the crowded markets, the alleys,the porches, until they found the cathedral.\"\n",
    "# ['strees', 'markets', 'alleys', 'porches']\n",
    "#trip = \"The trip ended.\" \n",
    "# []\n",
    "\n",
    "# write here\n",
    "\n"
   ]
  },
  {
   "cell_type": "markdown",
   "metadata": {},
   "source": [
    "## Exercise - splash\n",
    "\n",
    "✪✪✪ Given a `lst` of odd length filled with zeros except the number in the middle, write some code which MODIFIES the list to write numbers which decrease according to the distance from the middle.\n",
    "\n",
    "- the length of the list is always odd\n",
    "- assume the list is always long enough to host a zero at each side\n",
    "- a list of dimension 1 will only contain a zero\n",
    "\n",
    "Example 1 - given: \n",
    "\n",
    "```python\n",
    "lst = [0, 0, 0, 0, 4, 0, 0, 0, 0]\n",
    "```\n",
    "\n",
    "After your code, it must result:\n",
    "\n",
    "\n",
    "```python\n",
    ">>> lst\n",
    "[0, 1, 2, 3, 4, 3, 2, 1, 0]\n",
    "```\n",
    "\n",
    "Example 2 - given:\n",
    "\n",
    "```python\n",
    "lst = [0, 0, 0, 3, 0, 0, 0]\n",
    "```\n",
    "\n",
    "after your code, it must result:\n",
    "\n",
    "```python\n",
    ">>> lst\n",
    "[0, 1, 2, 3, 2, 1, 0]\n",
    "```"
   ]
  },
  {
   "cell_type": "raw",
   "id": "9c3eb578",
   "metadata": {
    "format": "text/html"
   },
   "source": [
    "<a  class=\"jupman-sol jupman-sol-toggler\" \n",
    " onclick=\"jupman.toggleSolution(this);\" \n",
    " data-jupman-show=\"Show solution\" data-jupman-hide=\"Hide\">Show solution</a><div class=\"jupman-sol jupman-sol-code\" style=\"display:none\">  "
   ]
  },
  {
   "cell_type": "code",
   "execution_count": 9,
   "metadata": {},
   "outputs": [
    {
     "data": {
      "text/plain": [
       "[0, 1, 2, 3, 4, 3, 2, 1, 0]"
      ]
     },
     "execution_count": 9,
     "metadata": {},
     "output_type": "execute_result"
    }
   ],
   "source": [
    "\n",
    "lst = [0, 0, 0, 0, 4, 0, 0, 0, 0] # -> [0, 1, 2, 3, 4, 3, 2, 1, 0]\n",
    "#lst = [0, 0, 0, 3, 0, 0, 0]      # -> [0, 1, 2, 3, 2, 1, 0]\n",
    "#lst = [0, 0, 2, 0, 0]            # -> [0, 1, 2, 1, 0]\n",
    "#lst = [0]  # -> [0]\n",
    "\n",
    "# write here\n",
    "\n",
    "m = len(lst) // 2\n",
    "\n",
    "for i in range(m):\n",
    "    lst[m+i] = m - i\n",
    "    \n",
    "for i in range(m):\n",
    "    lst[i] = i\n",
    "lst"
   ]
  },
  {
   "cell_type": "raw",
   "id": "341c1d2d",
   "metadata": {
    "format": "text/html"
   },
   "source": [
    "</div>"
   ]
  },
  {
   "cell_type": "code",
   "execution_count": 9,
   "metadata": {},
   "outputs": [],
   "source": [
    "\n",
    "lst = [0, 0, 0, 0, 4, 0, 0, 0, 0] # -> [0, 1, 2, 3, 4, 3, 2, 1, 0]\n",
    "#lst = [0, 0, 0, 3, 0, 0, 0]      # -> [0, 1, 2, 3, 2, 1, 0]\n",
    "#lst = [0, 0, 2, 0, 0]            # -> [0, 1, 2, 1, 0]\n",
    "#lst = [0]  # -> [0]\n",
    "\n",
    "# write here\n",
    "\n"
   ]
  },
  {
   "cell_type": "markdown",
   "metadata": {},
   "source": [
    "## Continue\n",
    "\n",
    "Go on with exercises about [iterating tuples](https://en.softpython.org/for/for4-tuples-sol.html)"
   ]
  }
 ],
 "metadata": {
  "kernelspec": {
   "display_name": "Python 3 (ipykernel)",
   "language": "python",
   "name": "python3"
  },
  "language_info": {
   "codemirror_mode": {
    "name": "ipython",
    "version": 3
   },
   "file_extension": ".py",
   "mimetype": "text/x-python",
   "name": "python",
   "nbconvert_exporter": "python",
   "pygments_lexer": "ipython3",
   "version": "3.7.10"
  },
  "toc": {
   "base_numbering": 1,
   "nav_menu": {},
   "number_sections": false,
   "sideBar": true,
   "skip_h1_title": false,
   "title_cell": "Table of Contents",
   "title_sidebar": "Contents",
   "toc_cell": false,
   "toc_position": {},
   "toc_section_display": true,
   "toc_window_display": false
  }
 },
 "nbformat": 4,
 "nbformat_minor": 2
}
