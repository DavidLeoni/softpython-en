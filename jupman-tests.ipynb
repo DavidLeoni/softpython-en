{
 "cells": [
  {
   "cell_type": "code",
   "execution_count": 1,
   "metadata": {
    "nbsphinx": "hidden"
   },
   "outputs": [
    {
     "data": {
      "text/html": [
       "<style>\n",
       "\n",
       "    #jupman-nav {\n",
       "        position: fixed;\n",
       "        top: 10px; \n",
       "        left: 5px; \n",
       "        background: white;\n",
       "        width: 200px; \n",
       "        padding: 10px; \n",
       "        z-index: 10;\n",
       "    }\n",
       "\n",
       "    /* style=\"background: rgba(255, 255, 255, 0);\" class=\"unstyled\" */\n",
       "  \n",
       "    #jupman-toc {\n",
       "        position: fixed;\n",
       "        top: 100px; \n",
       "        left: -55px; \n",
       "        background: rgba(255, 255, 255, 0);\n",
       "        \n",
       "        height: 80%;\n",
       "        width: 200px; \n",
       "        padding: 20px; \n",
       "        z-index: 10;\n",
       "        overflow-y: scroll;        \n",
       "            /* font-size: 50%; */\n",
       "    }\n",
       "\n",
       "    \n",
       "    \n",
       "    code {\n",
       "        background-color:rgb(245, 249, 249) !important;\n",
       "    }\n",
       "    \n",
       "    \n",
       "    .jupman-nav-item {\n",
       "        font-weight:bold;\n",
       "        font-size:120%  \n",
       "    }\n",
       "    \n",
       "    .jupman-chapter-link {\n",
       "        font-size:150%;\n",
       "        margin-right:15px;        \n",
       "    }\n",
       "    \n",
       "    .jupman-chapter-link a {\n",
       "        text-decoration: none;\n",
       "    }    \n",
       "    \n",
       "    .jupman-title {\n",
       "        font-size:250%; \n",
       "        font-weight:bold        \n",
       "    }    \n",
       "        \n",
       "    .jupman-warn {    \n",
       "        background-color: #fcf2f2;        \n",
       "        border-left: 5px solid #dfb5b4;\n",
       "        padding: 1.5em;\n",
       "        font-weight:bold;\n",
       "        margin-bottom:10px;\n",
       "    }\n",
       "\n",
       "    .jupman-question {    \n",
       "        background-color: rgb(251, 231, 250);\n",
       "        border-left: 5px solid rgb(189, 151, 184);\n",
       "        padding: 1.5em;\n",
       "        font-weight:bold;\n",
       "        margin-bottom:10px;\n",
       "    }\n",
       "        \n",
       "    \n",
       "    .jupman-important {\n",
       "        background-color: rgba(255, 238, 0, 0.31);\n",
       "        border-left: 5px solid rgba(205, 208, 0, 1.0);\n",
       "        color: #000;        \n",
       "        padding: 1.5em;\n",
       "        font-weight:bold;\n",
       "        margin-bottom:10px;\n",
       "    }\n",
       "    \n",
       "    \n",
       "    #jupman-toc ul {                                                                                                                                                                           \n",
       "        list-style-type: none;                                                                                                                                                                 \n",
       "        margin-left: 5px;\n",
       "    }\n",
       "    \n",
       "    #jupman-toc li {        \n",
       "         padding-left: 3px;\n",
       "    }    \n",
       "    \n",
       "    #jupman-toc .h1 {\n",
       "        font-size:110%; \n",
       "        \n",
       "    }\n",
       "    \n",
       "    #jupman-toc .h2 {\n",
       "        font-size:100%; \n",
       "        padding-left:15px;\n",
       "    }\n",
       "\n",
       "    #jupman-toc .h3 {\n",
       "        font-size:100%; \n",
       "        padding-left:25px;\n",
       "    }\n",
       "    \n",
       "    \n",
       "    \n",
       "    #notebook-container {\n",
       "        box-shadow : none;\n",
       "    -web-kit-box-shadow: none;\n",
       "    }\n",
       "    \n",
       "\n",
       "    #jupman-toc .toc-active {\n",
       "        background: rgba(168, 254, 255, 0.32);\n",
       "    }\n",
       "\n",
       "    .jupman-solution {       \n",
       "        padding:1px;\n",
       "    }\n",
       "\n",
       "    .jupman-solution-header {\n",
       "        display:none;\n",
       "        color: blue;\n",
       "        text-decoration: underline;\n",
       "        cursor: pointer;\n",
       "    }\n",
       "\n",
       "\n",
       "\n",
       "\n",
       " </style>\n",
       "\n",
       "<script>\n",
       "var JUPMAN_IN_JUPYTER = true;\n",
       "\n",
       "/*\n",
       " * JUPYTER MANAGER JavaScript https://github.com/DavidLeoni/jupman \n",
       " * \n",
       " */\n",
       "\n",
       "function toggleVisibility(what){\n",
       "        var e = document.getElementById(what);\n",
       "        if(e.style.display == 'block')\n",
       "          e.style.display = 'none';\n",
       "        else\n",
       "          e.style.display = 'block';\n",
       "    };\n",
       "    \n",
       "\n",
       "function showthis(url) {\n",
       "    window.open(url, \"pres\", \"toolbar=yes,scrollbars=yes,resizable=yes,top=10,left=400,width=500,height=500\");\n",
       "    return(false);\n",
       "}\n",
       "\n",
       "var jupman = {\n",
       "    \n",
       "    /** \n",
       "        Checks if toc was injected in the script. \n",
       "    */\n",
       "    hasToc : function(){\n",
       "        return $('#jupman-toc').toc;\n",
       "    },\n",
       "    \n",
       "    isReduced : function(){\n",
       "        return $(window).width() < 924;\n",
       "    },\n",
       "    hoverToc : function(){\n",
       "        return $('#jupman-toc:hover').length != 0;\n",
       "    },\n",
       "    resize : function(){\n",
       "        if (jupman.isReduced()){\n",
       "            $(\"#jupman-toc\").hide();\n",
       "                \n",
       "        } else {\n",
       "            $(\"#jupman-toc\").show();\n",
       "            $(\"#jupman-toc\").css(\"background\",\"rgba(255, 255, 255, 0)\");\n",
       "            \n",
       "            tocParams = {\n",
       "                \n",
       "                'selectors': 'h1,h2,h3', //elements to use as headings\n",
       "                'container': 'body', //element to find all selectors in\n",
       "                'smoothScrolling': true, //enable or disable smooth scrolling on click\n",
       "                 //doesn't work  'prefix': 'jupman-toc', //prefix for anchor tags and class names\n",
       "                //'onHighlight': function(el) {}, //called when a new section is highlighted \n",
       "                'highlightOnScroll': true, //add class to heading that is currently in focus\n",
       "                'highlightOffset': 100, //offset to trigger the next headline\n",
       "                'anchorName': function(i, heading, prefix) { //custom function for anchor name\n",
       "                    return prefix+i;\n",
       "                },\n",
       "                'headerText': function(i, heading, $heading) { //custom function building the header-item text                  \n",
       "                    return $heading.text().replace(\"¶\",\"\");\n",
       "                },\n",
       "                'itemClass': function(i, heading, $heading, prefix) { // custom function for item class\n",
       "                    return $heading[0].tagName.toLowerCase();\n",
       "                }                \n",
       "            }\n",
       "            \n",
       "            if (jupman.hasToc()){\n",
       "                $('#jupman-toc').toc(tocParams);\n",
       "            }\n",
       "        }\n",
       "    },\n",
       "    /**\n",
       "        Hides cell input\n",
       "        \n",
       "        Renamed in 0.19\n",
       "    */    \n",
       "    hideCell : function(prefixOrRegex){\n",
       "        \n",
       "        $('.border-box-sizing .code_cell pre').filter(function() { \n",
       "                var t = $(this).text();\n",
       "                if (typeof prefixOrRegex == \"string\"){\n",
       "                    return t.indexOf(prefixOrRegex) === 0;\n",
       "                } else if ( prefixOrRegex instanceof RegExp){\n",
       "                    return t.match(prefixOrRegex);\n",
       "                } else {\n",
       "                    console.error(\"Invalid argument:\", prefixOrRegex);\n",
       "                    throw new Error(\"Invalid argument!\");\n",
       "                }\n",
       "            }).parents('div .cell .input').hide();        \n",
       "    },\n",
       "    /**\n",
       "        Hides the cell input AND output.\n",
       "        \n",
       "        @since 0.19\n",
       "    */\n",
       "    hideCellAll : function(prefixOrRegex){        \n",
       "        $('.border-box-sizing .code_cell pre').filter(function() { \n",
       "                var t = $(this).text();\n",
       "                if (typeof prefixOrRegex == \"string\"){\n",
       "                    return t.indexOf(prefixOrRegex) === 0;\n",
       "                } else if ( prefixOrRegex instanceof RegExp){\n",
       "                    return t.match(prefixOrRegex);\n",
       "                } else {\n",
       "                    console.error(\"Invalid argument:\", prefixOrRegex);\n",
       "                    throw new Error(\"Invalid argument!\");\n",
       "                }\n",
       "            }).parents('div .cell ').hide();        \n",
       "    },\n",
       "    \n",
       "    toggleVisibility: function(what){\n",
       "        var e = document.getElementById(what);\n",
       "        if(e.style.display == 'block')\n",
       "          e.style.display = 'none';\n",
       "        else\n",
       "          e.style.display = 'block';\n",
       "    },\n",
       "    \n",
       "    /**\n",
       "     *  Code common to both jupman in jupyter and ReadTheDocs\n",
       "    */\n",
       "    initCommon : function(){\n",
       "        \n",
       "        $(\".jupman-solution-header\").remove();\n",
       "        span = $('<div>');\n",
       "        span.addClass('jupman-solution-header');\n",
       "        span.text('Show/hide solution');\n",
       "        \n",
       "        span.insertBefore(\".jupman-solution\");\n",
       "        \n",
       "        \n",
       "        $(\".jupman-solution\").hide();\n",
       "        $(\".jupman-solution-header\").show();\n",
       "\n",
       "        $('.jupman-solution-header')\n",
       "            .off('click')\n",
       "            .click(function(){\n",
       "                \n",
       "                var uls = $(this).nextAll(\".jupman-solution\");             \n",
       "                var sibling = uls.eq(0);\n",
       "                          \n",
       "                sibling.slideToggle();        \n",
       "                ev.preventDefault();\n",
       "                ev.stopPropagation();\n",
       "        });\n",
       "\n",
       "    },\n",
       "\n",
       "    /**\n",
       "     *   Jupyter only instructions - doesn't run on ReadTheDocs\n",
       "     */\n",
       "    initJupyter : function(){\n",
       "        \n",
       "       var toc = $(\"<div>\").attr(\"id\", \"jupman-toc\");              \n",
       "                                                             \n",
       "       var nav = $(\"<div>\")\n",
       "                     .attr(\"id\", \"jupman-nav\")\n",
       "                    \n",
       "        \n",
       "        \n",
       "       // ****************************     WARNING      ********************************\n",
       "       //         THIS HIDE STUFF DOES NOT WORK IN SPHINX, ONLY WORKS WHEN YOU MANUALLY EXPORT TO HTML \n",
       "       // ******************************************************************************\n",
       "       jupman.hideCell(\"%%HTML\");\n",
       "       jupman.hideCell(\"import jupman\");\n",
       "       \n",
       "        // TODO this is a bit too hacky   \n",
       "       jupman.hideCell(/from exercise(.+)_solution import \\*/)\n",
       "       \n",
       "       jupman.hideCellAll(/.*jupman_init.*/); \n",
       "       jupman.hideCell(\"jupman_show_run(\");\n",
       "       jupman.hideCell(\"nxpd.draw(\");\n",
       "       jupman.hideCellAll(\"jupman_run(\"); \n",
       "       \n",
       "       if (jupman.hasToc()){\n",
       "           if ($(\"#jupman-toc\").length === 0){\n",
       "               $(\"body\").append(toc);       \n",
       "           } else {\n",
       "               $(\"#jupman-toc\").replaceWith(toc);\n",
       "           }\n",
       "       } else {\n",
       "           $(\"#jupman-toc\").hide();\n",
       "       }\n",
       "       \n",
       "       if ($(\"#jupman-nav\").length === 0){\n",
       "           $(\"body\").append(nav);       \n",
       "       } else {\n",
       "           $(\"#jupman-nav\").replaceWith(nav);\n",
       "       }              \n",
       "\n",
       "       \n",
       "        $( window ).resize(function() {\n",
       "            jupman.resize();\n",
       "        });\n",
       "\n",
       "\n",
       "        $(\"body\").on(\"mousemove\",function(event) {\n",
       "            if (jupman.isReduced()){\n",
       "                if (event.pageX < 50) {            \n",
       "                     $(\"#jupman-toc\").show(); \n",
       "                     $(\"#jupman-toc\").css(\"background\",\"rgba(255, 255, 255, 1.0)\");\n",
       "                } else {\n",
       "                    if (jupman.hoverToc()) {                    \n",
       "                    } else {\n",
       "                        $(\"#jupman-toc\").hide();                        \n",
       "                    }\n",
       "\n",
       "        /*            if ($(\"#jupman-toc\").is(\":visible\")){\n",
       "                        if (jupman.hoverToc()) {                    \n",
       "                        } else {\n",
       "                            $(\"#jupman-toc\").hide();                        \n",
       "                        }\n",
       "                    } else {\n",
       "                        if (jupman.hoverToc())\n",
       "                          show\n",
       "                      } else {\n",
       "                        $(\"#jupman-toc\").hide();                        \n",
       "                       }                 \n",
       "                    }\n",
       "          */     \n",
       "                }\n",
       "            }\n",
       "        });\n",
       " \n",
       "        \n",
       "       jupman.resize();\n",
       "       console.log(\"Finished initializing jupman.js in Jupyter Notebook.\")\n",
       "    },\n",
       "    \n",
       "    /**\n",
       "    * RTD only instructions\n",
       "    */\n",
       "    initReadTheDocs : function(){  \n",
       "        \n",
       "        console.log(\"initializing jupman.js in ReadTheDocs ...\")\n",
       "        \n",
       "        console.log(\"Fixing menu clicks for https://github.com/DavidLeoni/jupman/issues/38\")\n",
       "\n",
       "        // function copied as is from\n",
       "        // https://github.com/readthedocs/sphinx_rtd_theme/blob/master/src/theme.js#L190\n",
       "        var toggleCurrent = function (elem) {\n",
       "            var parent_li = elem.closest('li');\n",
       "            parent_li.siblings('li.current').removeClass('current');\n",
       "            parent_li.siblings().find('li.current').removeClass('current');\n",
       "            parent_li.find('> ul li.current').removeClass('current');\n",
       "            parent_li.toggleClass('current');\n",
       "        }        \n",
       "\n",
       "        \n",
       "        var fix = function(prefix){\n",
       "\n",
       "            s = 'a.reference.internal[href^=\"' + prefix + 'toc.html\"]'\n",
       "\n",
       "            // DIRTY: THIS IS A POTENTIAL BUG: IF 'index' is not the last one it won't be selected !\n",
       "           //  Made so because index may be translated in other languages   \n",
       "\n",
       "            var link = $(s).not(\":last\")\n",
       "            var span = $(s + ' > span');\n",
       "            span.off('click')\n",
       "\n",
       "            link.on('click', function (ev) {\n",
       "                ev.preventDefault();\n",
       "                toggleCurrent($(this));\n",
       "                ev.stopPropagation();\n",
       "                return false;\n",
       "            });\n",
       "        }\n",
       "\n",
       "        fix('')\n",
       "        fix('../')\n",
       "        fix('../../')    // probably useless but just in case ...\n",
       "        fix('../../../') // probably useless but just in case ... \n",
       "\n",
       "        console.log(\"Fixing Python Tutor overflow ...\");\n",
       "        \n",
       "        // need it in js as there are no css parent selectors.\n",
       "        // NOTE: these selectors are different from Jupyter ones !!!\n",
       "        var pytuts = $('.pytutorVisualizer')        \n",
       "        pytuts.closest('div.output_area.rendered_html.docutils.container')\n",
       "              .css('overflow', 'visible')\n",
       "\n",
       "        console.log(\"Finished initializing jupman.js in ReadTheDocs\")    \n",
       "    },\n",
       "    \n",
       "    /**\n",
       "     * Initializes jupman.js\n",
       "     */\n",
       "    init : function(){\n",
       "\n",
       "       jupman.initCommon();\n",
       "        \n",
       "       if (typeof JUPMAN_IN_JUPYTER === \"undefined\" || !JUPMAN_IN_JUPYTER ){            \n",
       "           jupman.initReadTheDocs();\n",
       "       } else {\n",
       "           jupman.initJupyter();\n",
       "       }\n",
       "        \n",
       "    }\n",
       "}\n",
       "\n",
       "$(document).ready(jupman.init);\n",
       "\n",
       "</script>\n"
      ],
      "text/plain": [
       "<IPython.core.display.HTML object>"
      ]
     },
     "execution_count": 1,
     "metadata": {},
     "output_type": "execute_result"
    }
   ],
   "source": [
    "import jupman;\n",
    "jupman.init()"
   ]
  },
  {
   "cell_type": "markdown",
   "metadata": {},
   "source": [
    "# Jupman Tests\n",
    "\n",
    "In this page we put some tests for Jupyter. The page Title has one sharp, the Sections always have two sharps.\n",
    "\n",
    "## Sezione 1\n",
    "\n",
    "bla bla \n",
    "\n",
    "## Sezione 2\n",
    "\n",
    "Subsections always have three sharps\n",
    "\n",
    "### Subsection 1\n",
    "bla bla \n",
    "\n",
    "### Subsection 2\n",
    "bla bla \n"
   ]
  },
  {
   "cell_type": "markdown",
   "metadata": {},
   "source": [
    "## Download links\n",
    "\n",
    "Files manually put in `_static` : \n",
    "\n",
    "* Download [trial.odt](_static/trial.odt)\n",
    "* Download [trial.pdf](_static/trial.pdf)\n",
    "\n",
    "Files in arbitrary folder position : \n",
    "\n",
    "* Download [requirements.txt](requirements.txt)\n",
    "\n",
    "NOTE: download links are messy, [see issue 8](https://github.com/DavidLeoni/jupman/issues/8)\n",
    "\n",
    "\n"
   ]
  },
  {
   "cell_type": "markdown",
   "metadata": {
    "collapsed": true
   },
   "source": [
    "## Info/Warning Boxes\n",
    "\n",
    "Until there is an info/warning extension for Markdown/CommonMark (see this issue), such boxes can be created by using HTML <div> elements like this:"
   ]
  },
  {
   "cell_type": "markdown",
   "metadata": {},
   "source": [
    "<div class=\"alert alert-info\">\n",
    "\n",
    "**Note:** This is an info!\n",
    "\n",
    "</div>"
   ]
  },
  {
   "cell_type": "markdown",
   "metadata": {},
   "source": [
    "<div class=\"alert alert-warning\">\n",
    "\n",
    "**Note:** This is a warn!\n",
    "\n",
    "</div>"
   ]
  },
  {
   "cell_type": "markdown",
   "metadata": {},
   "source": [
    "For this to work reliably, you should obey the following guidelines:\n",
    "\n",
    "* The class attribute has to be either \"alert alert-info\" or \"alert alert-warning\", other values will not be converted correctly.\n",
    "* No further attributes are allowed.\n",
    "* For compatibility with CommonMark, you should add an empty line between the <div> start tag and the beginning of the content.\n"
   ]
  },
  {
   "cell_type": "markdown",
   "metadata": {},
   "source": [
    "\n",
    "## Math\n",
    "\n",
    "For math stuff, [see npshpinx docs](https://nbsphinx.readthedocs.io/en/0.2.14/markdown-cells.html#Equations)\n",
    "\n",
    "Here we put just some equation to show it behaves fine in Jupman\n",
    "\n",
    "This is infinity: $\\infty$ "
   ]
  },
  {
   "cell_type": "markdown",
   "metadata": {},
   "source": [
    "## Unicode \n",
    "\n",
    "Unicode characters should display an HTML, but with latex you might have problems, and need to manually map characters in conf.py\n",
    "\n",
    "\n",
    "You should see a star in a black circle: ✪ \n",
    "\n",
    "You should see a check: ✓\n",
    "\n",
    "table characters: │ ├ └ ─"
   ]
  },
  {
   "cell_type": "markdown",
   "metadata": {},
   "source": [
    "## Image\n",
    "\n",
    "### SVG Images\n",
    "\n",
    "SVG images work in notebook, but here it is commented since it breaks Latex, [see issue](https://github.com/DavidLeoni/jupman/issues/1)\n",
    "\n",
    "```\n",
    "![An image](img/cc-by.svg)\n",
    "```\n",
    "\n",
    "This one also doesn't works (and shows ugly code in the notebook anyway)\n",
    "\n",
    "```\n",
    "from IPython.display import SVG\n",
    "SVG(filename='img/cc-by.svg')\n",
    "```\n"
   ]
  },
  {
   "cell_type": "markdown",
   "metadata": {},
   "source": [
    "### PNG Images\n",
    "\n",
    "![A PNG image](_static/img/notebook_icon.png)"
   ]
  },
  {
   "cell_type": "markdown",
   "metadata": {},
   "source": [
    "## Expressions list\n",
    "\n",
    "Highlighting **does** work both in Jupyter and Sphinx\n",
    "\n",
    "Three quotes, multiple lines - Careful: put **exactly 4 spaces** indentation\n",
    "\n",
    "1.  ```python \n",
    "    [2,3,1] != \"[2,3,1]\"\n",
    "    ```\n",
    "1.  ```python \n",
    "    [4,8,12] == [2*2,\"4*2\",6*2]\n",
    "    ```\n",
    "1.  ```python \n",
    "    [][:] == []\n",
    "    ```"
   ]
  },
  {
   "cell_type": "markdown",
   "metadata": {},
   "source": [
    "Three quotes, multiple lines, more compact - works in Jupyter,  **doesn't** in Sphinx\n",
    "\n",
    "1.  ```python \n",
    "    [2,3,1] != \"[2,3,1]\"```\n",
    "1.  ```python \n",
    "    [4,8,12] == [2*2,\"4*2\",6*2]```\n",
    "1.  ```python \n",
    "    [][:] == []```"
   ]
  },
  {
   "cell_type": "markdown",
   "metadata": {},
   "source": [
    "Highlighting **doesn't** work in Jupyter neither in Sphinx:\n",
    "\n",
    "Three quotes, single line\n",
    "\n",
    "1. ```python [2,3,1] != [\"2\",3,1]```\n",
    "1. ```python [4,8,12] == [2*2,\"4*2\",6*2]```\n",
    "1. ```python [][:] == \"[]\"```\n",
    "\n",
    "Single quote, single line\n",
    "\n",
    "1. `python [2,3,1] != [\"2\",3,1]`\n",
    "1. `python [4,8,12] == [2*2,\"4*2\",6*2]`\n",
    "1. `python [][:] == \"[]\"`\n"
   ]
  },
  {
   "cell_type": "markdown",
   "metadata": {},
   "source": [
    "## Toggable cells\n",
    "\n",
    "There are various ways to have toggable cells, for example for showing exercise solutions. Some of the solutions just don't work. Preferred solution for now is with Javascript\n",
    "\n",
    "### Toggling with Javascript (PREFERRED)\n",
    "\n",
    "* Works in MarkDown\n",
    "* Works while in Jupyter\n",
    "* Works in HTML\n",
    "* Does not show in Latex (which might be a good point, if you intend to put somehow solutions at the end of the document)\n",
    "* NOTE: after creating the text to see the results you have to run the initial cell with jupman.init (as for the toc) \n",
    "* NOTE: you can't use Markdown block code since of Sept 2017 doesn't show well in HTML output \n",
    "\n",
    "<div class=\"jupman-solution\">\n",
    "\n",
    "<code>\n",
    "<pre>\n",
    "    # FIRST SOLUTION\n",
    "    question = raw_input(\"What?\")\n",
    "    answers = random.randint(1,8)\n",
    "    if question == \"\":\n",
    "        sys.exit()\n",
    "</pre>\n",
    "</code>\n",
    "</div>\n",
    "\n",
    "<div class=\"jupman-solution\">\n",
    "\n",
    "<code>\n",
    "<pre>\n",
    "    # SECOND SOLUTION\n",
    "    question = raw_input(\"SECOND SOLUTION\")\n",
    "    answers = random.randint(1,8)\n",
    "    if question == \"\":\n",
    "        sys.exit()\n",
    "        \n",
    "</pre>\n",
    "</code>\n",
    "</div>"
   ]
  },
  {
   "cell_type": "markdown",
   "metadata": {},
   "source": [
    "## HTML details in Markdown, code tag \n",
    "\n",
    "* Works while in Jupyter\n",
    "* Doesn't work in HTML output\n",
    "* as of Sept Oct 2017, not yet supported in Microsoft browsers\n",
    "\n",
    "<details>\n",
    "\n",
    "<summary>Click here to see the code</summary>\n",
    "\n",
    "<code>\n",
    "\n",
    "    question = raw_input(\"What?\")\n",
    "    answers = random.randint(1,8)\n",
    "    if question == \"\":\n",
    "        sys.exit()\n",
    "</code>\n",
    "\n",
    "</details>\n"
   ]
  },
  {
   "cell_type": "markdown",
   "metadata": {},
   "source": [
    "### HTML details in Markdown, Markdown mixed code\n",
    "\n",
    "* Works while in Jupyter \n",
    "* Doesn't work in HTML output\n",
    "* as of Sept Oct 2017, not yet supported in Microsoft browsers\n",
    "\n",
    "\n",
    "<details>\n",
    "\n",
    "<summary>Click here to see the code</summary>\n",
    "\n",
    "```python\n",
    "    question = raw_input(\"What?\")\n",
    "    answers = random.randint(1,8)\n",
    "    if question == \"\":\n",
    "        sys.exit()\n",
    "```\n",
    "\n",
    "</details>\n"
   ]
  },
  {
   "cell_type": "markdown",
   "metadata": {},
   "source": [
    "### HTML details in HTML, raw NBConvert Format \n",
    "\n",
    "* Doesn't work in Jupyter\n",
    "* Works in HTML output\n",
    "    * NOTE: as of Sept Oct 2017, not yet supported in Microsoft browsers\n",
    "* Doesn't show at all in PDF output\n"
   ]
  },
  {
   "cell_type": "raw",
   "metadata": {
    "raw_mimetype": "text/html"
   },
   "source": [
    "<details>\n",
    "<summary>Click here to see the code</summary>\n",
    "<code>\n",
    "<pre>\n",
    "    question = raw_input(\"What?\")\n",
    "    answers = random.randint(1,8)\n",
    "    if question == \"\":\n",
    "        sys.exit()\n",
    "</pre>\n",
    "</code>\n",
    "</details>"
   ]
  },
  {
   "cell_type": "markdown",
   "metadata": {},
   "source": [
    "Some other Markdown cell aftwerwards ...."
   ]
  },
  {
   "cell_type": "markdown",
   "metadata": {},
   "source": [
    "## Files in templates\n",
    "\n",
    "Since Dec 2019 they are not accessible [see issue 10](https://github.com/DavidLeoni/jupman/issues/10), but it is not a great problem, you can always put a link to Github, see for example [exam-yyyy-mm-dd.ipynb](https://github.com/DavidLeoni/jupman/tree/master/_templates/exam/exam-yyyy-mm-dd.ipynb)"
   ]
  },
  {
   "cell_type": "markdown",
   "metadata": {},
   "source": [
    "## Python tutor\n",
    "\n",
    "There are various ways to embed Python tutor, first we put the recommended one."
   ]
  },
  {
   "cell_type": "markdown",
   "metadata": {},
   "source": [
    "###  jupman.pytut"
   ]
  },
  {
   "cell_type": "markdown",
   "metadata": {},
   "source": [
    "**RECOMMENDED**: You can put a call to `jupman.pytut()` at the end of a cell, and the cell code will magically appear in python tutor in the output (except the call to `pytut()` of course). \n",
    "Does not need internet  connection."
   ]
  },
  {
   "cell_type": "code",
   "execution_count": 2,
   "metadata": {},
   "outputs": [
    {
     "data": {
      "text/html": [
       "\n",
       "        <script src=\"_static/js/pytutor-embed.bundle.min.js\" type=\"application/javascript\"></script>\n",
       "     \n",
       "        <script id=\"json-jm94543afc-032c-4a13-9d2e-b17eeb44863e\" type=\"application/json\" >\n",
       "            {\"trace\": [{\"line\": 2, \"heap\": {}, \"event\": \"step_line\", \"stack_to_render\": [], \"ordered_globals\": [], \"stdout\": \"\", \"func_name\": \"<module>\", \"globals\": {}}, {\"line\": 3, \"heap\": {\"1\": [\"LIST\", 5, 8, 4, 10, 30, 20, 40, 50, 60, 70, 20, 30]}, \"event\": \"step_line\", \"stack_to_render\": [], \"ordered_globals\": [\"x\"], \"stdout\": \"\", \"func_name\": \"<module>\", \"globals\": {\"x\": [\"REF\", 1]}}, {\"line\": 4, \"heap\": {\"1\": [\"LIST\", 5, 8, 4, 10, 30, 20, 40, 50, 60, 70, 20, 30], \"2\": [\"DICT\", [3, 9]]}, \"event\": \"step_line\", \"stack_to_render\": [], \"ordered_globals\": [\"x\", \"y\"], \"stdout\": \"\", \"func_name\": \"<module>\", \"globals\": {\"x\": [\"REF\", 1], \"y\": [\"REF\", 2]}}, {\"line\": 4, \"heap\": {\"1\": [\"LIST\", 5, 8, 4, 10, 30, 20, 40, 50, 60, 70, 20, 30], \"2\": [\"DICT\", [3, 9]], \"3\": [\"LIST\", [\"REF\", 1]]}, \"event\": \"return\", \"stack_to_render\": [], \"ordered_globals\": [\"x\", \"y\", \"z\"], \"stdout\": \"\", \"func_name\": \"<module>\", \"globals\": {\"z\": [\"REF\", 3], \"x\": [\"REF\", 1], \"y\": [\"REF\", 2]}}], \"code\": \" \\nx = [5,8,4,10,30,20,40,50,60,70,20,30]\\ny= {3:9}\\nz = [x]\"}\n",
       "        </script>\n",
       "        <div id=\"jm94543afc-032c-4a13-9d2e-b17eeb44863e\" class=\"pytutorVisualizer\"> </div>\n",
       " \n",
       "        <style>\n",
       "        .vizLayoutTd {\n",
       "            background-color: #fff !important;\n",
       "        }\n",
       "                            \n",
       "        #pyStdout {\n",
       "            min-height:20px;\n",
       "        }\n",
       "\n",
       "        /* 'Edit this code' link, hiding because replaces browser tab !!!*/\n",
       "        #editCodeLinkDiv {\n",
       "            display:none;  \n",
       "        }\n",
       "        </style>   \n",
       "                            \n",
       "        <script>\n",
       "        (function(){\n",
       "\n",
       "            var trace = JSON.parse(document.getElementById('json-jm94543afc-032c-4a13-9d2e-b17eeb44863e').innerHTML);                                        \n",
       "            // NOTE 1: id without #\n",
       "            // NOTE 2 - maybe there are more predictable ways, but this will work anyway\n",
       "            //        - id should be number\n",
       "            visualizerIdOverride = Math.trunc(Math.random() * 100000000000)\n",
       "            addVisualizerToPage(trace, 'jm94543afc-032c-4a13-9d2e-b17eeb44863e',{'embeddedMode' : false,\n",
       "                                             'visualizerIdOverride':visualizerIdOverride})  \n",
       "            \n",
       "            \n",
       "            // set overflow for pytuts - need to do in python as css \n",
       "            // does not allow parent selection\n",
       "            var pytuts = $('.pytutorVisualizer')\n",
       "            pytuts.closest('div.output_html.rendered_html.output_result')\n",
       "                    .css('overflow-x', 'visible')\n",
       "        \n",
       "            //pytuts.closest('div.output_html.rendered_html.output_result')\n",
       "            //      .css('background-color','red')                \n",
       "            \n",
       "        })()\n",
       "        </script>\n",
       "                \n",
       "                "
      ],
      "text/plain": [
       "<IPython.core.display.HTML object>"
      ]
     },
     "execution_count": 2,
     "metadata": {},
     "output_type": "execute_result"
    }
   ],
   "source": [
    "x = [5,8,4,10,30,20,40,50,60,70,20,30]\n",
    "y= {3:9}\n",
    "z = [x]\n",
    "\n",
    "jupman.pytut()"
   ]
  },
  {
   "cell_type": "markdown",
   "metadata": {},
   "source": [
    "**jupman.pytut scope**: BEWARE of variables which were initialized in previous cells, they WILL NOT be available in Python Tutor:"
   ]
  },
  {
   "cell_type": "code",
   "execution_count": 3,
   "metadata": {},
   "outputs": [],
   "source": [
    "w = 8"
   ]
  },
  {
   "cell_type": "code",
   "execution_count": 4,
   "metadata": {
    "scrolled": false
   },
   "outputs": [
    {
     "name": "stderr",
     "output_type": "stream",
     "text": [
      "Traceback (most recent call last):\n",
      "  File \"/home/da/Da/prj/jupman/prj/jupman.py\", line 2305, in _runscript\n",
      "    self.run(script_str, user_globals, user_globals)\n",
      "  File \"/usr/lib/python3.5/bdb.py\", line 431, in run\n",
      "    exec(cmd, globals, locals)\n",
      "  File \"<string>\", line 2, in <module>\n",
      "NameError: name 'w' is not defined\n"
     ]
    },
    {
     "data": {
      "text/html": [
       "\n",
       "        <script src=\"_static/js/pytutor-embed.bundle.min.js\" type=\"application/javascript\"></script>\n",
       "     \n",
       "        <script id=\"json-jm3aa80e10-fa3d-439e-b347-240becd9c0d6\" type=\"application/json\" >\n",
       "            {\"trace\": [{\"line\": 2, \"heap\": {}, \"event\": \"step_line\", \"stack_to_render\": [], \"ordered_globals\": [], \"stdout\": \"\", \"func_name\": \"<module>\", \"globals\": {}}, {\"line\": 2, \"heap\": {}, \"exception_msg\": \"NameError: name 'w' is not defined\", \"event\": \"exception\", \"stack_to_render\": [], \"ordered_globals\": [], \"stdout\": \"\", \"func_name\": \"<module>\", \"globals\": {}}], \"code\": \" \\nx =  w + 5\"}\n",
       "        </script>\n",
       "        <div id=\"jm3aa80e10-fa3d-439e-b347-240becd9c0d6\" class=\"pytutorVisualizer\"> </div>\n",
       " \n",
       "        <style>\n",
       "        .vizLayoutTd {\n",
       "            background-color: #fff !important;\n",
       "        }\n",
       "                            \n",
       "        #pyStdout {\n",
       "            min-height:20px;\n",
       "        }\n",
       "\n",
       "        /* 'Edit this code' link, hiding because replaces browser tab !!!*/\n",
       "        #editCodeLinkDiv {\n",
       "            display:none;  \n",
       "        }\n",
       "        </style>   \n",
       "                            \n",
       "        <script>\n",
       "        (function(){\n",
       "\n",
       "            var trace = JSON.parse(document.getElementById('json-jm3aa80e10-fa3d-439e-b347-240becd9c0d6').innerHTML);                                        \n",
       "            // NOTE 1: id without #\n",
       "            // NOTE 2 - maybe there are more predictable ways, but this will work anyway\n",
       "            //        - id should be number\n",
       "            visualizerIdOverride = Math.trunc(Math.random() * 100000000000)\n",
       "            addVisualizerToPage(trace, 'jm3aa80e10-fa3d-439e-b347-240becd9c0d6',{'embeddedMode' : false,\n",
       "                                             'visualizerIdOverride':visualizerIdOverride})  \n",
       "            \n",
       "            \n",
       "            // set overflow for pytuts - need to do in python as css \n",
       "            // does not allow parent selection\n",
       "            var pytuts = $('.pytutorVisualizer')\n",
       "            pytuts.closest('div.output_html.rendered_html.output_result')\n",
       "                    .css('overflow-x', 'visible')\n",
       "        \n",
       "            //pytuts.closest('div.output_html.rendered_html.output_result')\n",
       "            //      .css('background-color','red')                \n",
       "            \n",
       "        })()\n",
       "        </script>\n",
       "                \n",
       "                "
      ],
      "text/plain": [
       "<IPython.core.display.HTML object>"
      ]
     },
     "execution_count": 4,
     "metadata": {},
     "output_type": "execute_result"
    }
   ],
   "source": [
    "x =  w + 5\n",
    "jupman.pytut()"
   ]
  },
  {
   "cell_type": "markdown",
   "metadata": {},
   "source": [
    "**jupman.pytut window overflow**: When too much right space is taken, it might be difficult to scroll:\n"
   ]
  },
  {
   "cell_type": "code",
   "execution_count": 5,
   "metadata": {},
   "outputs": [
    {
     "data": {
      "text/html": [
       "\n",
       "        <script src=\"_static/js/pytutor-embed.bundle.min.js\" type=\"application/javascript\"></script>\n",
       "     \n",
       "        <script id=\"json-jm52ddd126-df49-41b6-a0d7-83c0d83e4aac\" type=\"application/json\" >\n",
       "            {\"trace\": [{\"line\": 2, \"heap\": {}, \"event\": \"step_line\", \"stack_to_render\": [], \"ordered_globals\": [], \"stdout\": \"\", \"func_name\": \"<module>\", \"globals\": {}}, {\"line\": 2, \"heap\": {\"1\": [\"LIST\", 3, 2, 5, 2, 42, 34, 2, 4, 34, 2, 3, 4, 23, 4, 23, 4, 2, 34, 23, 4, 23, 4, 23, 4, 234, 34, 23, 4, 23, 4, 23, 4, 2]}, \"event\": \"return\", \"stack_to_render\": [], \"ordered_globals\": [\"x\"], \"stdout\": \"\", \"func_name\": \"<module>\", \"globals\": {\"x\": [\"REF\", 1]}}], \"code\": \" \\nx = [3,2,5,2,42,34,2,4,34,2,3,4,23,4,23,4,2,34,23,4,23,4,23,4,234,34,23,4,23,4,23,4,2]\"}\n",
       "        </script>\n",
       "        <div id=\"jm52ddd126-df49-41b6-a0d7-83c0d83e4aac\" class=\"pytutorVisualizer\"> </div>\n",
       " \n",
       "        <style>\n",
       "        .vizLayoutTd {\n",
       "            background-color: #fff !important;\n",
       "        }\n",
       "                            \n",
       "        #pyStdout {\n",
       "            min-height:20px;\n",
       "        }\n",
       "\n",
       "        /* 'Edit this code' link, hiding because replaces browser tab !!!*/\n",
       "        #editCodeLinkDiv {\n",
       "            display:none;  \n",
       "        }\n",
       "        </style>   \n",
       "                            \n",
       "        <script>\n",
       "        (function(){\n",
       "\n",
       "            var trace = JSON.parse(document.getElementById('json-jm52ddd126-df49-41b6-a0d7-83c0d83e4aac').innerHTML);                                        \n",
       "            // NOTE 1: id without #\n",
       "            // NOTE 2 - maybe there are more predictable ways, but this will work anyway\n",
       "            //        - id should be number\n",
       "            visualizerIdOverride = Math.trunc(Math.random() * 100000000000)\n",
       "            addVisualizerToPage(trace, 'jm52ddd126-df49-41b6-a0d7-83c0d83e4aac',{'embeddedMode' : false,\n",
       "                                             'visualizerIdOverride':visualizerIdOverride})  \n",
       "            \n",
       "            \n",
       "            // set overflow for pytuts - need to do in python as css \n",
       "            // does not allow parent selection\n",
       "            var pytuts = $('.pytutorVisualizer')\n",
       "            pytuts.closest('div.output_html.rendered_html.output_result')\n",
       "                    .css('overflow-x', 'visible')\n",
       "        \n",
       "            //pytuts.closest('div.output_html.rendered_html.output_result')\n",
       "            //      .css('background-color','red')                \n",
       "            \n",
       "        })()\n",
       "        </script>\n",
       "                \n",
       "                "
      ],
      "text/plain": [
       "<IPython.core.display.HTML object>"
      ]
     },
     "execution_count": 5,
     "metadata": {},
     "output_type": "execute_result"
    }
   ],
   "source": [
    "x = [3,2,5,2,42,34,2,4,34,2,3,4,23,4,23,4,2,34,23,4,23,4,23,4,234,34,23,4,23,4,23,4,2]\n",
    "\n",
    "jupman.pytut()"
   ]
  },
  {
   "cell_type": "code",
   "execution_count": 6,
   "metadata": {},
   "outputs": [
    {
     "name": "stderr",
     "output_type": "stream",
     "text": [
      "Traceback (most recent call last):\n",
      "  File \"/home/da/Da/prj/jupman/prj/jupman.py\", line 2305, in _runscript\n",
      "    self.run(script_str, user_globals, user_globals)\n",
      "  File \"/usr/lib/python3.5/bdb.py\", line 431, in run\n",
      "    exec(cmd, globals, locals)\n",
      "  File \"<string>\", line 2, in <module>\n",
      "NameError: name 'w' is not defined\n"
     ]
    },
    {
     "data": {
      "text/html": [
       "\n",
       "        <script src=\"_static/js/pytutor-embed.bundle.min.js\" type=\"application/javascript\"></script>\n",
       "     \n",
       "        <script id=\"json-jm6892dcf7-04a7-48ee-9c10-c1e00006572d\" type=\"application/json\" >\n",
       "            {\"trace\": [{\"line\": 2, \"heap\": {}, \"event\": \"step_line\", \"stack_to_render\": [], \"ordered_globals\": [], \"stdout\": \"\", \"func_name\": \"<module>\", \"globals\": {}}, {\"line\": 2, \"heap\": {}, \"exception_msg\": \"NameError: name 'w' is not defined\", \"event\": \"exception\", \"stack_to_render\": [], \"ordered_globals\": [], \"stdout\": \"\", \"func_name\": \"<module>\", \"globals\": {}}], \"code\": \" \\nx =  w + 5\"}\n",
       "        </script>\n",
       "        <div id=\"jm6892dcf7-04a7-48ee-9c10-c1e00006572d\" class=\"pytutorVisualizer\"> </div>\n",
       " \n",
       "        <style>\n",
       "        .vizLayoutTd {\n",
       "            background-color: #fff !important;\n",
       "        }\n",
       "                            \n",
       "        #pyStdout {\n",
       "            min-height:20px;\n",
       "        }\n",
       "\n",
       "        /* 'Edit this code' link, hiding because replaces browser tab !!!*/\n",
       "        #editCodeLinkDiv {\n",
       "            display:none;  \n",
       "        }\n",
       "        </style>   \n",
       "                            \n",
       "        <script>\n",
       "        (function(){\n",
       "\n",
       "            var trace = JSON.parse(document.getElementById('json-jm6892dcf7-04a7-48ee-9c10-c1e00006572d').innerHTML);                                        \n",
       "            // NOTE 1: id without #\n",
       "            // NOTE 2 - maybe there are more predictable ways, but this will work anyway\n",
       "            //        - id should be number\n",
       "            visualizerIdOverride = Math.trunc(Math.random() * 100000000000)\n",
       "            addVisualizerToPage(trace, 'jm6892dcf7-04a7-48ee-9c10-c1e00006572d',{'embeddedMode' : false,\n",
       "                                             'visualizerIdOverride':visualizerIdOverride})  \n",
       "            \n",
       "            \n",
       "            // set overflow for pytuts - need to do in python as css \n",
       "            // does not allow parent selection\n",
       "            var pytuts = $('.pytutorVisualizer')\n",
       "            pytuts.closest('div.output_html.rendered_html.output_result')\n",
       "                    .css('overflow-x', 'visible')\n",
       "        \n",
       "            //pytuts.closest('div.output_html.rendered_html.output_result')\n",
       "            //      .css('background-color','red')                \n",
       "            \n",
       "        })()\n",
       "        </script>\n",
       "                \n",
       "                "
      ],
      "text/plain": [
       "<IPython.core.display.HTML object>"
      ]
     },
     "execution_count": 6,
     "metadata": {},
     "output_type": "execute_result"
    }
   ],
   "source": [
    "x =  w + 5\n",
    "jupman.pytut()"
   ]
  },
  {
   "cell_type": "markdown",
   "metadata": {},
   "source": [
    "**jupman.pytut execution:** Some cells might execute in Jupyter but not so well in Python Tutor, due to [its inherent limitations](https://github.com/pgbovine/OnlinePythonTutor/blob/master/unsupported-features.md):"
   ]
  },
  {
   "cell_type": "code",
   "execution_count": 7,
   "metadata": {},
   "outputs": [
    {
     "name": "stdout",
     "output_type": "stream",
     "text": [
      "10000\n"
     ]
    },
    {
     "data": {
      "text/html": [
       "\n",
       "        <script src=\"_static/js/pytutor-embed.bundle.min.js\" type=\"application/javascript\"></script>\n",
       "     \n",
       "        <script id=\"json-jm8ad503ab-f704-40e1-b85e-654ae32405ef\" type=\"application/json\" >\n",
       "            {\"trace\": [{\"line\": 2, \"heap\": {}, \"event\": \"step_line\", \"stack_to_render\": [], \"ordered_globals\": [], \"stdout\": \"\", \"func_name\": \"<module>\", \"globals\": {}}, {\"line\": 3, \"heap\": {}, \"event\": \"step_line\", \"stack_to_render\": [], \"ordered_globals\": [\"x\"], \"stdout\": \"\", \"func_name\": \"<module>\", \"globals\": {\"x\": 0}}, {\"line\": 4, \"heap\": {}, \"event\": \"step_line\", \"stack_to_render\": [], \"ordered_globals\": [\"x\", \"i\"], \"stdout\": \"\", \"func_name\": \"<module>\", \"globals\": {\"i\": 0, \"x\": 0}}, {\"line\": 3, \"heap\": {}, \"event\": \"step_line\", \"stack_to_render\": [], \"ordered_globals\": [\"x\", \"i\"], \"stdout\": \"\", \"func_name\": \"<module>\", \"globals\": {\"i\": 0, \"x\": 1}}, {\"line\": 4, \"heap\": {}, \"event\": \"step_line\", \"stack_to_render\": [], \"ordered_globals\": [\"x\", \"i\"], \"stdout\": \"\", \"func_name\": \"<module>\", \"globals\": {\"i\": 1, \"x\": 1}}, {\"line\": 3, \"heap\": {}, \"event\": \"step_line\", \"stack_to_render\": [], \"ordered_globals\": [\"x\", \"i\"], \"stdout\": \"\", \"func_name\": \"<module>\", \"globals\": {\"i\": 1, \"x\": 2}}, {\"line\": 4, \"heap\": {}, \"event\": \"step_line\", \"stack_to_render\": [], \"ordered_globals\": [\"x\", \"i\"], \"stdout\": \"\", \"func_name\": \"<module>\", \"globals\": {\"i\": 2, \"x\": 2}}, {\"line\": 3, \"heap\": {}, \"event\": \"step_line\", \"stack_to_render\": [], \"ordered_globals\": [\"x\", \"i\"], \"stdout\": \"\", \"func_name\": \"<module>\", \"globals\": {\"i\": 2, \"x\": 3}}, {\"line\": 4, \"heap\": {}, \"event\": \"step_line\", \"stack_to_render\": [], \"ordered_globals\": [\"x\", \"i\"], \"stdout\": \"\", \"func_name\": \"<module>\", \"globals\": {\"i\": 3, \"x\": 3}}, {\"line\": 3, \"heap\": {}, \"event\": \"step_line\", \"stack_to_render\": [], \"ordered_globals\": [\"x\", \"i\"], \"stdout\": \"\", \"func_name\": \"<module>\", \"globals\": {\"i\": 3, \"x\": 4}}, {\"line\": 4, \"heap\": {}, \"event\": \"step_line\", \"stack_to_render\": [], \"ordered_globals\": [\"x\", \"i\"], \"stdout\": \"\", \"func_name\": \"<module>\", \"globals\": {\"i\": 4, \"x\": 4}}, {\"line\": 3, \"heap\": {}, \"event\": \"step_line\", \"stack_to_render\": [], \"ordered_globals\": [\"x\", \"i\"], \"stdout\": \"\", \"func_name\": \"<module>\", \"globals\": {\"i\": 4, \"x\": 5}}, {\"line\": 4, \"heap\": {}, \"event\": \"step_line\", \"stack_to_render\": [], \"ordered_globals\": [\"x\", \"i\"], \"stdout\": \"\", \"func_name\": \"<module>\", \"globals\": {\"i\": 5, \"x\": 5}}, {\"line\": 3, \"heap\": {}, \"event\": \"step_line\", \"stack_to_render\": [], \"ordered_globals\": [\"x\", \"i\"], \"stdout\": \"\", \"func_name\": \"<module>\", \"globals\": {\"i\": 5, \"x\": 6}}, {\"line\": 4, \"heap\": {}, \"event\": \"step_line\", \"stack_to_render\": [], \"ordered_globals\": [\"x\", \"i\"], \"stdout\": \"\", \"func_name\": \"<module>\", \"globals\": {\"i\": 6, \"x\": 6}}, {\"line\": 3, \"heap\": {}, \"event\": \"step_line\", \"stack_to_render\": [], \"ordered_globals\": [\"x\", \"i\"], \"stdout\": \"\", \"func_name\": \"<module>\", \"globals\": {\"i\": 6, \"x\": 7}}, {\"line\": 4, \"heap\": {}, \"event\": \"step_line\", \"stack_to_render\": [], \"ordered_globals\": [\"x\", \"i\"], \"stdout\": \"\", \"func_name\": \"<module>\", \"globals\": {\"i\": 7, \"x\": 7}}, {\"line\": 3, \"heap\": {}, \"event\": \"step_line\", \"stack_to_render\": [], \"ordered_globals\": [\"x\", \"i\"], \"stdout\": \"\", \"func_name\": \"<module>\", \"globals\": {\"i\": 7, \"x\": 8}}, {\"line\": 4, \"heap\": {}, \"event\": \"step_line\", \"stack_to_render\": [], \"ordered_globals\": [\"x\", \"i\"], \"stdout\": \"\", \"func_name\": \"<module>\", \"globals\": {\"i\": 8, \"x\": 8}}, {\"line\": 3, \"heap\": {}, \"event\": \"step_line\", \"stack_to_render\": [], \"ordered_globals\": [\"x\", \"i\"], \"stdout\": \"\", \"func_name\": \"<module>\", \"globals\": {\"i\": 8, \"x\": 9}}, {\"line\": 4, \"heap\": {}, \"event\": \"step_line\", \"stack_to_render\": [], \"ordered_globals\": [\"x\", \"i\"], \"stdout\": \"\", \"func_name\": \"<module>\", \"globals\": {\"i\": 9, \"x\": 9}}, {\"line\": 3, \"heap\": {}, \"event\": \"step_line\", \"stack_to_render\": [], \"ordered_globals\": [\"x\", \"i\"], \"stdout\": \"\", \"func_name\": \"<module>\", \"globals\": {\"i\": 9, \"x\": 10}}, {\"line\": 4, \"heap\": {}, \"event\": \"step_line\", \"stack_to_render\": [], \"ordered_globals\": [\"x\", \"i\"], \"stdout\": \"\", \"func_name\": \"<module>\", \"globals\": {\"i\": 10, \"x\": 10}}, {\"line\": 3, \"heap\": {}, \"event\": \"step_line\", \"stack_to_render\": [], \"ordered_globals\": [\"x\", \"i\"], \"stdout\": \"\", \"func_name\": \"<module>\", \"globals\": {\"i\": 10, \"x\": 11}}, {\"line\": 4, \"heap\": {}, \"event\": \"step_line\", \"stack_to_render\": [], \"ordered_globals\": [\"x\", \"i\"], \"stdout\": \"\", \"func_name\": \"<module>\", \"globals\": {\"i\": 11, \"x\": 11}}, {\"line\": 3, \"heap\": {}, \"event\": \"step_line\", \"stack_to_render\": [], \"ordered_globals\": [\"x\", \"i\"], \"stdout\": \"\", \"func_name\": \"<module>\", \"globals\": {\"i\": 11, \"x\": 12}}, {\"line\": 4, \"heap\": {}, \"event\": \"step_line\", \"stack_to_render\": [], \"ordered_globals\": [\"x\", \"i\"], \"stdout\": \"\", \"func_name\": \"<module>\", \"globals\": {\"i\": 12, \"x\": 12}}, {\"line\": 3, \"heap\": {}, \"event\": \"step_line\", \"stack_to_render\": [], \"ordered_globals\": [\"x\", \"i\"], \"stdout\": \"\", \"func_name\": \"<module>\", \"globals\": {\"i\": 12, \"x\": 13}}, {\"line\": 4, \"heap\": {}, \"event\": \"step_line\", \"stack_to_render\": [], \"ordered_globals\": [\"x\", \"i\"], \"stdout\": \"\", \"func_name\": \"<module>\", \"globals\": {\"i\": 13, \"x\": 13}}, {\"line\": 3, \"heap\": {}, \"event\": \"step_line\", \"stack_to_render\": [], \"ordered_globals\": [\"x\", \"i\"], \"stdout\": \"\", \"func_name\": \"<module>\", \"globals\": {\"i\": 13, \"x\": 14}}, {\"line\": 4, \"heap\": {}, \"event\": \"step_line\", \"stack_to_render\": [], \"ordered_globals\": [\"x\", \"i\"], \"stdout\": \"\", \"func_name\": \"<module>\", \"globals\": {\"i\": 14, \"x\": 14}}, {\"line\": 3, \"heap\": {}, \"event\": \"step_line\", \"stack_to_render\": [], \"ordered_globals\": [\"x\", \"i\"], \"stdout\": \"\", \"func_name\": \"<module>\", \"globals\": {\"i\": 14, \"x\": 15}}, {\"line\": 4, \"heap\": {}, \"event\": \"step_line\", \"stack_to_render\": [], \"ordered_globals\": [\"x\", \"i\"], \"stdout\": \"\", \"func_name\": \"<module>\", \"globals\": {\"i\": 15, \"x\": 15}}, {\"line\": 3, \"heap\": {}, \"event\": \"step_line\", \"stack_to_render\": [], \"ordered_globals\": [\"x\", \"i\"], \"stdout\": \"\", \"func_name\": \"<module>\", \"globals\": {\"i\": 15, \"x\": 16}}, {\"line\": 4, \"heap\": {}, \"event\": \"step_line\", \"stack_to_render\": [], \"ordered_globals\": [\"x\", \"i\"], \"stdout\": \"\", \"func_name\": \"<module>\", \"globals\": {\"i\": 16, \"x\": 16}}, {\"line\": 3, \"heap\": {}, \"event\": \"step_line\", \"stack_to_render\": [], \"ordered_globals\": [\"x\", \"i\"], \"stdout\": \"\", \"func_name\": \"<module>\", \"globals\": {\"i\": 16, \"x\": 17}}, {\"line\": 4, \"heap\": {}, \"event\": \"step_line\", \"stack_to_render\": [], \"ordered_globals\": [\"x\", \"i\"], \"stdout\": \"\", \"func_name\": \"<module>\", \"globals\": {\"i\": 17, \"x\": 17}}, {\"line\": 3, \"heap\": {}, \"event\": \"step_line\", \"stack_to_render\": [], \"ordered_globals\": [\"x\", \"i\"], \"stdout\": \"\", \"func_name\": \"<module>\", \"globals\": {\"i\": 17, \"x\": 18}}, {\"line\": 4, \"heap\": {}, \"event\": \"step_line\", \"stack_to_render\": [], \"ordered_globals\": [\"x\", \"i\"], \"stdout\": \"\", \"func_name\": \"<module>\", \"globals\": {\"i\": 18, \"x\": 18}}, {\"line\": 3, \"heap\": {}, \"event\": \"step_line\", \"stack_to_render\": [], \"ordered_globals\": [\"x\", \"i\"], \"stdout\": \"\", \"func_name\": \"<module>\", \"globals\": {\"i\": 18, \"x\": 19}}, {\"line\": 4, \"heap\": {}, \"event\": \"step_line\", \"stack_to_render\": [], \"ordered_globals\": [\"x\", \"i\"], \"stdout\": \"\", \"func_name\": \"<module>\", \"globals\": {\"i\": 19, \"x\": 19}}, {\"line\": 3, \"heap\": {}, \"event\": \"step_line\", \"stack_to_render\": [], \"ordered_globals\": [\"x\", \"i\"], \"stdout\": \"\", \"func_name\": \"<module>\", \"globals\": {\"i\": 19, \"x\": 20}}, {\"line\": 4, \"heap\": {}, \"event\": \"step_line\", \"stack_to_render\": [], \"ordered_globals\": [\"x\", \"i\"], \"stdout\": \"\", \"func_name\": \"<module>\", \"globals\": {\"i\": 20, \"x\": 20}}, {\"line\": 3, \"heap\": {}, \"event\": \"step_line\", \"stack_to_render\": [], \"ordered_globals\": [\"x\", \"i\"], \"stdout\": \"\", \"func_name\": \"<module>\", \"globals\": {\"i\": 20, \"x\": 21}}, {\"line\": 4, \"heap\": {}, \"event\": \"step_line\", \"stack_to_render\": [], \"ordered_globals\": [\"x\", \"i\"], \"stdout\": \"\", \"func_name\": \"<module>\", \"globals\": {\"i\": 21, \"x\": 21}}, {\"line\": 3, \"heap\": {}, \"event\": \"step_line\", \"stack_to_render\": [], \"ordered_globals\": [\"x\", \"i\"], \"stdout\": \"\", \"func_name\": \"<module>\", \"globals\": {\"i\": 21, \"x\": 22}}, {\"line\": 4, \"heap\": {}, \"event\": \"step_line\", \"stack_to_render\": [], \"ordered_globals\": [\"x\", \"i\"], \"stdout\": \"\", \"func_name\": \"<module>\", \"globals\": {\"i\": 22, \"x\": 22}}, {\"line\": 3, \"heap\": {}, \"event\": \"step_line\", \"stack_to_render\": [], \"ordered_globals\": [\"x\", \"i\"], \"stdout\": \"\", \"func_name\": \"<module>\", \"globals\": {\"i\": 22, \"x\": 23}}, {\"line\": 4, \"heap\": {}, \"event\": \"step_line\", \"stack_to_render\": [], \"ordered_globals\": [\"x\", \"i\"], \"stdout\": \"\", \"func_name\": \"<module>\", \"globals\": {\"i\": 23, \"x\": 23}}, {\"line\": 3, \"heap\": {}, \"event\": \"step_line\", \"stack_to_render\": [], \"ordered_globals\": [\"x\", \"i\"], \"stdout\": \"\", \"func_name\": \"<module>\", \"globals\": {\"i\": 23, \"x\": 24}}, {\"line\": 4, \"heap\": {}, \"event\": \"step_line\", \"stack_to_render\": [], \"ordered_globals\": [\"x\", \"i\"], \"stdout\": \"\", \"func_name\": \"<module>\", \"globals\": {\"i\": 24, \"x\": 24}}, {\"line\": 3, \"heap\": {}, \"event\": \"step_line\", \"stack_to_render\": [], \"ordered_globals\": [\"x\", \"i\"], \"stdout\": \"\", \"func_name\": \"<module>\", \"globals\": {\"i\": 24, \"x\": 25}}, {\"line\": 4, \"heap\": {}, \"event\": \"step_line\", \"stack_to_render\": [], \"ordered_globals\": [\"x\", \"i\"], \"stdout\": \"\", \"func_name\": \"<module>\", \"globals\": {\"i\": 25, \"x\": 25}}, {\"line\": 3, \"heap\": {}, \"event\": \"step_line\", \"stack_to_render\": [], \"ordered_globals\": [\"x\", \"i\"], \"stdout\": \"\", \"func_name\": \"<module>\", \"globals\": {\"i\": 25, \"x\": 26}}, {\"line\": 4, \"heap\": {}, \"event\": \"step_line\", \"stack_to_render\": [], \"ordered_globals\": [\"x\", \"i\"], \"stdout\": \"\", \"func_name\": \"<module>\", \"globals\": {\"i\": 26, \"x\": 26}}, {\"line\": 3, \"heap\": {}, \"event\": \"step_line\", \"stack_to_render\": [], \"ordered_globals\": [\"x\", \"i\"], \"stdout\": \"\", \"func_name\": \"<module>\", \"globals\": {\"i\": 26, \"x\": 27}}, {\"line\": 4, \"heap\": {}, \"event\": \"step_line\", \"stack_to_render\": [], \"ordered_globals\": [\"x\", \"i\"], \"stdout\": \"\", \"func_name\": \"<module>\", \"globals\": {\"i\": 27, \"x\": 27}}, {\"line\": 3, \"heap\": {}, \"event\": \"step_line\", \"stack_to_render\": [], \"ordered_globals\": [\"x\", \"i\"], \"stdout\": \"\", \"func_name\": \"<module>\", \"globals\": {\"i\": 27, \"x\": 28}}, {\"line\": 4, \"heap\": {}, \"event\": \"step_line\", \"stack_to_render\": [], \"ordered_globals\": [\"x\", \"i\"], \"stdout\": \"\", \"func_name\": \"<module>\", \"globals\": {\"i\": 28, \"x\": 28}}, {\"line\": 3, \"heap\": {}, \"event\": \"step_line\", \"stack_to_render\": [], \"ordered_globals\": [\"x\", \"i\"], \"stdout\": \"\", \"func_name\": \"<module>\", \"globals\": {\"i\": 28, \"x\": 29}}, {\"line\": 4, \"heap\": {}, \"event\": \"step_line\", \"stack_to_render\": [], \"ordered_globals\": [\"x\", \"i\"], \"stdout\": \"\", \"func_name\": \"<module>\", \"globals\": {\"i\": 29, \"x\": 29}}, {\"line\": 3, \"heap\": {}, \"event\": \"step_line\", \"stack_to_render\": [], \"ordered_globals\": [\"x\", \"i\"], \"stdout\": \"\", \"func_name\": \"<module>\", \"globals\": {\"i\": 29, \"x\": 30}}, {\"line\": 4, \"heap\": {}, \"event\": \"step_line\", \"stack_to_render\": [], \"ordered_globals\": [\"x\", \"i\"], \"stdout\": \"\", \"func_name\": \"<module>\", \"globals\": {\"i\": 30, \"x\": 30}}, {\"line\": 3, \"heap\": {}, \"event\": \"step_line\", \"stack_to_render\": [], \"ordered_globals\": [\"x\", \"i\"], \"stdout\": \"\", \"func_name\": \"<module>\", \"globals\": {\"i\": 30, \"x\": 31}}, {\"line\": 4, \"heap\": {}, \"event\": \"step_line\", \"stack_to_render\": [], \"ordered_globals\": [\"x\", \"i\"], \"stdout\": \"\", \"func_name\": \"<module>\", \"globals\": {\"i\": 31, \"x\": 31}}, {\"line\": 3, \"heap\": {}, \"event\": \"step_line\", \"stack_to_render\": [], \"ordered_globals\": [\"x\", \"i\"], \"stdout\": \"\", \"func_name\": \"<module>\", \"globals\": {\"i\": 31, \"x\": 32}}, {\"line\": 4, \"heap\": {}, \"event\": \"step_line\", \"stack_to_render\": [], \"ordered_globals\": [\"x\", \"i\"], \"stdout\": \"\", \"func_name\": \"<module>\", \"globals\": {\"i\": 32, \"x\": 32}}, {\"line\": 3, \"heap\": {}, \"event\": \"step_line\", \"stack_to_render\": [], \"ordered_globals\": [\"x\", \"i\"], \"stdout\": \"\", \"func_name\": \"<module>\", \"globals\": {\"i\": 32, \"x\": 33}}, {\"line\": 4, \"heap\": {}, \"event\": \"step_line\", \"stack_to_render\": [], \"ordered_globals\": [\"x\", \"i\"], \"stdout\": \"\", \"func_name\": \"<module>\", \"globals\": {\"i\": 33, \"x\": 33}}, {\"line\": 3, \"heap\": {}, \"event\": \"step_line\", \"stack_to_render\": [], \"ordered_globals\": [\"x\", \"i\"], \"stdout\": \"\", \"func_name\": \"<module>\", \"globals\": {\"i\": 33, \"x\": 34}}, {\"line\": 4, \"heap\": {}, \"event\": \"step_line\", \"stack_to_render\": [], \"ordered_globals\": [\"x\", \"i\"], \"stdout\": \"\", \"func_name\": \"<module>\", \"globals\": {\"i\": 34, \"x\": 34}}, {\"line\": 3, \"heap\": {}, \"event\": \"step_line\", \"stack_to_render\": [], \"ordered_globals\": [\"x\", \"i\"], \"stdout\": \"\", \"func_name\": \"<module>\", \"globals\": {\"i\": 34, \"x\": 35}}, {\"line\": 4, \"heap\": {}, \"event\": \"step_line\", \"stack_to_render\": [], \"ordered_globals\": [\"x\", \"i\"], \"stdout\": \"\", \"func_name\": \"<module>\", \"globals\": {\"i\": 35, \"x\": 35}}, {\"line\": 3, \"heap\": {}, \"event\": \"step_line\", \"stack_to_render\": [], \"ordered_globals\": [\"x\", \"i\"], \"stdout\": \"\", \"func_name\": \"<module>\", \"globals\": {\"i\": 35, \"x\": 36}}, {\"line\": 4, \"heap\": {}, \"event\": \"step_line\", \"stack_to_render\": [], \"ordered_globals\": [\"x\", \"i\"], \"stdout\": \"\", \"func_name\": \"<module>\", \"globals\": {\"i\": 36, \"x\": 36}}, {\"line\": 3, \"heap\": {}, \"event\": \"step_line\", \"stack_to_render\": [], \"ordered_globals\": [\"x\", \"i\"], \"stdout\": \"\", \"func_name\": \"<module>\", \"globals\": {\"i\": 36, \"x\": 37}}, {\"line\": 4, \"heap\": {}, \"event\": \"step_line\", \"stack_to_render\": [], \"ordered_globals\": [\"x\", \"i\"], \"stdout\": \"\", \"func_name\": \"<module>\", \"globals\": {\"i\": 37, \"x\": 37}}, {\"line\": 3, \"heap\": {}, \"event\": \"step_line\", \"stack_to_render\": [], \"ordered_globals\": [\"x\", \"i\"], \"stdout\": \"\", \"func_name\": \"<module>\", \"globals\": {\"i\": 37, \"x\": 38}}, {\"line\": 4, \"heap\": {}, \"event\": \"step_line\", \"stack_to_render\": [], \"ordered_globals\": [\"x\", \"i\"], \"stdout\": \"\", \"func_name\": \"<module>\", \"globals\": {\"i\": 38, \"x\": 38}}, {\"line\": 3, \"heap\": {}, \"event\": \"step_line\", \"stack_to_render\": [], \"ordered_globals\": [\"x\", \"i\"], \"stdout\": \"\", \"func_name\": \"<module>\", \"globals\": {\"i\": 38, \"x\": 39}}, {\"line\": 4, \"heap\": {}, \"event\": \"step_line\", \"stack_to_render\": [], \"ordered_globals\": [\"x\", \"i\"], \"stdout\": \"\", \"func_name\": \"<module>\", \"globals\": {\"i\": 39, \"x\": 39}}, {\"line\": 3, \"heap\": {}, \"event\": \"step_line\", \"stack_to_render\": [], \"ordered_globals\": [\"x\", \"i\"], \"stdout\": \"\", \"func_name\": \"<module>\", \"globals\": {\"i\": 39, \"x\": 40}}, {\"line\": 4, \"heap\": {}, \"event\": \"step_line\", \"stack_to_render\": [], \"ordered_globals\": [\"x\", \"i\"], \"stdout\": \"\", \"func_name\": \"<module>\", \"globals\": {\"i\": 40, \"x\": 40}}, {\"line\": 3, \"heap\": {}, \"event\": \"step_line\", \"stack_to_render\": [], \"ordered_globals\": [\"x\", \"i\"], \"stdout\": \"\", \"func_name\": \"<module>\", \"globals\": {\"i\": 40, \"x\": 41}}, {\"line\": 4, \"heap\": {}, \"event\": \"step_line\", \"stack_to_render\": [], \"ordered_globals\": [\"x\", \"i\"], \"stdout\": \"\", \"func_name\": \"<module>\", \"globals\": {\"i\": 41, \"x\": 41}}, {\"line\": 3, \"heap\": {}, \"event\": \"step_line\", \"stack_to_render\": [], \"ordered_globals\": [\"x\", \"i\"], \"stdout\": \"\", \"func_name\": \"<module>\", \"globals\": {\"i\": 41, \"x\": 42}}, {\"line\": 4, \"heap\": {}, \"event\": \"step_line\", \"stack_to_render\": [], \"ordered_globals\": [\"x\", \"i\"], \"stdout\": \"\", \"func_name\": \"<module>\", \"globals\": {\"i\": 42, \"x\": 42}}, {\"line\": 3, \"heap\": {}, \"event\": \"step_line\", \"stack_to_render\": [], \"ordered_globals\": [\"x\", \"i\"], \"stdout\": \"\", \"func_name\": \"<module>\", \"globals\": {\"i\": 42, \"x\": 43}}, {\"line\": 4, \"heap\": {}, \"event\": \"step_line\", \"stack_to_render\": [], \"ordered_globals\": [\"x\", \"i\"], \"stdout\": \"\", \"func_name\": \"<module>\", \"globals\": {\"i\": 43, \"x\": 43}}, {\"line\": 3, \"heap\": {}, \"event\": \"step_line\", \"stack_to_render\": [], \"ordered_globals\": [\"x\", \"i\"], \"stdout\": \"\", \"func_name\": \"<module>\", \"globals\": {\"i\": 43, \"x\": 44}}, {\"line\": 4, \"heap\": {}, \"event\": \"step_line\", \"stack_to_render\": [], \"ordered_globals\": [\"x\", \"i\"], \"stdout\": \"\", \"func_name\": \"<module>\", \"globals\": {\"i\": 44, \"x\": 44}}, {\"line\": 3, \"heap\": {}, \"event\": \"step_line\", \"stack_to_render\": [], \"ordered_globals\": [\"x\", \"i\"], \"stdout\": \"\", \"func_name\": \"<module>\", \"globals\": {\"i\": 44, \"x\": 45}}, {\"line\": 4, \"heap\": {}, \"event\": \"step_line\", \"stack_to_render\": [], \"ordered_globals\": [\"x\", \"i\"], \"stdout\": \"\", \"func_name\": \"<module>\", \"globals\": {\"i\": 45, \"x\": 45}}, {\"line\": 3, \"heap\": {}, \"event\": \"step_line\", \"stack_to_render\": [], \"ordered_globals\": [\"x\", \"i\"], \"stdout\": \"\", \"func_name\": \"<module>\", \"globals\": {\"i\": 45, \"x\": 46}}, {\"line\": 4, \"heap\": {}, \"event\": \"step_line\", \"stack_to_render\": [], \"ordered_globals\": [\"x\", \"i\"], \"stdout\": \"\", \"func_name\": \"<module>\", \"globals\": {\"i\": 46, \"x\": 46}}, {\"line\": 3, \"heap\": {}, \"event\": \"step_line\", \"stack_to_render\": [], \"ordered_globals\": [\"x\", \"i\"], \"stdout\": \"\", \"func_name\": \"<module>\", \"globals\": {\"i\": 46, \"x\": 47}}, {\"line\": 4, \"heap\": {}, \"event\": \"step_line\", \"stack_to_render\": [], \"ordered_globals\": [\"x\", \"i\"], \"stdout\": \"\", \"func_name\": \"<module>\", \"globals\": {\"i\": 47, \"x\": 47}}, {\"line\": 3, \"heap\": {}, \"event\": \"step_line\", \"stack_to_render\": [], \"ordered_globals\": [\"x\", \"i\"], \"stdout\": \"\", \"func_name\": \"<module>\", \"globals\": {\"i\": 47, \"x\": 48}}, {\"line\": 4, \"heap\": {}, \"event\": \"step_line\", \"stack_to_render\": [], \"ordered_globals\": [\"x\", \"i\"], \"stdout\": \"\", \"func_name\": \"<module>\", \"globals\": {\"i\": 48, \"x\": 48}}, {\"line\": 3, \"heap\": {}, \"event\": \"step_line\", \"stack_to_render\": [], \"ordered_globals\": [\"x\", \"i\"], \"stdout\": \"\", \"func_name\": \"<module>\", \"globals\": {\"i\": 48, \"x\": 49}}, {\"line\": 4, \"heap\": {}, \"event\": \"step_line\", \"stack_to_render\": [], \"ordered_globals\": [\"x\", \"i\"], \"stdout\": \"\", \"func_name\": \"<module>\", \"globals\": {\"i\": 49, \"x\": 49}}, {\"line\": 3, \"heap\": {}, \"event\": \"step_line\", \"stack_to_render\": [], \"ordered_globals\": [\"x\", \"i\"], \"stdout\": \"\", \"func_name\": \"<module>\", \"globals\": {\"i\": 49, \"x\": 50}}, {\"line\": 4, \"heap\": {}, \"event\": \"step_line\", \"stack_to_render\": [], \"ordered_globals\": [\"x\", \"i\"], \"stdout\": \"\", \"func_name\": \"<module>\", \"globals\": {\"i\": 50, \"x\": 50}}, {\"line\": 3, \"heap\": {}, \"event\": \"step_line\", \"stack_to_render\": [], \"ordered_globals\": [\"x\", \"i\"], \"stdout\": \"\", \"func_name\": \"<module>\", \"globals\": {\"i\": 50, \"x\": 51}}, {\"line\": 4, \"heap\": {}, \"event\": \"step_line\", \"stack_to_render\": [], \"ordered_globals\": [\"x\", \"i\"], \"stdout\": \"\", \"func_name\": \"<module>\", \"globals\": {\"i\": 51, \"x\": 51}}, {\"line\": 3, \"heap\": {}, \"event\": \"step_line\", \"stack_to_render\": [], \"ordered_globals\": [\"x\", \"i\"], \"stdout\": \"\", \"func_name\": \"<module>\", \"globals\": {\"i\": 51, \"x\": 52}}, {\"line\": 4, \"heap\": {}, \"event\": \"step_line\", \"stack_to_render\": [], \"ordered_globals\": [\"x\", \"i\"], \"stdout\": \"\", \"func_name\": \"<module>\", \"globals\": {\"i\": 52, \"x\": 52}}, {\"line\": 3, \"heap\": {}, \"event\": \"step_line\", \"stack_to_render\": [], \"ordered_globals\": [\"x\", \"i\"], \"stdout\": \"\", \"func_name\": \"<module>\", \"globals\": {\"i\": 52, \"x\": 53}}, {\"line\": 4, \"heap\": {}, \"event\": \"step_line\", \"stack_to_render\": [], \"ordered_globals\": [\"x\", \"i\"], \"stdout\": \"\", \"func_name\": \"<module>\", \"globals\": {\"i\": 53, \"x\": 53}}, {\"line\": 3, \"heap\": {}, \"event\": \"step_line\", \"stack_to_render\": [], \"ordered_globals\": [\"x\", \"i\"], \"stdout\": \"\", \"func_name\": \"<module>\", \"globals\": {\"i\": 53, \"x\": 54}}, {\"line\": 4, \"heap\": {}, \"event\": \"step_line\", \"stack_to_render\": [], \"ordered_globals\": [\"x\", \"i\"], \"stdout\": \"\", \"func_name\": \"<module>\", \"globals\": {\"i\": 54, \"x\": 54}}, {\"line\": 3, \"heap\": {}, \"event\": \"step_line\", \"stack_to_render\": [], \"ordered_globals\": [\"x\", \"i\"], \"stdout\": \"\", \"func_name\": \"<module>\", \"globals\": {\"i\": 54, \"x\": 55}}, {\"line\": 4, \"heap\": {}, \"event\": \"step_line\", \"stack_to_render\": [], \"ordered_globals\": [\"x\", \"i\"], \"stdout\": \"\", \"func_name\": \"<module>\", \"globals\": {\"i\": 55, \"x\": 55}}, {\"line\": 3, \"heap\": {}, \"event\": \"step_line\", \"stack_to_render\": [], \"ordered_globals\": [\"x\", \"i\"], \"stdout\": \"\", \"func_name\": \"<module>\", \"globals\": {\"i\": 55, \"x\": 56}}, {\"line\": 4, \"heap\": {}, \"event\": \"step_line\", \"stack_to_render\": [], \"ordered_globals\": [\"x\", \"i\"], \"stdout\": \"\", \"func_name\": \"<module>\", \"globals\": {\"i\": 56, \"x\": 56}}, {\"line\": 3, \"heap\": {}, \"event\": \"step_line\", \"stack_to_render\": [], \"ordered_globals\": [\"x\", \"i\"], \"stdout\": \"\", \"func_name\": \"<module>\", \"globals\": {\"i\": 56, \"x\": 57}}, {\"line\": 4, \"heap\": {}, \"event\": \"step_line\", \"stack_to_render\": [], \"ordered_globals\": [\"x\", \"i\"], \"stdout\": \"\", \"func_name\": \"<module>\", \"globals\": {\"i\": 57, \"x\": 57}}, {\"line\": 3, \"heap\": {}, \"event\": \"step_line\", \"stack_to_render\": [], \"ordered_globals\": [\"x\", \"i\"], \"stdout\": \"\", \"func_name\": \"<module>\", \"globals\": {\"i\": 57, \"x\": 58}}, {\"line\": 4, \"heap\": {}, \"event\": \"step_line\", \"stack_to_render\": [], \"ordered_globals\": [\"x\", \"i\"], \"stdout\": \"\", \"func_name\": \"<module>\", \"globals\": {\"i\": 58, \"x\": 58}}, {\"line\": 3, \"heap\": {}, \"event\": \"step_line\", \"stack_to_render\": [], \"ordered_globals\": [\"x\", \"i\"], \"stdout\": \"\", \"func_name\": \"<module>\", \"globals\": {\"i\": 58, \"x\": 59}}, {\"line\": 4, \"heap\": {}, \"event\": \"step_line\", \"stack_to_render\": [], \"ordered_globals\": [\"x\", \"i\"], \"stdout\": \"\", \"func_name\": \"<module>\", \"globals\": {\"i\": 59, \"x\": 59}}, {\"line\": 3, \"heap\": {}, \"event\": \"step_line\", \"stack_to_render\": [], \"ordered_globals\": [\"x\", \"i\"], \"stdout\": \"\", \"func_name\": \"<module>\", \"globals\": {\"i\": 59, \"x\": 60}}, {\"line\": 4, \"heap\": {}, \"event\": \"step_line\", \"stack_to_render\": [], \"ordered_globals\": [\"x\", \"i\"], \"stdout\": \"\", \"func_name\": \"<module>\", \"globals\": {\"i\": 60, \"x\": 60}}, {\"line\": 3, \"heap\": {}, \"event\": \"step_line\", \"stack_to_render\": [], \"ordered_globals\": [\"x\", \"i\"], \"stdout\": \"\", \"func_name\": \"<module>\", \"globals\": {\"i\": 60, \"x\": 61}}, {\"line\": 4, \"heap\": {}, \"event\": \"step_line\", \"stack_to_render\": [], \"ordered_globals\": [\"x\", \"i\"], \"stdout\": \"\", \"func_name\": \"<module>\", \"globals\": {\"i\": 61, \"x\": 61}}, {\"line\": 3, \"heap\": {}, \"event\": \"step_line\", \"stack_to_render\": [], \"ordered_globals\": [\"x\", \"i\"], \"stdout\": \"\", \"func_name\": \"<module>\", \"globals\": {\"i\": 61, \"x\": 62}}, {\"line\": 4, \"heap\": {}, \"event\": \"step_line\", \"stack_to_render\": [], \"ordered_globals\": [\"x\", \"i\"], \"stdout\": \"\", \"func_name\": \"<module>\", \"globals\": {\"i\": 62, \"x\": 62}}, {\"line\": 3, \"heap\": {}, \"event\": \"step_line\", \"stack_to_render\": [], \"ordered_globals\": [\"x\", \"i\"], \"stdout\": \"\", \"func_name\": \"<module>\", \"globals\": {\"i\": 62, \"x\": 63}}, {\"line\": 4, \"heap\": {}, \"event\": \"step_line\", \"stack_to_render\": [], \"ordered_globals\": [\"x\", \"i\"], \"stdout\": \"\", \"func_name\": \"<module>\", \"globals\": {\"i\": 63, \"x\": 63}}, {\"line\": 3, \"heap\": {}, \"event\": \"step_line\", \"stack_to_render\": [], \"ordered_globals\": [\"x\", \"i\"], \"stdout\": \"\", \"func_name\": \"<module>\", \"globals\": {\"i\": 63, \"x\": 64}}, {\"line\": 4, \"heap\": {}, \"event\": \"step_line\", \"stack_to_render\": [], \"ordered_globals\": [\"x\", \"i\"], \"stdout\": \"\", \"func_name\": \"<module>\", \"globals\": {\"i\": 64, \"x\": 64}}, {\"line\": 3, \"heap\": {}, \"event\": \"step_line\", \"stack_to_render\": [], \"ordered_globals\": [\"x\", \"i\"], \"stdout\": \"\", \"func_name\": \"<module>\", \"globals\": {\"i\": 64, \"x\": 65}}, {\"line\": 4, \"heap\": {}, \"event\": \"step_line\", \"stack_to_render\": [], \"ordered_globals\": [\"x\", \"i\"], \"stdout\": \"\", \"func_name\": \"<module>\", \"globals\": {\"i\": 65, \"x\": 65}}, {\"line\": 3, \"heap\": {}, \"event\": \"step_line\", \"stack_to_render\": [], \"ordered_globals\": [\"x\", \"i\"], \"stdout\": \"\", \"func_name\": \"<module>\", \"globals\": {\"i\": 65, \"x\": 66}}, {\"line\": 4, \"heap\": {}, \"event\": \"step_line\", \"stack_to_render\": [], \"ordered_globals\": [\"x\", \"i\"], \"stdout\": \"\", \"func_name\": \"<module>\", \"globals\": {\"i\": 66, \"x\": 66}}, {\"line\": 3, \"heap\": {}, \"event\": \"step_line\", \"stack_to_render\": [], \"ordered_globals\": [\"x\", \"i\"], \"stdout\": \"\", \"func_name\": \"<module>\", \"globals\": {\"i\": 66, \"x\": 67}}, {\"line\": 4, \"heap\": {}, \"event\": \"step_line\", \"stack_to_render\": [], \"ordered_globals\": [\"x\", \"i\"], \"stdout\": \"\", \"func_name\": \"<module>\", \"globals\": {\"i\": 67, \"x\": 67}}, {\"line\": 3, \"heap\": {}, \"event\": \"step_line\", \"stack_to_render\": [], \"ordered_globals\": [\"x\", \"i\"], \"stdout\": \"\", \"func_name\": \"<module>\", \"globals\": {\"i\": 67, \"x\": 68}}, {\"line\": 4, \"heap\": {}, \"event\": \"step_line\", \"stack_to_render\": [], \"ordered_globals\": [\"x\", \"i\"], \"stdout\": \"\", \"func_name\": \"<module>\", \"globals\": {\"i\": 68, \"x\": 68}}, {\"line\": 3, \"heap\": {}, \"event\": \"step_line\", \"stack_to_render\": [], \"ordered_globals\": [\"x\", \"i\"], \"stdout\": \"\", \"func_name\": \"<module>\", \"globals\": {\"i\": 68, \"x\": 69}}, {\"line\": 4, \"heap\": {}, \"event\": \"step_line\", \"stack_to_render\": [], \"ordered_globals\": [\"x\", \"i\"], \"stdout\": \"\", \"func_name\": \"<module>\", \"globals\": {\"i\": 69, \"x\": 69}}, {\"line\": 3, \"heap\": {}, \"event\": \"step_line\", \"stack_to_render\": [], \"ordered_globals\": [\"x\", \"i\"], \"stdout\": \"\", \"func_name\": \"<module>\", \"globals\": {\"i\": 69, \"x\": 70}}, {\"line\": 4, \"heap\": {}, \"event\": \"step_line\", \"stack_to_render\": [], \"ordered_globals\": [\"x\", \"i\"], \"stdout\": \"\", \"func_name\": \"<module>\", \"globals\": {\"i\": 70, \"x\": 70}}, {\"line\": 3, \"heap\": {}, \"event\": \"step_line\", \"stack_to_render\": [], \"ordered_globals\": [\"x\", \"i\"], \"stdout\": \"\", \"func_name\": \"<module>\", \"globals\": {\"i\": 70, \"x\": 71}}, {\"line\": 4, \"heap\": {}, \"event\": \"step_line\", \"stack_to_render\": [], \"ordered_globals\": [\"x\", \"i\"], \"stdout\": \"\", \"func_name\": \"<module>\", \"globals\": {\"i\": 71, \"x\": 71}}, {\"line\": 3, \"heap\": {}, \"event\": \"step_line\", \"stack_to_render\": [], \"ordered_globals\": [\"x\", \"i\"], \"stdout\": \"\", \"func_name\": \"<module>\", \"globals\": {\"i\": 71, \"x\": 72}}, {\"line\": 4, \"heap\": {}, \"event\": \"step_line\", \"stack_to_render\": [], \"ordered_globals\": [\"x\", \"i\"], \"stdout\": \"\", \"func_name\": \"<module>\", \"globals\": {\"i\": 72, \"x\": 72}}, {\"line\": 3, \"heap\": {}, \"event\": \"step_line\", \"stack_to_render\": [], \"ordered_globals\": [\"x\", \"i\"], \"stdout\": \"\", \"func_name\": \"<module>\", \"globals\": {\"i\": 72, \"x\": 73}}, {\"line\": 4, \"heap\": {}, \"event\": \"step_line\", \"stack_to_render\": [], \"ordered_globals\": [\"x\", \"i\"], \"stdout\": \"\", \"func_name\": \"<module>\", \"globals\": {\"i\": 73, \"x\": 73}}, {\"line\": 3, \"heap\": {}, \"event\": \"step_line\", \"stack_to_render\": [], \"ordered_globals\": [\"x\", \"i\"], \"stdout\": \"\", \"func_name\": \"<module>\", \"globals\": {\"i\": 73, \"x\": 74}}, {\"line\": 4, \"heap\": {}, \"event\": \"step_line\", \"stack_to_render\": [], \"ordered_globals\": [\"x\", \"i\"], \"stdout\": \"\", \"func_name\": \"<module>\", \"globals\": {\"i\": 74, \"x\": 74}}, {\"line\": 3, \"heap\": {}, \"event\": \"step_line\", \"stack_to_render\": [], \"ordered_globals\": [\"x\", \"i\"], \"stdout\": \"\", \"func_name\": \"<module>\", \"globals\": {\"i\": 74, \"x\": 75}}, {\"line\": 4, \"heap\": {}, \"event\": \"step_line\", \"stack_to_render\": [], \"ordered_globals\": [\"x\", \"i\"], \"stdout\": \"\", \"func_name\": \"<module>\", \"globals\": {\"i\": 75, \"x\": 75}}, {\"line\": 3, \"heap\": {}, \"event\": \"step_line\", \"stack_to_render\": [], \"ordered_globals\": [\"x\", \"i\"], \"stdout\": \"\", \"func_name\": \"<module>\", \"globals\": {\"i\": 75, \"x\": 76}}, {\"line\": 4, \"heap\": {}, \"event\": \"step_line\", \"stack_to_render\": [], \"ordered_globals\": [\"x\", \"i\"], \"stdout\": \"\", \"func_name\": \"<module>\", \"globals\": {\"i\": 76, \"x\": 76}}, {\"line\": 3, \"heap\": {}, \"event\": \"step_line\", \"stack_to_render\": [], \"ordered_globals\": [\"x\", \"i\"], \"stdout\": \"\", \"func_name\": \"<module>\", \"globals\": {\"i\": 76, \"x\": 77}}, {\"line\": 4, \"heap\": {}, \"event\": \"step_line\", \"stack_to_render\": [], \"ordered_globals\": [\"x\", \"i\"], \"stdout\": \"\", \"func_name\": \"<module>\", \"globals\": {\"i\": 77, \"x\": 77}}, {\"line\": 3, \"heap\": {}, \"event\": \"step_line\", \"stack_to_render\": [], \"ordered_globals\": [\"x\", \"i\"], \"stdout\": \"\", \"func_name\": \"<module>\", \"globals\": {\"i\": 77, \"x\": 78}}, {\"line\": 4, \"heap\": {}, \"event\": \"step_line\", \"stack_to_render\": [], \"ordered_globals\": [\"x\", \"i\"], \"stdout\": \"\", \"func_name\": \"<module>\", \"globals\": {\"i\": 78, \"x\": 78}}, {\"line\": 3, \"heap\": {}, \"event\": \"step_line\", \"stack_to_render\": [], \"ordered_globals\": [\"x\", \"i\"], \"stdout\": \"\", \"func_name\": \"<module>\", \"globals\": {\"i\": 78, \"x\": 79}}, {\"line\": 4, \"heap\": {}, \"event\": \"step_line\", \"stack_to_render\": [], \"ordered_globals\": [\"x\", \"i\"], \"stdout\": \"\", \"func_name\": \"<module>\", \"globals\": {\"i\": 79, \"x\": 79}}, {\"line\": 3, \"heap\": {}, \"event\": \"step_line\", \"stack_to_render\": [], \"ordered_globals\": [\"x\", \"i\"], \"stdout\": \"\", \"func_name\": \"<module>\", \"globals\": {\"i\": 79, \"x\": 80}}, {\"line\": 4, \"heap\": {}, \"event\": \"step_line\", \"stack_to_render\": [], \"ordered_globals\": [\"x\", \"i\"], \"stdout\": \"\", \"func_name\": \"<module>\", \"globals\": {\"i\": 80, \"x\": 80}}, {\"line\": 3, \"heap\": {}, \"event\": \"step_line\", \"stack_to_render\": [], \"ordered_globals\": [\"x\", \"i\"], \"stdout\": \"\", \"func_name\": \"<module>\", \"globals\": {\"i\": 80, \"x\": 81}}, {\"line\": 4, \"heap\": {}, \"event\": \"step_line\", \"stack_to_render\": [], \"ordered_globals\": [\"x\", \"i\"], \"stdout\": \"\", \"func_name\": \"<module>\", \"globals\": {\"i\": 81, \"x\": 81}}, {\"line\": 3, \"heap\": {}, \"event\": \"step_line\", \"stack_to_render\": [], \"ordered_globals\": [\"x\", \"i\"], \"stdout\": \"\", \"func_name\": \"<module>\", \"globals\": {\"i\": 81, \"x\": 82}}, {\"line\": 4, \"heap\": {}, \"event\": \"step_line\", \"stack_to_render\": [], \"ordered_globals\": [\"x\", \"i\"], \"stdout\": \"\", \"func_name\": \"<module>\", \"globals\": {\"i\": 82, \"x\": 82}}, {\"line\": 3, \"heap\": {}, \"event\": \"step_line\", \"stack_to_render\": [], \"ordered_globals\": [\"x\", \"i\"], \"stdout\": \"\", \"func_name\": \"<module>\", \"globals\": {\"i\": 82, \"x\": 83}}, {\"line\": 4, \"heap\": {}, \"event\": \"step_line\", \"stack_to_render\": [], \"ordered_globals\": [\"x\", \"i\"], \"stdout\": \"\", \"func_name\": \"<module>\", \"globals\": {\"i\": 83, \"x\": 83}}, {\"line\": 3, \"heap\": {}, \"event\": \"step_line\", \"stack_to_render\": [], \"ordered_globals\": [\"x\", \"i\"], \"stdout\": \"\", \"func_name\": \"<module>\", \"globals\": {\"i\": 83, \"x\": 84}}, {\"line\": 4, \"heap\": {}, \"event\": \"step_line\", \"stack_to_render\": [], \"ordered_globals\": [\"x\", \"i\"], \"stdout\": \"\", \"func_name\": \"<module>\", \"globals\": {\"i\": 84, \"x\": 84}}, {\"line\": 3, \"heap\": {}, \"event\": \"step_line\", \"stack_to_render\": [], \"ordered_globals\": [\"x\", \"i\"], \"stdout\": \"\", \"func_name\": \"<module>\", \"globals\": {\"i\": 84, \"x\": 85}}, {\"line\": 4, \"heap\": {}, \"event\": \"step_line\", \"stack_to_render\": [], \"ordered_globals\": [\"x\", \"i\"], \"stdout\": \"\", \"func_name\": \"<module>\", \"globals\": {\"i\": 85, \"x\": 85}}, {\"line\": 3, \"heap\": {}, \"event\": \"step_line\", \"stack_to_render\": [], \"ordered_globals\": [\"x\", \"i\"], \"stdout\": \"\", \"func_name\": \"<module>\", \"globals\": {\"i\": 85, \"x\": 86}}, {\"line\": 4, \"heap\": {}, \"event\": \"step_line\", \"stack_to_render\": [], \"ordered_globals\": [\"x\", \"i\"], \"stdout\": \"\", \"func_name\": \"<module>\", \"globals\": {\"i\": 86, \"x\": 86}}, {\"line\": 3, \"heap\": {}, \"event\": \"step_line\", \"stack_to_render\": [], \"ordered_globals\": [\"x\", \"i\"], \"stdout\": \"\", \"func_name\": \"<module>\", \"globals\": {\"i\": 86, \"x\": 87}}, {\"line\": 4, \"heap\": {}, \"event\": \"step_line\", \"stack_to_render\": [], \"ordered_globals\": [\"x\", \"i\"], \"stdout\": \"\", \"func_name\": \"<module>\", \"globals\": {\"i\": 87, \"x\": 87}}, {\"line\": 3, \"heap\": {}, \"event\": \"step_line\", \"stack_to_render\": [], \"ordered_globals\": [\"x\", \"i\"], \"stdout\": \"\", \"func_name\": \"<module>\", \"globals\": {\"i\": 87, \"x\": 88}}, {\"line\": 4, \"heap\": {}, \"event\": \"step_line\", \"stack_to_render\": [], \"ordered_globals\": [\"x\", \"i\"], \"stdout\": \"\", \"func_name\": \"<module>\", \"globals\": {\"i\": 88, \"x\": 88}}, {\"line\": 3, \"heap\": {}, \"event\": \"step_line\", \"stack_to_render\": [], \"ordered_globals\": [\"x\", \"i\"], \"stdout\": \"\", \"func_name\": \"<module>\", \"globals\": {\"i\": 88, \"x\": 89}}, {\"line\": 4, \"heap\": {}, \"event\": \"step_line\", \"stack_to_render\": [], \"ordered_globals\": [\"x\", \"i\"], \"stdout\": \"\", \"func_name\": \"<module>\", \"globals\": {\"i\": 89, \"x\": 89}}, {\"line\": 3, \"heap\": {}, \"event\": \"step_line\", \"stack_to_render\": [], \"ordered_globals\": [\"x\", \"i\"], \"stdout\": \"\", \"func_name\": \"<module>\", \"globals\": {\"i\": 89, \"x\": 90}}, {\"line\": 4, \"heap\": {}, \"event\": \"step_line\", \"stack_to_render\": [], \"ordered_globals\": [\"x\", \"i\"], \"stdout\": \"\", \"func_name\": \"<module>\", \"globals\": {\"i\": 90, \"x\": 90}}, {\"line\": 3, \"heap\": {}, \"event\": \"step_line\", \"stack_to_render\": [], \"ordered_globals\": [\"x\", \"i\"], \"stdout\": \"\", \"func_name\": \"<module>\", \"globals\": {\"i\": 90, \"x\": 91}}, {\"line\": 4, \"heap\": {}, \"event\": \"step_line\", \"stack_to_render\": [], \"ordered_globals\": [\"x\", \"i\"], \"stdout\": \"\", \"func_name\": \"<module>\", \"globals\": {\"i\": 91, \"x\": 91}}, {\"line\": 3, \"heap\": {}, \"event\": \"step_line\", \"stack_to_render\": [], \"ordered_globals\": [\"x\", \"i\"], \"stdout\": \"\", \"func_name\": \"<module>\", \"globals\": {\"i\": 91, \"x\": 92}}, {\"line\": 4, \"heap\": {}, \"event\": \"step_line\", \"stack_to_render\": [], \"ordered_globals\": [\"x\", \"i\"], \"stdout\": \"\", \"func_name\": \"<module>\", \"globals\": {\"i\": 92, \"x\": 92}}, {\"line\": 3, \"heap\": {}, \"event\": \"step_line\", \"stack_to_render\": [], \"ordered_globals\": [\"x\", \"i\"], \"stdout\": \"\", \"func_name\": \"<module>\", \"globals\": {\"i\": 92, \"x\": 93}}, {\"line\": 4, \"heap\": {}, \"event\": \"step_line\", \"stack_to_render\": [], \"ordered_globals\": [\"x\", \"i\"], \"stdout\": \"\", \"func_name\": \"<module>\", \"globals\": {\"i\": 93, \"x\": 93}}, {\"line\": 3, \"heap\": {}, \"event\": \"step_line\", \"stack_to_render\": [], \"ordered_globals\": [\"x\", \"i\"], \"stdout\": \"\", \"func_name\": \"<module>\", \"globals\": {\"i\": 93, \"x\": 94}}, {\"line\": 4, \"heap\": {}, \"event\": \"step_line\", \"stack_to_render\": [], \"ordered_globals\": [\"x\", \"i\"], \"stdout\": \"\", \"func_name\": \"<module>\", \"globals\": {\"i\": 94, \"x\": 94}}, {\"line\": 3, \"heap\": {}, \"event\": \"step_line\", \"stack_to_render\": [], \"ordered_globals\": [\"x\", \"i\"], \"stdout\": \"\", \"func_name\": \"<module>\", \"globals\": {\"i\": 94, \"x\": 95}}, {\"line\": 4, \"heap\": {}, \"event\": \"step_line\", \"stack_to_render\": [], \"ordered_globals\": [\"x\", \"i\"], \"stdout\": \"\", \"func_name\": \"<module>\", \"globals\": {\"i\": 95, \"x\": 95}}, {\"line\": 3, \"heap\": {}, \"event\": \"step_line\", \"stack_to_render\": [], \"ordered_globals\": [\"x\", \"i\"], \"stdout\": \"\", \"func_name\": \"<module>\", \"globals\": {\"i\": 95, \"x\": 96}}, {\"line\": 4, \"heap\": {}, \"event\": \"step_line\", \"stack_to_render\": [], \"ordered_globals\": [\"x\", \"i\"], \"stdout\": \"\", \"func_name\": \"<module>\", \"globals\": {\"i\": 96, \"x\": 96}}, {\"line\": 3, \"heap\": {}, \"event\": \"step_line\", \"stack_to_render\": [], \"ordered_globals\": [\"x\", \"i\"], \"stdout\": \"\", \"func_name\": \"<module>\", \"globals\": {\"i\": 96, \"x\": 97}}, {\"line\": 4, \"heap\": {}, \"event\": \"step_line\", \"stack_to_render\": [], \"ordered_globals\": [\"x\", \"i\"], \"stdout\": \"\", \"func_name\": \"<module>\", \"globals\": {\"i\": 97, \"x\": 97}}, {\"line\": 3, \"heap\": {}, \"event\": \"step_line\", \"stack_to_render\": [], \"ordered_globals\": [\"x\", \"i\"], \"stdout\": \"\", \"func_name\": \"<module>\", \"globals\": {\"i\": 97, \"x\": 98}}, {\"line\": 4, \"heap\": {}, \"event\": \"step_line\", \"stack_to_render\": [], \"ordered_globals\": [\"x\", \"i\"], \"stdout\": \"\", \"func_name\": \"<module>\", \"globals\": {\"i\": 98, \"x\": 98}}, {\"line\": 3, \"heap\": {}, \"event\": \"step_line\", \"stack_to_render\": [], \"ordered_globals\": [\"x\", \"i\"], \"stdout\": \"\", \"func_name\": \"<module>\", \"globals\": {\"i\": 98, \"x\": 99}}, {\"line\": 4, \"heap\": {}, \"event\": \"step_line\", \"stack_to_render\": [], \"ordered_globals\": [\"x\", \"i\"], \"stdout\": \"\", \"func_name\": \"<module>\", \"globals\": {\"i\": 99, \"x\": 99}}, {\"line\": 3, \"heap\": {}, \"event\": \"step_line\", \"stack_to_render\": [], \"ordered_globals\": [\"x\", \"i\"], \"stdout\": \"\", \"func_name\": \"<module>\", \"globals\": {\"i\": 99, \"x\": 100}}, {\"line\": 4, \"heap\": {}, \"event\": \"step_line\", \"stack_to_render\": [], \"ordered_globals\": [\"x\", \"i\"], \"stdout\": \"\", \"func_name\": \"<module>\", \"globals\": {\"i\": 100, \"x\": 100}}, {\"line\": 3, \"heap\": {}, \"event\": \"step_line\", \"stack_to_render\": [], \"ordered_globals\": [\"x\", \"i\"], \"stdout\": \"\", \"func_name\": \"<module>\", \"globals\": {\"i\": 100, \"x\": 101}}, {\"line\": 4, \"heap\": {}, \"event\": \"step_line\", \"stack_to_render\": [], \"ordered_globals\": [\"x\", \"i\"], \"stdout\": \"\", \"func_name\": \"<module>\", \"globals\": {\"i\": 101, \"x\": 101}}, {\"line\": 3, \"heap\": {}, \"event\": \"step_line\", \"stack_to_render\": [], \"ordered_globals\": [\"x\", \"i\"], \"stdout\": \"\", \"func_name\": \"<module>\", \"globals\": {\"i\": 101, \"x\": 102}}, {\"line\": 4, \"heap\": {}, \"event\": \"step_line\", \"stack_to_render\": [], \"ordered_globals\": [\"x\", \"i\"], \"stdout\": \"\", \"func_name\": \"<module>\", \"globals\": {\"i\": 102, \"x\": 102}}, {\"line\": 3, \"heap\": {}, \"event\": \"step_line\", \"stack_to_render\": [], \"ordered_globals\": [\"x\", \"i\"], \"stdout\": \"\", \"func_name\": \"<module>\", \"globals\": {\"i\": 102, \"x\": 103}}, {\"line\": 4, \"heap\": {}, \"event\": \"step_line\", \"stack_to_render\": [], \"ordered_globals\": [\"x\", \"i\"], \"stdout\": \"\", \"func_name\": \"<module>\", \"globals\": {\"i\": 103, \"x\": 103}}, {\"line\": 3, \"heap\": {}, \"event\": \"step_line\", \"stack_to_render\": [], \"ordered_globals\": [\"x\", \"i\"], \"stdout\": \"\", \"func_name\": \"<module>\", \"globals\": {\"i\": 103, \"x\": 104}}, {\"line\": 4, \"heap\": {}, \"event\": \"step_line\", \"stack_to_render\": [], \"ordered_globals\": [\"x\", \"i\"], \"stdout\": \"\", \"func_name\": \"<module>\", \"globals\": {\"i\": 104, \"x\": 104}}, {\"line\": 3, \"heap\": {}, \"event\": \"step_line\", \"stack_to_render\": [], \"ordered_globals\": [\"x\", \"i\"], \"stdout\": \"\", \"func_name\": \"<module>\", \"globals\": {\"i\": 104, \"x\": 105}}, {\"line\": 4, \"heap\": {}, \"event\": \"step_line\", \"stack_to_render\": [], \"ordered_globals\": [\"x\", \"i\"], \"stdout\": \"\", \"func_name\": \"<module>\", \"globals\": {\"i\": 105, \"x\": 105}}, {\"line\": 3, \"heap\": {}, \"event\": \"step_line\", \"stack_to_render\": [], \"ordered_globals\": [\"x\", \"i\"], \"stdout\": \"\", \"func_name\": \"<module>\", \"globals\": {\"i\": 105, \"x\": 106}}, {\"line\": 4, \"heap\": {}, \"event\": \"step_line\", \"stack_to_render\": [], \"ordered_globals\": [\"x\", \"i\"], \"stdout\": \"\", \"func_name\": \"<module>\", \"globals\": {\"i\": 106, \"x\": 106}}, {\"line\": 3, \"heap\": {}, \"event\": \"step_line\", \"stack_to_render\": [], \"ordered_globals\": [\"x\", \"i\"], \"stdout\": \"\", \"func_name\": \"<module>\", \"globals\": {\"i\": 106, \"x\": 107}}, {\"line\": 4, \"heap\": {}, \"event\": \"step_line\", \"stack_to_render\": [], \"ordered_globals\": [\"x\", \"i\"], \"stdout\": \"\", \"func_name\": \"<module>\", \"globals\": {\"i\": 107, \"x\": 107}}, {\"line\": 3, \"heap\": {}, \"event\": \"step_line\", \"stack_to_render\": [], \"ordered_globals\": [\"x\", \"i\"], \"stdout\": \"\", \"func_name\": \"<module>\", \"globals\": {\"i\": 107, \"x\": 108}}, {\"line\": 4, \"heap\": {}, \"event\": \"step_line\", \"stack_to_render\": [], \"ordered_globals\": [\"x\", \"i\"], \"stdout\": \"\", \"func_name\": \"<module>\", \"globals\": {\"i\": 108, \"x\": 108}}, {\"line\": 3, \"heap\": {}, \"event\": \"step_line\", \"stack_to_render\": [], \"ordered_globals\": [\"x\", \"i\"], \"stdout\": \"\", \"func_name\": \"<module>\", \"globals\": {\"i\": 108, \"x\": 109}}, {\"line\": 4, \"heap\": {}, \"event\": \"step_line\", \"stack_to_render\": [], \"ordered_globals\": [\"x\", \"i\"], \"stdout\": \"\", \"func_name\": \"<module>\", \"globals\": {\"i\": 109, \"x\": 109}}, {\"line\": 3, \"heap\": {}, \"event\": \"step_line\", \"stack_to_render\": [], \"ordered_globals\": [\"x\", \"i\"], \"stdout\": \"\", \"func_name\": \"<module>\", \"globals\": {\"i\": 109, \"x\": 110}}, {\"line\": 4, \"heap\": {}, \"event\": \"step_line\", \"stack_to_render\": [], \"ordered_globals\": [\"x\", \"i\"], \"stdout\": \"\", \"func_name\": \"<module>\", \"globals\": {\"i\": 110, \"x\": 110}}, {\"line\": 3, \"heap\": {}, \"event\": \"step_line\", \"stack_to_render\": [], \"ordered_globals\": [\"x\", \"i\"], \"stdout\": \"\", \"func_name\": \"<module>\", \"globals\": {\"i\": 110, \"x\": 111}}, {\"line\": 4, \"heap\": {}, \"event\": \"step_line\", \"stack_to_render\": [], \"ordered_globals\": [\"x\", \"i\"], \"stdout\": \"\", \"func_name\": \"<module>\", \"globals\": {\"i\": 111, \"x\": 111}}, {\"line\": 3, \"heap\": {}, \"event\": \"step_line\", \"stack_to_render\": [], \"ordered_globals\": [\"x\", \"i\"], \"stdout\": \"\", \"func_name\": \"<module>\", \"globals\": {\"i\": 111, \"x\": 112}}, {\"line\": 4, \"heap\": {}, \"event\": \"step_line\", \"stack_to_render\": [], \"ordered_globals\": [\"x\", \"i\"], \"stdout\": \"\", \"func_name\": \"<module>\", \"globals\": {\"i\": 112, \"x\": 112}}, {\"line\": 3, \"heap\": {}, \"event\": \"step_line\", \"stack_to_render\": [], \"ordered_globals\": [\"x\", \"i\"], \"stdout\": \"\", \"func_name\": \"<module>\", \"globals\": {\"i\": 112, \"x\": 113}}, {\"line\": 4, \"heap\": {}, \"event\": \"step_line\", \"stack_to_render\": [], \"ordered_globals\": [\"x\", \"i\"], \"stdout\": \"\", \"func_name\": \"<module>\", \"globals\": {\"i\": 113, \"x\": 113}}, {\"line\": 3, \"heap\": {}, \"event\": \"step_line\", \"stack_to_render\": [], \"ordered_globals\": [\"x\", \"i\"], \"stdout\": \"\", \"func_name\": \"<module>\", \"globals\": {\"i\": 113, \"x\": 114}}, {\"line\": 4, \"heap\": {}, \"event\": \"step_line\", \"stack_to_render\": [], \"ordered_globals\": [\"x\", \"i\"], \"stdout\": \"\", \"func_name\": \"<module>\", \"globals\": {\"i\": 114, \"x\": 114}}, {\"line\": 3, \"heap\": {}, \"event\": \"step_line\", \"stack_to_render\": [], \"ordered_globals\": [\"x\", \"i\"], \"stdout\": \"\", \"func_name\": \"<module>\", \"globals\": {\"i\": 114, \"x\": 115}}, {\"line\": 4, \"heap\": {}, \"event\": \"step_line\", \"stack_to_render\": [], \"ordered_globals\": [\"x\", \"i\"], \"stdout\": \"\", \"func_name\": \"<module>\", \"globals\": {\"i\": 115, \"x\": 115}}, {\"line\": 3, \"heap\": {}, \"event\": \"step_line\", \"stack_to_render\": [], \"ordered_globals\": [\"x\", \"i\"], \"stdout\": \"\", \"func_name\": \"<module>\", \"globals\": {\"i\": 115, \"x\": 116}}, {\"line\": 4, \"heap\": {}, \"event\": \"step_line\", \"stack_to_render\": [], \"ordered_globals\": [\"x\", \"i\"], \"stdout\": \"\", \"func_name\": \"<module>\", \"globals\": {\"i\": 116, \"x\": 116}}, {\"line\": 3, \"heap\": {}, \"event\": \"step_line\", \"stack_to_render\": [], \"ordered_globals\": [\"x\", \"i\"], \"stdout\": \"\", \"func_name\": \"<module>\", \"globals\": {\"i\": 116, \"x\": 117}}, {\"line\": 4, \"heap\": {}, \"event\": \"step_line\", \"stack_to_render\": [], \"ordered_globals\": [\"x\", \"i\"], \"stdout\": \"\", \"func_name\": \"<module>\", \"globals\": {\"i\": 117, \"x\": 117}}, {\"line\": 3, \"heap\": {}, \"event\": \"step_line\", \"stack_to_render\": [], \"ordered_globals\": [\"x\", \"i\"], \"stdout\": \"\", \"func_name\": \"<module>\", \"globals\": {\"i\": 117, \"x\": 118}}, {\"line\": 4, \"heap\": {}, \"event\": \"step_line\", \"stack_to_render\": [], \"ordered_globals\": [\"x\", \"i\"], \"stdout\": \"\", \"func_name\": \"<module>\", \"globals\": {\"i\": 118, \"x\": 118}}, {\"line\": 3, \"heap\": {}, \"event\": \"step_line\", \"stack_to_render\": [], \"ordered_globals\": [\"x\", \"i\"], \"stdout\": \"\", \"func_name\": \"<module>\", \"globals\": {\"i\": 118, \"x\": 119}}, {\"line\": 4, \"heap\": {}, \"event\": \"step_line\", \"stack_to_render\": [], \"ordered_globals\": [\"x\", \"i\"], \"stdout\": \"\", \"func_name\": \"<module>\", \"globals\": {\"i\": 119, \"x\": 119}}, {\"line\": 3, \"heap\": {}, \"event\": \"step_line\", \"stack_to_render\": [], \"ordered_globals\": [\"x\", \"i\"], \"stdout\": \"\", \"func_name\": \"<module>\", \"globals\": {\"i\": 119, \"x\": 120}}, {\"line\": 4, \"heap\": {}, \"event\": \"step_line\", \"stack_to_render\": [], \"ordered_globals\": [\"x\", \"i\"], \"stdout\": \"\", \"func_name\": \"<module>\", \"globals\": {\"i\": 120, \"x\": 120}}, {\"line\": 3, \"heap\": {}, \"event\": \"step_line\", \"stack_to_render\": [], \"ordered_globals\": [\"x\", \"i\"], \"stdout\": \"\", \"func_name\": \"<module>\", \"globals\": {\"i\": 120, \"x\": 121}}, {\"line\": 4, \"heap\": {}, \"event\": \"step_line\", \"stack_to_render\": [], \"ordered_globals\": [\"x\", \"i\"], \"stdout\": \"\", \"func_name\": \"<module>\", \"globals\": {\"i\": 121, \"x\": 121}}, {\"line\": 3, \"heap\": {}, \"event\": \"step_line\", \"stack_to_render\": [], \"ordered_globals\": [\"x\", \"i\"], \"stdout\": \"\", \"func_name\": \"<module>\", \"globals\": {\"i\": 121, \"x\": 122}}, {\"line\": 4, \"heap\": {}, \"event\": \"step_line\", \"stack_to_render\": [], \"ordered_globals\": [\"x\", \"i\"], \"stdout\": \"\", \"func_name\": \"<module>\", \"globals\": {\"i\": 122, \"x\": 122}}, {\"line\": 3, \"heap\": {}, \"event\": \"step_line\", \"stack_to_render\": [], \"ordered_globals\": [\"x\", \"i\"], \"stdout\": \"\", \"func_name\": \"<module>\", \"globals\": {\"i\": 122, \"x\": 123}}, {\"line\": 4, \"heap\": {}, \"event\": \"step_line\", \"stack_to_render\": [], \"ordered_globals\": [\"x\", \"i\"], \"stdout\": \"\", \"func_name\": \"<module>\", \"globals\": {\"i\": 123, \"x\": 123}}, {\"line\": 3, \"heap\": {}, \"event\": \"step_line\", \"stack_to_render\": [], \"ordered_globals\": [\"x\", \"i\"], \"stdout\": \"\", \"func_name\": \"<module>\", \"globals\": {\"i\": 123, \"x\": 124}}, {\"line\": 4, \"heap\": {}, \"event\": \"step_line\", \"stack_to_render\": [], \"ordered_globals\": [\"x\", \"i\"], \"stdout\": \"\", \"func_name\": \"<module>\", \"globals\": {\"i\": 124, \"x\": 124}}, {\"line\": 3, \"heap\": {}, \"event\": \"step_line\", \"stack_to_render\": [], \"ordered_globals\": [\"x\", \"i\"], \"stdout\": \"\", \"func_name\": \"<module>\", \"globals\": {\"i\": 124, \"x\": 125}}, {\"line\": 4, \"heap\": {}, \"event\": \"step_line\", \"stack_to_render\": [], \"ordered_globals\": [\"x\", \"i\"], \"stdout\": \"\", \"func_name\": \"<module>\", \"globals\": {\"i\": 125, \"x\": 125}}, {\"line\": 3, \"heap\": {}, \"event\": \"step_line\", \"stack_to_render\": [], \"ordered_globals\": [\"x\", \"i\"], \"stdout\": \"\", \"func_name\": \"<module>\", \"globals\": {\"i\": 125, \"x\": 126}}, {\"line\": 4, \"heap\": {}, \"event\": \"step_line\", \"stack_to_render\": [], \"ordered_globals\": [\"x\", \"i\"], \"stdout\": \"\", \"func_name\": \"<module>\", \"globals\": {\"i\": 126, \"x\": 126}}, {\"line\": 3, \"heap\": {}, \"event\": \"step_line\", \"stack_to_render\": [], \"ordered_globals\": [\"x\", \"i\"], \"stdout\": \"\", \"func_name\": \"<module>\", \"globals\": {\"i\": 126, \"x\": 127}}, {\"line\": 4, \"heap\": {}, \"event\": \"step_line\", \"stack_to_render\": [], \"ordered_globals\": [\"x\", \"i\"], \"stdout\": \"\", \"func_name\": \"<module>\", \"globals\": {\"i\": 127, \"x\": 127}}, {\"line\": 3, \"heap\": {}, \"event\": \"step_line\", \"stack_to_render\": [], \"ordered_globals\": [\"x\", \"i\"], \"stdout\": \"\", \"func_name\": \"<module>\", \"globals\": {\"i\": 127, \"x\": 128}}, {\"line\": 4, \"heap\": {}, \"event\": \"step_line\", \"stack_to_render\": [], \"ordered_globals\": [\"x\", \"i\"], \"stdout\": \"\", \"func_name\": \"<module>\", \"globals\": {\"i\": 128, \"x\": 128}}, {\"line\": 3, \"heap\": {}, \"event\": \"step_line\", \"stack_to_render\": [], \"ordered_globals\": [\"x\", \"i\"], \"stdout\": \"\", \"func_name\": \"<module>\", \"globals\": {\"i\": 128, \"x\": 129}}, {\"line\": 4, \"heap\": {}, \"event\": \"step_line\", \"stack_to_render\": [], \"ordered_globals\": [\"x\", \"i\"], \"stdout\": \"\", \"func_name\": \"<module>\", \"globals\": {\"i\": 129, \"x\": 129}}, {\"line\": 3, \"heap\": {}, \"event\": \"step_line\", \"stack_to_render\": [], \"ordered_globals\": [\"x\", \"i\"], \"stdout\": \"\", \"func_name\": \"<module>\", \"globals\": {\"i\": 129, \"x\": 130}}, {\"line\": 4, \"heap\": {}, \"event\": \"step_line\", \"stack_to_render\": [], \"ordered_globals\": [\"x\", \"i\"], \"stdout\": \"\", \"func_name\": \"<module>\", \"globals\": {\"i\": 130, \"x\": 130}}, {\"line\": 3, \"heap\": {}, \"event\": \"step_line\", \"stack_to_render\": [], \"ordered_globals\": [\"x\", \"i\"], \"stdout\": \"\", \"func_name\": \"<module>\", \"globals\": {\"i\": 130, \"x\": 131}}, {\"line\": 4, \"heap\": {}, \"event\": \"step_line\", \"stack_to_render\": [], \"ordered_globals\": [\"x\", \"i\"], \"stdout\": \"\", \"func_name\": \"<module>\", \"globals\": {\"i\": 131, \"x\": 131}}, {\"line\": 3, \"heap\": {}, \"event\": \"step_line\", \"stack_to_render\": [], \"ordered_globals\": [\"x\", \"i\"], \"stdout\": \"\", \"func_name\": \"<module>\", \"globals\": {\"i\": 131, \"x\": 132}}, {\"line\": 4, \"heap\": {}, \"event\": \"step_line\", \"stack_to_render\": [], \"ordered_globals\": [\"x\", \"i\"], \"stdout\": \"\", \"func_name\": \"<module>\", \"globals\": {\"i\": 132, \"x\": 132}}, {\"line\": 3, \"heap\": {}, \"event\": \"step_line\", \"stack_to_render\": [], \"ordered_globals\": [\"x\", \"i\"], \"stdout\": \"\", \"func_name\": \"<module>\", \"globals\": {\"i\": 132, \"x\": 133}}, {\"line\": 4, \"heap\": {}, \"event\": \"step_line\", \"stack_to_render\": [], \"ordered_globals\": [\"x\", \"i\"], \"stdout\": \"\", \"func_name\": \"<module>\", \"globals\": {\"i\": 133, \"x\": 133}}, {\"line\": 3, \"heap\": {}, \"event\": \"step_line\", \"stack_to_render\": [], \"ordered_globals\": [\"x\", \"i\"], \"stdout\": \"\", \"func_name\": \"<module>\", \"globals\": {\"i\": 133, \"x\": 134}}, {\"line\": 4, \"heap\": {}, \"event\": \"step_line\", \"stack_to_render\": [], \"ordered_globals\": [\"x\", \"i\"], \"stdout\": \"\", \"func_name\": \"<module>\", \"globals\": {\"i\": 134, \"x\": 134}}, {\"line\": 3, \"heap\": {}, \"event\": \"step_line\", \"stack_to_render\": [], \"ordered_globals\": [\"x\", \"i\"], \"stdout\": \"\", \"func_name\": \"<module>\", \"globals\": {\"i\": 134, \"x\": 135}}, {\"line\": 4, \"heap\": {}, \"event\": \"step_line\", \"stack_to_render\": [], \"ordered_globals\": [\"x\", \"i\"], \"stdout\": \"\", \"func_name\": \"<module>\", \"globals\": {\"i\": 135, \"x\": 135}}, {\"line\": 3, \"heap\": {}, \"event\": \"step_line\", \"stack_to_render\": [], \"ordered_globals\": [\"x\", \"i\"], \"stdout\": \"\", \"func_name\": \"<module>\", \"globals\": {\"i\": 135, \"x\": 136}}, {\"line\": 4, \"heap\": {}, \"event\": \"step_line\", \"stack_to_render\": [], \"ordered_globals\": [\"x\", \"i\"], \"stdout\": \"\", \"func_name\": \"<module>\", \"globals\": {\"i\": 136, \"x\": 136}}, {\"line\": 3, \"heap\": {}, \"event\": \"step_line\", \"stack_to_render\": [], \"ordered_globals\": [\"x\", \"i\"], \"stdout\": \"\", \"func_name\": \"<module>\", \"globals\": {\"i\": 136, \"x\": 137}}, {\"line\": 4, \"heap\": {}, \"event\": \"step_line\", \"stack_to_render\": [], \"ordered_globals\": [\"x\", \"i\"], \"stdout\": \"\", \"func_name\": \"<module>\", \"globals\": {\"i\": 137, \"x\": 137}}, {\"line\": 3, \"heap\": {}, \"event\": \"step_line\", \"stack_to_render\": [], \"ordered_globals\": [\"x\", \"i\"], \"stdout\": \"\", \"func_name\": \"<module>\", \"globals\": {\"i\": 137, \"x\": 138}}, {\"line\": 4, \"heap\": {}, \"event\": \"step_line\", \"stack_to_render\": [], \"ordered_globals\": [\"x\", \"i\"], \"stdout\": \"\", \"func_name\": \"<module>\", \"globals\": {\"i\": 138, \"x\": 138}}, {\"line\": 3, \"heap\": {}, \"event\": \"step_line\", \"stack_to_render\": [], \"ordered_globals\": [\"x\", \"i\"], \"stdout\": \"\", \"func_name\": \"<module>\", \"globals\": {\"i\": 138, \"x\": 139}}, {\"line\": 4, \"heap\": {}, \"event\": \"step_line\", \"stack_to_render\": [], \"ordered_globals\": [\"x\", \"i\"], \"stdout\": \"\", \"func_name\": \"<module>\", \"globals\": {\"i\": 139, \"x\": 139}}, {\"line\": 3, \"heap\": {}, \"event\": \"step_line\", \"stack_to_render\": [], \"ordered_globals\": [\"x\", \"i\"], \"stdout\": \"\", \"func_name\": \"<module>\", \"globals\": {\"i\": 139, \"x\": 140}}, {\"line\": 4, \"heap\": {}, \"event\": \"step_line\", \"stack_to_render\": [], \"ordered_globals\": [\"x\", \"i\"], \"stdout\": \"\", \"func_name\": \"<module>\", \"globals\": {\"i\": 140, \"x\": 140}}, {\"line\": 3, \"heap\": {}, \"event\": \"step_line\", \"stack_to_render\": [], \"ordered_globals\": [\"x\", \"i\"], \"stdout\": \"\", \"func_name\": \"<module>\", \"globals\": {\"i\": 140, \"x\": 141}}, {\"line\": 4, \"heap\": {}, \"event\": \"step_line\", \"stack_to_render\": [], \"ordered_globals\": [\"x\", \"i\"], \"stdout\": \"\", \"func_name\": \"<module>\", \"globals\": {\"i\": 141, \"x\": 141}}, {\"line\": 3, \"heap\": {}, \"event\": \"step_line\", \"stack_to_render\": [], \"ordered_globals\": [\"x\", \"i\"], \"stdout\": \"\", \"func_name\": \"<module>\", \"globals\": {\"i\": 141, \"x\": 142}}, {\"line\": 4, \"heap\": {}, \"event\": \"step_line\", \"stack_to_render\": [], \"ordered_globals\": [\"x\", \"i\"], \"stdout\": \"\", \"func_name\": \"<module>\", \"globals\": {\"i\": 142, \"x\": 142}}, {\"line\": 3, \"heap\": {}, \"event\": \"step_line\", \"stack_to_render\": [], \"ordered_globals\": [\"x\", \"i\"], \"stdout\": \"\", \"func_name\": \"<module>\", \"globals\": {\"i\": 142, \"x\": 143}}, {\"line\": 4, \"heap\": {}, \"event\": \"step_line\", \"stack_to_render\": [], \"ordered_globals\": [\"x\", \"i\"], \"stdout\": \"\", \"func_name\": \"<module>\", \"globals\": {\"i\": 143, \"x\": 143}}, {\"line\": 3, \"heap\": {}, \"event\": \"step_line\", \"stack_to_render\": [], \"ordered_globals\": [\"x\", \"i\"], \"stdout\": \"\", \"func_name\": \"<module>\", \"globals\": {\"i\": 143, \"x\": 144}}, {\"line\": 4, \"heap\": {}, \"event\": \"step_line\", \"stack_to_render\": [], \"ordered_globals\": [\"x\", \"i\"], \"stdout\": \"\", \"func_name\": \"<module>\", \"globals\": {\"i\": 144, \"x\": 144}}, {\"line\": 3, \"heap\": {}, \"event\": \"step_line\", \"stack_to_render\": [], \"ordered_globals\": [\"x\", \"i\"], \"stdout\": \"\", \"func_name\": \"<module>\", \"globals\": {\"i\": 144, \"x\": 145}}, {\"line\": 4, \"heap\": {}, \"event\": \"step_line\", \"stack_to_render\": [], \"ordered_globals\": [\"x\", \"i\"], \"stdout\": \"\", \"func_name\": \"<module>\", \"globals\": {\"i\": 145, \"x\": 145}}, {\"line\": 3, \"heap\": {}, \"event\": \"step_line\", \"stack_to_render\": [], \"ordered_globals\": [\"x\", \"i\"], \"stdout\": \"\", \"func_name\": \"<module>\", \"globals\": {\"i\": 145, \"x\": 146}}, {\"line\": 4, \"heap\": {}, \"event\": \"step_line\", \"stack_to_render\": [], \"ordered_globals\": [\"x\", \"i\"], \"stdout\": \"\", \"func_name\": \"<module>\", \"globals\": {\"i\": 146, \"x\": 146}}, {\"line\": 3, \"heap\": {}, \"event\": \"step_line\", \"stack_to_render\": [], \"ordered_globals\": [\"x\", \"i\"], \"stdout\": \"\", \"func_name\": \"<module>\", \"globals\": {\"i\": 146, \"x\": 147}}, {\"line\": 4, \"heap\": {}, \"event\": \"step_line\", \"stack_to_render\": [], \"ordered_globals\": [\"x\", \"i\"], \"stdout\": \"\", \"func_name\": \"<module>\", \"globals\": {\"i\": 147, \"x\": 147}}, {\"line\": 3, \"heap\": {}, \"event\": \"step_line\", \"stack_to_render\": [], \"ordered_globals\": [\"x\", \"i\"], \"stdout\": \"\", \"func_name\": \"<module>\", \"globals\": {\"i\": 147, \"x\": 148}}, {\"line\": 4, \"heap\": {}, \"event\": \"step_line\", \"stack_to_render\": [], \"ordered_globals\": [\"x\", \"i\"], \"stdout\": \"\", \"func_name\": \"<module>\", \"globals\": {\"i\": 148, \"x\": 148}}, {\"line\": 3, \"heap\": {}, \"event\": \"step_line\", \"stack_to_render\": [], \"ordered_globals\": [\"x\", \"i\"], \"stdout\": \"\", \"func_name\": \"<module>\", \"globals\": {\"i\": 148, \"x\": 149}}, {\"line\": 4, \"heap\": {}, \"event\": \"step_line\", \"stack_to_render\": [], \"ordered_globals\": [\"x\", \"i\"], \"stdout\": \"\", \"func_name\": \"<module>\", \"globals\": {\"i\": 149, \"x\": 149}}, {\"line\": 3, \"heap\": {}, \"event\": \"step_line\", \"stack_to_render\": [], \"ordered_globals\": [\"x\", \"i\"], \"stdout\": \"\", \"func_name\": \"<module>\", \"globals\": {\"i\": 149, \"x\": 150}}, {\"line\": 4, \"heap\": {}, \"event\": \"step_line\", \"stack_to_render\": [], \"ordered_globals\": [\"x\", \"i\"], \"stdout\": \"\", \"func_name\": \"<module>\", \"globals\": {\"i\": 150, \"x\": 150}}, {\"line\": 3, \"heap\": {}, \"event\": \"step_line\", \"stack_to_render\": [], \"ordered_globals\": [\"x\", \"i\"], \"stdout\": \"\", \"func_name\": \"<module>\", \"globals\": {\"i\": 150, \"x\": 151}}, {\"line\": 4, \"heap\": {}, \"event\": \"step_line\", \"stack_to_render\": [], \"ordered_globals\": [\"x\", \"i\"], \"stdout\": \"\", \"func_name\": \"<module>\", \"globals\": {\"i\": 151, \"x\": 151}}, {\"line\": 3, \"heap\": {}, \"event\": \"step_line\", \"stack_to_render\": [], \"ordered_globals\": [\"x\", \"i\"], \"stdout\": \"\", \"func_name\": \"<module>\", \"globals\": {\"i\": 151, \"x\": 152}}, {\"line\": 4, \"heap\": {}, \"event\": \"step_line\", \"stack_to_render\": [], \"ordered_globals\": [\"x\", \"i\"], \"stdout\": \"\", \"func_name\": \"<module>\", \"globals\": {\"i\": 152, \"x\": 152}}, {\"line\": 3, \"heap\": {}, \"event\": \"step_line\", \"stack_to_render\": [], \"ordered_globals\": [\"x\", \"i\"], \"stdout\": \"\", \"func_name\": \"<module>\", \"globals\": {\"i\": 152, \"x\": 153}}, {\"line\": 4, \"heap\": {}, \"event\": \"step_line\", \"stack_to_render\": [], \"ordered_globals\": [\"x\", \"i\"], \"stdout\": \"\", \"func_name\": \"<module>\", \"globals\": {\"i\": 153, \"x\": 153}}, {\"line\": 3, \"heap\": {}, \"event\": \"step_line\", \"stack_to_render\": [], \"ordered_globals\": [\"x\", \"i\"], \"stdout\": \"\", \"func_name\": \"<module>\", \"globals\": {\"i\": 153, \"x\": 154}}, {\"line\": 4, \"heap\": {}, \"event\": \"step_line\", \"stack_to_render\": [], \"ordered_globals\": [\"x\", \"i\"], \"stdout\": \"\", \"func_name\": \"<module>\", \"globals\": {\"i\": 154, \"x\": 154}}, {\"line\": 3, \"heap\": {}, \"event\": \"step_line\", \"stack_to_render\": [], \"ordered_globals\": [\"x\", \"i\"], \"stdout\": \"\", \"func_name\": \"<module>\", \"globals\": {\"i\": 154, \"x\": 155}}, {\"line\": 4, \"heap\": {}, \"event\": \"step_line\", \"stack_to_render\": [], \"ordered_globals\": [\"x\", \"i\"], \"stdout\": \"\", \"func_name\": \"<module>\", \"globals\": {\"i\": 155, \"x\": 155}}, {\"line\": 3, \"heap\": {}, \"event\": \"step_line\", \"stack_to_render\": [], \"ordered_globals\": [\"x\", \"i\"], \"stdout\": \"\", \"func_name\": \"<module>\", \"globals\": {\"i\": 155, \"x\": 156}}, {\"line\": 4, \"heap\": {}, \"event\": \"step_line\", \"stack_to_render\": [], \"ordered_globals\": [\"x\", \"i\"], \"stdout\": \"\", \"func_name\": \"<module>\", \"globals\": {\"i\": 156, \"x\": 156}}, {\"line\": 3, \"heap\": {}, \"event\": \"step_line\", \"stack_to_render\": [], \"ordered_globals\": [\"x\", \"i\"], \"stdout\": \"\", \"func_name\": \"<module>\", \"globals\": {\"i\": 156, \"x\": 157}}, {\"line\": 4, \"heap\": {}, \"event\": \"step_line\", \"stack_to_render\": [], \"ordered_globals\": [\"x\", \"i\"], \"stdout\": \"\", \"func_name\": \"<module>\", \"globals\": {\"i\": 157, \"x\": 157}}, {\"line\": 3, \"heap\": {}, \"event\": \"step_line\", \"stack_to_render\": [], \"ordered_globals\": [\"x\", \"i\"], \"stdout\": \"\", \"func_name\": \"<module>\", \"globals\": {\"i\": 157, \"x\": 158}}, {\"line\": 4, \"heap\": {}, \"event\": \"step_line\", \"stack_to_render\": [], \"ordered_globals\": [\"x\", \"i\"], \"stdout\": \"\", \"func_name\": \"<module>\", \"globals\": {\"i\": 158, \"x\": 158}}, {\"line\": 3, \"heap\": {}, \"event\": \"step_line\", \"stack_to_render\": [], \"ordered_globals\": [\"x\", \"i\"], \"stdout\": \"\", \"func_name\": \"<module>\", \"globals\": {\"i\": 158, \"x\": 159}}, {\"line\": 4, \"heap\": {}, \"event\": \"step_line\", \"stack_to_render\": [], \"ordered_globals\": [\"x\", \"i\"], \"stdout\": \"\", \"func_name\": \"<module>\", \"globals\": {\"i\": 159, \"x\": 159}}, {\"line\": 3, \"heap\": {}, \"event\": \"step_line\", \"stack_to_render\": [], \"ordered_globals\": [\"x\", \"i\"], \"stdout\": \"\", \"func_name\": \"<module>\", \"globals\": {\"i\": 159, \"x\": 160}}, {\"line\": 4, \"heap\": {}, \"event\": \"step_line\", \"stack_to_render\": [], \"ordered_globals\": [\"x\", \"i\"], \"stdout\": \"\", \"func_name\": \"<module>\", \"globals\": {\"i\": 160, \"x\": 160}}, {\"line\": 3, \"heap\": {}, \"event\": \"step_line\", \"stack_to_render\": [], \"ordered_globals\": [\"x\", \"i\"], \"stdout\": \"\", \"func_name\": \"<module>\", \"globals\": {\"i\": 160, \"x\": 161}}, {\"line\": 4, \"heap\": {}, \"event\": \"step_line\", \"stack_to_render\": [], \"ordered_globals\": [\"x\", \"i\"], \"stdout\": \"\", \"func_name\": \"<module>\", \"globals\": {\"i\": 161, \"x\": 161}}, {\"line\": 3, \"heap\": {}, \"event\": \"step_line\", \"stack_to_render\": [], \"ordered_globals\": [\"x\", \"i\"], \"stdout\": \"\", \"func_name\": \"<module>\", \"globals\": {\"i\": 161, \"x\": 162}}, {\"line\": 4, \"heap\": {}, \"event\": \"step_line\", \"stack_to_render\": [], \"ordered_globals\": [\"x\", \"i\"], \"stdout\": \"\", \"func_name\": \"<module>\", \"globals\": {\"i\": 162, \"x\": 162}}, {\"line\": 3, \"heap\": {}, \"event\": \"step_line\", \"stack_to_render\": [], \"ordered_globals\": [\"x\", \"i\"], \"stdout\": \"\", \"func_name\": \"<module>\", \"globals\": {\"i\": 162, \"x\": 163}}, {\"line\": 4, \"heap\": {}, \"event\": \"step_line\", \"stack_to_render\": [], \"ordered_globals\": [\"x\", \"i\"], \"stdout\": \"\", \"func_name\": \"<module>\", \"globals\": {\"i\": 163, \"x\": 163}}, {\"line\": 3, \"heap\": {}, \"event\": \"step_line\", \"stack_to_render\": [], \"ordered_globals\": [\"x\", \"i\"], \"stdout\": \"\", \"func_name\": \"<module>\", \"globals\": {\"i\": 163, \"x\": 164}}, {\"line\": 4, \"heap\": {}, \"event\": \"step_line\", \"stack_to_render\": [], \"ordered_globals\": [\"x\", \"i\"], \"stdout\": \"\", \"func_name\": \"<module>\", \"globals\": {\"i\": 164, \"x\": 164}}, {\"line\": 3, \"heap\": {}, \"event\": \"step_line\", \"stack_to_render\": [], \"ordered_globals\": [\"x\", \"i\"], \"stdout\": \"\", \"func_name\": \"<module>\", \"globals\": {\"i\": 164, \"x\": 165}}, {\"line\": 4, \"heap\": {}, \"event\": \"step_line\", \"stack_to_render\": [], \"ordered_globals\": [\"x\", \"i\"], \"stdout\": \"\", \"func_name\": \"<module>\", \"globals\": {\"i\": 165, \"x\": 165}}, {\"line\": 3, \"heap\": {}, \"event\": \"step_line\", \"stack_to_render\": [], \"ordered_globals\": [\"x\", \"i\"], \"stdout\": \"\", \"func_name\": \"<module>\", \"globals\": {\"i\": 165, \"x\": 166}}, {\"line\": 4, \"heap\": {}, \"event\": \"step_line\", \"stack_to_render\": [], \"ordered_globals\": [\"x\", \"i\"], \"stdout\": \"\", \"func_name\": \"<module>\", \"globals\": {\"i\": 166, \"x\": 166}}, {\"line\": 3, \"heap\": {}, \"event\": \"step_line\", \"stack_to_render\": [], \"ordered_globals\": [\"x\", \"i\"], \"stdout\": \"\", \"func_name\": \"<module>\", \"globals\": {\"i\": 166, \"x\": 167}}, {\"line\": 4, \"heap\": {}, \"event\": \"step_line\", \"stack_to_render\": [], \"ordered_globals\": [\"x\", \"i\"], \"stdout\": \"\", \"func_name\": \"<module>\", \"globals\": {\"i\": 167, \"x\": 167}}, {\"line\": 3, \"heap\": {}, \"event\": \"step_line\", \"stack_to_render\": [], \"ordered_globals\": [\"x\", \"i\"], \"stdout\": \"\", \"func_name\": \"<module>\", \"globals\": {\"i\": 167, \"x\": 168}}, {\"line\": 4, \"heap\": {}, \"event\": \"step_line\", \"stack_to_render\": [], \"ordered_globals\": [\"x\", \"i\"], \"stdout\": \"\", \"func_name\": \"<module>\", \"globals\": {\"i\": 168, \"x\": 168}}, {\"line\": 3, \"heap\": {}, \"event\": \"step_line\", \"stack_to_render\": [], \"ordered_globals\": [\"x\", \"i\"], \"stdout\": \"\", \"func_name\": \"<module>\", \"globals\": {\"i\": 168, \"x\": 169}}, {\"line\": 4, \"heap\": {}, \"event\": \"step_line\", \"stack_to_render\": [], \"ordered_globals\": [\"x\", \"i\"], \"stdout\": \"\", \"func_name\": \"<module>\", \"globals\": {\"i\": 169, \"x\": 169}}, {\"line\": 3, \"heap\": {}, \"event\": \"step_line\", \"stack_to_render\": [], \"ordered_globals\": [\"x\", \"i\"], \"stdout\": \"\", \"func_name\": \"<module>\", \"globals\": {\"i\": 169, \"x\": 170}}, {\"line\": 4, \"heap\": {}, \"event\": \"step_line\", \"stack_to_render\": [], \"ordered_globals\": [\"x\", \"i\"], \"stdout\": \"\", \"func_name\": \"<module>\", \"globals\": {\"i\": 170, \"x\": 170}}, {\"line\": 3, \"heap\": {}, \"event\": \"step_line\", \"stack_to_render\": [], \"ordered_globals\": [\"x\", \"i\"], \"stdout\": \"\", \"func_name\": \"<module>\", \"globals\": {\"i\": 170, \"x\": 171}}, {\"line\": 4, \"heap\": {}, \"event\": \"step_line\", \"stack_to_render\": [], \"ordered_globals\": [\"x\", \"i\"], \"stdout\": \"\", \"func_name\": \"<module>\", \"globals\": {\"i\": 171, \"x\": 171}}, {\"line\": 3, \"heap\": {}, \"event\": \"step_line\", \"stack_to_render\": [], \"ordered_globals\": [\"x\", \"i\"], \"stdout\": \"\", \"func_name\": \"<module>\", \"globals\": {\"i\": 171, \"x\": 172}}, {\"line\": 4, \"heap\": {}, \"event\": \"step_line\", \"stack_to_render\": [], \"ordered_globals\": [\"x\", \"i\"], \"stdout\": \"\", \"func_name\": \"<module>\", \"globals\": {\"i\": 172, \"x\": 172}}, {\"line\": 3, \"heap\": {}, \"event\": \"step_line\", \"stack_to_render\": [], \"ordered_globals\": [\"x\", \"i\"], \"stdout\": \"\", \"func_name\": \"<module>\", \"globals\": {\"i\": 172, \"x\": 173}}, {\"line\": 4, \"heap\": {}, \"event\": \"step_line\", \"stack_to_render\": [], \"ordered_globals\": [\"x\", \"i\"], \"stdout\": \"\", \"func_name\": \"<module>\", \"globals\": {\"i\": 173, \"x\": 173}}, {\"line\": 3, \"heap\": {}, \"event\": \"step_line\", \"stack_to_render\": [], \"ordered_globals\": [\"x\", \"i\"], \"stdout\": \"\", \"func_name\": \"<module>\", \"globals\": {\"i\": 173, \"x\": 174}}, {\"line\": 4, \"heap\": {}, \"event\": \"step_line\", \"stack_to_render\": [], \"ordered_globals\": [\"x\", \"i\"], \"stdout\": \"\", \"func_name\": \"<module>\", \"globals\": {\"i\": 174, \"x\": 174}}, {\"line\": 3, \"heap\": {}, \"event\": \"step_line\", \"stack_to_render\": [], \"ordered_globals\": [\"x\", \"i\"], \"stdout\": \"\", \"func_name\": \"<module>\", \"globals\": {\"i\": 174, \"x\": 175}}, {\"line\": 4, \"heap\": {}, \"event\": \"step_line\", \"stack_to_render\": [], \"ordered_globals\": [\"x\", \"i\"], \"stdout\": \"\", \"func_name\": \"<module>\", \"globals\": {\"i\": 175, \"x\": 175}}, {\"line\": 3, \"heap\": {}, \"event\": \"step_line\", \"stack_to_render\": [], \"ordered_globals\": [\"x\", \"i\"], \"stdout\": \"\", \"func_name\": \"<module>\", \"globals\": {\"i\": 175, \"x\": 176}}, {\"line\": 4, \"heap\": {}, \"event\": \"step_line\", \"stack_to_render\": [], \"ordered_globals\": [\"x\", \"i\"], \"stdout\": \"\", \"func_name\": \"<module>\", \"globals\": {\"i\": 176, \"x\": 176}}, {\"line\": 3, \"heap\": {}, \"event\": \"step_line\", \"stack_to_render\": [], \"ordered_globals\": [\"x\", \"i\"], \"stdout\": \"\", \"func_name\": \"<module>\", \"globals\": {\"i\": 176, \"x\": 177}}, {\"line\": 4, \"heap\": {}, \"event\": \"step_line\", \"stack_to_render\": [], \"ordered_globals\": [\"x\", \"i\"], \"stdout\": \"\", \"func_name\": \"<module>\", \"globals\": {\"i\": 177, \"x\": 177}}, {\"line\": 3, \"heap\": {}, \"event\": \"step_line\", \"stack_to_render\": [], \"ordered_globals\": [\"x\", \"i\"], \"stdout\": \"\", \"func_name\": \"<module>\", \"globals\": {\"i\": 177, \"x\": 178}}, {\"line\": 4, \"heap\": {}, \"event\": \"step_line\", \"stack_to_render\": [], \"ordered_globals\": [\"x\", \"i\"], \"stdout\": \"\", \"func_name\": \"<module>\", \"globals\": {\"i\": 178, \"x\": 178}}, {\"line\": 3, \"heap\": {}, \"event\": \"step_line\", \"stack_to_render\": [], \"ordered_globals\": [\"x\", \"i\"], \"stdout\": \"\", \"func_name\": \"<module>\", \"globals\": {\"i\": 178, \"x\": 179}}, {\"line\": 4, \"heap\": {}, \"event\": \"step_line\", \"stack_to_render\": [], \"ordered_globals\": [\"x\", \"i\"], \"stdout\": \"\", \"func_name\": \"<module>\", \"globals\": {\"i\": 179, \"x\": 179}}, {\"line\": 3, \"heap\": {}, \"event\": \"step_line\", \"stack_to_render\": [], \"ordered_globals\": [\"x\", \"i\"], \"stdout\": \"\", \"func_name\": \"<module>\", \"globals\": {\"i\": 179, \"x\": 180}}, {\"line\": 4, \"heap\": {}, \"event\": \"step_line\", \"stack_to_render\": [], \"ordered_globals\": [\"x\", \"i\"], \"stdout\": \"\", \"func_name\": \"<module>\", \"globals\": {\"i\": 180, \"x\": 180}}, {\"line\": 3, \"heap\": {}, \"event\": \"step_line\", \"stack_to_render\": [], \"ordered_globals\": [\"x\", \"i\"], \"stdout\": \"\", \"func_name\": \"<module>\", \"globals\": {\"i\": 180, \"x\": 181}}, {\"line\": 4, \"heap\": {}, \"event\": \"step_line\", \"stack_to_render\": [], \"ordered_globals\": [\"x\", \"i\"], \"stdout\": \"\", \"func_name\": \"<module>\", \"globals\": {\"i\": 181, \"x\": 181}}, {\"line\": 3, \"heap\": {}, \"event\": \"step_line\", \"stack_to_render\": [], \"ordered_globals\": [\"x\", \"i\"], \"stdout\": \"\", \"func_name\": \"<module>\", \"globals\": {\"i\": 181, \"x\": 182}}, {\"line\": 4, \"heap\": {}, \"event\": \"step_line\", \"stack_to_render\": [], \"ordered_globals\": [\"x\", \"i\"], \"stdout\": \"\", \"func_name\": \"<module>\", \"globals\": {\"i\": 182, \"x\": 182}}, {\"line\": 3, \"heap\": {}, \"event\": \"step_line\", \"stack_to_render\": [], \"ordered_globals\": [\"x\", \"i\"], \"stdout\": \"\", \"func_name\": \"<module>\", \"globals\": {\"i\": 182, \"x\": 183}}, {\"line\": 4, \"heap\": {}, \"event\": \"step_line\", \"stack_to_render\": [], \"ordered_globals\": [\"x\", \"i\"], \"stdout\": \"\", \"func_name\": \"<module>\", \"globals\": {\"i\": 183, \"x\": 183}}, {\"line\": 3, \"heap\": {}, \"event\": \"step_line\", \"stack_to_render\": [], \"ordered_globals\": [\"x\", \"i\"], \"stdout\": \"\", \"func_name\": \"<module>\", \"globals\": {\"i\": 183, \"x\": 184}}, {\"line\": 4, \"heap\": {}, \"event\": \"step_line\", \"stack_to_render\": [], \"ordered_globals\": [\"x\", \"i\"], \"stdout\": \"\", \"func_name\": \"<module>\", \"globals\": {\"i\": 184, \"x\": 184}}, {\"line\": 3, \"heap\": {}, \"event\": \"step_line\", \"stack_to_render\": [], \"ordered_globals\": [\"x\", \"i\"], \"stdout\": \"\", \"func_name\": \"<module>\", \"globals\": {\"i\": 184, \"x\": 185}}, {\"line\": 4, \"heap\": {}, \"event\": \"step_line\", \"stack_to_render\": [], \"ordered_globals\": [\"x\", \"i\"], \"stdout\": \"\", \"func_name\": \"<module>\", \"globals\": {\"i\": 185, \"x\": 185}}, {\"line\": 3, \"heap\": {}, \"event\": \"step_line\", \"stack_to_render\": [], \"ordered_globals\": [\"x\", \"i\"], \"stdout\": \"\", \"func_name\": \"<module>\", \"globals\": {\"i\": 185, \"x\": 186}}, {\"line\": 4, \"heap\": {}, \"event\": \"step_line\", \"stack_to_render\": [], \"ordered_globals\": [\"x\", \"i\"], \"stdout\": \"\", \"func_name\": \"<module>\", \"globals\": {\"i\": 186, \"x\": 186}}, {\"line\": 3, \"heap\": {}, \"event\": \"step_line\", \"stack_to_render\": [], \"ordered_globals\": [\"x\", \"i\"], \"stdout\": \"\", \"func_name\": \"<module>\", \"globals\": {\"i\": 186, \"x\": 187}}, {\"line\": 4, \"heap\": {}, \"event\": \"step_line\", \"stack_to_render\": [], \"ordered_globals\": [\"x\", \"i\"], \"stdout\": \"\", \"func_name\": \"<module>\", \"globals\": {\"i\": 187, \"x\": 187}}, {\"line\": 3, \"heap\": {}, \"event\": \"step_line\", \"stack_to_render\": [], \"ordered_globals\": [\"x\", \"i\"], \"stdout\": \"\", \"func_name\": \"<module>\", \"globals\": {\"i\": 187, \"x\": 188}}, {\"line\": 4, \"heap\": {}, \"event\": \"step_line\", \"stack_to_render\": [], \"ordered_globals\": [\"x\", \"i\"], \"stdout\": \"\", \"func_name\": \"<module>\", \"globals\": {\"i\": 188, \"x\": 188}}, {\"line\": 3, \"heap\": {}, \"event\": \"step_line\", \"stack_to_render\": [], \"ordered_globals\": [\"x\", \"i\"], \"stdout\": \"\", \"func_name\": \"<module>\", \"globals\": {\"i\": 188, \"x\": 189}}, {\"line\": 4, \"heap\": {}, \"event\": \"step_line\", \"stack_to_render\": [], \"ordered_globals\": [\"x\", \"i\"], \"stdout\": \"\", \"func_name\": \"<module>\", \"globals\": {\"i\": 189, \"x\": 189}}, {\"line\": 3, \"heap\": {}, \"event\": \"step_line\", \"stack_to_render\": [], \"ordered_globals\": [\"x\", \"i\"], \"stdout\": \"\", \"func_name\": \"<module>\", \"globals\": {\"i\": 189, \"x\": 190}}, {\"line\": 4, \"heap\": {}, \"event\": \"step_line\", \"stack_to_render\": [], \"ordered_globals\": [\"x\", \"i\"], \"stdout\": \"\", \"func_name\": \"<module>\", \"globals\": {\"i\": 190, \"x\": 190}}, {\"line\": 3, \"heap\": {}, \"event\": \"step_line\", \"stack_to_render\": [], \"ordered_globals\": [\"x\", \"i\"], \"stdout\": \"\", \"func_name\": \"<module>\", \"globals\": {\"i\": 190, \"x\": 191}}, {\"line\": 4, \"heap\": {}, \"event\": \"step_line\", \"stack_to_render\": [], \"ordered_globals\": [\"x\", \"i\"], \"stdout\": \"\", \"func_name\": \"<module>\", \"globals\": {\"i\": 191, \"x\": 191}}, {\"line\": 3, \"heap\": {}, \"event\": \"step_line\", \"stack_to_render\": [], \"ordered_globals\": [\"x\", \"i\"], \"stdout\": \"\", \"func_name\": \"<module>\", \"globals\": {\"i\": 191, \"x\": 192}}, {\"line\": 4, \"heap\": {}, \"event\": \"step_line\", \"stack_to_render\": [], \"ordered_globals\": [\"x\", \"i\"], \"stdout\": \"\", \"func_name\": \"<module>\", \"globals\": {\"i\": 192, \"x\": 192}}, {\"line\": 3, \"heap\": {}, \"event\": \"step_line\", \"stack_to_render\": [], \"ordered_globals\": [\"x\", \"i\"], \"stdout\": \"\", \"func_name\": \"<module>\", \"globals\": {\"i\": 192, \"x\": 193}}, {\"line\": 4, \"heap\": {}, \"event\": \"step_line\", \"stack_to_render\": [], \"ordered_globals\": [\"x\", \"i\"], \"stdout\": \"\", \"func_name\": \"<module>\", \"globals\": {\"i\": 193, \"x\": 193}}, {\"line\": 3, \"heap\": {}, \"event\": \"step_line\", \"stack_to_render\": [], \"ordered_globals\": [\"x\", \"i\"], \"stdout\": \"\", \"func_name\": \"<module>\", \"globals\": {\"i\": 193, \"x\": 194}}, {\"line\": 4, \"heap\": {}, \"event\": \"step_line\", \"stack_to_render\": [], \"ordered_globals\": [\"x\", \"i\"], \"stdout\": \"\", \"func_name\": \"<module>\", \"globals\": {\"i\": 194, \"x\": 194}}, {\"line\": 3, \"heap\": {}, \"event\": \"step_line\", \"stack_to_render\": [], \"ordered_globals\": [\"x\", \"i\"], \"stdout\": \"\", \"func_name\": \"<module>\", \"globals\": {\"i\": 194, \"x\": 195}}, {\"line\": 4, \"heap\": {}, \"event\": \"step_line\", \"stack_to_render\": [], \"ordered_globals\": [\"x\", \"i\"], \"stdout\": \"\", \"func_name\": \"<module>\", \"globals\": {\"i\": 195, \"x\": 195}}, {\"line\": 3, \"heap\": {}, \"event\": \"step_line\", \"stack_to_render\": [], \"ordered_globals\": [\"x\", \"i\"], \"stdout\": \"\", \"func_name\": \"<module>\", \"globals\": {\"i\": 195, \"x\": 196}}, {\"line\": 4, \"heap\": {}, \"event\": \"step_line\", \"stack_to_render\": [], \"ordered_globals\": [\"x\", \"i\"], \"stdout\": \"\", \"func_name\": \"<module>\", \"globals\": {\"i\": 196, \"x\": 196}}, {\"line\": 3, \"heap\": {}, \"event\": \"step_line\", \"stack_to_render\": [], \"ordered_globals\": [\"x\", \"i\"], \"stdout\": \"\", \"func_name\": \"<module>\", \"globals\": {\"i\": 196, \"x\": 197}}, {\"line\": 4, \"heap\": {}, \"event\": \"step_line\", \"stack_to_render\": [], \"ordered_globals\": [\"x\", \"i\"], \"stdout\": \"\", \"func_name\": \"<module>\", \"globals\": {\"i\": 197, \"x\": 197}}, {\"line\": 3, \"heap\": {}, \"event\": \"step_line\", \"stack_to_render\": [], \"ordered_globals\": [\"x\", \"i\"], \"stdout\": \"\", \"func_name\": \"<module>\", \"globals\": {\"i\": 197, \"x\": 198}}, {\"line\": 4, \"heap\": {}, \"event\": \"step_line\", \"stack_to_render\": [], \"ordered_globals\": [\"x\", \"i\"], \"stdout\": \"\", \"func_name\": \"<module>\", \"globals\": {\"i\": 198, \"x\": 198}}, {\"line\": 3, \"heap\": {}, \"event\": \"step_line\", \"stack_to_render\": [], \"ordered_globals\": [\"x\", \"i\"], \"stdout\": \"\", \"func_name\": \"<module>\", \"globals\": {\"i\": 198, \"x\": 199}}, {\"line\": 4, \"heap\": {}, \"event\": \"step_line\", \"stack_to_render\": [], \"ordered_globals\": [\"x\", \"i\"], \"stdout\": \"\", \"func_name\": \"<module>\", \"globals\": {\"i\": 199, \"x\": 199}}, {\"line\": 3, \"heap\": {}, \"event\": \"step_line\", \"stack_to_render\": [], \"ordered_globals\": [\"x\", \"i\"], \"stdout\": \"\", \"func_name\": \"<module>\", \"globals\": {\"i\": 199, \"x\": 200}}, {\"line\": 4, \"heap\": {}, \"event\": \"step_line\", \"stack_to_render\": [], \"ordered_globals\": [\"x\", \"i\"], \"stdout\": \"\", \"func_name\": \"<module>\", \"globals\": {\"i\": 200, \"x\": 200}}, {\"line\": 3, \"heap\": {}, \"event\": \"step_line\", \"stack_to_render\": [], \"ordered_globals\": [\"x\", \"i\"], \"stdout\": \"\", \"func_name\": \"<module>\", \"globals\": {\"i\": 200, \"x\": 201}}, {\"line\": 4, \"heap\": {}, \"event\": \"step_line\", \"stack_to_render\": [], \"ordered_globals\": [\"x\", \"i\"], \"stdout\": \"\", \"func_name\": \"<module>\", \"globals\": {\"i\": 201, \"x\": 201}}, {\"line\": 3, \"heap\": {}, \"event\": \"step_line\", \"stack_to_render\": [], \"ordered_globals\": [\"x\", \"i\"], \"stdout\": \"\", \"func_name\": \"<module>\", \"globals\": {\"i\": 201, \"x\": 202}}, {\"line\": 4, \"heap\": {}, \"event\": \"step_line\", \"stack_to_render\": [], \"ordered_globals\": [\"x\", \"i\"], \"stdout\": \"\", \"func_name\": \"<module>\", \"globals\": {\"i\": 202, \"x\": 202}}, {\"line\": 3, \"heap\": {}, \"event\": \"step_line\", \"stack_to_render\": [], \"ordered_globals\": [\"x\", \"i\"], \"stdout\": \"\", \"func_name\": \"<module>\", \"globals\": {\"i\": 202, \"x\": 203}}, {\"line\": 4, \"heap\": {}, \"event\": \"step_line\", \"stack_to_render\": [], \"ordered_globals\": [\"x\", \"i\"], \"stdout\": \"\", \"func_name\": \"<module>\", \"globals\": {\"i\": 203, \"x\": 203}}, {\"line\": 3, \"heap\": {}, \"event\": \"step_line\", \"stack_to_render\": [], \"ordered_globals\": [\"x\", \"i\"], \"stdout\": \"\", \"func_name\": \"<module>\", \"globals\": {\"i\": 203, \"x\": 204}}, {\"line\": 4, \"heap\": {}, \"event\": \"step_line\", \"stack_to_render\": [], \"ordered_globals\": [\"x\", \"i\"], \"stdout\": \"\", \"func_name\": \"<module>\", \"globals\": {\"i\": 204, \"x\": 204}}, {\"line\": 3, \"heap\": {}, \"event\": \"step_line\", \"stack_to_render\": [], \"ordered_globals\": [\"x\", \"i\"], \"stdout\": \"\", \"func_name\": \"<module>\", \"globals\": {\"i\": 204, \"x\": 205}}, {\"line\": 4, \"heap\": {}, \"event\": \"step_line\", \"stack_to_render\": [], \"ordered_globals\": [\"x\", \"i\"], \"stdout\": \"\", \"func_name\": \"<module>\", \"globals\": {\"i\": 205, \"x\": 205}}, {\"line\": 3, \"heap\": {}, \"event\": \"step_line\", \"stack_to_render\": [], \"ordered_globals\": [\"x\", \"i\"], \"stdout\": \"\", \"func_name\": \"<module>\", \"globals\": {\"i\": 205, \"x\": 206}}, {\"line\": 4, \"heap\": {}, \"event\": \"step_line\", \"stack_to_render\": [], \"ordered_globals\": [\"x\", \"i\"], \"stdout\": \"\", \"func_name\": \"<module>\", \"globals\": {\"i\": 206, \"x\": 206}}, {\"line\": 3, \"heap\": {}, \"event\": \"step_line\", \"stack_to_render\": [], \"ordered_globals\": [\"x\", \"i\"], \"stdout\": \"\", \"func_name\": \"<module>\", \"globals\": {\"i\": 206, \"x\": 207}}, {\"line\": 4, \"heap\": {}, \"event\": \"step_line\", \"stack_to_render\": [], \"ordered_globals\": [\"x\", \"i\"], \"stdout\": \"\", \"func_name\": \"<module>\", \"globals\": {\"i\": 207, \"x\": 207}}, {\"line\": 3, \"heap\": {}, \"event\": \"step_line\", \"stack_to_render\": [], \"ordered_globals\": [\"x\", \"i\"], \"stdout\": \"\", \"func_name\": \"<module>\", \"globals\": {\"i\": 207, \"x\": 208}}, {\"line\": 4, \"heap\": {}, \"event\": \"step_line\", \"stack_to_render\": [], \"ordered_globals\": [\"x\", \"i\"], \"stdout\": \"\", \"func_name\": \"<module>\", \"globals\": {\"i\": 208, \"x\": 208}}, {\"line\": 3, \"heap\": {}, \"event\": \"step_line\", \"stack_to_render\": [], \"ordered_globals\": [\"x\", \"i\"], \"stdout\": \"\", \"func_name\": \"<module>\", \"globals\": {\"i\": 208, \"x\": 209}}, {\"line\": 4, \"heap\": {}, \"event\": \"step_line\", \"stack_to_render\": [], \"ordered_globals\": [\"x\", \"i\"], \"stdout\": \"\", \"func_name\": \"<module>\", \"globals\": {\"i\": 209, \"x\": 209}}, {\"line\": 3, \"heap\": {}, \"event\": \"step_line\", \"stack_to_render\": [], \"ordered_globals\": [\"x\", \"i\"], \"stdout\": \"\", \"func_name\": \"<module>\", \"globals\": {\"i\": 209, \"x\": 210}}, {\"line\": 4, \"heap\": {}, \"event\": \"step_line\", \"stack_to_render\": [], \"ordered_globals\": [\"x\", \"i\"], \"stdout\": \"\", \"func_name\": \"<module>\", \"globals\": {\"i\": 210, \"x\": 210}}, {\"line\": 3, \"heap\": {}, \"event\": \"step_line\", \"stack_to_render\": [], \"ordered_globals\": [\"x\", \"i\"], \"stdout\": \"\", \"func_name\": \"<module>\", \"globals\": {\"i\": 210, \"x\": 211}}, {\"line\": 4, \"heap\": {}, \"event\": \"step_line\", \"stack_to_render\": [], \"ordered_globals\": [\"x\", \"i\"], \"stdout\": \"\", \"func_name\": \"<module>\", \"globals\": {\"i\": 211, \"x\": 211}}, {\"line\": 3, \"heap\": {}, \"event\": \"step_line\", \"stack_to_render\": [], \"ordered_globals\": [\"x\", \"i\"], \"stdout\": \"\", \"func_name\": \"<module>\", \"globals\": {\"i\": 211, \"x\": 212}}, {\"line\": 4, \"heap\": {}, \"event\": \"step_line\", \"stack_to_render\": [], \"ordered_globals\": [\"x\", \"i\"], \"stdout\": \"\", \"func_name\": \"<module>\", \"globals\": {\"i\": 212, \"x\": 212}}, {\"line\": 3, \"heap\": {}, \"event\": \"step_line\", \"stack_to_render\": [], \"ordered_globals\": [\"x\", \"i\"], \"stdout\": \"\", \"func_name\": \"<module>\", \"globals\": {\"i\": 212, \"x\": 213}}, {\"line\": 4, \"heap\": {}, \"event\": \"step_line\", \"stack_to_render\": [], \"ordered_globals\": [\"x\", \"i\"], \"stdout\": \"\", \"func_name\": \"<module>\", \"globals\": {\"i\": 213, \"x\": 213}}, {\"line\": 3, \"heap\": {}, \"event\": \"step_line\", \"stack_to_render\": [], \"ordered_globals\": [\"x\", \"i\"], \"stdout\": \"\", \"func_name\": \"<module>\", \"globals\": {\"i\": 213, \"x\": 214}}, {\"line\": 4, \"heap\": {}, \"event\": \"step_line\", \"stack_to_render\": [], \"ordered_globals\": [\"x\", \"i\"], \"stdout\": \"\", \"func_name\": \"<module>\", \"globals\": {\"i\": 214, \"x\": 214}}, {\"line\": 3, \"heap\": {}, \"event\": \"step_line\", \"stack_to_render\": [], \"ordered_globals\": [\"x\", \"i\"], \"stdout\": \"\", \"func_name\": \"<module>\", \"globals\": {\"i\": 214, \"x\": 215}}, {\"line\": 4, \"heap\": {}, \"event\": \"step_line\", \"stack_to_render\": [], \"ordered_globals\": [\"x\", \"i\"], \"stdout\": \"\", \"func_name\": \"<module>\", \"globals\": {\"i\": 215, \"x\": 215}}, {\"line\": 3, \"heap\": {}, \"event\": \"step_line\", \"stack_to_render\": [], \"ordered_globals\": [\"x\", \"i\"], \"stdout\": \"\", \"func_name\": \"<module>\", \"globals\": {\"i\": 215, \"x\": 216}}, {\"line\": 4, \"heap\": {}, \"event\": \"step_line\", \"stack_to_render\": [], \"ordered_globals\": [\"x\", \"i\"], \"stdout\": \"\", \"func_name\": \"<module>\", \"globals\": {\"i\": 216, \"x\": 216}}, {\"line\": 3, \"heap\": {}, \"event\": \"step_line\", \"stack_to_render\": [], \"ordered_globals\": [\"x\", \"i\"], \"stdout\": \"\", \"func_name\": \"<module>\", \"globals\": {\"i\": 216, \"x\": 217}}, {\"line\": 4, \"heap\": {}, \"event\": \"step_line\", \"stack_to_render\": [], \"ordered_globals\": [\"x\", \"i\"], \"stdout\": \"\", \"func_name\": \"<module>\", \"globals\": {\"i\": 217, \"x\": 217}}, {\"line\": 3, \"heap\": {}, \"event\": \"step_line\", \"stack_to_render\": [], \"ordered_globals\": [\"x\", \"i\"], \"stdout\": \"\", \"func_name\": \"<module>\", \"globals\": {\"i\": 217, \"x\": 218}}, {\"line\": 4, \"heap\": {}, \"event\": \"step_line\", \"stack_to_render\": [], \"ordered_globals\": [\"x\", \"i\"], \"stdout\": \"\", \"func_name\": \"<module>\", \"globals\": {\"i\": 218, \"x\": 218}}, {\"line\": 3, \"heap\": {}, \"event\": \"step_line\", \"stack_to_render\": [], \"ordered_globals\": [\"x\", \"i\"], \"stdout\": \"\", \"func_name\": \"<module>\", \"globals\": {\"i\": 218, \"x\": 219}}, {\"line\": 4, \"heap\": {}, \"event\": \"step_line\", \"stack_to_render\": [], \"ordered_globals\": [\"x\", \"i\"], \"stdout\": \"\", \"func_name\": \"<module>\", \"globals\": {\"i\": 219, \"x\": 219}}, {\"line\": 3, \"heap\": {}, \"event\": \"step_line\", \"stack_to_render\": [], \"ordered_globals\": [\"x\", \"i\"], \"stdout\": \"\", \"func_name\": \"<module>\", \"globals\": {\"i\": 219, \"x\": 220}}, {\"line\": 4, \"heap\": {}, \"event\": \"step_line\", \"stack_to_render\": [], \"ordered_globals\": [\"x\", \"i\"], \"stdout\": \"\", \"func_name\": \"<module>\", \"globals\": {\"i\": 220, \"x\": 220}}, {\"line\": 3, \"heap\": {}, \"event\": \"step_line\", \"stack_to_render\": [], \"ordered_globals\": [\"x\", \"i\"], \"stdout\": \"\", \"func_name\": \"<module>\", \"globals\": {\"i\": 220, \"x\": 221}}, {\"line\": 4, \"heap\": {}, \"event\": \"step_line\", \"stack_to_render\": [], \"ordered_globals\": [\"x\", \"i\"], \"stdout\": \"\", \"func_name\": \"<module>\", \"globals\": {\"i\": 221, \"x\": 221}}, {\"line\": 3, \"heap\": {}, \"event\": \"step_line\", \"stack_to_render\": [], \"ordered_globals\": [\"x\", \"i\"], \"stdout\": \"\", \"func_name\": \"<module>\", \"globals\": {\"i\": 221, \"x\": 222}}, {\"line\": 4, \"heap\": {}, \"event\": \"step_line\", \"stack_to_render\": [], \"ordered_globals\": [\"x\", \"i\"], \"stdout\": \"\", \"func_name\": \"<module>\", \"globals\": {\"i\": 222, \"x\": 222}}, {\"line\": 3, \"heap\": {}, \"event\": \"step_line\", \"stack_to_render\": [], \"ordered_globals\": [\"x\", \"i\"], \"stdout\": \"\", \"func_name\": \"<module>\", \"globals\": {\"i\": 222, \"x\": 223}}, {\"line\": 4, \"heap\": {}, \"event\": \"step_line\", \"stack_to_render\": [], \"ordered_globals\": [\"x\", \"i\"], \"stdout\": \"\", \"func_name\": \"<module>\", \"globals\": {\"i\": 223, \"x\": 223}}, {\"line\": 3, \"heap\": {}, \"event\": \"step_line\", \"stack_to_render\": [], \"ordered_globals\": [\"x\", \"i\"], \"stdout\": \"\", \"func_name\": \"<module>\", \"globals\": {\"i\": 223, \"x\": 224}}, {\"line\": 4, \"heap\": {}, \"event\": \"step_line\", \"stack_to_render\": [], \"ordered_globals\": [\"x\", \"i\"], \"stdout\": \"\", \"func_name\": \"<module>\", \"globals\": {\"i\": 224, \"x\": 224}}, {\"line\": 3, \"heap\": {}, \"event\": \"step_line\", \"stack_to_render\": [], \"ordered_globals\": [\"x\", \"i\"], \"stdout\": \"\", \"func_name\": \"<module>\", \"globals\": {\"i\": 224, \"x\": 225}}, {\"line\": 4, \"heap\": {}, \"event\": \"step_line\", \"stack_to_render\": [], \"ordered_globals\": [\"x\", \"i\"], \"stdout\": \"\", \"func_name\": \"<module>\", \"globals\": {\"i\": 225, \"x\": 225}}, {\"line\": 3, \"heap\": {}, \"event\": \"step_line\", \"stack_to_render\": [], \"ordered_globals\": [\"x\", \"i\"], \"stdout\": \"\", \"func_name\": \"<module>\", \"globals\": {\"i\": 225, \"x\": 226}}, {\"line\": 4, \"heap\": {}, \"event\": \"step_line\", \"stack_to_render\": [], \"ordered_globals\": [\"x\", \"i\"], \"stdout\": \"\", \"func_name\": \"<module>\", \"globals\": {\"i\": 226, \"x\": 226}}, {\"line\": 3, \"heap\": {}, \"event\": \"step_line\", \"stack_to_render\": [], \"ordered_globals\": [\"x\", \"i\"], \"stdout\": \"\", \"func_name\": \"<module>\", \"globals\": {\"i\": 226, \"x\": 227}}, {\"line\": 4, \"heap\": {}, \"event\": \"step_line\", \"stack_to_render\": [], \"ordered_globals\": [\"x\", \"i\"], \"stdout\": \"\", \"func_name\": \"<module>\", \"globals\": {\"i\": 227, \"x\": 227}}, {\"line\": 3, \"heap\": {}, \"event\": \"step_line\", \"stack_to_render\": [], \"ordered_globals\": [\"x\", \"i\"], \"stdout\": \"\", \"func_name\": \"<module>\", \"globals\": {\"i\": 227, \"x\": 228}}, {\"line\": 4, \"heap\": {}, \"event\": \"step_line\", \"stack_to_render\": [], \"ordered_globals\": [\"x\", \"i\"], \"stdout\": \"\", \"func_name\": \"<module>\", \"globals\": {\"i\": 228, \"x\": 228}}, {\"line\": 3, \"heap\": {}, \"event\": \"step_line\", \"stack_to_render\": [], \"ordered_globals\": [\"x\", \"i\"], \"stdout\": \"\", \"func_name\": \"<module>\", \"globals\": {\"i\": 228, \"x\": 229}}, {\"line\": 4, \"heap\": {}, \"event\": \"step_line\", \"stack_to_render\": [], \"ordered_globals\": [\"x\", \"i\"], \"stdout\": \"\", \"func_name\": \"<module>\", \"globals\": {\"i\": 229, \"x\": 229}}, {\"line\": 3, \"heap\": {}, \"event\": \"step_line\", \"stack_to_render\": [], \"ordered_globals\": [\"x\", \"i\"], \"stdout\": \"\", \"func_name\": \"<module>\", \"globals\": {\"i\": 229, \"x\": 230}}, {\"line\": 4, \"heap\": {}, \"event\": \"step_line\", \"stack_to_render\": [], \"ordered_globals\": [\"x\", \"i\"], \"stdout\": \"\", \"func_name\": \"<module>\", \"globals\": {\"i\": 230, \"x\": 230}}, {\"line\": 3, \"heap\": {}, \"event\": \"step_line\", \"stack_to_render\": [], \"ordered_globals\": [\"x\", \"i\"], \"stdout\": \"\", \"func_name\": \"<module>\", \"globals\": {\"i\": 230, \"x\": 231}}, {\"line\": 4, \"heap\": {}, \"event\": \"step_line\", \"stack_to_render\": [], \"ordered_globals\": [\"x\", \"i\"], \"stdout\": \"\", \"func_name\": \"<module>\", \"globals\": {\"i\": 231, \"x\": 231}}, {\"line\": 3, \"heap\": {}, \"event\": \"step_line\", \"stack_to_render\": [], \"ordered_globals\": [\"x\", \"i\"], \"stdout\": \"\", \"func_name\": \"<module>\", \"globals\": {\"i\": 231, \"x\": 232}}, {\"line\": 4, \"heap\": {}, \"event\": \"step_line\", \"stack_to_render\": [], \"ordered_globals\": [\"x\", \"i\"], \"stdout\": \"\", \"func_name\": \"<module>\", \"globals\": {\"i\": 232, \"x\": 232}}, {\"line\": 3, \"heap\": {}, \"event\": \"step_line\", \"stack_to_render\": [], \"ordered_globals\": [\"x\", \"i\"], \"stdout\": \"\", \"func_name\": \"<module>\", \"globals\": {\"i\": 232, \"x\": 233}}, {\"line\": 4, \"heap\": {}, \"event\": \"step_line\", \"stack_to_render\": [], \"ordered_globals\": [\"x\", \"i\"], \"stdout\": \"\", \"func_name\": \"<module>\", \"globals\": {\"i\": 233, \"x\": 233}}, {\"line\": 3, \"heap\": {}, \"event\": \"step_line\", \"stack_to_render\": [], \"ordered_globals\": [\"x\", \"i\"], \"stdout\": \"\", \"func_name\": \"<module>\", \"globals\": {\"i\": 233, \"x\": 234}}, {\"line\": 4, \"heap\": {}, \"event\": \"step_line\", \"stack_to_render\": [], \"ordered_globals\": [\"x\", \"i\"], \"stdout\": \"\", \"func_name\": \"<module>\", \"globals\": {\"i\": 234, \"x\": 234}}, {\"line\": 3, \"heap\": {}, \"event\": \"step_line\", \"stack_to_render\": [], \"ordered_globals\": [\"x\", \"i\"], \"stdout\": \"\", \"func_name\": \"<module>\", \"globals\": {\"i\": 234, \"x\": 235}}, {\"line\": 4, \"heap\": {}, \"event\": \"step_line\", \"stack_to_render\": [], \"ordered_globals\": [\"x\", \"i\"], \"stdout\": \"\", \"func_name\": \"<module>\", \"globals\": {\"i\": 235, \"x\": 235}}, {\"line\": 3, \"heap\": {}, \"event\": \"step_line\", \"stack_to_render\": [], \"ordered_globals\": [\"x\", \"i\"], \"stdout\": \"\", \"func_name\": \"<module>\", \"globals\": {\"i\": 235, \"x\": 236}}, {\"line\": 4, \"heap\": {}, \"event\": \"step_line\", \"stack_to_render\": [], \"ordered_globals\": [\"x\", \"i\"], \"stdout\": \"\", \"func_name\": \"<module>\", \"globals\": {\"i\": 236, \"x\": 236}}, {\"line\": 3, \"heap\": {}, \"event\": \"step_line\", \"stack_to_render\": [], \"ordered_globals\": [\"x\", \"i\"], \"stdout\": \"\", \"func_name\": \"<module>\", \"globals\": {\"i\": 236, \"x\": 237}}, {\"line\": 4, \"heap\": {}, \"event\": \"step_line\", \"stack_to_render\": [], \"ordered_globals\": [\"x\", \"i\"], \"stdout\": \"\", \"func_name\": \"<module>\", \"globals\": {\"i\": 237, \"x\": 237}}, {\"line\": 3, \"heap\": {}, \"event\": \"step_line\", \"stack_to_render\": [], \"ordered_globals\": [\"x\", \"i\"], \"stdout\": \"\", \"func_name\": \"<module>\", \"globals\": {\"i\": 237, \"x\": 238}}, {\"line\": 4, \"heap\": {}, \"event\": \"step_line\", \"stack_to_render\": [], \"ordered_globals\": [\"x\", \"i\"], \"stdout\": \"\", \"func_name\": \"<module>\", \"globals\": {\"i\": 238, \"x\": 238}}, {\"line\": 3, \"heap\": {}, \"event\": \"step_line\", \"stack_to_render\": [], \"ordered_globals\": [\"x\", \"i\"], \"stdout\": \"\", \"func_name\": \"<module>\", \"globals\": {\"i\": 238, \"x\": 239}}, {\"line\": 4, \"heap\": {}, \"event\": \"step_line\", \"stack_to_render\": [], \"ordered_globals\": [\"x\", \"i\"], \"stdout\": \"\", \"func_name\": \"<module>\", \"globals\": {\"i\": 239, \"x\": 239}}, {\"line\": 3, \"heap\": {}, \"event\": \"step_line\", \"stack_to_render\": [], \"ordered_globals\": [\"x\", \"i\"], \"stdout\": \"\", \"func_name\": \"<module>\", \"globals\": {\"i\": 239, \"x\": 240}}, {\"line\": 4, \"heap\": {}, \"event\": \"step_line\", \"stack_to_render\": [], \"ordered_globals\": [\"x\", \"i\"], \"stdout\": \"\", \"func_name\": \"<module>\", \"globals\": {\"i\": 240, \"x\": 240}}, {\"line\": 3, \"heap\": {}, \"event\": \"step_line\", \"stack_to_render\": [], \"ordered_globals\": [\"x\", \"i\"], \"stdout\": \"\", \"func_name\": \"<module>\", \"globals\": {\"i\": 240, \"x\": 241}}, {\"line\": 4, \"heap\": {}, \"event\": \"step_line\", \"stack_to_render\": [], \"ordered_globals\": [\"x\", \"i\"], \"stdout\": \"\", \"func_name\": \"<module>\", \"globals\": {\"i\": 241, \"x\": 241}}, {\"line\": 3, \"heap\": {}, \"event\": \"step_line\", \"stack_to_render\": [], \"ordered_globals\": [\"x\", \"i\"], \"stdout\": \"\", \"func_name\": \"<module>\", \"globals\": {\"i\": 241, \"x\": 242}}, {\"line\": 4, \"heap\": {}, \"event\": \"step_line\", \"stack_to_render\": [], \"ordered_globals\": [\"x\", \"i\"], \"stdout\": \"\", \"func_name\": \"<module>\", \"globals\": {\"i\": 242, \"x\": 242}}, {\"line\": 3, \"heap\": {}, \"event\": \"step_line\", \"stack_to_render\": [], \"ordered_globals\": [\"x\", \"i\"], \"stdout\": \"\", \"func_name\": \"<module>\", \"globals\": {\"i\": 242, \"x\": 243}}, {\"line\": 4, \"heap\": {}, \"event\": \"step_line\", \"stack_to_render\": [], \"ordered_globals\": [\"x\", \"i\"], \"stdout\": \"\", \"func_name\": \"<module>\", \"globals\": {\"i\": 243, \"x\": 243}}, {\"line\": 3, \"heap\": {}, \"event\": \"step_line\", \"stack_to_render\": [], \"ordered_globals\": [\"x\", \"i\"], \"stdout\": \"\", \"func_name\": \"<module>\", \"globals\": {\"i\": 243, \"x\": 244}}, {\"line\": 4, \"heap\": {}, \"event\": \"step_line\", \"stack_to_render\": [], \"ordered_globals\": [\"x\", \"i\"], \"stdout\": \"\", \"func_name\": \"<module>\", \"globals\": {\"i\": 244, \"x\": 244}}, {\"line\": 3, \"heap\": {}, \"event\": \"step_line\", \"stack_to_render\": [], \"ordered_globals\": [\"x\", \"i\"], \"stdout\": \"\", \"func_name\": \"<module>\", \"globals\": {\"i\": 244, \"x\": 245}}, {\"line\": 4, \"heap\": {}, \"event\": \"step_line\", \"stack_to_render\": [], \"ordered_globals\": [\"x\", \"i\"], \"stdout\": \"\", \"func_name\": \"<module>\", \"globals\": {\"i\": 245, \"x\": 245}}, {\"line\": 3, \"heap\": {}, \"event\": \"step_line\", \"stack_to_render\": [], \"ordered_globals\": [\"x\", \"i\"], \"stdout\": \"\", \"func_name\": \"<module>\", \"globals\": {\"i\": 245, \"x\": 246}}, {\"line\": 4, \"heap\": {}, \"event\": \"step_line\", \"stack_to_render\": [], \"ordered_globals\": [\"x\", \"i\"], \"stdout\": \"\", \"func_name\": \"<module>\", \"globals\": {\"i\": 246, \"x\": 246}}, {\"line\": 3, \"heap\": {}, \"event\": \"step_line\", \"stack_to_render\": [], \"ordered_globals\": [\"x\", \"i\"], \"stdout\": \"\", \"func_name\": \"<module>\", \"globals\": {\"i\": 246, \"x\": 247}}, {\"line\": 4, \"heap\": {}, \"event\": \"step_line\", \"stack_to_render\": [], \"ordered_globals\": [\"x\", \"i\"], \"stdout\": \"\", \"func_name\": \"<module>\", \"globals\": {\"i\": 247, \"x\": 247}}, {\"line\": 3, \"heap\": {}, \"event\": \"step_line\", \"stack_to_render\": [], \"ordered_globals\": [\"x\", \"i\"], \"stdout\": \"\", \"func_name\": \"<module>\", \"globals\": {\"i\": 247, \"x\": 248}}, {\"line\": 4, \"heap\": {}, \"event\": \"step_line\", \"stack_to_render\": [], \"ordered_globals\": [\"x\", \"i\"], \"stdout\": \"\", \"func_name\": \"<module>\", \"globals\": {\"i\": 248, \"x\": 248}}, {\"line\": 3, \"heap\": {}, \"event\": \"step_line\", \"stack_to_render\": [], \"ordered_globals\": [\"x\", \"i\"], \"stdout\": \"\", \"func_name\": \"<module>\", \"globals\": {\"i\": 248, \"x\": 249}}, {\"line\": 4, \"heap\": {}, \"event\": \"step_line\", \"stack_to_render\": [], \"ordered_globals\": [\"x\", \"i\"], \"stdout\": \"\", \"func_name\": \"<module>\", \"globals\": {\"i\": 249, \"x\": 249}}, {\"line\": 3, \"heap\": {}, \"event\": \"step_line\", \"stack_to_render\": [], \"ordered_globals\": [\"x\", \"i\"], \"stdout\": \"\", \"func_name\": \"<module>\", \"globals\": {\"i\": 249, \"x\": 250}}, {\"line\": 4, \"heap\": {}, \"event\": \"step_line\", \"stack_to_render\": [], \"ordered_globals\": [\"x\", \"i\"], \"stdout\": \"\", \"func_name\": \"<module>\", \"globals\": {\"i\": 250, \"x\": 250}}, {\"line\": 3, \"heap\": {}, \"event\": \"step_line\", \"stack_to_render\": [], \"ordered_globals\": [\"x\", \"i\"], \"stdout\": \"\", \"func_name\": \"<module>\", \"globals\": {\"i\": 250, \"x\": 251}}, {\"line\": 4, \"heap\": {}, \"event\": \"step_line\", \"stack_to_render\": [], \"ordered_globals\": [\"x\", \"i\"], \"stdout\": \"\", \"func_name\": \"<module>\", \"globals\": {\"i\": 251, \"x\": 251}}, {\"line\": 3, \"heap\": {}, \"event\": \"step_line\", \"stack_to_render\": [], \"ordered_globals\": [\"x\", \"i\"], \"stdout\": \"\", \"func_name\": \"<module>\", \"globals\": {\"i\": 251, \"x\": 252}}, {\"line\": 4, \"heap\": {}, \"event\": \"step_line\", \"stack_to_render\": [], \"ordered_globals\": [\"x\", \"i\"], \"stdout\": \"\", \"func_name\": \"<module>\", \"globals\": {\"i\": 252, \"x\": 252}}, {\"line\": 3, \"heap\": {}, \"event\": \"step_line\", \"stack_to_render\": [], \"ordered_globals\": [\"x\", \"i\"], \"stdout\": \"\", \"func_name\": \"<module>\", \"globals\": {\"i\": 252, \"x\": 253}}, {\"line\": 4, \"heap\": {}, \"event\": \"step_line\", \"stack_to_render\": [], \"ordered_globals\": [\"x\", \"i\"], \"stdout\": \"\", \"func_name\": \"<module>\", \"globals\": {\"i\": 253, \"x\": 253}}, {\"line\": 3, \"heap\": {}, \"event\": \"step_line\", \"stack_to_render\": [], \"ordered_globals\": [\"x\", \"i\"], \"stdout\": \"\", \"func_name\": \"<module>\", \"globals\": {\"i\": 253, \"x\": 254}}, {\"line\": 4, \"heap\": {}, \"event\": \"step_line\", \"stack_to_render\": [], \"ordered_globals\": [\"x\", \"i\"], \"stdout\": \"\", \"func_name\": \"<module>\", \"globals\": {\"i\": 254, \"x\": 254}}, {\"line\": 3, \"heap\": {}, \"event\": \"step_line\", \"stack_to_render\": [], \"ordered_globals\": [\"x\", \"i\"], \"stdout\": \"\", \"func_name\": \"<module>\", \"globals\": {\"i\": 254, \"x\": 255}}, {\"line\": 4, \"heap\": {}, \"event\": \"step_line\", \"stack_to_render\": [], \"ordered_globals\": [\"x\", \"i\"], \"stdout\": \"\", \"func_name\": \"<module>\", \"globals\": {\"i\": 255, \"x\": 255}}, {\"line\": 3, \"heap\": {}, \"event\": \"step_line\", \"stack_to_render\": [], \"ordered_globals\": [\"x\", \"i\"], \"stdout\": \"\", \"func_name\": \"<module>\", \"globals\": {\"i\": 255, \"x\": 256}}, {\"line\": 4, \"heap\": {}, \"event\": \"step_line\", \"stack_to_render\": [], \"ordered_globals\": [\"x\", \"i\"], \"stdout\": \"\", \"func_name\": \"<module>\", \"globals\": {\"i\": 256, \"x\": 256}}, {\"line\": 3, \"heap\": {}, \"event\": \"step_line\", \"stack_to_render\": [], \"ordered_globals\": [\"x\", \"i\"], \"stdout\": \"\", \"func_name\": \"<module>\", \"globals\": {\"i\": 256, \"x\": 257}}, {\"line\": 4, \"heap\": {}, \"event\": \"step_line\", \"stack_to_render\": [], \"ordered_globals\": [\"x\", \"i\"], \"stdout\": \"\", \"func_name\": \"<module>\", \"globals\": {\"i\": 257, \"x\": 257}}, {\"line\": 3, \"heap\": {}, \"event\": \"step_line\", \"stack_to_render\": [], \"ordered_globals\": [\"x\", \"i\"], \"stdout\": \"\", \"func_name\": \"<module>\", \"globals\": {\"i\": 257, \"x\": 258}}, {\"line\": 4, \"heap\": {}, \"event\": \"step_line\", \"stack_to_render\": [], \"ordered_globals\": [\"x\", \"i\"], \"stdout\": \"\", \"func_name\": \"<module>\", \"globals\": {\"i\": 258, \"x\": 258}}, {\"line\": 3, \"heap\": {}, \"event\": \"step_line\", \"stack_to_render\": [], \"ordered_globals\": [\"x\", \"i\"], \"stdout\": \"\", \"func_name\": \"<module>\", \"globals\": {\"i\": 258, \"x\": 259}}, {\"line\": 4, \"heap\": {}, \"event\": \"step_line\", \"stack_to_render\": [], \"ordered_globals\": [\"x\", \"i\"], \"stdout\": \"\", \"func_name\": \"<module>\", \"globals\": {\"i\": 259, \"x\": 259}}, {\"line\": 3, \"heap\": {}, \"event\": \"step_line\", \"stack_to_render\": [], \"ordered_globals\": [\"x\", \"i\"], \"stdout\": \"\", \"func_name\": \"<module>\", \"globals\": {\"i\": 259, \"x\": 260}}, {\"line\": 4, \"heap\": {}, \"event\": \"step_line\", \"stack_to_render\": [], \"ordered_globals\": [\"x\", \"i\"], \"stdout\": \"\", \"func_name\": \"<module>\", \"globals\": {\"i\": 260, \"x\": 260}}, {\"line\": 3, \"heap\": {}, \"event\": \"step_line\", \"stack_to_render\": [], \"ordered_globals\": [\"x\", \"i\"], \"stdout\": \"\", \"func_name\": \"<module>\", \"globals\": {\"i\": 260, \"x\": 261}}, {\"line\": 4, \"heap\": {}, \"event\": \"step_line\", \"stack_to_render\": [], \"ordered_globals\": [\"x\", \"i\"], \"stdout\": \"\", \"func_name\": \"<module>\", \"globals\": {\"i\": 261, \"x\": 261}}, {\"line\": 3, \"heap\": {}, \"event\": \"step_line\", \"stack_to_render\": [], \"ordered_globals\": [\"x\", \"i\"], \"stdout\": \"\", \"func_name\": \"<module>\", \"globals\": {\"i\": 261, \"x\": 262}}, {\"line\": 4, \"heap\": {}, \"event\": \"step_line\", \"stack_to_render\": [], \"ordered_globals\": [\"x\", \"i\"], \"stdout\": \"\", \"func_name\": \"<module>\", \"globals\": {\"i\": 262, \"x\": 262}}, {\"line\": 3, \"heap\": {}, \"event\": \"step_line\", \"stack_to_render\": [], \"ordered_globals\": [\"x\", \"i\"], \"stdout\": \"\", \"func_name\": \"<module>\", \"globals\": {\"i\": 262, \"x\": 263}}, {\"line\": 4, \"heap\": {}, \"event\": \"step_line\", \"stack_to_render\": [], \"ordered_globals\": [\"x\", \"i\"], \"stdout\": \"\", \"func_name\": \"<module>\", \"globals\": {\"i\": 263, \"x\": 263}}, {\"line\": 3, \"heap\": {}, \"event\": \"step_line\", \"stack_to_render\": [], \"ordered_globals\": [\"x\", \"i\"], \"stdout\": \"\", \"func_name\": \"<module>\", \"globals\": {\"i\": 263, \"x\": 264}}, {\"line\": 4, \"heap\": {}, \"event\": \"step_line\", \"stack_to_render\": [], \"ordered_globals\": [\"x\", \"i\"], \"stdout\": \"\", \"func_name\": \"<module>\", \"globals\": {\"i\": 264, \"x\": 264}}, {\"line\": 3, \"heap\": {}, \"event\": \"step_line\", \"stack_to_render\": [], \"ordered_globals\": [\"x\", \"i\"], \"stdout\": \"\", \"func_name\": \"<module>\", \"globals\": {\"i\": 264, \"x\": 265}}, {\"line\": 4, \"heap\": {}, \"event\": \"step_line\", \"stack_to_render\": [], \"ordered_globals\": [\"x\", \"i\"], \"stdout\": \"\", \"func_name\": \"<module>\", \"globals\": {\"i\": 265, \"x\": 265}}, {\"line\": 3, \"heap\": {}, \"event\": \"step_line\", \"stack_to_render\": [], \"ordered_globals\": [\"x\", \"i\"], \"stdout\": \"\", \"func_name\": \"<module>\", \"globals\": {\"i\": 265, \"x\": 266}}, {\"line\": 4, \"heap\": {}, \"event\": \"step_line\", \"stack_to_render\": [], \"ordered_globals\": [\"x\", \"i\"], \"stdout\": \"\", \"func_name\": \"<module>\", \"globals\": {\"i\": 266, \"x\": 266}}, {\"line\": 3, \"heap\": {}, \"event\": \"step_line\", \"stack_to_render\": [], \"ordered_globals\": [\"x\", \"i\"], \"stdout\": \"\", \"func_name\": \"<module>\", \"globals\": {\"i\": 266, \"x\": 267}}, {\"line\": 4, \"heap\": {}, \"event\": \"step_line\", \"stack_to_render\": [], \"ordered_globals\": [\"x\", \"i\"], \"stdout\": \"\", \"func_name\": \"<module>\", \"globals\": {\"i\": 267, \"x\": 267}}, {\"line\": 3, \"heap\": {}, \"event\": \"step_line\", \"stack_to_render\": [], \"ordered_globals\": [\"x\", \"i\"], \"stdout\": \"\", \"func_name\": \"<module>\", \"globals\": {\"i\": 267, \"x\": 268}}, {\"line\": 4, \"heap\": {}, \"event\": \"step_line\", \"stack_to_render\": [], \"ordered_globals\": [\"x\", \"i\"], \"stdout\": \"\", \"func_name\": \"<module>\", \"globals\": {\"i\": 268, \"x\": 268}}, {\"line\": 3, \"heap\": {}, \"event\": \"step_line\", \"stack_to_render\": [], \"ordered_globals\": [\"x\", \"i\"], \"stdout\": \"\", \"func_name\": \"<module>\", \"globals\": {\"i\": 268, \"x\": 269}}, {\"line\": 4, \"heap\": {}, \"event\": \"step_line\", \"stack_to_render\": [], \"ordered_globals\": [\"x\", \"i\"], \"stdout\": \"\", \"func_name\": \"<module>\", \"globals\": {\"i\": 269, \"x\": 269}}, {\"line\": 3, \"heap\": {}, \"event\": \"step_line\", \"stack_to_render\": [], \"ordered_globals\": [\"x\", \"i\"], \"stdout\": \"\", \"func_name\": \"<module>\", \"globals\": {\"i\": 269, \"x\": 270}}, {\"line\": 4, \"heap\": {}, \"event\": \"step_line\", \"stack_to_render\": [], \"ordered_globals\": [\"x\", \"i\"], \"stdout\": \"\", \"func_name\": \"<module>\", \"globals\": {\"i\": 270, \"x\": 270}}, {\"line\": 3, \"heap\": {}, \"event\": \"step_line\", \"stack_to_render\": [], \"ordered_globals\": [\"x\", \"i\"], \"stdout\": \"\", \"func_name\": \"<module>\", \"globals\": {\"i\": 270, \"x\": 271}}, {\"line\": 4, \"heap\": {}, \"event\": \"step_line\", \"stack_to_render\": [], \"ordered_globals\": [\"x\", \"i\"], \"stdout\": \"\", \"func_name\": \"<module>\", \"globals\": {\"i\": 271, \"x\": 271}}, {\"line\": 3, \"heap\": {}, \"event\": \"step_line\", \"stack_to_render\": [], \"ordered_globals\": [\"x\", \"i\"], \"stdout\": \"\", \"func_name\": \"<module>\", \"globals\": {\"i\": 271, \"x\": 272}}, {\"line\": 4, \"heap\": {}, \"event\": \"step_line\", \"stack_to_render\": [], \"ordered_globals\": [\"x\", \"i\"], \"stdout\": \"\", \"func_name\": \"<module>\", \"globals\": {\"i\": 272, \"x\": 272}}, {\"line\": 3, \"heap\": {}, \"event\": \"step_line\", \"stack_to_render\": [], \"ordered_globals\": [\"x\", \"i\"], \"stdout\": \"\", \"func_name\": \"<module>\", \"globals\": {\"i\": 272, \"x\": 273}}, {\"line\": 4, \"heap\": {}, \"event\": \"step_line\", \"stack_to_render\": [], \"ordered_globals\": [\"x\", \"i\"], \"stdout\": \"\", \"func_name\": \"<module>\", \"globals\": {\"i\": 273, \"x\": 273}}, {\"line\": 3, \"heap\": {}, \"event\": \"step_line\", \"stack_to_render\": [], \"ordered_globals\": [\"x\", \"i\"], \"stdout\": \"\", \"func_name\": \"<module>\", \"globals\": {\"i\": 273, \"x\": 274}}, {\"line\": 4, \"heap\": {}, \"event\": \"step_line\", \"stack_to_render\": [], \"ordered_globals\": [\"x\", \"i\"], \"stdout\": \"\", \"func_name\": \"<module>\", \"globals\": {\"i\": 274, \"x\": 274}}, {\"line\": 3, \"heap\": {}, \"event\": \"step_line\", \"stack_to_render\": [], \"ordered_globals\": [\"x\", \"i\"], \"stdout\": \"\", \"func_name\": \"<module>\", \"globals\": {\"i\": 274, \"x\": 275}}, {\"line\": 4, \"heap\": {}, \"event\": \"step_line\", \"stack_to_render\": [], \"ordered_globals\": [\"x\", \"i\"], \"stdout\": \"\", \"func_name\": \"<module>\", \"globals\": {\"i\": 275, \"x\": 275}}, {\"line\": 3, \"heap\": {}, \"event\": \"step_line\", \"stack_to_render\": [], \"ordered_globals\": [\"x\", \"i\"], \"stdout\": \"\", \"func_name\": \"<module>\", \"globals\": {\"i\": 275, \"x\": 276}}, {\"line\": 4, \"heap\": {}, \"event\": \"step_line\", \"stack_to_render\": [], \"ordered_globals\": [\"x\", \"i\"], \"stdout\": \"\", \"func_name\": \"<module>\", \"globals\": {\"i\": 276, \"x\": 276}}, {\"line\": 3, \"heap\": {}, \"event\": \"step_line\", \"stack_to_render\": [], \"ordered_globals\": [\"x\", \"i\"], \"stdout\": \"\", \"func_name\": \"<module>\", \"globals\": {\"i\": 276, \"x\": 277}}, {\"line\": 4, \"heap\": {}, \"event\": \"step_line\", \"stack_to_render\": [], \"ordered_globals\": [\"x\", \"i\"], \"stdout\": \"\", \"func_name\": \"<module>\", \"globals\": {\"i\": 277, \"x\": 277}}, {\"line\": 3, \"heap\": {}, \"event\": \"step_line\", \"stack_to_render\": [], \"ordered_globals\": [\"x\", \"i\"], \"stdout\": \"\", \"func_name\": \"<module>\", \"globals\": {\"i\": 277, \"x\": 278}}, {\"line\": 4, \"heap\": {}, \"event\": \"step_line\", \"stack_to_render\": [], \"ordered_globals\": [\"x\", \"i\"], \"stdout\": \"\", \"func_name\": \"<module>\", \"globals\": {\"i\": 278, \"x\": 278}}, {\"line\": 3, \"heap\": {}, \"event\": \"step_line\", \"stack_to_render\": [], \"ordered_globals\": [\"x\", \"i\"], \"stdout\": \"\", \"func_name\": \"<module>\", \"globals\": {\"i\": 278, \"x\": 279}}, {\"line\": 4, \"heap\": {}, \"event\": \"step_line\", \"stack_to_render\": [], \"ordered_globals\": [\"x\", \"i\"], \"stdout\": \"\", \"func_name\": \"<module>\", \"globals\": {\"i\": 279, \"x\": 279}}, {\"line\": 3, \"heap\": {}, \"event\": \"step_line\", \"stack_to_render\": [], \"ordered_globals\": [\"x\", \"i\"], \"stdout\": \"\", \"func_name\": \"<module>\", \"globals\": {\"i\": 279, \"x\": 280}}, {\"line\": 4, \"heap\": {}, \"event\": \"step_line\", \"stack_to_render\": [], \"ordered_globals\": [\"x\", \"i\"], \"stdout\": \"\", \"func_name\": \"<module>\", \"globals\": {\"i\": 280, \"x\": 280}}, {\"line\": 3, \"heap\": {}, \"event\": \"step_line\", \"stack_to_render\": [], \"ordered_globals\": [\"x\", \"i\"], \"stdout\": \"\", \"func_name\": \"<module>\", \"globals\": {\"i\": 280, \"x\": 281}}, {\"line\": 4, \"heap\": {}, \"event\": \"step_line\", \"stack_to_render\": [], \"ordered_globals\": [\"x\", \"i\"], \"stdout\": \"\", \"func_name\": \"<module>\", \"globals\": {\"i\": 281, \"x\": 281}}, {\"line\": 3, \"heap\": {}, \"event\": \"step_line\", \"stack_to_render\": [], \"ordered_globals\": [\"x\", \"i\"], \"stdout\": \"\", \"func_name\": \"<module>\", \"globals\": {\"i\": 281, \"x\": 282}}, {\"line\": 4, \"heap\": {}, \"event\": \"step_line\", \"stack_to_render\": [], \"ordered_globals\": [\"x\", \"i\"], \"stdout\": \"\", \"func_name\": \"<module>\", \"globals\": {\"i\": 282, \"x\": 282}}, {\"line\": 3, \"heap\": {}, \"event\": \"step_line\", \"stack_to_render\": [], \"ordered_globals\": [\"x\", \"i\"], \"stdout\": \"\", \"func_name\": \"<module>\", \"globals\": {\"i\": 282, \"x\": 283}}, {\"line\": 4, \"heap\": {}, \"event\": \"step_line\", \"stack_to_render\": [], \"ordered_globals\": [\"x\", \"i\"], \"stdout\": \"\", \"func_name\": \"<module>\", \"globals\": {\"i\": 283, \"x\": 283}}, {\"line\": 3, \"heap\": {}, \"event\": \"step_line\", \"stack_to_render\": [], \"ordered_globals\": [\"x\", \"i\"], \"stdout\": \"\", \"func_name\": \"<module>\", \"globals\": {\"i\": 283, \"x\": 284}}, {\"line\": 4, \"heap\": {}, \"event\": \"step_line\", \"stack_to_render\": [], \"ordered_globals\": [\"x\", \"i\"], \"stdout\": \"\", \"func_name\": \"<module>\", \"globals\": {\"i\": 284, \"x\": 284}}, {\"line\": 3, \"heap\": {}, \"event\": \"step_line\", \"stack_to_render\": [], \"ordered_globals\": [\"x\", \"i\"], \"stdout\": \"\", \"func_name\": \"<module>\", \"globals\": {\"i\": 284, \"x\": 285}}, {\"line\": 4, \"heap\": {}, \"event\": \"step_line\", \"stack_to_render\": [], \"ordered_globals\": [\"x\", \"i\"], \"stdout\": \"\", \"func_name\": \"<module>\", \"globals\": {\"i\": 285, \"x\": 285}}, {\"line\": 3, \"heap\": {}, \"event\": \"step_line\", \"stack_to_render\": [], \"ordered_globals\": [\"x\", \"i\"], \"stdout\": \"\", \"func_name\": \"<module>\", \"globals\": {\"i\": 285, \"x\": 286}}, {\"line\": 4, \"heap\": {}, \"event\": \"step_line\", \"stack_to_render\": [], \"ordered_globals\": [\"x\", \"i\"], \"stdout\": \"\", \"func_name\": \"<module>\", \"globals\": {\"i\": 286, \"x\": 286}}, {\"line\": 3, \"heap\": {}, \"event\": \"step_line\", \"stack_to_render\": [], \"ordered_globals\": [\"x\", \"i\"], \"stdout\": \"\", \"func_name\": \"<module>\", \"globals\": {\"i\": 286, \"x\": 287}}, {\"line\": 4, \"heap\": {}, \"event\": \"step_line\", \"stack_to_render\": [], \"ordered_globals\": [\"x\", \"i\"], \"stdout\": \"\", \"func_name\": \"<module>\", \"globals\": {\"i\": 287, \"x\": 287}}, {\"line\": 3, \"heap\": {}, \"event\": \"step_line\", \"stack_to_render\": [], \"ordered_globals\": [\"x\", \"i\"], \"stdout\": \"\", \"func_name\": \"<module>\", \"globals\": {\"i\": 287, \"x\": 288}}, {\"line\": 4, \"heap\": {}, \"event\": \"step_line\", \"stack_to_render\": [], \"ordered_globals\": [\"x\", \"i\"], \"stdout\": \"\", \"func_name\": \"<module>\", \"globals\": {\"i\": 288, \"x\": 288}}, {\"line\": 3, \"heap\": {}, \"event\": \"step_line\", \"stack_to_render\": [], \"ordered_globals\": [\"x\", \"i\"], \"stdout\": \"\", \"func_name\": \"<module>\", \"globals\": {\"i\": 288, \"x\": 289}}, {\"line\": 4, \"heap\": {}, \"event\": \"step_line\", \"stack_to_render\": [], \"ordered_globals\": [\"x\", \"i\"], \"stdout\": \"\", \"func_name\": \"<module>\", \"globals\": {\"i\": 289, \"x\": 289}}, {\"line\": 3, \"heap\": {}, \"event\": \"step_line\", \"stack_to_render\": [], \"ordered_globals\": [\"x\", \"i\"], \"stdout\": \"\", \"func_name\": \"<module>\", \"globals\": {\"i\": 289, \"x\": 290}}, {\"line\": 4, \"heap\": {}, \"event\": \"step_line\", \"stack_to_render\": [], \"ordered_globals\": [\"x\", \"i\"], \"stdout\": \"\", \"func_name\": \"<module>\", \"globals\": {\"i\": 290, \"x\": 290}}, {\"line\": 3, \"heap\": {}, \"event\": \"step_line\", \"stack_to_render\": [], \"ordered_globals\": [\"x\", \"i\"], \"stdout\": \"\", \"func_name\": \"<module>\", \"globals\": {\"i\": 290, \"x\": 291}}, {\"line\": 4, \"heap\": {}, \"event\": \"step_line\", \"stack_to_render\": [], \"ordered_globals\": [\"x\", \"i\"], \"stdout\": \"\", \"func_name\": \"<module>\", \"globals\": {\"i\": 291, \"x\": 291}}, {\"line\": 3, \"heap\": {}, \"event\": \"step_line\", \"stack_to_render\": [], \"ordered_globals\": [\"x\", \"i\"], \"stdout\": \"\", \"func_name\": \"<module>\", \"globals\": {\"i\": 291, \"x\": 292}}, {\"line\": 4, \"heap\": {}, \"event\": \"step_line\", \"stack_to_render\": [], \"ordered_globals\": [\"x\", \"i\"], \"stdout\": \"\", \"func_name\": \"<module>\", \"globals\": {\"i\": 292, \"x\": 292}}, {\"line\": 3, \"heap\": {}, \"event\": \"step_line\", \"stack_to_render\": [], \"ordered_globals\": [\"x\", \"i\"], \"stdout\": \"\", \"func_name\": \"<module>\", \"globals\": {\"i\": 292, \"x\": 293}}, {\"line\": 4, \"heap\": {}, \"event\": \"step_line\", \"stack_to_render\": [], \"ordered_globals\": [\"x\", \"i\"], \"stdout\": \"\", \"func_name\": \"<module>\", \"globals\": {\"i\": 293, \"x\": 293}}, {\"line\": 3, \"heap\": {}, \"event\": \"step_line\", \"stack_to_render\": [], \"ordered_globals\": [\"x\", \"i\"], \"stdout\": \"\", \"func_name\": \"<module>\", \"globals\": {\"i\": 293, \"x\": 294}}, {\"line\": 4, \"heap\": {}, \"event\": \"step_line\", \"stack_to_render\": [], \"ordered_globals\": [\"x\", \"i\"], \"stdout\": \"\", \"func_name\": \"<module>\", \"globals\": {\"i\": 294, \"x\": 294}}, {\"line\": 3, \"heap\": {}, \"event\": \"step_line\", \"stack_to_render\": [], \"ordered_globals\": [\"x\", \"i\"], \"stdout\": \"\", \"func_name\": \"<module>\", \"globals\": {\"i\": 294, \"x\": 295}}, {\"line\": 4, \"heap\": {}, \"event\": \"step_line\", \"stack_to_render\": [], \"ordered_globals\": [\"x\", \"i\"], \"stdout\": \"\", \"func_name\": \"<module>\", \"globals\": {\"i\": 295, \"x\": 295}}, {\"line\": 3, \"heap\": {}, \"event\": \"step_line\", \"stack_to_render\": [], \"ordered_globals\": [\"x\", \"i\"], \"stdout\": \"\", \"func_name\": \"<module>\", \"globals\": {\"i\": 295, \"x\": 296}}, {\"line\": 4, \"heap\": {}, \"event\": \"step_line\", \"stack_to_render\": [], \"ordered_globals\": [\"x\", \"i\"], \"stdout\": \"\", \"func_name\": \"<module>\", \"globals\": {\"i\": 296, \"x\": 296}}, {\"line\": 3, \"heap\": {}, \"event\": \"step_line\", \"stack_to_render\": [], \"ordered_globals\": [\"x\", \"i\"], \"stdout\": \"\", \"func_name\": \"<module>\", \"globals\": {\"i\": 296, \"x\": 297}}, {\"line\": 4, \"heap\": {}, \"event\": \"step_line\", \"stack_to_render\": [], \"ordered_globals\": [\"x\", \"i\"], \"stdout\": \"\", \"func_name\": \"<module>\", \"globals\": {\"i\": 297, \"x\": 297}}, {\"line\": 3, \"heap\": {}, \"event\": \"step_line\", \"stack_to_render\": [], \"ordered_globals\": [\"x\", \"i\"], \"stdout\": \"\", \"func_name\": \"<module>\", \"globals\": {\"i\": 297, \"x\": 298}}, {\"line\": 4, \"heap\": {}, \"event\": \"step_line\", \"stack_to_render\": [], \"ordered_globals\": [\"x\", \"i\"], \"stdout\": \"\", \"func_name\": \"<module>\", \"globals\": {\"i\": 298, \"x\": 298}}, {\"line\": 3, \"heap\": {}, \"event\": \"step_line\", \"stack_to_render\": [], \"ordered_globals\": [\"x\", \"i\"], \"stdout\": \"\", \"func_name\": \"<module>\", \"globals\": {\"i\": 298, \"x\": 299}}, {\"line\": 4, \"heap\": {}, \"event\": \"step_line\", \"stack_to_render\": [], \"ordered_globals\": [\"x\", \"i\"], \"stdout\": \"\", \"func_name\": \"<module>\", \"globals\": {\"i\": 299, \"x\": 299}}, {\"line\": 3, \"heap\": {}, \"event\": \"step_line\", \"stack_to_render\": [], \"ordered_globals\": [\"x\", \"i\"], \"stdout\": \"\", \"func_name\": \"<module>\", \"globals\": {\"i\": 299, \"x\": 300}}, {\"line\": 4, \"heap\": {}, \"event\": \"step_line\", \"stack_to_render\": [], \"ordered_globals\": [\"x\", \"i\"], \"stdout\": \"\", \"func_name\": \"<module>\", \"globals\": {\"i\": 300, \"x\": 300}}, {\"line\": 3, \"heap\": {}, \"event\": \"step_line\", \"stack_to_render\": [], \"ordered_globals\": [\"x\", \"i\"], \"stdout\": \"\", \"func_name\": \"<module>\", \"globals\": {\"i\": 300, \"x\": 301}}, {\"line\": 4, \"heap\": {}, \"event\": \"step_line\", \"stack_to_render\": [], \"ordered_globals\": [\"x\", \"i\"], \"stdout\": \"\", \"func_name\": \"<module>\", \"globals\": {\"i\": 301, \"x\": 301}}, {\"line\": 3, \"heap\": {}, \"event\": \"step_line\", \"stack_to_render\": [], \"ordered_globals\": [\"x\", \"i\"], \"stdout\": \"\", \"func_name\": \"<module>\", \"globals\": {\"i\": 301, \"x\": 302}}, {\"line\": 4, \"heap\": {}, \"event\": \"step_line\", \"stack_to_render\": [], \"ordered_globals\": [\"x\", \"i\"], \"stdout\": \"\", \"func_name\": \"<module>\", \"globals\": {\"i\": 302, \"x\": 302}}, {\"line\": 3, \"heap\": {}, \"event\": \"step_line\", \"stack_to_render\": [], \"ordered_globals\": [\"x\", \"i\"], \"stdout\": \"\", \"func_name\": \"<module>\", \"globals\": {\"i\": 302, \"x\": 303}}, {\"line\": 4, \"heap\": {}, \"event\": \"step_line\", \"stack_to_render\": [], \"ordered_globals\": [\"x\", \"i\"], \"stdout\": \"\", \"func_name\": \"<module>\", \"globals\": {\"i\": 303, \"x\": 303}}, {\"line\": 3, \"heap\": {}, \"event\": \"step_line\", \"stack_to_render\": [], \"ordered_globals\": [\"x\", \"i\"], \"stdout\": \"\", \"func_name\": \"<module>\", \"globals\": {\"i\": 303, \"x\": 304}}, {\"line\": 4, \"heap\": {}, \"event\": \"step_line\", \"stack_to_render\": [], \"ordered_globals\": [\"x\", \"i\"], \"stdout\": \"\", \"func_name\": \"<module>\", \"globals\": {\"i\": 304, \"x\": 304}}, {\"line\": 3, \"heap\": {}, \"event\": \"step_line\", \"stack_to_render\": [], \"ordered_globals\": [\"x\", \"i\"], \"stdout\": \"\", \"func_name\": \"<module>\", \"globals\": {\"i\": 304, \"x\": 305}}, {\"line\": 4, \"heap\": {}, \"event\": \"step_line\", \"stack_to_render\": [], \"ordered_globals\": [\"x\", \"i\"], \"stdout\": \"\", \"func_name\": \"<module>\", \"globals\": {\"i\": 305, \"x\": 305}}, {\"line\": 3, \"heap\": {}, \"event\": \"step_line\", \"stack_to_render\": [], \"ordered_globals\": [\"x\", \"i\"], \"stdout\": \"\", \"func_name\": \"<module>\", \"globals\": {\"i\": 305, \"x\": 306}}, {\"line\": 4, \"heap\": {}, \"event\": \"step_line\", \"stack_to_render\": [], \"ordered_globals\": [\"x\", \"i\"], \"stdout\": \"\", \"func_name\": \"<module>\", \"globals\": {\"i\": 306, \"x\": 306}}, {\"line\": 3, \"heap\": {}, \"event\": \"step_line\", \"stack_to_render\": [], \"ordered_globals\": [\"x\", \"i\"], \"stdout\": \"\", \"func_name\": \"<module>\", \"globals\": {\"i\": 306, \"x\": 307}}, {\"line\": 4, \"heap\": {}, \"event\": \"step_line\", \"stack_to_render\": [], \"ordered_globals\": [\"x\", \"i\"], \"stdout\": \"\", \"func_name\": \"<module>\", \"globals\": {\"i\": 307, \"x\": 307}}, {\"line\": 3, \"heap\": {}, \"event\": \"step_line\", \"stack_to_render\": [], \"ordered_globals\": [\"x\", \"i\"], \"stdout\": \"\", \"func_name\": \"<module>\", \"globals\": {\"i\": 307, \"x\": 308}}, {\"line\": 4, \"heap\": {}, \"event\": \"step_line\", \"stack_to_render\": [], \"ordered_globals\": [\"x\", \"i\"], \"stdout\": \"\", \"func_name\": \"<module>\", \"globals\": {\"i\": 308, \"x\": 308}}, {\"line\": 3, \"heap\": {}, \"event\": \"step_line\", \"stack_to_render\": [], \"ordered_globals\": [\"x\", \"i\"], \"stdout\": \"\", \"func_name\": \"<module>\", \"globals\": {\"i\": 308, \"x\": 309}}, {\"line\": 4, \"heap\": {}, \"event\": \"step_line\", \"stack_to_render\": [], \"ordered_globals\": [\"x\", \"i\"], \"stdout\": \"\", \"func_name\": \"<module>\", \"globals\": {\"i\": 309, \"x\": 309}}, {\"line\": 3, \"heap\": {}, \"event\": \"step_line\", \"stack_to_render\": [], \"ordered_globals\": [\"x\", \"i\"], \"stdout\": \"\", \"func_name\": \"<module>\", \"globals\": {\"i\": 309, \"x\": 310}}, {\"line\": 4, \"heap\": {}, \"event\": \"step_line\", \"stack_to_render\": [], \"ordered_globals\": [\"x\", \"i\"], \"stdout\": \"\", \"func_name\": \"<module>\", \"globals\": {\"i\": 310, \"x\": 310}}, {\"line\": 3, \"heap\": {}, \"event\": \"step_line\", \"stack_to_render\": [], \"ordered_globals\": [\"x\", \"i\"], \"stdout\": \"\", \"func_name\": \"<module>\", \"globals\": {\"i\": 310, \"x\": 311}}, {\"line\": 4, \"heap\": {}, \"event\": \"step_line\", \"stack_to_render\": [], \"ordered_globals\": [\"x\", \"i\"], \"stdout\": \"\", \"func_name\": \"<module>\", \"globals\": {\"i\": 311, \"x\": 311}}, {\"line\": 3, \"heap\": {}, \"event\": \"step_line\", \"stack_to_render\": [], \"ordered_globals\": [\"x\", \"i\"], \"stdout\": \"\", \"func_name\": \"<module>\", \"globals\": {\"i\": 311, \"x\": 312}}, {\"line\": 4, \"heap\": {}, \"event\": \"step_line\", \"stack_to_render\": [], \"ordered_globals\": [\"x\", \"i\"], \"stdout\": \"\", \"func_name\": \"<module>\", \"globals\": {\"i\": 312, \"x\": 312}}, {\"line\": 3, \"heap\": {}, \"event\": \"step_line\", \"stack_to_render\": [], \"ordered_globals\": [\"x\", \"i\"], \"stdout\": \"\", \"func_name\": \"<module>\", \"globals\": {\"i\": 312, \"x\": 313}}, {\"line\": 4, \"heap\": {}, \"event\": \"step_line\", \"stack_to_render\": [], \"ordered_globals\": [\"x\", \"i\"], \"stdout\": \"\", \"func_name\": \"<module>\", \"globals\": {\"i\": 313, \"x\": 313}}, {\"line\": 3, \"heap\": {}, \"event\": \"step_line\", \"stack_to_render\": [], \"ordered_globals\": [\"x\", \"i\"], \"stdout\": \"\", \"func_name\": \"<module>\", \"globals\": {\"i\": 313, \"x\": 314}}, {\"line\": 4, \"heap\": {}, \"event\": \"step_line\", \"stack_to_render\": [], \"ordered_globals\": [\"x\", \"i\"], \"stdout\": \"\", \"func_name\": \"<module>\", \"globals\": {\"i\": 314, \"x\": 314}}, {\"line\": 3, \"heap\": {}, \"event\": \"step_line\", \"stack_to_render\": [], \"ordered_globals\": [\"x\", \"i\"], \"stdout\": \"\", \"func_name\": \"<module>\", \"globals\": {\"i\": 314, \"x\": 315}}, {\"line\": 4, \"heap\": {}, \"event\": \"step_line\", \"stack_to_render\": [], \"ordered_globals\": [\"x\", \"i\"], \"stdout\": \"\", \"func_name\": \"<module>\", \"globals\": {\"i\": 315, \"x\": 315}}, {\"line\": 3, \"heap\": {}, \"event\": \"step_line\", \"stack_to_render\": [], \"ordered_globals\": [\"x\", \"i\"], \"stdout\": \"\", \"func_name\": \"<module>\", \"globals\": {\"i\": 315, \"x\": 316}}, {\"line\": 4, \"heap\": {}, \"event\": \"step_line\", \"stack_to_render\": [], \"ordered_globals\": [\"x\", \"i\"], \"stdout\": \"\", \"func_name\": \"<module>\", \"globals\": {\"i\": 316, \"x\": 316}}, {\"line\": 3, \"heap\": {}, \"event\": \"step_line\", \"stack_to_render\": [], \"ordered_globals\": [\"x\", \"i\"], \"stdout\": \"\", \"func_name\": \"<module>\", \"globals\": {\"i\": 316, \"x\": 317}}, {\"line\": 4, \"heap\": {}, \"event\": \"step_line\", \"stack_to_render\": [], \"ordered_globals\": [\"x\", \"i\"], \"stdout\": \"\", \"func_name\": \"<module>\", \"globals\": {\"i\": 317, \"x\": 317}}, {\"line\": 3, \"heap\": {}, \"event\": \"step_line\", \"stack_to_render\": [], \"ordered_globals\": [\"x\", \"i\"], \"stdout\": \"\", \"func_name\": \"<module>\", \"globals\": {\"i\": 317, \"x\": 318}}, {\"line\": 4, \"heap\": {}, \"event\": \"step_line\", \"stack_to_render\": [], \"ordered_globals\": [\"x\", \"i\"], \"stdout\": \"\", \"func_name\": \"<module>\", \"globals\": {\"i\": 318, \"x\": 318}}, {\"line\": 3, \"heap\": {}, \"event\": \"step_line\", \"stack_to_render\": [], \"ordered_globals\": [\"x\", \"i\"], \"stdout\": \"\", \"func_name\": \"<module>\", \"globals\": {\"i\": 318, \"x\": 319}}, {\"line\": 4, \"heap\": {}, \"event\": \"step_line\", \"stack_to_render\": [], \"ordered_globals\": [\"x\", \"i\"], \"stdout\": \"\", \"func_name\": \"<module>\", \"globals\": {\"i\": 319, \"x\": 319}}, {\"line\": 3, \"heap\": {}, \"event\": \"step_line\", \"stack_to_render\": [], \"ordered_globals\": [\"x\", \"i\"], \"stdout\": \"\", \"func_name\": \"<module>\", \"globals\": {\"i\": 319, \"x\": 320}}, {\"line\": 4, \"heap\": {}, \"event\": \"step_line\", \"stack_to_render\": [], \"ordered_globals\": [\"x\", \"i\"], \"stdout\": \"\", \"func_name\": \"<module>\", \"globals\": {\"i\": 320, \"x\": 320}}, {\"line\": 3, \"heap\": {}, \"event\": \"step_line\", \"stack_to_render\": [], \"ordered_globals\": [\"x\", \"i\"], \"stdout\": \"\", \"func_name\": \"<module>\", \"globals\": {\"i\": 320, \"x\": 321}}, {\"line\": 4, \"heap\": {}, \"event\": \"step_line\", \"stack_to_render\": [], \"ordered_globals\": [\"x\", \"i\"], \"stdout\": \"\", \"func_name\": \"<module>\", \"globals\": {\"i\": 321, \"x\": 321}}, {\"line\": 3, \"heap\": {}, \"event\": \"step_line\", \"stack_to_render\": [], \"ordered_globals\": [\"x\", \"i\"], \"stdout\": \"\", \"func_name\": \"<module>\", \"globals\": {\"i\": 321, \"x\": 322}}, {\"line\": 4, \"heap\": {}, \"event\": \"step_line\", \"stack_to_render\": [], \"ordered_globals\": [\"x\", \"i\"], \"stdout\": \"\", \"func_name\": \"<module>\", \"globals\": {\"i\": 322, \"x\": 322}}, {\"line\": 3, \"heap\": {}, \"event\": \"step_line\", \"stack_to_render\": [], \"ordered_globals\": [\"x\", \"i\"], \"stdout\": \"\", \"func_name\": \"<module>\", \"globals\": {\"i\": 322, \"x\": 323}}, {\"line\": 4, \"heap\": {}, \"event\": \"step_line\", \"stack_to_render\": [], \"ordered_globals\": [\"x\", \"i\"], \"stdout\": \"\", \"func_name\": \"<module>\", \"globals\": {\"i\": 323, \"x\": 323}}, {\"line\": 3, \"heap\": {}, \"event\": \"step_line\", \"stack_to_render\": [], \"ordered_globals\": [\"x\", \"i\"], \"stdout\": \"\", \"func_name\": \"<module>\", \"globals\": {\"i\": 323, \"x\": 324}}, {\"line\": 4, \"heap\": {}, \"event\": \"step_line\", \"stack_to_render\": [], \"ordered_globals\": [\"x\", \"i\"], \"stdout\": \"\", \"func_name\": \"<module>\", \"globals\": {\"i\": 324, \"x\": 324}}, {\"line\": 3, \"heap\": {}, \"event\": \"step_line\", \"stack_to_render\": [], \"ordered_globals\": [\"x\", \"i\"], \"stdout\": \"\", \"func_name\": \"<module>\", \"globals\": {\"i\": 324, \"x\": 325}}, {\"line\": 4, \"heap\": {}, \"event\": \"step_line\", \"stack_to_render\": [], \"ordered_globals\": [\"x\", \"i\"], \"stdout\": \"\", \"func_name\": \"<module>\", \"globals\": {\"i\": 325, \"x\": 325}}, {\"line\": 3, \"heap\": {}, \"event\": \"step_line\", \"stack_to_render\": [], \"ordered_globals\": [\"x\", \"i\"], \"stdout\": \"\", \"func_name\": \"<module>\", \"globals\": {\"i\": 325, \"x\": 326}}, {\"line\": 4, \"heap\": {}, \"event\": \"step_line\", \"stack_to_render\": [], \"ordered_globals\": [\"x\", \"i\"], \"stdout\": \"\", \"func_name\": \"<module>\", \"globals\": {\"i\": 326, \"x\": 326}}, {\"line\": 3, \"heap\": {}, \"event\": \"step_line\", \"stack_to_render\": [], \"ordered_globals\": [\"x\", \"i\"], \"stdout\": \"\", \"func_name\": \"<module>\", \"globals\": {\"i\": 326, \"x\": 327}}, {\"line\": 4, \"heap\": {}, \"event\": \"step_line\", \"stack_to_render\": [], \"ordered_globals\": [\"x\", \"i\"], \"stdout\": \"\", \"func_name\": \"<module>\", \"globals\": {\"i\": 327, \"x\": 327}}, {\"line\": 3, \"heap\": {}, \"event\": \"step_line\", \"stack_to_render\": [], \"ordered_globals\": [\"x\", \"i\"], \"stdout\": \"\", \"func_name\": \"<module>\", \"globals\": {\"i\": 327, \"x\": 328}}, {\"line\": 4, \"heap\": {}, \"event\": \"step_line\", \"stack_to_render\": [], \"ordered_globals\": [\"x\", \"i\"], \"stdout\": \"\", \"func_name\": \"<module>\", \"globals\": {\"i\": 328, \"x\": 328}}, {\"line\": 3, \"heap\": {}, \"event\": \"step_line\", \"stack_to_render\": [], \"ordered_globals\": [\"x\", \"i\"], \"stdout\": \"\", \"func_name\": \"<module>\", \"globals\": {\"i\": 328, \"x\": 329}}, {\"line\": 4, \"heap\": {}, \"event\": \"step_line\", \"stack_to_render\": [], \"ordered_globals\": [\"x\", \"i\"], \"stdout\": \"\", \"func_name\": \"<module>\", \"globals\": {\"i\": 329, \"x\": 329}}, {\"line\": 3, \"heap\": {}, \"event\": \"step_line\", \"stack_to_render\": [], \"ordered_globals\": [\"x\", \"i\"], \"stdout\": \"\", \"func_name\": \"<module>\", \"globals\": {\"i\": 329, \"x\": 330}}, {\"line\": 4, \"heap\": {}, \"event\": \"step_line\", \"stack_to_render\": [], \"ordered_globals\": [\"x\", \"i\"], \"stdout\": \"\", \"func_name\": \"<module>\", \"globals\": {\"i\": 330, \"x\": 330}}, {\"line\": 3, \"heap\": {}, \"event\": \"step_line\", \"stack_to_render\": [], \"ordered_globals\": [\"x\", \"i\"], \"stdout\": \"\", \"func_name\": \"<module>\", \"globals\": {\"i\": 330, \"x\": 331}}, {\"line\": 4, \"heap\": {}, \"event\": \"step_line\", \"stack_to_render\": [], \"ordered_globals\": [\"x\", \"i\"], \"stdout\": \"\", \"func_name\": \"<module>\", \"globals\": {\"i\": 331, \"x\": 331}}, {\"line\": 3, \"heap\": {}, \"event\": \"step_line\", \"stack_to_render\": [], \"ordered_globals\": [\"x\", \"i\"], \"stdout\": \"\", \"func_name\": \"<module>\", \"globals\": {\"i\": 331, \"x\": 332}}, {\"line\": 4, \"heap\": {}, \"event\": \"step_line\", \"stack_to_render\": [], \"ordered_globals\": [\"x\", \"i\"], \"stdout\": \"\", \"func_name\": \"<module>\", \"globals\": {\"i\": 332, \"x\": 332}}, {\"line\": 3, \"heap\": {}, \"event\": \"step_line\", \"stack_to_render\": [], \"ordered_globals\": [\"x\", \"i\"], \"stdout\": \"\", \"func_name\": \"<module>\", \"globals\": {\"i\": 332, \"x\": 333}}, {\"line\": 4, \"heap\": {}, \"event\": \"step_line\", \"stack_to_render\": [], \"ordered_globals\": [\"x\", \"i\"], \"stdout\": \"\", \"func_name\": \"<module>\", \"globals\": {\"i\": 333, \"x\": 333}}, {\"line\": 3, \"heap\": {}, \"event\": \"step_line\", \"stack_to_render\": [], \"ordered_globals\": [\"x\", \"i\"], \"stdout\": \"\", \"func_name\": \"<module>\", \"globals\": {\"i\": 333, \"x\": 334}}, {\"line\": 4, \"heap\": {}, \"event\": \"step_line\", \"stack_to_render\": [], \"ordered_globals\": [\"x\", \"i\"], \"stdout\": \"\", \"func_name\": \"<module>\", \"globals\": {\"i\": 334, \"x\": 334}}, {\"line\": 3, \"heap\": {}, \"event\": \"step_line\", \"stack_to_render\": [], \"ordered_globals\": [\"x\", \"i\"], \"stdout\": \"\", \"func_name\": \"<module>\", \"globals\": {\"i\": 334, \"x\": 335}}, {\"line\": 4, \"heap\": {}, \"event\": \"step_line\", \"stack_to_render\": [], \"ordered_globals\": [\"x\", \"i\"], \"stdout\": \"\", \"func_name\": \"<module>\", \"globals\": {\"i\": 335, \"x\": 335}}, {\"line\": 3, \"heap\": {}, \"event\": \"step_line\", \"stack_to_render\": [], \"ordered_globals\": [\"x\", \"i\"], \"stdout\": \"\", \"func_name\": \"<module>\", \"globals\": {\"i\": 335, \"x\": 336}}, {\"line\": 4, \"heap\": {}, \"event\": \"step_line\", \"stack_to_render\": [], \"ordered_globals\": [\"x\", \"i\"], \"stdout\": \"\", \"func_name\": \"<module>\", \"globals\": {\"i\": 336, \"x\": 336}}, {\"line\": 3, \"heap\": {}, \"event\": \"step_line\", \"stack_to_render\": [], \"ordered_globals\": [\"x\", \"i\"], \"stdout\": \"\", \"func_name\": \"<module>\", \"globals\": {\"i\": 336, \"x\": 337}}, {\"line\": 4, \"heap\": {}, \"event\": \"step_line\", \"stack_to_render\": [], \"ordered_globals\": [\"x\", \"i\"], \"stdout\": \"\", \"func_name\": \"<module>\", \"globals\": {\"i\": 337, \"x\": 337}}, {\"line\": 3, \"heap\": {}, \"event\": \"step_line\", \"stack_to_render\": [], \"ordered_globals\": [\"x\", \"i\"], \"stdout\": \"\", \"func_name\": \"<module>\", \"globals\": {\"i\": 337, \"x\": 338}}, {\"line\": 4, \"heap\": {}, \"event\": \"step_line\", \"stack_to_render\": [], \"ordered_globals\": [\"x\", \"i\"], \"stdout\": \"\", \"func_name\": \"<module>\", \"globals\": {\"i\": 338, \"x\": 338}}, {\"line\": 3, \"heap\": {}, \"event\": \"step_line\", \"stack_to_render\": [], \"ordered_globals\": [\"x\", \"i\"], \"stdout\": \"\", \"func_name\": \"<module>\", \"globals\": {\"i\": 338, \"x\": 339}}, {\"line\": 4, \"heap\": {}, \"event\": \"step_line\", \"stack_to_render\": [], \"ordered_globals\": [\"x\", \"i\"], \"stdout\": \"\", \"func_name\": \"<module>\", \"globals\": {\"i\": 339, \"x\": 339}}, {\"line\": 3, \"heap\": {}, \"event\": \"step_line\", \"stack_to_render\": [], \"ordered_globals\": [\"x\", \"i\"], \"stdout\": \"\", \"func_name\": \"<module>\", \"globals\": {\"i\": 339, \"x\": 340}}, {\"line\": 4, \"heap\": {}, \"event\": \"step_line\", \"stack_to_render\": [], \"ordered_globals\": [\"x\", \"i\"], \"stdout\": \"\", \"func_name\": \"<module>\", \"globals\": {\"i\": 340, \"x\": 340}}, {\"line\": 3, \"heap\": {}, \"event\": \"step_line\", \"stack_to_render\": [], \"ordered_globals\": [\"x\", \"i\"], \"stdout\": \"\", \"func_name\": \"<module>\", \"globals\": {\"i\": 340, \"x\": 341}}, {\"line\": 4, \"heap\": {}, \"event\": \"step_line\", \"stack_to_render\": [], \"ordered_globals\": [\"x\", \"i\"], \"stdout\": \"\", \"func_name\": \"<module>\", \"globals\": {\"i\": 341, \"x\": 341}}, {\"line\": 3, \"heap\": {}, \"event\": \"step_line\", \"stack_to_render\": [], \"ordered_globals\": [\"x\", \"i\"], \"stdout\": \"\", \"func_name\": \"<module>\", \"globals\": {\"i\": 341, \"x\": 342}}, {\"line\": 4, \"heap\": {}, \"event\": \"step_line\", \"stack_to_render\": [], \"ordered_globals\": [\"x\", \"i\"], \"stdout\": \"\", \"func_name\": \"<module>\", \"globals\": {\"i\": 342, \"x\": 342}}, {\"line\": 3, \"heap\": {}, \"event\": \"step_line\", \"stack_to_render\": [], \"ordered_globals\": [\"x\", \"i\"], \"stdout\": \"\", \"func_name\": \"<module>\", \"globals\": {\"i\": 342, \"x\": 343}}, {\"line\": 4, \"heap\": {}, \"event\": \"step_line\", \"stack_to_render\": [], \"ordered_globals\": [\"x\", \"i\"], \"stdout\": \"\", \"func_name\": \"<module>\", \"globals\": {\"i\": 343, \"x\": 343}}, {\"line\": 3, \"heap\": {}, \"event\": \"step_line\", \"stack_to_render\": [], \"ordered_globals\": [\"x\", \"i\"], \"stdout\": \"\", \"func_name\": \"<module>\", \"globals\": {\"i\": 343, \"x\": 344}}, {\"line\": 4, \"heap\": {}, \"event\": \"step_line\", \"stack_to_render\": [], \"ordered_globals\": [\"x\", \"i\"], \"stdout\": \"\", \"func_name\": \"<module>\", \"globals\": {\"i\": 344, \"x\": 344}}, {\"line\": 3, \"heap\": {}, \"event\": \"step_line\", \"stack_to_render\": [], \"ordered_globals\": [\"x\", \"i\"], \"stdout\": \"\", \"func_name\": \"<module>\", \"globals\": {\"i\": 344, \"x\": 345}}, {\"line\": 4, \"heap\": {}, \"event\": \"step_line\", \"stack_to_render\": [], \"ordered_globals\": [\"x\", \"i\"], \"stdout\": \"\", \"func_name\": \"<module>\", \"globals\": {\"i\": 345, \"x\": 345}}, {\"line\": 3, \"heap\": {}, \"event\": \"step_line\", \"stack_to_render\": [], \"ordered_globals\": [\"x\", \"i\"], \"stdout\": \"\", \"func_name\": \"<module>\", \"globals\": {\"i\": 345, \"x\": 346}}, {\"line\": 4, \"heap\": {}, \"event\": \"step_line\", \"stack_to_render\": [], \"ordered_globals\": [\"x\", \"i\"], \"stdout\": \"\", \"func_name\": \"<module>\", \"globals\": {\"i\": 346, \"x\": 346}}, {\"line\": 3, \"heap\": {}, \"event\": \"step_line\", \"stack_to_render\": [], \"ordered_globals\": [\"x\", \"i\"], \"stdout\": \"\", \"func_name\": \"<module>\", \"globals\": {\"i\": 346, \"x\": 347}}, {\"line\": 4, \"heap\": {}, \"event\": \"step_line\", \"stack_to_render\": [], \"ordered_globals\": [\"x\", \"i\"], \"stdout\": \"\", \"func_name\": \"<module>\", \"globals\": {\"i\": 347, \"x\": 347}}, {\"line\": 3, \"heap\": {}, \"event\": \"step_line\", \"stack_to_render\": [], \"ordered_globals\": [\"x\", \"i\"], \"stdout\": \"\", \"func_name\": \"<module>\", \"globals\": {\"i\": 347, \"x\": 348}}, {\"line\": 4, \"heap\": {}, \"event\": \"step_line\", \"stack_to_render\": [], \"ordered_globals\": [\"x\", \"i\"], \"stdout\": \"\", \"func_name\": \"<module>\", \"globals\": {\"i\": 348, \"x\": 348}}, {\"line\": 3, \"heap\": {}, \"event\": \"step_line\", \"stack_to_render\": [], \"ordered_globals\": [\"x\", \"i\"], \"stdout\": \"\", \"func_name\": \"<module>\", \"globals\": {\"i\": 348, \"x\": 349}}, {\"line\": 4, \"heap\": {}, \"event\": \"step_line\", \"stack_to_render\": [], \"ordered_globals\": [\"x\", \"i\"], \"stdout\": \"\", \"func_name\": \"<module>\", \"globals\": {\"i\": 349, \"x\": 349}}, {\"line\": 3, \"heap\": {}, \"event\": \"step_line\", \"stack_to_render\": [], \"ordered_globals\": [\"x\", \"i\"], \"stdout\": \"\", \"func_name\": \"<module>\", \"globals\": {\"i\": 349, \"x\": 350}}, {\"line\": 4, \"heap\": {}, \"event\": \"step_line\", \"stack_to_render\": [], \"ordered_globals\": [\"x\", \"i\"], \"stdout\": \"\", \"func_name\": \"<module>\", \"globals\": {\"i\": 350, \"x\": 350}}, {\"line\": 3, \"heap\": {}, \"event\": \"step_line\", \"stack_to_render\": [], \"ordered_globals\": [\"x\", \"i\"], \"stdout\": \"\", \"func_name\": \"<module>\", \"globals\": {\"i\": 350, \"x\": 351}}, {\"line\": 4, \"heap\": {}, \"event\": \"step_line\", \"stack_to_render\": [], \"ordered_globals\": [\"x\", \"i\"], \"stdout\": \"\", \"func_name\": \"<module>\", \"globals\": {\"i\": 351, \"x\": 351}}, {\"line\": 3, \"heap\": {}, \"event\": \"step_line\", \"stack_to_render\": [], \"ordered_globals\": [\"x\", \"i\"], \"stdout\": \"\", \"func_name\": \"<module>\", \"globals\": {\"i\": 351, \"x\": 352}}, {\"line\": 4, \"heap\": {}, \"event\": \"step_line\", \"stack_to_render\": [], \"ordered_globals\": [\"x\", \"i\"], \"stdout\": \"\", \"func_name\": \"<module>\", \"globals\": {\"i\": 352, \"x\": 352}}, {\"line\": 3, \"heap\": {}, \"event\": \"step_line\", \"stack_to_render\": [], \"ordered_globals\": [\"x\", \"i\"], \"stdout\": \"\", \"func_name\": \"<module>\", \"globals\": {\"i\": 352, \"x\": 353}}, {\"line\": 4, \"heap\": {}, \"event\": \"step_line\", \"stack_to_render\": [], \"ordered_globals\": [\"x\", \"i\"], \"stdout\": \"\", \"func_name\": \"<module>\", \"globals\": {\"i\": 353, \"x\": 353}}, {\"line\": 3, \"heap\": {}, \"event\": \"step_line\", \"stack_to_render\": [], \"ordered_globals\": [\"x\", \"i\"], \"stdout\": \"\", \"func_name\": \"<module>\", \"globals\": {\"i\": 353, \"x\": 354}}, {\"line\": 4, \"heap\": {}, \"event\": \"step_line\", \"stack_to_render\": [], \"ordered_globals\": [\"x\", \"i\"], \"stdout\": \"\", \"func_name\": \"<module>\", \"globals\": {\"i\": 354, \"x\": 354}}, {\"line\": 3, \"heap\": {}, \"event\": \"step_line\", \"stack_to_render\": [], \"ordered_globals\": [\"x\", \"i\"], \"stdout\": \"\", \"func_name\": \"<module>\", \"globals\": {\"i\": 354, \"x\": 355}}, {\"line\": 4, \"heap\": {}, \"event\": \"step_line\", \"stack_to_render\": [], \"ordered_globals\": [\"x\", \"i\"], \"stdout\": \"\", \"func_name\": \"<module>\", \"globals\": {\"i\": 355, \"x\": 355}}, {\"line\": 3, \"heap\": {}, \"event\": \"step_line\", \"stack_to_render\": [], \"ordered_globals\": [\"x\", \"i\"], \"stdout\": \"\", \"func_name\": \"<module>\", \"globals\": {\"i\": 355, \"x\": 356}}, {\"line\": 4, \"heap\": {}, \"event\": \"step_line\", \"stack_to_render\": [], \"ordered_globals\": [\"x\", \"i\"], \"stdout\": \"\", \"func_name\": \"<module>\", \"globals\": {\"i\": 356, \"x\": 356}}, {\"line\": 3, \"heap\": {}, \"event\": \"step_line\", \"stack_to_render\": [], \"ordered_globals\": [\"x\", \"i\"], \"stdout\": \"\", \"func_name\": \"<module>\", \"globals\": {\"i\": 356, \"x\": 357}}, {\"line\": 4, \"heap\": {}, \"event\": \"step_line\", \"stack_to_render\": [], \"ordered_globals\": [\"x\", \"i\"], \"stdout\": \"\", \"func_name\": \"<module>\", \"globals\": {\"i\": 357, \"x\": 357}}, {\"line\": 3, \"heap\": {}, \"event\": \"step_line\", \"stack_to_render\": [], \"ordered_globals\": [\"x\", \"i\"], \"stdout\": \"\", \"func_name\": \"<module>\", \"globals\": {\"i\": 357, \"x\": 358}}, {\"line\": 4, \"heap\": {}, \"event\": \"step_line\", \"stack_to_render\": [], \"ordered_globals\": [\"x\", \"i\"], \"stdout\": \"\", \"func_name\": \"<module>\", \"globals\": {\"i\": 358, \"x\": 358}}, {\"line\": 3, \"heap\": {}, \"event\": \"step_line\", \"stack_to_render\": [], \"ordered_globals\": [\"x\", \"i\"], \"stdout\": \"\", \"func_name\": \"<module>\", \"globals\": {\"i\": 358, \"x\": 359}}, {\"line\": 4, \"heap\": {}, \"event\": \"step_line\", \"stack_to_render\": [], \"ordered_globals\": [\"x\", \"i\"], \"stdout\": \"\", \"func_name\": \"<module>\", \"globals\": {\"i\": 359, \"x\": 359}}, {\"line\": 3, \"heap\": {}, \"event\": \"step_line\", \"stack_to_render\": [], \"ordered_globals\": [\"x\", \"i\"], \"stdout\": \"\", \"func_name\": \"<module>\", \"globals\": {\"i\": 359, \"x\": 360}}, {\"line\": 4, \"heap\": {}, \"event\": \"step_line\", \"stack_to_render\": [], \"ordered_globals\": [\"x\", \"i\"], \"stdout\": \"\", \"func_name\": \"<module>\", \"globals\": {\"i\": 360, \"x\": 360}}, {\"line\": 3, \"heap\": {}, \"event\": \"step_line\", \"stack_to_render\": [], \"ordered_globals\": [\"x\", \"i\"], \"stdout\": \"\", \"func_name\": \"<module>\", \"globals\": {\"i\": 360, \"x\": 361}}, {\"line\": 4, \"heap\": {}, \"event\": \"step_line\", \"stack_to_render\": [], \"ordered_globals\": [\"x\", \"i\"], \"stdout\": \"\", \"func_name\": \"<module>\", \"globals\": {\"i\": 361, \"x\": 361}}, {\"line\": 3, \"heap\": {}, \"event\": \"step_line\", \"stack_to_render\": [], \"ordered_globals\": [\"x\", \"i\"], \"stdout\": \"\", \"func_name\": \"<module>\", \"globals\": {\"i\": 361, \"x\": 362}}, {\"line\": 4, \"heap\": {}, \"event\": \"step_line\", \"stack_to_render\": [], \"ordered_globals\": [\"x\", \"i\"], \"stdout\": \"\", \"func_name\": \"<module>\", \"globals\": {\"i\": 362, \"x\": 362}}, {\"line\": 3, \"heap\": {}, \"event\": \"step_line\", \"stack_to_render\": [], \"ordered_globals\": [\"x\", \"i\"], \"stdout\": \"\", \"func_name\": \"<module>\", \"globals\": {\"i\": 362, \"x\": 363}}, {\"line\": 4, \"heap\": {}, \"event\": \"step_line\", \"stack_to_render\": [], \"ordered_globals\": [\"x\", \"i\"], \"stdout\": \"\", \"func_name\": \"<module>\", \"globals\": {\"i\": 363, \"x\": 363}}, {\"line\": 3, \"heap\": {}, \"event\": \"step_line\", \"stack_to_render\": [], \"ordered_globals\": [\"x\", \"i\"], \"stdout\": \"\", \"func_name\": \"<module>\", \"globals\": {\"i\": 363, \"x\": 364}}, {\"line\": 4, \"heap\": {}, \"event\": \"step_line\", \"stack_to_render\": [], \"ordered_globals\": [\"x\", \"i\"], \"stdout\": \"\", \"func_name\": \"<module>\", \"globals\": {\"i\": 364, \"x\": 364}}, {\"line\": 3, \"heap\": {}, \"event\": \"step_line\", \"stack_to_render\": [], \"ordered_globals\": [\"x\", \"i\"], \"stdout\": \"\", \"func_name\": \"<module>\", \"globals\": {\"i\": 364, \"x\": 365}}, {\"line\": 4, \"heap\": {}, \"event\": \"step_line\", \"stack_to_render\": [], \"ordered_globals\": [\"x\", \"i\"], \"stdout\": \"\", \"func_name\": \"<module>\", \"globals\": {\"i\": 365, \"x\": 365}}, {\"line\": 3, \"heap\": {}, \"event\": \"step_line\", \"stack_to_render\": [], \"ordered_globals\": [\"x\", \"i\"], \"stdout\": \"\", \"func_name\": \"<module>\", \"globals\": {\"i\": 365, \"x\": 366}}, {\"line\": 4, \"heap\": {}, \"event\": \"step_line\", \"stack_to_render\": [], \"ordered_globals\": [\"x\", \"i\"], \"stdout\": \"\", \"func_name\": \"<module>\", \"globals\": {\"i\": 366, \"x\": 366}}, {\"line\": 3, \"heap\": {}, \"event\": \"step_line\", \"stack_to_render\": [], \"ordered_globals\": [\"x\", \"i\"], \"stdout\": \"\", \"func_name\": \"<module>\", \"globals\": {\"i\": 366, \"x\": 367}}, {\"line\": 4, \"heap\": {}, \"event\": \"step_line\", \"stack_to_render\": [], \"ordered_globals\": [\"x\", \"i\"], \"stdout\": \"\", \"func_name\": \"<module>\", \"globals\": {\"i\": 367, \"x\": 367}}, {\"line\": 3, \"heap\": {}, \"event\": \"step_line\", \"stack_to_render\": [], \"ordered_globals\": [\"x\", \"i\"], \"stdout\": \"\", \"func_name\": \"<module>\", \"globals\": {\"i\": 367, \"x\": 368}}, {\"line\": 4, \"heap\": {}, \"event\": \"step_line\", \"stack_to_render\": [], \"ordered_globals\": [\"x\", \"i\"], \"stdout\": \"\", \"func_name\": \"<module>\", \"globals\": {\"i\": 368, \"x\": 368}}, {\"line\": 3, \"heap\": {}, \"event\": \"step_line\", \"stack_to_render\": [], \"ordered_globals\": [\"x\", \"i\"], \"stdout\": \"\", \"func_name\": \"<module>\", \"globals\": {\"i\": 368, \"x\": 369}}, {\"line\": 4, \"heap\": {}, \"event\": \"step_line\", \"stack_to_render\": [], \"ordered_globals\": [\"x\", \"i\"], \"stdout\": \"\", \"func_name\": \"<module>\", \"globals\": {\"i\": 369, \"x\": 369}}, {\"line\": 3, \"heap\": {}, \"event\": \"step_line\", \"stack_to_render\": [], \"ordered_globals\": [\"x\", \"i\"], \"stdout\": \"\", \"func_name\": \"<module>\", \"globals\": {\"i\": 369, \"x\": 370}}, {\"line\": 4, \"heap\": {}, \"event\": \"step_line\", \"stack_to_render\": [], \"ordered_globals\": [\"x\", \"i\"], \"stdout\": \"\", \"func_name\": \"<module>\", \"globals\": {\"i\": 370, \"x\": 370}}, {\"line\": 3, \"heap\": {}, \"event\": \"step_line\", \"stack_to_render\": [], \"ordered_globals\": [\"x\", \"i\"], \"stdout\": \"\", \"func_name\": \"<module>\", \"globals\": {\"i\": 370, \"x\": 371}}, {\"line\": 4, \"heap\": {}, \"event\": \"step_line\", \"stack_to_render\": [], \"ordered_globals\": [\"x\", \"i\"], \"stdout\": \"\", \"func_name\": \"<module>\", \"globals\": {\"i\": 371, \"x\": 371}}, {\"line\": 3, \"heap\": {}, \"event\": \"step_line\", \"stack_to_render\": [], \"ordered_globals\": [\"x\", \"i\"], \"stdout\": \"\", \"func_name\": \"<module>\", \"globals\": {\"i\": 371, \"x\": 372}}, {\"line\": 4, \"heap\": {}, \"event\": \"step_line\", \"stack_to_render\": [], \"ordered_globals\": [\"x\", \"i\"], \"stdout\": \"\", \"func_name\": \"<module>\", \"globals\": {\"i\": 372, \"x\": 372}}, {\"line\": 3, \"heap\": {}, \"event\": \"step_line\", \"stack_to_render\": [], \"ordered_globals\": [\"x\", \"i\"], \"stdout\": \"\", \"func_name\": \"<module>\", \"globals\": {\"i\": 372, \"x\": 373}}, {\"line\": 4, \"heap\": {}, \"event\": \"step_line\", \"stack_to_render\": [], \"ordered_globals\": [\"x\", \"i\"], \"stdout\": \"\", \"func_name\": \"<module>\", \"globals\": {\"i\": 373, \"x\": 373}}, {\"line\": 3, \"heap\": {}, \"event\": \"step_line\", \"stack_to_render\": [], \"ordered_globals\": [\"x\", \"i\"], \"stdout\": \"\", \"func_name\": \"<module>\", \"globals\": {\"i\": 373, \"x\": 374}}, {\"line\": 4, \"heap\": {}, \"event\": \"step_line\", \"stack_to_render\": [], \"ordered_globals\": [\"x\", \"i\"], \"stdout\": \"\", \"func_name\": \"<module>\", \"globals\": {\"i\": 374, \"x\": 374}}, {\"line\": 3, \"heap\": {}, \"event\": \"step_line\", \"stack_to_render\": [], \"ordered_globals\": [\"x\", \"i\"], \"stdout\": \"\", \"func_name\": \"<module>\", \"globals\": {\"i\": 374, \"x\": 375}}, {\"line\": 4, \"heap\": {}, \"event\": \"step_line\", \"stack_to_render\": [], \"ordered_globals\": [\"x\", \"i\"], \"stdout\": \"\", \"func_name\": \"<module>\", \"globals\": {\"i\": 375, \"x\": 375}}, {\"line\": 3, \"heap\": {}, \"event\": \"step_line\", \"stack_to_render\": [], \"ordered_globals\": [\"x\", \"i\"], \"stdout\": \"\", \"func_name\": \"<module>\", \"globals\": {\"i\": 375, \"x\": 376}}, {\"line\": 4, \"heap\": {}, \"event\": \"step_line\", \"stack_to_render\": [], \"ordered_globals\": [\"x\", \"i\"], \"stdout\": \"\", \"func_name\": \"<module>\", \"globals\": {\"i\": 376, \"x\": 376}}, {\"line\": 3, \"heap\": {}, \"event\": \"step_line\", \"stack_to_render\": [], \"ordered_globals\": [\"x\", \"i\"], \"stdout\": \"\", \"func_name\": \"<module>\", \"globals\": {\"i\": 376, \"x\": 377}}, {\"line\": 4, \"heap\": {}, \"event\": \"step_line\", \"stack_to_render\": [], \"ordered_globals\": [\"x\", \"i\"], \"stdout\": \"\", \"func_name\": \"<module>\", \"globals\": {\"i\": 377, \"x\": 377}}, {\"line\": 3, \"heap\": {}, \"event\": \"step_line\", \"stack_to_render\": [], \"ordered_globals\": [\"x\", \"i\"], \"stdout\": \"\", \"func_name\": \"<module>\", \"globals\": {\"i\": 377, \"x\": 378}}, {\"line\": 4, \"heap\": {}, \"event\": \"step_line\", \"stack_to_render\": [], \"ordered_globals\": [\"x\", \"i\"], \"stdout\": \"\", \"func_name\": \"<module>\", \"globals\": {\"i\": 378, \"x\": 378}}, {\"line\": 3, \"heap\": {}, \"event\": \"step_line\", \"stack_to_render\": [], \"ordered_globals\": [\"x\", \"i\"], \"stdout\": \"\", \"func_name\": \"<module>\", \"globals\": {\"i\": 378, \"x\": 379}}, {\"line\": 4, \"heap\": {}, \"event\": \"step_line\", \"stack_to_render\": [], \"ordered_globals\": [\"x\", \"i\"], \"stdout\": \"\", \"func_name\": \"<module>\", \"globals\": {\"i\": 379, \"x\": 379}}, {\"line\": 3, \"heap\": {}, \"event\": \"step_line\", \"stack_to_render\": [], \"ordered_globals\": [\"x\", \"i\"], \"stdout\": \"\", \"func_name\": \"<module>\", \"globals\": {\"i\": 379, \"x\": 380}}, {\"line\": 4, \"heap\": {}, \"event\": \"step_line\", \"stack_to_render\": [], \"ordered_globals\": [\"x\", \"i\"], \"stdout\": \"\", \"func_name\": \"<module>\", \"globals\": {\"i\": 380, \"x\": 380}}, {\"line\": 3, \"heap\": {}, \"event\": \"step_line\", \"stack_to_render\": [], \"ordered_globals\": [\"x\", \"i\"], \"stdout\": \"\", \"func_name\": \"<module>\", \"globals\": {\"i\": 380, \"x\": 381}}, {\"line\": 4, \"heap\": {}, \"event\": \"step_line\", \"stack_to_render\": [], \"ordered_globals\": [\"x\", \"i\"], \"stdout\": \"\", \"func_name\": \"<module>\", \"globals\": {\"i\": 381, \"x\": 381}}, {\"line\": 3, \"heap\": {}, \"event\": \"step_line\", \"stack_to_render\": [], \"ordered_globals\": [\"x\", \"i\"], \"stdout\": \"\", \"func_name\": \"<module>\", \"globals\": {\"i\": 381, \"x\": 382}}, {\"line\": 4, \"heap\": {}, \"event\": \"step_line\", \"stack_to_render\": [], \"ordered_globals\": [\"x\", \"i\"], \"stdout\": \"\", \"func_name\": \"<module>\", \"globals\": {\"i\": 382, \"x\": 382}}, {\"line\": 3, \"heap\": {}, \"event\": \"step_line\", \"stack_to_render\": [], \"ordered_globals\": [\"x\", \"i\"], \"stdout\": \"\", \"func_name\": \"<module>\", \"globals\": {\"i\": 382, \"x\": 383}}, {\"line\": 4, \"heap\": {}, \"event\": \"step_line\", \"stack_to_render\": [], \"ordered_globals\": [\"x\", \"i\"], \"stdout\": \"\", \"func_name\": \"<module>\", \"globals\": {\"i\": 383, \"x\": 383}}, {\"line\": 3, \"heap\": {}, \"event\": \"step_line\", \"stack_to_render\": [], \"ordered_globals\": [\"x\", \"i\"], \"stdout\": \"\", \"func_name\": \"<module>\", \"globals\": {\"i\": 383, \"x\": 384}}, {\"line\": 4, \"heap\": {}, \"event\": \"step_line\", \"stack_to_render\": [], \"ordered_globals\": [\"x\", \"i\"], \"stdout\": \"\", \"func_name\": \"<module>\", \"globals\": {\"i\": 384, \"x\": 384}}, {\"line\": 3, \"heap\": {}, \"event\": \"step_line\", \"stack_to_render\": [], \"ordered_globals\": [\"x\", \"i\"], \"stdout\": \"\", \"func_name\": \"<module>\", \"globals\": {\"i\": 384, \"x\": 385}}, {\"line\": 4, \"heap\": {}, \"event\": \"step_line\", \"stack_to_render\": [], \"ordered_globals\": [\"x\", \"i\"], \"stdout\": \"\", \"func_name\": \"<module>\", \"globals\": {\"i\": 385, \"x\": 385}}, {\"line\": 3, \"heap\": {}, \"event\": \"step_line\", \"stack_to_render\": [], \"ordered_globals\": [\"x\", \"i\"], \"stdout\": \"\", \"func_name\": \"<module>\", \"globals\": {\"i\": 385, \"x\": 386}}, {\"line\": 4, \"heap\": {}, \"event\": \"step_line\", \"stack_to_render\": [], \"ordered_globals\": [\"x\", \"i\"], \"stdout\": \"\", \"func_name\": \"<module>\", \"globals\": {\"i\": 386, \"x\": 386}}, {\"line\": 3, \"heap\": {}, \"event\": \"step_line\", \"stack_to_render\": [], \"ordered_globals\": [\"x\", \"i\"], \"stdout\": \"\", \"func_name\": \"<module>\", \"globals\": {\"i\": 386, \"x\": 387}}, {\"line\": 4, \"heap\": {}, \"event\": \"step_line\", \"stack_to_render\": [], \"ordered_globals\": [\"x\", \"i\"], \"stdout\": \"\", \"func_name\": \"<module>\", \"globals\": {\"i\": 387, \"x\": 387}}, {\"line\": 3, \"heap\": {}, \"event\": \"step_line\", \"stack_to_render\": [], \"ordered_globals\": [\"x\", \"i\"], \"stdout\": \"\", \"func_name\": \"<module>\", \"globals\": {\"i\": 387, \"x\": 388}}, {\"line\": 4, \"heap\": {}, \"event\": \"step_line\", \"stack_to_render\": [], \"ordered_globals\": [\"x\", \"i\"], \"stdout\": \"\", \"func_name\": \"<module>\", \"globals\": {\"i\": 388, \"x\": 388}}, {\"line\": 3, \"heap\": {}, \"event\": \"step_line\", \"stack_to_render\": [], \"ordered_globals\": [\"x\", \"i\"], \"stdout\": \"\", \"func_name\": \"<module>\", \"globals\": {\"i\": 388, \"x\": 389}}, {\"line\": 4, \"heap\": {}, \"event\": \"step_line\", \"stack_to_render\": [], \"ordered_globals\": [\"x\", \"i\"], \"stdout\": \"\", \"func_name\": \"<module>\", \"globals\": {\"i\": 389, \"x\": 389}}, {\"line\": 3, \"heap\": {}, \"event\": \"step_line\", \"stack_to_render\": [], \"ordered_globals\": [\"x\", \"i\"], \"stdout\": \"\", \"func_name\": \"<module>\", \"globals\": {\"i\": 389, \"x\": 390}}, {\"line\": 4, \"heap\": {}, \"event\": \"step_line\", \"stack_to_render\": [], \"ordered_globals\": [\"x\", \"i\"], \"stdout\": \"\", \"func_name\": \"<module>\", \"globals\": {\"i\": 390, \"x\": 390}}, {\"line\": 3, \"heap\": {}, \"event\": \"step_line\", \"stack_to_render\": [], \"ordered_globals\": [\"x\", \"i\"], \"stdout\": \"\", \"func_name\": \"<module>\", \"globals\": {\"i\": 390, \"x\": 391}}, {\"line\": 4, \"heap\": {}, \"event\": \"step_line\", \"stack_to_render\": [], \"ordered_globals\": [\"x\", \"i\"], \"stdout\": \"\", \"func_name\": \"<module>\", \"globals\": {\"i\": 391, \"x\": 391}}, {\"line\": 3, \"heap\": {}, \"event\": \"step_line\", \"stack_to_render\": [], \"ordered_globals\": [\"x\", \"i\"], \"stdout\": \"\", \"func_name\": \"<module>\", \"globals\": {\"i\": 391, \"x\": 392}}, {\"line\": 4, \"heap\": {}, \"event\": \"step_line\", \"stack_to_render\": [], \"ordered_globals\": [\"x\", \"i\"], \"stdout\": \"\", \"func_name\": \"<module>\", \"globals\": {\"i\": 392, \"x\": 392}}, {\"line\": 3, \"heap\": {}, \"event\": \"step_line\", \"stack_to_render\": [], \"ordered_globals\": [\"x\", \"i\"], \"stdout\": \"\", \"func_name\": \"<module>\", \"globals\": {\"i\": 392, \"x\": 393}}, {\"line\": 4, \"heap\": {}, \"event\": \"step_line\", \"stack_to_render\": [], \"ordered_globals\": [\"x\", \"i\"], \"stdout\": \"\", \"func_name\": \"<module>\", \"globals\": {\"i\": 393, \"x\": 393}}, {\"line\": 3, \"heap\": {}, \"event\": \"step_line\", \"stack_to_render\": [], \"ordered_globals\": [\"x\", \"i\"], \"stdout\": \"\", \"func_name\": \"<module>\", \"globals\": {\"i\": 393, \"x\": 394}}, {\"line\": 4, \"heap\": {}, \"event\": \"step_line\", \"stack_to_render\": [], \"ordered_globals\": [\"x\", \"i\"], \"stdout\": \"\", \"func_name\": \"<module>\", \"globals\": {\"i\": 394, \"x\": 394}}, {\"line\": 3, \"heap\": {}, \"event\": \"step_line\", \"stack_to_render\": [], \"ordered_globals\": [\"x\", \"i\"], \"stdout\": \"\", \"func_name\": \"<module>\", \"globals\": {\"i\": 394, \"x\": 395}}, {\"line\": 4, \"heap\": {}, \"event\": \"step_line\", \"stack_to_render\": [], \"ordered_globals\": [\"x\", \"i\"], \"stdout\": \"\", \"func_name\": \"<module>\", \"globals\": {\"i\": 395, \"x\": 395}}, {\"line\": 3, \"heap\": {}, \"event\": \"step_line\", \"stack_to_render\": [], \"ordered_globals\": [\"x\", \"i\"], \"stdout\": \"\", \"func_name\": \"<module>\", \"globals\": {\"i\": 395, \"x\": 396}}, {\"line\": 4, \"heap\": {}, \"event\": \"step_line\", \"stack_to_render\": [], \"ordered_globals\": [\"x\", \"i\"], \"stdout\": \"\", \"func_name\": \"<module>\", \"globals\": {\"i\": 396, \"x\": 396}}, {\"line\": 3, \"heap\": {}, \"event\": \"step_line\", \"stack_to_render\": [], \"ordered_globals\": [\"x\", \"i\"], \"stdout\": \"\", \"func_name\": \"<module>\", \"globals\": {\"i\": 396, \"x\": 397}}, {\"line\": 4, \"heap\": {}, \"event\": \"step_line\", \"stack_to_render\": [], \"ordered_globals\": [\"x\", \"i\"], \"stdout\": \"\", \"func_name\": \"<module>\", \"globals\": {\"i\": 397, \"x\": 397}}, {\"line\": 3, \"heap\": {}, \"event\": \"step_line\", \"stack_to_render\": [], \"ordered_globals\": [\"x\", \"i\"], \"stdout\": \"\", \"func_name\": \"<module>\", \"globals\": {\"i\": 397, \"x\": 398}}, {\"line\": 4, \"heap\": {}, \"event\": \"step_line\", \"stack_to_render\": [], \"ordered_globals\": [\"x\", \"i\"], \"stdout\": \"\", \"func_name\": \"<module>\", \"globals\": {\"i\": 398, \"x\": 398}}, {\"line\": 3, \"heap\": {}, \"event\": \"step_line\", \"stack_to_render\": [], \"ordered_globals\": [\"x\", \"i\"], \"stdout\": \"\", \"func_name\": \"<module>\", \"globals\": {\"i\": 398, \"x\": 399}}, {\"line\": 4, \"heap\": {}, \"event\": \"step_line\", \"stack_to_render\": [], \"ordered_globals\": [\"x\", \"i\"], \"stdout\": \"\", \"func_name\": \"<module>\", \"globals\": {\"i\": 399, \"x\": 399}}, {\"line\": 3, \"heap\": {}, \"event\": \"step_line\", \"stack_to_render\": [], \"ordered_globals\": [\"x\", \"i\"], \"stdout\": \"\", \"func_name\": \"<module>\", \"globals\": {\"i\": 399, \"x\": 400}}, {\"line\": 4, \"heap\": {}, \"event\": \"step_line\", \"stack_to_render\": [], \"ordered_globals\": [\"x\", \"i\"], \"stdout\": \"\", \"func_name\": \"<module>\", \"globals\": {\"i\": 400, \"x\": 400}}, {\"line\": 3, \"heap\": {}, \"event\": \"step_line\", \"stack_to_render\": [], \"ordered_globals\": [\"x\", \"i\"], \"stdout\": \"\", \"func_name\": \"<module>\", \"globals\": {\"i\": 400, \"x\": 401}}, {\"line\": 4, \"heap\": {}, \"event\": \"step_line\", \"stack_to_render\": [], \"ordered_globals\": [\"x\", \"i\"], \"stdout\": \"\", \"func_name\": \"<module>\", \"globals\": {\"i\": 401, \"x\": 401}}, {\"line\": 3, \"heap\": {}, \"event\": \"step_line\", \"stack_to_render\": [], \"ordered_globals\": [\"x\", \"i\"], \"stdout\": \"\", \"func_name\": \"<module>\", \"globals\": {\"i\": 401, \"x\": 402}}, {\"line\": 4, \"heap\": {}, \"event\": \"step_line\", \"stack_to_render\": [], \"ordered_globals\": [\"x\", \"i\"], \"stdout\": \"\", \"func_name\": \"<module>\", \"globals\": {\"i\": 402, \"x\": 402}}, {\"line\": 3, \"heap\": {}, \"event\": \"step_line\", \"stack_to_render\": [], \"ordered_globals\": [\"x\", \"i\"], \"stdout\": \"\", \"func_name\": \"<module>\", \"globals\": {\"i\": 402, \"x\": 403}}, {\"line\": 4, \"heap\": {}, \"event\": \"step_line\", \"stack_to_render\": [], \"ordered_globals\": [\"x\", \"i\"], \"stdout\": \"\", \"func_name\": \"<module>\", \"globals\": {\"i\": 403, \"x\": 403}}, {\"line\": 3, \"heap\": {}, \"event\": \"step_line\", \"stack_to_render\": [], \"ordered_globals\": [\"x\", \"i\"], \"stdout\": \"\", \"func_name\": \"<module>\", \"globals\": {\"i\": 403, \"x\": 404}}, {\"line\": 4, \"heap\": {}, \"event\": \"step_line\", \"stack_to_render\": [], \"ordered_globals\": [\"x\", \"i\"], \"stdout\": \"\", \"func_name\": \"<module>\", \"globals\": {\"i\": 404, \"x\": 404}}, {\"line\": 3, \"heap\": {}, \"event\": \"step_line\", \"stack_to_render\": [], \"ordered_globals\": [\"x\", \"i\"], \"stdout\": \"\", \"func_name\": \"<module>\", \"globals\": {\"i\": 404, \"x\": 405}}, {\"line\": 4, \"heap\": {}, \"event\": \"step_line\", \"stack_to_render\": [], \"ordered_globals\": [\"x\", \"i\"], \"stdout\": \"\", \"func_name\": \"<module>\", \"globals\": {\"i\": 405, \"x\": 405}}, {\"line\": 3, \"heap\": {}, \"event\": \"step_line\", \"stack_to_render\": [], \"ordered_globals\": [\"x\", \"i\"], \"stdout\": \"\", \"func_name\": \"<module>\", \"globals\": {\"i\": 405, \"x\": 406}}, {\"line\": 4, \"heap\": {}, \"event\": \"step_line\", \"stack_to_render\": [], \"ordered_globals\": [\"x\", \"i\"], \"stdout\": \"\", \"func_name\": \"<module>\", \"globals\": {\"i\": 406, \"x\": 406}}, {\"line\": 3, \"heap\": {}, \"event\": \"step_line\", \"stack_to_render\": [], \"ordered_globals\": [\"x\", \"i\"], \"stdout\": \"\", \"func_name\": \"<module>\", \"globals\": {\"i\": 406, \"x\": 407}}, {\"line\": 4, \"heap\": {}, \"event\": \"step_line\", \"stack_to_render\": [], \"ordered_globals\": [\"x\", \"i\"], \"stdout\": \"\", \"func_name\": \"<module>\", \"globals\": {\"i\": 407, \"x\": 407}}, {\"line\": 3, \"heap\": {}, \"event\": \"step_line\", \"stack_to_render\": [], \"ordered_globals\": [\"x\", \"i\"], \"stdout\": \"\", \"func_name\": \"<module>\", \"globals\": {\"i\": 407, \"x\": 408}}, {\"line\": 4, \"heap\": {}, \"event\": \"step_line\", \"stack_to_render\": [], \"ordered_globals\": [\"x\", \"i\"], \"stdout\": \"\", \"func_name\": \"<module>\", \"globals\": {\"i\": 408, \"x\": 408}}, {\"line\": 3, \"heap\": {}, \"event\": \"step_line\", \"stack_to_render\": [], \"ordered_globals\": [\"x\", \"i\"], \"stdout\": \"\", \"func_name\": \"<module>\", \"globals\": {\"i\": 408, \"x\": 409}}, {\"line\": 4, \"heap\": {}, \"event\": \"step_line\", \"stack_to_render\": [], \"ordered_globals\": [\"x\", \"i\"], \"stdout\": \"\", \"func_name\": \"<module>\", \"globals\": {\"i\": 409, \"x\": 409}}, {\"line\": 3, \"heap\": {}, \"event\": \"step_line\", \"stack_to_render\": [], \"ordered_globals\": [\"x\", \"i\"], \"stdout\": \"\", \"func_name\": \"<module>\", \"globals\": {\"i\": 409, \"x\": 410}}, {\"line\": 4, \"heap\": {}, \"event\": \"step_line\", \"stack_to_render\": [], \"ordered_globals\": [\"x\", \"i\"], \"stdout\": \"\", \"func_name\": \"<module>\", \"globals\": {\"i\": 410, \"x\": 410}}, {\"line\": 3, \"heap\": {}, \"event\": \"step_line\", \"stack_to_render\": [], \"ordered_globals\": [\"x\", \"i\"], \"stdout\": \"\", \"func_name\": \"<module>\", \"globals\": {\"i\": 410, \"x\": 411}}, {\"line\": 4, \"heap\": {}, \"event\": \"step_line\", \"stack_to_render\": [], \"ordered_globals\": [\"x\", \"i\"], \"stdout\": \"\", \"func_name\": \"<module>\", \"globals\": {\"i\": 411, \"x\": 411}}, {\"line\": 3, \"heap\": {}, \"event\": \"step_line\", \"stack_to_render\": [], \"ordered_globals\": [\"x\", \"i\"], \"stdout\": \"\", \"func_name\": \"<module>\", \"globals\": {\"i\": 411, \"x\": 412}}, {\"line\": 4, \"heap\": {}, \"event\": \"step_line\", \"stack_to_render\": [], \"ordered_globals\": [\"x\", \"i\"], \"stdout\": \"\", \"func_name\": \"<module>\", \"globals\": {\"i\": 412, \"x\": 412}}, {\"line\": 3, \"heap\": {}, \"event\": \"step_line\", \"stack_to_render\": [], \"ordered_globals\": [\"x\", \"i\"], \"stdout\": \"\", \"func_name\": \"<module>\", \"globals\": {\"i\": 412, \"x\": 413}}, {\"line\": 4, \"heap\": {}, \"event\": \"step_line\", \"stack_to_render\": [], \"ordered_globals\": [\"x\", \"i\"], \"stdout\": \"\", \"func_name\": \"<module>\", \"globals\": {\"i\": 413, \"x\": 413}}, {\"line\": 3, \"heap\": {}, \"event\": \"step_line\", \"stack_to_render\": [], \"ordered_globals\": [\"x\", \"i\"], \"stdout\": \"\", \"func_name\": \"<module>\", \"globals\": {\"i\": 413, \"x\": 414}}, {\"line\": 4, \"heap\": {}, \"event\": \"step_line\", \"stack_to_render\": [], \"ordered_globals\": [\"x\", \"i\"], \"stdout\": \"\", \"func_name\": \"<module>\", \"globals\": {\"i\": 414, \"x\": 414}}, {\"line\": 3, \"heap\": {}, \"event\": \"step_line\", \"stack_to_render\": [], \"ordered_globals\": [\"x\", \"i\"], \"stdout\": \"\", \"func_name\": \"<module>\", \"globals\": {\"i\": 414, \"x\": 415}}, {\"line\": 4, \"heap\": {}, \"event\": \"step_line\", \"stack_to_render\": [], \"ordered_globals\": [\"x\", \"i\"], \"stdout\": \"\", \"func_name\": \"<module>\", \"globals\": {\"i\": 415, \"x\": 415}}, {\"line\": 3, \"heap\": {}, \"event\": \"step_line\", \"stack_to_render\": [], \"ordered_globals\": [\"x\", \"i\"], \"stdout\": \"\", \"func_name\": \"<module>\", \"globals\": {\"i\": 415, \"x\": 416}}, {\"line\": 4, \"heap\": {}, \"event\": \"step_line\", \"stack_to_render\": [], \"ordered_globals\": [\"x\", \"i\"], \"stdout\": \"\", \"func_name\": \"<module>\", \"globals\": {\"i\": 416, \"x\": 416}}, {\"line\": 3, \"heap\": {}, \"event\": \"step_line\", \"stack_to_render\": [], \"ordered_globals\": [\"x\", \"i\"], \"stdout\": \"\", \"func_name\": \"<module>\", \"globals\": {\"i\": 416, \"x\": 417}}, {\"line\": 4, \"heap\": {}, \"event\": \"step_line\", \"stack_to_render\": [], \"ordered_globals\": [\"x\", \"i\"], \"stdout\": \"\", \"func_name\": \"<module>\", \"globals\": {\"i\": 417, \"x\": 417}}, {\"line\": 3, \"heap\": {}, \"event\": \"step_line\", \"stack_to_render\": [], \"ordered_globals\": [\"x\", \"i\"], \"stdout\": \"\", \"func_name\": \"<module>\", \"globals\": {\"i\": 417, \"x\": 418}}, {\"line\": 4, \"heap\": {}, \"event\": \"step_line\", \"stack_to_render\": [], \"ordered_globals\": [\"x\", \"i\"], \"stdout\": \"\", \"func_name\": \"<module>\", \"globals\": {\"i\": 418, \"x\": 418}}, {\"line\": 3, \"heap\": {}, \"event\": \"step_line\", \"stack_to_render\": [], \"ordered_globals\": [\"x\", \"i\"], \"stdout\": \"\", \"func_name\": \"<module>\", \"globals\": {\"i\": 418, \"x\": 419}}, {\"line\": 4, \"heap\": {}, \"event\": \"step_line\", \"stack_to_render\": [], \"ordered_globals\": [\"x\", \"i\"], \"stdout\": \"\", \"func_name\": \"<module>\", \"globals\": {\"i\": 419, \"x\": 419}}, {\"line\": 3, \"heap\": {}, \"event\": \"step_line\", \"stack_to_render\": [], \"ordered_globals\": [\"x\", \"i\"], \"stdout\": \"\", \"func_name\": \"<module>\", \"globals\": {\"i\": 419, \"x\": 420}}, {\"line\": 4, \"heap\": {}, \"event\": \"step_line\", \"stack_to_render\": [], \"ordered_globals\": [\"x\", \"i\"], \"stdout\": \"\", \"func_name\": \"<module>\", \"globals\": {\"i\": 420, \"x\": 420}}, {\"line\": 3, \"heap\": {}, \"event\": \"step_line\", \"stack_to_render\": [], \"ordered_globals\": [\"x\", \"i\"], \"stdout\": \"\", \"func_name\": \"<module>\", \"globals\": {\"i\": 420, \"x\": 421}}, {\"line\": 4, \"heap\": {}, \"event\": \"step_line\", \"stack_to_render\": [], \"ordered_globals\": [\"x\", \"i\"], \"stdout\": \"\", \"func_name\": \"<module>\", \"globals\": {\"i\": 421, \"x\": 421}}, {\"line\": 3, \"heap\": {}, \"event\": \"step_line\", \"stack_to_render\": [], \"ordered_globals\": [\"x\", \"i\"], \"stdout\": \"\", \"func_name\": \"<module>\", \"globals\": {\"i\": 421, \"x\": 422}}, {\"line\": 4, \"heap\": {}, \"event\": \"step_line\", \"stack_to_render\": [], \"ordered_globals\": [\"x\", \"i\"], \"stdout\": \"\", \"func_name\": \"<module>\", \"globals\": {\"i\": 422, \"x\": 422}}, {\"line\": 3, \"heap\": {}, \"event\": \"step_line\", \"stack_to_render\": [], \"ordered_globals\": [\"x\", \"i\"], \"stdout\": \"\", \"func_name\": \"<module>\", \"globals\": {\"i\": 422, \"x\": 423}}, {\"line\": 4, \"heap\": {}, \"event\": \"step_line\", \"stack_to_render\": [], \"ordered_globals\": [\"x\", \"i\"], \"stdout\": \"\", \"func_name\": \"<module>\", \"globals\": {\"i\": 423, \"x\": 423}}, {\"line\": 3, \"heap\": {}, \"event\": \"step_line\", \"stack_to_render\": [], \"ordered_globals\": [\"x\", \"i\"], \"stdout\": \"\", \"func_name\": \"<module>\", \"globals\": {\"i\": 423, \"x\": 424}}, {\"line\": 4, \"heap\": {}, \"event\": \"step_line\", \"stack_to_render\": [], \"ordered_globals\": [\"x\", \"i\"], \"stdout\": \"\", \"func_name\": \"<module>\", \"globals\": {\"i\": 424, \"x\": 424}}, {\"line\": 3, \"heap\": {}, \"event\": \"step_line\", \"stack_to_render\": [], \"ordered_globals\": [\"x\", \"i\"], \"stdout\": \"\", \"func_name\": \"<module>\", \"globals\": {\"i\": 424, \"x\": 425}}, {\"line\": 4, \"heap\": {}, \"event\": \"step_line\", \"stack_to_render\": [], \"ordered_globals\": [\"x\", \"i\"], \"stdout\": \"\", \"func_name\": \"<module>\", \"globals\": {\"i\": 425, \"x\": 425}}, {\"line\": 3, \"heap\": {}, \"event\": \"step_line\", \"stack_to_render\": [], \"ordered_globals\": [\"x\", \"i\"], \"stdout\": \"\", \"func_name\": \"<module>\", \"globals\": {\"i\": 425, \"x\": 426}}, {\"line\": 4, \"heap\": {}, \"event\": \"step_line\", \"stack_to_render\": [], \"ordered_globals\": [\"x\", \"i\"], \"stdout\": \"\", \"func_name\": \"<module>\", \"globals\": {\"i\": 426, \"x\": 426}}, {\"line\": 3, \"heap\": {}, \"event\": \"step_line\", \"stack_to_render\": [], \"ordered_globals\": [\"x\", \"i\"], \"stdout\": \"\", \"func_name\": \"<module>\", \"globals\": {\"i\": 426, \"x\": 427}}, {\"line\": 4, \"heap\": {}, \"event\": \"step_line\", \"stack_to_render\": [], \"ordered_globals\": [\"x\", \"i\"], \"stdout\": \"\", \"func_name\": \"<module>\", \"globals\": {\"i\": 427, \"x\": 427}}, {\"line\": 3, \"heap\": {}, \"event\": \"step_line\", \"stack_to_render\": [], \"ordered_globals\": [\"x\", \"i\"], \"stdout\": \"\", \"func_name\": \"<module>\", \"globals\": {\"i\": 427, \"x\": 428}}, {\"line\": 4, \"heap\": {}, \"event\": \"step_line\", \"stack_to_render\": [], \"ordered_globals\": [\"x\", \"i\"], \"stdout\": \"\", \"func_name\": \"<module>\", \"globals\": {\"i\": 428, \"x\": 428}}, {\"line\": 3, \"heap\": {}, \"event\": \"step_line\", \"stack_to_render\": [], \"ordered_globals\": [\"x\", \"i\"], \"stdout\": \"\", \"func_name\": \"<module>\", \"globals\": {\"i\": 428, \"x\": 429}}, {\"line\": 4, \"heap\": {}, \"event\": \"step_line\", \"stack_to_render\": [], \"ordered_globals\": [\"x\", \"i\"], \"stdout\": \"\", \"func_name\": \"<module>\", \"globals\": {\"i\": 429, \"x\": 429}}, {\"line\": 3, \"heap\": {}, \"event\": \"step_line\", \"stack_to_render\": [], \"ordered_globals\": [\"x\", \"i\"], \"stdout\": \"\", \"func_name\": \"<module>\", \"globals\": {\"i\": 429, \"x\": 430}}, {\"line\": 4, \"heap\": {}, \"event\": \"step_line\", \"stack_to_render\": [], \"ordered_globals\": [\"x\", \"i\"], \"stdout\": \"\", \"func_name\": \"<module>\", \"globals\": {\"i\": 430, \"x\": 430}}, {\"line\": 3, \"heap\": {}, \"event\": \"step_line\", \"stack_to_render\": [], \"ordered_globals\": [\"x\", \"i\"], \"stdout\": \"\", \"func_name\": \"<module>\", \"globals\": {\"i\": 430, \"x\": 431}}, {\"line\": 4, \"heap\": {}, \"event\": \"step_line\", \"stack_to_render\": [], \"ordered_globals\": [\"x\", \"i\"], \"stdout\": \"\", \"func_name\": \"<module>\", \"globals\": {\"i\": 431, \"x\": 431}}, {\"line\": 3, \"heap\": {}, \"event\": \"step_line\", \"stack_to_render\": [], \"ordered_globals\": [\"x\", \"i\"], \"stdout\": \"\", \"func_name\": \"<module>\", \"globals\": {\"i\": 431, \"x\": 432}}, {\"line\": 4, \"heap\": {}, \"event\": \"step_line\", \"stack_to_render\": [], \"ordered_globals\": [\"x\", \"i\"], \"stdout\": \"\", \"func_name\": \"<module>\", \"globals\": {\"i\": 432, \"x\": 432}}, {\"line\": 3, \"heap\": {}, \"event\": \"step_line\", \"stack_to_render\": [], \"ordered_globals\": [\"x\", \"i\"], \"stdout\": \"\", \"func_name\": \"<module>\", \"globals\": {\"i\": 432, \"x\": 433}}, {\"line\": 4, \"heap\": {}, \"event\": \"step_line\", \"stack_to_render\": [], \"ordered_globals\": [\"x\", \"i\"], \"stdout\": \"\", \"func_name\": \"<module>\", \"globals\": {\"i\": 433, \"x\": 433}}, {\"line\": 3, \"heap\": {}, \"event\": \"step_line\", \"stack_to_render\": [], \"ordered_globals\": [\"x\", \"i\"], \"stdout\": \"\", \"func_name\": \"<module>\", \"globals\": {\"i\": 433, \"x\": 434}}, {\"line\": 4, \"heap\": {}, \"event\": \"step_line\", \"stack_to_render\": [], \"ordered_globals\": [\"x\", \"i\"], \"stdout\": \"\", \"func_name\": \"<module>\", \"globals\": {\"i\": 434, \"x\": 434}}, {\"line\": 3, \"heap\": {}, \"event\": \"step_line\", \"stack_to_render\": [], \"ordered_globals\": [\"x\", \"i\"], \"stdout\": \"\", \"func_name\": \"<module>\", \"globals\": {\"i\": 434, \"x\": 435}}, {\"line\": 4, \"heap\": {}, \"event\": \"step_line\", \"stack_to_render\": [], \"ordered_globals\": [\"x\", \"i\"], \"stdout\": \"\", \"func_name\": \"<module>\", \"globals\": {\"i\": 435, \"x\": 435}}, {\"line\": 3, \"heap\": {}, \"event\": \"step_line\", \"stack_to_render\": [], \"ordered_globals\": [\"x\", \"i\"], \"stdout\": \"\", \"func_name\": \"<module>\", \"globals\": {\"i\": 435, \"x\": 436}}, {\"line\": 4, \"heap\": {}, \"event\": \"step_line\", \"stack_to_render\": [], \"ordered_globals\": [\"x\", \"i\"], \"stdout\": \"\", \"func_name\": \"<module>\", \"globals\": {\"i\": 436, \"x\": 436}}, {\"line\": 3, \"heap\": {}, \"event\": \"step_line\", \"stack_to_render\": [], \"ordered_globals\": [\"x\", \"i\"], \"stdout\": \"\", \"func_name\": \"<module>\", \"globals\": {\"i\": 436, \"x\": 437}}, {\"line\": 4, \"heap\": {}, \"event\": \"step_line\", \"stack_to_render\": [], \"ordered_globals\": [\"x\", \"i\"], \"stdout\": \"\", \"func_name\": \"<module>\", \"globals\": {\"i\": 437, \"x\": 437}}, {\"line\": 3, \"heap\": {}, \"event\": \"step_line\", \"stack_to_render\": [], \"ordered_globals\": [\"x\", \"i\"], \"stdout\": \"\", \"func_name\": \"<module>\", \"globals\": {\"i\": 437, \"x\": 438}}, {\"line\": 4, \"heap\": {}, \"event\": \"step_line\", \"stack_to_render\": [], \"ordered_globals\": [\"x\", \"i\"], \"stdout\": \"\", \"func_name\": \"<module>\", \"globals\": {\"i\": 438, \"x\": 438}}, {\"line\": 3, \"heap\": {}, \"event\": \"step_line\", \"stack_to_render\": [], \"ordered_globals\": [\"x\", \"i\"], \"stdout\": \"\", \"func_name\": \"<module>\", \"globals\": {\"i\": 438, \"x\": 439}}, {\"line\": 4, \"heap\": {}, \"event\": \"step_line\", \"stack_to_render\": [], \"ordered_globals\": [\"x\", \"i\"], \"stdout\": \"\", \"func_name\": \"<module>\", \"globals\": {\"i\": 439, \"x\": 439}}, {\"line\": 3, \"heap\": {}, \"event\": \"step_line\", \"stack_to_render\": [], \"ordered_globals\": [\"x\", \"i\"], \"stdout\": \"\", \"func_name\": \"<module>\", \"globals\": {\"i\": 439, \"x\": 440}}, {\"line\": 4, \"heap\": {}, \"event\": \"step_line\", \"stack_to_render\": [], \"ordered_globals\": [\"x\", \"i\"], \"stdout\": \"\", \"func_name\": \"<module>\", \"globals\": {\"i\": 440, \"x\": 440}}, {\"line\": 3, \"heap\": {}, \"event\": \"step_line\", \"stack_to_render\": [], \"ordered_globals\": [\"x\", \"i\"], \"stdout\": \"\", \"func_name\": \"<module>\", \"globals\": {\"i\": 440, \"x\": 441}}, {\"line\": 4, \"heap\": {}, \"event\": \"step_line\", \"stack_to_render\": [], \"ordered_globals\": [\"x\", \"i\"], \"stdout\": \"\", \"func_name\": \"<module>\", \"globals\": {\"i\": 441, \"x\": 441}}, {\"line\": 3, \"heap\": {}, \"event\": \"step_line\", \"stack_to_render\": [], \"ordered_globals\": [\"x\", \"i\"], \"stdout\": \"\", \"func_name\": \"<module>\", \"globals\": {\"i\": 441, \"x\": 442}}, {\"line\": 4, \"heap\": {}, \"event\": \"step_line\", \"stack_to_render\": [], \"ordered_globals\": [\"x\", \"i\"], \"stdout\": \"\", \"func_name\": \"<module>\", \"globals\": {\"i\": 442, \"x\": 442}}, {\"line\": 3, \"heap\": {}, \"event\": \"step_line\", \"stack_to_render\": [], \"ordered_globals\": [\"x\", \"i\"], \"stdout\": \"\", \"func_name\": \"<module>\", \"globals\": {\"i\": 442, \"x\": 443}}, {\"line\": 4, \"heap\": {}, \"event\": \"step_line\", \"stack_to_render\": [], \"ordered_globals\": [\"x\", \"i\"], \"stdout\": \"\", \"func_name\": \"<module>\", \"globals\": {\"i\": 443, \"x\": 443}}, {\"line\": 3, \"heap\": {}, \"event\": \"step_line\", \"stack_to_render\": [], \"ordered_globals\": [\"x\", \"i\"], \"stdout\": \"\", \"func_name\": \"<module>\", \"globals\": {\"i\": 443, \"x\": 444}}, {\"line\": 4, \"heap\": {}, \"event\": \"step_line\", \"stack_to_render\": [], \"ordered_globals\": [\"x\", \"i\"], \"stdout\": \"\", \"func_name\": \"<module>\", \"globals\": {\"i\": 444, \"x\": 444}}, {\"line\": 3, \"heap\": {}, \"event\": \"step_line\", \"stack_to_render\": [], \"ordered_globals\": [\"x\", \"i\"], \"stdout\": \"\", \"func_name\": \"<module>\", \"globals\": {\"i\": 444, \"x\": 445}}, {\"line\": 4, \"heap\": {}, \"event\": \"step_line\", \"stack_to_render\": [], \"ordered_globals\": [\"x\", \"i\"], \"stdout\": \"\", \"func_name\": \"<module>\", \"globals\": {\"i\": 445, \"x\": 445}}, {\"line\": 3, \"heap\": {}, \"event\": \"step_line\", \"stack_to_render\": [], \"ordered_globals\": [\"x\", \"i\"], \"stdout\": \"\", \"func_name\": \"<module>\", \"globals\": {\"i\": 445, \"x\": 446}}, {\"line\": 4, \"heap\": {}, \"event\": \"step_line\", \"stack_to_render\": [], \"ordered_globals\": [\"x\", \"i\"], \"stdout\": \"\", \"func_name\": \"<module>\", \"globals\": {\"i\": 446, \"x\": 446}}, {\"line\": 3, \"heap\": {}, \"event\": \"step_line\", \"stack_to_render\": [], \"ordered_globals\": [\"x\", \"i\"], \"stdout\": \"\", \"func_name\": \"<module>\", \"globals\": {\"i\": 446, \"x\": 447}}, {\"line\": 4, \"heap\": {}, \"event\": \"step_line\", \"stack_to_render\": [], \"ordered_globals\": [\"x\", \"i\"], \"stdout\": \"\", \"func_name\": \"<module>\", \"globals\": {\"i\": 447, \"x\": 447}}, {\"line\": 3, \"heap\": {}, \"event\": \"step_line\", \"stack_to_render\": [], \"ordered_globals\": [\"x\", \"i\"], \"stdout\": \"\", \"func_name\": \"<module>\", \"globals\": {\"i\": 447, \"x\": 448}}, {\"line\": 4, \"heap\": {}, \"event\": \"step_line\", \"stack_to_render\": [], \"ordered_globals\": [\"x\", \"i\"], \"stdout\": \"\", \"func_name\": \"<module>\", \"globals\": {\"i\": 448, \"x\": 448}}, {\"line\": 3, \"heap\": {}, \"event\": \"step_line\", \"stack_to_render\": [], \"ordered_globals\": [\"x\", \"i\"], \"stdout\": \"\", \"func_name\": \"<module>\", \"globals\": {\"i\": 448, \"x\": 449}}, {\"line\": 4, \"heap\": {}, \"event\": \"step_line\", \"stack_to_render\": [], \"ordered_globals\": [\"x\", \"i\"], \"stdout\": \"\", \"func_name\": \"<module>\", \"globals\": {\"i\": 449, \"x\": 449}}, {\"line\": 3, \"heap\": {}, \"event\": \"step_line\", \"stack_to_render\": [], \"ordered_globals\": [\"x\", \"i\"], \"stdout\": \"\", \"func_name\": \"<module>\", \"globals\": {\"i\": 449, \"x\": 450}}, {\"line\": 4, \"heap\": {}, \"event\": \"step_line\", \"stack_to_render\": [], \"ordered_globals\": [\"x\", \"i\"], \"stdout\": \"\", \"func_name\": \"<module>\", \"globals\": {\"i\": 450, \"x\": 450}}, {\"line\": 3, \"heap\": {}, \"event\": \"step_line\", \"stack_to_render\": [], \"ordered_globals\": [\"x\", \"i\"], \"stdout\": \"\", \"func_name\": \"<module>\", \"globals\": {\"i\": 450, \"x\": 451}}, {\"line\": 4, \"heap\": {}, \"event\": \"step_line\", \"stack_to_render\": [], \"ordered_globals\": [\"x\", \"i\"], \"stdout\": \"\", \"func_name\": \"<module>\", \"globals\": {\"i\": 451, \"x\": 451}}, {\"line\": 3, \"heap\": {}, \"event\": \"step_line\", \"stack_to_render\": [], \"ordered_globals\": [\"x\", \"i\"], \"stdout\": \"\", \"func_name\": \"<module>\", \"globals\": {\"i\": 451, \"x\": 452}}, {\"line\": 4, \"heap\": {}, \"event\": \"step_line\", \"stack_to_render\": [], \"ordered_globals\": [\"x\", \"i\"], \"stdout\": \"\", \"func_name\": \"<module>\", \"globals\": {\"i\": 452, \"x\": 452}}, {\"line\": 3, \"heap\": {}, \"event\": \"step_line\", \"stack_to_render\": [], \"ordered_globals\": [\"x\", \"i\"], \"stdout\": \"\", \"func_name\": \"<module>\", \"globals\": {\"i\": 452, \"x\": 453}}, {\"line\": 4, \"heap\": {}, \"event\": \"step_line\", \"stack_to_render\": [], \"ordered_globals\": [\"x\", \"i\"], \"stdout\": \"\", \"func_name\": \"<module>\", \"globals\": {\"i\": 453, \"x\": 453}}, {\"line\": 3, \"heap\": {}, \"event\": \"step_line\", \"stack_to_render\": [], \"ordered_globals\": [\"x\", \"i\"], \"stdout\": \"\", \"func_name\": \"<module>\", \"globals\": {\"i\": 453, \"x\": 454}}, {\"line\": 4, \"heap\": {}, \"event\": \"step_line\", \"stack_to_render\": [], \"ordered_globals\": [\"x\", \"i\"], \"stdout\": \"\", \"func_name\": \"<module>\", \"globals\": {\"i\": 454, \"x\": 454}}, {\"line\": 3, \"heap\": {}, \"event\": \"step_line\", \"stack_to_render\": [], \"ordered_globals\": [\"x\", \"i\"], \"stdout\": \"\", \"func_name\": \"<module>\", \"globals\": {\"i\": 454, \"x\": 455}}, {\"line\": 4, \"heap\": {}, \"event\": \"step_line\", \"stack_to_render\": [], \"ordered_globals\": [\"x\", \"i\"], \"stdout\": \"\", \"func_name\": \"<module>\", \"globals\": {\"i\": 455, \"x\": 455}}, {\"line\": 3, \"heap\": {}, \"event\": \"step_line\", \"stack_to_render\": [], \"ordered_globals\": [\"x\", \"i\"], \"stdout\": \"\", \"func_name\": \"<module>\", \"globals\": {\"i\": 455, \"x\": 456}}, {\"line\": 4, \"heap\": {}, \"event\": \"step_line\", \"stack_to_render\": [], \"ordered_globals\": [\"x\", \"i\"], \"stdout\": \"\", \"func_name\": \"<module>\", \"globals\": {\"i\": 456, \"x\": 456}}, {\"line\": 3, \"heap\": {}, \"event\": \"step_line\", \"stack_to_render\": [], \"ordered_globals\": [\"x\", \"i\"], \"stdout\": \"\", \"func_name\": \"<module>\", \"globals\": {\"i\": 456, \"x\": 457}}, {\"line\": 4, \"heap\": {}, \"event\": \"step_line\", \"stack_to_render\": [], \"ordered_globals\": [\"x\", \"i\"], \"stdout\": \"\", \"func_name\": \"<module>\", \"globals\": {\"i\": 457, \"x\": 457}}, {\"line\": 3, \"heap\": {}, \"event\": \"step_line\", \"stack_to_render\": [], \"ordered_globals\": [\"x\", \"i\"], \"stdout\": \"\", \"func_name\": \"<module>\", \"globals\": {\"i\": 457, \"x\": 458}}, {\"line\": 4, \"heap\": {}, \"event\": \"step_line\", \"stack_to_render\": [], \"ordered_globals\": [\"x\", \"i\"], \"stdout\": \"\", \"func_name\": \"<module>\", \"globals\": {\"i\": 458, \"x\": 458}}, {\"line\": 3, \"heap\": {}, \"event\": \"step_line\", \"stack_to_render\": [], \"ordered_globals\": [\"x\", \"i\"], \"stdout\": \"\", \"func_name\": \"<module>\", \"globals\": {\"i\": 458, \"x\": 459}}, {\"line\": 4, \"heap\": {}, \"event\": \"step_line\", \"stack_to_render\": [], \"ordered_globals\": [\"x\", \"i\"], \"stdout\": \"\", \"func_name\": \"<module>\", \"globals\": {\"i\": 459, \"x\": 459}}, {\"line\": 3, \"heap\": {}, \"event\": \"step_line\", \"stack_to_render\": [], \"ordered_globals\": [\"x\", \"i\"], \"stdout\": \"\", \"func_name\": \"<module>\", \"globals\": {\"i\": 459, \"x\": 460}}, {\"line\": 4, \"heap\": {}, \"event\": \"step_line\", \"stack_to_render\": [], \"ordered_globals\": [\"x\", \"i\"], \"stdout\": \"\", \"func_name\": \"<module>\", \"globals\": {\"i\": 460, \"x\": 460}}, {\"line\": 3, \"heap\": {}, \"event\": \"step_line\", \"stack_to_render\": [], \"ordered_globals\": [\"x\", \"i\"], \"stdout\": \"\", \"func_name\": \"<module>\", \"globals\": {\"i\": 460, \"x\": 461}}, {\"line\": 4, \"heap\": {}, \"event\": \"step_line\", \"stack_to_render\": [], \"ordered_globals\": [\"x\", \"i\"], \"stdout\": \"\", \"func_name\": \"<module>\", \"globals\": {\"i\": 461, \"x\": 461}}, {\"line\": 3, \"heap\": {}, \"event\": \"step_line\", \"stack_to_render\": [], \"ordered_globals\": [\"x\", \"i\"], \"stdout\": \"\", \"func_name\": \"<module>\", \"globals\": {\"i\": 461, \"x\": 462}}, {\"line\": 4, \"heap\": {}, \"event\": \"step_line\", \"stack_to_render\": [], \"ordered_globals\": [\"x\", \"i\"], \"stdout\": \"\", \"func_name\": \"<module>\", \"globals\": {\"i\": 462, \"x\": 462}}, {\"line\": 3, \"heap\": {}, \"event\": \"step_line\", \"stack_to_render\": [], \"ordered_globals\": [\"x\", \"i\"], \"stdout\": \"\", \"func_name\": \"<module>\", \"globals\": {\"i\": 462, \"x\": 463}}, {\"line\": 4, \"heap\": {}, \"event\": \"step_line\", \"stack_to_render\": [], \"ordered_globals\": [\"x\", \"i\"], \"stdout\": \"\", \"func_name\": \"<module>\", \"globals\": {\"i\": 463, \"x\": 463}}, {\"line\": 3, \"heap\": {}, \"event\": \"step_line\", \"stack_to_render\": [], \"ordered_globals\": [\"x\", \"i\"], \"stdout\": \"\", \"func_name\": \"<module>\", \"globals\": {\"i\": 463, \"x\": 464}}, {\"line\": 4, \"heap\": {}, \"event\": \"step_line\", \"stack_to_render\": [], \"ordered_globals\": [\"x\", \"i\"], \"stdout\": \"\", \"func_name\": \"<module>\", \"globals\": {\"i\": 464, \"x\": 464}}, {\"line\": 3, \"heap\": {}, \"event\": \"step_line\", \"stack_to_render\": [], \"ordered_globals\": [\"x\", \"i\"], \"stdout\": \"\", \"func_name\": \"<module>\", \"globals\": {\"i\": 464, \"x\": 465}}, {\"line\": 4, \"heap\": {}, \"event\": \"step_line\", \"stack_to_render\": [], \"ordered_globals\": [\"x\", \"i\"], \"stdout\": \"\", \"func_name\": \"<module>\", \"globals\": {\"i\": 465, \"x\": 465}}, {\"line\": 3, \"heap\": {}, \"event\": \"step_line\", \"stack_to_render\": [], \"ordered_globals\": [\"x\", \"i\"], \"stdout\": \"\", \"func_name\": \"<module>\", \"globals\": {\"i\": 465, \"x\": 466}}, {\"line\": 4, \"heap\": {}, \"event\": \"step_line\", \"stack_to_render\": [], \"ordered_globals\": [\"x\", \"i\"], \"stdout\": \"\", \"func_name\": \"<module>\", \"globals\": {\"i\": 466, \"x\": 466}}, {\"line\": 3, \"heap\": {}, \"event\": \"step_line\", \"stack_to_render\": [], \"ordered_globals\": [\"x\", \"i\"], \"stdout\": \"\", \"func_name\": \"<module>\", \"globals\": {\"i\": 466, \"x\": 467}}, {\"line\": 4, \"heap\": {}, \"event\": \"step_line\", \"stack_to_render\": [], \"ordered_globals\": [\"x\", \"i\"], \"stdout\": \"\", \"func_name\": \"<module>\", \"globals\": {\"i\": 467, \"x\": 467}}, {\"line\": 3, \"heap\": {}, \"event\": \"step_line\", \"stack_to_render\": [], \"ordered_globals\": [\"x\", \"i\"], \"stdout\": \"\", \"func_name\": \"<module>\", \"globals\": {\"i\": 467, \"x\": 468}}, {\"line\": 4, \"heap\": {}, \"event\": \"step_line\", \"stack_to_render\": [], \"ordered_globals\": [\"x\", \"i\"], \"stdout\": \"\", \"func_name\": \"<module>\", \"globals\": {\"i\": 468, \"x\": 468}}, {\"line\": 3, \"heap\": {}, \"event\": \"step_line\", \"stack_to_render\": [], \"ordered_globals\": [\"x\", \"i\"], \"stdout\": \"\", \"func_name\": \"<module>\", \"globals\": {\"i\": 468, \"x\": 469}}, {\"line\": 4, \"heap\": {}, \"event\": \"step_line\", \"stack_to_render\": [], \"ordered_globals\": [\"x\", \"i\"], \"stdout\": \"\", \"func_name\": \"<module>\", \"globals\": {\"i\": 469, \"x\": 469}}, {\"line\": 3, \"heap\": {}, \"event\": \"step_line\", \"stack_to_render\": [], \"ordered_globals\": [\"x\", \"i\"], \"stdout\": \"\", \"func_name\": \"<module>\", \"globals\": {\"i\": 469, \"x\": 470}}, {\"line\": 4, \"heap\": {}, \"event\": \"step_line\", \"stack_to_render\": [], \"ordered_globals\": [\"x\", \"i\"], \"stdout\": \"\", \"func_name\": \"<module>\", \"globals\": {\"i\": 470, \"x\": 470}}, {\"line\": 3, \"heap\": {}, \"event\": \"step_line\", \"stack_to_render\": [], \"ordered_globals\": [\"x\", \"i\"], \"stdout\": \"\", \"func_name\": \"<module>\", \"globals\": {\"i\": 470, \"x\": 471}}, {\"line\": 4, \"heap\": {}, \"event\": \"step_line\", \"stack_to_render\": [], \"ordered_globals\": [\"x\", \"i\"], \"stdout\": \"\", \"func_name\": \"<module>\", \"globals\": {\"i\": 471, \"x\": 471}}, {\"line\": 3, \"heap\": {}, \"event\": \"step_line\", \"stack_to_render\": [], \"ordered_globals\": [\"x\", \"i\"], \"stdout\": \"\", \"func_name\": \"<module>\", \"globals\": {\"i\": 471, \"x\": 472}}, {\"line\": 4, \"heap\": {}, \"event\": \"step_line\", \"stack_to_render\": [], \"ordered_globals\": [\"x\", \"i\"], \"stdout\": \"\", \"func_name\": \"<module>\", \"globals\": {\"i\": 472, \"x\": 472}}, {\"line\": 3, \"heap\": {}, \"event\": \"step_line\", \"stack_to_render\": [], \"ordered_globals\": [\"x\", \"i\"], \"stdout\": \"\", \"func_name\": \"<module>\", \"globals\": {\"i\": 472, \"x\": 473}}, {\"line\": 4, \"heap\": {}, \"event\": \"step_line\", \"stack_to_render\": [], \"ordered_globals\": [\"x\", \"i\"], \"stdout\": \"\", \"func_name\": \"<module>\", \"globals\": {\"i\": 473, \"x\": 473}}, {\"line\": 3, \"heap\": {}, \"event\": \"step_line\", \"stack_to_render\": [], \"ordered_globals\": [\"x\", \"i\"], \"stdout\": \"\", \"func_name\": \"<module>\", \"globals\": {\"i\": 473, \"x\": 474}}, {\"line\": 4, \"heap\": {}, \"event\": \"step_line\", \"stack_to_render\": [], \"ordered_globals\": [\"x\", \"i\"], \"stdout\": \"\", \"func_name\": \"<module>\", \"globals\": {\"i\": 474, \"x\": 474}}, {\"line\": 3, \"heap\": {}, \"event\": \"step_line\", \"stack_to_render\": [], \"ordered_globals\": [\"x\", \"i\"], \"stdout\": \"\", \"func_name\": \"<module>\", \"globals\": {\"i\": 474, \"x\": 475}}, {\"line\": 4, \"heap\": {}, \"event\": \"step_line\", \"stack_to_render\": [], \"ordered_globals\": [\"x\", \"i\"], \"stdout\": \"\", \"func_name\": \"<module>\", \"globals\": {\"i\": 475, \"x\": 475}}, {\"line\": 3, \"heap\": {}, \"event\": \"step_line\", \"stack_to_render\": [], \"ordered_globals\": [\"x\", \"i\"], \"stdout\": \"\", \"func_name\": \"<module>\", \"globals\": {\"i\": 475, \"x\": 476}}, {\"line\": 4, \"heap\": {}, \"event\": \"step_line\", \"stack_to_render\": [], \"ordered_globals\": [\"x\", \"i\"], \"stdout\": \"\", \"func_name\": \"<module>\", \"globals\": {\"i\": 476, \"x\": 476}}, {\"line\": 3, \"heap\": {}, \"event\": \"step_line\", \"stack_to_render\": [], \"ordered_globals\": [\"x\", \"i\"], \"stdout\": \"\", \"func_name\": \"<module>\", \"globals\": {\"i\": 476, \"x\": 477}}, {\"line\": 4, \"heap\": {}, \"event\": \"step_line\", \"stack_to_render\": [], \"ordered_globals\": [\"x\", \"i\"], \"stdout\": \"\", \"func_name\": \"<module>\", \"globals\": {\"i\": 477, \"x\": 477}}, {\"line\": 3, \"heap\": {}, \"event\": \"step_line\", \"stack_to_render\": [], \"ordered_globals\": [\"x\", \"i\"], \"stdout\": \"\", \"func_name\": \"<module>\", \"globals\": {\"i\": 477, \"x\": 478}}, {\"line\": 4, \"heap\": {}, \"event\": \"step_line\", \"stack_to_render\": [], \"ordered_globals\": [\"x\", \"i\"], \"stdout\": \"\", \"func_name\": \"<module>\", \"globals\": {\"i\": 478, \"x\": 478}}, {\"line\": 3, \"heap\": {}, \"event\": \"step_line\", \"stack_to_render\": [], \"ordered_globals\": [\"x\", \"i\"], \"stdout\": \"\", \"func_name\": \"<module>\", \"globals\": {\"i\": 478, \"x\": 479}}, {\"line\": 4, \"heap\": {}, \"event\": \"step_line\", \"stack_to_render\": [], \"ordered_globals\": [\"x\", \"i\"], \"stdout\": \"\", \"func_name\": \"<module>\", \"globals\": {\"i\": 479, \"x\": 479}}, {\"line\": 3, \"heap\": {}, \"event\": \"step_line\", \"stack_to_render\": [], \"ordered_globals\": [\"x\", \"i\"], \"stdout\": \"\", \"func_name\": \"<module>\", \"globals\": {\"i\": 479, \"x\": 480}}, {\"line\": 4, \"heap\": {}, \"event\": \"step_line\", \"stack_to_render\": [], \"ordered_globals\": [\"x\", \"i\"], \"stdout\": \"\", \"func_name\": \"<module>\", \"globals\": {\"i\": 480, \"x\": 480}}, {\"line\": 3, \"heap\": {}, \"event\": \"step_line\", \"stack_to_render\": [], \"ordered_globals\": [\"x\", \"i\"], \"stdout\": \"\", \"func_name\": \"<module>\", \"globals\": {\"i\": 480, \"x\": 481}}, {\"line\": 4, \"heap\": {}, \"event\": \"step_line\", \"stack_to_render\": [], \"ordered_globals\": [\"x\", \"i\"], \"stdout\": \"\", \"func_name\": \"<module>\", \"globals\": {\"i\": 481, \"x\": 481}}, {\"line\": 3, \"heap\": {}, \"event\": \"step_line\", \"stack_to_render\": [], \"ordered_globals\": [\"x\", \"i\"], \"stdout\": \"\", \"func_name\": \"<module>\", \"globals\": {\"i\": 481, \"x\": 482}}, {\"line\": 4, \"heap\": {}, \"event\": \"step_line\", \"stack_to_render\": [], \"ordered_globals\": [\"x\", \"i\"], \"stdout\": \"\", \"func_name\": \"<module>\", \"globals\": {\"i\": 482, \"x\": 482}}, {\"line\": 3, \"heap\": {}, \"event\": \"step_line\", \"stack_to_render\": [], \"ordered_globals\": [\"x\", \"i\"], \"stdout\": \"\", \"func_name\": \"<module>\", \"globals\": {\"i\": 482, \"x\": 483}}, {\"line\": 4, \"heap\": {}, \"event\": \"step_line\", \"stack_to_render\": [], \"ordered_globals\": [\"x\", \"i\"], \"stdout\": \"\", \"func_name\": \"<module>\", \"globals\": {\"i\": 483, \"x\": 483}}, {\"line\": 3, \"heap\": {}, \"event\": \"step_line\", \"stack_to_render\": [], \"ordered_globals\": [\"x\", \"i\"], \"stdout\": \"\", \"func_name\": \"<module>\", \"globals\": {\"i\": 483, \"x\": 484}}, {\"line\": 4, \"heap\": {}, \"event\": \"step_line\", \"stack_to_render\": [], \"ordered_globals\": [\"x\", \"i\"], \"stdout\": \"\", \"func_name\": \"<module>\", \"globals\": {\"i\": 484, \"x\": 484}}, {\"line\": 3, \"heap\": {}, \"event\": \"step_line\", \"stack_to_render\": [], \"ordered_globals\": [\"x\", \"i\"], \"stdout\": \"\", \"func_name\": \"<module>\", \"globals\": {\"i\": 484, \"x\": 485}}, {\"line\": 4, \"heap\": {}, \"event\": \"step_line\", \"stack_to_render\": [], \"ordered_globals\": [\"x\", \"i\"], \"stdout\": \"\", \"func_name\": \"<module>\", \"globals\": {\"i\": 485, \"x\": 485}}, {\"line\": 3, \"heap\": {}, \"event\": \"step_line\", \"stack_to_render\": [], \"ordered_globals\": [\"x\", \"i\"], \"stdout\": \"\", \"func_name\": \"<module>\", \"globals\": {\"i\": 485, \"x\": 486}}, {\"line\": 4, \"heap\": {}, \"event\": \"step_line\", \"stack_to_render\": [], \"ordered_globals\": [\"x\", \"i\"], \"stdout\": \"\", \"func_name\": \"<module>\", \"globals\": {\"i\": 486, \"x\": 486}}, {\"line\": 3, \"heap\": {}, \"event\": \"step_line\", \"stack_to_render\": [], \"ordered_globals\": [\"x\", \"i\"], \"stdout\": \"\", \"func_name\": \"<module>\", \"globals\": {\"i\": 486, \"x\": 487}}, {\"line\": 4, \"heap\": {}, \"event\": \"step_line\", \"stack_to_render\": [], \"ordered_globals\": [\"x\", \"i\"], \"stdout\": \"\", \"func_name\": \"<module>\", \"globals\": {\"i\": 487, \"x\": 487}}, {\"line\": 3, \"heap\": {}, \"event\": \"step_line\", \"stack_to_render\": [], \"ordered_globals\": [\"x\", \"i\"], \"stdout\": \"\", \"func_name\": \"<module>\", \"globals\": {\"i\": 487, \"x\": 488}}, {\"line\": 4, \"heap\": {}, \"event\": \"step_line\", \"stack_to_render\": [], \"ordered_globals\": [\"x\", \"i\"], \"stdout\": \"\", \"func_name\": \"<module>\", \"globals\": {\"i\": 488, \"x\": 488}}, {\"line\": 3, \"heap\": {}, \"event\": \"step_line\", \"stack_to_render\": [], \"ordered_globals\": [\"x\", \"i\"], \"stdout\": \"\", \"func_name\": \"<module>\", \"globals\": {\"i\": 488, \"x\": 489}}, {\"line\": 4, \"heap\": {}, \"event\": \"step_line\", \"stack_to_render\": [], \"ordered_globals\": [\"x\", \"i\"], \"stdout\": \"\", \"func_name\": \"<module>\", \"globals\": {\"i\": 489, \"x\": 489}}, {\"line\": 3, \"heap\": {}, \"event\": \"step_line\", \"stack_to_render\": [], \"ordered_globals\": [\"x\", \"i\"], \"stdout\": \"\", \"func_name\": \"<module>\", \"globals\": {\"i\": 489, \"x\": 490}}, {\"line\": 4, \"heap\": {}, \"event\": \"step_line\", \"stack_to_render\": [], \"ordered_globals\": [\"x\", \"i\"], \"stdout\": \"\", \"func_name\": \"<module>\", \"globals\": {\"i\": 490, \"x\": 490}}, {\"line\": 3, \"heap\": {}, \"event\": \"step_line\", \"stack_to_render\": [], \"ordered_globals\": [\"x\", \"i\"], \"stdout\": \"\", \"func_name\": \"<module>\", \"globals\": {\"i\": 490, \"x\": 491}}, {\"line\": 4, \"heap\": {}, \"event\": \"step_line\", \"stack_to_render\": [], \"ordered_globals\": [\"x\", \"i\"], \"stdout\": \"\", \"func_name\": \"<module>\", \"globals\": {\"i\": 491, \"x\": 491}}, {\"line\": 3, \"heap\": {}, \"event\": \"step_line\", \"stack_to_render\": [], \"ordered_globals\": [\"x\", \"i\"], \"stdout\": \"\", \"func_name\": \"<module>\", \"globals\": {\"i\": 491, \"x\": 492}}, {\"line\": 4, \"heap\": {}, \"event\": \"step_line\", \"stack_to_render\": [], \"ordered_globals\": [\"x\", \"i\"], \"stdout\": \"\", \"func_name\": \"<module>\", \"globals\": {\"i\": 492, \"x\": 492}}, {\"line\": 3, \"heap\": {}, \"event\": \"step_line\", \"stack_to_render\": [], \"ordered_globals\": [\"x\", \"i\"], \"stdout\": \"\", \"func_name\": \"<module>\", \"globals\": {\"i\": 492, \"x\": 493}}, {\"line\": 4, \"heap\": {}, \"event\": \"step_line\", \"stack_to_render\": [], \"ordered_globals\": [\"x\", \"i\"], \"stdout\": \"\", \"func_name\": \"<module>\", \"globals\": {\"i\": 493, \"x\": 493}}, {\"line\": 3, \"heap\": {}, \"event\": \"step_line\", \"stack_to_render\": [], \"ordered_globals\": [\"x\", \"i\"], \"stdout\": \"\", \"func_name\": \"<module>\", \"globals\": {\"i\": 493, \"x\": 494}}, {\"line\": 4, \"heap\": {}, \"event\": \"step_line\", \"stack_to_render\": [], \"ordered_globals\": [\"x\", \"i\"], \"stdout\": \"\", \"func_name\": \"<module>\", \"globals\": {\"i\": 494, \"x\": 494}}, {\"line\": 3, \"heap\": {}, \"event\": \"step_line\", \"stack_to_render\": [], \"ordered_globals\": [\"x\", \"i\"], \"stdout\": \"\", \"func_name\": \"<module>\", \"globals\": {\"i\": 494, \"x\": 495}}, {\"line\": 4, \"heap\": {}, \"event\": \"step_line\", \"stack_to_render\": [], \"ordered_globals\": [\"x\", \"i\"], \"stdout\": \"\", \"func_name\": \"<module>\", \"globals\": {\"i\": 495, \"x\": 495}}, {\"line\": 3, \"heap\": {}, \"event\": \"step_line\", \"stack_to_render\": [], \"ordered_globals\": [\"x\", \"i\"], \"stdout\": \"\", \"func_name\": \"<module>\", \"globals\": {\"i\": 495, \"x\": 496}}, {\"line\": 4, \"heap\": {}, \"event\": \"step_line\", \"stack_to_render\": [], \"ordered_globals\": [\"x\", \"i\"], \"stdout\": \"\", \"func_name\": \"<module>\", \"globals\": {\"i\": 496, \"x\": 496}}, {\"line\": 3, \"heap\": {}, \"event\": \"step_line\", \"stack_to_render\": [], \"ordered_globals\": [\"x\", \"i\"], \"stdout\": \"\", \"func_name\": \"<module>\", \"globals\": {\"i\": 496, \"x\": 497}}, {\"line\": 4, \"heap\": {}, \"event\": \"step_line\", \"stack_to_render\": [], \"ordered_globals\": [\"x\", \"i\"], \"stdout\": \"\", \"func_name\": \"<module>\", \"globals\": {\"i\": 497, \"x\": 497}}, {\"line\": 3, \"heap\": {}, \"event\": \"step_line\", \"stack_to_render\": [], \"ordered_globals\": [\"x\", \"i\"], \"stdout\": \"\", \"func_name\": \"<module>\", \"globals\": {\"i\": 497, \"x\": 498}}, {\"line\": 4, \"heap\": {}, \"event\": \"step_line\", \"stack_to_render\": [], \"ordered_globals\": [\"x\", \"i\"], \"stdout\": \"\", \"func_name\": \"<module>\", \"globals\": {\"i\": 498, \"x\": 498}}, {\"line\": 3, \"heap\": {}, \"event\": \"step_line\", \"stack_to_render\": [], \"ordered_globals\": [\"x\", \"i\"], \"stdout\": \"\", \"func_name\": \"<module>\", \"globals\": {\"i\": 498, \"x\": 499}}, {\"exception_msg\": \"Stopped after running 1000 steps. Please shorten your code,\\nsince Python Tutor is not designed to handle long-running code.\", \"event\": \"instruction_limit_reached\"}], \"code\": \" \\nx = 0\\nfor i in range(10000):\\n    x += 1\\nprint(x)\"}\n",
       "        </script>\n",
       "        <div id=\"jm8ad503ab-f704-40e1-b85e-654ae32405ef\" class=\"pytutorVisualizer\"> </div>\n",
       " \n",
       "        <style>\n",
       "        .vizLayoutTd {\n",
       "            background-color: #fff !important;\n",
       "        }\n",
       "                            \n",
       "        #pyStdout {\n",
       "            min-height:20px;\n",
       "        }\n",
       "\n",
       "        /* 'Edit this code' link, hiding because replaces browser tab !!!*/\n",
       "        #editCodeLinkDiv {\n",
       "            display:none;  \n",
       "        }\n",
       "        </style>   \n",
       "                            \n",
       "        <script>\n",
       "        (function(){\n",
       "\n",
       "            var trace = JSON.parse(document.getElementById('json-jm8ad503ab-f704-40e1-b85e-654ae32405ef').innerHTML);                                        \n",
       "            // NOTE 1: id without #\n",
       "            // NOTE 2 - maybe there are more predictable ways, but this will work anyway\n",
       "            //        - id should be number\n",
       "            visualizerIdOverride = Math.trunc(Math.random() * 100000000000)\n",
       "            addVisualizerToPage(trace, 'jm8ad503ab-f704-40e1-b85e-654ae32405ef',{'embeddedMode' : false,\n",
       "                                             'visualizerIdOverride':visualizerIdOverride})  \n",
       "            \n",
       "            \n",
       "            // set overflow for pytuts - need to do in python as css \n",
       "            // does not allow parent selection\n",
       "            var pytuts = $('.pytutorVisualizer')\n",
       "            pytuts.closest('div.output_html.rendered_html.output_result')\n",
       "                    .css('overflow-x', 'visible')\n",
       "        \n",
       "            //pytuts.closest('div.output_html.rendered_html.output_result')\n",
       "            //      .css('background-color','red')                \n",
       "            \n",
       "        })()\n",
       "        </script>\n",
       "                \n",
       "                "
      ],
      "text/plain": [
       "<IPython.core.display.HTML object>"
      ]
     },
     "execution_count": 7,
     "metadata": {},
     "output_type": "execute_result"
    }
   ],
   "source": [
    "x = 0\n",
    "for i in range(10000):\n",
    "    x += 1\n",
    "print(x)\n",
    "jupman.pytut()"
   ]
  },
  {
   "cell_type": "markdown",
   "metadata": {},
   "source": [
    "**jupman.pytut infinite loops**: Since execution occurs first in Jupyter and then in Python tutor, if you have an infinite loop no Python Tutor instance will be spawned: \n",
    "\n",
    "```python\n",
    "while True:\n",
    "    pass\n",
    "\n",
    "jupman.pytut()\n",
    "```"
   ]
  },
  {
   "cell_type": "markdown",
   "metadata": {},
   "source": [
    "**jupman.pytut() resizability:** long vertical and horizontal expansion should work:"
   ]
  },
  {
   "cell_type": "code",
   "execution_count": 8,
   "metadata": {},
   "outputs": [
    {
     "data": {
      "text/html": [
       "\n",
       "        <script src=\"_static/js/pytutor-embed.bundle.min.js\" type=\"application/javascript\"></script>\n",
       "     \n",
       "        <script id=\"json-jmc3bf891b-0aca-435b-aec5-f4827d658500\" type=\"application/json\" >\n",
       "            {\"trace\": [{\"line\": 2, \"heap\": {}, \"event\": \"step_line\", \"stack_to_render\": [], \"ordered_globals\": [], \"stdout\": \"\", \"func_name\": \"<module>\", \"globals\": {}}, {\"line\": 3, \"heap\": {\"1\": [\"DICT\", [0, \"a\"]]}, \"event\": \"step_line\", \"stack_to_render\": [], \"ordered_globals\": [\"x\"], \"stdout\": \"\", \"func_name\": \"<module>\", \"globals\": {\"x\": [\"REF\", 1]}}, {\"line\": 4, \"heap\": {\"1\": [\"DICT\", [0, \"a\"]]}, \"event\": \"step_line\", \"stack_to_render\": [], \"ordered_globals\": [\"x\", \"i\"], \"stdout\": \"\", \"func_name\": \"<module>\", \"globals\": {\"i\": 1, \"x\": [\"REF\", 1]}}, {\"line\": 3, \"heap\": {\"1\": [\"DICT\", [0, \"a\"], [1, \"a10000\"]]}, \"event\": \"step_line\", \"stack_to_render\": [], \"ordered_globals\": [\"x\", \"i\"], \"stdout\": \"\", \"func_name\": \"<module>\", \"globals\": {\"i\": 1, \"x\": [\"REF\", 1]}}, {\"line\": 4, \"heap\": {\"1\": [\"DICT\", [0, \"a\"], [1, \"a10000\"]]}, \"event\": \"step_line\", \"stack_to_render\": [], \"ordered_globals\": [\"x\", \"i\"], \"stdout\": \"\", \"func_name\": \"<module>\", \"globals\": {\"i\": 2, \"x\": [\"REF\", 1]}}, {\"line\": 3, \"heap\": {\"1\": [\"DICT\", [0, \"a\"], [1, \"a10000\"], [2, \"a1000020000\"]]}, \"event\": \"step_line\", \"stack_to_render\": [], \"ordered_globals\": [\"x\", \"i\"], \"stdout\": \"\", \"func_name\": \"<module>\", \"globals\": {\"i\": 2, \"x\": [\"REF\", 1]}}, {\"line\": 4, \"heap\": {\"1\": [\"DICT\", [0, \"a\"], [1, \"a10000\"], [2, \"a1000020000\"]]}, \"event\": \"step_line\", \"stack_to_render\": [], \"ordered_globals\": [\"x\", \"i\"], \"stdout\": \"\", \"func_name\": \"<module>\", \"globals\": {\"i\": 3, \"x\": [\"REF\", 1]}}, {\"line\": 3, \"heap\": {\"1\": [\"DICT\", [0, \"a\"], [1, \"a10000\"], [2, \"a1000020000\"], [3, \"a100002000030000\"]]}, \"event\": \"step_line\", \"stack_to_render\": [], \"ordered_globals\": [\"x\", \"i\"], \"stdout\": \"\", \"func_name\": \"<module>\", \"globals\": {\"i\": 3, \"x\": [\"REF\", 1]}}, {\"line\": 4, \"heap\": {\"1\": [\"DICT\", [0, \"a\"], [1, \"a10000\"], [2, \"a1000020000\"], [3, \"a100002000030000\"]]}, \"event\": \"step_line\", \"stack_to_render\": [], \"ordered_globals\": [\"x\", \"i\"], \"stdout\": \"\", \"func_name\": \"<module>\", \"globals\": {\"i\": 4, \"x\": [\"REF\", 1]}}, {\"line\": 3, \"heap\": {\"1\": [\"DICT\", [0, \"a\"], [1, \"a10000\"], [2, \"a1000020000\"], [3, \"a100002000030000\"], [4, \"a10000200003000040000\"]]}, \"event\": \"step_line\", \"stack_to_render\": [], \"ordered_globals\": [\"x\", \"i\"], \"stdout\": \"\", \"func_name\": \"<module>\", \"globals\": {\"i\": 4, \"x\": [\"REF\", 1]}}, {\"line\": 4, \"heap\": {\"1\": [\"DICT\", [0, \"a\"], [1, \"a10000\"], [2, \"a1000020000\"], [3, \"a100002000030000\"], [4, \"a10000200003000040000\"]]}, \"event\": \"step_line\", \"stack_to_render\": [], \"ordered_globals\": [\"x\", \"i\"], \"stdout\": \"\", \"func_name\": \"<module>\", \"globals\": {\"i\": 5, \"x\": [\"REF\", 1]}}, {\"line\": 3, \"heap\": {\"1\": [\"DICT\", [0, \"a\"], [1, \"a10000\"], [2, \"a1000020000\"], [3, \"a100002000030000\"], [4, \"a10000200003000040000\"], [5, \"a1000020000300004000050000\"]]}, \"event\": \"step_line\", \"stack_to_render\": [], \"ordered_globals\": [\"x\", \"i\"], \"stdout\": \"\", \"func_name\": \"<module>\", \"globals\": {\"i\": 5, \"x\": [\"REF\", 1]}}, {\"line\": 4, \"heap\": {\"1\": [\"DICT\", [0, \"a\"], [1, \"a10000\"], [2, \"a1000020000\"], [3, \"a100002000030000\"], [4, \"a10000200003000040000\"], [5, \"a1000020000300004000050000\"]]}, \"event\": \"step_line\", \"stack_to_render\": [], \"ordered_globals\": [\"x\", \"i\"], \"stdout\": \"\", \"func_name\": \"<module>\", \"globals\": {\"i\": 6, \"x\": [\"REF\", 1]}}, {\"line\": 3, \"heap\": {\"1\": [\"DICT\", [0, \"a\"], [1, \"a10000\"], [2, \"a1000020000\"], [3, \"a100002000030000\"], [4, \"a10000200003000040000\"], [5, \"a1000020000300004000050000\"], [6, \"a100002000030000400005000060000\"]]}, \"event\": \"step_line\", \"stack_to_render\": [], \"ordered_globals\": [\"x\", \"i\"], \"stdout\": \"\", \"func_name\": \"<module>\", \"globals\": {\"i\": 6, \"x\": [\"REF\", 1]}}, {\"line\": 4, \"heap\": {\"1\": [\"DICT\", [0, \"a\"], [1, \"a10000\"], [2, \"a1000020000\"], [3, \"a100002000030000\"], [4, \"a10000200003000040000\"], [5, \"a1000020000300004000050000\"], [6, \"a100002000030000400005000060000\"]]}, \"event\": \"step_line\", \"stack_to_render\": [], \"ordered_globals\": [\"x\", \"i\"], \"stdout\": \"\", \"func_name\": \"<module>\", \"globals\": {\"i\": 7, \"x\": [\"REF\", 1]}}, {\"line\": 3, \"heap\": {\"1\": [\"DICT\", [0, \"a\"], [1, \"a10000\"], [2, \"a1000020000\"], [3, \"a100002000030000\"], [4, \"a10000200003000040000\"], [5, \"a1000020000300004000050000\"], [6, \"a100002000030000400005000060000\"], [7, \"a10000200003000040000500006000070000\"]]}, \"event\": \"step_line\", \"stack_to_render\": [], \"ordered_globals\": [\"x\", \"i\"], \"stdout\": \"\", \"func_name\": \"<module>\", \"globals\": {\"i\": 7, \"x\": [\"REF\", 1]}}, {\"line\": 4, \"heap\": {\"1\": [\"DICT\", [0, \"a\"], [1, \"a10000\"], [2, \"a1000020000\"], [3, \"a100002000030000\"], [4, \"a10000200003000040000\"], [5, \"a1000020000300004000050000\"], [6, \"a100002000030000400005000060000\"], [7, \"a10000200003000040000500006000070000\"]]}, \"event\": \"step_line\", \"stack_to_render\": [], \"ordered_globals\": [\"x\", \"i\"], \"stdout\": \"\", \"func_name\": \"<module>\", \"globals\": {\"i\": 8, \"x\": [\"REF\", 1]}}, {\"line\": 3, \"heap\": {\"1\": [\"DICT\", [0, \"a\"], [1, \"a10000\"], [2, \"a1000020000\"], [3, \"a100002000030000\"], [4, \"a10000200003000040000\"], [5, \"a1000020000300004000050000\"], [6, \"a100002000030000400005000060000\"], [7, \"a10000200003000040000500006000070000\"], [8, \"a1000020000300004000050000600007000080000\"]]}, \"event\": \"step_line\", \"stack_to_render\": [], \"ordered_globals\": [\"x\", \"i\"], \"stdout\": \"\", \"func_name\": \"<module>\", \"globals\": {\"i\": 8, \"x\": [\"REF\", 1]}}, {\"line\": 4, \"heap\": {\"1\": [\"DICT\", [0, \"a\"], [1, \"a10000\"], [2, \"a1000020000\"], [3, \"a100002000030000\"], [4, \"a10000200003000040000\"], [5, \"a1000020000300004000050000\"], [6, \"a100002000030000400005000060000\"], [7, \"a10000200003000040000500006000070000\"], [8, \"a1000020000300004000050000600007000080000\"]]}, \"event\": \"step_line\", \"stack_to_render\": [], \"ordered_globals\": [\"x\", \"i\"], \"stdout\": \"\", \"func_name\": \"<module>\", \"globals\": {\"i\": 9, \"x\": [\"REF\", 1]}}, {\"line\": 3, \"heap\": {\"1\": [\"DICT\", [0, \"a\"], [1, \"a10000\"], [2, \"a1000020000\"], [3, \"a100002000030000\"], [4, \"a10000200003000040000\"], [5, \"a1000020000300004000050000\"], [6, \"a100002000030000400005000060000\"], [7, \"a10000200003000040000500006000070000\"], [8, \"a1000020000300004000050000600007000080000\"], [9, \"a100002000030000400005000060000700008000090000\"]]}, \"event\": \"step_line\", \"stack_to_render\": [], \"ordered_globals\": [\"x\", \"i\"], \"stdout\": \"\", \"func_name\": \"<module>\", \"globals\": {\"i\": 9, \"x\": [\"REF\", 1]}}, {\"line\": 4, \"heap\": {\"1\": [\"DICT\", [0, \"a\"], [1, \"a10000\"], [2, \"a1000020000\"], [3, \"a100002000030000\"], [4, \"a10000200003000040000\"], [5, \"a1000020000300004000050000\"], [6, \"a100002000030000400005000060000\"], [7, \"a10000200003000040000500006000070000\"], [8, \"a1000020000300004000050000600007000080000\"], [9, \"a100002000030000400005000060000700008000090000\"]]}, \"event\": \"step_line\", \"stack_to_render\": [], \"ordered_globals\": [\"x\", \"i\"], \"stdout\": \"\", \"func_name\": \"<module>\", \"globals\": {\"i\": 10, \"x\": [\"REF\", 1]}}, {\"line\": 3, \"heap\": {\"1\": [\"DICT\", [0, \"a\"], [1, \"a10000\"], [2, \"a1000020000\"], [3, \"a100002000030000\"], [4, \"a10000200003000040000\"], [5, \"a1000020000300004000050000\"], [6, \"a100002000030000400005000060000\"], [7, \"a10000200003000040000500006000070000\"], [8, \"a1000020000300004000050000600007000080000\"], [9, \"a100002000030000400005000060000700008000090000\"], [10, \"a100002000030000400005000060000700008000090000100000\"]]}, \"event\": \"step_line\", \"stack_to_render\": [], \"ordered_globals\": [\"x\", \"i\"], \"stdout\": \"\", \"func_name\": \"<module>\", \"globals\": {\"i\": 10, \"x\": [\"REF\", 1]}}, {\"line\": 4, \"heap\": {\"1\": [\"DICT\", [0, \"a\"], [1, \"a10000\"], [2, \"a1000020000\"], [3, \"a100002000030000\"], [4, \"a10000200003000040000\"], [5, \"a1000020000300004000050000\"], [6, \"a100002000030000400005000060000\"], [7, \"a10000200003000040000500006000070000\"], [8, \"a1000020000300004000050000600007000080000\"], [9, \"a100002000030000400005000060000700008000090000\"], [10, \"a100002000030000400005000060000700008000090000100000\"]]}, \"event\": \"step_line\", \"stack_to_render\": [], \"ordered_globals\": [\"x\", \"i\"], \"stdout\": \"\", \"func_name\": \"<module>\", \"globals\": {\"i\": 11, \"x\": [\"REF\", 1]}}, {\"line\": 3, \"heap\": {\"1\": [\"DICT\", [0, \"a\"], [1, \"a10000\"], [2, \"a1000020000\"], [3, \"a100002000030000\"], [4, \"a10000200003000040000\"], [5, \"a1000020000300004000050000\"], [6, \"a100002000030000400005000060000\"], [7, \"a10000200003000040000500006000070000\"], [8, \"a1000020000300004000050000600007000080000\"], [9, \"a100002000030000400005000060000700008000090000\"], [10, \"a100002000030000400005000060000700008000090000100000\"], [11, \"a100002000030000400005000060000700008000090000100000110000\"]]}, \"event\": \"step_line\", \"stack_to_render\": [], \"ordered_globals\": [\"x\", \"i\"], \"stdout\": \"\", \"func_name\": \"<module>\", \"globals\": {\"i\": 11, \"x\": [\"REF\", 1]}}, {\"line\": 4, \"heap\": {\"1\": [\"DICT\", [0, \"a\"], [1, \"a10000\"], [2, \"a1000020000\"], [3, \"a100002000030000\"], [4, \"a10000200003000040000\"], [5, \"a1000020000300004000050000\"], [6, \"a100002000030000400005000060000\"], [7, \"a10000200003000040000500006000070000\"], [8, \"a1000020000300004000050000600007000080000\"], [9, \"a100002000030000400005000060000700008000090000\"], [10, \"a100002000030000400005000060000700008000090000100000\"], [11, \"a100002000030000400005000060000700008000090000100000110000\"]]}, \"event\": \"step_line\", \"stack_to_render\": [], \"ordered_globals\": [\"x\", \"i\"], \"stdout\": \"\", \"func_name\": \"<module>\", \"globals\": {\"i\": 12, \"x\": [\"REF\", 1]}}, {\"line\": 3, \"heap\": {\"1\": [\"DICT\", [0, \"a\"], [1, \"a10000\"], [2, \"a1000020000\"], [3, \"a100002000030000\"], [4, \"a10000200003000040000\"], [5, \"a1000020000300004000050000\"], [6, \"a100002000030000400005000060000\"], [7, \"a10000200003000040000500006000070000\"], [8, \"a1000020000300004000050000600007000080000\"], [9, \"a100002000030000400005000060000700008000090000\"], [10, \"a100002000030000400005000060000700008000090000100000\"], [11, \"a100002000030000400005000060000700008000090000100000110000\"], [12, \"a100002000030000400005000060000700008000090000100000110000120000\"]]}, \"event\": \"step_line\", \"stack_to_render\": [], \"ordered_globals\": [\"x\", \"i\"], \"stdout\": \"\", \"func_name\": \"<module>\", \"globals\": {\"i\": 12, \"x\": [\"REF\", 1]}}, {\"line\": 4, \"heap\": {\"1\": [\"DICT\", [0, \"a\"], [1, \"a10000\"], [2, \"a1000020000\"], [3, \"a100002000030000\"], [4, \"a10000200003000040000\"], [5, \"a1000020000300004000050000\"], [6, \"a100002000030000400005000060000\"], [7, \"a10000200003000040000500006000070000\"], [8, \"a1000020000300004000050000600007000080000\"], [9, \"a100002000030000400005000060000700008000090000\"], [10, \"a100002000030000400005000060000700008000090000100000\"], [11, \"a100002000030000400005000060000700008000090000100000110000\"], [12, \"a100002000030000400005000060000700008000090000100000110000120000\"]]}, \"event\": \"step_line\", \"stack_to_render\": [], \"ordered_globals\": [\"x\", \"i\"], \"stdout\": \"\", \"func_name\": \"<module>\", \"globals\": {\"i\": 13, \"x\": [\"REF\", 1]}}, {\"line\": 3, \"heap\": {\"1\": [\"DICT\", [0, \"a\"], [1, \"a10000\"], [2, \"a1000020000\"], [3, \"a100002000030000\"], [4, \"a10000200003000040000\"], [5, \"a1000020000300004000050000\"], [6, \"a100002000030000400005000060000\"], [7, \"a10000200003000040000500006000070000\"], [8, \"a1000020000300004000050000600007000080000\"], [9, \"a100002000030000400005000060000700008000090000\"], [10, \"a100002000030000400005000060000700008000090000100000\"], [11, \"a100002000030000400005000060000700008000090000100000110000\"], [12, \"a100002000030000400005000060000700008000090000100000110000120000\"], [13, \"a100002000030000400005000060000700008000090000100000110000120000130000\"]]}, \"event\": \"step_line\", \"stack_to_render\": [], \"ordered_globals\": [\"x\", \"i\"], \"stdout\": \"\", \"func_name\": \"<module>\", \"globals\": {\"i\": 13, \"x\": [\"REF\", 1]}}, {\"line\": 4, \"heap\": {\"1\": [\"DICT\", [0, \"a\"], [1, \"a10000\"], [2, \"a1000020000\"], [3, \"a100002000030000\"], [4, \"a10000200003000040000\"], [5, \"a1000020000300004000050000\"], [6, \"a100002000030000400005000060000\"], [7, \"a10000200003000040000500006000070000\"], [8, \"a1000020000300004000050000600007000080000\"], [9, \"a100002000030000400005000060000700008000090000\"], [10, \"a100002000030000400005000060000700008000090000100000\"], [11, \"a100002000030000400005000060000700008000090000100000110000\"], [12, \"a100002000030000400005000060000700008000090000100000110000120000\"], [13, \"a100002000030000400005000060000700008000090000100000110000120000130000\"]]}, \"event\": \"step_line\", \"stack_to_render\": [], \"ordered_globals\": [\"x\", \"i\"], \"stdout\": \"\", \"func_name\": \"<module>\", \"globals\": {\"i\": 14, \"x\": [\"REF\", 1]}}, {\"line\": 3, \"heap\": {\"1\": [\"DICT\", [0, \"a\"], [1, \"a10000\"], [2, \"a1000020000\"], [3, \"a100002000030000\"], [4, \"a10000200003000040000\"], [5, \"a1000020000300004000050000\"], [6, \"a100002000030000400005000060000\"], [7, \"a10000200003000040000500006000070000\"], [8, \"a1000020000300004000050000600007000080000\"], [9, \"a100002000030000400005000060000700008000090000\"], [10, \"a100002000030000400005000060000700008000090000100000\"], [11, \"a100002000030000400005000060000700008000090000100000110000\"], [12, \"a100002000030000400005000060000700008000090000100000110000120000\"], [13, \"a100002000030000400005000060000700008000090000100000110000120000130000\"], [14, \"a100002000030000400005000060000700008000090000100000110000120000130000140000\"]]}, \"event\": \"step_line\", \"stack_to_render\": [], \"ordered_globals\": [\"x\", \"i\"], \"stdout\": \"\", \"func_name\": \"<module>\", \"globals\": {\"i\": 14, \"x\": [\"REF\", 1]}}, {\"line\": 4, \"heap\": {\"1\": [\"DICT\", [0, \"a\"], [1, \"a10000\"], [2, \"a1000020000\"], [3, \"a100002000030000\"], [4, \"a10000200003000040000\"], [5, \"a1000020000300004000050000\"], [6, \"a100002000030000400005000060000\"], [7, \"a10000200003000040000500006000070000\"], [8, \"a1000020000300004000050000600007000080000\"], [9, \"a100002000030000400005000060000700008000090000\"], [10, \"a100002000030000400005000060000700008000090000100000\"], [11, \"a100002000030000400005000060000700008000090000100000110000\"], [12, \"a100002000030000400005000060000700008000090000100000110000120000\"], [13, \"a100002000030000400005000060000700008000090000100000110000120000130000\"], [14, \"a100002000030000400005000060000700008000090000100000110000120000130000140000\"]]}, \"event\": \"step_line\", \"stack_to_render\": [], \"ordered_globals\": [\"x\", \"i\"], \"stdout\": \"\", \"func_name\": \"<module>\", \"globals\": {\"i\": 15, \"x\": [\"REF\", 1]}}, {\"line\": 3, \"heap\": {\"1\": [\"DICT\", [0, \"a\"], [1, \"a10000\"], [2, \"a1000020000\"], [3, \"a100002000030000\"], [4, \"a10000200003000040000\"], [5, \"a1000020000300004000050000\"], [6, \"a100002000030000400005000060000\"], [7, \"a10000200003000040000500006000070000\"], [8, \"a1000020000300004000050000600007000080000\"], [9, \"a100002000030000400005000060000700008000090000\"], [10, \"a100002000030000400005000060000700008000090000100000\"], [11, \"a100002000030000400005000060000700008000090000100000110000\"], [12, \"a100002000030000400005000060000700008000090000100000110000120000\"], [13, \"a100002000030000400005000060000700008000090000100000110000120000130000\"], [14, \"a100002000030000400005000060000700008000090000100000110000120000130000140000\"], [15, \"a100002000030000400005000060000700008000090000100000110000120000130000140000150000\"]]}, \"event\": \"step_line\", \"stack_to_render\": [], \"ordered_globals\": [\"x\", \"i\"], \"stdout\": \"\", \"func_name\": \"<module>\", \"globals\": {\"i\": 15, \"x\": [\"REF\", 1]}}, {\"line\": 4, \"heap\": {\"1\": [\"DICT\", [0, \"a\"], [1, \"a10000\"], [2, \"a1000020000\"], [3, \"a100002000030000\"], [4, \"a10000200003000040000\"], [5, \"a1000020000300004000050000\"], [6, \"a100002000030000400005000060000\"], [7, \"a10000200003000040000500006000070000\"], [8, \"a1000020000300004000050000600007000080000\"], [9, \"a100002000030000400005000060000700008000090000\"], [10, \"a100002000030000400005000060000700008000090000100000\"], [11, \"a100002000030000400005000060000700008000090000100000110000\"], [12, \"a100002000030000400005000060000700008000090000100000110000120000\"], [13, \"a100002000030000400005000060000700008000090000100000110000120000130000\"], [14, \"a100002000030000400005000060000700008000090000100000110000120000130000140000\"], [15, \"a100002000030000400005000060000700008000090000100000110000120000130000140000150000\"]]}, \"event\": \"step_line\", \"stack_to_render\": [], \"ordered_globals\": [\"x\", \"i\"], \"stdout\": \"\", \"func_name\": \"<module>\", \"globals\": {\"i\": 16, \"x\": [\"REF\", 1]}}, {\"line\": 3, \"heap\": {\"1\": [\"DICT\", [0, \"a\"], [1, \"a10000\"], [2, \"a1000020000\"], [3, \"a100002000030000\"], [4, \"a10000200003000040000\"], [5, \"a1000020000300004000050000\"], [6, \"a100002000030000400005000060000\"], [7, \"a10000200003000040000500006000070000\"], [8, \"a1000020000300004000050000600007000080000\"], [9, \"a100002000030000400005000060000700008000090000\"], [10, \"a100002000030000400005000060000700008000090000100000\"], [11, \"a100002000030000400005000060000700008000090000100000110000\"], [12, \"a100002000030000400005000060000700008000090000100000110000120000\"], [13, \"a100002000030000400005000060000700008000090000100000110000120000130000\"], [14, \"a100002000030000400005000060000700008000090000100000110000120000130000140000\"], [15, \"a100002000030000400005000060000700008000090000100000110000120000130000140000150000\"], [16, \"a100002000030000400005000060000700008000090000100000110000120000130000140000150000160000\"]]}, \"event\": \"step_line\", \"stack_to_render\": [], \"ordered_globals\": [\"x\", \"i\"], \"stdout\": \"\", \"func_name\": \"<module>\", \"globals\": {\"i\": 16, \"x\": [\"REF\", 1]}}, {\"line\": 4, \"heap\": {\"1\": [\"DICT\", [0, \"a\"], [1, \"a10000\"], [2, \"a1000020000\"], [3, \"a100002000030000\"], [4, \"a10000200003000040000\"], [5, \"a1000020000300004000050000\"], [6, \"a100002000030000400005000060000\"], [7, \"a10000200003000040000500006000070000\"], [8, \"a1000020000300004000050000600007000080000\"], [9, \"a100002000030000400005000060000700008000090000\"], [10, \"a100002000030000400005000060000700008000090000100000\"], [11, \"a100002000030000400005000060000700008000090000100000110000\"], [12, \"a100002000030000400005000060000700008000090000100000110000120000\"], [13, \"a100002000030000400005000060000700008000090000100000110000120000130000\"], [14, \"a100002000030000400005000060000700008000090000100000110000120000130000140000\"], [15, \"a100002000030000400005000060000700008000090000100000110000120000130000140000150000\"], [16, \"a100002000030000400005000060000700008000090000100000110000120000130000140000150000160000\"]]}, \"event\": \"step_line\", \"stack_to_render\": [], \"ordered_globals\": [\"x\", \"i\"], \"stdout\": \"\", \"func_name\": \"<module>\", \"globals\": {\"i\": 17, \"x\": [\"REF\", 1]}}, {\"line\": 3, \"heap\": {\"1\": [\"DICT\", [0, \"a\"], [1, \"a10000\"], [2, \"a1000020000\"], [3, \"a100002000030000\"], [4, \"a10000200003000040000\"], [5, \"a1000020000300004000050000\"], [6, \"a100002000030000400005000060000\"], [7, \"a10000200003000040000500006000070000\"], [8, \"a1000020000300004000050000600007000080000\"], [9, \"a100002000030000400005000060000700008000090000\"], [10, \"a100002000030000400005000060000700008000090000100000\"], [11, \"a100002000030000400005000060000700008000090000100000110000\"], [12, \"a100002000030000400005000060000700008000090000100000110000120000\"], [13, \"a100002000030000400005000060000700008000090000100000110000120000130000\"], [14, \"a100002000030000400005000060000700008000090000100000110000120000130000140000\"], [15, \"a100002000030000400005000060000700008000090000100000110000120000130000140000150000\"], [16, \"a100002000030000400005000060000700008000090000100000110000120000130000140000150000160000\"], [17, \"a100002000030000400005000060000700008000090000100000110000120000130000140000150000160000170000\"]]}, \"event\": \"step_line\", \"stack_to_render\": [], \"ordered_globals\": [\"x\", \"i\"], \"stdout\": \"\", \"func_name\": \"<module>\", \"globals\": {\"i\": 17, \"x\": [\"REF\", 1]}}, {\"line\": 4, \"heap\": {\"1\": [\"DICT\", [0, \"a\"], [1, \"a10000\"], [2, \"a1000020000\"], [3, \"a100002000030000\"], [4, \"a10000200003000040000\"], [5, \"a1000020000300004000050000\"], [6, \"a100002000030000400005000060000\"], [7, \"a10000200003000040000500006000070000\"], [8, \"a1000020000300004000050000600007000080000\"], [9, \"a100002000030000400005000060000700008000090000\"], [10, \"a100002000030000400005000060000700008000090000100000\"], [11, \"a100002000030000400005000060000700008000090000100000110000\"], [12, \"a100002000030000400005000060000700008000090000100000110000120000\"], [13, \"a100002000030000400005000060000700008000090000100000110000120000130000\"], [14, \"a100002000030000400005000060000700008000090000100000110000120000130000140000\"], [15, \"a100002000030000400005000060000700008000090000100000110000120000130000140000150000\"], [16, \"a100002000030000400005000060000700008000090000100000110000120000130000140000150000160000\"], [17, \"a100002000030000400005000060000700008000090000100000110000120000130000140000150000160000170000\"]]}, \"event\": \"step_line\", \"stack_to_render\": [], \"ordered_globals\": [\"x\", \"i\"], \"stdout\": \"\", \"func_name\": \"<module>\", \"globals\": {\"i\": 18, \"x\": [\"REF\", 1]}}, {\"line\": 3, \"heap\": {\"1\": [\"DICT\", [0, \"a\"], [1, \"a10000\"], [2, \"a1000020000\"], [3, \"a100002000030000\"], [4, \"a10000200003000040000\"], [5, \"a1000020000300004000050000\"], [6, \"a100002000030000400005000060000\"], [7, \"a10000200003000040000500006000070000\"], [8, \"a1000020000300004000050000600007000080000\"], [9, \"a100002000030000400005000060000700008000090000\"], [10, \"a100002000030000400005000060000700008000090000100000\"], [11, \"a100002000030000400005000060000700008000090000100000110000\"], [12, \"a100002000030000400005000060000700008000090000100000110000120000\"], [13, \"a100002000030000400005000060000700008000090000100000110000120000130000\"], [14, \"a100002000030000400005000060000700008000090000100000110000120000130000140000\"], [15, \"a100002000030000400005000060000700008000090000100000110000120000130000140000150000\"], [16, \"a100002000030000400005000060000700008000090000100000110000120000130000140000150000160000\"], [17, \"a100002000030000400005000060000700008000090000100000110000120000130000140000150000160000170000\"], [18, \"a100002000030000400005000060000700008000090000100000110000120000130000140000150000160000170000180000\"]]}, \"event\": \"step_line\", \"stack_to_render\": [], \"ordered_globals\": [\"x\", \"i\"], \"stdout\": \"\", \"func_name\": \"<module>\", \"globals\": {\"i\": 18, \"x\": [\"REF\", 1]}}, {\"line\": 4, \"heap\": {\"1\": [\"DICT\", [0, \"a\"], [1, \"a10000\"], [2, \"a1000020000\"], [3, \"a100002000030000\"], [4, \"a10000200003000040000\"], [5, \"a1000020000300004000050000\"], [6, \"a100002000030000400005000060000\"], [7, \"a10000200003000040000500006000070000\"], [8, \"a1000020000300004000050000600007000080000\"], [9, \"a100002000030000400005000060000700008000090000\"], [10, \"a100002000030000400005000060000700008000090000100000\"], [11, \"a100002000030000400005000060000700008000090000100000110000\"], [12, \"a100002000030000400005000060000700008000090000100000110000120000\"], [13, \"a100002000030000400005000060000700008000090000100000110000120000130000\"], [14, \"a100002000030000400005000060000700008000090000100000110000120000130000140000\"], [15, \"a100002000030000400005000060000700008000090000100000110000120000130000140000150000\"], [16, \"a100002000030000400005000060000700008000090000100000110000120000130000140000150000160000\"], [17, \"a100002000030000400005000060000700008000090000100000110000120000130000140000150000160000170000\"], [18, \"a100002000030000400005000060000700008000090000100000110000120000130000140000150000160000170000180000\"]]}, \"event\": \"step_line\", \"stack_to_render\": [], \"ordered_globals\": [\"x\", \"i\"], \"stdout\": \"\", \"func_name\": \"<module>\", \"globals\": {\"i\": 19, \"x\": [\"REF\", 1]}}, {\"line\": 3, \"heap\": {\"1\": [\"DICT\", [0, \"a\"], [1, \"a10000\"], [2, \"a1000020000\"], [3, \"a100002000030000\"], [4, \"a10000200003000040000\"], [5, \"a1000020000300004000050000\"], [6, \"a100002000030000400005000060000\"], [7, \"a10000200003000040000500006000070000\"], [8, \"a1000020000300004000050000600007000080000\"], [9, \"a100002000030000400005000060000700008000090000\"], [10, \"a100002000030000400005000060000700008000090000100000\"], [11, \"a100002000030000400005000060000700008000090000100000110000\"], [12, \"a100002000030000400005000060000700008000090000100000110000120000\"], [13, \"a100002000030000400005000060000700008000090000100000110000120000130000\"], [14, \"a100002000030000400005000060000700008000090000100000110000120000130000140000\"], [15, \"a100002000030000400005000060000700008000090000100000110000120000130000140000150000\"], [16, \"a100002000030000400005000060000700008000090000100000110000120000130000140000150000160000\"], [17, \"a100002000030000400005000060000700008000090000100000110000120000130000140000150000160000170000\"], [18, \"a100002000030000400005000060000700008000090000100000110000120000130000140000150000160000170000180000\"], [19, \"a100002000030000400005000060000700008000090000100000110000120000130000140000150000160000170000180000190000\"]]}, \"event\": \"step_line\", \"stack_to_render\": [], \"ordered_globals\": [\"x\", \"i\"], \"stdout\": \"\", \"func_name\": \"<module>\", \"globals\": {\"i\": 19, \"x\": [\"REF\", 1]}}, {\"line\": 4, \"heap\": {\"1\": [\"DICT\", [0, \"a\"], [1, \"a10000\"], [2, \"a1000020000\"], [3, \"a100002000030000\"], [4, \"a10000200003000040000\"], [5, \"a1000020000300004000050000\"], [6, \"a100002000030000400005000060000\"], [7, \"a10000200003000040000500006000070000\"], [8, \"a1000020000300004000050000600007000080000\"], [9, \"a100002000030000400005000060000700008000090000\"], [10, \"a100002000030000400005000060000700008000090000100000\"], [11, \"a100002000030000400005000060000700008000090000100000110000\"], [12, \"a100002000030000400005000060000700008000090000100000110000120000\"], [13, \"a100002000030000400005000060000700008000090000100000110000120000130000\"], [14, \"a100002000030000400005000060000700008000090000100000110000120000130000140000\"], [15, \"a100002000030000400005000060000700008000090000100000110000120000130000140000150000\"], [16, \"a100002000030000400005000060000700008000090000100000110000120000130000140000150000160000\"], [17, \"a100002000030000400005000060000700008000090000100000110000120000130000140000150000160000170000\"], [18, \"a100002000030000400005000060000700008000090000100000110000120000130000140000150000160000170000180000\"], [19, \"a100002000030000400005000060000700008000090000100000110000120000130000140000150000160000170000180000190000\"]]}, \"event\": \"step_line\", \"stack_to_render\": [], \"ordered_globals\": [\"x\", \"i\"], \"stdout\": \"\", \"func_name\": \"<module>\", \"globals\": {\"i\": 20, \"x\": [\"REF\", 1]}}, {\"line\": 3, \"heap\": {\"1\": [\"DICT\", [0, \"a\"], [1, \"a10000\"], [2, \"a1000020000\"], [3, \"a100002000030000\"], [4, \"a10000200003000040000\"], [5, \"a1000020000300004000050000\"], [6, \"a100002000030000400005000060000\"], [7, \"a10000200003000040000500006000070000\"], [8, \"a1000020000300004000050000600007000080000\"], [9, \"a100002000030000400005000060000700008000090000\"], [10, \"a100002000030000400005000060000700008000090000100000\"], [11, \"a100002000030000400005000060000700008000090000100000110000\"], [12, \"a100002000030000400005000060000700008000090000100000110000120000\"], [13, \"a100002000030000400005000060000700008000090000100000110000120000130000\"], [14, \"a100002000030000400005000060000700008000090000100000110000120000130000140000\"], [15, \"a100002000030000400005000060000700008000090000100000110000120000130000140000150000\"], [16, \"a100002000030000400005000060000700008000090000100000110000120000130000140000150000160000\"], [17, \"a100002000030000400005000060000700008000090000100000110000120000130000140000150000160000170000\"], [18, \"a100002000030000400005000060000700008000090000100000110000120000130000140000150000160000170000180000\"], [19, \"a100002000030000400005000060000700008000090000100000110000120000130000140000150000160000170000180000190000\"], [20, \"a100002000030000400005000060000700008000090000100000110000120000130000140000150000160000170000180000190000200000\"]]}, \"event\": \"step_line\", \"stack_to_render\": [], \"ordered_globals\": [\"x\", \"i\"], \"stdout\": \"\", \"func_name\": \"<module>\", \"globals\": {\"i\": 20, \"x\": [\"REF\", 1]}}, {\"line\": 4, \"heap\": {\"1\": [\"DICT\", [0, \"a\"], [1, \"a10000\"], [2, \"a1000020000\"], [3, \"a100002000030000\"], [4, \"a10000200003000040000\"], [5, \"a1000020000300004000050000\"], [6, \"a100002000030000400005000060000\"], [7, \"a10000200003000040000500006000070000\"], [8, \"a1000020000300004000050000600007000080000\"], [9, \"a100002000030000400005000060000700008000090000\"], [10, \"a100002000030000400005000060000700008000090000100000\"], [11, \"a100002000030000400005000060000700008000090000100000110000\"], [12, \"a100002000030000400005000060000700008000090000100000110000120000\"], [13, \"a100002000030000400005000060000700008000090000100000110000120000130000\"], [14, \"a100002000030000400005000060000700008000090000100000110000120000130000140000\"], [15, \"a100002000030000400005000060000700008000090000100000110000120000130000140000150000\"], [16, \"a100002000030000400005000060000700008000090000100000110000120000130000140000150000160000\"], [17, \"a100002000030000400005000060000700008000090000100000110000120000130000140000150000160000170000\"], [18, \"a100002000030000400005000060000700008000090000100000110000120000130000140000150000160000170000180000\"], [19, \"a100002000030000400005000060000700008000090000100000110000120000130000140000150000160000170000180000190000\"], [20, \"a100002000030000400005000060000700008000090000100000110000120000130000140000150000160000170000180000190000200000\"]]}, \"event\": \"step_line\", \"stack_to_render\": [], \"ordered_globals\": [\"x\", \"i\"], \"stdout\": \"\", \"func_name\": \"<module>\", \"globals\": {\"i\": 21, \"x\": [\"REF\", 1]}}, {\"line\": 3, \"heap\": {\"1\": [\"DICT\", [0, \"a\"], [1, \"a10000\"], [2, \"a1000020000\"], [3, \"a100002000030000\"], [4, \"a10000200003000040000\"], [5, \"a1000020000300004000050000\"], [6, \"a100002000030000400005000060000\"], [7, \"a10000200003000040000500006000070000\"], [8, \"a1000020000300004000050000600007000080000\"], [9, \"a100002000030000400005000060000700008000090000\"], [10, \"a100002000030000400005000060000700008000090000100000\"], [11, \"a100002000030000400005000060000700008000090000100000110000\"], [12, \"a100002000030000400005000060000700008000090000100000110000120000\"], [13, \"a100002000030000400005000060000700008000090000100000110000120000130000\"], [14, \"a100002000030000400005000060000700008000090000100000110000120000130000140000\"], [15, \"a100002000030000400005000060000700008000090000100000110000120000130000140000150000\"], [16, \"a100002000030000400005000060000700008000090000100000110000120000130000140000150000160000\"], [17, \"a100002000030000400005000060000700008000090000100000110000120000130000140000150000160000170000\"], [18, \"a100002000030000400005000060000700008000090000100000110000120000130000140000150000160000170000180000\"], [19, \"a100002000030000400005000060000700008000090000100000110000120000130000140000150000160000170000180000190000\"], [20, \"a100002000030000400005000060000700008000090000100000110000120000130000140000150000160000170000180000190000200000\"], [21, \"a100002000030000400005000060000700008000090000100000110000120000130000140000150000160000170000180000190000200000210000\"]]}, \"event\": \"step_line\", \"stack_to_render\": [], \"ordered_globals\": [\"x\", \"i\"], \"stdout\": \"\", \"func_name\": \"<module>\", \"globals\": {\"i\": 21, \"x\": [\"REF\", 1]}}, {\"line\": 4, \"heap\": {\"1\": [\"DICT\", [0, \"a\"], [1, \"a10000\"], [2, \"a1000020000\"], [3, \"a100002000030000\"], [4, \"a10000200003000040000\"], [5, \"a1000020000300004000050000\"], [6, \"a100002000030000400005000060000\"], [7, \"a10000200003000040000500006000070000\"], [8, \"a1000020000300004000050000600007000080000\"], [9, \"a100002000030000400005000060000700008000090000\"], [10, \"a100002000030000400005000060000700008000090000100000\"], [11, \"a100002000030000400005000060000700008000090000100000110000\"], [12, \"a100002000030000400005000060000700008000090000100000110000120000\"], [13, \"a100002000030000400005000060000700008000090000100000110000120000130000\"], [14, \"a100002000030000400005000060000700008000090000100000110000120000130000140000\"], [15, \"a100002000030000400005000060000700008000090000100000110000120000130000140000150000\"], [16, \"a100002000030000400005000060000700008000090000100000110000120000130000140000150000160000\"], [17, \"a100002000030000400005000060000700008000090000100000110000120000130000140000150000160000170000\"], [18, \"a100002000030000400005000060000700008000090000100000110000120000130000140000150000160000170000180000\"], [19, \"a100002000030000400005000060000700008000090000100000110000120000130000140000150000160000170000180000190000\"], [20, \"a100002000030000400005000060000700008000090000100000110000120000130000140000150000160000170000180000190000200000\"], [21, \"a100002000030000400005000060000700008000090000100000110000120000130000140000150000160000170000180000190000200000210000\"]]}, \"event\": \"step_line\", \"stack_to_render\": [], \"ordered_globals\": [\"x\", \"i\"], \"stdout\": \"\", \"func_name\": \"<module>\", \"globals\": {\"i\": 22, \"x\": [\"REF\", 1]}}, {\"line\": 3, \"heap\": {\"1\": [\"DICT\", [0, \"a\"], [1, \"a10000\"], [2, \"a1000020000\"], [3, \"a100002000030000\"], [4, \"a10000200003000040000\"], [5, \"a1000020000300004000050000\"], [6, \"a100002000030000400005000060000\"], [7, \"a10000200003000040000500006000070000\"], [8, \"a1000020000300004000050000600007000080000\"], [9, \"a100002000030000400005000060000700008000090000\"], [10, \"a100002000030000400005000060000700008000090000100000\"], [11, \"a100002000030000400005000060000700008000090000100000110000\"], [12, \"a100002000030000400005000060000700008000090000100000110000120000\"], [13, \"a100002000030000400005000060000700008000090000100000110000120000130000\"], [14, \"a100002000030000400005000060000700008000090000100000110000120000130000140000\"], [15, \"a100002000030000400005000060000700008000090000100000110000120000130000140000150000\"], [16, \"a100002000030000400005000060000700008000090000100000110000120000130000140000150000160000\"], [17, \"a100002000030000400005000060000700008000090000100000110000120000130000140000150000160000170000\"], [18, \"a100002000030000400005000060000700008000090000100000110000120000130000140000150000160000170000180000\"], [19, \"a100002000030000400005000060000700008000090000100000110000120000130000140000150000160000170000180000190000\"], [20, \"a100002000030000400005000060000700008000090000100000110000120000130000140000150000160000170000180000190000200000\"], [21, \"a100002000030000400005000060000700008000090000100000110000120000130000140000150000160000170000180000190000200000210000\"], [22, \"a100002000030000400005000060000700008000090000100000110000120000130000140000150000160000170000180000190000200000210000220000\"]]}, \"event\": \"step_line\", \"stack_to_render\": [], \"ordered_globals\": [\"x\", \"i\"], \"stdout\": \"\", \"func_name\": \"<module>\", \"globals\": {\"i\": 22, \"x\": [\"REF\", 1]}}, {\"line\": 4, \"heap\": {\"1\": [\"DICT\", [0, \"a\"], [1, \"a10000\"], [2, \"a1000020000\"], [3, \"a100002000030000\"], [4, \"a10000200003000040000\"], [5, \"a1000020000300004000050000\"], [6, \"a100002000030000400005000060000\"], [7, \"a10000200003000040000500006000070000\"], [8, \"a1000020000300004000050000600007000080000\"], [9, \"a100002000030000400005000060000700008000090000\"], [10, \"a100002000030000400005000060000700008000090000100000\"], [11, \"a100002000030000400005000060000700008000090000100000110000\"], [12, \"a100002000030000400005000060000700008000090000100000110000120000\"], [13, \"a100002000030000400005000060000700008000090000100000110000120000130000\"], [14, \"a100002000030000400005000060000700008000090000100000110000120000130000140000\"], [15, \"a100002000030000400005000060000700008000090000100000110000120000130000140000150000\"], [16, \"a100002000030000400005000060000700008000090000100000110000120000130000140000150000160000\"], [17, \"a100002000030000400005000060000700008000090000100000110000120000130000140000150000160000170000\"], [18, \"a100002000030000400005000060000700008000090000100000110000120000130000140000150000160000170000180000\"], [19, \"a100002000030000400005000060000700008000090000100000110000120000130000140000150000160000170000180000190000\"], [20, \"a100002000030000400005000060000700008000090000100000110000120000130000140000150000160000170000180000190000200000\"], [21, \"a100002000030000400005000060000700008000090000100000110000120000130000140000150000160000170000180000190000200000210000\"], [22, \"a100002000030000400005000060000700008000090000100000110000120000130000140000150000160000170000180000190000200000210000220000\"]]}, \"event\": \"step_line\", \"stack_to_render\": [], \"ordered_globals\": [\"x\", \"i\"], \"stdout\": \"\", \"func_name\": \"<module>\", \"globals\": {\"i\": 23, \"x\": [\"REF\", 1]}}, {\"line\": 3, \"heap\": {\"1\": [\"DICT\", [0, \"a\"], [1, \"a10000\"], [2, \"a1000020000\"], [3, \"a100002000030000\"], [4, \"a10000200003000040000\"], [5, \"a1000020000300004000050000\"], [6, \"a100002000030000400005000060000\"], [7, \"a10000200003000040000500006000070000\"], [8, \"a1000020000300004000050000600007000080000\"], [9, \"a100002000030000400005000060000700008000090000\"], [10, \"a100002000030000400005000060000700008000090000100000\"], [11, \"a100002000030000400005000060000700008000090000100000110000\"], [12, \"a100002000030000400005000060000700008000090000100000110000120000\"], [13, \"a100002000030000400005000060000700008000090000100000110000120000130000\"], [14, \"a100002000030000400005000060000700008000090000100000110000120000130000140000\"], [15, \"a100002000030000400005000060000700008000090000100000110000120000130000140000150000\"], [16, \"a100002000030000400005000060000700008000090000100000110000120000130000140000150000160000\"], [17, \"a100002000030000400005000060000700008000090000100000110000120000130000140000150000160000170000\"], [18, \"a100002000030000400005000060000700008000090000100000110000120000130000140000150000160000170000180000\"], [19, \"a100002000030000400005000060000700008000090000100000110000120000130000140000150000160000170000180000190000\"], [20, \"a100002000030000400005000060000700008000090000100000110000120000130000140000150000160000170000180000190000200000\"], [21, \"a100002000030000400005000060000700008000090000100000110000120000130000140000150000160000170000180000190000200000210000\"], [22, \"a100002000030000400005000060000700008000090000100000110000120000130000140000150000160000170000180000190000200000210000220000\"], [23, \"a100002000030000400005000060000700008000090000100000110000120000130000140000150000160000170000180000190000200000210000220000230000\"]]}, \"event\": \"step_line\", \"stack_to_render\": [], \"ordered_globals\": [\"x\", \"i\"], \"stdout\": \"\", \"func_name\": \"<module>\", \"globals\": {\"i\": 23, \"x\": [\"REF\", 1]}}, {\"line\": 4, \"heap\": {\"1\": [\"DICT\", [0, \"a\"], [1, \"a10000\"], [2, \"a1000020000\"], [3, \"a100002000030000\"], [4, \"a10000200003000040000\"], [5, \"a1000020000300004000050000\"], [6, \"a100002000030000400005000060000\"], [7, \"a10000200003000040000500006000070000\"], [8, \"a1000020000300004000050000600007000080000\"], [9, \"a100002000030000400005000060000700008000090000\"], [10, \"a100002000030000400005000060000700008000090000100000\"], [11, \"a100002000030000400005000060000700008000090000100000110000\"], [12, \"a100002000030000400005000060000700008000090000100000110000120000\"], [13, \"a100002000030000400005000060000700008000090000100000110000120000130000\"], [14, \"a100002000030000400005000060000700008000090000100000110000120000130000140000\"], [15, \"a100002000030000400005000060000700008000090000100000110000120000130000140000150000\"], [16, \"a100002000030000400005000060000700008000090000100000110000120000130000140000150000160000\"], [17, \"a100002000030000400005000060000700008000090000100000110000120000130000140000150000160000170000\"], [18, \"a100002000030000400005000060000700008000090000100000110000120000130000140000150000160000170000180000\"], [19, \"a100002000030000400005000060000700008000090000100000110000120000130000140000150000160000170000180000190000\"], [20, \"a100002000030000400005000060000700008000090000100000110000120000130000140000150000160000170000180000190000200000\"], [21, \"a100002000030000400005000060000700008000090000100000110000120000130000140000150000160000170000180000190000200000210000\"], [22, \"a100002000030000400005000060000700008000090000100000110000120000130000140000150000160000170000180000190000200000210000220000\"], [23, \"a100002000030000400005000060000700008000090000100000110000120000130000140000150000160000170000180000190000200000210000220000230000\"]]}, \"event\": \"step_line\", \"stack_to_render\": [], \"ordered_globals\": [\"x\", \"i\"], \"stdout\": \"\", \"func_name\": \"<module>\", \"globals\": {\"i\": 24, \"x\": [\"REF\", 1]}}, {\"line\": 3, \"heap\": {\"1\": [\"DICT\", [0, \"a\"], [1, \"a10000\"], [2, \"a1000020000\"], [3, \"a100002000030000\"], [4, \"a10000200003000040000\"], [5, \"a1000020000300004000050000\"], [6, \"a100002000030000400005000060000\"], [7, \"a10000200003000040000500006000070000\"], [8, \"a1000020000300004000050000600007000080000\"], [9, \"a100002000030000400005000060000700008000090000\"], [10, \"a100002000030000400005000060000700008000090000100000\"], [11, \"a100002000030000400005000060000700008000090000100000110000\"], [12, \"a100002000030000400005000060000700008000090000100000110000120000\"], [13, \"a100002000030000400005000060000700008000090000100000110000120000130000\"], [14, \"a100002000030000400005000060000700008000090000100000110000120000130000140000\"], [15, \"a100002000030000400005000060000700008000090000100000110000120000130000140000150000\"], [16, \"a100002000030000400005000060000700008000090000100000110000120000130000140000150000160000\"], [17, \"a100002000030000400005000060000700008000090000100000110000120000130000140000150000160000170000\"], [18, \"a100002000030000400005000060000700008000090000100000110000120000130000140000150000160000170000180000\"], [19, \"a100002000030000400005000060000700008000090000100000110000120000130000140000150000160000170000180000190000\"], [20, \"a100002000030000400005000060000700008000090000100000110000120000130000140000150000160000170000180000190000200000\"], [21, \"a100002000030000400005000060000700008000090000100000110000120000130000140000150000160000170000180000190000200000210000\"], [22, \"a100002000030000400005000060000700008000090000100000110000120000130000140000150000160000170000180000190000200000210000220000\"], [23, \"a100002000030000400005000060000700008000090000100000110000120000130000140000150000160000170000180000190000200000210000220000230000\"], [24, \"a100002000030000400005000060000700008000090000100000110000120000130000140000150000160000170000180000190000200000210000220000230000240000\"]]}, \"event\": \"step_line\", \"stack_to_render\": [], \"ordered_globals\": [\"x\", \"i\"], \"stdout\": \"\", \"func_name\": \"<module>\", \"globals\": {\"i\": 24, \"x\": [\"REF\", 1]}}, {\"line\": 4, \"heap\": {\"1\": [\"DICT\", [0, \"a\"], [1, \"a10000\"], [2, \"a1000020000\"], [3, \"a100002000030000\"], [4, \"a10000200003000040000\"], [5, \"a1000020000300004000050000\"], [6, \"a100002000030000400005000060000\"], [7, \"a10000200003000040000500006000070000\"], [8, \"a1000020000300004000050000600007000080000\"], [9, \"a100002000030000400005000060000700008000090000\"], [10, \"a100002000030000400005000060000700008000090000100000\"], [11, \"a100002000030000400005000060000700008000090000100000110000\"], [12, \"a100002000030000400005000060000700008000090000100000110000120000\"], [13, \"a100002000030000400005000060000700008000090000100000110000120000130000\"], [14, \"a100002000030000400005000060000700008000090000100000110000120000130000140000\"], [15, \"a100002000030000400005000060000700008000090000100000110000120000130000140000150000\"], [16, \"a100002000030000400005000060000700008000090000100000110000120000130000140000150000160000\"], [17, \"a100002000030000400005000060000700008000090000100000110000120000130000140000150000160000170000\"], [18, \"a100002000030000400005000060000700008000090000100000110000120000130000140000150000160000170000180000\"], [19, \"a100002000030000400005000060000700008000090000100000110000120000130000140000150000160000170000180000190000\"], [20, \"a100002000030000400005000060000700008000090000100000110000120000130000140000150000160000170000180000190000200000\"], [21, \"a100002000030000400005000060000700008000090000100000110000120000130000140000150000160000170000180000190000200000210000\"], [22, \"a100002000030000400005000060000700008000090000100000110000120000130000140000150000160000170000180000190000200000210000220000\"], [23, \"a100002000030000400005000060000700008000090000100000110000120000130000140000150000160000170000180000190000200000210000220000230000\"], [24, \"a100002000030000400005000060000700008000090000100000110000120000130000140000150000160000170000180000190000200000210000220000230000240000\"]]}, \"event\": \"step_line\", \"stack_to_render\": [], \"ordered_globals\": [\"x\", \"i\"], \"stdout\": \"\", \"func_name\": \"<module>\", \"globals\": {\"i\": 25, \"x\": [\"REF\", 1]}}, {\"line\": 3, \"heap\": {\"1\": [\"DICT\", [0, \"a\"], [1, \"a10000\"], [2, \"a1000020000\"], [3, \"a100002000030000\"], [4, \"a10000200003000040000\"], [5, \"a1000020000300004000050000\"], [6, \"a100002000030000400005000060000\"], [7, \"a10000200003000040000500006000070000\"], [8, \"a1000020000300004000050000600007000080000\"], [9, \"a100002000030000400005000060000700008000090000\"], [10, \"a100002000030000400005000060000700008000090000100000\"], [11, \"a100002000030000400005000060000700008000090000100000110000\"], [12, \"a100002000030000400005000060000700008000090000100000110000120000\"], [13, \"a100002000030000400005000060000700008000090000100000110000120000130000\"], [14, \"a100002000030000400005000060000700008000090000100000110000120000130000140000\"], [15, \"a100002000030000400005000060000700008000090000100000110000120000130000140000150000\"], [16, \"a100002000030000400005000060000700008000090000100000110000120000130000140000150000160000\"], [17, \"a100002000030000400005000060000700008000090000100000110000120000130000140000150000160000170000\"], [18, \"a100002000030000400005000060000700008000090000100000110000120000130000140000150000160000170000180000\"], [19, \"a100002000030000400005000060000700008000090000100000110000120000130000140000150000160000170000180000190000\"], [20, \"a100002000030000400005000060000700008000090000100000110000120000130000140000150000160000170000180000190000200000\"], [21, \"a100002000030000400005000060000700008000090000100000110000120000130000140000150000160000170000180000190000200000210000\"], [22, \"a100002000030000400005000060000700008000090000100000110000120000130000140000150000160000170000180000190000200000210000220000\"], [23, \"a100002000030000400005000060000700008000090000100000110000120000130000140000150000160000170000180000190000200000210000220000230000\"], [24, \"a100002000030000400005000060000700008000090000100000110000120000130000140000150000160000170000180000190000200000210000220000230000240000\"], [25, \"a100002000030000400005000060000700008000090000100000110000120000130000140000150000160000170000180000190000200000210000220000230000240000250000\"]]}, \"event\": \"step_line\", \"stack_to_render\": [], \"ordered_globals\": [\"x\", \"i\"], \"stdout\": \"\", \"func_name\": \"<module>\", \"globals\": {\"i\": 25, \"x\": [\"REF\", 1]}}, {\"line\": 4, \"heap\": {\"1\": [\"DICT\", [0, \"a\"], [1, \"a10000\"], [2, \"a1000020000\"], [3, \"a100002000030000\"], [4, \"a10000200003000040000\"], [5, \"a1000020000300004000050000\"], [6, \"a100002000030000400005000060000\"], [7, \"a10000200003000040000500006000070000\"], [8, \"a1000020000300004000050000600007000080000\"], [9, \"a100002000030000400005000060000700008000090000\"], [10, \"a100002000030000400005000060000700008000090000100000\"], [11, \"a100002000030000400005000060000700008000090000100000110000\"], [12, \"a100002000030000400005000060000700008000090000100000110000120000\"], [13, \"a100002000030000400005000060000700008000090000100000110000120000130000\"], [14, \"a100002000030000400005000060000700008000090000100000110000120000130000140000\"], [15, \"a100002000030000400005000060000700008000090000100000110000120000130000140000150000\"], [16, \"a100002000030000400005000060000700008000090000100000110000120000130000140000150000160000\"], [17, \"a100002000030000400005000060000700008000090000100000110000120000130000140000150000160000170000\"], [18, \"a100002000030000400005000060000700008000090000100000110000120000130000140000150000160000170000180000\"], [19, \"a100002000030000400005000060000700008000090000100000110000120000130000140000150000160000170000180000190000\"], [20, \"a100002000030000400005000060000700008000090000100000110000120000130000140000150000160000170000180000190000200000\"], [21, \"a100002000030000400005000060000700008000090000100000110000120000130000140000150000160000170000180000190000200000210000\"], [22, \"a100002000030000400005000060000700008000090000100000110000120000130000140000150000160000170000180000190000200000210000220000\"], [23, \"a100002000030000400005000060000700008000090000100000110000120000130000140000150000160000170000180000190000200000210000220000230000\"], [24, \"a100002000030000400005000060000700008000090000100000110000120000130000140000150000160000170000180000190000200000210000220000230000240000\"], [25, \"a100002000030000400005000060000700008000090000100000110000120000130000140000150000160000170000180000190000200000210000220000230000240000250000\"]]}, \"event\": \"step_line\", \"stack_to_render\": [], \"ordered_globals\": [\"x\", \"i\"], \"stdout\": \"\", \"func_name\": \"<module>\", \"globals\": {\"i\": 26, \"x\": [\"REF\", 1]}}, {\"line\": 3, \"heap\": {\"1\": [\"DICT\", [0, \"a\"], [1, \"a10000\"], [2, \"a1000020000\"], [3, \"a100002000030000\"], [4, \"a10000200003000040000\"], [5, \"a1000020000300004000050000\"], [6, \"a100002000030000400005000060000\"], [7, \"a10000200003000040000500006000070000\"], [8, \"a1000020000300004000050000600007000080000\"], [9, \"a100002000030000400005000060000700008000090000\"], [10, \"a100002000030000400005000060000700008000090000100000\"], [11, \"a100002000030000400005000060000700008000090000100000110000\"], [12, \"a100002000030000400005000060000700008000090000100000110000120000\"], [13, \"a100002000030000400005000060000700008000090000100000110000120000130000\"], [14, \"a100002000030000400005000060000700008000090000100000110000120000130000140000\"], [15, \"a100002000030000400005000060000700008000090000100000110000120000130000140000150000\"], [16, \"a100002000030000400005000060000700008000090000100000110000120000130000140000150000160000\"], [17, \"a100002000030000400005000060000700008000090000100000110000120000130000140000150000160000170000\"], [18, \"a100002000030000400005000060000700008000090000100000110000120000130000140000150000160000170000180000\"], [19, \"a100002000030000400005000060000700008000090000100000110000120000130000140000150000160000170000180000190000\"], [20, \"a100002000030000400005000060000700008000090000100000110000120000130000140000150000160000170000180000190000200000\"], [21, \"a100002000030000400005000060000700008000090000100000110000120000130000140000150000160000170000180000190000200000210000\"], [22, \"a100002000030000400005000060000700008000090000100000110000120000130000140000150000160000170000180000190000200000210000220000\"], [23, \"a100002000030000400005000060000700008000090000100000110000120000130000140000150000160000170000180000190000200000210000220000230000\"], [24, \"a100002000030000400005000060000700008000090000100000110000120000130000140000150000160000170000180000190000200000210000220000230000240000\"], [25, \"a100002000030000400005000060000700008000090000100000110000120000130000140000150000160000170000180000190000200000210000220000230000240000250000\"], [26, \"a100002000030000400005000060000700008000090000100000110000120000130000140000150000160000170000180000190000200000210000220000230000240000250000260000\"]]}, \"event\": \"step_line\", \"stack_to_render\": [], \"ordered_globals\": [\"x\", \"i\"], \"stdout\": \"\", \"func_name\": \"<module>\", \"globals\": {\"i\": 26, \"x\": [\"REF\", 1]}}, {\"line\": 4, \"heap\": {\"1\": [\"DICT\", [0, \"a\"], [1, \"a10000\"], [2, \"a1000020000\"], [3, \"a100002000030000\"], [4, \"a10000200003000040000\"], [5, \"a1000020000300004000050000\"], [6, \"a100002000030000400005000060000\"], [7, \"a10000200003000040000500006000070000\"], [8, \"a1000020000300004000050000600007000080000\"], [9, \"a100002000030000400005000060000700008000090000\"], [10, \"a100002000030000400005000060000700008000090000100000\"], [11, \"a100002000030000400005000060000700008000090000100000110000\"], [12, \"a100002000030000400005000060000700008000090000100000110000120000\"], [13, \"a100002000030000400005000060000700008000090000100000110000120000130000\"], [14, \"a100002000030000400005000060000700008000090000100000110000120000130000140000\"], [15, \"a100002000030000400005000060000700008000090000100000110000120000130000140000150000\"], [16, \"a100002000030000400005000060000700008000090000100000110000120000130000140000150000160000\"], [17, \"a100002000030000400005000060000700008000090000100000110000120000130000140000150000160000170000\"], [18, \"a100002000030000400005000060000700008000090000100000110000120000130000140000150000160000170000180000\"], [19, \"a100002000030000400005000060000700008000090000100000110000120000130000140000150000160000170000180000190000\"], [20, \"a100002000030000400005000060000700008000090000100000110000120000130000140000150000160000170000180000190000200000\"], [21, \"a100002000030000400005000060000700008000090000100000110000120000130000140000150000160000170000180000190000200000210000\"], [22, \"a100002000030000400005000060000700008000090000100000110000120000130000140000150000160000170000180000190000200000210000220000\"], [23, \"a100002000030000400005000060000700008000090000100000110000120000130000140000150000160000170000180000190000200000210000220000230000\"], [24, \"a100002000030000400005000060000700008000090000100000110000120000130000140000150000160000170000180000190000200000210000220000230000240000\"], [25, \"a100002000030000400005000060000700008000090000100000110000120000130000140000150000160000170000180000190000200000210000220000230000240000250000\"], [26, \"a100002000030000400005000060000700008000090000100000110000120000130000140000150000160000170000180000190000200000210000220000230000240000250000260000\"]]}, \"event\": \"step_line\", \"stack_to_render\": [], \"ordered_globals\": [\"x\", \"i\"], \"stdout\": \"\", \"func_name\": \"<module>\", \"globals\": {\"i\": 27, \"x\": [\"REF\", 1]}}, {\"line\": 3, \"heap\": {\"1\": [\"DICT\", [0, \"a\"], [1, \"a10000\"], [2, \"a1000020000\"], [3, \"a100002000030000\"], [4, \"a10000200003000040000\"], [5, \"a1000020000300004000050000\"], [6, \"a100002000030000400005000060000\"], [7, \"a10000200003000040000500006000070000\"], [8, \"a1000020000300004000050000600007000080000\"], [9, \"a100002000030000400005000060000700008000090000\"], [10, \"a100002000030000400005000060000700008000090000100000\"], [11, \"a100002000030000400005000060000700008000090000100000110000\"], [12, \"a100002000030000400005000060000700008000090000100000110000120000\"], [13, \"a100002000030000400005000060000700008000090000100000110000120000130000\"], [14, \"a100002000030000400005000060000700008000090000100000110000120000130000140000\"], [15, \"a100002000030000400005000060000700008000090000100000110000120000130000140000150000\"], [16, \"a100002000030000400005000060000700008000090000100000110000120000130000140000150000160000\"], [17, \"a100002000030000400005000060000700008000090000100000110000120000130000140000150000160000170000\"], [18, \"a100002000030000400005000060000700008000090000100000110000120000130000140000150000160000170000180000\"], [19, \"a100002000030000400005000060000700008000090000100000110000120000130000140000150000160000170000180000190000\"], [20, \"a100002000030000400005000060000700008000090000100000110000120000130000140000150000160000170000180000190000200000\"], [21, \"a100002000030000400005000060000700008000090000100000110000120000130000140000150000160000170000180000190000200000210000\"], [22, \"a100002000030000400005000060000700008000090000100000110000120000130000140000150000160000170000180000190000200000210000220000\"], [23, \"a100002000030000400005000060000700008000090000100000110000120000130000140000150000160000170000180000190000200000210000220000230000\"], [24, \"a100002000030000400005000060000700008000090000100000110000120000130000140000150000160000170000180000190000200000210000220000230000240000\"], [25, \"a100002000030000400005000060000700008000090000100000110000120000130000140000150000160000170000180000190000200000210000220000230000240000250000\"], [26, \"a100002000030000400005000060000700008000090000100000110000120000130000140000150000160000170000180000190000200000210000220000230000240000250000260000\"], [27, \"a100002000030000400005000060000700008000090000100000110000120000130000140000150000160000170000180000190000200000210000220000230000240000250000260000270000\"]]}, \"event\": \"step_line\", \"stack_to_render\": [], \"ordered_globals\": [\"x\", \"i\"], \"stdout\": \"\", \"func_name\": \"<module>\", \"globals\": {\"i\": 27, \"x\": [\"REF\", 1]}}, {\"line\": 4, \"heap\": {\"1\": [\"DICT\", [0, \"a\"], [1, \"a10000\"], [2, \"a1000020000\"], [3, \"a100002000030000\"], [4, \"a10000200003000040000\"], [5, \"a1000020000300004000050000\"], [6, \"a100002000030000400005000060000\"], [7, \"a10000200003000040000500006000070000\"], [8, \"a1000020000300004000050000600007000080000\"], [9, \"a100002000030000400005000060000700008000090000\"], [10, \"a100002000030000400005000060000700008000090000100000\"], [11, \"a100002000030000400005000060000700008000090000100000110000\"], [12, \"a100002000030000400005000060000700008000090000100000110000120000\"], [13, \"a100002000030000400005000060000700008000090000100000110000120000130000\"], [14, \"a100002000030000400005000060000700008000090000100000110000120000130000140000\"], [15, \"a100002000030000400005000060000700008000090000100000110000120000130000140000150000\"], [16, \"a100002000030000400005000060000700008000090000100000110000120000130000140000150000160000\"], [17, \"a100002000030000400005000060000700008000090000100000110000120000130000140000150000160000170000\"], [18, \"a100002000030000400005000060000700008000090000100000110000120000130000140000150000160000170000180000\"], [19, \"a100002000030000400005000060000700008000090000100000110000120000130000140000150000160000170000180000190000\"], [20, \"a100002000030000400005000060000700008000090000100000110000120000130000140000150000160000170000180000190000200000\"], [21, \"a100002000030000400005000060000700008000090000100000110000120000130000140000150000160000170000180000190000200000210000\"], [22, \"a100002000030000400005000060000700008000090000100000110000120000130000140000150000160000170000180000190000200000210000220000\"], [23, \"a100002000030000400005000060000700008000090000100000110000120000130000140000150000160000170000180000190000200000210000220000230000\"], [24, \"a100002000030000400005000060000700008000090000100000110000120000130000140000150000160000170000180000190000200000210000220000230000240000\"], [25, \"a100002000030000400005000060000700008000090000100000110000120000130000140000150000160000170000180000190000200000210000220000230000240000250000\"], [26, \"a100002000030000400005000060000700008000090000100000110000120000130000140000150000160000170000180000190000200000210000220000230000240000250000260000\"], [27, \"a100002000030000400005000060000700008000090000100000110000120000130000140000150000160000170000180000190000200000210000220000230000240000250000260000270000\"]]}, \"event\": \"step_line\", \"stack_to_render\": [], \"ordered_globals\": [\"x\", \"i\"], \"stdout\": \"\", \"func_name\": \"<module>\", \"globals\": {\"i\": 28, \"x\": [\"REF\", 1]}}, {\"line\": 3, \"heap\": {\"1\": [\"DICT\", [0, \"a\"], [1, \"a10000\"], [2, \"a1000020000\"], [3, \"a100002000030000\"], [4, \"a10000200003000040000\"], [5, \"a1000020000300004000050000\"], [6, \"a100002000030000400005000060000\"], [7, \"a10000200003000040000500006000070000\"], [8, \"a1000020000300004000050000600007000080000\"], [9, \"a100002000030000400005000060000700008000090000\"], [10, \"a100002000030000400005000060000700008000090000100000\"], [11, \"a100002000030000400005000060000700008000090000100000110000\"], [12, \"a100002000030000400005000060000700008000090000100000110000120000\"], [13, \"a100002000030000400005000060000700008000090000100000110000120000130000\"], [14, \"a100002000030000400005000060000700008000090000100000110000120000130000140000\"], [15, \"a100002000030000400005000060000700008000090000100000110000120000130000140000150000\"], [16, \"a100002000030000400005000060000700008000090000100000110000120000130000140000150000160000\"], [17, \"a100002000030000400005000060000700008000090000100000110000120000130000140000150000160000170000\"], [18, \"a100002000030000400005000060000700008000090000100000110000120000130000140000150000160000170000180000\"], [19, \"a100002000030000400005000060000700008000090000100000110000120000130000140000150000160000170000180000190000\"], [20, \"a100002000030000400005000060000700008000090000100000110000120000130000140000150000160000170000180000190000200000\"], [21, \"a100002000030000400005000060000700008000090000100000110000120000130000140000150000160000170000180000190000200000210000\"], [22, \"a100002000030000400005000060000700008000090000100000110000120000130000140000150000160000170000180000190000200000210000220000\"], [23, \"a100002000030000400005000060000700008000090000100000110000120000130000140000150000160000170000180000190000200000210000220000230000\"], [24, \"a100002000030000400005000060000700008000090000100000110000120000130000140000150000160000170000180000190000200000210000220000230000240000\"], [25, \"a100002000030000400005000060000700008000090000100000110000120000130000140000150000160000170000180000190000200000210000220000230000240000250000\"], [26, \"a100002000030000400005000060000700008000090000100000110000120000130000140000150000160000170000180000190000200000210000220000230000240000250000260000\"], [27, \"a100002000030000400005000060000700008000090000100000110000120000130000140000150000160000170000180000190000200000210000220000230000240000250000260000270000\"], [28, \"a100002000030000400005000060000700008000090000100000110000120000130000140000150000160000170000180000190000200000210000220000230000240000250000260000270000280000\"]]}, \"event\": \"step_line\", \"stack_to_render\": [], \"ordered_globals\": [\"x\", \"i\"], \"stdout\": \"\", \"func_name\": \"<module>\", \"globals\": {\"i\": 28, \"x\": [\"REF\", 1]}}, {\"line\": 4, \"heap\": {\"1\": [\"DICT\", [0, \"a\"], [1, \"a10000\"], [2, \"a1000020000\"], [3, \"a100002000030000\"], [4, \"a10000200003000040000\"], [5, \"a1000020000300004000050000\"], [6, \"a100002000030000400005000060000\"], [7, \"a10000200003000040000500006000070000\"], [8, \"a1000020000300004000050000600007000080000\"], [9, \"a100002000030000400005000060000700008000090000\"], [10, \"a100002000030000400005000060000700008000090000100000\"], [11, \"a100002000030000400005000060000700008000090000100000110000\"], [12, \"a100002000030000400005000060000700008000090000100000110000120000\"], [13, \"a100002000030000400005000060000700008000090000100000110000120000130000\"], [14, \"a100002000030000400005000060000700008000090000100000110000120000130000140000\"], [15, \"a100002000030000400005000060000700008000090000100000110000120000130000140000150000\"], [16, \"a100002000030000400005000060000700008000090000100000110000120000130000140000150000160000\"], [17, \"a100002000030000400005000060000700008000090000100000110000120000130000140000150000160000170000\"], [18, \"a100002000030000400005000060000700008000090000100000110000120000130000140000150000160000170000180000\"], [19, \"a100002000030000400005000060000700008000090000100000110000120000130000140000150000160000170000180000190000\"], [20, \"a100002000030000400005000060000700008000090000100000110000120000130000140000150000160000170000180000190000200000\"], [21, \"a100002000030000400005000060000700008000090000100000110000120000130000140000150000160000170000180000190000200000210000\"], [22, \"a100002000030000400005000060000700008000090000100000110000120000130000140000150000160000170000180000190000200000210000220000\"], [23, \"a100002000030000400005000060000700008000090000100000110000120000130000140000150000160000170000180000190000200000210000220000230000\"], [24, \"a100002000030000400005000060000700008000090000100000110000120000130000140000150000160000170000180000190000200000210000220000230000240000\"], [25, \"a100002000030000400005000060000700008000090000100000110000120000130000140000150000160000170000180000190000200000210000220000230000240000250000\"], [26, \"a100002000030000400005000060000700008000090000100000110000120000130000140000150000160000170000180000190000200000210000220000230000240000250000260000\"], [27, \"a100002000030000400005000060000700008000090000100000110000120000130000140000150000160000170000180000190000200000210000220000230000240000250000260000270000\"], [28, \"a100002000030000400005000060000700008000090000100000110000120000130000140000150000160000170000180000190000200000210000220000230000240000250000260000270000280000\"]]}, \"event\": \"step_line\", \"stack_to_render\": [], \"ordered_globals\": [\"x\", \"i\"], \"stdout\": \"\", \"func_name\": \"<module>\", \"globals\": {\"i\": 29, \"x\": [\"REF\", 1]}}, {\"line\": 3, \"heap\": {\"1\": [\"DICT\", [0, \"a\"], [1, \"a10000\"], [2, \"a1000020000\"], [3, \"a100002000030000\"], [4, \"a10000200003000040000\"], [5, \"a1000020000300004000050000\"], [6, \"a100002000030000400005000060000\"], [7, \"a10000200003000040000500006000070000\"], [8, \"a1000020000300004000050000600007000080000\"], [9, \"a100002000030000400005000060000700008000090000\"], [10, \"a100002000030000400005000060000700008000090000100000\"], [11, \"a100002000030000400005000060000700008000090000100000110000\"], [12, \"a100002000030000400005000060000700008000090000100000110000120000\"], [13, \"a100002000030000400005000060000700008000090000100000110000120000130000\"], [14, \"a100002000030000400005000060000700008000090000100000110000120000130000140000\"], [15, \"a100002000030000400005000060000700008000090000100000110000120000130000140000150000\"], [16, \"a100002000030000400005000060000700008000090000100000110000120000130000140000150000160000\"], [17, \"a100002000030000400005000060000700008000090000100000110000120000130000140000150000160000170000\"], [18, \"a100002000030000400005000060000700008000090000100000110000120000130000140000150000160000170000180000\"], [19, \"a100002000030000400005000060000700008000090000100000110000120000130000140000150000160000170000180000190000\"], [20, \"a100002000030000400005000060000700008000090000100000110000120000130000140000150000160000170000180000190000200000\"], [21, \"a100002000030000400005000060000700008000090000100000110000120000130000140000150000160000170000180000190000200000210000\"], [22, \"a100002000030000400005000060000700008000090000100000110000120000130000140000150000160000170000180000190000200000210000220000\"], [23, \"a100002000030000400005000060000700008000090000100000110000120000130000140000150000160000170000180000190000200000210000220000230000\"], [24, \"a100002000030000400005000060000700008000090000100000110000120000130000140000150000160000170000180000190000200000210000220000230000240000\"], [25, \"a100002000030000400005000060000700008000090000100000110000120000130000140000150000160000170000180000190000200000210000220000230000240000250000\"], [26, \"a100002000030000400005000060000700008000090000100000110000120000130000140000150000160000170000180000190000200000210000220000230000240000250000260000\"], [27, \"a100002000030000400005000060000700008000090000100000110000120000130000140000150000160000170000180000190000200000210000220000230000240000250000260000270000\"], [28, \"a100002000030000400005000060000700008000090000100000110000120000130000140000150000160000170000180000190000200000210000220000230000240000250000260000270000280000\"], [29, \"a100002000030000400005000060000700008000090000100000110000120000130000140000150000160000170000180000190000200000210000220000230000240000250000260000270000280000290000\"]]}, \"event\": \"step_line\", \"stack_to_render\": [], \"ordered_globals\": [\"x\", \"i\"], \"stdout\": \"\", \"func_name\": \"<module>\", \"globals\": {\"i\": 29, \"x\": [\"REF\", 1]}}, {\"line\": 3, \"heap\": {\"1\": [\"DICT\", [0, \"a\"], [1, \"a10000\"], [2, \"a1000020000\"], [3, \"a100002000030000\"], [4, \"a10000200003000040000\"], [5, \"a1000020000300004000050000\"], [6, \"a100002000030000400005000060000\"], [7, \"a10000200003000040000500006000070000\"], [8, \"a1000020000300004000050000600007000080000\"], [9, \"a100002000030000400005000060000700008000090000\"], [10, \"a100002000030000400005000060000700008000090000100000\"], [11, \"a100002000030000400005000060000700008000090000100000110000\"], [12, \"a100002000030000400005000060000700008000090000100000110000120000\"], [13, \"a100002000030000400005000060000700008000090000100000110000120000130000\"], [14, \"a100002000030000400005000060000700008000090000100000110000120000130000140000\"], [15, \"a100002000030000400005000060000700008000090000100000110000120000130000140000150000\"], [16, \"a100002000030000400005000060000700008000090000100000110000120000130000140000150000160000\"], [17, \"a100002000030000400005000060000700008000090000100000110000120000130000140000150000160000170000\"], [18, \"a100002000030000400005000060000700008000090000100000110000120000130000140000150000160000170000180000\"], [19, \"a100002000030000400005000060000700008000090000100000110000120000130000140000150000160000170000180000190000\"], [20, \"a100002000030000400005000060000700008000090000100000110000120000130000140000150000160000170000180000190000200000\"], [21, \"a100002000030000400005000060000700008000090000100000110000120000130000140000150000160000170000180000190000200000210000\"], [22, \"a100002000030000400005000060000700008000090000100000110000120000130000140000150000160000170000180000190000200000210000220000\"], [23, \"a100002000030000400005000060000700008000090000100000110000120000130000140000150000160000170000180000190000200000210000220000230000\"], [24, \"a100002000030000400005000060000700008000090000100000110000120000130000140000150000160000170000180000190000200000210000220000230000240000\"], [25, \"a100002000030000400005000060000700008000090000100000110000120000130000140000150000160000170000180000190000200000210000220000230000240000250000\"], [26, \"a100002000030000400005000060000700008000090000100000110000120000130000140000150000160000170000180000190000200000210000220000230000240000250000260000\"], [27, \"a100002000030000400005000060000700008000090000100000110000120000130000140000150000160000170000180000190000200000210000220000230000240000250000260000270000\"], [28, \"a100002000030000400005000060000700008000090000100000110000120000130000140000150000160000170000180000190000200000210000220000230000240000250000260000270000280000\"], [29, \"a100002000030000400005000060000700008000090000100000110000120000130000140000150000160000170000180000190000200000210000220000230000240000250000260000270000280000290000\"]]}, \"event\": \"return\", \"stack_to_render\": [], \"ordered_globals\": [\"x\", \"i\"], \"stdout\": \"\", \"func_name\": \"<module>\", \"globals\": {\"i\": 29, \"x\": [\"REF\", 1]}}], \"code\": \" \\nx = {0:'a'}\\nfor i in range(1,30):\\n    x[i] = x[i-1]+str(i*10000)\"}\n",
       "        </script>\n",
       "        <div id=\"jmc3bf891b-0aca-435b-aec5-f4827d658500\" class=\"pytutorVisualizer\"> </div>\n",
       " \n",
       "        <style>\n",
       "        .vizLayoutTd {\n",
       "            background-color: #fff !important;\n",
       "        }\n",
       "                            \n",
       "        #pyStdout {\n",
       "            min-height:20px;\n",
       "        }\n",
       "\n",
       "        /* 'Edit this code' link, hiding because replaces browser tab !!!*/\n",
       "        #editCodeLinkDiv {\n",
       "            display:none;  \n",
       "        }\n",
       "        </style>   \n",
       "                            \n",
       "        <script>\n",
       "        (function(){\n",
       "\n",
       "            var trace = JSON.parse(document.getElementById('json-jmc3bf891b-0aca-435b-aec5-f4827d658500').innerHTML);                                        \n",
       "            // NOTE 1: id without #\n",
       "            // NOTE 2 - maybe there are more predictable ways, but this will work anyway\n",
       "            //        - id should be number\n",
       "            visualizerIdOverride = Math.trunc(Math.random() * 100000000000)\n",
       "            addVisualizerToPage(trace, 'jmc3bf891b-0aca-435b-aec5-f4827d658500',{'embeddedMode' : false,\n",
       "                                             'visualizerIdOverride':visualizerIdOverride})  \n",
       "            \n",
       "            \n",
       "            // set overflow for pytuts - need to do in python as css \n",
       "            // does not allow parent selection\n",
       "            var pytuts = $('.pytutorVisualizer')\n",
       "            pytuts.closest('div.output_html.rendered_html.output_result')\n",
       "                    .css('overflow-x', 'visible')\n",
       "        \n",
       "            //pytuts.closest('div.output_html.rendered_html.output_result')\n",
       "            //      .css('background-color','red')                \n",
       "            \n",
       "        })()\n",
       "        </script>\n",
       "                \n",
       "                "
      ],
      "text/plain": [
       "<IPython.core.display.HTML object>"
      ]
     },
     "execution_count": 8,
     "metadata": {},
     "output_type": "execute_result"
    }
   ],
   "source": [
    "x = {0:'a'}\n",
    "for i in range(1,30):\n",
    "    x[i] = x[i-1]+str(i*10000)\n",
    "jupman.pytut()"
   ]
  },
  {
   "cell_type": "markdown",
   "metadata": {},
   "source": [
    "**jupman.pytut cross arrows**: With multiple visualizations, arrows shouldn't cross from one to the other even if underlying script is loaded multiple times (relates to visualizerIdOverride)"
   ]
  },
  {
   "cell_type": "code",
   "execution_count": 9,
   "metadata": {},
   "outputs": [
    {
     "data": {
      "text/html": [
       "\n",
       "        <script src=\"_static/js/pytutor-embed.bundle.min.js\" type=\"application/javascript\"></script>\n",
       "     \n",
       "        <script id=\"json-jm9a1d3984-8456-4ddb-8dd4-2d669321c6e7\" type=\"application/json\" >\n",
       "            {\"trace\": [{\"line\": 2, \"heap\": {}, \"event\": \"step_line\", \"stack_to_render\": [], \"ordered_globals\": [], \"stdout\": \"\", \"func_name\": \"<module>\", \"globals\": {}}, {\"line\": 2, \"heap\": {\"1\": [\"LIST\", 1, 2, 3]}, \"event\": \"return\", \"stack_to_render\": [], \"ordered_globals\": [\"x\"], \"stdout\": \"\", \"func_name\": \"<module>\", \"globals\": {\"x\": [\"REF\", 1]}}], \"code\": \" \\nx = [1,2,3]\"}\n",
       "        </script>\n",
       "        <div id=\"jm9a1d3984-8456-4ddb-8dd4-2d669321c6e7\" class=\"pytutorVisualizer\"> </div>\n",
       " \n",
       "        <style>\n",
       "        .vizLayoutTd {\n",
       "            background-color: #fff !important;\n",
       "        }\n",
       "                            \n",
       "        #pyStdout {\n",
       "            min-height:20px;\n",
       "        }\n",
       "\n",
       "        /* 'Edit this code' link, hiding because replaces browser tab !!!*/\n",
       "        #editCodeLinkDiv {\n",
       "            display:none;  \n",
       "        }\n",
       "        </style>   \n",
       "                            \n",
       "        <script>\n",
       "        (function(){\n",
       "\n",
       "            var trace = JSON.parse(document.getElementById('json-jm9a1d3984-8456-4ddb-8dd4-2d669321c6e7').innerHTML);                                        \n",
       "            // NOTE 1: id without #\n",
       "            // NOTE 2 - maybe there are more predictable ways, but this will work anyway\n",
       "            //        - id should be number\n",
       "            visualizerIdOverride = Math.trunc(Math.random() * 100000000000)\n",
       "            addVisualizerToPage(trace, 'jm9a1d3984-8456-4ddb-8dd4-2d669321c6e7',{'embeddedMode' : false,\n",
       "                                             'visualizerIdOverride':visualizerIdOverride})  \n",
       "            \n",
       "            \n",
       "            // set overflow for pytuts - need to do in python as css \n",
       "            // does not allow parent selection\n",
       "            var pytuts = $('.pytutorVisualizer')\n",
       "            pytuts.closest('div.output_html.rendered_html.output_result')\n",
       "                    .css('overflow-x', 'visible')\n",
       "        \n",
       "            //pytuts.closest('div.output_html.rendered_html.output_result')\n",
       "            //      .css('background-color','red')                \n",
       "            \n",
       "        })()\n",
       "        </script>\n",
       "                \n",
       "                "
      ],
      "text/plain": [
       "<IPython.core.display.HTML object>"
      ]
     },
     "execution_count": 9,
     "metadata": {},
     "output_type": "execute_result"
    }
   ],
   "source": [
    "x = [1,2,3]\n",
    "\n",
    "\n",
    "jupman.pytut()"
   ]
  },
  {
   "cell_type": "markdown",
   "metadata": {},
   "source": [
    "**jupman.pytut print output**: With only one line of print, Print output panel shouldn't be too short:"
   ]
  },
  {
   "cell_type": "code",
   "execution_count": 10,
   "metadata": {
    "scrolled": true
   },
   "outputs": [
    {
     "name": "stdout",
     "output_type": "stream",
     "text": [
      "hello\n"
     ]
    },
    {
     "data": {
      "text/html": [
       "\n",
       "        <script src=\"_static/js/pytutor-embed.bundle.min.js\" type=\"application/javascript\"></script>\n",
       "     \n",
       "        <script id=\"json-jm72ef5445-10e7-4ddf-85a1-f829a9e1622b\" type=\"application/json\" >\n",
       "            {\"trace\": [{\"line\": 2, \"heap\": {}, \"event\": \"step_line\", \"stack_to_render\": [], \"ordered_globals\": [], \"stdout\": \"\", \"func_name\": \"<module>\", \"globals\": {}}, {\"line\": 2, \"heap\": {}, \"event\": \"return\", \"stack_to_render\": [], \"ordered_globals\": [], \"stdout\": \"hello\\n\", \"func_name\": \"<module>\", \"globals\": {}}], \"code\": \" \\nprint(\\\"hello\\\")\"}\n",
       "        </script>\n",
       "        <div id=\"jm72ef5445-10e7-4ddf-85a1-f829a9e1622b\" class=\"pytutorVisualizer\"> </div>\n",
       " \n",
       "        <style>\n",
       "        .vizLayoutTd {\n",
       "            background-color: #fff !important;\n",
       "        }\n",
       "                            \n",
       "        #pyStdout {\n",
       "            min-height:20px;\n",
       "        }\n",
       "\n",
       "        /* 'Edit this code' link, hiding because replaces browser tab !!!*/\n",
       "        #editCodeLinkDiv {\n",
       "            display:none;  \n",
       "        }\n",
       "        </style>   \n",
       "                            \n",
       "        <script>\n",
       "        (function(){\n",
       "\n",
       "            var trace = JSON.parse(document.getElementById('json-jm72ef5445-10e7-4ddf-85a1-f829a9e1622b').innerHTML);                                        \n",
       "            // NOTE 1: id without #\n",
       "            // NOTE 2 - maybe there are more predictable ways, but this will work anyway\n",
       "            //        - id should be number\n",
       "            visualizerIdOverride = Math.trunc(Math.random() * 100000000000)\n",
       "            addVisualizerToPage(trace, 'jm72ef5445-10e7-4ddf-85a1-f829a9e1622b',{'embeddedMode' : false,\n",
       "                                             'visualizerIdOverride':visualizerIdOverride})  \n",
       "            \n",
       "            \n",
       "            // set overflow for pytuts - need to do in python as css \n",
       "            // does not allow parent selection\n",
       "            var pytuts = $('.pytutorVisualizer')\n",
       "            pytuts.closest('div.output_html.rendered_html.output_result')\n",
       "                    .css('overflow-x', 'visible')\n",
       "        \n",
       "            //pytuts.closest('div.output_html.rendered_html.output_result')\n",
       "            //      .css('background-color','red')                \n",
       "            \n",
       "        })()\n",
       "        </script>\n",
       "                \n",
       "                "
      ],
      "text/plain": [
       "<IPython.core.display.HTML object>"
      ]
     },
     "execution_count": 10,
     "metadata": {},
     "output_type": "execute_result"
    }
   ],
   "source": [
    "print(\"hello\")\n",
    "\n",
    "jupman.pytut()"
   ]
  },
  {
   "cell_type": "code",
   "execution_count": 11,
   "metadata": {},
   "outputs": [
    {
     "data": {
      "text/html": [
       "\n",
       "        <script src=\"_static/js/pytutor-embed.bundle.min.js\" type=\"application/javascript\"></script>\n",
       "     \n",
       "        <script id=\"json-jm79cc7e47-d9a9-4092-8363-feca810451ce\" type=\"application/json\" >\n",
       "            {\"trace\": [{\"line\": 2, \"heap\": {}, \"event\": \"step_line\", \"stack_to_render\": [], \"ordered_globals\": [], \"stdout\": \"\", \"func_name\": \"<module>\", \"globals\": {}}, {\"line\": 2, \"heap\": {\"1\": [\"LIST\", 1, 2, 3, 4]}, \"event\": \"return\", \"stack_to_render\": [], \"ordered_globals\": [\"y\"], \"stdout\": \"\", \"func_name\": \"<module>\", \"globals\": {\"y\": [\"REF\", 1]}}], \"code\": \" \\ny = [1,2,3,4]\"}\n",
       "        </script>\n",
       "        <div id=\"jm79cc7e47-d9a9-4092-8363-feca810451ce\" class=\"pytutorVisualizer\"> </div>\n",
       " \n",
       "        <style>\n",
       "        .vizLayoutTd {\n",
       "            background-color: #fff !important;\n",
       "        }\n",
       "                            \n",
       "        #pyStdout {\n",
       "            min-height:20px;\n",
       "        }\n",
       "\n",
       "        /* 'Edit this code' link, hiding because replaces browser tab !!!*/\n",
       "        #editCodeLinkDiv {\n",
       "            display:none;  \n",
       "        }\n",
       "        </style>   \n",
       "                            \n",
       "        <script>\n",
       "        (function(){\n",
       "\n",
       "            var trace = JSON.parse(document.getElementById('json-jm79cc7e47-d9a9-4092-8363-feca810451ce').innerHTML);                                        \n",
       "            // NOTE 1: id without #\n",
       "            // NOTE 2 - maybe there are more predictable ways, but this will work anyway\n",
       "            //        - id should be number\n",
       "            visualizerIdOverride = Math.trunc(Math.random() * 100000000000)\n",
       "            addVisualizerToPage(trace, 'jm79cc7e47-d9a9-4092-8363-feca810451ce',{'embeddedMode' : false,\n",
       "                                             'visualizerIdOverride':visualizerIdOverride})  \n",
       "            \n",
       "            \n",
       "            // set overflow for pytuts - need to do in python as css \n",
       "            // does not allow parent selection\n",
       "            var pytuts = $('.pytutorVisualizer')\n",
       "            pytuts.closest('div.output_html.rendered_html.output_result')\n",
       "                    .css('overflow-x', 'visible')\n",
       "        \n",
       "            //pytuts.closest('div.output_html.rendered_html.output_result')\n",
       "            //      .css('background-color','red')                \n",
       "            \n",
       "        })()\n",
       "        </script>\n",
       "                \n",
       "                "
      ],
      "text/plain": [
       "<IPython.core.display.HTML object>"
      ]
     },
     "execution_count": 11,
     "metadata": {},
     "output_type": "execute_result"
    }
   ],
   "source": [
    "y = [1,2,3,4]\n",
    "\n",
    "\n",
    "jupman.pytut()"
   ]
  },
  {
   "cell_type": "markdown",
   "metadata": {},
   "source": [
    "### HTML magics\n",
    "\n",
    "Another option is to directly paste Python Tutor iframe in the cells, and use Jupyter `%%HTML` magics command. \n",
    "\n",
    "HTML should be available both in notebook and website - of course, requires an internet connection.\n",
    "\n",
    "Beware: you need the HTTP**S** !"
   ]
  },
  {
   "cell_type": "code",
   "execution_count": 12,
   "metadata": {
    "raw_mimetype": "text/html"
   },
   "outputs": [
    {
     "data": {
      "text/html": [
       "\n",
       "<iframe width=\"800\" height=\"300\" frameborder=\"0\"\n",
       "        src=\"https://pythontutor.com/iframe-embed.html#code=x+%3D+5%0Ay+%3D+10%0Az+%3D+x+%2B+y&cumulative=false&py=2&curInstr=3\">\n",
       "</iframe>"
      ],
      "text/plain": [
       "<IPython.core.display.HTML object>"
      ]
     },
     "metadata": {},
     "output_type": "display_data"
    }
   ],
   "source": [
    "%%HTML\n",
    "\n",
    "<iframe width=\"800\" height=\"300\" frameborder=\"0\"\n",
    "        src=\"https://pythontutor.com/iframe-embed.html#code=x+%3D+5%0Ay+%3D+10%0Az+%3D+x+%2B+y&cumulative=false&py=2&curInstr=3\">\n",
    "</iframe>"
   ]
  },
  {
   "cell_type": "markdown",
   "metadata": {},
   "source": [
    "### NBTutor"
   ]
  },
  {
   "cell_type": "markdown",
   "metadata": {},
   "source": [
    "To show Python Tutor in notebooks, there is already a jupyter extension called [NBTutor](https://github.com/lgpage/nbtutor) , afterwards you can use magic `%%nbtutor` to show the interpreter.\n",
    "\n",
    "Unfortunately, it doesn't show in the generated HTML :-/\n"
   ]
  },
  {
   "cell_type": "code",
   "execution_count": 13,
   "metadata": {},
   "outputs": [],
   "source": [
    "%reload_ext nbtutor"
   ]
  },
  {
   "cell_type": "code",
   "execution_count": 14,
   "metadata": {},
   "outputs": [
    {
     "name": "stdout",
     "output_type": "stream",
     "text": [
      "ciao\n",
      "ciao\n",
      "ciao\n"
     ]
    },
    {
     "data": {
      "text/plain": [
       "12"
      ]
     },
     "execution_count": 14,
     "metadata": {},
     "output_type": "execute_result"
    }
   ],
   "source": [
    "%%nbtutor\n",
    "\n",
    "for x in range(1,4):\n",
    "    print(\"ciao\")\n",
    "x=5\n",
    "y=7\n",
    "x +y\n"
   ]
  },
  {
   "cell_type": "markdown",
   "metadata": {},
   "source": [
    "## Stripping answers\n",
    "\n",
    "For stripping answers examples, see [jupyter-intro/jupyter-intro-sol](jupyter-intro/jupyter-intro-sol.ipynb). For explanation, see [usage](usage.ipynb#Tags-to-strip)"
   ]
  },
  {
   "cell_type": "code",
   "execution_count": null,
   "metadata": {},
   "outputs": [],
   "source": []
  },
  {
   "cell_type": "markdown",
   "metadata": {},
   "source": [
    "## Formatting problems"
   ]
  },
  {
   "cell_type": "markdown",
   "metadata": {},
   "source": [
    "### Very large input\n",
    "\n",
    "In Jupyter: default behaviour, show scrollbar\n",
    "\n",
    "On the website: should expand in horizontal as much as it wants, the rationale is that for input code since it may be printed to PDF you should always manually put line breaks."
   ]
  },
  {
   "cell_type": "code",
   "execution_count": 15,
   "metadata": {},
   "outputs": [],
   "source": [
    "# line with an exceedingly long comment line with an exceedingly long comment line with an exceedingly long comment line with an exceedingly long comment line with an exceedingly long comment line with an exceedingly long comment\n",
    "\n",
    "# line with an an out-of-this-world long comment line with an an out-of-this-world long comment line with an an out-of-this-world long comment line with an an out-of-this-world long comment line with an an out-of-this-world long comment line with an an out-of-this-world long comment line with an an out-of-this-world long comment line with an an out-of-this-world long comment line with an an out-of-this-world long comment line with an an out-of-this-world long comment line with an an out-of-this-world long comment line with an an out-of-this-world long comment line with an an out-of-this-world long comment line with an an out-of-this-world long comment line with an an out-of-this-world long comment line with an an out-of-this-world long comment line with an an out-of-this-world long comment line with an an out-of-this-world long comment line with an an out-of-this-world long comment line with an an out-of-this-world long comment line with an an out-of-this-world long comment line with an an out-of-this-world long comment line with an an out-of-this-world long comment line with an an out-of-this-world long comment line with an an out-of-this-world long comment line with an an out-of-this-world long comment line with an an out-of-this-world long comment line with an an out-of-this-world long comment line with an an out-of-this-world long comment line with an an out-of-this-world long comment line with an an out-of-this-world long comment line with an an out-of-this-world long comment line with an an out-of-this-world long comment line with an an out-of-this-world long comment line with an an out-of-this-world long comment line with an an out-of-this-world long comment line with an an out-of-this-world long comment line with an an out-of-this-world long comment line with an an out-of-this-world long comment line with an an out-of-this-world long comment line with an an out-of-this-world long comment line with an an out-of-this-world long comment line with an an out-of-this-world long comment line with an an out-of-this-world long comment line with an an out-of-this-world long comment line with an an out-of-this-world long comment line with an an out-of-this-world long comment line with an an out-of-this-world long comment line with an an out-of-this-world long comment line with an an out-of-this-world long comment line with an an out-of-this-world long comment line with an an out-of-this-world long comment line with an an out-of-this-world long comment line with an an out-of-this-world long comment line with an an out-of-this-world long comment line with an an out-of-this-world long comment line with an an out-of-this-world long comment line with an an out-of-this-world long comment line with an an out-of-this-world long comment line with an an out-of-this-world long comment line with an an out-of-this-world long comment line with an an out-of-this-world long comment line with an an out-of-this-world long comment line with an an out-of-this-world long comment line with an an out-of-this-world long comment line with an an out-of-this-world long comment line with an an out-of-this-world long comment line with an an out-of-this-world long comment line with an an out-of-this-world long comment line with an an out-of-this-world long comment line with an an out-of-this-world long comment line with an an out-of-this-world long comment line with an an out-of-this-world long comment line with an an out-of-this-world long comment line with an an out-of-this-world long comment line with an an out-of-this-world long comment line with an an out-of-this-world long comment line with an an out-of-this-world long comment line with an an out-of-this-world long comment line with an an out-of-this-world long comment line with an an out-of-this-world long comment line with an an out-of-this-world long comment line with an an out-of-this-world long comment line with an an out-of-this-world long comment line with an an out-of-this-world long comment line with an an out-of-this-world long comment line with an an out-of-this-world long comment line with an an out-of-this-world long comment line with an an out-of-this-world long comment line with an an out-of-this-world long comment line with an an out-of-this-world long comment line with an an out-of-this-world long comment line with an an out-of-this-world long comment line with an an out-of-this-world long comment line with an an out-of-this-world long comment line with an an out-of-this-world long comment line with an an out-of-this-world long comment line with an an out-of-this-world long comment line with an an out-of-this-world long comment line with an an out-of-this-world long comment line with an an out-of-this-world long comment line with an an out-of-this-world long comment line with an an out-of-this-world long comment line with an an out-of-this-world long comment line with an an out-of-this-world long comment line with an an out-of-this-world long comment line with an an out-of-this-world long comment line with an an out-of-this-world long comment\n",
    "\n"
   ]
  },
  {
   "cell_type": "markdown",
   "metadata": {},
   "source": [
    "**Very long HTML** (and long code line)\n",
    "\n",
    "Should expand in vertical as much as it wants."
   ]
  },
  {
   "cell_type": "code",
   "execution_count": 16,
   "metadata": {},
   "outputs": [
    {
     "data": {
      "text/html": [
       "\n",
       "<iframe width=\"100%\" height=\"1300px\" frameBorder=\"0\" src=\"https://umap.openstreetmap.fr/en/map/mia-mappa-agritur_182055?scaleControl=false&miniMap=false&scrollWheelZoom=false&zoomControl=true&allowEdit=false&moreControl=true&searchControl=null&tilelayersControl=null&embedControl=null&datalayersControl=true&onLoadPanel=undefined&captionBar=false#11/46.0966/11.4024\"></iframe><p><a href=\"http://umap.openstreetmap.fr/en/map/mia-mappa-agritur_182055\">See full screen</a></p>\n"
      ],
      "text/plain": [
       "<IPython.core.display.HTML object>"
      ]
     },
     "metadata": {},
     "output_type": "display_data"
    }
   ],
   "source": [
    "%%HTML\n",
    "\n",
    "<iframe width=\"100%\" height=\"1300px\" frameBorder=\"0\" src=\"https://umap.openstreetmap.fr/en/map/mia-mappa-agritur_182055?scaleControl=false&miniMap=false&scrollWheelZoom=false&zoomControl=true&allowEdit=false&moreControl=true&searchControl=null&tilelayersControl=null&embedControl=null&datalayersControl=true&onLoadPanel=undefined&captionBar=false#11/46.0966/11.4024\"></iframe><p><a href=\"http://umap.openstreetmap.fr/en/map/mia-mappa-agritur_182055\">See full screen</a></p>\n",
    "\n"
   ]
  },
  {
   "cell_type": "markdown",
   "metadata": {},
   "source": [
    "### Very long output\n",
    "\n",
    "In Jupyter: by clicking, you can collapse\n",
    "\n",
    "On the website: a scrollbar should appear"
   ]
  },
  {
   "cell_type": "code",
   "execution_count": 1,
   "metadata": {
    "scrolled": false
   },
   "outputs": [
    {
     "name": "stdout",
     "output_type": "stream",
     "text": [
      "long output ... 0\n",
      "long output ... 1\n",
      "long output ... 2\n",
      "long output ... 3\n",
      "long output ... 4\n",
      "long output ... 5\n",
      "long output ... 6\n",
      "long output ... 7\n",
      "long output ... 8\n",
      "long output ... 9\n",
      "long output ... 10\n",
      "long output ... 11\n",
      "long output ... 12\n",
      "long output ... 13\n",
      "long output ... 14\n",
      "long output ... 15\n",
      "long output ... 16\n",
      "long output ... 17\n",
      "long output ... 18\n",
      "long output ... 19\n",
      "long output ... 20\n",
      "long output ... 21\n",
      "long output ... 22\n",
      "long output ... 23\n",
      "long output ... 24\n",
      "long output ... 25\n",
      "long output ... 26\n",
      "long output ... 27\n",
      "long output ... 28\n",
      "long output ... 29\n",
      "long output ... 30\n",
      "long output ... 31\n",
      "long output ... 32\n",
      "long output ... 33\n",
      "long output ... 34\n",
      "long output ... 35\n",
      "long output ... 36\n",
      "long output ... 37\n",
      "long output ... 38\n",
      "long output ... 39\n",
      "long output ... 40\n",
      "long output ... 41\n",
      "long output ... 42\n",
      "long output ... 43\n",
      "long output ... 44\n",
      "long output ... 45\n",
      "long output ... 46\n",
      "long output ... 47\n",
      "long output ... 48\n",
      "long output ... 49\n",
      "long output ... 50\n",
      "long output ... 51\n",
      "long output ... 52\n",
      "long output ... 53\n",
      "long output ... 54\n",
      "long output ... 55\n",
      "long output ... 56\n",
      "long output ... 57\n",
      "long output ... 58\n",
      "long output ... 59\n",
      "long output ... 60\n",
      "long output ... 61\n",
      "long output ... 62\n",
      "long output ... 63\n",
      "long output ... 64\n",
      "long output ... 65\n",
      "long output ... 66\n",
      "long output ... 67\n",
      "long output ... 68\n",
      "long output ... 69\n",
      "long output ... 70\n",
      "long output ... 71\n",
      "long output ... 72\n",
      "long output ... 73\n",
      "long output ... 74\n",
      "long output ... 75\n",
      "long output ... 76\n",
      "long output ... 77\n",
      "long output ... 78\n",
      "long output ... 79\n",
      "long output ... 80\n",
      "long output ... 81\n",
      "long output ... 82\n",
      "long output ... 83\n",
      "long output ... 84\n",
      "long output ... 85\n",
      "long output ... 86\n",
      "long output ... 87\n",
      "long output ... 88\n",
      "long output ... 89\n",
      "long output ... 90\n",
      "long output ... 91\n",
      "long output ... 92\n",
      "long output ... 93\n",
      "long output ... 94\n",
      "long output ... 95\n",
      "long output ... 96\n",
      "long output ... 97\n",
      "long output ... 98\n",
      "long output ... 99\n",
      "long output ... 100\n",
      "long output ... 101\n",
      "long output ... 102\n",
      "long output ... 103\n",
      "long output ... 104\n",
      "long output ... 105\n",
      "long output ... 106\n",
      "long output ... 107\n",
      "long output ... 108\n",
      "long output ... 109\n",
      "long output ... 110\n",
      "long output ... 111\n",
      "long output ... 112\n",
      "long output ... 113\n",
      "long output ... 114\n",
      "long output ... 115\n",
      "long output ... 116\n",
      "long output ... 117\n",
      "long output ... 118\n",
      "long output ... 119\n",
      "long output ... 120\n",
      "long output ... 121\n",
      "long output ... 122\n",
      "long output ... 123\n",
      "long output ... 124\n",
      "long output ... 125\n",
      "long output ... 126\n",
      "long output ... 127\n",
      "long output ... 128\n",
      "long output ... 129\n",
      "long output ... 130\n",
      "long output ... 131\n",
      "long output ... 132\n",
      "long output ... 133\n",
      "long output ... 134\n",
      "long output ... 135\n",
      "long output ... 136\n",
      "long output ... 137\n",
      "long output ... 138\n",
      "long output ... 139\n",
      "long output ... 140\n",
      "long output ... 141\n",
      "long output ... 142\n",
      "long output ... 143\n",
      "long output ... 144\n",
      "long output ... 145\n",
      "long output ... 146\n",
      "long output ... 147\n",
      "long output ... 148\n",
      "long output ... 149\n"
     ]
    }
   ],
   "source": [
    "for x in range(150):\n",
    "    print('long output ...', x)"
   ]
  },
  {
   "cell_type": "code",
   "execution_count": null,
   "metadata": {},
   "outputs": [],
   "source": []
  }
 ],
 "metadata": {
  "celltoolbar": "Visualize",
  "kernelspec": {
   "display_name": "Python 3",
   "language": "python",
   "name": "python3"
  },
  "language_info": {
   "codemirror_mode": {
    "name": "ipython",
    "version": 3
   },
   "file_extension": ".py",
   "mimetype": "text/x-python",
   "name": "python",
   "nbconvert_exporter": "python",
   "pygments_lexer": "ipython3",
   "version": "3.5.2"
  },
  "toc": {
   "base_numbering": 1,
   "nav_menu": {},
   "number_sections": false,
   "sideBar": true,
   "skip_h1_title": false,
   "title_cell": "Table of Contents",
   "title_sidebar": "Contents",
   "toc_cell": false,
   "toc_position": {
    "height": "calc(100% - 180px)",
    "left": "10px",
    "top": "150px",
    "width": "311px"
   },
   "toc_section_display": true,
   "toc_window_display": true
  }
 },
 "nbformat": 4,
 "nbformat_minor": 2
}
