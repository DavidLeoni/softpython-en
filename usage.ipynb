{
 "cells": [
  {
   "cell_type": "code",
   "execution_count": 1,
   "metadata": {
    "nbsphinx": "hidden"
   },
   "outputs": [],
   "source": [
    "import jupman"
   ]
  },
  {
   "cell_type": "markdown",
   "metadata": {},
   "source": [
    "\n",
    "# Jupman Usage\n",
    "\n",
    "Jupyter Python 3 worksheets build system and exam manager. See Jupman manual at [jupman.readthedocs.io](http://jupman.readthedocs.io)\n",
    "\n",
    "Jupman uses [NbSphinx](http://nbsphinx.readthedocs.io/) and either [ReadTheDocs](https://readthedocs.org) or [Github Actions](https://github.com/features/actions)"
   ]
  },
  {
   "cell_type": "markdown",
   "metadata": {},
   "source": [
    "## Installation\n",
    "\n",
    "(Instructions are for Ubuntu, on Windows may differ)\n",
    "\n",
    "First, on Github, fork as a template [jupman project](https://github.com/DavidLeoni/jupman) to create yours, for example `my-project`.\n",
    "\n",
    "Then, on your computer, clone the `my-project` from Github \n",
    "\n",
    "You can choose to build either on:\n",
    "\n",
    "- ReadTheDocs\n",
    "- Github Actions\n",
    "- locally with plain Sphinx\n",
    "- locally with [RTD Docker](https://github.com/DavidLeoni/readthedocs-to-actions)\n",
    "\n",
    "(Note Jupman itself is building on both ReadTheDocs and Github Actions only for testing purposes, one is enough)"
   ]
  },
  {
   "cell_type": "markdown",
   "metadata": {},
   "source": [
    "### To build with ReadTheDocs:\n",
    "\n",
    "**IMPORTANT: choose a name which is NOT already on** [ReadTheDocs](http://readthedocs.org)\n",
    "\n",
    "Create a [ReadTheDocs account](http://readthedocs.org) **using the same name as in Github**\n",
    "so the address in readthedocs will be something like _my-project.readthedocs.org_.\n",
    "\n",
    "* Use ReadTheDocs panels to link the project to your Github repository.\n",
    "* In _Admin-> Advanced settings panel_, set:\n",
    "    * _Python interpreter_ to _CPython 3.x_ \n",
    "    * _Requirements_ to `requirements-build.txt`  \n",
    "        "
   ]
  },
  {
   "cell_type": "markdown",
   "metadata": {},
   "source": [
    "### To build with Github Actions:\n",
    "\n",
    "Configure [.github/workflows/main.yml](https://github.com/DavidLeoni/jupman/blob/master/.github/workflows/main.yml) on your computer to your needs - most likely you need to:\n",
    "\n",
    "1. set RTD_PRJ_NAME \n",
    "2. remove `GOOGLE_ANALYTICS` entry (if you don't plan to use it)\n",
    "3. If you want to publish to [Github Pages](https://pages.github.com/): everything is set, just create an empty branch `gh-pages` prior of committing"
   ]
  },
  {
   "cell_type": "markdown",
   "metadata": {},
   "source": [
    "### Local build with Sphinx\n",
    "\n",
    "1. Install Python 3.5+\n",
    "1. [Install Jupyter](http://jupyter.org/install.html)\n",
    "1. Install Python modules -from the root of the project, run:\n",
    "    ```bash\n",
    "    python3 -m pip install --user -r requirements-build.txt\n",
    "    ```\n",
    "    This will install required modules in your home directory"
   ]
  },
  {
   "cell_type": "markdown",
   "metadata": {},
   "source": [
    "### Optional - Running tests\n",
    "\n",
    "To check everything is working, you may want to run the tests.\n",
    "\n",
    "1. Install test dependencies: \n",
    "\n",
    "```bash\n",
    "python3 -m pip install --user -r _test/requirements-test.txt\n",
    "```\n",
    "\n",
    "2. Run the tests:\n",
    "\n",
    "```bash\n",
    "python3 -m pytest _test/*_test.py\n",
    "```\n"
   ]
  },
  {
   "cell_type": "markdown",
   "metadata": {},
   "source": [
    "### Optional - Install Jupyter contrib extensions\n",
    "\n",
    "For a better editing experience like having Table of contents and other things, do the following:\n",
    "\n",
    "\n",
    "1. install the [Jupyter contrib extensions](https://github.com/ipython-contrib/jupyter_contrib_nbextensions) package:\n",
    "\n",
    "\n",
    "If you have Anaconda:\n",
    "\n",
    "```bash\n",
    "conda install -c conda-forge jupyter_contrib_nbextensions \n",
    "```\n",
    "\n",
    "If you don't have Anaconda:\n",
    "```bash\n",
    "python3 -m pip install --user jupyter_contrib_nbextensions\n",
    "```\n",
    "\n",
    "2. Install it in Jupyter:\n",
    "\n",
    "```bash\n",
    "jupyter contrib nbextension install --user\n",
    "```\n",
    "\n",
    "3. Enable extensions (putting here recommended ones):\n",
    "\n",
    "For being able to view table of contents while editing notebooks, install `toc2` extension:\n",
    "\n",
    "```bash\n",
    "jupyter nbextension enable toc2/main\n",
    "```\n",
    "To see tocs when in a document you will need to press a list button at the right-end of the toolbar).\n",
    "\n",
    "(since Jupman 0.8 custom injected tocs are disabled by default)\n",
    "\n",
    "4. For a nice GUI to install extensions, install the [Jupyter Nbextensions configurator](https://github.com/Jupyter-contrib/jupyter_nbextensions_configurator): \n",
    "\n",
    "If you have Anaconda:\n",
    "\n",
    "From Anaconda Prompt:\n",
    "```\n",
    "conda install -c conda-forge jupyter_nbextensions_configurator \n",
    "```\n",
    "\n",
    "If you don't have Anaconda:\n",
    "```bash\n",
    "python3 -m pip install --user jupyter_nbextensions_configurator\n",
    "```\n",
    "\n",
    "After installing, enable it: \n",
    "\n",
    "```bash\n",
    "jupyter nbextensions_configurator enable --user\n",
    "```\n",
    "and then start Jupyter, in file browser look for a `Nbextensions` tab \n",
    "   \n"
   ]
  },
  {
   "cell_type": "markdown",
   "metadata": {},
   "source": [
    "    \n",
    "## Getting Started\n",
    "\n",
    "1. Edit as needed [conf.py](https://github.com/DavidLeoni/jupman/blob/master/conf.py), which is the configuration file for Sphinx. In particular, you **MUST** edit the sections marked with `TODO`\n",
    "2. Try to launch a build\n",
    "    ```bash\n",
    "    python3 build.py\n",
    "    ```\n",
    "    For more info, see [related section](#building-the-manual)\n",
    "3. If everything works fine on your computer, push changes back to Github\n",
    "4. Go back to ReadTheDocs and try to run a build. Hopefully your project will become available on something like _my-project.readthedocs.org_\n",
    "5. If you want to grade exams, see [Exams](#Exams) section.\n",
    "\n",
    "You should now be ready to create your notebooks by launching from the project root:\n",
    "\n",
    "```bash\n",
    " jupyter notebook\n",
    "```\n",
    "\n",
    "6. If you wish your notebooks to appear in the generated manual, you have to add them in the `toc.rst` file.\n",
    "\n",
    "    **NOTE**: the page [toc-page.rst](https://github.com/DavidLeoni/jupman/blob/master/toc-page.rst), which is set to be the `master_doc` of Sphinx, will just load the actual Table of Contents which is in [toc.rst](https://github.com/DavidLeoni/jupman/blob/master/toc.rst). It looks a bit convoluted because when it comes to indexes Sphinx is not much reliable,  [see this issue](https://github.com/DavidLeoni/jupman/issues/11) . We strongly advise *not* to change these settings !\n",
    "7. edit the home, which is in  the [index.ipynb](https://github.com/DavidLeoni/jupman/blob/master/index.ipynb) file\n",
    "\n"
   ]
  },
  {
   "cell_type": "markdown",
   "metadata": {},
   "source": [
    "## Building the manual\n",
    "\n",
    "\n",
    "For quick build that only produces html:\n",
    "\n",
    "```bash\n",
    "python3 build.py -q\n",
    "```\n",
    "\n",
    "Site will be created in `_build/` folder.\n",
    "\n",
    "\n",
    "For help: \n",
    "\n",
    "```bash\n",
    "python3 build.py -h\n",
    "```\n",
    "\n",
    "\n",
    "To build everything (html + pdf + epub), go to console and from the root of the directory run:\n",
    "\n",
    "```bash\n",
    "python3 build.py\n",
    "```\n",
    "\n",
    "\n",
    "**NOTE: to also generate PDF you will need to install Latex environment**\n",
    "\n",
    "\n"
   ]
  },
  {
   "cell_type": "markdown",
   "metadata": {},
   "source": [
    "## Publishing\n",
    "\n",
    "For publishing, the system uses ReadTheDocs so it is enough to push to master and ReadTheDocs will do the rest (for example, for jupman it is at address [jupman.readthedocs.io](http://jupman.readthedocs.io) \n",
    "\n",
    "**IMPORTANT: ReadTheDocs WILL _NOT_ execute Jupyter notebooks because of** [this bug](https://github.com/DavidLeoni/softpython/issues/2)\n",
    "\n"
   ]
  },
  {
   "cell_type": "markdown",
   "metadata": {},
   "source": [
    "## Editing the worksheets\n",
    "\n",
    "Here we give an overview of how to edit worksheets. More info can be found in [Jupman tests notebook](jupman-tests.ipynb)\n",
    "\n"
   ]
  },
  {
   "cell_type": "markdown",
   "metadata": {},
   "source": [
    "### Common files\n",
    "\n",
    "There are a bunch of files common to all worksheets and possibly ReadTheDocs website \n",
    "\n",
    "*You do not need to change them (except maybe my_lib.py)*\n",
    "\n",
    "|File|Description|Jupyter|ReadTheDocs|\n",
    "|-----|----|----|-----|\n",
    "|[jupman.py](https://github.com/DavidLeoni/jupman/blob/master/jupman.py)|utilities for worksheets|X||\n",
    "|[my_lib.py](https://github.com/DavidLeoni/jupman/blob/master/jupman.py)|custom utilities for worksheets (you can change the name)|X||\n",
    "|[_static/js/jupman.js](https://github.com/DavidLeoni/jupman/blob/master/_static/js/jupman.js)|Javascript code|X|X|\n",
    "|[_static/css/jupman.css](https://github.com/DavidLeoni/jupman/blob/master/_static/css/jupman.css)|CSS|X||\n",
    "|[_static/css/jupman-rtd.css](https://github.com/DavidLeoni/jupman/blob/master/_static/css/jupman-rtd.css)|CSS||X|\n"
   ]
  },
  {
   "cell_type": "markdown",
   "metadata": {},
   "source": [
    "### Running Jupyter\n",
    "\n",
    "First of all, run Jupyter from the root of the directory:\n",
    "\n",
    "\n",
    "```bash\n",
    "    jupyter notebook\n",
    "```\n"
   ]
  },
  {
   "cell_type": "markdown",
   "metadata": {},
   "source": [
    "### Source code for chapters\n",
    "\n",
    "Put chapters one per folder, in the root. Any folder which does not starts with underscore `_`  or `exam/` will be considered a chapter.\n",
    "\n",
    "During build, each chapter gets automatically zipped and zip goes to `_static/generated`. So for example, `python-intro/` produces a zip called `_static/generated/python-intro.zip`, which will have these contents:\n",
    "\n",
    "```\n",
    "\n",
    "\n",
    "python-intro\n",
    "    _static\n",
    "       js\n",
    "          jupman.js\n",
    "          toc.js\n",
    "       css\n",
    "          jupman.css\n",
    "       img\n",
    "          cc-by.png\n",
    "    python-intro.ipynb         \n",
    "    python_intro.py      \n",
    "    python_intro_test.py\n",
    "    python_intro_sol.py\n",
    "    jupman.py\n",
    "    my_lib.py\n",
    "```\n",
    "\n",
    "\n",
    "The zip folder structure will be a merge of chapter files and files shared by all chapters which are specified in  `exercises_common_files` variable in [conf.py](conf.py). Since the root in the zip becomes the chapter itself, jupman will process `.py` and `.ipynb` files for fixing eventual relative imports. Markdown and HTML links in ipynb will also be adjusted.\n",
    "\n",
    "Exercise files can be automatically generated from solutions, as we will see next."
   ]
  },
  {
   "cell_type": "markdown",
   "metadata": {},
   "source": [
    "\n",
    "### Type of exercises\n",
    "\n",
    "There can be two kinds of exercises, exercises in python files and exercises in jupyter files.\n",
    "\n",
    "It is possible to automatically generate an exercise from a solution file by stripping text marked with special tags. You can inspect generated files in `_build/jupman/` directory\n",
    "\n",
    "**Note**: in the zips for the students containing solutions, tag comments are automatically removed from  solution as well.\n",
    "\n",
    "\n",
    "#### Exercises in python files\n",
    "\n",
    "See example: [python-intro/python-intro.ipynb](python-intro/python-intro.ipynb)\n",
    "\n",
    "\n",
    "In this type of exercises, typically you have a Jupyter file (like `python-intro.ipynb`) that describes the exercise and then the actual exercises are in python files. \n",
    "\n",
    "\n",
    "If there is a solution file `FILE_sol.py` ending in `_sol.py` but no corresponding exercise file `FILE.py` without the `_sol`: \n",
    "\n",
    "\n",
    "then Jupman will try to generate `FILE.py` one from `FILE_sol.py`. To do so, it will look for tags to strip inside the solution file.\n",
    "\n",
    "If there is already an exercise file like this: \n",
    "\n",
    "* `python_intro.py`\n",
    "* `python_intro_sol.py`\n",
    "\n",
    "Jupman will just copy the existing file.\n",
    "\n",
    "#### Exercises in Jupyter files\n",
    "\n",
    "See example: [jupyter-intro/jupyter-intro-sol.ipynb](jupyter-intro/jupyter-intro-sol.ipynb)\n",
    "\n",
    "\n",
    "This type of exercises stay in a jupyter notebook itself.\n",
    "\n",
    "If there is a notebook ending in `-sol.ipynb`, the following applies (**WARNING**: for `ipynb` files we use dash `-`, _not_ the underscore `_`):\n",
    "\n",
    "- the notebook must contain tags to strip\n",
    "- exercises derived will have 'EXERCISES' appended to the title (the word can be customized in `conf.py` - you might need to translate it)\n"
   ]
  },
  {
   "cell_type": "markdown",
   "metadata": {},
   "source": [
    "### Tags to strip\n",
    "\n",
    "Start tags begin with a `#` while end tags begin with a `#\\`\n",
    "\n",
    "#### jupman-raise\n",
    "\n",
    "Replaces code inside with an Exception (text is customizable in `conf.py`). Be careful to position the comment exactly with the indentation yuoi want the raise to appear. For example:\n",
    "\n",
    "```python\n",
    "\n",
    "def add(x,y):   \n",
    "    #jupman-raise\n",
    "    return x + y\n",
    "    #/jupman-raise\n",
    "\n",
    "```\n",
    "\n",
    "becomes\n",
    "\n",
    "```python\n",
    "\n",
    "def add(x,y):   \n",
    "    raise Exception('TODO IMPLEMENT ME !')\n",
    "\n",
    "```\n",
    "\n"
   ]
  },
  {
   "cell_type": "markdown",
   "metadata": {},
   "source": [
    "#### jupman-strip\n",
    "\n",
    "Just strips code inside\n",
    "\n",
    "\n",
    "```python\n",
    "def f(x):\n",
    "    print(x)\n",
    "\n",
    "#jupman-strip\n",
    "def help_func(x,y):\n",
    "    return x - y\n",
    "#/jupman-strip\n",
    "\n",
    "def g(y):\n",
    "    return y\n",
    "```\n",
    "\n",
    "becomes\n",
    "\n",
    "```python\n",
    "def f(x):\n",
    "    print(x)\n",
    "\n",
    "def g(y):\n",
    "    return y\n",
    "    \n",
    "```\n",
    "\n"
   ]
  },
  {
   "cell_type": "markdown",
   "metadata": {},
   "source": [
    "#### write here\n",
    "\n",
    "This special tag for python code erases whatever is found afterwards the `# write here` comment\n",
    "\n",
    "* you can put how many spaces you want in the comment\n",
    "* phrase can be customized in `conf.py`\n",
    "\n",
    "```python\n",
    "\n",
    "w = 5\n",
    "\n",
    "#  write  here\n",
    "\n",
    "x = 5 + w\n",
    "y = 2 + x\n",
    "```\n",
    "\n",
    "becomes\n",
    "\n",
    "```python\n",
    "\n",
    "w = 5\n",
    "\n",
    "#  write  here\n",
    "\n",
    "\n",
    "```\n"
   ]
  },
  {
   "cell_type": "markdown",
   "metadata": {},
   "source": [
    "#### SOLUTION\n",
    "\n",
    "In a code cell, if you put `# SOLUTION` at the beginning the whole cell cell content gets deleted (`# SOLUTION` string included).\n",
    "\n",
    "* Word can be customized in `conf.py`\n",
    "\n",
    "\n",
    "```\n",
    "# SOLUTION\n",
    "\n",
    "def f():\n",
    "    print('hello')\n",
    "```\n",
    "\n",
    "becomes nothing:\n",
    "\n",
    "```\n",
    "\n",
    " \n",
    "```"
   ]
  },
  {
   "cell_type": "markdown",
   "metadata": {},
   "source": [
    "#### QUESTION - ANSWER\n",
    "\n",
    "In a markdown cell, everything in '**ANSWER**:' cell will be stripped. \n",
    "\n",
    "* Markdown can be customized in `conf.py`\n"
   ]
  },
  {
   "cell_type": "markdown",
   "metadata": {},
   "source": [
    "**QUESTION**: Describe why iPhone 8 is better than 7"
   ]
  },
  {
   "cell_type": "markdown",
   "metadata": {},
   "source": [
    "**ANSWER**: it costs more"
   ]
  },
  {
   "cell_type": "markdown",
   "metadata": {},
   "source": [
    "becomes:"
   ]
  },
  {
   "cell_type": "markdown",
   "metadata": {},
   "source": [
    "**QUESTION**: Describe why iPhone 8 is better than 7"
   ]
  },
  {
   "cell_type": "markdown",
   "metadata": {},
   "source": [
    " "
   ]
  },
  {
   "cell_type": "markdown",
   "metadata": {},
   "source": [
    "### Utilities and custom js and css\n",
    "\n",
    "If you need custom js and/or css in a notebook, you can inject it by running `jupman.init()` in the first cell\n",
    "\n",
    "**NOTE**: it is not really mandatory, it's mostly intended to tweak way notebooks on the website. It should be avoided for notebooks meant for students, as it is more likely it will mess their configurations - also, they might copy the notebooks without knowing they contain the custom js and use weird extensions which could generate conflicts (such as double toc)\n",
    "\n",
    "For notebooks in the root folder:\n",
    "\n",
    "```python\n",
    "import jupman\n",
    "jupman.init()\n",
    "```\n",
    "Worksheets in in subfolders can use `sys.path` to locate the module\n",
    "\n",
    "```python\n",
    "import sys\n",
    "sys.path.append('../')\n",
    "import jupman\n",
    "jupman.init()\n",
    "```\n",
    "If you think it looks ugly, see [this issue](https://github.com/DavidLeoni/jupman/issues/12) for why we don't use alternatives such as modules and relative imports.\n",
    "\n",
    "**Show table of contents**: Since 0.8, toc is disabled. If you want it, try to [install toc2 extension](#Optional---Install-Jupyter-contrib-extensions), otherwise you can still enable jupman toc with `jupman_init(toc=True)`. Running it will create the sidebar even when editing in Jupyter. If you want to refresh the sidebar, just run again the cell. It is not recommended, though, especially in notebooks meant to be shipped to students (see considerations above).\n"
   ]
  },
  {
   "cell_type": "markdown",
   "metadata": {},
   "source": [
    "### Hiding cells\n",
    "\n",
    "To hide cells (like for example the `import jupman` code), click `View->Cell toolbar -> Edit metadata`\n",
    "and add `\"nbsphinx\": \"hidden\"` to the JSON (see also original [NBSphinx docs](\n",
    "https://nbsphinx.readthedocs.io/en/0.2.14/hidden-cells.html#Hidden-Cells\n",
    ") and [Toggable cells in Jupman tests](jupman-tests.ipynb#Toggable-cells) ).\n",
    "\n",
    "**NOTE**: As of NBSphinx 2.17, it is not possible to hide only cell text but not the output.\n",
    "\n",
    "(Before porting to NBSphinx some cell hiding for Jupman stuff was automated using Javascript, maybe we will reintroduce the automation in the future)\n",
    "\n"
   ]
  },
  {
   "cell_type": "markdown",
   "metadata": {},
   "source": [
    "#### Implications of hiding 'import jupman'\n",
    "\n",
    "Only in the HTML version, hiding the `import jupman` code, will also prevent `jupman.py` to embed inside the page the Javascript file `jupman.js`: this is perfectly fine as it is fetched separately thanks to the `app.add_javascript('js/jupman.js')` command in `conf.py`\n",
    "\n",
    "\n"
   ]
  },
  {
   "cell_type": "markdown",
   "metadata": {},
   "source": [
    "### Launch unit tests\n",
    "\n",
    "Inside worksheets you can run `unittest` tests. \n",
    "\n",
    "To run all the tests of a test class, write like this\n",
    "\n",
    "```python\n",
    "jupman.run(NameOfTheTestClass)\n",
    "```\n",
    "\n",
    "To run a single method, write like this:\n",
    "\n",
    "```python\n",
    "jupman.run(NameOfTheTestClass.nameOfTheMethod)\n",
    "```\n"
   ]
  },
  {
   "cell_type": "markdown",
   "metadata": {},
   "source": [
    "### Python Tutor\n",
    "\n",
    "Among the various ways to embed Python Tutor, we decided to implement a special `jupman.pytut()` method. First you need to import the jupman module:"
   ]
  },
  {
   "cell_type": "code",
   "execution_count": 2,
   "metadata": {},
   "outputs": [],
   "source": [
    "import jupman"
   ]
  },
  {
   "cell_type": "markdown",
   "metadata": {},
   "source": [
    "Then you can put a call to `jupman.pytut()` at the end of a cell, and the cell code will magically appear in python tutor in the output (except the call to `pytut()` of course). To see Python Tutor you don't need to be online"
   ]
  },
  {
   "cell_type": "code",
   "execution_count": 3,
   "metadata": {},
   "outputs": [
    {
     "data": {
      "text/html": [
       "\n",
       "        <script src=\"_static/js/pytutor-embed.bundle.min.js\" type=\"application/javascript\"></script>\n",
       "     \n",
       "        <script id=\"json-jm1b1d94c8-e5c6-4fd9-9d74-44b2d17b6106\" type=\"application/json\" >\n",
       "            {\"code\": \" \\nx = [5,8,4]\\ny= {3:9}\\nz = [x]\", \"trace\": [{\"line\": 2, \"event\": \"step_line\", \"func_name\": \"<module>\", \"globals\": {}, \"ordered_globals\": [], \"stack_to_render\": [], \"heap\": {}, \"stdout\": \"\"}, {\"line\": 3, \"event\": \"step_line\", \"func_name\": \"<module>\", \"globals\": {\"x\": [\"REF\", 1]}, \"ordered_globals\": [\"x\"], \"stack_to_render\": [], \"heap\": {\"1\": [\"LIST\", 5, 8, 4]}, \"stdout\": \"\"}, {\"line\": 4, \"event\": \"step_line\", \"func_name\": \"<module>\", \"globals\": {\"x\": [\"REF\", 1], \"y\": [\"REF\", 2]}, \"ordered_globals\": [\"x\", \"y\"], \"stack_to_render\": [], \"heap\": {\"1\": [\"LIST\", 5, 8, 4], \"2\": [\"DICT\", [3, 9]]}, \"stdout\": \"\"}, {\"line\": 4, \"event\": \"return\", \"func_name\": \"<module>\", \"globals\": {\"x\": [\"REF\", 1], \"y\": [\"REF\", 2], \"z\": [\"REF\", 3]}, \"ordered_globals\": [\"x\", \"y\", \"z\"], \"stack_to_render\": [], \"heap\": {\"1\": [\"LIST\", 5, 8, 4], \"2\": [\"DICT\", [3, 9]], \"3\": [\"LIST\", [\"REF\", 1]]}, \"stdout\": \"\"}]}\n",
       "        </script>\n",
       "        <div id=\"jm1b1d94c8-e5c6-4fd9-9d74-44b2d17b6106\" class=\"pytutorVisualizer\"> </div>\n",
       " \n",
       "        <style>\n",
       "        .vizLayoutTd {\n",
       "            background-color: #fff !important;\n",
       "        }\n",
       "                            \n",
       "\n",
       "        /* 'Edit this code' link, hiding because replaces browser tab !!!*/\n",
       "        #editCodeLinkDiv {\n",
       "            display:none;  \n",
       "        }\n",
       "        </style>   \n",
       "                            \n",
       "        <script>\n",
       "        (function(){\n",
       "\n",
       "            var trace = JSON.parse(document.getElementById('json-jm1b1d94c8-e5c6-4fd9-9d74-44b2d17b6106').innerHTML);                                        \n",
       "            // NOTE 1: id without #\n",
       "            // NOTE 2 - maybe there are more predictable ways, but this will work anyway\n",
       "            //        - id should be number\n",
       "            visualizerIdOverride = Math.trunc(Math.random() * 100000000000)\n",
       "            addVisualizerToPage(trace, 'jm1b1d94c8-e5c6-4fd9-9d74-44b2d17b6106',{'embeddedMode' : false,\n",
       "                                                'visualizerIdOverride':visualizerIdOverride})  \n",
       "            \n",
       "            \n",
       "            // set overflow for pytuts - need to do in python as css \n",
       "            // does not allow parent selection\n",
       "            var pytuts = $('.pytutorVisualizer')\n",
       "            pytuts.closest('div.output_html.rendered_html.output_result')\n",
       "                    .css('overflow-x', 'visible')\n",
       "        \n",
       "            //pytuts.closest('div.output_html.rendered_html.output_result')\n",
       "            //      .css('background-color','red')                \n",
       "            \n",
       "        })()\n",
       "        </script>\n",
       "                \n",
       "                "
      ],
      "text/plain": [
       "<IPython.core.display.HTML object>"
      ]
     },
     "execution_count": 3,
     "metadata": {},
     "output_type": "execute_result"
    }
   ],
   "source": [
    "x = [5,8,4]\n",
    "y= {3:9}\n",
    "z = [x]\n",
    "\n",
    "jupman.pytut()\n"
   ]
  },
  {
   "cell_type": "markdown",
   "metadata": {},
   "source": [
    "Beware of variables which were initialized in previous cells, they won't be available in Python Tutor and you will get an error:"
   ]
  },
  {
   "cell_type": "code",
   "execution_count": 4,
   "metadata": {},
   "outputs": [],
   "source": [
    "w = 8\n"
   ]
  },
  {
   "cell_type": "code",
   "execution_count": 5,
   "metadata": {},
   "outputs": [
    {
     "name": "stderr",
     "output_type": "stream",
     "text": [
      "Traceback (most recent call last):\n",
      "  File \"/home/da/Da/prj/jupman/prj/jupman.py\", line 2305, in _runscript\n",
      "    self.run(script_str, user_globals, user_globals)\n",
      "  File \"/home/da/Da/bin/anaconda3/lib/python3.7/bdb.py\", line 585, in run\n",
      "    exec(cmd, globals, locals)\n",
      "  File \"<string>\", line 2, in <module>\n",
      "NameError: name 'w' is not defined\n"
     ]
    },
    {
     "data": {
      "text/html": [
       "\n",
       "        <script src=\"_static/js/pytutor-embed.bundle.min.js\" type=\"application/javascript\"></script>\n",
       "     \n",
       "        <script id=\"json-jm524af54a-ca89-4c26-94e7-5b535c0ac1ba\" type=\"application/json\" >\n",
       "            {\"code\": \" \\nx =  w + 5\", \"trace\": [{\"line\": 2, \"event\": \"step_line\", \"func_name\": \"<module>\", \"globals\": {}, \"ordered_globals\": [], \"stack_to_render\": [], \"heap\": {}, \"stdout\": \"\"}, {\"line\": 2, \"event\": \"exception\", \"func_name\": \"<module>\", \"globals\": {}, \"ordered_globals\": [], \"stack_to_render\": [], \"heap\": {}, \"stdout\": \"\", \"exception_msg\": \"NameError: name 'w' is not defined\"}]}\n",
       "        </script>\n",
       "        <div id=\"jm524af54a-ca89-4c26-94e7-5b535c0ac1ba\" class=\"pytutorVisualizer\"> </div>\n",
       " \n",
       "        <style>\n",
       "        .vizLayoutTd {\n",
       "            background-color: #fff !important;\n",
       "        }\n",
       "                            \n",
       "\n",
       "        /* 'Edit this code' link, hiding because replaces browser tab !!!*/\n",
       "        #editCodeLinkDiv {\n",
       "            display:none;  \n",
       "        }\n",
       "        </style>   \n",
       "                            \n",
       "        <script>\n",
       "        (function(){\n",
       "\n",
       "            var trace = JSON.parse(document.getElementById('json-jm524af54a-ca89-4c26-94e7-5b535c0ac1ba').innerHTML);                                        \n",
       "            // NOTE 1: id without #\n",
       "            // NOTE 2 - maybe there are more predictable ways, but this will work anyway\n",
       "            //        - id should be number\n",
       "            visualizerIdOverride = Math.trunc(Math.random() * 100000000000)\n",
       "            addVisualizerToPage(trace, 'jm524af54a-ca89-4c26-94e7-5b535c0ac1ba',{'embeddedMode' : false,\n",
       "                                                'visualizerIdOverride':visualizerIdOverride})  \n",
       "            \n",
       "            \n",
       "            // set overflow for pytuts - need to do in python as css \n",
       "            // does not allow parent selection\n",
       "            var pytuts = $('.pytutorVisualizer')\n",
       "            pytuts.closest('div.output_html.rendered_html.output_result')\n",
       "                    .css('overflow-x', 'visible')\n",
       "        \n",
       "            //pytuts.closest('div.output_html.rendered_html.output_result')\n",
       "            //      .css('background-color','red')                \n",
       "            \n",
       "        })()\n",
       "        </script>\n",
       "                \n",
       "                "
      ],
      "text/plain": [
       "<IPython.core.display.HTML object>"
      ]
     },
     "execution_count": 5,
     "metadata": {},
     "output_type": "execute_result"
    }
   ],
   "source": [
    "x =  w + 5\n",
    "jupman.pytut()"
   ]
  },
  {
   "cell_type": "markdown",
   "metadata": {},
   "source": [
    "## Website\n",
    "\n",
    "### Changing site colors\n",
    "\n",
    "If you want to change site colors and do other changes,  edit [_static/css/jupman-rtd.css](https://github.com/DavidLeoni/jupman/blob/master/_static/css/jupman-rtd.css)\n",
    "\n"
   ]
  },
  {
   "cell_type": "markdown",
   "metadata": {},
   "source": [
    "### Warning about old versions\n",
    "\n",
    "[ReadTheDocs has a mechanism](https://docs.readthedocs.io/en/latest/versions.html) to warn the user if he's looking at an old version of the site, but we found it doesn't work much for course-based documentation. So for versioning we think it's better to adopt a mixed git branch / tags devlopment model, and we added a template warning to show in old branches. To enable it in an old branch, just rename [_templates/breadcrumbs.html.bak](_templates/breadcrumbs.html.bak) into `_templates/breadcrumbs.html` and edit as needed."
   ]
  },
  {
   "cell_type": "markdown",
   "metadata": {},
   "source": [
    "\n",
    "## Exams\n",
    "\n",
    "Jupman comes with a script to manage exams called [exam.py](exam.py), which allows to manage the full cycle of an exam.\n",
    "\n"
   ]
  },
  {
   "cell_type": "markdown",
   "metadata": {},
   "source": [
    "### What is an exam\n",
    "\n",
    "**Exam text** is represented as Jupyter notebooks, which are taken from [_templates/exam/solutions/exam-yyyy-mm-dd.ipynb](_templates/exam/solutions/exam-yyyy-mm-dd.ipynb)\n",
    "\n",
    "**Exercises for students**: they are supposed to be the exam notebook itself and / or plain python files (or the notebook itself) plus unittests and relative solutions. \n",
    "\n",
    "**Marks spreadsheet**: By default there is also an LibreOffice spreadsheet to give marks, in case you need it. \n",
    "\n",
    "When you initialize an exam with the `init` command, for example for date `2000-12-31`, all the presets in `_templates/exam/` are copied to `private/2000-12-31/` and `private/2000-12-31/solutions`. Presets can be changed at will to suit your needs. When packaging, student zip is assembled in  `private/2000-12-31/student-zip`\n",
    "\n",
    "System is flexible enough so you can privately work on next exams in `private/` folder and still being able to publish modifications to main website. After an exam, you can copy the private exam to the public folders in `past-exams/`.    \n"
   ]
  },
  {
   "cell_type": "markdown",
   "metadata": {},
   "source": [
    "### Exam commands\n",
    "\n",
    "To see the help:\n",
    "\n",
    "```bash\n",
    "python3 exam.py -h\n",
    "```\n",
    "\n",
    "To see help for a particular subcommand, like i.e. `init`, type the subcommand followed by `-h` :\n",
    "\n",
    "```bash\n",
    "python3 exam.py init -h\n",
    "```\n",
    "\n",
    "Running commands should be quite self-explanatory.\n",
    "\n",
    "NOTE: as of today (Dec 2019) software may contain bugs, but at least we check for major misuses \n",
    "(like trying to overwrite existing exams). \n",
    "\n",
    "In the file [create-exam-example.sh](create-exam-example.sh) there is a typical run of the \n",
    "script, which creates the example exam for date `2000-12-31`. Notice it might ask\n",
    "you to delete the existing 2000-12-31 exam, if it does just follow the instructions.\n",
    "Here is the output:\n",
    "\n",
    "\n",
    "```bash\n",
    "$ ./create-exam-example.sh         \n",
    "python3 exam.py init 2000-12-31\n",
    "  \n",
    "  You can now edit Python solutions, tests, exercises and exam notebook here  : \n",
    "\n",
    "     _private/2000-12-31/solutions\n",
    "\n",
    "  DONE.\n",
    "\n",
    "python3 exam.py package 2000-12-31\n",
    "  Cleaning _private/2000-12-31/server/jupman  ...\n",
    "  Copying built website ...\n",
    "  Building pdf ..\n",
    "  Copying exercises to _private/2000-12-31/student-zip/jupman-2000-12-31-FIRSTNAME-LASTNAME-ID/\n",
    "  Copying code  \n",
    "    from  _private/2000-12-31/solutions \n",
    "    to    _private/2000-12-31/student-zip/jupman-2000-12-31-FIRSTNAME-LASTNAME-ID/\n",
    "    Writing (patched) _private/2000-12-31/student-zip/jupman-2000-12-31-FIRSTNAME-LASTNAME-ID/exam-2000-12-31.ipynb\n",
    "    Generating _private/2000-12-31/student-zip/jupman-2000-12-31-FIRSTNAME-LASTNAME-ID/trees.py\n",
    "    Writing _private/2000-12-31/student-zip/jupman-2000-12-31-FIRSTNAME-LASTNAME-ID/example.txt \n",
    "    Generating _private/2000-12-31/student-zip/jupman-2000-12-31-FIRSTNAME-LASTNAME-ID/lists.py\n",
    "    Writing (patched) _private/2000-12-31/student-zip/jupman-2000-12-31-FIRSTNAME-LASTNAME-ID/trees_test.py\n",
    "    Writing (patched) _private/2000-12-31/student-zip/jupman-2000-12-31-FIRSTNAME-LASTNAME-ID/lists_test.py\n",
    "  Creating dir _private/2000-12-31/student-zip/jupman-2000-12-31-FIRSTNAME-LASTNAME-ID/img\n",
    "    Writing _private/2000-12-31/student-zip/jupman-2000-12-31-FIRSTNAME-LASTNAME-ID/img/mountains.jpg \n",
    "  Creating student exercises zip:  _private/2000-12-31/server/jupman-2000-12-31-exam.zip\n",
    "  Writing jupman.py\n",
    "  Writing my_lib.py\n",
    "  Writing _static/img/cc-by.png\n",
    "  Writing _static/js/jupman.js\n",
    "  Writing _static/css/jupman.css\n",
    "  Writing _static/js/toc.js\n",
    "  Wrote _private/2000-12-31/server/jupman-2000-12-31-exam\n",
    "  Creating server zip: _private/2000-12-31/jupman-2000-12-31-server.zip\n",
    "\n",
    "  You can now browse the website at:  /home/da/Da/prj/jupman/prj/_private/2000-12-31/server/jupman/html/index.html\n",
    "\n",
    "\n",
    "  DONE.\n",
    "\n",
    "\n",
    "------- Simulating some shipped exams...\n",
    "mkdir -p _private/2000-12-31/shipped/john-doe-112233\n",
    "cp _templates/exam/solutions/lists_sol.py _templates/exam/solutions/lists_test.py _templates/exam/solutions/trees_sol.py _templates/exam/solutions/trees_test.py _private/2000-12-31/shipped/john-doe-112233\n",
    "mkdir -p _private/2000-12-31/shipped/jane-doe-445566\n",
    "cp _templates/exam/solutions/lists_sol.py _templates/exam/solutions/lists_test.py _templates/exam/solutions/trees_sol.py _templates/exam/solutions/trees_test.py _private/2000-12-31/shipped/jane-doe-445566\n",
    "------- Done with shipped exams simulation, time to grade ...\n",
    "\n",
    "python3 exam.py grade 2000-12-31\n",
    "  Copying Python files to execute and eventually grade in _private/2000-12-31/graded/john-doe-112233/graded\n",
    "  Copying original shipped files (don't touch them!) in _private/2000-12-31/graded/john-doe-112233/shipped\n",
    "  Copying Python files to execute and eventually grade in _private/2000-12-31/graded/jane-doe-445566/graded\n",
    "  Copying original shipped files (don't touch them!) in _private/2000-12-31/graded/jane-doe-445566/shipped\n",
    "\n",
    "  DONE.\n",
    "\n",
    "python3 exam.py zip-grades 2000-12-31\n",
    "\n",
    "  You can now find zips to send to students in _private/2000-12-31/graded\n",
    "\n",
    "\n",
    "  DONE.\n",
    "\n",
    "python3 exam.py publish 2000-12-31\n",
    "  Copying solutions to exams/2000-12-31/solutions\n",
    "  Copying exam PDF text\n",
    "  \n",
    "  Exam Python files copied.\n",
    "  \n",
    "  You can now manually build and run the following git instructions to publish the exam.\n",
    "    ./build.py\n",
    "    git status  # just to check everything is ok\n",
    "    git add .\n",
    "    git commit -m 'published 2000-12-31 exam'\n",
    "    git push\n",
    "  \n",
    "\n",
    "  DONE.\n",
    "\n",
    "\n",
    "  Finished example exam run !!\n",
    "\n",
    "\n",
    "\n",
    "```\n",
    "\n"
   ]
  },
  {
   "cell_type": "markdown",
   "metadata": {},
   "source": [
    "## Developer notes\n",
    "\n",
    "### Fix nbsphinx to create rst files \n",
    "\n",
    "Sometimes nbsphinx does not report properly RST conversion errors ([see bug](https://github.com/DavidLeoni/jupman/issues/9)). As a hacky workaround, you might take the `nbsphinx.py` from `~/.local/lib/python3.5/site-packages/` , make a copy of it in your project home and patch it  [like this](https://github.com/DavidLeoni/jupman/commit/0f332629ce4e2b0186c954c55aea7fa67992ace9#diff-bd3d9c4d2e80ed83fd2443d1301aa65bR649) \n",
    "When you call sphinx, it will generate RST files in `_build/jupman-rst/`.\n",
    "\n",
    "Of course, things can be cleaner using a virtual env [with venv](https://docs.python.org/3/library/venv.html)"
   ]
  },
  {
   "cell_type": "code",
   "execution_count": null,
   "metadata": {},
   "outputs": [],
   "source": []
  }
 ],
 "metadata": {
  "celltoolbar": "Edit Metadata",
  "kernelspec": {
   "display_name": "Python 3",
   "language": "python",
   "name": "python3"
  },
  "language_info": {
   "codemirror_mode": {
    "name": "ipython",
    "version": 3
   },
   "file_extension": ".py",
   "mimetype": "text/x-python",
   "name": "python",
   "nbconvert_exporter": "python",
   "pygments_lexer": "ipython3",
   "version": "3.5.2"
  },
  "toc": {
   "base_numbering": 1,
   "nav_menu": {},
   "number_sections": false,
   "sideBar": true,
   "skip_h1_title": false,
   "title_cell": "Table of Contents",
   "title_sidebar": "Contents",
   "toc_cell": false,
   "toc_position": {},
   "toc_section_display": true,
   "toc_window_display": true
  }
 },
 "nbformat": 4,
 "nbformat_minor": 2
}
