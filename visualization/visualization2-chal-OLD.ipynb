{
 "cells": [
  {
   "cell_type": "markdown",
   "metadata": {},
   "source": [
    "# The AlgoRythm Opera Challenge\n",
    "\n",
    "## [Download exercises zip](../_static/generated/visualization.zip)\n",
    "\n",
    "[Browse files online](https://github.com/DavidLeoni/softpython-en/tree/master/visualization)\n",
    "\n",
    "![finalsol](final-sol-1.png)"
   ]
  },
  {
   "cell_type": "markdown",
   "metadata": {},
   "source": [
    "Some people say music is not important, pupils should do math instead. Let's show them music _is_ math.\n",
    "\n",
    "A musical sheet is divided vertically in `voices`. Each voice has a pentagram divided in `measures` (or _bars,_ or _battute_ in italian), each having a number of beats indicated by its _time signature,_ like $\\large \\substack{3\\\\4}$\n",
    "\n",
    "Simple time signatures consist of two numerals, one stacked above the other:\n",
    "\n",
    "- The upper numeral `time_sig_num` (`3`) indicates how many such beats constitute a bar\n",
    "- The lower numeral `time_sig_denom` (`4`) indicates the note value that represents one beat (the beat unit) \n",
    "\n",
    "* **NOTE**: the lower numeral is not important for our purposes, you will just print it on the pentagrams\n",
    "\n",
    "For the purposes of this exercise, we assume each measure contains exactly `time_sig_num` notes."
   ]
  },
  {
   "cell_type": "markdown",
   "metadata": {},
   "source": [
    "On the chart, note the x axis measures start **at 1** and each measure has **chart length 1**. Notice the pentagrams start a bit before the `1` position because is some info like the time signature and the clef.\n",
    "\n",
    "* **NOTE**: horizontal tick `0` is not shown\n",
    "\n",
    "Vertically, each voice pentagram begins at an integer position, **starting from 1**. Each line of the pentagram occupies a vertical space we can imagine subdivided in `divs=7` divisions, in the chart you see 5 divisions for the pentagram lines and 2 invisible ones to separate from voice above.\n",
    "\n",
    "* **NOTE**: vertical tick `0` is not shown"
   ]
  },
  {
   "cell_type": "markdown",
   "metadata": {},
   "source": [
    "\n",
    "## The variables\n",
    "\n",
    "<div class=\"alert alert-warning\">\n",
    "\n",
    "**DO NOT put unnecessary constants in your code !**\n",
    "    \n",
    "For example, instead of writing `5` you should use the variable `measures` defined down here\n",
    "</div>"
   ]
  },
  {
   "cell_type": "code",
   "execution_count": 1,
   "metadata": {},
   "outputs": [],
   "source": [
    "# this is *not* a python command, it is a Jupyter-specific magic command,\n",
    "# to tell jupyter we want the graphs displayed in the cell outputs\n",
    "%matplotlib inline\n",
    "\n",
    "# imports matplotlib\n",
    "import matplotlib.pyplot as plt\n",
    "from pprint import pprint\n",
    "import numpy as np\n",
    "\n",
    "# USE THESE VARIABLES !!\n",
    "measures       = 5   # also called bars\n",
    "voices         = 3   # number of pentagrams\n",
    "time_sig_num   = 3\n",
    "time_sig_denom = 4\n",
    "divs = 7  # number of vertical divisions for each voice  (5 lines for each pentagram + 2 imaginary lines)"
   ]
  },
  {
   "cell_type": "markdown",
   "metadata": {},
   "source": [
    "\n",
    "\n",
    "## 1. plot_sheet\n",
    "\n",
    "Implement `plot_sheet`, which draws sheet info like title, axes, xticks, yticks ...\n",
    "    \n",
    "- **DO NOT** draw the pentagrams\n",
    "- **NOTE**: tick 0 is not shown"
   ]
  },
  {
   "cell_type": "markdown",
   "metadata": {},
   "source": [
    "![sheet](sheet-sol.png)"
   ]
  },
  {
   "cell_type": "markdown",
   "metadata": {},
   "source": [
    "\n",
    "<div class=\"alert alert-warning\">\n",
    "\n",
    "**WARNING 1: you need only this ONE call to** `plt.figure` \n",
    "</div>\n",
    "\n",
    "<div class=\"alert alert-warning\">\n",
    "\n",
    "**WARNING 2: beware of** `plt.show()`\n",
    "    \n",
    "If you execute this outside of Jupyter, you will need to call `plt.show()` ONLY ONCE, at the very end of all plotting stuff (outside the functions!)\n",
    "</div>\n"
   ]
  },
  {
   "cell_type": "code",
   "execution_count": 2,
   "metadata": {},
   "outputs": [
    {
     "data": {
      "image/png": "[encoded data removed]",
      "text/plain": [
       "<Figure size 720x504 with 1 Axes>"
      ]
     },
     "metadata": {},
     "output_type": "display_data"
    }
   ],
   "source": [
    "\n",
    "def plot_sheet():  \n",
    "    fig = plt.figure(figsize=(10,7))  # 10 inches large by 7 high      \n",
    "    raise Exception(\"TODO IMPLEMENT ME!\")\n",
    "    \n",
    "\n",
    "plot_sheet()\n",
    "#plt.savefig('sheet-sol.png')"
   ]
  },
  {
   "cell_type": "markdown",
   "metadata": {},
   "source": [
    "## 2. plot_pentagram\n",
    "\n",
    "Given a voice integer **from 1** (**NOT ZERO!!!**) to `voices` included,  draws its pentagram.\n",
    "\n",
    "- **DO NOT** draw the notes\n"
   ]
  },
  {
   "cell_type": "markdown",
   "metadata": {},
   "source": [
    "![pentagram-sol](pentagram-sol.png)"
   ]
  },
  {
   "cell_type": "markdown",
   "metadata": {},
   "source": [
    "Try to draw stuff in this sequence:\n",
    "    \n",
    "1 - draw horizontal lines, starting from measure `1`. Leave some space before `1` to put later the clef. To obtain the y coordinates, use `np.linspace`  \n",
    "\n",
    "- **REMEMBER** to check you have a measure drawn _after_ the `5` tick !\n",
    "- **HINT**: Since you will have to plot several detached lines, for each you will need to do a separate call to `plt.plot`. "
   ]
  },
  {
   "cell_type": "markdown",
   "metadata": {},
   "source": [
    "2 - draw vertical bars between measures - don't put a bar at beginning of first measure. To obtain the x coordinates, use `np.linspace`\n"
   ]
  },
  {
   "cell_type": "markdown",
   "metadata": {},
   "source": [
    "3 - draw time signature text. To draw a string s at position x, y, you need to call this:\n",
    "\n",
    "```python\n",
    "plt.text(x, y, s, fontsize=19,  fontweight='bold')\n",
    "```"
   ]
  },
  {
   "cell_type": "markdown",
   "metadata": {},
   "source": [
    "4 - draw clef: put provided image `clef.png`. To draw the image, you need to call some code like this, by using the appropriate numerical coordinates in place of `xleft`, `xright`, `ybottom`, `ytop` which delimit the place where the image is put. \n",
    "\n",
    "```python\n",
    "clef = plt.imread('clef.png')\n",
    "plt.imshow(clef, extent=[xleft, xright, ybottom, ytop])\n",
    "```\n",
    "\n",
    "- **NOTE 1**: If you see nothing, it maybe be you are drawing outside of the area or the given frame is too small. \n",
    "- **NOTE 2**: `xright` and `ytop` are absolute coordinates, **not** width and height!\n"
   ]
  },
  {
   "cell_type": "code",
   "execution_count": 3,
   "metadata": {},
   "outputs": [
    {
     "data": {
      "image/png": "[encoded data removed]",
      "text/plain": [
       "<Figure size 720x504 with 1 Axes>"
      ]
     },
     "metadata": {},
     "output_type": "display_data"
    }
   ],
   "source": [
    "def plot_pentagram(voice):\n",
    "    \"\"\" Takes a voice from 1 to n and draws its pentagram. Try to draw stuff in this sequence:\n",
    "    \n",
    "        - horizontal lines, starting from measure 1. Leave some space before 1 to put later the clef\n",
    "        - vertical bars - don't put a bar at beginning of first measure\n",
    "        - time signature text\n",
    "        - clef - put image clef.png\n",
    "    \"\"\"    \n",
    "    raise Exception(\"TODO IMPLEMENT ME!\")\n",
    "\n",
    "# NOTE: putting *all* commands in a cell\n",
    "plot_sheet() \n",
    "plot_pentagram(1)\n",
    "#plt.savefig('pentagram-sol.png')"
   ]
  },
  {
   "cell_type": "markdown",
   "metadata": {},
   "source": [
    "## 3. plot_notes\n",
    "\n",
    "Implement function `plot_notes` which takes a voice integer **from 1** to n and a database of notes as a list of lists and draws the notes of that voice\n",
    "\n",
    "- notes are integers from `min_note=0` to `max_note=8`\n",
    "- we assume we can only have notes that con be positioned inside the pentagram, so bottom note starts at `E4`  (middle height of bottom pentagram  line) and highest note is `F5` (middle height of top pentagram line).\n",
    "- to set dots size, use `markersize=9` parameter\n",
    "- to set dots color, use `color='black'` parameter"
   ]
  },
  {
   "cell_type": "code",
   "execution_count": 4,
   "metadata": {},
   "outputs": [],
   "source": [
    "\n",
    "# these are just labels, but you don't need to put them anywhere\n",
    "# http://newt.phys.unsw.edu.au/jw/notes.html\n",
    "           #  0    1    2    3    4    5    6    7    8 \n",
    "notes_scale=['E4','F4','G4','A4','B4','C5','D5','E5','F5']  \n",
    "min_note = 0\n",
    "max_note = len(notes_scale) - 1\n",
    "\n",
    "\n",
    "# This is provided, DO NOT TOUCH IT!\n",
    "def random_notes(voices, measures, time_sig_num, seed):\n",
    "    \"\"\" Generates a random list of lists of notes. Generated notes depend on seed numerical value.\n",
    "    \"\"\"\n",
    "    import random\n",
    "    random.seed(seed)\n",
    "    ret = []\n",
    "    for i in range(voices):\n",
    "        ret.append([random.randint(min_note,max_note) for i in range(measures*(time_sig_num))])    \n",
    "    return ret\n",
    "    \n",
    "\n",
    "# This is provided, DO NOT TOUCH IT!\n",
    "def musical_scale(voices, measures, time_sig_num):\n",
    "    \"\"\" Generates a scale of notes\n",
    "    \"\"\"\n",
    "    ret = []\n",
    "    for i in range(voices):\n",
    "        j = min_note\n",
    "        ret.append((list(range(max_note+1))*100)[:measures*time_sig_num])    \n",
    "    return ret\n",
    "    \n",
    "    \n",
    "def plot_notes(voice, notes): \n",
    "    raise Exception(\"TODO IMPLEMENT ME!\")"
   ]
  },
  {
   "cell_type": "code",
   "execution_count": 5,
   "metadata": {},
   "outputs": [
    {
     "name": "stdout",
     "output_type": "stream",
     "text": [
      "notes:\n",
      "[[0, 1, 2, 3, 4, 5, 6, 7, 8, 0, 1, 2, 3, 4, 5],\n",
      " [0, 1, 2, 3, 4, 5, 6, 7, 8, 0, 1, 2, 3, 4, 5],\n",
      " [0, 1, 2, 3, 4, 5, 6, 7, 8, 0, 1, 2, 3, 4, 5]]\n"
     ]
    },
    {
     "data": {
      "image/png": "[encoded data removed]",
      "text/plain": [
       "<Figure size 720x504 with 1 Axes>"
      ]
     },
     "metadata": {},
     "output_type": "display_data"
    }
   ],
   "source": [
    "notes = musical_scale(voices, measures, time_sig_num)\n",
    "#notes = random_notes(voices, measures, time_sig_num, 0)\n",
    "from pprint import pprint\n",
    "print('notes:')\n",
    "pprint(notes)\n",
    "plot_sheet()\n",
    "plot_pentagram(1)\n",
    "plot_notes(1, notes)\n",
    "#plt.savefig('notes-sol.png')"
   ]
  },
  {
   "cell_type": "markdown",
   "metadata": {},
   "source": [
    "![notessol](notes-sol.png)"
   ]
  },
  {
   "cell_type": "markdown",
   "metadata": {},
   "source": [
    "## Final result 1\n",
    "\n",
    "Putting all together, and using random notes, you should get this: "
   ]
  },
  {
   "cell_type": "code",
   "execution_count": 6,
   "metadata": {},
   "outputs": [
    {
     "data": {
      "image/png": "[encoded data removed]",
      "text/plain": [
       "<Figure size 720x504 with 1 Axes>"
      ]
     },
     "metadata": {},
     "output_type": "display_data"
    }
   ],
   "source": [
    "measures       = 5   # also called bars\n",
    "voices         = 3   # number of pentagrams\n",
    "time_sig_num   = 3\n",
    "time_sig_denom = 4\n",
    "divs = 7\n",
    "\n",
    "plot_sheet()\n",
    "for i in range(1,voices+1):\n",
    "    plot_pentagram(i)\n",
    "\n",
    "#notes = musical_scale(voices, measures, time_sig_num)\n",
    "notes = random_notes(voices, measures, time_sig_num, 0)\n",
    "\n",
    "for i in range(1,voices+1):\n",
    "    plot_notes(i, notes)\n",
    "\n",
    "#plt.savefig('final-sol-1.png')"
   ]
  },
  {
   "cell_type": "markdown",
   "metadata": {},
   "source": [
    "![finalsol](final-sol-1.png)"
   ]
  },
  {
   "cell_type": "markdown",
   "metadata": {},
   "source": [
    "## Final result 2\n",
    "\n",
    "Quite probably you used too many constants in your code instead of using variables at the beginning of the notebook, so let's see if it is general enough to work with sheets that have a different number of voices, measures, etc:"
   ]
  },
  {
   "cell_type": "code",
   "execution_count": 7,
   "metadata": {},
   "outputs": [
    {
     "data": {
      "image/png": "[encoded data removed]",
      "text/plain": [
       "<Figure size 720x504 with 1 Axes>"
      ]
     },
     "metadata": {},
     "output_type": "display_data"
    }
   ],
   "source": [
    "# WARNING: CHANGED VARIABLES !!!!\n",
    "measures       = 7  \n",
    "voices         = 4  \n",
    "time_sig_num   = 5\n",
    "time_sig_denom = 9\n",
    "divs = 7  \n",
    "\n",
    "plot_sheet()\n",
    "for i in range(1,voices+1):\n",
    "    plot_pentagram(i)\n",
    "\n",
    "#notes = musical_scale(voices, measures, time_sig_num)\n",
    "notes = random_notes(voices, measures, time_sig_num, 0)\n",
    "\n",
    "for i in range(1,voices+1):\n",
    "    plot_notes(i, notes)\n",
    "\n",
    "#plt.savefig('final-sol-2.png')"
   ]
  },
  {
   "cell_type": "markdown",
   "metadata": {},
   "source": [
    "![final-sol-2](final-sol-2.png)"
   ]
  }
 ],
 "metadata": {
  "kernelspec": {
   "display_name": "Python 3 (ipykernel)",
   "language": "python",
   "name": "python3"
  },
  "language_info": {
   "codemirror_mode": {
    "name": "ipython",
    "version": 3
   },
   "file_extension": ".py",
   "mimetype": "text/x-python",
   "name": "python",
   "nbconvert_exporter": "python",
   "pygments_lexer": "ipython3",
   "version": "3.7.10"
  },
  "toc": {
   "base_numbering": 1,
   "nav_menu": {},
   "number_sections": false,
   "sideBar": true,
   "skip_h1_title": false,
   "title_cell": "Table of Contents",
   "title_sidebar": "Contents",
   "toc_cell": false,
   "toc_position": {},
   "toc_section_display": true,
   "toc_window_display": false
  }
 },
 "nbformat": 4,
 "nbformat_minor": 4
}
