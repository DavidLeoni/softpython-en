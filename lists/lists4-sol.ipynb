{
 "cells": [
  {
   "cell_type": "code",
   "execution_count": 1,
   "id": "64b246c2",
   "metadata": {
    "nbsphinx": "hidden"
   },
   "outputs": [],
   "source": [
    "# Remember to execute this cell with Shift+Enter\n",
    "\n",
    "import jupman"
   ]
  },
  {
   "cell_type": "markdown",
   "id": "3bf7e2fd",
   "metadata": {},
   "source": [
    "# Lists 4 - Search methods\n",
    "\n",
    "\n",
    "## [Download exercises zip](../_static/generated/lists.zip)\n",
    "\n",
    "[Browse files online](https://github.com/DavidLeoni/softpython-en/tree/master/lists)"
   ]
  },
  {
   "cell_type": "markdown",
   "id": "f37a9a3d",
   "metadata": {},
   "source": [
    "Lists offer several different methods to perform searches and transformations inside them, but beware: the power is nothing without control! Sometimes you might feel the need to use them, but very often they hide traps you will later regret. So whenever you write code with one of these methods, **always ask yourself the questions we will stress**."
   ]
  },
  {
   "cell_type": "markdown",
   "id": "a1dfda4d",
   "metadata": {},
   "source": [
    "|Method|Returns|Description|\n",
    "|-------|------|-----------|\n",
    "|[str1.split(str2)](#split-method---from-strings-to-lists)|`list`|Produces a list with all the words in str1 separated from str2| \n",
    "|[list.count(obj)](#count-method)|`int`|Counts the occurrences of an element|\n",
    "|[list.index(obj)](#index-method)|`int`| Searches for the first occurence of an element and returns its position|\n",
    "|[list.remove(obj)](#remove-method)|`None`|Removes the first occurrence of an element|"
   ]
  },
  {
   "cell_type": "markdown",
   "id": "d96fe764",
   "metadata": {},
   "source": [
    "## What to do\n",
    "\n",
    "1. Unzip [exercises zip](../_static/generated/lists.zip) in a folder, you should obtain something like this:\n",
    "\n",
    "```\n",
    "lists\n",
    "    lists1.ipynb    \n",
    "    lists1-sol.ipynb         \n",
    "    lists2.ipynb\n",
    "    lists2-sol.ipynb\n",
    "    lists3.ipynb\n",
    "    lists3-sol.ipynb    \n",
    "    lists4.ipynb\n",
    "    lists4-sol.ipynb    \n",
    "    lists5-chal.ipynb\n",
    "    jupman.py         \n",
    "```\n",
    "\n",
    "<div class=\"alert alert-warning\">\n",
    "\n",
    "**WARNING: to correctly visualize the notebook, it MUST be in an unzipped folder !**\n",
    "</div>"
   ]
  },
  {
   "cell_type": "markdown",
   "id": "96b0d3c3",
   "metadata": {},
   "source": [
    "2. open Jupyter Notebook from that folder. Two things should open, first a console and then a browser. The browser should show a file list: navigate the list and open the notebook `lists4.ipynb`\n",
    "\n",
    "3. Go on reading the exercises file, sometimes you will find paragraphs marked **Exercises** which will ask to write Python commands in the following cells."
   ]
  },
  {
   "cell_type": "markdown",
   "id": "c9e1b9cb",
   "metadata": {},
   "source": [
    "Shortcut keys:\n",
    "\n",
    "- to execute Python code inside a Jupyter cell, press `Control + Enter`\n",
    "\n",
    "- to execute Python code inside a Jupyter cell AND select next cell, press `Shift + Enter`\n",
    "\n",
    "- to execute Python code inside a Jupyter cell AND a create a new cell aftwerwards, press `Alt + Enter`\n",
    "\n",
    "- If the notebooks look stuck, try to select `Kernel -> Restart`"
   ]
  },
  {
   "cell_type": "markdown",
   "id": "964d0048",
   "metadata": {},
   "source": [
    "## `split` method - from strings to lists\n",
    "\n",
    "The `split` method of strings does the opposite of `join`: it's called on a string, and a separater is passed as parameter, which can be a single character or a substring. The result is a list of strings without the separator."
   ]
  },
  {
   "cell_type": "code",
   "execution_count": 2,
   "id": "742aa694",
   "metadata": {},
   "outputs": [
    {
     "data": {
      "text/plain": [
       "['Finally ', ' pirates shared ', ' treasure']"
      ]
     },
     "execution_count": 2,
     "metadata": {},
     "output_type": "execute_result"
    }
   ],
   "source": [
    "\"Finally the pirates shared the treasure\".split(\"the\")"
   ]
  },
  {
   "cell_type": "markdown",
   "id": "f6edf81d",
   "metadata": {},
   "source": [
    "By calling `split` without arguments generic _blanks_ are used as separators (space, `\\n`, tab `\\t`, etc)"
   ]
  },
  {
   "cell_type": "code",
   "execution_count": 3,
   "id": "3b36997d",
   "metadata": {},
   "outputs": [
    {
     "name": "stdout",
     "output_type": "stream",
     "text": [
      "Finally the\n",
      "pirates\tshared     the treasure\n"
     ]
    }
   ],
   "source": [
    "s = \"Finally the\\npirates\\tshared     the treasure\"\n",
    "print(s)"
   ]
  },
  {
   "cell_type": "code",
   "execution_count": 4,
   "id": "e043970e",
   "metadata": {},
   "outputs": [
    {
     "data": {
      "text/plain": [
       "['Finally', 'the', 'pirates', 'shared', 'the', 'treasure']"
      ]
     },
     "execution_count": 4,
     "metadata": {},
     "output_type": "execute_result"
    }
   ],
   "source": [
    "s.split()"
   ]
  },
  {
   "cell_type": "markdown",
   "id": "5bd03673",
   "metadata": {},
   "source": [
    "It's also possible to limit the number of elements to split by specifying the parameter `maxsplit`:"
   ]
  },
  {
   "cell_type": "code",
   "execution_count": 5,
   "id": "8996e53d",
   "metadata": {},
   "outputs": [
    {
     "data": {
      "text/plain": [
       "['Finally', 'the', 'pirates\\tshared     the treasure']"
      ]
     },
     "execution_count": 5,
     "metadata": {},
     "output_type": "execute_result"
    }
   ],
   "source": [
    "s.split(maxsplit=2)"
   ]
  },
  {
   "cell_type": "markdown",
   "id": "f40dc1d2",
   "metadata": {},
   "source": [
    "<div class=\"alert alert-warning\">\n",
    "    \n",
    "**WARNING**: What happens if the string does _not_ contain the separator? Remember to also consider this case!\n",
    "</div>"
   ]
  },
  {
   "cell_type": "code",
   "execution_count": 6,
   "id": "c6b1843d",
   "metadata": {},
   "outputs": [
    {
     "data": {
      "text/plain": [
       "['I talk and overtalk and I never ever take a break']"
      ]
     },
     "execution_count": 6,
     "metadata": {},
     "output_type": "execute_result"
    }
   ],
   "source": [
    "\"I talk and overtalk and I never ever take a break\".split(',')"
   ]
  },
  {
   "cell_type": "markdown",
   "id": "5e7e93fc",
   "metadata": {},
   "source": [
    "**QUESTION**: Look at thie cose. Will it print something? Or will it produce an error?"
   ]
  },
  {
   "cell_type": "markdown",
   "id": "7b0fb162",
   "metadata": {},
   "source": [
    "1.  ```python\n",
    "    \"revolving\\tdoor\".split()\n",
    "    ```\n",
    "1.  ```python\n",
    "    \"take great\\t\\ncare\".split()    \n",
    "    ```\n",
    "1.  ```python\n",
    "    \"do not\\tforget\\nabout\\tme\".split('\\t')    \n",
    "    ```    \n",
    "1.  ```python\n",
    "    \"non ti scordar\\ndi\\tme\".split(' ')\n",
    "    ```\n",
    "1.  ```python\n",
    "    \"The Guardian of the Abyss stared at us\".split('abyss')[1]\n",
    "    ```    \n",
    "1.  ```python\n",
    "    \"\".split('abyss')[0]\n",
    "    ```    \n",
    "1.  ```python\n",
    "    \"abyss_OOOO_abyss\".split('abyss')[0]\n",
    "    ```"
   ]
  },
  {
   "cell_type": "markdown",
   "id": "f51c0c23",
   "metadata": {},
   "source": [
    "### Exercise - trash dance\n",
    "\n",
    "You've been hired to dance in the last video of the notorious band _Melodic Trash_. You can't miss this golden opportunity. Excited, you start reading the score, but you find a lot of errors - of course the band doesn't  need to know about writing scores to get tv time. There are strange symbols, and the last bar is too long (after the sixth bar) and needs to be put one row at a time. Write some code which fixes the score in a list `dance`.\n",
    "\n",
    "* **DO NOT** write string constants from the input in your code (so no `\"Ra Ta Pam\"` ...)\n",
    "\n",
    "Example - given:\n",
    "\n",
    "```python\n",
    "music = \"Zam Dam\\tZa Bum Bum\\tZam\\tBam To Tum\\tRa Ta Pam\\tBar Ra\\tRammaGumma  Unza\\n\\t\\nTACAUACA \\n BOOMBOOM!\"\n",
    "```\n",
    "\n",
    "after your code it must result:\n",
    "\n",
    "```python\n",
    ">>> print(dance)\n",
    "['Zam Dam',\n",
    " 'Za Bum Bum',\n",
    " 'Zam',\n",
    " 'Bam To Tum',\n",
    " 'Ra Ta Pam',\n",
    " 'Bar Ra',\n",
    " 'RammaGumma',\n",
    " 'Unza',\n",
    " 'TACAUACA',\n",
    " 'BOOMBOOM!']\n",
    "```"
   ]
  },
  {
   "cell_type": "raw",
   "id": "bc3b98ed",
   "metadata": {
    "format": "text/html"
   },
   "source": [
    "<a  class=\"jupman-sol jupman-sol-toggler\" \n",
    " onclick=\"jupman.toggleSolution(this);\" \n",
    " data-jupman-show=\"Show solution\" data-jupman-hide=\"Hide\">Show solution</a><div class=\"jupman-sol jupman-sol-code\" style=\"display:none\">  "
   ]
  },
  {
   "cell_type": "code",
   "execution_count": 7,
   "id": "0bfd8334",
   "metadata": {},
   "outputs": [
    {
     "data": {
      "text/plain": [
       "['Zam Dam',\n",
       " 'Za Bum Bum',\n",
       " 'Zam',\n",
       " 'Bam To Tum',\n",
       " 'Ra Ta Pam',\n",
       " 'Bar Ra',\n",
       " 'RammaGumma',\n",
       " 'Unza',\n",
       " 'TACAUACA',\n",
       " 'BOOMBOOM!']"
      ]
     },
     "execution_count": 7,
     "metadata": {},
     "output_type": "execute_result"
    }
   ],
   "source": [
    "\n",
    "\n",
    "music = \"Zam Dam\\tZa Bum Bum\\tZam\\tBam To Tum\\tRa Ta Pam\\tBar Ra\\tRammaGumma  Unza\\n\\t\\nTACAUACA \\n BOOMBOOM!\"\n",
    "\n",
    "# write here\n",
    "\n",
    "dance = music.split('\\t',maxsplit=6)\n",
    "dance = dance[:-1] + dance[-1].split()\n",
    "dance"
   ]
  },
  {
   "cell_type": "raw",
   "id": "dfac9016",
   "metadata": {
    "format": "text/html"
   },
   "source": [
    "</div>"
   ]
  },
  {
   "cell_type": "code",
   "execution_count": 7,
   "id": "0bfd8334-stripped",
   "metadata": {},
   "outputs": [],
   "source": [
    "\n",
    "\n",
    "music = \"Zam Dam\\tZa Bum Bum\\tZam\\tBam To Tum\\tRa Ta Pam\\tBar Ra\\tRammaGumma  Unza\\n\\t\\nTACAUACA \\n BOOMBOOM!\"\n",
    "\n",
    "# write here\n",
    "\n"
   ]
  },
  {
   "cell_type": "markdown",
   "id": "5ce1fbf7",
   "metadata": {},
   "source": [
    "### Exercise - Trash in tour\n",
    "\n",
    "The _Melodic Trash_ band strikes again! In a new tour they present the summer hits. The records company only provides the sales numbers in angosaxon format, so before communicating them to Italian media we need a conversion.\n",
    "\n",
    "Write some code which given the `hits` and a `position` in the hit parade, (from `1` to `4`),  prints the sales number.\n",
    "\n",
    "- **NOTE**: commas must be substituted with dots\n",
    "\n",
    "Example - given:\n",
    "\n",
    "```python\n",
    "hits = \"\"\"6,230,650 - I love you like the moldy tomatoes in the fridge\n",
    "2,000,123 - The pain of living filthy rich\n",
    "100,000 - Groupies are never enough\n",
    "837 - Do you remember the trashcans in the summer...\"\"\"\n",
    "\n",
    "position = 1   # the tomatoes\n",
    "#position = 4  # the trashcans\n",
    "```\n",
    "\n",
    "Prints:\n",
    "```\n",
    "\n",
    "Number 1 in hit parade \"I love you like the moldy tomatoes in the fridge\" sold 6.230.650 copies\n",
    "```"
   ]
  },
  {
   "cell_type": "raw",
   "id": "2c29ccf8",
   "metadata": {
    "format": "text/html"
   },
   "source": [
    "<a  class=\"jupman-sol jupman-sol-toggler\" \n",
    " onclick=\"jupman.toggleSolution(this);\" \n",
    " data-jupman-show=\"Show solution\" data-jupman-hide=\"Hide\">Show solution</a><div class=\"jupman-sol jupman-sol-code\" style=\"display:none\">  "
   ]
  },
  {
   "cell_type": "code",
   "execution_count": 8,
   "id": "b6de080d",
   "metadata": {},
   "outputs": [
    {
     "name": "stdout",
     "output_type": "stream",
     "text": [
      "Number 1 in hit parade \"I love you like the moldy tomatoes in the fridge\" sold 6.230.650 copies\n"
     ]
    }
   ],
   "source": [
    "\n",
    "hits = \"\"\"6,230,650 - I love you like the moldy tomatoes in the fridge\n",
    "2,000,123 - The pain of living filthy rich\n",
    "100,000 - Groupies are never enough\n",
    "837 - Do you remember the trashcans in the summer...\"\"\"\n",
    "\n",
    "position = 1   # the tomatoes\n",
    "#position = 4  # the trashcans\n",
    "\n",
    "# write here\n",
    "\n",
    "lst = hits.split('\\n')\n",
    "ext = lst[position-1].split(' - ')\n",
    "\n",
    "print(\"Number\", position, \"in hit parade\", '\"' + ext[1] + '\"', \n",
    "      'sold', '.'.join(ext[0].split(',')), 'copies')"
   ]
  },
  {
   "cell_type": "raw",
   "id": "7f558204",
   "metadata": {
    "format": "text/html"
   },
   "source": [
    "</div>"
   ]
  },
  {
   "cell_type": "code",
   "execution_count": 8,
   "id": "b6de080d-stripped",
   "metadata": {},
   "outputs": [],
   "source": [
    "\n",
    "hits = \"\"\"6,230,650 - I love you like the moldy tomatoes in the fridge\n",
    "2,000,123 - The pain of living filthy rich\n",
    "100,000 - Groupies are never enough\n",
    "837 - Do you remember the trashcans in the summer...\"\"\"\n",
    "\n",
    "position = 1   # the tomatoes\n",
    "#position = 4  # the trashcans\n",
    "\n",
    "# write here\n",
    "\n"
   ]
  },
  {
   "cell_type": "markdown",
   "id": "398d50a8",
   "metadata": {},
   "source": [
    "### Exercise - manylines\n",
    "\n",
    "Given the following string of text:\n",
    "\n",
    "```python\n",
    "\"\"\"This is a string\n",
    "of text on\n",
    "several lines which tells nothing.\"\"\"\n",
    "```\n",
    "\n",
    "1. print it\n",
    "\n",
    "2. prints how many lines, words and characters it contains\n",
    "\n",
    "3. sort the words in alphabetical order and print the first and last ones in lexicographical order\n",
    "\n",
    "You should obtain:\n",
    "\n",
    "```\n",
    "This is a string\n",
    "of text on\n",
    "several lines which tells nothing.\n",
    "\n",
    "Lines: 3   words: 12   chars: 62\n",
    "\n",
    "['T', 'h', 'i', 's', ' ', 'i', 's', ' ', 'a', ' ', 's', 't', 'r', 'i', 'n', 'g', '\\n', 'o', 'f', ' ', 't', 'e', 'x', 't', ' ', 'o', 'n', '\\n', 's', 'e', 'v', 'e', 'r', 'a', 'l', ' ', 'l', 'i', 'n', 'e', 's', ' ', 'w', 'h', 'i', 'c', 'h', ' ', 't', 'e', 'l', 'l', 's', ' ', 'n', 'o', 't', 'h', 'i', 'n', 'g', '.']\n",
    "62\n",
    "\n",
    "First word: This\n",
    "Last word : which\n",
    "['This', 'a', 'is', 'lines', 'nothing.', 'of', 'on', 'several', 'string', 'tells', 'text', 'which']\n",
    "```"
   ]
  },
  {
   "cell_type": "raw",
   "id": "43f3f7cf",
   "metadata": {
    "format": "text/html"
   },
   "source": [
    "<a  class=\"jupman-sol jupman-sol-toggler\" \n",
    " onclick=\"jupman.toggleSolution(this);\" \n",
    " data-jupman-show=\"Show solution\" data-jupman-hide=\"Hide\">Show solution</a><div class=\"jupman-sol jupman-sol-code\" style=\"display:none\">  "
   ]
  },
  {
   "cell_type": "code",
   "execution_count": 9,
   "id": "6fa6b2cd",
   "metadata": {},
   "outputs": [
    {
     "name": "stdout",
     "output_type": "stream",
     "text": [
      "This is a string\n",
      "of text on\n",
      "several lines which tells nothing.\n",
      "\n",
      "Lines: 3   words: 12   chars: 62\n",
      "\n",
      "['T', 'h', 'i', 's', ' ', 'i', 's', ' ', 'a', ' ', 's', 't', 'r', 'i', 'n', 'g', '\\n', 'o', 'f', ' ', 't', 'e', 'x', 't', ' ', 'o', 'n', '\\n', 's', 'e', 'v', 'e', 'r', 'a', 'l', ' ', 'l', 'i', 'n', 'e', 's', ' ', 'w', 'h', 'i', 'c', 'h', ' ', 't', 'e', 'l', 'l', 's', ' ', 'n', 'o', 't', 'h', 'i', 'n', 'g', '.']\n",
      "62\n",
      "\n",
      "First word: This\n",
      "Last word : which\n",
      "['This', 'a', 'is', 'lines', 'nothing.', 'of', 'on', 'several', 'string', 'tells', 'text', 'which']\n"
     ]
    }
   ],
   "source": [
    "\n",
    "\n",
    "s = \"\"\"This is a string\n",
    "of text on\n",
    "several lines which tells nothing.\"\"\"\n",
    "\n",
    "# write here\n",
    "\n",
    "# 1) print\n",
    "print(s)\n",
    "print(\"\")\n",
    "\n",
    "# 2) prints the lines, words and characters\n",
    "lines = s.split('\\n')\n",
    "\n",
    "# NOTE: words are separated by a space or a newline\n",
    "\n",
    "words = lines[0].split(' ') + lines[1].split(' ') + lines[2].split(' ')\n",
    "num_chars = len(s)\n",
    "print(\"Lines:\", len(lines), \"  words:\", len(words), \"  chars:\", num_chars)\n",
    "\n",
    "# alternative method for number of characters\n",
    "print(\"\")\n",
    "characters = list(s)\n",
    "num_chars2 = len(characters)\n",
    "print(characters)\n",
    "print(num_chars2)\n",
    "\n",
    "# 3. alphabetically order the words and prints the first and last one in lexicographical order\n",
    "\n",
    "words.sort() # NOTE: it returns NOTHING !!!!\n",
    "print(\"\")\n",
    "print(\"First word:\", words[0])\n",
    "print(\"Last word :\", words[-1])\n",
    "print(words)"
   ]
  },
  {
   "cell_type": "raw",
   "id": "3f7efee1",
   "metadata": {
    "format": "text/html"
   },
   "source": [
    "</div>"
   ]
  },
  {
   "cell_type": "code",
   "execution_count": 9,
   "id": "6fa6b2cd-stripped",
   "metadata": {},
   "outputs": [],
   "source": [
    "\n",
    "\n",
    "s = \"\"\"This is a string\n",
    "of text on\n",
    "several lines which tells nothing.\"\"\"\n",
    "\n",
    "# write here\n",
    "\n"
   ]
  },
  {
   "cell_type": "markdown",
   "id": "7610e262",
   "metadata": {},
   "source": [
    "### Exercise - takechars\n",
    "\n",
    "✪ Given a `phrase` which contains **exactly** 3 words and has **always** as a central word a number $n$, write some code which PRINTS the first $n$ characters of the third word.\n",
    "\n",
    "Example - given:\n",
    "\n",
    "```python\n",
    "phrase = \"Take 4 letters\"\n",
    "```\n",
    "\n",
    "your code must print:\n",
    "\n",
    "```\n",
    "lett\n",
    "```\n"
   ]
  },
  {
   "cell_type": "raw",
   "id": "a273b453",
   "metadata": {
    "format": "text/html"
   },
   "source": [
    "<a  class=\"jupman-sol jupman-sol-toggler\" \n",
    " onclick=\"jupman.toggleSolution(this);\" \n",
    " data-jupman-show=\"Show solution\" data-jupman-hide=\"Hide\">Show solution</a><div class=\"jupman-sol jupman-sol-code\" style=\"display:none\">  "
   ]
  },
  {
   "cell_type": "code",
   "execution_count": 10,
   "id": "d47ad51b",
   "metadata": {},
   "outputs": [
    {
     "name": "stdout",
     "output_type": "stream",
     "text": [
      "lett\n"
     ]
    }
   ],
   "source": [
    "\n",
    "phrase = \"Take 4 letters\"        # lett\n",
    "#phrase= \"Getting 5 caratters\"   # carat\n",
    "#phrase= \"Take 10 characters\"    # characters\n",
    "\n",
    "# write here\n",
    "words = phrase.split()\n",
    "n = int(words[1])\n",
    "print(words[2][:n])"
   ]
  },
  {
   "cell_type": "raw",
   "id": "7f63014b",
   "metadata": {
    "format": "text/html"
   },
   "source": [
    "</div>"
   ]
  },
  {
   "cell_type": "code",
   "execution_count": 10,
   "id": "d47ad51b-stripped",
   "metadata": {},
   "outputs": [],
   "source": [
    "\n",
    "phrase = \"Take 4 letters\"        # lett\n",
    "#phrase= \"Getting 5 caratters\"   # carat\n",
    "#phrase= \"Take 10 characters\"    # characters\n",
    "\n",
    "# write here\n",
    "\n"
   ]
  },
  {
   "cell_type": "markdown",
   "id": "96f95907",
   "metadata": {},
   "source": [
    "## `count` method\n",
    "\n",
    "We can find the number of occurrences of a certain element in a list by using the method `count`"
   ]
  },
  {
   "cell_type": "code",
   "execution_count": 11,
   "id": "e920765a",
   "metadata": {},
   "outputs": [],
   "source": [
    "la = ['a', 'n', 'a', 'c', 'o', 'n', 'd', 'a']"
   ]
  },
  {
   "cell_type": "code",
   "execution_count": 12,
   "id": "9792c6ee",
   "metadata": {},
   "outputs": [
    {
     "data": {
      "text/plain": [
       "2"
      ]
     },
     "execution_count": 12,
     "metadata": {},
     "output_type": "execute_result"
    }
   ],
   "source": [
    "la.count('n')"
   ]
  },
  {
   "cell_type": "code",
   "execution_count": 13,
   "id": "600aa970",
   "metadata": {},
   "outputs": [
    {
     "data": {
      "text/plain": [
       "3"
      ]
     },
     "execution_count": 13,
     "metadata": {},
     "output_type": "execute_result"
    }
   ],
   "source": [
    "la.count('a')"
   ]
  },
  {
   "cell_type": "code",
   "execution_count": 14,
   "id": "2184c5fa",
   "metadata": {},
   "outputs": [
    {
     "data": {
      "text/plain": [
       "1"
      ]
     },
     "execution_count": 14,
     "metadata": {},
     "output_type": "execute_result"
    }
   ],
   "source": [
    "la.count('d')"
   ]
  },
  {
   "cell_type": "markdown",
   "id": "7b88e66a",
   "metadata": {},
   "source": [
    "### Do not abuse count\n",
    "\n",
    "<div class=\"alert alert-warning\">\n",
    "    \n",
    "**WARNING**: `count` **is often used in a wrong / inefficient ways**\n",
    "\n",
    "Always ask yourself:\n",
    "    \n",
    "1. Could the list contain duplicates? Remember they will get counted!\n",
    "2. Could the list contain _no_ duplicate? Remember to also handle this case!    \n",
    "3. `count` performs a search on all the list, which could be inefficient: is it really needed, or do we already know the interval where to search?\n",
    "</div>"
   ]
  },
  {
   "cell_type": "markdown",
   "id": "e5745117",
   "metadata": {},
   "source": [
    "**QUESTION**: Look at the following code fragments, and for each of them try guessing the result (or if it produces an error)\n",
    "\n",
    "1.  ```python\n",
    "    ['A','aa','a','aaAah',\"a\", \"aaaa\"[1], \" a \"].count(\"a\")\n",
    "    ```    \n",
    "1.  ```python\n",
    "    [\"the\", \"punishment\", \"of\", \"the\",\"fools\"].count('Fools') == 1\n",
    "    ```\n",
    "1.  ```python\n",
    "    lst = ['oasis','date','oasis','coconut','date','coconut']\n",
    "    print(lst.count('date') == 1)\n",
    "    ```\n",
    "1.  ```python\n",
    "    lst = ['oasis','date','oasis','coconut','date','coconut']\n",
    "    print(lst[4] == 'date')\n",
    "    ```\n",
    "1.  ```python\n",
    "    ['2',2,\"2\",2,float(\"2\"),2.0, 4/2,\"1+1\",int('3')-float('1')].count(2)\n",
    "    ```    \n",
    "1.  ```python\n",
    "    [].count([])\n",
    "    ```\n",
    "1.  ```python\n",
    "    [[],[],[]].count([])\n",
    "    ```    "
   ]
  },
  {
   "cell_type": "markdown",
   "id": "8ca3b409",
   "metadata": {},
   "source": [
    "### Exercise - country life\n",
    "\n",
    "Given a list `country`, write some code which prints `True` if the first half contains a number of elements `el1` equal to the number of elements `el2` in the second half."
   ]
  },
  {
   "cell_type": "raw",
   "id": "aadda1dd",
   "metadata": {
    "format": "text/html"
   },
   "source": [
    "<a  class=\"jupman-sol jupman-sol-toggler\" \n",
    " onclick=\"jupman.toggleSolution(this);\" \n",
    " data-jupman-show=\"Show solution\" data-jupman-hide=\"Hide\">Show solution</a><div class=\"jupman-sol jupman-sol-code\" style=\"display:none\">  "
   ]
  },
  {
   "cell_type": "code",
   "execution_count": 15,
   "id": "b4fd3031",
   "metadata": {},
   "outputs": [
    {
     "data": {
      "text/plain": [
       "True"
      ]
     },
     "execution_count": 15,
     "metadata": {},
     "output_type": "execute_result"
    }
   ],
   "source": [
    "\n",
    "el1,el2 = 'shovels', 'hoes'          # True\n",
    "#el1,el2 = 'shovels', 'shovels'      # False\n",
    "#el1,el2 = 'wheelbarrows', 'plows'   # True\n",
    "#el1,el2 = 'shovels', 'wheelbarrows' # False\n",
    "\n",
    "country = ['plows','wheelbarrows', 'shovels',      'wheelbarrows', 'shovels','hoes', 'wheelbarrows',\n",
    "           'hoes', 'plows',        'wheelbarrows', 'plows',        'shovels','plows','hoes']\n",
    "\n",
    "# write here\n",
    "mid = len(country)//2\n",
    "country[:mid].count(el1) == country[mid:].count(el2)"
   ]
  },
  {
   "cell_type": "raw",
   "id": "aff302b0",
   "metadata": {
    "format": "text/html"
   },
   "source": [
    "</div>"
   ]
  },
  {
   "cell_type": "code",
   "execution_count": 15,
   "id": "b4fd3031-stripped",
   "metadata": {},
   "outputs": [],
   "source": [
    "\n",
    "el1,el2 = 'shovels', 'hoes'          # True\n",
    "#el1,el2 = 'shovels', 'shovels'      # False\n",
    "#el1,el2 = 'wheelbarrows', 'plows'   # True\n",
    "#el1,el2 = 'shovels', 'wheelbarrows' # False\n",
    "\n",
    "country = ['plows','wheelbarrows', 'shovels',      'wheelbarrows', 'shovels','hoes', 'wheelbarrows',\n",
    "           'hoes', 'plows',        'wheelbarrows', 'plows',        'shovels','plows','hoes']\n",
    "\n",
    "# write here\n",
    "\n"
   ]
  },
  {
   "cell_type": "markdown",
   "id": "e1862b4e",
   "metadata": {},
   "source": [
    "## `index` method\n",
    "\n",
    "The `index` method allows us to find the index of the FIRST occurrence of an element."
   ]
  },
  {
   "cell_type": "code",
   "execution_count": 16,
   "id": "53059721",
   "metadata": {},
   "outputs": [],
   "source": [
    "#      0   1   2   3   4   5 \n",
    "la = ['p','a','e','s','e']"
   ]
  },
  {
   "cell_type": "code",
   "execution_count": 17,
   "id": "5d097efc",
   "metadata": {},
   "outputs": [
    {
     "data": {
      "text/plain": [
       "0"
      ]
     },
     "execution_count": 17,
     "metadata": {},
     "output_type": "execute_result"
    }
   ],
   "source": [
    "la.index('p')"
   ]
  },
  {
   "cell_type": "code",
   "execution_count": 18,
   "id": "b951e52e",
   "metadata": {},
   "outputs": [
    {
     "data": {
      "text/plain": [
       "1"
      ]
     },
     "execution_count": 18,
     "metadata": {},
     "output_type": "execute_result"
    }
   ],
   "source": [
    "la.index('a')  "
   ]
  },
  {
   "cell_type": "code",
   "execution_count": 19,
   "id": "20f4fe0e",
   "metadata": {},
   "outputs": [
    {
     "data": {
      "text/plain": [
       "2"
      ]
     },
     "execution_count": 19,
     "metadata": {},
     "output_type": "execute_result"
    }
   ],
   "source": [
    "la.index('e')  # we find the FIRST occurrence"
   ]
  },
  {
   "cell_type": "markdown",
   "id": "44f04c4c",
   "metadata": {},
   "source": [
    "If the element we're looking for is not present, we will get an error:"
   ]
  },
  {
   "cell_type": "markdown",
   "id": "58f996ca",
   "metadata": {},
   "source": [
    "\n",
    "\n",
    "```python\n",
    ">>> la.index('z')\n",
    "\n",
    "---------------------------------------------------------------------------\n",
    "ValueError                                Traceback (most recent call last)\n",
    "<ipython-input-303-32d9c064ebe0> in <module>\n",
    "----> 1 la.index('z')\n",
    "\n",
    "ValueError: 'z' is not in list\n",
    "\n",
    "```"
   ]
  },
  {
   "cell_type": "markdown",
   "id": "3c2f8027",
   "metadata": {},
   "source": [
    "Optionally, you can specify an index to start from (**included**):"
   ]
  },
  {
   "cell_type": "code",
   "execution_count": 20,
   "id": "53747d52",
   "metadata": {},
   "outputs": [
    {
     "data": {
      "text/plain": [
       "8"
      ]
     },
     "execution_count": 20,
     "metadata": {},
     "output_type": "execute_result"
    }
   ],
   "source": [
    "# 0   1   2   3   4   5   6   7   8   9   10\n",
    "['a','c','c','a','p','a','r','r','a','r','e'].index('a',6)"
   ]
  },
  {
   "cell_type": "markdown",
   "id": "77479b7f",
   "metadata": {},
   "source": [
    "And also where to end (**excluded**):"
   ]
  },
  {
   "cell_type": "markdown",
   "id": "1e1d9503",
   "metadata": {},
   "source": [
    "```python\n",
    "# 0   1   2   3   4   5   6   7   8   9   10\n",
    "['a','c','c','a','p','a','r','r','a','r','e'].index('a',6,8)\n",
    "\n",
    "---------------------------------------------------------------------------\n",
    "ValueError                                Traceback (most recent call last)\n",
    "<ipython-input-17-7f344c26b62e> in <module>\n",
    "      1 # 0   1   2   3   4   5   6   7   8   9   10\n",
    "----> 2 ['a','c','c','a','p','a','r','r','a','r','e'].index('a',6,8)\n",
    "\n",
    "ValueError: 'a' is not in list\n",
    "```\n"
   ]
  },
  {
   "cell_type": "markdown",
   "id": "7a7cd313",
   "metadata": {},
   "source": [
    "### Do not abuse index\n",
    "\n",
    "<div class=\"alert alert-warning\">\n",
    "    \n",
    "**WARNING**: `index` **is often used in a wrong / inefficient ways**\n",
    "\n",
    "Always ask yourself:\n",
    "    \n",
    "1. Could the list contain duplicates? Remember only the _first_ will be found!\n",
    "2. Could the list _not_ contain  the searched element?  Remember to also handle this case!\n",
    "3. `index` performs a search on all the list, which could be inefficient: is it really needed, or do we already know the interval where to search?\n",
    "4. If we want to know if an `element` is in a position we already know, `index` is useless, it's enough to write `my_list[3] == element`. If you used `index`, it could discover duplicate characters which are _before_ or _after_ the one we are interested in!\n",
    "</div>"
   ]
  },
  {
   "cell_type": "markdown",
   "id": "d423395d",
   "metadata": {},
   "source": [
    "**QUESTION**: Look at the following code fragments, and for each one try guessing the result it produces (or if it gives error)."
   ]
  },
  {
   "cell_type": "markdown",
   "id": "d1e39714",
   "metadata": {},
   "source": [
    "1.  ```python\n",
    "    ['arc','boat','hollow','dune'].index('hollow') == ['arc','boat','hollow','dune'].index('hollow',1)\n",
    "    ```\n",
    "1.  ```python\n",
    "    ['azure','blue','sky blue','smurfs'][-1:].index('sky blue')\n",
    "    ```    \n",
    "1.  ```python\n",
    "    road = ['asphalt','bitumen','cement','gravel']\n",
    "    print('mortar' in road or road.index('mortar'))\n",
    "    ```    \n",
    "1.  ```python\n",
    "    road = ['asphalt','bitumen','cement','gravel']\n",
    "    print('mortar' in road and road.index('mortar'))\n",
    "    ```\n",
    "1.  ```python\n",
    "    road = ['asphalt','bitumen','mortar','gravel']\n",
    "    print('mortar' in road and road.index('mortar'))\n",
    "    ```\n",
    "1.  ```python\n",
    "    la = [0,5,10]\n",
    "    la.reverse()\n",
    "    print(la.index(5) > la.index(10))\n",
    "    ```"
   ]
  },
  {
   "cell_type": "markdown",
   "id": "7ddd4fb3",
   "metadata": {},
   "source": [
    "### Exercise - Spatoč\n",
    "\n",
    "In the past you met the Slavic painter Spatoč when he was still dirt poor. He gifted you with 2 or 3 paintings (you don't remember) of dubious artistic value that you hid in the attic, but now watching TV you just noticed that Spatoč has gained international fame. You run to the attic to retrieve the paintings, which are lost among junk. Every painting is contained in a `[ ]` box, but you don't know in which rack it is. Write some code which prints where they are.\n",
    "\n",
    "- racks are **numbered from 1**. If the third painting was not found, print `0`.\n",
    "- **DO NOT** use loops nor `if`\n",
    "- **HINT**: printing first two is easy - to print the last one have a look at [Booleans - evaluation order](https://en.softpython.org/basics/basics2-bools-sol.html#Evaluation-order)\n",
    "\n",
    "Example 1 - given:"
   ]
  },
  {
   "cell_type": "code",
   "execution_count": 21,
   "id": "dceee222",
   "metadata": {},
   "outputs": [],
   "source": [
    "      #  1      2           3             4             5          \n",
    "attic = [3,    '\\\\',       ['painting'], '---',        ['painting'], \n",
    "      #  6      7           8             9             10\n",
    "         5.23, ['shovel'], ['ski'],      [\"painting\"], ['lamp']]"
   ]
  },
  {
   "cell_type": "markdown",
   "id": "d1c1137a",
   "metadata": {},
   "source": [
    "prints:\n",
    "\n",
    "```\n",
    "rack of first painting : 3\n",
    "rack of second painting: 5\n",
    "rack of third painting : 9\n",
    "```\n",
    "\n",
    "Example 2 - given:"
   ]
  },
  {
   "cell_type": "code",
   "execution_count": 22,
   "id": "70f11482",
   "metadata": {},
   "outputs": [],
   "source": [
    "        # 1           2     3       4            5          6          7\n",
    "attic = [['painting'],'--',['ski'],['painting'],['statue'],['shovel'],['boots']]"
   ]
  },
  {
   "cell_type": "markdown",
   "id": "1156bf88",
   "metadata": {},
   "source": [
    "prints\n",
    "\n",
    "```\n",
    "rack of first painting : 1\n",
    "rack of second painting: 4\n",
    "rack of third painting : 0\n",
    "```"
   ]
  },
  {
   "cell_type": "raw",
   "id": "ecd8bc16",
   "metadata": {
    "format": "text/html"
   },
   "source": [
    "<a  class=\"jupman-sol jupman-sol-toggler\" \n",
    " onclick=\"jupman.toggleSolution(this);\" \n",
    " data-jupman-show=\"Show solution\" data-jupman-hide=\"Hide\">Show solution</a><div class=\"jupman-sol jupman-sol-code\" style=\"display:none\">  "
   ]
  },
  {
   "cell_type": "code",
   "execution_count": 23,
   "id": "a8eaca0b",
   "metadata": {},
   "outputs": [
    {
     "name": "stdout",
     "output_type": "stream",
     "text": [
      "rack of first painting : 3\n",
      "rack of second painting: 5\n",
      "rack of third painting : 9\n"
     ]
    }
   ],
   "source": [
    "\n",
    "      #  1 2     3           4      5           6     7          8       9             10\n",
    "attic = [3,'\\\\',['painting'],'---',['painting'],5.23,['shovel'],['ski'],['painting'], ['lamp']]\n",
    "#  3,5,9\n",
    "         # 1           2     3       4            5          6          7\n",
    "#attic = [['painting'],'--',['ski'],['painting'],['statue'],['shovel'],['boots']]\n",
    "#  1,4,0\n",
    "\n",
    "# write here\n",
    "\n",
    "i1 = attic.index(['painting'])\n",
    "print(\"rack of first painting :\", i1+1)\n",
    "i2 = attic.index(['painting'], i1+1)\n",
    "print(\"rack of second painting:\", i2+1)\n",
    "i3 = int(['painting'] in attic[i2+1:]) and (attic.index(['painting'], i2+1) + 1)\n",
    "print(\"rack of third painting :\", i3)"
   ]
  },
  {
   "cell_type": "raw",
   "id": "32b0f1c4",
   "metadata": {
    "format": "text/html"
   },
   "source": [
    "</div>"
   ]
  },
  {
   "cell_type": "code",
   "execution_count": 23,
   "id": "a8eaca0b-stripped",
   "metadata": {},
   "outputs": [],
   "source": [
    "\n",
    "      #  1 2     3           4      5           6     7          8       9             10\n",
    "attic = [3,'\\\\',['painting'],'---',['painting'],5.23,['shovel'],['ski'],['painting'], ['lamp']]\n",
    "#  3,5,9\n",
    "         # 1           2     3       4            5          6          7\n",
    "#attic = [['painting'],'--',['ski'],['painting'],['statue'],['shovel'],['boots']]\n",
    "#  1,4,0\n",
    "\n",
    "# write here\n",
    "\n"
   ]
  },
  {
   "cell_type": "markdown",
   "id": "6cea44f9",
   "metadata": {},
   "source": [
    "## `remove` method"
   ]
  },
  {
   "cell_type": "markdown",
   "id": "fd31f23c",
   "metadata": {},
   "source": [
    "`remove` takes an object as parameter, searches for the FIRST cell containing that object and eliminates it:"
   ]
  },
  {
   "cell_type": "code",
   "execution_count": 24,
   "id": "86b2b2b7",
   "metadata": {},
   "outputs": [],
   "source": [
    "#     0 1 2 3 4 5\n",
    "la = [6,7,9,5,9,8]   # the 9 is in the first cell with index 2 and 4"
   ]
  },
  {
   "cell_type": "code",
   "execution_count": 25,
   "id": "3f9207f1",
   "metadata": {},
   "outputs": [],
   "source": [
    "la.remove(9)   # searches first cell containing 9"
   ]
  },
  {
   "cell_type": "code",
   "execution_count": 26,
   "id": "c377063b",
   "metadata": {},
   "outputs": [
    {
     "data": {
      "text/plain": [
       "[6, 7, 5, 9, 8]"
      ]
     },
     "execution_count": 26,
     "metadata": {},
     "output_type": "execute_result"
    }
   ],
   "source": [
    "la"
   ]
  },
  {
   "cell_type": "markdown",
   "id": "6e1eda89",
   "metadata": {},
   "source": [
    "As you can see, the cell which was at index 2 and that contained the FIRST occurrence of `9` has been eliminated. The cell containing the SECOND occurrence of `9` is still there."
   ]
  },
  {
   "cell_type": "markdown",
   "id": "02888bce",
   "metadata": {},
   "source": [
    "If you try removing an object which is not present, you will receive an error:"
   ]
  },
  {
   "cell_type": "markdown",
   "id": "1499b76f",
   "metadata": {},
   "source": [
    "\n",
    "```python\n",
    "la.remove(666)\n",
    "\n",
    "---------------------------------------------------------------------------\n",
    "ValueError                                Traceback (most recent call last)\n",
    "<ipython-input-121-5d04a71f9d33> in <module>\n",
    "----> 1 la.remove(666)\n",
    "\n",
    "ValueError: list.remove(x): x not in list\n",
    "```"
   ]
  },
  {
   "cell_type": "markdown",
   "id": "a32c4633",
   "metadata": {},
   "source": [
    "### Do not abuse remove\n",
    "\n",
    "<div class=\"alert alert-warning\">\n",
    "    \n",
    "**WARNING**: `remove` **is often used in a wrong / inefficient ways**\n",
    "\n",
    "Always ask yourself:\n",
    "    \n",
    "1. Could the list contain duplicates? Remember only the _first_ will be removed!\n",
    "2. Could the list _not_ contain  the searched element?  Remember to also handle this case!\n",
    "3. `remove` performs a search on all the list, which could be inefficient: is it really needed, or do we already know the position `i` where the element to be removed is? In such case it's much better using `.pop(i)`\n",
    "</div>"
   ]
  },
  {
   "cell_type": "markdown",
   "id": "b65cc828",
   "metadata": {},
   "source": [
    "**QUESTION**: Look at the following code fragments, and for each try guessing the result (or if it produces an error).\n",
    "\n",
    "1.  ```python\n",
    "    la = ['a','b','c','b']\n",
    "    la.remove('b')\n",
    "    print(la)\n",
    "    ```\n",
    "1.  ```python\n",
    "    la = ['a','b','c','b']\n",
    "    x = la.remove('b')\n",
    "    print(x)\n",
    "    print(la)\n",
    "    ```    \n",
    "1.  ```python\n",
    "    la = ['a','d','c','d']\n",
    "    la.remove('b')\n",
    "    print(la)\n",
    "    ```\n",
    "1.  ```python\n",
    "    la = ['a','bb','c','bbb']\n",
    "    la.remove('b')\n",
    "    print(la)\n",
    "    ```        \n",
    "1.  ```python\n",
    "    la = ['a','b','c','b']\n",
    "    la.remove('B')    \n",
    "    print(la)\n",
    "    ```    \n",
    "1.  ```python\n",
    "    la = ['a',9,'99',9,'c',str(9),'999']\n",
    "    la.remove(\"9\")    \n",
    "    print(la)\n",
    "    ```\n",
    "1.  ```python    \n",
    "    la = [\"don't\", \"trick\",\"me\"]\n",
    "    la.remove(\"don't\").remove(\"trick\").remove(\"me\")\n",
    "    print(la)\n",
    "    ```\n",
    "1.  ```python\n",
    "    la = [\"don't\", \"trick\",\"me\"]\n",
    "    la.remove(\"don't\")\n",
    "    la.remove(\"trick\")\n",
    "    la.remove(\"me\")\n",
    "    print(la)\n",
    "    ```    \n",
    "1.  ```python\n",
    "    la = [4,5,7,10]\n",
    "    11 in la or la.remove(11)    \n",
    "    print(la)\n",
    "    ```     \n",
    "1.  ```python\n",
    "    la = [4,5,7,10]\n",
    "    11 in la and la.remove(11)    \n",
    "    print(la)\n",
    "    ``` \n",
    "1.  ```python\n",
    "    la = [4,5,7,10]\n",
    "    5 in la and la.remove(5)\n",
    "    print(la)\n",
    "    ```    \n",
    "1.  ```python\n",
    "    la = [9, [9], [[9]], [[[9]]] ]\n",
    "    la.remove([9])\n",
    "    print(la)\n",
    "    ```        \n",
    "1.  ```python\n",
    "    la = [9, [9], [[9]], [[[9]]] ]\n",
    "    la.remove([[9]])\n",
    "    print(la)\n",
    "    ```        "
   ]
  },
  {
   "cell_type": "markdown",
   "id": "4b28e86b",
   "metadata": {},
   "source": [
    "### Exercise - nob\n",
    "\n",
    "Write some code which removes from list `la` all the numbers contained in the 3 elements list `lb`.\n",
    "\n",
    "* your code must work with any list `la` and `lb` of three elements\n",
    "\n",
    "* you can assume that list `la` contains exactly TWO occurrences of all the elements of `lb` (plus also other numbers)\n",
    "\n",
    "Example -  given:\n",
    "\n",
    "```python\n",
    "lb = [8,7,4]\n",
    "la = [7,8,11,8,7,4,5,4]\n",
    "```\n",
    "\n",
    "after your code it must result:\n",
    "\n",
    "```python\n",
    ">>> print(la)\n",
    "[11, 5]\n",
    "```"
   ]
  },
  {
   "cell_type": "raw",
   "id": "8d6d56dc",
   "metadata": {
    "format": "text/html"
   },
   "source": [
    "<a  class=\"jupman-sol jupman-sol-toggler\" \n",
    " onclick=\"jupman.toggleSolution(this);\" \n",
    " data-jupman-show=\"Show solution\" data-jupman-hide=\"Hide\">Show solution</a><div class=\"jupman-sol jupman-sol-code\" style=\"display:none\">  "
   ]
  },
  {
   "cell_type": "code",
   "execution_count": 27,
   "id": "d5927f60",
   "metadata": {},
   "outputs": [
    {
     "name": "stdout",
     "output_type": "stream",
     "text": [
      "[11, 5]\n"
     ]
    }
   ],
   "source": [
    "\n",
    "lb = [8,7,4]\n",
    "la = [7,8,11,8,7,4,5,4]\n",
    "\n",
    "# write here\n",
    "\n",
    "la.remove(lb[0])\n",
    "la.remove(lb[0])\n",
    "la.remove(lb[1])\n",
    "la.remove(lb[1])\n",
    "la.remove(lb[2])\n",
    "la.remove(lb[2])\n",
    "print(la)"
   ]
  },
  {
   "cell_type": "raw",
   "id": "3b849380",
   "metadata": {
    "format": "text/html"
   },
   "source": [
    "</div>"
   ]
  },
  {
   "cell_type": "code",
   "execution_count": 27,
   "id": "d5927f60-stripped",
   "metadata": {},
   "outputs": [],
   "source": [
    "\n",
    "lb = [8,7,4]\n",
    "la = [7,8,11,8,7,4,5,4]\n",
    "\n",
    "# write here\n",
    "\n"
   ]
  },
  {
   "cell_type": "markdown",
   "id": "d2b9baa3",
   "metadata": {},
   "source": [
    "## Continue\n",
    "\n",
    "Go on with [first challenges](https://en.softpython.org/lists/lists5-chal.html)"
   ]
  },
  {
   "cell_type": "code",
   "execution_count": null,
   "id": "d6952609",
   "metadata": {},
   "outputs": [],
   "source": []
  }
 ],
 "metadata": {
  "kernelspec": {
   "display_name": "Python 3 (ipykernel)",
   "language": "python",
   "name": "python3"
  },
  "language_info": {
   "codemirror_mode": {
    "name": "ipython",
    "version": 3
   },
   "file_extension": ".py",
   "mimetype": "text/x-python",
   "name": "python",
   "nbconvert_exporter": "python",
   "pygments_lexer": "ipython3",
   "version": "3.7.10"
  },
  "toc": {
   "base_numbering": 1,
   "nav_menu": {},
   "number_sections": false,
   "sideBar": true,
   "skip_h1_title": false,
   "title_cell": "Table of Contents",
   "title_sidebar": "Contents",
   "toc_cell": false,
   "toc_position": {},
   "toc_section_display": true,
   "toc_window_display": true
  }
 },
 "nbformat": 4,
 "nbformat_minor": 5
}
