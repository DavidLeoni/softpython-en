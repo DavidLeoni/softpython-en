{
 "cells": [
  {
   "cell_type": "code",
   "execution_count": 1,
   "metadata": {
    "nbsphinx": "hidden"
   },
   "outputs": [],
   "source": [
    "# Remember to execute this cell with Shift+Enter\n",
    "\n",
    "import jupman"
   ]
  },
  {
   "cell_type": "markdown",
   "metadata": {},
   "source": [
    "\n",
    "# Lists 1 - Introduction\n",
    "\n",
    "\n",
    "## [Download exercises zip](../_static/generated/lists.zip)\n",
    "\n",
    "[Browse files online](https://github.com/DavidLeoni/softpython-en/tree/master/lists)\n",
    "\n",
    "A Python list is a **mutable** sequence of heterogeneous elements, in which we can put the objects we want. The order in which we put them is preserved."
   ]
  },
  {
   "cell_type": "markdown",
   "metadata": {},
   "source": [
    "## What to do\n",
    "\n",
    "1. Unzip [exercises zip](../_static/generated/lists.zip) in a folder, you should obtain something like this:\n",
    "\n",
    "```\n",
    "lists\n",
    "    lists1.ipynb    \n",
    "    lists1-sol.ipynb         \n",
    "    lists2.ipynb\n",
    "    lists2-sol.ipynb\n",
    "    lists3.ipynb\n",
    "    lists3-sol.ipynb    \n",
    "    lists4.ipynb\n",
    "    lists4-sol.ipynb    \n",
    "    jupman.py         \n",
    "```\n",
    "\n",
    "<div class=\"alert alert-warning\">\n",
    "\n",
    "**WARNING: to correctly visualize the notebook, it MUST be in an unzipped folder !**\n",
    "</div>"
   ]
  },
  {
   "cell_type": "markdown",
   "metadata": {},
   "source": [
    "2. open Jupyter Notebook from that folder. Two things should open, first a console and then a browser. The browser should show a file list: navigate the list and open the notebook `lists1.ipynb`\n",
    "\n",
    "3. Go on reading the exercises file, sometimes you will find paragraphs marked **Exercises** which will ask to write Python commands in the following cells. Exercises are graded by difficulty, from one star ✪ to four ✪✪✪✪"
   ]
  },
  {
   "cell_type": "markdown",
   "metadata": {},
   "source": [
    "Shortcut keys:\n",
    "\n",
    "- to execute Python code inside a Jupyter cell, press `Control + Enter`\n",
    "\n",
    "- to execute Python code inside a Jupyter cell AND select next cell, press `Shift + Enter`\n",
    "\n",
    "- to execute Python code inside a Jupyter cell AND a create a new cell aftwerwards, press `Alt + Enter`\n",
    "\n",
    "- If the notebooks look stuck, try to select `Kernel -> Restart`"
   ]
  },
  {
   "cell_type": "markdown",
   "metadata": {},
   "source": [
    "## Creating lists\n",
    "\n",
    "We can create a list by specifying the elements it contains between square brackets, separating them with a comma.\n",
    "\n",
    "For example, in this list we insert the numbers `7`, `4` e `9`:"
   ]
  },
  {
   "cell_type": "code",
   "execution_count": 2,
   "metadata": {},
   "outputs": [
    {
     "data": {
      "text/plain": [
       "[7, 4, 9]"
      ]
     },
     "execution_count": 2,
     "metadata": {},
     "output_type": "execute_result"
    }
   ],
   "source": [
    "[7,4,9] "
   ]
  },
  {
   "cell_type": "markdown",
   "metadata": {},
   "source": [
    "Like all Python objects, we can associate them to a variable, in this case we create a new one we call `my_list`:"
   ]
  },
  {
   "cell_type": "code",
   "execution_count": 3,
   "metadata": {},
   "outputs": [],
   "source": [
    "my_list = [7,4,9] "
   ]
  },
  {
   "cell_type": "code",
   "execution_count": 4,
   "metadata": {},
   "outputs": [
    {
     "data": {
      "text/plain": [
       "[7, 4, 9]"
      ]
     },
     "execution_count": 4,
     "metadata": {},
     "output_type": "execute_result"
    }
   ],
   "source": [
    "my_list"
   ]
  },
  {
   "cell_type": "markdown",
   "metadata": {},
   "source": [
    "Let's see what happens in memory, and compare strings representation with lists representation:"
   ]
  },
  {
   "cell_type": "code",
   "execution_count": 5,
   "metadata": {},
   "outputs": [],
   "source": [
    "# WARNING: before using the function jupman.pytut() which follows, \n",
    "#          it is necessary to first execute this cell with Shift+Enter\n",
    "#          it's sufficient to execute it only once\n",
    "\n",
    "\n",
    "import jupman"
   ]
  },
  {
   "cell_type": "code",
   "execution_count": 6,
   "metadata": {},
   "outputs": [
    {
     "data": {
      "text/html": [
       "\n",
       "        <script src=\"../_static/js/pytutor-embed.bundle.min.js\" type=\"application/javascript\"></script>\n",
       "     \n",
       "        <script id=\"json-jmb3cd6f46-94c0-4b8d-b742-063587e56d07\" type=\"application/json\" >\n",
       "            {\"trace\": [{\"globals\": {}, \"ordered_globals\": [], \"event\": \"step_line\", \"heap\": {}, \"stdout\": \"\", \"stack_to_render\": [], \"line\": 2, \"func_name\": \"<module>\"}, {\"globals\": {\"my_string\": \"prova\"}, \"ordered_globals\": [\"my_string\"], \"event\": \"step_line\", \"heap\": {}, \"stdout\": \"\", \"stack_to_render\": [], \"line\": 4, \"func_name\": \"<module>\"}, {\"globals\": {\"my_string\": \"prova\", \"my_list\": [\"REF\", 1]}, \"ordered_globals\": [\"my_string\", \"my_list\"], \"event\": \"return\", \"heap\": {\"1\": [\"LIST\", 7, 4, 9]}, \"stdout\": \"\", \"stack_to_render\": [], \"line\": 4, \"func_name\": \"<module>\"}], \"code\": \" \\nmy_string = \\\"prova\\\"\\n\\nmy_list = [7,4,9]\"}\n",
       "        </script>\n",
       "        <div id=\"jmb3cd6f46-94c0-4b8d-b742-063587e56d07\" class=\"pytutorVisualizer\"> </div>\n",
       " \n",
       "        <style>\n",
       "        .vizLayoutTd {\n",
       "            background-color: #fff !important;\n",
       "        }\n",
       "\n",
       "        #pyStdout {            \n",
       "            min-height:25px;\n",
       "        }\n",
       "\n",
       "        /* 'Edit this code' link, hiding because replaces browser tab !!!*/\n",
       "        #editCodeLinkDiv {\n",
       "            display:none;  \n",
       "        }\n",
       "        </style>   \n",
       "                            \n",
       "        <script>\n",
       "        (function(){\n",
       "\n",
       "            var trace = JSON.parse(document.getElementById('json-jmb3cd6f46-94c0-4b8d-b742-063587e56d07').innerHTML);                                        \n",
       "            // NOTE 1: id without #\n",
       "            // NOTE 2 - maybe there are more predictable ways, but this will work anyway\n",
       "            //        - id should be number\n",
       "            visualizerIdOverride = Math.trunc(Math.random() * 100000000000)\n",
       "            addVisualizerToPage(trace, 'jmb3cd6f46-94c0-4b8d-b742-063587e56d07',{'embeddedMode' : false,\n",
       "                                             'visualizerIdOverride':visualizerIdOverride})  \n",
       "            \n",
       "            \n",
       "            // set overflow for pytuts - need to do in python as css \n",
       "            // does not allow parent selection\n",
       "            var pytuts = $('.pytutorVisualizer')\n",
       "            pytuts.closest('div.output_html.rendered_html.output_result')\n",
       "                    .css('overflow-x', 'visible')\n",
       "        \n",
       "            //pytuts.closest('div.output_html.rendered_html.output_result')\n",
       "            //      .css('background-color','red')                \n",
       "            \n",
       "        })()\n",
       "        </script>\n",
       "                \n",
       "                "
      ],
      "text/plain": [
       "<IPython.core.display.HTML object>"
      ]
     },
     "execution_count": 6,
     "metadata": {},
     "output_type": "execute_result"
    }
   ],
   "source": [
    "my_string = \"prova\"\n",
    "\n",
    "my_list = [7,4,9]\n",
    "\n",
    "jupman.pytut()"
   ]
  },
  {
   "cell_type": "markdown",
   "metadata": {},
   "source": [
    "We suddenly note a relevant difference. The string remained in the azure region where associations among variables and values usually stay. From variable `my_list` we see instead an arrow departing to a new yellow memory region, which is created as soon the execution reaches the row where the list is defined.\n",
    "\n",
    "Later we will analyze more in detail the consequences of this."
   ]
  },
  {
   "cell_type": "markdown",
   "metadata": {},
   "source": [
    "In a list the same elements may appear many times:"
   ]
  },
  {
   "cell_type": "code",
   "execution_count": 7,
   "metadata": {},
   "outputs": [],
   "source": [
    "numbers = [1,2,3,1,3]"
   ]
  },
  {
   "cell_type": "code",
   "execution_count": 8,
   "metadata": {},
   "outputs": [
    {
     "data": {
      "text/plain": [
       "[1, 2, 3, 1, 3]"
      ]
     },
     "execution_count": 8,
     "metadata": {},
     "output_type": "execute_result"
    }
   ],
   "source": [
    "numbers"
   ]
  },
  {
   "cell_type": "markdown",
   "metadata": {},
   "source": [
    "We can put any element, for example strings:"
   ]
  },
  {
   "cell_type": "code",
   "execution_count": 9,
   "metadata": {},
   "outputs": [],
   "source": [
    "fruits = [\"apple\", \"pear\", \"peach\", \"strawberry\", \"cherry\"] "
   ]
  },
  {
   "cell_type": "code",
   "execution_count": 10,
   "metadata": {},
   "outputs": [
    {
     "data": {
      "text/plain": [
       "['apple', 'pear', 'peach', 'strawberry', 'cherry']"
      ]
     },
     "execution_count": 10,
     "metadata": {},
     "output_type": "execute_result"
    }
   ],
   "source": [
    "fruits"
   ]
  },
  {
   "cell_type": "markdown",
   "metadata": {},
   "source": [
    "We can also mix the object types contained in a list, for example we can have integers and strings:"
   ]
  },
  {
   "cell_type": "code",
   "execution_count": 11,
   "metadata": {},
   "outputs": [],
   "source": [
    "mix = [\"table\", 4 ,\"chair\", 8, 5, 1, \"chair\"]"
   ]
  },
  {
   "cell_type": "markdown",
   "metadata": {},
   "source": [
    "In Python Tutor it will be shown like this:"
   ]
  },
  {
   "cell_type": "code",
   "execution_count": 12,
   "metadata": {},
   "outputs": [
    {
     "data": {
      "text/html": [
       "\n",
       "        <script src=\"../_static/js/pytutor-embed.bundle.min.js\" type=\"application/javascript\"></script>\n",
       "     \n",
       "        <script id=\"json-jm9ec16c93-8342-4416-8b31-15b14b99571c\" type=\"application/json\" >\n",
       "            {\"trace\": [{\"globals\": {}, \"ordered_globals\": [], \"event\": \"step_line\", \"heap\": {}, \"stdout\": \"\", \"stack_to_render\": [], \"line\": 2, \"func_name\": \"<module>\"}, {\"globals\": {\"mix\": [\"REF\", 1]}, \"ordered_globals\": [\"mix\"], \"event\": \"return\", \"heap\": {\"1\": [\"LIST\", \"table\", 5, 4, \"chair\", 8, \"chair\"]}, \"stdout\": \"\", \"stack_to_render\": [], \"line\": 2, \"func_name\": \"<module>\"}], \"code\": \" \\nmix = [\\\"table\\\", 5 , 4, \\\"chair\\\", 8, \\\"chair\\\"]\"}\n",
       "        </script>\n",
       "        <div id=\"jm9ec16c93-8342-4416-8b31-15b14b99571c\" class=\"pytutorVisualizer\"> </div>\n",
       " \n",
       "        <style>\n",
       "        .vizLayoutTd {\n",
       "            background-color: #fff !important;\n",
       "        }\n",
       "\n",
       "        #pyStdout {            \n",
       "            min-height:25px;\n",
       "        }\n",
       "\n",
       "        /* 'Edit this code' link, hiding because replaces browser tab !!!*/\n",
       "        #editCodeLinkDiv {\n",
       "            display:none;  \n",
       "        }\n",
       "        </style>   \n",
       "                            \n",
       "        <script>\n",
       "        (function(){\n",
       "\n",
       "            var trace = JSON.parse(document.getElementById('json-jm9ec16c93-8342-4416-8b31-15b14b99571c').innerHTML);                                        \n",
       "            // NOTE 1: id without #\n",
       "            // NOTE 2 - maybe there are more predictable ways, but this will work anyway\n",
       "            //        - id should be number\n",
       "            visualizerIdOverride = Math.trunc(Math.random() * 100000000000)\n",
       "            addVisualizerToPage(trace, 'jm9ec16c93-8342-4416-8b31-15b14b99571c',{'embeddedMode' : false,\n",
       "                                             'visualizerIdOverride':visualizerIdOverride})  \n",
       "            \n",
       "            \n",
       "            // set overflow for pytuts - need to do in python as css \n",
       "            // does not allow parent selection\n",
       "            var pytuts = $('.pytutorVisualizer')\n",
       "            pytuts.closest('div.output_html.rendered_html.output_result')\n",
       "                    .css('overflow-x', 'visible')\n",
       "        \n",
       "            //pytuts.closest('div.output_html.rendered_html.output_result')\n",
       "            //      .css('background-color','red')                \n",
       "            \n",
       "        })()\n",
       "        </script>\n",
       "                \n",
       "                "
      ],
      "text/plain": [
       "<IPython.core.display.HTML object>"
      ]
     },
     "execution_count": 12,
     "metadata": {},
     "output_type": "execute_result"
    }
   ],
   "source": [
    "mix = [\"table\", 5 , 4, \"chair\", 8, \"chair\"]\n",
    "\n",
    "jupman.pytut()"
   ]
  },
  {
   "cell_type": "markdown",
   "metadata": {},
   "source": [
    "For convenience we can also write the list on many rows (the spaces in this case do not count, only remember to terminate rows with commas `,`)"
   ]
  },
  {
   "cell_type": "code",
   "execution_count": 13,
   "metadata": {},
   "outputs": [],
   "source": [
    "mix = [\"table\",\n",
    "       5 , \n",
    "       4,\n",
    "       \"chair\",\n",
    "       8,\n",
    "       \"chair\"]"
   ]
  },
  {
   "cell_type": "markdown",
   "metadata": {},
   "source": [
    "**EXERCISE**: try writing the list above WITHOUT putting a comma after the `5`, which error appears?"
   ]
  },
  {
   "cell_type": "code",
   "execution_count": 14,
   "metadata": {},
   "outputs": [],
   "source": [
    "# write here\n",
    "\n"
   ]
  },
  {
   "cell_type": "markdown",
   "metadata": {},
   "source": [
    "A list can also contain other lists:"
   ]
  },
  {
   "cell_type": "code",
   "execution_count": 15,
   "metadata": {},
   "outputs": [],
   "source": [
    "table = [  ['a','b','c'],  ['d','e','f']  ]"
   ]
  },
  {
   "cell_type": "markdown",
   "metadata": {},
   "source": [
    "Typically, whenver we have structures like this, it's convenient to displace them on many rows (it's not mandatory but improves clarity):"
   ]
  },
  {
   "cell_type": "code",
   "execution_count": 16,
   "metadata": {},
   "outputs": [],
   "source": [
    "table = [                 # start external big list\n",
    "          ['a','b','c'],    # internal list 1\n",
    "          ['d','e','f']     # internal list 2\n",
    "        ]                 # end external big list"
   ]
  },
  {
   "cell_type": "code",
   "execution_count": 17,
   "metadata": {},
   "outputs": [
    {
     "data": {
      "text/plain": [
       "[['a', 'b', 'c'], ['d', 'e', 'f']]"
      ]
     },
     "execution_count": 17,
     "metadata": {},
     "output_type": "execute_result"
    }
   ],
   "source": [
    "table"
   ]
  },
  {
   "cell_type": "markdown",
   "metadata": {},
   "source": [
    "Let's see how it is shown in Python Tutor:"
   ]
  },
  {
   "cell_type": "code",
   "execution_count": 18,
   "metadata": {},
   "outputs": [
    {
     "data": {
      "text/html": [
       "\n",
       "        <script src=\"../_static/js/pytutor-embed.bundle.min.js\" type=\"application/javascript\"></script>\n",
       "     \n",
       "        <script id=\"json-jm14f5e707-8f53-466a-abcd-675e17380345\" type=\"application/json\" >\n",
       "            {\"trace\": [{\"globals\": {}, \"ordered_globals\": [], \"event\": \"step_line\", \"heap\": {}, \"stdout\": \"\", \"stack_to_render\": [], \"line\": 3, \"func_name\": \"<module>\"}, {\"globals\": {}, \"ordered_globals\": [], \"event\": \"step_line\", \"heap\": {}, \"stdout\": \"\", \"stack_to_render\": [], \"line\": 4, \"func_name\": \"<module>\"}, {\"globals\": {\"table\": [\"REF\", 1]}, \"ordered_globals\": [\"table\"], \"event\": \"return\", \"heap\": {\"1\": [\"LIST\", [\"REF\", 2], [\"REF\", 3]], \"2\": [\"LIST\", \"a\", \"b\", \"c\"], \"3\": [\"LIST\", \"d\", \"e\", \"f\"]}, \"stdout\": \"\", \"stack_to_render\": [], \"line\": 4, \"func_name\": \"<module>\"}], \"code\": \" \\ntable = [  \\n          ['a','b','c'],  \\n          ['d','e','f']  \\n        ]\"}\n",
       "        </script>\n",
       "        <div id=\"jm14f5e707-8f53-466a-abcd-675e17380345\" class=\"pytutorVisualizer\"> </div>\n",
       " \n",
       "        <style>\n",
       "        .vizLayoutTd {\n",
       "            background-color: #fff !important;\n",
       "        }\n",
       "\n",
       "        #pyStdout {            \n",
       "            min-height:25px;\n",
       "        }\n",
       "\n",
       "        /* 'Edit this code' link, hiding because replaces browser tab !!!*/\n",
       "        #editCodeLinkDiv {\n",
       "            display:none;  \n",
       "        }\n",
       "        </style>   \n",
       "                            \n",
       "        <script>\n",
       "        (function(){\n",
       "\n",
       "            var trace = JSON.parse(document.getElementById('json-jm14f5e707-8f53-466a-abcd-675e17380345').innerHTML);                                        \n",
       "            // NOTE 1: id without #\n",
       "            // NOTE 2 - maybe there are more predictable ways, but this will work anyway\n",
       "            //        - id should be number\n",
       "            visualizerIdOverride = Math.trunc(Math.random() * 100000000000)\n",
       "            addVisualizerToPage(trace, 'jm14f5e707-8f53-466a-abcd-675e17380345',{'embeddedMode' : false,\n",
       "                                             'visualizerIdOverride':visualizerIdOverride})  \n",
       "            \n",
       "            \n",
       "            // set overflow for pytuts - need to do in python as css \n",
       "            // does not allow parent selection\n",
       "            var pytuts = $('.pytutorVisualizer')\n",
       "            pytuts.closest('div.output_html.rendered_html.output_result')\n",
       "                    .css('overflow-x', 'visible')\n",
       "        \n",
       "            //pytuts.closest('div.output_html.rendered_html.output_result')\n",
       "            //      .css('background-color','red')                \n",
       "            \n",
       "        })()\n",
       "        </script>\n",
       "                \n",
       "                "
      ],
      "text/plain": [
       "<IPython.core.display.HTML object>"
      ]
     },
     "execution_count": 18,
     "metadata": {},
     "output_type": "execute_result"
    }
   ],
   "source": [
    "table = [  \n",
    "          ['a','b','c'],  \n",
    "          ['d','e','f']  \n",
    "        ]\n",
    "\n",
    "jupman.pytut()"
   ]
  },
  {
   "cell_type": "markdown",
   "metadata": {},
   "source": [
    "As we previously said, in a list we can put the elements we want, so we can mix lists with different dimensions, strings, numbers and so on:"
   ]
  },
  {
   "cell_type": "code",
   "execution_count": 19,
   "metadata": {},
   "outputs": [],
   "source": [
    "so_much = [ \n",
    "            ['hello',3,'world'],\n",
    "            'a string',\n",
    "            [9,5,6,7,3,4],\n",
    "            8,\n",
    "          ]"
   ]
  },
  {
   "cell_type": "code",
   "execution_count": 20,
   "metadata": {},
   "outputs": [
    {
     "name": "stdout",
     "output_type": "stream",
     "text": [
      "[['hello', 3, 'world'], 'a string', [9, 5, 6, 7, 3, 4], 8]\n"
     ]
    }
   ],
   "source": [
    "print(so_much)"
   ]
  },
  {
   "cell_type": "markdown",
   "metadata": {},
   "source": [
    "Let's see how it appears in Python Tutor:"
   ]
  },
  {
   "cell_type": "code",
   "execution_count": 21,
   "metadata": {},
   "outputs": [
    {
     "data": {
      "text/html": [
       "\n",
       "        <script src=\"../_static/js/pytutor-embed.bundle.min.js\" type=\"application/javascript\"></script>\n",
       "     \n",
       "        <script id=\"json-jme689f32e-c8d0-4f25-8db6-897803267652\" type=\"application/json\" >\n",
       "            {\"trace\": [{\"globals\": {}, \"ordered_globals\": [], \"event\": \"step_line\", \"heap\": {}, \"stdout\": \"\", \"stack_to_render\": [], \"line\": 3, \"func_name\": \"<module>\"}, {\"globals\": {}, \"ordered_globals\": [], \"event\": \"step_line\", \"heap\": {}, \"stdout\": \"\", \"stack_to_render\": [], \"line\": 4, \"func_name\": \"<module>\"}, {\"globals\": {}, \"ordered_globals\": [], \"event\": \"step_line\", \"heap\": {}, \"stdout\": \"\", \"stack_to_render\": [], \"line\": 5, \"func_name\": \"<module>\"}, {\"globals\": {}, \"ordered_globals\": [], \"event\": \"step_line\", \"heap\": {}, \"stdout\": \"\", \"stack_to_render\": [], \"line\": 6, \"func_name\": \"<module>\"}, {\"globals\": {\"so_much\": [\"REF\", 1]}, \"ordered_globals\": [\"so_much\"], \"event\": \"return\", \"heap\": {\"1\": [\"LIST\", [\"REF\", 2], \"a string\", [\"REF\", 3], 8], \"2\": [\"LIST\", \"hello\", 3, \"world\"], \"3\": [\"LIST\", 9, 5, 6, 7, 3, 4]}, \"stdout\": \"\", \"stack_to_render\": [], \"line\": 6, \"func_name\": \"<module>\"}], \"code\": \" \\nso_much = [ \\n             ['hello',3,'world'],\\n             'a string',\\n             [9,5,6,7,3,4],\\n             8,\\n          ]\"}\n",
       "        </script>\n",
       "        <div id=\"jme689f32e-c8d0-4f25-8db6-897803267652\" class=\"pytutorVisualizer\"> </div>\n",
       " \n",
       "        <style>\n",
       "        .vizLayoutTd {\n",
       "            background-color: #fff !important;\n",
       "        }\n",
       "\n",
       "        #pyStdout {            \n",
       "            min-height:25px;\n",
       "        }\n",
       "\n",
       "        /* 'Edit this code' link, hiding because replaces browser tab !!!*/\n",
       "        #editCodeLinkDiv {\n",
       "            display:none;  \n",
       "        }\n",
       "        </style>   \n",
       "                            \n",
       "        <script>\n",
       "        (function(){\n",
       "\n",
       "            var trace = JSON.parse(document.getElementById('json-jme689f32e-c8d0-4f25-8db6-897803267652').innerHTML);                                        \n",
       "            // NOTE 1: id without #\n",
       "            // NOTE 2 - maybe there are more predictable ways, but this will work anyway\n",
       "            //        - id should be number\n",
       "            visualizerIdOverride = Math.trunc(Math.random() * 100000000000)\n",
       "            addVisualizerToPage(trace, 'jme689f32e-c8d0-4f25-8db6-897803267652',{'embeddedMode' : false,\n",
       "                                             'visualizerIdOverride':visualizerIdOverride})  \n",
       "            \n",
       "            \n",
       "            // set overflow for pytuts - need to do in python as css \n",
       "            // does not allow parent selection\n",
       "            var pytuts = $('.pytutorVisualizer')\n",
       "            pytuts.closest('div.output_html.rendered_html.output_result')\n",
       "                    .css('overflow-x', 'visible')\n",
       "        \n",
       "            //pytuts.closest('div.output_html.rendered_html.output_result')\n",
       "            //      .css('background-color','red')                \n",
       "            \n",
       "        })()\n",
       "        </script>\n",
       "                \n",
       "                "
      ],
      "text/plain": [
       "<IPython.core.display.HTML object>"
      ]
     },
     "execution_count": 21,
     "metadata": {},
     "output_type": "execute_result"
    }
   ],
   "source": [
    "so_much = [ \n",
    "             ['hello',3,'world'],\n",
    "             'a string',\n",
    "             [9,5,6,7,3,4],\n",
    "             8,\n",
    "          ]\n",
    "\n",
    "jupman.pytut()"
   ]
  },
  {
   "cell_type": "markdown",
   "metadata": {},
   "source": [
    "### Empty list\n",
    "\n",
    "There are two ways to create an empty list.\n",
    "\n",
    "\n",
    "1) with square brackets:"
   ]
  },
  {
   "cell_type": "code",
   "execution_count": 22,
   "metadata": {},
   "outputs": [],
   "source": [
    "my_empty_list = []"
   ]
  },
  {
   "cell_type": "code",
   "execution_count": 23,
   "metadata": {},
   "outputs": [
    {
     "data": {
      "text/plain": [
       "[]"
      ]
     },
     "execution_count": 23,
     "metadata": {},
     "output_type": "execute_result"
    }
   ],
   "source": [
    "my_empty_list"
   ]
  },
  {
   "cell_type": "markdown",
   "metadata": {},
   "source": [
    "2) Or with `list()`:"
   ]
  },
  {
   "cell_type": "code",
   "execution_count": 24,
   "metadata": {},
   "outputs": [],
   "source": [
    "another_empty_list = list()"
   ]
  },
  {
   "cell_type": "code",
   "execution_count": 25,
   "metadata": {},
   "outputs": [
    {
     "data": {
      "text/plain": [
       "[]"
      ]
     },
     "execution_count": 25,
     "metadata": {},
     "output_type": "execute_result"
    }
   ],
   "source": [
    "another_empty_list"
   ]
  },
  {
   "cell_type": "markdown",
   "metadata": {},
   "source": [
    "<div class=\"div alert alert-warning\">\n",
    "\n",
    "**WARNING**: When you create an empty list (independently from the used notation), a NEW region in memory is allocated to place the list.\n",
    "</div>\n",
    "\n",
    "Let's see what this means with Python Tutor:"
   ]
  },
  {
   "cell_type": "code",
   "execution_count": 26,
   "metadata": {},
   "outputs": [
    {
     "data": {
      "text/html": [
       "\n",
       "        <script src=\"../_static/js/pytutor-embed.bundle.min.js\" type=\"application/javascript\"></script>\n",
       "     \n",
       "        <script id=\"json-jme1068372-5b11-474d-a271-ff39b3c6f155\" type=\"application/json\" >\n",
       "            {\"trace\": [{\"globals\": {}, \"ordered_globals\": [], \"event\": \"step_line\", \"heap\": {}, \"stdout\": \"\", \"stack_to_render\": [], \"line\": 2, \"func_name\": \"<module>\"}, {\"globals\": {\"a\": [\"REF\", 1]}, \"ordered_globals\": [\"a\"], \"event\": \"step_line\", \"heap\": {\"1\": [\"LIST\"]}, \"stdout\": \"\", \"stack_to_render\": [], \"line\": 3, \"func_name\": \"<module>\"}, {\"globals\": {\"a\": [\"REF\", 1], \"b\": [\"REF\", 2]}, \"ordered_globals\": [\"a\", \"b\"], \"event\": \"return\", \"heap\": {\"1\": [\"LIST\"], \"2\": [\"LIST\"]}, \"stdout\": \"\", \"stack_to_render\": [], \"line\": 3, \"func_name\": \"<module>\"}], \"code\": \" \\na = []\\nb = []\"}\n",
       "        </script>\n",
       "        <div id=\"jme1068372-5b11-474d-a271-ff39b3c6f155\" class=\"pytutorVisualizer\"> </div>\n",
       " \n",
       "        <style>\n",
       "        .vizLayoutTd {\n",
       "            background-color: #fff !important;\n",
       "        }\n",
       "\n",
       "        #pyStdout {            \n",
       "            min-height:25px;\n",
       "        }\n",
       "\n",
       "        /* 'Edit this code' link, hiding because replaces browser tab !!!*/\n",
       "        #editCodeLinkDiv {\n",
       "            display:none;  \n",
       "        }\n",
       "        </style>   \n",
       "                            \n",
       "        <script>\n",
       "        (function(){\n",
       "\n",
       "            var trace = JSON.parse(document.getElementById('json-jme1068372-5b11-474d-a271-ff39b3c6f155').innerHTML);                                        \n",
       "            // NOTE 1: id without #\n",
       "            // NOTE 2 - maybe there are more predictable ways, but this will work anyway\n",
       "            //        - id should be number\n",
       "            visualizerIdOverride = Math.trunc(Math.random() * 100000000000)\n",
       "            addVisualizerToPage(trace, 'jme1068372-5b11-474d-a271-ff39b3c6f155',{'embeddedMode' : false,\n",
       "                                             'visualizerIdOverride':visualizerIdOverride})  \n",
       "            \n",
       "            \n",
       "            // set overflow for pytuts - need to do in python as css \n",
       "            // does not allow parent selection\n",
       "            var pytuts = $('.pytutorVisualizer')\n",
       "            pytuts.closest('div.output_html.rendered_html.output_result')\n",
       "                    .css('overflow-x', 'visible')\n",
       "        \n",
       "            //pytuts.closest('div.output_html.rendered_html.output_result')\n",
       "            //      .css('background-color','red')                \n",
       "            \n",
       "        })()\n",
       "        </script>\n",
       "                \n",
       "                "
      ],
      "text/plain": [
       "<IPython.core.display.HTML object>"
      ]
     },
     "execution_count": 26,
     "metadata": {},
     "output_type": "execute_result"
    }
   ],
   "source": [
    "a = []\n",
    "b = []\n",
    "\n",
    "jupman.pytut()"
   ]
  },
  {
   "cell_type": "markdown",
   "metadata": {},
   "source": [
    "Note two arrows appeared, which point to **different** memory regions. The same would have happend by initializing the lists with some elements:"
   ]
  },
  {
   "cell_type": "code",
   "execution_count": 27,
   "metadata": {},
   "outputs": [
    {
     "data": {
      "text/html": [
       "\n",
       "        <script src=\"../_static/js/pytutor-embed.bundle.min.js\" type=\"application/javascript\"></script>\n",
       "     \n",
       "        <script id=\"json-jm49f48e9b-1530-400e-b1e4-e1141d9bf7e2\" type=\"application/json\" >\n",
       "            {\"trace\": [{\"globals\": {}, \"ordered_globals\": [], \"event\": \"step_line\", \"heap\": {}, \"stdout\": \"\", \"stack_to_render\": [], \"line\": 2, \"func_name\": \"<module>\"}, {\"globals\": {\"la\": [\"REF\", 1]}, \"ordered_globals\": [\"la\"], \"event\": \"step_line\", \"heap\": {\"1\": [\"LIST\", 8, 6, 7]}, \"stdout\": \"\", \"stack_to_render\": [], \"line\": 3, \"func_name\": \"<module>\"}, {\"globals\": {\"lb\": [\"REF\", 2], \"la\": [\"REF\", 1]}, \"ordered_globals\": [\"la\", \"lb\"], \"event\": \"return\", \"heap\": {\"1\": [\"LIST\", 8, 6, 7], \"2\": [\"LIST\", 9, 5, 6, 4]}, \"stdout\": \"\", \"stack_to_render\": [], \"line\": 3, \"func_name\": \"<module>\"}], \"code\": \" \\nla = [8,6,7]\\nlb = [9,5,6,4]\"}\n",
       "        </script>\n",
       "        <div id=\"jm49f48e9b-1530-400e-b1e4-e1141d9bf7e2\" class=\"pytutorVisualizer\"> </div>\n",
       " \n",
       "        <style>\n",
       "        .vizLayoutTd {\n",
       "            background-color: #fff !important;\n",
       "        }\n",
       "\n",
       "        #pyStdout {            \n",
       "            min-height:25px;\n",
       "        }\n",
       "\n",
       "        /* 'Edit this code' link, hiding because replaces browser tab !!!*/\n",
       "        #editCodeLinkDiv {\n",
       "            display:none;  \n",
       "        }\n",
       "        </style>   \n",
       "                            \n",
       "        <script>\n",
       "        (function(){\n",
       "\n",
       "            var trace = JSON.parse(document.getElementById('json-jm49f48e9b-1530-400e-b1e4-e1141d9bf7e2').innerHTML);                                        \n",
       "            // NOTE 1: id without #\n",
       "            // NOTE 2 - maybe there are more predictable ways, but this will work anyway\n",
       "            //        - id should be number\n",
       "            visualizerIdOverride = Math.trunc(Math.random() * 100000000000)\n",
       "            addVisualizerToPage(trace, 'jm49f48e9b-1530-400e-b1e4-e1141d9bf7e2',{'embeddedMode' : false,\n",
       "                                             'visualizerIdOverride':visualizerIdOverride})  \n",
       "            \n",
       "            \n",
       "            // set overflow for pytuts - need to do in python as css \n",
       "            // does not allow parent selection\n",
       "            var pytuts = $('.pytutorVisualizer')\n",
       "            pytuts.closest('div.output_html.rendered_html.output_result')\n",
       "                    .css('overflow-x', 'visible')\n",
       "        \n",
       "            //pytuts.closest('div.output_html.rendered_html.output_result')\n",
       "            //      .css('background-color','red')                \n",
       "            \n",
       "        })()\n",
       "        </script>\n",
       "                \n",
       "                "
      ],
      "text/plain": [
       "<IPython.core.display.HTML object>"
      ]
     },
     "execution_count": 27,
     "metadata": {},
     "output_type": "execute_result"
    }
   ],
   "source": [
    "la = [8,6,7]\n",
    "lb = [9,5,6,4]\n",
    "\n",
    "jupman.pytut()"
   ]
  },
  {
   "cell_type": "markdown",
   "metadata": {},
   "source": [
    "We would have two lists in different memory regions also by placing identical elements inside the lists:"
   ]
  },
  {
   "cell_type": "code",
   "execution_count": 28,
   "metadata": {},
   "outputs": [
    {
     "data": {
      "text/html": [
       "\n",
       "        <script src=\"../_static/js/pytutor-embed.bundle.min.js\" type=\"application/javascript\"></script>\n",
       "     \n",
       "        <script id=\"json-jm2d3b7cff-c351-4963-90f5-dfde3139b489\" type=\"application/json\" >\n",
       "            {\"trace\": [{\"globals\": {}, \"ordered_globals\": [], \"event\": \"step_line\", \"heap\": {}, \"stdout\": \"\", \"stack_to_render\": [], \"line\": 2, \"func_name\": \"<module>\"}, {\"globals\": {\"la\": [\"REF\", 1]}, \"ordered_globals\": [\"la\"], \"event\": \"step_line\", \"heap\": {\"1\": [\"LIST\", 8, 6, 7]}, \"stdout\": \"\", \"stack_to_render\": [], \"line\": 3, \"func_name\": \"<module>\"}, {\"globals\": {\"lb\": [\"REF\", 2], \"la\": [\"REF\", 1]}, \"ordered_globals\": [\"la\", \"lb\"], \"event\": \"return\", \"heap\": {\"1\": [\"LIST\", 8, 6, 7], \"2\": [\"LIST\", 8, 6, 7]}, \"stdout\": \"\", \"stack_to_render\": [], \"line\": 3, \"func_name\": \"<module>\"}], \"code\": \" \\nla = [8,6,7]\\nlb = [8,6,7]\"}\n",
       "        </script>\n",
       "        <div id=\"jm2d3b7cff-c351-4963-90f5-dfde3139b489\" class=\"pytutorVisualizer\"> </div>\n",
       " \n",
       "        <style>\n",
       "        .vizLayoutTd {\n",
       "            background-color: #fff !important;\n",
       "        }\n",
       "\n",
       "        #pyStdout {            \n",
       "            min-height:25px;\n",
       "        }\n",
       "\n",
       "        /* 'Edit this code' link, hiding because replaces browser tab !!!*/\n",
       "        #editCodeLinkDiv {\n",
       "            display:none;  \n",
       "        }\n",
       "        </style>   \n",
       "                            \n",
       "        <script>\n",
       "        (function(){\n",
       "\n",
       "            var trace = JSON.parse(document.getElementById('json-jm2d3b7cff-c351-4963-90f5-dfde3139b489').innerHTML);                                        \n",
       "            // NOTE 1: id without #\n",
       "            // NOTE 2 - maybe there are more predictable ways, but this will work anyway\n",
       "            //        - id should be number\n",
       "            visualizerIdOverride = Math.trunc(Math.random() * 100000000000)\n",
       "            addVisualizerToPage(trace, 'jm2d3b7cff-c351-4963-90f5-dfde3139b489',{'embeddedMode' : false,\n",
       "                                             'visualizerIdOverride':visualizerIdOverride})  \n",
       "            \n",
       "            \n",
       "            // set overflow for pytuts - need to do in python as css \n",
       "            // does not allow parent selection\n",
       "            var pytuts = $('.pytutorVisualizer')\n",
       "            pytuts.closest('div.output_html.rendered_html.output_result')\n",
       "                    .css('overflow-x', 'visible')\n",
       "        \n",
       "            //pytuts.closest('div.output_html.rendered_html.output_result')\n",
       "            //      .css('background-color','red')                \n",
       "            \n",
       "        })()\n",
       "        </script>\n",
       "                \n",
       "                "
      ],
      "text/plain": [
       "<IPython.core.display.HTML object>"
      ]
     },
     "execution_count": 28,
     "metadata": {},
     "output_type": "execute_result"
    }
   ],
   "source": [
    "la = [8,6,7]\n",
    "lb = [8,6,7]\n",
    "\n",
    "jupman.pytut()"
   ]
  },
  {
   "cell_type": "markdown",
   "metadata": {},
   "source": [
    "Things get complicated when we start using assignment operations:"
   ]
  },
  {
   "cell_type": "code",
   "execution_count": 29,
   "metadata": {},
   "outputs": [],
   "source": [
    "la = [8,6,7]"
   ]
  },
  {
   "cell_type": "code",
   "execution_count": 30,
   "metadata": {},
   "outputs": [],
   "source": [
    "lb = [9,5,6,4]"
   ]
  },
  {
   "cell_type": "code",
   "execution_count": 31,
   "metadata": {},
   "outputs": [],
   "source": [
    "lb = la"
   ]
  },
  {
   "cell_type": "markdown",
   "metadata": {},
   "source": [
    "By writing `lb = la`, we told Python to 'forget' the previous assignment of `lb` to `[9,5,6,4]`, and instead to associate `lb`  to the same value associated to `la`, that is `[8,6,7]`. Thus, in memory we will see an arrow departing from `lb` and arriving into `[8,6,7]`, and the memory region where the list `[9,5,6,4]` was placed will be removed (won't be associated to any variable anymore). Let's see what happens with Python Tutor:"
   ]
  },
  {
   "cell_type": "code",
   "execution_count": 32,
   "metadata": {},
   "outputs": [
    {
     "data": {
      "text/html": [
       "\n",
       "        <script src=\"../_static/js/pytutor-embed.bundle.min.js\" type=\"application/javascript\"></script>\n",
       "     \n",
       "        <script id=\"json-jmfe7f3ddd-fc35-4b94-af98-b95f5395f66f\" type=\"application/json\" >\n",
       "            {\"trace\": [{\"globals\": {}, \"ordered_globals\": [], \"event\": \"step_line\", \"heap\": {}, \"stdout\": \"\", \"stack_to_render\": [], \"line\": 2, \"func_name\": \"<module>\"}, {\"globals\": {\"la\": [\"REF\", 1]}, \"ordered_globals\": [\"la\"], \"event\": \"step_line\", \"heap\": {\"1\": [\"LIST\", 8, 6, 7]}, \"stdout\": \"\", \"stack_to_render\": [], \"line\": 3, \"func_name\": \"<module>\"}, {\"globals\": {\"lb\": [\"REF\", 2], \"la\": [\"REF\", 1]}, \"ordered_globals\": [\"la\", \"lb\"], \"event\": \"step_line\", \"heap\": {\"1\": [\"LIST\", 8, 6, 7], \"2\": [\"LIST\", 9, 5, 6, 4]}, \"stdout\": \"\", \"stack_to_render\": [], \"line\": 4, \"func_name\": \"<module>\"}, {\"globals\": {\"lb\": [\"REF\", 1], \"la\": [\"REF\", 1]}, \"ordered_globals\": [\"la\", \"lb\"], \"event\": \"return\", \"heap\": {\"1\": [\"LIST\", 8, 6, 7]}, \"stdout\": \"\", \"stack_to_render\": [], \"line\": 4, \"func_name\": \"<module>\"}], \"code\": \" \\nla = [8,6,7]\\nlb = [9,5,6,4]\\nlb = la\"}\n",
       "        </script>\n",
       "        <div id=\"jmfe7f3ddd-fc35-4b94-af98-b95f5395f66f\" class=\"pytutorVisualizer\"> </div>\n",
       " \n",
       "        <style>\n",
       "        .vizLayoutTd {\n",
       "            background-color: #fff !important;\n",
       "        }\n",
       "\n",
       "        #pyStdout {            \n",
       "            min-height:25px;\n",
       "        }\n",
       "\n",
       "        /* 'Edit this code' link, hiding because replaces browser tab !!!*/\n",
       "        #editCodeLinkDiv {\n",
       "            display:none;  \n",
       "        }\n",
       "        </style>   \n",
       "                            \n",
       "        <script>\n",
       "        (function(){\n",
       "\n",
       "            var trace = JSON.parse(document.getElementById('json-jmfe7f3ddd-fc35-4b94-af98-b95f5395f66f').innerHTML);                                        \n",
       "            // NOTE 1: id without #\n",
       "            // NOTE 2 - maybe there are more predictable ways, but this will work anyway\n",
       "            //        - id should be number\n",
       "            visualizerIdOverride = Math.trunc(Math.random() * 100000000000)\n",
       "            addVisualizerToPage(trace, 'jmfe7f3ddd-fc35-4b94-af98-b95f5395f66f',{'embeddedMode' : false,\n",
       "                                             'visualizerIdOverride':visualizerIdOverride})  \n",
       "            \n",
       "            \n",
       "            // set overflow for pytuts - need to do in python as css \n",
       "            // does not allow parent selection\n",
       "            var pytuts = $('.pytutorVisualizer')\n",
       "            pytuts.closest('div.output_html.rendered_html.output_result')\n",
       "                    .css('overflow-x', 'visible')\n",
       "        \n",
       "            //pytuts.closest('div.output_html.rendered_html.output_result')\n",
       "            //      .css('background-color','red')                \n",
       "            \n",
       "        })()\n",
       "        </script>\n",
       "                \n",
       "                "
      ],
      "text/plain": [
       "<IPython.core.display.HTML object>"
      ]
     },
     "execution_count": 32,
     "metadata": {},
     "output_type": "execute_result"
    }
   ],
   "source": [
    "la = [8,6,7]\n",
    "lb = [9,5,6,4]\n",
    "lb = la\n",
    "\n",
    "jupman.pytut()"
   ]
  },
  {
   "cell_type": "markdown",
   "metadata": {},
   "source": [
    "**EXERCISE**: Try swapping the lists associated to variables `la` and `lb` by using only assignments and **without creating new lists**. If you want, you can overwrite a third variable `lc`. Verify what happes with Python Tutor.\n",
    "\n",
    "* your code must work for any value of `la`, `lb` and `lc`\n",
    "\n",
    "Example - given:\n",
    "\n",
    "```python\n",
    "la = [9,6,1]\n",
    "lb = [2,3,4,3,5]\n",
    "lc = None\n",
    "```\n",
    "After your code, it must result:\n",
    "\n",
    "```python\n",
    ">>> print(la)\n",
    "[2,3,4,3,5]\n",
    ">>> print(lb)\n",
    "[9,6,1]\n",
    "```"
   ]
  },
  {
   "cell_type": "raw",
   "id": "green-neutral",
   "metadata": {
    "format": "text/html"
   },
   "source": [
    "<a  class=\"jupman-sol jupman-sol-toggler\" \n",
    " onclick=\"jupman.toggleSolution(this);\" \n",
    " data-jupman-show=\"Show solution\" data-jupman-hide=\"Hide\">Show solution</a><div class=\"jupman-sol jupman-sol-code\" style=\"display:none\">  "
   ]
  },
  {
   "cell_type": "code",
   "execution_count": 33,
   "metadata": {},
   "outputs": [],
   "source": [
    "la = [9,6,1]\n",
    "lb = [2,3,4,3,5]\n",
    "lc = None\n",
    "\n",
    "# write here\n",
    "\n",
    "lc = la\n",
    "la = lb\n",
    "lb = lc\n",
    "\n",
    "#print(la)\n",
    "#print(lb)"
   ]
  },
  {
   "cell_type": "raw",
   "id": "hawaiian-mobile",
   "metadata": {
    "format": "text/html"
   },
   "source": [
    "</div>"
   ]
  },
  {
   "cell_type": "code",
   "execution_count": 33,
   "metadata": {},
   "outputs": [],
   "source": [
    "la = [9,6,1]\n",
    "lb = [2,3,4,3,5]\n",
    "lc = None\n",
    "\n",
    "# write here\n",
    "\n"
   ]
  },
  {
   "cell_type": "markdown",
   "metadata": {},
   "source": [
    "**QUESTION**: Have a look at these two pieces of code. For each case, try thinking how they might be represented in memory and then verify with Python Tutor.\n",
    "\n",
    "- could there be a difference?\n",
    "- how many memory cells will be allocated in total?\n",
    "- how many arrows will you see?\n",
    "\n",
    "```python\n",
    "# first case\n",
    "lb = [\n",
    "       [8,6,7],\n",
    "       [8,6,7],\n",
    "       [8,6,7],\n",
    "       [8,6,7],       \n",
    "     ]\n",
    "```\n",
    "\n",
    "```python\n",
    "# second case\n",
    "la = [8,6,7]\n",
    "lb = [\n",
    "       la,\n",
    "       la,\n",
    "       la,\n",
    "       la\n",
    "     ]\n",
    "```\n",
    "\n"
   ]
  },
  {
   "cell_type": "code",
   "execution_count": 34,
   "metadata": {},
   "outputs": [
    {
     "data": {
      "text/html": [
       "\n",
       "        <script src=\"../_static/js/pytutor-embed.bundle.min.js\" type=\"application/javascript\"></script>\n",
       "     \n",
       "        <script id=\"json-jm7882ff2e-6329-41b7-96d5-4ec2cc314c59\" type=\"application/json\" >\n",
       "            {\"trace\": [{\"globals\": {}, \"ordered_globals\": [], \"event\": \"step_line\", \"heap\": {}, \"stdout\": \"\", \"stack_to_render\": [], \"line\": 4, \"func_name\": \"<module>\"}, {\"globals\": {}, \"ordered_globals\": [], \"event\": \"step_line\", \"heap\": {}, \"stdout\": \"\", \"stack_to_render\": [], \"line\": 5, \"func_name\": \"<module>\"}, {\"globals\": {}, \"ordered_globals\": [], \"event\": \"step_line\", \"heap\": {}, \"stdout\": \"\", \"stack_to_render\": [], \"line\": 6, \"func_name\": \"<module>\"}, {\"globals\": {}, \"ordered_globals\": [], \"event\": \"step_line\", \"heap\": {}, \"stdout\": \"\", \"stack_to_render\": [], \"line\": 7, \"func_name\": \"<module>\"}, {\"globals\": {\"lb\": [\"REF\", 1]}, \"ordered_globals\": [\"lb\"], \"event\": \"return\", \"heap\": {\"1\": [\"LIST\", [\"REF\", 2], [\"REF\", 3], [\"REF\", 4], [\"REF\", 5]], \"2\": [\"LIST\", 8, 6, 7], \"3\": [\"LIST\", 8, 6, 7], \"4\": [\"LIST\", 8, 6, 7], \"5\": [\"LIST\", 8, 6, 7]}, \"stdout\": \"\", \"stack_to_render\": [], \"line\": 7, \"func_name\": \"<module>\"}], \"code\": \" \\n# first case\\nlb = [\\n       [8,6,7],\\n       [8,6,7],\\n       [8,6,7],\\n       [8,6,7],       \\n     ]\"}\n",
       "        </script>\n",
       "        <div id=\"jm7882ff2e-6329-41b7-96d5-4ec2cc314c59\" class=\"pytutorVisualizer\"> </div>\n",
       " \n",
       "        <style>\n",
       "        .vizLayoutTd {\n",
       "            background-color: #fff !important;\n",
       "        }\n",
       "\n",
       "        #pyStdout {            \n",
       "            min-height:25px;\n",
       "        }\n",
       "\n",
       "        /* 'Edit this code' link, hiding because replaces browser tab !!!*/\n",
       "        #editCodeLinkDiv {\n",
       "            display:none;  \n",
       "        }\n",
       "        </style>   \n",
       "                            \n",
       "        <script>\n",
       "        (function(){\n",
       "\n",
       "            var trace = JSON.parse(document.getElementById('json-jm7882ff2e-6329-41b7-96d5-4ec2cc314c59').innerHTML);                                        \n",
       "            // NOTE 1: id without #\n",
       "            // NOTE 2 - maybe there are more predictable ways, but this will work anyway\n",
       "            //        - id should be number\n",
       "            visualizerIdOverride = Math.trunc(Math.random() * 100000000000)\n",
       "            addVisualizerToPage(trace, 'jm7882ff2e-6329-41b7-96d5-4ec2cc314c59',{'embeddedMode' : false,\n",
       "                                             'visualizerIdOverride':visualizerIdOverride})  \n",
       "            \n",
       "            \n",
       "            // set overflow for pytuts - need to do in python as css \n",
       "            // does not allow parent selection\n",
       "            var pytuts = $('.pytutorVisualizer')\n",
       "            pytuts.closest('div.output_html.rendered_html.output_result')\n",
       "                    .css('overflow-x', 'visible')\n",
       "        \n",
       "            //pytuts.closest('div.output_html.rendered_html.output_result')\n",
       "            //      .css('background-color','red')                \n",
       "            \n",
       "        })()\n",
       "        </script>\n",
       "                \n",
       "                "
      ],
      "text/plain": [
       "<IPython.core.display.HTML object>"
      ]
     },
     "execution_count": 34,
     "metadata": {},
     "output_type": "execute_result"
    }
   ],
   "source": [
    "# first case\n",
    "lb = [\n",
    "       [8,6,7],\n",
    "       [8,6,7],\n",
    "       [8,6,7],\n",
    "       [8,6,7],       \n",
    "     ]\n",
    "jupman.pytut()"
   ]
  },
  {
   "cell_type": "code",
   "execution_count": 35,
   "metadata": {},
   "outputs": [
    {
     "data": {
      "text/html": [
       "\n",
       "        <script src=\"../_static/js/pytutor-embed.bundle.min.js\" type=\"application/javascript\"></script>\n",
       "     \n",
       "        <script id=\"json-jm14e8865b-5674-4384-805e-9ac6d26ce6a5\" type=\"application/json\" >\n",
       "            {\"trace\": [{\"globals\": {}, \"ordered_globals\": [], \"event\": \"step_line\", \"heap\": {}, \"stdout\": \"\", \"stack_to_render\": [], \"line\": 4, \"func_name\": \"<module>\"}, {\"globals\": {\"la\": [\"REF\", 1]}, \"ordered_globals\": [\"la\"], \"event\": \"step_line\", \"heap\": {\"1\": [\"LIST\", 8, 6, 7]}, \"stdout\": \"\", \"stack_to_render\": [], \"line\": 6, \"func_name\": \"<module>\"}, {\"globals\": {\"la\": [\"REF\", 1]}, \"ordered_globals\": [\"la\"], \"event\": \"step_line\", \"heap\": {\"1\": [\"LIST\", 8, 6, 7]}, \"stdout\": \"\", \"stack_to_render\": [], \"line\": 7, \"func_name\": \"<module>\"}, {\"globals\": {\"la\": [\"REF\", 1]}, \"ordered_globals\": [\"la\"], \"event\": \"step_line\", \"heap\": {\"1\": [\"LIST\", 8, 6, 7]}, \"stdout\": \"\", \"stack_to_render\": [], \"line\": 8, \"func_name\": \"<module>\"}, {\"globals\": {\"la\": [\"REF\", 1]}, \"ordered_globals\": [\"la\"], \"event\": \"step_line\", \"heap\": {\"1\": [\"LIST\", 8, 6, 7]}, \"stdout\": \"\", \"stack_to_render\": [], \"line\": 9, \"func_name\": \"<module>\"}, {\"globals\": {\"lb\": [\"REF\", 2], \"la\": [\"REF\", 1]}, \"ordered_globals\": [\"la\", \"lb\"], \"event\": \"return\", \"heap\": {\"1\": [\"LIST\", 8, 6, 7], \"2\": [\"LIST\", [\"REF\", 1], [\"REF\", 1], [\"REF\", 1], [\"REF\", 1]]}, \"stdout\": \"\", \"stack_to_render\": [], \"line\": 9, \"func_name\": \"<module>\"}], \"code\": \" \\n# second case\\n\\nla = [8,6,7]\\nlb = [\\n       la,\\n       la,\\n       la,\\n       la\\n     ]\"}\n",
       "        </script>\n",
       "        <div id=\"jm14e8865b-5674-4384-805e-9ac6d26ce6a5\" class=\"pytutorVisualizer\"> </div>\n",
       " \n",
       "        <style>\n",
       "        .vizLayoutTd {\n",
       "            background-color: #fff !important;\n",
       "        }\n",
       "\n",
       "        #pyStdout {            \n",
       "            min-height:25px;\n",
       "        }\n",
       "\n",
       "        /* 'Edit this code' link, hiding because replaces browser tab !!!*/\n",
       "        #editCodeLinkDiv {\n",
       "            display:none;  \n",
       "        }\n",
       "        </style>   \n",
       "                            \n",
       "        <script>\n",
       "        (function(){\n",
       "\n",
       "            var trace = JSON.parse(document.getElementById('json-jm14e8865b-5674-4384-805e-9ac6d26ce6a5').innerHTML);                                        \n",
       "            // NOTE 1: id without #\n",
       "            // NOTE 2 - maybe there are more predictable ways, but this will work anyway\n",
       "            //        - id should be number\n",
       "            visualizerIdOverride = Math.trunc(Math.random() * 100000000000)\n",
       "            addVisualizerToPage(trace, 'jm14e8865b-5674-4384-805e-9ac6d26ce6a5',{'embeddedMode' : false,\n",
       "                                             'visualizerIdOverride':visualizerIdOverride})  \n",
       "            \n",
       "            \n",
       "            // set overflow for pytuts - need to do in python as css \n",
       "            // does not allow parent selection\n",
       "            var pytuts = $('.pytutorVisualizer')\n",
       "            pytuts.closest('div.output_html.rendered_html.output_result')\n",
       "                    .css('overflow-x', 'visible')\n",
       "        \n",
       "            //pytuts.closest('div.output_html.rendered_html.output_result')\n",
       "            //      .css('background-color','red')                \n",
       "            \n",
       "        })()\n",
       "        </script>\n",
       "                \n",
       "                "
      ],
      "text/plain": [
       "<IPython.core.display.HTML object>"
      ]
     },
     "execution_count": 35,
     "metadata": {},
     "output_type": "execute_result"
    }
   ],
   "source": [
    "# second case\n",
    "\n",
    "la = [8,6,7]\n",
    "lb = [\n",
    "       la,\n",
    "       la,\n",
    "       la,\n",
    "       la\n",
    "     ]\n",
    "jupman.pytut()"
   ]
  },
  {
   "cell_type": "raw",
   "id": "shared-tucson",
   "metadata": {
    "format": "text/html"
   },
   "source": [
    "<a  class=\"jupman-sol jupman-sol-toggler\" \n",
    " onclick=\"jupman.toggleSolution(this);\" \n",
    " data-jupman-show=\"Show answer\" data-jupman-hide=\"Hide\">Show answer</a><div class=\"jupman-sol jupman-sol-question\" style=\"display:none\">  "
   ]
  },
  {
   "cell_type": "markdown",
   "metadata": {},
   "source": [
    "**ANSWER**: In the first case, we have a 'big list' associated to the variable `lb` which contains `4` sublists each of 3 elements. Each sublist is created as new, so in total in memory we end up with  4 cells of the big list lb + (4 sublists * 3 cells each) = 16 cells\n",
    "\n",
    "In the second case we have instead always the 'big list' associated to the variable lb of 4 cells, but inside it contains some pointers to the same identical list la. So the total number of occupied cells is 4 cells of big list lb + (1 sublist * 3 cells) = 7 cells"
   ]
  },
  {
   "cell_type": "raw",
   "id": "broadband-calcium",
   "metadata": {
    "format": "text/html"
   },
   "source": [
    "</div>"
   ]
  },
  {
   "cell_type": "markdown",
   "metadata": {},
   "source": [
    "### Exercise - create lists 1\n",
    "\n",
    "Given two variables:\n",
    "\n",
    "```python\n",
    "la = [4,3]\n",
    "lb = [9,6,7]\n",
    "```\n",
    "\n",
    "Write some code which prints the list `[[4, 3], [[9, 6, 7], [4, 3], [9, 6, 7]], [4, 3]]`\n",
    "\n",
    "* **DO NOT write numbers**, use only lists of variables"
   ]
  },
  {
   "cell_type": "raw",
   "id": "lesbian-binding",
   "metadata": {
    "format": "text/html"
   },
   "source": [
    "<a  class=\"jupman-sol jupman-sol-toggler\" \n",
    " onclick=\"jupman.toggleSolution(this);\" \n",
    " data-jupman-show=\"Show solution\" data-jupman-hide=\"Hide\">Show solution</a><div class=\"jupman-sol jupman-sol-code\" style=\"display:none\">  "
   ]
  },
  {
   "cell_type": "code",
   "execution_count": 36,
   "metadata": {},
   "outputs": [
    {
     "name": "stdout",
     "output_type": "stream",
     "text": [
      "[[4, 3], [[9, 6, 7], [4, 3], [9, 6, 7]], [4, 3]]\n"
     ]
    }
   ],
   "source": [
    "la = [4,3]\n",
    "lb = [9,6,7]\n",
    "\n",
    "# write here\n",
    "print([\n",
    "        la,\n",
    "        [lb,la,lb],\n",
    "        la\n",
    "])"
   ]
  },
  {
   "cell_type": "raw",
   "id": "endless-borough",
   "metadata": {
    "format": "text/html"
   },
   "source": [
    "</div>"
   ]
  },
  {
   "cell_type": "code",
   "execution_count": 36,
   "metadata": {},
   "outputs": [
    {
     "name": "stdout",
     "output_type": "stream",
     "text": [
      "[[4, 3], [[9, 6, 7], [4, 3], [9, 6, 7]], [4, 3]]\n"
     ]
    }
   ],
   "source": [
    "la = [4,3]\n",
    "lb = [9,6,7]\n",
    "\n",
    "# write here\n",
    "\n"
   ]
  },
  {
   "cell_type": "markdown",
   "metadata": {},
   "source": [
    "### Exercise - create lists 2\n",
    "\n",
    "Insert some values in the lists `la`, `lb` such that\n",
    "\n",
    "```python\n",
    "print([[la,la],[lb,la]])\n",
    "```\n",
    "\n",
    "prints\n",
    "\n",
    "```\n",
    "[[[8, 4], [8, 4]], [[4, 8, 4], [8, 4]]]\n",
    "```\n",
    "\n",
    "* **Insert only NUMBERS**\n",
    "* Observe in Python Tutor how arrows are represented\n"
   ]
  },
  {
   "cell_type": "code",
   "execution_count": 37,
   "metadata": {},
   "outputs": [
    {
     "name": "stdout",
     "output_type": "stream",
     "text": [
      "[[[], []], [[], []]]\n"
     ]
    }
   ],
   "source": [
    "la = []  # insert numbers\n",
    "lb = []  # insert numbers\n",
    "\n",
    "print([[la,la],[lb,la]])"
   ]
  },
  {
   "cell_type": "raw",
   "id": "labeled-complaint",
   "metadata": {
    "format": "text/html"
   },
   "source": [
    "<a  class=\"jupman-sol jupman-sol-toggler\" \n",
    " onclick=\"jupman.toggleSolution(this);\" \n",
    " data-jupman-show=\"Show solution\" data-jupman-hide=\"Hide\">Show solution</a><div class=\"jupman-sol jupman-sol-code\" style=\"display:none\">  "
   ]
  },
  {
   "cell_type": "code",
   "execution_count": 38,
   "metadata": {},
   "outputs": [],
   "source": [
    "# SOLUTION\n",
    "\n",
    "la = [8,4]\n",
    "lb = [4,8,4]\n",
    "\n",
    "#print([[la,la],[lb,la]])"
   ]
  },
  {
   "cell_type": "raw",
   "id": "reported-groove",
   "metadata": {
    "format": "text/html"
   },
   "source": [
    "</div>"
   ]
  },
  {
   "cell_type": "code",
   "execution_count": 38,
   "metadata": {},
   "outputs": [],
   "source": []
  },
  {
   "cell_type": "markdown",
   "metadata": {},
   "source": [
    "### Exercise - create lists 3\n",
    "\n",
    "Insert some values as elements of the lists  `la`, `lb` e `lc` such that\n",
    "\n",
    "```python\n",
    "print([[lb,lb,[lc,la]],lc])\n",
    "```\n",
    "\n",
    "prints\n",
    "\n",
    "```\n",
    "[[[8, [7, 7]], [8, [7, 7]], [[8, 7], [8, 5]]], [8, 7]]\n",
    "```\n",
    "\n",
    "* **insert only NUMBERS or NEW LISTS OF NUMBERS**\n",
    "* Observe in Python Tutor are arrows are represented"
   ]
  },
  {
   "cell_type": "code",
   "execution_count": 39,
   "metadata": {},
   "outputs": [
    {
     "name": "stdout",
     "output_type": "stream",
     "text": [
      "[[[], [], [[], []]], []]\n"
     ]
    }
   ],
   "source": [
    "\n",
    "la = []  # insert elements  (numbers or lists of numbers)\n",
    "lb = []  # insert elements  (numbers or lists of numbers)\n",
    "lc = []  # insert elements  (numbers or lists of numbers)\n",
    "\n",
    "print([[lb,lb,[lc,la]],lc])"
   ]
  },
  {
   "cell_type": "raw",
   "id": "amber-buddy",
   "metadata": {
    "format": "text/html"
   },
   "source": [
    "<a  class=\"jupman-sol jupman-sol-toggler\" \n",
    " onclick=\"jupman.toggleSolution(this);\" \n",
    " data-jupman-show=\"Show solution\" data-jupman-hide=\"Hide\">Show solution</a><div class=\"jupman-sol jupman-sol-code\" style=\"display:none\">  "
   ]
  },
  {
   "cell_type": "code",
   "execution_count": 40,
   "metadata": {},
   "outputs": [],
   "source": [
    "# SOLUTION\n",
    "\n",
    "la = [8,5]\n",
    "lb = [8,[7,7]]\n",
    "lc = [8,7]\n",
    "\n",
    "#print([[lb,lb,[lc,la]],lc])"
   ]
  },
  {
   "cell_type": "raw",
   "id": "valued-ownership",
   "metadata": {
    "format": "text/html"
   },
   "source": [
    "</div>"
   ]
  },
  {
   "cell_type": "code",
   "execution_count": 40,
   "metadata": {},
   "outputs": [],
   "source": []
  },
  {
   "cell_type": "markdown",
   "metadata": {},
   "source": [
    "### Exercise - create lists 4\n",
    "\n",
    "Insert some values in the lists `la`, `lb` such that\n",
    "\n",
    "```python\n",
    "print([[la,lc,la], lb])\n",
    "```\n",
    "\n",
    "prints\n",
    "\n",
    "```\n",
    "[[[3, 2], [[3, 2], [8, [3, 2]]], [3, 2]], [8, [3, 2]]]\n",
    "```\n",
    "\n",
    "* **insert only NUMBERS or VARIABLES** `la`,`lb` or `lc`\n",
    "* Observe in Python Tutor how arrows are represented"
   ]
  },
  {
   "cell_type": "code",
   "execution_count": 41,
   "metadata": {},
   "outputs": [
    {
     "name": "stdout",
     "output_type": "stream",
     "text": [
      "[[[], [], []], []]\n"
     ]
    }
   ],
   "source": [
    "la = []  # insert numbers or variables la, lb, lc\n",
    "lb = []  # insert numbers or variables la, lb, lc\n",
    "lc = []  # insert numbers or variables la, lb, lc\n",
    "\n",
    "print([[la,lc,la], lb])"
   ]
  },
  {
   "cell_type": "raw",
   "id": "understood-amber",
   "metadata": {
    "format": "text/html"
   },
   "source": [
    "<a  class=\"jupman-sol jupman-sol-toggler\" \n",
    " onclick=\"jupman.toggleSolution(this);\" \n",
    " data-jupman-show=\"Show solution\" data-jupman-hide=\"Hide\">Show solution</a><div class=\"jupman-sol jupman-sol-code\" style=\"display:none\">  "
   ]
  },
  {
   "cell_type": "code",
   "execution_count": 42,
   "metadata": {},
   "outputs": [],
   "source": [
    "# SOLUTION\n",
    "la = [3,2]\n",
    "lb = [8,la]\n",
    "lc = [la,lb]\n",
    "\n",
    "#print([[la,lc,la], lb])"
   ]
  },
  {
   "cell_type": "raw",
   "id": "divine-campbell",
   "metadata": {
    "format": "text/html"
   },
   "source": [
    "</div>"
   ]
  },
  {
   "cell_type": "code",
   "execution_count": 42,
   "metadata": {},
   "outputs": [],
   "source": []
  },
  {
   "cell_type": "markdown",
   "metadata": {},
   "source": [
    "## Convert sequences into lists"
   ]
  },
  {
   "cell_type": "markdown",
   "metadata": {},
   "source": [
    "`list` may also be used to convert any sequence into a NEW list. A sequence type we've alredy seen are strings, so we can check what happens when we use `list` like it were a function and we pass a string as parameter:"
   ]
  },
  {
   "cell_type": "code",
   "execution_count": 43,
   "metadata": {},
   "outputs": [
    {
     "data": {
      "text/plain": [
       "['t', 'r', 'a', 'i', 'n']"
      ]
     },
     "execution_count": 43,
     "metadata": {},
     "output_type": "execute_result"
    }
   ],
   "source": [
    "list(\"train\")"
   ]
  },
  {
   "cell_type": "markdown",
   "metadata": {},
   "source": [
    "We obtained a list in which each element is made of a character from the original string."
   ]
  },
  {
   "cell_type": "markdown",
   "metadata": {},
   "source": [
    "What happens if we call instead `list` on another list?"
   ]
  },
  {
   "cell_type": "code",
   "execution_count": 44,
   "metadata": {},
   "outputs": [
    {
     "data": {
      "text/plain": [
       "[7, 9, 5, 6]"
      ]
     },
     "execution_count": 44,
     "metadata": {},
     "output_type": "execute_result"
    }
   ],
   "source": [
    "list( [7,9,5,6] )"
   ]
  },
  {
   "cell_type": "markdown",
   "metadata": {},
   "source": [
    "Apparently, nothing particular, we obtained a list with the same start elements. But is it really the same list? Let's have a better look with Python Tutor:"
   ]
  },
  {
   "cell_type": "code",
   "execution_count": 45,
   "metadata": {},
   "outputs": [
    {
     "data": {
      "text/html": [
       "\n",
       "        <script src=\"../_static/js/pytutor-embed.bundle.min.js\" type=\"application/javascript\"></script>\n",
       "     \n",
       "        <script id=\"json-jm2fedde10-6d90-4245-bb26-25f2629b6f97\" type=\"application/json\" >\n",
       "            {\"trace\": [{\"globals\": {}, \"ordered_globals\": [], \"event\": \"step_line\", \"heap\": {}, \"stdout\": \"\", \"stack_to_render\": [], \"line\": 2, \"func_name\": \"<module>\"}, {\"globals\": {\"la\": [\"REF\", 1]}, \"ordered_globals\": [\"la\"], \"event\": \"step_line\", \"heap\": {\"1\": [\"LIST\", 7, 9, 5, 6]}, \"stdout\": \"\", \"stack_to_render\": [], \"line\": 4, \"func_name\": \"<module>\"}, {\"globals\": {\"lb\": [\"REF\", 2], \"la\": [\"REF\", 1]}, \"ordered_globals\": [\"la\", \"lb\"], \"event\": \"return\", \"heap\": {\"1\": [\"LIST\", 7, 9, 5, 6], \"2\": [\"LIST\", 7, 9, 5, 6]}, \"stdout\": \"\", \"stack_to_render\": [], \"line\": 4, \"func_name\": \"<module>\"}], \"code\": \" \\nla = [7,9,5,6] \\n\\nlb = list( la )\"}\n",
       "        </script>\n",
       "        <div id=\"jm2fedde10-6d90-4245-bb26-25f2629b6f97\" class=\"pytutorVisualizer\"> </div>\n",
       " \n",
       "        <style>\n",
       "        .vizLayoutTd {\n",
       "            background-color: #fff !important;\n",
       "        }\n",
       "\n",
       "        #pyStdout {            \n",
       "            min-height:25px;\n",
       "        }\n",
       "\n",
       "        /* 'Edit this code' link, hiding because replaces browser tab !!!*/\n",
       "        #editCodeLinkDiv {\n",
       "            display:none;  \n",
       "        }\n",
       "        </style>   \n",
       "                            \n",
       "        <script>\n",
       "        (function(){\n",
       "\n",
       "            var trace = JSON.parse(document.getElementById('json-jm2fedde10-6d90-4245-bb26-25f2629b6f97').innerHTML);                                        \n",
       "            // NOTE 1: id without #\n",
       "            // NOTE 2 - maybe there are more predictable ways, but this will work anyway\n",
       "            //        - id should be number\n",
       "            visualizerIdOverride = Math.trunc(Math.random() * 100000000000)\n",
       "            addVisualizerToPage(trace, 'jm2fedde10-6d90-4245-bb26-25f2629b6f97',{'embeddedMode' : false,\n",
       "                                             'visualizerIdOverride':visualizerIdOverride})  \n",
       "            \n",
       "            \n",
       "            // set overflow for pytuts - need to do in python as css \n",
       "            // does not allow parent selection\n",
       "            var pytuts = $('.pytutorVisualizer')\n",
       "            pytuts.closest('div.output_html.rendered_html.output_result')\n",
       "                    .css('overflow-x', 'visible')\n",
       "        \n",
       "            //pytuts.closest('div.output_html.rendered_html.output_result')\n",
       "            //      .css('background-color','red')                \n",
       "            \n",
       "        })()\n",
       "        </script>\n",
       "                \n",
       "                "
      ],
      "text/plain": [
       "<IPython.core.display.HTML object>"
      ]
     },
     "execution_count": 45,
     "metadata": {},
     "output_type": "execute_result"
    }
   ],
   "source": [
    "la = [7,9,5,6] \n",
    "\n",
    "lb = list( la )\n",
    "\n",
    "jupman.pytut()"
   ]
  },
  {
   "cell_type": "markdown",
   "metadata": {},
   "source": [
    "We note a NEW memory region was created with the same elements of `la`."
   ]
  },
  {
   "cell_type": "markdown",
   "metadata": {},
   "source": [
    "### Exercise - gulp\n",
    "\n",
    "Given a string with mixed uppercase and lowercase characters, write some code which creates a list containing as first element a list with characters from the string lowercased and as second element a list containing all the uppercased characters\n",
    "\n",
    "* your code must work with any string\n",
    "* if you don't remember the string methods, [look here](https://en.softpython.org/strings/strings3-sol.html)\n",
    "\n",
    "Example - given:\n",
    "\n",
    "```python\n",
    "s = 'GuLp'\n",
    "```\n",
    "\n",
    "your code must print:\n",
    "\n",
    "```\n",
    "[['g', 'u', 'l', 'p'], ['G', 'U', 'L', 'P']]\n",
    "```\n"
   ]
  },
  {
   "cell_type": "raw",
   "id": "literary-awareness",
   "metadata": {
    "format": "text/html"
   },
   "source": [
    "<a  class=\"jupman-sol jupman-sol-toggler\" \n",
    " onclick=\"jupman.toggleSolution(this);\" \n",
    " data-jupman-show=\"Show solution\" data-jupman-hide=\"Hide\">Show solution</a><div class=\"jupman-sol jupman-sol-code\" style=\"display:none\">  "
   ]
  },
  {
   "cell_type": "code",
   "execution_count": 46,
   "metadata": {},
   "outputs": [
    {
     "name": "stdout",
     "output_type": "stream",
     "text": [
      "[['g', 'u', 'l', 'p'], ['G', 'U', 'L', 'P']]\n"
     ]
    }
   ],
   "source": [
    "s = 'GuLp'\n",
    "\n",
    "# write here\n",
    "print([list(s.lower()), list(s.upper())])"
   ]
  },
  {
   "cell_type": "raw",
   "id": "spare-wyoming",
   "metadata": {
    "format": "text/html"
   },
   "source": [
    "</div>"
   ]
  },
  {
   "cell_type": "code",
   "execution_count": 46,
   "metadata": {},
   "outputs": [
    {
     "name": "stdout",
     "output_type": "stream",
     "text": [
      "[['g', 'u', 'l', 'p'], ['G', 'U', 'L', 'P']]\n"
     ]
    }
   ],
   "source": [
    "s = 'GuLp'\n",
    "\n",
    "# write here\n",
    "\n"
   ]
  },
  {
   "cell_type": "markdown",
   "metadata": {},
   "source": [
    "**QUESTION**: This code:\n",
    "\n",
    "- produces an error or assigns something to `x` ?\n",
    "- After its execution, how many lists remain in memory?\n",
    "- Can we shorten it?"
   ]
  },
  {
   "cell_type": "markdown",
   "metadata": {},
   "source": [
    "```python\n",
    "s = \"marathon\"\n",
    "x = list(list(list(list(s))))\n",
    "```"
   ]
  },
  {
   "cell_type": "raw",
   "id": "convenient-possession",
   "metadata": {
    "format": "text/html"
   },
   "source": [
    "<a  class=\"jupman-sol jupman-sol-toggler\" \n",
    " onclick=\"jupman.toggleSolution(this);\" \n",
    " data-jupman-show=\"Show answer\" data-jupman-hide=\"Hide\">Show answer</a><div class=\"jupman-sol jupman-sol-question\" style=\"display:none\">  "
   ]
  },
  {
   "cell_type": "markdown",
   "metadata": {},
   "source": [
    "**ANSWER**: The code assigns the list `['m', 'a', 'r', 'a', 't', 'h', 'o', 'n']` to variable `x`. The first time\n",
    "`list(s)` generates a NEW list `['m', 'a', 'r', 'a', 't', 'h', 'o', 'n']`. Successive calls to `list` take as input the just generated list and keep creating NEW lists with the same identical content. Since no produced list  except the last one is assigned to a variable, the intermediate ones are eliminated at the end of execution. We can thus safely shorten the code by writing:\n",
    "\n",
    "```python\n",
    "s = \"marathon\"\n",
    "x = list(s)\n",
    "```"
   ]
  },
  {
   "cell_type": "raw",
   "id": "delayed-significance",
   "metadata": {
    "format": "text/html"
   },
   "source": [
    "</div>"
   ]
  },
  {
   "cell_type": "markdown",
   "metadata": {},
   "source": [
    "**QUESTION**: This code:\n",
    "\n",
    "- produces an error or assigns something to `x` ?\n",
    "- After its execution, how many lists remain in memory?\n",
    "\n",
    "```python\n",
    "s = \"chain\"\n",
    "a = list(s)\n",
    "b = list(a)\n",
    "c = b\n",
    "x = list(c)\n",
    "```"
   ]
  },
  {
   "cell_type": "raw",
   "id": "center-mambo",
   "metadata": {
    "format": "text/html"
   },
   "source": [
    "<a  class=\"jupman-sol jupman-sol-toggler\" \n",
    " onclick=\"jupman.toggleSolution(this);\" \n",
    " data-jupman-show=\"Show answer\" data-jupman-hide=\"Hide\">Show answer</a><div class=\"jupman-sol jupman-sol-question\" style=\"display:none\">  "
   ]
  },
  {
   "cell_type": "markdown",
   "metadata": {},
   "source": [
    "**ANSWER**: Only 3 lists remain in memory, each containing 6 cells. This time the lists persist in memory because they are associated to variables `a`, `b` and `c`. We have 3 and not 4 lists because in instruction `c = b` the `c` variable is associated to the same identical memory region associated as variable `b`"
   ]
  },
  {
   "cell_type": "raw",
   "id": "recorded-rings",
   "metadata": {
    "format": "text/html"
   },
   "source": [
    "</div>"
   ]
  },
  {
   "cell_type": "markdown",
   "metadata": {},
   "source": [
    "### Exercise - garaga\n",
    "\n",
    "Given\n",
    "\n",
    "```python\n",
    "sa = \"ga\"\n",
    "sb = \"ra\"\n",
    "la = ['ga']\n",
    "lb = list(la)\n",
    "```\n",
    "\n",
    "* Assign to `lc` a list built in such a way so that once printed produces:\n",
    "\n",
    "```python\n",
    ">>> print(lc)\n",
    "```\n",
    "```python\n",
    "[['g', 'a', 'r', 'a'], ['ga'], ['ga'], ['r', 'a', 'g', 'a']]\n",
    "```\n",
    "\n",
    "* **in Python Tutor, ALL the arrows must point to a different memory region**"
   ]
  },
  {
   "cell_type": "code",
   "execution_count": 47,
   "metadata": {},
   "outputs": [
    {
     "name": "stdout",
     "output_type": "stream",
     "text": [
      "[]\n"
     ]
    },
    {
     "data": {
      "text/html": [
       "\n",
       "        <script src=\"../_static/js/pytutor-embed.bundle.min.js\" type=\"application/javascript\"></script>\n",
       "     \n",
       "        <script id=\"json-jm5aebb2cf-08e2-46d7-8bad-2eecd5cc47a8\" type=\"application/json\" >\n",
       "            {\"trace\": [{\"globals\": {}, \"ordered_globals\": [], \"event\": \"step_line\", \"heap\": {}, \"stdout\": \"\", \"stack_to_render\": [], \"line\": 2, \"func_name\": \"<module>\"}, {\"globals\": {\"sa\": \"ga\"}, \"ordered_globals\": [\"sa\"], \"event\": \"step_line\", \"heap\": {}, \"stdout\": \"\", \"stack_to_render\": [], \"line\": 3, \"func_name\": \"<module>\"}, {\"globals\": {\"sb\": \"ra\", \"sa\": \"ga\"}, \"ordered_globals\": [\"sa\", \"sb\"], \"event\": \"step_line\", \"heap\": {}, \"stdout\": \"\", \"stack_to_render\": [], \"line\": 4, \"func_name\": \"<module>\"}, {\"globals\": {\"sb\": \"ra\", \"sa\": \"ga\", \"la\": [\"REF\", 1]}, \"ordered_globals\": [\"sa\", \"sb\", \"la\"], \"event\": \"step_line\", \"heap\": {\"1\": [\"LIST\", \"ga\"]}, \"stdout\": \"\", \"stack_to_render\": [], \"line\": 5, \"func_name\": \"<module>\"}, {\"globals\": {\"sb\": \"ra\", \"lb\": [\"REF\", 2], \"sa\": \"ga\", \"la\": [\"REF\", 1]}, \"ordered_globals\": [\"sa\", \"sb\", \"la\", \"lb\"], \"event\": \"step_line\", \"heap\": {\"1\": [\"LIST\", \"ga\"], \"2\": [\"LIST\", \"ga\"]}, \"stdout\": \"\", \"stack_to_render\": [], \"line\": 8, \"func_name\": \"<module>\"}, {\"globals\": {\"sb\": \"ra\", \"lb\": [\"REF\", 2], \"la\": [\"REF\", 1], \"sa\": \"ga\", \"lc\": [\"REF\", 3]}, \"ordered_globals\": [\"sa\", \"sb\", \"la\", \"lb\", \"lc\"], \"event\": \"step_line\", \"heap\": {\"1\": [\"LIST\", \"ga\"], \"2\": [\"LIST\", \"ga\"], \"3\": [\"LIST\"]}, \"stdout\": \"\", \"stack_to_render\": [], \"line\": 10, \"func_name\": \"<module>\"}, {\"globals\": {\"lc\": [\"REF\", 3], \"lb\": [\"REF\", 2], \"la\": [\"REF\", 1], \"sa\": \"ga\", \"sb\": \"ra\"}, \"ordered_globals\": [\"sa\", \"sb\", \"la\", \"lb\", \"lc\"], \"event\": \"return\", \"heap\": {\"1\": [\"LIST\", \"ga\"], \"2\": [\"LIST\", \"ga\"], \"3\": [\"LIST\"]}, \"stdout\": \"[]\\n\", \"stack_to_render\": [], \"line\": 10, \"func_name\": \"<module>\"}], \"code\": \" \\nsa = \\\"ga\\\"\\nsb = \\\"ra\\\"\\nla = ['ga']\\nlb = list(la)\\n\\n# insert come code in the list\\nlc = []  \\n\\nprint(lc)\"}\n",
       "        </script>\n",
       "        <div id=\"jm5aebb2cf-08e2-46d7-8bad-2eecd5cc47a8\" class=\"pytutorVisualizer\"> </div>\n",
       " \n",
       "        <style>\n",
       "        .vizLayoutTd {\n",
       "            background-color: #fff !important;\n",
       "        }\n",
       "\n",
       "        #pyStdout {            \n",
       "            min-height:25px;\n",
       "        }\n",
       "\n",
       "        /* 'Edit this code' link, hiding because replaces browser tab !!!*/\n",
       "        #editCodeLinkDiv {\n",
       "            display:none;  \n",
       "        }\n",
       "        </style>   \n",
       "                            \n",
       "        <script>\n",
       "        (function(){\n",
       "\n",
       "            var trace = JSON.parse(document.getElementById('json-jm5aebb2cf-08e2-46d7-8bad-2eecd5cc47a8').innerHTML);                                        \n",
       "            // NOTE 1: id without #\n",
       "            // NOTE 2 - maybe there are more predictable ways, but this will work anyway\n",
       "            //        - id should be number\n",
       "            visualizerIdOverride = Math.trunc(Math.random() * 100000000000)\n",
       "            addVisualizerToPage(trace, 'jm5aebb2cf-08e2-46d7-8bad-2eecd5cc47a8',{'embeddedMode' : false,\n",
       "                                             'visualizerIdOverride':visualizerIdOverride})  \n",
       "            \n",
       "            \n",
       "            // set overflow for pytuts - need to do in python as css \n",
       "            // does not allow parent selection\n",
       "            var pytuts = $('.pytutorVisualizer')\n",
       "            pytuts.closest('div.output_html.rendered_html.output_result')\n",
       "                    .css('overflow-x', 'visible')\n",
       "        \n",
       "            //pytuts.closest('div.output_html.rendered_html.output_result')\n",
       "            //      .css('background-color','red')                \n",
       "            \n",
       "        })()\n",
       "        </script>\n",
       "                \n",
       "                "
      ],
      "text/plain": [
       "<IPython.core.display.HTML object>"
      ]
     },
     "execution_count": 47,
     "metadata": {},
     "output_type": "execute_result"
    }
   ],
   "source": [
    "sa = \"ga\"\n",
    "sb = \"ra\"\n",
    "la = ['ga']\n",
    "lb = list(la)\n",
    "\n",
    "# insert come code in the list\n",
    "lc = []  \n",
    "\n",
    "print(lc)\n",
    "jupman.pytut()"
   ]
  },
  {
   "cell_type": "raw",
   "id": "little-vertical",
   "metadata": {
    "format": "text/html"
   },
   "source": [
    "<a  class=\"jupman-sol jupman-sol-toggler\" \n",
    " onclick=\"jupman.toggleSolution(this);\" \n",
    " data-jupman-show=\"Show solution\" data-jupman-hide=\"Hide\">Show solution</a><div class=\"jupman-sol jupman-sol-code\" style=\"display:none\">  "
   ]
  },
  {
   "cell_type": "code",
   "execution_count": 48,
   "metadata": {},
   "outputs": [
    {
     "name": "stdout",
     "output_type": "stream",
     "text": [
      "[['g', 'a', 'r', 'a'], ['ga'], ['ga'], ['r', 'a', 'g', 'a']]\n"
     ]
    },
    {
     "data": {
      "text/html": [
       "\n",
       "        <script src=\"../_static/js/pytutor-embed.bundle.min.js\" type=\"application/javascript\"></script>\n",
       "     \n",
       "        <script id=\"json-jma07fec0e-9a89-489f-878a-b7e944d6be95\" type=\"application/json\" >\n",
       "            {\"trace\": [{\"globals\": {}, \"ordered_globals\": [], \"event\": \"step_line\", \"heap\": {}, \"stdout\": \"\", \"stack_to_render\": [], \"line\": 4, \"func_name\": \"<module>\"}, {\"globals\": {\"sa\": \"ga\"}, \"ordered_globals\": [\"sa\"], \"event\": \"step_line\", \"heap\": {}, \"stdout\": \"\", \"stack_to_render\": [], \"line\": 5, \"func_name\": \"<module>\"}, {\"globals\": {\"sb\": \"ra\", \"sa\": \"ga\"}, \"ordered_globals\": [\"sa\", \"sb\"], \"event\": \"step_line\", \"heap\": {}, \"stdout\": \"\", \"stack_to_render\": [], \"line\": 6, \"func_name\": \"<module>\"}, {\"globals\": {\"sb\": \"ra\", \"sa\": \"ga\", \"la\": [\"REF\", 1]}, \"ordered_globals\": [\"sa\", \"sb\", \"la\"], \"event\": \"step_line\", \"heap\": {\"1\": [\"LIST\", \"ga\"]}, \"stdout\": \"\", \"stack_to_render\": [], \"line\": 7, \"func_name\": \"<module>\"}, {\"globals\": {\"sb\": \"ra\", \"lb\": [\"REF\", 2], \"sa\": \"ga\", \"la\": [\"REF\", 1]}, \"ordered_globals\": [\"sa\", \"sb\", \"la\", \"lb\"], \"event\": \"step_line\", \"heap\": {\"1\": [\"LIST\", \"ga\"], \"2\": [\"LIST\", \"ga\"]}, \"stdout\": \"\", \"stack_to_render\": [], \"line\": 8, \"func_name\": \"<module>\"}, {\"globals\": {\"sb\": \"ra\", \"lb\": [\"REF\", 2], \"la\": [\"REF\", 1], \"sa\": \"ga\", \"lc\": [\"REF\", 3]}, \"ordered_globals\": [\"sa\", \"sb\", \"la\", \"lb\", \"lc\"], \"event\": \"step_line\", \"heap\": {\"1\": [\"LIST\", \"ga\"], \"2\": [\"LIST\", \"ga\"], \"3\": [\"LIST\", [\"REF\", 4], [\"REF\", 5], [\"REF\", 6], [\"REF\", 7]], \"4\": [\"LIST\", \"g\", \"a\", \"r\", \"a\"], \"5\": [\"LIST\", \"ga\"], \"6\": [\"LIST\", \"ga\"], \"7\": [\"LIST\", \"r\", \"a\", \"g\", \"a\"]}, \"stdout\": \"\", \"stack_to_render\": [], \"line\": 10, \"func_name\": \"<module>\"}, {\"globals\": {\"lc\": [\"REF\", 3], \"lb\": [\"REF\", 2], \"la\": [\"REF\", 1], \"sa\": \"ga\", \"sb\": \"ra\"}, \"ordered_globals\": [\"sa\", \"sb\", \"la\", \"lb\", \"lc\"], \"event\": \"return\", \"heap\": {\"1\": [\"LIST\", \"ga\"], \"2\": [\"LIST\", \"ga\"], \"3\": [\"LIST\", [\"REF\", 4], [\"REF\", 5], [\"REF\", 6], [\"REF\", 7]], \"4\": [\"LIST\", \"g\", \"a\", \"r\", \"a\"], \"5\": [\"LIST\", \"ga\"], \"6\": [\"LIST\", \"ga\"], \"7\": [\"LIST\", \"r\", \"a\", \"g\", \"a\"]}, \"stdout\": \"[['g', 'a', 'r', 'a'], ['ga'], ['ga'], ['r', 'a', 'g', 'a']]\\n\", \"stack_to_render\": [], \"line\": 10, \"func_name\": \"<module>\"}], \"code\": \" \\n# SOLUTION\\n\\nsa = \\\"ga\\\"\\nsb = \\\"ra\\\"\\nla = ['ga']\\nlb = list(la)\\nlc = [list(sa + sb), list(la), list(lb), list(sb + sa) ]\\n\\nprint(lc)\"}\n",
       "        </script>\n",
       "        <div id=\"jma07fec0e-9a89-489f-878a-b7e944d6be95\" class=\"pytutorVisualizer\"> </div>\n",
       " \n",
       "        <style>\n",
       "        .vizLayoutTd {\n",
       "            background-color: #fff !important;\n",
       "        }\n",
       "\n",
       "        #pyStdout {            \n",
       "            min-height:25px;\n",
       "        }\n",
       "\n",
       "        /* 'Edit this code' link, hiding because replaces browser tab !!!*/\n",
       "        #editCodeLinkDiv {\n",
       "            display:none;  \n",
       "        }\n",
       "        </style>   \n",
       "                            \n",
       "        <script>\n",
       "        (function(){\n",
       "\n",
       "            var trace = JSON.parse(document.getElementById('json-jma07fec0e-9a89-489f-878a-b7e944d6be95').innerHTML);                                        \n",
       "            // NOTE 1: id without #\n",
       "            // NOTE 2 - maybe there are more predictable ways, but this will work anyway\n",
       "            //        - id should be number\n",
       "            visualizerIdOverride = Math.trunc(Math.random() * 100000000000)\n",
       "            addVisualizerToPage(trace, 'jma07fec0e-9a89-489f-878a-b7e944d6be95',{'embeddedMode' : false,\n",
       "                                             'visualizerIdOverride':visualizerIdOverride})  \n",
       "            \n",
       "            \n",
       "            // set overflow for pytuts - need to do in python as css \n",
       "            // does not allow parent selection\n",
       "            var pytuts = $('.pytutorVisualizer')\n",
       "            pytuts.closest('div.output_html.rendered_html.output_result')\n",
       "                    .css('overflow-x', 'visible')\n",
       "        \n",
       "            //pytuts.closest('div.output_html.rendered_html.output_result')\n",
       "            //      .css('background-color','red')                \n",
       "            \n",
       "        })()\n",
       "        </script>\n",
       "                \n",
       "                "
      ],
      "text/plain": [
       "<IPython.core.display.HTML object>"
      ]
     },
     "execution_count": 48,
     "metadata": {},
     "output_type": "execute_result"
    }
   ],
   "source": [
    "# SOLUTION\n",
    "\n",
    "sa = \"ga\"\n",
    "sb = \"ra\"\n",
    "la = ['ga']\n",
    "lb = list(la)\n",
    "lc = [list(sa + sb), list(la), list(lb), list(sb + sa) ]\n",
    "\n",
    "print(lc)\n",
    "jupman.pytut()"
   ]
  },
  {
   "cell_type": "raw",
   "id": "perceived-religious",
   "metadata": {
    "format": "text/html"
   },
   "source": [
    "</div>"
   ]
  },
  {
   "cell_type": "code",
   "execution_count": 48,
   "metadata": {},
   "outputs": [
    {
     "name": "stdout",
     "output_type": "stream",
     "text": [
      "[['g', 'a', 'r', 'a'], ['ga'], ['ga'], ['r', 'a', 'g', 'a']]\n"
     ]
    },
    {
     "data": {
      "text/html": [
       "\n",
       "        <script src=\"../_static/js/pytutor-embed.bundle.min.js\" type=\"application/javascript\"></script>\n",
       "     \n",
       "        <script id=\"json-jma07fec0e-9a89-489f-878a-b7e944d6be95\" type=\"application/json\" >\n",
       "            {\"trace\": [{\"globals\": {}, \"ordered_globals\": [], \"event\": \"step_line\", \"heap\": {}, \"stdout\": \"\", \"stack_to_render\": [], \"line\": 4, \"func_name\": \"<module>\"}, {\"globals\": {\"sa\": \"ga\"}, \"ordered_globals\": [\"sa\"], \"event\": \"step_line\", \"heap\": {}, \"stdout\": \"\", \"stack_to_render\": [], \"line\": 5, \"func_name\": \"<module>\"}, {\"globals\": {\"sb\": \"ra\", \"sa\": \"ga\"}, \"ordered_globals\": [\"sa\", \"sb\"], \"event\": \"step_line\", \"heap\": {}, \"stdout\": \"\", \"stack_to_render\": [], \"line\": 6, \"func_name\": \"<module>\"}, {\"globals\": {\"sb\": \"ra\", \"sa\": \"ga\", \"la\": [\"REF\", 1]}, \"ordered_globals\": [\"sa\", \"sb\", \"la\"], \"event\": \"step_line\", \"heap\": {\"1\": [\"LIST\", \"ga\"]}, \"stdout\": \"\", \"stack_to_render\": [], \"line\": 7, \"func_name\": \"<module>\"}, {\"globals\": {\"sb\": \"ra\", \"lb\": [\"REF\", 2], \"sa\": \"ga\", \"la\": [\"REF\", 1]}, \"ordered_globals\": [\"sa\", \"sb\", \"la\", \"lb\"], \"event\": \"step_line\", \"heap\": {\"1\": [\"LIST\", \"ga\"], \"2\": [\"LIST\", \"ga\"]}, \"stdout\": \"\", \"stack_to_render\": [], \"line\": 8, \"func_name\": \"<module>\"}, {\"globals\": {\"sb\": \"ra\", \"lb\": [\"REF\", 2], \"la\": [\"REF\", 1], \"sa\": \"ga\", \"lc\": [\"REF\", 3]}, \"ordered_globals\": [\"sa\", \"sb\", \"la\", \"lb\", \"lc\"], \"event\": \"step_line\", \"heap\": {\"1\": [\"LIST\", \"ga\"], \"2\": [\"LIST\", \"ga\"], \"3\": [\"LIST\", [\"REF\", 4], [\"REF\", 5], [\"REF\", 6], [\"REF\", 7]], \"4\": [\"LIST\", \"g\", \"a\", \"r\", \"a\"], \"5\": [\"LIST\", \"ga\"], \"6\": [\"LIST\", \"ga\"], \"7\": [\"LIST\", \"r\", \"a\", \"g\", \"a\"]}, \"stdout\": \"\", \"stack_to_render\": [], \"line\": 10, \"func_name\": \"<module>\"}, {\"globals\": {\"lc\": [\"REF\", 3], \"lb\": [\"REF\", 2], \"la\": [\"REF\", 1], \"sa\": \"ga\", \"sb\": \"ra\"}, \"ordered_globals\": [\"sa\", \"sb\", \"la\", \"lb\", \"lc\"], \"event\": \"return\", \"heap\": {\"1\": [\"LIST\", \"ga\"], \"2\": [\"LIST\", \"ga\"], \"3\": [\"LIST\", [\"REF\", 4], [\"REF\", 5], [\"REF\", 6], [\"REF\", 7]], \"4\": [\"LIST\", \"g\", \"a\", \"r\", \"a\"], \"5\": [\"LIST\", \"ga\"], \"6\": [\"LIST\", \"ga\"], \"7\": [\"LIST\", \"r\", \"a\", \"g\", \"a\"]}, \"stdout\": \"[['g', 'a', 'r', 'a'], ['ga'], ['ga'], ['r', 'a', 'g', 'a']]\\n\", \"stack_to_render\": [], \"line\": 10, \"func_name\": \"<module>\"}], \"code\": \" \\n# SOLUTION\\n\\nsa = \\\"ga\\\"\\nsb = \\\"ra\\\"\\nla = ['ga']\\nlb = list(la)\\nlc = [list(sa + sb), list(la), list(lb), list(sb + sa) ]\\n\\nprint(lc)\"}\n",
       "        </script>\n",
       "        <div id=\"jma07fec0e-9a89-489f-878a-b7e944d6be95\" class=\"pytutorVisualizer\"> </div>\n",
       " \n",
       "        <style>\n",
       "        .vizLayoutTd {\n",
       "            background-color: #fff !important;\n",
       "        }\n",
       "\n",
       "        #pyStdout {            \n",
       "            min-height:25px;\n",
       "        }\n",
       "\n",
       "        /* 'Edit this code' link, hiding because replaces browser tab !!!*/\n",
       "        #editCodeLinkDiv {\n",
       "            display:none;  \n",
       "        }\n",
       "        </style>   \n",
       "                            \n",
       "        <script>\n",
       "        (function(){\n",
       "\n",
       "            var trace = JSON.parse(document.getElementById('json-jma07fec0e-9a89-489f-878a-b7e944d6be95').innerHTML);                                        \n",
       "            // NOTE 1: id without #\n",
       "            // NOTE 2 - maybe there are more predictable ways, but this will work anyway\n",
       "            //        - id should be number\n",
       "            visualizerIdOverride = Math.trunc(Math.random() * 100000000000)\n",
       "            addVisualizerToPage(trace, 'jma07fec0e-9a89-489f-878a-b7e944d6be95',{'embeddedMode' : false,\n",
       "                                             'visualizerIdOverride':visualizerIdOverride})  \n",
       "            \n",
       "            \n",
       "            // set overflow for pytuts - need to do in python as css \n",
       "            // does not allow parent selection\n",
       "            var pytuts = $('.pytutorVisualizer')\n",
       "            pytuts.closest('div.output_html.rendered_html.output_result')\n",
       "                    .css('overflow-x', 'visible')\n",
       "        \n",
       "            //pytuts.closest('div.output_html.rendered_html.output_result')\n",
       "            //      .css('background-color','red')                \n",
       "            \n",
       "        })()\n",
       "        </script>\n",
       "                \n",
       "                "
      ],
      "text/plain": [
       "<IPython.core.display.HTML object>"
      ]
     },
     "execution_count": 48,
     "metadata": {},
     "output_type": "execute_result"
    }
   ],
   "source": []
  },
  {
   "cell_type": "markdown",
   "metadata": {},
   "source": [
    "## References\n",
    "\n",
    "- [Think Python, Chapter 10, Lists](http://greenteapress.com/thinkpython2/html/thinkpython2011.html) Exercises 10.1, 10.2, 10.3, 10.4, 10.5, 10.6, 10.7\n"
   ]
  },
  {
   "cell_type": "markdown",
   "metadata": {},
   "source": [
    "## Continue\n",
    "\n",
    "Go on reading notebook [Lists 2 - operators](https://en.softpython.org/lists/lists2-sol.html)"
   ]
  },
  {
   "cell_type": "code",
   "execution_count": null,
   "metadata": {},
   "outputs": [],
   "source": []
  }
 ],
 "metadata": {
  "celltoolbar": "Edit Metadata",
  "kernelspec": {
   "display_name": "Python 3",
   "language": "python",
   "name": "python3"
  },
  "language_info": {
   "codemirror_mode": {
    "name": "ipython",
    "version": 3
   },
   "file_extension": ".py",
   "mimetype": "text/x-python",
   "name": "python",
   "nbconvert_exporter": "python",
   "pygments_lexer": "ipython3",
   "version": "3.5.2"
  },
  "toc": {
   "base_numbering": 1,
   "nav_menu": {},
   "number_sections": false,
   "sideBar": true,
   "skip_h1_title": false,
   "title_cell": "Table of Contents",
   "title_sidebar": "Contents",
   "toc_cell": false,
   "toc_position": {
    "height": "calc(100% - 180px)",
    "left": "10px",
    "top": "150px",
    "width": "280px"
   },
   "toc_section_display": true,
   "toc_window_display": true
  }
 },
 "nbformat": 4,
 "nbformat_minor": 2
}
