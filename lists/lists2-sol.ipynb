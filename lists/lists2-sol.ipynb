{
 "cells": [
  {
   "cell_type": "code",
   "execution_count": 1,
   "metadata": {
    "nbsphinx": "hidden"
   },
   "outputs": [],
   "source": [
    "# Remember to execute this cell with Shift+Enter\n",
    "\n",
    "import jupman"
   ]
  },
  {
   "cell_type": "markdown",
   "metadata": {},
   "source": [
    "# Lists 2 - operators\n",
    "\n",
    "## [Download exercises zip](../_static/generated/lists.zip)\n",
    "\n",
    "[Browse online files](https://github.com/DavidLeoni/softpython-en/tree/master/lists)\n",
    "\n",
    "There are several operators to manipulate lists. The following ones behave like the ones we've seen in strings:\n",
    "\n",
    "|Operator|Syntax|Result|Meaning|\n",
    "|--------|------|------|-------|\n",
    "|[length](#Length-of-a-list)|`len`(lst)|`int`|Return the list length|\n",
    "|[index](#Reading-an-element)|list`[`int`]`|obj|Reads/writes an element at the specified index|\n",
    "|[slice](#Slices)|list`[`int`:`int`]`|`list`| Extracts a sublist - return a NEW list|\n",
    "|[membership](#Membership)|obj `in` list|`bool`|Cheks if an object is contained in the list|\n",
    "|[concatenation](#List-concatenation-with-+)|list `+` list|`list`|Concatenates two lists - return a NEW list|\n",
    "|[maximum](#min-and-max)|`max`(lst)|`int`|Given a list of numbers, return the greatest one|\n",
    "|[minimum](#min-and-max)|`min`(lst)|`int`|Given a list of numbers, returns the smallest one|\n",
    "|[sum](#sum)|`sum`(lst)|`int`|Given a list of numbers, sums all of them|\n",
    "|[replication](#List-replication)|list `*` int|`list`| Replicates the list - return a NEW list|\n",
    "|[equality](#Equality)|`==`,`!=`|`bool`| Cheks whether lists are equal of different|"
   ]
  },
  {
   "cell_type": "markdown",
   "metadata": {},
   "source": [
    "## What to do\n",
    "\n",
    "1. Unzip [exercises zip](../_static/generated/lists.zip) in a folder, you should obtain something like this:\n",
    "\n",
    "```\n",
    "lists\n",
    "    lists1.ipynb    \n",
    "    lists1-sol.ipynb         \n",
    "    lists2.ipynb\n",
    "    lists2-sol.ipynb\n",
    "    lists3.ipynb\n",
    "    lists3-sol.ipynb    \n",
    "    lists4.ipynb\n",
    "    lists4-sol.ipynb    \n",
    "    lists5-chal.ipynb\n",
    "    jupman.py         \n",
    "```\n",
    "\n",
    "<div class=\"alert alert-warning\">\n",
    "\n",
    "**WARNING: to correctly visualize the notebook, it MUST be in an unzipped folder !**\n",
    "</div>"
   ]
  },
  {
   "cell_type": "markdown",
   "metadata": {},
   "source": [
    "2. open Jupyter Notebook from that folder. Two things should open, first a console and then a browser. The browser should show a file list: navigate the list and open the notebook `lists2.ipynb`\n",
    "\n",
    "3. Go on reading the exercises file, sometimes you will find paragraphs marked **Exercises** which will ask to write Python commands in the following cells. "
   ]
  },
  {
   "cell_type": "markdown",
   "metadata": {},
   "source": [
    "Shortcut keys:\n",
    "\n",
    "- to execute Python code inside a Jupyter cell, press `Control + Enter`\n",
    "\n",
    "- to execute Python code inside a Jupyter cell AND select next cell, press `Shift + Enter`\n",
    "\n",
    "- to execute Python code inside a Jupyter cell AND a create a new cell aftwerwards, press `Alt + Enter`\n",
    "\n",
    "- If the notebooks look stuck, try to select `Kernel -> Restart`"
   ]
  },
  {
   "cell_type": "markdown",
   "metadata": {},
   "source": [
    "## Length of a list\n",
    "\n",
    "A list is a sequence, and like any sequence you can use the function `len` to obtain the length:"
   ]
  },
  {
   "cell_type": "code",
   "execution_count": 2,
   "metadata": {},
   "outputs": [],
   "source": [
    "a = [7,5,8]"
   ]
  },
  {
   "cell_type": "code",
   "execution_count": 3,
   "metadata": {},
   "outputs": [
    {
     "data": {
      "text/plain": [
       "3"
      ]
     },
     "execution_count": 3,
     "metadata": {},
     "output_type": "execute_result"
    }
   ],
   "source": [
    "len(a)"
   ]
  },
  {
   "cell_type": "code",
   "execution_count": 4,
   "metadata": {},
   "outputs": [],
   "source": [
    "b = [8,3,6,4,7]"
   ]
  },
  {
   "cell_type": "code",
   "execution_count": 5,
   "metadata": {},
   "outputs": [
    {
     "data": {
      "text/plain": [
       "5"
      ]
     },
     "execution_count": 5,
     "metadata": {},
     "output_type": "execute_result"
    }
   ],
   "source": [
    "len(b)"
   ]
  },
  {
   "cell_type": "markdown",
   "metadata": {},
   "source": [
    "If a list contains other lists, they count as single elements:"
   ]
  },
  {
   "cell_type": "code",
   "execution_count": 6,
   "metadata": {},
   "outputs": [],
   "source": [
    "mixed = [ \n",
    "            [4,5,1],\n",
    "            [8,6],\n",
    "            [7,6,0,8],\n",
    "        ]"
   ]
  },
  {
   "cell_type": "code",
   "execution_count": 7,
   "metadata": {},
   "outputs": [
    {
     "data": {
      "text/plain": [
       "3"
      ]
     },
     "execution_count": 7,
     "metadata": {},
     "output_type": "execute_result"
    }
   ],
   "source": [
    "len(mixed)"
   ]
  },
  {
   "cell_type": "markdown",
   "metadata": {},
   "source": [
    "<div class=\"alert alert-warning\">\n",
    "\n",
    "**WARNING: YOU CAN'T use** `len` **as a method**\n",
    "    \n",
    "`[3,4,2].len()  # WRONG`\n",
    "\n",
    "</div>"
   ]
  },
  {
   "cell_type": "markdown",
   "metadata": {},
   "source": [
    "**EXERCISE**: Try writing `[3,4,2].len()` here, which error appears?"
   ]
  },
  {
   "cell_type": "raw",
   "id": "879be7ec",
   "metadata": {
    "format": "text/html"
   },
   "source": [
    "<a  class=\"jupman-sol jupman-sol-toggler\" \n",
    " onclick=\"jupman.toggleSolution(this);\" \n",
    " data-jupman-show=\"Show solution\" data-jupman-hide=\"Hide\">Show solution</a><div class=\"jupman-sol jupman-sol-code\" style=\"display:none\">  "
   ]
  },
  {
   "cell_type": "code",
   "execution_count": 8,
   "metadata": {},
   "outputs": [],
   "source": [
    "# write here\n",
    "\n",
    "#[3,4,2].len()"
   ]
  },
  {
   "cell_type": "raw",
   "id": "2af1aeb6",
   "metadata": {
    "format": "text/html"
   },
   "source": [
    "</div>"
   ]
  },
  {
   "cell_type": "code",
   "execution_count": 8,
   "metadata": {},
   "outputs": [],
   "source": [
    "# write here\n",
    "\n"
   ]
  },
  {
   "cell_type": "markdown",
   "metadata": {},
   "source": [
    "**EXERCISE**: Try writing `[3,4,2].len` WITHOUT the round parenthesis at the end, which error appears?"
   ]
  },
  {
   "cell_type": "raw",
   "id": "1eee00b6",
   "metadata": {
    "format": "text/html"
   },
   "source": [
    "<a  class=\"jupman-sol jupman-sol-toggler\" \n",
    " onclick=\"jupman.toggleSolution(this);\" \n",
    " data-jupman-show=\"Show solution\" data-jupman-hide=\"Hide\">Show solution</a><div class=\"jupman-sol jupman-sol-code\" style=\"display:none\">  "
   ]
  },
  {
   "cell_type": "code",
   "execution_count": 9,
   "metadata": {},
   "outputs": [],
   "source": [
    "# write here\n",
    "\n",
    "#[3,4,2].len"
   ]
  },
  {
   "cell_type": "raw",
   "id": "ee891f9b",
   "metadata": {
    "format": "text/html"
   },
   "source": [
    "</div>"
   ]
  },
  {
   "cell_type": "code",
   "execution_count": 9,
   "metadata": {},
   "outputs": [],
   "source": [
    "# write here\n",
    "\n"
   ]
  },
  {
   "cell_type": "markdown",
   "metadata": {},
   "source": [
    "**QUESTION**: If `x` is some list, by writing:\n",
    "\n",
    "`len(len(x))`\n",
    "\n",
    "what do we get?\n",
    "\n",
    "1. the length of the list\n",
    "2. an error\n",
    "3. something else"
   ]
  },
  {
   "cell_type": "raw",
   "id": "8d8f19f5",
   "metadata": {
    "format": "text/html"
   },
   "source": [
    "<a  class=\"jupman-sol jupman-sol-toggler\" \n",
    " onclick=\"jupman.toggleSolution(this);\" \n",
    " data-jupman-show=\"Show answer\" data-jupman-hide=\"Hide\">Show answer</a><div class=\"jupman-sol jupman-sol-question\" style=\"display:none\">  "
   ]
  },
  {
   "cell_type": "markdown",
   "metadata": {},
   "source": [
    "**ANSWER**: 2: `len` wants a _sequence_ as argument and gives back a _number,_ so the internal call to `len(x)` produces a number which is given to the external `len` and at that point Python will complain it received a number instead of a sequence. Verify which error appears by writing `len(len(x))` down here."
   ]
  },
  {
   "cell_type": "raw",
   "id": "33f8c00c",
   "metadata": {
    "format": "text/html"
   },
   "source": [
    "</div>"
   ]
  },
  {
   "cell_type": "code",
   "execution_count": 10,
   "metadata": {},
   "outputs": [],
   "source": [
    "# write code here\n"
   ]
  },
  {
   "cell_type": "markdown",
   "metadata": {},
   "source": [
    "**QUESTION**: Look at this expression, without executing it. What does it produce?\n",
    "\n",
    "```python\n",
    "[len([]), len([len(['a','b'])])]\n",
    "```\n",
    "\n",
    "1. an error (which one?)\n",
    "2. a number (which one?)\n",
    "3. a list (which one?)\n",
    "\n",
    "Try writing the result by hand, and then compare it with the one obtained by executing the code in a cell."
   ]
  },
  {
   "cell_type": "raw",
   "id": "a1816d2f",
   "metadata": {
    "format": "text/html"
   },
   "source": [
    "<a  class=\"jupman-sol jupman-sol-toggler\" \n",
    " onclick=\"jupman.toggleSolution(this);\" \n",
    " data-jupman-show=\"Show answer\" data-jupman-hide=\"Hide\">Show answer</a><div class=\"jupman-sol jupman-sol-question\" style=\"display:none\">  "
   ]
  },
  {
   "cell_type": "markdown",
   "metadata": {},
   "source": [
    "**ANSWER**: 3: the list `[0, 1]`"
   ]
  },
  {
   "cell_type": "raw",
   "id": "bbe1c2b8",
   "metadata": {
    "format": "text/html"
   },
   "source": [
    "</div>"
   ]
  },
  {
   "cell_type": "markdown",
   "metadata": {},
   "source": [
    "**QUESTION**: Look at this expression, without executing it. What does it produce? \n",
    "\n",
    "```python\n",
    "len([[[],[]],[],[[[]]],[[],[]]])\n",
    "```\n",
    "\n",
    "1. an error (which one?)\n",
    "2. a number (which one?)\n",
    "3. a list (which one?)"
   ]
  },
  {
   "cell_type": "raw",
   "id": "0b78ab3e",
   "metadata": {
    "format": "text/html"
   },
   "source": [
    "<a  class=\"jupman-sol jupman-sol-toggler\" \n",
    " onclick=\"jupman.toggleSolution(this);\" \n",
    " data-jupman-show=\"Show answer\" data-jupman-hide=\"Hide\">Show answer</a><div class=\"jupman-sol jupman-sol-question\" style=\"display:none\">  "
   ]
  },
  {
   "cell_type": "markdown",
   "metadata": {},
   "source": [
    "**ANSWER**: 2. produces the number `4`"
   ]
  },
  {
   "cell_type": "raw",
   "id": "6eea80e1",
   "metadata": {
    "format": "text/html"
   },
   "source": [
    "</div>"
   ]
  },
  {
   "cell_type": "markdown",
   "metadata": {},
   "source": [
    "**QUESTION**: What does the following expression produce?\n",
    "\n",
    "```python\n",
    "[[((len('ababb')))],len([\"argg\",('b'),(\"c\")]), len([len(\"bc\")])]\n",
    "```"
   ]
  },
  {
   "cell_type": "raw",
   "id": "fbbefcfb",
   "metadata": {
    "format": "text/html"
   },
   "source": [
    "<a  class=\"jupman-sol jupman-sol-toggler\" \n",
    " onclick=\"jupman.toggleSolution(this);\" \n",
    " data-jupman-show=\"Show answer\" data-jupman-hide=\"Hide\">Show answer</a><div class=\"jupman-sol jupman-sol-question\" style=\"display:none\">  "
   ]
  },
  {
   "cell_type": "markdown",
   "metadata": {},
   "source": [
    "**ANSWER**: `[[5], 3, 1]`"
   ]
  },
  {
   "cell_type": "raw",
   "id": "fd4e41cc",
   "metadata": {
    "format": "text/html"
   },
   "source": [
    "</div>"
   ]
  },
  {
   "cell_type": "markdown",
   "metadata": {},
   "source": [
    "## Reading an element\n",
    "\n",
    "Like for strings, we can access an element a list element by putting the index of the position we want to access among square brackets:"
   ]
  },
  {
   "cell_type": "code",
   "execution_count": 11,
   "metadata": {},
   "outputs": [],
   "source": [
    "    # 0   1   2   3   \n",
    "la = [70, 60, 90, 50]"
   ]
  },
  {
   "cell_type": "markdown",
   "metadata": {},
   "source": [
    "<div class=\"alert alert-warning\">\n",
    "\n",
    "**As for any sequence, the positions start from** `0`:\n",
    "</div>"
   ]
  },
  {
   "cell_type": "code",
   "execution_count": 12,
   "metadata": {},
   "outputs": [
    {
     "data": {
      "text/plain": [
       "70"
      ]
     },
     "execution_count": 12,
     "metadata": {},
     "output_type": "execute_result"
    }
   ],
   "source": [
    "la[0]"
   ]
  },
  {
   "cell_type": "code",
   "execution_count": 13,
   "metadata": {},
   "outputs": [
    {
     "data": {
      "text/plain": [
       "60"
      ]
     },
     "execution_count": 13,
     "metadata": {},
     "output_type": "execute_result"
    }
   ],
   "source": [
    "la[1]"
   ]
  },
  {
   "cell_type": "code",
   "execution_count": 14,
   "metadata": {},
   "outputs": [
    {
     "data": {
      "text/plain": [
       "90"
      ]
     },
     "execution_count": 14,
     "metadata": {},
     "output_type": "execute_result"
    }
   ],
   "source": [
    "la[2]"
   ]
  },
  {
   "cell_type": "code",
   "execution_count": 15,
   "metadata": {},
   "outputs": [
    {
     "data": {
      "text/plain": [
       "50"
      ]
     },
     "execution_count": 15,
     "metadata": {},
     "output_type": "execute_result"
    }
   ],
   "source": [
    "la[3]"
   ]
  },
  {
   "cell_type": "markdown",
   "metadata": {},
   "source": [
    "Like for any string, if we exaggerate with the index we get an error:"
   ]
  },
  {
   "cell_type": "markdown",
   "metadata": {},
   "source": [
    "```python\n",
    "\n",
    "la[4]\n",
    "\n",
    "---------------------------------------------------------------------------\n",
    "IndexError                                Traceback (most recent call last)\n",
    "<ipython-input-134-09bfed834fa2> in <module>\n",
    "----> 1 la[4]\n",
    "\n",
    "IndexError: list index out of range\n",
    "```"
   ]
  },
  {
   "cell_type": "markdown",
   "metadata": {},
   "source": [
    "As in strings, we can obtain last element by using a negative index:"
   ]
  },
  {
   "cell_type": "code",
   "execution_count": 16,
   "metadata": {},
   "outputs": [],
   "source": [
    "    # 0   1   2   3   \n",
    "la = [70, 60, 90, 50]"
   ]
  },
  {
   "cell_type": "code",
   "execution_count": 17,
   "metadata": {},
   "outputs": [
    {
     "data": {
      "text/plain": [
       "50"
      ]
     },
     "execution_count": 17,
     "metadata": {},
     "output_type": "execute_result"
    }
   ],
   "source": [
    "la[-1]"
   ]
  },
  {
   "cell_type": "code",
   "execution_count": 18,
   "metadata": {},
   "outputs": [
    {
     "data": {
      "text/plain": [
       "90"
      ]
     },
     "execution_count": 18,
     "metadata": {},
     "output_type": "execute_result"
    }
   ],
   "source": [
    "la[-2]"
   ]
  },
  {
   "cell_type": "code",
   "execution_count": 19,
   "metadata": {},
   "outputs": [
    {
     "data": {
      "text/plain": [
       "60"
      ]
     },
     "execution_count": 19,
     "metadata": {},
     "output_type": "execute_result"
    }
   ],
   "source": [
    "la[-3]"
   ]
  },
  {
   "cell_type": "code",
   "execution_count": 20,
   "metadata": {},
   "outputs": [
    {
     "data": {
      "text/plain": [
       "70"
      ]
     },
     "execution_count": 20,
     "metadata": {},
     "output_type": "execute_result"
    }
   ],
   "source": [
    "la[-4]"
   ]
  },
  {
   "cell_type": "markdown",
   "metadata": {},
   "source": [
    "If we go beyond the list length, we get an error:"
   ]
  },
  {
   "cell_type": "markdown",
   "metadata": {},
   "source": [
    "```python\n",
    "la[-5]\n",
    "\n",
    "---------------------------------------------------------------------------\n",
    "IndexError                                Traceback (most recent call last)\n",
    "<ipython-input-169-f77280923dce> in <module>\n",
    "----> 1 la[-5]\n",
    "\n",
    "IndexError: list index out of range\n",
    "\n",
    "```"
   ]
  },
  {
   "cell_type": "markdown",
   "metadata": {},
   "source": [
    "**QUESTION**: if `x` is some list, by writing:\n",
    "\n",
    "```python\n",
    "x[0]\n",
    "```\n",
    "\n",
    "what do we get?\n",
    "\n",
    "1. the first element of the list\n",
    "2. always an error\n",
    "3. sometimes an element, sometimes an error according to the list"
   ]
  },
  {
   "cell_type": "raw",
   "id": "8285fc1a",
   "metadata": {
    "format": "text/html"
   },
   "source": [
    "<a  class=\"jupman-sol jupman-sol-toggler\" \n",
    " onclick=\"jupman.toggleSolution(this);\" \n",
    " data-jupman-show=\"Show answer\" data-jupman-hide=\"Hide\">Show answer</a><div class=\"jupman-sol jupman-sol-question\" style=\"display:none\">  "
   ]
  },
  {
   "cell_type": "markdown",
   "metadata": {},
   "source": [
    "**ANSWER**: 3: if the list is empty Python will not find the element and will give us an error. Which one? Try writing in the cell down here `[][0]` and see what happens."
   ]
  },
  {
   "cell_type": "raw",
   "id": "f9a1bc8c",
   "metadata": {
    "format": "text/html"
   },
   "source": [
    "</div>"
   ]
  },
  {
   "cell_type": "code",
   "execution_count": 21,
   "metadata": {},
   "outputs": [],
   "source": [
    "# write code here\n"
   ]
  },
  {
   "cell_type": "markdown",
   "metadata": {},
   "source": [
    "**QUESTION**: if `x` is some list, by writing:\n",
    "\n",
    "```python\n",
    "x[len(x)]\n",
    "```\n",
    "\n",
    "what do we get?\n",
    "\n",
    "1. an element of the list\n",
    "2. always an error\n",
    "3. sometimes an element, sometimes an error according to the list"
   ]
  },
  {
   "cell_type": "raw",
   "id": "1745a7c5",
   "metadata": {
    "format": "text/html"
   },
   "source": [
    "<a  class=\"jupman-sol jupman-sol-toggler\" \n",
    " onclick=\"jupman.toggleSolution(this);\" \n",
    " data-jupman-show=\"Show answer\" data-jupman-hide=\"Hide\">Show answer</a><div class=\"jupman-sol jupman-sol-question\" style=\"display:none\">  "
   ]
  },
  {
   "cell_type": "markdown",
   "metadata": {},
   "source": [
    "**ANSWER**: 2. always an error: `len(x)` will always be a number equal to the last available index  + 1"
   ]
  },
  {
   "cell_type": "raw",
   "id": "10303bb2",
   "metadata": {
    "format": "text/html"
   },
   "source": [
    "</div>"
   ]
  },
  {
   "cell_type": "markdown",
   "metadata": {},
   "source": [
    "### Exercise - Gutenberg apprentice\n",
    "\n",
    "Such honor! So young and you have been hired as master Gutenberg apprentice! Your job is to compose the pages with the characters made with iron blocks, so your collaborators can then send everything to the printing press.  \n",
    "\n",
    "You have a `chars` list in which the original blocks are saved. Can you print the writing `Gutenberg`?\n",
    "\n",
    "* **DO NOT** write characters nor additional strings (so no `'g'` nor `'G'`!)\n",
    "* every character **MAY** be reused more than once"
   ]
  },
  {
   "cell_type": "raw",
   "id": "57166db2",
   "metadata": {
    "format": "text/html"
   },
   "source": [
    "<a  class=\"jupman-sol jupman-sol-toggler\" \n",
    " onclick=\"jupman.toggleSolution(this);\" \n",
    " data-jupman-show=\"Show solution\" data-jupman-hide=\"Hide\">Show solution</a><div class=\"jupman-sol jupman-sol-code\" style=\"display:none\">  "
   ]
  },
  {
   "cell_type": "code",
   "execution_count": 22,
   "metadata": {},
   "outputs": [
    {
     "name": "stdout",
     "output_type": "stream",
     "text": [
      "G u t e n b e r g\n",
      "Gutenberg\n",
      "Gutenberg\n"
     ]
    }
   ],
   "source": [
    "\n",
    "chars = ['b', 'e', 'g', 'n', 'r', 't', 'u']   # Gutenberg\n",
    "#chars = ['a', 'm', 's', 'p', 'o', 'a', 't']  # Stampamos\n",
    "    \n",
    "l = chars      # Let's create a new handy variable\n",
    "\n",
    "# write here\n",
    "# SOLUTION 1: not optimal\n",
    "print(l[2].upper(), l[6], l[5], l[1], l[3], l[0], l[1],  l[4], l[2])\n",
    "# SOLUTION 2\n",
    "print(f\"{l[2].upper()}{l[6]}{l[5]}{l[1]}{l[3]}{l[0]}{l[1]}{l[4]}{l[2]}\")\n",
    "# SOLUTION 3\n",
    "print(\"%s%s%s%s%s%s%s%s%s\" % (l[2].upper(), l[6], l[5], l[1], l[3], l[0], l[1], l[4], l[2]))"
   ]
  },
  {
   "cell_type": "raw",
   "id": "b376abfa",
   "metadata": {
    "format": "text/html"
   },
   "source": [
    "</div>"
   ]
  },
  {
   "cell_type": "code",
   "execution_count": 22,
   "metadata": {},
   "outputs": [],
   "source": [
    "\n",
    "chars = ['b', 'e', 'g', 'n', 'r', 't', 'u']   # Gutenberg\n",
    "#chars = ['a', 'm', 's', 'p', 'o', 'a', 't']  # Stampamos\n",
    "    \n",
    "l = chars      # Let's create a new handy variable\n",
    "\n",
    "# write here\n",
    "\n"
   ]
  },
  {
   "cell_type": "markdown",
   "metadata": {},
   "source": [
    "## Writing an element\n",
    "\n",
    "Since all the lists are MUTABLE, given a list object we can change the content of any cell inside.\n",
    "\n",
    "For example, suppose you want to change the cell at index `2` of the list `la`,  from `6` to `5`:"
   ]
  },
  {
   "cell_type": "code",
   "execution_count": 23,
   "metadata": {},
   "outputs": [],
   "source": [
    "     #0  1  2  3   \n",
    "la = [7, 9, 6, 8]"
   ]
  },
  {
   "cell_type": "markdown",
   "metadata": {},
   "source": [
    "We might write like this:"
   ]
  },
  {
   "cell_type": "code",
   "execution_count": 24,
   "metadata": {},
   "outputs": [],
   "source": [
    "la[2] = 5\n"
   ]
  },
  {
   "cell_type": "code",
   "execution_count": 25,
   "metadata": {},
   "outputs": [
    {
     "data": {
      "text/plain": [
       "[7, 9, 5, 8]"
      ]
     },
     "execution_count": 25,
     "metadata": {},
     "output_type": "execute_result"
    }
   ],
   "source": [
    "la"
   ]
  },
  {
   "cell_type": "markdown",
   "metadata": {},
   "source": [
    "Let's see what's happening with Python Tutor:"
   ]
  },
  {
   "cell_type": "code",
   "execution_count": 26,
   "metadata": {},
   "outputs": [],
   "source": [
    "# WARNING: FOR PYTHON TUTOR TO WORK, REMEMBER TO EXECUTE THIS CELL with Shift+Enter      \n",
    "#          (it's sufficient to execute it only once)\n",
    "\n",
    "\n",
    "import jupman"
   ]
  },
  {
   "cell_type": "code",
   "execution_count": 27,
   "metadata": {},
   "outputs": [
    {
     "data": {
      "text/html": [
       "        \n",
       "        <script src=\"../_static/js/pytutor-embed.bundle.min.js\" type=\"application/javascript\"></script>\n",
       "    \n",
       "        <style>\n",
       "        @import \"../_static/css/jupman.css\";\n",
       "        </style>\n",
       "     \n",
       "        <script id=\"json-jm-c05406f00014c2b7dda5bcff9fcdc783-29\" type=\"application/json\" >\n",
       "            {\"code\": \" \\n#     0  1  2  3   \\nla = [7, 9, 6, 8]\\nla[2] = 5\", \"trace\": [{\"line\": 3, \"event\": \"step_line\", \"func_name\": \"<module>\", \"globals\": {}, \"ordered_globals\": [], \"stack_to_render\": [], \"heap\": {}, \"stdout\": \"\"}, {\"line\": 4, \"event\": \"step_line\", \"func_name\": \"<module>\", \"globals\": {\"la\": [\"REF\", 1]}, \"ordered_globals\": [\"la\"], \"stack_to_render\": [], \"heap\": {\"1\": [\"LIST\", 7, 9, 6, 8]}, \"stdout\": \"\"}, {\"line\": 4, \"event\": \"return\", \"func_name\": \"<module>\", \"globals\": {\"la\": [\"REF\", 1]}, \"ordered_globals\": [\"la\"], \"stack_to_render\": [], \"heap\": {\"1\": [\"LIST\", 7, 9, 5, 8]}, \"stdout\": \"\"}]}\n",
       "        </script>\n",
       "        <div id=\"jm-c05406f00014c2b7dda5bcff9fcdc783-29\" class=\"pytutorVisualizer\"> </div>\n",
       "                        \n",
       "        <script>\n",
       "        \n",
       "        (function(){\n",
       "            console.log(\"jupman.py embedded javascript: adding Python tutor visualizer...\")\n",
       "            \n",
       "            var trace = JSON.parse(document.getElementById('json-jm-c05406f00014c2b7dda5bcff9fcdc783-29').innerHTML);                                        \n",
       "            // NOTE: id without #\n",
       "                    \n",
       "            addVisualizerToPage(trace, 'jm-c05406f00014c2b7dda5bcff9fcdc783-29',{'embeddedMode' : false,\n",
       "                                             'disableHeapNesting': true,\n",
       "                                             'visualizerIdOverride':'viz-jm-c05406f00014c2b7dda5bcff9fcdc783-29'})  \n",
       "            \n",
       "            \n",
       "            // set overflow for pytuts - need to do in python as css \n",
       "            // does not allow parent selection\n",
       "            var pytuts = $('.pytutorVisualizer')\n",
       "            pytuts.closest('div.output_html.rendered_html.output_result')\n",
       "                    .css('overflow-x', 'visible')\n",
       "        \n",
       "            //pytuts.closest('div.output_html.rendered_html.output_result')\n",
       "            //      .css('background-color','red')                \n",
       "            \n",
       "        })()\n",
       "        </script>\n",
       "                \n",
       "    \n",
       "    <div style=\"text-align:center; font-size:0.9em\"> <a href=\"https://pythontutor.com/visualize.html#mode=edit\" target=\"_blank\">Python Tutor</a> visualization</div> \n",
       "    "
      ],
      "text/plain": [
       "<IPython.core.display.HTML object>"
      ]
     },
     "execution_count": 27,
     "metadata": {},
     "output_type": "execute_result"
    }
   ],
   "source": [
    "#     0  1  2  3   \n",
    "la = [7, 9, 6, 8]\n",
    "la[2] = 5\n",
    "\n",
    "jupman.pytut()"
   ]
  },
  {
   "cell_type": "markdown",
   "metadata": {},
   "source": [
    "As you see, no new memory regions are created, it just overwrites an existing cell."
   ]
  },
  {
   "cell_type": "markdown",
   "metadata": {},
   "source": [
    "### Exercise - a jammed parking lot\n",
    "\n",
    "You are the administrator of the condominum \"The Pythonic Joy\". Every apartment has one or two parking spaces assigned, and each one is numbered from `1` to `11`.\n",
    "\n",
    "What follows is the current parking lot, and as you can see there are three spaces not assigned, because the flats `3`, `4` and `7` have no tenants anymore:"
   ]
  },
  {
   "cell_type": "code",
   "execution_count": 28,
   "metadata": {},
   "outputs": [],
   "source": [
    "parking_lot = [\"Carlo\", \"Apt.3\", \"Ernesto\", \"Apt.4\", \"Apt.7\", \"Pam\", \"Giovanna\", \"Camilla\", \"Giorgia\", \"Jessica\", \"Jim\"]"
   ]
  },
  {
   "cell_type": "markdown",
   "metadata": {},
   "source": [
    "To keep the order you decide to compact the assignments and leave the empty spaces at the far end (could be handy for parking the movers!)\n",
    "\n",
    "Write some code to MODIFY `parking_lot` so to have:\n",
    "\n",
    "\n",
    "```python\n",
    ">>> print(parking_lot)\n",
    "['Carlo', 'Jessica', 'Ernesto', 'Jim', 'Giorgia', 'Pam', 'Giovanna', 'Camilla', 'App.7', 'App.3', 'App.4']\n",
    "```\n",
    "\n",
    "* **DO NOT** create new lists (no `[a,b, ...]` nor `list(a,b,...)`)\n",
    "* **DO NOT** write tenants nor apartment names (so no `'Jessica'` nor `'Apt.3'`)\n",
    "* `parking_lot` may have variable length\n",
    "* assume the unassigned places are always 3 and in fixed position"
   ]
  },
  {
   "cell_type": "markdown",
   "metadata": {},
   "source": [
    "![parking-jam](img/parking-jam.png)"
   ]
  },
  {
   "cell_type": "raw",
   "id": "fb021699",
   "metadata": {
    "format": "text/html"
   },
   "source": [
    "<a  class=\"jupman-sol jupman-sol-toggler\" \n",
    " onclick=\"jupman.toggleSolution(this);\" \n",
    " data-jupman-show=\"Show solution\" data-jupman-hide=\"Hide\">Show solution</a><div class=\"jupman-sol jupman-sol-code\" style=\"display:none\">  "
   ]
  },
  {
   "cell_type": "code",
   "execution_count": 29,
   "metadata": {},
   "outputs": [
    {
     "name": "stdout",
     "output_type": "stream",
     "text": [
      "['Carlo', 'Jessica', 'Ernesto', 'Jim', 'Giorgia', 'Pam', 'Giovanna', 'Camilla', 'Apt.7', 'Apt.3', 'Apt.4']\n"
     ]
    }
   ],
   "source": [
    "\n",
    "parking_lot = [\"Carlo\", \"Apt.3\", \"Ernesto\", \"Apt.4\", \"Apt.7\", \"Pam\", \"Giovanna\", \"Camilla\", \"Giorgia\", \"Jessica\", \"Jim\"]\n",
    "#result:      ['Carlo', 'Jessica', 'Ernesto', 'Jim', 'Giorgia', 'Pam', 'Giovanna', 'Camilla', 'Apt.7', 'Apt.3', 'Apt.4']\n",
    "#parking_lot = [\"Cristian\", \"Apt.3\", \"Edgar\", \"Apt.4\", \"Apt.7\", \"Pamela\", \"Giusy\", \"Cristina\", \"John\"]\n",
    "#result:       ['Cristian', 'Cristina', 'Edgar', 'John', 'Giusy', 'Pamela', 'Apt.7', 'Apt.3', 'Apt.4']\n",
    "\n",
    "# write here\n",
    "\n",
    "parking_lot[1],parking_lot[-2] = parking_lot[-2],parking_lot[1]\n",
    "parking_lot[3],parking_lot[-1] = parking_lot[-1],parking_lot[3]\n",
    "parking_lot[4],parking_lot[-3] = parking_lot[-3],parking_lot[4]\n",
    "\n",
    "print(parking_lot)"
   ]
  },
  {
   "cell_type": "raw",
   "id": "7b8d95dd",
   "metadata": {
    "format": "text/html"
   },
   "source": [
    "</div>"
   ]
  },
  {
   "cell_type": "code",
   "execution_count": 29,
   "metadata": {},
   "outputs": [],
   "source": [
    "\n",
    "parking_lot = [\"Carlo\", \"Apt.3\", \"Ernesto\", \"Apt.4\", \"Apt.7\", \"Pam\", \"Giovanna\", \"Camilla\", \"Giorgia\", \"Jessica\", \"Jim\"]\n",
    "#result:      ['Carlo', 'Jessica', 'Ernesto', 'Jim', 'Giorgia', 'Pam', 'Giovanna', 'Camilla', 'Apt.7', 'Apt.3', 'Apt.4']\n",
    "#parking_lot = [\"Cristian\", \"Apt.3\", \"Edgar\", \"Apt.4\", \"Apt.7\", \"Pamela\", \"Giusy\", \"Cristina\", \"John\"]\n",
    "#result:       ['Cristian', 'Cristina', 'Edgar', 'John', 'Giusy', 'Pamela', 'Apt.7', 'Apt.3', 'Apt.4']\n",
    "\n",
    "# write here\n",
    "\n"
   ]
  },
  {
   "cell_type": "markdown",
   "metadata": {},
   "source": [
    "## Mutating shared lists\n",
    "\n",
    "<div class=\"alert alert-warning\">\n",
    "    \n",
    "**WARNING: READ VERY WELL !!!**\n",
    "    \n",
    "90% OF PROGRAMMING ERRORS ARE CAUSED BY MISUNDERSTANDING THIS TOPIC !!!\n",
    "</div>\n",
    "\n",
    "What happens when we associate the same identical mutable object to two variables, like for example a list, and then we mutate the object using one of the two variables?\n",
    "\n",
    "Let's look at an example - first, we associate the list `[7,9,6]` to variable `la`:"
   ]
  },
  {
   "cell_type": "code",
   "execution_count": 30,
   "metadata": {},
   "outputs": [],
   "source": [
    "la = [7,9,6]"
   ]
  },
  {
   "cell_type": "markdown",
   "metadata": {},
   "source": [
    "Now we define a new variable `lb`, and we associate the _same value_ that was already associated to variable `la`. Note: we are NOT creating new lists !"
   ]
  },
  {
   "cell_type": "code",
   "execution_count": 31,
   "metadata": {},
   "outputs": [],
   "source": [
    "lb = la    "
   ]
  },
  {
   "cell_type": "code",
   "execution_count": 32,
   "metadata": {},
   "outputs": [
    {
     "name": "stdout",
     "output_type": "stream",
     "text": [
      "[7, 9, 6]\n"
     ]
    }
   ],
   "source": [
    "print(la)  # la is always the same"
   ]
  },
  {
   "cell_type": "code",
   "execution_count": 33,
   "metadata": {},
   "outputs": [
    {
     "name": "stdout",
     "output_type": "stream",
     "text": [
      "[7, 9, 6]\n"
     ]
    }
   ],
   "source": [
    "print(lb)  # lb is the *same* list associated to la"
   ]
  },
  {
   "cell_type": "markdown",
   "metadata": {},
   "source": [
    "We can now try modifying a cell of `lb`, putting `5` in the cell at index `0`:"
   ]
  },
  {
   "cell_type": "code",
   "execution_count": 34,
   "metadata": {},
   "outputs": [],
   "source": [
    "lb[0] = 5 "
   ]
  },
  {
   "cell_type": "markdown",
   "metadata": {},
   "source": [
    "If we try printing the variables `la` and `lb`, Python will look at the values associated to each variable. Since the value is the same identical list (which is in the same identical memory region), in both cases you will see the change we just did !"
   ]
  },
  {
   "cell_type": "code",
   "execution_count": 35,
   "metadata": {},
   "outputs": [
    {
     "name": "stdout",
     "output_type": "stream",
     "text": [
      "[5, 9, 6]\n"
     ]
    }
   ],
   "source": [
    "print(la)"
   ]
  },
  {
   "cell_type": "code",
   "execution_count": 36,
   "metadata": {},
   "outputs": [
    {
     "name": "stdout",
     "output_type": "stream",
     "text": [
      "[5, 9, 6]\n"
     ]
    }
   ],
   "source": [
    "print(lb)"
   ]
  },
  {
   "cell_type": "markdown",
   "metadata": {},
   "source": [
    "Let's see in detail what happens with Python Tutor:"
   ]
  },
  {
   "cell_type": "code",
   "execution_count": 37,
   "metadata": {},
   "outputs": [
    {
     "name": "stdout",
     "output_type": "stream",
     "text": [
      "la is [5, 9, 6]\n",
      "lb is [5, 9, 6]\n"
     ]
    },
    {
     "data": {
      "text/html": [
       "        \n",
       "        <script src=\"../_static/js/pytutor-embed.bundle.min.js\" type=\"application/javascript\"></script>\n",
       "    \n",
       "        <style>\n",
       "        @import \"../_static/css/jupman.css\";\n",
       "        </style>\n",
       "     \n",
       "        <script id=\"json-jm-dfbf099b45bb549c3359a4e64bbf8443-39\" type=\"application/json\" >\n",
       "            {\"code\": \" \\nla = [7,9,6]\\nlb = la\\nlb[0] = 5 \\nprint('la is', la)\\nprint('lb is', lb)\", \"trace\": [{\"line\": 2, \"event\": \"step_line\", \"func_name\": \"<module>\", \"globals\": {}, \"ordered_globals\": [], \"stack_to_render\": [], \"heap\": {}, \"stdout\": \"\"}, {\"line\": 3, \"event\": \"step_line\", \"func_name\": \"<module>\", \"globals\": {\"la\": [\"REF\", 1]}, \"ordered_globals\": [\"la\"], \"stack_to_render\": [], \"heap\": {\"1\": [\"LIST\", 7, 9, 6]}, \"stdout\": \"\"}, {\"line\": 4, \"event\": \"step_line\", \"func_name\": \"<module>\", \"globals\": {\"la\": [\"REF\", 1], \"lb\": [\"REF\", 1]}, \"ordered_globals\": [\"la\", \"lb\"], \"stack_to_render\": [], \"heap\": {\"1\": [\"LIST\", 7, 9, 6]}, \"stdout\": \"\"}, {\"line\": 5, \"event\": \"step_line\", \"func_name\": \"<module>\", \"globals\": {\"la\": [\"REF\", 1], \"lb\": [\"REF\", 1]}, \"ordered_globals\": [\"la\", \"lb\"], \"stack_to_render\": [], \"heap\": {\"1\": [\"LIST\", 5, 9, 6]}, \"stdout\": \"\"}, {\"line\": 6, \"event\": \"step_line\", \"func_name\": \"<module>\", \"globals\": {\"la\": [\"REF\", 1], \"lb\": [\"REF\", 1]}, \"ordered_globals\": [\"la\", \"lb\"], \"stack_to_render\": [], \"heap\": {\"1\": [\"LIST\", 5, 9, 6]}, \"stdout\": \"la is [5, 9, 6]\\n\"}, {\"line\": 6, \"event\": \"return\", \"func_name\": \"<module>\", \"globals\": {\"la\": [\"REF\", 1], \"lb\": [\"REF\", 1]}, \"ordered_globals\": [\"la\", \"lb\"], \"stack_to_render\": [], \"heap\": {\"1\": [\"LIST\", 5, 9, 6]}, \"stdout\": \"la is [5, 9, 6]\\nlb is [5, 9, 6]\\n\"}]}\n",
       "        </script>\n",
       "        <div id=\"jm-dfbf099b45bb549c3359a4e64bbf8443-39\" class=\"pytutorVisualizer\"> </div>\n",
       "                        \n",
       "        <script>\n",
       "        \n",
       "        (function(){\n",
       "            console.log(\"jupman.py embedded javascript: adding Python tutor visualizer...\")\n",
       "            \n",
       "            var trace = JSON.parse(document.getElementById('json-jm-dfbf099b45bb549c3359a4e64bbf8443-39').innerHTML);                                        \n",
       "            // NOTE: id without #\n",
       "                    \n",
       "            addVisualizerToPage(trace, 'jm-dfbf099b45bb549c3359a4e64bbf8443-39',{'embeddedMode' : false,\n",
       "                                             'disableHeapNesting': true,\n",
       "                                             'visualizerIdOverride':'viz-jm-dfbf099b45bb549c3359a4e64bbf8443-39'})  \n",
       "            \n",
       "            \n",
       "            // set overflow for pytuts - need to do in python as css \n",
       "            // does not allow parent selection\n",
       "            var pytuts = $('.pytutorVisualizer')\n",
       "            pytuts.closest('div.output_html.rendered_html.output_result')\n",
       "                    .css('overflow-x', 'visible')\n",
       "        \n",
       "            //pytuts.closest('div.output_html.rendered_html.output_result')\n",
       "            //      .css('background-color','red')                \n",
       "            \n",
       "        })()\n",
       "        </script>\n",
       "                \n",
       "    \n",
       "    <div style=\"text-align:center; font-size:0.9em\"> <a href=\"https://pythontutor.com/visualize.html#mode=edit\" target=\"_blank\">Python Tutor</a> visualization</div> \n",
       "    "
      ],
      "text/plain": [
       "<IPython.core.display.HTML object>"
      ]
     },
     "execution_count": 37,
     "metadata": {},
     "output_type": "execute_result"
    }
   ],
   "source": [
    "la = [7,9,6]\n",
    "lb = la\n",
    "lb[0] = 5 \n",
    "print('la is', la)\n",
    "print('lb is', lb)\n",
    "\n",
    "jupman.pytut()"
   ]
  },
  {
   "cell_type": "markdown",
   "metadata": {},
   "source": [
    "Let's see the difference when we explicitly create a list equal to `la`.\n",
    "\n",
    "In this case we will have two distinct memory regions and `la` will NOT be modified:"
   ]
  },
  {
   "cell_type": "code",
   "execution_count": 38,
   "metadata": {},
   "outputs": [
    {
     "name": "stdout",
     "output_type": "stream",
     "text": [
      "la is [7, 9, 6]\n",
      "lb is [5, 9, 6]\n"
     ]
    },
    {
     "data": {
      "text/html": [
       "        \n",
       "        <script src=\"../_static/js/pytutor-embed.bundle.min.js\" type=\"application/javascript\"></script>\n",
       "    \n",
       "        <style>\n",
       "        @import \"../_static/css/jupman.css\";\n",
       "        </style>\n",
       "     \n",
       "        <script id=\"json-jm-714a9bc2d434042ef3fbe196a72479c1-40\" type=\"application/json\" >\n",
       "            {\"code\": \" \\nla = [7,9,6]\\nlb = [7,9,6]\\nlb[0] = 5 \\nprint('la is', la)\\nprint('lb is', lb)\", \"trace\": [{\"line\": 2, \"event\": \"step_line\", \"func_name\": \"<module>\", \"globals\": {}, \"ordered_globals\": [], \"stack_to_render\": [], \"heap\": {}, \"stdout\": \"\"}, {\"line\": 3, \"event\": \"step_line\", \"func_name\": \"<module>\", \"globals\": {\"la\": [\"REF\", 1]}, \"ordered_globals\": [\"la\"], \"stack_to_render\": [], \"heap\": {\"1\": [\"LIST\", 7, 9, 6]}, \"stdout\": \"\"}, {\"line\": 4, \"event\": \"step_line\", \"func_name\": \"<module>\", \"globals\": {\"la\": [\"REF\", 1], \"lb\": [\"REF\", 2]}, \"ordered_globals\": [\"la\", \"lb\"], \"stack_to_render\": [], \"heap\": {\"1\": [\"LIST\", 7, 9, 6], \"2\": [\"LIST\", 7, 9, 6]}, \"stdout\": \"\"}, {\"line\": 5, \"event\": \"step_line\", \"func_name\": \"<module>\", \"globals\": {\"la\": [\"REF\", 1], \"lb\": [\"REF\", 2]}, \"ordered_globals\": [\"la\", \"lb\"], \"stack_to_render\": [], \"heap\": {\"1\": [\"LIST\", 7, 9, 6], \"2\": [\"LIST\", 5, 9, 6]}, \"stdout\": \"\"}, {\"line\": 6, \"event\": \"step_line\", \"func_name\": \"<module>\", \"globals\": {\"la\": [\"REF\", 1], \"lb\": [\"REF\", 2]}, \"ordered_globals\": [\"la\", \"lb\"], \"stack_to_render\": [], \"heap\": {\"1\": [\"LIST\", 7, 9, 6], \"2\": [\"LIST\", 5, 9, 6]}, \"stdout\": \"la is [7, 9, 6]\\n\"}, {\"line\": 6, \"event\": \"return\", \"func_name\": \"<module>\", \"globals\": {\"la\": [\"REF\", 1], \"lb\": [\"REF\", 2]}, \"ordered_globals\": [\"la\", \"lb\"], \"stack_to_render\": [], \"heap\": {\"1\": [\"LIST\", 7, 9, 6], \"2\": [\"LIST\", 5, 9, 6]}, \"stdout\": \"la is [7, 9, 6]\\nlb is [5, 9, 6]\\n\"}]}\n",
       "        </script>\n",
       "        <div id=\"jm-714a9bc2d434042ef3fbe196a72479c1-40\" class=\"pytutorVisualizer\"> </div>\n",
       "                        \n",
       "        <script>\n",
       "        \n",
       "        (function(){\n",
       "            console.log(\"jupman.py embedded javascript: adding Python tutor visualizer...\")\n",
       "            \n",
       "            var trace = JSON.parse(document.getElementById('json-jm-714a9bc2d434042ef3fbe196a72479c1-40').innerHTML);                                        \n",
       "            // NOTE: id without #\n",
       "                    \n",
       "            addVisualizerToPage(trace, 'jm-714a9bc2d434042ef3fbe196a72479c1-40',{'embeddedMode' : false,\n",
       "                                             'disableHeapNesting': true,\n",
       "                                             'visualizerIdOverride':'viz-jm-714a9bc2d434042ef3fbe196a72479c1-40'})  \n",
       "            \n",
       "            \n",
       "            // set overflow for pytuts - need to do in python as css \n",
       "            // does not allow parent selection\n",
       "            var pytuts = $('.pytutorVisualizer')\n",
       "            pytuts.closest('div.output_html.rendered_html.output_result')\n",
       "                    .css('overflow-x', 'visible')\n",
       "        \n",
       "            //pytuts.closest('div.output_html.rendered_html.output_result')\n",
       "            //      .css('background-color','red')                \n",
       "            \n",
       "        })()\n",
       "        </script>\n",
       "                \n",
       "    \n",
       "    <div style=\"text-align:center; font-size:0.9em\"> <a href=\"https://pythontutor.com/visualize.html#mode=edit\" target=\"_blank\">Python Tutor</a> visualization</div> \n",
       "    "
      ],
      "text/plain": [
       "<IPython.core.display.HTML object>"
      ]
     },
     "execution_count": 38,
     "metadata": {},
     "output_type": "execute_result"
    }
   ],
   "source": [
    "la = [7,9,6]\n",
    "lb = [7,9,6]\n",
    "lb[0] = 5 \n",
    "print('la is', la)\n",
    "print('lb is', lb)\n",
    "\n",
    "jupman.pytut()"
   ]
  },
  {
   "cell_type": "markdown",
   "metadata": {},
   "source": [
    "**QUESTION**: After executing this code, what will be printed? How many lists will be present in memory?\n",
    "\n",
    "Try drawing **ON PAPER** what is supposed to happen in memory, and then compare with Python Tutor!\n",
    "\n",
    "```python\n",
    "la = [8,7,7]\n",
    "lb = [9,6,7,5]\n",
    "lc = lb\n",
    "la = lb\n",
    "print('la is', la)\n",
    "print('lb is', lb)\n",
    "print('lc is', lc)\n",
    "```"
   ]
  },
  {
   "cell_type": "raw",
   "id": "13277965",
   "metadata": {
    "format": "text/html"
   },
   "source": [
    "<a  class=\"jupman-sol jupman-sol-toggler\" \n",
    " onclick=\"jupman.toggleSolution(this);\" \n",
    " data-jupman-show=\"Show answer\" data-jupman-hide=\"Hide\">Show answer</a><div class=\"jupman-sol jupman-sol-question\" style=\"display:none\">  "
   ]
  },
  {
   "cell_type": "markdown",
   "metadata": {},
   "source": [
    "**ANSWER**: it will print:\n",
    "```\n",
    "la is [9, 6, 7, 5]\n",
    "lb is [9, 6, 7, 5]\n",
    "lc is [9, 6, 7, 5]\n",
    "```\n",
    "\n",
    "because\n",
    "\n",
    "```python\n",
    "la = [8,7,7]\n",
    "lb = [9,6,7,5]\n",
    "\n",
    "lc = lb   # variable lc is associated to the same identical list of lb\n",
    "\n",
    "la = lb   # variable la is associated to the same identical list of lb \n",
    "          # the list previously associated to la is lost\n",
    "```"
   ]
  },
  {
   "cell_type": "raw",
   "id": "2dccfc07",
   "metadata": {
    "format": "text/html"
   },
   "source": [
    "</div>"
   ]
  },
  {
   "cell_type": "code",
   "execution_count": 39,
   "metadata": {},
   "outputs": [
    {
     "data": {
      "text/html": [
       "        \n",
       "        <script src=\"../_static/js/pytutor-embed.bundle.min.js\" type=\"application/javascript\"></script>\n",
       "    \n",
       "        <style>\n",
       "        @import \"../_static/css/jupman.css\";\n",
       "        </style>\n",
       "     \n",
       "        <script id=\"json-jm-1327af98eeb8f943ff75261843fae45a-41\" type=\"application/json\" >\n",
       "            {\"code\": \" \\nla = [8,7,7]\\nlb = [9,6,7,5]\\nlc = lb\\nla = lb\\n#print('la is', la)\\n#print('lb is', lb)\\n#print('lc is', lc)\", \"trace\": [{\"line\": 2, \"event\": \"step_line\", \"func_name\": \"<module>\", \"globals\": {}, \"ordered_globals\": [], \"stack_to_render\": [], \"heap\": {}, \"stdout\": \"\"}, {\"line\": 3, \"event\": \"step_line\", \"func_name\": \"<module>\", \"globals\": {\"la\": [\"REF\", 1]}, \"ordered_globals\": [\"la\"], \"stack_to_render\": [], \"heap\": {\"1\": [\"LIST\", 8, 7, 7]}, \"stdout\": \"\"}, {\"line\": 4, \"event\": \"step_line\", \"func_name\": \"<module>\", \"globals\": {\"la\": [\"REF\", 1], \"lb\": [\"REF\", 2]}, \"ordered_globals\": [\"la\", \"lb\"], \"stack_to_render\": [], \"heap\": {\"1\": [\"LIST\", 8, 7, 7], \"2\": [\"LIST\", 9, 6, 7, 5]}, \"stdout\": \"\"}, {\"line\": 5, \"event\": \"step_line\", \"func_name\": \"<module>\", \"globals\": {\"la\": [\"REF\", 1], \"lb\": [\"REF\", 2], \"lc\": [\"REF\", 2]}, \"ordered_globals\": [\"la\", \"lb\", \"lc\"], \"stack_to_render\": [], \"heap\": {\"1\": [\"LIST\", 8, 7, 7], \"2\": [\"LIST\", 9, 6, 7, 5]}, \"stdout\": \"\"}, {\"line\": 5, \"event\": \"return\", \"func_name\": \"<module>\", \"globals\": {\"la\": [\"REF\", 2], \"lb\": [\"REF\", 2], \"lc\": [\"REF\", 2]}, \"ordered_globals\": [\"la\", \"lb\", \"lc\"], \"stack_to_render\": [], \"heap\": {\"2\": [\"LIST\", 9, 6, 7, 5]}, \"stdout\": \"\"}]}\n",
       "        </script>\n",
       "        <div id=\"jm-1327af98eeb8f943ff75261843fae45a-41\" class=\"pytutorVisualizer\"> </div>\n",
       "                        \n",
       "        <script>\n",
       "        \n",
       "        (function(){\n",
       "            console.log(\"jupman.py embedded javascript: adding Python tutor visualizer...\")\n",
       "            \n",
       "            var trace = JSON.parse(document.getElementById('json-jm-1327af98eeb8f943ff75261843fae45a-41').innerHTML);                                        \n",
       "            // NOTE: id without #\n",
       "                    \n",
       "            addVisualizerToPage(trace, 'jm-1327af98eeb8f943ff75261843fae45a-41',{'embeddedMode' : false,\n",
       "                                             'disableHeapNesting': true,\n",
       "                                             'visualizerIdOverride':'viz-jm-1327af98eeb8f943ff75261843fae45a-41'})  \n",
       "            \n",
       "            \n",
       "            // set overflow for pytuts - need to do in python as css \n",
       "            // does not allow parent selection\n",
       "            var pytuts = $('.pytutorVisualizer')\n",
       "            pytuts.closest('div.output_html.rendered_html.output_result')\n",
       "                    .css('overflow-x', 'visible')\n",
       "        \n",
       "            //pytuts.closest('div.output_html.rendered_html.output_result')\n",
       "            //      .css('background-color','red')                \n",
       "            \n",
       "        })()\n",
       "        </script>\n",
       "                \n",
       "    \n",
       "    <div style=\"text-align:center; font-size:0.9em\"> <a href=\"https://pythontutor.com/visualize.html#mode=edit\" target=\"_blank\">Python Tutor</a> visualization</div> \n",
       "    "
      ],
      "text/plain": [
       "<IPython.core.display.HTML object>"
      ]
     },
     "execution_count": 39,
     "metadata": {},
     "output_type": "execute_result"
    }
   ],
   "source": [
    "la = [8,7,7]\n",
    "lb = [9,6,7,5]\n",
    "lc = lb\n",
    "la = lb\n",
    "#print('la is', la)\n",
    "#print('lb is', lb)\n",
    "#print('lc is', lc)\n",
    "jupman.pytut()"
   ]
  },
  {
   "cell_type": "markdown",
   "metadata": {},
   "source": [
    "**QUESTION**: Look at the following code. After its execution, by printing  `la`, `lb` and `lc` what will we get? \n",
    "\n",
    "Try drawing **ON PAPER** what is happening in memory, then compare the result with Python Tutor!\n",
    "\n",
    "```python\n",
    "la = [7,8,5]\n",
    "lb = [6,7]\n",
    "lc = lb\n",
    "lb = la\n",
    "lc[0] = 9\n",
    "print('la is', la)\n",
    "print('lb is', lb)\n",
    "print('lc is', lc)\n",
    "```"
   ]
  },
  {
   "cell_type": "raw",
   "id": "7310e675",
   "metadata": {
    "format": "text/html"
   },
   "source": [
    "<a  class=\"jupman-sol jupman-sol-toggler\" \n",
    " onclick=\"jupman.toggleSolution(this);\" \n",
    " data-jupman-show=\"Show answer\" data-jupman-hide=\"Hide\">Show answer</a><div class=\"jupman-sol jupman-sol-question\" style=\"display:none\">  "
   ]
  },
  {
   "cell_type": "markdown",
   "metadata": {},
   "source": [
    "**ANSWER**: The print will produce\n",
    "```\n",
    "la is [7, 8, 5]\n",
    "lb is [7, 8, 5]\n",
    "lc is [9, 7]\n",
    "```\n",
    "\n",
    "because :\n",
    "\n",
    "``` python\n",
    "la = [7,8,5]\n",
    "lb = [6,7]\n",
    "# the variable lc is assigned to the same list of lb [6,7]\n",
    "lc = lb    \n",
    "# the variable lb is associated to the same list of la [7,8,5]. \n",
    "# This doesn't change the assignment of lc, which remains associated to [6,7] !\n",
    "lb = la    \n",
    "# Modifies the first element of the list associated to lc which from [6,7] becomes [9,7]\n",
    "lc[0] = 9\n",
    "print('la is', la)\n",
    "print('lb is', lb)\n",
    "print('lc is', lc)\n",
    "\n",
    "```"
   ]
  },
  {
   "cell_type": "raw",
   "id": "6e1236f9",
   "metadata": {
    "format": "text/html"
   },
   "source": [
    "</div>"
   ]
  },
  {
   "cell_type": "code",
   "execution_count": 40,
   "metadata": {},
   "outputs": [
    {
     "data": {
      "text/html": [
       "        \n",
       "        <script src=\"../_static/js/pytutor-embed.bundle.min.js\" type=\"application/javascript\"></script>\n",
       "    \n",
       "        <style>\n",
       "        @import \"../_static/css/jupman.css\";\n",
       "        </style>\n",
       "     \n",
       "        <script id=\"json-jm-24186b3f5b76b6eb429951e8888115a2-42\" type=\"application/json\" >\n",
       "            {\"code\": \" \\nla = [7,8,5]\\nlb = [6,7]\\nlc = lb\\nlb = la\\nlc[0] = 9\\n#print('la is', la)\\n#print('lb is', lb)\\n#print('lc is', lc)\", \"trace\": [{\"line\": 2, \"event\": \"step_line\", \"func_name\": \"<module>\", \"globals\": {}, \"ordered_globals\": [], \"stack_to_render\": [], \"heap\": {}, \"stdout\": \"\"}, {\"line\": 3, \"event\": \"step_line\", \"func_name\": \"<module>\", \"globals\": {\"la\": [\"REF\", 1]}, \"ordered_globals\": [\"la\"], \"stack_to_render\": [], \"heap\": {\"1\": [\"LIST\", 7, 8, 5]}, \"stdout\": \"\"}, {\"line\": 4, \"event\": \"step_line\", \"func_name\": \"<module>\", \"globals\": {\"la\": [\"REF\", 1], \"lb\": [\"REF\", 2]}, \"ordered_globals\": [\"la\", \"lb\"], \"stack_to_render\": [], \"heap\": {\"1\": [\"LIST\", 7, 8, 5], \"2\": [\"LIST\", 6, 7]}, \"stdout\": \"\"}, {\"line\": 5, \"event\": \"step_line\", \"func_name\": \"<module>\", \"globals\": {\"la\": [\"REF\", 1], \"lb\": [\"REF\", 2], \"lc\": [\"REF\", 2]}, \"ordered_globals\": [\"la\", \"lb\", \"lc\"], \"stack_to_render\": [], \"heap\": {\"1\": [\"LIST\", 7, 8, 5], \"2\": [\"LIST\", 6, 7]}, \"stdout\": \"\"}, {\"line\": 6, \"event\": \"step_line\", \"func_name\": \"<module>\", \"globals\": {\"la\": [\"REF\", 1], \"lb\": [\"REF\", 1], \"lc\": [\"REF\", 2]}, \"ordered_globals\": [\"la\", \"lb\", \"lc\"], \"stack_to_render\": [], \"heap\": {\"1\": [\"LIST\", 7, 8, 5], \"2\": [\"LIST\", 6, 7]}, \"stdout\": \"\"}, {\"line\": 6, \"event\": \"return\", \"func_name\": \"<module>\", \"globals\": {\"la\": [\"REF\", 1], \"lb\": [\"REF\", 1], \"lc\": [\"REF\", 2]}, \"ordered_globals\": [\"la\", \"lb\", \"lc\"], \"stack_to_render\": [], \"heap\": {\"1\": [\"LIST\", 7, 8, 5], \"2\": [\"LIST\", 9, 7]}, \"stdout\": \"\"}]}\n",
       "        </script>\n",
       "        <div id=\"jm-24186b3f5b76b6eb429951e8888115a2-42\" class=\"pytutorVisualizer\"> </div>\n",
       "                        \n",
       "        <script>\n",
       "        \n",
       "        (function(){\n",
       "            console.log(\"jupman.py embedded javascript: adding Python tutor visualizer...\")\n",
       "            \n",
       "            var trace = JSON.parse(document.getElementById('json-jm-24186b3f5b76b6eb429951e8888115a2-42').innerHTML);                                        \n",
       "            // NOTE: id without #\n",
       "                    \n",
       "            addVisualizerToPage(trace, 'jm-24186b3f5b76b6eb429951e8888115a2-42',{'embeddedMode' : false,\n",
       "                                             'disableHeapNesting': true,\n",
       "                                             'visualizerIdOverride':'viz-jm-24186b3f5b76b6eb429951e8888115a2-42'})  \n",
       "            \n",
       "            \n",
       "            // set overflow for pytuts - need to do in python as css \n",
       "            // does not allow parent selection\n",
       "            var pytuts = $('.pytutorVisualizer')\n",
       "            pytuts.closest('div.output_html.rendered_html.output_result')\n",
       "                    .css('overflow-x', 'visible')\n",
       "        \n",
       "            //pytuts.closest('div.output_html.rendered_html.output_result')\n",
       "            //      .css('background-color','red')                \n",
       "            \n",
       "        })()\n",
       "        </script>\n",
       "                \n",
       "    \n",
       "    <div style=\"text-align:center; font-size:0.9em\"> <a href=\"https://pythontutor.com/visualize.html#mode=edit\" target=\"_blank\">Python Tutor</a> visualization</div> \n",
       "    "
      ],
      "text/plain": [
       "<IPython.core.display.HTML object>"
      ]
     },
     "execution_count": 40,
     "metadata": {},
     "output_type": "execute_result"
    }
   ],
   "source": [
    "la = [7,8,5]\n",
    "lb = [6,7]\n",
    "lc = lb\n",
    "lb = la\n",
    "lc[0] = 9\n",
    "#print('la is', la)\n",
    "#print('lb is', lb)\n",
    "#print('lc is', lc)\n",
    "\n",
    "jupman.pytut()"
   ]
  },
  {
   "cell_type": "markdown",
   "metadata": {},
   "source": [
    "## List of strings"
   ]
  },
  {
   "cell_type": "markdown",
   "metadata": {},
   "source": [
    "We said we can put any object into a list, for example some strings:"
   ]
  },
  {
   "cell_type": "code",
   "execution_count": 41,
   "metadata": {},
   "outputs": [],
   "source": [
    "vegetables = ['tomatoes', 'onions', 'carrots', 'cabbage']"
   ]
  },
  {
   "cell_type": "markdown",
   "metadata": {},
   "source": [
    "Let's try extracting a vegetable by writing this expression:"
   ]
  },
  {
   "cell_type": "code",
   "execution_count": 42,
   "metadata": {},
   "outputs": [
    {
     "data": {
      "text/plain": [
       "'carrots'"
      ]
     },
     "execution_count": 42,
     "metadata": {},
     "output_type": "execute_result"
    }
   ],
   "source": [
    "vegetables[2]"
   ]
  },
  {
   "cell_type": "markdown",
   "metadata": {},
   "source": [
    "Now, the preceding expression produces the result `'carrots'`, which we know is a string. This suggests we can use the expression exactly like if it were a string.\n",
    "\n",
    "Suppose we want to obtain the first character of the string `'carrots'`, if we directly have the string we can write like this:"
   ]
  },
  {
   "cell_type": "code",
   "execution_count": 43,
   "metadata": {},
   "outputs": [
    {
     "data": {
      "text/plain": [
       "'c'"
      ]
     },
     "execution_count": 43,
     "metadata": {},
     "output_type": "execute_result"
    }
   ],
   "source": [
    "'carrots'[0]"
   ]
  },
  {
   "cell_type": "markdown",
   "metadata": {},
   "source": [
    "But if the string is inside the previous list, we could directly do like this:"
   ]
  },
  {
   "cell_type": "code",
   "execution_count": 44,
   "metadata": {},
   "outputs": [
    {
     "data": {
      "text/plain": [
       "'c'"
      ]
     },
     "execution_count": 44,
     "metadata": {},
     "output_type": "execute_result"
    }
   ],
   "source": [
    "vegetables[2][0]"
   ]
  },
  {
   "cell_type": "markdown",
   "metadata": {},
   "source": [
    "### Exercise - province codes\n",
    "\n",
    "Given a list with exactly 4 province codes in lowercase, write some code which creates a NEW list containing the same codes in uppercase characters.\n",
    "\n",
    "* your code must work with any list of 4 provinces\n",
    "* hint: if you don't remember the right method, [have a look here](https://en.softpython.org/strings/strings3-sol.html)\n",
    "\n",
    "Example 1 - given:\n",
    "\n",
    "```python\n",
    "provinces = ['tn','mi','to','ro']\n",
    "```\n",
    "\n",
    "your code must print:\n",
    "\n",
    "```python\n",
    "['TN', 'MI', 'TO', 'RO']\n",
    "```\n",
    "\n",
    "Example 2 - given:\n",
    "\n",
    "```python\n",
    "provinces = ['pa','ge','ve', 'aq']\n",
    "```\n",
    "\n",
    "Your code must print:\n",
    "\n",
    "```python\n",
    "['PA', 'GE', 'VE', 'AQ']\n",
    "```\n",
    "\n",
    "![plate](img/plate.png)"
   ]
  },
  {
   "cell_type": "raw",
   "id": "b392d3c4",
   "metadata": {
    "format": "text/html"
   },
   "source": [
    "<a  class=\"jupman-sol jupman-sol-toggler\" \n",
    " onclick=\"jupman.toggleSolution(this);\" \n",
    " data-jupman-show=\"Show solution\" data-jupman-hide=\"Hide\">Show solution</a><div class=\"jupman-sol jupman-sol-code\" style=\"display:none\">  "
   ]
  },
  {
   "cell_type": "code",
   "execution_count": 45,
   "metadata": {},
   "outputs": [
    {
     "name": "stdout",
     "output_type": "stream",
     "text": [
      "['TN', 'MI', 'TO', 'RO']\n"
     ]
    }
   ],
   "source": [
    "\n",
    "provinces = ['tn','mi','to','ro']\n",
    "#provinces = ['pa','ge','ve', 'aq']\n",
    "\n",
    "# write here\n",
    "\n",
    "print([provinces[0].upper(), provinces[1].upper(), provinces[2].upper(), provinces[3].upper()])"
   ]
  },
  {
   "cell_type": "raw",
   "id": "0b839649",
   "metadata": {
    "format": "text/html"
   },
   "source": [
    "</div>"
   ]
  },
  {
   "cell_type": "code",
   "execution_count": 45,
   "metadata": {},
   "outputs": [],
   "source": [
    "\n",
    "provinces = ['tn','mi','to','ro']\n",
    "#provinces = ['pa','ge','ve', 'aq']\n",
    "\n",
    "# write here\n",
    "\n"
   ]
  },
  {
   "cell_type": "markdown",
   "metadata": {},
   "source": [
    "### Exercise - games\n",
    "\n",
    "Given a list `games` of exactly 3 strings, write some code which MODIFIES the list so it contains only the first characters of each string.\n",
    "\n",
    "* Your code must work with any list of exactly 3 strings\n",
    "\n",
    "Example - given:\n",
    "\n",
    "```python\n",
    "games = [\"Monopoly\",\"RISK\",\"Bingo\"]\n",
    "\n",
    "```\n",
    "After executing the code, it must result:\n",
    "\n",
    "```python\n",
    ">>> print(games)\n",
    "[\"M\",\"R\",\"B\"]\n",
    "```"
   ]
  },
  {
   "cell_type": "raw",
   "id": "b149082e",
   "metadata": {
    "format": "text/html"
   },
   "source": [
    "<a  class=\"jupman-sol jupman-sol-toggler\" \n",
    " onclick=\"jupman.toggleSolution(this);\" \n",
    " data-jupman-show=\"Show solution\" data-jupman-hide=\"Hide\">Show solution</a><div class=\"jupman-sol jupman-sol-code\" style=\"display:none\">  "
   ]
  },
  {
   "cell_type": "code",
   "execution_count": 46,
   "metadata": {},
   "outputs": [
    {
     "name": "stdout",
     "output_type": "stream",
     "text": [
      "['M', 'R', 'B']\n"
     ]
    }
   ],
   "source": [
    "\n",
    "games = [\"Monopoly\", \"RISK\", \"Bingo\"]  # ['M','R','T']\n",
    "#games = [\"Frustration\", \"Game of the Goose\", \"Scrabble\"]   # ['F','G','S']\n",
    "\n",
    "# write here\n",
    "\n",
    "games = [ games[0][0], games[1][0], games[2][0] ]\n",
    "print(games)"
   ]
  },
  {
   "cell_type": "raw",
   "id": "f70ee940",
   "metadata": {
    "format": "text/html"
   },
   "source": [
    "</div>"
   ]
  },
  {
   "cell_type": "code",
   "execution_count": 46,
   "metadata": {},
   "outputs": [],
   "source": [
    "\n",
    "games = [\"Monopoly\", \"RISK\", \"Bingo\"]  # ['M','R','T']\n",
    "#games = [\"Frustration\", \"Game of the Goose\", \"Scrabble\"]   # ['F','G','S']\n",
    "\n",
    "# write here\n",
    "\n"
   ]
  },
  {
   "cell_type": "markdown",
   "metadata": {},
   "source": [
    "## Slices\n",
    "\n",
    "We can extract sequences from lists by using _slices._ A slice is produced by placing square brackets after the list with inside the starting index (INCLUDED), followed by a colon `:`, followed by the end index (EXCLUDED). It works exactly as with strings: in that case the slice produces a new string, in this case it produces a NEW list. Let's see an example:"
   ]
  },
  {
   "cell_type": "code",
   "execution_count": 47,
   "metadata": {},
   "outputs": [],
   "source": [
    "     #0  1  2  3  4  5  6  7  8  9\n",
    "la = [40,30,90,80,60,10,40,20,50,60]"
   ]
  },
  {
   "cell_type": "code",
   "execution_count": 48,
   "metadata": {},
   "outputs": [
    {
     "data": {
      "text/plain": [
       "[80, 60, 10, 40]"
      ]
     },
     "execution_count": 48,
     "metadata": {},
     "output_type": "execute_result"
    }
   ],
   "source": [
    "la[3:7]"
   ]
  },
  {
   "cell_type": "markdown",
   "metadata": {},
   "source": [
    "We extracted a NEW list  `[80, 60, 10, 40]` from the list `la` starting from index `3` INCLUDED until index `7` EXCLUDED. We can see the original list is preserved:"
   ]
  },
  {
   "cell_type": "code",
   "execution_count": 49,
   "metadata": {},
   "outputs": [
    {
     "data": {
      "text/plain": [
       "[40, 30, 90, 80, 60, 10, 40, 20, 50, 60]"
      ]
     },
     "execution_count": 49,
     "metadata": {},
     "output_type": "execute_result"
    }
   ],
   "source": [
    "la"
   ]
  },
  {
   "cell_type": "markdown",
   "metadata": {},
   "source": [
    "Let's verify what happens with Python Tutor, by assigning the new list to a variable  `lb`:"
   ]
  },
  {
   "cell_type": "code",
   "execution_count": 50,
   "metadata": {},
   "outputs": [
    {
     "data": {
      "text/html": [
       "        \n",
       "        <script src=\"../_static/js/pytutor-embed.bundle.min.js\" type=\"application/javascript\"></script>\n",
       "    \n",
       "        <style>\n",
       "        @import \"../_static/css/jupman.css\";\n",
       "        </style>\n",
       "     \n",
       "        <script id=\"json-jm-fda6a7d9c315190cdc8330753e08bd9d-52\" type=\"application/json\" >\n",
       "            {\"code\": \" \\n#     0  1  2  3  4  5  6  7  8  9\\nla = [40,30,90,80,60,10,40,20,50,60]\\nlb = la[3:7]\", \"trace\": [{\"line\": 3, \"event\": \"step_line\", \"func_name\": \"<module>\", \"globals\": {}, \"ordered_globals\": [], \"stack_to_render\": [], \"heap\": {}, \"stdout\": \"\"}, {\"line\": 4, \"event\": \"step_line\", \"func_name\": \"<module>\", \"globals\": {\"la\": [\"REF\", 1]}, \"ordered_globals\": [\"la\"], \"stack_to_render\": [], \"heap\": {\"1\": [\"LIST\", 40, 30, 90, 80, 60, 10, 40, 20, 50, 60]}, \"stdout\": \"\"}, {\"line\": 4, \"event\": \"return\", \"func_name\": \"<module>\", \"globals\": {\"la\": [\"REF\", 1], \"lb\": [\"REF\", 2]}, \"ordered_globals\": [\"la\", \"lb\"], \"stack_to_render\": [], \"heap\": {\"1\": [\"LIST\", 40, 30, 90, 80, 60, 10, 40, 20, 50, 60], \"2\": [\"LIST\", 80, 60, 10, 40]}, \"stdout\": \"\"}]}\n",
       "        </script>\n",
       "        <div id=\"jm-fda6a7d9c315190cdc8330753e08bd9d-52\" class=\"pytutorVisualizer\"> </div>\n",
       "                        \n",
       "        <script>\n",
       "        \n",
       "        (function(){\n",
       "            console.log(\"jupman.py embedded javascript: adding Python tutor visualizer...\")\n",
       "            \n",
       "            var trace = JSON.parse(document.getElementById('json-jm-fda6a7d9c315190cdc8330753e08bd9d-52').innerHTML);                                        \n",
       "            // NOTE: id without #\n",
       "                    \n",
       "            addVisualizerToPage(trace, 'jm-fda6a7d9c315190cdc8330753e08bd9d-52',{'embeddedMode' : false,\n",
       "                                             'disableHeapNesting': true,\n",
       "                                             'visualizerIdOverride':'viz-jm-fda6a7d9c315190cdc8330753e08bd9d-52'})  \n",
       "            \n",
       "            \n",
       "            // set overflow for pytuts - need to do in python as css \n",
       "            // does not allow parent selection\n",
       "            var pytuts = $('.pytutorVisualizer')\n",
       "            pytuts.closest('div.output_html.rendered_html.output_result')\n",
       "                    .css('overflow-x', 'visible')\n",
       "        \n",
       "            //pytuts.closest('div.output_html.rendered_html.output_result')\n",
       "            //      .css('background-color','red')                \n",
       "            \n",
       "        })()\n",
       "        </script>\n",
       "                \n",
       "    \n",
       "    <div style=\"text-align:center; font-size:0.9em\"> <a href=\"https://pythontutor.com/visualize.html#mode=edit\" target=\"_blank\">Python Tutor</a> visualization</div> \n",
       "    "
      ],
      "text/plain": [
       "<IPython.core.display.HTML object>"
      ]
     },
     "execution_count": 50,
     "metadata": {},
     "output_type": "execute_result"
    }
   ],
   "source": [
    "#     0  1  2  3  4  5  6  7  8  9\n",
    "la = [40,30,90,80,60,10,40,20,50,60]\n",
    "lb = la[3:7]\n",
    "\n",
    "jupman.pytut()"
   ]
  },
  {
   "cell_type": "markdown",
   "metadata": {},
   "source": [
    "You will notice a NEW memory region, associated to variable `lb`."
   ]
  },
  {
   "cell_type": "markdown",
   "metadata": {},
   "source": [
    "### Slice - limits\n",
    "\n",
    "When we operate with slices we must be careful about indeces limits. Let's see how they behave:"
   ]
  },
  {
   "cell_type": "code",
   "execution_count": 51,
   "metadata": {},
   "outputs": [
    {
     "data": {
      "text/plain": [
       "[50, 90, 70]"
      ]
     },
     "execution_count": 51,
     "metadata": {},
     "output_type": "execute_result"
    }
   ],
   "source": [
    "#0  1  2  3  4  \n",
    "[50,90,70,80,60][0:3]  # from index 0 *included* to 3 *excluded*"
   ]
  },
  {
   "cell_type": "code",
   "execution_count": 52,
   "metadata": {},
   "outputs": [
    {
     "data": {
      "text/plain": [
       "[50, 90, 70, 80]"
      ]
     },
     "execution_count": 52,
     "metadata": {},
     "output_type": "execute_result"
    }
   ],
   "source": [
    "#0  1  2  3  4  \n",
    "[50,90,70,80,60][0:4]  # from index 0 *included* a 4 *excluded*"
   ]
  },
  {
   "cell_type": "code",
   "execution_count": 53,
   "metadata": {},
   "outputs": [
    {
     "data": {
      "text/plain": [
       "[50, 90, 70, 80, 60]"
      ]
     },
     "execution_count": 53,
     "metadata": {},
     "output_type": "execute_result"
    }
   ],
   "source": [
    "#0  1  2  3  4  \n",
    "[50,90,70,80,60][0:5]  # from index 0 *included* to 5 *excluded*"
   ]
  },
  {
   "cell_type": "code",
   "execution_count": 54,
   "metadata": {},
   "outputs": [
    {
     "data": {
      "text/plain": [
       "[50, 90, 70, 80, 60]"
      ]
     },
     "execution_count": 54,
     "metadata": {},
     "output_type": "execute_result"
    }
   ],
   "source": [
    "#0  1  2  3  4  \n",
    "[50,90,70,80,60][0:6]   # if we go beyond the list length Python does not complain"
   ]
  },
  {
   "cell_type": "code",
   "execution_count": 55,
   "metadata": {},
   "outputs": [
    {
     "data": {
      "text/plain": [
       "[]"
      ]
     },
     "execution_count": 55,
     "metadata": {},
     "output_type": "execute_result"
    }
   ],
   "source": [
    "#0  1  2  3  4  \n",
    "[50,90,70,80,60][8:12] # Python doesn't complain even if we start from non-existing indeces "
   ]
  },
  {
   "cell_type": "markdown",
   "metadata": {},
   "source": [
    "**QUESTION**: This expression:\n",
    "\n",
    "```python\n",
    "[][3:8]\n",
    "```\n",
    "1. produces a result (which one?)\n",
    "2. produces an error (which one?)"
   ]
  },
  {
   "cell_type": "raw",
   "id": "ec76d578",
   "metadata": {
    "format": "text/html"
   },
   "source": [
    "<a  class=\"jupman-sol jupman-sol-toggler\" \n",
    " onclick=\"jupman.toggleSolution(this);\" \n",
    " data-jupman-show=\"Show answer\" data-jupman-hide=\"Hide\">Show answer</a><div class=\"jupman-sol jupman-sol-question\" style=\"display:none\">  "
   ]
  },
  {
   "cell_type": "markdown",
   "metadata": {},
   "source": [
    "**ANSWER**: given an empty list, we are trying yo create a sublist which goes from index `3` INCLUDED to index `8` EXCLUDED. As we've seen before, if we start after the limit and also if we go beyond the limit Python does not complain, and when elements are not found we are simply served with an empty list."
   ]
  },
  {
   "cell_type": "raw",
   "id": "25afe403",
   "metadata": {
    "format": "text/html"
   },
   "source": [
    "</div>"
   ]
  },
  {
   "cell_type": "markdown",
   "metadata": {},
   "source": [
    "**QUESTION**: if `x` is some list (may also empty), what does this expression do? Can it give an error? Does it return something useful?\n",
    "\n",
    "```python\n",
    "x[0:len(x)]\n",
    "```"
   ]
  },
  {
   "cell_type": "raw",
   "id": "4e3379dd",
   "metadata": {
    "format": "text/html"
   },
   "source": [
    "<a  class=\"jupman-sol jupman-sol-toggler\" \n",
    " onclick=\"jupman.toggleSolution(this);\" \n",
    " data-jupman-show=\"Show answer\" data-jupman-hide=\"Hide\">Show answer</a><div class=\"jupman-sol jupman-sol-question\" style=\"display:none\">  "
   ]
  },
  {
   "cell_type": "markdown",
   "metadata": {},
   "source": [
    "**ANSWER**: Always return a NEW copy of the entire list, because it starts from index 0 _INCLUDED_ and ends at index `len(x)` _EXCLUDED_.\n",
    "\n",
    "It also works with the empty list, because `[][0:len([])]` is equivalent to `[][0:0]` that is sublist from 0 _included_ to 0 _excluded,_ so we are not taking any character and are not going beyod list limits. In fact, as we've seen before, even if we went beyond Python wouldn't complain."
   ]
  },
  {
   "cell_type": "raw",
   "id": "2d1b3d93",
   "metadata": {
    "format": "text/html"
   },
   "source": [
    "</div>"
   ]
  },
  {
   "cell_type": "markdown",
   "metadata": {},
   "source": [
    "### Exercise - The 'treccia mochena'\n",
    "\n",
    "As you well know, a wonderful pastry is made in the Mocheni valley in Trentino: the famous 'treccia mochena'.\n",
    "\n",
    "\n",
    "At a quick glance, it may look like a braid loaf, between 30 and 60 cm long with inside a mix of ingredients along a marvellous and secret cream.\n",
    "\n",
    "With your friends Camilla and Giorgio, you bought a treccia divided in a certain number of portions stuffed with `walnuts`, `bluberries` and red `currants`.\n",
    "\n",
    "\n",
    "```python\n",
    "treccia = ['w', 'w', 'w', 'w', 'w', 'b', 'b', 'b', 'b', 'b', 'b', 'c', 'c', 'c', 'c']\n",
    "```\n",
    "```python\n",
    "walnuts,bluberries,currants  = 5,6,4\n",
    "```\n",
    "\n",
    "You like the bluberries, Giorgio likes walnuts and Camilla the red currants.\n",
    "\n",
    "Write some code to place into variables `mine`, `giorgio` and `camilla` some lists obtained from `treccia`, and PRINT the result:\n",
    "\n",
    "```python\n",
    "   Mine: ['b', 'b', 'b', 'b', 'b', 'b'] \n",
    "Giorgio: ['w', 'w', 'w', 'w', 'w'] \n",
    "Camilla: ['c', 'c', 'c', 'c']\n",
    "```\n",
    "\n",
    "* suppose `treccia` has always only 3 ingredients\n",
    "* **DO NOT** write constant numbers (except `0`)"
   ]
  },
  {
   "cell_type": "raw",
   "id": "c14f2807",
   "metadata": {
    "format": "text/html"
   },
   "source": [
    "<a  class=\"jupman-sol jupman-sol-toggler\" \n",
    " onclick=\"jupman.toggleSolution(this);\" \n",
    " data-jupman-show=\"Show solution\" data-jupman-hide=\"Hide\">Show solution</a><div class=\"jupman-sol jupman-sol-code\" style=\"display:none\">  "
   ]
  },
  {
   "cell_type": "code",
   "execution_count": 56,
   "metadata": {},
   "outputs": [
    {
     "name": "stdout",
     "output_type": "stream",
     "text": [
      "   Mine: ['b', 'b', 'b', 'b', 'b', 'b'] \n",
      "Giorgio: ['w', 'w', 'w', 'w', 'w'] \n",
      "Camilla: ['c', 'c', 'c', 'c']\n"
     ]
    }
   ],
   "source": [
    "\n",
    "\n",
    "#                                             Walnuts                  Bluberries                    Currants\n",
    "walnuts,bluberries,currants,treccia  = 5,6,4,['w', 'w', 'w', 'w', 'w', 'b', 'b', 'b', 'b', 'b', 'b', 'c', 'c', 'c', 'c']\n",
    "#walnuts,bluberries,currants,treccia = 2,4,3,['W', 'W', 'B', 'B', 'B', 'B', 'C', 'C', 'C']\n",
    "\n",
    "# write here\n",
    "mine = treccia[walnuts : walnuts+bluberries]\n",
    "giorgio = treccia[0 : walnuts]\n",
    "camilla = treccia[walnuts+bluberries : walnuts+bluberries+currants]\n",
    "print(\"   Mine: %s \\nGiorgio: %s \\nCamilla: %s\" % (mine, giorgio, camilla))"
   ]
  },
  {
   "cell_type": "raw",
   "id": "d444a111",
   "metadata": {
    "format": "text/html"
   },
   "source": [
    "</div>"
   ]
  },
  {
   "cell_type": "code",
   "execution_count": 56,
   "metadata": {},
   "outputs": [],
   "source": [
    "\n",
    "\n",
    "#                                             Walnuts                  Bluberries                    Currants\n",
    "walnuts,bluberries,currants,treccia  = 5,6,4,['w', 'w', 'w', 'w', 'w', 'b', 'b', 'b', 'b', 'b', 'b', 'c', 'c', 'c', 'c']\n",
    "#walnuts,bluberries,currants,treccia = 2,4,3,['W', 'W', 'B', 'B', 'B', 'B', 'C', 'C', 'C']\n",
    "\n",
    "# write here\n",
    "\n"
   ]
  },
  {
   "cell_type": "markdown",
   "metadata": {},
   "source": [
    "### Slices - omitting limits"
   ]
  },
  {
   "cell_type": "markdown",
   "metadata": {},
   "source": [
    "If we will, it's possible to omit start index, in which case Python will suppose it's  `0`:"
   ]
  },
  {
   "cell_type": "code",
   "execution_count": 57,
   "metadata": {},
   "outputs": [
    {
     "data": {
      "text/plain": [
       "[90, 60, 80]"
      ]
     },
     "execution_count": 57,
     "metadata": {},
     "output_type": "execute_result"
    }
   ],
   "source": [
    "#0  1  2  3  4  5  6  7  8  9\n",
    "[90,60,80,70,60,90,60,50,70][:3]"
   ]
  },
  {
   "cell_type": "markdown",
   "metadata": {},
   "source": [
    "It's also possible to omit the end index, in this case Python will extract elements until the list end:"
   ]
  },
  {
   "cell_type": "code",
   "execution_count": 58,
   "metadata": {},
   "outputs": [
    {
     "data": {
      "text/plain": [
       "[70, 60, 90, 60, 50, 70]"
      ]
     },
     "execution_count": 58,
     "metadata": {},
     "output_type": "execute_result"
    }
   ],
   "source": [
    "#0  1  2  3  4  5  6  7  8  9\n",
    "[90,60,80,70,60,90,60,50,70][3:]"
   ]
  },
  {
   "cell_type": "markdown",
   "metadata": {},
   "source": [
    "By omitting both indexes we obtain the full list:"
   ]
  },
  {
   "cell_type": "code",
   "execution_count": 59,
   "metadata": {},
   "outputs": [
    {
     "data": {
      "text/plain": [
       "[90, 60, 80, 70, 60, 90, 60, 50, 70]"
      ]
     },
     "execution_count": 59,
     "metadata": {},
     "output_type": "execute_result"
    }
   ],
   "source": [
    "#0  1  2  3  4  5  6  7  8  9\n",
    "[90,60,80,70,60,90,60,50,70][:]"
   ]
  },
  {
   "cell_type": "markdown",
   "metadata": {},
   "source": [
    "**QUESTION**: What is this code going to print? Will `la` get modified or not?\n",
    "\n",
    "```python\n",
    "la = [7,8,9]\n",
    "lb = la[:]\n",
    "lb[0] = 6\n",
    "print('la =',la)\n",
    "print('lb =',lb)\n",
    "```"
   ]
  },
  {
   "cell_type": "raw",
   "id": "3a781f7e",
   "metadata": {
    "format": "text/html"
   },
   "source": [
    "<a  class=\"jupman-sol jupman-sol-toggler\" \n",
    " onclick=\"jupman.toggleSolution(this);\" \n",
    " data-jupman-show=\"Show answer\" data-jupman-hide=\"Hide\">Show answer</a><div class=\"jupman-sol jupman-sol-question\" style=\"display:none\">  "
   ]
  },
  {
   "cell_type": "markdown",
   "metadata": {},
   "source": [
    "**ANSWER**: `lb = la[:]` creates a NEW list containing all the elements which are in `la`. When we write  `lb[0] = 6` we are only modifying the memory region associated to `lb`. If you observe it in Python Tutor, you will see that `la` and `lb` are pointing to different memory regions:"
   ]
  },
  {
   "cell_type": "raw",
   "id": "6caaf1dd",
   "metadata": {
    "format": "text/html"
   },
   "source": [
    "</div>"
   ]
  },
  {
   "cell_type": "code",
   "execution_count": 60,
   "metadata": {},
   "outputs": [
    {
     "data": {
      "text/html": [
       "        \n",
       "        <script src=\"../_static/js/pytutor-embed.bundle.min.js\" type=\"application/javascript\"></script>\n",
       "    \n",
       "        <style>\n",
       "        @import \"../_static/css/jupman.css\";\n",
       "        </style>\n",
       "     \n",
       "        <script id=\"json-jm-11afcea6c53118379b53c3cfe7112db9-62\" type=\"application/json\" >\n",
       "            {\"code\": \" \\nla = [7,8,9]\\nlb = la[:]\\nlb[0] = 6\\n#print('la =',la)\\n#print('lb =',lb)\", \"trace\": [{\"line\": 2, \"event\": \"step_line\", \"func_name\": \"<module>\", \"globals\": {}, \"ordered_globals\": [], \"stack_to_render\": [], \"heap\": {}, \"stdout\": \"\"}, {\"line\": 3, \"event\": \"step_line\", \"func_name\": \"<module>\", \"globals\": {\"la\": [\"REF\", 1]}, \"ordered_globals\": [\"la\"], \"stack_to_render\": [], \"heap\": {\"1\": [\"LIST\", 7, 8, 9]}, \"stdout\": \"\"}, {\"line\": 4, \"event\": \"step_line\", \"func_name\": \"<module>\", \"globals\": {\"la\": [\"REF\", 1], \"lb\": [\"REF\", 2]}, \"ordered_globals\": [\"la\", \"lb\"], \"stack_to_render\": [], \"heap\": {\"1\": [\"LIST\", 7, 8, 9], \"2\": [\"LIST\", 7, 8, 9]}, \"stdout\": \"\"}, {\"line\": 4, \"event\": \"return\", \"func_name\": \"<module>\", \"globals\": {\"la\": [\"REF\", 1], \"lb\": [\"REF\", 2]}, \"ordered_globals\": [\"la\", \"lb\"], \"stack_to_render\": [], \"heap\": {\"1\": [\"LIST\", 7, 8, 9], \"2\": [\"LIST\", 6, 8, 9]}, \"stdout\": \"\"}]}\n",
       "        </script>\n",
       "        <div id=\"jm-11afcea6c53118379b53c3cfe7112db9-62\" class=\"pytutorVisualizer\"> </div>\n",
       "                        \n",
       "        <script>\n",
       "        \n",
       "        (function(){\n",
       "            console.log(\"jupman.py embedded javascript: adding Python tutor visualizer...\")\n",
       "            \n",
       "            var trace = JSON.parse(document.getElementById('json-jm-11afcea6c53118379b53c3cfe7112db9-62').innerHTML);                                        \n",
       "            // NOTE: id without #\n",
       "                    \n",
       "            addVisualizerToPage(trace, 'jm-11afcea6c53118379b53c3cfe7112db9-62',{'embeddedMode' : false,\n",
       "                                             'disableHeapNesting': true,\n",
       "                                             'visualizerIdOverride':'viz-jm-11afcea6c53118379b53c3cfe7112db9-62'})  \n",
       "            \n",
       "            \n",
       "            // set overflow for pytuts - need to do in python as css \n",
       "            // does not allow parent selection\n",
       "            var pytuts = $('.pytutorVisualizer')\n",
       "            pytuts.closest('div.output_html.rendered_html.output_result')\n",
       "                    .css('overflow-x', 'visible')\n",
       "        \n",
       "            //pytuts.closest('div.output_html.rendered_html.output_result')\n",
       "            //      .css('background-color','red')                \n",
       "            \n",
       "        })()\n",
       "        </script>\n",
       "                \n",
       "    \n",
       "    <div style=\"text-align:center; font-size:0.9em\"> <a href=\"https://pythontutor.com/visualize.html#mode=edit\" target=\"_blank\">Python Tutor</a> visualization</div> \n",
       "    "
      ],
      "text/plain": [
       "<IPython.core.display.HTML object>"
      ]
     },
     "execution_count": 60,
     "metadata": {},
     "output_type": "execute_result"
    }
   ],
   "source": [
    "la = [7,8,9]\n",
    "lb = la[:]\n",
    "lb[0] = 6\n",
    "#print('la =',la)\n",
    "#print('lb =',lb)\n",
    "\n",
    "jupman.pytut()"
   ]
  },
  {
   "cell_type": "markdown",
   "metadata": {},
   "source": [
    "**QUESTION**: For each of the following expressions, try guessing which value it produces, or if it gives an error.\n",
    "\n",
    "1.  ```python    \n",
    "    [9,7,8,6][1:1]\n",
    "    ```\n",
    "1.  ```python    \n",
    "    [9,7,8,6][1:2]\n",
    "    ```\n",
    "1.  ```python    \n",
    "    [9,7,8,6][2:3][0]\n",
    "    ```\n",
    "1.  ```python\n",
    "    [][]\n",
    "    ```\n",
    "1.  ```python\n",
    "    [][:]\n",
    "    ```\n",
    "1.  ```python\n",
    "    [3][:]\n",
    "    ```\n",
    "1.  ```python    \n",
    "    [:][]\n",
    "    ```"
   ]
  },
  {
   "cell_type": "markdown",
   "metadata": {},
   "source": [
    "### Exercise - An out of tune guitar\n",
    "\n",
    "In the attic you found an old guitar which was around when you were a child. Now that you have a degree in Sound Engineering you try playing it while a sensor measures the notes it produces.\n",
    "\n",
    "The sensor is a microphone, and each one tenth of second it records the main note it detected.\n",
    "\n",
    "You discover this phenomena: when played, some guitar strings have an oscillating behaviour, but then they synthonize on a precise note until the end:\n",
    "\n",
    "```python    \n",
    "'D', 'A', 'F', 'E', 'B', 'G', 'B', 'F', 'F', 'F', 'F', 'F', 'F', 'F', '...'\n",
    "```"
   ]
  },
  {
   "cell_type": "markdown",
   "metadata": {},
   "source": [
    "Other strings do the opposite:\n",
    "\n",
    "```python\n",
    "'C', 'C', 'C', 'C', 'C', 'D', 'G', 'F', 'B', 'B', 'C', 'B', '...'\n",
    "```\n",
    "\n",
    "A list `cutoffs`  records for each string the instants in which the weird behaviour starts or ends. The instants are represented as a sequence of beats `'*'`, for example the first string starts an anomalous behaviour after 5 beats:  `'*****'`, while the seconds ends the anomalous behaviour after 7 beats: `'*******'`\n",
    "\n",
    "Write some code to cut the sensor output and obtain only the sequences of continuous and correct notes. In the end, it should PRINT:\n",
    "\n",
    "```python\n",
    "['C', 'C', 'C', 'C', 'C']\n",
    "['F', 'F', 'F', 'F', 'F', 'F', 'F', '...']\n",
    "['D', 'D', 'D', 'D', 'D', 'D', '...']\n",
    "['G', 'G', 'G', 'G']\n",
    "```\n",
    "\n",
    "* **DO NOT** write constant numbers of instants in the code, instead, use the variable `cutoffs`"
   ]
  },
  {
   "cell_type": "raw",
   "id": "60e1427d",
   "metadata": {
    "format": "text/html"
   },
   "source": [
    "<a  class=\"jupman-sol jupman-sol-toggler\" \n",
    " onclick=\"jupman.toggleSolution(this);\" \n",
    " data-jupman-show=\"Show solution\" data-jupman-hide=\"Hide\">Show solution</a><div class=\"jupman-sol jupman-sol-code\" style=\"display:none\">  "
   ]
  },
  {
   "cell_type": "code",
   "execution_count": 61,
   "metadata": {},
   "outputs": [
    {
     "name": "stdout",
     "output_type": "stream",
     "text": [
      "['C', 'C', 'C', 'C', 'C']\n",
      "['F', 'F', 'F', 'F', 'F', 'F', 'F', '...']\n",
      "['D', 'D', 'D', 'D', 'D', 'D', '...']\n",
      "['G', 'G', 'G', 'G']\n"
     ]
    }
   ],
   "source": [
    "\n",
    "\n",
    "cutoffs = ['*****',\n",
    "           '*******',         \n",
    "           '***',\n",
    "           '****',]\n",
    "\n",
    "string1 = ['C', 'C', 'C', 'C', 'C', 'D', 'G', 'F', 'B', 'B', 'C', 'B', '...']\n",
    "string2 = ['D', 'A', 'F', 'E', 'B', 'G', 'B', 'F', 'F', 'F', 'F', 'F', 'F', 'F', '...']\n",
    "string3 = ['B', 'E', 'G', 'D', 'D', 'D', 'D', 'D', 'D', '...']\n",
    "string4 = ['G', 'G', 'G', 'G', 'D', 'D', 'A', 'A', 'B', 'F', 'B', '...']\n",
    "\n",
    "# write here\n",
    "string1_clean = string1[:len(cutoffs[0])]\n",
    "string2_clean = string2[len(cutoffs[1]):]\n",
    "string3_clean = string3[len(cutoffs[2]):]\n",
    "string4_clean = string4[:len(cutoffs[3])]\n",
    "\n",
    "print(string1_clean)\n",
    "print(string2_clean)\n",
    "print(string3_clean)\n",
    "print(string4_clean)"
   ]
  },
  {
   "cell_type": "raw",
   "id": "120636e9",
   "metadata": {
    "format": "text/html"
   },
   "source": [
    "</div>"
   ]
  },
  {
   "cell_type": "code",
   "execution_count": 61,
   "metadata": {},
   "outputs": [],
   "source": [
    "\n",
    "\n",
    "cutoffs = ['*****',\n",
    "           '*******',         \n",
    "           '***',\n",
    "           '****',]\n",
    "\n",
    "string1 = ['C', 'C', 'C', 'C', 'C', 'D', 'G', 'F', 'B', 'B', 'C', 'B', '...']\n",
    "string2 = ['D', 'A', 'F', 'E', 'B', 'G', 'B', 'F', 'F', 'F', 'F', 'F', 'F', 'F', '...']\n",
    "string3 = ['B', 'E', 'G', 'D', 'D', 'D', 'D', 'D', 'D', '...']\n",
    "string4 = ['G', 'G', 'G', 'G', 'D', 'D', 'A', 'A', 'B', 'F', 'B', '...']\n",
    "\n",
    "# write here\n",
    "\n"
   ]
  },
  {
   "cell_type": "markdown",
   "metadata": {},
   "source": [
    "### Slices - negative limits\n",
    "\n",
    "It's also  possible to set inverse and negative limits, although it's not always intuitive:"
   ]
  },
  {
   "cell_type": "code",
   "execution_count": 62,
   "metadata": {},
   "outputs": [
    {
     "data": {
      "text/plain": [
       "[]"
      ]
     },
     "execution_count": 62,
     "metadata": {},
     "output_type": "execute_result"
    }
   ],
   "source": [
    "#0  1  2  3  4  5  6    \n",
    "[70,40,10,50,60,10,90][3:0]   # from index 3 to positive indexes <= 3 produces nothing"
   ]
  },
  {
   "cell_type": "code",
   "execution_count": 63,
   "metadata": {},
   "outputs": [
    {
     "data": {
      "text/plain": [
       "[]"
      ]
     },
     "execution_count": 63,
     "metadata": {},
     "output_type": "execute_result"
    }
   ],
   "source": [
    "#0  1  2  3  4  5  6    \n",
    "[70,40,10,50,60,10,90][3:1]  # from index 3 to positive indexes <= 3 produces nothing"
   ]
  },
  {
   "cell_type": "code",
   "execution_count": 64,
   "metadata": {},
   "outputs": [
    {
     "data": {
      "text/plain": [
       "[]"
      ]
     },
     "execution_count": 64,
     "metadata": {},
     "output_type": "execute_result"
    }
   ],
   "source": [
    "#0  1  2  3  4  5  6     \n",
    "[70,40,10,50,60,10,90][3:2]   # from index 3 to positive indexes <= 3 produces nothing"
   ]
  },
  {
   "cell_type": "code",
   "execution_count": 65,
   "metadata": {},
   "outputs": [
    {
     "data": {
      "text/plain": [
       "[]"
      ]
     },
     "execution_count": 65,
     "metadata": {},
     "output_type": "execute_result"
    }
   ],
   "source": [
    "#0  1  2  3  4  5  6     \n",
    "[70,40,10,50,60,10,90][3:3]   # from index 3 to positive indexes <= 3 produces nothing"
   ]
  },
  {
   "cell_type": "markdown",
   "metadata": {},
   "source": [
    "Let's see what happens with negative indexes:"
   ]
  },
  {
   "cell_type": "code",
   "execution_count": 66,
   "metadata": {},
   "outputs": [
    {
     "data": {
      "text/plain": [
       "[50, 60, 10]"
      ]
     },
     "execution_count": 66,
     "metadata": {},
     "output_type": "execute_result"
    }
   ],
   "source": [
    "# 0  1  2  3  4  5  6   \n",
    "#-7 -6 -5 -4 -3 -2 -1   \n",
    "[70,40,10,50,60,10,90][3:-1]"
   ]
  },
  {
   "cell_type": "code",
   "execution_count": 67,
   "metadata": {},
   "outputs": [
    {
     "data": {
      "text/plain": [
       "[50, 60]"
      ]
     },
     "execution_count": 67,
     "metadata": {},
     "output_type": "execute_result"
    }
   ],
   "source": [
    "# 0  1  2  3  4  5  6   \n",
    "#-7 -6 -5 -4 -3 -2 -1   \n",
    "[70,40,10,50,60,10,90][3:-2]"
   ]
  },
  {
   "cell_type": "code",
   "execution_count": 68,
   "metadata": {},
   "outputs": [
    {
     "data": {
      "text/plain": [
       "[50]"
      ]
     },
     "execution_count": 68,
     "metadata": {},
     "output_type": "execute_result"
    }
   ],
   "source": [
    "# 0  1  2  3  4  5  6   \n",
    "#-7 -6 -5 -4 -3 -2 -1   \n",
    "[70,40,10,50,60,10,90][3:-3]"
   ]
  },
  {
   "cell_type": "code",
   "execution_count": 69,
   "metadata": {},
   "outputs": [
    {
     "data": {
      "text/plain": [
       "[]"
      ]
     },
     "execution_count": 69,
     "metadata": {},
     "output_type": "execute_result"
    }
   ],
   "source": [
    "# 0  1  2  3  4  5  6   \n",
    "#-7 -6 -5 -4 -3 -2 -1   \n",
    "[70,40,10,50,60,10,90][3:-4]"
   ]
  },
  {
   "cell_type": "code",
   "execution_count": 70,
   "metadata": {},
   "outputs": [
    {
     "data": {
      "text/plain": [
       "[]"
      ]
     },
     "execution_count": 70,
     "metadata": {},
     "output_type": "execute_result"
    }
   ],
   "source": [
    "# 0  1  2  3  4  5  6   \n",
    "#-7 -6 -5 -4 -3 -2 -1   \n",
    "[70,40,10,50,60,10,90][3:-5]"
   ]
  },
  {
   "cell_type": "markdown",
   "metadata": {},
   "source": [
    "It's also possible to start from a negative index and arrive to a positive one. As long as the first index marks a position which precedes the second index, something gets returned:"
   ]
  },
  {
   "cell_type": "code",
   "execution_count": 71,
   "metadata": {},
   "outputs": [
    {
     "data": {
      "text/plain": [
       "[70, 40, 10]"
      ]
     },
     "execution_count": 71,
     "metadata": {},
     "output_type": "execute_result"
    }
   ],
   "source": [
    "# 0  1  2  3  4  5  6   \n",
    "#-7 -6 -5 -4 -3 -2 -1   \n",
    "[70,40,10,50,60,10,90][-7:3]"
   ]
  },
  {
   "cell_type": "code",
   "execution_count": 72,
   "metadata": {},
   "outputs": [
    {
     "data": {
      "text/plain": [
       "[40, 10]"
      ]
     },
     "execution_count": 72,
     "metadata": {},
     "output_type": "execute_result"
    }
   ],
   "source": [
    "# 0  1  2  3  4  5  6   \n",
    "#-7 -6 -5 -4 -3 -2 -1   \n",
    "[70,40,10,50,60,10,90][-6:3]"
   ]
  },
  {
   "cell_type": "code",
   "execution_count": 73,
   "metadata": {},
   "outputs": [
    {
     "data": {
      "text/plain": [
       "[10]"
      ]
     },
     "execution_count": 73,
     "metadata": {},
     "output_type": "execute_result"
    }
   ],
   "source": [
    "# 0  1  2  3  4  5  6   \n",
    "#-7 -6 -5 -4 -3 -2 -1   \n",
    "[70,40,10,50,60,10,90][-5:3]"
   ]
  },
  {
   "cell_type": "code",
   "execution_count": 74,
   "metadata": {},
   "outputs": [
    {
     "data": {
      "text/plain": [
       "[]"
      ]
     },
     "execution_count": 74,
     "metadata": {},
     "output_type": "execute_result"
    }
   ],
   "source": [
    "# 0  1  2  3  4  5  6   \n",
    "#-7 -6 -5 -4 -3 -2 -1   \n",
    "[70,40,10,50,60,10,90][-4:3]"
   ]
  },
  {
   "cell_type": "code",
   "execution_count": 75,
   "metadata": {},
   "outputs": [
    {
     "data": {
      "text/plain": [
       "[]"
      ]
     },
     "execution_count": 75,
     "metadata": {},
     "output_type": "execute_result"
    }
   ],
   "source": [
    "# 0  1  2  3  4  5  6   \n",
    "#-7 -6 -5 -4 -3 -2 -1   \n",
    "[70,40,10,50,60,10,90][-3:3]"
   ]
  },
  {
   "cell_type": "code",
   "execution_count": 76,
   "metadata": {},
   "outputs": [
    {
     "data": {
      "text/plain": [
       "[]"
      ]
     },
     "execution_count": 76,
     "metadata": {},
     "output_type": "execute_result"
    }
   ],
   "source": [
    "# 0  1  2  3  4  5  6   \n",
    "#-7 -6 -5 -4 -3 -2 -1   \n",
    "[70,40,10,50,60,10,90][-2:3]"
   ]
  },
  {
   "cell_type": "markdown",
   "metadata": {},
   "source": [
    "**QUESTION**: For each of the following expressions, try guessing which value is produced, or if it gives an error\n",
    "\n",
    "1.  ```python\n",
    "    [9,7,8,6][0:-2]\n",
    "    ```\n",
    "1.  ```python    \n",
    "    [0:-2][9,7,8,6]\n",
    "    ```\n",
    "1.  ```python    \n",
    "    [5,7,9][1:-1]\n",
    "    ```\n",
    "1.  ```python\n",
    "    [][-13:-17]\n",
    "    ```\n",
    "1.  ```python    \n",
    "    [9,7,8,6][-4:-1]\n",
    "    ```\n",
    "1.  ```python    \n",
    "    [9,7,8,6][-5:-1]\n",
    "    ```\n",
    "1.  ```python    \n",
    "    [9,7,8,6,10,32][-3:1]\n",
    "    ```\n",
    "1.  ```python    \n",
    "    [9,7,8,6,10,32][-3:5]\n",
    "    ```    "
   ]
  },
  {
   "cell_type": "markdown",
   "metadata": {},
   "source": [
    "### Exercise - The NonsenShop\n",
    "\n",
    "To keep your expenses under control  you want to write a software which tracks everything you buy, and reduce pointless expenses.\n",
    "\n",
    "You just need to take a picture of the receit with the smartphone, and an OCR (Optical Character Recognition) module will automatically read the text.\n",
    "\n",
    "* **all receits** have the same schema: shop name, date, \"Bought items\", 1 row per item, total, thanks.\n",
    "* assume all the receits are always ordered by price\n",
    "\n",
    "1) Write some code to create a NEW list with only the items rows, for example:\n",
    "\n",
    "```python\n",
    "['Green varnish for salad        1,12€',\n",
    " 'Anti-wind lead confetti        4,99€',\n",
    " 'Comb for pythons               12,00€',\n",
    " 'Cigarette lighter for diving   23,00€',\n",
    " 'Transparent home shoes         35,56€']\n",
    "```\n",
    "\n",
    "2) Print the most expensive item like this:\n",
    "\n",
    "```\n",
    "Most expensive item was: Transparent home shoes     \n",
    "                   cost: 35,56€\n",
    "```"
   ]
  },
  {
   "cell_type": "raw",
   "id": "4b75f8ef",
   "metadata": {
    "format": "text/html"
   },
   "source": [
    "<a  class=\"jupman-sol jupman-sol-toggler\" \n",
    " onclick=\"jupman.toggleSolution(this);\" \n",
    " data-jupman-show=\"Show solution\" data-jupman-hide=\"Hide\">Show solution</a><div class=\"jupman-sol jupman-sol-code\" style=\"display:none\">  "
   ]
  },
  {
   "cell_type": "code",
   "execution_count": 77,
   "metadata": {},
   "outputs": [
    {
     "name": "stdout",
     "output_type": "stream",
     "text": [
      "['Green varnish for salad        1,12€',\n",
      " 'Anti-wind lead confetti        4,99€',\n",
      " 'Comb for pythons               12,00€',\n",
      " 'Cigarette lighter for diving   23,00€',\n",
      " 'Transparent home shoes         35,56€']\n",
      "\n",
      "Most expensive item was: Transparent home shoes     \n",
      "                   cost: 35,56€\n"
     ]
    }
   ],
   "source": [
    "\n",
    "receit = [\"NonsenShop\",\n",
    "          \"July 21,  2021 14:54\",\n",
    "          \"Items:\",\n",
    "          \"Green varnish for salad        1,12€\",\n",
    "          \"Anti-wind lead confetti        4,99€\",             \n",
    "          \"Comb for pythons               12,00€\",\n",
    "          \"Cigarette lighter for diving   23,00€\",             \n",
    "          \"Transparent home shoes         35,56€\",             \n",
    "          \"Total                          56,66€\",\n",
    "          \"Thanks for buying our nonsense!\"]\n",
    "\n",
    "#receit = [\"Eleganz\", \n",
    "#          \"January 3 2020 12:53\", \n",
    "#          \"Items:\", \n",
    "#          \"Wedge heels with acquarium and fishes        342,00€\",\n",
    "#          \"'Elvis' suit                                 20.000,00€\",\n",
    "#          \"Total 20.000,342€\",\n",
    "#          \"And now unleash the party animal in you!\"]\n",
    "\n",
    "\n",
    "# write here\n",
    "items = receit[3:-2]\n",
    "last = receit[-3]\n",
    "\n",
    "from pprint import  pprint\n",
    "pprint(items)\n",
    "print()\n",
    "print(\"Most expensive item was:\", last[:-10])\n",
    "print(\"                   cost:\", last[-10:].lstrip())"
   ]
  },
  {
   "cell_type": "raw",
   "id": "cc74edfd",
   "metadata": {
    "format": "text/html"
   },
   "source": [
    "</div>"
   ]
  },
  {
   "cell_type": "code",
   "execution_count": 77,
   "metadata": {},
   "outputs": [],
   "source": [
    "\n",
    "receit = [\"NonsenShop\",\n",
    "          \"July 21,  2021 14:54\",\n",
    "          \"Items:\",\n",
    "          \"Green varnish for salad        1,12€\",\n",
    "          \"Anti-wind lead confetti        4,99€\",             \n",
    "          \"Comb for pythons               12,00€\",\n",
    "          \"Cigarette lighter for diving   23,00€\",             \n",
    "          \"Transparent home shoes         35,56€\",             \n",
    "          \"Total                          56,66€\",\n",
    "          \"Thanks for buying our nonsense!\"]\n",
    "\n",
    "#receit = [\"Eleganz\", \n",
    "#          \"January 3 2020 12:53\", \n",
    "#          \"Items:\", \n",
    "#          \"Wedge heels with acquarium and fishes        342,00€\",\n",
    "#          \"'Elvis' suit                                 20.000,00€\",\n",
    "#          \"Total 20.000,342€\",\n",
    "#          \"And now unleash the party animal in you!\"]\n",
    "\n",
    "\n",
    "# write here\n",
    "\n"
   ]
  },
  {
   "cell_type": "markdown",
   "metadata": {},
   "source": [
    "### Slice - step\n",
    "\n",
    "It's also possible to specify a third parameter called 'step' to tell Python how many cells to skip at each read. For example, here we start from index 3 and arrive to index 9 excluded, **skipping by 2**:"
   ]
  },
  {
   "cell_type": "code",
   "execution_count": 78,
   "metadata": {},
   "outputs": [
    {
     "data": {
      "text/plain": [
       "[30, 50, 70]"
      ]
     },
     "execution_count": 78,
     "metadata": {},
     "output_type": "execute_result"
    }
   ],
   "source": [
    "# 0 1  2  3  4  5  6  7  8  9\n",
    "[ 0,10,20,30,40,50,60,70,80,90][3:9:2]"
   ]
  },
  {
   "cell_type": "markdown",
   "metadata": {},
   "source": [
    "All the sequence, skipping by 3:"
   ]
  },
  {
   "cell_type": "code",
   "execution_count": 79,
   "metadata": {},
   "outputs": [
    {
     "data": {
      "text/plain": [
       "[0, 30, 60, 90]"
      ]
     },
     "execution_count": 79,
     "metadata": {},
     "output_type": "execute_result"
    }
   ],
   "source": [
    "# 0 1  2  3  4  5  6  7  8  9\n",
    "[ 0,10,20,30,40,50,60,70,80,90][0:10:3]"
   ]
  },
  {
   "cell_type": "markdown",
   "metadata": {},
   "source": [
    "We can also omit the limits to obtain the equivalent expression:"
   ]
  },
  {
   "cell_type": "code",
   "execution_count": 80,
   "metadata": {},
   "outputs": [
    {
     "data": {
      "text/plain": [
       "[0, 30, 60, 90]"
      ]
     },
     "execution_count": 80,
     "metadata": {},
     "output_type": "execute_result"
    }
   ],
   "source": [
    "# 0 1  2  3  4  5  6  7  8  9\n",
    "[ 0,10,20,30,40,50,60,70,80,90][::3]"
   ]
  },
  {
   "cell_type": "markdown",
   "metadata": {},
   "source": [
    "### Slices - modifying\n",
    "\n",
    "Suppose we have the list"
   ]
  },
  {
   "cell_type": "code",
   "execution_count": 81,
   "metadata": {},
   "outputs": [],
   "source": [
    "     #0  1  2  3  4  5  6  7\n",
    "la = [30,40,80,10,70,60,40,20]"
   ]
  },
  {
   "cell_type": "markdown",
   "metadata": {},
   "source": [
    "and we want to change `la` cells from index `3` INCLUDED to index `6` EXCLUDED in such a way they contain the numbers taken from list `[91,92,93]`. We can do it with this special notation which allows us to write a slice _to the left_ of operator `=`:"
   ]
  },
  {
   "cell_type": "code",
   "execution_count": 82,
   "metadata": {},
   "outputs": [],
   "source": [
    "la[3:6] = [91,92,93]"
   ]
  },
  {
   "cell_type": "code",
   "execution_count": 83,
   "metadata": {},
   "outputs": [
    {
     "data": {
      "text/plain": [
       "[30, 40, 80, 91, 92, 93, 40, 20]"
      ]
     },
     "execution_count": 83,
     "metadata": {},
     "output_type": "execute_result"
    }
   ],
   "source": [
    "la"
   ]
  },
  {
   "cell_type": "markdown",
   "metadata": {},
   "source": [
    "In this slightly more complex example we verify in Python Tutor that the original memory region gets actually modifyied:"
   ]
  },
  {
   "cell_type": "code",
   "execution_count": 84,
   "metadata": {
    "scrolled": true
   },
   "outputs": [
    {
     "data": {
      "text/html": [
       "        \n",
       "        <script src=\"../_static/js/pytutor-embed.bundle.min.js\" type=\"application/javascript\"></script>\n",
       "    \n",
       "        <style>\n",
       "        @import \"../_static/css/jupman.css\";\n",
       "        </style>\n",
       "     \n",
       "        <script id=\"json-jm-fdfecfbda7c87160c9ac222670d60c06-86\" type=\"application/json\" >\n",
       "            {\"code\": \" \\n#     0  1  2  3  4  5  6  7\\nla = [30,40,80,10,70,60,40,20]\\nlb = la \\nlb[3:6] = [91,92,93]\", \"trace\": [{\"line\": 3, \"event\": \"step_line\", \"func_name\": \"<module>\", \"globals\": {}, \"ordered_globals\": [], \"stack_to_render\": [], \"heap\": {}, \"stdout\": \"\"}, {\"line\": 4, \"event\": \"step_line\", \"func_name\": \"<module>\", \"globals\": {\"la\": [\"REF\", 1]}, \"ordered_globals\": [\"la\"], \"stack_to_render\": [], \"heap\": {\"1\": [\"LIST\", 30, 40, 80, 10, 70, 60, 40, 20]}, \"stdout\": \"\"}, {\"line\": 5, \"event\": \"step_line\", \"func_name\": \"<module>\", \"globals\": {\"la\": [\"REF\", 1], \"lb\": [\"REF\", 1]}, \"ordered_globals\": [\"la\", \"lb\"], \"stack_to_render\": [], \"heap\": {\"1\": [\"LIST\", 30, 40, 80, 10, 70, 60, 40, 20]}, \"stdout\": \"\"}, {\"line\": 5, \"event\": \"return\", \"func_name\": \"<module>\", \"globals\": {\"la\": [\"REF\", 1], \"lb\": [\"REF\", 1]}, \"ordered_globals\": [\"la\", \"lb\"], \"stack_to_render\": [], \"heap\": {\"1\": [\"LIST\", 30, 40, 80, 91, 92, 93, 40, 20]}, \"stdout\": \"\"}]}\n",
       "        </script>\n",
       "        <div id=\"jm-fdfecfbda7c87160c9ac222670d60c06-86\" class=\"pytutorVisualizer\"> </div>\n",
       "                        \n",
       "        <script>\n",
       "        \n",
       "        (function(){\n",
       "            console.log(\"jupman.py embedded javascript: adding Python tutor visualizer...\")\n",
       "            \n",
       "            var trace = JSON.parse(document.getElementById('json-jm-fdfecfbda7c87160c9ac222670d60c06-86').innerHTML);                                        \n",
       "            // NOTE: id without #\n",
       "                    \n",
       "            addVisualizerToPage(trace, 'jm-fdfecfbda7c87160c9ac222670d60c06-86',{'embeddedMode' : false,\n",
       "                                             'disableHeapNesting': true,\n",
       "                                             'visualizerIdOverride':'viz-jm-fdfecfbda7c87160c9ac222670d60c06-86'})  \n",
       "            \n",
       "            \n",
       "            // set overflow for pytuts - need to do in python as css \n",
       "            // does not allow parent selection\n",
       "            var pytuts = $('.pytutorVisualizer')\n",
       "            pytuts.closest('div.output_html.rendered_html.output_result')\n",
       "                    .css('overflow-x', 'visible')\n",
       "        \n",
       "            //pytuts.closest('div.output_html.rendered_html.output_result')\n",
       "            //      .css('background-color','red')                \n",
       "            \n",
       "        })()\n",
       "        </script>\n",
       "                \n",
       "    \n",
       "    <div style=\"text-align:center; font-size:0.9em\"> <a href=\"https://pythontutor.com/visualize.html#mode=edit\" target=\"_blank\">Python Tutor</a> visualization</div> \n",
       "    "
      ],
      "text/plain": [
       "<IPython.core.display.HTML object>"
      ]
     },
     "execution_count": 84,
     "metadata": {},
     "output_type": "execute_result"
    }
   ],
   "source": [
    "#     0  1  2  3  4  5  6  7\n",
    "la = [30,40,80,10,70,60,40,20]\n",
    "lb = la \n",
    "lb[3:6] = [91,92,93]\n",
    "\n",
    "jupman.pytut()"
   ]
  },
  {
   "cell_type": "markdown",
   "metadata": {},
   "source": [
    "**QUESTION**: Look at the following code - what does it produce?\n",
    "\n",
    "```python\n",
    "la = [9,6,5,8,2]\n",
    "la[1:4] = [4,7,0]\n",
    "print(la)\n",
    "```\n",
    "\n",
    "1. modify `la` (how?)\n",
    "2. an error (which one?)"
   ]
  },
  {
   "cell_type": "raw",
   "id": "bd156958",
   "metadata": {
    "format": "text/html"
   },
   "source": [
    "<a  class=\"jupman-sol jupman-sol-toggler\" \n",
    " onclick=\"jupman.toggleSolution(this);\" \n",
    " data-jupman-show=\"Show answer\" data-jupman-hide=\"Hide\">Show answer</a><div class=\"jupman-sol jupman-sol-question\" style=\"display:none\">  "
   ]
  },
  {
   "cell_type": "markdown",
   "metadata": {},
   "source": [
    "**ANSWER**:  1 - MODIFIES `la` like this:\n",
    "\n",
    "```python\n",
    "# 0  1  2  3  4\n",
    "[ 9, 4, 7, 0, 2]\n",
    "```\n",
    "\n",
    "so from index `1` INCLUDED to index `4` EXCLUDED"
   ]
  },
  {
   "cell_type": "raw",
   "id": "32ab0e5a",
   "metadata": {
    "format": "text/html"
   },
   "source": [
    "</div>"
   ]
  },
  {
   "cell_type": "markdown",
   "metadata": {},
   "source": [
    "**QUESTION**: Look at the following code. What does it produce?\n",
    "\n",
    "```python\n",
    "la = [7,6,8,4,2,4,2,3,1]\n",
    "i = 3\n",
    "lb = la[0:i]\n",
    "la[i:2*i] = lb\n",
    "print(la)\n",
    "```\n",
    "\n",
    "1. modifies `la` (how?)\n",
    "2. an error (which one?)"
   ]
  },
  {
   "cell_type": "raw",
   "id": "3288a001",
   "metadata": {
    "format": "text/html"
   },
   "source": [
    "<a  class=\"jupman-sol jupman-sol-toggler\" \n",
    " onclick=\"jupman.toggleSolution(this);\" \n",
    " data-jupman-show=\"Show answer\" data-jupman-hide=\"Hide\">Show answer</a><div class=\"jupman-sol jupman-sol-question\" style=\"display:none\">  "
   ]
  },
  {
   "cell_type": "markdown",
   "metadata": {},
   "source": [
    "**ANSWER**: 1 - modifies `la` by copying first `i` cells into successive ones."
   ]
  },
  {
   "cell_type": "raw",
   "id": "2ae6974c",
   "metadata": {
    "format": "text/html"
   },
   "source": [
    "</div>"
   ]
  },
  {
   "cell_type": "markdown",
   "metadata": {},
   "source": [
    "### Exercise - The railway outlaws"
   ]
  },
  {
   "cell_type": "markdown",
   "metadata": {},
   "source": [
    "![ferrovia](img/railroad-outlaws.png)\n"
   ]
  },
  {
   "cell_type": "markdown",
   "metadata": {},
   "source": [
    "United States - May 13th, 1857\n",
    "\n",
    "The colonization of the West is a hard job but somebody gotta do it. Mountains are stuffed with rare minerals and cute animals to be transformed into precious fur coats for noblewomans of Europe. As always, with great wealth come great outlaws.\n",
    "\n",
    "You are the station master of Denver and you must manage the trains. There are three main lines, Colorado Springs, Fort Collins e New York:\n",
    "\n",
    "* from Colorado Springs always arrive exactly 1 wagon of coal, 3 of minerals and 3 of passengers **alternated**.\n",
    "* from Fort Collins always arrive exactly 2 wagons of coal, 2 of passengers and 2 of cattle\n",
    "\n",
    "When trains reach Denver, their content is transfered into the empty wagons of the New York train like this:\n",
    "\n",
    "* to prevent robberies, all the precious wagons   are to be positioned **nearby the locomotive**\n",
    "* the cattle is to be placed **always behind passengers**, because as much as hygiene in the west is lacking, it's still easier to pretend humans bathe more than cattle\n",
    "\n",
    "Write some code which MODIFIES the ORIGINAL memory region of `new_york` list by copying the strings from `colorado` and `fort`\n",
    "\n",
    "* **MINIMIZE the number of assignments!** (the best solution with just slices has only has three assignments!)\n",
    "* **DO NOT** write constant strings in your code (so no `\"cowboy\"`, `\"gold\"`, ...)\n",
    "\n",
    "Example - given:"
   ]
  },
  {
   "cell_type": "code",
   "execution_count": 85,
   "metadata": {},
   "outputs": [],
   "source": [
    "colorado = [\"CS locomotive\",\"coal\", \"cowboy\",    \"gold\",\"miners\", \"gold\",\"cowboy\",\"silver\"]\n",
    "fort     = [\"FC locomotive\",\"coal\", \"coal\",  \"gentlmen\",\"ladies\", \"cows\",\"horses\"]\n",
    "new_york = [\"NY locomotive\",\"coal\",       \"\",       \"\",       \"\",     \"\",      \"\",      \"\", \"\",\"\",\"\"]"
   ]
  },
  {
   "cell_type": "markdown",
   "metadata": {},
   "source": [
    "after your code it must result:\n",
    "\n",
    "```python\n",
    ">>> print(new_york)\n",
    "['NY locomotive', 'coal', 'gold', 'gold', 'silver', 'cowboy', 'miners', 'cowboy', 'gentlmen', 'ladies', 'cows', 'horses']\n",
    "\n",
    "```"
   ]
  },
  {
   "cell_type": "raw",
   "id": "829b4fac",
   "metadata": {
    "format": "text/html"
   },
   "source": [
    "<a  class=\"jupman-sol jupman-sol-toggler\" \n",
    " onclick=\"jupman.toggleSolution(this);\" \n",
    " data-jupman-show=\"Show solution\" data-jupman-hide=\"Hide\">Show solution</a><div class=\"jupman-sol jupman-sol-code\" style=\"display:none\">  "
   ]
  },
  {
   "cell_type": "code",
   "execution_count": 86,
   "metadata": {},
   "outputs": [
    {
     "name": "stdout",
     "output_type": "stream",
     "text": [
      "['NY locomotive', 'coal', 'gold', 'gold', 'silver', 'cowboy', 'miners', 'cowboy', 'gentlmen', 'ladies', 'cows', 'horses']\n"
     ]
    }
   ],
   "source": [
    "\n",
    "           # 0               1       2        3          4         5      6        7        8  9  10\n",
    "colorado = [\"CS locomotive\",\"coal\", \"cowboy\",    \"gold\",\"miners\", \"gold\",\"cowboy\",\"silver\"]\n",
    "fort     = [\"FC locomotive\",\"coal\", \"coal\",  \"gentlmen\",\"ladies\", \"cows\",\"horses\"]\n",
    "new_york = [\"NY locomotive\",\"coal\",       \"\",       \"\",       \"\",     \"\",      \"\",      \"\", \"\",\"\",\"\"]\n",
    "\n",
    "# write here\n",
    "new_york[2:5] = colorado[3::2]\n",
    "new_york[5:]  = colorado[2::2]\n",
    "new_york[8:]  = fort[3:]\n",
    "print(new_york)"
   ]
  },
  {
   "cell_type": "raw",
   "id": "bc7a76bd",
   "metadata": {
    "format": "text/html"
   },
   "source": [
    "</div>"
   ]
  },
  {
   "cell_type": "code",
   "execution_count": 86,
   "metadata": {},
   "outputs": [],
   "source": [
    "\n",
    "           # 0               1       2        3          4         5      6        7        8  9  10\n",
    "colorado = [\"CS locomotive\",\"coal\", \"cowboy\",    \"gold\",\"miners\", \"gold\",\"cowboy\",\"silver\"]\n",
    "fort     = [\"FC locomotive\",\"coal\", \"coal\",  \"gentlmen\",\"ladies\", \"cows\",\"horses\"]\n",
    "new_york = [\"NY locomotive\",\"coal\",       \"\",       \"\",       \"\",     \"\",      \"\",      \"\", \"\",\"\",\"\"]\n",
    "\n",
    "# write here\n",
    "\n"
   ]
  },
  {
   "cell_type": "code",
   "execution_count": 87,
   "metadata": {
    "nbsphinx": "hidden"
   },
   "outputs": [],
   "source": [],
   "transient": {
    "remove_source": true
   }
  },
  {
   "cell_type": "markdown",
   "metadata": {},
   "source": [
    "## List of lists\n",
    "\n",
    "\n",
    "**NOTE: We will talk much more in detail of lists of lists in the tutorial** [Matrices - list of lists](https://en.softpython.org/matrices-lists/matrices-lists1-sol.html), this is just a brief introduction.\n",
    "\n",
    "The consideration we've seen so far about string lists are also valid for a list of lists:"
   ]
  },
  {
   "cell_type": "code",
   "execution_count": 88,
   "metadata": {},
   "outputs": [],
   "source": [
    "couples = [             # external list\n",
    "            [67,95],    #    internal list at index 0\n",
    "            [60,59],    #                     index 1\n",
    "            [86,75],    #                     index 2\n",
    "            [96,90],    #                     index 3\n",
    "            [88,87],    #                     index 4\n",
    "          ]"
   ]
  },
  {
   "cell_type": "markdown",
   "metadata": {},
   "source": [
    "If we want ot extract the number `90`, we must first extract the sublist from index `3`:"
   ]
  },
  {
   "cell_type": "code",
   "execution_count": 89,
   "metadata": {},
   "outputs": [
    {
     "data": {
      "text/plain": [
       "[96, 90]"
      ]
     },
     "execution_count": 89,
     "metadata": {},
     "output_type": "execute_result"
    }
   ],
   "source": [
    "couples[3]   # NOTE: the expression result is a list"
   ]
  },
  {
   "cell_type": "markdown",
   "metadata": {},
   "source": [
    "and so in the extracted sublist (which has only two elements) we can recover the number at index `0`:"
   ]
  },
  {
   "cell_type": "code",
   "execution_count": 90,
   "metadata": {},
   "outputs": [
    {
     "data": {
      "text/plain": [
       "96"
      ]
     },
     "execution_count": 90,
     "metadata": {},
     "output_type": "execute_result"
    }
   ],
   "source": [
    "couples[3][0]"
   ]
  },
  {
   "cell_type": "markdown",
   "metadata": {},
   "source": [
    "and at index `1`:"
   ]
  },
  {
   "cell_type": "code",
   "execution_count": 91,
   "metadata": {},
   "outputs": [
    {
     "data": {
      "text/plain": [
       "90"
      ]
     },
     "execution_count": 91,
     "metadata": {},
     "output_type": "execute_result"
    }
   ],
   "source": [
    "couples[3][1]"
   ]
  },
  {
   "cell_type": "markdown",
   "metadata": {},
   "source": [
    "### Exercise - couples\n",
    "\n",
    "1. Write some code to extract and print the numbers `86`,  `67` and `87`\n",
    "2. Given a row with index `i` and a column `j`, print the number at row `i` and column `j` multiplied by the number at successive row and same column\n",
    "\n",
    "After your code, you should see printed\n",
    "\n",
    "```\n",
    "1) 86 67 87\n",
    "\n",
    "2) i = 3  j = 1  result = 7830\n",
    "\n",
    "```"
   ]
  },
  {
   "cell_type": "raw",
   "id": "518fc4cd",
   "metadata": {
    "format": "text/html"
   },
   "source": [
    "<a  class=\"jupman-sol jupman-sol-toggler\" \n",
    " onclick=\"jupman.toggleSolution(this);\" \n",
    " data-jupman-show=\"Show solution\" data-jupman-hide=\"Hide\">Show solution</a><div class=\"jupman-sol jupman-sol-code\" style=\"display:none\">  "
   ]
  },
  {
   "cell_type": "code",
   "execution_count": 92,
   "metadata": {},
   "outputs": [
    {
     "name": "stdout",
     "output_type": "stream",
     "text": [
      "1) 86 67 87\n",
      "\n",
      "2)  i = 3  j = 1  result = 7830\n"
     ]
    }
   ],
   "source": [
    "\n",
    "couples = [             # external list\n",
    "            [67,95],    # internal list at index 0\n",
    "            [60,59],    # internal list at index 1\n",
    "            [86,75],    # internal list at index 2\n",
    "            [96,90],    # internal list at index 3\n",
    "            [88,87],    # internal list at index 4\n",
    "          ]\n",
    "\n",
    "i = 3\n",
    "j = 1\n",
    "\n",
    "# write here\n",
    "\n",
    "print(\"1)\", couples[2][0], couples[0][0], couples[4][1])\n",
    "print()\n",
    "print(\"2)\",\" i =\",i,\" j =\",j,\" result =\", couples[i][j]*couples[i+1][j])"
   ]
  },
  {
   "cell_type": "raw",
   "id": "efc13066",
   "metadata": {
    "format": "text/html"
   },
   "source": [
    "</div>"
   ]
  },
  {
   "cell_type": "code",
   "execution_count": 92,
   "metadata": {},
   "outputs": [],
   "source": [
    "\n",
    "couples = [             # external list\n",
    "            [67,95],    # internal list at index 0\n",
    "            [60,59],    # internal list at index 1\n",
    "            [86,75],    # internal list at index 2\n",
    "            [96,90],    # internal list at index 3\n",
    "            [88,87],    # internal list at index 4\n",
    "          ]\n",
    "\n",
    "i = 3\n",
    "j = 1\n",
    "\n",
    "# write here\n",
    "\n"
   ]
  },
  {
   "cell_type": "markdown",
   "metadata": {},
   "source": [
    "### Exercise - Glory to Gladiators!\n",
    "\n",
    "The gladiators fight for the glory of the battle and the entertainment of the Emperor and the people!\n",
    "Sadly, not all gladiators manage to fight the same number of battles..\n",
    "\n",
    "For each fight, each gladiator receives a reward in sesterces (in case he doesn't survive, it will be offered to his patron...)\n",
    "\n",
    "At the end of the games, the Emperor throws the prize in sesterces to his favourite gladiator. The Emperor has bad aim and his weak arms don't allow him to throw everything at once, so he always ends up throwing half of the money to the chosen gladiator and half to the next gladiator.\n",
    "\n",
    "* **NOTE**: the Emperor **never** chooses the last of the list\n",
    "\n",
    "Given a `prize` and `gladiators` list of sublists of arbitrary length, and a gladiator at index `i`, write some code which MODIFIES the sublists of `gladiators`  at row `i` and following one so to increase the last element of both lists of half `prize`.\n",
    "\n",
    "* Your code must work with any `prize`, `gladiators` and `i`\n",
    "\n",
    "**Example - given**: "
   ]
  },
  {
   "cell_type": "markdown",
   "metadata": {},
   "source": [
    "![gladiatori](img/gladiators.png)"
   ]
  },
  {
   "cell_type": "markdown",
   "metadata": {},
   "source": [
    "and given:\n",
    "\n",
    "```python\n",
    "prize, i = 40, 1\n",
    "```\n",
    "\n",
    "after your code, by writing (we use `pprint` so printing happens on many lines) it must result:\n",
    "\n",
    "```python\n",
    ">>> from pprint import pprint\n",
    ">>> pprint(gladiatori,width=30)\n",
    "[[67, 95],\n",
    " [60, 23, 23, 13, 79],\n",
    " [86, 95],\n",
    " [96, 90, 92],\n",
    " [88, 87]]\n",
    "```"
   ]
  },
  {
   "cell_type": "raw",
   "id": "ac7a83e6",
   "metadata": {
    "format": "text/html"
   },
   "source": [
    "<a  class=\"jupman-sol jupman-sol-toggler\" \n",
    " onclick=\"jupman.toggleSolution(this);\" \n",
    " data-jupman-show=\"Show solution\" data-jupman-hide=\"Hide\">Show solution</a><div class=\"jupman-sol jupman-sol-code\" style=\"display:none\">  "
   ]
  },
  {
   "cell_type": "code",
   "execution_count": 93,
   "metadata": {},
   "outputs": [
    {
     "name": "stdout",
     "output_type": "stream",
     "text": [
      "[[67, 95],\n",
      " [60, 23, 23, 13, 79],\n",
      " [86, 95],\n",
      " [96, 90, 92],\n",
      " [88, 87]]\n"
     ]
    }
   ],
   "source": [
    "\n",
    "prize, i = 40, 1                      # sesterces, gladiator to award\n",
    "#prize, i = 10, 3\n",
    "\n",
    "gladiators = [                   # external list\n",
    "               [67,95],          # internal list at index 0\n",
    "               [60,23,23,13,59], # internal list at index 1\n",
    "               [86,75],          # internal list at index 2\n",
    "               [96,90,92],       # internal list at index 3\n",
    "               [88,87],          # internal list at index 4\n",
    "             ]\n",
    "\n",
    "# write here\n",
    "gladiators[i][-1]   += prize // 2\n",
    "gladiators[i+1][-1] += prize // 2\n",
    "\n",
    "from pprint import pprint\n",
    "pprint(gladiators,width=30)"
   ]
  },
  {
   "cell_type": "raw",
   "id": "0e45e21e",
   "metadata": {
    "format": "text/html"
   },
   "source": [
    "</div>"
   ]
  },
  {
   "cell_type": "code",
   "execution_count": 93,
   "metadata": {},
   "outputs": [],
   "source": [
    "\n",
    "prize, i = 40, 1                      # sesterces, gladiator to award\n",
    "#prize, i = 10, 3\n",
    "\n",
    "gladiators = [                   # external list\n",
    "               [67,95],          # internal list at index 0\n",
    "               [60,23,23,13,59], # internal list at index 1\n",
    "               [86,75],          # internal list at index 2\n",
    "               [96,90,92],       # internal list at index 3\n",
    "               [88,87],          # internal list at index 4\n",
    "             ]\n",
    "\n",
    "# write here\n",
    "\n"
   ]
  },
  {
   "cell_type": "markdown",
   "metadata": {},
   "source": [
    "## Membership\n",
    "\n",
    "To verify whether an object is contained in a list, we can use the `in` operator.\n",
    "\n",
    "Note the result of this expression is a boolean:"
   ]
  },
  {
   "cell_type": "code",
   "execution_count": 94,
   "metadata": {},
   "outputs": [
    {
     "data": {
      "text/plain": [
       "True"
      ]
     },
     "execution_count": 94,
     "metadata": {},
     "output_type": "execute_result"
    }
   ],
   "source": [
    "9 in [6,8,9,7]"
   ]
  },
  {
   "cell_type": "code",
   "execution_count": 95,
   "metadata": {},
   "outputs": [
    {
     "data": {
      "text/plain": [
       "False"
      ]
     },
     "execution_count": 95,
     "metadata": {},
     "output_type": "execute_result"
    }
   ],
   "source": [
    "5 in [6,8,9,7]"
   ]
  },
  {
   "cell_type": "code",
   "execution_count": 96,
   "metadata": {},
   "outputs": [
    {
     "data": {
      "text/plain": [
       "True"
      ]
     },
     "execution_count": 96,
     "metadata": {},
     "output_type": "execute_result"
    }
   ],
   "source": [
    "\"apple\" in [\"watermelon\",\"apple\",\"banana\"]"
   ]
  },
  {
   "cell_type": "code",
   "execution_count": 97,
   "metadata": {},
   "outputs": [
    {
     "data": {
      "text/plain": [
       "False"
      ]
     },
     "execution_count": 97,
     "metadata": {},
     "output_type": "execute_result"
    }
   ],
   "source": [
    "\"carrot\" in [\"watermelon\",\"apple\",\"banana\"]"
   ]
  },
  {
   "cell_type": "markdown",
   "metadata": {},
   "source": [
    "### Do not abuse `in`"
   ]
  },
  {
   "cell_type": "markdown",
   "metadata": {},
   "source": [
    "<div class=\"alert alert-warning\">\n",
    "\n",
    "**WARNING**: `in` **is often used in a wrong / inefficient way**\n",
    "    \n",
    "Always ask yourself:\n",
    "    \n",
    "1. Could the list _not_ contain the substring we're looking for? Always remember to also handle  his case!\n",
    "2. `in` performs a search on all the list, which might be inefficient: is it really necessary, or we already know the interval where to search?\n",
    "3. If we wanted to know whether `element` is in a position we know a priori (i.e. `3`), `in` is not needed, it's enough to write  `my_list[3] == element`. By using `in` Python might find duplicated elements which are _before_ or _after_ the one we want to verify!\n",
    "    \n",
    "</div>   "
   ]
  },
  {
   "cell_type": "markdown",
   "metadata": {},
   "source": [
    "**QUESTION**: What's the result of this expression? `True` or `False`?\n",
    "\n",
    "```python\n",
    "True in [ 5 in [6,7,5],\n",
    "          2 in [8,1]\n",
    "        ]\n",
    "```"
   ]
  },
  {
   "cell_type": "raw",
   "id": "9ab432bf",
   "metadata": {
    "format": "text/html"
   },
   "source": [
    "<a  class=\"jupman-sol jupman-sol-toggler\" \n",
    " onclick=\"jupman.toggleSolution(this);\" \n",
    " data-jupman-show=\"Show answer\" data-jupman-hide=\"Hide\">Show answer</a><div class=\"jupman-sol jupman-sol-question\" style=\"display:none\">  "
   ]
  },
  {
   "cell_type": "markdown",
   "metadata": {},
   "source": [
    "**ANSWER**: Gives back `True` because\n",
    "\n",
    "```python\n",
    "[ 5 in [6,7,5],\n",
    "  2 in [8,1]\n",
    "]\n",
    "```\n",
    "\n",
    "represents a list of two elements. Each element is an expression with `in` which gets evaluated. In the first case, `5 in [6,7,5]` results `True`. So the final list becomes `[True, False]` and by writing `True in [True, False]` we obtain `True`"
   ]
  },
  {
   "cell_type": "raw",
   "id": "a25c8026",
   "metadata": {
    "format": "text/html"
   },
   "source": [
    "</div>"
   ]
  },
  {
   "cell_type": "markdown",
   "metadata": {},
   "source": [
    "### not in\n",
    "\n",
    "We can write the check of **non** belonging in two ways:\n",
    "\n",
    "**Way 1**:"
   ]
  },
  {
   "cell_type": "code",
   "execution_count": 98,
   "metadata": {},
   "outputs": [
    {
     "data": {
      "text/plain": [
       "True"
      ]
     },
     "execution_count": 98,
     "metadata": {},
     "output_type": "execute_result"
    }
   ],
   "source": [
    "\"carrot\" not in [\"watermelon\",\"banana\",\"apple\"]"
   ]
  },
  {
   "cell_type": "code",
   "execution_count": 99,
   "metadata": {},
   "outputs": [
    {
     "data": {
      "text/plain": [
       "False"
      ]
     },
     "execution_count": 99,
     "metadata": {},
     "output_type": "execute_result"
    }
   ],
   "source": [
    "\"watermelon\" not in [\"watermelon\",\"banana\",\"apple\"]"
   ]
  },
  {
   "cell_type": "markdown",
   "metadata": {},
   "source": [
    "**Way 2:**"
   ]
  },
  {
   "cell_type": "code",
   "execution_count": 100,
   "metadata": {},
   "outputs": [
    {
     "data": {
      "text/plain": [
       "True"
      ]
     },
     "execution_count": 100,
     "metadata": {},
     "output_type": "execute_result"
    }
   ],
   "source": [
    "not \"carrot\" in [\"watermelon\",\"banana\",\"apple\"]"
   ]
  },
  {
   "cell_type": "code",
   "execution_count": 101,
   "metadata": {},
   "outputs": [
    {
     "data": {
      "text/plain": [
       "False"
      ]
     },
     "execution_count": 101,
     "metadata": {},
     "output_type": "execute_result"
    }
   ],
   "source": [
    "not \"watermelon\" in [\"watermelon\",\"banana\",\"apple\"]"
   ]
  },
  {
   "cell_type": "markdown",
   "metadata": {},
   "source": [
    "**QUESTION**: Given any element `x` and list `y`, what does the following expression produce?\n",
    "\n",
    "```python\n",
    "x in y and not x in y\n",
    "```\n",
    "\n",
    "1. `False`\n",
    "2. `True`\n",
    "3. `False` or `True` according to the values of `x` and `y`\n",
    "4. an error"
   ]
  },
  {
   "cell_type": "raw",
   "id": "88b08b71",
   "metadata": {
    "format": "text/html"
   },
   "source": [
    "<a  class=\"jupman-sol jupman-sol-toggler\" \n",
    " onclick=\"jupman.toggleSolution(this);\" \n",
    " data-jupman-show=\"Show answer\" data-jupman-hide=\"Hide\">Show answer</a><div class=\"jupman-sol jupman-sol-question\" style=\"display:none\">  "
   ]
  },
  {
   "cell_type": "markdown",
   "metadata": {},
   "source": [
    "**ANSWER**: 1. Gives back `False`, because internally Python brackets the expression like this:\n",
    "\n",
    "```python\n",
    "(x in y) and (not x in y)\n",
    "```\n",
    "\n",
    "and one element cannot be both contained in the list and not contained in the same list"
   ]
  },
  {
   "cell_type": "raw",
   "id": "eb6b680f",
   "metadata": {
    "format": "text/html"
   },
   "source": [
    "</div>"
   ]
  },
  {
   "cell_type": "markdown",
   "metadata": {},
   "source": [
    "**QUESTION**: For each of the following expressions, try to guess the result\n",
    "\n",
    "1.  ```python\n",
    "    3 in [3]\n",
    "    ```\n",
    "1.  ```python    \n",
    "    [4,5] in [1,2,3,4,5]\n",
    "    ```\n",
    "1.  ```python    \n",
    "    [4,5] in [[1,2,3],[4,5]]\n",
    "    ```\n",
    "1.  ```python    \n",
    "    [4,5] in [[1,2,3,4],[5,6]]\n",
    "    ```\n",
    "1.  ```python    \n",
    "    'n' in ['alien'[-1]]\n",
    "    ```\n",
    "1.  ```python    \n",
    "    'rts' in 'karts'[1:4]\n",
    "    ```\n",
    "1.  ```python    \n",
    "    [] in [[[]]]\n",
    "    ```\n",
    "1.  ```python    \n",
    "    [] in [[]]\n",
    "    ```\n",
    "1.  ```python    \n",
    "    [] in [\"[]\"]\n",
    "    ```"
   ]
  },
  {
   "cell_type": "markdown",
   "metadata": {},
   "source": [
    "**QUESTION**: For each of the following expressions, independently from the value of `x` and `y`, tell whether  it always results `True`:\n",
    "\n",
    "1.  ```python\n",
    "    x in x\n",
    "    ```\n",
    "1.  ```python    \n",
    "    x in [x]\n",
    "    ```\n",
    "1.  ```python    \n",
    "    x not in []\n",
    "    ```\n",
    "1.  ```python    \n",
    "    x in [[x]]\n",
    "    ```\n",
    "1.  ```python\n",
    "    x in [[x][0]]\n",
    "    ```\n",
    "1.  ```python    \n",
    "    (x and y) in [x,y]\n",
    "    ```\n",
    "1.  ```python\n",
    "    x in [x,y] and y in [x,y]\n",
    "    ```"
   ]
  },
  {
   "cell_type": "markdown",
   "metadata": {},
   "source": [
    "### Exercise - vegetables\n",
    "\n",
    "Given the list `vegetables` of exactly 5 strings and the list of strings `fruits`, MODIFY the variable `vegetables` so that in each cell there is `True` if the vegetable is a fruit or `False` otherwise.\n",
    "\n",
    "* your code must work with any list of 5 strings `vegetables` and any list `fruits`\n",
    "\n",
    "Example - given:\n",
    "\n",
    "```python\n",
    "vegetables = [\"carrot\",\n",
    "              \"cabbage\",\n",
    "              \"apple\",\n",
    "              \"aubergine\",\n",
    "              \"watermelon\"]\n",
    "\n",
    "fruits = [\"watermelon\",\"banana\",\"apple\",]\n",
    "```\n",
    "\n",
    "after execution your code must print:\n",
    "\n",
    "```python\n",
    ">>> print(vegetables)\n",
    "[False, False, True, False, True]\n",
    "```"
   ]
  },
  {
   "cell_type": "raw",
   "id": "0ba83915",
   "metadata": {
    "format": "text/html"
   },
   "source": [
    "<a  class=\"jupman-sol jupman-sol-toggler\" \n",
    " onclick=\"jupman.toggleSolution(this);\" \n",
    " data-jupman-show=\"Show solution\" data-jupman-hide=\"Hide\">Show solution</a><div class=\"jupman-sol jupman-sol-code\" style=\"display:none\">  "
   ]
  },
  {
   "cell_type": "code",
   "execution_count": 102,
   "metadata": {},
   "outputs": [
    {
     "name": "stdout",
     "output_type": "stream",
     "text": [
      "[False, False, True, False, True]\n"
     ]
    }
   ],
   "source": [
    "\n",
    "vegetables = [\"carrot\",\n",
    "              \"cabbage\",\n",
    "              \"apple\",\n",
    "              \"aubergine\",\n",
    "              \"watermelon\"]\n",
    "\n",
    "fruits = [\"watermelon\",\"banana\",\"apple\",]\n",
    "\n",
    "# write here\n",
    "\n",
    "vegetables = [vegetables[0] in fruits,\n",
    "              vegetables[1] in fruits,\n",
    "              vegetables[2] in fruits,\n",
    "              vegetables[3] in fruits,\n",
    "              vegetables[4] in fruits,\n",
    "]\n",
    "\n",
    "print(vegetables)"
   ]
  },
  {
   "cell_type": "raw",
   "id": "12d43a0a",
   "metadata": {
    "format": "text/html"
   },
   "source": [
    "</div>"
   ]
  },
  {
   "cell_type": "code",
   "execution_count": 102,
   "metadata": {},
   "outputs": [],
   "source": [
    "\n",
    "vegetables = [\"carrot\",\n",
    "              \"cabbage\",\n",
    "              \"apple\",\n",
    "              \"aubergine\",\n",
    "              \"watermelon\"]\n",
    "\n",
    "fruits = [\"watermelon\",\"banana\",\"apple\",]\n",
    "\n",
    "# write here\n",
    "\n"
   ]
  },
  {
   "cell_type": "markdown",
   "metadata": {},
   "source": [
    "## List concatenation with `+`\n",
    "\n",
    "Given two lists `la` and `lb`, we can concatenate them with the operator `+` which produces a NEW list:"
   ]
  },
  {
   "cell_type": "code",
   "execution_count": 103,
   "metadata": {},
   "outputs": [
    {
     "data": {
      "text/plain": [
       "[70, 60, 80, 90, 50]"
      ]
     },
     "execution_count": 103,
     "metadata": {},
     "output_type": "execute_result"
    }
   ],
   "source": [
    "la = [70,60,80]\n",
    "lb = [90,50]\n",
    "\n",
    "la + lb"
   ]
  },
  {
   "cell_type": "markdown",
   "metadata": {},
   "source": [
    "Note the operator `+` produces a NEW list, so `la` and `lb` remained unchanged:"
   ]
  },
  {
   "cell_type": "code",
   "execution_count": 104,
   "metadata": {},
   "outputs": [
    {
     "name": "stdout",
     "output_type": "stream",
     "text": [
      "[70, 60, 80]\n"
     ]
    }
   ],
   "source": [
    "print(la)"
   ]
  },
  {
   "cell_type": "code",
   "execution_count": 105,
   "metadata": {},
   "outputs": [
    {
     "name": "stdout",
     "output_type": "stream",
     "text": [
      "[90, 50]\n"
     ]
    }
   ],
   "source": [
    "print(lb)"
   ]
  },
  {
   "cell_type": "markdown",
   "metadata": {},
   "source": [
    "Let's check with Python Tutor:"
   ]
  },
  {
   "cell_type": "code",
   "execution_count": 106,
   "metadata": {},
   "outputs": [
    {
     "name": "stdout",
     "output_type": "stream",
     "text": [
      "[70, 60, 80]\n",
      "[90, 50]\n",
      "[70, 60, 80, 90, 50]\n"
     ]
    },
    {
     "data": {
      "text/html": [
       "        \n",
       "        <script src=\"../_static/js/pytutor-embed.bundle.min.js\" type=\"application/javascript\"></script>\n",
       "    \n",
       "        <style>\n",
       "        @import \"../_static/css/jupman.css\";\n",
       "        </style>\n",
       "     \n",
       "        <script id=\"json-jm-425c916045f3d7ba312473385ffc112c-108\" type=\"application/json\" >\n",
       "            {\"code\": \" \\nla = [70,60,80]\\nlb = [90,50]\\nlc = la + lb\\n\\nprint(la)\\nprint(lb)\\nprint(lc)\", \"trace\": [{\"line\": 2, \"event\": \"step_line\", \"func_name\": \"<module>\", \"globals\": {}, \"ordered_globals\": [], \"stack_to_render\": [], \"heap\": {}, \"stdout\": \"\"}, {\"line\": 3, \"event\": \"step_line\", \"func_name\": \"<module>\", \"globals\": {\"la\": [\"REF\", 1]}, \"ordered_globals\": [\"la\"], \"stack_to_render\": [], \"heap\": {\"1\": [\"LIST\", 70, 60, 80]}, \"stdout\": \"\"}, {\"line\": 4, \"event\": \"step_line\", \"func_name\": \"<module>\", \"globals\": {\"la\": [\"REF\", 1], \"lb\": [\"REF\", 2]}, \"ordered_globals\": [\"la\", \"lb\"], \"stack_to_render\": [], \"heap\": {\"1\": [\"LIST\", 70, 60, 80], \"2\": [\"LIST\", 90, 50]}, \"stdout\": \"\"}, {\"line\": 6, \"event\": \"step_line\", \"func_name\": \"<module>\", \"globals\": {\"la\": [\"REF\", 1], \"lb\": [\"REF\", 2], \"lc\": [\"REF\", 3]}, \"ordered_globals\": [\"la\", \"lb\", \"lc\"], \"stack_to_render\": [], \"heap\": {\"1\": [\"LIST\", 70, 60, 80], \"2\": [\"LIST\", 90, 50], \"3\": [\"LIST\", 70, 60, 80, 90, 50]}, \"stdout\": \"\"}, {\"line\": 7, \"event\": \"step_line\", \"func_name\": \"<module>\", \"globals\": {\"la\": [\"REF\", 1], \"lb\": [\"REF\", 2], \"lc\": [\"REF\", 3]}, \"ordered_globals\": [\"la\", \"lb\", \"lc\"], \"stack_to_render\": [], \"heap\": {\"1\": [\"LIST\", 70, 60, 80], \"2\": [\"LIST\", 90, 50], \"3\": [\"LIST\", 70, 60, 80, 90, 50]}, \"stdout\": \"[70, 60, 80]\\n\"}, {\"line\": 8, \"event\": \"step_line\", \"func_name\": \"<module>\", \"globals\": {\"la\": [\"REF\", 1], \"lb\": [\"REF\", 2], \"lc\": [\"REF\", 3]}, \"ordered_globals\": [\"la\", \"lb\", \"lc\"], \"stack_to_render\": [], \"heap\": {\"1\": [\"LIST\", 70, 60, 80], \"2\": [\"LIST\", 90, 50], \"3\": [\"LIST\", 70, 60, 80, 90, 50]}, \"stdout\": \"[70, 60, 80]\\n[90, 50]\\n\"}, {\"line\": 8, \"event\": \"return\", \"func_name\": \"<module>\", \"globals\": {\"la\": [\"REF\", 1], \"lb\": [\"REF\", 2], \"lc\": [\"REF\", 3]}, \"ordered_globals\": [\"la\", \"lb\", \"lc\"], \"stack_to_render\": [], \"heap\": {\"1\": [\"LIST\", 70, 60, 80], \"2\": [\"LIST\", 90, 50], \"3\": [\"LIST\", 70, 60, 80, 90, 50]}, \"stdout\": \"[70, 60, 80]\\n[90, 50]\\n[70, 60, 80, 90, 50]\\n\"}]}\n",
       "        </script>\n",
       "        <div id=\"jm-425c916045f3d7ba312473385ffc112c-108\" class=\"pytutorVisualizer\"> </div>\n",
       "                        \n",
       "        <script>\n",
       "        \n",
       "        (function(){\n",
       "            console.log(\"jupman.py embedded javascript: adding Python tutor visualizer...\")\n",
       "            \n",
       "            var trace = JSON.parse(document.getElementById('json-jm-425c916045f3d7ba312473385ffc112c-108').innerHTML);                                        \n",
       "            // NOTE: id without #\n",
       "                    \n",
       "            addVisualizerToPage(trace, 'jm-425c916045f3d7ba312473385ffc112c-108',{'embeddedMode' : false,\n",
       "                                             'disableHeapNesting': true,\n",
       "                                             'visualizerIdOverride':'viz-jm-425c916045f3d7ba312473385ffc112c-108'})  \n",
       "            \n",
       "            \n",
       "            // set overflow for pytuts - need to do in python as css \n",
       "            // does not allow parent selection\n",
       "            var pytuts = $('.pytutorVisualizer')\n",
       "            pytuts.closest('div.output_html.rendered_html.output_result')\n",
       "                    .css('overflow-x', 'visible')\n",
       "        \n",
       "            //pytuts.closest('div.output_html.rendered_html.output_result')\n",
       "            //      .css('background-color','red')                \n",
       "            \n",
       "        })()\n",
       "        </script>\n",
       "                \n",
       "    \n",
       "    <div style=\"text-align:center; font-size:0.9em\"> <a href=\"https://pythontutor.com/visualize.html#mode=edit\" target=\"_blank\">Python Tutor</a> visualization</div> \n",
       "    "
      ],
      "text/plain": [
       "<IPython.core.display.HTML object>"
      ]
     },
     "execution_count": 106,
     "metadata": {},
     "output_type": "execute_result"
    }
   ],
   "source": [
    "la = [70,60,80]\n",
    "lb = [90,50]\n",
    "lc = la + lb\n",
    "\n",
    "print(la)\n",
    "print(lb)\n",
    "print(lc)\n",
    "\n",
    "jupman.pytut()"
   ]
  },
  {
   "cell_type": "markdown",
   "metadata": {},
   "source": [
    "### Exercise - concatenation\n",
    "\n",
    "Write some code which given lists `la` and `lb`, puts into list  `lc` the last two elements of `la` and the first two of `lb`\n",
    "\n",
    "\n",
    "Example - given:\n",
    "\n",
    "```python\n",
    "la = [18,26,30,45,55]\n",
    "lb = [16,26,37,45]\n",
    "```\n",
    "\n",
    "after your code it must print:\n",
    "\n",
    "```\n",
    ">>> print(la)\n",
    "[18, 26, 30, 45, 55]\n",
    ">>> print(lb)\n",
    "[16, 26, 37, 45]\n",
    ">>> print(lc)\n",
    "[45, 55, 16, 26]\n",
    "```"
   ]
  },
  {
   "cell_type": "raw",
   "id": "b8d6aa94",
   "metadata": {
    "format": "text/html"
   },
   "source": [
    "<a  class=\"jupman-sol jupman-sol-toggler\" \n",
    " onclick=\"jupman.toggleSolution(this);\" \n",
    " data-jupman-show=\"Show solution\" data-jupman-hide=\"Hide\">Show solution</a><div class=\"jupman-sol jupman-sol-code\" style=\"display:none\">  "
   ]
  },
  {
   "cell_type": "code",
   "execution_count": 107,
   "metadata": {},
   "outputs": [
    {
     "name": "stdout",
     "output_type": "stream",
     "text": [
      "[18, 26, 30, 45, 55]\n",
      "[16, 26, 37, 45]\n",
      "[45, 55, 16, 26]\n"
     ]
    }
   ],
   "source": [
    "\n",
    "la = [18,26,30,45,55]\n",
    "lb = [16,26,37,45]\n",
    "\n",
    "# write here\n",
    "lc = la[-2:] + lb[:2]\n",
    "print(la)\n",
    "print(lb)\n",
    "print(lc)"
   ]
  },
  {
   "cell_type": "raw",
   "id": "c319d6b6",
   "metadata": {
    "format": "text/html"
   },
   "source": [
    "</div>"
   ]
  },
  {
   "cell_type": "code",
   "execution_count": 107,
   "metadata": {},
   "outputs": [],
   "source": [
    "\n",
    "la = [18,26,30,45,55]\n",
    "lb = [16,26,37,45]\n",
    "\n",
    "# write here\n",
    "\n"
   ]
  },
  {
   "cell_type": "markdown",
   "metadata": {},
   "source": [
    "**QUESTION**: For each of the following expressions, try guessing the result\n",
    "    \n",
    "1.  ```python\n",
    "    [6,7,8] + [9]\n",
    "    ```\n",
    "1.  ```python    \n",
    "    [6,7,8] + []\n",
    "    ```\n",
    "1.  ```python    \n",
    "    [] + [6,7,8]\n",
    "    ```\n",
    "1.  ```python    \n",
    "    [] + []\n",
    "    ```\n",
    "1.  ```python    \n",
    "    [] + [[]]\n",
    "    ```\n",
    "1.  ```python    \n",
    "    [[]]+[]\n",
    "    ```\n",
    "1.  ```python    \n",
    "    [[]]+[[]]\n",
    "    ```\n",
    "1.  ```python    \n",
    "    ([6] + [8])[0]\n",
    "    ```\n",
    "1.  ```python    \n",
    "    ([6] + [8])[1]\n",
    "    ```\n",
    "1.  ```python    \n",
    "    ([6] + [8])[2:]\n",
    "    ```\n",
    "1.  ```python    \n",
    "    len([4,2,5])+len([3,1,2])\n",
    "    ```\n",
    "1.  ```python    \n",
    "    len([4,2,5] + [3,1,2])\n",
    "    ```\n",
    "1.  ```python    \n",
    "    [5,4,3] + \"3,1\"\n",
    "    ```\n",
    "1.  ```python    \n",
    "    [5,4,3] + \"[3,1]\"\n",
    "    ```\n",
    "1.  ```python    \n",
    "    \"[5,4,3]\" + \"[3,1]\"\n",
    "    ```\n",
    "1.  ```python    \n",
    "    [\"4\",\"1\",\"7\"] + [\"3\",\"1\"]\n",
    "    ```\n",
    "1.  ```python    \n",
    "    list('coca') + ['c','o','l','a']\n",
    "    ```"
   ]
  },
  {
   "cell_type": "markdown",
   "metadata": {},
   "source": [
    "## min and max\n",
    "\n",
    "A list is a sequence of elements, and as such we can pass it to functions `min` or `max` for finding respectively the minimum or the maximum element of the list."
   ]
  },
  {
   "cell_type": "code",
   "execution_count": 108,
   "metadata": {},
   "outputs": [
    {
     "data": {
      "text/plain": [
       "3"
      ]
     },
     "execution_count": 108,
     "metadata": {},
     "output_type": "execute_result"
    }
   ],
   "source": [
    "min([4,5,3,7,8,6])"
   ]
  },
  {
   "cell_type": "code",
   "execution_count": 109,
   "metadata": {},
   "outputs": [
    {
     "data": {
      "text/plain": [
       "8"
      ]
     },
     "execution_count": 109,
     "metadata": {},
     "output_type": "execute_result"
    }
   ],
   "source": [
    "max([4,5,3,7,8,6])"
   ]
  },
  {
   "cell_type": "markdown",
   "metadata": {},
   "source": [
    "<div class=\"alert alert-info\">\n",
    "\n",
    "[V COMMANDMENT](https://en.softpython.org/commandments.html#V-COMMANDMENT) **: You shall never ever use** `min` **and** `max` **as variable names**\n",
    "    \n",
    "If you do, you will lose the functions!\n",
    "</div>"
   ]
  },
  {
   "cell_type": "markdown",
   "metadata": {},
   "source": [
    "Note it's also possible to directly pass to `min` and `max` the elements to compare without including them in a list:"
   ]
  },
  {
   "cell_type": "code",
   "execution_count": 110,
   "metadata": {},
   "outputs": [
    {
     "data": {
      "text/plain": [
       "3"
      ]
     },
     "execution_count": 110,
     "metadata": {},
     "output_type": "execute_result"
    }
   ],
   "source": [
    "min(4,5,3,7,8,6)"
   ]
  },
  {
   "cell_type": "code",
   "execution_count": 111,
   "metadata": {},
   "outputs": [
    {
     "data": {
      "text/plain": [
       "8"
      ]
     },
     "execution_count": 111,
     "metadata": {},
     "output_type": "execute_result"
    }
   ],
   "source": [
    "max(4,5,3,7,8,6)"
   ]
  },
  {
   "cell_type": "markdown",
   "metadata": {},
   "source": [
    "But if we pass only one, without including it in a list, we will get an error:"
   ]
  },
  {
   "cell_type": "markdown",
   "metadata": {},
   "source": [
    "```python\n",
    "min(4)\n",
    "---------------------------------------------------------------------------\n",
    "TypeError                                 Traceback (most recent call last)\n",
    "<ipython-input-156-bb3db472b52e> in <module>\n",
    "----> 1 min(4)\n",
    "\n",
    "TypeError: 'int' object is not iterable\n",
    "\n",
    "```"
   ]
  },
  {
   "cell_type": "markdown",
   "metadata": {},
   "source": [
    "The error tells us that when we pass only an argument, Python expects a sequence like a list:"
   ]
  },
  {
   "cell_type": "code",
   "execution_count": 112,
   "metadata": {},
   "outputs": [
    {
     "data": {
      "text/plain": [
       "4"
      ]
     },
     "execution_count": 112,
     "metadata": {},
     "output_type": "execute_result"
    }
   ],
   "source": [
    "min([4])"
   ]
  },
  {
   "cell_type": "markdown",
   "metadata": {},
   "source": [
    "To `min` and `max` we can also pass strings, and we will get the character which is alphabetically lesser or greater:"
   ]
  },
  {
   "cell_type": "code",
   "execution_count": 113,
   "metadata": {},
   "outputs": [
    {
     "data": {
      "text/plain": [
       "'a'"
      ]
     },
     "execution_count": 113,
     "metadata": {},
     "output_type": "execute_result"
    }
   ],
   "source": [
    "min(\"orchestra\")"
   ]
  },
  {
   "cell_type": "code",
   "execution_count": 114,
   "metadata": {},
   "outputs": [
    {
     "data": {
      "text/plain": [
       "'t'"
      ]
     },
     "execution_count": 114,
     "metadata": {},
     "output_type": "execute_result"
    }
   ],
   "source": [
    "max(\"orchestra\")"
   ]
  },
  {
   "cell_type": "markdown",
   "metadata": {},
   "source": [
    "If we pass a list of strings, we will obtain the lesser or greater string in lexicographical order (i.e. the phonebook order)"
   ]
  },
  {
   "cell_type": "code",
   "execution_count": 115,
   "metadata": {},
   "outputs": [
    {
     "data": {
      "text/plain": [
       "'around'"
      ]
     },
     "execution_count": 115,
     "metadata": {},
     "output_type": "execute_result"
    }
   ],
   "source": [
    "min(['the', 'sailor', 'walks', 'around', 'the', 'docks'])"
   ]
  },
  {
   "cell_type": "code",
   "execution_count": 116,
   "metadata": {},
   "outputs": [
    {
     "data": {
      "text/plain": [
       "'walks'"
      ]
     },
     "execution_count": 116,
     "metadata": {},
     "output_type": "execute_result"
    }
   ],
   "source": [
    "max(['the', 'sailor', 'walks', 'around', 'the', 'docks'])"
   ]
  },
  {
   "cell_type": "markdown",
   "metadata": {},
   "source": [
    "**QUESTION**: For each of the following expressions, try guessing the result (or if it gives an error)\n",
    "\n",
    "    \n",
    "1.  ```python\n",
    "    max(7)\n",
    "    ```\n",
    "1.  ```python    \n",
    "    max([7])\n",
    "    ```\n",
    "1.  ```python    \n",
    "    max([5,4,6,2])\n",
    "    ```\n",
    "1.  ```python    \n",
    "    max([min([7,3])])\n",
    "    ```\n",
    "1.  ```python    \n",
    "    max([])\n",
    "    ```\n",
    "1.  ```python    \n",
    "    max(2,9,3)\n",
    "    ```\n",
    "1.  ```python    \n",
    "    max([3,2,5] + [9,2,3])\n",
    "    ```\n",
    "1.  ```python    \n",
    "    max(max([3,2,5], max([9,2,3]))\n",
    "    ```\n",
    "1.  ```python    \n",
    "    max(min(3,6), min(8,2))\n",
    "    ```\n",
    "1.  ```python    \n",
    "    min(max(3,6), max(8,2))\n",
    "    ```\n",
    "1.  ```python    \n",
    "    max(['a','b','d','c'])\n",
    "    ```\n",
    "1.  ```python    \n",
    "    max(['boat', 'dice', 'aloha', 'circle'])\n",
    "    ```\n",
    "1.  ```python    \n",
    "    min(['void','','null','nada'])\n",
    "    ```\n",
    "1.  ```python    \n",
    "    max(['hammer'[-1],'socket'[-1],'wrench'[-1]])\n",
    "    ```\n",
    "1.  ```python    \n",
    "    min(['hammer'[-1],'socket'[-1],'wrench'[-1]])\n",
    "    ```"
   ]
  },
  {
   "cell_type": "markdown",
   "metadata": {},
   "source": [
    "## sum\n",
    "\n",
    "With `sum` we can sum all the elements in a list:"
   ]
  },
  {
   "cell_type": "code",
   "execution_count": 117,
   "metadata": {},
   "outputs": [
    {
     "data": {
      "text/plain": [
       "6"
      ]
     },
     "execution_count": 117,
     "metadata": {},
     "output_type": "execute_result"
    }
   ],
   "source": [
    "sum([1,2,3])"
   ]
  },
  {
   "cell_type": "code",
   "execution_count": 118,
   "metadata": {},
   "outputs": [
    {
     "data": {
      "text/plain": [
       "3.14"
      ]
     },
     "execution_count": 118,
     "metadata": {},
     "output_type": "execute_result"
    }
   ],
   "source": [
    "sum([1.0, 2.0, 0.14])"
   ]
  },
  {
   "cell_type": "markdown",
   "metadata": {},
   "source": [
    "<div class=\"alert alert-warning\">\n",
    "\n",
    "**WARNING: DO NOT use** `sum` **as variable name!**\n",
    "    \n",
    "If you do, you will lose the function with  [very bad consequences](https://en.softpython.org/commandments.html#V-COMMANDMENT)!\n",
    "</div>"
   ]
  },
  {
   "cell_type": "markdown",
   "metadata": {},
   "source": [
    "**QUESTION**: For each of the following expressions, try guessing the result (or if it gives an error):\n",
    "\n",
    "1.  ```python\n",
    "    sum[3,1,2]\n",
    "    ```\n",
    "1.  ```python\n",
    "    sum(1,2,3)\n",
    "    ```\n",
    "1.  ```python\n",
    "    la = [1,2,3]\n",
    "    sum(la) > max(la)\n",
    "    ```\n",
    "1.  ```python   \n",
    "    la = [1,2,3]\n",
    "    sum(la) > max(la)*len(la)\n",
    "    ```\n",
    "1.  ```python\n",
    "    la = [4,2,6,4,7]\n",
    "    lb = [max(la), min(la), max(la)]\n",
    "    print(max(lb) != max(la))\n",
    "    ```"
   ]
  },
  {
   "cell_type": "markdown",
   "metadata": {},
   "source": [
    "### Exercise - balance\n",
    "\n",
    "Given a list of `n` numbers `balance` with `n` even, write some code which prints `True` if the sum of all first `n/2` numbers is equal to the sum of all successive ones.\n",
    "\n",
    "* your code must work for _any_ number list\n",
    "\n",
    "Example 1 - given:\n",
    "\n",
    "```python\n",
    "balance = [4,3,7,1,5,8]\n",
    "```\n",
    "\n",
    "after your code, it must print:\n",
    "\n",
    "```\n",
    "True\n",
    "```\n",
    "\n",
    "Example 2 - given:\n",
    "\n",
    "```python\n",
    "balance = [4,3,3,1,9,8]\n",
    "```\n",
    "\n",
    "after your code, it must print:\n",
    "\n",
    "```\n",
    "False\n",
    "```"
   ]
  },
  {
   "cell_type": "raw",
   "id": "d5a4ffdf",
   "metadata": {
    "format": "text/html"
   },
   "source": [
    "<a  class=\"jupman-sol jupman-sol-toggler\" \n",
    " onclick=\"jupman.toggleSolution(this);\" \n",
    " data-jupman-show=\"Show solution\" data-jupman-hide=\"Hide\">Show solution</a><div class=\"jupman-sol jupman-sol-code\" style=\"display:none\">  "
   ]
  },
  {
   "cell_type": "code",
   "execution_count": 119,
   "metadata": {},
   "outputs": [
    {
     "data": {
      "text/plain": [
       "True"
      ]
     },
     "execution_count": 119,
     "metadata": {},
     "output_type": "execute_result"
    }
   ],
   "source": [
    "\n",
    "balance = [4,3,7,1,5,8]\n",
    "#balance = [4,3,3,1,9,8]\n",
    "\n",
    "# write here\n",
    "n = len(balance)\n",
    "sum(balance[:n//2]) == sum(balance[n//2:])"
   ]
  },
  {
   "cell_type": "raw",
   "id": "7d9ebc15",
   "metadata": {
    "format": "text/html"
   },
   "source": [
    "</div>"
   ]
  },
  {
   "cell_type": "code",
   "execution_count": 119,
   "metadata": {},
   "outputs": [],
   "source": [
    "\n",
    "balance = [4,3,7,1,5,8]\n",
    "#balance = [4,3,3,1,9,8]\n",
    "\n",
    "# write here\n",
    "\n"
   ]
  },
  {
   "cell_type": "markdown",
   "metadata": {},
   "source": [
    "## List replication\n",
    "\n",
    "To replicate the elements of a list, it's possible to use the operator `*` which produces a NEW list:"
   ]
  },
  {
   "cell_type": "code",
   "execution_count": 120,
   "metadata": {},
   "outputs": [
    {
     "data": {
      "text/plain": [
       "[7, 6, 8, 7, 6, 8]"
      ]
     },
     "execution_count": 120,
     "metadata": {},
     "output_type": "execute_result"
    }
   ],
   "source": [
    "[7,6,8] * 2"
   ]
  },
  {
   "cell_type": "code",
   "execution_count": 121,
   "metadata": {},
   "outputs": [
    {
     "data": {
      "text/plain": [
       "[7, 6, 8, 7, 6, 8, 7, 6, 8]"
      ]
     },
     "execution_count": 121,
     "metadata": {},
     "output_type": "execute_result"
    }
   ],
   "source": [
    "[7,6,8] * 3"
   ]
  },
  {
   "cell_type": "markdown",
   "metadata": {},
   "source": [
    "Note a NEW list is produced, and the original one is not modified:"
   ]
  },
  {
   "cell_type": "code",
   "execution_count": 122,
   "metadata": {},
   "outputs": [],
   "source": [
    "la = [7,6,8]"
   ]
  },
  {
   "cell_type": "code",
   "execution_count": 123,
   "metadata": {},
   "outputs": [],
   "source": [
    "lb = [7,6,8] * 3"
   ]
  },
  {
   "cell_type": "code",
   "execution_count": 124,
   "metadata": {},
   "outputs": [
    {
     "data": {
      "text/plain": [
       "[7, 6, 8]"
      ]
     },
     "execution_count": 124,
     "metadata": {},
     "output_type": "execute_result"
    }
   ],
   "source": [
    "la   # original"
   ]
  },
  {
   "cell_type": "code",
   "execution_count": 125,
   "metadata": {},
   "outputs": [
    {
     "data": {
      "text/plain": [
       "[7, 6, 8, 7, 6, 8, 7, 6, 8]"
      ]
     },
     "execution_count": 125,
     "metadata": {},
     "output_type": "execute_result"
    }
   ],
   "source": [
    "lb   # expression result"
   ]
  },
  {
   "cell_type": "markdown",
   "metadata": {},
   "source": [
    "We can multiply a list of strings:"
   ]
  },
  {
   "cell_type": "code",
   "execution_count": 126,
   "metadata": {},
   "outputs": [],
   "source": [
    "la = [\"a\", \"world\", \"of\", \"words\"]"
   ]
  },
  {
   "cell_type": "code",
   "execution_count": 127,
   "metadata": {},
   "outputs": [],
   "source": [
    "lb = la * 2"
   ]
  },
  {
   "cell_type": "code",
   "execution_count": 128,
   "metadata": {},
   "outputs": [
    {
     "name": "stdout",
     "output_type": "stream",
     "text": [
      "['a', 'world', 'of', 'words']\n"
     ]
    }
   ],
   "source": [
    "print(la)"
   ]
  },
  {
   "cell_type": "code",
   "execution_count": 129,
   "metadata": {},
   "outputs": [
    {
     "name": "stdout",
     "output_type": "stream",
     "text": [
      "['a', 'world', 'of', 'words', 'a', 'world', 'of', 'words']\n"
     ]
    }
   ],
   "source": [
    "print(lb)"
   ]
  },
  {
   "cell_type": "markdown",
   "metadata": {},
   "source": [
    "As long as we multiply lists which contain immutable elements like numbers or strings, no particular problems arise:"
   ]
  },
  {
   "cell_type": "code",
   "execution_count": 130,
   "metadata": {},
   "outputs": [
    {
     "data": {
      "text/html": [
       "        \n",
       "        <script src=\"../_static/js/pytutor-embed.bundle.min.js\" type=\"application/javascript\"></script>\n",
       "    \n",
       "        <style>\n",
       "        @import \"../_static/css/jupman.css\";\n",
       "        </style>\n",
       "     \n",
       "        <script id=\"json-jm-13ed6dd1a1e2d648d99350fd3c1e4aac-132\" type=\"application/json\" >\n",
       "            {\"code\": \" \\nla = [\\\"a\\\", \\\"world\\\", \\\"of\\\", \\\"words\\\"]\\nlb = la * 2\", \"trace\": [{\"line\": 2, \"event\": \"step_line\", \"func_name\": \"<module>\", \"globals\": {}, \"ordered_globals\": [], \"stack_to_render\": [], \"heap\": {}, \"stdout\": \"\"}, {\"line\": 3, \"event\": \"step_line\", \"func_name\": \"<module>\", \"globals\": {\"la\": [\"REF\", 1]}, \"ordered_globals\": [\"la\"], \"stack_to_render\": [], \"heap\": {\"1\": [\"LIST\", \"a\", \"world\", \"of\", \"words\"]}, \"stdout\": \"\"}, {\"line\": 3, \"event\": \"return\", \"func_name\": \"<module>\", \"globals\": {\"la\": [\"REF\", 1], \"lb\": [\"REF\", 2]}, \"ordered_globals\": [\"la\", \"lb\"], \"stack_to_render\": [], \"heap\": {\"1\": [\"LIST\", \"a\", \"world\", \"of\", \"words\"], \"2\": [\"LIST\", \"a\", \"world\", \"of\", \"words\", \"a\", \"world\", \"of\", \"words\"]}, \"stdout\": \"\"}]}\n",
       "        </script>\n",
       "        <div id=\"jm-13ed6dd1a1e2d648d99350fd3c1e4aac-132\" class=\"pytutorVisualizer\"> </div>\n",
       "                        \n",
       "        <script>\n",
       "        \n",
       "        (function(){\n",
       "            console.log(\"jupman.py embedded javascript: adding Python tutor visualizer...\")\n",
       "            \n",
       "            var trace = JSON.parse(document.getElementById('json-jm-13ed6dd1a1e2d648d99350fd3c1e4aac-132').innerHTML);                                        \n",
       "            // NOTE: id without #\n",
       "                    \n",
       "            addVisualizerToPage(trace, 'jm-13ed6dd1a1e2d648d99350fd3c1e4aac-132',{'embeddedMode' : false,\n",
       "                                             'disableHeapNesting': true,\n",
       "                                             'visualizerIdOverride':'viz-jm-13ed6dd1a1e2d648d99350fd3c1e4aac-132'})  \n",
       "            \n",
       "            \n",
       "            // set overflow for pytuts - need to do in python as css \n",
       "            // does not allow parent selection\n",
       "            var pytuts = $('.pytutorVisualizer')\n",
       "            pytuts.closest('div.output_html.rendered_html.output_result')\n",
       "                    .css('overflow-x', 'visible')\n",
       "        \n",
       "            //pytuts.closest('div.output_html.rendered_html.output_result')\n",
       "            //      .css('background-color','red')                \n",
       "            \n",
       "        })()\n",
       "        </script>\n",
       "                \n",
       "    \n",
       "    <div style=\"text-align:center; font-size:0.9em\"> <a href=\"https://pythontutor.com/visualize.html#mode=edit\" target=\"_blank\">Python Tutor</a> visualization</div> \n",
       "    "
      ],
      "text/plain": [
       "<IPython.core.display.HTML object>"
      ]
     },
     "execution_count": 130,
     "metadata": {},
     "output_type": "execute_result"
    }
   ],
   "source": [
    "la = [\"a\", \"world\", \"of\", \"words\"]\n",
    "lb = la * 2\n",
    "\n",
    "jupman.pytut()"
   ]
  },
  {
   "cell_type": "markdown",
   "metadata": {},
   "source": [
    "The matter becomes much more sophisticated when we multiply lists which contain mutable objects like other lists. Let's see an example:"
   ]
  },
  {
   "cell_type": "code",
   "execution_count": 131,
   "metadata": {},
   "outputs": [],
   "source": [
    "la = [5,6]\n",
    "lb = [7,8,9]\n",
    "lc = [la,lb] * 2"
   ]
  },
  {
   "cell_type": "code",
   "execution_count": 132,
   "metadata": {},
   "outputs": [
    {
     "name": "stdout",
     "output_type": "stream",
     "text": [
      "[5, 6]\n"
     ]
    }
   ],
   "source": [
    "print(la)"
   ]
  },
  {
   "cell_type": "code",
   "execution_count": 133,
   "metadata": {},
   "outputs": [
    {
     "name": "stdout",
     "output_type": "stream",
     "text": [
      "[7, 8, 9]\n"
     ]
    }
   ],
   "source": [
    "print(lb)"
   ]
  },
  {
   "cell_type": "code",
   "execution_count": 134,
   "metadata": {},
   "outputs": [
    {
     "name": "stdout",
     "output_type": "stream",
     "text": [
      "[[5, 6], [7, 8, 9], [5, 6], [7, 8, 9]]\n"
     ]
    }
   ],
   "source": [
    "print(lc)"
   ]
  },
  {
   "cell_type": "markdown",
   "metadata": {},
   "source": [
    "By printing it, we see that the lists `la` and `lb` are represented inside `lc` - but how, exactly? `print` calls may trick you about the effective state of memory - to investigate further it's convenient to use Python Tutor:"
   ]
  },
  {
   "cell_type": "code",
   "execution_count": 135,
   "metadata": {},
   "outputs": [
    {
     "data": {
      "text/html": [
       "        \n",
       "        <script src=\"../_static/js/pytutor-embed.bundle.min.js\" type=\"application/javascript\"></script>\n",
       "    \n",
       "        <style>\n",
       "        @import \"../_static/css/jupman.css\";\n",
       "        </style>\n",
       "     \n",
       "        <script id=\"json-jm-0a3bba514a0d754a17fbff22c4e330b6-137\" type=\"application/json\" >\n",
       "            {\"code\": \" \\nla = [5,6]\\nlb = [7,8,9]\\nlc = [la,lb] * 2\", \"trace\": [{\"line\": 2, \"event\": \"step_line\", \"func_name\": \"<module>\", \"globals\": {}, \"ordered_globals\": [], \"stack_to_render\": [], \"heap\": {}, \"stdout\": \"\"}, {\"line\": 3, \"event\": \"step_line\", \"func_name\": \"<module>\", \"globals\": {\"la\": [\"REF\", 1]}, \"ordered_globals\": [\"la\"], \"stack_to_render\": [], \"heap\": {\"1\": [\"LIST\", 5, 6]}, \"stdout\": \"\"}, {\"line\": 4, \"event\": \"step_line\", \"func_name\": \"<module>\", \"globals\": {\"la\": [\"REF\", 1], \"lb\": [\"REF\", 2]}, \"ordered_globals\": [\"la\", \"lb\"], \"stack_to_render\": [], \"heap\": {\"1\": [\"LIST\", 5, 6], \"2\": [\"LIST\", 7, 8, 9]}, \"stdout\": \"\"}, {\"line\": 4, \"event\": \"return\", \"func_name\": \"<module>\", \"globals\": {\"la\": [\"REF\", 1], \"lb\": [\"REF\", 2], \"lc\": [\"REF\", 3]}, \"ordered_globals\": [\"la\", \"lb\", \"lc\"], \"stack_to_render\": [], \"heap\": {\"1\": [\"LIST\", 5, 6], \"2\": [\"LIST\", 7, 8, 9], \"3\": [\"LIST\", [\"REF\", 1], [\"REF\", 2], [\"REF\", 1], [\"REF\", 2]]}, \"stdout\": \"\"}]}\n",
       "        </script>\n",
       "        <div id=\"jm-0a3bba514a0d754a17fbff22c4e330b6-137\" class=\"pytutorVisualizer\"> </div>\n",
       "                        \n",
       "        <script>\n",
       "        \n",
       "        (function(){\n",
       "            console.log(\"jupman.py embedded javascript: adding Python tutor visualizer...\")\n",
       "            \n",
       "            var trace = JSON.parse(document.getElementById('json-jm-0a3bba514a0d754a17fbff22c4e330b6-137').innerHTML);                                        \n",
       "            // NOTE: id without #\n",
       "                    \n",
       "            addVisualizerToPage(trace, 'jm-0a3bba514a0d754a17fbff22c4e330b6-137',{'embeddedMode' : false,\n",
       "                                             'disableHeapNesting': true,\n",
       "                                             'visualizerIdOverride':'viz-jm-0a3bba514a0d754a17fbff22c4e330b6-137'})  \n",
       "            \n",
       "            \n",
       "            // set overflow for pytuts - need to do in python as css \n",
       "            // does not allow parent selection\n",
       "            var pytuts = $('.pytutorVisualizer')\n",
       "            pytuts.closest('div.output_html.rendered_html.output_result')\n",
       "                    .css('overflow-x', 'visible')\n",
       "        \n",
       "            //pytuts.closest('div.output_html.rendered_html.output_result')\n",
       "            //      .css('background-color','red')                \n",
       "            \n",
       "        })()\n",
       "        </script>\n",
       "                \n",
       "    \n",
       "    <div style=\"text-align:center; font-size:0.9em\"> <a href=\"https://pythontutor.com/visualize.html#mode=edit\" target=\"_blank\">Python Tutor</a> visualization</div> \n",
       "    "
      ],
      "text/plain": [
       "<IPython.core.display.HTML object>"
      ]
     },
     "execution_count": 135,
     "metadata": {},
     "output_type": "execute_result"
    }
   ],
   "source": [
    "la = [5,6]\n",
    "lb = [7,8,9]\n",
    "lc = [la,lb] * 2\n",
    "\n",
    "jupman.pytut()"
   ]
  },
  {
   "cell_type": "markdown",
   "metadata": {},
   "source": [
    "Arggh ! A jungle of arrows will appear ! This happens because when we write  `[la, lb]` we create a list with two _references_ to other lists  `[5,6]` and `[7,8,9]`, and the operator `*` when duplicating it just copies _references._\n",
    "\n",
    "For now we stop here, we will see the implications details later in the tutorial [matrices - lists of lists](https://en.softpython.org/matrices-lists/matrices-lists1-sol.html)"
   ]
  },
  {
   "cell_type": "markdown",
   "metadata": {},
   "source": [
    "## Equality\n",
    "\n",
    "We can check whether two lists are equal with equality operator `==`, which given two lists returns `True` if they contain equal elements or `False` otherwise:"
   ]
  },
  {
   "cell_type": "code",
   "execution_count": 136,
   "metadata": {},
   "outputs": [
    {
     "data": {
      "text/plain": [
       "True"
      ]
     },
     "execution_count": 136,
     "metadata": {},
     "output_type": "execute_result"
    }
   ],
   "source": [
    "[4,3,6] == [4,3,6]"
   ]
  },
  {
   "cell_type": "code",
   "execution_count": 137,
   "metadata": {},
   "outputs": [
    {
     "data": {
      "text/plain": [
       "False"
      ]
     },
     "execution_count": 137,
     "metadata": {},
     "output_type": "execute_result"
    }
   ],
   "source": [
    "[4,3,6] == [4,3]"
   ]
  },
  {
   "cell_type": "code",
   "execution_count": 138,
   "metadata": {},
   "outputs": [
    {
     "data": {
      "text/plain": [
       "False"
      ]
     },
     "execution_count": 138,
     "metadata": {},
     "output_type": "execute_result"
    }
   ],
   "source": [
    "[4,3,6] == [4,3,6, 'ciao']"
   ]
  },
  {
   "cell_type": "code",
   "execution_count": 139,
   "metadata": {},
   "outputs": [
    {
     "data": {
      "text/plain": [
       "False"
      ]
     },
     "execution_count": 139,
     "metadata": {},
     "output_type": "execute_result"
    }
   ],
   "source": [
    "[4,3,6] == [2,2,8]"
   ]
  },
  {
   "cell_type": "markdown",
   "metadata": {},
   "source": [
    "We can check equality of lists with heterogenous elements:"
   ]
  },
  {
   "cell_type": "code",
   "execution_count": 140,
   "metadata": {},
   "outputs": [
    {
     "data": {
      "text/plain": [
       "True"
      ]
     },
     "execution_count": 140,
     "metadata": {},
     "output_type": "execute_result"
    }
   ],
   "source": [
    "['apples', 3, ['cherries', 2], 6] == ['apples', 3, ['cherries', 2], 6]"
   ]
  },
  {
   "cell_type": "code",
   "execution_count": 141,
   "metadata": {},
   "outputs": [
    {
     "data": {
      "text/plain": [
       "False"
      ]
     },
     "execution_count": 141,
     "metadata": {},
     "output_type": "execute_result"
    }
   ],
   "source": [
    "['bananas', 3,['cherries', 2], 6] == ['apples', 3, ['cherries', 2], 6]"
   ]
  },
  {
   "cell_type": "markdown",
   "metadata": {},
   "source": [
    "To check for inequality, we can use the operatpr `!=`:"
   ]
  },
  {
   "cell_type": "code",
   "execution_count": 142,
   "metadata": {},
   "outputs": [
    {
     "data": {
      "text/plain": [
       "False"
      ]
     },
     "execution_count": 142,
     "metadata": {},
     "output_type": "execute_result"
    }
   ],
   "source": [
    "[2,2,8] != [2,2,8]"
   ]
  },
  {
   "cell_type": "code",
   "execution_count": 143,
   "metadata": {},
   "outputs": [
    {
     "data": {
      "text/plain": [
       "True"
      ]
     },
     "execution_count": 143,
     "metadata": {},
     "output_type": "execute_result"
    }
   ],
   "source": [
    "[4,6,0] != [2,2,8]"
   ]
  },
  {
   "cell_type": "code",
   "execution_count": 144,
   "metadata": {
    "scrolled": true
   },
   "outputs": [
    {
     "data": {
      "text/plain": [
       "True"
      ]
     },
     "execution_count": 144,
     "metadata": {},
     "output_type": "execute_result"
    }
   ],
   "source": [
    "[4,6,0] != [4,6,0,2]"
   ]
  },
  {
   "cell_type": "markdown",
   "metadata": {},
   "source": [
    "**QUESTION**: For each of the following expressions, guess whether it is `True`, `False` or it produces an error:\n",
    "\n",
    "    \n",
    "1.  ```python\n",
    "    [2,3,1] != [2,3,1]\n",
    "    ```\n",
    "1.  ```python    \n",
    "    [4,8,12] == [2*2,4*2,6*2]\n",
    "    ```\n",
    "1.  ```python    \n",
    "    [7,8][:] == [7,9-1]\n",
    "    ```\n",
    "1.  ```python    \n",
    "    [7][0] == [[7]][0]\n",
    "    ```\n",
    "1.  ```python    \n",
    "    [9] == [9][0]\n",
    "    ```\n",
    "1.  ```python    \n",
    "    [max(7,9)] == [max([7]),max([9])]\n",
    "    ```\n",
    "1.  ```python    \n",
    "    ['a','b','c'] == ['A','B','C']\n",
    "    ```\n",
    "1.  ```python    \n",
    "    ['a','b'] != ['a','b','c']\n",
    "    ```\n",
    "1.  ```python    \n",
    "    [\"ciao\"] != [\"CIAO\".lower()]\n",
    "    ```\n",
    "1.  ```python    \n",
    "    [True in [True]] != [False]\n",
    "    ```    \n",
    "1.  ```python    \n",
    "    [][:] == []\n",
    "    ```\n",
    "1.  ```python    \n",
    "    [[]] == [] + []\n",
    "    ```\n",
    "1.  ```python    \n",
    "    [[],[]] == [] + []\n",
    "    ```\n",
    "1.  ```python    \n",
    "    [[[]]] == [[[]+[]]]\n",
    "    ```"
   ]
  },
  {
   "cell_type": "markdown",
   "metadata": {},
   "source": [
    "## Continue\n",
    "\n",
    "You can find more exercise in the notebook [Lists 3 - basic methods](https://en.softpython.org/lists/lists3-sol.html)"
   ]
  },
  {
   "cell_type": "code",
   "execution_count": null,
   "metadata": {},
   "outputs": [],
   "source": []
  }
 ],
 "metadata": {
  "celltoolbar": "Edit Metadata",
  "kernelspec": {
   "display_name": "Python 3 (ipykernel)",
   "language": "python",
   "name": "python3"
  },
  "language_info": {
   "codemirror_mode": {
    "name": "ipython",
    "version": 3
   },
   "file_extension": ".py",
   "mimetype": "text/x-python",
   "name": "python",
   "nbconvert_exporter": "python",
   "pygments_lexer": "ipython3",
   "version": "3.7.17"
  },
  "toc": {
   "base_numbering": 1,
   "nav_menu": {},
   "number_sections": false,
   "sideBar": true,
   "skip_h1_title": false,
   "title_cell": "Table of Contents",
   "title_sidebar": "Contents",
   "toc_cell": false,
   "toc_position": {},
   "toc_section_display": true,
   "toc_window_display": true
  }
 },
 "nbformat": 4,
 "nbformat_minor": 2
}
