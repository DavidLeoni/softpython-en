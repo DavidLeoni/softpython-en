{
 "cells": [
  {
   "cell_type": "code",
   "execution_count": 1,
   "metadata": {
    "nbsphinx": "hidden"
   },
   "outputs": [],
   "source": [
    "# Remember to execute this cell with Shift+Enter\n",
    "\n",
    "import jupman"
   ]
  },
  {
   "cell_type": "markdown",
   "metadata": {},
   "source": [
    "# Lists 3 - Methods\n",
    "\n",
    "\n",
    "## [Download exercises zip](../_static/generated/lists.zip)\n",
    "\n",
    "[Browse files online](https://github.com/DavidLeoni/softpython-en/tree/master/lists)"
   ]
  },
  {
   "cell_type": "markdown",
   "metadata": {},
   "source": [
    "Lists are objects of type `list` and have several methods for performing operations on them:\n",
    "\n",
    "|Method|Returns|Description|\n",
    "|-------|------|-----------|\n",
    "|[list.append(obj)](#append-method)|`None`|Adds a new element at the end of the list|\n",
    "|[list.extend(list)](#extend-method)|`None`|Adds many elements at the end of the list|\n",
    "|[list.insert(int,obj)](#insert-method)|`None`|Adds a new element into some  given position|\n",
    "|[list.remove(obj)](#remove-method)|`None`|Removes the first occurrence of the element|\n",
    "|[list.pop()](#pop-method)|obj|Removes and return the element at last position|\n",
    "|[list.pop(int)](#pop-method)|obj|Given an index, removes and return the element at that position|\n",
    "|[list.reverse()](#reverse-method)|`None`|Inverts the order of elements|\n",
    "|[list.sort()](#sort-method)|`None`|Sorts the elements _in-place_|\n",
    "|[list.index(obj)](#index-method)|`int`|Finds the first occurrence of an element and returns the position|\n",
    "|[list.count(obj](#count-method)|`int`|Counts the occurrences of an object|"
   ]
  },
  {
   "cell_type": "markdown",
   "metadata": {},
   "source": [
    "<div class=\"alert alert-warning\">\n",
    "\n",
    "**WARNING 1: LIST METHODS _MODIFY_ THE LIST ON WHICH ARE CALLED !**\n",
    "\n",
    "Whenever you call a method of a list (the object to the left of the dot `.`), you MODIFY the list itself (differently from string methods which always generate a new string without changing the original)\n",
    "</div>\n",
    "\n",
    "<div class=\"alert alert-warning\">\n",
    "\n",
    "**WARNING 2: LIST METHODS RETURN NOTHING!**\n",
    "\n",
    "They almost always return the object `None` (differently from strings which always return a new string)\n",
    "    \n",
    "</div>"
   ]
  },
  {
   "cell_type": "markdown",
   "metadata": {},
   "source": [
    "## What to do\n",
    "\n",
    "1. Unzip [exercises zip](../_static/generated/lists.zip) in a folder, you should obtain something like this:\n",
    "\n",
    "```\n",
    "lists\n",
    "    lists1.ipynb    \n",
    "    lists1-sol.ipynb         \n",
    "    lists2.ipynb\n",
    "    lists2-sol.ipynb\n",
    "    lists3.ipynb\n",
    "    lists3-sol.ipynb    \n",
    "    lists4.ipynb\n",
    "    lists4-sol.ipynb    \n",
    "    jupman.py         \n",
    "```\n",
    "\n",
    "<div class=\"alert alert-warning\">\n",
    "\n",
    "**WARNING: to correctly visualize the notebook, it MUST be in an unzipped folder !**\n",
    "</div>"
   ]
  },
  {
   "cell_type": "markdown",
   "metadata": {},
   "source": [
    "2. open Jupyter Notebook from that folder. Two things should open, first a console and then a browser. The browser should show a file list: navigate the list and open the notebook `lists3.ipynb`\n",
    "\n",
    "3. Go on reading the exercises file, sometimes you will find paragraphs marked **Exercises** which will ask to write Python commands in the following cells. Exercises are graded by difficulty, from one star ✪ to four ✪✪✪✪"
   ]
  },
  {
   "cell_type": "markdown",
   "metadata": {},
   "source": [
    "Shortcut keys:\n",
    "\n",
    "- to execute Python code inside a Jupyter cell, press `Control + Enter`\n",
    "\n",
    "- to execute Python code inside a Jupyter cell AND select next cell, press `Shift + Enter`\n",
    "\n",
    "- to execute Python code inside a Jupyter cell AND a create a new cell aftwerwards, press `Alt + Enter`\n",
    "\n",
    "- If the notebooks look stuck, try to select `Kernel -> Restart`"
   ]
  },
  {
   "cell_type": "markdown",
   "metadata": {},
   "source": [
    "## `append` method\n",
    "\n",
    "We can MODIFY a list adding a single element at a time with the method `append`.\n",
    "\n",
    "Suppose to start from an empty list:"
   ]
  },
  {
   "cell_type": "code",
   "execution_count": 2,
   "metadata": {},
   "outputs": [],
   "source": [
    "la = []"
   ]
  },
  {
   "cell_type": "markdown",
   "metadata": {},
   "source": [
    "If we want to add as element the number `57`, we can write like this:"
   ]
  },
  {
   "cell_type": "code",
   "execution_count": 3,
   "metadata": {},
   "outputs": [],
   "source": [
    "la.append(57)"
   ]
  },
  {
   "cell_type": "markdown",
   "metadata": {},
   "source": [
    "Note the list we initalilly created got MODIFIED:"
   ]
  },
  {
   "cell_type": "code",
   "execution_count": 4,
   "metadata": {},
   "outputs": [
    {
     "data": {
      "text/plain": [
       "[57]"
      ]
     },
     "execution_count": 4,
     "metadata": {},
     "output_type": "execute_result"
    }
   ],
   "source": [
    "la"
   ]
  },
  {
   "cell_type": "markdown",
   "metadata": {},
   "source": [
    "<div class=\"alert alert-warning\">\n",
    "\n",
    "**WARNING:** `la.append(57)` **returned NOTHING !!!!**\n",
    "    \n",
    "Observe carefully the output of cell with instruction `la.append(57)`, you will notice there is absolutely nothing. This happens because the purpose of `append` is to MODIFY the list on which it is called, NOT generating new lists.\n",
    "</div>"
   ]
  },
  {
   "cell_type": "markdown",
   "metadata": {},
   "source": [
    "We append another number _at the end_ of the list:"
   ]
  },
  {
   "cell_type": "code",
   "execution_count": 5,
   "metadata": {},
   "outputs": [],
   "source": [
    "la.append(96)"
   ]
  },
  {
   "cell_type": "code",
   "execution_count": 6,
   "metadata": {},
   "outputs": [
    {
     "data": {
      "text/plain": [
       "[57, 96]"
      ]
     },
     "execution_count": 6,
     "metadata": {},
     "output_type": "execute_result"
    }
   ],
   "source": [
    "la"
   ]
  },
  {
   "cell_type": "code",
   "execution_count": 7,
   "metadata": {},
   "outputs": [],
   "source": [
    "la.append(74)"
   ]
  },
  {
   "cell_type": "code",
   "execution_count": 8,
   "metadata": {},
   "outputs": [
    {
     "data": {
      "text/plain": [
       "[57, 96, 74]"
      ]
     },
     "execution_count": 8,
     "metadata": {},
     "output_type": "execute_result"
    }
   ],
   "source": [
    "la"
   ]
  },
  {
   "cell_type": "markdown",
   "metadata": {},
   "source": [
    "Let's see what happened in Python Tutor:"
   ]
  },
  {
   "cell_type": "code",
   "execution_count": 9,
   "metadata": {},
   "outputs": [],
   "source": [
    "# WARNING: FOR PYTHON TUTOR TO WORK, REMEMBER TO EXECUTE THIS CELL with Shift+Enter      \n",
    "#          (it's sufficient to execute it only once)\n",
    "\n",
    "import jupman"
   ]
  },
  {
   "cell_type": "code",
   "execution_count": 10,
   "metadata": {},
   "outputs": [
    {
     "data": {
      "text/html": [
       "\n",
       "        <script src=\"../_static/js/pytutor-embed.bundle.min.js\" type=\"application/javascript\"></script>\n",
       "     \n",
       "        <script id=\"json-jm3d86f010-6706-4e6d-8f54-b27c9977039f\" type=\"application/json\" >\n",
       "            {\"trace\": [{\"func_name\": \"<module>\", \"stdout\": \"\", \"globals\": {}, \"heap\": {}, \"stack_to_render\": [], \"line\": 2, \"event\": \"step_line\", \"ordered_globals\": []}, {\"func_name\": \"<module>\", \"stdout\": \"\", \"globals\": {\"la\": [\"REF\", 1]}, \"heap\": {\"1\": [\"LIST\"]}, \"stack_to_render\": [], \"line\": 3, \"event\": \"step_line\", \"ordered_globals\": [\"la\"]}, {\"func_name\": \"<module>\", \"stdout\": \"\", \"globals\": {\"la\": [\"REF\", 1]}, \"heap\": {\"1\": [\"LIST\", 57]}, \"stack_to_render\": [], \"line\": 4, \"event\": \"step_line\", \"ordered_globals\": [\"la\"]}, {\"func_name\": \"<module>\", \"stdout\": \"\", \"globals\": {\"la\": [\"REF\", 1]}, \"heap\": {\"1\": [\"LIST\", 57, 96]}, \"stack_to_render\": [], \"line\": 5, \"event\": \"step_line\", \"ordered_globals\": [\"la\"]}, {\"func_name\": \"<module>\", \"stdout\": \"\", \"globals\": {\"la\": [\"REF\", 1]}, \"heap\": {\"1\": [\"LIST\", 57, 96, 74]}, \"stack_to_render\": [], \"line\": 5, \"event\": \"return\", \"ordered_globals\": [\"la\"]}], \"code\": \" \\nla = []\\nla.append(57)\\nla.append(96)\\nla.append(74)\"}\n",
       "        </script>\n",
       "        <div id=\"jm3d86f010-6706-4e6d-8f54-b27c9977039f\" class=\"pytutorVisualizer\"> </div>\n",
       " \n",
       "        <style>\n",
       "        .vizLayoutTd {\n",
       "            background-color: #fff !important;\n",
       "        }\n",
       "\n",
       "        #pyStdout {            \n",
       "            min-height:25px;\n",
       "        }\n",
       "\n",
       "        /* 'Edit this code' link, hiding because replaces browser tab !!!*/\n",
       "        #editCodeLinkDiv {\n",
       "            display:none;  \n",
       "        }\n",
       "        </style>   \n",
       "                            \n",
       "        <script>\n",
       "        (function(){\n",
       "\n",
       "            var trace = JSON.parse(document.getElementById('json-jm3d86f010-6706-4e6d-8f54-b27c9977039f').innerHTML);                                        \n",
       "            // NOTE 1: id without #\n",
       "            // NOTE 2 - maybe there are more predictable ways, but this will work anyway\n",
       "            //        - id should be number\n",
       "            visualizerIdOverride = Math.trunc(Math.random() * 100000000000)\n",
       "            addVisualizerToPage(trace, 'jm3d86f010-6706-4e6d-8f54-b27c9977039f',{'embeddedMode' : false,\n",
       "                                             'visualizerIdOverride':visualizerIdOverride})  \n",
       "            \n",
       "            \n",
       "            // set overflow for pytuts - need to do in python as css \n",
       "            // does not allow parent selection\n",
       "            var pytuts = $('.pytutorVisualizer')\n",
       "            pytuts.closest('div.output_html.rendered_html.output_result')\n",
       "                    .css('overflow-x', 'visible')\n",
       "        \n",
       "            //pytuts.closest('div.output_html.rendered_html.output_result')\n",
       "            //      .css('background-color','red')                \n",
       "            \n",
       "        })()\n",
       "        </script>\n",
       "                \n",
       "                "
      ],
      "text/plain": [
       "<IPython.core.display.HTML object>"
      ]
     },
     "execution_count": 10,
     "metadata": {},
     "output_type": "execute_result"
    }
   ],
   "source": [
    "la = []\n",
    "la.append(57)\n",
    "la.append(96)\n",
    "la.append(74)\n",
    "\n",
    "jupman.pytut()"
   ]
  },
  {
   "cell_type": "markdown",
   "metadata": {},
   "source": [
    "Note there is only one yellow memory region associated to variable `la` which gets expanded as you click on Next."
   ]
  },
  {
   "cell_type": "markdown",
   "metadata": {},
   "source": [
    "We said `append` method returns nothing, let's try to add some detail. In the methods table, there is present a column named _Returns_. If you check it, for almost all methods included `append` there is indicated it returns `None`.\n",
    "\n",
    "`None` is the most boring object in Python, because it literally means nothing. What can you do with nothing? Very few things, so few that whenever Jupyter finds as result the `None` object it doesn't even print it. Try directly inserting `None` in a cell, you will see it won't be reported in cell output:"
   ]
  },
  {
   "cell_type": "code",
   "execution_count": 11,
   "metadata": {},
   "outputs": [],
   "source": [
    "None"
   ]
  },
  {
   "cell_type": "markdown",
   "metadata": {},
   "source": [
    "A way to force the print is by using the command `print`:"
   ]
  },
  {
   "cell_type": "code",
   "execution_count": 12,
   "metadata": {},
   "outputs": [
    {
     "name": "stdout",
     "output_type": "stream",
     "text": [
      "None\n"
     ]
    }
   ],
   "source": [
    "print(None)"
   ]
  },
  {
   "cell_type": "markdown",
   "metadata": {},
   "source": [
    "**EXERCISE**: What is the type of the object `None`? Discover it by using the funciton `type`"
   ]
  },
  {
   "cell_type": "raw",
   "id": "dynamic-stockholm",
   "metadata": {
    "format": "text/html"
   },
   "source": [
    "<a  class=\"jupman-sol jupman-sol-toggler\" \n",
    " onclick=\"jupman.toggleSolution(this);\" \n",
    " data-jupman-show=\"Show solution\" data-jupman-hide=\"Hide\">Show solution</a><div class=\"jupman-sol jupman-sol-code\" style=\"display:none\">  "
   ]
  },
  {
   "cell_type": "code",
   "execution_count": 13,
   "metadata": {},
   "outputs": [],
   "source": [
    "# write here\n",
    "\n",
    "#type(None)"
   ]
  },
  {
   "cell_type": "raw",
   "id": "dramatic-crisis",
   "metadata": {
    "format": "text/html"
   },
   "source": [
    "</div>"
   ]
  },
  {
   "cell_type": "code",
   "execution_count": 13,
   "metadata": {},
   "outputs": [],
   "source": [
    "# write here\n",
    "\n"
   ]
  },
  {
   "cell_type": "markdown",
   "metadata": {},
   "source": [
    "Let's try repeating what happens with `append`. If you call the method `append` on a list, \n",
    "`append` silently MODIFIES the list, and RETURNS the object `None` as call result. Notice that Jupyter considers this object as non-interesting, so it doesn't even print it.\n",
    "\n",
    "Let's try to get explicit about this misterious `None`. If it's true that `append` produces it as call result, it means we can associate this result to some variable. Let's try to associate it to variable `x`:"
   ]
  },
  {
   "cell_type": "code",
   "execution_count": 14,
   "metadata": {},
   "outputs": [],
   "source": [
    "la = []\n",
    "x = la.append(78)"
   ]
  },
  {
   "cell_type": "markdown",
   "metadata": {},
   "source": [
    "Now, if everything went as we wrote,  `append` should have modified the list:"
   ]
  },
  {
   "cell_type": "code",
   "execution_count": 15,
   "metadata": {},
   "outputs": [
    {
     "data": {
      "text/plain": [
       "[78]"
      ]
     },
     "execution_count": 15,
     "metadata": {},
     "output_type": "execute_result"
    }
   ],
   "source": [
    "la"
   ]
  },
  {
   "cell_type": "markdown",
   "metadata": {},
   "source": [
    "and there should be associated `None` to variable `x`. So, if we ask Jupyter to show the value associated to `x` and that value is `None`, nothing will appear:"
   ]
  },
  {
   "cell_type": "code",
   "execution_count": 16,
   "metadata": {},
   "outputs": [],
   "source": [
    "x"
   ]
  },
  {
   "cell_type": "markdown",
   "metadata": {},
   "source": [
    "Note there is no output in the cell, apparently we are really in presence of a `None`.\n",
    "Let's force the `print`:"
   ]
  },
  {
   "cell_type": "code",
   "execution_count": 17,
   "metadata": {},
   "outputs": [
    {
     "name": "stdout",
     "output_type": "stream",
     "text": [
      "None\n"
     ]
    }
   ],
   "source": [
    "print(x)"
   ]
  },
  {
   "cell_type": "markdown",
   "metadata": {},
   "source": [
    "Here it is! Probably you will be a little confused by all of this, so let's check again what happens in Python Tutor:"
   ]
  },
  {
   "cell_type": "code",
   "execution_count": 18,
   "metadata": {},
   "outputs": [
    {
     "name": "stdout",
     "output_type": "stream",
     "text": [
      "la is [78]\n",
      "x is None\n"
     ]
    },
    {
     "data": {
      "text/html": [
       "\n",
       "        <script src=\"../_static/js/pytutor-embed.bundle.min.js\" type=\"application/javascript\"></script>\n",
       "     \n",
       "        <script id=\"json-jm98100129-e45e-4408-af16-721abc6e82dd\" type=\"application/json\" >\n",
       "            {\"trace\": [{\"func_name\": \"<module>\", \"stdout\": \"\", \"globals\": {}, \"heap\": {}, \"stack_to_render\": [], \"line\": 2, \"event\": \"step_line\", \"ordered_globals\": []}, {\"func_name\": \"<module>\", \"stdout\": \"\", \"globals\": {\"la\": [\"REF\", 1]}, \"heap\": {\"1\": [\"LIST\"]}, \"stack_to_render\": [], \"line\": 3, \"event\": \"step_line\", \"ordered_globals\": [\"la\"]}, {\"func_name\": \"<module>\", \"stdout\": \"\", \"globals\": {\"la\": [\"REF\", 1], \"x\": null}, \"heap\": {\"1\": [\"LIST\", 78]}, \"stack_to_render\": [], \"line\": 4, \"event\": \"step_line\", \"ordered_globals\": [\"la\", \"x\"]}, {\"func_name\": \"<module>\", \"stdout\": \"la is [78]\\n\", \"globals\": {\"la\": [\"REF\", 1], \"x\": null}, \"heap\": {\"1\": [\"LIST\", 78]}, \"stack_to_render\": [], \"line\": 5, \"event\": \"step_line\", \"ordered_globals\": [\"la\", \"x\"]}, {\"func_name\": \"<module>\", \"stdout\": \"la is [78]\\nx is None\\n\", \"globals\": {\"la\": [\"REF\", 1], \"x\": null}, \"heap\": {\"1\": [\"LIST\", 78]}, \"stack_to_render\": [], \"line\": 5, \"event\": \"return\", \"ordered_globals\": [\"la\", \"x\"]}], \"code\": \" \\nla = []\\nx = la.append(78)\\nprint(\\\"la is\\\", la)\\nprint(\\\"x is\\\", x)\"}\n",
       "        </script>\n",
       "        <div id=\"jm98100129-e45e-4408-af16-721abc6e82dd\" class=\"pytutorVisualizer\"> </div>\n",
       " \n",
       "        <style>\n",
       "        .vizLayoutTd {\n",
       "            background-color: #fff !important;\n",
       "        }\n",
       "\n",
       "        #pyStdout {            \n",
       "            min-height:25px;\n",
       "        }\n",
       "\n",
       "        /* 'Edit this code' link, hiding because replaces browser tab !!!*/\n",
       "        #editCodeLinkDiv {\n",
       "            display:none;  \n",
       "        }\n",
       "        </style>   \n",
       "                            \n",
       "        <script>\n",
       "        (function(){\n",
       "\n",
       "            var trace = JSON.parse(document.getElementById('json-jm98100129-e45e-4408-af16-721abc6e82dd').innerHTML);                                        \n",
       "            // NOTE 1: id without #\n",
       "            // NOTE 2 - maybe there are more predictable ways, but this will work anyway\n",
       "            //        - id should be number\n",
       "            visualizerIdOverride = Math.trunc(Math.random() * 100000000000)\n",
       "            addVisualizerToPage(trace, 'jm98100129-e45e-4408-af16-721abc6e82dd',{'embeddedMode' : false,\n",
       "                                             'visualizerIdOverride':visualizerIdOverride})  \n",
       "            \n",
       "            \n",
       "            // set overflow for pytuts - need to do in python as css \n",
       "            // does not allow parent selection\n",
       "            var pytuts = $('.pytutorVisualizer')\n",
       "            pytuts.closest('div.output_html.rendered_html.output_result')\n",
       "                    .css('overflow-x', 'visible')\n",
       "        \n",
       "            //pytuts.closest('div.output_html.rendered_html.output_result')\n",
       "            //      .css('background-color','red')                \n",
       "            \n",
       "        })()\n",
       "        </script>\n",
       "                \n",
       "                "
      ],
      "text/plain": [
       "<IPython.core.display.HTML object>"
      ]
     },
     "execution_count": 18,
     "metadata": {},
     "output_type": "execute_result"
    }
   ],
   "source": [
    "la = []\n",
    "x = la.append(78)\n",
    "print(\"la is\", la)\n",
    "print(\"x is\", x)\n",
    "\n",
    "jupman.pytut()"
   ]
  },
  {
   "cell_type": "markdown",
   "metadata": {},
   "source": [
    "What's the final gist?\n",
    "\n",
    "<div class=\"alert alert-warning\">\n",
    "\n",
    "**REUSING THE RESULT OF LIST METHODS CALLS IS ALMOST ALWAYS AN ERROR !**\n",
    "\n",
    "Since calling list methods returns `None`, which is a 'useless' object, trying to reuse it will almost surely produce an error\n",
    "</div>"
   ]
  },
  {
   "cell_type": "markdown",
   "metadata": {},
   "source": [
    "**EXERCISE**: Build a list by adding one element at a time with the method `append`. Add the  elements  `77`, `\"test\"`, `[60,93]` with three calls to `append`, and finally print the list.\n",
    "\n",
    "After your code, you should see `[77, 'test', [60, 93]]`"
   ]
  },
  {
   "cell_type": "raw",
   "id": "mounted-recycling",
   "metadata": {
    "format": "text/html"
   },
   "source": [
    "<a  class=\"jupman-sol jupman-sol-toggler\" \n",
    " onclick=\"jupman.toggleSolution(this);\" \n",
    " data-jupman-show=\"Show solution\" data-jupman-hide=\"Hide\">Show solution</a><div class=\"jupman-sol jupman-sol-code\" style=\"display:none\">  "
   ]
  },
  {
   "cell_type": "code",
   "execution_count": 19,
   "metadata": {},
   "outputs": [],
   "source": [
    "la = []\n",
    "\n",
    "# write here\n",
    "la.append(77)\n",
    "la.append(\"test\")\n",
    "la.append([60, 93])\n",
    "\n",
    "#print(la)\n"
   ]
  },
  {
   "cell_type": "raw",
   "id": "voluntary-roman",
   "metadata": {
    "format": "text/html"
   },
   "source": [
    "</div>"
   ]
  },
  {
   "cell_type": "code",
   "execution_count": 19,
   "metadata": {},
   "outputs": [],
   "source": [
    "la = []\n",
    "\n",
    "# write here\n",
    "\n"
   ]
  },
  {
   "cell_type": "markdown",
   "metadata": {},
   "source": [
    "**QUESTION**: The following code:\n",
    "\n",
    "```python\n",
    "la = []\n",
    "la.append(85,70,94)\n",
    "```\n",
    "\n",
    "1. produces an error (which one?)\n",
    "2. modifies the list (how?)"
   ]
  },
  {
   "cell_type": "raw",
   "id": "synthetic-mother",
   "metadata": {
    "format": "text/html"
   },
   "source": [
    "<a  class=\"jupman-sol jupman-sol-toggler\" \n",
    " onclick=\"jupman.toggleSolution(this);\" \n",
    " data-jupman-show=\"Show answer\" data-jupman-hide=\"Hide\">Show answer</a><div class=\"jupman-sol jupman-sol-question\" style=\"display:none\">  "
   ]
  },
  {
   "cell_type": "markdown",
   "metadata": {},
   "source": [
    "**ANSWER**: 1: `append` accepts only one argument, by passing more than one will produce an error, to see which try to execute the code in a cell.\n"
   ]
  },
  {
   "cell_type": "raw",
   "id": "invalid-layer",
   "metadata": {
    "format": "text/html"
   },
   "source": [
    "</div>"
   ]
  },
  {
   "cell_type": "markdown",
   "metadata": {},
   "source": [
    "**QUESTION**: The following code\n",
    "\n",
    "```python\n",
    "la = []\n",
    "la.append(87).append(96)\n",
    "```\n",
    "\n",
    "1. produces an error\n",
    "2. appends to `la` the numbers `87` and `96`"
   ]
  },
  {
   "cell_type": "raw",
   "id": "supreme-understanding",
   "metadata": {
    "format": "text/html"
   },
   "source": [
    "<a  class=\"jupman-sol jupman-sol-toggler\" \n",
    " onclick=\"jupman.toggleSolution(this);\" \n",
    " data-jupman-show=\"Show answer\" data-jupman-hide=\"Hide\">Show answer</a><div class=\"jupman-sol jupman-sol-question\" style=\"display:none\">  "
   ]
  },
  {
   "cell_type": "markdown",
   "metadata": {},
   "source": [
    "**ANSWER**: 1: produces an error, because we said the call to `la.append(87)` MODIFIES the list  `la` on which it is called and return the value `None`. If on `None` we try calling `.append(96)`, since `None` is not a list we will get an error message. Make sure of this using Python Tutor."
   ]
  },
  {
   "cell_type": "raw",
   "id": "activated-basketball",
   "metadata": {
    "format": "text/html"
   },
   "source": [
    "</div>"
   ]
  },
  {
   "cell_type": "markdown",
   "metadata": {},
   "source": [
    "\n",
    "**QUESTION**: let's briefly go back to strings. Look at the following code (if you don't remember what string methods do [see here](https://en.softpython.org/strings/strings3-sol.html#Methods))\n",
    "    \n",
    "```python\n",
    "\n",
    "sa = '    trento    '\n",
    "sb = sa.strip().capitalize()\n",
    "print(sb)\n",
    "```\n",
    "\n",
    "1. produces an error (which one?)\n",
    "2. changes `sa` (how?)\n",
    "3. prints something (what?)"
   ]
  },
  {
   "cell_type": "raw",
   "id": "tested-review",
   "metadata": {
    "format": "text/html"
   },
   "source": [
    "<a  class=\"jupman-sol jupman-sol-toggler\" \n",
    " onclick=\"jupman.toggleSolution(this);\" \n",
    " data-jupman-show=\"Show answer\" data-jupman-hide=\"Hide\">Show answer</a><div class=\"jupman-sol jupman-sol-question\" style=\"display:none\">  "
   ]
  },
  {
   "cell_type": "markdown",
   "metadata": {},
   "source": [
    "**ANSWER**: 3: prints `Trento`. Differently from lists, the strings are _immutable_ sequences: this means that when you call a method of strings you are sure it will RETURN a NEW string. So the first call to `sa.strip()` RETURNS the string without spaces at beginning and end of `'trento'`, and on this string the method `capitalize()` is called to make the first character uppercase.\n",
    "\n",
    "If this is not clear to you, try to executing the following code in Python Tutor. It is equivalent to the one in the example but it explicitly shows the passage by assigning the result of calling `sa.strip()` to the extra variable `x`\n",
    "\n",
    "```python\n",
    "sa = '    trento    '\n",
    "x = sa.strip()\n",
    "sb = x.capitalize()\n",
    "print(sb)\n",
    "```\n"
   ]
  },
  {
   "cell_type": "raw",
   "id": "public-minutes",
   "metadata": {
    "format": "text/html"
   },
   "source": [
    "</div>"
   ]
  },
  {
   "cell_type": "markdown",
   "metadata": {},
   "source": [
    "**QUESTION**: Have a look at this code. Will it print something at the end? Or will it produce an error?\n",
    "    \n",
    "```python\n",
    "la = []\n",
    "lb = []\n",
    "la.append(lb)\n",
    "\n",
    "lb.append(98)\n",
    "lb.append(77)\n",
    "\n",
    "print(la)\n",
    "```"
   ]
  },
  {
   "cell_type": "raw",
   "id": "economic-offset",
   "metadata": {
    "format": "text/html"
   },
   "source": [
    "<a  class=\"jupman-sol jupman-sol-toggler\" \n",
    " onclick=\"jupman.toggleSolution(this);\" \n",
    " data-jupman-show=\"Show answer\" data-jupman-hide=\"Hide\">Show answer</a><div class=\"jupman-sol jupman-sol-question\" style=\"display:none\">  "
   ]
  },
  {
   "cell_type": "markdown",
   "metadata": {},
   "source": [
    "**ANSWER**: It will print`[[98, 77]]`, because we put `lb` inside `la`.\n",
    "\n",
    "Even if with first `append` we added `lb` as first element of `la`, aftwerwards it is perfectly lecit keeping on modifying `lb` by calling `lb.append(98)`. \n",
    "\n",
    "Try executing the code in Python Tutor, and see the arrows."
   ]
  },
  {
   "cell_type": "raw",
   "id": "adjustable-animation",
   "metadata": {
    "format": "text/html"
   },
   "source": [
    "</div>"
   ]
  },
  {
   "cell_type": "markdown",
   "metadata": {},
   "source": [
    "### Exercise - augmenting a list 1\n",
    "\n",
    "Given the list `la` of _fixed dimension 7,_ write some code to augment the empty list `lb` so to _only_ contain the elements of `la` with even index (0, 2, 4, ...).\n",
    "\n",
    "- Your code should work with _any_ list `la` of fixed dimension 7\n",
    "\n",
    "```python\n",
    "#   0 1 2 3 4 5 6  \n",
    "la=[8,4,3,5,7,3,5]\n",
    "lb=[]\n",
    "```\n",
    "\n",
    "After your code, you should obtain:\n",
    "\n",
    "```python\n",
    ">>> print(lb)\n",
    "[8,3,7,5]\n",
    "```"
   ]
  },
  {
   "cell_type": "raw",
   "id": "exotic-youth",
   "metadata": {
    "format": "text/html"
   },
   "source": [
    "<a  class=\"jupman-sol jupman-sol-toggler\" \n",
    " onclick=\"jupman.toggleSolution(this);\" \n",
    " data-jupman-show=\"Show solution\" data-jupman-hide=\"Hide\">Show solution</a><div class=\"jupman-sol jupman-sol-code\" style=\"display:none\">  "
   ]
  },
  {
   "cell_type": "code",
   "execution_count": 20,
   "metadata": {},
   "outputs": [
    {
     "name": "stdout",
     "output_type": "stream",
     "text": [
      "[8, 3, 7, 5]\n"
     ]
    }
   ],
   "source": [
    "\n",
    "#   0 1 2 3 4 5 6  \n",
    "la=[8,4,3,5,7,3,5]\n",
    "lb=[]\n",
    "\n",
    "# write here\n",
    "lb.append(la[0])\n",
    "lb.append(la[2])\n",
    "lb.append(la[4])\n",
    "lb.append(la[6])\n",
    "print(lb)"
   ]
  },
  {
   "cell_type": "raw",
   "id": "black-zoning",
   "metadata": {
    "format": "text/html"
   },
   "source": [
    "</div>"
   ]
  },
  {
   "cell_type": "code",
   "execution_count": 20,
   "metadata": {},
   "outputs": [
    {
     "name": "stdout",
     "output_type": "stream",
     "text": [
      "[8, 3, 7, 5]\n"
     ]
    }
   ],
   "source": [
    "\n",
    "#   0 1 2 3 4 5 6  \n",
    "la=[8,4,3,5,7,3,5]\n",
    "lb=[]\n",
    "\n",
    "# write here\n",
    "\n"
   ]
  },
  {
   "cell_type": "markdown",
   "metadata": {},
   "source": [
    "## `extend` method"
   ]
  },
  {
   "cell_type": "markdown",
   "metadata": {},
   "source": [
    "We've seen that with `append` we can augment a list _one element at a time._\n",
    "\n",
    "What if we wanted to add in a single shot many elements, maybe taken from another list? \n",
    "\n",
    "We should use the method `extend`, which MODIFIES the list on which it is called by adding all the elements found in the input sequence."
   ]
  },
  {
   "cell_type": "code",
   "execution_count": 21,
   "metadata": {},
   "outputs": [],
   "source": [
    "la = [78,60,59]"
   ]
  },
  {
   "cell_type": "code",
   "execution_count": 22,
   "metadata": {},
   "outputs": [],
   "source": [
    "lb = [68,97,67,98]"
   ]
  },
  {
   "cell_type": "code",
   "execution_count": 23,
   "metadata": {},
   "outputs": [],
   "source": [
    "la.extend(lb)"
   ]
  },
  {
   "cell_type": "code",
   "execution_count": 24,
   "metadata": {},
   "outputs": [
    {
     "data": {
      "text/plain": [
       "[78, 60, 59, 68, 97, 67, 98]"
      ]
     },
     "execution_count": 24,
     "metadata": {},
     "output_type": "execute_result"
    }
   ],
   "source": [
    "la"
   ]
  },
  {
   "cell_type": "code",
   "execution_count": 25,
   "metadata": {},
   "outputs": [
    {
     "data": {
      "text/plain": [
       "[68, 97, 67, 98]"
      ]
     },
     "execution_count": 25,
     "metadata": {},
     "output_type": "execute_result"
    }
   ],
   "source": [
    "lb"
   ]
  },
  {
   "cell_type": "markdown",
   "metadata": {},
   "source": [
    "In the example above, `extend` is called on the variable `la`, and we passed `lb` as parameter\n",
    "\n",
    "<div class=\"alert alert-warning\">\n",
    "\n",
    "**WARNING**: `la` is MODIFIED, but the sequence we passed in round parenthesis is not (`lb` in the example)\n",
    "\n",
    "</div>"
   ]
  },
  {
   "cell_type": "markdown",
   "metadata": {},
   "source": [
    "**QUESTION**: the execution of method `extend` returns something? What do you see in the output of cell `la.extend(lb)` ?"
   ]
  },
  {
   "cell_type": "raw",
   "id": "amazing-norwegian",
   "metadata": {
    "format": "text/html"
   },
   "source": [
    "<a  class=\"jupman-sol jupman-sol-toggler\" \n",
    " onclick=\"jupman.toggleSolution(this);\" \n",
    " data-jupman-show=\"Show answer\" data-jupman-hide=\"Hide\">Show answer</a><div class=\"jupman-sol jupman-sol-question\" style=\"display:none\">  "
   ]
  },
  {
   "cell_type": "markdown",
   "metadata": {},
   "source": [
    "**ANSWER**:  `extend`, as all list methods, doesn't return anything. To be more explicit, it returns the object `None`, which is not even printed by Jupyter."
   ]
  },
  {
   "cell_type": "raw",
   "id": "impaired-fellowship",
   "metadata": {
    "format": "text/html"
   },
   "source": [
    "</div>"
   ]
  },
  {
   "cell_type": "markdown",
   "metadata": {},
   "source": [
    "Let's verify what happened with Python Tutor:"
   ]
  },
  {
   "cell_type": "code",
   "execution_count": 26,
   "metadata": {},
   "outputs": [
    {
     "data": {
      "text/html": [
       "\n",
       "        <script src=\"../_static/js/pytutor-embed.bundle.min.js\" type=\"application/javascript\"></script>\n",
       "     \n",
       "        <script id=\"json-jmb2a2c87f-f422-4034-8ec5-539328214b0a\" type=\"application/json\" >\n",
       "            {\"trace\": [{\"func_name\": \"<module>\", \"stdout\": \"\", \"globals\": {}, \"heap\": {}, \"stack_to_render\": [], \"line\": 2, \"event\": \"step_line\", \"ordered_globals\": []}, {\"func_name\": \"<module>\", \"stdout\": \"\", \"globals\": {\"la\": [\"REF\", 1]}, \"heap\": {\"1\": [\"LIST\", 78, 60, 59]}, \"stack_to_render\": [], \"line\": 3, \"event\": \"step_line\", \"ordered_globals\": [\"la\"]}, {\"func_name\": \"<module>\", \"stdout\": \"\", \"globals\": {\"lb\": [\"REF\", 2], \"la\": [\"REF\", 1]}, \"heap\": {\"1\": [\"LIST\", 78, 60, 59], \"2\": [\"LIST\", 68, 97, 67, 98]}, \"stack_to_render\": [], \"line\": 4, \"event\": \"step_line\", \"ordered_globals\": [\"la\", \"lb\"]}, {\"func_name\": \"<module>\", \"stdout\": \"\", \"globals\": {\"lb\": [\"REF\", 2], \"la\": [\"REF\", 1]}, \"heap\": {\"1\": [\"LIST\", 78, 60, 59, 68, 97, 67, 98], \"2\": [\"LIST\", 68, 97, 67, 98]}, \"stack_to_render\": [], \"line\": 4, \"event\": \"return\", \"ordered_globals\": [\"la\", \"lb\"]}], \"code\": \" \\nla = [78,60,59]\\nlb = [68,97,67,98]\\nla.extend(lb)\"}\n",
       "        </script>\n",
       "        <div id=\"jmb2a2c87f-f422-4034-8ec5-539328214b0a\" class=\"pytutorVisualizer\"> </div>\n",
       " \n",
       "        <style>\n",
       "        .vizLayoutTd {\n",
       "            background-color: #fff !important;\n",
       "        }\n",
       "\n",
       "        #pyStdout {            \n",
       "            min-height:25px;\n",
       "        }\n",
       "\n",
       "        /* 'Edit this code' link, hiding because replaces browser tab !!!*/\n",
       "        #editCodeLinkDiv {\n",
       "            display:none;  \n",
       "        }\n",
       "        </style>   \n",
       "                            \n",
       "        <script>\n",
       "        (function(){\n",
       "\n",
       "            var trace = JSON.parse(document.getElementById('json-jmb2a2c87f-f422-4034-8ec5-539328214b0a').innerHTML);                                        \n",
       "            // NOTE 1: id without #\n",
       "            // NOTE 2 - maybe there are more predictable ways, but this will work anyway\n",
       "            //        - id should be number\n",
       "            visualizerIdOverride = Math.trunc(Math.random() * 100000000000)\n",
       "            addVisualizerToPage(trace, 'jmb2a2c87f-f422-4034-8ec5-539328214b0a',{'embeddedMode' : false,\n",
       "                                             'visualizerIdOverride':visualizerIdOverride})  \n",
       "            \n",
       "            \n",
       "            // set overflow for pytuts - need to do in python as css \n",
       "            // does not allow parent selection\n",
       "            var pytuts = $('.pytutorVisualizer')\n",
       "            pytuts.closest('div.output_html.rendered_html.output_result')\n",
       "                    .css('overflow-x', 'visible')\n",
       "        \n",
       "            //pytuts.closest('div.output_html.rendered_html.output_result')\n",
       "            //      .css('background-color','red')                \n",
       "            \n",
       "        })()\n",
       "        </script>\n",
       "                \n",
       "                "
      ],
      "text/plain": [
       "<IPython.core.display.HTML object>"
      ]
     },
     "execution_count": 26,
     "metadata": {},
     "output_type": "execute_result"
    }
   ],
   "source": [
    "la = [78,60,59]\n",
    "lb = [68,97,67,98]\n",
    "la.extend(lb)\n",
    "\n",
    "jupman.pytut()"
   ]
  },
  {
   "cell_type": "markdown",
   "metadata": {},
   "source": [
    "**QUESTION**: Look inside this code. Which will be the values associated to variables `la` ,`lb` and `x` after its execution?\n",
    "\n",
    "\n",
    "```python\n",
    "la = [34,79,54]\n",
    "lb = [86,45]\n",
    "x = la.extend(lb)\n",
    "\n",
    "print('la is ', la)\n",
    "print('lb is ', lb)\n",
    "print('x  is ', x)\n",
    "```"
   ]
  },
  {
   "cell_type": "raw",
   "id": "integral-tribute",
   "metadata": {
    "format": "text/html"
   },
   "source": [
    "<a  class=\"jupman-sol jupman-sol-toggler\" \n",
    " onclick=\"jupman.toggleSolution(this);\" \n",
    " data-jupman-show=\"Show answer\" data-jupman-hide=\"Hide\">Show answer</a><div class=\"jupman-sol jupman-sol-question\" style=\"display:none\">  "
   ]
  },
  {
   "cell_type": "markdown",
   "metadata": {},
   "source": [
    "**ANSWER**: It will print this:\n",
    "\n",
    "```\n",
    "la is  [34, 79, 54, 86, 45]\n",
    "lb is  [86, 45]\n",
    "x  is  None\n",
    "```\n",
    "\n",
    " `la` was MODIFIED by adding all the elements of `lb`.\n",
    " \n",
    " The call to `extend`, like all list methods, returned the object `None` which was associated to variable `x`. Try to understand well what happend by using Python Tutor.\n",
    " "
   ]
  },
  {
   "cell_type": "raw",
   "id": "rising-latin",
   "metadata": {
    "format": "text/html"
   },
   "source": [
    "</div>"
   ]
  },
  {
   "cell_type": "markdown",
   "metadata": {},
   "source": [
    "### Extending with sequences\n",
    "\n",
    "We said that `extend` can take any generic sequence in the round parenthesis, not only lists. This means we can also try to pass a string. For example:"
   ]
  },
  {
   "cell_type": "code",
   "execution_count": 27,
   "metadata": {},
   "outputs": [],
   "source": [
    "la = [78,65,87]\n",
    "\n",
    "s = \"hello\"\n",
    "\n",
    "la.extend(s)"
   ]
  },
  {
   "cell_type": "code",
   "execution_count": 28,
   "metadata": {},
   "outputs": [
    {
     "data": {
      "text/plain": [
       "[78, 65, 87, 'h', 'e', 'l', 'l', 'o']"
      ]
     },
     "execution_count": 28,
     "metadata": {},
     "output_type": "execute_result"
    }
   ],
   "source": [
    "la"
   ]
  },
  {
   "cell_type": "markdown",
   "metadata": {},
   "source": [
    "Since the string is a character sequence,  `extend` took each of these elements and added them to `la`"
   ]
  },
  {
   "cell_type": "markdown",
   "metadata": {},
   "source": [
    "**QUESTION**: was the value associated to variable `s` modified?"
   ]
  },
  {
   "cell_type": "raw",
   "id": "starting-cambridge",
   "metadata": {
    "format": "text/html"
   },
   "source": [
    "<a  class=\"jupman-sol jupman-sol-toggler\" \n",
    " onclick=\"jupman.toggleSolution(this);\" \n",
    " data-jupman-show=\"Show answer\" data-jupman-hide=\"Hide\">Show answer</a><div class=\"jupman-sol jupman-sol-question\" style=\"display:none\">  "
   ]
  },
  {
   "cell_type": "markdown",
   "metadata": {},
   "source": [
    "**ANSWER**: absolutely impossible, because a) `extend` only modifies the list on which it is called and b) strings are immutable anyway."
   ]
  },
  {
   "cell_type": "raw",
   "id": "living-october",
   "metadata": {
    "format": "text/html"
   },
   "source": [
    "</div>"
   ]
  },
  {
   "cell_type": "markdown",
   "metadata": {},
   "source": [
    "**QUESTION**: The following code:\n",
    "\n",
    "```python\n",
    "la = [78,65]\n",
    "la.extend(68,85,87)\n",
    "```\n",
    "\n",
    "1. produces un error (which one?) \n",
    "2. modifies `la` (how?)"
   ]
  },
  {
   "cell_type": "raw",
   "id": "thrown-stuart",
   "metadata": {
    "format": "text/html"
   },
   "source": [
    "<a  class=\"jupman-sol jupman-sol-toggler\" \n",
    " onclick=\"jupman.toggleSolution(this);\" \n",
    " data-jupman-show=\"Show answer\" data-jupman-hide=\"Hide\">Show answer</a><div class=\"jupman-sol jupman-sol-question\" style=\"display:none\">  "
   ]
  },
  {
   "cell_type": "markdown",
   "metadata": {},
   "source": [
    "**ANSWER**: 1: produces an error, because we have to pass a SINGLE parameter to `extend`, which must be a _sequence._ Here instead we are passing many parameters. An alternative might be to build a list like this:\n",
    "\n",
    "```python\n",
    "la = [78,65]\n",
    "la.extend([68,85,87])\n",
    "\n",
    "```"
   ]
  },
  {
   "cell_type": "raw",
   "id": "promotional-salem",
   "metadata": {
    "format": "text/html"
   },
   "source": [
    "</div>"
   ]
  },
  {
   "cell_type": "markdown",
   "metadata": {},
   "source": [
    "**QUESTION**: If this code is executed, what happens?\n",
    "\n",
    "```python\n",
    "sa = \"hello\"\n",
    "sb = \"world\"\n",
    "sa.extend(sb)\n",
    "```\n",
    "\n",
    "1. `sa` is modified (how?)\n",
    "2. we get an error (which one?)"
   ]
  },
  {
   "cell_type": "raw",
   "id": "fifteen-juvenile",
   "metadata": {
    "format": "text/html"
   },
   "source": [
    "<a  class=\"jupman-sol jupman-sol-toggler\" \n",
    " onclick=\"jupman.toggleSolution(this);\" \n",
    " data-jupman-show=\"Show answer\" data-jupman-hide=\"Hide\">Show answer</a><div class=\"jupman-sol jupman-sol-question\" style=\"display:none\">  "
   ]
  },
  {
   "cell_type": "markdown",
   "metadata": {},
   "source": [
    "**ANSWER**: 2: we obtain an error, because `extend` is an exclusive method of lists. It only belongs to lists because MODIFIES the object on which it is called - since strings are immutable objects, it wouldn't make sense to change them."
   ]
  },
  {
   "cell_type": "raw",
   "id": "korean-enforcement",
   "metadata": {
    "format": "text/html"
   },
   "source": [
    "</div>"
   ]
  },
  {
   "cell_type": "markdown",
   "metadata": {},
   "source": [
    "**QUESTION**: If this code is executed, what happens?\n",
    "\n",
    "```python\n",
    "la = [1,2,3]\n",
    "lb = [4,5]\n",
    "lc = [6,7,8]\n",
    "\n",
    "la.extend(lb).extend(lc)\n",
    "```\n",
    "\n",
    "1. `la` becomes `[1,2,3,4,5,6,7,8]`\n",
    "2. an error (which one?)\n",
    "3. `la` becomes `[1,2,3,4,5]` and an error (which one?)\n"
   ]
  },
  {
   "cell_type": "markdown",
   "metadata": {},
   "source": [
    "**QUESTION**: 3: `la` becomes `[1,2,3,4,5]` and right after we get an error, because the call to `la.extend(lb)` MODIFIES `la` to `[1,2,3,4,5]` and RETURN the value `None`. At that point, Python tries to call the method `extend` on the object `None`, but since it is not a list, we get an error (**to convince yourself, verify everything with Python Tutor** !!!)\n",
    "\n",
    "```python\n",
    "---------------------------------------------------------------------------\n",
    "AttributeError                            Traceback (most recent call last)\n",
    "<ipython-input-45-0a08a154ada4> in <module>\n",
    "      3 lc = [6,7,8]\n",
    "      4 \n",
    "----> 5 la.extend(lb).extend(lc)\n",
    "\n",
    "AttributeError: 'NoneType' object has no attribute 'extend'\n",
    "\n",
    "```"
   ]
  },
  {
   "cell_type": "markdown",
   "metadata": {},
   "source": [
    "### Exercise: augmenting a list 2"
   ]
  },
  {
   "cell_type": "markdown",
   "metadata": {},
   "source": [
    "Given two _lists_ `la` and `lb` and an element `x`, write some code to MODIFY `la` so that `la` contains at the end the element `x` followed by all other elements of `lb`\n",
    "\n",
    "- **NOTE 1**: your code should work with any `la` and `lb`\n",
    "- **NOTE 2**: `id` is a Python function which associates to each memory region a unique identifier. If you try printing `id(la)` _before_ modyfing `la` and `id(la)` afterwards, you should obtain _exactly_ the same id. If you obtain a different one, it means you generated an entirely new list. In that case, verify how it's working with Python Tutor.\n",
    "\n",
    "```python\n",
    "la = [5,9,2,4]\n",
    "lb = [7,1,3]\n",
    "x = 8\n",
    "```\n",
    "\n",
    "You should obtain:\n",
    "\n",
    "```python\n",
    ">>> print(la)\n",
    "[5,9,2,4,8,7,1,3]\n",
    ">>> print(lb)\n",
    "[7,1,3]\n",
    ">>> print(x)\n",
    "8\n",
    "```"
   ]
  },
  {
   "cell_type": "raw",
   "id": "sought-blair",
   "metadata": {
    "format": "text/html"
   },
   "source": [
    "<a  class=\"jupman-sol jupman-sol-toggler\" \n",
    " onclick=\"jupman.toggleSolution(this);\" \n",
    " data-jupman-show=\"Show solution\" data-jupman-hide=\"Hide\">Show solution</a><div class=\"jupman-sol jupman-sol-code\" style=\"display:none\">  "
   ]
  },
  {
   "cell_type": "code",
   "execution_count": 29,
   "metadata": {},
   "outputs": [],
   "source": [
    "\n",
    "la = [5,9,2,4]\n",
    "lb = [7,1,3]\n",
    "x = 8\n",
    "\n",
    "# write here\n",
    "la.append(x)\n",
    "la.extend(lb)\n",
    "#print(la)\n",
    "#print(lb)\n",
    "#print(x)"
   ]
  },
  {
   "cell_type": "raw",
   "id": "still-repair",
   "metadata": {
    "format": "text/html"
   },
   "source": [
    "</div>"
   ]
  },
  {
   "cell_type": "code",
   "execution_count": 29,
   "metadata": {},
   "outputs": [],
   "source": [
    "\n",
    "la = [5,9,2,4]\n",
    "lb = [7,1,3]\n",
    "x = 8\n",
    "\n",
    "# write here\n",
    "\n"
   ]
  },
  {
   "cell_type": "markdown",
   "metadata": {},
   "source": [
    "### Exercise - zslice\n",
    "\n",
    "Write some code which given two lists `la` (of at least 3 elements) and `lb`, MODIFIES `lb` in such a way to add 3 elements of `la` followed by the last 3 of `la`.\n",
    "\n",
    "* your code must work with any list\n",
    "* use `extends` and slices\n",
    "\n",
    "```python\n",
    "la = ['a','b','c','d','e','f','g','h','i','l','m','n','o']\n",
    "lb = ['z']\n",
    "```\n",
    "\n",
    "You should obtain:\n",
    "\n",
    "```python\n",
    ">>> print(la)\n",
    "['a', 'b', 'c', 'd', 'e', 'f', 'g', 'h', 'i', 'l', 'm', 'n', 'o']\n",
    ">>> print(lb)\n",
    "['z', 'a', 'b', 'c', 'm', 'n', 'o']\n",
    "```"
   ]
  },
  {
   "cell_type": "raw",
   "id": "proof-lindsay",
   "metadata": {
    "format": "text/html"
   },
   "source": [
    "<a  class=\"jupman-sol jupman-sol-toggler\" \n",
    " onclick=\"jupman.toggleSolution(this);\" \n",
    " data-jupman-show=\"Show solution\" data-jupman-hide=\"Hide\">Show solution</a><div class=\"jupman-sol jupman-sol-code\" style=\"display:none\">  "
   ]
  },
  {
   "cell_type": "code",
   "execution_count": 30,
   "metadata": {},
   "outputs": [],
   "source": [
    "la = ['a','b','c','d','e','f','g','h','i','l','m','n','o']\n",
    "lb = ['z']\n",
    "\n",
    "# write here\n",
    "\n",
    "lb.extend(la[:3])  # a slice generates a list\n",
    "lb.extend(la[-3:])\n",
    "\n",
    "#print(la)\n",
    "#print(lb)\n"
   ]
  },
  {
   "cell_type": "raw",
   "id": "infectious-alert",
   "metadata": {
    "format": "text/html"
   },
   "source": [
    "</div>"
   ]
  },
  {
   "cell_type": "code",
   "execution_count": 30,
   "metadata": {},
   "outputs": [],
   "source": [
    "la = ['a','b','c','d','e','f','g','h','i','l','m','n','o']\n",
    "lb = ['z']\n",
    "\n",
    "# write here\n",
    "\n"
   ]
  },
  {
   "cell_type": "markdown",
   "metadata": {},
   "source": [
    "### Exercise - Zebarerun\n",
    "\n",
    "Write some code which given a list of three strings `words` and an empty list `la`, fills `la` with all the first 3 characters of every string in `words`.\n",
    "\n",
    "* your code must work with any list of 3 strings\n",
    "* use slices\n",
    "\n",
    "Example given:\n",
    "\n",
    "```python\n",
    "words = [\"Zebras\", \"are\", \"running\"]\n",
    "la = []\n",
    "```\n",
    "\n",
    "Your code must show:\n",
    "\n",
    "```python\n",
    ">>> print(t)\n",
    "['Z', 'e', 'b', 'a', 'r', 'e', 'r', 'u', 'n']\n",
    "```"
   ]
  },
  {
   "cell_type": "raw",
   "id": "tutorial-quality",
   "metadata": {
    "format": "text/html"
   },
   "source": [
    "<a  class=\"jupman-sol jupman-sol-toggler\" \n",
    " onclick=\"jupman.toggleSolution(this);\" \n",
    " data-jupman-show=\"Show solution\" data-jupman-hide=\"Hide\">Show solution</a><div class=\"jupman-sol jupman-sol-code\" style=\"display:none\">  "
   ]
  },
  {
   "cell_type": "code",
   "execution_count": 31,
   "metadata": {},
   "outputs": [],
   "source": [
    "words = [\"Zebras\", \"are\", \"running\"]\n",
    "\n",
    "la = []\n",
    "\n",
    "# write here\n",
    "la.extend(words[0][:3])\n",
    "la.extend(words[1][:3])\n",
    "la.extend(words[2][:3])\n",
    " #print(la)"
   ]
  },
  {
   "cell_type": "raw",
   "id": "favorite-architect",
   "metadata": {
    "format": "text/html"
   },
   "source": [
    "</div>"
   ]
  },
  {
   "cell_type": "code",
   "execution_count": 31,
   "metadata": {},
   "outputs": [],
   "source": [
    "words = [\"Zebras\", \"are\", \"running\"]\n",
    "\n",
    "la = []\n",
    "\n",
    "# write here\n",
    "\n"
   ]
  },
  {
   "cell_type": "markdown",
   "metadata": {},
   "source": [
    "## `join` - build strings from lists\n",
    "\n",
    "Given a string to use as separator, and a sequence like for example a list `la` which only contains strings, it's possible to concatenate them into a (new) string with `join` method:"
   ]
  },
  {
   "cell_type": "code",
   "execution_count": 32,
   "metadata": {},
   "outputs": [
    {
     "data": {
      "text/plain": [
       "'WhenSEPARATORtheSEPARATORsunSEPARATORraises'"
      ]
     },
     "execution_count": 32,
     "metadata": {},
     "output_type": "execute_result"
    }
   ],
   "source": [
    "la = [\"When\", \"the\", \"sun\", \"raises\"]\n",
    "\n",
    "'SEPARATOR'.join(la)"
   ]
  },
  {
   "cell_type": "markdown",
   "metadata": {},
   "source": [
    "As separator we can put any character, like a space:"
   ]
  },
  {
   "cell_type": "code",
   "execution_count": 33,
   "metadata": {},
   "outputs": [
    {
     "data": {
      "text/plain": [
       "'When the sun raises'"
      ]
     },
     "execution_count": 33,
     "metadata": {},
     "output_type": "execute_result"
    }
   ],
   "source": [
    "' '.join(la)  "
   ]
  },
  {
   "cell_type": "markdown",
   "metadata": {},
   "source": [
    "Note the original list is not modified:"
   ]
  },
  {
   "cell_type": "code",
   "execution_count": 34,
   "metadata": {},
   "outputs": [
    {
     "data": {
      "text/plain": [
       "['When', 'the', 'sun', 'raises']"
      ]
     },
     "execution_count": 34,
     "metadata": {},
     "output_type": "execute_result"
    }
   ],
   "source": [
    "la"
   ]
  },
  {
   "cell_type": "markdown",
   "metadata": {},
   "source": [
    "**QUESTION**: What does this code produce?\n",
    "\n",
    "```python\n",
    "''.join(['a','b','c']).upper()\n",
    "```\n",
    "\n",
    "1. an error (which one?)\n",
    "2. a string (which one?)\n",
    "3. a list (which one?)"
   ]
  },
  {
   "cell_type": "raw",
   "id": "mounted-finland",
   "metadata": {
    "format": "text/html"
   },
   "source": [
    "<a  class=\"jupman-sol jupman-sol-toggler\" \n",
    " onclick=\"jupman.toggleSolution(this);\" \n",
    " data-jupman-show=\"Show answer\" data-jupman-hide=\"Hide\">Show answer</a><div class=\"jupman-sol jupman-sol-question\" style=\"display:none\">  "
   ]
  },
  {
   "cell_type": "markdown",
   "metadata": {},
   "source": [
    "**ANSWER**: 2: it produces the string `'ABC'`: first it takes all characters from the list  `['a','b','c']` and it joins them with empty space `''` separator to form `'abc'`, then this string is set all uppercase with `upper()`."
   ]
  },
  {
   "cell_type": "raw",
   "id": "offensive-advancement",
   "metadata": {
    "format": "text/html"
   },
   "source": [
    "</div>"
   ]
  },
  {
   "cell_type": "markdown",
   "metadata": {},
   "source": [
    "**QUESTION**: What does this code produce?\n",
    "\n",
    "```python\n",
    "'a'.join('KRT') + 'E'\n",
    "```\n",
    "\n",
    "1. a string (which one?)\n",
    "2. an error (which one?)\n",
    "3. a list (which one?)"
   ]
  },
  {
   "cell_type": "raw",
   "id": "hindu-advice",
   "metadata": {
    "format": "text/html"
   },
   "source": [
    "<a  class=\"jupman-sol jupman-sol-toggler\" \n",
    " onclick=\"jupman.toggleSolution(this);\" \n",
    " data-jupman-show=\"Show answer\" data-jupman-hide=\"Hide\">Show answer</a><div class=\"jupman-sol jupman-sol-question\" style=\"display:none\">  "
   ]
  },
  {
   "cell_type": "markdown",
   "metadata": {},
   "source": [
    "**ANSWER**: 1: produces the string `'KaRaTE'` - we said that `join` takes as input a sequence, so we are not bounded to pass lists but we can directly pass any string, which is a character sequence. `join` will then interval each character in the string with the separator we provide before the dot."
   ]
  },
  {
   "cell_type": "raw",
   "id": "addressed-lloyd",
   "metadata": {
    "format": "text/html"
   },
   "source": [
    "</div>"
   ]
  },
  {
   "cell_type": "markdown",
   "metadata": {},
   "source": [
    "**QUESTION**: What does this code produce?\n",
    "\n",
    "```python\n",
    "\n",
    "'\\''.join('mmmm')\n",
    "```\n",
    "\n",
    "1. an error (which one?)\n",
    "2. a string (which one?)"
   ]
  },
  {
   "cell_type": "raw",
   "id": "attended-internet",
   "metadata": {
    "format": "text/html"
   },
   "source": [
    "<a  class=\"jupman-sol jupman-sol-toggler\" \n",
    " onclick=\"jupman.toggleSolution(this);\" \n",
    " data-jupman-show=\"Show answer\" data-jupman-hide=\"Hide\">Show answer</a><div class=\"jupman-sol jupman-sol-question\" style=\"display:none\">  "
   ]
  },
  {
   "cell_type": "markdown",
   "metadata": {},
   "source": [
    "**ANSWER**: 2: `\\'` is an escape sequence which represents the single character apex `'`, so we will obtain `m'm'm'm`"
   ]
  },
  {
   "cell_type": "raw",
   "id": "important-quantum",
   "metadata": {
    "format": "text/html"
   },
   "source": [
    "</div>"
   ]
  },
  {
   "cell_type": "markdown",
   "metadata": {},
   "source": [
    "**QUESTION**: Given any string `s` and a list of strings `la` of at least two characters, the following code will always give us the same result - which one? (think about it, and if you don't know how to answer try putting random values for `s` and `la`)\n",
    "\n",
    "```python\n",
    "len(s) <= len(s.join(la))\n",
    "```\n",
    "1. an errore (which one?)\n",
    "2. a stringa (which one?)\n",
    "3. something else (what?)"
   ]
  },
  {
   "cell_type": "raw",
   "id": "interpreted-microwave",
   "metadata": {
    "format": "text/html"
   },
   "source": [
    "<a  class=\"jupman-sol jupman-sol-toggler\" \n",
    " onclick=\"jupman.toggleSolution(this);\" \n",
    " data-jupman-show=\"Show answer\" data-jupman-hide=\"Hide\">Show answer</a><div class=\"jupman-sol jupman-sol-question\" style=\"display:none\">  "
   ]
  },
  {
   "cell_type": "markdown",
   "metadata": {},
   "source": [
    "**ANSWER**: 3: the code will always produce the boolean `True` because `s.join(la)` produces a string containing all the strings in `la` alternated with the string `s`. So the length of this string will always be greater or equal  to the length of `s`: by comparing the two lengths with `<=` operator, we will always obtain the boolean `True`.\n",
    "\n",
    "Example:\n",
    "\n",
    "```python\n",
    "s = \"ab\"\n",
    "la = ['uief','cb','sd']\n",
    "len(s) <= len(s.join(la))\n",
    "```"
   ]
  },
  {
   "cell_type": "raw",
   "id": "cordless-stanford",
   "metadata": {
    "format": "text/html"
   },
   "source": [
    "</div>"
   ]
  },
  {
   "cell_type": "markdown",
   "metadata": {},
   "source": [
    "### Exercise - dub dab dib dob\n",
    "\n",
    "Write some code which given a list of strings `la`, associates to variable `s` a string with the concatenated strings, separating them with a comma and a space.\n",
    "\n",
    "Example - given:\n",
    "\n",
    "```python\n",
    "la = ['dub', 'dab','dib', 'dob']\n",
    "```\n",
    "\n",
    "After your code, you should obtain this:\n",
    "\n",
    "```python\n",
    ">>> print(s)\n",
    "dub, dab, dib, dob\n",
    ">>> len(s)\n",
    "18\n",
    "```"
   ]
  },
  {
   "cell_type": "raw",
   "id": "objective-worker",
   "metadata": {
    "format": "text/html"
   },
   "source": [
    "<a  class=\"jupman-sol jupman-sol-toggler\" \n",
    " onclick=\"jupman.toggleSolution(this);\" \n",
    " data-jupman-show=\"Show solution\" data-jupman-hide=\"Hide\">Show solution</a><div class=\"jupman-sol jupman-sol-code\" style=\"display:none\">  "
   ]
  },
  {
   "cell_type": "code",
   "execution_count": 35,
   "metadata": {},
   "outputs": [],
   "source": [
    "la = ['dub', 'dab','dib', 'dob']\n",
    "\n",
    "# write here\n",
    "\n",
    "s = ', '.join(la)\n",
    "\n",
    "#print(s)\n",
    "#len(s)"
   ]
  },
  {
   "cell_type": "raw",
   "id": "little-survival",
   "metadata": {
    "format": "text/html"
   },
   "source": [
    "</div>"
   ]
  },
  {
   "cell_type": "code",
   "execution_count": 35,
   "metadata": {},
   "outputs": [],
   "source": [
    "la = ['dub', 'dab','dib', 'dob']\n",
    "\n",
    "# write here\n",
    "\n"
   ]
  },
  {
   "cell_type": "markdown",
   "metadata": {},
   "source": [
    "### Exercise - ghirigori\n",
    "\n",
    "Given a list of strings `la` and a list with three separators `seps`, write some code which prints the elements of `la` separated by first separator, followed by the second separator, followed by the elements of `la` separated by the third separator.\n",
    "\n",
    "* your code must work with any list `la` and `seps`\n",
    "\n",
    "Example - given:\n",
    "\n",
    "```python\n",
    "la = ['ghi','ri','go','ri']\n",
    "seps = [',','_','+']\n",
    "```\n",
    "\n",
    "After your code, it must print:\n",
    "\n",
    "```\n",
    "ghi,ri,go,ri_ghi+ri+go+ri\n",
    "```"
   ]
  },
  {
   "cell_type": "raw",
   "id": "thrown-buffalo",
   "metadata": {
    "format": "text/html"
   },
   "source": [
    "<a  class=\"jupman-sol jupman-sol-toggler\" \n",
    " onclick=\"jupman.toggleSolution(this);\" \n",
    " data-jupman-show=\"Show solution\" data-jupman-hide=\"Hide\">Show solution</a><div class=\"jupman-sol jupman-sol-code\" style=\"display:none\">  "
   ]
  },
  {
   "cell_type": "code",
   "execution_count": 36,
   "metadata": {},
   "outputs": [],
   "source": [
    "la = ['ghi','ri','go','ri']\n",
    "seps = [',','_','+']\n",
    "\n",
    "# write here\n",
    "\n",
    "#print(seps[0].join(la) + seps[1] + seps[2].join(la))\n"
   ]
  },
  {
   "cell_type": "raw",
   "id": "flying-enzyme",
   "metadata": {
    "format": "text/html"
   },
   "source": [
    "</div>"
   ]
  },
  {
   "cell_type": "code",
   "execution_count": 36,
   "metadata": {},
   "outputs": [],
   "source": [
    "la = ['ghi','ri','go','ri']\n",
    "seps = [',','_','+']\n",
    "\n",
    "# write here\n",
    "\n"
   ]
  },
  {
   "cell_type": "markdown",
   "metadata": {},
   "source": [
    "### Exercise - welldone \n",
    "\n",
    "Given the list\n",
    "\n",
    "```python\n",
    "la = [\"walnut\", \"eggplant\", \"lemon\", \"lime\", \"date\", \"onion\", \"nectarine\", \"endive\" ]: \n",
    "```\n",
    "\n",
    "1. Create another list (call it `new`) containing the first character of every element of `la`\n",
    "2. Add a space to `new` at position 4 and attach an exclamation mark (`'!'`) at the end\n",
    "3. Print the list\n",
    "4. Print the list content by joining all elements with an empty space\n",
    "\n",
    "You should get:\n",
    "\n",
    "```\n",
    "['w', 'e', 'l', 'l', ' ', 'd', 'o', 'n', 'e', '!']\n",
    "\n",
    " well done!\n",
    "```\n"
   ]
  },
  {
   "cell_type": "raw",
   "id": "gothic-baseline",
   "metadata": {
    "format": "text/html"
   },
   "source": [
    "<a  class=\"jupman-sol jupman-sol-toggler\" \n",
    " onclick=\"jupman.toggleSolution(this);\" \n",
    " data-jupman-show=\"Show solution\" data-jupman-hide=\"Hide\">Show solution</a><div class=\"jupman-sol jupman-sol-code\" style=\"display:none\">  "
   ]
  },
  {
   "cell_type": "code",
   "execution_count": 37,
   "metadata": {},
   "outputs": [
    {
     "name": "stdout",
     "output_type": "stream",
     "text": [
      "['w', 'e', 'l', 'l', ' ', 'd', 'o', 'n', 'e', '!']\n",
      "\n",
      " well done!\n"
     ]
    }
   ],
   "source": [
    "la = [\"walnut\", \"eggplant\", \"lemon\", \"lime\", \"date\", \"onion\", \"nectarine\", \"endive\" ]\n",
    "\n",
    "# write here\n",
    "\n",
    "new = []\n",
    "new.append(la[0][0])\n",
    "new.append(la[1][0])\n",
    "new.append(la[2][0])\n",
    "new.append(la[3][0])\n",
    "new.append(la[4][0])\n",
    "new.append(la[5][0])\n",
    "new.append(la[6][0])\n",
    "new.append(la[7][0])\n",
    "\n",
    "new.insert(4,\" \")\n",
    "new.append(\"!\")\n",
    "\n",
    "print(new)\n",
    "print(\"\\n\", \"\".join(new))"
   ]
  },
  {
   "cell_type": "raw",
   "id": "absolute-hands",
   "metadata": {
    "format": "text/html"
   },
   "source": [
    "</div>"
   ]
  },
  {
   "cell_type": "code",
   "execution_count": 37,
   "metadata": {},
   "outputs": [
    {
     "name": "stdout",
     "output_type": "stream",
     "text": [
      "['w', 'e', 'l', 'l', ' ', 'd', 'o', 'n', 'e', '!']\n",
      "\n",
      " well done!\n"
     ]
    }
   ],
   "source": [
    "la = [\"walnut\", \"eggplant\", \"lemon\", \"lime\", \"date\", \"onion\", \"nectarine\", \"endive\" ]\n",
    "\n",
    "# write here\n",
    "\n"
   ]
  },
  {
   "cell_type": "markdown",
   "metadata": {},
   "source": [
    "## `insert` method\n",
    "\n",
    "`insert` MODIFIES the list by inserting an element at a specific index - all elements starting from that index will be shifted of one position to the right."
   ]
  },
  {
   "cell_type": "code",
   "execution_count": 38,
   "metadata": {},
   "outputs": [],
   "source": [
    "     #0 1 2 3\n",
    "la = [6,7,8,9]"
   ]
  },
  {
   "cell_type": "code",
   "execution_count": 39,
   "metadata": {},
   "outputs": [],
   "source": [
    "la.insert(2,55)  # insert the number 55 at index 2"
   ]
  },
  {
   "cell_type": "code",
   "execution_count": 40,
   "metadata": {},
   "outputs": [
    {
     "data": {
      "text/plain": [
       "[6, 7, 55, 8, 9]"
      ]
     },
     "execution_count": 40,
     "metadata": {},
     "output_type": "execute_result"
    }
   ],
   "source": [
    "la"
   ]
  },
  {
   "cell_type": "code",
   "execution_count": 41,
   "metadata": {},
   "outputs": [],
   "source": [
    "la.insert(0,77)  # insert the number 77 at index 0"
   ]
  },
  {
   "cell_type": "code",
   "execution_count": 42,
   "metadata": {},
   "outputs": [
    {
     "data": {
      "text/plain": [
       "[77, 6, 7, 55, 8, 9]"
      ]
     },
     "execution_count": 42,
     "metadata": {},
     "output_type": "execute_result"
    }
   ],
   "source": [
    "la"
   ]
  },
  {
   "cell_type": "markdown",
   "metadata": {},
   "source": [
    "We can insert after the end:"
   ]
  },
  {
   "cell_type": "code",
   "execution_count": 43,
   "metadata": {},
   "outputs": [],
   "source": [
    "la.insert(6,88)  # insert the number 88 at index 6"
   ]
  },
  {
   "cell_type": "code",
   "execution_count": 44,
   "metadata": {},
   "outputs": [
    {
     "data": {
      "text/plain": [
       "[77, 6, 7, 55, 8, 9, 88]"
      ]
     },
     "execution_count": 44,
     "metadata": {},
     "output_type": "execute_result"
    }
   ],
   "source": [
    "la"
   ]
  },
  {
   "cell_type": "markdown",
   "metadata": {},
   "source": [
    "Note that if we go beyond the end, the element is placed right after the end and no empty cells are created:"
   ]
  },
  {
   "cell_type": "code",
   "execution_count": 45,
   "metadata": {},
   "outputs": [],
   "source": [
    "la.insert(1000,99)  # insert number 99 at index 7"
   ]
  },
  {
   "cell_type": "code",
   "execution_count": 46,
   "metadata": {},
   "outputs": [
    {
     "data": {
      "text/plain": [
       "[77, 6, 7, 55, 8, 9, 88, 99]"
      ]
     },
     "execution_count": 46,
     "metadata": {},
     "output_type": "execute_result"
    }
   ],
   "source": [
    "la"
   ]
  },
  {
   "cell_type": "markdown",
   "metadata": {},
   "source": [
    "**QUESTION**: Given any list `x`, what does this code produce? Can we rewrite it in some other way?\n",
    "\n",
    "```python\n",
    "x.insert(len(x),66)\n",
    "```\n",
    "\n",
    "1. produces a new list (which one?)\n",
    "2. modifies `x` (how?)\n",
    "3. an error"
   ]
  },
  {
   "cell_type": "raw",
   "id": "prime-small",
   "metadata": {
    "format": "text/html"
   },
   "source": [
    "<a  class=\"jupman-sol jupman-sol-toggler\" \n",
    " onclick=\"jupman.toggleSolution(this);\" \n",
    " data-jupman-show=\"Show answer\" data-jupman-hide=\"Hide\">Show answer</a><div class=\"jupman-sol jupman-sol-question\" style=\"display:none\">  "
   ]
  },
  {
   "cell_type": "markdown",
   "metadata": {},
   "source": [
    "**ANSWER**: 2 - the code MODIFIES the list `x` by adding the element `66` at the end. The code is then equivalent to code\n",
    "\n",
    "```python\n",
    "x.append(66)\n",
    "```"
   ]
  },
  {
   "cell_type": "raw",
   "id": "joint-saskatchewan",
   "metadata": {
    "format": "text/html"
   },
   "source": [
    "</div>"
   ]
  },
  {
   "cell_type": "markdown",
   "metadata": {},
   "source": [
    "**QUESTION**: What does the following code produce?\n",
    "\n",
    "```python\n",
    "la = [3,4,5,6]\n",
    "la.insert(0,[1,2])\n",
    "print(la)\n",
    "```\n",
    "\n",
    "1. prints `[1,2,3,4,5,6]`\n",
    "2. an error (which one?)\n",
    "3. something else (what?)"
   ]
  },
  {
   "cell_type": "raw",
   "id": "dated-drove",
   "metadata": {
    "format": "text/html"
   },
   "source": [
    "<a  class=\"jupman-sol jupman-sol-toggler\" \n",
    " onclick=\"jupman.toggleSolution(this);\" \n",
    " data-jupman-show=\"Show answer\" data-jupman-hide=\"Hide\">Show answer</a><div class=\"jupman-sol jupman-sol-question\" style=\"display:none\">  "
   ]
  },
  {
   "cell_type": "markdown",
   "metadata": {},
   "source": [
    "**ANSWER**: 3 - the code inserts in `la` the list `[1,2]` as zero-th element. The print will then show `[[1, 2], 3, 4, 5, 6]` "
   ]
  },
  {
   "cell_type": "raw",
   "id": "identical-night",
   "metadata": {
    "format": "text/html"
   },
   "source": [
    "</div>"
   ]
  },
  {
   "cell_type": "markdown",
   "metadata": {},
   "source": [
    "**QUESTION**: What does the following code produce?\n",
    "\n",
    "```python\n",
    "la = [4,5,6]\n",
    "la.insert(0,1,2,3)\n",
    "print(la)\n",
    "```\n",
    "\n",
    "1. prints `[1,2,3,4,5,6]`\n",
    "2. an error (which one?)\n",
    "3. something else (what?)"
   ]
  },
  {
   "cell_type": "raw",
   "id": "julian-israeli",
   "metadata": {
    "format": "text/html"
   },
   "source": [
    "<a  class=\"jupman-sol jupman-sol-toggler\" \n",
    " onclick=\"jupman.toggleSolution(this);\" \n",
    " data-jupman-show=\"Show answer\" data-jupman-hide=\"Hide\">Show answer</a><div class=\"jupman-sol jupman-sol-question\" style=\"display:none\">  "
   ]
  },
  {
   "cell_type": "markdown",
   "metadata": {},
   "source": [
    "**ANSWER**: 2 - an error, because we can only pass 2 parameters to `insert`, the insertion index and the single object to insert."
   ]
  },
  {
   "cell_type": "raw",
   "id": "sexual-processor",
   "metadata": {
    "format": "text/html"
   },
   "source": [
    "</div>"
   ]
  },
  {
   "cell_type": "markdown",
   "metadata": {},
   "source": [
    "**QUESTION**: What does the following code produce?\n",
    "\n",
    "```python\n",
    "la = [4,5,6]\n",
    "lb = la.insert(0,3)\n",
    "lc = lb.insert(0,2)\n",
    "ld = lc.insert(0,1)\n",
    "print(ld)\n",
    "```\n",
    "\n",
    "1. prints `[1,2,3,4,5,6]`\n",
    "2. an error (which one?)\n",
    "3. something else (what?)"
   ]
  },
  {
   "cell_type": "raw",
   "id": "cleared-pearl",
   "metadata": {
    "format": "text/html"
   },
   "source": [
    "<a  class=\"jupman-sol jupman-sol-toggler\" \n",
    " onclick=\"jupman.toggleSolution(this);\" \n",
    " data-jupman-show=\"Show answer\" data-jupman-hide=\"Hide\">Show answer</a><div class=\"jupman-sol jupman-sol-question\" style=\"display:none\">  "
   ]
  },
  {
   "cell_type": "markdown",
   "metadata": {},
   "source": [
    "**ANSWER**: 2 - an error: like almost all list methods, `insert` returns `None`, so by writing `lb = la.insert(0,3)` we are associating `None` to `lb`, so when Python in the next line encounters `lc = lb.insert(0,2)` and tries to execute `None.insert(0,2)` it will complain because `None` not being a list doesn't have the `insert` method."
   ]
  },
  {
   "cell_type": "raw",
   "id": "scenic-button",
   "metadata": {
    "format": "text/html"
   },
   "source": [
    "</div>"
   ]
  },
  {
   "cell_type": "markdown",
   "metadata": {},
   "source": [
    "### Exercise - insertando\n",
    "\n",
    "Given the list\n",
    "\n",
    "```python\n",
    "la = [7,6,8,5,6]\n",
    "```\n",
    "\n",
    "write some code which MODIFIES the list by using only calls to `insert`. After your code, `la` should appear like this:\n",
    "\n",
    "```python\n",
    ">>> print(la)\n",
    "[7, 77, 99, 6, 8, 88, 5, 6, 55]\n",
    "```"
   ]
  },
  {
   "cell_type": "raw",
   "id": "weird-cooperation",
   "metadata": {
    "format": "text/html"
   },
   "source": [
    "<a  class=\"jupman-sol jupman-sol-toggler\" \n",
    " onclick=\"jupman.toggleSolution(this);\" \n",
    " data-jupman-show=\"Show solution\" data-jupman-hide=\"Hide\">Show solution</a><div class=\"jupman-sol jupman-sol-code\" style=\"display:none\">  "
   ]
  },
  {
   "cell_type": "code",
   "execution_count": 47,
   "metadata": {},
   "outputs": [],
   "source": [
    "\n",
    "la = [7,6,8,5,6]\n",
    "\n",
    "# write here\n",
    "\n",
    "la.insert(3,88)\n",
    "la.insert(1,99)\n",
    "la.insert(1,77)\n",
    "la.insert(len(la),55)\n",
    "\n",
    "#print(la)"
   ]
  },
  {
   "cell_type": "raw",
   "id": "baking-textbook",
   "metadata": {
    "format": "text/html"
   },
   "source": [
    "</div>"
   ]
  },
  {
   "cell_type": "code",
   "execution_count": 47,
   "metadata": {},
   "outputs": [],
   "source": [
    "\n",
    "la = [7,6,8,5,6]\n",
    "\n",
    "# write here\n",
    "\n"
   ]
  },
  {
   "cell_type": "markdown",
   "metadata": {},
   "source": [
    "<div class=\"alert alert-warning\">\n",
    "\n",
    "**WARNING**: calling `insert` is much slower than `append` !!\n",
    "    \n",
    "A call to `insert` rewrites all the cells after the insertion point, while `append` instead adds only one cell. Given the computer is fast, very often we do not realize the difference, but whenever possible, and especially if you have to write programs which operate on big amounts of data, try writing code using `append` instead of `insert`.\n",
    "    \n",
    "</div>"
   ]
  },
  {
   "cell_type": "markdown",
   "metadata": {},
   "source": [
    "### Exercise - barzoletta"
   ]
  },
  {
   "cell_type": "markdown",
   "metadata": {},
   "source": [
    "Given the string\n",
    "\n",
    "```python\n",
    "sa = 'barzoletta'\n",
    "```\n",
    "\n",
    "write some code which creates a NEW string `sb` by changing the original string in such a way it results:\n",
    "\n",
    "```python\n",
    ">>> print(sb)\n",
    "'barzelletta'\n",
    "```\n",
    "\n",
    "* **USE** the method `insert` and cell reassignment\n",
    "* **NOTE**: you cannot use them an a string, because it is IMMUTABLE - you will then first convert the string to a list"
   ]
  },
  {
   "cell_type": "raw",
   "id": "false-oriental",
   "metadata": {
    "format": "text/html"
   },
   "source": [
    "<a  class=\"jupman-sol jupman-sol-toggler\" \n",
    " onclick=\"jupman.toggleSolution(this);\" \n",
    " data-jupman-show=\"Show solution\" data-jupman-hide=\"Hide\">Show solution</a><div class=\"jupman-sol jupman-sol-code\" style=\"display:none\">  "
   ]
  },
  {
   "cell_type": "code",
   "execution_count": 48,
   "metadata": {},
   "outputs": [],
   "source": [
    "sa = 'barzoletta'\n",
    "\n",
    "# write here\n",
    "\n",
    "la = list(sa)\n",
    "la[4] = 'e'\n",
    "la.insert(5,'l')\n",
    "sb = ''.join(la)\n",
    "#print(sb)"
   ]
  },
  {
   "cell_type": "raw",
   "id": "challenging-breeding",
   "metadata": {
    "format": "text/html"
   },
   "source": [
    "</div>"
   ]
  },
  {
   "cell_type": "code",
   "execution_count": 48,
   "metadata": {},
   "outputs": [],
   "source": [
    "sa = 'barzoletta'\n",
    "\n",
    "# write here\n",
    "\n"
   ]
  },
  {
   "cell_type": "markdown",
   "metadata": {},
   "source": [
    "### Exercise - insappend\n",
    "\n",
    "This code takes as input an empty list `la` and a list of numbers `lb`. Try to understand what it does, and rewrite it using some `append`."
   ]
  },
  {
   "cell_type": "code",
   "execution_count": 49,
   "metadata": {},
   "outputs": [
    {
     "name": "stdout",
     "output_type": "stream",
     "text": [
      "[16, 18, 12, 14]\n"
     ]
    }
   ],
   "source": [
    "la = []\n",
    "lb = [7,6,9,8]\n",
    "la.insert(0,lb[0]*2)\n",
    "la.insert(0,lb[1]*2)\n",
    "la.insert(0,lb[2]*2)\n",
    "la.insert(0,lb[3]*2)\n",
    "print(la)"
   ]
  },
  {
   "cell_type": "raw",
   "id": "turned-malta",
   "metadata": {
    "format": "text/html"
   },
   "source": [
    "<a  class=\"jupman-sol jupman-sol-toggler\" \n",
    " onclick=\"jupman.toggleSolution(this);\" \n",
    " data-jupman-show=\"Show solution\" data-jupman-hide=\"Hide\">Show solution</a><div class=\"jupman-sol jupman-sol-code\" style=\"display:none\">  "
   ]
  },
  {
   "cell_type": "code",
   "execution_count": 50,
   "metadata": {},
   "outputs": [],
   "source": [
    "la = []\n",
    "lb = [7,6,9,8]\n",
    "\n",
    "# write here\n",
    "la.append(lb[-1]*2)\n",
    "la.append(lb[-2]*2)\n",
    "la.append(lb[-3]*2)\n",
    "la.append(lb[-4]*2)\n",
    "#print(la)"
   ]
  },
  {
   "cell_type": "raw",
   "id": "severe-imagination",
   "metadata": {
    "format": "text/html"
   },
   "source": [
    "</div>"
   ]
  },
  {
   "cell_type": "code",
   "execution_count": 50,
   "metadata": {},
   "outputs": [],
   "source": [
    "la = []\n",
    "lb = [7,6,9,8]\n",
    "\n",
    "# write here\n",
    "\n"
   ]
  },
  {
   "cell_type": "markdown",
   "metadata": {},
   "source": [
    "## `remove` method"
   ]
  },
  {
   "cell_type": "markdown",
   "metadata": {},
   "source": [
    "`remove` takes an object as parameter, searches for the FIRST cell containing that object and eliminates it:"
   ]
  },
  {
   "cell_type": "code",
   "execution_count": 51,
   "metadata": {},
   "outputs": [],
   "source": [
    "#     0 1 2 3 4 5\n",
    "la = [6,7,9,5,9,8]   # the 9 is in the first cell with index 2 and 4"
   ]
  },
  {
   "cell_type": "code",
   "execution_count": 52,
   "metadata": {},
   "outputs": [],
   "source": [
    "la.remove(9)   # searches first cell containing 9"
   ]
  },
  {
   "cell_type": "code",
   "execution_count": 53,
   "metadata": {},
   "outputs": [
    {
     "data": {
      "text/plain": [
       "[6, 7, 5, 9, 8]"
      ]
     },
     "execution_count": 53,
     "metadata": {},
     "output_type": "execute_result"
    }
   ],
   "source": [
    "la"
   ]
  },
  {
   "cell_type": "markdown",
   "metadata": {},
   "source": [
    "As you can see, the cell which was at index 2 and that contained the FIRST occurrence of `9` has been eliminated. The cell containing the SECOND occurrence of `9` is still there."
   ]
  },
  {
   "cell_type": "markdown",
   "metadata": {},
   "source": [
    "If you try removing an object which is not present, you will receive an error:"
   ]
  },
  {
   "cell_type": "markdown",
   "metadata": {},
   "source": [
    "\n",
    "```python\n",
    "la.remove(666)\n",
    "\n",
    "---------------------------------------------------------------------------\n",
    "ValueError                                Traceback (most recent call last)\n",
    "<ipython-input-121-5d04a71f9d33> in <module>\n",
    "----> 1 la.remove(666)\n",
    "\n",
    "ValueError: list.remove(x): x not in list\n",
    "```"
   ]
  },
  {
   "cell_type": "markdown",
   "metadata": {},
   "source": [
    "### Exercise - nob\n",
    "\n",
    "Write some code which removes from list `la` all the numbers contained in the 3 elements list `lb`.\n",
    "\n",
    "* your code must work with any list `la` and `lb` of three elements\n",
    "\n",
    "* you can assume that list `la` contains exactly TWO occurrences of all the elements of `lb` (plus also other numbers)\n",
    "\n",
    "Example -  given:\n",
    "\n",
    "```python\n",
    "lb = [8,7,4]\n",
    "la = [7,8,11,8,7,4,5,4]\n",
    "```\n",
    "\n",
    "after your code it must result:\n",
    "\n",
    "```python\n",
    ">>> print(la)\n",
    "[11, 5]\n",
    "```"
   ]
  },
  {
   "cell_type": "raw",
   "id": "alive-melissa",
   "metadata": {
    "format": "text/html"
   },
   "source": [
    "<a  class=\"jupman-sol jupman-sol-toggler\" \n",
    " onclick=\"jupman.toggleSolution(this);\" \n",
    " data-jupman-show=\"Show solution\" data-jupman-hide=\"Hide\">Show solution</a><div class=\"jupman-sol jupman-sol-code\" style=\"display:none\">  "
   ]
  },
  {
   "cell_type": "code",
   "execution_count": 54,
   "metadata": {},
   "outputs": [],
   "source": [
    "lb = [8,7,4]\n",
    "la = [7,8,11,8,7,4,5,4]\n",
    "\n",
    "# write here\n",
    "\n",
    "la.remove(lb[0])\n",
    "la.remove(lb[0])\n",
    "la.remove(lb[1])\n",
    "la.remove(lb[1])\n",
    "la.remove(lb[2])\n",
    "la.remove(lb[2])\n",
    "#print(la)"
   ]
  },
  {
   "cell_type": "raw",
   "id": "middle-relation",
   "metadata": {
    "format": "text/html"
   },
   "source": [
    "</div>"
   ]
  },
  {
   "cell_type": "code",
   "execution_count": 54,
   "metadata": {},
   "outputs": [],
   "source": [
    "lb = [8,7,4]\n",
    "la = [7,8,11,8,7,4,5,4]\n",
    "\n",
    "# write here\n",
    "\n"
   ]
  },
  {
   "cell_type": "markdown",
   "metadata": {},
   "source": [
    "## `pop` method\n",
    "\n",
    "`pop` method does two things: when called without arguments MODIFIES the list by removing the last element, and also RETURNS the removed element:"
   ]
  },
  {
   "cell_type": "code",
   "execution_count": 55,
   "metadata": {},
   "outputs": [],
   "source": [
    "basket = ['melon','strawberry', 'apple']"
   ]
  },
  {
   "cell_type": "code",
   "execution_count": 56,
   "metadata": {},
   "outputs": [
    {
     "data": {
      "text/plain": [
       "'apple'"
      ]
     },
     "execution_count": 56,
     "metadata": {},
     "output_type": "execute_result"
    }
   ],
   "source": [
    "basket.pop()"
   ]
  },
  {
   "cell_type": "code",
   "execution_count": 57,
   "metadata": {},
   "outputs": [
    {
     "data": {
      "text/plain": [
       "['melon', 'strawberry']"
      ]
     },
     "execution_count": 57,
     "metadata": {},
     "output_type": "execute_result"
    }
   ],
   "source": [
    "basket"
   ]
  },
  {
   "cell_type": "code",
   "execution_count": 58,
   "metadata": {},
   "outputs": [
    {
     "data": {
      "text/plain": [
       "'strawberry'"
      ]
     },
     "execution_count": 58,
     "metadata": {},
     "output_type": "execute_result"
    }
   ],
   "source": [
    "basket.pop()"
   ]
  },
  {
   "cell_type": "code",
   "execution_count": 59,
   "metadata": {},
   "outputs": [
    {
     "data": {
      "text/plain": [
       "['melon']"
      ]
     },
     "execution_count": 59,
     "metadata": {},
     "output_type": "execute_result"
    }
   ],
   "source": [
    "basket"
   ]
  },
  {
   "cell_type": "markdown",
   "metadata": {},
   "source": [
    "Since the last element is _returned_ by `pop`, we can also assign it to a variable:"
   ]
  },
  {
   "cell_type": "code",
   "execution_count": 60,
   "metadata": {},
   "outputs": [],
   "source": [
    "fruit = basket.pop()"
   ]
  },
  {
   "cell_type": "markdown",
   "metadata": {},
   "source": [
    "Note we don't see no result printed because the returned element was assigned to the variable `fruit`:"
   ]
  },
  {
   "cell_type": "code",
   "execution_count": 61,
   "metadata": {},
   "outputs": [
    {
     "data": {
      "text/plain": [
       "'melon'"
      ]
     },
     "execution_count": 61,
     "metadata": {},
     "output_type": "execute_result"
    }
   ],
   "source": [
    "fruit"
   ]
  },
  {
   "cell_type": "markdown",
   "metadata": {},
   "source": [
    "We also notice that `basket` was MODIFIED indeed:"
   ]
  },
  {
   "cell_type": "code",
   "execution_count": 62,
   "metadata": {},
   "outputs": [
    {
     "data": {
      "text/plain": [
       "[]"
      ]
     },
     "execution_count": 62,
     "metadata": {},
     "output_type": "execute_result"
    }
   ],
   "source": [
    "basket"
   ]
  },
  {
   "cell_type": "markdown",
   "metadata": {},
   "source": [
    "If you further call `pop` on an empty list you will get an error:"
   ]
  },
  {
   "cell_type": "markdown",
   "metadata": {},
   "source": [
    "```python\n",
    "basket.pop()\n",
    "---------------------------------------------------------------------------\n",
    "IndexError                                Traceback (most recent call last)\n",
    "<ipython-input-67-086f38c9fbc0> in <module>()\n",
    "----> 1 basket.pop()\n",
    "\n",
    "IndexError: pop from empty list\n",
    "\n",
    "```"
   ]
  },
  {
   "cell_type": "markdown",
   "metadata": {},
   "source": [
    "Optionally, to remove an element from a specific position we can pass `pop` an index from `0` INCLUDED to the length of the list EXCLUDED:"
   ]
  },
  {
   "cell_type": "code",
   "execution_count": 63,
   "metadata": {},
   "outputs": [],
   "source": [
    "#           0           1             2        3\n",
    "tools = ['hammer', 'screwdriver', 'plier', 'hammer']"
   ]
  },
  {
   "cell_type": "code",
   "execution_count": 64,
   "metadata": {},
   "outputs": [
    {
     "data": {
      "text/plain": [
       "'plier'"
      ]
     },
     "execution_count": 64,
     "metadata": {},
     "output_type": "execute_result"
    }
   ],
   "source": [
    "tools.pop(2)"
   ]
  },
  {
   "cell_type": "code",
   "execution_count": 65,
   "metadata": {},
   "outputs": [
    {
     "data": {
      "text/plain": [
       "['hammer', 'screwdriver', 'hammer']"
      ]
     },
     "execution_count": 65,
     "metadata": {},
     "output_type": "execute_result"
    }
   ],
   "source": [
    "tools"
   ]
  },
  {
   "cell_type": "markdown",
   "metadata": {},
   "source": [
    "**QUESTION**: Have a look at following code snippets, and for each of them try to guess the result it produces (or if it gives an error):\n",
    "\n",
    "1.  ```python\n",
    "    la = ['a']\n",
    "    print(la.pop())\n",
    "    print(la.pop())\n",
    "    ```\n",
    "1.  ```python\n",
    "    la = [4,3,2,1]\n",
    "    print(la.pop(4))\n",
    "    print(la)\n",
    "    ```\n",
    "1.  ```python\n",
    "    la = [1,2,3,4]\n",
    "    print(la.pop(3))\n",
    "    print(la)\n",
    "    ```    \n",
    "1.  ```python\n",
    "    la = [1,2,3,4]\n",
    "    print(la.pop(-1))\n",
    "    print(la)\n",
    "    ```\n",
    "1.  ```python\n",
    "    s = 'grezzo'\n",
    "    print(s.pop())\n",
    "    print(s)\n",
    "    ```\n",
    "1.  ```python\n",
    "    la = ['molto', 'grezzo']\n",
    "    print(la.pop())\n",
    "    print(la)\n",
    "    ```\n",
    "1.  ```python\n",
    "    la = ['a', ['a']]\n",
    "    print(la.pop())\n",
    "    print(la)\n",
    "    ```"
   ]
  },
  {
   "cell_type": "markdown",
   "metadata": {},
   "source": [
    "### Exercise - popcorn\n",
    "\n",
    "Given the list `corn` of exactly 4 characters, write some code which transfers in reverse order all the characters from `corn` to another list `box` which is initially empty.\n",
    "\n",
    "- **DO NOT** use methods like `reverse` or functions like `reversed`\n",
    "- Your code must work with _any_ list `corn` of 4 elements\n",
    "\n",
    "Example - given:\n",
    "\n",
    "```python\n",
    "corn = ['G','u','r','u']\n",
    "box = []\n",
    "```\n",
    "\n",
    "after your code, it must result:\n",
    "\n",
    "```python\n",
    ">>> print(corn)\n",
    "[]\n",
    ">>> print(box)\n",
    "['u', 'r', 'u', 'G']\n",
    "```"
   ]
  },
  {
   "cell_type": "raw",
   "id": "departmental-general",
   "metadata": {
    "format": "text/html"
   },
   "source": [
    "<a  class=\"jupman-sol jupman-sol-toggler\" \n",
    " onclick=\"jupman.toggleSolution(this);\" \n",
    " data-jupman-show=\"Show solution\" data-jupman-hide=\"Hide\">Show solution</a><div class=\"jupman-sol jupman-sol-code\" style=\"display:none\">  "
   ]
  },
  {
   "cell_type": "code",
   "execution_count": 66,
   "metadata": {},
   "outputs": [
    {
     "name": "stdout",
     "output_type": "stream",
     "text": [
      "['u', 'r', 'u', 'G']\n"
     ]
    }
   ],
   "source": [
    "     \n",
    "corn = ['G','u','r','u']\n",
    "box = []\n",
    "\n",
    "# write here\n",
    "\n",
    "box.append(corn.pop())\n",
    "box.append(corn.pop())\n",
    "box.append(corn.pop())\n",
    "box.append(corn.pop())\n",
    "print(box)"
   ]
  },
  {
   "cell_type": "raw",
   "id": "external-values",
   "metadata": {
    "format": "text/html"
   },
   "source": [
    "</div>"
   ]
  },
  {
   "cell_type": "code",
   "execution_count": 66,
   "metadata": {},
   "outputs": [
    {
     "name": "stdout",
     "output_type": "stream",
     "text": [
      "['u', 'r', 'u', 'G']\n"
     ]
    }
   ],
   "source": [
    "     \n",
    "corn = ['G','u','r','u']\n",
    "box = []\n",
    "\n",
    "# write here\n",
    "\n"
   ]
  },
  {
   "cell_type": "markdown",
   "metadata": {},
   "source": [
    "### Exercise - zonzo"
   ]
  },
  {
   "cell_type": "markdown",
   "metadata": {},
   "source": [
    "Given a list `la` containing some characters, and a list `lb` containing exactly two positions _in ascending order,_ write some code which eliminates from `la` the characters at positions specified in `lb`.\n",
    "\n",
    "* **WARNING**: by calling `pop` the first time you will MODIFY `la`, so the index from the second element to eliminate will need to be properly adjusted !\n",
    "* **DO NOT** create new lists, so no rows beginning with `la = `\n",
    "* Your code must work with _any_ `la` and _any_ `lb` of two elements\n",
    "\n",
    "Example - given:\n",
    "\n",
    "```python\n",
    "#      0   1   2   3   4\n",
    "la = ['z','o','n','z','o']\n",
    "lb = [2,4]\n",
    "```\n",
    "\n",
    "at position 2 in `la` we find the `n` and at 4th the `o`, so after your code it must result:\n",
    "\n",
    "```python\n",
    ">>> print(la)\n",
    "['z', 'o', 'z']\n",
    "```"
   ]
  },
  {
   "cell_type": "raw",
   "id": "outside-geography",
   "metadata": {
    "format": "text/html"
   },
   "source": [
    "<a  class=\"jupman-sol jupman-sol-toggler\" \n",
    " onclick=\"jupman.toggleSolution(this);\" \n",
    " data-jupman-show=\"Show solution\" data-jupman-hide=\"Hide\">Show solution</a><div class=\"jupman-sol jupman-sol-code\" style=\"display:none\">  "
   ]
  },
  {
   "cell_type": "code",
   "execution_count": 67,
   "metadata": {},
   "outputs": [
    {
     "data": {
      "text/plain": [
       "'o'"
      ]
     },
     "execution_count": 67,
     "metadata": {},
     "output_type": "execute_result"
    }
   ],
   "source": [
    "#      0   1   2   3   4\n",
    "la = ['z','o','n','z','o']\n",
    "lb = [2,4]\n",
    "\n",
    "# write here\n",
    "la.pop(lb[0])\n",
    "la.pop(lb[1]-1)\n",
    "#print(la)"
   ]
  },
  {
   "cell_type": "raw",
   "id": "mature-telescope",
   "metadata": {
    "format": "text/html"
   },
   "source": [
    "</div>"
   ]
  },
  {
   "cell_type": "code",
   "execution_count": 67,
   "metadata": {},
   "outputs": [
    {
     "data": {
      "text/plain": [
       "'o'"
      ]
     },
     "execution_count": 67,
     "metadata": {},
     "output_type": "execute_result"
    }
   ],
   "source": [
    "#      0   1   2   3   4\n",
    "la = ['z','o','n','z','o']\n",
    "lb = [2,4]\n",
    "\n",
    "# write here\n",
    "\n"
   ]
  },
  {
   "cell_type": "markdown",
   "metadata": {},
   "source": [
    "## `reverse` method\n",
    "\n",
    "`reverse` method MODIFIES the list on which it is called by inverting the order of elements.\n",
    "\n",
    "Let's see an example:"
   ]
  },
  {
   "cell_type": "code",
   "execution_count": 68,
   "metadata": {},
   "outputs": [],
   "source": [
    "la = [7,6,8,4]"
   ]
  },
  {
   "cell_type": "code",
   "execution_count": 69,
   "metadata": {},
   "outputs": [],
   "source": [
    "la.reverse()"
   ]
  },
  {
   "cell_type": "code",
   "execution_count": 70,
   "metadata": {},
   "outputs": [
    {
     "data": {
      "text/plain": [
       "[4, 8, 6, 7]"
      ]
     },
     "execution_count": 70,
     "metadata": {},
     "output_type": "execute_result"
    }
   ],
   "source": [
    "la"
   ]
  },
  {
   "cell_type": "markdown",
   "metadata": {},
   "source": [
    "<div class=\"alert alert-warning\">\n",
    "\n",
    "**WARNING**: `reverse` **RETURNS NOTHING!**\n",
    "\n",
    "To be precise, it returns `None`\n",
    "\n",
    "</div>"
   ]
  },
  {
   "cell_type": "code",
   "execution_count": 71,
   "metadata": {},
   "outputs": [],
   "source": [
    "lb = [7,6,8,4]"
   ]
  },
  {
   "cell_type": "code",
   "execution_count": 72,
   "metadata": {},
   "outputs": [],
   "source": [
    "x = lb.reverse()"
   ]
  },
  {
   "cell_type": "code",
   "execution_count": 73,
   "metadata": {},
   "outputs": [
    {
     "name": "stdout",
     "output_type": "stream",
     "text": [
      "None\n"
     ]
    }
   ],
   "source": [
    "print(x)"
   ]
  },
  {
   "cell_type": "code",
   "execution_count": 74,
   "metadata": {},
   "outputs": [
    {
     "name": "stdout",
     "output_type": "stream",
     "text": [
      "[4, 8, 6, 7]\n"
     ]
    }
   ],
   "source": [
    "print(lb)"
   ]
  },
  {
   "cell_type": "markdown",
   "metadata": {},
   "source": [
    "**QUESTION**: Which effect does the following code produce?\n",
    "\n",
    "```python\n",
    "s = \"transatlantic\"\n",
    "s.reverse()\n",
    "print(s)\n",
    "```\n",
    "\n",
    "1. an error (which one?)\n",
    "2. prints the string in reverse"
   ]
  },
  {
   "cell_type": "raw",
   "id": "coordinate-things",
   "metadata": {
    "format": "text/html"
   },
   "source": [
    "<a  class=\"jupman-sol jupman-sol-toggler\" \n",
    " onclick=\"jupman.toggleSolution(this);\" \n",
    " data-jupman-show=\"Show answer\" data-jupman-hide=\"Hide\">Show answer</a><div class=\"jupman-sol jupman-sol-question\" style=\"display:none\">  "
   ]
  },
  {
   "cell_type": "markdown",
   "metadata": {},
   "source": [
    "**ANSWER**: `.reverse()` is a method ONLY present in LISTS, so by using it on strings we will get an error. And we have to expect it, as `reverse` MODIFIES the object on which it is called and since strings are _immutable_ no string method can possibly modify the string on which it is called."
   ]
  },
  {
   "cell_type": "raw",
   "id": "alive-delight",
   "metadata": {
    "format": "text/html"
   },
   "source": [
    "</div>"
   ]
  },
  {
   "cell_type": "markdown",
   "metadata": {},
   "source": [
    "**QUESTION**: If `x` is some list, which effect does the following produce?\n",
    "\n",
    "```python\n",
    "x.reverse().reverse()\n",
    "```\n",
    "1. changes the list (how?)\n",
    "2. it doesn't change the list\n",
    "2. generates an error (which one?)"
   ]
  },
  {
   "cell_type": "raw",
   "id": "raised-classics",
   "metadata": {
    "format": "text/html"
   },
   "source": [
    "<a  class=\"jupman-sol jupman-sol-toggler\" \n",
    " onclick=\"jupman.toggleSolution(this);\" \n",
    " data-jupman-show=\"Show answer\" data-jupman-hide=\"Hide\">Show answer</a><div class=\"jupman-sol jupman-sol-question\" style=\"display:none\">  "
   ]
  },
  {
   "cell_type": "markdown",
   "metadata": {},
   "source": [
    "**ANSWER**: 3 - generates an error, because `reverse()` returns `None` which is not a list so it doesn't have `reverse()` method."
   ]
  },
  {
   "cell_type": "raw",
   "id": "transsexual-plant",
   "metadata": {
    "format": "text/html"
   },
   "source": [
    "</div>"
   ]
  },
  {
   "cell_type": "markdown",
   "metadata": {},
   "source": [
    "### Exercise - good manners\n",
    "\n",
    "Write some code which given two lists `la` and `lb` MODIFY `la` adding all the elements of `lb` and then reversing the whole list.\n",
    "\n",
    "* you code must work with any `la` and `lb`\n",
    "* **DO NOT** modify `lb`\n",
    "\n",
    "Example - given:\n",
    "\n",
    "```python\n",
    "la = ['g','o','o','d']\n",
    "lb = ['m','a','n','n','e','r','s']\n",
    "```\n",
    "\n",
    "After your code, it must print:\n",
    "\n",
    "```python\n",
    ">>> print('la=',la)\n",
    "la= ['s', 'r', 'e', 'n', 'n', 'a', 'm', 'd', 'o', 'o', 'g']\n",
    ">>> print('lb=',lb)\n",
    "lb= ['m', 'a', 'n', 'n', 'e', 'r', 's']\n",
    "```"
   ]
  },
  {
   "cell_type": "raw",
   "id": "cellular-liberia",
   "metadata": {
    "format": "text/html"
   },
   "source": [
    "<a  class=\"jupman-sol jupman-sol-toggler\" \n",
    " onclick=\"jupman.toggleSolution(this);\" \n",
    " data-jupman-show=\"Show solution\" data-jupman-hide=\"Hide\">Show solution</a><div class=\"jupman-sol jupman-sol-code\" style=\"display:none\">  "
   ]
  },
  {
   "cell_type": "code",
   "execution_count": 75,
   "metadata": {},
   "outputs": [
    {
     "name": "stdout",
     "output_type": "stream",
     "text": [
      "la= ['s', 'r', 'e', 'n', 'n', 'a', 'm', 'd', 'o', 'o', 'g']\n",
      "lb= ['m', 'a', 'n', 'n', 'e', 'r', 's']\n"
     ]
    }
   ],
   "source": [
    "la = ['g','o','o','d']\n",
    "lb = ['m','a','n','n','e','r','s']\n",
    "\n",
    "# write here\n",
    "la.extend(lb)\n",
    "la.reverse()\n",
    "print('la=',la)\n",
    "print('lb=',lb)"
   ]
  },
  {
   "cell_type": "raw",
   "id": "korean-brand",
   "metadata": {
    "format": "text/html"
   },
   "source": [
    "</div>"
   ]
  },
  {
   "cell_type": "code",
   "execution_count": 75,
   "metadata": {},
   "outputs": [
    {
     "name": "stdout",
     "output_type": "stream",
     "text": [
      "la= ['s', 'r', 'e', 'n', 'n', 'a', 'm', 'd', 'o', 'o', 'g']\n",
      "lb= ['m', 'a', 'n', 'n', 'e', 'r', 's']\n"
     ]
    }
   ],
   "source": [
    "la = ['g','o','o','d']\n",
    "lb = ['m','a','n','n','e','r','s']\n",
    "\n",
    "# write here\n",
    "\n"
   ]
  },
  {
   "cell_type": "markdown",
   "metadata": {},
   "source": [
    "## Exercise - precious things\n",
    "\n",
    "Given two lists `la` and `lb` write some code which PRINTS a list with the elements of `la` and `lb` in reverse order.\n",
    "\n",
    "- **DO NOT** modify `la` and **DO NOT** modify `lb`\n",
    "- your code must work with any list `la` and `lb`\n",
    "\n",
    "\n",
    "Example - given:\n",
    "\n",
    "```python\n",
    "la = ['p','r','e','c','i','o','u','s']\n",
    "lb = ['t','h','i','n','g','s']\n",
    "```\n",
    "\n",
    "After your code, it must print:\n",
    "```python\n",
    "['s', 'g', 'n', 'i', 'h', 't', 's', 'u', 'o', 'i', 'c', 'e', 'r', 'p']\n",
    "```"
   ]
  },
  {
   "cell_type": "raw",
   "id": "whole-dialogue",
   "metadata": {
    "format": "text/html"
   },
   "source": [
    "<a  class=\"jupman-sol jupman-sol-toggler\" \n",
    " onclick=\"jupman.toggleSolution(this);\" \n",
    " data-jupman-show=\"Show solution\" data-jupman-hide=\"Hide\">Show solution</a><div class=\"jupman-sol jupman-sol-code\" style=\"display:none\">  "
   ]
  },
  {
   "cell_type": "code",
   "execution_count": 76,
   "metadata": {},
   "outputs": [
    {
     "name": "stdout",
     "output_type": "stream",
     "text": [
      "['s', 'g', 'n', 'i', 'h', 't', 's', 'u', 'o', 'i', 'c', 'e', 'r', 'p']\n"
     ]
    }
   ],
   "source": [
    "la = ['p','r','e','c','i','o','u','s']\n",
    "lb = ['t','h','i','n','g','s']\n",
    "\n",
    "# write here\n",
    "lc = la + lb  # the + creates a NEW list\n",
    "lc.reverse()\n",
    "print(lc)"
   ]
  },
  {
   "cell_type": "raw",
   "id": "downtown-hungary",
   "metadata": {
    "format": "text/html"
   },
   "source": [
    "</div>"
   ]
  },
  {
   "cell_type": "code",
   "execution_count": 76,
   "metadata": {},
   "outputs": [
    {
     "name": "stdout",
     "output_type": "stream",
     "text": [
      "['s', 'g', 'n', 'i', 'h', 't', 's', 'u', 'o', 'i', 'c', 'e', 'r', 'p']\n"
     ]
    }
   ],
   "source": [
    "la = ['p','r','e','c','i','o','u','s']\n",
    "lb = ['t','h','i','n','g','s']\n",
    "\n",
    "# write here\n",
    "\n"
   ]
  },
  {
   "cell_type": "markdown",
   "metadata": {},
   "source": [
    "## Exercise - powers\n",
    "\n",
    "The following code uses some `insert` which as we already said it is not very efficient. Try to understand what it does, and rewrite it using only `append` and `reverse`\n",
    "\n",
    "* your code must work for any value of `x`"
   ]
  },
  {
   "cell_type": "code",
   "execution_count": 77,
   "metadata": {},
   "outputs": [
    {
     "name": "stdout",
     "output_type": "stream",
     "text": [
      "[32, 16, 8, 4, 2]\n"
     ]
    }
   ],
   "source": [
    "x = 2\n",
    "la = [x]\n",
    "la.insert(0,la[0]*2)\n",
    "la.insert(0,la[0]*2)\n",
    "la.insert(0,la[0]*2)\n",
    "la.insert(0,la[0]*2)\n",
    "print(la)"
   ]
  },
  {
   "cell_type": "raw",
   "id": "married-freeware",
   "metadata": {
    "format": "text/html"
   },
   "source": [
    "<a  class=\"jupman-sol jupman-sol-toggler\" \n",
    " onclick=\"jupman.toggleSolution(this);\" \n",
    " data-jupman-show=\"Show solution\" data-jupman-hide=\"Hide\">Show solution</a><div class=\"jupman-sol jupman-sol-code\" style=\"display:none\">  "
   ]
  },
  {
   "cell_type": "code",
   "execution_count": 78,
   "metadata": {},
   "outputs": [],
   "source": [
    "x = 2\n",
    "la = [x]\n",
    "\n",
    "# write here\n",
    "la.append(la[-1]*2)\n",
    "la.append(la[-1]*2)\n",
    "la.append(la[-1]*2)\n",
    "la.append(la[-1]*2)\n",
    "la.reverse()\n",
    "#print(la)"
   ]
  },
  {
   "cell_type": "raw",
   "id": "prescription-underground",
   "metadata": {
    "format": "text/html"
   },
   "source": [
    "</div>"
   ]
  },
  {
   "cell_type": "code",
   "execution_count": 78,
   "metadata": {},
   "outputs": [],
   "source": [
    "x = 2\n",
    "la = [x]\n",
    "\n",
    "# write here\n",
    "\n"
   ]
  },
  {
   "cell_type": "markdown",
   "metadata": {},
   "source": [
    "## `sort` method"
   ]
  },
  {
   "cell_type": "markdown",
   "metadata": {},
   "source": [
    "If a list contains homogenous elements, it is possible to sort it rapidly with the `sort` method, which MODIFIES the list on which it is called (also called sorting _in-place_):"
   ]
  },
  {
   "cell_type": "code",
   "execution_count": 79,
   "metadata": {},
   "outputs": [],
   "source": [
    "la = [8,6,7,9]"
   ]
  },
  {
   "cell_type": "code",
   "execution_count": 80,
   "metadata": {},
   "outputs": [],
   "source": [
    "la.sort()  # NOTE: sort returns nothing !!!"
   ]
  },
  {
   "cell_type": "code",
   "execution_count": 81,
   "metadata": {},
   "outputs": [
    {
     "data": {
      "text/plain": [
       "[6, 7, 8, 9]"
      ]
     },
     "execution_count": 81,
     "metadata": {},
     "output_type": "execute_result"
    }
   ],
   "source": [
    "la"
   ]
  },
  {
   "cell_type": "markdown",
   "metadata": {},
   "source": [
    "Strings are also [sortable](https://en.softpython.org/strings/strings2-sol.html#Comparing-characters)"
   ]
  },
  {
   "cell_type": "code",
   "execution_count": 82,
   "metadata": {},
   "outputs": [],
   "source": [
    "lb = ['Boccaccio', 'Alighieri', 'Manzoni', 'Leopardi']"
   ]
  },
  {
   "cell_type": "code",
   "execution_count": 83,
   "metadata": {},
   "outputs": [],
   "source": [
    "lb.sort()"
   ]
  },
  {
   "cell_type": "code",
   "execution_count": 84,
   "metadata": {},
   "outputs": [
    {
     "data": {
      "text/plain": [
       "['Alighieri', 'Boccaccio', 'Leopardi', 'Manzoni']"
      ]
     },
     "execution_count": 84,
     "metadata": {},
     "output_type": "execute_result"
    }
   ],
   "source": [
    "lb"
   ]
  },
  {
   "cell_type": "markdown",
   "metadata": {},
   "source": [
    "A list with non-comparable elements  it's not sortable, and Python will complain:"
   ]
  },
  {
   "cell_type": "code",
   "execution_count": 96,
   "metadata": {},
   "outputs": [],
   "source": [
    "lc = [3,4,'cabbage',7,'potatoes']"
   ]
  },
  {
   "cell_type": "markdown",
   "metadata": {},
   "source": [
    "```python\n",
    ">>> lc.sort()\n",
    "\n",
    "---------------------------------------------------------------------------\n",
    "TypeError                                 Traceback (most recent call last)\n",
    "<ipython-input-288-0cabfae30939> in <module>\n",
    "----> 1 lc.sort()\n",
    "\n",
    "TypeError: '<' not supported between instances of 'str' and 'int'\n",
    "\n",
    "```"
   ]
  },
  {
   "cell_type": "markdown",
   "metadata": {},
   "source": [
    "Optionally, for reverse order you can pass the parameter `reverse=True` :"
   ]
  },
  {
   "cell_type": "code",
   "execution_count": 98,
   "metadata": {},
   "outputs": [],
   "source": [
    "la = [4,2,5,3]\n",
    "la.sort(reverse=True)"
   ]
  },
  {
   "cell_type": "code",
   "execution_count": 100,
   "metadata": {},
   "outputs": [
    {
     "data": {
      "text/plain": [
       "[5, 4, 3, 2]"
      ]
     },
     "execution_count": 100,
     "metadata": {},
     "output_type": "execute_result"
    }
   ],
   "source": [
    "la"
   ]
  },
  {
   "cell_type": "markdown",
   "metadata": {},
   "source": [
    "### Custom sorting\n",
    "\n",
    "If you have custom needs like for example  a lists of strings in the format `'name surname'` that you want to sort according to the surname,  you should use optional parameter `key` with `lambda` functions, see [Python docs](https://docs.python.org/3/howto/sorting.html#key-functions)"
   ]
  },
  {
   "cell_type": "markdown",
   "metadata": {},
   "source": [
    "### Exercise - manylines\n",
    "       \n",
    "Given the following string of text:    \n",
    "\n",
    "```python\n",
    "\"\"\"This is a string\n",
    "of text on\n",
    "several lines which tells nothing.\"\"\"\n",
    "```\n",
    "\n",
    "1. print it\n",
    "2. prints how many lines, words and characters it contains\n",
    "3. sort the words in alphabetical order and print the first and last ones in lexicographical order\n",
    "\n",
    "You should obtain:\n",
    "\n",
    "```\n",
    "This is a string\n",
    "of text on\n",
    "several lines which tells nothing.\n",
    "\n",
    "Lines: 3   words: 12   chars: 62\n",
    "\n",
    "['T', 'h', 'i', 's', ' ', 'i', 's', ' ', 'a', ' ', 's', 't', 'r', 'i', 'n', 'g', '\\n', 'o', 'f', ' ', 't', 'e', 'x', 't', ' ', 'o', 'n', '\\n', 's', 'e', 'v', 'e', 'r', 'a', 'l', ' ', 'l', 'i', 'n', 'e', 's', ' ', 'w', 'h', 'i', 'c', 'h', ' ', 't', 'e', 'l', 'l', 's', ' ', 'n', 'o', 't', 'h', 'i', 'n', 'g', '.']\n",
    "62\n",
    "\n",
    "First word:  This\n",
    "Last word: which\n",
    "['This', 'a', 'is', 'lines', 'nothing.', 'of', 'on', 'several', 'string', 'tells', 'text', 'which']\n",
    "```"
   ]
  },
  {
   "cell_type": "raw",
   "id": "selective-kinase",
   "metadata": {
    "format": "text/html"
   },
   "source": [
    "<a  class=\"jupman-sol jupman-sol-toggler\" \n",
    " onclick=\"jupman.toggleSolution(this);\" \n",
    " data-jupman-show=\"Show solution\" data-jupman-hide=\"Hide\">Show solution</a><div class=\"jupman-sol jupman-sol-code\" style=\"display:none\">  "
   ]
  },
  {
   "cell_type": "code",
   "execution_count": 101,
   "metadata": {},
   "outputs": [
    {
     "name": "stdout",
     "output_type": "stream",
     "text": [
      "This is a string\n",
      "of text on\n",
      "several lines which tells nothing.\n",
      "\n",
      "Lines: 3   words: 12   chars: 62\n",
      "\n",
      "['T', 'h', 'i', 's', ' ', 'i', 's', ' ', 'a', ' ', 's', 't', 'r', 'i', 'n', 'g', '\\n', 'o', 'f', ' ', 't', 'e', 'x', 't', ' ', 'o', 'n', '\\n', 's', 'e', 'v', 'e', 'r', 'a', 'l', ' ', 'l', 'i', 'n', 'e', 's', ' ', 'w', 'h', 'i', 'c', 'h', ' ', 't', 'e', 'l', 'l', 's', ' ', 'n', 'o', 't', 'h', 'i', 'n', 'g', '.']\n",
      "62\n",
      "\n",
      "First word:  This\n",
      "Last word: which\n",
      "['This', 'a', 'is', 'lines', 'nothing.', 'of', 'on', 'several', 'string', 'tells', 'text', 'which']\n"
     ]
    }
   ],
   "source": [
    "s = \"\"\"This is a string\n",
    "of text on\n",
    "several lines which tells nothing.\"\"\"\n",
    "\n",
    "# write here\n",
    "\n",
    "# 1) print\n",
    "print(s)\n",
    "print(\"\")\n",
    "\n",
    "# 2) prints the lines, words and characters\n",
    "lines = s.split('\\n')\n",
    "\n",
    "# NOTE: words are separated by a space or a newline \n",
    "\n",
    "words = lines[0].split(' ') + lines[1].split(' ') + lines[2].split(' ')\n",
    "num_chars = len(s)\n",
    "print(\"Lines:\", len(lines), \"  words:\", len(words), \"  chars:\", num_chars)\n",
    "\n",
    "# alternative method for number of characters\n",
    "print(\"\")\n",
    "characters = list(s)\n",
    "num_chars2 = len(characters)\n",
    "print(characters)\n",
    "print(num_chars2)\n",
    "\n",
    "# 3. alphabetically order the words and prints the first and last one in lexicographical order\n",
    "\n",
    "words.sort() # NOTE: it returns NOTHING !!!!\n",
    "print(\"\")\n",
    "print(\"First word: \", words[0])\n",
    "print(\"Last word:\", words[-1])\n",
    "print(words)"
   ]
  },
  {
   "cell_type": "raw",
   "id": "flexible-harvest",
   "metadata": {
    "format": "text/html"
   },
   "source": [
    "</div>"
   ]
  },
  {
   "cell_type": "code",
   "execution_count": 101,
   "metadata": {},
   "outputs": [
    {
     "name": "stdout",
     "output_type": "stream",
     "text": [
      "This is a string\n",
      "of text on\n",
      "several lines which tells nothing.\n",
      "\n",
      "Lines: 3   words: 12   chars: 62\n",
      "\n",
      "['T', 'h', 'i', 's', ' ', 'i', 's', ' ', 'a', ' ', 's', 't', 'r', 'i', 'n', 'g', '\\n', 'o', 'f', ' ', 't', 'e', 'x', 't', ' ', 'o', 'n', '\\n', 's', 'e', 'v', 'e', 'r', 'a', 'l', ' ', 'l', 'i', 'n', 'e', 's', ' ', 'w', 'h', 'i', 'c', 'h', ' ', 't', 'e', 'l', 'l', 's', ' ', 'n', 'o', 't', 'h', 'i', 'n', 'g', '.']\n",
      "62\n",
      "\n",
      "First word:  This\n",
      "Last word: which\n",
      "['This', 'a', 'is', 'lines', 'nothing.', 'of', 'on', 'several', 'string', 'tells', 'text', 'which']\n"
     ]
    }
   ],
   "source": [
    "s = \"\"\"This is a string\n",
    "of text on\n",
    "several lines which tells nothing.\"\"\"\n",
    "\n",
    "# write here\n",
    "\n"
   ]
  },
  {
   "cell_type": "markdown",
   "metadata": {},
   "source": [
    "### Exercise - numlist\n",
    "\n",
    "Given the list `la = [10, 60, 72, 118, 11, 71, 56, 89, 120, 175]` \n",
    "\n",
    "1. finds the `min`, `max` and the `median value` (HINT: sort it and extract the right values)\n",
    "2. create a list only with elements at even indexes (i.e. [10, 72, 11, ..], note that \"..\" means the list is still not complete!) and ricalculates the values of min, max and median\n",
    "3. redo the same with the elements at odd indexes (i.e. [60, 118,..])\n",
    "\n",
    "You should obtain:\n",
    "\n",
    "```bash\n",
    "original:    [10, 60, 72, 118, 11, 71, 56, 89, 120, 175]\n",
    "even:        [10, 72, 11, 56, 120]\n",
    "odd:         [60, 118, 71, 89, 175]\n",
    "\n",
    "sorted:      [10, 11, 56, 60, 71, 72, 89, 118, 120, 175]\n",
    "sorted even: [10, 11, 56, 72, 120]\n",
    "sorted odd:  [60, 71, 89, 118, 175]\n",
    "\n",
    "original:    Min: 10  Max. 175  Median:  72\n",
    "even:        Min: 10  Max. 120  Median:  56\n",
    "odd:         Min: 60  Max. 175  Median:  89\n",
    "```"
   ]
  },
  {
   "cell_type": "raw",
   "id": "alternate-colon",
   "metadata": {
    "format": "text/html"
   },
   "source": [
    "<a  class=\"jupman-sol jupman-sol-toggler\" \n",
    " onclick=\"jupman.toggleSolution(this);\" \n",
    " data-jupman-show=\"Show solution\" data-jupman-hide=\"Hide\">Show solution</a><div class=\"jupman-sol jupman-sol-code\" style=\"display:none\">  "
   ]
  },
  {
   "cell_type": "code",
   "execution_count": 87,
   "metadata": {
    "scrolled": false
   },
   "outputs": [
    {
     "name": "stdout",
     "output_type": "stream",
     "text": [
      "original:    [10, 60, 72, 118, 11, 71, 56, 89, 120, 175]\n",
      "even:        [10, 72, 11, 56, 120]\n",
      "odd:         [60, 118, 71, 89, 175]\n",
      "\n",
      "sorted:      [10, 11, 56, 60, 71, 72, 89, 118, 120, 175]\n",
      "sorted even: [10, 11, 56, 72, 120]\n",
      "sorted odd:  [60, 71, 89, 118, 175]\n",
      "\n",
      "original:    Min: 10  Max. 175  Median:  72\n",
      "even:        Min: 10  Max. 120  Median:  56\n",
      "odd:         Min: 60  Max. 175  Median:  89\n"
     ]
    }
   ],
   "source": [
    "la = [10, 60, 72, 118, 11, 71, 56, 89, 120, 175]\n",
    "\n",
    "# write here\n",
    "\n",
    "even = la[0::2]   # we take only elements at even indeces\n",
    "odd = la[1::2]    # we take only elements at odd indeces\n",
    "\n",
    "print(\"original:   \" , la)\n",
    "print(\"even:       \", even)\n",
    "print(\"odd:        \", odd)\n",
    "\n",
    "la.sort()\n",
    "even.sort()\n",
    "odd.sort()\n",
    "\n",
    "print()\n",
    "print(\"sorted:     \" , la)\n",
    "print(\"sorted even:\" , even)\n",
    "print(\"sorted odd: \" , odd)\n",
    "print()\n",
    "print(\"original:    Min:\", la[0], \" Max.\" , la[-1], \" Median: \", la[len(la) // 2])\n",
    "print(\"even:        Min:\", even[0], \" Max.\" , even[-1], \" Median: \", even[len(even) // 2])\n",
    "print(\"odd:         Min:\", odd[0], \" Max.\" , odd[-1], \" Median: \", odd[len(odd) // 2])"
   ]
  },
  {
   "cell_type": "raw",
   "id": "egyptian-damage",
   "metadata": {
    "format": "text/html"
   },
   "source": [
    "</div>"
   ]
  },
  {
   "cell_type": "code",
   "execution_count": 87,
   "metadata": {
    "scrolled": false
   },
   "outputs": [
    {
     "name": "stdout",
     "output_type": "stream",
     "text": [
      "original:    [10, 60, 72, 118, 11, 71, 56, 89, 120, 175]\n",
      "even:        [10, 72, 11, 56, 120]\n",
      "odd:         [60, 118, 71, 89, 175]\n",
      "\n",
      "sorted:      [10, 11, 56, 60, 71, 72, 89, 118, 120, 175]\n",
      "sorted even: [10, 11, 56, 72, 120]\n",
      "sorted odd:  [60, 71, 89, 118, 175]\n",
      "\n",
      "original:    Min: 10  Max. 175  Median:  72\n",
      "even:        Min: 10  Max. 120  Median:  56\n",
      "odd:         Min: 60  Max. 175  Median:  89\n"
     ]
    }
   ],
   "source": [
    "la = [10, 60, 72, 118, 11, 71, 56, 89, 120, 175]\n",
    "\n",
    "# write here\n",
    "\n"
   ]
  },
  {
   "cell_type": "markdown",
   "metadata": {},
   "source": [
    "## `index` method\n",
    "\n",
    "The `index` method allows us to find the index of the FIRST occurrence of an element."
   ]
  },
  {
   "cell_type": "code",
   "execution_count": 88,
   "metadata": {},
   "outputs": [],
   "source": [
    "#      0   1   2   3   4\n",
    "la = ['p','a','e','s','e']"
   ]
  },
  {
   "cell_type": "code",
   "execution_count": 89,
   "metadata": {},
   "outputs": [
    {
     "data": {
      "text/plain": [
       "0"
      ]
     },
     "execution_count": 89,
     "metadata": {},
     "output_type": "execute_result"
    }
   ],
   "source": [
    "la.index('p')"
   ]
  },
  {
   "cell_type": "code",
   "execution_count": 90,
   "metadata": {},
   "outputs": [
    {
     "data": {
      "text/plain": [
       "1"
      ]
     },
     "execution_count": 90,
     "metadata": {},
     "output_type": "execute_result"
    }
   ],
   "source": [
    "la.index('a')  "
   ]
  },
  {
   "cell_type": "code",
   "execution_count": 91,
   "metadata": {},
   "outputs": [
    {
     "data": {
      "text/plain": [
       "2"
      ]
     },
     "execution_count": 91,
     "metadata": {},
     "output_type": "execute_result"
    }
   ],
   "source": [
    "la.index('e')  # we find the FIRST occurrence"
   ]
  },
  {
   "cell_type": "markdown",
   "metadata": {},
   "source": [
    "If the element we're looking for is not present, we will get an error:"
   ]
  },
  {
   "cell_type": "markdown",
   "metadata": {},
   "source": [
    "\n",
    "\n",
    "```python\n",
    ">>> la.index('z')\n",
    "\n",
    "---------------------------------------------------------------------------\n",
    "ValueError                                Traceback (most recent call last)\n",
    "<ipython-input-303-32d9c064ebe0> in <module>\n",
    "----> 1 la.index('z')\n",
    "\n",
    "ValueError: 'z' is not in list\n",
    "\n",
    "```"
   ]
  },
  {
   "cell_type": "markdown",
   "metadata": {},
   "source": [
    "## `count` method\n",
    "\n",
    "We can find the number of occurrences of a certain element in a list by using the method `count`"
   ]
  },
  {
   "cell_type": "code",
   "execution_count": 92,
   "metadata": {},
   "outputs": [],
   "source": [
    "la = ['a', 'n', 'a', 'c', 'o', 'n', 'd', 'a']"
   ]
  },
  {
   "cell_type": "code",
   "execution_count": 93,
   "metadata": {},
   "outputs": [
    {
     "data": {
      "text/plain": [
       "2"
      ]
     },
     "execution_count": 93,
     "metadata": {},
     "output_type": "execute_result"
    }
   ],
   "source": [
    "la.count('n')"
   ]
  },
  {
   "cell_type": "code",
   "execution_count": 94,
   "metadata": {},
   "outputs": [
    {
     "data": {
      "text/plain": [
       "3"
      ]
     },
     "execution_count": 94,
     "metadata": {},
     "output_type": "execute_result"
    }
   ],
   "source": [
    "la.count('a')"
   ]
  },
  {
   "cell_type": "code",
   "execution_count": 95,
   "metadata": {},
   "outputs": [
    {
     "data": {
      "text/plain": [
       "1"
      ]
     },
     "execution_count": 95,
     "metadata": {},
     "output_type": "execute_result"
    }
   ],
   "source": [
    "la.count('d')"
   ]
  },
  {
   "cell_type": "markdown",
   "metadata": {},
   "source": [
    "## Continue\n",
    "\n",
    "You can find more exercises in the worksheet [Lists 4](https://en.softpython.org/lists/lists4-sol.html)"
   ]
  },
  {
   "cell_type": "code",
   "execution_count": null,
   "metadata": {},
   "outputs": [],
   "source": []
  }
 ],
 "metadata": {
  "kernelspec": {
   "display_name": "Python 3",
   "language": "python",
   "name": "python3"
  },
  "language_info": {
   "codemirror_mode": {
    "name": "ipython",
    "version": 3
   },
   "file_extension": ".py",
   "mimetype": "text/x-python",
   "name": "python",
   "nbconvert_exporter": "python",
   "pygments_lexer": "ipython3",
   "version": "3.5.2"
  },
  "toc": {
   "base_numbering": 1,
   "nav_menu": {},
   "number_sections": false,
   "sideBar": true,
   "skip_h1_title": false,
   "title_cell": "Table of Contents",
   "title_sidebar": "Contents",
   "toc_cell": false,
   "toc_position": {},
   "toc_section_display": true,
   "toc_window_display": true
  }
 },
 "nbformat": 4,
 "nbformat_minor": 2
}
