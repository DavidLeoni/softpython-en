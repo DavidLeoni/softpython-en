{
 "cells": [
  {
   "cell_type": "markdown",
   "id": "worst-going",
   "metadata": {},
   "source": [
    "# Lists 5 - First challenges\n",
    "\n",
    "## [Download exercises zip](../_static/generated/lists.zip)\n",
    "\n",
    "[Browse files online](https://github.com/DavidLeoni/softpython-en/lists)"
   ]
  },
  {
   "cell_type": "markdown",
   "id": "impossible-cambodia",
   "metadata": {},
   "source": [
    "We now propose some exercises without solution, do you accept the challenge?"
   ]
  },
  {
   "cell_type": "markdown",
   "id": "562e46bb",
   "metadata": {},
   "source": [
    "## Challenge - super DUPER sorted\n",
    "\n",
    "1) Given a string `s` as a series of *exactly* 3  words separated by various _blanks_, write some code which sorts each word separately and puts in `s` a string with all the words joined and sorted.\n",
    "\n",
    "Example - given:\n",
    "\n",
    "```python\n",
    "s = ''super \\t \\n   DUPER  \\n   sorted''\n",
    "```\n",
    "\n",
    "after your code, it should result:\n",
    "\n",
    "```python\n",
    ">>> s\n",
    "'eprsuDEPRUdeorst'\n",
    "```\n",
    "\n",
    "- **DO NOT** use if statements nor cycles\n",
    "- **DO NOT** write string constants in your code (so no `'\\t'` ...)"
   ]
  },
  {
   "cell_type": "code",
   "execution_count": 1,
   "id": "ba4518d4-stripped",
   "metadata": {},
   "outputs": [],
   "source": [
    "\n",
    "s = 'super \\t \\n   DUPER  \\n   sorted'  # 'eprsuDEPRUdeorst'\n",
    "#s = 'cba BCAD  dcab'                   # 'abcABCDabcd'\n",
    "\n",
    "# write here\n",
    "\n"
   ]
  },
  {
   "cell_type": "markdown",
   "id": "fe9769cc",
   "metadata": {},
   "source": [
    "## Challenge - What a nasty problem\n",
    "\n",
    "\n",
    "Suppose you have a list of strings `to_mod` with an asterisk `'*'`, which you want to MODIFY by inserting another list `to_ins` at asterisk position.\n",
    "\n",
    "Example - given:\n",
    "\n",
    "```python\n",
    "to_ins = ['I','mean','truly','darn']\n",
    "to_mod = ['What','a','nasty','*','nasty','problem']\n",
    "```\n",
    "\n",
    "\n",
    "After your code, it must result:\n",
    "\n",
    "```python\n",
    ">>> to_mod\n",
    "['What', 'a', 'nasty', 'I', 'mean', 'truly', 'darn', 'nasty', 'problem']\n",
    "```\n",
    "\n",
    "- **DO NOT** change the assignment of `to_mod`, so no `to_mod =` statement is allowed !!! If you are thinking about converting everything to a string and back to a list, even if not optimal it could still be a solution provided you don't use a `to_mod =` statement\n",
    "- **DO NOT** use loops nor `if` statements\n",
    "- **HINT**: think about methods that MODIFY a list, for example you could either:\n",
    "\n",
    "a) reset the list with the `clear()` method and re-extend it with what you need (of course you will need to save prior resetting ...)\n",
    "\n",
    "b) (harder) use [slices ressignment](https://en.softpython.org/lists/lists2-sol.html#Slices---modifying) "
   ]
  },
  {
   "cell_type": "code",
   "execution_count": 2,
   "id": "a1d6e9c4-stripped",
   "metadata": {},
   "outputs": [],
   "source": [
    "\n",
    "to_ins = ['I','mean','truly','darn']\n",
    "to_mod = ['What','a','nasty','*','nasty','problem']\n",
    "#to_ins, to_mod = ['looks', 'like', 'a'],  ['This','*','punishment']\n",
    "\n",
    "\n",
    "# write here\n",
    "\n"
   ]
  },
  {
   "cell_type": "code",
   "execution_count": 3,
   "id": "fbae9b6c-stripped",
   "metadata": {
    "nbsphinx": "hidden"
   },
   "outputs": [],
   "source": []
  },
  {
   "cell_type": "markdown",
   "id": "cee29620",
   "metadata": {},
   "source": [
    "## Challenge - Toys in the Attic\n",
    "\n",
    "\n",
    "There are [Toys in the Attic](https://www.youtube.com/watch?v=Q9NAerwlYWw)! Let's take them back!\n",
    "\n",
    "Unfortunately, they are mixed with other stuff so we need to reorganize the \n",
    "mess. The attic is very tiny and dark, so you put your stuff in a long row.\n",
    "At the beginning of the `attic` there is a little note you put with \n",
    "the last inventory you did. It reports the number of items of a particular\n",
    "category that you will find after the note. After all those objects, \n",
    "you will find another note with the number of objects for another\n",
    "category of objects which follows and so on.\n",
    "\n",
    "We can represent the `attic` as a list of mixed object types, numbers \n",
    "and strings. The list contains **exactly** three categories, in this\n",
    "order: toys, painting, and sports. You are given three separate empty \n",
    "lists `toys`, `painting`, `sports` and your goal is to separate the \n",
    "objects into these 3 different lists\n",
    "\n",
    "After your code, you should obtain:\n",
    "\n",
    "```\n",
    "toys:     ['doll', 'lego', 'minicar']\n",
    "painting: ['frame', 'brushes']\n",
    "sports:   ['bike', 'pump', 'racket', 'ball']\n",
    "```\n",
    "\n",
    "* **DO NOT** replace the lists, so no `toys = ` statements ! \n",
    "   You can only MODIFY them.\n",
    "* **DO NOT** use loops nor `if` statements"
   ]
  },
  {
   "cell_type": "code",
   "execution_count": 4,
   "id": "8161fe58-stripped",
   "metadata": {},
   "outputs": [],
   "source": [
    "\n",
    "\n",
    "     # 0   1      2       3      4    5        6      7    8     9       10      11\n",
    "attic=[3,'doll','lego','minicar',2,'frame','brushes', 4,'bike','pump','racket','ball']\n",
    "\n",
    "#         0    1        2      3    4     5      6        7\n",
    "#attic = [2,'cards','monopoly',1,'colors',2,'snowboard','ski']  \n",
    "\n",
    "# these are given, you have to somehow MODIFY these lists\n",
    "toys = []\n",
    "painting = []\n",
    "sports = []\n",
    "\n",
    "# write here\n",
    "\n"
   ]
  },
  {
   "cell_type": "code",
   "execution_count": 5,
   "id": "2bc39b36-stripped",
   "metadata": {
    "nbsphinx": "hidden"
   },
   "outputs": [],
   "source": []
  },
  {
   "cell_type": "code",
   "execution_count": null,
   "id": "ca9a8248",
   "metadata": {},
   "outputs": [],
   "source": []
  }
 ],
 "metadata": {
  "kernelspec": {
   "display_name": "Python 3 (ipykernel)",
   "language": "python",
   "name": "python3"
  },
  "language_info": {
   "codemirror_mode": {
    "name": "ipython",
    "version": 3
   },
   "file_extension": ".py",
   "mimetype": "text/x-python",
   "name": "python",
   "nbconvert_exporter": "python",
   "pygments_lexer": "ipython3",
   "version": "3.7.10"
  },
  "toc": {
   "base_numbering": 1,
   "nav_menu": {},
   "number_sections": false,
   "sideBar": true,
   "skip_h1_title": false,
   "title_cell": "Table of Contents",
   "title_sidebar": "Contents",
   "toc_cell": false,
   "toc_position": {},
   "toc_section_display": true,
   "toc_window_display": true
  }
 },
 "nbformat": 4,
 "nbformat_minor": 5
}
