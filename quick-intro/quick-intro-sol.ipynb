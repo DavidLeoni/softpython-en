{
 "cells": [
  {
   "cell_type": "code",
   "execution_count": 1,
   "metadata": {
    "nbsphinx": "hidden"
   },
   "outputs": [],
   "source": [
    "# Remember to execute this cell with Control+Enter\n",
    "import jupman;"
   ]
  },
  {
   "cell_type": "markdown",
   "metadata": {
    "colab_type": "text",
    "id": "dW_7xwCZAFP5"
   },
   "source": [
    "# Quick introduction to Python\n",
    "\n",
    "## [Download exercises zip](../_static/generated/quick-intro.zip)\n",
    "\n",
    "[Browse files online](https://github.com/DavidLeoni/softpython-it/tree/master/quick-intro)\n",
    "\n",
    "<div class=\"alert alert-warning\">\n",
    "\n",
    "**REQUIREMENTS:**\n",
    "    \n",
    "* **THIS WORKSHEET IS INTENDED FOR PEOPLE WHO ALREADY HAVE PROGRAMMING SKILLS**, and in 3-4h hourse want to rapidly get an idea of Python\n",
    "* **Having installed Python 3 and Jupyter**: if you haven't already, have a look at [Installation](https://en.softpython.org/installation.html)\n",
    "</div>\n",
    "\n",
    "<div class=\"alert alert-warning\">\n",
    "\n",
    "**IF YOU ARE A BEGINNER:**\n",
    "    \n",
    "Skip this worksheet and do instead the tutorials you find in the section [Foundations](https://en.softpython.org/index.html#foundations), starting from [Tools and scripts](https://en.softpython.org/tools/tools-sol.html)\n",
    "</div>"
   ]
  },
  {
   "cell_type": "markdown",
   "metadata": {},
   "source": [
    "\n",
    "### What to do\n",
    "\n",
    "- extract the zip in a folder\n",
    "\n",
    "<div class=\"alert alert-warning\">\n",
    "\n",
    "**The notebook file MUST be in the extracted folder.**    \n",
    "    \n",
    "    \n",
    "Otherwise it won't be properly visualized!\n",
    "</div>\n",
    "\n",
    "\n",
    "you should obtain something like this:\n",
    "\n",
    "```\n",
    "\n",
    "quick-intro\n",
    "    quick-intro.ipynb     \n",
    "    quick-intro-sol.ipynb     \n",
    "    jupman.py         \n",
    "```\n",
    "\n",
    "<div class=\"alert alert-warning\">\n",
    "\n",
    "**ONLY USE PYTHON 3 in this book**  <br/>\n",
    "\n",
    "* If by chance you get surprising behaviours, check you are actually using Python 3 and not the 2. \n",
    "\n",
    "* If by issuing `python` your operating system by chance runs python 2, try executing instead the command `python3`\n",
    "</div>\n",
    "\n",
    "\n",
    "- open Jupyter Notebook in that folder. Two things should open, first a console and then a browser. The browser should show a list of files: browser the list and open the notebook `quick-intro.ipynb`\n",
    "- Keep reading the exercises file, every now and then you will find inside **EXERCISE** headers, which will ask you to write Python commands in the following cells. The exercises are marked by difficulty, from ✪ to ✪✪✪✪ stars\n",
    "\n",
    "<div class=\"alert alert-warning\">\n",
    "\n",
    "**Always remember to execute the first cell inside the notebook.**\n",
    "    \n",
    "It contains instructions like `import jupman` which tell Python which modules are needed and how to find them. To execute it, see the following shortcuts    \n",
    "</div>\n",
    "\n",
    "Keyboard shortcuts for Windows and Linux users:\n",
    "\n",
    "* To execute Python code inside a Jupyter cell, hit `Ctrl+Enter`\n",
    "* To execute Python code inside a Jupyter cell AND select the following cell, hit `Shift+Enter`\n",
    "* To execute Python code inside a cell AND create a new cell right afterwards, hit `Alt+Enter`\n",
    "* If by chance the Notebook looks stuck, try selecting `Kernel -> Restart`\n",
    "\n",
    "If you are a Mac user, substitute above keys with the following:\n",
    "\n",
    "* Ctrl -> Command key `⌘`\n",
    "* Shift -> Shift `⇧`\n",
    "* Alt -> Option `⌥`"
   ]
  },
  {
   "cell_type": "markdown",
   "metadata": {},
   "source": [
    "## Let's try Jupyter\n",
    "\n",
    "Let's briefly have a look at how Jupyter notebooks work."
   ]
  },
  {
   "cell_type": "markdown",
   "metadata": {},
   "source": [
    "**EXERCISE**: Try inserting a Python command: write in the cell below `3 + 5`, and while you are in the cell hit the special keys `Control+Enter`. As a result, you should see the number 8 "
   ]
  },
  {
   "cell_type": "code",
   "execution_count": null,
   "metadata": {},
   "outputs": [],
   "source": []
  },
  {
   "cell_type": "markdown",
   "metadata": {},
   "source": [
    "**EXERCISE**: in Python we can write comments by starting a row with a crosshair `#`. As before, write in the cell below `3 + 5` but this time write in the row below the writing `# write here`:"
   ]
  },
  {
   "cell_type": "code",
   "execution_count": 2,
   "metadata": {},
   "outputs": [],
   "source": [
    "# write here\n"
   ]
  },
  {
   "cell_type": "markdown",
   "metadata": {},
   "source": [
    "**EXERCISE**: for each cell Jupyter shows the result only in the last executed row in that cell. Try inserting this code in the cell below and execute by hitting `Control+Enter`. What is the result?\n",
    "\n",
    "```python\n",
    "3 + 5\n",
    "1 + 1\n",
    "```"
   ]
  },
  {
   "cell_type": "code",
   "execution_count": 3,
   "metadata": {},
   "outputs": [],
   "source": [
    "# write here\n",
    "\n"
   ]
  },
  {
   "cell_type": "markdown",
   "metadata": {},
   "source": [
    "**EXERCISE**: Let's try creating a new cell\n",
    "\n",
    "* While you have the cursor in this cell, hit `Alt+Enter`. A new cell should open after the current one.\n",
    "\n",
    "* In the newly created cell, insert `2 + 3` and then hit `Shift+Enter`. What happens to the cursor? Try the differences with `Control+Enter`. If you don't understand the difference, try hitting `Shift+Enter` repeatedly and see what happens."
   ]
  },
  {
   "cell_type": "markdown",
   "metadata": {
    "colab_type": "text",
    "id": "vEzZXT8MAFP9"
   },
   "source": [
    " "
   ]
  },
  {
   "cell_type": "markdown",
   "metadata": {
    "colab_type": "text",
    "id": "uZyXs9KLAFQB"
   },
   "source": [
    "## Main types of data in Python\n",
    "\n",
    "Since the book's theme is data processing, to start with we will focus on data types in Python.\n",
    "\n",
    "**References**: \n",
    "\n",
    "- [Foundations - Data Types](https://en.softpython.org/#data-types) \n",
    "\n",
    "Whenever we read data from an external data source like a file, we will inevitably be forced to embed the data we read into some combination of these types:"
   ]
  },
  {
   "cell_type": "markdown",
   "metadata": {
    "colab_type": "text",
    "id": "1ecI-hRCAFQG"
   },
   "source": [
    "\n",
    "| Type | Exemple 1 | Exemple 2 | Exemple 3|\n",
    "|--------|-----|---|----|\n",
    "|`int`|  `0`|`3`| `-5`|\n",
    "|`float` (floating point number)| `0.0`| `3.7` | `-2.3`| \n",
    "|`bool`|`False`|`True`||\n",
    "|`string`  |`\"\"`| `\"Good morning\"`|`'How are you?'`|\n",
    "|`list` | `[]`|`[5, 8, 10]`|`[\"give me\", 5, \"something\"]`|\n",
    "| `dict` |`{}`|`{'key 1':'value 1', 'key 2':'value 2'}`|`{5:'a string value', 'some string key':7}`|"
   ]
  },
  {
   "cell_type": "markdown",
   "metadata": {
    "colab_type": "text",
    "id": "GBvgbl0xAFQL"
   },
   "source": [
    "Sometimes we will use more complex  types, for example we could store temporal values into the type `datetime` which can also hold the timezone.\n",
    "\n",
    "In what follows, we will provide some brief example about what we can do on various data types, putting references to more detailed explanations in the book."
   ]
  },
  {
   "cell_type": "markdown",
   "metadata": {
    "colab_type": "text",
    "id": "p_V71t9BAFQQ"
   },
   "source": [
    "## Integer and floating point numbers\n",
    "\n",
    "We put here a couple of brief notes.\n",
    "\n",
    "**References**:\n",
    "\n",
    "- [Foundations - A.1 Data types - Basics](https://en.softpython.org/#basics)\n",
    "\n",
    "In Python we have integer numbers:"
   ]
  },
  {
   "cell_type": "code",
   "execution_count": 4,
   "metadata": {
    "colab": {
     "autoexec": {
      "startup": false,
      "wait_interval": 0
     },
     "output_extras": [
      {}
     ]
    },
    "colab_type": "code",
    "id": "--cJxUntAFQT",
    "outputId": "6a261e4f-6f7f-481d-9f4e-02f951c18010"
   },
   "outputs": [
    {
     "data": {
      "text/plain": [
       "8"
      ]
     },
     "execution_count": 4,
     "metadata": {},
     "output_type": "execute_result"
    }
   ],
   "source": [
    "3 + 5"
   ]
  },
  {
   "cell_type": "markdown",
   "metadata": {
    "colab_type": "text",
    "id": "rEV6BEORAFQo"
   },
   "source": [
    "The sum between integers obviously gives us an integer:"
   ]
  },
  {
   "cell_type": "code",
   "execution_count": 5,
   "metadata": {
    "colab": {
     "autoexec": {
      "startup": false,
      "wait_interval": 0
     },
     "output_extras": [
      {}
     ]
    },
    "colab_type": "code",
    "id": "Vk7aiqO5AFQr",
    "outputId": "6408cc81-e7db-4778-c929-c42fdf178b0f"
   },
   "outputs": [
    {
     "data": {
      "text/plain": [
       "int"
      ]
     },
     "execution_count": 5,
     "metadata": {},
     "output_type": "execute_result"
    }
   ],
   "source": [
    "type(8)"
   ]
  },
  {
   "cell_type": "markdown",
   "metadata": {
    "colab_type": "text",
    "id": "Z49LC8g3AFRQ"
   },
   "source": [
    "What if we divide integers? We will find the floating point type `float`:"
   ]
  },
  {
   "cell_type": "code",
   "execution_count": 6,
   "metadata": {
    "colab": {
     "autoexec": {
      "startup": false,
      "wait_interval": 0
     },
     "output_extras": [
      {}
     ]
    },
    "colab_type": "code",
    "id": "fGqrVdg6AFRT",
    "outputId": "ead8a066-1d37-4ccb-8cf5-d7bf6bb7b5ad"
   },
   "outputs": [
    {
     "data": {
      "text/plain": [
       "0.75"
      ]
     },
     "execution_count": 6,
     "metadata": {},
     "output_type": "execute_result"
    }
   ],
   "source": [
    "3 / 4"
   ]
  },
  {
   "cell_type": "code",
   "execution_count": 7,
   "metadata": {
    "colab": {
     "autoexec": {
      "startup": false,
      "wait_interval": 0
     },
     "output_extras": [
      {}
     ]
    },
    "colab_type": "code",
    "id": "AuREnwBmAFRn",
    "outputId": "96b737a9-d30f-4696-9805-8974a1b731d3"
   },
   "outputs": [
    {
     "data": {
      "text/plain": [
       "float"
      ]
     },
     "execution_count": 7,
     "metadata": {},
     "output_type": "execute_result"
    }
   ],
   "source": [
    "type(0.75)"
   ]
  },
  {
   "cell_type": "markdown",
   "metadata": {
    "colab_type": "text",
    "id": "DIcwRoa7AFR4"
   },
   "source": [
    "<div class=\"alert alert-warning\">\n",
    "\n",
    "**BEWARE of the dot !**\n",
    "\n",
    "Might be in your country you are used to express decimals with a comma `,`\n",
    "    \n",
    "In Python and in many data formats, you always have to use the English dot `.` format. <br/>\n",
    "</div>"
   ]
  },
  {
   "cell_type": "markdown",
   "metadata": {},
   "source": [
    "**✪ EXERCISE**: Try writing down here `3.14` with the dot, then `3,14` with a comma and execute with Ctrl+Enter. What happens in the two cases?"
   ]
  },
  {
   "cell_type": "code",
   "execution_count": 8,
   "metadata": {},
   "outputs": [],
   "source": [
    "# write here with the dot\n",
    "\n"
   ]
  },
  {
   "cell_type": "code",
   "execution_count": 9,
   "metadata": {},
   "outputs": [],
   "source": [
    "# write here with the comma\n",
    "\n"
   ]
  },
  {
   "cell_type": "markdown",
   "metadata": {
    "colab_type": "text",
    "id": "ivjG8uzWAFR7"
   },
   "source": [
    "**✪ EXERCISE**: Try writing down here `3 + 1.0` and execute with Ctrl+Enter. What is the result type? Check also using the command `type`."
   ]
  },
  {
   "cell_type": "code",
   "execution_count": 10,
   "metadata": {
    "colab": {
     "autoexec": {
      "startup": false,
      "wait_interval": 0
     }
    },
    "colab_type": "code",
    "id": "IsFJ8O-IAFR8"
   },
   "outputs": [],
   "source": [
    "# write here the commands\n"
   ]
  },
  {
   "cell_type": "markdown",
   "metadata": {
    "colab_type": "text",
    "id": "22kAoaiYAFSD"
   },
   "source": [
    "**✪ EXERCISE**: Some math professor must have surely warned you to never divide by zero. Python doesn't like it neither. Try writing in the cell below `1 / 0` and then hit Ctrl+Enter to execute the cell, note Python will show the row where the error happened:"
   ]
  },
  {
   "cell_type": "code",
   "execution_count": 11,
   "metadata": {
    "colab": {
     "autoexec": {
      "startup": false,
      "wait_interval": 0
     }
    },
    "colab_type": "code",
    "id": "UfI3UixcAFSE"
   },
   "outputs": [],
   "source": [
    "# write here the code\n"
   ]
  },
  {
   "cell_type": "markdown",
   "metadata": {
    "colab_type": "text",
    "id": "WMaObpo6AFSP"
   },
   "source": [
    "\n",
    "## Booleans - bool\n",
    "\n",
    "Booleans represent true and false values, and we can use them to verify when some condition happens.\n",
    "           \n",
    "**References**\n",
    "\n",
    "* [Basics - booleans](https://en.softpython.org/basics/basics2-bools-sol.html)\n",
    "* [Control flow - if](https://en.softpython.org/#if)"
   ]
  },
  {
   "cell_type": "markdown",
   "metadata": {},
   "source": [
    "To denote booleans, Python provides two constants `True` and `False`. What can we do with them?\n",
    "\n",
    "\n",
    "### `and` operator\n",
    "\n",
    "We might use them to save in variables whether or not a certain fact happened, for example to start the day we might make a program which tells us we can exit home only if we  both had breakfast `and` cleaned teeth:"
   ]
  },
  {
   "cell_type": "code",
   "execution_count": 12,
   "metadata": {},
   "outputs": [
    {
     "name": "stdout",
     "output_type": "stream",
     "text": [
      "done everything !\n",
      "can exit home\n"
     ]
    }
   ],
   "source": [
    "breakfast = True\n",
    "cleaned_teeth = True\n",
    "\n",
    "if breakfast and cleaned_teeth:\n",
    "    print(\"done everything !\")\n",
    "    print(\"can exit home\")\n",
    "else:\n",
    "    print(\"CAN'T exit home\")\n"
   ]
  },
  {
   "cell_type": "markdown",
   "metadata": {},
   "source": [
    "**✪ EXERCISE**: try to manually write down here  the program from the previous cell, and execute it with Ctrl+Enter. Try changing the values from `True` to `False` and see what happens.\n",
    "\n",
    "Make sure to try all these cases:\n",
    "\n",
    "- True True\n",
    "- True False\n",
    "- False True\n",
    "- False False\n",
    "\n",
    "<div class=\"alert alert-warning\">\n",
    "\n",
    "**WARNING**: Remember the `:` at the end of the `if` row !!!!\n",
    "\n",
    "</div>"
   ]
  },
  {
   "cell_type": "code",
   "execution_count": 13,
   "metadata": {},
   "outputs": [],
   "source": [
    "# write here\n",
    "\n"
   ]
  },
  {
   "cell_type": "markdown",
   "metadata": {},
   "source": [
    "You can also place an `if` inside another, obtaining a so called _nested if_. For example, this program works exactly as the previous one:"
   ]
  },
  {
   "cell_type": "code",
   "execution_count": 14,
   "metadata": {},
   "outputs": [
    {
     "name": "stdout",
     "output_type": "stream",
     "text": [
      "done everything !\n",
      "can exit home\n"
     ]
    }
   ],
   "source": [
    "breakfast = True\n",
    "cleaned_teeth = True\n",
    "\n",
    "if breakfast:\n",
    "    if cleaned_teeth:                        # NOTE: This if block is indented \n",
    "        print(\"done everything !\")           #       w.r.t the   if breakfast\n",
    "        print(\"can exit home\")            \n",
    "    else:\n",
    "        print(\"CAN'T exit home\")\n",
    "else:\n",
    "    print(\"CAN'T exit home\")"
   ]
  },
  {
   "cell_type": "markdown",
   "metadata": {},
   "source": [
    "**✪ EXERCISE**: Try modifying the previous program to report the state of the various actions that were executed. We list here the possible cases and expected results:\n",
    "\n",
    "- `True` `False`\n",
    "\n",
    "```\n",
    "had breakfast\n",
    "didn't clean teeth\n",
    "CAN'T exit home\n",
    "```\n",
    "\n",
    "- `False` `True`\n",
    "- `False` `False`\n",
    "\n",
    "```\n",
    "didn't have breakfast\n",
    "CAN'T exit home\n",
    "```\n",
    "\n",
    "- `True` `True`\n",
    "```\n",
    "had breakfast\n",
    "cleaned teeth\n",
    "done everything !\n",
    "can exit home !\n",
    "```"
   ]
  },
  {
   "cell_type": "raw",
   "id": "0d11f186",
   "metadata": {
    "format": "text/html"
   },
   "source": [
    "<a  class=\"jupman-sol jupman-sol-toggler\" \n",
    " onclick=\"jupman.toggleSolution(this);\" \n",
    " data-jupman-show=\"Show solution\" data-jupman-hide=\"Hide\">Show solution</a><div class=\"jupman-sol jupman-sol-code\" style=\"display:none\">  "
   ]
  },
  {
   "cell_type": "code",
   "execution_count": 15,
   "metadata": {},
   "outputs": [
    {
     "name": "stdout",
     "output_type": "stream",
     "text": [
      "had breakfast\n",
      "cleaned teeth\n",
      "done everything !\n",
      "can exit home!\n"
     ]
    }
   ],
   "source": [
    "\n",
    "# write here\n",
    "\n",
    "breakfast = True\n",
    "cleaned_teeth = True\n",
    "\n",
    "if breakfast:\n",
    "    print(\"had breakfast\")\n",
    "    \n",
    "    if cleaned_teeth:                        # NOTE: This if block is indented \n",
    "        print(\"cleaned teeth\")               #\n",
    "        print(\"done everything !\")           #       w.r.t the   if breakfast\n",
    "        print(\"can exit home!\")      \n",
    "    else: \n",
    "        print(\"didn't clean teeth\")\n",
    "        print(\"CAN'T exit home\")\n",
    "        \n",
    "else:\n",
    "    print(\"didn't have breakfast\")\n",
    "    print(\"CAN'T exit home\")"
   ]
  },
  {
   "cell_type": "raw",
   "id": "66c6a761",
   "metadata": {
    "format": "text/html"
   },
   "source": [
    "</div>"
   ]
  },
  {
   "cell_type": "code",
   "execution_count": 15,
   "metadata": {},
   "outputs": [],
   "source": [
    "\n",
    "# write here\n",
    "\n"
   ]
  },
  {
   "cell_type": "markdown",
   "metadata": {},
   "source": [
    "### `or` operator\n",
    "\n",
    "To verify if _at least one_ of the two conditions has occurred, we can use the `or` operator. For example, let's say that in order to have breakfast we need some whole or skimmed milk. Of course, we should have breakfast also when we have both!"
   ]
  },
  {
   "cell_type": "code",
   "execution_count": 16,
   "metadata": {},
   "outputs": [
    {
     "name": "stdout",
     "output_type": "stream",
     "text": [
      "can have breakfast !\n"
     ]
    }
   ],
   "source": [
    "have_whole_milk = True\n",
    "have_skimmed_milk = False\n",
    "\n",
    "if have_whole_milk or have_skimmed_milk:\n",
    "    print(\"can have breakfast !\")\n",
    "else: \n",
    "    print(\"CAN'T have breakfast :-(\")"
   ]
  },
  {
   "cell_type": "markdown",
   "metadata": {},
   "source": [
    "**✪ EXERCISE**: try to manually write down here the program from the previous cell, and execute with Ctrl+Enter. Try changing values from `True` and `False` and see what happens:\n",
    "\n",
    "Be sure to try all cases:\n",
    "\n",
    "- `True` `True`\n",
    "- `True` `False`\n",
    "- `False` `True`\n",
    "- `False` `False`"
   ]
  },
  {
   "cell_type": "code",
   "execution_count": 17,
   "metadata": {},
   "outputs": [],
   "source": [
    "# write here\n",
    "\n"
   ]
  },
  {
   "cell_type": "markdown",
   "metadata": {},
   "source": [
    "**✪✪ EXERCISE**: try writing a program which tells you can exit home only if you had breakfast (so you need at least one kind of milk) and cleaned teeth. Make sure to try the program with all the possible combinations."
   ]
  },
  {
   "cell_type": "raw",
   "id": "3694bd17",
   "metadata": {
    "format": "text/html"
   },
   "source": [
    "<a  class=\"jupman-sol jupman-sol-toggler\" \n",
    " onclick=\"jupman.toggleSolution(this);\" \n",
    " data-jupman-show=\"Show solution\" data-jupman-hide=\"Hide\">Show solution</a><div class=\"jupman-sol jupman-sol-code\" style=\"display:none\">  "
   ]
  },
  {
   "cell_type": "code",
   "execution_count": 18,
   "metadata": {},
   "outputs": [
    {
     "name": "stdout",
     "output_type": "stream",
     "text": [
      "can have breakfast !\n",
      "CAN'T exit home\n"
     ]
    }
   ],
   "source": [
    "have_whole_milk = False\n",
    "have_skimmed_milk = True\n",
    "\n",
    "cleaned_teeth = False\n",
    "\n",
    "\n",
    "# write here\n",
    "\n",
    "\n",
    "if have_whole_milk or have_skimmed_milk:\n",
    "    print(\"can have breakfast !\")\n",
    "    had_breakfast = True\n",
    "else: \n",
    "    print(\"CAN'T have breakfast :-(\")\n",
    "    had_breakfast = False\n",
    "\n",
    "if had_breakfast and cleaned_teeth:\n",
    "    print(\"can exit home\")\n",
    "else:\n",
    "    print(\"CAN'T exit home\")\n",
    "\n"
   ]
  },
  {
   "cell_type": "raw",
   "id": "64d1f621",
   "metadata": {
    "format": "text/html"
   },
   "source": [
    "</div>"
   ]
  },
  {
   "cell_type": "code",
   "execution_count": 18,
   "metadata": {},
   "outputs": [
    {
     "name": "stdout",
     "output_type": "stream",
     "text": [
      "can have breakfast !\n",
      "CAN'T exit home\n"
     ]
    }
   ],
   "source": [
    "have_whole_milk = False\n",
    "have_skimmed_milk = True\n",
    "\n",
    "cleaned_teeth = False\n",
    "\n",
    "\n",
    "# write here\n",
    "\n"
   ]
  },
  {
   "cell_type": "markdown",
   "metadata": {},
   "source": [
    "### `not` operator\n",
    "\n",
    "For negations, you can use the `not` operator:"
   ]
  },
  {
   "cell_type": "code",
   "execution_count": 19,
   "metadata": {},
   "outputs": [
    {
     "data": {
      "text/plain": [
       "False"
      ]
     },
     "execution_count": 19,
     "metadata": {},
     "output_type": "execute_result"
    }
   ],
   "source": [
    "not True"
   ]
  },
  {
   "cell_type": "code",
   "execution_count": 20,
   "metadata": {},
   "outputs": [
    {
     "data": {
      "text/plain": [
       "True"
      ]
     },
     "execution_count": 20,
     "metadata": {},
     "output_type": "execute_result"
    }
   ],
   "source": [
    "not False"
   ]
  },
  {
   "cell_type": "code",
   "execution_count": 21,
   "metadata": {},
   "outputs": [
    {
     "name": "stdout",
     "output_type": "stream",
     "text": [
      "I'm hungry !\n"
     ]
    }
   ],
   "source": [
    "had_breakfast = False\n",
    "\n",
    "if not had_breakfast:\n",
    "    print(\"I'm hungry !\")\n",
    "else:\n",
    "    print(\"the cereals were so good\")"
   ]
  },
  {
   "cell_type": "code",
   "execution_count": 22,
   "metadata": {},
   "outputs": [
    {
     "name": "stdout",
     "output_type": "stream",
     "text": [
      "the cereals were so good\n"
     ]
    }
   ],
   "source": [
    "had_breakfast = True\n",
    "\n",
    "if not had_breakfast:\n",
    "    print(\"I' hungry !\")\n",
    "else:\n",
    "    print(\"the cereals were so good\")"
   ]
  },
  {
   "cell_type": "markdown",
   "metadata": {},
   "source": [
    "**✪✪ EXERCISE**: try writing a program which tells you can swim if you DIDN'T have breakfast AND you have a life jacket\n",
    "\n",
    "Be sure to try all cases:\n",
    "\n",
    "- `True` `True`\n",
    "- `True` `False`\n",
    "- `False` `True`\n",
    "- `False` `False`"
   ]
  },
  {
   "cell_type": "raw",
   "id": "ea9212e7",
   "metadata": {
    "format": "text/html"
   },
   "source": [
    "<a  class=\"jupman-sol jupman-sol-toggler\" \n",
    " onclick=\"jupman.toggleSolution(this);\" \n",
    " data-jupman-show=\"Show solution\" data-jupman-hide=\"Hide\">Show solution</a><div class=\"jupman-sol jupman-sol-code\" style=\"display:none\">  "
   ]
  },
  {
   "cell_type": "code",
   "execution_count": 23,
   "metadata": {},
   "outputs": [
    {
     "name": "stdout",
     "output_type": "stream",
     "text": [
      "you CAN'T swim\n"
     ]
    }
   ],
   "source": [
    "\n",
    "have_life_jacket = True\n",
    "had_breakfast = True\n",
    "\n",
    "# write here\n",
    "\n",
    "if have_life_jacket and not had_breakfast:\n",
    "    print(\"you can swim\")\n",
    "else:\n",
    "    print(\"you CAN'T swim\")"
   ]
  },
  {
   "cell_type": "raw",
   "id": "bfc8b9ac",
   "metadata": {
    "format": "text/html"
   },
   "source": [
    "</div>"
   ]
  },
  {
   "cell_type": "code",
   "execution_count": 23,
   "metadata": {},
   "outputs": [
    {
     "name": "stdout",
     "output_type": "stream",
     "text": [
      "you CAN'T swim\n"
     ]
    }
   ],
   "source": [
    "\n",
    "have_life_jacket = True\n",
    "had_breakfast = True\n",
    "\n",
    "# write here\n",
    "\n"
   ]
  },
  {
   "cell_type": "markdown",
   "metadata": {},
   "source": [
    "### Beyond `True` and `False`"
   ]
  },
  {
   "cell_type": "markdown",
   "metadata": {
    "colab_type": "text",
    "id": "Wtyg2lXuAFSU"
   },
   "source": [
    "<div class=\"alert alert-warning\">\n",
    "\n",
    "**BEWARE of booleans different from** `True` **and**  `False` **!**\n",
    "\n",
    "In Python, the number `0` and other 'null'     objects (like the object `None`, the empty string `\"\"` and the empty list `[]`) are considered `False`, and everything which is not 'null' is considered `True`!\n",
    "    \n",
    "</div>"
   ]
  },
  {
   "cell_type": "markdown",
   "metadata": {
    "colab_type": "text",
    "id": "BT44SZeQAFSX"
   },
   "source": [
    "Let's make an example with regular booleans:"
   ]
  },
  {
   "cell_type": "code",
   "execution_count": 24,
   "metadata": {
    "colab": {
     "autoexec": {
      "startup": false,
      "wait_interval": 0
     }
    },
    "colab_type": "code",
    "id": "VVd4Ikp3AFSY"
   },
   "outputs": [
    {
     "name": "stdout",
     "output_type": "stream",
     "text": [
      "this\n",
      "will\n",
      "be printed\n"
     ]
    }
   ],
   "source": [
    "if True:\n",
    "    print(\"this\")    \n",
    "    print(\"will\")\n",
    "    print(\"be printed\")\n",
    "else:\n",
    "    print(\"this other one\")\n",
    "    print(\"won't be printed\")"
   ]
  },
  {
   "cell_type": "markdown",
   "metadata": {
    "colab_type": "text",
    "id": "AlntXiK3AFSc"
   },
   "source": [
    "Everything which is not `null` is considered `True`, so let's try using the string `\"hello\"` instead of `True`:"
   ]
  },
  {
   "cell_type": "code",
   "execution_count": 25,
   "metadata": {
    "colab": {
     "autoexec": {
      "startup": false,
      "wait_interval": 0
     }
    },
    "colab_type": "code",
    "id": "6GWu1jIUAFSd"
   },
   "outputs": [
    {
     "name": "stdout",
     "output_type": "stream",
     "text": [
      "this also\n",
      "will be printed!!\n"
     ]
    }
   ],
   "source": [
    "if \"hello\":\n",
    "    print(\"this also\")\n",
    "    print(\"will be printed!!\")\n",
    "else:\n",
    "    print(\"this won't\")"
   ]
  },
  {
   "cell_type": "code",
   "execution_count": 26,
   "metadata": {
    "colab": {
     "autoexec": {
      "startup": false,
      "wait_interval": 0
     }
    },
    "colab_type": "code",
    "id": "HsEUjY8sAFSs"
   },
   "outputs": [
    {
     "name": "stdout",
     "output_type": "stream",
     "text": [
      "I will\n"
     ]
    }
   ],
   "source": [
    "if False:\n",
    "    print(\"I won't be printed\")\n",
    "else:\n",
    "    print(\"I will\")"
   ]
  },
  {
   "cell_type": "code",
   "execution_count": 27,
   "metadata": {
    "colab": {
     "autoexec": {
      "startup": false,
      "wait_interval": 0
     }
    },
    "colab_type": "code",
    "id": "DG7nyxf5AFS8"
   },
   "outputs": [
    {
     "name": "stdout",
     "output_type": "stream",
     "text": [
      "I will\n"
     ]
    }
   ],
   "source": [
    "if 0:\n",
    "    print(\"this also won't be printed\")\n",
    "else:\n",
    "    print(\"I will\")"
   ]
  },
  {
   "cell_type": "code",
   "execution_count": 28,
   "metadata": {
    "colab": {
     "autoexec": {
      "startup": false,
      "wait_interval": 0
     }
    },
    "colab_type": "code",
    "id": "bRhHcpEjAFTE"
   },
   "outputs": [
    {
     "name": "stdout",
     "output_type": "stream",
     "text": [
      "I will\n"
     ]
    }
   ],
   "source": [
    "if None:\n",
    "    print(\"this won't be printed neither\")\n",
    "else:\n",
    "    print(\"I will\")"
   ]
  },
  {
   "cell_type": "code",
   "execution_count": 29,
   "metadata": {
    "colab": {
     "autoexec": {
      "startup": false,
      "wait_interval": 0
     },
     "output_extras": [
      {}
     ]
    },
    "colab_type": "code",
    "id": "5mo5mXdbAFTN",
    "outputId": "1991e1dd-4cdc-41f3-cbfc-53cafff54fe0"
   },
   "outputs": [
    {
     "name": "stdout",
     "output_type": "stream",
     "text": [
      "I will\n"
     ]
    }
   ],
   "source": [
    "if \"\":  # empty string\n",
    "    print(\"Not even this one will be printed!!!\")\n",
    "else:\n",
    "    print(\"I will\")"
   ]
  },
  {
   "cell_type": "markdown",
   "metadata": {
    "colab_type": "text",
    "id": "FgE9xpe6AFTZ"
   },
   "source": [
    "**✪ EXERCISE**:  Copy down here the `if` with a space `\" \"` inside the `if` condition. What will happen?\n",
    "\n",
    "- try also to place an empty list `[]`, what happens?"
   ]
  },
  {
   "cell_type": "raw",
   "id": "75992918",
   "metadata": {
    "format": "text/html"
   },
   "source": [
    "<a  class=\"jupman-sol jupman-sol-toggler\" \n",
    " onclick=\"jupman.toggleSolution(this);\" \n",
    " data-jupman-show=\"Show solution\" data-jupman-hide=\"Hide\">Show solution</a><div class=\"jupman-sol jupman-sol-code\" style=\"display:none\">  "
   ]
  },
  {
   "cell_type": "code",
   "execution_count": 2,
   "metadata": {
    "colab": {
     "autoexec": {
      "startup": false,
      "wait_interval": 0
     }
    },
    "colab_type": "code",
    "id": "81YonZhpAFTa"
   },
   "outputs": [
    {
     "name": "stdout",
     "output_type": "stream",
     "text": [
      "No print!\n",
      "I will be printed\n"
     ]
    }
   ],
   "source": [
    "\n",
    "# write here the if \n",
    "\n",
    "\n",
    "if \" \": # space\n",
    "    print(\"No print!\")\n",
    "else:\n",
    "    print(\"I will be printed\")\n",
    "\n",
    "\n",
    "if []: # empty list\n",
    "    print(\"No print\")\n",
    "else:\n",
    "    print(\"I will be printed\")"
   ]
  },
  {
   "cell_type": "raw",
   "id": "a14d2aa0",
   "metadata": {
    "format": "text/html"
   },
   "source": [
    "</div>"
   ]
  },
  {
   "cell_type": "code",
   "execution_count": 2,
   "metadata": {
    "colab": {
     "autoexec": {
      "startup": false,
      "wait_interval": 0
     }
    },
    "colab_type": "code",
    "id": "81YonZhpAFTa"
   },
   "outputs": [],
   "source": [
    "\n",
    "# write here the if \n",
    "\n"
   ]
  },
  {
   "cell_type": "markdown",
   "metadata": {
    "colab_type": "text",
    "id": "AUCCneEoAFTw"
   },
   "source": [
    "## Strings - string\n",
    "\n",
    "Strings are _immutable_ sequences of characters.\n",
    "\n",
    "**References**: \n",
    "\n",
    "- [strings 1 - introduction](https://en.softpython.org/strings/strings1-sol.html)\n",
    "- [strings 2 - operators](https://en.softpython.org/strings/strings2-sol.html)\n",
    "- [strings 3 - basic methods](https://en.softpython.org/strings/strings3-sol.html) \n",
    "- [strings 4 - search methods](https://en.softpython.org/strings/strings4-sol.html) \n",
    "\n",
    "**Concatenating strings**\n",
    "\n",
    "One of the most frequent things you do is concatenating strings:"
   ]
  },
  {
   "cell_type": "code",
   "execution_count": 31,
   "metadata": {
    "colab": {
     "autoexec": {
      "startup": false,
      "wait_interval": 0
     }
    },
    "colab_type": "code",
    "id": "HUNg73x-AFTx"
   },
   "outputs": [
    {
     "data": {
      "text/plain": [
       "'hello world'"
      ]
     },
     "execution_count": 31,
     "metadata": {},
     "output_type": "execute_result"
    }
   ],
   "source": [
    "\"hello \" + \"world\""
   ]
  },
  {
   "cell_type": "markdown",
   "metadata": {
    "colab_type": "text",
    "id": "5Dm0z8SOAFT0"
   },
   "source": [
    "Note that when we concatenate a string and a number, Python gets angry:"
   ]
  },
  {
   "cell_type": "markdown",
   "metadata": {
    "colab_type": "text",
    "id": "vEDchuM9AFT2"
   },
   "source": [
    "```python\n",
    "\"hello \" + 5\n",
    "```"
   ]
  },
  {
   "cell_type": "markdown",
   "metadata": {
    "colab_type": "text",
    "id": "jKoofPiyAFT3"
   },
   "source": [
    "```bash\n",
    "---------------------------------------------------------------------------\n",
    "TypeError                                 Traceback (most recent call last)\n",
    "<ipython-input-38-e219e8205f7d> in <module>()\n",
    "----> 1 \"hello \" + 5\n",
    "\n",
    "TypeError: Can't convert 'int' object to str implicitly\n",
    "```"
   ]
  },
  {
   "cell_type": "markdown",
   "metadata": {
    "colab_type": "text",
    "id": "_dPea14WAFT6"
   },
   "source": [
    "This happens because PYthon wants us to explicitly convert the number `5` into a string. It will also similarly complain about other data types. So, whenever you concatenate objects which are not strings, to avoid problems you can enclose  the object to convert within an `str` function call like here:"
   ]
  },
  {
   "cell_type": "code",
   "execution_count": 32,
   "metadata": {
    "colab": {
     "autoexec": {
      "startup": false,
      "wait_interval": 0
     }
    },
    "colab_type": "code",
    "id": "-xndn9-FAFT7"
   },
   "outputs": [
    {
     "data": {
      "text/plain": [
       "'hello 7'"
      ]
     },
     "execution_count": 32,
     "metadata": {},
     "output_type": "execute_result"
    }
   ],
   "source": [
    "\"hello \" + str(7)"
   ]
  },
  {
   "cell_type": "markdown",
   "metadata": {
    "colab_type": "text",
    "id": "SdgLz37QAFUC"
   },
   "source": [
    "An alternative and faster way  is by using the formatting percentage operator `%`, which substitutes the occurrences of the placeholder `%s` with whatever you place after the string:"
   ]
  },
  {
   "cell_type": "code",
   "execution_count": 33,
   "metadata": {
    "colab": {
     "autoexec": {
      "startup": false,
      "wait_interval": 0
     }
    },
    "colab_type": "code",
    "id": "tkupKFSeAFUD"
   },
   "outputs": [
    {
     "data": {
      "text/plain": [
       "'hello 7'"
      ]
     },
     "execution_count": 33,
     "metadata": {},
     "output_type": "execute_result"
    }
   ],
   "source": [
    "\"hello %s\" % 7"
   ]
  },
  {
   "cell_type": "markdown",
   "metadata": {
    "colab_type": "text",
    "id": "ZMIOdHJbAFUK"
   },
   "source": [
    "Even better, the `%s` can stay withing the string and be repeated. For each occurrence you can pass a different object to substitute, like for example in the tuple `(\"nice\", \"Python\")` (a tuple is simply an immutable sequence of elements separated by commas within round parenthesis)."
   ]
  },
  {
   "cell_type": "code",
   "execution_count": 34,
   "metadata": {
    "colab": {
     "autoexec": {
      "startup": false,
      "wait_interval": 0
     },
     "output_extras": [
      {}
     ]
    },
    "colab_type": "code",
    "id": "01RTe3XzAFUM",
    "outputId": "c0c70ece-bcd8-482d-8478-1f77d0c056b3"
   },
   "outputs": [
    {
     "data": {
      "text/plain": [
       "\"It's so nice I'm finally learning Python\""
      ]
     },
     "execution_count": 34,
     "metadata": {},
     "output_type": "execute_result"
    }
   ],
   "source": [
    "\"It's so %s I'm finally learning %s\" % (\"nice\", \"Python\")"
   ]
  },
  {
   "cell_type": "markdown",
   "metadata": {
    "colab_type": "text",
    "id": "3ah1CeDPAFUV"
   },
   "source": [
    "**✪ EXERCISE**: the placeholder `%s` works with strings as well as any other data type, for example intergers. Write below here the command above, placing a `%s` at the end of the string, and adding at the tuple's end the number `3` (separated by a comma).\n",
    "\n",
    "Question: Can you place many `%s` one after another without spaces? Try."
   ]
  },
  {
   "cell_type": "code",
   "execution_count": 35,
   "metadata": {
    "colab": {
     "autoexec": {
      "startup": false,
      "wait_interval": 0
     }
    },
    "colab_type": "code",
    "id": "K1pTbCATAFUW"
   },
   "outputs": [],
   "source": [
    "# write here\n",
    "\n"
   ]
  },
  {
   "cell_type": "markdown",
   "metadata": {
    "colab_type": "text",
    "id": "F5GKXLjqAFYH"
   },
   "source": [
    "### Using object methods\n",
    "\n",
    "Almost everything in Python is an object, here we make a rapid introduction to just give an idea.\n",
    "\n",
    "**References**\n",
    "\n",
    "- [Think in Python, Chapter 15, Classes and objects](https://greenteapress.com/thinkpython2/html/thinkpython2016.html)\n",
    "- [Think in Python, Chapter 16, Classes and functions](https://greenteapress.com/thinkpython2/html/thinkpython2017.html)\n",
    "- [Think in Python, Chapter 17, Classes and methods](https://greenteapress.com/thinkpython2/html/thinkpython2018.html)\n",
    "\n",
    "Almost everything in Python is an object. For example, the strings are objects. Every object type has actions called _methods_ we can execute on that object. For example, we might want strings which represent names to have the first letter as capitalized: we can try finding a string method that already performs this action. Let's try the existing method `\"capitalize()\"` on the _string_ `\"trento\"` (note the string is all lowercase.):"
   ]
  },
  {
   "cell_type": "code",
   "execution_count": 36,
   "metadata": {
    "colab": {
     "autoexec": {
      "startup": false,
      "wait_interval": 0
     },
     "output_extras": [
      {}
     ]
    },
    "colab_type": "code",
    "id": "L59SZPKMAFYI",
    "outputId": "21f7d2b9-43d6-41a0-c02c-5c1a961f778f"
   },
   "outputs": [
    {
     "data": {
      "text/plain": [
       "'Trento'"
      ]
     },
     "execution_count": 36,
     "metadata": {},
     "output_type": "execute_result"
    }
   ],
   "source": [
    "\"trento\".capitalize()"
   ]
  },
  {
   "cell_type": "markdown",
   "metadata": {
    "colab_type": "text",
    "id": "1eyxqR-PAFYU"
   },
   "source": [
    "Python just did the courtesy of upcasing the first letter."
   ]
  },
  {
   "cell_type": "markdown",
   "metadata": {
    "colab_type": "text",
    "id": "YSb82zlxAFYW"
   },
   "source": [
    "**✪ EXERCISE**: Write in the cell below `\"trento\".` and press TAB: Jupyter should show the available methods for the string. Try the methods `upper()` and `count(\"t\")` "
   ]
  },
  {
   "cell_type": "code",
   "execution_count": 37,
   "metadata": {
    "colab": {
     "autoexec": {
      "startup": false,
      "wait_interval": 0
     }
    },
    "colab_type": "code",
    "id": "r5_aFtbdAFYY"
   },
   "outputs": [],
   "source": [
    "# write here\n",
    "\n"
   ]
  },
  {
   "cell_type": "markdown",
   "metadata": {
    "colab_type": "text",
    "id": "-YkY_K8AAFUc"
   },
   "source": [
    "## Liste - list\n",
    "\n",
    "A list in Python is a sequence of elements of possibly different types, into which we can place any element we want.\n",
    "\n",
    "\n",
    "**References:**  \n",
    "\n",
    "- [Lists 1 - introduction](https://en.softpython.org/lists/lists1-sol.html)\n",
    "- [Lists 2 - operators](https://en.softpython.org/lists/lists2-sol.html)\n",
    "- [Lists 3 - basic methods](https://en.softpython.org/lists/lists3-sol.html)\n",
    "- [Lists 4 - search methods](https://en.softpython.org/lists/lists4-sol.html)\n",
    "\n",
    "Let's create a list of strings:"
   ]
  },
  {
   "cell_type": "code",
   "execution_count": 38,
   "metadata": {
    "colab": {
     "autoexec": {
      "startup": false,
      "wait_interval": 0
     }
    },
    "colab_type": "code",
    "id": "Ozn-Qt0yAFUc"
   },
   "outputs": [],
   "source": [
    "x = [\"hello\", \"soft\", \"python\"]"
   ]
  },
  {
   "cell_type": "code",
   "execution_count": 39,
   "metadata": {
    "colab": {
     "autoexec": {
      "startup": false,
      "wait_interval": 0
     },
     "output_extras": [
      {}
     ]
    },
    "colab_type": "code",
    "id": "04EWaDNyAFUf",
    "outputId": "f478db2d-544a-47bc-e578-b0d5f1b9a3f1"
   },
   "outputs": [
    {
     "data": {
      "text/plain": [
       "['hello', 'soft', 'python']"
      ]
     },
     "execution_count": 39,
     "metadata": {},
     "output_type": "execute_result"
    }
   ],
   "source": [
    "x"
   ]
  },
  {
   "cell_type": "markdown",
   "metadata": {
    "colab_type": "text",
    "id": "U6OlmaHaAFUn"
   },
   "source": [
    "Lists are sequences of possibly heterogenous elements, so inside you can place anything, integers, strings, dictionaries ...:"
   ]
  },
  {
   "cell_type": "code",
   "execution_count": 40,
   "metadata": {
    "colab": {
     "autoexec": {
      "startup": false,
      "wait_interval": 0
     }
    },
    "colab_type": "code",
    "id": "YRnNkTnbAFUn"
   },
   "outputs": [],
   "source": [
    "x = [\"hello\", 123, {\"a\":\"b\"}]"
   ]
  },
  {
   "cell_type": "code",
   "execution_count": 41,
   "metadata": {
    "colab": {
     "autoexec": {
      "startup": false,
      "wait_interval": 0
     },
     "output_extras": [
      {}
     ]
    },
    "colab_type": "code",
    "id": "YBHGVy51AFUq",
    "outputId": "9ba3a0b6-36ca-4642-ac87-41d9f97c066f"
   },
   "outputs": [
    {
     "data": {
      "text/plain": [
       "['hello', 123, {'a': 'b'}]"
      ]
     },
     "execution_count": 41,
     "metadata": {},
     "output_type": "execute_result"
    }
   ],
   "source": [
    "x"
   ]
  },
  {
   "cell_type": "markdown",
   "metadata": {
    "colab": {
     "autoexec": {
      "startup": false,
      "wait_interval": 0
     }
    },
    "colab_type": "code",
    "id": "perY24wzAFUx"
   },
   "source": [
    "To access a particular element in a list, you can use an index among square brackets to denote the position:"
   ]
  },
  {
   "cell_type": "code",
   "execution_count": 42,
   "metadata": {
    "colab": {
     "autoexec": {
      "startup": false,
      "wait_interval": 0
     },
     "output_extras": [
      {}
     ]
    },
    "colab_type": "code",
    "id": "vWOiXQlNAFU0",
    "outputId": "ca5fe8cc-0788-4591-d13e-febc5fee6f7c"
   },
   "outputs": [
    {
     "data": {
      "text/plain": [
       "'hello'"
      ]
     },
     "execution_count": 42,
     "metadata": {},
     "output_type": "execute_result"
    }
   ],
   "source": [
    "# first element\n",
    "\n",
    "x[0]  "
   ]
  },
  {
   "cell_type": "code",
   "execution_count": 43,
   "metadata": {
    "colab": {
     "autoexec": {
      "startup": false,
      "wait_interval": 0
     },
     "output_extras": [
      {}
     ]
    },
    "colab_type": "code",
    "id": "09ciP4W0AFU8",
    "outputId": "d7d2eacb-7afd-4e6f-da32-cfd5a12f65b4"
   },
   "outputs": [
    {
     "data": {
      "text/plain": [
       "123"
      ]
     },
     "execution_count": 43,
     "metadata": {},
     "output_type": "execute_result"
    }
   ],
   "source": [
    "# second element\n",
    "\n",
    "x[1]"
   ]
  },
  {
   "cell_type": "code",
   "execution_count": 44,
   "metadata": {
    "colab": {
     "autoexec": {
      "startup": false,
      "wait_interval": 0
     },
     "output_extras": [
      {}
     ]
    },
    "colab_type": "code",
    "id": "pHFc8586AFVD",
    "outputId": "400f7957-c1ca-4c5d-c762-809daf0fbe82"
   },
   "outputs": [
    {
     "data": {
      "text/plain": [
       "{'a': 'b'}"
      ]
     },
     "execution_count": 44,
     "metadata": {},
     "output_type": "execute_result"
    }
   ],
   "source": [
    "# third element\n",
    "\n",
    "x[2]"
   ]
  },
  {
   "cell_type": "markdown",
   "metadata": {
    "colab_type": "text",
    "id": "A6rRmAJ-AFVL"
   },
   "source": [
    "In a list we can change the elements by assignment:"
   ]
  },
  {
   "cell_type": "code",
   "execution_count": 45,
   "metadata": {
    "colab": {
     "autoexec": {
      "startup": false,
      "wait_interval": 0
     }
    },
    "colab_type": "code",
    "id": "V2LYVi8CAFVL"
   },
   "outputs": [],
   "source": [
    "# We change the *second* element:\n",
    "\n",
    "x[1] = \"soft\""
   ]
  },
  {
   "cell_type": "code",
   "execution_count": 46,
   "metadata": {
    "colab": {
     "autoexec": {
      "startup": false,
      "wait_interval": 0
     },
     "output_extras": [
      {}
     ]
    },
    "colab_type": "code",
    "id": "8vf5xnm8AFVT",
    "outputId": "958c853d-3288-4d74-df26-e0998d98c79f"
   },
   "outputs": [
    {
     "data": {
      "text/plain": [
       "['hello', 'soft', {'a': 'b'}]"
      ]
     },
     "execution_count": 46,
     "metadata": {},
     "output_type": "execute_result"
    }
   ],
   "source": [
    "x"
   ]
  },
  {
   "cell_type": "code",
   "execution_count": 47,
   "metadata": {
    "colab": {
     "autoexec": {
      "startup": false,
      "wait_interval": 0
     }
    },
    "colab_type": "code",
    "id": "QZ0Rg6QdAFVZ"
   },
   "outputs": [],
   "source": [
    "x[2] = \"python\""
   ]
  },
  {
   "cell_type": "code",
   "execution_count": 48,
   "metadata": {
    "colab": {
     "autoexec": {
      "startup": false,
      "wait_interval": 0
     },
     "output_extras": [
      {}
     ]
    },
    "colab_type": "code",
    "id": "0fh1vyFmAFVc",
    "outputId": "b754b8e7-9521-4e34-bf8d-82c58d44209c"
   },
   "outputs": [
    {
     "data": {
      "text/plain": [
       "['hello', 'soft', 'python']"
      ]
     },
     "execution_count": 48,
     "metadata": {},
     "output_type": "execute_result"
    }
   ],
   "source": [
    "x"
   ]
  },
  {
   "cell_type": "markdown",
   "metadata": {
    "colab_type": "text",
    "id": "qghMxSoDAFVf"
   },
   "source": [
    "To obtain the list length, we can use `len`:"
   ]
  },
  {
   "cell_type": "code",
   "execution_count": 49,
   "metadata": {
    "colab": {
     "autoexec": {
      "startup": false,
      "wait_interval": 0
     },
     "output_extras": [
      {}
     ]
    },
    "colab_type": "code",
    "id": "B5qka4xoAFVh",
    "outputId": "4b5f0e3c-2749-48ab-ad29-38ad7f8ad638"
   },
   "outputs": [
    {
     "data": {
      "text/plain": [
       "3"
      ]
     },
     "execution_count": 49,
     "metadata": {},
     "output_type": "execute_result"
    }
   ],
   "source": [
    "x = [\"hello\", \"soft\", \"python\"]\n",
    "\n",
    "len(x)"
   ]
  },
  {
   "cell_type": "markdown",
   "metadata": {
    "colab_type": "text",
    "id": "1oK8VQhqAFVl"
   },
   "source": [
    "**✪ EXERCISE**: try accessing an element outside the list, and see what happens.\n",
    "\n",
    "- is `x[3]` inside or outside the list?\n",
    "- Is there some list `x` by which we can write `x[len(x)]` without problems?\n",
    "- if you use negative indexes, what happens? Try -1, -2, -3, -4 ..."
   ]
  },
  {
   "cell_type": "code",
   "execution_count": 50,
   "metadata": {
    "colab": {
     "autoexec": {
      "startup": false,
      "wait_interval": 0
     }
    },
    "colab_type": "code",
    "id": "SP2tU81tAFVm"
   },
   "outputs": [],
   "source": [
    "# write here\n",
    "\n"
   ]
  },
  {
   "cell_type": "markdown",
   "metadata": {
    "colab_type": "text",
    "id": "ZSY_jqK_AFVv"
   },
   "source": [
    "We can add elements to the end of the list by using the method `append`:"
   ]
  },
  {
   "cell_type": "code",
   "execution_count": 51,
   "metadata": {
    "colab": {
     "autoexec": {
      "startup": false,
      "wait_interval": 0
     }
    },
    "colab_type": "code",
    "id": "QxpNlcbHAFVv"
   },
   "outputs": [],
   "source": [
    "x = []"
   ]
  },
  {
   "cell_type": "code",
   "execution_count": 52,
   "metadata": {
    "colab": {
     "autoexec": {
      "startup": false,
      "wait_interval": 0
     },
     "output_extras": [
      {}
     ]
    },
    "colab_type": "code",
    "id": "dXKCs033AFVz",
    "outputId": "0c1d2151-929e-47ff-efe9-30fa1d805cff"
   },
   "outputs": [
    {
     "data": {
      "text/plain": [
       "[]"
      ]
     },
     "execution_count": 52,
     "metadata": {},
     "output_type": "execute_result"
    }
   ],
   "source": [
    "x"
   ]
  },
  {
   "cell_type": "code",
   "execution_count": 53,
   "metadata": {
    "colab": {
     "autoexec": {
      "startup": false,
      "wait_interval": 0
     }
    },
    "colab_type": "code",
    "id": "w6B-rfZpAFV2"
   },
   "outputs": [],
   "source": [
    "x.append(\"hello\")"
   ]
  },
  {
   "cell_type": "code",
   "execution_count": 54,
   "metadata": {
    "colab": {
     "autoexec": {
      "startup": false,
      "wait_interval": 0
     },
     "output_extras": [
      {}
     ]
    },
    "colab_type": "code",
    "id": "M8roNVZPAFV5",
    "outputId": "b61ddfa5-115b-43cc-df02-450435f69d10"
   },
   "outputs": [
    {
     "data": {
      "text/plain": [
       "['hello']"
      ]
     },
     "execution_count": 54,
     "metadata": {},
     "output_type": "execute_result"
    }
   ],
   "source": [
    "x"
   ]
  },
  {
   "cell_type": "code",
   "execution_count": 55,
   "metadata": {
    "colab": {
     "autoexec": {
      "startup": false,
      "wait_interval": 0
     }
    },
    "colab_type": "code",
    "id": "4zXn5AnYAFV9"
   },
   "outputs": [],
   "source": [
    "x.append(\"soft\")"
   ]
  },
  {
   "cell_type": "code",
   "execution_count": 56,
   "metadata": {
    "colab": {
     "autoexec": {
      "startup": false,
      "wait_interval": 0
     },
     "output_extras": [
      {}
     ]
    },
    "colab_type": "code",
    "id": "1YuQeTO8AFWF",
    "outputId": "6e819883-ced0-4382-a24e-c6984a0fe3e7"
   },
   "outputs": [
    {
     "data": {
      "text/plain": [
       "['hello', 'soft']"
      ]
     },
     "execution_count": 56,
     "metadata": {},
     "output_type": "execute_result"
    }
   ],
   "source": [
    "x"
   ]
  },
  {
   "cell_type": "code",
   "execution_count": 57,
   "metadata": {
    "colab": {
     "autoexec": {
      "startup": false,
      "wait_interval": 0
     }
    },
    "colab_type": "code",
    "id": "efAjHzyfAFWK"
   },
   "outputs": [],
   "source": [
    "x.append(\"python\")"
   ]
  },
  {
   "cell_type": "code",
   "execution_count": 58,
   "metadata": {
    "colab": {
     "autoexec": {
      "startup": false,
      "wait_interval": 0
     },
     "output_extras": [
      {}
     ]
    },
    "colab_type": "code",
    "id": "vSSZvL52AFWO",
    "outputId": "54946ba0-ef21-4f9b-ac8f-afddc65bb84f"
   },
   "outputs": [
    {
     "data": {
      "text/plain": [
       "['hello', 'soft', 'python']"
      ]
     },
     "execution_count": 58,
     "metadata": {},
     "output_type": "execute_result"
    }
   ],
   "source": [
    "x"
   ]
  },
  {
   "cell_type": "markdown",
   "metadata": {
    "colab_type": "text",
    "id": "TrimbgQ8i6zE"
   },
   "source": [
    "### Ordering lists\n",
    "\n",
    "We can comfortably sort lists with the method `.sort`, which works on all the sortable objects. For example, we can order numbers:\n",
    "\n",
    "**IMPORTANT**:  `.sort()` modifies the list on which it is called, it _doesn't_ generate a new one!"
   ]
  },
  {
   "cell_type": "code",
   "execution_count": 59,
   "metadata": {
    "colab": {
     "autoexec": {
      "startup": false,
      "wait_interval": 0
     }
    },
    "colab_type": "code",
    "id": "xNFr7Up3jt9l"
   },
   "outputs": [],
   "source": [
    "x = [ 8, 2, 4]\n",
    "\n",
    "x.sort()"
   ]
  },
  {
   "cell_type": "code",
   "execution_count": 60,
   "metadata": {
    "colab": {
     "autoexec": {
      "startup": false,
      "wait_interval": 0
     }
    },
    "colab_type": "code",
    "id": "bxLaBfwaj3bM"
   },
   "outputs": [
    {
     "data": {
      "text/plain": [
       "[2, 4, 8]"
      ]
     },
     "execution_count": 60,
     "metadata": {},
     "output_type": "execute_result"
    }
   ],
   "source": [
    "x"
   ]
  },
  {
   "cell_type": "markdown",
   "metadata": {
    "colab_type": "text",
    "id": "IQWomkTPj5P4"
   },
   "source": [
    "As another example, we can order strings:"
   ]
  },
  {
   "cell_type": "code",
   "execution_count": 61,
   "metadata": {
    "colab": {
     "autoexec": {
      "startup": false,
      "wait_interval": 0
     },
     "base_uri": "https://localhost:8080/",
     "height": 34,
     "output_extras": [
      {
       "item_id": 1
      }
     ]
    },
    "colab_type": "code",
    "executionInfo": {
     "elapsed": 484,
     "status": "ok",
     "timestamp": 1519035909727,
     "user": {
      "displayName": "David Leoni",
      "photoUrl": "https://lh3.googleusercontent.com/a/default-user=s128",
      "userId": "102920557909426557439"
     },
     "user_tz": -60
    },
    "id": "Z2kdDpxNjcMg",
    "outputId": "fbf06717-b6d4-4e00-a440-36628440c398"
   },
   "outputs": [
    {
     "data": {
      "text/plain": [
       "['hello', 'python', 'world']"
      ]
     },
     "execution_count": 61,
     "metadata": {},
     "output_type": "execute_result"
    }
   ],
   "source": [
    "x = ['python', 'world', 'hello']\n",
    "\n",
    "x.sort()\n",
    "x"
   ]
  },
  {
   "cell_type": "markdown",
   "metadata": {
    "colab_type": "text",
    "id": "tyK4Pgo7lcay"
   },
   "source": [
    "If we don't want to modify the original list and we want to generate a new one instead, we can use the function `sorted()`. **NOTE**: `sorted` is a _function_, not a _method_:"
   ]
  },
  {
   "cell_type": "code",
   "execution_count": 62,
   "metadata": {
    "colab": {
     "autoexec": {
      "startup": false,
      "wait_interval": 0
     },
     "base_uri": "https://localhost:8080/",
     "height": 34,
     "output_extras": [
      {
       "item_id": 1
      }
     ]
    },
    "colab_type": "code",
    "executionInfo": {
     "elapsed": 826,
     "status": "ok",
     "timestamp": 1519035925999,
     "user": {
      "displayName": "David Leoni",
      "photoUrl": "https://lh3.googleusercontent.com/a/default-user=s128",
      "userId": "102920557909426557439"
     },
     "user_tz": -60
    },
    "id": "7x9keLzIlbeY",
    "outputId": "975525d4-ba5f-4075-96bc-9de778fac761"
   },
   "outputs": [
    {
     "data": {
      "text/plain": [
       "['hello', 'python', 'world']"
      ]
     },
     "execution_count": 62,
     "metadata": {},
     "output_type": "execute_result"
    }
   ],
   "source": [
    "x = ['python', 'world', 'hello']\n",
    "\n",
    "sorted(x)"
   ]
  },
  {
   "cell_type": "code",
   "execution_count": 63,
   "metadata": {
    "colab": {
     "autoexec": {
      "startup": false,
      "wait_interval": 0
     },
     "base_uri": "https://localhost:8080/",
     "height": 34,
     "output_extras": [
      {
       "item_id": 1
      }
     ]
    },
    "colab_type": "code",
    "executionInfo": {
     "elapsed": 477,
     "status": "ok",
     "timestamp": 1519036050423,
     "user": {
      "displayName": "David Leoni",
      "photoUrl": "https://lh3.googleusercontent.com/a/default-user=s128",
      "userId": "102920557909426557439"
     },
     "user_tz": -60
    },
    "id": "L87O-fjMlwoz",
    "outputId": "98291939-58ee-494c-a7b6-5caf071741a3"
   },
   "outputs": [
    {
     "data": {
      "text/plain": [
       "['python', 'world', 'hello']"
      ]
     },
     "execution_count": 63,
     "metadata": {},
     "output_type": "execute_result"
    }
   ],
   "source": [
    "# original x was not changed:\n",
    "x"
   ]
  },
  {
   "cell_type": "markdown",
   "metadata": {
    "colab_type": "text",
    "id": "nwsN6H3bkGrN"
   },
   "source": [
    "**✪ EXERCISE**: What happens if you order strings which contain the same characters but uppercase instead of lowercase? How are they sorted? Do some test."
   ]
  },
  {
   "cell_type": "code",
   "execution_count": 64,
   "metadata": {},
   "outputs": [],
   "source": [
    "# write here\n",
    "\n"
   ]
  },
  {
   "cell_type": "markdown",
   "metadata": {},
   "source": [
    "**✪ EXERCISE**:  What happens if in the same list you place both string and numbers, and try to sort it? Do some test."
   ]
  },
  {
   "cell_type": "code",
   "execution_count": 65,
   "metadata": {},
   "outputs": [],
   "source": [
    "# write here\n"
   ]
  },
  {
   "cell_type": "markdown",
   "metadata": {
    "colab_type": "text",
    "id": "OPTT3kHSpp3m"
   },
   "source": [
    "**Reversed order**\n",
    "\n",
    "Suppose we want to sort the list in reversed order by using `sorted` function. To do so we can tell Python the boolean parameter `reverse` and its value, which in this case will be `True`. In other words, Python allows to specify optional parameters _by name_:"
   ]
  },
  {
   "cell_type": "code",
   "execution_count": 66,
   "metadata": {
    "colab": {
     "autoexec": {
      "startup": false,
      "wait_interval": 0
     },
     "base_uri": "https://localhost:8080/",
     "height": 34,
     "output_extras": [
      {
       "item_id": 1
      }
     ]
    },
    "colab_type": "code",
    "executionInfo": {
     "elapsed": 662,
     "status": "ok",
     "timestamp": 1519036904044,
     "user": {
      "displayName": "David Leoni",
      "photoUrl": "https://lh3.googleusercontent.com/a/default-user=s128",
      "userId": "102920557909426557439"
     },
     "user_tz": -60
    },
    "id": "1uL7iYVxp0Jc",
    "outputId": "0c2ff50a-f5a7-4a9b-9615-47a4bfd61df9"
   },
   "outputs": [
    {
     "data": {
      "text/plain": [
       "['python', 'mondo', 'ciao']"
      ]
     },
     "execution_count": 66,
     "metadata": {},
     "output_type": "execute_result"
    }
   ],
   "source": [
    "sorted(['mondo', 'python', 'ciao'], reverse=True)"
   ]
  },
  {
   "cell_type": "markdown",
   "metadata": {
    "colab_type": "text",
    "id": "J4NE2J80qNj9"
   },
   "source": [
    "**✪ EXERCISE**: To find info about `sorted` function, we could have asked some help to Python. To do so Python provides a handy function called `help`, which you could use like so `help(sorted)`. Try executing it in the cell below. Sometimes the help can be quite complex, and it is upon us to find the interesting parameters."
   ]
  },
  {
   "cell_type": "code",
   "execution_count": 67,
   "metadata": {},
   "outputs": [],
   "source": [
    "# write here\n",
    "\n",
    "\n"
   ]
  },
  {
   "cell_type": "markdown",
   "metadata": {
    "colab_type": "text",
    "id": "BYKOKlw3rTXo"
   },
   "source": [
    "**Reverse unordered lists**\n",
    "\n",
    "What if we wanted to reverse a list as it is, without any sorting, for example to pass from `[6,2,4]` to `[2,4,6]`? By searching the Python library, we can see there is a handy function `reversed()` which takes as parameter the list we want to reverse and generates a new reversed one.\n",
    "\n",
    "**✪ EXERCISE**: Try executing `reversed([6,2,4])` in the cell below, and see the result. Is it what you expect? In general, and especially in Python 3, whenever we expect a list and instead we get an object called `iterator`, we can solve the issue by passing the result to the function `list()`"
   ]
  },
  {
   "cell_type": "code",
   "execution_count": 68,
   "metadata": {
    "colab": {
     "autoexec": {
      "startup": false,
      "wait_interval": 0
     }
    },
    "colab_type": "code",
    "id": "ajY8faRvsBIu"
   },
   "outputs": [],
   "source": [
    "# write here the code\n",
    "\n"
   ]
  },
  {
   "cell_type": "markdown",
   "metadata": {
    "colab_type": "text",
    "id": "poPVz2M0AFWT"
   },
   "source": [
    "\n",
    "## Dictionaries - dict\n",
    "\n",
    "Dictionaries are containers which allow us to associate so-called _keys_ to _values_. We will make a brief example to give the idea.\n",
    "\n",
    "**References**:\n",
    "\n",
    "1. [Dictionaries 1 - intro](https://en.softpython.org/dictionaries/dictionaries1-sol.html)\n",
    "2. [Dictionaries 2 - operators](https://en.softpython.org/dictionaries/dictionaries2-sol.html)\n",
    "3. [Dictionaries 3 - methods](https://en.softpython.org/dictionaries/dictionaries3-sol.html)\n",
    "\n",
    "We can create a dictionary with curly brackets `{` `}`, separating the keys from values with a colon `:`, and separating associations with the comma `,`:"
   ]
  },
  {
   "cell_type": "code",
   "execution_count": 69,
   "metadata": {
    "colab": {
     "autoexec": {
      "startup": false,
      "wait_interval": 0
     }
    },
    "colab_type": "code",
    "id": "TBTib8uDAFWT"
   },
   "outputs": [],
   "source": [
    "d = {  'key 1':'value 1', \n",
    "       'key 2':'value 2'}"
   ]
  },
  {
   "cell_type": "markdown",
   "metadata": {
    "colab_type": "text",
    "id": "-KbnLHG4AFWY"
   },
   "source": [
    "To access values, we can use keys among square brackets:"
   ]
  },
  {
   "cell_type": "code",
   "execution_count": 70,
   "metadata": {
    "colab": {
     "autoexec": {
      "startup": false,
      "wait_interval": 0
     },
     "output_extras": [
      {}
     ]
    },
    "colab_type": "code",
    "id": "uOtygGF-AFWY",
    "outputId": "424158a1-1e06-4101-dfb8-3c5ea0439140"
   },
   "outputs": [
    {
     "data": {
      "text/plain": [
       "'value 1'"
      ]
     },
     "execution_count": 70,
     "metadata": {},
     "output_type": "execute_result"
    }
   ],
   "source": [
    "d['key 1']"
   ]
  },
  {
   "cell_type": "code",
   "execution_count": 71,
   "metadata": {
    "colab": {
     "autoexec": {
      "startup": false,
      "wait_interval": 0
     },
     "output_extras": [
      {}
     ]
    },
    "colab_type": "code",
    "id": "USOz4GrKAFWh",
    "outputId": "c19e78b1-5506-4ae2-9e52-123c6a36c24c"
   },
   "outputs": [
    {
     "data": {
      "text/plain": [
       "'value 2'"
      ]
     },
     "execution_count": 71,
     "metadata": {},
     "output_type": "execute_result"
    }
   ],
   "source": [
    "d['key 2']"
   ]
  },
  {
   "cell_type": "markdown",
   "metadata": {
    "colab_type": "text",
    "id": "Y6g0wQOoAFWn"
   },
   "source": [
    "**Values**: dictionaries can hold whatever we want as values: numbers, strings, tuples, lists, other dictionaries .."
   ]
  },
  {
   "cell_type": "code",
   "execution_count": 72,
   "metadata": {
    "colab": {
     "autoexec": {
      "startup": false,
      "wait_interval": 0
     }
    },
    "colab_type": "code",
    "id": "n_jOaUL7AFWn"
   },
   "outputs": [],
   "source": [
    "d['key 3'] = 123"
   ]
  },
  {
   "cell_type": "code",
   "execution_count": 73,
   "metadata": {
    "colab": {
     "autoexec": {
      "startup": false,
      "wait_interval": 0
     },
     "output_extras": [
      {}
     ]
    },
    "colab_type": "code",
    "id": "4rW2qESsAFWr",
    "outputId": "a4d78101-ffa3-4061-f359-c9c9e50c6841"
   },
   "outputs": [
    {
     "data": {
      "text/plain": [
       "{'key 1': 'value 1', 'key 2': 'value 2', 'key 3': 123}"
      ]
     },
     "execution_count": 73,
     "metadata": {},
     "output_type": "execute_result"
    }
   ],
   "source": [
    "d"
   ]
  },
  {
   "cell_type": "code",
   "execution_count": 74,
   "metadata": {
    "colab": {
     "autoexec": {
      "startup": false,
      "wait_interval": 0
     }
    },
    "colab_type": "code",
    "id": "5xIZB-EnAFWw"
   },
   "outputs": [],
   "source": [
    "d['key 4'] = ('I','am', 'a', 'tuple')"
   ]
  },
  {
   "cell_type": "code",
   "execution_count": 75,
   "metadata": {
    "colab": {
     "autoexec": {
      "startup": false,
      "wait_interval": 0
     },
     "output_extras": [
      {}
     ]
    },
    "colab_type": "code",
    "id": "npAcGHM8AFW7",
    "outputId": "0ea2e4b3-8693-4d97-ee75-019c901b3b99"
   },
   "outputs": [
    {
     "data": {
      "text/plain": [
       "{'key 1': 'value 1',\n",
       " 'key 2': 'value 2',\n",
       " 'key 3': 123,\n",
       " 'key 4': ('I', 'am', 'a', 'tuple')}"
      ]
     },
     "execution_count": 75,
     "metadata": {},
     "output_type": "execute_result"
    }
   ],
   "source": [
    "d"
   ]
  },
  {
   "cell_type": "markdown",
   "metadata": {
    "colab_type": "text",
    "id": "ULq3n4TiAFXB"
   },
   "source": [
    "**✪ EXERCISE**: try inserting into the dictionary some key/value couples with strings as keys and as values other lists and dictionaries"
   ]
  },
  {
   "cell_type": "code",
   "execution_count": 76,
   "metadata": {
    "colab": {
     "autoexec": {
      "startup": false,
      "wait_interval": 0
     }
    },
    "colab_type": "code",
    "id": "aqL7HMKjAFXC"
   },
   "outputs": [],
   "source": [
    "# write here:\n",
    "\n",
    "\n"
   ]
  },
  {
   "cell_type": "markdown",
   "metadata": {
    "colab_type": "text",
    "id": "9IpoJd3WAFXP"
   },
   "source": [
    "**Keys**: Keys have the important restriction: they must be an _immutable_ type. We've already put strings so we know they must be immutable. Numbers also are immutable:"
   ]
  },
  {
   "cell_type": "code",
   "execution_count": 77,
   "metadata": {
    "colab": {
     "autoexec": {
      "startup": false,
      "wait_interval": 0
     }
    },
    "colab_type": "code",
    "id": "2GGqOz7XAFXS"
   },
   "outputs": [],
   "source": [
    "d[123] = 'value 3'"
   ]
  },
  {
   "cell_type": "code",
   "execution_count": 78,
   "metadata": {
    "colab": {
     "autoexec": {
      "startup": false,
      "wait_interval": 0
     },
     "output_extras": [
      {}
     ]
    },
    "colab_type": "code",
    "id": "xT8hKlKWAFXW",
    "outputId": "8f04e1e5-9e98-4765-b639-4720aa4cd863"
   },
   "outputs": [
    {
     "data": {
      "text/plain": [
       "{'key 1': 'value 1',\n",
       " 'key 2': 'value 2',\n",
       " 'key 3': 123,\n",
       " 'key 4': ('I', 'am', 'a', 'tuple'),\n",
       " 123: 'value 3'}"
      ]
     },
     "execution_count": 78,
     "metadata": {},
     "output_type": "execute_result"
    }
   ],
   "source": [
    "d"
   ]
  },
  {
   "cell_type": "markdown",
   "metadata": {
    "colab_type": "text",
    "id": "HwOmHE59AFXo"
   },
   "source": [
    "Tuples are an immutable sequence so we can use them as keys:"
   ]
  },
  {
   "cell_type": "code",
   "execution_count": 79,
   "metadata": {
    "colab": {
     "autoexec": {
      "startup": false,
      "wait_interval": 0
     }
    },
    "colab_type": "code",
    "id": "yjUVpZA9AFXp"
   },
   "outputs": [],
   "source": [
    "d[('I','am','a','tuple')] = 'value 4'"
   ]
  },
  {
   "cell_type": "code",
   "execution_count": 80,
   "metadata": {
    "colab": {
     "autoexec": {
      "startup": false,
      "wait_interval": 0
     },
     "output_extras": [
      {}
     ]
    },
    "colab_type": "code",
    "id": "cfFQsiTAAFXs",
    "outputId": "3d298239-01e2-417c-b5a6-84f684fc6bd6"
   },
   "outputs": [
    {
     "data": {
      "text/plain": [
       "{'key 1': 'value 1',\n",
       " 'key 2': 'value 2',\n",
       " 'key 3': 123,\n",
       " 'key 4': ('I', 'am', 'a', 'tuple'),\n",
       " 123: 'value 3',\n",
       " ('I', 'am', 'a', 'tuple'): 'value 4'}"
      ]
     },
     "execution_count": 80,
     "metadata": {},
     "output_type": "execute_result"
    }
   ],
   "source": [
    "d"
   ]
  },
  {
   "cell_type": "markdown",
   "metadata": {
    "colab_type": "text",
    "id": "oDjgDSrdAFX7"
   },
   "source": [
    "\n",
    "<div class=\"alert alert-warning\">\n",
    "\n",
    "**WARNING**: Not all types are viable as keys. Without going into details, in general you cannot insert into dictionaries as keys types which can be modified after they were created.\n",
    " \n",
    "</div>\n",
    "\n",
    "**✪ EXERCISE**: \n",
    "\n",
    "- Try inserting in a dictionary a list like `['a','b']` as key, and put any value you like as value. Python should complain, and you should see the writing `TypeError: unhashable type: 'list'`\n",
    "- try also to insert a dictionary as key (for example the empty dictionary `{}`). Which result do you obtain?"
   ]
  },
  {
   "cell_type": "code",
   "execution_count": 81,
   "metadata": {},
   "outputs": [],
   "source": [
    "# write here the code\n",
    "\n"
   ]
  },
  {
   "cell_type": "markdown",
   "metadata": {},
   "source": [
    "## Visualizing execution with Python Tutor\n",
    "\n",
    "We've seen the main data types. Before going on, let's discover the best tools to understand what happens when we execute code. [Python tutor](http://pythontutor.com/) is a very good website to visualize Python code execution, which allows to progress forward and even _backwards_ in the code execution. Take advantage of it as much as you can, it should work with most code you will see in the book. Let's see some example.\n",
    "\n",
    "**Python tutor 1/4**\n",
    "\n",
    "Go to the website [pythontutor.com](http://pythontutor.com/) and select _Python 3_"
   ]
  },
  {
   "cell_type": "markdown",
   "metadata": {},
   "source": [
    "![pytut-1-8231](img/pytut-1.jpg)"
   ]
  },
  {
   "cell_type": "markdown",
   "metadata": {},
   "source": [
    "**Python tutor 2/4**\n",
    "\n",
    "Make sure at least Python 3.6 is selected:\n",
    "\n",
    "![pytut-2-498273](img/pytut-2.jpg)"
   ]
  },
  {
   "cell_type": "markdown",
   "metadata": {},
   "source": [
    "**Python tutor 3/4**\n",
    "\n",
    "**Try inserting:**\n",
    "\n",
    "```python\n",
    "x = 5\n",
    "y = 7\n",
    "z = x + y\n",
    "```\n",
    "\n",
    "![pytut-3-89142](img/pytut-3.jpg)"
   ]
  },
  {
   "cell_type": "markdown",
   "metadata": {},
   "source": [
    "**Python tutor 4/4**\n",
    "\n",
    "**By clicking on Next, you will see the changes in Python memory**\n",
    "\n",
    "![pytut-4-27854](img/pytut-4.jpg)"
   ]
  },
  {
   "cell_type": "markdown",
   "metadata": {},
   "source": [
    "### Debugging code in Jupyter\n",
    "\n",
    "Python Tutor is fantastic, but when you execute code in Jupyter and it doesn't work, what can you do? To inspect the execution, the editor usually makes available a tool called _debugger,_ which allows to execute instructions one by one. At present (August 2018), the Jupyter debugger is called [pdb](https://davidhamann.de/2017/04/22/debugging-jupyter-notebooks/) and it is extremely limited. To overcome its limitations, in this book we invented a custom solution based on Python Tutor.\n",
    "\n",
    "If you insert Python code in a cell, and then **at the cell end** you write the instruction `jupman.pytut()`, the preceding code will be visualized inside Jupyter notebook with Python Tutor, as if by magic."
   ]
  },
  {
   "cell_type": "markdown",
   "metadata": {},
   "source": [
    "<div class=\"alert alert-warning\">\n",
    "\n",
    "**WARNING**: `jupman` is a collection of support functions we created just for this book.\n",
    "    \n",
    "Whenever you see commands which start with `jupman`, to make them work you need first to execute the cell at the beginning of the document. For convenience we report here that cell. If you already didn't, execute it now.\n",
    "\n",
    "</div>\n"
   ]
  },
  {
   "cell_type": "code",
   "execution_count": 82,
   "metadata": {},
   "outputs": [],
   "source": [
    "# Remember to execute this cell with Control+Enter\n",
    "# These commands tell Python where to find the file jupman.py\n",
    "import jupman;"
   ]
  },
  {
   "cell_type": "markdown",
   "metadata": {},
   "source": [
    "Now we are ready yo try Python Tutor with the magic function `jupman.pytut()`: "
   ]
  },
  {
   "cell_type": "code",
   "execution_count": 83,
   "metadata": {},
   "outputs": [
    {
     "data": {
      "text/html": [
       "\n",
       "        <script src=\"../_static/js/pytutor-embed.bundle.min.js\" type=\"application/javascript\"></script>\n",
       "     \n",
       "        <script id=\"json-jme6bb8dbb-4c5b-4469-9eda-39a0424c516d\" type=\"application/json\" >\n",
       "            {\"code\": \" \\nx = 5\\ny = 7\\nz = x + y\", \"trace\": [{\"line\": 2, \"event\": \"step_line\", \"func_name\": \"<module>\", \"globals\": {}, \"ordered_globals\": [], \"stack_to_render\": [], \"heap\": {}, \"stdout\": \"\"}, {\"line\": 3, \"event\": \"step_line\", \"func_name\": \"<module>\", \"globals\": {\"x\": 5}, \"ordered_globals\": [\"x\"], \"stack_to_render\": [], \"heap\": {}, \"stdout\": \"\"}, {\"line\": 4, \"event\": \"step_line\", \"func_name\": \"<module>\", \"globals\": {\"x\": 5, \"y\": 7}, \"ordered_globals\": [\"x\", \"y\"], \"stack_to_render\": [], \"heap\": {}, \"stdout\": \"\"}, {\"line\": 4, \"event\": \"return\", \"func_name\": \"<module>\", \"globals\": {\"x\": 5, \"y\": 7, \"z\": 12}, \"ordered_globals\": [\"x\", \"y\", \"z\"], \"stack_to_render\": [], \"heap\": {}, \"stdout\": \"\"}]}\n",
       "        </script>\n",
       "        <div id=\"jme6bb8dbb-4c5b-4469-9eda-39a0424c516d\" class=\"pytutorVisualizer\"> </div>\n",
       " \n",
       "        <style>\n",
       "        .vizLayoutTd {\n",
       "            background-color: #fff !important;\n",
       "        }\n",
       "\n",
       "        #pyStdout {            \n",
       "            min-height:25px;\n",
       "        }\n",
       "\n",
       "        /* 'Edit this code' link, hiding because replaces browser tab !!!*/\n",
       "        #editCodeLinkDiv {\n",
       "            display:none;  \n",
       "        }\n",
       "        </style>   \n",
       "                            \n",
       "        <script>\n",
       "        (function(){\n",
       "\n",
       "            var trace = JSON.parse(document.getElementById('json-jme6bb8dbb-4c5b-4469-9eda-39a0424c516d').innerHTML);                                        \n",
       "            // NOTE 1: id without #\n",
       "            // NOTE 2 - maybe there are more predictable ways, but this will work anyway\n",
       "            //        - id should be number\n",
       "            visualizerIdOverride = Math.trunc(Math.random() * 100000000000)\n",
       "            addVisualizerToPage(trace, 'jme6bb8dbb-4c5b-4469-9eda-39a0424c516d',{'embeddedMode' : false,\n",
       "                                             'visualizerIdOverride':visualizerIdOverride})  \n",
       "            \n",
       "            \n",
       "            // set overflow for pytuts - need to do in python as css \n",
       "            // does not allow parent selection\n",
       "            var pytuts = $('.pytutorVisualizer')\n",
       "            pytuts.closest('div.output_html.rendered_html.output_result')\n",
       "                    .css('overflow-x', 'visible')\n",
       "        \n",
       "            //pytuts.closest('div.output_html.rendered_html.output_result')\n",
       "            //      .css('background-color','red')                \n",
       "            \n",
       "        })()\n",
       "        </script>\n",
       "                \n",
       "                "
      ],
      "text/plain": [
       "<IPython.core.display.HTML object>"
      ]
     },
     "execution_count": 83,
     "metadata": {},
     "output_type": "execute_result"
    }
   ],
   "source": [
    "x = 5\n",
    "y = 7\n",
    "z = x + y\n",
    "\n",
    "jupman.pytut()"
   ]
  },
  {
   "cell_type": "markdown",
   "metadata": {},
   "source": [
    "####  Python Tutor : Limitation 1\n",
    "\n",
    "Python Tutor is handy, but there are important limitations:\n",
    "\n"
   ]
  },
  {
   "cell_type": "markdown",
   "metadata": {},
   "source": [
    "<div class=\"alert alert-warning\">\n",
    "\n",
    "**ATTENTION**: Python Tutor only looks inside one cell!\n",
    "\n",
    "Whenever you use Python Tutor inside Jupyter, the only code Python tutors considers is the one inside the cell containing the command `jupman.pytut()` \n",
    "    \n",
    "</div>\n",
    "\n",
    "So for example in the two following cells, only `print(w)` will appear inside Python tutor without the `w = 3`. If you try clicking _Forward_ in Python tutor, you will we warned that `w` was not defined."
   ]
  },
  {
   "cell_type": "code",
   "execution_count": 84,
   "metadata": {},
   "outputs": [],
   "source": [
    "w = 3"
   ]
  },
  {
   "cell_type": "code",
   "execution_count": 85,
   "metadata": {
    "scrolled": false
   },
   "outputs": [
    {
     "name": "stdout",
     "output_type": "stream",
     "text": [
      "3\n"
     ]
    },
    {
     "name": "stderr",
     "output_type": "stream",
     "text": [
      "Traceback (most recent call last):\n",
      "  File \"../jupman.py\", line 2340, in _runscript\n",
      "    self.run(script_str, user_globals, user_globals)\n",
      "  File \"/usr/lib/python3.7/bdb.py\", line 578, in run\n",
      "    exec(cmd, globals, locals)\n",
      "  File \"<string>\", line 2, in <module>\n",
      "NameError: name 'w' is not defined\n"
     ]
    },
    {
     "data": {
      "text/html": [
       "\n",
       "        <script src=\"../_static/js/pytutor-embed.bundle.min.js\" type=\"application/javascript\"></script>\n",
       "     \n",
       "        <script id=\"json-jm0b37b413-3375-46a5-8725-a607db05d32d\" type=\"application/json\" >\n",
       "            {\"code\": \" \\nprint(w)\", \"trace\": [{\"line\": 2, \"event\": \"step_line\", \"func_name\": \"<module>\", \"globals\": {}, \"ordered_globals\": [], \"stack_to_render\": [], \"heap\": {}, \"stdout\": \"\"}, {\"line\": 2, \"event\": \"exception\", \"func_name\": \"<module>\", \"globals\": {}, \"ordered_globals\": [], \"stack_to_render\": [], \"heap\": {}, \"stdout\": \"\", \"exception_msg\": \"NameError: name 'w' is not defined\"}]}\n",
       "        </script>\n",
       "        <div id=\"jm0b37b413-3375-46a5-8725-a607db05d32d\" class=\"pytutorVisualizer\"> </div>\n",
       " \n",
       "        <style>\n",
       "        .vizLayoutTd {\n",
       "            background-color: #fff !important;\n",
       "        }\n",
       "\n",
       "        #pyStdout {            \n",
       "            min-height:25px;\n",
       "        }\n",
       "\n",
       "        /* 'Edit this code' link, hiding because replaces browser tab !!!*/\n",
       "        #editCodeLinkDiv {\n",
       "            display:none;  \n",
       "        }\n",
       "        </style>   \n",
       "                            \n",
       "        <script>\n",
       "        (function(){\n",
       "\n",
       "            var trace = JSON.parse(document.getElementById('json-jm0b37b413-3375-46a5-8725-a607db05d32d').innerHTML);                                        \n",
       "            // NOTE 1: id without #\n",
       "            // NOTE 2 - maybe there are more predictable ways, but this will work anyway\n",
       "            //        - id should be number\n",
       "            visualizerIdOverride = Math.trunc(Math.random() * 100000000000)\n",
       "            addVisualizerToPage(trace, 'jm0b37b413-3375-46a5-8725-a607db05d32d',{'embeddedMode' : false,\n",
       "                                             'visualizerIdOverride':visualizerIdOverride})  \n",
       "            \n",
       "            \n",
       "            // set overflow for pytuts - need to do in python as css \n",
       "            // does not allow parent selection\n",
       "            var pytuts = $('.pytutorVisualizer')\n",
       "            pytuts.closest('div.output_html.rendered_html.output_result')\n",
       "                    .css('overflow-x', 'visible')\n",
       "        \n",
       "            //pytuts.closest('div.output_html.rendered_html.output_result')\n",
       "            //      .css('background-color','red')                \n",
       "            \n",
       "        })()\n",
       "        </script>\n",
       "                \n",
       "                "
      ],
      "text/plain": [
       "<IPython.core.display.HTML object>"
      ]
     },
     "execution_count": 85,
     "metadata": {},
     "output_type": "execute_result"
    }
   ],
   "source": [
    "print(w)\n",
    "\n",
    "jupman.pytut()"
   ]
  },
  {
   "cell_type": "markdown",
   "metadata": {},
   "source": [
    "To have it work in Python Tutor you must put ALL the code in the SAME cell:"
   ]
  },
  {
   "cell_type": "code",
   "execution_count": 86,
   "metadata": {
    "scrolled": true
   },
   "outputs": [
    {
     "name": "stdout",
     "output_type": "stream",
     "text": [
      "3\n"
     ]
    },
    {
     "data": {
      "text/html": [
       "\n",
       "        <script src=\"../_static/js/pytutor-embed.bundle.min.js\" type=\"application/javascript\"></script>\n",
       "     \n",
       "        <script id=\"json-jm57e560db-2572-4c5e-9cde-1f04a1d9b334\" type=\"application/json\" >\n",
       "            {\"code\": \" \\nw = 3\\nprint(w)\", \"trace\": [{\"line\": 2, \"event\": \"step_line\", \"func_name\": \"<module>\", \"globals\": {}, \"ordered_globals\": [], \"stack_to_render\": [], \"heap\": {}, \"stdout\": \"\"}, {\"line\": 3, \"event\": \"step_line\", \"func_name\": \"<module>\", \"globals\": {\"w\": 3}, \"ordered_globals\": [\"w\"], \"stack_to_render\": [], \"heap\": {}, \"stdout\": \"\"}, {\"line\": 3, \"event\": \"return\", \"func_name\": \"<module>\", \"globals\": {\"w\": 3}, \"ordered_globals\": [\"w\"], \"stack_to_render\": [], \"heap\": {}, \"stdout\": \"3\\n\"}]}\n",
       "        </script>\n",
       "        <div id=\"jm57e560db-2572-4c5e-9cde-1f04a1d9b334\" class=\"pytutorVisualizer\"> </div>\n",
       " \n",
       "        <style>\n",
       "        .vizLayoutTd {\n",
       "            background-color: #fff !important;\n",
       "        }\n",
       "\n",
       "        #pyStdout {            \n",
       "            min-height:25px;\n",
       "        }\n",
       "\n",
       "        /* 'Edit this code' link, hiding because replaces browser tab !!!*/\n",
       "        #editCodeLinkDiv {\n",
       "            display:none;  \n",
       "        }\n",
       "        </style>   \n",
       "                            \n",
       "        <script>\n",
       "        (function(){\n",
       "\n",
       "            var trace = JSON.parse(document.getElementById('json-jm57e560db-2572-4c5e-9cde-1f04a1d9b334').innerHTML);                                        \n",
       "            // NOTE 1: id without #\n",
       "            // NOTE 2 - maybe there are more predictable ways, but this will work anyway\n",
       "            //        - id should be number\n",
       "            visualizerIdOverride = Math.trunc(Math.random() * 100000000000)\n",
       "            addVisualizerToPage(trace, 'jm57e560db-2572-4c5e-9cde-1f04a1d9b334',{'embeddedMode' : false,\n",
       "                                             'visualizerIdOverride':visualizerIdOverride})  \n",
       "            \n",
       "            \n",
       "            // set overflow for pytuts - need to do in python as css \n",
       "            // does not allow parent selection\n",
       "            var pytuts = $('.pytutorVisualizer')\n",
       "            pytuts.closest('div.output_html.rendered_html.output_result')\n",
       "                    .css('overflow-x', 'visible')\n",
       "        \n",
       "            //pytuts.closest('div.output_html.rendered_html.output_result')\n",
       "            //      .css('background-color','red')                \n",
       "            \n",
       "        })()\n",
       "        </script>\n",
       "                \n",
       "                "
      ],
      "text/plain": [
       "<IPython.core.display.HTML object>"
      ]
     },
     "execution_count": 86,
     "metadata": {},
     "output_type": "execute_result"
    }
   ],
   "source": [
    "w = 3\n",
    "print(w)\n",
    "\n",
    "jupman.pytut()"
   ]
  },
  {
   "cell_type": "markdown",
   "metadata": {},
   "source": [
    "####  Python Tutor : Limitation 2\n",
    "\n",
    "<div class=\"alert alert-warning\">\n",
    "\n",
    "**WARNING: Python Tutor only uses functions from standard Python distribution**\n",
    "\n",
    "Python Tutor is good to inspect simple algorithms with basic Python functions, if you use libraries from third parties it will not work.    \n",
    "</div>\n",
    "\n",
    "If you use some library like `numpy`, you can try **only online** to select  `Python 3.6 with Anaconda` :\n",
    "\n",
    "![pytut-5-781302](img/pytut-5.jpg)\n"
   ]
  },
  {
   "cell_type": "markdown",
   "metadata": {
    "colab_type": "text",
    "id": "y1_ipl04AFYh"
   },
   "source": [
    "## Iteration\n",
    "\n",
    "You will often need to perform actions on every element of a sequence.\n",
    "\n",
    "**References**\n",
    "\n",
    "- [Control Flow - for loops](https://en.softpython.org/#for)\n",
    "- [Control Flow - while loops](https://en.softpython.org/#while)    \n",
    "\n",
    "\n",
    "**For loops**\n",
    "\n",
    "Among the various ways to do it, there is the so called `for` loop:"
   ]
  },
  {
   "cell_type": "code",
   "execution_count": 87,
   "metadata": {
    "colab": {
     "autoexec": {
      "startup": false,
      "wait_interval": 0
     },
     "output_extras": [
      {}
     ]
    },
    "colab_type": "code",
    "id": "dvT2rnbBAFYi",
    "outputId": "e5deee14-f728-4236-9a21-0cb13531897e"
   },
   "outputs": [
    {
     "name": "stdout",
     "output_type": "stream",
     "text": [
      "In the list there are:\n",
      "dogs\n",
      "In the list there are:\n",
      "cats\n",
      "In the list there are:\n",
      "squirrels\n",
      "In the list there are:\n",
      "elks\n"
     ]
    }
   ],
   "source": [
    "animals = ['dogs', 'cats', 'squirrels', 'elks']\n",
    "\n",
    "for animal in animals:\n",
    "    print(\"In the list there are:\")\n",
    "    print(animal)"
   ]
  },
  {
   "cell_type": "markdown",
   "metadata": {
    "colab_type": "text",
    "id": "aYoeEiXoAFYn"
   },
   "source": [
    "Here we defined the variable `animal` (we could have called it with any name, also `foo`). For every element in the list `animals`, all the instructions in the block are executed. Everytime they are executed, the variable `animal` becomes one of the values from the list `animals`\n",
    "\n",
    "<div class=\"alert alert-warning\">\n",
    "\n",
    "**WARNING 1: REMEMBER THE TWO DOTS `:` AT THE END OF THE** `for` **LINE !!!**\n",
    "</div>\n",
    "\n",
    "<div class=\"alert alert-warning\">\n",
    "\n",
    "**WARNING 2**: ALWAYS use sequences of 4 white spaces to indent the code\n",
    "    \n",
    "Sequences of only 2 spaces are still allowed but not recommended.    \n",
    "    \n",
    "</div>\n",
    "\n",
    "<div class=\"alert alert-warning\">\n",
    "\n",
    "**WARNING 3**: TAB behavior may vary depending on your editor.\n",
    "    \n",
    "According to the editor you are using, by hitting TAB you could obtain a sequence of white spaces (i.e. the recommended 4 spaces as it happens in Jupyter), or a special character of tabulation (to avoid)! As much as boring this distinction might look to you, please remember it because it might generate errors very difficult to spot.    \n",
    "</div>\n"
   ]
  },
  {
   "cell_type": "code",
   "execution_count": 88,
   "metadata": {},
   "outputs": [
    {
     "name": "stdout",
     "output_type": "stream",
     "text": [
      "In the list there are:\n",
      "dogs\n",
      "In the list there are:\n",
      "cats\n",
      "In the list there are:\n",
      "squirrels\n",
      "In the list there are:\n",
      "elks\n"
     ]
    },
    {
     "data": {
      "text/html": [
       "\n",
       "        <script src=\"../_static/js/pytutor-embed.bundle.min.js\" type=\"application/javascript\"></script>\n",
       "     \n",
       "        <script id=\"json-jm022b674e-0f83-4e98-8036-648d425eace6\" type=\"application/json\" >\n",
       "            {\"code\": \" \\n# Let's see what happens with Python tutor:\\n\\nanimals = ['dogs', 'cats', 'squirrels', 'elks']\\n\\nfor animal in animals:\\n    print(\\\"In the list there are:\\\")\\n    print(animal)\", \"trace\": [{\"line\": 4, \"event\": \"step_line\", \"func_name\": \"<module>\", \"globals\": {}, \"ordered_globals\": [], \"stack_to_render\": [], \"heap\": {}, \"stdout\": \"\"}, {\"line\": 6, \"event\": \"step_line\", \"func_name\": \"<module>\", \"globals\": {\"animals\": [\"REF\", 1]}, \"ordered_globals\": [\"animals\"], \"stack_to_render\": [], \"heap\": {\"1\": [\"LIST\", \"dogs\", \"cats\", \"squirrels\", \"elks\"]}, \"stdout\": \"\"}, {\"line\": 7, \"event\": \"step_line\", \"func_name\": \"<module>\", \"globals\": {\"animals\": [\"REF\", 1], \"animal\": \"dogs\"}, \"ordered_globals\": [\"animals\", \"animal\"], \"stack_to_render\": [], \"heap\": {\"1\": [\"LIST\", \"dogs\", \"cats\", \"squirrels\", \"elks\"]}, \"stdout\": \"\"}, {\"line\": 8, \"event\": \"step_line\", \"func_name\": \"<module>\", \"globals\": {\"animals\": [\"REF\", 1], \"animal\": \"dogs\"}, \"ordered_globals\": [\"animals\", \"animal\"], \"stack_to_render\": [], \"heap\": {\"1\": [\"LIST\", \"dogs\", \"cats\", \"squirrels\", \"elks\"]}, \"stdout\": \"In the list there are:\\n\"}, {\"line\": 6, \"event\": \"step_line\", \"func_name\": \"<module>\", \"globals\": {\"animals\": [\"REF\", 1], \"animal\": \"dogs\"}, \"ordered_globals\": [\"animals\", \"animal\"], \"stack_to_render\": [], \"heap\": {\"1\": [\"LIST\", \"dogs\", \"cats\", \"squirrels\", \"elks\"]}, \"stdout\": \"In the list there are:\\ndogs\\n\"}, {\"line\": 7, \"event\": \"step_line\", \"func_name\": \"<module>\", \"globals\": {\"animals\": [\"REF\", 1], \"animal\": \"cats\"}, \"ordered_globals\": [\"animals\", \"animal\"], \"stack_to_render\": [], \"heap\": {\"1\": [\"LIST\", \"dogs\", \"cats\", \"squirrels\", \"elks\"]}, \"stdout\": \"In the list there are:\\ndogs\\n\"}, {\"line\": 8, \"event\": \"step_line\", \"func_name\": \"<module>\", \"globals\": {\"animals\": [\"REF\", 1], \"animal\": \"cats\"}, \"ordered_globals\": [\"animals\", \"animal\"], \"stack_to_render\": [], \"heap\": {\"1\": [\"LIST\", \"dogs\", \"cats\", \"squirrels\", \"elks\"]}, \"stdout\": \"In the list there are:\\ndogs\\nIn the list there are:\\n\"}, {\"line\": 6, \"event\": \"step_line\", \"func_name\": \"<module>\", \"globals\": {\"animals\": [\"REF\", 1], \"animal\": \"cats\"}, \"ordered_globals\": [\"animals\", \"animal\"], \"stack_to_render\": [], \"heap\": {\"1\": [\"LIST\", \"dogs\", \"cats\", \"squirrels\", \"elks\"]}, \"stdout\": \"In the list there are:\\ndogs\\nIn the list there are:\\ncats\\n\"}, {\"line\": 7, \"event\": \"step_line\", \"func_name\": \"<module>\", \"globals\": {\"animals\": [\"REF\", 1], \"animal\": \"squirrels\"}, \"ordered_globals\": [\"animals\", \"animal\"], \"stack_to_render\": [], \"heap\": {\"1\": [\"LIST\", \"dogs\", \"cats\", \"squirrels\", \"elks\"]}, \"stdout\": \"In the list there are:\\ndogs\\nIn the list there are:\\ncats\\n\"}, {\"line\": 8, \"event\": \"step_line\", \"func_name\": \"<module>\", \"globals\": {\"animals\": [\"REF\", 1], \"animal\": \"squirrels\"}, \"ordered_globals\": [\"animals\", \"animal\"], \"stack_to_render\": [], \"heap\": {\"1\": [\"LIST\", \"dogs\", \"cats\", \"squirrels\", \"elks\"]}, \"stdout\": \"In the list there are:\\ndogs\\nIn the list there are:\\ncats\\nIn the list there are:\\n\"}, {\"line\": 6, \"event\": \"step_line\", \"func_name\": \"<module>\", \"globals\": {\"animals\": [\"REF\", 1], \"animal\": \"squirrels\"}, \"ordered_globals\": [\"animals\", \"animal\"], \"stack_to_render\": [], \"heap\": {\"1\": [\"LIST\", \"dogs\", \"cats\", \"squirrels\", \"elks\"]}, \"stdout\": \"In the list there are:\\ndogs\\nIn the list there are:\\ncats\\nIn the list there are:\\nsquirrels\\n\"}, {\"line\": 7, \"event\": \"step_line\", \"func_name\": \"<module>\", \"globals\": {\"animals\": [\"REF\", 1], \"animal\": \"elks\"}, \"ordered_globals\": [\"animals\", \"animal\"], \"stack_to_render\": [], \"heap\": {\"1\": [\"LIST\", \"dogs\", \"cats\", \"squirrels\", \"elks\"]}, \"stdout\": \"In the list there are:\\ndogs\\nIn the list there are:\\ncats\\nIn the list there are:\\nsquirrels\\n\"}, {\"line\": 8, \"event\": \"step_line\", \"func_name\": \"<module>\", \"globals\": {\"animals\": [\"REF\", 1], \"animal\": \"elks\"}, \"ordered_globals\": [\"animals\", \"animal\"], \"stack_to_render\": [], \"heap\": {\"1\": [\"LIST\", \"dogs\", \"cats\", \"squirrels\", \"elks\"]}, \"stdout\": \"In the list there are:\\ndogs\\nIn the list there are:\\ncats\\nIn the list there are:\\nsquirrels\\nIn the list there are:\\n\"}, {\"line\": 6, \"event\": \"step_line\", \"func_name\": \"<module>\", \"globals\": {\"animals\": [\"REF\", 1], \"animal\": \"elks\"}, \"ordered_globals\": [\"animals\", \"animal\"], \"stack_to_render\": [], \"heap\": {\"1\": [\"LIST\", \"dogs\", \"cats\", \"squirrels\", \"elks\"]}, \"stdout\": \"In the list there are:\\ndogs\\nIn the list there are:\\ncats\\nIn the list there are:\\nsquirrels\\nIn the list there are:\\nelks\\n\"}, {\"line\": 6, \"event\": \"return\", \"func_name\": \"<module>\", \"globals\": {\"animals\": [\"REF\", 1], \"animal\": \"elks\"}, \"ordered_globals\": [\"animals\", \"animal\"], \"stack_to_render\": [], \"heap\": {\"1\": [\"LIST\", \"dogs\", \"cats\", \"squirrels\", \"elks\"]}, \"stdout\": \"In the list there are:\\ndogs\\nIn the list there are:\\ncats\\nIn the list there are:\\nsquirrels\\nIn the list there are:\\nelks\\n\"}]}\n",
       "        </script>\n",
       "        <div id=\"jm022b674e-0f83-4e98-8036-648d425eace6\" class=\"pytutorVisualizer\"> </div>\n",
       " \n",
       "        <style>\n",
       "        .vizLayoutTd {\n",
       "            background-color: #fff !important;\n",
       "        }\n",
       "\n",
       "        #pyStdout {            \n",
       "            min-height:25px;\n",
       "        }\n",
       "\n",
       "        /* 'Edit this code' link, hiding because replaces browser tab !!!*/\n",
       "        #editCodeLinkDiv {\n",
       "            display:none;  \n",
       "        }\n",
       "        </style>   \n",
       "                            \n",
       "        <script>\n",
       "        (function(){\n",
       "\n",
       "            var trace = JSON.parse(document.getElementById('json-jm022b674e-0f83-4e98-8036-648d425eace6').innerHTML);                                        \n",
       "            // NOTE 1: id without #\n",
       "            // NOTE 2 - maybe there are more predictable ways, but this will work anyway\n",
       "            //        - id should be number\n",
       "            visualizerIdOverride = Math.trunc(Math.random() * 100000000000)\n",
       "            addVisualizerToPage(trace, 'jm022b674e-0f83-4e98-8036-648d425eace6',{'embeddedMode' : false,\n",
       "                                             'visualizerIdOverride':visualizerIdOverride})  \n",
       "            \n",
       "            \n",
       "            // set overflow for pytuts - need to do in python as css \n",
       "            // does not allow parent selection\n",
       "            var pytuts = $('.pytutorVisualizer')\n",
       "            pytuts.closest('div.output_html.rendered_html.output_result')\n",
       "                    .css('overflow-x', 'visible')\n",
       "        \n",
       "            //pytuts.closest('div.output_html.rendered_html.output_result')\n",
       "            //      .css('background-color','red')                \n",
       "            \n",
       "        })()\n",
       "        </script>\n",
       "                \n",
       "                "
      ],
      "text/plain": [
       "<IPython.core.display.HTML object>"
      ]
     },
     "execution_count": 88,
     "metadata": {},
     "output_type": "execute_result"
    }
   ],
   "source": [
    "# Let's see what happens with Python tutor:\n",
    "\n",
    "animals = ['dogs', 'cats', 'squirrels', 'elks']\n",
    "\n",
    "for animal in animals:\n",
    "    print(\"In the list there are:\")\n",
    "    print(animal)\n",
    "    \n",
    "jupman.pytut()"
   ]
  },
  {
   "cell_type": "markdown",
   "metadata": {
    "colab_type": "text",
    "id": "wnbHtwz7AFYo"
   },
   "source": [
    "**✪ EXERCISE**: Let's try to understand all the warnings above a bit better. Write down here the previous `for` with the animals (no copy and paste!), try if it works. Remember to use 4 spaces for the indentation.\n",
    "\n",
    "- Try removing the colon at the end and check the error given by Python\n",
    "- re-add the colon, and try now varying the indentation. Try placing two spaces at the beginning of both prints, check if it works\n",
    "- try now placing two spaces before the first print and 4 spaces before the second, check if it executes"
   ]
  },
  {
   "cell_type": "code",
   "execution_count": 89,
   "metadata": {
    "colab": {
     "autoexec": {
      "startup": false,
      "wait_interval": 0
     }
    },
    "colab_type": "code",
    "id": "STgILuUEAFYr"
   },
   "outputs": [],
   "source": [
    "# write here - copy the above for\n",
    "\n"
   ]
  },
  {
   "cell_type": "markdown",
   "metadata": {
    "colab_type": "text",
    "id": "4JM8nJYtAFYx"
   },
   "source": [
    "### for in range\n",
    "\n",
    "Another very common iteration is incrementing a counter at each cycle. Compared to other languages, Python offers a peculiar system based on the function `range(n)`, which returns a sequence with the first numbers from `0` _included_ to `n` _excluded_. We can use it like this:"
   ]
  },
  {
   "cell_type": "code",
   "execution_count": 90,
   "metadata": {
    "colab": {
     "autoexec": {
      "startup": false,
      "wait_interval": 0
     },
     "output_extras": [
      {}
     ]
    },
    "colab_type": "code",
    "id": "AKaswfGQAFYy",
    "outputId": "7110d199-e29a-4c79-9ff6-c04a1b64bb63"
   },
   "outputs": [
    {
     "name": "stdout",
     "output_type": "stream",
     "text": [
      "0\n",
      "1\n",
      "2\n"
     ]
    }
   ],
   "source": [
    "for index in range(3):\n",
    "    print(index)"
   ]
  },
  {
   "cell_type": "code",
   "execution_count": 91,
   "metadata": {
    "colab": {
     "autoexec": {
      "startup": false,
      "wait_interval": 0
     },
     "output_extras": [
      {}
     ]
    },
    "colab_type": "code",
    "id": "kpkqkSuIAFY7",
    "outputId": "49723053-062b-4dca-b64c-b5e2ae2c8ae4"
   },
   "outputs": [
    {
     "name": "stdout",
     "output_type": "stream",
     "text": [
      "0\n",
      "1\n",
      "2\n",
      "3\n",
      "4\n",
      "5\n"
     ]
    }
   ],
   "source": [
    "for index in range(6):\n",
    "    print(index)"
   ]
  },
  {
   "cell_type": "markdown",
   "metadata": {},
   "source": [
    "Let's have a better look with Python tutor:"
   ]
  },
  {
   "cell_type": "code",
   "execution_count": 92,
   "metadata": {},
   "outputs": [
    {
     "name": "stdout",
     "output_type": "stream",
     "text": [
      "0\n",
      "1\n",
      "2\n",
      "3\n",
      "4\n",
      "5\n"
     ]
    },
    {
     "data": {
      "text/html": [
       "\n",
       "        <script src=\"../_static/js/pytutor-embed.bundle.min.js\" type=\"application/javascript\"></script>\n",
       "     \n",
       "        <script id=\"json-jm9630cbcd-018e-4443-b3d3-8c576d6a0a72\" type=\"application/json\" >\n",
       "            {\"code\": \" \\nfor index in range(6):\\n    print(index)\", \"trace\": [{\"line\": 2, \"event\": \"step_line\", \"func_name\": \"<module>\", \"globals\": {}, \"ordered_globals\": [], \"stack_to_render\": [], \"heap\": {}, \"stdout\": \"\"}, {\"line\": 3, \"event\": \"step_line\", \"func_name\": \"<module>\", \"globals\": {\"index\": 0}, \"ordered_globals\": [\"index\"], \"stack_to_render\": [], \"heap\": {}, \"stdout\": \"\"}, {\"line\": 2, \"event\": \"step_line\", \"func_name\": \"<module>\", \"globals\": {\"index\": 0}, \"ordered_globals\": [\"index\"], \"stack_to_render\": [], \"heap\": {}, \"stdout\": \"0\\n\"}, {\"line\": 3, \"event\": \"step_line\", \"func_name\": \"<module>\", \"globals\": {\"index\": 1}, \"ordered_globals\": [\"index\"], \"stack_to_render\": [], \"heap\": {}, \"stdout\": \"0\\n\"}, {\"line\": 2, \"event\": \"step_line\", \"func_name\": \"<module>\", \"globals\": {\"index\": 1}, \"ordered_globals\": [\"index\"], \"stack_to_render\": [], \"heap\": {}, \"stdout\": \"0\\n1\\n\"}, {\"line\": 3, \"event\": \"step_line\", \"func_name\": \"<module>\", \"globals\": {\"index\": 2}, \"ordered_globals\": [\"index\"], \"stack_to_render\": [], \"heap\": {}, \"stdout\": \"0\\n1\\n\"}, {\"line\": 2, \"event\": \"step_line\", \"func_name\": \"<module>\", \"globals\": {\"index\": 2}, \"ordered_globals\": [\"index\"], \"stack_to_render\": [], \"heap\": {}, \"stdout\": \"0\\n1\\n2\\n\"}, {\"line\": 3, \"event\": \"step_line\", \"func_name\": \"<module>\", \"globals\": {\"index\": 3}, \"ordered_globals\": [\"index\"], \"stack_to_render\": [], \"heap\": {}, \"stdout\": \"0\\n1\\n2\\n\"}, {\"line\": 2, \"event\": \"step_line\", \"func_name\": \"<module>\", \"globals\": {\"index\": 3}, \"ordered_globals\": [\"index\"], \"stack_to_render\": [], \"heap\": {}, \"stdout\": \"0\\n1\\n2\\n3\\n\"}, {\"line\": 3, \"event\": \"step_line\", \"func_name\": \"<module>\", \"globals\": {\"index\": 4}, \"ordered_globals\": [\"index\"], \"stack_to_render\": [], \"heap\": {}, \"stdout\": \"0\\n1\\n2\\n3\\n\"}, {\"line\": 2, \"event\": \"step_line\", \"func_name\": \"<module>\", \"globals\": {\"index\": 4}, \"ordered_globals\": [\"index\"], \"stack_to_render\": [], \"heap\": {}, \"stdout\": \"0\\n1\\n2\\n3\\n4\\n\"}, {\"line\": 3, \"event\": \"step_line\", \"func_name\": \"<module>\", \"globals\": {\"index\": 5}, \"ordered_globals\": [\"index\"], \"stack_to_render\": [], \"heap\": {}, \"stdout\": \"0\\n1\\n2\\n3\\n4\\n\"}, {\"line\": 2, \"event\": \"step_line\", \"func_name\": \"<module>\", \"globals\": {\"index\": 5}, \"ordered_globals\": [\"index\"], \"stack_to_render\": [], \"heap\": {}, \"stdout\": \"0\\n1\\n2\\n3\\n4\\n5\\n\"}, {\"line\": 2, \"event\": \"return\", \"func_name\": \"<module>\", \"globals\": {\"index\": 5}, \"ordered_globals\": [\"index\"], \"stack_to_render\": [], \"heap\": {}, \"stdout\": \"0\\n1\\n2\\n3\\n4\\n5\\n\"}]}\n",
       "        </script>\n",
       "        <div id=\"jm9630cbcd-018e-4443-b3d3-8c576d6a0a72\" class=\"pytutorVisualizer\"> </div>\n",
       " \n",
       "        <style>\n",
       "        .vizLayoutTd {\n",
       "            background-color: #fff !important;\n",
       "        }\n",
       "\n",
       "        #pyStdout {            \n",
       "            min-height:25px;\n",
       "        }\n",
       "\n",
       "        /* 'Edit this code' link, hiding because replaces browser tab !!!*/\n",
       "        #editCodeLinkDiv {\n",
       "            display:none;  \n",
       "        }\n",
       "        </style>   \n",
       "                            \n",
       "        <script>\n",
       "        (function(){\n",
       "\n",
       "            var trace = JSON.parse(document.getElementById('json-jm9630cbcd-018e-4443-b3d3-8c576d6a0a72').innerHTML);                                        \n",
       "            // NOTE 1: id without #\n",
       "            // NOTE 2 - maybe there are more predictable ways, but this will work anyway\n",
       "            //        - id should be number\n",
       "            visualizerIdOverride = Math.trunc(Math.random() * 100000000000)\n",
       "            addVisualizerToPage(trace, 'jm9630cbcd-018e-4443-b3d3-8c576d6a0a72',{'embeddedMode' : false,\n",
       "                                             'visualizerIdOverride':visualizerIdOverride})  \n",
       "            \n",
       "            \n",
       "            // set overflow for pytuts - need to do in python as css \n",
       "            // does not allow parent selection\n",
       "            var pytuts = $('.pytutorVisualizer')\n",
       "            pytuts.closest('div.output_html.rendered_html.output_result')\n",
       "                    .css('overflow-x', 'visible')\n",
       "        \n",
       "            //pytuts.closest('div.output_html.rendered_html.output_result')\n",
       "            //      .css('background-color','red')                \n",
       "            \n",
       "        })()\n",
       "        </script>\n",
       "                \n",
       "                "
      ],
      "text/plain": [
       "<IPython.core.display.HTML object>"
      ]
     },
     "execution_count": 92,
     "metadata": {},
     "output_type": "execute_result"
    }
   ],
   "source": [
    "for index in range(6):\n",
    "    print(index)\n",
    "\n",
    "jupman.pytut()"
   ]
  },
  {
   "cell_type": "markdown",
   "metadata": {
    "colab_type": "text",
    "id": "Z5jrBwStAFZQ"
   },
   "source": [
    "As an alternative to list our animals, we can use this style like so:"
   ]
  },
  {
   "cell_type": "code",
   "execution_count": 93,
   "metadata": {
    "colab": {
     "autoexec": {
      "startup": false,
      "wait_interval": 0
     },
     "base_uri": "https://localhost:8080/",
     "height": 121,
     "output_extras": [
      {
       "item_id": 1
      }
     ]
    },
    "colab_type": "code",
    "executionInfo": {
     "elapsed": 591,
     "status": "ok",
     "timestamp": 1519033207873,
     "user": {
      "displayName": "David Leoni",
      "photoUrl": "https://lh3.googleusercontent.com/a/default-user=s128",
      "userId": "102920557909426557439"
     },
     "user_tz": -60
    },
    "id": "u5UoFcHtAFZV",
    "outputId": "695b71fa-dff0-4787-c950-43d4872a55ae"
   },
   "outputs": [
    {
     "name": "stdout",
     "output_type": "stream",
     "text": [
      "In the list there are:\n",
      "dogs\n",
      "In the list there are:\n",
      "cats\n",
      "In the list there are:\n",
      "squirrels\n"
     ]
    }
   ],
   "source": [
    "animals = ['dogs', 'cats', 'squirrels', 'elks']\n",
    "\n",
    "for index in range(3):\n",
    "    print(\"In the list there are:\")\n",
    "    print(animals[index])"
   ]
  },
  {
   "cell_type": "markdown",
   "metadata": {},
   "source": [
    "Let's have a better look with Python tutor:"
   ]
  },
  {
   "cell_type": "code",
   "execution_count": 94,
   "metadata": {},
   "outputs": [
    {
     "name": "stdout",
     "output_type": "stream",
     "text": [
      "In the list there are:\n",
      "dogs\n",
      "In the list there are:\n",
      "cats\n",
      "In the list there are:\n",
      "squirrels\n"
     ]
    },
    {
     "data": {
      "text/html": [
       "\n",
       "        <script src=\"../_static/js/pytutor-embed.bundle.min.js\" type=\"application/javascript\"></script>\n",
       "     \n",
       "        <script id=\"json-jmcf5c4b7c-8e8b-431f-89e5-5930794f6456\" type=\"application/json\" >\n",
       "            {\"code\": \" \\nanimals = ['dogs', 'cats', 'squirrels', 'elks']\\n\\nfor index in range(3):\\n    print(\\\"In the list there are:\\\")\\n    print(animals[index])\", \"trace\": [{\"line\": 2, \"event\": \"step_line\", \"func_name\": \"<module>\", \"globals\": {}, \"ordered_globals\": [], \"stack_to_render\": [], \"heap\": {}, \"stdout\": \"\"}, {\"line\": 4, \"event\": \"step_line\", \"func_name\": \"<module>\", \"globals\": {\"animals\": [\"REF\", 1]}, \"ordered_globals\": [\"animals\"], \"stack_to_render\": [], \"heap\": {\"1\": [\"LIST\", \"dogs\", \"cats\", \"squirrels\", \"elks\"]}, \"stdout\": \"\"}, {\"line\": 5, \"event\": \"step_line\", \"func_name\": \"<module>\", \"globals\": {\"animals\": [\"REF\", 1], \"index\": 0}, \"ordered_globals\": [\"animals\", \"index\"], \"stack_to_render\": [], \"heap\": {\"1\": [\"LIST\", \"dogs\", \"cats\", \"squirrels\", \"elks\"]}, \"stdout\": \"\"}, {\"line\": 6, \"event\": \"step_line\", \"func_name\": \"<module>\", \"globals\": {\"animals\": [\"REF\", 1], \"index\": 0}, \"ordered_globals\": [\"animals\", \"index\"], \"stack_to_render\": [], \"heap\": {\"1\": [\"LIST\", \"dogs\", \"cats\", \"squirrels\", \"elks\"]}, \"stdout\": \"In the list there are:\\n\"}, {\"line\": 4, \"event\": \"step_line\", \"func_name\": \"<module>\", \"globals\": {\"animals\": [\"REF\", 1], \"index\": 0}, \"ordered_globals\": [\"animals\", \"index\"], \"stack_to_render\": [], \"heap\": {\"1\": [\"LIST\", \"dogs\", \"cats\", \"squirrels\", \"elks\"]}, \"stdout\": \"In the list there are:\\ndogs\\n\"}, {\"line\": 5, \"event\": \"step_line\", \"func_name\": \"<module>\", \"globals\": {\"animals\": [\"REF\", 1], \"index\": 1}, \"ordered_globals\": [\"animals\", \"index\"], \"stack_to_render\": [], \"heap\": {\"1\": [\"LIST\", \"dogs\", \"cats\", \"squirrels\", \"elks\"]}, \"stdout\": \"In the list there are:\\ndogs\\n\"}, {\"line\": 6, \"event\": \"step_line\", \"func_name\": \"<module>\", \"globals\": {\"animals\": [\"REF\", 1], \"index\": 1}, \"ordered_globals\": [\"animals\", \"index\"], \"stack_to_render\": [], \"heap\": {\"1\": [\"LIST\", \"dogs\", \"cats\", \"squirrels\", \"elks\"]}, \"stdout\": \"In the list there are:\\ndogs\\nIn the list there are:\\n\"}, {\"line\": 4, \"event\": \"step_line\", \"func_name\": \"<module>\", \"globals\": {\"animals\": [\"REF\", 1], \"index\": 1}, \"ordered_globals\": [\"animals\", \"index\"], \"stack_to_render\": [], \"heap\": {\"1\": [\"LIST\", \"dogs\", \"cats\", \"squirrels\", \"elks\"]}, \"stdout\": \"In the list there are:\\ndogs\\nIn the list there are:\\ncats\\n\"}, {\"line\": 5, \"event\": \"step_line\", \"func_name\": \"<module>\", \"globals\": {\"animals\": [\"REF\", 1], \"index\": 2}, \"ordered_globals\": [\"animals\", \"index\"], \"stack_to_render\": [], \"heap\": {\"1\": [\"LIST\", \"dogs\", \"cats\", \"squirrels\", \"elks\"]}, \"stdout\": \"In the list there are:\\ndogs\\nIn the list there are:\\ncats\\n\"}, {\"line\": 6, \"event\": \"step_line\", \"func_name\": \"<module>\", \"globals\": {\"animals\": [\"REF\", 1], \"index\": 2}, \"ordered_globals\": [\"animals\", \"index\"], \"stack_to_render\": [], \"heap\": {\"1\": [\"LIST\", \"dogs\", \"cats\", \"squirrels\", \"elks\"]}, \"stdout\": \"In the list there are:\\ndogs\\nIn the list there are:\\ncats\\nIn the list there are:\\n\"}, {\"line\": 4, \"event\": \"step_line\", \"func_name\": \"<module>\", \"globals\": {\"animals\": [\"REF\", 1], \"index\": 2}, \"ordered_globals\": [\"animals\", \"index\"], \"stack_to_render\": [], \"heap\": {\"1\": [\"LIST\", \"dogs\", \"cats\", \"squirrels\", \"elks\"]}, \"stdout\": \"In the list there are:\\ndogs\\nIn the list there are:\\ncats\\nIn the list there are:\\nsquirrels\\n\"}, {\"line\": 4, \"event\": \"return\", \"func_name\": \"<module>\", \"globals\": {\"animals\": [\"REF\", 1], \"index\": 2}, \"ordered_globals\": [\"animals\", \"index\"], \"stack_to_render\": [], \"heap\": {\"1\": [\"LIST\", \"dogs\", \"cats\", \"squirrels\", \"elks\"]}, \"stdout\": \"In the list there are:\\ndogs\\nIn the list there are:\\ncats\\nIn the list there are:\\nsquirrels\\n\"}]}\n",
       "        </script>\n",
       "        <div id=\"jmcf5c4b7c-8e8b-431f-89e5-5930794f6456\" class=\"pytutorVisualizer\"> </div>\n",
       " \n",
       "        <style>\n",
       "        .vizLayoutTd {\n",
       "            background-color: #fff !important;\n",
       "        }\n",
       "\n",
       "        #pyStdout {            \n",
       "            min-height:25px;\n",
       "        }\n",
       "\n",
       "        /* 'Edit this code' link, hiding because replaces browser tab !!!*/\n",
       "        #editCodeLinkDiv {\n",
       "            display:none;  \n",
       "        }\n",
       "        </style>   \n",
       "                            \n",
       "        <script>\n",
       "        (function(){\n",
       "\n",
       "            var trace = JSON.parse(document.getElementById('json-jmcf5c4b7c-8e8b-431f-89e5-5930794f6456').innerHTML);                                        \n",
       "            // NOTE 1: id without #\n",
       "            // NOTE 2 - maybe there are more predictable ways, but this will work anyway\n",
       "            //        - id should be number\n",
       "            visualizerIdOverride = Math.trunc(Math.random() * 100000000000)\n",
       "            addVisualizerToPage(trace, 'jmcf5c4b7c-8e8b-431f-89e5-5930794f6456',{'embeddedMode' : false,\n",
       "                                             'visualizerIdOverride':visualizerIdOverride})  \n",
       "            \n",
       "            \n",
       "            // set overflow for pytuts - need to do in python as css \n",
       "            // does not allow parent selection\n",
       "            var pytuts = $('.pytutorVisualizer')\n",
       "            pytuts.closest('div.output_html.rendered_html.output_result')\n",
       "                    .css('overflow-x', 'visible')\n",
       "        \n",
       "            //pytuts.closest('div.output_html.rendered_html.output_result')\n",
       "            //      .css('background-color','red')                \n",
       "            \n",
       "        })()\n",
       "        </script>\n",
       "                \n",
       "                "
      ],
      "text/plain": [
       "<IPython.core.display.HTML object>"
      ]
     },
     "execution_count": 94,
     "metadata": {},
     "output_type": "execute_result"
    }
   ],
   "source": [
    "animals = ['dogs', 'cats', 'squirrels', 'elks']\n",
    "\n",
    "for index in range(3):\n",
    "    print(\"In the list there are:\")\n",
    "    print(animals[index])\n",
    "    \n",
    "jupman.pytut()    "
   ]
  },
  {
   "cell_type": "markdown",
   "metadata": {
    "colab_type": "text",
    "id": "BeFkQO8VH16f"
   },
   "source": [
    "## Functions\n",
    "\n",
    "A function takes some parameters and uses them to produce or report some result.\n",
    "\n",
    "**References**\n",
    "\n",
    "- [SoftPython - Functions](https://en.softpython.org/#functions)\n",
    "\n",
    "To define a function, we can use the keyword `def`:"
   ]
  },
  {
   "cell_type": "code",
   "execution_count": 95,
   "metadata": {
    "colab": {
     "autoexec": {
      "startup": false,
      "wait_interval": 0
     }
    },
    "colab_type": "code",
    "id": "JHBncVarIG0a"
   },
   "outputs": [],
   "source": [
    "def my_print(x,y):   # REMEMBER THE COLON AT THE END OF THE ROW !!!\n",
    "    print('We will now print the sum of two numbers')\n",
    "    print('The sum is %s' % (x + y))"
   ]
  },
  {
   "cell_type": "markdown",
   "metadata": {
    "colab_type": "text",
    "id": "4qODhc9qIQVZ"
   },
   "source": [
    "We can call the function like this:"
   ]
  },
  {
   "cell_type": "code",
   "execution_count": 96,
   "metadata": {
    "colab": {
     "autoexec": {
      "startup": false,
      "wait_interval": 0
     },
     "base_uri": "https://localhost:8080/",
     "height": 52,
     "output_extras": [
      {
       "item_id": 1
      }
     ]
    },
    "colab_type": "code",
    "executionInfo": {
     "elapsed": 477,
     "status": "ok",
     "timestamp": 1519045245334,
     "user": {
      "displayName": "David Leoni",
      "photoUrl": "https://lh3.googleusercontent.com/a/default-user=s128",
      "userId": "102920557909426557439"
     },
     "user_tz": -60
    },
    "id": "I0xzUz41IIpG",
    "outputId": "91e139d0-6249-41a4-d6d8-de59ab9c00ba"
   },
   "outputs": [
    {
     "name": "stdout",
     "output_type": "stream",
     "text": [
      "We will now print the sum of two numbers\n",
      "The sum is 8\n"
     ]
    }
   ],
   "source": [
    "my_print(3,5)"
   ]
  },
  {
   "cell_type": "markdown",
   "metadata": {},
   "source": [
    "Let's have a better look with Python Tutor:"
   ]
  },
  {
   "cell_type": "code",
   "execution_count": 97,
   "metadata": {},
   "outputs": [
    {
     "name": "stdout",
     "output_type": "stream",
     "text": [
      "We will now print the sum of two numbers\n",
      "The sum is 8\n"
     ]
    },
    {
     "data": {
      "text/html": [
       "\n",
       "        <script src=\"../_static/js/pytutor-embed.bundle.min.js\" type=\"application/javascript\"></script>\n",
       "     \n",
       "        <script id=\"json-jm74d4ab4a-e7f3-4bbd-8159-0cb2f720f107\" type=\"application/json\" >\n",
       "            {\"code\": \" \\ndef my_print(x,y):   # REMEMBER THE COLON AT THE END OF THE ROW !!!\\n    print('We will now print the sum of two numbers')\\n    print('The sum is %s' % (x + y))\\n\\nmy_print(3,5)\", \"trace\": [{\"line\": 2, \"event\": \"step_line\", \"func_name\": \"<module>\", \"globals\": {}, \"ordered_globals\": [], \"stack_to_render\": [], \"heap\": {}, \"stdout\": \"\"}, {\"line\": 6, \"event\": \"step_line\", \"func_name\": \"<module>\", \"globals\": {\"my_print\": [\"REF\", 1]}, \"ordered_globals\": [\"my_print\"], \"stack_to_render\": [], \"heap\": {\"1\": [\"FUNCTION\", \"my_print(x, y)\", null]}, \"stdout\": \"\"}, {\"line\": 2, \"event\": \"call\", \"func_name\": \"my_print\", \"globals\": {\"my_print\": [\"REF\", 1]}, \"ordered_globals\": [\"my_print\"], \"stack_to_render\": [{\"func_name\": \"my_print\", \"is_parent\": false, \"frame_id\": 1, \"parent_frame_id_list\": [], \"encoded_locals\": {\"x\": 3, \"y\": 5}, \"ordered_varnames\": [\"x\", \"y\"], \"is_zombie\": false, \"is_highlighted\": true, \"unique_hash\": \"my_print_f1\"}], \"heap\": {\"1\": [\"FUNCTION\", \"my_print(x, y)\", null]}, \"stdout\": \"\"}, {\"line\": 3, \"event\": \"step_line\", \"func_name\": \"my_print\", \"globals\": {\"my_print\": [\"REF\", 1]}, \"ordered_globals\": [\"my_print\"], \"stack_to_render\": [{\"func_name\": \"my_print\", \"is_parent\": false, \"frame_id\": 1, \"parent_frame_id_list\": [], \"encoded_locals\": {\"x\": 3, \"y\": 5}, \"ordered_varnames\": [\"x\", \"y\"], \"is_zombie\": false, \"is_highlighted\": true, \"unique_hash\": \"my_print_f1\"}], \"heap\": {\"1\": [\"FUNCTION\", \"my_print(x, y)\", null]}, \"stdout\": \"\"}, {\"line\": 4, \"event\": \"step_line\", \"func_name\": \"my_print\", \"globals\": {\"my_print\": [\"REF\", 1]}, \"ordered_globals\": [\"my_print\"], \"stack_to_render\": [{\"func_name\": \"my_print\", \"is_parent\": false, \"frame_id\": 1, \"parent_frame_id_list\": [], \"encoded_locals\": {\"x\": 3, \"y\": 5}, \"ordered_varnames\": [\"x\", \"y\"], \"is_zombie\": false, \"is_highlighted\": true, \"unique_hash\": \"my_print_f1\"}], \"heap\": {\"1\": [\"FUNCTION\", \"my_print(x, y)\", null]}, \"stdout\": \"We will now print the sum of two numbers\\n\"}, {\"line\": 4, \"event\": \"return\", \"func_name\": \"my_print\", \"globals\": {\"my_print\": [\"REF\", 1]}, \"ordered_globals\": [\"my_print\"], \"stack_to_render\": [{\"func_name\": \"my_print\", \"is_parent\": false, \"frame_id\": 1, \"parent_frame_id_list\": [], \"encoded_locals\": {\"x\": 3, \"y\": 5, \"__return__\": null}, \"ordered_varnames\": [\"x\", \"y\", \"__return__\"], \"is_zombie\": false, \"is_highlighted\": true, \"unique_hash\": \"my_print_f1\"}], \"heap\": {\"1\": [\"FUNCTION\", \"my_print(x, y)\", null]}, \"stdout\": \"We will now print the sum of two numbers\\nThe sum is 8\\n\"}, {\"line\": 6, \"event\": \"return\", \"func_name\": \"<module>\", \"globals\": {\"my_print\": [\"REF\", 1]}, \"ordered_globals\": [\"my_print\"], \"stack_to_render\": [], \"heap\": {\"1\": [\"FUNCTION\", \"my_print(x, y)\", null]}, \"stdout\": \"We will now print the sum of two numbers\\nThe sum is 8\\n\"}]}\n",
       "        </script>\n",
       "        <div id=\"jm74d4ab4a-e7f3-4bbd-8159-0cb2f720f107\" class=\"pytutorVisualizer\"> </div>\n",
       " \n",
       "        <style>\n",
       "        .vizLayoutTd {\n",
       "            background-color: #fff !important;\n",
       "        }\n",
       "\n",
       "        #pyStdout {            \n",
       "            min-height:25px;\n",
       "        }\n",
       "\n",
       "        /* 'Edit this code' link, hiding because replaces browser tab !!!*/\n",
       "        #editCodeLinkDiv {\n",
       "            display:none;  \n",
       "        }\n",
       "        </style>   \n",
       "                            \n",
       "        <script>\n",
       "        (function(){\n",
       "\n",
       "            var trace = JSON.parse(document.getElementById('json-jm74d4ab4a-e7f3-4bbd-8159-0cb2f720f107').innerHTML);                                        \n",
       "            // NOTE 1: id without #\n",
       "            // NOTE 2 - maybe there are more predictable ways, but this will work anyway\n",
       "            //        - id should be number\n",
       "            visualizerIdOverride = Math.trunc(Math.random() * 100000000000)\n",
       "            addVisualizerToPage(trace, 'jm74d4ab4a-e7f3-4bbd-8159-0cb2f720f107',{'embeddedMode' : false,\n",
       "                                             'visualizerIdOverride':visualizerIdOverride})  \n",
       "            \n",
       "            \n",
       "            // set overflow for pytuts - need to do in python as css \n",
       "            // does not allow parent selection\n",
       "            var pytuts = $('.pytutorVisualizer')\n",
       "            pytuts.closest('div.output_html.rendered_html.output_result')\n",
       "                    .css('overflow-x', 'visible')\n",
       "        \n",
       "            //pytuts.closest('div.output_html.rendered_html.output_result')\n",
       "            //      .css('background-color','red')                \n",
       "            \n",
       "        })()\n",
       "        </script>\n",
       "                \n",
       "                "
      ],
      "text/plain": [
       "<IPython.core.display.HTML object>"
      ]
     },
     "execution_count": 97,
     "metadata": {},
     "output_type": "execute_result"
    }
   ],
   "source": [
    "def my_print(x,y):   # REMEMBER THE COLON AT THE END OF THE ROW !!!\n",
    "    print('We will now print the sum of two numbers')\n",
    "    print('The sum is %s' % (x + y))\n",
    "\n",
    "my_print(3,5)\n",
    "\n",
    "jupman.pytut()"
   ]
  },
  {
   "cell_type": "markdown",
   "metadata": {
    "colab_type": "text",
    "id": "TNftj3qzJWgv"
   },
   "source": [
    "The function we just declared prints some values, but returns nothing. To have a function which actually retuns a value, we must use the keyword `return`."
   ]
  },
  {
   "cell_type": "code",
   "execution_count": 98,
   "metadata": {
    "colab": {
     "autoexec": {
      "startup": false,
      "wait_interval": 0
     }
    },
    "colab_type": "code",
    "id": "FN9Ek84QIZdK"
   },
   "outputs": [],
   "source": [
    "def my_sum(x,y):\n",
    "    s = x + y\n",
    "    return s"
   ]
  },
  {
   "cell_type": "code",
   "execution_count": 99,
   "metadata": {
    "colab": {
     "autoexec": {
      "startup": false,
      "wait_interval": 0
     },
     "base_uri": "https://localhost:8080/",
     "height": 34,
     "output_extras": [
      {
       "item_id": 1
      }
     ]
    },
    "colab_type": "code",
    "executionInfo": {
     "elapsed": 488,
     "status": "ok",
     "timestamp": 1519045262248,
     "user": {
      "displayName": "David Leoni",
      "photoUrl": "https://lh3.googleusercontent.com/a/default-user=s128",
      "userId": "102920557909426557439"
     },
     "user_tz": -60
    },
    "id": "vGaE6W6bIOn3",
    "outputId": "6bac1cdf-285a-41ea-d335-6703e1ee9cff"
   },
   "outputs": [
    {
     "data": {
      "text/plain": [
       "8"
      ]
     },
     "execution_count": 99,
     "metadata": {},
     "output_type": "execute_result"
    }
   ],
   "source": [
    "my_sum(3,5)"
   ]
  },
  {
   "cell_type": "code",
   "execution_count": 100,
   "metadata": {},
   "outputs": [
    {
     "name": "stdout",
     "output_type": "stream",
     "text": [
      "8\n"
     ]
    },
    {
     "data": {
      "text/html": [
       "\n",
       "        <script src=\"../_static/js/pytutor-embed.bundle.min.js\" type=\"application/javascript\"></script>\n",
       "     \n",
       "        <script id=\"json-jm8ae121f6-ab2d-45cf-95ca-f1ab3b8d3dda\" type=\"application/json\" >\n",
       "            {\"code\": \" \\n# Let's have a better look with Python Tutor:\\n\\ndef my_sum(x,y):\\n    s = x + y\\n    return s\\n\\nprint(my_sum(3,5))\", \"trace\": [{\"line\": 4, \"event\": \"step_line\", \"func_name\": \"<module>\", \"globals\": {}, \"ordered_globals\": [], \"stack_to_render\": [], \"heap\": {}, \"stdout\": \"\"}, {\"line\": 8, \"event\": \"step_line\", \"func_name\": \"<module>\", \"globals\": {\"my_sum\": [\"REF\", 1]}, \"ordered_globals\": [\"my_sum\"], \"stack_to_render\": [], \"heap\": {\"1\": [\"FUNCTION\", \"my_sum(x, y)\", null]}, \"stdout\": \"\"}, {\"line\": 4, \"event\": \"call\", \"func_name\": \"my_sum\", \"globals\": {\"my_sum\": [\"REF\", 1]}, \"ordered_globals\": [\"my_sum\"], \"stack_to_render\": [{\"func_name\": \"my_sum\", \"is_parent\": false, \"frame_id\": 1, \"parent_frame_id_list\": [], \"encoded_locals\": {\"x\": 3, \"y\": 5}, \"ordered_varnames\": [\"x\", \"y\"], \"is_zombie\": false, \"is_highlighted\": true, \"unique_hash\": \"my_sum_f1\"}], \"heap\": {\"1\": [\"FUNCTION\", \"my_sum(x, y)\", null]}, \"stdout\": \"\"}, {\"line\": 5, \"event\": \"step_line\", \"func_name\": \"my_sum\", \"globals\": {\"my_sum\": [\"REF\", 1]}, \"ordered_globals\": [\"my_sum\"], \"stack_to_render\": [{\"func_name\": \"my_sum\", \"is_parent\": false, \"frame_id\": 1, \"parent_frame_id_list\": [], \"encoded_locals\": {\"x\": 3, \"y\": 5}, \"ordered_varnames\": [\"x\", \"y\"], \"is_zombie\": false, \"is_highlighted\": true, \"unique_hash\": \"my_sum_f1\"}], \"heap\": {\"1\": [\"FUNCTION\", \"my_sum(x, y)\", null]}, \"stdout\": \"\"}, {\"line\": 6, \"event\": \"step_line\", \"func_name\": \"my_sum\", \"globals\": {\"my_sum\": [\"REF\", 1]}, \"ordered_globals\": [\"my_sum\"], \"stack_to_render\": [{\"func_name\": \"my_sum\", \"is_parent\": false, \"frame_id\": 1, \"parent_frame_id_list\": [], \"encoded_locals\": {\"x\": 3, \"y\": 5, \"s\": 8}, \"ordered_varnames\": [\"x\", \"y\", \"s\"], \"is_zombie\": false, \"is_highlighted\": true, \"unique_hash\": \"my_sum_f1\"}], \"heap\": {\"1\": [\"FUNCTION\", \"my_sum(x, y)\", null]}, \"stdout\": \"\"}, {\"line\": 6, \"event\": \"return\", \"func_name\": \"my_sum\", \"globals\": {\"my_sum\": [\"REF\", 1]}, \"ordered_globals\": [\"my_sum\"], \"stack_to_render\": [{\"func_name\": \"my_sum\", \"is_parent\": false, \"frame_id\": 1, \"parent_frame_id_list\": [], \"encoded_locals\": {\"x\": 3, \"y\": 5, \"s\": 8, \"__return__\": 8}, \"ordered_varnames\": [\"x\", \"y\", \"s\", \"__return__\"], \"is_zombie\": false, \"is_highlighted\": true, \"unique_hash\": \"my_sum_f1\"}], \"heap\": {\"1\": [\"FUNCTION\", \"my_sum(x, y)\", null]}, \"stdout\": \"\"}, {\"line\": 8, \"event\": \"return\", \"func_name\": \"<module>\", \"globals\": {\"my_sum\": [\"REF\", 1]}, \"ordered_globals\": [\"my_sum\"], \"stack_to_render\": [], \"heap\": {\"1\": [\"FUNCTION\", \"my_sum(x, y)\", null]}, \"stdout\": \"8\\n\"}]}\n",
       "        </script>\n",
       "        <div id=\"jm8ae121f6-ab2d-45cf-95ca-f1ab3b8d3dda\" class=\"pytutorVisualizer\"> </div>\n",
       " \n",
       "        <style>\n",
       "        .vizLayoutTd {\n",
       "            background-color: #fff !important;\n",
       "        }\n",
       "\n",
       "        #pyStdout {            \n",
       "            min-height:25px;\n",
       "        }\n",
       "\n",
       "        /* 'Edit this code' link, hiding because replaces browser tab !!!*/\n",
       "        #editCodeLinkDiv {\n",
       "            display:none;  \n",
       "        }\n",
       "        </style>   \n",
       "                            \n",
       "        <script>\n",
       "        (function(){\n",
       "\n",
       "            var trace = JSON.parse(document.getElementById('json-jm8ae121f6-ab2d-45cf-95ca-f1ab3b8d3dda').innerHTML);                                        \n",
       "            // NOTE 1: id without #\n",
       "            // NOTE 2 - maybe there are more predictable ways, but this will work anyway\n",
       "            //        - id should be number\n",
       "            visualizerIdOverride = Math.trunc(Math.random() * 100000000000)\n",
       "            addVisualizerToPage(trace, 'jm8ae121f6-ab2d-45cf-95ca-f1ab3b8d3dda',{'embeddedMode' : false,\n",
       "                                             'visualizerIdOverride':visualizerIdOverride})  \n",
       "            \n",
       "            \n",
       "            // set overflow for pytuts - need to do in python as css \n",
       "            // does not allow parent selection\n",
       "            var pytuts = $('.pytutorVisualizer')\n",
       "            pytuts.closest('div.output_html.rendered_html.output_result')\n",
       "                    .css('overflow-x', 'visible')\n",
       "        \n",
       "            //pytuts.closest('div.output_html.rendered_html.output_result')\n",
       "            //      .css('background-color','red')                \n",
       "            \n",
       "        })()\n",
       "        </script>\n",
       "                \n",
       "                "
      ],
      "text/plain": [
       "<IPython.core.display.HTML object>"
      ]
     },
     "execution_count": 100,
     "metadata": {},
     "output_type": "execute_result"
    }
   ],
   "source": [
    "# Let's have a better look with Python Tutor:\n",
    "\n",
    "def my_sum(x,y):\n",
    "    s = x + y\n",
    "    return s\n",
    "\n",
    "print(my_sum(3,5))\n",
    "\n",
    "jupman.pytut()"
   ]
  },
  {
   "cell_type": "markdown",
   "metadata": {
    "colab_type": "text",
    "id": "ctEd5oqiJ5Pn"
   },
   "source": [
    "**✪ EXERCISE**: If we try to assign to a variable `x` the return value of the function `my_print` which apparently returns nothing, what value will go into `x`? Try to understand it down here:"
   ]
  },
  {
   "cell_type": "code",
   "execution_count": 101,
   "metadata": {
    "colab": {
     "autoexec": {
      "startup": false,
      "wait_interval": 0
     }
    },
    "colab_type": "code",
    "id": "Wdy1FRAcKH0i"
   },
   "outputs": [],
   "source": [
    "# write here\n"
   ]
  },
  {
   "cell_type": "markdown",
   "metadata": {
    "colab_type": "text",
    "id": "zP0UHumoKreN"
   },
   "source": [
    "**✪ EXERCISE**: Write down here a function `average` which calculates and return the average of two input numbers x and y."
   ]
  },
  {
   "cell_type": "raw",
   "id": "3cdd6f3e",
   "metadata": {
    "format": "text/html"
   },
   "source": [
    "<a  class=\"jupman-sol jupman-sol-toggler\" \n",
    " onclick=\"jupman.toggleSolution(this);\" \n",
    " data-jupman-show=\"Show solution\" data-jupman-hide=\"Hide\">Show solution</a><div class=\"jupman-sol jupman-sol-code\" style=\"display:none\">  "
   ]
  },
  {
   "cell_type": "code",
   "execution_count": 102,
   "metadata": {
    "colab": {
     "autoexec": {
      "startup": false,
      "wait_interval": 0
     }
    },
    "colab_type": "code",
    "id": "Wl2MS0-1K0ug"
   },
   "outputs": [],
   "source": [
    "# write here\n",
    "\n",
    "def average(x, y):\n",
    "    return (x + y) / 2"
   ]
  },
  {
   "cell_type": "raw",
   "id": "44ffd2a7",
   "metadata": {
    "format": "text/html"
   },
   "source": [
    "</div>"
   ]
  },
  {
   "cell_type": "code",
   "execution_count": 102,
   "metadata": {
    "colab": {
     "autoexec": {
      "startup": false,
      "wait_interval": 0
     }
    },
    "colab_type": "code",
    "id": "Wl2MS0-1K0ug"
   },
   "outputs": [],
   "source": [
    "# write here\n",
    "\n"
   ]
  },
  {
   "cell_type": "markdown",
   "metadata": {
    "colab_type": "text",
    "id": "2nMcWnwHLQte"
   },
   "source": [
    "**✪✪ EXERCISE**: Write down here a function called `startb` which takes a string `x` as input. If the string begins with the letter `'b'`, for example `'bank'` the function prints the writing `bank begins with b`, otherwise prints it doesn't.\n",
    "\n",
    "* To check whether the first character equals `'b'`, use the operator `==` (WARNING: it's DOUBLE equal!)\n",
    "* Do you envisage any problem if the string is empty? How could you solve them? (to separate more conditions in the `if`, use either the `and` / `or` operators according to the way you built the `if`)."
   ]
  },
  {
   "cell_type": "raw",
   "id": "69baa992",
   "metadata": {
    "format": "text/html"
   },
   "source": [
    "<a  class=\"jupman-sol jupman-sol-toggler\" \n",
    " onclick=\"jupman.toggleSolution(this);\" \n",
    " data-jupman-show=\"Show solution\" data-jupman-hide=\"Hide\">Show solution</a><div class=\"jupman-sol jupman-sol-code\" style=\"display:none\">  "
   ]
  },
  {
   "cell_type": "code",
   "execution_count": 103,
   "metadata": {
    "colab": {
     "autoexec": {
      "startup": false,
      "wait_interval": 0
     }
    },
    "colab_type": "code",
    "id": "2-rCBLAYMA3Y"
   },
   "outputs": [
    {
     "name": "stdout",
     "output_type": "stream",
     "text": [
      "bank starts with b\n",
      "volley doesn't start with b\n",
      " doesn't start with b\n"
     ]
    }
   ],
   "source": [
    "# write here\n",
    "\n",
    "def startb(x):\n",
    "    if len(x) != 0 and x[0] == 'b':\n",
    "        print(x + ' starts with b')\n",
    "    else:\n",
    "        print(x + \" doesn't start with b\")\n",
    "    \n",
    "startb('bank')      \n",
    "startb('volley')    \n",
    "startb('')"
   ]
  },
  {
   "cell_type": "raw",
   "id": "8bf193b9",
   "metadata": {
    "format": "text/html"
   },
   "source": [
    "</div>"
   ]
  },
  {
   "cell_type": "code",
   "execution_count": 103,
   "metadata": {
    "colab": {
     "autoexec": {
      "startup": false,
      "wait_interval": 0
     }
    },
    "colab_type": "code",
    "id": "2-rCBLAYMA3Y"
   },
   "outputs": [
    {
     "name": "stdout",
     "output_type": "stream",
     "text": [
      "bank starts with b\n",
      "volley doesn't start with b\n",
      " doesn't start with b\n"
     ]
    }
   ],
   "source": [
    "# write here\n",
    "\n"
   ]
  },
  {
   "cell_type": "markdown",
   "metadata": {
    "colab_type": "text",
    "id": "4X1oP2z2Nz4z"
   },
   "source": [
    "### Lambda functions\n",
    "\n",
    "Python allows a variable to contain a function. For example, we know that `len(\"ciao\")` gives us the length of the string `\"ciao\"`"
   ]
  },
  {
   "cell_type": "code",
   "execution_count": 104,
   "metadata": {
    "colab": {
     "autoexec": {
      "startup": false,
      "wait_interval": 0
     },
     "base_uri": "https://localhost:8080/",
     "height": 34,
     "output_extras": [
      {
       "item_id": 1
      }
     ]
    },
    "colab_type": "code",
    "executionInfo": {
     "elapsed": 500,
     "status": "ok",
     "timestamp": 1519046536040,
     "user": {
      "displayName": "David Leoni",
      "photoUrl": "https://lh3.googleusercontent.com/a/default-user=s128",
      "userId": "102920557909426557439"
     },
     "user_tz": -60
    },
    "id": "El31mlUNOoRX",
    "outputId": "24ca6750-254e-4062-f24a-6850eb7af742"
   },
   "outputs": [
    {
     "data": {
      "text/plain": [
       "4"
      ]
     },
     "execution_count": 104,
     "metadata": {},
     "output_type": "execute_result"
    }
   ],
   "source": [
    "len(\"ciao\")"
   ]
  },
  {
   "cell_type": "markdown",
   "metadata": {
    "colab_type": "text",
    "id": "ENEMhfSiOrUM"
   },
   "source": [
    "Let's try creating a variable `my_variable` which points to the function `len`."
   ]
  },
  {
   "cell_type": "code",
   "execution_count": 105,
   "metadata": {
    "colab": {
     "autoexec": {
      "startup": false,
      "wait_interval": 0
     }
    },
    "colab_type": "code",
    "id": "6S-wDPTYOJUO"
   },
   "outputs": [],
   "source": [
    "my_variable = len"
   ]
  },
  {
   "cell_type": "markdown",
   "metadata": {
    "colab_type": "text",
    "id": "PX1hxxoOOUJg"
   },
   "source": [
    "**NOTE**: we _didn't_ add parameters to `len`!\n",
    "\n",
    "Now we can use `my_variable` exactly like we use the function `len`, which gives us the length of sequences like strings:"
   ]
  },
  {
   "cell_type": "code",
   "execution_count": 106,
   "metadata": {
    "colab": {
     "autoexec": {
      "startup": false,
      "wait_interval": 0
     },
     "base_uri": "https://localhost:8080/",
     "height": 34,
     "output_extras": [
      {
       "item_id": 1
      }
     ]
    },
    "colab_type": "code",
    "executionInfo": {
     "elapsed": 649,
     "status": "ok",
     "timestamp": 1519046587953,
     "user": {
      "displayName": "David Leoni",
      "photoUrl": "https://lh3.googleusercontent.com/a/default-user=s128",
      "userId": "102920557909426557439"
     },
     "user_tz": -60
    },
    "id": "Lh6V_SAeOS3O",
    "outputId": "efd81d20-9aa9-40b4-8540-ac5d6f45ea6d"
   },
   "outputs": [
    {
     "data": {
      "text/plain": [
       "4"
      ]
     },
     "execution_count": 106,
     "metadata": {},
     "output_type": "execute_result"
    }
   ],
   "source": [
    "my_variable(\"ciao\")"
   ]
  },
  {
   "cell_type": "markdown",
   "metadata": {
    "colab": {
     "autoexec": {
      "startup": false,
      "wait_interval": 0
     }
    },
    "colab_type": "code",
    "id": "DN4BJnksO3He"
   },
   "source": [
    "We can also reassign `my_variable` to other functions, for example `sorted`. Let's see what happens:"
   ]
  },
  {
   "cell_type": "code",
   "execution_count": 107,
   "metadata": {
    "colab": {
     "autoexec": {
      "startup": false,
      "wait_interval": 0
     }
    },
    "colab_type": "code",
    "id": "39ad-1FIOKPB"
   },
   "outputs": [],
   "source": [
    "my_variable = sorted"
   ]
  },
  {
   "cell_type": "markdown",
   "metadata": {
    "colab_type": "text",
    "id": "fIb3WcLyPCx_"
   },
   "source": [
    "by calling `my_variable`, we expect to see the characters of `\"ciao\"` in alphabetical order:"
   ]
  },
  {
   "cell_type": "code",
   "execution_count": 108,
   "metadata": {
    "colab": {
     "autoexec": {
      "startup": false,
      "wait_interval": 0
     },
     "base_uri": "https://localhost:8080/",
     "height": 34,
     "output_extras": [
      {
       "item_id": 1
      }
     ]
    },
    "colab_type": "code",
    "executionInfo": {
     "elapsed": 494,
     "status": "ok",
     "timestamp": 1519047027841,
     "user": {
      "displayName": "David Leoni",
      "photoUrl": "https://lh3.googleusercontent.com/a/default-user=s128",
      "userId": "102920557909426557439"
     },
     "user_tz": -60
    },
    "id": "PmR_4VeMPK9L",
    "outputId": "125162e5-a0a0-4c52-9728-4c04fe539fd1"
   },
   "outputs": [
    {
     "data": {
      "text/plain": [
       "['a', 'c', 'i', 'o']"
      ]
     },
     "execution_count": 108,
     "metadata": {},
     "output_type": "execute_result"
    }
   ],
   "source": [
    "my_variable(\"ciao\")"
   ]
  },
  {
   "cell_type": "markdown",
   "metadata": {
    "colab_type": "text",
    "id": "Q3CoQlvZPWTG"
   },
   "source": [
    "In Python we can define functions in one row with the so-called _lambda functions_:"
   ]
  },
  {
   "cell_type": "code",
   "execution_count": 109,
   "metadata": {
    "colab": {
     "autoexec": {
      "startup": false,
      "wait_interval": 0
     }
    },
    "colab_type": "code",
    "id": "uXGgflBePBlW"
   },
   "outputs": [],
   "source": [
    "my_f = lambda x: x + 1"
   ]
  },
  {
   "cell_type": "markdown",
   "metadata": {
    "colab_type": "text",
    "id": "tdpFbGTsPcZb"
   },
   "source": [
    "What is the `my_f` ? It takes a parameter `x` and returns the result of calculating the expression `x + 1`:"
   ]
  },
  {
   "cell_type": "code",
   "execution_count": 110,
   "metadata": {
    "colab": {
     "autoexec": {
      "startup": false,
      "wait_interval": 0
     },
     "base_uri": "https://localhost:8080/",
     "height": 34,
     "output_extras": [
      {
       "item_id": 1
      }
     ]
    },
    "colab_type": "code",
    "executionInfo": {
     "elapsed": 496,
     "status": "ok",
     "timestamp": 1519047256022,
     "user": {
      "displayName": "David Leoni",
      "photoUrl": "https://lh3.googleusercontent.com/a/default-user=s128",
      "userId": "102920557909426557439"
     },
     "user_tz": -60
    },
    "id": "5wJ9R1oJPj8L",
    "outputId": "91aeee26-af36-4dfe-b34e-f149a91dbce2"
   },
   "outputs": [
    {
     "data": {
      "text/plain": [
       "6"
      ]
     },
     "execution_count": 110,
     "metadata": {},
     "output_type": "execute_result"
    }
   ],
   "source": [
    "my_f(5)"
   ]
  },
  {
   "cell_type": "markdown",
   "metadata": {
    "colab_type": "text",
    "id": "sWYLGHWJP0MY"
   },
   "source": [
    "We can also pass two parameters:"
   ]
  },
  {
   "cell_type": "code",
   "execution_count": 111,
   "metadata": {
    "colab": {
     "autoexec": {
      "startup": false,
      "wait_interval": 0
     }
    },
    "colab_type": "code",
    "id": "mazLpnywPaDz"
   },
   "outputs": [],
   "source": [
    "my_sum = lambda x,y: x + y"
   ]
  },
  {
   "cell_type": "code",
   "execution_count": 112,
   "metadata": {
    "colab": {
     "autoexec": {
      "startup": false,
      "wait_interval": 0
     },
     "base_uri": "https://localhost:8080/",
     "height": 34,
     "output_extras": [
      {
       "item_id": 1
      }
     ]
    },
    "colab_type": "code",
    "executionInfo": {
     "elapsed": 506,
     "status": "ok",
     "timestamp": 1519046858574,
     "user": {
      "displayName": "David Leoni",
      "photoUrl": "https://lh3.googleusercontent.com/a/default-user=s128",
      "userId": "102920557909426557439"
     },
     "user_tz": -60
    },
    "id": "Fv3LhBAOPrqs",
    "outputId": "0efb7db1-538e-42cd-e9c9-3eef80d50ce5"
   },
   "outputs": [
    {
     "data": {
      "text/plain": [
       "8"
      ]
     },
     "execution_count": 112,
     "metadata": {},
     "output_type": "execute_result"
    }
   ],
   "source": [
    "my_sum(3,5)"
   ]
  },
  {
   "cell_type": "markdown",
   "metadata": {
    "colab_type": "text",
    "id": "B5ZCVVazQE8Q"
   },
   "source": [
    "**✪ EXERCISE**: try defining down here a lambda function to calculate the average between two numbers `x` and `y`, and assign it to the function `average`"
   ]
  },
  {
   "cell_type": "raw",
   "id": "3c29b8f0",
   "metadata": {
    "format": "text/html"
   },
   "source": [
    "<a  class=\"jupman-sol jupman-sol-toggler\" \n",
    " onclick=\"jupman.toggleSolution(this);\" \n",
    " data-jupman-show=\"Show solution\" data-jupman-hide=\"Hide\">Show solution</a><div class=\"jupman-sol jupman-sol-code\" style=\"display:none\">  "
   ]
  },
  {
   "cell_type": "code",
   "execution_count": 113,
   "metadata": {
    "colab": {
     "autoexec": {
      "startup": false,
      "wait_interval": 0
     }
    },
    "colab_type": "code",
    "id": "FAhMilOBQJGK"
   },
   "outputs": [
    {
     "data": {
      "text/plain": [
       "4.5"
      ]
     },
     "execution_count": 113,
     "metadata": {},
     "output_type": "execute_result"
    }
   ],
   "source": [
    "\n",
    "# write here\n",
    "\n",
    "average = lambda x,y: (x + y)/2\n",
    "\n",
    "average(2,7)"
   ]
  },
  {
   "cell_type": "raw",
   "id": "713b3fce",
   "metadata": {
    "format": "text/html"
   },
   "source": [
    "</div>"
   ]
  },
  {
   "cell_type": "code",
   "execution_count": 113,
   "metadata": {
    "colab": {
     "autoexec": {
      "startup": false,
      "wait_interval": 0
     }
    },
    "colab_type": "code",
    "id": "FAhMilOBQJGK"
   },
   "outputs": [],
   "source": [
    "\n",
    "# write here\n",
    "\n"
   ]
  },
  {
   "cell_type": "markdown",
   "metadata": {
    "colab_type": "text",
    "id": "wqYdlbArcIo9"
   },
   "source": [
    "## List transformations\n",
    "\n",
    "**References**:\n",
    "\n",
    "* [SoftPython - Sequences](https://en.softpython.org/sequences/sequences1-sol.html)\n",
    "\n",
    "Let's say we want to take the animals list and generate a new one in which all the names start with a a capitalized character. As a matter of fact, we are creating a new list by operating a transformation on the previous one. There exist several ways to achieve this goal, the simplest being a `for` cycle like the following.\n",
    "\n",
    "### Trasfomations with a for"
   ]
  },
  {
   "cell_type": "code",
   "execution_count": 114,
   "metadata": {
    "colab": {
     "autoexec": {
      "startup": false,
      "wait_interval": 0
     }
    },
    "colab_type": "code",
    "id": "SnnvFBIlcNWo"
   },
   "outputs": [
    {
     "data": {
      "text/html": [
       "\n",
       "        <script src=\"../_static/js/pytutor-embed.bundle.min.js\" type=\"application/javascript\"></script>\n",
       "     \n",
       "        <script id=\"json-jm2c7d8276-9ebf-4395-a580-b1854d5c0dbc\" type=\"application/json\" >\n",
       "            {\"code\": \" \\nanimals = ['dogs', 'cats', 'squirrels', 'elks']\\n\\nnew_list = [] # at every cycle the variable 'animal' contains a name taken from the list 'animals'\\nfor animal in animals:  \\n    new_list.append(animal.capitalize())   # we add the current animal name to the new list, \\n                                           # with the first letter uppercased    \\nnew_list\\n\\n#let's see what happens in Python Tutor\", \"trace\": [{\"line\": 2, \"event\": \"step_line\", \"func_name\": \"<module>\", \"globals\": {}, \"ordered_globals\": [], \"stack_to_render\": [], \"heap\": {}, \"stdout\": \"\"}, {\"line\": 4, \"event\": \"step_line\", \"func_name\": \"<module>\", \"globals\": {\"animals\": [\"REF\", 1]}, \"ordered_globals\": [\"animals\"], \"stack_to_render\": [], \"heap\": {\"1\": [\"LIST\", \"dogs\", \"cats\", \"squirrels\", \"elks\"]}, \"stdout\": \"\"}, {\"line\": 5, \"event\": \"step_line\", \"func_name\": \"<module>\", \"globals\": {\"animals\": [\"REF\", 1], \"new_list\": [\"REF\", 2]}, \"ordered_globals\": [\"animals\", \"new_list\"], \"stack_to_render\": [], \"heap\": {\"1\": [\"LIST\", \"dogs\", \"cats\", \"squirrels\", \"elks\"], \"2\": [\"LIST\"]}, \"stdout\": \"\"}, {\"line\": 6, \"event\": \"step_line\", \"func_name\": \"<module>\", \"globals\": {\"animals\": [\"REF\", 1], \"new_list\": [\"REF\", 2], \"animal\": \"dogs\"}, \"ordered_globals\": [\"animals\", \"new_list\", \"animal\"], \"stack_to_render\": [], \"heap\": {\"1\": [\"LIST\", \"dogs\", \"cats\", \"squirrels\", \"elks\"], \"2\": [\"LIST\"]}, \"stdout\": \"\"}, {\"line\": 5, \"event\": \"step_line\", \"func_name\": \"<module>\", \"globals\": {\"animals\": [\"REF\", 1], \"new_list\": [\"REF\", 2], \"animal\": \"dogs\"}, \"ordered_globals\": [\"animals\", \"new_list\", \"animal\"], \"stack_to_render\": [], \"heap\": {\"1\": [\"LIST\", \"dogs\", \"cats\", \"squirrels\", \"elks\"], \"2\": [\"LIST\", \"Dogs\"]}, \"stdout\": \"\"}, {\"line\": 6, \"event\": \"step_line\", \"func_name\": \"<module>\", \"globals\": {\"animals\": [\"REF\", 1], \"new_list\": [\"REF\", 2], \"animal\": \"cats\"}, \"ordered_globals\": [\"animals\", \"new_list\", \"animal\"], \"stack_to_render\": [], \"heap\": {\"1\": [\"LIST\", \"dogs\", \"cats\", \"squirrels\", \"elks\"], \"2\": [\"LIST\", \"Dogs\"]}, \"stdout\": \"\"}, {\"line\": 5, \"event\": \"step_line\", \"func_name\": \"<module>\", \"globals\": {\"animals\": [\"REF\", 1], \"new_list\": [\"REF\", 2], \"animal\": \"cats\"}, \"ordered_globals\": [\"animals\", \"new_list\", \"animal\"], \"stack_to_render\": [], \"heap\": {\"1\": [\"LIST\", \"dogs\", \"cats\", \"squirrels\", \"elks\"], \"2\": [\"LIST\", \"Dogs\", \"Cats\"]}, \"stdout\": \"\"}, {\"line\": 6, \"event\": \"step_line\", \"func_name\": \"<module>\", \"globals\": {\"animals\": [\"REF\", 1], \"new_list\": [\"REF\", 2], \"animal\": \"squirrels\"}, \"ordered_globals\": [\"animals\", \"new_list\", \"animal\"], \"stack_to_render\": [], \"heap\": {\"1\": [\"LIST\", \"dogs\", \"cats\", \"squirrels\", \"elks\"], \"2\": [\"LIST\", \"Dogs\", \"Cats\"]}, \"stdout\": \"\"}, {\"line\": 5, \"event\": \"step_line\", \"func_name\": \"<module>\", \"globals\": {\"animals\": [\"REF\", 1], \"new_list\": [\"REF\", 2], \"animal\": \"squirrels\"}, \"ordered_globals\": [\"animals\", \"new_list\", \"animal\"], \"stack_to_render\": [], \"heap\": {\"1\": [\"LIST\", \"dogs\", \"cats\", \"squirrels\", \"elks\"], \"2\": [\"LIST\", \"Dogs\", \"Cats\", \"Squirrels\"]}, \"stdout\": \"\"}, {\"line\": 6, \"event\": \"step_line\", \"func_name\": \"<module>\", \"globals\": {\"animals\": [\"REF\", 1], \"new_list\": [\"REF\", 2], \"animal\": \"elks\"}, \"ordered_globals\": [\"animals\", \"new_list\", \"animal\"], \"stack_to_render\": [], \"heap\": {\"1\": [\"LIST\", \"dogs\", \"cats\", \"squirrels\", \"elks\"], \"2\": [\"LIST\", \"Dogs\", \"Cats\", \"Squirrels\"]}, \"stdout\": \"\"}, {\"line\": 5, \"event\": \"step_line\", \"func_name\": \"<module>\", \"globals\": {\"animals\": [\"REF\", 1], \"new_list\": [\"REF\", 2], \"animal\": \"elks\"}, \"ordered_globals\": [\"animals\", \"new_list\", \"animal\"], \"stack_to_render\": [], \"heap\": {\"1\": [\"LIST\", \"dogs\", \"cats\", \"squirrels\", \"elks\"], \"2\": [\"LIST\", \"Dogs\", \"Cats\", \"Squirrels\", \"Elks\"]}, \"stdout\": \"\"}, {\"line\": 8, \"event\": \"step_line\", \"func_name\": \"<module>\", \"globals\": {\"animals\": [\"REF\", 1], \"new_list\": [\"REF\", 2], \"animal\": \"elks\"}, \"ordered_globals\": [\"animals\", \"new_list\", \"animal\"], \"stack_to_render\": [], \"heap\": {\"1\": [\"LIST\", \"dogs\", \"cats\", \"squirrels\", \"elks\"], \"2\": [\"LIST\", \"Dogs\", \"Cats\", \"Squirrels\", \"Elks\"]}, \"stdout\": \"\"}, {\"line\": 8, \"event\": \"return\", \"func_name\": \"<module>\", \"globals\": {\"animals\": [\"REF\", 1], \"new_list\": [\"REF\", 2], \"animal\": \"elks\"}, \"ordered_globals\": [\"animals\", \"new_list\", \"animal\"], \"stack_to_render\": [], \"heap\": {\"1\": [\"LIST\", \"dogs\", \"cats\", \"squirrels\", \"elks\"], \"2\": [\"LIST\", \"Dogs\", \"Cats\", \"Squirrels\", \"Elks\"]}, \"stdout\": \"\"}]}\n",
       "        </script>\n",
       "        <div id=\"jm2c7d8276-9ebf-4395-a580-b1854d5c0dbc\" class=\"pytutorVisualizer\"> </div>\n",
       " \n",
       "        <style>\n",
       "        .vizLayoutTd {\n",
       "            background-color: #fff !important;\n",
       "        }\n",
       "\n",
       "        #pyStdout {            \n",
       "            min-height:25px;\n",
       "        }\n",
       "\n",
       "        /* 'Edit this code' link, hiding because replaces browser tab !!!*/\n",
       "        #editCodeLinkDiv {\n",
       "            display:none;  \n",
       "        }\n",
       "        </style>   \n",
       "                            \n",
       "        <script>\n",
       "        (function(){\n",
       "\n",
       "            var trace = JSON.parse(document.getElementById('json-jm2c7d8276-9ebf-4395-a580-b1854d5c0dbc').innerHTML);                                        \n",
       "            // NOTE 1: id without #\n",
       "            // NOTE 2 - maybe there are more predictable ways, but this will work anyway\n",
       "            //        - id should be number\n",
       "            visualizerIdOverride = Math.trunc(Math.random() * 100000000000)\n",
       "            addVisualizerToPage(trace, 'jm2c7d8276-9ebf-4395-a580-b1854d5c0dbc',{'embeddedMode' : false,\n",
       "                                             'visualizerIdOverride':visualizerIdOverride})  \n",
       "            \n",
       "            \n",
       "            // set overflow for pytuts - need to do in python as css \n",
       "            // does not allow parent selection\n",
       "            var pytuts = $('.pytutorVisualizer')\n",
       "            pytuts.closest('div.output_html.rendered_html.output_result')\n",
       "                    .css('overflow-x', 'visible')\n",
       "        \n",
       "            //pytuts.closest('div.output_html.rendered_html.output_result')\n",
       "            //      .css('background-color','red')                \n",
       "            \n",
       "        })()\n",
       "        </script>\n",
       "                \n",
       "                "
      ],
      "text/plain": [
       "<IPython.core.display.HTML object>"
      ]
     },
     "execution_count": 114,
     "metadata": {},
     "output_type": "execute_result"
    }
   ],
   "source": [
    "animals = ['dogs', 'cats', 'squirrels', 'elks']\n",
    "\n",
    "new_list = [] # at every cycle the variable 'animal' contains a name taken from the list 'animals'\n",
    "for animal in animals:  \n",
    "    new_list.append(animal.capitalize())   # we add the current animal name to the new list, \n",
    "                                           # with the first letter uppercased    \n",
    "new_list\n",
    "\n",
    "#let's see what happens in Python Tutor\n",
    "jupman.pytut()  "
   ]
  },
  {
   "cell_type": "markdown",
   "metadata": {
    "colab_type": "text",
    "id": "6vRDoWxidjgX"
   },
   "source": [
    "Important note: strings methods never modify the original string, they always generate a new string. So the original list `animals` will still contain the original strings without modifications:"
   ]
  },
  {
   "cell_type": "code",
   "execution_count": 115,
   "metadata": {
    "colab": {
     "autoexec": {
      "startup": false,
      "wait_interval": 0
     },
     "base_uri": "https://localhost:8080/",
     "height": 34,
     "output_extras": [
      {
       "item_id": 1
      }
     ]
    },
    "colab_type": "code",
    "executionInfo": {
     "elapsed": 560,
     "status": "ok",
     "timestamp": 1519034975589,
     "user": {
      "displayName": "David Leoni",
      "photoUrl": "https://lh3.googleusercontent.com/a/default-user=s128",
      "userId": "102920557909426557439"
     },
     "user_tz": -60
    },
    "id": "vC58tUlqdxgf",
    "outputId": "6d32c5bc-782d-4d95-9755-2eab9ee93c05"
   },
   "outputs": [
    {
     "data": {
      "text/plain": [
       "['dogs', 'cats', 'squirrels', 'elks']"
      ]
     },
     "execution_count": 115,
     "metadata": {},
     "output_type": "execute_result"
    }
   ],
   "source": [
    "animals"
   ]
  },
  {
   "cell_type": "markdown",
   "metadata": {
    "colab_type": "text",
    "id": "45lFek_khbEX"
   },
   "source": [
    "**✪ EXERCISE**: Try writing down here a `for` loop (no copy and paste!) to parse the list of animal names and create another list we will call `m`, in which all the characters of animals names are uppercase (use `.upper()` method)"
   ]
  },
  {
   "cell_type": "raw",
   "id": "c7a67602",
   "metadata": {
    "format": "text/html"
   },
   "source": [
    "<a  class=\"jupman-sol jupman-sol-toggler\" \n",
    " onclick=\"jupman.toggleSolution(this);\" \n",
    " data-jupman-show=\"Show solution\" data-jupman-hide=\"Hide\">Show solution</a><div class=\"jupman-sol jupman-sol-code\" style=\"display:none\">  "
   ]
  },
  {
   "cell_type": "code",
   "execution_count": 116,
   "metadata": {
    "colab": {
     "autoexec": {
      "startup": false,
      "wait_interval": 0
     }
    },
    "colab_type": "code",
    "id": "3W5QjOZ6G_D-"
   },
   "outputs": [
    {
     "data": {
      "text/plain": [
       "['DOGS', 'CATS', 'SQUIRRELS', 'ELKS']"
      ]
     },
     "execution_count": 116,
     "metadata": {},
     "output_type": "execute_result"
    }
   ],
   "source": [
    "animals = ['dogs', 'cats', 'squirrels', 'elks']\n",
    "\n",
    "# write here\n",
    "\n",
    "m = []\n",
    "for animal in animals:  # at every cycle the variable 'animal' contains a name taken from the list 'animals'    \n",
    "    m.append(animal.upper())   # we add the current animal name to the new list, with the first letter uppercased    \n",
    "m "
   ]
  },
  {
   "cell_type": "raw",
   "id": "ebc19588",
   "metadata": {
    "format": "text/html"
   },
   "source": [
    "</div>"
   ]
  },
  {
   "cell_type": "code",
   "execution_count": 116,
   "metadata": {
    "colab": {
     "autoexec": {
      "startup": false,
      "wait_interval": 0
     }
    },
    "colab_type": "code",
    "id": "3W5QjOZ6G_D-"
   },
   "outputs": [
    {
     "data": {
      "text/plain": [
       "['DOGS', 'CATS', 'SQUIRRELS', 'ELKS']"
      ]
     },
     "execution_count": 116,
     "metadata": {},
     "output_type": "execute_result"
    }
   ],
   "source": [
    "animals = ['dogs', 'cats', 'squirrels', 'elks']\n",
    "\n",
    "# write here\n",
    "\n"
   ]
  },
  {
   "cell_type": "markdown",
   "metadata": {
    "colab_type": "text",
    "id": "BbNGWT5PeX_x"
   },
   "source": [
    "### Transformations with  _list comprehensions_\n",
    "\n",
    "**References**: [SoftPython - Sequences](https://en.softpython.org/sequences/sequences1-sol.html#List-comprehensions)\n",
    "\n",
    "The same identical above transformation could be performed with a so-called _list comprehension_, which allows to generate new lists by executing the same operation on all the elements of an existing starting list. The syntax is similar to lists, in fact they start and end with square brackets, but inside you will find a special `for` to cycle through the sequence:"
   ]
  },
  {
   "cell_type": "code",
   "execution_count": 117,
   "metadata": {
    "colab": {
     "autoexec": {
      "startup": false,
      "wait_interval": 0
     }
    },
    "colab_type": "code",
    "id": "I7fl60rudyTU"
   },
   "outputs": [],
   "source": [
    "animals = ['dogs', 'cats', 'squirrels', 'elks']\n",
    "\n",
    "new_list = [animal.capitalize() for animal in animals]"
   ]
  },
  {
   "cell_type": "code",
   "execution_count": 118,
   "metadata": {
    "colab": {
     "autoexec": {
      "startup": false,
      "wait_interval": 0
     },
     "base_uri": "https://localhost:8080/",
     "height": 34,
     "output_extras": [
      {
       "item_id": 1
      }
     ]
    },
    "colab_type": "code",
    "executionInfo": {
     "elapsed": 483,
     "status": "ok",
     "timestamp": 1519033974548,
     "user": {
      "displayName": "David Leoni",
      "photoUrl": "https://lh3.googleusercontent.com/a/default-user=s128",
      "userId": "102920557909426557439"
     },
     "user_tz": -60
    },
    "id": "fSywtAYFdgyY",
    "outputId": "f9131bc7-11a0-4cb8-f708-5d101e51d6b1"
   },
   "outputs": [
    {
     "data": {
      "text/plain": [
       "['Dogs', 'Cats', 'Squirrels', 'Elks']"
      ]
     },
     "execution_count": 118,
     "metadata": {},
     "output_type": "execute_result"
    }
   ],
   "source": [
    "new_list"
   ]
  },
  {
   "cell_type": "markdown",
   "metadata": {},
   "source": [
    "Let's see what happens with Python Tutor:"
   ]
  },
  {
   "cell_type": "code",
   "execution_count": 119,
   "metadata": {},
   "outputs": [
    {
     "data": {
      "text/html": [
       "\n",
       "        <script src=\"../_static/js/pytutor-embed.bundle.min.js\" type=\"application/javascript\"></script>\n",
       "     \n",
       "        <script id=\"json-jm28139b39-8d4f-47a0-9d66-db86a50e22a7\" type=\"application/json\" >\n",
       "            {\"code\": \" \\nanimals = ['dogs', 'cats', 'squirrel', 'elks']\\n\\nnew_list = [animal.capitalize() for animal in animals]\", \"trace\": [{\"line\": 2, \"event\": \"step_line\", \"func_name\": \"<module>\", \"globals\": {}, \"ordered_globals\": [], \"stack_to_render\": [], \"heap\": {}, \"stdout\": \"\"}, {\"line\": 4, \"event\": \"step_line\", \"func_name\": \"<module>\", \"globals\": {\"animals\": [\"REF\", 1]}, \"ordered_globals\": [\"animals\"], \"stack_to_render\": [], \"heap\": {\"1\": [\"LIST\", \"dogs\", \"cats\", \"squirrel\", \"elks\"]}, \"stdout\": \"\"}, {\"line\": 4, \"event\": \"call\", \"func_name\": \"<listcomp>\", \"globals\": {\"animals\": [\"REF\", 1]}, \"ordered_globals\": [\"animals\"], \"stack_to_render\": [{\"func_name\": \"<listcomp>\", \"is_parent\": false, \"frame_id\": 1, \"parent_frame_id_list\": [], \"encoded_locals\": {\".0\": [\"REF\", 2]}, \"ordered_varnames\": [\".0\"], \"is_zombie\": false, \"is_highlighted\": true, \"unique_hash\": \"<listcomp>_f1\"}], \"heap\": {\"2\": [\"INSTANCE\", \"list_iterator\"], \"1\": [\"LIST\", \"dogs\", \"cats\", \"squirrel\", \"elks\"]}, \"stdout\": \"\"}, {\"line\": 4, \"event\": \"step_line\", \"func_name\": \"<listcomp>\", \"globals\": {\"animals\": [\"REF\", 1]}, \"ordered_globals\": [\"animals\"], \"stack_to_render\": [{\"func_name\": \"<listcomp>\", \"is_parent\": false, \"frame_id\": 1, \"parent_frame_id_list\": [], \"encoded_locals\": {\".0\": [\"REF\", 2]}, \"ordered_varnames\": [\".0\"], \"is_zombie\": false, \"is_highlighted\": true, \"unique_hash\": \"<listcomp>_f1\"}], \"heap\": {\"2\": [\"INSTANCE\", \"list_iterator\"], \"1\": [\"LIST\", \"dogs\", \"cats\", \"squirrel\", \"elks\"]}, \"stdout\": \"\"}, {\"line\": 4, \"event\": \"step_line\", \"func_name\": \"<listcomp>\", \"globals\": {\"animals\": [\"REF\", 1]}, \"ordered_globals\": [\"animals\"], \"stack_to_render\": [{\"func_name\": \"<listcomp>\", \"is_parent\": false, \"frame_id\": 1, \"parent_frame_id_list\": [], \"encoded_locals\": {\".0\": [\"REF\", 2], \"animal\": \"dogs\"}, \"ordered_varnames\": [\".0\", \"animal\"], \"is_zombie\": false, \"is_highlighted\": true, \"unique_hash\": \"<listcomp>_f1\"}], \"heap\": {\"2\": [\"INSTANCE\", \"list_iterator\"], \"1\": [\"LIST\", \"dogs\", \"cats\", \"squirrel\", \"elks\"]}, \"stdout\": \"\"}, {\"line\": 4, \"event\": \"step_line\", \"func_name\": \"<listcomp>\", \"globals\": {\"animals\": [\"REF\", 1]}, \"ordered_globals\": [\"animals\"], \"stack_to_render\": [{\"func_name\": \"<listcomp>\", \"is_parent\": false, \"frame_id\": 1, \"parent_frame_id_list\": [], \"encoded_locals\": {\".0\": [\"REF\", 2], \"animal\": \"cats\"}, \"ordered_varnames\": [\".0\", \"animal\"], \"is_zombie\": false, \"is_highlighted\": true, \"unique_hash\": \"<listcomp>_f1\"}], \"heap\": {\"2\": [\"INSTANCE\", \"list_iterator\"], \"1\": [\"LIST\", \"dogs\", \"cats\", \"squirrel\", \"elks\"]}, \"stdout\": \"\"}, {\"line\": 4, \"event\": \"step_line\", \"func_name\": \"<listcomp>\", \"globals\": {\"animals\": [\"REF\", 1]}, \"ordered_globals\": [\"animals\"], \"stack_to_render\": [{\"func_name\": \"<listcomp>\", \"is_parent\": false, \"frame_id\": 1, \"parent_frame_id_list\": [], \"encoded_locals\": {\".0\": [\"REF\", 2], \"animal\": \"squirrel\"}, \"ordered_varnames\": [\".0\", \"animal\"], \"is_zombie\": false, \"is_highlighted\": true, \"unique_hash\": \"<listcomp>_f1\"}], \"heap\": {\"2\": [\"INSTANCE\", \"list_iterator\"], \"1\": [\"LIST\", \"dogs\", \"cats\", \"squirrel\", \"elks\"]}, \"stdout\": \"\"}, {\"line\": 4, \"event\": \"step_line\", \"func_name\": \"<listcomp>\", \"globals\": {\"animals\": [\"REF\", 1]}, \"ordered_globals\": [\"animals\"], \"stack_to_render\": [{\"func_name\": \"<listcomp>\", \"is_parent\": false, \"frame_id\": 1, \"parent_frame_id_list\": [], \"encoded_locals\": {\".0\": [\"REF\", 2], \"animal\": \"elks\"}, \"ordered_varnames\": [\".0\", \"animal\"], \"is_zombie\": false, \"is_highlighted\": true, \"unique_hash\": \"<listcomp>_f1\"}], \"heap\": {\"2\": [\"INSTANCE\", \"list_iterator\"], \"1\": [\"LIST\", \"dogs\", \"cats\", \"squirrel\", \"elks\"]}, \"stdout\": \"\"}, {\"line\": 4, \"event\": \"return\", \"func_name\": \"<listcomp>\", \"globals\": {\"animals\": [\"REF\", 1]}, \"ordered_globals\": [\"animals\"], \"stack_to_render\": [{\"func_name\": \"<listcomp>\", \"is_parent\": false, \"frame_id\": 1, \"parent_frame_id_list\": [], \"encoded_locals\": {\".0\": [\"REF\", 2], \"animal\": \"elks\", \"__return__\": [\"REF\", 3]}, \"ordered_varnames\": [\".0\", \"animal\", \"__return__\"], \"is_zombie\": false, \"is_highlighted\": true, \"unique_hash\": \"<listcomp>_f1\"}], \"heap\": {\"2\": [\"INSTANCE\", \"list_iterator\"], \"3\": [\"LIST\", \"Dogs\", \"Cats\", \"Squirrel\", \"Elks\"], \"1\": [\"LIST\", \"dogs\", \"cats\", \"squirrel\", \"elks\"]}, \"stdout\": \"\"}, {\"line\": 4, \"event\": \"return\", \"func_name\": \"<module>\", \"globals\": {\"animals\": [\"REF\", 1], \"new_list\": [\"REF\", 3]}, \"ordered_globals\": [\"animals\", \"new_list\"], \"stack_to_render\": [], \"heap\": {\"1\": [\"LIST\", \"dogs\", \"cats\", \"squirrel\", \"elks\"], \"3\": [\"LIST\", \"Dogs\", \"Cats\", \"Squirrel\", \"Elks\"]}, \"stdout\": \"\"}]}\n",
       "        </script>\n",
       "        <div id=\"jm28139b39-8d4f-47a0-9d66-db86a50e22a7\" class=\"pytutorVisualizer\"> </div>\n",
       " \n",
       "        <style>\n",
       "        .vizLayoutTd {\n",
       "            background-color: #fff !important;\n",
       "        }\n",
       "\n",
       "        #pyStdout {            \n",
       "            min-height:25px;\n",
       "        }\n",
       "\n",
       "        /* 'Edit this code' link, hiding because replaces browser tab !!!*/\n",
       "        #editCodeLinkDiv {\n",
       "            display:none;  \n",
       "        }\n",
       "        </style>   \n",
       "                            \n",
       "        <script>\n",
       "        (function(){\n",
       "\n",
       "            var trace = JSON.parse(document.getElementById('json-jm28139b39-8d4f-47a0-9d66-db86a50e22a7').innerHTML);                                        \n",
       "            // NOTE 1: id without #\n",
       "            // NOTE 2 - maybe there are more predictable ways, but this will work anyway\n",
       "            //        - id should be number\n",
       "            visualizerIdOverride = Math.trunc(Math.random() * 100000000000)\n",
       "            addVisualizerToPage(trace, 'jm28139b39-8d4f-47a0-9d66-db86a50e22a7',{'embeddedMode' : false,\n",
       "                                             'visualizerIdOverride':visualizerIdOverride})  \n",
       "            \n",
       "            \n",
       "            // set overflow for pytuts - need to do in python as css \n",
       "            // does not allow parent selection\n",
       "            var pytuts = $('.pytutorVisualizer')\n",
       "            pytuts.closest('div.output_html.rendered_html.output_result')\n",
       "                    .css('overflow-x', 'visible')\n",
       "        \n",
       "            //pytuts.closest('div.output_html.rendered_html.output_result')\n",
       "            //      .css('background-color','red')                \n",
       "            \n",
       "        })()\n",
       "        </script>\n",
       "                \n",
       "                "
      ],
      "text/plain": [
       "<IPython.core.display.HTML object>"
      ]
     },
     "execution_count": 119,
     "metadata": {},
     "output_type": "execute_result"
    }
   ],
   "source": [
    "animals = ['dogs', 'cats', 'squirrel', 'elks']\n",
    "\n",
    "new_list = [animal.capitalize() for animal in animals]\n",
    "\n",
    "jupman.pytut()"
   ]
  },
  {
   "cell_type": "markdown",
   "metadata": {
    "colab_type": "text",
    "id": "G1isjIcitppx"
   },
   "source": [
    "**✪ EXERCISE**: Try using a list comprehension to place all the characters as uppercase"
   ]
  },
  {
   "cell_type": "raw",
   "id": "be828b34",
   "metadata": {
    "format": "text/html"
   },
   "source": [
    "<a  class=\"jupman-sol jupman-sol-toggler\" \n",
    " onclick=\"jupman.toggleSolution(this);\" \n",
    " data-jupman-show=\"Show solution\" data-jupman-hide=\"Hide\">Show solution</a><div class=\"jupman-sol jupman-sol-code\" style=\"display:none\">  "
   ]
  },
  {
   "cell_type": "code",
   "execution_count": 120,
   "metadata": {
    "colab": {
     "autoexec": {
      "startup": false,
      "wait_interval": 0
     }
    },
    "colab_type": "code",
    "id": "eoNE416HdIEf"
   },
   "outputs": [
    {
     "data": {
      "text/plain": [
       "['DOGS', 'CATS', 'SQUIRRELS', 'ELKS']"
      ]
     },
     "execution_count": 120,
     "metadata": {},
     "output_type": "execute_result"
    }
   ],
   "source": [
    "\n",
    "animals = ['dogs', 'cats', 'squirrels', 'elks']\n",
    "\n",
    "# write here\n",
    "\n",
    "new_list = [animal.upper() for animal in animals]\n",
    "new_list"
   ]
  },
  {
   "cell_type": "raw",
   "id": "504eed13",
   "metadata": {
    "format": "text/html"
   },
   "source": [
    "</div>"
   ]
  },
  {
   "cell_type": "code",
   "execution_count": 120,
   "metadata": {
    "colab": {
     "autoexec": {
      "startup": false,
      "wait_interval": 0
     }
    },
    "colab_type": "code",
    "id": "eoNE416HdIEf"
   },
   "outputs": [],
   "source": [
    "\n",
    "animals = ['dogs', 'cats', 'squirrels', 'elks']\n",
    "\n",
    "# write here\n",
    "\n"
   ]
  },
  {
   "cell_type": "markdown",
   "metadata": {
    "colab_type": "text",
    "id": "wJkXW0NulL8I"
   },
   "source": [
    "**Filtering with comprehensions**: \n",
    "\n",
    "If we want, we can also filter data by using a special `if` placed at the end of the comprehension. For example, we could select only the animals having a name length of 4 characters:"
   ]
  },
  {
   "cell_type": "code",
   "execution_count": 121,
   "metadata": {
    "colab": {
     "autoexec": {
      "startup": false,
      "wait_interval": 0
     },
     "base_uri": "https://localhost:8080/",
     "height": 34,
     "output_extras": [
      {
       "item_id": 1
      }
     ]
    },
    "colab_type": "code",
    "executionInfo": {
     "elapsed": 562,
     "status": "ok",
     "timestamp": 1519052514136,
     "user": {
      "displayName": "David Leoni",
      "photoUrl": "https://lh3.googleusercontent.com/a/default-user=s128",
      "userId": "102920557909426557439"
     },
     "user_tz": -60
    },
    "id": "3j3N8Z16lKDW",
    "outputId": "ee544608-9e3a-4918-f6a3-716081ad8b8a"
   },
   "outputs": [
    {
     "data": {
      "text/plain": [
       "['DOGS', 'CATS', 'ELKS']"
      ]
     },
     "execution_count": 121,
     "metadata": {},
     "output_type": "execute_result"
    }
   ],
   "source": [
    "[animal.upper() for animal in animals if len(animal) == 4]"
   ]
  },
  {
   "cell_type": "markdown",
   "metadata": {
    "colab_type": "text",
    "id": "VnneWysUHt02"
   },
   "source": [
    "### Transformations with map\n",
    "\n",
    "Yet another way to transform a list into a new one is by using the operation `map`, which given a list, generates another one by applying a function `f` we pass as parameter to each element of the original list. For example, to solve the same previous exercise we could create on the fly a function `f` with a `lambda` which places the first letter of a string as uppercase, then we could call `map` and pass the function we've just created:"
   ]
  },
  {
   "cell_type": "code",
   "execution_count": 122,
   "metadata": {
    "colab": {
     "autoexec": {
      "startup": false,
      "wait_interval": 0
     },
     "base_uri": "https://localhost:8080/",
     "height": 34,
     "output_extras": [
      {
       "item_id": 1
      }
     ]
    },
    "colab_type": "code",
    "executionInfo": {
     "elapsed": 478,
     "status": "ok",
     "timestamp": 1519047521588,
     "user": {
      "displayName": "David Leoni",
      "photoUrl": "https://lh3.googleusercontent.com/a/default-user=s128",
      "userId": "102920557909426557439"
     },
     "user_tz": -60
    },
    "id": "b_0fe_rQHct3",
    "outputId": "e9797827-6f8b-4d18-a067-571aa70a265b"
   },
   "outputs": [
    {
     "data": {
      "text/plain": [
       "<map at 0x7f0c7813ab50>"
      ]
     },
     "execution_count": 122,
     "metadata": {},
     "output_type": "execute_result"
    }
   ],
   "source": [
    "animals = ['dogs', 'cats', 'squirrels', 'elks']\n",
    "\n",
    "f = lambda animal: animal.capitalize()\n",
    "\n",
    "map(f, animals)"
   ]
  },
  {
   "cell_type": "markdown",
   "metadata": {
    "colab_type": "text",
    "id": "N0EHix0jSjRL"
   },
   "source": [
    "Sadly, the result is not yet what we wanted. The problem is Python 3 awaits to return a real list, preferring instead to give us an _iterator_. How comes? For efficiency reasons, Python 3 hopes we will never actually use any element from the new sequence, which would spare it the need to compute the function on all the elements of the original list.\n",
    "\n",
    "We can force it to actually materialize a list by using the function `list`:"
   ]
  },
  {
   "cell_type": "code",
   "execution_count": 123,
   "metadata": {
    "colab": {
     "autoexec": {
      "startup": false,
      "wait_interval": 0
     },
     "base_uri": "https://localhost:8080/",
     "height": 34,
     "output_extras": [
      {
       "item_id": 1
      }
     ]
    },
    "colab_type": "code",
    "executionInfo": {
     "elapsed": 484,
     "status": "ok",
     "timestamp": 1519047866872,
     "user": {
      "displayName": "David Leoni",
      "photoUrl": "https://lh3.googleusercontent.com/a/default-user=s128",
      "userId": "102920557909426557439"
     },
     "user_tz": -60
    },
    "id": "BDT49G82TJMH",
    "outputId": "a095d6f0-9a99-4765-9bc1-f5e74515e4cb"
   },
   "outputs": [
    {
     "data": {
      "text/plain": [
       "['Dogs', 'Cats', 'Squirrels', 'Elks']"
      ]
     },
     "execution_count": 123,
     "metadata": {},
     "output_type": "execute_result"
    }
   ],
   "source": [
    "animals = ['dogs', 'cats', 'squirrels', 'elks']\n",
    "\n",
    "f = lambda animal: animal.capitalize()\n",
    "\n",
    "list(map(f, animals))"
   ]
  },
  {
   "cell_type": "markdown",
   "metadata": {
    "colab_type": "text",
    "id": "dh3LFNNqTyuK"
   },
   "source": [
    "To get a completely equivalent example, we can assign the result to `new_list`:"
   ]
  },
  {
   "cell_type": "code",
   "execution_count": 124,
   "metadata": {
    "colab": {
     "autoexec": {
      "startup": false,
      "wait_interval": 0
     }
    },
    "colab_type": "code",
    "id": "JM96quneT9lV"
   },
   "outputs": [],
   "source": [
    "animals = ['dogs', 'cats', 'squirrels', 'elks']\n",
    "\n",
    "f = lambda animal: animal.capitalize()\n",
    "\n",
    "new_list = list(map(f, animals))"
   ]
  },
  {
   "cell_type": "code",
   "execution_count": 125,
   "metadata": {
    "colab": {
     "autoexec": {
      "startup": false,
      "wait_interval": 0
     },
     "base_uri": "https://localhost:8080/",
     "height": 34,
     "output_extras": [
      {
       "item_id": 1
      }
     ]
    },
    "colab_type": "code",
    "executionInfo": {
     "elapsed": 601,
     "status": "ok",
     "timestamp": 1519048055236,
     "user": {
      "displayName": "David Leoni",
      "photoUrl": "https://lh3.googleusercontent.com/a/default-user=s128",
      "userId": "102920557909426557439"
     },
     "user_tz": -60
    },
    "id": "xI7TtsFmSbFg",
    "outputId": "eb2dda9f-0855-4347-a83d-5afce1a1390d"
   },
   "outputs": [
    {
     "data": {
      "text/plain": [
       "['Dogs', 'Cats', 'Squirrels', 'Elks']"
      ]
     },
     "execution_count": 125,
     "metadata": {},
     "output_type": "execute_result"
    }
   ],
   "source": [
    "new_list"
   ]
  },
  {
   "cell_type": "markdown",
   "metadata": {
    "colab_type": "text",
    "id": "DkdrP-hVUsNf"
   },
   "source": [
    "A true  Python hacker will probably prefer writing everything in one line, like this:"
   ]
  },
  {
   "cell_type": "code",
   "execution_count": 126,
   "metadata": {
    "colab": {
     "autoexec": {
      "startup": false,
      "wait_interval": 0
     }
    },
    "colab_type": "code",
    "id": "u-HHQz8BUjE6"
   },
   "outputs": [],
   "source": [
    "animals = ['dogs', 'cats', 'squirrels', 'elks']\n",
    "\n",
    "new_list = list(map(lambda animal: animal.capitalize(), animals))"
   ]
  },
  {
   "cell_type": "code",
   "execution_count": 127,
   "metadata": {
    "colab": {
     "autoexec": {
      "startup": false,
      "wait_interval": 0
     },
     "base_uri": "https://localhost:8080/",
     "height": 34,
     "output_extras": [
      {
       "item_id": 1
      }
     ]
    },
    "colab_type": "code",
    "executionInfo": {
     "elapsed": 409,
     "status": "ok",
     "timestamp": 1519048159745,
     "user": {
      "displayName": "David Leoni",
      "photoUrl": "https://lh3.googleusercontent.com/a/default-user=s128",
      "userId": "102920557909426557439"
     },
     "user_tz": -60
    },
    "id": "fnNMSHV2U2QC",
    "outputId": "045c8d0b-ff7e-4a39-fde7-f8202b17e6ef"
   },
   "outputs": [
    {
     "data": {
      "text/plain": [
       "['Dogs', 'Cats', 'Squirrels', 'Elks']"
      ]
     },
     "execution_count": 127,
     "metadata": {},
     "output_type": "execute_result"
    }
   ],
   "source": [
    "new_list"
   ]
  },
  {
   "cell_type": "markdown",
   "metadata": {
    "colab_type": "text",
    "id": "t6vIHoNwUaC5"
   },
   "source": [
    "**✪ EXERCISE**: Was the original list `animals` changed? Check it."
   ]
  },
  {
   "cell_type": "markdown",
   "metadata": {
    "colab_type": "text",
    "id": "7lmjhzyxU_-p"
   },
   "source": [
    "**✪ EXERCISE**: Given a list `numbers = [3, 5, 2, 7]` try writing a `map` which generates a new list with the numbers doubled, like `[6, 10, 4, 14]`:  "
   ]
  },
  {
   "cell_type": "raw",
   "id": "1473c884",
   "metadata": {
    "format": "text/html"
   },
   "source": [
    "<a  class=\"jupman-sol jupman-sol-toggler\" \n",
    " onclick=\"jupman.toggleSolution(this);\" \n",
    " data-jupman-show=\"Show solution\" data-jupman-hide=\"Hide\">Show solution</a><div class=\"jupman-sol jupman-sol-code\" style=\"display:none\">  "
   ]
  },
  {
   "cell_type": "code",
   "execution_count": 128,
   "metadata": {
    "colab": {
     "autoexec": {
      "startup": false,
      "wait_interval": 0
     }
    },
    "colab_type": "code",
    "id": "4tf9IOLKVhUQ"
   },
   "outputs": [
    {
     "data": {
      "text/plain": [
       "[6, 10, 4, 14]"
      ]
     },
     "execution_count": 128,
     "metadata": {},
     "output_type": "execute_result"
    }
   ],
   "source": [
    "\n",
    "numbers = [3, 5, 2, 7]\n",
    "\n",
    "# write here\n",
    "\n",
    "list(map(lambda x: x * 2, numbers))"
   ]
  },
  {
   "cell_type": "raw",
   "id": "9b6ec3c1",
   "metadata": {
    "format": "text/html"
   },
   "source": [
    "</div>"
   ]
  },
  {
   "cell_type": "code",
   "execution_count": 128,
   "metadata": {
    "colab": {
     "autoexec": {
      "startup": false,
      "wait_interval": 0
     }
    },
    "colab_type": "code",
    "id": "4tf9IOLKVhUQ"
   },
   "outputs": [],
   "source": [
    "\n",
    "numbers = [3, 5, 2, 7]\n",
    "\n",
    "# write here\n",
    "\n"
   ]
  },
  {
   "cell_type": "markdown",
   "metadata": {
    "colab_type": "text",
    "id": "BCmNz8C6AFZY"
   },
   "source": [
    "## Matrices\n",
    "\n",
    "Once we're done with the presentation, it's time to put some more effort. Let's briefly see lists of lists, for more details check the references.\n",
    "\n",
    "**References**:\n",
    "\n",
    "- [matrices as lists of lists](https://en.softpython.org/matrices-lists/matrices-lists1-sol.html)\n",
    "- [numpy matrices](https://en.softpython.org/matrices-numpy/matrices-numpy1-sol.html)"
   ]
  },
  {
   "cell_type": "markdown",
   "metadata": {},
   "source": [
    "**✪✪ EXERCISE**: Given two lists with animal names and the corresponding life expectancy in years:\n",
    "\n",
    "```python\n",
    "animals = ['dog', 'cat', 'pelican', 'squirrel', 'eagle']\n",
    "years = [12,14,30,6,25]\n",
    "```\n",
    "\n",
    "write in the cell below some code to generate a list of lists of two elements, like so:\n",
    "\n",
    "\n",
    "```python\n",
    "[\n",
    "    ['dog', 12], \n",
    "    ['cat', 14], \n",
    "    ['pelican', 30], \n",
    "    ['squirrel', 6], \n",
    "    ['eagle', 25]\n",
    "]\n",
    "```"
   ]
  },
  {
   "cell_type": "raw",
   "id": "ceec029d",
   "metadata": {
    "format": "text/html"
   },
   "source": [
    "<a  class=\"jupman-sol jupman-sol-toggler\" \n",
    " onclick=\"jupman.toggleSolution(this);\" \n",
    " data-jupman-show=\"Show solution\" data-jupman-hide=\"Hide\">Show solution</a><div class=\"jupman-sol jupman-sol-code\" style=\"display:none\">  "
   ]
  },
  {
   "cell_type": "code",
   "execution_count": 129,
   "metadata": {
    "colab": {
     "autoexec": {
      "startup": false,
      "wait_interval": 0
     }
    },
    "colab_type": "code",
    "id": "WSlJUPE5AFZY"
   },
   "outputs": [
    {
     "data": {
      "text/plain": [
       "[['dog', 12], ['cat', 14], ['pelican', 30], ['squirrel', 6], ['eagle', 25]]"
      ]
     },
     "execution_count": 129,
     "metadata": {},
     "output_type": "execute_result"
    }
   ],
   "source": [
    "\n",
    "animals = ['dog', 'cat', 'pelican', 'squirrel', 'eagle']\n",
    "years = [12,14,30,6,25]\n",
    "\n",
    "# write here\n",
    "couples = []\n",
    "for i in range(len(animals)):\n",
    "    couples.append([animals[i], years[i]])\n",
    "couples"
   ]
  },
  {
   "cell_type": "raw",
   "id": "325fba7e",
   "metadata": {
    "format": "text/html"
   },
   "source": [
    "</div>"
   ]
  },
  {
   "cell_type": "code",
   "execution_count": 129,
   "metadata": {
    "colab": {
     "autoexec": {
      "startup": false,
      "wait_interval": 0
     }
    },
    "colab_type": "code",
    "id": "WSlJUPE5AFZY"
   },
   "outputs": [],
   "source": [
    "\n",
    "animals = ['dog', 'cat', 'pelican', 'squirrel', 'eagle']\n",
    "years = [12,14,30,6,25]\n",
    "\n",
    "# write here\n",
    "\n"
   ]
  },
  {
   "cell_type": "markdown",
   "metadata": {
    "colab_type": "text",
    "id": "bd2Ap-uOAFZc"
   },
   "source": [
    "**✪✪ EXERCISE** modify the code of previous exercise with a regular `for` loop to filter only the species with life expectancy above 13 years, so to obtain this result:\n",
    "\n",
    "```python\n",
    "[['cat', 14], ['pelican', 30], ['eagle', 25]]\n",
    "```"
   ]
  },
  {
   "cell_type": "raw",
   "id": "9c4e2637",
   "metadata": {
    "format": "text/html"
   },
   "source": [
    "<a  class=\"jupman-sol jupman-sol-toggler\" \n",
    " onclick=\"jupman.toggleSolution(this);\" \n",
    " data-jupman-show=\"Show solution\" data-jupman-hide=\"Hide\">Show solution</a><div class=\"jupman-sol jupman-sol-code\" style=\"display:none\">  "
   ]
  },
  {
   "cell_type": "code",
   "execution_count": 130,
   "metadata": {
    "colab": {
     "autoexec": {
      "startup": false,
      "wait_interval": 0
     }
    },
    "colab_type": "code",
    "id": "M4d3V2JjnocX"
   },
   "outputs": [
    {
     "data": {
      "text/plain": [
       "[['cat', 14], ['pelican', 30], ['eagle', 25]]"
      ]
     },
     "execution_count": 130,
     "metadata": {},
     "output_type": "execute_result"
    }
   ],
   "source": [
    "\n",
    "animals = ['dog', 'cat', 'pelican', 'squirrel', 'eagle']\n",
    "years = [12,14,30,6,25]\n",
    "\n",
    "# write here\n",
    "couples = []\n",
    "for i in range(len(animals)):\n",
    "    if years[i] > 13:\n",
    "        couples.append([animals[i], years[i]])\n",
    "couples"
   ]
  },
  {
   "cell_type": "raw",
   "id": "33b93711",
   "metadata": {
    "format": "text/html"
   },
   "source": [
    "</div>"
   ]
  },
  {
   "cell_type": "code",
   "execution_count": 130,
   "metadata": {
    "colab": {
     "autoexec": {
      "startup": false,
      "wait_interval": 0
     }
    },
    "colab_type": "code",
    "id": "M4d3V2JjnocX"
   },
   "outputs": [],
   "source": [
    "\n",
    "animals = ['dog', 'cat', 'pelican', 'squirrel', 'eagle']\n",
    "years = [12,14,30,6,25]\n",
    "\n",
    "# write here\n",
    "\n"
   ]
  },
  {
   "cell_type": "markdown",
   "metadata": {
    "colab_type": "text",
    "id": "LvVoUJ1mAFZg"
   },
   "source": [
    "**EXERCISE**: Write down here some code with a regular `for` loop so to filter only the species with life expectancy above 10 years and below 27, so to obtain this result:\n",
    "\n",
    "```python\n",
    "[['dog', 12], ['cat', 14], ['eagle', 25]]\n",
    "```"
   ]
  },
  {
   "cell_type": "raw",
   "id": "46df773e",
   "metadata": {
    "format": "text/html"
   },
   "source": [
    "<a  class=\"jupman-sol jupman-sol-toggler\" \n",
    " onclick=\"jupman.toggleSolution(this);\" \n",
    " data-jupman-show=\"Show solution\" data-jupman-hide=\"Hide\">Show solution</a><div class=\"jupman-sol jupman-sol-code\" style=\"display:none\">  "
   ]
  },
  {
   "cell_type": "code",
   "execution_count": 131,
   "metadata": {
    "colab": {
     "autoexec": {
      "startup": false,
      "wait_interval": 0
     }
    },
    "colab_type": "code",
    "id": "ikN8wQ6oAFZg"
   },
   "outputs": [
    {
     "data": {
      "text/plain": [
       "[['dog', 12], ['cat', 14], ['eagle', 25]]"
      ]
     },
     "execution_count": 131,
     "metadata": {},
     "output_type": "execute_result"
    }
   ],
   "source": [
    "\n",
    "animals = ['dog', 'cat', 'pelican', 'squirrel', 'eagle']\n",
    "years = [12,14,30,6,25]\n",
    "\n",
    "# write here\n",
    "\n",
    "couples = []\n",
    "for i in range(len(animals)):\n",
    "    if years[i] > 10 and years[i] < 27 :\n",
    "        couples.append([animals[i], years[i]])\n",
    "couples"
   ]
  },
  {
   "cell_type": "raw",
   "id": "553ce9e0",
   "metadata": {
    "format": "text/html"
   },
   "source": [
    "</div>"
   ]
  },
  {
   "cell_type": "code",
   "execution_count": 131,
   "metadata": {
    "colab": {
     "autoexec": {
      "startup": false,
      "wait_interval": 0
     }
    },
    "colab_type": "code",
    "id": "ikN8wQ6oAFZg"
   },
   "outputs": [],
   "source": [
    "\n",
    "animals = ['dog', 'cat', 'pelican', 'squirrel', 'eagle']\n",
    "years = [12,14,30,6,25]\n",
    "\n",
    "# write here\n",
    "\n"
   ]
  },
  {
   "cell_type": "markdown",
   "metadata": {
    "colab_type": "text",
    "id": "itNZWFEYh4Oe"
   },
   "source": [
    "### Zip function\n",
    "\n",
    "The `zip` function takes two lists and produces a new sequence, in which places couples of elements as tuples (we recall tuples are immutable sequences), coupling the first element from the first list with the first element from the second list, and so on and so forth:"
   ]
  },
  {
   "cell_type": "code",
   "execution_count": 132,
   "metadata": {
    "colab": {
     "autoexec": {
      "startup": false,
      "wait_interval": 0
     },
     "base_uri": "https://localhost:8080/",
     "height": 34,
     "output_extras": [
      {
       "item_id": 1
      }
     ]
    },
    "colab_type": "code",
    "executionInfo": {
     "elapsed": 505,
     "status": "ok",
     "timestamp": 1519053345513,
     "user": {
      "displayName": "David Leoni",
      "photoUrl": "https://lh3.googleusercontent.com/a/default-user=s128",
      "userId": "102920557909426557439"
     },
     "user_tz": -60
    },
    "id": "FDHB64Q5olmu",
    "outputId": "50b8e861-9f06-4215-a7fb-d3ba21d8dfa4"
   },
   "outputs": [
    {
     "data": {
      "text/plain": [
       "[('a', 5), ('b', 2), ('c', 7)]"
      ]
     },
     "execution_count": 132,
     "metadata": {},
     "output_type": "execute_result"
    }
   ],
   "source": [
    "list(zip(['a','b','c'], [5,2,7]))"
   ]
  },
  {
   "cell_type": "markdown",
   "metadata": {
    "colab_type": "text",
    "id": "eWfvYP15oqwu"
   },
   "source": [
    "Why did we place also `list` in the example? Because `zip` has the same problem of `map`: it doesn't materialize a list right away as maybe we would like: "
   ]
  },
  {
   "cell_type": "code",
   "execution_count": 133,
   "metadata": {
    "colab": {
     "autoexec": {
      "startup": false,
      "wait_interval": 0
     },
     "base_uri": "https://localhost:8080/",
     "height": 34,
     "output_extras": [
      {
       "item_id": 1
      }
     ]
    },
    "colab_type": "code",
    "executionInfo": {
     "elapsed": 538,
     "status": "ok",
     "timestamp": 1519053414986,
     "user": {
      "displayName": "David Leoni",
      "photoUrl": "https://lh3.googleusercontent.com/a/default-user=s128",
      "userId": "102920557909426557439"
     },
     "user_tz": -60
    },
    "id": "jBWLb2vZjPKv",
    "outputId": "ebd86242-51e3-46f9-af11-85eb92aa54d1"
   },
   "outputs": [
    {
     "data": {
      "text/plain": [
       "<zip at 0x7f0c781579b0>"
      ]
     },
     "execution_count": 133,
     "metadata": {},
     "output_type": "execute_result"
    }
   ],
   "source": [
    "zip(['a','b','c'], [5,2,7])"
   ]
  },
  {
   "cell_type": "markdown",
   "metadata": {
    "colab_type": "text",
    "id": "kcbDFCyOjl7E"
   },
   "source": [
    "**✪✪✪ EXERCISE**: As you see with the `zip` we can obtain a result similar to that of previous exercise, but here we have tuples with round parenthesis instead of square brackets. Can you obtain the same identical result with a `list comprehension` or a `map` (without filtering, for now)?\n",
    "\n",
    "- to convert a tuple into a list use the function `list`:"
   ]
  },
  {
   "cell_type": "code",
   "execution_count": 134,
   "metadata": {
    "colab": {
     "autoexec": {
      "startup": false,
      "wait_interval": 0
     },
     "base_uri": "https://localhost:8080/",
     "height": 34,
     "output_extras": [
      {
       "item_id": 1
      }
     ]
    },
    "colab_type": "code",
    "executionInfo": {
     "elapsed": 573,
     "status": "ok",
     "timestamp": 1519054370413,
     "user": {
      "displayName": "David Leoni",
      "photoUrl": "https://lh3.googleusercontent.com/a/default-user=s128",
      "userId": "102920557909426557439"
     },
     "user_tz": -60
    },
    "id": "XNP1gY9roEbM",
    "outputId": "dfb74688-0995-47cc-870b-a5934fa0a23c"
   },
   "outputs": [
    {
     "data": {
      "text/plain": [
       "['hello', 'soft', 'python']"
      ]
     },
     "execution_count": 134,
     "metadata": {},
     "output_type": "execute_result"
    }
   ],
   "source": [
    "list(  ('hello', 'soft', 'python')  )  # we placed inside a tuple delimited by round brackets"
   ]
  },
  {
   "cell_type": "raw",
   "id": "97f225d5",
   "metadata": {
    "format": "text/html"
   },
   "source": [
    "<a  class=\"jupman-sol jupman-sol-toggler\" \n",
    " onclick=\"jupman.toggleSolution(this);\" \n",
    " data-jupman-show=\"Show solution\" data-jupman-hide=\"Hide\">Show solution</a><div class=\"jupman-sol jupman-sol-code\" style=\"display:none\">  "
   ]
  },
  {
   "cell_type": "code",
   "execution_count": 135,
   "metadata": {
    "colab": {
     "autoexec": {
      "startup": false,
      "wait_interval": 0
     }
    },
    "colab_type": "code",
    "id": "m_rDAV-Qnd86"
   },
   "outputs": [
    {
     "data": {
      "text/plain": [
       "[['dog', 12], ['cat', 14], ['pelican', 30], ['squirrel', 6], ['eagle', 25]]"
      ]
     },
     "execution_count": 135,
     "metadata": {},
     "output_type": "execute_result"
    }
   ],
   "source": [
    "\n",
    "animals = ['dog', 'cat', 'pelican', 'squirrel', 'eagle']\n",
    "years = [12,14,30,6,25]\n",
    "\n",
    "# write here - solution with list comprehension\n",
    "\n",
    "[ list(c) for c in zip(animals, years) ]"
   ]
  },
  {
   "cell_type": "raw",
   "id": "6e7b698c",
   "metadata": {
    "format": "text/html"
   },
   "source": [
    "</div>"
   ]
  },
  {
   "cell_type": "code",
   "execution_count": 135,
   "metadata": {
    "colab": {
     "autoexec": {
      "startup": false,
      "wait_interval": 0
     }
    },
    "colab_type": "code",
    "id": "m_rDAV-Qnd86"
   },
   "outputs": [],
   "source": [
    "\n",
    "animals = ['dog', 'cat', 'pelican', 'squirrel', 'eagle']\n",
    "years = [12,14,30,6,25]\n",
    "\n",
    "# write here - solution with list comprehension\n",
    "\n"
   ]
  },
  {
   "cell_type": "raw",
   "id": "ba8018a6",
   "metadata": {
    "format": "text/html"
   },
   "source": [
    "<a  class=\"jupman-sol jupman-sol-toggler\" \n",
    " onclick=\"jupman.toggleSolution(this);\" \n",
    " data-jupman-show=\"Show solution\" data-jupman-hide=\"Hide\">Show solution</a><div class=\"jupman-sol jupman-sol-code\" style=\"display:none\">  "
   ]
  },
  {
   "cell_type": "code",
   "execution_count": 136,
   "metadata": {
    "colab": {
     "autoexec": {
      "startup": false,
      "wait_interval": 0
     },
     "base_uri": "https://localhost:8080/",
     "height": 104,
     "output_extras": [
      {
       "item_id": 1
      }
     ]
    },
    "colab_type": "code",
    "executionInfo": {
     "elapsed": 416,
     "status": "ok",
     "timestamp": 1519054478279,
     "user": {
      "displayName": "David Leoni",
      "photoUrl": "https://lh3.googleusercontent.com/a/default-user=s128",
      "userId": "102920557909426557439"
     },
     "user_tz": -60
    },
    "id": "z0PWbUtnnGAK",
    "outputId": "32110d5c-9e25-419d-9a66-88d6d1b789c1"
   },
   "outputs": [
    {
     "data": {
      "text/plain": [
       "[['dog', 12], ['cat', 14], ['pelican', 30], ['squirrel', 6], ['eagle', 25]]"
      ]
     },
     "execution_count": 136,
     "metadata": {},
     "output_type": "execute_result"
    }
   ],
   "source": [
    "\n",
    "animals = ['dog', 'cat', 'pelican', 'squirrel', 'eagle']\n",
    "years = [12,14,30,6,25]\n",
    "\n",
    "# write here - solution with map\n",
    "\n",
    "list(map(list, zip(animals, years)))"
   ]
  },
  {
   "cell_type": "raw",
   "id": "fd075a9f",
   "metadata": {
    "format": "text/html"
   },
   "source": [
    "</div>"
   ]
  },
  {
   "cell_type": "code",
   "execution_count": 136,
   "metadata": {
    "colab": {
     "autoexec": {
      "startup": false,
      "wait_interval": 0
     },
     "base_uri": "https://localhost:8080/",
     "height": 104,
     "output_extras": [
      {
       "item_id": 1
      }
     ]
    },
    "colab_type": "code",
    "executionInfo": {
     "elapsed": 416,
     "status": "ok",
     "timestamp": 1519054478279,
     "user": {
      "displayName": "David Leoni",
      "photoUrl": "https://lh3.googleusercontent.com/a/default-user=s128",
      "userId": "102920557909426557439"
     },
     "user_tz": -60
    },
    "id": "z0PWbUtnnGAK",
    "outputId": "32110d5c-9e25-419d-9a66-88d6d1b789c1"
   },
   "outputs": [],
   "source": [
    "\n",
    "animals = ['dog', 'cat', 'pelican', 'squirrel', 'eagle']\n",
    "years = [12,14,30,6,25]\n",
    "\n",
    "# write here - solution with map\n",
    "\n"
   ]
  },
  {
   "cell_type": "markdown",
   "metadata": {
    "colab_type": "text",
    "id": "JS4ZOkHjqRE8"
   },
   "source": [
    "**✪✪✪ EXERCISE**: carry out the previous exercise by filtering the animals with life expectancy above 13 years, using `zip` and a list comprehension"
   ]
  },
  {
   "cell_type": "raw",
   "id": "7a4ae894",
   "metadata": {
    "format": "text/html"
   },
   "source": [
    "<a  class=\"jupman-sol jupman-sol-toggler\" \n",
    " onclick=\"jupman.toggleSolution(this);\" \n",
    " data-jupman-show=\"Show solution\" data-jupman-hide=\"Hide\">Show solution</a><div class=\"jupman-sol jupman-sol-code\" style=\"display:none\">  "
   ]
  },
  {
   "cell_type": "code",
   "execution_count": 137,
   "metadata": {
    "colab": {
     "autoexec": {
      "startup": false,
      "wait_interval": 0
     }
    },
    "colab_type": "code",
    "id": "lmNN4HYfnZXi"
   },
   "outputs": [
    {
     "data": {
      "text/plain": [
       "[['cat', 14], ['pelican', 30], ['eagle', 25]]"
      ]
     },
     "execution_count": 137,
     "metadata": {},
     "output_type": "execute_result"
    }
   ],
   "source": [
    "\n",
    "animals = ['dog', 'cat', 'pelican', 'squirrel', 'eagle']\n",
    "years = [12,14,30,6,25]\n",
    "\n",
    "# write here\n",
    "[ list(c) for c in zip(animals, years) if c[1] > 13 ]"
   ]
  },
  {
   "cell_type": "raw",
   "id": "02aa29ae",
   "metadata": {
    "format": "text/html"
   },
   "source": [
    "</div>"
   ]
  },
  {
   "cell_type": "code",
   "execution_count": 137,
   "metadata": {
    "colab": {
     "autoexec": {
      "startup": false,
      "wait_interval": 0
     }
    },
    "colab_type": "code",
    "id": "lmNN4HYfnZXi"
   },
   "outputs": [],
   "source": [
    "\n",
    "animals = ['dog', 'cat', 'pelican', 'squirrel', 'eagle']\n",
    "years = [12,14,30,6,25]\n",
    "\n",
    "# write here\n",
    "\n"
   ]
  },
  {
   "cell_type": "markdown",
   "metadata": {
    "colab_type": "text",
    "id": "gmluxI1sAFZn"
   },
   "source": [
    "**✪✪ EXERCISE**: Given the two lists with animal names and the corresponding life expectancy as above, write in the cell below some code that with a regular `for` cycle generates a dictionary which associates each species to its life expectancy, like so:\n",
    "\n",
    "```python\n",
    "{\n",
    " 'dog': 12,\n",
    " 'cat': 14, \n",
    " 'pelican': 30, \n",
    " 'squirrel': 6, \n",
    " 'eagle': 25\n",
    "}\n",
    "```\n",
    "\n",
    "<div class=\"alert alert-warning\">\n",
    "\n",
    "**WARNING: order doesn't matter**\n",
    "    \n",
    "According the the exact Python version you have and how the dictionary is created, the fields order might differ from the example when printed. This is totally normal, as dictionary keys can be seen as members of a set without any particular order.\n",
    "    \n",
    "If you want to be sure about printing keys in the same insertion order, you have to use an [OrderedDict](https://en.softpython.org/dictionaries/dictionaries4-sol.html#OrderedDict)\n",
    "</div>"
   ]
  },
  {
   "cell_type": "raw",
   "id": "570a62bd",
   "metadata": {
    "format": "text/html"
   },
   "source": [
    "<a  class=\"jupman-sol jupman-sol-toggler\" \n",
    " onclick=\"jupman.toggleSolution(this);\" \n",
    " data-jupman-show=\"Show solution\" data-jupman-hide=\"Hide\">Show solution</a><div class=\"jupman-sol jupman-sol-code\" style=\"display:none\">  "
   ]
  },
  {
   "cell_type": "code",
   "execution_count": 138,
   "metadata": {
    "colab": {
     "autoexec": {
      "startup": false,
      "wait_interval": 0
     }
    },
    "colab_type": "code",
    "id": "8aomrV6KAFZn"
   },
   "outputs": [
    {
     "data": {
      "text/plain": [
       "{'dog': 12, 'cat': 14, 'pelican': 30, 'squirrel': 6, 'eagle': 25}"
      ]
     },
     "execution_count": 138,
     "metadata": {},
     "output_type": "execute_result"
    }
   ],
   "source": [
    "\n",
    "animals = ['dog', 'cat', 'pelican', 'squirrel', 'eagle']\n",
    "years = [12,14,30,6,25]\n",
    "\n",
    "# write here\n",
    "d = {}\n",
    "for i in range(len(animals)):\n",
    "    d[animals[i]] = years[i]\n",
    "d"
   ]
  },
  {
   "cell_type": "raw",
   "id": "91b18cdb",
   "metadata": {
    "format": "text/html"
   },
   "source": [
    "</div>"
   ]
  },
  {
   "cell_type": "code",
   "execution_count": 138,
   "metadata": {
    "colab": {
     "autoexec": {
      "startup": false,
      "wait_interval": 0
     }
    },
    "colab_type": "code",
    "id": "8aomrV6KAFZn"
   },
   "outputs": [],
   "source": [
    "\n",
    "animals = ['dog', 'cat', 'pelican', 'squirrel', 'eagle']\n",
    "years = [12,14,30,6,25]\n",
    "\n",
    "# write here\n",
    "\n"
   ]
  },
  {
   "cell_type": "markdown",
   "metadata": {
    "colab_type": "text",
    "id": "y2Lk387pvSGo"
   },
   "source": [
    "To obtain the same result in only one line, it's possible to use the function `zip` as done in previous exercises, and than the function `dict` to create a dictionary starting from the list of element couples generated by the `zip`:"
   ]
  },
  {
   "cell_type": "code",
   "execution_count": 139,
   "metadata": {
    "colab": {
     "autoexec": {
      "startup": false,
      "wait_interval": 0
     },
     "base_uri": "https://localhost:8080/",
     "height": 34,
     "output_extras": [
      {
       "item_id": 1
      }
     ]
    },
    "colab_type": "code",
    "executionInfo": {
     "elapsed": 524,
     "status": "ok",
     "timestamp": 1519055238687,
     "user": {
      "displayName": "David Leoni",
      "photoUrl": "https://lh3.googleusercontent.com/a/default-user=s128",
      "userId": "102920557909426557439"
     },
     "user_tz": -60
    },
    "id": "9DB78dCBcHPt",
    "outputId": "158d49f3-b0ff-4939-d42c-b8e4510cdf3b"
   },
   "outputs": [
    {
     "data": {
      "text/plain": [
       "{'dog': 12, 'cat': 14, 'pelican': 30, 'squirrel': 6, 'eagle': 25}"
      ]
     },
     "execution_count": 139,
     "metadata": {},
     "output_type": "execute_result"
    }
   ],
   "source": [
    "dict(zip(animals, years))"
   ]
  },
  {
   "cell_type": "markdown",
   "metadata": {
    "colab_type": "text",
    "id": "jbX7XEmRAFZ8"
   },
   "source": [
    "**✪✪ EXERCISE**: Given a list of products containing lists each with a category, brand and quantity of sold packages:\n",
    "\n",
    "\n",
    "```python\n",
    "sales = [\n",
    "    ['tomatoes', 'Santini', 5],\n",
    "    ['tomatoes', 'Cirio', 1],\n",
    "    ['tomatoes', 'Mutti', 2],\n",
    "    ['cereals', 'Kelloggs', 3],\n",
    "    ['cereals', 'Choco Pops', 8],\n",
    "    ['chocolate','Novi', 9],\n",
    "    ['chocolate','Milka', 4],\n",
    "]\n",
    "\n",
    "```\n",
    "\n",
    "Write some Python code in the cell below to create a dictionary in which the keys are the categories and values are the sum of sold packages for that category, like so:\n",
    "\n",
    "\n",
    "```python\n",
    "{\n",
    " 'tomatoes': 8, \n",
    " 'cereals': 11, \n",
    " 'chocolate': 13\n",
    "}\n",
    "```\n",
    "\n",
    "* **USE** regular `for` cycle\n",
    "\n",
    "* **HINT**: pay attention to the two cases, when the dictionary to create still doesn't hold the   category extracted from the current list under examination, and when it already contains it."
   ]
  },
  {
   "cell_type": "raw",
   "id": "ff5fd19b",
   "metadata": {
    "format": "text/html"
   },
   "source": [
    "<a  class=\"jupman-sol jupman-sol-toggler\" \n",
    " onclick=\"jupman.toggleSolution(this);\" \n",
    " data-jupman-show=\"Show solution\" data-jupman-hide=\"Hide\">Show solution</a><div class=\"jupman-sol jupman-sol-code\" style=\"display:none\">  "
   ]
  },
  {
   "cell_type": "code",
   "execution_count": 140,
   "metadata": {
    "colab": {
     "autoexec": {
      "startup": false,
      "wait_interval": 0
     }
    },
    "colab_type": "code",
    "id": "Si8Tt6WHAFZ8"
   },
   "outputs": [
    {
     "data": {
      "text/plain": [
       "{'tomatoes': 8, 'cereals': 11, 'chocolate': 13}"
      ]
     },
     "execution_count": 140,
     "metadata": {},
     "output_type": "execute_result"
    }
   ],
   "source": [
    "\n",
    "sales = [\n",
    "    ['tomatoes', 'Santini', 5],\n",
    "    ['tomatoes', 'Cirio', 1],\n",
    "    ['tomatoes', 'Mutti', 2],\n",
    "    ['cereals', 'Kelloggs', 3],\n",
    "    ['cereals', 'Choco Pops', 8],\n",
    "    ['chocolate','Novi', 9],\n",
    "    ['chocolate','Milka', 4],\n",
    "]\n",
    "\n",
    "# write here\n",
    "\n",
    "d = {}\n",
    "for sale in sales:\n",
    "    if sale[0] in d:\n",
    "        d[sale[0]] += sale[2]\n",
    "    else:\n",
    "        d[sale[0]] = sale[2]\n",
    "d"
   ]
  },
  {
   "cell_type": "raw",
   "id": "c5d51b4d",
   "metadata": {
    "format": "text/html"
   },
   "source": [
    "</div>"
   ]
  },
  {
   "cell_type": "code",
   "execution_count": 140,
   "metadata": {
    "colab": {
     "autoexec": {
      "startup": false,
      "wait_interval": 0
     }
    },
    "colab_type": "code",
    "id": "Si8Tt6WHAFZ8"
   },
   "outputs": [],
   "source": [
    "\n",
    "sales = [\n",
    "    ['tomatoes', 'Santini', 5],\n",
    "    ['tomatoes', 'Cirio', 1],\n",
    "    ['tomatoes', 'Mutti', 2],\n",
    "    ['cereals', 'Kelloggs', 3],\n",
    "    ['cereals', 'Choco Pops', 8],\n",
    "    ['chocolate','Novi', 9],\n",
    "    ['chocolate','Milka', 4],\n",
    "]\n",
    "\n",
    "# write here\n",
    "\n"
   ]
  },
  {
   "cell_type": "markdown",
   "metadata": {},
   "source": [
    "## Furhter readings\n",
    "\n",
    "**Tools and scripts**: If you want execute code in editors other than Jupyter or you're curious about Python architecture, we invite you to read [Tools and scripts](https://en.softpython.org/tools/tools-sol.html) page.\n",
    "\n",
    "**Error handling and testing**: To understand how to deal with error conditions you can look at the separate notebook [Error handling and testing](https://en.softpython.org/functions/fun2-errors-and-testing-sol.html), it's also useful to understand how to solve some exercises of [Part A - Foundations](https://en.softpython.org/#foundations)"
   ]
  },
  {
   "cell_type": "code",
   "execution_count": null,
   "metadata": {},
   "outputs": [],
   "source": []
  }
 ],
 "metadata": {
  "celltoolbar": "Edit Metadata",
  "colab": {
   "collapsed_sections": [
    "WMaObpo6AFSP",
    "AUCCneEoAFTw",
    "F5GKXLjqAFYH",
    "-YkY_K8AAFUc",
    "poPVz2M0AFWT",
    "4JM8nJYtAFYx"
   ],
   "default_view": {},
   "name": "intro-exercises.ipynb",
   "provenance": [],
   "toc_visible": true,
   "version": "0.3.2",
   "views": {}
  },
  "kernelspec": {
   "display_name": "Python 3 (ipykernel)",
   "language": "python",
   "name": "python3"
  },
  "language_info": {
   "codemirror_mode": {
    "name": "ipython",
    "version": 3
   },
   "file_extension": ".py",
   "mimetype": "text/x-python",
   "name": "python",
   "nbconvert_exporter": "python",
   "pygments_lexer": "ipython3",
   "version": "3.7.10"
  },
  "toc": {
   "base_numbering": 1,
   "nav_menu": {},
   "number_sections": false,
   "sideBar": true,
   "skip_h1_title": false,
   "title_cell": "Table of Contents",
   "title_sidebar": "Contents",
   "toc_cell": false,
   "toc_position": {
    "height": "calc(100% - 180px)",
    "left": "10px",
    "top": "150px",
    "width": "349px"
   },
   "toc_section_display": true,
   "toc_window_display": true
  }
 },
 "nbformat": 4,
 "nbformat_minor": 1
}
