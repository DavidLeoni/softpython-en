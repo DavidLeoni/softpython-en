{
 "cells": [
  {
   "cell_type": "code",
   "execution_count": 1,
   "metadata": {
    "nbsphinx": "hidden"
   },
   "outputs": [],
   "source": [
    "# Remember to execute this cell with Shift+Enter\n",
    "\n",
    "import sys\n",
    "sys.path.append('../')\n",
    "import jupman"
   ]
  },
  {
   "cell_type": "markdown",
   "metadata": {},
   "source": [
    "# Dictionaries 4 - special classes\n",
    "\n",
    "## [Download exercise zip](../_static/generated/dictionaries.zip)\n",
    "\n",
    "[Browse online files](https://github.com/DavidLeoni/softpython-en/tree/master/dictionaries)"
   ]
  },
  {
   "cell_type": "markdown",
   "metadata": {},
   "source": [
    "There are special classes we can use:"
   ]
  },
  {
   "cell_type": "markdown",
   "metadata": {},
   "source": [
    "|Class|Description|\n",
    "|------|-----------|\n",
    "|[OrderedDict](#OrderedDict)|Dictionary which allows to maintain the order of insertion of keys |\n",
    "|[Counter](#Counter)|Dictionary which allows to rapidly calculate histograms|"
   ]
  },
  {
   "cell_type": "markdown",
   "metadata": {},
   "source": [
    "## What to do\n",
    "\n",
    "1. Unzip [exercises zip](../_static/generated/dictionaries.zip) in a folder, you should obtain something like this:\n",
    "\n",
    "```\n",
    "sets\n",
    "    dictionaries1.ipynb    \n",
    "    dictionaries1-sol.ipynb         \n",
    "    dictionaries2.ipynb    \n",
    "    dictionaries2-sol.ipynb         \n",
    "    dictionaries3.ipynb    \n",
    "    dictionaries3-sol.ipynb\n",
    "    dictionaries4.ipynb    \n",
    "    dictionaries4-sol.ipynb    \n",
    "    dictionaries5-chal.ipynb    \n",
    "    jupman.py         \n",
    "```\n",
    "\n",
    "<div class=\"alert alert-warning\">\n",
    "\n",
    "**WARNING: to correctly visualize the notebook, it MUST be in an unzipped folder !**\n",
    "</div>"
   ]
  },
  {
   "cell_type": "markdown",
   "metadata": {},
   "source": [
    "2. open Jupyter Notebook from that folder. Two things should open, first a console and then a browser. The browser should show a file list: navigate the list and open the notebook `dictionaries4.ipynb`\n",
    "\n",
    "3. Go on reading the exercises file, sometimes you will find paragraphs marked **Exercises** which will ask to write Python commands in the following cells."
   ]
  },
  {
   "cell_type": "markdown",
   "metadata": {},
   "source": [
    "Shortcut keys:\n",
    "\n",
    "- to execute Python code inside a Jupyter cell, press `Control + Enter`\n",
    "\n",
    "- to execute Python code inside a Jupyter cell AND select next cell, press `Shift + Enter`\n",
    "\n",
    "- to execute Python code inside a Jupyter cell AND a create a new cell aftwerwards, press `Alt + Enter`\n",
    "\n",
    "- If the notebooks look stuck, try to select `Kernel -> Restart`"
   ]
  },
  {
   "cell_type": "markdown",
   "metadata": {},
   "source": [
    "## OrderedDict\n",
    "\n",
    "As we said before, when we print a dictionary with `print` or we leave the visualization to Jupyter, most of the times couples are not in insertion order. For the order to be predictable, you must use an `OrderedDict`\n",
    "\n",
    "First you need to import it from the `collections` module:"
   ]
  },
  {
   "cell_type": "code",
   "execution_count": 2,
   "metadata": {},
   "outputs": [],
   "source": [
    "from collections import OrderedDict"
   ]
  },
  {
   "cell_type": "code",
   "execution_count": 3,
   "metadata": {},
   "outputs": [],
   "source": [
    "od = OrderedDict()"
   ]
  },
  {
   "cell_type": "markdown",
   "metadata": {},
   "source": [
    "An `OrderedDict` appears and behaves like regular dictionaries:"
   ]
  },
  {
   "cell_type": "code",
   "execution_count": 4,
   "metadata": {},
   "outputs": [],
   "source": [
    "od['some key'] = 5\n",
    "od['some other key'] = 7\n",
    "od[('an', 'immutable','tuple', 'as key')] = 3\n",
    "od['Another key'] = 'now a string!'\n",
    "od[123] = 'hello'"
   ]
  },
  {
   "cell_type": "markdown",
   "metadata": {},
   "source": [
    "When visualizing with Jupyter, we see the insertion order:"
   ]
  },
  {
   "cell_type": "code",
   "execution_count": 5,
   "metadata": {},
   "outputs": [
    {
     "data": {
      "text/plain": [
       "OrderedDict([('some key', 5),\n",
       "             ('some other key', 7),\n",
       "             (('an', 'immutable', 'tuple', 'as key'), 3),\n",
       "             ('Another key', 'now a string!'),\n",
       "             (123, 'hello')])"
      ]
     },
     "execution_count": 5,
     "metadata": {},
     "output_type": "execute_result"
    }
   ],
   "source": [
    "od"
   ]
  },
  {
   "cell_type": "markdown",
   "metadata": {},
   "source": [
    "As we see it with a regular `print`:"
   ]
  },
  {
   "cell_type": "code",
   "execution_count": 6,
   "metadata": {},
   "outputs": [
    {
     "name": "stdout",
     "output_type": "stream",
     "text": [
      "OrderedDict([('some key', 5), ('some other key', 7), (('an', 'immutable', 'tuple', 'as key'), 3), ('Another key', 'now a string!'), (123, 'hello')])\n"
     ]
    }
   ],
   "source": [
    "print(od)"
   ]
  },
  {
   "cell_type": "markdown",
   "metadata": {},
   "source": [
    "Let's see how it appears in Python Tutor:"
   ]
  },
  {
   "cell_type": "code",
   "execution_count": 7,
   "metadata": {},
   "outputs": [
    {
     "data": {
      "text/html": [
       "\n",
       "        <script src=\"../_static/js/pytutor-embed.bundle.min.js\" type=\"application/javascript\"></script>\n",
       "     \n",
       "        <script id=\"json-jm150705f8-df1b-4436-994d-55d197a8330b\" type=\"application/json\" >\n",
       "            {\"code\": \" \\nfrom collections import OrderedDict\\nod = OrderedDict()\\nod['some key'] = 5\\nod['some other key'] = 7\\nod[('an', 'immutable','tuple', 'as key')] = 3\\nod['Another key'] = 'now a string!'\\nod[123] = 'hello'\", \"trace\": [{\"line\": 2, \"event\": \"step_line\", \"func_name\": \"<module>\", \"globals\": {}, \"ordered_globals\": [], \"stack_to_render\": [], \"heap\": {}, \"stdout\": \"\"}, {\"line\": 3, \"event\": \"step_line\", \"func_name\": \"<module>\", \"globals\": {\"OrderedDict\": [\"IMPORTED_FAUX_PRIMITIVE\", \"imported class\"]}, \"ordered_globals\": [\"OrderedDict\"], \"stack_to_render\": [], \"heap\": {}, \"stdout\": \"\"}, {\"line\": 4, \"event\": \"step_line\", \"func_name\": \"<module>\", \"globals\": {\"OrderedDict\": [\"IMPORTED_FAUX_PRIMITIVE\", \"imported class\"], \"od\": [\"REF\", 1]}, \"ordered_globals\": [\"OrderedDict\", \"od\"], \"stack_to_render\": [], \"heap\": {\"1\": [\"INSTANCE_PPRINT\", \"OrderedDict\", \"OrderedDict()\"]}, \"stdout\": \"\"}, {\"line\": 5, \"event\": \"step_line\", \"func_name\": \"<module>\", \"globals\": {\"OrderedDict\": [\"IMPORTED_FAUX_PRIMITIVE\", \"imported class\"], \"od\": [\"REF\", 1]}, \"ordered_globals\": [\"OrderedDict\", \"od\"], \"stack_to_render\": [], \"heap\": {\"1\": [\"INSTANCE_PPRINT\", \"OrderedDict\", \"OrderedDict([('some key', 5)])\"]}, \"stdout\": \"\"}, {\"line\": 6, \"event\": \"step_line\", \"func_name\": \"<module>\", \"globals\": {\"OrderedDict\": [\"IMPORTED_FAUX_PRIMITIVE\", \"imported class\"], \"od\": [\"REF\", 1]}, \"ordered_globals\": [\"OrderedDict\", \"od\"], \"stack_to_render\": [], \"heap\": {\"1\": [\"INSTANCE_PPRINT\", \"OrderedDict\", \"OrderedDict([('some key', 5), ('some other key', 7)])\"]}, \"stdout\": \"\"}, {\"line\": 7, \"event\": \"step_line\", \"func_name\": \"<module>\", \"globals\": {\"OrderedDict\": [\"IMPORTED_FAUX_PRIMITIVE\", \"imported class\"], \"od\": [\"REF\", 1]}, \"ordered_globals\": [\"OrderedDict\", \"od\"], \"stack_to_render\": [], \"heap\": {\"1\": [\"INSTANCE_PPRINT\", \"OrderedDict\", \"OrderedDict([('some key', 5), ('some other key', 7), (('an', 'immutable', 'tuple', 'as key'), 3)])\"]}, \"stdout\": \"\"}, {\"line\": 8, \"event\": \"step_line\", \"func_name\": \"<module>\", \"globals\": {\"OrderedDict\": [\"IMPORTED_FAUX_PRIMITIVE\", \"imported class\"], \"od\": [\"REF\", 1]}, \"ordered_globals\": [\"OrderedDict\", \"od\"], \"stack_to_render\": [], \"heap\": {\"1\": [\"INSTANCE_PPRINT\", \"OrderedDict\", \"OrderedDict([('some key', 5), ('some other key', 7), (('an', 'immutable', 'tuple', 'as key'), 3), ('Another key', 'now a string!')])\"]}, \"stdout\": \"\"}, {\"line\": 8, \"event\": \"return\", \"func_name\": \"<module>\", \"globals\": {\"OrderedDict\": [\"IMPORTED_FAUX_PRIMITIVE\", \"imported class\"], \"od\": [\"REF\", 1]}, \"ordered_globals\": [\"OrderedDict\", \"od\"], \"stack_to_render\": [], \"heap\": {\"1\": [\"INSTANCE_PPRINT\", \"OrderedDict\", \"OrderedDict([('some key', 5), ('some other key', 7), (('an', 'immutable', 'tuple', 'as key'), 3), ('Another key', 'now a string!'), (123, 'hello')])\"]}, \"stdout\": \"\"}]}\n",
       "        </script>\n",
       "        <div id=\"jm150705f8-df1b-4436-994d-55d197a8330b\" class=\"pytutorVisualizer\"> </div>\n",
       " \n",
       "        <style>\n",
       "        .vizLayoutTd {\n",
       "            background-color: #fff !important;\n",
       "        }\n",
       "\n",
       "        #pyStdout {            \n",
       "            min-height:25px;\n",
       "        }\n",
       "\n",
       "        /* 'Edit this code' link, hiding because replaces browser tab !!!*/\n",
       "        #editCodeLinkDiv {\n",
       "            display:none;  \n",
       "        }\n",
       "        </style>   \n",
       "                            \n",
       "        <script>\n",
       "        (function(){\n",
       "\n",
       "            var trace = JSON.parse(document.getElementById('json-jm150705f8-df1b-4436-994d-55d197a8330b').innerHTML);                                        \n",
       "            // NOTE 1: id without #\n",
       "            // NOTE 2 - maybe there are more predictable ways, but this will work anyway\n",
       "            //        - id should be number\n",
       "            visualizerIdOverride = Math.trunc(Math.random() * 100000000000)\n",
       "            addVisualizerToPage(trace, 'jm150705f8-df1b-4436-994d-55d197a8330b',{'embeddedMode' : false,\n",
       "                                             'visualizerIdOverride':visualizerIdOverride})  \n",
       "            \n",
       "            \n",
       "            // set overflow for pytuts - need to do in python as css \n",
       "            // does not allow parent selection\n",
       "            var pytuts = $('.pytutorVisualizer')\n",
       "            pytuts.closest('div.output_html.rendered_html.output_result')\n",
       "                    .css('overflow-x', 'visible')\n",
       "        \n",
       "            //pytuts.closest('div.output_html.rendered_html.output_result')\n",
       "            //      .css('background-color','red')                \n",
       "            \n",
       "        })()\n",
       "        </script>\n",
       "                \n",
       "                "
      ],
      "text/plain": [
       "<IPython.core.display.HTML object>"
      ]
     },
     "execution_count": 7,
     "metadata": {},
     "output_type": "execute_result"
    }
   ],
   "source": [
    "from collections import OrderedDict\n",
    "od = OrderedDict()\n",
    "od['some key'] = 5\n",
    "od['some other key'] = 7\n",
    "od[('an', 'immutable','tuple', 'as key')] = 3\n",
    "od['Another key'] = 'now a string!'\n",
    "od[123] = 'hello'\n",
    "\n",
    "jupman.pytut()"
   ]
  },
  {
   "cell_type": "markdown",
   "metadata": {},
   "source": [
    "### Exercise - phonebook\n",
    "\n",
    "Write some code which given three tuples with names and phone numbers, PRINTS an `OrderedDict` which associates names to phone numbers, in the order in which are proposed\n",
    "\n",
    "* Your code must work with _any_ tuple\n",
    "* Do not forget to import `OrderedDict` from `collections`\n",
    "\n",
    "Example:\n",
    "\n",
    "```python\n",
    "t1 = ('Alice', '143242903')\n",
    "t2 = ('Bob', '417483437')\n",
    "t3 = ('Charles', '423413213')\n",
    "```\n",
    "\n",
    "after your code, it should result:\n",
    "\n",
    "```python\n",
    "OrderedDict([('Alice', '143242903'), ('Bob', '417483437'), ('Charles', '423413213')])\n",
    "```\n"
   ]
  },
  {
   "cell_type": "code",
   "execution_count": 8,
   "metadata": {},
   "outputs": [
    {
     "name": "stdout",
     "output_type": "stream",
     "text": [
      "OrderedDict([('Alice', '143242903'), ('Bob', '417483437'), ('Charles', '423413213')])\n"
     ]
    }
   ],
   "source": [
    "#jupman-purge-output\n",
    "t1 = ('Alice', '143242903')\n",
    "t2 = ('Bob', '417483437')\n",
    "t3 = ('Charles', '423413213')\n",
    "\n",
    "# write here\n",
    "\n",
    "# first we need to import some collection\n",
    "from collections import OrderedDict\n",
    "\n",
    "od = OrderedDict([t1, t2, t3])\n",
    "print(od)"
   ]
  },
  {
   "cell_type": "markdown",
   "metadata": {},
   "source": [
    "### Exercise - OrderedDict copy\n",
    "\n",
    "Given an `OrderedDict` `od1` containing English to Italian translations, create a NEW `OrderedDict` called `od2` which contains the same translations as input PLUS the translation `'water' : 'acqua'`\n",
    "\n",
    "\n",
    "- NOTE 1: your code should work with any ordered dict as input\n",
    "- NOTE 2: `od2` MUST be associated to a NEW `OrderedDict` !!\n",
    "\n",
    "Example - given:\n",
    "\n",
    "```python\n",
    "od1 = OrderedDict()\n",
    "od1['dog'] = 'cane'\n",
    "od1['home'] = 'casa'\n",
    "od1['table'] = 'tavolo'\n",
    "```\n",
    "\n",
    "after your code, you should obtain:\n",
    "\n",
    "\n",
    "```python\n",
    ">>> print(od1)\n",
    "OrderedDict([('dog', 'cane'), ('home', 'casa'), ('table', 'tavolo')])\n",
    ">>> print(od2)\n",
    "OrderedDict([('dog', 'cane'), ('home', 'casa'), ('table', 'tavolo'), ('water', 'acqua')])\n",
    "```"
   ]
  },
  {
   "cell_type": "code",
   "execution_count": 9,
   "metadata": {},
   "outputs": [
    {
     "name": "stdout",
     "output_type": "stream",
     "text": [
      "od1= OrderedDict([('dog', 'cane'), ('home', 'casa'), ('table', 'tavolo')])\n",
      "od2= OrderedDict([('dog', 'cane'), ('home', 'casa'), ('table', 'tavolo'), ('water', 'acqua')])\n"
     ]
    }
   ],
   "source": [
    "#jupman-purge-output\n",
    "from collections import OrderedDict\n",
    "\n",
    "od1 = OrderedDict()\n",
    "od1['dog'] = 'cane'\n",
    "od1['home'] = 'casa'\n",
    "od1['table'] = 'tavolo'\n",
    "\n",
    "# write here\n",
    "od2 = OrderedDict(od1)\n",
    "od2['water'] = 'acqua'\n",
    "\n",
    "print(\"od1=\", od1)\n",
    "print(\"od2=\", od2)"
   ]
  },
  {
   "cell_type": "markdown",
   "metadata": {},
   "source": [
    "## Counter\n",
    "\n",
    "If we need to know how many different elements there are in a sequence (in other words, if we need to calculate a frequence histogram), the class `Counter` from `collections` module  comes useful. `Counter` is a special type of dictionary, and first of all, we must declare to Python our intention to use it:"
   ]
  },
  {
   "cell_type": "code",
   "execution_count": 10,
   "metadata": {},
   "outputs": [],
   "source": [
    "from collections import Counter"
   ]
  },
  {
   "cell_type": "markdown",
   "metadata": {},
   "source": [
    "Suppose we want to count how many different characters there are in this list:"
   ]
  },
  {
   "cell_type": "code",
   "execution_count": 11,
   "metadata": {},
   "outputs": [],
   "source": [
    "my_seq = ['t', 'e', 'm', 'p', 'e', 'r', 'a', 'm', 'e', 'n', 't']"
   ]
  },
  {
   "cell_type": "markdown",
   "metadata": {},
   "source": [
    "We can initialize `Counter` like this:"
   ]
  },
  {
   "cell_type": "code",
   "execution_count": 12,
   "metadata": {},
   "outputs": [],
   "source": [
    "histogram = Counter(my_seq)     "
   ]
  },
  {
   "cell_type": "markdown",
   "metadata": {},
   "source": [
    "If we print it, we see that the first elements are the most frequent:"
   ]
  },
  {
   "cell_type": "code",
   "execution_count": 13,
   "metadata": {},
   "outputs": [
    {
     "name": "stdout",
     "output_type": "stream",
     "text": [
      "Counter({'e': 3, 't': 2, 'm': 2, 'p': 1, 'r': 1, 'a': 1, 'n': 1})\n"
     ]
    }
   ],
   "source": [
    "print(histogram)"
   ]
  },
  {
   "cell_type": "markdown",
   "metadata": {},
   "source": [
    "<div class=\"alert alert-warning\">\n",
    "\n",
    "**WARNING: IF WE DON'T USE** `print` **JUPYTER WILL PRINT IN ALPHABETICAL ORDER!**       \n",
    "</div>"
   ]
  },
  {
   "cell_type": "code",
   "execution_count": 14,
   "metadata": {},
   "outputs": [
    {
     "data": {
      "text/plain": [
       "Counter({'t': 2, 'e': 3, 'm': 2, 'p': 1, 'r': 1, 'a': 1, 'n': 1})"
      ]
     },
     "execution_count": 14,
     "metadata": {},
     "output_type": "execute_result"
    }
   ],
   "source": [
    "histogram    # careful !"
   ]
  },
  {
   "cell_type": "markdown",
   "metadata": {},
   "source": [
    "We can obtain a list with the `n` most frequent items by using the method `most_common`, which returns a list of tuples:"
   ]
  },
  {
   "cell_type": "code",
   "execution_count": 15,
   "metadata": {},
   "outputs": [
    {
     "data": {
      "text/plain": [
       "[('e', 3), ('t', 2), ('m', 2), ('p', 1), ('r', 1)]"
      ]
     },
     "execution_count": 15,
     "metadata": {},
     "output_type": "execute_result"
    }
   ],
   "source": [
    "histogram.most_common(5)"
   ]
  },
  {
   "cell_type": "markdown",
   "metadata": {},
   "source": [
    "`Counter` can be initialized with any sequence, for example with tuples:"
   ]
  },
  {
   "cell_type": "code",
   "execution_count": 16,
   "metadata": {},
   "outputs": [
    {
     "name": "stdout",
     "output_type": "stream",
     "text": [
      "Counter({50: 8, 40: 4, 70: 3, 60: 3, 30: 2})\n"
     ]
    }
   ],
   "source": [
    "ct = Counter((50,70,40,60,40,50,40,70,50,50,50,60,50,30,50,30,40,50,60,70))\n",
    "print(ct)"
   ]
  },
  {
   "cell_type": "markdown",
   "metadata": {},
   "source": [
    "or strings:"
   ]
  },
  {
   "cell_type": "code",
   "execution_count": 17,
   "metadata": {},
   "outputs": [],
   "source": [
    "cs = Counter('condonation')"
   ]
  },
  {
   "cell_type": "code",
   "execution_count": 18,
   "metadata": {},
   "outputs": [
    {
     "name": "stdout",
     "output_type": "stream",
     "text": [
      "Counter({'o': 3, 'n': 3, 'c': 1, 'd': 1, 'a': 1, 't': 1, 'i': 1})\n"
     ]
    }
   ],
   "source": [
    "print(cs)"
   ]
  },
  {
   "cell_type": "markdown",
   "metadata": {},
   "source": [
    "For other methods we refer to  [Python documentation](https://docs.python.org/3/library/collections.html#collections.Counter) "
   ]
  },
  {
   "cell_type": "markdown",
   "metadata": {},
   "source": [
    "### Exercise - saddened\n",
    "\n",
    "Given a string `s`, write some code which prints:\n",
    "\n",
    "- the most frequent character\n",
    "- the least frequent character\n",
    "- how many and which different frequencies there are\n",
    "\n",
    "- Your code must work with _any_ string `s`\n",
    "- Ignore the possibility there could be ties among the most/least frequent items\n",
    "- remember to import `Counter` from `collections`\n",
    "\n",
    "Example - given:\n",
    "\n",
    "```python\n",
    "s = 'saddened'\n",
    "```\n",
    "\n",
    "your code must print:\n",
    "\n",
    "```\n",
    "Among the most frequent ones we find ('d', 3)\n",
    "Among the least frequent ones we find ('a', 1)\n",
    "There are 3 different frequencies: {1, 2, 3}\n",
    "```"
   ]
  },
  {
   "cell_type": "code",
   "execution_count": 19,
   "metadata": {},
   "outputs": [
    {
     "name": "stdout",
     "output_type": "stream",
     "text": [
      "Among the most frequent ones we find ('d', 3)\n",
      "Among the least frequent ones we find ('n', 1)\n",
      "There are 3 different frequencies: {1, 2, 3}\n"
     ]
    }
   ],
   "source": [
    "#jupman-purge-output\n",
    "s = 'saddened'\n",
    "\n",
    "# write here\n",
    "from collections import Counter\n",
    "\n",
    "c = Counter(s)\n",
    "\n",
    "print(\"Among the most frequent ones we find\", c.most_common()[0])\n",
    "print(\"Among the least frequent ones we find\", c.most_common()[-1])\n",
    "print(\"There are\", len(set(c.values())), \"different frequencies:\", set(c.values()))"
   ]
  },
  {
   "cell_type": "markdown",
   "metadata": {},
   "source": [
    "### ------\n",
    "<!--\n",
    "## Continue\n",
    "\n",
    "Go on with [first challenges](https://en.softpython.org/dictionaries/dictionaries5-chal.html)-->"
   ]
  },
  {
   "cell_type": "code",
   "execution_count": null,
   "metadata": {},
   "outputs": [],
   "source": []
  }
 ],
 "metadata": {
  "celltoolbar": "Edit Metadata",
  "kernelspec": {
   "display_name": "Python 3 (ipykernel)",
   "language": "python",
   "name": "python3"
  },
  "language_info": {
   "codemirror_mode": {
    "name": "ipython",
    "version": 3
   },
   "file_extension": ".py",
   "mimetype": "text/x-python",
   "name": "python",
   "nbconvert_exporter": "python",
   "pygments_lexer": "ipython3",
   "version": "3.7.10"
  },
  "toc": {
   "base_numbering": 1,
   "nav_menu": {},
   "number_sections": false,
   "sideBar": true,
   "skip_h1_title": false,
   "title_cell": "Table of Contents",
   "title_sidebar": "Contents",
   "toc_cell": false,
   "toc_position": {
    "height": "calc(100% - 180px)",
    "left": "10px",
    "top": "150px",
    "width": "342px"
   },
   "toc_section_display": true,
   "toc_window_display": true
  }
 },
 "nbformat": 4,
 "nbformat_minor": 2
}
