{
 "cells": [
  {
   "cell_type": "code",
   "execution_count": 1,
   "metadata": {
    "nbsphinx": "hidden"
   },
   "outputs": [],
   "source": [
    "# Remember to execute this cell with Shift+Enter\n",
    "import jupman"
   ]
  },
  {
   "cell_type": "markdown",
   "metadata": {},
   "source": [
    "# Dictionaries 1 - Introduction\n",
    "\n",
    "## [Download exercises zip](../_static/generated/dictionaries.zip)\n",
    "\n",
    "[Browse files online](https://github.com/DavidLeoni/softpython-en/tree/master/dictionaries)\n",
    "\n",
    "Dictionaries are mutable containers which allow us to rapidly associate elements called _keys_ to some _values_\n",
    "\n",
    "* _Keys_ are immutable, don't have order and there cannot be duplicates\n",
    "* _Values_ can be duplicated\n",
    "\n",
    "Given a key, we can find the corresponding value very fast."
   ]
  },
  {
   "cell_type": "markdown",
   "metadata": {},
   "source": [
    "## What to do\n",
    "\n",
    "1. Unzip [exercises zip](../_static/generated/dictionaries.zip) in a folder, you should obtain something like this:\n",
    "\n",
    "```\n",
    "sets\n",
    "    dictionaries1.ipynb    \n",
    "    dictionaries1-sol.ipynb         \n",
    "    dictionaries2.ipynb    \n",
    "    dictionaries2-sol.ipynb         \n",
    "    dictionaries3.ipynb    \n",
    "    dictionaries3-sol.ipynb\n",
    "    dictionaries4.ipynb    \n",
    "    dictionaries4-sol.ipynb\n",
    "    dictionaries5-chal.ipynb    \n",
    "    jupman.py         \n",
    "```\n",
    "\n",
    "<div class=\"alert alert-warning\">\n",
    "\n",
    "**WARNING: to correctly visualize the notebook, it MUST be in an unzipped folder !**\n",
    "</div>"
   ]
  },
  {
   "cell_type": "markdown",
   "metadata": {},
   "source": [
    "2. open Jupyter Notebook from that folder. Two things should open, first a console and then a browser. The browser should show a file list: navigate the list and open the notebook `dictionaries1.ipynb`\n",
    "\n",
    "3. Go on reading the exercises file, sometimes you will find paragraphs marked **Exercises** which will ask to write Python commands in the following cells."
   ]
  },
  {
   "cell_type": "markdown",
   "metadata": {},
   "source": [
    "Shortcut keys:\n",
    "\n",
    "- to execute Python code inside a Jupyter cell, press `Control + Enter`\n",
    "\n",
    "- to execute Python code inside a Jupyter cell AND select next cell, press `Shift + Enter`\n",
    "\n",
    "- to execute Python code inside a Jupyter cell AND a create a new cell aftwerwards, press `Alt + Enter`\n",
    "\n",
    "- If the notebooks look stuck, try to select `Kernel -> Restart`"
   ]
  },
  {
   "cell_type": "markdown",
   "metadata": {},
   "source": [
    "## Creating a dictionary\n",
    "\n",
    "In everyday life, when thinking about a dictionary we typically refer to a book which given an item (for example `'chair'`), allows us to **rapidly** find the related description (i.e. `a piece of furniture to sit on`). \n",
    "\n",
    "In Python we have a data structure called `dict` which provides an easy way to represent dictionaries.\n",
    "\n",
    "Following the previous example, we might create a `dict` with different items like this:"
   ]
  },
  {
   "cell_type": "code",
   "execution_count": 2,
   "metadata": {},
   "outputs": [
    {
     "data": {
      "text/plain": [
       "{'chair': 'a piece of furniture to sit on',\n",
       " 'cupboard': 'a cabinet for storage',\n",
       " 'lamp': 'a device to provide illumination'}"
      ]
     },
     "execution_count": 2,
     "metadata": {},
     "output_type": "execute_result"
    }
   ],
   "source": [
    "{'chair':'a piece of furniture to sit on',\n",
    " 'cupboard':'a cabinet for storage',\n",
    " 'lamp': 'a device to provide illumination'\n",
    "}\n"
   ]
  },
  {
   "cell_type": "markdown",
   "metadata": {},
   "source": [
    "Let's be clear about the naming:\n",
    "    \n",
    "> Dictionaries are mutable containers which allow us to rapidly associate elements called **keys** to some **values**.\n",
    "\n",
    "The definition says we have _keys_ (in the example `'chair'`, `'cupboard'`, etc), while the descriptions from the example (`'a piece of furniture to sit on'`) in Python are going to be called _values._\n",
    "\n",
    "When we create a dictionary, we first write a curly bracket `{`, then we follow it with a series of key `:` value couples, each followed by a comma `,` (except the last one, in which the comma is optional). At the end we close with a a curly bracket `}`\n",
    "\n",
    "Placing spaces or newlines inside **is optional**. So we can also write like this:"
   ]
  },
  {
   "cell_type": "code",
   "execution_count": 3,
   "metadata": {},
   "outputs": [
    {
     "data": {
      "text/plain": [
       "{'chair': 'a piece of furniture to sit on',\n",
       " 'cupboard': 'a cabinet for storage',\n",
       " 'lamp': 'a device to provide illumination'}"
      ]
     },
     "execution_count": 3,
     "metadata": {},
     "output_type": "execute_result"
    }
   ],
   "source": [
    "{'chair'    : 'a piece of furniture to sit on',\n",
    " \n",
    " 'cupboard' :     'a cabinet for storage',\n",
    " 'lamp'     : 'a device to provide illumination'\n",
    "}"
   ]
  },
  {
   "cell_type": "markdown",
   "metadata": {},
   "source": [
    "Or also everything on a row:"
   ]
  },
  {
   "cell_type": "code",
   "execution_count": 4,
   "metadata": {},
   "outputs": [
    {
     "data": {
      "text/plain": [
       "{'chair': 'a piece of furniture to sit on',\n",
       " 'cupboard': 'a cabinet for storage',\n",
       " 'lamp': 'a device to provide illumination'}"
      ]
     },
     "execution_count": 4,
     "metadata": {},
     "output_type": "execute_result"
    }
   ],
   "source": [
    "{'chair':'a piece of furniture to sit on','cupboard':'a cabinet for storage','lamp':'a device to provide illumination'}"
   ]
  },
  {
   "cell_type": "markdown",
   "metadata": {},
   "source": [
    "Note if we use short words Python will probably print the dictionary in single a row anyway:"
   ]
  },
  {
   "cell_type": "code",
   "execution_count": 5,
   "metadata": {},
   "outputs": [
    {
     "data": {
      "text/plain": [
       "{'barca': 'remo', 'auto': 'ruota', 'aereo': 'ala'}"
      ]
     },
     "execution_count": 5,
     "metadata": {},
     "output_type": "execute_result"
    }
   ],
   "source": [
    "{'barca': 'remo',\n",
    " 'auto': 'ruota',\n",
    " 'aereo': 'ala'}"
   ]
  },
  {
   "cell_type": "markdown",
   "metadata": {},
   "source": [
    "Putting a comma after the last couple does not give errors:"
   ]
  },
  {
   "cell_type": "code",
   "execution_count": 6,
   "metadata": {},
   "outputs": [
    {
     "data": {
      "text/plain": [
       "{'ship': 'paddle', 'car': 'wheel', 'airplane': 'wing'}"
      ]
     },
     "execution_count": 6,
     "metadata": {},
     "output_type": "execute_result"
    }
   ],
   "source": [
    "{\n",
    " 'ship': 'paddle',\n",
    " 'car': 'wheel',\n",
    " 'airplane': 'wing',  # note 'extra' comma\n",
    "}"
   ]
  },
  {
   "cell_type": "markdown",
   "metadata": {},
   "source": [
    "Let's see how a dictionary is represented in Python Tutor - to ease the job, we will assign the variable `furniture` to it"
   ]
  },
  {
   "cell_type": "code",
   "execution_count": 7,
   "metadata": {},
   "outputs": [],
   "source": [
    "# WARNING: FOR PYTHON TUTOR TO WORK, REMEMBER TO EXECUTE THIS CELL with Shift+Enter\n",
    "#          (it's sufficient to execute it only once)\n",
    "\n",
    "import jupman"
   ]
  },
  {
   "cell_type": "code",
   "execution_count": 8,
   "metadata": {},
   "outputs": [
    {
     "name": "stdout",
     "output_type": "stream",
     "text": [
      "{'chair': 'a piece of furniture to sit on', 'cupboard': 'a cabinet for storage', 'lamp': 'a device to provide illumination'}\n"
     ]
    },
    {
     "data": {
      "text/html": [
       "        \n",
       "        <script src=\"../_static/js/pytutor-embed.bundle.min.js\" type=\"application/javascript\"></script>\n",
       "    \n",
       "        <style>\n",
       "        @import \"../_static/css/jupman.css\";\n",
       "        </style>\n",
       "     \n",
       "        <script id=\"json-jm-38e2cdd9b4c2c497cad81824d968add1-10\" type=\"application/json\" >\n",
       "            {\"code\": \" \\nfurniture = {\\n    'chair'   :'a piece of furniture to sit on',\\n    'cupboard':'a cabinet for storage',\\n    'lamp'    :'a device to provide illumination'\\n}\\nprint(furniture)\", \"trace\": [{\"line\": 3, \"event\": \"step_line\", \"func_name\": \"<module>\", \"globals\": {}, \"ordered_globals\": [], \"stack_to_render\": [], \"heap\": {}, \"stdout\": \"\"}, {\"line\": 4, \"event\": \"step_line\", \"func_name\": \"<module>\", \"globals\": {}, \"ordered_globals\": [], \"stack_to_render\": [], \"heap\": {}, \"stdout\": \"\"}, {\"line\": 5, \"event\": \"step_line\", \"func_name\": \"<module>\", \"globals\": {}, \"ordered_globals\": [], \"stack_to_render\": [], \"heap\": {}, \"stdout\": \"\"}, {\"line\": 7, \"event\": \"step_line\", \"func_name\": \"<module>\", \"globals\": {\"furniture\": [\"REF\", 1]}, \"ordered_globals\": [\"furniture\"], \"stack_to_render\": [], \"heap\": {\"1\": [\"DICT\", [\"chair\", \"a piece of furniture to sit on\"], [\"cupboard\", \"a cabinet for storage\"], [\"lamp\", \"a device to provide illumination\"]]}, \"stdout\": \"\"}, {\"line\": 7, \"event\": \"return\", \"func_name\": \"<module>\", \"globals\": {\"furniture\": [\"REF\", 1]}, \"ordered_globals\": [\"furniture\"], \"stack_to_render\": [], \"heap\": {\"1\": [\"DICT\", [\"chair\", \"a piece of furniture to sit on\"], [\"cupboard\", \"a cabinet for storage\"], [\"lamp\", \"a device to provide illumination\"]]}, \"stdout\": \"{'chair': 'a piece of furniture to sit on', 'cupboard': 'a cabinet for storage', 'lamp': 'a device to provide illumination'}\\n\"}]}\n",
       "        </script>\n",
       "        <div id=\"jm-38e2cdd9b4c2c497cad81824d968add1-10\" class=\"pytutorVisualizer\"> </div>\n",
       "                        \n",
       "        <script>\n",
       "        \n",
       "        (function(){\n",
       "            console.log(\"jupman.py embedded javascript: adding Python tutor visualizer...\")\n",
       "            \n",
       "            var trace = JSON.parse(document.getElementById('json-jm-38e2cdd9b4c2c497cad81824d968add1-10').innerHTML);                                        \n",
       "            // NOTE: id without #\n",
       "                    \n",
       "            addVisualizerToPage(trace, 'jm-38e2cdd9b4c2c497cad81824d968add1-10',{'embeddedMode' : false,\n",
       "                                             'disableHeapNesting': true,\n",
       "                                             'visualizerIdOverride':'viz-jm-38e2cdd9b4c2c497cad81824d968add1-10'})  \n",
       "            \n",
       "            \n",
       "            // set overflow for pytuts - need to do in python as css \n",
       "            // does not allow parent selection\n",
       "            var pytuts = $('.pytutorVisualizer')\n",
       "            pytuts.closest('div.output_html.rendered_html.output_result')\n",
       "                    .css('overflow-x', 'visible')\n",
       "        \n",
       "            //pytuts.closest('div.output_html.rendered_html.output_result')\n",
       "            //      .css('background-color','red')                \n",
       "            \n",
       "        })()\n",
       "        </script>\n",
       "                \n",
       "    \n",
       "    <div style=\"text-align:center; font-size:0.9em\"> <a href=\"https://pythontutor.com/visualize.html#mode=edit\" target=\"_blank\">Python Tutor</a> visualization</div> \n",
       "    "
      ],
      "text/plain": [
       "<IPython.core.display.HTML object>"
      ]
     },
     "execution_count": 8,
     "metadata": {},
     "output_type": "execute_result"
    }
   ],
   "source": [
    "\n",
    "furniture = {\n",
    "    'chair'   :'a piece of furniture to sit on',\n",
    "    'cupboard':'a cabinet for storage',\n",
    "    'lamp'    :'a device to provide illumination'\n",
    "}\n",
    "print(furniture)\n",
    "\n",
    "jupman.pytut()"
   ]
  },
  {
   "cell_type": "markdown",
   "metadata": {},
   "source": [
    "We note that once executed, an arrow appears pointing from `furniture` to an orange/yellow  memory region. \n",
    "The keys have orange background, while the corresponding values have yellow background. Looking at arrows and colors, we can guess that whenever we're assigning variables, dictionaries behave like other data structures, like lists and sets.\n",
    "\n",
    "**QUESTION**: Look at the following code, and try guessing what happens during execution - at the end, how will memory be organized? What will be printed? Where will arrows go?"
   ]
  },
  {
   "cell_type": "code",
   "execution_count": 9,
   "metadata": {},
   "outputs": [
    {
     "data": {
      "text/html": [
       "        \n",
       "        <script src=\"../_static/js/pytutor-embed.bundle.min.js\" type=\"application/javascript\"></script>\n",
       "    \n",
       "        <style>\n",
       "        @import \"../_static/css/jupman.css\";\n",
       "        </style>\n",
       "     \n",
       "        <script id=\"json-jm-1fc0a2363700ebe347c6ed0e45b00252-11\" type=\"application/json\" >\n",
       "            {\"code\": \" \\nda = {\\n    'chair'    : 'a piece of furniture to sit on',\\n    'cupboard' : 'a cabinet for storage',\\n    'lamp'    : 'a device to provide illumination'\\n}\\n\\ndb = {\\n 'ship': 'paddle',\\n 'car': 'wheel',\\n 'airplane': 'wing'\\n}\\ndc = db \\ndb = da\\nda = dc\\ndc = db\\n#print(da)\\n#print(db)\\n#print(dc)\", \"trace\": [{\"line\": 3, \"event\": \"step_line\", \"func_name\": \"<module>\", \"globals\": {}, \"ordered_globals\": [], \"stack_to_render\": [], \"heap\": {}, \"stdout\": \"\"}, {\"line\": 4, \"event\": \"step_line\", \"func_name\": \"<module>\", \"globals\": {}, \"ordered_globals\": [], \"stack_to_render\": [], \"heap\": {}, \"stdout\": \"\"}, {\"line\": 5, \"event\": \"step_line\", \"func_name\": \"<module>\", \"globals\": {}, \"ordered_globals\": [], \"stack_to_render\": [], \"heap\": {}, \"stdout\": \"\"}, {\"line\": 9, \"event\": \"step_line\", \"func_name\": \"<module>\", \"globals\": {\"da\": [\"REF\", 1]}, \"ordered_globals\": [\"da\"], \"stack_to_render\": [], \"heap\": {\"1\": [\"DICT\", [\"chair\", \"a piece of furniture to sit on\"], [\"cupboard\", \"a cabinet for storage\"], [\"lamp\", \"a device to provide illumination\"]]}, \"stdout\": \"\"}, {\"line\": 10, \"event\": \"step_line\", \"func_name\": \"<module>\", \"globals\": {\"da\": [\"REF\", 1]}, \"ordered_globals\": [\"da\"], \"stack_to_render\": [], \"heap\": {\"1\": [\"DICT\", [\"chair\", \"a piece of furniture to sit on\"], [\"cupboard\", \"a cabinet for storage\"], [\"lamp\", \"a device to provide illumination\"]]}, \"stdout\": \"\"}, {\"line\": 11, \"event\": \"step_line\", \"func_name\": \"<module>\", \"globals\": {\"da\": [\"REF\", 1]}, \"ordered_globals\": [\"da\"], \"stack_to_render\": [], \"heap\": {\"1\": [\"DICT\", [\"chair\", \"a piece of furniture to sit on\"], [\"cupboard\", \"a cabinet for storage\"], [\"lamp\", \"a device to provide illumination\"]]}, \"stdout\": \"\"}, {\"line\": 13, \"event\": \"step_line\", \"func_name\": \"<module>\", \"globals\": {\"da\": [\"REF\", 1], \"db\": [\"REF\", 2]}, \"ordered_globals\": [\"da\", \"db\"], \"stack_to_render\": [], \"heap\": {\"1\": [\"DICT\", [\"chair\", \"a piece of furniture to sit on\"], [\"cupboard\", \"a cabinet for storage\"], [\"lamp\", \"a device to provide illumination\"]], \"2\": [\"DICT\", [\"ship\", \"paddle\"], [\"car\", \"wheel\"], [\"airplane\", \"wing\"]]}, \"stdout\": \"\"}, {\"line\": 14, \"event\": \"step_line\", \"func_name\": \"<module>\", \"globals\": {\"da\": [\"REF\", 1], \"db\": [\"REF\", 2], \"dc\": [\"REF\", 2]}, \"ordered_globals\": [\"da\", \"db\", \"dc\"], \"stack_to_render\": [], \"heap\": {\"1\": [\"DICT\", [\"chair\", \"a piece of furniture to sit on\"], [\"cupboard\", \"a cabinet for storage\"], [\"lamp\", \"a device to provide illumination\"]], \"2\": [\"DICT\", [\"ship\", \"paddle\"], [\"car\", \"wheel\"], [\"airplane\", \"wing\"]]}, \"stdout\": \"\"}, {\"line\": 15, \"event\": \"step_line\", \"func_name\": \"<module>\", \"globals\": {\"da\": [\"REF\", 1], \"db\": [\"REF\", 1], \"dc\": [\"REF\", 2]}, \"ordered_globals\": [\"da\", \"db\", \"dc\"], \"stack_to_render\": [], \"heap\": {\"1\": [\"DICT\", [\"chair\", \"a piece of furniture to sit on\"], [\"cupboard\", \"a cabinet for storage\"], [\"lamp\", \"a device to provide illumination\"]], \"2\": [\"DICT\", [\"ship\", \"paddle\"], [\"car\", \"wheel\"], [\"airplane\", \"wing\"]]}, \"stdout\": \"\"}, {\"line\": 16, \"event\": \"step_line\", \"func_name\": \"<module>\", \"globals\": {\"da\": [\"REF\", 2], \"db\": [\"REF\", 1], \"dc\": [\"REF\", 2]}, \"ordered_globals\": [\"da\", \"db\", \"dc\"], \"stack_to_render\": [], \"heap\": {\"2\": [\"DICT\", [\"ship\", \"paddle\"], [\"car\", \"wheel\"], [\"airplane\", \"wing\"]], \"1\": [\"DICT\", [\"chair\", \"a piece of furniture to sit on\"], [\"cupboard\", \"a cabinet for storage\"], [\"lamp\", \"a device to provide illumination\"]]}, \"stdout\": \"\"}, {\"line\": 16, \"event\": \"return\", \"func_name\": \"<module>\", \"globals\": {\"da\": [\"REF\", 2], \"db\": [\"REF\", 1], \"dc\": [\"REF\", 1]}, \"ordered_globals\": [\"da\", \"db\", \"dc\"], \"stack_to_render\": [], \"heap\": {\"2\": [\"DICT\", [\"ship\", \"paddle\"], [\"car\", \"wheel\"], [\"airplane\", \"wing\"]], \"1\": [\"DICT\", [\"chair\", \"a piece of furniture to sit on\"], [\"cupboard\", \"a cabinet for storage\"], [\"lamp\", \"a device to provide illumination\"]]}, \"stdout\": \"\"}]}\n",
       "        </script>\n",
       "        <div id=\"jm-1fc0a2363700ebe347c6ed0e45b00252-11\" class=\"pytutorVisualizer\"> </div>\n",
       "                        \n",
       "        <script>\n",
       "        \n",
       "        (function(){\n",
       "            console.log(\"jupman.py embedded javascript: adding Python tutor visualizer...\")\n",
       "            \n",
       "            var trace = JSON.parse(document.getElementById('json-jm-1fc0a2363700ebe347c6ed0e45b00252-11').innerHTML);                                        \n",
       "            // NOTE: id without #\n",
       "                    \n",
       "            addVisualizerToPage(trace, 'jm-1fc0a2363700ebe347c6ed0e45b00252-11',{'embeddedMode' : false,\n",
       "                                             'disableHeapNesting': true,\n",
       "                                             'visualizerIdOverride':'viz-jm-1fc0a2363700ebe347c6ed0e45b00252-11'})  \n",
       "            \n",
       "            \n",
       "            // set overflow for pytuts - need to do in python as css \n",
       "            // does not allow parent selection\n",
       "            var pytuts = $('.pytutorVisualizer')\n",
       "            pytuts.closest('div.output_html.rendered_html.output_result')\n",
       "                    .css('overflow-x', 'visible')\n",
       "        \n",
       "            //pytuts.closest('div.output_html.rendered_html.output_result')\n",
       "            //      .css('background-color','red')                \n",
       "            \n",
       "        })()\n",
       "        </script>\n",
       "                \n",
       "    \n",
       "    <div style=\"text-align:center; font-size:0.9em\"> <a href=\"https://pythontutor.com/visualize.html#mode=edit\" target=\"_blank\">Python Tutor</a> visualization</div> \n",
       "    "
      ],
      "text/plain": [
       "<IPython.core.display.HTML object>"
      ]
     },
     "execution_count": 9,
     "metadata": {},
     "output_type": "execute_result"
    }
   ],
   "source": [
    "\n",
    "da = {\n",
    "    'chair'    : 'a piece of furniture to sit on',\n",
    "    'cupboard' : 'a cabinet for storage',\n",
    "    'lamp'    : 'a device to provide illumination'\n",
    "}\n",
    "\n",
    "db = {\n",
    " 'ship': 'paddle',\n",
    " 'car': 'wheel',\n",
    " 'airplane': 'wing'\n",
    "}\n",
    "dc = db \n",
    "db = da\n",
    "da = dc\n",
    "dc = db\n",
    "#print(da)\n",
    "#print(db)\n",
    "#print(dc)\n",
    "\n",
    "jupman.pytut()"
   ]
  },
  {
   "cell_type": "markdown",
   "metadata": {},
   "source": [
    "### The keys\n",
    "\n",
    "Let's try to better understand which keys we can use by looking again at the definition:\n",
    "\n",
    "> Dictionaries are mutable containers which allow us to rapidly associate elements called _keys_ to some _values_\n",
    ">\n",
    "> * **Keys are immutable, don't have order and there cannot be duplicates**\n",
    "> * Values can be duplicated\n",
    "\n",
    "\n",
    "**QUESTION**: have a careful look at the words in bold - can you tell a data structure we've already seen which has these features?"
   ]
  },
  {
   "cell_type": "raw",
   "id": "9e860f54",
   "metadata": {
    "format": "text/html"
   },
   "source": [
    "<a  class=\"jupman-sol jupman-sol-toggler\" \n",
    " onclick=\"jupman.toggleSolution(this);\" \n",
    " data-jupman-show=\"Show answer\" data-jupman-hide=\"Hide\">Show answer</a><div class=\"jupman-sol jupman-sol-question\" style=\"display:none\">  "
   ]
  },
  {
   "cell_type": "markdown",
   "metadata": {},
   "source": [
    "**ANSWER**: The keys of dictionaries for many aspects behave like elements of a set.\n",
    "\n",
    "<div class=\"alert alert-warning\">\n",
    "\n",
    "**Have you read the** [tutorial on sets?](https://en.softpython.org/sets/sets-sol.html)**?**\n",
    "\n",
    "**Before going on, make sure to understand well the** [section on mutable elements and hashes](https://eb.softpython.org/sets/sets-sol.html#Mutable-elements-and-hashes)\n",
    "</div>"
   ]
  },
  {
   "cell_type": "raw",
   "id": "2c322490",
   "metadata": {
    "format": "text/html"
   },
   "source": [
    "</div>"
   ]
  },
  {
   "cell_type": "markdown",
   "metadata": {},
   "source": [
    "#### Keys are immutable"
   ]
  },
  {
   "cell_type": "markdown",
   "metadata": {},
   "source": [
    "**QUESTION**: The definition does not force us to use strings as keys, other types are also allowed. But can we use all the types we want? \n",
    "\n",
    "For each of the following examples, try to tell whether the dictionary can be created or we will get an error (which one?). Also check how they are represented in Python Tutor.\n",
    "\n",
    "\n",
    "1.  integers\n",
    "\n",
    "    ```python\n",
    "    { \n",
    "      4 : 'cats',\n",
    "      3 : 'dogs'\n",
    "    }\n",
    "    ```\n",
    "1.  float\n",
    "\n",
    "    ```python\n",
    "    { \n",
    "      4.0 : 'cats',\n",
    "      3.0 : 'dogs'\n",
    "    }\n",
    "    ```\n",
    "1.  strings\n",
    "\n",
    "    ```python\n",
    "    { \n",
    "      'a' : 'cats',\n",
    "      'b' : 'dogs'\n",
    "    }\n",
    "    ```\n",
    "1.  lists\n",
    "    ```python\n",
    "    { \n",
    "        [1,2] : 'zam',\n",
    "        [3,4] : 'zum'\n",
    "    }\n",
    "    ```\n",
    "1.  tuples\n",
    "    ```python\n",
    "    { \n",
    "        (1,2) : 'zam',\n",
    "        (4,3) : 'zum'\n",
    "    }\n",
    "    ```\n",
    "1.  sets\n",
    "    ```python\n",
    "    { \n",
    "        {1,2} : 'zam',\n",
    "        {3,4} : 'zum'\n",
    "    }\n",
    "    ```\n",
    "1.  other dictionaries (check the first part of the definition !)\n",
    "    ```python\n",
    "    { \n",
    "        {'a':'x','b':'y'} : 'zam',\n",
    "        {'c':'w','d':'z'} : 'zum'\n",
    "    }\n",
    "    ```  "
   ]
  },
  {
   "cell_type": "raw",
   "id": "ac65670d",
   "metadata": {
    "format": "text/html"
   },
   "source": [
    "<a  class=\"jupman-sol jupman-sol-toggler\" \n",
    " onclick=\"jupman.toggleSolution(this);\" \n",
    " data-jupman-show=\"Show answer\" data-jupman-hide=\"Hide\">Show answer</a><div class=\"jupman-sol jupman-sol-question\" style=\"display:none\">  "
   ]
  },
  {
   "cell_type": "markdown",
   "metadata": {},
   "source": [
    "**ANSWER**: integers, float, strings and tuples are IMMUTABLE and so we can use them as keys (see definition). Instead, lists, sets (and other dictionaries) are MUTABLE, so we cannot use them as keys. If we try using a MUTABLE element such as a list like if it were the key of a dictionary, Python will complain, telling us the object is not _hashable_ (exactly as it would complain if we tried to insert it in a set)\n",
    "\n",
    "```python\n",
    ">>> {  [1,2]:'zam',\n",
    "       [3,4]:'zum'}\n",
    "\n",
    "---------------------------------------------------------------------------\n",
    "TypeError                                 Traceback (most recent call last)\n",
    "<ipython-input-12-c3c2d6cc97b8> in <module>\n",
    "      1 { [1,2]:'zam',\n",
    "----> 2   [3,4]:'zum'}\n",
    "\n",
    "TypeError: unhashable type: 'list'\n",
    "\n",
    "```"
   ]
  },
  {
   "cell_type": "raw",
   "id": "8e51a794",
   "metadata": {
    "format": "text/html"
   },
   "source": [
    "</div>"
   ]
  },
  {
   "cell_type": "markdown",
   "metadata": {},
   "source": [
    "#### Keys don't have order\n",
    "\n",
    "In a real-life dictionary, items are always ordered according to some criteria, typically in alphabetical order.\n",
    "\n",
    "With Python we need to consider this important difference:\n",
    "\n",
    "> * The keys are immutable, **don't have order** and there cannot be duplicates\n",
    "\n",
    "When we say that a collection 'does not have order', it means that the order of elements we see when we insert or print them does not matter to determine whether a collection is equal to another one. In dictionaries, it means that if we specify couples in a different order, we obtain dictionaries that Python considers as equal.\n",
    "\n",
    "For example, the following dictionaries can all be considered as equal:"
   ]
  },
  {
   "cell_type": "code",
   "execution_count": 10,
   "metadata": {},
   "outputs": [
    {
     "data": {
      "text/plain": [
       "{'ships': 'port', 'airplanes': 'airport', 'trains': 'station'}"
      ]
     },
     "execution_count": 10,
     "metadata": {},
     "output_type": "execute_result"
    }
   ],
   "source": [
    "{\n",
    " 'ships' :'port',\n",
    " 'airplanes': 'airport',\n",
    " 'trains': 'station'\n",
    "}"
   ]
  },
  {
   "cell_type": "code",
   "execution_count": 11,
   "metadata": {},
   "outputs": [
    {
     "data": {
      "text/plain": [
       "{'airplanes': 'airport', 'ships': 'port', 'trains': 'station'}"
      ]
     },
     "execution_count": 11,
     "metadata": {},
     "output_type": "execute_result"
    }
   ],
   "source": [
    "{\n",
    " 'airplanes': 'airport',\n",
    " 'ships' :'port', \n",
    " 'trains': 'station'\n",
    "}"
   ]
  },
  {
   "cell_type": "code",
   "execution_count": 12,
   "metadata": {},
   "outputs": [
    {
     "data": {
      "text/plain": [
       "{'trains': 'station', 'ships': 'port', 'airplanes': 'airport'}"
      ]
     },
     "execution_count": 12,
     "metadata": {},
     "output_type": "execute_result"
    }
   ],
   "source": [
    "{\n",
    " 'trains': 'station',\n",
    " 'ships' :'port', \n",
    " 'airplanes': 'airport'\n",
    "}"
   ]
  },
  {
   "cell_type": "markdown",
   "metadata": {},
   "source": [
    "**Printing a dictionary**: you may have noticed that Jupyter always prints the keys in alphabetical order. This is just a courtesy for us, but do not be fooled by it! If we try a native `print` we will obtain a different result!"
   ]
  },
  {
   "cell_type": "code",
   "execution_count": 13,
   "metadata": {},
   "outputs": [
    {
     "name": "stdout",
     "output_type": "stream",
     "text": [
      "{'ships': 'port', 'airplanes': 'airport', 'trains': 'station'}\n"
     ]
    }
   ],
   "source": [
    "print({\n",
    " 'ships' :'port',\n",
    " 'airplanes': 'airport',\n",
    " 'trains': 'station'\n",
    "})"
   ]
  },
  {
   "cell_type": "markdown",
   "metadata": {},
   "source": [
    "#### Key duplicates\n",
    "\n",
    "> * Keys are immutable, don't have order and **there cannot be duplicates**\n",
    "\n",
    "We might ask ourselves how Python manages duplicates in keys. Let's try to create a duplicated couple on purpose:"
   ]
  },
  {
   "cell_type": "code",
   "execution_count": 14,
   "metadata": {},
   "outputs": [
    {
     "data": {
      "text/plain": [
       "{'chair': 'a piece of furniture to sit on',\n",
       " 'lamp': 'a device to provide illumination'}"
      ]
     },
     "execution_count": 14,
     "metadata": {},
     "output_type": "execute_result"
    }
   ],
   "source": [
    "{\n",
    "    'chair'   : 'a piece of furniture to sit on',\n",
    "    'chair'   : 'a piece of furniture to sit on',    \n",
    "    'lamp'    : 'a device to provide illumination'\n",
    "}"
   ]
  },
  {
   "cell_type": "markdown",
   "metadata": {},
   "source": [
    "We notice Python didn't complain and silently discarded the duplicate. \n",
    "\n",
    "What if we try inserting a couple with the same key but different value?"
   ]
  },
  {
   "cell_type": "code",
   "execution_count": 15,
   "metadata": {},
   "outputs": [
    {
     "data": {
      "text/plain": [
       "{'chair': 'a type of seat', 'lamp': 'a device to provide illumination'}"
      ]
     },
     "execution_count": 15,
     "metadata": {},
     "output_type": "execute_result"
    }
   ],
   "source": [
    "{\n",
    "    'chair'   : 'a piece of furniture to sit on',\n",
    "    'chair'   : 'a type of seat',\n",
    "    'lamp'    : 'a device to provide illumination'\n",
    "}\n"
   ]
  },
  {
   "cell_type": "markdown",
   "metadata": {},
   "source": [
    "Notice Python kept only the last couple."
   ]
  },
  {
   "cell_type": "markdown",
   "metadata": {},
   "source": [
    "### The values\n",
    "\n",
    "Let's see once again the definition:\n",
    "\n",
    "\n",
    "> Dictionaries are mutable containers which allow us to rapidly associate elements called keys to some values\n",
    "> \n",
    "> * Keys are immutable, don't have order and there cannot be duplicates\n",
    "> * **Values can be duplicated**\n",
    "\n",
    "Seems like values have less constraints than keys.\n",
    "\n",
    "\n",
    "**QUESTION**: For each of the following examples, try to tell whether we can create the dictionary or we will get an error (which one?). Check how they are represented in Python Tutor."
   ]
  },
  {
   "cell_type": "markdown",
   "metadata": {},
   "source": [
    "1.  integers\n",
    "\n",
    "    ```python\n",
    "    {\n",
    "        'a':3,\n",
    "        'b':4\n",
    "    }\n",
    "    ```\n",
    "1.  duplicated integers\n",
    "\n",
    "    ```python\n",
    "    {\n",
    "        'a':3,\n",
    "        'b':3\n",
    "    }\n",
    "    ```\n",
    "1.  float \n",
    "\n",
    "    ```python\n",
    "    {\n",
    "        'a':3.0,\n",
    "        'b':4.0\n",
    "    }\n",
    "    ```\n",
    "1.  strings\n",
    "\n",
    "    ```python\n",
    "    {\n",
    "        'a' : 'ice',\n",
    "        'b' : 'fire'\n",
    "    }\n",
    "    ```\n",
    "1.  lists\n",
    "\n",
    "    ```python\n",
    "    {\n",
    "        'a' : ['t','w'],\n",
    "        'b' : ['x'],\n",
    "        'c' : ['y','z','k']\n",
    "    }\n",
    "    ```\n",
    "1.  duplicated lists\n",
    "\n",
    "    ```python\n",
    "    {\n",
    "        'a' : ['x','y','z'],\n",
    "        'b' : ['x','y','z']\n",
    "    }\n",
    "    ```\n",
    "1.  lists containing duplicates\n",
    "\n",
    "    ```python\n",
    "    {\n",
    "        'a' : ['x','y','y'],\n",
    "        'b' : ['z','y','z']\n",
    "    }\n",
    "    ```\n",
    "1.  tuples\n",
    "    ```python\n",
    "    {\n",
    "        'a': (6,9,7),\n",
    "        'b': (8,1,7,4)\n",
    "    }\n",
    "    ```\n",
    "1.  sets\n",
    "    ```python\n",
    "    {\n",
    "        'a' : {6,5,6},\n",
    "        'b' : {2,4,1,5}\n",
    "    }\n",
    "    ```\n",
    "1.  dictionaries\n",
    "    ```python\n",
    "    {\n",
    "        'a': {\n",
    "                'x':3,\n",
    "                'y':9\n",
    "             },\n",
    "        'b': {\n",
    "                'x':3,\n",
    "                'y':9,\n",
    "                'z':10\n",
    "             },\n",
    "    }\n",
    "    ```"
   ]
  },
  {
   "cell_type": "raw",
   "id": "08ee3f8b",
   "metadata": {
    "format": "text/html"
   },
   "source": [
    "<a  class=\"jupman-sol jupman-sol-toggler\" \n",
    " onclick=\"jupman.toggleSolution(this);\" \n",
    " data-jupman-show=\"Show answer\" data-jupman-hide=\"Hide\">Show answer</a><div class=\"jupman-sol jupman-sol-question\" style=\"display:none\">  "
   ]
  },
  {
   "cell_type": "markdown",
   "metadata": {},
   "source": [
    "**ANSWER**: We can freely put whatever we please as values, Python will not complain. In particular, notice how different keys can have the same value."
   ]
  },
  {
   "cell_type": "raw",
   "id": "9d9d4272",
   "metadata": {
    "format": "text/html"
   },
   "source": [
    "</div>"
   ]
  },
  {
   "cell_type": "markdown",
   "metadata": {},
   "source": [
    "### Empty dictionary\n",
    "\n",
    "We can create an empty dictionary by writing `{}`:\n",
    "\n",
    "<div class=\"alert alert-warning\">\n",
    "\n",
    "**WARNING: THIS IS NOT THE** [EMPTY SET](https://en.softpython.org/sets/sets-sol.html#Empty-set) !!\n",
    "\n",
    "</div>"
   ]
  },
  {
   "cell_type": "code",
   "execution_count": 16,
   "metadata": {},
   "outputs": [
    {
     "data": {
      "text/plain": [
       "{}"
      ]
     },
     "execution_count": 16,
     "metadata": {},
     "output_type": "execute_result"
    }
   ],
   "source": [
    "{}"
   ]
  },
  {
   "cell_type": "code",
   "execution_count": 17,
   "metadata": {},
   "outputs": [
    {
     "data": {
      "text/plain": [
       "dict"
      ]
     },
     "execution_count": 17,
     "metadata": {},
     "output_type": "execute_result"
    }
   ],
   "source": [
    "type({})"
   ]
  },
  {
   "cell_type": "markdown",
   "metadata": {},
   "source": [
    "A dictionary is a collection, and as we've already seen (with lists, tuples and sets), we can create an empty collection by typing its type, in this case `dict`, followed by round brackets:"
   ]
  },
  {
   "cell_type": "code",
   "execution_count": 18,
   "metadata": {},
   "outputs": [
    {
     "data": {
      "text/plain": [
       "{}"
      ]
     },
     "execution_count": 18,
     "metadata": {},
     "output_type": "execute_result"
    }
   ],
   "source": [
    "dict()"
   ]
  },
  {
   "cell_type": "markdown",
   "metadata": {},
   "source": [
    "Let's see how it's represented in Python Tutor:"
   ]
  },
  {
   "cell_type": "code",
   "execution_count": 19,
   "metadata": {},
   "outputs": [
    {
     "data": {
      "text/html": [
       "        \n",
       "        <script src=\"../_static/js/pytutor-embed.bundle.min.js\" type=\"application/javascript\"></script>\n",
       "    \n",
       "        <style>\n",
       "        @import \"../_static/css/jupman.css\";\n",
       "        </style>\n",
       "     \n",
       "        <script id=\"json-jm-34d22898f6c68053e911bb09c778e3ae-21\" type=\"application/json\" >\n",
       "            {\"code\": \" \\ndiz = dict()\", \"trace\": [{\"line\": 2, \"event\": \"step_line\", \"func_name\": \"<module>\", \"globals\": {}, \"ordered_globals\": [], \"stack_to_render\": [], \"heap\": {}, \"stdout\": \"\"}, {\"line\": 2, \"event\": \"return\", \"func_name\": \"<module>\", \"globals\": {\"diz\": [\"REF\", 1]}, \"ordered_globals\": [\"diz\"], \"stack_to_render\": [], \"heap\": {\"1\": [\"DICT\"]}, \"stdout\": \"\"}]}\n",
       "        </script>\n",
       "        <div id=\"jm-34d22898f6c68053e911bb09c778e3ae-21\" class=\"pytutorVisualizer\"> </div>\n",
       "                        \n",
       "        <script>\n",
       "        \n",
       "        (function(){\n",
       "            console.log(\"jupman.py embedded javascript: adding Python tutor visualizer...\")\n",
       "            \n",
       "            var trace = JSON.parse(document.getElementById('json-jm-34d22898f6c68053e911bb09c778e3ae-21').innerHTML);                                        \n",
       "            // NOTE: id without #\n",
       "                    \n",
       "            addVisualizerToPage(trace, 'jm-34d22898f6c68053e911bb09c778e3ae-21',{'embeddedMode' : false,\n",
       "                                             'disableHeapNesting': true,\n",
       "                                             'visualizerIdOverride':'viz-jm-34d22898f6c68053e911bb09c778e3ae-21'})  \n",
       "            \n",
       "            \n",
       "            // set overflow for pytuts - need to do in python as css \n",
       "            // does not allow parent selection\n",
       "            var pytuts = $('.pytutorVisualizer')\n",
       "            pytuts.closest('div.output_html.rendered_html.output_result')\n",
       "                    .css('overflow-x', 'visible')\n",
       "        \n",
       "            //pytuts.closest('div.output_html.rendered_html.output_result')\n",
       "            //      .css('background-color','red')                \n",
       "            \n",
       "        })()\n",
       "        </script>\n",
       "                \n",
       "    \n",
       "    <div style=\"text-align:center; font-size:0.9em\"> <a href=\"https://pythontutor.com/visualize.html#mode=edit\" target=\"_blank\">Python Tutor</a> visualization</div> \n",
       "    "
      ],
      "text/plain": [
       "<IPython.core.display.HTML object>"
      ]
     },
     "execution_count": 19,
     "metadata": {},
     "output_type": "execute_result"
    }
   ],
   "source": [
    "diz = dict()\n",
    "\n",
    "jupman.pytut()"
   ]
  },
  {
   "cell_type": "markdown",
   "metadata": {},
   "source": [
    "### Keys and heterogenous values\n",
    "\n",
    "So far we've always used keys all of the  same type and values all of the same type, but this is not mandatory. (the only required thing is for key types to be immutable):"
   ]
  },
  {
   "cell_type": "code",
   "execution_count": 20,
   "metadata": {},
   "outputs": [
    {
     "data": {
      "text/plain": [
       "{'a': 3, 'b': ['a', 'list'], 7: ('this', 'is', 'a', 'tuple')}"
      ]
     },
     "execution_count": 20,
     "metadata": {},
     "output_type": "execute_result"
    }
   ],
   "source": [
    "{\n",
    "    \"a\": 3,  \n",
    "    \"b\": [\"a\", \"list\"],\n",
    "     7 : (\"this\",\"is\",\"a\",\"tuple\")\n",
    "}"
   ]
  },
  {
   "cell_type": "markdown",
   "metadata": {},
   "source": [
    "<div alert alert-info>\n",
    "    \n",
    "**NOTE: Although mixing types is possible, it's not advisable!**\n",
    "    \n",
    "Throwing different types inside a dictionary often brings misfortune, as it increases probability of incurring into bugs.\n",
    "   \n",
    "</div>"
   ]
  },
  {
   "cell_type": "markdown",
   "metadata": {},
   "source": [
    "**QUESTION**: Look at the following expressions, and for each try guessing the result (or if it gives an error):"
   ]
  },
  {
   "cell_type": "markdown",
   "metadata": {},
   "source": [
    "\n",
    "1.  ```python\n",
    "    {'a':'b'       ,\n",
    "     'c':'d'    \n",
    "     \n",
    "     }\n",
    "    ```\n",
    "1.  ```python\n",
    "    {'a b':'c',\n",
    "     'c d':'e f'}\n",
    "    ```\n",
    "1.  ```python\n",
    "    {'a' = 'c',\n",
    "     'b' = 'd'}\n",
    "    ```\n",
    "1.  ```python\n",
    "    {'a':'b':\n",
    "     'c':'d'}\n",
    "    ```\n",
    "1.  ```python\n",
    "    {\n",
    "        \"1\":[2,3],\n",
    "        \"2,3\":1,\n",
    "    }\n",
    "    ```    \n",
    "1.  ```python\n",
    "    type({'a:b,c:d'})\n",
    "    ```    \n",
    "1.  ```python    \n",
    "    {'a':'b';\n",
    "     'c':'d'}\n",
    "    ```\n",
    "1.  ```python    \n",
    "    {'a:b',\n",
    "     'c:d'}\n",
    "    ```\n",
    "1.  ```python    \n",
    "    {5,2:\n",
    "     4,5}\n",
    "    ```\n",
    "1.  ```python    \n",
    "    {1:2,\n",
    "     1:3}\n",
    "    ```\n",
    "1.  ```python    \n",
    "    {2:1,\n",
    "     3:1}\n",
    "    ```\n",
    "1.  ```python    \n",
    "    {'a':'b',\n",
    "     'c':'d',}\n",
    "    ```\n",
    "1.  ```python\n",
    "    type({'a','b',\n",
    "          'c','d'})\n",
    "    ```\n",
    "1.  ```python    \n",
    "    {'a':'b',\n",
    "     'c':'d',\n",
    "     'e','f'}\n",
    "    ```\n",
    "1.  ```python    \n",
    "    {{}: 2}\n",
    "    ```\n",
    "1.  ```python    \n",
    "    {(1,2):[3,4]}\n",
    "    ```\n",
    "1.  ```python    \n",
    "    {[1,2]:(3,4)}\n",
    "    ```\n",
    "1.  ```python    \n",
    "    {'[1,2]':(3,4)}\n",
    "    ```\n",
    "1.  ```python    \n",
    "    {{1,2}:(3,4)}\n",
    "    ```\n",
    "1.  ```python    \n",
    "    {len({1,2}):(3,4)}\n",
    "    ```\n",
    "1.  ```python    \n",
    "    {5:{'a':'b'}}\n",
    "    ```\n",
    "1.  ```python    \n",
    "    {\"a\":{1:2}}\n",
    "    ```\n",
    "1.  ```python    \n",
    "    {\"a\":{[1]:2}}\n",
    "    ```\n",
    "1.  ```python    \n",
    "    {\"a\":{1:[2]}}\n",
    "    ```\n",
    "1.  ```python    \n",
    "    {[\"a\":{1:[2]}]}\n",
    "    ```\n",
    "1.  ```python    \n",
    "    set([{2:4}])\n",
    "    ```"
   ]
  },
  {
   "cell_type": "markdown",
   "metadata": {},
   "source": [
    "### Exercise - barone\n",
    "\n",
    "Given a `lst` of **exactly** 6 characters, build a dictionary `diz` as follows:\n",
    "\n",
    "Example 1 - given:\n",
    "\n",
    "\n",
    "```python\n",
    "lst = ['b', 'a', 'r', 'o', 'n', 'e']\n",
    "```\n",
    "\n",
    "after your code it must result (NOTE: the key order DOESN'T matter!)\n",
    "\n",
    "```python\n",
    ">>> diz\n",
    "{'b': ['a', 'r', 'o', 'n', 'e'],\n",
    " ('b', 'a', 'r', 'o', 'n', 'e'): {'a', 'b', 'e', 'n', 'o', 'r'},\n",
    " ('b', 'a', 'b', 'a'): ['r', 'o', 'r', 'o', 'n', 'e', 'n', 'e'],\n",
    " 'b/a/r/o/n/e': {'b': 'a', 'r': 'o', 'n': 'e'}}\n",
    "```\n",
    "\n",
    "Example 2 - given:\n",
    "\n",
    "```python\n",
    "lst = ['p', 'r', 'i', 'o', 'r', 'e']\n",
    "```\n",
    "\n",
    "it must result:\n",
    "\n",
    "```python\n",
    ">>> diz\n",
    "{'p': ['r', 'i', 'o', 'r', 'e'],\n",
    " ('p', 'r', 'i', 'o', 'r', 'e'): {'e', 'i', 'o', 'p', 'r'},\n",
    " ('p', 'r', 'p', 'r'): ['i', 'o', 'i', 'o', 'r', 'e', 'r', 'e'],\n",
    " 'p/r/i/o/r/e': {'p': 'r', 'i': 'o', 'r': 'e'}}\n",
    "```\n",
    "\n",
    "* **USE** only `lst`\n",
    "* **IMPORTANT: DO NOT write string constants** (so no `\"barone\"`, `\"b\"` ....)"
   ]
  },
  {
   "cell_type": "raw",
   "id": "0c28e1ae",
   "metadata": {
    "format": "text/html"
   },
   "source": [
    "<a  class=\"jupman-sol jupman-sol-toggler\" \n",
    " onclick=\"jupman.toggleSolution(this);\" \n",
    " data-jupman-show=\"Show solution\" data-jupman-hide=\"Hide\">Show solution</a><div class=\"jupman-sol jupman-sol-code\" style=\"display:none\">  "
   ]
  },
  {
   "cell_type": "code",
   "execution_count": 21,
   "metadata": {},
   "outputs": [
    {
     "data": {
      "text/plain": [
       "{'p': ['r', 'i', 'o', 'r', 'e'],\n",
       " ('p', 'r', 'i', 'o', 'r', 'e'): {'e', 'i', 'o', 'p', 'r'},\n",
       " ('p', 'r', 'p', 'r'): ['i', 'o', 'i', 'o', 'r', 'e', 'r', 'e'],\n",
       " 'p/r/i/o/r/e': {'p': 'r', 'i': 'o', 'r': 'e'}}"
      ]
     },
     "execution_count": 21,
     "metadata": {},
     "output_type": "execute_result"
    }
   ],
   "source": [
    "\n",
    "lst = ['b', 'a', 'r', 'o', 'n', 'e']\n",
    "lst = ['p', 'r', 'i', 'o', 'r', 'e']\n",
    "\n",
    "# write here\n",
    "\n",
    "{lst[0]: lst[1:],\n",
    " tuple(lst) : set(lst),\n",
    " tuple(lst[:2]) * 2 : lst[2:4]*2 + lst[4:]*2,\n",
    " '/'.join(lst) : {lst[0]:lst[1],\n",
    "                  lst[2]:lst[3],\n",
    "                  lst[4]:lst[5]}\n",
    "}\n",
    " "
   ]
  },
  {
   "cell_type": "raw",
   "id": "a89d8e7f",
   "metadata": {
    "format": "text/html"
   },
   "source": [
    "</div>"
   ]
  },
  {
   "cell_type": "code",
   "execution_count": 21,
   "metadata": {},
   "outputs": [],
   "source": [
    "\n",
    "lst = ['b', 'a', 'r', 'o', 'n', 'e']\n",
    "lst = ['p', 'r', 'i', 'o', 'r', 'e']\n",
    "\n",
    "# write here\n",
    "\n"
   ]
  },
  {
   "cell_type": "markdown",
   "metadata": {},
   "source": [
    "## Dictionary from a sequence of couples\n",
    "\n",
    "We can obtain a dictionary by specifying a sequence of key/value couples as parameter of the function `dict`. For example we could pass a list of tuples:"
   ]
  },
  {
   "cell_type": "code",
   "execution_count": 22,
   "metadata": {},
   "outputs": [
    {
     "data": {
      "text/plain": [
       "{'flour': 500, 'eggs': 2, 'sugar': 200}"
      ]
     },
     "execution_count": 22,
     "metadata": {},
     "output_type": "execute_result"
    }
   ],
   "source": [
    "dict(  [\n",
    "         ('flour',500),\n",
    "         ('eggs',2),\n",
    "         ('sugar',200),\n",
    "       ])"
   ]
  },
  {
   "cell_type": "markdown",
   "metadata": {},
   "source": [
    "We can also use other sequences, the important bit is that subsequences must all have two elements. For example, here is a tuple of lists:"
   ]
  },
  {
   "cell_type": "code",
   "execution_count": 23,
   "metadata": {},
   "outputs": [
    {
     "data": {
      "text/plain": [
       "{'flour': 500, 'eggs': 2, 'sugar': 200}"
      ]
     },
     "execution_count": 23,
     "metadata": {},
     "output_type": "execute_result"
    }
   ],
   "source": [
    "dict(  (\n",
    "         ['flour',500],\n",
    "         ['eggs',2],\n",
    "         ['sugar',200],\n",
    "       ))"
   ]
  },
  {
   "cell_type": "markdown",
   "metadata": {},
   "source": [
    "If a subsequence has a number of elements different from two, we obtain this error:"
   ]
  },
  {
   "cell_type": "markdown",
   "metadata": {},
   "source": [
    "```python\n",
    ">>> dict(  (\n",
    "         ['flour',500],\n",
    "         ['rotten','eggs', 3],\n",
    "         ['sugar',200],\n",
    "       ))\n",
    "\n",
    "---------------------------------------------------------------------------\n",
    "ValueError                                Traceback (most recent call last)\n",
    "<ipython-input-88-563d301b4aef> in <module>\n",
    "      2          ['flour',500],\n",
    "      3          ['rotten','eggs', 3],\n",
    "      4          ['sugar',200],\n",
    "      5        ))\n",
    "\n",
    "ValueError: dictionary update sequence element #1 has length 3; 2 is required\n",
    "\n",
    "\n",
    "```"
   ]
  },
  {
   "cell_type": "markdown",
   "metadata": {},
   "source": [
    "**QUESTION**: Compare the following expressions. Do they do the same thing? If so, which one would you prefer?\n",
    "\n",
    "```python\n",
    "dict( {\n",
    "        ('a',5), \n",
    "        ('b',8),\n",
    "        ('c',3)\n",
    "      } )\n",
    "\n",
    "```\n",
    "\n",
    "```python\n",
    "dict( (\n",
    "        {'a',5}, \n",
    "        {'b',8},\n",
    "        {'c',3}\n",
    "      ) \n",
    "    )\n",
    "```\n"
   ]
  },
  {
   "cell_type": "raw",
   "id": "1f9508f2",
   "metadata": {
    "format": "text/html"
   },
   "source": [
    "<a  class=\"jupman-sol jupman-sol-toggler\" \n",
    " onclick=\"jupman.toggleSolution(this);\" \n",
    " data-jupman-show=\"Show answer\" data-jupman-hide=\"Hide\">Show answer</a><div class=\"jupman-sol jupman-sol-question\" style=\"display:none\">  "
   ]
  },
  {
   "cell_type": "markdown",
   "metadata": {},
   "source": [
    "**ANSWER**: The expressions do NOT produce the same result, and we must definitely  prefer the first one.\n",
    "\n",
    "On our pc, we obtained this:\n",
    "\n",
    "<div class=\"alert alert-warning\">\n",
    "\n",
    "**WARNING: on your computer you may get different results!**    \n",
    "    \n",
    "</div>\n",
    "\n",
    "```python\n",
    "# first\n",
    ">>> dict( {\n",
    "            ('a',5), \n",
    "            ('b',8),\n",
    "            ('c',3)} )\n",
    "\n",
    "{'b': 8, 'a': 5, 'c': 3}\n",
    "```\n",
    "\n",
    "```python\n",
    "# second\n",
    ">>> dict( (\n",
    "            {'a',5}, \n",
    "            {'b',8},\n",
    "            {'c',3}) )\n",
    "\n",
    "{'a': 5, 8: 'b', 3: 'c'}\n",
    "```\n",
    "\n",
    "In the first case we started with a set of tuples: since it is a set, the elements inside it are memorized in an order we _cannot_ predict. When Python checks the tuples inside, for each of them obtains a key/value couple. Now, from the dictionary definition we know dictionary keys are also memorized without a precise order. Thus, inserting keys in an order or another doesn't matter, the only important thing is keeping the key/value distinction. In the dictionary print we see the same couples we specified, only in different order: the proper couples have been created because tuples _are_ ordered indeed.\n",
    "\n",
    "In the second case we started instead from a tuple of sets, so Python visited the elements of the tuple in the same order as the one we see: alas, by specifying the couples like sets the order in which Python read the elements becomes unpredictable. On our computer, with the first set we've been lucky and Python first read `'a'` and then `5`, with the following sets it read instead first the number and then the character! On your computer you might see a completely different result!"
   ]
  },
  {
   "cell_type": "raw",
   "id": "02c3a2ba",
   "metadata": {
    "format": "text/html"
   },
   "source": [
    "</div>"
   ]
  },
  {
   "cell_type": "markdown",
   "metadata": {},
   "source": [
    "**QUESTION**: Look at the following expressions, and for each try guessing which result it produces (or if it gives an error):\n",
    "\n",
    "\n",
    "1.  ```python\n",
    "    dict('abcd')\n",
    "    ```\n",
    "1.  ```python\n",
    "    dict(['ab','cd'])\n",
    "    ```\n",
    "1.  ```python    \n",
    "    dict(['a1','c2'])\n",
    "    ```\n",
    "1.  ```python    \n",
    "    dict([])\n",
    "    ```\n",
    "1.  ```python    \n",
    "    dict(())\n",
    "    ```\n",
    "1.  ```python    \n",
    "    dict(('  ',))   # nasty\n",
    "    ```"
   ]
  },
  {
   "cell_type": "markdown",
   "metadata": {},
   "source": [
    "### Exercise - galattico veramente"
   ]
  },
  {
   "cell_type": "markdown",
   "metadata": {},
   "source": [
    "\n",
    "Given some variables use the constructor from sequences of couples to obtain the variable `diz`\n",
    "\n",
    "- **DO NOT** use string constants in the code, nor particular numbers (so no `'Ga'` nor `759`). Using indexes is allowed.\n",
    "\n",
    "Example 1 - given:\n",
    "\n",
    "```python\n",
    "s = 'Ga'\n",
    "t = ('LA','tt')\n",
    "l1 = ['Ic','Co','Ve']\n",
    "l2 = ['Ra','Me','Nt']\n",
    "l3 = [[['EEE','...']]]\n",
    "n = 43.759\n",
    "```\n",
    "\n",
    "After your code, it must result (NOTE: the order of keys DOESN'T matter!)\n",
    "\n",
    "\n",
    "```python\n",
    ">>> diz\n",
    "{'G': 'a',\n",
    " 'LA': 'tt',\n",
    " 'I': 'c',\n",
    " 'C': 'o',\n",
    " 'V': 'e',\n",
    " 'R': 'a',\n",
    " 'M': 'e',\n",
    " 'N': 't',\n",
    " 'EEE': '...',\n",
    " '43': '759'}\n",
    "```\n",
    "\n",
    "Example 2 - given:\n",
    "\n",
    "```python\n",
    "s = 'Sp'\n",
    "t = ('Az','ia')\n",
    "l1 = ['Le','Si','De']\n",
    "l2 = ['Ra','Le','In']\n",
    "l3 = [[['CREDIBBILE','!!!!!']]]\n",
    "n = 8744.92835\n",
    "```\n",
    "\n",
    "must result in:\n",
    "\n",
    "```python\n",
    ">>> diz\n",
    "{'S': 'i',\n",
    " 'Az': 'ia',\n",
    " 'L': 'e',\n",
    " 'D': 'e',\n",
    " 'R': 'a',\n",
    " 'I': 'n',\n",
    " 'CREDIBBILE': '!!!!!',\n",
    " '8744': '92835'}\n",
    "```"
   ]
  },
  {
   "cell_type": "raw",
   "id": "1a662430",
   "metadata": {
    "format": "text/html"
   },
   "source": [
    "<a  class=\"jupman-sol jupman-sol-toggler\" \n",
    " onclick=\"jupman.toggleSolution(this);\" \n",
    " data-jupman-show=\"Show solution\" data-jupman-hide=\"Hide\">Show solution</a><div class=\"jupman-sol jupman-sol-code\" style=\"display:none\">  "
   ]
  },
  {
   "cell_type": "code",
   "execution_count": 24,
   "metadata": {},
   "outputs": [
    {
     "data": {
      "text/plain": [
       "{'G': 'a',\n",
       " 'LA': 'tt',\n",
       " 'I': 'c',\n",
       " 'C': 'o',\n",
       " 'V': 'e',\n",
       " 'R': 'a',\n",
       " 'M': 'e',\n",
       " 'N': 't',\n",
       " 'EEE': '...',\n",
       " '43': '759'}"
      ]
     },
     "execution_count": 24,
     "metadata": {},
     "output_type": "execute_result"
    }
   ],
   "source": [
    "\n",
    "s = 'Ga'\n",
    "t = ('LA','tt')\n",
    "l1 = ['Ic','Co','Ve']\n",
    "l2 = ['Ra','Me','Nt']\n",
    "l3 = [[['EEE','...']]]\n",
    "n = 43.759\n",
    "\n",
    "#s = 'Sp'\n",
    "#t = ('Az','ia')\n",
    "#l1 = ['Le','Si','De']\n",
    "#l2 = ['Ra','Le','In']\n",
    "#l3 = [[['CREDIBBILE','!!!!!']]]\n",
    "#n = 8744.92835\n",
    "\n",
    "# write here\n",
    "\n",
    "diz = dict([s, t] +  l1 + l2 + l3[0] + [str(n).split('.')])\n",
    "diz"
   ]
  },
  {
   "cell_type": "raw",
   "id": "92b0ed4c",
   "metadata": {
    "format": "text/html"
   },
   "source": [
    "</div>"
   ]
  },
  {
   "cell_type": "code",
   "execution_count": 24,
   "metadata": {},
   "outputs": [],
   "source": [
    "\n",
    "s = 'Ga'\n",
    "t = ('LA','tt')\n",
    "l1 = ['Ic','Co','Ve']\n",
    "l2 = ['Ra','Me','Nt']\n",
    "l3 = [[['EEE','...']]]\n",
    "n = 43.759\n",
    "\n",
    "#s = 'Sp'\n",
    "#t = ('Az','ia')\n",
    "#l1 = ['Le','Si','De']\n",
    "#l2 = ['Ra','Le','In']\n",
    "#l3 = [[['CREDIBBILE','!!!!!']]]\n",
    "#n = 8744.92835\n",
    "\n",
    "# write here\n",
    "\n"
   ]
  },
  {
   "cell_type": "markdown",
   "metadata": {},
   "source": [
    "## Dictionary from keyword arguments\n",
    "\n",
    "As further creation method, we can specify keys as they were parameters with a name:"
   ]
  },
  {
   "cell_type": "code",
   "execution_count": 25,
   "metadata": {},
   "outputs": [
    {
     "data": {
      "text/plain": [
       "{'a': 5, 'b': 6}"
      ]
     },
     "execution_count": 25,
     "metadata": {},
     "output_type": "execute_result"
    }
   ],
   "source": [
    "dict(a=5,b=6)"
   ]
  },
  {
   "cell_type": "markdown",
   "metadata": {},
   "source": [
    "<div class=\"alert alert-warning\">\n",
    "\n",
    "**WARNING: keys will be subject to the same restrictive rules of function parameter names!**\n",
    "   \n",
    "</div>\n",
    "\n",
    "For example, by using curly brackets this dictionary is perfectly lecit:"
   ]
  },
  {
   "cell_type": "code",
   "execution_count": 26,
   "metadata": {},
   "outputs": [
    {
     "data": {
      "text/plain": [
       "{'a b': 2, 'c d': 6}"
      ]
     },
     "execution_count": 26,
     "metadata": {},
     "output_type": "execute_result"
    }
   ],
   "source": [
    "{'a b' : 2,\n",
    " 'c d' : 6}"
   ]
  },
  {
   "cell_type": "markdown",
   "metadata": {},
   "source": [
    "But if we try creating it using `a b` as argument of `dict`, we will incur into problems:"
   ]
  },
  {
   "cell_type": "markdown",
   "metadata": {},
   "source": [
    "```python\n",
    ">>> dict(a b=2, c d=6)\n",
    "\n",
    "  File \"<ipython-input-97-444f8661585a>\", line 1\n",
    "    dict(a b=2, c d=6)\n",
    "           ^\n",
    "SyntaxError: invalid syntax\n",
    "```"
   ]
  },
  {
   "cell_type": "markdown",
   "metadata": {},
   "source": [
    "Strings will also give trouble:"
   ]
  },
  {
   "cell_type": "markdown",
   "metadata": {},
   "source": [
    "```python\n",
    ">>> dict('a b'=2,'c d'=6)\n",
    "\n",
    "  File \"<ipython-input-98-45aafbb56e81>\", line 1\n",
    "    dict('a b'=2,'c d'=6)\n",
    "        ^\n",
    "SyntaxError: keyword can't be an expression\n",
    "```\n"
   ]
  },
  {
   "cell_type": "markdown",
   "metadata": {},
   "source": [
    "And be careful about tricks like using variables, we won't obtain the desired result:"
   ]
  },
  {
   "cell_type": "code",
   "execution_count": 27,
   "metadata": {},
   "outputs": [
    {
     "data": {
      "text/plain": [
       "{'ka': 2, 'kc': 6}"
      ]
     },
     "execution_count": 27,
     "metadata": {},
     "output_type": "execute_result"
    }
   ],
   "source": [
    "ka = 'a b'\n",
    "kc = 'c d'\n",
    "\n",
    "dict(ka=2,kc=6)"
   ]
  },
  {
   "cell_type": "markdown",
   "metadata": {},
   "source": [
    "**QUESTION**: Look at the following expressions, and for each try guessing the result (or if it gives an error):\n",
    "\n",
    "    \n",
    "1.  ```python\n",
    "    dict(3=5,2=8)\n",
    "    ```\n",
    "1.  ```python    \n",
    "    dict('costs'=9,'benefits'=15)\n",
    "    ```\n",
    "1.  ```python\n",
    "    dict(_costs=9,_benefits=15)\n",
    "    ```\n",
    "1.  ```python    \n",
    "    dict(33trentini=5)\n",
    "    ```    \n",
    "1.  ```python    \n",
    "    dict(trentini33=5)\n",
    "    ```        \n",
    "1.  ```python    \n",
    "    dict(trentini_33=5)\n",
    "    ```        \n",
    "1.  ```python    \n",
    "    dict(trentini-33=5)\n",
    "    ```            \n",
    "1.  ```python    \n",
    "    dict(costs=1=2,benefits=3=3)\n",
    "    ```\n",
    "1.  ```python    \n",
    "    dict(costs=1==2,benefits=3==3)\n",
    "    ```\n",
    "1.  ```python\n",
    "    v1 = 6\n",
    "    v2 = 8\n",
    "    dict(k1=v1,k2=v2)\n",
    "    ```"
   ]
  },
  {
   "cell_type": "markdown",
   "metadata": {},
   "source": [
    "## Copying a dictionary\n",
    "\n",
    "There are two ways to copy a dictionary, you can either do a _shallow_ copy or a _deep_ copy.\n",
    "\n",
    "### Shallow copy\n",
    "\n",
    "It is possible to create a shallow copy  by passing another dictionary to function `dict`:"
   ]
  },
  {
   "cell_type": "code",
   "execution_count": 28,
   "metadata": {},
   "outputs": [],
   "source": [
    "da = {'x':3,\n",
    "      'y':5,\n",
    "      'z':1}"
   ]
  },
  {
   "cell_type": "code",
   "execution_count": 29,
   "metadata": {},
   "outputs": [],
   "source": [
    "db = dict(da)"
   ]
  },
  {
   "cell_type": "code",
   "execution_count": 30,
   "metadata": {},
   "outputs": [
    {
     "name": "stdout",
     "output_type": "stream",
     "text": [
      "{'x': 3, 'y': 5, 'z': 1}\n"
     ]
    }
   ],
   "source": [
    "print(da)"
   ]
  },
  {
   "cell_type": "code",
   "execution_count": 31,
   "metadata": {},
   "outputs": [
    {
     "name": "stdout",
     "output_type": "stream",
     "text": [
      "{'x': 3, 'y': 5, 'z': 1}\n"
     ]
    }
   ],
   "source": [
    "print(db)"
   ]
  },
  {
   "cell_type": "markdown",
   "metadata": {},
   "source": [
    "In Python Tutor we will see two different memory regions:"
   ]
  },
  {
   "cell_type": "code",
   "execution_count": 32,
   "metadata": {
    "scrolled": true
   },
   "outputs": [
    {
     "data": {
      "text/html": [
       "        \n",
       "        <script src=\"../_static/js/pytutor-embed.bundle.min.js\" type=\"application/javascript\"></script>\n",
       "    \n",
       "        <style>\n",
       "        @import \"../_static/css/jupman.css\";\n",
       "        </style>\n",
       "     \n",
       "        <script id=\"json-jm-2dd2a886d70e7a35ba4e261861e252c7-34\" type=\"application/json\" >\n",
       "            {\"code\": \" \\nda = {'x':3,\\n      'y':5,\\n      'z':1}\\ndb = dict(da)\", \"trace\": [{\"line\": 2, \"event\": \"step_line\", \"func_name\": \"<module>\", \"globals\": {}, \"ordered_globals\": [], \"stack_to_render\": [], \"heap\": {}, \"stdout\": \"\"}, {\"line\": 3, \"event\": \"step_line\", \"func_name\": \"<module>\", \"globals\": {}, \"ordered_globals\": [], \"stack_to_render\": [], \"heap\": {}, \"stdout\": \"\"}, {\"line\": 4, \"event\": \"step_line\", \"func_name\": \"<module>\", \"globals\": {}, \"ordered_globals\": [], \"stack_to_render\": [], \"heap\": {}, \"stdout\": \"\"}, {\"line\": 5, \"event\": \"step_line\", \"func_name\": \"<module>\", \"globals\": {\"da\": [\"REF\", 1]}, \"ordered_globals\": [\"da\"], \"stack_to_render\": [], \"heap\": {\"1\": [\"DICT\", [\"x\", 3], [\"y\", 5], [\"z\", 1]]}, \"stdout\": \"\"}, {\"line\": 5, \"event\": \"return\", \"func_name\": \"<module>\", \"globals\": {\"da\": [\"REF\", 1], \"db\": [\"REF\", 2]}, \"ordered_globals\": [\"da\", \"db\"], \"stack_to_render\": [], \"heap\": {\"1\": [\"DICT\", [\"x\", 3], [\"y\", 5], [\"z\", 1]], \"2\": [\"DICT\", [\"x\", 3], [\"y\", 5], [\"z\", 1]]}, \"stdout\": \"\"}]}\n",
       "        </script>\n",
       "        <div id=\"jm-2dd2a886d70e7a35ba4e261861e252c7-34\" class=\"pytutorVisualizer\"> </div>\n",
       "                        \n",
       "        <script>\n",
       "        \n",
       "        (function(){\n",
       "            console.log(\"jupman.py embedded javascript: adding Python tutor visualizer...\")\n",
       "            \n",
       "            var trace = JSON.parse(document.getElementById('json-jm-2dd2a886d70e7a35ba4e261861e252c7-34').innerHTML);                                        \n",
       "            // NOTE: id without #\n",
       "                    \n",
       "            addVisualizerToPage(trace, 'jm-2dd2a886d70e7a35ba4e261861e252c7-34',{'embeddedMode' : false,\n",
       "                                             'disableHeapNesting': true,\n",
       "                                             'visualizerIdOverride':'viz-jm-2dd2a886d70e7a35ba4e261861e252c7-34'})  \n",
       "            \n",
       "            \n",
       "            // set overflow for pytuts - need to do in python as css \n",
       "            // does not allow parent selection\n",
       "            var pytuts = $('.pytutorVisualizer')\n",
       "            pytuts.closest('div.output_html.rendered_html.output_result')\n",
       "                    .css('overflow-x', 'visible')\n",
       "        \n",
       "            //pytuts.closest('div.output_html.rendered_html.output_result')\n",
       "            //      .css('background-color','red')                \n",
       "            \n",
       "        })()\n",
       "        </script>\n",
       "                \n",
       "    \n",
       "    <div style=\"text-align:center; font-size:0.9em\"> <a href=\"https://pythontutor.com/visualize.html#mode=edit\" target=\"_blank\">Python Tutor</a> visualization</div> \n",
       "    "
      ],
      "text/plain": [
       "<IPython.core.display.HTML object>"
      ]
     },
     "execution_count": 32,
     "metadata": {},
     "output_type": "execute_result"
    }
   ],
   "source": [
    "da = {'x':3,\n",
    "      'y':5,\n",
    "      'z':1}\n",
    "db = dict(da)\n",
    "\n",
    "jupman.pytut()"
   ]
  },
  {
   "cell_type": "markdown",
   "metadata": {},
   "source": [
    "**QUESTION**: can we also write like this? With respect to the previous example, will we obtain different results?"
   ]
  },
  {
   "cell_type": "code",
   "execution_count": 33,
   "metadata": {},
   "outputs": [
    {
     "data": {
      "text/html": [
       "        \n",
       "        <script src=\"../_static/js/pytutor-embed.bundle.min.js\" type=\"application/javascript\"></script>\n",
       "    \n",
       "        <style>\n",
       "        @import \"../_static/css/jupman.css\";\n",
       "        </style>\n",
       "     \n",
       "        <script id=\"json-jm-177dcfda6143125da7b7e6f42305099e-35\" type=\"application/json\" >\n",
       "            {\"code\": \" \\nda = {'x':3,\\n      'y':5,\\n      'z':1}\\ndb = dict(dict(da))\", \"trace\": [{\"line\": 2, \"event\": \"step_line\", \"func_name\": \"<module>\", \"globals\": {}, \"ordered_globals\": [], \"stack_to_render\": [], \"heap\": {}, \"stdout\": \"\"}, {\"line\": 3, \"event\": \"step_line\", \"func_name\": \"<module>\", \"globals\": {}, \"ordered_globals\": [], \"stack_to_render\": [], \"heap\": {}, \"stdout\": \"\"}, {\"line\": 4, \"event\": \"step_line\", \"func_name\": \"<module>\", \"globals\": {}, \"ordered_globals\": [], \"stack_to_render\": [], \"heap\": {}, \"stdout\": \"\"}, {\"line\": 5, \"event\": \"step_line\", \"func_name\": \"<module>\", \"globals\": {\"da\": [\"REF\", 1]}, \"ordered_globals\": [\"da\"], \"stack_to_render\": [], \"heap\": {\"1\": [\"DICT\", [\"x\", 3], [\"y\", 5], [\"z\", 1]]}, \"stdout\": \"\"}, {\"line\": 5, \"event\": \"return\", \"func_name\": \"<module>\", \"globals\": {\"da\": [\"REF\", 1], \"db\": [\"REF\", 2]}, \"ordered_globals\": [\"da\", \"db\"], \"stack_to_render\": [], \"heap\": {\"1\": [\"DICT\", [\"x\", 3], [\"y\", 5], [\"z\", 1]], \"2\": [\"DICT\", [\"x\", 3], [\"y\", 5], [\"z\", 1]]}, \"stdout\": \"\"}]}\n",
       "        </script>\n",
       "        <div id=\"jm-177dcfda6143125da7b7e6f42305099e-35\" class=\"pytutorVisualizer\"> </div>\n",
       "                        \n",
       "        <script>\n",
       "        \n",
       "        (function(){\n",
       "            console.log(\"jupman.py embedded javascript: adding Python tutor visualizer...\")\n",
       "            \n",
       "            var trace = JSON.parse(document.getElementById('json-jm-177dcfda6143125da7b7e6f42305099e-35').innerHTML);                                        \n",
       "            // NOTE: id without #\n",
       "                    \n",
       "            addVisualizerToPage(trace, 'jm-177dcfda6143125da7b7e6f42305099e-35',{'embeddedMode' : false,\n",
       "                                             'disableHeapNesting': true,\n",
       "                                             'visualizerIdOverride':'viz-jm-177dcfda6143125da7b7e6f42305099e-35'})  \n",
       "            \n",
       "            \n",
       "            // set overflow for pytuts - need to do in python as css \n",
       "            // does not allow parent selection\n",
       "            var pytuts = $('.pytutorVisualizer')\n",
       "            pytuts.closest('div.output_html.rendered_html.output_result')\n",
       "                    .css('overflow-x', 'visible')\n",
       "        \n",
       "            //pytuts.closest('div.output_html.rendered_html.output_result')\n",
       "            //      .css('background-color','red')                \n",
       "            \n",
       "        })()\n",
       "        </script>\n",
       "                \n",
       "    \n",
       "    <div style=\"text-align:center; font-size:0.9em\"> <a href=\"https://pythontutor.com/visualize.html#mode=edit\" target=\"_blank\">Python Tutor</a> visualization</div> \n",
       "    "
      ],
      "text/plain": [
       "<IPython.core.display.HTML object>"
      ]
     },
     "execution_count": 33,
     "metadata": {},
     "output_type": "execute_result"
    }
   ],
   "source": [
    "da = {'x':3,\n",
    "      'y':5,\n",
    "      'z':1}\n",
    "db = dict(dict(da))\n",
    "\n",
    "jupman.pytut()"
   ]
  },
  {
   "cell_type": "raw",
   "id": "ac3205d3",
   "metadata": {
    "format": "text/html"
   },
   "source": [
    "<a  class=\"jupman-sol jupman-sol-toggler\" \n",
    " onclick=\"jupman.toggleSolution(this);\" \n",
    " data-jupman-show=\"Show answer\" data-jupman-hide=\"Hide\">Show answer</a><div class=\"jupman-sol jupman-sol-question\" style=\"display:none\">  "
   ]
  },
  {
   "cell_type": "markdown",
   "metadata": {},
   "source": [
    "**ANSWER**: The code produces the same results of previous example, although it is not efficient (a temporary dictionary will be created by the internal `dict` and then it will be immediately discarded)"
   ]
  },
  {
   "cell_type": "raw",
   "id": "0b0c91a4",
   "metadata": {
    "format": "text/html"
   },
   "source": [
    "</div>"
   ]
  },
  {
   "cell_type": "markdown",
   "metadata": {},
   "source": [
    "**Mutable values**: In the example we used integer values, which are _immutable._ If we tried _mutable_ values like lists, what would happen?"
   ]
  },
  {
   "cell_type": "code",
   "execution_count": 34,
   "metadata": {},
   "outputs": [
    {
     "data": {
      "text/html": [
       "        \n",
       "        <script src=\"../_static/js/pytutor-embed.bundle.min.js\" type=\"application/javascript\"></script>\n",
       "    \n",
       "        <style>\n",
       "        @import \"../_static/css/jupman.css\";\n",
       "        </style>\n",
       "     \n",
       "        <script id=\"json-jm-b25e85e463fb47368f23d030ca792eb1-36\" type=\"application/json\" >\n",
       "            {\"code\": \" \\nda = {'x':['a','b','c'],\\n      'y':['d'],\\n      'z':['e','f']}\\ndb = dict(da)\", \"trace\": [{\"line\": 2, \"event\": \"step_line\", \"func_name\": \"<module>\", \"globals\": {}, \"ordered_globals\": [], \"stack_to_render\": [], \"heap\": {}, \"stdout\": \"\"}, {\"line\": 3, \"event\": \"step_line\", \"func_name\": \"<module>\", \"globals\": {}, \"ordered_globals\": [], \"stack_to_render\": [], \"heap\": {}, \"stdout\": \"\"}, {\"line\": 4, \"event\": \"step_line\", \"func_name\": \"<module>\", \"globals\": {}, \"ordered_globals\": [], \"stack_to_render\": [], \"heap\": {}, \"stdout\": \"\"}, {\"line\": 5, \"event\": \"step_line\", \"func_name\": \"<module>\", \"globals\": {\"da\": [\"REF\", 1]}, \"ordered_globals\": [\"da\"], \"stack_to_render\": [], \"heap\": {\"1\": [\"DICT\", [\"x\", [\"REF\", 2]], [\"y\", [\"REF\", 3]], [\"z\", [\"REF\", 4]]], \"2\": [\"LIST\", \"a\", \"b\", \"c\"], \"3\": [\"LIST\", \"d\"], \"4\": [\"LIST\", \"e\", \"f\"]}, \"stdout\": \"\"}, {\"line\": 5, \"event\": \"return\", \"func_name\": \"<module>\", \"globals\": {\"da\": [\"REF\", 1], \"db\": [\"REF\", 5]}, \"ordered_globals\": [\"da\", \"db\"], \"stack_to_render\": [], \"heap\": {\"1\": [\"DICT\", [\"x\", [\"REF\", 2]], [\"y\", [\"REF\", 3]], [\"z\", [\"REF\", 4]]], \"2\": [\"LIST\", \"a\", \"b\", \"c\"], \"3\": [\"LIST\", \"d\"], \"4\": [\"LIST\", \"e\", \"f\"], \"5\": [\"DICT\", [\"x\", [\"REF\", 2]], [\"y\", [\"REF\", 3]], [\"z\", [\"REF\", 4]]]}, \"stdout\": \"\"}]}\n",
       "        </script>\n",
       "        <div id=\"jm-b25e85e463fb47368f23d030ca792eb1-36\" class=\"pytutorVisualizer\"> </div>\n",
       "                        \n",
       "        <script>\n",
       "        \n",
       "        (function(){\n",
       "            console.log(\"jupman.py embedded javascript: adding Python tutor visualizer...\")\n",
       "            \n",
       "            var trace = JSON.parse(document.getElementById('json-jm-b25e85e463fb47368f23d030ca792eb1-36').innerHTML);                                        \n",
       "            // NOTE: id without #\n",
       "                    \n",
       "            addVisualizerToPage(trace, 'jm-b25e85e463fb47368f23d030ca792eb1-36',{'embeddedMode' : false,\n",
       "                                             'disableHeapNesting': true,\n",
       "                                             'visualizerIdOverride':'viz-jm-b25e85e463fb47368f23d030ca792eb1-36'})  \n",
       "            \n",
       "            \n",
       "            // set overflow for pytuts - need to do in python as css \n",
       "            // does not allow parent selection\n",
       "            var pytuts = $('.pytutorVisualizer')\n",
       "            pytuts.closest('div.output_html.rendered_html.output_result')\n",
       "                    .css('overflow-x', 'visible')\n",
       "        \n",
       "            //pytuts.closest('div.output_html.rendered_html.output_result')\n",
       "            //      .css('background-color','red')                \n",
       "            \n",
       "        })()\n",
       "        </script>\n",
       "                \n",
       "    \n",
       "    <div style=\"text-align:center; font-size:0.9em\"> <a href=\"https://pythontutor.com/visualize.html#mode=edit\" target=\"_blank\">Python Tutor</a> visualization</div> \n",
       "    "
      ],
      "text/plain": [
       "<IPython.core.display.HTML object>"
      ]
     },
     "execution_count": 34,
     "metadata": {},
     "output_type": "execute_result"
    }
   ],
   "source": [
    "da = {'x':['a','b','c'],\n",
    "      'y':['d'],\n",
    "      'z':['e','f']}\n",
    "db = dict(da)\n",
    "\n",
    "jupman.pytut()"
   ]
  },
  {
   "cell_type": "markdown",
   "metadata": {},
   "source": [
    "If you try executing Python Tutor, you will see an explosion of arrows which go from the new dictionary `db` to the values of `da` (which are lists). No panic! We are going to give a better explanation in the next notebook, for now just note that **with the shallow copy of mutable values the new dictionary will have memory regions in common with the original dictionary.**"
   ]
  },
  {
   "cell_type": "markdown",
   "metadata": {},
   "source": [
    "### Deep copy\n",
    "\n",
    "When there are mutable shared memory regions like in the case above, it's easy to do mistakes and introduce subtle bugs you might notice much later in the development cycle.\n",
    "\n",
    "In order to have completely separated memory regions, we can use _deep copy._\n",
    "\n",
    "First we must tell Python we intend to use functions from the module `copy`, and then we will be allowed to call its `deepcopy` function:"
   ]
  },
  {
   "cell_type": "code",
   "execution_count": 35,
   "metadata": {},
   "outputs": [
    {
     "data": {
      "text/html": [
       "        \n",
       "        <script src=\"../_static/js/pytutor-embed.bundle.min.js\" type=\"application/javascript\"></script>\n",
       "    \n",
       "        <style>\n",
       "        @import \"../_static/css/jupman.css\";\n",
       "        </style>\n",
       "     \n",
       "        <script id=\"json-jm-af118db340ac4e7b6740d259c57cdcab-37\" type=\"application/json\" >\n",
       "            {\"code\": \" \\nfrom copy import deepcopy\\n\\nda = {'x':['a','b','c'],\\n      'y':['d'],\\n      'z':['e','f']}\\ndb = deepcopy(da)\", \"trace\": [{\"line\": 2, \"event\": \"step_line\", \"func_name\": \"<module>\", \"globals\": {}, \"ordered_globals\": [], \"stack_to_render\": [], \"heap\": {}, \"stdout\": \"\"}, {\"line\": 4, \"event\": \"step_line\", \"func_name\": \"<module>\", \"globals\": {\"deepcopy\": [\"IMPORTED_FAUX_PRIMITIVE\", \"imported object\"]}, \"ordered_globals\": [\"deepcopy\"], \"stack_to_render\": [], \"heap\": {}, \"stdout\": \"\"}, {\"line\": 5, \"event\": \"step_line\", \"func_name\": \"<module>\", \"globals\": {\"deepcopy\": [\"IMPORTED_FAUX_PRIMITIVE\", \"imported object\"]}, \"ordered_globals\": [\"deepcopy\"], \"stack_to_render\": [], \"heap\": {}, \"stdout\": \"\"}, {\"line\": 6, \"event\": \"step_line\", \"func_name\": \"<module>\", \"globals\": {\"deepcopy\": [\"IMPORTED_FAUX_PRIMITIVE\", \"imported object\"]}, \"ordered_globals\": [\"deepcopy\"], \"stack_to_render\": [], \"heap\": {}, \"stdout\": \"\"}, {\"line\": 7, \"event\": \"step_line\", \"func_name\": \"<module>\", \"globals\": {\"deepcopy\": [\"IMPORTED_FAUX_PRIMITIVE\", \"imported object\"], \"da\": [\"REF\", 1]}, \"ordered_globals\": [\"deepcopy\", \"da\"], \"stack_to_render\": [], \"heap\": {\"1\": [\"DICT\", [\"x\", [\"REF\", 2]], [\"y\", [\"REF\", 3]], [\"z\", [\"REF\", 4]]], \"2\": [\"LIST\", \"a\", \"b\", \"c\"], \"3\": [\"LIST\", \"d\"], \"4\": [\"LIST\", \"e\", \"f\"]}, \"stdout\": \"\"}, {\"line\": 7, \"event\": \"return\", \"func_name\": \"<module>\", \"globals\": {\"deepcopy\": [\"IMPORTED_FAUX_PRIMITIVE\", \"imported object\"], \"da\": [\"REF\", 1], \"db\": [\"REF\", 5]}, \"ordered_globals\": [\"deepcopy\", \"da\", \"db\"], \"stack_to_render\": [], \"heap\": {\"1\": [\"DICT\", [\"x\", [\"REF\", 2]], [\"y\", [\"REF\", 3]], [\"z\", [\"REF\", 4]]], \"2\": [\"LIST\", \"a\", \"b\", \"c\"], \"3\": [\"LIST\", \"d\"], \"4\": [\"LIST\", \"e\", \"f\"], \"5\": [\"DICT\", [\"x\", [\"REF\", 6]], [\"y\", [\"REF\", 7]], [\"z\", [\"REF\", 8]]], \"6\": [\"LIST\", \"a\", \"b\", \"c\"], \"7\": [\"LIST\", \"d\"], \"8\": [\"LIST\", \"e\", \"f\"]}, \"stdout\": \"\"}]}\n",
       "        </script>\n",
       "        <div id=\"jm-af118db340ac4e7b6740d259c57cdcab-37\" class=\"pytutorVisualizer\"> </div>\n",
       "                        \n",
       "        <script>\n",
       "        \n",
       "        (function(){\n",
       "            console.log(\"jupman.py embedded javascript: adding Python tutor visualizer...\")\n",
       "            \n",
       "            var trace = JSON.parse(document.getElementById('json-jm-af118db340ac4e7b6740d259c57cdcab-37').innerHTML);                                        \n",
       "            // NOTE: id without #\n",
       "                    \n",
       "            addVisualizerToPage(trace, 'jm-af118db340ac4e7b6740d259c57cdcab-37',{'embeddedMode' : false,\n",
       "                                             'disableHeapNesting': true,\n",
       "                                             'visualizerIdOverride':'viz-jm-af118db340ac4e7b6740d259c57cdcab-37'})  \n",
       "            \n",
       "            \n",
       "            // set overflow for pytuts - need to do in python as css \n",
       "            // does not allow parent selection\n",
       "            var pytuts = $('.pytutorVisualizer')\n",
       "            pytuts.closest('div.output_html.rendered_html.output_result')\n",
       "                    .css('overflow-x', 'visible')\n",
       "        \n",
       "            //pytuts.closest('div.output_html.rendered_html.output_result')\n",
       "            //      .css('background-color','red')                \n",
       "            \n",
       "        })()\n",
       "        </script>\n",
       "                \n",
       "    \n",
       "    <div style=\"text-align:center; font-size:0.9em\"> <a href=\"https://pythontutor.com/visualize.html#mode=edit\" target=\"_blank\">Python Tutor</a> visualization</div> \n",
       "    "
      ],
      "text/plain": [
       "<IPython.core.display.HTML object>"
      ]
     },
     "execution_count": 35,
     "metadata": {},
     "output_type": "execute_result"
    }
   ],
   "source": [
    "from copy import deepcopy\n",
    "\n",
    "da = {'x':['a','b','c'],\n",
    "      'y':['d'],\n",
    "      'z':['e','f']}\n",
    "db = deepcopy(da)\n",
    "\n",
    "jupman.pytut()"
   ]
  },
  {
   "cell_type": "markdown",
   "metadata": {},
   "source": [
    "If you execute the code in Python Tutor, you will notice that by following the arrow from `db` we will end up in an totally new orange/yellow memory region, which shares nothing with the memory region pointed by `da`."
   ]
  },
  {
   "cell_type": "markdown",
   "metadata": {},
   "source": [
    "**QUESTION**: Have a look at the following code - after its execution, will you see arrows going from `db` to elements of `da`?"
   ]
  },
  {
   "cell_type": "code",
   "execution_count": 36,
   "metadata": {},
   "outputs": [
    {
     "data": {
      "text/html": [
       "        \n",
       "        <script src=\"../_static/js/pytutor-embed.bundle.min.js\" type=\"application/javascript\"></script>\n",
       "    \n",
       "        <style>\n",
       "        @import \"../_static/css/jupman.css\";\n",
       "        </style>\n",
       "     \n",
       "        <script id=\"json-jm-db038f1115b427f30c2597ae6a5567e3-38\" type=\"application/json\" >\n",
       "            {\"code\": \" \\nda = {'x': {1,2,3},\\n      'y': {4,5}}\\ndb = dict(da)\", \"trace\": [{\"line\": 2, \"event\": \"step_line\", \"func_name\": \"<module>\", \"globals\": {}, \"ordered_globals\": [], \"stack_to_render\": [], \"heap\": {}, \"stdout\": \"\"}, {\"line\": 3, \"event\": \"step_line\", \"func_name\": \"<module>\", \"globals\": {}, \"ordered_globals\": [], \"stack_to_render\": [], \"heap\": {}, \"stdout\": \"\"}, {\"line\": 4, \"event\": \"step_line\", \"func_name\": \"<module>\", \"globals\": {\"da\": [\"REF\", 1]}, \"ordered_globals\": [\"da\"], \"stack_to_render\": [], \"heap\": {\"1\": [\"DICT\", [\"x\", [\"REF\", 2]], [\"y\", [\"REF\", 3]]], \"2\": [\"SET\", 1, 2, 3], \"3\": [\"SET\", 4, 5]}, \"stdout\": \"\"}, {\"line\": 4, \"event\": \"return\", \"func_name\": \"<module>\", \"globals\": {\"da\": [\"REF\", 1], \"db\": [\"REF\", 4]}, \"ordered_globals\": [\"da\", \"db\"], \"stack_to_render\": [], \"heap\": {\"1\": [\"DICT\", [\"x\", [\"REF\", 2]], [\"y\", [\"REF\", 3]]], \"2\": [\"SET\", 1, 2, 3], \"3\": [\"SET\", 4, 5], \"4\": [\"DICT\", [\"x\", [\"REF\", 2]], [\"y\", [\"REF\", 3]]]}, \"stdout\": \"\"}]}\n",
       "        </script>\n",
       "        <div id=\"jm-db038f1115b427f30c2597ae6a5567e3-38\" class=\"pytutorVisualizer\"> </div>\n",
       "                        \n",
       "        <script>\n",
       "        \n",
       "        (function(){\n",
       "            console.log(\"jupman.py embedded javascript: adding Python tutor visualizer...\")\n",
       "            \n",
       "            var trace = JSON.parse(document.getElementById('json-jm-db038f1115b427f30c2597ae6a5567e3-38').innerHTML);                                        \n",
       "            // NOTE: id without #\n",
       "                    \n",
       "            addVisualizerToPage(trace, 'jm-db038f1115b427f30c2597ae6a5567e3-38',{'embeddedMode' : false,\n",
       "                                             'disableHeapNesting': true,\n",
       "                                             'visualizerIdOverride':'viz-jm-db038f1115b427f30c2597ae6a5567e3-38'})  \n",
       "            \n",
       "            \n",
       "            // set overflow for pytuts - need to do in python as css \n",
       "            // does not allow parent selection\n",
       "            var pytuts = $('.pytutorVisualizer')\n",
       "            pytuts.closest('div.output_html.rendered_html.output_result')\n",
       "                    .css('overflow-x', 'visible')\n",
       "        \n",
       "            //pytuts.closest('div.output_html.rendered_html.output_result')\n",
       "            //      .css('background-color','red')                \n",
       "            \n",
       "        })()\n",
       "        </script>\n",
       "                \n",
       "    \n",
       "    <div style=\"text-align:center; font-size:0.9em\"> <a href=\"https://pythontutor.com/visualize.html#mode=edit\" target=\"_blank\">Python Tutor</a> visualization</div> \n",
       "    "
      ],
      "text/plain": [
       "<IPython.core.display.HTML object>"
      ]
     },
     "execution_count": 36,
     "metadata": {},
     "output_type": "execute_result"
    }
   ],
   "source": [
    "da = {'x': {1,2,3},\n",
    "      'y': {4,5}}\n",
    "db = dict(da)\n",
    "jupman.pytut()"
   ]
  },
  {
   "cell_type": "raw",
   "id": "c28172a2",
   "metadata": {
    "format": "text/html"
   },
   "source": [
    "<a  class=\"jupman-sol jupman-sol-toggler\" \n",
    " onclick=\"jupman.toggleSolution(this);\" \n",
    " data-jupman-show=\"Show answer\" data-jupman-hide=\"Hide\">Show answer</a><div class=\"jupman-sol jupman-sol-question\" style=\"display:none\">  "
   ]
  },
  {
   "cell_type": "markdown",
   "metadata": {},
   "source": [
    "**ANSWER**: Yes, because the values from `da` are sets which are mutable."
   ]
  },
  {
   "cell_type": "raw",
   "id": "bb86d0f3",
   "metadata": {
    "format": "text/html"
   },
   "source": [
    "</div>"
   ]
  },
  {
   "cell_type": "markdown",
   "metadata": {},
   "source": [
    "## Continue\n",
    "\n",
    "Go on reading [Dictionaries 2](https://en.softpython.org/dictionaries/dictionaries2-sol.html)"
   ]
  },
  {
   "cell_type": "code",
   "execution_count": null,
   "metadata": {},
   "outputs": [],
   "source": []
  }
 ],
 "metadata": {
  "celltoolbar": "Edit Metadata",
  "kernelspec": {
   "display_name": "Python 3 (ipykernel)",
   "language": "python",
   "name": "python3"
  },
  "language_info": {
   "codemirror_mode": {
    "name": "ipython",
    "version": 3
   },
   "file_extension": ".py",
   "mimetype": "text/x-python",
   "name": "python",
   "nbconvert_exporter": "python",
   "pygments_lexer": "ipython3",
   "version": "3.7.17"
  },
  "toc": {
   "base_numbering": 1,
   "nav_menu": {},
   "number_sections": false,
   "sideBar": true,
   "skip_h1_title": false,
   "title_cell": "Table of Contents",
   "title_sidebar": "Contents",
   "toc_cell": false,
   "toc_position": {
    "height": "calc(100% - 180px)",
    "left": "10px",
    "top": "150px",
    "width": "342px"
   },
   "toc_section_display": true,
   "toc_window_display": true
  }
 },
 "nbformat": 4,
 "nbformat_minor": 2
}
