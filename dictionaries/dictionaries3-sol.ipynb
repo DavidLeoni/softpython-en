{
 "cells": [
  {
   "cell_type": "code",
   "execution_count": 1,
   "metadata": {
    "nbsphinx": "hidden"
   },
   "outputs": [],
   "source": [
    "# Remember to execute this cell with Shift+Enter\n",
    "\n",
    "import jupman"
   ]
  },
  {
   "cell_type": "markdown",
   "metadata": {},
   "source": [
    "# Dictionaries 3 - Methods\n",
    "\n",
    "## [Download exercise zip](../_static/generated/dictionaries.zip)\n",
    "\n",
    "[Browse online files](https://github.com/DavidLeoni/softpython-en/tree/master/dictionaries)"
   ]
  },
  {
   "cell_type": "markdown",
   "metadata": {},
   "source": [
    "In this notebook we will se the main ethods to extract data and manipulate dictionaries.\n",
    "\n",
    "**Methods**:\n",
    "\n",
    "|Method|Return|Description|\n",
    "|---|---|---|\n",
    "|[dict.keys()](#keys-method)|`dict_keys`|Return a _view_ of keys which are present in the dictionary|\n",
    "|[dict.values()](#values-method)|`dict_values`|Return a _view_ of values which are present in the dictionary|\n",
    "|[dict.items()](#items-method)|`dict_items`|Return a _view_ of (key/value) couples present in the dictionary|\n",
    "|[dict1.update(dict2)](#update-method)|`None`|MODIFY the dictionary `dict1` with the key / value couples found in `dict2`|"
   ]
  },
  {
   "cell_type": "markdown",
   "metadata": {},
   "source": [
    "## What to do\n",
    "\n",
    "1. Unzip [exercises zip](../_static/generated/dictionaries.zip) in a folder, you should obtain something like this:\n",
    "\n",
    "```\n",
    "sets\n",
    "    dictionaries1.ipynb    \n",
    "    dictionaries1-sol.ipynb         \n",
    "    dictionaries2.ipynb    \n",
    "    dictionaries2-sol.ipynb         \n",
    "    dictionaries3.ipynb    \n",
    "    dictionaries3-sol.ipynb\n",
    "    dictionaries4.ipynb    \n",
    "    dictionaries4-sol.ipynb    \n",
    "    dictionaries5-chal.ipynb    \n",
    "    jupman.py         \n",
    "```\n",
    "\n",
    "<div class=\"alert alert-warning\">\n",
    "\n",
    "**WARNING: to correctly visualize the notebook, it MUST be in an unzipped folder !**\n",
    "</div>"
   ]
  },
  {
   "cell_type": "markdown",
   "metadata": {},
   "source": [
    "2. open Jupyter Notebook from that folder. Two things should open, first a console and then a browser. The browser should show a file list: navigate the list and open the notebook `dictionaries3.ipynb`\n",
    "\n",
    "3. Go on reading the exercises file, sometimes you will find paragraphs marked **Exercises** which will ask to write Python commands in the following cells."
   ]
  },
  {
   "cell_type": "markdown",
   "metadata": {},
   "source": [
    "Shortcut keys:\n",
    "\n",
    "- to execute Python code inside a Jupyter cell, press `Control + Enter`\n",
    "\n",
    "- to execute Python code inside a Jupyter cell AND select next cell, press `Shift + Enter`\n",
    "\n",
    "- to execute Python code inside a Jupyter cell AND a create a new cell aftwerwards, press `Alt + Enter`\n",
    "\n",
    "- If the notebooks look stuck, try to select `Kernel -> Restart`"
   ]
  },
  {
   "cell_type": "markdown",
   "metadata": {},
   "source": [
    "## `keys` method\n",
    "\n",
    "By calling the method  `.keys()` we can obtain the dictionary keys:"
   ]
  },
  {
   "cell_type": "code",
   "execution_count": 2,
   "metadata": {},
   "outputs": [],
   "source": [
    "vegetables = {'carrots'  : 5,\n",
    "              'tomatoes' : 8,\n",
    "              'cabbage'  : 3}"
   ]
  },
  {
   "cell_type": "code",
   "execution_count": 3,
   "metadata": {},
   "outputs": [
    {
     "data": {
      "text/plain": [
       "dict_keys(['carrots', 'tomatoes', 'cabbage'])"
      ]
     },
     "execution_count": 3,
     "metadata": {},
     "output_type": "execute_result"
    }
   ],
   "source": [
    "vegetables.keys()"
   ]
  },
  {
   "cell_type": "markdown",
   "metadata": {},
   "source": [
    "<div class=\"alert alert-warning\">\n",
    "\n",
    "**WARNING: THE RETURNED SEQUENCE IS OF TYPE** `dict_keys`    \n",
    "    \n",
    "`dict_keys` might look like a list but it is well different!\n",
    "\n",
    "</div>"
   ]
  },
  {
   "cell_type": "markdown",
   "metadata": {},
   "source": [
    "In particular, the returned sequence `dict_keys` is **a view** on the original dictionary. In computer science, when we talk about _views_ we typically intend collections which contain a part of the objects contained in another collection, _and if the original collection gets modified, so is the view at the same time._\n",
    "\n",
    "Let's see what this means. First let's assign the sequence of keys to a variable:"
   ]
  },
  {
   "cell_type": "code",
   "execution_count": 4,
   "metadata": {},
   "outputs": [],
   "source": [
    "ks = vegetables.keys()"
   ]
  },
  {
   "cell_type": "markdown",
   "metadata": {},
   "source": [
    "Then we modify the original dictionary, adding an association:"
   ]
  },
  {
   "cell_type": "code",
   "execution_count": 5,
   "metadata": {},
   "outputs": [],
   "source": [
    "vegetables['potatoes'] = 8"
   ]
  },
  {
   "cell_type": "markdown",
   "metadata": {},
   "source": [
    "If we now print `ks`, we should see the change:"
   ]
  },
  {
   "cell_type": "code",
   "execution_count": 6,
   "metadata": {},
   "outputs": [
    {
     "data": {
      "text/plain": [
       "dict_keys(['carrots', 'tomatoes', 'cabbage', 'potatoes'])"
      ]
     },
     "execution_count": 6,
     "metadata": {},
     "output_type": "execute_result"
    }
   ],
   "source": [
    "ks"
   ]
  },
  {
   "cell_type": "markdown",
   "metadata": {},
   "source": [
    "<div class=\"alert alert-info\">\n",
    "\n",
    "**Sequence returned by** `.keys()` **can change over time!**\n",
    "    \n",
    "When reusing the sequence from `.keys()`, ask yourself if the dictionary could have changed in the meanwhile\n",
    "\n",
    "</div>"
   ]
  },
  {
   "cell_type": "markdown",
   "metadata": {},
   "source": [
    "If we want a stable version as a sort of static 'picture' of dictionary keys at a given moment in time, we must explicitly convert them to another sequence, like for example a `list`:"
   ]
  },
  {
   "cell_type": "code",
   "execution_count": 7,
   "metadata": {},
   "outputs": [],
   "source": [
    "as_list = list(vegetables.keys())"
   ]
  },
  {
   "cell_type": "code",
   "execution_count": 8,
   "metadata": {},
   "outputs": [
    {
     "data": {
      "text/plain": [
       "['carrots', 'tomatoes', 'cabbage', 'potatoes']"
      ]
     },
     "execution_count": 8,
     "metadata": {},
     "output_type": "execute_result"
    }
   ],
   "source": [
    "as_list"
   ]
  },
  {
   "cell_type": "code",
   "execution_count": 9,
   "metadata": {},
   "outputs": [],
   "source": [
    "vegetables['cocumber'] = 9"
   ]
  },
  {
   "cell_type": "code",
   "execution_count": 10,
   "metadata": {},
   "outputs": [
    {
     "data": {
      "text/plain": [
       "['carrots', 'tomatoes', 'cabbage', 'potatoes']"
      ]
     },
     "execution_count": 10,
     "metadata": {},
     "output_type": "execute_result"
    }
   ],
   "source": [
    "as_list     # no cocumbers"
   ]
  },
  {
   "cell_type": "markdown",
   "metadata": {},
   "source": [
    "Let's see again the example in Python Tutor:"
   ]
  },
  {
   "cell_type": "code",
   "execution_count": 11,
   "metadata": {},
   "outputs": [],
   "source": [
    "# WARNING: FOR PYTHON TUTOR TO WORK, REMEMBER TO EXECUTE THIS CELL with Shift+Enter\n",
    "#          (it's sufficient to execute it only once)\n",
    "\n",
    "import jupman"
   ]
  },
  {
   "cell_type": "code",
   "execution_count": 12,
   "metadata": {
    "scrolled": false
   },
   "outputs": [
    {
     "data": {
      "text/html": [
       "        \n",
       "        <script src=\"../_static/js/pytutor-embed.bundle.min.js\" type=\"application/javascript\"></script>\n",
       "    \n",
       "        <style>\n",
       "        @import \"../_static/css/jupman.css\";\n",
       "        </style>\n",
       "     \n",
       "        <script id=\"json-jm-fdd7a57c6bdd534a11c6c96a8ad77d4e-14\" type=\"application/json\" >\n",
       "            {\"code\": \" \\nvegetables = {'carrots'  : 5,\\n              'tomatoes' : 8,\\n              'cabbage'  : 3}\\nkeys = vegetables.keys()\\nvegetables['potatoes'] = 8\\nas_list = list(vegetables.keys())\\nvegetables['cocumbers'] = 9\\n#print(as_list)\", \"trace\": [{\"line\": 2, \"event\": \"step_line\", \"func_name\": \"<module>\", \"globals\": {}, \"ordered_globals\": [], \"stack_to_render\": [], \"heap\": {}, \"stdout\": \"\"}, {\"line\": 3, \"event\": \"step_line\", \"func_name\": \"<module>\", \"globals\": {}, \"ordered_globals\": [], \"stack_to_render\": [], \"heap\": {}, \"stdout\": \"\"}, {\"line\": 4, \"event\": \"step_line\", \"func_name\": \"<module>\", \"globals\": {}, \"ordered_globals\": [], \"stack_to_render\": [], \"heap\": {}, \"stdout\": \"\"}, {\"line\": 5, \"event\": \"step_line\", \"func_name\": \"<module>\", \"globals\": {\"vegetables\": [\"REF\", 1]}, \"ordered_globals\": [\"vegetables\"], \"stack_to_render\": [], \"heap\": {\"1\": [\"DICT\", [\"carrots\", 5], [\"tomatoes\", 8], [\"cabbage\", 3]]}, \"stdout\": \"\"}, {\"line\": 6, \"event\": \"step_line\", \"func_name\": \"<module>\", \"globals\": {\"vegetables\": [\"REF\", 1], \"keys\": [\"REF\", 2]}, \"ordered_globals\": [\"vegetables\", \"keys\"], \"stack_to_render\": [], \"heap\": {\"1\": [\"DICT\", [\"carrots\", 5], [\"tomatoes\", 8], [\"cabbage\", 3]], \"2\": [\"INSTANCE_PPRINT\", \"dict_keys\", \"dict_keys(['carrots', 'tomatoes', 'cabbage'])\"]}, \"stdout\": \"\"}, {\"line\": 7, \"event\": \"step_line\", \"func_name\": \"<module>\", \"globals\": {\"vegetables\": [\"REF\", 1], \"keys\": [\"REF\", 2]}, \"ordered_globals\": [\"vegetables\", \"keys\"], \"stack_to_render\": [], \"heap\": {\"1\": [\"DICT\", [\"carrots\", 5], [\"tomatoes\", 8], [\"cabbage\", 3], [\"potatoes\", 8]], \"2\": [\"INSTANCE_PPRINT\", \"dict_keys\", \"dict_keys(['carrots', 'tomatoes', 'cabbage', 'potatoes'])\"]}, \"stdout\": \"\"}, {\"line\": 8, \"event\": \"step_line\", \"func_name\": \"<module>\", \"globals\": {\"vegetables\": [\"REF\", 1], \"keys\": [\"REF\", 2], \"as_list\": [\"REF\", 3]}, \"ordered_globals\": [\"vegetables\", \"keys\", \"as_list\"], \"stack_to_render\": [], \"heap\": {\"1\": [\"DICT\", [\"carrots\", 5], [\"tomatoes\", 8], [\"cabbage\", 3], [\"potatoes\", 8]], \"2\": [\"INSTANCE_PPRINT\", \"dict_keys\", \"dict_keys(['carrots', 'tomatoes', 'cabbage', 'potatoes'])\"], \"3\": [\"LIST\", \"carrots\", \"tomatoes\", \"cabbage\", \"potatoes\"]}, \"stdout\": \"\"}, {\"line\": 8, \"event\": \"return\", \"func_name\": \"<module>\", \"globals\": {\"vegetables\": [\"REF\", 1], \"keys\": [\"REF\", 2], \"as_list\": [\"REF\", 3]}, \"ordered_globals\": [\"vegetables\", \"keys\", \"as_list\"], \"stack_to_render\": [], \"heap\": {\"1\": [\"DICT\", [\"carrots\", 5], [\"tomatoes\", 8], [\"cabbage\", 3], [\"potatoes\", 8], [\"cocumbers\", 9]], \"2\": [\"INSTANCE_PPRINT\", \"dict_keys\", \"dict_keys(['carrots', 'tomatoes', 'cabbage', 'potatoes', 'cocumbers'])\"], \"3\": [\"LIST\", \"carrots\", \"tomatoes\", \"cabbage\", \"potatoes\"]}, \"stdout\": \"\"}]}\n",
       "        </script>\n",
       "        <div id=\"jm-fdd7a57c6bdd534a11c6c96a8ad77d4e-14\" class=\"pytutorVisualizer\"> </div>\n",
       "                        \n",
       "        <script>\n",
       "        \n",
       "        (function(){\n",
       "            console.log(\"jupman.py embedded javascript: adding Python tutor visualizer...\")\n",
       "            \n",
       "            var trace = JSON.parse(document.getElementById('json-jm-fdd7a57c6bdd534a11c6c96a8ad77d4e-14').innerHTML);                                        \n",
       "            // NOTE: id without #\n",
       "                    \n",
       "            addVisualizerToPage(trace, 'jm-fdd7a57c6bdd534a11c6c96a8ad77d4e-14',{'embeddedMode' : false,\n",
       "                                             'disableHeapNesting': true,\n",
       "                                             'visualizerIdOverride':'viz-jm-fdd7a57c6bdd534a11c6c96a8ad77d4e-14'})  \n",
       "            \n",
       "            \n",
       "            // set overflow for pytuts - need to do in python as css \n",
       "            // does not allow parent selection\n",
       "            var pytuts = $('.pytutorVisualizer')\n",
       "            pytuts.closest('div.output_html.rendered_html.output_result')\n",
       "                    .css('overflow-x', 'visible')\n",
       "        \n",
       "            //pytuts.closest('div.output_html.rendered_html.output_result')\n",
       "            //      .css('background-color','red')                \n",
       "            \n",
       "        })()\n",
       "        </script>\n",
       "                \n",
       "    \n",
       "    <div style=\"text-align:center; font-size:0.9em\"> <a href=\"https://pythontutor.com/visualize.html#mode=edit\" target=\"_blank\">Python Tutor</a> visualization</div> \n",
       "    "
      ],
      "text/plain": [
       "<IPython.core.display.HTML object>"
      ]
     },
     "execution_count": 12,
     "metadata": {},
     "output_type": "execute_result"
    }
   ],
   "source": [
    "vegetables = {'carrots'  : 5,\n",
    "              'tomatoes' : 8,\n",
    "              'cabbage'  : 3}\n",
    "keys = vegetables.keys()\n",
    "vegetables['potatoes'] = 8\n",
    "as_list = list(vegetables.keys())\n",
    "vegetables['cocumbers'] = 9\n",
    "#print(as_list)\n",
    "\n",
    "jupman.pytut()"
   ]
  },
  {
   "cell_type": "markdown",
   "metadata": {},
   "source": [
    "\n",
    "<div class=\"alert alert-warning\">\n",
    "\n",
    "**WARNING: WE CAN'T USE INDEXES WITH** `dict_keys`\n",
    "\n",
    "</div>\n",
    "\n",
    "If we try, we will obtain an error:"
   ]
  },
  {
   "cell_type": "markdown",
   "metadata": {},
   "source": [
    "\n",
    "```python\n",
    ">>> vegetables = {'carrots'  : 5,\n",
    "                  'tomatoes' : 8,\n",
    "                  'cabbage'  : 3}\n",
    ">>> ks = vegetables.keys()\n",
    ">>> ks[0]\n",
    "\n",
    "---------------------------------------------------------------------------\n",
    "TypeError                                 Traceback (most recent call last)\n",
    "<ipython-input-90-c888bf602918> in <module>()\n",
    "----> 1 keys[0]\n",
    "\n",
    "TypeError: 'dict_keys' object does not support indexing\n",
    "\n",
    "```"
   ]
  },
  {
   "cell_type": "markdown",
   "metadata": {},
   "source": [
    "<div class=\"alert alert-warning\">\n",
    "\n",
    "**WARNING:  WE CANNOT DIRECTLY MODIFY** `dict_keys`\n",
    "\n",
    "There aren't operations nor methods which allow us to change the elements of `dict_keys`, you can only act on the original dictionary.\n",
    "\n",
    "</div>"
   ]
  },
  {
   "cell_type": "markdown",
   "metadata": {},
   "source": [
    "**QUESTION**: Look at the following code fragments, and for each try guessing if it can work (or if it gives an error):\n",
    "\n",
    "1.  ```python\n",
    "    diz = {'a':4,\n",
    "           'b':5}\n",
    "\n",
    "    ks = diz.keys()\n",
    "    ks.append('c')\n",
    "    ```\n",
    "\n",
    "1.  ```python\n",
    "    diz = {'a':4,\n",
    "           'b':5}\n",
    "\n",
    "    ks = diz.keys()\n",
    "    ks.add('c')\n",
    "    ```\n",
    "\n",
    "1.  ```python\n",
    "    diz = {'a':4,\n",
    "           'b':5}\n",
    "\n",
    "    ks = diz.keys()\n",
    "    ks['c'] = 3\n",
    "    ```\n"
   ]
  },
  {
   "cell_type": "raw",
   "id": "2ecff5ad",
   "metadata": {
    "format": "text/html"
   },
   "source": [
    "<a  class=\"jupman-sol jupman-sol-toggler\" \n",
    " onclick=\"jupman.toggleSolution(this);\" \n",
    " data-jupman-show=\"Show answer\" data-jupman-hide=\"Hide\">Show answer</a><div class=\"jupman-sol jupman-sol-question\" style=\"display:none\">  "
   ]
  },
  {
   "cell_type": "markdown",
   "metadata": {},
   "source": [
    "**ANSWER**: None of the examples above can work, because we can't directly modify objects of type `dict_keys`. Operators like square brackets or methods like `.append`, `.add`, etc are not supported."
   ]
  },
  {
   "cell_type": "raw",
   "id": "21af7d4e",
   "metadata": {
    "format": "text/html"
   },
   "source": [
    "</div>"
   ]
  },
  {
   "cell_type": "markdown",
   "metadata": {},
   "source": [
    "**QUESTION**: Look at the following code fragments, and for each try guessing which result it produces (or if it gives an error):\n",
    "    \n",
    "1.  ```python\n",
    "    diz = {'a':1,'b':2}\n",
    "    s = set(diz.keys())    \n",
    "    s.add(('c',3))\n",
    "    print(diz)\n",
    "    print(s)\n",
    "    ```\n",
    "1.  ```python\n",
    "    diz = {'a':3,'b':4}\n",
    "    k = diz.keys()\n",
    "    diz['c'] = 5\n",
    "    print(len(k))\n",
    "    ```\n",
    "1.  ```python\n",
    "    diz = {'a':'x',\n",
    "           'b':'y'}\n",
    "    print('a' in diz.keys())\n",
    "    ```\n",
    "1.  ```python\n",
    "    diz1 = {'a':1,'b':2}\n",
    "    chiavi = diz1.keys()\n",
    "    diz2 = dict(diz1)\n",
    "    diz2['c'] = 3\n",
    "    print('diz1=',diz1)\n",
    "    print('diz2=',diz2)\n",
    "    print('chiavi=',chiavi)\n",
    "    ```\n",
    "1.  ```python\n",
    "    diz1 = {'a':'b','c':'d'}\n",
    "    diz2 = {'a':'b','b':'c'}\n",
    "    print( set(diz1.keys()) - set(diz2.keys())  )\n",
    "    ```\n",
    "1.  ```python\n",
    "    diz1 = {'a':'b','c':'d'}\n",
    "    diz2 = {'e':'a','f':'c'}\n",
    "    ks = diz1.keys()\n",
    "    del diz1[diz2['e']]\n",
    "    del diz1[diz2['f']]\n",
    "    print(len(ks))\n",
    "    ```"
   ]
  },
  {
   "cell_type": "markdown",
   "metadata": {},
   "source": [
    "### Exercise - messy keys\n",
    "\n",
    "✪ PRINT a LIST with all the keys in the dictionary\n",
    "\n",
    "\n",
    "* **NOTE 1**: it is NOT necessary for the list to be sorted\n",
    "* **NOTE 2**: to convert any sequence to a list, use the predefined function  `list`"
   ]
  },
  {
   "cell_type": "raw",
   "id": "d003a4ab",
   "metadata": {
    "format": "text/html"
   },
   "source": [
    "<a  class=\"jupman-sol jupman-sol-toggler\" \n",
    " onclick=\"jupman.toggleSolution(this);\" \n",
    " data-jupman-show=\"Show solution\" data-jupman-hide=\"Hide\">Show solution</a><div class=\"jupman-sol jupman-sol-code\" style=\"display:none\">  "
   ]
  },
  {
   "cell_type": "code",
   "execution_count": 13,
   "metadata": {},
   "outputs": [
    {
     "data": {
      "text/plain": [
       "['c', 'b', 'a']"
      ]
     },
     "execution_count": 13,
     "metadata": {},
     "output_type": "execute_result"
    }
   ],
   "source": [
    "\n",
    "d = {'c':6, 'b':2,'a':5}\n",
    "\n",
    "# write here\n",
    "\n",
    "list(d.keys())"
   ]
  },
  {
   "cell_type": "raw",
   "id": "1dbc3358",
   "metadata": {
    "format": "text/html"
   },
   "source": [
    "</div>"
   ]
  },
  {
   "cell_type": "code",
   "execution_count": 13,
   "metadata": {},
   "outputs": [],
   "source": [
    "\n",
    "d = {'c':6, 'b':2,'a':5}\n",
    "\n",
    "# write here\n",
    "\n"
   ]
  },
  {
   "cell_type": "markdown",
   "metadata": {},
   "source": [
    "### Exercise - sorted keys\n",
    "\n",
    "✪ PRINT a LIST with all the dictionary keys\n",
    "\n",
    "* **NOTE 1**: Now it IS necessary for the list to be sorted\n",
    "* **NOTE 2**: to convert any sequence to a list, use the predefined function `list`"
   ]
  },
  {
   "cell_type": "raw",
   "id": "25620304",
   "metadata": {
    "format": "text/html"
   },
   "source": [
    "<a  class=\"jupman-sol jupman-sol-toggler\" \n",
    " onclick=\"jupman.toggleSolution(this);\" \n",
    " data-jupman-show=\"Show solution\" data-jupman-hide=\"Hide\">Show solution</a><div class=\"jupman-sol jupman-sol-code\" style=\"display:none\">  "
   ]
  },
  {
   "cell_type": "code",
   "execution_count": 14,
   "metadata": {},
   "outputs": [
    {
     "name": "stdout",
     "output_type": "stream",
     "text": [
      "['a', 'b', 'c']\n"
     ]
    }
   ],
   "source": [
    "\n",
    "d = {'c':6, 'b':2,'a':5}\n",
    "\n",
    "# write here\n",
    "\n",
    "my_list = list(d.keys())\n",
    "my_list.sort()\n",
    "print(my_list)"
   ]
  },
  {
   "cell_type": "raw",
   "id": "775cdaa7",
   "metadata": {
    "format": "text/html"
   },
   "source": [
    "</div>"
   ]
  },
  {
   "cell_type": "code",
   "execution_count": 14,
   "metadata": {},
   "outputs": [],
   "source": [
    "\n",
    "d = {'c':6, 'b':2,'a':5}\n",
    "\n",
    "# write here\n",
    "\n"
   ]
  },
  {
   "cell_type": "markdown",
   "metadata": {},
   "source": [
    "### Exercise - keyring\n",
    "\n",
    "Given the dictionaries `d1` and `d2`, write some code which puts into a **list** `ks` all the keys in the two dictionaries, **without duplicates** and **alphabetically sorted**, and finally prints the list.\n",
    "\n",
    "* your code must work with any  `d1` and `d2`\n",
    "\n",
    "Example - given:\n",
    "\n",
    "```python\n",
    "d1 = {\n",
    "    'a':5,\n",
    "    'b':9,\n",
    "    'e':2,   \n",
    "}\n",
    "d2 = {'a':9,\n",
    "      'c':2,\n",
    "      'e':2,\n",
    "      'f':6}\n",
    "```      \n",
    "\n",
    "after your code, it must result:\n",
    "\n",
    "```python\n",
    ">>> print(keys)\n",
    "['a', 'b', 'c', 'e', 'f']\n",
    "```"
   ]
  },
  {
   "cell_type": "raw",
   "id": "99574720",
   "metadata": {
    "format": "text/html"
   },
   "source": [
    "<a  class=\"jupman-sol jupman-sol-toggler\" \n",
    " onclick=\"jupman.toggleSolution(this);\" \n",
    " data-jupman-show=\"Show solution\" data-jupman-hide=\"Hide\">Show solution</a><div class=\"jupman-sol jupman-sol-code\" style=\"display:none\">  "
   ]
  },
  {
   "cell_type": "code",
   "execution_count": 15,
   "metadata": {},
   "outputs": [
    {
     "name": "stdout",
     "output_type": "stream",
     "text": [
      "['a', 'b', 'c', 'e', 'f']\n"
     ]
    }
   ],
   "source": [
    "\n",
    "d1 = {\n",
    "    'a':5,\n",
    "    'b':9,\n",
    "    'e':2,   \n",
    "}\n",
    "d2 = {'a':9,\n",
    "      'c':2,\n",
    "      'e':2,\n",
    "      'f':6}\n",
    "\n",
    "# write here\n",
    "ks = list(set(d1.keys()) | set(d2.keys()))\n",
    "ks.sort()\n",
    "print(ks)"
   ]
  },
  {
   "cell_type": "raw",
   "id": "61542cd7",
   "metadata": {
    "format": "text/html"
   },
   "source": [
    "</div>"
   ]
  },
  {
   "cell_type": "code",
   "execution_count": 15,
   "metadata": {},
   "outputs": [],
   "source": [
    "\n",
    "d1 = {\n",
    "    'a':5,\n",
    "    'b':9,\n",
    "    'e':2,   \n",
    "}\n",
    "d2 = {'a':9,\n",
    "      'c':2,\n",
    "      'e':2,\n",
    "      'f':6}\n",
    "\n",
    "# write here\n",
    "\n"
   ]
  },
  {
   "cell_type": "markdown",
   "metadata": {},
   "source": [
    "## `values` method\n",
    "\n",
    "Given a dictionary, we can obtain all the values by calling the method `.values()`\n",
    "\n",
    "Imagine we have a dictionary `vehicles` which assigns an owner to each car plate:"
   ]
  },
  {
   "cell_type": "code",
   "execution_count": 16,
   "metadata": {},
   "outputs": [],
   "source": [
    "vehicles = {\n",
    "    'AA111AA' : 'Mario',\n",
    "    'BB222BB' : 'Lidia',\n",
    "    'CC333CC' : 'Mario',\n",
    "    'DD444DD' : 'Gino',\n",
    "    'EE555EE' : 'Gino'\n",
    "}\n",
    "\n",
    "owners = vehicles.values()"
   ]
  },
  {
   "cell_type": "markdown",
   "metadata": {},
   "source": [
    "<div class=\"alert alert-warning\">\n",
    "\n",
    "**WARNING: THE RETURNED SEQUENCE IS OF TYPE** `dict_values`\n",
    "\n",
    "`dict_values` may seem a list but it's not!\n",
    "\n",
    "</div>"
   ]
  },
  {
   "cell_type": "markdown",
   "metadata": {},
   "source": [
    "We've seen `dict_keys` is a view on the original dictionary, and so is `dict_values`, thus by adding an association to `vehicles` ..."
   ]
  },
  {
   "cell_type": "code",
   "execution_count": 17,
   "metadata": {},
   "outputs": [],
   "source": [
    "vehicles['FF666FF'] = 'Paola'"
   ]
  },
  {
   "cell_type": "markdown",
   "metadata": {},
   "source": [
    "... the view `owners` will automatically result changed:"
   ]
  },
  {
   "cell_type": "code",
   "execution_count": 18,
   "metadata": {},
   "outputs": [
    {
     "data": {
      "text/plain": [
       "dict_values(['Mario', 'Lidia', 'Mario', 'Gino', 'Gino', 'Paola'])"
      ]
     },
     "execution_count": 18,
     "metadata": {},
     "output_type": "execute_result"
    }
   ],
   "source": [
    "owners"
   ]
  },
  {
   "cell_type": "markdown",
   "metadata": {},
   "source": [
    "We also note  that being _values_ of a dictionary, duplicates are allowed."
   ]
  },
  {
   "cell_type": "markdown",
   "metadata": {},
   "source": [
    "\n",
    "<div class=\"alert alert-warning\">\n",
    "\n",
    "**WARNING: WE CANNOT USE INDEXES WITH** `dict_values`\n",
    "\n",
    "</div>\n",
    "\n",
    "If we try, we will get an error:"
   ]
  },
  {
   "cell_type": "markdown",
   "metadata": {},
   "source": [
    "\n",
    "```python\n",
    ">>> owners[0]\n",
    "\n",
    "---------------------------------------------------------------------------\n",
    "TypeError                                 Traceback (most recent call last)\n",
    "<ipython-input-90-c888bf602918> in <module>()\n",
    "----> 1 owners[0]\n",
    "\n",
    "TypeError: 'dict_values' object does not support indexing\n",
    "\n",
    "```"
   ]
  },
  {
   "cell_type": "markdown",
   "metadata": {},
   "source": [
    "<div class=\"alert alert-warning\">\n",
    "\n",
    "**WARNING: WE CANNOT DIRECTLY MODIFY** `dict_values`\n",
    "    \n",
    "There aren't operations nor methods that allow us to change the elements of `dict_values`, we can only act on the original dictionary.    \n",
    "    \n",
    "</div>"
   ]
  },
  {
   "cell_type": "markdown",
   "metadata": {},
   "source": [
    "**QUESTION**: Look at the following code fragments, and for each try guessing the result it produces (or if it gives an error):\n",
    "\n",
    "1.  ```python\n",
    "    diz = {'a':4,\n",
    "           'b':5}\n",
    "\n",
    "    vals = diz.values()\n",
    "    vals.append(4)\n",
    "    ```\n",
    "1.  ```python\n",
    "    d = {0:'a',\n",
    "         1:'b',\n",
    "         2:'b'}\n",
    "    vals = d.values()\n",
    "    d[2]='c'\n",
    "    print(vals)\n",
    "    ```\n",
    "1.  ```python\n",
    "    diz = {'a':4,\n",
    "           'b':5}\n",
    "\n",
    "    vals = diz.values()\n",
    "    vals.add(5)\n",
    "    ```\n",
    "1.  ```python\n",
    "    diz = {0:1,\n",
    "           1:2,\n",
    "           2:3}\n",
    "\n",
    "    diz[list(diz.values())[0]-1]\n",
    "    ```\n",
    "1.  ```python\n",
    "    diz = {'a':4,\n",
    "           'b':5}\n",
    "\n",
    "    vals = diz.values()\n",
    "    vals['c'] = 6\n",
    "    ```\n",
    "1.  ```python\n",
    "    diz = {'a':4,\n",
    "           'b':5}\n",
    "\n",
    "    vals = diz.values()\n",
    "    vals[6] = 'c'\n",
    "    ```"
   ]
  },
  {
   "cell_type": "markdown",
   "metadata": {},
   "source": [
    "### Exercise - one by one\n",
    "\n",
    "Given a dictionary `my_dict`, write some code which prints `True` if each key is associated to a value _different_  from the values of all other keys. Otherwise prints `False`.\n",
    "\n",
    "\n",
    "Example 1 - given:\n",
    "\n",
    "```python\n",
    "my_dict = {'a' : 3,\n",
    "           'c' : 6,\n",
    "           'g' : 8}\n",
    "```\n",
    "\n",
    "After your code, it must print `True` (because `3`,`6` and `8` are all different)\n",
    "\n",
    "```python\n",
    "True\n",
    "```\n",
    "\n",
    "Example 2 - given:\n",
    "\n",
    "```python\n",
    "my_dict = {'x' : 5,\n",
    "           'y' : 7,\n",
    "           'z' : 5}\n",
    "```\n",
    "\n",
    "it must print:\n",
    "\n",
    "```python\n",
    "False\n",
    "```"
   ]
  },
  {
   "cell_type": "raw",
   "id": "d1cfe83c",
   "metadata": {
    "format": "text/html"
   },
   "source": [
    "<a  class=\"jupman-sol jupman-sol-toggler\" \n",
    " onclick=\"jupman.toggleSolution(this);\" \n",
    " data-jupman-show=\"Show solution\" data-jupman-hide=\"Hide\">Show solution</a><div class=\"jupman-sol jupman-sol-code\" style=\"display:none\">  "
   ]
  },
  {
   "cell_type": "code",
   "execution_count": 19,
   "metadata": {},
   "outputs": [
    {
     "name": "stdout",
     "output_type": "stream",
     "text": [
      "True\n"
     ]
    }
   ],
   "source": [
    "\n",
    "my_dict = {'a' : 3,\n",
    "           'c' : 6,\n",
    "           'g' : 8}\n",
    "\n",
    "\"\"\"\n",
    "my_dict= {'x' : 5,\n",
    "          'y' : 7,\n",
    "          'z' : 5}\n",
    "\"\"\"\n",
    "\n",
    "# write here\n",
    "\n",
    "print(len(my_dict.keys()) == len(set(my_dict.values())))"
   ]
  },
  {
   "cell_type": "raw",
   "id": "3a050ebd",
   "metadata": {
    "format": "text/html"
   },
   "source": [
    "</div>"
   ]
  },
  {
   "cell_type": "code",
   "execution_count": 19,
   "metadata": {},
   "outputs": [],
   "source": [
    "\n",
    "my_dict = {'a' : 3,\n",
    "           'c' : 6,\n",
    "           'g' : 8}\n",
    "\n",
    "\"\"\"\n",
    "my_dict= {'x' : 5,\n",
    "          'y' : 7,\n",
    "          'z' : 5}\n",
    "\"\"\"\n",
    "\n",
    "# write here\n",
    "\n"
   ]
  },
  {
   "cell_type": "markdown",
   "metadata": {},
   "source": [
    "### Exercise - bag\n",
    "\n",
    "Given a dictionary `my_dict` of character  associations, write some code which puts into the variable `bag` the sorted list of all the keys and values.\n",
    "\n",
    "\n",
    "Example - given:\n",
    "\n",
    "```python\n",
    "my_dict = {\n",
    "    'a':'b',\n",
    "    'b':'f',\n",
    "    'c':'b',\n",
    "    'd':'e'\n",
    "}\n",
    "```\n",
    "\n",
    "After your code, it must print:\n",
    "\n",
    "```python\n",
    ">>> print(bag)\n",
    "['a', 'b', 'c', 'd', 'e', 'f']\n",
    "```"
   ]
  },
  {
   "cell_type": "raw",
   "id": "3419a8d1",
   "metadata": {
    "format": "text/html"
   },
   "source": [
    "<a  class=\"jupman-sol jupman-sol-toggler\" \n",
    " onclick=\"jupman.toggleSolution(this);\" \n",
    " data-jupman-show=\"Show solution\" data-jupman-hide=\"Hide\">Show solution</a><div class=\"jupman-sol jupman-sol-code\" style=\"display:none\">  "
   ]
  },
  {
   "cell_type": "code",
   "execution_count": 20,
   "metadata": {},
   "outputs": [
    {
     "name": "stdout",
     "output_type": "stream",
     "text": [
      "['a', 'b', 'c', 'd', 'e', 'f']\n"
     ]
    }
   ],
   "source": [
    "\n",
    "my_dict = {\n",
    "    'a':'b',\n",
    "    'b':'f',\n",
    "    'c':'b',\n",
    "    'd':'e'\n",
    "}\n",
    "\n",
    "# write here\n",
    "\n",
    "bag = list(set(my_dict.keys()) | set(my_dict.values()))\n",
    "bag.sort()\n",
    "\n",
    "print(bag)"
   ]
  },
  {
   "cell_type": "raw",
   "id": "67ca8ab3",
   "metadata": {
    "format": "text/html"
   },
   "source": [
    "</div>"
   ]
  },
  {
   "cell_type": "code",
   "execution_count": 20,
   "metadata": {},
   "outputs": [],
   "source": [
    "\n",
    "my_dict = {\n",
    "    'a':'b',\n",
    "    'b':'f',\n",
    "    'c':'b',\n",
    "    'd':'e'\n",
    "}\n",
    "\n",
    "# write here\n",
    "\n"
   ]
  },
  {
   "cell_type": "markdown",
   "metadata": {},
   "source": [
    "### Exercise - common values\n",
    "\n",
    "Given two dictionaries `d1` and `d2`, write some code which PRINTS `True` if they have _at least_ a value in common (without considering the keys)\n",
    "\n",
    "Example 1 - given:\n",
    "\n",
    "```python\n",
    "d1 = {\n",
    "    'a':4,\n",
    "    'k':2,\n",
    "    'm':5\n",
    "}\n",
    "\n",
    "d2 = {\n",
    "    'b':2,\n",
    "    'e':4,\n",
    "    'g':9,\n",
    "    'h':1\n",
    "}\n",
    "```\n",
    "\n",
    "after your code, it must print `True` (because they have the values `2` and `4` in common):\n",
    "\n",
    "\n",
    "```\n",
    "Common values? True\n",
    "```\n",
    "\n",
    "Example 2 - given:\n",
    "\n",
    "```python\n",
    "d1 = {\n",
    "    'd':1,\n",
    "    'e':2,\n",
    "    'f':6\n",
    "}\n",
    "\n",
    "d2 = {\n",
    "    'a':3,\n",
    "    'b':5,\n",
    "    'c':9,\n",
    "    'd':7\n",
    "}\n",
    "```\n",
    "\n",
    "after your code, it must print:\n",
    "```\n",
    "Common values? False\n",
    "```"
   ]
  },
  {
   "cell_type": "raw",
   "id": "1d7f9eb4",
   "metadata": {
    "format": "text/html"
   },
   "source": [
    "<a  class=\"jupman-sol jupman-sol-toggler\" \n",
    " onclick=\"jupman.toggleSolution(this);\" \n",
    " data-jupman-show=\"Show solution\" data-jupman-hide=\"Hide\">Show solution</a><div class=\"jupman-sol jupman-sol-code\" style=\"display:none\">  "
   ]
  },
  {
   "cell_type": "code",
   "execution_count": 21,
   "metadata": {},
   "outputs": [
    {
     "name": "stdout",
     "output_type": "stream",
     "text": [
      "Common values? True\n"
     ]
    }
   ],
   "source": [
    "\n",
    "d1 = {\n",
    "    'a':4,\n",
    "    'k':2,\n",
    "    'm':5\n",
    "}\n",
    "\n",
    "d2 = {\n",
    "    'b':2,\n",
    "    'e':4,\n",
    "    'g':9,\n",
    "    'h':1\n",
    "}\n",
    "\n",
    "\"\"\"\n",
    "d1 = {\n",
    "    'd':1,\n",
    "    'e':2,\n",
    "    'f':6\n",
    "}\n",
    "\n",
    "d2 = {\n",
    "    'a':3,\n",
    "    'b':5,\n",
    "    'c':9,\n",
    "    'd':7\n",
    "}\n",
    "\"\"\"\n",
    "\n",
    "# write here\n",
    "\n",
    "print('Common values?',len(set(d1.values()) & set(d2.values())) > 0)"
   ]
  },
  {
   "cell_type": "raw",
   "id": "09dc0c03",
   "metadata": {
    "format": "text/html"
   },
   "source": [
    "</div>"
   ]
  },
  {
   "cell_type": "code",
   "execution_count": 21,
   "metadata": {},
   "outputs": [],
   "source": [
    "\n",
    "d1 = {\n",
    "    'a':4,\n",
    "    'k':2,\n",
    "    'm':5\n",
    "}\n",
    "\n",
    "d2 = {\n",
    "    'b':2,\n",
    "    'e':4,\n",
    "    'g':9,\n",
    "    'h':1\n",
    "}\n",
    "\n",
    "\"\"\"\n",
    "d1 = {\n",
    "    'd':1,\n",
    "    'e':2,\n",
    "    'f':6\n",
    "}\n",
    "\n",
    "d2 = {\n",
    "    'a':3,\n",
    "    'b':5,\n",
    "    'c':9,\n",
    "    'd':7\n",
    "}\n",
    "\"\"\"\n",
    "\n",
    "# write here\n",
    "\n"
   ]
  },
  {
   "cell_type": "markdown",
   "metadata": {},
   "source": [
    "### Exercise - small big\n",
    "\n",
    "Given a dictionary `d` which has integers as keys and values, print `True` if the smaller key is equal to the greatest value.\n",
    "\n",
    "\n",
    "Example 1 - given:\n",
    "\n",
    "```python\n",
    "d = {\n",
    "    14:1,\n",
    "    11:7,\n",
    "     7:3,\n",
    "    70:5\n",
    "}\n",
    "```\n",
    "\n",
    "after your code, it must print `True` (because the smallest key is `7` which is equal to the greates value `7`):\n",
    "\n",
    "```python\n",
    "True\n",
    "```\n",
    "Example 2 - given:\n",
    "\n",
    "```python\n",
    "d = {\n",
    "    12:1,\n",
    "    11:9,\n",
    "     7:3,\n",
    "     2:5,\n",
    "     9:1\n",
    "}\n",
    "```\n",
    "\n",
    "after your code, it must print  `False` (because the smallest key `2` is different from the greatest value`9`):\n",
    "\n",
    "```python\n",
    "False\n",
    "```"
   ]
  },
  {
   "cell_type": "raw",
   "id": "2e0fed2a",
   "metadata": {
    "format": "text/html"
   },
   "source": [
    "<a  class=\"jupman-sol jupman-sol-toggler\" \n",
    " onclick=\"jupman.toggleSolution(this);\" \n",
    " data-jupman-show=\"Show solution\" data-jupman-hide=\"Hide\">Show solution</a><div class=\"jupman-sol jupman-sol-code\" style=\"display:none\">  "
   ]
  },
  {
   "cell_type": "code",
   "execution_count": 22,
   "metadata": {},
   "outputs": [
    {
     "data": {
      "text/plain": [
       "True"
      ]
     },
     "execution_count": 22,
     "metadata": {},
     "output_type": "execute_result"
    }
   ],
   "source": [
    "\n",
    "d = {\n",
    "    14:1,\n",
    "    11:7,\n",
    "     7:3,\n",
    "    70:5\n",
    "}\n",
    "\n",
    "\"\"\"\n",
    "d = {\n",
    "    12:1,\n",
    "    11:9,\n",
    "     7:3,\n",
    "     2:5,\n",
    "     9:1\n",
    "}\n",
    "\"\"\"\n",
    "\n",
    "# write here\n",
    "\n",
    "min(d.keys()) == max(d.values())"
   ]
  },
  {
   "cell_type": "raw",
   "id": "9ca7b549",
   "metadata": {
    "format": "text/html"
   },
   "source": [
    "</div>"
   ]
  },
  {
   "cell_type": "code",
   "execution_count": 22,
   "metadata": {},
   "outputs": [],
   "source": [
    "\n",
    "d = {\n",
    "    14:1,\n",
    "    11:7,\n",
    "     7:3,\n",
    "    70:5\n",
    "}\n",
    "\n",
    "\"\"\"\n",
    "d = {\n",
    "    12:1,\n",
    "    11:9,\n",
    "     7:3,\n",
    "     2:5,\n",
    "     9:1\n",
    "}\n",
    "\"\"\"\n",
    "\n",
    "# write here\n",
    "\n"
   ]
  },
  {
   "cell_type": "markdown",
   "metadata": {},
   "source": [
    "## `items` method\n",
    "\n",
    "We can extract all the key/value associations as a list of couples of type tuple with the method `.items()`. Let's see an example which associates attractions to the city they are in:"
   ]
  },
  {
   "cell_type": "code",
   "execution_count": 23,
   "metadata": {},
   "outputs": [],
   "source": [
    "holiday = {'Piazza S.Marco'  :'Venezia',\n",
    "           'Fontana di Trevi':'Roma',\n",
    "           'Uffizi'          :'Firenze',           \n",
    "           'Colosseo'        :'Roma',\n",
    "}\n",
    "    "
   ]
  },
  {
   "cell_type": "code",
   "execution_count": 24,
   "metadata": {},
   "outputs": [
    {
     "data": {
      "text/plain": [
       "dict_items([('Piazza S.Marco', 'Venezia'), ('Fontana di Trevi', 'Roma'), ('Uffizi', 'Firenze'), ('Colosseo', 'Roma')])"
      ]
     },
     "execution_count": 24,
     "metadata": {},
     "output_type": "execute_result"
    }
   ],
   "source": [
    "holiday.items()"
   ]
  },
  {
   "cell_type": "markdown",
   "metadata": {},
   "source": [
    "In this case we see that an object of type `dict_items` is returned. As in previous cases, it is **a view** which we **can't** directly modify. If the original dictionary gets changed, the mutation will be reflected in the view:"
   ]
  },
  {
   "cell_type": "code",
   "execution_count": 25,
   "metadata": {},
   "outputs": [],
   "source": [
    "attractions = holiday.items()"
   ]
  },
  {
   "cell_type": "code",
   "execution_count": 26,
   "metadata": {},
   "outputs": [],
   "source": [
    "holiday['Palazzo Ducale'] = 'Venezia'"
   ]
  },
  {
   "cell_type": "code",
   "execution_count": 27,
   "metadata": {},
   "outputs": [
    {
     "data": {
      "text/plain": [
       "dict_items([('Piazza S.Marco', 'Venezia'), ('Fontana di Trevi', 'Roma'), ('Uffizi', 'Firenze'), ('Colosseo', 'Roma'), ('Palazzo Ducale', 'Venezia')])"
      ]
     },
     "execution_count": 27,
     "metadata": {},
     "output_type": "execute_result"
    }
   ],
   "source": [
    "attractions"
   ]
  },
  {
   "cell_type": "markdown",
   "metadata": {},
   "source": [
    "**QUESTION**: Look at the following code fragments, and for each try guessing which result it produces (or if it gives an error):\n",
    "\n",
    "1.  ```python\n",
    "    {'a':7, 'b':9}.items()[0] = ('c',8)\n",
    "    ```\n",
    "1.  ```python\n",
    "    dict({'a':7,'b':5}.items())['a']\n",
    "    ```\n",
    "1.  ```python\n",
    "    len(set({'a':'b', 'a':'B'}.items()))\n",
    "    ```\n",
    "1.  ```python\n",
    "    {'a':2}.items().find(('a',2))\n",
    "    ```\n",
    "1.  ```python\n",
    "    {'a':2}.items().index(('a',2))\n",
    "    ```    \n",
    "1.  ```python\n",
    "    list({'a':2}.items()).index(('a',2))\n",
    "    ```\n",
    "1.  ```python\n",
    "    diz1 = {'a':7,\n",
    "            'b':5}\n",
    "    diz2 = dict(diz1.items())\n",
    "    diz1['a'] = 6\n",
    "    print(diz1 == diz2)\n",
    "    ```\n",
    "1.  ```python\n",
    "    ('a','b') in {'a':('a','b'), 'b':('a','b')}.items()\n",
    "    ```\n",
    "    \n",
    "1.  ```python    \n",
    "    ('a','b') in list({'a':('a','b'), 'b':('a','b')}.items())[0]\n",
    "    ```"
   ]
  },
  {
   "cell_type": "markdown",
   "metadata": {},
   "source": [
    "### Exercise - union without update\n",
    "\n",
    "Given the dictionaries `d1` and `d2`, write some code which creates a NEW dictionary `d3` containing all the key/value couples  from `d1` and `d2`.\n",
    "\n",
    "* we suppose all the key/value couples are distinct\n",
    "* **DO NOT** use cycles\n",
    "* **DO NOT** use `.update()`\n",
    "* your code must work for _any_ `d1` and `d2`\n",
    "\n",
    "Example - given:\n",
    "\n",
    "```python\n",
    "d1 = {'a':4,\n",
    "      'b':7}\n",
    "d2 = {'c':5,\n",
    "      'd':8,\n",
    "      'e':2}\n",
    "```\n",
    "\n",
    "after your code, it must result (order is not important):\n",
    "\n",
    "```python\n",
    ">>> print(d3)\n",
    "{'a': 4, 'e': 2, 'd': 8, 'c': 5, 'b': 7}\n",
    "```"
   ]
  },
  {
   "cell_type": "raw",
   "id": "4d816c53",
   "metadata": {
    "format": "text/html"
   },
   "source": [
    "<a  class=\"jupman-sol jupman-sol-toggler\" \n",
    " onclick=\"jupman.toggleSolution(this);\" \n",
    " data-jupman-show=\"Show solution\" data-jupman-hide=\"Hide\">Show solution</a><div class=\"jupman-sol jupman-sol-code\" style=\"display:none\">  "
   ]
  },
  {
   "cell_type": "code",
   "execution_count": 28,
   "metadata": {},
   "outputs": [],
   "source": [
    "\n",
    "d1 = {'a':4,\n",
    "      'b':7}\n",
    "d2 = {'c':5,\n",
    "      'd':8,\n",
    "      'e':2}\n",
    "\n",
    "# write here\n",
    "diz3 = dict(list(d1.items()) + list(d2.items()))\n",
    "#print(d3)"
   ]
  },
  {
   "cell_type": "raw",
   "id": "8ca16009",
   "metadata": {
    "format": "text/html"
   },
   "source": [
    "</div>"
   ]
  },
  {
   "cell_type": "code",
   "execution_count": 28,
   "metadata": {},
   "outputs": [],
   "source": [
    "\n",
    "d1 = {'a':4,\n",
    "      'b':7}\n",
    "d2 = {'c':5,\n",
    "      'd':8,\n",
    "      'e':2}\n",
    "\n",
    "# write here\n",
    "\n"
   ]
  },
  {
   "cell_type": "markdown",
   "metadata": {},
   "source": [
    "## `update` method\n",
    "\n",
    "Having a dictionary to start with, it is possibly to MODIFY it by joining another with the method `.update()`:"
   ]
  },
  {
   "cell_type": "code",
   "execution_count": 29,
   "metadata": {},
   "outputs": [],
   "source": [
    "d1 = {'goats'    :6,\n",
    "      'cabbage'  :9,\n",
    "      'shepherds':1}\n",
    "      \n",
    "\n",
    "d2 = {'goats'  :12,\n",
    "      'cabbage':15,\n",
    "      'benches':3,\n",
    "      'hay'    :7}"
   ]
  },
  {
   "cell_type": "code",
   "execution_count": 30,
   "metadata": {},
   "outputs": [],
   "source": [
    "d1.update(d2)"
   ]
  },
  {
   "cell_type": "code",
   "execution_count": 31,
   "metadata": {},
   "outputs": [
    {
     "data": {
      "text/plain": [
       "{'goats': 12, 'cabbage': 15, 'shepherds': 1, 'benches': 3, 'hay': 7}"
      ]
     },
     "execution_count": 31,
     "metadata": {},
     "output_type": "execute_result"
    }
   ],
   "source": [
    "d1"
   ]
  },
  {
   "cell_type": "markdown",
   "metadata": {},
   "source": [
    "Note how the common keys among the two dictionaries like `'goats'` and `'cabbage'` have values from the second.\n",
    "\n",
    "If we will, it's also possible to pass a sequence of couples like this:"
   ]
  },
  {
   "cell_type": "code",
   "execution_count": 32,
   "metadata": {},
   "outputs": [],
   "source": [
    "d1.update([('hay',3),('benches',18), ('barns',4)])"
   ]
  },
  {
   "cell_type": "code",
   "execution_count": 33,
   "metadata": {},
   "outputs": [
    {
     "data": {
      "text/plain": [
       "{'goats': 12,\n",
       " 'cabbage': 15,\n",
       " 'shepherds': 1,\n",
       " 'benches': 18,\n",
       " 'hay': 3,\n",
       " 'barns': 4}"
      ]
     },
     "execution_count": 33,
     "metadata": {},
     "output_type": "execute_result"
    }
   ],
   "source": [
    "d1"
   ]
  },
  {
   "cell_type": "markdown",
   "metadata": {},
   "source": [
    "### Exercise - axby\n",
    "\n",
    "Given a dictionary `dcc` which associates characters to characters and a string `s` formatted with couples of characters like `ax` separated by a semi-colon `;`, substitute all the values in `dcc` with the corresponding values denoted in the string.\n",
    "\n",
    "* your code must work for _any_ dictionary `my_dict` and list`s`\n",
    "\n",
    "Example - given:\n",
    "\n",
    "```python\n",
    "dcc = {\n",
    "    'a':'x',\n",
    "    'b':'y',\n",
    "    'c':'z',\n",
    "    'd':'w'\n",
    "}\n",
    "s = 'bx;cw;ex'\n",
    "\n",
    "```\n",
    "\n",
    "after your code, it must result:\n",
    "\n",
    "```python\n",
    ">>> dcc\n",
    "{'a': 'x', 'b': 'x', 'c': 'w', 'd': 'w', 'e': 'x'}\n",
    "```"
   ]
  },
  {
   "cell_type": "raw",
   "id": "c3a7af11",
   "metadata": {
    "format": "text/html"
   },
   "source": [
    "<a  class=\"jupman-sol jupman-sol-toggler\" \n",
    " onclick=\"jupman.toggleSolution(this);\" \n",
    " data-jupman-show=\"Show solution\" data-jupman-hide=\"Hide\">Show solution</a><div class=\"jupman-sol jupman-sol-code\" style=\"display:none\">  "
   ]
  },
  {
   "cell_type": "code",
   "execution_count": 34,
   "metadata": {},
   "outputs": [
    {
     "data": {
      "text/plain": [
       "{'a': 'x', 'b': 'x', 'c': 'w', 'd': 'w', 'e': 'x'}"
      ]
     },
     "execution_count": 34,
     "metadata": {},
     "output_type": "execute_result"
    }
   ],
   "source": [
    "\n",
    "dcc = {\n",
    "    'a':'x',\n",
    "    'b':'y',\n",
    "    'c':'z',\n",
    "    'd':'w'\n",
    "}\n",
    "s = 'bx;cw;ex'\n",
    "\n",
    "# write here\n",
    "\n",
    "la = s.split(';')\n",
    "dcc.update(la)\n",
    "dcc"
   ]
  },
  {
   "cell_type": "raw",
   "id": "9c82d380",
   "metadata": {
    "format": "text/html"
   },
   "source": [
    "</div>"
   ]
  },
  {
   "cell_type": "code",
   "execution_count": 34,
   "metadata": {},
   "outputs": [],
   "source": [
    "\n",
    "dcc = {\n",
    "    'a':'x',\n",
    "    'b':'y',\n",
    "    'c':'z',\n",
    "    'd':'w'\n",
    "}\n",
    "s = 'bx;cw;ex'\n",
    "\n",
    "# write here\n",
    "\n"
   ]
  },
  {
   "cell_type": "markdown",
   "metadata": {},
   "source": [
    "\n",
    "## Continue\n",
    "\n",
    "Go on with [Dictionaries 4](https://en.softpython.org/dictionaries/dictionaries4-sol.html)"
   ]
  }
 ],
 "metadata": {
  "celltoolbar": "Edit Metadata",
  "kernelspec": {
   "display_name": "Python 3 (ipykernel)",
   "language": "python",
   "name": "python3"
  },
  "language_info": {
   "codemirror_mode": {
    "name": "ipython",
    "version": 3
   },
   "file_extension": ".py",
   "mimetype": "text/x-python",
   "name": "python",
   "nbconvert_exporter": "python",
   "pygments_lexer": "ipython3",
   "version": "3.7.17"
  },
  "toc": {
   "base_numbering": 1,
   "nav_menu": {},
   "number_sections": false,
   "sideBar": true,
   "skip_h1_title": false,
   "title_cell": "Table of Contents",
   "title_sidebar": "Contents",
   "toc_cell": false,
   "toc_position": {
    "height": "calc(100% - 180px)",
    "left": "10px",
    "top": "150px",
    "width": "342px"
   },
   "toc_section_display": true,
   "toc_window_display": false
  }
 },
 "nbformat": 4,
 "nbformat_minor": 2
}
