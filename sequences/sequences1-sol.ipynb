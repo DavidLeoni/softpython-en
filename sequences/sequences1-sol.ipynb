{
 "cells": [
  {
   "cell_type": "code",
   "execution_count": 1,
   "metadata": {
    "nbsphinx": "hidden"
   },
   "outputs": [],
   "source": [
    "# Remember to execute this cell with Shift+Enter\n",
    "\n",
    "import jupman"
   ]
  },
  {
   "cell_type": "markdown",
   "metadata": {},
   "source": [
    "# Sequences and comprehensions\n",
    "\n",
    "## [Download exercises zip](../_static/generated/sequences.zip)\n",
    "\n",
    "[Browse online files](https://github.com/DavidLeoni/softpython-en/tree/master/sequences)"
   ]
  },
  {
   "cell_type": "markdown",
   "metadata": {},
   "source": [
    "\n",
    "We can write elegant and compact code with sequences. First we will see how to scan sequences with iterators, and then how to build them with comprehensions of lists."
   ]
  },
  {
   "cell_type": "markdown",
   "metadata": {},
   "source": [
    "## What to do\n",
    "\n",
    "1. Unzip [exercises zip](../_static/generated/sequences.zip) in a folder, you should obtain something like this:\n",
    "\n",
    "```\n",
    "sequences \n",
    "    sequences1.ipynb\n",
    "    sequences1-sol.ipynb\n",
    "    sequences2-chal.ipynb\n",
    "    jupman.py \n",
    "```\n",
    "\n",
    "<div class=\"alert alert-warning\">\n",
    "\n",
    "**WARNING: to correctly visualize the notebook, it MUST be in an unzipped folder !**\n",
    "</div>"
   ]
  },
  {
   "cell_type": "markdown",
   "metadata": {},
   "source": [
    "2. open Jupyter Notebook from that folder. Two things should open, first a console and then a browser. The browser should show a file list: navigate the list and open the notebook `sequences.ipynb`\n",
    "\n",
    "3. Go on reading the exercises file, sometimes you will find paragraphs marked **Exercises** which will ask to write Python commands in the following cells."
   ]
  },
  {
   "cell_type": "markdown",
   "metadata": {},
   "source": [
    "Shortcut keys:\n",
    "\n",
    "- to execute Python code inside a Jupyter cell, press `Control + Enter`\n",
    "\n",
    "- to execute Python code inside a Jupyter cell AND select next cell, press `Shift + Enter`\n",
    "\n",
    "- to execute Python code inside a Jupyter cell AND a create a new cell aftwerwards, press `Alt + Enter`\n",
    "\n",
    "- If the notebooks look stuck, try to select `Kernel -> Restart`"
   ]
  },
  {
   "cell_type": "markdown",
   "metadata": {},
   "source": [
    "## Iterables - lists\n",
    "\n",
    "When dealing with loops with often talked about _iterating_ sequences, but what does it exactly mean for a sequence to be _iterable_ ? Concretely, it means we can call the function`iter` on that sequence.\n",
    "\n",
    "Let's try for example with familiar lists:"
   ]
  },
  {
   "cell_type": "code",
   "execution_count": 2,
   "metadata": {},
   "outputs": [
    {
     "data": {
      "text/plain": [
       "<list_iterator at 0x7f1b440f0510>"
      ]
     },
     "execution_count": 2,
     "metadata": {},
     "output_type": "execute_result"
    }
   ],
   "source": [
    "iter(['a','b','c','d'])"
   ]
  },
  {
   "cell_type": "markdown",
   "metadata": {},
   "source": [
    "We notice Python just created an object of type `list_iterator`. \n",
    "\n",
    "<div class=\"alert alert-info\">\n",
    "\n",
    "**NOTE**: the list was not shown!\n",
    " \n",
    "You can imagine an iterator as a sort of still machine, that each time is activated it produces an element from the sequence, one at a time\n",
    "\n",
    "</div>\n",
    "\n",
    "Typically, an iterator only knows its _position_  inside the sequence, and can provide us with the sequence elements one by one if we keep asking with calls to the function `next`:"
   ]
  },
  {
   "cell_type": "code",
   "execution_count": 3,
   "metadata": {},
   "outputs": [],
   "source": [
    "iterator = iter(['a','b','c','d'])"
   ]
  },
  {
   "cell_type": "code",
   "execution_count": 4,
   "metadata": {},
   "outputs": [
    {
     "data": {
      "text/plain": [
       "'a'"
      ]
     },
     "execution_count": 4,
     "metadata": {},
     "output_type": "execute_result"
    }
   ],
   "source": [
    "next(iterator)"
   ]
  },
  {
   "cell_type": "code",
   "execution_count": 5,
   "metadata": {},
   "outputs": [
    {
     "data": {
      "text/plain": [
       "'b'"
      ]
     },
     "execution_count": 5,
     "metadata": {},
     "output_type": "execute_result"
    }
   ],
   "source": [
    "next(iterator)"
   ]
  },
  {
   "cell_type": "code",
   "execution_count": 6,
   "metadata": {},
   "outputs": [
    {
     "data": {
      "text/plain": [
       "'c'"
      ]
     },
     "execution_count": 6,
     "metadata": {},
     "output_type": "execute_result"
    }
   ],
   "source": [
    "next(iterator)"
   ]
  },
  {
   "cell_type": "code",
   "execution_count": 7,
   "metadata": {},
   "outputs": [
    {
     "data": {
      "text/plain": [
       "'d'"
      ]
     },
     "execution_count": 7,
     "metadata": {},
     "output_type": "execute_result"
    }
   ],
   "source": [
    "next(iterator)"
   ]
  },
  {
   "cell_type": "markdown",
   "metadata": {},
   "source": [
    "\n",
    "Note how the iterator has a _state_ to keep track of where it is in the sequence (in other words, it's _stateful)._ The state is changed at each call of function `next`."
   ]
  },
  {
   "cell_type": "markdown",
   "metadata": {},
   "source": [
    "If we try asking more elements of the available ones, Python raises the exception `StopIteration`:"
   ]
  },
  {
   "cell_type": "markdown",
   "metadata": {},
   "source": [
    "```python\n",
    "next(iterator)\n",
    "\n",
    "---------------------------------------------------------------------------\n",
    "StopIteration                             Traceback (most recent call last)\n",
    "<ipython-input-65-4518bd5da67f> in <module>()\n",
    "----> 1 next(iterator)\n",
    "\n",
    "StopIteration: \n",
    "```"
   ]
  },
  {
   "cell_type": "markdown",
   "metadata": {},
   "source": [
    "<div class=\"alert alert-info\" >\n",
    "\n",
    "[V COMMANDMENT](https://en.softpython.org/commandments.html#V-COMMANDMENT) **You shall never ever redefine** `next` **and** `iter` **system functions.**\n",
    "    \n",
    "DO NOT use them as variables !!\n",
    "</div>\n"
   ]
  },
  {
   "cell_type": "markdown",
   "metadata": {},
   "source": [
    "## iterables - range\n",
    "\n",
    "We iterated a list, which is a completely materialized in memory sequence we scanned with the iterator object. There are also other peculiar sequences which are _not_ materialized in memory, like for example `range`.\n",
    "\n",
    "Previously we used `range` [in for loops](https://en.softpython.org/for/for1-intro-sol.html#Counting-with-range) to obtain a sequence of numbers, but exactly, what is `range` doing? Let's try calling it on its own:"
   ]
  },
  {
   "cell_type": "code",
   "execution_count": 8,
   "metadata": {},
   "outputs": [
    {
     "data": {
      "text/plain": [
       "range(0, 4)"
      ]
     },
     "execution_count": 8,
     "metadata": {},
     "output_type": "execute_result"
    }
   ],
   "source": [
    "range(4)"
   ]
  },
  {
   "cell_type": "markdown",
   "metadata": {},
   "source": [
    "Maybe we expected a sequence of numbers, instead, Python is showing us an object of type `range` (with the lower range limit).\n",
    "\n",
    "\n",
    "<div class=\"alert alert-warning\">\n",
    "\n",
    "**NOTE**: No number sequence is currently present in memory\n",
    "    \n",
    "We only have a 'still' _iterable_ object, which if we want can provide us with numbers \n",
    "</div>\n",
    "\n",
    "How can we ask for numbers?\n",
    "\n",
    "We've seen we can use a `for` loop:"
   ]
  },
  {
   "cell_type": "code",
   "execution_count": 9,
   "metadata": {},
   "outputs": [
    {
     "name": "stdout",
     "output_type": "stream",
     "text": [
      "0\n",
      "1\n",
      "2\n",
      "3\n"
     ]
    }
   ],
   "source": [
    "for x in range(4):\n",
    "    print(x)"
   ]
  },
  {
   "cell_type": "markdown",
   "metadata": {},
   "source": [
    "As an alternative, we can pass `range` to the function `iter` which produces an _iterator._\n",
    "\n",
    "\n",
    "<div class=\"alert alert-warning\">\n",
    "\n",
    "**WARNING:** `range` **is iterable but it is NOT an iterator !!**\n",
    "    \n",
    "To obtain the iterator we must call the `iter` function on the `range` object\n",
    "\n",
    "</div>"
   ]
  },
  {
   "cell_type": "code",
   "execution_count": 10,
   "metadata": {},
   "outputs": [],
   "source": [
    "iterator = iter(range(4))"
   ]
  },
  {
   "cell_type": "markdown",
   "metadata": {},
   "source": [
    "`iter` also produces a 'still' object, which hasn't materialized numbers in memory yet:"
   ]
  },
  {
   "cell_type": "code",
   "execution_count": 11,
   "metadata": {},
   "outputs": [
    {
     "data": {
      "text/plain": [
       "<range_iterator at 0x7f1b479aab70>"
      ]
     },
     "execution_count": 11,
     "metadata": {},
     "output_type": "execute_result"
    }
   ],
   "source": [
    "iterator"
   ]
  },
  {
   "cell_type": "markdown",
   "metadata": {},
   "source": [
    "In order to ask we must use the function `next`:"
   ]
  },
  {
   "cell_type": "code",
   "execution_count": 12,
   "metadata": {},
   "outputs": [
    {
     "data": {
      "text/plain": [
       "0"
      ]
     },
     "execution_count": 12,
     "metadata": {},
     "output_type": "execute_result"
    }
   ],
   "source": [
    "next(iterator)"
   ]
  },
  {
   "cell_type": "code",
   "execution_count": 13,
   "metadata": {},
   "outputs": [
    {
     "data": {
      "text/plain": [
       "1"
      ]
     },
     "execution_count": 13,
     "metadata": {},
     "output_type": "execute_result"
    }
   ],
   "source": [
    "next(iterator)"
   ]
  },
  {
   "cell_type": "code",
   "execution_count": 14,
   "metadata": {},
   "outputs": [
    {
     "data": {
      "text/plain": [
       "2"
      ]
     },
     "execution_count": 14,
     "metadata": {},
     "output_type": "execute_result"
    }
   ],
   "source": [
    "next(iterator)"
   ]
  },
  {
   "cell_type": "code",
   "execution_count": 15,
   "metadata": {},
   "outputs": [
    {
     "data": {
      "text/plain": [
       "3"
      ]
     },
     "execution_count": 15,
     "metadata": {},
     "output_type": "execute_result"
    }
   ],
   "source": [
    "next(iterator)"
   ]
  },
  {
   "cell_type": "markdown",
   "metadata": {},
   "source": [
    "Note the iterator has a _state,_ which is changed at each `next` call to keep track of where it is in the sequence."
   ]
  },
  {
   "cell_type": "markdown",
   "metadata": {},
   "source": [
    "If we try asking for more elements than actually available, Python raises a `StopIteration` exception:"
   ]
  },
  {
   "cell_type": "markdown",
   "metadata": {},
   "source": [
    "```python\n",
    "next(iterator)\n",
    "\n",
    "---------------------------------------------------------------------------\n",
    "StopIteration                             Traceback (most recent call last)\n",
    "<ipython-input-65-4518bd5da67f> in <module>()\n",
    "----> 1 next(iterator)\n",
    "\n",
    "StopIteration: \n",
    "```"
   ]
  },
  {
   "cell_type": "markdown",
   "metadata": {},
   "source": [
    "## Materializing a sequence\n",
    "\n",
    "We said a `range` object does not physically materialize in memory all the numbers at the same time. We can get them one by one by only using the iterator. What if we wanted a list with all the numbers? In the tutorial [on lists](https://en.softpython.org/lists/lists1-sol.html#Convert-sequences-into-lists) we've seen that by passing  a sequence to function `list`, a new list is created with all the sequence elements. We talked generically about a _sequence,_ but the more correct term would have been _iterable._\n",
    "\n",
    "If we pass any _iterable_ object to `list`, then a new list will be built - we've seen `range` is iterable so let's try:"
   ]
  },
  {
   "cell_type": "code",
   "execution_count": 16,
   "metadata": {},
   "outputs": [
    {
     "data": {
      "text/plain": [
       "[0, 1, 2, 3]"
      ]
     },
     "execution_count": 16,
     "metadata": {},
     "output_type": "execute_result"
    }
   ],
   "source": [
    "list(range(4))"
   ]
  },
  {
   "cell_type": "markdown",
   "metadata": {},
   "source": [
    "Voilà !  Now the sequence is all physically present in memory. "
   ]
  },
  {
   "cell_type": "markdown",
   "metadata": {},
   "source": [
    "<div class=\"alert alert-warning\">\n",
    "\n",
    "**WARNING:** `list` **consumes the iterator!**\n",
    "\n",
    "</div>"
   ]
  },
  {
   "cell_type": "markdown",
   "metadata": {},
   "source": [
    "If you try calling twice `list` on the same iterator, you will get an empty list:"
   ]
  },
  {
   "cell_type": "code",
   "execution_count": 17,
   "metadata": {},
   "outputs": [],
   "source": [
    "\n",
    "sequence = range(4)\n",
    "iterator = iter(sequence)"
   ]
  },
  {
   "cell_type": "code",
   "execution_count": 18,
   "metadata": {},
   "outputs": [],
   "source": [
    "new1 = list(iterator)"
   ]
  },
  {
   "cell_type": "code",
   "execution_count": 19,
   "metadata": {},
   "outputs": [
    {
     "data": {
      "text/plain": [
       "[0, 1, 2, 3]"
      ]
     },
     "execution_count": 19,
     "metadata": {},
     "output_type": "execute_result"
    }
   ],
   "source": [
    "new1"
   ]
  },
  {
   "cell_type": "code",
   "execution_count": 20,
   "metadata": {},
   "outputs": [],
   "source": [
    "new2 = list(iterator)"
   ]
  },
  {
   "cell_type": "code",
   "execution_count": 21,
   "metadata": {},
   "outputs": [
    {
     "data": {
      "text/plain": [
       "[]"
      ]
     },
     "execution_count": 21,
     "metadata": {},
     "output_type": "execute_result"
    }
   ],
   "source": [
    "new2"
   ]
  },
  {
   "cell_type": "markdown",
   "metadata": {},
   "source": [
    "What if we wanted to directly access a specific position in the sequence generated by the iterator? Let's try extracting the character at index 2:"
   ]
  },
  {
   "cell_type": "code",
   "execution_count": 22,
   "metadata": {},
   "outputs": [],
   "source": [
    "sequence = range(4)\n",
    "iterator = iter(sequence)"
   ]
  },
  {
   "cell_type": "markdown",
   "metadata": {},
   "source": [
    "```python\n",
    "iterator[2]\n",
    "---------------------------------------------------------------------------\n",
    "TypeError                                 Traceback (most recent call last)\n",
    "<ipython-input-129-3c080cc9e700> in <module>()\n",
    "      1 sequence = range(4)\n",
    "      2 iterator = iter(sequence)\n",
    "----> 3 iterator[3]\n",
    "\n",
    "TypeError: 'range_iterator' object is not subscriptable\n",
    "\n",
    "```"
   ]
  },
  {
   "cell_type": "markdown",
   "metadata": {},
   "source": [
    "... sadly we get an error!\n",
    "\n",
    "We are left with only two alternatives. Either:\n",
    "\n",
    "a) First we convert to list and then use the squared brackets\n",
    "\n",
    "b) We call `next` 4 times (remember indexes start from zero)"
   ]
  },
  {
   "cell_type": "markdown",
   "metadata": {},
   "source": [
    "Option a) very often looks handy, but careful: **converting an iterator into a list creates a NEW list in memory**. If the list is very big and/or this operation is repeated many times, you risk occupying memory for nothing.\n",
    "\n",
    "Let's see the example in Python Tutor again:"
   ]
  },
  {
   "cell_type": "code",
   "execution_count": 23,
   "metadata": {},
   "outputs": [],
   "source": [
    "# WARNING: FOR PYTHON TUTOR TO WORK, REMEMBER TO EXECUTE THIS CELL with Shift+Enter\n",
    "#          (it's sufficient to execute it only once)\n",
    "\n",
    "import jupman"
   ]
  },
  {
   "cell_type": "code",
   "execution_count": 24,
   "metadata": {
    "scrolled": true
   },
   "outputs": [
    {
     "data": {
      "text/html": [
       "\n",
       "        <script src=\"../_static/js/pytutor-embed.bundle.min.js\" type=\"application/javascript\"></script>\n",
       "     \n",
       "        <script id=\"json-jm048bfcca-e535-4ef8-b02a-b7fab3056500\" type=\"application/json\" >\n",
       "            {\"code\": \" \\nsequence = range(4)\\niterator = iter(sequence)\\nnew1 = list(iterator)\\nnew2 = list(iterator)\", \"trace\": [{\"line\": 2, \"event\": \"step_line\", \"func_name\": \"<module>\", \"globals\": {}, \"ordered_globals\": [], \"stack_to_render\": [], \"heap\": {}, \"stdout\": \"\"}, {\"line\": 3, \"event\": \"step_line\", \"func_name\": \"<module>\", \"globals\": {\"sequence\": [\"REF\", 1]}, \"ordered_globals\": [\"sequence\"], \"stack_to_render\": [], \"heap\": {\"1\": [\"INSTANCE_PPRINT\", \"range\", \"range(0, 4)\"]}, \"stdout\": \"\"}, {\"line\": 4, \"event\": \"step_line\", \"func_name\": \"<module>\", \"globals\": {\"sequence\": [\"REF\", 1], \"iterator\": [\"REF\", 2]}, \"ordered_globals\": [\"sequence\", \"iterator\"], \"stack_to_render\": [], \"heap\": {\"1\": [\"INSTANCE_PPRINT\", \"range\", \"range(0, 4)\"], \"2\": [\"INSTANCE\", \"range_iterator\"]}, \"stdout\": \"\"}, {\"line\": 5, \"event\": \"step_line\", \"func_name\": \"<module>\", \"globals\": {\"sequence\": [\"REF\", 1], \"iterator\": [\"REF\", 2], \"new1\": [\"REF\", 3]}, \"ordered_globals\": [\"sequence\", \"iterator\", \"new1\"], \"stack_to_render\": [], \"heap\": {\"1\": [\"INSTANCE_PPRINT\", \"range\", \"range(0, 4)\"], \"2\": [\"INSTANCE\", \"range_iterator\"], \"3\": [\"LIST\", 0, 1, 2, 3]}, \"stdout\": \"\"}, {\"line\": 5, \"event\": \"return\", \"func_name\": \"<module>\", \"globals\": {\"sequence\": [\"REF\", 1], \"iterator\": [\"REF\", 2], \"new1\": [\"REF\", 3], \"new2\": [\"REF\", 4]}, \"ordered_globals\": [\"sequence\", \"iterator\", \"new1\", \"new2\"], \"stack_to_render\": [], \"heap\": {\"1\": [\"INSTANCE_PPRINT\", \"range\", \"range(0, 4)\"], \"2\": [\"INSTANCE\", \"range_iterator\"], \"3\": [\"LIST\", 0, 1, 2, 3], \"4\": [\"LIST\"]}, \"stdout\": \"\"}]}\n",
       "        </script>\n",
       "        <div id=\"jm048bfcca-e535-4ef8-b02a-b7fab3056500\" class=\"pytutorVisualizer\"> </div>\n",
       " \n",
       "        <style>\n",
       "        .vizLayoutTd {\n",
       "            background-color: #fff !important;\n",
       "        }\n",
       "\n",
       "        #pyStdout {            \n",
       "            min-height:25px;\n",
       "        }\n",
       "\n",
       "        /* 'Edit this code' link, hiding because replaces browser tab !!!*/\n",
       "        #editCodeLinkDiv {\n",
       "            display:none;  \n",
       "        }\n",
       "        </style>   \n",
       "                            \n",
       "        <script>\n",
       "        (function(){\n",
       "\n",
       "            var trace = JSON.parse(document.getElementById('json-jm048bfcca-e535-4ef8-b02a-b7fab3056500').innerHTML);                                        \n",
       "            // NOTE 1: id without #\n",
       "            // NOTE 2 - maybe there are more predictable ways, but this will work anyway\n",
       "            //        - id should be number\n",
       "            visualizerIdOverride = Math.trunc(Math.random() * 100000000000)\n",
       "            addVisualizerToPage(trace, 'jm048bfcca-e535-4ef8-b02a-b7fab3056500',{'embeddedMode' : false,\n",
       "                                             'visualizerIdOverride':visualizerIdOverride})  \n",
       "            \n",
       "            \n",
       "            // set overflow for pytuts - need to do in python as css \n",
       "            // does not allow parent selection\n",
       "            var pytuts = $('.pytutorVisualizer')\n",
       "            pytuts.closest('div.output_html.rendered_html.output_result')\n",
       "                    .css('overflow-x', 'visible')\n",
       "        \n",
       "            //pytuts.closest('div.output_html.rendered_html.output_result')\n",
       "            //      .css('background-color','red')                \n",
       "            \n",
       "        })()\n",
       "        </script>\n",
       "                \n",
       "                "
      ],
      "text/plain": [
       "<IPython.core.display.HTML object>"
      ]
     },
     "execution_count": 24,
     "metadata": {},
     "output_type": "execute_result"
    }
   ],
   "source": [
    "sequence = range(4)\n",
    "iterator = iter(sequence)\n",
    "new1 = list(iterator)\n",
    "new2 = list(iterator)\n",
    "\n",
    "jupman.pytut()"
   ]
  },
  {
   "cell_type": "markdown",
   "metadata": {},
   "source": [
    "**QUESTION**: Which object occupies more memory? `a` or `b`?\n",
    "\n",
    "```python\n",
    "a = range(10)\n",
    "b = range(10000000)\n",
    "```"
   ]
  },
  {
   "cell_type": "raw",
   "id": "a5fee75f",
   "metadata": {
    "format": "text/html"
   },
   "source": [
    "<a  class=\"jupman-sol jupman-sol-toggler\" \n",
    " onclick=\"jupman.toggleSolution(this);\" \n",
    " data-jupman-show=\"Show answer\" data-jupman-hide=\"Hide\">Show answer</a><div class=\"jupman-sol jupman-sol-question\" style=\"display:none\">  "
   ]
  },
  {
   "cell_type": "markdown",
   "metadata": {},
   "source": [
    "**ANSWER**: they both occupy the same amount of memory."
   ]
  },
  {
   "cell_type": "raw",
   "id": "df2e9594",
   "metadata": {
    "format": "text/html"
   },
   "source": [
    "</div>"
   ]
  },
  {
   "cell_type": "markdown",
   "metadata": {},
   "source": [
    "**QUESTION**:  Which object occupies more memory? `a` or `b` ?\n",
    "\n",
    "```python\n",
    "a = list(range(10))\n",
    "b = list(range(10000000))\n",
    "```"
   ]
  },
  {
   "cell_type": "raw",
   "id": "2aa516c0",
   "metadata": {
    "format": "text/html"
   },
   "source": [
    "<a  class=\"jupman-sol jupman-sol-toggler\" \n",
    " onclick=\"jupman.toggleSolution(this);\" \n",
    " data-jupman-show=\"Show answer\" data-jupman-hide=\"Hide\">Show answer</a><div class=\"jupman-sol jupman-sol-question\" style=\"display:none\">  "
   ]
  },
  {
   "cell_type": "markdown",
   "metadata": {},
   "source": [
    "**ANSWER**: `b` occupies more (the list is materialized)"
   ]
  },
  {
   "cell_type": "raw",
   "id": "e1c9c785",
   "metadata": {
    "format": "text/html"
   },
   "source": [
    "</div>"
   ]
  },
  {
   "cell_type": "markdown",
   "metadata": {},
   "source": [
    "### Questions - `range`\n",
    "\n",
    "Look at the following expressions, and for each try guessing the result (or if it gives an error):\n",
    "\n",
    "1.  ```python\n",
    "    range(3) \n",
    "    ```\n",
    "1.  ```python\n",
    "    range()\n",
    "    ```\n",
    "1.  ```python\n",
    "    list(range(-3))\n",
    "    ```\n",
    "1.  ```python\n",
    "    range(3,6)\n",
    "    ```\n",
    "1.  ```python\n",
    "    list(range(5,4))\n",
    "    ```    \n",
    "1.  ```python\n",
    "    list(range(3,3))\n",
    "    ```    \n",
    "1.  ```python\n",
    "    range(3) + range(6)\n",
    "    ```\n",
    "1.  ```python\n",
    "    list(range(3)) + list(range(6))\n",
    "    ```    \n",
    "1.  ```python\n",
    "    list(range(0,6,2))\n",
    "    ```\n",
    "1.  ```python\n",
    "    list(range(9,6,-1))\n",
    "    ```"
   ]
  },
  {
   "cell_type": "markdown",
   "metadata": {},
   "source": [
    "## reversed\n",
    "\n",
    "`reversed` is a _function_ which takes a sequence as parameter and PRODUCES a NEW _iterator_ which allows to run through the sequence in reverse order.\n",
    "\n",
    "<div class=\"alert alert-warning\">\n",
    "\n",
    "**WARNING**: by calling `reversed` we directly obtain an _iterator_ !\n",
    "    \n",
    "So you do _not_ need to make further calls to `iter` as done with `range`!\n",
    "</div>\n",
    "\n",
    "Let's have a better look with an example:"
   ]
  },
  {
   "cell_type": "code",
   "execution_count": 25,
   "metadata": {},
   "outputs": [],
   "source": [
    "la = ['s','c','a','n']"
   ]
  },
  {
   "cell_type": "code",
   "execution_count": 26,
   "metadata": {},
   "outputs": [
    {
     "data": {
      "text/plain": [
       "<list_reverseiterator at 0x7f1b26ec5910>"
      ]
     },
     "execution_count": 26,
     "metadata": {},
     "output_type": "execute_result"
    }
   ],
   "source": [
    "reversed(la)"
   ]
  },
  {
   "cell_type": "markdown",
   "metadata": {},
   "source": [
    "We see `reversed` has produced an _iterator_ as result  (not a reversed list)\n",
    "\n",
    "<div class=\"alert alert-info\">\n",
    "\n",
    "**INFO: iterators occupy a small amount of memory**\n",
    "\n",
    "Creating an iterator from a sequence only creates a sort of pointer, it _does not_ create new memory regions.\n",
    "</div>"
   ]
  },
  {
   "cell_type": "markdown",
   "metadata": {},
   "source": [
    "Furthermore , we see the original list associated to `la` was _not_ changed:"
   ]
  },
  {
   "cell_type": "code",
   "execution_count": 27,
   "metadata": {},
   "outputs": [
    {
     "name": "stdout",
     "output_type": "stream",
     "text": [
      "['s', 'c', 'a', 'n']\n"
     ]
    }
   ],
   "source": [
    "print(la)"
   ]
  },
  {
   "cell_type": "markdown",
   "metadata": {},
   "source": [
    "<div class=\"alert alert-warning\">\n",
    "\n",
    "**WARNING**: the function `reversed` is different from [reverse method](https://en.softpython.org/lists/lists3-sol.html#reverse-method) \n",
    "\n",
    "Note the final **d**! If we tried to call it as a method we would get an error:    \n",
    "</div> "
   ]
  },
  {
   "cell_type": "markdown",
   "metadata": {},
   "source": [
    "```python\n",
    ">>> la.reversed()\n",
    "\n",
    "---------------------------------------------------------------------------\n",
    "AttributeError                            Traceback (most recent call last)\n",
    "<ipython-input-182-c8d1eec57fdd> in <module>\n",
    "----> 1 la.reversed()\n",
    "\n",
    "AttributeError: 'list' object has no attribute 'reversed'\n",
    "\n",
    "```"
   ]
  },
  {
   "cell_type": "markdown",
   "metadata": {},
   "source": [
    "### Iterating with `next`\n",
    "\n",
    "How can we obtain a reversed list in memory? In other words, how can we actionate the iterator machine?\n",
    "\n",
    "We can ask the iterator for one element at a time with the function `next`:"
   ]
  },
  {
   "cell_type": "code",
   "execution_count": 28,
   "metadata": {},
   "outputs": [],
   "source": [
    "la = ['a','b','c']"
   ]
  },
  {
   "cell_type": "code",
   "execution_count": 29,
   "metadata": {},
   "outputs": [],
   "source": [
    "iterator = reversed(la)"
   ]
  },
  {
   "cell_type": "code",
   "execution_count": 30,
   "metadata": {},
   "outputs": [
    {
     "data": {
      "text/plain": [
       "'c'"
      ]
     },
     "execution_count": 30,
     "metadata": {},
     "output_type": "execute_result"
    }
   ],
   "source": [
    "next(iterator)"
   ]
  },
  {
   "cell_type": "code",
   "execution_count": 31,
   "metadata": {},
   "outputs": [
    {
     "data": {
      "text/plain": [
       "'b'"
      ]
     },
     "execution_count": 31,
     "metadata": {},
     "output_type": "execute_result"
    }
   ],
   "source": [
    "next(iterator)"
   ]
  },
  {
   "cell_type": "code",
   "execution_count": 32,
   "metadata": {},
   "outputs": [
    {
     "data": {
      "text/plain": [
       "'a'"
      ]
     },
     "execution_count": 32,
     "metadata": {},
     "output_type": "execute_result"
    }
   ],
   "source": [
    "next(iterator)"
   ]
  },
  {
   "cell_type": "markdown",
   "metadata": {},
   "source": [
    "Once the iterator is exhausted, by calling `next` again we will get an error:"
   ]
  },
  {
   "cell_type": "markdown",
   "metadata": {},
   "source": [
    "```python\n",
    "next(iterator)\n",
    "\n",
    "---------------------------------------------------------------------------\n",
    "StopIteration                             Traceback (most recent call last)\n",
    "<ipython-input-248-4518bd5da67f> in <module>\n",
    "----> 1 next(iterator)\n",
    "\n",
    "StopIteration: \n",
    "\n",
    "```"
   ]
  },
  {
   "cell_type": "markdown",
   "metadata": {},
   "source": [
    "Let's try manually creating a destination list `lb` and adding elements we obtain one by one:"
   ]
  },
  {
   "cell_type": "code",
   "execution_count": 33,
   "metadata": {},
   "outputs": [
    {
     "name": "stdout",
     "output_type": "stream",
     "text": [
      "['c', 'b', 'a']\n"
     ]
    },
    {
     "data": {
      "text/html": [
       "\n",
       "        <script src=\"../_static/js/pytutor-embed.bundle.min.js\" type=\"application/javascript\"></script>\n",
       "     \n",
       "        <script id=\"json-jma98c649c-b4c7-46ef-8e3a-f7984108fef8\" type=\"application/json\" >\n",
       "            {\"code\": \" \\nla = ['a','b','c']\\niterator = reversed(la)\\nlb = []\\nlb.append(next(iterator))\\nlb.append(next(iterator))\\nlb.append(next(iterator))\\nprint(lb)\", \"trace\": [{\"line\": 2, \"event\": \"step_line\", \"func_name\": \"<module>\", \"globals\": {}, \"ordered_globals\": [], \"stack_to_render\": [], \"heap\": {}, \"stdout\": \"\"}, {\"line\": 3, \"event\": \"step_line\", \"func_name\": \"<module>\", \"globals\": {\"la\": [\"REF\", 1]}, \"ordered_globals\": [\"la\"], \"stack_to_render\": [], \"heap\": {\"1\": [\"LIST\", \"a\", \"b\", \"c\"]}, \"stdout\": \"\"}, {\"line\": 4, \"event\": \"step_line\", \"func_name\": \"<module>\", \"globals\": {\"la\": [\"REF\", 1], \"iterator\": [\"REF\", 2]}, \"ordered_globals\": [\"la\", \"iterator\"], \"stack_to_render\": [], \"heap\": {\"1\": [\"LIST\", \"a\", \"b\", \"c\"], \"2\": [\"INSTANCE\", \"list_reverseiterator\"]}, \"stdout\": \"\"}, {\"line\": 5, \"event\": \"step_line\", \"func_name\": \"<module>\", \"globals\": {\"la\": [\"REF\", 1], \"iterator\": [\"REF\", 2], \"lb\": [\"REF\", 3]}, \"ordered_globals\": [\"la\", \"iterator\", \"lb\"], \"stack_to_render\": [], \"heap\": {\"1\": [\"LIST\", \"a\", \"b\", \"c\"], \"2\": [\"INSTANCE\", \"list_reverseiterator\"], \"3\": [\"LIST\"]}, \"stdout\": \"\"}, {\"line\": 6, \"event\": \"step_line\", \"func_name\": \"<module>\", \"globals\": {\"la\": [\"REF\", 1], \"iterator\": [\"REF\", 2], \"lb\": [\"REF\", 3]}, \"ordered_globals\": [\"la\", \"iterator\", \"lb\"], \"stack_to_render\": [], \"heap\": {\"1\": [\"LIST\", \"a\", \"b\", \"c\"], \"2\": [\"INSTANCE\", \"list_reverseiterator\"], \"3\": [\"LIST\", \"c\"]}, \"stdout\": \"\"}, {\"line\": 7, \"event\": \"step_line\", \"func_name\": \"<module>\", \"globals\": {\"la\": [\"REF\", 1], \"iterator\": [\"REF\", 2], \"lb\": [\"REF\", 3]}, \"ordered_globals\": [\"la\", \"iterator\", \"lb\"], \"stack_to_render\": [], \"heap\": {\"1\": [\"LIST\", \"a\", \"b\", \"c\"], \"2\": [\"INSTANCE\", \"list_reverseiterator\"], \"3\": [\"LIST\", \"c\", \"b\"]}, \"stdout\": \"\"}, {\"line\": 8, \"event\": \"step_line\", \"func_name\": \"<module>\", \"globals\": {\"la\": [\"REF\", 1], \"iterator\": [\"REF\", 2], \"lb\": [\"REF\", 3]}, \"ordered_globals\": [\"la\", \"iterator\", \"lb\"], \"stack_to_render\": [], \"heap\": {\"1\": [\"LIST\", \"a\", \"b\", \"c\"], \"2\": [\"INSTANCE\", \"list_reverseiterator\"], \"3\": [\"LIST\", \"c\", \"b\", \"a\"]}, \"stdout\": \"\"}, {\"line\": 8, \"event\": \"return\", \"func_name\": \"<module>\", \"globals\": {\"la\": [\"REF\", 1], \"iterator\": [\"REF\", 2], \"lb\": [\"REF\", 3]}, \"ordered_globals\": [\"la\", \"iterator\", \"lb\"], \"stack_to_render\": [], \"heap\": {\"1\": [\"LIST\", \"a\", \"b\", \"c\"], \"2\": [\"INSTANCE\", \"list_reverseiterator\"], \"3\": [\"LIST\", \"c\", \"b\", \"a\"]}, \"stdout\": \"['c', 'b', 'a']\\n\"}]}\n",
       "        </script>\n",
       "        <div id=\"jma98c649c-b4c7-46ef-8e3a-f7984108fef8\" class=\"pytutorVisualizer\"> </div>\n",
       " \n",
       "        <style>\n",
       "        .vizLayoutTd {\n",
       "            background-color: #fff !important;\n",
       "        }\n",
       "\n",
       "        #pyStdout {            \n",
       "            min-height:25px;\n",
       "        }\n",
       "\n",
       "        /* 'Edit this code' link, hiding because replaces browser tab !!!*/\n",
       "        #editCodeLinkDiv {\n",
       "            display:none;  \n",
       "        }\n",
       "        </style>   \n",
       "                            \n",
       "        <script>\n",
       "        (function(){\n",
       "\n",
       "            var trace = JSON.parse(document.getElementById('json-jma98c649c-b4c7-46ef-8e3a-f7984108fef8').innerHTML);                                        \n",
       "            // NOTE 1: id without #\n",
       "            // NOTE 2 - maybe there are more predictable ways, but this will work anyway\n",
       "            //        - id should be number\n",
       "            visualizerIdOverride = Math.trunc(Math.random() * 100000000000)\n",
       "            addVisualizerToPage(trace, 'jma98c649c-b4c7-46ef-8e3a-f7984108fef8',{'embeddedMode' : false,\n",
       "                                             'visualizerIdOverride':visualizerIdOverride})  \n",
       "            \n",
       "            \n",
       "            // set overflow for pytuts - need to do in python as css \n",
       "            // does not allow parent selection\n",
       "            var pytuts = $('.pytutorVisualizer')\n",
       "            pytuts.closest('div.output_html.rendered_html.output_result')\n",
       "                    .css('overflow-x', 'visible')\n",
       "        \n",
       "            //pytuts.closest('div.output_html.rendered_html.output_result')\n",
       "            //      .css('background-color','red')                \n",
       "            \n",
       "        })()\n",
       "        </script>\n",
       "                \n",
       "                "
      ],
      "text/plain": [
       "<IPython.core.display.HTML object>"
      ]
     },
     "execution_count": 33,
     "metadata": {},
     "output_type": "execute_result"
    }
   ],
   "source": [
    "la = ['a','b','c']\n",
    "iterator = reversed(la)\n",
    "lb = []\n",
    "lb.append(next(iterator))\n",
    "lb.append(next(iterator))\n",
    "lb.append(next(iterator))\n",
    "print(lb)\n",
    "\n",
    "jupman.pytut()"
   ]
  },
  {
   "cell_type": "markdown",
   "metadata": {},
   "source": [
    "### Exercise - sconcerto\n",
    "\n",
    "Write some code which given a list of characters `la`, puts in a list `lb` all the characters at odd position taken from reversed list `la`.\n",
    "\n",
    "* use `reversed` and `next`\n",
    "* **DO NOT** modify `la`\n",
    "* **DO NOT** use negative indexes\n",
    "* **DO NOT** use `list`\n",
    "\n",
    "Example - given:\n",
    "\n",
    "```python\n",
    "#      8    7    6    5    4    3    2    1    0                        \n",
    "la = ['s', 'c', 'o', 'n', 'c', 'e', 'r', 't', 'o']\n",
    "lb = []\n",
    "```\n",
    "After your code it must show:\n",
    "\n",
    "```python\n",
    ">>> print(lb)\n",
    "['t', 'e', 'n', 'c']\n",
    ">>> print(la)\n",
    "['s', 'c', 'o', 'n', 'c', 'e', 'r', 't', 'o']\n",
    "```\n",
    "\n",
    "We invite you to solve the problem in several ways:\n",
    "\n",
    "**WAY 1 - without cycle**: Suppose the list length **is fixed**, and repeatedly call `next` _without using a loop_\n",
    "\n",
    "**WAY 2 - while**: Suppose having a list of arbitrary length, and try generalizing previous code by _using a_ `while` _cycle,_ and calling `next` inside \n",
    "    \n",
    "* **HINT 1**: keep track of the position in which you are with a counter `i`\n",
    "* **HINT 2**: you cannot call `len` on an iterator, so in the `while` conditions you will have to use the original list length\n",
    "\n",
    "**WAY 3 - for**: this is the most elegant way. Suppose having a list of arbitrary length and _use a loop_ like `for x in reversed(la)`\n",
    "\n",
    "* **HINT**: you will still need to keep track of the position in which you are with an `i` counter"
   ]
  },
  {
   "cell_type": "raw",
   "id": "c3d64ddc",
   "metadata": {
    "format": "text/html"
   },
   "source": [
    "<a  class=\"jupman-sol jupman-sol-toggler\" \n",
    " onclick=\"jupman.toggleSolution(this);\" \n",
    " data-jupman-show=\"Show solution\" data-jupman-hide=\"Hide\">Show solution</a><div class=\"jupman-sol jupman-sol-code\" style=\"display:none\">  "
   ]
  },
  {
   "cell_type": "code",
   "execution_count": 34,
   "metadata": {},
   "outputs": [
    {
     "name": "stdout",
     "output_type": "stream",
     "text": [
      "['t', 'e', 'n', 'c']\n"
     ]
    }
   ],
   "source": [
    "\n",
    "# WAY 1: MANUAL\n",
    "\n",
    "#      8    7    6    5    4    3    2    1    0                        \n",
    "la = ['s', 'c', 'o', 'n', 'c', 'e', 'r', 't', 'o']\n",
    "lb = []\n",
    "\n",
    "# write here\n",
    "\n",
    "iterator = reversed(la)\n",
    "\n",
    "next(iterator)\n",
    "lb.append(next(iterator))\n",
    "next(iterator)\n",
    "lb.append(next(iterator))\n",
    "next(iterator)\n",
    "lb.append(next(iterator))\n",
    "next(iterator)\n",
    "lb.append(next(iterator))\n",
    "print(lb)\n",
    "\n",
    "#jupman.pytut()"
   ]
  },
  {
   "cell_type": "raw",
   "id": "a348d905",
   "metadata": {
    "format": "text/html"
   },
   "source": [
    "</div>"
   ]
  },
  {
   "cell_type": "code",
   "execution_count": 34,
   "metadata": {},
   "outputs": [],
   "source": [
    "\n",
    "# WAY 1: MANUAL\n",
    "\n",
    "#      8    7    6    5    4    3    2    1    0                        \n",
    "la = ['s', 'c', 'o', 'n', 'c', 'e', 'r', 't', 'o']\n",
    "lb = []\n",
    "\n",
    "# write here\n",
    "\n"
   ]
  },
  {
   "cell_type": "raw",
   "id": "d527b8a0",
   "metadata": {
    "format": "text/html"
   },
   "source": [
    "<a  class=\"jupman-sol jupman-sol-toggler\" \n",
    " onclick=\"jupman.toggleSolution(this);\" \n",
    " data-jupman-show=\"Show solution\" data-jupman-hide=\"Hide\">Show solution</a><div class=\"jupman-sol jupman-sol-code\" style=\"display:none\">  "
   ]
  },
  {
   "cell_type": "code",
   "execution_count": 35,
   "metadata": {},
   "outputs": [
    {
     "name": "stdout",
     "output_type": "stream",
     "text": [
      "['t', 'e', 'n', 'c']\n"
     ]
    }
   ],
   "source": [
    "\n",
    "# WAY 2: WHILE\n",
    "\n",
    "#      8    7    6    5    4    3    2    1    0                        \n",
    "la = ['s', 'c', 'o', 'n', 'c', 'e', 'r', 't', 'o']\n",
    "lb = []\n",
    "\n",
    "# write here\n",
    "\n",
    "iterator = reversed(la)\n",
    "\n",
    "i = 1\n",
    "while i < len(la):\n",
    "    if i % 2 == 1:\n",
    "        next(iterator)\n",
    "        lb.append(next(iterator))\n",
    "    i += 2\n",
    "    \n",
    "print(lb)\n"
   ]
  },
  {
   "cell_type": "raw",
   "id": "2783ec5e",
   "metadata": {
    "format": "text/html"
   },
   "source": [
    "</div>"
   ]
  },
  {
   "cell_type": "code",
   "execution_count": 35,
   "metadata": {},
   "outputs": [],
   "source": [
    "\n",
    "# WAY 2: WHILE\n",
    "\n",
    "#      8    7    6    5    4    3    2    1    0                        \n",
    "la = ['s', 'c', 'o', 'n', 'c', 'e', 'r', 't', 'o']\n",
    "lb = []\n",
    "\n",
    "# write here\n",
    "\n"
   ]
  },
  {
   "cell_type": "raw",
   "id": "8131c112",
   "metadata": {
    "format": "text/html"
   },
   "source": [
    "<a  class=\"jupman-sol jupman-sol-toggler\" \n",
    " onclick=\"jupman.toggleSolution(this);\" \n",
    " data-jupman-show=\"Show solution\" data-jupman-hide=\"Hide\">Show solution</a><div class=\"jupman-sol jupman-sol-code\" style=\"display:none\">  "
   ]
  },
  {
   "cell_type": "code",
   "execution_count": 36,
   "metadata": {},
   "outputs": [
    {
     "name": "stdout",
     "output_type": "stream",
     "text": [
      "['t', 'e', 'n', 'c']\n"
     ]
    }
   ],
   "source": [
    "\n",
    "# WAY 3: for\n",
    "\n",
    "#      8    7    6    5    4    3    2    1    0                        \n",
    "la = ['s', 'c', 'o', 'n', 'c', 'e', 'r', 't', 'o']\n",
    "lb = []\n",
    "\n",
    "# write here\n",
    "i = 0\n",
    "\n",
    "for x in reversed(la):\n",
    "    if i % 2 == 1:\n",
    "        lb.append(x)\n",
    "    i += 1\n",
    "print(lb)"
   ]
  },
  {
   "cell_type": "raw",
   "id": "8f531b62",
   "metadata": {
    "format": "text/html"
   },
   "source": [
    "</div>"
   ]
  },
  {
   "cell_type": "code",
   "execution_count": 36,
   "metadata": {},
   "outputs": [],
   "source": [
    "\n",
    "# WAY 3: for\n",
    "\n",
    "#      8    7    6    5    4    3    2    1    0                        \n",
    "la = ['s', 'c', 'o', 'n', 'c', 'e', 'r', 't', 'o']\n",
    "lb = []\n",
    "\n",
    "# write here\n",
    "\n"
   ]
  },
  {
   "cell_type": "markdown",
   "metadata": {},
   "source": [
    "### Materializing an iterator"
   ]
  },
  {
   "cell_type": "markdown",
   "metadata": {},
   "source": [
    "\n",
    "Luckily enough, we can obtain a list from an iterator with a less laborious method.\n",
    "\n",
    "We've seen that when we want to create a new list from a sequence, we can use `list` as if it were a function. We can also do it in this case, interpreting the iterator as if it were a sequence:"
   ]
  },
  {
   "cell_type": "code",
   "execution_count": 37,
   "metadata": {},
   "outputs": [
    {
     "data": {
      "text/plain": [
       "['n', 'a', 'c', 's']"
      ]
     },
     "execution_count": 37,
     "metadata": {},
     "output_type": "execute_result"
    }
   ],
   "source": [
    "la = ['s', 'c', 'a', 'n']\n",
    "list( reversed(la) )"
   ]
  },
  {
   "cell_type": "markdown",
   "metadata": {},
   "source": [
    "Notice we generated a NEW list, the original one associated to `la` is always the same:"
   ]
  },
  {
   "cell_type": "code",
   "execution_count": 38,
   "metadata": {},
   "outputs": [
    {
     "data": {
      "text/plain": [
       "['s', 'c', 'a', 'n']"
      ]
     },
     "execution_count": 38,
     "metadata": {},
     "output_type": "execute_result"
    }
   ],
   "source": [
    "la"
   ]
  },
  {
   "cell_type": "markdown",
   "metadata": {},
   "source": [
    "Let's see what happens using Python Tutor (we created some extra variables to evidence relevant passages):"
   ]
  },
  {
   "cell_type": "code",
   "execution_count": 39,
   "metadata": {},
   "outputs": [
    {
     "name": "stdout",
     "output_type": "stream",
     "text": [
      "la is ['s', 'c', 'a', 'n']\n",
      "new is ['n', 'a', 'c', 's']\n"
     ]
    },
    {
     "data": {
      "text/html": [
       "\n",
       "        <script src=\"../_static/js/pytutor-embed.bundle.min.js\" type=\"application/javascript\"></script>\n",
       "     \n",
       "        <script id=\"json-jm35ec1804-6758-45f8-9c80-92e1540c6347\" type=\"application/json\" >\n",
       "            {\"code\": \" \\nla = ['s', 'c', 'a', 'n']\\niterator = reversed(la)\\nnew = list(iterator)\\nprint(\\\"la is\\\",la)\\nprint(\\\"new is\\\",new)\", \"trace\": [{\"line\": 2, \"event\": \"step_line\", \"func_name\": \"<module>\", \"globals\": {}, \"ordered_globals\": [], \"stack_to_render\": [], \"heap\": {}, \"stdout\": \"\"}, {\"line\": 3, \"event\": \"step_line\", \"func_name\": \"<module>\", \"globals\": {\"la\": [\"REF\", 1]}, \"ordered_globals\": [\"la\"], \"stack_to_render\": [], \"heap\": {\"1\": [\"LIST\", \"s\", \"c\", \"a\", \"n\"]}, \"stdout\": \"\"}, {\"line\": 4, \"event\": \"step_line\", \"func_name\": \"<module>\", \"globals\": {\"la\": [\"REF\", 1], \"iterator\": [\"REF\", 2]}, \"ordered_globals\": [\"la\", \"iterator\"], \"stack_to_render\": [], \"heap\": {\"1\": [\"LIST\", \"s\", \"c\", \"a\", \"n\"], \"2\": [\"INSTANCE\", \"list_reverseiterator\"]}, \"stdout\": \"\"}, {\"line\": 5, \"event\": \"step_line\", \"func_name\": \"<module>\", \"globals\": {\"la\": [\"REF\", 1], \"iterator\": [\"REF\", 2], \"new\": [\"REF\", 3]}, \"ordered_globals\": [\"la\", \"iterator\", \"new\"], \"stack_to_render\": [], \"heap\": {\"1\": [\"LIST\", \"s\", \"c\", \"a\", \"n\"], \"2\": [\"INSTANCE\", \"list_reverseiterator\"], \"3\": [\"LIST\", \"n\", \"a\", \"c\", \"s\"]}, \"stdout\": \"\"}, {\"line\": 6, \"event\": \"step_line\", \"func_name\": \"<module>\", \"globals\": {\"la\": [\"REF\", 1], \"iterator\": [\"REF\", 2], \"new\": [\"REF\", 3]}, \"ordered_globals\": [\"la\", \"iterator\", \"new\"], \"stack_to_render\": [], \"heap\": {\"1\": [\"LIST\", \"s\", \"c\", \"a\", \"n\"], \"2\": [\"INSTANCE\", \"list_reverseiterator\"], \"3\": [\"LIST\", \"n\", \"a\", \"c\", \"s\"]}, \"stdout\": \"la is ['s', 'c', 'a', 'n']\\n\"}, {\"line\": 6, \"event\": \"return\", \"func_name\": \"<module>\", \"globals\": {\"la\": [\"REF\", 1], \"iterator\": [\"REF\", 2], \"new\": [\"REF\", 3]}, \"ordered_globals\": [\"la\", \"iterator\", \"new\"], \"stack_to_render\": [], \"heap\": {\"1\": [\"LIST\", \"s\", \"c\", \"a\", \"n\"], \"2\": [\"INSTANCE\", \"list_reverseiterator\"], \"3\": [\"LIST\", \"n\", \"a\", \"c\", \"s\"]}, \"stdout\": \"la is ['s', 'c', 'a', 'n']\\nnew is ['n', 'a', 'c', 's']\\n\"}]}\n",
       "        </script>\n",
       "        <div id=\"jm35ec1804-6758-45f8-9c80-92e1540c6347\" class=\"pytutorVisualizer\"> </div>\n",
       " \n",
       "        <style>\n",
       "        .vizLayoutTd {\n",
       "            background-color: #fff !important;\n",
       "        }\n",
       "\n",
       "        #pyStdout {            \n",
       "            min-height:25px;\n",
       "        }\n",
       "\n",
       "        /* 'Edit this code' link, hiding because replaces browser tab !!!*/\n",
       "        #editCodeLinkDiv {\n",
       "            display:none;  \n",
       "        }\n",
       "        </style>   \n",
       "                            \n",
       "        <script>\n",
       "        (function(){\n",
       "\n",
       "            var trace = JSON.parse(document.getElementById('json-jm35ec1804-6758-45f8-9c80-92e1540c6347').innerHTML);                                        \n",
       "            // NOTE 1: id without #\n",
       "            // NOTE 2 - maybe there are more predictable ways, but this will work anyway\n",
       "            //        - id should be number\n",
       "            visualizerIdOverride = Math.trunc(Math.random() * 100000000000)\n",
       "            addVisualizerToPage(trace, 'jm35ec1804-6758-45f8-9c80-92e1540c6347',{'embeddedMode' : false,\n",
       "                                             'visualizerIdOverride':visualizerIdOverride})  \n",
       "            \n",
       "            \n",
       "            // set overflow for pytuts - need to do in python as css \n",
       "            // does not allow parent selection\n",
       "            var pytuts = $('.pytutorVisualizer')\n",
       "            pytuts.closest('div.output_html.rendered_html.output_result')\n",
       "                    .css('overflow-x', 'visible')\n",
       "        \n",
       "            //pytuts.closest('div.output_html.rendered_html.output_result')\n",
       "            //      .css('background-color','red')                \n",
       "            \n",
       "        })()\n",
       "        </script>\n",
       "                \n",
       "                "
      ],
      "text/plain": [
       "<IPython.core.display.HTML object>"
      ]
     },
     "execution_count": 39,
     "metadata": {},
     "output_type": "execute_result"
    }
   ],
   "source": [
    "la = ['s', 'c', 'a', 'n']\n",
    "iterator = reversed(la)\n",
    "new = list(iterator)\n",
    "print(\"la is\",la)\n",
    "print(\"new is\",new)\n",
    "\n",
    "jupman.pytut()"
   ]
  },
  {
   "cell_type": "markdown",
   "metadata": {},
   "source": [
    "**QUESTION** Which effect is the following code producing?\n",
    "\n",
    "```python\n",
    "la = ['b','r','i','d','g','e']\n",
    "lb = list(reversed(reversed(la)))\n",
    "\n",
    "```"
   ]
  },
  {
   "cell_type": "markdown",
   "metadata": {},
   "source": [
    "## sorted"
   ]
  },
  {
   "cell_type": "markdown",
   "metadata": {},
   "source": [
    "The **function** `sorted` takes as parameter a sequence and returns a NEW sorted list.\n",
    "\n",
    "<div class=\"alert alert-warning\">\n",
    "\n",
    "**WARNING**: `sorted` returns a LIST, not an iterator!\n",
    "\n",
    "</div> "
   ]
  },
  {
   "cell_type": "code",
   "execution_count": 40,
   "metadata": {},
   "outputs": [
    {
     "data": {
      "text/plain": [
       "['a', 'b', 'd', 'e', 'g']"
      ]
     },
     "execution_count": 40,
     "metadata": {},
     "output_type": "execute_result"
    }
   ],
   "source": [
    "sorted(['g','a','e','d','b'])"
   ]
  },
  {
   "cell_type": "markdown",
   "metadata": {},
   "source": [
    "<div class=\"alert alert-warning\">\n",
    "\n",
    "**WARNING**: `sorted` is a **function** different from [sort method](https://en.softpython.org/lists/lists3-sol.html#sort-method) ! \n",
    "\n",
    "Note the final **ed**! If we tried to call it with a different method we would get an error:\n",
    "\n",
    "</div> "
   ]
  },
  {
   "cell_type": "markdown",
   "metadata": {},
   "source": [
    "```python\n",
    ">>> la.sorted()\n",
    "\n",
    "---------------------------------------------------------------------------\n",
    "AttributeError                            Traceback (most recent call last)\n",
    "<ipython-input-182-c8d1eec57fdd> in <module>\n",
    "----> 1 la.reversed()\n",
    "\n",
    "AttributeError: 'list' object has no attribute 'sorted'\n",
    "\n",
    "```"
   ]
  },
  {
   "cell_type": "markdown",
   "metadata": {},
   "source": [
    "### Exercise - reversort\n",
    "\n",
    "✪ Given a list of names, write some code to produce a list sorted in reverse\n",
    "\n",
    "There are at least a couple of ways to do it in a single line of code, find them both\n",
    "\n",
    "* INPUT: `['Maria','Paolo','Giovanni','Alessia','Greta']`\n",
    "* OUTPUT: `['Paolo', 'Maria', 'Greta', 'Giovanni', 'Alessia']`"
   ]
  },
  {
   "cell_type": "raw",
   "id": "0bec9d0d",
   "metadata": {
    "format": "text/html"
   },
   "source": [
    "<a  class=\"jupman-sol jupman-sol-toggler\" \n",
    " onclick=\"jupman.toggleSolution(this);\" \n",
    " data-jupman-show=\"Show solution\" data-jupman-hide=\"Hide\">Show solution</a><div class=\"jupman-sol jupman-sol-code\" style=\"display:none\">  "
   ]
  },
  {
   "cell_type": "code",
   "execution_count": 41,
   "metadata": {},
   "outputs": [
    {
     "data": {
      "text/plain": [
       "['Paolo', 'Maria', 'Greta', 'Giovanni', 'Alessia']"
      ]
     },
     "execution_count": 41,
     "metadata": {},
     "output_type": "execute_result"
    }
   ],
   "source": [
    "\n",
    "# write here\n",
    "\n",
    "list(sorted(['Maria','Paolo','Giovanni','Alessia','Greta'], reverse=True))\n",
    "\n",
    "# or\n",
    "#list(reversed(sorted(['Maria','Paolo','Giovanni','Alessia','Greta'])))"
   ]
  },
  {
   "cell_type": "raw",
   "id": "619f75a4",
   "metadata": {
    "format": "text/html"
   },
   "source": [
    "</div>"
   ]
  },
  {
   "cell_type": "code",
   "execution_count": 41,
   "metadata": {},
   "outputs": [],
   "source": [
    "\n",
    "# write here\n",
    "\n"
   ]
  },
  {
   "cell_type": "markdown",
   "metadata": {},
   "source": [
    "## zip\n",
    "\n",
    "Suppose we have two lists `paintings` and `years`, with rispectively names of famous paintings and the dates in which they were painted:"
   ]
  },
  {
   "cell_type": "code",
   "execution_count": 42,
   "metadata": {},
   "outputs": [],
   "source": [
    "paintings = [\"The Mona Lisa\", \"The Birth of Venus\", \"Sunflowers\"]\n",
    "years = [1503, 1482, 1888]"
   ]
  },
  {
   "cell_type": "markdown",
   "metadata": {},
   "source": [
    "We want to produce a new list which contains some tuples which associate each painting with the year it was made:\n",
    "\n",
    "```python\n",
    "[('The Mona Lisa', 1503), \n",
    " ('The Birth of Venus', 1482), \n",
    " ('Sunflowers', 1888)]\n",
    "```"
   ]
  },
  {
   "cell_type": "markdown",
   "metadata": {},
   "source": [
    "There are various ways to do it but certainly the most elegant is by using the **function** `zip` which produces an **iterator**:"
   ]
  },
  {
   "cell_type": "code",
   "execution_count": 43,
   "metadata": {},
   "outputs": [
    {
     "data": {
      "text/plain": [
       "<zip at 0x7f1b26eec550>"
      ]
     },
     "execution_count": 43,
     "metadata": {},
     "output_type": "execute_result"
    }
   ],
   "source": [
    "zip(paintings, years)"
   ]
  },
  {
   "cell_type": "markdown",
   "metadata": {},
   "source": [
    "Even if you don't see written 'iterator' in the object name, we can still use it as such with `next`:"
   ]
  },
  {
   "cell_type": "code",
   "execution_count": 44,
   "metadata": {},
   "outputs": [
    {
     "data": {
      "text/plain": [
       "('The Mona Lisa', 1503)"
      ]
     },
     "execution_count": 44,
     "metadata": {},
     "output_type": "execute_result"
    }
   ],
   "source": [
    "iterator = zip(paintings, years)\n",
    "next(iterator)"
   ]
  },
  {
   "cell_type": "code",
   "execution_count": 45,
   "metadata": {},
   "outputs": [
    {
     "data": {
      "text/plain": [
       "('The Birth of Venus', 1482)"
      ]
     },
     "execution_count": 45,
     "metadata": {},
     "output_type": "execute_result"
    }
   ],
   "source": [
    "next(iterator)"
   ]
  },
  {
   "cell_type": "code",
   "execution_count": 46,
   "metadata": {},
   "outputs": [
    {
     "data": {
      "text/plain": [
       "('Sunflowers', 1888)"
      ]
     },
     "execution_count": 46,
     "metadata": {},
     "output_type": "execute_result"
    }
   ],
   "source": [
    "next(iterator)"
   ]
  },
  {
   "cell_type": "markdown",
   "metadata": {},
   "source": [
    "As done previously, we can convert everything to a list with `list`:"
   ]
  },
  {
   "cell_type": "code",
   "execution_count": 47,
   "metadata": {},
   "outputs": [
    {
     "data": {
      "text/plain": [
       "[('The Mona Lisa', 1503), ('The Birth of Venus', 1482), ('Sunflowers', 1888)]"
      ]
     },
     "execution_count": 47,
     "metadata": {},
     "output_type": "execute_result"
    }
   ],
   "source": [
    "paintings = [\"The Mona Lisa\", \"The Birth of Venus\", \"Sunflowers\"]\n",
    "years = [1503, 1482, 1888]\n",
    "\n",
    "list(zip(paintings,years))"
   ]
  },
  {
   "cell_type": "markdown",
   "metadata": {},
   "source": [
    "If the lists have different length, the sequence produced by `zip` will be as long as the shortest input sequence:"
   ]
  },
  {
   "cell_type": "code",
   "execution_count": 48,
   "metadata": {},
   "outputs": [
    {
     "data": {
      "text/plain": [
       "[(1, 'a'), (2, 'b'), (3, 'c')]"
      ]
     },
     "execution_count": 48,
     "metadata": {},
     "output_type": "execute_result"
    }
   ],
   "source": [
    "list(zip([1,2,3], ['a','b','c','d','e']))"
   ]
  },
  {
   "cell_type": "markdown",
   "metadata": {},
   "source": [
    "If we will, we can pass an arbitrary number of sequences - for example, by passing three of them we will obtain triplets of values:"
   ]
  },
  {
   "cell_type": "code",
   "execution_count": 49,
   "metadata": {},
   "outputs": [
    {
     "data": {
      "text/plain": [
       "[('Imagine', 'John Lennon', 1971),\n",
       " ('Hey Jude', 'The Beatles', 1968),\n",
       " ('Satisfaction', 'The Rolling Stones', 1965),\n",
       " ('Yesterday', 'The Beatles', 1965)]"
      ]
     },
     "execution_count": 49,
     "metadata": {},
     "output_type": "execute_result"
    }
   ],
   "source": [
    "songs = ['Imagine', 'Hey Jude', 'Satisfaction', 'Yesterday' ]\n",
    "authors = ['John Lennon','The Beatles', 'The Rolling Stones', 'The Beatles']\n",
    "years = [1971, 1968, 1965, 1965]\n",
    "list(zip(songs, authors, years))"
   ]
  },
  {
   "cell_type": "markdown",
   "metadata": {},
   "source": [
    "### Exercise - ladder\n",
    "\n",
    "Given a number `n`, create a list of tuples that for each integer number $x$ such that $0 \\leq x \\leq n$ associates the number $n - x$\n",
    "\n",
    "* INPUT: `n=5`\n",
    "* OUTPUT: `[(0, 4), (1, 3), (2, 2), (3, 1), (4, 0)]`"
   ]
  },
  {
   "cell_type": "raw",
   "id": "266e8429",
   "metadata": {
    "format": "text/html"
   },
   "source": [
    "<a  class=\"jupman-sol jupman-sol-toggler\" \n",
    " onclick=\"jupman.toggleSolution(this);\" \n",
    " data-jupman-show=\"Show solution\" data-jupman-hide=\"Hide\">Show solution</a><div class=\"jupman-sol jupman-sol-code\" style=\"display:none\">  "
   ]
  },
  {
   "cell_type": "code",
   "execution_count": 50,
   "metadata": {},
   "outputs": [
    {
     "data": {
      "text/plain": [
       "[(0, 4), (1, 3), (2, 2), (3, 1), (4, 0)]"
      ]
     },
     "execution_count": 50,
     "metadata": {},
     "output_type": "execute_result"
    }
   ],
   "source": [
    "\n",
    "n = 5\n",
    "# write here\n",
    "list(zip(range(n), reversed(range(n))))"
   ]
  },
  {
   "cell_type": "raw",
   "id": "f15455d3",
   "metadata": {
    "format": "text/html"
   },
   "source": [
    "</div>"
   ]
  },
  {
   "cell_type": "code",
   "execution_count": 50,
   "metadata": {},
   "outputs": [],
   "source": [
    "\n",
    "n = 5\n",
    "# write here\n",
    "\n"
   ]
  },
  {
   "cell_type": "markdown",
   "metadata": {},
   "source": [
    "## List comprehensions\n",
    "\n"
   ]
  },
  {
   "cell_type": "markdown",
   "metadata": {
    "colab_type": "text",
    "id": "BbNGWT5PeX_x"
   },
   "source": [
    "List comprehensions are handy when you need to generate a NEW list by executing the same operation on all the elements of a sequence. Comprehensions start and end with square brackets `[` `]` so theit syntax reminds lists, but inside they contain a special `for` to loop inside a sequence:"
   ]
  },
  {
   "cell_type": "code",
   "execution_count": 51,
   "metadata": {},
   "outputs": [
    {
     "data": {
      "text/plain": [
       "[4, 10, 6, 8]"
      ]
     },
     "execution_count": 51,
     "metadata": {},
     "output_type": "execute_result"
    }
   ],
   "source": [
    "numbers = [2,5,3,4]\n",
    "\n",
    "doubled = [x*2 for x in numbers]\n",
    "\n",
    "doubled"
   ]
  },
  {
   "cell_type": "markdown",
   "metadata": {},
   "source": [
    "Note the variable `numbers` is still associated to the original list:"
   ]
  },
  {
   "cell_type": "code",
   "execution_count": 52,
   "metadata": {},
   "outputs": [
    {
     "data": {
      "text/plain": [
       "[2, 5, 3, 4]"
      ]
     },
     "execution_count": 52,
     "metadata": {},
     "output_type": "execute_result"
    }
   ],
   "source": [
    "numbers"
   ]
  },
  {
   "cell_type": "markdown",
   "metadata": {},
   "source": [
    "What happened ? We wrote the name of a variable `x` we just invented, and we told Python to go through the list `numbers`: at each iteration, the variable `x` is associated to a different value of the list `numbers`. This value can be reused in the expression we wrote on left of the `for`, which in this case is `x*2`"
   ]
  },
  {
   "cell_type": "markdown",
   "metadata": {},
   "source": [
    "As name for the variable  we used `x`, but we could have used any other name, for example this code is equivalent to the previous one:"
   ]
  },
  {
   "cell_type": "code",
   "execution_count": 53,
   "metadata": {},
   "outputs": [
    {
     "data": {
      "text/plain": [
       "[4, 10, 6, 8]"
      ]
     },
     "execution_count": 53,
     "metadata": {},
     "output_type": "execute_result"
    }
   ],
   "source": [
    "numbers = [2,5,3,4]\n",
    "\n",
    "doubled = [number * 2 for number in numbers]\n",
    "\n",
    "doubled"
   ]
  },
  {
   "cell_type": "markdown",
   "metadata": {},
   "source": [
    "On the left of the `for` we can write any expression which produces a value, for example here we write `x + 1` to increment all the numbers of the original list:"
   ]
  },
  {
   "cell_type": "code",
   "execution_count": 54,
   "metadata": {},
   "outputs": [
    {
     "data": {
      "text/plain": [
       "[3, 6, 4, 5]"
      ]
     },
     "execution_count": 54,
     "metadata": {},
     "output_type": "execute_result"
    }
   ],
   "source": [
    "numbers = [2,5,3,4]\n",
    "\n",
    "augmented = [x + 1 for x in numbers]\n",
    "\n",
    "augmented"
   ]
  },
  {
   "cell_type": "markdown",
   "metadata": {},
   "source": [
    "**QUESTION**: What is this code going to produce? If we visualize it in Python Tutor, will `la` and `lb` point to different objects?\n",
    "\n",
    "```python\n",
    "la = [7,5,6,9]\n",
    "lb = [x for x in la]\n",
    "\n",
    "```"
   ]
  },
  {
   "cell_type": "raw",
   "id": "13400002",
   "metadata": {
    "format": "text/html"
   },
   "source": [
    "<a  class=\"jupman-sol jupman-sol-toggler\" \n",
    " onclick=\"jupman.toggleSolution(this);\" \n",
    " data-jupman-show=\"Show answer\" data-jupman-hide=\"Hide\">Show answer</a><div class=\"jupman-sol jupman-sol-question\" style=\"display:none\">  "
   ]
  },
  {
   "cell_type": "markdown",
   "metadata": {},
   "source": [
    "**ANSWER**: When  `[x for x in la]` is executed, during the first iteration `x` is valued `7`, during the second `5`, during the third one `6` and so on and so forth. In the expression on the left of the `for` we put only `x`, so as expression result we will get the same identical number taken from the original string.\n",
    "\n",
    "The code will produce a NEW list  `[7,5,6,9]` and it will be associated to the variable `lb`."
   ]
  },
  {
   "cell_type": "raw",
   "id": "ba850bea",
   "metadata": {
    "format": "text/html"
   },
   "source": [
    "</div>"
   ]
  },
  {
   "cell_type": "code",
   "execution_count": 55,
   "metadata": {},
   "outputs": [
    {
     "data": {
      "text/html": [
       "\n",
       "        <script src=\"../_static/js/pytutor-embed.bundle.min.js\" type=\"application/javascript\"></script>\n",
       "     \n",
       "        <script id=\"json-jm03e2a8ee-b1a2-4a00-baa6-d4e4b258118a\" type=\"application/json\" >\n",
       "            {\"code\": \" \\nla = [7,5,6,9]\\nlb = [x for x in la]\", \"trace\": [{\"line\": 2, \"event\": \"step_line\", \"func_name\": \"<module>\", \"globals\": {}, \"ordered_globals\": [], \"stack_to_render\": [], \"heap\": {}, \"stdout\": \"\"}, {\"line\": 3, \"event\": \"step_line\", \"func_name\": \"<module>\", \"globals\": {\"la\": [\"REF\", 1]}, \"ordered_globals\": [\"la\"], \"stack_to_render\": [], \"heap\": {\"1\": [\"LIST\", 7, 5, 6, 9]}, \"stdout\": \"\"}, {\"line\": 3, \"event\": \"call\", \"func_name\": \"<listcomp>\", \"globals\": {\"la\": [\"REF\", 1]}, \"ordered_globals\": [\"la\"], \"stack_to_render\": [{\"func_name\": \"<listcomp>\", \"is_parent\": false, \"frame_id\": 1, \"parent_frame_id_list\": [], \"encoded_locals\": {\".0\": [\"REF\", 2]}, \"ordered_varnames\": [\".0\"], \"is_zombie\": false, \"is_highlighted\": true, \"unique_hash\": \"<listcomp>_f1\"}], \"heap\": {\"2\": [\"INSTANCE\", \"list_iterator\"], \"1\": [\"LIST\", 7, 5, 6, 9]}, \"stdout\": \"\"}, {\"line\": 3, \"event\": \"step_line\", \"func_name\": \"<listcomp>\", \"globals\": {\"la\": [\"REF\", 1]}, \"ordered_globals\": [\"la\"], \"stack_to_render\": [{\"func_name\": \"<listcomp>\", \"is_parent\": false, \"frame_id\": 1, \"parent_frame_id_list\": [], \"encoded_locals\": {\".0\": [\"REF\", 2]}, \"ordered_varnames\": [\".0\"], \"is_zombie\": false, \"is_highlighted\": true, \"unique_hash\": \"<listcomp>_f1\"}], \"heap\": {\"2\": [\"INSTANCE\", \"list_iterator\"], \"1\": [\"LIST\", 7, 5, 6, 9]}, \"stdout\": \"\"}, {\"line\": 3, \"event\": \"step_line\", \"func_name\": \"<listcomp>\", \"globals\": {\"la\": [\"REF\", 1]}, \"ordered_globals\": [\"la\"], \"stack_to_render\": [{\"func_name\": \"<listcomp>\", \"is_parent\": false, \"frame_id\": 1, \"parent_frame_id_list\": [], \"encoded_locals\": {\".0\": [\"REF\", 2], \"x\": 7}, \"ordered_varnames\": [\".0\", \"x\"], \"is_zombie\": false, \"is_highlighted\": true, \"unique_hash\": \"<listcomp>_f1\"}], \"heap\": {\"2\": [\"INSTANCE\", \"list_iterator\"], \"1\": [\"LIST\", 7, 5, 6, 9]}, \"stdout\": \"\"}, {\"line\": 3, \"event\": \"step_line\", \"func_name\": \"<listcomp>\", \"globals\": {\"la\": [\"REF\", 1]}, \"ordered_globals\": [\"la\"], \"stack_to_render\": [{\"func_name\": \"<listcomp>\", \"is_parent\": false, \"frame_id\": 1, \"parent_frame_id_list\": [], \"encoded_locals\": {\".0\": [\"REF\", 2], \"x\": 5}, \"ordered_varnames\": [\".0\", \"x\"], \"is_zombie\": false, \"is_highlighted\": true, \"unique_hash\": \"<listcomp>_f1\"}], \"heap\": {\"2\": [\"INSTANCE\", \"list_iterator\"], \"1\": [\"LIST\", 7, 5, 6, 9]}, \"stdout\": \"\"}, {\"line\": 3, \"event\": \"step_line\", \"func_name\": \"<listcomp>\", \"globals\": {\"la\": [\"REF\", 1]}, \"ordered_globals\": [\"la\"], \"stack_to_render\": [{\"func_name\": \"<listcomp>\", \"is_parent\": false, \"frame_id\": 1, \"parent_frame_id_list\": [], \"encoded_locals\": {\".0\": [\"REF\", 2], \"x\": 6}, \"ordered_varnames\": [\".0\", \"x\"], \"is_zombie\": false, \"is_highlighted\": true, \"unique_hash\": \"<listcomp>_f1\"}], \"heap\": {\"2\": [\"INSTANCE\", \"list_iterator\"], \"1\": [\"LIST\", 7, 5, 6, 9]}, \"stdout\": \"\"}, {\"line\": 3, \"event\": \"step_line\", \"func_name\": \"<listcomp>\", \"globals\": {\"la\": [\"REF\", 1]}, \"ordered_globals\": [\"la\"], \"stack_to_render\": [{\"func_name\": \"<listcomp>\", \"is_parent\": false, \"frame_id\": 1, \"parent_frame_id_list\": [], \"encoded_locals\": {\".0\": [\"REF\", 2], \"x\": 9}, \"ordered_varnames\": [\".0\", \"x\"], \"is_zombie\": false, \"is_highlighted\": true, \"unique_hash\": \"<listcomp>_f1\"}], \"heap\": {\"2\": [\"INSTANCE\", \"list_iterator\"], \"1\": [\"LIST\", 7, 5, 6, 9]}, \"stdout\": \"\"}, {\"line\": 3, \"event\": \"return\", \"func_name\": \"<listcomp>\", \"globals\": {\"la\": [\"REF\", 1]}, \"ordered_globals\": [\"la\"], \"stack_to_render\": [{\"func_name\": \"<listcomp>\", \"is_parent\": false, \"frame_id\": 1, \"parent_frame_id_list\": [], \"encoded_locals\": {\".0\": [\"REF\", 2], \"x\": 9, \"__return__\": [\"REF\", 3]}, \"ordered_varnames\": [\".0\", \"x\", \"__return__\"], \"is_zombie\": false, \"is_highlighted\": true, \"unique_hash\": \"<listcomp>_f1\"}], \"heap\": {\"2\": [\"INSTANCE\", \"list_iterator\"], \"3\": [\"LIST\", 7, 5, 6, 9], \"1\": [\"LIST\", 7, 5, 6, 9]}, \"stdout\": \"\"}, {\"line\": 3, \"event\": \"return\", \"func_name\": \"<module>\", \"globals\": {\"la\": [\"REF\", 1], \"lb\": [\"REF\", 3]}, \"ordered_globals\": [\"la\", \"lb\"], \"stack_to_render\": [], \"heap\": {\"1\": [\"LIST\", 7, 5, 6, 9], \"3\": [\"LIST\", 7, 5, 6, 9]}, \"stdout\": \"\"}]}\n",
       "        </script>\n",
       "        <div id=\"jm03e2a8ee-b1a2-4a00-baa6-d4e4b258118a\" class=\"pytutorVisualizer\"> </div>\n",
       " \n",
       "        <style>\n",
       "        .vizLayoutTd {\n",
       "            background-color: #fff !important;\n",
       "        }\n",
       "\n",
       "        #pyStdout {            \n",
       "            min-height:25px;\n",
       "        }\n",
       "\n",
       "        /* 'Edit this code' link, hiding because replaces browser tab !!!*/\n",
       "        #editCodeLinkDiv {\n",
       "            display:none;  \n",
       "        }\n",
       "        </style>   \n",
       "                            \n",
       "        <script>\n",
       "        (function(){\n",
       "\n",
       "            var trace = JSON.parse(document.getElementById('json-jm03e2a8ee-b1a2-4a00-baa6-d4e4b258118a').innerHTML);                                        \n",
       "            // NOTE 1: id without #\n",
       "            // NOTE 2 - maybe there are more predictable ways, but this will work anyway\n",
       "            //        - id should be number\n",
       "            visualizerIdOverride = Math.trunc(Math.random() * 100000000000)\n",
       "            addVisualizerToPage(trace, 'jm03e2a8ee-b1a2-4a00-baa6-d4e4b258118a',{'embeddedMode' : false,\n",
       "                                             'visualizerIdOverride':visualizerIdOverride})  \n",
       "            \n",
       "            \n",
       "            // set overflow for pytuts - need to do in python as css \n",
       "            // does not allow parent selection\n",
       "            var pytuts = $('.pytutorVisualizer')\n",
       "            pytuts.closest('div.output_html.rendered_html.output_result')\n",
       "                    .css('overflow-x', 'visible')\n",
       "        \n",
       "            //pytuts.closest('div.output_html.rendered_html.output_result')\n",
       "            //      .css('background-color','red')                \n",
       "            \n",
       "        })()\n",
       "        </script>\n",
       "                \n",
       "                "
      ],
      "text/plain": [
       "<IPython.core.display.HTML object>"
      ]
     },
     "execution_count": 55,
     "metadata": {},
     "output_type": "execute_result"
    }
   ],
   "source": [
    "la = [7,5,6,9]\n",
    "lb = [x for x in la]\n",
    "\n",
    "jupman.pytut()"
   ]
  },
  {
   "cell_type": "markdown",
   "metadata": {},
   "source": [
    "### List comprehensions on strings"
   ]
  },
  {
   "cell_type": "markdown",
   "metadata": {},
   "source": [
    "**QUESTION**: What is this code going to produce?\n",
    "\n",
    "```python\n",
    "[x for x in 'question']\n",
    "```"
   ]
  },
  {
   "cell_type": "raw",
   "id": "6bc95187",
   "metadata": {
    "format": "text/html"
   },
   "source": [
    "<a  class=\"jupman-sol jupman-sol-toggler\" \n",
    " onclick=\"jupman.toggleSolution(this);\" \n",
    " data-jupman-show=\"Show answer\" data-jupman-hide=\"Hide\">Show answer</a><div class=\"jupman-sol jupman-sol-question\" style=\"display:none\">  "
   ]
  },
  {
   "cell_type": "markdown",
   "metadata": {},
   "source": [
    "**ANSWER**: It will produce `['q', 'u', 'e', 's', 't', 'i', 'o', 'n']` \n",
    "\n",
    "Since `question` is a string, if we interpret it as a sequence each element of it is a character, so during the first iteration `x` is valued `'q'`, during the second `'u'`, during the third `'e'` and so on and so forth. In the expression on the left of the `for` we put only `x`, so as expression result we will obtain the same identical character taken from the original string."
   ]
  },
  {
   "cell_type": "raw",
   "id": "c71bdaad",
   "metadata": {
    "format": "text/html"
   },
   "source": [
    "</div>"
   ]
  },
  {
   "cell_type": "markdown",
   "metadata": {},
   "source": [
    "Let's now suppose to have a list of `animals` and we want to produce another one with the same names as uppercase. We can do it in a compact way with a list comprehension like this:"
   ]
  },
  {
   "cell_type": "code",
   "execution_count": 56,
   "metadata": {
    "colab": {
     "autoexec": {
      "startup": false,
      "wait_interval": 0
     }
    },
    "colab_type": "code",
    "id": "I7fl60rudyTU"
   },
   "outputs": [],
   "source": [
    "animals = ['dogs', 'cats', 'squirrels', 'elks']\n",
    "\n",
    "new_list = [animal.upper() for animal in animals]"
   ]
  },
  {
   "cell_type": "code",
   "execution_count": 57,
   "metadata": {
    "colab": {
     "autoexec": {
      "startup": false,
      "wait_interval": 0
     },
     "base_uri": "https://localhost:8080/",
     "height": 34,
     "output_extras": [
      {
       "item_id": 1
      }
     ]
    },
    "colab_type": "code",
    "executionInfo": {
     "elapsed": 483,
     "status": "ok",
     "timestamp": 1519033974548,
     "user": {
      "displayName": "David Leoni",
      "photoUrl": "https://lh3.googleusercontent.com/a/default-user=s128",
      "userId": "102920557909426557439"
     },
     "user_tz": -60
    },
    "id": "fSywtAYFdgyY",
    "outputId": "f9131bc7-11a0-4cb8-f708-5d101e51d6b1"
   },
   "outputs": [
    {
     "data": {
      "text/plain": [
       "['DOGS', 'CATS', 'SQUIRRELS', 'ELKS']"
      ]
     },
     "execution_count": 57,
     "metadata": {},
     "output_type": "execute_result"
    }
   ],
   "source": [
    "new_list"
   ]
  },
  {
   "cell_type": "markdown",
   "metadata": {},
   "source": [
    "In the left part reserved to the expression we used  the method `.upper()` on the string variable  `animal`. We know strings are immutable, so we're sure the method call produces a NEW string. Let's see what happened with Python Tutor:"
   ]
  },
  {
   "cell_type": "code",
   "execution_count": 58,
   "metadata": {},
   "outputs": [
    {
     "data": {
      "text/html": [
       "\n",
       "        <script src=\"../_static/js/pytutor-embed.bundle.min.js\" type=\"application/javascript\"></script>\n",
       "     \n",
       "        <script id=\"json-jm73995666-f629-41dd-b29f-89383d79b6ed\" type=\"application/json\" >\n",
       "            {\"code\": \" \\nanimals = ['dogs', 'cats', 'squirrels', 'elks']\\n\\nnew_list = [animal.upper() for animal in animals]\", \"trace\": [{\"line\": 2, \"event\": \"step_line\", \"func_name\": \"<module>\", \"globals\": {}, \"ordered_globals\": [], \"stack_to_render\": [], \"heap\": {}, \"stdout\": \"\"}, {\"line\": 4, \"event\": \"step_line\", \"func_name\": \"<module>\", \"globals\": {\"animals\": [\"REF\", 1]}, \"ordered_globals\": [\"animals\"], \"stack_to_render\": [], \"heap\": {\"1\": [\"LIST\", \"dogs\", \"cats\", \"squirrels\", \"elks\"]}, \"stdout\": \"\"}, {\"line\": 4, \"event\": \"call\", \"func_name\": \"<listcomp>\", \"globals\": {\"animals\": [\"REF\", 1]}, \"ordered_globals\": [\"animals\"], \"stack_to_render\": [{\"func_name\": \"<listcomp>\", \"is_parent\": false, \"frame_id\": 1, \"parent_frame_id_list\": [], \"encoded_locals\": {\".0\": [\"REF\", 2]}, \"ordered_varnames\": [\".0\"], \"is_zombie\": false, \"is_highlighted\": true, \"unique_hash\": \"<listcomp>_f1\"}], \"heap\": {\"2\": [\"INSTANCE\", \"list_iterator\"], \"1\": [\"LIST\", \"dogs\", \"cats\", \"squirrels\", \"elks\"]}, \"stdout\": \"\"}, {\"line\": 4, \"event\": \"step_line\", \"func_name\": \"<listcomp>\", \"globals\": {\"animals\": [\"REF\", 1]}, \"ordered_globals\": [\"animals\"], \"stack_to_render\": [{\"func_name\": \"<listcomp>\", \"is_parent\": false, \"frame_id\": 1, \"parent_frame_id_list\": [], \"encoded_locals\": {\".0\": [\"REF\", 2]}, \"ordered_varnames\": [\".0\"], \"is_zombie\": false, \"is_highlighted\": true, \"unique_hash\": \"<listcomp>_f1\"}], \"heap\": {\"2\": [\"INSTANCE\", \"list_iterator\"], \"1\": [\"LIST\", \"dogs\", \"cats\", \"squirrels\", \"elks\"]}, \"stdout\": \"\"}, {\"line\": 4, \"event\": \"step_line\", \"func_name\": \"<listcomp>\", \"globals\": {\"animals\": [\"REF\", 1]}, \"ordered_globals\": [\"animals\"], \"stack_to_render\": [{\"func_name\": \"<listcomp>\", \"is_parent\": false, \"frame_id\": 1, \"parent_frame_id_list\": [], \"encoded_locals\": {\".0\": [\"REF\", 2], \"animal\": \"dogs\"}, \"ordered_varnames\": [\".0\", \"animal\"], \"is_zombie\": false, \"is_highlighted\": true, \"unique_hash\": \"<listcomp>_f1\"}], \"heap\": {\"2\": [\"INSTANCE\", \"list_iterator\"], \"1\": [\"LIST\", \"dogs\", \"cats\", \"squirrels\", \"elks\"]}, \"stdout\": \"\"}, {\"line\": 4, \"event\": \"step_line\", \"func_name\": \"<listcomp>\", \"globals\": {\"animals\": [\"REF\", 1]}, \"ordered_globals\": [\"animals\"], \"stack_to_render\": [{\"func_name\": \"<listcomp>\", \"is_parent\": false, \"frame_id\": 1, \"parent_frame_id_list\": [], \"encoded_locals\": {\".0\": [\"REF\", 2], \"animal\": \"cats\"}, \"ordered_varnames\": [\".0\", \"animal\"], \"is_zombie\": false, \"is_highlighted\": true, \"unique_hash\": \"<listcomp>_f1\"}], \"heap\": {\"2\": [\"INSTANCE\", \"list_iterator\"], \"1\": [\"LIST\", \"dogs\", \"cats\", \"squirrels\", \"elks\"]}, \"stdout\": \"\"}, {\"line\": 4, \"event\": \"step_line\", \"func_name\": \"<listcomp>\", \"globals\": {\"animals\": [\"REF\", 1]}, \"ordered_globals\": [\"animals\"], \"stack_to_render\": [{\"func_name\": \"<listcomp>\", \"is_parent\": false, \"frame_id\": 1, \"parent_frame_id_list\": [], \"encoded_locals\": {\".0\": [\"REF\", 2], \"animal\": \"squirrels\"}, \"ordered_varnames\": [\".0\", \"animal\"], \"is_zombie\": false, \"is_highlighted\": true, \"unique_hash\": \"<listcomp>_f1\"}], \"heap\": {\"2\": [\"INSTANCE\", \"list_iterator\"], \"1\": [\"LIST\", \"dogs\", \"cats\", \"squirrels\", \"elks\"]}, \"stdout\": \"\"}, {\"line\": 4, \"event\": \"step_line\", \"func_name\": \"<listcomp>\", \"globals\": {\"animals\": [\"REF\", 1]}, \"ordered_globals\": [\"animals\"], \"stack_to_render\": [{\"func_name\": \"<listcomp>\", \"is_parent\": false, \"frame_id\": 1, \"parent_frame_id_list\": [], \"encoded_locals\": {\".0\": [\"REF\", 2], \"animal\": \"elks\"}, \"ordered_varnames\": [\".0\", \"animal\"], \"is_zombie\": false, \"is_highlighted\": true, \"unique_hash\": \"<listcomp>_f1\"}], \"heap\": {\"2\": [\"INSTANCE\", \"list_iterator\"], \"1\": [\"LIST\", \"dogs\", \"cats\", \"squirrels\", \"elks\"]}, \"stdout\": \"\"}, {\"line\": 4, \"event\": \"return\", \"func_name\": \"<listcomp>\", \"globals\": {\"animals\": [\"REF\", 1]}, \"ordered_globals\": [\"animals\"], \"stack_to_render\": [{\"func_name\": \"<listcomp>\", \"is_parent\": false, \"frame_id\": 1, \"parent_frame_id_list\": [], \"encoded_locals\": {\".0\": [\"REF\", 2], \"animal\": \"elks\", \"__return__\": [\"REF\", 3]}, \"ordered_varnames\": [\".0\", \"animal\", \"__return__\"], \"is_zombie\": false, \"is_highlighted\": true, \"unique_hash\": \"<listcomp>_f1\"}], \"heap\": {\"2\": [\"INSTANCE\", \"list_iterator\"], \"3\": [\"LIST\", \"DOGS\", \"CATS\", \"SQUIRRELS\", \"ELKS\"], \"1\": [\"LIST\", \"dogs\", \"cats\", \"squirrels\", \"elks\"]}, \"stdout\": \"\"}, {\"line\": 4, \"event\": \"return\", \"func_name\": \"<module>\", \"globals\": {\"animals\": [\"REF\", 1], \"new_list\": [\"REF\", 3]}, \"ordered_globals\": [\"animals\", \"new_list\"], \"stack_to_render\": [], \"heap\": {\"1\": [\"LIST\", \"dogs\", \"cats\", \"squirrels\", \"elks\"], \"3\": [\"LIST\", \"DOGS\", \"CATS\", \"SQUIRRELS\", \"ELKS\"]}, \"stdout\": \"\"}]}\n",
       "        </script>\n",
       "        <div id=\"jm73995666-f629-41dd-b29f-89383d79b6ed\" class=\"pytutorVisualizer\"> </div>\n",
       " \n",
       "        <style>\n",
       "        .vizLayoutTd {\n",
       "            background-color: #fff !important;\n",
       "        }\n",
       "\n",
       "        #pyStdout {            \n",
       "            min-height:25px;\n",
       "        }\n",
       "\n",
       "        /* 'Edit this code' link, hiding because replaces browser tab !!!*/\n",
       "        #editCodeLinkDiv {\n",
       "            display:none;  \n",
       "        }\n",
       "        </style>   \n",
       "                            \n",
       "        <script>\n",
       "        (function(){\n",
       "\n",
       "            var trace = JSON.parse(document.getElementById('json-jm73995666-f629-41dd-b29f-89383d79b6ed').innerHTML);                                        \n",
       "            // NOTE 1: id without #\n",
       "            // NOTE 2 - maybe there are more predictable ways, but this will work anyway\n",
       "            //        - id should be number\n",
       "            visualizerIdOverride = Math.trunc(Math.random() * 100000000000)\n",
       "            addVisualizerToPage(trace, 'jm73995666-f629-41dd-b29f-89383d79b6ed',{'embeddedMode' : false,\n",
       "                                             'visualizerIdOverride':visualizerIdOverride})  \n",
       "            \n",
       "            \n",
       "            // set overflow for pytuts - need to do in python as css \n",
       "            // does not allow parent selection\n",
       "            var pytuts = $('.pytutorVisualizer')\n",
       "            pytuts.closest('div.output_html.rendered_html.output_result')\n",
       "                    .css('overflow-x', 'visible')\n",
       "        \n",
       "            //pytuts.closest('div.output_html.rendered_html.output_result')\n",
       "            //      .css('background-color','red')                \n",
       "            \n",
       "        })()\n",
       "        </script>\n",
       "                \n",
       "                "
      ],
      "text/plain": [
       "<IPython.core.display.HTML object>"
      ]
     },
     "execution_count": 58,
     "metadata": {},
     "output_type": "execute_result"
    }
   ],
   "source": [
    "\n",
    "animals = ['dogs', 'cats', 'squirrels', 'elks']\n",
    "\n",
    "new_list = [animal.upper() for animal in animals]\n",
    "\n",
    "jupman.pytut()\n"
   ]
  },
  {
   "cell_type": "markdown",
   "metadata": {
    "colab_type": "text",
    "id": "G1isjIcitppx"
   },
   "source": [
    "**✪ EXERCISE**: Try writing here a list comprehension to put all characters as lowercase (`.lower()` method)"
   ]
  },
  {
   "cell_type": "raw",
   "id": "54dcd672",
   "metadata": {
    "format": "text/html"
   },
   "source": [
    "<a  class=\"jupman-sol jupman-sol-toggler\" \n",
    " onclick=\"jupman.toggleSolution(this);\" \n",
    " data-jupman-show=\"Show solution\" data-jupman-hide=\"Hide\">Show solution</a><div class=\"jupman-sol jupman-sol-code\" style=\"display:none\">  "
   ]
  },
  {
   "cell_type": "code",
   "execution_count": 59,
   "metadata": {
    "colab": {
     "autoexec": {
      "startup": false,
      "wait_interval": 0
     }
    },
    "colab_type": "code",
    "id": "eoNE416HdIEf"
   },
   "outputs": [
    {
     "data": {
      "text/plain": [
       "['dogs', 'cats', 'squirrels', 'elks']"
      ]
     },
     "execution_count": 59,
     "metadata": {},
     "output_type": "execute_result"
    }
   ],
   "source": [
    "\n",
    "animals = ['doGS', 'caTS', 'SQUIrreLs', 'ELks']\n",
    "\n",
    "# write here\n",
    "\n",
    "[animal.lower() for animal in animals]"
   ]
  },
  {
   "cell_type": "raw",
   "id": "141614eb",
   "metadata": {
    "format": "text/html"
   },
   "source": [
    "</div>"
   ]
  },
  {
   "cell_type": "code",
   "execution_count": 59,
   "metadata": {
    "colab": {
     "autoexec": {
      "startup": false,
      "wait_interval": 0
     }
    },
    "colab_type": "code",
    "id": "eoNE416HdIEf"
   },
   "outputs": [],
   "source": [
    "\n",
    "animals = ['doGS', 'caTS', 'SQUIrreLs', 'ELks']\n",
    "\n",
    "# write here\n",
    "\n"
   ]
  },
  {
   "cell_type": "markdown",
   "metadata": {},
   "source": [
    "## Questions - List comprehensions\n",
    "\n",
    "Look at the following code fragments, and for each try guessing the result it produces (or if it gives an error):\n",
    "\n",
    "\n",
    "1.  ```python\n",
    "    [x for [4,2,5]]\n",
    "    ```\n",
    "1.  ```python\n",
    "    x for x in range(3)\n",
    "    ```\n",
    "1.  ```python\n",
    "    [x for y in 'cartoccio']\n",
    "    ```\n",
    "1.  ```python\n",
    "    [for x in 'zappa']\n",
    "    ```\n",
    "1.  ```python\n",
    "    [for [3,4,5]]\n",
    "    ```    \n",
    "1.  ```python\n",
    "    [k + 1 for k in 'bozza']\n",
    "    ```\n",
    "1.  ```python\n",
    "    [k + 1 for k in range(5)]\n",
    "    ```    \n",
    "1.  ```python\n",
    "    [k > 3 for k in range(7)]\n",
    "    ```\n",
    "1.  ```python\n",
    "    [s + s for s in ['lam','pa','da']]\n",
    "    ```\n",
    "1.  ```python\n",
    "    la = ['x','z','z']\n",
    "    [x for x in la] + [y for y in la]\n",
    "    ```\n",
    "1.  ```python\n",
    "    [x.split('-') for x in ['a-b', 'c-d', 'e-f']]\n",
    "    ```\n",
    "1.  ```python\n",
    "    ['@'.join(x) for x in [['a','b.com'],['c','d.org'],['e','f.net'] ]]\n",
    "    ```    \n",
    "1.  ```python\n",
    "    ['z' for y in 'borgo'].count('z') == len('borgo')\n",
    "    ```    \n",
    "1.  ```python\n",
    "    m = [['a','b'],['c','d'],['e','f'] ]\n",
    "    la = [x.pop() for x in m]   # not advisable - why ?\n",
    "    print(' m:', m)\n",
    "    print('la:',la)    \n",
    "    ```\n",
    "\n"
   ]
  },
  {
   "cell_type": "markdown",
   "metadata": {},
   "source": [
    "## Exercises - list comprehension"
   ]
  },
  {
   "cell_type": "markdown",
   "metadata": {},
   "source": [
    "### Exercise - Bubble bubble\n",
    "\n",
    "✪ Given a list of strings, produce a sequence with all the strings replicated 4 times\n",
    "\n",
    "- INPUT:  `['chewing','gum','bubble']`\n",
    "- OUTPUT: `['chewingchewingchewingchewing', 'gumgumgumgum', 'bubblebubblebubblebubble']`"
   ]
  },
  {
   "cell_type": "raw",
   "id": "cd56df09",
   "metadata": {
    "format": "text/html"
   },
   "source": [
    "<a  class=\"jupman-sol jupman-sol-toggler\" \n",
    " onclick=\"jupman.toggleSolution(this);\" \n",
    " data-jupman-show=\"Show solution\" data-jupman-hide=\"Hide\">Show solution</a><div class=\"jupman-sol jupman-sol-code\" style=\"display:none\">  "
   ]
  },
  {
   "cell_type": "code",
   "execution_count": 60,
   "metadata": {},
   "outputs": [
    {
     "data": {
      "text/plain": [
       "['chewingchewingchewingchewing', 'gumgumgumgum', 'bubblebubblebubblebubble']"
      ]
     },
     "execution_count": 60,
     "metadata": {},
     "output_type": "execute_result"
    }
   ],
   "source": [
    "\n",
    "import math\n",
    "\n",
    "bubble_bubble = ['chewing','gum','bubble']\n",
    "\n",
    "# write here\n",
    "[x*4 for x in bubble_bubble]"
   ]
  },
  {
   "cell_type": "raw",
   "id": "dbac6c11",
   "metadata": {
    "format": "text/html"
   },
   "source": [
    "</div>"
   ]
  },
  {
   "cell_type": "code",
   "execution_count": 60,
   "metadata": {},
   "outputs": [],
   "source": [
    "\n",
    "import math\n",
    "\n",
    "bubble_bubble = ['chewing','gum','bubble']\n",
    "\n",
    "# write here\n",
    "\n"
   ]
  },
  {
   "cell_type": "markdown",
   "metadata": {},
   "source": [
    "### Exercise - root\n",
    "\n",
    "✪ Given a list of numbers, produce a list with the square root of the input numbers\n",
    "\n",
    "- INPUT:  `[16,25,81]`\n",
    "- OUTPUT: `[4.0, 5.0, 9.0]`"
   ]
  },
  {
   "cell_type": "raw",
   "id": "fdcd6723",
   "metadata": {
    "format": "text/html"
   },
   "source": [
    "<a  class=\"jupman-sol jupman-sol-toggler\" \n",
    " onclick=\"jupman.toggleSolution(this);\" \n",
    " data-jupman-show=\"Show solution\" data-jupman-hide=\"Hide\">Show solution</a><div class=\"jupman-sol jupman-sol-code\" style=\"display:none\">  "
   ]
  },
  {
   "cell_type": "code",
   "execution_count": 61,
   "metadata": {},
   "outputs": [
    {
     "data": {
      "text/plain": [
       "[4.0, 5.0, 9.0]"
      ]
     },
     "execution_count": 61,
     "metadata": {},
     "output_type": "execute_result"
    }
   ],
   "source": [
    "\n",
    "import math\n",
    "\n",
    "# write here\n",
    "[math.sqrt(x) for x in [16,25,81]]"
   ]
  },
  {
   "cell_type": "raw",
   "id": "08332237",
   "metadata": {
    "format": "text/html"
   },
   "source": [
    "</div>"
   ]
  },
  {
   "cell_type": "code",
   "execution_count": 61,
   "metadata": {},
   "outputs": [],
   "source": [
    "\n",
    "import math\n",
    "\n",
    "# write here\n",
    "\n"
   ]
  },
  {
   "cell_type": "markdown",
   "metadata": {},
   "source": [
    "### Exercise - When The Telephone Rings\n",
    "\n",
    "✪ Given a list of strings, produce a list with the first characters of each string\n",
    "\n",
    "- INPUT: `['When','The','Telephone','Rings']`\n",
    "- OUTPUT: `['W', 'T', 'T', 'R']`"
   ]
  },
  {
   "cell_type": "raw",
   "id": "84becc5e",
   "metadata": {
    "format": "text/html"
   },
   "source": [
    "<a  class=\"jupman-sol jupman-sol-toggler\" \n",
    " onclick=\"jupman.toggleSolution(this);\" \n",
    " data-jupman-show=\"Show solution\" data-jupman-hide=\"Hide\">Show solution</a><div class=\"jupman-sol jupman-sol-code\" style=\"display:none\">  "
   ]
  },
  {
   "cell_type": "code",
   "execution_count": 62,
   "metadata": {},
   "outputs": [
    {
     "data": {
      "text/plain": [
       "['W', 'T', 'T', 'R']"
      ]
     },
     "execution_count": 62,
     "metadata": {},
     "output_type": "execute_result"
    }
   ],
   "source": [
    "\n",
    "# write here\n",
    "[x[0] for x in ['When','The','Telephone','Rings']]"
   ]
  },
  {
   "cell_type": "raw",
   "id": "4934657d",
   "metadata": {
    "format": "text/html"
   },
   "source": [
    "</div>"
   ]
  },
  {
   "cell_type": "code",
   "execution_count": 62,
   "metadata": {},
   "outputs": [],
   "source": [
    "\n",
    "# write here\n",
    "\n"
   ]
  },
  {
   "cell_type": "markdown",
   "metadata": {},
   "source": [
    "### Exercise - don't worry\n",
    "\n",
    "✪ Given a list of strings, produce a list with the lengths of all the lists\n",
    "\n",
    "- INPUT: `[\"don't\", 'worry','and', 'be','happy']`\n",
    "- OUTPUT: `[5, 5, 3, 2, 5]`"
   ]
  },
  {
   "cell_type": "raw",
   "id": "b69e4988",
   "metadata": {
    "format": "text/html"
   },
   "source": [
    "<a  class=\"jupman-sol jupman-sol-toggler\" \n",
    " onclick=\"jupman.toggleSolution(this);\" \n",
    " data-jupman-show=\"Show solution\" data-jupman-hide=\"Hide\">Show solution</a><div class=\"jupman-sol jupman-sol-code\" style=\"display:none\">  "
   ]
  },
  {
   "cell_type": "code",
   "execution_count": 63,
   "metadata": {},
   "outputs": [
    {
     "data": {
      "text/plain": [
       "[5, 5, 3, 2, 5]"
      ]
     },
     "execution_count": 63,
     "metadata": {},
     "output_type": "execute_result"
    }
   ],
   "source": [
    "\n",
    "# write here\n",
    "[len(x) for x in [\"don't\", 'worry','and', 'be','happy']]"
   ]
  },
  {
   "cell_type": "raw",
   "id": "cfdddda6",
   "metadata": {
    "format": "text/html"
   },
   "source": [
    "</div>"
   ]
  },
  {
   "cell_type": "code",
   "execution_count": 63,
   "metadata": {},
   "outputs": [],
   "source": [
    "\n",
    "# write here\n",
    "\n"
   ]
  },
  {
   "cell_type": "markdown",
   "metadata": {},
   "source": [
    "### Exercise -  greater than 3\n",
    "\n",
    "✪ Given a list of numbers, produce a list with `True` if the corresponding element is greater than `3`, `False` otherwise\n",
    "\n",
    "* INPUT:  `[4,1,0,5,0,9,1]`\n",
    "* OUTPUT: `[True, False, False, True, False, True, False]`"
   ]
  },
  {
   "cell_type": "raw",
   "id": "10e7e894",
   "metadata": {
    "format": "text/html"
   },
   "source": [
    "<a  class=\"jupman-sol jupman-sol-toggler\" \n",
    " onclick=\"jupman.toggleSolution(this);\" \n",
    " data-jupman-show=\"Show solution\" data-jupman-hide=\"Hide\">Show solution</a><div class=\"jupman-sol jupman-sol-code\" style=\"display:none\">  "
   ]
  },
  {
   "cell_type": "code",
   "execution_count": 64,
   "metadata": {},
   "outputs": [
    {
     "data": {
      "text/plain": [
       "[True, False, False, True, False, True, False]"
      ]
     },
     "execution_count": 64,
     "metadata": {},
     "output_type": "execute_result"
    }
   ],
   "source": [
    "\n",
    "# write here\n",
    "[x > 3 for x in [4,1,0,5,0,9,1]]"
   ]
  },
  {
   "cell_type": "raw",
   "id": "00b4e351",
   "metadata": {
    "format": "text/html"
   },
   "source": [
    "</div>"
   ]
  },
  {
   "cell_type": "code",
   "execution_count": 64,
   "metadata": {},
   "outputs": [],
   "source": [
    "\n",
    "# write here\n",
    "\n"
   ]
  },
  {
   "cell_type": "markdown",
   "metadata": {},
   "source": [
    "### Exercise - even\n",
    "\n",
    "✪ Given a list of numbers, produce a list with `True` if the corresponding element is even\n",
    "\n",
    "* INPUT:  `[3,2,4,1,5,3,2,9]`\n",
    "* OUTPUT: `[False, True, True, False, False, False, True, False]`"
   ]
  },
  {
   "cell_type": "raw",
   "id": "e3108624",
   "metadata": {
    "format": "text/html"
   },
   "source": [
    "<a  class=\"jupman-sol jupman-sol-toggler\" \n",
    " onclick=\"jupman.toggleSolution(this);\" \n",
    " data-jupman-show=\"Show solution\" data-jupman-hide=\"Hide\">Show solution</a><div class=\"jupman-sol jupman-sol-code\" style=\"display:none\">  "
   ]
  },
  {
   "cell_type": "code",
   "execution_count": 65,
   "metadata": {},
   "outputs": [
    {
     "data": {
      "text/plain": [
       "[False, True, True, False, False, False, True, False]"
      ]
     },
     "execution_count": 65,
     "metadata": {},
     "output_type": "execute_result"
    }
   ],
   "source": [
    "\n",
    "# write here\n",
    "[x % 2 == 0 for x in [3,2,4,1,5,3,2,9]]"
   ]
  },
  {
   "cell_type": "raw",
   "id": "7b8ff6b1",
   "metadata": {
    "format": "text/html"
   },
   "source": [
    "</div>"
   ]
  },
  {
   "cell_type": "code",
   "execution_count": 65,
   "metadata": {},
   "outputs": [],
   "source": [
    "\n",
    "# write here\n",
    "\n"
   ]
  },
  {
   "cell_type": "markdown",
   "metadata": {},
   "source": [
    "### Exercise - both ends\n",
    "\n",
    "✪ Given a list of strings having at least two characters each, produce a list of strings with the first and last characters of each\n",
    "\n",
    "* INPUT: `['departing', 'for', 'the', 'battlefront']`\n",
    "* OUTPUT: `['dg', 'fr', 'te', 'bt']`"
   ]
  },
  {
   "cell_type": "raw",
   "id": "e34f58c8",
   "metadata": {
    "format": "text/html"
   },
   "source": [
    "<a  class=\"jupman-sol jupman-sol-toggler\" \n",
    " onclick=\"jupman.toggleSolution(this);\" \n",
    " data-jupman-show=\"Show solution\" data-jupman-hide=\"Hide\">Show solution</a><div class=\"jupman-sol jupman-sol-code\" style=\"display:none\">  "
   ]
  },
  {
   "cell_type": "code",
   "execution_count": 66,
   "metadata": {},
   "outputs": [
    {
     "data": {
      "text/plain": [
       "['dg', 'fr', 'te', 'bt']"
      ]
     },
     "execution_count": 66,
     "metadata": {},
     "output_type": "execute_result"
    }
   ],
   "source": [
    "\n",
    "# write here\n",
    "[x[0] + x[-1] for x in ['departing', 'for', 'the', 'battlefront']]"
   ]
  },
  {
   "cell_type": "raw",
   "id": "357e5fcf",
   "metadata": {
    "format": "text/html"
   },
   "source": [
    "</div>"
   ]
  },
  {
   "cell_type": "code",
   "execution_count": 66,
   "metadata": {},
   "outputs": [],
   "source": [
    "\n",
    "# write here\n",
    "\n"
   ]
  },
  {
   "cell_type": "markdown",
   "metadata": {},
   "source": [
    "### Exercise - dashes\n",
    "\n",
    "✪ Given a list of lists of characters, produce a list of strings with characters separated by dashes\n",
    "\n",
    "* INPUT: `[['a','b'],['c','d','e'], ['f','g']]`\n",
    "* OUTPUT: `['a-b', 'c-d-e', 'f-g']`"
   ]
  },
  {
   "cell_type": "raw",
   "id": "6efb2208",
   "metadata": {
    "format": "text/html"
   },
   "source": [
    "<a  class=\"jupman-sol jupman-sol-toggler\" \n",
    " onclick=\"jupman.toggleSolution(this);\" \n",
    " data-jupman-show=\"Show solution\" data-jupman-hide=\"Hide\">Show solution</a><div class=\"jupman-sol jupman-sol-code\" style=\"display:none\">  "
   ]
  },
  {
   "cell_type": "code",
   "execution_count": 67,
   "metadata": {},
   "outputs": [
    {
     "data": {
      "text/plain": [
       "['a-b', 'c-d-e', 'f-g']"
      ]
     },
     "execution_count": 67,
     "metadata": {},
     "output_type": "execute_result"
    }
   ],
   "source": [
    "\n",
    "# write here\n",
    "['-'.join(x) for x in [['a','b'],['c','d','e'], ['f','g']]]"
   ]
  },
  {
   "cell_type": "raw",
   "id": "af126e11",
   "metadata": {
    "format": "text/html"
   },
   "source": [
    "</div>"
   ]
  },
  {
   "cell_type": "code",
   "execution_count": 67,
   "metadata": {},
   "outputs": [],
   "source": [
    "\n",
    "# write here\n",
    "\n"
   ]
  },
  {
   "cell_type": "markdown",
   "metadata": {},
   "source": [
    "### Exercise -  lollosa\n",
    "\n",
    "✪ Given a string `s`, produce a list of tuples having for each character the number of occurrences of that character in the string\n",
    "\n",
    "* INPUT: `s = 'lollosa'`\n",
    "* OUTPUT: `[('l', 3), ('o', 2), ('l', 3), ('l', 3), ('o', 2), ('s', 1), ('a', 1)]`"
   ]
  },
  {
   "cell_type": "raw",
   "id": "ddbf27c8",
   "metadata": {
    "format": "text/html"
   },
   "source": [
    "<a  class=\"jupman-sol jupman-sol-toggler\" \n",
    " onclick=\"jupman.toggleSolution(this);\" \n",
    " data-jupman-show=\"Show solution\" data-jupman-hide=\"Hide\">Show solution</a><div class=\"jupman-sol jupman-sol-code\" style=\"display:none\">  "
   ]
  },
  {
   "cell_type": "code",
   "execution_count": 68,
   "metadata": {},
   "outputs": [
    {
     "data": {
      "text/plain": [
       "[('l', 3), ('o', 2), ('l', 3), ('l', 3), ('o', 2), ('s', 1), ('a', 1)]"
      ]
     },
     "execution_count": 68,
     "metadata": {},
     "output_type": "execute_result"
    }
   ],
   "source": [
    "\n",
    "s = 'lollosa'\n",
    "# write here\n",
    "[(car, s.count(car)) for car in s]"
   ]
  },
  {
   "cell_type": "raw",
   "id": "53c97576",
   "metadata": {
    "format": "text/html"
   },
   "source": [
    "</div>"
   ]
  },
  {
   "cell_type": "code",
   "execution_count": 68,
   "metadata": {},
   "outputs": [],
   "source": [
    "\n",
    "s = 'lollosa'\n",
    "# write here\n",
    "\n"
   ]
  },
  {
   "cell_type": "markdown",
   "metadata": {},
   "source": [
    "### Exercise - dog cat\n",
    "\n",
    "✪ Given a list of strings of at least two characters each, produce a list with the strings without intial and final characters\n",
    "\n",
    "* INPUT: `['donkey','eagle','ox', 'dog' ]`\n",
    "* OUTPUT: `['onke', 'agl', '', 'o']`"
   ]
  },
  {
   "cell_type": "raw",
   "id": "0386147a",
   "metadata": {
    "format": "text/html"
   },
   "source": [
    "<a  class=\"jupman-sol jupman-sol-toggler\" \n",
    " onclick=\"jupman.toggleSolution(this);\" \n",
    " data-jupman-show=\"Show solution\" data-jupman-hide=\"Hide\">Show solution</a><div class=\"jupman-sol jupman-sol-code\" style=\"display:none\">  "
   ]
  },
  {
   "cell_type": "code",
   "execution_count": 69,
   "metadata": {},
   "outputs": [
    {
     "data": {
      "text/plain": [
       "['onke', 'agl', '', 'o']"
      ]
     },
     "execution_count": 69,
     "metadata": {},
     "output_type": "execute_result"
    }
   ],
   "source": [
    "\n",
    "# write here\n",
    "[x[1:-1] for x in ['donkey','eagle','ox', 'dog' ]]"
   ]
  },
  {
   "cell_type": "raw",
   "id": "33828807",
   "metadata": {
    "format": "text/html"
   },
   "source": [
    "</div>"
   ]
  },
  {
   "cell_type": "code",
   "execution_count": 69,
   "metadata": {},
   "outputs": [],
   "source": [
    "\n",
    "# write here\n",
    "\n"
   ]
  },
  {
   "cell_type": "markdown",
   "metadata": {},
   "source": [
    "### Exercise - smurfs\n",
    "\n",
    "✪ Given some names produce a list with the names sorted alphabetically and all in uppercase\n",
    "\n",
    "* INPUT: `['Brainy', 'Hefty', 'Smurfette', 'Clumsy']`\n",
    "* OUTPUT: `['BRAINY', 'CLUMSY', 'HEFTY', 'SMURFETTE']`"
   ]
  },
  {
   "cell_type": "raw",
   "id": "1e43ea4b",
   "metadata": {
    "format": "text/html"
   },
   "source": [
    "<a  class=\"jupman-sol jupman-sol-toggler\" \n",
    " onclick=\"jupman.toggleSolution(this);\" \n",
    " data-jupman-show=\"Show solution\" data-jupman-hide=\"Hide\">Show solution</a><div class=\"jupman-sol jupman-sol-code\" style=\"display:none\">  "
   ]
  },
  {
   "cell_type": "code",
   "execution_count": 70,
   "metadata": {},
   "outputs": [
    {
     "data": {
      "text/plain": [
       "['BRAINY', 'CLUMSY', 'HEFTY', 'SMURFETTE']"
      ]
     },
     "execution_count": 70,
     "metadata": {},
     "output_type": "execute_result"
    }
   ],
   "source": [
    "\n",
    "# write here\n",
    "[x.upper() for x in sorted(['Brainy', 'Hefty', 'Smurfette', 'Clumsy'])]"
   ]
  },
  {
   "cell_type": "raw",
   "id": "7a1fa7cb",
   "metadata": {
    "format": "text/html"
   },
   "source": [
    "</div>"
   ]
  },
  {
   "cell_type": "code",
   "execution_count": 70,
   "metadata": {},
   "outputs": [],
   "source": [
    "\n",
    "# write here\n",
    "\n"
   ]
  },
  {
   "cell_type": "markdown",
   "metadata": {},
   "source": [
    "### Exercise - precious metals\n",
    "\n",
    "✪ Given two lists `values` and `metals` produce a list containing all the couples value-metal as tuples\n",
    "\n",
    "INPUT: \n",
    "```python\n",
    "values = [10,25,50]\n",
    "metals = ['silver','gold','platinum']\n",
    "```\n",
    "\n",
    "OUTPUT: `[(10, 'silver'), (25, 'gold'), (50, 'platinum')]`"
   ]
  },
  {
   "cell_type": "raw",
   "id": "034d3a73",
   "metadata": {
    "format": "text/html"
   },
   "source": [
    "<a  class=\"jupman-sol jupman-sol-toggler\" \n",
    " onclick=\"jupman.toggleSolution(this);\" \n",
    " data-jupman-show=\"Show solution\" data-jupman-hide=\"Hide\">Show solution</a><div class=\"jupman-sol jupman-sol-code\" style=\"display:none\">  "
   ]
  },
  {
   "cell_type": "code",
   "execution_count": 71,
   "metadata": {},
   "outputs": [
    {
     "data": {
      "text/plain": [
       "[(10, 'silver'), (25, 'gold'), (50, 'platinum')]"
      ]
     },
     "execution_count": 71,
     "metadata": {},
     "output_type": "execute_result"
    }
   ],
   "source": [
    "\n",
    "values = [10,25,50]\n",
    "metals = ['silver','gold','platinum']\n",
    "\n",
    "# write here\n",
    "list(zip(values, metals))"
   ]
  },
  {
   "cell_type": "raw",
   "id": "576e284b",
   "metadata": {
    "format": "text/html"
   },
   "source": [
    "</div>"
   ]
  },
  {
   "cell_type": "code",
   "execution_count": 71,
   "metadata": {},
   "outputs": [],
   "source": [
    "\n",
    "values = [10,25,50]\n",
    "metals = ['silver','gold','platinum']\n",
    "\n",
    "# write here\n",
    "\n"
   ]
  },
  {
   "cell_type": "markdown",
   "metadata": {},
   "source": [
    "## Filtered list comprehensions\n",
    "\n",
    "During the construction of a list comprehension we can filter the elements taken from the sequence by using an `if`. For example, the following expression takes from the sequence only numbers greater than `5`:"
   ]
  },
  {
   "cell_type": "code",
   "execution_count": 72,
   "metadata": {},
   "outputs": [
    {
     "data": {
      "text/plain": [
       "[7, 8, 9]"
      ]
     },
     "execution_count": 72,
     "metadata": {},
     "output_type": "execute_result"
    }
   ],
   "source": [
    "[x for x in [7,4,8,2,9] if x > 5]"
   ]
  },
  {
   "cell_type": "markdown",
   "metadata": {},
   "source": [
    "After the `if` we can put any expression which reuses the variable on which we are iterating, for example if we are iterating a string we can keep only the uppercase characters:"
   ]
  },
  {
   "cell_type": "code",
   "execution_count": 73,
   "metadata": {},
   "outputs": [
    {
     "data": {
      "text/plain": [
       "['T', 'W', 'G', 'R']"
      ]
     },
     "execution_count": 73,
     "metadata": {},
     "output_type": "execute_result"
    }
   ],
   "source": [
    "[x for x in 'The World Goes Round' if x.isupper()]"
   ]
  },
  {
   "cell_type": "markdown",
   "metadata": {},
   "source": [
    "<div class=\"alert alert-warning\">\n",
    "\n",
    "**WARNING:** `else` **is not supported**\n",
    "   \n",
    "</div>"
   ]
  },
  {
   "cell_type": "markdown",
   "metadata": {},
   "source": [
    "For example, writing this generates an error:\n",
    "    \n",
    "```python\n",
    "[x for x in [7,4,8,2,9] if x > 5 else x + 1]   # WRONG!\n",
    "\n",
    "File \"<ipython-input-74-9ba5c135c58c>\", line 1\n",
    "    [x for x in [7,4,8,2,9] if x > 5 else x + 1]\n",
    "                                        ^\n",
    "SyntaxError: invalid syntax\n",
    "\n",
    "```\n"
   ]
  },
  {
   "cell_type": "markdown",
   "metadata": {},
   "source": [
    "\n",
    "## Questions - filtered list comprehensions\n",
    "\n",
    "Look at the following code fragments, and for each try guessing the result it produces (or if it gives an error):\n",
    "\n",
    "\n",
    "1.  ```python\n",
    "    [x for x in range(100) if False]\n",
    "    ```\n",
    "1.  ```python\n",
    "    [x for x in range(3) if True]\n",
    "    ```\n",
    "1.  ```python\n",
    "    [x for x in range(6) if x > 3 else 55]\n",
    "    ```\n",
    "1.  ```python\n",
    "    [x for x in range(6) if x % 2 == 0]\n",
    "    ```\n",
    "1.  ```python\n",
    "    [x for x in {'a','b','c'}]  # careful about ordering\n",
    "    ```\n",
    "1.  ```python\n",
    "    [x for x in [[5], [2,3], [4,2,3], [4]] if len(x) > 2]  \n",
    "    ```\n",
    "1.  ```python\n",
    "    [(x,x) for x in 'xyxyxxy' if x != 'x' ]\n",
    "    ```\n",
    "1.  ```python\n",
    "    [x for x in ['abCdEFg'] if x.upper() == x]\n",
    "    ```\n",
    "1.  ```python\n",
    "    la = [1,2,3,4,5]\n",
    "    [x for x in la if x > la[len(la)//2]]\n",
    "    ```\n"
   ]
  },
  {
   "cell_type": "markdown",
   "metadata": {},
   "source": [
    "## Exercises - filtered list comprehensions"
   ]
  },
  {
   "cell_type": "markdown",
   "metadata": {},
   "source": [
    "### Exercise - savannah\n",
    "\n",
    "Given a list of strings, produce a list with only the strings of length greater than 6:\n",
    "\n",
    "* INPUT: `['zebra', 'leopard', 'giraffe', 'gnu', 'rhinoceros', 'lion']`\n",
    "* OUTPUT: `['leopard', 'giraffe', 'rhinoceros']`"
   ]
  },
  {
   "cell_type": "raw",
   "id": "445d69ba",
   "metadata": {
    "format": "text/html"
   },
   "source": [
    "<a  class=\"jupman-sol jupman-sol-toggler\" \n",
    " onclick=\"jupman.toggleSolution(this);\" \n",
    " data-jupman-show=\"Show solution\" data-jupman-hide=\"Hide\">Show solution</a><div class=\"jupman-sol jupman-sol-code\" style=\"display:none\">  "
   ]
  },
  {
   "cell_type": "code",
   "execution_count": 74,
   "metadata": {},
   "outputs": [
    {
     "data": {
      "text/plain": [
       "['leopard', 'giraffe', 'rhinoceros']"
      ]
     },
     "execution_count": 74,
     "metadata": {},
     "output_type": "execute_result"
    }
   ],
   "source": [
    "\n",
    "# write here\n",
    "[x for x in ['zebra', 'leopard', 'giraffe', 'gnu', 'rhinoceros', 'lion'] if len(x) > 6]"
   ]
  },
  {
   "cell_type": "raw",
   "id": "9808703c",
   "metadata": {
    "format": "text/html"
   },
   "source": [
    "</div>"
   ]
  },
  {
   "cell_type": "code",
   "execution_count": 74,
   "metadata": {},
   "outputs": [],
   "source": [
    "\n",
    "# write here\n",
    "\n"
   ]
  },
  {
   "cell_type": "markdown",
   "metadata": {},
   "source": [
    "### Exercise - puZZled\n",
    "\n",
    "Given a list of strings, produce a list with only the strings which contain at least a `'z'`. The selected strings must be transformed so to place the `Z` in uppercase.\n",
    "\n",
    "* INPUT: `['puzzled', 'park','Aztec', 'run', 'mask', 'zodiac']`\n",
    "* OUTPUT: `['puZZled', 'AZtec', 'Zodiac']`"
   ]
  },
  {
   "cell_type": "code",
   "execution_count": 75,
   "metadata": {
    "scrolled": true
   },
   "outputs": [],
   "source": [
    "\n",
    "[x.replace('z','Z') for x in ['puzzled', 'park','Aztec', 'run', 'mask', 'zodiac'] if 'z' in  x]"
   ]
  },
  {
   "cell_type": "markdown",
   "metadata": {},
   "source": [
    "\n",
    "## Exercise - Data science\n",
    "\n",
    "Produce a string with the words of the input string alternated uppercase / lowercase\n",
    "\n",
    "* INPUT: "
   ]
  },
  {
   "cell_type": "code",
   "execution_count": 76,
   "metadata": {},
   "outputs": [],
   "source": [
    "phrase = \"\"\"Data science is an interdisciplinary field \n",
    "that uses scientific methods, processes, algorithms and systems\n",
    "to extract knowledge and insights from noisy, structured \n",
    "and unstructured data, and apply knowledge and actionable insights\n",
    "from data across a broad range of application domains.\"\"\""
   ]
  },
  {
   "cell_type": "markdown",
   "metadata": {},
   "source": [
    "* OUTPUT (only one line):\n",
    "```\n",
    "DATA science IS an INTERDISCIPLINARY field THAT uses SCIENTIFIC methods, PROCESSES, algorithms AND systems TO extract KNOWLEDGE and INSIGHTS from NOISY, structured AND unstructured DATA, and APPLY knowledge AND actionable INSIGHTS from DATA across A broad RANGE of APPLICATION domains.\n",
    "```\n",
    "\n",
    "✪✪✪ **WRITE** ONLY ONE code line\n",
    "\n",
    "✪✪✪✪ **USE** ONLY ONE list comprehension"
   ]
  },
  {
   "cell_type": "raw",
   "id": "c184bf71",
   "metadata": {
    "format": "text/html"
   },
   "source": [
    "<a  class=\"jupman-sol jupman-sol-toggler\" \n",
    " onclick=\"jupman.toggleSolution(this);\" \n",
    " data-jupman-show=\"Show solution\" data-jupman-hide=\"Hide\">Show solution</a><div class=\"jupman-sol jupman-sol-code\" style=\"display:none\">  "
   ]
  },
  {
   "cell_type": "code",
   "execution_count": 77,
   "metadata": {},
   "outputs": [
    {
     "name": "stdout",
     "output_type": "stream",
     "text": [
      "DATA science IS an INTERDISCIPLINARY field THAT uses SCIENTIFIC methods, PROCESSES, algorithms AND systems TO extract KNOWLEDGE and INSIGHTS from NOISY, structured AND unstructured DATA, and APPLY knowledge AND actionable INSIGHTS from DATA across A broad RANGE of APPLICATION domains.\n"
     ]
    }
   ],
   "source": [
    "\n",
    "phrase = \"\"\"Data science is an interdisciplinary field \n",
    "that uses scientific methods, processes, algorithms and systems\n",
    "to extract knowledge and insights from noisy, structured \n",
    "and unstructured data, and apply knowledge and actionable insights\n",
    "from data across a broad range of application domains.\"\"\"\n",
    "\n",
    "# write here\n",
    "\n",
    "print(' '.join(\n",
    "    [t[0].upper() + ' ' + t[1] for t in  zip(phrase.split()[::2], phrase.split()[1::2])]))\n",
    "\n",
    "# or\n",
    "#print(' '.join([phrase.split()[i].upper() + ' ' + phrase.split()[i + 1] for i in range(0,len(phrase.split())-1,2)]))"
   ]
  },
  {
   "cell_type": "raw",
   "id": "22e68835",
   "metadata": {
    "format": "text/html"
   },
   "source": [
    "</div>"
   ]
  },
  {
   "cell_type": "code",
   "execution_count": 77,
   "metadata": {},
   "outputs": [],
   "source": [
    "\n",
    "phrase = \"\"\"Data science is an interdisciplinary field \n",
    "that uses scientific methods, processes, algorithms and systems\n",
    "to extract knowledge and insights from noisy, structured \n",
    "and unstructured data, and apply knowledge and actionable insights\n",
    "from data across a broad range of application domains.\"\"\"\n",
    "\n",
    "# write here\n",
    "\n"
   ]
  },
  {
   "cell_type": "markdown",
   "metadata": {},
   "source": [
    "\n",
    "## Continue\n",
    "\n",
    "Go on with the [challenges](https://en.softpython.org/sequences/sequences2-chal.html)"
   ]
  },
  {
   "cell_type": "code",
   "execution_count": null,
   "metadata": {},
   "outputs": [],
   "source": []
  }
 ],
 "metadata": {
  "kernelspec": {
   "display_name": "Python 3 (ipykernel)",
   "language": "python",
   "name": "python3"
  },
  "language_info": {
   "codemirror_mode": {
    "name": "ipython",
    "version": 3
   },
   "file_extension": ".py",
   "mimetype": "text/x-python",
   "name": "python",
   "nbconvert_exporter": "python",
   "pygments_lexer": "ipython3",
   "version": "3.7.10"
  },
  "toc": {
   "base_numbering": 1,
   "nav_menu": {},
   "number_sections": false,
   "sideBar": true,
   "skip_h1_title": false,
   "title_cell": "Table of Contents",
   "title_sidebar": "Contents",
   "toc_cell": false,
   "toc_position": {
    "height": "calc(100% - 180px)",
    "left": "10px",
    "top": "150px",
    "width": "280px"
   },
   "toc_section_display": true,
   "toc_window_display": true
  }
 },
 "nbformat": 4,
 "nbformat_minor": 2
}
