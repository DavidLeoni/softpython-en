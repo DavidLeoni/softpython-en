{
 "cells": [
  {
   "cell_type": "markdown",
   "id": "worst-going",
   "metadata": {},
   "source": [
    "# while loops 8 - Challenges\n",
    "\n",
    "## [Download exercises zip](../_static/generated/while.zip)\n",
    "\n",
    "[Browse file online](https://github.com/DavidLeoni/softpython-en/tree/master/while)"
   ]
  },
  {
   "cell_type": "markdown",
   "id": "impossible-cambodia",
   "metadata": {},
   "source": [
    "We now propose some exercises without solution, do you accept the challenge?"
   ]
  },
  {
   "cell_type": "markdown",
   "id": "686e61f4",
   "metadata": {},
   "source": [
    "## Challenge - Consecutive letters\n",
    "\n",
    "✪✪ You are given a list of characters `la`. Write some code to discover the first letter which has a duplicate in the immediately next position.\n",
    "\n",
    "* **USE** a `while` loop\n",
    "* **STOP** as soon as you find a couple \n",
    "* **DO NOT** use `break`\n",
    "* **DO NOT** use search methods (so no `.index`, `.find`, nor strange string stuff like `.replace` ....)\n",
    "\n",
    "Example 1 - given:\n",
    "\n",
    "```python\n",
    "la = ['a','b','c','a','c','f','f','g','h','i','i','f','f','f','m']  # f 5\n",
    "```\n",
    "\n",
    "your code should output:\n",
    "\n",
    "```\n",
    "FOUND f at position 5\n",
    "\n",
    "```\n",
    "\n",
    "Example 2 - given:\n",
    "\n",
    "```python\n",
    "la = ['c','b','a', 'b']\n",
    "```\n",
    "\n",
    "your code should output \n",
    "\n",
    "```\n",
    "DIDN'T FIND COUPLES!\n",
    "```"
   ]
  },
  {
   "cell_type": "code",
   "execution_count": 1,
   "id": "eb9df1ac-stripped",
   "metadata": {},
   "outputs": [],
   "source": [
    "\n",
    " \n",
    "la = ['a','b','c','a','c','f','f','g','h','i','i','f','f','f','m']  # f 5\n",
    "#la = ['a'] # nothing\n",
    "#la = ['a', 'a'] # a 0\n",
    "#la = ['a','b', 'a', 'a'] # a 2\n",
    "#la = ['b', 'b', 'a'] # b 0\n",
    "#la = ['c','b','a', 'b']  # nothing\n",
    "#la = ['a','c','b','b','b']  # b 2\n",
    "    \n",
    "# write here\n",
    "\n"
   ]
  },
  {
   "cell_type": "markdown",
   "id": "969a6a39",
   "metadata": {},
   "source": [
    "## Challenge - Failed casinos \n",
    "\n",
    "✪✪✪ Casinos can make big money.... or fail big. You are asked to collect the giant characters from the falling billboards of some `casinos` which went bankrupt. \n",
    "\n",
    "Your `truck` has only space to hold `capacity` characters. Visit `casinos` list **from last to first** order.\n",
    "\n",
    "Write some code to:\n",
    "\n",
    "* MODIFY `truck` list until it is filled with `capacity` characters\n",
    "* MODIFY `casinos` removing ONLY the characters which were taken\n",
    "\n",
    "Be careful:\n",
    "\n",
    "* **USE** a `while` loop\n",
    "* **STOP** as soon as you reach `capacity`\n",
    "* **DO NOT** use `break`\n",
    "* **DO NOT** use search methods (so no `.index`, `.find`, weird string stuff...)\n",
    "\n",
    "Example - given:\n",
    "\n",
    "```python\n",
    "truck    = []\n",
    "capacity = 20\n",
    "casinos  = ['The Claridge Hotel', 'Atlantic club', 'Camelot Hotel', 'Showboat','Le Jardin', 'The Sands']\n",
    "```\n",
    "\n",
    "it should print:\n",
    "\n",
    "```\n",
    "Found The Sands\n",
    "  Collecting characters \"The Sands\"\n",
    "Found Le Jardin\n",
    "  Collecting characters \"Le Jardin\"\n",
    "Found Showboat\n",
    "  Collecting characters \"Sh\"\n",
    "Collected 20 characters\n",
    "\n",
    "truck variable is:\n",
    "['T', 'h', 'e', ' ', 'S', 'a', 'n', 'd', 's', 'L', 'e', ' ', 'J', 'a', 'r', 'd', 'i', 'n', 'S', 'h']\n",
    "\n",
    "casinos variable is:\n",
    "['The Claridge Hotel', 'Atlantic club', 'Camelot Hotel', 'owboat']\n",
    "```\n",
    "\n",
    "**NOTICE** the `'S','h'` at the end of `truck` and the missing `Sh` at the end of `casinos`"
   ]
  },
  {
   "cell_type": "code",
   "execution_count": 2,
   "id": "f67fc9fa-stripped",
   "metadata": {},
   "outputs": [],
   "source": [
    "\n",
    "\n",
    "truck = []\n",
    "capacity = 20\n",
    "\n",
    "casinos = ['The Claridge Hotel', 'Atlantic club', 'Camelot Hotel', 'Showboat','Le Jardin', 'The Sands']\n",
    "#capacity, casinos = 5, ['Regency Hotel']   # truck: ['R', 'e', 'g', 'e', 'n'] casinos: ['cy Hotel']\n",
    "#capacity, casinos = 2, ['a','b','c']           # truck:  ['c','b']  casinos: ['a']\n",
    "\n",
    "\n",
    "# write here\n",
    "\n"
   ]
  },
  {
   "cell_type": "code",
   "execution_count": 3,
   "id": "nasty-sampling-stripped",
   "metadata": {
    "nbsphinx": "hidden"
   },
   "outputs": [],
   "source": []
  },
  {
   "cell_type": "code",
   "execution_count": null,
   "id": "9d5df168",
   "metadata": {},
   "outputs": [],
   "source": []
  }
 ],
 "metadata": {
  "kernelspec": {
   "display_name": "Python 3 (ipykernel)",
   "language": "python",
   "name": "python3"
  },
  "language_info": {
   "codemirror_mode": {
    "name": "ipython",
    "version": 3
   },
   "file_extension": ".py",
   "mimetype": "text/x-python",
   "name": "python",
   "nbconvert_exporter": "python",
   "pygments_lexer": "ipython3",
   "version": "3.7.10"
  },
  "toc": {
   "base_numbering": 1,
   "nav_menu": {},
   "number_sections": false,
   "sideBar": true,
   "skip_h1_title": false,
   "title_cell": "Table of Contents",
   "title_sidebar": "Contents",
   "toc_cell": false,
   "toc_position": {
    "height": "calc(100% - 180px)",
    "left": "10px",
    "top": "150px",
    "width": "280.2px"
   },
   "toc_section_display": true,
   "toc_window_display": true
  }
 },
 "nbformat": 4,
 "nbformat_minor": 5
}
