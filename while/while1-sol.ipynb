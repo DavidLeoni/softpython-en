{
 "cells": [
  {
   "cell_type": "code",
   "execution_count": 1,
   "metadata": {
    "nbsphinx": "hidden"
   },
   "outputs": [],
   "source": [
    "# Remember to execute this cell with Shift+Enter\n",
    "import jupman"
   ]
  },
  {
   "cell_type": "markdown",
   "metadata": {},
   "source": [
    "# While loops\n",
    "\n",
    "## [Download exercises zip](../_static/generated/while.zip)\n",
    "\n",
    "[Browse online files](https://github.com/DavidLeoni/softpython-en/tree/master/while)"
   ]
  },
  {
   "cell_type": "markdown",
   "metadata": {},
   "source": [
    "Let's see how to repeat instructions by executing them inside `while` loops.\n",
    "\n",
    "The main feature of `while` loop is allowing to explicitly control when the loop should end. Typically, such loops are used when we must _iterate_ on a sequence of which we don't know the dimension, or it can vary over time, or several conditions might determine the cycle stop."
   ]
  },
  {
   "cell_type": "markdown",
   "metadata": {},
   "source": [
    "## What to do\n",
    "\n",
    "1. Unzip [exercises zip](../_static/generated/while.zip) in a folder, you should obtain something like this:\n",
    "\n",
    "```\n",
    "while\n",
    "    while1.ipynb\n",
    "    while1-sol.ipynb\n",
    "    while2-chal.ipynb\n",
    "    jupman.py    \n",
    "```\n",
    "\n",
    "<div class=\"alert alert-warning\">\n",
    "\n",
    "**WARNING: to correctly visualize the notebook, it MUST be in an unzipped folder !**\n",
    "</div>"
   ]
  },
  {
   "cell_type": "markdown",
   "metadata": {},
   "source": [
    "2. open Jupyter Notebook from that folder. Two things should open, first a console and then a browser. The browser should show a file list: navigate the list and open the notebook `while.ipynb`\n",
    "\n",
    "3. Go on reading the exercises file, sometimes you will find paragraphs marked **Exercises**  which will ask to write Python commands in the following cells."
   ]
  },
  {
   "cell_type": "markdown",
   "metadata": {},
   "source": [
    "Shortcut keys:\n",
    "\n",
    "- to execute Python code inside a Jupyter cell, press `Control + Enter`\n",
    "\n",
    "- to execute Python code inside a Jupyter cell AND select next cell, press `Shift + Enter`\n",
    "\n",
    "- to execute Python code inside a Jupyter cell AND a create a new cell aftwerwards, press `Alt + Enter`\n",
    "\n",
    "- If the notebooks look stuck, try to select `Kernel -> Restart`"
   ]
  },
  {
   "cell_type": "markdown",
   "metadata": {},
   "source": [
    "## Counting with a while\n",
    "\n",
    "A `while` cycle is a code block which is executed when a certain boolean condition is verified. The code block is repeatedly executed as long as the condition is true.\n",
    "\n",
    "Let's see an example:"
   ]
  },
  {
   "cell_type": "code",
   "execution_count": 2,
   "metadata": {},
   "outputs": [
    {
     "name": "stdout",
     "output_type": "stream",
     "text": [
      "Counted 1\n",
      "Counted 2\n",
      "Counted 3\n",
      "Loop is over!\n"
     ]
    }
   ],
   "source": [
    "i = 1\n",
    "\n",
    "while i < 4:\n",
    "    print('Counted', i)\n",
    "    i += 1\n",
    "    \n",
    "print('Loop is over!')"
   ]
  },
  {
   "cell_type": "markdown",
   "metadata": {},
   "source": [
    "In the example, the boolean condition is\n",
    "\n",
    "```python\n",
    "i < 4\n",
    "```\n",
    "\n",
    "the block to repeatedly executed is\n",
    "\n",
    "```python\n",
    "    print('Counted', i)\n",
    "    i += 1\n",
    "```\n",
    "\n",
    "Like any Python code blocks, the block is indented with spaces (usually 4).\n",
    "\n",
    "Have a better look at the execution in Python Tutor and read the following comment."
   ]
  },
  {
   "cell_type": "code",
   "execution_count": 3,
   "metadata": {},
   "outputs": [],
   "source": [
    "# WARNING: FOR PYTHON TUTOR TO WORK, REMEMBER TO EXECUTE THIS CELL with Shift+Enter\n",
    "#          (it's sufficient to execute it only once)\n",
    "\n",
    "import jupman"
   ]
  },
  {
   "cell_type": "code",
   "execution_count": 4,
   "metadata": {},
   "outputs": [
    {
     "name": "stdout",
     "output_type": "stream",
     "text": [
      "Counted 1\n",
      "Counted 2\n",
      "Counted 3\n",
      "Loop is over !\n"
     ]
    },
    {
     "data": {
      "text/html": [
       "\n",
       "        <script src=\"../_static/js/pytutor-embed.bundle.min.js\" type=\"application/javascript\"></script>\n",
       "     \n",
       "        <script id=\"json-jm5b79acf7-33ba-41bb-b1be-babaaf1f3d15\" type=\"application/json\" >\n",
       "            {\"code\": \" \\ni = 1\\nwhile i < 4:\\n    print('Counted', i)\\n    i += 1\\n    \\nprint('Loop is over !')\", \"trace\": [{\"line\": 2, \"event\": \"step_line\", \"func_name\": \"<module>\", \"globals\": {}, \"ordered_globals\": [], \"stack_to_render\": [], \"heap\": {}, \"stdout\": \"\"}, {\"line\": 3, \"event\": \"step_line\", \"func_name\": \"<module>\", \"globals\": {\"i\": 1}, \"ordered_globals\": [\"i\"], \"stack_to_render\": [], \"heap\": {}, \"stdout\": \"\"}, {\"line\": 4, \"event\": \"step_line\", \"func_name\": \"<module>\", \"globals\": {\"i\": 1}, \"ordered_globals\": [\"i\"], \"stack_to_render\": [], \"heap\": {}, \"stdout\": \"\"}, {\"line\": 5, \"event\": \"step_line\", \"func_name\": \"<module>\", \"globals\": {\"i\": 1}, \"ordered_globals\": [\"i\"], \"stack_to_render\": [], \"heap\": {}, \"stdout\": \"Counted 1\\n\"}, {\"line\": 3, \"event\": \"step_line\", \"func_name\": \"<module>\", \"globals\": {\"i\": 2}, \"ordered_globals\": [\"i\"], \"stack_to_render\": [], \"heap\": {}, \"stdout\": \"Counted 1\\n\"}, {\"line\": 4, \"event\": \"step_line\", \"func_name\": \"<module>\", \"globals\": {\"i\": 2}, \"ordered_globals\": [\"i\"], \"stack_to_render\": [], \"heap\": {}, \"stdout\": \"Counted 1\\n\"}, {\"line\": 5, \"event\": \"step_line\", \"func_name\": \"<module>\", \"globals\": {\"i\": 2}, \"ordered_globals\": [\"i\"], \"stack_to_render\": [], \"heap\": {}, \"stdout\": \"Counted 1\\nCounted 2\\n\"}, {\"line\": 3, \"event\": \"step_line\", \"func_name\": \"<module>\", \"globals\": {\"i\": 3}, \"ordered_globals\": [\"i\"], \"stack_to_render\": [], \"heap\": {}, \"stdout\": \"Counted 1\\nCounted 2\\n\"}, {\"line\": 4, \"event\": \"step_line\", \"func_name\": \"<module>\", \"globals\": {\"i\": 3}, \"ordered_globals\": [\"i\"], \"stack_to_render\": [], \"heap\": {}, \"stdout\": \"Counted 1\\nCounted 2\\n\"}, {\"line\": 5, \"event\": \"step_line\", \"func_name\": \"<module>\", \"globals\": {\"i\": 3}, \"ordered_globals\": [\"i\"], \"stack_to_render\": [], \"heap\": {}, \"stdout\": \"Counted 1\\nCounted 2\\nCounted 3\\n\"}, {\"line\": 3, \"event\": \"step_line\", \"func_name\": \"<module>\", \"globals\": {\"i\": 4}, \"ordered_globals\": [\"i\"], \"stack_to_render\": [], \"heap\": {}, \"stdout\": \"Counted 1\\nCounted 2\\nCounted 3\\n\"}, {\"line\": 7, \"event\": \"step_line\", \"func_name\": \"<module>\", \"globals\": {\"i\": 4}, \"ordered_globals\": [\"i\"], \"stack_to_render\": [], \"heap\": {}, \"stdout\": \"Counted 1\\nCounted 2\\nCounted 3\\n\"}, {\"line\": 7, \"event\": \"return\", \"func_name\": \"<module>\", \"globals\": {\"i\": 4}, \"ordered_globals\": [\"i\"], \"stack_to_render\": [], \"heap\": {}, \"stdout\": \"Counted 1\\nCounted 2\\nCounted 3\\nLoop is over !\\n\"}]}\n",
       "        </script>\n",
       "        <div id=\"jm5b79acf7-33ba-41bb-b1be-babaaf1f3d15\" class=\"pytutorVisualizer\"> </div>\n",
       " \n",
       "        <style>\n",
       "        .vizLayoutTd {\n",
       "            background-color: #fff !important;\n",
       "        }\n",
       "\n",
       "        #pyStdout {            \n",
       "            min-height:25px;\n",
       "        }\n",
       "\n",
       "        /* 'Edit this code' link, hiding because replaces browser tab !!!*/\n",
       "        #editCodeLinkDiv {\n",
       "            display:none;  \n",
       "        }\n",
       "        </style>   \n",
       "                            \n",
       "        <script>\n",
       "        (function(){\n",
       "\n",
       "            var trace = JSON.parse(document.getElementById('json-jm5b79acf7-33ba-41bb-b1be-babaaf1f3d15').innerHTML);                                        \n",
       "            // NOTE 1: id without #\n",
       "            // NOTE 2 - maybe there are more predictable ways, but this will work anyway\n",
       "            //        - id should be number\n",
       "            visualizerIdOverride = Math.trunc(Math.random() * 100000000000)\n",
       "            addVisualizerToPage(trace, 'jm5b79acf7-33ba-41bb-b1be-babaaf1f3d15',{'embeddedMode' : false,\n",
       "                                             'visualizerIdOverride':visualizerIdOverride})  \n",
       "            \n",
       "            \n",
       "            // set overflow for pytuts - need to do in python as css \n",
       "            // does not allow parent selection\n",
       "            var pytuts = $('.pytutorVisualizer')\n",
       "            pytuts.closest('div.output_html.rendered_html.output_result')\n",
       "                    .css('overflow-x', 'visible')\n",
       "        \n",
       "            //pytuts.closest('div.output_html.rendered_html.output_result')\n",
       "            //      .css('background-color','red')                \n",
       "            \n",
       "        })()\n",
       "        </script>\n",
       "                \n",
       "                "
      ],
      "text/plain": [
       "<IPython.core.display.HTML object>"
      ]
     },
     "execution_count": 4,
     "metadata": {},
     "output_type": "execute_result"
    }
   ],
   "source": [
    "i = 1\n",
    "while i < 4:\n",
    "    print('Counted', i)\n",
    "    i += 1\n",
    "    \n",
    "print('Loop is over !')\n",
    "\n",
    "jupman.pytut()"
   ]
  },
  {
   "cell_type": "markdown",
   "metadata": {},
   "source": [
    "In the example we used a variable we called `i` and we initialized it to zero.\n",
    "\n",
    "\n",
    "At the beginning of the cycle `i` is valued `1`, so the boolean expression `i < 4` is evaluated as `True`. Since it's `True`,  execution continues inside the block with the `print` and finally MODIFIES `i` by incrementing `i += 1`.\n",
    "\n",
    "Now the execution goes to `while` row, and condition `i < 4` is evaluated again. At this second iteration `i` is valued `2`, so the boolean expression `i < 4` is again evaluated to `True` and the execution remains inside the block. A new print is done and `i` gets incremented.\n",
    "\n",
    "Another loop is done until `i` is valued `4`. A that point `i < 4` produces `False` so in that moment execution _exits_ the `while` block and goes on with the commands at the same indentation level as the `while`"
   ]
  },
  {
   "cell_type": "markdown",
   "metadata": {},
   "source": [
    "###  Terminating `while` \n",
    "\n",
    "When we have a `while` cycle, typically sooner or later we want it to terminate  (programs which hang aren't users' favourites ...). To guarantee termination, we need:\n",
    "\n",
    "1. initializing a variable outside the cycle\n",
    "2. a condition after the `while` command which evaluates that variable (and optionally other things)\n",
    "3. at least one instruction in the internal block which MODIFIES the variable, so that sooner or later is going to satisfy condition 2\n",
    "\n",
    "If any of these points is omitted, we will have problems. Let's try forgetting them on purpose:"
   ]
  },
  {
   "cell_type": "markdown",
   "metadata": {},
   "source": [
    "**Error 1: omit initialization.** As in those cases in Python where we forgot to initialize a variable (let's try `j` in this case), the execution is interrupted as soon we try using the variable:\n",
    "\n",
    "```python\n",
    "print(\"About to enter the cycle ..\")\n",
    "while j < 4:\n",
    "    print('Counted', j)\n",
    "    j += 1\n",
    "    \n",
    "print('Loop is over !')\n",
    "\n",
    "```\n",
    "\n",
    "```\n",
    "About to enter the cycle ..\n",
    "---------------------------------------------------------------------------\n",
    "NameError                                 Traceback (most recent call last)\n",
    "<ipython-input-277-3f311955204d> in <module>()\n",
    "      1 print(\"About to enter the cycle ..\")\n",
    "----> 2 while j < 4:\n",
    "      3     print('Counted', j)\n",
    "      4     j += 1\n",
    "      5 \n",
    "\n",
    "NameError: name 'j' is not defined\n",
    "\n",
    "```"
   ]
  },
  {
   "cell_type": "markdown",
   "metadata": {},
   "source": [
    "**Error 2: omit using the variable in the condition.** If we forget to evaluate the variable, for example using another one by mistake (say `x`), the loop will never stop:\n",
    "\n",
    "\n",
    "```python\n",
    "i = 1\n",
    "x = 1\n",
    "print('About to enter the cycle ..')\n",
    "while x < 4:   # evalutes x instead of i\n",
    "    print('Counted', i)\n",
    "    i += 1\n",
    "    \n",
    "print('Loop is over !')\n",
    "```\n",
    "```\n",
    "\n",
    "About to enter the cycle ..\n",
    "Counted 1\n",
    "Counted 2\n",
    "Counted 3\n",
    "Counted 4\n",
    "Counted 5\n",
    "Counted 6\n",
    ".\n",
    ".\n",
    "\n",
    "```"
   ]
  },
  {
   "cell_type": "markdown",
   "metadata": {},
   "source": [
    "**Error 3: Omit to MODIFY the variable in the internal block.** If we forget to place at least one instruction which MODIFIES the variable used in the condition, whenever the condition is evaluated it will always produce the same boolean value `False` preventing a cycle exit:\n",
    "\n",
    "```python\n",
    "i = 1\n",
    "print('About to enter the cycle ..')\n",
    "while i < 4:\n",
    "    print('Counted', i)\n",
    "\n",
    "print('Loop is over !')\n",
    "```\n",
    "\n",
    "```\n",
    "About to enter the cycle ..\n",
    "Counted 1\n",
    "Counted 1\n",
    "Counted 1\n",
    "Counted 1\n",
    "Counted 1\n",
    ".\n",
    ".\n",
    "```"
   ]
  },
  {
   "cell_type": "markdown",
   "metadata": {},
   "source": [
    "### Non terminating `while`\n",
    "\n",
    "**QUESTION**: Can you imagine a program which _never_ terminates?"
   ]
  },
  {
   "cell_type": "raw",
   "id": "0aef2fc3",
   "metadata": {
    "format": "text/html"
   },
   "source": [
    "<a  class=\"jupman-sol jupman-sol-toggler\" \n",
    " onclick=\"jupman.toggleSolution(this);\" \n",
    " data-jupman-show=\"Show answer\" data-jupman-hide=\"Hide\">Show answer</a><div class=\"jupman-sol jupman-sol-question\" style=\"display:none\">  "
   ]
  },
  {
   "cell_type": "markdown",
   "metadata": {},
   "source": [
    "**ANSWER**: if you live nearby a hydropower or nuclear plant, what happens if the program regulating the water stops?\n",
    "\n",
    "Or: suppose you are inside an airplane and the program which checks the fuel flux to the engine suddenly stops. Could this be a problem?\n",
    "\n",
    "All programs if well written must foresee termination, but some software are executed for such a long time that termination is to be considered an exceptional event."
   ]
  },
  {
   "cell_type": "raw",
   "id": "31c7914a",
   "metadata": {
    "format": "text/html"
   },
   "source": [
    "</div>"
   ]
  },
  {
   "cell_type": "markdown",
   "metadata": {},
   "source": [
    "### Questions"
   ]
  },
  {
   "cell_type": "markdown",
   "metadata": {},
   "source": [
    "\n",
    "**QUESTION**: Look at the following code fragments , and for each try guessing the result it produces (or if it gives an error):\n",
    "\n",
    "1.  ```python\n",
    "    i = 0\n",
    "    while i < 3:\n",
    "    print(i)    \n",
    "    ```\n",
    "1.  ```python\n",
    "    k = 0\n",
    "    while k < 5:\n",
    "        print(k)\n",
    "        k + 1\n",
    "    ```    \n",
    "1.  ```python\n",
    "    i = 0\n",
    "    while i < 3:\n",
    "        print(i)\n",
    "    i += 1\n",
    "    ```    \n",
    "1.  ```python\n",
    "    i = 0\n",
    "    while False:\n",
    "        print(i)\n",
    "        i += 1\n",
    "    print('Done !')\n",
    "    ```\n",
    "    \n",
    "1.  ```python\n",
    "    i = 0\n",
    "    while i < 3:\n",
    "        print(i)\n",
    "        i += 1\n",
    "    ```   \n",
    "1.  ```python\n",
    "    k = 0\n",
    "    while k < 2\n",
    "        print(i)\n",
    "        k += 1\n",
    "    ```        \n",
    "1.  ```python\n",
    "    i = 0\n",
    "    while i < 3:\n",
    "        print('GAM')\n",
    "        i = i + 1\n",
    "    ```\n",
    "1.  ```python\n",
    "    while zanza < 2\n",
    "        print('ZANZA')\n",
    "        zanza += 1\n",
    "    ```         \n",
    "1.  ```python\n",
    "    i = 0\n",
    "    while False:\n",
    "        print(i)\n",
    "        i = i + 1\n",
    "    print('DARK')\n",
    "    ```\n",
    "1.  ```python\n",
    "    i = 0\n",
    "    while True:\n",
    "        print(i)\n",
    "        i = i + 1\n",
    "    print('LIGHT')\n",
    "    ```\n",
    "1.  ```python\n",
    "    while 2 + 3:\n",
    "        print('z')\n",
    "    print('')\n",
    "    ```\n",
    "1.  ```python\n",
    "    i = 10\n",
    "    while i > 0:\n",
    "        if i > 5:\n",
    "            print(i)\n",
    "            i -= 1\n",
    "    print('WAM')\n",
    "    ```\n",
    "1.  ```python\n",
    "    i = 10\n",
    "    while i > 0:\n",
    "        if i > 5:\n",
    "            print(i)\n",
    "        i -= 1\n",
    "    print('MAW')\n",
    "    ```\n",
    "\n",
    "1.  ```python\n",
    "    import random\n",
    "    x = 0\n",
    "    while  x < 7:\n",
    "        x = random.randint(1,10)\n",
    "        print(x)\n",
    "\n",
    "    print('LUCK')\n",
    "    ```\n",
    "1.  ```python\n",
    "    x,y = 0,0\n",
    "    while x + y < 4:\n",
    "        x += 1\n",
    "        y += 1\n",
    "        print(x,y)\n",
    "    ```\n",
    "1.  ```python\n",
    "    x,y = 0,3\n",
    "    while x < y:\n",
    "        print(x,y)\n",
    "        x += 1\n",
    "        y -= 1\n",
    "    ```"
   ]
  },
  {
   "cell_type": "markdown",
   "metadata": {},
   "source": [
    "### Esercises"
   ]
  },
  {
   "cell_type": "markdown",
   "metadata": {},
   "source": [
    "### Exercise - printeven\n",
    "\n",
    "✪ Write some code to  print all the odd numbers from `1` to `k` in a `while` cycle\n",
    "\n",
    "- for `k<1` prints nothing\n",
    "\n",
    "Example - given:\n",
    "\n",
    "```python\n",
    "k = 5\n",
    "```\n",
    "\n",
    "after your code it must print:\n",
    "\n",
    "```\n",
    "1\n",
    "3\n",
    "5\n",
    "```"
   ]
  },
  {
   "cell_type": "raw",
   "id": "3db343e7",
   "metadata": {
    "format": "text/html"
   },
   "source": [
    "<a  class=\"jupman-sol jupman-sol-toggler\" \n",
    " onclick=\"jupman.toggleSolution(this);\" \n",
    " data-jupman-show=\"Show solution\" data-jupman-hide=\"Hide\">Show solution</a><div class=\"jupman-sol jupman-sol-code\" style=\"display:none\">  "
   ]
  },
  {
   "cell_type": "code",
   "execution_count": 5,
   "metadata": {},
   "outputs": [
    {
     "name": "stdout",
     "output_type": "stream",
     "text": [
      "1\n",
      "3\n",
      "5\n"
     ]
    }
   ],
   "source": [
    "\n",
    "k = 5   # 1 3 5\n",
    "#k = 1  # 1\n",
    "#k = 0  # no print\n",
    "\n",
    "# write here\n",
    "i = 1\n",
    "while i <= k:\n",
    "    if i % 2 == 1:\n",
    "        print(i)\n",
    "    i += 1"
   ]
  },
  {
   "cell_type": "raw",
   "id": "d54feb72",
   "metadata": {
    "format": "text/html"
   },
   "source": [
    "</div>"
   ]
  },
  {
   "cell_type": "code",
   "execution_count": 5,
   "metadata": {},
   "outputs": [],
   "source": [
    "\n",
    "k = 5   # 1 3 5\n",
    "#k = 1  # 1\n",
    "#k = 0  # no print\n",
    "\n",
    "# write here\n",
    "\n"
   ]
  },
  {
   "cell_type": "markdown",
   "metadata": {},
   "source": [
    "### Exercise - average\n",
    "\n",
    "✪ Write some code that given a list `numbers`, calculates the average of values  using a `while` and then prints it.\n",
    "\n",
    "- if the list is not empty, the average is supposed to be `0.0`\n",
    "- **DO NOT** use the function `sum`\n",
    "- DO NOT create variables called `sum` (would violate the [V COMMANDMENT](https://en.softpython.org/commandments.html#V-COMMANDMENT): you shall never ever redefine system functions)\n",
    "\n",
    "\n",
    "Example - given:\n",
    "\n",
    "```python\n",
    "numbers = [8,6,5,9]\n",
    "```\n",
    "\n",
    "prints\n",
    "\n",
    "```\n",
    "7.0\n",
    "```"
   ]
  },
  {
   "cell_type": "raw",
   "id": "bb0bd991",
   "metadata": {
    "format": "text/html"
   },
   "source": [
    "<a  class=\"jupman-sol jupman-sol-toggler\" \n",
    " onclick=\"jupman.toggleSolution(this);\" \n",
    " data-jupman-show=\"Show solution\" data-jupman-hide=\"Hide\">Show solution</a><div class=\"jupman-sol jupman-sol-code\" style=\"display:none\">  "
   ]
  },
  {
   "cell_type": "code",
   "execution_count": 6,
   "metadata": {},
   "outputs": [
    {
     "name": "stdout",
     "output_type": "stream",
     "text": [
      "7.0\n"
     ]
    }
   ],
   "source": [
    "\n",
    "numbers = [8,6,5,9] # 7.0\n",
    "#numbers = [3,1,2]  # 2.0\n",
    "#numbers = []       # 0\n",
    "\n",
    "# write here\n",
    "s = 0.0\n",
    "i = 0\n",
    "while i < len(numbers):\n",
    "    s += numbers[i]\n",
    "    i += 1\n",
    "    \n",
    "if len(numbers) > 0:\n",
    "    print(s / len(numbers))\n",
    "else:\n",
    "    print(0.0)"
   ]
  },
  {
   "cell_type": "raw",
   "id": "57233114",
   "metadata": {
    "format": "text/html"
   },
   "source": [
    "</div>"
   ]
  },
  {
   "cell_type": "code",
   "execution_count": 6,
   "metadata": {},
   "outputs": [],
   "source": [
    "\n",
    "numbers = [8,6,5,9] # 7.0\n",
    "#numbers = [3,1,2]  # 2.0\n",
    "#numbers = []       # 0\n",
    "\n",
    "# write here\n",
    "\n"
   ]
  },
  {
   "cell_type": "markdown",
   "metadata": {},
   "source": [
    "##  `break` and `continue`  commands\n",
    "\n",
    "For getting even more control on cycle execution we can use the commands `break` and `continue`\n",
    "\n",
    "<div class=\"alert alert-info\">\n",
    "\n",
    "**NOTE: Use them sparingly!**\n",
    "    \n",
    "When there is a lot of code in the cycle it's easy to 'forget' about their presence and introduce hard-to-discover bugs. On the other hand, in some selected cases these commands may increase code readability, so as everything use your judgement.\n",
    "    \n",
    "</div>\n",
    "\n",
    "\n",
    "### Terminate with a `break`\n",
    "\n",
    "The scheme we've seen to have a terminating `while` is the recommended one, but if we have a condition which does NOT evaluate the variable we are incrementing (like for example the constant expression `True`), as an alternative to immediatly exit the cycle we can use the command `break`:"
   ]
  },
  {
   "cell_type": "code",
   "execution_count": 7,
   "metadata": {},
   "outputs": [
    {
     "name": "stdout",
     "output_type": "stream",
     "text": [
      "Counted 1\n",
      "Counted 2\n",
      "Counted 3\n",
      "Counted 4\n",
      "break! Exiting the loop!\n",
      "Loop is over !\n"
     ]
    }
   ],
   "source": [
    "i = 1\n",
    "while True: \n",
    "    \n",
    "    print('Counted', i)    \n",
    "    \n",
    "    if i > 3:        \n",
    "        print('break! Exiting the loop!')\n",
    "        break    \n",
    "        print('After the break')\n",
    "            \n",
    "    i += 1    \n",
    "\n",
    "print('Loop is over !')"
   ]
  },
  {
   "cell_type": "markdown",
   "metadata": {},
   "source": [
    "Note `After the break` is _not_ shown."
   ]
  },
  {
   "cell_type": "markdown",
   "metadata": {},
   "source": [
    "### Jumping with `continue`\n",
    "\n",
    "We can bring the execution immediately to the next iteration by calling `continue`, which directly jumps to the condition check without executing the instructions after the `continue`. \n",
    "\n",
    "<div class=\"alert alert-warning\">\n",
    "\n",
    "**WARNING:** `continue` **instructions if used carelessly can cause infinite loops !**\n",
    "   \n",
    "When using `continue` ensure it doesn't jump the instriction which modifies the variable used in the termination condition (or it doesn't jump a `break` needed for exiting the cycle)!\n",
    "    \n",
    "</div>"
   ]
  },
  {
   "cell_type": "markdown",
   "metadata": {},
   "source": [
    "To avoid problems here we incremented `i` before the `if` with a `continue`:"
   ]
  },
  {
   "cell_type": "code",
   "execution_count": 8,
   "metadata": {
    "scrolled": true
   },
   "outputs": [
    {
     "name": "stdout",
     "output_type": "stream",
     "text": [
      "Counted 1\n",
      "arrived till the end\n",
      "Counted 2\n",
      "continue, jumping to condition check\n",
      "Counted 3\n",
      "arrived till the end\n",
      "Counted 4\n",
      "continue, jumping to condition check\n",
      "Loop is over !\n"
     ]
    }
   ],
   "source": [
    "i = 1\n",
    "while i < 5:     \n",
    "    print('Counted', i)\n",
    "    \n",
    "    i += 1\n",
    "    \n",
    "    if i % 2 == 1:\n",
    "        print('continue, jumping to condition check')\n",
    "        continue\n",
    "        print('After the continue')\n",
    "    \n",
    "    print('arrived till the end')\n",
    "    \n",
    "print('Loop is over !')"
   ]
  },
  {
   "cell_type": "markdown",
   "metadata": {},
   "source": [
    "Let's try combining `break` and `continue`, and  see what happens in Python Tutor:"
   ]
  },
  {
   "cell_type": "code",
   "execution_count": 9,
   "metadata": {},
   "outputs": [
    {
     "name": "stdout",
     "output_type": "stream",
     "text": [
      "Counted 1\n",
      "arrived till the end\n",
      "Counted 2\n",
      "continue, jumping to next condition check\n",
      "Counted 3\n",
      "arrived till the end\n",
      "Counted 4\n",
      "break! Exiting the cycle!\n",
      "Loop is over !\n"
     ]
    },
    {
     "data": {
      "text/html": [
       "\n",
       "        <script src=\"../_static/js/pytutor-embed.bundle.min.js\" type=\"application/javascript\"></script>\n",
       "     \n",
       "        <script id=\"json-jmbad0689c-5396-4d6b-b14c-1a3f86998952\" type=\"application/json\" >\n",
       "            {\"code\": \" \\ni = 1\\nwhile i < 5:     \\n    print('Counted', i)\\n    if i > 3:        \\n        print('break! Exiting the cycle!')\\n        break    \\n        print('After the break')\\n    i += 1    \\n    if i % 2 == 1:\\n        print('continue, jumping to next condition check')\\n        continue\\n        print('After the continue')\\n    print('arrived till the end')\\n    \\nprint('Loop is over !')\", \"trace\": [{\"line\": 2, \"event\": \"step_line\", \"func_name\": \"<module>\", \"globals\": {}, \"ordered_globals\": [], \"stack_to_render\": [], \"heap\": {}, \"stdout\": \"\"}, {\"line\": 3, \"event\": \"step_line\", \"func_name\": \"<module>\", \"globals\": {\"i\": 1}, \"ordered_globals\": [\"i\"], \"stack_to_render\": [], \"heap\": {}, \"stdout\": \"\"}, {\"line\": 4, \"event\": \"step_line\", \"func_name\": \"<module>\", \"globals\": {\"i\": 1}, \"ordered_globals\": [\"i\"], \"stack_to_render\": [], \"heap\": {}, \"stdout\": \"\"}, {\"line\": 5, \"event\": \"step_line\", \"func_name\": \"<module>\", \"globals\": {\"i\": 1}, \"ordered_globals\": [\"i\"], \"stack_to_render\": [], \"heap\": {}, \"stdout\": \"Counted 1\\n\"}, {\"line\": 9, \"event\": \"step_line\", \"func_name\": \"<module>\", \"globals\": {\"i\": 1}, \"ordered_globals\": [\"i\"], \"stack_to_render\": [], \"heap\": {}, \"stdout\": \"Counted 1\\n\"}, {\"line\": 10, \"event\": \"step_line\", \"func_name\": \"<module>\", \"globals\": {\"i\": 2}, \"ordered_globals\": [\"i\"], \"stack_to_render\": [], \"heap\": {}, \"stdout\": \"Counted 1\\n\"}, {\"line\": 14, \"event\": \"step_line\", \"func_name\": \"<module>\", \"globals\": {\"i\": 2}, \"ordered_globals\": [\"i\"], \"stack_to_render\": [], \"heap\": {}, \"stdout\": \"Counted 1\\n\"}, {\"line\": 3, \"event\": \"step_line\", \"func_name\": \"<module>\", \"globals\": {\"i\": 2}, \"ordered_globals\": [\"i\"], \"stack_to_render\": [], \"heap\": {}, \"stdout\": \"Counted 1\\narrived till the end\\n\"}, {\"line\": 4, \"event\": \"step_line\", \"func_name\": \"<module>\", \"globals\": {\"i\": 2}, \"ordered_globals\": [\"i\"], \"stack_to_render\": [], \"heap\": {}, \"stdout\": \"Counted 1\\narrived till the end\\n\"}, {\"line\": 5, \"event\": \"step_line\", \"func_name\": \"<module>\", \"globals\": {\"i\": 2}, \"ordered_globals\": [\"i\"], \"stack_to_render\": [], \"heap\": {}, \"stdout\": \"Counted 1\\narrived till the end\\nCounted 2\\n\"}, {\"line\": 9, \"event\": \"step_line\", \"func_name\": \"<module>\", \"globals\": {\"i\": 2}, \"ordered_globals\": [\"i\"], \"stack_to_render\": [], \"heap\": {}, \"stdout\": \"Counted 1\\narrived till the end\\nCounted 2\\n\"}, {\"line\": 10, \"event\": \"step_line\", \"func_name\": \"<module>\", \"globals\": {\"i\": 3}, \"ordered_globals\": [\"i\"], \"stack_to_render\": [], \"heap\": {}, \"stdout\": \"Counted 1\\narrived till the end\\nCounted 2\\n\"}, {\"line\": 11, \"event\": \"step_line\", \"func_name\": \"<module>\", \"globals\": {\"i\": 3}, \"ordered_globals\": [\"i\"], \"stack_to_render\": [], \"heap\": {}, \"stdout\": \"Counted 1\\narrived till the end\\nCounted 2\\n\"}, {\"line\": 12, \"event\": \"step_line\", \"func_name\": \"<module>\", \"globals\": {\"i\": 3}, \"ordered_globals\": [\"i\"], \"stack_to_render\": [], \"heap\": {}, \"stdout\": \"Counted 1\\narrived till the end\\nCounted 2\\ncontinue, jumping to next condition check\\n\"}, {\"line\": 3, \"event\": \"step_line\", \"func_name\": \"<module>\", \"globals\": {\"i\": 3}, \"ordered_globals\": [\"i\"], \"stack_to_render\": [], \"heap\": {}, \"stdout\": \"Counted 1\\narrived till the end\\nCounted 2\\ncontinue, jumping to next condition check\\n\"}, {\"line\": 4, \"event\": \"step_line\", \"func_name\": \"<module>\", \"globals\": {\"i\": 3}, \"ordered_globals\": [\"i\"], \"stack_to_render\": [], \"heap\": {}, \"stdout\": \"Counted 1\\narrived till the end\\nCounted 2\\ncontinue, jumping to next condition check\\n\"}, {\"line\": 5, \"event\": \"step_line\", \"func_name\": \"<module>\", \"globals\": {\"i\": 3}, \"ordered_globals\": [\"i\"], \"stack_to_render\": [], \"heap\": {}, \"stdout\": \"Counted 1\\narrived till the end\\nCounted 2\\ncontinue, jumping to next condition check\\nCounted 3\\n\"}, {\"line\": 9, \"event\": \"step_line\", \"func_name\": \"<module>\", \"globals\": {\"i\": 3}, \"ordered_globals\": [\"i\"], \"stack_to_render\": [], \"heap\": {}, \"stdout\": \"Counted 1\\narrived till the end\\nCounted 2\\ncontinue, jumping to next condition check\\nCounted 3\\n\"}, {\"line\": 10, \"event\": \"step_line\", \"func_name\": \"<module>\", \"globals\": {\"i\": 4}, \"ordered_globals\": [\"i\"], \"stack_to_render\": [], \"heap\": {}, \"stdout\": \"Counted 1\\narrived till the end\\nCounted 2\\ncontinue, jumping to next condition check\\nCounted 3\\n\"}, {\"line\": 14, \"event\": \"step_line\", \"func_name\": \"<module>\", \"globals\": {\"i\": 4}, \"ordered_globals\": [\"i\"], \"stack_to_render\": [], \"heap\": {}, \"stdout\": \"Counted 1\\narrived till the end\\nCounted 2\\ncontinue, jumping to next condition check\\nCounted 3\\n\"}, {\"line\": 3, \"event\": \"step_line\", \"func_name\": \"<module>\", \"globals\": {\"i\": 4}, \"ordered_globals\": [\"i\"], \"stack_to_render\": [], \"heap\": {}, \"stdout\": \"Counted 1\\narrived till the end\\nCounted 2\\ncontinue, jumping to next condition check\\nCounted 3\\narrived till the end\\n\"}, {\"line\": 4, \"event\": \"step_line\", \"func_name\": \"<module>\", \"globals\": {\"i\": 4}, \"ordered_globals\": [\"i\"], \"stack_to_render\": [], \"heap\": {}, \"stdout\": \"Counted 1\\narrived till the end\\nCounted 2\\ncontinue, jumping to next condition check\\nCounted 3\\narrived till the end\\n\"}, {\"line\": 5, \"event\": \"step_line\", \"func_name\": \"<module>\", \"globals\": {\"i\": 4}, \"ordered_globals\": [\"i\"], \"stack_to_render\": [], \"heap\": {}, \"stdout\": \"Counted 1\\narrived till the end\\nCounted 2\\ncontinue, jumping to next condition check\\nCounted 3\\narrived till the end\\nCounted 4\\n\"}, {\"line\": 6, \"event\": \"step_line\", \"func_name\": \"<module>\", \"globals\": {\"i\": 4}, \"ordered_globals\": [\"i\"], \"stack_to_render\": [], \"heap\": {}, \"stdout\": \"Counted 1\\narrived till the end\\nCounted 2\\ncontinue, jumping to next condition check\\nCounted 3\\narrived till the end\\nCounted 4\\n\"}, {\"line\": 7, \"event\": \"step_line\", \"func_name\": \"<module>\", \"globals\": {\"i\": 4}, \"ordered_globals\": [\"i\"], \"stack_to_render\": [], \"heap\": {}, \"stdout\": \"Counted 1\\narrived till the end\\nCounted 2\\ncontinue, jumping to next condition check\\nCounted 3\\narrived till the end\\nCounted 4\\nbreak! Exiting the cycle!\\n\"}, {\"line\": 16, \"event\": \"step_line\", \"func_name\": \"<module>\", \"globals\": {\"i\": 4}, \"ordered_globals\": [\"i\"], \"stack_to_render\": [], \"heap\": {}, \"stdout\": \"Counted 1\\narrived till the end\\nCounted 2\\ncontinue, jumping to next condition check\\nCounted 3\\narrived till the end\\nCounted 4\\nbreak! Exiting the cycle!\\n\"}, {\"line\": 16, \"event\": \"return\", \"func_name\": \"<module>\", \"globals\": {\"i\": 4}, \"ordered_globals\": [\"i\"], \"stack_to_render\": [], \"heap\": {}, \"stdout\": \"Counted 1\\narrived till the end\\nCounted 2\\ncontinue, jumping to next condition check\\nCounted 3\\narrived till the end\\nCounted 4\\nbreak! Exiting the cycle!\\nLoop is over !\\n\"}]}\n",
       "        </script>\n",
       "        <div id=\"jmbad0689c-5396-4d6b-b14c-1a3f86998952\" class=\"pytutorVisualizer\"> </div>\n",
       " \n",
       "        <style>\n",
       "        .vizLayoutTd {\n",
       "            background-color: #fff !important;\n",
       "        }\n",
       "\n",
       "        #pyStdout {            \n",
       "            min-height:25px;\n",
       "        }\n",
       "\n",
       "        /* 'Edit this code' link, hiding because replaces browser tab !!!*/\n",
       "        #editCodeLinkDiv {\n",
       "            display:none;  \n",
       "        }\n",
       "        </style>   \n",
       "                            \n",
       "        <script>\n",
       "        (function(){\n",
       "\n",
       "            var trace = JSON.parse(document.getElementById('json-jmbad0689c-5396-4d6b-b14c-1a3f86998952').innerHTML);                                        \n",
       "            // NOTE 1: id without #\n",
       "            // NOTE 2 - maybe there are more predictable ways, but this will work anyway\n",
       "            //        - id should be number\n",
       "            visualizerIdOverride = Math.trunc(Math.random() * 100000000000)\n",
       "            addVisualizerToPage(trace, 'jmbad0689c-5396-4d6b-b14c-1a3f86998952',{'embeddedMode' : false,\n",
       "                                             'visualizerIdOverride':visualizerIdOverride})  \n",
       "            \n",
       "            \n",
       "            // set overflow for pytuts - need to do in python as css \n",
       "            // does not allow parent selection\n",
       "            var pytuts = $('.pytutorVisualizer')\n",
       "            pytuts.closest('div.output_html.rendered_html.output_result')\n",
       "                    .css('overflow-x', 'visible')\n",
       "        \n",
       "            //pytuts.closest('div.output_html.rendered_html.output_result')\n",
       "            //      .css('background-color','red')                \n",
       "            \n",
       "        })()\n",
       "        </script>\n",
       "                \n",
       "                "
      ],
      "text/plain": [
       "<IPython.core.display.HTML object>"
      ]
     },
     "execution_count": 9,
     "metadata": {},
     "output_type": "execute_result"
    }
   ],
   "source": [
    "i = 1\n",
    "while i < 5:     \n",
    "    print('Counted', i)\n",
    "    if i > 3:        \n",
    "        print('break! Exiting the cycle!')\n",
    "        break    \n",
    "        print('After the break')\n",
    "    i += 1    \n",
    "    if i % 2 == 1:\n",
    "        print('continue, jumping to next condition check')\n",
    "        continue\n",
    "        print('After the continue')\n",
    "    print('arrived till the end')\n",
    "    \n",
    "print('Loop is over !')\n",
    "\n",
    "jupman.pytut()"
   ]
  },
  {
   "cell_type": "markdown",
   "metadata": {},
   "source": [
    "### Questions about `break`  and  `continue`"
   ]
  },
  {
   "cell_type": "markdown",
   "metadata": {},
   "source": [
    "**QUESTION**: Look at the following code fragments , and for each try guessing the result it produces (or if it gives an error):\n",
    "\n",
    "\n",
    "1.  ```python\n",
    "    i = 1\n",
    "    while i < 4:\n",
    "        print('Counted', i)\n",
    "        i += 1\n",
    "        continue\n",
    "\n",
    "    print('Loop is over !')\n",
    "    ```\n",
    "1.  ```python\n",
    "    i = 1\n",
    "    while i < 4:\n",
    "        print('Counted', i)\n",
    "        continue        \n",
    "        i += 1\n",
    "        \n",
    "    print('Loop is over !')\n",
    "    ```\n",
    "1.  ```python\n",
    "    i = 3\n",
    "    while i > 0:\n",
    "        print('Counted', i)\n",
    "        if i == 2:\n",
    "            print('continue, jumping to condition check')\n",
    "            continue    \n",
    "        i -= 1\n",
    "        print('arrived till the end')\n",
    "        \n",
    "    print('Loop is over !')\n",
    "    ```  \n",
    "1.  ```python\n",
    "    i = 0\n",
    "    while True:\n",
    "        i += 1\n",
    "        print(i)\n",
    "        if i > 3:            \n",
    "            break\n",
    "        \n",
    "    print('BONG')\n",
    "\n",
    "    ```\n",
    "1.  ```python\n",
    "    i = 0\n",
    "    while True:\n",
    "        if i < 3:\n",
    "            continue\n",
    "        else:\n",
    "            break\n",
    "        i += 1\n",
    "\n",
    "    print('ZONG')\n",
    "    ```\n",
    "1.  ```python\n",
    "    i = 0\n",
    "    while True:\n",
    "        i += 1\n",
    "        if i < 3:\n",
    "            continue\n",
    "        else:\n",
    "            break\n",
    "\n",
    "    print('ZANG')\n",
    "    ```    "
   ]
  },
  {
   "cell_type": "markdown",
   "metadata": {},
   "source": [
    "## Questions - Are they equivalent?\n",
    "\n",
    "Look at the following code fragments: each contains two parts, A and B. For each value of the variables they depend on, try guessing whether part A will print exactly the same result printed by code in part B\n",
    "\n",
    "* **FIRST** think about the answer and  **write down the expected output**\n",
    "* **THEN** try executing with each of the values of suggested variables"
   ]
  },
  {
   "cell_type": "markdown",
   "metadata": {},
   "source": [
    "### Are they equivalent? - BORG\n",
    "\n",
    "```python\n",
    "print('A:')\n",
    "while True:\n",
    "    print('BORG')\n",
    "    break\n",
    "\n",
    "print('\\nB:')\n",
    "while False:\n",
    "    pass\n",
    "print('BORG')\n",
    "```"
   ]
  },
  {
   "cell_type": "markdown",
   "metadata": {},
   "source": [
    "### Are they equivalent? - until 3\n",
    "\n",
    "```python\n",
    "print('A:')\n",
    "x = 0\n",
    "while x < 3:\n",
    "    print(x)\n",
    "    x += 1\n",
    "    \n",
    "print('\\nB:')\n",
    "x = 1\n",
    "while x <= 3:\n",
    "    print(x-1)\n",
    "    x += 1\n",
    "```    "
   ]
  },
  {
   "cell_type": "markdown",
   "metadata": {},
   "source": [
    "### Are they equivalent? - by chance\n",
    "\n",
    "\n",
    "Remember `randint(a, b)` gives back a random integer `N` such that `a <= N <= b`\n",
    "\n",
    "\n",
    "```python\n",
    "print('A:')\n",
    "x = 0\n",
    "while x < 3:\n",
    "    x += 1\n",
    "print(x)  \n",
    "\n",
    "print('\\nB:')\n",
    "x = 0\n",
    "import random\n",
    "while x != 3:\n",
    "    x = random.randint(1,5)\n",
    "print(x)    \n",
    "```"
   ]
  },
  {
   "cell_type": "markdown",
   "metadata": {},
   "source": [
    "\n"
   ]
  },
  {
   "cell_type": "markdown",
   "metadata": {},
   "source": [
    "### Are they equivalent? - until six\n",
    "\n",
    "```python\n",
    "print('A:')\n",
    "i = 0\n",
    "while i < 3:\n",
    "    print(i)\n",
    "    i += 1\n",
    "while i < 6:\n",
    "    print(i)\n",
    "    i += 1 \n",
    "\n",
    "print('\\nB:')\n",
    "i = 0\n",
    "while i < 6:\n",
    "    print(i)\n",
    "    i += 1 \n",
    "```"
   ]
  },
  {
   "cell_type": "markdown",
   "metadata": {},
   "source": [
    "### Are they equivalent? - countdown 1\n",
    "\n",
    "```python\n",
    "print('A:')\n",
    "i = 2\n",
    "print(i)\n",
    "while i > 0:\n",
    "    i -= 1\n",
    "    print(i)\n",
    "\n",
    "print('\\nB:')\n",
    "i = 2\n",
    "while i > 0:\n",
    "    print(i)\n",
    "    i -= 1  \n",
    "```"
   ]
  },
  {
   "cell_type": "markdown",
   "metadata": {},
   "source": [
    "### Are they equivalent? - countdown 2\n",
    "\n",
    "```python\n",
    "print('A:')\n",
    "i = 2\n",
    "print(i)\n",
    "while i > 0:\n",
    "    i -= 1\n",
    "    print(i)\n",
    "\n",
    "print('\\nB:')\n",
    "i = 2\n",
    "while i > 0:\n",
    "    print(i)\n",
    "    i -= 1  \n",
    "print(i)\n",
    "```"
   ]
  },
  {
   "cell_type": "code",
   "execution_count": 10,
   "metadata": {},
   "outputs": [
    {
     "name": "stdout",
     "output_type": "stream",
     "text": [
      "A:\n",
      "2\n",
      "1\n",
      "0\n",
      "\n",
      "B:\n",
      "2\n",
      "1\n",
      "0\n"
     ]
    }
   ],
   "source": [
    "print('A:')\n",
    "i = 2\n",
    "print(i)\n",
    "while i > 0:\n",
    "    i -= 1\n",
    "    print(i)\n",
    "\n",
    "print('\\nB:')\n",
    "i = 2\n",
    "while i > 0:\n",
    "    print(i)\n",
    "    i -= 1  \n",
    "print(i)"
   ]
  },
  {
   "cell_type": "markdown",
   "metadata": {},
   "source": [
    "### Are they equivalent? - sorcery\n",
    "\n",
    "```python\n",
    "print('A:')\n",
    "s = 'sorcery'\n",
    "i = 0\n",
    "while s[i] != 'e':\n",
    "    i += 1\n",
    "print(s[i:])\n",
    "    \n",
    "print('B:')    \n",
    "s = 'sorcery'\n",
    "i = len(s)\n",
    "while s[i] != 'e':\n",
    "    i -= 1\n",
    "print(s[i:]) \n",
    "```"
   ]
  },
  {
   "cell_type": "markdown",
   "metadata": {},
   "source": [
    "### Are they equivalent?  - ping pong\n",
    "\n",
    "\n",
    "```python\n",
    "print('A:')\n",
    "ping,pong = 0,3\n",
    "while ping < 3 or pong > 0:\n",
    "    print(ping,pong)\n",
    "    ping += 1\n",
    "    pong -= 1\n",
    "    \n",
    "print('\\nB:')    \n",
    "ping,pong = 0,3\n",
    "while not(ping >= 3 and pong <= 0):\n",
    "    print(ping,pong)\n",
    "    ping += 1\n",
    "    pong -= 1\n",
    "```"
   ]
  },
  {
   "cell_type": "markdown",
   "metadata": {},
   "source": [
    "### Are they equivalent? - zanna\n",
    "\n",
    "```python\n",
    "print('A:')\n",
    "n,i,s = 0,0,'zanna'\n",
    "while i < len(s):\n",
    "    if s[i] == 'n':\n",
    "        n += 1\n",
    "    i += 1\n",
    "print(n)\n",
    "\n",
    "print('\\nB:')\n",
    "n,i,s = 0,0,'zanna'\n",
    "while i < len(s):\n",
    "    i += 1\n",
    "    if s[i-1] == 'n':\n",
    "        n += 1    \n",
    "print(n)\n",
    "```"
   ]
  },
  {
   "cell_type": "markdown",
   "metadata": {},
   "source": [
    "### Are they equivalent? - pasticcio\n",
    "\n",
    "\n",
    "```python\n",
    "print('A:')\n",
    "c,i,s = 0,0,'pasticcio'\n",
    "while i < len(s):\n",
    "    if s[i] == 'c':\n",
    "        c += 1\n",
    "    i += 1\n",
    "print(c)\n",
    "\n",
    "print('\\nB:')\n",
    "no,k,s = 0,0,'pasticcio'\n",
    "while k < len(s):\n",
    "    if s[k] != 'c':\n",
    "        no += 1\n",
    "    else:\n",
    "        k += 1\n",
    "print(len(s) - no)\n",
    "```\n",
    "    "
   ]
  },
  {
   "cell_type": "markdown",
   "metadata": {},
   "source": [
    "## Exercises - counters"
   ]
  },
  {
   "cell_type": "markdown",
   "metadata": {},
   "source": [
    "### Exercise - don't break 1\n",
    "\n",
    "✪ Look at the following code, and write in the following cell some code which produces the same result with a `while` and **without using** `break`"
   ]
  },
  {
   "cell_type": "code",
   "execution_count": 11,
   "metadata": {},
   "outputs": [
    {
     "name": "stdout",
     "output_type": "stream",
     "text": [
      "3\n",
      "2\n",
      "1\n",
      "0\n"
     ]
    }
   ],
   "source": [
    "x = 3\n",
    "while True:\n",
    "    print(x)\n",
    "    if x == 0:\n",
    "        break\n",
    "    x -= 1"
   ]
  },
  {
   "cell_type": "raw",
   "id": "317c9f44",
   "metadata": {
    "format": "text/html"
   },
   "source": [
    "<a  class=\"jupman-sol jupman-sol-toggler\" \n",
    " onclick=\"jupman.toggleSolution(this);\" \n",
    " data-jupman-show=\"Show solution\" data-jupman-hide=\"Hide\">Show solution</a><div class=\"jupman-sol jupman-sol-code\" style=\"display:none\">  "
   ]
  },
  {
   "cell_type": "code",
   "execution_count": 12,
   "metadata": {},
   "outputs": [
    {
     "name": "stdout",
     "output_type": "stream",
     "text": [
      "3\n",
      "2\n",
      "1\n",
      "0\n"
     ]
    }
   ],
   "source": [
    "\n",
    "x = 3\n",
    "\n",
    "# write here\n",
    "\n",
    "while x >= 0:\n",
    "    print(x)    \n",
    "    x -= 1"
   ]
  },
  {
   "cell_type": "raw",
   "id": "0626e63a",
   "metadata": {
    "format": "text/html"
   },
   "source": [
    "</div>"
   ]
  },
  {
   "cell_type": "code",
   "execution_count": 12,
   "metadata": {},
   "outputs": [],
   "source": [
    "\n",
    "x = 3\n",
    "\n",
    "# write here\n",
    "\n"
   ]
  },
  {
   "cell_type": "markdown",
   "metadata": {},
   "source": [
    "### Exercise - don't break 2\n",
    "\n",
    "✪ Look at the following code, and write in the following cell some code which produces the same result with a `while` and **without using** `break`"
   ]
  },
  {
   "cell_type": "code",
   "execution_count": 13,
   "metadata": {},
   "outputs": [
    {
     "name": "stdout",
     "output_type": "stream",
     "text": [
      "2\n",
      "3\n",
      "7\n"
     ]
    }
   ],
   "source": [
    "la = [2,3,7,5,6]\n",
    "k = 7   # 2 3 7\n",
    "#k = 5  # 2 3 7 5 6\n",
    "#k = 13 # 2 3 7 5 6\n",
    "\n",
    "i = 0\n",
    "while True:    \n",
    "    print(la[i])\n",
    "    if i >= len(la)-1 or la[i] == k:        \n",
    "        break\n",
    "    else:\n",
    "        i += 1"
   ]
  },
  {
   "cell_type": "raw",
   "id": "72ab78ba",
   "metadata": {
    "format": "text/html"
   },
   "source": [
    "<a  class=\"jupman-sol jupman-sol-toggler\" \n",
    " onclick=\"jupman.toggleSolution(this);\" \n",
    " data-jupman-show=\"Show solution\" data-jupman-hide=\"Hide\">Show solution</a><div class=\"jupman-sol jupman-sol-code\" style=\"display:none\">  "
   ]
  },
  {
   "cell_type": "code",
   "execution_count": 14,
   "metadata": {},
   "outputs": [
    {
     "name": "stdout",
     "output_type": "stream",
     "text": [
      "2\n",
      "3\n",
      "7\n"
     ]
    }
   ],
   "source": [
    "\n",
    "la = [2,3,7,5,6]\n",
    "k = 7   # 2 3 7\n",
    "#k = 6  # 2 3 7 5 6\n",
    "#k = 13 # 2 3 7 5 6\n",
    "\n",
    "i = 0\n",
    "\n",
    "# write here\n",
    "\n",
    "while i < len(la) and la[i] != k:\n",
    "    print(la[i])\n",
    "    i += 1\n",
    "if i < len(la) and la[i] == k:\n",
    "    print(la[i])\n",
    "    "
   ]
  },
  {
   "cell_type": "raw",
   "id": "016b094c",
   "metadata": {
    "format": "text/html"
   },
   "source": [
    "</div>"
   ]
  },
  {
   "cell_type": "code",
   "execution_count": 14,
   "metadata": {},
   "outputs": [],
   "source": [
    "\n",
    "la = [2,3,7,5,6]\n",
    "k = 7   # 2 3 7\n",
    "#k = 6  # 2 3 7 5 6\n",
    "#k = 13 # 2 3 7 5 6\n",
    "\n",
    "i = 0\n",
    "\n",
    "# write here\n",
    "\n"
   ]
  },
  {
   "cell_type": "markdown",
   "metadata": {},
   "source": [
    "### Exercise - Give me a break\n",
    "\n",
    "✪ Look at the following code, and write in the next cell some code which produces the same result with a `while` **this time using a** `break`"
   ]
  },
  {
   "cell_type": "code",
   "execution_count": 15,
   "metadata": {},
   "outputs": [
    {
     "name": "stdout",
     "output_type": "stream",
     "text": [
      "(1, 5)\n",
      "(2, 4)\n"
     ]
    }
   ],
   "source": [
    "\n",
    "x,y = 1,5    # (1,5)  (2,4)\n",
    "#x,y = 2,8   # (2, 8) (3, 7) (4, 6)\n",
    "\n",
    "while x < y or x == 4:\n",
    "    print((x,y))\n",
    "    x += 1 \n",
    "    y -= 1"
   ]
  },
  {
   "cell_type": "raw",
   "id": "a7b1b84d",
   "metadata": {
    "format": "text/html"
   },
   "source": [
    "<a  class=\"jupman-sol jupman-sol-toggler\" \n",
    " onclick=\"jupman.toggleSolution(this);\" \n",
    " data-jupman-show=\"Show solution\" data-jupman-hide=\"Hide\">Show solution</a><div class=\"jupman-sol jupman-sol-code\" style=\"display:none\">  "
   ]
  },
  {
   "cell_type": "code",
   "execution_count": 16,
   "metadata": {},
   "outputs": [
    {
     "name": "stdout",
     "output_type": "stream",
     "text": [
      "(1, 5)\n",
      "(2, 4)\n"
     ]
    }
   ],
   "source": [
    "\n",
    "x,y = 1,5    # (1,5)  (2,4)\n",
    "#x,y = 2,8   # (2, 8) (3, 7) (4, 6)\n",
    "\n",
    "# write here\n",
    "while True:\n",
    "    \n",
    "    if x >= y or x == 4:\n",
    "        break\n",
    "    else:\n",
    "        print((x,y))\n",
    "        x += 1 \n",
    "        y -= 1\n",
    "        \n",
    "if x < y or x == 4:\n",
    "    print((x,y))"
   ]
  },
  {
   "cell_type": "raw",
   "id": "2d4fa59c",
   "metadata": {
    "format": "text/html"
   },
   "source": [
    "</div>"
   ]
  },
  {
   "cell_type": "code",
   "execution_count": 16,
   "metadata": {},
   "outputs": [],
   "source": [
    "\n",
    "x,y = 1,5    # (1,5)  (2,4)\n",
    "#x,y = 2,8   # (2, 8) (3, 7) (4, 6)\n",
    "\n",
    "# write here\n",
    "\n"
   ]
  },
  {
   "cell_type": "markdown",
   "metadata": {},
   "source": [
    "\n",
    "### Exercise - paperboard\n",
    "\n",
    "✪ Prints integer numbers from `0` to `k` INCLUDED using a `while`, and for each number prints to its side one among the strings `'PA'`, `'PER'` and `'BOARD'` alternating them\n",
    "\n",
    "Ex - for `k=8` prints\n",
    "\n",
    "```\n",
    "0 PA\n",
    "1 PER\n",
    "2 BOARD\n",
    "3 PA\n",
    "4 PER\n",
    "5 BOARD\n",
    "6 PA\n",
    "7 PER\n",
    "8 BOARD\n",
    "```"
   ]
  },
  {
   "cell_type": "raw",
   "id": "2d73b88a",
   "metadata": {
    "format": "text/html"
   },
   "source": [
    "<a  class=\"jupman-sol jupman-sol-toggler\" \n",
    " onclick=\"jupman.toggleSolution(this);\" \n",
    " data-jupman-show=\"Show solution\" data-jupman-hide=\"Hide\">Show solution</a><div class=\"jupman-sol jupman-sol-code\" style=\"display:none\">  "
   ]
  },
  {
   "cell_type": "code",
   "execution_count": 17,
   "metadata": {},
   "outputs": [
    {
     "name": "stdout",
     "output_type": "stream",
     "text": [
      "0 PA\n",
      "1 PER\n",
      "2 BOARD\n",
      "3 PA\n",
      "4 PER\n",
      "5 BOARD\n",
      "6 PA\n",
      "7 PER\n",
      "8 BOARD\n"
     ]
    }
   ],
   "source": [
    "\n",
    "k = 8\n",
    "\n",
    "# write here\n",
    "x = 0\n",
    "while x <= k:\n",
    "    if x % 3 == 0:\n",
    "        print(x, 'PA')\n",
    "    elif x % 3 == 1:\n",
    "        print(x, 'PER')\n",
    "    else:\n",
    "        print(x, 'BOARD')\n",
    "    x += 1"
   ]
  },
  {
   "cell_type": "raw",
   "id": "0fc71e4d",
   "metadata": {
    "format": "text/html"
   },
   "source": [
    "</div>"
   ]
  },
  {
   "cell_type": "code",
   "execution_count": 17,
   "metadata": {},
   "outputs": [],
   "source": [
    "\n",
    "k = 8\n",
    "\n",
    "# write here\n",
    "\n"
   ]
  },
  {
   "cell_type": "markdown",
   "metadata": {},
   "source": [
    "### Exercise - until ten\n",
    "\n",
    "✪ Given two numbers `x` and `y`, write some code with a `while` which prints  and  increments the numbers, stopping as soon as one of them reaches ten.\n",
    "\n",
    "\n",
    "```python\n",
    "x,y = 5,7\n",
    "```\n",
    "\n",
    "after your code it must result:\n",
    "\n",
    "```\n",
    "5 7\n",
    "6 8\n",
    "7 9\n",
    "8 10\n",
    "```"
   ]
  },
  {
   "cell_type": "raw",
   "id": "1f663dbb",
   "metadata": {
    "format": "text/html"
   },
   "source": [
    "<a  class=\"jupman-sol jupman-sol-toggler\" \n",
    " onclick=\"jupman.toggleSolution(this);\" \n",
    " data-jupman-show=\"Show solution\" data-jupman-hide=\"Hide\">Show solution</a><div class=\"jupman-sol jupman-sol-code\" style=\"display:none\">  "
   ]
  },
  {
   "cell_type": "code",
   "execution_count": 18,
   "metadata": {},
   "outputs": [
    {
     "name": "stdout",
     "output_type": "stream",
     "text": [
      "5 7\n",
      "6 8\n",
      "7 9\n",
      "8 10\n"
     ]
    }
   ],
   "source": [
    "\n",
    "x,y = 5,7\n",
    "#x,y = 8,4\n",
    "\n",
    "# write here\n",
    "while x <= 10 and y <= 10:\n",
    "    print(x,y)\n",
    "    x += 1\n",
    "    y += 1"
   ]
  },
  {
   "cell_type": "raw",
   "id": "e72c98b3",
   "metadata": {
    "format": "text/html"
   },
   "source": [
    "</div>"
   ]
  },
  {
   "cell_type": "code",
   "execution_count": 18,
   "metadata": {},
   "outputs": [],
   "source": [
    "\n",
    "x,y = 5,7\n",
    "#x,y = 8,4\n",
    "\n",
    "# write here\n",
    "\n"
   ]
  },
  {
   "cell_type": "markdown",
   "metadata": {},
   "source": [
    "### Exercise - cccc\n",
    "\n",
    "✪ Write some code using a `while` which given a number `y`, prints `y` rows containing the character `c` as many times as the row number.\n",
    "\n",
    "Example - given:\n",
    "\n",
    "```python\n",
    "y = 4\n",
    "``` \n",
    "\n",
    "Prints:\n",
    "\n",
    "```\n",
    "c\n",
    "cc\n",
    "ccc\n",
    "cccc\n",
    "```"
   ]
  },
  {
   "cell_type": "raw",
   "id": "de493ac1",
   "metadata": {
    "format": "text/html"
   },
   "source": [
    "<a  class=\"jupman-sol jupman-sol-toggler\" \n",
    " onclick=\"jupman.toggleSolution(this);\" \n",
    " data-jupman-show=\"Show solution\" data-jupman-hide=\"Hide\">Show solution</a><div class=\"jupman-sol jupman-sol-code\" style=\"display:none\">  "
   ]
  },
  {
   "cell_type": "code",
   "execution_count": 19,
   "metadata": {},
   "outputs": [
    {
     "name": "stdout",
     "output_type": "stream",
     "text": [
      "\n",
      "c\n",
      "cc\n",
      "ccc\n",
      "cccc\n"
     ]
    }
   ],
   "source": [
    "\n",
    "y = 4\n",
    "\n",
    "# write here\n",
    "x = 0\n",
    "while x <= y:\n",
    "    print('c'*x)\n",
    "    x += 1"
   ]
  },
  {
   "cell_type": "raw",
   "id": "e36d8771",
   "metadata": {
    "format": "text/html"
   },
   "source": [
    "</div>"
   ]
  },
  {
   "cell_type": "code",
   "execution_count": 19,
   "metadata": {},
   "outputs": [],
   "source": [
    "\n",
    "y = 4\n",
    "\n",
    "# write here\n",
    "\n"
   ]
  },
  {
   "cell_type": "markdown",
   "metadata": {},
   "source": [
    "### Exercise - converge\n",
    "\n",
    "✪ Given two numbers `x` and `k`, using a `while` modify and print `x` until it reaches `k` included\n",
    "\n",
    "* **NOTE**: `k` can either be greater or lesser than `x`, you must handle both cases\n",
    "\n",
    "Example 1 - given:\n",
    "\n",
    "```python\n",
    "x,k = 3,5    \n",
    "```\n",
    "prints:\n",
    "\n",
    "```\n",
    "3\n",
    "4\n",
    "5\n",
    "```\n",
    "\n",
    "Example 2 - given:\n",
    "\n",
    "```python\n",
    "x,k = 6,2\n",
    "```\n",
    "\n",
    "prints:\n",
    "\n",
    "```\n",
    "6\n",
    "5\n",
    "4\n",
    "3\n",
    "2\n",
    "```"
   ]
  },
  {
   "cell_type": "raw",
   "id": "24a19541",
   "metadata": {
    "format": "text/html"
   },
   "source": [
    "<a  class=\"jupman-sol jupman-sol-toggler\" \n",
    " onclick=\"jupman.toggleSolution(this);\" \n",
    " data-jupman-show=\"Show solution\" data-jupman-hide=\"Hide\">Show solution</a><div class=\"jupman-sol jupman-sol-code\" style=\"display:none\">  "
   ]
  },
  {
   "cell_type": "code",
   "execution_count": 20,
   "metadata": {},
   "outputs": [
    {
     "name": "stdout",
     "output_type": "stream",
     "text": [
      "3\n",
      "4\n",
      "5\n"
     ]
    }
   ],
   "source": [
    "\n",
    "x,k = 3,5    # 3 4 5\n",
    "#x,k = 6,2   # 6 5 4 3 2\n",
    "#x,k = 4,4   # 4\n",
    "\n",
    "# write here\n",
    "\n",
    "while x != k:\n",
    "    print(x)\n",
    "    if x < k:\n",
    "        x += 1\n",
    "    else:\n",
    "        x -= 1\n",
    "print(x)"
   ]
  },
  {
   "cell_type": "raw",
   "id": "28004b87",
   "metadata": {
    "format": "text/html"
   },
   "source": [
    "</div>"
   ]
  },
  {
   "cell_type": "code",
   "execution_count": 20,
   "metadata": {},
   "outputs": [],
   "source": [
    "\n",
    "x,k = 3,5    # 3 4 5\n",
    "#x,k = 6,2   # 6 5 4 3 2\n",
    "#x,k = 4,4   # 4\n",
    "\n",
    "# write here\n",
    "\n"
   ]
  },
  {
   "cell_type": "markdown",
   "metadata": {},
   "source": [
    "## Searching a sequence\n",
    "\n",
    "We are at the airport, and we've been told to reach the gate of our trusted airline company _Turbulenz_. We don't remember exactly the gate, but we know we have to stop at the first _Turbulenz_ sign we find. If by mistake we went further, we might encounter other gates for international flights, and who knows where we would end up.\n",
    "\n",
    "If we have to perform searches in potentially long sequences, and we don't always need a complete visit, using a `while` loop is more convenient and efficient than a `for`.\n",
    "\n",
    "We could represent the example above as a list:"
   ]
  },
  {
   "cell_type": "code",
   "execution_count": 21,
   "metadata": {},
   "outputs": [],
   "source": [
    "          #    0         1            2            3           4           5         6           7\n",
    "airport = ['Flyall','PiercedWings','PigeonJet','Turbolenz', 'BoingBoing','Jettons','Turbulenz','BoingBoing']"
   ]
  },
  {
   "cell_type": "markdown",
   "metadata": {},
   "source": [
    "Once the element is found, we would like the program to print the position in which it was found, in this case `3`.\n",
    "\n",
    "Naturally, if you read well the [list search methods](https://en.softpython.org/lists/lists4-sol.html) you already know there is a handy method `.index('Turbulenz')`, but in this notebook we adopt the philosophy of 'do it yourself', and will try building our search algorithms from scratch."
   ]
  },
  {
   "cell_type": "markdown",
   "metadata": {},
   "source": [
    "**QUESTION**: Can you think of some corner case where `index` method can also bring a problem?"
   ]
  },
  {
   "cell_type": "raw",
   "id": "ff613854",
   "metadata": {
    "format": "text/html"
   },
   "source": [
    "<a  class=\"jupman-sol jupman-sol-toggler\" \n",
    " onclick=\"jupman.toggleSolution(this);\" \n",
    " data-jupman-show=\"Show answer\" data-jupman-hide=\"Hide\">Show answer</a><div class=\"jupman-sol jupman-sol-question\" style=\"display:none\">  "
   ]
  },
  {
   "cell_type": "markdown",
   "metadata": {},
   "source": [
    "**ANSWER**: if the list does _not_ contain what we're looking for, calling `index` will raise an exception thus stopping the program."
   ]
  },
  {
   "cell_type": "raw",
   "id": "0dcc3cdb",
   "metadata": {
    "format": "text/html"
   },
   "source": [
    "</div>"
   ]
  },
  {
   "cell_type": "markdown",
   "metadata": {},
   "source": [
    "### What we need\n",
    "\n",
    "To build our search, we will need:\n",
    "\n",
    "1. control variable\n",
    "2. stop condition\n",
    "3. control variable update\n",
    "\n",
    "The control variable in this case could be an index, the stop condition could evaluate whether we reached the end of the airport, and inside the cycle we will update the index to keep searching. But where should we evaluate whether or not we have found the gate? Furthermore, since we are expert programmers we believe in misfortune, and know horror scenarios could happen indeed, like Turbulenz company going bankrupt the very same day of our arrival! Thus, we also need to foresee the case our search may give no result, and decide what should happen in such situation."
   ]
  },
  {
   "cell_type": "markdown",
   "metadata": {},
   "source": [
    "### How to check\n",
    "\n",
    "There are two ways to check a discovery:\n",
    "\n",
    "a) most direct way is to place an exit check inside the body of `while` itself: we could put an `if` statement which controls when the element is found, and in such case performs the execution of a `break` command. It is by no means elegant, yet it could be a first approach.\n",
    "\n",
    "b) a better option would be performing the check in the boolean condition of the `while`, but devising a program which works in all cases could be slightly trickier.\n",
    "\n",
    "Let's try them both in the following exercises."
   ]
  },
  {
   "cell_type": "markdown",
   "metadata": {},
   "source": [
    "### Exercise - Turbolenz with a break\n",
    "\n",
    "✪✪ Write some code which uses a `while` to search the list `airport` for the FIRST occurrence of `company`: as soon as it is found, stops searching and PRINTS the index where it was found.\n",
    "\n",
    "\n",
    "- If the company is not found, PRINTS 'Not found'\n",
    "- **USE** a `break` to stop the search\n",
    "- **REMEMBER** to test your code with all the suggested airports\n",
    "\n",
    "Example 1 - given:\n",
    "\n",
    "```python\n",
    "company='Turbolenz'             \n",
    "airport = ['Flyall','PiercedWings','PigeonJet','Turbolenz', 'BoingBoing','Jettons','Turbulenz','BoingBoing']\n",
    "```\n",
    "\n",
    "after your code, it must print:\n",
    "\n",
    "```\n",
    "Found the first Turbolenz at index 3\n",
    "```\n",
    "\n",
    "Example 2 - given:\n",
    "\n",
    "```python\n",
    "company = 'FlapFlap'\n",
    "airport = ['PiercedWings','BoingBoing','Turbolenz','PigeonJet']\n",
    "```\n",
    "\n",
    "it must print:\n",
    "\n",
    "```\n",
    "FlapFlap was not found\n",
    "```"
   ]
  },
  {
   "cell_type": "raw",
   "id": "6632c3c3",
   "metadata": {
    "format": "text/html"
   },
   "source": [
    "<a  class=\"jupman-sol jupman-sol-toggler\" \n",
    " onclick=\"jupman.toggleSolution(this);\" \n",
    " data-jupman-show=\"Show solution\" data-jupman-hide=\"Hide\">Show solution</a><div class=\"jupman-sol jupman-sol-code\" style=\"display:none\">  "
   ]
  },
  {
   "cell_type": "code",
   "execution_count": 22,
   "metadata": {},
   "outputs": [
    {
     "name": "stdout",
     "output_type": "stream",
     "text": [
      "Found the first Turbolenz at index 3\n"
     ]
    }
   ],
   "source": [
    "\n",
    "\n",
    "\n",
    "company = 'Turbolenz'                                 \n",
    "airport = ['Flyall','PiercedWings','PigeonJet','Turbolenz', 'BoingBoing','Jettons','Turbulenz','BoingBoing']\n",
    "\n",
    "#company = 'FlapFlap'\n",
    "#airport = ['PiercedWings','BoingBoing','Turbolenz','PigeonJet']\n",
    "#airport = []        \n",
    "#airport = ['FlapFlap']\n",
    "#airport = ['Turbolenz', 'FlapFlap']\n",
    "\n",
    "# write here\n",
    "i = 0\n",
    "while i < len(airport):\n",
    "    if airport[i] == company:\n",
    "        print(\"Found the first\", company, \"at index\", i)\n",
    "        break\n",
    "    i += 1\n",
    "if i == len(airport):\n",
    "    print(company, 'was not found')"
   ]
  },
  {
   "cell_type": "raw",
   "id": "e3263d84",
   "metadata": {
    "format": "text/html"
   },
   "source": [
    "</div>"
   ]
  },
  {
   "cell_type": "code",
   "execution_count": 22,
   "metadata": {},
   "outputs": [],
   "source": [
    "\n",
    "\n",
    "\n",
    "company = 'Turbolenz'                                 \n",
    "airport = ['Flyall','PiercedWings','PigeonJet','Turbolenz', 'BoingBoing','Jettons','Turbulenz','BoingBoing']\n",
    "\n",
    "#company = 'FlapFlap'\n",
    "#airport = ['PiercedWings','BoingBoing','Turbolenz','PigeonJet']\n",
    "#airport = []        \n",
    "#airport = ['FlapFlap']\n",
    "#airport = ['Turbolenz', 'FlapFlap']\n",
    "\n",
    "# write here\n",
    "\n"
   ]
  },
  {
   "cell_type": "markdown",
   "metadata": {},
   "source": [
    "### Exercise - Turbulenz without break\n",
    "\n",
    "✪✪ Try now to rewrite the previous program **without** using `break` nor `continue`: to verify the finding, you will need to enrich the termination condition."
   ]
  },
  {
   "cell_type": "raw",
   "id": "2e8d4190",
   "metadata": {
    "format": "text/html"
   },
   "source": [
    "<a  class=\"jupman-sol jupman-sol-toggler\" \n",
    " onclick=\"jupman.toggleSolution(this);\" \n",
    " data-jupman-show=\"Show solution\" data-jupman-hide=\"Hide\">Show solution</a><div class=\"jupman-sol jupman-sol-code\" style=\"display:none\">  "
   ]
  },
  {
   "cell_type": "code",
   "execution_count": 23,
   "metadata": {},
   "outputs": [
    {
     "name": "stdout",
     "output_type": "stream",
     "text": [
      "Found the first Turbolenz at index 2\n"
     ]
    }
   ],
   "source": [
    "\n",
    "\n",
    "company = 'Turbolenz'                                 \n",
    "airport = ['Flyall','PiercedWings','PigeonJet','Turbolenz', 'BoingBoing','Jettons','Turbulenz','BoingBoing']\n",
    "\n",
    "#company = 'FlapFlap'\n",
    "airport = ['PiercedWings','BoingBoing','Turbolenz','PigeonJet']\n",
    "#airport = []        \n",
    "#airport = ['FlapFlap']\n",
    "#airport = ['Turbolenz', 'FlapFlap']\n",
    "\n",
    "# write here\n",
    "\n",
    "i = 0\n",
    "while i < len(airport) and airport[i] != company:\n",
    "    i += 1\n",
    "    \n",
    "if i == len(airport):\n",
    "    print(company, 'was not found')\n",
    "else:\n",
    "    print(\"Found the first\", company, \"at index\", i)"
   ]
  },
  {
   "cell_type": "raw",
   "id": "daaed9d6",
   "metadata": {
    "format": "text/html"
   },
   "source": [
    "</div>"
   ]
  },
  {
   "cell_type": "code",
   "execution_count": 23,
   "metadata": {},
   "outputs": [],
   "source": [
    "\n",
    "\n",
    "company = 'Turbolenz'                                 \n",
    "airport = ['Flyall','PiercedWings','PigeonJet','Turbolenz', 'BoingBoing','Jettons','Turbulenz','BoingBoing']\n",
    "\n",
    "#company = 'FlapFlap'\n",
    "airport = ['PiercedWings','BoingBoing','Turbolenz','PigeonJet']\n",
    "#airport = []        \n",
    "#airport = ['FlapFlap']\n",
    "#airport = ['Turbolenz', 'FlapFlap']\n",
    "\n",
    "# write here\n",
    "\n"
   ]
  },
  {
   "cell_type": "markdown",
   "metadata": {},
   "source": [
    "**QUESTION**: you probably used two conditions in the `while`. By exchanging the order of the conditions in the proposed solution, would the program work fine? If not, in which cases could it fail?\n",
    "\n",
    "* **HINT**: If you have doubts try reading the chapter [booleans - evaluation order](https://en.softpython.org/basics/basics2-bools-sol.html#Evaluation-order)"
   ]
  },
  {
   "cell_type": "raw",
   "id": "97ccc14b",
   "metadata": {
    "format": "text/html"
   },
   "source": [
    "<a  class=\"jupman-sol jupman-sol-toggler\" \n",
    " onclick=\"jupman.toggleSolution(this);\" \n",
    " data-jupman-show=\"Show answer\" data-jupman-hide=\"Hide\">Show answer</a><div class=\"jupman-sol jupman-sol-question\" style=\"display:none\">  "
   ]
  },
  {
   "cell_type": "markdown",
   "metadata": {},
   "source": [
    "**ANSWER**: the comparison between the index with the airport length must be done first, because when it gives `False` the evaluation of the `and` expression stops immediately without proceeding with the dangerous `airport[i] != company` which in an airport without `FlapFlap` company would become `airport[4] != company` and thus produce an index error:\n",
    "\n",
    "```python\n",
    "company = 'FlapFlap'\n",
    "             #    0            1            2           3\n",
    "airport = ['PiercedWings','BoingBoing','Turbolenz','PigeonJet']\n",
    "\n",
    "# write here\n",
    "i = 0\n",
    "# WARNING: WRONG ORDER!\n",
    "while airport[i] != company and i < len(airport):\n",
    "    i += 1\n",
    "    \n",
    "if i == len(airport):\n",
    "    print(company, 'was not found')\n",
    "else:\n",
    "    print(\"Found the first\", company, \"at index\", i)\n",
    "```    "
   ]
  },
  {
   "cell_type": "raw",
   "id": "f6d14919",
   "metadata": {
    "format": "text/html"
   },
   "source": [
    "</div>"
   ]
  },
  {
   "cell_type": "markdown",
   "metadata": {},
   "source": [
    "### Exercise - hangar\n",
    "\n",
    "✪✪ Our plane just landed but now it must reach the hangar, dodging all the extraneous objects  on the track!\n",
    "\n",
    "Write some code which given a string `track` with a certain number of non-alphanumeric characters at the beginning, PRINTS the word which follows these characters.\n",
    "\n",
    "Example - given:\n",
    "\n",
    "```python\n",
    "track = '★★🏳🏳♦🏳♦🏳🏳hangar★★★'  \n",
    "```\n",
    "\n",
    "your code must print:\n",
    "\n",
    "`hangar★★★`\n",
    "\n",
    "* **YOU CAN'T**  know beforehand which extra characters you will find in the string\n",
    "* **DO NOT** write characters like ★🏳♦-_ in the code\n",
    "\n",
    "**HINT**: to determine if you have found alphanumerical characters or numbers, use `.isalpha()` and `.isdigit()` methods"
   ]
  },
  {
   "cell_type": "raw",
   "id": "a4a4ef64",
   "metadata": {
    "format": "text/html"
   },
   "source": [
    "<a  class=\"jupman-sol jupman-sol-toggler\" \n",
    " onclick=\"jupman.toggleSolution(this);\" \n",
    " data-jupman-show=\"Show solution\" data-jupman-hide=\"Hide\">Show solution</a><div class=\"jupman-sol jupman-sol-code\" style=\"display:none\">  "
   ]
  },
  {
   "cell_type": "code",
   "execution_count": 24,
   "metadata": {},
   "outputs": [
    {
     "name": "stdout",
     "output_type": "stream",
     "text": [
      "hangar★★★\n"
     ]
    }
   ],
   "source": [
    "\n",
    "track = '★★🏳🏳♦🏳♦🏳🏳hangar★★★'   # hangar★★★\n",
    "#track = '🏳🏳twinengine'         # twinengine\n",
    "#track = '-★♦--♦--747-🏳'        # 747-🏳\n",
    "#track = 'glider'               # glider\n",
    "#track = '__♦__🏳__♦_'           # prints nothing\n",
    "\n",
    "# write here\n",
    "\n",
    "i = 0\n",
    "while i < len(track) and not (track[i].isalpha() or track[i].isdigit()):\n",
    "    i += 1\n",
    "print(track[i:])"
   ]
  },
  {
   "cell_type": "raw",
   "id": "0a219e55",
   "metadata": {
    "format": "text/html"
   },
   "source": [
    "</div>"
   ]
  },
  {
   "cell_type": "code",
   "execution_count": 24,
   "metadata": {},
   "outputs": [],
   "source": [
    "\n",
    "track = '★★🏳🏳♦🏳♦🏳🏳hangar★★★'   # hangar★★★\n",
    "#track = '🏳🏳twinengine'         # twinengine\n",
    "#track = '-★♦--♦--747-🏳'        # 747-🏳\n",
    "#track = 'glider'               # glider\n",
    "#track = '__♦__🏳__♦_'           # prints nothing\n",
    "\n",
    "# write here\n",
    "\n"
   ]
  },
  {
   "cell_type": "markdown",
   "metadata": {},
   "source": [
    "### Exercise - Wild West\n",
    "\n",
    "✪✪ The two outlaws Carson and Butch agreed to bury a treasure in the jolly town of Tombstone, ma now each of them wants to take back the treasure without sharing anything with the partner.\n",
    "\n",
    "- there is a `road` from `Santa Fe` until `Tombstone` to arrive to the treasure, which we represent as a list of strings\n",
    "- we use two indexes `butch` and `carson` to represent where the outlaws are on the road\n",
    "- each outlaw starts from a different town\n",
    "- at each turn Carson moves of **one** city\n",
    "- at each turn Butch moves of **two** cities, because he has a fast Mustang horse\n",
    "\n",
    "Write some code which prints the run and terminates as soon as one them arrives to the last city, telling who got the treasure.\n",
    "\n",
    "* In the case both outlaws arrive to the last city at the same time, prints `Final duel in Tombstone!`\n",
    "\n",
    "- your code must work for _any_ `road` and initial position `carson` and `butch`\n",
    "\n",
    "Example - 1 given:\n",
    "\n",
    "```python\n",
    "#             0         1          2           3            4               5\n",
    "road = ['Santa Fe','Denver','Dodge City', 'Silverton', 'Agua Caliente', 'Tombstone']\n",
    "carson,butch  = 3, 0   \n",
    "```\n",
    "\n",
    "it must print:\n",
    "\n",
    "```\n",
    "Carson starts from Silverton\n",
    "Butch starts from Santa Fe\n",
    "Carson reaches Agua Caliente\n",
    "Butch reaches Dodge City\n",
    "Carson reaches Tombstone\n",
    "Butch reaches Agua Caliente\n",
    "\n",
    "Carson takes the treasure in  Tombstone !\n",
    "```\n",
    "\n",
    "Example 2 - given:\n",
    "\n",
    "```python\n",
    "#            0         1          2           3              4               5\n",
    "road = ['Santa Fe','Denver','Dodge City', 'Silverton', 'Agua Caliente', 'Tombstone']\n",
    "carson,butch  = 3, 2    \n",
    "```\n",
    "\n",
    "it must print:\n",
    "\n",
    "```\n",
    "Carson starts from Silverton\n",
    "Butch starts from Dodge City\n",
    "Carson reaches Agua Caliente\n",
    "Butch reaches Agua Caliente\n",
    "Carson reaches Tombstone\n",
    "Butch reaches Tombstone\n",
    "\n",
    "Final duel in  Tombstone !\n",
    "```"
   ]
  },
  {
   "cell_type": "raw",
   "id": "ec77e2fa",
   "metadata": {
    "format": "text/html"
   },
   "source": [
    "<a  class=\"jupman-sol jupman-sol-toggler\" \n",
    " onclick=\"jupman.toggleSolution(this);\" \n",
    " data-jupman-show=\"Show solution\" data-jupman-hide=\"Hide\">Show solution</a><div class=\"jupman-sol jupman-sol-code\" style=\"display:none\">  "
   ]
  },
  {
   "cell_type": "code",
   "execution_count": 25,
   "metadata": {
    "scrolled": true
   },
   "outputs": [
    {
     "name": "stdout",
     "output_type": "stream",
     "text": [
      "Carson starts from Silverton\n",
      "Butch starts from Santa Fe\n",
      "Carson reaches Agua Caliente\n",
      "Butch reaches Dodge City\n",
      "Carson reaches Tombstone\n",
      "Butch reaches Agua Caliente\n",
      "\n",
      "Carson takes the treasure in  Tombstone !\n"
     ]
    }
   ],
   "source": [
    "\n",
    "#           0          1         2              3              4              5 \n",
    "road = ['Santa Fe','Denver','Dodge City', 'Silverton', 'Agua Caliente', 'Tombstone']\n",
    "\n",
    "carson,butch  = 3, 0    #  Carson takes the treasure in Tombstone !\n",
    "#carson,butch  = 0, 0   #  Butch takes the treasure in Tombstone !\n",
    "#carson,butch  = 3, 2   #  Final duel in Tombstone !\n",
    "\n",
    "# write here\n",
    "\n",
    "print('Carson starts from', road[carson])\n",
    "print('Butch starts from', road[butch])\n",
    "\n",
    "while carson < len(road)-1 and butch < len(road)-1:\n",
    "    carson = min(len(road)-1, carson + 1)\n",
    "    butch = min(len(road)-1, butch + 2)\n",
    "    print('Carson reaches', road[carson])\n",
    "    print('Butch reaches', road[butch])\n",
    "    \n",
    "    \n",
    "print()\n",
    "if carson == len(road)-1 and butch == len(road)-1:\n",
    "    print('Final duel in ', road[-1], '!')\n",
    "elif carson == len(road)-1:\n",
    "    print('Carson takes the treasure in ', road[-1], '!')\n",
    "else: \n",
    "    print('Butch takes the treasure in ', road[-1], '!')"
   ]
  },
  {
   "cell_type": "raw",
   "id": "468d290d",
   "metadata": {
    "format": "text/html"
   },
   "source": [
    "</div>"
   ]
  },
  {
   "cell_type": "code",
   "execution_count": 25,
   "metadata": {
    "scrolled": true
   },
   "outputs": [],
   "source": [
    "\n",
    "#           0          1         2              3              4              5 \n",
    "road = ['Santa Fe','Denver','Dodge City', 'Silverton', 'Agua Caliente', 'Tombstone']\n",
    "\n",
    "carson,butch  = 3, 0    #  Carson takes the treasure in Tombstone !\n",
    "#carson,butch  = 0, 0   #  Butch takes the treasure in Tombstone !\n",
    "#carson,butch  = 3, 2   #  Final duel in Tombstone !\n",
    "\n",
    "# write here\n",
    "\n"
   ]
  },
  {
   "cell_type": "markdown",
   "metadata": {},
   "source": [
    "### Exercise - The Balance of Language\n",
    "\n",
    "✪✪ In the sacred writings of Zamfir the Prophet, it is predicted that when all Earth inhabitants speak a language with all the words of same length, universal harmony will be reached among human people. This event is probably far in time and by that epoch the vocabulary of humans will be so wide and varied that checking all the words will certainly require powerful calculations: you are asked to program the underwater servers of Atlantis to perform a check in the centuries to come.\n",
    "\n",
    "Given a string of words `language`, write some code which prints `True` if all the words have the same length, `False` otherwise.\n",
    "\n",
    "To have an efficient algorithm, you must use a `while`:\n",
    "\n",
    "- stop the loop as soon you can determine with certainty the program result\n",
    "- **DO NOT** use `break` nor `continue`"
   ]
  },
  {
   "cell_type": "raw",
   "id": "fc2e0c9a",
   "metadata": {
    "format": "text/html"
   },
   "source": [
    "<a  class=\"jupman-sol jupman-sol-toggler\" \n",
    " onclick=\"jupman.toggleSolution(this);\" \n",
    " data-jupman-show=\"Show solution\" data-jupman-hide=\"Hide\">Show solution</a><div class=\"jupman-sol jupman-sol-code\" style=\"display:none\">  "
   ]
  },
  {
   "cell_type": "code",
   "execution_count": 26,
   "metadata": {},
   "outputs": [
    {
     "name": "stdout",
     "output_type": "stream",
     "text": [
      "True\n"
     ]
    }
   ],
   "source": [
    "\n",
    "\n",
    "language =  \"eternal harmony forever\"  # True\n",
    "#language = \"war and violence\"      # False\n",
    "#language = \"vi rt uo si ty\"        # True\n",
    "#language = \"deceit bullying\"       # False\n",
    "#language = \"harmony crashed today\" # False\n",
    "#language = \"peace\"                 # True\n",
    "#language = \"\"                      # True\n",
    "\n",
    "# write here\n",
    "li = language.split()\n",
    "\n",
    "n = len(li[0]) if len(li) > 0 else 0\n",
    "\n",
    "all_equal = True\n",
    "i = 1\n",
    "while i < len(li) and all_equal:\n",
    "    if n != len(li[i]):\n",
    "        all_equal = False        \n",
    "    i += 1  \n",
    "\n",
    "print(all_equal)"
   ]
  },
  {
   "cell_type": "raw",
   "id": "ff8d448e",
   "metadata": {
    "format": "text/html"
   },
   "source": [
    "</div>"
   ]
  },
  {
   "cell_type": "code",
   "execution_count": 26,
   "metadata": {},
   "outputs": [],
   "source": [
    "\n",
    "\n",
    "language =  \"eternal harmony forever\"  # True\n",
    "#language = \"war and violence\"      # False\n",
    "#language = \"vi rt uo si ty\"        # True\n",
    "#language = \"deceit bullying\"       # False\n",
    "#language = \"harmony crashed today\" # False\n",
    "#language = \"peace\"                 # True\n",
    "#language = \"\"                      # True\n",
    "\n",
    "# write here\n",
    "\n"
   ]
  },
  {
   "cell_type": "markdown",
   "metadata": {},
   "source": [
    "### Exercise - the tree shaker\n",
    "\n",
    "✪✪✪ Giustino the farmer decides to radically improve his farm productivity with high-tech devices, and asks you to develop a 'tree shaker' (so he calls it..) to perturbate the trees and harvest the exotic fruits he planted in his highlands (thanks to climate change...)\n",
    "\n",
    "The `plantation` is a sequence of fruit trees, elements of the landscape (stones, gravel, etc) and signs `S`. The beginning and end of a subsequence of trees is always marked by a sign. \n",
    "\n",
    "The vehicle to design has a `cargo_bed` of **capacity 7** where it can store the harvest.\n",
    "\n",
    "Write some code to scan the `plantation` and harvests in `cargo_bed` the fruits as they are found.\n",
    "\n",
    "- **USE** a `while`, **stopping** as soon as the `cargo_bed` is full\n",
    "- **DO NOT** use `break` nor `continue`\n",
    "- **DO NOT** write fruit names or landscape elements (no `bananas` nor `rocks` ..). You can still write `'S'`, though."
   ]
  },
  {
   "cell_type": "markdown",
   "metadata": {},
   "source": [
    "Example - given:"
   ]
  },
  {
   "cell_type": "code",
   "execution_count": 27,
   "metadata": {},
   "outputs": [],
   "source": [
    "plantation=['rocks','stones',  'S',   'bananas','oranges','mangos','S',      'sand',    'stones','stones',\n",
    "            'S',    'avocados','S',   'weeds',  'S',      'kiwi',  'mangos', 'S',       'S',     'S',\n",
    "            'rocks','S',       'lime','S',      'pebbles','S',     'oranges','coconuts','S',     'gravel']"
   ]
  },
  {
   "cell_type": "markdown",
   "metadata": {},
   "source": [
    "after your code, it must result:\n",
    "\n",
    "```\n",
    ">>> print(cargo_bed)\n",
    "['bananas', 'oranges', 'mangos', 'avocados', 'kiwi', 'mangos', 'lime']\n",
    "```"
   ]
  },
  {
   "cell_type": "raw",
   "id": "16bc3427",
   "metadata": {
    "format": "text/html"
   },
   "source": [
    "<a  class=\"jupman-sol jupman-sol-toggler\" \n",
    " onclick=\"jupman.toggleSolution(this);\" \n",
    " data-jupman-show=\"Show solution\" data-jupman-hide=\"Hide\">Show solution</a><div class=\"jupman-sol jupman-sol-code\" style=\"display:none\">  "
   ]
  },
  {
   "cell_type": "code",
   "execution_count": 28,
   "metadata": {},
   "outputs": [
    {
     "name": "stdout",
     "output_type": "stream",
     "text": [
      "['bananas', 'oranges', 'mangos', 'avocados', 'kiwi', 'mangos', 'lime']\n"
     ]
    }
   ],
   "source": [
    "          #  0       1          2      3          4        5        6         7         8        9\n",
    "plantation=['rocks','stones',  'S',   'bananas','oranges','mangos','S',      'sand',   'stones','stones',\n",
    "           # 10      11         12     13        14        15       16        17        18       19 \n",
    "            'S',    'avocados','S',   'weeds',  'S',      'kiwi',  'mangos', 'S',      'S',     'S',\n",
    "           # 20      21         22     23        24        25       26        27        28       29\n",
    "            'rocks','S',       'lime','S',      'pebbles','S',     'oranges','coconuts','S',    'gravel']\n",
    "\n",
    "#plantation = ['S','S']   # []\n",
    "#plantation = ['S','lemons','S']   # ['lemons']\n",
    "#plantation = ['sand','S','lemons','S']   # ['lemons']\n",
    "#plantation = ['oranges']   # []\n",
    "#plantation = ['S','1','2','3','4','5','6','7', '8','S']   # ['1','2','3','4','5','6','7']  \n",
    "#plantation = ['S','1','2','S','x','S','3','4','5','6','7','8','S','9']   # ['1','2','3','4','5','6','7']\n",
    "\n",
    "\n",
    "cargo_bed = []\n",
    "\n",
    "# write here\n",
    "\n",
    "harvesting = False\n",
    "i = 0\n",
    "while i < len(plantation) and len(cargo_bed) < 7:\n",
    "    if plantation[i] == 'S':\n",
    "        harvesting = not harvesting\n",
    "    else:\n",
    "        if harvesting: cargo_bed.append(plantation[i])\n",
    "    i += 1\n",
    "\n",
    "print(cargo_bed)"
   ]
  },
  {
   "cell_type": "raw",
   "id": "2ea8b754",
   "metadata": {
    "format": "text/html"
   },
   "source": [
    "</div>"
   ]
  },
  {
   "cell_type": "code",
   "execution_count": 28,
   "metadata": {},
   "outputs": [
    {
     "name": "stdout",
     "output_type": "stream",
     "text": [
      "['bananas', 'oranges', 'mangos', 'avocados', 'kiwi', 'mangos', 'lime']\n"
     ]
    }
   ],
   "source": [
    "          #  0       1          2      3          4        5        6         7         8        9\n",
    "plantation=['rocks','stones',  'S',   'bananas','oranges','mangos','S',      'sand',   'stones','stones',\n",
    "           # 10      11         12     13        14        15       16        17        18       19 \n",
    "            'S',    'avocados','S',   'weeds',  'S',      'kiwi',  'mangos', 'S',      'S',     'S',\n",
    "           # 20      21         22     23        24        25       26        27        28       29\n",
    "            'rocks','S',       'lime','S',      'pebbles','S',     'oranges','coconuts','S',    'gravel']\n",
    "\n",
    "#plantation = ['S','S']   # []\n",
    "#plantation = ['S','lemons','S']   # ['lemons']\n",
    "#plantation = ['sand','S','lemons','S']   # ['lemons']\n",
    "#plantation = ['oranges']   # []\n",
    "#plantation = ['S','1','2','3','4','5','6','7', '8','S']   # ['1','2','3','4','5','6','7']  \n",
    "#plantation = ['S','1','2','S','x','S','3','4','5','6','7','8','S','9']   # ['1','2','3','4','5','6','7']\n",
    "\n",
    "\n",
    "cargo_bed = []\n",
    "\n",
    "# write here\n",
    "\n"
   ]
  },
  {
   "cell_type": "markdown",
   "metadata": {},
   "source": [
    "### Exercise - the ghost castle\n",
    "\n",
    "✪✪✪ Given a `string` and two characters `char1` and `char2`, write some code which PRINTS `True` if all occurrences of `char1` in `string` are **always** followed by `char2`\n",
    "\n",
    "Example - given:\n",
    "\n",
    "```python\n",
    "string,char1,char2 = 'fantastic story of the ghost castle', 's','t'\n",
    "```\n",
    "\n",
    "prints `True` because all the occurrences of `s` are followed by `t`\n",
    "\n",
    "```python\n",
    "string,char1,char2 = \"enthusiastic dadaist\", 's','t'\n",
    "```\n",
    "\n",
    "prints `False`, because the sequence `si` is found, where `s` is not followed by `t`\n",
    "\n",
    "- **USE** a `while`, try to make it efficient by stopping as soon as possible.\n",
    "- **DO NOT** use **break**\n",
    "- **DO NOT** use any search method (no `index`, `find`, `replace`, `count`...)"
   ]
  },
  {
   "cell_type": "raw",
   "id": "6851a60f",
   "metadata": {
    "format": "text/html"
   },
   "source": [
    "<a  class=\"jupman-sol jupman-sol-toggler\" \n",
    " onclick=\"jupman.toggleSolution(this);\" \n",
    " data-jupman-show=\"Show solution\" data-jupman-hide=\"Hide\">Show solution</a><div class=\"jupman-sol jupman-sol-code\" style=\"display:none\">  "
   ]
  },
  {
   "cell_type": "code",
   "execution_count": 29,
   "metadata": {},
   "outputs": [
    {
     "data": {
      "text/plain": [
       "True"
      ]
     },
     "execution_count": 29,
     "metadata": {},
     "output_type": "execute_result"
    }
   ],
   "source": [
    "\n",
    "string,char1,char2 = 'fantastic story of the ghost castle', 's','t' # True\n",
    "#string,char1,char2 = \"enthusiastic dadaist\", 's','t'    # False\n",
    "#string,char1,char2 = \"beetroots\", 'r','o'           # True\n",
    "#string,char1,char2 = \"beetroots\", 'e','o'           # False\n",
    "#string,char1,char2 = \"a\", 'a','b'                      # False\n",
    "#string,char1,char2 = \"ab\", 'a','b'                     # True\n",
    "#string,char1,char2 = \"aa\", 'a','b'                     # False\n",
    "\n",
    "\n",
    "# write here\n",
    "i = 0\n",
    "\n",
    "res = True\n",
    "\n",
    "if len(string) == 1:\n",
    "    res = False\n",
    "\n",
    "while i + 1 < len(string) and res:\n",
    "    if string[i] == char1 and string[i+1] != char2:\n",
    "        res = False\n",
    "    i += 1\n",
    "    \n",
    "res    "
   ]
  },
  {
   "cell_type": "raw",
   "id": "087b5ff7",
   "metadata": {
    "format": "text/html"
   },
   "source": [
    "</div>"
   ]
  },
  {
   "cell_type": "code",
   "execution_count": 29,
   "metadata": {},
   "outputs": [],
   "source": [
    "\n",
    "string,char1,char2 = 'fantastic story of the ghost castle', 's','t' # True\n",
    "#string,char1,char2 = \"enthusiastic dadaist\", 's','t'    # False\n",
    "#string,char1,char2 = \"beetroots\", 'r','o'           # True\n",
    "#string,char1,char2 = \"beetroots\", 'e','o'           # False\n",
    "#string,char1,char2 = \"a\", 'a','b'                      # False\n",
    "#string,char1,char2 = \"ab\", 'a','b'                     # True\n",
    "#string,char1,char2 = \"aa\", 'a','b'                     # False\n",
    "\n",
    "\n",
    "# write here\n",
    "\n"
   ]
  },
  {
   "cell_type": "markdown",
   "metadata": {},
   "source": [
    "## Modifying sequences\n",
    "\n",
    "In the tutorial on `for` loops we've seen an important warning we repeat here:\n",
    "\n",
    "<div class=\"alert alert-info\" >\n",
    "\n",
    "[X COMMANDMENT](https://en.softpython.org/commandments.html#X-COMMANDMENT): \n",
    "**You shall never ever add or remove elements from a sequence you are iterating with a** `for` **!**\n",
    "\n",
    "\n",
    "Falling into such temptations **would produce totally unpredictable behaviours** (do you know the expression _pulling the rug out from under your feet ?_ )\n",
    "\n",
    "**If you really need to remove elements from a sequence you are iterating**, use a while cycle or duplicate first a copy of the original sequence.    \n",
    "</div>\n",
    "\n",
    "**Note the advice is only about** `for` **cycles**. In case of necessity, at the end suggests to adopt `while` loops. Let's see when and how ot use them."
   ]
  },
  {
   "cell_type": "markdown",
   "metadata": {},
   "source": [
    "### Stack - Drawing from a card deck\n",
    "\n",
    "Suppose having a deck of cards which we represent as a list of strings, and we want to draw all the cards, reading them one by one.\n",
    "\n",
    "We can write a `while` that as long as the deck contains cards, keeps removing cards from the top with the [pop method](https://en.softpython.org/lists/lists3-sol.html#pop-method) and prints their name. Remember `pop` MODIFIES the list by removing the last element AND gives back the element as call result, which we can save in a variable we will call `card`:"
   ]
  },
  {
   "cell_type": "code",
   "execution_count": 30,
   "metadata": {},
   "outputs": [
    {
     "name": "stdout",
     "output_type": "stream",
     "text": [
      "Drawn 8 clubs\n",
      "Drawn 5 diamonds\n",
      "Drawn 9 hearts\n",
      "Drawn 2 spades\n",
      "Drawn 3 hearts\n",
      "No more cards!\n"
     ]
    },
    {
     "data": {
      "text/html": [
       "\n",
       "        <script src=\"../_static/js/pytutor-embed.bundle.min.js\" type=\"application/javascript\"></script>\n",
       "     \n",
       "        <script id=\"json-jm889cb05a-3e7e-4050-8b2c-324fe08eea16\" type=\"application/json\" >\n",
       "            {\"code\": \" \\ndeck = ['3 hearts',   # <---- bottom\\n        '2 spades',\\n        '9 hearts',\\n        '5 diamonds',\\n        '8 clubs']    # <---- top\\n\\nwhile len(deck) > 0:\\n    card = deck.pop()      \\n    print('Drawn', card)\\n\\nprint('No more cards!')\", \"trace\": [{\"line\": 2, \"event\": \"step_line\", \"func_name\": \"<module>\", \"globals\": {}, \"ordered_globals\": [], \"stack_to_render\": [], \"heap\": {}, \"stdout\": \"\"}, {\"line\": 3, \"event\": \"step_line\", \"func_name\": \"<module>\", \"globals\": {}, \"ordered_globals\": [], \"stack_to_render\": [], \"heap\": {}, \"stdout\": \"\"}, {\"line\": 4, \"event\": \"step_line\", \"func_name\": \"<module>\", \"globals\": {}, \"ordered_globals\": [], \"stack_to_render\": [], \"heap\": {}, \"stdout\": \"\"}, {\"line\": 5, \"event\": \"step_line\", \"func_name\": \"<module>\", \"globals\": {}, \"ordered_globals\": [], \"stack_to_render\": [], \"heap\": {}, \"stdout\": \"\"}, {\"line\": 6, \"event\": \"step_line\", \"func_name\": \"<module>\", \"globals\": {}, \"ordered_globals\": [], \"stack_to_render\": [], \"heap\": {}, \"stdout\": \"\"}, {\"line\": 8, \"event\": \"step_line\", \"func_name\": \"<module>\", \"globals\": {\"deck\": [\"REF\", 1]}, \"ordered_globals\": [\"deck\"], \"stack_to_render\": [], \"heap\": {\"1\": [\"LIST\", \"3 hearts\", \"2 spades\", \"9 hearts\", \"5 diamonds\", \"8 clubs\"]}, \"stdout\": \"\"}, {\"line\": 9, \"event\": \"step_line\", \"func_name\": \"<module>\", \"globals\": {\"deck\": [\"REF\", 1]}, \"ordered_globals\": [\"deck\"], \"stack_to_render\": [], \"heap\": {\"1\": [\"LIST\", \"3 hearts\", \"2 spades\", \"9 hearts\", \"5 diamonds\", \"8 clubs\"]}, \"stdout\": \"\"}, {\"line\": 10, \"event\": \"step_line\", \"func_name\": \"<module>\", \"globals\": {\"deck\": [\"REF\", 1], \"card\": \"8 clubs\"}, \"ordered_globals\": [\"deck\", \"card\"], \"stack_to_render\": [], \"heap\": {\"1\": [\"LIST\", \"3 hearts\", \"2 spades\", \"9 hearts\", \"5 diamonds\"]}, \"stdout\": \"\"}, {\"line\": 8, \"event\": \"step_line\", \"func_name\": \"<module>\", \"globals\": {\"deck\": [\"REF\", 1], \"card\": \"8 clubs\"}, \"ordered_globals\": [\"deck\", \"card\"], \"stack_to_render\": [], \"heap\": {\"1\": [\"LIST\", \"3 hearts\", \"2 spades\", \"9 hearts\", \"5 diamonds\"]}, \"stdout\": \"Drawn 8 clubs\\n\"}, {\"line\": 9, \"event\": \"step_line\", \"func_name\": \"<module>\", \"globals\": {\"deck\": [\"REF\", 1], \"card\": \"8 clubs\"}, \"ordered_globals\": [\"deck\", \"card\"], \"stack_to_render\": [], \"heap\": {\"1\": [\"LIST\", \"3 hearts\", \"2 spades\", \"9 hearts\", \"5 diamonds\"]}, \"stdout\": \"Drawn 8 clubs\\n\"}, {\"line\": 10, \"event\": \"step_line\", \"func_name\": \"<module>\", \"globals\": {\"deck\": [\"REF\", 1], \"card\": \"5 diamonds\"}, \"ordered_globals\": [\"deck\", \"card\"], \"stack_to_render\": [], \"heap\": {\"1\": [\"LIST\", \"3 hearts\", \"2 spades\", \"9 hearts\"]}, \"stdout\": \"Drawn 8 clubs\\n\"}, {\"line\": 8, \"event\": \"step_line\", \"func_name\": \"<module>\", \"globals\": {\"deck\": [\"REF\", 1], \"card\": \"5 diamonds\"}, \"ordered_globals\": [\"deck\", \"card\"], \"stack_to_render\": [], \"heap\": {\"1\": [\"LIST\", \"3 hearts\", \"2 spades\", \"9 hearts\"]}, \"stdout\": \"Drawn 8 clubs\\nDrawn 5 diamonds\\n\"}, {\"line\": 9, \"event\": \"step_line\", \"func_name\": \"<module>\", \"globals\": {\"deck\": [\"REF\", 1], \"card\": \"5 diamonds\"}, \"ordered_globals\": [\"deck\", \"card\"], \"stack_to_render\": [], \"heap\": {\"1\": [\"LIST\", \"3 hearts\", \"2 spades\", \"9 hearts\"]}, \"stdout\": \"Drawn 8 clubs\\nDrawn 5 diamonds\\n\"}, {\"line\": 10, \"event\": \"step_line\", \"func_name\": \"<module>\", \"globals\": {\"deck\": [\"REF\", 1], \"card\": \"9 hearts\"}, \"ordered_globals\": [\"deck\", \"card\"], \"stack_to_render\": [], \"heap\": {\"1\": [\"LIST\", \"3 hearts\", \"2 spades\"]}, \"stdout\": \"Drawn 8 clubs\\nDrawn 5 diamonds\\n\"}, {\"line\": 8, \"event\": \"step_line\", \"func_name\": \"<module>\", \"globals\": {\"deck\": [\"REF\", 1], \"card\": \"9 hearts\"}, \"ordered_globals\": [\"deck\", \"card\"], \"stack_to_render\": [], \"heap\": {\"1\": [\"LIST\", \"3 hearts\", \"2 spades\"]}, \"stdout\": \"Drawn 8 clubs\\nDrawn 5 diamonds\\nDrawn 9 hearts\\n\"}, {\"line\": 9, \"event\": \"step_line\", \"func_name\": \"<module>\", \"globals\": {\"deck\": [\"REF\", 1], \"card\": \"9 hearts\"}, \"ordered_globals\": [\"deck\", \"card\"], \"stack_to_render\": [], \"heap\": {\"1\": [\"LIST\", \"3 hearts\", \"2 spades\"]}, \"stdout\": \"Drawn 8 clubs\\nDrawn 5 diamonds\\nDrawn 9 hearts\\n\"}, {\"line\": 10, \"event\": \"step_line\", \"func_name\": \"<module>\", \"globals\": {\"deck\": [\"REF\", 1], \"card\": \"2 spades\"}, \"ordered_globals\": [\"deck\", \"card\"], \"stack_to_render\": [], \"heap\": {\"1\": [\"LIST\", \"3 hearts\"]}, \"stdout\": \"Drawn 8 clubs\\nDrawn 5 diamonds\\nDrawn 9 hearts\\n\"}, {\"line\": 8, \"event\": \"step_line\", \"func_name\": \"<module>\", \"globals\": {\"deck\": [\"REF\", 1], \"card\": \"2 spades\"}, \"ordered_globals\": [\"deck\", \"card\"], \"stack_to_render\": [], \"heap\": {\"1\": [\"LIST\", \"3 hearts\"]}, \"stdout\": \"Drawn 8 clubs\\nDrawn 5 diamonds\\nDrawn 9 hearts\\nDrawn 2 spades\\n\"}, {\"line\": 9, \"event\": \"step_line\", \"func_name\": \"<module>\", \"globals\": {\"deck\": [\"REF\", 1], \"card\": \"2 spades\"}, \"ordered_globals\": [\"deck\", \"card\"], \"stack_to_render\": [], \"heap\": {\"1\": [\"LIST\", \"3 hearts\"]}, \"stdout\": \"Drawn 8 clubs\\nDrawn 5 diamonds\\nDrawn 9 hearts\\nDrawn 2 spades\\n\"}, {\"line\": 10, \"event\": \"step_line\", \"func_name\": \"<module>\", \"globals\": {\"deck\": [\"REF\", 1], \"card\": \"3 hearts\"}, \"ordered_globals\": [\"deck\", \"card\"], \"stack_to_render\": [], \"heap\": {\"1\": [\"LIST\"]}, \"stdout\": \"Drawn 8 clubs\\nDrawn 5 diamonds\\nDrawn 9 hearts\\nDrawn 2 spades\\n\"}, {\"line\": 8, \"event\": \"step_line\", \"func_name\": \"<module>\", \"globals\": {\"deck\": [\"REF\", 1], \"card\": \"3 hearts\"}, \"ordered_globals\": [\"deck\", \"card\"], \"stack_to_render\": [], \"heap\": {\"1\": [\"LIST\"]}, \"stdout\": \"Drawn 8 clubs\\nDrawn 5 diamonds\\nDrawn 9 hearts\\nDrawn 2 spades\\nDrawn 3 hearts\\n\"}, {\"line\": 12, \"event\": \"step_line\", \"func_name\": \"<module>\", \"globals\": {\"deck\": [\"REF\", 1], \"card\": \"3 hearts\"}, \"ordered_globals\": [\"deck\", \"card\"], \"stack_to_render\": [], \"heap\": {\"1\": [\"LIST\"]}, \"stdout\": \"Drawn 8 clubs\\nDrawn 5 diamonds\\nDrawn 9 hearts\\nDrawn 2 spades\\nDrawn 3 hearts\\n\"}, {\"line\": 12, \"event\": \"return\", \"func_name\": \"<module>\", \"globals\": {\"deck\": [\"REF\", 1], \"card\": \"3 hearts\"}, \"ordered_globals\": [\"deck\", \"card\"], \"stack_to_render\": [], \"heap\": {\"1\": [\"LIST\"]}, \"stdout\": \"Drawn 8 clubs\\nDrawn 5 diamonds\\nDrawn 9 hearts\\nDrawn 2 spades\\nDrawn 3 hearts\\nNo more cards!\\n\"}]}\n",
       "        </script>\n",
       "        <div id=\"jm889cb05a-3e7e-4050-8b2c-324fe08eea16\" class=\"pytutorVisualizer\"> </div>\n",
       " \n",
       "        <style>\n",
       "        .vizLayoutTd {\n",
       "            background-color: #fff !important;\n",
       "        }\n",
       "\n",
       "        #pyStdout {            \n",
       "            min-height:25px;\n",
       "        }\n",
       "\n",
       "        /* 'Edit this code' link, hiding because replaces browser tab !!!*/\n",
       "        #editCodeLinkDiv {\n",
       "            display:none;  \n",
       "        }\n",
       "        </style>   \n",
       "                            \n",
       "        <script>\n",
       "        (function(){\n",
       "\n",
       "            var trace = JSON.parse(document.getElementById('json-jm889cb05a-3e7e-4050-8b2c-324fe08eea16').innerHTML);                                        \n",
       "            // NOTE 1: id without #\n",
       "            // NOTE 2 - maybe there are more predictable ways, but this will work anyway\n",
       "            //        - id should be number\n",
       "            visualizerIdOverride = Math.trunc(Math.random() * 100000000000)\n",
       "            addVisualizerToPage(trace, 'jm889cb05a-3e7e-4050-8b2c-324fe08eea16',{'embeddedMode' : false,\n",
       "                                             'visualizerIdOverride':visualizerIdOverride})  \n",
       "            \n",
       "            \n",
       "            // set overflow for pytuts - need to do in python as css \n",
       "            // does not allow parent selection\n",
       "            var pytuts = $('.pytutorVisualizer')\n",
       "            pytuts.closest('div.output_html.rendered_html.output_result')\n",
       "                    .css('overflow-x', 'visible')\n",
       "        \n",
       "            //pytuts.closest('div.output_html.rendered_html.output_result')\n",
       "            //      .css('background-color','red')                \n",
       "            \n",
       "        })()\n",
       "        </script>\n",
       "                \n",
       "                "
      ],
      "text/plain": [
       "<IPython.core.display.HTML object>"
      ]
     },
     "execution_count": 30,
     "metadata": {},
     "output_type": "execute_result"
    }
   ],
   "source": [
    "deck = ['3 hearts',   # <---- bottom\n",
    "        '2 spades',\n",
    "        '9 hearts',\n",
    "        '5 diamonds',\n",
    "        '8 clubs']    # <---- top\n",
    "\n",
    "while len(deck) > 0:\n",
    "    card = deck.pop()      \n",
    "    print('Drawn', card)\n",
    "\n",
    "print('No more cards!')\n",
    "\n",
    "jupman.pytut()"
   ]
  },
  {
   "cell_type": "markdown",
   "metadata": {},
   "source": [
    "Looking at the code, we can notice that:\n",
    "\n",
    "1. the variable `deck` is initialized\n",
    "2. we verify that `deck` dimension is greater than zero\n",
    "3. at each step the list `deck` is MODIFIED by reducing its dimension\n",
    "3. it returns to step 2\n",
    "\n",
    "\n",
    "The first three points are the conditions which guarantee the `while` loop will sooner or later actually terminate."
   ]
  },
  {
   "cell_type": "markdown",
   "metadata": {},
   "source": [
    "### Stack - Drawing until condition"
   ]
  },
  {
   "cell_type": "markdown",
   "metadata": {},
   "source": [
    "Suppose now to continue drawing cards until we find a heart suit.\n",
    "The situation is more complicated, because now the cycle can terminate in two ways:\n",
    "\n",
    "1. we find hearts, and interrupt the search\n",
    "2. there aren't heart cards, and the deck is exhausted\n",
    "\n",
    "\n",
    "In any case, in the end we must tell the user a result. To do so, it's convenient  initializing `card` at the beginning  like an empty string for handling the case when no hearts cards are found (or the deck is empty).\n",
    "\n",
    "Let's try a first implementation which uses an internal `if`  to verify whether we have found hearts, and in that case exits with a `break` command.\n",
    "\n",
    "* Try executing the code by uncomment the second deck which has no hearts cards, and look at the different execution."
   ]
  },
  {
   "cell_type": "code",
   "execution_count": 31,
   "metadata": {},
   "outputs": [
    {
     "name": "stdout",
     "output_type": "stream",
     "text": [
      "Drawn 8 clubs\n",
      "Drawn 5 diamonds\n",
      "Drawn 9 hearts\n",
      "Found hearts!\n"
     ]
    },
    {
     "data": {
      "text/html": [
       "\n",
       "        <script src=\"../_static/js/pytutor-embed.bundle.min.js\" type=\"application/javascript\"></script>\n",
       "     \n",
       "        <script id=\"json-jm90330af4-31a6-403f-b38b-f43d4971ce30\" type=\"application/json\" >\n",
       "            {\"code\": \" \\ndeck = ['3 hearts','2 spades','9 hearts','5 diamonds','8 clubs']\\n#deck = ['8 spades','2 spades','5 diamonds','4 clubs']   # no hearts!\\n\\ncard = ''\\nwhile len(deck) > 0:\\n    card = deck.pop()      \\n    print('Drawn', card)\\n    if 'hearts' in card:\\n        break\\n        \\nif 'hearts' in card:\\n    print('Found hearts!')\\nelse:\\n    print(\\\"Didn't find hearts!\\\")\", \"trace\": [{\"line\": 2, \"event\": \"step_line\", \"func_name\": \"<module>\", \"globals\": {}, \"ordered_globals\": [], \"stack_to_render\": [], \"heap\": {}, \"stdout\": \"\"}, {\"line\": 5, \"event\": \"step_line\", \"func_name\": \"<module>\", \"globals\": {\"deck\": [\"REF\", 1]}, \"ordered_globals\": [\"deck\"], \"stack_to_render\": [], \"heap\": {\"1\": [\"LIST\", \"3 hearts\", \"2 spades\", \"9 hearts\", \"5 diamonds\", \"8 clubs\"]}, \"stdout\": \"\"}, {\"line\": 6, \"event\": \"step_line\", \"func_name\": \"<module>\", \"globals\": {\"deck\": [\"REF\", 1], \"card\": \"\"}, \"ordered_globals\": [\"deck\", \"card\"], \"stack_to_render\": [], \"heap\": {\"1\": [\"LIST\", \"3 hearts\", \"2 spades\", \"9 hearts\", \"5 diamonds\", \"8 clubs\"]}, \"stdout\": \"\"}, {\"line\": 7, \"event\": \"step_line\", \"func_name\": \"<module>\", \"globals\": {\"deck\": [\"REF\", 1], \"card\": \"\"}, \"ordered_globals\": [\"deck\", \"card\"], \"stack_to_render\": [], \"heap\": {\"1\": [\"LIST\", \"3 hearts\", \"2 spades\", \"9 hearts\", \"5 diamonds\", \"8 clubs\"]}, \"stdout\": \"\"}, {\"line\": 8, \"event\": \"step_line\", \"func_name\": \"<module>\", \"globals\": {\"deck\": [\"REF\", 1], \"card\": \"8 clubs\"}, \"ordered_globals\": [\"deck\", \"card\"], \"stack_to_render\": [], \"heap\": {\"1\": [\"LIST\", \"3 hearts\", \"2 spades\", \"9 hearts\", \"5 diamonds\"]}, \"stdout\": \"\"}, {\"line\": 9, \"event\": \"step_line\", \"func_name\": \"<module>\", \"globals\": {\"deck\": [\"REF\", 1], \"card\": \"8 clubs\"}, \"ordered_globals\": [\"deck\", \"card\"], \"stack_to_render\": [], \"heap\": {\"1\": [\"LIST\", \"3 hearts\", \"2 spades\", \"9 hearts\", \"5 diamonds\"]}, \"stdout\": \"Drawn 8 clubs\\n\"}, {\"line\": 6, \"event\": \"step_line\", \"func_name\": \"<module>\", \"globals\": {\"deck\": [\"REF\", 1], \"card\": \"8 clubs\"}, \"ordered_globals\": [\"deck\", \"card\"], \"stack_to_render\": [], \"heap\": {\"1\": [\"LIST\", \"3 hearts\", \"2 spades\", \"9 hearts\", \"5 diamonds\"]}, \"stdout\": \"Drawn 8 clubs\\n\"}, {\"line\": 7, \"event\": \"step_line\", \"func_name\": \"<module>\", \"globals\": {\"deck\": [\"REF\", 1], \"card\": \"8 clubs\"}, \"ordered_globals\": [\"deck\", \"card\"], \"stack_to_render\": [], \"heap\": {\"1\": [\"LIST\", \"3 hearts\", \"2 spades\", \"9 hearts\", \"5 diamonds\"]}, \"stdout\": \"Drawn 8 clubs\\n\"}, {\"line\": 8, \"event\": \"step_line\", \"func_name\": \"<module>\", \"globals\": {\"deck\": [\"REF\", 1], \"card\": \"5 diamonds\"}, \"ordered_globals\": [\"deck\", \"card\"], \"stack_to_render\": [], \"heap\": {\"1\": [\"LIST\", \"3 hearts\", \"2 spades\", \"9 hearts\"]}, \"stdout\": \"Drawn 8 clubs\\n\"}, {\"line\": 9, \"event\": \"step_line\", \"func_name\": \"<module>\", \"globals\": {\"deck\": [\"REF\", 1], \"card\": \"5 diamonds\"}, \"ordered_globals\": [\"deck\", \"card\"], \"stack_to_render\": [], \"heap\": {\"1\": [\"LIST\", \"3 hearts\", \"2 spades\", \"9 hearts\"]}, \"stdout\": \"Drawn 8 clubs\\nDrawn 5 diamonds\\n\"}, {\"line\": 6, \"event\": \"step_line\", \"func_name\": \"<module>\", \"globals\": {\"deck\": [\"REF\", 1], \"card\": \"5 diamonds\"}, \"ordered_globals\": [\"deck\", \"card\"], \"stack_to_render\": [], \"heap\": {\"1\": [\"LIST\", \"3 hearts\", \"2 spades\", \"9 hearts\"]}, \"stdout\": \"Drawn 8 clubs\\nDrawn 5 diamonds\\n\"}, {\"line\": 7, \"event\": \"step_line\", \"func_name\": \"<module>\", \"globals\": {\"deck\": [\"REF\", 1], \"card\": \"5 diamonds\"}, \"ordered_globals\": [\"deck\", \"card\"], \"stack_to_render\": [], \"heap\": {\"1\": [\"LIST\", \"3 hearts\", \"2 spades\", \"9 hearts\"]}, \"stdout\": \"Drawn 8 clubs\\nDrawn 5 diamonds\\n\"}, {\"line\": 8, \"event\": \"step_line\", \"func_name\": \"<module>\", \"globals\": {\"deck\": [\"REF\", 1], \"card\": \"9 hearts\"}, \"ordered_globals\": [\"deck\", \"card\"], \"stack_to_render\": [], \"heap\": {\"1\": [\"LIST\", \"3 hearts\", \"2 spades\"]}, \"stdout\": \"Drawn 8 clubs\\nDrawn 5 diamonds\\n\"}, {\"line\": 9, \"event\": \"step_line\", \"func_name\": \"<module>\", \"globals\": {\"deck\": [\"REF\", 1], \"card\": \"9 hearts\"}, \"ordered_globals\": [\"deck\", \"card\"], \"stack_to_render\": [], \"heap\": {\"1\": [\"LIST\", \"3 hearts\", \"2 spades\"]}, \"stdout\": \"Drawn 8 clubs\\nDrawn 5 diamonds\\nDrawn 9 hearts\\n\"}, {\"line\": 10, \"event\": \"step_line\", \"func_name\": \"<module>\", \"globals\": {\"deck\": [\"REF\", 1], \"card\": \"9 hearts\"}, \"ordered_globals\": [\"deck\", \"card\"], \"stack_to_render\": [], \"heap\": {\"1\": [\"LIST\", \"3 hearts\", \"2 spades\"]}, \"stdout\": \"Drawn 8 clubs\\nDrawn 5 diamonds\\nDrawn 9 hearts\\n\"}, {\"line\": 12, \"event\": \"step_line\", \"func_name\": \"<module>\", \"globals\": {\"deck\": [\"REF\", 1], \"card\": \"9 hearts\"}, \"ordered_globals\": [\"deck\", \"card\"], \"stack_to_render\": [], \"heap\": {\"1\": [\"LIST\", \"3 hearts\", \"2 spades\"]}, \"stdout\": \"Drawn 8 clubs\\nDrawn 5 diamonds\\nDrawn 9 hearts\\n\"}, {\"line\": 13, \"event\": \"step_line\", \"func_name\": \"<module>\", \"globals\": {\"deck\": [\"REF\", 1], \"card\": \"9 hearts\"}, \"ordered_globals\": [\"deck\", \"card\"], \"stack_to_render\": [], \"heap\": {\"1\": [\"LIST\", \"3 hearts\", \"2 spades\"]}, \"stdout\": \"Drawn 8 clubs\\nDrawn 5 diamonds\\nDrawn 9 hearts\\n\"}, {\"line\": 13, \"event\": \"return\", \"func_name\": \"<module>\", \"globals\": {\"deck\": [\"REF\", 1], \"card\": \"9 hearts\"}, \"ordered_globals\": [\"deck\", \"card\"], \"stack_to_render\": [], \"heap\": {\"1\": [\"LIST\", \"3 hearts\", \"2 spades\"]}, \"stdout\": \"Drawn 8 clubs\\nDrawn 5 diamonds\\nDrawn 9 hearts\\nFound hearts!\\n\"}]}\n",
       "        </script>\n",
       "        <div id=\"jm90330af4-31a6-403f-b38b-f43d4971ce30\" class=\"pytutorVisualizer\"> </div>\n",
       " \n",
       "        <style>\n",
       "        .vizLayoutTd {\n",
       "            background-color: #fff !important;\n",
       "        }\n",
       "\n",
       "        #pyStdout {            \n",
       "            min-height:25px;\n",
       "        }\n",
       "\n",
       "        /* 'Edit this code' link, hiding because replaces browser tab !!!*/\n",
       "        #editCodeLinkDiv {\n",
       "            display:none;  \n",
       "        }\n",
       "        </style>   \n",
       "                            \n",
       "        <script>\n",
       "        (function(){\n",
       "\n",
       "            var trace = JSON.parse(document.getElementById('json-jm90330af4-31a6-403f-b38b-f43d4971ce30').innerHTML);                                        \n",
       "            // NOTE 1: id without #\n",
       "            // NOTE 2 - maybe there are more predictable ways, but this will work anyway\n",
       "            //        - id should be number\n",
       "            visualizerIdOverride = Math.trunc(Math.random() * 100000000000)\n",
       "            addVisualizerToPage(trace, 'jm90330af4-31a6-403f-b38b-f43d4971ce30',{'embeddedMode' : false,\n",
       "                                             'visualizerIdOverride':visualizerIdOverride})  \n",
       "            \n",
       "            \n",
       "            // set overflow for pytuts - need to do in python as css \n",
       "            // does not allow parent selection\n",
       "            var pytuts = $('.pytutorVisualizer')\n",
       "            pytuts.closest('div.output_html.rendered_html.output_result')\n",
       "                    .css('overflow-x', 'visible')\n",
       "        \n",
       "            //pytuts.closest('div.output_html.rendered_html.output_result')\n",
       "            //      .css('background-color','red')                \n",
       "            \n",
       "        })()\n",
       "        </script>\n",
       "                \n",
       "                "
      ],
      "text/plain": [
       "<IPython.core.display.HTML object>"
      ]
     },
     "execution_count": 31,
     "metadata": {},
     "output_type": "execute_result"
    }
   ],
   "source": [
    "deck = ['3 hearts','2 spades','9 hearts','5 diamonds','8 clubs']\n",
    "#deck = ['8 spades','2 spades','5 diamonds','4 clubs']   # no hearts!\n",
    "\n",
    "card = ''\n",
    "while len(deck) > 0:\n",
    "    card = deck.pop()      \n",
    "    print('Drawn', card)\n",
    "    if 'hearts' in card:\n",
    "        break\n",
    "        \n",
    "if 'hearts' in card:\n",
    "    print('Found hearts!')\n",
    "else:\n",
    "    print(\"Didn't find hearts!\")\n",
    "\n",
    "jupman.pytut()"
   ]
  },
  {
   "cell_type": "markdown",
   "metadata": {},
   "source": [
    "### Exercise - Don't break my heart\n",
    "\n",
    "✪ Write some code which solves the same previous problem:\n",
    "\n",
    "* this time **DO NOT** use `break`\n",
    "* ensure the code works with a deck without hearts, and also with an empty deck\n",
    "* **HINT**: put a multiple condition in the `while`"
   ]
  },
  {
   "cell_type": "raw",
   "id": "0b922fb3",
   "metadata": {
    "format": "text/html"
   },
   "source": [
    "<a  class=\"jupman-sol jupman-sol-toggler\" \n",
    " onclick=\"jupman.toggleSolution(this);\" \n",
    " data-jupman-show=\"Show solution\" data-jupman-hide=\"Hide\">Show solution</a><div class=\"jupman-sol jupman-sol-code\" style=\"display:none\">  "
   ]
  },
  {
   "cell_type": "code",
   "execution_count": 32,
   "metadata": {},
   "outputs": [
    {
     "name": "stdout",
     "output_type": "stream",
     "text": [
      "Drawn 8 clubs\n",
      "Drawn 5 diamonds\n",
      "Drawn 9 hearts\n",
      "Found hearts!\n"
     ]
    }
   ],
   "source": [
    "\n",
    "deck = ['3 hearts','2 spades','9 hearts','5 diamonds','8 clubs']\n",
    "#deck = ['8 spades','2 spades','5 diamonds','4 clubs']   # no hearts!\n",
    "#deck = []  #  no hearts !\n",
    "\n",
    "card = ''\n",
    "\n",
    "# write here\n",
    "\n",
    "while len(deck) > 0 and 'hearts' not in card:\n",
    "    card = deck.pop()      \n",
    "    print('Drawn', card)\n",
    "\n",
    "if 'hearts' in card: \n",
    "    print(\"Found hearts!\")\n",
    "else:\n",
    "    print(\"Didn't find hearts!\")\n"
   ]
  },
  {
   "cell_type": "raw",
   "id": "02760402",
   "metadata": {
    "format": "text/html"
   },
   "source": [
    "</div>"
   ]
  },
  {
   "cell_type": "code",
   "execution_count": 32,
   "metadata": {},
   "outputs": [],
   "source": [
    "\n",
    "deck = ['3 hearts','2 spades','9 hearts','5 diamonds','8 clubs']\n",
    "#deck = ['8 spades','2 spades','5 diamonds','4 clubs']   # no hearts!\n",
    "#deck = []  #  no hearts !\n",
    "\n",
    "card = ''\n",
    "\n",
    "# write here\n",
    "\n"
   ]
  },
  {
   "cell_type": "markdown",
   "metadata": {},
   "source": [
    "### Questions - what happens?\n",
    "\n",
    "**QUESTION**: Look at the following code fragments , and for each try guessing the result it produces (or if it gives an error):\n",
    "\n",
    "1.  ```python\n",
    "    while []:\n",
    "        print('z')\n",
    "    print('BIG')\n",
    "    ```\n",
    "    \n",
    "1.  ```python\n",
    "    while ['a']:\n",
    "        print('z')\n",
    "    print('BUG')\n",
    "    ```\n",
    "1.  ```python\n",
    "    la = []\n",
    "    while len(la) < 3:\n",
    "        la.append('x')\n",
    "    print(la)\n",
    "    ```\n",
    "1.  ```python\n",
    "    la = ['x','y','z']\n",
    "    while len(la) > 0:\n",
    "        print(la.pop())\n",
    "    ```\n",
    "1.  ```python\n",
    "    la = ['x','y','z']\n",
    "    while la:\n",
    "        print(la.pop(0))    \n",
    "    ```\n",
    "1.  ```python\n",
    "    la = [4,5,8,10]\n",
    "    while la.pop() % 2 == 0:\n",
    "        print(la)\n",
    "    ```"
   ]
  },
  {
   "cell_type": "markdown",
   "metadata": {},
   "source": [
    "### Questions - are they equivalent?\n",
    "\n",
    "Look at the following code fragments: each contains two parts, A and B. For each value of the variables they depend on, try guessing whether part A will print exactly the same result printed by code in part B\n",
    "\n",
    "* **FIRST** think about the answer\n",
    "* **THEN** try executing with each of the values of suggested variables"
   ]
  },
  {
   "cell_type": "markdown",
   "metadata": {},
   "source": [
    "### Are they equivalent? - train\n",
    "\n",
    "```python\n",
    "print('A:')\n",
    "la = ['t','r','a','i','n']\n",
    "while len(la) > 0:\n",
    "    print(la.pop())\n",
    "    \n",
    "print('\\nB:')\n",
    "la = ['t','r','a','i','n']\n",
    "la.reverse()\n",
    "while len(la) > 0:\n",
    "    print(la.pop(0))\n",
    "```"
   ]
  },
  {
   "cell_type": "markdown",
   "metadata": {},
   "source": [
    "### Are they equivalent? - append nx\n",
    "\n",
    "```python\n",
    "print('A:')\n",
    "x,n,la = 2,0,[]\n",
    "while x not in la:\n",
    "    la.append(n)\n",
    "    n += 1\n",
    "print(la)\n",
    "\n",
    "print('\\nB:')\n",
    "x,la = 2,[]\n",
    "while len(la) < 3:\n",
    "    la.append(x)\n",
    "    x += 1\n",
    "print(la)\n",
    "```"
   ]
  },
  {
   "cell_type": "markdown",
   "metadata": {},
   "source": [
    "## Exercises - stack"
   ]
  },
  {
   "cell_type": "markdown",
   "metadata": {},
   "source": [
    "### Exercise - break sum\n",
    "\n",
    "✪ Look at the following code, and rewrite it in the following cell as `while`\n",
    "\n",
    "* this time **use command** `break`"
   ]
  },
  {
   "cell_type": "code",
   "execution_count": 33,
   "metadata": {},
   "outputs": [
    {
     "name": "stdout",
     "output_type": "stream",
     "text": [
      "[0]\n",
      "[0, 1]\n",
      "[0, 1, 2]\n",
      "[0, 1, 2, 3]\n",
      "[0, 1, 2, 3, 4]\n"
     ]
    }
   ],
   "source": [
    "lst = []\n",
    "i = 0\n",
    "k = 10\n",
    "while sum(lst) < k:\n",
    "    lst.append(i)\n",
    "    i += 1\n",
    "    print(lst)"
   ]
  },
  {
   "cell_type": "raw",
   "id": "e5be400d",
   "metadata": {
    "format": "text/html"
   },
   "source": [
    "<a  class=\"jupman-sol jupman-sol-toggler\" \n",
    " onclick=\"jupman.toggleSolution(this);\" \n",
    " data-jupman-show=\"Show solution\" data-jupman-hide=\"Hide\">Show solution</a><div class=\"jupman-sol jupman-sol-code\" style=\"display:none\">  "
   ]
  },
  {
   "cell_type": "code",
   "execution_count": 34,
   "metadata": {},
   "outputs": [
    {
     "name": "stdout",
     "output_type": "stream",
     "text": [
      "[0]\n",
      "[0, 1]\n",
      "[0, 1, 2]\n",
      "[0, 1, 2, 3]\n",
      "[0, 1, 2, 3, 4]\n"
     ]
    }
   ],
   "source": [
    "\n",
    "lst = []\n",
    "i = 0\n",
    "\n",
    "# write here\n",
    "\n",
    "while True:    \n",
    "    if sum(lst) >= k:\n",
    "        break\n",
    "    else:        \n",
    "        lst.append(i)\n",
    "        i += 1\n",
    "        print(lst)"
   ]
  },
  {
   "cell_type": "raw",
   "id": "413bffb6",
   "metadata": {
    "format": "text/html"
   },
   "source": [
    "</div>"
   ]
  },
  {
   "cell_type": "code",
   "execution_count": 34,
   "metadata": {},
   "outputs": [],
   "source": [
    "\n",
    "lst = []\n",
    "i = 0\n",
    "\n",
    "# write here\n",
    "\n"
   ]
  },
  {
   "cell_type": "markdown",
   "metadata": {},
   "source": [
    "### Exercise - travelbook\n",
    "\n",
    "✪✪ Suppose you visited the attic and found a stack of books, which we represent as a list of strings. Each string is prefixed by a label of one character indicating the category (D for Detective story, T for Travel, H for History)\n",
    "\n",
    "```python\n",
    "stack = ['H-Middle Ages',   # <---- bottom\n",
    "         'T-Australia',        \n",
    "         'T-Scotland',        \n",
    "         'D-Suspects',\n",
    "         'T-Caribbean']    # <---- top\n",
    "```\n",
    "\n",
    "Since we are passionate about travel books, we want to examine `stack` one book at a time to transfer books into another pile we call `ŧravel`, which at the beginning is empty. We start from the top book in `stack`, and transfer into  `travel` only the books starting with the label `T` like (`'T-Australia'`)\n",
    "\n",
    "\n",
    "```python\n",
    "travel = []\n",
    "```\n",
    "\n",
    "Write some code that produces the following print:\n",
    "\n",
    "```\n",
    "At the beginning:\n",
    "    stack:   ['H-Middle Ages', 'T-Australia', 'T-Scotland', 'D-Suspects', 'T-Caribbean']\n",
    "    travel: []\n",
    "Taken T-Caribbean\n",
    "    stack:   ['H-Middle Ages', 'T-Australia', 'T-Scotland', 'D-Suspects']\n",
    "    travel: ['T-Caribbean']\n",
    "Discarded D-Suspects\n",
    "    stack:   ['H-Middle Ages', 'T-Australia', 'T-Scotland']\n",
    "    travel: ['T-Caribbean']\n",
    "Taken T-Scotland\n",
    "    stack:   ['H-Middle Ages', 'T-Australia']\n",
    "    travel: ['T-Caribbean', 'T-Scotland']\n",
    "Taken T-Australia\n",
    "    stack:   ['H-Middle Ages']\n",
    "    travel: ['T-Caribbean', 'T-Scotland', 'T-Australia']\n",
    "Discarded H-Middle Ages\n",
    "    stack:   []\n",
    "    travel: ['T-Caribbean', 'T-Scotland', 'T-Australia']\n",
    "```\n",
    "\n",
    "* The non-travel books are not interesting and must be discarded\n",
    "* Your code must work with _any_  `stack` list"
   ]
  },
  {
   "cell_type": "raw",
   "id": "6a54449e",
   "metadata": {
    "format": "text/html"
   },
   "source": [
    "<a  class=\"jupman-sol jupman-sol-toggler\" \n",
    " onclick=\"jupman.toggleSolution(this);\" \n",
    " data-jupman-show=\"Show solution\" data-jupman-hide=\"Hide\">Show solution</a><div class=\"jupman-sol jupman-sol-code\" style=\"display:none\">  "
   ]
  },
  {
   "cell_type": "code",
   "execution_count": 35,
   "metadata": {},
   "outputs": [
    {
     "name": "stdout",
     "output_type": "stream",
     "text": [
      "At the beginning:\n",
      "    stack:   ['H-Middle Ages', 'T-Australia', 'T-Scotland', 'D-Suspects', 'T-Caribbean']\n",
      "    travel: []\n",
      "Taken T-Caribbean\n",
      "    stack:   ['H-Middle Ages', 'T-Australia', 'T-Scotland', 'D-Suspects']\n",
      "    travel: ['T-Caribbean']\n",
      "Discarded D-Suspects\n",
      "    stack:   ['H-Middle Ages', 'T-Australia', 'T-Scotland']\n",
      "    travel: ['T-Caribbean']\n",
      "Taken T-Scotland\n",
      "    stack:   ['H-Middle Ages', 'T-Australia']\n",
      "    travel: ['T-Caribbean', 'T-Scotland']\n",
      "Taken T-Australia\n",
      "    stack:   ['H-Middle Ages']\n",
      "    travel: ['T-Caribbean', 'T-Scotland', 'T-Australia']\n",
      "Discarded H-Middle Ages\n",
      "    stack:   []\n",
      "    travel: ['T-Caribbean', 'T-Scotland', 'T-Australia']\n"
     ]
    }
   ],
   "source": [
    "\n",
    "stack = ['H-Middle Ages',   # <---- bottom\n",
    "         'T-Australia',        \n",
    "         'T-Scotland',        \n",
    "         'D-Suspects',\n",
    "         'T-Caribbean']    # <---- top\n",
    "\n",
    "\n",
    "travel = []\n",
    "\n",
    "# write here\n",
    "print(\"At the beginning:\")\n",
    "print('    stack:  ', stack)\n",
    "print('    travel:', travel)\n",
    "\n",
    "while len(stack) > 0:\n",
    "    book = stack.pop() \n",
    "    if book.startswith('T'):\n",
    "        print('Taken',book)    \n",
    "        travel.append(book)\n",
    "    else:\n",
    "        print('Discarded', book)\n",
    "    print('    stack:  ', stack)\n",
    "    print('    travel:', travel)   "
   ]
  },
  {
   "cell_type": "raw",
   "id": "3ef4ca5f",
   "metadata": {
    "format": "text/html"
   },
   "source": [
    "</div>"
   ]
  },
  {
   "cell_type": "code",
   "execution_count": 35,
   "metadata": {},
   "outputs": [],
   "source": [
    "\n",
    "stack = ['H-Middle Ages',   # <---- bottom\n",
    "         'T-Australia',        \n",
    "         'T-Scotland',        \n",
    "         'D-Suspects',\n",
    "         'T-Caribbean']    # <---- top\n",
    "\n",
    "\n",
    "travel = []\n",
    "\n",
    "# write here\n",
    "\n"
   ]
  },
  {
   "cell_type": "markdown",
   "metadata": {},
   "source": [
    "### Exercise - BANG !\n",
    "\n",
    "✪✪ There are two stacks of objects `right_stack` and `left_stack` which we represent as lists of strings. As a pastime, a cowboy decides to shoot the objects at the top of the stacks, alternating the stack at each shoot. The cowboy is skilled and always hits the target, so each shot decreases a stack.\n",
    "\n",
    "\n",
    "- Suppose the objects on top are the ones at the end of the list\n",
    "- To keep track of which stack to hit, use a variable `shoot` holding either `'R'` or `'L'` character\n",
    "- After each shot the cowboy if possible changes the stack , otherwise keeps shooting at the same stack until it's empty.\n",
    "\n",
    "- your code must work for _any_ stack and initial shot\n",
    "\n",
    "Example - given:\n",
    "\n",
    "\n",
    "```python\n",
    "left_stack = ['box','boot','horseshoe','bucket']\n",
    "right_stack = ['bin','saddle','tin can']\n",
    "shoot = 'R'\n",
    "```\n",
    "\n",
    "after your code, it must print:\n",
    "\n",
    "```\n",
    "Ready?\n",
    "   left_stack: ['box', 'boot', 'horseshoe', 'bucket']\n",
    "  right_stack: ['bin', 'saddle', 'tin can']\n",
    "BANG! right:  tin can\n",
    "   left_stack: ['box', 'boot', 'horseshoe', 'bucket']\n",
    "  right_stack: ['bin', 'saddle']\n",
    "BANG! left:   bucket\n",
    "   left_stack: ['box', 'boot', 'horseshoe']\n",
    "  right_stack: ['bin', 'saddle']\n",
    "BANG! right:  saddle\n",
    "   left_stack: ['box', 'boot', 'horseshoe']\n",
    "  right_stack: ['bin']\n",
    "BANG! left:   horseshoe\n",
    "   left_stack: ['box', 'boot']\n",
    "  right_stack: ['bin']\n",
    "BANG! right:  bin\n",
    "   left_stack: ['box', 'boot']\n",
    "  right_stack: []\n",
    "BANG! left:   boot\n",
    "   left_stack: ['box']\n",
    "  right_stack: []\n",
    "Nothing to shoot on the right!\n",
    "   left_stack: ['box']\n",
    "  right_stack: []\n",
    "BANG! left:   box\n",
    "   left_stack: []\n",
    "  right_stack: []\n",
    "```"
   ]
  },
  {
   "cell_type": "raw",
   "id": "cd9d442e",
   "metadata": {
    "format": "text/html"
   },
   "source": [
    "<a  class=\"jupman-sol jupman-sol-toggler\" \n",
    " onclick=\"jupman.toggleSolution(this);\" \n",
    " data-jupman-show=\"Show solution\" data-jupman-hide=\"Hide\">Show solution</a><div class=\"jupman-sol jupman-sol-code\" style=\"display:none\">  "
   ]
  },
  {
   "cell_type": "code",
   "execution_count": 36,
   "metadata": {},
   "outputs": [
    {
     "name": "stdout",
     "output_type": "stream",
     "text": [
      "Ready?\n",
      "   left_stack: ['box', 'boot', 'horseshoe', 'bucket']\n",
      "  right_stack: ['bin', 'saddle', 'tin can']\n",
      "BANG! right:  tin can\n",
      "   left_stack: ['box', 'boot', 'horseshoe', 'bucket']\n",
      "  right_stack: ['bin', 'saddle']\n",
      "BANG! left:   bucket\n",
      "   left_stack: ['box', 'boot', 'horseshoe']\n",
      "  right_stack: ['bin', 'saddle']\n",
      "BANG! right:  saddle\n",
      "   left_stack: ['box', 'boot', 'horseshoe']\n",
      "  right_stack: ['bin']\n",
      "BANG! left:   horseshoe\n",
      "   left_stack: ['box', 'boot']\n",
      "  right_stack: ['bin']\n",
      "BANG! right:  bin\n",
      "   left_stack: ['box', 'boot']\n",
      "  right_stack: []\n",
      "BANG! left:   boot\n",
      "   left_stack: ['box']\n",
      "  right_stack: []\n",
      "Nothing to shoot on the right!\n",
      "   left_stack: ['box']\n",
      "  right_stack: []\n",
      "BANG! left:   box\n",
      "   left_stack: []\n",
      "  right_stack: []\n"
     ]
    }
   ],
   "source": [
    "\n",
    "left_stack = ['box','boot','horseshoe','bucket']\n",
    "right_stack = ['bin','saddle','tin can']\n",
    "shoot = 'R'\n",
    "#shoot = 'L'\n",
    "#left_stack = ['bucket', 'box']\n",
    "\n",
    "# write here\n",
    "\n",
    "print('Ready?')\n",
    "print('   left_stack:', left_stack)\n",
    "print('  right_stack:', right_stack)\n",
    "while len(right_stack) > 0 or len(left_stack) > 0:\n",
    "    if shoot == 'R':\n",
    "        if len(right_stack) > 0:\n",
    "            print('BANG! right: ', right_stack.pop()) \n",
    "        else:\n",
    "            print('Nothing to shoot on the right!')\n",
    "        shoot = 'L'\n",
    "    else:\n",
    "        if len(left_stack) > 0:\n",
    "            print('BANG! left:  ', left_stack.pop())\n",
    "        else:\n",
    "            print('Nothing to shoot on the left!')\n",
    "        shoot = 'R'\n",
    "\n",
    "    print('   left_stack:', left_stack)\n",
    "    print('  right_stack:', right_stack)"
   ]
  },
  {
   "cell_type": "raw",
   "id": "a7b8c1db",
   "metadata": {
    "format": "text/html"
   },
   "source": [
    "</div>"
   ]
  },
  {
   "cell_type": "code",
   "execution_count": 36,
   "metadata": {},
   "outputs": [],
   "source": [
    "\n",
    "left_stack = ['box','boot','horseshoe','bucket']\n",
    "right_stack = ['bin','saddle','tin can']\n",
    "shoot = 'R'\n",
    "#shoot = 'L'\n",
    "#left_stack = ['bucket', 'box']\n",
    "\n",
    "# write here\n",
    "\n"
   ]
  },
  {
   "cell_type": "markdown",
   "metadata": {},
   "source": [
    "\n",
    "### Exercise - Growing or degrowing?\n",
    "\n",
    "✪✪ Write some code which given a list `la`, keeps MODIFYING the list according to this procedure:\n",
    "\n",
    "* if the last element is odd (i.e. `7`), attaches a new number at the end of the list obtained by multiplying by two the last element (i.e. attaches `14`)\n",
    "* if the last element is even, removes the last two elements\n",
    "\n",
    "\n",
    "* **DO NOT** create a new list (so no rows starting with `la =`)\n",
    "* **WARNING**: when we want both grow and degrow the sequence we are considering in a cycle, we must convince ourselves that sooner or later the termination condition will happen, it's easy to make mistakes and end up with an infinite cycle!\n",
    "* **HINT**: to degrow the list, you can use the [pop method](https://en.softpython.org/lists/lists3-sol.html#pop-method)\n",
    "\n",
    "Example - given:\n",
    "\n",
    "```python\n",
    "la = [3,5,6,7]\n",
    "```\n",
    "\n",
    "Executing the code, it must print:\n",
    "\n",
    "```\n",
    " Odd: attaching 14\n",
    "      la becomes [3, 5, 6, 7, 14]\n",
    "Even: removing 14\n",
    "      removing 7\n",
    "      la becomes [3, 5, 6]\n",
    "Even: removing 6\n",
    "      removing 5\n",
    "      la becomes [3]\n",
    " Odd: attaching 6\n",
    "      la becomes [3, 6]\n",
    "Even: removing 6\n",
    "      removing 3\n",
    "      la becomes []\n",
    "Done! la is []\n",
    "```\n"
   ]
  },
  {
   "cell_type": "raw",
   "id": "f6ae7a57",
   "metadata": {
    "format": "text/html"
   },
   "source": [
    "<a  class=\"jupman-sol jupman-sol-toggler\" \n",
    " onclick=\"jupman.toggleSolution(this);\" \n",
    " data-jupman-show=\"Show solution\" data-jupman-hide=\"Hide\">Show solution</a><div class=\"jupman-sol jupman-sol-code\" style=\"display:none\">  "
   ]
  },
  {
   "cell_type": "code",
   "execution_count": 37,
   "metadata": {
    "scrolled": true
   },
   "outputs": [
    {
     "name": "stdout",
     "output_type": "stream",
     "text": [
      " Odd: attaching 14\n",
      "      la becomes [3, 5, 6, 7, 14]\n",
      "Even: removing 14\n",
      "      removing 7\n",
      "      la becomes [3, 5, 6]\n",
      "Even: removing 6\n",
      "      removing 5\n",
      "      la becomes [3]\n",
      " Odd: attaching 6\n",
      "      la becomes [3, 6]\n",
      "Even: removing 6\n",
      "      removing 3\n",
      "      la becomes []\n",
      "Done! la is []\n"
     ]
    }
   ],
   "source": [
    "\n",
    "la = [3,5,6,7]\n",
    "\n",
    "# write here\n",
    "\n",
    "i = 0\n",
    "while len(la) > 0:\n",
    "    if la[-1] % 2 == 1:\n",
    "        new = la[-1]*2\n",
    "        la.append(new)\n",
    "        print(' Odd: attaching', new)\n",
    "    else:        \n",
    "        print('Even: removing',la.pop())        \n",
    "        print('      removing',la.pop())\n",
    "    print('      la becomes', la)\n",
    "    i += 1\n",
    "print('Done! la is', la)\n"
   ]
  },
  {
   "cell_type": "raw",
   "id": "b32e314a",
   "metadata": {
    "format": "text/html"
   },
   "source": [
    "</div>"
   ]
  },
  {
   "cell_type": "code",
   "execution_count": 37,
   "metadata": {
    "scrolled": true
   },
   "outputs": [],
   "source": [
    "\n",
    "la = [3,5,6,7]\n",
    "\n",
    "# write here\n",
    "\n"
   ]
  },
  {
   "cell_type": "markdown",
   "metadata": {},
   "source": [
    "## Continue\n",
    "\n",
    "Go on with the [challenges](https://en.softpython.org/while2/while2-chal.html)"
   ]
  },
  {
   "cell_type": "code",
   "execution_count": null,
   "metadata": {},
   "outputs": [],
   "source": []
  }
 ],
 "metadata": {
  "kernelspec": {
   "display_name": "Python 3 (ipykernel)",
   "language": "python",
   "name": "python3"
  },
  "language_info": {
   "codemirror_mode": {
    "name": "ipython",
    "version": 3
   },
   "file_extension": ".py",
   "mimetype": "text/x-python",
   "name": "python",
   "nbconvert_exporter": "python",
   "pygments_lexer": "ipython3",
   "version": "3.7.10"
  },
  "toc": {
   "base_numbering": 1,
   "nav_menu": {},
   "number_sections": false,
   "sideBar": true,
   "skip_h1_title": false,
   "title_cell": "Table of Contents",
   "title_sidebar": "Contents",
   "toc_cell": false,
   "toc_position": {
    "height": "calc(100% - 180px)",
    "left": "10px",
    "top": "150px",
    "width": "311px"
   },
   "toc_section_display": true,
   "toc_window_display": true
  }
 },
 "nbformat": 4,
 "nbformat_minor": 2
}
