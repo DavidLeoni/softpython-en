{
 "cells": [
  {
   "cell_type": "markdown",
   "id": "worst-going",
   "metadata": {},
   "source": [
    "# If 2 - Challenges\n",
    "\n",
    "## [Download exercises zip](../_static/generated/if.zip)\n",
    "\n",
    "[Browse online files](https://github.com/DavidLeoni/softpython-en/tree/master/if)"
   ]
  },
  {
   "cell_type": "markdown",
   "id": "a373ff10",
   "metadata": {},
   "source": [
    "## Treasure Island\n",
    "\n",
    "\n",
    "\n",
    "While ancient manuscripts you discovered there is island in the pacific where incredible  treasures are buried. In the manuscripts there is a map, and the zones where the gold could be are marked in green. You can ignore the other colors. You send in a drone which can land and drill the terrain. Strong winds and various factors could move the drone away from the target, so the drone at every moment needs to know whether or not is on a zone it should drill.\n",
    "\n",
    "Write some code which given the map side length `d` and two coordinates `x` and `y`, RETURN `True` if the place is to drill (that is, the drone is on a green zone), otherwise return `False`.\n",
    "\n",
    "ASSUME THAT THE ORIGIN (0,0) IS AT THE CENTRE OF THE MAP\n",
    "\n",
    "![treasure-island.png](img/treasure-island.png)"
   ]
  },
  {
   "cell_type": "code",
   "execution_count": 1,
   "id": "a8d52dc0-stripped",
   "metadata": {},
   "outputs": [],
   "source": [
    "\n",
    "import math\n",
    "\n",
    "d = 10\n",
    "x,y = 0,0              # True\n",
    "#x,y = 0.2*d,0         # True\n",
    "#x,y = 0,0.1*d         # True\n",
    "#x,y = 0,-0.03*d       # True\n",
    "#x,y = -0.01*d,-d*0.05 # True\n",
    "# corona\n",
    "#x,y = 0,-0.3*d        # False\n",
    "#x,y = 0.35*d,0        # False\n",
    "#x,y = 0.4*d,0.27*d    # False      \n",
    "#x,y = 0.31*d,-0.4*d   # False\n",
    "#x,y = -0.31*d,0.4*d   # False\n",
    "#x,y = -0.3*d,-0.38*d  # False     \n",
    "# corners\n",
    "#x,y = 0.49*d,0.49*d   # True\n",
    "#x,y = 0.45*d,-0.46*d  # False\n",
    "#x,y = -0.48*d,0.45*d  # False\n",
    "#x,y = -0.49*d,-0.47*d # True\n",
    "\n",
    "# write here\n",
    "\n"
   ]
  },
  {
   "cell_type": "code",
   "execution_count": 2,
   "id": "nasty-sampling-stripped",
   "metadata": {
    "nbsphinx": "hidden"
   },
   "outputs": [],
   "source": []
  }
 ],
 "metadata": {
  "kernelspec": {
   "display_name": "Python 3 (ipykernel)",
   "language": "python",
   "name": "python3"
  },
  "language_info": {
   "codemirror_mode": {
    "name": "ipython",
    "version": 3
   },
   "file_extension": ".py",
   "mimetype": "text/x-python",
   "name": "python",
   "nbconvert_exporter": "python",
   "pygments_lexer": "ipython3",
   "version": "3.7.10"
  },
  "toc": {
   "base_numbering": 1,
   "nav_menu": {},
   "number_sections": false,
   "sideBar": true,
   "skip_h1_title": false,
   "title_cell": "Table of Contents",
   "title_sidebar": "Contents",
   "toc_cell": false,
   "toc_position": {},
   "toc_section_display": true,
   "toc_window_display": true
  }
 },
 "nbformat": 4,
 "nbformat_minor": 5
}
