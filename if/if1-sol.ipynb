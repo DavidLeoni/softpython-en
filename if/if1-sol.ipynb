{
 "cells": [
  {
   "cell_type": "code",
   "execution_count": 1,
   "metadata": {
    "nbsphinx": "hidden"
   },
   "outputs": [],
   "source": [
    "# Remember to execute this cell with Shift+Enter\n",
    "import jupman"
   ]
  },
  {
   "cell_type": "markdown",
   "metadata": {},
   "source": [
    "# Conditionals - if else\n",
    "\n",
    "## [Download exercises zip](../_static/generated/if.zip)\n",
    "\n",
    "[Browse online files](https://github.com/DavidLeoni/softpython-en/tree/master/if)"
   ]
  },
  {
   "cell_type": "markdown",
   "metadata": {},
   "source": [
    "We can use the conditional command `if` every time the computer must take a decision according to the value of some condition. If the condition is evaluated as true (that is, the boolean `True`), then a code block will be executed, otherwise execution will pass to another one.\n",
    "\n",
    "**References**: \n",
    "\n",
    "* [Basics - booleans](https://en.softpython.org/basics/basics2-bools-sol.html)"
   ]
  },
  {
   "cell_type": "markdown",
   "metadata": {},
   "source": [
    "## What to do\n",
    "\n",
    "1. Unzip [exercises zip](../_static/generated/if.zip) in a folder, you should obtain something like this:\n",
    "\n",
    "```\n",
    "if\n",
    "    if1.ipynb\n",
    "    if1-sol.ipynb\n",
    "    if2-chal.ipynb    \n",
    "    jupman.py    \n",
    "```\n",
    "\n",
    "<div class=\"alert alert-warning\">\n",
    "\n",
    "**WARNING: to correctly visualize the notebook, it MUST be in an unzipped folder !**\n",
    "</div>"
   ]
  },
  {
   "cell_type": "markdown",
   "metadata": {},
   "source": [
    "2. open Jupyter Notebook from that folder. Two things should open, first a console and then a browser. The browser should show a file list: navigate the list and open the notebook `if1.ipynb`\n",
    "\n",
    "3. Go on reading the exercises file, sometimes you will find paragraphs marked **Exercises**  which will ask to write Python commands in the following cells."
   ]
  },
  {
   "cell_type": "markdown",
   "metadata": {},
   "source": [
    "Shortcut keys:\n",
    "\n",
    "- to execute Python code inside a Jupyter cell, press `Control + Enter`\n",
    "\n",
    "- to execute Python code inside a Jupyter cell AND select next cell, press `Shift + Enter`\n",
    "\n",
    "- to execute Python code inside a Jupyter cell AND a create a new cell aftwerwards, press `Alt + Enter`\n",
    "\n",
    "- If the notebooks look stuck, try to select `Kernel -> Restart`"
   ]
  },
  {
   "cell_type": "markdown",
   "metadata": {},
   "source": [
    "\n",
    "## The basic command `if else`\n",
    "\n",
    "Let's see a small program which takes different decisions according to the value of a variable `sweets`:"
   ]
  },
  {
   "cell_type": "code",
   "execution_count": 2,
   "metadata": {},
   "outputs": [
    {
     "name": "stdout",
     "output_type": "stream",
     "text": [
      "We found...\n",
      "Many sweets!\n",
      "\n",
      "Let's find other sweets!\n"
     ]
    }
   ],
   "source": [
    "sweets = 20\n",
    "\n",
    "if sweets > 10 :  \n",
    "    print('We found...')\n",
    "    print('Many sweets!')\n",
    "else:\n",
    "    print(\"Alas there are.. \")\n",
    "    print('few sweets!')\n",
    "    \n",
    "print()\n",
    "print(\"Let's find other sweets!\")"
   ]
  },
  {
   "cell_type": "markdown",
   "metadata": {},
   "source": [
    "The condition here is `sweets > 10`  "
   ]
  },
  {
   "cell_type": "code",
   "execution_count": 3,
   "metadata": {},
   "outputs": [
    {
     "data": {
      "text/plain": [
       "True"
      ]
     },
     "execution_count": 3,
     "metadata": {},
     "output_type": "execute_result"
    }
   ],
   "source": [
    "sweets > 10"
   ]
  },
  {
   "cell_type": "markdown",
   "metadata": {},
   "source": [
    "<div class=\"alert alert-warning\">\n",
    "\n",
    "**WARNING: Right after the condition you must place a colon** `:`\n",
    "\n",
    "```python\n",
    "if sweets > 10:\n",
    "```\n",
    "</div>"
   ]
  },
  {
   "cell_type": "markdown",
   "metadata": {},
   "source": [
    "Since in the example above `sweets` is valued `20`, the condition gets evalued to `True` and so the code block following the `if` row gets executed.\n",
    "\n",
    "Let's try instead to place a small number, like `sweets = 5`:"
   ]
  },
  {
   "cell_type": "code",
   "execution_count": 4,
   "metadata": {},
   "outputs": [
    {
     "name": "stdout",
     "output_type": "stream",
     "text": [
      "Alas there are.. \n",
      "Few sweets!\n",
      "\n",
      "Let's find other sweets!\n"
     ]
    }
   ],
   "source": [
    "sweets = 5\n",
    "\n",
    "if sweets > 10 :    \n",
    "    print('We found...')\n",
    "    print('Many sweets!')    \n",
    "else:\n",
    "    print(\"Alas there are.. \")\n",
    "    print('Few sweets!')\n",
    "    \n",
    "print()\n",
    "print(\"Let's find other sweets!\")"
   ]
  },
  {
   "cell_type": "markdown",
   "metadata": {},
   "source": [
    "In this case, the code block after the `else:` row got executed"
   ]
  },
  {
   "cell_type": "markdown",
   "metadata": {},
   "source": [
    "<div class=\"alert alert-warning\">\n",
    "    \n",
    "**WARNING: Careful about block indentation!**\n",
    "\n",
    "As all code blocks in Python, they are preceded by spaces. Usually there are 4 spaces (in some Python projects you can find only 2, but official Python guidelines recommend 4)\n",
    "    \n",
    "</div>"
   ]
  },
  {
   "cell_type": "markdown",
   "metadata": {},
   "source": [
    "## `else` is optional\n",
    "\n",
    "It is not mandatory to use `else`. If we omit it and the condition becomes `False`, the control directly pass to commands with the same indentation level of `if` (without errors):"
   ]
  },
  {
   "cell_type": "code",
   "execution_count": 5,
   "metadata": {},
   "outputs": [
    {
     "name": "stdout",
     "output_type": "stream",
     "text": [
      "\n",
      "Let's find other sweets!\n"
     ]
    }
   ],
   "source": [
    "sweets = 5\n",
    "\n",
    "if sweets > 10 :  \n",
    "    print('We found...')\n",
    "    print('Many sweets!')    \n",
    "\n",
    "print()\n",
    "print(\"Let's find other sweets!\")"
   ]
  },
  {
   "cell_type": "markdown",
   "metadata": {},
   "source": [
    "**QUESTION**: Look at the following code fragments, and for each try guessing the result it produces (or if it gives an error):\n",
    "\n",
    "\n",
    "1.  ```python\n",
    "    x = 3\n",
    "    if x > 2  and if x < 4:\n",
    "        print('ABBA')\n",
    "    ```\n",
    "1.  ```python\n",
    "    x = 3\n",
    "    if x > 2 and x < 4\n",
    "        print('ABBA')\n",
    "    ```\n",
    "1.  ```python\n",
    "    x = 3\n",
    "    if x > 2 and x < 4:\n",
    "        print('ABBA')\n",
    "    ```\n",
    "1.  ```python\n",
    "    x = 2\n",
    "    if x > 1:\n",
    "        print(x+1, x):\n",
    "    ```\n",
    "1.  ```python\n",
    "    x = 3\n",
    "    if x > 5 or x:\n",
    "        print('ACDC')\n",
    "    ```\n",
    "1.  ```python\n",
    "    x = 7\n",
    "    if x == 7:\n",
    "    print('GLAM')\n",
    "    ```\n",
    "1.  ```python\n",
    "    x = 7\n",
    "    if x < 1:\n",
    "        print('BIM')\n",
    "    else:\n",
    "        print('BUM')\n",
    "    print('BAM')\n",
    "    ```\n",
    "1.  ```python\n",
    "    x = 30\n",
    "    if x > 8:\n",
    "        print('DOH')\n",
    "    if x > 10:\n",
    "        print('DUFF')\n",
    "    if x > 20:\n",
    "        print('BURP')\n",
    "    ``` \n",
    "1.  ```python\n",
    "    if not True:\n",
    "        print('upside down')\n",
    "    else:\n",
    "        print('down upside')\n",
    "    ```\n",
    "1.  ```python\n",
    "    if False:\n",
    "    else:\n",
    "        print('ZORB')\n",
    "    ```\n",
    "1.  ```python\n",
    "    if False:\n",
    "        pass\n",
    "    else:\n",
    "        print('ZORB')\n",
    "    ```\n",
    "1.  ```python\n",
    "    if 0:\n",
    "        print('Brandy')\n",
    "    else:\n",
    "        print('Rum')\n",
    "    ```\n",
    "1.  ```python\n",
    "    if False:\n",
    "        print('illustrious')\n",
    "    else:\n",
    "        print('distinguished')\n",
    "    else:\n",
    "        print('excellent')\n",
    "    ```\n",
    "1.  ```python    \n",
    "    if 2 != 2:\n",
    "        'BE'\n",
    "    else:\n",
    "        'CAREFUL'\n",
    "    ```\n",
    "1.  ```python\n",
    "    if 2 != 2:\n",
    "        print('BE')\n",
    "    else:\n",
    "        print('CAREFUL')\n",
    "    ```    \n",
    "1.  ```python\n",
    "    x = [1,2,3]\n",
    "    if 4 in x:\n",
    "        x.append(4)\n",
    "    else:\n",
    "        x.remove(3)\n",
    "    print(x)\n",
    "    ```    \n",
    "1.  ```python\n",
    "    if 'False':   \n",
    "        print('WATCH OUT FOR THE STRING!')\n",
    "    else:\n",
    "        print('CRUEL')\n",
    "    ```\n"
   ]
  },
  {
   "cell_type": "markdown",
   "metadata": {},
   "source": [
    "## Exercise - no fuel\n",
    "\n",
    "You want to do a car trip for which you need at least `30` litres of fuel. Write some code that:\n",
    "\n",
    "* if the `fuel` variable is less than `30`, prints `'Not enough fuel, I must fill up'` and increments `fuel` of `20` litres\n",
    "* Otherwise, prints `Enough fuel!`\n",
    "* In any case, prints at the end `'We depart with '` followed by the final quantity of  fuel\n",
    "\n",
    "Example - given:\n",
    "\n",
    "```python\n",
    "fuel = 5\n",
    "```\n",
    "\n",
    "After your code, it must print:\n",
    "\n",
    "```\n",
    "Not enough fuel, I must fill up\n",
    "We depart with 25 litres\n",
    "```\n"
   ]
  },
  {
   "cell_type": "raw",
   "id": "a0c0878b",
   "metadata": {
    "format": "text/html"
   },
   "source": [
    "<a  class=\"jupman-sol jupman-sol-toggler\" \n",
    " onclick=\"jupman.toggleSolution(this);\" \n",
    " data-jupman-show=\"Show solution\" data-jupman-hide=\"Hide\">Show solution</a><div class=\"jupman-sol jupman-sol-code\" style=\"display:none\">  "
   ]
  },
  {
   "cell_type": "code",
   "execution_count": 6,
   "metadata": {},
   "outputs": [
    {
     "name": "stdout",
     "output_type": "stream",
     "text": [
      "Not enough fuel, I must fill up\n",
      "We depart with 25 litres\n"
     ]
    }
   ],
   "source": [
    "\n",
    "fuel = 5\n",
    "#fuel = 30\n",
    "\n",
    "# write here\n",
    "\n",
    "if fuel < 30:\n",
    "    print('Not enough fuel, I must fill up')\n",
    "    fuel += 20\n",
    "else:\n",
    "    print('Enough fuel!')\n",
    "    \n",
    "print('We depart with', fuel, 'litres')"
   ]
  },
  {
   "cell_type": "raw",
   "id": "2a27ebab",
   "metadata": {
    "format": "text/html"
   },
   "source": [
    "</div>"
   ]
  },
  {
   "cell_type": "code",
   "execution_count": 6,
   "metadata": {},
   "outputs": [],
   "source": [
    "\n",
    "fuel = 5\n",
    "#fuel = 30\n",
    "\n",
    "# write here\n",
    "\n"
   ]
  },
  {
   "cell_type": "markdown",
   "metadata": {},
   "source": [
    "## The command *if - elif - else*\n",
    "\n",
    "By examining the little sweets program we just saw, you may have wondered what it should print when there are no sweets at all. To handle many conditions, we could chain them with the command `elif` (abbreviation of _else if):_"
   ]
  },
  {
   "cell_type": "code",
   "execution_count": 7,
   "metadata": {},
   "outputs": [
    {
     "name": "stdout",
     "output_type": "stream",
     "text": [
      "Too bad!\n",
      "There are no sweets!\n",
      "\n",
      "Let's find other sweets!\n"
     ]
    }
   ],
   "source": [
    "sweets = 0  # WE PUT ZERO\n",
    "\n",
    "if sweets > 10:\n",
    "    print('We found...')\n",
    "    print('Many sweets!')\n",
    "elif sweets > 0:\n",
    "    print(\"Alas there are.. \")\n",
    "    print('Few sweets!')    \n",
    "else:\n",
    "    print(\"Too bad!\")\n",
    "    print('There are no sweets!')\n",
    "\n",
    "print()\n",
    "print(\"Let's find other sweets!\")"
   ]
  },
  {
   "cell_type": "markdown",
   "metadata": {},
   "source": [
    "**EXERCISE**: Try changing the values of `sweets` in the above cell and see what happens"
   ]
  },
  {
   "cell_type": "markdown",
   "metadata": {},
   "source": [
    "The little program behaves exacly like the previous ones and when no condition is satisfied the last code block after the `else` is executed:\n",
    "\n",
    "We can add as many `elif` as we want, so we could even put a specific  `elif x == 0:` and handle in the `else` all other cases, even the unforeseen or absurd ones like for example placing a negative number of sweets. Why should we do it? Accidents can always happen, you surely found a good deal of _bugged_ programs in your daily life... (we will see how to better handle these situations in the tutorial [Errors handling and testing](https://en.softpython.org/errors-and-testing/errors-and-testing-sol.html))"
   ]
  },
  {
   "cell_type": "code",
   "execution_count": 8,
   "metadata": {},
   "outputs": [
    {
     "name": "stdout",
     "output_type": "stream",
     "text": [
      "Something went VERY WRONG! We found -2 sweets\n",
      "\n",
      "Let's find other sweets!\n"
     ]
    }
   ],
   "source": [
    "sweets = -2   # LET'S TRY A NEGATIVE NUMBER\n",
    "\n",
    "if sweets > 10:\n",
    "    print('We found...')\n",
    "    print('Many sweets!')\n",
    "elif sweets > 0:\n",
    "    print(\"Alas there are.. \")\n",
    "    print('Few sweets!')\n",
    "elif sweets == 0:\n",
    "    print(\"Too bad! \")\n",
    "    print('There are no sweets!')\n",
    "else:\n",
    "    print('Something went VERY WRONG! We found', sweets, 'sweets')    \n",
    "    \n",
    "print()\n",
    "print(\"Let's find other sweets!\")"
   ]
  },
  {
   "cell_type": "markdown",
   "metadata": {},
   "source": [
    "**EXERCISE**: Try changing the values of `sweets` in the cell above and see what happens"
   ]
  },
  {
   "cell_type": "markdown",
   "metadata": {},
   "source": [
    "### Questions\n",
    "\n",
    "Look at the following code fragments, and for each try guessing the result it produces (or if it gives an error):\n",
    "\n",
    "\n",
    "1.  ```python\n",
    "    y = 2\n",
    "    if y < 3:\n",
    "        print('bingo')\n",
    "    elif y <= 2:\n",
    "        print('bango')\n",
    "    ```\n",
    "1.  ```python\n",
    "    z = 'q'\n",
    "    if not 'quando'.startswith(z):\n",
    "        print('BAR')\n",
    "    elif not 'spqr'[2] == z:\n",
    "        print('WAR')\n",
    "    else:\n",
    "        print('ZAR')\n",
    "    ```\n",
    "1.  ```python\n",
    "    x = 1\n",
    "    if x < 5:\n",
    "        print('SHIPS')\n",
    "        elif x < 3:\n",
    "            print('RAFTS')\n",
    "            else: \n",
    "                print('LIFEBOATS')\n",
    "    ```\n",
    "1.  ```python\n",
    "    x = 5\n",
    "    if x < 3:\n",
    "        print('GOLD')\n",
    "    else if x >= 3:\n",
    "        print('SILVER')\n",
    "    ```\n",
    "\n",
    "1.  ```python\n",
    "    if 0:\n",
    "        print(0)\n",
    "    elif 1:\n",
    "        print(1)\n",
    "    ```"
   ]
  },
  {
   "cell_type": "markdown",
   "metadata": {},
   "source": [
    "## Questions - Are they equivalent?\n",
    "\n",
    "Look at the following code fragments: each contains two parts, A and B. For each value of the variables they depend on, try guessing whether part A will print exactly the same result printed by code in part B\n",
    "\n",
    "* **FIRST** think about the answer\n",
    "* **THEN** try executing with each of the values of suggested variables"
   ]
  },
  {
   "cell_type": "markdown",
   "metadata": {},
   "source": [
    "### Are they equivalent? - strawberries\n",
    "\n",
    "Try changing the value of `strawberries` by removing the comments\n",
    "\n",
    "```python\n",
    "strawberries = 5\n",
    "#strawberries = 2\n",
    "#strawberries = 10\n",
    "\n",
    "print('strawberries =', strawberries)\n",
    "print('A:')\n",
    "if strawberries > 5:\n",
    "    print(\"The strawberries are > 5\")\n",
    "elif strawberries > 5: \n",
    "    print(\"I said the strawberries are > 5!\")\n",
    "else:\n",
    "    print(\"The strawberries are <= 5\")\n",
    "    \n",
    "print('B:')\n",
    "if strawberries > 5:\n",
    "    print(\"The strawberries are > 5\")\n",
    "if strawberries > 5:\n",
    "    print(\"I said the strawberries are > 5!\")\n",
    "if strawberries <= 5:\n",
    "    print(\"The strawberries are <= 5\")\n",
    "```    "
   ]
  },
  {
   "cell_type": "markdown",
   "metadata": {},
   "source": [
    "### Are they equivalent? - max\n",
    "\n",
    "```python\n",
    "x, y = 3, 5\n",
    "#x, y = 5, 3\n",
    "#x, y = 3, 3\n",
    "\n",
    "print('x =', x)\n",
    "print('y =', y)\n",
    "\n",
    "print('A:')\n",
    "if x > y:\n",
    "    print(x)\n",
    "else:\n",
    "    print(y)\n",
    "    \n",
    "print('B:')    \n",
    "print(max(x,y))\n",
    "```"
   ]
  },
  {
   "cell_type": "markdown",
   "metadata": {},
   "source": [
    "### Are they equivalent?  - min\n",
    "\n",
    "\n",
    "```python\n",
    "x, y = 3, 5\n",
    "#x, y = 5, 3\n",
    "#x, y = 3, 3\n",
    "\n",
    "print('x =',x)\n",
    "print('y =', y)\n",
    "\n",
    "print('A:')\n",
    "if x < y:\n",
    "    print(y)\n",
    "else:\n",
    "    print(x)\n",
    "    \n",
    "print('B:')    \n",
    "print(min(x,y))\n",
    "```"
   ]
  },
  {
   "cell_type": "markdown",
   "metadata": {},
   "source": [
    "\n",
    "### Are they equivalent?  - big small\n",
    "\n",
    "```python\n",
    "x = 2\n",
    "#x = 4\n",
    "#x = 3\n",
    "\n",
    "print('x =',x)\n",
    "\n",
    "print('A:')\n",
    "if x > 3:\n",
    "    print('big')\n",
    "else:\n",
    "    print('small')\n",
    "    \n",
    "print('B:')\n",
    "if x < 3:\n",
    "    print('small')\n",
    "else:\n",
    "    print('big') \n",
    "```"
   ]
  },
  {
   "cell_type": "markdown",
   "metadata": {},
   "source": [
    "### Are they equivalent?  - Cippirillo\n",
    "\n",
    "```python\n",
    "x = 3\n",
    "#x = 10\n",
    "#x = 11\n",
    "#x = 15\n",
    "\n",
    "print('x =', x)\n",
    "\n",
    "print('A:')\n",
    "if x % 5 == 0:   \n",
    "    print('cippirillo')\n",
    "if x % 3 == 0:   \n",
    "    print('cippirillo')\n",
    "    \n",
    "print('B:')\n",
    "if x % 3 == 0 or x % 5 == 0:\n",
    "    print('cippirillo')\n",
    "```"
   ]
  },
  {
   "cell_type": "markdown",
   "metadata": {},
   "source": [
    "### Exercise - farm\n",
    "\n",
    "Given a string `s`, write some code which prints `'BARK!'` if the string ends with `dog`, prints `'CROAK!'` if the string ends with `'frog'` and prints `'???'` in all other cases"
   ]
  },
  {
   "cell_type": "raw",
   "id": "b2a01a62",
   "metadata": {
    "format": "text/html"
   },
   "source": [
    "<a  class=\"jupman-sol jupman-sol-toggler\" \n",
    " onclick=\"jupman.toggleSolution(this);\" \n",
    " data-jupman-show=\"Show solution\" data-jupman-hide=\"Hide\">Show solution</a><div class=\"jupman-sol jupman-sol-code\" style=\"display:none\">  "
   ]
  },
  {
   "cell_type": "code",
   "execution_count": 9,
   "metadata": {},
   "outputs": [
    {
     "name": "stdout",
     "output_type": "stream",
     "text": [
      "bulldog\n",
      "BAU\n"
     ]
    }
   ],
   "source": [
    "\n",
    "s = 'bulldog'\n",
    "#s = 'bullfrog'\n",
    "#s = 'frogbull'\n",
    "\n",
    "print(s)\n",
    "\n",
    "# write here\n",
    "\n",
    "if s.endswith('dog'):\n",
    "    print('BAU')\n",
    "elif s.endswith('frog'):\n",
    "    print('CROAK!')\n",
    "else:\n",
    "    print('???')"
   ]
  },
  {
   "cell_type": "raw",
   "id": "07e6209a",
   "metadata": {
    "format": "text/html"
   },
   "source": [
    "</div>"
   ]
  },
  {
   "cell_type": "code",
   "execution_count": 9,
   "metadata": {},
   "outputs": [],
   "source": [
    "\n",
    "s = 'bulldog'\n",
    "#s = 'bullfrog'\n",
    "#s = 'frogbull'\n",
    "\n",
    "print(s)\n",
    "\n",
    "# write here\n",
    "\n"
   ]
  },
  {
   "cell_type": "markdown",
   "metadata": {},
   "source": [
    "### Exercise - accents\n",
    "\n",
    "Write some code which prints whether a `word` ends or not with an accented character.\n",
    "\n",
    "* To determine if a character is accented, use the strings of accents `acute` and `grave`\n",
    "* Your code must work with any `word`"
   ]
  },
  {
   "cell_type": "raw",
   "id": "33495bfe",
   "metadata": {
    "format": "text/html"
   },
   "source": [
    "<a  class=\"jupman-sol jupman-sol-toggler\" \n",
    " onclick=\"jupman.toggleSolution(this);\" \n",
    " data-jupman-show=\"Show solution\" data-jupman-hide=\"Hide\">Show solution</a><div class=\"jupman-sol jupman-sol-code\" style=\"display:none\">  "
   ]
  },
  {
   "cell_type": "code",
   "execution_count": 10,
   "metadata": {},
   "outputs": [
    {
     "name": "stdout",
     "output_type": "stream",
     "text": [
      "urrà ends with an accent!\n"
     ]
    }
   ],
   "source": [
    "\n",
    "acute = \"áéíóú\"\n",
    "grave = \"àèìòù\"\n",
    "\n",
    "word = 'urrà'         # ends with an accent\n",
    "#word = 'martello'    # does not end with an accent\n",
    "#word = 'ahó'         # ends with an accent\n",
    "#word = 'però'        # ends with an accent\n",
    "#word = 'capitaneria' # does not end with an accent\n",
    "#word = 'viceré'      # ends with an accent\n",
    "#word = 'cioè'        # ends with an accent\n",
    "#word = 'chéto'       # does not end with an accent\n",
    "#word = 'Chi dice che la verità è una sòla?'  # does not end with an accent\n",
    "\n",
    "# write here\n",
    "\n",
    "if word[-1] in acute or word[-1] in grave:\n",
    "    print(word,'ends with an accent!')\n",
    "else:\n",
    "    print(word, 'does not end with an accent')"
   ]
  },
  {
   "cell_type": "raw",
   "id": "5aee18d6",
   "metadata": {
    "format": "text/html"
   },
   "source": [
    "</div>"
   ]
  },
  {
   "cell_type": "code",
   "execution_count": 10,
   "metadata": {},
   "outputs": [],
   "source": [
    "\n",
    "acute = \"áéíóú\"\n",
    "grave = \"àèìòù\"\n",
    "\n",
    "word = 'urrà'         # ends with an accent\n",
    "#word = 'martello'    # does not end with an accent\n",
    "#word = 'ahó'         # ends with an accent\n",
    "#word = 'però'        # ends with an accent\n",
    "#word = 'capitaneria' # does not end with an accent\n",
    "#word = 'viceré'      # ends with an accent\n",
    "#word = 'cioè'        # ends with an accent\n",
    "#word = 'chéto'       # does not end with an accent\n",
    "#word = 'Chi dice che la verità è una sòla?'  # does not end with an accent\n",
    "\n",
    "# write here\n",
    "\n"
   ]
  },
  {
   "cell_type": "markdown",
   "metadata": {},
   "source": [
    "### Exercise - Arcana\n",
    "\n",
    "Given an arcana `x` expressed as a string and a list of `majors` and `minors` arcanas, print to which category `x` belongs. If `x` does not belong to any category, prints `is a Mistery`.\n"
   ]
  },
  {
   "cell_type": "raw",
   "id": "92f9aa86",
   "metadata": {
    "format": "text/html"
   },
   "source": [
    "<a  class=\"jupman-sol jupman-sol-toggler\" \n",
    " onclick=\"jupman.toggleSolution(this);\" \n",
    " data-jupman-show=\"Show solution\" data-jupman-hide=\"Hide\">Show solution</a><div class=\"jupman-sol jupman-sol-code\" style=\"display:none\">  "
   ]
  },
  {
   "cell_type": "code",
   "execution_count": 11,
   "metadata": {},
   "outputs": [
    {
     "name": "stdout",
     "output_type": "stream",
     "text": [
      "The Wheel of Fortune is a Major Arcana\n"
     ]
    }
   ],
   "source": [
    "\n",
    "x = 'Wheel of Fortune'  # The Wheel of Fortune is a Major Arcana\n",
    "#x = 'The Tower'        # major\n",
    "#x = 'Ace of Swords'    # minor\n",
    "#x = 'Two of Coins'     # minor\n",
    "#x = 'Coding'           # mistery\n",
    "\n",
    "majors  = ['Wheel of Fortune','The Chariot', 'The Tower']\n",
    "minors = ['Ace of Swords', 'Two of Coins', 'Queen of Cups']\n",
    "\n",
    "# write here\n",
    "if x in majors:\n",
    "    print('The', x, 'is a Major Arcana')\n",
    "elif x in minors:\n",
    "    print('The', x, 'is a Minor Arcana')\n",
    "else:\n",
    "    print(x, 'is a Mistery')"
   ]
  },
  {
   "cell_type": "raw",
   "id": "c14a4863",
   "metadata": {
    "format": "text/html"
   },
   "source": [
    "</div>"
   ]
  },
  {
   "cell_type": "code",
   "execution_count": 11,
   "metadata": {},
   "outputs": [],
   "source": [
    "\n",
    "x = 'Wheel of Fortune'  # The Wheel of Fortune is a Major Arcana\n",
    "#x = 'The Tower'        # major\n",
    "#x = 'Ace of Swords'    # minor\n",
    "#x = 'Two of Coins'     # minor\n",
    "#x = 'Coding'           # mistery\n",
    "\n",
    "majors  = ['Wheel of Fortune','The Chariot', 'The Tower']\n",
    "minors = ['Ace of Swords', 'Two of Coins', 'Queen of Cups']\n",
    "\n",
    "# write here\n",
    "\n"
   ]
  },
  {
   "cell_type": "markdown",
   "metadata": {},
   "source": [
    "## Nested ifs\n",
    "\n",
    "`if` commands are _blocks_ so they can be nested as any other block.\n",
    "\n",
    "Let's make an example. Suppose you have a point at coordinates `x` and `y` and you want to know in which quadrant it lies:\n",
    "\n",
    "![quadrant iu34234](img/quadrant.png)"
   ]
  },
  {
   "cell_type": "markdown",
   "metadata": {},
   "source": [
    "You might write something like this:"
   ]
  },
  {
   "cell_type": "code",
   "execution_count": 12,
   "metadata": {},
   "outputs": [
    {
     "name": "stdout",
     "output_type": "stream",
     "text": [
      "x = 5 y = 9\n",
      "first quadrant\n"
     ]
    }
   ],
   "source": [
    "x,y = 5,9     \n",
    "#x,y = -5,9   \n",
    "#x,y = -5,-9  \n",
    "#x,y = 5,-9\n",
    "\n",
    "print('x =',x,'y =', y)\n",
    "\n",
    "if x >= 0:\n",
    "    if y >= 0:\n",
    "        print('first quadrant')\n",
    "    else:\n",
    "        print('fourth quadrant')\n",
    "else:\n",
    "    if y >= 0:\n",
    "        print('second quadrant')\n",
    "    else:\n",
    "        print('third quadrant')\n",
    "    "
   ]
  },
  {
   "cell_type": "markdown",
   "metadata": {},
   "source": [
    "**EXERCISE**: try the various couples of suggested points by removing the comments and convince yourself the code is working as expected."
   ]
  },
  {
   "cell_type": "markdown",
   "metadata": {},
   "source": [
    "**NOTE**: Sometime the nested `if` can be avoided by writing sequences of `elif` with boolean expressions which verify two conditions at a time:"
   ]
  },
  {
   "cell_type": "code",
   "execution_count": 13,
   "metadata": {},
   "outputs": [
    {
     "name": "stdout",
     "output_type": "stream",
     "text": [
      "x = 5 y = 9\n",
      "first quadrant\n"
     ]
    }
   ],
   "source": [
    "x,y = 5,9     \n",
    "#x,y = -5,9   \n",
    "#x,y = -5,-9  \n",
    "#x,y = 5,-9\n",
    "\n",
    "print('x =',x,'y =', y)\n",
    "\n",
    "if x >= 0 and y >= 0:\n",
    "    print('first quadrant')\n",
    "elif x >= 0 and y < 0:\n",
    "    print('fourth quadrant')\n",
    "elif x < 0 and y >= 0:\n",
    "    print('second quadrant')\n",
    "elif x < 0 and y < 0:\n",
    "    print('third quadrant')   "
   ]
  },
  {
   "cell_type": "markdown",
   "metadata": {},
   "source": [
    "\n",
    "### Exercise - abscissae and ordinates 1\n",
    "\n",
    "The code above is not very precise, as doesn't consider the case of points which lie on axes. In these cases instead of the quadrant number it should print:\n",
    "\n",
    "* 'origin' when `x` and `y` are equal to `0`\n",
    "* 'ascissae' when `y` is `0`\n",
    "* 'ordinate' when `x` is `0`\n",
    "\n",
    "Write down here a modified version **of the code with nested ifs** which takes into account also these cases, then test it by removing the comments from the various suggested point coordinates."
   ]
  },
  {
   "cell_type": "raw",
   "id": "9df05794",
   "metadata": {
    "format": "text/html"
   },
   "source": [
    "<a  class=\"jupman-sol jupman-sol-toggler\" \n",
    " onclick=\"jupman.toggleSolution(this);\" \n",
    " data-jupman-show=\"Show solution\" data-jupman-hide=\"Hide\">Show solution</a><div class=\"jupman-sol jupman-sol-code\" style=\"display:none\">  "
   ]
  },
  {
   "cell_type": "code",
   "execution_count": 14,
   "metadata": {},
   "outputs": [
    {
     "name": "stdout",
     "output_type": "stream",
     "text": [
      "x = 0 y = 0\n",
      "origin\n"
     ]
    }
   ],
   "source": [
    "\n",
    "x,y = 0,0     # origin\n",
    "#x,y = 0,5    # ordinate\n",
    "#x,y = 5,0    # abscissa\n",
    "#x,y = 5,9    # first\n",
    "#x,y = -5,9   # second\n",
    "#x,y = -5,-9  # third\n",
    "#x,y = 5,-9   # fourth\n",
    "\n",
    "print('x =',x,'y =', y)\n",
    "\n",
    "# write here\n",
    "if x == 0 and y == 0:\n",
    "    print('origin')\n",
    "elif x == 0:\n",
    "    print('ordinate')\n",
    "elif x > 0:\n",
    "    if y == 0:\n",
    "        print('abscissa')\n",
    "    elif y > 0:\n",
    "        print('first quadrant')\n",
    "    else:\n",
    "        print('fourth quadrant')\n",
    "else:\n",
    "    if y == 0:\n",
    "        print('abscissa')\n",
    "    elif y > 0:\n",
    "        print('second quadrant')\n",
    "    else:\n",
    "        print('third quadrant')"
   ]
  },
  {
   "cell_type": "raw",
   "id": "df678b84",
   "metadata": {
    "format": "text/html"
   },
   "source": [
    "</div>"
   ]
  },
  {
   "cell_type": "code",
   "execution_count": 14,
   "metadata": {},
   "outputs": [],
   "source": [
    "\n",
    "x,y = 0,0     # origin\n",
    "#x,y = 0,5    # ordinate\n",
    "#x,y = 5,0    # abscissa\n",
    "#x,y = 5,9    # first\n",
    "#x,y = -5,9   # second\n",
    "#x,y = -5,-9  # third\n",
    "#x,y = 5,-9   # fourth\n",
    "\n",
    "print('x =',x,'y =', y)\n",
    "\n",
    "# write here\n",
    "\n"
   ]
  },
  {
   "cell_type": "markdown",
   "metadata": {},
   "source": [
    "### Esercise - abscissae and ordinates 2\n",
    "\n",
    "If we wanted to be even more specific, instead of a generic 'absissa' or 'ordinate', we might print:\n",
    "\n",
    "* 'abscissa between the first and fourth quadrant'\n",
    "* 'abscissa between the second and third quadrant'\n",
    "* 'ordinate between the first and the second quadrant'\n",
    "* 'ordinate between the third and the fourth quadrant'\n",
    "\n",
    "Copy the code from the previous exercise, and modify it to also consider such cases."
   ]
  },
  {
   "cell_type": "raw",
   "id": "cf33b314",
   "metadata": {
    "format": "text/html"
   },
   "source": [
    "<a  class=\"jupman-sol jupman-sol-toggler\" \n",
    " onclick=\"jupman.toggleSolution(this);\" \n",
    " data-jupman-show=\"Show solution\" data-jupman-hide=\"Hide\">Show solution</a><div class=\"jupman-sol jupman-sol-code\" style=\"display:none\">  "
   ]
  },
  {
   "cell_type": "code",
   "execution_count": 15,
   "metadata": {},
   "outputs": [
    {
     "name": "stdout",
     "output_type": "stream",
     "text": [
      "x = 0 y = 0\n",
      "origin\n"
     ]
    }
   ],
   "source": [
    "\n",
    "x,y = 0,0     # origin\n",
    "#x,y = 0,5    # ordinate between the first and the second quadrant\n",
    "#x,y = 0,-5   # ordinate between the third and the fourth quadrant\n",
    "#x,y = 5,0    # abscissa between the first and the fourth quadrant\n",
    "#x,y = -5,0   # abscissa between the second and the third quadrant\n",
    "#x,y = 5,9    # first\n",
    "#x,y = -5,9   # second\n",
    "#x,y = -5,-9  # third\n",
    "#x,y = 5,-9   # fourth\n",
    "\n",
    "print('x =',x,'y =', y)\n",
    "\n",
    "# write here\n",
    "if x == 0 and y == 0:\n",
    "    print('origin')\n",
    "elif x == 0:\n",
    "    if y > 0:\n",
    "        print('ordinate between the first and the second quadrant')\n",
    "    else:\n",
    "        print('ordinate between the third and the fourth quadrant')\n",
    "elif x > 0:\n",
    "    if y == 0:        \n",
    "        print('abscissa between the first and the fourth quadrant')\n",
    "    elif y > 0:\n",
    "        print('first quadrant')\n",
    "    else:\n",
    "        print('fourth quadrant')\n",
    "else:\n",
    "    if y == 0:        \n",
    "        print('abscissa between the second and the third quadrant')\n",
    "    elif y > 0:\n",
    "        print('second quadrant')\n",
    "    else:\n",
    "        print('third quadrant')"
   ]
  },
  {
   "cell_type": "raw",
   "id": "7f4d2995",
   "metadata": {
    "format": "text/html"
   },
   "source": [
    "</div>"
   ]
  },
  {
   "cell_type": "code",
   "execution_count": 15,
   "metadata": {},
   "outputs": [],
   "source": [
    "\n",
    "x,y = 0,0     # origin\n",
    "#x,y = 0,5    # ordinate between the first and the second quadrant\n",
    "#x,y = 0,-5   # ordinate between the third and the fourth quadrant\n",
    "#x,y = 5,0    # abscissa between the first and the fourth quadrant\n",
    "#x,y = -5,0   # abscissa between the second and the third quadrant\n",
    "#x,y = 5,9    # first\n",
    "#x,y = -5,9   # second\n",
    "#x,y = -5,-9  # third\n",
    "#x,y = 5,-9   # fourth\n",
    "\n",
    "print('x =',x,'y =', y)\n",
    "\n",
    "# write here\n",
    "\n"
   ]
  },
  {
   "cell_type": "markdown",
   "metadata": {},
   "source": [
    "### Exercise - bus\n",
    "\n",
    "You must catch the bus, and only have few minutes left. To do the trip:\n",
    "\n",
    "* you need the backpack, otherwise you remain at home\n",
    "* you also need money for the ticket or the transport card or both, otherwise you remain at home.\n",
    "\n",
    "Write some code which given three variables `backpack`, `money` and `card`, prints what you see in the comments according to the various cases. Once you're done writing the code, test the results by removing comments from the assignments.\n",
    "\n",
    "* **HINT**: to keep track of the found objects, try creating a list of strings which holds the objects"
   ]
  },
  {
   "cell_type": "raw",
   "id": "b11dd573",
   "metadata": {
    "format": "text/html"
   },
   "source": [
    "<a  class=\"jupman-sol jupman-sol-toggler\" \n",
    " onclick=\"jupman.toggleSolution(this);\" \n",
    " data-jupman-show=\"Show solution\" data-jupman-hide=\"Hide\">Show solution</a><div class=\"jupman-sol jupman-sol-code\" style=\"display:none\">  "
   ]
  },
  {
   "cell_type": "code",
   "execution_count": 16,
   "metadata": {},
   "outputs": [
    {
     "name": "stdout",
     "output_type": "stream",
     "text": [
      "I have no money !\n",
      "I've found: backpack,card\n",
      "I can go !\n"
     ]
    }
   ],
   "source": [
    "\n",
    "backpack, money, card = True, False, True\n",
    "# I have no money !\n",
    "# I've found: backpack,card\n",
    "# I can go !\n",
    "\n",
    "#backpack, money, card = False, False, True\n",
    "# I don't have the backpack, I can't go !\n",
    "\n",
    "#backpack, money, card = True, True, False\n",
    "# I have no card !\n",
    "# I've found: backpack,money\n",
    "# I can go !\n",
    "\n",
    "#backpack, money, card = True, True, True\n",
    "# I've found: backpack,money,card\n",
    "# I can go !\n",
    "\n",
    "#backpack, money, card = True, False, False\n",
    "# I have no money !\n",
    "# I have no card !\n",
    "# I don't have the card nor the money, I can't go !\n",
    "\n",
    "\n",
    "# write here\n",
    "\n",
    "found = []\n",
    "if backpack:\n",
    "    found.append('backpack')\n",
    "    if money: \n",
    "        found.append('money')\n",
    "    else:        \n",
    "        print('I have no money !')\n",
    "    if card:\n",
    "        found.append('card')\n",
    "    else:\n",
    "        print('I have no card !')\n",
    "    if money or card:\n",
    "        print(\"I've found:\", ','.join(found))\n",
    "        print('I can go !')\n",
    "    else:\n",
    "        print(\"I don't have the card nor the money, I can't go !\")\n",
    "else:\n",
    "    print(\"I don't have the backpack, I can't go !\")\n",
    "\n"
   ]
  },
  {
   "cell_type": "raw",
   "id": "d2abced1",
   "metadata": {
    "format": "text/html"
   },
   "source": [
    "</div>"
   ]
  },
  {
   "cell_type": "code",
   "execution_count": 16,
   "metadata": {},
   "outputs": [],
   "source": [
    "\n",
    "backpack, money, card = True, False, True\n",
    "# I have no money !\n",
    "# I've found: backpack,card\n",
    "# I can go !\n",
    "\n",
    "#backpack, money, card = False, False, True\n",
    "# I don't have the backpack, I can't go !\n",
    "\n",
    "#backpack, money, card = True, True, False\n",
    "# I have no card !\n",
    "# I've found: backpack,money\n",
    "# I can go !\n",
    "\n",
    "#backpack, money, card = True, True, True\n",
    "# I've found: backpack,money,card\n",
    "# I can go !\n",
    "\n",
    "#backpack, money, card = True, False, False\n",
    "# I have no money !\n",
    "# I have no card !\n",
    "# I don't have the card nor the money, I can't go !\n",
    "\n",
    "\n",
    "# write here\n",
    "\n"
   ]
  },
  {
   "cell_type": "markdown",
   "metadata": {},
   "source": [
    "### Exercise - chronometer\n",
    "\n",
    "A chronometer is counting the hours, minutes and seconds since the midnight of a certain day in a string `chronometer`, in which the numbers of hours, minutes and seconds are separated by colon `:`\n",
    "\n",
    "Write some code which prints the day phase according to the number of passed hours:\n",
    "\n",
    "- from  6:00 included to 12:00 excluded: prints `morning`\n",
    "- from 12:00 included to 18:00 excluded: prints `afternoon`\n",
    "- from 18:00 included to 21:00 excluded: prints `evening`\n",
    "- from 21:00 included to  6:00 excluded: prints `night`\n",
    "\n",
    "\n",
    "* **USE** `elif` with multiple boolean expressions\n",
    "* Your code **MUST** work even if the chronometer goes beyond 23:59:59, see examples\n",
    "* **HINT**: use the modulo operator `%` for having hours which only go from 0 to 23"
   ]
  },
  {
   "cell_type": "raw",
   "id": "4f8bd894",
   "metadata": {
    "format": "text/html"
   },
   "source": [
    "<a  class=\"jupman-sol jupman-sol-toggler\" \n",
    " onclick=\"jupman.toggleSolution(this);\" \n",
    " data-jupman-show=\"Show solution\" data-jupman-hide=\"Hide\">Show solution</a><div class=\"jupman-sol jupman-sol-code\" style=\"display:none\">  "
   ]
  },
  {
   "cell_type": "code",
   "execution_count": 17,
   "metadata": {},
   "outputs": [
    {
     "name": "stdout",
     "output_type": "stream",
     "text": [
      "morning\n"
     ]
    }
   ],
   "source": [
    "\n",
    "chronometer = '10:23:43'   # morning\n",
    "#chronometer = '12:00:00'  # afternoon\n",
    "#chronometer = '15:56:02'  # afternoon\n",
    "#chronometer = '19:23:27'  # evening\n",
    "#chronometer = '21:45:15'  # night\n",
    "#chronometer = '02:45:15'  # night\n",
    "#chronometer = '27:45:30'  # night\n",
    "#chronometer = '32:28:30'  # morning\n",
    "\n",
    "# write here\n",
    "hour = int(chronometer.split(':')[0]) % 24\n",
    "\n",
    "if hour >= 6 and hour < 12:\n",
    "    print('morning')\n",
    "elif hour >=12 and hour < 18:\n",
    "    print('afternoon')\n",
    "elif hour >=18 and hour < 21:\n",
    "    print('evening')\n",
    "else:\n",
    "    print('night')"
   ]
  },
  {
   "cell_type": "raw",
   "id": "bc165aa9",
   "metadata": {
    "format": "text/html"
   },
   "source": [
    "</div>"
   ]
  },
  {
   "cell_type": "code",
   "execution_count": 17,
   "metadata": {},
   "outputs": [],
   "source": [
    "\n",
    "chronometer = '10:23:43'   # morning\n",
    "#chronometer = '12:00:00'  # afternoon\n",
    "#chronometer = '15:56:02'  # afternoon\n",
    "#chronometer = '19:23:27'  # evening\n",
    "#chronometer = '21:45:15'  # night\n",
    "#chronometer = '02:45:15'  # night\n",
    "#chronometer = '27:45:30'  # night\n",
    "#chronometer = '32:28:30'  # morning\n",
    "\n",
    "# write here\n",
    "\n"
   ]
  },
  {
   "cell_type": "markdown",
   "metadata": {},
   "source": [
    "## Questions - Are they equivalent? \n",
    "\n",
    "Look at the following code fragments: each contains two parts, A and B. For each value of `x`, try guessing whether part A will print exactly the same result printed by code in part B\n",
    "\n",
    "* **FIRST** think about the answer\n",
    "* **THEN** try executing with each of the suggested values of `x`"
   ]
  },
  {
   "cell_type": "markdown",
   "metadata": {},
   "source": [
    "### Are they equivalent?  - inside outside 1\n",
    "\n",
    "\n",
    "\n",
    "```python\n",
    "x = 3\n",
    "#x = 4\n",
    "#x = 5\n",
    "\n",
    "print('x =',x)\n",
    "\n",
    "print('A:')\n",
    "if x > 3:\n",
    "    if x < 5:\n",
    "        print('inside')\n",
    "    else:\n",
    "        print('outside')\n",
    "else:\n",
    "    print('outside')\n",
    "        \n",
    "print('B:')\n",
    "if x > 3 and x < 5:\n",
    "    print('inside')\n",
    "else:\n",
    "    print('outside')\n",
    "```\n"
   ]
  },
  {
   "cell_type": "markdown",
   "metadata": {},
   "source": [
    "### Are they equivalent?  - stars planets\n",
    "\n",
    "\n",
    "```python\n",
    "x = 2\n",
    "#x = 3\n",
    "#x = 4\n",
    "\n",
    "print('x =', x)\n",
    "\n",
    "print('A:')\n",
    "if not x > 3:\n",
    "    print('stars')\n",
    "else:\n",
    "    print('planets')\n",
    "    \n",
    "print('B:')\n",
    "if x > 3:\n",
    "    print('planets')\n",
    "else:\n",
    "    print('stars')\n",
    "```\n"
   ]
  },
  {
   "cell_type": "markdown",
   "metadata": {},
   "source": [
    "### Are they equivalent?  - green red\n",
    "\n",
    "```python\n",
    "x = 10\n",
    "#x = 5\n",
    "#x = 0\n",
    "\n",
    "print('x =',x)\n",
    "\n",
    "print('A:')\n",
    "if x >= 5: \n",
    "    print('green')\n",
    "    if x >= 10:\n",
    "        print('red')\n",
    "\n",
    "    \n",
    "print('B:')\n",
    "if x >= 10:\n",
    "    if x >= 5:\n",
    "        print('green')\n",
    "    print('red')\n",
    "```    "
   ]
  },
  {
   "cell_type": "markdown",
   "metadata": {},
   "source": [
    "### Are they equivalent? - circles squares\n",
    "\n",
    "```python\n",
    "x = 4\n",
    "#x = 3\n",
    "#x = 2\n",
    "#x = 1\n",
    "#x = 0\n",
    "\n",
    "print('x =', x)\n",
    "\n",
    "print('A:')\n",
    "if x > 3:\n",
    "    print('circles')\n",
    "else:\n",
    "    if x > 1:\n",
    "        print('squares')\n",
    "    else:\n",
    "        print('triangles')\n",
    "\n",
    "print('B:')        \n",
    "if x <= 1:\n",
    "    print('triangles')\n",
    "elif x <= 3:\n",
    "    print('squares')\n",
    "else:\n",
    "    print('circles')\n",
    "\n",
    "```"
   ]
  },
  {
   "cell_type": "markdown",
   "metadata": {},
   "source": [
    "### Are they equivalent?  - inside outside 2\n",
    "\n",
    "```python\n",
    "\n",
    "x = 7\n",
    "#x = 0\n",
    "#x = 15\n",
    "\n",
    "print('x =', x)\n",
    "\n",
    "print('A:')\n",
    "if x > 5:\n",
    "    if x < 10:\n",
    "        print('inside')\n",
    "    else:\n",
    "        print('outside')\n",
    "else:\n",
    "    print('outside')\n",
    "\n",
    "print('B:')        \n",
    "if not x > 5 and not x < 10:\n",
    "    print('outside')\n",
    "else:\n",
    "    print('inside')\n",
    "```"
   ]
  },
  {
   "cell_type": "markdown",
   "metadata": {},
   "source": [
    "### Are they equivalent? - Ciabanga\n",
    "\n",
    "\n",
    "```python\n",
    "x = 4\n",
    "#x = 5\n",
    "#x = 6\n",
    "#x = 9\n",
    "#x = 10\n",
    "#x = 11\n",
    "\n",
    "print('x =', x)\n",
    "\n",
    "print('A:')\n",
    "if x < 6:\n",
    "    print('Ciabanga!')\n",
    "else:\n",
    "    if x >= 10:        \n",
    "        print('Ciabanga!')\n",
    "           \n",
    "print('B:')\n",
    "if x <= 5 or not x < 10:\n",
    "    print('Ciabanga!')\n",
    "```"
   ]
  },
  {
   "cell_type": "markdown",
   "metadata": {},
   "source": [
    "### Exercise - The maximum\n",
    "\n",
    "Write some code which prints the maximum value among the numbers `x`, `y` and `z`\n",
    "\n",
    "* use **nested ifs**\n",
    "* **DO NOT** use the function `max`\n",
    "* **DO NOT** create variables named `max` (it would violate the [V Commandment](https://en.softpython.org/commandments.html#V-COMMANDMENT): you shall never ever redefine system functions)"
   ]
  },
  {
   "cell_type": "raw",
   "id": "d986b94a",
   "metadata": {
    "format": "text/html"
   },
   "source": [
    "<a  class=\"jupman-sol jupman-sol-toggler\" \n",
    " onclick=\"jupman.toggleSolution(this);\" \n",
    " data-jupman-show=\"Show solution\" data-jupman-hide=\"Hide\">Show solution</a><div class=\"jupman-sol jupman-sol-code\" style=\"display:none\">  "
   ]
  },
  {
   "cell_type": "code",
   "execution_count": 18,
   "metadata": {},
   "outputs": [
    {
     "name": "stdout",
     "output_type": "stream",
     "text": [
      "3\n"
     ]
    }
   ],
   "source": [
    "\n",
    "x,y,z = 1,2,3\n",
    "#x,y,z = 1,3,2\n",
    "#x,y,z = 2,1,3\n",
    "#x,y,z = 2,3,1\n",
    "#x,y,z = 3,1,2\n",
    "#x,y,z = 3,2,1\n",
    "\n",
    "# write here\n",
    "\n",
    "if x > y:    \n",
    "    if x > z:\n",
    "        print(x)\n",
    "    else:\n",
    "        print(z)\n",
    "elif y > z:\n",
    "    print(y)\n",
    "else:\n",
    "    print(z)"
   ]
  },
  {
   "cell_type": "raw",
   "id": "8181cced",
   "metadata": {
    "format": "text/html"
   },
   "source": [
    "</div>"
   ]
  },
  {
   "cell_type": "code",
   "execution_count": 18,
   "metadata": {},
   "outputs": [],
   "source": [
    "\n",
    "x,y,z = 1,2,3\n",
    "#x,y,z = 1,3,2\n",
    "#x,y,z = 2,1,3\n",
    "#x,y,z = 2,3,1\n",
    "#x,y,z = 3,1,2\n",
    "#x,y,z = 3,2,1\n",
    "\n",
    "# write here\n",
    "\n"
   ]
  },
  {
   "cell_type": "markdown",
   "metadata": {},
   "source": [
    "## Ternary operator\n",
    "\n",
    "In some cases, initializing a variable with different values according to a condition may result convenient.\n",
    "\n",
    "**Example**:\n",
    "\n",
    "The discount which is applied to a purchase depends on the purchased quantity. Create a variable `discount` by setting its value to `0` if the variable `expense` is less than 100€, or `10%` if it is greater."
   ]
  },
  {
   "cell_type": "code",
   "execution_count": 19,
   "metadata": {},
   "outputs": [
    {
     "name": "stdout",
     "output_type": "stream",
     "text": [
      "expense: 200   discount: 0.1\n"
     ]
    }
   ],
   "source": [
    "expense = 200\n",
    "discount = 0\n",
    "\n",
    "if expense > 100:\n",
    "    discount = 0.1\n",
    "else:\n",
    "    discount = 0 # not necessary\n",
    "\n",
    "print(\"expense:\", expense, \"  discount:\", discount)"
   ]
  },
  {
   "cell_type": "markdown",
   "metadata": {},
   "source": [
    "The previous code can be written more concisely like this:"
   ]
  },
  {
   "cell_type": "code",
   "execution_count": 20,
   "metadata": {},
   "outputs": [
    {
     "name": "stdout",
     "output_type": "stream",
     "text": [
      "expense: 200   discount: 0.1\n"
     ]
    }
   ],
   "source": [
    "expense = 200\n",
    "discount = 0.1 if expense > 100 else 0\n",
    "print(\"expense:\", expense, \"  discount:\", discount)"
   ]
  },
  {
   "cell_type": "markdown",
   "metadata": {},
   "source": [
    "The syntax of the ternary operator is:"
   ]
  },
  {
   "cell_type": "markdown",
   "metadata": {},
   "source": [
    "```python\n",
    "VARIABLE = VALUE if CONDITION else ANOTHER_VALUE\n",
    "```"
   ]
  },
  {
   "cell_type": "markdown",
   "metadata": {},
   "source": [
    "which means that `VARIABLE` is initialized to `VALUE` if `CONDITION` is `True`, otherwise it is initialized to `OTHER_VALUE`"
   ]
  },
  {
   "cell_type": "markdown",
   "metadata": {},
   "source": [
    "### Questions ternary ifs\n",
    "\n",
    "**QUESTION**: Look at the following code fragments, and for each try guessing the result it produces (or if it gives an error):\n",
    "\n",
    "\n",
    "1.  ```python\n",
    "    y = 3\n",
    "    x = 8 if y < 2 else 9\n",
    "    print(x)\n",
    "    ```\n",
    "1.  ```python\n",
    "    y = 1\n",
    "    z = 2 if y < 3\n",
    "    ```\n",
    "1.  ```python\n",
    "    y = 10\n",
    "    z = 2 if y < 3 elif y > 5 9\n",
    "    ```    "
   ]
  },
  {
   "cell_type": "markdown",
   "metadata": {},
   "source": [
    "### Exercise - shoes\n",
    "\n",
    "Write some code which given the numerical variable `shoes`, if `shoes` is less than 10 it gets incremented by `1`, otherwise it is decremented by `1`\n",
    "\n",
    "\n",
    "* **USE ONLY** the **ternary if**\n",
    "* Your code must work for _any_ value of `shoes`\n",
    "\n",
    "Example 1 - given:\n",
    "\n",
    "```python\n",
    "shoes = 2\n",
    "```\n",
    "\n",
    "After your code, it must result:\n",
    "\n",
    "```python\n",
    ">>> print(shoes)\n",
    "3\n",
    "```\n",
    "\n",
    "Example 2 - given:\n",
    "\n",
    "```python\n",
    "shoes = 16\n",
    "```\n",
    "\n",
    "After your code, it must result:\n",
    "\n",
    "```python\n",
    ">>> print(shoes)\n",
    "15\n",
    "```"
   ]
  },
  {
   "cell_type": "raw",
   "id": "aff78035",
   "metadata": {
    "format": "text/html"
   },
   "source": [
    "<a  class=\"jupman-sol jupman-sol-toggler\" \n",
    " onclick=\"jupman.toggleSolution(this);\" \n",
    " data-jupman-show=\"Show solution\" data-jupman-hide=\"Hide\">Show solution</a><div class=\"jupman-sol jupman-sol-code\" style=\"display:none\">  "
   ]
  },
  {
   "cell_type": "code",
   "execution_count": 21,
   "metadata": {},
   "outputs": [
    {
     "name": "stdout",
     "output_type": "stream",
     "text": [
      "shoes = 3\n"
     ]
    }
   ],
   "source": [
    "\n",
    "shoes = 2\n",
    "#shoes = 16\n",
    "\n",
    "# write here\n",
    "\n",
    "shoes = shoes + 1 if shoes < 10 else shoes - 1\n",
    "print('shoes =', shoes)"
   ]
  },
  {
   "cell_type": "raw",
   "id": "5032cd0e",
   "metadata": {
    "format": "text/html"
   },
   "source": [
    "</div>"
   ]
  },
  {
   "cell_type": "code",
   "execution_count": 21,
   "metadata": {},
   "outputs": [],
   "source": [
    "\n",
    "shoes = 2\n",
    "#shoes = 16\n",
    "\n",
    "# write here\n",
    "\n"
   ]
  },
  {
   "cell_type": "markdown",
   "metadata": {},
   "source": [
    "### Exercise - the little train\n",
    "\n",
    "Write some code which given 3 strings `sa`, `sb` and `sc` assigns the string `CHOO CHOO` to variable `x` if it is possible to compose `sa`, `sb` and `sc` to obtain the writing  `'the little train'`, otherwise assigns the string `':-('`\n",
    "\n",
    "* **USE** a ternay if\n",
    "* your code must work for **any** triplet of strings\n",
    "* **NOTE**: we are only interested to know IF it is possible to compose writings like `'the little train'`, we are NOT interested in which order they will get composed\n",
    "* **HINT**: you are allowed to create a helper list\n",
    "\n",
    "Example 1 - given:\n",
    "\n",
    "```python\n",
    "sa,sb,sc = \"little\",\"train\",\"the\"\n",
    "```\n",
    "\n",
    "after your code, it must result:\n",
    "\n",
    "```\n",
    ">>> print(x)\n",
    "CHOO CHOO\n",
    "```\n",
    "\n",
    "Example 2 - given:\n",
    "\n",
    "```python\n",
    "sa,sb,sc = \"quattro\",\"ni\",\"no\"\n",
    "```\n",
    "\n",
    "after your code, it must result:\n",
    "\n",
    "```python\n",
    ">>> print(x)\n",
    ":-(\n",
    "```"
   ]
  },
  {
   "cell_type": "raw",
   "id": "6e29472c",
   "metadata": {
    "format": "text/html"
   },
   "source": [
    "<a  class=\"jupman-sol jupman-sol-toggler\" \n",
    " onclick=\"jupman.toggleSolution(this);\" \n",
    " data-jupman-show=\"Show solution\" data-jupman-hide=\"Hide\">Show solution</a><div class=\"jupman-sol jupman-sol-code\" style=\"display:none\">  "
   ]
  },
  {
   "cell_type": "code",
   "execution_count": 22,
   "metadata": {},
   "outputs": [
    {
     "name": "stdout",
     "output_type": "stream",
     "text": [
      "CHOO CHOO\n"
     ]
    }
   ],
   "source": [
    "\n",
    "sa,sb,sc = \"little\",\"train\",\"the\"   # CHOO CHOO\n",
    "#sa,sb,sc = \"little\",\"the\",\"train\"  # CHOO CHOO\n",
    "#sa,sb,sc = \"a\",\"little\",\"train\"    # :-(\n",
    "#sa,sb,sc = \"train\",\"no\",\"no\"       # :-(\n",
    "\n",
    "\n",
    "# write here\n",
    "words = [sa,sb,sc]\n",
    "x = 'CHOO CHOO' if 'the' in words and 'little' in words and 'train' in words else ':-('\n",
    "\n",
    "print(x)"
   ]
  },
  {
   "cell_type": "raw",
   "id": "57da28a1",
   "metadata": {
    "format": "text/html"
   },
   "source": [
    "</div>"
   ]
  },
  {
   "cell_type": "code",
   "execution_count": 22,
   "metadata": {},
   "outputs": [],
   "source": [
    "\n",
    "sa,sb,sc = \"little\",\"train\",\"the\"   # CHOO CHOO\n",
    "#sa,sb,sc = \"little\",\"the\",\"train\"  # CHOO CHOO\n",
    "#sa,sb,sc = \"a\",\"little\",\"train\"    # :-(\n",
    "#sa,sb,sc = \"train\",\"no\",\"no\"       # :-(\n",
    "\n",
    "\n",
    "# write here\n",
    "\n"
   ]
  },
  {
   "cell_type": "markdown",
   "metadata": {},
   "source": [
    "## Continue\n",
    "\n",
    "Go on with [if - first challenges](https://en.softpython.org/if/if2-chal.html)"
   ]
  }
 ],
 "metadata": {
  "celltoolbar": "Edit Metadata",
  "kernelspec": {
   "display_name": "Python 3 (ipykernel)",
   "language": "python",
   "name": "python3"
  },
  "language_info": {
   "codemirror_mode": {
    "name": "ipython",
    "version": 3
   },
   "file_extension": ".py",
   "mimetype": "text/x-python",
   "name": "python",
   "nbconvert_exporter": "python",
   "pygments_lexer": "ipython3",
   "version": "3.7.17"
  },
  "toc": {
   "base_numbering": 1,
   "nav_menu": {},
   "number_sections": false,
   "sideBar": true,
   "skip_h1_title": false,
   "title_cell": "Table of Contents",
   "title_sidebar": "Contents",
   "toc_cell": false,
   "toc_position": {},
   "toc_section_display": true,
   "toc_window_display": true
  }
 },
 "nbformat": 4,
 "nbformat_minor": 2
}
